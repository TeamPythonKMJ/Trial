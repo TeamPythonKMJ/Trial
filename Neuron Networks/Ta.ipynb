{
 "cells": [
  {
   "cell_type": "markdown",
   "metadata": {},
   "source": [
    "### 1. Getting a dataset\n",
    "\n",
    "We have 12 datasets to explore in this notebook to predict the Young's Modulus with a three-layer neuron networks model with 2000 epochs. "
   ]
  },
  {
   "cell_type": "code",
   "execution_count": 1,
   "metadata": {},
   "outputs": [
    {
     "name": "stderr",
     "output_type": "stream",
     "text": [
      "C:\\Users\\Kayla Yano\\anaconda3\\envs\\PythonData\\lib\\site-packages\\tensorflow\\python\\framework\\dtypes.py:516: FutureWarning: Passing (type, 1) or '1type' as a synonym of type is deprecated; in a future version of numpy, it will be understood as (type, (1,)) / '(1,)type'.\n",
      "  _np_qint8 = np.dtype([(\"qint8\", np.int8, 1)])\n",
      "C:\\Users\\Kayla Yano\\anaconda3\\envs\\PythonData\\lib\\site-packages\\tensorflow\\python\\framework\\dtypes.py:517: FutureWarning: Passing (type, 1) or '1type' as a synonym of type is deprecated; in a future version of numpy, it will be understood as (type, (1,)) / '(1,)type'.\n",
      "  _np_quint8 = np.dtype([(\"quint8\", np.uint8, 1)])\n",
      "C:\\Users\\Kayla Yano\\anaconda3\\envs\\PythonData\\lib\\site-packages\\tensorflow\\python\\framework\\dtypes.py:518: FutureWarning: Passing (type, 1) or '1type' as a synonym of type is deprecated; in a future version of numpy, it will be understood as (type, (1,)) / '(1,)type'.\n",
      "  _np_qint16 = np.dtype([(\"qint16\", np.int16, 1)])\n",
      "C:\\Users\\Kayla Yano\\anaconda3\\envs\\PythonData\\lib\\site-packages\\tensorflow\\python\\framework\\dtypes.py:519: FutureWarning: Passing (type, 1) or '1type' as a synonym of type is deprecated; in a future version of numpy, it will be understood as (type, (1,)) / '(1,)type'.\n",
      "  _np_quint16 = np.dtype([(\"quint16\", np.uint16, 1)])\n",
      "C:\\Users\\Kayla Yano\\anaconda3\\envs\\PythonData\\lib\\site-packages\\tensorflow\\python\\framework\\dtypes.py:520: FutureWarning: Passing (type, 1) or '1type' as a synonym of type is deprecated; in a future version of numpy, it will be understood as (type, (1,)) / '(1,)type'.\n",
      "  _np_qint32 = np.dtype([(\"qint32\", np.int32, 1)])\n",
      "C:\\Users\\Kayla Yano\\anaconda3\\envs\\PythonData\\lib\\site-packages\\tensorflow\\python\\framework\\dtypes.py:525: FutureWarning: Passing (type, 1) or '1type' as a synonym of type is deprecated; in a future version of numpy, it will be understood as (type, (1,)) / '(1,)type'.\n",
      "  np_resource = np.dtype([(\"resource\", np.ubyte, 1)])\n",
      "C:\\Users\\Kayla Yano\\anaconda3\\envs\\PythonData\\lib\\site-packages\\tensorboard\\compat\\tensorflow_stub\\dtypes.py:541: FutureWarning: Passing (type, 1) or '1type' as a synonym of type is deprecated; in a future version of numpy, it will be understood as (type, (1,)) / '(1,)type'.\n",
      "  _np_qint8 = np.dtype([(\"qint8\", np.int8, 1)])\n",
      "C:\\Users\\Kayla Yano\\anaconda3\\envs\\PythonData\\lib\\site-packages\\tensorboard\\compat\\tensorflow_stub\\dtypes.py:542: FutureWarning: Passing (type, 1) or '1type' as a synonym of type is deprecated; in a future version of numpy, it will be understood as (type, (1,)) / '(1,)type'.\n",
      "  _np_quint8 = np.dtype([(\"quint8\", np.uint8, 1)])\n",
      "C:\\Users\\Kayla Yano\\anaconda3\\envs\\PythonData\\lib\\site-packages\\tensorboard\\compat\\tensorflow_stub\\dtypes.py:543: FutureWarning: Passing (type, 1) or '1type' as a synonym of type is deprecated; in a future version of numpy, it will be understood as (type, (1,)) / '(1,)type'.\n",
      "  _np_qint16 = np.dtype([(\"qint16\", np.int16, 1)])\n",
      "C:\\Users\\Kayla Yano\\anaconda3\\envs\\PythonData\\lib\\site-packages\\tensorboard\\compat\\tensorflow_stub\\dtypes.py:544: FutureWarning: Passing (type, 1) or '1type' as a synonym of type is deprecated; in a future version of numpy, it will be understood as (type, (1,)) / '(1,)type'.\n",
      "  _np_quint16 = np.dtype([(\"quint16\", np.uint16, 1)])\n",
      "C:\\Users\\Kayla Yano\\anaconda3\\envs\\PythonData\\lib\\site-packages\\tensorboard\\compat\\tensorflow_stub\\dtypes.py:545: FutureWarning: Passing (type, 1) or '1type' as a synonym of type is deprecated; in a future version of numpy, it will be understood as (type, (1,)) / '(1,)type'.\n",
      "  _np_qint32 = np.dtype([(\"qint32\", np.int32, 1)])\n",
      "C:\\Users\\Kayla Yano\\anaconda3\\envs\\PythonData\\lib\\site-packages\\tensorboard\\compat\\tensorflow_stub\\dtypes.py:550: FutureWarning: Passing (type, 1) or '1type' as a synonym of type is deprecated; in a future version of numpy, it will be understood as (type, (1,)) / '(1,)type'.\n",
      "  np_resource = np.dtype([(\"resource\", np.ubyte, 1)])\n"
     ]
    }
   ],
   "source": [
    "import pymatgen as pymat\n",
    "import mendeleev as mendel\n",
    "import pandas as pd\n",
    "import numpy as np\n",
    "from pathlib import Path\n",
    "import tensorflow as tf\n",
    "import tensorflow.keras\n",
    "from tensorflow.keras import initializers\n",
    "from tensorflow.keras.layers import Dense\n",
    "from tensorflow.keras.models import Sequential\n",
    "from tensorflow.keras import optimizers\n",
    "\n",
    "import sys\n",
    "import os\n",
    "sys.path.insert(0, '../src/')\n",
    "\n",
    "%matplotlib inline\n",
    "import matplotlib.pyplot as plt"
   ]
  },
  {
   "cell_type": "code",
   "execution_count": 2,
   "metadata": {
    "scrolled": true
   },
   "outputs": [
    {
     "data": {
      "text/html": [
       "<div>\n",
       "<style scoped>\n",
       "    .dataframe tbody tr th:only-of-type {\n",
       "        vertical-align: middle;\n",
       "    }\n",
       "\n",
       "    .dataframe tbody tr th {\n",
       "        vertical-align: top;\n",
       "    }\n",
       "\n",
       "    .dataframe thead th {\n",
       "        text-align: right;\n",
       "    }\n",
       "</style>\n",
       "<table border=\"1\" class=\"dataframe\">\n",
       "  <thead>\n",
       "    <tr style=\"text-align: right;\">\n",
       "      <th></th>\n",
       "      <th>Unnamed: 0</th>\n",
       "      <th>mp_id</th>\n",
       "      <th>Formula</th>\n",
       "      <th>Composition</th>\n",
       "      <th>IPF</th>\n",
       "      <th>Density</th>\n",
       "      <th>Elastic_Tensor</th>\n",
       "      <th>E_above_Hull</th>\n",
       "      <th>G_VRH</th>\n",
       "      <th>K_VRH</th>\n",
       "      <th>Elastic_Anisotropy</th>\n",
       "      <th>poisson_ratio</th>\n",
       "      <th>Y_Modulus</th>\n",
       "    </tr>\n",
       "  </thead>\n",
       "  <tbody>\n",
       "    <tr>\n",
       "      <th>0</th>\n",
       "      <td>0</td>\n",
       "      <td>mp-10014</td>\n",
       "      <td>TaS2</td>\n",
       "      <td>{'Ta': 1.0, 'S': 2.0}</td>\n",
       "      <td>0.121404</td>\n",
       "      <td>6.161496</td>\n",
       "      <td>{'G_Reuss': 12.0, 'G_VRH': 23.0, 'G_Voigt': 33...</td>\n",
       "      <td>0.330107</td>\n",
       "      <td>23.0</td>\n",
       "      <td>18.0</td>\n",
       "      <td>1.87</td>\n",
       "      <td>0.06</td>\n",
       "      <td>48.76</td>\n",
       "    </tr>\n",
       "    <tr>\n",
       "      <th>1</th>\n",
       "      <td>1</td>\n",
       "      <td>mp-10142</td>\n",
       "      <td>Ta3B4</td>\n",
       "      <td>{'Ta': 3.0, 'B': 4.0}</td>\n",
       "      <td>0.110338</td>\n",
       "      <td>13.284352</td>\n",
       "      <td>{'G_Reuss': 205.0, 'G_VRH': 208.0, 'G_Voigt': ...</td>\n",
       "      <td>0.000000</td>\n",
       "      <td>208.0</td>\n",
       "      <td>296.0</td>\n",
       "      <td>0.15</td>\n",
       "      <td>0.22</td>\n",
       "      <td>507.52</td>\n",
       "    </tr>\n",
       "    <tr>\n",
       "      <th>2</th>\n",
       "      <td>2</td>\n",
       "      <td>mp-1020</td>\n",
       "      <td>TaRh3</td>\n",
       "      <td>{'Ta': 1.0, 'Rh': 3.0}</td>\n",
       "      <td>0.126101</td>\n",
       "      <td>13.660786</td>\n",
       "      <td>{'G_Reuss': 148.0, 'G_VRH': 153.0, 'G_Voigt': ...</td>\n",
       "      <td>0.000000</td>\n",
       "      <td>153.0</td>\n",
       "      <td>260.0</td>\n",
       "      <td>0.30</td>\n",
       "      <td>0.25</td>\n",
       "      <td>382.50</td>\n",
       "    </tr>\n",
       "    <tr>\n",
       "      <th>3</th>\n",
       "      <td>3</td>\n",
       "      <td>mp-1086</td>\n",
       "      <td>TaC</td>\n",
       "      <td>{'Ta': 1.0, 'C': 1.0}</td>\n",
       "      <td>0.107626</td>\n",
       "      <td>14.234281</td>\n",
       "      <td>{'G_Reuss': 208.0, 'G_VRH': 215.0, 'G_Voigt': ...</td>\n",
       "      <td>0.000000</td>\n",
       "      <td>215.0</td>\n",
       "      <td>324.0</td>\n",
       "      <td>0.30</td>\n",
       "      <td>0.23</td>\n",
       "      <td>528.90</td>\n",
       "    </tr>\n",
       "    <tr>\n",
       "      <th>4</th>\n",
       "      <td>4</td>\n",
       "      <td>mp-1097</td>\n",
       "      <td>TaB</td>\n",
       "      <td>{'Ta': 1.0, 'B': 1.0}</td>\n",
       "      <td>0.114081</td>\n",
       "      <td>13.980922</td>\n",
       "      <td>{'G_Reuss': 210.0, 'G_VRH': 213.0, 'G_Voigt': ...</td>\n",
       "      <td>0.000000</td>\n",
       "      <td>213.0</td>\n",
       "      <td>266.0</td>\n",
       "      <td>0.13</td>\n",
       "      <td>0.18</td>\n",
       "      <td>502.68</td>\n",
       "    </tr>\n",
       "    <tr>\n",
       "      <th>...</th>\n",
       "      <td>...</td>\n",
       "      <td>...</td>\n",
       "      <td>...</td>\n",
       "      <td>...</td>\n",
       "      <td>...</td>\n",
       "      <td>...</td>\n",
       "      <td>...</td>\n",
       "      <td>...</td>\n",
       "      <td>...</td>\n",
       "      <td>...</td>\n",
       "      <td>...</td>\n",
       "      <td>...</td>\n",
       "      <td>...</td>\n",
       "    </tr>\n",
       "    <tr>\n",
       "      <th>152</th>\n",
       "      <td>153</td>\n",
       "      <td>mp-12427</td>\n",
       "      <td>Sr2TaGaO6</td>\n",
       "      <td>{'Sr': 2.0, 'Ta': 1.0, 'Ga': 1.0, 'O': 6.0}</td>\n",
       "      <td>0.581751</td>\n",
       "      <td>6.841673</td>\n",
       "      <td>{'G_Reuss': 91.0, 'G_VRH': 92.0, 'G_Voigt': 93...</td>\n",
       "      <td>0.000000</td>\n",
       "      <td>92.0</td>\n",
       "      <td>151.0</td>\n",
       "      <td>0.12</td>\n",
       "      <td>0.25</td>\n",
       "      <td>230.00</td>\n",
       "    </tr>\n",
       "    <tr>\n",
       "      <th>153</th>\n",
       "      <td>154</td>\n",
       "      <td>mp-23089</td>\n",
       "      <td>SrTa2Bi2O9</td>\n",
       "      <td>{'Sr': 1.0, 'Ta': 2.0, 'Bi': 2.0, 'O': 9.0}</td>\n",
       "      <td>0.493154</td>\n",
       "      <td>8.370517</td>\n",
       "      <td>{'G_Reuss': 59.0, 'G_VRH': 61.0, 'G_Voigt': 62...</td>\n",
       "      <td>0.000000</td>\n",
       "      <td>61.0</td>\n",
       "      <td>83.0</td>\n",
       "      <td>0.30</td>\n",
       "      <td>0.21</td>\n",
       "      <td>147.62</td>\n",
       "    </tr>\n",
       "    <tr>\n",
       "      <th>154</th>\n",
       "      <td>155</td>\n",
       "      <td>mp-31624</td>\n",
       "      <td>Sr2TaCrO6</td>\n",
       "      <td>{'Sr': 2.0, 'Ta': 1.0, 'Cr': 1.0, 'O': 6.0}</td>\n",
       "      <td>0.589968</td>\n",
       "      <td>6.556700</td>\n",
       "      <td>{'G_Reuss': 107.0, 'G_VRH': 107.0, 'G_Voigt': ...</td>\n",
       "      <td>0.000000</td>\n",
       "      <td>107.0</td>\n",
       "      <td>187.0</td>\n",
       "      <td>0.02</td>\n",
       "      <td>0.26</td>\n",
       "      <td>269.64</td>\n",
       "    </tr>\n",
       "    <tr>\n",
       "      <th>155</th>\n",
       "      <td>156</td>\n",
       "      <td>mp-557713</td>\n",
       "      <td>Ba2LaTaO6</td>\n",
       "      <td>{'Ba': 2.0, 'La': 1.0, 'Ta': 1.0, 'O': 6.0}</td>\n",
       "      <td>0.524899</td>\n",
       "      <td>6.914650</td>\n",
       "      <td>{'G_Reuss': 46.0, 'G_VRH': 48.0, 'G_Voigt': 49...</td>\n",
       "      <td>0.010418</td>\n",
       "      <td>48.0</td>\n",
       "      <td>121.0</td>\n",
       "      <td>0.34</td>\n",
       "      <td>0.33</td>\n",
       "      <td>127.68</td>\n",
       "    </tr>\n",
       "    <tr>\n",
       "      <th>156</th>\n",
       "      <td>157</td>\n",
       "      <td>mp-756088</td>\n",
       "      <td>SrTaNO2</td>\n",
       "      <td>{'Sr': 1.0, 'Ta': 1.0, 'N': 1.0, 'O': 2.0}</td>\n",
       "      <td>0.443915</td>\n",
       "      <td>7.794590</td>\n",
       "      <td>{'G_Reuss': 81.0, 'G_VRH': 83.0, 'G_Voigt': 85...</td>\n",
       "      <td>0.269822</td>\n",
       "      <td>83.0</td>\n",
       "      <td>150.0</td>\n",
       "      <td>0.27</td>\n",
       "      <td>0.27</td>\n",
       "      <td>210.82</td>\n",
       "    </tr>\n",
       "  </tbody>\n",
       "</table>\n",
       "<p>157 rows × 13 columns</p>\n",
       "</div>"
      ],
      "text/plain": [
       "     Unnamed: 0      mp_id     Formula  \\\n",
       "0             0   mp-10014        TaS2   \n",
       "1             1   mp-10142       Ta3B4   \n",
       "2             2    mp-1020       TaRh3   \n",
       "3             3    mp-1086         TaC   \n",
       "4             4    mp-1097         TaB   \n",
       "..          ...        ...         ...   \n",
       "152         153   mp-12427   Sr2TaGaO6   \n",
       "153         154   mp-23089  SrTa2Bi2O9   \n",
       "154         155   mp-31624   Sr2TaCrO6   \n",
       "155         156  mp-557713   Ba2LaTaO6   \n",
       "156         157  mp-756088     SrTaNO2   \n",
       "\n",
       "                                     Composition       IPF    Density  \\\n",
       "0                          {'Ta': 1.0, 'S': 2.0}  0.121404   6.161496   \n",
       "1                          {'Ta': 3.0, 'B': 4.0}  0.110338  13.284352   \n",
       "2                         {'Ta': 1.0, 'Rh': 3.0}  0.126101  13.660786   \n",
       "3                          {'Ta': 1.0, 'C': 1.0}  0.107626  14.234281   \n",
       "4                          {'Ta': 1.0, 'B': 1.0}  0.114081  13.980922   \n",
       "..                                           ...       ...        ...   \n",
       "152  {'Sr': 2.0, 'Ta': 1.0, 'Ga': 1.0, 'O': 6.0}  0.581751   6.841673   \n",
       "153  {'Sr': 1.0, 'Ta': 2.0, 'Bi': 2.0, 'O': 9.0}  0.493154   8.370517   \n",
       "154  {'Sr': 2.0, 'Ta': 1.0, 'Cr': 1.0, 'O': 6.0}  0.589968   6.556700   \n",
       "155  {'Ba': 2.0, 'La': 1.0, 'Ta': 1.0, 'O': 6.0}  0.524899   6.914650   \n",
       "156   {'Sr': 1.0, 'Ta': 1.0, 'N': 1.0, 'O': 2.0}  0.443915   7.794590   \n",
       "\n",
       "                                        Elastic_Tensor  E_above_Hull  G_VRH  \\\n",
       "0    {'G_Reuss': 12.0, 'G_VRH': 23.0, 'G_Voigt': 33...      0.330107   23.0   \n",
       "1    {'G_Reuss': 205.0, 'G_VRH': 208.0, 'G_Voigt': ...      0.000000  208.0   \n",
       "2    {'G_Reuss': 148.0, 'G_VRH': 153.0, 'G_Voigt': ...      0.000000  153.0   \n",
       "3    {'G_Reuss': 208.0, 'G_VRH': 215.0, 'G_Voigt': ...      0.000000  215.0   \n",
       "4    {'G_Reuss': 210.0, 'G_VRH': 213.0, 'G_Voigt': ...      0.000000  213.0   \n",
       "..                                                 ...           ...    ...   \n",
       "152  {'G_Reuss': 91.0, 'G_VRH': 92.0, 'G_Voigt': 93...      0.000000   92.0   \n",
       "153  {'G_Reuss': 59.0, 'G_VRH': 61.0, 'G_Voigt': 62...      0.000000   61.0   \n",
       "154  {'G_Reuss': 107.0, 'G_VRH': 107.0, 'G_Voigt': ...      0.000000  107.0   \n",
       "155  {'G_Reuss': 46.0, 'G_VRH': 48.0, 'G_Voigt': 49...      0.010418   48.0   \n",
       "156  {'G_Reuss': 81.0, 'G_VRH': 83.0, 'G_Voigt': 85...      0.269822   83.0   \n",
       "\n",
       "     K_VRH  Elastic_Anisotropy  poisson_ratio  Y_Modulus  \n",
       "0     18.0                1.87           0.06      48.76  \n",
       "1    296.0                0.15           0.22     507.52  \n",
       "2    260.0                0.30           0.25     382.50  \n",
       "3    324.0                0.30           0.23     528.90  \n",
       "4    266.0                0.13           0.18     502.68  \n",
       "..     ...                 ...            ...        ...  \n",
       "152  151.0                0.12           0.25     230.00  \n",
       "153   83.0                0.30           0.21     147.62  \n",
       "154  187.0                0.02           0.26     269.64  \n",
       "155  121.0                0.34           0.33     127.68  \n",
       "156  150.0                0.27           0.27     210.82  \n",
       "\n",
       "[157 rows x 13 columns]"
      ]
     },
     "execution_count": 2,
     "metadata": {},
     "output_type": "execute_result"
    }
   ],
   "source": [
    "# df = pd.read_csv(Path('../All Data Export/Ti_compounds_dataframe.csv'))\n",
    "# df = pd.read_csv(Path('../All Data Export/C_compounds_dataframe.csv'))\n",
    "# df = pd.read_csv(Path('../All Data Export/Cr_compounds_dataframe.csv'))\n",
    "# df = pd.read_csv(Path('../All Data Export/Fe_compounds_dataframe.csv'))\n",
    "# df = pd.read_csv(Path('../All Data Export/Hf_compounds_dataframe.csv'))\n",
    "# df = pd.read_csv(Path('../All Data Export/Mo_compounds_dataframe.csv'))\n",
    "# df = pd.read_csv(Path('../All Data Export/Nb_compounds_dataframe.csv'))\n",
    "# df = pd.read_csv(Path('../All Data Export/Ni_compounds_dataframe.csv'))\n",
    "# df = pd.read_csv(Path('../All Data Export/V_compounds_dataframe.csv'))\n",
    "# df = pd.read_csv(Path('../All Data Export/W_compounds_dataframe.csv'))\n",
    "# df = pd.read_csv(Path('../All Data Export/Zr_compounds_dataframe.csv'))\n",
    "df = pd.read_csv(Path('../All Data Export/Ta_compounds_dataframe.csv'))\n",
    "df"
   ]
  },
  {
   "cell_type": "code",
   "execution_count": 3,
   "metadata": {},
   "outputs": [
    {
     "data": {
      "text/plain": [
       "Index(['Unnamed: 0', 'mp_id', 'Formula', 'Composition', 'IPF', 'Density',\n",
       "       'Elastic_Tensor', 'E_above_Hull', 'G_VRH', 'K_VRH',\n",
       "       'Elastic_Anisotropy', 'poisson_ratio', 'Y_Modulus'],\n",
       "      dtype='object')"
      ]
     },
     "execution_count": 3,
     "metadata": {},
     "output_type": "execute_result"
    }
   ],
   "source": [
    "df.columns"
   ]
  },
  {
   "cell_type": "code",
   "execution_count": 4,
   "metadata": {},
   "outputs": [
    {
     "data": {
      "text/html": [
       "<div>\n",
       "<style scoped>\n",
       "    .dataframe tbody tr th:only-of-type {\n",
       "        vertical-align: middle;\n",
       "    }\n",
       "\n",
       "    .dataframe tbody tr th {\n",
       "        vertical-align: top;\n",
       "    }\n",
       "\n",
       "    .dataframe thead th {\n",
       "        text-align: right;\n",
       "    }\n",
       "</style>\n",
       "<table border=\"1\" class=\"dataframe\">\n",
       "  <thead>\n",
       "    <tr style=\"text-align: right;\">\n",
       "      <th></th>\n",
       "      <th>IPF</th>\n",
       "      <th>Density</th>\n",
       "      <th>E_above_Hull</th>\n",
       "      <th>G_VRH</th>\n",
       "      <th>K_VRH</th>\n",
       "      <th>Elastic_Anisotropy</th>\n",
       "      <th>poisson_ratio</th>\n",
       "      <th>Y_Modulus</th>\n",
       "    </tr>\n",
       "  </thead>\n",
       "  <tbody>\n",
       "    <tr>\n",
       "      <th>0</th>\n",
       "      <td>0.121404</td>\n",
       "      <td>6.161496</td>\n",
       "      <td>0.330107</td>\n",
       "      <td>23.0</td>\n",
       "      <td>18.0</td>\n",
       "      <td>1.87</td>\n",
       "      <td>0.06</td>\n",
       "      <td>48.76</td>\n",
       "    </tr>\n",
       "    <tr>\n",
       "      <th>1</th>\n",
       "      <td>0.110338</td>\n",
       "      <td>13.284352</td>\n",
       "      <td>0.000000</td>\n",
       "      <td>208.0</td>\n",
       "      <td>296.0</td>\n",
       "      <td>0.15</td>\n",
       "      <td>0.22</td>\n",
       "      <td>507.52</td>\n",
       "    </tr>\n",
       "    <tr>\n",
       "      <th>2</th>\n",
       "      <td>0.126101</td>\n",
       "      <td>13.660786</td>\n",
       "      <td>0.000000</td>\n",
       "      <td>153.0</td>\n",
       "      <td>260.0</td>\n",
       "      <td>0.30</td>\n",
       "      <td>0.25</td>\n",
       "      <td>382.50</td>\n",
       "    </tr>\n",
       "    <tr>\n",
       "      <th>3</th>\n",
       "      <td>0.107626</td>\n",
       "      <td>14.234281</td>\n",
       "      <td>0.000000</td>\n",
       "      <td>215.0</td>\n",
       "      <td>324.0</td>\n",
       "      <td>0.30</td>\n",
       "      <td>0.23</td>\n",
       "      <td>528.90</td>\n",
       "    </tr>\n",
       "    <tr>\n",
       "      <th>4</th>\n",
       "      <td>0.114081</td>\n",
       "      <td>13.980922</td>\n",
       "      <td>0.000000</td>\n",
       "      <td>213.0</td>\n",
       "      <td>266.0</td>\n",
       "      <td>0.13</td>\n",
       "      <td>0.18</td>\n",
       "      <td>502.68</td>\n",
       "    </tr>\n",
       "    <tr>\n",
       "      <th>...</th>\n",
       "      <td>...</td>\n",
       "      <td>...</td>\n",
       "      <td>...</td>\n",
       "      <td>...</td>\n",
       "      <td>...</td>\n",
       "      <td>...</td>\n",
       "      <td>...</td>\n",
       "      <td>...</td>\n",
       "    </tr>\n",
       "    <tr>\n",
       "      <th>152</th>\n",
       "      <td>0.581751</td>\n",
       "      <td>6.841673</td>\n",
       "      <td>0.000000</td>\n",
       "      <td>92.0</td>\n",
       "      <td>151.0</td>\n",
       "      <td>0.12</td>\n",
       "      <td>0.25</td>\n",
       "      <td>230.00</td>\n",
       "    </tr>\n",
       "    <tr>\n",
       "      <th>153</th>\n",
       "      <td>0.493154</td>\n",
       "      <td>8.370517</td>\n",
       "      <td>0.000000</td>\n",
       "      <td>61.0</td>\n",
       "      <td>83.0</td>\n",
       "      <td>0.30</td>\n",
       "      <td>0.21</td>\n",
       "      <td>147.62</td>\n",
       "    </tr>\n",
       "    <tr>\n",
       "      <th>154</th>\n",
       "      <td>0.589968</td>\n",
       "      <td>6.556700</td>\n",
       "      <td>0.000000</td>\n",
       "      <td>107.0</td>\n",
       "      <td>187.0</td>\n",
       "      <td>0.02</td>\n",
       "      <td>0.26</td>\n",
       "      <td>269.64</td>\n",
       "    </tr>\n",
       "    <tr>\n",
       "      <th>155</th>\n",
       "      <td>0.524899</td>\n",
       "      <td>6.914650</td>\n",
       "      <td>0.010418</td>\n",
       "      <td>48.0</td>\n",
       "      <td>121.0</td>\n",
       "      <td>0.34</td>\n",
       "      <td>0.33</td>\n",
       "      <td>127.68</td>\n",
       "    </tr>\n",
       "    <tr>\n",
       "      <th>156</th>\n",
       "      <td>0.443915</td>\n",
       "      <td>7.794590</td>\n",
       "      <td>0.269822</td>\n",
       "      <td>83.0</td>\n",
       "      <td>150.0</td>\n",
       "      <td>0.27</td>\n",
       "      <td>0.27</td>\n",
       "      <td>210.82</td>\n",
       "    </tr>\n",
       "  </tbody>\n",
       "</table>\n",
       "<p>155 rows × 8 columns</p>\n",
       "</div>"
      ],
      "text/plain": [
       "          IPF    Density  E_above_Hull  G_VRH  K_VRH  Elastic_Anisotropy  \\\n",
       "0    0.121404   6.161496      0.330107   23.0   18.0                1.87   \n",
       "1    0.110338  13.284352      0.000000  208.0  296.0                0.15   \n",
       "2    0.126101  13.660786      0.000000  153.0  260.0                0.30   \n",
       "3    0.107626  14.234281      0.000000  215.0  324.0                0.30   \n",
       "4    0.114081  13.980922      0.000000  213.0  266.0                0.13   \n",
       "..        ...        ...           ...    ...    ...                 ...   \n",
       "152  0.581751   6.841673      0.000000   92.0  151.0                0.12   \n",
       "153  0.493154   8.370517      0.000000   61.0   83.0                0.30   \n",
       "154  0.589968   6.556700      0.000000  107.0  187.0                0.02   \n",
       "155  0.524899   6.914650      0.010418   48.0  121.0                0.34   \n",
       "156  0.443915   7.794590      0.269822   83.0  150.0                0.27   \n",
       "\n",
       "     poisson_ratio  Y_Modulus  \n",
       "0             0.06      48.76  \n",
       "1             0.22     507.52  \n",
       "2             0.25     382.50  \n",
       "3             0.23     528.90  \n",
       "4             0.18     502.68  \n",
       "..             ...        ...  \n",
       "152           0.25     230.00  \n",
       "153           0.21     147.62  \n",
       "154           0.26     269.64  \n",
       "155           0.33     127.68  \n",
       "156           0.27     210.82  \n",
       "\n",
       "[155 rows x 8 columns]"
      ]
     },
     "execution_count": 4,
     "metadata": {},
     "output_type": "execute_result"
    }
   ],
   "source": [
    "df.drop( df[ df['Y_Modulus'] < 0 ].index , inplace=True)\n",
    "df_original = df.copy\n",
    "elements = df['Formula'].tolist()\n",
    "df = df.drop(df.columns[[0, 1, 2, 3, 6]], axis=1)\n",
    "df"
   ]
  },
  {
   "cell_type": "markdown",
   "metadata": {},
   "source": [
    "### 2. Processing and Organizing Data\n",
    "\n",
    "Most machine learning models are trained on a subset of all the available data, called the \"training set\", and the models are tested on the remainder of the available data, called the \"testing set\". Model performance has often been found to be enhanced when the inputs are normalized.\n",
    "\n",
    "##### SETS\n",
    "\n",
    "1. With the dataset we just created, we have splitted the dataset for each of the 12 datasets:\n",
    "- C: 331 entries for our model. We will train with 300 cases and test on the remaining 31 elements to estimate Young's Modulus.\n",
    "- Cr: 331 entries for our model. We will train with 300 cases and test on the remaining 31 elements to estimate Young's Modulus.\n",
    "- Fe: 208 entries for our model. We will train with 182 cases and test on the remaining 26 elements to estimate Young's Modulus.\n",
    "- Hf: 216 entries for our model. We will train with 180 cases and test on the remaining 36 elements to estimate Young's Modulus.\n",
    "- Mo: 60 entries for our model. We will train with 84 cases and test on the remaining 24 elements to estimate Young's Modulus.\n",
    "- Nb: 172 entries for our model. We will train with 150 cases and test on the remaining 22 elements to estimate Young's Modulus.\n",
    "- Ni: 378 entries for our model. We will train with 300 cases and test on the remaining 78 elements to estimate Young's Modulus.\n",
    "- Ta: 155 entries for our model. We will train with 120 cases and test on the remaining 35 elements to estimate Young's Modulus.\n",
    "- Ti: 331 entries for our model. We will train with 300 cases and test on the remaining 31 elements to estimate Young's Modulus.\n",
    "- V: 173 entries for our model. We will train with 150 cases and test on the remaining 23 elements to estimate Young's Modulus.\n",
    "- W: 76 entries for our model. We will train with 60 cases and test on the remaining 16 elements to estimate Young's Modulus.\n",
    "- Zr: 242 entries for our model. We will train with 200 cases and test on the remaining 42 elements to estimate Young's Modulus.\n",
    "\n",
    "\n",
    "\n",
    "##### NORMALIZATION\n",
    "\n",
    "Each one of these input data features has different units and is represented in scales with distinct orders of magnitude. Datasets that contain inputs like this need to be normalized, so that quantities with large values do not *overwhelm* the neural network, forcing it tune its weights to account for the different scales of our input data. In this work, we will use the Standard Score Normalization, which subtracts the mean of the feature and divide by its standard deviation.\n",
    "\n",
    "<span style=\"font-size:2em;\">$ \\frac{X - µ}{σ} $ </span>\n",
    "\n",
    "While our model might converge without feature normalization, the resultant model would be difficult to train and would be dependent on the choice of units used in the input."
   ]
  },
  {
   "cell_type": "code",
   "execution_count": 5,
   "metadata": {},
   "outputs": [
    {
     "name": "stdout",
     "output_type": "stream",
     "text": [
      "[[0.12140436510302925, 6.161496079124667, 0.33010666666655203, 23.0, 18.0, 1.87, 0.06, 48.76000000000001], [0.11033846582271294, 13.284352267039615, 0.0, 208.0, 296.0, 0.15, 0.22, 507.52], [0.12610086497987782, 13.660785791537268, 0.0, 153.0, 260.0, 0.3, 0.25, 382.5], [0.10762550638763216, 14.234280745831976, 0.0, 215.0, 324.0, 0.3, 0.23, 528.9], [0.11408115927936464, 13.980921970165072, 0.0, 213.0, 266.0, 0.13, 0.18, 502.68], [0.10399946565790603, 12.117551936282075, 0.0, 200.0, 302.0, 0.14, 0.23, 492.0], [0.082399032316226, 8.940924313041752, 0.0, 142.0, 184.0, 0.06, 0.19, 337.96], [0.12242403744811108, 13.760917345439058, 0.0, 117.0, 187.0, 0.12, 0.24, 290.16], [0.121603153464029, 10.065940915115414, 0.0, 80.0, 106.0, 0.22, 0.2, 192.0], [0.12369498834395215, 14.258204216280904, 0.0, 130.0, 255.0, 0.31, 0.28, 332.8], [0.10269376465504047, 10.195171762784023, 0.0, 73.0, 102.0, 0.41, 0.21, 176.66], [0.08560636607078771, 9.966510164621196, 0.0, 96.0, 134.0, 0.27, 0.21, 232.32], [0.11602122755440468, 12.19993718006006, 0.0, 88.0, 243.0, 0.08, 0.34, 235.84], [0.14512917165065478, 13.99558877075104, 0.0, 182.0, 307.0, 0.12, 0.25, 455.0], [0.2330003707415753, 7.877542312167575, 0.0, 12.0, 20.0, 37.04, 0.26, 30.24], [0.109439270084505, 14.562693362966115, 0.0, 65.0, 264.0, 0.29, 0.39, 180.7], [0.13372997988862595, 14.786231932402478, 0.0, 81.0, 215.0, 0.21, 0.33, 215.46], [0.0994944399065286, 12.030570495981914, 0.0, 97.0, 176.0, 0.58, 0.27, 246.38], [0.12048454394209655, 6.114813453901324, 0.0, 17.0, 29.0, 64.09, 0.26, 42.84], [0.10532401143609854, 12.787425499139614, 0.0, 133.0, 215.0, 0.04, 0.24, 329.84], [0.1379800888627667, 12.087661027237516, 0.0, 75.0, 199.0, 0.54, 0.33, 199.5], [0.2220658308514057, 11.337189772845669, 0.0, 83.0, 242.0, 0.07, 0.35, 224.1], [0.11746870116099728, 15.3250708609848, 0.0, 66.0, 202.0, 0.34, 0.35, 178.20000000000005], [0.0986783160402232, 12.980927678266385, 0.0, 64.0, 226.0, 0.07, 0.37, 175.36], [0.11011216756762053, 12.044593643409385, 0.0, 60.0, 107.0, 1.02, 0.26, 151.2], [0.1309543224301595, 20.760334478466405, 0.0, 212.0, 325.0, 0.24, 0.23, 521.52], [0.11650478176547825, 9.746088437782076, 0.0, 99.0, 241.0, 0.45, 0.32, 261.36], [0.12908415428515715, 4.596406022531668, 0.0, 3.0, 4.0, 18.94, 0.23, 7.38], [0.1639140174773778, 7.391898688457317, 0.0, 14.0, 19.0, 27.73, 0.21, 33.879999999999995], [0.15415820720983364, 13.64678735371241, 0.0, 72.0, 205.0, 1.91, 0.34, 192.96], [0.15878806848409546, 13.288574229538929, 0.0, 89.0, 214.0, 0.59, 0.32, 234.96], [0.13526182032051767, 19.203666300271056, 0.0, 78.0, 243.0, 2.52, 0.35, 210.6], [0.13872195049788735, 19.909510768362416, 0.31366562500068085, 90.0, 262.0, 0.63, 0.35, 243.00000000000003], [0.1234729751946582, 14.547674124574261, 0.0, 27.0, 179.0, 0.29, 0.43, 77.22], [0.09957644351719296, 11.288527345811627, 0.0, 70.0, 175.0, 0.0, 0.32, 184.8], [0.14003932814194256, 10.241165458171904, 0.0, 98.0, 203.0, 0.4, 0.29, 252.84], [0.5589615110632029, 7.178371402696652, 0.0, 83.0, 123.0, 0.05, 0.22, 202.52], [0.14311196184905609, 6.12470972152575, 0.0, 22.0, 31.0, 0.3, 0.22, 53.68], [0.08241101415306581, 8.942224433847842, 0.00575444444450568, 142.0, 185.0, 0.05, 0.19, 337.96], [0.12504418883690752, 14.800719120005455, 0.0, 84.0, 185.0, 0.57, 0.3, 218.4], [0.5294805599237944, 9.223565214467737, 0.0, 57.0, 132.0, 2.13, 0.31, 149.34], [0.1381445473369643, 10.385660728483431, 0.0, 39.0, 201.0, 0.0, 0.41, 109.98], [0.1125546784366392, 4.277046439762165, 0.0, 143.0, 137.0, 0.2, 0.11, 317.4600000000001], [0.10393580125367592, 10.170191780619836, 0.0, 50.0, 103.0, 0.21, 0.29, 129.0], [0.19327346453639424, 12.522527213669706, 0.0, 93.0, 228.0, 0.06, 0.32, 245.52], [0.15025042264074678, 12.034614334829554, 0.0, 96.0, 222.0, 0.56, 0.31, 251.52], [0.12936884005185462, 19.15566044990823, 0.0, 96.0, 274.0, 0.41, 0.34, 257.28000000000003], [0.13929358451975465, 14.931410892573256, 0.0, 79.0, 222.0, 0.28, 0.34, 211.72], [0.1713643643078662, 6.742764527577196, 0.0, 34.0, 75.0, 4.72, 0.3, 88.4], [0.11256281361420203, 14.76867120079392, 0.0, 138.0, 256.0, 0.59, 0.27, 350.52], [0.12439616670600552, 10.985472704348805, 0.0, 102.0, 144.0, 0.11, 0.21, 246.84], [0.15204544809371506, 7.759003114415924, 0.0, 14.0, 31.0, 31.48, 0.3, 36.4], [0.16649639452624804, 12.349032338039788, 0.0, 125.0, 247.0, 0.12, 0.28, 320.0], [0.13579830546954522, 11.30085058564157, 0.0, 66.0, 178.0, 0.12, 0.34, 176.88000000000005], [0.1781007366189184, 11.498523017978812, 0.0, 89.0, 152.0, 0.0, 0.25, 222.5], [0.13595772431198386, 16.164722811212954, 0.0, 83.0, 249.0, 0.19, 0.35, 224.1], [0.15362457149406564, 12.899983144691902, 0.0, 72.0, 182.0, 0.66, 0.32, 190.08], [0.13387838479211195, 11.114342899545843, 0.0, 64.0, 178.0, 1.08, 0.34, 171.52], [0.1377003650484561, 15.454880936700631, 0.0, 185.0, 215.0, -4.88, 0.17, 432.9], [0.1196285454046742, 16.24397965392071, 0.0, 101.0, 268.0, 0.39, 0.33, 268.66], [0.09954999097331717, 13.476563050762651, 0.0, 117.0, 265.0, 0.82, 0.31, 306.54], [0.09673960683700444, 6.813775634350507, 0.0, 104.0, 133.0, 0.18, 0.19, 247.52], [0.14986481964214787, 12.220232413877358, 0.0, 26.0, 40.0, 20.26, 0.23, 63.96], [0.12001443064705487, 15.767729617435947, 0.0, 85.0, 266.0, 0.03, 0.36, 231.2], [0.1506714630260463, 13.841976533809055, 0.0, 94.0, 258.0, 0.72, 0.34, 251.92], [0.11988976789467926, 18.29084523624195, 0.0, 139.0, 255.0, 0.03, 0.27, 353.06], [0.14468609590630624, 14.241042076957966, 0.0, 71.0, 204.0, 1.97, 0.34, 190.28], [0.10355754824399166, 11.45046292579209, 0.0, 122.0, 194.0, 0.15, 0.24, 302.56], [0.1877917812496825, 7.6393770387972975, 0.0, 26.0, 41.0, 0.03, 0.24, 64.48], [0.11987203405098992, 4.8166796672721, 0.0, 25.0, 38.0, 0.72, 0.24, 62.0], [0.237451041511034, 8.61649455753059, 0.0, 13.0, 18.0, 11.56, 0.21, 31.46], [0.2264240885379129, 6.056681055879299, 0.0, 38.0, 68.0, 0.41, 0.27, 96.52], [0.10577506680107268, 11.654520741696546, 0.0, 118.0, 235.0, 0.25, 0.29, 304.44], [0.1078048154988005, 14.82714464921429, 0.0, 125.0, 259.0, 0.17, 0.29, 322.5], [0.1501678891954929, 11.562150039398734, 0.0, 86.0, 202.0, 0.86, 0.31, 225.32], [0.1307501505018235, 5.611034233218629, 0.0, 25.0, 43.0, 0.83, 0.26, 63.0], [0.3322278146993457, 6.449455409033488, 0.0, 32.0, 46.0, 0.39, 0.22, 78.08], [0.6437036921295969, 6.796251483344093, 0.0, 122.0, 188.0, 0.38, 0.23, 300.12], [0.16673934743551908, 11.372427899193108, 0.0, 201.0, 276.0, 0.01, 0.21, 486.42], [0.2058083934842712, 5.7278261934414365, 0.0, 9.0, 48.0, -66.46, 0.41, 25.38], [0.5269508200202507, 8.577403160190059, 0.0, 65.0, 140.0, 0.45, 0.3, 169.0], [0.5930708876628598, 4.3900063878639255, 0.11834720486092465, 11.0, 29.0, 3.73, 0.34, 29.48], [0.22485542436203204, 7.914573174486601, 0.0, 96.0, 136.0, 1.93, 0.22, 234.24], [0.5366353577579713, 4.429785676927648, 0.0, 68.0, 93.0, 0.54, 0.21, 164.56], [0.11599880077983935, 8.080862405881463, 0.0, 25.0, 35.0, 453.23, 0.21, 60.5], [0.11893240659376415, 11.63238220857548, 0.0, 79.0, 231.0, 0.06, 0.35, 213.3], [0.1327830730047903, 11.265013084980856, 0.0, 101.0, 229.0, 0.24, 0.31, 264.62], [0.15214820731464818, 11.268207863364609, 0.0, 64.0, 192.0, 0.13, 0.35, 172.8], [0.1018005688142742, 16.169055087309392, 0.0, 143.0, 272.0, 0.0, 0.28, 366.08], [0.10127978588762622, 11.461134785902198, 0.0, 131.0, 239.0, 0.01, 0.27, 332.74], [0.1188777101339509, 15.411534995663793, 0.0, 122.0, 235.0, 0.05, 0.28, 312.32], [0.13417208223959712, 13.175674064539304, 0.0, 79.0, 181.0, 0.48, 0.31, 206.98], [0.12938277975415918, 15.789285102194825, 0.0, 107.0, 237.0, 0.12, 0.3, 278.2], [0.11715638382166725, 18.394782943153746, 0.0, 133.0, 272.0, 0.09, 0.29, 343.14], [0.12338488473192738, 15.710650848578537, 0.0, 97.0, 247.0, 0.07, 0.33, 258.02000000000004], [0.11847154314725625, 14.134984125847225, 0.0, 111.0, 204.0, 0.53, 0.27, 281.94], [0.12000872546973995, 10.980794684597257, 0.0, 87.0, 197.0, 0.0, 0.31, 227.94], [0.15163666280162366, 13.9133881795463, 0.0, 70.0, 179.0, 0.71, 0.33, 186.2], [0.14845556130650087, 13.30404690721213, 0.0, 78.0, 180.0, 0.34, 0.31, 204.36], [0.17241457260968698, 11.632965284706447, 0.0, 75.0, 200.0, 1.31, 0.33, 199.5], [0.13180219587171632, 17.779606270717817, 0.0, 96.0, 226.0, 0.11, 0.31, 251.52], [0.10986875230581414, 17.180579295913017, 0.0, 126.0, 273.0, 0.03, 0.3, 327.6], [0.13063974830826353, 10.604382395324846, 0.0, 73.0, 193.0, 0.2, 0.33, 194.18], [0.1554449594360437, 16.209394642408007, 0.0, 108.0, 269.0, 0.2, 0.32, 285.12], [0.13310117290756013, 5.567911527552611, 0.0, 53.0, 122.0, 0.53, 0.31, 138.86], [0.5511884554464265, 8.298047363634355, 0.0, 68.0, 148.0, 0.29, 0.3, 176.8], [0.2332277807087118, 3.967542660410444, 0.0, 66.0, 83.0, 0.54, 0.19, 157.07999999999996], [0.5434555670048751, 6.00145439967494, 0.0, 76.0, 149.0, 0.28, 0.28, 194.56], [0.14664585366594407, 11.640108246456196, 0.0, 143.0, 264.0, 0.1, 0.27, 363.22], [0.1845185936721023, 8.489834419818086, 0.0, 87.0, 167.0, 0.22, 0.28, 222.72], [0.5413339270048854, 6.063975920470381, 0.0, 27.0, 69.0, 1.32, 0.33, 71.82000000000002], [0.5480244669125663, 7.951862761014036, 0.0, 66.0, 146.0, 0.3, 0.3, 171.6], [0.5444474521080231, 9.223589274452436, 0.0, 67.0, 134.0, 0.86, 0.28, 171.52], [0.10479804234656424, 12.601078527673154, 0.0, 146.0, 233.0, 0.11, 0.24, 362.08], [0.5330615046036115, 7.2898256580272065, 0.0, 66.0, 182.0, 0.54, 0.34, 176.88000000000005], [0.5392718211966662, 6.702910077377736, 0.0, 72.0, 177.0, 0.41, 0.32, 190.08], [0.17135799833031826, 6.742514042082343, 0.20842400000642414, 32.0, 77.0, 6.27, 0.32, 84.48], [0.10489463867798007, 12.251033284200233, 0.0, 159.0, 225.0, 0.03, 0.21, 384.78], [0.1450281651241302, 6.811193607711308, 0.0, 9.0, 18.0, 40.0, 0.28, 23.04], [0.12090143187705532, 15.781759595357562, 0.0, 104.0, 244.0, 0.1, 0.31, 272.48], [0.12020775117393795, 13.633753908163348, 0.0, 92.0, 225.0, 0.2, 0.32, 242.88], [0.11895099097604522, 16.315492987162518, 0.0, 129.0, 215.0, 0.21, 0.25, 322.5], [0.11628623913436885, 17.86085754979854, 0.0, 117.0, 273.0, 0.1, 0.31, 306.54], [0.12375800254659207, 13.752785739703596, 0.0, 99.0, 227.0, 0.31, 0.31, 259.38], [0.12724299501906494, 12.495894794589569, 0.0, 84.0, 226.0, 0.55, 0.34, 225.12], [0.13561868143863232, 13.053476857603743, 0.0, 76.0, 183.0, 0.55, 0.32, 200.64], [0.1312208851009943, 13.616237353815675, 0.0, 87.0, 172.0, 0.4, 0.28, 222.72], [0.1348396258273982, 17.282387228072544, 0.0, 93.0, 221.0, 0.12, 0.32, 245.52], [0.10106637558402527, 11.773136731791716, 0.0, 83.0, 221.0, 0.0, 0.33, 220.78], [0.10900410256573824, 9.781667319985079, 0.0, 107.0, 201.0, 0.29, 0.27, 271.78000000000003], [0.1236201319787054, 12.301920219995141, 0.0, 105.0, 236.0, 0.08, 0.31, 275.1], [0.16762686640824778, 9.019804019400752, 0.0, 84.0, 167.0, 0.21, 0.29, 216.72], [0.1831303139670774, 11.799447669082904, 0.0, 124.0, 224.0, 0.03, 0.27, 314.96], [0.13857035736474718, 12.81865450192082, 0.0, 51.0, 224.0, 8.92, 0.39, 141.78], [0.1298892584111125, 10.17393399198337, 0.0, 89.0, 217.0, 0.63, 0.32, 234.96], [0.1247492311854748, 15.710756052787993, 0.0, 117.0, 263.0, 0.03, 0.31, 306.54], [0.11813171716247838, 11.001082974051885, 0.0, 101.0, 205.0, 0.27, 0.29, 260.58], [0.21188922748347636, 6.822485038741513, 0.0, 20.0, 29.0, 0.0, 0.22, 48.8], [0.2279667438663344, 7.839498265329699, 0.0, 10.0, 18.0, 14.29, 0.25, 25.0], [0.12325422175976485, 16.036825639827367, 0.0, 119.0, 250.0, 0.14, 0.3, 309.4000000000001], [0.12337015738445332, 11.976583686556351, 0.0, 108.0, 195.0, 0.44, 0.27, 274.32], [0.12121016084042695, 16.035174014808348, 0.0, 129.0, 290.0, 0.09, 0.31, 337.98], [0.12491375826432127, 13.92800334400374, 0.0, 113.0, 195.0, 0.27, 0.26, 284.76], [0.12311410947054988, 13.473476381687679, 0.0, 84.0, 232.0, 0.23, 0.34, 225.12], [0.1463283420235767, 13.620045837210329, 0.0, 98.0, 218.0, 0.6, 0.3, 254.8], [0.5297993900639408, 8.933639167688352, 0.0, 37.0, 59.0, 1.63, 0.24, 91.76], [0.22235902301270372, 7.964755741045826, 0.0, 15.0, 21.0, 15.92, 0.22, 36.6], [0.12060572748035432, 15.582927704950395, 0.0, 99.0, 229.0, 0.36, 0.31, 259.38], [0.16952002333910032, 10.2376920474426, 0.0, 137.0, 222.0, 0.0, 0.24, 339.76], [0.5466518470259382, 6.839389212825247, 0.0, 75.0, 134.0, 0.16, 0.26, 189.0], [0.5817507511390287, 6.841673428629631, 0.0, 92.0, 151.0, 0.12, 0.25, 230.0], [0.4931544890956453, 8.370517285830188, 0.0, 61.0, 83.0, 0.3, 0.21, 147.62], [0.5899682901836628, 6.5567001162891705, 0.0, 107.0, 187.0, 0.02, 0.26, 269.64], [0.5248992204939927, 6.914650475434778, 0.01041750000396746, 48.0, 121.0, 0.34, 0.33, 127.68], [0.4439149353492657, 7.794590136978303, 0.2698215000176418, 83.0, 150.0, 0.27, 0.27, 210.82]]\n"
     ]
    },
    {
     "data": {
      "text/html": [
       "<div>\n",
       "<style scoped>\n",
       "    .dataframe tbody tr th:only-of-type {\n",
       "        vertical-align: middle;\n",
       "    }\n",
       "\n",
       "    .dataframe tbody tr th {\n",
       "        vertical-align: top;\n",
       "    }\n",
       "\n",
       "    .dataframe thead th {\n",
       "        text-align: right;\n",
       "    }\n",
       "</style>\n",
       "<table border=\"1\" class=\"dataframe\">\n",
       "  <thead>\n",
       "    <tr style=\"text-align: right;\">\n",
       "      <th></th>\n",
       "      <th>IPF</th>\n",
       "      <th>Density</th>\n",
       "      <th>E_above_Hull</th>\n",
       "      <th>G_VRH</th>\n",
       "      <th>K_VRH</th>\n",
       "      <th>Elastic_Anisotropy</th>\n",
       "      <th>poisson_ratio</th>\n",
       "    </tr>\n",
       "  </thead>\n",
       "  <tbody>\n",
       "    <tr>\n",
       "      <th>0</th>\n",
       "      <td>0.121404</td>\n",
       "      <td>6.161496</td>\n",
       "      <td>0.330107</td>\n",
       "      <td>23.0</td>\n",
       "      <td>18.0</td>\n",
       "      <td>1.87</td>\n",
       "      <td>0.06</td>\n",
       "    </tr>\n",
       "    <tr>\n",
       "      <th>1</th>\n",
       "      <td>0.110338</td>\n",
       "      <td>13.284352</td>\n",
       "      <td>0.000000</td>\n",
       "      <td>208.0</td>\n",
       "      <td>296.0</td>\n",
       "      <td>0.15</td>\n",
       "      <td>0.22</td>\n",
       "    </tr>\n",
       "    <tr>\n",
       "      <th>2</th>\n",
       "      <td>0.126101</td>\n",
       "      <td>13.660786</td>\n",
       "      <td>0.000000</td>\n",
       "      <td>153.0</td>\n",
       "      <td>260.0</td>\n",
       "      <td>0.30</td>\n",
       "      <td>0.25</td>\n",
       "    </tr>\n",
       "    <tr>\n",
       "      <th>3</th>\n",
       "      <td>0.107626</td>\n",
       "      <td>14.234281</td>\n",
       "      <td>0.000000</td>\n",
       "      <td>215.0</td>\n",
       "      <td>324.0</td>\n",
       "      <td>0.30</td>\n",
       "      <td>0.23</td>\n",
       "    </tr>\n",
       "    <tr>\n",
       "      <th>4</th>\n",
       "      <td>0.114081</td>\n",
       "      <td>13.980922</td>\n",
       "      <td>0.000000</td>\n",
       "      <td>213.0</td>\n",
       "      <td>266.0</td>\n",
       "      <td>0.13</td>\n",
       "      <td>0.18</td>\n",
       "    </tr>\n",
       "    <tr>\n",
       "      <th>5</th>\n",
       "      <td>0.103999</td>\n",
       "      <td>12.117552</td>\n",
       "      <td>0.000000</td>\n",
       "      <td>200.0</td>\n",
       "      <td>302.0</td>\n",
       "      <td>0.14</td>\n",
       "      <td>0.23</td>\n",
       "    </tr>\n",
       "    <tr>\n",
       "      <th>6</th>\n",
       "      <td>0.082399</td>\n",
       "      <td>8.940924</td>\n",
       "      <td>0.000000</td>\n",
       "      <td>142.0</td>\n",
       "      <td>184.0</td>\n",
       "      <td>0.06</td>\n",
       "      <td>0.19</td>\n",
       "    </tr>\n",
       "    <tr>\n",
       "      <th>7</th>\n",
       "      <td>0.122424</td>\n",
       "      <td>13.760917</td>\n",
       "      <td>0.000000</td>\n",
       "      <td>117.0</td>\n",
       "      <td>187.0</td>\n",
       "      <td>0.12</td>\n",
       "      <td>0.24</td>\n",
       "    </tr>\n",
       "    <tr>\n",
       "      <th>8</th>\n",
       "      <td>0.121603</td>\n",
       "      <td>10.065941</td>\n",
       "      <td>0.000000</td>\n",
       "      <td>80.0</td>\n",
       "      <td>106.0</td>\n",
       "      <td>0.22</td>\n",
       "      <td>0.20</td>\n",
       "    </tr>\n",
       "    <tr>\n",
       "      <th>9</th>\n",
       "      <td>0.123695</td>\n",
       "      <td>14.258204</td>\n",
       "      <td>0.000000</td>\n",
       "      <td>130.0</td>\n",
       "      <td>255.0</td>\n",
       "      <td>0.31</td>\n",
       "      <td>0.28</td>\n",
       "    </tr>\n",
       "  </tbody>\n",
       "</table>\n",
       "</div>"
      ],
      "text/plain": [
       "        IPF    Density  E_above_Hull  G_VRH  K_VRH  Elastic_Anisotropy  \\\n",
       "0  0.121404   6.161496      0.330107   23.0   18.0                1.87   \n",
       "1  0.110338  13.284352      0.000000  208.0  296.0                0.15   \n",
       "2  0.126101  13.660786      0.000000  153.0  260.0                0.30   \n",
       "3  0.107626  14.234281      0.000000  215.0  324.0                0.30   \n",
       "4  0.114081  13.980922      0.000000  213.0  266.0                0.13   \n",
       "5  0.103999  12.117552      0.000000  200.0  302.0                0.14   \n",
       "6  0.082399   8.940924      0.000000  142.0  184.0                0.06   \n",
       "7  0.122424  13.760917      0.000000  117.0  187.0                0.12   \n",
       "8  0.121603  10.065941      0.000000   80.0  106.0                0.22   \n",
       "9  0.123695  14.258204      0.000000  130.0  255.0                0.31   \n",
       "\n",
       "   poisson_ratio  \n",
       "0           0.06  \n",
       "1           0.22  \n",
       "2           0.25  \n",
       "3           0.23  \n",
       "4           0.18  \n",
       "5           0.23  \n",
       "6           0.19  \n",
       "7           0.24  \n",
       "8           0.20  \n",
       "9           0.28  "
      ]
     },
     "execution_count": 5,
     "metadata": {},
     "output_type": "execute_result"
    }
   ],
   "source": [
    "all_values = df.values.tolist() # Values for Attributes\n",
    "print(all_values)\n",
    "all_labels = [] # Values for Young's Modulus (Property to be estimated)\n",
    "all_labels = df['Y_Modulus'].tolist()\n",
    "df = df.drop(['Y_Modulus'], axis=1)\n",
    "df.head(n=10)"
   ]
  },
  {
   "cell_type": "code",
   "execution_count": 6,
   "metadata": {},
   "outputs": [
    {
     "name": "stdout",
     "output_type": "stream",
     "text": [
      "Shape of Values: (155, 7)\n",
      "Shape of Labels: (155,)\n",
      "[-0.45452909 -1.3550574   6.95874295 -1.35383753 -1.96319213 -0.09183129\n",
      " -3.72075423]\n",
      "[-0.46343184  0.59507592 -0.17583907  0.08589722  0.57523338 -0.13121788\n",
      "  0.62872243]\n",
      "[  0   1   2   3   4   5   6   7   8   9  10  11  12  13  14  15  16  17\n",
      "  18  19  20  21  22  23  24  25  26  27  28  29  30  31  32  33  34  35\n",
      "  36  37  38  39  40  41  42  43  44  45  46  47  48  49  50  51  52  53\n",
      "  54  55  56  57  58  59  60  61  62  63  64  65  66  67  68  69  70  71\n",
      "  72  73  74  75  76  77  78  79  80  81  82  83  84  85  86  87  88  89\n",
      "  90  91  92  93  94  95  96  97  98  99 100 101 102 103 104 105 106 107\n",
      " 108 109 110 111 112 113 114 115 116 117 118 119 120 121 122 123 124 125\n",
      " 126 127 128 129 130 131 132 133 134 135 136 137 138 139 140 141 142 143\n",
      " 144 145 146 147 148 149 150 151 152 153 154]\n"
     ]
    }
   ],
   "source": [
    "#We will rewrite the arrays with the patches we made on the dataset \n",
    "# by turning the dataframe back into a list of lists\n",
    "\n",
    "all_values = [list(df.iloc[x]) for x in range(len(all_values))]\n",
    "\n",
    "# SETS\n",
    "\n",
    "# List of lists are turned into Numpy arrays to facilitate calculations in steps to follow (Normalization).\n",
    "all_values = np.array(all_values, dtype = float) \n",
    "print(\"Shape of Values:\", all_values.shape)\n",
    "all_labels = np.array(all_labels, dtype = float)\n",
    "print(\"Shape of Labels:\", all_labels.shape)\n",
    "\n",
    "# Uncomment the line below to shuffle the dataset \n",
    "#(we do not do this here to ensure consistent results for every run)\n",
    "#order = np.argsort(np.random.random(all_labels.shape)) \n",
    "# This numpy argsort returns the indexes that would be used to shuffle a list\n",
    "order = np.arange(155)\n",
    "all_values = all_values[order]\n",
    "all_labels = all_labels[order]\n",
    "\n",
    "# Training Set\n",
    "train_labels = all_labels[:120]\n",
    "train_values = all_values[:120]\n",
    "\n",
    "# Testing Set\n",
    "test_labels = all_labels[-35:]\n",
    "test_values = all_values[-35:]\n",
    "\n",
    "# This line is used for labels in the plots at the end of the tutorial - Testing Set\n",
    "\n",
    "labeled_elements = [elements[x] for x in order[-35:]] \n",
    "elements = [elements[x] for x in order]\n",
    "\n",
    "# NORMALIZATION\n",
    "\n",
    "mean = np.mean(train_values, axis = 0) # mean\n",
    "std = np.std(train_values, axis = 0) # standard deviation\n",
    "\n",
    "train_values = (train_values - mean) / std # input scaling\n",
    "test_values = (test_values - mean) / std # input scaling\n",
    "\n",
    "print(train_values[0]) # print a sample entry from the training set\n",
    "print(test_values[0]) # print a sample entry from the training set\n",
    "print(order)"
   ]
  },
  {
   "cell_type": "markdown",
   "metadata": {},
   "source": [
    "### 3. Creating the Model\n",
    "\n",
    "For this regression, we will use a simple sequential neural network with one densely connected hidden layer. The optimizer used will be [RMSPropOptimizer](https://www.tensorflow.org/api_docs/python/tf/train/RMSPropOptimizer) (Root Mean Square Propagation).\n",
    "\n",
    "To learn more about Root Mean Squared Propagation, click [here](https://climin.readthedocs.io/en/latest/rmsprop.html).\n",
    "\n",
    "A cool tool developed by Tensorflow to visualize how a neural network learns, and play around with its parameters, can be found here [NN Tools](https://playground.tensorflow.org/)."
   ]
  },
  {
   "cell_type": "code",
   "execution_count": 7,
   "metadata": {},
   "outputs": [
    {
     "name": "stdout",
     "output_type": "stream",
     "text": [
      "WARNING:tensorflow:From C:\\Users\\Kayla Yano\\anaconda3\\envs\\PythonData\\lib\\site-packages\\tensorflow\\python\\keras\\initializers.py:143: calling RandomNormal.__init__ (from tensorflow.python.ops.init_ops) with dtype is deprecated and will be removed in a future version.\n",
      "Instructions for updating:\n",
      "Call initializer instance with the dtype argument instead of passing it to the constructor\n",
      "Model: \"sequential\"\n",
      "_________________________________________________________________\n",
      "Layer (type)                 Output Shape              Param #   \n",
      "=================================================================\n",
      "dense (Dense)                (None, 32)                256       \n",
      "_________________________________________________________________\n",
      "dense_1 (Dense)              (None, 64)                2112      \n",
      "_________________________________________________________________\n",
      "dense_2 (Dense)              (None, 64)                4160      \n",
      "_________________________________________________________________\n",
      "dense_3 (Dense)              (None, 1)                 65        \n",
      "=================================================================\n",
      "Total params: 6,593\n",
      "Trainable params: 6,593\n",
      "Non-trainable params: 0\n",
      "_________________________________________________________________\n"
     ]
    }
   ],
   "source": [
    "# DEFINITION OF THE MODEL\n",
    "\n",
    "# The weights of our neural network will be initialized in a random manner, using a seed allows for reproducibility\n",
    "kernel_init = initializers.RandomNormal(seed=0)\n",
    "# In a sequential model, the first layer must specify the input shape the model will expect; \n",
    "# in this case the value is train_values.shape[1] which is the number\n",
    "# of attributes (properties) and equals 17.\n",
    "\n",
    "model = Sequential()\n",
    "model.add(Dense(32, activation='relu', input_shape=(train_values.shape[1], ), kernel_initializer=kernel_init))\n",
    "model.add(Dense(64, activation='relu', kernel_initializer=kernel_init))\n",
    "model.add(Dense(64, activation='relu', kernel_initializer=kernel_init))\n",
    "model.add(Dense(1, kernel_initializer=kernel_init))\n",
    "\n",
    "# DEFINITION OF THE OPTIMIZER\n",
    "\n",
    "optimizer = optimizers.RMSprop(0.002) # Root Mean Squared Propagation\n",
    "\n",
    "# This line matches the optimizer to the model and states which metrics will evaluate the model's accuracy\n",
    "model.compile(loss='mae', optimizer=optimizer, metrics=['mae'])\n",
    "model.summary()"
   ]
  },
  {
   "cell_type": "markdown",
   "metadata": {},
   "source": [
    "#### TRAINING \n",
    "\n",
    "This model is trained for 2000 epochs, and we record the training accuracy in the history object.\n",
    "\n",
    "One **Epoch** occurs when you pass the entire dataset through the model. One **Batch** contains a subset of the dataset that can be fed to the model at the same time. A more detailed explanation of these concepts can be found in this [blog](https://towardsdatascience.com/epoch-vs-iterations-vs-batch-size-4dfb9c7ce9c9). As we have a really small dataset compared to the ones that are usually considered to be modeled by these neural networks, we are feeding all entries at the same time, so our batch is the entire dataset, and an epoch occurs when the batch is processed.\n",
    "\n",
    "This way, by plotting \"history\" we can see the evolution of the \"learning\" of the model, that is the decrease of the Mean Absolute Error. Models in Keras are fitted to the training set using the [**fit**](https://keras.io/models/model/#fit) method.\n",
    "\n",
    "The blue curve that will come up from the History object represents how the model is learning on the training data, and the orange curve represents the validation loss, which can be thought of as the way our model evaluates data that it was not trained in. This validation loss would start going up again when we start to overfit our data."
   ]
  },
  {
   "cell_type": "code",
   "execution_count": 8,
   "metadata": {},
   "outputs": [
    {
     "name": "stdout",
     "output_type": "stream",
     "text": [
      "Current Epoch: 2000 Training Loss: 4.753400                                       \r"
     ]
    },
    {
     "data": {
      "image/png": "[encoded data removed]",
      "text/plain": [
       "<Figure size 432x288 with 1 Axes>"
      ]
     },
     "metadata": {
      "needs_background": "light"
     },
     "output_type": "display_data"
    }
   ],
   "source": [
    "# EPOCH REAL TIME COUNTER CLASS\n",
    "class PrintEpNum(tf.keras.callbacks.Callback): # This is a function for the Epoch Counter\n",
    "    def on_epoch_end(self, epoch, logs):\n",
    "        sys.stdout.flush()\n",
    "        sys.stdout.write(\"Current Epoch: \" + str(epoch+1) + \" Training Loss: \" + \"%4f\" %logs.get('loss') + '                                       \\r') # Updates current Epoch Number\n",
    "\n",
    "EPOCHS = 2000 # Number of EPOCHS\n",
    "\n",
    "# HISTORY Object which contains how the model learned\n",
    "\n",
    "# Training Values (Properties), Training Labels (Known Young's Moduli) \n",
    "history = model.fit(train_values, train_labels, batch_size=train_values.shape[0], \n",
    "                    epochs=EPOCHS, verbose = False, validation_split=0.1, callbacks=[PrintEpNum()])\n",
    "\n",
    "\n",
    "# PLOTTING HISTORY USING MATPLOTLIB\n",
    "\n",
    "plt.figure()\n",
    "plt.xlabel('Epoch')\n",
    "plt.ylabel('Mean Abs Error')\n",
    "plt.plot(history.epoch, np.array(history.history['mean_absolute_error']),label='Loss on training set') \n",
    "plt.plot(history.epoch, np.array(history.history['val_mean_absolute_error']),label = 'Validation loss')\n",
    "plt.legend()\n",
    "plt.show()"
   ]
  },
  {
   "cell_type": "markdown",
   "metadata": {},
   "source": [
    "#### SAVING A MODEL\n",
    "\n",
    "Compiled and trained models in Keras can be saved and distributed in .h5 files using the `model.save()` method. Running the cell below will save the current model we trained, both weights and architecture to your home directory."
   ]
  },
  {
   "cell_type": "code",
   "execution_count": 9,
   "metadata": {},
   "outputs": [],
   "source": [
    "model.save(os.path.expanduser('~/model.h5'))"
   ]
  },
  {
   "cell_type": "markdown",
   "metadata": {},
   "source": [
    "#### TESTING\n",
    "\n",
    "Models in Keras are tested using the method [**evaluate**](https://keras.io/models/model/#evaluate). This method returns the testing loss of the model and the metrics we specified when creating it,  which in our case it's the Mean Absolute Error. For the original model in this tutorial you should get a value of around **20 GPa** for the Mean Absolute Error. This value would decrease with more training data, more attributes/features, or a different optimizer. In the case of a model that overfits, you can expect values to start increasing to around **30 or 40 GPa**."
   ]
  },
  {
   "cell_type": "code",
   "execution_count": 10,
   "metadata": {},
   "outputs": [
    {
     "name": "stdout",
     "output_type": "stream",
     "text": [
      "Testing Set Mean Absolute Error: 5.967 GPa\n"
     ]
    }
   ],
   "source": [
    "[loss, mae] = model.evaluate(test_values, test_labels, verbose=0)\n",
    "\n",
    "print(\"Testing Set Mean Absolute Error: {:2.3f} GPa\".format(mae))"
   ]
  },
  {
   "cell_type": "markdown",
   "metadata": {},
   "source": [
    "#### MAKING PREDICTIONS\n",
    "\n",
    "The last step in a regression model is to make predictions for values not in the training set, which are determined by the method [**predict**](https://keras.io/models/model/#predict). In the following cell we print the elements in the testing set, the real values for their Young's moduli and the predictions generated by our machine learned model."
   ]
  },
  {
   "cell_type": "code",
   "execution_count": 11,
   "metadata": {},
   "outputs": [
    {
     "name": "stdout",
     "output_type": "stream",
     "text": [
      "Elements in Test Set:  ['Ta2NbRu', 'Ta2MoOs', 'HfTaRe2', 'HfTaTc2', 'TaZnRu2', 'HoTaRu2', 'LuTaRu2', 'ErTaOs2', 'TaBeRu2', 'TaMn2Al', 'TaFeRu2', 'Ce3(TaN3)2', 'TaGaFe2', 'TaCuRh2', 'TaTiMn2', 'TaTiRe2', 'ScTaRu2', 'TaCu3Te4', 'TaNi2Te3', 'Ta2TcW', 'TaNbTc2', 'Ta2ReMo', 'Ta2TcMo', 'Ta2VRu', 'Ta2FeMo', 'YbTaO4', 'Ta3SiTe6', 'MgTaOs2', 'TaAlFe2', 'Ba2YTaO6', 'Sr2TaGaO6', 'SrTa2Bi2O9', 'Sr2TaCrO6', 'Ba2LaTaO6', 'SrTaNO2']\n",
      "Real Values [242.88, 322.5, 306.54, 259.38, 225.12, 200.64, 222.72, 245.52, 220.78, 271.78000000000003, 275.1, 216.72, 314.96, 141.78, 234.96, 306.54, 260.58, 48.8, 25.0, 309.4000000000001, 274.32, 337.98, 284.76, 225.12, 254.8, 91.76, 36.6, 259.38, 339.76, 189.0, 230.0, 147.62, 269.64, 127.68, 210.82]\n",
      "Predictions [246.70537, 325.3346, 311.00494, 262.51117, 228.6323, 202.19551, 226.3289, 246.22855, 226.75853, 277.19046, 277.6657, 216.71019, 318.3944, 144.76132, 239.54576, 308.57916, 263.28574, 47.273922, 27.040024, 309.52887, 276.46326, 340.49072, 287.1691, 230.37675, 259.71136, 107.99237, 34.206264, 262.43195, 348.17554, 189.88007, 229.16884, 145.3676, 270.20105, 125.09118, 113.46422]\n"
     ]
    }
   ],
   "source": [
    "test_predictions = model.predict(test_values).flatten()\n",
    "\n",
    "print(\"Elements in Test Set: \", labeled_elements)\n",
    "print(\"Real Values\", list(test_labels))\n",
    "print(\"Predictions\", list(test_predictions))\n",
    "\n",
    "values = np.concatenate((train_values, test_values), axis=0) # This line joins the values together to evaluate all of them\n",
    "predictions = model.predict(values).flatten()"
   ]
  },
  {
   "cell_type": "markdown",
   "metadata": {},
   "source": [
    "### 4. Plotting\n",
    "\n",
    "The easiest way to see if the model did a good job estimating the Young's Modulus for the Elements is through a plot comparing Real Values with their Predictions. We will use [Plotly](https://plot.ly/python/) to create a plot like that. We covered how to plot in Plotly in the first tutorial of this tool. For values in this plot, the line (x = y) indicates a perfect match and would be the desirable result for the points. As you analyze the plot, you can hover on the points to see the data we obtained in the cell above."
   ]
  },
  {
   "cell_type": "code",
   "execution_count": 12,
   "metadata": {},
   "outputs": [
    {
     "data": {
      "text/html": [
       "        <script type=\"text/javascript\">\n",
       "        window.PlotlyConfig = {MathJaxConfig: 'local'};\n",
       "        if (window.MathJax) {MathJax.Hub.Config({SVG: {font: \"STIX-Web\"}});}\n",
       "        if (typeof require !== 'undefined') {\n",
       "        require.undef(\"plotly\");\n",
       "        requirejs.config({\n",
       "            paths: {\n",
       "                'plotly': ['https://cdn.plot.ly/plotly-latest.min']\n",
       "            }\n",
       "        });\n",
       "        require(['plotly'], function(Plotly) {\n",
       "            window._Plotly = Plotly;\n",
       "        });\n",
       "        }\n",
       "        </script>\n",
       "        "
      ]
     },
     "metadata": {},
     "output_type": "display_data"
    },
    {
     "data": {
      "application/vnd.plotly.v1+json": {
       "config": {
        "linkText": "Export to plot.ly",
        "plotlyServerURL": "https://plot.ly",
        "showLink": false
       },
       "data": [
        {
         "marker": {
          "color": "blue",
          "size": 12
         },
         "mode": "markers",
         "name": "Young's Modulus (Training)",
         "text": [
          "TaS2",
          "Ta3B4",
          "TaRh3",
          "TaC",
          "TaB",
          "TaB2",
          "TaSi2",
          "Ta2Be",
          "TaGa3",
          "TaTc",
          "TaSb2",
          "TaAs2",
          "TaMn2",
          "TaN",
          "TaTe5Pt",
          "TaRu",
          "Ta2Ni",
          "TaAs",
          "TaS2",
          "Ta5Si3",
          "TaNiGe",
          "TaCr2",
          "Ta2H",
          "TaH2",
          "Ta5Sb4",
          "TaIr3",
          "Ta3N5",
          "Ta(ICl)2",
          "TaSe3",
          "TaPd2",
          "TaPd3",
          "TaPt2",
          "TaPt3",
          "Ta3Sn",
          "TaSbRu",
          "TaAlCo2",
          "LiTaO3",
          "TaCu3Se4",
          "TaSi2",
          "Ta3Sb",
          "LuTaO4",
          "TaV2",
          "TaBe12",
          "TaSn2",
          "TaFe2",
          "TaNi3",
          "TaIr",
          "Ta2Co",
          "TaAgS3",
          "Ta2C",
          "TaGe2",
          "TaSe2",
          "TaCo3",
          "LiTaRu2",
          "TaZn2",
          "Ta2FeOs",
          "DyTaRu2",
          "YTaRu2",
          "MgTaIr2",
          "TaTiOs2",
          "TaRu3",
          "TaAl3",
          "Ta2Se",
          "Ta3Ru",
          "Ta2CrRu",
          "TaW3",
          "TaPd",
          "Ta2AlC",
          "Ba(TaN2)2",
          "TaCu3S4",
          "TaTe4Ir",
          "Sr2TaN3",
          "TaSiRh",
          "TaSiIr",
          "TaGaCo2",
          "TaCuS3",
          "CsTaN2",
          "KTaO3",
          "MgTa2N3",
          "BaTaS3",
          "GdTaO4",
          "Rb3TaO8",
          "NaTaN2",
          "Li5TaO5",
          "Ta2CS2",
          "TaTiRu2",
          "TaTiTc2",
          "LiTaRh2",
          "TaAlOs2",
          "TaAlRu2",
          "ScTaOs2",
          "ErTaRu2",
          "Ta2NbIr",
          "Ta2OsW",
          "Ta2VOs",
          "Ta2MoRu",
          "MgTaRu2",
          "YbTaRu2",
          "TmTaRu2",
          "TaZnCo2",
          "LuTaOs2",
          "TaGaOs2",
          "ScTaTc2",
          "LiTaIr2",
          "Mg2TaN3",
          "SmTaO4",
          "Li7TaN4",
          "Mg4Ta2O9",
          "TaFeP",
          "La3(TaN3)2",
          "RbTaO3",
          "NdTaO4",
          "ErTaO4",
          "Ta4AlC3",
          "YTaO4",
          "ScTaO4",
          "TaAgS3",
          "Ta3AlC2",
          "Ta2PdSe6",
          "Ta2NbOs",
          "Ta2NbRu",
          "Ta2MoOs",
          "HfTaRe2",
          "HfTaTc2",
          "TaZnRu2",
          "HoTaRu2",
          "LuTaRu2",
          "ErTaOs2",
          "TaBeRu2",
          "TaMn2Al",
          "TaFeRu2",
          "Ce3(TaN3)2",
          "TaGaFe2",
          "TaCuRh2",
          "TaTiMn2",
          "TaTiRe2",
          "ScTaRu2",
          "TaCu3Te4",
          "TaNi2Te3",
          "Ta2TcW",
          "TaNbTc2",
          "Ta2ReMo",
          "Ta2TcMo",
          "Ta2VRu",
          "Ta2FeMo",
          "YbTaO4",
          "Ta3SiTe6",
          "MgTaOs2",
          "TaAlFe2",
          "Ba2YTaO6",
          "Sr2TaGaO6",
          "SrTa2Bi2O9",
          "Sr2TaCrO6",
          "Ba2LaTaO6",
          "SrTaNO2"
         ],
         "type": "scatter",
         "x": [
          48.76000000000001,
          507.52,
          382.5,
          528.9,
          502.68,
          492,
          337.96,
          290.16,
          192,
          332.8,
          176.66,
          232.32,
          235.84,
          455,
          30.24,
          180.7,
          215.46,
          246.38,
          42.84,
          329.84,
          199.5,
          224.1,
          178.20000000000005,
          175.36,
          151.2,
          521.52,
          261.36,
          7.38,
          33.879999999999995,
          192.96,
          234.96,
          210.6,
          243.00000000000003,
          77.22,
          184.8,
          252.84,
          202.52,
          53.68,
          337.96,
          218.4,
          149.34,
          109.98,
          317.4600000000001,
          129,
          245.52,
          251.52,
          257.28000000000003,
          211.72,
          88.4,
          350.52,
          246.84,
          36.4,
          320,
          176.88000000000005,
          222.5,
          224.1,
          190.08,
          171.52,
          432.9,
          268.66,
          306.54,
          247.52,
          63.96,
          231.2,
          251.92,
          353.06,
          190.28,
          302.56,
          64.48,
          62,
          31.46,
          96.52,
          304.44,
          322.5,
          225.32,
          63,
          78.08,
          300.12,
          486.42,
          25.38,
          169,
          29.48,
          234.24,
          164.56,
          60.5,
          213.3,
          264.62,
          172.8,
          366.08,
          332.74,
          312.32,
          206.98,
          278.2,
          343.14,
          258.02000000000004,
          281.94,
          227.94,
          186.2,
          204.36,
          199.5,
          251.52,
          327.6,
          194.18,
          285.12,
          138.86,
          176.8,
          157.07999999999996,
          194.56,
          363.22,
          222.72,
          71.82000000000002,
          171.6,
          171.52,
          362.08,
          176.88000000000005,
          190.08,
          84.48,
          384.78,
          23.04,
          272.48,
          242.88,
          322.5,
          306.54,
          259.38,
          225.12,
          200.64,
          222.72,
          245.52,
          220.78,
          271.78000000000003,
          275.1,
          216.72,
          314.96,
          141.78,
          234.96,
          306.54,
          260.58,
          48.8,
          25,
          309.4000000000001,
          274.32,
          337.98,
          284.76,
          225.12,
          254.8,
          91.76,
          36.6,
          259.38,
          339.76,
          189,
          230,
          147.62,
          269.64,
          127.68,
          210.82
         ],
         "y": [
          51.42729187011719,
          510.03955078125,
          387.605712890625,
          530.71728515625,
          516.2871704101562,
          495.35809326171875,
          348.22259521484375,
          295.711181640625,
          192.9031524658203,
          336.3939208984375,
          179.20703125,
          236.9971466064453,
          242.15977478027344,
          459.3487548828125,
          30.0462703704834,
          191.00137329101562,
          220.36746215820312,
          248.4024200439453,
          41.51736068725586,
          335.84637451171875,
          204.3932342529297,
          229.86904907226562,
          183.59886169433594,
          183.3429412841797,
          154.60557556152344,
          523.4382934570312,
          266.7908020019531,
          7.028107643127441,
          30.83553695678711,
          198.1190643310547,
          237.98512268066406,
          219.1715545654297,
          245.9300079345703,
          80.8676528930664,
          188.1483917236328,
          257.56640625,
          203.74810791015625,
          53.273868560791016,
          336.4200744628906,
          220.8503875732422,
          153.25099182128906,
          114.67778015136719,
          324.2007141113281,
          129.01466369628906,
          251.6398162841797,
          256.1631774902344,
          265.76873779296875,
          217.19471740722656,
          88.50569152832031,
          353.2386779785156,
          252.4571990966797,
          35.025856018066406,
          325.803466796875,
          178.6676483154297,
          226.68890380859375,
          231.794921875,
          194.6151885986328,
          174.47760009765625,
          449.29388427734375,
          275.7513427734375,
          309.2304382324219,
          247.29034423828125,
          64.52603149414062,
          239.5237274169922,
          258.58538818359375,
          353.887939453125,
          195.42637634277344,
          308.0902099609375,
          62.43593215942383,
          62.097408294677734,
          31.440210342407227,
          94.90665435791016,
          305.4839782714844,
          325.95733642578125,
          230.29054260253906,
          62.36857223510742,
          78.32554626464844,
          305.114501953125,
          493.5804138183594,
          26.16424560546875,
          170.08383178710938,
          30.273059844970703,
          229.1725311279297,
          168.04762268066406,
          57.2292366027832,
          219.37606811523438,
          268.1490783691406,
          176.84654235839844,
          365.9677734375,
          335.30157470703125,
          313.8695068359375,
          208.97589111328125,
          282.4265441894531,
          344.57183837890625,
          261.3379821777344,
          284.3275146484375,
          230.43089294433594,
          187.54244995117188,
          207.03753662109375,
          205.29876708984375,
          255.51763916015625,
          330.1009521484375,
          199.0635528564453,
          292.07342529296875,
          140.22239685058594,
          180.09117126464844,
          158.64627075195312,
          197.2045440673828,
          367.591796875,
          222.0554656982422,
          109.03302001953125,
          175.6784210205078,
          172.65692138671875,
          366.8260498046875,
          187.05189514160156,
          197.57957458496094,
          63.35145950317383,
          394.4090270996094,
          25.547866821289062,
          277.1485290527344,
          246.7053680419922,
          325.3345947265625,
          311.00494384765625,
          262.51116943359375,
          228.63229370117188,
          202.1955108642578,
          226.3289031982422,
          246.22854614257812,
          226.75852966308594,
          277.1904602050781,
          277.66571044921875,
          216.71018981933594,
          318.3944091796875,
          144.76132202148438,
          239.54576110839844,
          308.57916259765625,
          263.2857360839844,
          47.273921966552734,
          27.040023803710938,
          309.52886962890625,
          276.4632568359375,
          340.49072265625,
          287.1690979003906,
          230.3767547607422,
          259.71136474609375,
          107.99237060546875,
          34.20626449584961,
          262.43194580078125,
          348.175537109375,
          189.88006591796875,
          229.16883850097656,
          145.3675994873047,
          270.2010498046875,
          125.09117889404297,
          113.46421813964844
         ]
        },
        {
         "marker": {
          "color": "red",
          "size": 12
         },
         "mode": "markers",
         "name": "Young's Modulus (Testing)",
         "text": [
          "Ta2NbRu",
          "Ta2MoOs",
          "HfTaRe2",
          "HfTaTc2",
          "TaZnRu2",
          "HoTaRu2",
          "LuTaRu2",
          "ErTaOs2",
          "TaBeRu2",
          "TaMn2Al",
          "TaFeRu2",
          "Ce3(TaN3)2",
          "TaGaFe2",
          "TaCuRh2",
          "TaTiMn2",
          "TaTiRe2",
          "ScTaRu2",
          "TaCu3Te4",
          "TaNi2Te3",
          "Ta2TcW",
          "TaNbTc2",
          "Ta2ReMo",
          "Ta2TcMo",
          "Ta2VRu",
          "Ta2FeMo",
          "YbTaO4",
          "Ta3SiTe6",
          "MgTaOs2",
          "TaAlFe2",
          "Ba2YTaO6",
          "Sr2TaGaO6",
          "SrTa2Bi2O9",
          "Sr2TaCrO6",
          "Ba2LaTaO6",
          "SrTaNO2"
         ],
         "type": "scatter",
         "x": [
          242.88,
          322.5,
          306.54,
          259.38,
          225.12,
          200.64,
          222.72,
          245.52,
          220.78,
          271.78000000000003,
          275.1,
          216.72,
          314.96,
          141.78,
          234.96,
          306.54,
          260.58,
          48.8,
          25,
          309.4000000000001,
          274.32,
          337.98,
          284.76,
          225.12,
          254.8,
          91.76,
          36.6,
          259.38,
          339.76,
          189,
          230,
          147.62,
          269.64,
          127.68,
          210.82
         ],
         "y": [
          246.7053680419922,
          325.3345947265625,
          311.00494384765625,
          262.51116943359375,
          228.63229370117188,
          202.1955108642578,
          226.3289031982422,
          246.22854614257812,
          226.75852966308594,
          277.1904602050781,
          277.66571044921875,
          216.71018981933594,
          318.3944091796875,
          144.76132202148438,
          239.54576110839844,
          308.57916259765625,
          263.2857360839844,
          47.273921966552734,
          27.040023803710938,
          309.52886962890625,
          276.4632568359375,
          340.49072265625,
          287.1690979003906,
          230.3767547607422,
          259.71136474609375,
          107.99237060546875,
          34.20626449584961,
          262.43194580078125,
          348.175537109375,
          189.88006591796875,
          229.16883850097656,
          145.3675994873047,
          270.2010498046875,
          125.09117889404297,
          113.46421813964844
         ]
        },
        {
         "mode": "lines",
         "name": "Match",
         "type": "scatter",
         "x": [
          0,
          600
         ],
         "y": [
          0,
          600
         ]
        }
       ],
       "layout": {
        "height": 600,
        "hovermode": "closest",
        "legend": {
         "font": {
          "size": 24
         }
        },
        "showlegend": true,
        "template": {
         "data": {
          "bar": [
           {
            "error_x": {
             "color": "#2a3f5f"
            },
            "error_y": {
             "color": "#2a3f5f"
            },
            "marker": {
             "line": {
              "color": "#E5ECF6",
              "width": 0.5
             }
            },
            "type": "bar"
           }
          ],
          "barpolar": [
           {
            "marker": {
             "line": {
              "color": "#E5ECF6",
              "width": 0.5
             }
            },
            "type": "barpolar"
           }
          ],
          "carpet": [
           {
            "aaxis": {
             "endlinecolor": "#2a3f5f",
             "gridcolor": "white",
             "linecolor": "white",
             "minorgridcolor": "white",
             "startlinecolor": "#2a3f5f"
            },
            "baxis": {
             "endlinecolor": "#2a3f5f",
             "gridcolor": "white",
             "linecolor": "white",
             "minorgridcolor": "white",
             "startlinecolor": "#2a3f5f"
            },
            "type": "carpet"
           }
          ],
          "choropleth": [
           {
            "colorbar": {
             "outlinewidth": 0,
             "ticks": ""
            },
            "type": "choropleth"
           }
          ],
          "contour": [
           {
            "colorbar": {
             "outlinewidth": 0,
             "ticks": ""
            },
            "colorscale": [
             [
              0,
              "#0d0887"
             ],
             [
              0.1111111111111111,
              "#46039f"
             ],
             [
              0.2222222222222222,
              "#7201a8"
             ],
             [
              0.3333333333333333,
              "#9c179e"
             ],
             [
              0.4444444444444444,
              "#bd3786"
             ],
             [
              0.5555555555555556,
              "#d8576b"
             ],
             [
              0.6666666666666666,
              "#ed7953"
             ],
             [
              0.7777777777777778,
              "#fb9f3a"
             ],
             [
              0.8888888888888888,
              "#fdca26"
             ],
             [
              1,
              "#f0f921"
             ]
            ],
            "type": "contour"
           }
          ],
          "contourcarpet": [
           {
            "colorbar": {
             "outlinewidth": 0,
             "ticks": ""
            },
            "type": "contourcarpet"
           }
          ],
          "heatmap": [
           {
            "colorbar": {
             "outlinewidth": 0,
             "ticks": ""
            },
            "colorscale": [
             [
              0,
              "#0d0887"
             ],
             [
              0.1111111111111111,
              "#46039f"
             ],
             [
              0.2222222222222222,
              "#7201a8"
             ],
             [
              0.3333333333333333,
              "#9c179e"
             ],
             [
              0.4444444444444444,
              "#bd3786"
             ],
             [
              0.5555555555555556,
              "#d8576b"
             ],
             [
              0.6666666666666666,
              "#ed7953"
             ],
             [
              0.7777777777777778,
              "#fb9f3a"
             ],
             [
              0.8888888888888888,
              "#fdca26"
             ],
             [
              1,
              "#f0f921"
             ]
            ],
            "type": "heatmap"
           }
          ],
          "heatmapgl": [
           {
            "colorbar": {
             "outlinewidth": 0,
             "ticks": ""
            },
            "colorscale": [
             [
              0,
              "#0d0887"
             ],
             [
              0.1111111111111111,
              "#46039f"
             ],
             [
              0.2222222222222222,
              "#7201a8"
             ],
             [
              0.3333333333333333,
              "#9c179e"
             ],
             [
              0.4444444444444444,
              "#bd3786"
             ],
             [
              0.5555555555555556,
              "#d8576b"
             ],
             [
              0.6666666666666666,
              "#ed7953"
             ],
             [
              0.7777777777777778,
              "#fb9f3a"
             ],
             [
              0.8888888888888888,
              "#fdca26"
             ],
             [
              1,
              "#f0f921"
             ]
            ],
            "type": "heatmapgl"
           }
          ],
          "histogram": [
           {
            "marker": {
             "colorbar": {
              "outlinewidth": 0,
              "ticks": ""
             }
            },
            "type": "histogram"
           }
          ],
          "histogram2d": [
           {
            "colorbar": {
             "outlinewidth": 0,
             "ticks": ""
            },
            "colorscale": [
             [
              0,
              "#0d0887"
             ],
             [
              0.1111111111111111,
              "#46039f"
             ],
             [
              0.2222222222222222,
              "#7201a8"
             ],
             [
              0.3333333333333333,
              "#9c179e"
             ],
             [
              0.4444444444444444,
              "#bd3786"
             ],
             [
              0.5555555555555556,
              "#d8576b"
             ],
             [
              0.6666666666666666,
              "#ed7953"
             ],
             [
              0.7777777777777778,
              "#fb9f3a"
             ],
             [
              0.8888888888888888,
              "#fdca26"
             ],
             [
              1,
              "#f0f921"
             ]
            ],
            "type": "histogram2d"
           }
          ],
          "histogram2dcontour": [
           {
            "colorbar": {
             "outlinewidth": 0,
             "ticks": ""
            },
            "colorscale": [
             [
              0,
              "#0d0887"
             ],
             [
              0.1111111111111111,
              "#46039f"
             ],
             [
              0.2222222222222222,
              "#7201a8"
             ],
             [
              0.3333333333333333,
              "#9c179e"
             ],
             [
              0.4444444444444444,
              "#bd3786"
             ],
             [
              0.5555555555555556,
              "#d8576b"
             ],
             [
              0.6666666666666666,
              "#ed7953"
             ],
             [
              0.7777777777777778,
              "#fb9f3a"
             ],
             [
              0.8888888888888888,
              "#fdca26"
             ],
             [
              1,
              "#f0f921"
             ]
            ],
            "type": "histogram2dcontour"
           }
          ],
          "mesh3d": [
           {
            "colorbar": {
             "outlinewidth": 0,
             "ticks": ""
            },
            "type": "mesh3d"
           }
          ],
          "parcoords": [
           {
            "line": {
             "colorbar": {
              "outlinewidth": 0,
              "ticks": ""
             }
            },
            "type": "parcoords"
           }
          ],
          "pie": [
           {
            "automargin": true,
            "type": "pie"
           }
          ],
          "scatter": [
           {
            "marker": {
             "colorbar": {
              "outlinewidth": 0,
              "ticks": ""
             }
            },
            "type": "scatter"
           }
          ],
          "scatter3d": [
           {
            "line": {
             "colorbar": {
              "outlinewidth": 0,
              "ticks": ""
             }
            },
            "marker": {
             "colorbar": {
              "outlinewidth": 0,
              "ticks": ""
             }
            },
            "type": "scatter3d"
           }
          ],
          "scattercarpet": [
           {
            "marker": {
             "colorbar": {
              "outlinewidth": 0,
              "ticks": ""
             }
            },
            "type": "scattercarpet"
           }
          ],
          "scattergeo": [
           {
            "marker": {
             "colorbar": {
              "outlinewidth": 0,
              "ticks": ""
             }
            },
            "type": "scattergeo"
           }
          ],
          "scattergl": [
           {
            "marker": {
             "colorbar": {
              "outlinewidth": 0,
              "ticks": ""
             }
            },
            "type": "scattergl"
           }
          ],
          "scattermapbox": [
           {
            "marker": {
             "colorbar": {
              "outlinewidth": 0,
              "ticks": ""
             }
            },
            "type": "scattermapbox"
           }
          ],
          "scatterpolar": [
           {
            "marker": {
             "colorbar": {
              "outlinewidth": 0,
              "ticks": ""
             }
            },
            "type": "scatterpolar"
           }
          ],
          "scatterpolargl": [
           {
            "marker": {
             "colorbar": {
              "outlinewidth": 0,
              "ticks": ""
             }
            },
            "type": "scatterpolargl"
           }
          ],
          "scatterternary": [
           {
            "marker": {
             "colorbar": {
              "outlinewidth": 0,
              "ticks": ""
             }
            },
            "type": "scatterternary"
           }
          ],
          "surface": [
           {
            "colorbar": {
             "outlinewidth": 0,
             "ticks": ""
            },
            "colorscale": [
             [
              0,
              "#0d0887"
             ],
             [
              0.1111111111111111,
              "#46039f"
             ],
             [
              0.2222222222222222,
              "#7201a8"
             ],
             [
              0.3333333333333333,
              "#9c179e"
             ],
             [
              0.4444444444444444,
              "#bd3786"
             ],
             [
              0.5555555555555556,
              "#d8576b"
             ],
             [
              0.6666666666666666,
              "#ed7953"
             ],
             [
              0.7777777777777778,
              "#fb9f3a"
             ],
             [
              0.8888888888888888,
              "#fdca26"
             ],
             [
              1,
              "#f0f921"
             ]
            ],
            "type": "surface"
           }
          ],
          "table": [
           {
            "cells": {
             "fill": {
              "color": "#EBF0F8"
             },
             "line": {
              "color": "white"
             }
            },
            "header": {
             "fill": {
              "color": "#C8D4E3"
             },
             "line": {
              "color": "white"
             }
            },
            "type": "table"
           }
          ]
         },
         "layout": {
          "annotationdefaults": {
           "arrowcolor": "#2a3f5f",
           "arrowhead": 0,
           "arrowwidth": 1
          },
          "coloraxis": {
           "colorbar": {
            "outlinewidth": 0,
            "ticks": ""
           }
          },
          "colorscale": {
           "diverging": [
            [
             0,
             "#8e0152"
            ],
            [
             0.1,
             "#c51b7d"
            ],
            [
             0.2,
             "#de77ae"
            ],
            [
             0.3,
             "#f1b6da"
            ],
            [
             0.4,
             "#fde0ef"
            ],
            [
             0.5,
             "#f7f7f7"
            ],
            [
             0.6,
             "#e6f5d0"
            ],
            [
             0.7,
             "#b8e186"
            ],
            [
             0.8,
             "#7fbc41"
            ],
            [
             0.9,
             "#4d9221"
            ],
            [
             1,
             "#276419"
            ]
           ],
           "sequential": [
            [
             0,
             "#0d0887"
            ],
            [
             0.1111111111111111,
             "#46039f"
            ],
            [
             0.2222222222222222,
             "#7201a8"
            ],
            [
             0.3333333333333333,
             "#9c179e"
            ],
            [
             0.4444444444444444,
             "#bd3786"
            ],
            [
             0.5555555555555556,
             "#d8576b"
            ],
            [
             0.6666666666666666,
             "#ed7953"
            ],
            [
             0.7777777777777778,
             "#fb9f3a"
            ],
            [
             0.8888888888888888,
             "#fdca26"
            ],
            [
             1,
             "#f0f921"
            ]
           ],
           "sequentialminus": [
            [
             0,
             "#0d0887"
            ],
            [
             0.1111111111111111,
             "#46039f"
            ],
            [
             0.2222222222222222,
             "#7201a8"
            ],
            [
             0.3333333333333333,
             "#9c179e"
            ],
            [
             0.4444444444444444,
             "#bd3786"
            ],
            [
             0.5555555555555556,
             "#d8576b"
            ],
            [
             0.6666666666666666,
             "#ed7953"
            ],
            [
             0.7777777777777778,
             "#fb9f3a"
            ],
            [
             0.8888888888888888,
             "#fdca26"
            ],
            [
             1,
             "#f0f921"
            ]
           ]
          },
          "colorway": [
           "#636efa",
           "#EF553B",
           "#00cc96",
           "#ab63fa",
           "#FFA15A",
           "#19d3f3",
           "#FF6692",
           "#B6E880",
           "#FF97FF",
           "#FECB52"
          ],
          "font": {
           "color": "#2a3f5f"
          },
          "geo": {
           "bgcolor": "white",
           "lakecolor": "white",
           "landcolor": "#E5ECF6",
           "showlakes": true,
           "showland": true,
           "subunitcolor": "white"
          },
          "hoverlabel": {
           "align": "left"
          },
          "hovermode": "closest",
          "mapbox": {
           "style": "light"
          },
          "paper_bgcolor": "white",
          "plot_bgcolor": "#E5ECF6",
          "polar": {
           "angularaxis": {
            "gridcolor": "white",
            "linecolor": "white",
            "ticks": ""
           },
           "bgcolor": "#E5ECF6",
           "radialaxis": {
            "gridcolor": "white",
            "linecolor": "white",
            "ticks": ""
           }
          },
          "scene": {
           "xaxis": {
            "backgroundcolor": "#E5ECF6",
            "gridcolor": "white",
            "gridwidth": 2,
            "linecolor": "white",
            "showbackground": true,
            "ticks": "",
            "zerolinecolor": "white"
           },
           "yaxis": {
            "backgroundcolor": "#E5ECF6",
            "gridcolor": "white",
            "gridwidth": 2,
            "linecolor": "white",
            "showbackground": true,
            "ticks": "",
            "zerolinecolor": "white"
           },
           "zaxis": {
            "backgroundcolor": "#E5ECF6",
            "gridcolor": "white",
            "gridwidth": 2,
            "linecolor": "white",
            "showbackground": true,
            "ticks": "",
            "zerolinecolor": "white"
           }
          },
          "shapedefaults": {
           "line": {
            "color": "#2a3f5f"
           }
          },
          "ternary": {
           "aaxis": {
            "gridcolor": "white",
            "linecolor": "white",
            "ticks": ""
           },
           "baxis": {
            "gridcolor": "white",
            "linecolor": "white",
            "ticks": ""
           },
           "bgcolor": "#E5ECF6",
           "caxis": {
            "gridcolor": "white",
            "linecolor": "white",
            "ticks": ""
           }
          },
          "title": {
           "x": 0.05
          },
          "xaxis": {
           "automargin": true,
           "gridcolor": "white",
           "linecolor": "white",
           "ticks": "",
           "title": {
            "standoff": 15
           },
           "zerolinecolor": "white",
           "zerolinewidth": 2
          },
          "yaxis": {
           "automargin": true,
           "gridcolor": "white",
           "linecolor": "white",
           "ticks": "",
           "title": {
            "standoff": 15
           },
           "zerolinecolor": "white",
           "zerolinewidth": 2
          }
         }
        },
        "title": {
         "font": {
          "size": 28
         },
         "text": "Neural Network Model - Ta compounds Young's Modulus"
        },
        "width": 1000,
        "xaxis": {
         "gridwidth": 1,
         "tickfont": {
          "size": 18
         },
         "title": {
          "font": {
           "size": 24
          },
          "text": "Real Values (GPa)"
         },
         "zeroline": false
        },
        "yaxis": {
         "gridwidth": 1,
         "tickfont": {
          "size": 18
         },
         "title": {
          "font": {
           "size": 24
          },
          "text": "Prediction (GPa)"
         },
         "zeroline": false
        }
       }
      },
      "text/html": [
       "<div>\n",
       "        \n",
       "        \n",
       "            <div id=\"acec0311-f8d1-4aef-bef5-c8f639bed12c\" class=\"plotly-graph-div\" style=\"height:600px; width:1000px;\"></div>\n",
       "            <script type=\"text/javascript\">\n",
       "                require([\"plotly\"], function(Plotly) {\n",
       "                    window.PLOTLYENV=window.PLOTLYENV || {};\n",
       "                    \n",
       "                if (document.getElementById(\"acec0311-f8d1-4aef-bef5-c8f639bed12c\")) {\n",
       "                    Plotly.newPlot(\n",
       "                        'acec0311-f8d1-4aef-bef5-c8f639bed12c',\n",
       "                        [{\"marker\": {\"color\": \"blue\", \"size\": 12}, \"mode\": \"markers\", \"name\": \"Young's Modulus (Training)\", \"text\": [\"TaS2\", \"Ta3B4\", \"TaRh3\", \"TaC\", \"TaB\", \"TaB2\", \"TaSi2\", \"Ta2Be\", \"TaGa3\", \"TaTc\", \"TaSb2\", \"TaAs2\", \"TaMn2\", \"TaN\", \"TaTe5Pt\", \"TaRu\", \"Ta2Ni\", \"TaAs\", \"TaS2\", \"Ta5Si3\", \"TaNiGe\", \"TaCr2\", \"Ta2H\", \"TaH2\", \"Ta5Sb4\", \"TaIr3\", \"Ta3N5\", \"Ta(ICl)2\", \"TaSe3\", \"TaPd2\", \"TaPd3\", \"TaPt2\", \"TaPt3\", \"Ta3Sn\", \"TaSbRu\", \"TaAlCo2\", \"LiTaO3\", \"TaCu3Se4\", \"TaSi2\", \"Ta3Sb\", \"LuTaO4\", \"TaV2\", \"TaBe12\", \"TaSn2\", \"TaFe2\", \"TaNi3\", \"TaIr\", \"Ta2Co\", \"TaAgS3\", \"Ta2C\", \"TaGe2\", \"TaSe2\", \"TaCo3\", \"LiTaRu2\", \"TaZn2\", \"Ta2FeOs\", \"DyTaRu2\", \"YTaRu2\", \"MgTaIr2\", \"TaTiOs2\", \"TaRu3\", \"TaAl3\", \"Ta2Se\", \"Ta3Ru\", \"Ta2CrRu\", \"TaW3\", \"TaPd\", \"Ta2AlC\", \"Ba(TaN2)2\", \"TaCu3S4\", \"TaTe4Ir\", \"Sr2TaN3\", \"TaSiRh\", \"TaSiIr\", \"TaGaCo2\", \"TaCuS3\", \"CsTaN2\", \"KTaO3\", \"MgTa2N3\", \"BaTaS3\", \"GdTaO4\", \"Rb3TaO8\", \"NaTaN2\", \"Li5TaO5\", \"Ta2CS2\", \"TaTiRu2\", \"TaTiTc2\", \"LiTaRh2\", \"TaAlOs2\", \"TaAlRu2\", \"ScTaOs2\", \"ErTaRu2\", \"Ta2NbIr\", \"Ta2OsW\", \"Ta2VOs\", \"Ta2MoRu\", \"MgTaRu2\", \"YbTaRu2\", \"TmTaRu2\", \"TaZnCo2\", \"LuTaOs2\", \"TaGaOs2\", \"ScTaTc2\", \"LiTaIr2\", \"Mg2TaN3\", \"SmTaO4\", \"Li7TaN4\", \"Mg4Ta2O9\", \"TaFeP\", \"La3(TaN3)2\", \"RbTaO3\", \"NdTaO4\", \"ErTaO4\", \"Ta4AlC3\", \"YTaO4\", \"ScTaO4\", \"TaAgS3\", \"Ta3AlC2\", \"Ta2PdSe6\", \"Ta2NbOs\", \"Ta2NbRu\", \"Ta2MoOs\", \"HfTaRe2\", \"HfTaTc2\", \"TaZnRu2\", \"HoTaRu2\", \"LuTaRu2\", \"ErTaOs2\", \"TaBeRu2\", \"TaMn2Al\", \"TaFeRu2\", \"Ce3(TaN3)2\", \"TaGaFe2\", \"TaCuRh2\", \"TaTiMn2\", \"TaTiRe2\", \"ScTaRu2\", \"TaCu3Te4\", \"TaNi2Te3\", \"Ta2TcW\", \"TaNbTc2\", \"Ta2ReMo\", \"Ta2TcMo\", \"Ta2VRu\", \"Ta2FeMo\", \"YbTaO4\", \"Ta3SiTe6\", \"MgTaOs2\", \"TaAlFe2\", \"Ba2YTaO6\", \"Sr2TaGaO6\", \"SrTa2Bi2O9\", \"Sr2TaCrO6\", \"Ba2LaTaO6\", \"SrTaNO2\"], \"type\": \"scatter\", \"x\": [48.76000000000001, 507.52, 382.5, 528.9, 502.68, 492.0, 337.96, 290.16, 192.0, 332.8, 176.66, 232.32, 235.84, 455.0, 30.24, 180.7, 215.46, 246.38, 42.84, 329.84, 199.5, 224.1, 178.20000000000005, 175.36, 151.2, 521.52, 261.36, 7.38, 33.879999999999995, 192.96, 234.96, 210.6, 243.00000000000003, 77.22, 184.8, 252.84, 202.52, 53.68, 337.96, 218.4, 149.34, 109.98, 317.4600000000001, 129.0, 245.52, 251.52, 257.28000000000003, 211.72, 88.4, 350.52, 246.84, 36.4, 320.0, 176.88000000000005, 222.5, 224.1, 190.08, 171.52, 432.9, 268.66, 306.54, 247.52, 63.96, 231.2, 251.92, 353.06, 190.28, 302.56, 64.48, 62.0, 31.46, 96.52, 304.44, 322.5, 225.32, 63.0, 78.08, 300.12, 486.42, 25.38, 169.0, 29.48, 234.24, 164.56, 60.5, 213.3, 264.62, 172.8, 366.08, 332.74, 312.32, 206.98, 278.2, 343.14, 258.02000000000004, 281.94, 227.94, 186.2, 204.36, 199.5, 251.52, 327.6, 194.18, 285.12, 138.86, 176.8, 157.07999999999996, 194.56, 363.22, 222.72, 71.82000000000002, 171.6, 171.52, 362.08, 176.88000000000005, 190.08, 84.48, 384.78, 23.04, 272.48, 242.88, 322.5, 306.54, 259.38, 225.12, 200.64, 222.72, 245.52, 220.78, 271.78000000000003, 275.1, 216.72, 314.96, 141.78, 234.96, 306.54, 260.58, 48.8, 25.0, 309.4000000000001, 274.32, 337.98, 284.76, 225.12, 254.8, 91.76, 36.6, 259.38, 339.76, 189.0, 230.0, 147.62, 269.64, 127.68, 210.82], \"y\": [51.42729187011719, 510.03955078125, 387.605712890625, 530.71728515625, 516.2871704101562, 495.35809326171875, 348.22259521484375, 295.711181640625, 192.9031524658203, 336.3939208984375, 179.20703125, 236.9971466064453, 242.15977478027344, 459.3487548828125, 30.0462703704834, 191.00137329101562, 220.36746215820312, 248.4024200439453, 41.51736068725586, 335.84637451171875, 204.3932342529297, 229.86904907226562, 183.59886169433594, 183.3429412841797, 154.60557556152344, 523.4382934570312, 266.7908020019531, 7.028107643127441, 30.83553695678711, 198.1190643310547, 237.98512268066406, 219.1715545654297, 245.9300079345703, 80.8676528930664, 188.1483917236328, 257.56640625, 203.74810791015625, 53.273868560791016, 336.4200744628906, 220.8503875732422, 153.25099182128906, 114.67778015136719, 324.2007141113281, 129.01466369628906, 251.6398162841797, 256.1631774902344, 265.76873779296875, 217.19471740722656, 88.50569152832031, 353.2386779785156, 252.4571990966797, 35.025856018066406, 325.803466796875, 178.6676483154297, 226.68890380859375, 231.794921875, 194.6151885986328, 174.47760009765625, 449.29388427734375, 275.7513427734375, 309.2304382324219, 247.29034423828125, 64.52603149414062, 239.5237274169922, 258.58538818359375, 353.887939453125, 195.42637634277344, 308.0902099609375, 62.43593215942383, 62.097408294677734, 31.440210342407227, 94.90665435791016, 305.4839782714844, 325.95733642578125, 230.29054260253906, 62.36857223510742, 78.32554626464844, 305.114501953125, 493.5804138183594, 26.16424560546875, 170.08383178710938, 30.273059844970703, 229.1725311279297, 168.04762268066406, 57.2292366027832, 219.37606811523438, 268.1490783691406, 176.84654235839844, 365.9677734375, 335.30157470703125, 313.8695068359375, 208.97589111328125, 282.4265441894531, 344.57183837890625, 261.3379821777344, 284.3275146484375, 230.43089294433594, 187.54244995117188, 207.03753662109375, 205.29876708984375, 255.51763916015625, 330.1009521484375, 199.0635528564453, 292.07342529296875, 140.22239685058594, 180.09117126464844, 158.64627075195312, 197.2045440673828, 367.591796875, 222.0554656982422, 109.03302001953125, 175.6784210205078, 172.65692138671875, 366.8260498046875, 187.05189514160156, 197.57957458496094, 63.35145950317383, 394.4090270996094, 25.547866821289062, 277.1485290527344, 246.7053680419922, 325.3345947265625, 311.00494384765625, 262.51116943359375, 228.63229370117188, 202.1955108642578, 226.3289031982422, 246.22854614257812, 226.75852966308594, 277.1904602050781, 277.66571044921875, 216.71018981933594, 318.3944091796875, 144.76132202148438, 239.54576110839844, 308.57916259765625, 263.2857360839844, 47.273921966552734, 27.040023803710938, 309.52886962890625, 276.4632568359375, 340.49072265625, 287.1690979003906, 230.3767547607422, 259.71136474609375, 107.99237060546875, 34.20626449584961, 262.43194580078125, 348.175537109375, 189.88006591796875, 229.16883850097656, 145.3675994873047, 270.2010498046875, 125.09117889404297, 113.46421813964844]}, {\"marker\": {\"color\": \"red\", \"size\": 12}, \"mode\": \"markers\", \"name\": \"Young's Modulus (Testing)\", \"text\": [\"Ta2NbRu\", \"Ta2MoOs\", \"HfTaRe2\", \"HfTaTc2\", \"TaZnRu2\", \"HoTaRu2\", \"LuTaRu2\", \"ErTaOs2\", \"TaBeRu2\", \"TaMn2Al\", \"TaFeRu2\", \"Ce3(TaN3)2\", \"TaGaFe2\", \"TaCuRh2\", \"TaTiMn2\", \"TaTiRe2\", \"ScTaRu2\", \"TaCu3Te4\", \"TaNi2Te3\", \"Ta2TcW\", \"TaNbTc2\", \"Ta2ReMo\", \"Ta2TcMo\", \"Ta2VRu\", \"Ta2FeMo\", \"YbTaO4\", \"Ta3SiTe6\", \"MgTaOs2\", \"TaAlFe2\", \"Ba2YTaO6\", \"Sr2TaGaO6\", \"SrTa2Bi2O9\", \"Sr2TaCrO6\", \"Ba2LaTaO6\", \"SrTaNO2\"], \"type\": \"scatter\", \"x\": [242.88, 322.5, 306.54, 259.38, 225.12, 200.64, 222.72, 245.52, 220.78, 271.78000000000003, 275.1, 216.72, 314.96, 141.78, 234.96, 306.54, 260.58, 48.8, 25.0, 309.4000000000001, 274.32, 337.98, 284.76, 225.12, 254.8, 91.76, 36.6, 259.38, 339.76, 189.0, 230.0, 147.62, 269.64, 127.68, 210.82], \"y\": [246.7053680419922, 325.3345947265625, 311.00494384765625, 262.51116943359375, 228.63229370117188, 202.1955108642578, 226.3289031982422, 246.22854614257812, 226.75852966308594, 277.1904602050781, 277.66571044921875, 216.71018981933594, 318.3944091796875, 144.76132202148438, 239.54576110839844, 308.57916259765625, 263.2857360839844, 47.273921966552734, 27.040023803710938, 309.52886962890625, 276.4632568359375, 340.49072265625, 287.1690979003906, 230.3767547607422, 259.71136474609375, 107.99237060546875, 34.20626449584961, 262.43194580078125, 348.175537109375, 189.88006591796875, 229.16883850097656, 145.3675994873047, 270.2010498046875, 125.09117889404297, 113.46421813964844]}, {\"mode\": \"lines\", \"name\": \"Match\", \"type\": \"scatter\", \"x\": [0, 600], \"y\": [0, 600]}],\n",
       "                        {\"height\": 600, \"hovermode\": \"closest\", \"legend\": {\"font\": {\"size\": 24}}, \"showlegend\": true, \"template\": {\"data\": {\"bar\": [{\"error_x\": {\"color\": \"#2a3f5f\"}, \"error_y\": {\"color\": \"#2a3f5f\"}, \"marker\": {\"line\": {\"color\": \"#E5ECF6\", \"width\": 0.5}}, \"type\": \"bar\"}], \"barpolar\": [{\"marker\": {\"line\": {\"color\": \"#E5ECF6\", \"width\": 0.5}}, \"type\": \"barpolar\"}], \"carpet\": [{\"aaxis\": {\"endlinecolor\": \"#2a3f5f\", \"gridcolor\": \"white\", \"linecolor\": \"white\", \"minorgridcolor\": \"white\", \"startlinecolor\": \"#2a3f5f\"}, \"baxis\": {\"endlinecolor\": \"#2a3f5f\", \"gridcolor\": \"white\", \"linecolor\": \"white\", \"minorgridcolor\": \"white\", \"startlinecolor\": \"#2a3f5f\"}, \"type\": \"carpet\"}], \"choropleth\": [{\"colorbar\": {\"outlinewidth\": 0, \"ticks\": \"\"}, \"type\": \"choropleth\"}], \"contour\": [{\"colorbar\": {\"outlinewidth\": 0, \"ticks\": \"\"}, \"colorscale\": [[0.0, \"#0d0887\"], [0.1111111111111111, \"#46039f\"], [0.2222222222222222, \"#7201a8\"], [0.3333333333333333, \"#9c179e\"], [0.4444444444444444, \"#bd3786\"], [0.5555555555555556, \"#d8576b\"], [0.6666666666666666, \"#ed7953\"], [0.7777777777777778, \"#fb9f3a\"], [0.8888888888888888, \"#fdca26\"], [1.0, \"#f0f921\"]], \"type\": \"contour\"}], \"contourcarpet\": [{\"colorbar\": {\"outlinewidth\": 0, \"ticks\": \"\"}, \"type\": \"contourcarpet\"}], \"heatmap\": [{\"colorbar\": {\"outlinewidth\": 0, \"ticks\": \"\"}, \"colorscale\": [[0.0, \"#0d0887\"], [0.1111111111111111, \"#46039f\"], [0.2222222222222222, \"#7201a8\"], [0.3333333333333333, \"#9c179e\"], [0.4444444444444444, \"#bd3786\"], [0.5555555555555556, \"#d8576b\"], [0.6666666666666666, \"#ed7953\"], [0.7777777777777778, \"#fb9f3a\"], [0.8888888888888888, \"#fdca26\"], [1.0, \"#f0f921\"]], \"type\": \"heatmap\"}], \"heatmapgl\": [{\"colorbar\": {\"outlinewidth\": 0, \"ticks\": \"\"}, \"colorscale\": [[0.0, \"#0d0887\"], [0.1111111111111111, \"#46039f\"], [0.2222222222222222, \"#7201a8\"], [0.3333333333333333, \"#9c179e\"], [0.4444444444444444, \"#bd3786\"], [0.5555555555555556, \"#d8576b\"], [0.6666666666666666, \"#ed7953\"], [0.7777777777777778, \"#fb9f3a\"], [0.8888888888888888, \"#fdca26\"], [1.0, \"#f0f921\"]], \"type\": \"heatmapgl\"}], \"histogram\": [{\"marker\": {\"colorbar\": {\"outlinewidth\": 0, \"ticks\": \"\"}}, \"type\": \"histogram\"}], \"histogram2d\": [{\"colorbar\": {\"outlinewidth\": 0, \"ticks\": \"\"}, \"colorscale\": [[0.0, \"#0d0887\"], [0.1111111111111111, \"#46039f\"], [0.2222222222222222, \"#7201a8\"], [0.3333333333333333, \"#9c179e\"], [0.4444444444444444, \"#bd3786\"], [0.5555555555555556, \"#d8576b\"], [0.6666666666666666, \"#ed7953\"], [0.7777777777777778, \"#fb9f3a\"], [0.8888888888888888, \"#fdca26\"], [1.0, \"#f0f921\"]], \"type\": \"histogram2d\"}], \"histogram2dcontour\": [{\"colorbar\": {\"outlinewidth\": 0, \"ticks\": \"\"}, \"colorscale\": [[0.0, \"#0d0887\"], [0.1111111111111111, \"#46039f\"], [0.2222222222222222, \"#7201a8\"], [0.3333333333333333, \"#9c179e\"], [0.4444444444444444, \"#bd3786\"], [0.5555555555555556, \"#d8576b\"], [0.6666666666666666, \"#ed7953\"], [0.7777777777777778, \"#fb9f3a\"], [0.8888888888888888, \"#fdca26\"], [1.0, \"#f0f921\"]], \"type\": \"histogram2dcontour\"}], \"mesh3d\": [{\"colorbar\": {\"outlinewidth\": 0, \"ticks\": \"\"}, \"type\": \"mesh3d\"}], \"parcoords\": [{\"line\": {\"colorbar\": {\"outlinewidth\": 0, \"ticks\": \"\"}}, \"type\": \"parcoords\"}], \"pie\": [{\"automargin\": true, \"type\": \"pie\"}], \"scatter\": [{\"marker\": {\"colorbar\": {\"outlinewidth\": 0, \"ticks\": \"\"}}, \"type\": \"scatter\"}], \"scatter3d\": [{\"line\": {\"colorbar\": {\"outlinewidth\": 0, \"ticks\": \"\"}}, \"marker\": {\"colorbar\": {\"outlinewidth\": 0, \"ticks\": \"\"}}, \"type\": \"scatter3d\"}], \"scattercarpet\": [{\"marker\": {\"colorbar\": {\"outlinewidth\": 0, \"ticks\": \"\"}}, \"type\": \"scattercarpet\"}], \"scattergeo\": [{\"marker\": {\"colorbar\": {\"outlinewidth\": 0, \"ticks\": \"\"}}, \"type\": \"scattergeo\"}], \"scattergl\": [{\"marker\": {\"colorbar\": {\"outlinewidth\": 0, \"ticks\": \"\"}}, \"type\": \"scattergl\"}], \"scattermapbox\": [{\"marker\": {\"colorbar\": {\"outlinewidth\": 0, \"ticks\": \"\"}}, \"type\": \"scattermapbox\"}], \"scatterpolar\": [{\"marker\": {\"colorbar\": {\"outlinewidth\": 0, \"ticks\": \"\"}}, \"type\": \"scatterpolar\"}], \"scatterpolargl\": [{\"marker\": {\"colorbar\": {\"outlinewidth\": 0, \"ticks\": \"\"}}, \"type\": \"scatterpolargl\"}], \"scatterternary\": [{\"marker\": {\"colorbar\": {\"outlinewidth\": 0, \"ticks\": \"\"}}, \"type\": \"scatterternary\"}], \"surface\": [{\"colorbar\": {\"outlinewidth\": 0, \"ticks\": \"\"}, \"colorscale\": [[0.0, \"#0d0887\"], [0.1111111111111111, \"#46039f\"], [0.2222222222222222, \"#7201a8\"], [0.3333333333333333, \"#9c179e\"], [0.4444444444444444, \"#bd3786\"], [0.5555555555555556, \"#d8576b\"], [0.6666666666666666, \"#ed7953\"], [0.7777777777777778, \"#fb9f3a\"], [0.8888888888888888, \"#fdca26\"], [1.0, \"#f0f921\"]], \"type\": \"surface\"}], \"table\": [{\"cells\": {\"fill\": {\"color\": \"#EBF0F8\"}, \"line\": {\"color\": \"white\"}}, \"header\": {\"fill\": {\"color\": \"#C8D4E3\"}, \"line\": {\"color\": \"white\"}}, \"type\": \"table\"}]}, \"layout\": {\"annotationdefaults\": {\"arrowcolor\": \"#2a3f5f\", \"arrowhead\": 0, \"arrowwidth\": 1}, \"coloraxis\": {\"colorbar\": {\"outlinewidth\": 0, \"ticks\": \"\"}}, \"colorscale\": {\"diverging\": [[0, \"#8e0152\"], [0.1, \"#c51b7d\"], [0.2, \"#de77ae\"], [0.3, \"#f1b6da\"], [0.4, \"#fde0ef\"], [0.5, \"#f7f7f7\"], [0.6, \"#e6f5d0\"], [0.7, \"#b8e186\"], [0.8, \"#7fbc41\"], [0.9, \"#4d9221\"], [1, \"#276419\"]], \"sequential\": [[0.0, \"#0d0887\"], [0.1111111111111111, \"#46039f\"], [0.2222222222222222, \"#7201a8\"], [0.3333333333333333, \"#9c179e\"], [0.4444444444444444, \"#bd3786\"], [0.5555555555555556, \"#d8576b\"], [0.6666666666666666, \"#ed7953\"], [0.7777777777777778, \"#fb9f3a\"], [0.8888888888888888, \"#fdca26\"], [1.0, \"#f0f921\"]], \"sequentialminus\": [[0.0, \"#0d0887\"], [0.1111111111111111, \"#46039f\"], [0.2222222222222222, \"#7201a8\"], [0.3333333333333333, \"#9c179e\"], [0.4444444444444444, \"#bd3786\"], [0.5555555555555556, \"#d8576b\"], [0.6666666666666666, \"#ed7953\"], [0.7777777777777778, \"#fb9f3a\"], [0.8888888888888888, \"#fdca26\"], [1.0, \"#f0f921\"]]}, \"colorway\": [\"#636efa\", \"#EF553B\", \"#00cc96\", \"#ab63fa\", \"#FFA15A\", \"#19d3f3\", \"#FF6692\", \"#B6E880\", \"#FF97FF\", \"#FECB52\"], \"font\": {\"color\": \"#2a3f5f\"}, \"geo\": {\"bgcolor\": \"white\", \"lakecolor\": \"white\", \"landcolor\": \"#E5ECF6\", \"showlakes\": true, \"showland\": true, \"subunitcolor\": \"white\"}, \"hoverlabel\": {\"align\": \"left\"}, \"hovermode\": \"closest\", \"mapbox\": {\"style\": \"light\"}, \"paper_bgcolor\": \"white\", \"plot_bgcolor\": \"#E5ECF6\", \"polar\": {\"angularaxis\": {\"gridcolor\": \"white\", \"linecolor\": \"white\", \"ticks\": \"\"}, \"bgcolor\": \"#E5ECF6\", \"radialaxis\": {\"gridcolor\": \"white\", \"linecolor\": \"white\", \"ticks\": \"\"}}, \"scene\": {\"xaxis\": {\"backgroundcolor\": \"#E5ECF6\", \"gridcolor\": \"white\", \"gridwidth\": 2, \"linecolor\": \"white\", \"showbackground\": true, \"ticks\": \"\", \"zerolinecolor\": \"white\"}, \"yaxis\": {\"backgroundcolor\": \"#E5ECF6\", \"gridcolor\": \"white\", \"gridwidth\": 2, \"linecolor\": \"white\", \"showbackground\": true, \"ticks\": \"\", \"zerolinecolor\": \"white\"}, \"zaxis\": {\"backgroundcolor\": \"#E5ECF6\", \"gridcolor\": \"white\", \"gridwidth\": 2, \"linecolor\": \"white\", \"showbackground\": true, \"ticks\": \"\", \"zerolinecolor\": \"white\"}}, \"shapedefaults\": {\"line\": {\"color\": \"#2a3f5f\"}}, \"ternary\": {\"aaxis\": {\"gridcolor\": \"white\", \"linecolor\": \"white\", \"ticks\": \"\"}, \"baxis\": {\"gridcolor\": \"white\", \"linecolor\": \"white\", \"ticks\": \"\"}, \"bgcolor\": \"#E5ECF6\", \"caxis\": {\"gridcolor\": \"white\", \"linecolor\": \"white\", \"ticks\": \"\"}}, \"title\": {\"x\": 0.05}, \"xaxis\": {\"automargin\": true, \"gridcolor\": \"white\", \"linecolor\": \"white\", \"ticks\": \"\", \"title\": {\"standoff\": 15}, \"zerolinecolor\": \"white\", \"zerolinewidth\": 2}, \"yaxis\": {\"automargin\": true, \"gridcolor\": \"white\", \"linecolor\": \"white\", \"ticks\": \"\", \"title\": {\"standoff\": 15}, \"zerolinecolor\": \"white\", \"zerolinewidth\": 2}}}, \"title\": {\"font\": {\"size\": 28}, \"text\": \"Neural Network Model - Ta compounds Young's Modulus\"}, \"width\": 1000, \"xaxis\": {\"gridwidth\": 1, \"tickfont\": {\"size\": 18}, \"title\": {\"font\": {\"size\": 24}, \"text\": \"Real Values (GPa)\"}, \"zeroline\": false}, \"yaxis\": {\"gridwidth\": 1, \"tickfont\": {\"size\": 18}, \"title\": {\"font\": {\"size\": 24}, \"text\": \"Prediction (GPa)\"}, \"zeroline\": false}},\n",
       "                        {\"responsive\": true}\n",
       "                    ).then(function(){\n",
       "                            \n",
       "var gd = document.getElementById('acec0311-f8d1-4aef-bef5-c8f639bed12c');\n",
       "var x = new MutationObserver(function (mutations, observer) {{\n",
       "        var display = window.getComputedStyle(gd).display;\n",
       "        if (!display || display === 'none') {{\n",
       "            console.log([gd, 'removed!']);\n",
       "            Plotly.purge(gd);\n",
       "            observer.disconnect();\n",
       "        }}\n",
       "}});\n",
       "\n",
       "// Listen for the removal of the full notebook cells\n",
       "var notebookContainer = gd.closest('#notebook-container');\n",
       "if (notebookContainer) {{\n",
       "    x.observe(notebookContainer, {childList: true});\n",
       "}}\n",
       "\n",
       "// Listen for the clearing of the current output cell\n",
       "var outputEl = gd.closest('.output');\n",
       "if (outputEl) {{\n",
       "    x.observe(outputEl, {childList: true});\n",
       "}}\n",
       "\n",
       "                        })\n",
       "                };\n",
       "                });\n",
       "            </script>\n",
       "        </div>"
      ]
     },
     "metadata": {},
     "output_type": "display_data"
    }
   ],
   "source": [
    "import plotly\n",
    "import plotly.graph_objs as go\n",
    "from plotly.offline import iplot\n",
    "\n",
    "plotly.offline.init_notebook_mode(connected=True)\n",
    "\n",
    "layout0= go.Layout(title=go.layout.Title(text=\"Neural Network Model - Ta compounds Young's Modulus\", font=dict(size=28)), hovermode= 'closest', width = 1000, height=600, showlegend=True,  # Hovermode establishes the way the labels that appear when you hover are arranged # Establishing a square plot width=height\n",
    "    xaxis= dict(title=go.layout.xaxis.Title(text='Real Values (GPa)', font=dict(size=24)), zeroline= False, gridwidth= 1, tickfont=dict(size=18)), # Axis Titles. Removing the X-axis Mark. Adding a Grid\n",
    "    yaxis= dict(title=go.layout.yaxis.Title(text='Prediction (GPa)', font=dict(size=24)), zeroline= False, gridwidth= 1, tickfont=dict(size=18)), # Axis Titles. Removing the Y-axis Mark. Adding a Grid\n",
    "    legend=dict(font=dict(size=24))) # Adding a legend\n",
    "\n",
    "trace0 = go.Scatter(x = all_labels, y = predictions, mode = 'markers', marker= dict(size= 12, color= 'blue'), text= elements, name = 'Young\\'s Modulus (Training)')\n",
    "trace1 = go.Scatter(x = test_labels, y = test_predictions, mode = 'markers', marker= dict(size= 12, color= 'red'), text = labeled_elements, name = 'Young\\'s Modulus (Testing)')\n",
    "trace2 = go.Scatter(x = [0,600], y = [0,600], mode = 'lines', name = \"Match\") # This trace is the line X = Y which would indicate that the Prediction equals the real value\n",
    "\n",
    "data = [trace0, trace1, trace2]\n",
    "fig= go.Figure(data, layout=layout0)\n",
    "iplot(fig)"
   ]
  },
  {
   "cell_type": "code",
   "execution_count": 13,
   "metadata": {},
   "outputs": [
    {
     "name": "stdout",
     "output_type": "stream",
     "text": [
      "155/155 - 0s - loss: 8.1985e-06 - mean_absolute_error: 8.1985e-06\n",
      "Loss: 8.198522717124903e-06, Accuracy: 8.198522664315533e-06\n"
     ]
    }
   ],
   "source": [
    "model_loss, model_accuracy = model.evaluate(values, predictions,verbose=2)\n",
    "print(f\"Loss: {model_loss}, Accuracy: {model_accuracy}\")"
   ]
  },
  {
   "cell_type": "code",
   "execution_count": null,
   "metadata": {},
   "outputs": [],
   "source": []
  }
 ],
 "metadata": {
  "kernelspec": {
   "display_name": "PythonData",
   "language": "python",
   "name": "pythondata"
  },
  "language_info": {
   "codemirror_mode": {
    "name": "ipython",
    "version": 3
   },
   "file_extension": ".py",
   "mimetype": "text/x-python",
   "name": "python",
   "nbconvert_exporter": "python",
   "pygments_lexer": "ipython3",
   "version": "3.7.7"
  }
 },
 "nbformat": 4,
 "nbformat_minor": 2
}
