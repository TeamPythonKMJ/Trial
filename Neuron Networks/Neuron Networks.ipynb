{
 "cells": [
  {
   "cell_type": "markdown",
   "metadata": {},
   "source": [
    "### 1. Getting a dataset\n",
    "\n",
    "We have 12 datasets to explore in this notebook to predict the Young's Modulus with a three-layer neuron networks model with 2000 epochs. "
   ]
  },
  {
   "cell_type": "code",
   "execution_count": 1,
   "metadata": {},
   "outputs": [
    {
     "name": "stderr",
     "output_type": "stream",
     "text": [
      "C:\\Users\\Kayla Yano\\anaconda3\\envs\\PythonData\\lib\\site-packages\\tensorflow\\python\\framework\\dtypes.py:516: FutureWarning: Passing (type, 1) or '1type' as a synonym of type is deprecated; in a future version of numpy, it will be understood as (type, (1,)) / '(1,)type'.\n",
      "  _np_qint8 = np.dtype([(\"qint8\", np.int8, 1)])\n",
      "C:\\Users\\Kayla Yano\\anaconda3\\envs\\PythonData\\lib\\site-packages\\tensorflow\\python\\framework\\dtypes.py:517: FutureWarning: Passing (type, 1) or '1type' as a synonym of type is deprecated; in a future version of numpy, it will be understood as (type, (1,)) / '(1,)type'.\n",
      "  _np_quint8 = np.dtype([(\"quint8\", np.uint8, 1)])\n",
      "C:\\Users\\Kayla Yano\\anaconda3\\envs\\PythonData\\lib\\site-packages\\tensorflow\\python\\framework\\dtypes.py:518: FutureWarning: Passing (type, 1) or '1type' as a synonym of type is deprecated; in a future version of numpy, it will be understood as (type, (1,)) / '(1,)type'.\n",
      "  _np_qint16 = np.dtype([(\"qint16\", np.int16, 1)])\n",
      "C:\\Users\\Kayla Yano\\anaconda3\\envs\\PythonData\\lib\\site-packages\\tensorflow\\python\\framework\\dtypes.py:519: FutureWarning: Passing (type, 1) or '1type' as a synonym of type is deprecated; in a future version of numpy, it will be understood as (type, (1,)) / '(1,)type'.\n",
      "  _np_quint16 = np.dtype([(\"quint16\", np.uint16, 1)])\n",
      "C:\\Users\\Kayla Yano\\anaconda3\\envs\\PythonData\\lib\\site-packages\\tensorflow\\python\\framework\\dtypes.py:520: FutureWarning: Passing (type, 1) or '1type' as a synonym of type is deprecated; in a future version of numpy, it will be understood as (type, (1,)) / '(1,)type'.\n",
      "  _np_qint32 = np.dtype([(\"qint32\", np.int32, 1)])\n",
      "C:\\Users\\Kayla Yano\\anaconda3\\envs\\PythonData\\lib\\site-packages\\tensorflow\\python\\framework\\dtypes.py:525: FutureWarning: Passing (type, 1) or '1type' as a synonym of type is deprecated; in a future version of numpy, it will be understood as (type, (1,)) / '(1,)type'.\n",
      "  np_resource = np.dtype([(\"resource\", np.ubyte, 1)])\n",
      "C:\\Users\\Kayla Yano\\anaconda3\\envs\\PythonData\\lib\\site-packages\\tensorboard\\compat\\tensorflow_stub\\dtypes.py:541: FutureWarning: Passing (type, 1) or '1type' as a synonym of type is deprecated; in a future version of numpy, it will be understood as (type, (1,)) / '(1,)type'.\n",
      "  _np_qint8 = np.dtype([(\"qint8\", np.int8, 1)])\n",
      "C:\\Users\\Kayla Yano\\anaconda3\\envs\\PythonData\\lib\\site-packages\\tensorboard\\compat\\tensorflow_stub\\dtypes.py:542: FutureWarning: Passing (type, 1) or '1type' as a synonym of type is deprecated; in a future version of numpy, it will be understood as (type, (1,)) / '(1,)type'.\n",
      "  _np_quint8 = np.dtype([(\"quint8\", np.uint8, 1)])\n",
      "C:\\Users\\Kayla Yano\\anaconda3\\envs\\PythonData\\lib\\site-packages\\tensorboard\\compat\\tensorflow_stub\\dtypes.py:543: FutureWarning: Passing (type, 1) or '1type' as a synonym of type is deprecated; in a future version of numpy, it will be understood as (type, (1,)) / '(1,)type'.\n",
      "  _np_qint16 = np.dtype([(\"qint16\", np.int16, 1)])\n",
      "C:\\Users\\Kayla Yano\\anaconda3\\envs\\PythonData\\lib\\site-packages\\tensorboard\\compat\\tensorflow_stub\\dtypes.py:544: FutureWarning: Passing (type, 1) or '1type' as a synonym of type is deprecated; in a future version of numpy, it will be understood as (type, (1,)) / '(1,)type'.\n",
      "  _np_quint16 = np.dtype([(\"quint16\", np.uint16, 1)])\n",
      "C:\\Users\\Kayla Yano\\anaconda3\\envs\\PythonData\\lib\\site-packages\\tensorboard\\compat\\tensorflow_stub\\dtypes.py:545: FutureWarning: Passing (type, 1) or '1type' as a synonym of type is deprecated; in a future version of numpy, it will be understood as (type, (1,)) / '(1,)type'.\n",
      "  _np_qint32 = np.dtype([(\"qint32\", np.int32, 1)])\n",
      "C:\\Users\\Kayla Yano\\anaconda3\\envs\\PythonData\\lib\\site-packages\\tensorboard\\compat\\tensorflow_stub\\dtypes.py:550: FutureWarning: Passing (type, 1) or '1type' as a synonym of type is deprecated; in a future version of numpy, it will be understood as (type, (1,)) / '(1,)type'.\n",
      "  np_resource = np.dtype([(\"resource\", np.ubyte, 1)])\n"
     ]
    }
   ],
   "source": [
    "import pymatgen as pymat\n",
    "import mendeleev as mendel\n",
    "import pandas as pd\n",
    "import numpy as np\n",
    "from pathlib import Path\n",
    "import tensorflow as tf\n",
    "import tensorflow.keras\n",
    "from tensorflow.keras import initializers\n",
    "from tensorflow.keras.layers import Dense\n",
    "from tensorflow.keras.models import Sequential\n",
    "from tensorflow.keras import optimizers\n",
    "\n",
    "import sys\n",
    "import os\n",
    "sys.path.insert(0, '../src/')\n",
    "\n",
    "%matplotlib inline\n",
    "import matplotlib.pyplot as plt"
   ]
  },
  {
   "cell_type": "code",
   "execution_count": 16,
   "metadata": {
    "scrolled": true
   },
   "outputs": [
    {
     "data": {
      "text/html": [
       "<div>\n",
       "<style scoped>\n",
       "    .dataframe tbody tr th:only-of-type {\n",
       "        vertical-align: middle;\n",
       "    }\n",
       "\n",
       "    .dataframe tbody tr th {\n",
       "        vertical-align: top;\n",
       "    }\n",
       "\n",
       "    .dataframe thead th {\n",
       "        text-align: right;\n",
       "    }\n",
       "</style>\n",
       "<table border=\"1\" class=\"dataframe\">\n",
       "  <thead>\n",
       "    <tr style=\"text-align: right;\">\n",
       "      <th></th>\n",
       "      <th>Unnamed: 0</th>\n",
       "      <th>mp_id</th>\n",
       "      <th>Formula</th>\n",
       "      <th>Composition</th>\n",
       "      <th>IPF</th>\n",
       "      <th>Density</th>\n",
       "      <th>Elastic_Tensor</th>\n",
       "      <th>E_above_Hull</th>\n",
       "      <th>G_VRH</th>\n",
       "      <th>K_VRH</th>\n",
       "      <th>Elastic_Anisotropy</th>\n",
       "      <th>poisson_ratio</th>\n",
       "      <th>Y_Modulus</th>\n",
       "    </tr>\n",
       "  </thead>\n",
       "  <tbody>\n",
       "    <tr>\n",
       "      <th>0</th>\n",
       "      <td>0</td>\n",
       "      <td>mp-1005</td>\n",
       "      <td>FeP</td>\n",
       "      <td>{'Fe': 1.0, 'P': 1.0}</td>\n",
       "      <td>0.145502</td>\n",
       "      <td>6.371739</td>\n",
       "      <td>{'G_Reuss': 130.0, 'G_VRH': 133.0, 'G_Voigt': ...</td>\n",
       "      <td>0.0</td>\n",
       "      <td>133.0</td>\n",
       "      <td>212.0</td>\n",
       "      <td>0.28</td>\n",
       "      <td>0.24</td>\n",
       "      <td>329.84</td>\n",
       "    </tr>\n",
       "    <tr>\n",
       "      <th>1</th>\n",
       "      <td>1</td>\n",
       "      <td>mp-1009077</td>\n",
       "      <td>FeH</td>\n",
       "      <td>{'Fe': 1.0, 'H': 1.0}</td>\n",
       "      <td>0.195137</td>\n",
       "      <td>7.098567</td>\n",
       "      <td>{'G_Reuss': 91.0, 'G_VRH': 91.0, 'G_Voigt': 91...</td>\n",
       "      <td>0.0</td>\n",
       "      <td>91.0</td>\n",
       "      <td>177.0</td>\n",
       "      <td>0.03</td>\n",
       "      <td>0.28</td>\n",
       "      <td>232.96</td>\n",
       "    </tr>\n",
       "    <tr>\n",
       "      <th>2</th>\n",
       "      <td>2</td>\n",
       "      <td>mp-11385</td>\n",
       "      <td>YFe5</td>\n",
       "      <td>{'Y': 1.0, 'Fe': 5.0}</td>\n",
       "      <td>0.205646</td>\n",
       "      <td>7.107153</td>\n",
       "      <td>{'G_Reuss': 67.0, 'G_VRH': 68.0, 'G_Voigt': 68...</td>\n",
       "      <td>0.0</td>\n",
       "      <td>68.0</td>\n",
       "      <td>105.0</td>\n",
       "      <td>0.13</td>\n",
       "      <td>0.23</td>\n",
       "      <td>167.28</td>\n",
       "    </tr>\n",
       "    <tr>\n",
       "      <th>3</th>\n",
       "      <td>3</td>\n",
       "      <td>mp-1418</td>\n",
       "      <td>FeNi3</td>\n",
       "      <td>{'Fe': 1.0, 'Ni': 3.0}</td>\n",
       "      <td>0.173671</td>\n",
       "      <td>8.700536</td>\n",
       "      <td>{'G_Reuss': 90.0, 'G_VRH': 96.0, 'G_Voigt': 10...</td>\n",
       "      <td>0.0</td>\n",
       "      <td>96.0</td>\n",
       "      <td>203.0</td>\n",
       "      <td>0.73</td>\n",
       "      <td>0.30</td>\n",
       "      <td>249.60</td>\n",
       "    </tr>\n",
       "    <tr>\n",
       "      <th>4</th>\n",
       "      <td>4</td>\n",
       "      <td>mp-1570</td>\n",
       "      <td>YFe2</td>\n",
       "      <td>{'Y': 1.0, 'Fe': 2.0}</td>\n",
       "      <td>0.204319</td>\n",
       "      <td>6.872990</td>\n",
       "      <td>{'G_Reuss': 35.0, 'G_VRH': 36.0, 'G_Voigt': 37...</td>\n",
       "      <td>0.0</td>\n",
       "      <td>36.0</td>\n",
       "      <td>92.0</td>\n",
       "      <td>0.25</td>\n",
       "      <td>0.33</td>\n",
       "      <td>95.76</td>\n",
       "    </tr>\n",
       "    <tr>\n",
       "      <th>...</th>\n",
       "      <td>...</td>\n",
       "      <td>...</td>\n",
       "      <td>...</td>\n",
       "      <td>...</td>\n",
       "      <td>...</td>\n",
       "      <td>...</td>\n",
       "      <td>...</td>\n",
       "      <td>...</td>\n",
       "      <td>...</td>\n",
       "      <td>...</td>\n",
       "      <td>...</td>\n",
       "      <td>...</td>\n",
       "      <td>...</td>\n",
       "    </tr>\n",
       "    <tr>\n",
       "      <th>206</th>\n",
       "      <td>206</td>\n",
       "      <td>mp-6624</td>\n",
       "      <td>Tb2Fe2Si2C</td>\n",
       "      <td>{'Tb': 2.0, 'Fe': 2.0, 'Si': 2.0, 'C': 1.0}</td>\n",
       "      <td>0.133449</td>\n",
       "      <td>7.583527</td>\n",
       "      <td>{'G_Reuss': 76.0, 'G_VRH': 81.0, 'G_Voigt': 85...</td>\n",
       "      <td>0.0</td>\n",
       "      <td>81.0</td>\n",
       "      <td>126.0</td>\n",
       "      <td>0.61</td>\n",
       "      <td>0.24</td>\n",
       "      <td>200.88</td>\n",
       "    </tr>\n",
       "    <tr>\n",
       "      <th>207</th>\n",
       "      <td>207</td>\n",
       "      <td>mp-998980</td>\n",
       "      <td>TiAlFeCo</td>\n",
       "      <td>{'Ti': 1.0, 'Al': 1.0, 'Fe': 1.0, 'Co': 1.0}</td>\n",
       "      <td>0.170756</td>\n",
       "      <td>6.423142</td>\n",
       "      <td>{'G_Reuss': 127.0, 'G_VRH': 127.0, 'G_Voigt': ...</td>\n",
       "      <td>0.0</td>\n",
       "      <td>127.0</td>\n",
       "      <td>175.0</td>\n",
       "      <td>0.01</td>\n",
       "      <td>0.21</td>\n",
       "      <td>307.34</td>\n",
       "    </tr>\n",
       "    <tr>\n",
       "      <th>208</th>\n",
       "      <td>208</td>\n",
       "      <td>mp-1025316</td>\n",
       "      <td>Ho2Fe2Si2C</td>\n",
       "      <td>{'Ho': 2.0, 'Fe': 2.0, 'Si': 2.0, 'C': 1.0}</td>\n",
       "      <td>0.150549</td>\n",
       "      <td>7.927919</td>\n",
       "      <td>{'G_Reuss': 80.0, 'G_VRH': 84.0, 'G_Voigt': 87...</td>\n",
       "      <td>0.0</td>\n",
       "      <td>84.0</td>\n",
       "      <td>129.0</td>\n",
       "      <td>0.51</td>\n",
       "      <td>0.23</td>\n",
       "      <td>206.64</td>\n",
       "    </tr>\n",
       "    <tr>\n",
       "      <th>209</th>\n",
       "      <td>209</td>\n",
       "      <td>mp-1025357</td>\n",
       "      <td>Lu2Fe2Si2C</td>\n",
       "      <td>{'Lu': 2.0, 'Fe': 2.0, 'Si': 2.0, 'C': 1.0}</td>\n",
       "      <td>0.145499</td>\n",
       "      <td>8.519184</td>\n",
       "      <td>{'G_Reuss': 82.0, 'G_VRH': 85.0, 'G_Voigt': 88...</td>\n",
       "      <td>0.0</td>\n",
       "      <td>85.0</td>\n",
       "      <td>141.0</td>\n",
       "      <td>0.37</td>\n",
       "      <td>0.25</td>\n",
       "      <td>212.50</td>\n",
       "    </tr>\n",
       "    <tr>\n",
       "      <th>210</th>\n",
       "      <td>210</td>\n",
       "      <td>mp-18878</td>\n",
       "      <td>LiFeAs2O7</td>\n",
       "      <td>{'Li': 1.0, 'Fe': 1.0, 'As': 2.0, 'O': 7.0}</td>\n",
       "      <td>0.498498</td>\n",
       "      <td>4.028045</td>\n",
       "      <td>{'G_Reuss': 47.0, 'G_VRH': 48.0, 'G_Voigt': 49...</td>\n",
       "      <td>0.0</td>\n",
       "      <td>48.0</td>\n",
       "      <td>96.0</td>\n",
       "      <td>0.34</td>\n",
       "      <td>0.29</td>\n",
       "      <td>123.84</td>\n",
       "    </tr>\n",
       "  </tbody>\n",
       "</table>\n",
       "<p>211 rows × 13 columns</p>\n",
       "</div>"
      ],
      "text/plain": [
       "     Unnamed: 0       mp_id     Formula  \\\n",
       "0             0     mp-1005         FeP   \n",
       "1             1  mp-1009077         FeH   \n",
       "2             2    mp-11385        YFe5   \n",
       "3             3     mp-1418       FeNi3   \n",
       "4             4     mp-1570        YFe2   \n",
       "..          ...         ...         ...   \n",
       "206         206     mp-6624  Tb2Fe2Si2C   \n",
       "207         207   mp-998980    TiAlFeCo   \n",
       "208         208  mp-1025316  Ho2Fe2Si2C   \n",
       "209         209  mp-1025357  Lu2Fe2Si2C   \n",
       "210         210    mp-18878   LiFeAs2O7   \n",
       "\n",
       "                                      Composition       IPF   Density  \\\n",
       "0                           {'Fe': 1.0, 'P': 1.0}  0.145502  6.371739   \n",
       "1                           {'Fe': 1.0, 'H': 1.0}  0.195137  7.098567   \n",
       "2                           {'Y': 1.0, 'Fe': 5.0}  0.205646  7.107153   \n",
       "3                          {'Fe': 1.0, 'Ni': 3.0}  0.173671  8.700536   \n",
       "4                           {'Y': 1.0, 'Fe': 2.0}  0.204319  6.872990   \n",
       "..                                            ...       ...       ...   \n",
       "206   {'Tb': 2.0, 'Fe': 2.0, 'Si': 2.0, 'C': 1.0}  0.133449  7.583527   \n",
       "207  {'Ti': 1.0, 'Al': 1.0, 'Fe': 1.0, 'Co': 1.0}  0.170756  6.423142   \n",
       "208   {'Ho': 2.0, 'Fe': 2.0, 'Si': 2.0, 'C': 1.0}  0.150549  7.927919   \n",
       "209   {'Lu': 2.0, 'Fe': 2.0, 'Si': 2.0, 'C': 1.0}  0.145499  8.519184   \n",
       "210   {'Li': 1.0, 'Fe': 1.0, 'As': 2.0, 'O': 7.0}  0.498498  4.028045   \n",
       "\n",
       "                                        Elastic_Tensor  E_above_Hull  G_VRH  \\\n",
       "0    {'G_Reuss': 130.0, 'G_VRH': 133.0, 'G_Voigt': ...           0.0  133.0   \n",
       "1    {'G_Reuss': 91.0, 'G_VRH': 91.0, 'G_Voigt': 91...           0.0   91.0   \n",
       "2    {'G_Reuss': 67.0, 'G_VRH': 68.0, 'G_Voigt': 68...           0.0   68.0   \n",
       "3    {'G_Reuss': 90.0, 'G_VRH': 96.0, 'G_Voigt': 10...           0.0   96.0   \n",
       "4    {'G_Reuss': 35.0, 'G_VRH': 36.0, 'G_Voigt': 37...           0.0   36.0   \n",
       "..                                                 ...           ...    ...   \n",
       "206  {'G_Reuss': 76.0, 'G_VRH': 81.0, 'G_Voigt': 85...           0.0   81.0   \n",
       "207  {'G_Reuss': 127.0, 'G_VRH': 127.0, 'G_Voigt': ...           0.0  127.0   \n",
       "208  {'G_Reuss': 80.0, 'G_VRH': 84.0, 'G_Voigt': 87...           0.0   84.0   \n",
       "209  {'G_Reuss': 82.0, 'G_VRH': 85.0, 'G_Voigt': 88...           0.0   85.0   \n",
       "210  {'G_Reuss': 47.0, 'G_VRH': 48.0, 'G_Voigt': 49...           0.0   48.0   \n",
       "\n",
       "     K_VRH  Elastic_Anisotropy  poisson_ratio  Y_Modulus  \n",
       "0    212.0                0.28           0.24     329.84  \n",
       "1    177.0                0.03           0.28     232.96  \n",
       "2    105.0                0.13           0.23     167.28  \n",
       "3    203.0                0.73           0.30     249.60  \n",
       "4     92.0                0.25           0.33      95.76  \n",
       "..     ...                 ...            ...        ...  \n",
       "206  126.0                0.61           0.24     200.88  \n",
       "207  175.0                0.01           0.21     307.34  \n",
       "208  129.0                0.51           0.23     206.64  \n",
       "209  141.0                0.37           0.25     212.50  \n",
       "210   96.0                0.34           0.29     123.84  \n",
       "\n",
       "[211 rows x 13 columns]"
      ]
     },
     "execution_count": 16,
     "metadata": {},
     "output_type": "execute_result"
    }
   ],
   "source": [
    "# df = pd.read_csv(Path('../All Data Export/Ti_compounds_dataframe.csv'))\n",
    "# df = pd.read_csv(Path('../All Data Export/C_compounds_dataframe.csv'))\n",
    "# df = pd.read_csv(Path('../All Data Export/Cr_compounds_dataframe.csv'))\n",
    "df = pd.read_csv(Path('../All Data Export/Fe_compounds_dataframe.csv'))\n",
    "# df = pd.read_csv(Path('../All Data Export/Hf_compounds_dataframe.csv'))\n",
    "# df = pd.read_csv(Path('../All Data Export/Mo_compounds_dataframe.csv'))\n",
    "# df = pd.read_csv(Path('../All Data Export/Nb_compounds_dataframe.csv'))\n",
    "# df = pd.read_csv(Path('../All Data Export/Ni_compounds_dataframe.csv'))\n",
    "# df = pd.read_csv(Path('../All Data Export/V_compounds_dataframe.csv'))\n",
    "# df = pd.read_csv(Path('../All Data Export/W_compounds_dataframe.csv'))\n",
    "# df = pd.read_csv(Path('../All Data Export/Zr_compounds_dataframe.csv'))\n",
    "# df = pd.read_csv(Path('../All Data Export/Ta_compounds_dataframe.csv'))\n",
    "df"
   ]
  },
  {
   "cell_type": "code",
   "execution_count": 17,
   "metadata": {},
   "outputs": [
    {
     "data": {
      "text/plain": [
       "Index(['Unnamed: 0', 'mp_id', 'Formula', 'Composition', 'IPF', 'Density',\n",
       "       'Elastic_Tensor', 'E_above_Hull', 'G_VRH', 'K_VRH',\n",
       "       'Elastic_Anisotropy', 'poisson_ratio', 'Y_Modulus'],\n",
       "      dtype='object')"
      ]
     },
     "execution_count": 17,
     "metadata": {},
     "output_type": "execute_result"
    }
   ],
   "source": [
    "df.columns"
   ]
  },
  {
   "cell_type": "code",
   "execution_count": 18,
   "metadata": {},
   "outputs": [
    {
     "data": {
      "text/html": [
       "<div>\n",
       "<style scoped>\n",
       "    .dataframe tbody tr th:only-of-type {\n",
       "        vertical-align: middle;\n",
       "    }\n",
       "\n",
       "    .dataframe tbody tr th {\n",
       "        vertical-align: top;\n",
       "    }\n",
       "\n",
       "    .dataframe thead th {\n",
       "        text-align: right;\n",
       "    }\n",
       "</style>\n",
       "<table border=\"1\" class=\"dataframe\">\n",
       "  <thead>\n",
       "    <tr style=\"text-align: right;\">\n",
       "      <th></th>\n",
       "      <th>IPF</th>\n",
       "      <th>Density</th>\n",
       "      <th>E_above_Hull</th>\n",
       "      <th>G_VRH</th>\n",
       "      <th>K_VRH</th>\n",
       "      <th>Elastic_Anisotropy</th>\n",
       "      <th>poisson_ratio</th>\n",
       "      <th>Y_Modulus</th>\n",
       "    </tr>\n",
       "  </thead>\n",
       "  <tbody>\n",
       "    <tr>\n",
       "      <th>0</th>\n",
       "      <td>0.145502</td>\n",
       "      <td>6.371739</td>\n",
       "      <td>0.0</td>\n",
       "      <td>133.0</td>\n",
       "      <td>212.0</td>\n",
       "      <td>0.28</td>\n",
       "      <td>0.24</td>\n",
       "      <td>329.84</td>\n",
       "    </tr>\n",
       "    <tr>\n",
       "      <th>1</th>\n",
       "      <td>0.195137</td>\n",
       "      <td>7.098567</td>\n",
       "      <td>0.0</td>\n",
       "      <td>91.0</td>\n",
       "      <td>177.0</td>\n",
       "      <td>0.03</td>\n",
       "      <td>0.28</td>\n",
       "      <td>232.96</td>\n",
       "    </tr>\n",
       "    <tr>\n",
       "      <th>2</th>\n",
       "      <td>0.205646</td>\n",
       "      <td>7.107153</td>\n",
       "      <td>0.0</td>\n",
       "      <td>68.0</td>\n",
       "      <td>105.0</td>\n",
       "      <td>0.13</td>\n",
       "      <td>0.23</td>\n",
       "      <td>167.28</td>\n",
       "    </tr>\n",
       "    <tr>\n",
       "      <th>3</th>\n",
       "      <td>0.173671</td>\n",
       "      <td>8.700536</td>\n",
       "      <td>0.0</td>\n",
       "      <td>96.0</td>\n",
       "      <td>203.0</td>\n",
       "      <td>0.73</td>\n",
       "      <td>0.30</td>\n",
       "      <td>249.60</td>\n",
       "    </tr>\n",
       "    <tr>\n",
       "      <th>4</th>\n",
       "      <td>0.204319</td>\n",
       "      <td>6.872990</td>\n",
       "      <td>0.0</td>\n",
       "      <td>36.0</td>\n",
       "      <td>92.0</td>\n",
       "      <td>0.25</td>\n",
       "      <td>0.33</td>\n",
       "      <td>95.76</td>\n",
       "    </tr>\n",
       "    <tr>\n",
       "      <th>...</th>\n",
       "      <td>...</td>\n",
       "      <td>...</td>\n",
       "      <td>...</td>\n",
       "      <td>...</td>\n",
       "      <td>...</td>\n",
       "      <td>...</td>\n",
       "      <td>...</td>\n",
       "      <td>...</td>\n",
       "    </tr>\n",
       "    <tr>\n",
       "      <th>206</th>\n",
       "      <td>0.133449</td>\n",
       "      <td>7.583527</td>\n",
       "      <td>0.0</td>\n",
       "      <td>81.0</td>\n",
       "      <td>126.0</td>\n",
       "      <td>0.61</td>\n",
       "      <td>0.24</td>\n",
       "      <td>200.88</td>\n",
       "    </tr>\n",
       "    <tr>\n",
       "      <th>207</th>\n",
       "      <td>0.170756</td>\n",
       "      <td>6.423142</td>\n",
       "      <td>0.0</td>\n",
       "      <td>127.0</td>\n",
       "      <td>175.0</td>\n",
       "      <td>0.01</td>\n",
       "      <td>0.21</td>\n",
       "      <td>307.34</td>\n",
       "    </tr>\n",
       "    <tr>\n",
       "      <th>208</th>\n",
       "      <td>0.150549</td>\n",
       "      <td>7.927919</td>\n",
       "      <td>0.0</td>\n",
       "      <td>84.0</td>\n",
       "      <td>129.0</td>\n",
       "      <td>0.51</td>\n",
       "      <td>0.23</td>\n",
       "      <td>206.64</td>\n",
       "    </tr>\n",
       "    <tr>\n",
       "      <th>209</th>\n",
       "      <td>0.145499</td>\n",
       "      <td>8.519184</td>\n",
       "      <td>0.0</td>\n",
       "      <td>85.0</td>\n",
       "      <td>141.0</td>\n",
       "      <td>0.37</td>\n",
       "      <td>0.25</td>\n",
       "      <td>212.50</td>\n",
       "    </tr>\n",
       "    <tr>\n",
       "      <th>210</th>\n",
       "      <td>0.498498</td>\n",
       "      <td>4.028045</td>\n",
       "      <td>0.0</td>\n",
       "      <td>48.0</td>\n",
       "      <td>96.0</td>\n",
       "      <td>0.34</td>\n",
       "      <td>0.29</td>\n",
       "      <td>123.84</td>\n",
       "    </tr>\n",
       "  </tbody>\n",
       "</table>\n",
       "<p>208 rows × 8 columns</p>\n",
       "</div>"
      ],
      "text/plain": [
       "          IPF   Density  E_above_Hull  G_VRH  K_VRH  Elastic_Anisotropy  \\\n",
       "0    0.145502  6.371739           0.0  133.0  212.0                0.28   \n",
       "1    0.195137  7.098567           0.0   91.0  177.0                0.03   \n",
       "2    0.205646  7.107153           0.0   68.0  105.0                0.13   \n",
       "3    0.173671  8.700536           0.0   96.0  203.0                0.73   \n",
       "4    0.204319  6.872990           0.0   36.0   92.0                0.25   \n",
       "..        ...       ...           ...    ...    ...                 ...   \n",
       "206  0.133449  7.583527           0.0   81.0  126.0                0.61   \n",
       "207  0.170756  6.423142           0.0  127.0  175.0                0.01   \n",
       "208  0.150549  7.927919           0.0   84.0  129.0                0.51   \n",
       "209  0.145499  8.519184           0.0   85.0  141.0                0.37   \n",
       "210  0.498498  4.028045           0.0   48.0   96.0                0.34   \n",
       "\n",
       "     poisson_ratio  Y_Modulus  \n",
       "0             0.24     329.84  \n",
       "1             0.28     232.96  \n",
       "2             0.23     167.28  \n",
       "3             0.30     249.60  \n",
       "4             0.33      95.76  \n",
       "..             ...        ...  \n",
       "206           0.24     200.88  \n",
       "207           0.21     307.34  \n",
       "208           0.23     206.64  \n",
       "209           0.25     212.50  \n",
       "210           0.29     123.84  \n",
       "\n",
       "[208 rows x 8 columns]"
      ]
     },
     "execution_count": 18,
     "metadata": {},
     "output_type": "execute_result"
    }
   ],
   "source": [
    "df.drop( df[ df['Y_Modulus'] < 0 ].index , inplace=True)\n",
    "df_original = df.copy\n",
    "elements = df['Formula'].tolist()\n",
    "df = df.drop(df.columns[[0, 1, 2, 3, 6]], axis=1)\n",
    "df"
   ]
  },
  {
   "cell_type": "markdown",
   "metadata": {},
   "source": [
    "### 2. Processing and Organizing Data\n",
    "\n",
    "Most machine learning models are trained on a subset of all the available data, called the \"training set\", and the models are tested on the remainder of the available data, called the \"testing set\". Model performance has often been found to be enhanced when the inputs are normalized.\n",
    "\n",
    "##### SETS\n",
    "\n",
    "1. With the dataset we just created, we have splitted the dataset for each of the 12 datasets:\n",
    "- C: 331 entries for our model. We will train with 300 cases and test on the remaining 31 elements to estimate Young's Modulus.\n",
    "- Cr: 331 entries for our model. We will train with 300 cases and test on the remaining 31 elements to estimate Young's Modulus.\n",
    "- Fe: 208 entries for our model. We will train with 182 cases and test on the remaining 26 elements to estimate Young's Modulus.\n",
    "- Hf: 331 entries for our model. We will train with 300 cases and test on the remaining 31 elements to estimate Young's Modulus.\n",
    "- Mo: 331 entries for our model. We will train with 300 cases and test on the remaining 31 elements to estimate Young's Modulus.\n",
    "- Nb: 331 entries for our model. We will train with 300 cases and test on the remaining 31 elements to estimate Young's Modulus.\n",
    "- Ni: 331 entries for our model. We will train with 300 cases and test on the remaining 31 elements to estimate Young's Modulus.\n",
    "- Ta: 331 entries for our model. We will train with 300 cases and test on the remaining 31 elements to estimate Young's Modulus.\n",
    "- Ti: 331 entries for our model. We will train with 300 cases and test on the remaining 31 elements to estimate Young's Modulus.\n",
    "- V: 331 entries for our model. We will train with 300 cases and test on the remaining 31 elements to estimate Young's Modulus.\n",
    "- W: 331 entries for our model. We will train with 300 cases and test on the remaining 31 elements to estimate Young's Modulus.\n",
    "- Zr: 331 entries for our model. We will train with 300 cases and test on the remaining 31 elements to estimate Young's Modulus.\n",
    "\n",
    "\n",
    "\n",
    "##### NORMALIZATION\n",
    "\n",
    "Each one of these input data features has different units and is represented in scales with distinct orders of magnitude. Datasets that contain inputs like this need to be normalized, so that quantities with large values do not *overwhelm* the neural network, forcing it tune its weights to account for the different scales of our input data. In this work, we will use the Standard Score Normalization, which subtracts the mean of the feature and divide by its standard deviation.\n",
    "\n",
    "<span style=\"font-size:2em;\">$ \\frac{X - µ}{σ} $ </span>\n",
    "\n",
    "While our model might converge without feature normalization, the resultant model would be difficult to train and would be dependent on the choice of units used in the input."
   ]
  },
  {
   "cell_type": "code",
   "execution_count": 19,
   "metadata": {},
   "outputs": [
    {
     "name": "stdout",
     "output_type": "stream",
     "text": [
      "[[0.14550248040628322, 6.371739342364887, 0.0, 133.0, 212.0, 0.28, 0.24, 329.84], [0.19513738021337607, 7.098567499542508, 0.0, 91.0, 177.0, 0.03, 0.28, 232.96], [0.2056455695249951, 7.107153233920273, 0.0, 68.0, 105.0, 0.13, 0.23, 167.28], [0.17367146631257085, 8.700535614964549, 0.0, 96.0, 203.0, 0.73, 0.3, 249.6], [0.2043185026424397, 6.8729897874333465, 0.0, 36.0, 92.0, 0.25, 0.33, 95.76], [0.10435576052265744, 4.958877478506669, 0.0, 127.0, 181.0, 0.03, 0.21, 307.34], [0.19313314469317516, 7.3193844320864025, 0.0, 42.0, 86.0, 0.28, 0.29, 108.36], [0.2174494712907349, 7.421215789217515, 0.0, 96.0, 207.0, 0.04, 0.3, 249.6], [0.2214510835631901, 8.075535767806645, 0.5593906250016545, 77.0, 184.0, 0.67, 0.32, 203.28], [0.201753559860406, 7.490316374323061, 0.0, 145.0, 227.0, 0.02, 0.24, 359.6], [0.5317615508776439, 4.949992970445885, 0.0, 64.0, 176.0, 0.18, 0.34, 171.52], [0.1962233976191226, 8.032436452051366, 0.0, 54.0, 174.0, 7.62, 0.36, 146.88], [0.3230787550130327, 8.053991107072365, 0.0, 74.0, 94.0, 0.28, 0.19, 176.12], [0.10457399221341222, 5.127712739268919, 0.0, 154.0, 180.0, 0.52, 0.17, 360.36], [0.10876292493400244, 7.424133717867275, 0.0, 110.0, 134.0, 0.53, 0.18, 259.6], [0.17457803488601534, 5.619828139849753, 0.0, 13.0, 19.0, 36.92, 0.22, 31.72], [0.20425035234937108, 8.399632972357558, 0.0, 46.0, 177.0, 27.17, 0.38, 126.96], [0.19552750482387027, 8.290362608471677, 0.0, 91.0, 189.0, 1.08, 0.29, 234.78], [0.19209208810439832, 7.388613812179111, 0.0, 93.0, 212.0, 1.55, 0.31, 243.66], [0.1907674586716471, 8.452470763420122, 0.0, 92.0, 187.0, 1.35, 0.29, 237.36], [0.16780534254844753, 4.7693529463857045, 0.0, 146.0, 158.0, 0.02, 0.15, 335.7999999999999], [0.20587900032993334, 10.434599016620464, 0.0, 50.0, 83.0, 0.1, 0.25, 125.0], [0.1635337825325206, 5.791723402212628, 0.0, 95.0, 175.0, 1.07, 0.27, 241.3], [0.07426004152344727, 4.1175342188179735, 0.7281951666655573, 112.0, 138.0, 0.3, 0.18, 264.32], [0.18425897489132126, 9.670923150072896, 0.0, 76.0, 162.0, 0.9, 0.3, 197.6], [0.1998886594219398, 6.642034495803113, 0.0, 97.0, 194.0, 0.55, 0.29, 250.26], [0.144358749947598, 4.067297734527241, 0.0, 33.0, 97.0, 1.62, 0.35, 89.10000000000002], [0.1170207291147536, 3.1330774158156265, 0.0, 49.0, 104.0, 3.06, 0.3, 127.4], [0.22184363095015305, 8.548117600189117, 0.0, 65.0, 86.0, 0.32, 0.2, 156.0], [0.19327346453639424, 12.522527213669706, 0.0, 93.0, 228.0, 0.06, 0.32, 245.52], [0.09789489323990884, 3.4281382687103252, 0.0, 56.0, 106.0, 0.46, 0.28, 143.36], [0.07373298156910843, 4.0883100579794185, 0.0, 114.0, 141.0, 0.44, 0.18, 269.04], [0.20954903839243388, 8.136129054031493, 0.0, 96.0, 187.0, 0.49, 0.28, 245.76], [0.1979653804218472, 8.206826865271259, 0.0, 97.0, 190.0, 0.65, 0.28, 248.32], [0.20439360401920215, 8.108531533908858, 0.0, 98.0, 192.0, 0.59, 0.28, 250.88], [0.12552372246884655, 6.809894203032001, 0.0, 66.0, 102.0, 0.34, 0.23, 162.36], [0.1476792971076537, 16.884043971045738, 0.0, 101.0, 251.0, 0.02, 0.32, 266.64], [0.19241480430505895, 6.127073159507482, 0.0, 60.0, 267.0, 2.72, 0.39, 166.8], [0.2259465293347025, 7.0898572130344615, 0.0, 92.0, 118.0, 0.28, 0.19, 218.96], [0.1760389680764239, 7.083597008639862, 0.0, 89.0, 216.0, 0.23, 0.32, 234.96], [0.20385700488606556, 12.874922439317725, 0.4775339583318328, 177.0, 310.0, 0.07, 0.26, 446.04], [0.20810172516849768, 7.739814841627519, 0.0, 90.0, 193.0, 0.55, 0.3, 234.0], [0.14791894463886804, 6.333879896320733, 0.0, 139.0, 211.0, 0.06, 0.23, 341.94], [0.10119575205206092, 7.235385105312517, 0.0, 44.0, 82.0, 0.56, 0.27, 111.76], [0.15205066659283706, 4.042916437987318, 0.0, 82.0, 155.0, 3.48, 0.28, 209.92], [0.152978948933995, 7.921780119084059, 0.0, 57.0, 92.0, 0.87, 0.24, 141.36], [0.10222130167586677, 5.414620990655353, 0.0, 108.0, 150.0, 0.0, 0.21, 261.36], [0.20398386201178567, 4.89365155220211, 0.0, 125.0, 150.0, 0.3, 0.17, 292.5], [0.15727479443423822, 9.581024882451251, 0.0, 79.0, 197.0, 0.8, 0.32, 208.56], [0.10895342920113564, 5.2072546118558565, 0.0, 112.0, 151.0, 0.01, 0.2, 268.8], [0.14112125045217866, 7.004553603311077, 0.0, 119.0, 202.0, 0.13, 0.25, 297.5], [0.17674732082160266, 8.703471491062963, 0.0, 71.0, 168.0, 1.41, 0.32, 187.44], [0.16996073604521206, 14.814623937197833, 0.0, 92.0, 201.0, 0.69, 0.3, 239.2], [0.15772622596283298, 7.537767409339553, 0.0, 68.0, 115.0, 0.28, 0.25, 170.0], [0.13175370668852934, 6.80880443383841, 0.0, 36.0, 104.0, 0.17, 0.34, 96.48], [0.17199723440842046, 8.298256566490334, 0.0, 79.0, 117.0, 0.21, 0.22, 192.76], [0.1929636306478071, 6.569673706769142, 0.0, 80.0, 125.0, 0.25, 0.24, 198.4], [0.12759692236827402, 4.348807153271613, 0.0, 85.0, 126.0, 0.19, 0.22, 207.4], [0.15456986974137746, 4.140337296357571, 0.0, 19.0, 30.0, 47.19, 0.24, 47.12], [0.14361618887288816, 5.391728237009906, 0.0, 110.0, 172.0, 0.18, 0.24, 272.8], [0.1928314060287035, 8.008231829204718, 0.0, 75.0, 113.0, 0.2, 0.23, 184.5], [0.18172229698259232, 6.773327621235782, 0.0, 137.0, 218.0, 0.0, 0.24, 339.76], [0.15089079406668066, 8.501325575542893, 0.0, 88.0, 154.0, 0.22, 0.26, 221.76], [0.16552365154728016, 10.595547042879602, 0.0, 64.0, 232.0, 3.85, 0.37, 175.36], [0.13595772431198386, 16.164722811212954, 0.0, 83.0, 249.0, 0.19, 0.35, 224.1], [0.15279574249770486, 8.317102651224308, 0.0, 73.0, 155.0, 0.4, 0.3, 189.8], [0.055335026870076964, 3.3459219879134334, 0.0, 91.0, 115.0, 0.46, 0.19, 216.58], [0.1997474951801632, 7.045097021894572, 0.0, 48.0, 76.0, 1.29, 0.24, 119.04], [0.17942564343113718, 9.21336916297408, 0.0, 71.0, 148.0, 11.58, 0.29, 183.18], [0.19676951228902068, 8.27411915840166, 0.0, 85.0, 187.0, 0.07, 0.3, 221.0], [0.5771798647859696, 5.106824805695793, 0.0, 63.0, 111.0, 0.03, 0.26, 158.76], [0.5920539626991935, 4.208426588436105, 0.0, 72.0, 114.0, 0.3, 0.24, 178.56], [0.1842176596479672, 8.367357755094483, 0.0, 106.0, 181.0, 0.0, 0.26, 267.12], [0.14317211265699495, 10.755335245579223, 0.0, 125.0, 213.0, 0.13, 0.25, 312.5], [0.1313160118297123, 4.427777483208082, 0.0, 120.0, 178.0, 0.11, 0.22, 292.8], [0.1619870600352024, 6.226265158917527, 0.0, 70.0, 106.0, 0.42, 0.23, 172.2], [0.1801205340396293, 6.069993532662315, 0.0, 81.0, 115.0, 0.14, 0.22, 197.64], [0.2257445021865103, 5.702756767321699, 0.0, 56.0, 90.0, 0.55, 0.24, 138.88], [0.16556574698085802, 6.127574045141812, 0.0, 24.0, 38.0, 30.77, 0.25, 60.0], [0.18318550584879445, 7.323536906496803, 0.0, 65.0, 135.0, 0.34, 0.29, 167.70000000000005], [0.2903487904128355, 5.196240137983644, 0.0, 19.0, 33.0, 0.6, 0.26, 47.88], [0.1501576695810445, 5.6248780041688065, 0.0, 109.0, 183.0, 0.4, 0.25, 272.5], [0.13730043256093735, 8.448733889055742, 0.0, 81.0, 166.0, 0.26, 0.29, 208.98], [0.1017619091914366, 5.171877804843587, 0.0, 132.0, 161.0, 0.02, 0.18, 311.52], [0.16984691256283047, 7.982389200859106, 0.7931206666675905, 62.0, 129.0, 0.98, 0.29, 159.96], [0.15618313575265286, 5.211400407134747, 0.0, 40.0, 68.0, 0.49, 0.25, 100.0], [0.15666462674286738, 6.952996117476952, 0.0, 97.0, 112.0, 0.31, 0.16, 225.04], [0.291217460302899, 5.880310923396108, 0.0, 26.0, 44.0, 0.18, 0.25, 65.0], [0.18302227726688025, 6.253070135591179, 0.0, 105.0, 185.0, 0.07, 0.26, 264.6], [0.15354113742872438, 5.79199396598175, 0.0, 129.0, 203.0, 0.2, 0.24, 319.92], [0.1389395877509802, 7.200878266867101, 0.0, 82.0, 137.0, 0.2, 0.25, 205.0], [0.1754508400779713, 4.868177390439816, 0.0, 79.0, 89.0, 1.59, 0.16, 183.28], [0.15310685391173326, 6.221555948909835, 0.0, 117.0, 143.0, 0.28, 0.18, 276.12], [0.1741622516269664, 8.524073952353506, 0.0, 60.0, 143.0, 1.19, 0.32, 158.4], [0.18300581412782066, 6.7581276538375015, 0.0, 146.0, 229.0, 0.01, 0.24, 362.08], [0.2617425348093682, 5.6360249502044235, 0.0, 26.0, 49.0, 1.0, 0.27, 66.04], [0.16546743070198322, 9.628102428037316, 0.0, 91.0, 166.0, 0.01, 0.27, 231.14], [0.2166933250015826, 3.222255763827941, 0.0, 47.0, 76.0, 0.05, 0.25, 117.5], [0.1249780184086204, 4.7611336384527565, 0.0, 45.0, 72.0, 0.19, 0.24, 111.6], [0.15680959796955354, 7.821976730972777, 0.0, 74.0, 123.0, 0.19, 0.25, 185.0], [0.6339850627730784, 6.104829379579924, 0.0, 75.0, 116.0, 0.18, 0.24, 186.0], [0.1579303912105199, 3.8747953902789183, 0.0, 51.0, 80.0, 0.76, 0.24, 126.48], [0.17001763779218046, 9.65994186354958, 0.0, 72.0, 126.0, 0.24, 0.26, 181.44], [0.1557575610897289, 6.792241310030813, 0.0, 32.0, 88.0, 6.39, 0.34, 85.76], [0.1458053346377448, 9.280268498520932, 0.0, 82.0, 168.0, 1.94, 0.29, 211.56], [0.12595933635788814, 5.1432356119067775, 0.0, 116.0, 180.0, 0.03, 0.24, 287.68], [0.15446623864784298, 11.1212707640574, 0.0, 91.0, 197.0, 0.25, 0.3, 236.6], [0.1199095288130903, 2.7767773872587216, 0.0, 61.0, 79.0, 0.01, 0.19, 145.18], [0.15386968756067726, 6.676438879050527, 0.0, 76.0, 144.0, 0.24, 0.28, 194.56], [0.11957588545877705, 4.124423887485785, 0.0, 75.0, 120.0, 0.11, 0.24, 186.0], [0.18785084506156496, 6.319998733248389, 0.0, 42.0, 78.0, 1.1, 0.27, 106.68], [0.17560167243740976, 7.112631276806603, 0.0, 44.0, 246.0, 22.73, 0.42, 124.96], [0.4620488694594185, 5.361834298244193, 0.0, 50.0, 143.0, 2.4, 0.34, 134.0], [0.16975722021180134, 7.290370076772892, 0.0, 127.0, 216.0, 0.09, 0.25, 317.5], [0.13636325971507504, 15.144160510755146, 0.0, 94.0, 196.0, 0.15, 0.29, 242.52], [0.21125710640798706, 7.348434423639102, 0.0, 107.0, 232.0, 0.68, 0.3, 278.2], [0.2797864537394527, 7.544316549414457, 0.0, 80.0, 153.0, 0.04, 0.28, 204.8], [0.14052708255416846, 6.364388156200223, 0.0, 42.0, 61.0, 2.04, 0.22, 102.48], [0.14630713364471787, 5.6743866817132185, 0.0, 35.0, 59.0, 0.25, 0.25, 87.5], [0.5342803459794407, 7.090244770279603, 0.0, 54.0, 141.0, 0.62, 0.33, 143.64], [0.14664585366594407, 11.640108246456196, 0.0, 143.0, 264.0, 0.1, 0.27, 363.22], [0.19410324245881008, 4.793908386613678, 0.0, 32.0, 50.0, 0.9, 0.23, 78.72], [0.13951689756665347, 4.848691540330628, 0.0, 62.0, 139.0, 0.62, 0.31, 162.44], [0.17341104708130356, 6.473381427944479, 0.0, 98.0, 230.0, 0.97, 0.31, 256.76], [0.1663795746323075, 7.019572565285538, 0.0, 122.0, 196.0, 0.67, 0.24, 302.56], [0.1801640555763463, 8.715163774193382, 0.0, 35.0, 60.0, 0.24, 0.25, 87.5], [0.6235820148808287, 5.3056988684625415, 0.0, 83.0, 131.0, 0.0, 0.24, 205.84], [0.17038328912943895, 8.830491042709065, 0.0, 51.0, 126.0, 0.76, 0.32, 134.64], [0.15988294526845548, 7.393942769723793, 0.0, 97.0, 233.0, 2.61, 0.32, 256.08], [0.20882032009483695, 6.446281180426621, 0.0, 42.0, 77.0, 0.59, 0.27, 106.68], [0.1969910165773528, 7.798866002382084, 0.0, 100.0, 190.0, 0.32, 0.28, 256.0], [0.1347054325552005, 8.787100304790068, 0.0, 38.0, 193.0, 29.81, 0.41, 107.16], [0.17020698849289725, 6.549536522803793, 0.0, 78.0, 180.0, 0.63, 0.31, 204.36], [0.1679079732267066, 7.347107032217942, 0.0, 124.0, 212.0, 0.0, 0.26, 312.48], [0.16939683382649162, 11.322827521885165, 0.0, 107.0, 179.0, 0.0, 0.25, 267.5], [0.190944595199784, 7.415098713774526, 0.0, 60.0, 114.0, 0.09, 0.28, 153.6], [0.2337012095749796, 3.770900712859419, 0.0, 8.0, 18.0, 2.2, 0.31, 20.96], [0.19358538383855708, 11.036221026167702, 0.0, 132.0, 233.0, 0.55, 0.26, 332.64], [0.24424175742746204, 2.4799371669257533, 0.0, 69.0, 84.0, 0.02, 0.17, 161.45999999999995], [0.1941346317857757, 4.9089042046840845, 0.0, 32.0, 68.0, 1.23, 0.29, 82.56], [0.4968106341675815, 4.77457823904019, 0.0, 59.0, 158.0, 0.63, 0.33, 156.94], [0.5337605861407245, 4.943361645847292, 0.0, 55.0, 109.0, 0.73, 0.28, 140.8], [0.16988194597056885, 7.1079597310891485, 0.0, 57.0, 126.0, 0.38, 0.3, 148.20000000000005], [0.13357415184886798, 4.612205621434769, 0.0, 85.0, 123.0, 0.17, 0.22, 207.4], [0.18136902482679093, 7.54758423829157, 0.0, 112.0, 180.0, 0.13, 0.24, 277.76], [0.14346294918194893, 7.8237252908534005, 0.0, 62.0, 160.0, 0.49, 0.33, 164.92000000000004], [0.6281668601388051, 3.628809075015994, 0.0, 63.0, 99.0, 0.79, 0.24, 156.24], [0.15084992827688273, 5.977171478082613, 0.0, 117.0, 181.0, 0.24, 0.23, 287.82], [0.1236201319787054, 12.301920219995141, 0.0, 105.0, 236.0, 0.08, 0.31, 275.1], [0.1920003220884418, 6.823927950272397, 0.0, 110.0, 222.0, 0.16, 0.29, 283.8], [0.1831303139670774, 11.799447669082904, 0.0, 124.0, 224.0, 0.03, 0.27, 314.96], [0.1463283420235767, 13.620045837210329, 0.0, 98.0, 218.0, 0.6, 0.3, 254.8], [0.14279689597396342, 7.055233350704827, 0.0, 53.0, 114.0, 0.11, 0.3, 137.8], [0.16947493920527334, 5.9674379365622645, 0.0, 75.0, 120.0, 0.25, 0.24, 186.0], [0.12096057843147195, 7.276886289223003, 0.0, 58.0, 113.0, 0.11, 0.28, 148.48], [0.1343122029832427, 7.506788296223648, 0.0, 54.0, 88.0, 0.88, 0.25, 135.0], [0.1926313797461748, 8.260081041652537, 0.0, 122.0, 225.0, 0.03, 0.27, 309.88], [0.19550052751793975, 5.2294993112533685, 0.0, 57.0, 92.0, 1.12, 0.24, 141.36], [0.16826154390583853, 7.34345070105442, 0.0, 84.0, 149.0, 0.17, 0.26, 211.68], [0.2543008406930701, 3.1586920367926523, 0.0, 7.0, 17.0, 5.57, 0.31, 18.34], [0.1915959768968402, 10.875201077103958, 0.0, 100.0, 214.0, 0.08, 0.3, 260.0], [0.4391245871633099, 3.385648190934757, 0.4583850000017264, 27.0, 44.0, 1.68, 0.25, 67.5], [0.13580521487181216, 9.665034987039776, 0.0, 99.0, 182.0, 0.66, 0.27, 251.46], [0.19972684237916305, 7.947002590025137, 0.0, 127.0, 215.0, 0.0, 0.25, 317.5], [0.17818629265494992, 8.5873031821058, 0.0, 51.0, 217.0, 40.98, 0.39, 141.78], [0.13972301430837555, 3.7243295083372905, 0.0, 45.0, 79.0, 0.7, 0.26, 113.4], [0.6047509602150205, 4.108906898895016, 0.0, 93.0, 174.0, 0.54, 0.27, 236.22], [0.4799470645391793, 6.307568894088197, 0.0, 41.0, 131.0, 4.98, 0.36, 111.52], [0.17598792325122878, 7.731271210689283, 0.0, 55.0, 92.0, 0.89, 0.25, 137.5], [0.1183066392181886, 7.8101188244117585, 0.0, 56.0, 88.0, 0.32, 0.24, 138.88], [0.17704786353696056, 8.691986889856317, 0.0, 81.0, 191.0, 1.87, 0.31, 212.22], [0.10981100280290496, 9.193008838162203, 0.0, 116.0, 237.0, 0.02, 0.29, 299.2800000000001], [0.14956770032236896, 5.6830162683780205, 0.0, 80.0, 140.0, 0.13, 0.26, 201.6], [0.1735182706004257, 8.189445893753442, 0.0, 77.0, 100.0, 0.22, 0.19, 183.26], [0.5253411617198392, 5.684689240639937, 0.0, 74.0, 173.0, 0.42, 0.31, 193.88], [0.1702747319563653, 6.269390828054855, 0.0, 122.0, 223.0, 0.43, 0.27, 309.88], [0.14258118802711173, 14.898057437222654, 0.0, 65.0, 188.0, 0.0, 0.34, 174.20000000000005], [0.1535804375798964, 5.968421754413581, 0.0, 53.0, 101.0, 0.55, 0.28, 135.68], [0.16561678757850282, 7.183512710543788, 0.0, 98.0, 188.0, 1.01, 0.28, 250.88], [0.11593527357972633, 5.979508612096697, 0.6823062777749911, 48.0, 105.0, 0.0, 0.3, 124.8], [0.5363093054539325, 3.471794177389916, 0.6200458333314174, 39.0, 73.0, 0.32, 0.27, 99.06], [0.20752190866567607, 6.57013858893239, 0.0, 45.0, 59.0, 1.58, 0.2, 108.0], [0.2031953563609596, 6.917186606244874, 0.0, 143.0, 238.0, 0.05, 0.25, 357.5], [0.16008144939291774, 3.626600190170163, 0.0, 33.0, 72.0, 0.77, 0.3, 85.8], [0.18485878347620224, 8.264551981653039, 0.0, 83.0, 200.0, 0.16, 0.32, 219.12], [0.16027200221524826, 7.040081781783568, 0.0, 86.0, 113.0, 2.15, 0.2, 206.4], [0.16811635255747065, 9.950049065017925, 0.0, 72.0, 191.0, 0.04, 0.33, 191.52], [0.16952002333910032, 10.2376920474426, 0.0, 137.0, 222.0, 0.0, 0.24, 339.76], [0.16212246129176208, 6.289050035764848, 0.0, 124.0, 216.0, 0.1, 0.26, 312.48], [0.1744796793969142, 7.804425157940714, 0.0, 83.0, 127.0, 0.53, 0.23, 204.18], [0.5281605073077549, 3.4708958823634912, 0.0, 48.0, 91.0, 0.17, 0.28, 122.88], [0.3131620163600146, 2.9758159256131105, 0.0, 30.0, 99.0, 0.0, 0.36, 81.6], [0.17379314326416934, 3.310495649052089, 0.0, 39.0, 54.0, 0.18, 0.21, 94.38], [0.4993786355659096, 3.129272616958105, 0.0, 44.0, 88.0, 0.28, 0.28, 112.64], [0.3500421155008848, 3.4268223606196653, 0.0, 23.0, 49.0, 0.34, 0.3, 59.8], [0.14906151429182124, 8.070122738219048, 0.0, 85.0, 139.0, 0.45, 0.25, 212.5], [0.5374331018738084, 3.5783228299071186, 0.0, 42.0, 84.0, 0.46, 0.29, 108.36], [0.1815656586239428, 7.852732359070375, 0.0, 116.0, 204.0, 0.04, 0.26, 292.32], [0.19485406368576572, 7.012711217690293, 0.0, 72.0, 128.0, 0.91, 0.26, 181.44], [0.14480703268438752, 2.4855974917700445, 0.0, 44.0, 61.0, 0.01, 0.21, 106.48], [0.1685114178255008, 8.221256348591078, 0.0, 86.0, 136.0, 0.46, 0.24, 213.28], [0.14909469323306018, 5.518674272107517, 0.0, 83.0, 126.0, 0.5, 0.23, 204.18], [0.3519389828897249, 3.778508501013152, 0.0, 31.0, 57.0, 0.0, 0.27, 78.74], [0.13344869829192668, 7.583527316438486, 0.0, 81.0, 126.0, 0.61, 0.24, 200.88], [0.1707558408601182, 6.4231420270626645, 0.0, 127.0, 175.0, 0.01, 0.21, 307.34], [0.15054940510822462, 7.927919170981369, 0.0, 84.0, 129.0, 0.51, 0.23, 206.64], [0.14549856856572418, 8.519183743668963, 0.0, 85.0, 141.0, 0.37, 0.25, 212.5], [0.4984981386663735, 4.028044539275526, 0.0, 48.0, 96.0, 0.34, 0.29, 123.84]]\n"
     ]
    },
    {
     "data": {
      "text/html": [
       "<div>\n",
       "<style scoped>\n",
       "    .dataframe tbody tr th:only-of-type {\n",
       "        vertical-align: middle;\n",
       "    }\n",
       "\n",
       "    .dataframe tbody tr th {\n",
       "        vertical-align: top;\n",
       "    }\n",
       "\n",
       "    .dataframe thead th {\n",
       "        text-align: right;\n",
       "    }\n",
       "</style>\n",
       "<table border=\"1\" class=\"dataframe\">\n",
       "  <thead>\n",
       "    <tr style=\"text-align: right;\">\n",
       "      <th></th>\n",
       "      <th>IPF</th>\n",
       "      <th>Density</th>\n",
       "      <th>E_above_Hull</th>\n",
       "      <th>G_VRH</th>\n",
       "      <th>K_VRH</th>\n",
       "      <th>Elastic_Anisotropy</th>\n",
       "      <th>poisson_ratio</th>\n",
       "    </tr>\n",
       "  </thead>\n",
       "  <tbody>\n",
       "    <tr>\n",
       "      <th>0</th>\n",
       "      <td>0.145502</td>\n",
       "      <td>6.371739</td>\n",
       "      <td>0.000000</td>\n",
       "      <td>133.0</td>\n",
       "      <td>212.0</td>\n",
       "      <td>0.28</td>\n",
       "      <td>0.24</td>\n",
       "    </tr>\n",
       "    <tr>\n",
       "      <th>1</th>\n",
       "      <td>0.195137</td>\n",
       "      <td>7.098567</td>\n",
       "      <td>0.000000</td>\n",
       "      <td>91.0</td>\n",
       "      <td>177.0</td>\n",
       "      <td>0.03</td>\n",
       "      <td>0.28</td>\n",
       "    </tr>\n",
       "    <tr>\n",
       "      <th>2</th>\n",
       "      <td>0.205646</td>\n",
       "      <td>7.107153</td>\n",
       "      <td>0.000000</td>\n",
       "      <td>68.0</td>\n",
       "      <td>105.0</td>\n",
       "      <td>0.13</td>\n",
       "      <td>0.23</td>\n",
       "    </tr>\n",
       "    <tr>\n",
       "      <th>3</th>\n",
       "      <td>0.173671</td>\n",
       "      <td>8.700536</td>\n",
       "      <td>0.000000</td>\n",
       "      <td>96.0</td>\n",
       "      <td>203.0</td>\n",
       "      <td>0.73</td>\n",
       "      <td>0.30</td>\n",
       "    </tr>\n",
       "    <tr>\n",
       "      <th>4</th>\n",
       "      <td>0.204319</td>\n",
       "      <td>6.872990</td>\n",
       "      <td>0.000000</td>\n",
       "      <td>36.0</td>\n",
       "      <td>92.0</td>\n",
       "      <td>0.25</td>\n",
       "      <td>0.33</td>\n",
       "    </tr>\n",
       "    <tr>\n",
       "      <th>5</th>\n",
       "      <td>0.104356</td>\n",
       "      <td>4.958877</td>\n",
       "      <td>0.000000</td>\n",
       "      <td>127.0</td>\n",
       "      <td>181.0</td>\n",
       "      <td>0.03</td>\n",
       "      <td>0.21</td>\n",
       "    </tr>\n",
       "    <tr>\n",
       "      <th>6</th>\n",
       "      <td>0.193133</td>\n",
       "      <td>7.319384</td>\n",
       "      <td>0.000000</td>\n",
       "      <td>42.0</td>\n",
       "      <td>86.0</td>\n",
       "      <td>0.28</td>\n",
       "      <td>0.29</td>\n",
       "    </tr>\n",
       "    <tr>\n",
       "      <th>7</th>\n",
       "      <td>0.217449</td>\n",
       "      <td>7.421216</td>\n",
       "      <td>0.000000</td>\n",
       "      <td>96.0</td>\n",
       "      <td>207.0</td>\n",
       "      <td>0.04</td>\n",
       "      <td>0.30</td>\n",
       "    </tr>\n",
       "    <tr>\n",
       "      <th>8</th>\n",
       "      <td>0.221451</td>\n",
       "      <td>8.075536</td>\n",
       "      <td>0.559391</td>\n",
       "      <td>77.0</td>\n",
       "      <td>184.0</td>\n",
       "      <td>0.67</td>\n",
       "      <td>0.32</td>\n",
       "    </tr>\n",
       "    <tr>\n",
       "      <th>9</th>\n",
       "      <td>0.201754</td>\n",
       "      <td>7.490316</td>\n",
       "      <td>0.000000</td>\n",
       "      <td>145.0</td>\n",
       "      <td>227.0</td>\n",
       "      <td>0.02</td>\n",
       "      <td>0.24</td>\n",
       "    </tr>\n",
       "  </tbody>\n",
       "</table>\n",
       "</div>"
      ],
      "text/plain": [
       "        IPF   Density  E_above_Hull  G_VRH  K_VRH  Elastic_Anisotropy  \\\n",
       "0  0.145502  6.371739      0.000000  133.0  212.0                0.28   \n",
       "1  0.195137  7.098567      0.000000   91.0  177.0                0.03   \n",
       "2  0.205646  7.107153      0.000000   68.0  105.0                0.13   \n",
       "3  0.173671  8.700536      0.000000   96.0  203.0                0.73   \n",
       "4  0.204319  6.872990      0.000000   36.0   92.0                0.25   \n",
       "5  0.104356  4.958877      0.000000  127.0  181.0                0.03   \n",
       "6  0.193133  7.319384      0.000000   42.0   86.0                0.28   \n",
       "7  0.217449  7.421216      0.000000   96.0  207.0                0.04   \n",
       "8  0.221451  8.075536      0.559391   77.0  184.0                0.67   \n",
       "9  0.201754  7.490316      0.000000  145.0  227.0                0.02   \n",
       "\n",
       "   poisson_ratio  \n",
       "0           0.24  \n",
       "1           0.28  \n",
       "2           0.23  \n",
       "3           0.30  \n",
       "4           0.33  \n",
       "5           0.21  \n",
       "6           0.29  \n",
       "7           0.30  \n",
       "8           0.32  \n",
       "9           0.24  "
      ]
     },
     "execution_count": 19,
     "metadata": {},
     "output_type": "execute_result"
    }
   ],
   "source": [
    "all_values = df.values.tolist() # Values for Attributes\n",
    "print(all_values)\n",
    "all_labels = [] # Values for Young's Modulus (Property to be estimated)\n",
    "all_labels = df['Y_Modulus'].tolist()\n",
    "df = df.drop(['Y_Modulus'], axis=1)\n",
    "df.head(n=10)"
   ]
  },
  {
   "cell_type": "code",
   "execution_count": 6,
   "metadata": {},
   "outputs": [
    {
     "name": "stdout",
     "output_type": "stream",
     "text": [
      "Shape of Values: (331, 7)\n",
      "Shape of Labels: (331,)\n",
      "[-0.26365008 -0.49675052 -0.11596706 -0.65583148 -0.83510711  0.21475553\n",
      "  0.04097274]\n",
      "[-0.23179244  0.96807878 -0.11596706  0.          0.70368856  0.00112485\n",
      "  0.6879107 ]\n",
      "[  0   1   2   3   4   5   6   7   8   9  10  11  12  13  14  15  16  17\n",
      "  18  19  20  21  22  23  24  25  26  27  28  29  30  31  32  33  34  35\n",
      "  36  37  38  39  40  41  42  43  44  45  46  47  48  49  50  51  52  53\n",
      "  54  55  56  57  58  59  60  61  62  63  64  65  66  67  68  69  70  71\n",
      "  72  73  74  75  76  77  78  79  80  81  82  83  84  85  86  87  88  89\n",
      "  90  91  92  93  94  95  96  97  98  99 100 101 102 103 104 105 106 107\n",
      " 108 109 110 111 112 113 114 115 116 117 118 119 120 121 122 123 124 125\n",
      " 126 127 128 129 130 131 132 133 134 135 136 137 138 139 140 141 142 143\n",
      " 144 145 146 147 148 149 150 151 152 153 154 155 156 157 158 159 160 161\n",
      " 162 163 164 165 166 167 168 169 170 171 172 173 174 175 176 177 178 179\n",
      " 180 181 182 183 184 185 186 187 188 189 190 191 192 193 194 195 196 197\n",
      " 198 199 200 201 202 203 204 205 206 207 208 209 210 211 212 213 214 215\n",
      " 216 217 218 219 220 221 222 223 224 225 226 227 228 229 230 231 232 233\n",
      " 234 235 236 237 238 239 240 241 242 243 244 245 246 247 248 249 250 251\n",
      " 252 253 254 255 256 257 258 259 260 261 262 263 264 265 266 267 268 269\n",
      " 270 271 272 273 274 275 276 277 278 279 280 281 282 283 284 285 286 287\n",
      " 288 289 290 291 292 293 294 295 296 297 298 299 300 301 302 303 304 305\n",
      " 306 307 308 309 310 311 312 313 314 315 316 317 318 319 320 321 322 323\n",
      " 324 325 326 327 328 329 330]\n"
     ]
    }
   ],
   "source": [
    "#We will rewrite the arrays with the patches we made on the dataset \n",
    "# by turning the dataframe back into a list of lists\n",
    "\n",
    "all_values = [list(df.iloc[x]) for x in range(len(all_values))]\n",
    "\n",
    "# SETS\n",
    "\n",
    "# List of lists are turned into Numpy arrays to facilitate calculations in steps to follow (Normalization).\n",
    "all_values = np.array(all_values, dtype = float) \n",
    "print(\"Shape of Values:\", all_values.shape)\n",
    "all_labels = np.array(all_labels, dtype = float)\n",
    "print(\"Shape of Labels:\", all_labels.shape)\n",
    "\n",
    "# Uncomment the line below to shuffle the dataset \n",
    "#(we do not do this here to ensure consistent results for every run)\n",
    "#order = np.argsort(np.random.random(all_labels.shape)) \n",
    "# This numpy argsort returns the indexes that would be used to shuffle a list\n",
    "order = np.arange(208)\n",
    "all_values = all_values[order]\n",
    "all_labels = all_labels[order]\n",
    "\n",
    "# Training Set\n",
    "train_labels = all_labels[:182]\n",
    "train_values = all_values[:182]\n",
    "\n",
    "# Testing Set\n",
    "test_labels = all_labels[-31:]\n",
    "test_values = all_values[-31:]\n",
    "\n",
    "# This line is used for labels in the plots at the end of the tutorial - Testing Set\n",
    "\n",
    "labeled_elements = [elements[x] for x in order[-31:]] \n",
    "elements = [elements[x] for x in order]\n",
    "\n",
    "# NORMALIZATION\n",
    "\n",
    "mean = np.mean(train_values, axis = 0) # mean\n",
    "std = np.std(train_values, axis = 0) # standard deviation\n",
    "\n",
    "train_values = (train_values - mean) / std # input scaling\n",
    "test_values = (test_values - mean) / std # input scaling\n",
    "\n",
    "print(train_values[0]) # print a sample entry from the training set\n",
    "print(test_values[0]) # print a sample entry from the training set\n",
    "print(order)"
   ]
  },
  {
   "cell_type": "markdown",
   "metadata": {},
   "source": [
    "### 3. Creating the Model\n",
    "\n",
    "For this regression, we will use a simple sequential neural network with one densely connected hidden layer. The optimizer used will be [RMSPropOptimizer](https://www.tensorflow.org/api_docs/python/tf/train/RMSPropOptimizer) (Root Mean Square Propagation).\n",
    "\n",
    "To learn more about Root Mean Squared Propagation, click [here](https://climin.readthedocs.io/en/latest/rmsprop.html).\n",
    "\n",
    "A cool tool developed by Tensorflow to visualize how a neural network learns, and play around with its parameters, can be found here [NN Tools](https://playground.tensorflow.org/)."
   ]
  },
  {
   "cell_type": "code",
   "execution_count": 7,
   "metadata": {},
   "outputs": [
    {
     "name": "stdout",
     "output_type": "stream",
     "text": [
      "WARNING:tensorflow:From C:\\Users\\Kayla Yano\\anaconda3\\envs\\PythonData\\lib\\site-packages\\tensorflow\\python\\keras\\initializers.py:143: calling RandomNormal.__init__ (from tensorflow.python.ops.init_ops) with dtype is deprecated and will be removed in a future version.\n",
      "Instructions for updating:\n",
      "Call initializer instance with the dtype argument instead of passing it to the constructor\n",
      "Model: \"sequential\"\n",
      "_________________________________________________________________\n",
      "Layer (type)                 Output Shape              Param #   \n",
      "=================================================================\n",
      "dense (Dense)                (None, 32)                256       \n",
      "_________________________________________________________________\n",
      "dense_1 (Dense)              (None, 64)                2112      \n",
      "_________________________________________________________________\n",
      "dense_2 (Dense)              (None, 64)                4160      \n",
      "_________________________________________________________________\n",
      "dense_3 (Dense)              (None, 1)                 65        \n",
      "=================================================================\n",
      "Total params: 6,593\n",
      "Trainable params: 6,593\n",
      "Non-trainable params: 0\n",
      "_________________________________________________________________\n"
     ]
    }
   ],
   "source": [
    "# DEFINITION OF THE MODEL\n",
    "\n",
    "# The weights of our neural network will be initialized in a random manner, using a seed allows for reproducibility\n",
    "kernel_init = initializers.RandomNormal(seed=0)\n",
    "# In a sequential model, the first layer must specify the input shape the model will expect; \n",
    "# in this case the value is train_values.shape[1] which is the number\n",
    "# of attributes (properties) and equals 17.\n",
    "\n",
    "model = Sequential()\n",
    "model.add(Dense(32, activation='relu', input_shape=(train_values.shape[1], ), kernel_initializer=kernel_init))\n",
    "model.add(Dense(64, activation='relu', kernel_initializer=kernel_init))\n",
    "model.add(Dense(64, activation='relu', kernel_initializer=kernel_init))\n",
    "model.add(Dense(1, kernel_initializer=kernel_init))\n",
    "\n",
    "# DEFINITION OF THE OPTIMIZER\n",
    "\n",
    "optimizer = optimizers.RMSprop(0.002) # Root Mean Squared Propagation\n",
    "\n",
    "# This line matches the optimizer to the model and states which metrics will evaluate the model's accuracy\n",
    "model.compile(loss='mae', optimizer=optimizer, metrics=['mae'])\n",
    "model.summary()"
   ]
  },
  {
   "cell_type": "markdown",
   "metadata": {},
   "source": [
    "#### TRAINING \n",
    "\n",
    "This model is trained for 2000 epochs, and we record the training accuracy in the history object.\n",
    "\n",
    "One **Epoch** occurs when you pass the entire dataset through the model. One **Batch** contains a subset of the dataset that can be fed to the model at the same time. A more detailed explanation of these concepts can be found in this [blog](https://towardsdatascience.com/epoch-vs-iterations-vs-batch-size-4dfb9c7ce9c9). As we have a really small dataset compared to the ones that are usually considered to be modeled by these neural networks, we are feeding all entries at the same time, so our batch is the entire dataset, and an epoch occurs when the batch is processed.\n",
    "\n",
    "This way, by plotting \"history\" we can see the evolution of the \"learning\" of the model, that is the decrease of the Mean Absolute Error. Models in Keras are fitted to the training set using the [**fit**](https://keras.io/models/model/#fit) method.\n",
    "\n",
    "The blue curve that will come up from the History object represents how the model is learning on the training data, and the orange curve represents the validation loss, which can be thought of as the way our model evaluates data that it was not trained in. This validation loss would start going up again when we start to overfit our data."
   ]
  },
  {
   "cell_type": "code",
   "execution_count": 8,
   "metadata": {},
   "outputs": [
    {
     "name": "stdout",
     "output_type": "stream",
     "text": [
      "Current Epoch: 2000 Training Loss: 4.157503                                       \r"
     ]
    },
    {
     "data": {
      "image/png": "[encoded data removed]",
      "text/plain": [
       "<Figure size 432x288 with 1 Axes>"
      ]
     },
     "metadata": {
      "needs_background": "light"
     },
     "output_type": "display_data"
    }
   ],
   "source": [
    "# EPOCH REAL TIME COUNTER CLASS\n",
    "class PrintEpNum(tf.keras.callbacks.Callback): # This is a function for the Epoch Counter\n",
    "    def on_epoch_end(self, epoch, logs):\n",
    "        sys.stdout.flush()\n",
    "        sys.stdout.write(\"Current Epoch: \" + str(epoch+1) + \" Training Loss: \" + \"%4f\" %logs.get('loss') + '                                       \\r') # Updates current Epoch Number\n",
    "\n",
    "EPOCHS = 2000 # Number of EPOCHS\n",
    "\n",
    "# HISTORY Object which contains how the model learned\n",
    "\n",
    "# Training Values (Properties), Training Labels (Known Young's Moduli) \n",
    "history = model.fit(train_values, train_labels, batch_size=train_values.shape[0], \n",
    "                    epochs=EPOCHS, verbose = False, validation_split=0.1, callbacks=[PrintEpNum()])\n",
    "\n",
    "\n",
    "# PLOTTING HISTORY USING MATPLOTLIB\n",
    "\n",
    "plt.figure()\n",
    "plt.xlabel('Epoch')\n",
    "plt.ylabel('Mean Abs Error')\n",
    "plt.plot(history.epoch, np.array(history.history['mean_absolute_error']),label='Loss on training set') \n",
    "plt.plot(history.epoch, np.array(history.history['val_mean_absolute_error']),label = 'Validation loss')\n",
    "plt.legend()\n",
    "plt.show()"
   ]
  },
  {
   "cell_type": "markdown",
   "metadata": {},
   "source": [
    "#### SAVING A MODEL\n",
    "\n",
    "Compiled and trained models in Keras can be saved and distributed in .h5 files using the `model.save()` method. Running the cell below will save the current model we trained, both weights and architecture to your home directory."
   ]
  },
  {
   "cell_type": "code",
   "execution_count": 9,
   "metadata": {},
   "outputs": [],
   "source": [
    "model.save(os.path.expanduser('~/model.h5'))"
   ]
  },
  {
   "cell_type": "markdown",
   "metadata": {},
   "source": [
    "#### TESTING\n",
    "\n",
    "Models in Keras are tested using the method [**evaluate**](https://keras.io/models/model/#evaluate). This method returns the testing loss of the model and the metrics we specified when creating it,  which in our case it's the Mean Absolute Error. For the original model in this tutorial you should get a value of around **20 GPa** for the Mean Absolute Error. This value would decrease with more training data, more attributes/features, or a different optimizer. In the case of a model that overfits, you can expect values to start increasing to around **30 or 40 GPa**."
   ]
  },
  {
   "cell_type": "code",
   "execution_count": 10,
   "metadata": {},
   "outputs": [
    {
     "name": "stdout",
     "output_type": "stream",
     "text": [
      "Testing Set Mean Absolute Error: 4.035 GPa\n"
     ]
    }
   ],
   "source": [
    "[loss, mae] = model.evaluate(test_values, test_labels, verbose=0)\n",
    "\n",
    "print(\"Testing Set Mean Absolute Error: {:2.3f} GPa\".format(mae))"
   ]
  },
  {
   "cell_type": "code",
   "execution_count": 11,
   "metadata": {},
   "outputs": [
    {
     "data": {
      "text/plain": [
       "<module 'tensorflow._api.v1.summary' from 'C:\\\\Users\\\\Kayla Yano\\\\anaconda3\\\\envs\\\\PythonData\\\\lib\\\\site-packages\\\\tensorflow\\\\_api\\\\v1\\\\summary\\\\__init__.py'>"
      ]
     },
     "execution_count": 11,
     "metadata": {},
     "output_type": "execute_result"
    }
   ],
   "source": [
    "tf.summary"
   ]
  },
  {
   "cell_type": "code",
   "execution_count": 12,
   "metadata": {},
   "outputs": [
    {
     "name": "stderr",
     "output_type": "stream",
     "text": [
      "'rm' is not recognized as an internal or external command,\n",
      "operable program or batch file.\n"
     ]
    },
    {
     "data": {
      "text/plain": [
       "Reusing TensorBoard on port 6006 (pid 6032), started 2 days, 1:54:18 ago. (Use '!kill 6032' to kill it.)"
      ]
     },
     "metadata": {},
     "output_type": "display_data"
    },
    {
     "data": {
      "text/html": [
       "\n",
       "        <iframe\n",
       "            width=\"100%\"\n",
       "            height=\"800\"\n",
       "            src=\"http://localhost:6006\"\n",
       "            frameborder=\"0\"\n",
       "            allowfullscreen\n",
       "        ></iframe>\n",
       "        "
      ],
      "text/plain": [
       "<IPython.lib.display.IFrame at 0x16473853d88>"
      ]
     },
     "metadata": {},
     "output_type": "display_data"
    }
   ],
   "source": [
    "# Load the TensorBoard notebook extension\n",
    "%load_ext tensorboard\n",
    "# Clear any logs from previous runs\n",
    "!rm -rf ./logs/ \n",
    "%tensorboard --logdir logs/gradient_tape"
   ]
  },
  {
   "cell_type": "markdown",
   "metadata": {},
   "source": [
    "#### MAKING PREDICTIONS\n",
    "\n",
    "The last step in a regression model is to make predictions for values not in the training set, which are determined by the method [**predict**](https://keras.io/models/model/#predict). In the following cell we print the elements in the testing set, the real values for their Young's moduli and the predictions generated by our machine learned model."
   ]
  },
  {
   "cell_type": "code",
   "execution_count": 13,
   "metadata": {},
   "outputs": [
    {
     "name": "stdout",
     "output_type": "stream",
     "text": [
      "Elements in Test Set:  ['Ti2FeIr', 'Ti2MnBe', 'PaTiTc2', 'Ti2MnCo', 'LiTiIr2', 'TiAlOs2', 'TiGaRu2', 'TiMnRh2', 'Ti2MnIr', 'TiGeRu2', 'Ti2TcRu', 'TiSiTc2', 'TiSnRh2', 'Ti2MnNi', 'Ti2TcOs', 'AcTiO3', 'Ti2TcPd', 'Ti2ZnRe', 'TiTc2Mo', 'Ti2GeC', 'Ti2CdC', 'Na2Ti2As2O', 'RbTiAsO5', 'LiTiPO5', 'Tb2Ti2S2O5', 'TiGaFeCo', 'Nd2Ti2S2O5', 'Sm2Ti2S2O5', 'Na2Ti2Sb2O', 'TiAlFeCo', 'KNaTiO3']\n",
      "Real Values [191.52, 142.04000000000005, 133.28, 218.4, 208.56, 272.48, 224.4, 191.52, 252.2, 296.96, 244.4, 228.76, 186.2, 175.56, 262.0, 186.02, 171.52, 164.92000000000004, 301.6, 253.76, 136.74, 38.92, 95.76, 145.0, 157.20000000000005, 292.32, 141.48000000000005, 151.96, 48.24, 307.34, 67.60000000000001]\n",
      "Predictions [198.75798, 145.89174, 137.77841, 221.56822, 214.28104, 279.23975, 231.28725, 197.0971, 256.55704, 299.578, 248.63857, 237.58961, 191.92651, 181.96896, 266.7312, 189.5648, 177.49135, 170.72865, 305.1517, 255.13274, 139.46265, 38.122303, 94.5912, 145.50764, 159.33331, 293.83408, 142.66766, 153.50743, 46.116768, 309.039, 76.43223]\n"
     ]
    }
   ],
   "source": [
    "test_predictions = model.predict(test_values).flatten()\n",
    "\n",
    "print(\"Elements in Test Set: \", labeled_elements)\n",
    "print(\"Real Values\", list(test_labels))\n",
    "print(\"Predictions\", list(test_predictions))\n",
    "\n",
    "values = np.concatenate((train_values, test_values), axis=0) # This line joins the values together to evaluate all of them\n",
    "predictions = model.predict(values).flatten()"
   ]
  },
  {
   "cell_type": "markdown",
   "metadata": {},
   "source": [
    "### 4. Plotting\n",
    "\n",
    "The easiest way to see if the model did a good job estimating the Young's Modulus for the Elements is through a plot comparing Real Values with their Predictions. We will use [Plotly](https://plot.ly/python/) to create a plot like that. We covered how to plot in Plotly in the first tutorial of this tool. For values in this plot, the line (x = y) indicates a perfect match and would be the desirable result for the points. As you analyze the plot, you can hover on the points to see the data we obtained in the cell above."
   ]
  },
  {
   "cell_type": "code",
   "execution_count": 14,
   "metadata": {},
   "outputs": [
    {
     "data": {
      "text/html": [
       "        <script type=\"text/javascript\">\n",
       "        window.PlotlyConfig = {MathJaxConfig: 'local'};\n",
       "        if (window.MathJax) {MathJax.Hub.Config({SVG: {font: \"STIX-Web\"}});}\n",
       "        if (typeof require !== 'undefined') {\n",
       "        require.undef(\"plotly\");\n",
       "        requirejs.config({\n",
       "            paths: {\n",
       "                'plotly': ['https://cdn.plot.ly/plotly-latest.min']\n",
       "            }\n",
       "        });\n",
       "        require(['plotly'], function(Plotly) {\n",
       "            window._Plotly = Plotly;\n",
       "        });\n",
       "        }\n",
       "        </script>\n",
       "        "
      ]
     },
     "metadata": {},
     "output_type": "display_data"
    },
    {
     "data": {
      "application/vnd.plotly.v1+json": {
       "config": {
        "linkText": "Export to plot.ly",
        "plotlyServerURL": "https://plot.ly",
        "showLink": false
       },
       "data": [
        {
         "marker": {
          "color": "blue",
          "size": 12
         },
         "mode": "markers",
         "name": "Young's Modulus (Training)",
         "text": [
          "Ti2Zn",
          "TiZn",
          "TiAg",
          "TiS",
          "Ti2Rh",
          "Ti3B4",
          "TiNi",
          "Ti2C",
          "TiIr3",
          "TiB2",
          "Ti3O5",
          "Ti5Se4",
          "Ti2O",
          "TiIr",
          "TiCu3",
          "TiAu4",
          "Ti2Be17",
          "Ti2Pd",
          "Ti3Sb",
          "TiCr2",
          "Ti3Te4",
          "U2Ti",
          "Ti3Rh5",
          "Ti3Au",
          "Ti2Ni",
          "TiAs",
          "Ti3Al",
          "TiTe2",
          "TiMn2",
          "TiAl",
          "TiP2",
          "Ti6Sn5",
          "TiCu",
          "Ti5Sn3",
          "Ti5Si3",
          "TiZn3",
          "TiRe",
          "TiSb",
          "TiSe2",
          "Ti5Sb3",
          "TiI3",
          "TiZn16",
          "Ti3Pt",
          "Ti3Hg",
          "TiF3",
          "TiH2",
          "TiRh",
          "Ti3Cu4",
          "TiBe2",
          "TiOs",
          "TiFe",
          "TiCd",
          "Ti2Cd",
          "Ti2Ga",
          "Ti3Ga",
          "Ti2Ga3",
          "Ti3Pt5",
          "TiPt8",
          "Ti2Sn",
          "TiN",
          "Ti5Si4",
          "TiI4",
          "Ti3Ir",
          "TiO2",
          "TiAl2",
          "TiSb2",
          "TiCr2",
          "TiPt3",
          "Ti3Pd5",
          "TiCl3",
          "TiGa2",
          "TiRu",
          "TiCo3",
          "Ti2Sn3",
          "TiSi",
          "TiP",
          "Ti5Te4",
          "TiB",
          "TiCo",
          "Ti2N",
          "Ti3In",
          "Ti3Pb",
          "Ti2Ag",
          "Ti2ZnN",
          "TiZnN2",
          "TiTl2F6",
          "TiTeAs",
          "TiRh3",
          "TiTc",
          "TiNi3",
          "TiFe2Sn",
          "TiPbO3",
          "TiNiSb",
          "TiS2",
          "TiGaPt",
          "TiGa3",
          "TiGa",
          "Cs2TiCl6",
          "TiBrN",
          "Ti8C5",
          "MgTi2O5",
          "NaTi2O4",
          "Ti2Pd3",
          "Ti3AlC2",
          "CaTiO3",
          "Ti2O3",
          "SrTiO3",
          "TiAl3",
          "Ti3SiC2",
          "TiGe2",
          "Ti2Bi",
          "Cs3Ti2Cl9",
          "RbTiBr3",
          "Ti2S",
          "TiC",
          "TiSiRh",
          "Ti2Cu",
          "Sc2Ti2O7",
          "Li2TiF6",
          "Ti2CoRe",
          "TiFeSi",
          "TiZnIr2",
          "TiZnNi2",
          "Ti2NiIr",
          "Ti2RePd",
          "Ti2MoPt",
          "TiTc2Sb",
          "TiTc2W",
          "Ti2OsRu",
          "TiZnCo2",
          "TiVRe2",
          "TiGaPd2",
          "TiInPd2",
          "Ti2MnRh",
          "TaTiOs2",
          "SrTiN2",
          "LiTiS2",
          "TiS3",
          "TiPt",
          "Eu2TiO4",
          "TiCrP",
          "Ti6Si2B",
          "TiNiGe",
          "Ti2PbC",
          "TiCo2Sn",
          "TiNCl",
          "Na8Ti5O14",
          "Li2TiO3",
          "ZrTiAs",
          "TiAlFe2",
          "TiCo2Si",
          "Ti2CS",
          "MgTiO3",
          "K2TiF6",
          "TiCo2Ge",
          "SrTiO3",
          "BaTiO3",
          "YTiGe",
          "TiAsRh",
          "Ti2SbP",
          "ThTi2O6",
          "TiAlCo2",
          "SrTiO3",
          "Sr2TiO4",
          "Na4Ti5O12",
          "LiTi2O4",
          "Mg3(TiAl9)2",
          "TiAlNi2",
          "TiSnO3",
          "Mg2TiO4",
          "BaTiF6",
          "Ti2AlTc",
          "LiTiRh2",
          "TiMn2Al",
          "Ti2TcRh",
          "Ti2ReNi",
          "TiZnAu2",
          "Ti2MnOs",
          "Ti2MoIr",
          "Ti2TcIr",
          "Ti2TcNi",
          "TiVTc2",
          "Ti2ReRh",
          "TiBe2Ir",
          "TiFe2Si",
          "TiBeRh2",
          "TiBeCo2",
          "CsTi6O12",
          "Ti6Al16Pt7",
          "TiGaPd",
          "Zr(TiGa2)2",
          "Lu(TiGa2)2",
          "Ti2InN",
          "TiSiRu",
          "Ti2AlC",
          "Ti3NiS6",
          "TiAlAu",
          "TiMnO3",
          "TiGaCo2",
          "TiCuSi",
          "TiFeSi2",
          "YTiSi",
          "Rb2TiCl6",
          "Ti(CuS)4",
          "TiGaNi2",
          "Ti2SnC",
          "TiAlCu2",
          "Ti2BRh6",
          "TiCoSb",
          "TiCdF6",
          "TiGaFe2",
          "Li4Ti5O12",
          "Ti2CoIr",
          "Ti2AlRe",
          "TaTiRu2",
          "TaTiTc2",
          "TiZnRh2",
          "Ti2MnFe",
          "MgTiIr2",
          "TiZnPd2",
          "TiNbRe2",
          "TiMn2W",
          "TiMn2V",
          "Ti2TcPt",
          "TiZnCu2",
          "TiGaIr2",
          "TiBeIr2",
          "TiAlRu2",
          "Ti2ZnTc",
          "TaTiMn2",
          "Li4TiO4",
          "TiNiSn",
          "TiFeTe",
          "TiSnPd",
          "LiTiPt2",
          "TiGePt",
          "Ti2ReB2",
          "Tm(TiGa2)2",
          "Ti2NiS4",
          "Ti2GaN",
          "Sr4TiN4",
          "TiPRu",
          "TiFeSb",
          "Ti3In3Rh2",
          "Ti2Te2P",
          "Ti2GaC",
          "TiGePd",
          "Ti2InC",
          "Ti3InC",
          "Ti3SnC2",
          "TiCoSi",
          "TiInCu2",
          "CaTiF6",
          "TiIN",
          "TiSnPt",
          "Ti3AlC",
          "Ba2TiO4",
          "Ca4TiN4",
          "NaTiS2",
          "Ti2AlMo",
          "Ti2CoTc",
          "MgTiRh2",
          "Ti6Al16Ni7",
          "TiAlPd2",
          "Ti2MnRu",
          "TiMnCo2",
          "TiInCo2",
          "Ti2NiMo",
          "TiMn2Si",
          "TiNbTc2",
          "TiRe2W",
          "TiReTc2",
          "TiSiOs2",
          "TiSiRu2",
          "Ti2ReIr",
          "TiSnRu2",
          "TiFe2Ge",
          "TaTiRe2",
          "Ti2IrW",
          "ScTiRu2",
          "Ti3ZnN",
          "TiCdO3",
          "RbTiS2",
          "TiNiO3",
          "TiCoGe",
          "CsTiBr3",
          "K2TiCl6",
          "TiGaNi",
          "Sr3Ti2O7",
          "Na2Ti3O7",
          "LiTiO2",
          "Ti2AlN",
          "TiSiNi",
          "TiCu2Te3",
          "TiAlPt",
          "BaTiO3",
          "Ti3SnH",
          "Ti3PdO",
          "Li(TiSe2)3",
          "Ti2CrIr",
          "Ti2FeIr",
          "Ti2MnBe",
          "PaTiTc2",
          "Ti2MnCo",
          "LiTiIr2",
          "TiAlOs2",
          "TiGaRu2",
          "TiMnRh2",
          "Ti2MnIr",
          "TiGeRu2",
          "Ti2TcRu",
          "TiSiTc2",
          "TiSnRh2",
          "Ti2MnNi",
          "Ti2TcOs",
          "AcTiO3",
          "Ti2TcPd",
          "Ti2ZnRe",
          "TiTc2Mo",
          "Ti2GeC",
          "Ti2CdC",
          "Na2Ti2As2O",
          "RbTiAsO5",
          "LiTiPO5",
          "Tb2Ti2S2O5",
          "TiGaFeCo",
          "Nd2Ti2S2O5",
          "Sm2Ti2S2O5",
          "Na2Ti2Sb2O",
          "TiAlFeCo",
          "KNaTiO3"
         ],
         "type": "scatter",
         "x": [
          121.26,
          144.48000000000005,
          95.2,
          244.42,
          209.92,
          485.64,
          104.88,
          196.56,
          411.48,
          571.78,
          199.12,
          116.84,
          267.12,
          217.08,
          136.68,
          107.64,
          311.74,
          162.44,
          70,
          199.5,
          94.24,
          273.7,
          190.28,
          181.76,
          99.36,
          180,
          154.94,
          29.04,
          167.14,
          175,
          222.04,
          140.8,
          161.20000000000005,
          127.4,
          229.36,
          66.24,
          193.12,
          115.2,
          28.8,
          121.44,
          5.12,
          75.04,
          155.44,
          171.36,
          117.9,
          57.2,
          135.23999999999998,
          158.6,
          248.04,
          340.36,
          250.26,
          52.82000000000001,
          88.44000000000003,
          161.28,
          145.6,
          160.79999999999995,
          195.64,
          230.48,
          153.6,
          439.2,
          233.7,
          2.48,
          37.96,
          164.70000000000005,
          196.8,
          135,
          199.5,
          278.2,
          121.44,
          7.68,
          169.74,
          273.92,
          217.46,
          121.92,
          241.56,
          223.86,
          91.44,
          437,
          162.26000000000005,
          294.84,
          118.8,
          51.12,
          109.06,
          246,
          147.4,
          19.18,
          158.12,
          325.08,
          192.96,
          248.32,
          267.12,
          96.72,
          149.34,
          33.32,
          152.76000000000005,
          177.6,
          178.56,
          12.7,
          45.72,
          280.6,
          186.02,
          195.58,
          120.56,
          299.88,
          252.5,
          229.68,
          272.8,
          210.04,
          333.6,
          199.2,
          59.84,
          12.6,
          18.48,
          214.2,
          429.44,
          228.8,
          144.1,
          128.64,
          75,
          250.26,
          272.5,
          267.8,
          137,
          35.28,
          194.18,
          231.4,
          243.66,
          330.24,
          312.32,
          231.4,
          299,
          14.8,
          37.96,
          212.22,
          268.66,
          132,
          116.16,
          27.5,
          43.8,
          176.4,
          307.5,
          253.76,
          210.82,
          180,
          193.88,
          48.8,
          105.84,
          179.57999999999996,
          181.76,
          264.6,
          225.32,
          321.6,
          215.04,
          29.040000000000006,
          204.36,
          255,
          110.04,
          123.48,
          199.12,
          176.08,
          166.32000000000005,
          230.4,
          255,
          187.5,
          156,
          167.70000000000005,
          125.46,
          158.12,
          45.98,
          185.76,
          57.64,
          159.60000000000005,
          163.68,
          215.9,
          244.4,
          208.56,
          73.32,
          233.18,
          234.96,
          296.96,
          190.08,
          248.16000000000003,
          262.6,
          187.6,
          362.08,
          244.4,
          261.12,
          137.8,
          150.48000000000005,
          119.7,
          171.12,
          152.5,
          208.32,
          263.68,
          264.32,
          113.16,
          150.8,
          168.96,
          195.36,
          197.12,
          287.68,
          124.46,
          12.9,
          95.46,
          111.20000000000002,
          224.48,
          161.20000000000005,
          291.54,
          190.5,
          30,
          256,
          152.4,
          172.8,
          190.08,
          213.3,
          264.62,
          217.46,
          204.36,
          276.86,
          0,
          299,
          309.6,
          214.84,
          202.16000000000003,
          116.1,
          245.52,
          309.76,
          227.04,
          133.28,
          234.96,
          109.22,
          172.72,
          204.8,
          189.42,
          112,
          134,
          453.6,
          146.16,
          135.3,
          265.96,
          85.8,
          267.8,
          137.8,
          145.6,
          34.16,
          257.04,
          179.4,
          230.4,
          228.16,
          271.04,
          254,
          122.36,
          64.5,
          43.2,
          147.84,
          248.46,
          75.4,
          110.94,
          89.53999999999998,
          115.08,
          242.52,
          200.2,
          222.04,
          84.6,
          209.6,
          202.8,
          178.16,
          205.4,
          268.8,
          251.52,
          373.76,
          319.8,
          350.88,
          330.2,
          301.86,
          274.32,
          317.5,
          306.54,
          234,
          213.3,
          228.16,
          129.60000000000002,
          77.5,
          213.2,
          202.8,
          18.2,
          13.1,
          179.4,
          207.5,
          110.04,
          297.66,
          276,
          260,
          62,
          133.28,
          138.6,
          70,
          115.92,
          34.44,
          208.56,
          191.52,
          142.04000000000005,
          133.28,
          218.4,
          208.56,
          272.48,
          224.4,
          191.52,
          252.2,
          296.96,
          244.4,
          228.76,
          186.2,
          175.56,
          262,
          186.02,
          171.52,
          164.92000000000004,
          301.6,
          253.76,
          136.74,
          38.92,
          95.76,
          145,
          157.20000000000005,
          292.32,
          141.48000000000005,
          151.96,
          48.24,
          307.34,
          67.60000000000001
         ],
         "y": [
          122.51683044433594,
          146.5666046142578,
          96.14320373535156,
          245.5311279296875,
          211.30160522460938,
          501.89508056640625,
          108.72148132324219,
          197.71466064453125,
          413.6253662109375,
          593.6517944335938,
          201.14268493652344,
          117.58534240722656,
          267.6295166015625,
          225.8323516845703,
          139.5437469482422,
          113.09478759765625,
          317.1444396972656,
          166.2528533935547,
          71.64830780029297,
          200.90257263183594,
          94.26686096191406,
          280.623046875,
          198.6541748046875,
          183.84632873535156,
          101.99285888671875,
          180.21469116210938,
          156.35693359375,
          27.4197940826416,
          174.1262664794922,
          174.8511199951172,
          222.3020782470703,
          141.96031188964844,
          163.19866943359375,
          129.32379150390625,
          230.4758758544922,
          67.4400405883789,
          202.76486206054688,
          116.62798309326172,
          25.056547164916992,
          122.59355163574219,
          5.181632041931152,
          75.21277618408203,
          160.6622772216797,
          172.18673706054688,
          118.85037994384766,
          59.58475112915039,
          141.44198608398438,
          161.49465942382812,
          251.6320343017578,
          343.0259704589844,
          251.91209411621094,
          58.77994918823242,
          88.65768432617188,
          162.50936889648438,
          147.61920166015625,
          161.33128356933594,
          202.5516815185547,
          238.8994903564453,
          154.83599853515625,
          441.5636291503906,
          233.69874572753906,
          2.87833833694458,
          40.91163635253906,
          169.47035217285156,
          197.2582244873047,
          135.14590454101562,
          206.58184814453125,
          283.4763488769531,
          125.40666198730469,
          8.474440574645996,
          170.38218688964844,
          277.0954895019531,
          222.73768615722656,
          122.50907135009766,
          242.7423553466797,
          224.4332733154297,
          91.43583679199219,
          448.9084167480469,
          167.53672790527344,
          295.70855712890625,
          119.67688751220703,
          51.38876724243164,
          109.64248657226562,
          246.0707244873047,
          151.1046600341797,
          19.631345748901367,
          160.1769256591797,
          327.66943359375,
          201.3302001953125,
          251.2005615234375,
          267.4029541015625,
          96.902587890625,
          152.19874572753906,
          28.782739639282227,
          157.9909210205078,
          178.3763427734375,
          178.94602966308594,
          12.26269817352295,
          43.743385314941406,
          282.3829345703125,
          188.29148864746094,
          198.27171325683594,
          124.52180480957031,
          302.4110412597656,
          256.111083984375,
          234.92166137695312,
          280.33331298828125,
          211.45021057128906,
          336.2381896972656,
          200.32644653320312,
          61.06418228149414,
          11.855131149291992,
          15.860664367675781,
          214.52732849121094,
          431.646240234375,
          231.51068115234375,
          147.00575256347656,
          131.6407012939453,
          74.48847961425781,
          252.67974853515625,
          273.62188720703125,
          272.6639404296875,
          141.2261199951172,
          40.06972885131836,
          200.99501037597656,
          235.26498413085938,
          248.3226318359375,
          334.01861572265625,
          313.721923828125,
          234.3649139404297,
          304.88525390625,
          17.31748390197754,
          39.67451095581055,
          217.54881286621094,
          277.80584716796875,
          133.40269470214844,
          116.46510314941406,
          23.64542007446289,
          50.66635513305664,
          178.61886596679688,
          308.28143310546875,
          254.17088317871094,
          213.02635192871094,
          180.19793701171875,
          197.82630920410156,
          46.65757369995117,
          106.12983703613281,
          182.2417755126953,
          183.49061584472656,
          265.90679931640625,
          230.6098175048828,
          324.5989990234375,
          217.90171813964844,
          30.007333755493164,
          208.75184631347656,
          257.57427978515625,
          110.10963439941406,
          124.17369079589844,
          204.28208923339844,
          176.54168701171875,
          168.77413940429688,
          232.9756317138672,
          248.6178436279297,
          190.7537841796875,
          157.1507568359375,
          168.6184844970703,
          125.25349426269531,
          162.46365356445312,
          44.430294036865234,
          187.60940551757812,
          56.602054595947266,
          164.2328338623047,
          168.8854522705078,
          217.23028564453125,
          248.20559692382812,
          214.31854248046875,
          77.73076629638672,
          238.46311950683594,
          239.78407287597656,
          299.69940185546875,
          195.79055786132812,
          255.3105010986328,
          265.87310791015625,
          194.37684631347656,
          362.87091064453125,
          248.2251739501953,
          262.0636901855469,
          138.3927764892578,
          153.9392852783203,
          121.69554138183594,
          171.44993591308594,
          152.3641815185547,
          209.5272216796875,
          266.19775390625,
          267.12835693359375,
          113.19740295410156,
          154.26608276367188,
          171.1295623779297,
          201.84022521972656,
          198.4611358642578,
          287.601806640625,
          125.00013732910156,
          11.647966384887695,
          95.72840881347656,
          115.8387451171875,
          225.48495483398438,
          164.02760314941406,
          294.0082092285156,
          192.61158752441406,
          29.502777099609375,
          257.2012634277344,
          152.55909729003906,
          179.64305114746094,
          194.8037567138672,
          222.1872100830078,
          269.36968994140625,
          222.66705322265625,
          208.83738708496094,
          278.5836181640625,
          2.340026378631592,
          304.6712646484375,
          312.39697265625,
          220.08041381835938,
          209.6553192138672,
          118.1197280883789,
          249.23216247558594,
          313.9923095703125,
          232.9069366455078,
          136.85574340820312,
          241.2655487060547,
          109.54435729980469,
          173.22605895996094,
          206.10922241210938,
          190.07359313964844,
          118.17923736572266,
          137.3935546875,
          459.183349609375,
          146.95481872558594,
          134.82252502441406,
          267.1932373046875,
          85.49417114257812,
          271.1626281738281,
          140.24085998535156,
          148.4904327392578,
          31.20548439025879,
          259.44097900390625,
          182.7299041748047,
          231.5023651123047,
          228.44020080566406,
          273.0472106933594,
          254.6811065673828,
          124.16874694824219,
          64.54411315917969,
          39.965389251708984,
          151.46112060546875,
          248.9676971435547,
          75.81472778320312,
          111.07218170166016,
          89.63102722167969,
          118.17011260986328,
          245.5547637939453,
          202.7385711669922,
          222.10452270507812,
          90.19923400878906,
          214.96852111816406,
          206.99290466308594,
          182.9780731201172,
          208.70066833496094,
          271.5279541015625,
          256.873046875,
          377.52667236328125,
          325.849609375,
          354.89276123046875,
          332.89495849609375,
          304.6520080566406,
          276.81298828125,
          319.4639587402344,
          311.56036376953125,
          237.22454833984375,
          223.15997314453125,
          228.59837341308594,
          132.4425811767578,
          76.20838928222656,
          216.52072143554688,
          206.55029296875,
          14.933780670166016,
          11.858922958374023,
          181.98793029785156,
          210.7576446533203,
          110.78680419921875,
          303.1725158691406,
          278.2767028808594,
          261.58135986328125,
          60.6661262512207,
          137.72674560546875,
          152.141845703125,
          72.32181549072266,
          120.7660903930664,
          31.342565536499023,
          213.86715698242188,
          198.7579803466797,
          145.89173889160156,
          137.77841186523438,
          221.56822204589844,
          214.28103637695312,
          279.23974609375,
          231.28724670410156,
          197.09710693359375,
          256.5570373535156,
          299.5780029296875,
          248.63856506347656,
          237.58961486816406,
          191.926513671875,
          181.96896362304688,
          266.731201171875,
          189.56480407714844,
          177.49134826660156,
          170.72865295410156,
          305.1517028808594,
          255.1327362060547,
          139.462646484375,
          38.1223030090332,
          94.59120178222656,
          145.5076446533203,
          159.33331298828125,
          293.8340759277344,
          142.66766357421875,
          153.50743103027344,
          46.11676788330078,
          309.03900146484375,
          76.4322280883789
         ]
        },
        {
         "marker": {
          "color": "red",
          "size": 12
         },
         "mode": "markers",
         "name": "Young's Modulus (Testing)",
         "text": [
          "Ti2FeIr",
          "Ti2MnBe",
          "PaTiTc2",
          "Ti2MnCo",
          "LiTiIr2",
          "TiAlOs2",
          "TiGaRu2",
          "TiMnRh2",
          "Ti2MnIr",
          "TiGeRu2",
          "Ti2TcRu",
          "TiSiTc2",
          "TiSnRh2",
          "Ti2MnNi",
          "Ti2TcOs",
          "AcTiO3",
          "Ti2TcPd",
          "Ti2ZnRe",
          "TiTc2Mo",
          "Ti2GeC",
          "Ti2CdC",
          "Na2Ti2As2O",
          "RbTiAsO5",
          "LiTiPO5",
          "Tb2Ti2S2O5",
          "TiGaFeCo",
          "Nd2Ti2S2O5",
          "Sm2Ti2S2O5",
          "Na2Ti2Sb2O",
          "TiAlFeCo",
          "KNaTiO3"
         ],
         "type": "scatter",
         "x": [
          191.52,
          142.04000000000005,
          133.28,
          218.4,
          208.56,
          272.48,
          224.4,
          191.52,
          252.2,
          296.96,
          244.4,
          228.76,
          186.2,
          175.56,
          262,
          186.02,
          171.52,
          164.92000000000004,
          301.6,
          253.76,
          136.74,
          38.92,
          95.76,
          145,
          157.20000000000005,
          292.32,
          141.48000000000005,
          151.96,
          48.24,
          307.34,
          67.60000000000001
         ],
         "y": [
          198.7579803466797,
          145.89173889160156,
          137.77841186523438,
          221.56822204589844,
          214.28103637695312,
          279.23974609375,
          231.28724670410156,
          197.09710693359375,
          256.5570373535156,
          299.5780029296875,
          248.63856506347656,
          237.58961486816406,
          191.926513671875,
          181.96896362304688,
          266.731201171875,
          189.56480407714844,
          177.49134826660156,
          170.72865295410156,
          305.1517028808594,
          255.1327362060547,
          139.462646484375,
          38.1223030090332,
          94.59120178222656,
          145.5076446533203,
          159.33331298828125,
          293.8340759277344,
          142.66766357421875,
          153.50743103027344,
          46.11676788330078,
          309.03900146484375,
          76.4322280883789
         ]
        },
        {
         "mode": "lines",
         "name": "Match",
         "type": "scatter",
         "x": [
          0,
          600
         ],
         "y": [
          0,
          600
         ]
        }
       ],
       "layout": {
        "height": 600,
        "hovermode": "closest",
        "legend": {
         "font": {
          "size": 24
         }
        },
        "showlegend": true,
        "template": {
         "data": {
          "bar": [
           {
            "error_x": {
             "color": "#2a3f5f"
            },
            "error_y": {
             "color": "#2a3f5f"
            },
            "marker": {
             "line": {
              "color": "#E5ECF6",
              "width": 0.5
             }
            },
            "type": "bar"
           }
          ],
          "barpolar": [
           {
            "marker": {
             "line": {
              "color": "#E5ECF6",
              "width": 0.5
             }
            },
            "type": "barpolar"
           }
          ],
          "carpet": [
           {
            "aaxis": {
             "endlinecolor": "#2a3f5f",
             "gridcolor": "white",
             "linecolor": "white",
             "minorgridcolor": "white",
             "startlinecolor": "#2a3f5f"
            },
            "baxis": {
             "endlinecolor": "#2a3f5f",
             "gridcolor": "white",
             "linecolor": "white",
             "minorgridcolor": "white",
             "startlinecolor": "#2a3f5f"
            },
            "type": "carpet"
           }
          ],
          "choropleth": [
           {
            "colorbar": {
             "outlinewidth": 0,
             "ticks": ""
            },
            "type": "choropleth"
           }
          ],
          "contour": [
           {
            "colorbar": {
             "outlinewidth": 0,
             "ticks": ""
            },
            "colorscale": [
             [
              0,
              "#0d0887"
             ],
             [
              0.1111111111111111,
              "#46039f"
             ],
             [
              0.2222222222222222,
              "#7201a8"
             ],
             [
              0.3333333333333333,
              "#9c179e"
             ],
             [
              0.4444444444444444,
              "#bd3786"
             ],
             [
              0.5555555555555556,
              "#d8576b"
             ],
             [
              0.6666666666666666,
              "#ed7953"
             ],
             [
              0.7777777777777778,
              "#fb9f3a"
             ],
             [
              0.8888888888888888,
              "#fdca26"
             ],
             [
              1,
              "#f0f921"
             ]
            ],
            "type": "contour"
           }
          ],
          "contourcarpet": [
           {
            "colorbar": {
             "outlinewidth": 0,
             "ticks": ""
            },
            "type": "contourcarpet"
           }
          ],
          "heatmap": [
           {
            "colorbar": {
             "outlinewidth": 0,
             "ticks": ""
            },
            "colorscale": [
             [
              0,
              "#0d0887"
             ],
             [
              0.1111111111111111,
              "#46039f"
             ],
             [
              0.2222222222222222,
              "#7201a8"
             ],
             [
              0.3333333333333333,
              "#9c179e"
             ],
             [
              0.4444444444444444,
              "#bd3786"
             ],
             [
              0.5555555555555556,
              "#d8576b"
             ],
             [
              0.6666666666666666,
              "#ed7953"
             ],
             [
              0.7777777777777778,
              "#fb9f3a"
             ],
             [
              0.8888888888888888,
              "#fdca26"
             ],
             [
              1,
              "#f0f921"
             ]
            ],
            "type": "heatmap"
           }
          ],
          "heatmapgl": [
           {
            "colorbar": {
             "outlinewidth": 0,
             "ticks": ""
            },
            "colorscale": [
             [
              0,
              "#0d0887"
             ],
             [
              0.1111111111111111,
              "#46039f"
             ],
             [
              0.2222222222222222,
              "#7201a8"
             ],
             [
              0.3333333333333333,
              "#9c179e"
             ],
             [
              0.4444444444444444,
              "#bd3786"
             ],
             [
              0.5555555555555556,
              "#d8576b"
             ],
             [
              0.6666666666666666,
              "#ed7953"
             ],
             [
              0.7777777777777778,
              "#fb9f3a"
             ],
             [
              0.8888888888888888,
              "#fdca26"
             ],
             [
              1,
              "#f0f921"
             ]
            ],
            "type": "heatmapgl"
           }
          ],
          "histogram": [
           {
            "marker": {
             "colorbar": {
              "outlinewidth": 0,
              "ticks": ""
             }
            },
            "type": "histogram"
           }
          ],
          "histogram2d": [
           {
            "colorbar": {
             "outlinewidth": 0,
             "ticks": ""
            },
            "colorscale": [
             [
              0,
              "#0d0887"
             ],
             [
              0.1111111111111111,
              "#46039f"
             ],
             [
              0.2222222222222222,
              "#7201a8"
             ],
             [
              0.3333333333333333,
              "#9c179e"
             ],
             [
              0.4444444444444444,
              "#bd3786"
             ],
             [
              0.5555555555555556,
              "#d8576b"
             ],
             [
              0.6666666666666666,
              "#ed7953"
             ],
             [
              0.7777777777777778,
              "#fb9f3a"
             ],
             [
              0.8888888888888888,
              "#fdca26"
             ],
             [
              1,
              "#f0f921"
             ]
            ],
            "type": "histogram2d"
           }
          ],
          "histogram2dcontour": [
           {
            "colorbar": {
             "outlinewidth": 0,
             "ticks": ""
            },
            "colorscale": [
             [
              0,
              "#0d0887"
             ],
             [
              0.1111111111111111,
              "#46039f"
             ],
             [
              0.2222222222222222,
              "#7201a8"
             ],
             [
              0.3333333333333333,
              "#9c179e"
             ],
             [
              0.4444444444444444,
              "#bd3786"
             ],
             [
              0.5555555555555556,
              "#d8576b"
             ],
             [
              0.6666666666666666,
              "#ed7953"
             ],
             [
              0.7777777777777778,
              "#fb9f3a"
             ],
             [
              0.8888888888888888,
              "#fdca26"
             ],
             [
              1,
              "#f0f921"
             ]
            ],
            "type": "histogram2dcontour"
           }
          ],
          "mesh3d": [
           {
            "colorbar": {
             "outlinewidth": 0,
             "ticks": ""
            },
            "type": "mesh3d"
           }
          ],
          "parcoords": [
           {
            "line": {
             "colorbar": {
              "outlinewidth": 0,
              "ticks": ""
             }
            },
            "type": "parcoords"
           }
          ],
          "pie": [
           {
            "automargin": true,
            "type": "pie"
           }
          ],
          "scatter": [
           {
            "marker": {
             "colorbar": {
              "outlinewidth": 0,
              "ticks": ""
             }
            },
            "type": "scatter"
           }
          ],
          "scatter3d": [
           {
            "line": {
             "colorbar": {
              "outlinewidth": 0,
              "ticks": ""
             }
            },
            "marker": {
             "colorbar": {
              "outlinewidth": 0,
              "ticks": ""
             }
            },
            "type": "scatter3d"
           }
          ],
          "scattercarpet": [
           {
            "marker": {
             "colorbar": {
              "outlinewidth": 0,
              "ticks": ""
             }
            },
            "type": "scattercarpet"
           }
          ],
          "scattergeo": [
           {
            "marker": {
             "colorbar": {
              "outlinewidth": 0,
              "ticks": ""
             }
            },
            "type": "scattergeo"
           }
          ],
          "scattergl": [
           {
            "marker": {
             "colorbar": {
              "outlinewidth": 0,
              "ticks": ""
             }
            },
            "type": "scattergl"
           }
          ],
          "scattermapbox": [
           {
            "marker": {
             "colorbar": {
              "outlinewidth": 0,
              "ticks": ""
             }
            },
            "type": "scattermapbox"
           }
          ],
          "scatterpolar": [
           {
            "marker": {
             "colorbar": {
              "outlinewidth": 0,
              "ticks": ""
             }
            },
            "type": "scatterpolar"
           }
          ],
          "scatterpolargl": [
           {
            "marker": {
             "colorbar": {
              "outlinewidth": 0,
              "ticks": ""
             }
            },
            "type": "scatterpolargl"
           }
          ],
          "scatterternary": [
           {
            "marker": {
             "colorbar": {
              "outlinewidth": 0,
              "ticks": ""
             }
            },
            "type": "scatterternary"
           }
          ],
          "surface": [
           {
            "colorbar": {
             "outlinewidth": 0,
             "ticks": ""
            },
            "colorscale": [
             [
              0,
              "#0d0887"
             ],
             [
              0.1111111111111111,
              "#46039f"
             ],
             [
              0.2222222222222222,
              "#7201a8"
             ],
             [
              0.3333333333333333,
              "#9c179e"
             ],
             [
              0.4444444444444444,
              "#bd3786"
             ],
             [
              0.5555555555555556,
              "#d8576b"
             ],
             [
              0.6666666666666666,
              "#ed7953"
             ],
             [
              0.7777777777777778,
              "#fb9f3a"
             ],
             [
              0.8888888888888888,
              "#fdca26"
             ],
             [
              1,
              "#f0f921"
             ]
            ],
            "type": "surface"
           }
          ],
          "table": [
           {
            "cells": {
             "fill": {
              "color": "#EBF0F8"
             },
             "line": {
              "color": "white"
             }
            },
            "header": {
             "fill": {
              "color": "#C8D4E3"
             },
             "line": {
              "color": "white"
             }
            },
            "type": "table"
           }
          ]
         },
         "layout": {
          "annotationdefaults": {
           "arrowcolor": "#2a3f5f",
           "arrowhead": 0,
           "arrowwidth": 1
          },
          "coloraxis": {
           "colorbar": {
            "outlinewidth": 0,
            "ticks": ""
           }
          },
          "colorscale": {
           "diverging": [
            [
             0,
             "#8e0152"
            ],
            [
             0.1,
             "#c51b7d"
            ],
            [
             0.2,
             "#de77ae"
            ],
            [
             0.3,
             "#f1b6da"
            ],
            [
             0.4,
             "#fde0ef"
            ],
            [
             0.5,
             "#f7f7f7"
            ],
            [
             0.6,
             "#e6f5d0"
            ],
            [
             0.7,
             "#b8e186"
            ],
            [
             0.8,
             "#7fbc41"
            ],
            [
             0.9,
             "#4d9221"
            ],
            [
             1,
             "#276419"
            ]
           ],
           "sequential": [
            [
             0,
             "#0d0887"
            ],
            [
             0.1111111111111111,
             "#46039f"
            ],
            [
             0.2222222222222222,
             "#7201a8"
            ],
            [
             0.3333333333333333,
             "#9c179e"
            ],
            [
             0.4444444444444444,
             "#bd3786"
            ],
            [
             0.5555555555555556,
             "#d8576b"
            ],
            [
             0.6666666666666666,
             "#ed7953"
            ],
            [
             0.7777777777777778,
             "#fb9f3a"
            ],
            [
             0.8888888888888888,
             "#fdca26"
            ],
            [
             1,
             "#f0f921"
            ]
           ],
           "sequentialminus": [
            [
             0,
             "#0d0887"
            ],
            [
             0.1111111111111111,
             "#46039f"
            ],
            [
             0.2222222222222222,
             "#7201a8"
            ],
            [
             0.3333333333333333,
             "#9c179e"
            ],
            [
             0.4444444444444444,
             "#bd3786"
            ],
            [
             0.5555555555555556,
             "#d8576b"
            ],
            [
             0.6666666666666666,
             "#ed7953"
            ],
            [
             0.7777777777777778,
             "#fb9f3a"
            ],
            [
             0.8888888888888888,
             "#fdca26"
            ],
            [
             1,
             "#f0f921"
            ]
           ]
          },
          "colorway": [
           "#636efa",
           "#EF553B",
           "#00cc96",
           "#ab63fa",
           "#FFA15A",
           "#19d3f3",
           "#FF6692",
           "#B6E880",
           "#FF97FF",
           "#FECB52"
          ],
          "font": {
           "color": "#2a3f5f"
          },
          "geo": {
           "bgcolor": "white",
           "lakecolor": "white",
           "landcolor": "#E5ECF6",
           "showlakes": true,
           "showland": true,
           "subunitcolor": "white"
          },
          "hoverlabel": {
           "align": "left"
          },
          "hovermode": "closest",
          "mapbox": {
           "style": "light"
          },
          "paper_bgcolor": "white",
          "plot_bgcolor": "#E5ECF6",
          "polar": {
           "angularaxis": {
            "gridcolor": "white",
            "linecolor": "white",
            "ticks": ""
           },
           "bgcolor": "#E5ECF6",
           "radialaxis": {
            "gridcolor": "white",
            "linecolor": "white",
            "ticks": ""
           }
          },
          "scene": {
           "xaxis": {
            "backgroundcolor": "#E5ECF6",
            "gridcolor": "white",
            "gridwidth": 2,
            "linecolor": "white",
            "showbackground": true,
            "ticks": "",
            "zerolinecolor": "white"
           },
           "yaxis": {
            "backgroundcolor": "#E5ECF6",
            "gridcolor": "white",
            "gridwidth": 2,
            "linecolor": "white",
            "showbackground": true,
            "ticks": "",
            "zerolinecolor": "white"
           },
           "zaxis": {
            "backgroundcolor": "#E5ECF6",
            "gridcolor": "white",
            "gridwidth": 2,
            "linecolor": "white",
            "showbackground": true,
            "ticks": "",
            "zerolinecolor": "white"
           }
          },
          "shapedefaults": {
           "line": {
            "color": "#2a3f5f"
           }
          },
          "ternary": {
           "aaxis": {
            "gridcolor": "white",
            "linecolor": "white",
            "ticks": ""
           },
           "baxis": {
            "gridcolor": "white",
            "linecolor": "white",
            "ticks": ""
           },
           "bgcolor": "#E5ECF6",
           "caxis": {
            "gridcolor": "white",
            "linecolor": "white",
            "ticks": ""
           }
          },
          "title": {
           "x": 0.05
          },
          "xaxis": {
           "automargin": true,
           "gridcolor": "white",
           "linecolor": "white",
           "ticks": "",
           "title": {
            "standoff": 15
           },
           "zerolinecolor": "white",
           "zerolinewidth": 2
          },
          "yaxis": {
           "automargin": true,
           "gridcolor": "white",
           "linecolor": "white",
           "ticks": "",
           "title": {
            "standoff": 15
           },
           "zerolinecolor": "white",
           "zerolinewidth": 2
          }
         }
        },
        "title": {
         "font": {
          "size": 28
         },
         "text": "Neural Network Model - Young's Modulus"
        },
        "width": 1000,
        "xaxis": {
         "gridwidth": 1,
         "tickfont": {
          "size": 18
         },
         "title": {
          "font": {
           "size": 24
          },
          "text": "Real Values (GPa)"
         },
         "zeroline": false
        },
        "yaxis": {
         "gridwidth": 1,
         "tickfont": {
          "size": 18
         },
         "title": {
          "font": {
           "size": 24
          },
          "text": "Prediction (GPa)"
         },
         "zeroline": false
        }
       }
      },
      "text/html": [
       "<div>\n",
       "        \n",
       "        \n",
       "            <div id=\"a2035ab8-213a-4838-a852-7a25adb4b159\" class=\"plotly-graph-div\" style=\"height:600px; width:1000px;\"></div>\n",
       "            <script type=\"text/javascript\">\n",
       "                require([\"plotly\"], function(Plotly) {\n",
       "                    window.PLOTLYENV=window.PLOTLYENV || {};\n",
       "                    \n",
       "                if (document.getElementById(\"a2035ab8-213a-4838-a852-7a25adb4b159\")) {\n",
       "                    Plotly.newPlot(\n",
       "                        'a2035ab8-213a-4838-a852-7a25adb4b159',\n",
       "                        [{\"marker\": {\"color\": \"blue\", \"size\": 12}, \"mode\": \"markers\", \"name\": \"Young's Modulus (Training)\", \"text\": [\"Ti2Zn\", \"TiZn\", \"TiAg\", \"TiS\", \"Ti2Rh\", \"Ti3B4\", \"TiNi\", \"Ti2C\", \"TiIr3\", \"TiB2\", \"Ti3O5\", \"Ti5Se4\", \"Ti2O\", \"TiIr\", \"TiCu3\", \"TiAu4\", \"Ti2Be17\", \"Ti2Pd\", \"Ti3Sb\", \"TiCr2\", \"Ti3Te4\", \"U2Ti\", \"Ti3Rh5\", \"Ti3Au\", \"Ti2Ni\", \"TiAs\", \"Ti3Al\", \"TiTe2\", \"TiMn2\", \"TiAl\", \"TiP2\", \"Ti6Sn5\", \"TiCu\", \"Ti5Sn3\", \"Ti5Si3\", \"TiZn3\", \"TiRe\", \"TiSb\", \"TiSe2\", \"Ti5Sb3\", \"TiI3\", \"TiZn16\", \"Ti3Pt\", \"Ti3Hg\", \"TiF3\", \"TiH2\", \"TiRh\", \"Ti3Cu4\", \"TiBe2\", \"TiOs\", \"TiFe\", \"TiCd\", \"Ti2Cd\", \"Ti2Ga\", \"Ti3Ga\", \"Ti2Ga3\", \"Ti3Pt5\", \"TiPt8\", \"Ti2Sn\", \"TiN\", \"Ti5Si4\", \"TiI4\", \"Ti3Ir\", \"TiO2\", \"TiAl2\", \"TiSb2\", \"TiCr2\", \"TiPt3\", \"Ti3Pd5\", \"TiCl3\", \"TiGa2\", \"TiRu\", \"TiCo3\", \"Ti2Sn3\", \"TiSi\", \"TiP\", \"Ti5Te4\", \"TiB\", \"TiCo\", \"Ti2N\", \"Ti3In\", \"Ti3Pb\", \"Ti2Ag\", \"Ti2ZnN\", \"TiZnN2\", \"TiTl2F6\", \"TiTeAs\", \"TiRh3\", \"TiTc\", \"TiNi3\", \"TiFe2Sn\", \"TiPbO3\", \"TiNiSb\", \"TiS2\", \"TiGaPt\", \"TiGa3\", \"TiGa\", \"Cs2TiCl6\", \"TiBrN\", \"Ti8C5\", \"MgTi2O5\", \"NaTi2O4\", \"Ti2Pd3\", \"Ti3AlC2\", \"CaTiO3\", \"Ti2O3\", \"SrTiO3\", \"TiAl3\", \"Ti3SiC2\", \"TiGe2\", \"Ti2Bi\", \"Cs3Ti2Cl9\", \"RbTiBr3\", \"Ti2S\", \"TiC\", \"TiSiRh\", \"Ti2Cu\", \"Sc2Ti2O7\", \"Li2TiF6\", \"Ti2CoRe\", \"TiFeSi\", \"TiZnIr2\", \"TiZnNi2\", \"Ti2NiIr\", \"Ti2RePd\", \"Ti2MoPt\", \"TiTc2Sb\", \"TiTc2W\", \"Ti2OsRu\", \"TiZnCo2\", \"TiVRe2\", \"TiGaPd2\", \"TiInPd2\", \"Ti2MnRh\", \"TaTiOs2\", \"SrTiN2\", \"LiTiS2\", \"TiS3\", \"TiPt\", \"Eu2TiO4\", \"TiCrP\", \"Ti6Si2B\", \"TiNiGe\", \"Ti2PbC\", \"TiCo2Sn\", \"TiNCl\", \"Na8Ti5O14\", \"Li2TiO3\", \"ZrTiAs\", \"TiAlFe2\", \"TiCo2Si\", \"Ti2CS\", \"MgTiO3\", \"K2TiF6\", \"TiCo2Ge\", \"SrTiO3\", \"BaTiO3\", \"YTiGe\", \"TiAsRh\", \"Ti2SbP\", \"ThTi2O6\", \"TiAlCo2\", \"SrTiO3\", \"Sr2TiO4\", \"Na4Ti5O12\", \"LiTi2O4\", \"Mg3(TiAl9)2\", \"TiAlNi2\", \"TiSnO3\", \"Mg2TiO4\", \"BaTiF6\", \"Ti2AlTc\", \"LiTiRh2\", \"TiMn2Al\", \"Ti2TcRh\", \"Ti2ReNi\", \"TiZnAu2\", \"Ti2MnOs\", \"Ti2MoIr\", \"Ti2TcIr\", \"Ti2TcNi\", \"TiVTc2\", \"Ti2ReRh\", \"TiBe2Ir\", \"TiFe2Si\", \"TiBeRh2\", \"TiBeCo2\", \"CsTi6O12\", \"Ti6Al16Pt7\", \"TiGaPd\", \"Zr(TiGa2)2\", \"Lu(TiGa2)2\", \"Ti2InN\", \"TiSiRu\", \"Ti2AlC\", \"Ti3NiS6\", \"TiAlAu\", \"TiMnO3\", \"TiGaCo2\", \"TiCuSi\", \"TiFeSi2\", \"YTiSi\", \"Rb2TiCl6\", \"Ti(CuS)4\", \"TiGaNi2\", \"Ti2SnC\", \"TiAlCu2\", \"Ti2BRh6\", \"TiCoSb\", \"TiCdF6\", \"TiGaFe2\", \"Li4Ti5O12\", \"Ti2CoIr\", \"Ti2AlRe\", \"TaTiRu2\", \"TaTiTc2\", \"TiZnRh2\", \"Ti2MnFe\", \"MgTiIr2\", \"TiZnPd2\", \"TiNbRe2\", \"TiMn2W\", \"TiMn2V\", \"Ti2TcPt\", \"TiZnCu2\", \"TiGaIr2\", \"TiBeIr2\", \"TiAlRu2\", \"Ti2ZnTc\", \"TaTiMn2\", \"Li4TiO4\", \"TiNiSn\", \"TiFeTe\", \"TiSnPd\", \"LiTiPt2\", \"TiGePt\", \"Ti2ReB2\", \"Tm(TiGa2)2\", \"Ti2NiS4\", \"Ti2GaN\", \"Sr4TiN4\", \"TiPRu\", \"TiFeSb\", \"Ti3In3Rh2\", \"Ti2Te2P\", \"Ti2GaC\", \"TiGePd\", \"Ti2InC\", \"Ti3InC\", \"Ti3SnC2\", \"TiCoSi\", \"TiInCu2\", \"CaTiF6\", \"TiIN\", \"TiSnPt\", \"Ti3AlC\", \"Ba2TiO4\", \"Ca4TiN4\", \"NaTiS2\", \"Ti2AlMo\", \"Ti2CoTc\", \"MgTiRh2\", \"Ti6Al16Ni7\", \"TiAlPd2\", \"Ti2MnRu\", \"TiMnCo2\", \"TiInCo2\", \"Ti2NiMo\", \"TiMn2Si\", \"TiNbTc2\", \"TiRe2W\", \"TiReTc2\", \"TiSiOs2\", \"TiSiRu2\", \"Ti2ReIr\", \"TiSnRu2\", \"TiFe2Ge\", \"TaTiRe2\", \"Ti2IrW\", \"ScTiRu2\", \"Ti3ZnN\", \"TiCdO3\", \"RbTiS2\", \"TiNiO3\", \"TiCoGe\", \"CsTiBr3\", \"K2TiCl6\", \"TiGaNi\", \"Sr3Ti2O7\", \"Na2Ti3O7\", \"LiTiO2\", \"Ti2AlN\", \"TiSiNi\", \"TiCu2Te3\", \"TiAlPt\", \"BaTiO3\", \"Ti3SnH\", \"Ti3PdO\", \"Li(TiSe2)3\", \"Ti2CrIr\", \"Ti2FeIr\", \"Ti2MnBe\", \"PaTiTc2\", \"Ti2MnCo\", \"LiTiIr2\", \"TiAlOs2\", \"TiGaRu2\", \"TiMnRh2\", \"Ti2MnIr\", \"TiGeRu2\", \"Ti2TcRu\", \"TiSiTc2\", \"TiSnRh2\", \"Ti2MnNi\", \"Ti2TcOs\", \"AcTiO3\", \"Ti2TcPd\", \"Ti2ZnRe\", \"TiTc2Mo\", \"Ti2GeC\", \"Ti2CdC\", \"Na2Ti2As2O\", \"RbTiAsO5\", \"LiTiPO5\", \"Tb2Ti2S2O5\", \"TiGaFeCo\", \"Nd2Ti2S2O5\", \"Sm2Ti2S2O5\", \"Na2Ti2Sb2O\", \"TiAlFeCo\", \"KNaTiO3\"], \"type\": \"scatter\", \"x\": [121.26, 144.48000000000005, 95.2, 244.42, 209.92, 485.64, 104.88, 196.56, 411.48, 571.78, 199.12, 116.84, 267.12, 217.08, 136.68, 107.64, 311.74, 162.44, 70.0, 199.5, 94.24, 273.7, 190.28, 181.76, 99.36, 180.0, 154.94, 29.04, 167.14, 175.0, 222.04, 140.8, 161.20000000000005, 127.4, 229.36, 66.24, 193.12, 115.2, 28.8, 121.44, 5.12, 75.04, 155.44, 171.36, 117.9, 57.2, 135.23999999999998, 158.6, 248.04, 340.36, 250.26, 52.82000000000001, 88.44000000000003, 161.28, 145.6, 160.79999999999995, 195.64, 230.48, 153.6, 439.2, 233.7, 2.48, 37.96, 164.70000000000005, 196.8, 135.0, 199.5, 278.2, 121.44, 7.68, 169.74, 273.92, 217.46, 121.92, 241.56, 223.86, 91.44, 437.0, 162.26000000000005, 294.84, 118.8, 51.12, 109.06, 246.0, 147.4, 19.18, 158.12, 325.08, 192.96, 248.32, 267.12, 96.72, 149.34, 33.32, 152.76000000000005, 177.6, 178.56, 12.7, 45.72, 280.6, 186.02, 195.58, 120.56, 299.88, 252.5, 229.68, 272.8, 210.04, 333.6, 199.2, 59.84, 12.6, 18.48, 214.2, 429.44, 228.8, 144.1, 128.64, 75.0, 250.26, 272.5, 267.8, 137.0, 35.28, 194.18, 231.4, 243.66, 330.24, 312.32, 231.4, 299.0, 14.8, 37.96, 212.22, 268.66, 132.0, 116.16, 27.5, 43.8, 176.4, 307.5, 253.76, 210.82, 180.0, 193.88, 48.8, 105.84, 179.57999999999996, 181.76, 264.6, 225.32, 321.6, 215.04, 29.040000000000006, 204.36, 255.0, 110.04, 123.48, 199.12, 176.08, 166.32000000000005, 230.4, 255.0, 187.5, 156.0, 167.70000000000005, 125.46, 158.12, 45.98, 185.76, 57.64, 159.60000000000005, 163.68, 215.9, 244.4, 208.56, 73.32, 233.18, 234.96, 296.96, 190.08, 248.16000000000003, 262.6, 187.6, 362.08, 244.4, 261.12, 137.8, 150.48000000000005, 119.7, 171.12, 152.5, 208.32, 263.68, 264.32, 113.16, 150.8, 168.96, 195.36, 197.12, 287.68, 124.46, 12.9, 95.46, 111.20000000000002, 224.48, 161.20000000000005, 291.54, 190.5, 30.0, 256.0, 152.4, 172.8, 190.08, 213.3, 264.62, 217.46, 204.36, 276.86, 0.0, 299.0, 309.6, 214.84, 202.16000000000003, 116.1, 245.52, 309.76, 227.04, 133.28, 234.96, 109.22, 172.72, 204.8, 189.42, 112.0, 134.0, 453.6, 146.16, 135.3, 265.96, 85.8, 267.8, 137.8, 145.6, 34.16, 257.04, 179.4, 230.4, 228.16, 271.04, 254.0, 122.36, 64.5, 43.2, 147.84, 248.46, 75.4, 110.94, 89.53999999999998, 115.08, 242.52, 200.2, 222.04, 84.6, 209.6, 202.8, 178.16, 205.4, 268.8, 251.52, 373.76, 319.8, 350.88, 330.2, 301.86, 274.32, 317.5, 306.54, 234.0, 213.3, 228.16, 129.60000000000002, 77.5, 213.2, 202.8, 18.2, 13.1, 179.4, 207.5, 110.04, 297.66, 276.0, 260.0, 62.0, 133.28, 138.6, 70.0, 115.92, 34.44, 208.56, 191.52, 142.04000000000005, 133.28, 218.4, 208.56, 272.48, 224.4, 191.52, 252.2, 296.96, 244.4, 228.76, 186.2, 175.56, 262.0, 186.02, 171.52, 164.92000000000004, 301.6, 253.76, 136.74, 38.92, 95.76, 145.0, 157.20000000000005, 292.32, 141.48000000000005, 151.96, 48.24, 307.34, 67.60000000000001], \"y\": [122.51683044433594, 146.5666046142578, 96.14320373535156, 245.5311279296875, 211.30160522460938, 501.89508056640625, 108.72148132324219, 197.71466064453125, 413.6253662109375, 593.6517944335938, 201.14268493652344, 117.58534240722656, 267.6295166015625, 225.8323516845703, 139.5437469482422, 113.09478759765625, 317.1444396972656, 166.2528533935547, 71.64830780029297, 200.90257263183594, 94.26686096191406, 280.623046875, 198.6541748046875, 183.84632873535156, 101.99285888671875, 180.21469116210938, 156.35693359375, 27.4197940826416, 174.1262664794922, 174.8511199951172, 222.3020782470703, 141.96031188964844, 163.19866943359375, 129.32379150390625, 230.4758758544922, 67.4400405883789, 202.76486206054688, 116.62798309326172, 25.056547164916992, 122.59355163574219, 5.181632041931152, 75.21277618408203, 160.6622772216797, 172.18673706054688, 118.85037994384766, 59.58475112915039, 141.44198608398438, 161.49465942382812, 251.6320343017578, 343.0259704589844, 251.91209411621094, 58.77994918823242, 88.65768432617188, 162.50936889648438, 147.61920166015625, 161.33128356933594, 202.5516815185547, 238.8994903564453, 154.83599853515625, 441.5636291503906, 233.69874572753906, 2.87833833694458, 40.91163635253906, 169.47035217285156, 197.2582244873047, 135.14590454101562, 206.58184814453125, 283.4763488769531, 125.40666198730469, 8.474440574645996, 170.38218688964844, 277.0954895019531, 222.73768615722656, 122.50907135009766, 242.7423553466797, 224.4332733154297, 91.43583679199219, 448.9084167480469, 167.53672790527344, 295.70855712890625, 119.67688751220703, 51.38876724243164, 109.64248657226562, 246.0707244873047, 151.1046600341797, 19.631345748901367, 160.1769256591797, 327.66943359375, 201.3302001953125, 251.2005615234375, 267.4029541015625, 96.902587890625, 152.19874572753906, 28.782739639282227, 157.9909210205078, 178.3763427734375, 178.94602966308594, 12.26269817352295, 43.743385314941406, 282.3829345703125, 188.29148864746094, 198.27171325683594, 124.52180480957031, 302.4110412597656, 256.111083984375, 234.92166137695312, 280.33331298828125, 211.45021057128906, 336.2381896972656, 200.32644653320312, 61.06418228149414, 11.855131149291992, 15.860664367675781, 214.52732849121094, 431.646240234375, 231.51068115234375, 147.00575256347656, 131.6407012939453, 74.48847961425781, 252.67974853515625, 273.62188720703125, 272.6639404296875, 141.2261199951172, 40.06972885131836, 200.99501037597656, 235.26498413085938, 248.3226318359375, 334.01861572265625, 313.721923828125, 234.3649139404297, 304.88525390625, 17.31748390197754, 39.67451095581055, 217.54881286621094, 277.80584716796875, 133.40269470214844, 116.46510314941406, 23.64542007446289, 50.66635513305664, 178.61886596679688, 308.28143310546875, 254.17088317871094, 213.02635192871094, 180.19793701171875, 197.82630920410156, 46.65757369995117, 106.12983703613281, 182.2417755126953, 183.49061584472656, 265.90679931640625, 230.6098175048828, 324.5989990234375, 217.90171813964844, 30.007333755493164, 208.75184631347656, 257.57427978515625, 110.10963439941406, 124.17369079589844, 204.28208923339844, 176.54168701171875, 168.77413940429688, 232.9756317138672, 248.6178436279297, 190.7537841796875, 157.1507568359375, 168.6184844970703, 125.25349426269531, 162.46365356445312, 44.430294036865234, 187.60940551757812, 56.602054595947266, 164.2328338623047, 168.8854522705078, 217.23028564453125, 248.20559692382812, 214.31854248046875, 77.73076629638672, 238.46311950683594, 239.78407287597656, 299.69940185546875, 195.79055786132812, 255.3105010986328, 265.87310791015625, 194.37684631347656, 362.87091064453125, 248.2251739501953, 262.0636901855469, 138.3927764892578, 153.9392852783203, 121.69554138183594, 171.44993591308594, 152.3641815185547, 209.5272216796875, 266.19775390625, 267.12835693359375, 113.19740295410156, 154.26608276367188, 171.1295623779297, 201.84022521972656, 198.4611358642578, 287.601806640625, 125.00013732910156, 11.647966384887695, 95.72840881347656, 115.8387451171875, 225.48495483398438, 164.02760314941406, 294.0082092285156, 192.61158752441406, 29.502777099609375, 257.2012634277344, 152.55909729003906, 179.64305114746094, 194.8037567138672, 222.1872100830078, 269.36968994140625, 222.66705322265625, 208.83738708496094, 278.5836181640625, 2.340026378631592, 304.6712646484375, 312.39697265625, 220.08041381835938, 209.6553192138672, 118.1197280883789, 249.23216247558594, 313.9923095703125, 232.9069366455078, 136.85574340820312, 241.2655487060547, 109.54435729980469, 173.22605895996094, 206.10922241210938, 190.07359313964844, 118.17923736572266, 137.3935546875, 459.183349609375, 146.95481872558594, 134.82252502441406, 267.1932373046875, 85.49417114257812, 271.1626281738281, 140.24085998535156, 148.4904327392578, 31.20548439025879, 259.44097900390625, 182.7299041748047, 231.5023651123047, 228.44020080566406, 273.0472106933594, 254.6811065673828, 124.16874694824219, 64.54411315917969, 39.965389251708984, 151.46112060546875, 248.9676971435547, 75.81472778320312, 111.07218170166016, 89.63102722167969, 118.17011260986328, 245.5547637939453, 202.7385711669922, 222.10452270507812, 90.19923400878906, 214.96852111816406, 206.99290466308594, 182.9780731201172, 208.70066833496094, 271.5279541015625, 256.873046875, 377.52667236328125, 325.849609375, 354.89276123046875, 332.89495849609375, 304.6520080566406, 276.81298828125, 319.4639587402344, 311.56036376953125, 237.22454833984375, 223.15997314453125, 228.59837341308594, 132.4425811767578, 76.20838928222656, 216.52072143554688, 206.55029296875, 14.933780670166016, 11.858922958374023, 181.98793029785156, 210.7576446533203, 110.78680419921875, 303.1725158691406, 278.2767028808594, 261.58135986328125, 60.6661262512207, 137.72674560546875, 152.141845703125, 72.32181549072266, 120.7660903930664, 31.342565536499023, 213.86715698242188, 198.7579803466797, 145.89173889160156, 137.77841186523438, 221.56822204589844, 214.28103637695312, 279.23974609375, 231.28724670410156, 197.09710693359375, 256.5570373535156, 299.5780029296875, 248.63856506347656, 237.58961486816406, 191.926513671875, 181.96896362304688, 266.731201171875, 189.56480407714844, 177.49134826660156, 170.72865295410156, 305.1517028808594, 255.1327362060547, 139.462646484375, 38.1223030090332, 94.59120178222656, 145.5076446533203, 159.33331298828125, 293.8340759277344, 142.66766357421875, 153.50743103027344, 46.11676788330078, 309.03900146484375, 76.4322280883789]}, {\"marker\": {\"color\": \"red\", \"size\": 12}, \"mode\": \"markers\", \"name\": \"Young's Modulus (Testing)\", \"text\": [\"Ti2FeIr\", \"Ti2MnBe\", \"PaTiTc2\", \"Ti2MnCo\", \"LiTiIr2\", \"TiAlOs2\", \"TiGaRu2\", \"TiMnRh2\", \"Ti2MnIr\", \"TiGeRu2\", \"Ti2TcRu\", \"TiSiTc2\", \"TiSnRh2\", \"Ti2MnNi\", \"Ti2TcOs\", \"AcTiO3\", \"Ti2TcPd\", \"Ti2ZnRe\", \"TiTc2Mo\", \"Ti2GeC\", \"Ti2CdC\", \"Na2Ti2As2O\", \"RbTiAsO5\", \"LiTiPO5\", \"Tb2Ti2S2O5\", \"TiGaFeCo\", \"Nd2Ti2S2O5\", \"Sm2Ti2S2O5\", \"Na2Ti2Sb2O\", \"TiAlFeCo\", \"KNaTiO3\"], \"type\": \"scatter\", \"x\": [191.52, 142.04000000000005, 133.28, 218.4, 208.56, 272.48, 224.4, 191.52, 252.2, 296.96, 244.4, 228.76, 186.2, 175.56, 262.0, 186.02, 171.52, 164.92000000000004, 301.6, 253.76, 136.74, 38.92, 95.76, 145.0, 157.20000000000005, 292.32, 141.48000000000005, 151.96, 48.24, 307.34, 67.60000000000001], \"y\": [198.7579803466797, 145.89173889160156, 137.77841186523438, 221.56822204589844, 214.28103637695312, 279.23974609375, 231.28724670410156, 197.09710693359375, 256.5570373535156, 299.5780029296875, 248.63856506347656, 237.58961486816406, 191.926513671875, 181.96896362304688, 266.731201171875, 189.56480407714844, 177.49134826660156, 170.72865295410156, 305.1517028808594, 255.1327362060547, 139.462646484375, 38.1223030090332, 94.59120178222656, 145.5076446533203, 159.33331298828125, 293.8340759277344, 142.66766357421875, 153.50743103027344, 46.11676788330078, 309.03900146484375, 76.4322280883789]}, {\"mode\": \"lines\", \"name\": \"Match\", \"type\": \"scatter\", \"x\": [0, 600], \"y\": [0, 600]}],\n",
       "                        {\"height\": 600, \"hovermode\": \"closest\", \"legend\": {\"font\": {\"size\": 24}}, \"showlegend\": true, \"template\": {\"data\": {\"bar\": [{\"error_x\": {\"color\": \"#2a3f5f\"}, \"error_y\": {\"color\": \"#2a3f5f\"}, \"marker\": {\"line\": {\"color\": \"#E5ECF6\", \"width\": 0.5}}, \"type\": \"bar\"}], \"barpolar\": [{\"marker\": {\"line\": {\"color\": \"#E5ECF6\", \"width\": 0.5}}, \"type\": \"barpolar\"}], \"carpet\": [{\"aaxis\": {\"endlinecolor\": \"#2a3f5f\", \"gridcolor\": \"white\", \"linecolor\": \"white\", \"minorgridcolor\": \"white\", \"startlinecolor\": \"#2a3f5f\"}, \"baxis\": {\"endlinecolor\": \"#2a3f5f\", \"gridcolor\": \"white\", \"linecolor\": \"white\", \"minorgridcolor\": \"white\", \"startlinecolor\": \"#2a3f5f\"}, \"type\": \"carpet\"}], \"choropleth\": [{\"colorbar\": {\"outlinewidth\": 0, \"ticks\": \"\"}, \"type\": \"choropleth\"}], \"contour\": [{\"colorbar\": {\"outlinewidth\": 0, \"ticks\": \"\"}, \"colorscale\": [[0.0, \"#0d0887\"], [0.1111111111111111, \"#46039f\"], [0.2222222222222222, \"#7201a8\"], [0.3333333333333333, \"#9c179e\"], [0.4444444444444444, \"#bd3786\"], [0.5555555555555556, \"#d8576b\"], [0.6666666666666666, \"#ed7953\"], [0.7777777777777778, \"#fb9f3a\"], [0.8888888888888888, \"#fdca26\"], [1.0, \"#f0f921\"]], \"type\": \"contour\"}], \"contourcarpet\": [{\"colorbar\": {\"outlinewidth\": 0, \"ticks\": \"\"}, \"type\": \"contourcarpet\"}], \"heatmap\": [{\"colorbar\": {\"outlinewidth\": 0, \"ticks\": \"\"}, \"colorscale\": [[0.0, \"#0d0887\"], [0.1111111111111111, \"#46039f\"], [0.2222222222222222, \"#7201a8\"], [0.3333333333333333, \"#9c179e\"], [0.4444444444444444, \"#bd3786\"], [0.5555555555555556, \"#d8576b\"], [0.6666666666666666, \"#ed7953\"], [0.7777777777777778, \"#fb9f3a\"], [0.8888888888888888, \"#fdca26\"], [1.0, \"#f0f921\"]], \"type\": \"heatmap\"}], \"heatmapgl\": [{\"colorbar\": {\"outlinewidth\": 0, \"ticks\": \"\"}, \"colorscale\": [[0.0, \"#0d0887\"], [0.1111111111111111, \"#46039f\"], [0.2222222222222222, \"#7201a8\"], [0.3333333333333333, \"#9c179e\"], [0.4444444444444444, \"#bd3786\"], [0.5555555555555556, \"#d8576b\"], [0.6666666666666666, \"#ed7953\"], [0.7777777777777778, \"#fb9f3a\"], [0.8888888888888888, \"#fdca26\"], [1.0, \"#f0f921\"]], \"type\": \"heatmapgl\"}], \"histogram\": [{\"marker\": {\"colorbar\": {\"outlinewidth\": 0, \"ticks\": \"\"}}, \"type\": \"histogram\"}], \"histogram2d\": [{\"colorbar\": {\"outlinewidth\": 0, \"ticks\": \"\"}, \"colorscale\": [[0.0, \"#0d0887\"], [0.1111111111111111, \"#46039f\"], [0.2222222222222222, \"#7201a8\"], [0.3333333333333333, \"#9c179e\"], [0.4444444444444444, \"#bd3786\"], [0.5555555555555556, \"#d8576b\"], [0.6666666666666666, \"#ed7953\"], [0.7777777777777778, \"#fb9f3a\"], [0.8888888888888888, \"#fdca26\"], [1.0, \"#f0f921\"]], \"type\": \"histogram2d\"}], \"histogram2dcontour\": [{\"colorbar\": {\"outlinewidth\": 0, \"ticks\": \"\"}, \"colorscale\": [[0.0, \"#0d0887\"], [0.1111111111111111, \"#46039f\"], [0.2222222222222222, \"#7201a8\"], [0.3333333333333333, \"#9c179e\"], [0.4444444444444444, \"#bd3786\"], [0.5555555555555556, \"#d8576b\"], [0.6666666666666666, \"#ed7953\"], [0.7777777777777778, \"#fb9f3a\"], [0.8888888888888888, \"#fdca26\"], [1.0, \"#f0f921\"]], \"type\": \"histogram2dcontour\"}], \"mesh3d\": [{\"colorbar\": {\"outlinewidth\": 0, \"ticks\": \"\"}, \"type\": \"mesh3d\"}], \"parcoords\": [{\"line\": {\"colorbar\": {\"outlinewidth\": 0, \"ticks\": \"\"}}, \"type\": \"parcoords\"}], \"pie\": [{\"automargin\": true, \"type\": \"pie\"}], \"scatter\": [{\"marker\": {\"colorbar\": {\"outlinewidth\": 0, \"ticks\": \"\"}}, \"type\": \"scatter\"}], \"scatter3d\": [{\"line\": {\"colorbar\": {\"outlinewidth\": 0, \"ticks\": \"\"}}, \"marker\": {\"colorbar\": {\"outlinewidth\": 0, \"ticks\": \"\"}}, \"type\": \"scatter3d\"}], \"scattercarpet\": [{\"marker\": {\"colorbar\": {\"outlinewidth\": 0, \"ticks\": \"\"}}, \"type\": \"scattercarpet\"}], \"scattergeo\": [{\"marker\": {\"colorbar\": {\"outlinewidth\": 0, \"ticks\": \"\"}}, \"type\": \"scattergeo\"}], \"scattergl\": [{\"marker\": {\"colorbar\": {\"outlinewidth\": 0, \"ticks\": \"\"}}, \"type\": \"scattergl\"}], \"scattermapbox\": [{\"marker\": {\"colorbar\": {\"outlinewidth\": 0, \"ticks\": \"\"}}, \"type\": \"scattermapbox\"}], \"scatterpolar\": [{\"marker\": {\"colorbar\": {\"outlinewidth\": 0, \"ticks\": \"\"}}, \"type\": \"scatterpolar\"}], \"scatterpolargl\": [{\"marker\": {\"colorbar\": {\"outlinewidth\": 0, \"ticks\": \"\"}}, \"type\": \"scatterpolargl\"}], \"scatterternary\": [{\"marker\": {\"colorbar\": {\"outlinewidth\": 0, \"ticks\": \"\"}}, \"type\": \"scatterternary\"}], \"surface\": [{\"colorbar\": {\"outlinewidth\": 0, \"ticks\": \"\"}, \"colorscale\": [[0.0, \"#0d0887\"], [0.1111111111111111, \"#46039f\"], [0.2222222222222222, \"#7201a8\"], [0.3333333333333333, \"#9c179e\"], [0.4444444444444444, \"#bd3786\"], [0.5555555555555556, \"#d8576b\"], [0.6666666666666666, \"#ed7953\"], [0.7777777777777778, \"#fb9f3a\"], [0.8888888888888888, \"#fdca26\"], [1.0, \"#f0f921\"]], \"type\": \"surface\"}], \"table\": [{\"cells\": {\"fill\": {\"color\": \"#EBF0F8\"}, \"line\": {\"color\": \"white\"}}, \"header\": {\"fill\": {\"color\": \"#C8D4E3\"}, \"line\": {\"color\": \"white\"}}, \"type\": \"table\"}]}, \"layout\": {\"annotationdefaults\": {\"arrowcolor\": \"#2a3f5f\", \"arrowhead\": 0, \"arrowwidth\": 1}, \"coloraxis\": {\"colorbar\": {\"outlinewidth\": 0, \"ticks\": \"\"}}, \"colorscale\": {\"diverging\": [[0, \"#8e0152\"], [0.1, \"#c51b7d\"], [0.2, \"#de77ae\"], [0.3, \"#f1b6da\"], [0.4, \"#fde0ef\"], [0.5, \"#f7f7f7\"], [0.6, \"#e6f5d0\"], [0.7, \"#b8e186\"], [0.8, \"#7fbc41\"], [0.9, \"#4d9221\"], [1, \"#276419\"]], \"sequential\": [[0.0, \"#0d0887\"], [0.1111111111111111, \"#46039f\"], [0.2222222222222222, \"#7201a8\"], [0.3333333333333333, \"#9c179e\"], [0.4444444444444444, \"#bd3786\"], [0.5555555555555556, \"#d8576b\"], [0.6666666666666666, \"#ed7953\"], [0.7777777777777778, \"#fb9f3a\"], [0.8888888888888888, \"#fdca26\"], [1.0, \"#f0f921\"]], \"sequentialminus\": [[0.0, \"#0d0887\"], [0.1111111111111111, \"#46039f\"], [0.2222222222222222, \"#7201a8\"], [0.3333333333333333, \"#9c179e\"], [0.4444444444444444, \"#bd3786\"], [0.5555555555555556, \"#d8576b\"], [0.6666666666666666, \"#ed7953\"], [0.7777777777777778, \"#fb9f3a\"], [0.8888888888888888, \"#fdca26\"], [1.0, \"#f0f921\"]]}, \"colorway\": [\"#636efa\", \"#EF553B\", \"#00cc96\", \"#ab63fa\", \"#FFA15A\", \"#19d3f3\", \"#FF6692\", \"#B6E880\", \"#FF97FF\", \"#FECB52\"], \"font\": {\"color\": \"#2a3f5f\"}, \"geo\": {\"bgcolor\": \"white\", \"lakecolor\": \"white\", \"landcolor\": \"#E5ECF6\", \"showlakes\": true, \"showland\": true, \"subunitcolor\": \"white\"}, \"hoverlabel\": {\"align\": \"left\"}, \"hovermode\": \"closest\", \"mapbox\": {\"style\": \"light\"}, \"paper_bgcolor\": \"white\", \"plot_bgcolor\": \"#E5ECF6\", \"polar\": {\"angularaxis\": {\"gridcolor\": \"white\", \"linecolor\": \"white\", \"ticks\": \"\"}, \"bgcolor\": \"#E5ECF6\", \"radialaxis\": {\"gridcolor\": \"white\", \"linecolor\": \"white\", \"ticks\": \"\"}}, \"scene\": {\"xaxis\": {\"backgroundcolor\": \"#E5ECF6\", \"gridcolor\": \"white\", \"gridwidth\": 2, \"linecolor\": \"white\", \"showbackground\": true, \"ticks\": \"\", \"zerolinecolor\": \"white\"}, \"yaxis\": {\"backgroundcolor\": \"#E5ECF6\", \"gridcolor\": \"white\", \"gridwidth\": 2, \"linecolor\": \"white\", \"showbackground\": true, \"ticks\": \"\", \"zerolinecolor\": \"white\"}, \"zaxis\": {\"backgroundcolor\": \"#E5ECF6\", \"gridcolor\": \"white\", \"gridwidth\": 2, \"linecolor\": \"white\", \"showbackground\": true, \"ticks\": \"\", \"zerolinecolor\": \"white\"}}, \"shapedefaults\": {\"line\": {\"color\": \"#2a3f5f\"}}, \"ternary\": {\"aaxis\": {\"gridcolor\": \"white\", \"linecolor\": \"white\", \"ticks\": \"\"}, \"baxis\": {\"gridcolor\": \"white\", \"linecolor\": \"white\", \"ticks\": \"\"}, \"bgcolor\": \"#E5ECF6\", \"caxis\": {\"gridcolor\": \"white\", \"linecolor\": \"white\", \"ticks\": \"\"}}, \"title\": {\"x\": 0.05}, \"xaxis\": {\"automargin\": true, \"gridcolor\": \"white\", \"linecolor\": \"white\", \"ticks\": \"\", \"title\": {\"standoff\": 15}, \"zerolinecolor\": \"white\", \"zerolinewidth\": 2}, \"yaxis\": {\"automargin\": true, \"gridcolor\": \"white\", \"linecolor\": \"white\", \"ticks\": \"\", \"title\": {\"standoff\": 15}, \"zerolinecolor\": \"white\", \"zerolinewidth\": 2}}}, \"title\": {\"font\": {\"size\": 28}, \"text\": \"Neural Network Model - Young's Modulus\"}, \"width\": 1000, \"xaxis\": {\"gridwidth\": 1, \"tickfont\": {\"size\": 18}, \"title\": {\"font\": {\"size\": 24}, \"text\": \"Real Values (GPa)\"}, \"zeroline\": false}, \"yaxis\": {\"gridwidth\": 1, \"tickfont\": {\"size\": 18}, \"title\": {\"font\": {\"size\": 24}, \"text\": \"Prediction (GPa)\"}, \"zeroline\": false}},\n",
       "                        {\"responsive\": true}\n",
       "                    ).then(function(){\n",
       "                            \n",
       "var gd = document.getElementById('a2035ab8-213a-4838-a852-7a25adb4b159');\n",
       "var x = new MutationObserver(function (mutations, observer) {{\n",
       "        var display = window.getComputedStyle(gd).display;\n",
       "        if (!display || display === 'none') {{\n",
       "            console.log([gd, 'removed!']);\n",
       "            Plotly.purge(gd);\n",
       "            observer.disconnect();\n",
       "        }}\n",
       "}});\n",
       "\n",
       "// Listen for the removal of the full notebook cells\n",
       "var notebookContainer = gd.closest('#notebook-container');\n",
       "if (notebookContainer) {{\n",
       "    x.observe(notebookContainer, {childList: true});\n",
       "}}\n",
       "\n",
       "// Listen for the clearing of the current output cell\n",
       "var outputEl = gd.closest('.output');\n",
       "if (outputEl) {{\n",
       "    x.observe(outputEl, {childList: true});\n",
       "}}\n",
       "\n",
       "                        })\n",
       "                };\n",
       "                });\n",
       "            </script>\n",
       "        </div>"
      ]
     },
     "metadata": {},
     "output_type": "display_data"
    }
   ],
   "source": [
    "import plotly\n",
    "import plotly.graph_objs as go\n",
    "from plotly.offline import iplot\n",
    "\n",
    "plotly.offline.init_notebook_mode(connected=True)\n",
    "\n",
    "layout0= go.Layout(title=go.layout.Title(text=\"Neural Network Model - Young's Modulus\", font=dict(size=28)), hovermode= 'closest', width = 1000, height=600, showlegend=True,  # Hovermode establishes the way the labels that appear when you hover are arranged # Establishing a square plot width=height\n",
    "    xaxis= dict(title=go.layout.xaxis.Title(text='Real Values (GPa)', font=dict(size=24)), zeroline= False, gridwidth= 1, tickfont=dict(size=18)), # Axis Titles. Removing the X-axis Mark. Adding a Grid\n",
    "    yaxis= dict(title=go.layout.yaxis.Title(text='Prediction (GPa)', font=dict(size=24)), zeroline= False, gridwidth= 1, tickfont=dict(size=18)), # Axis Titles. Removing the Y-axis Mark. Adding a Grid\n",
    "    legend=dict(font=dict(size=24))) # Adding a legend\n",
    "\n",
    "trace0 = go.Scatter(x = all_labels, y = predictions, mode = 'markers', marker= dict(size= 12, color= 'blue'), text= elements, name = 'Young\\'s Modulus (Training)')\n",
    "trace1 = go.Scatter(x = test_labels, y = test_predictions, mode = 'markers', marker= dict(size= 12, color= 'red'), text = labeled_elements, name = 'Young\\'s Modulus (Testing)')\n",
    "trace2 = go.Scatter(x = [0,600], y = [0,600], mode = 'lines', name = \"Match\") # This trace is the line X = Y which would indicate that the Prediction equals the real value\n",
    "\n",
    "data = [trace0, trace1, trace2]\n",
    "fig= go.Figure(data, layout=layout0)\n",
    "iplot(fig)"
   ]
  },
  {
   "cell_type": "code",
   "execution_count": 15,
   "metadata": {},
   "outputs": [
    {
     "name": "stdout",
     "output_type": "stream",
     "text": [
      "331/331 - 0s - loss: 6.2363e-06 - mean_absolute_error: 6.2363e-06\n",
      "Loss: 6.236338537892262e-06, Accuracy: 6.236338322196389e-06\n"
     ]
    }
   ],
   "source": [
    "model_loss, model_accuracy = model.evaluate(values, predictions,verbose=2)\n",
    "print(f\"Loss: {model_loss}, Accuracy: {model_accuracy}\")"
   ]
  },
  {
   "cell_type": "code",
   "execution_count": null,
   "metadata": {},
   "outputs": [],
   "source": []
  }
 ],
 "metadata": {
  "kernelspec": {
   "display_name": "PythonData",
   "language": "python",
   "name": "pythondata"
  },
  "language_info": {
   "codemirror_mode": {
    "name": "ipython",
    "version": 3
   },
   "file_extension": ".py",
   "mimetype": "text/x-python",
   "name": "python",
   "nbconvert_exporter": "python",
   "pygments_lexer": "ipython3",
   "version": "3.7.7"
  }
 },
 "nbformat": 4,
 "nbformat_minor": 2
}
