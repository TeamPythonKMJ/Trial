{
 "cells": [
  {
   "cell_type": "markdown",
   "metadata": {},
   "source": [
    "## *Using neural networks to estimate Young's Modulus for elements*\n",
    "\n",
    "**Why?** Creating regression models from attributes can help scientists, engineers and students get an approximate value for unknown or unmeasured properties of materials.\n",
    "\n",
    "**What?** In this tutorial we will learn how to use neural networks from the [Keras](https://keras.io/) library to create a regression model to estimate Young's modulus.\n",
    "\n",
    "You can find another example of neural network regression using Keras in the [TensorFlow Tutorials](https://nanohub.org/tools/tftutorials) nanoHUB tool.\n",
    "\n",
    "**How to use this?** This tutorial uses Python, some familiarity with programming would be beneficial but is not required. Run each code cell in order by clicking \"Shift + Enter\". Feel free to modify the code, or change queries to familiarize yourself with the workings on the code.\n",
    "\n",
    "Suggested modifications and exercises are included in <font color=blue> blue</font>.\n",
    "\n",
    "**Outline:**\n",
    "\n",
    "1. Getting data\n",
    "2. Processing and Organizing Data\n",
    "3. Creating the Model\n",
    "4. Plotting\n",
    "\n",
    "\n",
    "**Get started:** Click \"Shift-Enter\" on the code cells to run! "
   ]
  },
  {
   "cell_type": "markdown",
   "metadata": {},
   "source": [
    "### 1. Getting a dataset\n",
    "\n",
    "We will repeat the process of obtaining a dataset used in the [previous](MSEML_Regression.ipynb) tutorial and the explanations are repeated for convenience.\n",
    "\n",
    "Datasets containing properties for the elements in the periodic table are available online; however, it would be thematic to create our own, using the tools from the first tutorial on [MSEML Query_Viz](MSEML_Query_Viz.ipynb). In this section we will query both [Pymatgen](http://pymatgen.org/) and [Mendeleev](https://mendeleev.readthedocs.io/en/stable/) to get a complete set of properties per element. We will use this data to create the cases from which the model will train and test.\n",
    "<br>\n",
    "<br>\n",
    "In this first snippet of code we will import all relevant libraries, the elements that will be turned into cases and the properties that will serve as the attributes for the cases. We will get 49 entries (which is a small dataset), but should give us a somewhat accurate prediction. We will also include some values to \"patch\" some unknown values in the dataset. It is important to note that more entries would move the prediction closer to the real value, and so would more attributes.\n",
    "<br>\n",
    "<br>\n",
    "The elements listed were chosen because querying them for these properties yields a dataset with few unknown values, and because they represent the three most common crystallographic structures."
   ]
  },
  {
   "cell_type": "code",
   "execution_count": 1,
   "metadata": {},
   "outputs": [
    {
     "name": "stderr",
     "output_type": "stream",
     "text": [
      "C:\\Users\\Kayla Yano\\anaconda3\\envs\\PythonData\\lib\\site-packages\\tensorflow\\python\\framework\\dtypes.py:516: FutureWarning: Passing (type, 1) or '1type' as a synonym of type is deprecated; in a future version of numpy, it will be understood as (type, (1,)) / '(1,)type'.\n",
      "  _np_qint8 = np.dtype([(\"qint8\", np.int8, 1)])\n",
      "C:\\Users\\Kayla Yano\\anaconda3\\envs\\PythonData\\lib\\site-packages\\tensorflow\\python\\framework\\dtypes.py:517: FutureWarning: Passing (type, 1) or '1type' as a synonym of type is deprecated; in a future version of numpy, it will be understood as (type, (1,)) / '(1,)type'.\n",
      "  _np_quint8 = np.dtype([(\"quint8\", np.uint8, 1)])\n",
      "C:\\Users\\Kayla Yano\\anaconda3\\envs\\PythonData\\lib\\site-packages\\tensorflow\\python\\framework\\dtypes.py:518: FutureWarning: Passing (type, 1) or '1type' as a synonym of type is deprecated; in a future version of numpy, it will be understood as (type, (1,)) / '(1,)type'.\n",
      "  _np_qint16 = np.dtype([(\"qint16\", np.int16, 1)])\n",
      "C:\\Users\\Kayla Yano\\anaconda3\\envs\\PythonData\\lib\\site-packages\\tensorflow\\python\\framework\\dtypes.py:519: FutureWarning: Passing (type, 1) or '1type' as a synonym of type is deprecated; in a future version of numpy, it will be understood as (type, (1,)) / '(1,)type'.\n",
      "  _np_quint16 = np.dtype([(\"quint16\", np.uint16, 1)])\n",
      "C:\\Users\\Kayla Yano\\anaconda3\\envs\\PythonData\\lib\\site-packages\\tensorflow\\python\\framework\\dtypes.py:520: FutureWarning: Passing (type, 1) or '1type' as a synonym of type is deprecated; in a future version of numpy, it will be understood as (type, (1,)) / '(1,)type'.\n",
      "  _np_qint32 = np.dtype([(\"qint32\", np.int32, 1)])\n",
      "C:\\Users\\Kayla Yano\\anaconda3\\envs\\PythonData\\lib\\site-packages\\tensorflow\\python\\framework\\dtypes.py:525: FutureWarning: Passing (type, 1) or '1type' as a synonym of type is deprecated; in a future version of numpy, it will be understood as (type, (1,)) / '(1,)type'.\n",
      "  np_resource = np.dtype([(\"resource\", np.ubyte, 1)])\n",
      "C:\\Users\\Kayla Yano\\anaconda3\\envs\\PythonData\\lib\\site-packages\\tensorboard\\compat\\tensorflow_stub\\dtypes.py:541: FutureWarning: Passing (type, 1) or '1type' as a synonym of type is deprecated; in a future version of numpy, it will be understood as (type, (1,)) / '(1,)type'.\n",
      "  _np_qint8 = np.dtype([(\"qint8\", np.int8, 1)])\n",
      "C:\\Users\\Kayla Yano\\anaconda3\\envs\\PythonData\\lib\\site-packages\\tensorboard\\compat\\tensorflow_stub\\dtypes.py:542: FutureWarning: Passing (type, 1) or '1type' as a synonym of type is deprecated; in a future version of numpy, it will be understood as (type, (1,)) / '(1,)type'.\n",
      "  _np_quint8 = np.dtype([(\"quint8\", np.uint8, 1)])\n",
      "C:\\Users\\Kayla Yano\\anaconda3\\envs\\PythonData\\lib\\site-packages\\tensorboard\\compat\\tensorflow_stub\\dtypes.py:543: FutureWarning: Passing (type, 1) or '1type' as a synonym of type is deprecated; in a future version of numpy, it will be understood as (type, (1,)) / '(1,)type'.\n",
      "  _np_qint16 = np.dtype([(\"qint16\", np.int16, 1)])\n",
      "C:\\Users\\Kayla Yano\\anaconda3\\envs\\PythonData\\lib\\site-packages\\tensorboard\\compat\\tensorflow_stub\\dtypes.py:544: FutureWarning: Passing (type, 1) or '1type' as a synonym of type is deprecated; in a future version of numpy, it will be understood as (type, (1,)) / '(1,)type'.\n",
      "  _np_quint16 = np.dtype([(\"quint16\", np.uint16, 1)])\n",
      "C:\\Users\\Kayla Yano\\anaconda3\\envs\\PythonData\\lib\\site-packages\\tensorboard\\compat\\tensorflow_stub\\dtypes.py:545: FutureWarning: Passing (type, 1) or '1type' as a synonym of type is deprecated; in a future version of numpy, it will be understood as (type, (1,)) / '(1,)type'.\n",
      "  _np_qint32 = np.dtype([(\"qint32\", np.int32, 1)])\n",
      "C:\\Users\\Kayla Yano\\anaconda3\\envs\\PythonData\\lib\\site-packages\\tensorboard\\compat\\tensorflow_stub\\dtypes.py:550: FutureWarning: Passing (type, 1) or '1type' as a synonym of type is deprecated; in a future version of numpy, it will be understood as (type, (1,)) / '(1,)type'.\n",
      "  np_resource = np.dtype([(\"resource\", np.ubyte, 1)])\n"
     ]
    }
   ],
   "source": [
    "import pymatgen as pymat\n",
    "import mendeleev as mendel\n",
    "import pandas as pd\n",
    "import numpy as np\n",
    "from pathlib import Path\n",
    "import tensorflow as tf\n",
    "import tensorflow.keras\n",
    "from tensorflow.keras import initializers\n",
    "from tensorflow.keras.layers import Dense\n",
    "from tensorflow.keras.models import Sequential\n",
    "from tensorflow.keras import optimizers\n",
    "\n",
    "import sys\n",
    "import os\n",
    "sys.path.insert(0, '../src/')\n",
    "\n",
    "%matplotlib inline\n",
    "import matplotlib.pyplot as plt"
   ]
  },
  {
   "cell_type": "markdown",
   "metadata": {},
   "source": [
    "After setting these values, we will proceed with our queries. Depending on the database (either Pymatgen or Mendeleev) where the property can be found, this code fills up a list with the properties of each of the elements. To visualize how the dataset we just created looks, we will use the [Pandas](https://pandas.pydata.org/) library to display it. This library will take the list of lists and show it in a nice, user-friendly table with the properties as the column headers."
   ]
  },
  {
   "cell_type": "code",
   "execution_count": 49,
   "metadata": {
    "scrolled": true
   },
   "outputs": [
    {
     "data": {
      "text/html": [
       "<div>\n",
       "<style scoped>\n",
       "    .dataframe tbody tr th:only-of-type {\n",
       "        vertical-align: middle;\n",
       "    }\n",
       "\n",
       "    .dataframe tbody tr th {\n",
       "        vertical-align: top;\n",
       "    }\n",
       "\n",
       "    .dataframe thead th {\n",
       "        text-align: right;\n",
       "    }\n",
       "</style>\n",
       "<table border=\"1\" class=\"dataframe\">\n",
       "  <thead>\n",
       "    <tr style=\"text-align: right;\">\n",
       "      <th></th>\n",
       "      <th>Unnamed: 0</th>\n",
       "      <th>mp_id</th>\n",
       "      <th>Formula</th>\n",
       "      <th>Composition</th>\n",
       "      <th>IPF</th>\n",
       "      <th>Density</th>\n",
       "      <th>Elastic_Tensor</th>\n",
       "      <th>E_above_Hull</th>\n",
       "      <th>G_VRH</th>\n",
       "      <th>K_VRH</th>\n",
       "      <th>Elastic_Anisotropy</th>\n",
       "      <th>poisson_ratio</th>\n",
       "      <th>Y_Modulus</th>\n",
       "    </tr>\n",
       "  </thead>\n",
       "  <tbody>\n",
       "    <tr>\n",
       "      <th>0</th>\n",
       "      <td>0</td>\n",
       "      <td>mp-1014229</td>\n",
       "      <td>Ti2Zn</td>\n",
       "      <td>{'Ti': 2.0, 'Zn': 1.0}</td>\n",
       "      <td>0.163919</td>\n",
       "      <td>5.462442</td>\n",
       "      <td>{'G_Reuss': 29.0, 'G_VRH': 47.0, 'G_Voigt': 65...</td>\n",
       "      <td>0.0</td>\n",
       "      <td>47.0</td>\n",
       "      <td>96.0</td>\n",
       "      <td>6.32</td>\n",
       "      <td>0.29</td>\n",
       "      <td>121.26</td>\n",
       "    </tr>\n",
       "    <tr>\n",
       "      <th>1</th>\n",
       "      <td>1</td>\n",
       "      <td>mp-1014230</td>\n",
       "      <td>TiZn</td>\n",
       "      <td>{'Ti': 1.0, 'Zn': 1.0}</td>\n",
       "      <td>0.174651</td>\n",
       "      <td>6.036543</td>\n",
       "      <td>{'G_Reuss': 44.0, 'G_VRH': 56.0, 'G_Voigt': 69...</td>\n",
       "      <td>0.0</td>\n",
       "      <td>56.0</td>\n",
       "      <td>115.0</td>\n",
       "      <td>2.85</td>\n",
       "      <td>0.29</td>\n",
       "      <td>144.48</td>\n",
       "    </tr>\n",
       "    <tr>\n",
       "      <th>2</th>\n",
       "      <td>2</td>\n",
       "      <td>mp-1017985</td>\n",
       "      <td>TiAg</td>\n",
       "      <td>{'Ti': 1.0, 'Ag': 1.0}</td>\n",
       "      <td>0.226014</td>\n",
       "      <td>7.340359</td>\n",
       "      <td>{'G_Reuss': 32.0, 'G_VRH': 35.0, 'G_Voigt': 37...</td>\n",
       "      <td>0.0</td>\n",
       "      <td>35.0</td>\n",
       "      <td>111.0</td>\n",
       "      <td>0.80</td>\n",
       "      <td>0.36</td>\n",
       "      <td>95.20</td>\n",
       "    </tr>\n",
       "    <tr>\n",
       "      <th>3</th>\n",
       "      <td>3</td>\n",
       "      <td>mp-1018028</td>\n",
       "      <td>TiS</td>\n",
       "      <td>{'Ti': 1.0, 'S': 1.0}</td>\n",
       "      <td>0.182130</td>\n",
       "      <td>4.442034</td>\n",
       "      <td>{'G_Reuss': 97.0, 'G_VRH': 101.0, 'G_Voigt': 1...</td>\n",
       "      <td>0.0</td>\n",
       "      <td>101.0</td>\n",
       "      <td>141.0</td>\n",
       "      <td>0.44</td>\n",
       "      <td>0.21</td>\n",
       "      <td>244.42</td>\n",
       "    </tr>\n",
       "    <tr>\n",
       "      <th>4</th>\n",
       "      <td>4</td>\n",
       "      <td>mp-1018123</td>\n",
       "      <td>TiAu2</td>\n",
       "      <td>{'Ti': 1.0, 'Au': 2.0}</td>\n",
       "      <td>0.248079</td>\n",
       "      <td>14.162674</td>\n",
       "      <td>{'G_Reuss': -92.0, 'G_VRH': -17.0, 'G_Voigt': ...</td>\n",
       "      <td>0.0</td>\n",
       "      <td>-17.0</td>\n",
       "      <td>130.0</td>\n",
       "      <td>-8.12</td>\n",
       "      <td>0.57</td>\n",
       "      <td>-53.38</td>\n",
       "    </tr>\n",
       "    <tr>\n",
       "      <th>...</th>\n",
       "      <td>...</td>\n",
       "      <td>...</td>\n",
       "      <td>...</td>\n",
       "      <td>...</td>\n",
       "      <td>...</td>\n",
       "      <td>...</td>\n",
       "      <td>...</td>\n",
       "      <td>...</td>\n",
       "      <td>...</td>\n",
       "      <td>...</td>\n",
       "      <td>...</td>\n",
       "      <td>...</td>\n",
       "      <td>...</td>\n",
       "    </tr>\n",
       "    <tr>\n",
       "      <th>332</th>\n",
       "      <td>333</td>\n",
       "      <td>mp-5999</td>\n",
       "      <td>Sm2Ti2S2O5</td>\n",
       "      <td>{'Sm': 2.0, 'Ti': 2.0, 'S': 2.0, 'O': 5.0}</td>\n",
       "      <td>0.398389</td>\n",
       "      <td>5.233540</td>\n",
       "      <td>{'G_Reuss': 54.0, 'G_VRH': 58.0, 'G_Voigt': 62...</td>\n",
       "      <td>0.0</td>\n",
       "      <td>58.0</td>\n",
       "      <td>134.0</td>\n",
       "      <td>0.77</td>\n",
       "      <td>0.31</td>\n",
       "      <td>151.96</td>\n",
       "    </tr>\n",
       "    <tr>\n",
       "      <th>333</th>\n",
       "      <td>334</td>\n",
       "      <td>mp-6328</td>\n",
       "      <td>Na2Ti2Sb2O</td>\n",
       "      <td>{'Na': 2.0, 'Ti': 2.0, 'Sb': 2.0, 'O': 1.0}</td>\n",
       "      <td>0.217025</td>\n",
       "      <td>4.601878</td>\n",
       "      <td>{'G_Reuss': 27.0, 'G_VRH': 18.0, 'G_Voigt': 10...</td>\n",
       "      <td>0.0</td>\n",
       "      <td>18.0</td>\n",
       "      <td>52.0</td>\n",
       "      <td>-2.81</td>\n",
       "      <td>0.34</td>\n",
       "      <td>48.24</td>\n",
       "    </tr>\n",
       "    <tr>\n",
       "      <th>334</th>\n",
       "      <td>335</td>\n",
       "      <td>mp-998980</td>\n",
       "      <td>TiAlFeCo</td>\n",
       "      <td>{'Ti': 1.0, 'Al': 1.0, 'Fe': 1.0, 'Co': 1.0}</td>\n",
       "      <td>0.170756</td>\n",
       "      <td>6.423142</td>\n",
       "      <td>{'G_Reuss': 127.0, 'G_VRH': 127.0, 'G_Voigt': ...</td>\n",
       "      <td>0.0</td>\n",
       "      <td>127.0</td>\n",
       "      <td>175.0</td>\n",
       "      <td>0.01</td>\n",
       "      <td>0.21</td>\n",
       "      <td>307.34</td>\n",
       "    </tr>\n",
       "    <tr>\n",
       "      <th>335</th>\n",
       "      <td>336</td>\n",
       "      <td>mp-560767</td>\n",
       "      <td>KNaTiO3</td>\n",
       "      <td>{'K': 1.0, 'Na': 1.0, 'Ti': 1.0, 'O': 3.0}</td>\n",
       "      <td>0.551255</td>\n",
       "      <td>2.952356</td>\n",
       "      <td>{'G_Reuss': 18.0, 'G_VRH': 26.0, 'G_Voigt': 33...</td>\n",
       "      <td>0.0</td>\n",
       "      <td>26.0</td>\n",
       "      <td>56.0</td>\n",
       "      <td>4.12</td>\n",
       "      <td>0.30</td>\n",
       "      <td>67.60</td>\n",
       "    </tr>\n",
       "    <tr>\n",
       "      <th>336</th>\n",
       "      <td>337</td>\n",
       "      <td>mp-6178</td>\n",
       "      <td>Cs2KTiF6</td>\n",
       "      <td>{'Cs': 2.0, 'K': 1.0, 'Ti': 1.0, 'F': 6.0}</td>\n",
       "      <td>0.382792</td>\n",
       "      <td>3.915163</td>\n",
       "      <td>{'G_Reuss': -13.0, 'G_VRH': -13.0, 'G_Voigt': ...</td>\n",
       "      <td>0.0</td>\n",
       "      <td>-13.0</td>\n",
       "      <td>17.0</td>\n",
       "      <td>0.00</td>\n",
       "      <td>1.01</td>\n",
       "      <td>-52.26</td>\n",
       "    </tr>\n",
       "  </tbody>\n",
       "</table>\n",
       "<p>337 rows × 13 columns</p>\n",
       "</div>"
      ],
      "text/plain": [
       "     Unnamed: 0       mp_id     Formula  \\\n",
       "0             0  mp-1014229       Ti2Zn   \n",
       "1             1  mp-1014230        TiZn   \n",
       "2             2  mp-1017985        TiAg   \n",
       "3             3  mp-1018028         TiS   \n",
       "4             4  mp-1018123       TiAu2   \n",
       "..          ...         ...         ...   \n",
       "332         333     mp-5999  Sm2Ti2S2O5   \n",
       "333         334     mp-6328  Na2Ti2Sb2O   \n",
       "334         335   mp-998980    TiAlFeCo   \n",
       "335         336   mp-560767     KNaTiO3   \n",
       "336         337     mp-6178    Cs2KTiF6   \n",
       "\n",
       "                                      Composition       IPF    Density  \\\n",
       "0                          {'Ti': 2.0, 'Zn': 1.0}  0.163919   5.462442   \n",
       "1                          {'Ti': 1.0, 'Zn': 1.0}  0.174651   6.036543   \n",
       "2                          {'Ti': 1.0, 'Ag': 1.0}  0.226014   7.340359   \n",
       "3                           {'Ti': 1.0, 'S': 1.0}  0.182130   4.442034   \n",
       "4                          {'Ti': 1.0, 'Au': 2.0}  0.248079  14.162674   \n",
       "..                                            ...       ...        ...   \n",
       "332    {'Sm': 2.0, 'Ti': 2.0, 'S': 2.0, 'O': 5.0}  0.398389   5.233540   \n",
       "333   {'Na': 2.0, 'Ti': 2.0, 'Sb': 2.0, 'O': 1.0}  0.217025   4.601878   \n",
       "334  {'Ti': 1.0, 'Al': 1.0, 'Fe': 1.0, 'Co': 1.0}  0.170756   6.423142   \n",
       "335    {'K': 1.0, 'Na': 1.0, 'Ti': 1.0, 'O': 3.0}  0.551255   2.952356   \n",
       "336    {'Cs': 2.0, 'K': 1.0, 'Ti': 1.0, 'F': 6.0}  0.382792   3.915163   \n",
       "\n",
       "                                        Elastic_Tensor  E_above_Hull  G_VRH  \\\n",
       "0    {'G_Reuss': 29.0, 'G_VRH': 47.0, 'G_Voigt': 65...           0.0   47.0   \n",
       "1    {'G_Reuss': 44.0, 'G_VRH': 56.0, 'G_Voigt': 69...           0.0   56.0   \n",
       "2    {'G_Reuss': 32.0, 'G_VRH': 35.0, 'G_Voigt': 37...           0.0   35.0   \n",
       "3    {'G_Reuss': 97.0, 'G_VRH': 101.0, 'G_Voigt': 1...           0.0  101.0   \n",
       "4    {'G_Reuss': -92.0, 'G_VRH': -17.0, 'G_Voigt': ...           0.0  -17.0   \n",
       "..                                                 ...           ...    ...   \n",
       "332  {'G_Reuss': 54.0, 'G_VRH': 58.0, 'G_Voigt': 62...           0.0   58.0   \n",
       "333  {'G_Reuss': 27.0, 'G_VRH': 18.0, 'G_Voigt': 10...           0.0   18.0   \n",
       "334  {'G_Reuss': 127.0, 'G_VRH': 127.0, 'G_Voigt': ...           0.0  127.0   \n",
       "335  {'G_Reuss': 18.0, 'G_VRH': 26.0, 'G_Voigt': 33...           0.0   26.0   \n",
       "336  {'G_Reuss': -13.0, 'G_VRH': -13.0, 'G_Voigt': ...           0.0  -13.0   \n",
       "\n",
       "     K_VRH  Elastic_Anisotropy  poisson_ratio  Y_Modulus  \n",
       "0     96.0                6.32           0.29     121.26  \n",
       "1    115.0                2.85           0.29     144.48  \n",
       "2    111.0                0.80           0.36      95.20  \n",
       "3    141.0                0.44           0.21     244.42  \n",
       "4    130.0               -8.12           0.57     -53.38  \n",
       "..     ...                 ...            ...        ...  \n",
       "332  134.0                0.77           0.31     151.96  \n",
       "333   52.0               -2.81           0.34      48.24  \n",
       "334  175.0                0.01           0.21     307.34  \n",
       "335   56.0                4.12           0.30      67.60  \n",
       "336   17.0                0.00           1.01     -52.26  \n",
       "\n",
       "[337 rows x 13 columns]"
      ]
     },
     "execution_count": 49,
     "metadata": {},
     "output_type": "execute_result"
    }
   ],
   "source": [
    "df = pd.read_csv(Path('../All Data Export/Ti_compounds_dataframe.csv'))\n",
    "df"
   ]
  },
  {
   "cell_type": "code",
   "execution_count": 50,
   "metadata": {},
   "outputs": [
    {
     "data": {
      "text/plain": [
       "Index(['Unnamed: 0', 'mp_id', 'Formula', 'Composition', 'IPF', 'Density',\n",
       "       'Elastic_Tensor', 'E_above_Hull', 'G_VRH', 'K_VRH',\n",
       "       'Elastic_Anisotropy', 'poisson_ratio', 'Y_Modulus'],\n",
       "      dtype='object')"
      ]
     },
     "execution_count": 50,
     "metadata": {},
     "output_type": "execute_result"
    }
   ],
   "source": [
    "df.columns"
   ]
  },
  {
   "cell_type": "code",
   "execution_count": 51,
   "metadata": {},
   "outputs": [
    {
     "data": {
      "text/html": [
       "<div>\n",
       "<style scoped>\n",
       "    .dataframe tbody tr th:only-of-type {\n",
       "        vertical-align: middle;\n",
       "    }\n",
       "\n",
       "    .dataframe tbody tr th {\n",
       "        vertical-align: top;\n",
       "    }\n",
       "\n",
       "    .dataframe thead th {\n",
       "        text-align: right;\n",
       "    }\n",
       "</style>\n",
       "<table border=\"1\" class=\"dataframe\">\n",
       "  <thead>\n",
       "    <tr style=\"text-align: right;\">\n",
       "      <th></th>\n",
       "      <th>IPF</th>\n",
       "      <th>Density</th>\n",
       "      <th>E_above_Hull</th>\n",
       "      <th>G_VRH</th>\n",
       "      <th>K_VRH</th>\n",
       "      <th>Elastic_Anisotropy</th>\n",
       "      <th>poisson_ratio</th>\n",
       "      <th>Y_Modulus</th>\n",
       "    </tr>\n",
       "  </thead>\n",
       "  <tbody>\n",
       "    <tr>\n",
       "      <th>0</th>\n",
       "      <td>0.163919</td>\n",
       "      <td>5.462442</td>\n",
       "      <td>0.0</td>\n",
       "      <td>47.0</td>\n",
       "      <td>96.0</td>\n",
       "      <td>6.32</td>\n",
       "      <td>0.29</td>\n",
       "      <td>121.26</td>\n",
       "    </tr>\n",
       "    <tr>\n",
       "      <th>1</th>\n",
       "      <td>0.174651</td>\n",
       "      <td>6.036543</td>\n",
       "      <td>0.0</td>\n",
       "      <td>56.0</td>\n",
       "      <td>115.0</td>\n",
       "      <td>2.85</td>\n",
       "      <td>0.29</td>\n",
       "      <td>144.48</td>\n",
       "    </tr>\n",
       "    <tr>\n",
       "      <th>2</th>\n",
       "      <td>0.226014</td>\n",
       "      <td>7.340359</td>\n",
       "      <td>0.0</td>\n",
       "      <td>35.0</td>\n",
       "      <td>111.0</td>\n",
       "      <td>0.80</td>\n",
       "      <td>0.36</td>\n",
       "      <td>95.20</td>\n",
       "    </tr>\n",
       "    <tr>\n",
       "      <th>3</th>\n",
       "      <td>0.182130</td>\n",
       "      <td>4.442034</td>\n",
       "      <td>0.0</td>\n",
       "      <td>101.0</td>\n",
       "      <td>141.0</td>\n",
       "      <td>0.44</td>\n",
       "      <td>0.21</td>\n",
       "      <td>244.42</td>\n",
       "    </tr>\n",
       "    <tr>\n",
       "      <th>5</th>\n",
       "      <td>0.148441</td>\n",
       "      <td>7.088660</td>\n",
       "      <td>0.0</td>\n",
       "      <td>82.0</td>\n",
       "      <td>157.0</td>\n",
       "      <td>0.12</td>\n",
       "      <td>0.28</td>\n",
       "      <td>209.92</td>\n",
       "    </tr>\n",
       "    <tr>\n",
       "      <th>...</th>\n",
       "      <td>...</td>\n",
       "      <td>...</td>\n",
       "      <td>...</td>\n",
       "      <td>...</td>\n",
       "      <td>...</td>\n",
       "      <td>...</td>\n",
       "      <td>...</td>\n",
       "      <td>...</td>\n",
       "    </tr>\n",
       "    <tr>\n",
       "      <th>331</th>\n",
       "      <td>0.401144</td>\n",
       "      <td>5.012983</td>\n",
       "      <td>0.0</td>\n",
       "      <td>54.0</td>\n",
       "      <td>127.0</td>\n",
       "      <td>1.00</td>\n",
       "      <td>0.31</td>\n",
       "      <td>141.48</td>\n",
       "    </tr>\n",
       "    <tr>\n",
       "      <th>332</th>\n",
       "      <td>0.398389</td>\n",
       "      <td>5.233540</td>\n",
       "      <td>0.0</td>\n",
       "      <td>58.0</td>\n",
       "      <td>134.0</td>\n",
       "      <td>0.77</td>\n",
       "      <td>0.31</td>\n",
       "      <td>151.96</td>\n",
       "    </tr>\n",
       "    <tr>\n",
       "      <th>333</th>\n",
       "      <td>0.217025</td>\n",
       "      <td>4.601878</td>\n",
       "      <td>0.0</td>\n",
       "      <td>18.0</td>\n",
       "      <td>52.0</td>\n",
       "      <td>-2.81</td>\n",
       "      <td>0.34</td>\n",
       "      <td>48.24</td>\n",
       "    </tr>\n",
       "    <tr>\n",
       "      <th>334</th>\n",
       "      <td>0.170756</td>\n",
       "      <td>6.423142</td>\n",
       "      <td>0.0</td>\n",
       "      <td>127.0</td>\n",
       "      <td>175.0</td>\n",
       "      <td>0.01</td>\n",
       "      <td>0.21</td>\n",
       "      <td>307.34</td>\n",
       "    </tr>\n",
       "    <tr>\n",
       "      <th>335</th>\n",
       "      <td>0.551255</td>\n",
       "      <td>2.952356</td>\n",
       "      <td>0.0</td>\n",
       "      <td>26.0</td>\n",
       "      <td>56.0</td>\n",
       "      <td>4.12</td>\n",
       "      <td>0.30</td>\n",
       "      <td>67.60</td>\n",
       "    </tr>\n",
       "  </tbody>\n",
       "</table>\n",
       "<p>331 rows × 8 columns</p>\n",
       "</div>"
      ],
      "text/plain": [
       "          IPF   Density  E_above_Hull  G_VRH  K_VRH  Elastic_Anisotropy  \\\n",
       "0    0.163919  5.462442           0.0   47.0   96.0                6.32   \n",
       "1    0.174651  6.036543           0.0   56.0  115.0                2.85   \n",
       "2    0.226014  7.340359           0.0   35.0  111.0                0.80   \n",
       "3    0.182130  4.442034           0.0  101.0  141.0                0.44   \n",
       "5    0.148441  7.088660           0.0   82.0  157.0                0.12   \n",
       "..        ...       ...           ...    ...    ...                 ...   \n",
       "331  0.401144  5.012983           0.0   54.0  127.0                1.00   \n",
       "332  0.398389  5.233540           0.0   58.0  134.0                0.77   \n",
       "333  0.217025  4.601878           0.0   18.0   52.0               -2.81   \n",
       "334  0.170756  6.423142           0.0  127.0  175.0                0.01   \n",
       "335  0.551255  2.952356           0.0   26.0   56.0                4.12   \n",
       "\n",
       "     poisson_ratio  Y_Modulus  \n",
       "0             0.29     121.26  \n",
       "1             0.29     144.48  \n",
       "2             0.36      95.20  \n",
       "3             0.21     244.42  \n",
       "5             0.28     209.92  \n",
       "..             ...        ...  \n",
       "331           0.31     141.48  \n",
       "332           0.31     151.96  \n",
       "333           0.34      48.24  \n",
       "334           0.21     307.34  \n",
       "335           0.30      67.60  \n",
       "\n",
       "[331 rows x 8 columns]"
      ]
     },
     "execution_count": 51,
     "metadata": {},
     "output_type": "execute_result"
    }
   ],
   "source": [
    "df.drop( df[ df['Y_Modulus'] < 0 ].index , inplace=True)\n",
    "df_original = df.copy\n",
    "elements = df['Formula'].tolist()\n",
    "df = df.drop(df.columns[[0, 1, 2, 3, 6]], axis=1)\n",
    "df"
   ]
  },
  {
   "cell_type": "markdown",
   "metadata": {},
   "source": [
    "### 2. Processing and Organizing Data\n",
    "\n",
    "Most machine learning models are trained on a subset of all the available data, called the \"training set\", and the models are tested on the remainder of the available data, called the \"testing set\". Model performance has often been found to be enhanced when the inputs are normalized.\n",
    "\n",
    "##### SETS\n",
    "\n",
    "With the dataset we just created, we have 49 entries for our model. We will train with 44 cases and test on the remaining 5 elements to estimate Young's Modulus.\n",
    "\n",
    "##### NORMALIZATION\n",
    "\n",
    "Each one of these input data features has different units and is represented in scales with distinct orders of magnitude. Datasets that contain inputs like this need to be normalized, so that quantities with large values do not *overwhelm* the neural network, forcing it tune its weights to account for the different scales of our input data. In this tutorial, we will use the Standard Score Normalization, which subtracts the mean of the feature and divide by its standard deviation.\n",
    "\n",
    "<span style=\"font-size:2em;\">$ \\frac{X - µ}{σ} $ </span>\n",
    "\n",
    "While our model might converge without feature normalization, the resultant model would be difficult to train and would be dependent on the choice of units used in the input."
   ]
  },
  {
   "cell_type": "code",
   "execution_count": 52,
   "metadata": {},
   "outputs": [
    {
     "name": "stdout",
     "output_type": "stream",
     "text": [
      "[[0.1639185929850974, 5.4624418431294846, 0.0, 47.0, 96.0, 6.32, 0.29, 121.26], [0.17465114469285195, 6.036542541370883, 0.0, 56.0, 115.0, 2.85, 0.29, 144.48000000000005], [0.2260142798191104, 7.340358574162901, 0.0, 35.0, 111.0, 0.8, 0.36, 95.2], [0.18213033035592235, 4.442034010283959, 0.0, 101.0, 141.0, 0.44, 0.21, 244.42], [0.14844111420265715, 7.088660453522411, 0.0, 82.0, 157.0, 0.12, 0.28, 209.92], [0.13099301136756655, 4.5575474836855445, 0.0, 213.0, 225.0, 0.12, 0.14, 485.64], [0.1552981353489944, 6.4129856237257545, 0.0, 38.0, 152.0, 10.41, 0.38, 104.88], [0.13122955521003882, 4.439769168464848, 0.0, 78.0, 139.0, 1.07, 0.26, 196.56], [0.14077963316526612, 17.774770707590932, 0.0, 162.0, 294.0, 0.98, 0.27, 411.48], [0.1230849374375109, 4.48742509138872, 0.0, 253.0, 253.0, 0.14, 0.13, 571.78], [0.5600231544369283, 4.187247707142454, 0.0, 76.0, 171.0, 0.5, 0.31, 199.12], [0.18356435194439236, 5.571714611425472, 0.0, 46.0, 84.0, 0.49, 0.27, 116.84], [0.3662168250314958, 5.012926886778069, 0.0, 106.0, 184.0, 0.54, 0.26, 267.12], [0.14745125945292215, 13.171719999335544, 0.0, 81.0, 228.0, 0.18, 0.34, 217.08], [0.1837705775343425, 7.648117752373969, 0.0, 51.0, 140.0, 0.59, 0.34, 136.68], [0.2642611435997857, 15.866690660766688, 0.0, 39.0, 144.0, 1.78, 0.38, 107.64], [0.11873385793604922, 2.4788616197207776, 0.14620894736783185, 143.0, 127.0, 0.01, 0.09, 311.74], [0.15867571120480414, 6.905202130563418, 0.0, 62.0, 142.0, 0.74, 0.31, 162.44], [0.14303956557615985, 6.2049501570870484, 0.0, 25.0, 120.0, 3.78, 0.4, 70.0], [0.2361187106085201, 6.237410464246428, 0.07683291666715775, 75.0, 199.0, 0.03, 0.33, 199.5], [0.25880676185737994, 6.386267555747634, 0.0, 38.0, 60.0, 0.85, 0.24, 94.24], [0.19312379026173265, 15.633596985294249, 0.0, 119.0, 130.0, 0.13, 0.15, 273.7], [0.13918080951660589, 9.261614828158567, 0.0, 71.0, 205.0, 0.53, 0.34, 190.28], [0.19289837232119625, 8.460278692613556, 0.0, 71.0, 139.0, 0.16, 0.28, 181.76], [0.15343497788015972, 5.7250139606840715, 0.0, 36.0, 141.0, 0.01, 0.38, 99.36], [0.10853808691682633, 5.836287445057678, 0.0, 72.0, 119.0, 0.77, 0.25, 180.0], [0.13576534304262572, 4.24886855694461, 0.0, 61.0, 115.0, 0.13, 0.27, 154.94], [0.2456013400242377, 5.967718130581317, 0.0, 12.0, 18.0, 5.07, 0.21, 29.04], [0.12832829894847084, 6.901373874786946, 0.0, 61.0, 210.0, 0.23, 0.37, 167.14], [0.11955719175912626, 3.833901551624992, 0.0, 70.0, 115.0, 0.98, 0.25, 175.0], [0.09305754462454778, 4.262085969423355, 0.0, 91.0, 131.0, 0.19, 0.22, 222.04], [0.1281181285961661, 6.813391550183948, 0.0, 55.0, 105.0, 0.1, 0.28, 140.8], [0.17049395614150234, 6.44093626031732, 0.0, 62.0, 130.0, 0.87, 0.3, 161.20000000000005], [0.13076198828624291, 6.425214777223388, 0.0, 49.0, 107.0, 0.52, 0.3, 127.4], [0.120676296960433, 4.347039336035789, 0.0, 94.0, 139.0, 0.1, 0.22, 229.36], [0.18426369812102286, 6.697660334904412, 0.0, 24.0, 96.0, 72.59, 0.38, 66.24], [0.13524886781535064, 12.813423301491596, 0.0, 71.0, 232.0, 0.2, 0.36, 193.12], [0.1122237650040684, 6.344016707746623, 0.0, 45.0, 89.0, 2.04, 0.28, 115.2], [0.15524101899102893, 4.692579364547135, 0.0, 12.0, 16.0, 21.84, 0.2, 28.8], [0.1309597195217656, 6.5338107016648115, 0.0, 46.0, 111.0, 0.29, 0.32, 121.44], [0.17478120316718795, 4.359640173734073, 0.0, 2.0, 4.0, 16.16, 0.28, 5.12], [0.18627145869938552, 7.014325083136486, 0.0, 28.0, 79.0, 0.41, 0.34, 75.04], [0.15506859696804765, 8.766698915695269, 0.0, 58.0, 166.0, 0.11, 0.34, 155.44], [0.2256462023827272, 8.13860497378146, 0.0, 68.0, 119.0, 0.17, 0.26, 171.36], [0.11339197355557593, 2.8243455697091604, 0.0, 45.0, 104.0, 4.55, 0.31, 117.9], [0.11973066672060945, 3.832731997844202, 0.0, 20.0, 138.0, 4.41, 0.43, 57.2], [0.1435665383511244, 8.321025415894498, 0.0, 49.0, 190.0, 0.05, 0.38, 135.23999999999998], [0.17368930902922072, 6.748300335520562, 0.0, 61.0, 132.0, 1.5, 0.3, 158.6], [0.1296722702846171, 3.2932955302848117, 0.0, 106.0, 124.0, 0.06, 0.17, 248.04], [0.13032742309620188, 13.333766927112508, 0.0, 134.0, 248.0, 0.1, 0.27, 340.36], [0.1998886594219398, 6.642034495803113, 0.0, 97.0, 194.0, 0.55, 0.29, 250.26], [0.2076491745604488, 6.8976481708347865, 0.0, 19.0, 81.0, -413.66, 0.39, 52.82000000000001], [0.1906293122472227, 6.215938143385086, 0.0, 33.0, 91.0, 9.32, 0.34, 88.44000000000003], [0.1442288588506151, 5.649651697567152, 0.0, 63.0, 121.0, 0.2, 0.28, 161.28], [0.14681722111185752, 5.416551057420764, 0.0, 56.0, 118.0, 0.22, 0.3, 145.6], [0.13478875984974334, 6.382990495806396, 0.0, 67.0, 91.0, 0.32, 0.2, 160.79999999999995], [0.14887068669919765, 14.802111278232546, 0.0, 73.0, 202.0, 0.52, 0.34, 195.64], [0.14337611859712665, 19.082725589745888, 0.0, 86.0, 242.0, 0.42, 0.34, 230.48], [0.13715709806737453, 6.451610572115687, 0.0, 60.0, 115.0, 0.44, 0.28, 153.6], [0.1889358234178382, 5.340297397189084, 0.0, 180.0, 259.0, 0.19, 0.22, 439.2], [0.1134867373079618, 4.2547353567705395, 0.0, 95.0, 142.0, 0.06, 0.23, 233.7], [0.1760162964046736, 4.3668690052068415, 0.0, 1.0, 2.0, 51.13, 0.24, 2.48], [0.15267440227901116, 8.833383915301757, 0.0, 13.0, 169.0, 0.42, 0.46, 37.96], [0.5274733418612371, 3.61594000337008, 0.0, 61.0, 181.0, 0.35, 0.35, 164.70000000000005], [0.10800150231519788, 3.536390535036478, 0.0, 82.0, 109.0, 0.09, 0.2, 196.8], [0.11247418630863018, 7.376419290265216, 0.0, 54.0, 89.0, 0.25, 0.25, 135.0], [0.23601101145174305, 6.234565438345089, 0.0, 75.0, 198.0, 0.06, 0.33, 199.5], [0.1480823064801181, 17.027464482463998, 0.0, 107.0, 234.0, 0.15, 0.3, 278.2], [0.16233867133346433, 8.90461162906226, 0.0, 44.0, 162.0, 3.95, 0.38, 121.44], [0.07604216235683961, 2.277426127131738, 0.0, 3.0, 5.0, 36.29, 0.28, 7.68], [0.13243924066780066, 6.57508815436937, 0.0, 69.0, 107.0, 0.03, 0.23, 169.74], [0.12927407530300686, 8.419437219779311, 0.0, 107.0, 212.0, 0.35, 0.28, 273.92], [0.17657033375407374, 7.9485403294031345, 0.0, 83.0, 194.0, 1.05, 0.31, 217.46], [0.11630625457325387, 7.060315921097218, 0.0, 48.0, 87.0, 0.12, 0.27, 121.92], [0.10876061772381987, 4.2243086728223265, 0.0, 99.0, 146.0, 0.37, 0.22, 241.56], [0.10586282105644254, 4.219611373656351, 0.0, 91.0, 139.0, 0.55, 0.23, 223.86], [0.2522885639723213, 6.385807170916716, 0.0, 36.0, 66.0, 1.07, 0.27, 91.44], [0.13507786185601126, 4.575880541341557, 0.0, 190.0, 207.0, 0.09, 0.15, 437.0], [0.16990253225767665, 6.7144952142833745, 0.0, 61.0, 163.0, 0.0, 0.33, 162.26000000000005], [0.16669107259881275, 4.881545213711141, 0.0, 117.0, 204.0, 0.9, 0.26, 294.84], [0.15425685591817226, 5.8881162388323425, 0.0, 45.0, 108.0, 0.32, 0.32, 118.8], [0.1832132310174751, 7.797411885162248, 0.0, 18.0, 107.0, -4.9, 0.42, 51.12], [0.20186430554106266, 6.468902592045046, 0.0, 41.0, 105.0, 1.74, 0.33, 109.06], [0.17633674378026387, 5.650048112061304, 0.0, 100.0, 149.0, 0.15, 0.23, 246.0], [0.15311443277526152, 4.766285536725132, 0.0, 55.0, 154.0, 0.02, 0.34, 147.4], [0.19956502809367527, 6.057885867720305, 0.0, 7.0, 25.0, 1.39, 0.37, 19.18], [0.20928136125875546, 6.769605729748634, 0.0, 67.0, 83.0, 0.33, 0.18, 158.12], [0.13516520741789698, 10.282251751785298, 0.0, 129.0, 230.0, 0.48, 0.26, 325.08], [0.14326790054127486, 8.076824961632303, 0.0, 72.0, 207.0, 0.46, 0.34, 192.96], [0.16434861670166484, 7.958129733816652, 0.0, 97.0, 192.0, 0.1, 0.28, 248.32], [0.1842176596479672, 8.367357755094483, 0.0, 106.0, 181.0, 0.0, 0.26, 267.12], [0.4877818034136472, 7.295112048795698, 0.0, 39.0, 63.0, 3.29, 0.24, 96.72], [0.1275434044249476, 7.23884154747617, 0.0, 57.0, 128.0, 0.0, 0.31, 149.34], [0.1278256188500087, 2.865289943255333, 0.0, 14.0, 18.0, 41.79, 0.19, 33.32], [0.1419501420045817, 11.14747011334591, 0.0, 57.0, 163.0, 0.99, 0.34, 152.76000000000005], [0.12691367969074038, 6.684291685114107, 0.0, 74.0, 100.0, 0.3, 0.2, 177.6], [0.14049427665918926, 6.1976826619748895, 0.0, 72.0, 115.0, 0.62, 0.24, 178.56], [0.2176201641543586, 2.963362008986589, 0.0, 5.0, 9.0, 0.06, 0.27, 12.7], [0.1090027622946746, 3.93958896799358, 0.0, 18.0, 33.0, 82.32, 0.27, 45.72], [0.13129340929417405, 4.541437896810737, 0.0, 115.0, 170.0, 0.16, 0.22, 280.6], [0.5317634545223553, 3.5514942036147072, 0.0, 71.0, 162.0, 0.24, 0.31, 186.02], [0.6010653622581049, 4.03211265932668, 0.0, 77.0, 144.0, 0.19, 0.27, 195.58], [0.16219827975864465, 8.738526615651537, 0.0, 44.0, 157.0, 1.78, 0.37, 120.56], [0.12080369580176985, 4.20786317502239, 0.0, 126.0, 159.0, 0.05, 0.19, 299.88], [0.5922932448248942, 3.940464280130528, 0.0, 101.0, 172.0, 0.04, 0.25, 252.5], [0.5745173562529665, 4.5235782675575855, 0.0, 87.0, 216.0, 0.04, 0.32, 229.68], [0.6084334115282282, 4.962107562390343, 0.882217999999213, 110.0, 173.0, 0.0, 0.24, 272.8], [0.10152895992103267, 3.3657054463344656, 0.0, 89.0, 107.0, 0.4, 0.18, 210.04], [0.11908903331575288, 4.474908098481444, 0.0, 139.0, 184.0, 0.02, 0.2, 333.6], [0.13103062258540607, 6.553899769932891, 0.0, 83.0, 112.0, 0.34, 0.2, 199.2], [0.15521201753073569, 7.9980264453536964, 0.0, 22.0, 72.0, 2.38, 0.36, 59.84], [0.21960112433143134, 3.0401275593382264, 0.0, 5.0, 8.0, 0.13, 0.26, 12.6], [0.19304600975828046, 3.9356028008418735, 0.0, 7.0, 16.0, 0.93, 0.32, 18.48], [0.18172294113911175, 4.80268802739094, 0.0, 85.0, 147.0, 0.28, 0.26, 214.2], [0.13254814609406854, 4.87990698075401, 0.0, 176.0, 253.0, 0.02, 0.22, 429.44], [0.1137446072215396, 6.784636672305927, 0.0, 88.0, 187.0, 0.22, 0.3, 228.8], [0.1619308695657307, 5.722180271175129, 0.0, 55.0, 126.0, 1.04, 0.31, 144.1], [0.4703273225058381, 3.338163520141922, 0.0, 48.0, 137.0, 0.52, 0.34, 128.64], [0.17311316128871185, 2.886520546058677, 0.0, 30.0, 49.0, 0.26, 0.25, 75.0], [0.15044112075312538, 9.912983598641457, 0.0, 97.0, 196.0, 0.08, 0.29, 250.26], [0.1501576695810445, 5.6248780041688065, 0.0, 109.0, 183.0, 0.4, 0.25, 272.5], [0.1592116803445447, 14.313777243307232, 0.0, 103.0, 225.0, 0.38, 0.3, 267.8], [0.17505037660259753, 7.587307353396716, 0.0, 50.0, 169.0, 3.21, 0.37, 137.0], [0.15213341492326607, 10.010446688278028, 0.0, 12.0, 195.0, -16.34, 0.47, 35.28], [0.14925276600970094, 10.429398163398332, 0.0, 73.0, 192.0, 0.11, 0.33, 194.18], [0.1492887967888116, 10.298147656965556, 0.0, 89.0, 193.0, 0.19, 0.3, 231.4], [0.13167097379665996, 9.516408279480293, 0.0, 93.0, 212.0, 0.25, 0.31, 243.66], [0.12995482663470073, 11.693560622969295, 0.0, 128.0, 263.0, 0.23, 0.29, 330.24], [0.12965591522173264, 10.875791727030174, 0.0, 122.0, 231.0, 0.21, 0.28, 312.32], [0.18772422300201794, 7.7961961744060755, 0.0, 89.0, 190.0, 0.25, 0.3, 231.4], [0.12995416459871584, 13.403563577525125, 0.0, 115.0, 255.0, 0.08, 0.3, 299.0], [0.15491008303989234, 8.94388309728109, 0.0, 5.0, 164.0, -12.33, 0.48, 14.8], [0.1648933603103771, 9.226915698480557, 0.0, 13.0, 141.0, -23.53, 0.46, 37.96], [0.14296272555980058, 7.479172389493152, 0.0, 81.0, 190.0, 0.52, 0.31, 212.22], [0.1196285454046742, 16.24397965392071, 0.0, 101.0, 268.0, 0.39, 0.33, 268.66], [0.2423608048182301, 4.596150108497811, 0.0, 50.0, 121.0, 3.15, 0.32, 132.0], [0.1776784251954564, 3.0916934550698034, 0.0, 48.0, 68.0, 0.18, 0.21, 116.16], [0.13708989852209225, 2.940905884129678, 0.0, 11.0, 19.0, 38.45, 0.25, 27.5], [0.1509596502551732, 12.760333985989046, 0.0, 15.0, 192.0, -14.5, 0.46, 43.8], [0.5295032503663019, 7.235616986713233, 0.0, 70.0, 122.0, 0.19, 0.26, 176.4], [0.17598031235210254, 5.652777279831061, 0.0, 123.0, 204.0, 0.13, 0.25, 307.5], [0.12951650301583187, 4.44587873057504, 0.0, 104.0, 149.0, 0.13, 0.22, 253.76], [0.14756095541362446, 7.085254895184843, 0.0, 83.0, 157.0, 0.18, 0.27, 210.82], [0.17689840656814365, 8.250785346746342, 0.0, 72.0, 118.0, 0.11, 0.25, 180.0], [0.15573428796784594, 8.375449486786179, 0.0, 74.0, 168.0, 0.51, 0.31, 193.88], [0.10301189228761773, 2.9608482669353977, 0.0, 20.0, 29.0, 61.99, 0.22, 48.8], [0.5579126702515457, 3.2847060440187885, 0.0, 42.0, 74.0, 0.67, 0.26, 105.84], [0.6193674969856675, 3.3362540106131995, 0.0, 73.0, 110.0, 1.17, 0.23, 179.57999999999996], [0.12021999156166345, 6.617444392928693, 0.0, 71.0, 138.0, 0.79, 0.28, 181.76], [0.18302227726688025, 6.253070135591179, 0.0, 105.0, 185.0, 0.07, 0.26, 264.6], [0.14807287193487065, 6.762597801805613, 0.0, 86.0, 201.0, 0.61, 0.31, 225.32], [0.16256540088694024, 4.634878108828931, 0.0, 134.0, 180.0, 0.09, 0.2, 321.6], [0.5756631477737015, 3.7800065411375283, 0.0, 84.0, 163.0, 0.3, 0.28, 215.04], [0.2915855322037965, 2.8477910970048685, 0.0, 11.0, 27.0, 1.7, 0.32, 29.040000000000006], [0.16620613965967326, 7.926603772745691, 0.0, 78.0, 179.0, 0.97, 0.31, 204.36], [0.6096539897106348, 4.972062045682436, 0.0, 102.0, 168.0, 0.02, 0.25, 255.0], [0.6117577309956982, 5.696967616676616, 0.0, 42.0, 97.0, 10.92, 0.31, 110.04], [0.14487910776752078, 5.469106490462337, 0.0, 49.0, 87.0, 0.57, 0.26, 123.48], [0.1203244055936583, 8.163513939030423, 0.0, 76.0, 178.0, 0.14, 0.31, 199.12], [0.11389151223978253, 5.683966259319116, 0.0, 71.0, 114.0, 0.71, 0.24, 176.08], [0.5122070462696539, 5.935302051965233, 0.0, 63.0, 157.0, 0.9, 0.32, 166.32000000000005], [0.1547169985725137, 6.4503577626100315, 0.0, 90.0, 178.0, 0.45, 0.28, 230.4], [0.6089255302912285, 4.9661210603166746, 0.5724519999983357, 102.0, 168.0, 0.02, 0.25, 255.0], [0.566008522017582, 4.8732527350303, 0.0, 75.0, 127.0, 0.05, 0.25, 187.5], [0.5788083823813629, 3.6017285684115445, 0.0, 60.0, 131.0, 0.96, 0.3, 156.0], [0.5504742776928325, 3.6495652794475486, 0.0, 65.0, 132.0, 0.44, 0.29, 167.70000000000005], [0.09036410242626657, 2.7005341149603868, 0.0, 51.0, 79.0, 0.03, 0.23, 125.46], [0.14242779857361934, 6.253223227274053, 0.0, 59.0, 162.0, 1.72, 0.34, 158.12], [0.3865067263318712, 4.572232792498783, 0.0, 19.0, 26.0, 17.17, 0.21, 45.98], [0.5331708346280016, 3.4290761801243548, 0.0, 72.0, 147.0, 0.76, 0.29, 185.76], [0.20946939662790875, 4.1213444656356515, 0.0, 22.0, 49.0, 0.41, 0.31, 57.64], [0.1314144029664836, 5.893565944131918, 0.0, 60.0, 158.0, 0.52, 0.33, 159.60000000000005], [0.16583310538204676, 7.881916365009485, 0.0, 62.0, 154.0, 0.01, 0.32, 163.68], [0.1163411465266228, 5.794348410543373, 0.0, 85.0, 157.0, 0.17, 0.27, 215.9], [0.1442832965705615, 8.248625335895005, 0.0, 94.0, 204.0, 0.28, 0.3, 244.4], [0.14519036049025474, 9.79111098611241, 0.0, 79.0, 192.0, 0.11, 0.32, 208.56], [0.2344402330256749, 12.572718828222012, 0.0, 26.0, 135.0, 12.77, 0.41, 73.32], [0.13426412727622636, 10.009062644775772, 0.0, 89.0, 206.0, 0.19, 0.31, 233.18], [0.1472562006172479, 10.429707910141847, 0.0, 89.0, 210.0, 0.1, 0.32, 234.96], [0.14673184839946254, 10.735713796405204, 0.0, 116.0, 226.0, 0.26, 0.28, 296.96], [0.15135615151453718, 7.393032893959293, 0.0, 72.0, 177.0, 0.05, 0.32, 190.08], [0.13844130021812634, 8.4990653539188, 0.0, 94.0, 233.0, 0.3, 0.32, 248.16000000000003], [0.139759328373166, 10.60435278673143, 0.0, 101.0, 215.0, 0.09, 0.3, 262.6], [0.1348893338887807, 9.34964352483046, 0.0, 70.0, 191.0, 4.27, 0.34, 187.6], [0.18300581412782066, 6.7581276538375015, 0.0, 146.0, 229.0, 0.01, 0.24, 362.08], [0.13256586983593813, 8.36609769340187, 0.0, 94.0, 204.0, 0.02, 0.3, 244.4], [0.1658484569804471, 6.639927873367532, 0.0, 102.0, 193.0, 0.01, 0.28, 261.12], [0.5818344453210997, 4.196789423760888, 0.0, 53.0, 119.0, 1.56, 0.3, 137.8], [0.11204813142569543, 7.540646708451552, 0.0, 57.0, 137.0, 1.05, 0.32, 150.48000000000005], [0.15020416826269373, 8.02198898925839, 0.0, 45.0, 121.0, 1.45, 0.33, 119.7], [0.12847751992320747, 6.5408228856958415, 0.0, 69.0, 110.0, 0.47, 0.24, 171.12], [0.13642583095242092, 7.441271393178964, 0.0, 61.0, 99.0, 0.48, 0.25, 152.5], [0.1657685224984901, 6.3713482465208395, 0.0, 84.0, 137.0, 0.09, 0.24, 208.32], [0.10353640110722764, 6.828651218841113, 0.0, 103.0, 202.0, 0.15, 0.28, 263.68], [0.11738355380417327, 3.993100999294839, 0.0, 112.0, 137.0, 0.02, 0.18, 264.32], [0.15685253391938575, 3.866461199840157, 0.0, 46.0, 72.0, 0.48, 0.23, 113.16], [0.1812551106667073, 9.082770024482732, 0.0, 58.0, 128.0, 0.22, 0.3, 150.8], [0.5147690148787912, 4.465567989536367, 0.0, 64.0, 159.0, 0.57, 0.32, 168.96], [0.16547403144549316, 7.864805432556071, 0.0, 74.0, 185.0, 1.42, 0.32, 195.36], [0.13380077907775534, 5.5777151675615535, 0.0, 77.0, 148.0, 0.4, 0.28, 197.12], [0.12595933635788814, 5.1432356119067775, 0.0, 116.0, 180.0, 0.03, 0.24, 287.68], [0.12858782690686527, 4.422838633476582, 0.0, 49.0, 89.0, 0.42, 0.27, 124.46], [0.19639191093695946, 2.6634520498360916, 0.0, 5.0, 11.0, 0.21, 0.29, 12.9], [0.14790991515052387, 4.546919933889981, 0.0, 37.0, 76.0, 0.14, 0.29, 95.46], [0.1533816924200279, 7.65200877421166, 0.0, 40.0, 166.0, 7.98, 0.39, 111.20000000000002], [0.12759403292901528, 6.2446407566783355, 0.0, 92.0, 135.0, 0.01, 0.22, 224.48], [0.15564081865263307, 6.1437518525598005, 0.0, 62.0, 134.0, 1.84, 0.3, 161.20000000000005], [0.12791249189738124, 9.69818028407914, 0.0, 113.0, 228.0, 0.02, 0.29, 291.54], [0.1344872726984684, 7.4161166432836785, 0.0, 75.0, 142.0, 0.08, 0.27, 190.5], [0.13988173817438185, 3.7878369425499465, 0.0, 15.0, 10.0, 4.92, 0.0, 30.0], [0.1969910165773528, 7.798866002382084, 0.0, 100.0, 190.0, 0.32, 0.28, 256.0], [0.5579527275656979, 3.3837829542711813, 0.0, 60.0, 108.0, 0.78, 0.27, 152.4], [0.15586615298256926, 10.030921198382599, 0.0, 64.0, 193.0, 0.55, 0.35, 172.8], [0.12827792892124104, 8.24757087189734, 0.0, 72.0, 172.0, 0.85, 0.32, 190.08], [0.11893240659376415, 11.63238220857548, 0.0, 79.0, 231.0, 0.06, 0.35, 213.3], [0.1327830730047903, 11.265013084980856, 0.0, 101.0, 229.0, 0.24, 0.31, 264.62], [0.1558405427770336, 9.271396328551523, 0.0, 83.0, 193.0, 0.14, 0.31, 217.46], [0.17020698849289725, 6.549536522803793, 0.0, 78.0, 180.0, 0.63, 0.31, 204.36], [0.1509525479011244, 12.713547624267859, 0.0, 109.0, 199.0, 0.03, 0.27, 276.86], [0.17347978398633668, 8.93070996457023, 0.0, 0.0, 147.0, -10.0, 0.5, 0.0], [0.12441602270764167, 13.374318316308761, 0.0, 115.0, 254.0, 0.04, 0.3, 299.0], [0.12742539392074806, 10.694686868620504, 0.0, 120.0, 243.0, 0.53, 0.29, 309.6], [0.136788880312811, 6.930633199021837, 0.0, 82.0, 192.0, 0.9, 0.31, 214.84], [0.14796710281816186, 10.533932931783644, 0.0, 76.0, 202.0, 0.11, 0.33, 202.16000000000003], [0.18691629140634697, 7.415148555046202, 0.0, 43.0, 129.0, 8.07, 0.35, 116.1], [0.13861599630948954, 14.131652491087628, 0.21153750000113547, 93.0, 223.0, -5.55, 0.32, 245.52], [0.13619200311659224, 13.864523376237495, 0.0, 121.0, 241.0, 0.0, 0.28, 309.76], [0.11102112505093872, 8.111431846362594, 0.0, 86.0, 209.0, 0.02, 0.32, 227.04], [0.15911374962345054, 7.030689430193968, 0.0, 49.0, 157.0, 0.69, 0.36, 133.28], [0.1298892584111125, 10.17393399198337, 0.0, 89.0, 217.0, 0.63, 0.32, 234.96], [0.5204875095699774, 2.4975731597516604, 0.0, 43.0, 80.0, 0.16, 0.27, 109.22], [0.12911409052544734, 7.2300969229966565, 0.0, 68.0, 122.0, 0.01, 0.27, 172.72], [0.2797864537394527, 7.544316549414457, 0.0, 80.0, 153.0, 0.04, 0.28, 204.8], [0.12533666855107262, 7.554322965866567, 0.0, 77.0, 118.0, 0.09, 0.23, 189.42], [0.1707638810476957, 12.60327472096375, 0.0, 40.0, 181.0, -6.25, 0.4, 112.0], [0.1243740132451421, 9.749869469337344, 0.0, 50.0, 142.0, 1.86, 0.34, 134.0], [0.1292183051590566, 8.96240992531152, 0.0, 189.0, 253.0, 0.07, 0.2, 453.6], [0.1458714319945559, 7.302528729539403, 0.0, 58.0, 102.0, 0.52, 0.26, 146.16], [0.1617990526589595, 4.152401887128523, 0.0, 55.0, 83.0, 0.51, 0.23, 135.3], [0.15370416027068876, 5.682010841432831, 0.0, 109.0, 159.0, 0.03, 0.22, 265.96], [0.2683621693145904, 4.468439931681671, 0.0, 33.0, 73.0, 1.04, 0.3, 85.8], [0.1079178614485961, 7.173677446230222, 0.0, 103.0, 221.0, 0.05, 0.3, 267.8], [0.14279689597396342, 7.055233350704827, 0.0, 53.0, 114.0, 0.11, 0.3, 137.8], [0.15028307048900788, 7.9926334816569184, 0.0, 56.0, 122.0, 0.02, 0.3, 145.6], [0.20860850877538947, 5.513174125224249, 0.0, 14.0, 21.0, 23.33, 0.22, 34.16], [0.12897226386082106, 5.332772544545805, 0.0, 108.0, 139.0, 0.04, 0.19, 257.04], [0.14872824669514756, 7.962521710594005, 0.0, 69.0, 150.0, 0.33, 0.3, 179.4], [0.14383771008215315, 6.063190462834159, 0.0, 96.0, 127.0, 0.09, 0.2, 230.4], [0.14810815620508558, 5.857246750937357, 0.0, 92.0, 145.0, 0.12, 0.24, 228.16], [0.12899425080522056, 5.906377007878857, 0.0, 112.0, 158.0, 0.03, 0.21, 271.04], [0.13139149812245873, 5.7176592376547415, 0.0, 100.0, 181.0, 0.18, 0.27, 254.0], [0.17405093231499572, 7.837531383584236, 0.0, 46.0, 120.0, 2.95, 0.33, 122.36], [0.1211141363709712, 2.3075032911410958, 0.0, 25.0, 50.0, 4.02, 0.29, 64.5], [0.1817133411713443, 4.637499328466872, 0.0, 18.0, 24.0, 47.88, 0.2, 43.2], [0.1184682979164383, 9.925802750312481, 0.0, 56.0, 137.0, 0.16, 0.32, 147.84], [0.12537593240280195, 4.14816071313334, 0.0, 101.0, 153.0, 0.22, 0.23, 248.46], [0.4936544063072884, 4.964862891634228, 0.0, 29.0, 64.0, 0.36, 0.3, 75.4], [0.2205428709154235, 3.0618782746735493, 0.0, 43.0, 90.0, 0.74, 0.29, 110.94], [0.2002168501017248, 3.025204167334896, 0.0, 37.0, 52.0, 0.57, 0.21, 89.53999999999998], [0.13098448326482026, 5.652812263160932, 0.0, 42.0, 150.0, 1.1, 0.37, 115.08], [0.15720388320671286, 7.508747467879704, 0.0, 94.0, 194.0, 0.3, 0.29, 242.52], [0.1462907557617573, 7.747610900390848, 0.0, 77.0, 163.0, 0.01, 0.3, 200.2], [0.11683089848820408, 4.564324365433942, 0.0, 91.0, 130.0, 0.09, 0.22, 222.04], [0.14612368717152074, 7.796983785633488, 0.0, 30.0, 166.0, 5.11, 0.41, 84.6], [0.1342868168509619, 7.458422969907136, 0.0, 80.0, 188.0, 0.45, 0.31, 209.6], [0.15102094074586986, 7.350147535407575, 0.0, 78.0, 173.0, 0.56, 0.3, 202.8], [0.18200852864378247, 8.59380542640719, 0.0, 68.0, 159.0, 0.21, 0.31, 178.16], [0.15092416784412746, 7.112101516720643, 0.0, 79.0, 171.0, 0.06, 0.3, 205.4], [0.11384480827894115, 6.352313230944242, 0.0, 105.0, 207.0, 0.26, 0.28, 268.8], [0.1324608036324706, 8.908701471523768, 0.0, 96.0, 222.0, 0.28, 0.31, 251.52], [0.12165122589678565, 16.2597984805017, 0.0, 146.0, 285.0, 0.05, 0.28, 373.76], [0.1260277629068398, 11.9677376488635, 0.0, 123.0, 273.0, 0.01, 0.3, 319.8], [0.1050692625042486, 13.727474303048394, 0.0, 136.0, 279.0, 0.11, 0.29, 350.88], [0.10458321203868266, 8.522604054233913, 0.0, 130.0, 243.0, 0.11, 0.27, 330.2], [0.14213716375062913, 13.065347486039515, 0.0, 117.0, 236.0, 0.06, 0.29, 301.86], [0.11820552562449745, 9.777327921746597, 0.0, 108.0, 202.0, 0.0, 0.27, 274.32], [0.19972684237916305, 7.947002590025137, 0.0, 127.0, 215.0, 0.0, 0.25, 317.5], [0.1247492311854748, 15.710756052787993, 0.0, 117.0, 263.0, 0.03, 0.31, 306.54], [0.14534137903239386, 12.73920881877668, 0.0, 90.0, 191.0, 0.01, 0.3, 234.0], [0.12698834517175672, 7.862720991735483, 0.0, 79.0, 238.0, 0.35, 0.35, 213.3], [0.16942715413144652, 5.37890951833673, 0.0, 92.0, 146.0, 0.12, 0.24, 228.16], [0.5399836872999884, 5.633653361711023, 0.0, 48.0, 150.0, 1.19, 0.35, 129.60000000000002], [0.30535558495164666, 3.64656839525961, 0.0, 31.0, 52.0, 0.12, 0.25, 77.5], [0.5672477875205336, 4.948071791584746, 0.0, 82.0, 177.0, 0.13, 0.3, 213.2], [0.15444784960808247, 7.1908569707582775, 0.0, 78.0, 171.0, 0.21, 0.3, 202.8], [0.2125115672354883, 4.114540726103568, 0.0, 7.0, 15.0, 0.23, 0.3, 18.2], [0.17436915177993062, 2.2326951147701086, 0.0, 5.0, 12.0, 0.71, 0.31, 13.1], [0.14626959340348458, 6.991897317964258, 0.0, 69.0, 147.0, 1.26, 0.3, 179.4], [0.5821826987272434, 4.905953288475624, 0.0, 83.0, 140.0, 0.05, 0.25, 207.5], [0.5310516106704863, 3.3454293695607116, 0.0, 42.0, 96.0, 0.66, 0.31, 110.04], [0.6319469468382815, 4.06672056516467, 0.0, 123.0, 171.0, 0.29, 0.21, 297.66], [0.14107557034653054, 4.264332410125586, 0.0, 115.0, 155.0, 0.06, 0.2, 276.0], [0.1254074766895259, 5.670689314807067, 0.0, 104.0, 177.0, 0.19, 0.25, 260.0], [0.2417444746481003, 6.5101162772345695, 0.0, 25.0, 39.0, 0.32, 0.24, 62.0], [0.13057906194024474, 9.656845071143279, 0.0, 49.0, 162.0, 1.82, 0.36, 133.28], [0.6135196578914586, 5.713375485281336, 0.47318000000018395, 55.0, 97.0, 4.7, 0.26, 138.6], [0.13932322134949449, 5.9972289011368884, 0.0, 25.0, 125.0, -242.25, 0.4, 70.0], [0.26935090255826144, 6.369330991445486, 0.0, 42.0, 167.0, 0.98, 0.38, 115.92], [0.14753981070427305, 4.137401519676224, 0.0, 14.0, 22.0, 12.94, 0.23, 34.44], [0.18206278900975875, 9.760395641571574, 0.0, 79.0, 190.0, 0.13, 0.32, 208.56], [0.16811635255747065, 9.950049065017925, 0.0, 72.0, 191.0, 0.04, 0.33, 191.52], [0.13735581290259294, 5.0747459861102335, 0.0, 53.0, 153.0, 0.15, 0.34, 142.04000000000005], [0.15155048554712566, 11.151404478968328, 0.0, 49.0, 161.0, 0.95, 0.36, 133.28], [0.15697612740344413, 6.6495117830951775, 0.0, 84.0, 181.0, 0.42, 0.3, 218.4], [0.17052932964485687, 13.243443555111606, 0.0, 79.0, 193.0, 0.02, 0.32, 208.56], [0.11204517624410053, 13.17558063290465, 0.0, 104.0, 244.0, 0.44, 0.31, 272.48], [0.1200064026761003, 9.306973852038317, 0.0, 85.0, 211.0, 0.25, 0.32, 224.4], [0.1230283428596714, 8.764975268637999, 0.0, 72.0, 183.0, 0.53, 0.33, 191.52], [0.14493503214062178, 10.07359046810324, 0.0, 97.0, 212.0, 0.26, 0.3, 252.2], [0.11980397392675307, 9.276389202020713, 0.0, 116.0, 226.0, 0.03, 0.28, 296.96], [0.13653306408720495, 8.257824485201251, 0.0, 94.0, 206.0, 0.38, 0.3, 244.4], [0.11886885757210924, 8.054004836705937, 0.0, 86.0, 229.0, 0.16, 0.33, 228.76], [0.13103693732673755, 9.592849021588957, 0.0, 70.0, 180.0, -4.97, 0.33, 186.2], [0.1516399195123115, 6.578268593076709, 0.0, 66.0, 177.0, 0.0, 0.33, 175.56], [0.13683394985179628, 10.690396169558037, 0.0, 100.0, 227.0, 0.09, 0.31, 262.0], [0.5579068914411596, 8.284647565044244, 0.0, 71.0, 165.0, 0.38, 0.31, 186.02], [0.1533395310145402, 8.11100510528375, 0.0, 64.0, 179.0, 0.06, 0.34, 171.52], [0.15526128772960102, 9.382320137636565, 0.0, 62.0, 166.0, 0.66, 0.33, 164.92000000000004], [0.13144325466944148, 9.323271653873627, 0.0, 116.0, 248.0, 0.22, 0.3, 301.6], [0.133773543242918, 5.564791932846092, 0.0, 104.0, 153.0, 0.05, 0.22, 253.76], [0.17643193819269415, 6.020726394251088, 0.0, 53.0, 112.0, 2.22, 0.29, 136.74], [0.2265587977104468, 3.9844335533213435, 0.0, 14.0, 62.0, 1.7, 0.39, 38.92], [0.5191913794230536, 3.8322311394294086, 0.0, 38.0, 66.0, 0.08, 0.26, 95.76], [0.5443100650762009, 3.1065032453964494, 0.0, 58.0, 96.0, 0.61, 0.25, 145.0], [0.3637454129460663, 5.549563127057931, 0.0, 60.0, 138.0, 0.67, 0.31, 157.20000000000005], [0.1815656586239428, 7.852732359070375, 0.0, 116.0, 204.0, 0.04, 0.26, 292.32], [0.40114378488442015, 5.0129830860151126, 0.0, 54.0, 127.0, 1.0, 0.31, 141.48000000000005], [0.39838919199647377, 5.233540368196205, 0.0, 58.0, 134.0, 0.77, 0.31, 151.96], [0.2170254001297836, 4.601877729197638, 0.0, 18.0, 52.0, -2.81, 0.34, 48.24], [0.1707558408601182, 6.4231420270626645, 0.0, 127.0, 175.0, 0.01, 0.21, 307.34], [0.5512551762515505, 2.9523558488272204, 0.0, 26.0, 56.0, 4.12, 0.3, 67.60000000000001]]\n"
     ]
    },
    {
     "data": {
      "text/html": [
       "<div>\n",
       "<style scoped>\n",
       "    .dataframe tbody tr th:only-of-type {\n",
       "        vertical-align: middle;\n",
       "    }\n",
       "\n",
       "    .dataframe tbody tr th {\n",
       "        vertical-align: top;\n",
       "    }\n",
       "\n",
       "    .dataframe thead th {\n",
       "        text-align: right;\n",
       "    }\n",
       "</style>\n",
       "<table border=\"1\" class=\"dataframe\">\n",
       "  <thead>\n",
       "    <tr style=\"text-align: right;\">\n",
       "      <th></th>\n",
       "      <th>IPF</th>\n",
       "      <th>Density</th>\n",
       "      <th>E_above_Hull</th>\n",
       "      <th>G_VRH</th>\n",
       "      <th>K_VRH</th>\n",
       "      <th>Elastic_Anisotropy</th>\n",
       "      <th>poisson_ratio</th>\n",
       "    </tr>\n",
       "  </thead>\n",
       "  <tbody>\n",
       "    <tr>\n",
       "      <th>0</th>\n",
       "      <td>0.163919</td>\n",
       "      <td>5.462442</td>\n",
       "      <td>0.0</td>\n",
       "      <td>47.0</td>\n",
       "      <td>96.0</td>\n",
       "      <td>6.32</td>\n",
       "      <td>0.29</td>\n",
       "    </tr>\n",
       "    <tr>\n",
       "      <th>1</th>\n",
       "      <td>0.174651</td>\n",
       "      <td>6.036543</td>\n",
       "      <td>0.0</td>\n",
       "      <td>56.0</td>\n",
       "      <td>115.0</td>\n",
       "      <td>2.85</td>\n",
       "      <td>0.29</td>\n",
       "    </tr>\n",
       "    <tr>\n",
       "      <th>2</th>\n",
       "      <td>0.226014</td>\n",
       "      <td>7.340359</td>\n",
       "      <td>0.0</td>\n",
       "      <td>35.0</td>\n",
       "      <td>111.0</td>\n",
       "      <td>0.80</td>\n",
       "      <td>0.36</td>\n",
       "    </tr>\n",
       "    <tr>\n",
       "      <th>3</th>\n",
       "      <td>0.182130</td>\n",
       "      <td>4.442034</td>\n",
       "      <td>0.0</td>\n",
       "      <td>101.0</td>\n",
       "      <td>141.0</td>\n",
       "      <td>0.44</td>\n",
       "      <td>0.21</td>\n",
       "    </tr>\n",
       "    <tr>\n",
       "      <th>5</th>\n",
       "      <td>0.148441</td>\n",
       "      <td>7.088660</td>\n",
       "      <td>0.0</td>\n",
       "      <td>82.0</td>\n",
       "      <td>157.0</td>\n",
       "      <td>0.12</td>\n",
       "      <td>0.28</td>\n",
       "    </tr>\n",
       "    <tr>\n",
       "      <th>6</th>\n",
       "      <td>0.130993</td>\n",
       "      <td>4.557547</td>\n",
       "      <td>0.0</td>\n",
       "      <td>213.0</td>\n",
       "      <td>225.0</td>\n",
       "      <td>0.12</td>\n",
       "      <td>0.14</td>\n",
       "    </tr>\n",
       "    <tr>\n",
       "      <th>7</th>\n",
       "      <td>0.155298</td>\n",
       "      <td>6.412986</td>\n",
       "      <td>0.0</td>\n",
       "      <td>38.0</td>\n",
       "      <td>152.0</td>\n",
       "      <td>10.41</td>\n",
       "      <td>0.38</td>\n",
       "    </tr>\n",
       "    <tr>\n",
       "      <th>8</th>\n",
       "      <td>0.131230</td>\n",
       "      <td>4.439769</td>\n",
       "      <td>0.0</td>\n",
       "      <td>78.0</td>\n",
       "      <td>139.0</td>\n",
       "      <td>1.07</td>\n",
       "      <td>0.26</td>\n",
       "    </tr>\n",
       "    <tr>\n",
       "      <th>9</th>\n",
       "      <td>0.140780</td>\n",
       "      <td>17.774771</td>\n",
       "      <td>0.0</td>\n",
       "      <td>162.0</td>\n",
       "      <td>294.0</td>\n",
       "      <td>0.98</td>\n",
       "      <td>0.27</td>\n",
       "    </tr>\n",
       "    <tr>\n",
       "      <th>10</th>\n",
       "      <td>0.123085</td>\n",
       "      <td>4.487425</td>\n",
       "      <td>0.0</td>\n",
       "      <td>253.0</td>\n",
       "      <td>253.0</td>\n",
       "      <td>0.14</td>\n",
       "      <td>0.13</td>\n",
       "    </tr>\n",
       "  </tbody>\n",
       "</table>\n",
       "</div>"
      ],
      "text/plain": [
       "         IPF    Density  E_above_Hull  G_VRH  K_VRH  Elastic_Anisotropy  \\\n",
       "0   0.163919   5.462442           0.0   47.0   96.0                6.32   \n",
       "1   0.174651   6.036543           0.0   56.0  115.0                2.85   \n",
       "2   0.226014   7.340359           0.0   35.0  111.0                0.80   \n",
       "3   0.182130   4.442034           0.0  101.0  141.0                0.44   \n",
       "5   0.148441   7.088660           0.0   82.0  157.0                0.12   \n",
       "6   0.130993   4.557547           0.0  213.0  225.0                0.12   \n",
       "7   0.155298   6.412986           0.0   38.0  152.0               10.41   \n",
       "8   0.131230   4.439769           0.0   78.0  139.0                1.07   \n",
       "9   0.140780  17.774771           0.0  162.0  294.0                0.98   \n",
       "10  0.123085   4.487425           0.0  253.0  253.0                0.14   \n",
       "\n",
       "    poisson_ratio  \n",
       "0            0.29  \n",
       "1            0.29  \n",
       "2            0.36  \n",
       "3            0.21  \n",
       "5            0.28  \n",
       "6            0.14  \n",
       "7            0.38  \n",
       "8            0.26  \n",
       "9            0.27  \n",
       "10           0.13  "
      ]
     },
     "execution_count": 52,
     "metadata": {},
     "output_type": "execute_result"
    }
   ],
   "source": [
    "all_values = df.values.tolist() # Values for Attributes\n",
    "print(all_values)\n",
    "all_labels = [] # Values for Young's Modulus (Property to be estimated)\n",
    "all_labels = df['Y_Modulus'].tolist()\n",
    "df = df.drop(['Y_Modulus'], axis=1)\n",
    "df.head(n=10)"
   ]
  },
  {
   "cell_type": "code",
   "execution_count": 53,
   "metadata": {},
   "outputs": [
    {
     "name": "stdout",
     "output_type": "stream",
     "text": [
      "Shape of Values: (331, 7)\n",
      "Shape of Labels: (331,)\n",
      "[-0.26365008 -0.49675052 -0.11596706 -0.65583148 -0.83510711  0.21475553\n",
      "  0.04097274]\n",
      "[-0.23179244  0.96807878 -0.11596706  0.          0.70368856  0.00112485\n",
      "  0.6879107 ]\n",
      "[  0   1   2   3   4   5   6   7   8   9  10  11  12  13  14  15  16  17\n",
      "  18  19  20  21  22  23  24  25  26  27  28  29  30  31  32  33  34  35\n",
      "  36  37  38  39  40  41  42  43  44  45  46  47  48  49  50  51  52  53\n",
      "  54  55  56  57  58  59  60  61  62  63  64  65  66  67  68  69  70  71\n",
      "  72  73  74  75  76  77  78  79  80  81  82  83  84  85  86  87  88  89\n",
      "  90  91  92  93  94  95  96  97  98  99 100 101 102 103 104 105 106 107\n",
      " 108 109 110 111 112 113 114 115 116 117 118 119 120 121 122 123 124 125\n",
      " 126 127 128 129 130 131 132 133 134 135 136 137 138 139 140 141 142 143\n",
      " 144 145 146 147 148 149 150 151 152 153 154 155 156 157 158 159 160 161\n",
      " 162 163 164 165 166 167 168 169 170 171 172 173 174 175 176 177 178 179\n",
      " 180 181 182 183 184 185 186 187 188 189 190 191 192 193 194 195 196 197\n",
      " 198 199 200 201 202 203 204 205 206 207 208 209 210 211 212 213 214 215\n",
      " 216 217 218 219 220 221 222 223 224 225 226 227 228 229 230 231 232 233\n",
      " 234 235 236 237 238 239 240 241 242 243 244 245 246 247 248 249 250 251\n",
      " 252 253 254 255 256 257 258 259 260 261 262 263 264 265 266 267 268 269\n",
      " 270 271 272 273 274 275 276 277 278 279 280 281 282 283 284 285 286 287\n",
      " 288 289 290 291 292 293 294 295 296 297 298 299 300 301 302 303 304 305\n",
      " 306 307 308 309 310 311 312 313 314 315 316 317 318 319 320 321 322 323\n",
      " 324 325 326 327 328 329 330]\n"
     ]
    }
   ],
   "source": [
    "#We will rewrite the arrays with the patches we made on the dataset \n",
    "# by turning the dataframe back into a list of lists\n",
    "\n",
    "all_values = [list(df.iloc[x]) for x in range(len(all_values))]\n",
    "\n",
    "# SETS\n",
    "\n",
    "# List of lists are turned into Numpy arrays to facilitate calculations in steps to follow (Normalization).\n",
    "all_values = np.array(all_values, dtype = float) \n",
    "print(\"Shape of Values:\", all_values.shape)\n",
    "all_labels = np.array(all_labels, dtype = float)\n",
    "print(\"Shape of Labels:\", all_labels.shape)\n",
    "\n",
    "# Uncomment the line below to shuffle the dataset \n",
    "#(we do not do this here to ensure consistent results for every run)\n",
    "#order = np.argsort(np.random.random(all_labels.shape)) \n",
    "# This numpy argsort returns the indexes that would be used to shuffle a list\n",
    "order = np.arange(331)\n",
    "all_values = all_values[order]\n",
    "all_labels = all_labels[order]\n",
    "\n",
    "# Training Set\n",
    "train_labels = all_labels[:300]\n",
    "train_values = all_values[:300]\n",
    "\n",
    "# Testing Set\n",
    "test_labels = all_labels[-31:]\n",
    "test_values = all_values[-31:]\n",
    "\n",
    "# This line is used for labels in the plots at the end of the tutorial - Testing Set\n",
    "\n",
    "labeled_elements = [elements[x] for x in order[-31:]] \n",
    "elements = [elements[x] for x in order]\n",
    "\n",
    "# NORMALIZATION\n",
    "\n",
    "mean = np.mean(train_values, axis = 0) # mean\n",
    "std = np.std(train_values, axis = 0) # standard deviation\n",
    "\n",
    "train_values = (train_values - mean) / std # input scaling\n",
    "test_values = (test_values - mean) / std # input scaling\n",
    "\n",
    "print(train_values[0]) # print a sample entry from the training set\n",
    "print(test_values[0]) # print a sample entry from the training set\n",
    "print(order)"
   ]
  },
  {
   "cell_type": "markdown",
   "metadata": {},
   "source": [
    "### 3. Creating the Model\n",
    "\n",
    "For this regression, we will use a simple sequential neural network with one densely connected hidden layer. The optimizer used will be [RMSPropOptimizer](https://www.tensorflow.org/api_docs/python/tf/train/RMSPropOptimizer) (Root Mean Square Propagation).\n",
    "\n",
    "To learn more about Root Mean Squared Propagation, click [here](https://climin.readthedocs.io/en/latest/rmsprop.html).\n",
    "\n",
    "A cool tool developed by Tensorflow to visualize how a neural network learns, and play around with its parameters, can be found here [NN Tools](https://playground.tensorflow.org/)."
   ]
  },
  {
   "cell_type": "code",
   "execution_count": 54,
   "metadata": {},
   "outputs": [
    {
     "name": "stdout",
     "output_type": "stream",
     "text": [
      "WARNING:tensorflow:From C:\\Users\\Kayla Yano\\anaconda3\\envs\\PythonData\\lib\\site-packages\\tensorflow\\python\\keras\\initializers.py:143: calling RandomNormal.__init__ (from tensorflow.python.ops.init_ops) with dtype is deprecated and will be removed in a future version.\n",
      "Instructions for updating:\n",
      "Call initializer instance with the dtype argument instead of passing it to the constructor\n",
      "Model: \"sequential\"\n",
      "_________________________________________________________________\n",
      "Layer (type)                 Output Shape              Param #   \n",
      "=================================================================\n",
      "dense (Dense)                (None, 32)                256       \n",
      "_________________________________________________________________\n",
      "dense_1 (Dense)              (None, 64)                2112      \n",
      "_________________________________________________________________\n",
      "dense_2 (Dense)              (None, 64)                4160      \n",
      "_________________________________________________________________\n",
      "dense_3 (Dense)              (None, 1)                 65        \n",
      "=================================================================\n",
      "Total params: 6,593\n",
      "Trainable params: 6,593\n",
      "Non-trainable params: 0\n",
      "_________________________________________________________________\n"
     ]
    }
   ],
   "source": [
    "# DEFINITION OF THE MODEL\n",
    "\n",
    "# The weights of our neural network will be initialized in a random manner, using a seed allows for reproducibility\n",
    "kernel_init = initializers.RandomNormal(seed=0)\n",
    "# In a sequential model, the first layer must specify the input shape the model will expect; \n",
    "# in this case the value is train_values.shape[1] which is the number\n",
    "# of attributes (properties) and equals 17.\n",
    "\n",
    "model = Sequential()\n",
    "model.add(Dense(32, activation='relu', input_shape=(train_values.shape[1], ), kernel_initializer=kernel_init))\n",
    "model.add(Dense(64, activation='relu', kernel_initializer=kernel_init))\n",
    "model.add(Dense(64, activation='relu', kernel_initializer=kernel_init))\n",
    "model.add(Dense(1, kernel_initializer=kernel_init))\n",
    "\n",
    "# DEFINITION OF THE OPTIMIZER\n",
    "\n",
    "optimizer = optimizers.RMSprop(0.002) # Root Mean Squared Propagation\n",
    "\n",
    "# This line matches the optimizer to the model and states which metrics will evaluate the model's accuracy\n",
    "model.compile(loss='mae', optimizer=optimizer, metrics=['mae'])\n",
    "model.summary()"
   ]
  },
  {
   "cell_type": "markdown",
   "metadata": {},
   "source": [
    "#### TRAINING \n",
    "\n",
    "This model is trained for 2000 epochs, and we record the training accuracy in the history object.\n",
    "\n",
    "One **Epoch** occurs when you pass the entire dataset through the model. One **Batch** contains a subset of the dataset that can be fed to the model at the same time. A more detailed explanation of these concepts can be found in this [blog](https://towardsdatascience.com/epoch-vs-iterations-vs-batch-size-4dfb9c7ce9c9). As we have a really small dataset compared to the ones that are usually considered to be modeled by these neural networks, we are feeding all entries at the same time, so our batch is the entire dataset, and an epoch occurs when the batch is processed.\n",
    "\n",
    "This way, by plotting \"history\" we can see the evolution of the \"learning\" of the model, that is the decrease of the Mean Absolute Error. Models in Keras are fitted to the training set using the [**fit**](https://keras.io/models/model/#fit) method.\n",
    "\n",
    "The blue curve that will come up from the History object represents how the model is learning on the training data, and the orange curve represents the validation loss, which can be thought of as the way our model evaluates data that it was not trained in. This validation loss would start going up again when we start to overfit our data."
   ]
  },
  {
   "cell_type": "code",
   "execution_count": 55,
   "metadata": {},
   "outputs": [
    {
     "name": "stdout",
     "output_type": "stream",
     "text": [
      "Current Epoch: 2000 Training Loss: 2.373014                                       \r"
     ]
    },
    {
     "data": {
      "image/png": "[encoded data removed]",
      "text/plain": [
       "<Figure size 432x288 with 1 Axes>"
      ]
     },
     "metadata": {
      "needs_background": "light"
     },
     "output_type": "display_data"
    }
   ],
   "source": [
    "# EPOCH REAL TIME COUNTER CLASS\n",
    "class PrintEpNum(tf.keras.callbacks.Callback): # This is a function for the Epoch Counter\n",
    "    def on_epoch_end(self, epoch, logs):\n",
    "        sys.stdout.flush()\n",
    "        sys.stdout.write(\"Current Epoch: \" + str(epoch+1) + \" Training Loss: \" + \"%4f\" %logs.get('loss') + '                                       \\r') # Updates current Epoch Number\n",
    "\n",
    "EPOCHS = 2000 # Number of EPOCHS\n",
    "\n",
    "# HISTORY Object which contains how the model learned\n",
    "\n",
    "# Training Values (Properties), Training Labels (Known Young's Moduli) \n",
    "history = model.fit(train_values, train_labels, batch_size=train_values.shape[0], \n",
    "                    epochs=EPOCHS, verbose = False, validation_split=0.1, callbacks=[PrintEpNum()])\n",
    "\n",
    "\n",
    "# PLOTTING HISTORY USING MATPLOTLIB\n",
    "\n",
    "plt.figure()\n",
    "plt.xlabel('Epoch')\n",
    "plt.ylabel('Mean Abs Error')\n",
    "plt.plot(history.epoch, np.array(history.history['mean_absolute_error']),label='Loss on training set') \n",
    "plt.plot(history.epoch, np.array(history.history['val_mean_absolute_error']),label = 'Validation loss')\n",
    "plt.legend()\n",
    "plt.show()"
   ]
  },
  {
   "cell_type": "markdown",
   "metadata": {},
   "source": [
    "#### SAVING A MODEL\n",
    "\n",
    "Compiled and trained models in Keras can be saved and distributed in .h5 files using the `model.save()` method. Running the cell below will save the current model we trained, both weights and architecture to your home directory."
   ]
  },
  {
   "cell_type": "code",
   "execution_count": 56,
   "metadata": {},
   "outputs": [],
   "source": [
    "model.save(os.path.expanduser('~/model.h5'))"
   ]
  },
  {
   "cell_type": "markdown",
   "metadata": {},
   "source": [
    "#### TESTING\n",
    "\n",
    "Models in Keras are tested using the method [**evaluate**](https://keras.io/models/model/#evaluate). This method returns the testing loss of the model and the metrics we specified when creating it,  which in our case it's the Mean Absolute Error. For the original model in this tutorial you should get a value of around **20 GPa** for the Mean Absolute Error. This value would decrease with more training data, more attributes/features, or a different optimizer. In the case of a model that overfits, you can expect values to start increasing to around **30 or 40 GPa**."
   ]
  },
  {
   "cell_type": "code",
   "execution_count": 57,
   "metadata": {},
   "outputs": [
    {
     "name": "stdout",
     "output_type": "stream",
     "text": [
      "Testing Set Mean Absolute Error: 3.679 GPa\n"
     ]
    }
   ],
   "source": [
    "[loss, mae] = model.evaluate(test_values, test_labels, verbose=0)\n",
    "\n",
    "print(\"Testing Set Mean Absolute Error: {:2.3f} GPa\".format(mae))"
   ]
  },
  {
   "cell_type": "code",
   "execution_count": 58,
   "metadata": {},
   "outputs": [
    {
     "data": {
      "text/plain": [
       "<module 'tensorflow._api.v1.summary' from 'C:\\\\Users\\\\Kayla Yano\\\\anaconda3\\\\envs\\\\PythonData\\\\lib\\\\site-packages\\\\tensorflow\\\\_api\\\\v1\\\\summary\\\\__init__.py'>"
      ]
     },
     "execution_count": 58,
     "metadata": {},
     "output_type": "execute_result"
    }
   ],
   "source": [
    "tf.summary"
   ]
  },
  {
   "cell_type": "code",
   "execution_count": 67,
   "metadata": {},
   "outputs": [
    {
     "name": "stdout",
     "output_type": "stream",
     "text": [
      "The tensorboard extension is already loaded. To reload it, use:\n",
      "  %reload_ext tensorboard\n"
     ]
    },
    {
     "name": "stderr",
     "output_type": "stream",
     "text": [
      "'rm' is not recognized as an internal or external command,\n",
      "operable program or batch file.\n"
     ]
    },
    {
     "data": {
      "text/plain": [
       "Reusing TensorBoard on port 6006 (pid 6032), started 0:36:20 ago. (Use '!kill 6032' to kill it.)"
      ]
     },
     "metadata": {},
     "output_type": "display_data"
    },
    {
     "data": {
      "text/html": [
       "\n",
       "        <iframe\n",
       "            width=\"100%\"\n",
       "            height=\"800\"\n",
       "            src=\"http://localhost:6006\"\n",
       "            frameborder=\"0\"\n",
       "            allowfullscreen\n",
       "        ></iframe>\n",
       "        "
      ],
      "text/plain": [
       "<IPython.lib.display.IFrame at 0x23440a4ff48>"
      ]
     },
     "metadata": {},
     "output_type": "display_data"
    }
   ],
   "source": [
    "# Load the TensorBoard notebook extension\n",
    "%load_ext tensorboard\n",
    "# Clear any logs from previous runs\n",
    "!rm -rf ./logs/ \n",
    "%tensorboard --logdir logs/gradient_tape"
   ]
  },
  {
   "cell_type": "markdown",
   "metadata": {},
   "source": [
    "#### MAKING PREDICTIONS\n",
    "\n",
    "The last step in a regression model is to make predictions for values not in the training set, which are determined by the method [**predict**](https://keras.io/models/model/#predict). In the following cell we print the elements in the testing set, the real values for their Young's moduli and the predictions generated by our machine learned model."
   ]
  },
  {
   "cell_type": "code",
   "execution_count": 60,
   "metadata": {},
   "outputs": [
    {
     "name": "stdout",
     "output_type": "stream",
     "text": [
      "Elements in Test Set:  ['Ti2FeIr', 'Ti2MnBe', 'PaTiTc2', 'Ti2MnCo', 'LiTiIr2', 'TiAlOs2', 'TiGaRu2', 'TiMnRh2', 'Ti2MnIr', 'TiGeRu2', 'Ti2TcRu', 'TiSiTc2', 'TiSnRh2', 'Ti2MnNi', 'Ti2TcOs', 'AcTiO3', 'Ti2TcPd', 'Ti2ZnRe', 'TiTc2Mo', 'Ti2GeC', 'Ti2CdC', 'Na2Ti2As2O', 'RbTiAsO5', 'LiTiPO5', 'Tb2Ti2S2O5', 'TiGaFeCo', 'Nd2Ti2S2O5', 'Sm2Ti2S2O5', 'Na2Ti2Sb2O', 'TiAlFeCo', 'KNaTiO3']\n",
      "Real Values [191.52, 142.04000000000005, 133.28, 218.4, 208.56, 272.48, 224.4, 191.52, 252.2, 296.96, 244.4, 228.76, 186.2, 175.56, 262.0, 186.02, 171.52, 164.92000000000004, 301.6, 253.76, 136.74, 38.92, 95.76, 145.0, 157.20000000000005, 292.32, 141.48000000000005, 151.96, 48.24, 307.34, 67.60000000000001]\n",
      "Predictions [191.28969, 139.85477, 131.94621, 213.48575, 206.33205, 269.02405, 222.5312, 189.44003, 247.2632, 288.62027, 239.51643, 228.37018, 184.57158, 174.75533, 257.01642, 184.57481, 170.38457, 163.93144, 293.97482, 245.91898, 134.39665, 36.13649, 92.115685, 141.36226, 154.35362, 283.41498, 138.45421, 148.90538, 43.98326, 298.123, 74.64761]\n"
     ]
    }
   ],
   "source": [
    "test_predictions = model.predict(test_values).flatten()\n",
    "\n",
    "print(\"Elements in Test Set: \", labeled_elements)\n",
    "print(\"Real Values\", list(test_labels))\n",
    "print(\"Predictions\", list(test_predictions))\n",
    "\n",
    "values = np.concatenate((train_values, test_values), axis=0) # This line joins the values together to evaluate all of them\n",
    "predictions = model.predict(values).flatten()"
   ]
  },
  {
   "cell_type": "markdown",
   "metadata": {},
   "source": [
    "### 4. Plotting\n",
    "\n",
    "The easiest way to see if the model did a good job estimating the Young's Modulus for the Elements is through a plot comparing Real Values with their Predictions. We will use [Plotly](https://plot.ly/python/) to create a plot like that. We covered how to plot in Plotly in the first tutorial of this tool. For values in this plot, the line (x = y) indicates a perfect match and would be the desirable result for the points. As you analyze the plot, you can hover on the points to see the data we obtained in the cell above."
   ]
  },
  {
   "cell_type": "code",
   "execution_count": 61,
   "metadata": {},
   "outputs": [
    {
     "data": {
      "text/html": [
       "        <script type=\"text/javascript\">\n",
       "        window.PlotlyConfig = {MathJaxConfig: 'local'};\n",
       "        if (window.MathJax) {MathJax.Hub.Config({SVG: {font: \"STIX-Web\"}});}\n",
       "        if (typeof require !== 'undefined') {\n",
       "        require.undef(\"plotly\");\n",
       "        requirejs.config({\n",
       "            paths: {\n",
       "                'plotly': ['https://cdn.plot.ly/plotly-latest.min']\n",
       "            }\n",
       "        });\n",
       "        require(['plotly'], function(Plotly) {\n",
       "            window._Plotly = Plotly;\n",
       "        });\n",
       "        }\n",
       "        </script>\n",
       "        "
      ]
     },
     "metadata": {},
     "output_type": "display_data"
    },
    {
     "data": {
      "application/vnd.plotly.v1+json": {
       "config": {
        "linkText": "Export to plot.ly",
        "plotlyServerURL": "https://plot.ly",
        "showLink": false
       },
       "data": [
        {
         "marker": {
          "color": "blue",
          "size": 12
         },
         "mode": "markers",
         "name": "Young's Modulus (Training)",
         "text": [
          "Ti2Zn",
          "TiZn",
          "TiAg",
          "TiS",
          "Ti2Rh",
          "Ti3B4",
          "TiNi",
          "Ti2C",
          "TiIr3",
          "TiB2",
          "Ti3O5",
          "Ti5Se4",
          "Ti2O",
          "TiIr",
          "TiCu3",
          "TiAu4",
          "Ti2Be17",
          "Ti2Pd",
          "Ti3Sb",
          "TiCr2",
          "Ti3Te4",
          "U2Ti",
          "Ti3Rh5",
          "Ti3Au",
          "Ti2Ni",
          "TiAs",
          "Ti3Al",
          "TiTe2",
          "TiMn2",
          "TiAl",
          "TiP2",
          "Ti6Sn5",
          "TiCu",
          "Ti5Sn3",
          "Ti5Si3",
          "TiZn3",
          "TiRe",
          "TiSb",
          "TiSe2",
          "Ti5Sb3",
          "TiI3",
          "TiZn16",
          "Ti3Pt",
          "Ti3Hg",
          "TiF3",
          "TiH2",
          "TiRh",
          "Ti3Cu4",
          "TiBe2",
          "TiOs",
          "TiFe",
          "TiCd",
          "Ti2Cd",
          "Ti2Ga",
          "Ti3Ga",
          "Ti2Ga3",
          "Ti3Pt5",
          "TiPt8",
          "Ti2Sn",
          "TiN",
          "Ti5Si4",
          "TiI4",
          "Ti3Ir",
          "TiO2",
          "TiAl2",
          "TiSb2",
          "TiCr2",
          "TiPt3",
          "Ti3Pd5",
          "TiCl3",
          "TiGa2",
          "TiRu",
          "TiCo3",
          "Ti2Sn3",
          "TiSi",
          "TiP",
          "Ti5Te4",
          "TiB",
          "TiCo",
          "Ti2N",
          "Ti3In",
          "Ti3Pb",
          "Ti2Ag",
          "Ti2ZnN",
          "TiZnN2",
          "TiTl2F6",
          "TiTeAs",
          "TiRh3",
          "TiTc",
          "TiNi3",
          "TiFe2Sn",
          "TiPbO3",
          "TiNiSb",
          "TiS2",
          "TiGaPt",
          "TiGa3",
          "TiGa",
          "Cs2TiCl6",
          "TiBrN",
          "Ti8C5",
          "MgTi2O5",
          "NaTi2O4",
          "Ti2Pd3",
          "Ti3AlC2",
          "CaTiO3",
          "Ti2O3",
          "SrTiO3",
          "TiAl3",
          "Ti3SiC2",
          "TiGe2",
          "Ti2Bi",
          "Cs3Ti2Cl9",
          "RbTiBr3",
          "Ti2S",
          "TiC",
          "TiSiRh",
          "Ti2Cu",
          "Sc2Ti2O7",
          "Li2TiF6",
          "Ti2CoRe",
          "TiFeSi",
          "TiZnIr2",
          "TiZnNi2",
          "Ti2NiIr",
          "Ti2RePd",
          "Ti2MoPt",
          "TiTc2Sb",
          "TiTc2W",
          "Ti2OsRu",
          "TiZnCo2",
          "TiVRe2",
          "TiGaPd2",
          "TiInPd2",
          "Ti2MnRh",
          "TaTiOs2",
          "SrTiN2",
          "LiTiS2",
          "TiS3",
          "TiPt",
          "Eu2TiO4",
          "TiCrP",
          "Ti6Si2B",
          "TiNiGe",
          "Ti2PbC",
          "TiCo2Sn",
          "TiNCl",
          "Na8Ti5O14",
          "Li2TiO3",
          "ZrTiAs",
          "TiAlFe2",
          "TiCo2Si",
          "Ti2CS",
          "MgTiO3",
          "K2TiF6",
          "TiCo2Ge",
          "SrTiO3",
          "BaTiO3",
          "YTiGe",
          "TiAsRh",
          "Ti2SbP",
          "ThTi2O6",
          "TiAlCo2",
          "SrTiO3",
          "Sr2TiO4",
          "Na4Ti5O12",
          "LiTi2O4",
          "Mg3(TiAl9)2",
          "TiAlNi2",
          "TiSnO3",
          "Mg2TiO4",
          "BaTiF6",
          "Ti2AlTc",
          "LiTiRh2",
          "TiMn2Al",
          "Ti2TcRh",
          "Ti2ReNi",
          "TiZnAu2",
          "Ti2MnOs",
          "Ti2MoIr",
          "Ti2TcIr",
          "Ti2TcNi",
          "TiVTc2",
          "Ti2ReRh",
          "TiBe2Ir",
          "TiFe2Si",
          "TiBeRh2",
          "TiBeCo2",
          "CsTi6O12",
          "Ti6Al16Pt7",
          "TiGaPd",
          "Zr(TiGa2)2",
          "Lu(TiGa2)2",
          "Ti2InN",
          "TiSiRu",
          "Ti2AlC",
          "Ti3NiS6",
          "TiAlAu",
          "TiMnO3",
          "TiGaCo2",
          "TiCuSi",
          "TiFeSi2",
          "YTiSi",
          "Rb2TiCl6",
          "Ti(CuS)4",
          "TiGaNi2",
          "Ti2SnC",
          "TiAlCu2",
          "Ti2BRh6",
          "TiCoSb",
          "TiCdF6",
          "TiGaFe2",
          "Li4Ti5O12",
          "Ti2CoIr",
          "Ti2AlRe",
          "TaTiRu2",
          "TaTiTc2",
          "TiZnRh2",
          "Ti2MnFe",
          "MgTiIr2",
          "TiZnPd2",
          "TiNbRe2",
          "TiMn2W",
          "TiMn2V",
          "Ti2TcPt",
          "TiZnCu2",
          "TiGaIr2",
          "TiBeIr2",
          "TiAlRu2",
          "Ti2ZnTc",
          "TaTiMn2",
          "Li4TiO4",
          "TiNiSn",
          "TiFeTe",
          "TiSnPd",
          "LiTiPt2",
          "TiGePt",
          "Ti2ReB2",
          "Tm(TiGa2)2",
          "Ti2NiS4",
          "Ti2GaN",
          "Sr4TiN4",
          "TiPRu",
          "TiFeSb",
          "Ti3In3Rh2",
          "Ti2Te2P",
          "Ti2GaC",
          "TiGePd",
          "Ti2InC",
          "Ti3InC",
          "Ti3SnC2",
          "TiCoSi",
          "TiInCu2",
          "CaTiF6",
          "TiIN",
          "TiSnPt",
          "Ti3AlC",
          "Ba2TiO4",
          "Ca4TiN4",
          "NaTiS2",
          "Ti2AlMo",
          "Ti2CoTc",
          "MgTiRh2",
          "Ti6Al16Ni7",
          "TiAlPd2",
          "Ti2MnRu",
          "TiMnCo2",
          "TiInCo2",
          "Ti2NiMo",
          "TiMn2Si",
          "TiNbTc2",
          "TiRe2W",
          "TiReTc2",
          "TiSiOs2",
          "TiSiRu2",
          "Ti2ReIr",
          "TiSnRu2",
          "TiFe2Ge",
          "TaTiRe2",
          "Ti2IrW",
          "ScTiRu2",
          "Ti3ZnN",
          "TiCdO3",
          "RbTiS2",
          "TiNiO3",
          "TiCoGe",
          "CsTiBr3",
          "K2TiCl6",
          "TiGaNi",
          "Sr3Ti2O7",
          "Na2Ti3O7",
          "LiTiO2",
          "Ti2AlN",
          "TiSiNi",
          "TiCu2Te3",
          "TiAlPt",
          "BaTiO3",
          "Ti3SnH",
          "Ti3PdO",
          "Li(TiSe2)3",
          "Ti2CrIr",
          "Ti2FeIr",
          "Ti2MnBe",
          "PaTiTc2",
          "Ti2MnCo",
          "LiTiIr2",
          "TiAlOs2",
          "TiGaRu2",
          "TiMnRh2",
          "Ti2MnIr",
          "TiGeRu2",
          "Ti2TcRu",
          "TiSiTc2",
          "TiSnRh2",
          "Ti2MnNi",
          "Ti2TcOs",
          "AcTiO3",
          "Ti2TcPd",
          "Ti2ZnRe",
          "TiTc2Mo",
          "Ti2GeC",
          "Ti2CdC",
          "Na2Ti2As2O",
          "RbTiAsO5",
          "LiTiPO5",
          "Tb2Ti2S2O5",
          "TiGaFeCo",
          "Nd2Ti2S2O5",
          "Sm2Ti2S2O5",
          "Na2Ti2Sb2O",
          "TiAlFeCo",
          "KNaTiO3"
         ],
         "type": "scatter",
         "x": [
          121.26,
          144.48000000000005,
          95.2,
          244.42,
          209.92,
          485.64,
          104.88,
          196.56,
          411.48,
          571.78,
          199.12,
          116.84,
          267.12,
          217.08,
          136.68,
          107.64,
          311.74,
          162.44,
          70,
          199.5,
          94.24,
          273.7,
          190.28,
          181.76,
          99.36,
          180,
          154.94,
          29.04,
          167.14,
          175,
          222.04,
          140.8,
          161.20000000000005,
          127.4,
          229.36,
          66.24,
          193.12,
          115.2,
          28.8,
          121.44,
          5.12,
          75.04,
          155.44,
          171.36,
          117.9,
          57.2,
          135.23999999999998,
          158.6,
          248.04,
          340.36,
          250.26,
          52.82000000000001,
          88.44000000000003,
          161.28,
          145.6,
          160.79999999999995,
          195.64,
          230.48,
          153.6,
          439.2,
          233.7,
          2.48,
          37.96,
          164.70000000000005,
          196.8,
          135,
          199.5,
          278.2,
          121.44,
          7.68,
          169.74,
          273.92,
          217.46,
          121.92,
          241.56,
          223.86,
          91.44,
          437,
          162.26000000000005,
          294.84,
          118.8,
          51.12,
          109.06,
          246,
          147.4,
          19.18,
          158.12,
          325.08,
          192.96,
          248.32,
          267.12,
          96.72,
          149.34,
          33.32,
          152.76000000000005,
          177.6,
          178.56,
          12.7,
          45.72,
          280.6,
          186.02,
          195.58,
          120.56,
          299.88,
          252.5,
          229.68,
          272.8,
          210.04,
          333.6,
          199.2,
          59.84,
          12.6,
          18.48,
          214.2,
          429.44,
          228.8,
          144.1,
          128.64,
          75,
          250.26,
          272.5,
          267.8,
          137,
          35.28,
          194.18,
          231.4,
          243.66,
          330.24,
          312.32,
          231.4,
          299,
          14.8,
          37.96,
          212.22,
          268.66,
          132,
          116.16,
          27.5,
          43.8,
          176.4,
          307.5,
          253.76,
          210.82,
          180,
          193.88,
          48.8,
          105.84,
          179.57999999999996,
          181.76,
          264.6,
          225.32,
          321.6,
          215.04,
          29.040000000000006,
          204.36,
          255,
          110.04,
          123.48,
          199.12,
          176.08,
          166.32000000000005,
          230.4,
          255,
          187.5,
          156,
          167.70000000000005,
          125.46,
          158.12,
          45.98,
          185.76,
          57.64,
          159.60000000000005,
          163.68,
          215.9,
          244.4,
          208.56,
          73.32,
          233.18,
          234.96,
          296.96,
          190.08,
          248.16000000000003,
          262.6,
          187.6,
          362.08,
          244.4,
          261.12,
          137.8,
          150.48000000000005,
          119.7,
          171.12,
          152.5,
          208.32,
          263.68,
          264.32,
          113.16,
          150.8,
          168.96,
          195.36,
          197.12,
          287.68,
          124.46,
          12.9,
          95.46,
          111.20000000000002,
          224.48,
          161.20000000000005,
          291.54,
          190.5,
          30,
          256,
          152.4,
          172.8,
          190.08,
          213.3,
          264.62,
          217.46,
          204.36,
          276.86,
          0,
          299,
          309.6,
          214.84,
          202.16000000000003,
          116.1,
          245.52,
          309.76,
          227.04,
          133.28,
          234.96,
          109.22,
          172.72,
          204.8,
          189.42,
          112,
          134,
          453.6,
          146.16,
          135.3,
          265.96,
          85.8,
          267.8,
          137.8,
          145.6,
          34.16,
          257.04,
          179.4,
          230.4,
          228.16,
          271.04,
          254,
          122.36,
          64.5,
          43.2,
          147.84,
          248.46,
          75.4,
          110.94,
          89.53999999999998,
          115.08,
          242.52,
          200.2,
          222.04,
          84.6,
          209.6,
          202.8,
          178.16,
          205.4,
          268.8,
          251.52,
          373.76,
          319.8,
          350.88,
          330.2,
          301.86,
          274.32,
          317.5,
          306.54,
          234,
          213.3,
          228.16,
          129.60000000000002,
          77.5,
          213.2,
          202.8,
          18.2,
          13.1,
          179.4,
          207.5,
          110.04,
          297.66,
          276,
          260,
          62,
          133.28,
          138.6,
          70,
          115.92,
          34.44,
          208.56,
          191.52,
          142.04000000000005,
          133.28,
          218.4,
          208.56,
          272.48,
          224.4,
          191.52,
          252.2,
          296.96,
          244.4,
          228.76,
          186.2,
          175.56,
          262,
          186.02,
          171.52,
          164.92000000000004,
          301.6,
          253.76,
          136.74,
          38.92,
          95.76,
          145,
          157.20000000000005,
          292.32,
          141.48000000000005,
          151.96,
          48.24,
          307.34,
          67.60000000000001
         ],
         "y": [
          117.87630462646484,
          141.31031799316406,
          92.41484832763672,
          236.89341735839844,
          203.64512634277344,
          484.05096435546875,
          103.7965316772461,
          190.4031524658203,
          398.9765625,
          572.3668823242188,
          195.65452575683594,
          113.5173568725586,
          258.9878845214844,
          217.2051544189453,
          134.02975463867188,
          108.41557312011719,
          307.50262451171875,
          160.19224548339844,
          67.8814926147461,
          194.74876403808594,
          91.4086685180664,
          271.31622314453125,
          190.6414031982422,
          177.4756317138672,
          97.44194030761719,
          173.52503967285156,
          150.55848693847656,
          26.620573043823242,
          166.7440643310547,
          168.32896423339844,
          214.02694702148438,
          136.73631286621094,
          157.32742309570312,
          124.11339569091797,
          222.04209899902344,
          64.1812744140625,
          194.38282775878906,
          112.00630950927734,
          24.069568634033203,
          117.52800750732422,
          4.663139820098877,
          72.15111541748047,
          154.16622924804688,
          166.4584197998047,
          114.0121841430664,
          56.107513427734375,
          135.2624969482422,
          155.70094299316406,
          242.6475067138672,
          330.73223876953125,
          242.96923828125,
          58.553070068359375,
          85.0797348022461,
          156.56204223632812,
          142.1664581298828,
          155.62396240234375,
          194.8242645263672,
          229.80091857910156,
          149.16510009765625,
          425.8329772949219,
          225.08531188964844,
          2.422288417816162,
          37.6004753112793,
          164.24839782714844,
          189.99676513671875,
          130.1949920654297,
          199.11373901367188,
          273.49530029296875,
          119.96794891357422,
          7.9453325271606445,
          164.26426696777344,
          266.96697998046875,
          214.71507263183594,
          117.8086166381836,
          233.79298400878906,
          216.10655212402344,
          88.54188537597656,
          432.97314453125,
          160.96250915527344,
          285.0137939453125,
          114.91045379638672,
          48.52781295776367,
          105.44796752929688,
          237.3828582763672,
          144.99093627929688,
          18.35175323486328,
          154.9574432373047,
          315.865478515625,
          193.2528839111328,
          242.1864776611328,
          257.9956359863281,
          95.09903717041016,
          146.31517028808594,
          27.253551483154297,
          151.499755859375,
          172.0225372314453,
          172.5081024169922,
          11.565534591674805,
          41.40106964111328,
          272.1182861328125,
          182.614013671875,
          193.23670959472656,
          119.1780014038086,
          291.45343017578125,
          249.2278289794922,
          228.2014617919922,
          279.63006591796875,
          203.73248291015625,
          324.0211181640625,
          193.18951416015625,
          58.124794006347656,
          11.18535327911377,
          14.98106861114502,
          206.88824462890625,
          415.97381591796875,
          222.85414123535156,
          141.4276580810547,
          127.53643035888672,
          71.57228088378906,
          243.59603881835938,
          263.71990966796875,
          263.0231018066406,
          135.35829162597656,
          36.64117431640625,
          193.34266662597656,
          226.79098510742188,
          239.2093505859375,
          321.9041748046875,
          302.3686828613281,
          226.01925659179688,
          293.867919921875,
          14.769124984741211,
          36.692989349365234,
          209.53358459472656,
          267.14898681640625,
          128.6329803466797,
          112.48348999023438,
          22.42119789123535,
          46.763248443603516,
          174.26454162597656,
          297.25128173828125,
          244.9294891357422,
          205.3238983154297,
          173.96620178222656,
          190.65061950683594,
          44.289031982421875,
          103.37109375,
          177.9748992919922,
          176.68084716796875,
          256.4508361816406,
          222.10789489746094,
          313.0274353027344,
          212.2247314453125,
          28.910293579101562,
          201.19854736328125,
          250.76512145996094,
          107.26644134521484,
          119.67581939697266,
          196.67601013183594,
          170.03306579589844,
          164.16159057617188,
          224.51580810546875,
          246.9911346435547,
          186.0886688232422,
          152.65895080566406,
          163.75611877441406,
          120.46366882324219,
          155.86338806152344,
          43.474266052246094,
          182.2353973388672,
          54.242088317871094,
          157.5694122314453,
          162.3116455078125,
          209.1673126220703,
          239.14263916015625,
          206.2783966064453,
          74.0634994506836,
          229.74374389648438,
          231.07485961914062,
          288.9315490722656,
          188.5931854248047,
          245.88331604003906,
          256.24212646484375,
          186.59881591796875,
          349.9678955078125,
          239.11016845703125,
          252.6178741455078,
          134.53062438964844,
          147.6163330078125,
          116.67365264892578,
          165.2412567138672,
          146.90756225585938,
          202.11012268066406,
          256.27886962890625,
          257.5178527832031,
          109.21658325195312,
          148.6473388671875,
          166.2437286376953,
          194.48809814453125,
          191.13475036621094,
          277.09307861328125,
          120.37914276123047,
          10.877108573913574,
          91.94921112060547,
          110.58502960205078,
          217.34970092773438,
          158.01966857910156,
          283.2821960449219,
          185.60693359375,
          28.041349411010742,
          248.135009765625,
          148.2058868408203,
          172.36647033691406,
          187.31398010253906,
          213.48422241210938,
          259.5592346191406,
          214.60971069335938,
          201.24700927734375,
          268.73809814453125,
          0.7977603673934937,
          293.634521484375,
          301.02557373046875,
          211.9131622314453,
          201.66722106933594,
          113.28936004638672,
          241.92547607421875,
          302.77081298828125,
          224.16395568847656,
          131.1451416015625,
          232.38571166992188,
          106.34444427490234,
          166.90921020507812,
          199.33082580566406,
          183.2428741455078,
          112.91307067871094,
          131.57150268554688,
          442.72894287109375,
          141.70545959472656,
          130.0487518310547,
          257.6484069824219,
          82.7240982055664,
          261.03070068359375,
          134.91494750976562,
          142.9068145751953,
          30.103734970092773,
          250.1275634765625,
          176.09080505371094,
          223.28355407714844,
          220.22830200195312,
          263.2012939453125,
          245.3231658935547,
          119.20284271240234,
          61.714088439941406,
          38.19938278198242,
          145.41427612304688,
          239.8482208251953,
          73.89938354492188,
          107.03935241699219,
          86.63665008544922,
          112.90865325927734,
          236.6588897705078,
          195.35104370117188,
          213.9727020263672,
          85.47545623779297,
          207.004150390625,
          199.43736267089844,
          176.4901885986328,
          201.0843963623047,
          261.4427185058594,
          247.41773986816406,
          364.0026550292969,
          313.97979736328125,
          341.97015380859375,
          320.6388854980469,
          293.7459411621094,
          266.7373046875,
          308.2354736328125,
          300.3415832519531,
          228.76795959472656,
          214.1035919189453,
          220.4676055908203,
          128.53379821777344,
          74.0350341796875,
          210.6219482421875,
          199.02932739257812,
          14.124857902526855,
          10.993170738220215,
          175.31600952148438,
          205.4845428466797,
          107.52984619140625,
          294.9189758300781,
          268.2647705078125,
          251.9949188232422,
          58.87384033203125,
          131.7722930908203,
          152.3314971923828,
          69.23368072509766,
          116.10210418701172,
          30.10210418701172,
          206.25965881347656,
          191.28968811035156,
          139.85476684570312,
          131.9462127685547,
          213.48574829101562,
          206.33204650878906,
          269.0240478515625,
          222.5312042236328,
          189.44003295898438,
          247.26319885253906,
          288.6202697753906,
          239.5164337158203,
          228.37017822265625,
          184.5715789794922,
          174.7553253173828,
          257.01641845703125,
          184.57481384277344,
          170.3845672607422,
          163.9314422607422,
          293.9748229980469,
          245.91897583007812,
          134.3966522216797,
          36.13648986816406,
          92.11568450927734,
          141.3622589111328,
          154.35362243652344,
          283.41497802734375,
          138.45420837402344,
          148.90538024902344,
          43.98326110839844,
          298.12298583984375,
          74.64761352539062
         ]
        },
        {
         "marker": {
          "color": "red",
          "size": 12
         },
         "mode": "markers",
         "name": "Young's Modulus (Testing)",
         "text": [
          "Ti2FeIr",
          "Ti2MnBe",
          "PaTiTc2",
          "Ti2MnCo",
          "LiTiIr2",
          "TiAlOs2",
          "TiGaRu2",
          "TiMnRh2",
          "Ti2MnIr",
          "TiGeRu2",
          "Ti2TcRu",
          "TiSiTc2",
          "TiSnRh2",
          "Ti2MnNi",
          "Ti2TcOs",
          "AcTiO3",
          "Ti2TcPd",
          "Ti2ZnRe",
          "TiTc2Mo",
          "Ti2GeC",
          "Ti2CdC",
          "Na2Ti2As2O",
          "RbTiAsO5",
          "LiTiPO5",
          "Tb2Ti2S2O5",
          "TiGaFeCo",
          "Nd2Ti2S2O5",
          "Sm2Ti2S2O5",
          "Na2Ti2Sb2O",
          "TiAlFeCo",
          "KNaTiO3"
         ],
         "type": "scatter",
         "x": [
          191.52,
          142.04000000000005,
          133.28,
          218.4,
          208.56,
          272.48,
          224.4,
          191.52,
          252.2,
          296.96,
          244.4,
          228.76,
          186.2,
          175.56,
          262,
          186.02,
          171.52,
          164.92000000000004,
          301.6,
          253.76,
          136.74,
          38.92,
          95.76,
          145,
          157.20000000000005,
          292.32,
          141.48000000000005,
          151.96,
          48.24,
          307.34,
          67.60000000000001
         ],
         "y": [
          191.28968811035156,
          139.85476684570312,
          131.9462127685547,
          213.48574829101562,
          206.33204650878906,
          269.0240478515625,
          222.5312042236328,
          189.44003295898438,
          247.26319885253906,
          288.6202697753906,
          239.5164337158203,
          228.37017822265625,
          184.5715789794922,
          174.7553253173828,
          257.01641845703125,
          184.57481384277344,
          170.3845672607422,
          163.9314422607422,
          293.9748229980469,
          245.91897583007812,
          134.3966522216797,
          36.13648986816406,
          92.11568450927734,
          141.3622589111328,
          154.35362243652344,
          283.41497802734375,
          138.45420837402344,
          148.90538024902344,
          43.98326110839844,
          298.12298583984375,
          74.64761352539062
         ]
        },
        {
         "mode": "lines",
         "name": "Match",
         "type": "scatter",
         "x": [
          0,
          600
         ],
         "y": [
          0,
          600
         ]
        }
       ],
       "layout": {
        "height": 600,
        "hovermode": "closest",
        "legend": {
         "font": {
          "size": 24
         }
        },
        "showlegend": true,
        "template": {
         "data": {
          "bar": [
           {
            "error_x": {
             "color": "#2a3f5f"
            },
            "error_y": {
             "color": "#2a3f5f"
            },
            "marker": {
             "line": {
              "color": "#E5ECF6",
              "width": 0.5
             }
            },
            "type": "bar"
           }
          ],
          "barpolar": [
           {
            "marker": {
             "line": {
              "color": "#E5ECF6",
              "width": 0.5
             }
            },
            "type": "barpolar"
           }
          ],
          "carpet": [
           {
            "aaxis": {
             "endlinecolor": "#2a3f5f",
             "gridcolor": "white",
             "linecolor": "white",
             "minorgridcolor": "white",
             "startlinecolor": "#2a3f5f"
            },
            "baxis": {
             "endlinecolor": "#2a3f5f",
             "gridcolor": "white",
             "linecolor": "white",
             "minorgridcolor": "white",
             "startlinecolor": "#2a3f5f"
            },
            "type": "carpet"
           }
          ],
          "choropleth": [
           {
            "colorbar": {
             "outlinewidth": 0,
             "ticks": ""
            },
            "type": "choropleth"
           }
          ],
          "contour": [
           {
            "colorbar": {
             "outlinewidth": 0,
             "ticks": ""
            },
            "colorscale": [
             [
              0,
              "#0d0887"
             ],
             [
              0.1111111111111111,
              "#46039f"
             ],
             [
              0.2222222222222222,
              "#7201a8"
             ],
             [
              0.3333333333333333,
              "#9c179e"
             ],
             [
              0.4444444444444444,
              "#bd3786"
             ],
             [
              0.5555555555555556,
              "#d8576b"
             ],
             [
              0.6666666666666666,
              "#ed7953"
             ],
             [
              0.7777777777777778,
              "#fb9f3a"
             ],
             [
              0.8888888888888888,
              "#fdca26"
             ],
             [
              1,
              "#f0f921"
             ]
            ],
            "type": "contour"
           }
          ],
          "contourcarpet": [
           {
            "colorbar": {
             "outlinewidth": 0,
             "ticks": ""
            },
            "type": "contourcarpet"
           }
          ],
          "heatmap": [
           {
            "colorbar": {
             "outlinewidth": 0,
             "ticks": ""
            },
            "colorscale": [
             [
              0,
              "#0d0887"
             ],
             [
              0.1111111111111111,
              "#46039f"
             ],
             [
              0.2222222222222222,
              "#7201a8"
             ],
             [
              0.3333333333333333,
              "#9c179e"
             ],
             [
              0.4444444444444444,
              "#bd3786"
             ],
             [
              0.5555555555555556,
              "#d8576b"
             ],
             [
              0.6666666666666666,
              "#ed7953"
             ],
             [
              0.7777777777777778,
              "#fb9f3a"
             ],
             [
              0.8888888888888888,
              "#fdca26"
             ],
             [
              1,
              "#f0f921"
             ]
            ],
            "type": "heatmap"
           }
          ],
          "heatmapgl": [
           {
            "colorbar": {
             "outlinewidth": 0,
             "ticks": ""
            },
            "colorscale": [
             [
              0,
              "#0d0887"
             ],
             [
              0.1111111111111111,
              "#46039f"
             ],
             [
              0.2222222222222222,
              "#7201a8"
             ],
             [
              0.3333333333333333,
              "#9c179e"
             ],
             [
              0.4444444444444444,
              "#bd3786"
             ],
             [
              0.5555555555555556,
              "#d8576b"
             ],
             [
              0.6666666666666666,
              "#ed7953"
             ],
             [
              0.7777777777777778,
              "#fb9f3a"
             ],
             [
              0.8888888888888888,
              "#fdca26"
             ],
             [
              1,
              "#f0f921"
             ]
            ],
            "type": "heatmapgl"
           }
          ],
          "histogram": [
           {
            "marker": {
             "colorbar": {
              "outlinewidth": 0,
              "ticks": ""
             }
            },
            "type": "histogram"
           }
          ],
          "histogram2d": [
           {
            "colorbar": {
             "outlinewidth": 0,
             "ticks": ""
            },
            "colorscale": [
             [
              0,
              "#0d0887"
             ],
             [
              0.1111111111111111,
              "#46039f"
             ],
             [
              0.2222222222222222,
              "#7201a8"
             ],
             [
              0.3333333333333333,
              "#9c179e"
             ],
             [
              0.4444444444444444,
              "#bd3786"
             ],
             [
              0.5555555555555556,
              "#d8576b"
             ],
             [
              0.6666666666666666,
              "#ed7953"
             ],
             [
              0.7777777777777778,
              "#fb9f3a"
             ],
             [
              0.8888888888888888,
              "#fdca26"
             ],
             [
              1,
              "#f0f921"
             ]
            ],
            "type": "histogram2d"
           }
          ],
          "histogram2dcontour": [
           {
            "colorbar": {
             "outlinewidth": 0,
             "ticks": ""
            },
            "colorscale": [
             [
              0,
              "#0d0887"
             ],
             [
              0.1111111111111111,
              "#46039f"
             ],
             [
              0.2222222222222222,
              "#7201a8"
             ],
             [
              0.3333333333333333,
              "#9c179e"
             ],
             [
              0.4444444444444444,
              "#bd3786"
             ],
             [
              0.5555555555555556,
              "#d8576b"
             ],
             [
              0.6666666666666666,
              "#ed7953"
             ],
             [
              0.7777777777777778,
              "#fb9f3a"
             ],
             [
              0.8888888888888888,
              "#fdca26"
             ],
             [
              1,
              "#f0f921"
             ]
            ],
            "type": "histogram2dcontour"
           }
          ],
          "mesh3d": [
           {
            "colorbar": {
             "outlinewidth": 0,
             "ticks": ""
            },
            "type": "mesh3d"
           }
          ],
          "parcoords": [
           {
            "line": {
             "colorbar": {
              "outlinewidth": 0,
              "ticks": ""
             }
            },
            "type": "parcoords"
           }
          ],
          "pie": [
           {
            "automargin": true,
            "type": "pie"
           }
          ],
          "scatter": [
           {
            "marker": {
             "colorbar": {
              "outlinewidth": 0,
              "ticks": ""
             }
            },
            "type": "scatter"
           }
          ],
          "scatter3d": [
           {
            "line": {
             "colorbar": {
              "outlinewidth": 0,
              "ticks": ""
             }
            },
            "marker": {
             "colorbar": {
              "outlinewidth": 0,
              "ticks": ""
             }
            },
            "type": "scatter3d"
           }
          ],
          "scattercarpet": [
           {
            "marker": {
             "colorbar": {
              "outlinewidth": 0,
              "ticks": ""
             }
            },
            "type": "scattercarpet"
           }
          ],
          "scattergeo": [
           {
            "marker": {
             "colorbar": {
              "outlinewidth": 0,
              "ticks": ""
             }
            },
            "type": "scattergeo"
           }
          ],
          "scattergl": [
           {
            "marker": {
             "colorbar": {
              "outlinewidth": 0,
              "ticks": ""
             }
            },
            "type": "scattergl"
           }
          ],
          "scattermapbox": [
           {
            "marker": {
             "colorbar": {
              "outlinewidth": 0,
              "ticks": ""
             }
            },
            "type": "scattermapbox"
           }
          ],
          "scatterpolar": [
           {
            "marker": {
             "colorbar": {
              "outlinewidth": 0,
              "ticks": ""
             }
            },
            "type": "scatterpolar"
           }
          ],
          "scatterpolargl": [
           {
            "marker": {
             "colorbar": {
              "outlinewidth": 0,
              "ticks": ""
             }
            },
            "type": "scatterpolargl"
           }
          ],
          "scatterternary": [
           {
            "marker": {
             "colorbar": {
              "outlinewidth": 0,
              "ticks": ""
             }
            },
            "type": "scatterternary"
           }
          ],
          "surface": [
           {
            "colorbar": {
             "outlinewidth": 0,
             "ticks": ""
            },
            "colorscale": [
             [
              0,
              "#0d0887"
             ],
             [
              0.1111111111111111,
              "#46039f"
             ],
             [
              0.2222222222222222,
              "#7201a8"
             ],
             [
              0.3333333333333333,
              "#9c179e"
             ],
             [
              0.4444444444444444,
              "#bd3786"
             ],
             [
              0.5555555555555556,
              "#d8576b"
             ],
             [
              0.6666666666666666,
              "#ed7953"
             ],
             [
              0.7777777777777778,
              "#fb9f3a"
             ],
             [
              0.8888888888888888,
              "#fdca26"
             ],
             [
              1,
              "#f0f921"
             ]
            ],
            "type": "surface"
           }
          ],
          "table": [
           {
            "cells": {
             "fill": {
              "color": "#EBF0F8"
             },
             "line": {
              "color": "white"
             }
            },
            "header": {
             "fill": {
              "color": "#C8D4E3"
             },
             "line": {
              "color": "white"
             }
            },
            "type": "table"
           }
          ]
         },
         "layout": {
          "annotationdefaults": {
           "arrowcolor": "#2a3f5f",
           "arrowhead": 0,
           "arrowwidth": 1
          },
          "coloraxis": {
           "colorbar": {
            "outlinewidth": 0,
            "ticks": ""
           }
          },
          "colorscale": {
           "diverging": [
            [
             0,
             "#8e0152"
            ],
            [
             0.1,
             "#c51b7d"
            ],
            [
             0.2,
             "#de77ae"
            ],
            [
             0.3,
             "#f1b6da"
            ],
            [
             0.4,
             "#fde0ef"
            ],
            [
             0.5,
             "#f7f7f7"
            ],
            [
             0.6,
             "#e6f5d0"
            ],
            [
             0.7,
             "#b8e186"
            ],
            [
             0.8,
             "#7fbc41"
            ],
            [
             0.9,
             "#4d9221"
            ],
            [
             1,
             "#276419"
            ]
           ],
           "sequential": [
            [
             0,
             "#0d0887"
            ],
            [
             0.1111111111111111,
             "#46039f"
            ],
            [
             0.2222222222222222,
             "#7201a8"
            ],
            [
             0.3333333333333333,
             "#9c179e"
            ],
            [
             0.4444444444444444,
             "#bd3786"
            ],
            [
             0.5555555555555556,
             "#d8576b"
            ],
            [
             0.6666666666666666,
             "#ed7953"
            ],
            [
             0.7777777777777778,
             "#fb9f3a"
            ],
            [
             0.8888888888888888,
             "#fdca26"
            ],
            [
             1,
             "#f0f921"
            ]
           ],
           "sequentialminus": [
            [
             0,
             "#0d0887"
            ],
            [
             0.1111111111111111,
             "#46039f"
            ],
            [
             0.2222222222222222,
             "#7201a8"
            ],
            [
             0.3333333333333333,
             "#9c179e"
            ],
            [
             0.4444444444444444,
             "#bd3786"
            ],
            [
             0.5555555555555556,
             "#d8576b"
            ],
            [
             0.6666666666666666,
             "#ed7953"
            ],
            [
             0.7777777777777778,
             "#fb9f3a"
            ],
            [
             0.8888888888888888,
             "#fdca26"
            ],
            [
             1,
             "#f0f921"
            ]
           ]
          },
          "colorway": [
           "#636efa",
           "#EF553B",
           "#00cc96",
           "#ab63fa",
           "#FFA15A",
           "#19d3f3",
           "#FF6692",
           "#B6E880",
           "#FF97FF",
           "#FECB52"
          ],
          "font": {
           "color": "#2a3f5f"
          },
          "geo": {
           "bgcolor": "white",
           "lakecolor": "white",
           "landcolor": "#E5ECF6",
           "showlakes": true,
           "showland": true,
           "subunitcolor": "white"
          },
          "hoverlabel": {
           "align": "left"
          },
          "hovermode": "closest",
          "mapbox": {
           "style": "light"
          },
          "paper_bgcolor": "white",
          "plot_bgcolor": "#E5ECF6",
          "polar": {
           "angularaxis": {
            "gridcolor": "white",
            "linecolor": "white",
            "ticks": ""
           },
           "bgcolor": "#E5ECF6",
           "radialaxis": {
            "gridcolor": "white",
            "linecolor": "white",
            "ticks": ""
           }
          },
          "scene": {
           "xaxis": {
            "backgroundcolor": "#E5ECF6",
            "gridcolor": "white",
            "gridwidth": 2,
            "linecolor": "white",
            "showbackground": true,
            "ticks": "",
            "zerolinecolor": "white"
           },
           "yaxis": {
            "backgroundcolor": "#E5ECF6",
            "gridcolor": "white",
            "gridwidth": 2,
            "linecolor": "white",
            "showbackground": true,
            "ticks": "",
            "zerolinecolor": "white"
           },
           "zaxis": {
            "backgroundcolor": "#E5ECF6",
            "gridcolor": "white",
            "gridwidth": 2,
            "linecolor": "white",
            "showbackground": true,
            "ticks": "",
            "zerolinecolor": "white"
           }
          },
          "shapedefaults": {
           "line": {
            "color": "#2a3f5f"
           }
          },
          "ternary": {
           "aaxis": {
            "gridcolor": "white",
            "linecolor": "white",
            "ticks": ""
           },
           "baxis": {
            "gridcolor": "white",
            "linecolor": "white",
            "ticks": ""
           },
           "bgcolor": "#E5ECF6",
           "caxis": {
            "gridcolor": "white",
            "linecolor": "white",
            "ticks": ""
           }
          },
          "title": {
           "x": 0.05
          },
          "xaxis": {
           "automargin": true,
           "gridcolor": "white",
           "linecolor": "white",
           "ticks": "",
           "title": {
            "standoff": 15
           },
           "zerolinecolor": "white",
           "zerolinewidth": 2
          },
          "yaxis": {
           "automargin": true,
           "gridcolor": "white",
           "linecolor": "white",
           "ticks": "",
           "title": {
            "standoff": 15
           },
           "zerolinecolor": "white",
           "zerolinewidth": 2
          }
         }
        },
        "title": {
         "font": {
          "size": 28
         },
         "text": "Neural Network Model - Young's Modulus"
        },
        "width": 1000,
        "xaxis": {
         "gridwidth": 1,
         "tickfont": {
          "size": 18
         },
         "title": {
          "font": {
           "size": 24
          },
          "text": "Real Values (GPa)"
         },
         "zeroline": false
        },
        "yaxis": {
         "gridwidth": 1,
         "tickfont": {
          "size": 18
         },
         "title": {
          "font": {
           "size": 24
          },
          "text": "Prediction (GPa)"
         },
         "zeroline": false
        }
       }
      },
      "text/html": [
       "<div>\n",
       "        \n",
       "        \n",
       "            <div id=\"f9e6c73c-f706-4b02-af7e-0891b4d0fe92\" class=\"plotly-graph-div\" style=\"height:600px; width:1000px;\"></div>\n",
       "            <script type=\"text/javascript\">\n",
       "                require([\"plotly\"], function(Plotly) {\n",
       "                    window.PLOTLYENV=window.PLOTLYENV || {};\n",
       "                    \n",
       "                if (document.getElementById(\"f9e6c73c-f706-4b02-af7e-0891b4d0fe92\")) {\n",
       "                    Plotly.newPlot(\n",
       "                        'f9e6c73c-f706-4b02-af7e-0891b4d0fe92',\n",
       "                        [{\"marker\": {\"color\": \"blue\", \"size\": 12}, \"mode\": \"markers\", \"name\": \"Young's Modulus (Training)\", \"text\": [\"Ti2Zn\", \"TiZn\", \"TiAg\", \"TiS\", \"Ti2Rh\", \"Ti3B4\", \"TiNi\", \"Ti2C\", \"TiIr3\", \"TiB2\", \"Ti3O5\", \"Ti5Se4\", \"Ti2O\", \"TiIr\", \"TiCu3\", \"TiAu4\", \"Ti2Be17\", \"Ti2Pd\", \"Ti3Sb\", \"TiCr2\", \"Ti3Te4\", \"U2Ti\", \"Ti3Rh5\", \"Ti3Au\", \"Ti2Ni\", \"TiAs\", \"Ti3Al\", \"TiTe2\", \"TiMn2\", \"TiAl\", \"TiP2\", \"Ti6Sn5\", \"TiCu\", \"Ti5Sn3\", \"Ti5Si3\", \"TiZn3\", \"TiRe\", \"TiSb\", \"TiSe2\", \"Ti5Sb3\", \"TiI3\", \"TiZn16\", \"Ti3Pt\", \"Ti3Hg\", \"TiF3\", \"TiH2\", \"TiRh\", \"Ti3Cu4\", \"TiBe2\", \"TiOs\", \"TiFe\", \"TiCd\", \"Ti2Cd\", \"Ti2Ga\", \"Ti3Ga\", \"Ti2Ga3\", \"Ti3Pt5\", \"TiPt8\", \"Ti2Sn\", \"TiN\", \"Ti5Si4\", \"TiI4\", \"Ti3Ir\", \"TiO2\", \"TiAl2\", \"TiSb2\", \"TiCr2\", \"TiPt3\", \"Ti3Pd5\", \"TiCl3\", \"TiGa2\", \"TiRu\", \"TiCo3\", \"Ti2Sn3\", \"TiSi\", \"TiP\", \"Ti5Te4\", \"TiB\", \"TiCo\", \"Ti2N\", \"Ti3In\", \"Ti3Pb\", \"Ti2Ag\", \"Ti2ZnN\", \"TiZnN2\", \"TiTl2F6\", \"TiTeAs\", \"TiRh3\", \"TiTc\", \"TiNi3\", \"TiFe2Sn\", \"TiPbO3\", \"TiNiSb\", \"TiS2\", \"TiGaPt\", \"TiGa3\", \"TiGa\", \"Cs2TiCl6\", \"TiBrN\", \"Ti8C5\", \"MgTi2O5\", \"NaTi2O4\", \"Ti2Pd3\", \"Ti3AlC2\", \"CaTiO3\", \"Ti2O3\", \"SrTiO3\", \"TiAl3\", \"Ti3SiC2\", \"TiGe2\", \"Ti2Bi\", \"Cs3Ti2Cl9\", \"RbTiBr3\", \"Ti2S\", \"TiC\", \"TiSiRh\", \"Ti2Cu\", \"Sc2Ti2O7\", \"Li2TiF6\", \"Ti2CoRe\", \"TiFeSi\", \"TiZnIr2\", \"TiZnNi2\", \"Ti2NiIr\", \"Ti2RePd\", \"Ti2MoPt\", \"TiTc2Sb\", \"TiTc2W\", \"Ti2OsRu\", \"TiZnCo2\", \"TiVRe2\", \"TiGaPd2\", \"TiInPd2\", \"Ti2MnRh\", \"TaTiOs2\", \"SrTiN2\", \"LiTiS2\", \"TiS3\", \"TiPt\", \"Eu2TiO4\", \"TiCrP\", \"Ti6Si2B\", \"TiNiGe\", \"Ti2PbC\", \"TiCo2Sn\", \"TiNCl\", \"Na8Ti5O14\", \"Li2TiO3\", \"ZrTiAs\", \"TiAlFe2\", \"TiCo2Si\", \"Ti2CS\", \"MgTiO3\", \"K2TiF6\", \"TiCo2Ge\", \"SrTiO3\", \"BaTiO3\", \"YTiGe\", \"TiAsRh\", \"Ti2SbP\", \"ThTi2O6\", \"TiAlCo2\", \"SrTiO3\", \"Sr2TiO4\", \"Na4Ti5O12\", \"LiTi2O4\", \"Mg3(TiAl9)2\", \"TiAlNi2\", \"TiSnO3\", \"Mg2TiO4\", \"BaTiF6\", \"Ti2AlTc\", \"LiTiRh2\", \"TiMn2Al\", \"Ti2TcRh\", \"Ti2ReNi\", \"TiZnAu2\", \"Ti2MnOs\", \"Ti2MoIr\", \"Ti2TcIr\", \"Ti2TcNi\", \"TiVTc2\", \"Ti2ReRh\", \"TiBe2Ir\", \"TiFe2Si\", \"TiBeRh2\", \"TiBeCo2\", \"CsTi6O12\", \"Ti6Al16Pt7\", \"TiGaPd\", \"Zr(TiGa2)2\", \"Lu(TiGa2)2\", \"Ti2InN\", \"TiSiRu\", \"Ti2AlC\", \"Ti3NiS6\", \"TiAlAu\", \"TiMnO3\", \"TiGaCo2\", \"TiCuSi\", \"TiFeSi2\", \"YTiSi\", \"Rb2TiCl6\", \"Ti(CuS)4\", \"TiGaNi2\", \"Ti2SnC\", \"TiAlCu2\", \"Ti2BRh6\", \"TiCoSb\", \"TiCdF6\", \"TiGaFe2\", \"Li4Ti5O12\", \"Ti2CoIr\", \"Ti2AlRe\", \"TaTiRu2\", \"TaTiTc2\", \"TiZnRh2\", \"Ti2MnFe\", \"MgTiIr2\", \"TiZnPd2\", \"TiNbRe2\", \"TiMn2W\", \"TiMn2V\", \"Ti2TcPt\", \"TiZnCu2\", \"TiGaIr2\", \"TiBeIr2\", \"TiAlRu2\", \"Ti2ZnTc\", \"TaTiMn2\", \"Li4TiO4\", \"TiNiSn\", \"TiFeTe\", \"TiSnPd\", \"LiTiPt2\", \"TiGePt\", \"Ti2ReB2\", \"Tm(TiGa2)2\", \"Ti2NiS4\", \"Ti2GaN\", \"Sr4TiN4\", \"TiPRu\", \"TiFeSb\", \"Ti3In3Rh2\", \"Ti2Te2P\", \"Ti2GaC\", \"TiGePd\", \"Ti2InC\", \"Ti3InC\", \"Ti3SnC2\", \"TiCoSi\", \"TiInCu2\", \"CaTiF6\", \"TiIN\", \"TiSnPt\", \"Ti3AlC\", \"Ba2TiO4\", \"Ca4TiN4\", \"NaTiS2\", \"Ti2AlMo\", \"Ti2CoTc\", \"MgTiRh2\", \"Ti6Al16Ni7\", \"TiAlPd2\", \"Ti2MnRu\", \"TiMnCo2\", \"TiInCo2\", \"Ti2NiMo\", \"TiMn2Si\", \"TiNbTc2\", \"TiRe2W\", \"TiReTc2\", \"TiSiOs2\", \"TiSiRu2\", \"Ti2ReIr\", \"TiSnRu2\", \"TiFe2Ge\", \"TaTiRe2\", \"Ti2IrW\", \"ScTiRu2\", \"Ti3ZnN\", \"TiCdO3\", \"RbTiS2\", \"TiNiO3\", \"TiCoGe\", \"CsTiBr3\", \"K2TiCl6\", \"TiGaNi\", \"Sr3Ti2O7\", \"Na2Ti3O7\", \"LiTiO2\", \"Ti2AlN\", \"TiSiNi\", \"TiCu2Te3\", \"TiAlPt\", \"BaTiO3\", \"Ti3SnH\", \"Ti3PdO\", \"Li(TiSe2)3\", \"Ti2CrIr\", \"Ti2FeIr\", \"Ti2MnBe\", \"PaTiTc2\", \"Ti2MnCo\", \"LiTiIr2\", \"TiAlOs2\", \"TiGaRu2\", \"TiMnRh2\", \"Ti2MnIr\", \"TiGeRu2\", \"Ti2TcRu\", \"TiSiTc2\", \"TiSnRh2\", \"Ti2MnNi\", \"Ti2TcOs\", \"AcTiO3\", \"Ti2TcPd\", \"Ti2ZnRe\", \"TiTc2Mo\", \"Ti2GeC\", \"Ti2CdC\", \"Na2Ti2As2O\", \"RbTiAsO5\", \"LiTiPO5\", \"Tb2Ti2S2O5\", \"TiGaFeCo\", \"Nd2Ti2S2O5\", \"Sm2Ti2S2O5\", \"Na2Ti2Sb2O\", \"TiAlFeCo\", \"KNaTiO3\"], \"type\": \"scatter\", \"x\": [121.26, 144.48000000000005, 95.2, 244.42, 209.92, 485.64, 104.88, 196.56, 411.48, 571.78, 199.12, 116.84, 267.12, 217.08, 136.68, 107.64, 311.74, 162.44, 70.0, 199.5, 94.24, 273.7, 190.28, 181.76, 99.36, 180.0, 154.94, 29.04, 167.14, 175.0, 222.04, 140.8, 161.20000000000005, 127.4, 229.36, 66.24, 193.12, 115.2, 28.8, 121.44, 5.12, 75.04, 155.44, 171.36, 117.9, 57.2, 135.23999999999998, 158.6, 248.04, 340.36, 250.26, 52.82000000000001, 88.44000000000003, 161.28, 145.6, 160.79999999999995, 195.64, 230.48, 153.6, 439.2, 233.7, 2.48, 37.96, 164.70000000000005, 196.8, 135.0, 199.5, 278.2, 121.44, 7.68, 169.74, 273.92, 217.46, 121.92, 241.56, 223.86, 91.44, 437.0, 162.26000000000005, 294.84, 118.8, 51.12, 109.06, 246.0, 147.4, 19.18, 158.12, 325.08, 192.96, 248.32, 267.12, 96.72, 149.34, 33.32, 152.76000000000005, 177.6, 178.56, 12.7, 45.72, 280.6, 186.02, 195.58, 120.56, 299.88, 252.5, 229.68, 272.8, 210.04, 333.6, 199.2, 59.84, 12.6, 18.48, 214.2, 429.44, 228.8, 144.1, 128.64, 75.0, 250.26, 272.5, 267.8, 137.0, 35.28, 194.18, 231.4, 243.66, 330.24, 312.32, 231.4, 299.0, 14.8, 37.96, 212.22, 268.66, 132.0, 116.16, 27.5, 43.8, 176.4, 307.5, 253.76, 210.82, 180.0, 193.88, 48.8, 105.84, 179.57999999999996, 181.76, 264.6, 225.32, 321.6, 215.04, 29.040000000000006, 204.36, 255.0, 110.04, 123.48, 199.12, 176.08, 166.32000000000005, 230.4, 255.0, 187.5, 156.0, 167.70000000000005, 125.46, 158.12, 45.98, 185.76, 57.64, 159.60000000000005, 163.68, 215.9, 244.4, 208.56, 73.32, 233.18, 234.96, 296.96, 190.08, 248.16000000000003, 262.6, 187.6, 362.08, 244.4, 261.12, 137.8, 150.48000000000005, 119.7, 171.12, 152.5, 208.32, 263.68, 264.32, 113.16, 150.8, 168.96, 195.36, 197.12, 287.68, 124.46, 12.9, 95.46, 111.20000000000002, 224.48, 161.20000000000005, 291.54, 190.5, 30.0, 256.0, 152.4, 172.8, 190.08, 213.3, 264.62, 217.46, 204.36, 276.86, 0.0, 299.0, 309.6, 214.84, 202.16000000000003, 116.1, 245.52, 309.76, 227.04, 133.28, 234.96, 109.22, 172.72, 204.8, 189.42, 112.0, 134.0, 453.6, 146.16, 135.3, 265.96, 85.8, 267.8, 137.8, 145.6, 34.16, 257.04, 179.4, 230.4, 228.16, 271.04, 254.0, 122.36, 64.5, 43.2, 147.84, 248.46, 75.4, 110.94, 89.53999999999998, 115.08, 242.52, 200.2, 222.04, 84.6, 209.6, 202.8, 178.16, 205.4, 268.8, 251.52, 373.76, 319.8, 350.88, 330.2, 301.86, 274.32, 317.5, 306.54, 234.0, 213.3, 228.16, 129.60000000000002, 77.5, 213.2, 202.8, 18.2, 13.1, 179.4, 207.5, 110.04, 297.66, 276.0, 260.0, 62.0, 133.28, 138.6, 70.0, 115.92, 34.44, 208.56, 191.52, 142.04000000000005, 133.28, 218.4, 208.56, 272.48, 224.4, 191.52, 252.2, 296.96, 244.4, 228.76, 186.2, 175.56, 262.0, 186.02, 171.52, 164.92000000000004, 301.6, 253.76, 136.74, 38.92, 95.76, 145.0, 157.20000000000005, 292.32, 141.48000000000005, 151.96, 48.24, 307.34, 67.60000000000001], \"y\": [117.87630462646484, 141.31031799316406, 92.41484832763672, 236.89341735839844, 203.64512634277344, 484.05096435546875, 103.7965316772461, 190.4031524658203, 398.9765625, 572.3668823242188, 195.65452575683594, 113.5173568725586, 258.9878845214844, 217.2051544189453, 134.02975463867188, 108.41557312011719, 307.50262451171875, 160.19224548339844, 67.8814926147461, 194.74876403808594, 91.4086685180664, 271.31622314453125, 190.6414031982422, 177.4756317138672, 97.44194030761719, 173.52503967285156, 150.55848693847656, 26.620573043823242, 166.7440643310547, 168.32896423339844, 214.02694702148438, 136.73631286621094, 157.32742309570312, 124.11339569091797, 222.04209899902344, 64.1812744140625, 194.38282775878906, 112.00630950927734, 24.069568634033203, 117.52800750732422, 4.663139820098877, 72.15111541748047, 154.16622924804688, 166.4584197998047, 114.0121841430664, 56.107513427734375, 135.2624969482422, 155.70094299316406, 242.6475067138672, 330.73223876953125, 242.96923828125, 58.553070068359375, 85.0797348022461, 156.56204223632812, 142.1664581298828, 155.62396240234375, 194.8242645263672, 229.80091857910156, 149.16510009765625, 425.8329772949219, 225.08531188964844, 2.422288417816162, 37.6004753112793, 164.24839782714844, 189.99676513671875, 130.1949920654297, 199.11373901367188, 273.49530029296875, 119.96794891357422, 7.9453325271606445, 164.26426696777344, 266.96697998046875, 214.71507263183594, 117.8086166381836, 233.79298400878906, 216.10655212402344, 88.54188537597656, 432.97314453125, 160.96250915527344, 285.0137939453125, 114.91045379638672, 48.52781295776367, 105.44796752929688, 237.3828582763672, 144.99093627929688, 18.35175323486328, 154.9574432373047, 315.865478515625, 193.2528839111328, 242.1864776611328, 257.9956359863281, 95.09903717041016, 146.31517028808594, 27.253551483154297, 151.499755859375, 172.0225372314453, 172.5081024169922, 11.565534591674805, 41.40106964111328, 272.1182861328125, 182.614013671875, 193.23670959472656, 119.1780014038086, 291.45343017578125, 249.2278289794922, 228.2014617919922, 279.63006591796875, 203.73248291015625, 324.0211181640625, 193.18951416015625, 58.124794006347656, 11.18535327911377, 14.98106861114502, 206.88824462890625, 415.97381591796875, 222.85414123535156, 141.4276580810547, 127.53643035888672, 71.57228088378906, 243.59603881835938, 263.71990966796875, 263.0231018066406, 135.35829162597656, 36.64117431640625, 193.34266662597656, 226.79098510742188, 239.2093505859375, 321.9041748046875, 302.3686828613281, 226.01925659179688, 293.867919921875, 14.769124984741211, 36.692989349365234, 209.53358459472656, 267.14898681640625, 128.6329803466797, 112.48348999023438, 22.42119789123535, 46.763248443603516, 174.26454162597656, 297.25128173828125, 244.9294891357422, 205.3238983154297, 173.96620178222656, 190.65061950683594, 44.289031982421875, 103.37109375, 177.9748992919922, 176.68084716796875, 256.4508361816406, 222.10789489746094, 313.0274353027344, 212.2247314453125, 28.910293579101562, 201.19854736328125, 250.76512145996094, 107.26644134521484, 119.67581939697266, 196.67601013183594, 170.03306579589844, 164.16159057617188, 224.51580810546875, 246.9911346435547, 186.0886688232422, 152.65895080566406, 163.75611877441406, 120.46366882324219, 155.86338806152344, 43.474266052246094, 182.2353973388672, 54.242088317871094, 157.5694122314453, 162.3116455078125, 209.1673126220703, 239.14263916015625, 206.2783966064453, 74.0634994506836, 229.74374389648438, 231.07485961914062, 288.9315490722656, 188.5931854248047, 245.88331604003906, 256.24212646484375, 186.59881591796875, 349.9678955078125, 239.11016845703125, 252.6178741455078, 134.53062438964844, 147.6163330078125, 116.67365264892578, 165.2412567138672, 146.90756225585938, 202.11012268066406, 256.27886962890625, 257.5178527832031, 109.21658325195312, 148.6473388671875, 166.2437286376953, 194.48809814453125, 191.13475036621094, 277.09307861328125, 120.37914276123047, 10.877108573913574, 91.94921112060547, 110.58502960205078, 217.34970092773438, 158.01966857910156, 283.2821960449219, 185.60693359375, 28.041349411010742, 248.135009765625, 148.2058868408203, 172.36647033691406, 187.31398010253906, 213.48422241210938, 259.5592346191406, 214.60971069335938, 201.24700927734375, 268.73809814453125, 0.7977603673934937, 293.634521484375, 301.02557373046875, 211.9131622314453, 201.66722106933594, 113.28936004638672, 241.92547607421875, 302.77081298828125, 224.16395568847656, 131.1451416015625, 232.38571166992188, 106.34444427490234, 166.90921020507812, 199.33082580566406, 183.2428741455078, 112.91307067871094, 131.57150268554688, 442.72894287109375, 141.70545959472656, 130.0487518310547, 257.6484069824219, 82.7240982055664, 261.03070068359375, 134.91494750976562, 142.9068145751953, 30.103734970092773, 250.1275634765625, 176.09080505371094, 223.28355407714844, 220.22830200195312, 263.2012939453125, 245.3231658935547, 119.20284271240234, 61.714088439941406, 38.19938278198242, 145.41427612304688, 239.8482208251953, 73.89938354492188, 107.03935241699219, 86.63665008544922, 112.90865325927734, 236.6588897705078, 195.35104370117188, 213.9727020263672, 85.47545623779297, 207.004150390625, 199.43736267089844, 176.4901885986328, 201.0843963623047, 261.4427185058594, 247.41773986816406, 364.0026550292969, 313.97979736328125, 341.97015380859375, 320.6388854980469, 293.7459411621094, 266.7373046875, 308.2354736328125, 300.3415832519531, 228.76795959472656, 214.1035919189453, 220.4676055908203, 128.53379821777344, 74.0350341796875, 210.6219482421875, 199.02932739257812, 14.124857902526855, 10.993170738220215, 175.31600952148438, 205.4845428466797, 107.52984619140625, 294.9189758300781, 268.2647705078125, 251.9949188232422, 58.87384033203125, 131.7722930908203, 152.3314971923828, 69.23368072509766, 116.10210418701172, 30.10210418701172, 206.25965881347656, 191.28968811035156, 139.85476684570312, 131.9462127685547, 213.48574829101562, 206.33204650878906, 269.0240478515625, 222.5312042236328, 189.44003295898438, 247.26319885253906, 288.6202697753906, 239.5164337158203, 228.37017822265625, 184.5715789794922, 174.7553253173828, 257.01641845703125, 184.57481384277344, 170.3845672607422, 163.9314422607422, 293.9748229980469, 245.91897583007812, 134.3966522216797, 36.13648986816406, 92.11568450927734, 141.3622589111328, 154.35362243652344, 283.41497802734375, 138.45420837402344, 148.90538024902344, 43.98326110839844, 298.12298583984375, 74.64761352539062]}, {\"marker\": {\"color\": \"red\", \"size\": 12}, \"mode\": \"markers\", \"name\": \"Young's Modulus (Testing)\", \"text\": [\"Ti2FeIr\", \"Ti2MnBe\", \"PaTiTc2\", \"Ti2MnCo\", \"LiTiIr2\", \"TiAlOs2\", \"TiGaRu2\", \"TiMnRh2\", \"Ti2MnIr\", \"TiGeRu2\", \"Ti2TcRu\", \"TiSiTc2\", \"TiSnRh2\", \"Ti2MnNi\", \"Ti2TcOs\", \"AcTiO3\", \"Ti2TcPd\", \"Ti2ZnRe\", \"TiTc2Mo\", \"Ti2GeC\", \"Ti2CdC\", \"Na2Ti2As2O\", \"RbTiAsO5\", \"LiTiPO5\", \"Tb2Ti2S2O5\", \"TiGaFeCo\", \"Nd2Ti2S2O5\", \"Sm2Ti2S2O5\", \"Na2Ti2Sb2O\", \"TiAlFeCo\", \"KNaTiO3\"], \"type\": \"scatter\", \"x\": [191.52, 142.04000000000005, 133.28, 218.4, 208.56, 272.48, 224.4, 191.52, 252.2, 296.96, 244.4, 228.76, 186.2, 175.56, 262.0, 186.02, 171.52, 164.92000000000004, 301.6, 253.76, 136.74, 38.92, 95.76, 145.0, 157.20000000000005, 292.32, 141.48000000000005, 151.96, 48.24, 307.34, 67.60000000000001], \"y\": [191.28968811035156, 139.85476684570312, 131.9462127685547, 213.48574829101562, 206.33204650878906, 269.0240478515625, 222.5312042236328, 189.44003295898438, 247.26319885253906, 288.6202697753906, 239.5164337158203, 228.37017822265625, 184.5715789794922, 174.7553253173828, 257.01641845703125, 184.57481384277344, 170.3845672607422, 163.9314422607422, 293.9748229980469, 245.91897583007812, 134.3966522216797, 36.13648986816406, 92.11568450927734, 141.3622589111328, 154.35362243652344, 283.41497802734375, 138.45420837402344, 148.90538024902344, 43.98326110839844, 298.12298583984375, 74.64761352539062]}, {\"mode\": \"lines\", \"name\": \"Match\", \"type\": \"scatter\", \"x\": [0, 600], \"y\": [0, 600]}],\n",
       "                        {\"height\": 600, \"hovermode\": \"closest\", \"legend\": {\"font\": {\"size\": 24}}, \"showlegend\": true, \"template\": {\"data\": {\"bar\": [{\"error_x\": {\"color\": \"#2a3f5f\"}, \"error_y\": {\"color\": \"#2a3f5f\"}, \"marker\": {\"line\": {\"color\": \"#E5ECF6\", \"width\": 0.5}}, \"type\": \"bar\"}], \"barpolar\": [{\"marker\": {\"line\": {\"color\": \"#E5ECF6\", \"width\": 0.5}}, \"type\": \"barpolar\"}], \"carpet\": [{\"aaxis\": {\"endlinecolor\": \"#2a3f5f\", \"gridcolor\": \"white\", \"linecolor\": \"white\", \"minorgridcolor\": \"white\", \"startlinecolor\": \"#2a3f5f\"}, \"baxis\": {\"endlinecolor\": \"#2a3f5f\", \"gridcolor\": \"white\", \"linecolor\": \"white\", \"minorgridcolor\": \"white\", \"startlinecolor\": \"#2a3f5f\"}, \"type\": \"carpet\"}], \"choropleth\": [{\"colorbar\": {\"outlinewidth\": 0, \"ticks\": \"\"}, \"type\": \"choropleth\"}], \"contour\": [{\"colorbar\": {\"outlinewidth\": 0, \"ticks\": \"\"}, \"colorscale\": [[0.0, \"#0d0887\"], [0.1111111111111111, \"#46039f\"], [0.2222222222222222, \"#7201a8\"], [0.3333333333333333, \"#9c179e\"], [0.4444444444444444, \"#bd3786\"], [0.5555555555555556, \"#d8576b\"], [0.6666666666666666, \"#ed7953\"], [0.7777777777777778, \"#fb9f3a\"], [0.8888888888888888, \"#fdca26\"], [1.0, \"#f0f921\"]], \"type\": \"contour\"}], \"contourcarpet\": [{\"colorbar\": {\"outlinewidth\": 0, \"ticks\": \"\"}, \"type\": \"contourcarpet\"}], \"heatmap\": [{\"colorbar\": {\"outlinewidth\": 0, \"ticks\": \"\"}, \"colorscale\": [[0.0, \"#0d0887\"], [0.1111111111111111, \"#46039f\"], [0.2222222222222222, \"#7201a8\"], [0.3333333333333333, \"#9c179e\"], [0.4444444444444444, \"#bd3786\"], [0.5555555555555556, \"#d8576b\"], [0.6666666666666666, \"#ed7953\"], [0.7777777777777778, \"#fb9f3a\"], [0.8888888888888888, \"#fdca26\"], [1.0, \"#f0f921\"]], \"type\": \"heatmap\"}], \"heatmapgl\": [{\"colorbar\": {\"outlinewidth\": 0, \"ticks\": \"\"}, \"colorscale\": [[0.0, \"#0d0887\"], [0.1111111111111111, \"#46039f\"], [0.2222222222222222, \"#7201a8\"], [0.3333333333333333, \"#9c179e\"], [0.4444444444444444, \"#bd3786\"], [0.5555555555555556, \"#d8576b\"], [0.6666666666666666, \"#ed7953\"], [0.7777777777777778, \"#fb9f3a\"], [0.8888888888888888, \"#fdca26\"], [1.0, \"#f0f921\"]], \"type\": \"heatmapgl\"}], \"histogram\": [{\"marker\": {\"colorbar\": {\"outlinewidth\": 0, \"ticks\": \"\"}}, \"type\": \"histogram\"}], \"histogram2d\": [{\"colorbar\": {\"outlinewidth\": 0, \"ticks\": \"\"}, \"colorscale\": [[0.0, \"#0d0887\"], [0.1111111111111111, \"#46039f\"], [0.2222222222222222, \"#7201a8\"], [0.3333333333333333, \"#9c179e\"], [0.4444444444444444, \"#bd3786\"], [0.5555555555555556, \"#d8576b\"], [0.6666666666666666, \"#ed7953\"], [0.7777777777777778, \"#fb9f3a\"], [0.8888888888888888, \"#fdca26\"], [1.0, \"#f0f921\"]], \"type\": \"histogram2d\"}], \"histogram2dcontour\": [{\"colorbar\": {\"outlinewidth\": 0, \"ticks\": \"\"}, \"colorscale\": [[0.0, \"#0d0887\"], [0.1111111111111111, \"#46039f\"], [0.2222222222222222, \"#7201a8\"], [0.3333333333333333, \"#9c179e\"], [0.4444444444444444, \"#bd3786\"], [0.5555555555555556, \"#d8576b\"], [0.6666666666666666, \"#ed7953\"], [0.7777777777777778, \"#fb9f3a\"], [0.8888888888888888, \"#fdca26\"], [1.0, \"#f0f921\"]], \"type\": \"histogram2dcontour\"}], \"mesh3d\": [{\"colorbar\": {\"outlinewidth\": 0, \"ticks\": \"\"}, \"type\": \"mesh3d\"}], \"parcoords\": [{\"line\": {\"colorbar\": {\"outlinewidth\": 0, \"ticks\": \"\"}}, \"type\": \"parcoords\"}], \"pie\": [{\"automargin\": true, \"type\": \"pie\"}], \"scatter\": [{\"marker\": {\"colorbar\": {\"outlinewidth\": 0, \"ticks\": \"\"}}, \"type\": \"scatter\"}], \"scatter3d\": [{\"line\": {\"colorbar\": {\"outlinewidth\": 0, \"ticks\": \"\"}}, \"marker\": {\"colorbar\": {\"outlinewidth\": 0, \"ticks\": \"\"}}, \"type\": \"scatter3d\"}], \"scattercarpet\": [{\"marker\": {\"colorbar\": {\"outlinewidth\": 0, \"ticks\": \"\"}}, \"type\": \"scattercarpet\"}], \"scattergeo\": [{\"marker\": {\"colorbar\": {\"outlinewidth\": 0, \"ticks\": \"\"}}, \"type\": \"scattergeo\"}], \"scattergl\": [{\"marker\": {\"colorbar\": {\"outlinewidth\": 0, \"ticks\": \"\"}}, \"type\": \"scattergl\"}], \"scattermapbox\": [{\"marker\": {\"colorbar\": {\"outlinewidth\": 0, \"ticks\": \"\"}}, \"type\": \"scattermapbox\"}], \"scatterpolar\": [{\"marker\": {\"colorbar\": {\"outlinewidth\": 0, \"ticks\": \"\"}}, \"type\": \"scatterpolar\"}], \"scatterpolargl\": [{\"marker\": {\"colorbar\": {\"outlinewidth\": 0, \"ticks\": \"\"}}, \"type\": \"scatterpolargl\"}], \"scatterternary\": [{\"marker\": {\"colorbar\": {\"outlinewidth\": 0, \"ticks\": \"\"}}, \"type\": \"scatterternary\"}], \"surface\": [{\"colorbar\": {\"outlinewidth\": 0, \"ticks\": \"\"}, \"colorscale\": [[0.0, \"#0d0887\"], [0.1111111111111111, \"#46039f\"], [0.2222222222222222, \"#7201a8\"], [0.3333333333333333, \"#9c179e\"], [0.4444444444444444, \"#bd3786\"], [0.5555555555555556, \"#d8576b\"], [0.6666666666666666, \"#ed7953\"], [0.7777777777777778, \"#fb9f3a\"], [0.8888888888888888, \"#fdca26\"], [1.0, \"#f0f921\"]], \"type\": \"surface\"}], \"table\": [{\"cells\": {\"fill\": {\"color\": \"#EBF0F8\"}, \"line\": {\"color\": \"white\"}}, \"header\": {\"fill\": {\"color\": \"#C8D4E3\"}, \"line\": {\"color\": \"white\"}}, \"type\": \"table\"}]}, \"layout\": {\"annotationdefaults\": {\"arrowcolor\": \"#2a3f5f\", \"arrowhead\": 0, \"arrowwidth\": 1}, \"coloraxis\": {\"colorbar\": {\"outlinewidth\": 0, \"ticks\": \"\"}}, \"colorscale\": {\"diverging\": [[0, \"#8e0152\"], [0.1, \"#c51b7d\"], [0.2, \"#de77ae\"], [0.3, \"#f1b6da\"], [0.4, \"#fde0ef\"], [0.5, \"#f7f7f7\"], [0.6, \"#e6f5d0\"], [0.7, \"#b8e186\"], [0.8, \"#7fbc41\"], [0.9, \"#4d9221\"], [1, \"#276419\"]], \"sequential\": [[0.0, \"#0d0887\"], [0.1111111111111111, \"#46039f\"], [0.2222222222222222, \"#7201a8\"], [0.3333333333333333, \"#9c179e\"], [0.4444444444444444, \"#bd3786\"], [0.5555555555555556, \"#d8576b\"], [0.6666666666666666, \"#ed7953\"], [0.7777777777777778, \"#fb9f3a\"], [0.8888888888888888, \"#fdca26\"], [1.0, \"#f0f921\"]], \"sequentialminus\": [[0.0, \"#0d0887\"], [0.1111111111111111, \"#46039f\"], [0.2222222222222222, \"#7201a8\"], [0.3333333333333333, \"#9c179e\"], [0.4444444444444444, \"#bd3786\"], [0.5555555555555556, \"#d8576b\"], [0.6666666666666666, \"#ed7953\"], [0.7777777777777778, \"#fb9f3a\"], [0.8888888888888888, \"#fdca26\"], [1.0, \"#f0f921\"]]}, \"colorway\": [\"#636efa\", \"#EF553B\", \"#00cc96\", \"#ab63fa\", \"#FFA15A\", \"#19d3f3\", \"#FF6692\", \"#B6E880\", \"#FF97FF\", \"#FECB52\"], \"font\": {\"color\": \"#2a3f5f\"}, \"geo\": {\"bgcolor\": \"white\", \"lakecolor\": \"white\", \"landcolor\": \"#E5ECF6\", \"showlakes\": true, \"showland\": true, \"subunitcolor\": \"white\"}, \"hoverlabel\": {\"align\": \"left\"}, \"hovermode\": \"closest\", \"mapbox\": {\"style\": \"light\"}, \"paper_bgcolor\": \"white\", \"plot_bgcolor\": \"#E5ECF6\", \"polar\": {\"angularaxis\": {\"gridcolor\": \"white\", \"linecolor\": \"white\", \"ticks\": \"\"}, \"bgcolor\": \"#E5ECF6\", \"radialaxis\": {\"gridcolor\": \"white\", \"linecolor\": \"white\", \"ticks\": \"\"}}, \"scene\": {\"xaxis\": {\"backgroundcolor\": \"#E5ECF6\", \"gridcolor\": \"white\", \"gridwidth\": 2, \"linecolor\": \"white\", \"showbackground\": true, \"ticks\": \"\", \"zerolinecolor\": \"white\"}, \"yaxis\": {\"backgroundcolor\": \"#E5ECF6\", \"gridcolor\": \"white\", \"gridwidth\": 2, \"linecolor\": \"white\", \"showbackground\": true, \"ticks\": \"\", \"zerolinecolor\": \"white\"}, \"zaxis\": {\"backgroundcolor\": \"#E5ECF6\", \"gridcolor\": \"white\", \"gridwidth\": 2, \"linecolor\": \"white\", \"showbackground\": true, \"ticks\": \"\", \"zerolinecolor\": \"white\"}}, \"shapedefaults\": {\"line\": {\"color\": \"#2a3f5f\"}}, \"ternary\": {\"aaxis\": {\"gridcolor\": \"white\", \"linecolor\": \"white\", \"ticks\": \"\"}, \"baxis\": {\"gridcolor\": \"white\", \"linecolor\": \"white\", \"ticks\": \"\"}, \"bgcolor\": \"#E5ECF6\", \"caxis\": {\"gridcolor\": \"white\", \"linecolor\": \"white\", \"ticks\": \"\"}}, \"title\": {\"x\": 0.05}, \"xaxis\": {\"automargin\": true, \"gridcolor\": \"white\", \"linecolor\": \"white\", \"ticks\": \"\", \"title\": {\"standoff\": 15}, \"zerolinecolor\": \"white\", \"zerolinewidth\": 2}, \"yaxis\": {\"automargin\": true, \"gridcolor\": \"white\", \"linecolor\": \"white\", \"ticks\": \"\", \"title\": {\"standoff\": 15}, \"zerolinecolor\": \"white\", \"zerolinewidth\": 2}}}, \"title\": {\"font\": {\"size\": 28}, \"text\": \"Neural Network Model - Young's Modulus\"}, \"width\": 1000, \"xaxis\": {\"gridwidth\": 1, \"tickfont\": {\"size\": 18}, \"title\": {\"font\": {\"size\": 24}, \"text\": \"Real Values (GPa)\"}, \"zeroline\": false}, \"yaxis\": {\"gridwidth\": 1, \"tickfont\": {\"size\": 18}, \"title\": {\"font\": {\"size\": 24}, \"text\": \"Prediction (GPa)\"}, \"zeroline\": false}},\n",
       "                        {\"responsive\": true}\n",
       "                    ).then(function(){\n",
       "                            \n",
       "var gd = document.getElementById('f9e6c73c-f706-4b02-af7e-0891b4d0fe92');\n",
       "var x = new MutationObserver(function (mutations, observer) {{\n",
       "        var display = window.getComputedStyle(gd).display;\n",
       "        if (!display || display === 'none') {{\n",
       "            console.log([gd, 'removed!']);\n",
       "            Plotly.purge(gd);\n",
       "            observer.disconnect();\n",
       "        }}\n",
       "}});\n",
       "\n",
       "// Listen for the removal of the full notebook cells\n",
       "var notebookContainer = gd.closest('#notebook-container');\n",
       "if (notebookContainer) {{\n",
       "    x.observe(notebookContainer, {childList: true});\n",
       "}}\n",
       "\n",
       "// Listen for the clearing of the current output cell\n",
       "var outputEl = gd.closest('.output');\n",
       "if (outputEl) {{\n",
       "    x.observe(outputEl, {childList: true});\n",
       "}}\n",
       "\n",
       "                        })\n",
       "                };\n",
       "                });\n",
       "            </script>\n",
       "        </div>"
      ]
     },
     "metadata": {},
     "output_type": "display_data"
    }
   ],
   "source": [
    "import plotly\n",
    "import plotly.graph_objs as go\n",
    "from plotly.offline import iplot\n",
    "\n",
    "plotly.offline.init_notebook_mode(connected=True)\n",
    "\n",
    "layout0= go.Layout(title=go.layout.Title(text=\"Neural Network Model - Young's Modulus\", font=dict(size=28)), hovermode= 'closest', width = 1000, height=600, showlegend=True,  # Hovermode establishes the way the labels that appear when you hover are arranged # Establishing a square plot width=height\n",
    "    xaxis= dict(title=go.layout.xaxis.Title(text='Real Values (GPa)', font=dict(size=24)), zeroline= False, gridwidth= 1, tickfont=dict(size=18)), # Axis Titles. Removing the X-axis Mark. Adding a Grid\n",
    "    yaxis= dict(title=go.layout.yaxis.Title(text='Prediction (GPa)', font=dict(size=24)), zeroline= False, gridwidth= 1, tickfont=dict(size=18)), # Axis Titles. Removing the Y-axis Mark. Adding a Grid\n",
    "    legend=dict(font=dict(size=24))) # Adding a legend\n",
    "\n",
    "trace0 = go.Scatter(x = all_labels, y = predictions, mode = 'markers', marker= dict(size= 12, color= 'blue'), text= elements, name = 'Young\\'s Modulus (Training)')\n",
    "trace1 = go.Scatter(x = test_labels, y = test_predictions, mode = 'markers', marker= dict(size= 12, color= 'red'), text = labeled_elements, name = 'Young\\'s Modulus (Testing)')\n",
    "trace2 = go.Scatter(x = [0,600], y = [0,600], mode = 'lines', name = \"Match\") # This trace is the line X = Y which would indicate that the Prediction equals the real value\n",
    "\n",
    "data = [trace0, trace1, trace2]\n",
    "fig= go.Figure(data, layout=layout0)\n",
    "iplot(fig)"
   ]
  },
  {
   "cell_type": "markdown",
   "metadata": {},
   "source": [
    " * <font color=blue> **Exercise 2.** Compare these results for the Young's Modulus with the ones you got from the Linear Regression Tutorial. How are they different? How can you explain this difference? </font>\n",
    " <br>\n",
    " \n",
    " * <font color=blue> **Exercise 3 (Advanced).** Uncomment a line in the cell [4] to use three hidden layers in the neural network and monitor the training. Is this model better than the one with two hidden layers? </font>"
   ]
  },
  {
   "cell_type": "code",
   "execution_count": 66,
   "metadata": {},
   "outputs": [
    {
     "name": "stdout",
     "output_type": "stream",
     "text": [
      "331/331 - 0s - loss: 6.7485e-06 - mean_absolute_error: 6.7485e-06\n",
      "Loss: 6.748470297619438e-06, Accuracy: 6.748470241291216e-06\n"
     ]
    }
   ],
   "source": [
    "model_loss, model_accuracy = model.evaluate(values, predictions,verbose=2)\n",
    "print(f\"Loss: {model_loss}, Accuracy: {model_accuracy}\")"
   ]
  },
  {
   "cell_type": "code",
   "execution_count": null,
   "metadata": {},
   "outputs": [],
   "source": []
  }
 ],
 "metadata": {
  "kernelspec": {
   "display_name": "PythonData",
   "language": "python",
   "name": "pythondata"
  },
  "language_info": {
   "codemirror_mode": {
    "name": "ipython",
    "version": 3
   },
   "file_extension": ".py",
   "mimetype": "text/x-python",
   "name": "python",
   "nbconvert_exporter": "python",
   "pygments_lexer": "ipython3",
   "version": "3.7.7"
  }
 },
 "nbformat": 4,
 "nbformat_minor": 2
}
