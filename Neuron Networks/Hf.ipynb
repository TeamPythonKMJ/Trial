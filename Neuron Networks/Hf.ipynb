{
 "cells": [
  {
   "cell_type": "markdown",
   "metadata": {},
   "source": [
    "### 1. Getting a dataset\n",
    "\n",
    "We have 12 datasets to explore in this notebook to predict the Young's Modulus with a three-layer neuron networks model with 2000 epochs. "
   ]
  },
  {
   "cell_type": "code",
   "execution_count": 1,
   "metadata": {},
   "outputs": [
    {
     "name": "stderr",
     "output_type": "stream",
     "text": [
      "C:\\Users\\Kayla Yano\\anaconda3\\envs\\PythonData\\lib\\site-packages\\tensorflow\\python\\framework\\dtypes.py:516: FutureWarning: Passing (type, 1) or '1type' as a synonym of type is deprecated; in a future version of numpy, it will be understood as (type, (1,)) / '(1,)type'.\n",
      "  _np_qint8 = np.dtype([(\"qint8\", np.int8, 1)])\n",
      "C:\\Users\\Kayla Yano\\anaconda3\\envs\\PythonData\\lib\\site-packages\\tensorflow\\python\\framework\\dtypes.py:517: FutureWarning: Passing (type, 1) or '1type' as a synonym of type is deprecated; in a future version of numpy, it will be understood as (type, (1,)) / '(1,)type'.\n",
      "  _np_quint8 = np.dtype([(\"quint8\", np.uint8, 1)])\n",
      "C:\\Users\\Kayla Yano\\anaconda3\\envs\\PythonData\\lib\\site-packages\\tensorflow\\python\\framework\\dtypes.py:518: FutureWarning: Passing (type, 1) or '1type' as a synonym of type is deprecated; in a future version of numpy, it will be understood as (type, (1,)) / '(1,)type'.\n",
      "  _np_qint16 = np.dtype([(\"qint16\", np.int16, 1)])\n",
      "C:\\Users\\Kayla Yano\\anaconda3\\envs\\PythonData\\lib\\site-packages\\tensorflow\\python\\framework\\dtypes.py:519: FutureWarning: Passing (type, 1) or '1type' as a synonym of type is deprecated; in a future version of numpy, it will be understood as (type, (1,)) / '(1,)type'.\n",
      "  _np_quint16 = np.dtype([(\"quint16\", np.uint16, 1)])\n",
      "C:\\Users\\Kayla Yano\\anaconda3\\envs\\PythonData\\lib\\site-packages\\tensorflow\\python\\framework\\dtypes.py:520: FutureWarning: Passing (type, 1) or '1type' as a synonym of type is deprecated; in a future version of numpy, it will be understood as (type, (1,)) / '(1,)type'.\n",
      "  _np_qint32 = np.dtype([(\"qint32\", np.int32, 1)])\n",
      "C:\\Users\\Kayla Yano\\anaconda3\\envs\\PythonData\\lib\\site-packages\\tensorflow\\python\\framework\\dtypes.py:525: FutureWarning: Passing (type, 1) or '1type' as a synonym of type is deprecated; in a future version of numpy, it will be understood as (type, (1,)) / '(1,)type'.\n",
      "  np_resource = np.dtype([(\"resource\", np.ubyte, 1)])\n",
      "C:\\Users\\Kayla Yano\\anaconda3\\envs\\PythonData\\lib\\site-packages\\tensorboard\\compat\\tensorflow_stub\\dtypes.py:541: FutureWarning: Passing (type, 1) or '1type' as a synonym of type is deprecated; in a future version of numpy, it will be understood as (type, (1,)) / '(1,)type'.\n",
      "  _np_qint8 = np.dtype([(\"qint8\", np.int8, 1)])\n",
      "C:\\Users\\Kayla Yano\\anaconda3\\envs\\PythonData\\lib\\site-packages\\tensorboard\\compat\\tensorflow_stub\\dtypes.py:542: FutureWarning: Passing (type, 1) or '1type' as a synonym of type is deprecated; in a future version of numpy, it will be understood as (type, (1,)) / '(1,)type'.\n",
      "  _np_quint8 = np.dtype([(\"quint8\", np.uint8, 1)])\n",
      "C:\\Users\\Kayla Yano\\anaconda3\\envs\\PythonData\\lib\\site-packages\\tensorboard\\compat\\tensorflow_stub\\dtypes.py:543: FutureWarning: Passing (type, 1) or '1type' as a synonym of type is deprecated; in a future version of numpy, it will be understood as (type, (1,)) / '(1,)type'.\n",
      "  _np_qint16 = np.dtype([(\"qint16\", np.int16, 1)])\n",
      "C:\\Users\\Kayla Yano\\anaconda3\\envs\\PythonData\\lib\\site-packages\\tensorboard\\compat\\tensorflow_stub\\dtypes.py:544: FutureWarning: Passing (type, 1) or '1type' as a synonym of type is deprecated; in a future version of numpy, it will be understood as (type, (1,)) / '(1,)type'.\n",
      "  _np_quint16 = np.dtype([(\"quint16\", np.uint16, 1)])\n",
      "C:\\Users\\Kayla Yano\\anaconda3\\envs\\PythonData\\lib\\site-packages\\tensorboard\\compat\\tensorflow_stub\\dtypes.py:545: FutureWarning: Passing (type, 1) or '1type' as a synonym of type is deprecated; in a future version of numpy, it will be understood as (type, (1,)) / '(1,)type'.\n",
      "  _np_qint32 = np.dtype([(\"qint32\", np.int32, 1)])\n",
      "C:\\Users\\Kayla Yano\\anaconda3\\envs\\PythonData\\lib\\site-packages\\tensorboard\\compat\\tensorflow_stub\\dtypes.py:550: FutureWarning: Passing (type, 1) or '1type' as a synonym of type is deprecated; in a future version of numpy, it will be understood as (type, (1,)) / '(1,)type'.\n",
      "  np_resource = np.dtype([(\"resource\", np.ubyte, 1)])\n"
     ]
    }
   ],
   "source": [
    "import pymatgen as pymat\n",
    "import mendeleev as mendel\n",
    "import pandas as pd\n",
    "import numpy as np\n",
    "from pathlib import Path\n",
    "import tensorflow as tf\n",
    "import tensorflow.keras\n",
    "from tensorflow.keras import initializers\n",
    "from tensorflow.keras.layers import Dense\n",
    "from tensorflow.keras.models import Sequential\n",
    "from tensorflow.keras import optimizers\n",
    "\n",
    "import sys\n",
    "import os\n",
    "sys.path.insert(0, '../src/')\n",
    "\n",
    "%matplotlib inline\n",
    "import matplotlib.pyplot as plt"
   ]
  },
  {
   "cell_type": "code",
   "execution_count": 8,
   "metadata": {
    "scrolled": true
   },
   "outputs": [
    {
     "data": {
      "text/html": [
       "<div>\n",
       "<style scoped>\n",
       "    .dataframe tbody tr th:only-of-type {\n",
       "        vertical-align: middle;\n",
       "    }\n",
       "\n",
       "    .dataframe tbody tr th {\n",
       "        vertical-align: top;\n",
       "    }\n",
       "\n",
       "    .dataframe thead th {\n",
       "        text-align: right;\n",
       "    }\n",
       "</style>\n",
       "<table border=\"1\" class=\"dataframe\">\n",
       "  <thead>\n",
       "    <tr style=\"text-align: right;\">\n",
       "      <th></th>\n",
       "      <th>Unnamed: 0</th>\n",
       "      <th>mp_id</th>\n",
       "      <th>Formula</th>\n",
       "      <th>Composition</th>\n",
       "      <th>IPF</th>\n",
       "      <th>Density</th>\n",
       "      <th>Elastic_Tensor</th>\n",
       "      <th>E_above_Hull</th>\n",
       "      <th>G_VRH</th>\n",
       "      <th>K_VRH</th>\n",
       "      <th>Elastic_Anisotropy</th>\n",
       "      <th>poisson_ratio</th>\n",
       "      <th>Y_Modulus</th>\n",
       "    </tr>\n",
       "  </thead>\n",
       "  <tbody>\n",
       "    <tr>\n",
       "      <th>0</th>\n",
       "      <td>0</td>\n",
       "      <td>mp-10000</td>\n",
       "      <td>Hf2S</td>\n",
       "      <td>{'Hf': 2.0, 'S': 1.0}</td>\n",
       "      <td>0.136645</td>\n",
       "      <td>11.035293</td>\n",
       "      <td>{'G_Reuss': 72.0, 'G_VRH': 74.0, 'G_Voigt': 76...</td>\n",
       "      <td>0.0</td>\n",
       "      <td>74.0</td>\n",
       "      <td>131.0</td>\n",
       "      <td>0.35</td>\n",
       "      <td>0.26</td>\n",
       "      <td>186.48</td>\n",
       "    </tr>\n",
       "    <tr>\n",
       "      <th>1</th>\n",
       "      <td>1</td>\n",
       "      <td>mp-1007691</td>\n",
       "      <td>HfPt</td>\n",
       "      <td>{'Hf': 1.0, 'Pt': 1.0}</td>\n",
       "      <td>0.125671</td>\n",
       "      <td>16.386166</td>\n",
       "      <td>{'G_Reuss': 46.0, 'G_VRH': 56.0, 'G_Voigt': 65...</td>\n",
       "      <td>0.0</td>\n",
       "      <td>56.0</td>\n",
       "      <td>179.0</td>\n",
       "      <td>2.11</td>\n",
       "      <td>0.36</td>\n",
       "      <td>152.32</td>\n",
       "    </tr>\n",
       "    <tr>\n",
       "      <th>2</th>\n",
       "      <td>2</td>\n",
       "      <td>mp-1014219</td>\n",
       "      <td>HfZn</td>\n",
       "      <td>{'Hf': 1.0, 'Zn': 1.0}</td>\n",
       "      <td>0.150526</td>\n",
       "      <td>11.233433</td>\n",
       "      <td>{'G_Reuss': 36.0, 'G_VRH': 45.0, 'G_Voigt': 55...</td>\n",
       "      <td>0.0</td>\n",
       "      <td>45.0</td>\n",
       "      <td>105.0</td>\n",
       "      <td>2.65</td>\n",
       "      <td>0.31</td>\n",
       "      <td>117.90</td>\n",
       "    </tr>\n",
       "    <tr>\n",
       "      <th>3</th>\n",
       "      <td>3</td>\n",
       "      <td>mp-1014231</td>\n",
       "      <td>Hf2Zn</td>\n",
       "      <td>{'Hf': 2.0, 'Zn': 1.0}</td>\n",
       "      <td>0.134078</td>\n",
       "      <td>11.755995</td>\n",
       "      <td>{'G_Reuss': 51.0, 'G_VRH': 59.0, 'G_Voigt': 66...</td>\n",
       "      <td>0.0</td>\n",
       "      <td>59.0</td>\n",
       "      <td>109.0</td>\n",
       "      <td>1.44</td>\n",
       "      <td>0.27</td>\n",
       "      <td>149.86</td>\n",
       "    </tr>\n",
       "    <tr>\n",
       "      <th>4</th>\n",
       "      <td>4</td>\n",
       "      <td>mp-1017578</td>\n",
       "      <td>HfBRh3</td>\n",
       "      <td>{'Hf': 1.0, 'B': 1.0, 'Rh': 3.0}</td>\n",
       "      <td>0.113834</td>\n",
       "      <td>11.683667</td>\n",
       "      <td>{'G_Reuss': 105.0, 'G_VRH': 107.0, 'G_Voigt': ...</td>\n",
       "      <td>0.0</td>\n",
       "      <td>107.0</td>\n",
       "      <td>239.0</td>\n",
       "      <td>0.21</td>\n",
       "      <td>0.30</td>\n",
       "      <td>278.20</td>\n",
       "    </tr>\n",
       "    <tr>\n",
       "      <th>...</th>\n",
       "      <td>...</td>\n",
       "      <td>...</td>\n",
       "      <td>...</td>\n",
       "      <td>...</td>\n",
       "      <td>...</td>\n",
       "      <td>...</td>\n",
       "      <td>...</td>\n",
       "      <td>...</td>\n",
       "      <td>...</td>\n",
       "      <td>...</td>\n",
       "      <td>...</td>\n",
       "      <td>...</td>\n",
       "      <td>...</td>\n",
       "    </tr>\n",
       "    <tr>\n",
       "      <th>213</th>\n",
       "      <td>214</td>\n",
       "      <td>mp-866117</td>\n",
       "      <td>HfZnAu2</td>\n",
       "      <td>{'Hf': 1.0, 'Zn': 1.0, 'Au': 2.0}</td>\n",
       "      <td>0.218506</td>\n",
       "      <td>14.750267</td>\n",
       "      <td>{'G_Reuss': 7.0, 'G_VRH': 17.0, 'G_Voigt': 28....</td>\n",
       "      <td>0.0</td>\n",
       "      <td>17.0</td>\n",
       "      <td>137.0</td>\n",
       "      <td>16.17</td>\n",
       "      <td>0.44</td>\n",
       "      <td>48.96</td>\n",
       "    </tr>\n",
       "    <tr>\n",
       "      <th>214</th>\n",
       "      <td>215</td>\n",
       "      <td>mp-867148</td>\n",
       "      <td>LiHfRh2</td>\n",
       "      <td>{'Li': 1.0, 'Hf': 1.0, 'Rh': 2.0}</td>\n",
       "      <td>0.149379</td>\n",
       "      <td>10.676110</td>\n",
       "      <td>{'G_Reuss': 57.0, 'G_VRH': 57.0, 'G_Voigt': 57...</td>\n",
       "      <td>0.0</td>\n",
       "      <td>57.0</td>\n",
       "      <td>152.0</td>\n",
       "      <td>0.00</td>\n",
       "      <td>0.33</td>\n",
       "      <td>151.62</td>\n",
       "    </tr>\n",
       "    <tr>\n",
       "      <th>215</th>\n",
       "      <td>216</td>\n",
       "      <td>mp-867327</td>\n",
       "      <td>Hf2TcRu</td>\n",
       "      <td>{'Hf': 2.0, 'Tc': 1.0, 'Ru': 1.0}</td>\n",
       "      <td>0.117472</td>\n",
       "      <td>13.451560</td>\n",
       "      <td>{'G_Reuss': 88.0, 'G_VRH': 91.0, 'G_Voigt': 94...</td>\n",
       "      <td>0.0</td>\n",
       "      <td>91.0</td>\n",
       "      <td>194.0</td>\n",
       "      <td>0.33</td>\n",
       "      <td>0.30</td>\n",
       "      <td>236.60</td>\n",
       "    </tr>\n",
       "    <tr>\n",
       "      <th>216</th>\n",
       "      <td>217</td>\n",
       "      <td>mp-977407</td>\n",
       "      <td>Hf2ReRh</td>\n",
       "      <td>{'Hf': 2.0, 'Re': 1.0, 'Rh': 1.0}</td>\n",
       "      <td>0.119739</td>\n",
       "      <td>15.307810</td>\n",
       "      <td>{'G_Reuss': 92.0, 'G_VRH': 93.0, 'G_Voigt': 93...</td>\n",
       "      <td>0.0</td>\n",
       "      <td>93.0</td>\n",
       "      <td>150.0</td>\n",
       "      <td>0.06</td>\n",
       "      <td>0.24</td>\n",
       "      <td>230.64</td>\n",
       "    </tr>\n",
       "    <tr>\n",
       "      <th>217</th>\n",
       "      <td>218</td>\n",
       "      <td>mp-983123</td>\n",
       "      <td>HfMgAu2</td>\n",
       "      <td>{'Hf': 1.0, 'Mg': 1.0, 'Au': 2.0}</td>\n",
       "      <td>0.205880</td>\n",
       "      <td>13.161858</td>\n",
       "      <td>{'G_Reuss': 23.0, 'G_VRH': 33.0, 'G_Voigt': 43...</td>\n",
       "      <td>0.0</td>\n",
       "      <td>33.0</td>\n",
       "      <td>110.0</td>\n",
       "      <td>4.12</td>\n",
       "      <td>0.36</td>\n",
       "      <td>89.76</td>\n",
       "    </tr>\n",
       "  </tbody>\n",
       "</table>\n",
       "<p>218 rows × 13 columns</p>\n",
       "</div>"
      ],
      "text/plain": [
       "     Unnamed: 0       mp_id  Formula                        Composition  \\\n",
       "0             0    mp-10000     Hf2S              {'Hf': 2.0, 'S': 1.0}   \n",
       "1             1  mp-1007691     HfPt             {'Hf': 1.0, 'Pt': 1.0}   \n",
       "2             2  mp-1014219     HfZn             {'Hf': 1.0, 'Zn': 1.0}   \n",
       "3             3  mp-1014231    Hf2Zn             {'Hf': 2.0, 'Zn': 1.0}   \n",
       "4             4  mp-1017578   HfBRh3   {'Hf': 1.0, 'B': 1.0, 'Rh': 3.0}   \n",
       "..          ...         ...      ...                                ...   \n",
       "213         214   mp-866117  HfZnAu2  {'Hf': 1.0, 'Zn': 1.0, 'Au': 2.0}   \n",
       "214         215   mp-867148  LiHfRh2  {'Li': 1.0, 'Hf': 1.0, 'Rh': 2.0}   \n",
       "215         216   mp-867327  Hf2TcRu  {'Hf': 2.0, 'Tc': 1.0, 'Ru': 1.0}   \n",
       "216         217   mp-977407  Hf2ReRh  {'Hf': 2.0, 'Re': 1.0, 'Rh': 1.0}   \n",
       "217         218   mp-983123  HfMgAu2  {'Hf': 1.0, 'Mg': 1.0, 'Au': 2.0}   \n",
       "\n",
       "          IPF    Density                                     Elastic_Tensor  \\\n",
       "0    0.136645  11.035293  {'G_Reuss': 72.0, 'G_VRH': 74.0, 'G_Voigt': 76...   \n",
       "1    0.125671  16.386166  {'G_Reuss': 46.0, 'G_VRH': 56.0, 'G_Voigt': 65...   \n",
       "2    0.150526  11.233433  {'G_Reuss': 36.0, 'G_VRH': 45.0, 'G_Voigt': 55...   \n",
       "3    0.134078  11.755995  {'G_Reuss': 51.0, 'G_VRH': 59.0, 'G_Voigt': 66...   \n",
       "4    0.113834  11.683667  {'G_Reuss': 105.0, 'G_VRH': 107.0, 'G_Voigt': ...   \n",
       "..        ...        ...                                                ...   \n",
       "213  0.218506  14.750267  {'G_Reuss': 7.0, 'G_VRH': 17.0, 'G_Voigt': 28....   \n",
       "214  0.149379  10.676110  {'G_Reuss': 57.0, 'G_VRH': 57.0, 'G_Voigt': 57...   \n",
       "215  0.117472  13.451560  {'G_Reuss': 88.0, 'G_VRH': 91.0, 'G_Voigt': 94...   \n",
       "216  0.119739  15.307810  {'G_Reuss': 92.0, 'G_VRH': 93.0, 'G_Voigt': 93...   \n",
       "217  0.205880  13.161858  {'G_Reuss': 23.0, 'G_VRH': 33.0, 'G_Voigt': 43...   \n",
       "\n",
       "     E_above_Hull  G_VRH  K_VRH  Elastic_Anisotropy  poisson_ratio  Y_Modulus  \n",
       "0             0.0   74.0  131.0                0.35           0.26     186.48  \n",
       "1             0.0   56.0  179.0                2.11           0.36     152.32  \n",
       "2             0.0   45.0  105.0                2.65           0.31     117.90  \n",
       "3             0.0   59.0  109.0                1.44           0.27     149.86  \n",
       "4             0.0  107.0  239.0                0.21           0.30     278.20  \n",
       "..            ...    ...    ...                 ...            ...        ...  \n",
       "213           0.0   17.0  137.0               16.17           0.44      48.96  \n",
       "214           0.0   57.0  152.0                0.00           0.33     151.62  \n",
       "215           0.0   91.0  194.0                0.33           0.30     236.60  \n",
       "216           0.0   93.0  150.0                0.06           0.24     230.64  \n",
       "217           0.0   33.0  110.0                4.12           0.36      89.76  \n",
       "\n",
       "[218 rows x 13 columns]"
      ]
     },
     "execution_count": 8,
     "metadata": {},
     "output_type": "execute_result"
    }
   ],
   "source": [
    "# df = pd.read_csv(Path('../All Data Export/Ti_compounds_dataframe.csv'))\n",
    "# df = pd.read_csv(Path('../All Data Export/C_compounds_dataframe.csv'))\n",
    "# df = pd.read_csv(Path('../All Data Export/Cr_compounds_dataframe.csv'))\n",
    "# df = pd.read_csv(Path('../All Data Export/Fe_compounds_dataframe.csv'))\n",
    "df = pd.read_csv(Path('../All Data Export/Hf_compounds_dataframe.csv'))\n",
    "# df = pd.read_csv(Path('../All Data Export/Mo_compounds_dataframe.csv'))\n",
    "# df = pd.read_csv(Path('../All Data Export/Nb_compounds_dataframe.csv'))\n",
    "# df = pd.read_csv(Path('../All Data Export/Ni_compounds_dataframe.csv'))\n",
    "# df = pd.read_csv(Path('../All Data Export/V_compounds_dataframe.csv'))\n",
    "# df = pd.read_csv(Path('../All Data Export/W_compounds_dataframe.csv'))\n",
    "# df = pd.read_csv(Path('../All Data Export/Zr_compounds_dataframe.csv'))\n",
    "# df = pd.read_csv(Path('../All Data Export/Ta_compounds_dataframe.csv'))\n",
    "df"
   ]
  },
  {
   "cell_type": "code",
   "execution_count": 9,
   "metadata": {},
   "outputs": [
    {
     "data": {
      "text/plain": [
       "Index(['Unnamed: 0', 'mp_id', 'Formula', 'Composition', 'IPF', 'Density',\n",
       "       'Elastic_Tensor', 'E_above_Hull', 'G_VRH', 'K_VRH',\n",
       "       'Elastic_Anisotropy', 'poisson_ratio', 'Y_Modulus'],\n",
       "      dtype='object')"
      ]
     },
     "execution_count": 9,
     "metadata": {},
     "output_type": "execute_result"
    }
   ],
   "source": [
    "df.columns"
   ]
  },
  {
   "cell_type": "code",
   "execution_count": 10,
   "metadata": {},
   "outputs": [
    {
     "data": {
      "text/html": [
       "<div>\n",
       "<style scoped>\n",
       "    .dataframe tbody tr th:only-of-type {\n",
       "        vertical-align: middle;\n",
       "    }\n",
       "\n",
       "    .dataframe tbody tr th {\n",
       "        vertical-align: top;\n",
       "    }\n",
       "\n",
       "    .dataframe thead th {\n",
       "        text-align: right;\n",
       "    }\n",
       "</style>\n",
       "<table border=\"1\" class=\"dataframe\">\n",
       "  <thead>\n",
       "    <tr style=\"text-align: right;\">\n",
       "      <th></th>\n",
       "      <th>IPF</th>\n",
       "      <th>Density</th>\n",
       "      <th>E_above_Hull</th>\n",
       "      <th>G_VRH</th>\n",
       "      <th>K_VRH</th>\n",
       "      <th>Elastic_Anisotropy</th>\n",
       "      <th>poisson_ratio</th>\n",
       "      <th>Y_Modulus</th>\n",
       "    </tr>\n",
       "  </thead>\n",
       "  <tbody>\n",
       "    <tr>\n",
       "      <th>0</th>\n",
       "      <td>0.136645</td>\n",
       "      <td>11.035293</td>\n",
       "      <td>0.0</td>\n",
       "      <td>74.0</td>\n",
       "      <td>131.0</td>\n",
       "      <td>0.35</td>\n",
       "      <td>0.26</td>\n",
       "      <td>186.48</td>\n",
       "    </tr>\n",
       "    <tr>\n",
       "      <th>1</th>\n",
       "      <td>0.125671</td>\n",
       "      <td>16.386166</td>\n",
       "      <td>0.0</td>\n",
       "      <td>56.0</td>\n",
       "      <td>179.0</td>\n",
       "      <td>2.11</td>\n",
       "      <td>0.36</td>\n",
       "      <td>152.32</td>\n",
       "    </tr>\n",
       "    <tr>\n",
       "      <th>2</th>\n",
       "      <td>0.150526</td>\n",
       "      <td>11.233433</td>\n",
       "      <td>0.0</td>\n",
       "      <td>45.0</td>\n",
       "      <td>105.0</td>\n",
       "      <td>2.65</td>\n",
       "      <td>0.31</td>\n",
       "      <td>117.90</td>\n",
       "    </tr>\n",
       "    <tr>\n",
       "      <th>3</th>\n",
       "      <td>0.134078</td>\n",
       "      <td>11.755995</td>\n",
       "      <td>0.0</td>\n",
       "      <td>59.0</td>\n",
       "      <td>109.0</td>\n",
       "      <td>1.44</td>\n",
       "      <td>0.27</td>\n",
       "      <td>149.86</td>\n",
       "    </tr>\n",
       "    <tr>\n",
       "      <th>4</th>\n",
       "      <td>0.113834</td>\n",
       "      <td>11.683667</td>\n",
       "      <td>0.0</td>\n",
       "      <td>107.0</td>\n",
       "      <td>239.0</td>\n",
       "      <td>0.21</td>\n",
       "      <td>0.30</td>\n",
       "      <td>278.20</td>\n",
       "    </tr>\n",
       "    <tr>\n",
       "      <th>...</th>\n",
       "      <td>...</td>\n",
       "      <td>...</td>\n",
       "      <td>...</td>\n",
       "      <td>...</td>\n",
       "      <td>...</td>\n",
       "      <td>...</td>\n",
       "      <td>...</td>\n",
       "      <td>...</td>\n",
       "    </tr>\n",
       "    <tr>\n",
       "      <th>213</th>\n",
       "      <td>0.218506</td>\n",
       "      <td>14.750267</td>\n",
       "      <td>0.0</td>\n",
       "      <td>17.0</td>\n",
       "      <td>137.0</td>\n",
       "      <td>16.17</td>\n",
       "      <td>0.44</td>\n",
       "      <td>48.96</td>\n",
       "    </tr>\n",
       "    <tr>\n",
       "      <th>214</th>\n",
       "      <td>0.149379</td>\n",
       "      <td>10.676110</td>\n",
       "      <td>0.0</td>\n",
       "      <td>57.0</td>\n",
       "      <td>152.0</td>\n",
       "      <td>0.00</td>\n",
       "      <td>0.33</td>\n",
       "      <td>151.62</td>\n",
       "    </tr>\n",
       "    <tr>\n",
       "      <th>215</th>\n",
       "      <td>0.117472</td>\n",
       "      <td>13.451560</td>\n",
       "      <td>0.0</td>\n",
       "      <td>91.0</td>\n",
       "      <td>194.0</td>\n",
       "      <td>0.33</td>\n",
       "      <td>0.30</td>\n",
       "      <td>236.60</td>\n",
       "    </tr>\n",
       "    <tr>\n",
       "      <th>216</th>\n",
       "      <td>0.119739</td>\n",
       "      <td>15.307810</td>\n",
       "      <td>0.0</td>\n",
       "      <td>93.0</td>\n",
       "      <td>150.0</td>\n",
       "      <td>0.06</td>\n",
       "      <td>0.24</td>\n",
       "      <td>230.64</td>\n",
       "    </tr>\n",
       "    <tr>\n",
       "      <th>217</th>\n",
       "      <td>0.205880</td>\n",
       "      <td>13.161858</td>\n",
       "      <td>0.0</td>\n",
       "      <td>33.0</td>\n",
       "      <td>110.0</td>\n",
       "      <td>4.12</td>\n",
       "      <td>0.36</td>\n",
       "      <td>89.76</td>\n",
       "    </tr>\n",
       "  </tbody>\n",
       "</table>\n",
       "<p>216 rows × 8 columns</p>\n",
       "</div>"
      ],
      "text/plain": [
       "          IPF    Density  E_above_Hull  G_VRH  K_VRH  Elastic_Anisotropy  \\\n",
       "0    0.136645  11.035293           0.0   74.0  131.0                0.35   \n",
       "1    0.125671  16.386166           0.0   56.0  179.0                2.11   \n",
       "2    0.150526  11.233433           0.0   45.0  105.0                2.65   \n",
       "3    0.134078  11.755995           0.0   59.0  109.0                1.44   \n",
       "4    0.113834  11.683667           0.0  107.0  239.0                0.21   \n",
       "..        ...        ...           ...    ...    ...                 ...   \n",
       "213  0.218506  14.750267           0.0   17.0  137.0               16.17   \n",
       "214  0.149379  10.676110           0.0   57.0  152.0                0.00   \n",
       "215  0.117472  13.451560           0.0   91.0  194.0                0.33   \n",
       "216  0.119739  15.307810           0.0   93.0  150.0                0.06   \n",
       "217  0.205880  13.161858           0.0   33.0  110.0                4.12   \n",
       "\n",
       "     poisson_ratio  Y_Modulus  \n",
       "0             0.26     186.48  \n",
       "1             0.36     152.32  \n",
       "2             0.31     117.90  \n",
       "3             0.27     149.86  \n",
       "4             0.30     278.20  \n",
       "..             ...        ...  \n",
       "213           0.44      48.96  \n",
       "214           0.33     151.62  \n",
       "215           0.30     236.60  \n",
       "216           0.24     230.64  \n",
       "217           0.36      89.76  \n",
       "\n",
       "[216 rows x 8 columns]"
      ]
     },
     "execution_count": 10,
     "metadata": {},
     "output_type": "execute_result"
    }
   ],
   "source": [
    "df.drop( df[ df['Y_Modulus'] < 0 ].index , inplace=True)\n",
    "df_original = df.copy\n",
    "elements = df['Formula'].tolist()\n",
    "df = df.drop(df.columns[[0, 1, 2, 3, 6]], axis=1)\n",
    "df"
   ]
  },
  {
   "cell_type": "markdown",
   "metadata": {},
   "source": [
    "### 2. Processing and Organizing Data\n",
    "\n",
    "Most machine learning models are trained on a subset of all the available data, called the \"training set\", and the models are tested on the remainder of the available data, called the \"testing set\". Model performance has often been found to be enhanced when the inputs are normalized.\n",
    "\n",
    "##### SETS\n",
    "\n",
    "1. With the dataset we just created, we have splitted the dataset for each of the 12 datasets:\n",
    "- C: 331 entries for our model. We will train with 300 cases and test on the remaining 31 elements to estimate Young's Modulus.\n",
    "- Cr: 331 entries for our model. We will train with 300 cases and test on the remaining 31 elements to estimate Young's Modulus.\n",
    "- Fe: 208 entries for our model. We will train with 182 cases and test on the remaining 26 elements to estimate Young's Modulus.\n",
    "- Hf: 216 entries for our model. We will train with 180 cases and test on the remaining 36 elements to estimate Young's Modulus.\n",
    "- Mo: 331 entries for our model. We will train with 300 cases and test on the remaining 31 elements to estimate Young's Modulus.\n",
    "- Nb: 331 entries for our model. We will train with 300 cases and test on the remaining 31 elements to estimate Young's Modulus.\n",
    "- Ni: 331 entries for our model. We will train with 300 cases and test on the remaining 31 elements to estimate Young's Modulus.\n",
    "- Ta: 331 entries for our model. We will train with 300 cases and test on the remaining 31 elements to estimate Young's Modulus.\n",
    "- Ti: 331 entries for our model. We will train with 300 cases and test on the remaining 31 elements to estimate Young's Modulus.\n",
    "- V: 331 entries for our model. We will train with 300 cases and test on the remaining 31 elements to estimate Young's Modulus.\n",
    "- W: 331 entries for our model. We will train with 300 cases and test on the remaining 31 elements to estimate Young's Modulus.\n",
    "- Zr: 331 entries for our model. We will train with 300 cases and test on the remaining 31 elements to estimate Young's Modulus.\n",
    "\n",
    "\n",
    "\n",
    "##### NORMALIZATION\n",
    "\n",
    "Each one of these input data features has different units and is represented in scales with distinct orders of magnitude. Datasets that contain inputs like this need to be normalized, so that quantities with large values do not *overwhelm* the neural network, forcing it tune its weights to account for the different scales of our input data. In this work, we will use the Standard Score Normalization, which subtracts the mean of the feature and divide by its standard deviation.\n",
    "\n",
    "<span style=\"font-size:2em;\">$ \\frac{X - µ}{σ} $ </span>\n",
    "\n",
    "While our model might converge without feature normalization, the resultant model would be difficult to train and would be dependent on the choice of units used in the input."
   ]
  },
  {
   "cell_type": "code",
   "execution_count": 11,
   "metadata": {},
   "outputs": [
    {
     "name": "stdout",
     "output_type": "stream",
     "text": [
      "[[0.13664499099162022, 11.035293401851733, 0.0, 74.0, 131.0, 0.35, 0.26, 186.48], [0.12567138832711286, 16.386166374793135, 0.0, 56.0, 179.0, 2.11, 0.36, 152.32], [0.15052614731833802, 11.233433359849725, 0.0, 45.0, 105.0, 2.65, 0.31, 117.9], [0.13407767581292296, 11.755995269633848, 0.0, 59.0, 109.0, 1.44, 0.27, 149.86], [0.1138340921438044, 11.683667115537608, 0.0, 107.0, 239.0, 0.21, 0.3, 278.2], [0.22760481086404835, 16.85545310020971, 0.0, 7.0, 166.0, -11.64, 0.48, 20.72], [0.2006851676851996, 14.046196813513891, 0.0, 49.0, 99.0, 2.47, 0.29, 126.42], [0.10813965974674028, 8.891443343651765, 0.0, 67.0, 152.0, 10.2, 0.31, 175.54000000000005], [0.1205226605047303, 9.213001864321164, 0.7562808181820202, 83.0, 153.0, 0.34, 0.27, 210.82], [0.10503518316536073, 9.794990780830307, 0.0, 86.0, 123.0, 0.17, 0.22, 209.84], [0.12583326870914552, 13.104407871994354, 0.0, 116.0, 219.0, 0.46, 0.27, 294.64], [0.13884166174227047, 7.258144412600615, 0.0, 75.0, 157.0, 2.17, 0.29, 193.5], [0.0940669109016184, 9.983668416346172, 0.0, 96.0, 153.0, 0.42, 0.24, 238.08], [0.11094838095451093, 13.660207623866127, 0.0, 101.0, 192.0, 0.11, 0.28, 258.56], [0.0791354308903397, 7.923770341067673, 0.0, 94.0, 132.0, 0.31, 0.21, 227.48], [0.14246352133965606, 9.27770951274905, 0.0, 52.0, 134.0, 0.81, 0.33, 138.32], [0.1168180033062158, 9.296638367028644, 0.0, 71.0, 102.0, 0.54, 0.22, 173.24], [0.11983531071129234, 10.56714997908614, 0.0, 64.0, 117.0, 0.15, 0.27, 162.56], [0.11463855701716245, 11.305549762493234, 0.0, 53.0, 192.0, 0.57, 0.37, 145.22], [0.11122222721955273, 17.691256108011668, 0.0, 117.0, 229.0, 0.07, 0.28, 299.52], [0.15734991099451046, 12.765412481153302, 0.0, 85.0, 179.0, 0.1, 0.3, 221.0], [0.1309518728829626, 13.114808668994575, 0.0, 55.0, 137.0, 1.0, 0.32, 145.20000000000005], [0.13864327525762607, 19.26316891356115, 0.0, 106.0, 233.0, 0.08, 0.3, 275.6], [0.12231376902174355, 13.277643723481386, 0.0, 26.0, 179.0, 5.65, 0.43, 74.36], [0.12289215843178194, 13.17873105025321, 0.0, 76.0, 192.0, 0.33, 0.33, 202.16000000000003], [0.2165650759452626, 6.1321945026126405, 0.0, 7.0, 12.0, -636.38, 0.26, 17.64], [0.09893928154294604, 7.417120882692784, 0.0, 88.0, 120.0, 0.04, 0.21, 212.96], [0.22388832217610508, 10.619963158606133, 0.0, 36.0, 76.0, 0.79, 0.3, 93.6], [0.17170594962226154, 13.301477297724382, 0.0, 62.0, 131.0, 0.16, 0.3, 161.20000000000005], [0.16838063369974687, 12.354977355642154, 0.0, 53.0, 111.0, 0.57, 0.29, 136.74], [0.2011502287825888, 12.035177540265298, 0.0, 50.0, 117.0, 1.38, 0.31, 131.0], [0.11445983399408725, 16.353799263817578, 0.0, 94.0, 223.0, 0.08, 0.32, 248.16000000000003], [0.15110373397285926, 6.660319739915408, 0.0, 10.0, 16.0, 38.73, 0.24, 24.8], [0.11240674050417636, 12.131201187088935, 0.0, 49.0, 114.0, 0.2, 0.31, 128.38], [0.1072046799425615, 17.504307962822743, 0.0, 75.0, 262.0, 0.16, 0.37, 205.50000000000003], [0.12406675294806944, 13.208236294803006, 0.0, 67.0, 194.0, 0.31, 0.35, 180.9], [0.105423415512598, 11.121718898093974, 0.0, 242.0, 251.0, 0.15, 0.13, 546.92], [0.11273494286978003, 6.088097490385845, 0.0, 120.0, 131.0, 0.35, 0.15, 276.0], [0.1430783401960587, 12.612707165310582, 0.0, 56.0, 153.0, 0.0, 0.34, 150.08], [0.0995905482836402, 10.827438349409347, 0.0, 95.0, 145.0, 0.42, 0.23, 233.7], [0.10674926577623893, 12.574167509289296, 0.0, 180.0, 236.0, 0.02, 0.2, 432.0], [0.11300966555026913, 11.687483775705786, 0.0, 47.0, 113.0, 0.62, 0.32, 124.08], [0.13122077822544315, 20.07022773330061, 0.0, 149.0, 276.0, 0.84, 0.27, 378.46], [0.12980326583945076, 14.419807216888756, 0.0, 79.0, 177.0, 0.12, 0.31, 206.98], [0.09989513789325877, 9.507866352945703, 0.0, 49.0, 84.0, 0.16, 0.26, 123.48], [0.1353086414411525, 9.280932966416817, 0.0, 45.0, 72.0, 0.15, 0.24, 111.6], [0.14317211265699495, 10.755335245579223, 0.0, 125.0, 213.0, 0.13, 0.25, 312.5], [0.15654429526287653, 12.08938879756792, 0.0, 74.0, 156.0, 0.03, 0.3, 192.4], [0.11864999037820576, 11.274807982924163, 0.0, 68.0, 200.0, 0.08, 0.35, 183.6], [0.09840191095280997, 11.465647618706155, 0.0, 34.0, 149.0, 2.78, 0.4, 95.2], [0.11076774161773456, 13.595489123903773, 0.0, 97.0, 197.0, 0.31, 0.29, 250.26], [0.15496349111479546, 13.68399702743658, 0.0, 156.0, 266.0, 0.5, 0.25, 390.0], [0.19595687221280236, 9.956184756179178, 0.0, 20.0, 27.0, 17.03, 0.21, 48.4], [0.0870954861501036, 9.533367618936154, 0.0, 75.0, 115.0, 0.17, 0.23, 184.5], [0.16611088655172618, 14.868838162272347, 0.0, 59.0, 134.0, 0.51, 0.31, 154.58], [0.11717924324793598, 11.88891965273489, 0.0, 63.0, 119.0, 0.3, 0.27, 160.02], [0.13241695776686302, 12.404239688067404, 0.0, 58.0, 123.0, 0.31, 0.3, 150.8], [0.12007997413236045, 11.7025525432454, 0.0, 62.0, 118.0, 0.14, 0.28, 158.72], [0.1940123821484706, 6.750964371441537, 0.0, 12.0, 15.0, 5.62, 0.18, 28.32], [0.5512749415048843, 9.967760511667569, 0.0, 99.0, 205.0, 0.39, 0.29, 255.42], [0.14978850713972922, 11.089261060280066, 0.0, 77.0, 174.0, 0.23, 0.31, 201.74], [0.22761554267339196, 7.568477435002233, 0.0, 23.0, 40.0, 0.36, 0.26, 57.96], [0.1050570174693985, 11.585320957146832, 0.0, 76.0, 149.0, 0.37, 0.28, 194.56], [0.1138694759935038, 11.51977857560992, 0.0, 63.0, 112.0, 0.14, 0.26, 158.76], [0.1664592184863998, 10.32375427190673, 0.0, 58.0, 113.0, 0.01, 0.28, 148.48], [0.13952560320899848, 9.77911775563249, 0.0, 89.0, 172.0, 0.05, 0.28, 227.84], [0.22018826435398606, 6.835810424305077, 0.0, 11.0, 13.0, 4.95, 0.18, 25.96], [0.1658499907106241, 5.400571418832724, 0.0, 2.0, 4.0, 26.87, 0.31, 5.24], [0.0935234437574054, 6.258946747844143, 0.0, 80.0, 106.0, 0.07, 0.2, 192.0], [0.1289817232301653, 9.53065434016704, 0.0, 49.0, 164.0, 0.12, 0.36, 133.28], [0.15874841505735068, 11.34403774977089, 0.0, 83.0, 134.0, 0.0, 0.24, 205.84], [0.4942545692488997, 8.894546505863863, 0.0, 107.0, 205.0, 0.32, 0.28, 273.92], [0.5526835917226333, 6.523326479850986, 0.0, 68.0, 106.0, 1.61, 0.24, 168.64], [0.2135036831793972, 10.507988985740106, 0.0, 68.0, 191.0, 0.02, 0.34, 182.24], [0.12181406085996364, 17.428252039097995, 0.0, 105.0, 216.0, 0.03, 0.29, 270.90000000000003], [0.13305471164061616, 13.236933407870676, 0.0, 141.0, 195.0, -3.24, 0.21, 341.22], [0.12347198354128122, 13.322360442098262, 0.0, 89.0, 190.0, 0.24, 0.3, 231.4], [0.13889210126408025, 12.097395266457289, 0.0, 145.0, 174.0, -4.87, 0.17, 339.2999999999999], [0.15882997756775802, 12.277199346188427, 0.0, 70.0, 169.0, 0.5, 0.32, 184.8], [0.12464155003319535, 15.420878918462625, 0.0, 16.0, 193.0, -60.45, 0.46, 46.72], [0.4697286174352082, 6.266217795969699, 0.0, 33.0, 99.0, -0.96, 0.35, 89.10000000000002], [0.15997770303495354, 13.019413470741158, 0.0, 42.0, 137.0, 0.02, 0.36, 114.24], [0.11010550265716387, 12.359049965962232, 0.0, 109.0, 202.0, 0.0, 0.27, 276.86], [0.15326837536500493, 14.654857191725625, 0.0, 18.0, 143.0, 8.13, 0.44, 51.84], [0.11661828816218148, 10.340458014050489, 0.0, 80.0, 105.0, 0.01, 0.19, 190.4], [0.12145391404783733, 11.89511185220192, 0.0, 84.0, 129.0, 0.22, 0.23, 206.64], [0.12431470863228496, 5.0918380174770865, 0.0, 12.0, 18.0, 32.49, 0.23, 29.52], [0.10321646657026493, 11.370262047759475, 0.0, 100.0, 141.0, 0.1, 0.21, 242.0], [0.12082841952281732, 12.214342536221507, 0.0, 93.0, 133.0, 0.09, 0.22, 226.92], [0.09039541028541964, 9.617071686786133, 0.0, 86.0, 148.0, 0.7, 0.26, 216.72], [0.09430434230042033, 10.50738497020294, 0.0, 66.0, 127.0, 1.17, 0.28, 168.96], [0.10523151538459116, 9.767269921844774, 0.0, 64.0, 88.0, 0.18, 0.21, 154.88], [0.12792799383877282, 8.568621628487296, 0.0, 91.0, 131.0, 0.37, 0.22, 222.04], [0.12011967315713455, 8.553411913699026, 0.0, 47.0, 87.0, 0.16, 0.27, 119.38], [0.15335047153311, 10.186286119521098, 0.0, 82.0, 159.0, 0.27, 0.28, 209.92], [0.20663648638723656, 7.781490042947744, 0.0, 131.0, 171.0, 0.09, 0.19, 311.78], [0.20554931710290644, 4.266638349974847, 0.0, 42.0, 88.0, 0.65, 0.3, 109.2], [0.253405790804955, 7.810629749093035, 0.0, 44.0, 104.0, 1.34, 0.32, 116.16], [0.4896846909116286, 7.857130848240477, 0.0, 89.0, 165.0, 0.01, 0.27, 226.06], [0.13585387358029066, 11.15244048546261, 0.0, 123.0, 177.0, 0.1, 0.22, 300.12], [0.30081884186381797, 4.657618968537462, 0.0, 10.0, 22.0, 0.36, 0.3, 26.0], [0.3264272462899458, 4.956427103331968, 0.0, 9.0, 20.0, 0.62, 0.31, 23.58], [0.11738917883976188, 12.209879861316633, 0.0, 71.0, 126.0, 0.13, 0.26, 178.92], [0.11172188300453796, 7.941810442311634, 0.0, 65.0, 133.0, 0.39, 0.29, 167.70000000000005], [0.13445921276011266, 10.449847508526377, 0.0, 26.0, 163.0, 0.83, 0.42, 73.84], [0.10142583980161024, 8.099191920484259, 0.0, 87.0, 135.0, 0.48, 0.24, 215.76], [0.14345861405182006, 11.277754158958096, 0.0, 78.0, 164.0, 0.26, 0.3, 202.8], [0.12257467462127325, 11.270810856076734, 0.0, 92.0, 130.0, 0.1, 0.21, 222.64], [0.15446623864784298, 11.1212707640574, 0.0, 91.0, 197.0, 0.25, 0.3, 236.6], [0.1313705399739075, 11.312613983130827, 0.0, 72.0, 140.0, 0.29, 0.28, 184.32], [0.12117100062177848, 9.80782254883722, 0.0, 85.0, 155.0, 0.19, 0.27, 215.9], [0.10993765448313174, 9.894290736464225, 0.0, 99.0, 179.0, 0.38, 0.27, 251.46], [0.11938797035614533, 11.443787490440293, 0.0, 86.0, 166.0, 0.39, 0.28, 220.16], [0.2407846555831083, 4.629361637520222, 0.0, 4.0, 7.0, 0.16, 0.25, 10.0], [0.1278047672145368, 3.770547470234981, 0.0, 2.0, 7.0, 21.79, 0.39, 5.5600000000000005], [0.537600254539401, 7.508740708806549, 0.0, 91.0, 157.0, 0.03, 0.26, 229.32], [0.5022555951357943, 7.366993710789258, 0.2949562499985348, 96.0, 171.0, 0.03, 0.26, 241.92], [0.09931166450010016, 10.204990052909881, 0.0, 70.0, 124.0, 0.88, 0.26, 176.4], [0.08863918620688065, 7.559589081723894, 0.0, 156.0, 197.0, 0.04, 0.19, 371.28], [0.10678576481450368, 8.567434555117648, 0.0, 76.0, 174.0, 0.22, 0.31, 199.12], [0.11427336162014227, 12.57193090160991, 0.0, 76.0, 163.0, 0.42, 0.3, 197.6], [0.1158578041901092, 11.397622854826212, 0.0, 94.0, 167.0, 0.23, 0.26, 236.88], [0.16234180845596385, 10.620592650408627, 0.0, 49.0, 123.0, 1.36, 0.32, 129.36], [0.105043420828615, 8.947031143465356, 0.0, 72.0, 113.0, 0.29, 0.24, 178.56], [0.13720277709958895, 12.903121813888525, 0.0, 48.0, 136.0, 0.09, 0.34, 128.64], [0.15253368300741574, 15.393500449612787, 0.0, 67.0, 172.0, 0.09, 0.33, 178.22], [0.16424439323503556, 11.38323868995964, 0.0, 76.0, 160.0, 0.19, 0.29, 196.08], [0.154999507970663, 11.7061383892188, 0.0, 30.0, 145.0, 6.63, 0.4, 84.0], [0.14550903200189205, 16.542443464045306, 0.0, 87.0, 213.0, 0.56, 0.32, 229.68], [0.15815597147620028, 10.75546821566332, 0.0, 49.0, 151.0, 0.67, 0.35, 132.3], [0.13426761657501612, 15.200091065381393, 0.0, 40.0, 190.0, 1.96, 0.4, 112.0], [0.11843081102785548, 14.790747531785474, 0.0, 93.0, 201.0, 0.0, 0.3, 241.8], [0.11011687079862767, 12.055646882307522, 0.0, 76.0, 196.0, 0.06, 0.33, 202.16000000000003], [0.1226579011020078, 12.053838184252177, 0.0, 92.0, 204.0, 0.09, 0.3, 239.2], [0.14875883246941726, 9.954600818004609, 0.0, 38.0, 127.0, 0.76, 0.37, 104.12], [0.11284096726266027, 11.465978481306164, 0.0, 68.0, 177.0, 0.52, 0.33, 180.88], [0.1232767241774399, 11.527850109864431, 0.0, 92.0, 216.0, 0.34, 0.31, 241.04], [0.11906674207265007, 11.275349871819026, 0.0, 66.0, 213.0, 0.08, 0.36, 179.51999999999995], [0.14906680671104114, 9.108180340672877, 0.0, 65.0, 130.0, 0.11, 0.29, 167.70000000000005], [0.16954685784914406, 12.201588250745845, 0.0, 58.0, 163.0, 0.81, 0.34, 155.44], [0.13636325971507504, 15.144160510755146, 0.0, 94.0, 196.0, 0.15, 0.29, 242.52], [0.1473302630840583, 16.758906102588803, 0.0, 87.0, 185.0, 0.04, 0.3, 226.2], [0.16226487257461902, 17.009230782355054, 0.0, 46.0, 159.0, 0.84, 0.37, 126.04], [0.1324384834314852, 14.067112963479392, 0.0, 58.0, 160.0, 0.83, 0.34, 155.44], [0.16939683382649162, 11.322827521885165, 0.0, 107.0, 179.0, 0.0, 0.25, 267.5], [0.09535688934056788, 11.451379172256054, 0.0, 106.0, 224.0, 0.21, 0.3, 275.6], [0.17137346056832614, 10.508916435563304, 0.0, 43.0, 133.0, 2.19, 0.35, 116.1], [0.12114553533474155, 14.257435600687034, 0.0, 119.0, 244.0, 0.38, 0.29, 307.02], [0.16372776715599732, 10.116685379202648, 0.0, 21.0, 117.0, 1.01, 0.41, 59.22], [0.5662527802927395, 6.696301950978991, 0.0, 39.0, 87.0, 2.09, 0.3, 101.4], [0.213098908303736, 4.933313512420983, 0.0, 30.0, 58.0, 0.51, 0.28, 76.8], [0.13385385196562244, 12.478859184793198, 0.0, 72.0, 168.0, 0.46, 0.31, 188.64], [0.12238673574129814, 10.936016159610116, 0.0, 67.0, 141.0, 0.32, 0.29, 172.86], [0.6002672853970712, 8.265722127033019, 0.0, 91.0, 231.0, 0.36, 0.33, 242.06], [0.11729662155787472, 15.456555803915226, 0.0, 87.0, 209.0, 0.2, 0.32, 229.68], [0.12095204513721505, 12.895281433371922, 0.0, 78.0, 167.0, 0.16, 0.3, 202.8], [0.1263726775396452, 11.546380327591596, 0.0, 92.0, 181.0, 0.11, 0.28, 235.52], [0.16546743070198322, 9.628102428037316, 0.0, 91.0, 166.0, 0.01, 0.27, 231.14], [0.5592452821163515, 8.128152024375227, 0.0, 103.0, 159.0, 0.05, 0.23, 253.38], [0.13434028389235625, 10.680585737587169, 0.0, 87.0, 160.0, 0.1, 0.27, 220.98], [0.15308802557706766, 9.189652945657793, 0.0, 86.0, 185.0, 0.78, 0.3, 223.6], [0.14059969193810096, 12.355188684876866, 0.0, 90.0, 150.0, 0.17, 0.25, 225.0], [0.1376447653017438, 10.602489476252266, 0.0, 66.0, 137.0, 0.27, 0.29, 170.28], [0.12966791645453896, 10.078490831248756, 0.0, 78.0, 146.0, 2.05, 0.27, 198.12], [0.2110218377504384, 7.206595653455494, 0.0, 45.0, 116.0, 2.09, 0.33, 119.7], [0.147003871560571, 10.982686749777372, 0.0, 74.0, 143.0, 0.35, 0.28, 189.44], [0.1179125129366318, 10.620097420985305, 0.0, 92.0, 169.0, 0.22, 0.27, 233.68], [0.11651553280058832, 10.403809373076854, 0.0, 58.0, 122.0, 0.18, 0.3, 150.8], [0.09634352201310643, 8.428040308198607, 0.0, 118.0, 148.0, 0.13, 0.18, 278.48], [0.10400692854260322, 10.767332220524494, 0.0, 97.0, 190.0, 0.17, 0.28, 248.32], [0.13716645488418386, 8.568019088934513, 0.0, 56.0, 83.0, 6.59, 0.22, 136.64], [0.17728895988240084, 8.002290105103926, 0.0, 27.0, 31.0, 12.39, 0.16, 62.63999999999999], [0.2087388811770688, 9.690570755754587, 0.0, 62.0, 95.0, 0.4, 0.23, 152.52], [0.09877023792325486, 11.370875309069955, 0.0, 95.0, 221.0, 0.12, 0.31, 248.9], [0.13404263804439628, 10.301990598881355, 0.0, 80.0, 148.0, 0.49, 0.27, 203.2], [0.0966818720265477, 9.599635635693062, 0.0, 86.0, 162.0, 1.21, 0.27, 218.44], [0.10366064181594682, 10.04908561554056, 0.0, 104.0, 189.0, 0.48, 0.27, 264.16], [0.11741487571126825, 11.64392786406013, 0.0, 64.0, 147.0, 0.23, 0.31, 167.68], [0.13708153501744832, 13.234157116131149, 0.0, 59.0, 112.0, 0.21, 0.28, 151.04], [0.20796258089556968, 4.047250531786443, 0.0, 15.0, 40.0, 1.38, 0.33, 39.90000000000001], [0.10436338957619094, 9.03245470779134, 0.0, 219.0, 269.0, 0.2, 0.18, 516.8399999999998], [0.10918324130666412, 11.553737618642865, 0.0, 86.0, 138.0, 0.12, 0.24, 213.28], [0.09543558404925516, 4.077358132921794, 0.0, 33.0, 75.0, 6.08, 0.31, 86.46000000000002], [0.1708824205573968, 7.387807545803916, 0.0, 12.0, 23.0, -127.26, 0.28, 30.72], [0.09723617981307917, 6.767895148616204, 0.0, 18.0, 38.0, 51.8, 0.3, 46.8], [0.11494683038508866, 8.748421436815603, 0.0, 106.0, 190.0, 0.09, 0.27, 269.24], [0.1102126498753483, 10.709118195422722, 0.0, 121.0, 208.0, 0.06, 0.26, 304.92], [0.5425095163254026, 7.531869925084744, 0.0, 71.0, 124.0, 0.23, 0.26, 178.92], [0.5323969613497536, 7.165757046133867, 0.0, 60.0, 110.0, 0.28, 0.27, 152.4], [0.12131199832674122, 7.8981348005784024, 0.0, 92.0, 135.0, 0.18, 0.22, 224.48], [0.15449044156762115, 9.575608495499992, 0.0, 74.0, 112.0, 0.18, 0.23, 182.04], [0.13933871512335572, 8.927945661200548, 0.0, 82.0, 127.0, 0.12, 0.24, 203.36], [0.1356684180741165, 13.17531750378943, 0.0, 54.0, 147.0, 0.05, 0.34, 144.72], [0.116593965259236, 10.8710543432268, 0.0, 131.0, 187.0, -4.88, 0.22, 319.64], [0.12671033907847126, 15.132835037478905, 0.0, 81.0, 191.0, 0.07, 0.32, 213.84], [0.1275788148045913, 14.901885510404034, 0.0, 88.0, 188.0, 0.1, 0.3, 228.8], [0.14258118802711173, 14.898057437222654, 0.0, 65.0, 188.0, 0.0, 0.34, 174.20000000000005], [0.10185674244715058, 10.977755892044144, 0.0, 80.0, 195.0, 0.02, 0.32, 211.2], [0.14097967548739687, 13.24559534377985, 0.0, 45.0, 168.0, 1.65, 0.38, 124.2], [0.12486595386231307, 11.953775512155927, 0.0, 89.0, 189.0, -5.21, 0.3, 231.4], [0.13769398107696532, 14.939607302648476, 0.0, 99.0, 185.0, 0.08, 0.27, 251.46], [0.11628623913436885, 17.86085754979854, 0.0, 117.0, 273.0, 0.1, 0.31, 306.54], [0.11753168607324255, 10.520030115684145, 0.0, 80.0, 178.0, 0.31, 0.3, 208.0], [0.12375800254659207, 13.752785739703596, 0.0, 99.0, 227.0, 0.31, 0.31, 259.38], [0.13397755322428476, 10.447817726725402, 0.0, 71.0, 156.0, 0.01, 0.3, 184.6], [0.1252437615694551, 13.096146446414696, 0.0, 78.0, 174.0, 0.38, 0.31, 204.36], [0.11699681386486707, 15.490169200353305, 0.0, 46.0, 202.0, 2.53, 0.39, 127.88], [0.1217988872909679, 14.970807081376302, 0.0, 87.0, 196.0, 0.22, 0.31, 227.94], [0.14668172069202154, 12.758656234681466, 0.0, 73.0, 157.0, 0.43, 0.3, 189.8], [0.13001911909271696, 13.04803148129781, 0.0, 75.0, 163.0, 0.38, 0.3, 195.0], [0.132068113361778, 12.874931769318184, 0.0, 82.0, 170.0, 0.22, 0.29, 211.56], [0.21850632533498934, 14.750266694188678, 0.0, 17.0, 137.0, 16.17, 0.44, 48.96], [0.14937890595173606, 10.676109693623552, 0.0, 57.0, 152.0, 0.0, 0.33, 151.62], [0.11747196801004832, 13.45156017666466, 0.0, 91.0, 194.0, 0.33, 0.3, 236.6], [0.1197391294164867, 15.30780953612121, 0.0, 93.0, 150.0, 0.06, 0.24, 230.64], [0.20587957781108046, 13.161858109022573, 0.0, 33.0, 110.0, 4.12, 0.36, 89.75999999999998]]\n"
     ]
    },
    {
     "data": {
      "text/html": [
       "<div>\n",
       "<style scoped>\n",
       "    .dataframe tbody tr th:only-of-type {\n",
       "        vertical-align: middle;\n",
       "    }\n",
       "\n",
       "    .dataframe tbody tr th {\n",
       "        vertical-align: top;\n",
       "    }\n",
       "\n",
       "    .dataframe thead th {\n",
       "        text-align: right;\n",
       "    }\n",
       "</style>\n",
       "<table border=\"1\" class=\"dataframe\">\n",
       "  <thead>\n",
       "    <tr style=\"text-align: right;\">\n",
       "      <th></th>\n",
       "      <th>IPF</th>\n",
       "      <th>Density</th>\n",
       "      <th>E_above_Hull</th>\n",
       "      <th>G_VRH</th>\n",
       "      <th>K_VRH</th>\n",
       "      <th>Elastic_Anisotropy</th>\n",
       "      <th>poisson_ratio</th>\n",
       "    </tr>\n",
       "  </thead>\n",
       "  <tbody>\n",
       "    <tr>\n",
       "      <th>0</th>\n",
       "      <td>0.136645</td>\n",
       "      <td>11.035293</td>\n",
       "      <td>0.000000</td>\n",
       "      <td>74.0</td>\n",
       "      <td>131.0</td>\n",
       "      <td>0.35</td>\n",
       "      <td>0.26</td>\n",
       "    </tr>\n",
       "    <tr>\n",
       "      <th>1</th>\n",
       "      <td>0.125671</td>\n",
       "      <td>16.386166</td>\n",
       "      <td>0.000000</td>\n",
       "      <td>56.0</td>\n",
       "      <td>179.0</td>\n",
       "      <td>2.11</td>\n",
       "      <td>0.36</td>\n",
       "    </tr>\n",
       "    <tr>\n",
       "      <th>2</th>\n",
       "      <td>0.150526</td>\n",
       "      <td>11.233433</td>\n",
       "      <td>0.000000</td>\n",
       "      <td>45.0</td>\n",
       "      <td>105.0</td>\n",
       "      <td>2.65</td>\n",
       "      <td>0.31</td>\n",
       "    </tr>\n",
       "    <tr>\n",
       "      <th>3</th>\n",
       "      <td>0.134078</td>\n",
       "      <td>11.755995</td>\n",
       "      <td>0.000000</td>\n",
       "      <td>59.0</td>\n",
       "      <td>109.0</td>\n",
       "      <td>1.44</td>\n",
       "      <td>0.27</td>\n",
       "    </tr>\n",
       "    <tr>\n",
       "      <th>4</th>\n",
       "      <td>0.113834</td>\n",
       "      <td>11.683667</td>\n",
       "      <td>0.000000</td>\n",
       "      <td>107.0</td>\n",
       "      <td>239.0</td>\n",
       "      <td>0.21</td>\n",
       "      <td>0.30</td>\n",
       "    </tr>\n",
       "    <tr>\n",
       "      <th>5</th>\n",
       "      <td>0.227605</td>\n",
       "      <td>16.855453</td>\n",
       "      <td>0.000000</td>\n",
       "      <td>7.0</td>\n",
       "      <td>166.0</td>\n",
       "      <td>-11.64</td>\n",
       "      <td>0.48</td>\n",
       "    </tr>\n",
       "    <tr>\n",
       "      <th>6</th>\n",
       "      <td>0.200685</td>\n",
       "      <td>14.046197</td>\n",
       "      <td>0.000000</td>\n",
       "      <td>49.0</td>\n",
       "      <td>99.0</td>\n",
       "      <td>2.47</td>\n",
       "      <td>0.29</td>\n",
       "    </tr>\n",
       "    <tr>\n",
       "      <th>7</th>\n",
       "      <td>0.108140</td>\n",
       "      <td>8.891443</td>\n",
       "      <td>0.000000</td>\n",
       "      <td>67.0</td>\n",
       "      <td>152.0</td>\n",
       "      <td>10.20</td>\n",
       "      <td>0.31</td>\n",
       "    </tr>\n",
       "    <tr>\n",
       "      <th>8</th>\n",
       "      <td>0.120523</td>\n",
       "      <td>9.213002</td>\n",
       "      <td>0.756281</td>\n",
       "      <td>83.0</td>\n",
       "      <td>153.0</td>\n",
       "      <td>0.34</td>\n",
       "      <td>0.27</td>\n",
       "    </tr>\n",
       "    <tr>\n",
       "      <th>9</th>\n",
       "      <td>0.105035</td>\n",
       "      <td>9.794991</td>\n",
       "      <td>0.000000</td>\n",
       "      <td>86.0</td>\n",
       "      <td>123.0</td>\n",
       "      <td>0.17</td>\n",
       "      <td>0.22</td>\n",
       "    </tr>\n",
       "  </tbody>\n",
       "</table>\n",
       "</div>"
      ],
      "text/plain": [
       "        IPF    Density  E_above_Hull  G_VRH  K_VRH  Elastic_Anisotropy  \\\n",
       "0  0.136645  11.035293      0.000000   74.0  131.0                0.35   \n",
       "1  0.125671  16.386166      0.000000   56.0  179.0                2.11   \n",
       "2  0.150526  11.233433      0.000000   45.0  105.0                2.65   \n",
       "3  0.134078  11.755995      0.000000   59.0  109.0                1.44   \n",
       "4  0.113834  11.683667      0.000000  107.0  239.0                0.21   \n",
       "5  0.227605  16.855453      0.000000    7.0  166.0              -11.64   \n",
       "6  0.200685  14.046197      0.000000   49.0   99.0                2.47   \n",
       "7  0.108140   8.891443      0.000000   67.0  152.0               10.20   \n",
       "8  0.120523   9.213002      0.756281   83.0  153.0                0.34   \n",
       "9  0.105035   9.794991      0.000000   86.0  123.0                0.17   \n",
       "\n",
       "   poisson_ratio  \n",
       "0           0.26  \n",
       "1           0.36  \n",
       "2           0.31  \n",
       "3           0.27  \n",
       "4           0.30  \n",
       "5           0.48  \n",
       "6           0.29  \n",
       "7           0.31  \n",
       "8           0.27  \n",
       "9           0.22  "
      ]
     },
     "execution_count": 11,
     "metadata": {},
     "output_type": "execute_result"
    }
   ],
   "source": [
    "all_values = df.values.tolist() # Values for Attributes\n",
    "print(all_values)\n",
    "all_labels = [] # Values for Young's Modulus (Property to be estimated)\n",
    "all_labels = df['Y_Modulus'].tolist()\n",
    "df = df.drop(['Y_Modulus'], axis=1)\n",
    "df.head(n=10)"
   ]
  },
  {
   "cell_type": "code",
   "execution_count": 12,
   "metadata": {},
   "outputs": [
    {
     "name": "stdout",
     "output_type": "stream",
     "text": [
      "Shape of Values: (216, 7)\n",
      "Shape of Labels: (216,)\n",
      "[-0.24957869  0.05317745 -0.09697673  0.05096971 -0.28714659  0.05911534\n",
      " -0.47056917]\n",
      "[-0.57871416 -0.62214996 -0.09697673  4.24752931  2.23235931  0.05598128\n",
      " -1.87350831]\n",
      "[  0   1   2   3   4   5   6   7   8   9  10  11  12  13  14  15  16  17\n",
      "  18  19  20  21  22  23  24  25  26  27  28  29  30  31  32  33  34  35\n",
      "  36  37  38  39  40  41  42  43  44  45  46  47  48  49  50  51  52  53\n",
      "  54  55  56  57  58  59  60  61  62  63  64  65  66  67  68  69  70  71\n",
      "  72  73  74  75  76  77  78  79  80  81  82  83  84  85  86  87  88  89\n",
      "  90  91  92  93  94  95  96  97  98  99 100 101 102 103 104 105 106 107\n",
      " 108 109 110 111 112 113 114 115 116 117 118 119 120 121 122 123 124 125\n",
      " 126 127 128 129 130 131 132 133 134 135 136 137 138 139 140 141 142 143\n",
      " 144 145 146 147 148 149 150 151 152 153 154 155 156 157 158 159 160 161\n",
      " 162 163 164 165 166 167 168 169 170 171 172 173 174 175 176 177 178 179\n",
      " 180 181 182 183 184 185 186 187 188 189 190 191 192 193 194 195 196 197\n",
      " 198 199 200 201 202 203 204 205 206 207 208 209 210 211 212 213 214 215]\n"
     ]
    }
   ],
   "source": [
    "#We will rewrite the arrays with the patches we made on the dataset \n",
    "# by turning the dataframe back into a list of lists\n",
    "\n",
    "all_values = [list(df.iloc[x]) for x in range(len(all_values))]\n",
    "\n",
    "# SETS\n",
    "\n",
    "# List of lists are turned into Numpy arrays to facilitate calculations in steps to follow (Normalization).\n",
    "all_values = np.array(all_values, dtype = float) \n",
    "print(\"Shape of Values:\", all_values.shape)\n",
    "all_labels = np.array(all_labels, dtype = float)\n",
    "print(\"Shape of Labels:\", all_labels.shape)\n",
    "\n",
    "# Uncomment the line below to shuffle the dataset \n",
    "#(we do not do this here to ensure consistent results for every run)\n",
    "#order = np.argsort(np.random.random(all_labels.shape)) \n",
    "# This numpy argsort returns the indexes that would be used to shuffle a list\n",
    "order = np.arange(216)\n",
    "all_values = all_values[order]\n",
    "all_labels = all_labels[order]\n",
    "\n",
    "# Training Set\n",
    "train_labels = all_labels[:180]\n",
    "train_values = all_values[:180]\n",
    "\n",
    "# Testing Set\n",
    "test_labels = all_labels[-36:]\n",
    "test_values = all_values[-36:]\n",
    "\n",
    "# This line is used for labels in the plots at the end of the tutorial - Testing Set\n",
    "\n",
    "labeled_elements = [elements[x] for x in order[-36:]] \n",
    "elements = [elements[x] for x in order]\n",
    "\n",
    "# NORMALIZATION\n",
    "\n",
    "mean = np.mean(train_values, axis = 0) # mean\n",
    "std = np.std(train_values, axis = 0) # standard deviation\n",
    "\n",
    "train_values = (train_values - mean) / std # input scaling\n",
    "test_values = (test_values - mean) / std # input scaling\n",
    "\n",
    "print(train_values[0]) # print a sample entry from the training set\n",
    "print(test_values[0]) # print a sample entry from the training set\n",
    "print(order)"
   ]
  },
  {
   "cell_type": "markdown",
   "metadata": {},
   "source": [
    "### 3. Creating the Model\n",
    "\n",
    "For this regression, we will use a simple sequential neural network with one densely connected hidden layer. The optimizer used will be [RMSPropOptimizer](https://www.tensorflow.org/api_docs/python/tf/train/RMSPropOptimizer) (Root Mean Square Propagation).\n",
    "\n",
    "To learn more about Root Mean Squared Propagation, click [here](https://climin.readthedocs.io/en/latest/rmsprop.html).\n",
    "\n",
    "A cool tool developed by Tensorflow to visualize how a neural network learns, and play around with its parameters, can be found here [NN Tools](https://playground.tensorflow.org/)."
   ]
  },
  {
   "cell_type": "code",
   "execution_count": 13,
   "metadata": {},
   "outputs": [
    {
     "name": "stdout",
     "output_type": "stream",
     "text": [
      "WARNING:tensorflow:From C:\\Users\\Kayla Yano\\anaconda3\\envs\\PythonData\\lib\\site-packages\\tensorflow\\python\\keras\\initializers.py:143: calling RandomNormal.__init__ (from tensorflow.python.ops.init_ops) with dtype is deprecated and will be removed in a future version.\n",
      "Instructions for updating:\n",
      "Call initializer instance with the dtype argument instead of passing it to the constructor\n",
      "Model: \"sequential\"\n",
      "_________________________________________________________________\n",
      "Layer (type)                 Output Shape              Param #   \n",
      "=================================================================\n",
      "dense (Dense)                (None, 32)                256       \n",
      "_________________________________________________________________\n",
      "dense_1 (Dense)              (None, 64)                2112      \n",
      "_________________________________________________________________\n",
      "dense_2 (Dense)              (None, 64)                4160      \n",
      "_________________________________________________________________\n",
      "dense_3 (Dense)              (None, 1)                 65        \n",
      "=================================================================\n",
      "Total params: 6,593\n",
      "Trainable params: 6,593\n",
      "Non-trainable params: 0\n",
      "_________________________________________________________________\n"
     ]
    }
   ],
   "source": [
    "# DEFINITION OF THE MODEL\n",
    "\n",
    "# The weights of our neural network will be initialized in a random manner, using a seed allows for reproducibility\n",
    "kernel_init = initializers.RandomNormal(seed=0)\n",
    "# In a sequential model, the first layer must specify the input shape the model will expect; \n",
    "# in this case the value is train_values.shape[1] which is the number\n",
    "# of attributes (properties) and equals 17.\n",
    "\n",
    "model = Sequential()\n",
    "model.add(Dense(32, activation='relu', input_shape=(train_values.shape[1], ), kernel_initializer=kernel_init))\n",
    "model.add(Dense(64, activation='relu', kernel_initializer=kernel_init))\n",
    "model.add(Dense(64, activation='relu', kernel_initializer=kernel_init))\n",
    "model.add(Dense(1, kernel_initializer=kernel_init))\n",
    "\n",
    "# DEFINITION OF THE OPTIMIZER\n",
    "\n",
    "optimizer = optimizers.RMSprop(0.002) # Root Mean Squared Propagation\n",
    "\n",
    "# This line matches the optimizer to the model and states which metrics will evaluate the model's accuracy\n",
    "model.compile(loss='mae', optimizer=optimizer, metrics=['mae'])\n",
    "model.summary()"
   ]
  },
  {
   "cell_type": "markdown",
   "metadata": {},
   "source": [
    "#### TRAINING \n",
    "\n",
    "This model is trained for 2000 epochs, and we record the training accuracy in the history object.\n",
    "\n",
    "One **Epoch** occurs when you pass the entire dataset through the model. One **Batch** contains a subset of the dataset that can be fed to the model at the same time. A more detailed explanation of these concepts can be found in this [blog](https://towardsdatascience.com/epoch-vs-iterations-vs-batch-size-4dfb9c7ce9c9). As we have a really small dataset compared to the ones that are usually considered to be modeled by these neural networks, we are feeding all entries at the same time, so our batch is the entire dataset, and an epoch occurs when the batch is processed.\n",
    "\n",
    "This way, by plotting \"history\" we can see the evolution of the \"learning\" of the model, that is the decrease of the Mean Absolute Error. Models in Keras are fitted to the training set using the [**fit**](https://keras.io/models/model/#fit) method.\n",
    "\n",
    "The blue curve that will come up from the History object represents how the model is learning on the training data, and the orange curve represents the validation loss, which can be thought of as the way our model evaluates data that it was not trained in. This validation loss would start going up again when we start to overfit our data."
   ]
  },
  {
   "cell_type": "code",
   "execution_count": 14,
   "metadata": {},
   "outputs": [
    {
     "name": "stdout",
     "output_type": "stream",
     "text": [
      "Current Epoch: 2000 Training Loss: 4.517781                                       \r"
     ]
    },
    {
     "data": {
      "image/png": "[encoded data removed]",
      "text/plain": [
       "<Figure size 432x288 with 1 Axes>"
      ]
     },
     "metadata": {
      "needs_background": "light"
     },
     "output_type": "display_data"
    }
   ],
   "source": [
    "# EPOCH REAL TIME COUNTER CLASS\n",
    "class PrintEpNum(tf.keras.callbacks.Callback): # This is a function for the Epoch Counter\n",
    "    def on_epoch_end(self, epoch, logs):\n",
    "        sys.stdout.flush()\n",
    "        sys.stdout.write(\"Current Epoch: \" + str(epoch+1) + \" Training Loss: \" + \"%4f\" %logs.get('loss') + '                                       \\r') # Updates current Epoch Number\n",
    "\n",
    "EPOCHS = 2000 # Number of EPOCHS\n",
    "\n",
    "# HISTORY Object which contains how the model learned\n",
    "\n",
    "# Training Values (Properties), Training Labels (Known Young's Moduli) \n",
    "history = model.fit(train_values, train_labels, batch_size=train_values.shape[0], \n",
    "                    epochs=EPOCHS, verbose = False, validation_split=0.1, callbacks=[PrintEpNum()])\n",
    "\n",
    "\n",
    "# PLOTTING HISTORY USING MATPLOTLIB\n",
    "\n",
    "plt.figure()\n",
    "plt.xlabel('Epoch')\n",
    "plt.ylabel('Mean Abs Error')\n",
    "plt.plot(history.epoch, np.array(history.history['mean_absolute_error']),label='Loss on training set') \n",
    "plt.plot(history.epoch, np.array(history.history['val_mean_absolute_error']),label = 'Validation loss')\n",
    "plt.legend()\n",
    "plt.show()"
   ]
  },
  {
   "cell_type": "markdown",
   "metadata": {},
   "source": [
    "#### SAVING A MODEL\n",
    "\n",
    "Compiled and trained models in Keras can be saved and distributed in .h5 files using the `model.save()` method. Running the cell below will save the current model we trained, both weights and architecture to your home directory."
   ]
  },
  {
   "cell_type": "code",
   "execution_count": 15,
   "metadata": {},
   "outputs": [],
   "source": [
    "model.save(os.path.expanduser('~/model.h5'))"
   ]
  },
  {
   "cell_type": "markdown",
   "metadata": {},
   "source": [
    "#### TESTING\n",
    "\n",
    "Models in Keras are tested using the method [**evaluate**](https://keras.io/models/model/#evaluate). This method returns the testing loss of the model and the metrics we specified when creating it,  which in our case it's the Mean Absolute Error. For the original model in this tutorial you should get a value of around **20 GPa** for the Mean Absolute Error. This value would decrease with more training data, more attributes/features, or a different optimizer. In the case of a model that overfits, you can expect values to start increasing to around **30 or 40 GPa**."
   ]
  },
  {
   "cell_type": "code",
   "execution_count": 16,
   "metadata": {},
   "outputs": [
    {
     "name": "stdout",
     "output_type": "stream",
     "text": [
      "Testing Set Mean Absolute Error: 2.611 GPa\n"
     ]
    }
   ],
   "source": [
    "[loss, mae] = model.evaluate(test_values, test_labels, verbose=0)\n",
    "\n",
    "print(\"Testing Set Mean Absolute Error: {:2.3f} GPa\".format(mae))"
   ]
  },
  {
   "cell_type": "markdown",
   "metadata": {},
   "source": [
    "#### MAKING PREDICTIONS\n",
    "\n",
    "The last step in a regression model is to make predictions for values not in the training set, which are determined by the method [**predict**](https://keras.io/models/model/#predict). In the following cell we print the elements in the testing set, the real values for their Young's moduli and the predictions generated by our machine learned model."
   ]
  },
  {
   "cell_type": "code",
   "execution_count": 17,
   "metadata": {},
   "outputs": [
    {
     "name": "stdout",
     "output_type": "stream",
     "text": [
      "Elements in Test Set:  ['HfNbB4', 'Hf2SnC', 'HfVF6', 'HfIN', 'HfBrN', 'Hf(CoSi)2', 'HfMoP', 'Ba3Hf2O7', 'Ba2HfO4', 'HfSiS', 'HfGeSe', 'HfGeS', 'LiHf2Os', 'HfAlRh2', 'Hf2MoIr', 'Hf2CoRe', 'Hf2FeIr', 'HfAlRu2', 'HfPaTc2', 'HfGaRh2', 'HfMgIr2', 'HfTaRe2', 'HfScRu2', 'HfTaTc2', 'HfMgRh2', 'Hf2MoRh', 'Hf2OsRh', 'Hf2MnIr', 'TmHfRu2', 'LuHfRu2', 'Hf2CoTc', 'HfZnAu2', 'LiHfRh2', 'Hf2TcRu', 'Hf2ReRh', 'HfMgAu2']\n",
      "Real Values [516.8399999999998, 213.28, 86.46000000000002, 30.72, 46.8, 269.24, 304.92, 178.92, 152.4, 224.48, 182.04, 203.36, 144.72, 319.64, 213.84, 228.8, 174.20000000000005, 211.2, 124.2, 231.4, 251.46, 306.54, 208.0, 259.38, 184.6, 204.36, 127.88, 227.94, 189.8, 195.0, 211.56, 48.96, 151.62, 236.6, 230.64, 89.75999999999998]\n",
      "Predictions [524.26825, 213.69781, 87.42806, 19.855843, 45.446144, 267.54263, 303.31924, 176.55034, 147.98502, 224.95705, 182.37543, 202.75568, 149.51472, 319.11307, 216.26862, 230.12863, 181.73465, 214.12097, 129.48997, 231.43277, 252.36687, 309.5137, 210.25946, 261.43112, 186.68835, 205.98187, 136.6737, 229.81038, 191.6547, 197.06049, 213.13695, 49.58626, 156.23912, 237.5301, 231.68799, 91.08056]\n"
     ]
    }
   ],
   "source": [
    "test_predictions = model.predict(test_values).flatten()\n",
    "\n",
    "print(\"Elements in Test Set: \", labeled_elements)\n",
    "print(\"Real Values\", list(test_labels))\n",
    "print(\"Predictions\", list(test_predictions))\n",
    "\n",
    "values = np.concatenate((train_values, test_values), axis=0) # This line joins the values together to evaluate all of them\n",
    "predictions = model.predict(values).flatten()"
   ]
  },
  {
   "cell_type": "markdown",
   "metadata": {},
   "source": [
    "### 4. Plotting\n",
    "\n",
    "The easiest way to see if the model did a good job estimating the Young's Modulus for the Elements is through a plot comparing Real Values with their Predictions. We will use [Plotly](https://plot.ly/python/) to create a plot like that. We covered how to plot in Plotly in the first tutorial of this tool. For values in this plot, the line (x = y) indicates a perfect match and would be the desirable result for the points. As you analyze the plot, you can hover on the points to see the data we obtained in the cell above."
   ]
  },
  {
   "cell_type": "code",
   "execution_count": 18,
   "metadata": {},
   "outputs": [
    {
     "data": {
      "text/html": [
       "        <script type=\"text/javascript\">\n",
       "        window.PlotlyConfig = {MathJaxConfig: 'local'};\n",
       "        if (window.MathJax) {MathJax.Hub.Config({SVG: {font: \"STIX-Web\"}});}\n",
       "        if (typeof require !== 'undefined') {\n",
       "        require.undef(\"plotly\");\n",
       "        requirejs.config({\n",
       "            paths: {\n",
       "                'plotly': ['https://cdn.plot.ly/plotly-latest.min']\n",
       "            }\n",
       "        });\n",
       "        require(['plotly'], function(Plotly) {\n",
       "            window._Plotly = Plotly;\n",
       "        });\n",
       "        }\n",
       "        </script>\n",
       "        "
      ]
     },
     "metadata": {},
     "output_type": "display_data"
    },
    {
     "data": {
      "application/vnd.plotly.v1+json": {
       "config": {
        "linkText": "Export to plot.ly",
        "plotlyServerURL": "https://plot.ly",
        "showLink": false
       },
       "data": [
        {
         "marker": {
          "color": "blue",
          "size": 12
         },
         "mode": "markers",
         "name": "Young's Modulus (Training)",
         "text": [
          "Hf2S",
          "HfPt",
          "HfZn",
          "Hf2Zn",
          "HfBRh3",
          "HfAu2",
          "Hf2Hg",
          "HfVSi",
          "Hf3(CuSi)4",
          "Hf4Al3",
          "HfRh3",
          "HfMgN2",
          "HfSi",
          "HfSiPt",
          "HfSi2",
          "HfAlCu2",
          "HfGa3",
          "Hf2Ga3",
          "HfMn2",
          "HfOs",
          "HfPd3",
          "Hf2Pd",
          "HfPt3",
          "HfRh",
          "HfTc",
          "HfTe5",
          "HfAl2",
          "Hf5Te4",
          "HfGaAu",
          "Hf2Ag",
          "HfAg",
          "HfW2",
          "HfSe3",
          "Hf3Sb",
          "HfRe2",
          "Hf3Rh5",
          "HfB2",
          "HfBe5",
          "HfCo",
          "Hf3Si2",
          "HfC",
          "Hf5Sn3",
          "HfIr3",
          "HfGePt",
          "HfSb2",
          "Hf2In5",
          "HfFeP",
          "HfCo2",
          "HfMo2",
          "HfH2",
          "HfRu",
          "HfN",
          "Hf3Te2",
          "HfAs2",
          "Hf2Au",
          "Hf2Ga",
          "Hf2Cu",
          "Hf5CuSn3",
          "HfTe2",
          "HfO2",
          "HfGaCo2",
          "HfCu2Te3",
          "Hf2P",
          "Hf5Sn4",
          "HfZn2",
          "HfAlCo2",
          "HfGeTe4",
          "HfI3",
          "HfAl3",
          "HfAlNi2",
          "Hf3Zn3N",
          "EuHfO3",
          "Li2HfO3",
          "HfCr2",
          "Hf2ReIr",
          "Hf2N",
          "Hf2TcRh",
          "HfInRh2",
          "HfPd5",
          "Hf2IrRh",
          "Na2Hf2O5",
          "YbHfRh2",
          "HfSnRu2",
          "LiHfPt2",
          "HfNiSn",
          "Hf3Ge2",
          "HfS3",
          "Hf2Si",
          "Hf2Ge",
          "HfP",
          "HfAs",
          "Hf2GaSb3",
          "Hf(VGa2)2",
          "HfGa5Co",
          "Hf2SeN2",
          "CaHfN2",
          "Ca4HfN4",
          "BaHfN2",
          "La2Hf2O7",
          "Hf2CS",
          "Rb2HfF6",
          "Cs2HfF6",
          "Hf6NiSb2",
          "Hf(CuP)2",
          "HfAlPd2",
          "HfCuSi2",
          "HfCo2Sn",
          "Hf2InC",
          "HfFeGe",
          "HfCoSn",
          "HfCuSi",
          "HfNbP",
          "Hf2CoP",
          "Cs2HfI6",
          "Hf(Te2Cl3)2",
          "SrHfO3",
          "Y2Hf2O7",
          "Hf2SbP",
          "Hf2Al3C4",
          "Hf(SiNi)2",
          "HfAlPt",
          "Hf2NiP",
          "HfInCu2",
          "Hf(MnSn)6",
          "LiHf2Re",
          "LiHfIr2",
          "HfInCo2",
          "HfInPd2",
          "HfZnIr2",
          "HfZnNi2",
          "Hf2CoIr",
          "HfScOs2",
          "HfGaRu2",
          "HfTc2Sb",
          "HfMgPd2",
          "HfMnRh2",
          "HfNbTc2",
          "HfBeRh2",
          "HfScCo2",
          "HfCdRh2",
          "Hf2FeOs",
          "TmHfOs2",
          "YbHfIr2",
          "Hf2ZnRe",
          "HfFe2Sn",
          "HfSiRu2",
          "HfZnCu2",
          "HfTc2W",
          "LiHfPd2",
          "Rb2Hf2O5",
          "Ba2HfS4",
          "HoHfRu2",
          "HfZrTc2",
          "HfGeO4",
          "Hf2TcOs",
          "Hf2MnRh",
          "HfCoAs",
          "HfAlFe2",
          "BaHfO3",
          "Hf3(NiGe)4",
          "HfZnN2",
          "Hf3ZnN",
          "HfGaCu",
          "HfVGe",
          "SrHfN2",
          "Hf3(Cu2Ge)2",
          "HfSiPd",
          "HfSnPd",
          "HfBeSi",
          "HfSiRh",
          "HfSiSe",
          "HfSiTe",
          "HfGeTe",
          "HfPRu",
          "Hf3(Cu2Si)2",
          "HfMnSi",
          "HfSiMo",
          "HfSnRh",
          "Hf6CoBi2",
          "Na3HfF7",
          "HfNbB4",
          "Hf2SnC",
          "HfVF6",
          "HfIN",
          "HfBrN",
          "Hf(CoSi)2",
          "HfMoP",
          "Ba3Hf2O7",
          "Ba2HfO4",
          "HfSiS",
          "HfGeSe",
          "HfGeS",
          "LiHf2Os",
          "HfAlRh2",
          "Hf2MoIr",
          "Hf2CoRe",
          "Hf2FeIr",
          "HfAlRu2",
          "HfPaTc2",
          "HfGaRh2",
          "HfMgIr2",
          "HfTaRe2",
          "HfScRu2",
          "HfTaTc2",
          "HfMgRh2",
          "Hf2MoRh",
          "Hf2OsRh",
          "Hf2MnIr",
          "TmHfRu2",
          "LuHfRu2",
          "Hf2CoTc",
          "HfZnAu2",
          "LiHfRh2",
          "Hf2TcRu",
          "Hf2ReRh",
          "HfMgAu2"
         ],
         "type": "scatter",
         "x": [
          186.48,
          152.32,
          117.9,
          149.86,
          278.2,
          20.72,
          126.42,
          175.54000000000005,
          210.82,
          209.84,
          294.64,
          193.5,
          238.08,
          258.56,
          227.48,
          138.32,
          173.24,
          162.56,
          145.22,
          299.52,
          221,
          145.20000000000005,
          275.6,
          74.36,
          202.16000000000003,
          17.64,
          212.96,
          93.6,
          161.20000000000005,
          136.74,
          131,
          248.16000000000003,
          24.8,
          128.38,
          205.50000000000003,
          180.9,
          546.92,
          276,
          150.08,
          233.7,
          432,
          124.08,
          378.46,
          206.98,
          123.48,
          111.6,
          312.5,
          192.4,
          183.6,
          95.2,
          250.26,
          390,
          48.4,
          184.5,
          154.58,
          160.02,
          150.8,
          158.72,
          28.32,
          255.42,
          201.74,
          57.96,
          194.56,
          158.76,
          148.48,
          227.84,
          25.96,
          5.24,
          192,
          133.28,
          205.84,
          273.92,
          168.64,
          182.24,
          270.90000000000003,
          341.22,
          231.4,
          339.2999999999999,
          184.8,
          46.72,
          89.10000000000002,
          114.24,
          276.86,
          51.84,
          190.4,
          206.64,
          29.52,
          242,
          226.92,
          216.72,
          168.96,
          154.88,
          222.04,
          119.38,
          209.92,
          311.78,
          109.2,
          116.16,
          226.06,
          300.12,
          26,
          23.58,
          178.92,
          167.70000000000005,
          73.84,
          215.76,
          202.8,
          222.64,
          236.6,
          184.32,
          215.9,
          251.46,
          220.16,
          10,
          5.5600000000000005,
          229.32,
          241.92,
          176.4,
          371.28,
          199.12,
          197.6,
          236.88,
          129.36,
          178.56,
          128.64,
          178.22,
          196.08,
          84,
          229.68,
          132.3,
          112,
          241.8,
          202.16000000000003,
          239.2,
          104.12,
          180.88,
          241.04,
          179.51999999999995,
          167.70000000000005,
          155.44,
          242.52,
          226.2,
          126.04,
          155.44,
          267.5,
          275.6,
          116.1,
          307.02,
          59.22,
          101.4,
          76.8,
          188.64,
          172.86,
          242.06,
          229.68,
          202.8,
          235.52,
          231.14,
          253.38,
          220.98,
          223.6,
          225,
          170.28,
          198.12,
          119.7,
          189.44,
          233.68,
          150.8,
          278.48,
          248.32,
          136.64,
          62.63999999999999,
          152.52,
          248.9,
          203.2,
          218.44,
          264.16,
          167.68,
          151.04,
          39.90000000000001,
          516.8399999999998,
          213.28,
          86.46000000000002,
          30.72,
          46.8,
          269.24,
          304.92,
          178.92,
          152.4,
          224.48,
          182.04,
          203.36,
          144.72,
          319.64,
          213.84,
          228.8,
          174.20000000000005,
          211.2,
          124.2,
          231.4,
          251.46,
          306.54,
          208,
          259.38,
          184.6,
          204.36,
          127.88,
          227.94,
          189.8,
          195,
          211.56,
          48.96,
          151.62,
          236.6,
          230.64,
          89.75999999999998
         ],
         "y": [
          187.1873016357422,
          159.576171875,
          120.26437377929688,
          151.1484375,
          280.2830505371094,
          22.392200469970703,
          128.80087280273438,
          178.5255126953125,
          207.90704345703125,
          209.9000244140625,
          295.3006896972656,
          195.00656127929688,
          237.94363403320312,
          258.0992431640625,
          228.1876220703125,
          141.60659790039062,
          173.4528045654297,
          163.10482788085938,
          152.69003295898438,
          300.23175048828125,
          221.79446411132812,
          149.67990112304688,
          278.17144775390625,
          80.644287109375,
          205.7103729248047,
          20.781709671020508,
          212.9281005859375,
          93.00535583496094,
          163.130126953125,
          139.3948974609375,
          133.85870361328125,
          250.5151824951172,
          21.706329345703125,
          131.3358154296875,
          218.42526245117188,
          187.2978515625,
          569.3243408203125,
          282.0841979980469,
          154.95571899414062,
          234.05043029785156,
          434.66143798828125,
          126.42479705810547,
          378.56231689453125,
          208.88099670410156,
          124.33979034423828,
          112.2342300415039,
          312.7014465332031,
          193.5523223876953,
          190.24624633789062,
          99.66761016845703,
          250.72134399414062,
          390.3434143066406,
          47.1803092956543,
          184.7838897705078,
          157.78497314453125,
          161.48443603515625,
          152.6779022216797,
          159.494384765625,
          25.729637145996094,
          256.5787658691406,
          203.61907958984375,
          53.2838249206543,
          195.56057739257812,
          159.72067260742188,
          149.88070678710938,
          227.91510009765625,
          24.418128967285156,
          4.9507951736450195,
          192.37985229492188,
          138.41989135742188,
          206.62229919433594,
          274.6386413574219,
          167.28018188476562,
          187.43270874023438,
          272.15240478515625,
          342.5353698730469,
          232.4464111328125,
          345.4796447753906,
          188.11349487304688,
          51.99495315551758,
          87.7258529663086,
          117.3648452758789,
          276.7341003417969,
          54.36460494995117,
          192.467041015625,
          207.4182586669922,
          26.566999435424805,
          243.45509338378906,
          227.3598175048828,
          216.0353240966797,
          169.67843627929688,
          155.23440551757812,
          222.197509765625,
          120.35526275634766,
          210.45562744140625,
          315.5596008300781,
          108.47427368164062,
          116.47879791259766,
          226.58372497558594,
          300.5962829589844,
          22.812255859375,
          23.870445251464844,
          179.7966766357422,
          168.62557983398438,
          78.28044128417969,
          214.84982299804688,
          203.57077026367188,
          224.11276245117188,
          237.910888671875,
          185.2859649658203,
          215.64407348632812,
          250.47384643554688,
          220.47291564941406,
          9.2313232421875,
          5.268283367156982,
          229.10606384277344,
          238.20529174804688,
          176.98092651367188,
          374.13250732421875,
          200.8919219970703,
          199.10272216796875,
          237.22235107421875,
          132.8004913330078,
          178.30494689941406,
          132.44039916992188,
          182.89202880859375,
          198.18951416015625,
          88.25079345703125,
          233.68222045898438,
          136.9480743408203,
          119.70349884033203,
          243.31280517578125,
          206.19271850585938,
          241.330810546875,
          105.8053207397461,
          185.3001251220703,
          243.880126953125,
          187.98577880859375,
          168.37896728515625,
          160.82623291015625,
          244.3252716064453,
          227.74822998046875,
          131.28228759765625,
          161.27764892578125,
          267.5092468261719,
          275.2523193359375,
          119.21134948730469,
          307.3232421875,
          58.324222564697266,
          101.60340118408203,
          74.12332916259766,
          191.79222106933594,
          174.8977813720703,
          242.10659790039062,
          232.62844848632812,
          204.2301025390625,
          236.28062438964844,
          230.86465454101562,
          255.69439697265625,
          221.08071899414062,
          224.6259307861328,
          225.25479125976562,
          172.0087127685547,
          199.06552124023438,
          121.33576202392578,
          190.21820068359375,
          233.5347900390625,
          152.12710571289062,
          282.262451171875,
          248.59976196289062,
          138.05059814453125,
          62.81477355957031,
          153.44900512695312,
          251.16104125976562,
          203.64932250976562,
          219.07754516601562,
          263.1845397949219,
          170.33091735839844,
          152.17137145996094,
          31.356491088867188,
          524.2682495117188,
          213.69781494140625,
          87.42806243896484,
          19.85584259033203,
          45.446144104003906,
          267.5426330566406,
          303.3192443847656,
          176.5503387451172,
          147.98501586914062,
          224.95704650878906,
          182.37542724609375,
          202.75567626953125,
          149.5147247314453,
          319.1130676269531,
          216.26861572265625,
          230.12863159179688,
          181.73464965820312,
          214.1209716796875,
          129.48997497558594,
          231.43276977539062,
          252.3668670654297,
          309.5137023925781,
          210.25946044921875,
          261.4311218261719,
          186.6883544921875,
          205.98187255859375,
          136.6737060546875,
          229.8103790283203,
          191.65469360351562,
          197.06048583984375,
          213.13694763183594,
          49.58626174926758,
          156.23912048339844,
          237.5301055908203,
          231.68798828125,
          91.08055877685547
         ]
        },
        {
         "marker": {
          "color": "red",
          "size": 12
         },
         "mode": "markers",
         "name": "Young's Modulus (Testing)",
         "text": [
          "HfNbB4",
          "Hf2SnC",
          "HfVF6",
          "HfIN",
          "HfBrN",
          "Hf(CoSi)2",
          "HfMoP",
          "Ba3Hf2O7",
          "Ba2HfO4",
          "HfSiS",
          "HfGeSe",
          "HfGeS",
          "LiHf2Os",
          "HfAlRh2",
          "Hf2MoIr",
          "Hf2CoRe",
          "Hf2FeIr",
          "HfAlRu2",
          "HfPaTc2",
          "HfGaRh2",
          "HfMgIr2",
          "HfTaRe2",
          "HfScRu2",
          "HfTaTc2",
          "HfMgRh2",
          "Hf2MoRh",
          "Hf2OsRh",
          "Hf2MnIr",
          "TmHfRu2",
          "LuHfRu2",
          "Hf2CoTc",
          "HfZnAu2",
          "LiHfRh2",
          "Hf2TcRu",
          "Hf2ReRh",
          "HfMgAu2"
         ],
         "type": "scatter",
         "x": [
          516.8399999999998,
          213.28,
          86.46000000000002,
          30.72,
          46.8,
          269.24,
          304.92,
          178.92,
          152.4,
          224.48,
          182.04,
          203.36,
          144.72,
          319.64,
          213.84,
          228.8,
          174.20000000000005,
          211.2,
          124.2,
          231.4,
          251.46,
          306.54,
          208,
          259.38,
          184.6,
          204.36,
          127.88,
          227.94,
          189.8,
          195,
          211.56,
          48.96,
          151.62,
          236.6,
          230.64,
          89.75999999999998
         ],
         "y": [
          524.2682495117188,
          213.69781494140625,
          87.42806243896484,
          19.85584259033203,
          45.446144104003906,
          267.5426330566406,
          303.3192443847656,
          176.5503387451172,
          147.98501586914062,
          224.95704650878906,
          182.37542724609375,
          202.75567626953125,
          149.5147247314453,
          319.1130676269531,
          216.26861572265625,
          230.12863159179688,
          181.73464965820312,
          214.1209716796875,
          129.48997497558594,
          231.43276977539062,
          252.3668670654297,
          309.5137023925781,
          210.25946044921875,
          261.4311218261719,
          186.6883544921875,
          205.98187255859375,
          136.6737060546875,
          229.8103790283203,
          191.65469360351562,
          197.06048583984375,
          213.13694763183594,
          49.58626174926758,
          156.23912048339844,
          237.5301055908203,
          231.68798828125,
          91.08055877685547
         ]
        },
        {
         "mode": "lines",
         "name": "Match",
         "type": "scatter",
         "x": [
          0,
          600
         ],
         "y": [
          0,
          600
         ]
        }
       ],
       "layout": {
        "height": 600,
        "hovermode": "closest",
        "legend": {
         "font": {
          "size": 24
         }
        },
        "showlegend": true,
        "template": {
         "data": {
          "bar": [
           {
            "error_x": {
             "color": "#2a3f5f"
            },
            "error_y": {
             "color": "#2a3f5f"
            },
            "marker": {
             "line": {
              "color": "#E5ECF6",
              "width": 0.5
             }
            },
            "type": "bar"
           }
          ],
          "barpolar": [
           {
            "marker": {
             "line": {
              "color": "#E5ECF6",
              "width": 0.5
             }
            },
            "type": "barpolar"
           }
          ],
          "carpet": [
           {
            "aaxis": {
             "endlinecolor": "#2a3f5f",
             "gridcolor": "white",
             "linecolor": "white",
             "minorgridcolor": "white",
             "startlinecolor": "#2a3f5f"
            },
            "baxis": {
             "endlinecolor": "#2a3f5f",
             "gridcolor": "white",
             "linecolor": "white",
             "minorgridcolor": "white",
             "startlinecolor": "#2a3f5f"
            },
            "type": "carpet"
           }
          ],
          "choropleth": [
           {
            "colorbar": {
             "outlinewidth": 0,
             "ticks": ""
            },
            "type": "choropleth"
           }
          ],
          "contour": [
           {
            "colorbar": {
             "outlinewidth": 0,
             "ticks": ""
            },
            "colorscale": [
             [
              0,
              "#0d0887"
             ],
             [
              0.1111111111111111,
              "#46039f"
             ],
             [
              0.2222222222222222,
              "#7201a8"
             ],
             [
              0.3333333333333333,
              "#9c179e"
             ],
             [
              0.4444444444444444,
              "#bd3786"
             ],
             [
              0.5555555555555556,
              "#d8576b"
             ],
             [
              0.6666666666666666,
              "#ed7953"
             ],
             [
              0.7777777777777778,
              "#fb9f3a"
             ],
             [
              0.8888888888888888,
              "#fdca26"
             ],
             [
              1,
              "#f0f921"
             ]
            ],
            "type": "contour"
           }
          ],
          "contourcarpet": [
           {
            "colorbar": {
             "outlinewidth": 0,
             "ticks": ""
            },
            "type": "contourcarpet"
           }
          ],
          "heatmap": [
           {
            "colorbar": {
             "outlinewidth": 0,
             "ticks": ""
            },
            "colorscale": [
             [
              0,
              "#0d0887"
             ],
             [
              0.1111111111111111,
              "#46039f"
             ],
             [
              0.2222222222222222,
              "#7201a8"
             ],
             [
              0.3333333333333333,
              "#9c179e"
             ],
             [
              0.4444444444444444,
              "#bd3786"
             ],
             [
              0.5555555555555556,
              "#d8576b"
             ],
             [
              0.6666666666666666,
              "#ed7953"
             ],
             [
              0.7777777777777778,
              "#fb9f3a"
             ],
             [
              0.8888888888888888,
              "#fdca26"
             ],
             [
              1,
              "#f0f921"
             ]
            ],
            "type": "heatmap"
           }
          ],
          "heatmapgl": [
           {
            "colorbar": {
             "outlinewidth": 0,
             "ticks": ""
            },
            "colorscale": [
             [
              0,
              "#0d0887"
             ],
             [
              0.1111111111111111,
              "#46039f"
             ],
             [
              0.2222222222222222,
              "#7201a8"
             ],
             [
              0.3333333333333333,
              "#9c179e"
             ],
             [
              0.4444444444444444,
              "#bd3786"
             ],
             [
              0.5555555555555556,
              "#d8576b"
             ],
             [
              0.6666666666666666,
              "#ed7953"
             ],
             [
              0.7777777777777778,
              "#fb9f3a"
             ],
             [
              0.8888888888888888,
              "#fdca26"
             ],
             [
              1,
              "#f0f921"
             ]
            ],
            "type": "heatmapgl"
           }
          ],
          "histogram": [
           {
            "marker": {
             "colorbar": {
              "outlinewidth": 0,
              "ticks": ""
             }
            },
            "type": "histogram"
           }
          ],
          "histogram2d": [
           {
            "colorbar": {
             "outlinewidth": 0,
             "ticks": ""
            },
            "colorscale": [
             [
              0,
              "#0d0887"
             ],
             [
              0.1111111111111111,
              "#46039f"
             ],
             [
              0.2222222222222222,
              "#7201a8"
             ],
             [
              0.3333333333333333,
              "#9c179e"
             ],
             [
              0.4444444444444444,
              "#bd3786"
             ],
             [
              0.5555555555555556,
              "#d8576b"
             ],
             [
              0.6666666666666666,
              "#ed7953"
             ],
             [
              0.7777777777777778,
              "#fb9f3a"
             ],
             [
              0.8888888888888888,
              "#fdca26"
             ],
             [
              1,
              "#f0f921"
             ]
            ],
            "type": "histogram2d"
           }
          ],
          "histogram2dcontour": [
           {
            "colorbar": {
             "outlinewidth": 0,
             "ticks": ""
            },
            "colorscale": [
             [
              0,
              "#0d0887"
             ],
             [
              0.1111111111111111,
              "#46039f"
             ],
             [
              0.2222222222222222,
              "#7201a8"
             ],
             [
              0.3333333333333333,
              "#9c179e"
             ],
             [
              0.4444444444444444,
              "#bd3786"
             ],
             [
              0.5555555555555556,
              "#d8576b"
             ],
             [
              0.6666666666666666,
              "#ed7953"
             ],
             [
              0.7777777777777778,
              "#fb9f3a"
             ],
             [
              0.8888888888888888,
              "#fdca26"
             ],
             [
              1,
              "#f0f921"
             ]
            ],
            "type": "histogram2dcontour"
           }
          ],
          "mesh3d": [
           {
            "colorbar": {
             "outlinewidth": 0,
             "ticks": ""
            },
            "type": "mesh3d"
           }
          ],
          "parcoords": [
           {
            "line": {
             "colorbar": {
              "outlinewidth": 0,
              "ticks": ""
             }
            },
            "type": "parcoords"
           }
          ],
          "pie": [
           {
            "automargin": true,
            "type": "pie"
           }
          ],
          "scatter": [
           {
            "marker": {
             "colorbar": {
              "outlinewidth": 0,
              "ticks": ""
             }
            },
            "type": "scatter"
           }
          ],
          "scatter3d": [
           {
            "line": {
             "colorbar": {
              "outlinewidth": 0,
              "ticks": ""
             }
            },
            "marker": {
             "colorbar": {
              "outlinewidth": 0,
              "ticks": ""
             }
            },
            "type": "scatter3d"
           }
          ],
          "scattercarpet": [
           {
            "marker": {
             "colorbar": {
              "outlinewidth": 0,
              "ticks": ""
             }
            },
            "type": "scattercarpet"
           }
          ],
          "scattergeo": [
           {
            "marker": {
             "colorbar": {
              "outlinewidth": 0,
              "ticks": ""
             }
            },
            "type": "scattergeo"
           }
          ],
          "scattergl": [
           {
            "marker": {
             "colorbar": {
              "outlinewidth": 0,
              "ticks": ""
             }
            },
            "type": "scattergl"
           }
          ],
          "scattermapbox": [
           {
            "marker": {
             "colorbar": {
              "outlinewidth": 0,
              "ticks": ""
             }
            },
            "type": "scattermapbox"
           }
          ],
          "scatterpolar": [
           {
            "marker": {
             "colorbar": {
              "outlinewidth": 0,
              "ticks": ""
             }
            },
            "type": "scatterpolar"
           }
          ],
          "scatterpolargl": [
           {
            "marker": {
             "colorbar": {
              "outlinewidth": 0,
              "ticks": ""
             }
            },
            "type": "scatterpolargl"
           }
          ],
          "scatterternary": [
           {
            "marker": {
             "colorbar": {
              "outlinewidth": 0,
              "ticks": ""
             }
            },
            "type": "scatterternary"
           }
          ],
          "surface": [
           {
            "colorbar": {
             "outlinewidth": 0,
             "ticks": ""
            },
            "colorscale": [
             [
              0,
              "#0d0887"
             ],
             [
              0.1111111111111111,
              "#46039f"
             ],
             [
              0.2222222222222222,
              "#7201a8"
             ],
             [
              0.3333333333333333,
              "#9c179e"
             ],
             [
              0.4444444444444444,
              "#bd3786"
             ],
             [
              0.5555555555555556,
              "#d8576b"
             ],
             [
              0.6666666666666666,
              "#ed7953"
             ],
             [
              0.7777777777777778,
              "#fb9f3a"
             ],
             [
              0.8888888888888888,
              "#fdca26"
             ],
             [
              1,
              "#f0f921"
             ]
            ],
            "type": "surface"
           }
          ],
          "table": [
           {
            "cells": {
             "fill": {
              "color": "#EBF0F8"
             },
             "line": {
              "color": "white"
             }
            },
            "header": {
             "fill": {
              "color": "#C8D4E3"
             },
             "line": {
              "color": "white"
             }
            },
            "type": "table"
           }
          ]
         },
         "layout": {
          "annotationdefaults": {
           "arrowcolor": "#2a3f5f",
           "arrowhead": 0,
           "arrowwidth": 1
          },
          "coloraxis": {
           "colorbar": {
            "outlinewidth": 0,
            "ticks": ""
           }
          },
          "colorscale": {
           "diverging": [
            [
             0,
             "#8e0152"
            ],
            [
             0.1,
             "#c51b7d"
            ],
            [
             0.2,
             "#de77ae"
            ],
            [
             0.3,
             "#f1b6da"
            ],
            [
             0.4,
             "#fde0ef"
            ],
            [
             0.5,
             "#f7f7f7"
            ],
            [
             0.6,
             "#e6f5d0"
            ],
            [
             0.7,
             "#b8e186"
            ],
            [
             0.8,
             "#7fbc41"
            ],
            [
             0.9,
             "#4d9221"
            ],
            [
             1,
             "#276419"
            ]
           ],
           "sequential": [
            [
             0,
             "#0d0887"
            ],
            [
             0.1111111111111111,
             "#46039f"
            ],
            [
             0.2222222222222222,
             "#7201a8"
            ],
            [
             0.3333333333333333,
             "#9c179e"
            ],
            [
             0.4444444444444444,
             "#bd3786"
            ],
            [
             0.5555555555555556,
             "#d8576b"
            ],
            [
             0.6666666666666666,
             "#ed7953"
            ],
            [
             0.7777777777777778,
             "#fb9f3a"
            ],
            [
             0.8888888888888888,
             "#fdca26"
            ],
            [
             1,
             "#f0f921"
            ]
           ],
           "sequentialminus": [
            [
             0,
             "#0d0887"
            ],
            [
             0.1111111111111111,
             "#46039f"
            ],
            [
             0.2222222222222222,
             "#7201a8"
            ],
            [
             0.3333333333333333,
             "#9c179e"
            ],
            [
             0.4444444444444444,
             "#bd3786"
            ],
            [
             0.5555555555555556,
             "#d8576b"
            ],
            [
             0.6666666666666666,
             "#ed7953"
            ],
            [
             0.7777777777777778,
             "#fb9f3a"
            ],
            [
             0.8888888888888888,
             "#fdca26"
            ],
            [
             1,
             "#f0f921"
            ]
           ]
          },
          "colorway": [
           "#636efa",
           "#EF553B",
           "#00cc96",
           "#ab63fa",
           "#FFA15A",
           "#19d3f3",
           "#FF6692",
           "#B6E880",
           "#FF97FF",
           "#FECB52"
          ],
          "font": {
           "color": "#2a3f5f"
          },
          "geo": {
           "bgcolor": "white",
           "lakecolor": "white",
           "landcolor": "#E5ECF6",
           "showlakes": true,
           "showland": true,
           "subunitcolor": "white"
          },
          "hoverlabel": {
           "align": "left"
          },
          "hovermode": "closest",
          "mapbox": {
           "style": "light"
          },
          "paper_bgcolor": "white",
          "plot_bgcolor": "#E5ECF6",
          "polar": {
           "angularaxis": {
            "gridcolor": "white",
            "linecolor": "white",
            "ticks": ""
           },
           "bgcolor": "#E5ECF6",
           "radialaxis": {
            "gridcolor": "white",
            "linecolor": "white",
            "ticks": ""
           }
          },
          "scene": {
           "xaxis": {
            "backgroundcolor": "#E5ECF6",
            "gridcolor": "white",
            "gridwidth": 2,
            "linecolor": "white",
            "showbackground": true,
            "ticks": "",
            "zerolinecolor": "white"
           },
           "yaxis": {
            "backgroundcolor": "#E5ECF6",
            "gridcolor": "white",
            "gridwidth": 2,
            "linecolor": "white",
            "showbackground": true,
            "ticks": "",
            "zerolinecolor": "white"
           },
           "zaxis": {
            "backgroundcolor": "#E5ECF6",
            "gridcolor": "white",
            "gridwidth": 2,
            "linecolor": "white",
            "showbackground": true,
            "ticks": "",
            "zerolinecolor": "white"
           }
          },
          "shapedefaults": {
           "line": {
            "color": "#2a3f5f"
           }
          },
          "ternary": {
           "aaxis": {
            "gridcolor": "white",
            "linecolor": "white",
            "ticks": ""
           },
           "baxis": {
            "gridcolor": "white",
            "linecolor": "white",
            "ticks": ""
           },
           "bgcolor": "#E5ECF6",
           "caxis": {
            "gridcolor": "white",
            "linecolor": "white",
            "ticks": ""
           }
          },
          "title": {
           "x": 0.05
          },
          "xaxis": {
           "automargin": true,
           "gridcolor": "white",
           "linecolor": "white",
           "ticks": "",
           "title": {
            "standoff": 15
           },
           "zerolinecolor": "white",
           "zerolinewidth": 2
          },
          "yaxis": {
           "automargin": true,
           "gridcolor": "white",
           "linecolor": "white",
           "ticks": "",
           "title": {
            "standoff": 15
           },
           "zerolinecolor": "white",
           "zerolinewidth": 2
          }
         }
        },
        "title": {
         "font": {
          "size": 28
         },
         "text": "Neural Network Model - Hf compounds Young's Modulus"
        },
        "width": 1000,
        "xaxis": {
         "gridwidth": 1,
         "tickfont": {
          "size": 18
         },
         "title": {
          "font": {
           "size": 24
          },
          "text": "Real Values (GPa)"
         },
         "zeroline": false
        },
        "yaxis": {
         "gridwidth": 1,
         "tickfont": {
          "size": 18
         },
         "title": {
          "font": {
           "size": 24
          },
          "text": "Prediction (GPa)"
         },
         "zeroline": false
        }
       }
      },
      "text/html": [
       "<div>\n",
       "        \n",
       "        \n",
       "            <div id=\"0681da91-b5d4-4c4f-9955-5ef6163577d8\" class=\"plotly-graph-div\" style=\"height:600px; width:1000px;\"></div>\n",
       "            <script type=\"text/javascript\">\n",
       "                require([\"plotly\"], function(Plotly) {\n",
       "                    window.PLOTLYENV=window.PLOTLYENV || {};\n",
       "                    \n",
       "                if (document.getElementById(\"0681da91-b5d4-4c4f-9955-5ef6163577d8\")) {\n",
       "                    Plotly.newPlot(\n",
       "                        '0681da91-b5d4-4c4f-9955-5ef6163577d8',\n",
       "                        [{\"marker\": {\"color\": \"blue\", \"size\": 12}, \"mode\": \"markers\", \"name\": \"Young's Modulus (Training)\", \"text\": [\"Hf2S\", \"HfPt\", \"HfZn\", \"Hf2Zn\", \"HfBRh3\", \"HfAu2\", \"Hf2Hg\", \"HfVSi\", \"Hf3(CuSi)4\", \"Hf4Al3\", \"HfRh3\", \"HfMgN2\", \"HfSi\", \"HfSiPt\", \"HfSi2\", \"HfAlCu2\", \"HfGa3\", \"Hf2Ga3\", \"HfMn2\", \"HfOs\", \"HfPd3\", \"Hf2Pd\", \"HfPt3\", \"HfRh\", \"HfTc\", \"HfTe5\", \"HfAl2\", \"Hf5Te4\", \"HfGaAu\", \"Hf2Ag\", \"HfAg\", \"HfW2\", \"HfSe3\", \"Hf3Sb\", \"HfRe2\", \"Hf3Rh5\", \"HfB2\", \"HfBe5\", \"HfCo\", \"Hf3Si2\", \"HfC\", \"Hf5Sn3\", \"HfIr3\", \"HfGePt\", \"HfSb2\", \"Hf2In5\", \"HfFeP\", \"HfCo2\", \"HfMo2\", \"HfH2\", \"HfRu\", \"HfN\", \"Hf3Te2\", \"HfAs2\", \"Hf2Au\", \"Hf2Ga\", \"Hf2Cu\", \"Hf5CuSn3\", \"HfTe2\", \"HfO2\", \"HfGaCo2\", \"HfCu2Te3\", \"Hf2P\", \"Hf5Sn4\", \"HfZn2\", \"HfAlCo2\", \"HfGeTe4\", \"HfI3\", \"HfAl3\", \"HfAlNi2\", \"Hf3Zn3N\", \"EuHfO3\", \"Li2HfO3\", \"HfCr2\", \"Hf2ReIr\", \"Hf2N\", \"Hf2TcRh\", \"HfInRh2\", \"HfPd5\", \"Hf2IrRh\", \"Na2Hf2O5\", \"YbHfRh2\", \"HfSnRu2\", \"LiHfPt2\", \"HfNiSn\", \"Hf3Ge2\", \"HfS3\", \"Hf2Si\", \"Hf2Ge\", \"HfP\", \"HfAs\", \"Hf2GaSb3\", \"Hf(VGa2)2\", \"HfGa5Co\", \"Hf2SeN2\", \"CaHfN2\", \"Ca4HfN4\", \"BaHfN2\", \"La2Hf2O7\", \"Hf2CS\", \"Rb2HfF6\", \"Cs2HfF6\", \"Hf6NiSb2\", \"Hf(CuP)2\", \"HfAlPd2\", \"HfCuSi2\", \"HfCo2Sn\", \"Hf2InC\", \"HfFeGe\", \"HfCoSn\", \"HfCuSi\", \"HfNbP\", \"Hf2CoP\", \"Cs2HfI6\", \"Hf(Te2Cl3)2\", \"SrHfO3\", \"Y2Hf2O7\", \"Hf2SbP\", \"Hf2Al3C4\", \"Hf(SiNi)2\", \"HfAlPt\", \"Hf2NiP\", \"HfInCu2\", \"Hf(MnSn)6\", \"LiHf2Re\", \"LiHfIr2\", \"HfInCo2\", \"HfInPd2\", \"HfZnIr2\", \"HfZnNi2\", \"Hf2CoIr\", \"HfScOs2\", \"HfGaRu2\", \"HfTc2Sb\", \"HfMgPd2\", \"HfMnRh2\", \"HfNbTc2\", \"HfBeRh2\", \"HfScCo2\", \"HfCdRh2\", \"Hf2FeOs\", \"TmHfOs2\", \"YbHfIr2\", \"Hf2ZnRe\", \"HfFe2Sn\", \"HfSiRu2\", \"HfZnCu2\", \"HfTc2W\", \"LiHfPd2\", \"Rb2Hf2O5\", \"Ba2HfS4\", \"HoHfRu2\", \"HfZrTc2\", \"HfGeO4\", \"Hf2TcOs\", \"Hf2MnRh\", \"HfCoAs\", \"HfAlFe2\", \"BaHfO3\", \"Hf3(NiGe)4\", \"HfZnN2\", \"Hf3ZnN\", \"HfGaCu\", \"HfVGe\", \"SrHfN2\", \"Hf3(Cu2Ge)2\", \"HfSiPd\", \"HfSnPd\", \"HfBeSi\", \"HfSiRh\", \"HfSiSe\", \"HfSiTe\", \"HfGeTe\", \"HfPRu\", \"Hf3(Cu2Si)2\", \"HfMnSi\", \"HfSiMo\", \"HfSnRh\", \"Hf6CoBi2\", \"Na3HfF7\", \"HfNbB4\", \"Hf2SnC\", \"HfVF6\", \"HfIN\", \"HfBrN\", \"Hf(CoSi)2\", \"HfMoP\", \"Ba3Hf2O7\", \"Ba2HfO4\", \"HfSiS\", \"HfGeSe\", \"HfGeS\", \"LiHf2Os\", \"HfAlRh2\", \"Hf2MoIr\", \"Hf2CoRe\", \"Hf2FeIr\", \"HfAlRu2\", \"HfPaTc2\", \"HfGaRh2\", \"HfMgIr2\", \"HfTaRe2\", \"HfScRu2\", \"HfTaTc2\", \"HfMgRh2\", \"Hf2MoRh\", \"Hf2OsRh\", \"Hf2MnIr\", \"TmHfRu2\", \"LuHfRu2\", \"Hf2CoTc\", \"HfZnAu2\", \"LiHfRh2\", \"Hf2TcRu\", \"Hf2ReRh\", \"HfMgAu2\"], \"type\": \"scatter\", \"x\": [186.48, 152.32, 117.9, 149.86, 278.2, 20.72, 126.42, 175.54000000000005, 210.82, 209.84, 294.64, 193.5, 238.08, 258.56, 227.48, 138.32, 173.24, 162.56, 145.22, 299.52, 221.0, 145.20000000000005, 275.6, 74.36, 202.16000000000003, 17.64, 212.96, 93.6, 161.20000000000005, 136.74, 131.0, 248.16000000000003, 24.8, 128.38, 205.50000000000003, 180.9, 546.92, 276.0, 150.08, 233.7, 432.0, 124.08, 378.46, 206.98, 123.48, 111.6, 312.5, 192.4, 183.6, 95.2, 250.26, 390.0, 48.4, 184.5, 154.58, 160.02, 150.8, 158.72, 28.32, 255.42, 201.74, 57.96, 194.56, 158.76, 148.48, 227.84, 25.96, 5.24, 192.0, 133.28, 205.84, 273.92, 168.64, 182.24, 270.90000000000003, 341.22, 231.4, 339.2999999999999, 184.8, 46.72, 89.10000000000002, 114.24, 276.86, 51.84, 190.4, 206.64, 29.52, 242.0, 226.92, 216.72, 168.96, 154.88, 222.04, 119.38, 209.92, 311.78, 109.2, 116.16, 226.06, 300.12, 26.0, 23.58, 178.92, 167.70000000000005, 73.84, 215.76, 202.8, 222.64, 236.6, 184.32, 215.9, 251.46, 220.16, 10.0, 5.5600000000000005, 229.32, 241.92, 176.4, 371.28, 199.12, 197.6, 236.88, 129.36, 178.56, 128.64, 178.22, 196.08, 84.0, 229.68, 132.3, 112.0, 241.8, 202.16000000000003, 239.2, 104.12, 180.88, 241.04, 179.51999999999995, 167.70000000000005, 155.44, 242.52, 226.2, 126.04, 155.44, 267.5, 275.6, 116.1, 307.02, 59.22, 101.4, 76.8, 188.64, 172.86, 242.06, 229.68, 202.8, 235.52, 231.14, 253.38, 220.98, 223.6, 225.0, 170.28, 198.12, 119.7, 189.44, 233.68, 150.8, 278.48, 248.32, 136.64, 62.63999999999999, 152.52, 248.9, 203.2, 218.44, 264.16, 167.68, 151.04, 39.90000000000001, 516.8399999999998, 213.28, 86.46000000000002, 30.72, 46.8, 269.24, 304.92, 178.92, 152.4, 224.48, 182.04, 203.36, 144.72, 319.64, 213.84, 228.8, 174.20000000000005, 211.2, 124.2, 231.4, 251.46, 306.54, 208.0, 259.38, 184.6, 204.36, 127.88, 227.94, 189.8, 195.0, 211.56, 48.96, 151.62, 236.6, 230.64, 89.75999999999998], \"y\": [187.1873016357422, 159.576171875, 120.26437377929688, 151.1484375, 280.2830505371094, 22.392200469970703, 128.80087280273438, 178.5255126953125, 207.90704345703125, 209.9000244140625, 295.3006896972656, 195.00656127929688, 237.94363403320312, 258.0992431640625, 228.1876220703125, 141.60659790039062, 173.4528045654297, 163.10482788085938, 152.69003295898438, 300.23175048828125, 221.79446411132812, 149.67990112304688, 278.17144775390625, 80.644287109375, 205.7103729248047, 20.781709671020508, 212.9281005859375, 93.00535583496094, 163.130126953125, 139.3948974609375, 133.85870361328125, 250.5151824951172, 21.706329345703125, 131.3358154296875, 218.42526245117188, 187.2978515625, 569.3243408203125, 282.0841979980469, 154.95571899414062, 234.05043029785156, 434.66143798828125, 126.42479705810547, 378.56231689453125, 208.88099670410156, 124.33979034423828, 112.2342300415039, 312.7014465332031, 193.5523223876953, 190.24624633789062, 99.66761016845703, 250.72134399414062, 390.3434143066406, 47.1803092956543, 184.7838897705078, 157.78497314453125, 161.48443603515625, 152.6779022216797, 159.494384765625, 25.729637145996094, 256.5787658691406, 203.61907958984375, 53.2838249206543, 195.56057739257812, 159.72067260742188, 149.88070678710938, 227.91510009765625, 24.418128967285156, 4.9507951736450195, 192.37985229492188, 138.41989135742188, 206.62229919433594, 274.6386413574219, 167.28018188476562, 187.43270874023438, 272.15240478515625, 342.5353698730469, 232.4464111328125, 345.4796447753906, 188.11349487304688, 51.99495315551758, 87.7258529663086, 117.3648452758789, 276.7341003417969, 54.36460494995117, 192.467041015625, 207.4182586669922, 26.566999435424805, 243.45509338378906, 227.3598175048828, 216.0353240966797, 169.67843627929688, 155.23440551757812, 222.197509765625, 120.35526275634766, 210.45562744140625, 315.5596008300781, 108.47427368164062, 116.47879791259766, 226.58372497558594, 300.5962829589844, 22.812255859375, 23.870445251464844, 179.7966766357422, 168.62557983398438, 78.28044128417969, 214.84982299804688, 203.57077026367188, 224.11276245117188, 237.910888671875, 185.2859649658203, 215.64407348632812, 250.47384643554688, 220.47291564941406, 9.2313232421875, 5.268283367156982, 229.10606384277344, 238.20529174804688, 176.98092651367188, 374.13250732421875, 200.8919219970703, 199.10272216796875, 237.22235107421875, 132.8004913330078, 178.30494689941406, 132.44039916992188, 182.89202880859375, 198.18951416015625, 88.25079345703125, 233.68222045898438, 136.9480743408203, 119.70349884033203, 243.31280517578125, 206.19271850585938, 241.330810546875, 105.8053207397461, 185.3001251220703, 243.880126953125, 187.98577880859375, 168.37896728515625, 160.82623291015625, 244.3252716064453, 227.74822998046875, 131.28228759765625, 161.27764892578125, 267.5092468261719, 275.2523193359375, 119.21134948730469, 307.3232421875, 58.324222564697266, 101.60340118408203, 74.12332916259766, 191.79222106933594, 174.8977813720703, 242.10659790039062, 232.62844848632812, 204.2301025390625, 236.28062438964844, 230.86465454101562, 255.69439697265625, 221.08071899414062, 224.6259307861328, 225.25479125976562, 172.0087127685547, 199.06552124023438, 121.33576202392578, 190.21820068359375, 233.5347900390625, 152.12710571289062, 282.262451171875, 248.59976196289062, 138.05059814453125, 62.81477355957031, 153.44900512695312, 251.16104125976562, 203.64932250976562, 219.07754516601562, 263.1845397949219, 170.33091735839844, 152.17137145996094, 31.356491088867188, 524.2682495117188, 213.69781494140625, 87.42806243896484, 19.85584259033203, 45.446144104003906, 267.5426330566406, 303.3192443847656, 176.5503387451172, 147.98501586914062, 224.95704650878906, 182.37542724609375, 202.75567626953125, 149.5147247314453, 319.1130676269531, 216.26861572265625, 230.12863159179688, 181.73464965820312, 214.1209716796875, 129.48997497558594, 231.43276977539062, 252.3668670654297, 309.5137023925781, 210.25946044921875, 261.4311218261719, 186.6883544921875, 205.98187255859375, 136.6737060546875, 229.8103790283203, 191.65469360351562, 197.06048583984375, 213.13694763183594, 49.58626174926758, 156.23912048339844, 237.5301055908203, 231.68798828125, 91.08055877685547]}, {\"marker\": {\"color\": \"red\", \"size\": 12}, \"mode\": \"markers\", \"name\": \"Young's Modulus (Testing)\", \"text\": [\"HfNbB4\", \"Hf2SnC\", \"HfVF6\", \"HfIN\", \"HfBrN\", \"Hf(CoSi)2\", \"HfMoP\", \"Ba3Hf2O7\", \"Ba2HfO4\", \"HfSiS\", \"HfGeSe\", \"HfGeS\", \"LiHf2Os\", \"HfAlRh2\", \"Hf2MoIr\", \"Hf2CoRe\", \"Hf2FeIr\", \"HfAlRu2\", \"HfPaTc2\", \"HfGaRh2\", \"HfMgIr2\", \"HfTaRe2\", \"HfScRu2\", \"HfTaTc2\", \"HfMgRh2\", \"Hf2MoRh\", \"Hf2OsRh\", \"Hf2MnIr\", \"TmHfRu2\", \"LuHfRu2\", \"Hf2CoTc\", \"HfZnAu2\", \"LiHfRh2\", \"Hf2TcRu\", \"Hf2ReRh\", \"HfMgAu2\"], \"type\": \"scatter\", \"x\": [516.8399999999998, 213.28, 86.46000000000002, 30.72, 46.8, 269.24, 304.92, 178.92, 152.4, 224.48, 182.04, 203.36, 144.72, 319.64, 213.84, 228.8, 174.20000000000005, 211.2, 124.2, 231.4, 251.46, 306.54, 208.0, 259.38, 184.6, 204.36, 127.88, 227.94, 189.8, 195.0, 211.56, 48.96, 151.62, 236.6, 230.64, 89.75999999999998], \"y\": [524.2682495117188, 213.69781494140625, 87.42806243896484, 19.85584259033203, 45.446144104003906, 267.5426330566406, 303.3192443847656, 176.5503387451172, 147.98501586914062, 224.95704650878906, 182.37542724609375, 202.75567626953125, 149.5147247314453, 319.1130676269531, 216.26861572265625, 230.12863159179688, 181.73464965820312, 214.1209716796875, 129.48997497558594, 231.43276977539062, 252.3668670654297, 309.5137023925781, 210.25946044921875, 261.4311218261719, 186.6883544921875, 205.98187255859375, 136.6737060546875, 229.8103790283203, 191.65469360351562, 197.06048583984375, 213.13694763183594, 49.58626174926758, 156.23912048339844, 237.5301055908203, 231.68798828125, 91.08055877685547]}, {\"mode\": \"lines\", \"name\": \"Match\", \"type\": \"scatter\", \"x\": [0, 600], \"y\": [0, 600]}],\n",
       "                        {\"height\": 600, \"hovermode\": \"closest\", \"legend\": {\"font\": {\"size\": 24}}, \"showlegend\": true, \"template\": {\"data\": {\"bar\": [{\"error_x\": {\"color\": \"#2a3f5f\"}, \"error_y\": {\"color\": \"#2a3f5f\"}, \"marker\": {\"line\": {\"color\": \"#E5ECF6\", \"width\": 0.5}}, \"type\": \"bar\"}], \"barpolar\": [{\"marker\": {\"line\": {\"color\": \"#E5ECF6\", \"width\": 0.5}}, \"type\": \"barpolar\"}], \"carpet\": [{\"aaxis\": {\"endlinecolor\": \"#2a3f5f\", \"gridcolor\": \"white\", \"linecolor\": \"white\", \"minorgridcolor\": \"white\", \"startlinecolor\": \"#2a3f5f\"}, \"baxis\": {\"endlinecolor\": \"#2a3f5f\", \"gridcolor\": \"white\", \"linecolor\": \"white\", \"minorgridcolor\": \"white\", \"startlinecolor\": \"#2a3f5f\"}, \"type\": \"carpet\"}], \"choropleth\": [{\"colorbar\": {\"outlinewidth\": 0, \"ticks\": \"\"}, \"type\": \"choropleth\"}], \"contour\": [{\"colorbar\": {\"outlinewidth\": 0, \"ticks\": \"\"}, \"colorscale\": [[0.0, \"#0d0887\"], [0.1111111111111111, \"#46039f\"], [0.2222222222222222, \"#7201a8\"], [0.3333333333333333, \"#9c179e\"], [0.4444444444444444, \"#bd3786\"], [0.5555555555555556, \"#d8576b\"], [0.6666666666666666, \"#ed7953\"], [0.7777777777777778, \"#fb9f3a\"], [0.8888888888888888, \"#fdca26\"], [1.0, \"#f0f921\"]], \"type\": \"contour\"}], \"contourcarpet\": [{\"colorbar\": {\"outlinewidth\": 0, \"ticks\": \"\"}, \"type\": \"contourcarpet\"}], \"heatmap\": [{\"colorbar\": {\"outlinewidth\": 0, \"ticks\": \"\"}, \"colorscale\": [[0.0, \"#0d0887\"], [0.1111111111111111, \"#46039f\"], [0.2222222222222222, \"#7201a8\"], [0.3333333333333333, \"#9c179e\"], [0.4444444444444444, \"#bd3786\"], [0.5555555555555556, \"#d8576b\"], [0.6666666666666666, \"#ed7953\"], [0.7777777777777778, \"#fb9f3a\"], [0.8888888888888888, \"#fdca26\"], [1.0, \"#f0f921\"]], \"type\": \"heatmap\"}], \"heatmapgl\": [{\"colorbar\": {\"outlinewidth\": 0, \"ticks\": \"\"}, \"colorscale\": [[0.0, \"#0d0887\"], [0.1111111111111111, \"#46039f\"], [0.2222222222222222, \"#7201a8\"], [0.3333333333333333, \"#9c179e\"], [0.4444444444444444, \"#bd3786\"], [0.5555555555555556, \"#d8576b\"], [0.6666666666666666, \"#ed7953\"], [0.7777777777777778, \"#fb9f3a\"], [0.8888888888888888, \"#fdca26\"], [1.0, \"#f0f921\"]], \"type\": \"heatmapgl\"}], \"histogram\": [{\"marker\": {\"colorbar\": {\"outlinewidth\": 0, \"ticks\": \"\"}}, \"type\": \"histogram\"}], \"histogram2d\": [{\"colorbar\": {\"outlinewidth\": 0, \"ticks\": \"\"}, \"colorscale\": [[0.0, \"#0d0887\"], [0.1111111111111111, \"#46039f\"], [0.2222222222222222, \"#7201a8\"], [0.3333333333333333, \"#9c179e\"], [0.4444444444444444, \"#bd3786\"], [0.5555555555555556, \"#d8576b\"], [0.6666666666666666, \"#ed7953\"], [0.7777777777777778, \"#fb9f3a\"], [0.8888888888888888, \"#fdca26\"], [1.0, \"#f0f921\"]], \"type\": \"histogram2d\"}], \"histogram2dcontour\": [{\"colorbar\": {\"outlinewidth\": 0, \"ticks\": \"\"}, \"colorscale\": [[0.0, \"#0d0887\"], [0.1111111111111111, \"#46039f\"], [0.2222222222222222, \"#7201a8\"], [0.3333333333333333, \"#9c179e\"], [0.4444444444444444, \"#bd3786\"], [0.5555555555555556, \"#d8576b\"], [0.6666666666666666, \"#ed7953\"], [0.7777777777777778, \"#fb9f3a\"], [0.8888888888888888, \"#fdca26\"], [1.0, \"#f0f921\"]], \"type\": \"histogram2dcontour\"}], \"mesh3d\": [{\"colorbar\": {\"outlinewidth\": 0, \"ticks\": \"\"}, \"type\": \"mesh3d\"}], \"parcoords\": [{\"line\": {\"colorbar\": {\"outlinewidth\": 0, \"ticks\": \"\"}}, \"type\": \"parcoords\"}], \"pie\": [{\"automargin\": true, \"type\": \"pie\"}], \"scatter\": [{\"marker\": {\"colorbar\": {\"outlinewidth\": 0, \"ticks\": \"\"}}, \"type\": \"scatter\"}], \"scatter3d\": [{\"line\": {\"colorbar\": {\"outlinewidth\": 0, \"ticks\": \"\"}}, \"marker\": {\"colorbar\": {\"outlinewidth\": 0, \"ticks\": \"\"}}, \"type\": \"scatter3d\"}], \"scattercarpet\": [{\"marker\": {\"colorbar\": {\"outlinewidth\": 0, \"ticks\": \"\"}}, \"type\": \"scattercarpet\"}], \"scattergeo\": [{\"marker\": {\"colorbar\": {\"outlinewidth\": 0, \"ticks\": \"\"}}, \"type\": \"scattergeo\"}], \"scattergl\": [{\"marker\": {\"colorbar\": {\"outlinewidth\": 0, \"ticks\": \"\"}}, \"type\": \"scattergl\"}], \"scattermapbox\": [{\"marker\": {\"colorbar\": {\"outlinewidth\": 0, \"ticks\": \"\"}}, \"type\": \"scattermapbox\"}], \"scatterpolar\": [{\"marker\": {\"colorbar\": {\"outlinewidth\": 0, \"ticks\": \"\"}}, \"type\": \"scatterpolar\"}], \"scatterpolargl\": [{\"marker\": {\"colorbar\": {\"outlinewidth\": 0, \"ticks\": \"\"}}, \"type\": \"scatterpolargl\"}], \"scatterternary\": [{\"marker\": {\"colorbar\": {\"outlinewidth\": 0, \"ticks\": \"\"}}, \"type\": \"scatterternary\"}], \"surface\": [{\"colorbar\": {\"outlinewidth\": 0, \"ticks\": \"\"}, \"colorscale\": [[0.0, \"#0d0887\"], [0.1111111111111111, \"#46039f\"], [0.2222222222222222, \"#7201a8\"], [0.3333333333333333, \"#9c179e\"], [0.4444444444444444, \"#bd3786\"], [0.5555555555555556, \"#d8576b\"], [0.6666666666666666, \"#ed7953\"], [0.7777777777777778, \"#fb9f3a\"], [0.8888888888888888, \"#fdca26\"], [1.0, \"#f0f921\"]], \"type\": \"surface\"}], \"table\": [{\"cells\": {\"fill\": {\"color\": \"#EBF0F8\"}, \"line\": {\"color\": \"white\"}}, \"header\": {\"fill\": {\"color\": \"#C8D4E3\"}, \"line\": {\"color\": \"white\"}}, \"type\": \"table\"}]}, \"layout\": {\"annotationdefaults\": {\"arrowcolor\": \"#2a3f5f\", \"arrowhead\": 0, \"arrowwidth\": 1}, \"coloraxis\": {\"colorbar\": {\"outlinewidth\": 0, \"ticks\": \"\"}}, \"colorscale\": {\"diverging\": [[0, \"#8e0152\"], [0.1, \"#c51b7d\"], [0.2, \"#de77ae\"], [0.3, \"#f1b6da\"], [0.4, \"#fde0ef\"], [0.5, \"#f7f7f7\"], [0.6, \"#e6f5d0\"], [0.7, \"#b8e186\"], [0.8, \"#7fbc41\"], [0.9, \"#4d9221\"], [1, \"#276419\"]], \"sequential\": [[0.0, \"#0d0887\"], [0.1111111111111111, \"#46039f\"], [0.2222222222222222, \"#7201a8\"], [0.3333333333333333, \"#9c179e\"], [0.4444444444444444, \"#bd3786\"], [0.5555555555555556, \"#d8576b\"], [0.6666666666666666, \"#ed7953\"], [0.7777777777777778, \"#fb9f3a\"], [0.8888888888888888, \"#fdca26\"], [1.0, \"#f0f921\"]], \"sequentialminus\": [[0.0, \"#0d0887\"], [0.1111111111111111, \"#46039f\"], [0.2222222222222222, \"#7201a8\"], [0.3333333333333333, \"#9c179e\"], [0.4444444444444444, \"#bd3786\"], [0.5555555555555556, \"#d8576b\"], [0.6666666666666666, \"#ed7953\"], [0.7777777777777778, \"#fb9f3a\"], [0.8888888888888888, \"#fdca26\"], [1.0, \"#f0f921\"]]}, \"colorway\": [\"#636efa\", \"#EF553B\", \"#00cc96\", \"#ab63fa\", \"#FFA15A\", \"#19d3f3\", \"#FF6692\", \"#B6E880\", \"#FF97FF\", \"#FECB52\"], \"font\": {\"color\": \"#2a3f5f\"}, \"geo\": {\"bgcolor\": \"white\", \"lakecolor\": \"white\", \"landcolor\": \"#E5ECF6\", \"showlakes\": true, \"showland\": true, \"subunitcolor\": \"white\"}, \"hoverlabel\": {\"align\": \"left\"}, \"hovermode\": \"closest\", \"mapbox\": {\"style\": \"light\"}, \"paper_bgcolor\": \"white\", \"plot_bgcolor\": \"#E5ECF6\", \"polar\": {\"angularaxis\": {\"gridcolor\": \"white\", \"linecolor\": \"white\", \"ticks\": \"\"}, \"bgcolor\": \"#E5ECF6\", \"radialaxis\": {\"gridcolor\": \"white\", \"linecolor\": \"white\", \"ticks\": \"\"}}, \"scene\": {\"xaxis\": {\"backgroundcolor\": \"#E5ECF6\", \"gridcolor\": \"white\", \"gridwidth\": 2, \"linecolor\": \"white\", \"showbackground\": true, \"ticks\": \"\", \"zerolinecolor\": \"white\"}, \"yaxis\": {\"backgroundcolor\": \"#E5ECF6\", \"gridcolor\": \"white\", \"gridwidth\": 2, \"linecolor\": \"white\", \"showbackground\": true, \"ticks\": \"\", \"zerolinecolor\": \"white\"}, \"zaxis\": {\"backgroundcolor\": \"#E5ECF6\", \"gridcolor\": \"white\", \"gridwidth\": 2, \"linecolor\": \"white\", \"showbackground\": true, \"ticks\": \"\", \"zerolinecolor\": \"white\"}}, \"shapedefaults\": {\"line\": {\"color\": \"#2a3f5f\"}}, \"ternary\": {\"aaxis\": {\"gridcolor\": \"white\", \"linecolor\": \"white\", \"ticks\": \"\"}, \"baxis\": {\"gridcolor\": \"white\", \"linecolor\": \"white\", \"ticks\": \"\"}, \"bgcolor\": \"#E5ECF6\", \"caxis\": {\"gridcolor\": \"white\", \"linecolor\": \"white\", \"ticks\": \"\"}}, \"title\": {\"x\": 0.05}, \"xaxis\": {\"automargin\": true, \"gridcolor\": \"white\", \"linecolor\": \"white\", \"ticks\": \"\", \"title\": {\"standoff\": 15}, \"zerolinecolor\": \"white\", \"zerolinewidth\": 2}, \"yaxis\": {\"automargin\": true, \"gridcolor\": \"white\", \"linecolor\": \"white\", \"ticks\": \"\", \"title\": {\"standoff\": 15}, \"zerolinecolor\": \"white\", \"zerolinewidth\": 2}}}, \"title\": {\"font\": {\"size\": 28}, \"text\": \"Neural Network Model - Hf compounds Young's Modulus\"}, \"width\": 1000, \"xaxis\": {\"gridwidth\": 1, \"tickfont\": {\"size\": 18}, \"title\": {\"font\": {\"size\": 24}, \"text\": \"Real Values (GPa)\"}, \"zeroline\": false}, \"yaxis\": {\"gridwidth\": 1, \"tickfont\": {\"size\": 18}, \"title\": {\"font\": {\"size\": 24}, \"text\": \"Prediction (GPa)\"}, \"zeroline\": false}},\n",
       "                        {\"responsive\": true}\n",
       "                    ).then(function(){\n",
       "                            \n",
       "var gd = document.getElementById('0681da91-b5d4-4c4f-9955-5ef6163577d8');\n",
       "var x = new MutationObserver(function (mutations, observer) {{\n",
       "        var display = window.getComputedStyle(gd).display;\n",
       "        if (!display || display === 'none') {{\n",
       "            console.log([gd, 'removed!']);\n",
       "            Plotly.purge(gd);\n",
       "            observer.disconnect();\n",
       "        }}\n",
       "}});\n",
       "\n",
       "// Listen for the removal of the full notebook cells\n",
       "var notebookContainer = gd.closest('#notebook-container');\n",
       "if (notebookContainer) {{\n",
       "    x.observe(notebookContainer, {childList: true});\n",
       "}}\n",
       "\n",
       "// Listen for the clearing of the current output cell\n",
       "var outputEl = gd.closest('.output');\n",
       "if (outputEl) {{\n",
       "    x.observe(outputEl, {childList: true});\n",
       "}}\n",
       "\n",
       "                        })\n",
       "                };\n",
       "                });\n",
       "            </script>\n",
       "        </div>"
      ]
     },
     "metadata": {},
     "output_type": "display_data"
    }
   ],
   "source": [
    "import plotly\n",
    "import plotly.graph_objs as go\n",
    "from plotly.offline import iplot\n",
    "\n",
    "plotly.offline.init_notebook_mode(connected=True)\n",
    "\n",
    "layout0= go.Layout(title=go.layout.Title(text=\"Neural Network Model - Hf compounds Young's Modulus\", font=dict(size=28)), hovermode= 'closest', width = 1000, height=600, showlegend=True,  # Hovermode establishes the way the labels that appear when you hover are arranged # Establishing a square plot width=height\n",
    "    xaxis= dict(title=go.layout.xaxis.Title(text='Real Values (GPa)', font=dict(size=24)), zeroline= False, gridwidth= 1, tickfont=dict(size=18)), # Axis Titles. Removing the X-axis Mark. Adding a Grid\n",
    "    yaxis= dict(title=go.layout.yaxis.Title(text='Prediction (GPa)', font=dict(size=24)), zeroline= False, gridwidth= 1, tickfont=dict(size=18)), # Axis Titles. Removing the Y-axis Mark. Adding a Grid\n",
    "    legend=dict(font=dict(size=24))) # Adding a legend\n",
    "\n",
    "trace0 = go.Scatter(x = all_labels, y = predictions, mode = 'markers', marker= dict(size= 12, color= 'blue'), text= elements, name = 'Young\\'s Modulus (Training)')\n",
    "trace1 = go.Scatter(x = test_labels, y = test_predictions, mode = 'markers', marker= dict(size= 12, color= 'red'), text = labeled_elements, name = 'Young\\'s Modulus (Testing)')\n",
    "trace2 = go.Scatter(x = [0,600], y = [0,600], mode = 'lines', name = \"Match\") # This trace is the line X = Y which would indicate that the Prediction equals the real value\n",
    "\n",
    "data = [trace0, trace1, trace2]\n",
    "fig= go.Figure(data, layout=layout0)\n",
    "iplot(fig)"
   ]
  },
  {
   "cell_type": "code",
   "execution_count": 19,
   "metadata": {},
   "outputs": [
    {
     "name": "stdout",
     "output_type": "stream",
     "text": [
      "216/216 - 0s - loss: 8.5566e-06 - mean_absolute_error: 8.5566e-06\n",
      "Loss: 8.556577928107732e-06, Accuracy: 8.55657799547771e-06\n"
     ]
    }
   ],
   "source": [
    "model_loss, model_accuracy = model.evaluate(values, predictions,verbose=2)\n",
    "print(f\"Loss: {model_loss}, Accuracy: {model_accuracy}\")"
   ]
  },
  {
   "cell_type": "code",
   "execution_count": null,
   "metadata": {},
   "outputs": [],
   "source": []
  }
 ],
 "metadata": {
  "kernelspec": {
   "display_name": "PythonData",
   "language": "python",
   "name": "pythondata"
  },
  "language_info": {
   "codemirror_mode": {
    "name": "ipython",
    "version": 3
   },
   "file_extension": ".py",
   "mimetype": "text/x-python",
   "name": "python",
   "nbconvert_exporter": "python",
   "pygments_lexer": "ipython3",
   "version": "3.7.7"
  }
 },
 "nbformat": 4,
 "nbformat_minor": 2
}
