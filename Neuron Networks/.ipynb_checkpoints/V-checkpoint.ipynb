{
 "cells": [
  {
   "cell_type": "markdown",
   "metadata": {},
   "source": [
    "### 1. Getting a dataset\n",
    "\n",
    "We have 12 datasets to explore in this notebook to predict the Young's Modulus with a three-layer neuron networks model with 2000 epochs. "
   ]
  },
  {
   "cell_type": "code",
   "execution_count": 1,
   "metadata": {},
   "outputs": [
    {
     "name": "stderr",
     "output_type": "stream",
     "text": [
      "C:\\Users\\Kayla Yano\\anaconda3\\envs\\PythonData\\lib\\site-packages\\tensorflow\\python\\framework\\dtypes.py:516: FutureWarning: Passing (type, 1) or '1type' as a synonym of type is deprecated; in a future version of numpy, it will be understood as (type, (1,)) / '(1,)type'.\n",
      "  _np_qint8 = np.dtype([(\"qint8\", np.int8, 1)])\n",
      "C:\\Users\\Kayla Yano\\anaconda3\\envs\\PythonData\\lib\\site-packages\\tensorflow\\python\\framework\\dtypes.py:517: FutureWarning: Passing (type, 1) or '1type' as a synonym of type is deprecated; in a future version of numpy, it will be understood as (type, (1,)) / '(1,)type'.\n",
      "  _np_quint8 = np.dtype([(\"quint8\", np.uint8, 1)])\n",
      "C:\\Users\\Kayla Yano\\anaconda3\\envs\\PythonData\\lib\\site-packages\\tensorflow\\python\\framework\\dtypes.py:518: FutureWarning: Passing (type, 1) or '1type' as a synonym of type is deprecated; in a future version of numpy, it will be understood as (type, (1,)) / '(1,)type'.\n",
      "  _np_qint16 = np.dtype([(\"qint16\", np.int16, 1)])\n",
      "C:\\Users\\Kayla Yano\\anaconda3\\envs\\PythonData\\lib\\site-packages\\tensorflow\\python\\framework\\dtypes.py:519: FutureWarning: Passing (type, 1) or '1type' as a synonym of type is deprecated; in a future version of numpy, it will be understood as (type, (1,)) / '(1,)type'.\n",
      "  _np_quint16 = np.dtype([(\"quint16\", np.uint16, 1)])\n",
      "C:\\Users\\Kayla Yano\\anaconda3\\envs\\PythonData\\lib\\site-packages\\tensorflow\\python\\framework\\dtypes.py:520: FutureWarning: Passing (type, 1) or '1type' as a synonym of type is deprecated; in a future version of numpy, it will be understood as (type, (1,)) / '(1,)type'.\n",
      "  _np_qint32 = np.dtype([(\"qint32\", np.int32, 1)])\n",
      "C:\\Users\\Kayla Yano\\anaconda3\\envs\\PythonData\\lib\\site-packages\\tensorflow\\python\\framework\\dtypes.py:525: FutureWarning: Passing (type, 1) or '1type' as a synonym of type is deprecated; in a future version of numpy, it will be understood as (type, (1,)) / '(1,)type'.\n",
      "  np_resource = np.dtype([(\"resource\", np.ubyte, 1)])\n",
      "C:\\Users\\Kayla Yano\\anaconda3\\envs\\PythonData\\lib\\site-packages\\tensorboard\\compat\\tensorflow_stub\\dtypes.py:541: FutureWarning: Passing (type, 1) or '1type' as a synonym of type is deprecated; in a future version of numpy, it will be understood as (type, (1,)) / '(1,)type'.\n",
      "  _np_qint8 = np.dtype([(\"qint8\", np.int8, 1)])\n",
      "C:\\Users\\Kayla Yano\\anaconda3\\envs\\PythonData\\lib\\site-packages\\tensorboard\\compat\\tensorflow_stub\\dtypes.py:542: FutureWarning: Passing (type, 1) or '1type' as a synonym of type is deprecated; in a future version of numpy, it will be understood as (type, (1,)) / '(1,)type'.\n",
      "  _np_quint8 = np.dtype([(\"quint8\", np.uint8, 1)])\n",
      "C:\\Users\\Kayla Yano\\anaconda3\\envs\\PythonData\\lib\\site-packages\\tensorboard\\compat\\tensorflow_stub\\dtypes.py:543: FutureWarning: Passing (type, 1) or '1type' as a synonym of type is deprecated; in a future version of numpy, it will be understood as (type, (1,)) / '(1,)type'.\n",
      "  _np_qint16 = np.dtype([(\"qint16\", np.int16, 1)])\n",
      "C:\\Users\\Kayla Yano\\anaconda3\\envs\\PythonData\\lib\\site-packages\\tensorboard\\compat\\tensorflow_stub\\dtypes.py:544: FutureWarning: Passing (type, 1) or '1type' as a synonym of type is deprecated; in a future version of numpy, it will be understood as (type, (1,)) / '(1,)type'.\n",
      "  _np_quint16 = np.dtype([(\"quint16\", np.uint16, 1)])\n",
      "C:\\Users\\Kayla Yano\\anaconda3\\envs\\PythonData\\lib\\site-packages\\tensorboard\\compat\\tensorflow_stub\\dtypes.py:545: FutureWarning: Passing (type, 1) or '1type' as a synonym of type is deprecated; in a future version of numpy, it will be understood as (type, (1,)) / '(1,)type'.\n",
      "  _np_qint32 = np.dtype([(\"qint32\", np.int32, 1)])\n",
      "C:\\Users\\Kayla Yano\\anaconda3\\envs\\PythonData\\lib\\site-packages\\tensorboard\\compat\\tensorflow_stub\\dtypes.py:550: FutureWarning: Passing (type, 1) or '1type' as a synonym of type is deprecated; in a future version of numpy, it will be understood as (type, (1,)) / '(1,)type'.\n",
      "  np_resource = np.dtype([(\"resource\", np.ubyte, 1)])\n"
     ]
    }
   ],
   "source": [
    "import pymatgen as pymat\n",
    "import mendeleev as mendel\n",
    "import pandas as pd\n",
    "import numpy as np\n",
    "from pathlib import Path\n",
    "import tensorflow as tf\n",
    "import tensorflow.keras\n",
    "from tensorflow.keras import initializers\n",
    "from tensorflow.keras.layers import Dense\n",
    "from tensorflow.keras.models import Sequential\n",
    "from tensorflow.keras import optimizers\n",
    "\n",
    "import sys\n",
    "import os\n",
    "sys.path.insert(0, '../src/')\n",
    "\n",
    "%matplotlib inline\n",
    "import matplotlib.pyplot as plt"
   ]
  },
  {
   "cell_type": "code",
   "execution_count": 2,
   "metadata": {
    "scrolled": true
   },
   "outputs": [
    {
     "data": {
      "text/html": [
       "<div>\n",
       "<style scoped>\n",
       "    .dataframe tbody tr th:only-of-type {\n",
       "        vertical-align: middle;\n",
       "    }\n",
       "\n",
       "    .dataframe tbody tr th {\n",
       "        vertical-align: top;\n",
       "    }\n",
       "\n",
       "    .dataframe thead th {\n",
       "        text-align: right;\n",
       "    }\n",
       "</style>\n",
       "<table border=\"1\" class=\"dataframe\">\n",
       "  <thead>\n",
       "    <tr style=\"text-align: right;\">\n",
       "      <th></th>\n",
       "      <th>Unnamed: 0</th>\n",
       "      <th>mp_id</th>\n",
       "      <th>Formula</th>\n",
       "      <th>Composition</th>\n",
       "      <th>IPF</th>\n",
       "      <th>Density</th>\n",
       "      <th>Elastic_Tensor</th>\n",
       "      <th>E_above_Hull</th>\n",
       "      <th>G_VRH</th>\n",
       "      <th>K_VRH</th>\n",
       "      <th>Elastic_Anisotropy</th>\n",
       "      <th>poisson_ratio</th>\n",
       "      <th>Y_Modulus</th>\n",
       "    </tr>\n",
       "  </thead>\n",
       "  <tbody>\n",
       "    <tr>\n",
       "      <th>0</th>\n",
       "      <td>0</td>\n",
       "      <td>mp-1033</td>\n",
       "      <td>BeNi</td>\n",
       "      <td>{'Be': 1.0, 'Ni': 1.0}</td>\n",
       "      <td>0.144666</td>\n",
       "      <td>6.359074</td>\n",
       "      <td>{'G_Reuss': -111.0, 'G_VRH': -20.0, 'G_Voigt':...</td>\n",
       "      <td>0.0</td>\n",
       "      <td>-20.0</td>\n",
       "      <td>185.0</td>\n",
       "      <td>-8.18</td>\n",
       "      <td>0.56</td>\n",
       "      <td>-62.40</td>\n",
       "    </tr>\n",
       "    <tr>\n",
       "      <th>1</th>\n",
       "      <td>1</td>\n",
       "      <td>mp-1048</td>\n",
       "      <td>TiNi</td>\n",
       "      <td>{'Ti': 1.0, 'Ni': 1.0}</td>\n",
       "      <td>0.155298</td>\n",
       "      <td>6.412986</td>\n",
       "      <td>{'G_Reuss': 19.0, 'G_VRH': 38.0, 'G_Voigt': 58...</td>\n",
       "      <td>0.0</td>\n",
       "      <td>38.0</td>\n",
       "      <td>152.0</td>\n",
       "      <td>10.41</td>\n",
       "      <td>0.38</td>\n",
       "      <td>104.88</td>\n",
       "    </tr>\n",
       "    <tr>\n",
       "      <th>2</th>\n",
       "      <td>2</td>\n",
       "      <td>mp-1050</td>\n",
       "      <td>Ni3S4</td>\n",
       "      <td>{'Ni': 3.0, 'S': 4.0}</td>\n",
       "      <td>0.158236</td>\n",
       "      <td>4.843489</td>\n",
       "      <td>{'G_Reuss': 43.0, 'G_VRH': 43.0, 'G_Voigt': 43...</td>\n",
       "      <td>0.0</td>\n",
       "      <td>43.0</td>\n",
       "      <td>115.0</td>\n",
       "      <td>0.00</td>\n",
       "      <td>0.33</td>\n",
       "      <td>114.38</td>\n",
       "    </tr>\n",
       "    <tr>\n",
       "      <th>3</th>\n",
       "      <td>3</td>\n",
       "      <td>mp-1057</td>\n",
       "      <td>Al3Ni2</td>\n",
       "      <td>{'Al': 3.0, 'Ni': 2.0}</td>\n",
       "      <td>0.105096</td>\n",
       "      <td>4.767799</td>\n",
       "      <td>{'G_Reuss': 85.0, 'G_VRH': 86.0, 'G_Voigt': 86...</td>\n",
       "      <td>0.0</td>\n",
       "      <td>86.0</td>\n",
       "      <td>130.0</td>\n",
       "      <td>0.05</td>\n",
       "      <td>0.23</td>\n",
       "      <td>211.56</td>\n",
       "    </tr>\n",
       "    <tr>\n",
       "      <th>4</th>\n",
       "      <td>4</td>\n",
       "      <td>mp-1099</td>\n",
       "      <td>NiGe</td>\n",
       "      <td>{'Ni': 1.0, 'Ge': 1.0}</td>\n",
       "      <td>0.132183</td>\n",
       "      <td>7.985963</td>\n",
       "      <td>{'G_Reuss': 54.0, 'G_VRH': 62.0, 'G_Voigt': 70...</td>\n",
       "      <td>0.0</td>\n",
       "      <td>62.0</td>\n",
       "      <td>136.0</td>\n",
       "      <td>1.47</td>\n",
       "      <td>0.30</td>\n",
       "      <td>161.20</td>\n",
       "    </tr>\n",
       "    <tr>\n",
       "      <th>...</th>\n",
       "      <td>...</td>\n",
       "      <td>...</td>\n",
       "      <td>...</td>\n",
       "      <td>...</td>\n",
       "      <td>...</td>\n",
       "      <td>...</td>\n",
       "      <td>...</td>\n",
       "      <td>...</td>\n",
       "      <td>...</td>\n",
       "      <td>...</td>\n",
       "      <td>...</td>\n",
       "      <td>...</td>\n",
       "      <td>...</td>\n",
       "    </tr>\n",
       "    <tr>\n",
       "      <th>378</th>\n",
       "      <td>379</td>\n",
       "      <td>mp-6223</td>\n",
       "      <td>DyNi2B2C</td>\n",
       "      <td>{'Dy': 1.0, 'Ni': 2.0, 'B': 2.0, 'C': 1.0}</td>\n",
       "      <td>0.155906</td>\n",
       "      <td>8.000364</td>\n",
       "      <td>{'G_Reuss': 68.0, 'G_VRH': 71.0, 'G_Voigt': 75...</td>\n",
       "      <td>0.0</td>\n",
       "      <td>71.0</td>\n",
       "      <td>194.0</td>\n",
       "      <td>0.51</td>\n",
       "      <td>0.34</td>\n",
       "      <td>190.28</td>\n",
       "    </tr>\n",
       "    <tr>\n",
       "      <th>379</th>\n",
       "      <td>380</td>\n",
       "      <td>mp-6754</td>\n",
       "      <td>TmNi2B2C</td>\n",
       "      <td>{'Tm': 1.0, 'Ni': 2.0, 'B': 2.0, 'C': 1.0}</td>\n",
       "      <td>0.149904</td>\n",
       "      <td>8.309262</td>\n",
       "      <td>{'G_Reuss': 70.0, 'G_VRH': 74.0, 'G_Voigt': 79...</td>\n",
       "      <td>0.0</td>\n",
       "      <td>74.0</td>\n",
       "      <td>195.0</td>\n",
       "      <td>0.64</td>\n",
       "      <td>0.33</td>\n",
       "      <td>196.84</td>\n",
       "    </tr>\n",
       "    <tr>\n",
       "      <th>380</th>\n",
       "      <td>381</td>\n",
       "      <td>mp-556353</td>\n",
       "      <td>Rb2NaNiF6</td>\n",
       "      <td>{'Rb': 2.0, 'Na': 1.0, 'Ni': 1.0, 'F': 6.0}</td>\n",
       "      <td>0.358212</td>\n",
       "      <td>3.938823</td>\n",
       "      <td>{'G_Reuss': 26.0, 'G_VRH': 26.0, 'G_Voigt': 26...</td>\n",
       "      <td>0.0</td>\n",
       "      <td>26.0</td>\n",
       "      <td>41.0</td>\n",
       "      <td>0.14</td>\n",
       "      <td>0.24</td>\n",
       "      <td>64.48</td>\n",
       "    </tr>\n",
       "    <tr>\n",
       "      <th>381</th>\n",
       "      <td>382</td>\n",
       "      <td>mp-1025123</td>\n",
       "      <td>UNi2B2C</td>\n",
       "      <td>{'U': 1.0, 'Ni': 2.0, 'B': 2.0, 'C': 1.0}</td>\n",
       "      <td>0.127363</td>\n",
       "      <td>10.077118</td>\n",
       "      <td>{'G_Reuss': 82.0, 'G_VRH': 93.0, 'G_Voigt': 10...</td>\n",
       "      <td>0.0</td>\n",
       "      <td>93.0</td>\n",
       "      <td>209.0</td>\n",
       "      <td>1.25</td>\n",
       "      <td>0.31</td>\n",
       "      <td>243.66</td>\n",
       "    </tr>\n",
       "    <tr>\n",
       "      <th>382</th>\n",
       "      <td>383</td>\n",
       "      <td>mp-504723</td>\n",
       "      <td>Ba2NiWO6</td>\n",
       "      <td>{'Ba': 2.0, 'Ni': 1.0, 'W': 1.0, 'O': 6.0}</td>\n",
       "      <td>0.590346</td>\n",
       "      <td>7.368893</td>\n",
       "      <td>{'G_Reuss': 62.0, 'G_VRH': 65.0, 'G_Voigt': 68...</td>\n",
       "      <td>0.0</td>\n",
       "      <td>65.0</td>\n",
       "      <td>122.0</td>\n",
       "      <td>0.48</td>\n",
       "      <td>0.27</td>\n",
       "      <td>165.10</td>\n",
       "    </tr>\n",
       "  </tbody>\n",
       "</table>\n",
       "<p>383 rows × 13 columns</p>\n",
       "</div>"
      ],
      "text/plain": [
       "     Unnamed: 0       mp_id    Formula  \\\n",
       "0             0     mp-1033       BeNi   \n",
       "1             1     mp-1048       TiNi   \n",
       "2             2     mp-1050      Ni3S4   \n",
       "3             3     mp-1057     Al3Ni2   \n",
       "4             4     mp-1099       NiGe   \n",
       "..          ...         ...        ...   \n",
       "378         379     mp-6223   DyNi2B2C   \n",
       "379         380     mp-6754   TmNi2B2C   \n",
       "380         381   mp-556353  Rb2NaNiF6   \n",
       "381         382  mp-1025123    UNi2B2C   \n",
       "382         383   mp-504723   Ba2NiWO6   \n",
       "\n",
       "                                     Composition       IPF    Density  \\\n",
       "0                         {'Be': 1.0, 'Ni': 1.0}  0.144666   6.359074   \n",
       "1                         {'Ti': 1.0, 'Ni': 1.0}  0.155298   6.412986   \n",
       "2                          {'Ni': 3.0, 'S': 4.0}  0.158236   4.843489   \n",
       "3                         {'Al': 3.0, 'Ni': 2.0}  0.105096   4.767799   \n",
       "4                         {'Ni': 1.0, 'Ge': 1.0}  0.132183   7.985963   \n",
       "..                                           ...       ...        ...   \n",
       "378   {'Dy': 1.0, 'Ni': 2.0, 'B': 2.0, 'C': 1.0}  0.155906   8.000364   \n",
       "379   {'Tm': 1.0, 'Ni': 2.0, 'B': 2.0, 'C': 1.0}  0.149904   8.309262   \n",
       "380  {'Rb': 2.0, 'Na': 1.0, 'Ni': 1.0, 'F': 6.0}  0.358212   3.938823   \n",
       "381    {'U': 1.0, 'Ni': 2.0, 'B': 2.0, 'C': 1.0}  0.127363  10.077118   \n",
       "382   {'Ba': 2.0, 'Ni': 1.0, 'W': 1.0, 'O': 6.0}  0.590346   7.368893   \n",
       "\n",
       "                                        Elastic_Tensor  E_above_Hull  G_VRH  \\\n",
       "0    {'G_Reuss': -111.0, 'G_VRH': -20.0, 'G_Voigt':...           0.0  -20.0   \n",
       "1    {'G_Reuss': 19.0, 'G_VRH': 38.0, 'G_Voigt': 58...           0.0   38.0   \n",
       "2    {'G_Reuss': 43.0, 'G_VRH': 43.0, 'G_Voigt': 43...           0.0   43.0   \n",
       "3    {'G_Reuss': 85.0, 'G_VRH': 86.0, 'G_Voigt': 86...           0.0   86.0   \n",
       "4    {'G_Reuss': 54.0, 'G_VRH': 62.0, 'G_Voigt': 70...           0.0   62.0   \n",
       "..                                                 ...           ...    ...   \n",
       "378  {'G_Reuss': 68.0, 'G_VRH': 71.0, 'G_Voigt': 75...           0.0   71.0   \n",
       "379  {'G_Reuss': 70.0, 'G_VRH': 74.0, 'G_Voigt': 79...           0.0   74.0   \n",
       "380  {'G_Reuss': 26.0, 'G_VRH': 26.0, 'G_Voigt': 26...           0.0   26.0   \n",
       "381  {'G_Reuss': 82.0, 'G_VRH': 93.0, 'G_Voigt': 10...           0.0   93.0   \n",
       "382  {'G_Reuss': 62.0, 'G_VRH': 65.0, 'G_Voigt': 68...           0.0   65.0   \n",
       "\n",
       "     K_VRH  Elastic_Anisotropy  poisson_ratio  Y_Modulus  \n",
       "0    185.0               -8.18           0.56     -62.40  \n",
       "1    152.0               10.41           0.38     104.88  \n",
       "2    115.0                0.00           0.33     114.38  \n",
       "3    130.0                0.05           0.23     211.56  \n",
       "4    136.0                1.47           0.30     161.20  \n",
       "..     ...                 ...            ...        ...  \n",
       "378  194.0                0.51           0.34     190.28  \n",
       "379  195.0                0.64           0.33     196.84  \n",
       "380   41.0                0.14           0.24      64.48  \n",
       "381  209.0                1.25           0.31     243.66  \n",
       "382  122.0                0.48           0.27     165.10  \n",
       "\n",
       "[383 rows x 13 columns]"
      ]
     },
     "execution_count": 2,
     "metadata": {},
     "output_type": "execute_result"
    }
   ],
   "source": [
    "# df = pd.read_csv(Path('../All Data Export/Ti_compounds_dataframe.csv'))\n",
    "# df = pd.read_csv(Path('../All Data Export/C_compounds_dataframe.csv'))\n",
    "# df = pd.read_csv(Path('../All Data Export/Cr_compounds_dataframe.csv'))\n",
    "# df = pd.read_csv(Path('../All Data Export/Fe_compounds_dataframe.csv'))\n",
    "# df = pd.read_csv(Path('../All Data Export/Hf_compounds_dataframe.csv'))\n",
    "# df = pd.read_csv(Path('../All Data Export/Mo_compounds_dataframe.csv'))\n",
    "# df = pd.read_csv(Path('../All Data Export/Nb_compounds_dataframe.csv'))\n",
    "df = pd.read_csv(Path('../All Data Export/Ni_compounds_dataframe.csv'))\n",
    "# df = pd.read_csv(Path('../All Data Export/V_compounds_dataframe.csv'))\n",
    "# df = pd.read_csv(Path('../All Data Export/W_compounds_dataframe.csv'))\n",
    "# df = pd.read_csv(Path('../All Data Export/Zr_compounds_dataframe.csv'))\n",
    "# df = pd.read_csv(Path('../All Data Export/Ta_compounds_dataframe.csv'))\n",
    "df"
   ]
  },
  {
   "cell_type": "code",
   "execution_count": 3,
   "metadata": {},
   "outputs": [
    {
     "data": {
      "text/plain": [
       "Index(['Unnamed: 0', 'mp_id', 'Formula', 'Composition', 'IPF', 'Density',\n",
       "       'Elastic_Tensor', 'E_above_Hull', 'G_VRH', 'K_VRH',\n",
       "       'Elastic_Anisotropy', 'poisson_ratio', 'Y_Modulus'],\n",
       "      dtype='object')"
      ]
     },
     "execution_count": 3,
     "metadata": {},
     "output_type": "execute_result"
    }
   ],
   "source": [
    "df.columns"
   ]
  },
  {
   "cell_type": "code",
   "execution_count": 4,
   "metadata": {},
   "outputs": [
    {
     "data": {
      "text/html": [
       "<div>\n",
       "<style scoped>\n",
       "    .dataframe tbody tr th:only-of-type {\n",
       "        vertical-align: middle;\n",
       "    }\n",
       "\n",
       "    .dataframe tbody tr th {\n",
       "        vertical-align: top;\n",
       "    }\n",
       "\n",
       "    .dataframe thead th {\n",
       "        text-align: right;\n",
       "    }\n",
       "</style>\n",
       "<table border=\"1\" class=\"dataframe\">\n",
       "  <thead>\n",
       "    <tr style=\"text-align: right;\">\n",
       "      <th></th>\n",
       "      <th>IPF</th>\n",
       "      <th>Density</th>\n",
       "      <th>E_above_Hull</th>\n",
       "      <th>G_VRH</th>\n",
       "      <th>K_VRH</th>\n",
       "      <th>Elastic_Anisotropy</th>\n",
       "      <th>poisson_ratio</th>\n",
       "      <th>Y_Modulus</th>\n",
       "    </tr>\n",
       "  </thead>\n",
       "  <tbody>\n",
       "    <tr>\n",
       "      <th>1</th>\n",
       "      <td>0.155298</td>\n",
       "      <td>6.412986</td>\n",
       "      <td>0.0</td>\n",
       "      <td>38.0</td>\n",
       "      <td>152.0</td>\n",
       "      <td>10.41</td>\n",
       "      <td>0.38</td>\n",
       "      <td>104.88</td>\n",
       "    </tr>\n",
       "    <tr>\n",
       "      <th>2</th>\n",
       "      <td>0.158236</td>\n",
       "      <td>4.843489</td>\n",
       "      <td>0.0</td>\n",
       "      <td>43.0</td>\n",
       "      <td>115.0</td>\n",
       "      <td>0.00</td>\n",
       "      <td>0.33</td>\n",
       "      <td>114.38</td>\n",
       "    </tr>\n",
       "    <tr>\n",
       "      <th>3</th>\n",
       "      <td>0.105096</td>\n",
       "      <td>4.767799</td>\n",
       "      <td>0.0</td>\n",
       "      <td>86.0</td>\n",
       "      <td>130.0</td>\n",
       "      <td>0.05</td>\n",
       "      <td>0.23</td>\n",
       "      <td>211.56</td>\n",
       "    </tr>\n",
       "    <tr>\n",
       "      <th>4</th>\n",
       "      <td>0.132183</td>\n",
       "      <td>7.985963</td>\n",
       "      <td>0.0</td>\n",
       "      <td>62.0</td>\n",
       "      <td>136.0</td>\n",
       "      <td>1.47</td>\n",
       "      <td>0.30</td>\n",
       "      <td>161.20</td>\n",
       "    </tr>\n",
       "    <tr>\n",
       "      <th>5</th>\n",
       "      <td>0.123319</td>\n",
       "      <td>7.347407</td>\n",
       "      <td>0.0</td>\n",
       "      <td>64.0</td>\n",
       "      <td>193.0</td>\n",
       "      <td>0.25</td>\n",
       "      <td>0.35</td>\n",
       "      <td>172.80</td>\n",
       "    </tr>\n",
       "    <tr>\n",
       "      <th>...</th>\n",
       "      <td>...</td>\n",
       "      <td>...</td>\n",
       "      <td>...</td>\n",
       "      <td>...</td>\n",
       "      <td>...</td>\n",
       "      <td>...</td>\n",
       "      <td>...</td>\n",
       "      <td>...</td>\n",
       "    </tr>\n",
       "    <tr>\n",
       "      <th>378</th>\n",
       "      <td>0.155906</td>\n",
       "      <td>8.000364</td>\n",
       "      <td>0.0</td>\n",
       "      <td>71.0</td>\n",
       "      <td>194.0</td>\n",
       "      <td>0.51</td>\n",
       "      <td>0.34</td>\n",
       "      <td>190.28</td>\n",
       "    </tr>\n",
       "    <tr>\n",
       "      <th>379</th>\n",
       "      <td>0.149904</td>\n",
       "      <td>8.309262</td>\n",
       "      <td>0.0</td>\n",
       "      <td>74.0</td>\n",
       "      <td>195.0</td>\n",
       "      <td>0.64</td>\n",
       "      <td>0.33</td>\n",
       "      <td>196.84</td>\n",
       "    </tr>\n",
       "    <tr>\n",
       "      <th>380</th>\n",
       "      <td>0.358212</td>\n",
       "      <td>3.938823</td>\n",
       "      <td>0.0</td>\n",
       "      <td>26.0</td>\n",
       "      <td>41.0</td>\n",
       "      <td>0.14</td>\n",
       "      <td>0.24</td>\n",
       "      <td>64.48</td>\n",
       "    </tr>\n",
       "    <tr>\n",
       "      <th>381</th>\n",
       "      <td>0.127363</td>\n",
       "      <td>10.077118</td>\n",
       "      <td>0.0</td>\n",
       "      <td>93.0</td>\n",
       "      <td>209.0</td>\n",
       "      <td>1.25</td>\n",
       "      <td>0.31</td>\n",
       "      <td>243.66</td>\n",
       "    </tr>\n",
       "    <tr>\n",
       "      <th>382</th>\n",
       "      <td>0.590346</td>\n",
       "      <td>7.368893</td>\n",
       "      <td>0.0</td>\n",
       "      <td>65.0</td>\n",
       "      <td>122.0</td>\n",
       "      <td>0.48</td>\n",
       "      <td>0.27</td>\n",
       "      <td>165.10</td>\n",
       "    </tr>\n",
       "  </tbody>\n",
       "</table>\n",
       "<p>378 rows × 8 columns</p>\n",
       "</div>"
      ],
      "text/plain": [
       "          IPF    Density  E_above_Hull  G_VRH  K_VRH  Elastic_Anisotropy  \\\n",
       "1    0.155298   6.412986           0.0   38.0  152.0               10.41   \n",
       "2    0.158236   4.843489           0.0   43.0  115.0                0.00   \n",
       "3    0.105096   4.767799           0.0   86.0  130.0                0.05   \n",
       "4    0.132183   7.985963           0.0   62.0  136.0                1.47   \n",
       "5    0.123319   7.347407           0.0   64.0  193.0                0.25   \n",
       "..        ...        ...           ...    ...    ...                 ...   \n",
       "378  0.155906   8.000364           0.0   71.0  194.0                0.51   \n",
       "379  0.149904   8.309262           0.0   74.0  195.0                0.64   \n",
       "380  0.358212   3.938823           0.0   26.0   41.0                0.14   \n",
       "381  0.127363  10.077118           0.0   93.0  209.0                1.25   \n",
       "382  0.590346   7.368893           0.0   65.0  122.0                0.48   \n",
       "\n",
       "     poisson_ratio  Y_Modulus  \n",
       "1             0.38     104.88  \n",
       "2             0.33     114.38  \n",
       "3             0.23     211.56  \n",
       "4             0.30     161.20  \n",
       "5             0.35     172.80  \n",
       "..             ...        ...  \n",
       "378           0.34     190.28  \n",
       "379           0.33     196.84  \n",
       "380           0.24      64.48  \n",
       "381           0.31     243.66  \n",
       "382           0.27     165.10  \n",
       "\n",
       "[378 rows x 8 columns]"
      ]
     },
     "execution_count": 4,
     "metadata": {},
     "output_type": "execute_result"
    }
   ],
   "source": [
    "df.drop( df[ df['Y_Modulus'] < 0 ].index , inplace=True)\n",
    "df_original = df.copy\n",
    "elements = df['Formula'].tolist()\n",
    "df = df.drop(df.columns[[0, 1, 2, 3, 6]], axis=1)\n",
    "df"
   ]
  },
  {
   "cell_type": "markdown",
   "metadata": {},
   "source": [
    "### 2. Processing and Organizing Data\n",
    "\n",
    "Most machine learning models are trained on a subset of all the available data, called the \"training set\", and the models are tested on the remainder of the available data, called the \"testing set\". Model performance has often been found to be enhanced when the inputs are normalized.\n",
    "\n",
    "##### SETS\n",
    "\n",
    "1. With the dataset we just created, we have splitted the dataset for each of the 12 datasets:\n",
    "- C: 331 entries for our model. We will train with 300 cases and test on the remaining 31 elements to estimate Young's Modulus.\n",
    "- Cr: 331 entries for our model. We will train with 300 cases and test on the remaining 31 elements to estimate Young's Modulus.\n",
    "- Fe: 208 entries for our model. We will train with 182 cases and test on the remaining 26 elements to estimate Young's Modulus.\n",
    "- Hf: 216 entries for our model. We will train with 180 cases and test on the remaining 36 elements to estimate Young's Modulus.\n",
    "- Mo: 60 entries for our model. We will train with 84 cases and test on the remaining 24 elements to estimate Young's Modulus.\n",
    "- Nb: 172 entries for our model. We will train with 150 cases and test on the remaining 22 elements to estimate Young's Modulus.\n",
    "- Ni: 378 entries for our model. We will train with 300 cases and test on the remaining 78 elements to estimate Young's Modulus.\n",
    "- Ta: 331 entries for our model. We will train with 300 cases and test on the remaining 31 elements to estimate Young's Modulus.\n",
    "- Ti: 331 entries for our model. We will train with 300 cases and test on the remaining 31 elements to estimate Young's Modulus.\n",
    "- V: 331 entries for our model. We will train with 300 cases and test on the remaining 31 elements to estimate Young's Modulus.\n",
    "- W: 331 entries for our model. We will train with 300 cases and test on the remaining 31 elements to estimate Young's Modulus.\n",
    "- Zr: 331 entries for our model. We will train with 300 cases and test on the remaining 31 elements to estimate Young's Modulus.\n",
    "\n",
    "\n",
    "\n",
    "##### NORMALIZATION\n",
    "\n",
    "Each one of these input data features has different units and is represented in scales with distinct orders of magnitude. Datasets that contain inputs like this need to be normalized, so that quantities with large values do not *overwhelm* the neural network, forcing it tune its weights to account for the different scales of our input data. In this work, we will use the Standard Score Normalization, which subtracts the mean of the feature and divide by its standard deviation.\n",
    "\n",
    "<span style=\"font-size:2em;\">$ \\frac{X - µ}{σ} $ </span>\n",
    "\n",
    "While our model might converge without feature normalization, the resultant model would be difficult to train and would be dependent on the choice of units used in the input."
   ]
  },
  {
   "cell_type": "code",
   "execution_count": 5,
   "metadata": {},
   "outputs": [
    {
     "name": "stdout",
     "output_type": "stream",
     "text": [
      "[[0.1552981353489944, 6.4129856237257545, 0.0, 38.0, 152.0, 10.41, 0.38, 104.88], [0.1582364795130149, 4.843488500855403, 0.0, 43.0, 115.0, 0.0, 0.33, 114.38], [0.10509612447553213, 4.7677988308561146, 0.0, 86.0, 130.0, 0.05, 0.23, 211.56], [0.13218324804247306, 7.985962530538236, 0.0, 62.0, 136.0, 1.47, 0.3, 161.20000000000005], [0.12331876237778965, 7.347406529168178, 0.0, 64.0, 193.0, 0.25, 0.35, 172.8], [0.126248660495739, 7.682461746227004, 0.0, 63.0, 123.0, 0.14, 0.28, 161.28], [0.1380951737505219, 8.498199183915748, 0.0, 93.0, 174.0, 1.05, 0.27, 236.22], [0.14830462828295535, 9.512797011663228, 0.0, 89.0, 230.0, 0.53, 0.33, 236.74], [0.15019754521254436, 9.438041481766186, 0.0, 91.0, 223.0, 1.03, 0.32, 240.24], [0.14488184173565338, 5.419871475160169, 0.0, 46.0, 110.0, 0.01, 0.32, 121.44], [0.17530152322882708, 9.623696129073267, 0.0, 71.0, 141.0, 0.08, 0.28, 181.76], [0.15669562014728428, 8.166036293218228, 0.0, 86.0, 210.0, 1.65, 0.32, 227.04], [0.14983997558353887, 12.690285857354514, 0.4505999999997457, 92.0, 206.0, 0.69, 0.31, 241.04], [0.1584373628053969, 6.058788992502847, 0.0, 24.0, 78.0, 0.7, 0.36, 65.28], [0.16434861670166484, 7.958129733816652, 0.0, 97.0, 192.0, 0.1, 0.28, 248.32], [0.17367146631257085, 8.700535614964549, 0.0, 96.0, 203.0, 0.73, 0.3, 249.6], [0.14831715813230698, 8.95026943301085, 0.0, 77.0, 211.0, 0.4, 0.34, 206.36], [0.12396274945141658, 5.906844497389272, 0.0, 72.0, 162.0, 1.99, 0.31, 188.64], [0.1640780214406672, 9.452775397436888, 0.0, 71.0, 135.0, 0.16, 0.28, 181.76], [0.1639108038190487, 10.392011259633168, 0.0, 64.0, 184.0, 0.17, 0.34, 171.52], [0.13345206914363034, 6.717313046333167, 0.0, 75.0, 167.0, 1.36, 0.31, 196.5], [0.1878762473723556, 9.264252880217274, 0.0, 40.0, 121.0, 0.16, 0.35, 108.0], [0.14878470434937646, 8.846337828610249, 0.671632916666276, 44.0, 168.0, 0.27, 0.38, 121.44], [0.15343497788015972, 5.7250139606840715, 0.0, 36.0, 141.0, 0.01, 0.38, 99.36], [0.13372997988862595, 14.786231932402478, 0.0, 81.0, 215.0, 0.21, 0.33, 215.46], [0.5376249562707069, 6.617519449996232, 0.0, 69.0, 204.0, 0.27, 0.35, 186.3], [0.16805695982318286, 8.791113257809588, 0.0, 65.0, 151.0, 0.17, 0.31, 170.3], [0.1771514351234195, 10.503431611348182, 0.0, 43.0, 109.0, 0.51, 0.33, 114.38], [0.14753087592603284, 8.211460607665337, 0.0, 50.0, 103.0, 0.2, 0.29, 129.0], [0.1448637882420553, 9.471031302933769, 0.0, 66.0, 164.0, 0.26, 0.32, 174.24], [0.11475692032758415, 8.453747937527877, 0.0, 47.0, 98.0, 0.44, 0.29, 121.26], [0.1559800060766078, 8.019197039392992, 0.0, 73.0, 197.0, 0.13, 0.33, 194.18], [0.18189029945023832, 7.305191407674762, 0.0, 47.0, 105.0, 0.17, 0.31, 123.14], [0.1432252125368707, 8.260441464642877, 0.0, 82.0, 225.0, 0.49, 0.34, 219.76], [0.15278087946761465, 9.008469810631812, 0.0, 84.0, 175.0, 0.44, 0.29, 216.72], [0.12270245314460715, 7.387820240036462, 0.0, 42.0, 194.0, 0.08, 0.4, 117.6], [0.1708298643553595, 8.086556922410876, 0.0, 14.0, 73.0, 1.01, 0.41, 39.48], [0.17301202478022484, 11.057060542679118, 0.0, 44.0, 109.0, 1.03, 0.32, 116.16], [0.1372749093294005, 3.4813289510275482, 0.0, 29.0, 65.0, 0.51, 0.3, 75.4], [0.16218213762429196, 7.801971357903301, 0.0, 72.0, 148.0, 0.13, 0.29, 185.76], [0.1907674586716471, 8.452470763420122, 0.0, 92.0, 187.0, 1.35, 0.29, 237.36], [0.07626452905426118, 4.942386077919257, 0.0, 98.0, 145.0, 0.64, 0.22, 239.12], [0.07472183381468632, 4.724646067173602, 0.0, 32.0, 150.0, 10.32, 0.4, 89.6], [0.06327169704963054, 4.2050888105197455, 0.0, 75.0, 115.0, 0.03, 0.23, 184.5], [0.17789813216376474, 8.38630692686853, 0.0, 59.0, 135.0, 0.2, 0.31, 154.58], [0.14612622898213293, 10.644179280720456, 0.0, 10.0, 34.0, 0.29, 0.36, 27.2], [0.14030237407516105, 8.108395460138937, 0.0, 100.0, 250.0, 0.15, 0.32, 264.0], [0.2871136702186937, 7.55013204097662, 0.0, 23.0, 49.0, 1.88, 0.3, 59.8], [0.1412876714848697, 7.466731533637503, 0.0, 85.0, 177.0, 1.45, 0.29, 219.3], [0.15535021934301496, 6.032501387923253, 0.0, 61.0, 127.0, 0.17, 0.29, 157.38], [0.12875037520823254, 7.6163951688339315, 0.0, 68.0, 199.0, 0.07, 0.35, 183.6], [0.19514102175840065, 9.239548916496943, 0.0, 22.0, 82.0, 1.98, 0.38, 60.72], [0.08491666702796234, 3.2213102504871407, 0.0, 8.0, 12.0, 86.72, 0.24, 19.84], [0.15975003531812207, 9.965170311028132, 0.0, 41.0, 163.0, 0.26, 0.38, 113.16], [0.10217344640000736, 4.972529744684774, 0.0, 7.0, 17.0, 49.11, 0.31, 18.34], [0.2044163817270288, 5.584908536061119, 0.0, 6.0, 14.0, 35.97, 0.3, 15.6], [0.1625605446778448, 11.416683595356512, 0.0, 91.0, 207.0, 0.08, 0.31, 238.42], [0.15358649781571146, 9.268992148276462, 0.0, 70.0, 133.0, 0.15, 0.28, 179.20000000000005], [0.14842291991785134, 11.890071744875302, 0.0, 98.0, 234.0, 1.0, 0.32, 258.72], [0.1261467836686132, 7.1893292408295535, 0.0, 22.0, 122.0, 0.94, 0.42, 62.48], [0.09783024787641928, 5.981087039106558, 0.0, 82.0, 164.0, 1.85, 0.29, 211.56], [0.1614387161900017, 5.961738851073932, 0.0, 56.0, 127.0, 0.17, 0.31, 146.72], [0.20516496436154805, 10.085096972639702, 0.0, 41.0, 184.0, 0.36, 0.4, 114.8], [0.18898321604972232, 8.55570552677278, 0.0, 63.0, 146.0, 2.08, 0.31, 165.06], [0.14725244145814792, 8.426584388478402, 0.0, 70.0, 170.0, 0.13, 0.32, 184.8], [0.12959132422508352, 7.396409090426719, 0.0, 35.0, 138.0, 3.93, 0.38, 96.6], [0.13433076330198696, 4.655344648617716, 0.0, 40.0, 128.0, 1.39, 0.36, 108.79999999999998], [0.13144994114198627, 4.13924662685445, 0.0, 40.0, 44.0, 2.75, 0.15, 92.0], [0.1627438096652533, 9.731601367915884, 0.0, 26.0, 90.0, 0.77, 0.37, 71.24000000000002], [0.16935675716469134, 7.600999368059544, 0.0, 52.0, 132.0, 0.19, 0.33, 138.32], [0.15025042264074678, 12.034614334829554, 0.0, 96.0, 222.0, 0.56, 0.31, 251.52], [0.09677457621240784, 4.0343319270361695, 0.0, 66.0, 113.0, 0.06, 0.26, 166.32], [0.5424076542879475, 5.600675531991478, 0.0, 78.0, 146.0, 0.2, 0.27, 198.12], [0.14569115808001593, 9.623673992194812, 0.78498249999992, 49.0, 165.0, 0.28, 0.36, 133.28], [0.17920168634673506, 10.345716151637614, 0.0, 42.0, 103.0, 0.47, 0.32, 110.88], [0.14934679874505266, 6.898754805558572, 0.0, 93.0, 201.0, 0.32, 0.3, 241.8], [0.21068808361646366, 8.620907165052941, 0.0, 112.0, 228.0, 1.06, 0.29, 288.9600000000001], [0.11696764287782015, 8.564299276176815, 0.0, 50.0, 114.0, 0.15, 0.31, 131.0], [0.13361647986878508, 7.875710359852379, 0.0, 103.0, 215.0, 0.48, 0.29, 265.74], [0.15476255871936795, 6.624090366791918, 0.0, 60.0, 144.0, 0.42, 0.32, 158.4], [0.16298685989119654, 9.54468774472999, 0.0, 72.0, 146.0, 0.15, 0.29, 185.76], [0.11173330339260634, 18.346971786801678, 0.0, 175.0, 326.0, 0.1, 0.27, 444.5], [0.1254166288273879, 10.763601035244145, 0.0, 150.0, 284.0, 0.07, 0.28, 384.0], [0.1447890360080451, 15.715335518454664, 0.0, 91.0, 213.0, 0.51, 0.31, 238.42], [0.19506227964170328, 8.618942228355628, 0.26945000000022645, 105.0, 222.0, 0.82, 0.29, 270.90000000000003], [0.1628266609471748, 8.116465653403674, 0.0, 66.0, 196.0, 1.03, 0.35, 178.20000000000005], [0.10219857582784296, 4.690887403729293, 0.0, 86.0, 119.0, 0.1, 0.21, 208.12], [0.2045664879697175, 7.541559821339483, 0.0, 50.0, 117.0, 0.16, 0.31, 131.0], [0.14752802549166175, 6.9866259851365005, 0.0, 49.0, 130.0, 0.61, 0.33, 130.34], [0.14493813910117187, 9.475892278355152, 0.4738487499986732, 76.0, 163.0, 0.46, 0.3, 197.6], [0.17983446486243698, 9.360103659811411, 0.0, 70.0, 147.0, 0.12, 0.29, 180.6], [0.16238114613741084, 7.489617143189794, 0.0, 30.0, 77.0, 0.38, 0.33, 79.80000000000003], [0.17079511450136284, 7.685811117166411, 0.0, 54.0, 142.0, 0.37, 0.33, 143.64], [0.18315833709626486, 7.165161841703568, 0.0, 37.0, 133.0, 19.17, 0.37, 101.38], [0.1580420878777272, 8.437749117983707, 0.0, 101.0, 213.0, 0.86, 0.3, 262.6], [0.10098102858863904, 7.811226102146755, 0.0, 42.0, 88.0, 0.96, 0.29, 108.36], [0.138017772506984, 9.191794376837537, 0.0, 59.0, 82.0, 0.1, 0.21, 142.78], [0.13741766258561455, 6.5077373878507405, 0.0, 75.0, 127.0, 0.08, 0.25, 187.5], [0.1379800888627667, 12.087661027237516, 0.0, 75.0, 199.0, 0.54, 0.33, 199.5], [0.13136190787963026, 9.532559884607887, 0.0, 48.0, 98.0, 0.97, 0.29, 123.84], [0.15899065506988028, 8.509952410648225, 0.0, 62.0, 151.0, 0.17, 0.32, 163.68], [0.13272255910469374, 7.751649868791107, 0.0, 68.0, 199.0, 0.14, 0.35, 183.6], [0.10889599657940684, 6.340586303922494, 0.0, 66.0, 151.0, 0.52, 0.31, 172.92000000000004], [0.12607957798476502, 7.187351802115494, 0.0, 74.0, 128.0, 0.11, 0.26, 186.48], [0.22479555300698034, 7.716517061477003, 0.0, 20.0, 41.0, 2.14, 0.29, 51.6], [0.1793505452251826, 7.317757437467368, 0.0, 43.0, 106.0, 0.19, 0.32, 113.52], [0.1354121259161108, 6.321145891376838, 0.0, 35.0, 102.0, 1.3, 0.35, 94.5], [0.1310352963860072, 8.502891707620904, 0.0, 60.0, 145.0, 0.1, 0.32, 158.4], [0.1168070755914247, 4.3146910287740186, 0.0, 60.0, 93.0, 0.22, 0.24, 148.8], [0.18786750768826946, 7.96754817512225, 0.0, 52.0, 102.0, 0.41, 0.28, 133.12], [0.11368554285849652, 4.901765359355607, 0.0, 61.0, 94.0, 0.31, 0.23, 150.06], [0.10690974859248434, 6.370888989891008, 0.0, 82.0, 171.0, 0.16, 0.29, 211.56], [0.17899908947254245, 6.7475754939751456, 0.0, 65.0, 125.0, 0.11, 0.28, 166.4], [0.15177265164651996, 8.937908756262605, 0.0, 77.0, 180.0, 1.12, 0.31, 201.74], [0.17505037660259753, 7.587307353396716, 0.0, 50.0, 169.0, 3.21, 0.37, 137.0], [0.20624012985342768, 6.4319584829259435, 0.0, 35.0, 86.0, 6.85, 0.32, 92.4], [0.11661828816218148, 10.340458014050489, 0.0, 80.0, 105.0, 0.01, 0.19, 190.4], [0.13080785501609635, 7.6863977916744926, 0.0, 35.0, 82.0, 0.34, 0.31, 91.7], [0.13396914726690834, 7.413446121559554, 0.0, 64.0, 121.0, 0.31, 0.28, 163.84], [0.16004209317643206, 8.970673469938305, 0.0, 55.0, 99.0, 0.67, 0.27, 139.7], [0.13666532273503162, 6.942946551527036, 0.0, 55.0, 94.0, 0.18, 0.25, 137.5], [0.11805766873829865, 7.2832459348474465, 0.0, 65.0, 119.0, 0.33, 0.27, 165.1], [0.19259836923205145, 5.943042818638339, 0.0, 32.0, 72.0, 2.27, 0.31, 83.84], [0.14716298836273328, 6.207417883719199, 0.0, 44.0, 101.0, 0.11, 0.31, 115.28], [0.15750494357349432, 8.695883919700231, 0.0, 33.0, 74.0, 0.26, 0.31, 86.46000000000002], [0.16435214980385882, 7.500204736833288, 0.0, 28.0, 108.0, 14.53, 0.38, 77.28], [0.14756095541362446, 7.085254895184843, 0.0, 83.0, 157.0, 0.18, 0.27, 210.82], [0.12761028659865248, 6.5361773805084775, 0.0, 56.0, 94.0, 0.59, 0.25, 140.0], [0.14118819391137682, 6.7548522465859735, 0.0, 60.0, 93.0, 0.48, 0.23, 147.6], [0.5660066566085931, 5.430002812192998, 0.0, 89.0, 175.0, 0.02, 0.28, 227.84], [0.5997120220006629, 6.177587226052601, 0.0, 78.0, 157.0, 0.05, 0.29, 201.24], [0.13528302537645984, 9.62670975912503, 0.0, 62.0, 80.0, 0.05, 0.19, 147.56], [0.13754354357258533, 5.676460121547168, 0.0, 62.0, 112.0, 0.38, 0.27, 157.48], [0.1515995981079875, 8.53605895640683, 0.0, 51.0, 139.0, 0.58, 0.34, 136.68], [0.1275434044249476, 7.23884154747617, 0.0, 57.0, 128.0, 0.0, 0.31, 149.34], [0.12806582597443955, 10.00807967206614, 0.0, 54.0, 190.0, 1.36, 0.37, 147.96], [0.19581354847498084, 4.2318611239532675, 0.0, 4.0, 17.0, 12.55, 0.4, 11.2], [0.1143609930548568, 6.691111904731711, 0.0, 83.0, 152.0, 0.16, 0.27, 210.82], [0.1600446984037729, 5.992976474507233, 0.0, 40.0, 90.0, 0.4, 0.31, 104.8], [0.10603612001020432, 4.838724775123814, 0.0, 84.0, 120.0, 0.09, 0.22, 204.96], [0.12263807219470133, 6.5614260543933725, 0.0, 66.0, 104.0, 0.01, 0.24, 163.68], [0.16654738671478722, 6.7937281835979775, 0.0, 56.0, 123.0, 0.14, 0.3, 145.6], [0.11131015032080588, 4.084857436713342, 0.0, 59.0, 92.0, 0.28, 0.24, 146.32], [0.5669497797223938, 4.400829015666573, 0.0, 109.0, 203.0, 0.32, 0.27, 276.86], [0.15979567291915792, 9.004141944949444, 0.0, 48.0, 120.0, 0.33, 0.32, 126.72], [0.1882925776587224, 7.648596593349586, 0.0, 49.0, 84.0, 0.21, 0.25, 122.5], [0.14236169668803164, 4.624874624123847, 0.0, 56.0, 104.0, 0.25, 0.27, 142.24], [0.14838839354199992, 6.5608847288730825, 0.0, 55.0, 96.0, 0.51, 0.26, 138.6], [0.15798809718770465, 6.6001186272235275, 0.0, 38.0, 77.0, 0.62, 0.29, 98.04], [0.12948976568064915, 7.042607920537901, 0.0, 79.0, 111.0, 0.48, 0.21, 191.18], [0.12753217998756747, 5.573214205238175, 0.0, 28.0, 67.0, -2.67, 0.32, 73.92], [0.1289817232301653, 9.53065434016704, 0.0, 49.0, 164.0, 0.12, 0.36, 133.28], [0.13336295212207966, 7.637768457980564, 0.0, 56.0, 94.0, 0.11, 0.25, 140.0], [0.1608781017358416, 7.089476145152091, 0.0, 34.0, 86.0, 0.69, 0.32, 89.76], [0.16059606785398314, 5.719691775737301, 0.0, 63.0, 121.0, 0.24, 0.28, 161.28], [0.15213341492326607, 10.010446688278028, 0.0, 12.0, 195.0, -16.34, 0.47, 35.28], [0.1365891264201777, 11.002438318605542, 0.0, 65.0, 208.0, 1.45, 0.36, 176.79999999999995], [0.1524540419062629, 6.457584804748835, 0.0, 125.0, 192.0, 0.12, 0.23, 307.5], [0.10764711887742592, 6.966921575232794, 0.0, 87.0, 179.0, 0.56, 0.29, 224.46], [0.13590908590729633, 8.757489438252206, 0.0, 139.0, 194.0, 0.06, 0.21, 336.38], [0.14343004990820252, 5.477005908649235, 0.0, 69.0, 130.0, 0.18, 0.27, 175.26], [0.11547836110863187, 7.623580578224122, 0.0, 73.0, 152.0, 0.01, 0.29, 188.34], [0.1263650669613345, 7.233186695397496, 0.0, 57.0, 87.0, 0.33, 0.23, 140.22], [0.16825843587309414, 9.326303556316756, 0.0, 56.0, 91.0, 0.01, 0.25, 140.0], [0.12612527783261362, 5.322018244664232, 0.0, 92.0, 152.0, 0.05, 0.25, 230.0], [0.16190104345983214, 5.20168840052664, 0.0, 35.0, 77.0, 0.0, 0.3, 91.0], [0.19415185884325653, 12.02143317305947, 0.0, 45.0, 89.0, 0.54, 0.29, 116.1], [0.1254549530992981, 4.672976145327725, 0.0, 57.0, 91.0, 0.45, 0.24, 141.36], [0.15241294225790675, 8.941626858341591, 0.0, 32.0, 96.0, 0.5, 0.35, 86.4], [0.15321805857694734, 6.731043906349872, 0.0, 33.0, 72.0, 0.51, 0.3, 85.8], [0.13161381137625414, 7.289806313796889, 0.0, 73.0, 132.0, 0.33, 0.27, 185.42], [0.186331634964488, 5.179847748836153, 0.0, 36.0, 52.0, 2.51, 0.22, 87.84], [0.18132617596682404, 10.444183693464057, 0.0, 49.0, 80.0, 0.2, 0.25, 122.5], [0.14699684612558545, 6.623370386868098, 0.0, 26.0, 56.0, 0.08, 0.3, 67.60000000000001], [0.3768120825884183, 4.875035907366613, 0.0, 14.0, 15.0, 4.73, 0.15, 32.2], [0.18057549437529155, 10.454814371768897, 0.0, 28.0, 68.0, 2.41, 0.32, 73.92], [0.1329900638504512, 6.7556196315895365, 0.0, 51.0, 96.0, 0.14, 0.27, 129.54], [0.12769519666204945, 6.799140568933897, 0.0, 39.0, 149.0, 0.0, 0.38, 107.64], [0.15330000409819694, 5.080155950404428, 0.0, 74.0, 114.0, 0.24, 0.23, 182.04], [0.17574454285977842, 8.11817859706775, 0.0, 64.0, 133.0, 0.07, 0.29, 165.12], [0.12757542231773755, 7.529756251916122, 0.0, 77.0, 210.0, 1.79, 0.34, 206.36], [0.1250122778001909, 7.614693633627447, 0.0, 72.0, 129.0, 0.2, 0.27, 182.88], [0.1576976945005799, 7.617337309351948, 0.0, 61.0, 129.0, 0.08, 0.3, 158.6], [0.12509777157382118, 4.984204045000912, 0.0, 68.0, 113.0, 0.07, 0.25, 170.0], [0.23351549905588165, 4.923117646866538, 0.0, 27.0, 59.0, 0.66, 0.3, 70.2], [0.1784381716385966, 10.925302107160784, 0.0, 51.0, 84.0, 0.1, 0.25, 127.5], [0.13670524792437636, 7.204626915392972, 0.0, 67.0, 115.0, 1.49, 0.25, 167.5], [0.18170767049407405, 7.231427895525547, 0.0, 82.0, 128.0, 0.38, 0.24, 203.36], [0.10678576481450368, 8.567434555117648, 0.0, 76.0, 174.0, 0.22, 0.31, 199.12], [0.15906692085720794, 4.990560146795294, 0.0, 40.0, 100.0, 1.45, 0.33, 106.4], [0.15498236342471014, 8.93121512295805, 0.0, 36.0, 91.0, 0.42, 0.33, 95.76], [0.1595830511810097, 9.032171409062741, 0.0, 65.0, 161.0, 0.3, 0.32, 171.6], [0.14242779857361934, 6.253223227274053, 0.0, 59.0, 162.0, 1.72, 0.34, 158.12], [0.15815597147620028, 10.75546821566332, 0.0, 49.0, 151.0, 0.67, 0.35, 132.3], [0.15293161854454884, 6.797844449350319, 0.0, 35.0, 124.0, 9.67, 0.37, 95.9], [0.14519036049025474, 9.79111098611241, 0.0, 79.0, 192.0, 0.11, 0.32, 208.56], [0.15135615151453718, 7.393032893959293, 0.0, 72.0, 177.0, 0.05, 0.32, 190.08], [0.1616874870717212, 6.532735635783284, 0.0, 26.0, 87.0, 45.93, 0.36, 70.72], [0.1060870927293186, 7.300473773901821, 0.0, 68.0, 139.0, 0.4, 0.29, 175.44], [0.1844467389976485, 8.801857855378726, 0.0, 14.0, 55.0, 2.4, 0.38, 38.64], [0.20268258696658328, 8.803847636826779, 0.0, 68.0, 182.0, 0.03, 0.33, 180.88], [0.1673248330841854, 5.957779519361368, 0.0, 43.0, 149.0, 14.89, 0.37, 117.82], [0.14345553709012288, 9.281117358795893, 0.0, 57.0, 89.0, 0.76, 0.24, 141.36], [0.15103327695614874, 4.535499724041246, 0.0, 39.0, 83.0, 1.51, 0.3, 101.4], [0.14353308041909185, 6.978499254561571, 0.0, 54.0, 101.0, 0.18, 0.27, 137.16], [0.13214302464634534, 7.765793122142992, 0.0, 35.0, 102.0, 0.16, 0.35, 94.5], [0.17325806940248076, 6.9860032102583185, 0.0, 32.0, 56.0, 0.03, 0.26, 80.64], [0.12263953161580138, 7.961147779289063, 0.0, 68.0, 122.0, 0.21, 0.26, 171.36], [0.13383319164489468, 6.6072529816759875, 0.0, 43.0, 58.0, 1.02, 0.2, 103.2], [0.15674364901462304, 5.416259382954073, 0.0, 36.0, 75.0, 0.31, 0.3, 93.6], [0.28803685288107705, 5.0194310535245235, 0.0, 4.0, 15.0, -23.61, 0.39, 11.12], [0.13934627844243005, 5.2786732819888496, 0.0, 74.0, 127.0, 0.22, 0.26, 186.48], [0.5954758420777025, 5.929744808034848, 0.13964600000093694, 24.0, 85.0, 15.41, 0.37, 65.76], [0.6089764298513465, 4.599449253593487, 0.0, 68.0, 100.0, 0.3, 0.22, 165.92], [0.4817656025323582, 3.6863322737848616, 0.0, 12.0, 25.0, 0.53, 0.3, 31.200000000000006], [0.5953577419905277, 5.928568768086175, 0.0, 24.0, 83.0, 14.49, 0.37, 65.76], [0.4616944431494512, 2.704489196363626, 0.0, 15.0, 29.0, 0.61, 0.28, 38.4], [0.1208167930187493, 7.86530814459267, 0.0, 60.0, 144.0, 0.7, 0.32, 158.4], [0.17317765405487567, 6.897448923337564, 0.0, 27.0, 47.0, 0.3, 0.26, 68.04], [0.16482193961305155, 8.762782000033742, 0.0, 49.0, 113.0, 0.24, 0.31, 128.38], [0.11720062513957452, 4.873667748289549, 0.0, 72.0, 132.0, 0.21, 0.27, 182.88], [0.16658634686904414, 7.589343416907572, 0.0, 33.0, 100.0, 2.65, 0.35, 89.10000000000002], [0.1468588637016873, 9.654297248677342, 0.0, 37.0, 126.0, 1.35, 0.37, 101.38], [0.1246170796003936, 8.720657908511608, 0.0, 54.0, 58.0, 0.22, 0.14, 123.12000000000002], [0.17036161907774627, 6.695876705927946, 0.0, 70.0, 121.0, 0.25, 0.26, 176.4], [0.13903283301786548, 9.042786064563328, 0.0, 56.0, 76.0, 0.15, 0.2, 134.4], [0.14846807987348742, 8.825428295532376, 0.0, 50.0, 123.0, 0.26, 0.32, 132.0], [0.11523703532424658, 7.334386993339041, 0.0, 72.0, 110.0, 0.25, 0.23, 177.12], [0.15046923120399133, 6.820487607873687, 0.0, 55.0, 104.0, 0.42, 0.27, 139.7], [0.3075854559556302, 3.5945605471397606, 0.0, 9.0, 14.0, 0.43, 0.23, 22.14], [0.1158578041901092, 11.397622854826212, 0.0, 94.0, 167.0, 0.23, 0.26, 236.88], [0.10162590695666293, 7.589432122937208, 0.0, 46.0, 109.0, 0.16, 0.32, 121.44], [0.1169757316275636, 8.299220612816391, 0.0, 95.0, 241.0, 0.1, 0.33, 252.7], [0.17697000572772542, 6.319283649566651, 0.0, 61.0, 133.0, 0.1, 0.3, 158.6], [0.19197247887102745, 5.669552606766933, 0.0, 54.0, 103.0, 0.22, 0.28, 138.24], [0.1335961671890606, 6.356180596552927, 0.0, 57.0, 124.0, 0.0, 0.3, 148.20000000000005], [0.13985689145503752, 6.216165592538895, 0.0, 54.0, 118.0, 0.02, 0.3, 140.4], [0.17581756163201814, 9.341955839924998, 0.0, 57.0, 156.0, 2.05, 0.34, 152.76000000000005], [0.12996830276787202, 10.304213907270523, 0.0, 57.0, 200.0, 5.95, 0.37, 156.18], [0.12911409052544734, 7.2300969229966565, 0.0, 68.0, 122.0, 0.01, 0.27, 172.72], [0.09285816112221068, 6.624752975525022, 0.0, 104.0, 189.0, 0.31, 0.27, 264.16], [0.17183171904915984, 9.933670764147552, 0.0, 56.0, 147.0, 0.25, 0.33, 148.96], [0.11794173349478762, 8.192189855018492, 0.0, 77.0, 139.0, 0.26, 0.27, 195.58], [0.18986613059329524, 4.940822776854949, 0.0, 30.0, 73.0, 1.8, 0.32, 79.2], [0.14736407161704382, 7.511400220221796, 0.0, 47.0, 90.0, 0.14, 0.28, 120.32], [0.15804598190532185, 8.345601092977343, 0.0, 71.0, 167.0, 0.21, 0.31, 186.02], [0.15819648807030393, 7.275103141997755, 0.0, 47.0, 126.0, 0.16, 0.33, 125.02], [0.15685253391938575, 3.866461199840157, 0.0, 46.0, 72.0, 0.48, 0.23, 113.16], [0.11738917883976188, 12.209879861316633, 0.0, 71.0, 126.0, 0.13, 0.26, 178.92], [0.5916179350466938, 5.501470375401047, 0.0, 81.0, 148.0, 0.7, 0.27, 205.74], [0.1283248835213835, 5.752872864640461, 0.0, 72.0, 121.0, 0.08, 0.25, 180.0], [0.1243445064513952, 8.30210439000311, 0.0, 54.0, 135.0, 0.29, 0.32, 142.56], [0.09753926284034116, 6.560971814724589, 0.0, 86.0, 165.0, 0.46, 0.28, 220.16], [0.1590368923414611, 7.452620133302915, 0.0, 41.0, 79.0, 0.87, 0.28, 104.96], [0.20931236907951592, 3.24640489873658, 0.0, 5.0, 18.0, 10.05, 0.37, 13.7], [0.14343220033957796, 7.740538637562048, 0.0, 30.0, 73.0, 5.0, 0.32, 79.2], [0.127125809553636, 7.569765205192443, 0.0, 72.0, 144.0, 0.19, 0.29, 185.76], [0.16073238177997126, 11.20576729634767, 0.0, 50.0, 78.0, 0.09, 0.23, 123.0], [0.1533816924200279, 7.65200877421166, 0.0, 40.0, 166.0, 7.98, 0.39, 111.20000000000002], [0.11447170064341945, 4.80790237317909, 0.0, 65.0, 98.0, 0.26, 0.23, 159.9], [0.1475033317941894, 9.471640751395206, 0.0, 49.0, 157.0, 1.0, 0.36, 133.28], [0.13496193298110232, 8.293440482472473, 0.0, 85.0, 139.0, 0.31, 0.25, 212.5], [0.10929185668673458, 5.206027765850187, 0.0, 62.0, 149.0, 0.22, 0.32, 163.68], [0.1621209751440712, 7.432515490681819, 0.0, 75.0, 122.0, 0.31, 0.24, 186.0], [0.14409817144181974, 7.463523150420108, 0.0, 74.0, 121.0, 0.21, 0.25, 185.0], [0.12373270156860848, 4.765128676272896, 0.0, 61.0, 118.0, 0.07, 0.28, 156.16], [0.12460683203631895, 5.761594105963668, 0.0, 70.0, 136.0, 0.22, 0.28, 179.20000000000005], [0.19952070452349546, 7.069543236310175, 0.0, 86.0, 172.0, 0.34, 0.29, 221.88], [0.1454212709745976, 9.053953926282423, 0.0, 33.0, 69.0, 1.4, 0.29, 85.14], [0.1835881937135513, 3.2791826701491744, 0.0, 47.0, 79.0, 5.04, 0.25, 117.5], [0.1581359553333936, 7.449817761107802, 0.0, 75.0, 156.0, 0.05, 0.29, 193.5], [0.12064281055565786, 4.758449645243672, 0.0, 41.0, 117.0, 1.33, 0.34, 109.88], [0.04577961095016626, 3.1382893966635823, 0.0, 61.0, 105.0, 0.35, 0.26, 153.72], [0.1416244133086789, 8.341665456677655, 0.0, 46.0, 125.0, 0.09, 0.34, 123.28], [0.13072979787201308, 7.571426864987973, 0.0, 107.0, 194.0, 0.0, 0.27, 271.78000000000003], [0.1326313611017529, 11.189658735701112, 0.0, 114.0, 216.0, 0.0, 0.27, 289.56], [0.2279667438663344, 7.839498265329699, 0.0, 10.0, 18.0, 14.29, 0.25, 25.0], [0.16381529198295236, 10.633198380142911, 0.0, 50.0, 85.0, 0.13, 0.26, 126.0], [0.1617990526589595, 4.152401887128523, 0.0, 55.0, 83.0, 0.51, 0.23, 135.3], [0.14916266559776942, 6.768834327369089, 0.0, 45.0, 98.0, 0.3, 0.3, 117.0], [0.13177921090176045, 6.4257596480267205, 0.0, 60.0, 107.0, 0.64, 0.26, 151.2], [0.14440949767402955, 6.82406109534433, 0.0, 49.0, 93.0, 0.77, 0.28, 125.44], [0.1587226114776164, 9.335612084462623, 0.0, 78.0, 160.0, 0.02, 0.29, 201.24], [0.5587630029204516, 5.458432399166019, 0.0, 57.0, 147.0, 1.5, 0.33, 151.62], [0.5280728266841967, 5.988016226430585, 0.0, 85.0, 160.0, 0.0, 0.28, 217.6], [0.1361972385725598, 8.183607816701235, 0.0, 86.0, 124.0, 0.29, 0.22, 209.84], [0.14549190317052985, 7.832719871526786, 0.0, 33.0, 66.0, 0.01, 0.29, 85.14], [0.13987383609968418, 15.17888444694202, 0.0, 59.0, 196.0, 0.59, 0.36, 160.48], [0.1510438091993918, 8.481495533321725, 0.0, 53.0, 89.0, 0.02, 0.25, 132.5], [0.12674759394587304, 6.6560783082251165, 0.0, 59.0, 96.0, 0.52, 0.25, 147.5], [0.15404153897240047, 9.31710707643824, 0.0, 60.0, 81.0, 0.07, 0.2, 144.0], [0.15775727353085606, 8.880615314104563, 0.0, 101.0, 163.0, 0.45, 0.24, 250.48], [0.14190091065309673, 7.617876144763453, 0.0, 51.0, 128.0, 0.88, 0.33, 135.66], [0.14736538082902068, 8.918250014226778, 0.0, 49.0, 96.0, 0.31, 0.28, 125.44], [0.12047149156979127, 6.845276428206298, 0.0, 26.0, 158.0, -25.58, 0.42, 73.84], [0.14684522955239585, 7.185182168963332, 0.0, 51.0, 106.0, 0.7, 0.29, 131.58], [0.1334486091133637, 6.788405454793907, 0.0, 27.0, 25.0, 2.25, 0.11, 59.94000000000001], [0.12455196831193878, 5.994356029245242, 0.0, 27.0, 41.0, 2.76, 0.22, 65.88], [0.14305640483294546, 7.951690430786197, 0.0, 63.0, 132.0, 0.16, 0.29, 162.54], [0.13858761156284471, 6.130455256500219, 0.0, 86.0, 192.0, 0.82, 0.3, 223.6], [0.1169162917558583, 6.078613498043178, 0.0, 71.0, 138.0, 0.69, 0.28, 181.76], [0.1526354920678664, 5.230369969458441, 0.0, 28.0, 70.0, 0.68, 0.33, 74.48], [0.20456552124350194, 8.385801996623528, 0.0, 69.0, 148.0, 0.08, 0.3, 179.4], [0.15985897344149946, 6.318377869704177, 0.0, 27.0, 56.0, 0.36, 0.3, 70.2], [0.20135618649204576, 11.592813566776615, 0.0, 20.0, 87.0, 1.91, 0.39, 55.60000000000001], [0.1758431286576668, 10.508400482306383, 0.0, 31.0, 115.0, 0.06, 0.38, 85.55999999999997], [0.16952774566054846, 8.814162794229794, 0.0, 27.0, 29.0, 0.0, 0.15, 62.1], [0.11683089848820408, 4.564324365433942, 0.0, 91.0, 130.0, 0.09, 0.22, 222.04], [0.15092416784412746, 7.112101516720643, 0.0, 79.0, 171.0, 0.06, 0.3, 205.4], [0.13434028389235625, 10.680585737587169, 0.0, 87.0, 160.0, 0.1, 0.27, 220.98], [0.15533006284157844, 6.595556732822156, 0.0, 77.0, 125.0, 0.36, 0.24, 190.96], [0.13695783179104246, 5.675438464131958, 0.0, 56.0, 133.0, 0.3, 0.31, 146.72], [0.14723011153176735, 8.058379306176281, 0.0, 55.0, 152.0, 0.51, 0.34, 147.4], [0.19798700449700452, 9.159491733716141, 0.0, 54.0, 142.0, 0.37, 0.33, 143.64], [0.18286998329288684, 6.694657122323575, 0.0, 32.0, 89.0, 1.22, 0.34, 85.76], [0.1121509231239749, 4.0895611456137635, 0.0, 64.0, 107.0, 0.55, 0.25, 160.0], [0.1405381131346618, 5.292877298522691, 0.0, 26.0, 92.0, 7.57, 0.37, 71.24000000000002], [0.18728028473675234, 5.9831611602939025, 0.0, 37.0, 70.0, 0.22, 0.28, 94.72], [0.12003015196269368, 6.040044772506372, 0.0, 42.0, 86.0, 0.0, 0.29, 108.36], [0.5783548525389751, 4.230353741957433, 0.0, 68.0, 125.0, 0.64, 0.27, 172.72], [0.18392747163454606, 10.043388632651947, 0.0, 58.0, 149.0, 0.24, 0.33, 154.28], [0.11992443874285105, 7.72927968986158, 0.0, 98.0, 218.0, 0.14, 0.3, 254.8], [0.12169300045471668, 8.710602967688303, 0.0, 58.0, 91.0, 0.0, 0.24, 143.84], [0.15798548931190104, 7.436590474034622, 0.0, 49.0, 118.0, 1.05, 0.32, 129.36], [0.11445381057859855, 10.36831095915653, 0.0, 53.0, 112.0, 0.18, 0.3, 137.8], [0.23513732144887425, 3.579747091353935, 0.0, 7.0, 15.0, 2.07, 0.29, 18.06], [0.1443739017761579, 7.3843006944480605, 0.0, 45.0, 114.0, 2.62, 0.33, 119.7], [0.11392423377149292, 8.66524008954825, 0.6964620370357721, 39.0, 65.0, 0.14, 0.25, 97.5], [0.13738857191500986, 8.602990275889171, 0.0, 47.0, 121.0, 0.26, 0.33, 125.02], [0.12459712849820558, 5.955129152509882, 0.0, 59.0, 109.0, 0.14, 0.27, 149.86], [0.1398200635361518, 8.361676527106088, 0.0, 138.0, 176.0, 0.07, 0.19, 328.44], [0.1587391404288426, 8.904165290151344, 0.0, 56.0, 62.0, 0.17, 0.15, 128.79999999999998], [0.12978147293857448, 7.312634988033594, 0.0, 45.0, 181.0, 3.21, 0.39, 125.1], [0.1254074766895259, 5.670689314807067, 0.0, 104.0, 177.0, 0.19, 0.25, 260.0], [0.33643812017396457, 4.488869301240814, 0.0, 8.0, 25.0, 7.3, 0.35, 21.6], [0.193366373814858, 6.6074609205595705, 0.0, 27.0, 64.0, 1.23, 0.32, 71.28], [0.13130031482260998, 8.278075669899744, 0.0, 63.0, 158.0, 1.9, 0.32, 166.32000000000005], [0.28546642561618785, 2.978737014067015, 0.0, 10.0, 16.0, 0.25, 0.24, 24.8], [0.15241843990426227, 11.25814299714026, 0.0, 39.0, 141.0, 0.38, 0.37, 106.86], [0.14453479179152945, 3.917294278291291, 0.0, 59.0, 102.0, 2.69, 0.26, 148.68], [0.14201556219805353, 8.56891316697678, 0.0, 48.0, 147.0, 0.59, 0.35, 129.60000000000002], [0.1339960261203704, 8.585714454955353, 0.0, 64.0, 141.0, 0.04, 0.3, 166.4], [0.1516399195123115, 6.578268593076709, 0.0, 66.0, 177.0, 0.0, 0.33, 175.56], [0.1271245110812871, 6.829015027536499, 0.0, 84.0, 138.0, 0.3, 0.25, 210.0], [0.20107205667970707, 5.670681919268347, 0.0, 37.0, 75.0, 0.86, 0.29, 95.46], [0.11868519397877975, 8.68820550010329, 0.0, 179.0, 296.0, 0.18, 0.25, 447.5], [0.11811842918777835, 6.430499238502745, 0.0, 41.0, 90.0, 0.65, 0.3, 106.6], [0.15997149059245586, 9.238511088181717, 0.0, 76.0, 153.0, 0.02, 0.29, 196.08], [0.15164950561245705, 6.107405067688983, 0.0, 39.0, 85.0, 0.48, 0.3, 101.4], [0.18748357907405544, 9.764624745186966, 0.0, 34.0, 61.0, 0.21, 0.27, 86.36], [0.1143908625008508, 6.264764625529814, 0.0, 54.0, 83.0, 0.46, 0.23, 132.84], [0.5672477875205336, 4.948071791584746, 0.0, 82.0, 177.0, 0.13, 0.3, 213.2], [0.5477941822529369, 4.635240140005986, 0.0, 42.0, 69.0, 0.49, 0.25, 105.0], [0.17581956344798674, 9.623630350985682, 0.0, 59.0, 95.0, 0.18, 0.24, 146.32], [0.1425462151527338, 7.159711760304433, 0.0, 42.0, 91.0, 0.41, 0.3, 109.2], [0.16117955771134665, 8.634149276784548, 0.0, 48.0, 77.0, 0.18, 0.24, 119.04], [0.14626959340348458, 6.991897317964258, 0.0, 69.0, 147.0, 1.26, 0.3, 179.4], [0.13934656681499086, 9.425318334147274, 0.0, 141.0, 273.0, 0.11, 0.28, 360.96], [0.17137624730906126, 6.541394556604535, 0.0, 30.0, 54.0, 4.14, 0.26, 75.6], [0.14374274753230462, 6.1079436247361025, 0.0, 40.0, 83.0, 0.59, 0.29, 103.2], [0.1978434012044264, 4.246523818062868, 0.0, 23.0, 64.0, 0.68, 0.34, 61.64], [0.3984009842792269, 4.218881622227571, 0.0, 15.0, 57.0, 0.13, 0.38, 41.4], [0.13361679771590054, 6.264558082493623, 0.0, 85.0, 140.0, 0.27, 0.25, 212.5], [0.13878020872586513, 6.237469421581338, 0.0, 63.0, 124.0, 0.22, 0.28, 161.28], [0.12265591256787993, 6.402183103085747, 0.0, 61.0, 198.0, 5.69, 0.36, 165.92], [0.26102176968061674, 2.650848206371612, 0.0, 14.0, 21.0, 1.0, 0.23, 34.44], [0.11514885466924045, 7.677877764375443, 0.0, 63.0, 129.0, 0.38, 0.29, 162.54], [0.6248182850939709, 5.911444405923027, 0.0, 62.0, 131.0, 0.43, 0.3, 161.20000000000005], [0.1545051943833564, 6.869208900789395, 0.0, 81.0, 81.0, 0.98, 0.12, 181.44000000000003], [0.12284716464005865, 7.85824455668409, 0.0, 74.0, 186.0, 0.5, 0.33, 196.84], [0.18739545945893413, 7.179174764403756, 0.0, 74.0, 178.0, 0.32, 0.32, 195.36], [0.1352265478571215, 7.641166504720081, 0.0, 59.0, 85.0, 0.59, 0.22, 143.96], [0.13459721066832814, 8.212015098091147, 0.0, 75.0, 162.0, 0.54, 0.3, 195.0], [0.1559059194434449, 8.000363562888488, 0.0, 71.0, 194.0, 0.51, 0.34, 190.28], [0.14990394228647744, 8.30926209660754, 0.0, 74.0, 195.0, 0.64, 0.33, 196.84], [0.3582116579075973, 3.938822906572255, 0.0, 26.0, 41.0, 0.14, 0.24, 64.48], [0.12736321515386906, 10.077118365310168, 0.0, 93.0, 209.0, 1.25, 0.31, 243.66], [0.5903457057218283, 7.368892591749929, 0.0, 65.0, 122.0, 0.48, 0.27, 165.1]]\n"
     ]
    },
    {
     "data": {
      "text/html": [
       "<div>\n",
       "<style scoped>\n",
       "    .dataframe tbody tr th:only-of-type {\n",
       "        vertical-align: middle;\n",
       "    }\n",
       "\n",
       "    .dataframe tbody tr th {\n",
       "        vertical-align: top;\n",
       "    }\n",
       "\n",
       "    .dataframe thead th {\n",
       "        text-align: right;\n",
       "    }\n",
       "</style>\n",
       "<table border=\"1\" class=\"dataframe\">\n",
       "  <thead>\n",
       "    <tr style=\"text-align: right;\">\n",
       "      <th></th>\n",
       "      <th>IPF</th>\n",
       "      <th>Density</th>\n",
       "      <th>E_above_Hull</th>\n",
       "      <th>G_VRH</th>\n",
       "      <th>K_VRH</th>\n",
       "      <th>Elastic_Anisotropy</th>\n",
       "      <th>poisson_ratio</th>\n",
       "    </tr>\n",
       "  </thead>\n",
       "  <tbody>\n",
       "    <tr>\n",
       "      <th>1</th>\n",
       "      <td>0.155298</td>\n",
       "      <td>6.412986</td>\n",
       "      <td>0.0</td>\n",
       "      <td>38.0</td>\n",
       "      <td>152.0</td>\n",
       "      <td>10.41</td>\n",
       "      <td>0.38</td>\n",
       "    </tr>\n",
       "    <tr>\n",
       "      <th>2</th>\n",
       "      <td>0.158236</td>\n",
       "      <td>4.843489</td>\n",
       "      <td>0.0</td>\n",
       "      <td>43.0</td>\n",
       "      <td>115.0</td>\n",
       "      <td>0.00</td>\n",
       "      <td>0.33</td>\n",
       "    </tr>\n",
       "    <tr>\n",
       "      <th>3</th>\n",
       "      <td>0.105096</td>\n",
       "      <td>4.767799</td>\n",
       "      <td>0.0</td>\n",
       "      <td>86.0</td>\n",
       "      <td>130.0</td>\n",
       "      <td>0.05</td>\n",
       "      <td>0.23</td>\n",
       "    </tr>\n",
       "    <tr>\n",
       "      <th>4</th>\n",
       "      <td>0.132183</td>\n",
       "      <td>7.985963</td>\n",
       "      <td>0.0</td>\n",
       "      <td>62.0</td>\n",
       "      <td>136.0</td>\n",
       "      <td>1.47</td>\n",
       "      <td>0.30</td>\n",
       "    </tr>\n",
       "    <tr>\n",
       "      <th>5</th>\n",
       "      <td>0.123319</td>\n",
       "      <td>7.347407</td>\n",
       "      <td>0.0</td>\n",
       "      <td>64.0</td>\n",
       "      <td>193.0</td>\n",
       "      <td>0.25</td>\n",
       "      <td>0.35</td>\n",
       "    </tr>\n",
       "    <tr>\n",
       "      <th>6</th>\n",
       "      <td>0.126249</td>\n",
       "      <td>7.682462</td>\n",
       "      <td>0.0</td>\n",
       "      <td>63.0</td>\n",
       "      <td>123.0</td>\n",
       "      <td>0.14</td>\n",
       "      <td>0.28</td>\n",
       "    </tr>\n",
       "    <tr>\n",
       "      <th>7</th>\n",
       "      <td>0.138095</td>\n",
       "      <td>8.498199</td>\n",
       "      <td>0.0</td>\n",
       "      <td>93.0</td>\n",
       "      <td>174.0</td>\n",
       "      <td>1.05</td>\n",
       "      <td>0.27</td>\n",
       "    </tr>\n",
       "    <tr>\n",
       "      <th>8</th>\n",
       "      <td>0.148305</td>\n",
       "      <td>9.512797</td>\n",
       "      <td>0.0</td>\n",
       "      <td>89.0</td>\n",
       "      <td>230.0</td>\n",
       "      <td>0.53</td>\n",
       "      <td>0.33</td>\n",
       "    </tr>\n",
       "    <tr>\n",
       "      <th>9</th>\n",
       "      <td>0.150198</td>\n",
       "      <td>9.438041</td>\n",
       "      <td>0.0</td>\n",
       "      <td>91.0</td>\n",
       "      <td>223.0</td>\n",
       "      <td>1.03</td>\n",
       "      <td>0.32</td>\n",
       "    </tr>\n",
       "    <tr>\n",
       "      <th>10</th>\n",
       "      <td>0.144882</td>\n",
       "      <td>5.419871</td>\n",
       "      <td>0.0</td>\n",
       "      <td>46.0</td>\n",
       "      <td>110.0</td>\n",
       "      <td>0.01</td>\n",
       "      <td>0.32</td>\n",
       "    </tr>\n",
       "  </tbody>\n",
       "</table>\n",
       "</div>"
      ],
      "text/plain": [
       "         IPF   Density  E_above_Hull  G_VRH  K_VRH  Elastic_Anisotropy  \\\n",
       "1   0.155298  6.412986           0.0   38.0  152.0               10.41   \n",
       "2   0.158236  4.843489           0.0   43.0  115.0                0.00   \n",
       "3   0.105096  4.767799           0.0   86.0  130.0                0.05   \n",
       "4   0.132183  7.985963           0.0   62.0  136.0                1.47   \n",
       "5   0.123319  7.347407           0.0   64.0  193.0                0.25   \n",
       "6   0.126249  7.682462           0.0   63.0  123.0                0.14   \n",
       "7   0.138095  8.498199           0.0   93.0  174.0                1.05   \n",
       "8   0.148305  9.512797           0.0   89.0  230.0                0.53   \n",
       "9   0.150198  9.438041           0.0   91.0  223.0                1.03   \n",
       "10  0.144882  5.419871           0.0   46.0  110.0                0.01   \n",
       "\n",
       "    poisson_ratio  \n",
       "1            0.38  \n",
       "2            0.33  \n",
       "3            0.23  \n",
       "4            0.30  \n",
       "5            0.35  \n",
       "6            0.28  \n",
       "7            0.27  \n",
       "8            0.33  \n",
       "9            0.32  \n",
       "10           0.32  "
      ]
     },
     "execution_count": 5,
     "metadata": {},
     "output_type": "execute_result"
    }
   ],
   "source": [
    "all_values = df.values.tolist() # Values for Attributes\n",
    "print(all_values)\n",
    "all_labels = [] # Values for Young's Modulus (Property to be estimated)\n",
    "all_labels = df['Y_Modulus'].tolist()\n",
    "df = df.drop(['Y_Modulus'], axis=1)\n",
    "df.head(n=10)"
   ]
  },
  {
   "cell_type": "code",
   "execution_count": 6,
   "metadata": {},
   "outputs": [
    {
     "name": "stdout",
     "output_type": "stream",
     "text": [
      "Shape of Values: (378, 7)\n",
      "Shape of Labels: (378,)\n",
      "[-0.12949792 -0.52113026 -0.12893324 -0.82296473  0.47868017  1.19019382\n",
      "  1.64520313]\n",
      "[-0.55718976 -0.67684544 -0.12893324  0.4998719   0.20585391 -0.12076958\n",
      " -0.33537849]\n",
      "[  0   1   2   3   4   5   6   7   8   9  10  11  12  13  14  15  16  17\n",
      "  18  19  20  21  22  23  24  25  26  27  28  29  30  31  32  33  34  35\n",
      "  36  37  38  39  40  41  42  43  44  45  46  47  48  49  50  51  52  53\n",
      "  54  55  56  57  58  59  60  61  62  63  64  65  66  67  68  69  70  71\n",
      "  72  73  74  75  76  77  78  79  80  81  82  83  84  85  86  87  88  89\n",
      "  90  91  92  93  94  95  96  97  98  99 100 101 102 103 104 105 106 107\n",
      " 108 109 110 111 112 113 114 115 116 117 118 119 120 121 122 123 124 125\n",
      " 126 127 128 129 130 131 132 133 134 135 136 137 138 139 140 141 142 143\n",
      " 144 145 146 147 148 149 150 151 152 153 154 155 156 157 158 159 160 161\n",
      " 162 163 164 165 166 167 168 169 170 171 172 173 174 175 176 177 178 179\n",
      " 180 181 182 183 184 185 186 187 188 189 190 191 192 193 194 195 196 197\n",
      " 198 199 200 201 202 203 204 205 206 207 208 209 210 211 212 213 214 215\n",
      " 216 217 218 219 220 221 222 223 224 225 226 227 228 229 230 231 232 233\n",
      " 234 235 236 237 238 239 240 241 242 243 244 245 246 247 248 249 250 251\n",
      " 252 253 254 255 256 257 258 259 260 261 262 263 264 265 266 267 268 269\n",
      " 270 271 272 273 274 275 276 277 278 279 280 281 282 283 284 285 286 287\n",
      " 288 289 290 291 292 293 294 295 296 297 298 299 300 301 302 303 304 305\n",
      " 306 307 308 309 310 311 312 313 314 315 316 317 318 319 320 321 322 323\n",
      " 324 325 326 327 328 329 330 331 332 333 334 335 336 337 338 339 340 341\n",
      " 342 343 344 345 346 347 348 349 350 351 352 353 354 355 356 357 358 359\n",
      " 360 361 362 363 364 365 366 367 368 369 370 371 372 373 374 375 376 377]\n"
     ]
    }
   ],
   "source": [
    "#We will rewrite the arrays with the patches we made on the dataset \n",
    "# by turning the dataframe back into a list of lists\n",
    "\n",
    "all_values = [list(df.iloc[x]) for x in range(len(all_values))]\n",
    "\n",
    "# SETS\n",
    "\n",
    "# List of lists are turned into Numpy arrays to facilitate calculations in steps to follow (Normalization).\n",
    "all_values = np.array(all_values, dtype = float) \n",
    "print(\"Shape of Values:\", all_values.shape)\n",
    "all_labels = np.array(all_labels, dtype = float)\n",
    "print(\"Shape of Labels:\", all_labels.shape)\n",
    "\n",
    "# Uncomment the line below to shuffle the dataset \n",
    "#(we do not do this here to ensure consistent results for every run)\n",
    "#order = np.argsort(np.random.random(all_labels.shape)) \n",
    "# This numpy argsort returns the indexes that would be used to shuffle a list\n",
    "order = np.arange(378)\n",
    "all_values = all_values[order]\n",
    "all_labels = all_labels[order]\n",
    "\n",
    "# Training Set\n",
    "train_labels = all_labels[:300]\n",
    "train_values = all_values[:300]\n",
    "\n",
    "# Testing Set\n",
    "test_labels = all_labels[-78:]\n",
    "test_values = all_values[-78:]\n",
    "\n",
    "# This line is used for labels in the plots at the end of the tutorial - Testing Set\n",
    "\n",
    "labeled_elements = [elements[x] for x in order[-78:]] \n",
    "elements = [elements[x] for x in order]\n",
    "\n",
    "# NORMALIZATION\n",
    "\n",
    "mean = np.mean(train_values, axis = 0) # mean\n",
    "std = np.std(train_values, axis = 0) # standard deviation\n",
    "\n",
    "train_values = (train_values - mean) / std # input scaling\n",
    "test_values = (test_values - mean) / std # input scaling\n",
    "\n",
    "print(train_values[0]) # print a sample entry from the training set\n",
    "print(test_values[0]) # print a sample entry from the training set\n",
    "print(order)"
   ]
  },
  {
   "cell_type": "markdown",
   "metadata": {},
   "source": [
    "### 3. Creating the Model\n",
    "\n",
    "For this regression, we will use a simple sequential neural network with one densely connected hidden layer. The optimizer used will be [RMSPropOptimizer](https://www.tensorflow.org/api_docs/python/tf/train/RMSPropOptimizer) (Root Mean Square Propagation).\n",
    "\n",
    "To learn more about Root Mean Squared Propagation, click [here](https://climin.readthedocs.io/en/latest/rmsprop.html).\n",
    "\n",
    "A cool tool developed by Tensorflow to visualize how a neural network learns, and play around with its parameters, can be found here [NN Tools](https://playground.tensorflow.org/)."
   ]
  },
  {
   "cell_type": "code",
   "execution_count": 7,
   "metadata": {},
   "outputs": [
    {
     "name": "stdout",
     "output_type": "stream",
     "text": [
      "WARNING:tensorflow:From C:\\Users\\Kayla Yano\\anaconda3\\envs\\PythonData\\lib\\site-packages\\tensorflow\\python\\keras\\initializers.py:143: calling RandomNormal.__init__ (from tensorflow.python.ops.init_ops) with dtype is deprecated and will be removed in a future version.\n",
      "Instructions for updating:\n",
      "Call initializer instance with the dtype argument instead of passing it to the constructor\n",
      "Model: \"sequential\"\n",
      "_________________________________________________________________\n",
      "Layer (type)                 Output Shape              Param #   \n",
      "=================================================================\n",
      "dense (Dense)                (None, 32)                256       \n",
      "_________________________________________________________________\n",
      "dense_1 (Dense)              (None, 64)                2112      \n",
      "_________________________________________________________________\n",
      "dense_2 (Dense)              (None, 64)                4160      \n",
      "_________________________________________________________________\n",
      "dense_3 (Dense)              (None, 1)                 65        \n",
      "=================================================================\n",
      "Total params: 6,593\n",
      "Trainable params: 6,593\n",
      "Non-trainable params: 0\n",
      "_________________________________________________________________\n"
     ]
    }
   ],
   "source": [
    "# DEFINITION OF THE MODEL\n",
    "\n",
    "# The weights of our neural network will be initialized in a random manner, using a seed allows for reproducibility\n",
    "kernel_init = initializers.RandomNormal(seed=0)\n",
    "# In a sequential model, the first layer must specify the input shape the model will expect; \n",
    "# in this case the value is train_values.shape[1] which is the number\n",
    "# of attributes (properties) and equals 17.\n",
    "\n",
    "model = Sequential()\n",
    "model.add(Dense(32, activation='relu', input_shape=(train_values.shape[1], ), kernel_initializer=kernel_init))\n",
    "model.add(Dense(64, activation='relu', kernel_initializer=kernel_init))\n",
    "model.add(Dense(64, activation='relu', kernel_initializer=kernel_init))\n",
    "model.add(Dense(1, kernel_initializer=kernel_init))\n",
    "\n",
    "# DEFINITION OF THE OPTIMIZER\n",
    "\n",
    "optimizer = optimizers.RMSprop(0.002) # Root Mean Squared Propagation\n",
    "\n",
    "# This line matches the optimizer to the model and states which metrics will evaluate the model's accuracy\n",
    "model.compile(loss='mae', optimizer=optimizer, metrics=['mae'])\n",
    "model.summary()"
   ]
  },
  {
   "cell_type": "markdown",
   "metadata": {},
   "source": [
    "#### TRAINING \n",
    "\n",
    "This model is trained for 2000 epochs, and we record the training accuracy in the history object.\n",
    "\n",
    "One **Epoch** occurs when you pass the entire dataset through the model. One **Batch** contains a subset of the dataset that can be fed to the model at the same time. A more detailed explanation of these concepts can be found in this [blog](https://towardsdatascience.com/epoch-vs-iterations-vs-batch-size-4dfb9c7ce9c9). As we have a really small dataset compared to the ones that are usually considered to be modeled by these neural networks, we are feeding all entries at the same time, so our batch is the entire dataset, and an epoch occurs when the batch is processed.\n",
    "\n",
    "This way, by plotting \"history\" we can see the evolution of the \"learning\" of the model, that is the decrease of the Mean Absolute Error. Models in Keras are fitted to the training set using the [**fit**](https://keras.io/models/model/#fit) method.\n",
    "\n",
    "The blue curve that will come up from the History object represents how the model is learning on the training data, and the orange curve represents the validation loss, which can be thought of as the way our model evaluates data that it was not trained in. This validation loss would start going up again when we start to overfit our data."
   ]
  },
  {
   "cell_type": "code",
   "execution_count": 8,
   "metadata": {},
   "outputs": [
    {
     "name": "stdout",
     "output_type": "stream",
     "text": [
      "Current Epoch: 2000 Training Loss: 1.716759                                       \r"
     ]
    },
    {
     "data": {
      "image/png": "[encoded data removed]",
      "text/plain": [
       "<Figure size 432x288 with 1 Axes>"
      ]
     },
     "metadata": {
      "needs_background": "light"
     },
     "output_type": "display_data"
    }
   ],
   "source": [
    "# EPOCH REAL TIME COUNTER CLASS\n",
    "class PrintEpNum(tf.keras.callbacks.Callback): # This is a function for the Epoch Counter\n",
    "    def on_epoch_end(self, epoch, logs):\n",
    "        sys.stdout.flush()\n",
    "        sys.stdout.write(\"Current Epoch: \" + str(epoch+1) + \" Training Loss: \" + \"%4f\" %logs.get('loss') + '                                       \\r') # Updates current Epoch Number\n",
    "\n",
    "EPOCHS = 2000 # Number of EPOCHS\n",
    "\n",
    "# HISTORY Object which contains how the model learned\n",
    "\n",
    "# Training Values (Properties), Training Labels (Known Young's Moduli) \n",
    "history = model.fit(train_values, train_labels, batch_size=train_values.shape[0], \n",
    "                    epochs=EPOCHS, verbose = False, validation_split=0.1, callbacks=[PrintEpNum()])\n",
    "\n",
    "\n",
    "# PLOTTING HISTORY USING MATPLOTLIB\n",
    "\n",
    "plt.figure()\n",
    "plt.xlabel('Epoch')\n",
    "plt.ylabel('Mean Abs Error')\n",
    "plt.plot(history.epoch, np.array(history.history['mean_absolute_error']),label='Loss on training set') \n",
    "plt.plot(history.epoch, np.array(history.history['val_mean_absolute_error']),label = 'Validation loss')\n",
    "plt.legend()\n",
    "plt.show()"
   ]
  },
  {
   "cell_type": "markdown",
   "metadata": {},
   "source": [
    "#### SAVING A MODEL\n",
    "\n",
    "Compiled and trained models in Keras can be saved and distributed in .h5 files using the `model.save()` method. Running the cell below will save the current model we trained, both weights and architecture to your home directory."
   ]
  },
  {
   "cell_type": "code",
   "execution_count": 9,
   "metadata": {},
   "outputs": [],
   "source": [
    "model.save(os.path.expanduser('~/model.h5'))"
   ]
  },
  {
   "cell_type": "markdown",
   "metadata": {},
   "source": [
    "#### TESTING\n",
    "\n",
    "Models in Keras are tested using the method [**evaluate**](https://keras.io/models/model/#evaluate). This method returns the testing loss of the model and the metrics we specified when creating it,  which in our case it's the Mean Absolute Error. For the original model in this tutorial you should get a value of around **20 GPa** for the Mean Absolute Error. This value would decrease with more training data, more attributes/features, or a different optimizer. In the case of a model that overfits, you can expect values to start increasing to around **30 or 40 GPa**."
   ]
  },
  {
   "cell_type": "code",
   "execution_count": 10,
   "metadata": {},
   "outputs": [
    {
     "name": "stdout",
     "output_type": "stream",
     "text": [
      "Testing Set Mean Absolute Error: 3.943 GPa\n"
     ]
    }
   ],
   "source": [
    "[loss, mae] = model.evaluate(test_values, test_labels, verbose=0)\n",
    "\n",
    "print(\"Testing Set Mean Absolute Error: {:2.3f} GPa\".format(mae))"
   ]
  },
  {
   "cell_type": "markdown",
   "metadata": {},
   "source": [
    "#### MAKING PREDICTIONS\n",
    "\n",
    "The last step in a regression model is to make predictions for values not in the training set, which are determined by the method [**predict**](https://keras.io/models/model/#predict). In the following cell we print the elements in the testing set, the real values for their Young's moduli and the predictions generated by our machine learned model."
   ]
  },
  {
   "cell_type": "code",
   "execution_count": 11,
   "metadata": {},
   "outputs": [
    {
     "name": "stdout",
     "output_type": "stream",
     "text": [
      "Elements in Test Set:  ['ZrAlNi', 'Y2MgNi2', 'NdNi4B', 'SrNiSn2', 'Ac2NiIr', 'Pm2NiIr', 'Pm2NiRu', 'Ti6Al16Ni7', 'Ti2NiMo', 'Hf3(NiGe)4', 'LaNiC2', 'ScAlNi2', 'ScNi4Sn', 'CeCdNi4', 'SrNi3Ge2', 'ScAl2Ni', 'YAlNi', 'SrNiGe2', 'MgNiSb', 'NiCO3', 'TmInNi4', 'NbNiP', 'UGa5Ni', 'ScInNi2', 'UNiAs2', 'CsNiCl3', 'MgNi2Sn', 'Lu2NiSn6', 'Tb(NiGe)2', 'NiAsS', 'Er2(NiB2)3', 'DyNiSb', 'NbAlNi2', 'TiSiNi', 'CsNiF3', 'Ba(NiAs)2', 'MnGaNi2', 'K2NiF6', 'PaNi2Sn', 'LiAl2Ni', 'Sc2NiIr', 'Sc2NiOs', 'Ti2MnNi', 'PrNiC2', 'Ba(NiP)2', 'Ni(BMo)2', 'ScGa5Ni', 'HoNi4B', 'CaGa3Ni2', 'Lu7(NiTe)2', 'TbAl2Ni', 'TiNiO3', 'NiSeO4', 'TmNiGe', 'YNiSn', 'YNiBi', 'TiGaNi', 'Ni2Mo3N', 'Sr(NiAs)2', 'Ca(NiAs)2', 'SrNiF6', 'Cs2KNiF6', 'Y(NiP)2', 'ScNiGe', 'BeSiNi2', 'K2NiP2', 'LuSi2Ni', 'Sr2NiTeO6', 'LaNi2B2C', 'TbNi2B2C', 'NdNi2B2C', 'Er3Al3NiGe2', 'ErNi2B2C', 'DyNi2B2C', 'TmNi2B2C', 'Rb2NaNiF6', 'UNi2B2C', 'Ba2NiWO6']\n",
      "Real Values [181.76, 74.48, 179.4, 70.2, 55.60000000000001, 85.55999999999997, 62.1, 222.04, 205.4, 220.98, 190.96, 146.72, 147.4, 143.64, 85.76, 160.0, 71.24000000000002, 94.72, 108.36, 172.72, 154.28, 254.8, 143.84, 129.36, 137.8, 18.06, 119.7, 97.5, 125.02, 149.86, 328.44, 128.79999999999998, 125.1, 260.0, 21.6, 71.28, 166.32000000000005, 24.8, 106.86, 148.68, 129.60000000000002, 166.4, 175.56, 210.0, 95.46, 447.5, 106.6, 196.08, 101.4, 86.36, 132.84, 213.2, 105.0, 146.32, 109.2, 119.04, 179.4, 360.96, 75.6, 103.2, 61.64, 41.4, 212.5, 161.28, 165.92, 34.44, 162.54, 161.20000000000005, 181.44000000000003, 196.84, 195.36, 143.96, 195.0, 190.28, 196.84, 64.48, 243.66, 165.1]\n",
      "Predictions [175.91034, 74.713585, 172.88089, 70.07734, 57.346134, 85.055534, 66.66058, 219.31943, 197.57216, 212.94258, 186.97554, 142.44029, 142.31523, 138.85979, 84.3416, 156.4999, 71.88062, 93.40855, 106.43519, 171.64539, 148.30914, 244.75337, 139.74457, 125.510414, 132.33647, 18.821198, 116.417336, 103.01258, 121.155495, 145.67024, 329.67395, 128.34848, 123.14222, 253.8962, 21.934248, 70.82894, 159.97292, 24.288364, 105.13204, 145.2949, 126.022804, 160.25136, 169.22227, 204.54472, 94.26531, 438.5217, 104.60823, 188.49275, 99.84462, 84.95661, 129.86708, 210.1642, 105.30995, 142.36525, 106.42564, 115.7226, 172.82077, 348.88522, 74.98441, 101.5435, 62.39486, 40.6398, 207.19426, 156.4698, 160.21443, 30.525166, 156.81248, 159.65988, 186.39664, 188.0077, 187.5793, 140.86891, 187.29489, 182.14204, 188.49562, 64.49651, 232.43474, 163.33665]\n"
     ]
    }
   ],
   "source": [
    "test_predictions = model.predict(test_values).flatten()\n",
    "\n",
    "print(\"Elements in Test Set: \", labeled_elements)\n",
    "print(\"Real Values\", list(test_labels))\n",
    "print(\"Predictions\", list(test_predictions))\n",
    "\n",
    "values = np.concatenate((train_values, test_values), axis=0) # This line joins the values together to evaluate all of them\n",
    "predictions = model.predict(values).flatten()"
   ]
  },
  {
   "cell_type": "markdown",
   "metadata": {},
   "source": [
    "### 4. Plotting\n",
    "\n",
    "The easiest way to see if the model did a good job estimating the Young's Modulus for the Elements is through a plot comparing Real Values with their Predictions. We will use [Plotly](https://plot.ly/python/) to create a plot like that. We covered how to plot in Plotly in the first tutorial of this tool. For values in this plot, the line (x = y) indicates a perfect match and would be the desirable result for the points. As you analyze the plot, you can hover on the points to see the data we obtained in the cell above."
   ]
  },
  {
   "cell_type": "code",
   "execution_count": 12,
   "metadata": {},
   "outputs": [
    {
     "data": {
      "text/html": [
       "        <script type=\"text/javascript\">\n",
       "        window.PlotlyConfig = {MathJaxConfig: 'local'};\n",
       "        if (window.MathJax) {MathJax.Hub.Config({SVG: {font: \"STIX-Web\"}});}\n",
       "        if (typeof require !== 'undefined') {\n",
       "        require.undef(\"plotly\");\n",
       "        requirejs.config({\n",
       "            paths: {\n",
       "                'plotly': ['https://cdn.plot.ly/plotly-latest.min']\n",
       "            }\n",
       "        });\n",
       "        require(['plotly'], function(Plotly) {\n",
       "            window._Plotly = Plotly;\n",
       "        });\n",
       "        }\n",
       "        </script>\n",
       "        "
      ]
     },
     "metadata": {},
     "output_type": "display_data"
    },
    {
     "data": {
      "application/vnd.plotly.v1+json": {
       "config": {
        "linkText": "Export to plot.ly",
        "plotlyServerURL": "https://plot.ly",
        "showLink": false
       },
       "data": [
        {
         "marker": {
          "color": "blue",
          "size": 12
         },
         "mode": "markers",
         "name": "Young's Modulus (Training)",
         "text": [
          "TiNi",
          "Ni3S4",
          "Al3Ni2",
          "NiGe",
          "SiNi2",
          "Ga3Ni2",
          "MnNi3",
          "Ni3Mo",
          "Ni4Mo",
          "ScNi",
          "TmNi5",
          "VNi2",
          "Ni3Pt",
          "YNi",
          "TiNi3",
          "FeNi3",
          "NbNi3",
          "AlNi",
          "HoNi5",
          "ThNi5",
          "Al3Ni5",
          "CeNi2",
          "Ni2Ge",
          "Ti2Ni",
          "Ta2Ni",
          "NiO",
          "CeNi5",
          "ErNi2",
          "InNi",
          "Ni3Sn",
          "Ni3Sn4",
          "Ni3N",
          "Ni3Se2",
          "Ni3B",
          "Ni3Ge",
          "Ni2P",
          "CeNi",
          "LuNi2",
          "Mg2Ni",
          "YNi5",
          "FeNi",
          "NiP2",
          "Si2Ni",
          "NiP3",
          "LaNi5",
          "NiBi3",
          "Ni2B",
          "NiTe2",
          "AlNi3",
          "MgNi2",
          "Si12Ni31",
          "DyNi",
          "NiCl2",
          "TbNi2",
          "NiBr2",
          "NiI2",
          "UNi5",
          "TbNi5",
          "Ni4W",
          "Zr2Ni",
          "SiNi",
          "Ni3S2",
          "DyNi2",
          "ZnNi",
          "ZrNi3",
          "ZrNi",
          "NiF2",
          "NiF3",
          "ErNi",
          "YNi3",
          "TaNi3",
          "Al3Ni",
          "Ni3O4",
          "Ni3Sb",
          "HoNi2",
          "V3Ni",
          "CrNi2",
          "NiSb",
          "SiNi3",
          "ScNi2",
          "ErNi5",
          "Re3Ni",
          "Tc3Ni",
          "NiPt",
          "CrNi3",
          "CuNi3N",
          "YSi3Ni",
          "NdMgNi4",
          "ScGaNi2",
          "Ni3Sn",
          "DyNi5",
          "PrZnNi",
          "CeMgNi4",
          "LiNi2Ge",
          "VNi3",
          "NiSb2",
          "ErNiSb",
          "Sc3(NiGe)4",
          "TaNiGe",
          "ThNiSn",
          "PrNi5",
          "NiH",
          "ZrNiH3",
          "ThAl3Ni2",
          "Ni2SbTe2",
          "LaMgNi4",
          "Sc2Ni2Sn",
          "ZrNi2Sb",
          "YAl3Ni",
          "Nd(NiGe)2",
          "CeAl5Ni2",
          "Zr(SiNi)2",
          "CaNi5",
          "GaNi3",
          "TiZnNi2",
          "LiZn2Ni",
          "HfNiSn",
          "PrNiSb",
          "TmSi2Ni",
          "TmGa2Ni",
          "YNiSb",
          "ErSi2Ni",
          "SrNi2Ge",
          "Sc2InNi2",
          "TbZnNi",
          "LiNi2Sn",
          "TiNiGe",
          "HoAl2Ni",
          "TmAl2Ni",
          "MnNiO3",
          "Ni3TeO6",
          "LuNiSb",
          "YSiNi",
          "ZrInNi2",
          "TiNiSb",
          "U(NiP)2",
          "RbNiBr3",
          "Zr2NiP",
          "Ca(NiGe)2",
          "ZrAl5Ni2",
          "ScNiSb",
          "YMgNi4",
          "YAl4Ni",
          "Al2NiO4",
          "Tm(NiGe)2",
          "NdNiGe2",
          "Ca(SiNi)2",
          "DyAl2Ni",
          "Y2InNi2",
          "Pr(NiP)2",
          "Tb2Mg3Ni2",
          "HfAlNi2",
          "Yb(SiNi)2",
          "YInNi",
          "NdAl3Ni2",
          "Ti2NiIr",
          "Be2NiPt",
          "Be2CoNi",
          "Al2NiRu",
          "Lu2(NiB2)3",
          "Mg2Ni3P",
          "ZrNiSn",
          "YbSi2Ni",
          "YbNiH3",
          "ScNiP",
          "Ca3(GaNi)4",
          "LuNiPb",
          "YAl2Ni",
          "Tb2ZnNi2",
          "In2Ni3S2",
          "Gd(SiNi)2",
          "Ba(SiNi)2",
          "DyNiBi",
          "SrNiSn3",
          "Re2NiO8",
          "Ho2Ni2Pb",
          "NiSbS",
          "ZrAlNi2",
          "Ca(NiP)2",
          "LaNi4B",
          "Si2Ni6B",
          "Er(SiNi)2",
          "CrNiAs",
          "YAl3Ni2",
          "BaNiF4",
          "TmNiBi",
          "Ce(NiP)2",
          "Nd(NiP)2",
          "Hf(SiNi)2",
          "Ba(NiP2)2",
          "Yb(NiGe)2",
          "ZrInNi4",
          "TiAlNi2",
          "HfZnNi2",
          "MgGaNi2",
          "Ti2ReNi",
          "Ti2TcNi",
          "LiGa2Ni",
          "Zr2NiAs2",
          "Ac2NiGe",
          "CdNi3N",
          "LiSiNi2",
          "LuGa2Ni",
          "CaSiNi2",
          "NiAsSe",
          "ZnNiSb",
          "BaNiSn3",
          "Lu(SiNi)2",
          "YbAl2Ni",
          "CaNiGe2",
          "Cs2Ni3Se4",
          "Mg2SiNi3",
          "BaNiO3",
          "NaNiO2",
          "Rb2NiO2",
          "BaNiO3",
          "K2NiO2",
          "MnNiGe",
          "SrIn4Ni",
          "Dy(NiGe)2",
          "ScSiNi",
          "DyAlNi",
          "Th(NiGe)2",
          "TbNiSb",
          "Nd(SiNi)2",
          "HoNiSb",
          "Ho(NiGe)2",
          "Tb(SiNi)2",
          "Eu(SiNi)2",
          "Rb2NiF6",
          "Hf2NiP",
          "MnNiSb",
          "NiMoP",
          "CaNi4B",
          "Ca3Ni7B2",
          "Sc2NiRu",
          "Sc2TcNi",
          "Zn2NiRh",
          "GaNiRh2",
          "TiNiSn",
          "NiMoP2",
          "ErInNi4",
          "ThSi2Ni",
          "Sc6NiTe2",
          "NiSbSe",
          "ZrZnNi4",
          "PrMgNi4",
          "Ti3NiS6",
          "Hf6NiSb2",
          "Ni(AsO3)2",
          "CeAl3Ni2",
          "ZrNiSb",
          "MnSiNi",
          "YIn2Ni",
          "RbNiCl3",
          "HoAlNi",
          "Ho(SiNi)2",
          "LuNiBi",
          "TiGaNi2",
          "CeAl4Ni",
          "NiGePd",
          "Er(NiP)2",
          "Sc(SiNi)2",
          "Eu(NiP)2",
          "Dy(SiNi)2",
          "NiPS",
          "Y(SiNi)2",
          "NdNiC2",
          "YbNiSb",
          "Li5(NiN)3",
          "YNi4B",
          "Li(NiP)2",
          "Si3NiP4",
          "Sc2NiPt",
          "Be2NiRh",
          "Be2NiIr",
          "TaNi2Te3",
          "HoNiBi",
          "Ti2NiS4",
          "CeAlNi",
          "ScGa2Ni",
          "YGa2Ni",
          "ErNi4B",
          "NiMoO4",
          "Mn(Ni3O4)2",
          "Ho(NiP)2",
          "MgNiBi",
          "NiGePt2",
          "ScNiBi",
          "ErAl2Ni",
          "TmNiSb",
          "TmNiC2",
          "ScNi2Sn",
          "Er(NiGe)2",
          "MnAlNi2",
          "Y(NiGe)2",
          "Ni3(SnS)2",
          "NiPtF6",
          "Zn(GaNi)3",
          "MgNi3B2",
          "ZrAlNi",
          "Y2MgNi2",
          "NdNi4B",
          "SrNiSn2",
          "Ac2NiIr",
          "Pm2NiIr",
          "Pm2NiRu",
          "Ti6Al16Ni7",
          "Ti2NiMo",
          "Hf3(NiGe)4",
          "LaNiC2",
          "ScAlNi2",
          "ScNi4Sn",
          "CeCdNi4",
          "SrNi3Ge2",
          "ScAl2Ni",
          "YAlNi",
          "SrNiGe2",
          "MgNiSb",
          "NiCO3",
          "TmInNi4",
          "NbNiP",
          "UGa5Ni",
          "ScInNi2",
          "UNiAs2",
          "CsNiCl3",
          "MgNi2Sn",
          "Lu2NiSn6",
          "Tb(NiGe)2",
          "NiAsS",
          "Er2(NiB2)3",
          "DyNiSb",
          "NbAlNi2",
          "TiSiNi",
          "CsNiF3",
          "Ba(NiAs)2",
          "MnGaNi2",
          "K2NiF6",
          "PaNi2Sn",
          "LiAl2Ni",
          "Sc2NiIr",
          "Sc2NiOs",
          "Ti2MnNi",
          "PrNiC2",
          "Ba(NiP)2",
          "Ni(BMo)2",
          "ScGa5Ni",
          "HoNi4B",
          "CaGa3Ni2",
          "Lu7(NiTe)2",
          "TbAl2Ni",
          "TiNiO3",
          "NiSeO4",
          "TmNiGe",
          "YNiSn",
          "YNiBi",
          "TiGaNi",
          "Ni2Mo3N",
          "Sr(NiAs)2",
          "Ca(NiAs)2",
          "SrNiF6",
          "Cs2KNiF6",
          "Y(NiP)2",
          "ScNiGe",
          "BeSiNi2",
          "K2NiP2",
          "LuSi2Ni",
          "Sr2NiTeO6",
          "LaNi2B2C",
          "TbNi2B2C",
          "NdNi2B2C",
          "Er3Al3NiGe2",
          "ErNi2B2C",
          "DyNi2B2C",
          "TmNi2B2C",
          "Rb2NaNiF6",
          "UNi2B2C",
          "Ba2NiWO6"
         ],
         "type": "scatter",
         "x": [
          104.88,
          114.38,
          211.56,
          161.20000000000005,
          172.8,
          161.28,
          236.22,
          236.74,
          240.24,
          121.44,
          181.76,
          227.04,
          241.04,
          65.28,
          248.32,
          249.6,
          206.36,
          188.64,
          181.76,
          171.52,
          196.5,
          108,
          121.44,
          99.36,
          215.46,
          186.3,
          170.3,
          114.38,
          129,
          174.24,
          121.26,
          194.18,
          123.14,
          219.76,
          216.72,
          117.6,
          39.48,
          116.16,
          75.4,
          185.76,
          237.36,
          239.12,
          89.6,
          184.5,
          154.58,
          27.2,
          264,
          59.8,
          219.3,
          157.38,
          183.6,
          60.72,
          19.84,
          113.16,
          18.34,
          15.6,
          238.42,
          179.20000000000005,
          258.72,
          62.48,
          211.56,
          146.72,
          114.8,
          165.06,
          184.8,
          96.6,
          108.79999999999998,
          92,
          71.24000000000002,
          138.32,
          251.52,
          166.32,
          198.12,
          133.28,
          110.88,
          241.8,
          288.9600000000001,
          131,
          265.74,
          158.4,
          185.76,
          444.5,
          384,
          238.42,
          270.90000000000003,
          178.20000000000005,
          208.12,
          131,
          130.34,
          197.6,
          180.6,
          79.80000000000003,
          143.64,
          101.38,
          262.6,
          108.36,
          142.78,
          187.5,
          199.5,
          123.84,
          163.68,
          183.6,
          172.92000000000004,
          186.48,
          51.6,
          113.52,
          94.5,
          158.4,
          148.8,
          133.12,
          150.06,
          211.56,
          166.4,
          201.74,
          137,
          92.4,
          190.4,
          91.7,
          163.84,
          139.7,
          137.5,
          165.1,
          83.84,
          115.28,
          86.46000000000002,
          77.28,
          210.82,
          140,
          147.6,
          227.84,
          201.24,
          147.56,
          157.48,
          136.68,
          149.34,
          147.96,
          11.2,
          210.82,
          104.8,
          204.96,
          163.68,
          145.6,
          146.32,
          276.86,
          126.72,
          122.5,
          142.24,
          138.6,
          98.04,
          191.18,
          73.92,
          133.28,
          140,
          89.76,
          161.28,
          35.28,
          176.79999999999995,
          307.5,
          224.46,
          336.38,
          175.26,
          188.34,
          140.22,
          140,
          230,
          91,
          116.1,
          141.36,
          86.4,
          85.8,
          185.42,
          87.84,
          122.5,
          67.60000000000001,
          32.2,
          73.92,
          129.54,
          107.64,
          182.04,
          165.12,
          206.36,
          182.88,
          158.6,
          170,
          70.2,
          127.5,
          167.5,
          203.36,
          199.12,
          106.4,
          95.76,
          171.6,
          158.12,
          132.3,
          95.9,
          208.56,
          190.08,
          70.72,
          175.44,
          38.64,
          180.88,
          117.82,
          141.36,
          101.4,
          137.16,
          94.5,
          80.64,
          171.36,
          103.2,
          93.6,
          11.12,
          186.48,
          65.76,
          165.92,
          31.200000000000006,
          65.76,
          38.4,
          158.4,
          68.04,
          128.38,
          182.88,
          89.10000000000002,
          101.38,
          123.12000000000002,
          176.4,
          134.4,
          132,
          177.12,
          139.7,
          22.14,
          236.88,
          121.44,
          252.7,
          158.6,
          138.24,
          148.20000000000005,
          140.4,
          152.76000000000005,
          156.18,
          172.72,
          264.16,
          148.96,
          195.58,
          79.2,
          120.32,
          186.02,
          125.02,
          113.16,
          178.92,
          205.74,
          180,
          142.56,
          220.16,
          104.96,
          13.7,
          79.2,
          185.76,
          123,
          111.20000000000002,
          159.9,
          133.28,
          212.5,
          163.68,
          186,
          185,
          156.16,
          179.20000000000005,
          221.88,
          85.14,
          117.5,
          193.5,
          109.88,
          153.72,
          123.28,
          271.78000000000003,
          289.56,
          25,
          126,
          135.3,
          117,
          151.2,
          125.44,
          201.24,
          151.62,
          217.6,
          209.84,
          85.14,
          160.48,
          132.5,
          147.5,
          144,
          250.48,
          135.66,
          125.44,
          73.84,
          131.58,
          59.94000000000001,
          65.88,
          162.54,
          223.6,
          181.76,
          74.48,
          179.4,
          70.2,
          55.60000000000001,
          85.55999999999997,
          62.1,
          222.04,
          205.4,
          220.98,
          190.96,
          146.72,
          147.4,
          143.64,
          85.76,
          160,
          71.24000000000002,
          94.72,
          108.36,
          172.72,
          154.28,
          254.8,
          143.84,
          129.36,
          137.8,
          18.06,
          119.7,
          97.5,
          125.02,
          149.86,
          328.44,
          128.79999999999998,
          125.1,
          260,
          21.6,
          71.28,
          166.32000000000005,
          24.8,
          106.86,
          148.68,
          129.60000000000002,
          166.4,
          175.56,
          210,
          95.46,
          447.5,
          106.6,
          196.08,
          101.4,
          86.36,
          132.84,
          213.2,
          105,
          146.32,
          109.2,
          119.04,
          179.4,
          360.96,
          75.6,
          103.2,
          61.64,
          41.4,
          212.5,
          161.28,
          165.92,
          34.44,
          162.54,
          161.20000000000005,
          181.44000000000003,
          196.84,
          195.36,
          143.96,
          195,
          190.28,
          196.84,
          64.48,
          243.66,
          165.1
         ],
         "y": [
          103.70682525634766,
          112.5896224975586,
          208.0266876220703,
          155.4065399169922,
          166.13174438476562,
          155.95655822753906,
          228.34498596191406,
          226.10150146484375,
          229.74342346191406,
          118.5631332397461,
          175.45263671875,
          217.43373107910156,
          239.58432006835938,
          66.08279418945312,
          239.6983184814453,
          239.3506317138672,
          197.17984008789062,
          181.38104248046875,
          175.16554260253906,
          164.49136352539062,
          188.557373046875,
          106.05864715576172,
          115.72881317138672,
          97.75312042236328,
          204.50479125976562,
          183.83995056152344,
          163.87387084960938,
          110.8821029663086,
          124.96656036376953,
          167.14549255371094,
          117.37122344970703,
          186.39463806152344,
          119.75133514404297,
          210.11984252929688,
          208.3942108154297,
          115.661376953125,
          38.12461471557617,
          112.38697814941406,
          76.1328353881836,
          179.20916748046875,
          228.36961364746094,
          236.1719970703125,
          88.68360137939453,
          181.23123168945312,
          149.1438751220703,
          27.59454917907715,
          253.1512908935547,
          60.722190856933594,
          211.16676330566406,
          152.69557189941406,
          175.83323669433594,
          61.190284729003906,
          21.836942672729492,
          111.89766693115234,
          18.939937591552734,
          16.622093200683594,
          227.56385803222656,
          172.69699096679688,
          246.4087371826172,
          61.722373962402344,
          203.62315368652344,
          142.25535583496094,
          114.39672088623047,
          159.05471801757812,
          177.17953491210938,
          95.00118255615234,
          106.75702667236328,
          93.91071319580078,
          70.43880462646484,
          133.9439239501953,
          240.1427764892578,
          162.1002960205078,
          195.7355499267578,
          131.02346801757812,
          107.64132690429688,
          232.3037109375,
          278.7643127441406,
          126.50104522705078,
          255.8533172607422,
          152.9042510986328,
          178.6501007080078,
          430.10040283203125,
          370.4612121582031,
          226.60984802246094,
          233.6257781982422,
          171.15338134765625,
          206.21023559570312,
          127.4519271850586,
          126.77547454833984,
          191.93458557128906,
          174.11521911621094,
          78.53146362304688,
          139.09449768066406,
          100.76241302490234,
          251.78683471679688,
          105.22994232177734,
          139.67820739746094,
          182.92002868652344,
          189.9759521484375,
          119.52923583984375,
          157.46263122558594,
          175.84274291992188,
          166.53395080566406,
          181.0089569091797,
          52.78559875488281,
          110.97623443603516,
          92.74906921386719,
          152.2982940673828,
          145.72959899902344,
          129.29702758789062,
          147.28887939453125,
          203.93179321289062,
          161.35983276367188,
          193.37298583984375,
          133.44424438476562,
          91.3430404663086,
          188.6079864501953,
          89.7390365600586,
          158.3519744873047,
          135.14402770996094,
          134.01315307617188,
          159.8994598388672,
          82.74354553222656,
          112.56317901611328,
          84.43968963623047,
          77.17188262939453,
          204.40501403808594,
          136.42234802246094,
          144.53643798828125,
          224.7847442626953,
          198.3310089111328,
          145.21998596191406,
          153.05059814453125,
          132.1740264892578,
          144.1132049560547,
          142.93612670898438,
          12.335686683654785,
          204.0900115966797,
          102.88452911376953,
          202.1724395751953,
          159.84054565429688,
          141.21705627441406,
          143.39321899414062,
          274.06072998046875,
          122.83649444580078,
          119.49974822998047,
          138.8206329345703,
          134.9356231689453,
          96.3584213256836,
          188.8061981201172,
          74.14153289794922,
          129.47254943847656,
          136.172119140625,
          87.9480972290039,
          156.61431884765625,
          33.91505813598633,
          169.2024383544922,
          302.9936828613281,
          215.9450225830078,
          334.1689453125,
          170.50244140625,
          181.51495361328125,
          136.95611572265625,
          135.79847717285156,
          224.50514221191406,
          89.95201873779297,
          111.98419189453125,
          138.48960876464844,
          84.79393768310547,
          84.54485321044922,
          179.4846954345703,
          87.58136749267578,
          118.51869201660156,
          67.70169067382812,
          35.08110809326172,
          73.41459655761719,
          126.00003051757812,
          105.68616485595703,
          179.13075256347656,
          159.6177520751953,
          197.29225158691406,
          176.8613739013672,
          153.03614807128906,
          166.08045959472656,
          69.9509048461914,
          123.28117370605469,
          163.22096252441406,
          198.92987060546875,
          190.59596252441406,
          104.8962173461914,
          93.8228988647461,
          164.8570556640625,
          152.6449432373047,
          128.064208984375,
          94.6112289428711,
          199.05792236328125,
          182.52931213378906,
          73.57929229736328,
          169.13047790527344,
          37.95439910888672,
          173.88072204589844,
          116.03026580810547,
          137.24473571777344,
          100.2981185913086,
          133.3221893310547,
          92.4639663696289,
          79.74525451660156,
          166.3094024658203,
          102.02783203125,
          92.4958724975586,
          11.502634048461914,
          181.5651397705078,
          66.71456146240234,
          166.5915985107422,
          34.849853515625,
          68.4203109741211,
          41.54534912109375,
          152.34674072265625,
          68.46794891357422,
          124.32878875732422,
          177.69261169433594,
          87.6321029663086,
          100.1042709350586,
          122.6909408569336,
          171.63868713378906,
          131.69187927246094,
          127.6825180053711,
          173.3710479736328,
          135.89854431152344,
          23.505205154418945,
          228.8340301513672,
          117.65497589111328,
          241.04762268066406,
          153.6837615966797,
          134.73374938964844,
          143.54820251464844,
          136.26161193847656,
          147.00096130371094,
          150.56996154785156,
          167.22425842285156,
          255.2924346923828,
          143.44285583496094,
          188.9294891357422,
          78.7865982055664,
          116.82132720947266,
          178.83290100097656,
          121.86819458007812,
          112.65481567382812,
          172.39437866210938,
          203.58108520507812,
          175.7072296142578,
          137.6674041748047,
          212.34959411621094,
          102.20427703857422,
          13.932632446289062,
          78.0749282836914,
          178.87962341308594,
          119.3575439453125,
          110.05277252197266,
          156.9634552001953,
          129.26954650878906,
          206.60337829589844,
          157.969482421875,
          181.92547607421875,
          180.06712341308594,
          151.78794860839844,
          173.60499572753906,
          213.8185577392578,
          83.47879028320312,
          116.6473388671875,
          186.73312377929688,
          107.95757293701172,
          151.0046844482422,
          119.73494720458984,
          262.6016540527344,
          279.7344055175781,
          22.33934211730957,
          121.61528778076172,
          133.10223388671875,
          113.98328399658203,
          147.18099975585938,
          121.8358383178711,
          193.49806213378906,
          150.55381774902344,
          213.70199584960938,
          206.34715270996094,
          83.66370391845703,
          153.0487823486328,
          128.7344207763672,
          143.57472229003906,
          141.3983154296875,
          244.8297882080078,
          131.2063751220703,
          121.42752838134766,
          71.7209243774414,
          127.72483825683594,
          64.61763000488281,
          67.18058776855469,
          157.04794311523438,
          215.22581481933594,
          175.91033935546875,
          74.71358489990234,
          172.88088989257812,
          70.07733917236328,
          57.346134185791016,
          85.05553436279297,
          66.66058349609375,
          219.31942749023438,
          197.57215881347656,
          212.9425811767578,
          186.9755401611328,
          142.44029235839844,
          142.3152313232422,
          138.8597869873047,
          84.34159851074219,
          156.49989318847656,
          71.88062286376953,
          93.4085464477539,
          106.43518829345703,
          171.6453857421875,
          148.30914306640625,
          244.7533721923828,
          139.74456787109375,
          125.51041412353516,
          132.3364715576172,
          18.821197509765625,
          116.4173355102539,
          103.01258087158203,
          121.1554946899414,
          145.6702423095703,
          329.6739501953125,
          128.34848022460938,
          123.14221954345703,
          253.8961944580078,
          21.934247970581055,
          70.82894134521484,
          159.97291564941406,
          24.28836441040039,
          105.13204193115234,
          145.29490661621094,
          126.0228042602539,
          160.25135803222656,
          169.22227478027344,
          204.5447235107422,
          94.26531219482422,
          438.5216979980469,
          104.60823059082031,
          188.4927520751953,
          99.84461975097656,
          84.95661163330078,
          129.86708068847656,
          210.16419982910156,
          105.30995178222656,
          142.36524963378906,
          106.4256362915039,
          115.72260284423828,
          172.82077026367188,
          348.8852233886719,
          74.98441314697266,
          101.54350280761719,
          62.394859313964844,
          40.639801025390625,
          207.1942596435547,
          156.4698028564453,
          160.2144317626953,
          30.525165557861328,
          156.81248474121094,
          159.65988159179688,
          186.39663696289062,
          188.00770568847656,
          187.5792999267578,
          140.86891174316406,
          187.29489135742188,
          182.1420440673828,
          188.49562072753906,
          64.49651336669922,
          232.4347381591797,
          163.33665466308594
         ]
        },
        {
         "marker": {
          "color": "red",
          "size": 12
         },
         "mode": "markers",
         "name": "Young's Modulus (Testing)",
         "text": [
          "ZrAlNi",
          "Y2MgNi2",
          "NdNi4B",
          "SrNiSn2",
          "Ac2NiIr",
          "Pm2NiIr",
          "Pm2NiRu",
          "Ti6Al16Ni7",
          "Ti2NiMo",
          "Hf3(NiGe)4",
          "LaNiC2",
          "ScAlNi2",
          "ScNi4Sn",
          "CeCdNi4",
          "SrNi3Ge2",
          "ScAl2Ni",
          "YAlNi",
          "SrNiGe2",
          "MgNiSb",
          "NiCO3",
          "TmInNi4",
          "NbNiP",
          "UGa5Ni",
          "ScInNi2",
          "UNiAs2",
          "CsNiCl3",
          "MgNi2Sn",
          "Lu2NiSn6",
          "Tb(NiGe)2",
          "NiAsS",
          "Er2(NiB2)3",
          "DyNiSb",
          "NbAlNi2",
          "TiSiNi",
          "CsNiF3",
          "Ba(NiAs)2",
          "MnGaNi2",
          "K2NiF6",
          "PaNi2Sn",
          "LiAl2Ni",
          "Sc2NiIr",
          "Sc2NiOs",
          "Ti2MnNi",
          "PrNiC2",
          "Ba(NiP)2",
          "Ni(BMo)2",
          "ScGa5Ni",
          "HoNi4B",
          "CaGa3Ni2",
          "Lu7(NiTe)2",
          "TbAl2Ni",
          "TiNiO3",
          "NiSeO4",
          "TmNiGe",
          "YNiSn",
          "YNiBi",
          "TiGaNi",
          "Ni2Mo3N",
          "Sr(NiAs)2",
          "Ca(NiAs)2",
          "SrNiF6",
          "Cs2KNiF6",
          "Y(NiP)2",
          "ScNiGe",
          "BeSiNi2",
          "K2NiP2",
          "LuSi2Ni",
          "Sr2NiTeO6",
          "LaNi2B2C",
          "TbNi2B2C",
          "NdNi2B2C",
          "Er3Al3NiGe2",
          "ErNi2B2C",
          "DyNi2B2C",
          "TmNi2B2C",
          "Rb2NaNiF6",
          "UNi2B2C",
          "Ba2NiWO6"
         ],
         "type": "scatter",
         "x": [
          181.76,
          74.48,
          179.4,
          70.2,
          55.60000000000001,
          85.55999999999997,
          62.1,
          222.04,
          205.4,
          220.98,
          190.96,
          146.72,
          147.4,
          143.64,
          85.76,
          160,
          71.24000000000002,
          94.72,
          108.36,
          172.72,
          154.28,
          254.8,
          143.84,
          129.36,
          137.8,
          18.06,
          119.7,
          97.5,
          125.02,
          149.86,
          328.44,
          128.79999999999998,
          125.1,
          260,
          21.6,
          71.28,
          166.32000000000005,
          24.8,
          106.86,
          148.68,
          129.60000000000002,
          166.4,
          175.56,
          210,
          95.46,
          447.5,
          106.6,
          196.08,
          101.4,
          86.36,
          132.84,
          213.2,
          105,
          146.32,
          109.2,
          119.04,
          179.4,
          360.96,
          75.6,
          103.2,
          61.64,
          41.4,
          212.5,
          161.28,
          165.92,
          34.44,
          162.54,
          161.20000000000005,
          181.44000000000003,
          196.84,
          195.36,
          143.96,
          195,
          190.28,
          196.84,
          64.48,
          243.66,
          165.1
         ],
         "y": [
          175.91033935546875,
          74.71358489990234,
          172.88088989257812,
          70.07733917236328,
          57.346134185791016,
          85.05553436279297,
          66.66058349609375,
          219.31942749023438,
          197.57215881347656,
          212.9425811767578,
          186.9755401611328,
          142.44029235839844,
          142.3152313232422,
          138.8597869873047,
          84.34159851074219,
          156.49989318847656,
          71.88062286376953,
          93.4085464477539,
          106.43518829345703,
          171.6453857421875,
          148.30914306640625,
          244.7533721923828,
          139.74456787109375,
          125.51041412353516,
          132.3364715576172,
          18.821197509765625,
          116.4173355102539,
          103.01258087158203,
          121.1554946899414,
          145.6702423095703,
          329.6739501953125,
          128.34848022460938,
          123.14221954345703,
          253.8961944580078,
          21.934247970581055,
          70.82894134521484,
          159.97291564941406,
          24.28836441040039,
          105.13204193115234,
          145.29490661621094,
          126.0228042602539,
          160.25135803222656,
          169.22227478027344,
          204.5447235107422,
          94.26531219482422,
          438.5216979980469,
          104.60823059082031,
          188.4927520751953,
          99.84461975097656,
          84.95661163330078,
          129.86708068847656,
          210.16419982910156,
          105.30995178222656,
          142.36524963378906,
          106.4256362915039,
          115.72260284423828,
          172.82077026367188,
          348.8852233886719,
          74.98441314697266,
          101.54350280761719,
          62.394859313964844,
          40.639801025390625,
          207.1942596435547,
          156.4698028564453,
          160.2144317626953,
          30.525165557861328,
          156.81248474121094,
          159.65988159179688,
          186.39663696289062,
          188.00770568847656,
          187.5792999267578,
          140.86891174316406,
          187.29489135742188,
          182.1420440673828,
          188.49562072753906,
          64.49651336669922,
          232.4347381591797,
          163.33665466308594
         ]
        },
        {
         "mode": "lines",
         "name": "Match",
         "type": "scatter",
         "x": [
          0,
          600
         ],
         "y": [
          0,
          600
         ]
        }
       ],
       "layout": {
        "height": 600,
        "hovermode": "closest",
        "legend": {
         "font": {
          "size": 24
         }
        },
        "showlegend": true,
        "template": {
         "data": {
          "bar": [
           {
            "error_x": {
             "color": "#2a3f5f"
            },
            "error_y": {
             "color": "#2a3f5f"
            },
            "marker": {
             "line": {
              "color": "#E5ECF6",
              "width": 0.5
             }
            },
            "type": "bar"
           }
          ],
          "barpolar": [
           {
            "marker": {
             "line": {
              "color": "#E5ECF6",
              "width": 0.5
             }
            },
            "type": "barpolar"
           }
          ],
          "carpet": [
           {
            "aaxis": {
             "endlinecolor": "#2a3f5f",
             "gridcolor": "white",
             "linecolor": "white",
             "minorgridcolor": "white",
             "startlinecolor": "#2a3f5f"
            },
            "baxis": {
             "endlinecolor": "#2a3f5f",
             "gridcolor": "white",
             "linecolor": "white",
             "minorgridcolor": "white",
             "startlinecolor": "#2a3f5f"
            },
            "type": "carpet"
           }
          ],
          "choropleth": [
           {
            "colorbar": {
             "outlinewidth": 0,
             "ticks": ""
            },
            "type": "choropleth"
           }
          ],
          "contour": [
           {
            "colorbar": {
             "outlinewidth": 0,
             "ticks": ""
            },
            "colorscale": [
             [
              0,
              "#0d0887"
             ],
             [
              0.1111111111111111,
              "#46039f"
             ],
             [
              0.2222222222222222,
              "#7201a8"
             ],
             [
              0.3333333333333333,
              "#9c179e"
             ],
             [
              0.4444444444444444,
              "#bd3786"
             ],
             [
              0.5555555555555556,
              "#d8576b"
             ],
             [
              0.6666666666666666,
              "#ed7953"
             ],
             [
              0.7777777777777778,
              "#fb9f3a"
             ],
             [
              0.8888888888888888,
              "#fdca26"
             ],
             [
              1,
              "#f0f921"
             ]
            ],
            "type": "contour"
           }
          ],
          "contourcarpet": [
           {
            "colorbar": {
             "outlinewidth": 0,
             "ticks": ""
            },
            "type": "contourcarpet"
           }
          ],
          "heatmap": [
           {
            "colorbar": {
             "outlinewidth": 0,
             "ticks": ""
            },
            "colorscale": [
             [
              0,
              "#0d0887"
             ],
             [
              0.1111111111111111,
              "#46039f"
             ],
             [
              0.2222222222222222,
              "#7201a8"
             ],
             [
              0.3333333333333333,
              "#9c179e"
             ],
             [
              0.4444444444444444,
              "#bd3786"
             ],
             [
              0.5555555555555556,
              "#d8576b"
             ],
             [
              0.6666666666666666,
              "#ed7953"
             ],
             [
              0.7777777777777778,
              "#fb9f3a"
             ],
             [
              0.8888888888888888,
              "#fdca26"
             ],
             [
              1,
              "#f0f921"
             ]
            ],
            "type": "heatmap"
           }
          ],
          "heatmapgl": [
           {
            "colorbar": {
             "outlinewidth": 0,
             "ticks": ""
            },
            "colorscale": [
             [
              0,
              "#0d0887"
             ],
             [
              0.1111111111111111,
              "#46039f"
             ],
             [
              0.2222222222222222,
              "#7201a8"
             ],
             [
              0.3333333333333333,
              "#9c179e"
             ],
             [
              0.4444444444444444,
              "#bd3786"
             ],
             [
              0.5555555555555556,
              "#d8576b"
             ],
             [
              0.6666666666666666,
              "#ed7953"
             ],
             [
              0.7777777777777778,
              "#fb9f3a"
             ],
             [
              0.8888888888888888,
              "#fdca26"
             ],
             [
              1,
              "#f0f921"
             ]
            ],
            "type": "heatmapgl"
           }
          ],
          "histogram": [
           {
            "marker": {
             "colorbar": {
              "outlinewidth": 0,
              "ticks": ""
             }
            },
            "type": "histogram"
           }
          ],
          "histogram2d": [
           {
            "colorbar": {
             "outlinewidth": 0,
             "ticks": ""
            },
            "colorscale": [
             [
              0,
              "#0d0887"
             ],
             [
              0.1111111111111111,
              "#46039f"
             ],
             [
              0.2222222222222222,
              "#7201a8"
             ],
             [
              0.3333333333333333,
              "#9c179e"
             ],
             [
              0.4444444444444444,
              "#bd3786"
             ],
             [
              0.5555555555555556,
              "#d8576b"
             ],
             [
              0.6666666666666666,
              "#ed7953"
             ],
             [
              0.7777777777777778,
              "#fb9f3a"
             ],
             [
              0.8888888888888888,
              "#fdca26"
             ],
             [
              1,
              "#f0f921"
             ]
            ],
            "type": "histogram2d"
           }
          ],
          "histogram2dcontour": [
           {
            "colorbar": {
             "outlinewidth": 0,
             "ticks": ""
            },
            "colorscale": [
             [
              0,
              "#0d0887"
             ],
             [
              0.1111111111111111,
              "#46039f"
             ],
             [
              0.2222222222222222,
              "#7201a8"
             ],
             [
              0.3333333333333333,
              "#9c179e"
             ],
             [
              0.4444444444444444,
              "#bd3786"
             ],
             [
              0.5555555555555556,
              "#d8576b"
             ],
             [
              0.6666666666666666,
              "#ed7953"
             ],
             [
              0.7777777777777778,
              "#fb9f3a"
             ],
             [
              0.8888888888888888,
              "#fdca26"
             ],
             [
              1,
              "#f0f921"
             ]
            ],
            "type": "histogram2dcontour"
           }
          ],
          "mesh3d": [
           {
            "colorbar": {
             "outlinewidth": 0,
             "ticks": ""
            },
            "type": "mesh3d"
           }
          ],
          "parcoords": [
           {
            "line": {
             "colorbar": {
              "outlinewidth": 0,
              "ticks": ""
             }
            },
            "type": "parcoords"
           }
          ],
          "pie": [
           {
            "automargin": true,
            "type": "pie"
           }
          ],
          "scatter": [
           {
            "marker": {
             "colorbar": {
              "outlinewidth": 0,
              "ticks": ""
             }
            },
            "type": "scatter"
           }
          ],
          "scatter3d": [
           {
            "line": {
             "colorbar": {
              "outlinewidth": 0,
              "ticks": ""
             }
            },
            "marker": {
             "colorbar": {
              "outlinewidth": 0,
              "ticks": ""
             }
            },
            "type": "scatter3d"
           }
          ],
          "scattercarpet": [
           {
            "marker": {
             "colorbar": {
              "outlinewidth": 0,
              "ticks": ""
             }
            },
            "type": "scattercarpet"
           }
          ],
          "scattergeo": [
           {
            "marker": {
             "colorbar": {
              "outlinewidth": 0,
              "ticks": ""
             }
            },
            "type": "scattergeo"
           }
          ],
          "scattergl": [
           {
            "marker": {
             "colorbar": {
              "outlinewidth": 0,
              "ticks": ""
             }
            },
            "type": "scattergl"
           }
          ],
          "scattermapbox": [
           {
            "marker": {
             "colorbar": {
              "outlinewidth": 0,
              "ticks": ""
             }
            },
            "type": "scattermapbox"
           }
          ],
          "scatterpolar": [
           {
            "marker": {
             "colorbar": {
              "outlinewidth": 0,
              "ticks": ""
             }
            },
            "type": "scatterpolar"
           }
          ],
          "scatterpolargl": [
           {
            "marker": {
             "colorbar": {
              "outlinewidth": 0,
              "ticks": ""
             }
            },
            "type": "scatterpolargl"
           }
          ],
          "scatterternary": [
           {
            "marker": {
             "colorbar": {
              "outlinewidth": 0,
              "ticks": ""
             }
            },
            "type": "scatterternary"
           }
          ],
          "surface": [
           {
            "colorbar": {
             "outlinewidth": 0,
             "ticks": ""
            },
            "colorscale": [
             [
              0,
              "#0d0887"
             ],
             [
              0.1111111111111111,
              "#46039f"
             ],
             [
              0.2222222222222222,
              "#7201a8"
             ],
             [
              0.3333333333333333,
              "#9c179e"
             ],
             [
              0.4444444444444444,
              "#bd3786"
             ],
             [
              0.5555555555555556,
              "#d8576b"
             ],
             [
              0.6666666666666666,
              "#ed7953"
             ],
             [
              0.7777777777777778,
              "#fb9f3a"
             ],
             [
              0.8888888888888888,
              "#fdca26"
             ],
             [
              1,
              "#f0f921"
             ]
            ],
            "type": "surface"
           }
          ],
          "table": [
           {
            "cells": {
             "fill": {
              "color": "#EBF0F8"
             },
             "line": {
              "color": "white"
             }
            },
            "header": {
             "fill": {
              "color": "#C8D4E3"
             },
             "line": {
              "color": "white"
             }
            },
            "type": "table"
           }
          ]
         },
         "layout": {
          "annotationdefaults": {
           "arrowcolor": "#2a3f5f",
           "arrowhead": 0,
           "arrowwidth": 1
          },
          "coloraxis": {
           "colorbar": {
            "outlinewidth": 0,
            "ticks": ""
           }
          },
          "colorscale": {
           "diverging": [
            [
             0,
             "#8e0152"
            ],
            [
             0.1,
             "#c51b7d"
            ],
            [
             0.2,
             "#de77ae"
            ],
            [
             0.3,
             "#f1b6da"
            ],
            [
             0.4,
             "#fde0ef"
            ],
            [
             0.5,
             "#f7f7f7"
            ],
            [
             0.6,
             "#e6f5d0"
            ],
            [
             0.7,
             "#b8e186"
            ],
            [
             0.8,
             "#7fbc41"
            ],
            [
             0.9,
             "#4d9221"
            ],
            [
             1,
             "#276419"
            ]
           ],
           "sequential": [
            [
             0,
             "#0d0887"
            ],
            [
             0.1111111111111111,
             "#46039f"
            ],
            [
             0.2222222222222222,
             "#7201a8"
            ],
            [
             0.3333333333333333,
             "#9c179e"
            ],
            [
             0.4444444444444444,
             "#bd3786"
            ],
            [
             0.5555555555555556,
             "#d8576b"
            ],
            [
             0.6666666666666666,
             "#ed7953"
            ],
            [
             0.7777777777777778,
             "#fb9f3a"
            ],
            [
             0.8888888888888888,
             "#fdca26"
            ],
            [
             1,
             "#f0f921"
            ]
           ],
           "sequentialminus": [
            [
             0,
             "#0d0887"
            ],
            [
             0.1111111111111111,
             "#46039f"
            ],
            [
             0.2222222222222222,
             "#7201a8"
            ],
            [
             0.3333333333333333,
             "#9c179e"
            ],
            [
             0.4444444444444444,
             "#bd3786"
            ],
            [
             0.5555555555555556,
             "#d8576b"
            ],
            [
             0.6666666666666666,
             "#ed7953"
            ],
            [
             0.7777777777777778,
             "#fb9f3a"
            ],
            [
             0.8888888888888888,
             "#fdca26"
            ],
            [
             1,
             "#f0f921"
            ]
           ]
          },
          "colorway": [
           "#636efa",
           "#EF553B",
           "#00cc96",
           "#ab63fa",
           "#FFA15A",
           "#19d3f3",
           "#FF6692",
           "#B6E880",
           "#FF97FF",
           "#FECB52"
          ],
          "font": {
           "color": "#2a3f5f"
          },
          "geo": {
           "bgcolor": "white",
           "lakecolor": "white",
           "landcolor": "#E5ECF6",
           "showlakes": true,
           "showland": true,
           "subunitcolor": "white"
          },
          "hoverlabel": {
           "align": "left"
          },
          "hovermode": "closest",
          "mapbox": {
           "style": "light"
          },
          "paper_bgcolor": "white",
          "plot_bgcolor": "#E5ECF6",
          "polar": {
           "angularaxis": {
            "gridcolor": "white",
            "linecolor": "white",
            "ticks": ""
           },
           "bgcolor": "#E5ECF6",
           "radialaxis": {
            "gridcolor": "white",
            "linecolor": "white",
            "ticks": ""
           }
          },
          "scene": {
           "xaxis": {
            "backgroundcolor": "#E5ECF6",
            "gridcolor": "white",
            "gridwidth": 2,
            "linecolor": "white",
            "showbackground": true,
            "ticks": "",
            "zerolinecolor": "white"
           },
           "yaxis": {
            "backgroundcolor": "#E5ECF6",
            "gridcolor": "white",
            "gridwidth": 2,
            "linecolor": "white",
            "showbackground": true,
            "ticks": "",
            "zerolinecolor": "white"
           },
           "zaxis": {
            "backgroundcolor": "#E5ECF6",
            "gridcolor": "white",
            "gridwidth": 2,
            "linecolor": "white",
            "showbackground": true,
            "ticks": "",
            "zerolinecolor": "white"
           }
          },
          "shapedefaults": {
           "line": {
            "color": "#2a3f5f"
           }
          },
          "ternary": {
           "aaxis": {
            "gridcolor": "white",
            "linecolor": "white",
            "ticks": ""
           },
           "baxis": {
            "gridcolor": "white",
            "linecolor": "white",
            "ticks": ""
           },
           "bgcolor": "#E5ECF6",
           "caxis": {
            "gridcolor": "white",
            "linecolor": "white",
            "ticks": ""
           }
          },
          "title": {
           "x": 0.05
          },
          "xaxis": {
           "automargin": true,
           "gridcolor": "white",
           "linecolor": "white",
           "ticks": "",
           "title": {
            "standoff": 15
           },
           "zerolinecolor": "white",
           "zerolinewidth": 2
          },
          "yaxis": {
           "automargin": true,
           "gridcolor": "white",
           "linecolor": "white",
           "ticks": "",
           "title": {
            "standoff": 15
           },
           "zerolinecolor": "white",
           "zerolinewidth": 2
          }
         }
        },
        "title": {
         "font": {
          "size": 28
         },
         "text": "Neural Network Model - Ni compounds Young's Modulus"
        },
        "width": 1000,
        "xaxis": {
         "gridwidth": 1,
         "tickfont": {
          "size": 18
         },
         "title": {
          "font": {
           "size": 24
          },
          "text": "Real Values (GPa)"
         },
         "zeroline": false
        },
        "yaxis": {
         "gridwidth": 1,
         "tickfont": {
          "size": 18
         },
         "title": {
          "font": {
           "size": 24
          },
          "text": "Prediction (GPa)"
         },
         "zeroline": false
        }
       }
      },
      "text/html": [
       "<div>\n",
       "        \n",
       "        \n",
       "            <div id=\"d9b2d276-3ccb-41d3-8ef6-aaefc1547835\" class=\"plotly-graph-div\" style=\"height:600px; width:1000px;\"></div>\n",
       "            <script type=\"text/javascript\">\n",
       "                require([\"plotly\"], function(Plotly) {\n",
       "                    window.PLOTLYENV=window.PLOTLYENV || {};\n",
       "                    \n",
       "                if (document.getElementById(\"d9b2d276-3ccb-41d3-8ef6-aaefc1547835\")) {\n",
       "                    Plotly.newPlot(\n",
       "                        'd9b2d276-3ccb-41d3-8ef6-aaefc1547835',\n",
       "                        [{\"marker\": {\"color\": \"blue\", \"size\": 12}, \"mode\": \"markers\", \"name\": \"Young's Modulus (Training)\", \"text\": [\"TiNi\", \"Ni3S4\", \"Al3Ni2\", \"NiGe\", \"SiNi2\", \"Ga3Ni2\", \"MnNi3\", \"Ni3Mo\", \"Ni4Mo\", \"ScNi\", \"TmNi5\", \"VNi2\", \"Ni3Pt\", \"YNi\", \"TiNi3\", \"FeNi3\", \"NbNi3\", \"AlNi\", \"HoNi5\", \"ThNi5\", \"Al3Ni5\", \"CeNi2\", \"Ni2Ge\", \"Ti2Ni\", \"Ta2Ni\", \"NiO\", \"CeNi5\", \"ErNi2\", \"InNi\", \"Ni3Sn\", \"Ni3Sn4\", \"Ni3N\", \"Ni3Se2\", \"Ni3B\", \"Ni3Ge\", \"Ni2P\", \"CeNi\", \"LuNi2\", \"Mg2Ni\", \"YNi5\", \"FeNi\", \"NiP2\", \"Si2Ni\", \"NiP3\", \"LaNi5\", \"NiBi3\", \"Ni2B\", \"NiTe2\", \"AlNi3\", \"MgNi2\", \"Si12Ni31\", \"DyNi\", \"NiCl2\", \"TbNi2\", \"NiBr2\", \"NiI2\", \"UNi5\", \"TbNi5\", \"Ni4W\", \"Zr2Ni\", \"SiNi\", \"Ni3S2\", \"DyNi2\", \"ZnNi\", \"ZrNi3\", \"ZrNi\", \"NiF2\", \"NiF3\", \"ErNi\", \"YNi3\", \"TaNi3\", \"Al3Ni\", \"Ni3O4\", \"Ni3Sb\", \"HoNi2\", \"V3Ni\", \"CrNi2\", \"NiSb\", \"SiNi3\", \"ScNi2\", \"ErNi5\", \"Re3Ni\", \"Tc3Ni\", \"NiPt\", \"CrNi3\", \"CuNi3N\", \"YSi3Ni\", \"NdMgNi4\", \"ScGaNi2\", \"Ni3Sn\", \"DyNi5\", \"PrZnNi\", \"CeMgNi4\", \"LiNi2Ge\", \"VNi3\", \"NiSb2\", \"ErNiSb\", \"Sc3(NiGe)4\", \"TaNiGe\", \"ThNiSn\", \"PrNi5\", \"NiH\", \"ZrNiH3\", \"ThAl3Ni2\", \"Ni2SbTe2\", \"LaMgNi4\", \"Sc2Ni2Sn\", \"ZrNi2Sb\", \"YAl3Ni\", \"Nd(NiGe)2\", \"CeAl5Ni2\", \"Zr(SiNi)2\", \"CaNi5\", \"GaNi3\", \"TiZnNi2\", \"LiZn2Ni\", \"HfNiSn\", \"PrNiSb\", \"TmSi2Ni\", \"TmGa2Ni\", \"YNiSb\", \"ErSi2Ni\", \"SrNi2Ge\", \"Sc2InNi2\", \"TbZnNi\", \"LiNi2Sn\", \"TiNiGe\", \"HoAl2Ni\", \"TmAl2Ni\", \"MnNiO3\", \"Ni3TeO6\", \"LuNiSb\", \"YSiNi\", \"ZrInNi2\", \"TiNiSb\", \"U(NiP)2\", \"RbNiBr3\", \"Zr2NiP\", \"Ca(NiGe)2\", \"ZrAl5Ni2\", \"ScNiSb\", \"YMgNi4\", \"YAl4Ni\", \"Al2NiO4\", \"Tm(NiGe)2\", \"NdNiGe2\", \"Ca(SiNi)2\", \"DyAl2Ni\", \"Y2InNi2\", \"Pr(NiP)2\", \"Tb2Mg3Ni2\", \"HfAlNi2\", \"Yb(SiNi)2\", \"YInNi\", \"NdAl3Ni2\", \"Ti2NiIr\", \"Be2NiPt\", \"Be2CoNi\", \"Al2NiRu\", \"Lu2(NiB2)3\", \"Mg2Ni3P\", \"ZrNiSn\", \"YbSi2Ni\", \"YbNiH3\", \"ScNiP\", \"Ca3(GaNi)4\", \"LuNiPb\", \"YAl2Ni\", \"Tb2ZnNi2\", \"In2Ni3S2\", \"Gd(SiNi)2\", \"Ba(SiNi)2\", \"DyNiBi\", \"SrNiSn3\", \"Re2NiO8\", \"Ho2Ni2Pb\", \"NiSbS\", \"ZrAlNi2\", \"Ca(NiP)2\", \"LaNi4B\", \"Si2Ni6B\", \"Er(SiNi)2\", \"CrNiAs\", \"YAl3Ni2\", \"BaNiF4\", \"TmNiBi\", \"Ce(NiP)2\", \"Nd(NiP)2\", \"Hf(SiNi)2\", \"Ba(NiP2)2\", \"Yb(NiGe)2\", \"ZrInNi4\", \"TiAlNi2\", \"HfZnNi2\", \"MgGaNi2\", \"Ti2ReNi\", \"Ti2TcNi\", \"LiGa2Ni\", \"Zr2NiAs2\", \"Ac2NiGe\", \"CdNi3N\", \"LiSiNi2\", \"LuGa2Ni\", \"CaSiNi2\", \"NiAsSe\", \"ZnNiSb\", \"BaNiSn3\", \"Lu(SiNi)2\", \"YbAl2Ni\", \"CaNiGe2\", \"Cs2Ni3Se4\", \"Mg2SiNi3\", \"BaNiO3\", \"NaNiO2\", \"Rb2NiO2\", \"BaNiO3\", \"K2NiO2\", \"MnNiGe\", \"SrIn4Ni\", \"Dy(NiGe)2\", \"ScSiNi\", \"DyAlNi\", \"Th(NiGe)2\", \"TbNiSb\", \"Nd(SiNi)2\", \"HoNiSb\", \"Ho(NiGe)2\", \"Tb(SiNi)2\", \"Eu(SiNi)2\", \"Rb2NiF6\", \"Hf2NiP\", \"MnNiSb\", \"NiMoP\", \"CaNi4B\", \"Ca3Ni7B2\", \"Sc2NiRu\", \"Sc2TcNi\", \"Zn2NiRh\", \"GaNiRh2\", \"TiNiSn\", \"NiMoP2\", \"ErInNi4\", \"ThSi2Ni\", \"Sc6NiTe2\", \"NiSbSe\", \"ZrZnNi4\", \"PrMgNi4\", \"Ti3NiS6\", \"Hf6NiSb2\", \"Ni(AsO3)2\", \"CeAl3Ni2\", \"ZrNiSb\", \"MnSiNi\", \"YIn2Ni\", \"RbNiCl3\", \"HoAlNi\", \"Ho(SiNi)2\", \"LuNiBi\", \"TiGaNi2\", \"CeAl4Ni\", \"NiGePd\", \"Er(NiP)2\", \"Sc(SiNi)2\", \"Eu(NiP)2\", \"Dy(SiNi)2\", \"NiPS\", \"Y(SiNi)2\", \"NdNiC2\", \"YbNiSb\", \"Li5(NiN)3\", \"YNi4B\", \"Li(NiP)2\", \"Si3NiP4\", \"Sc2NiPt\", \"Be2NiRh\", \"Be2NiIr\", \"TaNi2Te3\", \"HoNiBi\", \"Ti2NiS4\", \"CeAlNi\", \"ScGa2Ni\", \"YGa2Ni\", \"ErNi4B\", \"NiMoO4\", \"Mn(Ni3O4)2\", \"Ho(NiP)2\", \"MgNiBi\", \"NiGePt2\", \"ScNiBi\", \"ErAl2Ni\", \"TmNiSb\", \"TmNiC2\", \"ScNi2Sn\", \"Er(NiGe)2\", \"MnAlNi2\", \"Y(NiGe)2\", \"Ni3(SnS)2\", \"NiPtF6\", \"Zn(GaNi)3\", \"MgNi3B2\", \"ZrAlNi\", \"Y2MgNi2\", \"NdNi4B\", \"SrNiSn2\", \"Ac2NiIr\", \"Pm2NiIr\", \"Pm2NiRu\", \"Ti6Al16Ni7\", \"Ti2NiMo\", \"Hf3(NiGe)4\", \"LaNiC2\", \"ScAlNi2\", \"ScNi4Sn\", \"CeCdNi4\", \"SrNi3Ge2\", \"ScAl2Ni\", \"YAlNi\", \"SrNiGe2\", \"MgNiSb\", \"NiCO3\", \"TmInNi4\", \"NbNiP\", \"UGa5Ni\", \"ScInNi2\", \"UNiAs2\", \"CsNiCl3\", \"MgNi2Sn\", \"Lu2NiSn6\", \"Tb(NiGe)2\", \"NiAsS\", \"Er2(NiB2)3\", \"DyNiSb\", \"NbAlNi2\", \"TiSiNi\", \"CsNiF3\", \"Ba(NiAs)2\", \"MnGaNi2\", \"K2NiF6\", \"PaNi2Sn\", \"LiAl2Ni\", \"Sc2NiIr\", \"Sc2NiOs\", \"Ti2MnNi\", \"PrNiC2\", \"Ba(NiP)2\", \"Ni(BMo)2\", \"ScGa5Ni\", \"HoNi4B\", \"CaGa3Ni2\", \"Lu7(NiTe)2\", \"TbAl2Ni\", \"TiNiO3\", \"NiSeO4\", \"TmNiGe\", \"YNiSn\", \"YNiBi\", \"TiGaNi\", \"Ni2Mo3N\", \"Sr(NiAs)2\", \"Ca(NiAs)2\", \"SrNiF6\", \"Cs2KNiF6\", \"Y(NiP)2\", \"ScNiGe\", \"BeSiNi2\", \"K2NiP2\", \"LuSi2Ni\", \"Sr2NiTeO6\", \"LaNi2B2C\", \"TbNi2B2C\", \"NdNi2B2C\", \"Er3Al3NiGe2\", \"ErNi2B2C\", \"DyNi2B2C\", \"TmNi2B2C\", \"Rb2NaNiF6\", \"UNi2B2C\", \"Ba2NiWO6\"], \"type\": \"scatter\", \"x\": [104.88, 114.38, 211.56, 161.20000000000005, 172.8, 161.28, 236.22, 236.74, 240.24, 121.44, 181.76, 227.04, 241.04, 65.28, 248.32, 249.6, 206.36, 188.64, 181.76, 171.52, 196.5, 108.0, 121.44, 99.36, 215.46, 186.3, 170.3, 114.38, 129.0, 174.24, 121.26, 194.18, 123.14, 219.76, 216.72, 117.6, 39.48, 116.16, 75.4, 185.76, 237.36, 239.12, 89.6, 184.5, 154.58, 27.2, 264.0, 59.8, 219.3, 157.38, 183.6, 60.72, 19.84, 113.16, 18.34, 15.6, 238.42, 179.20000000000005, 258.72, 62.48, 211.56, 146.72, 114.8, 165.06, 184.8, 96.6, 108.79999999999998, 92.0, 71.24000000000002, 138.32, 251.52, 166.32, 198.12, 133.28, 110.88, 241.8, 288.9600000000001, 131.0, 265.74, 158.4, 185.76, 444.5, 384.0, 238.42, 270.90000000000003, 178.20000000000005, 208.12, 131.0, 130.34, 197.6, 180.6, 79.80000000000003, 143.64, 101.38, 262.6, 108.36, 142.78, 187.5, 199.5, 123.84, 163.68, 183.6, 172.92000000000004, 186.48, 51.6, 113.52, 94.5, 158.4, 148.8, 133.12, 150.06, 211.56, 166.4, 201.74, 137.0, 92.4, 190.4, 91.7, 163.84, 139.7, 137.5, 165.1, 83.84, 115.28, 86.46000000000002, 77.28, 210.82, 140.0, 147.6, 227.84, 201.24, 147.56, 157.48, 136.68, 149.34, 147.96, 11.2, 210.82, 104.8, 204.96, 163.68, 145.6, 146.32, 276.86, 126.72, 122.5, 142.24, 138.6, 98.04, 191.18, 73.92, 133.28, 140.0, 89.76, 161.28, 35.28, 176.79999999999995, 307.5, 224.46, 336.38, 175.26, 188.34, 140.22, 140.0, 230.0, 91.0, 116.1, 141.36, 86.4, 85.8, 185.42, 87.84, 122.5, 67.60000000000001, 32.2, 73.92, 129.54, 107.64, 182.04, 165.12, 206.36, 182.88, 158.6, 170.0, 70.2, 127.5, 167.5, 203.36, 199.12, 106.4, 95.76, 171.6, 158.12, 132.3, 95.9, 208.56, 190.08, 70.72, 175.44, 38.64, 180.88, 117.82, 141.36, 101.4, 137.16, 94.5, 80.64, 171.36, 103.2, 93.6, 11.12, 186.48, 65.76, 165.92, 31.200000000000006, 65.76, 38.4, 158.4, 68.04, 128.38, 182.88, 89.10000000000002, 101.38, 123.12000000000002, 176.4, 134.4, 132.0, 177.12, 139.7, 22.14, 236.88, 121.44, 252.7, 158.6, 138.24, 148.20000000000005, 140.4, 152.76000000000005, 156.18, 172.72, 264.16, 148.96, 195.58, 79.2, 120.32, 186.02, 125.02, 113.16, 178.92, 205.74, 180.0, 142.56, 220.16, 104.96, 13.7, 79.2, 185.76, 123.0, 111.20000000000002, 159.9, 133.28, 212.5, 163.68, 186.0, 185.0, 156.16, 179.20000000000005, 221.88, 85.14, 117.5, 193.5, 109.88, 153.72, 123.28, 271.78000000000003, 289.56, 25.0, 126.0, 135.3, 117.0, 151.2, 125.44, 201.24, 151.62, 217.6, 209.84, 85.14, 160.48, 132.5, 147.5, 144.0, 250.48, 135.66, 125.44, 73.84, 131.58, 59.94000000000001, 65.88, 162.54, 223.6, 181.76, 74.48, 179.4, 70.2, 55.60000000000001, 85.55999999999997, 62.1, 222.04, 205.4, 220.98, 190.96, 146.72, 147.4, 143.64, 85.76, 160.0, 71.24000000000002, 94.72, 108.36, 172.72, 154.28, 254.8, 143.84, 129.36, 137.8, 18.06, 119.7, 97.5, 125.02, 149.86, 328.44, 128.79999999999998, 125.1, 260.0, 21.6, 71.28, 166.32000000000005, 24.8, 106.86, 148.68, 129.60000000000002, 166.4, 175.56, 210.0, 95.46, 447.5, 106.6, 196.08, 101.4, 86.36, 132.84, 213.2, 105.0, 146.32, 109.2, 119.04, 179.4, 360.96, 75.6, 103.2, 61.64, 41.4, 212.5, 161.28, 165.92, 34.44, 162.54, 161.20000000000005, 181.44000000000003, 196.84, 195.36, 143.96, 195.0, 190.28, 196.84, 64.48, 243.66, 165.1], \"y\": [103.70682525634766, 112.5896224975586, 208.0266876220703, 155.4065399169922, 166.13174438476562, 155.95655822753906, 228.34498596191406, 226.10150146484375, 229.74342346191406, 118.5631332397461, 175.45263671875, 217.43373107910156, 239.58432006835938, 66.08279418945312, 239.6983184814453, 239.3506317138672, 197.17984008789062, 181.38104248046875, 175.16554260253906, 164.49136352539062, 188.557373046875, 106.05864715576172, 115.72881317138672, 97.75312042236328, 204.50479125976562, 183.83995056152344, 163.87387084960938, 110.8821029663086, 124.96656036376953, 167.14549255371094, 117.37122344970703, 186.39463806152344, 119.75133514404297, 210.11984252929688, 208.3942108154297, 115.661376953125, 38.12461471557617, 112.38697814941406, 76.1328353881836, 179.20916748046875, 228.36961364746094, 236.1719970703125, 88.68360137939453, 181.23123168945312, 149.1438751220703, 27.59454917907715, 253.1512908935547, 60.722190856933594, 211.16676330566406, 152.69557189941406, 175.83323669433594, 61.190284729003906, 21.836942672729492, 111.89766693115234, 18.939937591552734, 16.622093200683594, 227.56385803222656, 172.69699096679688, 246.4087371826172, 61.722373962402344, 203.62315368652344, 142.25535583496094, 114.39672088623047, 159.05471801757812, 177.17953491210938, 95.00118255615234, 106.75702667236328, 93.91071319580078, 70.43880462646484, 133.9439239501953, 240.1427764892578, 162.1002960205078, 195.7355499267578, 131.02346801757812, 107.64132690429688, 232.3037109375, 278.7643127441406, 126.50104522705078, 255.8533172607422, 152.9042510986328, 178.6501007080078, 430.10040283203125, 370.4612121582031, 226.60984802246094, 233.6257781982422, 171.15338134765625, 206.21023559570312, 127.4519271850586, 126.77547454833984, 191.93458557128906, 174.11521911621094, 78.53146362304688, 139.09449768066406, 100.76241302490234, 251.78683471679688, 105.22994232177734, 139.67820739746094, 182.92002868652344, 189.9759521484375, 119.52923583984375, 157.46263122558594, 175.84274291992188, 166.53395080566406, 181.0089569091797, 52.78559875488281, 110.97623443603516, 92.74906921386719, 152.2982940673828, 145.72959899902344, 129.29702758789062, 147.28887939453125, 203.93179321289062, 161.35983276367188, 193.37298583984375, 133.44424438476562, 91.3430404663086, 188.6079864501953, 89.7390365600586, 158.3519744873047, 135.14402770996094, 134.01315307617188, 159.8994598388672, 82.74354553222656, 112.56317901611328, 84.43968963623047, 77.17188262939453, 204.40501403808594, 136.42234802246094, 144.53643798828125, 224.7847442626953, 198.3310089111328, 145.21998596191406, 153.05059814453125, 132.1740264892578, 144.1132049560547, 142.93612670898438, 12.335686683654785, 204.0900115966797, 102.88452911376953, 202.1724395751953, 159.84054565429688, 141.21705627441406, 143.39321899414062, 274.06072998046875, 122.83649444580078, 119.49974822998047, 138.8206329345703, 134.9356231689453, 96.3584213256836, 188.8061981201172, 74.14153289794922, 129.47254943847656, 136.172119140625, 87.9480972290039, 156.61431884765625, 33.91505813598633, 169.2024383544922, 302.9936828613281, 215.9450225830078, 334.1689453125, 170.50244140625, 181.51495361328125, 136.95611572265625, 135.79847717285156, 224.50514221191406, 89.95201873779297, 111.98419189453125, 138.48960876464844, 84.79393768310547, 84.54485321044922, 179.4846954345703, 87.58136749267578, 118.51869201660156, 67.70169067382812, 35.08110809326172, 73.41459655761719, 126.00003051757812, 105.68616485595703, 179.13075256347656, 159.6177520751953, 197.29225158691406, 176.8613739013672, 153.03614807128906, 166.08045959472656, 69.9509048461914, 123.28117370605469, 163.22096252441406, 198.92987060546875, 190.59596252441406, 104.8962173461914, 93.8228988647461, 164.8570556640625, 152.6449432373047, 128.064208984375, 94.6112289428711, 199.05792236328125, 182.52931213378906, 73.57929229736328, 169.13047790527344, 37.95439910888672, 173.88072204589844, 116.03026580810547, 137.24473571777344, 100.2981185913086, 133.3221893310547, 92.4639663696289, 79.74525451660156, 166.3094024658203, 102.02783203125, 92.4958724975586, 11.502634048461914, 181.5651397705078, 66.71456146240234, 166.5915985107422, 34.849853515625, 68.4203109741211, 41.54534912109375, 152.34674072265625, 68.46794891357422, 124.32878875732422, 177.69261169433594, 87.6321029663086, 100.1042709350586, 122.6909408569336, 171.63868713378906, 131.69187927246094, 127.6825180053711, 173.3710479736328, 135.89854431152344, 23.505205154418945, 228.8340301513672, 117.65497589111328, 241.04762268066406, 153.6837615966797, 134.73374938964844, 143.54820251464844, 136.26161193847656, 147.00096130371094, 150.56996154785156, 167.22425842285156, 255.2924346923828, 143.44285583496094, 188.9294891357422, 78.7865982055664, 116.82132720947266, 178.83290100097656, 121.86819458007812, 112.65481567382812, 172.39437866210938, 203.58108520507812, 175.7072296142578, 137.6674041748047, 212.34959411621094, 102.20427703857422, 13.932632446289062, 78.0749282836914, 178.87962341308594, 119.3575439453125, 110.05277252197266, 156.9634552001953, 129.26954650878906, 206.60337829589844, 157.969482421875, 181.92547607421875, 180.06712341308594, 151.78794860839844, 173.60499572753906, 213.8185577392578, 83.47879028320312, 116.6473388671875, 186.73312377929688, 107.95757293701172, 151.0046844482422, 119.73494720458984, 262.6016540527344, 279.7344055175781, 22.33934211730957, 121.61528778076172, 133.10223388671875, 113.98328399658203, 147.18099975585938, 121.8358383178711, 193.49806213378906, 150.55381774902344, 213.70199584960938, 206.34715270996094, 83.66370391845703, 153.0487823486328, 128.7344207763672, 143.57472229003906, 141.3983154296875, 244.8297882080078, 131.2063751220703, 121.42752838134766, 71.7209243774414, 127.72483825683594, 64.61763000488281, 67.18058776855469, 157.04794311523438, 215.22581481933594, 175.91033935546875, 74.71358489990234, 172.88088989257812, 70.07733917236328, 57.346134185791016, 85.05553436279297, 66.66058349609375, 219.31942749023438, 197.57215881347656, 212.9425811767578, 186.9755401611328, 142.44029235839844, 142.3152313232422, 138.8597869873047, 84.34159851074219, 156.49989318847656, 71.88062286376953, 93.4085464477539, 106.43518829345703, 171.6453857421875, 148.30914306640625, 244.7533721923828, 139.74456787109375, 125.51041412353516, 132.3364715576172, 18.821197509765625, 116.4173355102539, 103.01258087158203, 121.1554946899414, 145.6702423095703, 329.6739501953125, 128.34848022460938, 123.14221954345703, 253.8961944580078, 21.934247970581055, 70.82894134521484, 159.97291564941406, 24.28836441040039, 105.13204193115234, 145.29490661621094, 126.0228042602539, 160.25135803222656, 169.22227478027344, 204.5447235107422, 94.26531219482422, 438.5216979980469, 104.60823059082031, 188.4927520751953, 99.84461975097656, 84.95661163330078, 129.86708068847656, 210.16419982910156, 105.30995178222656, 142.36524963378906, 106.4256362915039, 115.72260284423828, 172.82077026367188, 348.8852233886719, 74.98441314697266, 101.54350280761719, 62.394859313964844, 40.639801025390625, 207.1942596435547, 156.4698028564453, 160.2144317626953, 30.525165557861328, 156.81248474121094, 159.65988159179688, 186.39663696289062, 188.00770568847656, 187.5792999267578, 140.86891174316406, 187.29489135742188, 182.1420440673828, 188.49562072753906, 64.49651336669922, 232.4347381591797, 163.33665466308594]}, {\"marker\": {\"color\": \"red\", \"size\": 12}, \"mode\": \"markers\", \"name\": \"Young's Modulus (Testing)\", \"text\": [\"ZrAlNi\", \"Y2MgNi2\", \"NdNi4B\", \"SrNiSn2\", \"Ac2NiIr\", \"Pm2NiIr\", \"Pm2NiRu\", \"Ti6Al16Ni7\", \"Ti2NiMo\", \"Hf3(NiGe)4\", \"LaNiC2\", \"ScAlNi2\", \"ScNi4Sn\", \"CeCdNi4\", \"SrNi3Ge2\", \"ScAl2Ni\", \"YAlNi\", \"SrNiGe2\", \"MgNiSb\", \"NiCO3\", \"TmInNi4\", \"NbNiP\", \"UGa5Ni\", \"ScInNi2\", \"UNiAs2\", \"CsNiCl3\", \"MgNi2Sn\", \"Lu2NiSn6\", \"Tb(NiGe)2\", \"NiAsS\", \"Er2(NiB2)3\", \"DyNiSb\", \"NbAlNi2\", \"TiSiNi\", \"CsNiF3\", \"Ba(NiAs)2\", \"MnGaNi2\", \"K2NiF6\", \"PaNi2Sn\", \"LiAl2Ni\", \"Sc2NiIr\", \"Sc2NiOs\", \"Ti2MnNi\", \"PrNiC2\", \"Ba(NiP)2\", \"Ni(BMo)2\", \"ScGa5Ni\", \"HoNi4B\", \"CaGa3Ni2\", \"Lu7(NiTe)2\", \"TbAl2Ni\", \"TiNiO3\", \"NiSeO4\", \"TmNiGe\", \"YNiSn\", \"YNiBi\", \"TiGaNi\", \"Ni2Mo3N\", \"Sr(NiAs)2\", \"Ca(NiAs)2\", \"SrNiF6\", \"Cs2KNiF6\", \"Y(NiP)2\", \"ScNiGe\", \"BeSiNi2\", \"K2NiP2\", \"LuSi2Ni\", \"Sr2NiTeO6\", \"LaNi2B2C\", \"TbNi2B2C\", \"NdNi2B2C\", \"Er3Al3NiGe2\", \"ErNi2B2C\", \"DyNi2B2C\", \"TmNi2B2C\", \"Rb2NaNiF6\", \"UNi2B2C\", \"Ba2NiWO6\"], \"type\": \"scatter\", \"x\": [181.76, 74.48, 179.4, 70.2, 55.60000000000001, 85.55999999999997, 62.1, 222.04, 205.4, 220.98, 190.96, 146.72, 147.4, 143.64, 85.76, 160.0, 71.24000000000002, 94.72, 108.36, 172.72, 154.28, 254.8, 143.84, 129.36, 137.8, 18.06, 119.7, 97.5, 125.02, 149.86, 328.44, 128.79999999999998, 125.1, 260.0, 21.6, 71.28, 166.32000000000005, 24.8, 106.86, 148.68, 129.60000000000002, 166.4, 175.56, 210.0, 95.46, 447.5, 106.6, 196.08, 101.4, 86.36, 132.84, 213.2, 105.0, 146.32, 109.2, 119.04, 179.4, 360.96, 75.6, 103.2, 61.64, 41.4, 212.5, 161.28, 165.92, 34.44, 162.54, 161.20000000000005, 181.44000000000003, 196.84, 195.36, 143.96, 195.0, 190.28, 196.84, 64.48, 243.66, 165.1], \"y\": [175.91033935546875, 74.71358489990234, 172.88088989257812, 70.07733917236328, 57.346134185791016, 85.05553436279297, 66.66058349609375, 219.31942749023438, 197.57215881347656, 212.9425811767578, 186.9755401611328, 142.44029235839844, 142.3152313232422, 138.8597869873047, 84.34159851074219, 156.49989318847656, 71.88062286376953, 93.4085464477539, 106.43518829345703, 171.6453857421875, 148.30914306640625, 244.7533721923828, 139.74456787109375, 125.51041412353516, 132.3364715576172, 18.821197509765625, 116.4173355102539, 103.01258087158203, 121.1554946899414, 145.6702423095703, 329.6739501953125, 128.34848022460938, 123.14221954345703, 253.8961944580078, 21.934247970581055, 70.82894134521484, 159.97291564941406, 24.28836441040039, 105.13204193115234, 145.29490661621094, 126.0228042602539, 160.25135803222656, 169.22227478027344, 204.5447235107422, 94.26531219482422, 438.5216979980469, 104.60823059082031, 188.4927520751953, 99.84461975097656, 84.95661163330078, 129.86708068847656, 210.16419982910156, 105.30995178222656, 142.36524963378906, 106.4256362915039, 115.72260284423828, 172.82077026367188, 348.8852233886719, 74.98441314697266, 101.54350280761719, 62.394859313964844, 40.639801025390625, 207.1942596435547, 156.4698028564453, 160.2144317626953, 30.525165557861328, 156.81248474121094, 159.65988159179688, 186.39663696289062, 188.00770568847656, 187.5792999267578, 140.86891174316406, 187.29489135742188, 182.1420440673828, 188.49562072753906, 64.49651336669922, 232.4347381591797, 163.33665466308594]}, {\"mode\": \"lines\", \"name\": \"Match\", \"type\": \"scatter\", \"x\": [0, 600], \"y\": [0, 600]}],\n",
       "                        {\"height\": 600, \"hovermode\": \"closest\", \"legend\": {\"font\": {\"size\": 24}}, \"showlegend\": true, \"template\": {\"data\": {\"bar\": [{\"error_x\": {\"color\": \"#2a3f5f\"}, \"error_y\": {\"color\": \"#2a3f5f\"}, \"marker\": {\"line\": {\"color\": \"#E5ECF6\", \"width\": 0.5}}, \"type\": \"bar\"}], \"barpolar\": [{\"marker\": {\"line\": {\"color\": \"#E5ECF6\", \"width\": 0.5}}, \"type\": \"barpolar\"}], \"carpet\": [{\"aaxis\": {\"endlinecolor\": \"#2a3f5f\", \"gridcolor\": \"white\", \"linecolor\": \"white\", \"minorgridcolor\": \"white\", \"startlinecolor\": \"#2a3f5f\"}, \"baxis\": {\"endlinecolor\": \"#2a3f5f\", \"gridcolor\": \"white\", \"linecolor\": \"white\", \"minorgridcolor\": \"white\", \"startlinecolor\": \"#2a3f5f\"}, \"type\": \"carpet\"}], \"choropleth\": [{\"colorbar\": {\"outlinewidth\": 0, \"ticks\": \"\"}, \"type\": \"choropleth\"}], \"contour\": [{\"colorbar\": {\"outlinewidth\": 0, \"ticks\": \"\"}, \"colorscale\": [[0.0, \"#0d0887\"], [0.1111111111111111, \"#46039f\"], [0.2222222222222222, \"#7201a8\"], [0.3333333333333333, \"#9c179e\"], [0.4444444444444444, \"#bd3786\"], [0.5555555555555556, \"#d8576b\"], [0.6666666666666666, \"#ed7953\"], [0.7777777777777778, \"#fb9f3a\"], [0.8888888888888888, \"#fdca26\"], [1.0, \"#f0f921\"]], \"type\": \"contour\"}], \"contourcarpet\": [{\"colorbar\": {\"outlinewidth\": 0, \"ticks\": \"\"}, \"type\": \"contourcarpet\"}], \"heatmap\": [{\"colorbar\": {\"outlinewidth\": 0, \"ticks\": \"\"}, \"colorscale\": [[0.0, \"#0d0887\"], [0.1111111111111111, \"#46039f\"], [0.2222222222222222, \"#7201a8\"], [0.3333333333333333, \"#9c179e\"], [0.4444444444444444, \"#bd3786\"], [0.5555555555555556, \"#d8576b\"], [0.6666666666666666, \"#ed7953\"], [0.7777777777777778, \"#fb9f3a\"], [0.8888888888888888, \"#fdca26\"], [1.0, \"#f0f921\"]], \"type\": \"heatmap\"}], \"heatmapgl\": [{\"colorbar\": {\"outlinewidth\": 0, \"ticks\": \"\"}, \"colorscale\": [[0.0, \"#0d0887\"], [0.1111111111111111, \"#46039f\"], [0.2222222222222222, \"#7201a8\"], [0.3333333333333333, \"#9c179e\"], [0.4444444444444444, \"#bd3786\"], [0.5555555555555556, \"#d8576b\"], [0.6666666666666666, \"#ed7953\"], [0.7777777777777778, \"#fb9f3a\"], [0.8888888888888888, \"#fdca26\"], [1.0, \"#f0f921\"]], \"type\": \"heatmapgl\"}], \"histogram\": [{\"marker\": {\"colorbar\": {\"outlinewidth\": 0, \"ticks\": \"\"}}, \"type\": \"histogram\"}], \"histogram2d\": [{\"colorbar\": {\"outlinewidth\": 0, \"ticks\": \"\"}, \"colorscale\": [[0.0, \"#0d0887\"], [0.1111111111111111, \"#46039f\"], [0.2222222222222222, \"#7201a8\"], [0.3333333333333333, \"#9c179e\"], [0.4444444444444444, \"#bd3786\"], [0.5555555555555556, \"#d8576b\"], [0.6666666666666666, \"#ed7953\"], [0.7777777777777778, \"#fb9f3a\"], [0.8888888888888888, \"#fdca26\"], [1.0, \"#f0f921\"]], \"type\": \"histogram2d\"}], \"histogram2dcontour\": [{\"colorbar\": {\"outlinewidth\": 0, \"ticks\": \"\"}, \"colorscale\": [[0.0, \"#0d0887\"], [0.1111111111111111, \"#46039f\"], [0.2222222222222222, \"#7201a8\"], [0.3333333333333333, \"#9c179e\"], [0.4444444444444444, \"#bd3786\"], [0.5555555555555556, \"#d8576b\"], [0.6666666666666666, \"#ed7953\"], [0.7777777777777778, \"#fb9f3a\"], [0.8888888888888888, \"#fdca26\"], [1.0, \"#f0f921\"]], \"type\": \"histogram2dcontour\"}], \"mesh3d\": [{\"colorbar\": {\"outlinewidth\": 0, \"ticks\": \"\"}, \"type\": \"mesh3d\"}], \"parcoords\": [{\"line\": {\"colorbar\": {\"outlinewidth\": 0, \"ticks\": \"\"}}, \"type\": \"parcoords\"}], \"pie\": [{\"automargin\": true, \"type\": \"pie\"}], \"scatter\": [{\"marker\": {\"colorbar\": {\"outlinewidth\": 0, \"ticks\": \"\"}}, \"type\": \"scatter\"}], \"scatter3d\": [{\"line\": {\"colorbar\": {\"outlinewidth\": 0, \"ticks\": \"\"}}, \"marker\": {\"colorbar\": {\"outlinewidth\": 0, \"ticks\": \"\"}}, \"type\": \"scatter3d\"}], \"scattercarpet\": [{\"marker\": {\"colorbar\": {\"outlinewidth\": 0, \"ticks\": \"\"}}, \"type\": \"scattercarpet\"}], \"scattergeo\": [{\"marker\": {\"colorbar\": {\"outlinewidth\": 0, \"ticks\": \"\"}}, \"type\": \"scattergeo\"}], \"scattergl\": [{\"marker\": {\"colorbar\": {\"outlinewidth\": 0, \"ticks\": \"\"}}, \"type\": \"scattergl\"}], \"scattermapbox\": [{\"marker\": {\"colorbar\": {\"outlinewidth\": 0, \"ticks\": \"\"}}, \"type\": \"scattermapbox\"}], \"scatterpolar\": [{\"marker\": {\"colorbar\": {\"outlinewidth\": 0, \"ticks\": \"\"}}, \"type\": \"scatterpolar\"}], \"scatterpolargl\": [{\"marker\": {\"colorbar\": {\"outlinewidth\": 0, \"ticks\": \"\"}}, \"type\": \"scatterpolargl\"}], \"scatterternary\": [{\"marker\": {\"colorbar\": {\"outlinewidth\": 0, \"ticks\": \"\"}}, \"type\": \"scatterternary\"}], \"surface\": [{\"colorbar\": {\"outlinewidth\": 0, \"ticks\": \"\"}, \"colorscale\": [[0.0, \"#0d0887\"], [0.1111111111111111, \"#46039f\"], [0.2222222222222222, \"#7201a8\"], [0.3333333333333333, \"#9c179e\"], [0.4444444444444444, \"#bd3786\"], [0.5555555555555556, \"#d8576b\"], [0.6666666666666666, \"#ed7953\"], [0.7777777777777778, \"#fb9f3a\"], [0.8888888888888888, \"#fdca26\"], [1.0, \"#f0f921\"]], \"type\": \"surface\"}], \"table\": [{\"cells\": {\"fill\": {\"color\": \"#EBF0F8\"}, \"line\": {\"color\": \"white\"}}, \"header\": {\"fill\": {\"color\": \"#C8D4E3\"}, \"line\": {\"color\": \"white\"}}, \"type\": \"table\"}]}, \"layout\": {\"annotationdefaults\": {\"arrowcolor\": \"#2a3f5f\", \"arrowhead\": 0, \"arrowwidth\": 1}, \"coloraxis\": {\"colorbar\": {\"outlinewidth\": 0, \"ticks\": \"\"}}, \"colorscale\": {\"diverging\": [[0, \"#8e0152\"], [0.1, \"#c51b7d\"], [0.2, \"#de77ae\"], [0.3, \"#f1b6da\"], [0.4, \"#fde0ef\"], [0.5, \"#f7f7f7\"], [0.6, \"#e6f5d0\"], [0.7, \"#b8e186\"], [0.8, \"#7fbc41\"], [0.9, \"#4d9221\"], [1, \"#276419\"]], \"sequential\": [[0.0, \"#0d0887\"], [0.1111111111111111, \"#46039f\"], [0.2222222222222222, \"#7201a8\"], [0.3333333333333333, \"#9c179e\"], [0.4444444444444444, \"#bd3786\"], [0.5555555555555556, \"#d8576b\"], [0.6666666666666666, \"#ed7953\"], [0.7777777777777778, \"#fb9f3a\"], [0.8888888888888888, \"#fdca26\"], [1.0, \"#f0f921\"]], \"sequentialminus\": [[0.0, \"#0d0887\"], [0.1111111111111111, \"#46039f\"], [0.2222222222222222, \"#7201a8\"], [0.3333333333333333, \"#9c179e\"], [0.4444444444444444, \"#bd3786\"], [0.5555555555555556, \"#d8576b\"], [0.6666666666666666, \"#ed7953\"], [0.7777777777777778, \"#fb9f3a\"], [0.8888888888888888, \"#fdca26\"], [1.0, \"#f0f921\"]]}, \"colorway\": [\"#636efa\", \"#EF553B\", \"#00cc96\", \"#ab63fa\", \"#FFA15A\", \"#19d3f3\", \"#FF6692\", \"#B6E880\", \"#FF97FF\", \"#FECB52\"], \"font\": {\"color\": \"#2a3f5f\"}, \"geo\": {\"bgcolor\": \"white\", \"lakecolor\": \"white\", \"landcolor\": \"#E5ECF6\", \"showlakes\": true, \"showland\": true, \"subunitcolor\": \"white\"}, \"hoverlabel\": {\"align\": \"left\"}, \"hovermode\": \"closest\", \"mapbox\": {\"style\": \"light\"}, \"paper_bgcolor\": \"white\", \"plot_bgcolor\": \"#E5ECF6\", \"polar\": {\"angularaxis\": {\"gridcolor\": \"white\", \"linecolor\": \"white\", \"ticks\": \"\"}, \"bgcolor\": \"#E5ECF6\", \"radialaxis\": {\"gridcolor\": \"white\", \"linecolor\": \"white\", \"ticks\": \"\"}}, \"scene\": {\"xaxis\": {\"backgroundcolor\": \"#E5ECF6\", \"gridcolor\": \"white\", \"gridwidth\": 2, \"linecolor\": \"white\", \"showbackground\": true, \"ticks\": \"\", \"zerolinecolor\": \"white\"}, \"yaxis\": {\"backgroundcolor\": \"#E5ECF6\", \"gridcolor\": \"white\", \"gridwidth\": 2, \"linecolor\": \"white\", \"showbackground\": true, \"ticks\": \"\", \"zerolinecolor\": \"white\"}, \"zaxis\": {\"backgroundcolor\": \"#E5ECF6\", \"gridcolor\": \"white\", \"gridwidth\": 2, \"linecolor\": \"white\", \"showbackground\": true, \"ticks\": \"\", \"zerolinecolor\": \"white\"}}, \"shapedefaults\": {\"line\": {\"color\": \"#2a3f5f\"}}, \"ternary\": {\"aaxis\": {\"gridcolor\": \"white\", \"linecolor\": \"white\", \"ticks\": \"\"}, \"baxis\": {\"gridcolor\": \"white\", \"linecolor\": \"white\", \"ticks\": \"\"}, \"bgcolor\": \"#E5ECF6\", \"caxis\": {\"gridcolor\": \"white\", \"linecolor\": \"white\", \"ticks\": \"\"}}, \"title\": {\"x\": 0.05}, \"xaxis\": {\"automargin\": true, \"gridcolor\": \"white\", \"linecolor\": \"white\", \"ticks\": \"\", \"title\": {\"standoff\": 15}, \"zerolinecolor\": \"white\", \"zerolinewidth\": 2}, \"yaxis\": {\"automargin\": true, \"gridcolor\": \"white\", \"linecolor\": \"white\", \"ticks\": \"\", \"title\": {\"standoff\": 15}, \"zerolinecolor\": \"white\", \"zerolinewidth\": 2}}}, \"title\": {\"font\": {\"size\": 28}, \"text\": \"Neural Network Model - Ni compounds Young's Modulus\"}, \"width\": 1000, \"xaxis\": {\"gridwidth\": 1, \"tickfont\": {\"size\": 18}, \"title\": {\"font\": {\"size\": 24}, \"text\": \"Real Values (GPa)\"}, \"zeroline\": false}, \"yaxis\": {\"gridwidth\": 1, \"tickfont\": {\"size\": 18}, \"title\": {\"font\": {\"size\": 24}, \"text\": \"Prediction (GPa)\"}, \"zeroline\": false}},\n",
       "                        {\"responsive\": true}\n",
       "                    ).then(function(){\n",
       "                            \n",
       "var gd = document.getElementById('d9b2d276-3ccb-41d3-8ef6-aaefc1547835');\n",
       "var x = new MutationObserver(function (mutations, observer) {{\n",
       "        var display = window.getComputedStyle(gd).display;\n",
       "        if (!display || display === 'none') {{\n",
       "            console.log([gd, 'removed!']);\n",
       "            Plotly.purge(gd);\n",
       "            observer.disconnect();\n",
       "        }}\n",
       "}});\n",
       "\n",
       "// Listen for the removal of the full notebook cells\n",
       "var notebookContainer = gd.closest('#notebook-container');\n",
       "if (notebookContainer) {{\n",
       "    x.observe(notebookContainer, {childList: true});\n",
       "}}\n",
       "\n",
       "// Listen for the clearing of the current output cell\n",
       "var outputEl = gd.closest('.output');\n",
       "if (outputEl) {{\n",
       "    x.observe(outputEl, {childList: true});\n",
       "}}\n",
       "\n",
       "                        })\n",
       "                };\n",
       "                });\n",
       "            </script>\n",
       "        </div>"
      ]
     },
     "metadata": {},
     "output_type": "display_data"
    }
   ],
   "source": [
    "import plotly\n",
    "import plotly.graph_objs as go\n",
    "from plotly.offline import iplot\n",
    "\n",
    "plotly.offline.init_notebook_mode(connected=True)\n",
    "\n",
    "layout0= go.Layout(title=go.layout.Title(text=\"Neural Network Model - Ni compounds Young's Modulus\", font=dict(size=28)), hovermode= 'closest', width = 1000, height=600, showlegend=True,  # Hovermode establishes the way the labels that appear when you hover are arranged # Establishing a square plot width=height\n",
    "    xaxis= dict(title=go.layout.xaxis.Title(text='Real Values (GPa)', font=dict(size=24)), zeroline= False, gridwidth= 1, tickfont=dict(size=18)), # Axis Titles. Removing the X-axis Mark. Adding a Grid\n",
    "    yaxis= dict(title=go.layout.yaxis.Title(text='Prediction (GPa)', font=dict(size=24)), zeroline= False, gridwidth= 1, tickfont=dict(size=18)), # Axis Titles. Removing the Y-axis Mark. Adding a Grid\n",
    "    legend=dict(font=dict(size=24))) # Adding a legend\n",
    "\n",
    "trace0 = go.Scatter(x = all_labels, y = predictions, mode = 'markers', marker= dict(size= 12, color= 'blue'), text= elements, name = 'Young\\'s Modulus (Training)')\n",
    "trace1 = go.Scatter(x = test_labels, y = test_predictions, mode = 'markers', marker= dict(size= 12, color= 'red'), text = labeled_elements, name = 'Young\\'s Modulus (Testing)')\n",
    "trace2 = go.Scatter(x = [0,600], y = [0,600], mode = 'lines', name = \"Match\") # This trace is the line X = Y which would indicate that the Prediction equals the real value\n",
    "\n",
    "data = [trace0, trace1, trace2]\n",
    "fig= go.Figure(data, layout=layout0)\n",
    "iplot(fig)"
   ]
  },
  {
   "cell_type": "code",
   "execution_count": 13,
   "metadata": {},
   "outputs": [
    {
     "name": "stdout",
     "output_type": "stream",
     "text": [
      "378/378 - 0s - loss: 6.1282e-06 - mean_absolute_error: 6.1282e-06\n",
      "Loss: 6.128240517090677e-06, Accuracy: 6.128240329417167e-06\n"
     ]
    }
   ],
   "source": [
    "model_loss, model_accuracy = model.evaluate(values, predictions,verbose=2)\n",
    "print(f\"Loss: {model_loss}, Accuracy: {model_accuracy}\")"
   ]
  },
  {
   "cell_type": "code",
   "execution_count": null,
   "metadata": {},
   "outputs": [],
   "source": []
  }
 ],
 "metadata": {
  "kernelspec": {
   "display_name": "PythonData",
   "language": "python",
   "name": "pythondata"
  },
  "language_info": {
   "codemirror_mode": {
    "name": "ipython",
    "version": 3
   },
   "file_extension": ".py",
   "mimetype": "text/x-python",
   "name": "python",
   "nbconvert_exporter": "python",
   "pygments_lexer": "ipython3",
   "version": "3.7.7"
  }
 },
 "nbformat": 4,
 "nbformat_minor": 2
}
