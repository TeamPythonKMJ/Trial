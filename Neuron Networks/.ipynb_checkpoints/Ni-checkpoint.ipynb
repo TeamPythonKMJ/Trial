{
 "cells": [
  {
   "cell_type": "markdown",
   "metadata": {},
   "source": [
    "### 1. Getting a dataset\n",
    "\n",
    "We have 12 datasets to explore in this notebook to predict the Young's Modulus with a three-layer neuron networks model with 2000 epochs. "
   ]
  },
  {
   "cell_type": "code",
   "execution_count": 1,
   "metadata": {},
   "outputs": [
    {
     "name": "stderr",
     "output_type": "stream",
     "text": [
      "C:\\Users\\Kayla Yano\\anaconda3\\envs\\PythonData\\lib\\site-packages\\tensorflow\\python\\framework\\dtypes.py:516: FutureWarning: Passing (type, 1) or '1type' as a synonym of type is deprecated; in a future version of numpy, it will be understood as (type, (1,)) / '(1,)type'.\n",
      "  _np_qint8 = np.dtype([(\"qint8\", np.int8, 1)])\n",
      "C:\\Users\\Kayla Yano\\anaconda3\\envs\\PythonData\\lib\\site-packages\\tensorflow\\python\\framework\\dtypes.py:517: FutureWarning: Passing (type, 1) or '1type' as a synonym of type is deprecated; in a future version of numpy, it will be understood as (type, (1,)) / '(1,)type'.\n",
      "  _np_quint8 = np.dtype([(\"quint8\", np.uint8, 1)])\n",
      "C:\\Users\\Kayla Yano\\anaconda3\\envs\\PythonData\\lib\\site-packages\\tensorflow\\python\\framework\\dtypes.py:518: FutureWarning: Passing (type, 1) or '1type' as a synonym of type is deprecated; in a future version of numpy, it will be understood as (type, (1,)) / '(1,)type'.\n",
      "  _np_qint16 = np.dtype([(\"qint16\", np.int16, 1)])\n",
      "C:\\Users\\Kayla Yano\\anaconda3\\envs\\PythonData\\lib\\site-packages\\tensorflow\\python\\framework\\dtypes.py:519: FutureWarning: Passing (type, 1) or '1type' as a synonym of type is deprecated; in a future version of numpy, it will be understood as (type, (1,)) / '(1,)type'.\n",
      "  _np_quint16 = np.dtype([(\"quint16\", np.uint16, 1)])\n",
      "C:\\Users\\Kayla Yano\\anaconda3\\envs\\PythonData\\lib\\site-packages\\tensorflow\\python\\framework\\dtypes.py:520: FutureWarning: Passing (type, 1) or '1type' as a synonym of type is deprecated; in a future version of numpy, it will be understood as (type, (1,)) / '(1,)type'.\n",
      "  _np_qint32 = np.dtype([(\"qint32\", np.int32, 1)])\n",
      "C:\\Users\\Kayla Yano\\anaconda3\\envs\\PythonData\\lib\\site-packages\\tensorflow\\python\\framework\\dtypes.py:525: FutureWarning: Passing (type, 1) or '1type' as a synonym of type is deprecated; in a future version of numpy, it will be understood as (type, (1,)) / '(1,)type'.\n",
      "  np_resource = np.dtype([(\"resource\", np.ubyte, 1)])\n",
      "C:\\Users\\Kayla Yano\\anaconda3\\envs\\PythonData\\lib\\site-packages\\tensorboard\\compat\\tensorflow_stub\\dtypes.py:541: FutureWarning: Passing (type, 1) or '1type' as a synonym of type is deprecated; in a future version of numpy, it will be understood as (type, (1,)) / '(1,)type'.\n",
      "  _np_qint8 = np.dtype([(\"qint8\", np.int8, 1)])\n",
      "C:\\Users\\Kayla Yano\\anaconda3\\envs\\PythonData\\lib\\site-packages\\tensorboard\\compat\\tensorflow_stub\\dtypes.py:542: FutureWarning: Passing (type, 1) or '1type' as a synonym of type is deprecated; in a future version of numpy, it will be understood as (type, (1,)) / '(1,)type'.\n",
      "  _np_quint8 = np.dtype([(\"quint8\", np.uint8, 1)])\n",
      "C:\\Users\\Kayla Yano\\anaconda3\\envs\\PythonData\\lib\\site-packages\\tensorboard\\compat\\tensorflow_stub\\dtypes.py:543: FutureWarning: Passing (type, 1) or '1type' as a synonym of type is deprecated; in a future version of numpy, it will be understood as (type, (1,)) / '(1,)type'.\n",
      "  _np_qint16 = np.dtype([(\"qint16\", np.int16, 1)])\n",
      "C:\\Users\\Kayla Yano\\anaconda3\\envs\\PythonData\\lib\\site-packages\\tensorboard\\compat\\tensorflow_stub\\dtypes.py:544: FutureWarning: Passing (type, 1) or '1type' as a synonym of type is deprecated; in a future version of numpy, it will be understood as (type, (1,)) / '(1,)type'.\n",
      "  _np_quint16 = np.dtype([(\"quint16\", np.uint16, 1)])\n",
      "C:\\Users\\Kayla Yano\\anaconda3\\envs\\PythonData\\lib\\site-packages\\tensorboard\\compat\\tensorflow_stub\\dtypes.py:545: FutureWarning: Passing (type, 1) or '1type' as a synonym of type is deprecated; in a future version of numpy, it will be understood as (type, (1,)) / '(1,)type'.\n",
      "  _np_qint32 = np.dtype([(\"qint32\", np.int32, 1)])\n",
      "C:\\Users\\Kayla Yano\\anaconda3\\envs\\PythonData\\lib\\site-packages\\tensorboard\\compat\\tensorflow_stub\\dtypes.py:550: FutureWarning: Passing (type, 1) or '1type' as a synonym of type is deprecated; in a future version of numpy, it will be understood as (type, (1,)) / '(1,)type'.\n",
      "  np_resource = np.dtype([(\"resource\", np.ubyte, 1)])\n"
     ]
    }
   ],
   "source": [
    "import pymatgen as pymat\n",
    "import mendeleev as mendel\n",
    "import pandas as pd\n",
    "import numpy as np\n",
    "from pathlib import Path\n",
    "import tensorflow as tf\n",
    "import tensorflow.keras\n",
    "from tensorflow.keras import initializers\n",
    "from tensorflow.keras.layers import Dense\n",
    "from tensorflow.keras.models import Sequential\n",
    "from tensorflow.keras import optimizers\n",
    "\n",
    "import sys\n",
    "import os\n",
    "sys.path.insert(0, '../src/')\n",
    "\n",
    "%matplotlib inline\n",
    "import matplotlib.pyplot as plt"
   ]
  },
  {
   "cell_type": "code",
   "execution_count": 2,
   "metadata": {
    "scrolled": true
   },
   "outputs": [
    {
     "data": {
      "text/html": [
       "<div>\n",
       "<style scoped>\n",
       "    .dataframe tbody tr th:only-of-type {\n",
       "        vertical-align: middle;\n",
       "    }\n",
       "\n",
       "    .dataframe tbody tr th {\n",
       "        vertical-align: top;\n",
       "    }\n",
       "\n",
       "    .dataframe thead th {\n",
       "        text-align: right;\n",
       "    }\n",
       "</style>\n",
       "<table border=\"1\" class=\"dataframe\">\n",
       "  <thead>\n",
       "    <tr style=\"text-align: right;\">\n",
       "      <th></th>\n",
       "      <th>Unnamed: 0</th>\n",
       "      <th>mp_id</th>\n",
       "      <th>Formula</th>\n",
       "      <th>Composition</th>\n",
       "      <th>IPF</th>\n",
       "      <th>Density</th>\n",
       "      <th>Elastic_Tensor</th>\n",
       "      <th>E_above_Hull</th>\n",
       "      <th>G_VRH</th>\n",
       "      <th>K_VRH</th>\n",
       "      <th>Elastic_Anisotropy</th>\n",
       "      <th>poisson_ratio</th>\n",
       "      <th>Y_Modulus</th>\n",
       "    </tr>\n",
       "  </thead>\n",
       "  <tbody>\n",
       "    <tr>\n",
       "      <th>0</th>\n",
       "      <td>0</td>\n",
       "      <td>mp-10033</td>\n",
       "      <td>NbS2</td>\n",
       "      <td>{'Nb': 1.0, 'S': 2.0}</td>\n",
       "      <td>0.123603</td>\n",
       "      <td>4.019533</td>\n",
       "      <td>{'G_Reuss': 2.0, 'G_VRH': 15.0, 'G_Voigt': 27....</td>\n",
       "      <td>0.0</td>\n",
       "      <td>15.0</td>\n",
       "      <td>23.0</td>\n",
       "      <td>72.82</td>\n",
       "      <td>0.24</td>\n",
       "      <td>37.20</td>\n",
       "    </tr>\n",
       "    <tr>\n",
       "      <th>1</th>\n",
       "      <td>1</td>\n",
       "      <td>mp-1018151</td>\n",
       "      <td>NbPd2</td>\n",
       "      <td>{'Nb': 1.0, 'Pd': 2.0}</td>\n",
       "      <td>0.153629</td>\n",
       "      <td>10.559309</td>\n",
       "      <td>{'G_Reuss': 65.0, 'G_VRH': 74.0, 'G_Voigt': 83...</td>\n",
       "      <td>0.0</td>\n",
       "      <td>74.0</td>\n",
       "      <td>190.0</td>\n",
       "      <td>1.39</td>\n",
       "      <td>0.33</td>\n",
       "      <td>196.84</td>\n",
       "    </tr>\n",
       "    <tr>\n",
       "      <th>2</th>\n",
       "      <td>2</td>\n",
       "      <td>mp-10255</td>\n",
       "      <td>Nb3B4</td>\n",
       "      <td>{'Nb': 3.0, 'B': 4.0}</td>\n",
       "      <td>0.108718</td>\n",
       "      <td>7.190485</td>\n",
       "      <td>{'G_Reuss': 196.0, 'G_VRH': 198.0, 'G_Voigt': ...</td>\n",
       "      <td>0.0</td>\n",
       "      <td>198.0</td>\n",
       "      <td>274.0</td>\n",
       "      <td>0.11</td>\n",
       "      <td>0.21</td>\n",
       "      <td>479.16</td>\n",
       "    </tr>\n",
       "    <tr>\n",
       "      <th>3</th>\n",
       "      <td>3</td>\n",
       "      <td>mp-1046</td>\n",
       "      <td>NbSn2</td>\n",
       "      <td>{'Nb': 1.0, 'Sn': 2.0}</td>\n",
       "      <td>0.103324</td>\n",
       "      <td>7.982742</td>\n",
       "      <td>{'G_Reuss': 48.0, 'G_VRH': 49.0, 'G_Voigt': 50...</td>\n",
       "      <td>0.0</td>\n",
       "      <td>49.0</td>\n",
       "      <td>96.0</td>\n",
       "      <td>0.18</td>\n",
       "      <td>0.28</td>\n",
       "      <td>125.44</td>\n",
       "    </tr>\n",
       "    <tr>\n",
       "      <th>4</th>\n",
       "      <td>4</td>\n",
       "      <td>mp-11272</td>\n",
       "      <td>Be2Nb3</td>\n",
       "      <td>{'Be': 2.0, 'Nb': 3.0}</td>\n",
       "      <td>0.120294</td>\n",
       "      <td>6.853194</td>\n",
       "      <td>{'G_Reuss': 78.0, 'G_VRH': 78.0, 'G_Voigt': 79...</td>\n",
       "      <td>0.0</td>\n",
       "      <td>78.0</td>\n",
       "      <td>165.0</td>\n",
       "      <td>0.03</td>\n",
       "      <td>0.30</td>\n",
       "      <td>202.80</td>\n",
       "    </tr>\n",
       "    <tr>\n",
       "      <th>...</th>\n",
       "      <td>...</td>\n",
       "      <td>...</td>\n",
       "      <td>...</td>\n",
       "      <td>...</td>\n",
       "      <td>...</td>\n",
       "      <td>...</td>\n",
       "      <td>...</td>\n",
       "      <td>...</td>\n",
       "      <td>...</td>\n",
       "      <td>...</td>\n",
       "      <td>...</td>\n",
       "      <td>...</td>\n",
       "      <td>...</td>\n",
       "    </tr>\n",
       "    <tr>\n",
       "      <th>170</th>\n",
       "      <td>170</td>\n",
       "      <td>mp-972323</td>\n",
       "      <td>TaNbTc2</td>\n",
       "      <td>{'Ta': 1.0, 'Nb': 1.0, 'Tc': 2.0}</td>\n",
       "      <td>0.123370</td>\n",
       "      <td>11.976584</td>\n",
       "      <td>{'G_Reuss': 104.0, 'G_VRH': 108.0, 'G_Voigt': ...</td>\n",
       "      <td>0.0</td>\n",
       "      <td>108.0</td>\n",
       "      <td>195.0</td>\n",
       "      <td>0.44</td>\n",
       "      <td>0.27</td>\n",
       "      <td>274.32</td>\n",
       "    </tr>\n",
       "    <tr>\n",
       "      <th>171</th>\n",
       "      <td>171</td>\n",
       "      <td>mp-9808</td>\n",
       "      <td>Rb3NbO8</td>\n",
       "      <td>{'Rb': 3.0, 'Nb': 1.0, 'O': 8.0}</td>\n",
       "      <td>0.591649</td>\n",
       "      <td>3.697466</td>\n",
       "      <td>{'G_Reuss': 12.0, 'G_VRH': 12.0, 'G_Voigt': 13...</td>\n",
       "      <td>0.0</td>\n",
       "      <td>12.0</td>\n",
       "      <td>27.0</td>\n",
       "      <td>0.82</td>\n",
       "      <td>0.30</td>\n",
       "      <td>31.20</td>\n",
       "    </tr>\n",
       "    <tr>\n",
       "      <th>172</th>\n",
       "      <td>172</td>\n",
       "      <td>mp-9989</td>\n",
       "      <td>Nb2AsC</td>\n",
       "      <td>{'Nb': 2.0, 'As': 1.0, 'C': 1.0}</td>\n",
       "      <td>0.101667</td>\n",
       "      <td>7.756327</td>\n",
       "      <td>{'G_Reuss': 114.0, 'G_VRH': 119.0, 'G_Voigt': ...</td>\n",
       "      <td>0.0</td>\n",
       "      <td>119.0</td>\n",
       "      <td>206.0</td>\n",
       "      <td>0.40</td>\n",
       "      <td>0.26</td>\n",
       "      <td>299.88</td>\n",
       "    </tr>\n",
       "    <tr>\n",
       "      <th>173</th>\n",
       "      <td>173</td>\n",
       "      <td>mp-549490</td>\n",
       "      <td>KNb4O5F</td>\n",
       "      <td>{'K': 1.0, 'Nb': 4.0, 'O': 5.0, 'F': 1.0}</td>\n",
       "      <td>0.444930</td>\n",
       "      <td>5.594731</td>\n",
       "      <td>{'G_Reuss': 77.0, 'G_VRH': 84.0, 'G_Voigt': 90...</td>\n",
       "      <td>0.0</td>\n",
       "      <td>84.0</td>\n",
       "      <td>139.0</td>\n",
       "      <td>1.00</td>\n",
       "      <td>0.25</td>\n",
       "      <td>210.00</td>\n",
       "    </tr>\n",
       "    <tr>\n",
       "      <th>174</th>\n",
       "      <td>174</td>\n",
       "      <td>mp-7251</td>\n",
       "      <td>Ba2YNbO6</td>\n",
       "      <td>{'Ba': 2.0, 'Y': 1.0, 'Nb': 1.0, 'O': 6.0}</td>\n",
       "      <td>0.541216</td>\n",
       "      <td>5.840610</td>\n",
       "      <td>{'G_Reuss': 75.0, 'G_VRH': 77.0, 'G_Voigt': 79...</td>\n",
       "      <td>0.0</td>\n",
       "      <td>77.0</td>\n",
       "      <td>134.0</td>\n",
       "      <td>0.22</td>\n",
       "      <td>0.26</td>\n",
       "      <td>194.04</td>\n",
       "    </tr>\n",
       "  </tbody>\n",
       "</table>\n",
       "<p>175 rows × 13 columns</p>\n",
       "</div>"
      ],
      "text/plain": [
       "     Unnamed: 0       mp_id   Formula  \\\n",
       "0             0    mp-10033      NbS2   \n",
       "1             1  mp-1018151     NbPd2   \n",
       "2             2    mp-10255     Nb3B4   \n",
       "3             3     mp-1046     NbSn2   \n",
       "4             4    mp-11272    Be2Nb3   \n",
       "..          ...         ...       ...   \n",
       "170         170   mp-972323   TaNbTc2   \n",
       "171         171     mp-9808   Rb3NbO8   \n",
       "172         172     mp-9989    Nb2AsC   \n",
       "173         173   mp-549490   KNb4O5F   \n",
       "174         174     mp-7251  Ba2YNbO6   \n",
       "\n",
       "                                    Composition       IPF    Density  \\\n",
       "0                         {'Nb': 1.0, 'S': 2.0}  0.123603   4.019533   \n",
       "1                        {'Nb': 1.0, 'Pd': 2.0}  0.153629  10.559309   \n",
       "2                         {'Nb': 3.0, 'B': 4.0}  0.108718   7.190485   \n",
       "3                        {'Nb': 1.0, 'Sn': 2.0}  0.103324   7.982742   \n",
       "4                        {'Be': 2.0, 'Nb': 3.0}  0.120294   6.853194   \n",
       "..                                          ...       ...        ...   \n",
       "170           {'Ta': 1.0, 'Nb': 1.0, 'Tc': 2.0}  0.123370  11.976584   \n",
       "171            {'Rb': 3.0, 'Nb': 1.0, 'O': 8.0}  0.591649   3.697466   \n",
       "172            {'Nb': 2.0, 'As': 1.0, 'C': 1.0}  0.101667   7.756327   \n",
       "173   {'K': 1.0, 'Nb': 4.0, 'O': 5.0, 'F': 1.0}  0.444930   5.594731   \n",
       "174  {'Ba': 2.0, 'Y': 1.0, 'Nb': 1.0, 'O': 6.0}  0.541216   5.840610   \n",
       "\n",
       "                                        Elastic_Tensor  E_above_Hull  G_VRH  \\\n",
       "0    {'G_Reuss': 2.0, 'G_VRH': 15.0, 'G_Voigt': 27....           0.0   15.0   \n",
       "1    {'G_Reuss': 65.0, 'G_VRH': 74.0, 'G_Voigt': 83...           0.0   74.0   \n",
       "2    {'G_Reuss': 196.0, 'G_VRH': 198.0, 'G_Voigt': ...           0.0  198.0   \n",
       "3    {'G_Reuss': 48.0, 'G_VRH': 49.0, 'G_Voigt': 50...           0.0   49.0   \n",
       "4    {'G_Reuss': 78.0, 'G_VRH': 78.0, 'G_Voigt': 79...           0.0   78.0   \n",
       "..                                                 ...           ...    ...   \n",
       "170  {'G_Reuss': 104.0, 'G_VRH': 108.0, 'G_Voigt': ...           0.0  108.0   \n",
       "171  {'G_Reuss': 12.0, 'G_VRH': 12.0, 'G_Voigt': 13...           0.0   12.0   \n",
       "172  {'G_Reuss': 114.0, 'G_VRH': 119.0, 'G_Voigt': ...           0.0  119.0   \n",
       "173  {'G_Reuss': 77.0, 'G_VRH': 84.0, 'G_Voigt': 90...           0.0   84.0   \n",
       "174  {'G_Reuss': 75.0, 'G_VRH': 77.0, 'G_Voigt': 79...           0.0   77.0   \n",
       "\n",
       "     K_VRH  Elastic_Anisotropy  poisson_ratio  Y_Modulus  \n",
       "0     23.0               72.82           0.24      37.20  \n",
       "1    190.0                1.39           0.33     196.84  \n",
       "2    274.0                0.11           0.21     479.16  \n",
       "3     96.0                0.18           0.28     125.44  \n",
       "4    165.0                0.03           0.30     202.80  \n",
       "..     ...                 ...            ...        ...  \n",
       "170  195.0                0.44           0.27     274.32  \n",
       "171   27.0                0.82           0.30      31.20  \n",
       "172  206.0                0.40           0.26     299.88  \n",
       "173  139.0                1.00           0.25     210.00  \n",
       "174  134.0                0.22           0.26     194.04  \n",
       "\n",
       "[175 rows x 13 columns]"
      ]
     },
     "execution_count": 2,
     "metadata": {},
     "output_type": "execute_result"
    }
   ],
   "source": [
    "# df = pd.read_csv(Path('../All Data Export/Ti_compounds_dataframe.csv'))\n",
    "# df = pd.read_csv(Path('../All Data Export/C_compounds_dataframe.csv'))\n",
    "# df = pd.read_csv(Path('../All Data Export/Cr_compounds_dataframe.csv'))\n",
    "# df = pd.read_csv(Path('../All Data Export/Fe_compounds_dataframe.csv'))\n",
    "# df = pd.read_csv(Path('../All Data Export/Hf_compounds_dataframe.csv'))\n",
    "# df = pd.read_csv(Path('../All Data Export/Mo_compounds_dataframe.csv'))\n",
    "df = pd.read_csv(Path('../All Data Export/Nb_compounds_dataframe.csv'))\n",
    "# df = pd.read_csv(Path('../All Data Export/Ni_compounds_dataframe.csv'))\n",
    "# df = pd.read_csv(Path('../All Data Export/V_compounds_dataframe.csv'))\n",
    "# df = pd.read_csv(Path('../All Data Export/W_compounds_dataframe.csv'))\n",
    "# df = pd.read_csv(Path('../All Data Export/Zr_compounds_dataframe.csv'))\n",
    "# df = pd.read_csv(Path('../All Data Export/Ta_compounds_dataframe.csv'))\n",
    "df"
   ]
  },
  {
   "cell_type": "code",
   "execution_count": 3,
   "metadata": {},
   "outputs": [
    {
     "data": {
      "text/plain": [
       "Index(['Unnamed: 0', 'mp_id', 'Formula', 'Composition', 'IPF', 'Density',\n",
       "       'Elastic_Tensor', 'E_above_Hull', 'G_VRH', 'K_VRH',\n",
       "       'Elastic_Anisotropy', 'poisson_ratio', 'Y_Modulus'],\n",
       "      dtype='object')"
      ]
     },
     "execution_count": 3,
     "metadata": {},
     "output_type": "execute_result"
    }
   ],
   "source": [
    "df.columns"
   ]
  },
  {
   "cell_type": "code",
   "execution_count": 4,
   "metadata": {},
   "outputs": [
    {
     "data": {
      "text/html": [
       "<div>\n",
       "<style scoped>\n",
       "    .dataframe tbody tr th:only-of-type {\n",
       "        vertical-align: middle;\n",
       "    }\n",
       "\n",
       "    .dataframe tbody tr th {\n",
       "        vertical-align: top;\n",
       "    }\n",
       "\n",
       "    .dataframe thead th {\n",
       "        text-align: right;\n",
       "    }\n",
       "</style>\n",
       "<table border=\"1\" class=\"dataframe\">\n",
       "  <thead>\n",
       "    <tr style=\"text-align: right;\">\n",
       "      <th></th>\n",
       "      <th>IPF</th>\n",
       "      <th>Density</th>\n",
       "      <th>E_above_Hull</th>\n",
       "      <th>G_VRH</th>\n",
       "      <th>K_VRH</th>\n",
       "      <th>Elastic_Anisotropy</th>\n",
       "      <th>poisson_ratio</th>\n",
       "      <th>Y_Modulus</th>\n",
       "    </tr>\n",
       "  </thead>\n",
       "  <tbody>\n",
       "    <tr>\n",
       "      <th>0</th>\n",
       "      <td>0.123603</td>\n",
       "      <td>4.019533</td>\n",
       "      <td>0.0</td>\n",
       "      <td>15.0</td>\n",
       "      <td>23.0</td>\n",
       "      <td>72.82</td>\n",
       "      <td>0.24</td>\n",
       "      <td>37.20</td>\n",
       "    </tr>\n",
       "    <tr>\n",
       "      <th>1</th>\n",
       "      <td>0.153629</td>\n",
       "      <td>10.559309</td>\n",
       "      <td>0.0</td>\n",
       "      <td>74.0</td>\n",
       "      <td>190.0</td>\n",
       "      <td>1.39</td>\n",
       "      <td>0.33</td>\n",
       "      <td>196.84</td>\n",
       "    </tr>\n",
       "    <tr>\n",
       "      <th>2</th>\n",
       "      <td>0.108718</td>\n",
       "      <td>7.190485</td>\n",
       "      <td>0.0</td>\n",
       "      <td>198.0</td>\n",
       "      <td>274.0</td>\n",
       "      <td>0.11</td>\n",
       "      <td>0.21</td>\n",
       "      <td>479.16</td>\n",
       "    </tr>\n",
       "    <tr>\n",
       "      <th>3</th>\n",
       "      <td>0.103324</td>\n",
       "      <td>7.982742</td>\n",
       "      <td>0.0</td>\n",
       "      <td>49.0</td>\n",
       "      <td>96.0</td>\n",
       "      <td>0.18</td>\n",
       "      <td>0.28</td>\n",
       "      <td>125.44</td>\n",
       "    </tr>\n",
       "    <tr>\n",
       "      <th>4</th>\n",
       "      <td>0.120294</td>\n",
       "      <td>6.853194</td>\n",
       "      <td>0.0</td>\n",
       "      <td>78.0</td>\n",
       "      <td>165.0</td>\n",
       "      <td>0.03</td>\n",
       "      <td>0.30</td>\n",
       "      <td>202.80</td>\n",
       "    </tr>\n",
       "    <tr>\n",
       "      <th>...</th>\n",
       "      <td>...</td>\n",
       "      <td>...</td>\n",
       "      <td>...</td>\n",
       "      <td>...</td>\n",
       "      <td>...</td>\n",
       "      <td>...</td>\n",
       "      <td>...</td>\n",
       "      <td>...</td>\n",
       "    </tr>\n",
       "    <tr>\n",
       "      <th>170</th>\n",
       "      <td>0.123370</td>\n",
       "      <td>11.976584</td>\n",
       "      <td>0.0</td>\n",
       "      <td>108.0</td>\n",
       "      <td>195.0</td>\n",
       "      <td>0.44</td>\n",
       "      <td>0.27</td>\n",
       "      <td>274.32</td>\n",
       "    </tr>\n",
       "    <tr>\n",
       "      <th>171</th>\n",
       "      <td>0.591649</td>\n",
       "      <td>3.697466</td>\n",
       "      <td>0.0</td>\n",
       "      <td>12.0</td>\n",
       "      <td>27.0</td>\n",
       "      <td>0.82</td>\n",
       "      <td>0.30</td>\n",
       "      <td>31.20</td>\n",
       "    </tr>\n",
       "    <tr>\n",
       "      <th>172</th>\n",
       "      <td>0.101667</td>\n",
       "      <td>7.756327</td>\n",
       "      <td>0.0</td>\n",
       "      <td>119.0</td>\n",
       "      <td>206.0</td>\n",
       "      <td>0.40</td>\n",
       "      <td>0.26</td>\n",
       "      <td>299.88</td>\n",
       "    </tr>\n",
       "    <tr>\n",
       "      <th>173</th>\n",
       "      <td>0.444930</td>\n",
       "      <td>5.594731</td>\n",
       "      <td>0.0</td>\n",
       "      <td>84.0</td>\n",
       "      <td>139.0</td>\n",
       "      <td>1.00</td>\n",
       "      <td>0.25</td>\n",
       "      <td>210.00</td>\n",
       "    </tr>\n",
       "    <tr>\n",
       "      <th>174</th>\n",
       "      <td>0.541216</td>\n",
       "      <td>5.840610</td>\n",
       "      <td>0.0</td>\n",
       "      <td>77.0</td>\n",
       "      <td>134.0</td>\n",
       "      <td>0.22</td>\n",
       "      <td>0.26</td>\n",
       "      <td>194.04</td>\n",
       "    </tr>\n",
       "  </tbody>\n",
       "</table>\n",
       "<p>172 rows × 8 columns</p>\n",
       "</div>"
      ],
      "text/plain": [
       "          IPF    Density  E_above_Hull  G_VRH  K_VRH  Elastic_Anisotropy  \\\n",
       "0    0.123603   4.019533           0.0   15.0   23.0               72.82   \n",
       "1    0.153629  10.559309           0.0   74.0  190.0                1.39   \n",
       "2    0.108718   7.190485           0.0  198.0  274.0                0.11   \n",
       "3    0.103324   7.982742           0.0   49.0   96.0                0.18   \n",
       "4    0.120294   6.853194           0.0   78.0  165.0                0.03   \n",
       "..        ...        ...           ...    ...    ...                 ...   \n",
       "170  0.123370  11.976584           0.0  108.0  195.0                0.44   \n",
       "171  0.591649   3.697466           0.0   12.0   27.0                0.82   \n",
       "172  0.101667   7.756327           0.0  119.0  206.0                0.40   \n",
       "173  0.444930   5.594731           0.0   84.0  139.0                1.00   \n",
       "174  0.541216   5.840610           0.0   77.0  134.0                0.22   \n",
       "\n",
       "     poisson_ratio  Y_Modulus  \n",
       "0             0.24      37.20  \n",
       "1             0.33     196.84  \n",
       "2             0.21     479.16  \n",
       "3             0.28     125.44  \n",
       "4             0.30     202.80  \n",
       "..             ...        ...  \n",
       "170           0.27     274.32  \n",
       "171           0.30      31.20  \n",
       "172           0.26     299.88  \n",
       "173           0.25     210.00  \n",
       "174           0.26     194.04  \n",
       "\n",
       "[172 rows x 8 columns]"
      ]
     },
     "execution_count": 4,
     "metadata": {},
     "output_type": "execute_result"
    }
   ],
   "source": [
    "df.drop( df[ df['Y_Modulus'] < 0 ].index , inplace=True)\n",
    "df_original = df.copy\n",
    "elements = df['Formula'].tolist()\n",
    "df = df.drop(df.columns[[0, 1, 2, 3, 6]], axis=1)\n",
    "df"
   ]
  },
  {
   "cell_type": "markdown",
   "metadata": {},
   "source": [
    "### 2. Processing and Organizing Data\n",
    "\n",
    "Most machine learning models are trained on a subset of all the available data, called the \"training set\", and the models are tested on the remainder of the available data, called the \"testing set\". Model performance has often been found to be enhanced when the inputs are normalized.\n",
    "\n",
    "##### SETS\n",
    "\n",
    "1. With the dataset we just created, we have splitted the dataset for each of the 12 datasets:\n",
    "- C: 331 entries for our model. We will train with 300 cases and test on the remaining 31 elements to estimate Young's Modulus.\n",
    "- Cr: 331 entries for our model. We will train with 300 cases and test on the remaining 31 elements to estimate Young's Modulus.\n",
    "- Fe: 208 entries for our model. We will train with 182 cases and test on the remaining 26 elements to estimate Young's Modulus.\n",
    "- Hf: 216 entries for our model. We will train with 180 cases and test on the remaining 36 elements to estimate Young's Modulus.\n",
    "- Mo: 60 entries for our model. We will train with 84 cases and test on the remaining 24 elements to estimate Young's Modulus.\n",
    "- Nb: 172 entries for our model. We will train with 150 cases and test on the remaining 22 elements to estimate Young's Modulus.\n",
    "- Ni: 331 entries for our model. We will train with 300 cases and test on the remaining 31 elements to estimate Young's Modulus.\n",
    "- Ta: 331 entries for our model. We will train with 300 cases and test on the remaining 31 elements to estimate Young's Modulus.\n",
    "- Ti: 331 entries for our model. We will train with 300 cases and test on the remaining 31 elements to estimate Young's Modulus.\n",
    "- V: 331 entries for our model. We will train with 300 cases and test on the remaining 31 elements to estimate Young's Modulus.\n",
    "- W: 331 entries for our model. We will train with 300 cases and test on the remaining 31 elements to estimate Young's Modulus.\n",
    "- Zr: 331 entries for our model. We will train with 300 cases and test on the remaining 31 elements to estimate Young's Modulus.\n",
    "\n",
    "\n",
    "\n",
    "##### NORMALIZATION\n",
    "\n",
    "Each one of these input data features has different units and is represented in scales with distinct orders of magnitude. Datasets that contain inputs like this need to be normalized, so that quantities with large values do not *overwhelm* the neural network, forcing it tune its weights to account for the different scales of our input data. In this work, we will use the Standard Score Normalization, which subtracts the mean of the feature and divide by its standard deviation.\n",
    "\n",
    "<span style=\"font-size:2em;\">$ \\frac{X - µ}{σ} $ </span>\n",
    "\n",
    "While our model might converge without feature normalization, the resultant model would be difficult to train and would be dependent on the choice of units used in the input."
   ]
  },
  {
   "cell_type": "code",
   "execution_count": 5,
   "metadata": {},
   "outputs": [
    {
     "name": "stdout",
     "output_type": "stream",
     "text": [
      "[[0.12360258557540715, 4.019532924982891, 0.0, 15.0, 23.0, 72.82, 0.24, 37.2], [0.15362883265109722, 10.559308596756466, 0.0, 74.0, 190.0, 1.39, 0.33, 196.84], [0.10871791693561772, 7.190484535398295, 0.0, 198.0, 274.0, 0.11, 0.21, 479.16], [0.10332447209290417, 7.9827419922826595, 0.0, 49.0, 96.0, 0.18, 0.28, 125.44], [0.12029355922103675, 6.853194296110022, 0.0, 78.0, 165.0, 0.03, 0.3, 202.8], [0.11565264350342945, 4.710119603540301, 0.0, 126.0, 155.0, 0.05, 0.18, 297.36], [0.12428372204489717, 8.136717747223104, 0.0, 97.0, 167.0, 0.2, 0.26, 244.44], [0.13737976411275646, 16.49762617006909, 0.0, 108.0, 244.0, 0.69, 0.31, 282.9600000000001], [0.099405978733049, 11.009972265971236, 0.0, 128.0, 271.0, 0.56, 0.3, 332.8], [0.2507811631472189, 7.094395966636893, 0.0, 19.0, 28.0, 3.63, 0.22, 46.36], [0.08175775591981596, 5.577439731477443, 0.0, 140.0, 175.0, 0.05, 0.18, 330.4], [0.11565132940295078, 8.479514313254066, 0.0, 75.0, 233.0, 0.1, 0.36, 204.0], [0.1228327655543212, 8.694217982624469, 0.0, 22.0, 164.0, 0.1, 0.44, 63.36], [0.12909422134709142, 14.605159872379303, 0.0, 105.0, 259.0, 0.82, 0.32, 277.2], [0.10342299382278802, 6.967600825593072, 0.0, 123.0, 194.0, 0.04, 0.24, 305.04], [0.12354251842823635, 7.278267338836192, 0.0, 98.0, 179.0, 0.22, 0.27, 248.92], [0.14831715813230698, 8.95026943301085, 0.0, 77.0, 211.0, 0.4, 0.34, 206.36], [0.12640763456548135, 11.228046056826948, 0.0, 104.0, 223.0, 0.57, 0.3, 270.40000000000003], [0.124184960582523, 9.086567727678064, 0.0, 89.0, 204.0, 0.74, 0.31, 233.18], [0.23612686810727804, 15.183084883836127, 0.0, 64.0, 175.0, 1.15, 0.34, 171.52], [0.09628369503340213, 4.501843441819059, 0.0, 105.0, 127.0, 0.17, 0.18, 247.8], [0.11350646441722599, 6.7894537270390325, 0.0, 82.0, 161.0, 0.07, 0.28, 209.92], [0.11809929149392084, 11.207678392345619, 0.0, 91.0, 223.0, 0.71, 0.32, 240.24], [0.12568750922501334, 10.111756535406423, 0.0, 79.0, 220.0, 1.43, 0.34, 211.72], [0.10226087282527167, 8.04646594385679, 0.0, 69.0, 97.0, 0.4, 0.21, 166.98], [0.12104822354019433, 7.758692645633056, 0.0, 87.0, 122.0, 0.19, 0.21, 210.54], [0.12440919186156145, 8.873377464653052, 0.0, 82.0, 174.0, 0.23, 0.3, 213.2], [0.09841300814995216, 7.805231678578597, 0.0, 88.0, 162.0, 0.66, 0.27, 223.52], [0.11668064568949953, 7.752632754011426, 0.0, 168.0, 240.0, 0.04, 0.22, 409.92], [0.18981061522433712, 12.332301604518793, 0.0, 61.0, 173.0, 0.26, 0.34, 163.48000000000005], [0.11943355368271785, 8.188774737075258, 0.0, 81.0, 195.0, 0.52, 0.32, 213.84], [0.4143550484176898, 7.010466903707777, 0.0, 140.0, 243.0, 0.54, 0.26, 352.8], [0.09647343664420488, 6.584074606270595, 0.0, 81.0, 178.0, 0.02, 0.3, 210.6], [0.08177063916642482, 5.578318614840842, 0.004182222223647614, 140.0, 175.0, 0.05, 0.18, 330.4], [0.11208136835315824, 7.429359322072584, 0.0, 197.0, 264.0, 0.08, 0.2, 472.8], [0.150972155529775, 7.9841872046568305, 0.0, 211.0, 313.0, 0.16, 0.23, 519.06], [0.12916559585706994, 11.150477248082113, 0.0, 80.0, 207.0, 0.68, 0.33, 212.8], [0.1085351510162316, 8.117054467220491, 0.0, 55.0, 98.0, 1.11, 0.26, 138.6], [0.10554642889198576, 7.503639258849112, 0.0, 161.0, 239.0, 0.14, 0.22, 392.84], [0.15746558735492364, 7.7115594490220465, 0.0, 57.0, 122.0, 0.19, 0.3, 148.20000000000005], [0.08217468503711396, 3.3609495491941224, 0.0, 8.0, 14.0, 81.6, 0.24, 19.84], [0.11411839922829298, 3.3383615711946057, 0.0, 152.0, 140.0, 0.05, 0.1, 334.4000000000001], [0.17597048719148245, 8.15268962776266, 0.0, 82.0, 141.0, 0.01, 0.26, 206.64], [0.12357580315959152, 7.967848053883183, 0.0, 105.0, 142.0, 0.09, 0.2, 252.0], [0.10876212471056924, 9.954476070174582, 0.0, 53.0, 237.0, 0.04, 0.4, 148.39999999999995], [0.1031313246265121, 6.793797918291251, 0.0, 195.0, 287.0, 0.28, 0.22, 475.8], [0.22018302293731334, 7.767773427042093, 0.0, 64.0, 228.0, 0.1, 0.37, 175.36], [0.5217446423810332, 5.67525299817137, 0.0, 80.0, 206.0, 0.28, 0.33, 212.8], [0.11192178093784934, 2.9577772763515253, 0.0, 138.0, 133.0, 0.23, 0.12, 309.12], [0.11054692992518404, 7.673756117545935, 0.0, 117.0, 228.0, 0.29, 0.28, 299.52], [0.1479281342357143, 5.587610022748186, 0.0, 13.0, 22.0, 29.28, 0.25, 32.5], [0.18501334216860016, 7.295698645625326, 0.0, 33.0, 85.0, 0.63, 0.33, 87.78], [0.15704970976683186, 10.829781482310768, 0.0, 79.0, 196.0, 0.19, 0.32, 208.56], [0.14981988613245034, 8.885808434756795, 0.0, 95.0, 213.0, 0.18, 0.31, 248.9], [0.14990929447777904, 5.662443325300304, 0.9910275000004632, 13.0, 22.0, 32.7, 0.25, 32.5], [0.0850317962140823, 7.264790629059273, 0.0, 90.0, 124.0, 0.27, 0.21, 217.8], [0.09759749950722507, 9.661758778308648, 0.0, 88.0, 220.0, 0.55, 0.32, 232.32], [0.14769129075588608, 11.124629037771173, 0.0, 74.0, 178.0, 0.41, 0.32, 195.36], [0.13056416743377516, 11.41067839823039, 0.0, 78.0, 184.0, 0.33, 0.31, 204.36], [0.10117850192359684, 13.665638386257859, 0.0, 130.0, 262.0, 0.0, 0.29, 335.4000000000001], [0.11738290158073013, 8.68295211363972, 0.0, 91.0, 195.0, 0.2, 0.3, 236.6], [0.0933402741247826, 6.3864906707776345, 0.0, 109.0, 188.0, 0.41, 0.26, 274.68], [0.17669881979476484, 7.802320965459787, 0.0, 71.0, 119.0, 0.39, 0.25, 177.5], [0.11959126875775493, 9.267233067963794, 0.0, 94.0, 201.0, 0.22, 0.3, 244.4], [0.13530970959113545, 14.396480014011905, 0.0, 115.0, 223.0, 0.12, 0.28, 294.4000000000001], [0.18783043244955225, 6.442221760087688, 0.0, 41.0, 37.0, 0.15, 0.1, 90.2], [0.14166842013060996, 8.37182223372724, 0.0, 113.0, 228.0, 0.21, 0.29, 291.54], [0.11086102637079913, 11.288906951345925, 0.0, 81.0, 215.0, 0.17, 0.33, 215.46], [0.10469607205063558, 8.279822034397457, 0.0, 112.0, 221.0, 0.28, 0.28, 286.72], [0.10078118741381704, 8.956131445334767, 0.0, 117.0, 231.0, 0.01, 0.28, 299.52], [0.232654576087934, 2.737565183658098, 0.0, 64.0, 82.0, 0.54, 0.19, 152.32], [0.5381569334763695, 5.373026238528694, 0.0, 57.0, 141.0, 0.17, 0.32, 150.48000000000005], [0.22697701375135998, 4.7291039084263335, 0.0, 38.0, 71.0, 0.35, 0.28, 97.28], [0.08468591585815237, 6.601363588250357, 0.0, 104.0, 153.0, 0.14, 0.22, 253.76], [0.12729660075291607, 12.403141128603435, 0.0, 93.0, 224.0, 0.21, 0.32, 245.52], [0.10261147646632242, 3.729077403237306, 0.0, 8.0, 13.0, 81.21, 0.25, 20.0], [0.09604982792384194, 4.635853350493631, 0.0, 9.0, 13.0, 38.92, 0.21, 21.78], [0.5760612509775715, 6.443755471319972, 0.0, 90.0, 167.0, 0.13, 0.27, 228.6], [0.5644099509304069, 6.21014907694089, 0.0, 93.0, 170.0, 0.14, 0.27, 236.22], [0.5482423674448472, 4.412866665843731, 0.0, 57.0, 102.0, 0.28, 0.26, 143.64], [0.5584563346805843, 5.527022319674582, 0.0, 100.0, 154.0, 1.22, 0.23, 246.0], [0.09916279330550117, 8.790458586025567, 0.0, 66.0, 168.0, 0.0, 0.33, 175.56], [0.4909508026740868, 6.721871925244749, 0.0, 109.0, 185.0, 0.32, 0.25, 272.5], [0.6150070376213015, 4.36049983077561, 0.13375199999288154, 63.0, 103.0, 1.28, 0.25, 157.5], [0.534721540820561, 4.6278905702052295, 0.0, 61.0, 167.0, 0.77, 0.34, 163.48000000000005], [0.19177160444440325, 2.8874404692956204, 0.0, 4.0, 10.0, 0.51, 0.31, 10.48], [0.1868917489899183, 2.813966129002046, 0.39928444444647937, 4.0, 10.0, 0.51, 0.31, 10.48], [0.3519040110202453, 6.119908708768535, 0.0, 109.0, 237.0, 0.55, 0.3, 283.4000000000001], [0.09863739148510996, 7.009997926141202, 0.0, 105.0, 209.0, 0.7, 0.28, 268.8], [0.17251220621189572, 4.24244114382408, 0.0, 57.0, 83.0, 0.24, 0.22, 139.07999999999998], [0.6520922878253909, 5.028561988457564, 0.0, 141.0, 252.0, 0.74, 0.26, 355.32], [0.1079558417908866, 8.897149751943562, 0.0, 87.0, 241.0, 0.06, 0.34, 233.16000000000003], [0.1232767241774399, 11.527850109864431, 0.0, 92.0, 216.0, 0.34, 0.31, 241.04], [0.13484284050515613, 10.893700465900842, 0.0, 68.0, 177.0, 0.55, 0.33, 180.88], [0.11822678448636442, 13.101709654551087, 0.0, 114.0, 226.0, 0.05, 0.28, 291.8400000000001], [0.1334966013799404, 11.01218075336865, 0.0, 71.0, 180.0, 0.46, 0.33, 188.86], [0.13730043256093735, 8.448733889055742, 0.0, 81.0, 166.0, 0.26, 0.29, 208.98], [0.12133852665864442, 5.335198709008782, 0.0, 30.0, 71.0, 4.01, 0.31, 78.60000000000002], [0.10932405278914388, 10.082341034941981, 0.0, 105.0, 193.0, 0.0, 0.27, 266.7], [0.12303932346670265, 9.255031963944624, 0.0, 92.0, 246.0, 0.39, 0.33, 244.72000000000003], [0.13385766688209033, 8.509189719181911, 0.0, 0.0, 216.0, -10.04, 0.5, 0.0], [0.15469916935341554, 13.650067435387129, 0.0, 98.0, 279.0, 0.26, 0.34, 262.64000000000004], [0.1159841298014464, 11.748825266136697, 0.0, 113.0, 200.0, 0.16, 0.26, 284.76], [0.19072403694552734, 5.298203066165791, 0.0, 29.0, 31.0, 0.1, 0.15, 66.69999999999999], [0.15314362290999622, 4.359774617224337, 0.0, 58.0, 112.0, 1.71, 0.28, 148.48], [0.5158818122954997, 6.800064763295188, 0.0, 54.0, 136.0, 0.83, 0.32, 142.56], [0.1572309543457913, 7.08015918030501, 0.0, 114.0, 212.0, 0.28, 0.27, 289.56], [0.14858366657723296, 6.2192072270670735, 0.0, 20.0, 44.0, 5.77, 0.31, 52.40000000000001], [0.10425261260018777, 7.462931908100589, 0.0, 100.0, 228.0, 0.68, 0.31, 262.0], [0.10700322733185057, 11.48774668131345, 0.0, 121.0, 244.0, 0.17, 0.29, 312.18], [0.12731991230352435, 7.877527056902012, 0.0, 117.0, 238.0, 0.1, 0.29, 301.86], [0.10993765448313174, 9.894290736464225, 0.0, 99.0, 179.0, 0.38, 0.27, 251.46], [0.14323680400557162, 5.344951144606184, 0.0, 22.0, 33.0, 0.39, 0.22, 53.68], [0.14919866991593028, 8.743219427109066, 0.0, 79.0, 194.0, 0.84, 0.32, 208.56], [0.540063706340293, 7.195147262239946, 0.0, 58.0, 147.0, 0.76, 0.33, 154.28], [0.5279940874975735, 5.3163677666726015, 0.0, 51.0, 132.0, 1.05, 0.33, 135.66], [0.11020803073725438, 8.127472795521589, 0.0, 79.0, 160.0, 0.17, 0.29, 203.82], [0.23851397108542435, 5.133429311502063, 0.0, 8.0, 13.0, 35.29, 0.23, 19.68], [0.12209286280017285, 4.041801787827741, 0.0, 25.0, 40.0, 0.81, 0.24, 62.0], [0.11546914890478187, 8.235170019048995, 0.9685127083329804, 83.0, 162.0, 0.17, 0.28, 212.48], [0.4937966527611738, 5.791987933661409, 0.0, 72.0, 148.0, 2.01, 0.29, 185.76], [0.19982542263531236, 4.103609345333783, 0.0, 48.0, 75.0, 0.2, 0.24, 119.04], [0.2101784844328417, 5.44061750731909, 0.0, 38.0, 61.0, 0.13, 0.24, 94.24], [0.12090143187705532, 15.781759595357562, 0.0, 104.0, 244.0, 0.1, 0.31, 272.48], [0.12938277975415918, 15.789285102194825, 0.0, 107.0, 237.0, 0.12, 0.3, 278.2], [0.12020775117393795, 13.633753908163348, 0.0, 92.0, 225.0, 0.2, 0.32, 242.88], [0.1100038573001262, 10.112925283895589, 0.0, 70.0, 225.0, -4.94, 0.36, 190.4], [0.12665369093852502, 9.996395114027038, 0.0, 77.0, 218.0, 0.64, 0.34, 206.36], [0.17142919182641042, 8.770584948397081, 0.0, 56.0, 185.0, 3.02, 0.36, 152.32], [0.1679079732267066, 7.347107032217942, 0.0, 124.0, 212.0, 0.0, 0.26, 312.48], [0.12441602270764167, 13.374318316308761, 0.0, 115.0, 254.0, 0.04, 0.3, 299.0], [0.1341041936921924, 15.111363848229015, 0.0, 86.0, 211.0, 0.06, 0.32, 227.04], [0.1007774597130406, 9.10351746376203, 0.0, 71.0, 231.0, 0.0, 0.36, 193.12], [0.11917238295243085, 8.547752408455597, 0.0, 79.0, 228.0, 0.03, 0.34, 211.72], [0.21242860086707466, 6.157085004670352, 0.0, 20.0, 30.0, 0.02, 0.23, 49.2], [0.1033577231434715, 6.702489349412397, 0.0, 137.0, 203.0, 0.07, 0.22, 334.28], [0.10181860853933856, 6.3132262184641466, 0.0, 114.0, 173.0, 0.13, 0.23, 280.44], [0.09821700768116932, 6.873148549213753, 0.0, 140.0, 224.0, 0.3, 0.24, 347.2], [0.13500494658776938, 5.3005459385978915, 0.0, 26.0, 52.0, 3.88, 0.28, 66.56], [0.1425203209743536, 5.634994043706576, 0.0, 53.0, 139.0, 0.03, 0.33, 140.98000000000005], [0.15573925616842405, 6.755714455153214, 0.0, 26.0, 69.0, 6.69, 0.33, 69.16], [0.1273336009818362, 8.050504583793405, 0.0, 97.0, 158.0, 0.07, 0.25, 242.5], [0.11992443874285105, 7.72927968986158, 0.0, 98.0, 218.0, 0.14, 0.3, 254.8], [0.506144688245364, 4.164169894413046, 0.0, 74.0, 172.0, 0.39, 0.31, 193.88], [0.5229618095406001, 5.294185786924752, 0.0, 35.0, 88.0, 4.41, 0.33, 93.1], [0.1906144579241789, 7.237400469189897, 0.0, 3.0, 23.0, 22.8, 0.44, 8.64], [0.5371107440379392, 7.078433397896309, 0.0, 59.0, 149.0, 0.59, 0.33, 156.94], [0.5069422196392815, 4.088579159122786, 0.0, 18.0, 39.0, 1.44, 0.3, 46.8], [0.5645783505140423, 5.414801144453101, 0.0, 97.0, 146.0, 0.5, 0.23, 238.62], [0.10436338957619094, 9.03245470779134, 0.0, 219.0, 269.0, 0.2, 0.18, 516.8399999999998], [0.10944831527732576, 6.8938867753575845, 0.0, 99.0, 174.0, 0.28, 0.26, 249.48], [0.12978147293857448, 7.312634988033594, 0.0, 45.0, 181.0, 3.21, 0.39, 125.1], [0.18789315339443252, 5.02695262658329, 0.0, 1.0, 6.0, -12.87, 0.43, 2.86], [0.16409855615166138, 4.452127602626853, 0.0, 12.0, 11.0, -9.7, 0.09, 26.160000000000004], [0.13567875069210691, 4.064234460733292, 0.0, 4.0, 8.0, 8.77, 0.28, 10.24], [0.6161687462704385, 4.368736533866952, 0.0, 41.0, 103.0, 4.1, 0.33, 109.06], [0.3424961292704621, 3.985365438865748, 0.0, 53.0, 101.0, 1.64, 0.28, 135.68], [0.4823326505154458, 4.8191428216500185, 0.0, 59.0, 163.0, 0.29, 0.34, 158.12], [0.1511482516474455, 8.690848167675494, 0.0, 65.0, 175.0, 0.11, 0.33, 172.9], [0.12569397510963748, 10.42212331011794, 0.0, 95.0, 208.0, 0.03, 0.3, 247.0], [0.148391280364941, 15.27276004754731, 0.0, 88.0, 204.0, 0.11, 0.31, 230.56], [0.1324608036324706, 8.908701471523768, 0.0, 96.0, 222.0, 0.28, 0.31, 251.52], [0.1505177925879292, 11.624328147498465, 0.0, 64.0, 164.0, 0.59, 0.33, 170.24], [0.13007693143512306, 8.355342748720586, 0.0, 66.0, 186.0, 0.24, 0.34, 176.88000000000005], [0.30194868648029194, 3.8319813334541464, 0.0, 11.0, 23.0, 0.15, 0.3, 28.6], [0.3273680829101072, 4.226923112669806, 0.0, 9.0, 20.0, 0.43, 0.31, 23.58], [0.5186949402243096, 5.954351128512361, 0.0, 59.0, 161.0, 0.44, 0.34, 158.12], [0.12337015738445332, 11.976583686556351, 0.0, 108.0, 195.0, 0.44, 0.27, 274.32], [0.5916493049214825, 3.6974659036985327, 0.0, 12.0, 27.0, 0.82, 0.3, 31.200000000000006], [0.10166692192344784, 7.756326811994946, 0.0, 119.0, 206.0, 0.4, 0.26, 299.88], [0.4449300700227994, 5.594730809522852, 0.0, 84.0, 139.0, 1.0, 0.25, 210.0], [0.5412161022511386, 5.84060963534009, 0.0, 77.0, 134.0, 0.22, 0.26, 194.04]]\n"
     ]
    },
    {
     "data": {
      "text/html": [
       "<div>\n",
       "<style scoped>\n",
       "    .dataframe tbody tr th:only-of-type {\n",
       "        vertical-align: middle;\n",
       "    }\n",
       "\n",
       "    .dataframe tbody tr th {\n",
       "        vertical-align: top;\n",
       "    }\n",
       "\n",
       "    .dataframe thead th {\n",
       "        text-align: right;\n",
       "    }\n",
       "</style>\n",
       "<table border=\"1\" class=\"dataframe\">\n",
       "  <thead>\n",
       "    <tr style=\"text-align: right;\">\n",
       "      <th></th>\n",
       "      <th>IPF</th>\n",
       "      <th>Density</th>\n",
       "      <th>E_above_Hull</th>\n",
       "      <th>G_VRH</th>\n",
       "      <th>K_VRH</th>\n",
       "      <th>Elastic_Anisotropy</th>\n",
       "      <th>poisson_ratio</th>\n",
       "    </tr>\n",
       "  </thead>\n",
       "  <tbody>\n",
       "    <tr>\n",
       "      <th>0</th>\n",
       "      <td>0.123603</td>\n",
       "      <td>4.019533</td>\n",
       "      <td>0.0</td>\n",
       "      <td>15.0</td>\n",
       "      <td>23.0</td>\n",
       "      <td>72.82</td>\n",
       "      <td>0.24</td>\n",
       "    </tr>\n",
       "    <tr>\n",
       "      <th>1</th>\n",
       "      <td>0.153629</td>\n",
       "      <td>10.559309</td>\n",
       "      <td>0.0</td>\n",
       "      <td>74.0</td>\n",
       "      <td>190.0</td>\n",
       "      <td>1.39</td>\n",
       "      <td>0.33</td>\n",
       "    </tr>\n",
       "    <tr>\n",
       "      <th>2</th>\n",
       "      <td>0.108718</td>\n",
       "      <td>7.190485</td>\n",
       "      <td>0.0</td>\n",
       "      <td>198.0</td>\n",
       "      <td>274.0</td>\n",
       "      <td>0.11</td>\n",
       "      <td>0.21</td>\n",
       "    </tr>\n",
       "    <tr>\n",
       "      <th>3</th>\n",
       "      <td>0.103324</td>\n",
       "      <td>7.982742</td>\n",
       "      <td>0.0</td>\n",
       "      <td>49.0</td>\n",
       "      <td>96.0</td>\n",
       "      <td>0.18</td>\n",
       "      <td>0.28</td>\n",
       "    </tr>\n",
       "    <tr>\n",
       "      <th>4</th>\n",
       "      <td>0.120294</td>\n",
       "      <td>6.853194</td>\n",
       "      <td>0.0</td>\n",
       "      <td>78.0</td>\n",
       "      <td>165.0</td>\n",
       "      <td>0.03</td>\n",
       "      <td>0.30</td>\n",
       "    </tr>\n",
       "    <tr>\n",
       "      <th>5</th>\n",
       "      <td>0.115653</td>\n",
       "      <td>4.710120</td>\n",
       "      <td>0.0</td>\n",
       "      <td>126.0</td>\n",
       "      <td>155.0</td>\n",
       "      <td>0.05</td>\n",
       "      <td>0.18</td>\n",
       "    </tr>\n",
       "    <tr>\n",
       "      <th>6</th>\n",
       "      <td>0.124284</td>\n",
       "      <td>8.136718</td>\n",
       "      <td>0.0</td>\n",
       "      <td>97.0</td>\n",
       "      <td>167.0</td>\n",
       "      <td>0.20</td>\n",
       "      <td>0.26</td>\n",
       "    </tr>\n",
       "    <tr>\n",
       "      <th>7</th>\n",
       "      <td>0.137380</td>\n",
       "      <td>16.497626</td>\n",
       "      <td>0.0</td>\n",
       "      <td>108.0</td>\n",
       "      <td>244.0</td>\n",
       "      <td>0.69</td>\n",
       "      <td>0.31</td>\n",
       "    </tr>\n",
       "    <tr>\n",
       "      <th>8</th>\n",
       "      <td>0.099406</td>\n",
       "      <td>11.009972</td>\n",
       "      <td>0.0</td>\n",
       "      <td>128.0</td>\n",
       "      <td>271.0</td>\n",
       "      <td>0.56</td>\n",
       "      <td>0.30</td>\n",
       "    </tr>\n",
       "    <tr>\n",
       "      <th>9</th>\n",
       "      <td>0.250781</td>\n",
       "      <td>7.094396</td>\n",
       "      <td>0.0</td>\n",
       "      <td>19.0</td>\n",
       "      <td>28.0</td>\n",
       "      <td>3.63</td>\n",
       "      <td>0.22</td>\n",
       "    </tr>\n",
       "  </tbody>\n",
       "</table>\n",
       "</div>"
      ],
      "text/plain": [
       "        IPF    Density  E_above_Hull  G_VRH  K_VRH  Elastic_Anisotropy  \\\n",
       "0  0.123603   4.019533           0.0   15.0   23.0               72.82   \n",
       "1  0.153629  10.559309           0.0   74.0  190.0                1.39   \n",
       "2  0.108718   7.190485           0.0  198.0  274.0                0.11   \n",
       "3  0.103324   7.982742           0.0   49.0   96.0                0.18   \n",
       "4  0.120294   6.853194           0.0   78.0  165.0                0.03   \n",
       "5  0.115653   4.710120           0.0  126.0  155.0                0.05   \n",
       "6  0.124284   8.136718           0.0   97.0  167.0                0.20   \n",
       "7  0.137380  16.497626           0.0  108.0  244.0                0.69   \n",
       "8  0.099406  11.009972           0.0  128.0  271.0                0.56   \n",
       "9  0.250781   7.094396           0.0   19.0   28.0                3.63   \n",
       "\n",
       "   poisson_ratio  \n",
       "0           0.24  \n",
       "1           0.33  \n",
       "2           0.21  \n",
       "3           0.28  \n",
       "4           0.30  \n",
       "5           0.18  \n",
       "6           0.26  \n",
       "7           0.31  \n",
       "8           0.30  \n",
       "9           0.22  "
      ]
     },
     "execution_count": 5,
     "metadata": {},
     "output_type": "execute_result"
    }
   ],
   "source": [
    "all_values = df.values.tolist() # Values for Attributes\n",
    "print(all_values)\n",
    "all_labels = [] # Values for Young's Modulus (Property to be estimated)\n",
    "all_labels = df['Y_Modulus'].tolist()\n",
    "df = df.drop(['Y_Modulus'], axis=1)\n",
    "df.head(n=10)"
   ]
  },
  {
   "cell_type": "code",
   "execution_count": 6,
   "metadata": {},
   "outputs": [
    {
     "name": "stdout",
     "output_type": "stream",
     "text": [
      "Shape of Values: (172, 7)\n",
      "Shape of Labels: (172,)\n",
      "[-0.45215794 -1.33522622 -0.14217621 -1.57896812 -1.95935995  5.67448115\n",
      " -0.70788758]\n",
      "[ 2.63650164 -0.85813364 -0.14217621  0.33634824 -0.26764807 -0.20844586\n",
      " -0.8775092 ]\n",
      "[  0   1   2   3   4   5   6   7   8   9  10  11  12  13  14  15  16  17\n",
      "  18  19  20  21  22  23  24  25  26  27  28  29  30  31  32  33  34  35\n",
      "  36  37  38  39  40  41  42  43  44  45  46  47  48  49  50  51  52  53\n",
      "  54  55  56  57  58  59  60  61  62  63  64  65  66  67  68  69  70  71\n",
      "  72  73  74  75  76  77  78  79  80  81  82  83  84  85  86  87  88  89\n",
      "  90  91  92  93  94  95  96  97  98  99 100 101 102 103 104 105 106 107\n",
      " 108 109 110 111 112 113 114 115 116 117 118 119 120 121 122 123 124 125\n",
      " 126 127 128 129 130 131 132 133 134 135 136 137 138 139 140 141 142 143\n",
      " 144 145 146 147 148 149 150 151 152 153 154 155 156 157 158 159 160 161\n",
      " 162 163 164 165 166 167 168 169]\n"
     ]
    }
   ],
   "source": [
    "#We will rewrite the arrays with the patches we made on the dataset \n",
    "# by turning the dataframe back into a list of lists\n",
    "\n",
    "all_values = [list(df.iloc[x]) for x in range(len(all_values))]\n",
    "\n",
    "# SETS\n",
    "\n",
    "# List of lists are turned into Numpy arrays to facilitate calculations in steps to follow (Normalization).\n",
    "all_values = np.array(all_values, dtype = float) \n",
    "print(\"Shape of Values:\", all_values.shape)\n",
    "all_labels = np.array(all_labels, dtype = float)\n",
    "print(\"Shape of Labels:\", all_labels.shape)\n",
    "\n",
    "# Uncomment the line below to shuffle the dataset \n",
    "#(we do not do this here to ensure consistent results for every run)\n",
    "#order = np.argsort(np.random.random(all_labels.shape)) \n",
    "# This numpy argsort returns the indexes that would be used to shuffle a list\n",
    "order = np.arange(170)\n",
    "all_values = all_values[order]\n",
    "all_labels = all_labels[order]\n",
    "\n",
    "# Training Set\n",
    "train_labels = all_labels[:150]\n",
    "train_values = all_values[:150]\n",
    "\n",
    "# Testing Set\n",
    "test_labels = all_labels[-22:]\n",
    "test_values = all_values[-22:]\n",
    "\n",
    "# This line is used for labels in the plots at the end of the tutorial - Testing Set\n",
    "\n",
    "labeled_elements = [elements[x] for x in order[-22:]] \n",
    "elements = [elements[x] for x in order]\n",
    "\n",
    "# NORMALIZATION\n",
    "\n",
    "mean = np.mean(train_values, axis = 0) # mean\n",
    "std = np.std(train_values, axis = 0) # standard deviation\n",
    "\n",
    "train_values = (train_values - mean) / std # input scaling\n",
    "test_values = (test_values - mean) / std # input scaling\n",
    "\n",
    "print(train_values[0]) # print a sample entry from the training set\n",
    "print(test_values[0]) # print a sample entry from the training set\n",
    "print(order)"
   ]
  },
  {
   "cell_type": "markdown",
   "metadata": {},
   "source": [
    "### 3. Creating the Model\n",
    "\n",
    "For this regression, we will use a simple sequential neural network with one densely connected hidden layer. The optimizer used will be [RMSPropOptimizer](https://www.tensorflow.org/api_docs/python/tf/train/RMSPropOptimizer) (Root Mean Square Propagation).\n",
    "\n",
    "To learn more about Root Mean Squared Propagation, click [here](https://climin.readthedocs.io/en/latest/rmsprop.html).\n",
    "\n",
    "A cool tool developed by Tensorflow to visualize how a neural network learns, and play around with its parameters, can be found here [NN Tools](https://playground.tensorflow.org/)."
   ]
  },
  {
   "cell_type": "code",
   "execution_count": 7,
   "metadata": {},
   "outputs": [
    {
     "name": "stdout",
     "output_type": "stream",
     "text": [
      "WARNING:tensorflow:From C:\\Users\\Kayla Yano\\anaconda3\\envs\\PythonData\\lib\\site-packages\\tensorflow\\python\\keras\\initializers.py:143: calling RandomNormal.__init__ (from tensorflow.python.ops.init_ops) with dtype is deprecated and will be removed in a future version.\n",
      "Instructions for updating:\n",
      "Call initializer instance with the dtype argument instead of passing it to the constructor\n",
      "Model: \"sequential\"\n",
      "_________________________________________________________________\n",
      "Layer (type)                 Output Shape              Param #   \n",
      "=================================================================\n",
      "dense (Dense)                (None, 32)                256       \n",
      "_________________________________________________________________\n",
      "dense_1 (Dense)              (None, 64)                2112      \n",
      "_________________________________________________________________\n",
      "dense_2 (Dense)              (None, 64)                4160      \n",
      "_________________________________________________________________\n",
      "dense_3 (Dense)              (None, 1)                 65        \n",
      "=================================================================\n",
      "Total params: 6,593\n",
      "Trainable params: 6,593\n",
      "Non-trainable params: 0\n",
      "_________________________________________________________________\n"
     ]
    }
   ],
   "source": [
    "# DEFINITION OF THE MODEL\n",
    "\n",
    "# The weights of our neural network will be initialized in a random manner, using a seed allows for reproducibility\n",
    "kernel_init = initializers.RandomNormal(seed=0)\n",
    "# In a sequential model, the first layer must specify the input shape the model will expect; \n",
    "# in this case the value is train_values.shape[1] which is the number\n",
    "# of attributes (properties) and equals 17.\n",
    "\n",
    "model = Sequential()\n",
    "model.add(Dense(32, activation='relu', input_shape=(train_values.shape[1], ), kernel_initializer=kernel_init))\n",
    "model.add(Dense(64, activation='relu', kernel_initializer=kernel_init))\n",
    "model.add(Dense(64, activation='relu', kernel_initializer=kernel_init))\n",
    "model.add(Dense(1, kernel_initializer=kernel_init))\n",
    "\n",
    "# DEFINITION OF THE OPTIMIZER\n",
    "\n",
    "optimizer = optimizers.RMSprop(0.002) # Root Mean Squared Propagation\n",
    "\n",
    "# This line matches the optimizer to the model and states which metrics will evaluate the model's accuracy\n",
    "model.compile(loss='mae', optimizer=optimizer, metrics=['mae'])\n",
    "model.summary()"
   ]
  },
  {
   "cell_type": "markdown",
   "metadata": {},
   "source": [
    "#### TRAINING \n",
    "\n",
    "This model is trained for 2000 epochs, and we record the training accuracy in the history object.\n",
    "\n",
    "One **Epoch** occurs when you pass the entire dataset through the model. One **Batch** contains a subset of the dataset that can be fed to the model at the same time. A more detailed explanation of these concepts can be found in this [blog](https://towardsdatascience.com/epoch-vs-iterations-vs-batch-size-4dfb9c7ce9c9). As we have a really small dataset compared to the ones that are usually considered to be modeled by these neural networks, we are feeding all entries at the same time, so our batch is the entire dataset, and an epoch occurs when the batch is processed.\n",
    "\n",
    "This way, by plotting \"history\" we can see the evolution of the \"learning\" of the model, that is the decrease of the Mean Absolute Error. Models in Keras are fitted to the training set using the [**fit**](https://keras.io/models/model/#fit) method.\n",
    "\n",
    "The blue curve that will come up from the History object represents how the model is learning on the training data, and the orange curve represents the validation loss, which can be thought of as the way our model evaluates data that it was not trained in. This validation loss would start going up again when we start to overfit our data."
   ]
  },
  {
   "cell_type": "code",
   "execution_count": 8,
   "metadata": {},
   "outputs": [
    {
     "name": "stdout",
     "output_type": "stream",
     "text": [
      "Current Epoch: 2000 Training Loss: 6.090424                                       \r"
     ]
    },
    {
     "data": {
      "image/png": "[encoded data removed]",
      "text/plain": [
       "<Figure size 432x288 with 1 Axes>"
      ]
     },
     "metadata": {
      "needs_background": "light"
     },
     "output_type": "display_data"
    }
   ],
   "source": [
    "# EPOCH REAL TIME COUNTER CLASS\n",
    "class PrintEpNum(tf.keras.callbacks.Callback): # This is a function for the Epoch Counter\n",
    "    def on_epoch_end(self, epoch, logs):\n",
    "        sys.stdout.flush()\n",
    "        sys.stdout.write(\"Current Epoch: \" + str(epoch+1) + \" Training Loss: \" + \"%4f\" %logs.get('loss') + '                                       \\r') # Updates current Epoch Number\n",
    "\n",
    "EPOCHS = 2000 # Number of EPOCHS\n",
    "\n",
    "# HISTORY Object which contains how the model learned\n",
    "\n",
    "# Training Values (Properties), Training Labels (Known Young's Moduli) \n",
    "history = model.fit(train_values, train_labels, batch_size=train_values.shape[0], \n",
    "                    epochs=EPOCHS, verbose = False, validation_split=0.1, callbacks=[PrintEpNum()])\n",
    "\n",
    "\n",
    "# PLOTTING HISTORY USING MATPLOTLIB\n",
    "\n",
    "plt.figure()\n",
    "plt.xlabel('Epoch')\n",
    "plt.ylabel('Mean Abs Error')\n",
    "plt.plot(history.epoch, np.array(history.history['mean_absolute_error']),label='Loss on training set') \n",
    "plt.plot(history.epoch, np.array(history.history['val_mean_absolute_error']),label = 'Validation loss')\n",
    "plt.legend()\n",
    "plt.show()"
   ]
  },
  {
   "cell_type": "markdown",
   "metadata": {},
   "source": [
    "#### SAVING A MODEL\n",
    "\n",
    "Compiled and trained models in Keras can be saved and distributed in .h5 files using the `model.save()` method. Running the cell below will save the current model we trained, both weights and architecture to your home directory."
   ]
  },
  {
   "cell_type": "code",
   "execution_count": 9,
   "metadata": {},
   "outputs": [],
   "source": [
    "model.save(os.path.expanduser('~/model.h5'))"
   ]
  },
  {
   "cell_type": "markdown",
   "metadata": {},
   "source": [
    "#### TESTING\n",
    "\n",
    "Models in Keras are tested using the method [**evaluate**](https://keras.io/models/model/#evaluate). This method returns the testing loss of the model and the metrics we specified when creating it,  which in our case it's the Mean Absolute Error. For the original model in this tutorial you should get a value of around **20 GPa** for the Mean Absolute Error. This value would decrease with more training data, more attributes/features, or a different optimizer. In the case of a model that overfits, you can expect values to start increasing to around **30 or 40 GPa**."
   ]
  },
  {
   "cell_type": "code",
   "execution_count": 10,
   "metadata": {},
   "outputs": [
    {
     "name": "stdout",
     "output_type": "stream",
     "text": [
      "Testing Set Mean Absolute Error: 13.992 GPa\n"
     ]
    }
   ],
   "source": [
    "[loss, mae] = model.evaluate(test_values, test_labels, verbose=0)\n",
    "\n",
    "print(\"Testing Set Mean Absolute Error: {:2.3f} GPa\".format(mae))"
   ]
  },
  {
   "cell_type": "markdown",
   "metadata": {},
   "source": [
    "#### MAKING PREDICTIONS\n",
    "\n",
    "The last step in a regression model is to make predictions for values not in the training set, which are determined by the method [**predict**](https://keras.io/models/model/#predict). In the following cell we print the elements in the testing set, the real values for their Young's moduli and the predictions generated by our machine learned model."
   ]
  },
  {
   "cell_type": "code",
   "execution_count": 11,
   "metadata": {},
   "outputs": [
    {
     "name": "stdout",
     "output_type": "stream",
     "text": [
      "Elements in Test Set:  ['NaNbO2', 'HfNbB4', 'ZrNbP', 'NbAlNi2', 'NbTeI3', 'NbBr2O', 'NbBr3O', 'KNbO3', 'NbO2F', 'NbGaO4', 'LiNbRh2', 'NbInRu2', 'TmNbOs2', 'TiNbTc2', 'YbNbRu2', 'ScNbTc2', 'Rb2NbF6', 'Cs2NbF6', 'NbInO4', 'TaNbTc2', 'Rb3NbO8', 'Nb2AsC']\n",
      "Real Values [238.62, 516.8399999999998, 249.48, 125.1, 2.86, 26.160000000000004, 10.24, 109.06, 135.68, 158.12, 172.9, 247.0, 230.56, 251.52, 170.24, 176.88000000000005, 28.6, 23.58, 158.12, 274.32, 31.200000000000006, 299.88]\n",
      "Predictions [244.161, 533.08453, 249.9811, 119.20458, 52.643967, 64.90389, 27.901943, 136.31252, 131.14857, 161.61383, 175.71188, 248.42426, 237.37477, 252.1277, 172.07072, 179.55205, 48.289314, 49.278355, 162.5458, 274.91138, 102.787834, 299.90076]\n"
     ]
    }
   ],
   "source": [
    "test_predictions = model.predict(test_values).flatten()\n",
    "\n",
    "print(\"Elements in Test Set: \", labeled_elements)\n",
    "print(\"Real Values\", list(test_labels))\n",
    "print(\"Predictions\", list(test_predictions))\n",
    "\n",
    "values = np.concatenate((train_values, test_values), axis=0) # This line joins the values together to evaluate all of them\n",
    "predictions = model.predict(values).flatten()"
   ]
  },
  {
   "cell_type": "markdown",
   "metadata": {},
   "source": [
    "### 4. Plotting\n",
    "\n",
    "The easiest way to see if the model did a good job estimating the Young's Modulus for the Elements is through a plot comparing Real Values with their Predictions. We will use [Plotly](https://plot.ly/python/) to create a plot like that. We covered how to plot in Plotly in the first tutorial of this tool. For values in this plot, the line (x = y) indicates a perfect match and would be the desirable result for the points. As you analyze the plot, you can hover on the points to see the data we obtained in the cell above."
   ]
  },
  {
   "cell_type": "code",
   "execution_count": 12,
   "metadata": {},
   "outputs": [
    {
     "data": {
      "text/html": [
       "        <script type=\"text/javascript\">\n",
       "        window.PlotlyConfig = {MathJaxConfig: 'local'};\n",
       "        if (window.MathJax) {MathJax.Hub.Config({SVG: {font: \"STIX-Web\"}});}\n",
       "        if (typeof require !== 'undefined') {\n",
       "        require.undef(\"plotly\");\n",
       "        requirejs.config({\n",
       "            paths: {\n",
       "                'plotly': ['https://cdn.plot.ly/plotly-latest.min']\n",
       "            }\n",
       "        });\n",
       "        require(['plotly'], function(Plotly) {\n",
       "            window._Plotly = Plotly;\n",
       "        });\n",
       "        }\n",
       "        </script>\n",
       "        "
      ]
     },
     "metadata": {},
     "output_type": "display_data"
    },
    {
     "data": {
      "application/vnd.plotly.v1+json": {
       "config": {
        "linkText": "Export to plot.ly",
        "plotlyServerURL": "https://plot.ly",
        "showLink": false
       },
       "data": [
        {
         "marker": {
          "color": "blue",
          "size": 12
         },
         "mode": "markers",
         "name": "Young's Modulus (Training)",
         "text": [
          "NbS2",
          "NbPd2",
          "Nb3B4",
          "NbSn2",
          "Be2Nb3",
          "Be3Nb",
          "Nb3Ga2",
          "NbPt2",
          "NbRu3",
          "NbTe2",
          "NbSi2",
          "Mn2Nb",
          "Nb3Sn",
          "NbIr",
          "Nb5Si3",
          "Nb5(CuSi)4",
          "NbNi3",
          "Nb3Ir",
          "Nb3Rh",
          "NbAu2",
          "NbAl3",
          "Nb2Al",
          "Nb3Os",
          "NbRh",
          "NbSb2",
          "NbGa3",
          "Nb3Sb",
          "NbAs",
          "Nb3B2",
          "Nb3Au2",
          "NbSiPd",
          "NbO",
          "NbH2",
          "NbSi2",
          "NbB",
          "NbN",
          "Nb3Pt",
          "Nb5Sb4",
          "Nb6C5",
          "Nb2Se",
          "Nb3Cl8",
          "Be17Nb2",
          "NbZn2",
          "NbGe2",
          "NbRu",
          "NbB2",
          "NbCr2",
          "NbO2",
          "Be12Nb",
          "Nb2C",
          "NbSe2",
          "NbZn16",
          "NbPd3",
          "Nb6Co7",
          "NbSe2",
          "NbAs2",
          "MnNbRu2",
          "TmNbRu2",
          "LuNbRu2",
          "NbAlOs2",
          "ScNbRu2",
          "NbP",
          "NbZn3",
          "Nb3Ru",
          "NbPt",
          "NbTl3Se4",
          "Nb2Co3Si",
          "NbSiPt",
          "NbSiRh",
          "NbAlRu2",
          "Li7NbN4",
          "Nb2ZnO6",
          "Sr2NbN3",
          "NbSiAs",
          "NbGeIr",
          "Nb3TeCl7",
          "Nb3SBr7",
          "BaNbO3",
          "Ba9Nb10O30",
          "LiNbO3",
          "LiNbO2",
          "NbSbRu",
          "BaNb4O6",
          "KNbO3",
          "ScNbO4",
          "Rb2NbCl6",
          "Rb2NbCl6",
          "NbNO",
          "MnNbSi",
          "LiNbS2",
          "NbBO4",
          "NbSiTc2",
          "HfNbTc2",
          "HoNbRu2",
          "ScNbOs2",
          "ErNbRu2",
          "NbFeSb",
          "NbSnS2",
          "NbGaRu2",
          "ZrNbTc2",
          "MgNbRh2",
          "LiNbIr2",
          "Nb2RuW",
          "Ba(NbN2)2",
          "LiNbN2",
          "TbNbO4",
          "NbCrP",
          "NbInSe2",
          "MnNbP",
          "NbSiIr",
          "NbCoP",
          "HfNbP",
          "NbCu3Se4",
          "NbGaCo2",
          "ErNbO4",
          "YNbO4",
          "Nb2SnC",
          "NbI2O",
          "NbCu3S4",
          "Nb5SiSn2",
          "SrNb2O4",
          "NaNbS2",
          "NaNbSe2",
          "Ta2NbOs",
          "Ta2NbIr",
          "Ta2NbRu",
          "NbGeRu2",
          "NbZnRu2",
          "NbZnCo2",
          "NbAlFe2",
          "TiNbRe2",
          "ErNbOs2",
          "BeNbRu2",
          "MgNbRu2",
          "NbCu3Te4",
          "Nb3AlC2",
          "Nb2AlC",
          "Nb2PC",
          "NbInS2",
          "NbZn2N3",
          "NbPbS2",
          "Nb2InC",
          "NbNiP",
          "NbAlO4",
          "BaNb2O6",
          "NbHg3F6",
          "HoNbO4",
          "RbNbO3",
          "NaNbO2",
          "HfNbB4",
          "ZrNbP",
          "NbAlNi2",
          "NbTeI3",
          "NbBr2O",
          "NbBr3O",
          "KNbO3",
          "NbO2F",
          "NbGaO4",
          "LiNbRh2",
          "NbInRu2",
          "TmNbOs2",
          "TiNbTc2",
          "YbNbRu2",
          "ScNbTc2",
          "Rb2NbF6",
          "Cs2NbF6",
          "NbInO4",
          "TaNbTc2",
          "Rb3NbO8",
          "Nb2AsC"
         ],
         "type": "scatter",
         "x": [
          37.2,
          196.84,
          479.16,
          125.44,
          202.8,
          297.36,
          244.44,
          282.9600000000001,
          332.8,
          46.36,
          330.4,
          204,
          63.36,
          277.2,
          305.04,
          248.92,
          206.36,
          270.40000000000003,
          233.18,
          171.52,
          247.8,
          209.92,
          240.24,
          211.72,
          166.98,
          210.54,
          213.2,
          223.52,
          409.92,
          163.48000000000005,
          213.84,
          352.8,
          210.6,
          330.4,
          472.8,
          519.06,
          212.8,
          138.6,
          392.84,
          148.20000000000005,
          19.84,
          334.4000000000001,
          206.64,
          252,
          148.39999999999995,
          475.8,
          175.36,
          212.8,
          309.12,
          299.52,
          32.5,
          87.78,
          208.56,
          248.9,
          32.5,
          217.8,
          232.32,
          195.36,
          204.36,
          335.4000000000001,
          236.6,
          274.68,
          177.5,
          244.4,
          294.4000000000001,
          90.2,
          291.54,
          215.46,
          286.72,
          299.52,
          152.32,
          150.48000000000005,
          97.28,
          253.76,
          245.52,
          20,
          21.78,
          228.6,
          236.22,
          143.64,
          246,
          175.56,
          272.5,
          157.5,
          163.48000000000005,
          10.48,
          10.48,
          283.4000000000001,
          268.8,
          139.07999999999998,
          355.32,
          233.16000000000003,
          241.04,
          180.88,
          291.8400000000001,
          188.86,
          208.98,
          78.60000000000002,
          266.7,
          244.72000000000003,
          0,
          262.64000000000004,
          284.76,
          66.69999999999999,
          148.48,
          142.56,
          289.56,
          52.40000000000001,
          262,
          312.18,
          301.86,
          251.46,
          53.68,
          208.56,
          154.28,
          135.66,
          203.82,
          19.68,
          62,
          212.48,
          185.76,
          119.04,
          94.24,
          272.48,
          278.2,
          242.88,
          190.4,
          206.36,
          152.32,
          312.48,
          299,
          227.04,
          193.12,
          211.72,
          49.2,
          334.28,
          280.44,
          347.2,
          66.56,
          140.98000000000005,
          69.16,
          242.5,
          254.8,
          193.88,
          93.1,
          8.64,
          156.94,
          46.8,
          238.62,
          516.8399999999998,
          249.48,
          125.1,
          2.86,
          26.160000000000004,
          10.24,
          109.06,
          135.68,
          158.12,
          172.9,
          247,
          230.56,
          251.52,
          170.24,
          176.88000000000005,
          28.6,
          23.58,
          158.12,
          274.32,
          31.200000000000006,
          299.88
         ],
         "y": [
          27.808441162109375,
          196.79600524902344,
          486.7453918457031,
          128.2788848876953,
          202.36294555664062,
          304.49713134765625,
          244.93125915527344,
          291.19793701171875,
          331.6226806640625,
          48.24607467651367,
          340.82086181640625,
          207.62013244628906,
          62.70001983642578,
          281.59893798828125,
          306.9468688964844,
          248.82472229003906,
          208.02713012695312,
          270.2947998046875,
          233.03468322753906,
          178.37803649902344,
          248.46812438964844,
          210.4114532470703,
          241.15235900878906,
          212.69879150390625,
          170.5666046142578,
          214.8571319580078,
          213.18609619140625,
          223.4287109375,
          414.760498046875,
          165.68812561035156,
          213.83509826660156,
          354.15496826171875,
          211.14535522460938,
          338.15484619140625,
          482.94482421875,
          522.4034423828125,
          214.09715270996094,
          139.98545837402344,
          398.7930908203125,
          148.5717010498047,
          23.888362884521484,
          348.098388671875,
          207.40467834472656,
          258.3431701660156,
          147.8380126953125,
          481.85406494140625,
          181.7761993408203,
          218.3550567626953,
          313.1406555175781,
          299.2551574707031,
          33.255252838134766,
          88.62125396728516,
          210.6886444091797,
          248.52432250976562,
          36.01242446899414,
          221.68954467773438,
          233.9219970703125,
          196.89512634277344,
          207.11770629882812,
          336.8506164550781,
          236.6324920654297,
          274.20172119140625,
          178.55491638183594,
          244.47166442871094,
          296.3880920410156,
          92.44937896728516,
          290.69287109375,
          218.39883422851562,
          287.2467956542969,
          300.67694091796875,
          154.8841552734375,
          154.29234313964844,
          99.1667709350586,
          257.5980224609375,
          246.74237060546875,
          24.38188362121582,
          24.955238342285156,
          233.9058074951172,
          239.88601684570312,
          148.4433135986328,
          250.7301483154297,
          177.14784240722656,
          276.41925048828125,
          158.77490234375,
          168.5021514892578,
          24.452247619628906,
          11.149045944213867,
          284.35614013671875,
          268.62359619140625,
          138.2159423828125,
          366.40673828125,
          235.739501953125,
          242.81036376953125,
          183.59042358398438,
          294.2109069824219,
          191.15846252441406,
          209.33299255371094,
          79.42479705810547,
          268.12872314453125,
          247.22364807128906,
          20.240764617919922,
          269.8271484375,
          287.19818115234375,
          68.09746551513672,
          150.0094451904297,
          145.81996154785156,
          289.52752685546875,
          53.9011344909668,
          260.96978759765625,
          312.24066162109375,
          301.2493591308594,
          251.85801696777344,
          55.68159866333008,
          208.8442840576172,
          159.51246643066406,
          139.56346130371094,
          204.01585388183594,
          22.213214874267578,
          68.5712661743164,
          216.7622528076172,
          182.03428649902344,
          119.64397430419922,
          92.43578338623047,
          282.03790283203125,
          286.7724304199219,
          247.3665008544922,
          201.52281188964844,
          209.052001953125,
          153.14370727539062,
          312.2149963378906,
          301.87701416015625,
          232.9679718017578,
          198.63145446777344,
          215.7290496826172,
          50.54191589355469,
          339.29693603515625,
          283.0401306152344,
          349.2763671875,
          64.82125091552734,
          146.57704162597656,
          66.53685760498047,
          243.54727172851562,
          255.66404724121094,
          194.13406372070312,
          108.697265625,
          62.499210357666016,
          161.7118377685547,
          89.01886749267578,
          244.16099548339844,
          533.0845336914062,
          244.16099548339844,
          533.0845336914062,
          249.98109436035156,
          119.20458221435547,
          52.64396667480469,
          64.90389251708984,
          27.90194320678711,
          136.31251525878906,
          131.14857482910156,
          161.61383056640625,
          175.71188354492188,
          248.42425537109375,
          237.37477111816406,
          252.12770080566406,
          172.0707244873047,
          179.5520477294922,
          48.28931427001953,
          49.27835464477539,
          162.54580688476562,
          274.911376953125,
          102.78783416748047,
          299.9007568359375
         ]
        },
        {
         "marker": {
          "color": "red",
          "size": 12
         },
         "mode": "markers",
         "name": "Young's Modulus (Testing)",
         "text": [
          "NaNbO2",
          "HfNbB4",
          "ZrNbP",
          "NbAlNi2",
          "NbTeI3",
          "NbBr2O",
          "NbBr3O",
          "KNbO3",
          "NbO2F",
          "NbGaO4",
          "LiNbRh2",
          "NbInRu2",
          "TmNbOs2",
          "TiNbTc2",
          "YbNbRu2",
          "ScNbTc2",
          "Rb2NbF6",
          "Cs2NbF6",
          "NbInO4",
          "TaNbTc2",
          "Rb3NbO8",
          "Nb2AsC"
         ],
         "type": "scatter",
         "x": [
          238.62,
          516.8399999999998,
          249.48,
          125.1,
          2.86,
          26.160000000000004,
          10.24,
          109.06,
          135.68,
          158.12,
          172.9,
          247,
          230.56,
          251.52,
          170.24,
          176.88000000000005,
          28.6,
          23.58,
          158.12,
          274.32,
          31.200000000000006,
          299.88
         ],
         "y": [
          244.16099548339844,
          533.0845336914062,
          249.98109436035156,
          119.20458221435547,
          52.64396667480469,
          64.90389251708984,
          27.90194320678711,
          136.31251525878906,
          131.14857482910156,
          161.61383056640625,
          175.71188354492188,
          248.42425537109375,
          237.37477111816406,
          252.12770080566406,
          172.0707244873047,
          179.5520477294922,
          48.28931427001953,
          49.27835464477539,
          162.54580688476562,
          274.911376953125,
          102.78783416748047,
          299.9007568359375
         ]
        },
        {
         "mode": "lines",
         "name": "Match",
         "type": "scatter",
         "x": [
          0,
          600
         ],
         "y": [
          0,
          600
         ]
        }
       ],
       "layout": {
        "height": 600,
        "hovermode": "closest",
        "legend": {
         "font": {
          "size": 24
         }
        },
        "showlegend": true,
        "template": {
         "data": {
          "bar": [
           {
            "error_x": {
             "color": "#2a3f5f"
            },
            "error_y": {
             "color": "#2a3f5f"
            },
            "marker": {
             "line": {
              "color": "#E5ECF6",
              "width": 0.5
             }
            },
            "type": "bar"
           }
          ],
          "barpolar": [
           {
            "marker": {
             "line": {
              "color": "#E5ECF6",
              "width": 0.5
             }
            },
            "type": "barpolar"
           }
          ],
          "carpet": [
           {
            "aaxis": {
             "endlinecolor": "#2a3f5f",
             "gridcolor": "white",
             "linecolor": "white",
             "minorgridcolor": "white",
             "startlinecolor": "#2a3f5f"
            },
            "baxis": {
             "endlinecolor": "#2a3f5f",
             "gridcolor": "white",
             "linecolor": "white",
             "minorgridcolor": "white",
             "startlinecolor": "#2a3f5f"
            },
            "type": "carpet"
           }
          ],
          "choropleth": [
           {
            "colorbar": {
             "outlinewidth": 0,
             "ticks": ""
            },
            "type": "choropleth"
           }
          ],
          "contour": [
           {
            "colorbar": {
             "outlinewidth": 0,
             "ticks": ""
            },
            "colorscale": [
             [
              0,
              "#0d0887"
             ],
             [
              0.1111111111111111,
              "#46039f"
             ],
             [
              0.2222222222222222,
              "#7201a8"
             ],
             [
              0.3333333333333333,
              "#9c179e"
             ],
             [
              0.4444444444444444,
              "#bd3786"
             ],
             [
              0.5555555555555556,
              "#d8576b"
             ],
             [
              0.6666666666666666,
              "#ed7953"
             ],
             [
              0.7777777777777778,
              "#fb9f3a"
             ],
             [
              0.8888888888888888,
              "#fdca26"
             ],
             [
              1,
              "#f0f921"
             ]
            ],
            "type": "contour"
           }
          ],
          "contourcarpet": [
           {
            "colorbar": {
             "outlinewidth": 0,
             "ticks": ""
            },
            "type": "contourcarpet"
           }
          ],
          "heatmap": [
           {
            "colorbar": {
             "outlinewidth": 0,
             "ticks": ""
            },
            "colorscale": [
             [
              0,
              "#0d0887"
             ],
             [
              0.1111111111111111,
              "#46039f"
             ],
             [
              0.2222222222222222,
              "#7201a8"
             ],
             [
              0.3333333333333333,
              "#9c179e"
             ],
             [
              0.4444444444444444,
              "#bd3786"
             ],
             [
              0.5555555555555556,
              "#d8576b"
             ],
             [
              0.6666666666666666,
              "#ed7953"
             ],
             [
              0.7777777777777778,
              "#fb9f3a"
             ],
             [
              0.8888888888888888,
              "#fdca26"
             ],
             [
              1,
              "#f0f921"
             ]
            ],
            "type": "heatmap"
           }
          ],
          "heatmapgl": [
           {
            "colorbar": {
             "outlinewidth": 0,
             "ticks": ""
            },
            "colorscale": [
             [
              0,
              "#0d0887"
             ],
             [
              0.1111111111111111,
              "#46039f"
             ],
             [
              0.2222222222222222,
              "#7201a8"
             ],
             [
              0.3333333333333333,
              "#9c179e"
             ],
             [
              0.4444444444444444,
              "#bd3786"
             ],
             [
              0.5555555555555556,
              "#d8576b"
             ],
             [
              0.6666666666666666,
              "#ed7953"
             ],
             [
              0.7777777777777778,
              "#fb9f3a"
             ],
             [
              0.8888888888888888,
              "#fdca26"
             ],
             [
              1,
              "#f0f921"
             ]
            ],
            "type": "heatmapgl"
           }
          ],
          "histogram": [
           {
            "marker": {
             "colorbar": {
              "outlinewidth": 0,
              "ticks": ""
             }
            },
            "type": "histogram"
           }
          ],
          "histogram2d": [
           {
            "colorbar": {
             "outlinewidth": 0,
             "ticks": ""
            },
            "colorscale": [
             [
              0,
              "#0d0887"
             ],
             [
              0.1111111111111111,
              "#46039f"
             ],
             [
              0.2222222222222222,
              "#7201a8"
             ],
             [
              0.3333333333333333,
              "#9c179e"
             ],
             [
              0.4444444444444444,
              "#bd3786"
             ],
             [
              0.5555555555555556,
              "#d8576b"
             ],
             [
              0.6666666666666666,
              "#ed7953"
             ],
             [
              0.7777777777777778,
              "#fb9f3a"
             ],
             [
              0.8888888888888888,
              "#fdca26"
             ],
             [
              1,
              "#f0f921"
             ]
            ],
            "type": "histogram2d"
           }
          ],
          "histogram2dcontour": [
           {
            "colorbar": {
             "outlinewidth": 0,
             "ticks": ""
            },
            "colorscale": [
             [
              0,
              "#0d0887"
             ],
             [
              0.1111111111111111,
              "#46039f"
             ],
             [
              0.2222222222222222,
              "#7201a8"
             ],
             [
              0.3333333333333333,
              "#9c179e"
             ],
             [
              0.4444444444444444,
              "#bd3786"
             ],
             [
              0.5555555555555556,
              "#d8576b"
             ],
             [
              0.6666666666666666,
              "#ed7953"
             ],
             [
              0.7777777777777778,
              "#fb9f3a"
             ],
             [
              0.8888888888888888,
              "#fdca26"
             ],
             [
              1,
              "#f0f921"
             ]
            ],
            "type": "histogram2dcontour"
           }
          ],
          "mesh3d": [
           {
            "colorbar": {
             "outlinewidth": 0,
             "ticks": ""
            },
            "type": "mesh3d"
           }
          ],
          "parcoords": [
           {
            "line": {
             "colorbar": {
              "outlinewidth": 0,
              "ticks": ""
             }
            },
            "type": "parcoords"
           }
          ],
          "pie": [
           {
            "automargin": true,
            "type": "pie"
           }
          ],
          "scatter": [
           {
            "marker": {
             "colorbar": {
              "outlinewidth": 0,
              "ticks": ""
             }
            },
            "type": "scatter"
           }
          ],
          "scatter3d": [
           {
            "line": {
             "colorbar": {
              "outlinewidth": 0,
              "ticks": ""
             }
            },
            "marker": {
             "colorbar": {
              "outlinewidth": 0,
              "ticks": ""
             }
            },
            "type": "scatter3d"
           }
          ],
          "scattercarpet": [
           {
            "marker": {
             "colorbar": {
              "outlinewidth": 0,
              "ticks": ""
             }
            },
            "type": "scattercarpet"
           }
          ],
          "scattergeo": [
           {
            "marker": {
             "colorbar": {
              "outlinewidth": 0,
              "ticks": ""
             }
            },
            "type": "scattergeo"
           }
          ],
          "scattergl": [
           {
            "marker": {
             "colorbar": {
              "outlinewidth": 0,
              "ticks": ""
             }
            },
            "type": "scattergl"
           }
          ],
          "scattermapbox": [
           {
            "marker": {
             "colorbar": {
              "outlinewidth": 0,
              "ticks": ""
             }
            },
            "type": "scattermapbox"
           }
          ],
          "scatterpolar": [
           {
            "marker": {
             "colorbar": {
              "outlinewidth": 0,
              "ticks": ""
             }
            },
            "type": "scatterpolar"
           }
          ],
          "scatterpolargl": [
           {
            "marker": {
             "colorbar": {
              "outlinewidth": 0,
              "ticks": ""
             }
            },
            "type": "scatterpolargl"
           }
          ],
          "scatterternary": [
           {
            "marker": {
             "colorbar": {
              "outlinewidth": 0,
              "ticks": ""
             }
            },
            "type": "scatterternary"
           }
          ],
          "surface": [
           {
            "colorbar": {
             "outlinewidth": 0,
             "ticks": ""
            },
            "colorscale": [
             [
              0,
              "#0d0887"
             ],
             [
              0.1111111111111111,
              "#46039f"
             ],
             [
              0.2222222222222222,
              "#7201a8"
             ],
             [
              0.3333333333333333,
              "#9c179e"
             ],
             [
              0.4444444444444444,
              "#bd3786"
             ],
             [
              0.5555555555555556,
              "#d8576b"
             ],
             [
              0.6666666666666666,
              "#ed7953"
             ],
             [
              0.7777777777777778,
              "#fb9f3a"
             ],
             [
              0.8888888888888888,
              "#fdca26"
             ],
             [
              1,
              "#f0f921"
             ]
            ],
            "type": "surface"
           }
          ],
          "table": [
           {
            "cells": {
             "fill": {
              "color": "#EBF0F8"
             },
             "line": {
              "color": "white"
             }
            },
            "header": {
             "fill": {
              "color": "#C8D4E3"
             },
             "line": {
              "color": "white"
             }
            },
            "type": "table"
           }
          ]
         },
         "layout": {
          "annotationdefaults": {
           "arrowcolor": "#2a3f5f",
           "arrowhead": 0,
           "arrowwidth": 1
          },
          "coloraxis": {
           "colorbar": {
            "outlinewidth": 0,
            "ticks": ""
           }
          },
          "colorscale": {
           "diverging": [
            [
             0,
             "#8e0152"
            ],
            [
             0.1,
             "#c51b7d"
            ],
            [
             0.2,
             "#de77ae"
            ],
            [
             0.3,
             "#f1b6da"
            ],
            [
             0.4,
             "#fde0ef"
            ],
            [
             0.5,
             "#f7f7f7"
            ],
            [
             0.6,
             "#e6f5d0"
            ],
            [
             0.7,
             "#b8e186"
            ],
            [
             0.8,
             "#7fbc41"
            ],
            [
             0.9,
             "#4d9221"
            ],
            [
             1,
             "#276419"
            ]
           ],
           "sequential": [
            [
             0,
             "#0d0887"
            ],
            [
             0.1111111111111111,
             "#46039f"
            ],
            [
             0.2222222222222222,
             "#7201a8"
            ],
            [
             0.3333333333333333,
             "#9c179e"
            ],
            [
             0.4444444444444444,
             "#bd3786"
            ],
            [
             0.5555555555555556,
             "#d8576b"
            ],
            [
             0.6666666666666666,
             "#ed7953"
            ],
            [
             0.7777777777777778,
             "#fb9f3a"
            ],
            [
             0.8888888888888888,
             "#fdca26"
            ],
            [
             1,
             "#f0f921"
            ]
           ],
           "sequentialminus": [
            [
             0,
             "#0d0887"
            ],
            [
             0.1111111111111111,
             "#46039f"
            ],
            [
             0.2222222222222222,
             "#7201a8"
            ],
            [
             0.3333333333333333,
             "#9c179e"
            ],
            [
             0.4444444444444444,
             "#bd3786"
            ],
            [
             0.5555555555555556,
             "#d8576b"
            ],
            [
             0.6666666666666666,
             "#ed7953"
            ],
            [
             0.7777777777777778,
             "#fb9f3a"
            ],
            [
             0.8888888888888888,
             "#fdca26"
            ],
            [
             1,
             "#f0f921"
            ]
           ]
          },
          "colorway": [
           "#636efa",
           "#EF553B",
           "#00cc96",
           "#ab63fa",
           "#FFA15A",
           "#19d3f3",
           "#FF6692",
           "#B6E880",
           "#FF97FF",
           "#FECB52"
          ],
          "font": {
           "color": "#2a3f5f"
          },
          "geo": {
           "bgcolor": "white",
           "lakecolor": "white",
           "landcolor": "#E5ECF6",
           "showlakes": true,
           "showland": true,
           "subunitcolor": "white"
          },
          "hoverlabel": {
           "align": "left"
          },
          "hovermode": "closest",
          "mapbox": {
           "style": "light"
          },
          "paper_bgcolor": "white",
          "plot_bgcolor": "#E5ECF6",
          "polar": {
           "angularaxis": {
            "gridcolor": "white",
            "linecolor": "white",
            "ticks": ""
           },
           "bgcolor": "#E5ECF6",
           "radialaxis": {
            "gridcolor": "white",
            "linecolor": "white",
            "ticks": ""
           }
          },
          "scene": {
           "xaxis": {
            "backgroundcolor": "#E5ECF6",
            "gridcolor": "white",
            "gridwidth": 2,
            "linecolor": "white",
            "showbackground": true,
            "ticks": "",
            "zerolinecolor": "white"
           },
           "yaxis": {
            "backgroundcolor": "#E5ECF6",
            "gridcolor": "white",
            "gridwidth": 2,
            "linecolor": "white",
            "showbackground": true,
            "ticks": "",
            "zerolinecolor": "white"
           },
           "zaxis": {
            "backgroundcolor": "#E5ECF6",
            "gridcolor": "white",
            "gridwidth": 2,
            "linecolor": "white",
            "showbackground": true,
            "ticks": "",
            "zerolinecolor": "white"
           }
          },
          "shapedefaults": {
           "line": {
            "color": "#2a3f5f"
           }
          },
          "ternary": {
           "aaxis": {
            "gridcolor": "white",
            "linecolor": "white",
            "ticks": ""
           },
           "baxis": {
            "gridcolor": "white",
            "linecolor": "white",
            "ticks": ""
           },
           "bgcolor": "#E5ECF6",
           "caxis": {
            "gridcolor": "white",
            "linecolor": "white",
            "ticks": ""
           }
          },
          "title": {
           "x": 0.05
          },
          "xaxis": {
           "automargin": true,
           "gridcolor": "white",
           "linecolor": "white",
           "ticks": "",
           "title": {
            "standoff": 15
           },
           "zerolinecolor": "white",
           "zerolinewidth": 2
          },
          "yaxis": {
           "automargin": true,
           "gridcolor": "white",
           "linecolor": "white",
           "ticks": "",
           "title": {
            "standoff": 15
           },
           "zerolinecolor": "white",
           "zerolinewidth": 2
          }
         }
        },
        "title": {
         "font": {
          "size": 28
         },
         "text": "Neural Network Model - Nb compounds Young's Modulus"
        },
        "width": 1000,
        "xaxis": {
         "gridwidth": 1,
         "tickfont": {
          "size": 18
         },
         "title": {
          "font": {
           "size": 24
          },
          "text": "Real Values (GPa)"
         },
         "zeroline": false
        },
        "yaxis": {
         "gridwidth": 1,
         "tickfont": {
          "size": 18
         },
         "title": {
          "font": {
           "size": 24
          },
          "text": "Prediction (GPa)"
         },
         "zeroline": false
        }
       }
      },
      "text/html": [
       "<div>\n",
       "        \n",
       "        \n",
       "            <div id=\"5bc664c2-0e75-4827-8b82-92444c7249c5\" class=\"plotly-graph-div\" style=\"height:600px; width:1000px;\"></div>\n",
       "            <script type=\"text/javascript\">\n",
       "                require([\"plotly\"], function(Plotly) {\n",
       "                    window.PLOTLYENV=window.PLOTLYENV || {};\n",
       "                    \n",
       "                if (document.getElementById(\"5bc664c2-0e75-4827-8b82-92444c7249c5\")) {\n",
       "                    Plotly.newPlot(\n",
       "                        '5bc664c2-0e75-4827-8b82-92444c7249c5',\n",
       "                        [{\"marker\": {\"color\": \"blue\", \"size\": 12}, \"mode\": \"markers\", \"name\": \"Young's Modulus (Training)\", \"text\": [\"NbS2\", \"NbPd2\", \"Nb3B4\", \"NbSn2\", \"Be2Nb3\", \"Be3Nb\", \"Nb3Ga2\", \"NbPt2\", \"NbRu3\", \"NbTe2\", \"NbSi2\", \"Mn2Nb\", \"Nb3Sn\", \"NbIr\", \"Nb5Si3\", \"Nb5(CuSi)4\", \"NbNi3\", \"Nb3Ir\", \"Nb3Rh\", \"NbAu2\", \"NbAl3\", \"Nb2Al\", \"Nb3Os\", \"NbRh\", \"NbSb2\", \"NbGa3\", \"Nb3Sb\", \"NbAs\", \"Nb3B2\", \"Nb3Au2\", \"NbSiPd\", \"NbO\", \"NbH2\", \"NbSi2\", \"NbB\", \"NbN\", \"Nb3Pt\", \"Nb5Sb4\", \"Nb6C5\", \"Nb2Se\", \"Nb3Cl8\", \"Be17Nb2\", \"NbZn2\", \"NbGe2\", \"NbRu\", \"NbB2\", \"NbCr2\", \"NbO2\", \"Be12Nb\", \"Nb2C\", \"NbSe2\", \"NbZn16\", \"NbPd3\", \"Nb6Co7\", \"NbSe2\", \"NbAs2\", \"MnNbRu2\", \"TmNbRu2\", \"LuNbRu2\", \"NbAlOs2\", \"ScNbRu2\", \"NbP\", \"NbZn3\", \"Nb3Ru\", \"NbPt\", \"NbTl3Se4\", \"Nb2Co3Si\", \"NbSiPt\", \"NbSiRh\", \"NbAlRu2\", \"Li7NbN4\", \"Nb2ZnO6\", \"Sr2NbN3\", \"NbSiAs\", \"NbGeIr\", \"Nb3TeCl7\", \"Nb3SBr7\", \"BaNbO3\", \"Ba9Nb10O30\", \"LiNbO3\", \"LiNbO2\", \"NbSbRu\", \"BaNb4O6\", \"KNbO3\", \"ScNbO4\", \"Rb2NbCl6\", \"Rb2NbCl6\", \"NbNO\", \"MnNbSi\", \"LiNbS2\", \"NbBO4\", \"NbSiTc2\", \"HfNbTc2\", \"HoNbRu2\", \"ScNbOs2\", \"ErNbRu2\", \"NbFeSb\", \"NbSnS2\", \"NbGaRu2\", \"ZrNbTc2\", \"MgNbRh2\", \"LiNbIr2\", \"Nb2RuW\", \"Ba(NbN2)2\", \"LiNbN2\", \"TbNbO4\", \"NbCrP\", \"NbInSe2\", \"MnNbP\", \"NbSiIr\", \"NbCoP\", \"HfNbP\", \"NbCu3Se4\", \"NbGaCo2\", \"ErNbO4\", \"YNbO4\", \"Nb2SnC\", \"NbI2O\", \"NbCu3S4\", \"Nb5SiSn2\", \"SrNb2O4\", \"NaNbS2\", \"NaNbSe2\", \"Ta2NbOs\", \"Ta2NbIr\", \"Ta2NbRu\", \"NbGeRu2\", \"NbZnRu2\", \"NbZnCo2\", \"NbAlFe2\", \"TiNbRe2\", \"ErNbOs2\", \"BeNbRu2\", \"MgNbRu2\", \"NbCu3Te4\", \"Nb3AlC2\", \"Nb2AlC\", \"Nb2PC\", \"NbInS2\", \"NbZn2N3\", \"NbPbS2\", \"Nb2InC\", \"NbNiP\", \"NbAlO4\", \"BaNb2O6\", \"NbHg3F6\", \"HoNbO4\", \"RbNbO3\", \"NaNbO2\", \"HfNbB4\", \"ZrNbP\", \"NbAlNi2\", \"NbTeI3\", \"NbBr2O\", \"NbBr3O\", \"KNbO3\", \"NbO2F\", \"NbGaO4\", \"LiNbRh2\", \"NbInRu2\", \"TmNbOs2\", \"TiNbTc2\", \"YbNbRu2\", \"ScNbTc2\", \"Rb2NbF6\", \"Cs2NbF6\", \"NbInO4\", \"TaNbTc2\", \"Rb3NbO8\", \"Nb2AsC\"], \"type\": \"scatter\", \"x\": [37.2, 196.84, 479.16, 125.44, 202.8, 297.36, 244.44, 282.9600000000001, 332.8, 46.36, 330.4, 204.0, 63.36, 277.2, 305.04, 248.92, 206.36, 270.40000000000003, 233.18, 171.52, 247.8, 209.92, 240.24, 211.72, 166.98, 210.54, 213.2, 223.52, 409.92, 163.48000000000005, 213.84, 352.8, 210.6, 330.4, 472.8, 519.06, 212.8, 138.6, 392.84, 148.20000000000005, 19.84, 334.4000000000001, 206.64, 252.0, 148.39999999999995, 475.8, 175.36, 212.8, 309.12, 299.52, 32.5, 87.78, 208.56, 248.9, 32.5, 217.8, 232.32, 195.36, 204.36, 335.4000000000001, 236.6, 274.68, 177.5, 244.4, 294.4000000000001, 90.2, 291.54, 215.46, 286.72, 299.52, 152.32, 150.48000000000005, 97.28, 253.76, 245.52, 20.0, 21.78, 228.6, 236.22, 143.64, 246.0, 175.56, 272.5, 157.5, 163.48000000000005, 10.48, 10.48, 283.4000000000001, 268.8, 139.07999999999998, 355.32, 233.16000000000003, 241.04, 180.88, 291.8400000000001, 188.86, 208.98, 78.60000000000002, 266.7, 244.72000000000003, 0.0, 262.64000000000004, 284.76, 66.69999999999999, 148.48, 142.56, 289.56, 52.40000000000001, 262.0, 312.18, 301.86, 251.46, 53.68, 208.56, 154.28, 135.66, 203.82, 19.68, 62.0, 212.48, 185.76, 119.04, 94.24, 272.48, 278.2, 242.88, 190.4, 206.36, 152.32, 312.48, 299.0, 227.04, 193.12, 211.72, 49.2, 334.28, 280.44, 347.2, 66.56, 140.98000000000005, 69.16, 242.5, 254.8, 193.88, 93.1, 8.64, 156.94, 46.8, 238.62, 516.8399999999998, 249.48, 125.1, 2.86, 26.160000000000004, 10.24, 109.06, 135.68, 158.12, 172.9, 247.0, 230.56, 251.52, 170.24, 176.88000000000005, 28.6, 23.58, 158.12, 274.32, 31.200000000000006, 299.88], \"y\": [27.808441162109375, 196.79600524902344, 486.7453918457031, 128.2788848876953, 202.36294555664062, 304.49713134765625, 244.93125915527344, 291.19793701171875, 331.6226806640625, 48.24607467651367, 340.82086181640625, 207.62013244628906, 62.70001983642578, 281.59893798828125, 306.9468688964844, 248.82472229003906, 208.02713012695312, 270.2947998046875, 233.03468322753906, 178.37803649902344, 248.46812438964844, 210.4114532470703, 241.15235900878906, 212.69879150390625, 170.5666046142578, 214.8571319580078, 213.18609619140625, 223.4287109375, 414.760498046875, 165.68812561035156, 213.83509826660156, 354.15496826171875, 211.14535522460938, 338.15484619140625, 482.94482421875, 522.4034423828125, 214.09715270996094, 139.98545837402344, 398.7930908203125, 148.5717010498047, 23.888362884521484, 348.098388671875, 207.40467834472656, 258.3431701660156, 147.8380126953125, 481.85406494140625, 181.7761993408203, 218.3550567626953, 313.1406555175781, 299.2551574707031, 33.255252838134766, 88.62125396728516, 210.6886444091797, 248.52432250976562, 36.01242446899414, 221.68954467773438, 233.9219970703125, 196.89512634277344, 207.11770629882812, 336.8506164550781, 236.6324920654297, 274.20172119140625, 178.55491638183594, 244.47166442871094, 296.3880920410156, 92.44937896728516, 290.69287109375, 218.39883422851562, 287.2467956542969, 300.67694091796875, 154.8841552734375, 154.29234313964844, 99.1667709350586, 257.5980224609375, 246.74237060546875, 24.38188362121582, 24.955238342285156, 233.9058074951172, 239.88601684570312, 148.4433135986328, 250.7301483154297, 177.14784240722656, 276.41925048828125, 158.77490234375, 168.5021514892578, 24.452247619628906, 11.149045944213867, 284.35614013671875, 268.62359619140625, 138.2159423828125, 366.40673828125, 235.739501953125, 242.81036376953125, 183.59042358398438, 294.2109069824219, 191.15846252441406, 209.33299255371094, 79.42479705810547, 268.12872314453125, 247.22364807128906, 20.240764617919922, 269.8271484375, 287.19818115234375, 68.09746551513672, 150.0094451904297, 145.81996154785156, 289.52752685546875, 53.9011344909668, 260.96978759765625, 312.24066162109375, 301.2493591308594, 251.85801696777344, 55.68159866333008, 208.8442840576172, 159.51246643066406, 139.56346130371094, 204.01585388183594, 22.213214874267578, 68.5712661743164, 216.7622528076172, 182.03428649902344, 119.64397430419922, 92.43578338623047, 282.03790283203125, 286.7724304199219, 247.3665008544922, 201.52281188964844, 209.052001953125, 153.14370727539062, 312.2149963378906, 301.87701416015625, 232.9679718017578, 198.63145446777344, 215.7290496826172, 50.54191589355469, 339.29693603515625, 283.0401306152344, 349.2763671875, 64.82125091552734, 146.57704162597656, 66.53685760498047, 243.54727172851562, 255.66404724121094, 194.13406372070312, 108.697265625, 62.499210357666016, 161.7118377685547, 89.01886749267578, 244.16099548339844, 533.0845336914062, 244.16099548339844, 533.0845336914062, 249.98109436035156, 119.20458221435547, 52.64396667480469, 64.90389251708984, 27.90194320678711, 136.31251525878906, 131.14857482910156, 161.61383056640625, 175.71188354492188, 248.42425537109375, 237.37477111816406, 252.12770080566406, 172.0707244873047, 179.5520477294922, 48.28931427001953, 49.27835464477539, 162.54580688476562, 274.911376953125, 102.78783416748047, 299.9007568359375]}, {\"marker\": {\"color\": \"red\", \"size\": 12}, \"mode\": \"markers\", \"name\": \"Young's Modulus (Testing)\", \"text\": [\"NaNbO2\", \"HfNbB4\", \"ZrNbP\", \"NbAlNi2\", \"NbTeI3\", \"NbBr2O\", \"NbBr3O\", \"KNbO3\", \"NbO2F\", \"NbGaO4\", \"LiNbRh2\", \"NbInRu2\", \"TmNbOs2\", \"TiNbTc2\", \"YbNbRu2\", \"ScNbTc2\", \"Rb2NbF6\", \"Cs2NbF6\", \"NbInO4\", \"TaNbTc2\", \"Rb3NbO8\", \"Nb2AsC\"], \"type\": \"scatter\", \"x\": [238.62, 516.8399999999998, 249.48, 125.1, 2.86, 26.160000000000004, 10.24, 109.06, 135.68, 158.12, 172.9, 247.0, 230.56, 251.52, 170.24, 176.88000000000005, 28.6, 23.58, 158.12, 274.32, 31.200000000000006, 299.88], \"y\": [244.16099548339844, 533.0845336914062, 249.98109436035156, 119.20458221435547, 52.64396667480469, 64.90389251708984, 27.90194320678711, 136.31251525878906, 131.14857482910156, 161.61383056640625, 175.71188354492188, 248.42425537109375, 237.37477111816406, 252.12770080566406, 172.0707244873047, 179.5520477294922, 48.28931427001953, 49.27835464477539, 162.54580688476562, 274.911376953125, 102.78783416748047, 299.9007568359375]}, {\"mode\": \"lines\", \"name\": \"Match\", \"type\": \"scatter\", \"x\": [0, 600], \"y\": [0, 600]}],\n",
       "                        {\"height\": 600, \"hovermode\": \"closest\", \"legend\": {\"font\": {\"size\": 24}}, \"showlegend\": true, \"template\": {\"data\": {\"bar\": [{\"error_x\": {\"color\": \"#2a3f5f\"}, \"error_y\": {\"color\": \"#2a3f5f\"}, \"marker\": {\"line\": {\"color\": \"#E5ECF6\", \"width\": 0.5}}, \"type\": \"bar\"}], \"barpolar\": [{\"marker\": {\"line\": {\"color\": \"#E5ECF6\", \"width\": 0.5}}, \"type\": \"barpolar\"}], \"carpet\": [{\"aaxis\": {\"endlinecolor\": \"#2a3f5f\", \"gridcolor\": \"white\", \"linecolor\": \"white\", \"minorgridcolor\": \"white\", \"startlinecolor\": \"#2a3f5f\"}, \"baxis\": {\"endlinecolor\": \"#2a3f5f\", \"gridcolor\": \"white\", \"linecolor\": \"white\", \"minorgridcolor\": \"white\", \"startlinecolor\": \"#2a3f5f\"}, \"type\": \"carpet\"}], \"choropleth\": [{\"colorbar\": {\"outlinewidth\": 0, \"ticks\": \"\"}, \"type\": \"choropleth\"}], \"contour\": [{\"colorbar\": {\"outlinewidth\": 0, \"ticks\": \"\"}, \"colorscale\": [[0.0, \"#0d0887\"], [0.1111111111111111, \"#46039f\"], [0.2222222222222222, \"#7201a8\"], [0.3333333333333333, \"#9c179e\"], [0.4444444444444444, \"#bd3786\"], [0.5555555555555556, \"#d8576b\"], [0.6666666666666666, \"#ed7953\"], [0.7777777777777778, \"#fb9f3a\"], [0.8888888888888888, \"#fdca26\"], [1.0, \"#f0f921\"]], \"type\": \"contour\"}], \"contourcarpet\": [{\"colorbar\": {\"outlinewidth\": 0, \"ticks\": \"\"}, \"type\": \"contourcarpet\"}], \"heatmap\": [{\"colorbar\": {\"outlinewidth\": 0, \"ticks\": \"\"}, \"colorscale\": [[0.0, \"#0d0887\"], [0.1111111111111111, \"#46039f\"], [0.2222222222222222, \"#7201a8\"], [0.3333333333333333, \"#9c179e\"], [0.4444444444444444, \"#bd3786\"], [0.5555555555555556, \"#d8576b\"], [0.6666666666666666, \"#ed7953\"], [0.7777777777777778, \"#fb9f3a\"], [0.8888888888888888, \"#fdca26\"], [1.0, \"#f0f921\"]], \"type\": \"heatmap\"}], \"heatmapgl\": [{\"colorbar\": {\"outlinewidth\": 0, \"ticks\": \"\"}, \"colorscale\": [[0.0, \"#0d0887\"], [0.1111111111111111, \"#46039f\"], [0.2222222222222222, \"#7201a8\"], [0.3333333333333333, \"#9c179e\"], [0.4444444444444444, \"#bd3786\"], [0.5555555555555556, \"#d8576b\"], [0.6666666666666666, \"#ed7953\"], [0.7777777777777778, \"#fb9f3a\"], [0.8888888888888888, \"#fdca26\"], [1.0, \"#f0f921\"]], \"type\": \"heatmapgl\"}], \"histogram\": [{\"marker\": {\"colorbar\": {\"outlinewidth\": 0, \"ticks\": \"\"}}, \"type\": \"histogram\"}], \"histogram2d\": [{\"colorbar\": {\"outlinewidth\": 0, \"ticks\": \"\"}, \"colorscale\": [[0.0, \"#0d0887\"], [0.1111111111111111, \"#46039f\"], [0.2222222222222222, \"#7201a8\"], [0.3333333333333333, \"#9c179e\"], [0.4444444444444444, \"#bd3786\"], [0.5555555555555556, \"#d8576b\"], [0.6666666666666666, \"#ed7953\"], [0.7777777777777778, \"#fb9f3a\"], [0.8888888888888888, \"#fdca26\"], [1.0, \"#f0f921\"]], \"type\": \"histogram2d\"}], \"histogram2dcontour\": [{\"colorbar\": {\"outlinewidth\": 0, \"ticks\": \"\"}, \"colorscale\": [[0.0, \"#0d0887\"], [0.1111111111111111, \"#46039f\"], [0.2222222222222222, \"#7201a8\"], [0.3333333333333333, \"#9c179e\"], [0.4444444444444444, \"#bd3786\"], [0.5555555555555556, \"#d8576b\"], [0.6666666666666666, \"#ed7953\"], [0.7777777777777778, \"#fb9f3a\"], [0.8888888888888888, \"#fdca26\"], [1.0, \"#f0f921\"]], \"type\": \"histogram2dcontour\"}], \"mesh3d\": [{\"colorbar\": {\"outlinewidth\": 0, \"ticks\": \"\"}, \"type\": \"mesh3d\"}], \"parcoords\": [{\"line\": {\"colorbar\": {\"outlinewidth\": 0, \"ticks\": \"\"}}, \"type\": \"parcoords\"}], \"pie\": [{\"automargin\": true, \"type\": \"pie\"}], \"scatter\": [{\"marker\": {\"colorbar\": {\"outlinewidth\": 0, \"ticks\": \"\"}}, \"type\": \"scatter\"}], \"scatter3d\": [{\"line\": {\"colorbar\": {\"outlinewidth\": 0, \"ticks\": \"\"}}, \"marker\": {\"colorbar\": {\"outlinewidth\": 0, \"ticks\": \"\"}}, \"type\": \"scatter3d\"}], \"scattercarpet\": [{\"marker\": {\"colorbar\": {\"outlinewidth\": 0, \"ticks\": \"\"}}, \"type\": \"scattercarpet\"}], \"scattergeo\": [{\"marker\": {\"colorbar\": {\"outlinewidth\": 0, \"ticks\": \"\"}}, \"type\": \"scattergeo\"}], \"scattergl\": [{\"marker\": {\"colorbar\": {\"outlinewidth\": 0, \"ticks\": \"\"}}, \"type\": \"scattergl\"}], \"scattermapbox\": [{\"marker\": {\"colorbar\": {\"outlinewidth\": 0, \"ticks\": \"\"}}, \"type\": \"scattermapbox\"}], \"scatterpolar\": [{\"marker\": {\"colorbar\": {\"outlinewidth\": 0, \"ticks\": \"\"}}, \"type\": \"scatterpolar\"}], \"scatterpolargl\": [{\"marker\": {\"colorbar\": {\"outlinewidth\": 0, \"ticks\": \"\"}}, \"type\": \"scatterpolargl\"}], \"scatterternary\": [{\"marker\": {\"colorbar\": {\"outlinewidth\": 0, \"ticks\": \"\"}}, \"type\": \"scatterternary\"}], \"surface\": [{\"colorbar\": {\"outlinewidth\": 0, \"ticks\": \"\"}, \"colorscale\": [[0.0, \"#0d0887\"], [0.1111111111111111, \"#46039f\"], [0.2222222222222222, \"#7201a8\"], [0.3333333333333333, \"#9c179e\"], [0.4444444444444444, \"#bd3786\"], [0.5555555555555556, \"#d8576b\"], [0.6666666666666666, \"#ed7953\"], [0.7777777777777778, \"#fb9f3a\"], [0.8888888888888888, \"#fdca26\"], [1.0, \"#f0f921\"]], \"type\": \"surface\"}], \"table\": [{\"cells\": {\"fill\": {\"color\": \"#EBF0F8\"}, \"line\": {\"color\": \"white\"}}, \"header\": {\"fill\": {\"color\": \"#C8D4E3\"}, \"line\": {\"color\": \"white\"}}, \"type\": \"table\"}]}, \"layout\": {\"annotationdefaults\": {\"arrowcolor\": \"#2a3f5f\", \"arrowhead\": 0, \"arrowwidth\": 1}, \"coloraxis\": {\"colorbar\": {\"outlinewidth\": 0, \"ticks\": \"\"}}, \"colorscale\": {\"diverging\": [[0, \"#8e0152\"], [0.1, \"#c51b7d\"], [0.2, \"#de77ae\"], [0.3, \"#f1b6da\"], [0.4, \"#fde0ef\"], [0.5, \"#f7f7f7\"], [0.6, \"#e6f5d0\"], [0.7, \"#b8e186\"], [0.8, \"#7fbc41\"], [0.9, \"#4d9221\"], [1, \"#276419\"]], \"sequential\": [[0.0, \"#0d0887\"], [0.1111111111111111, \"#46039f\"], [0.2222222222222222, \"#7201a8\"], [0.3333333333333333, \"#9c179e\"], [0.4444444444444444, \"#bd3786\"], [0.5555555555555556, \"#d8576b\"], [0.6666666666666666, \"#ed7953\"], [0.7777777777777778, \"#fb9f3a\"], [0.8888888888888888, \"#fdca26\"], [1.0, \"#f0f921\"]], \"sequentialminus\": [[0.0, \"#0d0887\"], [0.1111111111111111, \"#46039f\"], [0.2222222222222222, \"#7201a8\"], [0.3333333333333333, \"#9c179e\"], [0.4444444444444444, \"#bd3786\"], [0.5555555555555556, \"#d8576b\"], [0.6666666666666666, \"#ed7953\"], [0.7777777777777778, \"#fb9f3a\"], [0.8888888888888888, \"#fdca26\"], [1.0, \"#f0f921\"]]}, \"colorway\": [\"#636efa\", \"#EF553B\", \"#00cc96\", \"#ab63fa\", \"#FFA15A\", \"#19d3f3\", \"#FF6692\", \"#B6E880\", \"#FF97FF\", \"#FECB52\"], \"font\": {\"color\": \"#2a3f5f\"}, \"geo\": {\"bgcolor\": \"white\", \"lakecolor\": \"white\", \"landcolor\": \"#E5ECF6\", \"showlakes\": true, \"showland\": true, \"subunitcolor\": \"white\"}, \"hoverlabel\": {\"align\": \"left\"}, \"hovermode\": \"closest\", \"mapbox\": {\"style\": \"light\"}, \"paper_bgcolor\": \"white\", \"plot_bgcolor\": \"#E5ECF6\", \"polar\": {\"angularaxis\": {\"gridcolor\": \"white\", \"linecolor\": \"white\", \"ticks\": \"\"}, \"bgcolor\": \"#E5ECF6\", \"radialaxis\": {\"gridcolor\": \"white\", \"linecolor\": \"white\", \"ticks\": \"\"}}, \"scene\": {\"xaxis\": {\"backgroundcolor\": \"#E5ECF6\", \"gridcolor\": \"white\", \"gridwidth\": 2, \"linecolor\": \"white\", \"showbackground\": true, \"ticks\": \"\", \"zerolinecolor\": \"white\"}, \"yaxis\": {\"backgroundcolor\": \"#E5ECF6\", \"gridcolor\": \"white\", \"gridwidth\": 2, \"linecolor\": \"white\", \"showbackground\": true, \"ticks\": \"\", \"zerolinecolor\": \"white\"}, \"zaxis\": {\"backgroundcolor\": \"#E5ECF6\", \"gridcolor\": \"white\", \"gridwidth\": 2, \"linecolor\": \"white\", \"showbackground\": true, \"ticks\": \"\", \"zerolinecolor\": \"white\"}}, \"shapedefaults\": {\"line\": {\"color\": \"#2a3f5f\"}}, \"ternary\": {\"aaxis\": {\"gridcolor\": \"white\", \"linecolor\": \"white\", \"ticks\": \"\"}, \"baxis\": {\"gridcolor\": \"white\", \"linecolor\": \"white\", \"ticks\": \"\"}, \"bgcolor\": \"#E5ECF6\", \"caxis\": {\"gridcolor\": \"white\", \"linecolor\": \"white\", \"ticks\": \"\"}}, \"title\": {\"x\": 0.05}, \"xaxis\": {\"automargin\": true, \"gridcolor\": \"white\", \"linecolor\": \"white\", \"ticks\": \"\", \"title\": {\"standoff\": 15}, \"zerolinecolor\": \"white\", \"zerolinewidth\": 2}, \"yaxis\": {\"automargin\": true, \"gridcolor\": \"white\", \"linecolor\": \"white\", \"ticks\": \"\", \"title\": {\"standoff\": 15}, \"zerolinecolor\": \"white\", \"zerolinewidth\": 2}}}, \"title\": {\"font\": {\"size\": 28}, \"text\": \"Neural Network Model - Nb compounds Young's Modulus\"}, \"width\": 1000, \"xaxis\": {\"gridwidth\": 1, \"tickfont\": {\"size\": 18}, \"title\": {\"font\": {\"size\": 24}, \"text\": \"Real Values (GPa)\"}, \"zeroline\": false}, \"yaxis\": {\"gridwidth\": 1, \"tickfont\": {\"size\": 18}, \"title\": {\"font\": {\"size\": 24}, \"text\": \"Prediction (GPa)\"}, \"zeroline\": false}},\n",
       "                        {\"responsive\": true}\n",
       "                    ).then(function(){\n",
       "                            \n",
       "var gd = document.getElementById('5bc664c2-0e75-4827-8b82-92444c7249c5');\n",
       "var x = new MutationObserver(function (mutations, observer) {{\n",
       "        var display = window.getComputedStyle(gd).display;\n",
       "        if (!display || display === 'none') {{\n",
       "            console.log([gd, 'removed!']);\n",
       "            Plotly.purge(gd);\n",
       "            observer.disconnect();\n",
       "        }}\n",
       "}});\n",
       "\n",
       "// Listen for the removal of the full notebook cells\n",
       "var notebookContainer = gd.closest('#notebook-container');\n",
       "if (notebookContainer) {{\n",
       "    x.observe(notebookContainer, {childList: true});\n",
       "}}\n",
       "\n",
       "// Listen for the clearing of the current output cell\n",
       "var outputEl = gd.closest('.output');\n",
       "if (outputEl) {{\n",
       "    x.observe(outputEl, {childList: true});\n",
       "}}\n",
       "\n",
       "                        })\n",
       "                };\n",
       "                });\n",
       "            </script>\n",
       "        </div>"
      ]
     },
     "metadata": {},
     "output_type": "display_data"
    }
   ],
   "source": [
    "import plotly\n",
    "import plotly.graph_objs as go\n",
    "from plotly.offline import iplot\n",
    "\n",
    "plotly.offline.init_notebook_mode(connected=True)\n",
    "\n",
    "layout0= go.Layout(title=go.layout.Title(text=\"Neural Network Model - Nb compounds Young's Modulus\", font=dict(size=28)), hovermode= 'closest', width = 1000, height=600, showlegend=True,  # Hovermode establishes the way the labels that appear when you hover are arranged # Establishing a square plot width=height\n",
    "    xaxis= dict(title=go.layout.xaxis.Title(text='Real Values (GPa)', font=dict(size=24)), zeroline= False, gridwidth= 1, tickfont=dict(size=18)), # Axis Titles. Removing the X-axis Mark. Adding a Grid\n",
    "    yaxis= dict(title=go.layout.yaxis.Title(text='Prediction (GPa)', font=dict(size=24)), zeroline= False, gridwidth= 1, tickfont=dict(size=18)), # Axis Titles. Removing the Y-axis Mark. Adding a Grid\n",
    "    legend=dict(font=dict(size=24))) # Adding a legend\n",
    "\n",
    "trace0 = go.Scatter(x = all_labels, y = predictions, mode = 'markers', marker= dict(size= 12, color= 'blue'), text= elements, name = 'Young\\'s Modulus (Training)')\n",
    "trace1 = go.Scatter(x = test_labels, y = test_predictions, mode = 'markers', marker= dict(size= 12, color= 'red'), text = labeled_elements, name = 'Young\\'s Modulus (Testing)')\n",
    "trace2 = go.Scatter(x = [0,600], y = [0,600], mode = 'lines', name = \"Match\") # This trace is the line X = Y which would indicate that the Prediction equals the real value\n",
    "\n",
    "data = [trace0, trace1, trace2]\n",
    "fig= go.Figure(data, layout=layout0)\n",
    "iplot(fig)"
   ]
  },
  {
   "cell_type": "code",
   "execution_count": 13,
   "metadata": {},
   "outputs": [
    {
     "name": "stdout",
     "output_type": "stream",
     "text": [
      "172/172 - 0s - loss: 9.1819e-06 - mean_absolute_error: 9.1819e-06\n",
      "Loss: 9.181887583318437e-06, Accuracy: 9.18188743526116e-06\n"
     ]
    }
   ],
   "source": [
    "model_loss, model_accuracy = model.evaluate(values, predictions,verbose=2)\n",
    "print(f\"Loss: {model_loss}, Accuracy: {model_accuracy}\")"
   ]
  },
  {
   "cell_type": "code",
   "execution_count": null,
   "metadata": {},
   "outputs": [],
   "source": []
  }
 ],
 "metadata": {
  "kernelspec": {
   "display_name": "PythonData",
   "language": "python",
   "name": "pythondata"
  },
  "language_info": {
   "codemirror_mode": {
    "name": "ipython",
    "version": 3
   },
   "file_extension": ".py",
   "mimetype": "text/x-python",
   "name": "python",
   "nbconvert_exporter": "python",
   "pygments_lexer": "ipython3",
   "version": "3.7.7"
  }
 },
 "nbformat": 4,
 "nbformat_minor": 2
}
