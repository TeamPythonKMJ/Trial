{
 "cells": [
  {
   "cell_type": "markdown",
   "metadata": {},
   "source": [
    "### 1. Getting a dataset\n",
    "\n",
    "We have 12 datasets to explore in this notebook to predict the Young's Modulus with a three-layer neuron networks model with 2000 epochs. "
   ]
  },
  {
   "cell_type": "code",
   "execution_count": 1,
   "metadata": {},
   "outputs": [
    {
     "name": "stderr",
     "output_type": "stream",
     "text": [
      "C:\\Users\\Kayla Yano\\anaconda3\\envs\\PythonData\\lib\\site-packages\\tensorflow\\python\\framework\\dtypes.py:516: FutureWarning: Passing (type, 1) or '1type' as a synonym of type is deprecated; in a future version of numpy, it will be understood as (type, (1,)) / '(1,)type'.\n",
      "  _np_qint8 = np.dtype([(\"qint8\", np.int8, 1)])\n",
      "C:\\Users\\Kayla Yano\\anaconda3\\envs\\PythonData\\lib\\site-packages\\tensorflow\\python\\framework\\dtypes.py:517: FutureWarning: Passing (type, 1) or '1type' as a synonym of type is deprecated; in a future version of numpy, it will be understood as (type, (1,)) / '(1,)type'.\n",
      "  _np_quint8 = np.dtype([(\"quint8\", np.uint8, 1)])\n",
      "C:\\Users\\Kayla Yano\\anaconda3\\envs\\PythonData\\lib\\site-packages\\tensorflow\\python\\framework\\dtypes.py:518: FutureWarning: Passing (type, 1) or '1type' as a synonym of type is deprecated; in a future version of numpy, it will be understood as (type, (1,)) / '(1,)type'.\n",
      "  _np_qint16 = np.dtype([(\"qint16\", np.int16, 1)])\n",
      "C:\\Users\\Kayla Yano\\anaconda3\\envs\\PythonData\\lib\\site-packages\\tensorflow\\python\\framework\\dtypes.py:519: FutureWarning: Passing (type, 1) or '1type' as a synonym of type is deprecated; in a future version of numpy, it will be understood as (type, (1,)) / '(1,)type'.\n",
      "  _np_quint16 = np.dtype([(\"quint16\", np.uint16, 1)])\n",
      "C:\\Users\\Kayla Yano\\anaconda3\\envs\\PythonData\\lib\\site-packages\\tensorflow\\python\\framework\\dtypes.py:520: FutureWarning: Passing (type, 1) or '1type' as a synonym of type is deprecated; in a future version of numpy, it will be understood as (type, (1,)) / '(1,)type'.\n",
      "  _np_qint32 = np.dtype([(\"qint32\", np.int32, 1)])\n",
      "C:\\Users\\Kayla Yano\\anaconda3\\envs\\PythonData\\lib\\site-packages\\tensorflow\\python\\framework\\dtypes.py:525: FutureWarning: Passing (type, 1) or '1type' as a synonym of type is deprecated; in a future version of numpy, it will be understood as (type, (1,)) / '(1,)type'.\n",
      "  np_resource = np.dtype([(\"resource\", np.ubyte, 1)])\n",
      "C:\\Users\\Kayla Yano\\anaconda3\\envs\\PythonData\\lib\\site-packages\\tensorboard\\compat\\tensorflow_stub\\dtypes.py:541: FutureWarning: Passing (type, 1) or '1type' as a synonym of type is deprecated; in a future version of numpy, it will be understood as (type, (1,)) / '(1,)type'.\n",
      "  _np_qint8 = np.dtype([(\"qint8\", np.int8, 1)])\n",
      "C:\\Users\\Kayla Yano\\anaconda3\\envs\\PythonData\\lib\\site-packages\\tensorboard\\compat\\tensorflow_stub\\dtypes.py:542: FutureWarning: Passing (type, 1) or '1type' as a synonym of type is deprecated; in a future version of numpy, it will be understood as (type, (1,)) / '(1,)type'.\n",
      "  _np_quint8 = np.dtype([(\"quint8\", np.uint8, 1)])\n",
      "C:\\Users\\Kayla Yano\\anaconda3\\envs\\PythonData\\lib\\site-packages\\tensorboard\\compat\\tensorflow_stub\\dtypes.py:543: FutureWarning: Passing (type, 1) or '1type' as a synonym of type is deprecated; in a future version of numpy, it will be understood as (type, (1,)) / '(1,)type'.\n",
      "  _np_qint16 = np.dtype([(\"qint16\", np.int16, 1)])\n",
      "C:\\Users\\Kayla Yano\\anaconda3\\envs\\PythonData\\lib\\site-packages\\tensorboard\\compat\\tensorflow_stub\\dtypes.py:544: FutureWarning: Passing (type, 1) or '1type' as a synonym of type is deprecated; in a future version of numpy, it will be understood as (type, (1,)) / '(1,)type'.\n",
      "  _np_quint16 = np.dtype([(\"quint16\", np.uint16, 1)])\n",
      "C:\\Users\\Kayla Yano\\anaconda3\\envs\\PythonData\\lib\\site-packages\\tensorboard\\compat\\tensorflow_stub\\dtypes.py:545: FutureWarning: Passing (type, 1) or '1type' as a synonym of type is deprecated; in a future version of numpy, it will be understood as (type, (1,)) / '(1,)type'.\n",
      "  _np_qint32 = np.dtype([(\"qint32\", np.int32, 1)])\n",
      "C:\\Users\\Kayla Yano\\anaconda3\\envs\\PythonData\\lib\\site-packages\\tensorboard\\compat\\tensorflow_stub\\dtypes.py:550: FutureWarning: Passing (type, 1) or '1type' as a synonym of type is deprecated; in a future version of numpy, it will be understood as (type, (1,)) / '(1,)type'.\n",
      "  np_resource = np.dtype([(\"resource\", np.ubyte, 1)])\n"
     ]
    }
   ],
   "source": [
    "import pymatgen as pymat\n",
    "import mendeleev as mendel\n",
    "import pandas as pd\n",
    "import numpy as np\n",
    "from pathlib import Path\n",
    "import tensorflow as tf\n",
    "import tensorflow.keras\n",
    "from tensorflow.keras import initializers\n",
    "from tensorflow.keras.layers import Dense\n",
    "from tensorflow.keras.models import Sequential\n",
    "from tensorflow.keras import optimizers\n",
    "\n",
    "import sys\n",
    "import os\n",
    "sys.path.insert(0, '../src/')\n",
    "\n",
    "%matplotlib inline\n",
    "import matplotlib.pyplot as plt"
   ]
  },
  {
   "cell_type": "code",
   "execution_count": 2,
   "metadata": {
    "scrolled": true
   },
   "outputs": [
    {
     "data": {
      "text/html": [
       "<div>\n",
       "<style scoped>\n",
       "    .dataframe tbody tr th:only-of-type {\n",
       "        vertical-align: middle;\n",
       "    }\n",
       "\n",
       "    .dataframe tbody tr th {\n",
       "        vertical-align: top;\n",
       "    }\n",
       "\n",
       "    .dataframe thead th {\n",
       "        text-align: right;\n",
       "    }\n",
       "</style>\n",
       "<table border=\"1\" class=\"dataframe\">\n",
       "  <thead>\n",
       "    <tr style=\"text-align: right;\">\n",
       "      <th></th>\n",
       "      <th>Unnamed: 0</th>\n",
       "      <th>mp_id</th>\n",
       "      <th>Formula</th>\n",
       "      <th>Composition</th>\n",
       "      <th>IPF</th>\n",
       "      <th>Density</th>\n",
       "      <th>Elastic_Tensor</th>\n",
       "      <th>E_above_Hull</th>\n",
       "      <th>G_VRH</th>\n",
       "      <th>K_VRH</th>\n",
       "      <th>Elastic_Anisotropy</th>\n",
       "      <th>poisson_ratio</th>\n",
       "      <th>Y_Modulus</th>\n",
       "    </tr>\n",
       "  </thead>\n",
       "  <tbody>\n",
       "    <tr>\n",
       "      <th>0</th>\n",
       "      <td>0</td>\n",
       "      <td>mp-1013525</td>\n",
       "      <td>VS2</td>\n",
       "      <td>{'V': 1.0, 'S': 2.0}</td>\n",
       "      <td>0.121495</td>\n",
       "      <td>3.023685</td>\n",
       "      <td>{'G_Reuss': 1.0, 'G_VRH': 14.0, 'G_Voigt': 27....</td>\n",
       "      <td>0.000000</td>\n",
       "      <td>14.0</td>\n",
       "      <td>22.0</td>\n",
       "      <td>309.33</td>\n",
       "      <td>0.24</td>\n",
       "      <td>34.72</td>\n",
       "    </tr>\n",
       "    <tr>\n",
       "      <th>1</th>\n",
       "      <td>1</td>\n",
       "      <td>mp-1017531</td>\n",
       "      <td>VPt</td>\n",
       "      <td>{'V': 1.0, 'Pt': 1.0}</td>\n",
       "      <td>0.144719</td>\n",
       "      <td>14.233141</td>\n",
       "      <td>{'G_Reuss': 90.0, 'G_VRH': 99.0, 'G_Voigt': 10...</td>\n",
       "      <td>0.266660</td>\n",
       "      <td>99.0</td>\n",
       "      <td>238.0</td>\n",
       "      <td>1.00</td>\n",
       "      <td>0.32</td>\n",
       "      <td>261.36</td>\n",
       "    </tr>\n",
       "    <tr>\n",
       "      <th>2</th>\n",
       "      <td>2</td>\n",
       "      <td>mp-10711</td>\n",
       "      <td>VSi2</td>\n",
       "      <td>{'V': 1.0, 'Si': 2.0}</td>\n",
       "      <td>0.085788</td>\n",
       "      <td>4.640836</td>\n",
       "      <td>{'G_Reuss': 146.0, 'G_VRH': 147.0, 'G_Voigt': ...</td>\n",
       "      <td>0.000000</td>\n",
       "      <td>147.0</td>\n",
       "      <td>174.0</td>\n",
       "      <td>0.05</td>\n",
       "      <td>0.17</td>\n",
       "      <td>343.98</td>\n",
       "    </tr>\n",
       "    <tr>\n",
       "      <th>3</th>\n",
       "      <td>3</td>\n",
       "      <td>mp-1114</td>\n",
       "      <td>VP</td>\n",
       "      <td>{'V': 1.0, 'P': 1.0}</td>\n",
       "      <td>0.099446</td>\n",
       "      <td>5.074562</td>\n",
       "      <td>{'G_Reuss': 95.0, 'G_VRH': 112.0, 'G_Voigt': 1...</td>\n",
       "      <td>0.000000</td>\n",
       "      <td>112.0</td>\n",
       "      <td>171.0</td>\n",
       "      <td>1.83</td>\n",
       "      <td>0.23</td>\n",
       "      <td>275.52</td>\n",
       "    </tr>\n",
       "    <tr>\n",
       "      <th>4</th>\n",
       "      <td>4</td>\n",
       "      <td>mp-11190</td>\n",
       "      <td>VSi2</td>\n",
       "      <td>{'V': 1.0, 'Si': 2.0}</td>\n",
       "      <td>0.085773</td>\n",
       "      <td>4.640042</td>\n",
       "      <td>{'G_Reuss': 146.0, 'G_VRH': 147.0, 'G_Voigt': ...</td>\n",
       "      <td>0.003162</td>\n",
       "      <td>147.0</td>\n",
       "      <td>175.0</td>\n",
       "      <td>0.05</td>\n",
       "      <td>0.17</td>\n",
       "      <td>343.98</td>\n",
       "    </tr>\n",
       "    <tr>\n",
       "      <th>...</th>\n",
       "      <td>...</td>\n",
       "      <td>...</td>\n",
       "      <td>...</td>\n",
       "      <td>...</td>\n",
       "      <td>...</td>\n",
       "      <td>...</td>\n",
       "      <td>...</td>\n",
       "      <td>...</td>\n",
       "      <td>...</td>\n",
       "      <td>...</td>\n",
       "      <td>...</td>\n",
       "      <td>...</td>\n",
       "      <td>...</td>\n",
       "    </tr>\n",
       "    <tr>\n",
       "      <th>168</th>\n",
       "      <td>169</td>\n",
       "      <td>mp-11193</td>\n",
       "      <td>VAuS2</td>\n",
       "      <td>{'V': 1.0, 'Au': 1.0, 'S': 2.0}</td>\n",
       "      <td>0.187205</td>\n",
       "      <td>7.572688</td>\n",
       "      <td>{'G_Reuss': 46.0, 'G_VRH': 52.0, 'G_Voigt': 58...</td>\n",
       "      <td>0.000000</td>\n",
       "      <td>52.0</td>\n",
       "      <td>106.0</td>\n",
       "      <td>1.46</td>\n",
       "      <td>0.29</td>\n",
       "      <td>134.16</td>\n",
       "    </tr>\n",
       "    <tr>\n",
       "      <th>169</th>\n",
       "      <td>170</td>\n",
       "      <td>mp-19365</td>\n",
       "      <td>Ba3V2O8</td>\n",
       "      <td>{'Ba': 3.0, 'V': 2.0, 'O': 8.0}</td>\n",
       "      <td>0.518621</td>\n",
       "      <td>4.911718</td>\n",
       "      <td>{'G_Reuss': 28.0, 'G_VRH': 29.0, 'G_Voigt': 30...</td>\n",
       "      <td>0.000000</td>\n",
       "      <td>29.0</td>\n",
       "      <td>69.0</td>\n",
       "      <td>0.30</td>\n",
       "      <td>0.31</td>\n",
       "      <td>75.98</td>\n",
       "    </tr>\n",
       "    <tr>\n",
       "      <th>170</th>\n",
       "      <td>171</td>\n",
       "      <td>mp-865485</td>\n",
       "      <td>V2CrOs</td>\n",
       "      <td>{'V': 2.0, 'Cr': 1.0, 'Os': 1.0}</td>\n",
       "      <td>0.165444</td>\n",
       "      <td>10.874371</td>\n",
       "      <td>{'G_Reuss': 122.0, 'G_VRH': 125.0, 'G_Voigt': ...</td>\n",
       "      <td>0.000000</td>\n",
       "      <td>125.0</td>\n",
       "      <td>265.0</td>\n",
       "      <td>0.23</td>\n",
       "      <td>0.30</td>\n",
       "      <td>325.00</td>\n",
       "    </tr>\n",
       "    <tr>\n",
       "      <th>171</th>\n",
       "      <td>172</td>\n",
       "      <td>mp-557533</td>\n",
       "      <td>Cs2TlVF6</td>\n",
       "      <td>{'Cs': 2.0, 'Tl': 1.0, 'V': 1.0, 'F': 6.0}</td>\n",
       "      <td>0.337593</td>\n",
       "      <td>5.060118</td>\n",
       "      <td>{'G_Reuss': 13.0, 'G_VRH': 14.0, 'G_Voigt': 14...</td>\n",
       "      <td>0.000000</td>\n",
       "      <td>14.0</td>\n",
       "      <td>79.0</td>\n",
       "      <td>0.37</td>\n",
       "      <td>0.42</td>\n",
       "      <td>39.76</td>\n",
       "    </tr>\n",
       "    <tr>\n",
       "      <th>172</th>\n",
       "      <td>173</td>\n",
       "      <td>mp-560671</td>\n",
       "      <td>Rb2NaVF6</td>\n",
       "      <td>{'Rb': 2.0, 'Na': 1.0, 'V': 1.0, 'F': 6.0}</td>\n",
       "      <td>0.346013</td>\n",
       "      <td>3.706076</td>\n",
       "      <td>{'G_Reuss': 23.0, 'G_VRH': 23.0, 'G_Voigt': 23...</td>\n",
       "      <td>0.000000</td>\n",
       "      <td>23.0</td>\n",
       "      <td>52.0</td>\n",
       "      <td>0.05</td>\n",
       "      <td>0.31</td>\n",
       "      <td>60.26</td>\n",
       "    </tr>\n",
       "  </tbody>\n",
       "</table>\n",
       "<p>173 rows × 13 columns</p>\n",
       "</div>"
      ],
      "text/plain": [
       "     Unnamed: 0       mp_id   Formula  \\\n",
       "0             0  mp-1013525       VS2   \n",
       "1             1  mp-1017531       VPt   \n",
       "2             2    mp-10711      VSi2   \n",
       "3             3     mp-1114        VP   \n",
       "4             4    mp-11190      VSi2   \n",
       "..          ...         ...       ...   \n",
       "168         169    mp-11193     VAuS2   \n",
       "169         170    mp-19365   Ba3V2O8   \n",
       "170         171   mp-865485    V2CrOs   \n",
       "171         172   mp-557533  Cs2TlVF6   \n",
       "172         173   mp-560671  Rb2NaVF6   \n",
       "\n",
       "                                    Composition       IPF    Density  \\\n",
       "0                          {'V': 1.0, 'S': 2.0}  0.121495   3.023685   \n",
       "1                         {'V': 1.0, 'Pt': 1.0}  0.144719  14.233141   \n",
       "2                         {'V': 1.0, 'Si': 2.0}  0.085788   4.640836   \n",
       "3                          {'V': 1.0, 'P': 1.0}  0.099446   5.074562   \n",
       "4                         {'V': 1.0, 'Si': 2.0}  0.085773   4.640042   \n",
       "..                                          ...       ...        ...   \n",
       "168             {'V': 1.0, 'Au': 1.0, 'S': 2.0}  0.187205   7.572688   \n",
       "169             {'Ba': 3.0, 'V': 2.0, 'O': 8.0}  0.518621   4.911718   \n",
       "170            {'V': 2.0, 'Cr': 1.0, 'Os': 1.0}  0.165444  10.874371   \n",
       "171  {'Cs': 2.0, 'Tl': 1.0, 'V': 1.0, 'F': 6.0}  0.337593   5.060118   \n",
       "172  {'Rb': 2.0, 'Na': 1.0, 'V': 1.0, 'F': 6.0}  0.346013   3.706076   \n",
       "\n",
       "                                        Elastic_Tensor  E_above_Hull  G_VRH  \\\n",
       "0    {'G_Reuss': 1.0, 'G_VRH': 14.0, 'G_Voigt': 27....      0.000000   14.0   \n",
       "1    {'G_Reuss': 90.0, 'G_VRH': 99.0, 'G_Voigt': 10...      0.266660   99.0   \n",
       "2    {'G_Reuss': 146.0, 'G_VRH': 147.0, 'G_Voigt': ...      0.000000  147.0   \n",
       "3    {'G_Reuss': 95.0, 'G_VRH': 112.0, 'G_Voigt': 1...      0.000000  112.0   \n",
       "4    {'G_Reuss': 146.0, 'G_VRH': 147.0, 'G_Voigt': ...      0.003162  147.0   \n",
       "..                                                 ...           ...    ...   \n",
       "168  {'G_Reuss': 46.0, 'G_VRH': 52.0, 'G_Voigt': 58...      0.000000   52.0   \n",
       "169  {'G_Reuss': 28.0, 'G_VRH': 29.0, 'G_Voigt': 30...      0.000000   29.0   \n",
       "170  {'G_Reuss': 122.0, 'G_VRH': 125.0, 'G_Voigt': ...      0.000000  125.0   \n",
       "171  {'G_Reuss': 13.0, 'G_VRH': 14.0, 'G_Voigt': 14...      0.000000   14.0   \n",
       "172  {'G_Reuss': 23.0, 'G_VRH': 23.0, 'G_Voigt': 23...      0.000000   23.0   \n",
       "\n",
       "     K_VRH  Elastic_Anisotropy  poisson_ratio  Y_Modulus  \n",
       "0     22.0              309.33           0.24      34.72  \n",
       "1    238.0                1.00           0.32     261.36  \n",
       "2    174.0                0.05           0.17     343.98  \n",
       "3    171.0                1.83           0.23     275.52  \n",
       "4    175.0                0.05           0.17     343.98  \n",
       "..     ...                 ...            ...        ...  \n",
       "168  106.0                1.46           0.29     134.16  \n",
       "169   69.0                0.30           0.31      75.98  \n",
       "170  265.0                0.23           0.30     325.00  \n",
       "171   79.0                0.37           0.42      39.76  \n",
       "172   52.0                0.05           0.31      60.26  \n",
       "\n",
       "[173 rows x 13 columns]"
      ]
     },
     "execution_count": 2,
     "metadata": {},
     "output_type": "execute_result"
    }
   ],
   "source": [
    "# df = pd.read_csv(Path('../All Data Export/Ti_compounds_dataframe.csv'))\n",
    "# df = pd.read_csv(Path('../All Data Export/C_compounds_dataframe.csv'))\n",
    "# df = pd.read_csv(Path('../All Data Export/Cr_compounds_dataframe.csv'))\n",
    "# df = pd.read_csv(Path('../All Data Export/Fe_compounds_dataframe.csv'))\n",
    "# df = pd.read_csv(Path('../All Data Export/Hf_compounds_dataframe.csv'))\n",
    "# df = pd.read_csv(Path('../All Data Export/Mo_compounds_dataframe.csv'))\n",
    "# df = pd.read_csv(Path('../All Data Export/Nb_compounds_dataframe.csv'))\n",
    "# df = pd.read_csv(Path('../All Data Export/Ni_compounds_dataframe.csv'))\n",
    "df = pd.read_csv(Path('../All Data Export/V_compounds_dataframe.csv'))\n",
    "# df = pd.read_csv(Path('../All Data Export/W_compounds_dataframe.csv'))\n",
    "# df = pd.read_csv(Path('../All Data Export/Zr_compounds_dataframe.csv'))\n",
    "# df = pd.read_csv(Path('../All Data Export/Ta_compounds_dataframe.csv'))\n",
    "df"
   ]
  },
  {
   "cell_type": "code",
   "execution_count": 3,
   "metadata": {},
   "outputs": [
    {
     "data": {
      "text/plain": [
       "Index(['Unnamed: 0', 'mp_id', 'Formula', 'Composition', 'IPF', 'Density',\n",
       "       'Elastic_Tensor', 'E_above_Hull', 'G_VRH', 'K_VRH',\n",
       "       'Elastic_Anisotropy', 'poisson_ratio', 'Y_Modulus'],\n",
       "      dtype='object')"
      ]
     },
     "execution_count": 3,
     "metadata": {},
     "output_type": "execute_result"
    }
   ],
   "source": [
    "df.columns"
   ]
  },
  {
   "cell_type": "code",
   "execution_count": 4,
   "metadata": {},
   "outputs": [
    {
     "data": {
      "text/html": [
       "<div>\n",
       "<style scoped>\n",
       "    .dataframe tbody tr th:only-of-type {\n",
       "        vertical-align: middle;\n",
       "    }\n",
       "\n",
       "    .dataframe tbody tr th {\n",
       "        vertical-align: top;\n",
       "    }\n",
       "\n",
       "    .dataframe thead th {\n",
       "        text-align: right;\n",
       "    }\n",
       "</style>\n",
       "<table border=\"1\" class=\"dataframe\">\n",
       "  <thead>\n",
       "    <tr style=\"text-align: right;\">\n",
       "      <th></th>\n",
       "      <th>IPF</th>\n",
       "      <th>Density</th>\n",
       "      <th>E_above_Hull</th>\n",
       "      <th>G_VRH</th>\n",
       "      <th>K_VRH</th>\n",
       "      <th>Elastic_Anisotropy</th>\n",
       "      <th>poisson_ratio</th>\n",
       "      <th>Y_Modulus</th>\n",
       "    </tr>\n",
       "  </thead>\n",
       "  <tbody>\n",
       "    <tr>\n",
       "      <th>0</th>\n",
       "      <td>0.121495</td>\n",
       "      <td>3.023685</td>\n",
       "      <td>0.000000</td>\n",
       "      <td>14.0</td>\n",
       "      <td>22.0</td>\n",
       "      <td>309.33</td>\n",
       "      <td>0.24</td>\n",
       "      <td>34.72</td>\n",
       "    </tr>\n",
       "    <tr>\n",
       "      <th>1</th>\n",
       "      <td>0.144719</td>\n",
       "      <td>14.233141</td>\n",
       "      <td>0.266660</td>\n",
       "      <td>99.0</td>\n",
       "      <td>238.0</td>\n",
       "      <td>1.00</td>\n",
       "      <td>0.32</td>\n",
       "      <td>261.36</td>\n",
       "    </tr>\n",
       "    <tr>\n",
       "      <th>2</th>\n",
       "      <td>0.085788</td>\n",
       "      <td>4.640836</td>\n",
       "      <td>0.000000</td>\n",
       "      <td>147.0</td>\n",
       "      <td>174.0</td>\n",
       "      <td>0.05</td>\n",
       "      <td>0.17</td>\n",
       "      <td>343.98</td>\n",
       "    </tr>\n",
       "    <tr>\n",
       "      <th>3</th>\n",
       "      <td>0.099446</td>\n",
       "      <td>5.074562</td>\n",
       "      <td>0.000000</td>\n",
       "      <td>112.0</td>\n",
       "      <td>171.0</td>\n",
       "      <td>1.83</td>\n",
       "      <td>0.23</td>\n",
       "      <td>275.52</td>\n",
       "    </tr>\n",
       "    <tr>\n",
       "      <th>4</th>\n",
       "      <td>0.085773</td>\n",
       "      <td>4.640042</td>\n",
       "      <td>0.003162</td>\n",
       "      <td>147.0</td>\n",
       "      <td>175.0</td>\n",
       "      <td>0.05</td>\n",
       "      <td>0.17</td>\n",
       "      <td>343.98</td>\n",
       "    </tr>\n",
       "    <tr>\n",
       "      <th>...</th>\n",
       "      <td>...</td>\n",
       "      <td>...</td>\n",
       "      <td>...</td>\n",
       "      <td>...</td>\n",
       "      <td>...</td>\n",
       "      <td>...</td>\n",
       "      <td>...</td>\n",
       "      <td>...</td>\n",
       "    </tr>\n",
       "    <tr>\n",
       "      <th>168</th>\n",
       "      <td>0.187205</td>\n",
       "      <td>7.572688</td>\n",
       "      <td>0.000000</td>\n",
       "      <td>52.0</td>\n",
       "      <td>106.0</td>\n",
       "      <td>1.46</td>\n",
       "      <td>0.29</td>\n",
       "      <td>134.16</td>\n",
       "    </tr>\n",
       "    <tr>\n",
       "      <th>169</th>\n",
       "      <td>0.518621</td>\n",
       "      <td>4.911718</td>\n",
       "      <td>0.000000</td>\n",
       "      <td>29.0</td>\n",
       "      <td>69.0</td>\n",
       "      <td>0.30</td>\n",
       "      <td>0.31</td>\n",
       "      <td>75.98</td>\n",
       "    </tr>\n",
       "    <tr>\n",
       "      <th>170</th>\n",
       "      <td>0.165444</td>\n",
       "      <td>10.874371</td>\n",
       "      <td>0.000000</td>\n",
       "      <td>125.0</td>\n",
       "      <td>265.0</td>\n",
       "      <td>0.23</td>\n",
       "      <td>0.30</td>\n",
       "      <td>325.00</td>\n",
       "    </tr>\n",
       "    <tr>\n",
       "      <th>171</th>\n",
       "      <td>0.337593</td>\n",
       "      <td>5.060118</td>\n",
       "      <td>0.000000</td>\n",
       "      <td>14.0</td>\n",
       "      <td>79.0</td>\n",
       "      <td>0.37</td>\n",
       "      <td>0.42</td>\n",
       "      <td>39.76</td>\n",
       "    </tr>\n",
       "    <tr>\n",
       "      <th>172</th>\n",
       "      <td>0.346013</td>\n",
       "      <td>3.706076</td>\n",
       "      <td>0.000000</td>\n",
       "      <td>23.0</td>\n",
       "      <td>52.0</td>\n",
       "      <td>0.05</td>\n",
       "      <td>0.31</td>\n",
       "      <td>60.26</td>\n",
       "    </tr>\n",
       "  </tbody>\n",
       "</table>\n",
       "<p>173 rows × 8 columns</p>\n",
       "</div>"
      ],
      "text/plain": [
       "          IPF    Density  E_above_Hull  G_VRH  K_VRH  Elastic_Anisotropy  \\\n",
       "0    0.121495   3.023685      0.000000   14.0   22.0              309.33   \n",
       "1    0.144719  14.233141      0.266660   99.0  238.0                1.00   \n",
       "2    0.085788   4.640836      0.000000  147.0  174.0                0.05   \n",
       "3    0.099446   5.074562      0.000000  112.0  171.0                1.83   \n",
       "4    0.085773   4.640042      0.003162  147.0  175.0                0.05   \n",
       "..        ...        ...           ...    ...    ...                 ...   \n",
       "168  0.187205   7.572688      0.000000   52.0  106.0                1.46   \n",
       "169  0.518621   4.911718      0.000000   29.0   69.0                0.30   \n",
       "170  0.165444  10.874371      0.000000  125.0  265.0                0.23   \n",
       "171  0.337593   5.060118      0.000000   14.0   79.0                0.37   \n",
       "172  0.346013   3.706076      0.000000   23.0   52.0                0.05   \n",
       "\n",
       "     poisson_ratio  Y_Modulus  \n",
       "0             0.24      34.72  \n",
       "1             0.32     261.36  \n",
       "2             0.17     343.98  \n",
       "3             0.23     275.52  \n",
       "4             0.17     343.98  \n",
       "..             ...        ...  \n",
       "168           0.29     134.16  \n",
       "169           0.31      75.98  \n",
       "170           0.30     325.00  \n",
       "171           0.42      39.76  \n",
       "172           0.31      60.26  \n",
       "\n",
       "[173 rows x 8 columns]"
      ]
     },
     "execution_count": 4,
     "metadata": {},
     "output_type": "execute_result"
    }
   ],
   "source": [
    "df.drop( df[ df['Y_Modulus'] < 0 ].index , inplace=True)\n",
    "df_original = df.copy\n",
    "elements = df['Formula'].tolist()\n",
    "df = df.drop(df.columns[[0, 1, 2, 3, 6]], axis=1)\n",
    "df"
   ]
  },
  {
   "cell_type": "markdown",
   "metadata": {},
   "source": [
    "### 2. Processing and Organizing Data\n",
    "\n",
    "Most machine learning models are trained on a subset of all the available data, called the \"training set\", and the models are tested on the remainder of the available data, called the \"testing set\". Model performance has often been found to be enhanced when the inputs are normalized.\n",
    "\n",
    "##### SETS\n",
    "\n",
    "1. With the dataset we just created, we have splitted the dataset for each of the 12 datasets:\n",
    "- C: 331 entries for our model. We will train with 300 cases and test on the remaining 31 elements to estimate Young's Modulus.\n",
    "- Cr: 331 entries for our model. We will train with 300 cases and test on the remaining 31 elements to estimate Young's Modulus.\n",
    "- Fe: 208 entries for our model. We will train with 182 cases and test on the remaining 26 elements to estimate Young's Modulus.\n",
    "- Hf: 216 entries for our model. We will train with 180 cases and test on the remaining 36 elements to estimate Young's Modulus.\n",
    "- Mo: 60 entries for our model. We will train with 84 cases and test on the remaining 24 elements to estimate Young's Modulus.\n",
    "- Nb: 172 entries for our model. We will train with 150 cases and test on the remaining 22 elements to estimate Young's Modulus.\n",
    "- Ni: 378 entries for our model. We will train with 300 cases and test on the remaining 78 elements to estimate Young's Modulus.\n",
    "- Ta: 331 entries for our model. We will train with 300 cases and test on the remaining 31 elements to estimate Young's Modulus.\n",
    "- Ti: 331 entries for our model. We will train with 300 cases and test on the remaining 31 elements to estimate Young's Modulus.\n",
    "- V: 173 entries for our model. We will train with 150 cases and test on the remaining 23 elements to estimate Young's Modulus.\n",
    "- W: 331 entries for our model. We will train with 300 cases and test on the remaining 31 elements to estimate Young's Modulus.\n",
    "- Zr: 331 entries for our model. We will train with 300 cases and test on the remaining 31 elements to estimate Young's Modulus.\n",
    "\n",
    "\n",
    "\n",
    "##### NORMALIZATION\n",
    "\n",
    "Each one of these input data features has different units and is represented in scales with distinct orders of magnitude. Datasets that contain inputs like this need to be normalized, so that quantities with large values do not *overwhelm* the neural network, forcing it tune its weights to account for the different scales of our input data. In this work, we will use the Standard Score Normalization, which subtracts the mean of the feature and divide by its standard deviation.\n",
    "\n",
    "<span style=\"font-size:2em;\">$ \\frac{X - µ}{σ} $ </span>\n",
    "\n",
    "While our model might converge without feature normalization, the resultant model would be difficult to train and would be dependent on the choice of units used in the input."
   ]
  },
  {
   "cell_type": "code",
   "execution_count": 5,
   "metadata": {},
   "outputs": [
    {
     "name": "stdout",
     "output_type": "stream",
     "text": [
      "[[0.12149499406551273, 3.0236852951473625, 0.0, 14.0, 22.0, 309.33, 0.24, 34.72], [0.1447186742748768, 14.233140897509726, 0.2666600000011954, 99.0, 238.0, 1.0, 0.32, 261.36], [0.08578817120591822, 4.640836073813271, 0.0, 147.0, 174.0, 0.05, 0.17, 343.98], [0.0994463377437939, 5.074561577336481, 0.0, 112.0, 171.0, 1.83, 0.23, 275.52], [0.08577349065929718, 4.640041908261253, 0.003162222222741207, 147.0, 175.0, 0.05, 0.17, 343.98], [0.12680760264332228, 3.936240072578336, 0.0, 138.0, 160.0, 0.01, 0.17, 322.92], [0.15669562014728428, 8.166036293218228, 0.0, 86.0, 210.0, 1.65, 0.32, 227.04], [0.16144591531151484, 10.036633748419293, 0.0, 76.0, 190.0, 1.23, 0.32, 200.64], [0.1871999051730028, 7.294935773350144, 0.0, 65.0, 113.0, 0.67, 0.26, 163.8], [0.2627012711255529, 6.646573407167487, 0.0, 17.0, 26.0, 4.26, 0.23, 41.82], [0.14312194843975287, 16.53793394746984, 0.0, 114.0, 246.0, 0.72, 0.3, 296.4000000000001], [0.14443557687033073, 6.916313017230981, 0.0, 54.0, 184.0, 0.03, 0.37, 147.96], [0.12934411665239107, 5.367846606817556, 0.0, 10.0, 159.0, 16.75, 0.47, 29.4], [0.11600882389268766, 9.212888715259528, 0.0, 76.0, 252.0, 0.43, 0.36, 206.72], [0.10794784606190347, 5.108570608471894, 0.0, 241.0, 286.0, 0.12, 0.17, 563.9399999999998], [0.13813905543753288, 7.587411409386458, 0.0, 79.0, 178.0, 0.22, 0.31, 206.98], [0.15506642628218587, 6.985026878785585, 0.0, 110.0, 211.0, 0.31, 0.28, 281.6], [0.15115149627325872, 7.705176343045238, 0.0, 74.0, 197.0, 0.48, 0.33, 196.84], [0.6046672749777929, 4.446943564310902, 0.0, 119.0, 233.0, 0.98, 0.28, 304.64], [0.1032072317424407, 6.7980854868852925, 0.0, 86.0, 140.0, 0.72, 0.25, 215.0], [0.14187940925678807, 10.446570644472668, 0.0, 122.0, 237.0, 0.23, 0.28, 312.32], [0.1210045341801862, 5.760240303371688, 0.0, 102.0, 207.0, 0.29, 0.29, 263.16], [0.12296103102287242, 5.741137693834699, 0.0, 117.0, 244.0, 0.18, 0.29, 301.86], [0.10968829727491282, 7.770844047392394, 0.0, 52.0, 98.0, 0.12, 0.27, 132.08], [0.13084903823262148, 5.84606461837448, 0.0, 199.0, 256.0, 0.06, 0.19, 473.62], [0.1356529106536997, 7.368095848472486, 0.0, 22.0, 163.0, 0.65, 0.44, 63.36], [0.1449524429813266, 10.349465247308613, 0.0, 94.0, 218.0, 0.2, 0.31, 246.28], [0.14097511121833406, 6.72654155852446, 0.0, 38.0, 168.0, 1.6, 0.4, 106.4], [0.1844292694450828, 6.1493512767716645, 0.0, 54.0, 80.0, 0.25, 0.22, 131.76], [0.08440942129866506, 2.8731129406437645, 0.0, 7.0, 10.0, 82.06, 0.23, 17.22], [0.10517040150452288, 4.697635445198267, 0.0, 91.0, 175.0, 0.01, 0.28, 232.96], [0.13273361110892684, 8.926404379123063, 0.0, 125.0, 254.0, 0.35, 0.29, 322.5], [0.09894625707054522, 3.7146572185084414, 0.0, 100.0, 120.0, 0.25, 0.17, 234.0], [0.1262890622264242, 5.778142097471409, 0.0, 74.0, 196.0, 0.11, 0.33, 196.84], [0.14498214502602458, 14.2590533538133, 0.0, 141.0, 243.0, 0.75, 0.26, 355.32], [0.14173684275055093, 17.56594293766046, 0.0, 111.0, 241.0, 0.59, 0.3, 288.6], [0.11450917120764825, 5.6178225081539805, 0.0, 175.0, 238.0, 0.08, 0.21, 423.5], [0.1338905113379516, 7.121142889350122, 0.0, 109.0, 194.0, 0.11, 0.26, 274.68], [0.17521662191771314, 6.973256357451869, 0.0, 56.0, 125.0, 1.04, 0.31, 146.72], [0.13101938315772307, 7.406261671611571, 0.0, 122.0, 243.0, 0.64, 0.28, 312.32], [0.10982414321310482, 2.9527302125397217, 0.0, 14.0, 14.0, 9.22, 0.12, 31.360000000000007], [0.11495500081532213, 3.233463249606719, 0.0, 31.0, 24.0, 4.4, 0.06, 65.72], [0.1381445473369643, 10.385660728483431, 0.0, 39.0, 201.0, 0.0, 0.41, 109.98], [0.11298644488904107, 5.3792322018773175, 0.0, 120.0, 194.0, 0.17, 0.24, 297.6], [0.138307171914933, 14.527589464915039, 0.0, 116.0, 273.0, 0.37, 0.31, 303.92], [0.1176957926096664, 5.426880907620545, 0.0, 232.0, 278.0, 0.1, 0.17, 542.88], [0.11395157686715204, 2.4489258088422488, 0.0, 144.0, 130.0, 0.08, 0.1, 316.8], [0.13626141050648935, 5.912611007423824, 0.0, 52.0, 191.0, 3.61, 0.38, 143.51999999999995], [0.13564980242340546, 5.886072307502624, 0.3528483333328225, 54.0, 192.0, 2.51, 0.37, 147.96], [0.14934679874505266, 6.898754805558572, 0.0, 93.0, 201.0, 0.32, 0.3, 241.8], [0.1898267371542812, 9.989346771454215, 0.0, 73.0, 186.0, 0.9, 0.33, 194.18], [0.13262802332215615, 7.857833612455423, 0.0, 92.0, 225.0, 0.43, 0.32, 242.88], [0.13541177609360047, 10.272186186979773, 0.0, 70.0, 236.0, 0.3, 0.36, 190.4], [0.0736606140302888, 3.3521697149397562, 0.0, 3.0, 6.0, 60.59, 0.28, 7.68], [0.1540855484081116, 3.95681556090272, 0.0, 3.0, 6.0, 38.06, 0.3, 7.800000000000002], [0.134717833296883, 18.485991924543388, 0.0, 186.0, 320.0, 0.13, 0.26, 468.72], [0.13294099621042754, 10.542920702837064, 0.0, 107.0, 246.0, 0.21, 0.31, 280.34000000000003], [0.20810172516849768, 7.739814841627519, 0.0, 90.0, 193.0, 0.55, 0.3, 234.0], [0.12950563602484624, 10.79492765486428, 0.0, 127.0, 251.0, 0.19, 0.28, 325.12], [0.1621271962167792, 10.39870391049843, 0.0, 76.0, 178.0, 1.29, 0.31, 199.12], [0.11544393686107388, 5.360224182218632, 0.0, 237.0, 280.0, 0.09, 0.17, 554.5799999999998], [0.1401887672412557, 7.371334929828633, 0.0, 40.0, 189.0, 1.72, 0.4, 112.0], [0.08174509297074617, 4.557132171088004, 0.0, 124.0, 152.0, 0.25, 0.18, 292.64], [0.24661137834648103, 6.797743929989699, 0.0, 30.0, 50.0, -4.73, 0.25, 75.0], [0.12398012002703065, 5.631694170784909, 0.0, 232.0, 273.0, 0.12, 0.17, 542.88], [0.12066538380415022, 6.022293025484678, 0.0, 205.0, 289.0, 0.07, 0.21, 496.1], [0.10813965974674028, 8.891443343651765, 0.0, 67.0, 152.0, 10.2, 0.31, 175.54000000000005], [0.16454197828763442, 4.067270398613236, 0.0, 70.0, 148.0, 2.63, 0.29, 180.6], [0.1391684870903674, 7.9804201066554175, 0.0, 73.0, 127.0, 0.41, 0.26, 183.96], [0.13962160316535632, 7.762255825832237, 0.0, 105.0, 217.0, 0.32, 0.29, 270.90000000000003], [0.1580420878777272, 8.437749117983707, 0.0, 101.0, 213.0, 0.86, 0.3, 262.6], [0.5339465139105358, 3.575563662269201, 0.0, 66.0, 106.0, 0.41, 0.24, 163.68], [0.5424710838283666, 4.6435885444724105, 0.0, 80.0, 202.0, 0.07, 0.32, 211.2], [0.4833129329966585, 4.069881809899154, 0.0, 47.0, 125.0, 2.0, 0.33, 125.02], [0.4427769339577916, 3.6692354329469232, 0.0, 32.0, 96.0, 0.72, 0.35, 86.4], [0.2221456437234036, 3.2666983115121315, 0.0, 5.0, 14.0, 6.81, 0.34, 13.4], [0.20827512473603207, 4.132924816920843, 0.0, 5.0, 11.0, 4.83, 0.31, 13.1], [0.1283975730372289, 3.881407528158781, 0.0, 25.0, 39.0, 0.47, 0.23, 61.5], [0.18172229698259232, 6.773327621235782, 0.0, 137.0, 218.0, 0.0, 0.24, 339.76], [0.15670426998703232, 5.086001393684699, 0.0, 12.0, 16.0, 44.27, 0.2, 28.8], [0.1399700103383548, 6.851730004845607, 0.0, 54.0, 209.0, 0.95, 0.38, 149.04], [0.09678017954922563, 14.24989947491049, 0.0, 126.0, 278.0, 0.0, 0.3, 327.6], [0.11376932529760785, 9.793417722917077, 0.0, 112.0, 239.0, 0.0, 0.3, 291.2], [0.10637664324987853, 14.452932485759135, 0.0, 112.0, 280.0, 0.2, 0.32, 295.68], [0.12744914951166753, 6.945396663852688, 0.0, 72.0, 146.0, 2.65, 0.29, 185.76], [0.20416007252606852, 3.349349754390476, 0.0, 50.0, 94.0, 0.58, 0.28, 128.0], [0.4483942355268974, 4.447748229890216, 0.0, 26.0, 85.0, 0.52, 0.36, 70.72], [0.5022610916942224, 2.536133817132607, 0.0, 33.0, 63.0, 0.03, 0.28, 84.48], [0.5718433531466053, 3.981260237079412, 0.0, 50.0, 114.0, 0.68, 0.31, 131.0], [0.1907693861736752, 5.821252348818822, 0.0, 7.0, 25.0, 4.14, 0.38, 19.32], [0.18497880512552764, 3.8812678594725547, 0.0, 2.0, 14.0, -17.23, 0.44, 5.76], [0.10674968972886538, 1.5725145089806098, 0.0, 7.0, 13.0, 2.4, 0.28, 17.92], [0.10646943993506214, 5.394856627572428, 0.0, 149.0, 227.0, 0.4, 0.23, 366.54], [0.105975746909063, 13.882211075886064, 0.0, 140.0, 273.0, 0.01, 0.28, 358.4000000000001], [0.12284030425708467, 11.138071395829117, 0.0, 115.0, 265.0, 0.01, 0.31, 301.3], [0.11342560248869644, 9.73706254228268, 0.0, 100.0, 239.0, 0.01, 0.32, 264.0], [0.13844130021812634, 8.4990653539188, 0.0, 94.0, 233.0, 0.3, 0.32, 248.16000000000003], [0.12995416459871584, 13.403563577525125, 0.0, 115.0, 255.0, 0.08, 0.3, 299.0], [0.15913463559254998, 7.088483902321127, 0.0, 57.0, 193.0, 5.6, 0.37, 156.18], [0.12210990516701292, 8.287841553765787, 0.0, 89.0, 195.0, 0.46, 0.3, 231.4], [0.16804414718736904, 14.068824992619335, 0.0, 110.0, 223.0, 0.03, 0.29, 283.8], [0.12792799383877282, 8.568621628487296, 0.0, 91.0, 131.0, 0.37, 0.22, 222.04], [0.38962557693915895, 4.742624018307129, 0.0, 43.0, 104.0, 0.57, 0.32, 113.52], [0.17606897668807253, 2.8113621533375865, 0.0, 16.0, 45.0, -1.0, 0.34, 42.88], [0.15401369361185605, 3.0865543113057137, 0.0, 46.0, 80.0, 0.3, 0.26, 115.92], [0.5826161229749937, 3.8758685280732847, 0.0, 89.0, 182.0, 0.4, 0.29, 229.62], [0.5757732669545855, 3.9454667805496384, 0.0, 62.0, 120.0, 1.13, 0.28, 158.72], [0.17560167243740976, 7.112631276806603, 0.0, 44.0, 246.0, 22.73, 0.42, 124.96], [0.10722313818094807, 5.7273708570305075, 0.0, 60.0, 156.0, 12.15, 0.33, 159.60000000000005], [0.0940314885519257, 2.9760449056046188, 0.0, 32.0, 72.0, 6.26, 0.31, 83.84], [0.4964723841883586, 3.18421217476458, 0.0, 36.0, 74.0, 1.53, 0.29, 92.88], [0.12338488473192738, 15.710650848578537, 0.0, 97.0, 247.0, 0.07, 0.33, 258.02000000000004], [0.12777556489638173, 9.299074591641977, 0.0, 74.0, 229.0, 1.51, 0.35, 199.8], [0.1123328300515833, 8.485054245256269, 0.0, 102.0, 257.0, 0.14, 0.32, 269.28000000000003], [0.13022110471780834, 9.467982401196881, 0.0, 90.0, 239.0, 0.39, 0.33, 239.4], [0.16794362141601393, 10.618552634076526, 0.0, 112.0, 251.0, 0.28, 0.31, 293.44], [0.21125710640798706, 7.348434423639102, 0.0, 107.0, 232.0, 0.68, 0.3, 278.2], [0.16581766177822754, 8.13776016770855, 0.0, 106.0, 243.0, 0.48, 0.31, 277.72], [0.1252602222193936, 11.720460329552512, 0.0, 129.0, 278.0, 0.01, 0.3, 335.4000000000001], [0.1246923731762717, 9.08884492722601, 0.0, 112.0, 255.0, 0.05, 0.31, 293.44], [0.12859888063506053, 8.087681198134106, 0.0, 105.0, 224.0, 0.33, 0.3, 273.0], [0.1046714924327875, 8.575394436440627, 0.0, 123.0, 235.0, 0.04, 0.28, 314.88], [0.10572269009347432, 8.766714851583426, 0.0, 86.0, 238.0, 0.02, 0.34, 230.48], [0.16602556421846762, 5.606234804045776, 0.0, 36.0, 55.0, 0.1, 0.23, 88.56], [0.2100398503033009, 3.1337015362718788, 0.0, 50.0, 87.0, 0.04, 0.26, 126.0], [0.12456377774541777, 6.4705294073368655, 0.0, 101.0, 180.0, 0.38, 0.26, 254.52], [0.1272299976605972, 7.1448046486861445, 0.0, 86.0, 127.0, 0.37, 0.22, 209.84], [0.12329417611813183, 7.749638210330206, 0.0, 83.0, 187.0, 1.15, 0.31, 217.46], [0.19617351108166625, 2.918944199720663, 0.0, 2.0, 16.0, -16.78, 0.44, 5.76], [0.1185044676061408, 6.53132387312736, 0.0, 79.0, 191.0, 1.56, 0.32, 208.56], [0.2794601603996589, 3.2364770200688566, 0.0, 34.0, 68.0, 1.28, 0.29, 87.72], [0.14346294918194893, 7.8237252908534005, 0.0, 62.0, 160.0, 0.49, 0.33, 164.92000000000004], [0.17650989739139825, 7.151615099984709, 0.0, 99.0, 231.0, 0.69, 0.31, 259.38], [0.10755919516249014, 6.8696239485952, 0.0, 128.0, 239.0, 0.12, 0.27, 325.12], [0.15960483429433894, 8.331148303268925, 0.0, 74.0, 200.0, 1.78, 0.34, 198.32], [0.14905920506249448, 9.621992605241983, 0.0, 27.0, 201.0, 89.62, 0.44, 77.75999999999998], [0.17355735790482, 7.954744598658003, 0.0, 101.0, 237.0, 0.38, 0.31, 264.62], [0.136788880312811, 6.930633199021837, 0.0, 82.0, 192.0, 0.9, 0.31, 214.84], [0.1920003220884418, 6.823927950272397, 0.0, 110.0, 222.0, 0.16, 0.29, 283.8], [0.12697119347343794, 11.420396428302126, 0.0, 124.0, 241.0, 0.25, 0.28, 317.44], [0.12020739713181446, 11.659543115133443, 0.0, 124.0, 250.0, 0.0, 0.29, 319.92], [0.10982229537823436, 6.552641390969012, 0.0, 115.0, 203.0, 0.46, 0.26, 289.8], [0.15195046624166605, 5.218476199976913, 0.0, 61.0, 152.0, 0.07, 0.32, 161.04000000000005], [0.32774564874406625, 3.853054367191308, 0.0, 36.0, 55.0, 0.51, 0.23, 88.56], [0.1412031982028669, 3.1797164861347063, 0.0, 54.0, 128.0, 0.78, 0.31, 141.48000000000005], [0.11258878747666784, 6.337605084533112, 0.0, 98.0, 185.0, 0.41, 0.27, 248.92], [0.4475078686658404, 2.6930514344832552, 0.0, 18.0, 34.0, 1.13, 0.27, 45.72], [0.5282668748017345, 3.653695381216009, 0.0, 30.0, 148.0, 6.77, 0.41, 84.6], [0.12522797987223727, 6.3353830572226295, 0.0, 112.0, 209.0, 0.34, 0.27, 284.48], [0.14595212629222554, 5.130520024794366, 0.0, 21.0, 36.0, 0.21, 0.26, 52.92], [0.1926313797461748, 8.260081041652537, 0.0, 122.0, 225.0, 0.03, 0.27, 309.88], [0.11517167651347986, 6.2124979561584786, 0.0, 107.0, 177.0, 0.38, 0.25, 267.5], [0.1596341882446092, 8.311592088632544, 0.0, 84.0, 198.0, 1.18, 0.31, 220.08], [0.2545594900854791, 4.52394058192632, 0.0, 3.0, 11.0, 8.87, 0.36, 8.16], [0.1413622308534997, 3.822198696084489, 0.0, 47.0, 74.0, 0.1, 0.24, 116.56], [0.2484960823076758, 2.3312483832348208, 0.0, 72.0, 83.0, 0.43, 0.16, 167.04], [0.14800096119320166, 6.818543267440703, 0.0, 98.0, 192.0, 0.52, 0.28, 250.88], [0.3268521761356131, 4.111199855526811, 0.0, 35.0, 65.0, 0.53, 0.27, 88.9], [0.09543558404925516, 4.077358132921794, 0.0, 33.0, 75.0, 6.08, 0.31, 86.46000000000002], [0.13260758435084927, 9.682977915516727, 0.0, 81.0, 228.0, 0.71, 0.34, 217.08], [0.12084480689171342, 14.26320827303978, 0.0, 144.0, 291.0, 0.0, 0.29, 371.52], [0.09584436392512233, 8.864955265897798, 0.0, 114.0, 253.0, 0.03, 0.3, 296.4000000000001], [0.1629723046649275, 8.408842756799572, 0.0, 82.0, 179.0, 0.01, 0.3, 213.2], [0.12311410947054988, 13.473476381687679, 0.0, 84.0, 232.0, 0.23, 0.34, 225.12], [0.12966791645453896, 10.078490831248756, 0.0, 78.0, 146.0, 2.05, 0.27, 198.12], [0.1288404870808873, 6.416055054732483, 0.0, 76.0, 118.0, 0.5, 0.23, 186.96], [0.11120007972869952, 4.872389203909788, 0.0, 131.0, 171.0, 0.07, 0.19, 311.78], [0.1980754264563921, 6.559809699411452, 0.0, 42.0, 149.0, 0.75, 0.37, 115.08], [0.1872052988336504, 7.57268780375901, 0.0, 52.0, 106.0, 1.46, 0.29, 134.16], [0.5186210576312312, 4.911718290289572, 0.0, 29.0, 69.0, 0.3, 0.31, 75.98], [0.16544434484656054, 10.87437113588139, 0.0, 125.0, 265.0, 0.23, 0.3, 325.0], [0.33759297792196696, 5.06011839235674, 0.0, 14.0, 79.0, 0.37, 0.42, 39.76], [0.3460131171594533, 3.7060764064333935, 0.0, 23.0, 52.0, 0.05, 0.31, 60.26000000000001]]\n"
     ]
    },
    {
     "data": {
      "text/html": [
       "<div>\n",
       "<style scoped>\n",
       "    .dataframe tbody tr th:only-of-type {\n",
       "        vertical-align: middle;\n",
       "    }\n",
       "\n",
       "    .dataframe tbody tr th {\n",
       "        vertical-align: top;\n",
       "    }\n",
       "\n",
       "    .dataframe thead th {\n",
       "        text-align: right;\n",
       "    }\n",
       "</style>\n",
       "<table border=\"1\" class=\"dataframe\">\n",
       "  <thead>\n",
       "    <tr style=\"text-align: right;\">\n",
       "      <th></th>\n",
       "      <th>IPF</th>\n",
       "      <th>Density</th>\n",
       "      <th>E_above_Hull</th>\n",
       "      <th>G_VRH</th>\n",
       "      <th>K_VRH</th>\n",
       "      <th>Elastic_Anisotropy</th>\n",
       "      <th>poisson_ratio</th>\n",
       "    </tr>\n",
       "  </thead>\n",
       "  <tbody>\n",
       "    <tr>\n",
       "      <th>0</th>\n",
       "      <td>0.121495</td>\n",
       "      <td>3.023685</td>\n",
       "      <td>0.000000</td>\n",
       "      <td>14.0</td>\n",
       "      <td>22.0</td>\n",
       "      <td>309.33</td>\n",
       "      <td>0.24</td>\n",
       "    </tr>\n",
       "    <tr>\n",
       "      <th>1</th>\n",
       "      <td>0.144719</td>\n",
       "      <td>14.233141</td>\n",
       "      <td>0.266660</td>\n",
       "      <td>99.0</td>\n",
       "      <td>238.0</td>\n",
       "      <td>1.00</td>\n",
       "      <td>0.32</td>\n",
       "    </tr>\n",
       "    <tr>\n",
       "      <th>2</th>\n",
       "      <td>0.085788</td>\n",
       "      <td>4.640836</td>\n",
       "      <td>0.000000</td>\n",
       "      <td>147.0</td>\n",
       "      <td>174.0</td>\n",
       "      <td>0.05</td>\n",
       "      <td>0.17</td>\n",
       "    </tr>\n",
       "    <tr>\n",
       "      <th>3</th>\n",
       "      <td>0.099446</td>\n",
       "      <td>5.074562</td>\n",
       "      <td>0.000000</td>\n",
       "      <td>112.0</td>\n",
       "      <td>171.0</td>\n",
       "      <td>1.83</td>\n",
       "      <td>0.23</td>\n",
       "    </tr>\n",
       "    <tr>\n",
       "      <th>4</th>\n",
       "      <td>0.085773</td>\n",
       "      <td>4.640042</td>\n",
       "      <td>0.003162</td>\n",
       "      <td>147.0</td>\n",
       "      <td>175.0</td>\n",
       "      <td>0.05</td>\n",
       "      <td>0.17</td>\n",
       "    </tr>\n",
       "    <tr>\n",
       "      <th>5</th>\n",
       "      <td>0.126808</td>\n",
       "      <td>3.936240</td>\n",
       "      <td>0.000000</td>\n",
       "      <td>138.0</td>\n",
       "      <td>160.0</td>\n",
       "      <td>0.01</td>\n",
       "      <td>0.17</td>\n",
       "    </tr>\n",
       "    <tr>\n",
       "      <th>6</th>\n",
       "      <td>0.156696</td>\n",
       "      <td>8.166036</td>\n",
       "      <td>0.000000</td>\n",
       "      <td>86.0</td>\n",
       "      <td>210.0</td>\n",
       "      <td>1.65</td>\n",
       "      <td>0.32</td>\n",
       "    </tr>\n",
       "    <tr>\n",
       "      <th>7</th>\n",
       "      <td>0.161446</td>\n",
       "      <td>10.036634</td>\n",
       "      <td>0.000000</td>\n",
       "      <td>76.0</td>\n",
       "      <td>190.0</td>\n",
       "      <td>1.23</td>\n",
       "      <td>0.32</td>\n",
       "    </tr>\n",
       "    <tr>\n",
       "      <th>8</th>\n",
       "      <td>0.187200</td>\n",
       "      <td>7.294936</td>\n",
       "      <td>0.000000</td>\n",
       "      <td>65.0</td>\n",
       "      <td>113.0</td>\n",
       "      <td>0.67</td>\n",
       "      <td>0.26</td>\n",
       "    </tr>\n",
       "    <tr>\n",
       "      <th>9</th>\n",
       "      <td>0.262701</td>\n",
       "      <td>6.646573</td>\n",
       "      <td>0.000000</td>\n",
       "      <td>17.0</td>\n",
       "      <td>26.0</td>\n",
       "      <td>4.26</td>\n",
       "      <td>0.23</td>\n",
       "    </tr>\n",
       "  </tbody>\n",
       "</table>\n",
       "</div>"
      ],
      "text/plain": [
       "        IPF    Density  E_above_Hull  G_VRH  K_VRH  Elastic_Anisotropy  \\\n",
       "0  0.121495   3.023685      0.000000   14.0   22.0              309.33   \n",
       "1  0.144719  14.233141      0.266660   99.0  238.0                1.00   \n",
       "2  0.085788   4.640836      0.000000  147.0  174.0                0.05   \n",
       "3  0.099446   5.074562      0.000000  112.0  171.0                1.83   \n",
       "4  0.085773   4.640042      0.003162  147.0  175.0                0.05   \n",
       "5  0.126808   3.936240      0.000000  138.0  160.0                0.01   \n",
       "6  0.156696   8.166036      0.000000   86.0  210.0                1.65   \n",
       "7  0.161446  10.036634      0.000000   76.0  190.0                1.23   \n",
       "8  0.187200   7.294936      0.000000   65.0  113.0                0.67   \n",
       "9  0.262701   6.646573      0.000000   17.0   26.0                4.26   \n",
       "\n",
       "   poisson_ratio  \n",
       "0           0.24  \n",
       "1           0.32  \n",
       "2           0.17  \n",
       "3           0.23  \n",
       "4           0.17  \n",
       "5           0.17  \n",
       "6           0.32  \n",
       "7           0.32  \n",
       "8           0.26  \n",
       "9           0.23  "
      ]
     },
     "execution_count": 5,
     "metadata": {},
     "output_type": "execute_result"
    }
   ],
   "source": [
    "all_values = df.values.tolist() # Values for Attributes\n",
    "print(all_values)\n",
    "all_labels = [] # Values for Young's Modulus (Property to be estimated)\n",
    "all_labels = df['Y_Modulus'].tolist()\n",
    "df = df.drop(['Y_Modulus'], axis=1)\n",
    "df.head(n=10)"
   ]
  },
  {
   "cell_type": "code",
   "execution_count": 6,
   "metadata": {},
   "outputs": [
    {
     "name": "stdout",
     "output_type": "stream",
     "text": [
      "Shape of Values: (173, 7)\n",
      "Shape of Labels: (173,)\n",
      "[-0.47392658 -1.22802234 -0.11571642 -1.39858285 -1.88193372 10.95525057\n",
      " -0.77873929]\n",
      "[ 0.14516471  0.34967761 -0.11571642  0.77600609  0.66812332 -0.18349459\n",
      " -0.32005777]\n",
      "[  0   1   2   3   4   5   6   7   8   9  10  11  12  13  14  15  16  17\n",
      "  18  19  20  21  22  23  24  25  26  27  28  29  30  31  32  33  34  35\n",
      "  36  37  38  39  40  41  42  43  44  45  46  47  48  49  50  51  52  53\n",
      "  54  55  56  57  58  59  60  61  62  63  64  65  66  67  68  69  70  71\n",
      "  72  73  74  75  76  77  78  79  80  81  82  83  84  85  86  87  88  89\n",
      "  90  91  92  93  94  95  96  97  98  99 100 101 102 103 104 105 106 107\n",
      " 108 109 110 111 112 113 114 115 116 117 118 119 120 121 122 123 124 125\n",
      " 126 127 128 129 130 131 132 133 134 135 136 137 138 139 140 141 142 143\n",
      " 144 145 146 147 148 149 150 151 152 153 154 155 156 157 158 159 160 161\n",
      " 162 163 164 165 166 167 168 169 170 171 172]\n"
     ]
    }
   ],
   "source": [
    "#We will rewrite the arrays with the patches we made on the dataset \n",
    "# by turning the dataframe back into a list of lists\n",
    "\n",
    "all_values = [list(df.iloc[x]) for x in range(len(all_values))]\n",
    "\n",
    "# SETS\n",
    "\n",
    "# List of lists are turned into Numpy arrays to facilitate calculations in steps to follow (Normalization).\n",
    "all_values = np.array(all_values, dtype = float) \n",
    "print(\"Shape of Values:\", all_values.shape)\n",
    "all_labels = np.array(all_labels, dtype = float)\n",
    "print(\"Shape of Labels:\", all_labels.shape)\n",
    "\n",
    "# Uncomment the line below to shuffle the dataset \n",
    "#(we do not do this here to ensure consistent results for every run)\n",
    "#order = np.argsort(np.random.random(all_labels.shape)) \n",
    "# This numpy argsort returns the indexes that would be used to shuffle a list\n",
    "order = np.arange(173)\n",
    "all_values = all_values[order]\n",
    "all_labels = all_labels[order]\n",
    "\n",
    "# Training Set\n",
    "train_labels = all_labels[:150]\n",
    "train_values = all_values[:150]\n",
    "\n",
    "# Testing Set\n",
    "test_labels = all_labels[-23:]\n",
    "test_values = all_values[-23:]\n",
    "\n",
    "# This line is used for labels in the plots at the end of the tutorial - Testing Set\n",
    "\n",
    "labeled_elements = [elements[x] for x in order[-23:]] \n",
    "elements = [elements[x] for x in order]\n",
    "\n",
    "# NORMALIZATION\n",
    "\n",
    "mean = np.mean(train_values, axis = 0) # mean\n",
    "std = np.std(train_values, axis = 0) # standard deviation\n",
    "\n",
    "train_values = (train_values - mean) / std # input scaling\n",
    "test_values = (test_values - mean) / std # input scaling\n",
    "\n",
    "print(train_values[0]) # print a sample entry from the training set\n",
    "print(test_values[0]) # print a sample entry from the training set\n",
    "print(order)"
   ]
  },
  {
   "cell_type": "markdown",
   "metadata": {},
   "source": [
    "### 3. Creating the Model\n",
    "\n",
    "For this regression, we will use a simple sequential neural network with one densely connected hidden layer. The optimizer used will be [RMSPropOptimizer](https://www.tensorflow.org/api_docs/python/tf/train/RMSPropOptimizer) (Root Mean Square Propagation).\n",
    "\n",
    "To learn more about Root Mean Squared Propagation, click [here](https://climin.readthedocs.io/en/latest/rmsprop.html).\n",
    "\n",
    "A cool tool developed by Tensorflow to visualize how a neural network learns, and play around with its parameters, can be found here [NN Tools](https://playground.tensorflow.org/)."
   ]
  },
  {
   "cell_type": "code",
   "execution_count": 7,
   "metadata": {},
   "outputs": [
    {
     "name": "stdout",
     "output_type": "stream",
     "text": [
      "WARNING:tensorflow:From C:\\Users\\Kayla Yano\\anaconda3\\envs\\PythonData\\lib\\site-packages\\tensorflow\\python\\keras\\initializers.py:143: calling RandomNormal.__init__ (from tensorflow.python.ops.init_ops) with dtype is deprecated and will be removed in a future version.\n",
      "Instructions for updating:\n",
      "Call initializer instance with the dtype argument instead of passing it to the constructor\n",
      "Model: \"sequential\"\n",
      "_________________________________________________________________\n",
      "Layer (type)                 Output Shape              Param #   \n",
      "=================================================================\n",
      "dense (Dense)                (None, 32)                256       \n",
      "_________________________________________________________________\n",
      "dense_1 (Dense)              (None, 64)                2112      \n",
      "_________________________________________________________________\n",
      "dense_2 (Dense)              (None, 64)                4160      \n",
      "_________________________________________________________________\n",
      "dense_3 (Dense)              (None, 1)                 65        \n",
      "=================================================================\n",
      "Total params: 6,593\n",
      "Trainable params: 6,593\n",
      "Non-trainable params: 0\n",
      "_________________________________________________________________\n"
     ]
    }
   ],
   "source": [
    "# DEFINITION OF THE MODEL\n",
    "\n",
    "# The weights of our neural network will be initialized in a random manner, using a seed allows for reproducibility\n",
    "kernel_init = initializers.RandomNormal(seed=0)\n",
    "# In a sequential model, the first layer must specify the input shape the model will expect; \n",
    "# in this case the value is train_values.shape[1] which is the number\n",
    "# of attributes (properties) and equals 17.\n",
    "\n",
    "model = Sequential()\n",
    "model.add(Dense(32, activation='relu', input_shape=(train_values.shape[1], ), kernel_initializer=kernel_init))\n",
    "model.add(Dense(64, activation='relu', kernel_initializer=kernel_init))\n",
    "model.add(Dense(64, activation='relu', kernel_initializer=kernel_init))\n",
    "model.add(Dense(1, kernel_initializer=kernel_init))\n",
    "\n",
    "# DEFINITION OF THE OPTIMIZER\n",
    "\n",
    "optimizer = optimizers.RMSprop(0.002) # Root Mean Squared Propagation\n",
    "\n",
    "# This line matches the optimizer to the model and states which metrics will evaluate the model's accuracy\n",
    "model.compile(loss='mae', optimizer=optimizer, metrics=['mae'])\n",
    "model.summary()"
   ]
  },
  {
   "cell_type": "markdown",
   "metadata": {},
   "source": [
    "#### TRAINING \n",
    "\n",
    "This model is trained for 2000 epochs, and we record the training accuracy in the history object.\n",
    "\n",
    "One **Epoch** occurs when you pass the entire dataset through the model. One **Batch** contains a subset of the dataset that can be fed to the model at the same time. A more detailed explanation of these concepts can be found in this [blog](https://towardsdatascience.com/epoch-vs-iterations-vs-batch-size-4dfb9c7ce9c9). As we have a really small dataset compared to the ones that are usually considered to be modeled by these neural networks, we are feeding all entries at the same time, so our batch is the entire dataset, and an epoch occurs when the batch is processed.\n",
    "\n",
    "This way, by plotting \"history\" we can see the evolution of the \"learning\" of the model, that is the decrease of the Mean Absolute Error. Models in Keras are fitted to the training set using the [**fit**](https://keras.io/models/model/#fit) method.\n",
    "\n",
    "The blue curve that will come up from the History object represents how the model is learning on the training data, and the orange curve represents the validation loss, which can be thought of as the way our model evaluates data that it was not trained in. This validation loss would start going up again when we start to overfit our data."
   ]
  },
  {
   "cell_type": "code",
   "execution_count": 8,
   "metadata": {},
   "outputs": [
    {
     "name": "stdout",
     "output_type": "stream",
     "text": [
      "Current Epoch: 2000 Training Loss: 4.969016                                       \r"
     ]
    },
    {
     "data": {
      "image/png": "[encoded data removed]",
      "text/plain": [
       "<Figure size 432x288 with 1 Axes>"
      ]
     },
     "metadata": {
      "needs_background": "light"
     },
     "output_type": "display_data"
    }
   ],
   "source": [
    "# EPOCH REAL TIME COUNTER CLASS\n",
    "class PrintEpNum(tf.keras.callbacks.Callback): # This is a function for the Epoch Counter\n",
    "    def on_epoch_end(self, epoch, logs):\n",
    "        sys.stdout.flush()\n",
    "        sys.stdout.write(\"Current Epoch: \" + str(epoch+1) + \" Training Loss: \" + \"%4f\" %logs.get('loss') + '                                       \\r') # Updates current Epoch Number\n",
    "\n",
    "EPOCHS = 2000 # Number of EPOCHS\n",
    "\n",
    "# HISTORY Object which contains how the model learned\n",
    "\n",
    "# Training Values (Properties), Training Labels (Known Young's Moduli) \n",
    "history = model.fit(train_values, train_labels, batch_size=train_values.shape[0], \n",
    "                    epochs=EPOCHS, verbose = False, validation_split=0.1, callbacks=[PrintEpNum()])\n",
    "\n",
    "\n",
    "# PLOTTING HISTORY USING MATPLOTLIB\n",
    "\n",
    "plt.figure()\n",
    "plt.xlabel('Epoch')\n",
    "plt.ylabel('Mean Abs Error')\n",
    "plt.plot(history.epoch, np.array(history.history['mean_absolute_error']),label='Loss on training set') \n",
    "plt.plot(history.epoch, np.array(history.history['val_mean_absolute_error']),label = 'Validation loss')\n",
    "plt.legend()\n",
    "plt.show()"
   ]
  },
  {
   "cell_type": "markdown",
   "metadata": {},
   "source": [
    "#### SAVING A MODEL\n",
    "\n",
    "Compiled and trained models in Keras can be saved and distributed in .h5 files using the `model.save()` method. Running the cell below will save the current model we trained, both weights and architecture to your home directory."
   ]
  },
  {
   "cell_type": "code",
   "execution_count": 9,
   "metadata": {},
   "outputs": [],
   "source": [
    "model.save(os.path.expanduser('~/model.h5'))"
   ]
  },
  {
   "cell_type": "markdown",
   "metadata": {},
   "source": [
    "#### TESTING\n",
    "\n",
    "Models in Keras are tested using the method [**evaluate**](https://keras.io/models/model/#evaluate). This method returns the testing loss of the model and the metrics we specified when creating it,  which in our case it's the Mean Absolute Error. For the original model in this tutorial you should get a value of around **20 GPa** for the Mean Absolute Error. This value would decrease with more training data, more attributes/features, or a different optimizer. In the case of a model that overfits, you can expect values to start increasing to around **30 or 40 GPa**."
   ]
  },
  {
   "cell_type": "code",
   "execution_count": 10,
   "metadata": {},
   "outputs": [
    {
     "name": "stdout",
     "output_type": "stream",
     "text": [
      "Testing Set Mean Absolute Error: 4.075 GPa\n"
     ]
    }
   ],
   "source": [
    "[loss, mae] = model.evaluate(test_values, test_labels, verbose=0)\n",
    "\n",
    "print(\"Testing Set Mean Absolute Error: {:2.3f} GPa\".format(mae))"
   ]
  },
  {
   "cell_type": "markdown",
   "metadata": {},
   "source": [
    "#### MAKING PREDICTIONS\n",
    "\n",
    "The last step in a regression model is to make predictions for values not in the training set, which are determined by the method [**predict**](https://keras.io/models/model/#predict). In the following cell we print the elements in the testing set, the real values for their Young's moduli and the predictions generated by our machine learned model."
   ]
  },
  {
   "cell_type": "code",
   "execution_count": 11,
   "metadata": {},
   "outputs": [
    {
     "name": "stdout",
     "output_type": "stream",
     "text": [
      "Elements in Test Set:  ['VGaFe2', 'ZrVP', 'VGaCo2', 'CsVI3', 'V4GaS8', 'Li7VN4', 'AlVCo2', 'RbVF3', 'HfVF6', 'VZnRu2', 'V2ReOs', 'VSiRu2', 'LiVRh2', 'Ta2VRu', 'HfVGe', 'Sc(VGa2)2', 'AlV2C', 'Tl3VSe4', 'VAuS2', 'Ba3V2O8', 'V2CrOs', 'Cs2TlVF6', 'Rb2NaVF6']\n",
      "Real Values [309.88, 267.5, 220.08, 8.16, 116.56, 167.04, 250.88, 88.9, 86.46000000000002, 217.08, 371.52, 296.4000000000001, 213.2, 225.12, 198.12, 186.96, 311.78, 115.08, 134.16, 75.98, 325.0, 39.76, 60.26000000000001]\n",
      "Predictions [314.29178, 271.11035, 223.50658, 12.294834, 118.551155, 178.61003, 254.06218, 87.231, 84.31055, 220.51247, 373.9202, 299.4025, 216.81961, 228.47102, 204.06903, 191.28542, 322.9907, 117.8387, 136.92445, 80.16458, 327.04965, 43.796295, 55.76265]\n"
     ]
    }
   ],
   "source": [
    "test_predictions = model.predict(test_values).flatten()\n",
    "\n",
    "print(\"Elements in Test Set: \", labeled_elements)\n",
    "print(\"Real Values\", list(test_labels))\n",
    "print(\"Predictions\", list(test_predictions))\n",
    "\n",
    "values = np.concatenate((train_values, test_values), axis=0) # This line joins the values together to evaluate all of them\n",
    "predictions = model.predict(values).flatten()"
   ]
  },
  {
   "cell_type": "markdown",
   "metadata": {},
   "source": [
    "### 4. Plotting\n",
    "\n",
    "The easiest way to see if the model did a good job estimating the Young's Modulus for the Elements is through a plot comparing Real Values with their Predictions. We will use [Plotly](https://plot.ly/python/) to create a plot like that. We covered how to plot in Plotly in the first tutorial of this tool. For values in this plot, the line (x = y) indicates a perfect match and would be the desirable result for the points. As you analyze the plot, you can hover on the points to see the data we obtained in the cell above."
   ]
  },
  {
   "cell_type": "code",
   "execution_count": 12,
   "metadata": {},
   "outputs": [
    {
     "data": {
      "text/html": [
       "        <script type=\"text/javascript\">\n",
       "        window.PlotlyConfig = {MathJaxConfig: 'local'};\n",
       "        if (window.MathJax) {MathJax.Hub.Config({SVG: {font: \"STIX-Web\"}});}\n",
       "        if (typeof require !== 'undefined') {\n",
       "        require.undef(\"plotly\");\n",
       "        requirejs.config({\n",
       "            paths: {\n",
       "                'plotly': ['https://cdn.plot.ly/plotly-latest.min']\n",
       "            }\n",
       "        });\n",
       "        require(['plotly'], function(Plotly) {\n",
       "            window._Plotly = Plotly;\n",
       "        });\n",
       "        }\n",
       "        </script>\n",
       "        "
      ]
     },
     "metadata": {},
     "output_type": "display_data"
    },
    {
     "data": {
      "application/vnd.plotly.v1+json": {
       "config": {
        "linkText": "Export to plot.ly",
        "plotlyServerURL": "https://plot.ly",
        "showLink": false
       },
       "data": [
        {
         "marker": {
          "color": "blue",
          "size": 12
         },
         "mode": "markers",
         "name": "Young's Modulus (Training)",
         "text": [
          "VS2",
          "VPt",
          "VSi2",
          "VP",
          "VSi2",
          "Be2V",
          "VNi2",
          "VPd2",
          "VZn3",
          "VTe2",
          "VPt2",
          "V3Ge",
          "AlV3",
          "VRu",
          "VB2",
          "V3Sb",
          "V3Co",
          "V3Pd",
          "VO2",
          "VAs",
          "V3Ir",
          "V2P",
          "V2C",
          "VSn2",
          "V3B2",
          "V3Sn",
          "V3Pt",
          "V3Ga",
          "V3Se4",
          "VCl2",
          "VH2",
          "VTc",
          "Al3V",
          "V3Si",
          "VPt",
          "VPt3",
          "V6C5",
          "V3As",
          "V4Zn5",
          "MnV",
          "VF4",
          "VF3",
          "TaV2",
          "V5Si3",
          "VIr",
          "V3B4",
          "Be12V",
          "V2H",
          "V2H",
          "V3Ni",
          "V3Au",
          "V3Ru",
          "V3Re",
          "VBr3",
          "VI3",
          "VIr3",
          "V3Os",
          "VFe3",
          "VRh3",
          "VPd3",
          "V2B3",
          "V3Mo",
          "VP2",
          "V5Te4",
          "VB",
          "VCoB3",
          "HfVSi",
          "LiV2N3",
          "Er(VGa2)2",
          "V3Rh",
          "VNi3",
          "VPO4",
          "V2O3",
          "YVO4",
          "Mn2V2O7",
          "CsVCl3",
          "CsVBr3",
          "VCu3S4",
          "AlVFe2",
          "VSe2",
          "MnV3",
          "VSiOs2",
          "VGaRu2",
          "BeVOs2",
          "ZrVGe",
          "Ca2VN3",
          "V2Cd2O7",
          "Li3VO4",
          "NaVO2",
          "Tl3VS4",
          "RbVBr3",
          "Li3VS4",
          "V2PC",
          "AlVOs2",
          "MnV2Os",
          "VGeRu2",
          "TiVTc2",
          "TiVRe2",
          "BeVCo2",
          "ScVRu2",
          "LiVIr2",
          "Hf(VGa2)2",
          "CsVN2",
          "NaVN2",
          "LiVN2",
          "VBO3",
          "LiVO2",
          "VFe2Si",
          "ZrVSi",
          "ZrVF6",
          "LiV2O5",
          "Ta2VOs",
          "VGaTc2",
          "VSiTc2",
          "VTc2Ge",
          "V2CrRe",
          "V2CrFe",
          "V2CrRu",
          "V2TcOs",
          "V2TcRu",
          "Mn2VGe",
          "AlVRu2",
          "BeVRu2",
          "V4GeSe8",
          "Ca3VN3",
          "V2GeC",
          "Zr(VGa2)2",
          "Mn2VGa",
          "RbVCl3",
          "V3AsC",
          "KVF3",
          "VFeSb",
          "MnV2Cr",
          "Mn2VSi",
          "VCo2Ge",
          "VZnRh2",
          "V2CrTc",
          "TiMn2V",
          "BeVFe2",
          "V2MoOs",
          "V2ReRu",
          "V2AsC",
          "VZn2N3",
          "RbVN2",
          "Mg2VN3",
          "Mn2AlV",
          "NaVO3",
          "ScVO4",
          "VCoSi",
          "VCu3Se4",
          "VGaFe2",
          "ZrVP",
          "VGaCo2",
          "CsVI3",
          "V4GaS8",
          "Li7VN4",
          "AlVCo2",
          "RbVF3",
          "HfVF6",
          "VZnRu2",
          "V2ReOs",
          "VSiRu2",
          "LiVRh2",
          "Ta2VRu",
          "HfVGe",
          "Sc(VGa2)2",
          "AlV2C",
          "Tl3VSe4",
          "VAuS2",
          "Ba3V2O8",
          "V2CrOs",
          "Cs2TlVF6",
          "Rb2NaVF6"
         ],
         "type": "scatter",
         "x": [
          34.72,
          261.36,
          343.98,
          275.52,
          343.98,
          322.92,
          227.04,
          200.64,
          163.8,
          41.82,
          296.4000000000001,
          147.96,
          29.4,
          206.72,
          563.9399999999998,
          206.98,
          281.6,
          196.84,
          304.64,
          215,
          312.32,
          263.16,
          301.86,
          132.08,
          473.62,
          63.36,
          246.28,
          106.4,
          131.76,
          17.22,
          232.96,
          322.5,
          234,
          196.84,
          355.32,
          288.6,
          423.5,
          274.68,
          146.72,
          312.32,
          31.360000000000007,
          65.72,
          109.98,
          297.6,
          303.92,
          542.88,
          316.8,
          143.51999999999995,
          147.96,
          241.8,
          194.18,
          242.88,
          190.4,
          7.68,
          7.800000000000002,
          468.72,
          280.34000000000003,
          234,
          325.12,
          199.12,
          554.5799999999998,
          112,
          292.64,
          75,
          542.88,
          496.1,
          175.54000000000005,
          180.6,
          183.96,
          270.90000000000003,
          262.6,
          163.68,
          211.2,
          125.02,
          86.4,
          13.4,
          13.1,
          61.5,
          339.76,
          28.8,
          149.04,
          327.6,
          291.2,
          295.68,
          185.76,
          128,
          70.72,
          84.48,
          131,
          19.32,
          5.76,
          17.92,
          366.54,
          358.4000000000001,
          301.3,
          264,
          248.16000000000003,
          299,
          156.18,
          231.4,
          283.8,
          222.04,
          113.52,
          42.88,
          115.92,
          229.62,
          158.72,
          124.96,
          159.60000000000005,
          83.84,
          92.88,
          258.02000000000004,
          199.8,
          269.28000000000003,
          239.4,
          293.44,
          278.2,
          277.72,
          335.4000000000001,
          293.44,
          273,
          314.88,
          230.48,
          88.56,
          126,
          254.52,
          209.84,
          217.46,
          5.76,
          208.56,
          87.72,
          164.92000000000004,
          259.38,
          325.12,
          198.32,
          77.75999999999998,
          264.62,
          214.84,
          283.8,
          317.44,
          319.92,
          289.8,
          161.04000000000005,
          88.56,
          141.48000000000005,
          248.92,
          45.72,
          84.6,
          284.48,
          52.92,
          309.88,
          267.5,
          220.08,
          8.16,
          116.56,
          167.04,
          250.88,
          88.9,
          86.46000000000002,
          217.08,
          371.52,
          296.4000000000001,
          213.2,
          225.12,
          198.12,
          186.96,
          311.78,
          115.08,
          134.16,
          75.98,
          325,
          39.76,
          60.26000000000001
         ],
         "y": [
          35.62069320678711,
          263.8217468261719,
          358.3824157714844,
          279.2281188964844,
          349.3004455566406,
          332.5876159667969,
          228.89353942871094,
          204.5692596435547,
          168.09043884277344,
          44.24261474609375,
          300.3163757324219,
          150.33753967285156,
          36.83936309814453,
          212.4991912841797,
          584.33544921875,
          208.28123474121094,
          283.61724853515625,
          199.9906463623047,
          309.7589416503906,
          218.40586853027344,
          316.2182312011719,
          263.7366027832031,
          303.383056640625,
          136.64996337890625,
          488.590087890625,
          69.34391021728516,
          249.9923095703125,
          108.63636779785156,
          132.8922119140625,
          17.366817474365234,
          232.23338317871094,
          324.1189880371094,
          237.6401824951172,
          198.4977569580078,
          360.9898376464844,
          293.1507263183594,
          431.6993408203125,
          279.8669128417969,
          147.4757843017578,
          315.5613098144531,
          33.42804718017578,
          71.14205169677734,
          118.5693588256836,
          302.2447814941406,
          308.9019775390625,
          564.1233520507812,
          333.6254577636719,
          145.2645721435547,
          153.84022521972656,
          243.51881408691406,
          196.7751922607422,
          244.7761993408203,
          197.01206970214844,
          8.976215362548828,
          9.11902904510498,
          473.2570495605469,
          283.24591064453125,
          236.69244384765625,
          329.8165283203125,
          203.25758361816406,
          574.9159545898438,
          117.49684143066406,
          301.3946533203125,
          76.75817108154297,
          563.189697265625,
          506.1575012207031,
          173.39170837402344,
          177.7034454345703,
          189.4029541015625,
          273.6041564941406,
          263.62310791015625,
          169.05914306640625,
          215.7066650390625,
          127.15806579589844,
          87.7496566772461,
          13.537172317504883,
          13.176982879638672,
          60.770301818847656,
          346.4441223144531,
          29.124286651611328,
          154.063720703125,
          331.5742492675781,
          292.8635559082031,
          300.4927673339844,
          186.86695861816406,
          128.5349578857422,
          71.85726928710938,
          87.4549560546875,
          132.4959716796875,
          20.232152938842773,
          6.281972885131836,
          18.219573974609375,
          372.1174621582031,
          362.4905700683594,
          304.232666015625,
          265.32025146484375,
          251.2417449951172,
          303.8393859863281,
          156.4379119873047,
          234.14402770996094,
          288.4241943359375,
          232.4298095703125,
          113.61355590820312,
          41.75642395019531,
          118.31604766845703,
          232.0165252685547,
          161.0058135986328,
          128.35939025878906,
          155.76075744628906,
          84.19804382324219,
          92.8659896850586,
          261.10467529296875,
          204.2528839111328,
          272.9945983886719,
          243.15032958984375,
          295.4604187011719,
          280.6618347167969,
          279.7615661621094,
          337.8997497558594,
          295.0687255859375,
          274.03887939453125,
          316.3525085449219,
          232.84469604492188,
          90.49357604980469,
          128.7588653564453,
          258.9432067871094,
          218.6399383544922,
          218.10972595214844,
          6.320840835571289,
          208.6085968017578,
          87.62374877929688,
          166.6019287109375,
          262.00299072265625,
          327.8907775878906,
          199.41436767578125,
          79.04075622558594,
          268.05517578125,
          217.01292419433594,
          285.4598388671875,
          321.5945129394531,
          322.4197998046875,
          293.5707092285156,
          161.2124481201172,
          87.9595718383789,
          142.20431518554688,
          252.7078399658203,
          62.74388885498047,
          103.03791809082031,
          287.6800842285156,
          49.5194091796875,
          314.2917785644531,
          271.1103515625,
          223.50657653808594,
          12.29483413696289,
          118.55115509033203,
          178.6100311279297,
          254.0621795654297,
          87.23100280761719,
          84.310546875,
          220.51246643066406,
          373.9201965332031,
          299.4024963378906,
          216.81961059570312,
          228.4710235595703,
          204.06903076171875,
          191.28541564941406,
          322.9906921386719,
          117.83869934082031,
          136.92445373535156,
          80.16458129882812,
          327.0496520996094,
          43.796295166015625,
          55.76264953613281
         ]
        },
        {
         "marker": {
          "color": "red",
          "size": 12
         },
         "mode": "markers",
         "name": "Young's Modulus (Testing)",
         "text": [
          "VGaFe2",
          "ZrVP",
          "VGaCo2",
          "CsVI3",
          "V4GaS8",
          "Li7VN4",
          "AlVCo2",
          "RbVF3",
          "HfVF6",
          "VZnRu2",
          "V2ReOs",
          "VSiRu2",
          "LiVRh2",
          "Ta2VRu",
          "HfVGe",
          "Sc(VGa2)2",
          "AlV2C",
          "Tl3VSe4",
          "VAuS2",
          "Ba3V2O8",
          "V2CrOs",
          "Cs2TlVF6",
          "Rb2NaVF6"
         ],
         "type": "scatter",
         "x": [
          309.88,
          267.5,
          220.08,
          8.16,
          116.56,
          167.04,
          250.88,
          88.9,
          86.46000000000002,
          217.08,
          371.52,
          296.4000000000001,
          213.2,
          225.12,
          198.12,
          186.96,
          311.78,
          115.08,
          134.16,
          75.98,
          325,
          39.76,
          60.26000000000001
         ],
         "y": [
          314.2917785644531,
          271.1103515625,
          223.50657653808594,
          12.29483413696289,
          118.55115509033203,
          178.6100311279297,
          254.0621795654297,
          87.23100280761719,
          84.310546875,
          220.51246643066406,
          373.9201965332031,
          299.4024963378906,
          216.81961059570312,
          228.4710235595703,
          204.06903076171875,
          191.28541564941406,
          322.9906921386719,
          117.83869934082031,
          136.92445373535156,
          80.16458129882812,
          327.0496520996094,
          43.796295166015625,
          55.76264953613281
         ]
        },
        {
         "mode": "lines",
         "name": "Match",
         "type": "scatter",
         "x": [
          0,
          600
         ],
         "y": [
          0,
          600
         ]
        }
       ],
       "layout": {
        "height": 600,
        "hovermode": "closest",
        "legend": {
         "font": {
          "size": 24
         }
        },
        "showlegend": true,
        "template": {
         "data": {
          "bar": [
           {
            "error_x": {
             "color": "#2a3f5f"
            },
            "error_y": {
             "color": "#2a3f5f"
            },
            "marker": {
             "line": {
              "color": "#E5ECF6",
              "width": 0.5
             }
            },
            "type": "bar"
           }
          ],
          "barpolar": [
           {
            "marker": {
             "line": {
              "color": "#E5ECF6",
              "width": 0.5
             }
            },
            "type": "barpolar"
           }
          ],
          "carpet": [
           {
            "aaxis": {
             "endlinecolor": "#2a3f5f",
             "gridcolor": "white",
             "linecolor": "white",
             "minorgridcolor": "white",
             "startlinecolor": "#2a3f5f"
            },
            "baxis": {
             "endlinecolor": "#2a3f5f",
             "gridcolor": "white",
             "linecolor": "white",
             "minorgridcolor": "white",
             "startlinecolor": "#2a3f5f"
            },
            "type": "carpet"
           }
          ],
          "choropleth": [
           {
            "colorbar": {
             "outlinewidth": 0,
             "ticks": ""
            },
            "type": "choropleth"
           }
          ],
          "contour": [
           {
            "colorbar": {
             "outlinewidth": 0,
             "ticks": ""
            },
            "colorscale": [
             [
              0,
              "#0d0887"
             ],
             [
              0.1111111111111111,
              "#46039f"
             ],
             [
              0.2222222222222222,
              "#7201a8"
             ],
             [
              0.3333333333333333,
              "#9c179e"
             ],
             [
              0.4444444444444444,
              "#bd3786"
             ],
             [
              0.5555555555555556,
              "#d8576b"
             ],
             [
              0.6666666666666666,
              "#ed7953"
             ],
             [
              0.7777777777777778,
              "#fb9f3a"
             ],
             [
              0.8888888888888888,
              "#fdca26"
             ],
             [
              1,
              "#f0f921"
             ]
            ],
            "type": "contour"
           }
          ],
          "contourcarpet": [
           {
            "colorbar": {
             "outlinewidth": 0,
             "ticks": ""
            },
            "type": "contourcarpet"
           }
          ],
          "heatmap": [
           {
            "colorbar": {
             "outlinewidth": 0,
             "ticks": ""
            },
            "colorscale": [
             [
              0,
              "#0d0887"
             ],
             [
              0.1111111111111111,
              "#46039f"
             ],
             [
              0.2222222222222222,
              "#7201a8"
             ],
             [
              0.3333333333333333,
              "#9c179e"
             ],
             [
              0.4444444444444444,
              "#bd3786"
             ],
             [
              0.5555555555555556,
              "#d8576b"
             ],
             [
              0.6666666666666666,
              "#ed7953"
             ],
             [
              0.7777777777777778,
              "#fb9f3a"
             ],
             [
              0.8888888888888888,
              "#fdca26"
             ],
             [
              1,
              "#f0f921"
             ]
            ],
            "type": "heatmap"
           }
          ],
          "heatmapgl": [
           {
            "colorbar": {
             "outlinewidth": 0,
             "ticks": ""
            },
            "colorscale": [
             [
              0,
              "#0d0887"
             ],
             [
              0.1111111111111111,
              "#46039f"
             ],
             [
              0.2222222222222222,
              "#7201a8"
             ],
             [
              0.3333333333333333,
              "#9c179e"
             ],
             [
              0.4444444444444444,
              "#bd3786"
             ],
             [
              0.5555555555555556,
              "#d8576b"
             ],
             [
              0.6666666666666666,
              "#ed7953"
             ],
             [
              0.7777777777777778,
              "#fb9f3a"
             ],
             [
              0.8888888888888888,
              "#fdca26"
             ],
             [
              1,
              "#f0f921"
             ]
            ],
            "type": "heatmapgl"
           }
          ],
          "histogram": [
           {
            "marker": {
             "colorbar": {
              "outlinewidth": 0,
              "ticks": ""
             }
            },
            "type": "histogram"
           }
          ],
          "histogram2d": [
           {
            "colorbar": {
             "outlinewidth": 0,
             "ticks": ""
            },
            "colorscale": [
             [
              0,
              "#0d0887"
             ],
             [
              0.1111111111111111,
              "#46039f"
             ],
             [
              0.2222222222222222,
              "#7201a8"
             ],
             [
              0.3333333333333333,
              "#9c179e"
             ],
             [
              0.4444444444444444,
              "#bd3786"
             ],
             [
              0.5555555555555556,
              "#d8576b"
             ],
             [
              0.6666666666666666,
              "#ed7953"
             ],
             [
              0.7777777777777778,
              "#fb9f3a"
             ],
             [
              0.8888888888888888,
              "#fdca26"
             ],
             [
              1,
              "#f0f921"
             ]
            ],
            "type": "histogram2d"
           }
          ],
          "histogram2dcontour": [
           {
            "colorbar": {
             "outlinewidth": 0,
             "ticks": ""
            },
            "colorscale": [
             [
              0,
              "#0d0887"
             ],
             [
              0.1111111111111111,
              "#46039f"
             ],
             [
              0.2222222222222222,
              "#7201a8"
             ],
             [
              0.3333333333333333,
              "#9c179e"
             ],
             [
              0.4444444444444444,
              "#bd3786"
             ],
             [
              0.5555555555555556,
              "#d8576b"
             ],
             [
              0.6666666666666666,
              "#ed7953"
             ],
             [
              0.7777777777777778,
              "#fb9f3a"
             ],
             [
              0.8888888888888888,
              "#fdca26"
             ],
             [
              1,
              "#f0f921"
             ]
            ],
            "type": "histogram2dcontour"
           }
          ],
          "mesh3d": [
           {
            "colorbar": {
             "outlinewidth": 0,
             "ticks": ""
            },
            "type": "mesh3d"
           }
          ],
          "parcoords": [
           {
            "line": {
             "colorbar": {
              "outlinewidth": 0,
              "ticks": ""
             }
            },
            "type": "parcoords"
           }
          ],
          "pie": [
           {
            "automargin": true,
            "type": "pie"
           }
          ],
          "scatter": [
           {
            "marker": {
             "colorbar": {
              "outlinewidth": 0,
              "ticks": ""
             }
            },
            "type": "scatter"
           }
          ],
          "scatter3d": [
           {
            "line": {
             "colorbar": {
              "outlinewidth": 0,
              "ticks": ""
             }
            },
            "marker": {
             "colorbar": {
              "outlinewidth": 0,
              "ticks": ""
             }
            },
            "type": "scatter3d"
           }
          ],
          "scattercarpet": [
           {
            "marker": {
             "colorbar": {
              "outlinewidth": 0,
              "ticks": ""
             }
            },
            "type": "scattercarpet"
           }
          ],
          "scattergeo": [
           {
            "marker": {
             "colorbar": {
              "outlinewidth": 0,
              "ticks": ""
             }
            },
            "type": "scattergeo"
           }
          ],
          "scattergl": [
           {
            "marker": {
             "colorbar": {
              "outlinewidth": 0,
              "ticks": ""
             }
            },
            "type": "scattergl"
           }
          ],
          "scattermapbox": [
           {
            "marker": {
             "colorbar": {
              "outlinewidth": 0,
              "ticks": ""
             }
            },
            "type": "scattermapbox"
           }
          ],
          "scatterpolar": [
           {
            "marker": {
             "colorbar": {
              "outlinewidth": 0,
              "ticks": ""
             }
            },
            "type": "scatterpolar"
           }
          ],
          "scatterpolargl": [
           {
            "marker": {
             "colorbar": {
              "outlinewidth": 0,
              "ticks": ""
             }
            },
            "type": "scatterpolargl"
           }
          ],
          "scatterternary": [
           {
            "marker": {
             "colorbar": {
              "outlinewidth": 0,
              "ticks": ""
             }
            },
            "type": "scatterternary"
           }
          ],
          "surface": [
           {
            "colorbar": {
             "outlinewidth": 0,
             "ticks": ""
            },
            "colorscale": [
             [
              0,
              "#0d0887"
             ],
             [
              0.1111111111111111,
              "#46039f"
             ],
             [
              0.2222222222222222,
              "#7201a8"
             ],
             [
              0.3333333333333333,
              "#9c179e"
             ],
             [
              0.4444444444444444,
              "#bd3786"
             ],
             [
              0.5555555555555556,
              "#d8576b"
             ],
             [
              0.6666666666666666,
              "#ed7953"
             ],
             [
              0.7777777777777778,
              "#fb9f3a"
             ],
             [
              0.8888888888888888,
              "#fdca26"
             ],
             [
              1,
              "#f0f921"
             ]
            ],
            "type": "surface"
           }
          ],
          "table": [
           {
            "cells": {
             "fill": {
              "color": "#EBF0F8"
             },
             "line": {
              "color": "white"
             }
            },
            "header": {
             "fill": {
              "color": "#C8D4E3"
             },
             "line": {
              "color": "white"
             }
            },
            "type": "table"
           }
          ]
         },
         "layout": {
          "annotationdefaults": {
           "arrowcolor": "#2a3f5f",
           "arrowhead": 0,
           "arrowwidth": 1
          },
          "coloraxis": {
           "colorbar": {
            "outlinewidth": 0,
            "ticks": ""
           }
          },
          "colorscale": {
           "diverging": [
            [
             0,
             "#8e0152"
            ],
            [
             0.1,
             "#c51b7d"
            ],
            [
             0.2,
             "#de77ae"
            ],
            [
             0.3,
             "#f1b6da"
            ],
            [
             0.4,
             "#fde0ef"
            ],
            [
             0.5,
             "#f7f7f7"
            ],
            [
             0.6,
             "#e6f5d0"
            ],
            [
             0.7,
             "#b8e186"
            ],
            [
             0.8,
             "#7fbc41"
            ],
            [
             0.9,
             "#4d9221"
            ],
            [
             1,
             "#276419"
            ]
           ],
           "sequential": [
            [
             0,
             "#0d0887"
            ],
            [
             0.1111111111111111,
             "#46039f"
            ],
            [
             0.2222222222222222,
             "#7201a8"
            ],
            [
             0.3333333333333333,
             "#9c179e"
            ],
            [
             0.4444444444444444,
             "#bd3786"
            ],
            [
             0.5555555555555556,
             "#d8576b"
            ],
            [
             0.6666666666666666,
             "#ed7953"
            ],
            [
             0.7777777777777778,
             "#fb9f3a"
            ],
            [
             0.8888888888888888,
             "#fdca26"
            ],
            [
             1,
             "#f0f921"
            ]
           ],
           "sequentialminus": [
            [
             0,
             "#0d0887"
            ],
            [
             0.1111111111111111,
             "#46039f"
            ],
            [
             0.2222222222222222,
             "#7201a8"
            ],
            [
             0.3333333333333333,
             "#9c179e"
            ],
            [
             0.4444444444444444,
             "#bd3786"
            ],
            [
             0.5555555555555556,
             "#d8576b"
            ],
            [
             0.6666666666666666,
             "#ed7953"
            ],
            [
             0.7777777777777778,
             "#fb9f3a"
            ],
            [
             0.8888888888888888,
             "#fdca26"
            ],
            [
             1,
             "#f0f921"
            ]
           ]
          },
          "colorway": [
           "#636efa",
           "#EF553B",
           "#00cc96",
           "#ab63fa",
           "#FFA15A",
           "#19d3f3",
           "#FF6692",
           "#B6E880",
           "#FF97FF",
           "#FECB52"
          ],
          "font": {
           "color": "#2a3f5f"
          },
          "geo": {
           "bgcolor": "white",
           "lakecolor": "white",
           "landcolor": "#E5ECF6",
           "showlakes": true,
           "showland": true,
           "subunitcolor": "white"
          },
          "hoverlabel": {
           "align": "left"
          },
          "hovermode": "closest",
          "mapbox": {
           "style": "light"
          },
          "paper_bgcolor": "white",
          "plot_bgcolor": "#E5ECF6",
          "polar": {
           "angularaxis": {
            "gridcolor": "white",
            "linecolor": "white",
            "ticks": ""
           },
           "bgcolor": "#E5ECF6",
           "radialaxis": {
            "gridcolor": "white",
            "linecolor": "white",
            "ticks": ""
           }
          },
          "scene": {
           "xaxis": {
            "backgroundcolor": "#E5ECF6",
            "gridcolor": "white",
            "gridwidth": 2,
            "linecolor": "white",
            "showbackground": true,
            "ticks": "",
            "zerolinecolor": "white"
           },
           "yaxis": {
            "backgroundcolor": "#E5ECF6",
            "gridcolor": "white",
            "gridwidth": 2,
            "linecolor": "white",
            "showbackground": true,
            "ticks": "",
            "zerolinecolor": "white"
           },
           "zaxis": {
            "backgroundcolor": "#E5ECF6",
            "gridcolor": "white",
            "gridwidth": 2,
            "linecolor": "white",
            "showbackground": true,
            "ticks": "",
            "zerolinecolor": "white"
           }
          },
          "shapedefaults": {
           "line": {
            "color": "#2a3f5f"
           }
          },
          "ternary": {
           "aaxis": {
            "gridcolor": "white",
            "linecolor": "white",
            "ticks": ""
           },
           "baxis": {
            "gridcolor": "white",
            "linecolor": "white",
            "ticks": ""
           },
           "bgcolor": "#E5ECF6",
           "caxis": {
            "gridcolor": "white",
            "linecolor": "white",
            "ticks": ""
           }
          },
          "title": {
           "x": 0.05
          },
          "xaxis": {
           "automargin": true,
           "gridcolor": "white",
           "linecolor": "white",
           "ticks": "",
           "title": {
            "standoff": 15
           },
           "zerolinecolor": "white",
           "zerolinewidth": 2
          },
          "yaxis": {
           "automargin": true,
           "gridcolor": "white",
           "linecolor": "white",
           "ticks": "",
           "title": {
            "standoff": 15
           },
           "zerolinecolor": "white",
           "zerolinewidth": 2
          }
         }
        },
        "title": {
         "font": {
          "size": 28
         },
         "text": "Neural Network Model - V compounds Young's Modulus"
        },
        "width": 1000,
        "xaxis": {
         "gridwidth": 1,
         "tickfont": {
          "size": 18
         },
         "title": {
          "font": {
           "size": 24
          },
          "text": "Real Values (GPa)"
         },
         "zeroline": false
        },
        "yaxis": {
         "gridwidth": 1,
         "tickfont": {
          "size": 18
         },
         "title": {
          "font": {
           "size": 24
          },
          "text": "Prediction (GPa)"
         },
         "zeroline": false
        }
       }
      },
      "text/html": [
       "<div>\n",
       "        \n",
       "        \n",
       "            <div id=\"9f729b52-d4e6-413c-b8fe-582e39953633\" class=\"plotly-graph-div\" style=\"height:600px; width:1000px;\"></div>\n",
       "            <script type=\"text/javascript\">\n",
       "                require([\"plotly\"], function(Plotly) {\n",
       "                    window.PLOTLYENV=window.PLOTLYENV || {};\n",
       "                    \n",
       "                if (document.getElementById(\"9f729b52-d4e6-413c-b8fe-582e39953633\")) {\n",
       "                    Plotly.newPlot(\n",
       "                        '9f729b52-d4e6-413c-b8fe-582e39953633',\n",
       "                        [{\"marker\": {\"color\": \"blue\", \"size\": 12}, \"mode\": \"markers\", \"name\": \"Young's Modulus (Training)\", \"text\": [\"VS2\", \"VPt\", \"VSi2\", \"VP\", \"VSi2\", \"Be2V\", \"VNi2\", \"VPd2\", \"VZn3\", \"VTe2\", \"VPt2\", \"V3Ge\", \"AlV3\", \"VRu\", \"VB2\", \"V3Sb\", \"V3Co\", \"V3Pd\", \"VO2\", \"VAs\", \"V3Ir\", \"V2P\", \"V2C\", \"VSn2\", \"V3B2\", \"V3Sn\", \"V3Pt\", \"V3Ga\", \"V3Se4\", \"VCl2\", \"VH2\", \"VTc\", \"Al3V\", \"V3Si\", \"VPt\", \"VPt3\", \"V6C5\", \"V3As\", \"V4Zn5\", \"MnV\", \"VF4\", \"VF3\", \"TaV2\", \"V5Si3\", \"VIr\", \"V3B4\", \"Be12V\", \"V2H\", \"V2H\", \"V3Ni\", \"V3Au\", \"V3Ru\", \"V3Re\", \"VBr3\", \"VI3\", \"VIr3\", \"V3Os\", \"VFe3\", \"VRh3\", \"VPd3\", \"V2B3\", \"V3Mo\", \"VP2\", \"V5Te4\", \"VB\", \"VCoB3\", \"HfVSi\", \"LiV2N3\", \"Er(VGa2)2\", \"V3Rh\", \"VNi3\", \"VPO4\", \"V2O3\", \"YVO4\", \"Mn2V2O7\", \"CsVCl3\", \"CsVBr3\", \"VCu3S4\", \"AlVFe2\", \"VSe2\", \"MnV3\", \"VSiOs2\", \"VGaRu2\", \"BeVOs2\", \"ZrVGe\", \"Ca2VN3\", \"V2Cd2O7\", \"Li3VO4\", \"NaVO2\", \"Tl3VS4\", \"RbVBr3\", \"Li3VS4\", \"V2PC\", \"AlVOs2\", \"MnV2Os\", \"VGeRu2\", \"TiVTc2\", \"TiVRe2\", \"BeVCo2\", \"ScVRu2\", \"LiVIr2\", \"Hf(VGa2)2\", \"CsVN2\", \"NaVN2\", \"LiVN2\", \"VBO3\", \"LiVO2\", \"VFe2Si\", \"ZrVSi\", \"ZrVF6\", \"LiV2O5\", \"Ta2VOs\", \"VGaTc2\", \"VSiTc2\", \"VTc2Ge\", \"V2CrRe\", \"V2CrFe\", \"V2CrRu\", \"V2TcOs\", \"V2TcRu\", \"Mn2VGe\", \"AlVRu2\", \"BeVRu2\", \"V4GeSe8\", \"Ca3VN3\", \"V2GeC\", \"Zr(VGa2)2\", \"Mn2VGa\", \"RbVCl3\", \"V3AsC\", \"KVF3\", \"VFeSb\", \"MnV2Cr\", \"Mn2VSi\", \"VCo2Ge\", \"VZnRh2\", \"V2CrTc\", \"TiMn2V\", \"BeVFe2\", \"V2MoOs\", \"V2ReRu\", \"V2AsC\", \"VZn2N3\", \"RbVN2\", \"Mg2VN3\", \"Mn2AlV\", \"NaVO3\", \"ScVO4\", \"VCoSi\", \"VCu3Se4\", \"VGaFe2\", \"ZrVP\", \"VGaCo2\", \"CsVI3\", \"V4GaS8\", \"Li7VN4\", \"AlVCo2\", \"RbVF3\", \"HfVF6\", \"VZnRu2\", \"V2ReOs\", \"VSiRu2\", \"LiVRh2\", \"Ta2VRu\", \"HfVGe\", \"Sc(VGa2)2\", \"AlV2C\", \"Tl3VSe4\", \"VAuS2\", \"Ba3V2O8\", \"V2CrOs\", \"Cs2TlVF6\", \"Rb2NaVF6\"], \"type\": \"scatter\", \"x\": [34.72, 261.36, 343.98, 275.52, 343.98, 322.92, 227.04, 200.64, 163.8, 41.82, 296.4000000000001, 147.96, 29.4, 206.72, 563.9399999999998, 206.98, 281.6, 196.84, 304.64, 215.0, 312.32, 263.16, 301.86, 132.08, 473.62, 63.36, 246.28, 106.4, 131.76, 17.22, 232.96, 322.5, 234.0, 196.84, 355.32, 288.6, 423.5, 274.68, 146.72, 312.32, 31.360000000000007, 65.72, 109.98, 297.6, 303.92, 542.88, 316.8, 143.51999999999995, 147.96, 241.8, 194.18, 242.88, 190.4, 7.68, 7.800000000000002, 468.72, 280.34000000000003, 234.0, 325.12, 199.12, 554.5799999999998, 112.0, 292.64, 75.0, 542.88, 496.1, 175.54000000000005, 180.6, 183.96, 270.90000000000003, 262.6, 163.68, 211.2, 125.02, 86.4, 13.4, 13.1, 61.5, 339.76, 28.8, 149.04, 327.6, 291.2, 295.68, 185.76, 128.0, 70.72, 84.48, 131.0, 19.32, 5.76, 17.92, 366.54, 358.4000000000001, 301.3, 264.0, 248.16000000000003, 299.0, 156.18, 231.4, 283.8, 222.04, 113.52, 42.88, 115.92, 229.62, 158.72, 124.96, 159.60000000000005, 83.84, 92.88, 258.02000000000004, 199.8, 269.28000000000003, 239.4, 293.44, 278.2, 277.72, 335.4000000000001, 293.44, 273.0, 314.88, 230.48, 88.56, 126.0, 254.52, 209.84, 217.46, 5.76, 208.56, 87.72, 164.92000000000004, 259.38, 325.12, 198.32, 77.75999999999998, 264.62, 214.84, 283.8, 317.44, 319.92, 289.8, 161.04000000000005, 88.56, 141.48000000000005, 248.92, 45.72, 84.6, 284.48, 52.92, 309.88, 267.5, 220.08, 8.16, 116.56, 167.04, 250.88, 88.9, 86.46000000000002, 217.08, 371.52, 296.4000000000001, 213.2, 225.12, 198.12, 186.96, 311.78, 115.08, 134.16, 75.98, 325.0, 39.76, 60.26000000000001], \"y\": [35.62069320678711, 263.8217468261719, 358.3824157714844, 279.2281188964844, 349.3004455566406, 332.5876159667969, 228.89353942871094, 204.5692596435547, 168.09043884277344, 44.24261474609375, 300.3163757324219, 150.33753967285156, 36.83936309814453, 212.4991912841797, 584.33544921875, 208.28123474121094, 283.61724853515625, 199.9906463623047, 309.7589416503906, 218.40586853027344, 316.2182312011719, 263.7366027832031, 303.383056640625, 136.64996337890625, 488.590087890625, 69.34391021728516, 249.9923095703125, 108.63636779785156, 132.8922119140625, 17.366817474365234, 232.23338317871094, 324.1189880371094, 237.6401824951172, 198.4977569580078, 360.9898376464844, 293.1507263183594, 431.6993408203125, 279.8669128417969, 147.4757843017578, 315.5613098144531, 33.42804718017578, 71.14205169677734, 118.5693588256836, 302.2447814941406, 308.9019775390625, 564.1233520507812, 333.6254577636719, 145.2645721435547, 153.84022521972656, 243.51881408691406, 196.7751922607422, 244.7761993408203, 197.01206970214844, 8.976215362548828, 9.11902904510498, 473.2570495605469, 283.24591064453125, 236.69244384765625, 329.8165283203125, 203.25758361816406, 574.9159545898438, 117.49684143066406, 301.3946533203125, 76.75817108154297, 563.189697265625, 506.1575012207031, 173.39170837402344, 177.7034454345703, 189.4029541015625, 273.6041564941406, 263.62310791015625, 169.05914306640625, 215.7066650390625, 127.15806579589844, 87.7496566772461, 13.537172317504883, 13.176982879638672, 60.770301818847656, 346.4441223144531, 29.124286651611328, 154.063720703125, 331.5742492675781, 292.8635559082031, 300.4927673339844, 186.86695861816406, 128.5349578857422, 71.85726928710938, 87.4549560546875, 132.4959716796875, 20.232152938842773, 6.281972885131836, 18.219573974609375, 372.1174621582031, 362.4905700683594, 304.232666015625, 265.32025146484375, 251.2417449951172, 303.8393859863281, 156.4379119873047, 234.14402770996094, 288.4241943359375, 232.4298095703125, 113.61355590820312, 41.75642395019531, 118.31604766845703, 232.0165252685547, 161.0058135986328, 128.35939025878906, 155.76075744628906, 84.19804382324219, 92.8659896850586, 261.10467529296875, 204.2528839111328, 272.9945983886719, 243.15032958984375, 295.4604187011719, 280.6618347167969, 279.7615661621094, 337.8997497558594, 295.0687255859375, 274.03887939453125, 316.3525085449219, 232.84469604492188, 90.49357604980469, 128.7588653564453, 258.9432067871094, 218.6399383544922, 218.10972595214844, 6.320840835571289, 208.6085968017578, 87.62374877929688, 166.6019287109375, 262.00299072265625, 327.8907775878906, 199.41436767578125, 79.04075622558594, 268.05517578125, 217.01292419433594, 285.4598388671875, 321.5945129394531, 322.4197998046875, 293.5707092285156, 161.2124481201172, 87.9595718383789, 142.20431518554688, 252.7078399658203, 62.74388885498047, 103.03791809082031, 287.6800842285156, 49.5194091796875, 314.2917785644531, 271.1103515625, 223.50657653808594, 12.29483413696289, 118.55115509033203, 178.6100311279297, 254.0621795654297, 87.23100280761719, 84.310546875, 220.51246643066406, 373.9201965332031, 299.4024963378906, 216.81961059570312, 228.4710235595703, 204.06903076171875, 191.28541564941406, 322.9906921386719, 117.83869934082031, 136.92445373535156, 80.16458129882812, 327.0496520996094, 43.796295166015625, 55.76264953613281]}, {\"marker\": {\"color\": \"red\", \"size\": 12}, \"mode\": \"markers\", \"name\": \"Young's Modulus (Testing)\", \"text\": [\"VGaFe2\", \"ZrVP\", \"VGaCo2\", \"CsVI3\", \"V4GaS8\", \"Li7VN4\", \"AlVCo2\", \"RbVF3\", \"HfVF6\", \"VZnRu2\", \"V2ReOs\", \"VSiRu2\", \"LiVRh2\", \"Ta2VRu\", \"HfVGe\", \"Sc(VGa2)2\", \"AlV2C\", \"Tl3VSe4\", \"VAuS2\", \"Ba3V2O8\", \"V2CrOs\", \"Cs2TlVF6\", \"Rb2NaVF6\"], \"type\": \"scatter\", \"x\": [309.88, 267.5, 220.08, 8.16, 116.56, 167.04, 250.88, 88.9, 86.46000000000002, 217.08, 371.52, 296.4000000000001, 213.2, 225.12, 198.12, 186.96, 311.78, 115.08, 134.16, 75.98, 325.0, 39.76, 60.26000000000001], \"y\": [314.2917785644531, 271.1103515625, 223.50657653808594, 12.29483413696289, 118.55115509033203, 178.6100311279297, 254.0621795654297, 87.23100280761719, 84.310546875, 220.51246643066406, 373.9201965332031, 299.4024963378906, 216.81961059570312, 228.4710235595703, 204.06903076171875, 191.28541564941406, 322.9906921386719, 117.83869934082031, 136.92445373535156, 80.16458129882812, 327.0496520996094, 43.796295166015625, 55.76264953613281]}, {\"mode\": \"lines\", \"name\": \"Match\", \"type\": \"scatter\", \"x\": [0, 600], \"y\": [0, 600]}],\n",
       "                        {\"height\": 600, \"hovermode\": \"closest\", \"legend\": {\"font\": {\"size\": 24}}, \"showlegend\": true, \"template\": {\"data\": {\"bar\": [{\"error_x\": {\"color\": \"#2a3f5f\"}, \"error_y\": {\"color\": \"#2a3f5f\"}, \"marker\": {\"line\": {\"color\": \"#E5ECF6\", \"width\": 0.5}}, \"type\": \"bar\"}], \"barpolar\": [{\"marker\": {\"line\": {\"color\": \"#E5ECF6\", \"width\": 0.5}}, \"type\": \"barpolar\"}], \"carpet\": [{\"aaxis\": {\"endlinecolor\": \"#2a3f5f\", \"gridcolor\": \"white\", \"linecolor\": \"white\", \"minorgridcolor\": \"white\", \"startlinecolor\": \"#2a3f5f\"}, \"baxis\": {\"endlinecolor\": \"#2a3f5f\", \"gridcolor\": \"white\", \"linecolor\": \"white\", \"minorgridcolor\": \"white\", \"startlinecolor\": \"#2a3f5f\"}, \"type\": \"carpet\"}], \"choropleth\": [{\"colorbar\": {\"outlinewidth\": 0, \"ticks\": \"\"}, \"type\": \"choropleth\"}], \"contour\": [{\"colorbar\": {\"outlinewidth\": 0, \"ticks\": \"\"}, \"colorscale\": [[0.0, \"#0d0887\"], [0.1111111111111111, \"#46039f\"], [0.2222222222222222, \"#7201a8\"], [0.3333333333333333, \"#9c179e\"], [0.4444444444444444, \"#bd3786\"], [0.5555555555555556, \"#d8576b\"], [0.6666666666666666, \"#ed7953\"], [0.7777777777777778, \"#fb9f3a\"], [0.8888888888888888, \"#fdca26\"], [1.0, \"#f0f921\"]], \"type\": \"contour\"}], \"contourcarpet\": [{\"colorbar\": {\"outlinewidth\": 0, \"ticks\": \"\"}, \"type\": \"contourcarpet\"}], \"heatmap\": [{\"colorbar\": {\"outlinewidth\": 0, \"ticks\": \"\"}, \"colorscale\": [[0.0, \"#0d0887\"], [0.1111111111111111, \"#46039f\"], [0.2222222222222222, \"#7201a8\"], [0.3333333333333333, \"#9c179e\"], [0.4444444444444444, \"#bd3786\"], [0.5555555555555556, \"#d8576b\"], [0.6666666666666666, \"#ed7953\"], [0.7777777777777778, \"#fb9f3a\"], [0.8888888888888888, \"#fdca26\"], [1.0, \"#f0f921\"]], \"type\": \"heatmap\"}], \"heatmapgl\": [{\"colorbar\": {\"outlinewidth\": 0, \"ticks\": \"\"}, \"colorscale\": [[0.0, \"#0d0887\"], [0.1111111111111111, \"#46039f\"], [0.2222222222222222, \"#7201a8\"], [0.3333333333333333, \"#9c179e\"], [0.4444444444444444, \"#bd3786\"], [0.5555555555555556, \"#d8576b\"], [0.6666666666666666, \"#ed7953\"], [0.7777777777777778, \"#fb9f3a\"], [0.8888888888888888, \"#fdca26\"], [1.0, \"#f0f921\"]], \"type\": \"heatmapgl\"}], \"histogram\": [{\"marker\": {\"colorbar\": {\"outlinewidth\": 0, \"ticks\": \"\"}}, \"type\": \"histogram\"}], \"histogram2d\": [{\"colorbar\": {\"outlinewidth\": 0, \"ticks\": \"\"}, \"colorscale\": [[0.0, \"#0d0887\"], [0.1111111111111111, \"#46039f\"], [0.2222222222222222, \"#7201a8\"], [0.3333333333333333, \"#9c179e\"], [0.4444444444444444, \"#bd3786\"], [0.5555555555555556, \"#d8576b\"], [0.6666666666666666, \"#ed7953\"], [0.7777777777777778, \"#fb9f3a\"], [0.8888888888888888, \"#fdca26\"], [1.0, \"#f0f921\"]], \"type\": \"histogram2d\"}], \"histogram2dcontour\": [{\"colorbar\": {\"outlinewidth\": 0, \"ticks\": \"\"}, \"colorscale\": [[0.0, \"#0d0887\"], [0.1111111111111111, \"#46039f\"], [0.2222222222222222, \"#7201a8\"], [0.3333333333333333, \"#9c179e\"], [0.4444444444444444, \"#bd3786\"], [0.5555555555555556, \"#d8576b\"], [0.6666666666666666, \"#ed7953\"], [0.7777777777777778, \"#fb9f3a\"], [0.8888888888888888, \"#fdca26\"], [1.0, \"#f0f921\"]], \"type\": \"histogram2dcontour\"}], \"mesh3d\": [{\"colorbar\": {\"outlinewidth\": 0, \"ticks\": \"\"}, \"type\": \"mesh3d\"}], \"parcoords\": [{\"line\": {\"colorbar\": {\"outlinewidth\": 0, \"ticks\": \"\"}}, \"type\": \"parcoords\"}], \"pie\": [{\"automargin\": true, \"type\": \"pie\"}], \"scatter\": [{\"marker\": {\"colorbar\": {\"outlinewidth\": 0, \"ticks\": \"\"}}, \"type\": \"scatter\"}], \"scatter3d\": [{\"line\": {\"colorbar\": {\"outlinewidth\": 0, \"ticks\": \"\"}}, \"marker\": {\"colorbar\": {\"outlinewidth\": 0, \"ticks\": \"\"}}, \"type\": \"scatter3d\"}], \"scattercarpet\": [{\"marker\": {\"colorbar\": {\"outlinewidth\": 0, \"ticks\": \"\"}}, \"type\": \"scattercarpet\"}], \"scattergeo\": [{\"marker\": {\"colorbar\": {\"outlinewidth\": 0, \"ticks\": \"\"}}, \"type\": \"scattergeo\"}], \"scattergl\": [{\"marker\": {\"colorbar\": {\"outlinewidth\": 0, \"ticks\": \"\"}}, \"type\": \"scattergl\"}], \"scattermapbox\": [{\"marker\": {\"colorbar\": {\"outlinewidth\": 0, \"ticks\": \"\"}}, \"type\": \"scattermapbox\"}], \"scatterpolar\": [{\"marker\": {\"colorbar\": {\"outlinewidth\": 0, \"ticks\": \"\"}}, \"type\": \"scatterpolar\"}], \"scatterpolargl\": [{\"marker\": {\"colorbar\": {\"outlinewidth\": 0, \"ticks\": \"\"}}, \"type\": \"scatterpolargl\"}], \"scatterternary\": [{\"marker\": {\"colorbar\": {\"outlinewidth\": 0, \"ticks\": \"\"}}, \"type\": \"scatterternary\"}], \"surface\": [{\"colorbar\": {\"outlinewidth\": 0, \"ticks\": \"\"}, \"colorscale\": [[0.0, \"#0d0887\"], [0.1111111111111111, \"#46039f\"], [0.2222222222222222, \"#7201a8\"], [0.3333333333333333, \"#9c179e\"], [0.4444444444444444, \"#bd3786\"], [0.5555555555555556, \"#d8576b\"], [0.6666666666666666, \"#ed7953\"], [0.7777777777777778, \"#fb9f3a\"], [0.8888888888888888, \"#fdca26\"], [1.0, \"#f0f921\"]], \"type\": \"surface\"}], \"table\": [{\"cells\": {\"fill\": {\"color\": \"#EBF0F8\"}, \"line\": {\"color\": \"white\"}}, \"header\": {\"fill\": {\"color\": \"#C8D4E3\"}, \"line\": {\"color\": \"white\"}}, \"type\": \"table\"}]}, \"layout\": {\"annotationdefaults\": {\"arrowcolor\": \"#2a3f5f\", \"arrowhead\": 0, \"arrowwidth\": 1}, \"coloraxis\": {\"colorbar\": {\"outlinewidth\": 0, \"ticks\": \"\"}}, \"colorscale\": {\"diverging\": [[0, \"#8e0152\"], [0.1, \"#c51b7d\"], [0.2, \"#de77ae\"], [0.3, \"#f1b6da\"], [0.4, \"#fde0ef\"], [0.5, \"#f7f7f7\"], [0.6, \"#e6f5d0\"], [0.7, \"#b8e186\"], [0.8, \"#7fbc41\"], [0.9, \"#4d9221\"], [1, \"#276419\"]], \"sequential\": [[0.0, \"#0d0887\"], [0.1111111111111111, \"#46039f\"], [0.2222222222222222, \"#7201a8\"], [0.3333333333333333, \"#9c179e\"], [0.4444444444444444, \"#bd3786\"], [0.5555555555555556, \"#d8576b\"], [0.6666666666666666, \"#ed7953\"], [0.7777777777777778, \"#fb9f3a\"], [0.8888888888888888, \"#fdca26\"], [1.0, \"#f0f921\"]], \"sequentialminus\": [[0.0, \"#0d0887\"], [0.1111111111111111, \"#46039f\"], [0.2222222222222222, \"#7201a8\"], [0.3333333333333333, \"#9c179e\"], [0.4444444444444444, \"#bd3786\"], [0.5555555555555556, \"#d8576b\"], [0.6666666666666666, \"#ed7953\"], [0.7777777777777778, \"#fb9f3a\"], [0.8888888888888888, \"#fdca26\"], [1.0, \"#f0f921\"]]}, \"colorway\": [\"#636efa\", \"#EF553B\", \"#00cc96\", \"#ab63fa\", \"#FFA15A\", \"#19d3f3\", \"#FF6692\", \"#B6E880\", \"#FF97FF\", \"#FECB52\"], \"font\": {\"color\": \"#2a3f5f\"}, \"geo\": {\"bgcolor\": \"white\", \"lakecolor\": \"white\", \"landcolor\": \"#E5ECF6\", \"showlakes\": true, \"showland\": true, \"subunitcolor\": \"white\"}, \"hoverlabel\": {\"align\": \"left\"}, \"hovermode\": \"closest\", \"mapbox\": {\"style\": \"light\"}, \"paper_bgcolor\": \"white\", \"plot_bgcolor\": \"#E5ECF6\", \"polar\": {\"angularaxis\": {\"gridcolor\": \"white\", \"linecolor\": \"white\", \"ticks\": \"\"}, \"bgcolor\": \"#E5ECF6\", \"radialaxis\": {\"gridcolor\": \"white\", \"linecolor\": \"white\", \"ticks\": \"\"}}, \"scene\": {\"xaxis\": {\"backgroundcolor\": \"#E5ECF6\", \"gridcolor\": \"white\", \"gridwidth\": 2, \"linecolor\": \"white\", \"showbackground\": true, \"ticks\": \"\", \"zerolinecolor\": \"white\"}, \"yaxis\": {\"backgroundcolor\": \"#E5ECF6\", \"gridcolor\": \"white\", \"gridwidth\": 2, \"linecolor\": \"white\", \"showbackground\": true, \"ticks\": \"\", \"zerolinecolor\": \"white\"}, \"zaxis\": {\"backgroundcolor\": \"#E5ECF6\", \"gridcolor\": \"white\", \"gridwidth\": 2, \"linecolor\": \"white\", \"showbackground\": true, \"ticks\": \"\", \"zerolinecolor\": \"white\"}}, \"shapedefaults\": {\"line\": {\"color\": \"#2a3f5f\"}}, \"ternary\": {\"aaxis\": {\"gridcolor\": \"white\", \"linecolor\": \"white\", \"ticks\": \"\"}, \"baxis\": {\"gridcolor\": \"white\", \"linecolor\": \"white\", \"ticks\": \"\"}, \"bgcolor\": \"#E5ECF6\", \"caxis\": {\"gridcolor\": \"white\", \"linecolor\": \"white\", \"ticks\": \"\"}}, \"title\": {\"x\": 0.05}, \"xaxis\": {\"automargin\": true, \"gridcolor\": \"white\", \"linecolor\": \"white\", \"ticks\": \"\", \"title\": {\"standoff\": 15}, \"zerolinecolor\": \"white\", \"zerolinewidth\": 2}, \"yaxis\": {\"automargin\": true, \"gridcolor\": \"white\", \"linecolor\": \"white\", \"ticks\": \"\", \"title\": {\"standoff\": 15}, \"zerolinecolor\": \"white\", \"zerolinewidth\": 2}}}, \"title\": {\"font\": {\"size\": 28}, \"text\": \"Neural Network Model - V compounds Young's Modulus\"}, \"width\": 1000, \"xaxis\": {\"gridwidth\": 1, \"tickfont\": {\"size\": 18}, \"title\": {\"font\": {\"size\": 24}, \"text\": \"Real Values (GPa)\"}, \"zeroline\": false}, \"yaxis\": {\"gridwidth\": 1, \"tickfont\": {\"size\": 18}, \"title\": {\"font\": {\"size\": 24}, \"text\": \"Prediction (GPa)\"}, \"zeroline\": false}},\n",
       "                        {\"responsive\": true}\n",
       "                    ).then(function(){\n",
       "                            \n",
       "var gd = document.getElementById('9f729b52-d4e6-413c-b8fe-582e39953633');\n",
       "var x = new MutationObserver(function (mutations, observer) {{\n",
       "        var display = window.getComputedStyle(gd).display;\n",
       "        if (!display || display === 'none') {{\n",
       "            console.log([gd, 'removed!']);\n",
       "            Plotly.purge(gd);\n",
       "            observer.disconnect();\n",
       "        }}\n",
       "}});\n",
       "\n",
       "// Listen for the removal of the full notebook cells\n",
       "var notebookContainer = gd.closest('#notebook-container');\n",
       "if (notebookContainer) {{\n",
       "    x.observe(notebookContainer, {childList: true});\n",
       "}}\n",
       "\n",
       "// Listen for the clearing of the current output cell\n",
       "var outputEl = gd.closest('.output');\n",
       "if (outputEl) {{\n",
       "    x.observe(outputEl, {childList: true});\n",
       "}}\n",
       "\n",
       "                        })\n",
       "                };\n",
       "                });\n",
       "            </script>\n",
       "        </div>"
      ]
     },
     "metadata": {},
     "output_type": "display_data"
    }
   ],
   "source": [
    "import plotly\n",
    "import plotly.graph_objs as go\n",
    "from plotly.offline import iplot\n",
    "\n",
    "plotly.offline.init_notebook_mode(connected=True)\n",
    "\n",
    "layout0= go.Layout(title=go.layout.Title(text=\"Neural Network Model - V compounds Young's Modulus\", font=dict(size=28)), hovermode= 'closest', width = 1000, height=600, showlegend=True,  # Hovermode establishes the way the labels that appear when you hover are arranged # Establishing a square plot width=height\n",
    "    xaxis= dict(title=go.layout.xaxis.Title(text='Real Values (GPa)', font=dict(size=24)), zeroline= False, gridwidth= 1, tickfont=dict(size=18)), # Axis Titles. Removing the X-axis Mark. Adding a Grid\n",
    "    yaxis= dict(title=go.layout.yaxis.Title(text='Prediction (GPa)', font=dict(size=24)), zeroline= False, gridwidth= 1, tickfont=dict(size=18)), # Axis Titles. Removing the Y-axis Mark. Adding a Grid\n",
    "    legend=dict(font=dict(size=24))) # Adding a legend\n",
    "\n",
    "trace0 = go.Scatter(x = all_labels, y = predictions, mode = 'markers', marker= dict(size= 12, color= 'blue'), text= elements, name = 'Young\\'s Modulus (Training)')\n",
    "trace1 = go.Scatter(x = test_labels, y = test_predictions, mode = 'markers', marker= dict(size= 12, color= 'red'), text = labeled_elements, name = 'Young\\'s Modulus (Testing)')\n",
    "trace2 = go.Scatter(x = [0,600], y = [0,600], mode = 'lines', name = \"Match\") # This trace is the line X = Y which would indicate that the Prediction equals the real value\n",
    "\n",
    "data = [trace0, trace1, trace2]\n",
    "fig= go.Figure(data, layout=layout0)\n",
    "iplot(fig)"
   ]
  },
  {
   "cell_type": "code",
   "execution_count": 13,
   "metadata": {},
   "outputs": [
    {
     "name": "stdout",
     "output_type": "stream",
     "text": [
      "173/173 - 0s - loss: 9.0158e-06 - mean_absolute_error: 9.0158e-06\n",
      "Loss: 9.015805448921575e-06, Accuracy: 9.015805517265107e-06\n"
     ]
    }
   ],
   "source": [
    "model_loss, model_accuracy = model.evaluate(values, predictions,verbose=2)\n",
    "print(f\"Loss: {model_loss}, Accuracy: {model_accuracy}\")"
   ]
  },
  {
   "cell_type": "code",
   "execution_count": null,
   "metadata": {},
   "outputs": [],
   "source": []
  }
 ],
 "metadata": {
  "kernelspec": {
   "display_name": "PythonData",
   "language": "python",
   "name": "pythondata"
  },
  "language_info": {
   "codemirror_mode": {
    "name": "ipython",
    "version": 3
   },
   "file_extension": ".py",
   "mimetype": "text/x-python",
   "name": "python",
   "nbconvert_exporter": "python",
   "pygments_lexer": "ipython3",
   "version": "3.7.7"
  }
 },
 "nbformat": 4,
 "nbformat_minor": 2
}
