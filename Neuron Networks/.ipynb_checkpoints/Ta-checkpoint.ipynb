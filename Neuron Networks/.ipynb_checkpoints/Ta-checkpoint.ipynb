{
 "cells": [
  {
   "cell_type": "markdown",
   "metadata": {},
   "source": [
    "### 1. Getting a dataset\n",
    "\n",
    "We have 12 datasets to explore in this notebook to predict the Young's Modulus with a three-layer neuron networks model with 2000 epochs. "
   ]
  },
  {
   "cell_type": "code",
   "execution_count": 1,
   "metadata": {},
   "outputs": [
    {
     "name": "stderr",
     "output_type": "stream",
     "text": [
      "C:\\Users\\Kayla Yano\\anaconda3\\envs\\PythonData\\lib\\site-packages\\tensorflow\\python\\framework\\dtypes.py:516: FutureWarning: Passing (type, 1) or '1type' as a synonym of type is deprecated; in a future version of numpy, it will be understood as (type, (1,)) / '(1,)type'.\n",
      "  _np_qint8 = np.dtype([(\"qint8\", np.int8, 1)])\n",
      "C:\\Users\\Kayla Yano\\anaconda3\\envs\\PythonData\\lib\\site-packages\\tensorflow\\python\\framework\\dtypes.py:517: FutureWarning: Passing (type, 1) or '1type' as a synonym of type is deprecated; in a future version of numpy, it will be understood as (type, (1,)) / '(1,)type'.\n",
      "  _np_quint8 = np.dtype([(\"quint8\", np.uint8, 1)])\n",
      "C:\\Users\\Kayla Yano\\anaconda3\\envs\\PythonData\\lib\\site-packages\\tensorflow\\python\\framework\\dtypes.py:518: FutureWarning: Passing (type, 1) or '1type' as a synonym of type is deprecated; in a future version of numpy, it will be understood as (type, (1,)) / '(1,)type'.\n",
      "  _np_qint16 = np.dtype([(\"qint16\", np.int16, 1)])\n",
      "C:\\Users\\Kayla Yano\\anaconda3\\envs\\PythonData\\lib\\site-packages\\tensorflow\\python\\framework\\dtypes.py:519: FutureWarning: Passing (type, 1) or '1type' as a synonym of type is deprecated; in a future version of numpy, it will be understood as (type, (1,)) / '(1,)type'.\n",
      "  _np_quint16 = np.dtype([(\"quint16\", np.uint16, 1)])\n",
      "C:\\Users\\Kayla Yano\\anaconda3\\envs\\PythonData\\lib\\site-packages\\tensorflow\\python\\framework\\dtypes.py:520: FutureWarning: Passing (type, 1) or '1type' as a synonym of type is deprecated; in a future version of numpy, it will be understood as (type, (1,)) / '(1,)type'.\n",
      "  _np_qint32 = np.dtype([(\"qint32\", np.int32, 1)])\n",
      "C:\\Users\\Kayla Yano\\anaconda3\\envs\\PythonData\\lib\\site-packages\\tensorflow\\python\\framework\\dtypes.py:525: FutureWarning: Passing (type, 1) or '1type' as a synonym of type is deprecated; in a future version of numpy, it will be understood as (type, (1,)) / '(1,)type'.\n",
      "  np_resource = np.dtype([(\"resource\", np.ubyte, 1)])\n",
      "C:\\Users\\Kayla Yano\\anaconda3\\envs\\PythonData\\lib\\site-packages\\tensorboard\\compat\\tensorflow_stub\\dtypes.py:541: FutureWarning: Passing (type, 1) or '1type' as a synonym of type is deprecated; in a future version of numpy, it will be understood as (type, (1,)) / '(1,)type'.\n",
      "  _np_qint8 = np.dtype([(\"qint8\", np.int8, 1)])\n",
      "C:\\Users\\Kayla Yano\\anaconda3\\envs\\PythonData\\lib\\site-packages\\tensorboard\\compat\\tensorflow_stub\\dtypes.py:542: FutureWarning: Passing (type, 1) or '1type' as a synonym of type is deprecated; in a future version of numpy, it will be understood as (type, (1,)) / '(1,)type'.\n",
      "  _np_quint8 = np.dtype([(\"quint8\", np.uint8, 1)])\n",
      "C:\\Users\\Kayla Yano\\anaconda3\\envs\\PythonData\\lib\\site-packages\\tensorboard\\compat\\tensorflow_stub\\dtypes.py:543: FutureWarning: Passing (type, 1) or '1type' as a synonym of type is deprecated; in a future version of numpy, it will be understood as (type, (1,)) / '(1,)type'.\n",
      "  _np_qint16 = np.dtype([(\"qint16\", np.int16, 1)])\n",
      "C:\\Users\\Kayla Yano\\anaconda3\\envs\\PythonData\\lib\\site-packages\\tensorboard\\compat\\tensorflow_stub\\dtypes.py:544: FutureWarning: Passing (type, 1) or '1type' as a synonym of type is deprecated; in a future version of numpy, it will be understood as (type, (1,)) / '(1,)type'.\n",
      "  _np_quint16 = np.dtype([(\"quint16\", np.uint16, 1)])\n",
      "C:\\Users\\Kayla Yano\\anaconda3\\envs\\PythonData\\lib\\site-packages\\tensorboard\\compat\\tensorflow_stub\\dtypes.py:545: FutureWarning: Passing (type, 1) or '1type' as a synonym of type is deprecated; in a future version of numpy, it will be understood as (type, (1,)) / '(1,)type'.\n",
      "  _np_qint32 = np.dtype([(\"qint32\", np.int32, 1)])\n",
      "C:\\Users\\Kayla Yano\\anaconda3\\envs\\PythonData\\lib\\site-packages\\tensorboard\\compat\\tensorflow_stub\\dtypes.py:550: FutureWarning: Passing (type, 1) or '1type' as a synonym of type is deprecated; in a future version of numpy, it will be understood as (type, (1,)) / '(1,)type'.\n",
      "  np_resource = np.dtype([(\"resource\", np.ubyte, 1)])\n"
     ]
    }
   ],
   "source": [
    "import pymatgen as pymat\n",
    "import mendeleev as mendel\n",
    "import pandas as pd\n",
    "import numpy as np\n",
    "from pathlib import Path\n",
    "import tensorflow as tf\n",
    "import tensorflow.keras\n",
    "from tensorflow.keras import initializers\n",
    "from tensorflow.keras.layers import Dense\n",
    "from tensorflow.keras.models import Sequential\n",
    "from tensorflow.keras import optimizers\n",
    "\n",
    "import sys\n",
    "import os\n",
    "sys.path.insert(0, '../src/')\n",
    "\n",
    "%matplotlib inline\n",
    "import matplotlib.pyplot as plt"
   ]
  },
  {
   "cell_type": "code",
   "execution_count": 2,
   "metadata": {
    "scrolled": true
   },
   "outputs": [
    {
     "data": {
      "text/html": [
       "<div>\n",
       "<style scoped>\n",
       "    .dataframe tbody tr th:only-of-type {\n",
       "        vertical-align: middle;\n",
       "    }\n",
       "\n",
       "    .dataframe tbody tr th {\n",
       "        vertical-align: top;\n",
       "    }\n",
       "\n",
       "    .dataframe thead th {\n",
       "        text-align: right;\n",
       "    }\n",
       "</style>\n",
       "<table border=\"1\" class=\"dataframe\">\n",
       "  <thead>\n",
       "    <tr style=\"text-align: right;\">\n",
       "      <th></th>\n",
       "      <th>Unnamed: 0</th>\n",
       "      <th>mp_id</th>\n",
       "      <th>Formula</th>\n",
       "      <th>Composition</th>\n",
       "      <th>IPF</th>\n",
       "      <th>Density</th>\n",
       "      <th>Elastic_Tensor</th>\n",
       "      <th>E_above_Hull</th>\n",
       "      <th>G_VRH</th>\n",
       "      <th>K_VRH</th>\n",
       "      <th>Elastic_Anisotropy</th>\n",
       "      <th>poisson_ratio</th>\n",
       "      <th>Y_Modulus</th>\n",
       "    </tr>\n",
       "  </thead>\n",
       "  <tbody>\n",
       "    <tr>\n",
       "      <th>0</th>\n",
       "      <td>0</td>\n",
       "      <td>mp-1014265</td>\n",
       "      <td>Zr2N</td>\n",
       "      <td>{'Zr': 2.0, 'N': 1.0}</td>\n",
       "      <td>0.129869</td>\n",
       "      <td>6.644609</td>\n",
       "      <td>{'G_Reuss': 78.0, 'G_VRH': 88.0, 'G_Voigt': 99...</td>\n",
       "      <td>0.0</td>\n",
       "      <td>88.0</td>\n",
       "      <td>173.0</td>\n",
       "      <td>1.32</td>\n",
       "      <td>0.28</td>\n",
       "      <td>225.28</td>\n",
       "    </tr>\n",
       "    <tr>\n",
       "      <th>1</th>\n",
       "      <td>1</td>\n",
       "      <td>mp-1018103</td>\n",
       "      <td>ZrAu2</td>\n",
       "      <td>{'Zr': 1.0, 'Au': 2.0}</td>\n",
       "      <td>0.223862</td>\n",
       "      <td>13.951047</td>\n",
       "      <td>{'G_Reuss': 15.0, 'G_VRH': 36.0, 'G_Voigt': 57...</td>\n",
       "      <td>0.0</td>\n",
       "      <td>36.0</td>\n",
       "      <td>157.0</td>\n",
       "      <td>14.28</td>\n",
       "      <td>0.39</td>\n",
       "      <td>100.08</td>\n",
       "    </tr>\n",
       "    <tr>\n",
       "      <th>2</th>\n",
       "      <td>2</td>\n",
       "      <td>mp-1018104</td>\n",
       "      <td>Zr2Cd</td>\n",
       "      <td>{'Zr': 2.0, 'Cd': 1.0}</td>\n",
       "      <td>0.158911</td>\n",
       "      <td>7.235683</td>\n",
       "      <td>{'G_Reuss': 19.0, 'G_VRH': 28.0, 'G_Voigt': 37...</td>\n",
       "      <td>0.0</td>\n",
       "      <td>28.0</td>\n",
       "      <td>78.0</td>\n",
       "      <td>4.53</td>\n",
       "      <td>0.34</td>\n",
       "      <td>75.04</td>\n",
       "    </tr>\n",
       "    <tr>\n",
       "      <th>3</th>\n",
       "      <td>3</td>\n",
       "      <td>mp-1018107</td>\n",
       "      <td>ZrTe2</td>\n",
       "      <td>{'Zr': 1.0, 'Te': 2.0}</td>\n",
       "      <td>0.216162</td>\n",
       "      <td>5.981655</td>\n",
       "      <td>{'G_Reuss': 10.0, 'G_VRH': 13.0, 'G_Voigt': 16...</td>\n",
       "      <td>0.0</td>\n",
       "      <td>13.0</td>\n",
       "      <td>14.0</td>\n",
       "      <td>3.76</td>\n",
       "      <td>0.15</td>\n",
       "      <td>29.90</td>\n",
       "    </tr>\n",
       "    <tr>\n",
       "      <th>4</th>\n",
       "      <td>4</td>\n",
       "      <td>mp-11239</td>\n",
       "      <td>ZrAg</td>\n",
       "      <td>{'Zr': 1.0, 'Ag': 1.0}</td>\n",
       "      <td>0.196614</td>\n",
       "      <td>8.085385</td>\n",
       "      <td>{'G_Reuss': 42.0, 'G_VRH': 47.0, 'G_Voigt': 51...</td>\n",
       "      <td>0.0</td>\n",
       "      <td>47.0</td>\n",
       "      <td>106.0</td>\n",
       "      <td>1.06</td>\n",
       "      <td>0.31</td>\n",
       "      <td>123.14</td>\n",
       "    </tr>\n",
       "    <tr>\n",
       "      <th>...</th>\n",
       "      <td>...</td>\n",
       "      <td>...</td>\n",
       "      <td>...</td>\n",
       "      <td>...</td>\n",
       "      <td>...</td>\n",
       "      <td>...</td>\n",
       "      <td>...</td>\n",
       "      <td>...</td>\n",
       "      <td>...</td>\n",
       "      <td>...</td>\n",
       "      <td>...</td>\n",
       "      <td>...</td>\n",
       "      <td>...</td>\n",
       "    </tr>\n",
       "    <tr>\n",
       "      <th>238</th>\n",
       "      <td>239</td>\n",
       "      <td>mp-8891</td>\n",
       "      <td>K2Zr(BO3)2</td>\n",
       "      <td>{'K': 2.0, 'Zr': 1.0, 'B': 2.0, 'O': 6.0}</td>\n",
       "      <td>0.558271</td>\n",
       "      <td>3.208382</td>\n",
       "      <td>{'G_Reuss': 26.0, 'G_VRH': 37.0, 'G_Voigt': 47...</td>\n",
       "      <td>0.0</td>\n",
       "      <td>37.0</td>\n",
       "      <td>74.0</td>\n",
       "      <td>4.57</td>\n",
       "      <td>0.29</td>\n",
       "      <td>95.46</td>\n",
       "    </tr>\n",
       "    <tr>\n",
       "      <th>239</th>\n",
       "      <td>240</td>\n",
       "      <td>mp-9318</td>\n",
       "      <td>KZrCuSe3</td>\n",
       "      <td>{'K': 1.0, 'Zr': 1.0, 'Cu': 1.0, 'Se': 3.0}</td>\n",
       "      <td>0.218962</td>\n",
       "      <td>4.780798</td>\n",
       "      <td>{'G_Reuss': 13.0, 'G_VRH': 18.0, 'G_Voigt': 22...</td>\n",
       "      <td>0.0</td>\n",
       "      <td>18.0</td>\n",
       "      <td>23.0</td>\n",
       "      <td>4.50</td>\n",
       "      <td>0.19</td>\n",
       "      <td>42.84</td>\n",
       "    </tr>\n",
       "    <tr>\n",
       "      <th>240</th>\n",
       "      <td>241</td>\n",
       "      <td>mp-977545</td>\n",
       "      <td>ZrTc2W</td>\n",
       "      <td>{'Zr': 1.0, 'Tc': 2.0, 'W': 1.0}</td>\n",
       "      <td>0.120815</td>\n",
       "      <td>11.857923</td>\n",
       "      <td>{'G_Reuss': 104.0, 'G_VRH': 109.0, 'G_Voigt': ...</td>\n",
       "      <td>0.0</td>\n",
       "      <td>109.0</td>\n",
       "      <td>198.0</td>\n",
       "      <td>0.44</td>\n",
       "      <td>0.27</td>\n",
       "      <td>276.86</td>\n",
       "    </tr>\n",
       "    <tr>\n",
       "      <th>241</th>\n",
       "      <td>242</td>\n",
       "      <td>mp-9929</td>\n",
       "      <td>ZrCuSiAs</td>\n",
       "      <td>{'Zr': 1.0, 'Cu': 1.0, 'Si': 1.0, 'As': 1.0}</td>\n",
       "      <td>0.104449</td>\n",
       "      <td>6.538644</td>\n",
       "      <td>{'G_Reuss': 78.0, 'G_VRH': 79.0, 'G_Voigt': 80...</td>\n",
       "      <td>0.0</td>\n",
       "      <td>79.0</td>\n",
       "      <td>137.0</td>\n",
       "      <td>0.11</td>\n",
       "      <td>0.26</td>\n",
       "      <td>199.08</td>\n",
       "    </tr>\n",
       "    <tr>\n",
       "      <th>242</th>\n",
       "      <td>243</td>\n",
       "      <td>mp-40143</td>\n",
       "      <td>Cs2KZrOF5</td>\n",
       "      <td>{'Cs': 2.0, 'K': 1.0, 'Zr': 1.0, 'O': 1.0, 'F'...</td>\n",
       "      <td>0.389510</td>\n",
       "      <td>3.962898</td>\n",
       "      <td>{'G_Reuss': 13.0, 'G_VRH': 14.0, 'G_Voigt': 15...</td>\n",
       "      <td>0.0</td>\n",
       "      <td>14.0</td>\n",
       "      <td>13.0</td>\n",
       "      <td>0.75</td>\n",
       "      <td>0.09</td>\n",
       "      <td>30.52</td>\n",
       "    </tr>\n",
       "  </tbody>\n",
       "</table>\n",
       "<p>243 rows × 13 columns</p>\n",
       "</div>"
      ],
      "text/plain": [
       "     Unnamed: 0       mp_id     Formula  \\\n",
       "0             0  mp-1014265        Zr2N   \n",
       "1             1  mp-1018103       ZrAu2   \n",
       "2             2  mp-1018104       Zr2Cd   \n",
       "3             3  mp-1018107       ZrTe2   \n",
       "4             4    mp-11239        ZrAg   \n",
       "..          ...         ...         ...   \n",
       "238         239     mp-8891  K2Zr(BO3)2   \n",
       "239         240     mp-9318    KZrCuSe3   \n",
       "240         241   mp-977545      ZrTc2W   \n",
       "241         242     mp-9929    ZrCuSiAs   \n",
       "242         243    mp-40143   Cs2KZrOF5   \n",
       "\n",
       "                                           Composition       IPF    Density  \\\n",
       "0                                {'Zr': 2.0, 'N': 1.0}  0.129869   6.644609   \n",
       "1                               {'Zr': 1.0, 'Au': 2.0}  0.223862  13.951047   \n",
       "2                               {'Zr': 2.0, 'Cd': 1.0}  0.158911   7.235683   \n",
       "3                               {'Zr': 1.0, 'Te': 2.0}  0.216162   5.981655   \n",
       "4                               {'Zr': 1.0, 'Ag': 1.0}  0.196614   8.085385   \n",
       "..                                                 ...       ...        ...   \n",
       "238          {'K': 2.0, 'Zr': 1.0, 'B': 2.0, 'O': 6.0}  0.558271   3.208382   \n",
       "239        {'K': 1.0, 'Zr': 1.0, 'Cu': 1.0, 'Se': 3.0}  0.218962   4.780798   \n",
       "240                   {'Zr': 1.0, 'Tc': 2.0, 'W': 1.0}  0.120815  11.857923   \n",
       "241       {'Zr': 1.0, 'Cu': 1.0, 'Si': 1.0, 'As': 1.0}  0.104449   6.538644   \n",
       "242  {'Cs': 2.0, 'K': 1.0, 'Zr': 1.0, 'O': 1.0, 'F'...  0.389510   3.962898   \n",
       "\n",
       "                                        Elastic_Tensor  E_above_Hull  G_VRH  \\\n",
       "0    {'G_Reuss': 78.0, 'G_VRH': 88.0, 'G_Voigt': 99...           0.0   88.0   \n",
       "1    {'G_Reuss': 15.0, 'G_VRH': 36.0, 'G_Voigt': 57...           0.0   36.0   \n",
       "2    {'G_Reuss': 19.0, 'G_VRH': 28.0, 'G_Voigt': 37...           0.0   28.0   \n",
       "3    {'G_Reuss': 10.0, 'G_VRH': 13.0, 'G_Voigt': 16...           0.0   13.0   \n",
       "4    {'G_Reuss': 42.0, 'G_VRH': 47.0, 'G_Voigt': 51...           0.0   47.0   \n",
       "..                                                 ...           ...    ...   \n",
       "238  {'G_Reuss': 26.0, 'G_VRH': 37.0, 'G_Voigt': 47...           0.0   37.0   \n",
       "239  {'G_Reuss': 13.0, 'G_VRH': 18.0, 'G_Voigt': 22...           0.0   18.0   \n",
       "240  {'G_Reuss': 104.0, 'G_VRH': 109.0, 'G_Voigt': ...           0.0  109.0   \n",
       "241  {'G_Reuss': 78.0, 'G_VRH': 79.0, 'G_Voigt': 80...           0.0   79.0   \n",
       "242  {'G_Reuss': 13.0, 'G_VRH': 14.0, 'G_Voigt': 15...           0.0   14.0   \n",
       "\n",
       "     K_VRH  Elastic_Anisotropy  poisson_ratio  Y_Modulus  \n",
       "0    173.0                1.32           0.28     225.28  \n",
       "1    157.0               14.28           0.39     100.08  \n",
       "2     78.0                4.53           0.34      75.04  \n",
       "3     14.0                3.76           0.15      29.90  \n",
       "4    106.0                1.06           0.31     123.14  \n",
       "..     ...                 ...            ...        ...  \n",
       "238   74.0                4.57           0.29      95.46  \n",
       "239   23.0                4.50           0.19      42.84  \n",
       "240  198.0                0.44           0.27     276.86  \n",
       "241  137.0                0.11           0.26     199.08  \n",
       "242   13.0                0.75           0.09      30.52  \n",
       "\n",
       "[243 rows x 13 columns]"
      ]
     },
     "execution_count": 2,
     "metadata": {},
     "output_type": "execute_result"
    }
   ],
   "source": [
    "# df = pd.read_csv(Path('../All Data Export/Ti_compounds_dataframe.csv'))\n",
    "# df = pd.read_csv(Path('../All Data Export/C_compounds_dataframe.csv'))\n",
    "# df = pd.read_csv(Path('../All Data Export/Cr_compounds_dataframe.csv'))\n",
    "# df = pd.read_csv(Path('../All Data Export/Fe_compounds_dataframe.csv'))\n",
    "# df = pd.read_csv(Path('../All Data Export/Hf_compounds_dataframe.csv'))\n",
    "# df = pd.read_csv(Path('../All Data Export/Mo_compounds_dataframe.csv'))\n",
    "# df = pd.read_csv(Path('../All Data Export/Nb_compounds_dataframe.csv'))\n",
    "# df = pd.read_csv(Path('../All Data Export/Ni_compounds_dataframe.csv'))\n",
    "# df = pd.read_csv(Path('../All Data Export/V_compounds_dataframe.csv'))\n",
    "# df = pd.read_csv(Path('../All Data Export/W_compounds_dataframe.csv'))\n",
    "df = pd.read_csv(Path('../All Data Export/Zr_compounds_dataframe.csv'))\n",
    "# df = pd.read_csv(Path('../All Data Export/Ta_compounds_dataframe.csv'))\n",
    "df"
   ]
  },
  {
   "cell_type": "code",
   "execution_count": 3,
   "metadata": {},
   "outputs": [
    {
     "data": {
      "text/plain": [
       "Index(['Unnamed: 0', 'mp_id', 'Formula', 'Composition', 'IPF', 'Density',\n",
       "       'Elastic_Tensor', 'E_above_Hull', 'G_VRH', 'K_VRH',\n",
       "       'Elastic_Anisotropy', 'poisson_ratio', 'Y_Modulus'],\n",
       "      dtype='object')"
      ]
     },
     "execution_count": 3,
     "metadata": {},
     "output_type": "execute_result"
    }
   ],
   "source": [
    "df.columns"
   ]
  },
  {
   "cell_type": "code",
   "execution_count": 4,
   "metadata": {},
   "outputs": [
    {
     "data": {
      "text/html": [
       "<div>\n",
       "<style scoped>\n",
       "    .dataframe tbody tr th:only-of-type {\n",
       "        vertical-align: middle;\n",
       "    }\n",
       "\n",
       "    .dataframe tbody tr th {\n",
       "        vertical-align: top;\n",
       "    }\n",
       "\n",
       "    .dataframe thead th {\n",
       "        text-align: right;\n",
       "    }\n",
       "</style>\n",
       "<table border=\"1\" class=\"dataframe\">\n",
       "  <thead>\n",
       "    <tr style=\"text-align: right;\">\n",
       "      <th></th>\n",
       "      <th>IPF</th>\n",
       "      <th>Density</th>\n",
       "      <th>E_above_Hull</th>\n",
       "      <th>G_VRH</th>\n",
       "      <th>K_VRH</th>\n",
       "      <th>Elastic_Anisotropy</th>\n",
       "      <th>poisson_ratio</th>\n",
       "      <th>Y_Modulus</th>\n",
       "    </tr>\n",
       "  </thead>\n",
       "  <tbody>\n",
       "    <tr>\n",
       "      <th>0</th>\n",
       "      <td>0.129869</td>\n",
       "      <td>6.644609</td>\n",
       "      <td>0.0</td>\n",
       "      <td>88.0</td>\n",
       "      <td>173.0</td>\n",
       "      <td>1.32</td>\n",
       "      <td>0.28</td>\n",
       "      <td>225.28</td>\n",
       "    </tr>\n",
       "    <tr>\n",
       "      <th>1</th>\n",
       "      <td>0.223862</td>\n",
       "      <td>13.951047</td>\n",
       "      <td>0.0</td>\n",
       "      <td>36.0</td>\n",
       "      <td>157.0</td>\n",
       "      <td>14.28</td>\n",
       "      <td>0.39</td>\n",
       "      <td>100.08</td>\n",
       "    </tr>\n",
       "    <tr>\n",
       "      <th>2</th>\n",
       "      <td>0.158911</td>\n",
       "      <td>7.235683</td>\n",
       "      <td>0.0</td>\n",
       "      <td>28.0</td>\n",
       "      <td>78.0</td>\n",
       "      <td>4.53</td>\n",
       "      <td>0.34</td>\n",
       "      <td>75.04</td>\n",
       "    </tr>\n",
       "    <tr>\n",
       "      <th>3</th>\n",
       "      <td>0.216162</td>\n",
       "      <td>5.981655</td>\n",
       "      <td>0.0</td>\n",
       "      <td>13.0</td>\n",
       "      <td>14.0</td>\n",
       "      <td>3.76</td>\n",
       "      <td>0.15</td>\n",
       "      <td>29.90</td>\n",
       "    </tr>\n",
       "    <tr>\n",
       "      <th>4</th>\n",
       "      <td>0.196614</td>\n",
       "      <td>8.085385</td>\n",
       "      <td>0.0</td>\n",
       "      <td>47.0</td>\n",
       "      <td>106.0</td>\n",
       "      <td>1.06</td>\n",
       "      <td>0.31</td>\n",
       "      <td>123.14</td>\n",
       "    </tr>\n",
       "    <tr>\n",
       "      <th>...</th>\n",
       "      <td>...</td>\n",
       "      <td>...</td>\n",
       "      <td>...</td>\n",
       "      <td>...</td>\n",
       "      <td>...</td>\n",
       "      <td>...</td>\n",
       "      <td>...</td>\n",
       "      <td>...</td>\n",
       "    </tr>\n",
       "    <tr>\n",
       "      <th>238</th>\n",
       "      <td>0.558271</td>\n",
       "      <td>3.208382</td>\n",
       "      <td>0.0</td>\n",
       "      <td>37.0</td>\n",
       "      <td>74.0</td>\n",
       "      <td>4.57</td>\n",
       "      <td>0.29</td>\n",
       "      <td>95.46</td>\n",
       "    </tr>\n",
       "    <tr>\n",
       "      <th>239</th>\n",
       "      <td>0.218962</td>\n",
       "      <td>4.780798</td>\n",
       "      <td>0.0</td>\n",
       "      <td>18.0</td>\n",
       "      <td>23.0</td>\n",
       "      <td>4.50</td>\n",
       "      <td>0.19</td>\n",
       "      <td>42.84</td>\n",
       "    </tr>\n",
       "    <tr>\n",
       "      <th>240</th>\n",
       "      <td>0.120815</td>\n",
       "      <td>11.857923</td>\n",
       "      <td>0.0</td>\n",
       "      <td>109.0</td>\n",
       "      <td>198.0</td>\n",
       "      <td>0.44</td>\n",
       "      <td>0.27</td>\n",
       "      <td>276.86</td>\n",
       "    </tr>\n",
       "    <tr>\n",
       "      <th>241</th>\n",
       "      <td>0.104449</td>\n",
       "      <td>6.538644</td>\n",
       "      <td>0.0</td>\n",
       "      <td>79.0</td>\n",
       "      <td>137.0</td>\n",
       "      <td>0.11</td>\n",
       "      <td>0.26</td>\n",
       "      <td>199.08</td>\n",
       "    </tr>\n",
       "    <tr>\n",
       "      <th>242</th>\n",
       "      <td>0.389510</td>\n",
       "      <td>3.962898</td>\n",
       "      <td>0.0</td>\n",
       "      <td>14.0</td>\n",
       "      <td>13.0</td>\n",
       "      <td>0.75</td>\n",
       "      <td>0.09</td>\n",
       "      <td>30.52</td>\n",
       "    </tr>\n",
       "  </tbody>\n",
       "</table>\n",
       "<p>242 rows × 8 columns</p>\n",
       "</div>"
      ],
      "text/plain": [
       "          IPF    Density  E_above_Hull  G_VRH  K_VRH  Elastic_Anisotropy  \\\n",
       "0    0.129869   6.644609           0.0   88.0  173.0                1.32   \n",
       "1    0.223862  13.951047           0.0   36.0  157.0               14.28   \n",
       "2    0.158911   7.235683           0.0   28.0   78.0                4.53   \n",
       "3    0.216162   5.981655           0.0   13.0   14.0                3.76   \n",
       "4    0.196614   8.085385           0.0   47.0  106.0                1.06   \n",
       "..        ...        ...           ...    ...    ...                 ...   \n",
       "238  0.558271   3.208382           0.0   37.0   74.0                4.57   \n",
       "239  0.218962   4.780798           0.0   18.0   23.0                4.50   \n",
       "240  0.120815  11.857923           0.0  109.0  198.0                0.44   \n",
       "241  0.104449   6.538644           0.0   79.0  137.0                0.11   \n",
       "242  0.389510   3.962898           0.0   14.0   13.0                0.75   \n",
       "\n",
       "     poisson_ratio  Y_Modulus  \n",
       "0             0.28     225.28  \n",
       "1             0.39     100.08  \n",
       "2             0.34      75.04  \n",
       "3             0.15      29.90  \n",
       "4             0.31     123.14  \n",
       "..             ...        ...  \n",
       "238           0.29      95.46  \n",
       "239           0.19      42.84  \n",
       "240           0.27     276.86  \n",
       "241           0.26     199.08  \n",
       "242           0.09      30.52  \n",
       "\n",
       "[242 rows x 8 columns]"
      ]
     },
     "execution_count": 4,
     "metadata": {},
     "output_type": "execute_result"
    }
   ],
   "source": [
    "df.drop( df[ df['Y_Modulus'] < 0 ].index , inplace=True)\n",
    "df_original = df.copy\n",
    "elements = df['Formula'].tolist()\n",
    "df = df.drop(df.columns[[0, 1, 2, 3, 6]], axis=1)\n",
    "df"
   ]
  },
  {
   "cell_type": "markdown",
   "metadata": {},
   "source": [
    "### 2. Processing and Organizing Data\n",
    "\n",
    "Most machine learning models are trained on a subset of all the available data, called the \"training set\", and the models are tested on the remainder of the available data, called the \"testing set\". Model performance has often been found to be enhanced when the inputs are normalized.\n",
    "\n",
    "##### SETS\n",
    "\n",
    "1. With the dataset we just created, we have splitted the dataset for each of the 12 datasets:\n",
    "- C: 331 entries for our model. We will train with 300 cases and test on the remaining 31 elements to estimate Young's Modulus.\n",
    "- Cr: 331 entries for our model. We will train with 300 cases and test on the remaining 31 elements to estimate Young's Modulus.\n",
    "- Fe: 208 entries for our model. We will train with 182 cases and test on the remaining 26 elements to estimate Young's Modulus.\n",
    "- Hf: 216 entries for our model. We will train with 180 cases and test on the remaining 36 elements to estimate Young's Modulus.\n",
    "- Mo: 60 entries for our model. We will train with 84 cases and test on the remaining 24 elements to estimate Young's Modulus.\n",
    "- Nb: 172 entries for our model. We will train with 150 cases and test on the remaining 22 elements to estimate Young's Modulus.\n",
    "- Ni: 378 entries for our model. We will train with 300 cases and test on the remaining 78 elements to estimate Young's Modulus.\n",
    "- Ta: 331 entries for our model. We will train with 300 cases and test on the remaining 31 elements to estimate Young's Modulus.\n",
    "- Ti: 331 entries for our model. We will train with 300 cases and test on the remaining 31 elements to estimate Young's Modulus.\n",
    "- V: 173 entries for our model. We will train with 150 cases and test on the remaining 23 elements to estimate Young's Modulus.\n",
    "- W: 76 entries for our model. We will train with 60 cases and test on the remaining 16 elements to estimate Young's Modulus.\n",
    "- Zr: 242 entries for our model. We will train with 200 cases and test on the remaining 42 elements to estimate Young's Modulus.\n",
    "\n",
    "\n",
    "\n",
    "##### NORMALIZATION\n",
    "\n",
    "Each one of these input data features has different units and is represented in scales with distinct orders of magnitude. Datasets that contain inputs like this need to be normalized, so that quantities with large values do not *overwhelm* the neural network, forcing it tune its weights to account for the different scales of our input data. In this work, we will use the Standard Score Normalization, which subtracts the mean of the feature and divide by its standard deviation.\n",
    "\n",
    "<span style=\"font-size:2em;\">$ \\frac{X - µ}{σ} $ </span>\n",
    "\n",
    "While our model might converge without feature normalization, the resultant model would be difficult to train and would be dependent on the choice of units used in the input."
   ]
  },
  {
   "cell_type": "code",
   "execution_count": 5,
   "metadata": {},
   "outputs": [
    {
     "name": "stdout",
     "output_type": "stream",
     "text": [
      "[[0.12986930529638052, 6.644608571705335, 0.0, 88.0, 173.0, 1.32, 0.28, 225.28], [0.22386169620285828, 13.951046675661043, 0.0, 36.0, 157.0, 14.28, 0.39, 100.08], [0.1589111600588859, 7.235683212643332, 0.0, 28.0, 78.0, 4.53, 0.34, 75.04], [0.21616225594593, 5.981655019160284, 0.0, 13.0, 14.0, 3.76, 0.15, 29.9], [0.1966144036535019, 8.085384986958719, 0.0, 47.0, 106.0, 1.06, 0.31, 123.14], [0.15453941968277748, 9.202326342045238, 0.0, 52.0, 118.0, 0.62, 0.31, 136.24], [0.11152871481259707, 3.623393475551988, 0.0, 111.0, 126.0, 0.48, 0.16, 257.52], [0.2175277502097806, 8.172108956640695, 0.0, 28.0, 77.0, 3.35, 0.34, 75.04], [0.08939774873261196, 5.3968782064306735, 0.0, 82.0, 134.0, 0.55, 0.25, 205.0], [0.11062702094499592, 13.118862238040574, 0.0, 99.0, 209.0, 0.05, 0.3, 257.40000000000003], [0.10735584116254994, 3.307469179941464, 0.0, 13.0, 18.0, 62.45, 0.21, 31.46], [0.10725566959313132, 14.500779981645493, 0.0, 66.0, 251.0, 0.18, 0.38, 182.16], [0.10399563540759456, 5.301738955478557, 0.0, 77.0, 108.0, 0.06, 0.21, 186.34], [0.1022944208325456, 5.972090645415905, 0.0, 87.0, 126.0, 0.12, 0.22, 212.28], [0.13431610960910054, 8.472656817739603, 0.0, 33.0, 134.0, 4.57, 0.39, 91.74], [0.15079158548164268, 7.098978178916372, 0.0, 142.0, 247.0, 0.39, 0.26, 357.84], [0.16419235384673633, 7.229957535301077, 0.0, 59.0, 102.0, 0.01, 0.26, 148.68], [0.22437664425527104, 6.5921752241883675, 0.41953875000011465, 56.0, 132.0, 0.58, 0.32, 147.84], [0.1307511080973182, 17.491333157445926, 0.0, 152.0, 266.0, 0.53, 0.26, 383.04], [0.10993548363304556, 5.913584664269887, 0.0, 55.0, 101.0, 0.62, 0.27, 139.7], [0.10437054880137726, 6.033105133365144, 0.0, 226.0, 238.0, 0.15, 0.14, 515.2800000000002], [0.09775656567268352, 4.650765425887399, 0.0, 69.0, 108.0, 0.16, 0.24, 171.12], [0.07887858912862407, 4.846510482991273, 0.0, 95.0, 125.0, 0.29, 0.2, 228.0], [0.0800818596917968, 5.019215526231221, 0.0, 80.0, 127.0, 0.31, 0.24, 198.4], [0.2405947577284313, 7.455420285439184, 0.0, 56.0, 93.0, 1.34, 0.25, 140.0], [0.18211802157180984, 8.921389893055007, 0.0, 58.0, 104.0, 0.36, 0.27, 147.32], [0.09324955490727167, 6.650200512199105, 0.0, 65.0, 118.0, 0.92, 0.27, 165.1], [0.15040072817754194, 5.205999281160285, 0.0, 9.0, 16.0, 31.05, 0.26, 22.68], [0.1844182679232282, 7.205173783025362, 0.0, 39.0, 106.0, 0.26, 0.33, 103.74], [0.13030360680264105, 6.9685180365663255, 0.0, 47.0, 109.0, 0.55, 0.31, 123.14], [0.11826466967629665, 8.470043758492197, 0.0, 59.0, 192.0, 0.1, 0.36, 160.48], [0.12772096769063354, 7.182073049929082, 0.0, 51.0, 97.0, 0.78, 0.28, 130.56], [0.1357705299439459, 4.935218940053028, 0.0, 12.0, 18.0, 24.97, 0.23, 29.52], [0.14141924778591825, 7.830351151155471, 0.0, 44.0, 83.0, 0.17, 0.27, 111.76], [0.2438452259864282, 6.430112617353246, 0.0, 10.0, 21.0, 10.95, 0.29, 25.8], [0.11364645044911215, 7.670875936405113, 0.0, 49.0, 180.0, 0.08, 0.38, 135.23999999999998], [0.1095488759928608, 9.029376809636702, 0.0, 81.0, 183.0, 0.34, 0.31, 212.22], [0.16493032236572785, 7.4283266715842595, 0.0, 40.0, 101.0, 1.47, 0.32, 105.6], [0.1095734539719813, 6.378793349185537, 0.0, 64.0, 125.0, 0.03, 0.28, 163.84], [0.14002745153968654, 7.649629436714796, 0.0, 44.0, 131.0, 0.03, 0.35, 118.8], [0.06737729842808751, 2.5622243293698386, 0.0, 3.0, 6.0, 44.09, 0.28, 7.68], [0.12530120369438089, 10.586539115124756, 0.0, 113.0, 211.0, 0.36, 0.27, 287.02], [0.09510062696028927, 3.8559743755945335, 0.0, 12.0, 18.0, 418.75, 0.24, 29.76], [0.07393320050284817, 3.595098727655336, 0.0, 4.0, 5.0, 15.07, 0.2, 9.6], [0.15600117156937096, 4.2733641595551015, 0.6473200000076673, 3.0, 3.0, 12.08, 0.17, 7.02], [0.16248163435224278, 9.78663211204165, 0.0, 45.0, 119.0, 0.98, 0.33, 119.7], [0.09539525224644307, 5.543621802075787, 0.0, 29.0, 130.0, 2.13, 0.4, 81.19999999999997], [0.2481509784828812, 11.188027166368151, 0.0, 24.0, 102.0, 13.72, 0.39, 66.72], [0.12867672666202454, 7.8456851461954304, 0.0, 49.0, 123.0, 0.56, 0.33, 130.34], [0.09138034807080712, 4.1319043690387165, 0.0, 7.0, 19.0, 67.65, 0.34, 18.76], [0.08677350543686893, 6.847379372952343, 0.0, 71.0, 110.0, 0.15, 0.24, 176.08], [0.0982750904769666, 4.520876075591449, 0.0, 87.0, 113.0, 0.03, 0.19, 207.06], [0.10535990593584613, 6.5029639453527475, 0.0, 159.0, 221.0, 0.03, 0.21, 384.78], [0.5281099301400852, 5.563611227437639, 0.0, 85.0, 183.0, 0.45, 0.3, 221.0], [0.1238625573560942, 6.91507558193005, 0.0, 34.0, 104.0, 0.17, 0.35, 91.8], [0.11552968321977995, 6.856706465961218, 0.0, 73.0, 114.0, 0.66, 0.24, 181.04], [0.11672465793147985, 7.049949997619457, 0.0, 64.0, 100.0, 0.11, 0.24, 158.72], [0.11571903121787215, 6.802046093762944, 0.0, 67.0, 112.0, 0.35, 0.25, 167.5], [0.118422639571064, 7.100975171809639, 0.0, 67.0, 111.0, 0.08, 0.25, 167.5], [0.15547813321624873, 10.309182145596957, 0.0, 79.0, 169.0, 0.09, 0.3, 205.4], [0.14242579069452255, 9.714646989541132, 0.0, 46.0, 84.0, 0.82, 0.27, 116.84], [0.13175370668852934, 6.80880443383841, 0.0, 36.0, 104.0, 0.17, 0.34, 96.48], [0.11273698917413676, 7.373274717185942, 0.0, 34.0, 106.0, 1.78, 0.36, 92.48], [0.1261467836686132, 7.1893292408295535, 0.0, 22.0, 122.0, 0.94, 0.42, 62.48], [0.21626950029358627, 7.002343322338189, 0.0, 36.0, 67.0, 0.41, 0.27, 91.44], [0.09331559770387876, 4.086082360274213, 0.0, 83.0, 103.0, 0.06, 0.18, 195.88], [0.14725244145814792, 8.426584388478402, 0.0, 70.0, 170.0, 0.13, 0.32, 184.8], [0.1058314734682969, 5.425263688318885, 0.0, 6.0, 19.0, 3813.07, 0.36, 16.32], [0.11270655844293374, 7.607774275753324, 0.0, 62.0, 104.0, 0.03, 0.25, 155.0], [0.12959132422508352, 7.396409090426719, 0.0, 35.0, 138.0, 3.93, 0.38, 96.6], [0.12148884186823047, 12.595899360056185, 0.0, 65.0, 187.0, 0.47, 0.34, 174.20000000000005], [0.10974159804282704, 7.671287401186928, 0.0, 58.0, 104.0, 0.23, 0.26, 146.16], [0.11619328433329795, 6.788351219687363, 0.0, 47.0, 107.0, 0.79, 0.31, 123.14], [0.14745599485373262, 6.949384276238863, 0.0, 47.0, 108.0, 1.39, 0.31, 123.14], [0.18657161621254084, 5.355360291286656, 0.0, 8.0, 9.0, 98.54, 0.17, 18.72], [0.14260232388924413, 7.874312177333683, 0.0, 48.0, 72.0, 0.57, 0.23, 118.08], [0.10181207629823977, 15.282626588156614, 0.0, 94.0, 265.0, 0.15, 0.34, 251.92], [0.1877844984137592, 5.390174918025021, 0.115901666665863, 8.0, 11.0, 114.67, 0.22, 19.52], [0.1164815139624607, 7.817082938512048, 0.0, 9.0, 126.0, 13.34, 0.47, 26.46], [0.2157182880063325, 5.4449278290343734, 0.0, 6.0, 11.0, -31.17, 0.29, 15.48], [0.12931947662552967, 7.170770896444807, 0.0, 20.0, 107.0, 2.17, 0.41, 56.4], [0.11868147129268652, 8.702258122659423, 0.0, 48.0, 156.0, 0.3, 0.36, 130.56], [0.11425525703674215, 13.520587967518766, 0.0, 87.0, 215.0, 0.06, 0.32, 229.68], [0.10085080373276148, 5.797300799429048, 0.24739250000038734, 24.0, 114.0, 13.02, 0.4, 67.19999999999999], [0.10725526221716557, 7.851905783854836, 0.0, 55.0, 87.0, 0.58, 0.24, 136.4], [0.15195482821164652, 5.636888722980936, 0.0, 44.0, 119.0, 3.24, 0.34, 117.92], [0.1704245698595663, 7.245114220652562, 0.0, 39.0, 100.0, 0.42, 0.33, 103.74], [0.09332632741439917, 5.562650899875977, 0.0, 93.0, 141.0, 0.36, 0.23, 228.78], [0.211028958085534, 7.109106915706326, 0.0, 56.0, 181.0, 0.03, 0.36, 152.32], [0.15680771715854475, 8.422444008461483, 0.0, 76.0, 164.0, 0.03, 0.3, 197.6], [0.10136762387745513, 6.853683510399098, 0.0, 61.0, 126.0, 0.48, 0.29, 157.38], [0.19763284020344515, 8.763011599477755, 0.0, 60.0, 121.0, 0.53, 0.29, 154.8], [0.09955384688556687, 7.423378602698784, 0.0, 50.0, 81.0, 0.11, 0.24, 124.0], [0.12184751514659578, 3.377376673534409, 0.0, 11.0, 21.0, 32.12, 0.27, 27.94], [0.0949953340061063, 4.837725481189126, 0.0, 116.0, 138.0, 0.11, 0.17, 271.44], [0.1100799958165009, 2.536523791825648, 0.0, 23.0, 57.0, 6.89, 0.32, 60.72000000000001], [0.20259179643694952, 4.8878876780447476, 0.0, 123.0, 162.0, 0.07, 0.2, 295.2], [0.2496129613839744, 4.545152763659399, 0.0, 29.0, 71.0, 1.4, 0.32, 76.56], [0.12744914951166753, 6.945396663852688, 0.0, 72.0, 146.0, 2.65, 0.29, 185.76], [0.09278447734090052, 9.774537371057407, 0.0, 157.0, 257.0, 0.1, 0.25, 392.5], [0.1684064397361122, 7.826255815203861, 0.0, 43.0, 122.0, 1.02, 0.34, 115.24], [0.11196994490890663, 5.999277823463593, 0.0, 51.0, 106.0, 0.01, 0.29, 131.58], [0.16958185919317234, 10.461068342098828, 0.0, 62.0, 125.0, 0.16, 0.29, 159.96], [0.29696903485704523, 3.725273347268702, 0.0, 10.0, 22.0, 0.31, 0.3, 26.0], [0.14505248928573986, 7.700253095832652, 0.0, 71.0, 133.0, 0.47, 0.27, 180.34], [0.11973004392324935, 6.8927608506352405, 0.0, 82.0, 119.0, 0.1, 0.22, 200.08], [0.10175098243562024, 6.6468767834667375, 0.0, 111.0, 175.0, 0.25, 0.24, 275.28], [0.1515995981079875, 8.53605895640683, 0.0, 51.0, 139.0, 0.58, 0.34, 136.68], [0.14112125045217866, 7.004553603311077, 0.0, 119.0, 202.0, 0.13, 0.25, 297.5], [0.1143609930548568, 6.691111904731711, 0.0, 83.0, 152.0, 0.16, 0.27, 210.82], [0.10889599657940684, 6.340586303922494, 0.0, 66.0, 151.0, 0.52, 0.31, 172.92000000000004], [0.2252103262344469, 6.521758270650556, 0.0, 21.0, 39.0, 0.37, 0.27, 53.34], [0.10603612001020432, 4.838724775123814, 0.0, 84.0, 120.0, 0.09, 0.22, 204.96], [0.2481820654643492, 5.679937354230948, 0.0, 40.0, 100.0, 1.48, 0.32, 105.6], [0.09773365666915076, 8.129977662985082, 0.0, 47.0, 136.0, 0.05, 0.35, 126.9], [0.20057197669758792, 7.117645011862682, 0.0, 44.0, 58.0, 4.08, 0.2, 105.6], [0.1310352963860072, 8.502891707620904, 0.0, 60.0, 145.0, 0.1, 0.32, 158.4], [0.13783715908381344, 6.969839080867215, 0.0, 78.0, 161.0, 0.04, 0.29, 201.24], [0.1194746304610172, 4.860704661429653, 0.0, 86.0, 125.0, 0.28, 0.22, 209.84], [0.16714367272633984, 3.4594049139070018, 0.0, 35.0, 58.0, 0.38, 0.25, 87.5], [0.10596409538870252, 6.125214733335858, 0.0, 95.0, 151.0, 0.24, 0.24, 235.6], [0.1174863846668998, 8.043920818645567, 0.0, 38.0, 80.0, 0.95, 0.3, 98.8], [0.51662930191801, 6.419635082444116, 0.0, 87.0, 162.0, 0.0, 0.27, 220.98], [0.1073450181473308, 7.1231219818477856, 0.0, 80.0, 127.0, 0.08, 0.24, 198.4], [0.1353839862252518, 5.801912408408393, 0.0, 61.0, 85.0, 3.37, 0.21, 147.62], [0.1326404513438496, 6.013909004972421, 0.0, 112.0, 165.0, 0.11, 0.22, 273.28], [0.14599147614799055, 8.186241744098856, 0.0, 35.0, 83.0, 1.2, 0.31, 91.7], [0.3635314100009215, 3.3719139476788533, 0.0, 14.0, 22.0, 5.32, 0.24, 34.72], [0.13376465519814698, 8.143435711316057, 0.0, 15.0, 147.0, 0.68, 0.45, 43.5], [0.1034872228348364, 4.241729538561387, 0.8090233333266639, 12.0, 25.0, 110.07, 0.29, 30.96], [0.14168879315489358, 8.510051747438423, 0.0, 35.0, 78.0, 0.78, 0.3, 91.0], [0.1627790440628288, 8.366624370573977, 0.0, 51.0, 117.0, 0.9, 0.31, 133.62], [0.1595830511810097, 9.032171409062741, 0.0, 65.0, 161.0, 0.3, 0.32, 171.6], [0.20409556116880795, 3.0045161912993303, 0.0, 4.0, 9.0, 0.23, 0.31, 10.48], [0.19490014000014205, 4.201333806543354, 0.0, 22.0, 35.0, 0.26, 0.24, 54.56], [0.5585182733378724, 2.9099130514773663, 0.6762256666688061, 64.0, 94.0, 0.52, 0.22, 156.16], [0.5273049756865541, 5.860194498578638, 0.0, 66.0, 119.0, 0.21, 0.27, 167.64], [0.10690974859248434, 6.370888989891008, 0.0, 82.0, 171.0, 0.16, 0.29, 211.56], [0.585039989358171, 5.811092454749472, 0.0, 85.0, 202.0, 0.35, 0.32, 224.4], [0.11128637588443063, 5.968639054332473, 0.0, 61.0, 129.0, 0.54, 0.3, 158.6], [0.12478837034553293, 7.1340408601476275, 0.0, 115.0, 193.0, 0.11, 0.25, 287.5], [0.12562243944493706, 10.207142225373453, 0.0, 46.0, 165.0, 0.97, 0.37, 126.04], [0.15821635511933668, 10.772966828921714, 0.0, 38.0, 127.0, 0.08, 0.36, 103.36], [0.133947035764681, 8.741677971932656, 0.0, 50.0, 136.0, 0.07, 0.34, 134.0], [0.15112151678481206, 12.790226918972051, 0.0, 49.0, 158.0, 0.67, 0.36, 133.28], [0.11547836110863187, 7.623580578224122, 0.0, 73.0, 152.0, 0.01, 0.29, 188.34], [0.1898453079834756, 7.535139399365942, 0.0, 54.0, 82.0, 0.25, 0.23, 132.84], [0.1014297426739403, 8.46748853910482, 0.0, 68.0, 202.0, 0.08, 0.35, 183.6], [0.11180862517636664, 9.713002820657623, 0.0, 89.0, 213.0, 0.05, 0.32, 234.96], [0.10998909688872642, 11.071509838149623, 0.0, 86.0, 193.0, 0.04, 0.31, 225.32], [0.5259136896053884, 3.9565418719508485, 0.0, 51.0, 82.0, 0.87, 0.24, 126.48], [0.15023699618344394, 6.050268483468617, 0.0, 79.0, 177.0, 0.74, 0.31, 206.98], [0.5427748470063525, 5.9833169056713835, 0.049921999996982436, 88.0, 143.0, 0.06, 0.25, 220.0], [0.1195260209592801, 6.394973035102727, 0.0, 83.0, 145.0, 0.3, 0.26, 209.16], [0.12847751992320747, 6.5408228856958415, 0.0, 69.0, 110.0, 0.47, 0.24, 171.12], [0.1096324657845128, 7.4772215371568596, 0.0, 114.0, 198.0, 0.08, 0.26, 287.2800000000001], [0.19283688962982384, 8.33355483361683, 0.0, 51.0, 115.0, 1.05, 0.31, 133.62], [0.21261420607237, 5.831129812844376, 0.3896716666638156, 11.0, 13.0, 4.55, 0.18, 25.96], [0.1848780976427363, 5.9573282173669195, 0.0, 18.0, 27.0, 6.24, 0.22, 43.92], [0.1831496957466684, 6.062738941834572, 0.0, 29.0, 35.0, 8.37, 0.17, 67.86], [0.1194091764861792, 6.4360601406194995, 0.0, 84.0, 147.0, 0.2, 0.26, 211.68], [0.18557814698157904, 2.765656619974751, 0.0, 5.0, 9.0, 0.4, 0.29, 12.9], [0.1179180848005418, 6.728849872326997, 0.0, 78.0, 154.0, 0.25, 0.28, 199.68], [0.12021999156166345, 6.617444392928693, 0.0, 71.0, 138.0, 0.79, 0.28, 181.76], [0.21005115416202727, 4.2729894490466105, 0.0, 113.0, 132.0, 0.37, 0.17, 264.42], [0.12940887054555825, 8.299528469931243, 0.0, 37.0, 75.0, 0.93, 0.29, 95.46], [0.2890182930200591, 4.809909959830864, 0.0, 50.0, 130.0, 0.0, 0.33, 133.0], [0.12769519666204945, 6.799140568933897, 0.0, 39.0, 149.0, 0.0, 0.38, 107.64], [0.5377935007741365, 4.032147500541359, 0.0, 59.0, 101.0, 1.81, 0.26, 148.68], [0.09819286481594038, 6.49031142483954, 0.0, 66.0, 113.0, 0.84, 0.25, 165.0], [0.1963312751338111, 4.2206705517564505, 0.0, 33.0, 70.0, 0.32, 0.3, 85.8], [0.16975722021180134, 7.290370076772892, 0.0, 127.0, 216.0, 0.09, 0.25, 317.5], [0.10722313818094807, 5.7273708570305075, 0.0, 60.0, 156.0, 12.15, 0.33, 159.60000000000005], [0.0940314885519257, 2.9760449056046188, 0.0, 32.0, 72.0, 6.26, 0.31, 83.84], [0.1143885678170208, 6.4735149573891375, 0.0, 109.0, 186.0, 0.07, 0.26, 274.68], [0.14068075741729436, 7.750873048117, 0.0, 53.0, 89.0, 0.16, 0.25, 132.5], [0.13167544260720088, 6.883905118766352, 0.0, 75.0, 138.0, 0.6, 0.27, 190.5], [0.12942113360557445, 8.160734343524762, 0.0, 69.0, 164.0, 0.21, 0.31, 180.78], [0.1361140616728572, 12.446320546278514, 0.0, 79.0, 178.0, 0.38, 0.31, 206.98], [0.14713634409957946, 8.088548971620275, 0.0, 46.0, 138.0, 0.07, 0.35, 124.2], [0.1060870927293186, 7.300473773901821, 0.0, 68.0, 139.0, 0.4, 0.29, 175.44], [0.190944595199784, 7.415098713774526, 0.0, 60.0, 114.0, 0.09, 0.28, 153.6], [0.11564322651957208, 7.995515936136765, 0.0, 57.0, 98.0, 0.22, 0.26, 143.64], [0.16231978629407234, 9.634347622348177, 0.0, 46.0, 112.0, 0.49, 0.32, 121.44], [0.10939180709848388, 10.155428471800338, 0.0, 87.0, 130.0, 0.02, 0.23, 214.02], [0.1227708002495489, 10.345310647807876, 0.0, 68.0, 144.0, 0.07, 0.3, 176.8], [0.12238673574129814, 10.936016159610116, 0.0, 67.0, 141.0, 0.32, 0.29, 172.86], [0.11589811510852442, 8.407870125970154, 0.0, 100.0, 201.0, -4.92, 0.29, 258.0], [0.2337706918446525, 12.640020320099595, 0.0, 25.0, 149.0, 13.03, 0.42, 71.0], [0.12303932346670265, 9.255031963944624, 0.0, 92.0, 246.0, 0.39, 0.33, 244.72000000000003], [0.16760829079045014, 9.863861657089986, 0.0, 58.0, 154.0, 0.79, 0.33, 154.28], [0.1303507867334954, 8.744586556103148, 0.0, 54.0, 156.0, 0.04, 0.34, 144.72], [0.14142234258201702, 9.475241411762141, 0.0, 61.0, 174.0, 0.63, 0.34, 163.48000000000005], [0.1272299976605972, 7.1448046486861445, 0.0, 86.0, 127.0, 0.37, 0.22, 209.84], [0.2036291205813425, 3.2830188734932246, 0.0, 41.0, 87.0, 0.64, 0.3, 106.6], [0.15804598190532185, 8.345601092977343, 0.0, 71.0, 167.0, 0.21, 0.31, 186.02], [0.13810665142828546, 5.411485858244741, 0.0, 68.0, 159.0, 0.12, 0.31, 178.16], [0.12096057843147195, 7.276886289223003, 0.0, 58.0, 113.0, 0.11, 0.28, 148.48], [0.1243445064513952, 8.30210439000311, 0.0, 54.0, 135.0, 0.29, 0.32, 142.56], [0.12629226847728195, 8.815969473419623, 0.0, 36.0, 128.0, 0.47, 0.37, 98.64], [0.14635251219218606, 8.002082650369879, 0.0, 53.0, 132.0, 0.25, 0.32, 139.92000000000002], [0.11958760436231125, 6.867478772728774, 0.0, 50.0, 109.0, 0.0, 0.3, 130.0], [0.098186941479131, 7.96382364953172, 0.0, 108.0, 208.0, 0.1, 0.28, 276.48], [0.11517167651347986, 6.2124979561584786, 0.0, 107.0, 177.0, 0.38, 0.25, 267.5], [0.1592896951448942, 4.967871158952297, 0.0, 15.0, 19.0, 53.67, 0.19, 35.7], [0.11503872883184454, 7.11722063658634, 0.0, 67.0, 124.0, 0.09, 0.27, 170.18], [0.13038054688389422, 8.364350198617649, 0.0, 66.0, 138.0, 0.4, 0.29, 170.28], [0.1278371240006885, 6.558519163000254, 0.0, 41.0, 80.0, 0.77, 0.28, 104.96], [0.1518257870530898, 9.83264352100475, 0.0, 62.0, 117.0, 0.3, 0.27, 157.48], [0.5404923561905455, 5.958155706768039, 0.0, 92.0, 149.0, 0.09, 0.24, 228.16], [0.5219879803631811, 5.252253634048507, 0.0, 88.0, 146.0, 0.11, 0.25, 220.0], [0.10944831527732576, 6.8938867753575845, 0.0, 99.0, 174.0, 0.28, 0.26, 249.48], [0.510173577198233, 4.4665399787921976, 0.0, 85.0, 148.0, 0.05, 0.26, 214.2], [0.5421602580993108, 4.479509050826257, 0.0, 96.0, 203.0, 1.02, 0.3, 249.6], [0.15218540573777342, 6.867661029009031, 0.0, 68.0, 102.0, 0.35, 0.23, 167.28], [0.13711989995659174, 6.003315142244941, 0.0, 77.0, 119.0, 0.14, 0.23, 189.42], [0.10244437154613542, 4.1989851978163495, 0.0, 13.0, 24.0, 70.8, 0.28, 33.28], [0.1169162917558583, 6.078613498043178, 0.0, 71.0, 138.0, 0.69, 0.28, 181.76], [0.12830686416634832, 8.406905152088548, 0.0, 36.0, 72.0, 0.88, 0.28, 92.16], [0.09354707777843688, 7.550997004194209, 0.0, 100.0, 191.0, 0.21, 0.28, 256.0], [0.32267731959325324, 4.127444047599158, 0.0, 9.0, 21.0, 0.4, 0.31, 23.58], [0.10112000509899632, 8.8354551504545, 0.0, 84.0, 187.0, 0.04, 0.31, 220.08], [0.5195525600713164, 5.804495178166171, 0.0, 56.0, 106.0, 0.23, 0.27, 142.24], [0.1817786843342649, 9.548325517960931, 0.0, 34.0, 136.0, 2.31, 0.39, 94.52], [0.1921582629980512, 11.495691371480262, 0.0, 15.0, 135.0, 14.7, 0.45, 43.5], [0.1466521707212832, 7.684728477453994, 0.0, 35.0, 119.0, 0.73, 0.37, 95.9], [0.13222625034990065, 8.024352150723644, 0.0, 67.0, 149.0, 0.01, 0.3, 174.20000000000005], [0.20279029952516034, 11.003227699038698, 0.0, 32.0, 117.0, 1.55, 0.37, 87.68], [0.12866611466524305, 10.776477130586695, 0.0, 71.0, 157.0, 0.44, 0.3, 184.6], [0.15080679095834434, 12.121967563085029, 0.0, 17.0, 140.0, 5.92, 0.44, 48.96], [0.1386535475704218, 6.557078081079711, 0.0, 29.0, 115.0, 0.71, 0.38, 80.03999999999998], [0.10820883825949797, 7.361502566392225, 0.0, 73.0, 98.0, 0.17, 0.2, 175.2], [0.1175844115856096, 12.420909598530386, 0.0, 83.0, 191.0, 0.05, 0.31, 217.46], [0.11593527357972633, 5.979508612096697, 0.6823062777749911, 48.0, 105.0, 0.0, 0.3, 124.8], [0.11476129171401853, 8.182856687055626, 0.0, 59.0, 119.0, 0.18, 0.29, 152.22], [0.18850850853963094, 3.8668087126309394, 0.0, 16.0, 45.0, 8.43, 0.34, 42.88], [0.21813542934147376, 11.153924613212789, 0.0, 11.0, 102.0, 1.79, 0.45, 31.9], [0.5582707022631651, 3.2083820733103763, 0.0, 37.0, 74.0, 4.57, 0.29, 95.46], [0.2189624652291728, 4.780797796112411, 0.0, 18.0, 23.0, 4.5, 0.19, 42.84], [0.1208149676405688, 11.857923133807885, 0.0, 109.0, 198.0, 0.44, 0.27, 276.86], [0.1044492151716649, 6.5386436065837215, 0.0, 79.0, 137.0, 0.11, 0.26, 199.08], [0.38951024817618296, 3.9628984744486457, 0.0, 14.0, 13.0, 0.75, 0.09, 30.520000000000003]]\n"
     ]
    },
    {
     "data": {
      "text/html": [
       "<div>\n",
       "<style scoped>\n",
       "    .dataframe tbody tr th:only-of-type {\n",
       "        vertical-align: middle;\n",
       "    }\n",
       "\n",
       "    .dataframe tbody tr th {\n",
       "        vertical-align: top;\n",
       "    }\n",
       "\n",
       "    .dataframe thead th {\n",
       "        text-align: right;\n",
       "    }\n",
       "</style>\n",
       "<table border=\"1\" class=\"dataframe\">\n",
       "  <thead>\n",
       "    <tr style=\"text-align: right;\">\n",
       "      <th></th>\n",
       "      <th>IPF</th>\n",
       "      <th>Density</th>\n",
       "      <th>E_above_Hull</th>\n",
       "      <th>G_VRH</th>\n",
       "      <th>K_VRH</th>\n",
       "      <th>Elastic_Anisotropy</th>\n",
       "      <th>poisson_ratio</th>\n",
       "    </tr>\n",
       "  </thead>\n",
       "  <tbody>\n",
       "    <tr>\n",
       "      <th>0</th>\n",
       "      <td>0.129869</td>\n",
       "      <td>6.644609</td>\n",
       "      <td>0.0</td>\n",
       "      <td>88.0</td>\n",
       "      <td>173.0</td>\n",
       "      <td>1.32</td>\n",
       "      <td>0.28</td>\n",
       "    </tr>\n",
       "    <tr>\n",
       "      <th>1</th>\n",
       "      <td>0.223862</td>\n",
       "      <td>13.951047</td>\n",
       "      <td>0.0</td>\n",
       "      <td>36.0</td>\n",
       "      <td>157.0</td>\n",
       "      <td>14.28</td>\n",
       "      <td>0.39</td>\n",
       "    </tr>\n",
       "    <tr>\n",
       "      <th>2</th>\n",
       "      <td>0.158911</td>\n",
       "      <td>7.235683</td>\n",
       "      <td>0.0</td>\n",
       "      <td>28.0</td>\n",
       "      <td>78.0</td>\n",
       "      <td>4.53</td>\n",
       "      <td>0.34</td>\n",
       "    </tr>\n",
       "    <tr>\n",
       "      <th>3</th>\n",
       "      <td>0.216162</td>\n",
       "      <td>5.981655</td>\n",
       "      <td>0.0</td>\n",
       "      <td>13.0</td>\n",
       "      <td>14.0</td>\n",
       "      <td>3.76</td>\n",
       "      <td>0.15</td>\n",
       "    </tr>\n",
       "    <tr>\n",
       "      <th>4</th>\n",
       "      <td>0.196614</td>\n",
       "      <td>8.085385</td>\n",
       "      <td>0.0</td>\n",
       "      <td>47.0</td>\n",
       "      <td>106.0</td>\n",
       "      <td>1.06</td>\n",
       "      <td>0.31</td>\n",
       "    </tr>\n",
       "    <tr>\n",
       "      <th>5</th>\n",
       "      <td>0.154539</td>\n",
       "      <td>9.202326</td>\n",
       "      <td>0.0</td>\n",
       "      <td>52.0</td>\n",
       "      <td>118.0</td>\n",
       "      <td>0.62</td>\n",
       "      <td>0.31</td>\n",
       "    </tr>\n",
       "    <tr>\n",
       "      <th>6</th>\n",
       "      <td>0.111529</td>\n",
       "      <td>3.623393</td>\n",
       "      <td>0.0</td>\n",
       "      <td>111.0</td>\n",
       "      <td>126.0</td>\n",
       "      <td>0.48</td>\n",
       "      <td>0.16</td>\n",
       "    </tr>\n",
       "    <tr>\n",
       "      <th>7</th>\n",
       "      <td>0.217528</td>\n",
       "      <td>8.172109</td>\n",
       "      <td>0.0</td>\n",
       "      <td>28.0</td>\n",
       "      <td>77.0</td>\n",
       "      <td>3.35</td>\n",
       "      <td>0.34</td>\n",
       "    </tr>\n",
       "    <tr>\n",
       "      <th>8</th>\n",
       "      <td>0.089398</td>\n",
       "      <td>5.396878</td>\n",
       "      <td>0.0</td>\n",
       "      <td>82.0</td>\n",
       "      <td>134.0</td>\n",
       "      <td>0.55</td>\n",
       "      <td>0.25</td>\n",
       "    </tr>\n",
       "    <tr>\n",
       "      <th>9</th>\n",
       "      <td>0.110627</td>\n",
       "      <td>13.118862</td>\n",
       "      <td>0.0</td>\n",
       "      <td>99.0</td>\n",
       "      <td>209.0</td>\n",
       "      <td>0.05</td>\n",
       "      <td>0.30</td>\n",
       "    </tr>\n",
       "  </tbody>\n",
       "</table>\n",
       "</div>"
      ],
      "text/plain": [
       "        IPF    Density  E_above_Hull  G_VRH  K_VRH  Elastic_Anisotropy  \\\n",
       "0  0.129869   6.644609           0.0   88.0  173.0                1.32   \n",
       "1  0.223862  13.951047           0.0   36.0  157.0               14.28   \n",
       "2  0.158911   7.235683           0.0   28.0   78.0                4.53   \n",
       "3  0.216162   5.981655           0.0   13.0   14.0                3.76   \n",
       "4  0.196614   8.085385           0.0   47.0  106.0                1.06   \n",
       "5  0.154539   9.202326           0.0   52.0  118.0                0.62   \n",
       "6  0.111529   3.623393           0.0  111.0  126.0                0.48   \n",
       "7  0.217528   8.172109           0.0   28.0   77.0                3.35   \n",
       "8  0.089398   5.396878           0.0   82.0  134.0                0.55   \n",
       "9  0.110627  13.118862           0.0   99.0  209.0                0.05   \n",
       "\n",
       "   poisson_ratio  \n",
       "0           0.28  \n",
       "1           0.39  \n",
       "2           0.34  \n",
       "3           0.15  \n",
       "4           0.31  \n",
       "5           0.31  \n",
       "6           0.16  \n",
       "7           0.34  \n",
       "8           0.25  \n",
       "9           0.30  "
      ]
     },
     "execution_count": 5,
     "metadata": {},
     "output_type": "execute_result"
    }
   ],
   "source": [
    "all_values = df.values.tolist() # Values for Attributes\n",
    "print(all_values)\n",
    "all_labels = [] # Values for Young's Modulus (Property to be estimated)\n",
    "all_labels = df['Y_Modulus'].tolist()\n",
    "df = df.drop(['Y_Modulus'], axis=1)\n",
    "df.head(n=10)"
   ]
  },
  {
   "cell_type": "code",
   "execution_count": 6,
   "metadata": {},
   "outputs": [
    {
     "name": "stdout",
     "output_type": "stream",
     "text": [
      "Shape of Values: (242, 7)\n",
      "Shape of Labels: (242,)\n",
      "[-0.30797097 -0.21538191 -0.17304239  0.87102078  0.91856542 -0.08822758\n",
      " -0.12186099]\n",
      "[-0.12446697  0.35009335 -0.17304239 -0.17876322  0.19074278 -0.09218256\n",
      "  0.56467978]\n",
      "[  0   1   2   3   4   5   6   7   8   9  10  11  12  13  14  15  16  17\n",
      "  18  19  20  21  22  23  24  25  26  27  28  29  30  31  32  33  34  35\n",
      "  36  37  38  39  40  41  42  43  44  45  46  47  48  49  50  51  52  53\n",
      "  54  55  56  57  58  59  60  61  62  63  64  65  66  67  68  69  70  71\n",
      "  72  73  74  75  76  77  78  79  80  81  82  83  84  85  86  87  88  89\n",
      "  90  91  92  93  94  95  96  97  98  99 100 101 102 103 104 105 106 107\n",
      " 108 109 110 111 112 113 114 115 116 117 118 119 120 121 122 123 124 125\n",
      " 126 127 128 129 130 131 132 133 134 135 136 137 138 139 140 141 142 143\n",
      " 144 145 146 147 148 149 150 151 152 153 154 155 156 157 158 159 160 161\n",
      " 162 163 164 165 166 167 168 169 170 171 172 173 174 175 176 177 178 179\n",
      " 180 181 182 183 184 185 186 187 188 189 190 191 192 193 194 195 196 197\n",
      " 198 199 200 201 202 203 204 205 206 207 208 209 210 211 212 213 214 215\n",
      " 216 217 218 219 220 221 222 223 224 225 226 227 228 229 230 231 232 233\n",
      " 234 235 236 237 238 239 240 241]\n"
     ]
    }
   ],
   "source": [
    "#We will rewrite the arrays with the patches we made on the dataset \n",
    "# by turning the dataframe back into a list of lists\n",
    "\n",
    "all_values = [list(df.iloc[x]) for x in range(len(all_values))]\n",
    "\n",
    "# SETS\n",
    "\n",
    "# List of lists are turned into Numpy arrays to facilitate calculations in steps to follow (Normalization).\n",
    "all_values = np.array(all_values, dtype = float) \n",
    "print(\"Shape of Values:\", all_values.shape)\n",
    "all_labels = np.array(all_labels, dtype = float)\n",
    "print(\"Shape of Labels:\", all_labels.shape)\n",
    "\n",
    "# Uncomment the line below to shuffle the dataset \n",
    "#(we do not do this here to ensure consistent results for every run)\n",
    "#order = np.argsort(np.random.random(all_labels.shape)) \n",
    "# This numpy argsort returns the indexes that would be used to shuffle a list\n",
    "order = np.arange(242)\n",
    "all_values = all_values[order]\n",
    "all_labels = all_labels[order]\n",
    "\n",
    "# Training Set\n",
    "train_labels = all_labels[:200]\n",
    "train_values = all_values[:200]\n",
    "\n",
    "# Testing Set\n",
    "test_labels = all_labels[-42:]\n",
    "test_values = all_values[-42:]\n",
    "\n",
    "# This line is used for labels in the plots at the end of the tutorial - Testing Set\n",
    "\n",
    "labeled_elements = [elements[x] for x in order[-42:]] \n",
    "elements = [elements[x] for x in order]\n",
    "\n",
    "# NORMALIZATION\n",
    "\n",
    "mean = np.mean(train_values, axis = 0) # mean\n",
    "std = np.std(train_values, axis = 0) # standard deviation\n",
    "\n",
    "train_values = (train_values - mean) / std # input scaling\n",
    "test_values = (test_values - mean) / std # input scaling\n",
    "\n",
    "print(train_values[0]) # print a sample entry from the training set\n",
    "print(test_values[0]) # print a sample entry from the training set\n",
    "print(order)"
   ]
  },
  {
   "cell_type": "markdown",
   "metadata": {},
   "source": [
    "### 3. Creating the Model\n",
    "\n",
    "For this regression, we will use a simple sequential neural network with one densely connected hidden layer. The optimizer used will be [RMSPropOptimizer](https://www.tensorflow.org/api_docs/python/tf/train/RMSPropOptimizer) (Root Mean Square Propagation).\n",
    "\n",
    "To learn more about Root Mean Squared Propagation, click [here](https://climin.readthedocs.io/en/latest/rmsprop.html).\n",
    "\n",
    "A cool tool developed by Tensorflow to visualize how a neural network learns, and play around with its parameters, can be found here [NN Tools](https://playground.tensorflow.org/)."
   ]
  },
  {
   "cell_type": "code",
   "execution_count": 7,
   "metadata": {},
   "outputs": [
    {
     "name": "stdout",
     "output_type": "stream",
     "text": [
      "WARNING:tensorflow:From C:\\Users\\Kayla Yano\\anaconda3\\envs\\PythonData\\lib\\site-packages\\tensorflow\\python\\keras\\initializers.py:143: calling RandomNormal.__init__ (from tensorflow.python.ops.init_ops) with dtype is deprecated and will be removed in a future version.\n",
      "Instructions for updating:\n",
      "Call initializer instance with the dtype argument instead of passing it to the constructor\n",
      "Model: \"sequential\"\n",
      "_________________________________________________________________\n",
      "Layer (type)                 Output Shape              Param #   \n",
      "=================================================================\n",
      "dense (Dense)                (None, 32)                256       \n",
      "_________________________________________________________________\n",
      "dense_1 (Dense)              (None, 64)                2112      \n",
      "_________________________________________________________________\n",
      "dense_2 (Dense)              (None, 64)                4160      \n",
      "_________________________________________________________________\n",
      "dense_3 (Dense)              (None, 1)                 65        \n",
      "=================================================================\n",
      "Total params: 6,593\n",
      "Trainable params: 6,593\n",
      "Non-trainable params: 0\n",
      "_________________________________________________________________\n"
     ]
    }
   ],
   "source": [
    "# DEFINITION OF THE MODEL\n",
    "\n",
    "# The weights of our neural network will be initialized in a random manner, using a seed allows for reproducibility\n",
    "kernel_init = initializers.RandomNormal(seed=0)\n",
    "# In a sequential model, the first layer must specify the input shape the model will expect; \n",
    "# in this case the value is train_values.shape[1] which is the number\n",
    "# of attributes (properties) and equals 17.\n",
    "\n",
    "model = Sequential()\n",
    "model.add(Dense(32, activation='relu', input_shape=(train_values.shape[1], ), kernel_initializer=kernel_init))\n",
    "model.add(Dense(64, activation='relu', kernel_initializer=kernel_init))\n",
    "model.add(Dense(64, activation='relu', kernel_initializer=kernel_init))\n",
    "model.add(Dense(1, kernel_initializer=kernel_init))\n",
    "\n",
    "# DEFINITION OF THE OPTIMIZER\n",
    "\n",
    "optimizer = optimizers.RMSprop(0.002) # Root Mean Squared Propagation\n",
    "\n",
    "# This line matches the optimizer to the model and states which metrics will evaluate the model's accuracy\n",
    "model.compile(loss='mae', optimizer=optimizer, metrics=['mae'])\n",
    "model.summary()"
   ]
  },
  {
   "cell_type": "markdown",
   "metadata": {},
   "source": [
    "#### TRAINING \n",
    "\n",
    "This model is trained for 2000 epochs, and we record the training accuracy in the history object.\n",
    "\n",
    "One **Epoch** occurs when you pass the entire dataset through the model. One **Batch** contains a subset of the dataset that can be fed to the model at the same time. A more detailed explanation of these concepts can be found in this [blog](https://towardsdatascience.com/epoch-vs-iterations-vs-batch-size-4dfb9c7ce9c9). As we have a really small dataset compared to the ones that are usually considered to be modeled by these neural networks, we are feeding all entries at the same time, so our batch is the entire dataset, and an epoch occurs when the batch is processed.\n",
    "\n",
    "This way, by plotting \"history\" we can see the evolution of the \"learning\" of the model, that is the decrease of the Mean Absolute Error. Models in Keras are fitted to the training set using the [**fit**](https://keras.io/models/model/#fit) method.\n",
    "\n",
    "The blue curve that will come up from the History object represents how the model is learning on the training data, and the orange curve represents the validation loss, which can be thought of as the way our model evaluates data that it was not trained in. This validation loss would start going up again when we start to overfit our data."
   ]
  },
  {
   "cell_type": "code",
   "execution_count": 8,
   "metadata": {},
   "outputs": [
    {
     "name": "stdout",
     "output_type": "stream",
     "text": [
      "Current Epoch: 2000 Training Loss: 4.140300                                       \r"
     ]
    },
    {
     "data": {
      "image/png": "[encoded data removed]",
      "text/plain": [
       "<Figure size 432x288 with 1 Axes>"
      ]
     },
     "metadata": {
      "needs_background": "light"
     },
     "output_type": "display_data"
    }
   ],
   "source": [
    "# EPOCH REAL TIME COUNTER CLASS\n",
    "class PrintEpNum(tf.keras.callbacks.Callback): # This is a function for the Epoch Counter\n",
    "    def on_epoch_end(self, epoch, logs):\n",
    "        sys.stdout.flush()\n",
    "        sys.stdout.write(\"Current Epoch: \" + str(epoch+1) + \" Training Loss: \" + \"%4f\" %logs.get('loss') + '                                       \\r') # Updates current Epoch Number\n",
    "\n",
    "EPOCHS = 2000 # Number of EPOCHS\n",
    "\n",
    "# HISTORY Object which contains how the model learned\n",
    "\n",
    "# Training Values (Properties), Training Labels (Known Young's Moduli) \n",
    "history = model.fit(train_values, train_labels, batch_size=train_values.shape[0], \n",
    "                    epochs=EPOCHS, verbose = False, validation_split=0.1, callbacks=[PrintEpNum()])\n",
    "\n",
    "\n",
    "# PLOTTING HISTORY USING MATPLOTLIB\n",
    "\n",
    "plt.figure()\n",
    "plt.xlabel('Epoch')\n",
    "plt.ylabel('Mean Abs Error')\n",
    "plt.plot(history.epoch, np.array(history.history['mean_absolute_error']),label='Loss on training set') \n",
    "plt.plot(history.epoch, np.array(history.history['val_mean_absolute_error']),label = 'Validation loss')\n",
    "plt.legend()\n",
    "plt.show()"
   ]
  },
  {
   "cell_type": "markdown",
   "metadata": {},
   "source": [
    "#### SAVING A MODEL\n",
    "\n",
    "Compiled and trained models in Keras can be saved and distributed in .h5 files using the `model.save()` method. Running the cell below will save the current model we trained, both weights and architecture to your home directory."
   ]
  },
  {
   "cell_type": "code",
   "execution_count": 9,
   "metadata": {},
   "outputs": [],
   "source": [
    "model.save(os.path.expanduser('~/model.h5'))"
   ]
  },
  {
   "cell_type": "markdown",
   "metadata": {},
   "source": [
    "#### TESTING\n",
    "\n",
    "Models in Keras are tested using the method [**evaluate**](https://keras.io/models/model/#evaluate). This method returns the testing loss of the model and the metrics we specified when creating it,  which in our case it's the Mean Absolute Error. For the original model in this tutorial you should get a value of around **20 GPa** for the Mean Absolute Error. This value would decrease with more training data, more attributes/features, or a different optimizer. In the case of a model that overfits, you can expect values to start increasing to around **30 or 40 GPa**."
   ]
  },
  {
   "cell_type": "code",
   "execution_count": 10,
   "metadata": {},
   "outputs": [
    {
     "name": "stdout",
     "output_type": "stream",
     "text": [
      "Testing Set Mean Absolute Error: 3.536 GPa\n"
     ]
    }
   ],
   "source": [
    "[loss, mae] = model.evaluate(test_values, test_labels, verbose=0)\n",
    "\n",
    "print(\"Testing Set Mean Absolute Error: {:2.3f} GPa\".format(mae))"
   ]
  },
  {
   "cell_type": "markdown",
   "metadata": {},
   "source": [
    "#### MAKING PREDICTIONS\n",
    "\n",
    "The last step in a regression model is to make predictions for values not in the training set, which are determined by the method [**predict**](https://keras.io/models/model/#predict). In the following cell we print the elements in the testing set, the real values for their Young's moduli and the predictions generated by our machine learned model."
   ]
  },
  {
   "cell_type": "code",
   "execution_count": 11,
   "metadata": {},
   "outputs": [
    {
     "name": "stdout",
     "output_type": "stream",
     "text": [
      "Elements in Test Set:  ['Zr2InCo2', 'Zr6Ga2Co', 'ZrPRu', 'ZrVP', 'ZrIN', 'Zr6CoAs2', 'ZrCoSn', 'YZrSb', 'ZrCoBi', 'BaZrO3', 'SrZrO3', 'ZrNbP', 'CaZrO3', 'ZrSiO4', 'ZrGeSe', 'ZrGeS', 'ZrNCl', 'ZrAlNi', 'ErZrSb', 'ZrSiRu', 'Cs2ZrF6', 'ZrAsRu', 'Ba2ZrO4', 'ZrCdPd2', 'ZrAlAu2', 'MgZrPd2', 'MgZrRh2', 'MgZrAu2', 'LuZrRu2', 'LiZrPt2', 'LiZr2Tc', 'ZrGeSb', 'ZrScOs2', 'Zr6Al2Fe', 'Zr6Sb2Pt', 'Na2Zr(CuS2)2', 'LiZrAu2', 'K2Zr(BO3)2', 'KZrCuSe3', 'ZrTc2W', 'ZrCuSiAs', 'Cs2KZrOF5']\n",
      "Real Values [139.92000000000002, 130.0, 276.48, 267.5, 35.7, 170.18, 170.28, 104.96, 157.48, 228.16, 220.0, 249.48, 214.2, 249.6, 167.28, 189.42, 33.28, 181.76, 92.16, 256.0, 23.58, 220.08, 142.24, 94.52, 43.5, 95.9, 174.20000000000005, 87.68, 184.6, 48.96, 80.03999999999998, 175.2, 217.46, 124.8, 152.22, 42.88, 31.9, 95.46, 42.84, 276.86, 199.08, 30.520000000000003]\n",
      "Predictions [142.50398, 131.18198, 276.58575, 267.8808, 28.723444, 171.14262, 171.9333, 105.769585, 159.64867, 233.45348, 223.99794, 250.16438, 217.89008, 252.8347, 169.23695, 191.91042, 27.5374, 182.11256, 93.72253, 255.7131, 29.24449, 220.66673, 148.82637, 95.540146, 51.426365, 98.81303, 176.36003, 90.14579, 187.13133, 56.678284, 84.08062, 179.45218, 221.86223, 123.6751, 152.86324, 41.456375, 50.959534, 106.45965, 36.711063, 278.40417, 199.50737, 39.302307]\n"
     ]
    }
   ],
   "source": [
    "test_predictions = model.predict(test_values).flatten()\n",
    "\n",
    "print(\"Elements in Test Set: \", labeled_elements)\n",
    "print(\"Real Values\", list(test_labels))\n",
    "print(\"Predictions\", list(test_predictions))\n",
    "\n",
    "values = np.concatenate((train_values, test_values), axis=0) # This line joins the values together to evaluate all of them\n",
    "predictions = model.predict(values).flatten()"
   ]
  },
  {
   "cell_type": "markdown",
   "metadata": {},
   "source": [
    "### 4. Plotting\n",
    "\n",
    "The easiest way to see if the model did a good job estimating the Young's Modulus for the Elements is through a plot comparing Real Values with their Predictions. We will use [Plotly](https://plot.ly/python/) to create a plot like that. We covered how to plot in Plotly in the first tutorial of this tool. For values in this plot, the line (x = y) indicates a perfect match and would be the desirable result for the points. As you analyze the plot, you can hover on the points to see the data we obtained in the cell above."
   ]
  },
  {
   "cell_type": "code",
   "execution_count": 12,
   "metadata": {},
   "outputs": [
    {
     "data": {
      "text/html": [
       "        <script type=\"text/javascript\">\n",
       "        window.PlotlyConfig = {MathJaxConfig: 'local'};\n",
       "        if (window.MathJax) {MathJax.Hub.Config({SVG: {font: \"STIX-Web\"}});}\n",
       "        if (typeof require !== 'undefined') {\n",
       "        require.undef(\"plotly\");\n",
       "        requirejs.config({\n",
       "            paths: {\n",
       "                'plotly': ['https://cdn.plot.ly/plotly-latest.min']\n",
       "            }\n",
       "        });\n",
       "        require(['plotly'], function(Plotly) {\n",
       "            window._Plotly = Plotly;\n",
       "        });\n",
       "        }\n",
       "        </script>\n",
       "        "
      ]
     },
     "metadata": {},
     "output_type": "display_data"
    },
    {
     "data": {
      "application/vnd.plotly.v1+json": {
       "config": {
        "linkText": "Export to plot.ly",
        "plotlyServerURL": "https://plot.ly",
        "showLink": false
       },
       "data": [
        {
         "marker": {
          "color": "blue",
          "size": 12
         },
         "mode": "markers",
         "name": "Young's Modulus (Training)",
         "text": [
          "Zr2N",
          "ZrAu2",
          "Zr2Cd",
          "ZrTe2",
          "ZrAg",
          "Zr3Au",
          "ZrBe5",
          "ZrCd3",
          "ZrP",
          "ZrOs",
          "ZrS2",
          "ZrRe2",
          "Zr4Al3",
          "Zr2Si",
          "ZrPd",
          "ZrN",
          "ZrZn2",
          "Zr3O",
          "ZrIr3",
          "Zr3Al",
          "ZrB2",
          "Zr2Al3",
          "ZrSi2",
          "ZrP2",
          "ZrTe",
          "Zr3Hg",
          "ZrAs",
          "ZrSe3",
          "Zr3Te",
          "Zr2Cu",
          "ZrMo2",
          "Zr3In",
          "ZrSe2",
          "ZrIn2",
          "ZrTe3",
          "ZrMn2",
          "ZrRu",
          "Zr2Ag",
          "Zr3P",
          "ZrCo",
          "ZrCl3",
          "ZrRh3",
          "ZrCl2",
          "ZrBr3",
          "ZrI3",
          "Zr2Au",
          "ZrH2",
          "ZrHg",
          "Zr2Pd",
          "ZrCl",
          "ZrAs2",
          "ZrAl2",
          "ZrC",
          "ZrO2",
          "Zr3Co",
          "ZrGa",
          "ZrGa2",
          "Zr3Ga2",
          "Zr2Ga3",
          "ZrPd3",
          "ZrBi",
          "Zr3Fe",
          "Zr2Sb",
          "Zr2Ni",
          "Zr5Te4",
          "ZrAl3",
          "ZrNi3",
          "ZrBr",
          "Zr5Sn4",
          "ZrNi",
          "ZrIr",
          "ZrSb",
          "Zr2Ga",
          "ZrZn",
          "ZrI2",
          "ZrIn3",
          "ZrOs2",
          "ZrI2",
          "Zr2Rh",
          "ZrTe5",
          "Zr2Co",
          "ZrRh",
          "ZrW2",
          "ZrH",
          "ZrSn2",
          "ZrS",
          "ZrZn3",
          "ZrSi",
          "ZrCr2",
          "ZrCo2",
          "Zr3As2",
          "Zr3Tl",
          "ZrSb2",
          "ZrS3",
          "ZrBeSi",
          "CaZrF6",
          "CaZrN2",
          "Sr4ZrN4",
          "ZrVGe",
          "ZrRu3C",
          "ZrZnCu2",
          "Zr6Al2Co",
          "ZrGaAu",
          "Rb2ZrF6",
          "Zr3(Cu2Ge)2",
          "Zr2InC",
          "ZrMnP",
          "ZrInNi2",
          "ZrFeP",
          "Zr2NiP",
          "ZrNiH3",
          "ZrCu2Te3",
          "ZrAl5Ni2",
          "BaZrN2",
          "ZrSbRu",
          "ZrGeTe",
          "ZrNi2Sb",
          "ZrAlCo2",
          "ZrSiS",
          "Li2ZrF6",
          "Zr2CoSi2",
          "TbZrSb",
          "Sm2Zr2O7",
          "Zr2SnC",
          "ZrSiSe",
          "Zr2CS",
          "DyZrSb",
          "Zr(MoO4)2",
          "ZrAlPd2",
          "ZrNCl",
          "TmZrSb",
          "ZrInCu2",
          "ZrInNi4",
          "Cs2ZrCl6",
          "Na2ZrSe3",
          "Li8ZrO6",
          "Ba3Zr2O7",
          "Zr(SiNi)2",
          "ZrGeO4",
          "Zr(CuP)2",
          "ZrCoP",
          "Zr2CuOs",
          "YbZrRh2",
          "LiZr2Os",
          "LiZrIr2",
          "ZrNiSn",
          "ZrSnTe",
          "ZrAlRu2",
          "ZrGeRu2",
          "Zr2OsRu",
          "Na2ZrO3",
          "ZrZnN2",
          "BaZrO3",
          "Zr3(CuSi)4",
          "Zr(TiGa2)2",
          "ZrMoP",
          "ZrCdCu2",
          "ZrGeTe4",
          "Zr2Te2P",
          "ZrSiTe",
          "ZrCuSi",
          "Rb2ZrCl6",
          "Zr2CoP",
          "ZrTiAs",
          "Li2ZrN2",
          "HoZrSb",
          "ZrSO",
          "ZrAlNi2",
          "Li2ZrO3",
          "Zr2SbP",
          "BaZrS3",
          "Zr2Fe12P7",
          "ZrVSi",
          "ZrVF6",
          "Zr(CoSi)2",
          "Zr4In5Co2",
          "Zr3(Cu2Si)2",
          "Zr2CoTc",
          "MgZrIr2",
          "LiZrRh2",
          "Zr2NiAs2",
          "Zr6FeTe2",
          "ZrSnPd",
          "ZrInAu",
          "ZrSnPt",
          "Zr2CoOs",
          "HfZrTc2",
          "ZrAlRh2",
          "ZrCdAu2",
          "ZrNbTc2",
          "ZrCdRh2",
          "Zr2TcPd",
          "ZrZnRh2",
          "Zr(VGa2)2",
          "Ca4ZrN4",
          "ZrZnNi4",
          "Zr2SN2",
          "Zr6FeSb2",
          "ZrNiSb",
          "ZrSbPd",
          "Zr2InCo2",
          "Zr6Ga2Co",
          "ZrPRu",
          "ZrVP",
          "ZrIN",
          "Zr6CoAs2",
          "ZrCoSn",
          "YZrSb",
          "ZrCoBi",
          "BaZrO3",
          "SrZrO3",
          "ZrNbP",
          "CaZrO3",
          "ZrSiO4",
          "ZrGeSe",
          "ZrGeS",
          "ZrNCl",
          "ZrAlNi",
          "ErZrSb",
          "ZrSiRu",
          "Cs2ZrF6",
          "ZrAsRu",
          "Ba2ZrO4",
          "ZrCdPd2",
          "ZrAlAu2",
          "MgZrPd2",
          "MgZrRh2",
          "MgZrAu2",
          "LuZrRu2",
          "LiZrPt2",
          "LiZr2Tc",
          "ZrGeSb",
          "ZrScOs2",
          "Zr6Al2Fe",
          "Zr6Sb2Pt",
          "Na2Zr(CuS2)2",
          "LiZrAu2",
          "K2Zr(BO3)2",
          "KZrCuSe3",
          "ZrTc2W",
          "ZrCuSiAs",
          "Cs2KZrOF5"
         ],
         "type": "scatter",
         "x": [
          225.28,
          100.08,
          75.04,
          29.9,
          123.14,
          136.24,
          257.52,
          75.04,
          205,
          257.40000000000003,
          31.46,
          182.16,
          186.34,
          212.28,
          91.74,
          357.84,
          148.68,
          147.84,
          383.04,
          139.7,
          515.2800000000002,
          171.12,
          228,
          198.4,
          140,
          147.32,
          165.1,
          22.68,
          103.74,
          123.14,
          160.48,
          130.56,
          29.52,
          111.76,
          25.8,
          135.23999999999998,
          212.22,
          105.6,
          163.84,
          118.8,
          7.68,
          287.02,
          29.76,
          9.6,
          7.02,
          119.7,
          81.19999999999997,
          66.72,
          130.34,
          18.76,
          176.08,
          207.06,
          384.78,
          221,
          91.8,
          181.04,
          158.72,
          167.5,
          167.5,
          205.4,
          116.84,
          96.48,
          92.48,
          62.48,
          91.44,
          195.88,
          184.8,
          16.32,
          155,
          96.6,
          174.20000000000005,
          146.16,
          123.14,
          123.14,
          18.72,
          118.08,
          251.92,
          19.52,
          26.46,
          15.48,
          56.4,
          130.56,
          229.68,
          67.19999999999999,
          136.4,
          117.92,
          103.74,
          228.78,
          152.32,
          197.6,
          157.38,
          154.8,
          124,
          27.94,
          271.44,
          60.72000000000001,
          295.2,
          76.56,
          185.76,
          392.5,
          115.24,
          131.58,
          159.96,
          26,
          180.34,
          200.08,
          275.28,
          136.68,
          297.5,
          210.82,
          172.92000000000004,
          53.34,
          204.96,
          105.6,
          126.9,
          105.6,
          158.4,
          201.24,
          209.84,
          87.5,
          235.6,
          98.8,
          220.98,
          198.4,
          147.62,
          273.28,
          91.7,
          34.72,
          43.5,
          30.96,
          91,
          133.62,
          171.6,
          10.48,
          54.56,
          156.16,
          167.64,
          211.56,
          224.4,
          158.6,
          287.5,
          126.04,
          103.36,
          134,
          133.28,
          188.34,
          132.84,
          183.6,
          234.96,
          225.32,
          126.48,
          206.98,
          220,
          209.16,
          171.12,
          287.2800000000001,
          133.62,
          25.96,
          43.92,
          67.86,
          211.68,
          12.9,
          199.68,
          181.76,
          264.42,
          95.46,
          133,
          107.64,
          148.68,
          165,
          85.8,
          317.5,
          159.60000000000005,
          83.84,
          274.68,
          132.5,
          190.5,
          180.78,
          206.98,
          124.2,
          175.44,
          153.6,
          143.64,
          121.44,
          214.02,
          176.8,
          172.86,
          258,
          71,
          244.72000000000003,
          154.28,
          144.72,
          163.48000000000005,
          209.84,
          106.6,
          186.02,
          178.16,
          148.48,
          142.56,
          98.64,
          139.92000000000002,
          130,
          276.48,
          267.5,
          35.7,
          170.18,
          170.28,
          104.96,
          157.48,
          228.16,
          220,
          249.48,
          214.2,
          249.6,
          167.28,
          189.42,
          33.28,
          181.76,
          92.16,
          256,
          23.58,
          220.08,
          142.24,
          94.52,
          43.5,
          95.9,
          174.20000000000005,
          87.68,
          184.6,
          48.96,
          80.03999999999998,
          175.2,
          217.46,
          124.8,
          152.22,
          42.88,
          31.9,
          95.46,
          42.84,
          276.86,
          199.08,
          30.520000000000003
         ],
         "y": [
          225.86634826660156,
          101.21839904785156,
          75.58771514892578,
          30.53287124633789,
          124.25614166259766,
          137.66275024414062,
          266.2867736816406,
          76.99988555908203,
          204.94520568847656,
          260.6369323730469,
          30.279861450195312,
          193.18161010742188,
          189.57098388671875,
          214.70843505859375,
          91.50833129882812,
          357.8023681640625,
          149.8214569091797,
          135.43389892578125,
          389.4147644042969,
          140.1361083984375,
          536.4183959960938,
          171.8234100341797,
          231.45350646972656,
          199.2960968017578,
          141.63131713867188,
          148.2697296142578,
          165.0712432861328,
          22.812543869018555,
          106.92205047607422,
          124.50406646728516,
          166.49806213378906,
          130.87600708007812,
          30.1108341217041,
          113.52506256103516,
          25.927448272705078,
          139.95269775390625,
          213.34178161621094,
          107.64152526855469,
          164.64320373535156,
          122.41805267333984,
          16.37827491760254,
          289.06201171875,
          30.338939666748047,
          24.093238830566406,
          16.918014526367188,
          122.55072784423828,
          84.74079895019531,
          69.72081756591797,
          131.6259002685547,
          19.582664489746094,
          176.9052276611328,
          212.11399841308594,
          388.9842834472656,
          225.31007385253906,
          94.99876403808594,
          182.00662231445312,
          160.04559326171875,
          168.7257843017578,
          168.6812744140625,
          206.81422424316406,
          118.15473175048828,
          99.5964584350586,
          93.77947235107422,
          63.57757568359375,
          93.16958618164062,
          201.5834503173828,
          187.0835723876953,
          18.465391159057617,
          156.60353088378906,
          99.2165756225586,
          180.5278778076172,
          147.839599609375,
          123.87139129638672,
          124.07452392578125,
          19.761180877685547,
          120.20726013183594,
          263.03216552734375,
          13.983077049255371,
          27.842899322509766,
          20.889692306518555,
          56.97810363769531,
          134.22630310058594,
          236.58213806152344,
          69.58154296875,
          137.9998016357422,
          118.65619659423828,
          105.4964828491211,
          230.35304260253906,
          159.08779907226562,
          198.98773193359375,
          158.19093322753906,
          155.86767578125,
          126.08984375,
          26.980714797973633,
          279.65789794921875,
          61.60112762451172,
          299.87164306640625,
          78.30191040039062,
          185.3354034423828,
          393.0623779296875,
          118.5064926147461,
          132.60997009277344,
          161.3189239501953,
          26.485761642456055,
          181.7572784423828,
          202.8291778564453,
          276.1979675292969,
          139.44149780273438,
          299.2498779296875,
          211.1762237548828,
          173.8443603515625,
          53.36540222167969,
          206.8199005126953,
          107.51941680908203,
          128.97474670410156,
          108.43086242675781,
          160.3036651611328,
          202.3660125732422,
          212.17257690429688,
          88.07161712646484,
          236.8370819091797,
          99.22187805175781,
          224.97879028320312,
          199.9521942138672,
          149.5872039794922,
          276.58795166015625,
          93.40676879882812,
          35.49851989746094,
          47.39764404296875,
          32.511295318603516,
          92.68497467041016,
          135.0909881591797,
          174.61119079589844,
          11.126691818237305,
          52.730247497558594,
          161.03565979003906,
          172.31036376953125,
          212.72120666503906,
          230.89747619628906,
          158.52569580078125,
          288.7240905761719,
          129.8910369873047,
          104.87814331054688,
          136.5924530029297,
          136.15159606933594,
          189.78712463378906,
          135.45733642578125,
          189.0335693359375,
          237.82662963867188,
          227.805908203125,
          129.8212432861328,
          207.2557830810547,
          208.31507873535156,
          209.74562072753906,
          172.6942596435547,
          287.50701904296875,
          134.75999450683594,
          26.83188819885254,
          44.19957733154297,
          70.34378814697266,
          212.3527374267578,
          13.025601387023926,
          200.7853546142578,
          182.20350646972656,
          272.3838806152344,
          96.3004150390625,
          135.82606506347656,
          112.8294448852539,
          152.9130859375,
          166.47811889648438,
          87.09567260742188,
          319.55169677734375,
          157.49574279785156,
          84.43521881103516,
          274.0826721191406,
          134.31642150878906,
          191.07662963867188,
          183.64259338378906,
          210.03553771972656,
          128.1801300048828,
          176.0631866455078,
          154.36862182617188,
          144.51051330566406,
          123.58997344970703,
          216.3272247314453,
          177.80311584472656,
          175.218994140625,
          259.8506164550781,
          75.23433685302734,
          251.38526916503906,
          158.0508575439453,
          149.20742797851562,
          167.93894958496094,
          213.07763671875,
          108.4990005493164,
          188.74546813964844,
          179.9524383544922,
          149.47705078125,
          145.21107482910156,
          100.5141372680664,
          142.5039825439453,
          131.18197631835938,
          276.58575439453125,
          267.88079833984375,
          28.72344398498535,
          171.1426239013672,
          171.9333038330078,
          105.76958465576172,
          159.64866638183594,
          233.45347595214844,
          223.99794006347656,
          250.1643829345703,
          217.89007568359375,
          252.83470153808594,
          169.23695373535156,
          191.91041564941406,
          27.537399291992188,
          182.11256408691406,
          93.72252655029297,
          255.71310424804688,
          29.244489669799805,
          220.66673278808594,
          148.8263702392578,
          95.54014587402344,
          51.42636489868164,
          98.81302642822266,
          176.3600311279297,
          90.14579010009766,
          187.13133239746094,
          56.67828369140625,
          84.08061981201172,
          179.45217895507812,
          221.8622283935547,
          123.67510223388672,
          152.8632354736328,
          41.45637512207031,
          50.95953369140625,
          106.45964813232422,
          36.711063385009766,
          278.4041748046875,
          199.5073699951172,
          39.30230712890625
         ]
        },
        {
         "marker": {
          "color": "red",
          "size": 12
         },
         "mode": "markers",
         "name": "Young's Modulus (Testing)",
         "text": [
          "Zr2InCo2",
          "Zr6Ga2Co",
          "ZrPRu",
          "ZrVP",
          "ZrIN",
          "Zr6CoAs2",
          "ZrCoSn",
          "YZrSb",
          "ZrCoBi",
          "BaZrO3",
          "SrZrO3",
          "ZrNbP",
          "CaZrO3",
          "ZrSiO4",
          "ZrGeSe",
          "ZrGeS",
          "ZrNCl",
          "ZrAlNi",
          "ErZrSb",
          "ZrSiRu",
          "Cs2ZrF6",
          "ZrAsRu",
          "Ba2ZrO4",
          "ZrCdPd2",
          "ZrAlAu2",
          "MgZrPd2",
          "MgZrRh2",
          "MgZrAu2",
          "LuZrRu2",
          "LiZrPt2",
          "LiZr2Tc",
          "ZrGeSb",
          "ZrScOs2",
          "Zr6Al2Fe",
          "Zr6Sb2Pt",
          "Na2Zr(CuS2)2",
          "LiZrAu2",
          "K2Zr(BO3)2",
          "KZrCuSe3",
          "ZrTc2W",
          "ZrCuSiAs",
          "Cs2KZrOF5"
         ],
         "type": "scatter",
         "x": [
          139.92000000000002,
          130,
          276.48,
          267.5,
          35.7,
          170.18,
          170.28,
          104.96,
          157.48,
          228.16,
          220,
          249.48,
          214.2,
          249.6,
          167.28,
          189.42,
          33.28,
          181.76,
          92.16,
          256,
          23.58,
          220.08,
          142.24,
          94.52,
          43.5,
          95.9,
          174.20000000000005,
          87.68,
          184.6,
          48.96,
          80.03999999999998,
          175.2,
          217.46,
          124.8,
          152.22,
          42.88,
          31.9,
          95.46,
          42.84,
          276.86,
          199.08,
          30.520000000000003
         ],
         "y": [
          142.5039825439453,
          131.18197631835938,
          276.58575439453125,
          267.88079833984375,
          28.72344398498535,
          171.1426239013672,
          171.9333038330078,
          105.76958465576172,
          159.64866638183594,
          233.45347595214844,
          223.99794006347656,
          250.1643829345703,
          217.89007568359375,
          252.83470153808594,
          169.23695373535156,
          191.91041564941406,
          27.537399291992188,
          182.11256408691406,
          93.72252655029297,
          255.71310424804688,
          29.244489669799805,
          220.66673278808594,
          148.8263702392578,
          95.54014587402344,
          51.42636489868164,
          98.81302642822266,
          176.3600311279297,
          90.14579010009766,
          187.13133239746094,
          56.67828369140625,
          84.08061981201172,
          179.45217895507812,
          221.8622283935547,
          123.67510223388672,
          152.8632354736328,
          41.45637512207031,
          50.95953369140625,
          106.45964813232422,
          36.711063385009766,
          278.4041748046875,
          199.5073699951172,
          39.30230712890625
         ]
        },
        {
         "mode": "lines",
         "name": "Match",
         "type": "scatter",
         "x": [
          0,
          600
         ],
         "y": [
          0,
          600
         ]
        }
       ],
       "layout": {
        "height": 600,
        "hovermode": "closest",
        "legend": {
         "font": {
          "size": 24
         }
        },
        "showlegend": true,
        "template": {
         "data": {
          "bar": [
           {
            "error_x": {
             "color": "#2a3f5f"
            },
            "error_y": {
             "color": "#2a3f5f"
            },
            "marker": {
             "line": {
              "color": "#E5ECF6",
              "width": 0.5
             }
            },
            "type": "bar"
           }
          ],
          "barpolar": [
           {
            "marker": {
             "line": {
              "color": "#E5ECF6",
              "width": 0.5
             }
            },
            "type": "barpolar"
           }
          ],
          "carpet": [
           {
            "aaxis": {
             "endlinecolor": "#2a3f5f",
             "gridcolor": "white",
             "linecolor": "white",
             "minorgridcolor": "white",
             "startlinecolor": "#2a3f5f"
            },
            "baxis": {
             "endlinecolor": "#2a3f5f",
             "gridcolor": "white",
             "linecolor": "white",
             "minorgridcolor": "white",
             "startlinecolor": "#2a3f5f"
            },
            "type": "carpet"
           }
          ],
          "choropleth": [
           {
            "colorbar": {
             "outlinewidth": 0,
             "ticks": ""
            },
            "type": "choropleth"
           }
          ],
          "contour": [
           {
            "colorbar": {
             "outlinewidth": 0,
             "ticks": ""
            },
            "colorscale": [
             [
              0,
              "#0d0887"
             ],
             [
              0.1111111111111111,
              "#46039f"
             ],
             [
              0.2222222222222222,
              "#7201a8"
             ],
             [
              0.3333333333333333,
              "#9c179e"
             ],
             [
              0.4444444444444444,
              "#bd3786"
             ],
             [
              0.5555555555555556,
              "#d8576b"
             ],
             [
              0.6666666666666666,
              "#ed7953"
             ],
             [
              0.7777777777777778,
              "#fb9f3a"
             ],
             [
              0.8888888888888888,
              "#fdca26"
             ],
             [
              1,
              "#f0f921"
             ]
            ],
            "type": "contour"
           }
          ],
          "contourcarpet": [
           {
            "colorbar": {
             "outlinewidth": 0,
             "ticks": ""
            },
            "type": "contourcarpet"
           }
          ],
          "heatmap": [
           {
            "colorbar": {
             "outlinewidth": 0,
             "ticks": ""
            },
            "colorscale": [
             [
              0,
              "#0d0887"
             ],
             [
              0.1111111111111111,
              "#46039f"
             ],
             [
              0.2222222222222222,
              "#7201a8"
             ],
             [
              0.3333333333333333,
              "#9c179e"
             ],
             [
              0.4444444444444444,
              "#bd3786"
             ],
             [
              0.5555555555555556,
              "#d8576b"
             ],
             [
              0.6666666666666666,
              "#ed7953"
             ],
             [
              0.7777777777777778,
              "#fb9f3a"
             ],
             [
              0.8888888888888888,
              "#fdca26"
             ],
             [
              1,
              "#f0f921"
             ]
            ],
            "type": "heatmap"
           }
          ],
          "heatmapgl": [
           {
            "colorbar": {
             "outlinewidth": 0,
             "ticks": ""
            },
            "colorscale": [
             [
              0,
              "#0d0887"
             ],
             [
              0.1111111111111111,
              "#46039f"
             ],
             [
              0.2222222222222222,
              "#7201a8"
             ],
             [
              0.3333333333333333,
              "#9c179e"
             ],
             [
              0.4444444444444444,
              "#bd3786"
             ],
             [
              0.5555555555555556,
              "#d8576b"
             ],
             [
              0.6666666666666666,
              "#ed7953"
             ],
             [
              0.7777777777777778,
              "#fb9f3a"
             ],
             [
              0.8888888888888888,
              "#fdca26"
             ],
             [
              1,
              "#f0f921"
             ]
            ],
            "type": "heatmapgl"
           }
          ],
          "histogram": [
           {
            "marker": {
             "colorbar": {
              "outlinewidth": 0,
              "ticks": ""
             }
            },
            "type": "histogram"
           }
          ],
          "histogram2d": [
           {
            "colorbar": {
             "outlinewidth": 0,
             "ticks": ""
            },
            "colorscale": [
             [
              0,
              "#0d0887"
             ],
             [
              0.1111111111111111,
              "#46039f"
             ],
             [
              0.2222222222222222,
              "#7201a8"
             ],
             [
              0.3333333333333333,
              "#9c179e"
             ],
             [
              0.4444444444444444,
              "#bd3786"
             ],
             [
              0.5555555555555556,
              "#d8576b"
             ],
             [
              0.6666666666666666,
              "#ed7953"
             ],
             [
              0.7777777777777778,
              "#fb9f3a"
             ],
             [
              0.8888888888888888,
              "#fdca26"
             ],
             [
              1,
              "#f0f921"
             ]
            ],
            "type": "histogram2d"
           }
          ],
          "histogram2dcontour": [
           {
            "colorbar": {
             "outlinewidth": 0,
             "ticks": ""
            },
            "colorscale": [
             [
              0,
              "#0d0887"
             ],
             [
              0.1111111111111111,
              "#46039f"
             ],
             [
              0.2222222222222222,
              "#7201a8"
             ],
             [
              0.3333333333333333,
              "#9c179e"
             ],
             [
              0.4444444444444444,
              "#bd3786"
             ],
             [
              0.5555555555555556,
              "#d8576b"
             ],
             [
              0.6666666666666666,
              "#ed7953"
             ],
             [
              0.7777777777777778,
              "#fb9f3a"
             ],
             [
              0.8888888888888888,
              "#fdca26"
             ],
             [
              1,
              "#f0f921"
             ]
            ],
            "type": "histogram2dcontour"
           }
          ],
          "mesh3d": [
           {
            "colorbar": {
             "outlinewidth": 0,
             "ticks": ""
            },
            "type": "mesh3d"
           }
          ],
          "parcoords": [
           {
            "line": {
             "colorbar": {
              "outlinewidth": 0,
              "ticks": ""
             }
            },
            "type": "parcoords"
           }
          ],
          "pie": [
           {
            "automargin": true,
            "type": "pie"
           }
          ],
          "scatter": [
           {
            "marker": {
             "colorbar": {
              "outlinewidth": 0,
              "ticks": ""
             }
            },
            "type": "scatter"
           }
          ],
          "scatter3d": [
           {
            "line": {
             "colorbar": {
              "outlinewidth": 0,
              "ticks": ""
             }
            },
            "marker": {
             "colorbar": {
              "outlinewidth": 0,
              "ticks": ""
             }
            },
            "type": "scatter3d"
           }
          ],
          "scattercarpet": [
           {
            "marker": {
             "colorbar": {
              "outlinewidth": 0,
              "ticks": ""
             }
            },
            "type": "scattercarpet"
           }
          ],
          "scattergeo": [
           {
            "marker": {
             "colorbar": {
              "outlinewidth": 0,
              "ticks": ""
             }
            },
            "type": "scattergeo"
           }
          ],
          "scattergl": [
           {
            "marker": {
             "colorbar": {
              "outlinewidth": 0,
              "ticks": ""
             }
            },
            "type": "scattergl"
           }
          ],
          "scattermapbox": [
           {
            "marker": {
             "colorbar": {
              "outlinewidth": 0,
              "ticks": ""
             }
            },
            "type": "scattermapbox"
           }
          ],
          "scatterpolar": [
           {
            "marker": {
             "colorbar": {
              "outlinewidth": 0,
              "ticks": ""
             }
            },
            "type": "scatterpolar"
           }
          ],
          "scatterpolargl": [
           {
            "marker": {
             "colorbar": {
              "outlinewidth": 0,
              "ticks": ""
             }
            },
            "type": "scatterpolargl"
           }
          ],
          "scatterternary": [
           {
            "marker": {
             "colorbar": {
              "outlinewidth": 0,
              "ticks": ""
             }
            },
            "type": "scatterternary"
           }
          ],
          "surface": [
           {
            "colorbar": {
             "outlinewidth": 0,
             "ticks": ""
            },
            "colorscale": [
             [
              0,
              "#0d0887"
             ],
             [
              0.1111111111111111,
              "#46039f"
             ],
             [
              0.2222222222222222,
              "#7201a8"
             ],
             [
              0.3333333333333333,
              "#9c179e"
             ],
             [
              0.4444444444444444,
              "#bd3786"
             ],
             [
              0.5555555555555556,
              "#d8576b"
             ],
             [
              0.6666666666666666,
              "#ed7953"
             ],
             [
              0.7777777777777778,
              "#fb9f3a"
             ],
             [
              0.8888888888888888,
              "#fdca26"
             ],
             [
              1,
              "#f0f921"
             ]
            ],
            "type": "surface"
           }
          ],
          "table": [
           {
            "cells": {
             "fill": {
              "color": "#EBF0F8"
             },
             "line": {
              "color": "white"
             }
            },
            "header": {
             "fill": {
              "color": "#C8D4E3"
             },
             "line": {
              "color": "white"
             }
            },
            "type": "table"
           }
          ]
         },
         "layout": {
          "annotationdefaults": {
           "arrowcolor": "#2a3f5f",
           "arrowhead": 0,
           "arrowwidth": 1
          },
          "coloraxis": {
           "colorbar": {
            "outlinewidth": 0,
            "ticks": ""
           }
          },
          "colorscale": {
           "diverging": [
            [
             0,
             "#8e0152"
            ],
            [
             0.1,
             "#c51b7d"
            ],
            [
             0.2,
             "#de77ae"
            ],
            [
             0.3,
             "#f1b6da"
            ],
            [
             0.4,
             "#fde0ef"
            ],
            [
             0.5,
             "#f7f7f7"
            ],
            [
             0.6,
             "#e6f5d0"
            ],
            [
             0.7,
             "#b8e186"
            ],
            [
             0.8,
             "#7fbc41"
            ],
            [
             0.9,
             "#4d9221"
            ],
            [
             1,
             "#276419"
            ]
           ],
           "sequential": [
            [
             0,
             "#0d0887"
            ],
            [
             0.1111111111111111,
             "#46039f"
            ],
            [
             0.2222222222222222,
             "#7201a8"
            ],
            [
             0.3333333333333333,
             "#9c179e"
            ],
            [
             0.4444444444444444,
             "#bd3786"
            ],
            [
             0.5555555555555556,
             "#d8576b"
            ],
            [
             0.6666666666666666,
             "#ed7953"
            ],
            [
             0.7777777777777778,
             "#fb9f3a"
            ],
            [
             0.8888888888888888,
             "#fdca26"
            ],
            [
             1,
             "#f0f921"
            ]
           ],
           "sequentialminus": [
            [
             0,
             "#0d0887"
            ],
            [
             0.1111111111111111,
             "#46039f"
            ],
            [
             0.2222222222222222,
             "#7201a8"
            ],
            [
             0.3333333333333333,
             "#9c179e"
            ],
            [
             0.4444444444444444,
             "#bd3786"
            ],
            [
             0.5555555555555556,
             "#d8576b"
            ],
            [
             0.6666666666666666,
             "#ed7953"
            ],
            [
             0.7777777777777778,
             "#fb9f3a"
            ],
            [
             0.8888888888888888,
             "#fdca26"
            ],
            [
             1,
             "#f0f921"
            ]
           ]
          },
          "colorway": [
           "#636efa",
           "#EF553B",
           "#00cc96",
           "#ab63fa",
           "#FFA15A",
           "#19d3f3",
           "#FF6692",
           "#B6E880",
           "#FF97FF",
           "#FECB52"
          ],
          "font": {
           "color": "#2a3f5f"
          },
          "geo": {
           "bgcolor": "white",
           "lakecolor": "white",
           "landcolor": "#E5ECF6",
           "showlakes": true,
           "showland": true,
           "subunitcolor": "white"
          },
          "hoverlabel": {
           "align": "left"
          },
          "hovermode": "closest",
          "mapbox": {
           "style": "light"
          },
          "paper_bgcolor": "white",
          "plot_bgcolor": "#E5ECF6",
          "polar": {
           "angularaxis": {
            "gridcolor": "white",
            "linecolor": "white",
            "ticks": ""
           },
           "bgcolor": "#E5ECF6",
           "radialaxis": {
            "gridcolor": "white",
            "linecolor": "white",
            "ticks": ""
           }
          },
          "scene": {
           "xaxis": {
            "backgroundcolor": "#E5ECF6",
            "gridcolor": "white",
            "gridwidth": 2,
            "linecolor": "white",
            "showbackground": true,
            "ticks": "",
            "zerolinecolor": "white"
           },
           "yaxis": {
            "backgroundcolor": "#E5ECF6",
            "gridcolor": "white",
            "gridwidth": 2,
            "linecolor": "white",
            "showbackground": true,
            "ticks": "",
            "zerolinecolor": "white"
           },
           "zaxis": {
            "backgroundcolor": "#E5ECF6",
            "gridcolor": "white",
            "gridwidth": 2,
            "linecolor": "white",
            "showbackground": true,
            "ticks": "",
            "zerolinecolor": "white"
           }
          },
          "shapedefaults": {
           "line": {
            "color": "#2a3f5f"
           }
          },
          "ternary": {
           "aaxis": {
            "gridcolor": "white",
            "linecolor": "white",
            "ticks": ""
           },
           "baxis": {
            "gridcolor": "white",
            "linecolor": "white",
            "ticks": ""
           },
           "bgcolor": "#E5ECF6",
           "caxis": {
            "gridcolor": "white",
            "linecolor": "white",
            "ticks": ""
           }
          },
          "title": {
           "x": 0.05
          },
          "xaxis": {
           "automargin": true,
           "gridcolor": "white",
           "linecolor": "white",
           "ticks": "",
           "title": {
            "standoff": 15
           },
           "zerolinecolor": "white",
           "zerolinewidth": 2
          },
          "yaxis": {
           "automargin": true,
           "gridcolor": "white",
           "linecolor": "white",
           "ticks": "",
           "title": {
            "standoff": 15
           },
           "zerolinecolor": "white",
           "zerolinewidth": 2
          }
         }
        },
        "title": {
         "font": {
          "size": 28
         },
         "text": "Neural Network Model - Zr compounds Young's Modulus"
        },
        "width": 1000,
        "xaxis": {
         "gridwidth": 1,
         "tickfont": {
          "size": 18
         },
         "title": {
          "font": {
           "size": 24
          },
          "text": "Real Values (GPa)"
         },
         "zeroline": false
        },
        "yaxis": {
         "gridwidth": 1,
         "tickfont": {
          "size": 18
         },
         "title": {
          "font": {
           "size": 24
          },
          "text": "Prediction (GPa)"
         },
         "zeroline": false
        }
       }
      },
      "text/html": [
       "<div>\n",
       "        \n",
       "        \n",
       "            <div id=\"de01d1ac-69bb-49b8-99c5-33dc1e92e444\" class=\"plotly-graph-div\" style=\"height:600px; width:1000px;\"></div>\n",
       "            <script type=\"text/javascript\">\n",
       "                require([\"plotly\"], function(Plotly) {\n",
       "                    window.PLOTLYENV=window.PLOTLYENV || {};\n",
       "                    \n",
       "                if (document.getElementById(\"de01d1ac-69bb-49b8-99c5-33dc1e92e444\")) {\n",
       "                    Plotly.newPlot(\n",
       "                        'de01d1ac-69bb-49b8-99c5-33dc1e92e444',\n",
       "                        [{\"marker\": {\"color\": \"blue\", \"size\": 12}, \"mode\": \"markers\", \"name\": \"Young's Modulus (Training)\", \"text\": [\"Zr2N\", \"ZrAu2\", \"Zr2Cd\", \"ZrTe2\", \"ZrAg\", \"Zr3Au\", \"ZrBe5\", \"ZrCd3\", \"ZrP\", \"ZrOs\", \"ZrS2\", \"ZrRe2\", \"Zr4Al3\", \"Zr2Si\", \"ZrPd\", \"ZrN\", \"ZrZn2\", \"Zr3O\", \"ZrIr3\", \"Zr3Al\", \"ZrB2\", \"Zr2Al3\", \"ZrSi2\", \"ZrP2\", \"ZrTe\", \"Zr3Hg\", \"ZrAs\", \"ZrSe3\", \"Zr3Te\", \"Zr2Cu\", \"ZrMo2\", \"Zr3In\", \"ZrSe2\", \"ZrIn2\", \"ZrTe3\", \"ZrMn2\", \"ZrRu\", \"Zr2Ag\", \"Zr3P\", \"ZrCo\", \"ZrCl3\", \"ZrRh3\", \"ZrCl2\", \"ZrBr3\", \"ZrI3\", \"Zr2Au\", \"ZrH2\", \"ZrHg\", \"Zr2Pd\", \"ZrCl\", \"ZrAs2\", \"ZrAl2\", \"ZrC\", \"ZrO2\", \"Zr3Co\", \"ZrGa\", \"ZrGa2\", \"Zr3Ga2\", \"Zr2Ga3\", \"ZrPd3\", \"ZrBi\", \"Zr3Fe\", \"Zr2Sb\", \"Zr2Ni\", \"Zr5Te4\", \"ZrAl3\", \"ZrNi3\", \"ZrBr\", \"Zr5Sn4\", \"ZrNi\", \"ZrIr\", \"ZrSb\", \"Zr2Ga\", \"ZrZn\", \"ZrI2\", \"ZrIn3\", \"ZrOs2\", \"ZrI2\", \"Zr2Rh\", \"ZrTe5\", \"Zr2Co\", \"ZrRh\", \"ZrW2\", \"ZrH\", \"ZrSn2\", \"ZrS\", \"ZrZn3\", \"ZrSi\", \"ZrCr2\", \"ZrCo2\", \"Zr3As2\", \"Zr3Tl\", \"ZrSb2\", \"ZrS3\", \"ZrBeSi\", \"CaZrF6\", \"CaZrN2\", \"Sr4ZrN4\", \"ZrVGe\", \"ZrRu3C\", \"ZrZnCu2\", \"Zr6Al2Co\", \"ZrGaAu\", \"Rb2ZrF6\", \"Zr3(Cu2Ge)2\", \"Zr2InC\", \"ZrMnP\", \"ZrInNi2\", \"ZrFeP\", \"Zr2NiP\", \"ZrNiH3\", \"ZrCu2Te3\", \"ZrAl5Ni2\", \"BaZrN2\", \"ZrSbRu\", \"ZrGeTe\", \"ZrNi2Sb\", \"ZrAlCo2\", \"ZrSiS\", \"Li2ZrF6\", \"Zr2CoSi2\", \"TbZrSb\", \"Sm2Zr2O7\", \"Zr2SnC\", \"ZrSiSe\", \"Zr2CS\", \"DyZrSb\", \"Zr(MoO4)2\", \"ZrAlPd2\", \"ZrNCl\", \"TmZrSb\", \"ZrInCu2\", \"ZrInNi4\", \"Cs2ZrCl6\", \"Na2ZrSe3\", \"Li8ZrO6\", \"Ba3Zr2O7\", \"Zr(SiNi)2\", \"ZrGeO4\", \"Zr(CuP)2\", \"ZrCoP\", \"Zr2CuOs\", \"YbZrRh2\", \"LiZr2Os\", \"LiZrIr2\", \"ZrNiSn\", \"ZrSnTe\", \"ZrAlRu2\", \"ZrGeRu2\", \"Zr2OsRu\", \"Na2ZrO3\", \"ZrZnN2\", \"BaZrO3\", \"Zr3(CuSi)4\", \"Zr(TiGa2)2\", \"ZrMoP\", \"ZrCdCu2\", \"ZrGeTe4\", \"Zr2Te2P\", \"ZrSiTe\", \"ZrCuSi\", \"Rb2ZrCl6\", \"Zr2CoP\", \"ZrTiAs\", \"Li2ZrN2\", \"HoZrSb\", \"ZrSO\", \"ZrAlNi2\", \"Li2ZrO3\", \"Zr2SbP\", \"BaZrS3\", \"Zr2Fe12P7\", \"ZrVSi\", \"ZrVF6\", \"Zr(CoSi)2\", \"Zr4In5Co2\", \"Zr3(Cu2Si)2\", \"Zr2CoTc\", \"MgZrIr2\", \"LiZrRh2\", \"Zr2NiAs2\", \"Zr6FeTe2\", \"ZrSnPd\", \"ZrInAu\", \"ZrSnPt\", \"Zr2CoOs\", \"HfZrTc2\", \"ZrAlRh2\", \"ZrCdAu2\", \"ZrNbTc2\", \"ZrCdRh2\", \"Zr2TcPd\", \"ZrZnRh2\", \"Zr(VGa2)2\", \"Ca4ZrN4\", \"ZrZnNi4\", \"Zr2SN2\", \"Zr6FeSb2\", \"ZrNiSb\", \"ZrSbPd\", \"Zr2InCo2\", \"Zr6Ga2Co\", \"ZrPRu\", \"ZrVP\", \"ZrIN\", \"Zr6CoAs2\", \"ZrCoSn\", \"YZrSb\", \"ZrCoBi\", \"BaZrO3\", \"SrZrO3\", \"ZrNbP\", \"CaZrO3\", \"ZrSiO4\", \"ZrGeSe\", \"ZrGeS\", \"ZrNCl\", \"ZrAlNi\", \"ErZrSb\", \"ZrSiRu\", \"Cs2ZrF6\", \"ZrAsRu\", \"Ba2ZrO4\", \"ZrCdPd2\", \"ZrAlAu2\", \"MgZrPd2\", \"MgZrRh2\", \"MgZrAu2\", \"LuZrRu2\", \"LiZrPt2\", \"LiZr2Tc\", \"ZrGeSb\", \"ZrScOs2\", \"Zr6Al2Fe\", \"Zr6Sb2Pt\", \"Na2Zr(CuS2)2\", \"LiZrAu2\", \"K2Zr(BO3)2\", \"KZrCuSe3\", \"ZrTc2W\", \"ZrCuSiAs\", \"Cs2KZrOF5\"], \"type\": \"scatter\", \"x\": [225.28, 100.08, 75.04, 29.9, 123.14, 136.24, 257.52, 75.04, 205.0, 257.40000000000003, 31.46, 182.16, 186.34, 212.28, 91.74, 357.84, 148.68, 147.84, 383.04, 139.7, 515.2800000000002, 171.12, 228.0, 198.4, 140.0, 147.32, 165.1, 22.68, 103.74, 123.14, 160.48, 130.56, 29.52, 111.76, 25.8, 135.23999999999998, 212.22, 105.6, 163.84, 118.8, 7.68, 287.02, 29.76, 9.6, 7.02, 119.7, 81.19999999999997, 66.72, 130.34, 18.76, 176.08, 207.06, 384.78, 221.0, 91.8, 181.04, 158.72, 167.5, 167.5, 205.4, 116.84, 96.48, 92.48, 62.48, 91.44, 195.88, 184.8, 16.32, 155.0, 96.6, 174.20000000000005, 146.16, 123.14, 123.14, 18.72, 118.08, 251.92, 19.52, 26.46, 15.48, 56.4, 130.56, 229.68, 67.19999999999999, 136.4, 117.92, 103.74, 228.78, 152.32, 197.6, 157.38, 154.8, 124.0, 27.94, 271.44, 60.72000000000001, 295.2, 76.56, 185.76, 392.5, 115.24, 131.58, 159.96, 26.0, 180.34, 200.08, 275.28, 136.68, 297.5, 210.82, 172.92000000000004, 53.34, 204.96, 105.6, 126.9, 105.6, 158.4, 201.24, 209.84, 87.5, 235.6, 98.8, 220.98, 198.4, 147.62, 273.28, 91.7, 34.72, 43.5, 30.96, 91.0, 133.62, 171.6, 10.48, 54.56, 156.16, 167.64, 211.56, 224.4, 158.6, 287.5, 126.04, 103.36, 134.0, 133.28, 188.34, 132.84, 183.6, 234.96, 225.32, 126.48, 206.98, 220.0, 209.16, 171.12, 287.2800000000001, 133.62, 25.96, 43.92, 67.86, 211.68, 12.9, 199.68, 181.76, 264.42, 95.46, 133.0, 107.64, 148.68, 165.0, 85.8, 317.5, 159.60000000000005, 83.84, 274.68, 132.5, 190.5, 180.78, 206.98, 124.2, 175.44, 153.6, 143.64, 121.44, 214.02, 176.8, 172.86, 258.0, 71.0, 244.72000000000003, 154.28, 144.72, 163.48000000000005, 209.84, 106.6, 186.02, 178.16, 148.48, 142.56, 98.64, 139.92000000000002, 130.0, 276.48, 267.5, 35.7, 170.18, 170.28, 104.96, 157.48, 228.16, 220.0, 249.48, 214.2, 249.6, 167.28, 189.42, 33.28, 181.76, 92.16, 256.0, 23.58, 220.08, 142.24, 94.52, 43.5, 95.9, 174.20000000000005, 87.68, 184.6, 48.96, 80.03999999999998, 175.2, 217.46, 124.8, 152.22, 42.88, 31.9, 95.46, 42.84, 276.86, 199.08, 30.520000000000003], \"y\": [225.86634826660156, 101.21839904785156, 75.58771514892578, 30.53287124633789, 124.25614166259766, 137.66275024414062, 266.2867736816406, 76.99988555908203, 204.94520568847656, 260.6369323730469, 30.279861450195312, 193.18161010742188, 189.57098388671875, 214.70843505859375, 91.50833129882812, 357.8023681640625, 149.8214569091797, 135.43389892578125, 389.4147644042969, 140.1361083984375, 536.4183959960938, 171.8234100341797, 231.45350646972656, 199.2960968017578, 141.63131713867188, 148.2697296142578, 165.0712432861328, 22.812543869018555, 106.92205047607422, 124.50406646728516, 166.49806213378906, 130.87600708007812, 30.1108341217041, 113.52506256103516, 25.927448272705078, 139.95269775390625, 213.34178161621094, 107.64152526855469, 164.64320373535156, 122.41805267333984, 16.37827491760254, 289.06201171875, 30.338939666748047, 24.093238830566406, 16.918014526367188, 122.55072784423828, 84.74079895019531, 69.72081756591797, 131.6259002685547, 19.582664489746094, 176.9052276611328, 212.11399841308594, 388.9842834472656, 225.31007385253906, 94.99876403808594, 182.00662231445312, 160.04559326171875, 168.7257843017578, 168.6812744140625, 206.81422424316406, 118.15473175048828, 99.5964584350586, 93.77947235107422, 63.57757568359375, 93.16958618164062, 201.5834503173828, 187.0835723876953, 18.465391159057617, 156.60353088378906, 99.2165756225586, 180.5278778076172, 147.839599609375, 123.87139129638672, 124.07452392578125, 19.761180877685547, 120.20726013183594, 263.03216552734375, 13.983077049255371, 27.842899322509766, 20.889692306518555, 56.97810363769531, 134.22630310058594, 236.58213806152344, 69.58154296875, 137.9998016357422, 118.65619659423828, 105.4964828491211, 230.35304260253906, 159.08779907226562, 198.98773193359375, 158.19093322753906, 155.86767578125, 126.08984375, 26.980714797973633, 279.65789794921875, 61.60112762451172, 299.87164306640625, 78.30191040039062, 185.3354034423828, 393.0623779296875, 118.5064926147461, 132.60997009277344, 161.3189239501953, 26.485761642456055, 181.7572784423828, 202.8291778564453, 276.1979675292969, 139.44149780273438, 299.2498779296875, 211.1762237548828, 173.8443603515625, 53.36540222167969, 206.8199005126953, 107.51941680908203, 128.97474670410156, 108.43086242675781, 160.3036651611328, 202.3660125732422, 212.17257690429688, 88.07161712646484, 236.8370819091797, 99.22187805175781, 224.97879028320312, 199.9521942138672, 149.5872039794922, 276.58795166015625, 93.40676879882812, 35.49851989746094, 47.39764404296875, 32.511295318603516, 92.68497467041016, 135.0909881591797, 174.61119079589844, 11.126691818237305, 52.730247497558594, 161.03565979003906, 172.31036376953125, 212.72120666503906, 230.89747619628906, 158.52569580078125, 288.7240905761719, 129.8910369873047, 104.87814331054688, 136.5924530029297, 136.15159606933594, 189.78712463378906, 135.45733642578125, 189.0335693359375, 237.82662963867188, 227.805908203125, 129.8212432861328, 207.2557830810547, 208.31507873535156, 209.74562072753906, 172.6942596435547, 287.50701904296875, 134.75999450683594, 26.83188819885254, 44.19957733154297, 70.34378814697266, 212.3527374267578, 13.025601387023926, 200.7853546142578, 182.20350646972656, 272.3838806152344, 96.3004150390625, 135.82606506347656, 112.8294448852539, 152.9130859375, 166.47811889648438, 87.09567260742188, 319.55169677734375, 157.49574279785156, 84.43521881103516, 274.0826721191406, 134.31642150878906, 191.07662963867188, 183.64259338378906, 210.03553771972656, 128.1801300048828, 176.0631866455078, 154.36862182617188, 144.51051330566406, 123.58997344970703, 216.3272247314453, 177.80311584472656, 175.218994140625, 259.8506164550781, 75.23433685302734, 251.38526916503906, 158.0508575439453, 149.20742797851562, 167.93894958496094, 213.07763671875, 108.4990005493164, 188.74546813964844, 179.9524383544922, 149.47705078125, 145.21107482910156, 100.5141372680664, 142.5039825439453, 131.18197631835938, 276.58575439453125, 267.88079833984375, 28.72344398498535, 171.1426239013672, 171.9333038330078, 105.76958465576172, 159.64866638183594, 233.45347595214844, 223.99794006347656, 250.1643829345703, 217.89007568359375, 252.83470153808594, 169.23695373535156, 191.91041564941406, 27.537399291992188, 182.11256408691406, 93.72252655029297, 255.71310424804688, 29.244489669799805, 220.66673278808594, 148.8263702392578, 95.54014587402344, 51.42636489868164, 98.81302642822266, 176.3600311279297, 90.14579010009766, 187.13133239746094, 56.67828369140625, 84.08061981201172, 179.45217895507812, 221.8622283935547, 123.67510223388672, 152.8632354736328, 41.45637512207031, 50.95953369140625, 106.45964813232422, 36.711063385009766, 278.4041748046875, 199.5073699951172, 39.30230712890625]}, {\"marker\": {\"color\": \"red\", \"size\": 12}, \"mode\": \"markers\", \"name\": \"Young's Modulus (Testing)\", \"text\": [\"Zr2InCo2\", \"Zr6Ga2Co\", \"ZrPRu\", \"ZrVP\", \"ZrIN\", \"Zr6CoAs2\", \"ZrCoSn\", \"YZrSb\", \"ZrCoBi\", \"BaZrO3\", \"SrZrO3\", \"ZrNbP\", \"CaZrO3\", \"ZrSiO4\", \"ZrGeSe\", \"ZrGeS\", \"ZrNCl\", \"ZrAlNi\", \"ErZrSb\", \"ZrSiRu\", \"Cs2ZrF6\", \"ZrAsRu\", \"Ba2ZrO4\", \"ZrCdPd2\", \"ZrAlAu2\", \"MgZrPd2\", \"MgZrRh2\", \"MgZrAu2\", \"LuZrRu2\", \"LiZrPt2\", \"LiZr2Tc\", \"ZrGeSb\", \"ZrScOs2\", \"Zr6Al2Fe\", \"Zr6Sb2Pt\", \"Na2Zr(CuS2)2\", \"LiZrAu2\", \"K2Zr(BO3)2\", \"KZrCuSe3\", \"ZrTc2W\", \"ZrCuSiAs\", \"Cs2KZrOF5\"], \"type\": \"scatter\", \"x\": [139.92000000000002, 130.0, 276.48, 267.5, 35.7, 170.18, 170.28, 104.96, 157.48, 228.16, 220.0, 249.48, 214.2, 249.6, 167.28, 189.42, 33.28, 181.76, 92.16, 256.0, 23.58, 220.08, 142.24, 94.52, 43.5, 95.9, 174.20000000000005, 87.68, 184.6, 48.96, 80.03999999999998, 175.2, 217.46, 124.8, 152.22, 42.88, 31.9, 95.46, 42.84, 276.86, 199.08, 30.520000000000003], \"y\": [142.5039825439453, 131.18197631835938, 276.58575439453125, 267.88079833984375, 28.72344398498535, 171.1426239013672, 171.9333038330078, 105.76958465576172, 159.64866638183594, 233.45347595214844, 223.99794006347656, 250.1643829345703, 217.89007568359375, 252.83470153808594, 169.23695373535156, 191.91041564941406, 27.537399291992188, 182.11256408691406, 93.72252655029297, 255.71310424804688, 29.244489669799805, 220.66673278808594, 148.8263702392578, 95.54014587402344, 51.42636489868164, 98.81302642822266, 176.3600311279297, 90.14579010009766, 187.13133239746094, 56.67828369140625, 84.08061981201172, 179.45217895507812, 221.8622283935547, 123.67510223388672, 152.8632354736328, 41.45637512207031, 50.95953369140625, 106.45964813232422, 36.711063385009766, 278.4041748046875, 199.5073699951172, 39.30230712890625]}, {\"mode\": \"lines\", \"name\": \"Match\", \"type\": \"scatter\", \"x\": [0, 600], \"y\": [0, 600]}],\n",
       "                        {\"height\": 600, \"hovermode\": \"closest\", \"legend\": {\"font\": {\"size\": 24}}, \"showlegend\": true, \"template\": {\"data\": {\"bar\": [{\"error_x\": {\"color\": \"#2a3f5f\"}, \"error_y\": {\"color\": \"#2a3f5f\"}, \"marker\": {\"line\": {\"color\": \"#E5ECF6\", \"width\": 0.5}}, \"type\": \"bar\"}], \"barpolar\": [{\"marker\": {\"line\": {\"color\": \"#E5ECF6\", \"width\": 0.5}}, \"type\": \"barpolar\"}], \"carpet\": [{\"aaxis\": {\"endlinecolor\": \"#2a3f5f\", \"gridcolor\": \"white\", \"linecolor\": \"white\", \"minorgridcolor\": \"white\", \"startlinecolor\": \"#2a3f5f\"}, \"baxis\": {\"endlinecolor\": \"#2a3f5f\", \"gridcolor\": \"white\", \"linecolor\": \"white\", \"minorgridcolor\": \"white\", \"startlinecolor\": \"#2a3f5f\"}, \"type\": \"carpet\"}], \"choropleth\": [{\"colorbar\": {\"outlinewidth\": 0, \"ticks\": \"\"}, \"type\": \"choropleth\"}], \"contour\": [{\"colorbar\": {\"outlinewidth\": 0, \"ticks\": \"\"}, \"colorscale\": [[0.0, \"#0d0887\"], [0.1111111111111111, \"#46039f\"], [0.2222222222222222, \"#7201a8\"], [0.3333333333333333, \"#9c179e\"], [0.4444444444444444, \"#bd3786\"], [0.5555555555555556, \"#d8576b\"], [0.6666666666666666, \"#ed7953\"], [0.7777777777777778, \"#fb9f3a\"], [0.8888888888888888, \"#fdca26\"], [1.0, \"#f0f921\"]], \"type\": \"contour\"}], \"contourcarpet\": [{\"colorbar\": {\"outlinewidth\": 0, \"ticks\": \"\"}, \"type\": \"contourcarpet\"}], \"heatmap\": [{\"colorbar\": {\"outlinewidth\": 0, \"ticks\": \"\"}, \"colorscale\": [[0.0, \"#0d0887\"], [0.1111111111111111, \"#46039f\"], [0.2222222222222222, \"#7201a8\"], [0.3333333333333333, \"#9c179e\"], [0.4444444444444444, \"#bd3786\"], [0.5555555555555556, \"#d8576b\"], [0.6666666666666666, \"#ed7953\"], [0.7777777777777778, \"#fb9f3a\"], [0.8888888888888888, \"#fdca26\"], [1.0, \"#f0f921\"]], \"type\": \"heatmap\"}], \"heatmapgl\": [{\"colorbar\": {\"outlinewidth\": 0, \"ticks\": \"\"}, \"colorscale\": [[0.0, \"#0d0887\"], [0.1111111111111111, \"#46039f\"], [0.2222222222222222, \"#7201a8\"], [0.3333333333333333, \"#9c179e\"], [0.4444444444444444, \"#bd3786\"], [0.5555555555555556, \"#d8576b\"], [0.6666666666666666, \"#ed7953\"], [0.7777777777777778, \"#fb9f3a\"], [0.8888888888888888, \"#fdca26\"], [1.0, \"#f0f921\"]], \"type\": \"heatmapgl\"}], \"histogram\": [{\"marker\": {\"colorbar\": {\"outlinewidth\": 0, \"ticks\": \"\"}}, \"type\": \"histogram\"}], \"histogram2d\": [{\"colorbar\": {\"outlinewidth\": 0, \"ticks\": \"\"}, \"colorscale\": [[0.0, \"#0d0887\"], [0.1111111111111111, \"#46039f\"], [0.2222222222222222, \"#7201a8\"], [0.3333333333333333, \"#9c179e\"], [0.4444444444444444, \"#bd3786\"], [0.5555555555555556, \"#d8576b\"], [0.6666666666666666, \"#ed7953\"], [0.7777777777777778, \"#fb9f3a\"], [0.8888888888888888, \"#fdca26\"], [1.0, \"#f0f921\"]], \"type\": \"histogram2d\"}], \"histogram2dcontour\": [{\"colorbar\": {\"outlinewidth\": 0, \"ticks\": \"\"}, \"colorscale\": [[0.0, \"#0d0887\"], [0.1111111111111111, \"#46039f\"], [0.2222222222222222, \"#7201a8\"], [0.3333333333333333, \"#9c179e\"], [0.4444444444444444, \"#bd3786\"], [0.5555555555555556, \"#d8576b\"], [0.6666666666666666, \"#ed7953\"], [0.7777777777777778, \"#fb9f3a\"], [0.8888888888888888, \"#fdca26\"], [1.0, \"#f0f921\"]], \"type\": \"histogram2dcontour\"}], \"mesh3d\": [{\"colorbar\": {\"outlinewidth\": 0, \"ticks\": \"\"}, \"type\": \"mesh3d\"}], \"parcoords\": [{\"line\": {\"colorbar\": {\"outlinewidth\": 0, \"ticks\": \"\"}}, \"type\": \"parcoords\"}], \"pie\": [{\"automargin\": true, \"type\": \"pie\"}], \"scatter\": [{\"marker\": {\"colorbar\": {\"outlinewidth\": 0, \"ticks\": \"\"}}, \"type\": \"scatter\"}], \"scatter3d\": [{\"line\": {\"colorbar\": {\"outlinewidth\": 0, \"ticks\": \"\"}}, \"marker\": {\"colorbar\": {\"outlinewidth\": 0, \"ticks\": \"\"}}, \"type\": \"scatter3d\"}], \"scattercarpet\": [{\"marker\": {\"colorbar\": {\"outlinewidth\": 0, \"ticks\": \"\"}}, \"type\": \"scattercarpet\"}], \"scattergeo\": [{\"marker\": {\"colorbar\": {\"outlinewidth\": 0, \"ticks\": \"\"}}, \"type\": \"scattergeo\"}], \"scattergl\": [{\"marker\": {\"colorbar\": {\"outlinewidth\": 0, \"ticks\": \"\"}}, \"type\": \"scattergl\"}], \"scattermapbox\": [{\"marker\": {\"colorbar\": {\"outlinewidth\": 0, \"ticks\": \"\"}}, \"type\": \"scattermapbox\"}], \"scatterpolar\": [{\"marker\": {\"colorbar\": {\"outlinewidth\": 0, \"ticks\": \"\"}}, \"type\": \"scatterpolar\"}], \"scatterpolargl\": [{\"marker\": {\"colorbar\": {\"outlinewidth\": 0, \"ticks\": \"\"}}, \"type\": \"scatterpolargl\"}], \"scatterternary\": [{\"marker\": {\"colorbar\": {\"outlinewidth\": 0, \"ticks\": \"\"}}, \"type\": \"scatterternary\"}], \"surface\": [{\"colorbar\": {\"outlinewidth\": 0, \"ticks\": \"\"}, \"colorscale\": [[0.0, \"#0d0887\"], [0.1111111111111111, \"#46039f\"], [0.2222222222222222, \"#7201a8\"], [0.3333333333333333, \"#9c179e\"], [0.4444444444444444, \"#bd3786\"], [0.5555555555555556, \"#d8576b\"], [0.6666666666666666, \"#ed7953\"], [0.7777777777777778, \"#fb9f3a\"], [0.8888888888888888, \"#fdca26\"], [1.0, \"#f0f921\"]], \"type\": \"surface\"}], \"table\": [{\"cells\": {\"fill\": {\"color\": \"#EBF0F8\"}, \"line\": {\"color\": \"white\"}}, \"header\": {\"fill\": {\"color\": \"#C8D4E3\"}, \"line\": {\"color\": \"white\"}}, \"type\": \"table\"}]}, \"layout\": {\"annotationdefaults\": {\"arrowcolor\": \"#2a3f5f\", \"arrowhead\": 0, \"arrowwidth\": 1}, \"coloraxis\": {\"colorbar\": {\"outlinewidth\": 0, \"ticks\": \"\"}}, \"colorscale\": {\"diverging\": [[0, \"#8e0152\"], [0.1, \"#c51b7d\"], [0.2, \"#de77ae\"], [0.3, \"#f1b6da\"], [0.4, \"#fde0ef\"], [0.5, \"#f7f7f7\"], [0.6, \"#e6f5d0\"], [0.7, \"#b8e186\"], [0.8, \"#7fbc41\"], [0.9, \"#4d9221\"], [1, \"#276419\"]], \"sequential\": [[0.0, \"#0d0887\"], [0.1111111111111111, \"#46039f\"], [0.2222222222222222, \"#7201a8\"], [0.3333333333333333, \"#9c179e\"], [0.4444444444444444, \"#bd3786\"], [0.5555555555555556, \"#d8576b\"], [0.6666666666666666, \"#ed7953\"], [0.7777777777777778, \"#fb9f3a\"], [0.8888888888888888, \"#fdca26\"], [1.0, \"#f0f921\"]], \"sequentialminus\": [[0.0, \"#0d0887\"], [0.1111111111111111, \"#46039f\"], [0.2222222222222222, \"#7201a8\"], [0.3333333333333333, \"#9c179e\"], [0.4444444444444444, \"#bd3786\"], [0.5555555555555556, \"#d8576b\"], [0.6666666666666666, \"#ed7953\"], [0.7777777777777778, \"#fb9f3a\"], [0.8888888888888888, \"#fdca26\"], [1.0, \"#f0f921\"]]}, \"colorway\": [\"#636efa\", \"#EF553B\", \"#00cc96\", \"#ab63fa\", \"#FFA15A\", \"#19d3f3\", \"#FF6692\", \"#B6E880\", \"#FF97FF\", \"#FECB52\"], \"font\": {\"color\": \"#2a3f5f\"}, \"geo\": {\"bgcolor\": \"white\", \"lakecolor\": \"white\", \"landcolor\": \"#E5ECF6\", \"showlakes\": true, \"showland\": true, \"subunitcolor\": \"white\"}, \"hoverlabel\": {\"align\": \"left\"}, \"hovermode\": \"closest\", \"mapbox\": {\"style\": \"light\"}, \"paper_bgcolor\": \"white\", \"plot_bgcolor\": \"#E5ECF6\", \"polar\": {\"angularaxis\": {\"gridcolor\": \"white\", \"linecolor\": \"white\", \"ticks\": \"\"}, \"bgcolor\": \"#E5ECF6\", \"radialaxis\": {\"gridcolor\": \"white\", \"linecolor\": \"white\", \"ticks\": \"\"}}, \"scene\": {\"xaxis\": {\"backgroundcolor\": \"#E5ECF6\", \"gridcolor\": \"white\", \"gridwidth\": 2, \"linecolor\": \"white\", \"showbackground\": true, \"ticks\": \"\", \"zerolinecolor\": \"white\"}, \"yaxis\": {\"backgroundcolor\": \"#E5ECF6\", \"gridcolor\": \"white\", \"gridwidth\": 2, \"linecolor\": \"white\", \"showbackground\": true, \"ticks\": \"\", \"zerolinecolor\": \"white\"}, \"zaxis\": {\"backgroundcolor\": \"#E5ECF6\", \"gridcolor\": \"white\", \"gridwidth\": 2, \"linecolor\": \"white\", \"showbackground\": true, \"ticks\": \"\", \"zerolinecolor\": \"white\"}}, \"shapedefaults\": {\"line\": {\"color\": \"#2a3f5f\"}}, \"ternary\": {\"aaxis\": {\"gridcolor\": \"white\", \"linecolor\": \"white\", \"ticks\": \"\"}, \"baxis\": {\"gridcolor\": \"white\", \"linecolor\": \"white\", \"ticks\": \"\"}, \"bgcolor\": \"#E5ECF6\", \"caxis\": {\"gridcolor\": \"white\", \"linecolor\": \"white\", \"ticks\": \"\"}}, \"title\": {\"x\": 0.05}, \"xaxis\": {\"automargin\": true, \"gridcolor\": \"white\", \"linecolor\": \"white\", \"ticks\": \"\", \"title\": {\"standoff\": 15}, \"zerolinecolor\": \"white\", \"zerolinewidth\": 2}, \"yaxis\": {\"automargin\": true, \"gridcolor\": \"white\", \"linecolor\": \"white\", \"ticks\": \"\", \"title\": {\"standoff\": 15}, \"zerolinecolor\": \"white\", \"zerolinewidth\": 2}}}, \"title\": {\"font\": {\"size\": 28}, \"text\": \"Neural Network Model - Zr compounds Young's Modulus\"}, \"width\": 1000, \"xaxis\": {\"gridwidth\": 1, \"tickfont\": {\"size\": 18}, \"title\": {\"font\": {\"size\": 24}, \"text\": \"Real Values (GPa)\"}, \"zeroline\": false}, \"yaxis\": {\"gridwidth\": 1, \"tickfont\": {\"size\": 18}, \"title\": {\"font\": {\"size\": 24}, \"text\": \"Prediction (GPa)\"}, \"zeroline\": false}},\n",
       "                        {\"responsive\": true}\n",
       "                    ).then(function(){\n",
       "                            \n",
       "var gd = document.getElementById('de01d1ac-69bb-49b8-99c5-33dc1e92e444');\n",
       "var x = new MutationObserver(function (mutations, observer) {{\n",
       "        var display = window.getComputedStyle(gd).display;\n",
       "        if (!display || display === 'none') {{\n",
       "            console.log([gd, 'removed!']);\n",
       "            Plotly.purge(gd);\n",
       "            observer.disconnect();\n",
       "        }}\n",
       "}});\n",
       "\n",
       "// Listen for the removal of the full notebook cells\n",
       "var notebookContainer = gd.closest('#notebook-container');\n",
       "if (notebookContainer) {{\n",
       "    x.observe(notebookContainer, {childList: true});\n",
       "}}\n",
       "\n",
       "// Listen for the clearing of the current output cell\n",
       "var outputEl = gd.closest('.output');\n",
       "if (outputEl) {{\n",
       "    x.observe(outputEl, {childList: true});\n",
       "}}\n",
       "\n",
       "                        })\n",
       "                };\n",
       "                });\n",
       "            </script>\n",
       "        </div>"
      ]
     },
     "metadata": {},
     "output_type": "display_data"
    }
   ],
   "source": [
    "import plotly\n",
    "import plotly.graph_objs as go\n",
    "from plotly.offline import iplot\n",
    "\n",
    "plotly.offline.init_notebook_mode(connected=True)\n",
    "\n",
    "layout0= go.Layout(title=go.layout.Title(text=\"Neural Network Model - Zr compounds Young's Modulus\", font=dict(size=28)), hovermode= 'closest', width = 1000, height=600, showlegend=True,  # Hovermode establishes the way the labels that appear when you hover are arranged # Establishing a square plot width=height\n",
    "    xaxis= dict(title=go.layout.xaxis.Title(text='Real Values (GPa)', font=dict(size=24)), zeroline= False, gridwidth= 1, tickfont=dict(size=18)), # Axis Titles. Removing the X-axis Mark. Adding a Grid\n",
    "    yaxis= dict(title=go.layout.yaxis.Title(text='Prediction (GPa)', font=dict(size=24)), zeroline= False, gridwidth= 1, tickfont=dict(size=18)), # Axis Titles. Removing the Y-axis Mark. Adding a Grid\n",
    "    legend=dict(font=dict(size=24))) # Adding a legend\n",
    "\n",
    "trace0 = go.Scatter(x = all_labels, y = predictions, mode = 'markers', marker= dict(size= 12, color= 'blue'), text= elements, name = 'Young\\'s Modulus (Training)')\n",
    "trace1 = go.Scatter(x = test_labels, y = test_predictions, mode = 'markers', marker= dict(size= 12, color= 'red'), text = labeled_elements, name = 'Young\\'s Modulus (Testing)')\n",
    "trace2 = go.Scatter(x = [0,600], y = [0,600], mode = 'lines', name = \"Match\") # This trace is the line X = Y which would indicate that the Prediction equals the real value\n",
    "\n",
    "data = [trace0, trace1, trace2]\n",
    "fig= go.Figure(data, layout=layout0)\n",
    "iplot(fig)"
   ]
  },
  {
   "cell_type": "code",
   "execution_count": 13,
   "metadata": {},
   "outputs": [
    {
     "name": "stdout",
     "output_type": "stream",
     "text": [
      "242/242 - 0s - loss: 6.3841e-06 - mean_absolute_error: 6.3841e-06\n",
      "Loss: 6.3841007920191335e-06, Accuracy: 6.38410074316198e-06\n"
     ]
    }
   ],
   "source": [
    "model_loss, model_accuracy = model.evaluate(values, predictions,verbose=2)\n",
    "print(f\"Loss: {model_loss}, Accuracy: {model_accuracy}\")"
   ]
  },
  {
   "cell_type": "code",
   "execution_count": null,
   "metadata": {},
   "outputs": [],
   "source": []
  }
 ],
 "metadata": {
  "kernelspec": {
   "display_name": "PythonData",
   "language": "python",
   "name": "pythondata"
  },
  "language_info": {
   "codemirror_mode": {
    "name": "ipython",
    "version": 3
   },
   "file_extension": ".py",
   "mimetype": "text/x-python",
   "name": "python",
   "nbconvert_exporter": "python",
   "pygments_lexer": "ipython3",
   "version": "3.7.7"
  }
 },
 "nbformat": 4,
 "nbformat_minor": 2
}
