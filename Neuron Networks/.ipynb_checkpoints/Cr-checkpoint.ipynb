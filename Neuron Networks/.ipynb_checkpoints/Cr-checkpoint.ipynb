{
 "cells": [
  {
   "cell_type": "markdown",
   "metadata": {},
   "source": [
    "### 1. Getting a dataset\n",
    "\n",
    "We have 12 datasets to explore in this notebook to predict the Young's Modulus with a three-layer neuron networks model with 2000 epochs. "
   ]
  },
  {
   "cell_type": "code",
   "execution_count": 1,
   "metadata": {},
   "outputs": [
    {
     "name": "stderr",
     "output_type": "stream",
     "text": [
      "C:\\Users\\Kayla Yano\\anaconda3\\envs\\PythonData\\lib\\site-packages\\tensorflow\\python\\framework\\dtypes.py:516: FutureWarning: Passing (type, 1) or '1type' as a synonym of type is deprecated; in a future version of numpy, it will be understood as (type, (1,)) / '(1,)type'.\n",
      "  _np_qint8 = np.dtype([(\"qint8\", np.int8, 1)])\n",
      "C:\\Users\\Kayla Yano\\anaconda3\\envs\\PythonData\\lib\\site-packages\\tensorflow\\python\\framework\\dtypes.py:517: FutureWarning: Passing (type, 1) or '1type' as a synonym of type is deprecated; in a future version of numpy, it will be understood as (type, (1,)) / '(1,)type'.\n",
      "  _np_quint8 = np.dtype([(\"quint8\", np.uint8, 1)])\n",
      "C:\\Users\\Kayla Yano\\anaconda3\\envs\\PythonData\\lib\\site-packages\\tensorflow\\python\\framework\\dtypes.py:518: FutureWarning: Passing (type, 1) or '1type' as a synonym of type is deprecated; in a future version of numpy, it will be understood as (type, (1,)) / '(1,)type'.\n",
      "  _np_qint16 = np.dtype([(\"qint16\", np.int16, 1)])\n",
      "C:\\Users\\Kayla Yano\\anaconda3\\envs\\PythonData\\lib\\site-packages\\tensorflow\\python\\framework\\dtypes.py:519: FutureWarning: Passing (type, 1) or '1type' as a synonym of type is deprecated; in a future version of numpy, it will be understood as (type, (1,)) / '(1,)type'.\n",
      "  _np_quint16 = np.dtype([(\"quint16\", np.uint16, 1)])\n",
      "C:\\Users\\Kayla Yano\\anaconda3\\envs\\PythonData\\lib\\site-packages\\tensorflow\\python\\framework\\dtypes.py:520: FutureWarning: Passing (type, 1) or '1type' as a synonym of type is deprecated; in a future version of numpy, it will be understood as (type, (1,)) / '(1,)type'.\n",
      "  _np_qint32 = np.dtype([(\"qint32\", np.int32, 1)])\n",
      "C:\\Users\\Kayla Yano\\anaconda3\\envs\\PythonData\\lib\\site-packages\\tensorflow\\python\\framework\\dtypes.py:525: FutureWarning: Passing (type, 1) or '1type' as a synonym of type is deprecated; in a future version of numpy, it will be understood as (type, (1,)) / '(1,)type'.\n",
      "  np_resource = np.dtype([(\"resource\", np.ubyte, 1)])\n",
      "C:\\Users\\Kayla Yano\\anaconda3\\envs\\PythonData\\lib\\site-packages\\tensorboard\\compat\\tensorflow_stub\\dtypes.py:541: FutureWarning: Passing (type, 1) or '1type' as a synonym of type is deprecated; in a future version of numpy, it will be understood as (type, (1,)) / '(1,)type'.\n",
      "  _np_qint8 = np.dtype([(\"qint8\", np.int8, 1)])\n",
      "C:\\Users\\Kayla Yano\\anaconda3\\envs\\PythonData\\lib\\site-packages\\tensorboard\\compat\\tensorflow_stub\\dtypes.py:542: FutureWarning: Passing (type, 1) or '1type' as a synonym of type is deprecated; in a future version of numpy, it will be understood as (type, (1,)) / '(1,)type'.\n",
      "  _np_quint8 = np.dtype([(\"quint8\", np.uint8, 1)])\n",
      "C:\\Users\\Kayla Yano\\anaconda3\\envs\\PythonData\\lib\\site-packages\\tensorboard\\compat\\tensorflow_stub\\dtypes.py:543: FutureWarning: Passing (type, 1) or '1type' as a synonym of type is deprecated; in a future version of numpy, it will be understood as (type, (1,)) / '(1,)type'.\n",
      "  _np_qint16 = np.dtype([(\"qint16\", np.int16, 1)])\n",
      "C:\\Users\\Kayla Yano\\anaconda3\\envs\\PythonData\\lib\\site-packages\\tensorboard\\compat\\tensorflow_stub\\dtypes.py:544: FutureWarning: Passing (type, 1) or '1type' as a synonym of type is deprecated; in a future version of numpy, it will be understood as (type, (1,)) / '(1,)type'.\n",
      "  _np_quint16 = np.dtype([(\"quint16\", np.uint16, 1)])\n",
      "C:\\Users\\Kayla Yano\\anaconda3\\envs\\PythonData\\lib\\site-packages\\tensorboard\\compat\\tensorflow_stub\\dtypes.py:545: FutureWarning: Passing (type, 1) or '1type' as a synonym of type is deprecated; in a future version of numpy, it will be understood as (type, (1,)) / '(1,)type'.\n",
      "  _np_qint32 = np.dtype([(\"qint32\", np.int32, 1)])\n",
      "C:\\Users\\Kayla Yano\\anaconda3\\envs\\PythonData\\lib\\site-packages\\tensorboard\\compat\\tensorflow_stub\\dtypes.py:550: FutureWarning: Passing (type, 1) or '1type' as a synonym of type is deprecated; in a future version of numpy, it will be understood as (type, (1,)) / '(1,)type'.\n",
      "  np_resource = np.dtype([(\"resource\", np.ubyte, 1)])\n"
     ]
    }
   ],
   "source": [
    "import pymatgen as pymat\n",
    "import mendeleev as mendel\n",
    "import pandas as pd\n",
    "import numpy as np\n",
    "from pathlib import Path\n",
    "import tensorflow as tf\n",
    "import tensorflow.keras\n",
    "from tensorflow.keras import initializers\n",
    "from tensorflow.keras.layers import Dense\n",
    "from tensorflow.keras.models import Sequential\n",
    "from tensorflow.keras import optimizers\n",
    "\n",
    "import sys\n",
    "import os\n",
    "sys.path.insert(0, '../src/')\n",
    "\n",
    "%matplotlib inline\n",
    "import matplotlib.pyplot as plt"
   ]
  },
  {
   "cell_type": "code",
   "execution_count": 2,
   "metadata": {
    "scrolled": true
   },
   "outputs": [
    {
     "data": {
      "text/html": [
       "<div>\n",
       "<style scoped>\n",
       "    .dataframe tbody tr th:only-of-type {\n",
       "        vertical-align: middle;\n",
       "    }\n",
       "\n",
       "    .dataframe tbody tr th {\n",
       "        vertical-align: top;\n",
       "    }\n",
       "\n",
       "    .dataframe thead th {\n",
       "        text-align: right;\n",
       "    }\n",
       "</style>\n",
       "<table border=\"1\" class=\"dataframe\">\n",
       "  <thead>\n",
       "    <tr style=\"text-align: right;\">\n",
       "      <th></th>\n",
       "      <th>Unnamed: 0</th>\n",
       "      <th>mp_id</th>\n",
       "      <th>Formula</th>\n",
       "      <th>Composition</th>\n",
       "      <th>IPF</th>\n",
       "      <th>Density</th>\n",
       "      <th>Elastic_Tensor</th>\n",
       "      <th>E_above_Hull</th>\n",
       "      <th>G_VRH</th>\n",
       "      <th>K_VRH</th>\n",
       "      <th>Elastic_Anisotropy</th>\n",
       "      <th>poisson_ratio</th>\n",
       "      <th>Y_Modulus</th>\n",
       "    </tr>\n",
       "  </thead>\n",
       "  <tbody>\n",
       "    <tr>\n",
       "      <th>0</th>\n",
       "      <td>0</td>\n",
       "      <td>mp-1007923</td>\n",
       "      <td>CrNi3</td>\n",
       "      <td>{'Cr': 1.0, 'Ni': 3.0}</td>\n",
       "      <td>0.195062</td>\n",
       "      <td>8.618942</td>\n",
       "      <td>{'G_Reuss': 97.0, 'G_VRH': 105.0, 'G_Voigt': 1...</td>\n",
       "      <td>0.269450</td>\n",
       "      <td>105.0</td>\n",
       "      <td>222.0</td>\n",
       "      <td>0.82</td>\n",
       "      <td>0.29</td>\n",
       "      <td>270.90</td>\n",
       "    </tr>\n",
       "    <tr>\n",
       "      <th>1</th>\n",
       "      <td>1</td>\n",
       "      <td>mp-12083</td>\n",
       "      <td>CrIr3</td>\n",
       "      <td>{'Cr': 1.0, 'Ir': 3.0}</td>\n",
       "      <td>0.162656</td>\n",
       "      <td>18.648439</td>\n",
       "      <td>{'G_Reuss': 208.0, 'G_VRH': 214.0, 'G_Voigt': ...</td>\n",
       "      <td>0.000000</td>\n",
       "      <td>214.0</td>\n",
       "      <td>307.0</td>\n",
       "      <td>0.28</td>\n",
       "      <td>0.22</td>\n",
       "      <td>522.16</td>\n",
       "    </tr>\n",
       "    <tr>\n",
       "      <th>2</th>\n",
       "      <td>2</td>\n",
       "      <td>mp-12585</td>\n",
       "      <td>CrRh3</td>\n",
       "      <td>{'Cr': 1.0, 'Rh': 3.0}</td>\n",
       "      <td>0.157080</td>\n",
       "      <td>10.845463</td>\n",
       "      <td>{'G_Reuss': 146.0, 'G_VRH': 151.0, 'G_Voigt': ...</td>\n",
       "      <td>0.000000</td>\n",
       "      <td>151.0</td>\n",
       "      <td>230.0</td>\n",
       "      <td>0.38</td>\n",
       "      <td>0.23</td>\n",
       "      <td>371.46</td>\n",
       "    </tr>\n",
       "    <tr>\n",
       "      <th>3</th>\n",
       "      <td>3</td>\n",
       "      <td>mp-1425</td>\n",
       "      <td>TiCr2</td>\n",
       "      <td>{'Ti': 1.0, 'Cr': 2.0}</td>\n",
       "      <td>0.236119</td>\n",
       "      <td>6.237410</td>\n",
       "      <td>{'G_Reuss': 75.0, 'G_VRH': 75.0, 'G_Voigt': 75...</td>\n",
       "      <td>0.076833</td>\n",
       "      <td>75.0</td>\n",
       "      <td>199.0</td>\n",
       "      <td>0.03</td>\n",
       "      <td>0.33</td>\n",
       "      <td>199.50</td>\n",
       "    </tr>\n",
       "    <tr>\n",
       "      <th>4</th>\n",
       "      <td>4</td>\n",
       "      <td>mp-15617</td>\n",
       "      <td>Cr5B3</td>\n",
       "      <td>{'Cr': 5.0, 'B': 3.0}</td>\n",
       "      <td>0.247747</td>\n",
       "      <td>6.587366</td>\n",
       "      <td>{'G_Reuss': 195.0, 'G_VRH': 196.0, 'G_Voigt': ...</td>\n",
       "      <td>0.000000</td>\n",
       "      <td>196.0</td>\n",
       "      <td>291.0</td>\n",
       "      <td>0.03</td>\n",
       "      <td>0.23</td>\n",
       "      <td>482.16</td>\n",
       "    </tr>\n",
       "    <tr>\n",
       "      <th>...</th>\n",
       "      <td>...</td>\n",
       "      <td>...</td>\n",
       "      <td>...</td>\n",
       "      <td>...</td>\n",
       "      <td>...</td>\n",
       "      <td>...</td>\n",
       "      <td>...</td>\n",
       "      <td>...</td>\n",
       "      <td>...</td>\n",
       "      <td>...</td>\n",
       "      <td>...</td>\n",
       "      <td>...</td>\n",
       "      <td>...</td>\n",
       "    </tr>\n",
       "    <tr>\n",
       "      <th>89</th>\n",
       "      <td>89</td>\n",
       "      <td>mp-554252</td>\n",
       "      <td>K2NaCrF6</td>\n",
       "      <td>{'K': 2.0, 'Na': 1.0, 'Cr': 1.0, 'F': 6.0}</td>\n",
       "      <td>0.321992</td>\n",
       "      <td>2.961003</td>\n",
       "      <td>{'G_Reuss': 35.0, 'G_VRH': 35.0, 'G_Voigt': 35...</td>\n",
       "      <td>0.000000</td>\n",
       "      <td>35.0</td>\n",
       "      <td>79.0</td>\n",
       "      <td>0.00</td>\n",
       "      <td>0.31</td>\n",
       "      <td>91.70</td>\n",
       "    </tr>\n",
       "    <tr>\n",
       "      <th>90</th>\n",
       "      <td>90</td>\n",
       "      <td>mp-1024999</td>\n",
       "      <td>HoCr2Si2C</td>\n",
       "      <td>{'Ho': 1.0, 'Cr': 2.0, 'Si': 2.0, 'C': 1.0}</td>\n",
       "      <td>0.160212</td>\n",
       "      <td>6.837675</td>\n",
       "      <td>{'G_Reuss': 110.0, 'G_VRH': 111.0, 'G_Voigt': ...</td>\n",
       "      <td>0.000000</td>\n",
       "      <td>111.0</td>\n",
       "      <td>160.0</td>\n",
       "      <td>0.16</td>\n",
       "      <td>0.22</td>\n",
       "      <td>270.84</td>\n",
       "    </tr>\n",
       "    <tr>\n",
       "      <th>91</th>\n",
       "      <td>91</td>\n",
       "      <td>mp-31624</td>\n",
       "      <td>Sr2TaCrO6</td>\n",
       "      <td>{'Sr': 2.0, 'Ta': 1.0, 'Cr': 1.0, 'O': 6.0}</td>\n",
       "      <td>0.589968</td>\n",
       "      <td>6.556700</td>\n",
       "      <td>{'G_Reuss': 107.0, 'G_VRH': 107.0, 'G_Voigt': ...</td>\n",
       "      <td>0.000000</td>\n",
       "      <td>107.0</td>\n",
       "      <td>187.0</td>\n",
       "      <td>0.02</td>\n",
       "      <td>0.26</td>\n",
       "      <td>269.64</td>\n",
       "    </tr>\n",
       "    <tr>\n",
       "      <th>92</th>\n",
       "      <td>92</td>\n",
       "      <td>mp-556264</td>\n",
       "      <td>KRb2CrF6</td>\n",
       "      <td>{'K': 1.0, 'Rb': 2.0, 'Cr': 1.0, 'F': 6.0}</td>\n",
       "      <td>0.358013</td>\n",
       "      <td>3.422393</td>\n",
       "      <td>{'G_Reuss': 25.0, 'G_VRH': 27.0, 'G_Voigt': 28...</td>\n",
       "      <td>0.343295</td>\n",
       "      <td>27.0</td>\n",
       "      <td>36.0</td>\n",
       "      <td>0.48</td>\n",
       "      <td>0.21</td>\n",
       "      <td>65.34</td>\n",
       "    </tr>\n",
       "    <tr>\n",
       "      <th>93</th>\n",
       "      <td>93</td>\n",
       "      <td>mp-560936</td>\n",
       "      <td>Rb2NaCrF6</td>\n",
       "      <td>{'Rb': 2.0, 'Na': 1.0, 'Cr': 1.0, 'F': 6.0}</td>\n",
       "      <td>0.360392</td>\n",
       "      <td>3.769108</td>\n",
       "      <td>{'G_Reuss': 26.0, 'G_VRH': 27.0, 'G_Voigt': 27...</td>\n",
       "      <td>0.000000</td>\n",
       "      <td>27.0</td>\n",
       "      <td>36.0</td>\n",
       "      <td>0.17</td>\n",
       "      <td>0.20</td>\n",
       "      <td>64.80</td>\n",
       "    </tr>\n",
       "  </tbody>\n",
       "</table>\n",
       "<p>94 rows × 13 columns</p>\n",
       "</div>"
      ],
      "text/plain": [
       "    Unnamed: 0       mp_id    Formula  \\\n",
       "0            0  mp-1007923      CrNi3   \n",
       "1            1    mp-12083      CrIr3   \n",
       "2            2    mp-12585      CrRh3   \n",
       "3            3     mp-1425      TiCr2   \n",
       "4            4    mp-15617      Cr5B3   \n",
       "..         ...         ...        ...   \n",
       "89          89   mp-554252   K2NaCrF6   \n",
       "90          90  mp-1024999  HoCr2Si2C   \n",
       "91          91    mp-31624  Sr2TaCrO6   \n",
       "92          92   mp-556264   KRb2CrF6   \n",
       "93          93   mp-560936  Rb2NaCrF6   \n",
       "\n",
       "                                    Composition       IPF    Density  \\\n",
       "0                        {'Cr': 1.0, 'Ni': 3.0}  0.195062   8.618942   \n",
       "1                        {'Cr': 1.0, 'Ir': 3.0}  0.162656  18.648439   \n",
       "2                        {'Cr': 1.0, 'Rh': 3.0}  0.157080  10.845463   \n",
       "3                        {'Ti': 1.0, 'Cr': 2.0}  0.236119   6.237410   \n",
       "4                         {'Cr': 5.0, 'B': 3.0}  0.247747   6.587366   \n",
       "..                                          ...       ...        ...   \n",
       "89   {'K': 2.0, 'Na': 1.0, 'Cr': 1.0, 'F': 6.0}  0.321992   2.961003   \n",
       "90  {'Ho': 1.0, 'Cr': 2.0, 'Si': 2.0, 'C': 1.0}  0.160212   6.837675   \n",
       "91  {'Sr': 2.0, 'Ta': 1.0, 'Cr': 1.0, 'O': 6.0}  0.589968   6.556700   \n",
       "92   {'K': 1.0, 'Rb': 2.0, 'Cr': 1.0, 'F': 6.0}  0.358013   3.422393   \n",
       "93  {'Rb': 2.0, 'Na': 1.0, 'Cr': 1.0, 'F': 6.0}  0.360392   3.769108   \n",
       "\n",
       "                                       Elastic_Tensor  E_above_Hull  G_VRH  \\\n",
       "0   {'G_Reuss': 97.0, 'G_VRH': 105.0, 'G_Voigt': 1...      0.269450  105.0   \n",
       "1   {'G_Reuss': 208.0, 'G_VRH': 214.0, 'G_Voigt': ...      0.000000  214.0   \n",
       "2   {'G_Reuss': 146.0, 'G_VRH': 151.0, 'G_Voigt': ...      0.000000  151.0   \n",
       "3   {'G_Reuss': 75.0, 'G_VRH': 75.0, 'G_Voigt': 75...      0.076833   75.0   \n",
       "4   {'G_Reuss': 195.0, 'G_VRH': 196.0, 'G_Voigt': ...      0.000000  196.0   \n",
       "..                                                ...           ...    ...   \n",
       "89  {'G_Reuss': 35.0, 'G_VRH': 35.0, 'G_Voigt': 35...      0.000000   35.0   \n",
       "90  {'G_Reuss': 110.0, 'G_VRH': 111.0, 'G_Voigt': ...      0.000000  111.0   \n",
       "91  {'G_Reuss': 107.0, 'G_VRH': 107.0, 'G_Voigt': ...      0.000000  107.0   \n",
       "92  {'G_Reuss': 25.0, 'G_VRH': 27.0, 'G_Voigt': 28...      0.343295   27.0   \n",
       "93  {'G_Reuss': 26.0, 'G_VRH': 27.0, 'G_Voigt': 27...      0.000000   27.0   \n",
       "\n",
       "    K_VRH  Elastic_Anisotropy  poisson_ratio  Y_Modulus  \n",
       "0   222.0                0.82           0.29     270.90  \n",
       "1   307.0                0.28           0.22     522.16  \n",
       "2   230.0                0.38           0.23     371.46  \n",
       "3   199.0                0.03           0.33     199.50  \n",
       "4   291.0                0.03           0.23     482.16  \n",
       "..    ...                 ...            ...        ...  \n",
       "89   79.0                0.00           0.31      91.70  \n",
       "90  160.0                0.16           0.22     270.84  \n",
       "91  187.0                0.02           0.26     269.64  \n",
       "92   36.0                0.48           0.21      65.34  \n",
       "93   36.0                0.17           0.20      64.80  \n",
       "\n",
       "[94 rows x 13 columns]"
      ]
     },
     "execution_count": 2,
     "metadata": {},
     "output_type": "execute_result"
    }
   ],
   "source": [
    "# df = pd.read_csv(Path('../All Data Export/Ti_compounds_dataframe.csv'))\n",
    "# df = pd.read_csv(Path('../All Data Export/C_compounds_dataframe.csv'))\n",
    "df = pd.read_csv(Path('../All Data Export/Cr_compounds_dataframe.csv'))\n",
    "# df = pd.read_csv(Path('../All Data Export/Fe_compounds_dataframe.csv'))\n",
    "# df = pd.read_csv(Path('../All Data Export/Hf_compounds_dataframe.csv'))\n",
    "# df = pd.read_csv(Path('../All Data Export/Mo_compounds_dataframe.csv'))\n",
    "# df = pd.read_csv(Path('../All Data Export/Nb_compounds_dataframe.csv'))\n",
    "# df = pd.read_csv(Path('../All Data Export/Ni_compounds_dataframe.csv'))\n",
    "# df = pd.read_csv(Path('../All Data Export/V_compounds_dataframe.csv'))\n",
    "# df = pd.read_csv(Path('../All Data Export/W_compounds_dataframe.csv'))\n",
    "# df = pd.read_csv(Path('../All Data Export/Zr_compounds_dataframe.csv'))\n",
    "# df = pd.read_csv(Path('../All Data Export/Ta_compounds_dataframe.csv'))\n",
    "df"
   ]
  },
  {
   "cell_type": "code",
   "execution_count": 3,
   "metadata": {},
   "outputs": [
    {
     "data": {
      "text/plain": [
       "Index(['Unnamed: 0', 'mp_id', 'Formula', 'Composition', 'IPF', 'Density',\n",
       "       'Elastic_Tensor', 'E_above_Hull', 'G_VRH', 'K_VRH',\n",
       "       'Elastic_Anisotropy', 'poisson_ratio', 'Y_Modulus'],\n",
       "      dtype='object')"
      ]
     },
     "execution_count": 3,
     "metadata": {},
     "output_type": "execute_result"
    }
   ],
   "source": [
    "df.columns"
   ]
  },
  {
   "cell_type": "code",
   "execution_count": 4,
   "metadata": {},
   "outputs": [
    {
     "data": {
      "text/html": [
       "<div>\n",
       "<style scoped>\n",
       "    .dataframe tbody tr th:only-of-type {\n",
       "        vertical-align: middle;\n",
       "    }\n",
       "\n",
       "    .dataframe tbody tr th {\n",
       "        vertical-align: top;\n",
       "    }\n",
       "\n",
       "    .dataframe thead th {\n",
       "        text-align: right;\n",
       "    }\n",
       "</style>\n",
       "<table border=\"1\" class=\"dataframe\">\n",
       "  <thead>\n",
       "    <tr style=\"text-align: right;\">\n",
       "      <th></th>\n",
       "      <th>IPF</th>\n",
       "      <th>Density</th>\n",
       "      <th>E_above_Hull</th>\n",
       "      <th>G_VRH</th>\n",
       "      <th>K_VRH</th>\n",
       "      <th>Elastic_Anisotropy</th>\n",
       "      <th>poisson_ratio</th>\n",
       "      <th>Y_Modulus</th>\n",
       "    </tr>\n",
       "  </thead>\n",
       "  <tbody>\n",
       "    <tr>\n",
       "      <th>0</th>\n",
       "      <td>0.195062</td>\n",
       "      <td>8.618942</td>\n",
       "      <td>0.269450</td>\n",
       "      <td>105.0</td>\n",
       "      <td>222.0</td>\n",
       "      <td>0.82</td>\n",
       "      <td>0.29</td>\n",
       "      <td>270.90</td>\n",
       "    </tr>\n",
       "    <tr>\n",
       "      <th>1</th>\n",
       "      <td>0.162656</td>\n",
       "      <td>18.648439</td>\n",
       "      <td>0.000000</td>\n",
       "      <td>214.0</td>\n",
       "      <td>307.0</td>\n",
       "      <td>0.28</td>\n",
       "      <td>0.22</td>\n",
       "      <td>522.16</td>\n",
       "    </tr>\n",
       "    <tr>\n",
       "      <th>2</th>\n",
       "      <td>0.157080</td>\n",
       "      <td>10.845463</td>\n",
       "      <td>0.000000</td>\n",
       "      <td>151.0</td>\n",
       "      <td>230.0</td>\n",
       "      <td>0.38</td>\n",
       "      <td>0.23</td>\n",
       "      <td>371.46</td>\n",
       "    </tr>\n",
       "    <tr>\n",
       "      <th>3</th>\n",
       "      <td>0.236119</td>\n",
       "      <td>6.237410</td>\n",
       "      <td>0.076833</td>\n",
       "      <td>75.0</td>\n",
       "      <td>199.0</td>\n",
       "      <td>0.03</td>\n",
       "      <td>0.33</td>\n",
       "      <td>199.50</td>\n",
       "    </tr>\n",
       "    <tr>\n",
       "      <th>4</th>\n",
       "      <td>0.247747</td>\n",
       "      <td>6.587366</td>\n",
       "      <td>0.000000</td>\n",
       "      <td>196.0</td>\n",
       "      <td>291.0</td>\n",
       "      <td>0.03</td>\n",
       "      <td>0.23</td>\n",
       "      <td>482.16</td>\n",
       "    </tr>\n",
       "    <tr>\n",
       "      <th>...</th>\n",
       "      <td>...</td>\n",
       "      <td>...</td>\n",
       "      <td>...</td>\n",
       "      <td>...</td>\n",
       "      <td>...</td>\n",
       "      <td>...</td>\n",
       "      <td>...</td>\n",
       "      <td>...</td>\n",
       "    </tr>\n",
       "    <tr>\n",
       "      <th>89</th>\n",
       "      <td>0.321992</td>\n",
       "      <td>2.961003</td>\n",
       "      <td>0.000000</td>\n",
       "      <td>35.0</td>\n",
       "      <td>79.0</td>\n",
       "      <td>0.00</td>\n",
       "      <td>0.31</td>\n",
       "      <td>91.70</td>\n",
       "    </tr>\n",
       "    <tr>\n",
       "      <th>90</th>\n",
       "      <td>0.160212</td>\n",
       "      <td>6.837675</td>\n",
       "      <td>0.000000</td>\n",
       "      <td>111.0</td>\n",
       "      <td>160.0</td>\n",
       "      <td>0.16</td>\n",
       "      <td>0.22</td>\n",
       "      <td>270.84</td>\n",
       "    </tr>\n",
       "    <tr>\n",
       "      <th>91</th>\n",
       "      <td>0.589968</td>\n",
       "      <td>6.556700</td>\n",
       "      <td>0.000000</td>\n",
       "      <td>107.0</td>\n",
       "      <td>187.0</td>\n",
       "      <td>0.02</td>\n",
       "      <td>0.26</td>\n",
       "      <td>269.64</td>\n",
       "    </tr>\n",
       "    <tr>\n",
       "      <th>92</th>\n",
       "      <td>0.358013</td>\n",
       "      <td>3.422393</td>\n",
       "      <td>0.343295</td>\n",
       "      <td>27.0</td>\n",
       "      <td>36.0</td>\n",
       "      <td>0.48</td>\n",
       "      <td>0.21</td>\n",
       "      <td>65.34</td>\n",
       "    </tr>\n",
       "    <tr>\n",
       "      <th>93</th>\n",
       "      <td>0.360392</td>\n",
       "      <td>3.769108</td>\n",
       "      <td>0.000000</td>\n",
       "      <td>27.0</td>\n",
       "      <td>36.0</td>\n",
       "      <td>0.17</td>\n",
       "      <td>0.20</td>\n",
       "      <td>64.80</td>\n",
       "    </tr>\n",
       "  </tbody>\n",
       "</table>\n",
       "<p>94 rows × 8 columns</p>\n",
       "</div>"
      ],
      "text/plain": [
       "         IPF    Density  E_above_Hull  G_VRH  K_VRH  Elastic_Anisotropy  \\\n",
       "0   0.195062   8.618942      0.269450  105.0  222.0                0.82   \n",
       "1   0.162656  18.648439      0.000000  214.0  307.0                0.28   \n",
       "2   0.157080  10.845463      0.000000  151.0  230.0                0.38   \n",
       "3   0.236119   6.237410      0.076833   75.0  199.0                0.03   \n",
       "4   0.247747   6.587366      0.000000  196.0  291.0                0.03   \n",
       "..       ...        ...           ...    ...    ...                 ...   \n",
       "89  0.321992   2.961003      0.000000   35.0   79.0                0.00   \n",
       "90  0.160212   6.837675      0.000000  111.0  160.0                0.16   \n",
       "91  0.589968   6.556700      0.000000  107.0  187.0                0.02   \n",
       "92  0.358013   3.422393      0.343295   27.0   36.0                0.48   \n",
       "93  0.360392   3.769108      0.000000   27.0   36.0                0.17   \n",
       "\n",
       "    poisson_ratio  Y_Modulus  \n",
       "0            0.29     270.90  \n",
       "1            0.22     522.16  \n",
       "2            0.23     371.46  \n",
       "3            0.33     199.50  \n",
       "4            0.23     482.16  \n",
       "..            ...        ...  \n",
       "89           0.31      91.70  \n",
       "90           0.22     270.84  \n",
       "91           0.26     269.64  \n",
       "92           0.21      65.34  \n",
       "93           0.20      64.80  \n",
       "\n",
       "[94 rows x 8 columns]"
      ]
     },
     "execution_count": 4,
     "metadata": {},
     "output_type": "execute_result"
    }
   ],
   "source": [
    "df.drop( df[ df['Y_Modulus'] < 0 ].index , inplace=True)\n",
    "df_original = df.copy\n",
    "elements = df['Formula'].tolist()\n",
    "df = df.drop(df.columns[[0, 1, 2, 3, 6]], axis=1)\n",
    "df"
   ]
  },
  {
   "cell_type": "markdown",
   "metadata": {},
   "source": [
    "### 2. Processing and Organizing Data\n",
    "\n",
    "Most machine learning models are trained on a subset of all the available data, called the \"training set\", and the models are tested on the remainder of the available data, called the \"testing set\". Model performance has often been found to be enhanced when the inputs are normalized.\n",
    "\n",
    "##### SETS\n",
    "\n",
    "1. With the dataset we just created, we have splitted the dataset for each of the 12 datasets:\n",
    "- C: 232 entries for our model. We will train with 200 cases and test on the remaining 32 elements to estimate Young's Modulus.\n",
    "- Cr: 94 entries for our model. We will train with 70 cases and test on the remaining 24 elements to estimate Young's Modulus.\n",
    "- Fe: 208 entries for our model. We will train with 182 cases and test on the remaining 26 elements to estimate Young's Modulus.\n",
    "- Hf: 331 entries for our model. We will train with 300 cases and test on the remaining 31 elements to estimate Young's Modulus.\n",
    "- Mo: 331 entries for our model. We will train with 300 cases and test on the remaining 31 elements to estimate Young's Modulus.\n",
    "- Nb: 331 entries for our model. We will train with 300 cases and test on the remaining 31 elements to estimate Young's Modulus.\n",
    "- Ni: 331 entries for our model. We will train with 300 cases and test on the remaining 31 elements to estimate Young's Modulus.\n",
    "- Ta: 331 entries for our model. We will train with 300 cases and test on the remaining 31 elements to estimate Young's Modulus.\n",
    "- Ti: 331 entries for our model. We will train with 300 cases and test on the remaining 31 elements to estimate Young's Modulus.\n",
    "- V: 331 entries for our model. We will train with 300 cases and test on the remaining 31 elements to estimate Young's Modulus.\n",
    "- W: 331 entries for our model. We will train with 300 cases and test on the remaining 31 elements to estimate Young's Modulus.\n",
    "- Zr: 331 entries for our model. We will train with 300 cases and test on the remaining 31 elements to estimate Young's Modulus.\n",
    "\n",
    "\n",
    "\n",
    "##### NORMALIZATION\n",
    "\n",
    "Each one of these input data features has different units and is represented in scales with distinct orders of magnitude. Datasets that contain inputs like this need to be normalized, so that quantities with large values do not *overwhelm* the neural network, forcing it tune its weights to account for the different scales of our input data. In this work, we will use the Standard Score Normalization, which subtracts the mean of the feature and divide by its standard deviation.\n",
    "\n",
    "<span style=\"font-size:2em;\">$ \\frac{X - µ}{σ} $ </span>\n",
    "\n",
    "While our model might converge without feature normalization, the resultant model would be difficult to train and would be dependent on the choice of units used in the input."
   ]
  },
  {
   "cell_type": "code",
   "execution_count": 5,
   "metadata": {},
   "outputs": [
    {
     "name": "stdout",
     "output_type": "stream",
     "text": [
      "[[0.19506227964170328, 8.618942228355628, 0.26945000000022645, 105.0, 222.0, 0.82, 0.29, 270.90000000000003], [0.16265587848954338, 18.648438637883746, 0.0, 214.0, 307.0, 0.28, 0.22, 522.16], [0.1570796725376378, 10.84546252759207, 0.0, 151.0, 230.0, 0.38, 0.23, 371.46], [0.2361187106085201, 6.237410464246428, 0.07683291666715775, 75.0, 199.0, 0.03, 0.33, 199.5], [0.2477472248447408, 6.587365888141498, 0.0, 196.0, 291.0, 0.03, 0.23, 482.16], [0.2563021389899549, 6.742147673171769, 0.8972433333340746, 185.0, 289.0, 0.1, 0.24, 458.8], [0.12938625172641774, 2.4927677331272613, 0.6129882692276212, 144.0, 126.0, 0.08, 0.09, 313.92], [0.2179763745645678, 5.7487220093605655, 0.0, 103.0, 186.0, 0.08, 0.27, 261.62], [0.6717833109454248, 4.629940044129016, 0.0, 107.0, 179.0, 0.9, 0.25, 267.5], [0.6236802645650456, 4.904330346354213, 0.0, 113.0, 203.0, 0.15, 0.27, 287.02], [0.2556959489110709, 7.860403725285878, 0.0, 128.0, 211.0, 0.05, 0.25, 320.0], [0.24241566019650554, 6.7951800371105024, 0.0, 169.0, 320.0, 0.38, 0.28, 432.64], [0.17185803174471548, 5.669873692732649, 0.0, 138.0, 173.0, 0.35, 0.18, 325.68], [0.2220658308514057, 11.337189772845669, 0.0, 83.0, 242.0, 0.07, 0.35, 224.1], [0.25786343498060305, 6.523424750290263, 0.0, 137.0, 238.0, 0.13, 0.26, 345.24], [0.09861623589011954, 3.942647916630324, 0.0, 5.0, 8.0, 64.24, 0.26, 12.6], [0.1971153381300115, 4.407724434965536, 0.0, 158.0, 183.0, 0.02, 0.16, 366.56], [0.22018302293731334, 7.767773427042093, 0.0, 64.0, 228.0, 0.1, 0.37, 175.36], [0.1553506880054651, 3.5669247234196084, 0.0, 39.0, 37.0, 3.26, 0.11, 86.58000000000001], [0.23601101145174305, 6.234565438345089, 0.0, 75.0, 198.0, 0.06, 0.33, 199.5], [0.1259699161991152, 2.8421885259820887, 0.0, 4.0, 8.0, 2.79, 0.26, 10.08], [0.2747221133703715, 7.1677998149018585, 0.0, 138.0, 291.0, 0.0, 0.3, 358.8], [0.24052342953336306, 6.625100603199787, 0.0, 154.0, 249.0, 0.06, 0.24, 381.92], [0.08360344047509523, 3.896481658973024, 0.0, 100.0, 124.0, 0.72, 0.18, 236.0], [0.21068808361646366, 8.620907165052941, 0.0, 112.0, 228.0, 1.06, 0.29, 288.9600000000001], [0.2135036831793972, 10.507988985740106, 0.0, 68.0, 191.0, 0.02, 0.34, 182.24], [0.12692535894556395, 3.8153056210024823, 0.0, 83.0, 107.0, 0.85, 0.19, 197.54], [0.27471825790231685, 6.723825261705208, 0.0, 140.0, 285.0, 0.29, 0.29, 361.2], [0.1339915699674806, 5.015722493546895, 0.0, 172.0, 195.0, 0.18, 0.16, 399.04], [0.211028958085534, 7.109106915706326, 0.0, 56.0, 181.0, 0.03, 0.36, 152.32], [0.14688742941279534, 3.082703604081153, 0.0, 13.0, 15.0, -119.08, 0.17, 30.42], [0.1983392087313169, 12.702454774680787, 0.0, 101.0, 226.0, 0.51, 0.3, 262.6], [0.17685315510160693, 5.460394618462858, 0.0, 30.0, 47.0, 0.55, 0.23, 73.8], [0.20567280948404654, 8.179075697402183, 0.0, 69.0, 149.0, 0.77, 0.3, 179.4], [0.17595993157773185, 5.553900997962684, 0.0, 74.0, 161.0, 0.63, 0.3, 192.4], [0.1644918212290103, 3.260071635851983, 0.0, 48.0, 123.0, 1.73, 0.33, 127.68], [0.5196171533199488, 3.05233891041771, 0.0, 41.0, 64.0, 0.36, 0.23, 100.86], [0.19899136622143945, 6.887637715111308, 0.0, 116.0, 180.0, 0.08, 0.24, 287.68], [0.1969225846655681, 5.0294931611293965, 0.0, 26.0, 77.0, 0.99, 0.35, 70.2], [0.4885488797314316, 5.308605260477462, 0.363240000000431, 58.0, 154.0, 2.01, 0.33, 154.28], [0.13435813520259346, 8.726919257450144, 0.0, 113.0, 231.0, 0.0, 0.29, 291.54], [0.1612473089956276, 7.716185764584853, 0.0, 97.0, 154.0, 0.23, 0.24, 240.56], [0.1506714630260463, 13.841976533809055, 0.0, 94.0, 258.0, 0.72, 0.34, 251.92], [0.20040259474366634, 8.691772497279294, 0.0, 77.0, 167.0, 0.64, 0.3, 200.2], [0.15952696464739338, 7.969868448138058, 0.0, 68.0, 149.0, 0.81, 0.3, 176.8], [0.17589646156473873, 5.325875173010979, 0.0, 60.0, 152.0, 0.14, 0.33, 159.60000000000005], [0.2525246233858637, 2.4147376439978294, 0.0, 72.0, 85.0, 0.03, 0.17, 168.48], [0.17598031235210254, 5.652777279831061, 0.0, 123.0, 204.0, 0.13, 0.25, 307.5], [0.26124208099232776, 7.3434325178486155, 0.0, 23.0, 27.0, 1.02, 0.17, 53.81999999999999], [0.25491322616438944, 4.2524809021433345, 0.0, 31.0, 50.0, 0.23, 0.24, 76.88], [0.6325518268188539, 4.1010109511328015, 0.0, 83.0, 148.0, 0.97, 0.26, 209.16], [0.19946788175199787, 6.955160667078985, 0.14202906249671798, 82.0, 202.0, 0.08, 0.32, 216.48], [0.1572309543457913, 7.08015918030501, 0.0, 114.0, 212.0, 0.28, 0.27, 289.56], [0.18278645160459084, 5.405418835718923, 0.0, 31.0, 69.0, 0.26, 0.3, 80.60000000000002], [0.1576976945005799, 7.617337309351948, 0.0, 61.0, 129.0, 0.08, 0.3, 158.6], [0.1592228271622383, 4.839726525303591, 0.0, 133.0, 209.0, 0.16, 0.24, 329.84], [0.304196500158342, 3.3629472999706347, 0.0, 13.0, 24.0, 1.22, 0.27, 33.02], [0.21677685689229792, 3.1842470317862364, 0.0, 37.0, 60.0, 0.57, 0.25, 92.5], [0.18429915123889226, 5.37477494738821, 0.0, 182.0, 250.0, 0.04, 0.21, 440.44], [0.1793254241930702, 8.354270274164262, 0.0, 72.0, 167.0, 0.74, 0.31, 188.64], [0.21125710640798706, 7.348434423639102, 0.0, 107.0, 232.0, 0.68, 0.3, 278.2], [0.16581766177822754, 8.13776016770855, 0.0, 106.0, 243.0, 0.48, 0.31, 277.72], [0.2299740753557724, 3.241737275435285, 0.0, 51.0, 86.0, 0.07, 0.25, 127.5], [0.1402854694935468, 9.069538941582902, 0.0, 101.0, 269.0, 0.0, 0.33, 268.66], [0.5013514447656467, 9.220117847189515, 0.0, 62.0, 157.0, 1.28, 0.33, 164.92000000000004], [0.22717051366390925, 3.45200033366467, 0.0, 30.0, 94.0, 4.46, 0.35, 81.0], [0.4964879067173314, 2.66688033927774, 0.0, 19.0, 39.0, 0.91, 0.29, 49.02], [0.5755707750771784, 6.457324685036008, 0.0, 86.0, 165.0, 0.11, 0.28, 220.16], [0.5049200139207471, 6.280759053586071, 0.0, 45.0, 140.0, 5.03, 0.35, 121.5], [0.19450026007920224, 7.845540020791598, 0.0, 92.0, 145.0, 1.28, 0.24, 228.16], [0.1920896057243322, 3.2066210002762716, 0.0, 43.0, 83.0, 0.55, 0.28, 110.08], [0.4873540488917158, 5.295622147539851, 0.0, 58.0, 155.0, 2.04, 0.33, 154.28], [0.17478288436460998, 4.535384722119756, 0.0, 41.0, 94.0, 0.32, 0.31, 107.42], [0.18551673443147967, 5.327369116401093, 0.0, 175.0, 227.0, 0.08, 0.19, 416.5], [0.17650989739139825, 7.151615099984709, 0.0, 99.0, 231.0, 0.69, 0.31, 259.38], [0.14957876584977206, 6.653173672646668, 0.0, 102.0, 194.0, 0.2, 0.28, 261.12], [0.16794362141601393, 10.618552634076526, 0.0, 112.0, 251.0, 0.28, 0.31, 293.44], [0.17355735790482, 7.954744598658003, 0.0, 101.0, 237.0, 0.38, 0.31, 264.62], [0.18795581585805776, 5.338343678602588, 0.0, 134.0, 189.0, 0.02, 0.21, 324.28], [0.22284835930391675, 3.146804443656332, 0.0, 36.0, 76.0, 0.53, 0.29, 92.88], [0.2413369576025658, 10.702691061931008, 0.0, 158.0, 267.0, 0.19, 0.25, 395.0], [0.4580919954707605, 5.727997990762413, 0.0, 18.0, 33.0, 1.05, 0.28, 46.08], [0.6357121414301129, 4.046621554470586, 0.0, 109.0, 181.0, 0.69, 0.25, 272.5], [0.2031953563609596, 6.917186606244874, 0.0, 143.0, 238.0, 0.05, 0.25, 357.5], [0.2708245837459332, 3.3825375845212697, 0.0, 11.0, 21.0, 0.24, 0.27, 27.94], [0.20353629527178949, 6.112507624833567, 0.0, 23.0, 64.0, 0.44, 0.34, 61.64], [0.2888715868700108, 3.1156170519728943, 0.0, 36.0, 49.0, 0.58, 0.21, 87.12], [0.18206278900975875, 9.760395641571574, 0.0, 79.0, 190.0, 0.13, 0.32, 208.56], [0.16544434484656054, 10.87437113588139, 0.0, 125.0, 265.0, 0.23, 0.3, 325.0], [0.3219916823811531, 2.9610030601166737, 0.0, 35.0, 79.0, 0.0, 0.31, 91.7], [0.16021224501401982, 6.837675236213143, 0.0, 111.0, 160.0, 0.16, 0.22, 270.84], [0.5899682901836628, 6.5567001162891705, 0.0, 107.0, 187.0, 0.02, 0.26, 269.64], [0.3580129364525934, 3.4223925170351, 0.3432947999986169, 27.0, 36.0, 0.48, 0.21, 65.34], [0.3603922489315653, 3.769107662105053, 0.0, 27.0, 36.0, 0.17, 0.2, 64.8]]\n"
     ]
    },
    {
     "data": {
      "text/html": [
       "<div>\n",
       "<style scoped>\n",
       "    .dataframe tbody tr th:only-of-type {\n",
       "        vertical-align: middle;\n",
       "    }\n",
       "\n",
       "    .dataframe tbody tr th {\n",
       "        vertical-align: top;\n",
       "    }\n",
       "\n",
       "    .dataframe thead th {\n",
       "        text-align: right;\n",
       "    }\n",
       "</style>\n",
       "<table border=\"1\" class=\"dataframe\">\n",
       "  <thead>\n",
       "    <tr style=\"text-align: right;\">\n",
       "      <th></th>\n",
       "      <th>IPF</th>\n",
       "      <th>Density</th>\n",
       "      <th>E_above_Hull</th>\n",
       "      <th>G_VRH</th>\n",
       "      <th>K_VRH</th>\n",
       "      <th>Elastic_Anisotropy</th>\n",
       "      <th>poisson_ratio</th>\n",
       "    </tr>\n",
       "  </thead>\n",
       "  <tbody>\n",
       "    <tr>\n",
       "      <th>0</th>\n",
       "      <td>0.195062</td>\n",
       "      <td>8.618942</td>\n",
       "      <td>0.269450</td>\n",
       "      <td>105.0</td>\n",
       "      <td>222.0</td>\n",
       "      <td>0.82</td>\n",
       "      <td>0.29</td>\n",
       "    </tr>\n",
       "    <tr>\n",
       "      <th>1</th>\n",
       "      <td>0.162656</td>\n",
       "      <td>18.648439</td>\n",
       "      <td>0.000000</td>\n",
       "      <td>214.0</td>\n",
       "      <td>307.0</td>\n",
       "      <td>0.28</td>\n",
       "      <td>0.22</td>\n",
       "    </tr>\n",
       "    <tr>\n",
       "      <th>2</th>\n",
       "      <td>0.157080</td>\n",
       "      <td>10.845463</td>\n",
       "      <td>0.000000</td>\n",
       "      <td>151.0</td>\n",
       "      <td>230.0</td>\n",
       "      <td>0.38</td>\n",
       "      <td>0.23</td>\n",
       "    </tr>\n",
       "    <tr>\n",
       "      <th>3</th>\n",
       "      <td>0.236119</td>\n",
       "      <td>6.237410</td>\n",
       "      <td>0.076833</td>\n",
       "      <td>75.0</td>\n",
       "      <td>199.0</td>\n",
       "      <td>0.03</td>\n",
       "      <td>0.33</td>\n",
       "    </tr>\n",
       "    <tr>\n",
       "      <th>4</th>\n",
       "      <td>0.247747</td>\n",
       "      <td>6.587366</td>\n",
       "      <td>0.000000</td>\n",
       "      <td>196.0</td>\n",
       "      <td>291.0</td>\n",
       "      <td>0.03</td>\n",
       "      <td>0.23</td>\n",
       "    </tr>\n",
       "    <tr>\n",
       "      <th>5</th>\n",
       "      <td>0.256302</td>\n",
       "      <td>6.742148</td>\n",
       "      <td>0.897243</td>\n",
       "      <td>185.0</td>\n",
       "      <td>289.0</td>\n",
       "      <td>0.10</td>\n",
       "      <td>0.24</td>\n",
       "    </tr>\n",
       "    <tr>\n",
       "      <th>6</th>\n",
       "      <td>0.129386</td>\n",
       "      <td>2.492768</td>\n",
       "      <td>0.612988</td>\n",
       "      <td>144.0</td>\n",
       "      <td>126.0</td>\n",
       "      <td>0.08</td>\n",
       "      <td>0.09</td>\n",
       "    </tr>\n",
       "    <tr>\n",
       "      <th>7</th>\n",
       "      <td>0.217976</td>\n",
       "      <td>5.748722</td>\n",
       "      <td>0.000000</td>\n",
       "      <td>103.0</td>\n",
       "      <td>186.0</td>\n",
       "      <td>0.08</td>\n",
       "      <td>0.27</td>\n",
       "    </tr>\n",
       "    <tr>\n",
       "      <th>8</th>\n",
       "      <td>0.671783</td>\n",
       "      <td>4.629940</td>\n",
       "      <td>0.000000</td>\n",
       "      <td>107.0</td>\n",
       "      <td>179.0</td>\n",
       "      <td>0.90</td>\n",
       "      <td>0.25</td>\n",
       "    </tr>\n",
       "    <tr>\n",
       "      <th>9</th>\n",
       "      <td>0.623680</td>\n",
       "      <td>4.904330</td>\n",
       "      <td>0.000000</td>\n",
       "      <td>113.0</td>\n",
       "      <td>203.0</td>\n",
       "      <td>0.15</td>\n",
       "      <td>0.27</td>\n",
       "    </tr>\n",
       "  </tbody>\n",
       "</table>\n",
       "</div>"
      ],
      "text/plain": [
       "        IPF    Density  E_above_Hull  G_VRH  K_VRH  Elastic_Anisotropy  \\\n",
       "0  0.195062   8.618942      0.269450  105.0  222.0                0.82   \n",
       "1  0.162656  18.648439      0.000000  214.0  307.0                0.28   \n",
       "2  0.157080  10.845463      0.000000  151.0  230.0                0.38   \n",
       "3  0.236119   6.237410      0.076833   75.0  199.0                0.03   \n",
       "4  0.247747   6.587366      0.000000  196.0  291.0                0.03   \n",
       "5  0.256302   6.742148      0.897243  185.0  289.0                0.10   \n",
       "6  0.129386   2.492768      0.612988  144.0  126.0                0.08   \n",
       "7  0.217976   5.748722      0.000000  103.0  186.0                0.08   \n",
       "8  0.671783   4.629940      0.000000  107.0  179.0                0.90   \n",
       "9  0.623680   4.904330      0.000000  113.0  203.0                0.15   \n",
       "\n",
       "   poisson_ratio  \n",
       "0           0.29  \n",
       "1           0.22  \n",
       "2           0.23  \n",
       "3           0.33  \n",
       "4           0.23  \n",
       "5           0.24  \n",
       "6           0.09  \n",
       "7           0.27  \n",
       "8           0.25  \n",
       "9           0.27  "
      ]
     },
     "execution_count": 5,
     "metadata": {},
     "output_type": "execute_result"
    }
   ],
   "source": [
    "all_values = df.values.tolist() # Values for Attributes\n",
    "print(all_values)\n",
    "all_labels = [] # Values for Young's Modulus (Property to be estimated)\n",
    "all_labels = df['Y_Modulus'].tolist()\n",
    "df = df.drop(['Y_Modulus'], axis=1)\n",
    "df.head(n=10)"
   ]
  },
  {
   "cell_type": "code",
   "execution_count": 6,
   "metadata": {},
   "outputs": [
    {
     "name": "stdout",
     "output_type": "stream",
     "text": [
      "Shape of Values: (94, 7)\n",
      "Shape of Labels: (94,)\n",
      "[-0.35089726  0.76556196  1.70890663  0.3201995   0.70354299  0.06053511\n",
      "  0.37024065]\n",
      "[-0.37360006 -1.15534679 -0.24461436 -0.95122395 -1.05260717  0.04387892\n",
      "  0.2030352 ]\n",
      "[ 0  1  2  3  4  5  6  7  8  9 10 11 12 13 14 15 16 17 18 19 20 21 22 23\n",
      " 24 25 26 27 28 29 30 31 32 33 34 35 36 37 38 39 40 41 42 43 44 45 46 47\n",
      " 48 49 50 51 52 53 54 55 56 57 58 59 60 61 62 63 64 65 66 67 68 69 70 71\n",
      " 72 73 74 75 76 77 78 79 80 81 82 83 84 85 86 87 88 89 90 91 92 93]\n"
     ]
    }
   ],
   "source": [
    "#We will rewrite the arrays with the patches we made on the dataset \n",
    "# by turning the dataframe back into a list of lists\n",
    "\n",
    "all_values = [list(df.iloc[x]) for x in range(len(all_values))]\n",
    "\n",
    "# SETS\n",
    "\n",
    "# List of lists are turned into Numpy arrays to facilitate calculations in steps to follow (Normalization).\n",
    "all_values = np.array(all_values, dtype = float) \n",
    "print(\"Shape of Values:\", all_values.shape)\n",
    "all_labels = np.array(all_labels, dtype = float)\n",
    "print(\"Shape of Labels:\", all_labels.shape)\n",
    "\n",
    "# Uncomment the line below to shuffle the dataset \n",
    "#(we do not do this here to ensure consistent results for every run)\n",
    "#order = np.argsort(np.random.random(all_labels.shape)) \n",
    "# This numpy argsort returns the indexes that would be used to shuffle a list\n",
    "order = np.arange(94)\n",
    "all_values = all_values[order]\n",
    "all_labels = all_labels[order]\n",
    "\n",
    "# Training Set\n",
    "train_labels = all_labels[:70]\n",
    "train_values = all_values[:70]\n",
    "\n",
    "# Testing Set\n",
    "test_labels = all_labels[-24:]\n",
    "test_values = all_values[-24:]\n",
    "\n",
    "# This line is used for labels in the plots at the end of the tutorial - Testing Set\n",
    "\n",
    "labeled_elements = [elements[x] for x in order[-24:]] \n",
    "elements = [elements[x] for x in order]\n",
    "\n",
    "# NORMALIZATION\n",
    "\n",
    "mean = np.mean(train_values, axis = 0) # mean\n",
    "std = np.std(train_values, axis = 0) # standard deviation\n",
    "\n",
    "train_values = (train_values - mean) / std # input scaling\n",
    "test_values = (test_values - mean) / std # input scaling\n",
    "\n",
    "print(train_values[0]) # print a sample entry from the training set\n",
    "print(test_values[0]) # print a sample entry from the training set\n",
    "print(order)"
   ]
  },
  {
   "cell_type": "markdown",
   "metadata": {},
   "source": [
    "### 3. Creating the Model\n",
    "\n",
    "For this regression, we will use a simple sequential neural network with one densely connected hidden layer. The optimizer used will be [RMSPropOptimizer](https://www.tensorflow.org/api_docs/python/tf/train/RMSPropOptimizer) (Root Mean Square Propagation).\n",
    "\n",
    "To learn more about Root Mean Squared Propagation, click [here](https://climin.readthedocs.io/en/latest/rmsprop.html).\n",
    "\n",
    "A cool tool developed by Tensorflow to visualize how a neural network learns, and play around with its parameters, can be found here [NN Tools](https://playground.tensorflow.org/)."
   ]
  },
  {
   "cell_type": "code",
   "execution_count": 7,
   "metadata": {},
   "outputs": [
    {
     "name": "stdout",
     "output_type": "stream",
     "text": [
      "WARNING:tensorflow:From C:\\Users\\Kayla Yano\\anaconda3\\envs\\PythonData\\lib\\site-packages\\tensorflow\\python\\keras\\initializers.py:143: calling RandomNormal.__init__ (from tensorflow.python.ops.init_ops) with dtype is deprecated and will be removed in a future version.\n",
      "Instructions for updating:\n",
      "Call initializer instance with the dtype argument instead of passing it to the constructor\n",
      "Model: \"sequential\"\n",
      "_________________________________________________________________\n",
      "Layer (type)                 Output Shape              Param #   \n",
      "=================================================================\n",
      "dense (Dense)                (None, 32)                256       \n",
      "_________________________________________________________________\n",
      "dense_1 (Dense)              (None, 64)                2112      \n",
      "_________________________________________________________________\n",
      "dense_2 (Dense)              (None, 64)                4160      \n",
      "_________________________________________________________________\n",
      "dense_3 (Dense)              (None, 1)                 65        \n",
      "=================================================================\n",
      "Total params: 6,593\n",
      "Trainable params: 6,593\n",
      "Non-trainable params: 0\n",
      "_________________________________________________________________\n"
     ]
    }
   ],
   "source": [
    "# DEFINITION OF THE MODEL\n",
    "\n",
    "# The weights of our neural network will be initialized in a random manner, using a seed allows for reproducibility\n",
    "kernel_init = initializers.RandomNormal(seed=0)\n",
    "# In a sequential model, the first layer must specify the input shape the model will expect; \n",
    "# in this case the value is train_values.shape[1] which is the number\n",
    "# of attributes (properties) and equals 17.\n",
    "\n",
    "model = Sequential()\n",
    "model.add(Dense(32, activation='relu', input_shape=(train_values.shape[1], ), kernel_initializer=kernel_init))\n",
    "model.add(Dense(64, activation='relu', kernel_initializer=kernel_init))\n",
    "model.add(Dense(64, activation='relu', kernel_initializer=kernel_init))\n",
    "model.add(Dense(1, kernel_initializer=kernel_init))\n",
    "\n",
    "# DEFINITION OF THE OPTIMIZER\n",
    "\n",
    "optimizer = optimizers.RMSprop(0.002) # Root Mean Squared Propagation\n",
    "\n",
    "# This line matches the optimizer to the model and states which metrics will evaluate the model's accuracy\n",
    "model.compile(loss='mae', optimizer=optimizer, metrics=['mae'])\n",
    "model.summary()"
   ]
  },
  {
   "cell_type": "markdown",
   "metadata": {},
   "source": [
    "#### TRAINING \n",
    "\n",
    "This model is trained for 2000 epochs, and we record the training accuracy in the history object.\n",
    "\n",
    "One **Epoch** occurs when you pass the entire dataset through the model. One **Batch** contains a subset of the dataset that can be fed to the model at the same time. A more detailed explanation of these concepts can be found in this [blog](https://towardsdatascience.com/epoch-vs-iterations-vs-batch-size-4dfb9c7ce9c9). As we have a really small dataset compared to the ones that are usually considered to be modeled by these neural networks, we are feeding all entries at the same time, so our batch is the entire dataset, and an epoch occurs when the batch is processed.\n",
    "\n",
    "This way, by plotting \"history\" we can see the evolution of the \"learning\" of the model, that is the decrease of the Mean Absolute Error. Models in Keras are fitted to the training set using the [**fit**](https://keras.io/models/model/#fit) method.\n",
    "\n",
    "The blue curve that will come up from the History object represents how the model is learning on the training data, and the orange curve represents the validation loss, which can be thought of as the way our model evaluates data that it was not trained in. This validation loss would start going up again when we start to overfit our data."
   ]
  },
  {
   "cell_type": "code",
   "execution_count": 8,
   "metadata": {},
   "outputs": [
    {
     "name": "stdout",
     "output_type": "stream",
     "text": [
      "Current Epoch: 2000 Training Loss: 3.844813                                       \r"
     ]
    },
    {
     "data": {
      "image/png": "[encoded data removed]",
      "text/plain": [
       "<Figure size 432x288 with 1 Axes>"
      ]
     },
     "metadata": {
      "needs_background": "light"
     },
     "output_type": "display_data"
    }
   ],
   "source": [
    "# EPOCH REAL TIME COUNTER CLASS\n",
    "class PrintEpNum(tf.keras.callbacks.Callback): # This is a function for the Epoch Counter\n",
    "    def on_epoch_end(self, epoch, logs):\n",
    "        sys.stdout.flush()\n",
    "        sys.stdout.write(\"Current Epoch: \" + str(epoch+1) + \" Training Loss: \" + \"%4f\" %logs.get('loss') + '                                       \\r') # Updates current Epoch Number\n",
    "\n",
    "EPOCHS = 2000 # Number of EPOCHS\n",
    "\n",
    "# HISTORY Object which contains how the model learned\n",
    "\n",
    "# Training Values (Properties), Training Labels (Known Young's Moduli) \n",
    "history = model.fit(train_values, train_labels, batch_size=train_values.shape[0], \n",
    "                    epochs=EPOCHS, verbose = False, validation_split=0.1, callbacks=[PrintEpNum()])\n",
    "\n",
    "\n",
    "# PLOTTING HISTORY USING MATPLOTLIB\n",
    "\n",
    "plt.figure()\n",
    "plt.xlabel('Epoch')\n",
    "plt.ylabel('Mean Abs Error')\n",
    "plt.plot(history.epoch, np.array(history.history['mean_absolute_error']),label='Loss on training set') \n",
    "plt.plot(history.epoch, np.array(history.history['val_mean_absolute_error']),label = 'Validation loss')\n",
    "plt.legend()\n",
    "plt.show()"
   ]
  },
  {
   "cell_type": "markdown",
   "metadata": {},
   "source": [
    "#### SAVING A MODEL\n",
    "\n",
    "Compiled and trained models in Keras can be saved and distributed in .h5 files using the `model.save()` method. Running the cell below will save the current model we trained, both weights and architecture to your home directory."
   ]
  },
  {
   "cell_type": "code",
   "execution_count": 9,
   "metadata": {},
   "outputs": [],
   "source": [
    "model.save(os.path.expanduser('~/model.h5'))"
   ]
  },
  {
   "cell_type": "markdown",
   "metadata": {},
   "source": [
    "#### TESTING\n",
    "\n",
    "Models in Keras are tested using the method [**evaluate**](https://keras.io/models/model/#evaluate). This method returns the testing loss of the model and the metrics we specified when creating it,  which in our case it's the Mean Absolute Error. For the original model in this tutorial you should get a value of around **20 GPa** for the Mean Absolute Error. This value would decrease with more training data, more attributes/features, or a different optimizer. In the case of a model that overfits, you can expect values to start increasing to around **30 or 40 GPa**."
   ]
  },
  {
   "cell_type": "code",
   "execution_count": 10,
   "metadata": {},
   "outputs": [
    {
     "name": "stdout",
     "output_type": "stream",
     "text": [
      "Testing Set Mean Absolute Error: 4.106 GPa\n"
     ]
    }
   ],
   "source": [
    "[loss, mae] = model.evaluate(test_values, test_labels, verbose=0)\n",
    "\n",
    "print(\"Testing Set Mean Absolute Error: {:2.3f} GPa\".format(mae))"
   ]
  },
  {
   "cell_type": "code",
   "execution_count": 11,
   "metadata": {},
   "outputs": [
    {
     "data": {
      "text/plain": [
       "<module 'tensorflow._api.v1.summary' from 'C:\\\\Users\\\\Kayla Yano\\\\anaconda3\\\\envs\\\\PythonData\\\\lib\\\\site-packages\\\\tensorflow\\\\_api\\\\v1\\\\summary\\\\__init__.py'>"
      ]
     },
     "execution_count": 11,
     "metadata": {},
     "output_type": "execute_result"
    }
   ],
   "source": [
    "tf.summary"
   ]
  },
  {
   "cell_type": "code",
   "execution_count": 26,
   "metadata": {},
   "outputs": [
    {
     "name": "stdout",
     "output_type": "stream",
     "text": [
      "The tensorboard extension is already loaded. To reload it, use:\n",
      "  %reload_ext tensorboard\n"
     ]
    },
    {
     "data": {
      "text/plain": [
       "Reusing TensorBoard on port 6006 (pid 6032), started 2 days, 3:53:19 ago. (Use '!kill 6032' to kill it.)"
      ]
     },
     "metadata": {},
     "output_type": "display_data"
    },
    {
     "data": {
      "text/html": [
       "\n",
       "        <iframe\n",
       "            width=\"100%\"\n",
       "            height=\"800\"\n",
       "            src=\"http://localhost:6006\"\n",
       "            frameborder=\"0\"\n",
       "            allowfullscreen\n",
       "        ></iframe>\n",
       "        "
      ],
      "text/plain": [
       "<IPython.lib.display.IFrame at 0x1cb7b0857c8>"
      ]
     },
     "metadata": {},
     "output_type": "display_data"
    }
   ],
   "source": [
    "# Load the TensorBoard notebook extension\n",
    "%load_ext tensorboard\n",
    "# Clear any logs from previous runs\n",
    "!rm -rf ./logs/ \n",
    "%tensorboard --logdir logs/gradient_tape"
   ]
  },
  {
   "cell_type": "markdown",
   "metadata": {},
   "source": [
    "#### MAKING PREDICTIONS\n",
    "\n",
    "The last step in a regression model is to make predictions for values not in the training set, which are determined by the method [**predict**](https://keras.io/models/model/#predict). In the following cell we print the elements in the testing set, the real values for their Young's moduli and the predictions generated by our machine learned model."
   ]
  },
  {
   "cell_type": "code",
   "execution_count": 12,
   "metadata": {},
   "outputs": [
    {
     "name": "stdout",
     "output_type": "stream",
     "text": [
      "Elements in Test Set:  ['LiCrS2', 'CrCuO2', 'CrCuS2', 'Al(CrB)2', 'MnV2Cr', 'Mn2AlCr', 'V2CrRe', 'V2CrTc', 'AlCr2C', 'NaCrN2', 'Cr3PtN', 'CrPbO4', 'CrBO3', 'CrFeP', 'Cs2CrCl4', 'CrAgSe2', 'KCrS2', 'Ti2CrIr', 'V2CrOs', 'K2NaCrF6', 'HoCr2Si2C', 'Sr2TaCrO6', 'KRb2CrF6', 'Rb2NaCrF6']\n",
      "Real Values [110.08, 154.28, 107.42, 416.5, 259.38, 261.12, 293.44, 264.62, 324.28, 92.88, 395.0, 46.08, 272.5, 357.5, 27.94, 61.64, 87.12, 208.56, 325.0, 91.7, 270.84, 269.64, 65.34, 64.8]\n",
      "Predictions [110.197556, 155.564, 108.651306, 425.3274, 264.8295, 262.11188, 297.35767, 270.62057, 327.07437, 94.63434, 401.39, 49.29657, 272.48553, 361.00995, 26.549068, 73.55455, 84.07483, 210.63048, 329.10144, 94.58537, 273.44492, 262.34763, 76.9976, 58.71022]\n"
     ]
    }
   ],
   "source": [
    "test_predictions = model.predict(test_values).flatten()\n",
    "\n",
    "print(\"Elements in Test Set: \", labeled_elements)\n",
    "print(\"Real Values\", list(test_labels))\n",
    "print(\"Predictions\", list(test_predictions))\n",
    "\n",
    "values = np.concatenate((train_values, test_values), axis=0) # This line joins the values together to evaluate all of them\n",
    "predictions = model.predict(values).flatten()"
   ]
  },
  {
   "cell_type": "markdown",
   "metadata": {},
   "source": [
    "### 4. Plotting\n",
    "\n",
    "The easiest way to see if the model did a good job estimating the Young's Modulus for the Elements is through a plot comparing Real Values with their Predictions. We will use [Plotly](https://plot.ly/python/) to create a plot like that. We covered how to plot in Plotly in the first tutorial of this tool. For values in this plot, the line (x = y) indicates a perfect match and would be the desirable result for the points. As you analyze the plot, you can hover on the points to see the data we obtained in the cell above."
   ]
  },
  {
   "cell_type": "code",
   "execution_count": 14,
   "metadata": {},
   "outputs": [
    {
     "data": {
      "text/html": [
       "        <script type=\"text/javascript\">\n",
       "        window.PlotlyConfig = {MathJaxConfig: 'local'};\n",
       "        if (window.MathJax) {MathJax.Hub.Config({SVG: {font: \"STIX-Web\"}});}\n",
       "        if (typeof require !== 'undefined') {\n",
       "        require.undef(\"plotly\");\n",
       "        requirejs.config({\n",
       "            paths: {\n",
       "                'plotly': ['https://cdn.plot.ly/plotly-latest.min']\n",
       "            }\n",
       "        });\n",
       "        require(['plotly'], function(Plotly) {\n",
       "            window._Plotly = Plotly;\n",
       "        });\n",
       "        }\n",
       "        </script>\n",
       "        "
      ]
     },
     "metadata": {},
     "output_type": "display_data"
    },
    {
     "data": {
      "application/vnd.plotly.v1+json": {
       "config": {
        "linkText": "Export to plot.ly",
        "plotlyServerURL": "https://plot.ly",
        "showLink": false
       },
       "data": [
        {
         "marker": {
          "color": "blue",
          "size": 12
         },
         "mode": "markers",
         "name": "Young's Modulus (Training)",
         "text": [
          "CrNi3",
          "CrIr3",
          "CrRh3",
          "TiCr2",
          "Cr5B3",
          "Cr2B",
          "Be12Cr",
          "AlCr2",
          "CrO2",
          "Cr2O3",
          "Cr3Ge",
          "Cr3C2",
          "CrP",
          "TaCr2",
          "CrH",
          "CrBr3",
          "Be2Cr",
          "NbCr2",
          "CrF3",
          "TiCr2",
          "CrF5",
          "Cr23C6",
          "Cr3Si",
          "CrP4",
          "CrNi2",
          "HfCr2",
          "Al3Cr",
          "Cr2N",
          "CrSi2",
          "ZrCr2",
          "CrS2",
          "U2CrN3",
          "Mn(CrSe2)2",
          "Dy2Cr2C3",
          "Y2Cr2C3",
          "Mg2CrN3",
          "MgCrO4",
          "Cr2GaC",
          "CrAgS2",
          "CrCuO2",
          "AlCrRu2",
          "Mn2CrCo",
          "Ta2CrRu",
          "Tm2Cr2C3",
          "Tb2Cr2C3",
          "Zn2CrN3",
          "Li6CrN4",
          "TiCrP",
          "CrTe4Au",
          "Sr3CrN3",
          "LiCrO2",
          "Cr2GeC",
          "NbCrP",
          "Zn(CrSe2)2",
          "CrNiAs",
          "ScCrC2",
          "Rb2CrF6",
          "NaCrS2",
          "AlCr3B4",
          "Ho2Cr2C3",
          "V2CrFe",
          "V2CrRu",
          "Ca3CrN3",
          "BeCrRu2",
          "CrAuO2",
          "Ca2CrN3",
          "Na2CrO4",
          "LaCrO3",
          "CrAgO2",
          "U(Cr3P2)2",
          "LiCrS2",
          "CrCuO2",
          "CrCuS2",
          "Al(CrB)2",
          "MnV2Cr",
          "Mn2AlCr",
          "V2CrRe",
          "V2CrTc",
          "AlCr2C",
          "NaCrN2",
          "Cr3PtN",
          "CrPbO4",
          "CrBO3",
          "CrFeP",
          "Cs2CrCl4",
          "CrAgSe2",
          "KCrS2",
          "Ti2CrIr",
          "V2CrOs",
          "K2NaCrF6",
          "HoCr2Si2C",
          "Sr2TaCrO6",
          "KRb2CrF6",
          "Rb2NaCrF6"
         ],
         "type": "scatter",
         "x": [
          270.90000000000003,
          522.16,
          371.46,
          199.5,
          482.16,
          458.8,
          313.92,
          261.62,
          267.5,
          287.02,
          320,
          432.64,
          325.68,
          224.1,
          345.24,
          12.6,
          366.56,
          175.36,
          86.58000000000001,
          199.5,
          10.08,
          358.8,
          381.92,
          236,
          288.9600000000001,
          182.24,
          197.54,
          361.2,
          399.04,
          152.32,
          30.42,
          262.6,
          73.8,
          179.4,
          192.4,
          127.68,
          100.86,
          287.68,
          70.2,
          154.28,
          291.54,
          240.56,
          251.92,
          200.2,
          176.8,
          159.60000000000005,
          168.48,
          307.5,
          53.81999999999999,
          76.88,
          209.16,
          216.48,
          289.56,
          80.60000000000002,
          158.6,
          329.84,
          33.02,
          92.5,
          440.44,
          188.64,
          278.2,
          277.72,
          127.5,
          268.66,
          164.92000000000004,
          81,
          49.02,
          220.16,
          121.5,
          228.16,
          110.08,
          154.28,
          107.42,
          416.5,
          259.38,
          261.12,
          293.44,
          264.62,
          324.28,
          92.88,
          395,
          46.08,
          272.5,
          357.5,
          27.94,
          61.64,
          87.12,
          208.56,
          325,
          91.7,
          270.84,
          269.64,
          65.34,
          64.8
         ],
         "y": [
          278.4844970703125,
          531.4387817382812,
          377.692138671875,
          202.42555236816406,
          486.13250732421875,
          473.5899353027344,
          316.04156494140625,
          262.0813293457031,
          266.0693359375,
          285.47357177734375,
          323.283203125,
          435.6742858886719,
          330.8373718261719,
          232.43898010253906,
          348.28497314453125,
          10.690352439880371,
          372.1637268066406,
          185.9577178955078,
          83.94706726074219,
          204.797119140625,
          9.412911415100098,
          362.56927490234375,
          387.5706787109375,
          237.766357421875,
          292.99945068359375,
          188.66818237304688,
          196.5013885498047,
          365.79888916015625,
          408.94989013671875,
          157.30506896972656,
          30.841642379760742,
          268.88543701171875,
          71.2445297241211,
          181.6566925048828,
          194.70057678222656,
          130.14422607421875,
          97.35293579101562,
          289.42694091796875,
          72.2028579711914,
          156.4638214111328,
          294.6570129394531,
          244.2018280029297,
          264.82244873046875,
          202.96434020996094,
          179.0080108642578,
          162.40521240234375,
          165.7006378173828,
          309.95623779296875,
          50.665367126464844,
          71.64571380615234,
          206.77760314941406,
          218.9674072265625,
          292.7033996582031,
          81.01170349121094,
          160.44386291503906,
          332.259521484375,
          31.772356033325195,
          91.15689086914062,
          446.6152038574219,
          191.34376525878906,
          282.51312255859375,
          282.61883544921875,
          125.03460693359375,
          276.9505615234375,
          166.25567626953125,
          86.355224609375,
          64.61924743652344,
          212.43812561035156,
          123.32238006591797,
          229.9617462158203,
          110.19755554199219,
          155.56399536132812,
          108.65130615234375,
          425.327392578125,
          264.8294982910156,
          262.11187744140625,
          297.357666015625,
          270.6205749511719,
          327.0743713378906,
          94.63433837890625,
          401.3900146484375,
          49.29656982421875,
          272.48553466796875,
          361.00994873046875,
          26.549068450927734,
          73.55455017089844,
          84.0748291015625,
          210.63047790527344,
          329.1014404296875,
          94.58537292480469,
          273.4449157714844,
          262.3476257324219,
          76.99759674072266,
          58.71022033691406
         ]
        },
        {
         "marker": {
          "color": "red",
          "size": 12
         },
         "mode": "markers",
         "name": "Young's Modulus (Testing)",
         "text": [
          "LiCrS2",
          "CrCuO2",
          "CrCuS2",
          "Al(CrB)2",
          "MnV2Cr",
          "Mn2AlCr",
          "V2CrRe",
          "V2CrTc",
          "AlCr2C",
          "NaCrN2",
          "Cr3PtN",
          "CrPbO4",
          "CrBO3",
          "CrFeP",
          "Cs2CrCl4",
          "CrAgSe2",
          "KCrS2",
          "Ti2CrIr",
          "V2CrOs",
          "K2NaCrF6",
          "HoCr2Si2C",
          "Sr2TaCrO6",
          "KRb2CrF6",
          "Rb2NaCrF6"
         ],
         "type": "scatter",
         "x": [
          110.08,
          154.28,
          107.42,
          416.5,
          259.38,
          261.12,
          293.44,
          264.62,
          324.28,
          92.88,
          395,
          46.08,
          272.5,
          357.5,
          27.94,
          61.64,
          87.12,
          208.56,
          325,
          91.7,
          270.84,
          269.64,
          65.34,
          64.8
         ],
         "y": [
          110.19755554199219,
          155.56399536132812,
          108.65130615234375,
          425.327392578125,
          264.8294982910156,
          262.11187744140625,
          297.357666015625,
          270.6205749511719,
          327.0743713378906,
          94.63433837890625,
          401.3900146484375,
          49.29656982421875,
          272.48553466796875,
          361.00994873046875,
          26.549068450927734,
          73.55455017089844,
          84.0748291015625,
          210.63047790527344,
          329.1014404296875,
          94.58537292480469,
          273.4449157714844,
          262.3476257324219,
          76.99759674072266,
          58.71022033691406
         ]
        },
        {
         "mode": "lines",
         "name": "Match",
         "type": "scatter",
         "x": [
          0,
          600
         ],
         "y": [
          0,
          600
         ]
        }
       ],
       "layout": {
        "height": 600,
        "hovermode": "closest",
        "legend": {
         "font": {
          "size": 24
         }
        },
        "showlegend": true,
        "template": {
         "data": {
          "bar": [
           {
            "error_x": {
             "color": "#2a3f5f"
            },
            "error_y": {
             "color": "#2a3f5f"
            },
            "marker": {
             "line": {
              "color": "#E5ECF6",
              "width": 0.5
             }
            },
            "type": "bar"
           }
          ],
          "barpolar": [
           {
            "marker": {
             "line": {
              "color": "#E5ECF6",
              "width": 0.5
             }
            },
            "type": "barpolar"
           }
          ],
          "carpet": [
           {
            "aaxis": {
             "endlinecolor": "#2a3f5f",
             "gridcolor": "white",
             "linecolor": "white",
             "minorgridcolor": "white",
             "startlinecolor": "#2a3f5f"
            },
            "baxis": {
             "endlinecolor": "#2a3f5f",
             "gridcolor": "white",
             "linecolor": "white",
             "minorgridcolor": "white",
             "startlinecolor": "#2a3f5f"
            },
            "type": "carpet"
           }
          ],
          "choropleth": [
           {
            "colorbar": {
             "outlinewidth": 0,
             "ticks": ""
            },
            "type": "choropleth"
           }
          ],
          "contour": [
           {
            "colorbar": {
             "outlinewidth": 0,
             "ticks": ""
            },
            "colorscale": [
             [
              0,
              "#0d0887"
             ],
             [
              0.1111111111111111,
              "#46039f"
             ],
             [
              0.2222222222222222,
              "#7201a8"
             ],
             [
              0.3333333333333333,
              "#9c179e"
             ],
             [
              0.4444444444444444,
              "#bd3786"
             ],
             [
              0.5555555555555556,
              "#d8576b"
             ],
             [
              0.6666666666666666,
              "#ed7953"
             ],
             [
              0.7777777777777778,
              "#fb9f3a"
             ],
             [
              0.8888888888888888,
              "#fdca26"
             ],
             [
              1,
              "#f0f921"
             ]
            ],
            "type": "contour"
           }
          ],
          "contourcarpet": [
           {
            "colorbar": {
             "outlinewidth": 0,
             "ticks": ""
            },
            "type": "contourcarpet"
           }
          ],
          "heatmap": [
           {
            "colorbar": {
             "outlinewidth": 0,
             "ticks": ""
            },
            "colorscale": [
             [
              0,
              "#0d0887"
             ],
             [
              0.1111111111111111,
              "#46039f"
             ],
             [
              0.2222222222222222,
              "#7201a8"
             ],
             [
              0.3333333333333333,
              "#9c179e"
             ],
             [
              0.4444444444444444,
              "#bd3786"
             ],
             [
              0.5555555555555556,
              "#d8576b"
             ],
             [
              0.6666666666666666,
              "#ed7953"
             ],
             [
              0.7777777777777778,
              "#fb9f3a"
             ],
             [
              0.8888888888888888,
              "#fdca26"
             ],
             [
              1,
              "#f0f921"
             ]
            ],
            "type": "heatmap"
           }
          ],
          "heatmapgl": [
           {
            "colorbar": {
             "outlinewidth": 0,
             "ticks": ""
            },
            "colorscale": [
             [
              0,
              "#0d0887"
             ],
             [
              0.1111111111111111,
              "#46039f"
             ],
             [
              0.2222222222222222,
              "#7201a8"
             ],
             [
              0.3333333333333333,
              "#9c179e"
             ],
             [
              0.4444444444444444,
              "#bd3786"
             ],
             [
              0.5555555555555556,
              "#d8576b"
             ],
             [
              0.6666666666666666,
              "#ed7953"
             ],
             [
              0.7777777777777778,
              "#fb9f3a"
             ],
             [
              0.8888888888888888,
              "#fdca26"
             ],
             [
              1,
              "#f0f921"
             ]
            ],
            "type": "heatmapgl"
           }
          ],
          "histogram": [
           {
            "marker": {
             "colorbar": {
              "outlinewidth": 0,
              "ticks": ""
             }
            },
            "type": "histogram"
           }
          ],
          "histogram2d": [
           {
            "colorbar": {
             "outlinewidth": 0,
             "ticks": ""
            },
            "colorscale": [
             [
              0,
              "#0d0887"
             ],
             [
              0.1111111111111111,
              "#46039f"
             ],
             [
              0.2222222222222222,
              "#7201a8"
             ],
             [
              0.3333333333333333,
              "#9c179e"
             ],
             [
              0.4444444444444444,
              "#bd3786"
             ],
             [
              0.5555555555555556,
              "#d8576b"
             ],
             [
              0.6666666666666666,
              "#ed7953"
             ],
             [
              0.7777777777777778,
              "#fb9f3a"
             ],
             [
              0.8888888888888888,
              "#fdca26"
             ],
             [
              1,
              "#f0f921"
             ]
            ],
            "type": "histogram2d"
           }
          ],
          "histogram2dcontour": [
           {
            "colorbar": {
             "outlinewidth": 0,
             "ticks": ""
            },
            "colorscale": [
             [
              0,
              "#0d0887"
             ],
             [
              0.1111111111111111,
              "#46039f"
             ],
             [
              0.2222222222222222,
              "#7201a8"
             ],
             [
              0.3333333333333333,
              "#9c179e"
             ],
             [
              0.4444444444444444,
              "#bd3786"
             ],
             [
              0.5555555555555556,
              "#d8576b"
             ],
             [
              0.6666666666666666,
              "#ed7953"
             ],
             [
              0.7777777777777778,
              "#fb9f3a"
             ],
             [
              0.8888888888888888,
              "#fdca26"
             ],
             [
              1,
              "#f0f921"
             ]
            ],
            "type": "histogram2dcontour"
           }
          ],
          "mesh3d": [
           {
            "colorbar": {
             "outlinewidth": 0,
             "ticks": ""
            },
            "type": "mesh3d"
           }
          ],
          "parcoords": [
           {
            "line": {
             "colorbar": {
              "outlinewidth": 0,
              "ticks": ""
             }
            },
            "type": "parcoords"
           }
          ],
          "pie": [
           {
            "automargin": true,
            "type": "pie"
           }
          ],
          "scatter": [
           {
            "marker": {
             "colorbar": {
              "outlinewidth": 0,
              "ticks": ""
             }
            },
            "type": "scatter"
           }
          ],
          "scatter3d": [
           {
            "line": {
             "colorbar": {
              "outlinewidth": 0,
              "ticks": ""
             }
            },
            "marker": {
             "colorbar": {
              "outlinewidth": 0,
              "ticks": ""
             }
            },
            "type": "scatter3d"
           }
          ],
          "scattercarpet": [
           {
            "marker": {
             "colorbar": {
              "outlinewidth": 0,
              "ticks": ""
             }
            },
            "type": "scattercarpet"
           }
          ],
          "scattergeo": [
           {
            "marker": {
             "colorbar": {
              "outlinewidth": 0,
              "ticks": ""
             }
            },
            "type": "scattergeo"
           }
          ],
          "scattergl": [
           {
            "marker": {
             "colorbar": {
              "outlinewidth": 0,
              "ticks": ""
             }
            },
            "type": "scattergl"
           }
          ],
          "scattermapbox": [
           {
            "marker": {
             "colorbar": {
              "outlinewidth": 0,
              "ticks": ""
             }
            },
            "type": "scattermapbox"
           }
          ],
          "scatterpolar": [
           {
            "marker": {
             "colorbar": {
              "outlinewidth": 0,
              "ticks": ""
             }
            },
            "type": "scatterpolar"
           }
          ],
          "scatterpolargl": [
           {
            "marker": {
             "colorbar": {
              "outlinewidth": 0,
              "ticks": ""
             }
            },
            "type": "scatterpolargl"
           }
          ],
          "scatterternary": [
           {
            "marker": {
             "colorbar": {
              "outlinewidth": 0,
              "ticks": ""
             }
            },
            "type": "scatterternary"
           }
          ],
          "surface": [
           {
            "colorbar": {
             "outlinewidth": 0,
             "ticks": ""
            },
            "colorscale": [
             [
              0,
              "#0d0887"
             ],
             [
              0.1111111111111111,
              "#46039f"
             ],
             [
              0.2222222222222222,
              "#7201a8"
             ],
             [
              0.3333333333333333,
              "#9c179e"
             ],
             [
              0.4444444444444444,
              "#bd3786"
             ],
             [
              0.5555555555555556,
              "#d8576b"
             ],
             [
              0.6666666666666666,
              "#ed7953"
             ],
             [
              0.7777777777777778,
              "#fb9f3a"
             ],
             [
              0.8888888888888888,
              "#fdca26"
             ],
             [
              1,
              "#f0f921"
             ]
            ],
            "type": "surface"
           }
          ],
          "table": [
           {
            "cells": {
             "fill": {
              "color": "#EBF0F8"
             },
             "line": {
              "color": "white"
             }
            },
            "header": {
             "fill": {
              "color": "#C8D4E3"
             },
             "line": {
              "color": "white"
             }
            },
            "type": "table"
           }
          ]
         },
         "layout": {
          "annotationdefaults": {
           "arrowcolor": "#2a3f5f",
           "arrowhead": 0,
           "arrowwidth": 1
          },
          "coloraxis": {
           "colorbar": {
            "outlinewidth": 0,
            "ticks": ""
           }
          },
          "colorscale": {
           "diverging": [
            [
             0,
             "#8e0152"
            ],
            [
             0.1,
             "#c51b7d"
            ],
            [
             0.2,
             "#de77ae"
            ],
            [
             0.3,
             "#f1b6da"
            ],
            [
             0.4,
             "#fde0ef"
            ],
            [
             0.5,
             "#f7f7f7"
            ],
            [
             0.6,
             "#e6f5d0"
            ],
            [
             0.7,
             "#b8e186"
            ],
            [
             0.8,
             "#7fbc41"
            ],
            [
             0.9,
             "#4d9221"
            ],
            [
             1,
             "#276419"
            ]
           ],
           "sequential": [
            [
             0,
             "#0d0887"
            ],
            [
             0.1111111111111111,
             "#46039f"
            ],
            [
             0.2222222222222222,
             "#7201a8"
            ],
            [
             0.3333333333333333,
             "#9c179e"
            ],
            [
             0.4444444444444444,
             "#bd3786"
            ],
            [
             0.5555555555555556,
             "#d8576b"
            ],
            [
             0.6666666666666666,
             "#ed7953"
            ],
            [
             0.7777777777777778,
             "#fb9f3a"
            ],
            [
             0.8888888888888888,
             "#fdca26"
            ],
            [
             1,
             "#f0f921"
            ]
           ],
           "sequentialminus": [
            [
             0,
             "#0d0887"
            ],
            [
             0.1111111111111111,
             "#46039f"
            ],
            [
             0.2222222222222222,
             "#7201a8"
            ],
            [
             0.3333333333333333,
             "#9c179e"
            ],
            [
             0.4444444444444444,
             "#bd3786"
            ],
            [
             0.5555555555555556,
             "#d8576b"
            ],
            [
             0.6666666666666666,
             "#ed7953"
            ],
            [
             0.7777777777777778,
             "#fb9f3a"
            ],
            [
             0.8888888888888888,
             "#fdca26"
            ],
            [
             1,
             "#f0f921"
            ]
           ]
          },
          "colorway": [
           "#636efa",
           "#EF553B",
           "#00cc96",
           "#ab63fa",
           "#FFA15A",
           "#19d3f3",
           "#FF6692",
           "#B6E880",
           "#FF97FF",
           "#FECB52"
          ],
          "font": {
           "color": "#2a3f5f"
          },
          "geo": {
           "bgcolor": "white",
           "lakecolor": "white",
           "landcolor": "#E5ECF6",
           "showlakes": true,
           "showland": true,
           "subunitcolor": "white"
          },
          "hoverlabel": {
           "align": "left"
          },
          "hovermode": "closest",
          "mapbox": {
           "style": "light"
          },
          "paper_bgcolor": "white",
          "plot_bgcolor": "#E5ECF6",
          "polar": {
           "angularaxis": {
            "gridcolor": "white",
            "linecolor": "white",
            "ticks": ""
           },
           "bgcolor": "#E5ECF6",
           "radialaxis": {
            "gridcolor": "white",
            "linecolor": "white",
            "ticks": ""
           }
          },
          "scene": {
           "xaxis": {
            "backgroundcolor": "#E5ECF6",
            "gridcolor": "white",
            "gridwidth": 2,
            "linecolor": "white",
            "showbackground": true,
            "ticks": "",
            "zerolinecolor": "white"
           },
           "yaxis": {
            "backgroundcolor": "#E5ECF6",
            "gridcolor": "white",
            "gridwidth": 2,
            "linecolor": "white",
            "showbackground": true,
            "ticks": "",
            "zerolinecolor": "white"
           },
           "zaxis": {
            "backgroundcolor": "#E5ECF6",
            "gridcolor": "white",
            "gridwidth": 2,
            "linecolor": "white",
            "showbackground": true,
            "ticks": "",
            "zerolinecolor": "white"
           }
          },
          "shapedefaults": {
           "line": {
            "color": "#2a3f5f"
           }
          },
          "ternary": {
           "aaxis": {
            "gridcolor": "white",
            "linecolor": "white",
            "ticks": ""
           },
           "baxis": {
            "gridcolor": "white",
            "linecolor": "white",
            "ticks": ""
           },
           "bgcolor": "#E5ECF6",
           "caxis": {
            "gridcolor": "white",
            "linecolor": "white",
            "ticks": ""
           }
          },
          "title": {
           "x": 0.05
          },
          "xaxis": {
           "automargin": true,
           "gridcolor": "white",
           "linecolor": "white",
           "ticks": "",
           "title": {
            "standoff": 15
           },
           "zerolinecolor": "white",
           "zerolinewidth": 2
          },
          "yaxis": {
           "automargin": true,
           "gridcolor": "white",
           "linecolor": "white",
           "ticks": "",
           "title": {
            "standoff": 15
           },
           "zerolinecolor": "white",
           "zerolinewidth": 2
          }
         }
        },
        "title": {
         "font": {
          "size": 28
         },
         "text": "Neural Network Model - Cr Compounds Young's Modulus"
        },
        "width": 1000,
        "xaxis": {
         "gridwidth": 1,
         "tickfont": {
          "size": 18
         },
         "title": {
          "font": {
           "size": 24
          },
          "text": "Real Values (GPa)"
         },
         "zeroline": false
        },
        "yaxis": {
         "gridwidth": 1,
         "tickfont": {
          "size": 18
         },
         "title": {
          "font": {
           "size": 24
          },
          "text": "Prediction (GPa)"
         },
         "zeroline": false
        }
       }
      },
      "text/html": [
       "<div>\n",
       "        \n",
       "        \n",
       "            <div id=\"80298c34-9890-4841-92b7-9cd8c8147e03\" class=\"plotly-graph-div\" style=\"height:600px; width:1000px;\"></div>\n",
       "            <script type=\"text/javascript\">\n",
       "                require([\"plotly\"], function(Plotly) {\n",
       "                    window.PLOTLYENV=window.PLOTLYENV || {};\n",
       "                    \n",
       "                if (document.getElementById(\"80298c34-9890-4841-92b7-9cd8c8147e03\")) {\n",
       "                    Plotly.newPlot(\n",
       "                        '80298c34-9890-4841-92b7-9cd8c8147e03',\n",
       "                        [{\"marker\": {\"color\": \"blue\", \"size\": 12}, \"mode\": \"markers\", \"name\": \"Young's Modulus (Training)\", \"text\": [\"CrNi3\", \"CrIr3\", \"CrRh3\", \"TiCr2\", \"Cr5B3\", \"Cr2B\", \"Be12Cr\", \"AlCr2\", \"CrO2\", \"Cr2O3\", \"Cr3Ge\", \"Cr3C2\", \"CrP\", \"TaCr2\", \"CrH\", \"CrBr3\", \"Be2Cr\", \"NbCr2\", \"CrF3\", \"TiCr2\", \"CrF5\", \"Cr23C6\", \"Cr3Si\", \"CrP4\", \"CrNi2\", \"HfCr2\", \"Al3Cr\", \"Cr2N\", \"CrSi2\", \"ZrCr2\", \"CrS2\", \"U2CrN3\", \"Mn(CrSe2)2\", \"Dy2Cr2C3\", \"Y2Cr2C3\", \"Mg2CrN3\", \"MgCrO4\", \"Cr2GaC\", \"CrAgS2\", \"CrCuO2\", \"AlCrRu2\", \"Mn2CrCo\", \"Ta2CrRu\", \"Tm2Cr2C3\", \"Tb2Cr2C3\", \"Zn2CrN3\", \"Li6CrN4\", \"TiCrP\", \"CrTe4Au\", \"Sr3CrN3\", \"LiCrO2\", \"Cr2GeC\", \"NbCrP\", \"Zn(CrSe2)2\", \"CrNiAs\", \"ScCrC2\", \"Rb2CrF6\", \"NaCrS2\", \"AlCr3B4\", \"Ho2Cr2C3\", \"V2CrFe\", \"V2CrRu\", \"Ca3CrN3\", \"BeCrRu2\", \"CrAuO2\", \"Ca2CrN3\", \"Na2CrO4\", \"LaCrO3\", \"CrAgO2\", \"U(Cr3P2)2\", \"LiCrS2\", \"CrCuO2\", \"CrCuS2\", \"Al(CrB)2\", \"MnV2Cr\", \"Mn2AlCr\", \"V2CrRe\", \"V2CrTc\", \"AlCr2C\", \"NaCrN2\", \"Cr3PtN\", \"CrPbO4\", \"CrBO3\", \"CrFeP\", \"Cs2CrCl4\", \"CrAgSe2\", \"KCrS2\", \"Ti2CrIr\", \"V2CrOs\", \"K2NaCrF6\", \"HoCr2Si2C\", \"Sr2TaCrO6\", \"KRb2CrF6\", \"Rb2NaCrF6\"], \"type\": \"scatter\", \"x\": [270.90000000000003, 522.16, 371.46, 199.5, 482.16, 458.8, 313.92, 261.62, 267.5, 287.02, 320.0, 432.64, 325.68, 224.1, 345.24, 12.6, 366.56, 175.36, 86.58000000000001, 199.5, 10.08, 358.8, 381.92, 236.0, 288.9600000000001, 182.24, 197.54, 361.2, 399.04, 152.32, 30.42, 262.6, 73.8, 179.4, 192.4, 127.68, 100.86, 287.68, 70.2, 154.28, 291.54, 240.56, 251.92, 200.2, 176.8, 159.60000000000005, 168.48, 307.5, 53.81999999999999, 76.88, 209.16, 216.48, 289.56, 80.60000000000002, 158.6, 329.84, 33.02, 92.5, 440.44, 188.64, 278.2, 277.72, 127.5, 268.66, 164.92000000000004, 81.0, 49.02, 220.16, 121.5, 228.16, 110.08, 154.28, 107.42, 416.5, 259.38, 261.12, 293.44, 264.62, 324.28, 92.88, 395.0, 46.08, 272.5, 357.5, 27.94, 61.64, 87.12, 208.56, 325.0, 91.7, 270.84, 269.64, 65.34, 64.8], \"y\": [278.4844970703125, 531.4387817382812, 377.692138671875, 202.42555236816406, 486.13250732421875, 473.5899353027344, 316.04156494140625, 262.0813293457031, 266.0693359375, 285.47357177734375, 323.283203125, 435.6742858886719, 330.8373718261719, 232.43898010253906, 348.28497314453125, 10.690352439880371, 372.1637268066406, 185.9577178955078, 83.94706726074219, 204.797119140625, 9.412911415100098, 362.56927490234375, 387.5706787109375, 237.766357421875, 292.99945068359375, 188.66818237304688, 196.5013885498047, 365.79888916015625, 408.94989013671875, 157.30506896972656, 30.841642379760742, 268.88543701171875, 71.2445297241211, 181.6566925048828, 194.70057678222656, 130.14422607421875, 97.35293579101562, 289.42694091796875, 72.2028579711914, 156.4638214111328, 294.6570129394531, 244.2018280029297, 264.82244873046875, 202.96434020996094, 179.0080108642578, 162.40521240234375, 165.7006378173828, 309.95623779296875, 50.665367126464844, 71.64571380615234, 206.77760314941406, 218.9674072265625, 292.7033996582031, 81.01170349121094, 160.44386291503906, 332.259521484375, 31.772356033325195, 91.15689086914062, 446.6152038574219, 191.34376525878906, 282.51312255859375, 282.61883544921875, 125.03460693359375, 276.9505615234375, 166.25567626953125, 86.355224609375, 64.61924743652344, 212.43812561035156, 123.32238006591797, 229.9617462158203, 110.19755554199219, 155.56399536132812, 108.65130615234375, 425.327392578125, 264.8294982910156, 262.11187744140625, 297.357666015625, 270.6205749511719, 327.0743713378906, 94.63433837890625, 401.3900146484375, 49.29656982421875, 272.48553466796875, 361.00994873046875, 26.549068450927734, 73.55455017089844, 84.0748291015625, 210.63047790527344, 329.1014404296875, 94.58537292480469, 273.4449157714844, 262.3476257324219, 76.99759674072266, 58.71022033691406]}, {\"marker\": {\"color\": \"red\", \"size\": 12}, \"mode\": \"markers\", \"name\": \"Young's Modulus (Testing)\", \"text\": [\"LiCrS2\", \"CrCuO2\", \"CrCuS2\", \"Al(CrB)2\", \"MnV2Cr\", \"Mn2AlCr\", \"V2CrRe\", \"V2CrTc\", \"AlCr2C\", \"NaCrN2\", \"Cr3PtN\", \"CrPbO4\", \"CrBO3\", \"CrFeP\", \"Cs2CrCl4\", \"CrAgSe2\", \"KCrS2\", \"Ti2CrIr\", \"V2CrOs\", \"K2NaCrF6\", \"HoCr2Si2C\", \"Sr2TaCrO6\", \"KRb2CrF6\", \"Rb2NaCrF6\"], \"type\": \"scatter\", \"x\": [110.08, 154.28, 107.42, 416.5, 259.38, 261.12, 293.44, 264.62, 324.28, 92.88, 395.0, 46.08, 272.5, 357.5, 27.94, 61.64, 87.12, 208.56, 325.0, 91.7, 270.84, 269.64, 65.34, 64.8], \"y\": [110.19755554199219, 155.56399536132812, 108.65130615234375, 425.327392578125, 264.8294982910156, 262.11187744140625, 297.357666015625, 270.6205749511719, 327.0743713378906, 94.63433837890625, 401.3900146484375, 49.29656982421875, 272.48553466796875, 361.00994873046875, 26.549068450927734, 73.55455017089844, 84.0748291015625, 210.63047790527344, 329.1014404296875, 94.58537292480469, 273.4449157714844, 262.3476257324219, 76.99759674072266, 58.71022033691406]}, {\"mode\": \"lines\", \"name\": \"Match\", \"type\": \"scatter\", \"x\": [0, 600], \"y\": [0, 600]}],\n",
       "                        {\"height\": 600, \"hovermode\": \"closest\", \"legend\": {\"font\": {\"size\": 24}}, \"showlegend\": true, \"template\": {\"data\": {\"bar\": [{\"error_x\": {\"color\": \"#2a3f5f\"}, \"error_y\": {\"color\": \"#2a3f5f\"}, \"marker\": {\"line\": {\"color\": \"#E5ECF6\", \"width\": 0.5}}, \"type\": \"bar\"}], \"barpolar\": [{\"marker\": {\"line\": {\"color\": \"#E5ECF6\", \"width\": 0.5}}, \"type\": \"barpolar\"}], \"carpet\": [{\"aaxis\": {\"endlinecolor\": \"#2a3f5f\", \"gridcolor\": \"white\", \"linecolor\": \"white\", \"minorgridcolor\": \"white\", \"startlinecolor\": \"#2a3f5f\"}, \"baxis\": {\"endlinecolor\": \"#2a3f5f\", \"gridcolor\": \"white\", \"linecolor\": \"white\", \"minorgridcolor\": \"white\", \"startlinecolor\": \"#2a3f5f\"}, \"type\": \"carpet\"}], \"choropleth\": [{\"colorbar\": {\"outlinewidth\": 0, \"ticks\": \"\"}, \"type\": \"choropleth\"}], \"contour\": [{\"colorbar\": {\"outlinewidth\": 0, \"ticks\": \"\"}, \"colorscale\": [[0.0, \"#0d0887\"], [0.1111111111111111, \"#46039f\"], [0.2222222222222222, \"#7201a8\"], [0.3333333333333333, \"#9c179e\"], [0.4444444444444444, \"#bd3786\"], [0.5555555555555556, \"#d8576b\"], [0.6666666666666666, \"#ed7953\"], [0.7777777777777778, \"#fb9f3a\"], [0.8888888888888888, \"#fdca26\"], [1.0, \"#f0f921\"]], \"type\": \"contour\"}], \"contourcarpet\": [{\"colorbar\": {\"outlinewidth\": 0, \"ticks\": \"\"}, \"type\": \"contourcarpet\"}], \"heatmap\": [{\"colorbar\": {\"outlinewidth\": 0, \"ticks\": \"\"}, \"colorscale\": [[0.0, \"#0d0887\"], [0.1111111111111111, \"#46039f\"], [0.2222222222222222, \"#7201a8\"], [0.3333333333333333, \"#9c179e\"], [0.4444444444444444, \"#bd3786\"], [0.5555555555555556, \"#d8576b\"], [0.6666666666666666, \"#ed7953\"], [0.7777777777777778, \"#fb9f3a\"], [0.8888888888888888, \"#fdca26\"], [1.0, \"#f0f921\"]], \"type\": \"heatmap\"}], \"heatmapgl\": [{\"colorbar\": {\"outlinewidth\": 0, \"ticks\": \"\"}, \"colorscale\": [[0.0, \"#0d0887\"], [0.1111111111111111, \"#46039f\"], [0.2222222222222222, \"#7201a8\"], [0.3333333333333333, \"#9c179e\"], [0.4444444444444444, \"#bd3786\"], [0.5555555555555556, \"#d8576b\"], [0.6666666666666666, \"#ed7953\"], [0.7777777777777778, \"#fb9f3a\"], [0.8888888888888888, \"#fdca26\"], [1.0, \"#f0f921\"]], \"type\": \"heatmapgl\"}], \"histogram\": [{\"marker\": {\"colorbar\": {\"outlinewidth\": 0, \"ticks\": \"\"}}, \"type\": \"histogram\"}], \"histogram2d\": [{\"colorbar\": {\"outlinewidth\": 0, \"ticks\": \"\"}, \"colorscale\": [[0.0, \"#0d0887\"], [0.1111111111111111, \"#46039f\"], [0.2222222222222222, \"#7201a8\"], [0.3333333333333333, \"#9c179e\"], [0.4444444444444444, \"#bd3786\"], [0.5555555555555556, \"#d8576b\"], [0.6666666666666666, \"#ed7953\"], [0.7777777777777778, \"#fb9f3a\"], [0.8888888888888888, \"#fdca26\"], [1.0, \"#f0f921\"]], \"type\": \"histogram2d\"}], \"histogram2dcontour\": [{\"colorbar\": {\"outlinewidth\": 0, \"ticks\": \"\"}, \"colorscale\": [[0.0, \"#0d0887\"], [0.1111111111111111, \"#46039f\"], [0.2222222222222222, \"#7201a8\"], [0.3333333333333333, \"#9c179e\"], [0.4444444444444444, \"#bd3786\"], [0.5555555555555556, \"#d8576b\"], [0.6666666666666666, \"#ed7953\"], [0.7777777777777778, \"#fb9f3a\"], [0.8888888888888888, \"#fdca26\"], [1.0, \"#f0f921\"]], \"type\": \"histogram2dcontour\"}], \"mesh3d\": [{\"colorbar\": {\"outlinewidth\": 0, \"ticks\": \"\"}, \"type\": \"mesh3d\"}], \"parcoords\": [{\"line\": {\"colorbar\": {\"outlinewidth\": 0, \"ticks\": \"\"}}, \"type\": \"parcoords\"}], \"pie\": [{\"automargin\": true, \"type\": \"pie\"}], \"scatter\": [{\"marker\": {\"colorbar\": {\"outlinewidth\": 0, \"ticks\": \"\"}}, \"type\": \"scatter\"}], \"scatter3d\": [{\"line\": {\"colorbar\": {\"outlinewidth\": 0, \"ticks\": \"\"}}, \"marker\": {\"colorbar\": {\"outlinewidth\": 0, \"ticks\": \"\"}}, \"type\": \"scatter3d\"}], \"scattercarpet\": [{\"marker\": {\"colorbar\": {\"outlinewidth\": 0, \"ticks\": \"\"}}, \"type\": \"scattercarpet\"}], \"scattergeo\": [{\"marker\": {\"colorbar\": {\"outlinewidth\": 0, \"ticks\": \"\"}}, \"type\": \"scattergeo\"}], \"scattergl\": [{\"marker\": {\"colorbar\": {\"outlinewidth\": 0, \"ticks\": \"\"}}, \"type\": \"scattergl\"}], \"scattermapbox\": [{\"marker\": {\"colorbar\": {\"outlinewidth\": 0, \"ticks\": \"\"}}, \"type\": \"scattermapbox\"}], \"scatterpolar\": [{\"marker\": {\"colorbar\": {\"outlinewidth\": 0, \"ticks\": \"\"}}, \"type\": \"scatterpolar\"}], \"scatterpolargl\": [{\"marker\": {\"colorbar\": {\"outlinewidth\": 0, \"ticks\": \"\"}}, \"type\": \"scatterpolargl\"}], \"scatterternary\": [{\"marker\": {\"colorbar\": {\"outlinewidth\": 0, \"ticks\": \"\"}}, \"type\": \"scatterternary\"}], \"surface\": [{\"colorbar\": {\"outlinewidth\": 0, \"ticks\": \"\"}, \"colorscale\": [[0.0, \"#0d0887\"], [0.1111111111111111, \"#46039f\"], [0.2222222222222222, \"#7201a8\"], [0.3333333333333333, \"#9c179e\"], [0.4444444444444444, \"#bd3786\"], [0.5555555555555556, \"#d8576b\"], [0.6666666666666666, \"#ed7953\"], [0.7777777777777778, \"#fb9f3a\"], [0.8888888888888888, \"#fdca26\"], [1.0, \"#f0f921\"]], \"type\": \"surface\"}], \"table\": [{\"cells\": {\"fill\": {\"color\": \"#EBF0F8\"}, \"line\": {\"color\": \"white\"}}, \"header\": {\"fill\": {\"color\": \"#C8D4E3\"}, \"line\": {\"color\": \"white\"}}, \"type\": \"table\"}]}, \"layout\": {\"annotationdefaults\": {\"arrowcolor\": \"#2a3f5f\", \"arrowhead\": 0, \"arrowwidth\": 1}, \"coloraxis\": {\"colorbar\": {\"outlinewidth\": 0, \"ticks\": \"\"}}, \"colorscale\": {\"diverging\": [[0, \"#8e0152\"], [0.1, \"#c51b7d\"], [0.2, \"#de77ae\"], [0.3, \"#f1b6da\"], [0.4, \"#fde0ef\"], [0.5, \"#f7f7f7\"], [0.6, \"#e6f5d0\"], [0.7, \"#b8e186\"], [0.8, \"#7fbc41\"], [0.9, \"#4d9221\"], [1, \"#276419\"]], \"sequential\": [[0.0, \"#0d0887\"], [0.1111111111111111, \"#46039f\"], [0.2222222222222222, \"#7201a8\"], [0.3333333333333333, \"#9c179e\"], [0.4444444444444444, \"#bd3786\"], [0.5555555555555556, \"#d8576b\"], [0.6666666666666666, \"#ed7953\"], [0.7777777777777778, \"#fb9f3a\"], [0.8888888888888888, \"#fdca26\"], [1.0, \"#f0f921\"]], \"sequentialminus\": [[0.0, \"#0d0887\"], [0.1111111111111111, \"#46039f\"], [0.2222222222222222, \"#7201a8\"], [0.3333333333333333, \"#9c179e\"], [0.4444444444444444, \"#bd3786\"], [0.5555555555555556, \"#d8576b\"], [0.6666666666666666, \"#ed7953\"], [0.7777777777777778, \"#fb9f3a\"], [0.8888888888888888, \"#fdca26\"], [1.0, \"#f0f921\"]]}, \"colorway\": [\"#636efa\", \"#EF553B\", \"#00cc96\", \"#ab63fa\", \"#FFA15A\", \"#19d3f3\", \"#FF6692\", \"#B6E880\", \"#FF97FF\", \"#FECB52\"], \"font\": {\"color\": \"#2a3f5f\"}, \"geo\": {\"bgcolor\": \"white\", \"lakecolor\": \"white\", \"landcolor\": \"#E5ECF6\", \"showlakes\": true, \"showland\": true, \"subunitcolor\": \"white\"}, \"hoverlabel\": {\"align\": \"left\"}, \"hovermode\": \"closest\", \"mapbox\": {\"style\": \"light\"}, \"paper_bgcolor\": \"white\", \"plot_bgcolor\": \"#E5ECF6\", \"polar\": {\"angularaxis\": {\"gridcolor\": \"white\", \"linecolor\": \"white\", \"ticks\": \"\"}, \"bgcolor\": \"#E5ECF6\", \"radialaxis\": {\"gridcolor\": \"white\", \"linecolor\": \"white\", \"ticks\": \"\"}}, \"scene\": {\"xaxis\": {\"backgroundcolor\": \"#E5ECF6\", \"gridcolor\": \"white\", \"gridwidth\": 2, \"linecolor\": \"white\", \"showbackground\": true, \"ticks\": \"\", \"zerolinecolor\": \"white\"}, \"yaxis\": {\"backgroundcolor\": \"#E5ECF6\", \"gridcolor\": \"white\", \"gridwidth\": 2, \"linecolor\": \"white\", \"showbackground\": true, \"ticks\": \"\", \"zerolinecolor\": \"white\"}, \"zaxis\": {\"backgroundcolor\": \"#E5ECF6\", \"gridcolor\": \"white\", \"gridwidth\": 2, \"linecolor\": \"white\", \"showbackground\": true, \"ticks\": \"\", \"zerolinecolor\": \"white\"}}, \"shapedefaults\": {\"line\": {\"color\": \"#2a3f5f\"}}, \"ternary\": {\"aaxis\": {\"gridcolor\": \"white\", \"linecolor\": \"white\", \"ticks\": \"\"}, \"baxis\": {\"gridcolor\": \"white\", \"linecolor\": \"white\", \"ticks\": \"\"}, \"bgcolor\": \"#E5ECF6\", \"caxis\": {\"gridcolor\": \"white\", \"linecolor\": \"white\", \"ticks\": \"\"}}, \"title\": {\"x\": 0.05}, \"xaxis\": {\"automargin\": true, \"gridcolor\": \"white\", \"linecolor\": \"white\", \"ticks\": \"\", \"title\": {\"standoff\": 15}, \"zerolinecolor\": \"white\", \"zerolinewidth\": 2}, \"yaxis\": {\"automargin\": true, \"gridcolor\": \"white\", \"linecolor\": \"white\", \"ticks\": \"\", \"title\": {\"standoff\": 15}, \"zerolinecolor\": \"white\", \"zerolinewidth\": 2}}}, \"title\": {\"font\": {\"size\": 28}, \"text\": \"Neural Network Model - Cr Compounds Young's Modulus\"}, \"width\": 1000, \"xaxis\": {\"gridwidth\": 1, \"tickfont\": {\"size\": 18}, \"title\": {\"font\": {\"size\": 24}, \"text\": \"Real Values (GPa)\"}, \"zeroline\": false}, \"yaxis\": {\"gridwidth\": 1, \"tickfont\": {\"size\": 18}, \"title\": {\"font\": {\"size\": 24}, \"text\": \"Prediction (GPa)\"}, \"zeroline\": false}},\n",
       "                        {\"responsive\": true}\n",
       "                    ).then(function(){\n",
       "                            \n",
       "var gd = document.getElementById('80298c34-9890-4841-92b7-9cd8c8147e03');\n",
       "var x = new MutationObserver(function (mutations, observer) {{\n",
       "        var display = window.getComputedStyle(gd).display;\n",
       "        if (!display || display === 'none') {{\n",
       "            console.log([gd, 'removed!']);\n",
       "            Plotly.purge(gd);\n",
       "            observer.disconnect();\n",
       "        }}\n",
       "}});\n",
       "\n",
       "// Listen for the removal of the full notebook cells\n",
       "var notebookContainer = gd.closest('#notebook-container');\n",
       "if (notebookContainer) {{\n",
       "    x.observe(notebookContainer, {childList: true});\n",
       "}}\n",
       "\n",
       "// Listen for the clearing of the current output cell\n",
       "var outputEl = gd.closest('.output');\n",
       "if (outputEl) {{\n",
       "    x.observe(outputEl, {childList: true});\n",
       "}}\n",
       "\n",
       "                        })\n",
       "                };\n",
       "                });\n",
       "            </script>\n",
       "        </div>"
      ]
     },
     "metadata": {},
     "output_type": "display_data"
    }
   ],
   "source": [
    "import plotly\n",
    "import plotly.graph_objs as go\n",
    "from plotly.offline import iplot\n",
    "\n",
    "plotly.offline.init_notebook_mode(connected=True)\n",
    "\n",
    "layout0= go.Layout(title=go.layout.Title(text=\"Neural Network Model - Cr Compounds Young's Modulus\", font=dict(size=28)), hovermode= 'closest', width = 1000, height=600, showlegend=True,  # Hovermode establishes the way the labels that appear when you hover are arranged # Establishing a square plot width=height\n",
    "    xaxis= dict(title=go.layout.xaxis.Title(text='Real Values (GPa)', font=dict(size=24)), zeroline= False, gridwidth= 1, tickfont=dict(size=18)), # Axis Titles. Removing the X-axis Mark. Adding a Grid\n",
    "    yaxis= dict(title=go.layout.yaxis.Title(text='Prediction (GPa)', font=dict(size=24)), zeroline= False, gridwidth= 1, tickfont=dict(size=18)), # Axis Titles. Removing the Y-axis Mark. Adding a Grid\n",
    "    legend=dict(font=dict(size=24))) # Adding a legend\n",
    "\n",
    "trace0 = go.Scatter(x = all_labels, y = predictions, mode = 'markers', marker= dict(size= 12, color= 'blue'), text= elements, name = 'Young\\'s Modulus (Training)')\n",
    "trace1 = go.Scatter(x = test_labels, y = test_predictions, mode = 'markers', marker= dict(size= 12, color= 'red'), text = labeled_elements, name = 'Young\\'s Modulus (Testing)')\n",
    "trace2 = go.Scatter(x = [0,600], y = [0,600], mode = 'lines', name = \"Match\") # This trace is the line X = Y which would indicate that the Prediction equals the real value\n",
    "\n",
    "data = [trace0, trace1, trace2]\n",
    "fig= go.Figure(data, layout=layout0)\n",
    "iplot(fig)"
   ]
  },
  {
   "cell_type": "code",
   "execution_count": 15,
   "metadata": {},
   "outputs": [
    {
     "name": "stdout",
     "output_type": "stream",
     "text": [
      "94/94 - 0s - loss: 7.6801e-06 - mean_absolute_error: 7.6801e-06\n",
      "Loss: 7.680121898181127e-06, Accuracy: 7.680121598241385e-06\n"
     ]
    }
   ],
   "source": [
    "model_loss, model_accuracy = model.evaluate(values, predictions,verbose=2)\n",
    "print(f\"Loss: {model_loss}, Accuracy: {model_accuracy}\")"
   ]
  }
 ],
 "metadata": {
  "kernelspec": {
   "display_name": "PythonData",
   "language": "python",
   "name": "pythondata"
  },
  "language_info": {
   "codemirror_mode": {
    "name": "ipython",
    "version": 3
   },
   "file_extension": ".py",
   "mimetype": "text/x-python",
   "name": "python",
   "nbconvert_exporter": "python",
   "pygments_lexer": "ipython3",
   "version": "3.7.7"
  }
 },
 "nbformat": 4,
 "nbformat_minor": 2
}
