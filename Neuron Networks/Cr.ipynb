{
 "cells": [
  {
   "cell_type": "markdown",
   "metadata": {},
   "source": [
    "### 1. Getting a dataset\n",
    "\n",
    "We have 12 datasets to explore in this notebook to predict the Young's Modulus with a three-layer neuron networks model with 2000 epochs. "
   ]
  },
  {
   "cell_type": "code",
   "execution_count": 1,
   "metadata": {},
   "outputs": [
    {
     "name": "stderr",
     "output_type": "stream",
     "text": [
      "C:\\Users\\Kayla Yano\\anaconda3\\envs\\PythonData\\lib\\site-packages\\tensorflow\\python\\framework\\dtypes.py:516: FutureWarning: Passing (type, 1) or '1type' as a synonym of type is deprecated; in a future version of numpy, it will be understood as (type, (1,)) / '(1,)type'.\n",
      "  _np_qint8 = np.dtype([(\"qint8\", np.int8, 1)])\n",
      "C:\\Users\\Kayla Yano\\anaconda3\\envs\\PythonData\\lib\\site-packages\\tensorflow\\python\\framework\\dtypes.py:517: FutureWarning: Passing (type, 1) or '1type' as a synonym of type is deprecated; in a future version of numpy, it will be understood as (type, (1,)) / '(1,)type'.\n",
      "  _np_quint8 = np.dtype([(\"quint8\", np.uint8, 1)])\n",
      "C:\\Users\\Kayla Yano\\anaconda3\\envs\\PythonData\\lib\\site-packages\\tensorflow\\python\\framework\\dtypes.py:518: FutureWarning: Passing (type, 1) or '1type' as a synonym of type is deprecated; in a future version of numpy, it will be understood as (type, (1,)) / '(1,)type'.\n",
      "  _np_qint16 = np.dtype([(\"qint16\", np.int16, 1)])\n",
      "C:\\Users\\Kayla Yano\\anaconda3\\envs\\PythonData\\lib\\site-packages\\tensorflow\\python\\framework\\dtypes.py:519: FutureWarning: Passing (type, 1) or '1type' as a synonym of type is deprecated; in a future version of numpy, it will be understood as (type, (1,)) / '(1,)type'.\n",
      "  _np_quint16 = np.dtype([(\"quint16\", np.uint16, 1)])\n",
      "C:\\Users\\Kayla Yano\\anaconda3\\envs\\PythonData\\lib\\site-packages\\tensorflow\\python\\framework\\dtypes.py:520: FutureWarning: Passing (type, 1) or '1type' as a synonym of type is deprecated; in a future version of numpy, it will be understood as (type, (1,)) / '(1,)type'.\n",
      "  _np_qint32 = np.dtype([(\"qint32\", np.int32, 1)])\n",
      "C:\\Users\\Kayla Yano\\anaconda3\\envs\\PythonData\\lib\\site-packages\\tensorflow\\python\\framework\\dtypes.py:525: FutureWarning: Passing (type, 1) or '1type' as a synonym of type is deprecated; in a future version of numpy, it will be understood as (type, (1,)) / '(1,)type'.\n",
      "  np_resource = np.dtype([(\"resource\", np.ubyte, 1)])\n",
      "C:\\Users\\Kayla Yano\\anaconda3\\envs\\PythonData\\lib\\site-packages\\tensorboard\\compat\\tensorflow_stub\\dtypes.py:541: FutureWarning: Passing (type, 1) or '1type' as a synonym of type is deprecated; in a future version of numpy, it will be understood as (type, (1,)) / '(1,)type'.\n",
      "  _np_qint8 = np.dtype([(\"qint8\", np.int8, 1)])\n",
      "C:\\Users\\Kayla Yano\\anaconda3\\envs\\PythonData\\lib\\site-packages\\tensorboard\\compat\\tensorflow_stub\\dtypes.py:542: FutureWarning: Passing (type, 1) or '1type' as a synonym of type is deprecated; in a future version of numpy, it will be understood as (type, (1,)) / '(1,)type'.\n",
      "  _np_quint8 = np.dtype([(\"quint8\", np.uint8, 1)])\n",
      "C:\\Users\\Kayla Yano\\anaconda3\\envs\\PythonData\\lib\\site-packages\\tensorboard\\compat\\tensorflow_stub\\dtypes.py:543: FutureWarning: Passing (type, 1) or '1type' as a synonym of type is deprecated; in a future version of numpy, it will be understood as (type, (1,)) / '(1,)type'.\n",
      "  _np_qint16 = np.dtype([(\"qint16\", np.int16, 1)])\n",
      "C:\\Users\\Kayla Yano\\anaconda3\\envs\\PythonData\\lib\\site-packages\\tensorboard\\compat\\tensorflow_stub\\dtypes.py:544: FutureWarning: Passing (type, 1) or '1type' as a synonym of type is deprecated; in a future version of numpy, it will be understood as (type, (1,)) / '(1,)type'.\n",
      "  _np_quint16 = np.dtype([(\"quint16\", np.uint16, 1)])\n",
      "C:\\Users\\Kayla Yano\\anaconda3\\envs\\PythonData\\lib\\site-packages\\tensorboard\\compat\\tensorflow_stub\\dtypes.py:545: FutureWarning: Passing (type, 1) or '1type' as a synonym of type is deprecated; in a future version of numpy, it will be understood as (type, (1,)) / '(1,)type'.\n",
      "  _np_qint32 = np.dtype([(\"qint32\", np.int32, 1)])\n",
      "C:\\Users\\Kayla Yano\\anaconda3\\envs\\PythonData\\lib\\site-packages\\tensorboard\\compat\\tensorflow_stub\\dtypes.py:550: FutureWarning: Passing (type, 1) or '1type' as a synonym of type is deprecated; in a future version of numpy, it will be understood as (type, (1,)) / '(1,)type'.\n",
      "  np_resource = np.dtype([(\"resource\", np.ubyte, 1)])\n"
     ]
    }
   ],
   "source": [
    "import pymatgen as pymat\n",
    "import mendeleev as mendel\n",
    "import pandas as pd\n",
    "import numpy as np\n",
    "from pathlib import Path\n",
    "import tensorflow as tf\n",
    "import tensorflow.keras\n",
    "from tensorflow.keras import initializers\n",
    "from tensorflow.keras.layers import Dense\n",
    "from tensorflow.keras.models import Sequential\n",
    "from tensorflow.keras import optimizers\n",
    "\n",
    "import sys\n",
    "import os\n",
    "sys.path.insert(0, '../src/')\n",
    "\n",
    "%matplotlib inline\n",
    "import matplotlib.pyplot as plt"
   ]
  },
  {
   "cell_type": "code",
   "execution_count": 30,
   "metadata": {
    "scrolled": true
   },
   "outputs": [
    {
     "data": {
      "text/html": [
       "<div>\n",
       "<style scoped>\n",
       "    .dataframe tbody tr th:only-of-type {\n",
       "        vertical-align: middle;\n",
       "    }\n",
       "\n",
       "    .dataframe tbody tr th {\n",
       "        vertical-align: top;\n",
       "    }\n",
       "\n",
       "    .dataframe thead th {\n",
       "        text-align: right;\n",
       "    }\n",
       "</style>\n",
       "<table border=\"1\" class=\"dataframe\">\n",
       "  <thead>\n",
       "    <tr style=\"text-align: right;\">\n",
       "      <th></th>\n",
       "      <th>Unnamed: 0</th>\n",
       "      <th>mp_id</th>\n",
       "      <th>Formula</th>\n",
       "      <th>Composition</th>\n",
       "      <th>IPF</th>\n",
       "      <th>Density</th>\n",
       "      <th>Elastic_Tensor</th>\n",
       "      <th>E_above_Hull</th>\n",
       "      <th>G_VRH</th>\n",
       "      <th>K_VRH</th>\n",
       "      <th>Elastic_Anisotropy</th>\n",
       "      <th>poisson_ratio</th>\n",
       "      <th>Y_Modulus</th>\n",
       "    </tr>\n",
       "  </thead>\n",
       "  <tbody>\n",
       "    <tr>\n",
       "      <th>0</th>\n",
       "      <td>0</td>\n",
       "      <td>mp-1007923</td>\n",
       "      <td>CrNi3</td>\n",
       "      <td>{'Cr': 1.0, 'Ni': 3.0}</td>\n",
       "      <td>0.195062</td>\n",
       "      <td>8.618942</td>\n",
       "      <td>{'G_Reuss': 97.0, 'G_VRH': 105.0, 'G_Voigt': 1...</td>\n",
       "      <td>0.269450</td>\n",
       "      <td>105.0</td>\n",
       "      <td>222.0</td>\n",
       "      <td>0.82</td>\n",
       "      <td>0.29</td>\n",
       "      <td>270.90</td>\n",
       "    </tr>\n",
       "    <tr>\n",
       "      <th>1</th>\n",
       "      <td>1</td>\n",
       "      <td>mp-12083</td>\n",
       "      <td>CrIr3</td>\n",
       "      <td>{'Cr': 1.0, 'Ir': 3.0}</td>\n",
       "      <td>0.162656</td>\n",
       "      <td>18.648439</td>\n",
       "      <td>{'G_Reuss': 208.0, 'G_VRH': 214.0, 'G_Voigt': ...</td>\n",
       "      <td>0.000000</td>\n",
       "      <td>214.0</td>\n",
       "      <td>307.0</td>\n",
       "      <td>0.28</td>\n",
       "      <td>0.22</td>\n",
       "      <td>522.16</td>\n",
       "    </tr>\n",
       "    <tr>\n",
       "      <th>2</th>\n",
       "      <td>2</td>\n",
       "      <td>mp-12585</td>\n",
       "      <td>CrRh3</td>\n",
       "      <td>{'Cr': 1.0, 'Rh': 3.0}</td>\n",
       "      <td>0.157080</td>\n",
       "      <td>10.845463</td>\n",
       "      <td>{'G_Reuss': 146.0, 'G_VRH': 151.0, 'G_Voigt': ...</td>\n",
       "      <td>0.000000</td>\n",
       "      <td>151.0</td>\n",
       "      <td>230.0</td>\n",
       "      <td>0.38</td>\n",
       "      <td>0.23</td>\n",
       "      <td>371.46</td>\n",
       "    </tr>\n",
       "    <tr>\n",
       "      <th>3</th>\n",
       "      <td>3</td>\n",
       "      <td>mp-1425</td>\n",
       "      <td>TiCr2</td>\n",
       "      <td>{'Ti': 1.0, 'Cr': 2.0}</td>\n",
       "      <td>0.236119</td>\n",
       "      <td>6.237410</td>\n",
       "      <td>{'G_Reuss': 75.0, 'G_VRH': 75.0, 'G_Voigt': 75...</td>\n",
       "      <td>0.076833</td>\n",
       "      <td>75.0</td>\n",
       "      <td>199.0</td>\n",
       "      <td>0.03</td>\n",
       "      <td>0.33</td>\n",
       "      <td>199.50</td>\n",
       "    </tr>\n",
       "    <tr>\n",
       "      <th>4</th>\n",
       "      <td>4</td>\n",
       "      <td>mp-15617</td>\n",
       "      <td>Cr5B3</td>\n",
       "      <td>{'Cr': 5.0, 'B': 3.0}</td>\n",
       "      <td>0.247747</td>\n",
       "      <td>6.587366</td>\n",
       "      <td>{'G_Reuss': 195.0, 'G_VRH': 196.0, 'G_Voigt': ...</td>\n",
       "      <td>0.000000</td>\n",
       "      <td>196.0</td>\n",
       "      <td>291.0</td>\n",
       "      <td>0.03</td>\n",
       "      <td>0.23</td>\n",
       "      <td>482.16</td>\n",
       "    </tr>\n",
       "    <tr>\n",
       "      <th>...</th>\n",
       "      <td>...</td>\n",
       "      <td>...</td>\n",
       "      <td>...</td>\n",
       "      <td>...</td>\n",
       "      <td>...</td>\n",
       "      <td>...</td>\n",
       "      <td>...</td>\n",
       "      <td>...</td>\n",
       "      <td>...</td>\n",
       "      <td>...</td>\n",
       "      <td>...</td>\n",
       "      <td>...</td>\n",
       "      <td>...</td>\n",
       "    </tr>\n",
       "    <tr>\n",
       "      <th>89</th>\n",
       "      <td>89</td>\n",
       "      <td>mp-554252</td>\n",
       "      <td>K2NaCrF6</td>\n",
       "      <td>{'K': 2.0, 'Na': 1.0, 'Cr': 1.0, 'F': 6.0}</td>\n",
       "      <td>0.321992</td>\n",
       "      <td>2.961003</td>\n",
       "      <td>{'G_Reuss': 35.0, 'G_VRH': 35.0, 'G_Voigt': 35...</td>\n",
       "      <td>0.000000</td>\n",
       "      <td>35.0</td>\n",
       "      <td>79.0</td>\n",
       "      <td>0.00</td>\n",
       "      <td>0.31</td>\n",
       "      <td>91.70</td>\n",
       "    </tr>\n",
       "    <tr>\n",
       "      <th>90</th>\n",
       "      <td>90</td>\n",
       "      <td>mp-1024999</td>\n",
       "      <td>HoCr2Si2C</td>\n",
       "      <td>{'Ho': 1.0, 'Cr': 2.0, 'Si': 2.0, 'C': 1.0}</td>\n",
       "      <td>0.160212</td>\n",
       "      <td>6.837675</td>\n",
       "      <td>{'G_Reuss': 110.0, 'G_VRH': 111.0, 'G_Voigt': ...</td>\n",
       "      <td>0.000000</td>\n",
       "      <td>111.0</td>\n",
       "      <td>160.0</td>\n",
       "      <td>0.16</td>\n",
       "      <td>0.22</td>\n",
       "      <td>270.84</td>\n",
       "    </tr>\n",
       "    <tr>\n",
       "      <th>91</th>\n",
       "      <td>91</td>\n",
       "      <td>mp-31624</td>\n",
       "      <td>Sr2TaCrO6</td>\n",
       "      <td>{'Sr': 2.0, 'Ta': 1.0, 'Cr': 1.0, 'O': 6.0}</td>\n",
       "      <td>0.589968</td>\n",
       "      <td>6.556700</td>\n",
       "      <td>{'G_Reuss': 107.0, 'G_VRH': 107.0, 'G_Voigt': ...</td>\n",
       "      <td>0.000000</td>\n",
       "      <td>107.0</td>\n",
       "      <td>187.0</td>\n",
       "      <td>0.02</td>\n",
       "      <td>0.26</td>\n",
       "      <td>269.64</td>\n",
       "    </tr>\n",
       "    <tr>\n",
       "      <th>92</th>\n",
       "      <td>92</td>\n",
       "      <td>mp-556264</td>\n",
       "      <td>KRb2CrF6</td>\n",
       "      <td>{'K': 1.0, 'Rb': 2.0, 'Cr': 1.0, 'F': 6.0}</td>\n",
       "      <td>0.358013</td>\n",
       "      <td>3.422393</td>\n",
       "      <td>{'G_Reuss': 25.0, 'G_VRH': 27.0, 'G_Voigt': 28...</td>\n",
       "      <td>0.343295</td>\n",
       "      <td>27.0</td>\n",
       "      <td>36.0</td>\n",
       "      <td>0.48</td>\n",
       "      <td>0.21</td>\n",
       "      <td>65.34</td>\n",
       "    </tr>\n",
       "    <tr>\n",
       "      <th>93</th>\n",
       "      <td>93</td>\n",
       "      <td>mp-560936</td>\n",
       "      <td>Rb2NaCrF6</td>\n",
       "      <td>{'Rb': 2.0, 'Na': 1.0, 'Cr': 1.0, 'F': 6.0}</td>\n",
       "      <td>0.360392</td>\n",
       "      <td>3.769108</td>\n",
       "      <td>{'G_Reuss': 26.0, 'G_VRH': 27.0, 'G_Voigt': 27...</td>\n",
       "      <td>0.000000</td>\n",
       "      <td>27.0</td>\n",
       "      <td>36.0</td>\n",
       "      <td>0.17</td>\n",
       "      <td>0.20</td>\n",
       "      <td>64.80</td>\n",
       "    </tr>\n",
       "  </tbody>\n",
       "</table>\n",
       "<p>94 rows × 13 columns</p>\n",
       "</div>"
      ],
      "text/plain": [
       "    Unnamed: 0       mp_id    Formula  \\\n",
       "0            0  mp-1007923      CrNi3   \n",
       "1            1    mp-12083      CrIr3   \n",
       "2            2    mp-12585      CrRh3   \n",
       "3            3     mp-1425      TiCr2   \n",
       "4            4    mp-15617      Cr5B3   \n",
       "..         ...         ...        ...   \n",
       "89          89   mp-554252   K2NaCrF6   \n",
       "90          90  mp-1024999  HoCr2Si2C   \n",
       "91          91    mp-31624  Sr2TaCrO6   \n",
       "92          92   mp-556264   KRb2CrF6   \n",
       "93          93   mp-560936  Rb2NaCrF6   \n",
       "\n",
       "                                    Composition       IPF    Density  \\\n",
       "0                        {'Cr': 1.0, 'Ni': 3.0}  0.195062   8.618942   \n",
       "1                        {'Cr': 1.0, 'Ir': 3.0}  0.162656  18.648439   \n",
       "2                        {'Cr': 1.0, 'Rh': 3.0}  0.157080  10.845463   \n",
       "3                        {'Ti': 1.0, 'Cr': 2.0}  0.236119   6.237410   \n",
       "4                         {'Cr': 5.0, 'B': 3.0}  0.247747   6.587366   \n",
       "..                                          ...       ...        ...   \n",
       "89   {'K': 2.0, 'Na': 1.0, 'Cr': 1.0, 'F': 6.0}  0.321992   2.961003   \n",
       "90  {'Ho': 1.0, 'Cr': 2.0, 'Si': 2.0, 'C': 1.0}  0.160212   6.837675   \n",
       "91  {'Sr': 2.0, 'Ta': 1.0, 'Cr': 1.0, 'O': 6.0}  0.589968   6.556700   \n",
       "92   {'K': 1.0, 'Rb': 2.0, 'Cr': 1.0, 'F': 6.0}  0.358013   3.422393   \n",
       "93  {'Rb': 2.0, 'Na': 1.0, 'Cr': 1.0, 'F': 6.0}  0.360392   3.769108   \n",
       "\n",
       "                                       Elastic_Tensor  E_above_Hull  G_VRH  \\\n",
       "0   {'G_Reuss': 97.0, 'G_VRH': 105.0, 'G_Voigt': 1...      0.269450  105.0   \n",
       "1   {'G_Reuss': 208.0, 'G_VRH': 214.0, 'G_Voigt': ...      0.000000  214.0   \n",
       "2   {'G_Reuss': 146.0, 'G_VRH': 151.0, 'G_Voigt': ...      0.000000  151.0   \n",
       "3   {'G_Reuss': 75.0, 'G_VRH': 75.0, 'G_Voigt': 75...      0.076833   75.0   \n",
       "4   {'G_Reuss': 195.0, 'G_VRH': 196.0, 'G_Voigt': ...      0.000000  196.0   \n",
       "..                                                ...           ...    ...   \n",
       "89  {'G_Reuss': 35.0, 'G_VRH': 35.0, 'G_Voigt': 35...      0.000000   35.0   \n",
       "90  {'G_Reuss': 110.0, 'G_VRH': 111.0, 'G_Voigt': ...      0.000000  111.0   \n",
       "91  {'G_Reuss': 107.0, 'G_VRH': 107.0, 'G_Voigt': ...      0.000000  107.0   \n",
       "92  {'G_Reuss': 25.0, 'G_VRH': 27.0, 'G_Voigt': 28...      0.343295   27.0   \n",
       "93  {'G_Reuss': 26.0, 'G_VRH': 27.0, 'G_Voigt': 27...      0.000000   27.0   \n",
       "\n",
       "    K_VRH  Elastic_Anisotropy  poisson_ratio  Y_Modulus  \n",
       "0   222.0                0.82           0.29     270.90  \n",
       "1   307.0                0.28           0.22     522.16  \n",
       "2   230.0                0.38           0.23     371.46  \n",
       "3   199.0                0.03           0.33     199.50  \n",
       "4   291.0                0.03           0.23     482.16  \n",
       "..    ...                 ...            ...        ...  \n",
       "89   79.0                0.00           0.31      91.70  \n",
       "90  160.0                0.16           0.22     270.84  \n",
       "91  187.0                0.02           0.26     269.64  \n",
       "92   36.0                0.48           0.21      65.34  \n",
       "93   36.0                0.17           0.20      64.80  \n",
       "\n",
       "[94 rows x 13 columns]"
      ]
     },
     "execution_count": 30,
     "metadata": {},
     "output_type": "execute_result"
    }
   ],
   "source": [
    "# df = pd.read_csv(Path('../All Data Export/Ti_compounds_dataframe.csv'))\n",
    "# df = pd.read_csv(Path('../All Data Export/C_compounds_dataframe.csv'))\n",
    "df = pd.read_csv(Path('../All Data Export/Cr_compounds_dataframe.csv'))\n",
    "# df = pd.read_csv(Path('../All Data Export/Fe_compounds_dataframe.csv'))\n",
    "# df = pd.read_csv(Path('../All Data Export/Hf_compounds_dataframe.csv'))\n",
    "# df = pd.read_csv(Path('../All Data Export/Mo_compounds_dataframe.csv'))\n",
    "# df = pd.read_csv(Path('../All Data Export/Nb_compounds_dataframe.csv'))\n",
    "# df = pd.read_csv(Path('../All Data Export/Ni_compounds_dataframe.csv'))\n",
    "# df = pd.read_csv(Path('../All Data Export/V_compounds_dataframe.csv'))\n",
    "# df = pd.read_csv(Path('../All Data Export/W_compounds_dataframe.csv'))\n",
    "# df = pd.read_csv(Path('../All Data Export/Zr_compounds_dataframe.csv'))\n",
    "# df = pd.read_csv(Path('../All Data Export/Ta_compounds_dataframe.csv'))\n",
    "df"
   ]
  },
  {
   "cell_type": "code",
   "execution_count": 31,
   "metadata": {},
   "outputs": [
    {
     "data": {
      "text/plain": [
       "Index(['Unnamed: 0', 'mp_id', 'Formula', 'Composition', 'IPF', 'Density',\n",
       "       'Elastic_Tensor', 'E_above_Hull', 'G_VRH', 'K_VRH',\n",
       "       'Elastic_Anisotropy', 'poisson_ratio', 'Y_Modulus'],\n",
       "      dtype='object')"
      ]
     },
     "execution_count": 31,
     "metadata": {},
     "output_type": "execute_result"
    }
   ],
   "source": [
    "df.columns"
   ]
  },
  {
   "cell_type": "code",
   "execution_count": 5,
   "metadata": {},
   "outputs": [
    {
     "data": {
      "text/html": [
       "<div>\n",
       "<style scoped>\n",
       "    .dataframe tbody tr th:only-of-type {\n",
       "        vertical-align: middle;\n",
       "    }\n",
       "\n",
       "    .dataframe tbody tr th {\n",
       "        vertical-align: top;\n",
       "    }\n",
       "\n",
       "    .dataframe thead th {\n",
       "        text-align: right;\n",
       "    }\n",
       "</style>\n",
       "<table border=\"1\" class=\"dataframe\">\n",
       "  <thead>\n",
       "    <tr style=\"text-align: right;\">\n",
       "      <th></th>\n",
       "      <th>IPF</th>\n",
       "      <th>Density</th>\n",
       "      <th>E_above_Hull</th>\n",
       "      <th>G_VRH</th>\n",
       "      <th>K_VRH</th>\n",
       "      <th>Elastic_Anisotropy</th>\n",
       "      <th>poisson_ratio</th>\n",
       "      <th>Y_Modulus</th>\n",
       "    </tr>\n",
       "  </thead>\n",
       "  <tbody>\n",
       "    <tr>\n",
       "      <th>0</th>\n",
       "      <td>0.035508</td>\n",
       "      <td>2.019464</td>\n",
       "      <td>0.0</td>\n",
       "      <td>98.0</td>\n",
       "      <td>125.0</td>\n",
       "      <td>141.62</td>\n",
       "      <td>0.19</td>\n",
       "      <td>233.24</td>\n",
       "    </tr>\n",
       "    <tr>\n",
       "      <th>1</th>\n",
       "      <td>0.001839</td>\n",
       "      <td>0.433068</td>\n",
       "      <td>0.0</td>\n",
       "      <td>0.0</td>\n",
       "      <td>1.0</td>\n",
       "      <td>13.33</td>\n",
       "      <td>0.30</td>\n",
       "      <td>0.00</td>\n",
       "    </tr>\n",
       "    <tr>\n",
       "      <th>2</th>\n",
       "      <td>0.131230</td>\n",
       "      <td>4.439769</td>\n",
       "      <td>0.0</td>\n",
       "      <td>78.0</td>\n",
       "      <td>139.0</td>\n",
       "      <td>1.07</td>\n",
       "      <td>0.26</td>\n",
       "      <td>196.56</td>\n",
       "    </tr>\n",
       "    <tr>\n",
       "      <th>3</th>\n",
       "      <td>0.107626</td>\n",
       "      <td>14.234281</td>\n",
       "      <td>0.0</td>\n",
       "      <td>215.0</td>\n",
       "      <td>324.0</td>\n",
       "      <td>0.30</td>\n",
       "      <td>0.23</td>\n",
       "      <td>528.90</td>\n",
       "    </tr>\n",
       "    <tr>\n",
       "      <th>4</th>\n",
       "      <td>0.140426</td>\n",
       "      <td>10.558534</td>\n",
       "      <td>0.0</td>\n",
       "      <td>73.0</td>\n",
       "      <td>139.0</td>\n",
       "      <td>0.04</td>\n",
       "      <td>0.28</td>\n",
       "      <td>186.88</td>\n",
       "    </tr>\n",
       "    <tr>\n",
       "      <th>...</th>\n",
       "      <td>...</td>\n",
       "      <td>...</td>\n",
       "      <td>...</td>\n",
       "      <td>...</td>\n",
       "      <td>...</td>\n",
       "      <td>...</td>\n",
       "      <td>...</td>\n",
       "      <td>...</td>\n",
       "    </tr>\n",
       "    <tr>\n",
       "      <th>228</th>\n",
       "      <td>0.104817</td>\n",
       "      <td>8.950758</td>\n",
       "      <td>0.0</td>\n",
       "      <td>77.0</td>\n",
       "      <td>176.0</td>\n",
       "      <td>0.30</td>\n",
       "      <td>0.31</td>\n",
       "      <td>201.74</td>\n",
       "    </tr>\n",
       "    <tr>\n",
       "      <th>229</th>\n",
       "      <td>0.119188</td>\n",
       "      <td>4.140778</td>\n",
       "      <td>0.0</td>\n",
       "      <td>101.0</td>\n",
       "      <td>167.0</td>\n",
       "      <td>0.22</td>\n",
       "      <td>0.25</td>\n",
       "      <td>252.50</td>\n",
       "    </tr>\n",
       "    <tr>\n",
       "      <th>230</th>\n",
       "      <td>0.133449</td>\n",
       "      <td>7.583527</td>\n",
       "      <td>0.0</td>\n",
       "      <td>81.0</td>\n",
       "      <td>126.0</td>\n",
       "      <td>0.61</td>\n",
       "      <td>0.24</td>\n",
       "      <td>200.88</td>\n",
       "    </tr>\n",
       "    <tr>\n",
       "      <th>231</th>\n",
       "      <td>0.138005</td>\n",
       "      <td>7.956046</td>\n",
       "      <td>0.0</td>\n",
       "      <td>55.0</td>\n",
       "      <td>204.0</td>\n",
       "      <td>1.68</td>\n",
       "      <td>0.38</td>\n",
       "      <td>151.80</td>\n",
       "    </tr>\n",
       "    <tr>\n",
       "      <th>232</th>\n",
       "      <td>0.457579</td>\n",
       "      <td>2.523224</td>\n",
       "      <td>0.0</td>\n",
       "      <td>29.0</td>\n",
       "      <td>50.0</td>\n",
       "      <td>0.07</td>\n",
       "      <td>0.25</td>\n",
       "      <td>72.50</td>\n",
       "    </tr>\n",
       "  </tbody>\n",
       "</table>\n",
       "<p>232 rows × 8 columns</p>\n",
       "</div>"
      ],
      "text/plain": [
       "          IPF    Density  E_above_Hull  G_VRH  K_VRH  Elastic_Anisotropy  \\\n",
       "0    0.035508   2.019464           0.0   98.0  125.0              141.62   \n",
       "1    0.001839   0.433068           0.0    0.0    1.0               13.33   \n",
       "2    0.131230   4.439769           0.0   78.0  139.0                1.07   \n",
       "3    0.107626  14.234281           0.0  215.0  324.0                0.30   \n",
       "4    0.140426  10.558534           0.0   73.0  139.0                0.04   \n",
       "..        ...        ...           ...    ...    ...                 ...   \n",
       "228  0.104817   8.950758           0.0   77.0  176.0                0.30   \n",
       "229  0.119188   4.140778           0.0  101.0  167.0                0.22   \n",
       "230  0.133449   7.583527           0.0   81.0  126.0                0.61   \n",
       "231  0.138005   7.956046           0.0   55.0  204.0                1.68   \n",
       "232  0.457579   2.523224           0.0   29.0   50.0                0.07   \n",
       "\n",
       "     poisson_ratio  Y_Modulus  \n",
       "0             0.19     233.24  \n",
       "1             0.30       0.00  \n",
       "2             0.26     196.56  \n",
       "3             0.23     528.90  \n",
       "4             0.28     186.88  \n",
       "..             ...        ...  \n",
       "228           0.31     201.74  \n",
       "229           0.25     252.50  \n",
       "230           0.24     200.88  \n",
       "231           0.38     151.80  \n",
       "232           0.25      72.50  \n",
       "\n",
       "[232 rows x 8 columns]"
      ]
     },
     "execution_count": 5,
     "metadata": {},
     "output_type": "execute_result"
    }
   ],
   "source": [
    "df.drop( df[ df['Y_Modulus'] < 0 ].index , inplace=True)\n",
    "df_original = df.copy\n",
    "elements = df['Formula'].tolist()\n",
    "df = df.drop(df.columns[[0, 1, 2, 3, 6]], axis=1)\n",
    "df"
   ]
  },
  {
   "cell_type": "markdown",
   "metadata": {},
   "source": [
    "### 2. Processing and Organizing Data\n",
    "\n",
    "Most machine learning models are trained on a subset of all the available data, called the \"training set\", and the models are tested on the remainder of the available data, called the \"testing set\". Model performance has often been found to be enhanced when the inputs are normalized.\n",
    "\n",
    "##### SETS\n",
    "\n",
    "1. With the dataset we just created, we have splitted the dataset for each of the 12 datasets:\n",
    "- C: 232 entries for our model. We will train with 200 cases and test on the remaining 32 elements to estimate Young's Modulus.\n",
    "- Cr: 331 entries for our model. We will train with 300 cases and test on the remaining 31 elements to estimate Young's Modulus.\n",
    "- Fe: 208 entries for our model. We will train with 182 cases and test on the remaining 26 elements to estimate Young's Modulus.\n",
    "- Hf: 331 entries for our model. We will train with 300 cases and test on the remaining 31 elements to estimate Young's Modulus.\n",
    "- Mo: 331 entries for our model. We will train with 300 cases and test on the remaining 31 elements to estimate Young's Modulus.\n",
    "- Nb: 331 entries for our model. We will train with 300 cases and test on the remaining 31 elements to estimate Young's Modulus.\n",
    "- Ni: 331 entries for our model. We will train with 300 cases and test on the remaining 31 elements to estimate Young's Modulus.\n",
    "- Ta: 331 entries for our model. We will train with 300 cases and test on the remaining 31 elements to estimate Young's Modulus.\n",
    "- Ti: 331 entries for our model. We will train with 300 cases and test on the remaining 31 elements to estimate Young's Modulus.\n",
    "- V: 331 entries for our model. We will train with 300 cases and test on the remaining 31 elements to estimate Young's Modulus.\n",
    "- W: 331 entries for our model. We will train with 300 cases and test on the remaining 31 elements to estimate Young's Modulus.\n",
    "- Zr: 331 entries for our model. We will train with 300 cases and test on the remaining 31 elements to estimate Young's Modulus.\n",
    "\n",
    "\n",
    "\n",
    "##### NORMALIZATION\n",
    "\n",
    "Each one of these input data features has different units and is represented in scales with distinct orders of magnitude. Datasets that contain inputs like this need to be normalized, so that quantities with large values do not *overwhelm* the neural network, forcing it tune its weights to account for the different scales of our input data. In this work, we will use the Standard Score Normalization, which subtracts the mean of the feature and divide by its standard deviation.\n",
    "\n",
    "<span style=\"font-size:2em;\">$ \\frac{X - µ}{σ} $ </span>\n",
    "\n",
    "While our model might converge without feature normalization, the resultant model would be difficult to train and would be dependent on the choice of units used in the input."
   ]
  },
  {
   "cell_type": "code",
   "execution_count": 6,
   "metadata": {},
   "outputs": [
    {
     "name": "stdout",
     "output_type": "stream",
     "text": [
      "[[0.035508103047086265, 2.019463861884084, 0.0, 98.0, 125.0, 141.62, 0.19, 233.24], [0.001838605975680452, 0.4330682544289595, 0.0, 0.0, 1.0, 13.33, 0.3, 0.0], [0.13122955521003882, 4.439769168464848, 0.0, 78.0, 139.0, 1.07, 0.26, 196.56], [0.10762550638763216, 14.234280745831976, 0.0, 215.0, 324.0, 0.3, 0.23, 528.9], [0.14042611393652446, 10.558533761622853, 0.0, 73.0, 139.0, 0.04, 0.28, 186.88], [0.036810477570848134, 3.1719295061425954, 0.2311992500008131, 187.0, 214.0, 0.13, 0.16, 433.84], [0.17782504683281233, 8.134774451361084, 0.0, 30.0, 63.0, 2.49, 0.29, 77.4], [0.13723308064519002, 4.535817843795816, 0.0, 32.0, 61.0, 2.39, 0.28, 81.92], [0.11892059775676965, 8.797273081812294, 0.0, 75.0, 126.0, 0.29, 0.25, 187.5], [0.10600460384547733, 8.943989553934255, 0.0, 150.0, 294.0, 0.14, 0.28, 384.0], [0.09049046506203892, 2.4612615749864544, 0.0, 231.0, 201.0, 0.12, 0.08, 498.96], [0.06733711906342697, 2.930804059822112, 0.0, 113.0, 160.0, 0.2, 0.21, 273.46], [0.09443314901107484, 15.350369049615527, 0.0, 279.0, 385.0, 0.13, 0.21, 675.18], [0.3453990930542625, 1.4961164103815925, 0.0, 3.0, 5.0, 0.01, 0.27, 7.62], [0.14673843562473066, 7.0747336982899895, 0.0, 70.0, 116.0, 0.0, 0.25, 175.0], [0.12296103102287242, 5.741137693834699, 0.0, 117.0, 244.0, 0.18, 0.29, 301.86], [0.24241566019650554, 6.7951800371105024, 0.0, 169.0, 320.0, 0.38, 0.28, 432.64], [0.10674926577623893, 12.574167509289296, 0.0, 180.0, 236.0, 0.02, 0.2, 432.0], [0.09208483335791624, 7.69762367495453, 0.5692359788316281, 112.0, 220.0, 1.86, 0.28, 286.72], [0.13639818388834113, 5.294806649040423, 0.0, 34.0, 92.0, 6.05, 0.33, 90.44], [0.116557552157927, 11.77880757477064, 0.0, 71.0, 155.0, 5.0, 0.3, 184.6], [0.13936139889372454, 13.800245653243447, 0.0, 36.0, 188.0, 1.84, 0.41, 101.52], [0.10554642889198576, 7.503639258849112, 0.0, 161.0, 239.0, 0.14, 0.22, 392.84], [0.10535990593584613, 6.5029639453527475, 0.0, 159.0, 221.0, 0.03, 0.21, 384.78], [0.11450917120764825, 5.6178225081539805, 0.0, 175.0, 238.0, 0.08, 0.21, 423.5], [0.10907462031362583, 3.1182969285848148, 0.0, 15.0, 74.0, -26.53, 0.41, 42.3], [0.03678421753042658, 3.169666699394562, 0.4101517500005869, 187.0, 214.0, 0.11, 0.16, 433.84], [0.036832542764354485, 3.1738308462761715, 0.19291893750050804, 187.0, 214.0, 0.12, 0.16, 433.84], [0.14771076356095295, 12.355517310399629, 0.0, 79.0, 172.0, 0.09, 0.3, 205.4], [0.03681023020310314, 3.1719081906612163, 0.0, 187.0, 213.0, 0.12, 0.16, 433.84], [0.03681593898895469, 3.172400112186873, 0.8536083571426545, 187.0, 213.0, 0.12, 0.16, 433.84], [0.03682631255279335, 3.1732939939128126, 0.7679913333333843, 187.0, 213.0, 0.13, 0.16, 433.84], [0.11054692992518404, 7.673756117545935, 0.0, 117.0, 228.0, 0.29, 0.28, 299.52], [0.036806852337430536, 3.1716171226691188, 0.30417102631652426, 187.0, 214.0, 0.13, 0.16, 433.84], [0.0368102739017477, 3.1719119561385813, 0.2824353148156433, 187.0, 213.0, 0.12, 0.16, 433.84], [0.03551108769332457, 2.438647814164692, 0.0, 159.0, 222.0, 0.45, 0.21, 384.78], [0.03681267100385641, 3.1721185125162648, 0.3751797857143302, 187.0, 213.0, 0.12, 0.16, 433.84], [0.11256281361420203, 14.76867120079392, 0.0, 138.0, 256.0, 0.59, 0.27, 350.52], [0.2747221133703715, 7.1677998149018585, 0.0, 138.0, 291.0, 0.0, 0.3, 358.8], [0.036807027240190936, 3.1716321939005465, 0.211832166667314, 187.0, 213.0, 0.12, 0.16, 433.84], [0.13300700169956367, 4.729248252135787, 0.0, 52.0, 101.0, 0.76, 0.28, 133.12], [0.13138092371942145, 8.158864971994266, 0.0, 127.0, 169.0, 0.84, 0.2, 304.8], [0.20567280948404654, 8.179075697402183, 0.0, 69.0, 149.0, 0.77, 0.3, 179.4], [0.17595993157773185, 5.553900997962684, 0.0, 74.0, 161.0, 0.63, 0.3, 192.4], [0.10355754824399166, 11.45046292579209, 0.0, 122.0, 194.0, 0.15, 0.24, 302.56], [0.13922034416180862, 5.007370795059791, 0.0, 64.0, 79.0, 0.05, 0.18, 151.04], [0.13290991592292403, 11.503057210540547, 0.0, 84.0, 208.0, 0.01, 0.32, 221.76], [0.09278447734090052, 9.774537371057407, 0.0, 157.0, 257.0, 0.1, 0.25, 392.5], [0.10745787451566784, 7.0602787397220395, 0.0, 124.0, 178.0, 1.07, 0.22, 302.56], [0.2993405766861171, 4.759705946832892, 0.0, 17.0, 37.0, 14.89, 0.3, 44.2], [0.13585387358029066, 11.15244048546261, 0.0, 123.0, 177.0, 0.1, 0.22, 300.12], [0.16361520722440331, 8.974300185273632, 0.0, 99.0, 175.0, 0.46, 0.26, 249.48], [0.12670151922221293, 3.7993588441010218, 0.0, 66.0, 112.0, 0.04, 0.25, 165.0], [0.1417319271861051, 8.412835113337406, 0.0, 32.0, 64.0, 2.4, 0.29, 82.56], [0.4921342277633622, 3.5592329402564347, 0.0, 44.0, 99.0, 0.8, 0.31, 115.28], [0.11973004392324935, 6.8927608506352405, 0.0, 82.0, 119.0, 0.1, 0.22, 200.08], [0.19899136622143945, 6.887637715111308, 0.0, 116.0, 180.0, 0.08, 0.24, 287.68], [0.1572229233239576, 6.563379100557016, 0.0, 113.0, 198.0, 0.23, 0.26, 284.76], [0.17689840656814365, 8.250785346746342, 0.0, 72.0, 118.0, 0.11, 0.25, 180.0], [0.13129340929417405, 4.541437896810737, 0.0, 115.0, 170.0, 0.16, 0.22, 280.6], [0.13422198825521428, 6.758977098944283, 0.0, 127.0, 182.0, 0.97, 0.22, 309.88], [0.12342544710380708, 4.565790384194937, 0.0, 65.0, 149.0, 11.41, 0.31, 170.3], [0.5103052580036264, 1.9967524785500963, 0.0, 27.0, 55.0, 2.88, 0.29, 69.66], [0.1313160118297123, 4.427777483208082, 0.0, 120.0, 178.0, 0.11, 0.22, 292.8], [0.12080369580176985, 4.20786317502239, 0.0, 126.0, 159.0, 0.05, 0.19, 299.88], [0.5174071325146234, 3.635955451064632, 0.0, 30.0, 60.0, 0.35, 0.29, 77.4], [0.19783890873432625, 6.159752464095602, 0.0, 82.0, 97.0, 0.01, 0.17, 191.88], [0.1073450181473308, 7.1231219818477856, 0.0, 80.0, 127.0, 0.08, 0.24, 198.4], [0.08651242464476741, 3.2729850150313275, 0.0, 138.0, 166.0, 0.04, 0.17, 322.92], [0.1326404513438496, 6.013909004972421, 0.0, 112.0, 165.0, 0.11, 0.22, 273.28], [0.124743731464366, 8.231613414071415, 0.0, 95.0, 168.0, 0.4, 0.26, 239.4], [0.5780048677275466, 2.898973036038877, 0.0, 63.0, 105.0, 0.71, 0.25, 157.5], [0.2300199976290377, 2.1492285746966258, 0.0, 18.0, 41.0, 4.84, 0.31, 47.16], [0.11908903331575288, 4.474908098481444, 0.0, 139.0, 184.0, 0.02, 0.2, 333.6], [0.08863918620688065, 7.559589081723894, 0.0, 156.0, 197.0, 0.04, 0.19, 371.28], [0.1237824969673584, 5.227342151843684, 0.0, 103.0, 201.0, 0.67, 0.28, 263.68], [0.13254814609406854, 4.87990698075401, 0.0, 176.0, 253.0, 0.02, 0.22, 429.44], [0.11448060442599865, 7.804876642688796, 0.0, 27.0, 61.0, 2.8, 0.31, 70.74000000000002], [0.20918678912750968, 7.269250630283836, 0.0, 40.0, 63.0, 0.01, 0.24, 99.2], [0.10646943993506214, 5.394856627572428, 0.0, 149.0, 227.0, 0.4, 0.23, 366.54], [0.20139893781907525, 6.687686637471983, 0.0, 64.0, 75.0, 0.02, 0.17, 149.76], [0.13973232538451086, 9.873036294282585, 0.0, 93.0, 186.0, 0.31, 0.29, 239.94], [0.14338217790511146, 6.346866112129997, 0.0, 42.0, 81.0, 0.17, 0.28, 107.52], [0.20040259474366634, 8.691772497279294, 0.0, 77.0, 167.0, 0.64, 0.3, 200.2], [0.15952696464739338, 7.969868448138058, 0.0, 68.0, 149.0, 0.81, 0.3, 176.8], [0.11160151307642242, 7.524539847026602, 0.0, 124.0, 162.0, 0.58, 0.2, 297.6], [0.15740811774987198, 7.010072671508957, 0.0, 99.0, 214.0, 0.26, 0.3, 257.40000000000003], [0.3761345606382347, 3.2510335717173318, 0.0, 10.0, 26.0, 3.32, 0.33, 26.6], [0.3378353321062457, 2.0968689310421813, 0.0, 13.0, 30.0, 1.79, 0.31, 34.06], [0.2569976856770758, 8.54094613084648, 0.0, 48.0, 62.0, 0.0, 0.19, 114.24], [0.092162678541355, 6.571371002985108, 0.0, 126.0, 180.0, 0.88, 0.22, 307.44], [0.16824794239769306, 3.0114499896965268, 0.0, 17.0, 57.0, 3.03, 0.37, 46.58000000000001], [0.13812391815313735, 7.878984334713148, 0.0, 81.0, 137.0, 0.36, 0.25, 202.5], [0.12019441642248435, 4.725012084905748, 0.0, 82.0, 102.0, 0.04, 0.18, 193.52], [0.19946788175199787, 6.955160667078985, 0.14202906249671798, 82.0, 202.0, 0.08, 0.32, 216.48], [0.1460879732669394, 7.309879361726107, 0.0, 76.0, 144.0, 0.39, 0.27, 193.04], [0.1505353116751684, 8.749995465315505, 0.0, 57.0, 137.0, 1.61, 0.32, 150.48000000000005], [0.16937600229203892, 6.774895906112463, 0.0, 58.0, 76.0, 0.06, 0.19, 138.04], [0.09495205712185564, 7.230363272084872, 0.0, 115.0, 208.0, 0.51, 0.27, 292.1], [0.13632125845674872, 9.253270759819888, 0.0, 80.0, 197.0, 0.0, 0.32, 211.2], [0.12257467462127325, 11.270810856076734, 0.0, 92.0, 130.0, 0.1, 0.21, 222.64], [0.1745160710865282, 4.900237915492571, 0.0, 7.0, 14.0, 320.71, 0.3, 18.2], [0.09229032515989744, 3.19170880046964, 0.0, 24.0, 73.0, 1.3, 0.35, 64.80000000000001], [0.16256540088694024, 4.634878108828931, 0.0, 134.0, 180.0, 0.09, 0.2, 321.6], [0.4936034538612855, 2.607924056040338, 0.0, 32.0, 76.0, 1.4, 0.31, 83.84], [0.1592228271622383, 4.839726525303591, 0.0, 133.0, 209.0, 0.16, 0.24, 329.84], [0.34508484733251, 5.334606673173984, 0.0, 14.0, 33.0, 14.94, 0.31, 36.68], [0.4892771029433578, 4.099746929209872, 0.0, 22.0, 50.0, 0.4, 0.31, 57.64], [0.2480990114536201, 4.024837341173065, 0.0, 23.0, 51.0, 0.61, 0.31, 60.26000000000001], [0.16481029829471566, 7.773073654486103, 0.0, 122.0, 163.0, 0.72, 0.2, 292.8], [0.5610959365295348, 4.051564573974555, 0.0, 7.0, 20.0, 1.52, 0.34, 18.76], [0.11425305763386814, 4.453038643313022, 0.0, 10.0, 22.0, 13.14, 0.31, 26.200000000000006], [0.13588698850867975, 15.223880379873767, 0.0, 51.0, 195.0, 1.38, 0.38, 140.76], [0.11599880077983935, 8.080862405881463, 0.0, 25.0, 35.0, 453.23, 0.21, 60.5], [0.1793254241930702, 8.354270274164262, 0.0, 72.0, 167.0, 0.74, 0.31, 188.64], [0.11832742200322613, 3.9915780721811664, 0.0, 85.0, 100.0, 0.05, 0.17, 198.9], [0.12991175152826304, 4.5887661238150965, 0.0, 82.0, 97.0, 0.0, 0.17, 191.88], [0.1088193928348672, 2.385824697606961, 0.0, 35.0, 96.0, 5.75, 0.34, 93.8], [0.5727588716107637, 4.244193742056641, 0.0, 49.0, 117.0, 0.48, 0.32, 129.36], [0.1245916221112668, 4.692792354400312, 0.0, 140.0, 177.0, 0.29, 0.19, 333.2], [0.12456377774541777, 6.4705294073368655, 0.0, 101.0, 180.0, 0.38, 0.26, 254.52], [0.1033577231434715, 6.702489349412397, 0.0, 137.0, 203.0, 0.07, 0.22, 334.28], [0.13352534150348758, 7.966367758261744, 0.0, 128.0, 164.0, 0.65, 0.19, 304.64], [0.1908263934465858, 3.4983444821676377, 0.0, 11.0, 48.0, 3.95, 0.39, 30.58], [0.3544454279739339, 3.4693313340277374, 0.0, 4.0, 18.0, 3.34, 0.39, 11.12], [0.10605445363184073, 3.4749985226822573, 0.0, 71.0, 138.0, 3.84, 0.28, 181.76], [0.14147840071914594, 5.609966822512502, 0.0, 63.0, 82.0, 0.07, 0.2, 151.2], [0.18239938517987664, 7.33268137949659, 0.0, 47.0, 69.0, 0.08, 0.22, 114.68], [0.1185982083028238, 8.768933212525067, 0.0, 90.0, 215.0, 0.08, 0.32, 237.6], [0.14988894300541825, 11.275522963779606, 0.0, 82.0, 207.0, 0.01, 0.32, 216.48], [0.13859327995383314, 4.5963166871713295, 0.0, 25.0, 86.0, 1.82, 0.37, 68.5], [0.11738355380417327, 3.993100999294839, 0.0, 112.0, 137.0, 0.02, 0.18, 264.32], [0.17783467660929653, 8.539034680021029, 0.0, 57.0, 136.0, 1.79, 0.32, 150.48000000000005], [0.13320347206024302, 7.687495087213527, 0.0, 74.0, 124.0, 0.29, 0.25, 185.0], [0.12899425080522056, 5.906377007878857, 0.0, 112.0, 158.0, 0.03, 0.21, 271.04], [0.1550732980586508, 6.1823449816836105, 0.0, 76.0, 97.0, 0.03, 0.19, 180.88], [0.1471494725278087, 5.808143711712417, 0.0, 60.0, 143.0, 1.67, 0.32, 158.4], [0.11898601016932316, 11.988906986800993, 0.0, 105.0, 223.0, 0.06, 0.3, 273.0], [0.17341104708130356, 6.473381427944479, 0.0, 98.0, 230.0, 0.97, 0.31, 256.76], [0.0951060639694408, 2.7582169608205223, 0.0, 14.0, 20.0, 206.08, 0.21, 33.879999999999995], [0.059473705207851287, 2.181959776601349, 0.0, 30.0, 128.0, 141.05, 0.39, 83.4], [0.12759403292901528, 6.2446407566783355, 0.0, 92.0, 135.0, 0.01, 0.22, 224.48], [0.14150238065679902, 2.2370024263415296, 0.0, 22.0, 69.0, 3.45, 0.35, 59.40000000000001], [0.5083357009279886, 4.74460581497517, 0.0, 32.0, 91.0, 0.75, 0.34, 85.76], [0.19952070452349546, 7.069543236310175, 0.0, 86.0, 172.0, 0.34, 0.29, 221.88], [0.11020803073725438, 8.127472795521589, 0.0, 79.0, 160.0, 0.17, 0.29, 203.82], [0.13424866103563465, 6.423642643255332, 0.0, 37.0, 62.0, 0.02, 0.25, 92.5], [0.06047573314798155, 2.598431820438313, 0.0, 197.0, 209.0, 0.03, 0.14, 449.16], [0.05806945119030552, 2.7018060564019533, 0.0, 214.0, 229.0, 0.19, 0.14, 487.92000000000013], [0.1174748623769215, 6.629449449273312, 0.9257506250008872, 122.0, 190.0, 0.11, 0.24, 302.56], [0.11183684238545542, 7.2108915398511275, 0.0, 12.0, 36.0, 6.51, 0.35, 32.40000000000001], [0.1590401806807958, 6.033427523600742, 0.0, 125.0, 171.0, 0.84, 0.21, 302.5], [0.09732087528396736, 8.758367764308227, 0.0, 140.0, 234.0, 0.19, 0.25, 350.0], [0.20390821568383194, 5.912750835777671, 0.0, 26.0, 44.0, 2.37, 0.25, 65.0], [0.18795581585805776, 5.338343678602588, 0.0, 134.0, 189.0, 0.02, 0.21, 324.28], [0.09821700768116932, 6.873148549213753, 0.0, 140.0, 224.0, 0.3, 0.24, 347.2], [0.10982229537823436, 6.552641390969012, 0.0, 115.0, 203.0, 0.46, 0.26, 289.8], [0.15533006284157844, 6.595556732822156, 0.0, 77.0, 125.0, 0.36, 0.24, 190.96], [0.1308963417676026, 2.6581599760152383, 0.0, 95.0, 135.0, 2.57, 0.22, 231.8], [0.15050124402423465, 11.592493356327884, 0.0, 80.0, 191.0, 0.23, 0.32, 211.2], [0.10216073278859468, 5.463420047656131, 0.0, 120.0, 162.0, 0.81, 0.2, 288.0], [0.12897226386082106, 5.332772544545805, 0.0, 108.0, 139.0, 0.04, 0.19, 257.04], [0.14203071040693532, 8.803426023532042, 0.0, 99.0, 173.0, 0.45, 0.26, 249.48], [0.15534070951245432, 10.963604912723058, 0.0, 78.0, 200.0, 0.0, 0.33, 207.48], [0.5783548525389751, 4.230353741957433, 0.0, 68.0, 125.0, 0.64, 0.27, 172.72], [0.17300170575525153, 9.172724085100004, 0.0, 61.0, 142.0, 1.92, 0.31, 159.82], [0.14801413317428894, 5.456268401704394, 0.0, 63.0, 77.0, 0.01, 0.18, 148.67999999999995], [0.1273336009818362, 8.050504583793405, 0.0, 97.0, 158.0, 0.07, 0.25, 242.5], [0.44065231091893625, 6.2717607592999745, 0.0, 21.0, 56.0, 0.47, 0.33, 55.86], [0.14383771008215315, 6.063190462834159, 0.0, 96.0, 127.0, 0.09, 0.2, 230.4], [0.14810815620508558, 5.857246750937357, 0.0, 92.0, 145.0, 0.12, 0.24, 228.16], [0.21963798807467805, 6.864370502639238, 0.0, 43.0, 65.0, 0.0, 0.23, 105.78], [0.1185044676061408, 6.53132387312736, 0.0, 79.0, 191.0, 1.56, 0.32, 208.56], [0.4496013283301709, 5.346193039952944, 0.4861457143050529, 25.0, 21.0, -7.09, 0.07, 53.5], [0.1205367935312826, 8.91137987489068, 0.0, 125.0, 181.0, 0.39, 0.22, 305.0], [0.12537593240280195, 4.14816071313334, 0.0, 101.0, 153.0, 0.22, 0.23, 248.46], [0.07188885710088698, 2.407814424423794, 0.0, 104.0, 158.0, 5.53, 0.23, 255.84], [0.10479804234656424, 12.601078527673154, 0.0, 146.0, 233.0, 0.11, 0.24, 362.08], [0.5452736515940299, 2.2889261104614937, 0.0, 11.0, 25.0, 3.57, 0.32, 29.040000000000006], [0.15775727353085606, 8.880615314104563, 0.0, 101.0, 163.0, 0.45, 0.24, 250.48], [0.5485319135267938, 3.3089643116358856, 0.0, 10.0, 24.0, 2.2, 0.32, 26.4], [0.14083286083037333, 5.877646683789368, 0.0, 95.0, 167.0, 0.41, 0.26, 239.4], [0.08749171794774327, 6.1355680878161065, 0.0, 129.0, 215.0, 0.32, 0.25, 322.5], [0.4391855356097588, 5.5859389461589455, 0.0, 13.0, 45.0, 7.68, 0.36, 35.36], [0.12389126804402373, 4.497399638966623, 0.0, 120.0, 180.0, 0.09, 0.23, 295.2], [0.20236944843926524, 2.6345747758895706, 0.0, 32.0, 67.0, 0.52, 0.29, 82.56], [0.12600707686806145, 10.826809815065534, 0.0, 77.0, 197.0, 0.0, 0.33, 204.82], [0.08175164545141465, 2.3226450326488988, 0.0, 184.0, 197.0, 0.66, 0.14, 419.52], [0.10489463867798007, 12.251033284200233, 0.0, 159.0, 225.0, 0.03, 0.21, 384.78], [0.16945980028643348, 8.551789379742598, 0.0, 64.0, 105.0, 1.2, 0.25, 160.0], [0.15042153872241626, 2.1514461255786648, 0.0, 134.0, 153.0, 4.21, 0.16, 310.88], [0.1271245110812871, 6.829015027536499, 0.0, 84.0, 138.0, 0.3, 0.25, 210.0], [0.13739823770698045, 1.4791032098626393, 0.0, 17.0, 50.0, 2.39, 0.35, 45.90000000000001], [0.12707529827865033, 9.645354703707927, 0.0, 90.0, 166.0, 0.24, 0.27, 228.6], [0.133773543242918, 5.564791932846092, 0.0, 104.0, 153.0, 0.05, 0.22, 253.76], [0.10181860853933856, 6.3132262184641466, 0.0, 114.0, 173.0, 0.13, 0.23, 280.44], [0.10166692192344784, 7.756326811994946, 0.0, 119.0, 206.0, 0.4, 0.26, 299.88], [0.11481872772441044, 8.490938387898794, 0.0, 71.0, 149.0, 0.36, 0.29, 183.18], [0.11120007972869952, 4.872389203909788, 0.0, 131.0, 171.0, 0.07, 0.19, 311.78], [0.1744796793969142, 7.804425157940714, 0.0, 83.0, 127.0, 0.53, 0.23, 204.18], [0.1646225465291368, 6.237263859844445, 0.0, 40.0, 28.0, 0.07, 0.02, 81.6], [0.1100709996131286, 3.1426359458068047, 0.0, 83.0, 102.0, 0.01, 0.18, 195.88], [0.1324437552467857, 4.327411728344944, 0.0, 63.0, 80.0, 0.02, 0.19, 149.94], [0.10918324130666412, 11.553737618642865, 0.0, 86.0, 138.0, 0.12, 0.24, 213.28], [0.2717602096451493, 1.8245784076661382, 0.0, 8.0, 27.0, 5.33, 0.37, 21.92], [0.18739545945893413, 7.179174764403756, 0.0, 74.0, 178.0, 0.32, 0.32, 195.36], [0.5351832875914576, 2.7601825690200372, 0.0, 44.0, 89.0, 1.34, 0.29, 113.52], [0.5419761467800578, 2.4899912771525927, 0.0, 24.0, 54.0, 2.04, 0.31, 62.88], [0.17643193819269415, 6.020726394251088, 0.0, 53.0, 112.0, 2.22, 0.29, 136.74], [0.1199968189030356, 9.565360349345935, 0.0, 60.0, 121.0, 0.72, 0.29, 154.8], [0.1545051943833564, 6.869208900789395, 0.0, 81.0, 81.0, 0.98, 0.12, 181.44000000000003], [0.12284716464005865, 7.85824455668409, 0.0, 74.0, 186.0, 0.5, 0.33, 196.84], [0.5017264209377059, 2.0872849928146247, 0.0, 10.0, 24.0, 1.93, 0.31, 26.200000000000006], [0.14990394228647744, 8.30926209660754, 0.0, 74.0, 195.0, 0.64, 0.33, 196.84], [0.16021224501401982, 6.837675236213143, 0.0, 111.0, 160.0, 0.16, 0.22, 270.84], [0.19485406368576572, 7.012711217690293, 0.0, 72.0, 128.0, 0.91, 0.26, 181.44], [0.14906151429182124, 8.070122738219048, 0.0, 85.0, 139.0, 0.45, 0.25, 212.5], [0.16736235867962512, 3.124749313487087, 0.0, 18.0, 45.0, 1.07, 0.33, 47.88], [0.13459721066832814, 8.212015098091147, 0.0, 75.0, 162.0, 0.54, 0.3, 195.0], [0.1559059194434449, 8.000363562888488, 0.0, 71.0, 194.0, 0.51, 0.34, 190.28], [0.13247955314871476, 1.6899794311779075, 0.0, 8.0, 18.0, 0.43, 0.31, 20.96], [0.13765365947477914, 4.934478017051491, 0.0, 69.0, 56.0, 3.89, 0.06, 146.28], [0.1685114178255008, 8.221256348591078, 0.0, 86.0, 136.0, 0.46, 0.24, 213.28], [0.12736321515386906, 10.077118365310168, 0.0, 93.0, 209.0, 1.25, 0.31, 243.66], [0.15054940510822462, 7.927919170981369, 0.0, 84.0, 129.0, 0.51, 0.23, 206.64], [0.14909469323306018, 5.518674272107517, 0.0, 83.0, 126.0, 0.5, 0.23, 204.18], [0.14549856856572418, 8.519183743668963, 0.0, 85.0, 141.0, 0.37, 0.25, 212.5], [0.1048169903811427, 8.950757757782114, 0.0, 77.0, 176.0, 0.3, 0.31, 201.74], [0.11918836637295363, 4.1407779848000565, 0.0, 101.0, 167.0, 0.22, 0.25, 252.5], [0.13344869829192668, 7.583527316438486, 0.0, 81.0, 126.0, 0.61, 0.24, 200.88], [0.13800542743619104, 7.95604580169816, 0.0, 55.0, 204.0, 1.68, 0.38, 151.79999999999995], [0.4575791175304784, 2.523223803749373, 0.0, 29.0, 50.0, 0.07, 0.25, 72.5]]\n"
     ]
    },
    {
     "data": {
      "text/html": [
       "<div>\n",
       "<style scoped>\n",
       "    .dataframe tbody tr th:only-of-type {\n",
       "        vertical-align: middle;\n",
       "    }\n",
       "\n",
       "    .dataframe tbody tr th {\n",
       "        vertical-align: top;\n",
       "    }\n",
       "\n",
       "    .dataframe thead th {\n",
       "        text-align: right;\n",
       "    }\n",
       "</style>\n",
       "<table border=\"1\" class=\"dataframe\">\n",
       "  <thead>\n",
       "    <tr style=\"text-align: right;\">\n",
       "      <th></th>\n",
       "      <th>IPF</th>\n",
       "      <th>Density</th>\n",
       "      <th>E_above_Hull</th>\n",
       "      <th>G_VRH</th>\n",
       "      <th>K_VRH</th>\n",
       "      <th>Elastic_Anisotropy</th>\n",
       "      <th>poisson_ratio</th>\n",
       "    </tr>\n",
       "  </thead>\n",
       "  <tbody>\n",
       "    <tr>\n",
       "      <th>0</th>\n",
       "      <td>0.035508</td>\n",
       "      <td>2.019464</td>\n",
       "      <td>0.000000</td>\n",
       "      <td>98.0</td>\n",
       "      <td>125.0</td>\n",
       "      <td>141.62</td>\n",
       "      <td>0.19</td>\n",
       "    </tr>\n",
       "    <tr>\n",
       "      <th>1</th>\n",
       "      <td>0.001839</td>\n",
       "      <td>0.433068</td>\n",
       "      <td>0.000000</td>\n",
       "      <td>0.0</td>\n",
       "      <td>1.0</td>\n",
       "      <td>13.33</td>\n",
       "      <td>0.30</td>\n",
       "    </tr>\n",
       "    <tr>\n",
       "      <th>2</th>\n",
       "      <td>0.131230</td>\n",
       "      <td>4.439769</td>\n",
       "      <td>0.000000</td>\n",
       "      <td>78.0</td>\n",
       "      <td>139.0</td>\n",
       "      <td>1.07</td>\n",
       "      <td>0.26</td>\n",
       "    </tr>\n",
       "    <tr>\n",
       "      <th>3</th>\n",
       "      <td>0.107626</td>\n",
       "      <td>14.234281</td>\n",
       "      <td>0.000000</td>\n",
       "      <td>215.0</td>\n",
       "      <td>324.0</td>\n",
       "      <td>0.30</td>\n",
       "      <td>0.23</td>\n",
       "    </tr>\n",
       "    <tr>\n",
       "      <th>4</th>\n",
       "      <td>0.140426</td>\n",
       "      <td>10.558534</td>\n",
       "      <td>0.000000</td>\n",
       "      <td>73.0</td>\n",
       "      <td>139.0</td>\n",
       "      <td>0.04</td>\n",
       "      <td>0.28</td>\n",
       "    </tr>\n",
       "    <tr>\n",
       "      <th>5</th>\n",
       "      <td>0.036810</td>\n",
       "      <td>3.171930</td>\n",
       "      <td>0.231199</td>\n",
       "      <td>187.0</td>\n",
       "      <td>214.0</td>\n",
       "      <td>0.13</td>\n",
       "      <td>0.16</td>\n",
       "    </tr>\n",
       "    <tr>\n",
       "      <th>6</th>\n",
       "      <td>0.177825</td>\n",
       "      <td>8.134774</td>\n",
       "      <td>0.000000</td>\n",
       "      <td>30.0</td>\n",
       "      <td>63.0</td>\n",
       "      <td>2.49</td>\n",
       "      <td>0.29</td>\n",
       "    </tr>\n",
       "    <tr>\n",
       "      <th>7</th>\n",
       "      <td>0.137233</td>\n",
       "      <td>4.535818</td>\n",
       "      <td>0.000000</td>\n",
       "      <td>32.0</td>\n",
       "      <td>61.0</td>\n",
       "      <td>2.39</td>\n",
       "      <td>0.28</td>\n",
       "    </tr>\n",
       "    <tr>\n",
       "      <th>8</th>\n",
       "      <td>0.118921</td>\n",
       "      <td>8.797273</td>\n",
       "      <td>0.000000</td>\n",
       "      <td>75.0</td>\n",
       "      <td>126.0</td>\n",
       "      <td>0.29</td>\n",
       "      <td>0.25</td>\n",
       "    </tr>\n",
       "    <tr>\n",
       "      <th>9</th>\n",
       "      <td>0.106005</td>\n",
       "      <td>8.943990</td>\n",
       "      <td>0.000000</td>\n",
       "      <td>150.0</td>\n",
       "      <td>294.0</td>\n",
       "      <td>0.14</td>\n",
       "      <td>0.28</td>\n",
       "    </tr>\n",
       "  </tbody>\n",
       "</table>\n",
       "</div>"
      ],
      "text/plain": [
       "        IPF    Density  E_above_Hull  G_VRH  K_VRH  Elastic_Anisotropy  \\\n",
       "0  0.035508   2.019464      0.000000   98.0  125.0              141.62   \n",
       "1  0.001839   0.433068      0.000000    0.0    1.0               13.33   \n",
       "2  0.131230   4.439769      0.000000   78.0  139.0                1.07   \n",
       "3  0.107626  14.234281      0.000000  215.0  324.0                0.30   \n",
       "4  0.140426  10.558534      0.000000   73.0  139.0                0.04   \n",
       "5  0.036810   3.171930      0.231199  187.0  214.0                0.13   \n",
       "6  0.177825   8.134774      0.000000   30.0   63.0                2.49   \n",
       "7  0.137233   4.535818      0.000000   32.0   61.0                2.39   \n",
       "8  0.118921   8.797273      0.000000   75.0  126.0                0.29   \n",
       "9  0.106005   8.943990      0.000000  150.0  294.0                0.14   \n",
       "\n",
       "   poisson_ratio  \n",
       "0           0.19  \n",
       "1           0.30  \n",
       "2           0.26  \n",
       "3           0.23  \n",
       "4           0.28  \n",
       "5           0.16  \n",
       "6           0.29  \n",
       "7           0.28  \n",
       "8           0.25  \n",
       "9           0.28  "
      ]
     },
     "execution_count": 6,
     "metadata": {},
     "output_type": "execute_result"
    }
   ],
   "source": [
    "all_values = df.values.tolist() # Values for Attributes\n",
    "print(all_values)\n",
    "all_labels = [] # Values for Young's Modulus (Property to be estimated)\n",
    "all_labels = df['Y_Modulus'].tolist()\n",
    "df = df.drop(['Y_Modulus'], axis=1)\n",
    "df.head(n=10)"
   ]
  },
  {
   "cell_type": "code",
   "execution_count": 7,
   "metadata": {},
   "outputs": [
    {
     "name": "stdout",
     "output_type": "stream",
     "text": [
      "Shape of Values: (232, 7)\n",
      "Shape of Labels: (232,)\n",
      "[-1.12079999 -1.45631596 -0.22713222  0.13416552 -0.31106518  3.07315942\n",
      " -1.0404163 ]\n",
      "[-7.88122406e-05 -1.11352632e-02 -2.27132218e-01 -9.48868618e-01\n",
      " -1.70604081e+00 -1.64418888e-01 -3.79112813e+00]\n",
      "[  0   1   2   3   4   5   6   7   8   9  10  11  12  13  14  15  16  17\n",
      "  18  19  20  21  22  23  24  25  26  27  28  29  30  31  32  33  34  35\n",
      "  36  37  38  39  40  41  42  43  44  45  46  47  48  49  50  51  52  53\n",
      "  54  55  56  57  58  59  60  61  62  63  64  65  66  67  68  69  70  71\n",
      "  72  73  74  75  76  77  78  79  80  81  82  83  84  85  86  87  88  89\n",
      "  90  91  92  93  94  95  96  97  98  99 100 101 102 103 104 105 106 107\n",
      " 108 109 110 111 112 113 114 115 116 117 118 119 120 121 122 123 124 125\n",
      " 126 127 128 129 130 131 132 133 134 135 136 137 138 139 140 141 142 143\n",
      " 144 145 146 147 148 149 150 151 152 153 154 155 156 157 158 159 160 161\n",
      " 162 163 164 165 166 167 168 169 170 171 172 173 174 175 176 177 178 179\n",
      " 180 181 182 183 184 185 186 187 188 189 190 191 192 193 194 195 196 197\n",
      " 198 199 200 201 202 203 204 205 206 207 208 209 210 211 212 213 214 215\n",
      " 216 217 218 219 220 221 222 223 224 225 226 227 228 229 230 231]\n"
     ]
    }
   ],
   "source": [
    "#We will rewrite the arrays with the patches we made on the dataset \n",
    "# by turning the dataframe back into a list of lists\n",
    "\n",
    "all_values = [list(df.iloc[x]) for x in range(len(all_values))]\n",
    "\n",
    "# SETS\n",
    "\n",
    "# List of lists are turned into Numpy arrays to facilitate calculations in steps to follow (Normalization).\n",
    "all_values = np.array(all_values, dtype = float) \n",
    "print(\"Shape of Values:\", all_values.shape)\n",
    "all_labels = np.array(all_labels, dtype = float)\n",
    "print(\"Shape of Labels:\", all_labels.shape)\n",
    "\n",
    "# Uncomment the line below to shuffle the dataset \n",
    "#(we do not do this here to ensure consistent results for every run)\n",
    "#order = np.argsort(np.random.random(all_labels.shape)) \n",
    "# This numpy argsort returns the indexes that would be used to shuffle a list\n",
    "order = np.arange(232)\n",
    "all_values = all_values[order]\n",
    "all_labels = all_labels[order]\n",
    "\n",
    "# Training Set\n",
    "train_labels = all_labels[:200]\n",
    "train_values = all_values[:200]\n",
    "\n",
    "# Testing Set\n",
    "test_labels = all_labels[-32:]\n",
    "test_values = all_values[-32:]\n",
    "\n",
    "# This line is used for labels in the plots at the end of the tutorial - Testing Set\n",
    "\n",
    "labeled_elements = [elements[x] for x in order[-32:]] \n",
    "elements = [elements[x] for x in order]\n",
    "\n",
    "# NORMALIZATION\n",
    "\n",
    "mean = np.mean(train_values, axis = 0) # mean\n",
    "std = np.std(train_values, axis = 0) # standard deviation\n",
    "\n",
    "train_values = (train_values - mean) / std # input scaling\n",
    "test_values = (test_values - mean) / std # input scaling\n",
    "\n",
    "print(train_values[0]) # print a sample entry from the training set\n",
    "print(test_values[0]) # print a sample entry from the training set\n",
    "print(order)"
   ]
  },
  {
   "cell_type": "markdown",
   "metadata": {},
   "source": [
    "### 3. Creating the Model\n",
    "\n",
    "For this regression, we will use a simple sequential neural network with one densely connected hidden layer. The optimizer used will be [RMSPropOptimizer](https://www.tensorflow.org/api_docs/python/tf/train/RMSPropOptimizer) (Root Mean Square Propagation).\n",
    "\n",
    "To learn more about Root Mean Squared Propagation, click [here](https://climin.readthedocs.io/en/latest/rmsprop.html).\n",
    "\n",
    "A cool tool developed by Tensorflow to visualize how a neural network learns, and play around with its parameters, can be found here [NN Tools](https://playground.tensorflow.org/)."
   ]
  },
  {
   "cell_type": "code",
   "execution_count": 21,
   "metadata": {},
   "outputs": [
    {
     "name": "stdout",
     "output_type": "stream",
     "text": [
      "Model: \"sequential_1\"\n",
      "_________________________________________________________________\n",
      "Layer (type)                 Output Shape              Param #   \n",
      "=================================================================\n",
      "dense_4 (Dense)              (None, 32)                256       \n",
      "_________________________________________________________________\n",
      "dense_5 (Dense)              (None, 64)                2112      \n",
      "_________________________________________________________________\n",
      "dense_6 (Dense)              (None, 1)                 65        \n",
      "=================================================================\n",
      "Total params: 2,433\n",
      "Trainable params: 2,433\n",
      "Non-trainable params: 0\n",
      "_________________________________________________________________\n"
     ]
    }
   ],
   "source": [
    "# DEFINITION OF THE MODEL\n",
    "\n",
    "# The weights of our neural network will be initialized in a random manner, using a seed allows for reproducibility\n",
    "kernel_init = initializers.RandomNormal(seed=0)\n",
    "# In a sequential model, the first layer must specify the input shape the model will expect; \n",
    "# in this case the value is train_values.shape[1] which is the number\n",
    "# of attributes (properties) and equals 17.\n",
    "\n",
    "model = Sequential()\n",
    "model.add(Dense(32, activation='relu', input_shape=(train_values.shape[1], ), kernel_initializer=kernel_init))\n",
    "model.add(Dense(64, activation='relu', kernel_initializer=kernel_init))\n",
    "# model.add(Dense(64, activation='relu', kernel_initializer=kernel_init))\n",
    "model.add(Dense(1, kernel_initializer=kernel_init))\n",
    "\n",
    "# DEFINITION OF THE OPTIMIZER\n",
    "\n",
    "optimizer = optimizers.RMSprop(0.002) # Root Mean Squared Propagation\n",
    "\n",
    "# This line matches the optimizer to the model and states which metrics will evaluate the model's accuracy\n",
    "model.compile(loss='mae', optimizer=optimizer, metrics=['mae'])\n",
    "model.summary()"
   ]
  },
  {
   "cell_type": "markdown",
   "metadata": {},
   "source": [
    "#### TRAINING \n",
    "\n",
    "This model is trained for 2000 epochs, and we record the training accuracy in the history object.\n",
    "\n",
    "One **Epoch** occurs when you pass the entire dataset through the model. One **Batch** contains a subset of the dataset that can be fed to the model at the same time. A more detailed explanation of these concepts can be found in this [blog](https://towardsdatascience.com/epoch-vs-iterations-vs-batch-size-4dfb9c7ce9c9). As we have a really small dataset compared to the ones that are usually considered to be modeled by these neural networks, we are feeding all entries at the same time, so our batch is the entire dataset, and an epoch occurs when the batch is processed.\n",
    "\n",
    "This way, by plotting \"history\" we can see the evolution of the \"learning\" of the model, that is the decrease of the Mean Absolute Error. Models in Keras are fitted to the training set using the [**fit**](https://keras.io/models/model/#fit) method.\n",
    "\n",
    "The blue curve that will come up from the History object represents how the model is learning on the training data, and the orange curve represents the validation loss, which can be thought of as the way our model evaluates data that it was not trained in. This validation loss would start going up again when we start to overfit our data."
   ]
  },
  {
   "cell_type": "code",
   "execution_count": 22,
   "metadata": {},
   "outputs": [
    {
     "name": "stdout",
     "output_type": "stream",
     "text": [
      "Current Epoch: 2000 Training Loss: 2.137055                                        \r"
     ]
    },
    {
     "data": {
      "image/png": "[encoded data removed]",
      "text/plain": [
       "<Figure size 432x288 with 1 Axes>"
      ]
     },
     "metadata": {
      "needs_background": "light"
     },
     "output_type": "display_data"
    }
   ],
   "source": [
    "# EPOCH REAL TIME COUNTER CLASS\n",
    "class PrintEpNum(tf.keras.callbacks.Callback): # This is a function for the Epoch Counter\n",
    "    def on_epoch_end(self, epoch, logs):\n",
    "        sys.stdout.flush()\n",
    "        sys.stdout.write(\"Current Epoch: \" + str(epoch+1) + \" Training Loss: \" + \"%4f\" %logs.get('loss') + '                                       \\r') # Updates current Epoch Number\n",
    "\n",
    "EPOCHS = 2000 # Number of EPOCHS\n",
    "\n",
    "# HISTORY Object which contains how the model learned\n",
    "\n",
    "# Training Values (Properties), Training Labels (Known Young's Moduli) \n",
    "history = model.fit(train_values, train_labels, batch_size=train_values.shape[0], \n",
    "                    epochs=EPOCHS, verbose = False, validation_split=0.1, callbacks=[PrintEpNum()])\n",
    "\n",
    "\n",
    "# PLOTTING HISTORY USING MATPLOTLIB\n",
    "\n",
    "plt.figure()\n",
    "plt.xlabel('Epoch')\n",
    "plt.ylabel('Mean Abs Error')\n",
    "plt.plot(history.epoch, np.array(history.history['mean_absolute_error']),label='Loss on training set') \n",
    "plt.plot(history.epoch, np.array(history.history['val_mean_absolute_error']),label = 'Validation loss')\n",
    "plt.legend()\n",
    "plt.show()"
   ]
  },
  {
   "cell_type": "markdown",
   "metadata": {},
   "source": [
    "#### SAVING A MODEL\n",
    "\n",
    "Compiled and trained models in Keras can be saved and distributed in .h5 files using the `model.save()` method. Running the cell below will save the current model we trained, both weights and architecture to your home directory."
   ]
  },
  {
   "cell_type": "code",
   "execution_count": 23,
   "metadata": {},
   "outputs": [],
   "source": [
    "model.save(os.path.expanduser('~/model.h5'))"
   ]
  },
  {
   "cell_type": "markdown",
   "metadata": {},
   "source": [
    "#### TESTING\n",
    "\n",
    "Models in Keras are tested using the method [**evaluate**](https://keras.io/models/model/#evaluate). This method returns the testing loss of the model and the metrics we specified when creating it,  which in our case it's the Mean Absolute Error. For the original model in this tutorial you should get a value of around **20 GPa** for the Mean Absolute Error. This value would decrease with more training data, more attributes/features, or a different optimizer. In the case of a model that overfits, you can expect values to start increasing to around **30 or 40 GPa**."
   ]
  },
  {
   "cell_type": "code",
   "execution_count": 24,
   "metadata": {},
   "outputs": [
    {
     "name": "stdout",
     "output_type": "stream",
     "text": [
      "Testing Set Mean Absolute Error: 4.188 GPa\n"
     ]
    }
   ],
   "source": [
    "[loss, mae] = model.evaluate(test_values, test_labels, verbose=0)\n",
    "\n",
    "print(\"Testing Set Mean Absolute Error: {:2.3f} GPa\".format(mae))"
   ]
  },
  {
   "cell_type": "code",
   "execution_count": 25,
   "metadata": {},
   "outputs": [
    {
     "data": {
      "text/plain": [
       "<module 'tensorflow._api.v1.summary' from 'C:\\\\Users\\\\Kayla Yano\\\\anaconda3\\\\envs\\\\PythonData\\\\lib\\\\site-packages\\\\tensorflow\\\\_api\\\\v1\\\\summary\\\\__init__.py'>"
      ]
     },
     "execution_count": 25,
     "metadata": {},
     "output_type": "execute_result"
    }
   ],
   "source": [
    "tf.summary"
   ]
  },
  {
   "cell_type": "code",
   "execution_count": 26,
   "metadata": {},
   "outputs": [
    {
     "name": "stdout",
     "output_type": "stream",
     "text": [
      "The tensorboard extension is already loaded. To reload it, use:\n",
      "  %reload_ext tensorboard\n"
     ]
    },
    {
     "data": {
      "text/plain": [
       "Reusing TensorBoard on port 6006 (pid 6032), started 2 days, 3:53:19 ago. (Use '!kill 6032' to kill it.)"
      ]
     },
     "metadata": {},
     "output_type": "display_data"
    },
    {
     "data": {
      "text/html": [
       "\n",
       "        <iframe\n",
       "            width=\"100%\"\n",
       "            height=\"800\"\n",
       "            src=\"http://localhost:6006\"\n",
       "            frameborder=\"0\"\n",
       "            allowfullscreen\n",
       "        ></iframe>\n",
       "        "
      ],
      "text/plain": [
       "<IPython.lib.display.IFrame at 0x1cb7b0857c8>"
      ]
     },
     "metadata": {},
     "output_type": "display_data"
    }
   ],
   "source": [
    "# Load the TensorBoard notebook extension\n",
    "%load_ext tensorboard\n",
    "# Clear any logs from previous runs\n",
    "!rm -rf ./logs/ \n",
    "%tensorboard --logdir logs/gradient_tape"
   ]
  },
  {
   "cell_type": "markdown",
   "metadata": {},
   "source": [
    "#### MAKING PREDICTIONS\n",
    "\n",
    "The last step in a regression model is to make predictions for values not in the training set, which are determined by the method [**predict**](https://keras.io/models/model/#predict). In the following cell we print the elements in the testing set, the real values for their Young's moduli and the predictions generated by our machine learned model."
   ]
  },
  {
   "cell_type": "code",
   "execution_count": 27,
   "metadata": {},
   "outputs": [
    {
     "name": "stdout",
     "output_type": "stream",
     "text": [
      "Elements in Test Set:  ['La3InC', 'Sc3AlC', 'Y3AlC', 'Hf2SnC', 'NaCNO', 'NdNi2B2C', 'CaMg(CO3)2', 'K2Ca(CO3)2', 'Ti2CdC', 'Ce2Re2Si2C', 'LaNi2B2C', 'TbNi2B2C', 'KHCO3', 'TmNi2B2C', 'HoCr2Si2C', 'Sm2Fe2Si2C', 'Er2Fe2Si2C', 'Sr2C(NCl)2', 'ErNi2B2C', 'DyNi2B2C', 'NaCSN', 'La2Si4CN6', 'Tm2Fe2Si2C', 'UNi2B2C', 'Ho2Fe2Si2C', 'Y2Fe2Si2C', 'Lu2Fe2Si2C', 'HoSiRu2C', 'Y2Si4CN6', 'Tb2Fe2Si2C', 'LaB2Rh2C', 'KCaCO3F']\n",
      "Real Values [81.6, 195.88, 149.94, 213.28, 21.92, 195.36, 113.52, 62.88, 136.74, 154.8, 181.44000000000003, 196.84, 26.200000000000006, 196.84, 270.84, 181.44, 212.5, 47.88, 195.0, 190.28, 20.96, 146.28, 213.28, 243.66, 206.64, 204.18, 212.5, 201.74, 252.5, 200.88, 151.79999999999995, 72.5]\n",
      "Predictions [119.52336, 197.60657, 149.62572, 215.32602, 19.52777, 198.09583, 115.71315, 64.52696, 137.98143, 156.28177, 190.22238, 199.22647, 28.116491, 202.07133, 272.86942, 183.66766, 213.35793, 48.98626, 196.26492, 194.6956, 27.518612, 163.76318, 215.43378, 245.08752, 209.90979, 205.01157, 214.05574, 203.35654, 252.29755, 202.0615, 162.1095, 76.002846]\n"
     ]
    }
   ],
   "source": [
    "test_predictions = model.predict(test_values).flatten()\n",
    "\n",
    "print(\"Elements in Test Set: \", labeled_elements)\n",
    "print(\"Real Values\", list(test_labels))\n",
    "print(\"Predictions\", list(test_predictions))\n",
    "\n",
    "values = np.concatenate((train_values, test_values), axis=0) # This line joins the values together to evaluate all of them\n",
    "predictions = model.predict(values).flatten()"
   ]
  },
  {
   "cell_type": "markdown",
   "metadata": {},
   "source": [
    "### 4. Plotting\n",
    "\n",
    "The easiest way to see if the model did a good job estimating the Young's Modulus for the Elements is through a plot comparing Real Values with their Predictions. We will use [Plotly](https://plot.ly/python/) to create a plot like that. We covered how to plot in Plotly in the first tutorial of this tool. For values in this plot, the line (x = y) indicates a perfect match and would be the desirable result for the points. As you analyze the plot, you can hover on the points to see the data we obtained in the cell above."
   ]
  },
  {
   "cell_type": "code",
   "execution_count": 28,
   "metadata": {},
   "outputs": [
    {
     "data": {
      "text/html": [
       "        <script type=\"text/javascript\">\n",
       "        window.PlotlyConfig = {MathJaxConfig: 'local'};\n",
       "        if (window.MathJax) {MathJax.Hub.Config({SVG: {font: \"STIX-Web\"}});}\n",
       "        if (typeof require !== 'undefined') {\n",
       "        require.undef(\"plotly\");\n",
       "        requirejs.config({\n",
       "            paths: {\n",
       "                'plotly': ['https://cdn.plot.ly/plotly-latest.min']\n",
       "            }\n",
       "        });\n",
       "        require(['plotly'], function(Plotly) {\n",
       "            window._Plotly = Plotly;\n",
       "        });\n",
       "        }\n",
       "        </script>\n",
       "        "
      ]
     },
     "metadata": {},
     "output_type": "display_data"
    },
    {
     "data": {
      "application/vnd.plotly.v1+json": {
       "config": {
        "linkText": "Export to plot.ly",
        "plotlyServerURL": "https://plot.ly",
        "showLink": false
       },
       "data": [
        {
         "marker": {
          "color": "blue",
          "size": 12
         },
         "mode": "markers",
         "name": "Young's Modulus (Training)",
         "text": [
          "LiC12",
          "H4C",
          "Ti2C",
          "TaC",
          "ThC",
          "SiC",
          "Dy2C",
          "Y2C",
          "Lu4C7",
          "Mo2C",
          "Be2C",
          "Al4C3",
          "WC",
          "CO2",
          "Ce2C3",
          "V2C",
          "Cr3C2",
          "HfC",
          "Mn5C2",
          "LaC2",
          "UC2",
          "UC",
          "Nb6C5",
          "ZrC",
          "V6C5",
          "Sc2C",
          "SiC",
          "SiC",
          "PaC",
          "SiC",
          "SiC",
          "SiC",
          "Nb2C",
          "SiC",
          "SiC",
          "B13C2",
          "SiC",
          "Ta2C",
          "Cr23C6",
          "SiC",
          "Y4C5",
          "Er2B4C",
          "Dy2Cr2C3",
          "Y2Cr2C3",
          "Ta2AlC",
          "Y3GaC",
          "LuRh3C",
          "ZrRu3C",
          "Er(BC)2",
          "Rb2PtC2",
          "Hf2CS",
          "TmCoC2",
          "Sc4C3",
          "Ho2C",
          "MnCO3",
          "Zr2InC",
          "Cr2GaC",
          "MgCo3C",
          "Ti2PbC",
          "Ti8C5",
          "Dy(BC)2",
          "Y2B3C2",
          "Li2CO3",
          "Sc3FeC4",
          "Ti3AlC2",
          "SrCO3",
          "Sc3TlC",
          "Zr2SnC",
          "Sc(AlC)3",
          "Zr2CS",
          "TbCoC2",
          "MgCO3",
          "Na2CN2",
          "Ti3SiC2",
          "Hf2Al3C4",
          "ScCoC2",
          "TiC",
          "Tb2C",
          "La3TlC",
          "V2PC",
          "Y3TlC",
          "ThCoC2",
          "Ce3AlC",
          "Tm2Cr2C3",
          "Tb2Cr2C3",
          "Tb2B4C",
          "ScCo3C",
          "Rb2CN2",
          "K2CN2",
          "Sm3TlC",
          "Tb(BC)2",
          "SrCN2",
          "Ce2Mo2C3",
          "Sc3SnC",
          "Cr2GeC",
          "CeCoC2",
          "HoCoC",
          "Y3PbC",
          "Mn3GaC",
          "YRh3C",
          "Hf2InC",
          "YCI",
          "ZnCN2",
          "Ti2CS",
          "CaCO3",
          "ScCrC2",
          "Cs2PtC2",
          "BaCO3",
          "Sr4CN4",
          "Dy2B4C",
          "Cs2CO3",
          "YCBr",
          "U2IrC2",
          "Ta2CS2",
          "Ho2Cr2C3",
          "Sc3GaC",
          "Sc3InC",
          "MgCN2",
          "ZnCO3",
          "YB2C",
          "V2GeC",
          "Nb3AlC2",
          "Ho2B4C",
          "BaCN2",
          "Cs2CN2",
          "Sc2BC2",
          "Y3SnC",
          "La3PbC",
          "ScRh3C",
          "TmRh3C",
          "CdCN2",
          "Ti2AlC",
          "DyCoC",
          "Y2ReC2",
          "Ti3SnC2",
          "Sc3PbC",
          "YCoC",
          "ThRu3C",
          "AlFe3C",
          "Sc2CCl2",
          "Si2CN4",
          "Ti2SnC",
          "CaCN2",
          "CdCO3",
          "NdNiC2",
          "Nb2SnC",
          "Pr2CBr",
          "Mg2B24C",
          "Mg(B6C)2",
          "Sc3IrC4",
          "Tb3AlC",
          "Sm(BC)2",
          "ScRu3C",
          "Nd2BC",
          "AlCr2C",
          "Nb2PC",
          "V2AsC",
          "LaNiC2",
          "Ca(BC)2",
          "YbRh3C",
          "Pr(BC)2",
          "Ti2GaC",
          "ErCoC2",
          "DyRh3C",
          "NiCO3",
          "TmCoC",
          "Y3InC",
          "Nb2InC",
          "PbCO3",
          "Ti2InC",
          "Ti3InC",
          "Nd3InC",
          "V3AsC",
          "UCO5",
          "ThB2C",
          "Ti3AlC",
          "Mg(BC)2",
          "Ta4AlC3",
          "K2CO3",
          "TmNiC2",
          "Rb2CO3",
          "YCoC2",
          "Mn3AlC",
          "Ag2CO3",
          "Sc3CoC4",
          "Ca4CN4",
          "TbRh3C",
          "LiB6C",
          "Ta3AlC2",
          "Ho2CF2",
          "LiBC",
          "PrNiC2",
          "Li2CN2",
          "Lu2Mo2C3",
          "Ti2GeC",
          "Nb2AlC",
          "Nb2AsC",
          "Y2Re2Si2C",
          "AlV2C",
          "Dy2Fe2Si2C",
          "La3InC",
          "Sc3AlC",
          "Y3AlC",
          "Hf2SnC",
          "NaCNO",
          "NdNi2B2C",
          "CaMg(CO3)2",
          "K2Ca(CO3)2",
          "Ti2CdC",
          "Ce2Re2Si2C",
          "LaNi2B2C",
          "TbNi2B2C",
          "KHCO3",
          "TmNi2B2C",
          "HoCr2Si2C",
          "Sm2Fe2Si2C",
          "Er2Fe2Si2C",
          "Sr2C(NCl)2",
          "ErNi2B2C",
          "DyNi2B2C",
          "NaCSN",
          "La2Si4CN6",
          "Tm2Fe2Si2C",
          "UNi2B2C",
          "Ho2Fe2Si2C",
          "Y2Fe2Si2C",
          "Lu2Fe2Si2C",
          "HoSiRu2C",
          "Y2Si4CN6",
          "Tb2Fe2Si2C",
          "LaB2Rh2C",
          "KCaCO3F"
         ],
         "type": "scatter",
         "x": [
          233.24,
          0,
          196.56,
          528.9,
          186.88,
          433.84,
          77.4,
          81.92,
          187.5,
          384,
          498.96,
          273.46,
          675.18,
          7.62,
          175,
          301.86,
          432.64,
          432,
          286.72,
          90.44,
          184.6,
          101.52,
          392.84,
          384.78,
          423.5,
          42.3,
          433.84,
          433.84,
          205.4,
          433.84,
          433.84,
          433.84,
          299.52,
          433.84,
          433.84,
          384.78,
          433.84,
          350.52,
          358.8,
          433.84,
          133.12,
          304.8,
          179.4,
          192.4,
          302.56,
          151.04,
          221.76,
          392.5,
          302.56,
          44.2,
          300.12,
          249.48,
          165,
          82.56,
          115.28,
          200.08,
          287.68,
          284.76,
          180,
          280.6,
          309.88,
          170.3,
          69.66,
          292.8,
          299.88,
          77.4,
          191.88,
          198.4,
          322.92,
          273.28,
          239.4,
          157.5,
          47.16,
          333.6,
          371.28,
          263.68,
          429.44,
          70.74000000000002,
          99.2,
          366.54,
          149.76,
          239.94,
          107.52,
          200.2,
          176.8,
          297.6,
          257.40000000000003,
          26.6,
          34.06,
          114.24,
          307.44,
          46.58000000000001,
          202.5,
          193.52,
          216.48,
          193.04,
          150.48000000000005,
          138.04,
          292.1,
          211.2,
          222.64,
          18.2,
          64.80000000000001,
          321.6,
          83.84,
          329.84,
          36.68,
          57.64,
          60.26000000000001,
          292.8,
          18.76,
          26.200000000000006,
          140.76,
          60.5,
          188.64,
          198.9,
          191.88,
          93.8,
          129.36,
          333.2,
          254.52,
          334.28,
          304.64,
          30.58,
          11.12,
          181.76,
          151.2,
          114.68,
          237.6,
          216.48,
          68.5,
          264.32,
          150.48000000000005,
          185,
          271.04,
          180.88,
          158.4,
          273,
          256.76,
          33.879999999999995,
          83.4,
          224.48,
          59.40000000000001,
          85.76,
          221.88,
          203.82,
          92.5,
          449.16,
          487.92000000000013,
          302.56,
          32.40000000000001,
          302.5,
          350,
          65,
          324.28,
          347.2,
          289.8,
          190.96,
          231.8,
          211.2,
          288,
          257.04,
          249.48,
          207.48,
          172.72,
          159.82,
          148.67999999999995,
          242.5,
          55.86,
          230.4,
          228.16,
          105.78,
          208.56,
          53.5,
          305,
          248.46,
          255.84,
          362.08,
          29.040000000000006,
          250.48,
          26.4,
          239.4,
          322.5,
          35.36,
          295.2,
          82.56,
          204.82,
          419.52,
          384.78,
          160,
          310.88,
          210,
          45.90000000000001,
          228.6,
          253.76,
          280.44,
          299.88,
          183.18,
          311.78,
          204.18,
          81.6,
          195.88,
          149.94,
          213.28,
          21.92,
          195.36,
          113.52,
          62.88,
          136.74,
          154.8,
          181.44000000000003,
          196.84,
          26.200000000000006,
          196.84,
          270.84,
          181.44,
          212.5,
          47.88,
          195,
          190.28,
          20.96,
          146.28,
          213.28,
          243.66,
          206.64,
          204.18,
          212.5,
          201.74,
          252.5,
          200.88,
          151.79999999999995,
          72.5
         ],
         "y": [
          234.67398071289062,
          14.390096664428711,
          197.7644500732422,
          528.5010986328125,
          187.02737426757812,
          435.77117919921875,
          78.85092163085938,
          81.20641326904297,
          189.11328125,
          388.02105712890625,
          518.4833984375,
          275.0921630859375,
          673.77734375,
          16.35270881652832,
          176.49588012695312,
          306.1437683105469,
          433.6681213378906,
          434.0321044921875,
          268.88360595703125,
          91.19767761230469,
          185.798828125,
          103.9793930053711,
          395.7726135253906,
          386.4381103515625,
          422.5137634277344,
          51.88323211669922,
          438.6674499511719,
          434.60150146484375,
          206.81167602539062,
          436.7957763671875,
          439.2044982910156,
          437.8531799316406,
          302.0240783691406,
          437.2413330078125,
          436.5050354003906,
          387.0829162597656,
          437.831787109375,
          350.7970886230469,
          362.8238220214844,
          434.8586120605469,
          132.9864044189453,
          308.7288513183594,
          179.8426055908203,
          194.48367309570312,
          304.097900390625,
          152.22772216796875,
          224.60647583007812,
          391.80218505859375,
          303.9048156738281,
          43.414024353027344,
          302.482177734375,
          251.74740600585938,
          164.89952087402344,
          83.72113800048828,
          117.00780487060547,
          202.0327911376953,
          288.0433044433594,
          286.16064453125,
          180.68267822265625,
          282.24517822265625,
          311.1065673828125,
          169.52117919921875,
          71.96823120117188,
          294.71044921875,
          299.9236145019531,
          77.54388427734375,
          194.48770141601562,
          200.32028198242188,
          325.4739990234375,
          275.955078125,
          241.43063354492188,
          158.6242218017578,
          48.165313720703125,
          333.9647521972656,
          374.2953186035156,
          265.40185546875,
          428.5735168457031,
          71.21754455566406,
          100.1334228515625,
          367.092041015625,
          150.99485778808594,
          239.87222290039062,
          108.92745971679688,
          201.47354125976562,
          178.1716766357422,
          299.7580261230469,
          260.7923889160156,
          28.04732894897461,
          34.8901481628418,
          115.88168334960938,
          308.1717834472656,
          46.130149841308594,
          205.00753784179688,
          195.20382690429688,
          210.1387939453125,
          195.72637939453125,
          151.2146453857422,
          139.35678100585938,
          292.0345764160156,
          215.1334228515625,
          226.21998596191406,
          20.469120025634766,
          64.81269836425781,
          323.13885498046875,
          86.7161636352539,
          329.6350402832031,
          37.099090576171875,
          57.98527145385742,
          60.35504150390625,
          296.607421875,
          22.486225128173828,
          26.88210105895996,
          144.09190368652344,
          62.21994400024414,
          190.70957946777344,
          200.52798461914062,
          193.849609375,
          94.11184692382812,
          131.1005859375,
          333.8075256347656,
          256.7875061035156,
          337.40350341796875,
          309.008544921875,
          30.65167999267578,
          12.2398681640625,
          181.81573486328125,
          150.76766967773438,
          116.10598754882812,
          241.35592651367188,
          220.37258911132812,
          68.53276824951172,
          265.2169189453125,
          150.35557556152344,
          187.05862426757812,
          273.6311950683594,
          182.46681213378906,
          158.78268432617188,
          273.2456970214844,
          263.2899475097656,
          34.92118835449219,
          84.63217163085938,
          226.68849182128906,
          59.68348693847656,
          86.49346923828125,
          222.6644287109375,
          204.6505126953125,
          94.2457046508789,
          454.96356201171875,
          494.4927062988281,
          307.4869384765625,
          33.489627838134766,
          303.3380126953125,
          351.2496032714844,
          67.30487060546875,
          326.8059387207031,
          348.2730407714844,
          291.31451416015625,
          193.58712768554688,
          230.0518798828125,
          211.71005249023438,
          290.3399353027344,
          259.1537170410156,
          250.95455932617188,
          209.42718505859375,
          174.36944580078125,
          161.09158325195312,
          149.61935424804688,
          242.81622314453125,
          57.63842010498047,
          231.97064208984375,
          229.142333984375,
          105.86021423339844,
          211.90921020507812,
          54.98662185668945,
          307.5029296875,
          248.305419921875,
          258.09100341796875,
          363.7156677246094,
          29.06688117980957,
          253.54835510253906,
          28.208070755004883,
          240.7777862548828,
          322.8827209472656,
          35.73834228515625,
          294.8790588378906,
          81.44882202148438,
          206.95321655273438,
          425.9230651855469,
          389.1740417480469,
          160.8546142578125,
          313.2713317871094,
          210.84475708007812,
          48.655269622802734,
          229.70513916015625,
          255.765380859375,
          282.0302734375,
          300.2138977050781,
          185.11410522460938,
          314.6431579589844,
          207.1293487548828,
          119.52336120605469,
          197.6065673828125,
          149.62571716308594,
          215.32601928710938,
          19.527769088745117,
          198.0958251953125,
          115.71315002441406,
          64.52696228027344,
          137.98143005371094,
          156.28176879882812,
          190.22238159179688,
          199.22647094726562,
          28.116491317749023,
          202.0713348388672,
          272.8694152832031,
          183.66766357421875,
          213.35792541503906,
          48.98625946044922,
          196.26492309570312,
          194.6956024169922,
          27.518611907958984,
          163.76318359375,
          215.43377685546875,
          245.0875244140625,
          209.9097900390625,
          205.01156616210938,
          214.0557403564453,
          203.35653686523438,
          252.29754638671875,
          202.06149291992188,
          162.1094970703125,
          76.00284576416016
         ]
        },
        {
         "marker": {
          "color": "red",
          "size": 12
         },
         "mode": "markers",
         "name": "Young's Modulus (Testing)",
         "text": [
          "La3InC",
          "Sc3AlC",
          "Y3AlC",
          "Hf2SnC",
          "NaCNO",
          "NdNi2B2C",
          "CaMg(CO3)2",
          "K2Ca(CO3)2",
          "Ti2CdC",
          "Ce2Re2Si2C",
          "LaNi2B2C",
          "TbNi2B2C",
          "KHCO3",
          "TmNi2B2C",
          "HoCr2Si2C",
          "Sm2Fe2Si2C",
          "Er2Fe2Si2C",
          "Sr2C(NCl)2",
          "ErNi2B2C",
          "DyNi2B2C",
          "NaCSN",
          "La2Si4CN6",
          "Tm2Fe2Si2C",
          "UNi2B2C",
          "Ho2Fe2Si2C",
          "Y2Fe2Si2C",
          "Lu2Fe2Si2C",
          "HoSiRu2C",
          "Y2Si4CN6",
          "Tb2Fe2Si2C",
          "LaB2Rh2C",
          "KCaCO3F"
         ],
         "type": "scatter",
         "x": [
          81.6,
          195.88,
          149.94,
          213.28,
          21.92,
          195.36,
          113.52,
          62.88,
          136.74,
          154.8,
          181.44000000000003,
          196.84,
          26.200000000000006,
          196.84,
          270.84,
          181.44,
          212.5,
          47.88,
          195,
          190.28,
          20.96,
          146.28,
          213.28,
          243.66,
          206.64,
          204.18,
          212.5,
          201.74,
          252.5,
          200.88,
          151.79999999999995,
          72.5
         ],
         "y": [
          119.52336120605469,
          197.6065673828125,
          149.62571716308594,
          215.32601928710938,
          19.527769088745117,
          198.0958251953125,
          115.71315002441406,
          64.52696228027344,
          137.98143005371094,
          156.28176879882812,
          190.22238159179688,
          199.22647094726562,
          28.116491317749023,
          202.0713348388672,
          272.8694152832031,
          183.66766357421875,
          213.35792541503906,
          48.98625946044922,
          196.26492309570312,
          194.6956024169922,
          27.518611907958984,
          163.76318359375,
          215.43377685546875,
          245.0875244140625,
          209.9097900390625,
          205.01156616210938,
          214.0557403564453,
          203.35653686523438,
          252.29754638671875,
          202.06149291992188,
          162.1094970703125,
          76.00284576416016
         ]
        },
        {
         "mode": "lines",
         "name": "Match",
         "type": "scatter",
         "x": [
          0,
          700
         ],
         "y": [
          0,
          700
         ]
        }
       ],
       "layout": {
        "height": 600,
        "hovermode": "closest",
        "legend": {
         "font": {
          "size": 24
         }
        },
        "showlegend": true,
        "template": {
         "data": {
          "bar": [
           {
            "error_x": {
             "color": "#2a3f5f"
            },
            "error_y": {
             "color": "#2a3f5f"
            },
            "marker": {
             "line": {
              "color": "#E5ECF6",
              "width": 0.5
             }
            },
            "type": "bar"
           }
          ],
          "barpolar": [
           {
            "marker": {
             "line": {
              "color": "#E5ECF6",
              "width": 0.5
             }
            },
            "type": "barpolar"
           }
          ],
          "carpet": [
           {
            "aaxis": {
             "endlinecolor": "#2a3f5f",
             "gridcolor": "white",
             "linecolor": "white",
             "minorgridcolor": "white",
             "startlinecolor": "#2a3f5f"
            },
            "baxis": {
             "endlinecolor": "#2a3f5f",
             "gridcolor": "white",
             "linecolor": "white",
             "minorgridcolor": "white",
             "startlinecolor": "#2a3f5f"
            },
            "type": "carpet"
           }
          ],
          "choropleth": [
           {
            "colorbar": {
             "outlinewidth": 0,
             "ticks": ""
            },
            "type": "choropleth"
           }
          ],
          "contour": [
           {
            "colorbar": {
             "outlinewidth": 0,
             "ticks": ""
            },
            "colorscale": [
             [
              0,
              "#0d0887"
             ],
             [
              0.1111111111111111,
              "#46039f"
             ],
             [
              0.2222222222222222,
              "#7201a8"
             ],
             [
              0.3333333333333333,
              "#9c179e"
             ],
             [
              0.4444444444444444,
              "#bd3786"
             ],
             [
              0.5555555555555556,
              "#d8576b"
             ],
             [
              0.6666666666666666,
              "#ed7953"
             ],
             [
              0.7777777777777778,
              "#fb9f3a"
             ],
             [
              0.8888888888888888,
              "#fdca26"
             ],
             [
              1,
              "#f0f921"
             ]
            ],
            "type": "contour"
           }
          ],
          "contourcarpet": [
           {
            "colorbar": {
             "outlinewidth": 0,
             "ticks": ""
            },
            "type": "contourcarpet"
           }
          ],
          "heatmap": [
           {
            "colorbar": {
             "outlinewidth": 0,
             "ticks": ""
            },
            "colorscale": [
             [
              0,
              "#0d0887"
             ],
             [
              0.1111111111111111,
              "#46039f"
             ],
             [
              0.2222222222222222,
              "#7201a8"
             ],
             [
              0.3333333333333333,
              "#9c179e"
             ],
             [
              0.4444444444444444,
              "#bd3786"
             ],
             [
              0.5555555555555556,
              "#d8576b"
             ],
             [
              0.6666666666666666,
              "#ed7953"
             ],
             [
              0.7777777777777778,
              "#fb9f3a"
             ],
             [
              0.8888888888888888,
              "#fdca26"
             ],
             [
              1,
              "#f0f921"
             ]
            ],
            "type": "heatmap"
           }
          ],
          "heatmapgl": [
           {
            "colorbar": {
             "outlinewidth": 0,
             "ticks": ""
            },
            "colorscale": [
             [
              0,
              "#0d0887"
             ],
             [
              0.1111111111111111,
              "#46039f"
             ],
             [
              0.2222222222222222,
              "#7201a8"
             ],
             [
              0.3333333333333333,
              "#9c179e"
             ],
             [
              0.4444444444444444,
              "#bd3786"
             ],
             [
              0.5555555555555556,
              "#d8576b"
             ],
             [
              0.6666666666666666,
              "#ed7953"
             ],
             [
              0.7777777777777778,
              "#fb9f3a"
             ],
             [
              0.8888888888888888,
              "#fdca26"
             ],
             [
              1,
              "#f0f921"
             ]
            ],
            "type": "heatmapgl"
           }
          ],
          "histogram": [
           {
            "marker": {
             "colorbar": {
              "outlinewidth": 0,
              "ticks": ""
             }
            },
            "type": "histogram"
           }
          ],
          "histogram2d": [
           {
            "colorbar": {
             "outlinewidth": 0,
             "ticks": ""
            },
            "colorscale": [
             [
              0,
              "#0d0887"
             ],
             [
              0.1111111111111111,
              "#46039f"
             ],
             [
              0.2222222222222222,
              "#7201a8"
             ],
             [
              0.3333333333333333,
              "#9c179e"
             ],
             [
              0.4444444444444444,
              "#bd3786"
             ],
             [
              0.5555555555555556,
              "#d8576b"
             ],
             [
              0.6666666666666666,
              "#ed7953"
             ],
             [
              0.7777777777777778,
              "#fb9f3a"
             ],
             [
              0.8888888888888888,
              "#fdca26"
             ],
             [
              1,
              "#f0f921"
             ]
            ],
            "type": "histogram2d"
           }
          ],
          "histogram2dcontour": [
           {
            "colorbar": {
             "outlinewidth": 0,
             "ticks": ""
            },
            "colorscale": [
             [
              0,
              "#0d0887"
             ],
             [
              0.1111111111111111,
              "#46039f"
             ],
             [
              0.2222222222222222,
              "#7201a8"
             ],
             [
              0.3333333333333333,
              "#9c179e"
             ],
             [
              0.4444444444444444,
              "#bd3786"
             ],
             [
              0.5555555555555556,
              "#d8576b"
             ],
             [
              0.6666666666666666,
              "#ed7953"
             ],
             [
              0.7777777777777778,
              "#fb9f3a"
             ],
             [
              0.8888888888888888,
              "#fdca26"
             ],
             [
              1,
              "#f0f921"
             ]
            ],
            "type": "histogram2dcontour"
           }
          ],
          "mesh3d": [
           {
            "colorbar": {
             "outlinewidth": 0,
             "ticks": ""
            },
            "type": "mesh3d"
           }
          ],
          "parcoords": [
           {
            "line": {
             "colorbar": {
              "outlinewidth": 0,
              "ticks": ""
             }
            },
            "type": "parcoords"
           }
          ],
          "pie": [
           {
            "automargin": true,
            "type": "pie"
           }
          ],
          "scatter": [
           {
            "marker": {
             "colorbar": {
              "outlinewidth": 0,
              "ticks": ""
             }
            },
            "type": "scatter"
           }
          ],
          "scatter3d": [
           {
            "line": {
             "colorbar": {
              "outlinewidth": 0,
              "ticks": ""
             }
            },
            "marker": {
             "colorbar": {
              "outlinewidth": 0,
              "ticks": ""
             }
            },
            "type": "scatter3d"
           }
          ],
          "scattercarpet": [
           {
            "marker": {
             "colorbar": {
              "outlinewidth": 0,
              "ticks": ""
             }
            },
            "type": "scattercarpet"
           }
          ],
          "scattergeo": [
           {
            "marker": {
             "colorbar": {
              "outlinewidth": 0,
              "ticks": ""
             }
            },
            "type": "scattergeo"
           }
          ],
          "scattergl": [
           {
            "marker": {
             "colorbar": {
              "outlinewidth": 0,
              "ticks": ""
             }
            },
            "type": "scattergl"
           }
          ],
          "scattermapbox": [
           {
            "marker": {
             "colorbar": {
              "outlinewidth": 0,
              "ticks": ""
             }
            },
            "type": "scattermapbox"
           }
          ],
          "scatterpolar": [
           {
            "marker": {
             "colorbar": {
              "outlinewidth": 0,
              "ticks": ""
             }
            },
            "type": "scatterpolar"
           }
          ],
          "scatterpolargl": [
           {
            "marker": {
             "colorbar": {
              "outlinewidth": 0,
              "ticks": ""
             }
            },
            "type": "scatterpolargl"
           }
          ],
          "scatterternary": [
           {
            "marker": {
             "colorbar": {
              "outlinewidth": 0,
              "ticks": ""
             }
            },
            "type": "scatterternary"
           }
          ],
          "surface": [
           {
            "colorbar": {
             "outlinewidth": 0,
             "ticks": ""
            },
            "colorscale": [
             [
              0,
              "#0d0887"
             ],
             [
              0.1111111111111111,
              "#46039f"
             ],
             [
              0.2222222222222222,
              "#7201a8"
             ],
             [
              0.3333333333333333,
              "#9c179e"
             ],
             [
              0.4444444444444444,
              "#bd3786"
             ],
             [
              0.5555555555555556,
              "#d8576b"
             ],
             [
              0.6666666666666666,
              "#ed7953"
             ],
             [
              0.7777777777777778,
              "#fb9f3a"
             ],
             [
              0.8888888888888888,
              "#fdca26"
             ],
             [
              1,
              "#f0f921"
             ]
            ],
            "type": "surface"
           }
          ],
          "table": [
           {
            "cells": {
             "fill": {
              "color": "#EBF0F8"
             },
             "line": {
              "color": "white"
             }
            },
            "header": {
             "fill": {
              "color": "#C8D4E3"
             },
             "line": {
              "color": "white"
             }
            },
            "type": "table"
           }
          ]
         },
         "layout": {
          "annotationdefaults": {
           "arrowcolor": "#2a3f5f",
           "arrowhead": 0,
           "arrowwidth": 1
          },
          "coloraxis": {
           "colorbar": {
            "outlinewidth": 0,
            "ticks": ""
           }
          },
          "colorscale": {
           "diverging": [
            [
             0,
             "#8e0152"
            ],
            [
             0.1,
             "#c51b7d"
            ],
            [
             0.2,
             "#de77ae"
            ],
            [
             0.3,
             "#f1b6da"
            ],
            [
             0.4,
             "#fde0ef"
            ],
            [
             0.5,
             "#f7f7f7"
            ],
            [
             0.6,
             "#e6f5d0"
            ],
            [
             0.7,
             "#b8e186"
            ],
            [
             0.8,
             "#7fbc41"
            ],
            [
             0.9,
             "#4d9221"
            ],
            [
             1,
             "#276419"
            ]
           ],
           "sequential": [
            [
             0,
             "#0d0887"
            ],
            [
             0.1111111111111111,
             "#46039f"
            ],
            [
             0.2222222222222222,
             "#7201a8"
            ],
            [
             0.3333333333333333,
             "#9c179e"
            ],
            [
             0.4444444444444444,
             "#bd3786"
            ],
            [
             0.5555555555555556,
             "#d8576b"
            ],
            [
             0.6666666666666666,
             "#ed7953"
            ],
            [
             0.7777777777777778,
             "#fb9f3a"
            ],
            [
             0.8888888888888888,
             "#fdca26"
            ],
            [
             1,
             "#f0f921"
            ]
           ],
           "sequentialminus": [
            [
             0,
             "#0d0887"
            ],
            [
             0.1111111111111111,
             "#46039f"
            ],
            [
             0.2222222222222222,
             "#7201a8"
            ],
            [
             0.3333333333333333,
             "#9c179e"
            ],
            [
             0.4444444444444444,
             "#bd3786"
            ],
            [
             0.5555555555555556,
             "#d8576b"
            ],
            [
             0.6666666666666666,
             "#ed7953"
            ],
            [
             0.7777777777777778,
             "#fb9f3a"
            ],
            [
             0.8888888888888888,
             "#fdca26"
            ],
            [
             1,
             "#f0f921"
            ]
           ]
          },
          "colorway": [
           "#636efa",
           "#EF553B",
           "#00cc96",
           "#ab63fa",
           "#FFA15A",
           "#19d3f3",
           "#FF6692",
           "#B6E880",
           "#FF97FF",
           "#FECB52"
          ],
          "font": {
           "color": "#2a3f5f"
          },
          "geo": {
           "bgcolor": "white",
           "lakecolor": "white",
           "landcolor": "#E5ECF6",
           "showlakes": true,
           "showland": true,
           "subunitcolor": "white"
          },
          "hoverlabel": {
           "align": "left"
          },
          "hovermode": "closest",
          "mapbox": {
           "style": "light"
          },
          "paper_bgcolor": "white",
          "plot_bgcolor": "#E5ECF6",
          "polar": {
           "angularaxis": {
            "gridcolor": "white",
            "linecolor": "white",
            "ticks": ""
           },
           "bgcolor": "#E5ECF6",
           "radialaxis": {
            "gridcolor": "white",
            "linecolor": "white",
            "ticks": ""
           }
          },
          "scene": {
           "xaxis": {
            "backgroundcolor": "#E5ECF6",
            "gridcolor": "white",
            "gridwidth": 2,
            "linecolor": "white",
            "showbackground": true,
            "ticks": "",
            "zerolinecolor": "white"
           },
           "yaxis": {
            "backgroundcolor": "#E5ECF6",
            "gridcolor": "white",
            "gridwidth": 2,
            "linecolor": "white",
            "showbackground": true,
            "ticks": "",
            "zerolinecolor": "white"
           },
           "zaxis": {
            "backgroundcolor": "#E5ECF6",
            "gridcolor": "white",
            "gridwidth": 2,
            "linecolor": "white",
            "showbackground": true,
            "ticks": "",
            "zerolinecolor": "white"
           }
          },
          "shapedefaults": {
           "line": {
            "color": "#2a3f5f"
           }
          },
          "ternary": {
           "aaxis": {
            "gridcolor": "white",
            "linecolor": "white",
            "ticks": ""
           },
           "baxis": {
            "gridcolor": "white",
            "linecolor": "white",
            "ticks": ""
           },
           "bgcolor": "#E5ECF6",
           "caxis": {
            "gridcolor": "white",
            "linecolor": "white",
            "ticks": ""
           }
          },
          "title": {
           "x": 0.05
          },
          "xaxis": {
           "automargin": true,
           "gridcolor": "white",
           "linecolor": "white",
           "ticks": "",
           "title": {
            "standoff": 15
           },
           "zerolinecolor": "white",
           "zerolinewidth": 2
          },
          "yaxis": {
           "automargin": true,
           "gridcolor": "white",
           "linecolor": "white",
           "ticks": "",
           "title": {
            "standoff": 15
           },
           "zerolinecolor": "white",
           "zerolinewidth": 2
          }
         }
        },
        "title": {
         "font": {
          "size": 28
         },
         "text": "Neural Network Model - C Compounds Young's Modulus"
        },
        "width": 1000,
        "xaxis": {
         "gridwidth": 1,
         "tickfont": {
          "size": 18
         },
         "title": {
          "font": {
           "size": 24
          },
          "text": "Real Values (GPa)"
         },
         "zeroline": false
        },
        "yaxis": {
         "gridwidth": 1,
         "tickfont": {
          "size": 18
         },
         "title": {
          "font": {
           "size": 24
          },
          "text": "Prediction (GPa)"
         },
         "zeroline": false
        }
       }
      },
      "text/html": [
       "<div>\n",
       "        \n",
       "        \n",
       "            <div id=\"4abb294e-0643-46f8-8b4f-eeccaf2d8b58\" class=\"plotly-graph-div\" style=\"height:600px; width:1000px;\"></div>\n",
       "            <script type=\"text/javascript\">\n",
       "                require([\"plotly\"], function(Plotly) {\n",
       "                    window.PLOTLYENV=window.PLOTLYENV || {};\n",
       "                    \n",
       "                if (document.getElementById(\"4abb294e-0643-46f8-8b4f-eeccaf2d8b58\")) {\n",
       "                    Plotly.newPlot(\n",
       "                        '4abb294e-0643-46f8-8b4f-eeccaf2d8b58',\n",
       "                        [{\"marker\": {\"color\": \"blue\", \"size\": 12}, \"mode\": \"markers\", \"name\": \"Young's Modulus (Training)\", \"text\": [\"LiC12\", \"H4C\", \"Ti2C\", \"TaC\", \"ThC\", \"SiC\", \"Dy2C\", \"Y2C\", \"Lu4C7\", \"Mo2C\", \"Be2C\", \"Al4C3\", \"WC\", \"CO2\", \"Ce2C3\", \"V2C\", \"Cr3C2\", \"HfC\", \"Mn5C2\", \"LaC2\", \"UC2\", \"UC\", \"Nb6C5\", \"ZrC\", \"V6C5\", \"Sc2C\", \"SiC\", \"SiC\", \"PaC\", \"SiC\", \"SiC\", \"SiC\", \"Nb2C\", \"SiC\", \"SiC\", \"B13C2\", \"SiC\", \"Ta2C\", \"Cr23C6\", \"SiC\", \"Y4C5\", \"Er2B4C\", \"Dy2Cr2C3\", \"Y2Cr2C3\", \"Ta2AlC\", \"Y3GaC\", \"LuRh3C\", \"ZrRu3C\", \"Er(BC)2\", \"Rb2PtC2\", \"Hf2CS\", \"TmCoC2\", \"Sc4C3\", \"Ho2C\", \"MnCO3\", \"Zr2InC\", \"Cr2GaC\", \"MgCo3C\", \"Ti2PbC\", \"Ti8C5\", \"Dy(BC)2\", \"Y2B3C2\", \"Li2CO3\", \"Sc3FeC4\", \"Ti3AlC2\", \"SrCO3\", \"Sc3TlC\", \"Zr2SnC\", \"Sc(AlC)3\", \"Zr2CS\", \"TbCoC2\", \"MgCO3\", \"Na2CN2\", \"Ti3SiC2\", \"Hf2Al3C4\", \"ScCoC2\", \"TiC\", \"Tb2C\", \"La3TlC\", \"V2PC\", \"Y3TlC\", \"ThCoC2\", \"Ce3AlC\", \"Tm2Cr2C3\", \"Tb2Cr2C3\", \"Tb2B4C\", \"ScCo3C\", \"Rb2CN2\", \"K2CN2\", \"Sm3TlC\", \"Tb(BC)2\", \"SrCN2\", \"Ce2Mo2C3\", \"Sc3SnC\", \"Cr2GeC\", \"CeCoC2\", \"HoCoC\", \"Y3PbC\", \"Mn3GaC\", \"YRh3C\", \"Hf2InC\", \"YCI\", \"ZnCN2\", \"Ti2CS\", \"CaCO3\", \"ScCrC2\", \"Cs2PtC2\", \"BaCO3\", \"Sr4CN4\", \"Dy2B4C\", \"Cs2CO3\", \"YCBr\", \"U2IrC2\", \"Ta2CS2\", \"Ho2Cr2C3\", \"Sc3GaC\", \"Sc3InC\", \"MgCN2\", \"ZnCO3\", \"YB2C\", \"V2GeC\", \"Nb3AlC2\", \"Ho2B4C\", \"BaCN2\", \"Cs2CN2\", \"Sc2BC2\", \"Y3SnC\", \"La3PbC\", \"ScRh3C\", \"TmRh3C\", \"CdCN2\", \"Ti2AlC\", \"DyCoC\", \"Y2ReC2\", \"Ti3SnC2\", \"Sc3PbC\", \"YCoC\", \"ThRu3C\", \"AlFe3C\", \"Sc2CCl2\", \"Si2CN4\", \"Ti2SnC\", \"CaCN2\", \"CdCO3\", \"NdNiC2\", \"Nb2SnC\", \"Pr2CBr\", \"Mg2B24C\", \"Mg(B6C)2\", \"Sc3IrC4\", \"Tb3AlC\", \"Sm(BC)2\", \"ScRu3C\", \"Nd2BC\", \"AlCr2C\", \"Nb2PC\", \"V2AsC\", \"LaNiC2\", \"Ca(BC)2\", \"YbRh3C\", \"Pr(BC)2\", \"Ti2GaC\", \"ErCoC2\", \"DyRh3C\", \"NiCO3\", \"TmCoC\", \"Y3InC\", \"Nb2InC\", \"PbCO3\", \"Ti2InC\", \"Ti3InC\", \"Nd3InC\", \"V3AsC\", \"UCO5\", \"ThB2C\", \"Ti3AlC\", \"Mg(BC)2\", \"Ta4AlC3\", \"K2CO3\", \"TmNiC2\", \"Rb2CO3\", \"YCoC2\", \"Mn3AlC\", \"Ag2CO3\", \"Sc3CoC4\", \"Ca4CN4\", \"TbRh3C\", \"LiB6C\", \"Ta3AlC2\", \"Ho2CF2\", \"LiBC\", \"PrNiC2\", \"Li2CN2\", \"Lu2Mo2C3\", \"Ti2GeC\", \"Nb2AlC\", \"Nb2AsC\", \"Y2Re2Si2C\", \"AlV2C\", \"Dy2Fe2Si2C\", \"La3InC\", \"Sc3AlC\", \"Y3AlC\", \"Hf2SnC\", \"NaCNO\", \"NdNi2B2C\", \"CaMg(CO3)2\", \"K2Ca(CO3)2\", \"Ti2CdC\", \"Ce2Re2Si2C\", \"LaNi2B2C\", \"TbNi2B2C\", \"KHCO3\", \"TmNi2B2C\", \"HoCr2Si2C\", \"Sm2Fe2Si2C\", \"Er2Fe2Si2C\", \"Sr2C(NCl)2\", \"ErNi2B2C\", \"DyNi2B2C\", \"NaCSN\", \"La2Si4CN6\", \"Tm2Fe2Si2C\", \"UNi2B2C\", \"Ho2Fe2Si2C\", \"Y2Fe2Si2C\", \"Lu2Fe2Si2C\", \"HoSiRu2C\", \"Y2Si4CN6\", \"Tb2Fe2Si2C\", \"LaB2Rh2C\", \"KCaCO3F\"], \"type\": \"scatter\", \"x\": [233.24, 0.0, 196.56, 528.9, 186.88, 433.84, 77.4, 81.92, 187.5, 384.0, 498.96, 273.46, 675.18, 7.62, 175.0, 301.86, 432.64, 432.0, 286.72, 90.44, 184.6, 101.52, 392.84, 384.78, 423.5, 42.3, 433.84, 433.84, 205.4, 433.84, 433.84, 433.84, 299.52, 433.84, 433.84, 384.78, 433.84, 350.52, 358.8, 433.84, 133.12, 304.8, 179.4, 192.4, 302.56, 151.04, 221.76, 392.5, 302.56, 44.2, 300.12, 249.48, 165.0, 82.56, 115.28, 200.08, 287.68, 284.76, 180.0, 280.6, 309.88, 170.3, 69.66, 292.8, 299.88, 77.4, 191.88, 198.4, 322.92, 273.28, 239.4, 157.5, 47.16, 333.6, 371.28, 263.68, 429.44, 70.74000000000002, 99.2, 366.54, 149.76, 239.94, 107.52, 200.2, 176.8, 297.6, 257.40000000000003, 26.6, 34.06, 114.24, 307.44, 46.58000000000001, 202.5, 193.52, 216.48, 193.04, 150.48000000000005, 138.04, 292.1, 211.2, 222.64, 18.2, 64.80000000000001, 321.6, 83.84, 329.84, 36.68, 57.64, 60.26000000000001, 292.8, 18.76, 26.200000000000006, 140.76, 60.5, 188.64, 198.9, 191.88, 93.8, 129.36, 333.2, 254.52, 334.28, 304.64, 30.58, 11.12, 181.76, 151.2, 114.68, 237.6, 216.48, 68.5, 264.32, 150.48000000000005, 185.0, 271.04, 180.88, 158.4, 273.0, 256.76, 33.879999999999995, 83.4, 224.48, 59.40000000000001, 85.76, 221.88, 203.82, 92.5, 449.16, 487.92000000000013, 302.56, 32.40000000000001, 302.5, 350.0, 65.0, 324.28, 347.2, 289.8, 190.96, 231.8, 211.2, 288.0, 257.04, 249.48, 207.48, 172.72, 159.82, 148.67999999999995, 242.5, 55.86, 230.4, 228.16, 105.78, 208.56, 53.5, 305.0, 248.46, 255.84, 362.08, 29.040000000000006, 250.48, 26.4, 239.4, 322.5, 35.36, 295.2, 82.56, 204.82, 419.52, 384.78, 160.0, 310.88, 210.0, 45.90000000000001, 228.6, 253.76, 280.44, 299.88, 183.18, 311.78, 204.18, 81.6, 195.88, 149.94, 213.28, 21.92, 195.36, 113.52, 62.88, 136.74, 154.8, 181.44000000000003, 196.84, 26.200000000000006, 196.84, 270.84, 181.44, 212.5, 47.88, 195.0, 190.28, 20.96, 146.28, 213.28, 243.66, 206.64, 204.18, 212.5, 201.74, 252.5, 200.88, 151.79999999999995, 72.5], \"y\": [234.67398071289062, 14.390096664428711, 197.7644500732422, 528.5010986328125, 187.02737426757812, 435.77117919921875, 78.85092163085938, 81.20641326904297, 189.11328125, 388.02105712890625, 518.4833984375, 275.0921630859375, 673.77734375, 16.35270881652832, 176.49588012695312, 306.1437683105469, 433.6681213378906, 434.0321044921875, 268.88360595703125, 91.19767761230469, 185.798828125, 103.9793930053711, 395.7726135253906, 386.4381103515625, 422.5137634277344, 51.88323211669922, 438.6674499511719, 434.60150146484375, 206.81167602539062, 436.7957763671875, 439.2044982910156, 437.8531799316406, 302.0240783691406, 437.2413330078125, 436.5050354003906, 387.0829162597656, 437.831787109375, 350.7970886230469, 362.8238220214844, 434.8586120605469, 132.9864044189453, 308.7288513183594, 179.8426055908203, 194.48367309570312, 304.097900390625, 152.22772216796875, 224.60647583007812, 391.80218505859375, 303.9048156738281, 43.414024353027344, 302.482177734375, 251.74740600585938, 164.89952087402344, 83.72113800048828, 117.00780487060547, 202.0327911376953, 288.0433044433594, 286.16064453125, 180.68267822265625, 282.24517822265625, 311.1065673828125, 169.52117919921875, 71.96823120117188, 294.71044921875, 299.9236145019531, 77.54388427734375, 194.48770141601562, 200.32028198242188, 325.4739990234375, 275.955078125, 241.43063354492188, 158.6242218017578, 48.165313720703125, 333.9647521972656, 374.2953186035156, 265.40185546875, 428.5735168457031, 71.21754455566406, 100.1334228515625, 367.092041015625, 150.99485778808594, 239.87222290039062, 108.92745971679688, 201.47354125976562, 178.1716766357422, 299.7580261230469, 260.7923889160156, 28.04732894897461, 34.8901481628418, 115.88168334960938, 308.1717834472656, 46.130149841308594, 205.00753784179688, 195.20382690429688, 210.1387939453125, 195.72637939453125, 151.2146453857422, 139.35678100585938, 292.0345764160156, 215.1334228515625, 226.21998596191406, 20.469120025634766, 64.81269836425781, 323.13885498046875, 86.7161636352539, 329.6350402832031, 37.099090576171875, 57.98527145385742, 60.35504150390625, 296.607421875, 22.486225128173828, 26.88210105895996, 144.09190368652344, 62.21994400024414, 190.70957946777344, 200.52798461914062, 193.849609375, 94.11184692382812, 131.1005859375, 333.8075256347656, 256.7875061035156, 337.40350341796875, 309.008544921875, 30.65167999267578, 12.2398681640625, 181.81573486328125, 150.76766967773438, 116.10598754882812, 241.35592651367188, 220.37258911132812, 68.53276824951172, 265.2169189453125, 150.35557556152344, 187.05862426757812, 273.6311950683594, 182.46681213378906, 158.78268432617188, 273.2456970214844, 263.2899475097656, 34.92118835449219, 84.63217163085938, 226.68849182128906, 59.68348693847656, 86.49346923828125, 222.6644287109375, 204.6505126953125, 94.2457046508789, 454.96356201171875, 494.4927062988281, 307.4869384765625, 33.489627838134766, 303.3380126953125, 351.2496032714844, 67.30487060546875, 326.8059387207031, 348.2730407714844, 291.31451416015625, 193.58712768554688, 230.0518798828125, 211.71005249023438, 290.3399353027344, 259.1537170410156, 250.95455932617188, 209.42718505859375, 174.36944580078125, 161.09158325195312, 149.61935424804688, 242.81622314453125, 57.63842010498047, 231.97064208984375, 229.142333984375, 105.86021423339844, 211.90921020507812, 54.98662185668945, 307.5029296875, 248.305419921875, 258.09100341796875, 363.7156677246094, 29.06688117980957, 253.54835510253906, 28.208070755004883, 240.7777862548828, 322.8827209472656, 35.73834228515625, 294.8790588378906, 81.44882202148438, 206.95321655273438, 425.9230651855469, 389.1740417480469, 160.8546142578125, 313.2713317871094, 210.84475708007812, 48.655269622802734, 229.70513916015625, 255.765380859375, 282.0302734375, 300.2138977050781, 185.11410522460938, 314.6431579589844, 207.1293487548828, 119.52336120605469, 197.6065673828125, 149.62571716308594, 215.32601928710938, 19.527769088745117, 198.0958251953125, 115.71315002441406, 64.52696228027344, 137.98143005371094, 156.28176879882812, 190.22238159179688, 199.22647094726562, 28.116491317749023, 202.0713348388672, 272.8694152832031, 183.66766357421875, 213.35792541503906, 48.98625946044922, 196.26492309570312, 194.6956024169922, 27.518611907958984, 163.76318359375, 215.43377685546875, 245.0875244140625, 209.9097900390625, 205.01156616210938, 214.0557403564453, 203.35653686523438, 252.29754638671875, 202.06149291992188, 162.1094970703125, 76.00284576416016]}, {\"marker\": {\"color\": \"red\", \"size\": 12}, \"mode\": \"markers\", \"name\": \"Young's Modulus (Testing)\", \"text\": [\"La3InC\", \"Sc3AlC\", \"Y3AlC\", \"Hf2SnC\", \"NaCNO\", \"NdNi2B2C\", \"CaMg(CO3)2\", \"K2Ca(CO3)2\", \"Ti2CdC\", \"Ce2Re2Si2C\", \"LaNi2B2C\", \"TbNi2B2C\", \"KHCO3\", \"TmNi2B2C\", \"HoCr2Si2C\", \"Sm2Fe2Si2C\", \"Er2Fe2Si2C\", \"Sr2C(NCl)2\", \"ErNi2B2C\", \"DyNi2B2C\", \"NaCSN\", \"La2Si4CN6\", \"Tm2Fe2Si2C\", \"UNi2B2C\", \"Ho2Fe2Si2C\", \"Y2Fe2Si2C\", \"Lu2Fe2Si2C\", \"HoSiRu2C\", \"Y2Si4CN6\", \"Tb2Fe2Si2C\", \"LaB2Rh2C\", \"KCaCO3F\"], \"type\": \"scatter\", \"x\": [81.6, 195.88, 149.94, 213.28, 21.92, 195.36, 113.52, 62.88, 136.74, 154.8, 181.44000000000003, 196.84, 26.200000000000006, 196.84, 270.84, 181.44, 212.5, 47.88, 195.0, 190.28, 20.96, 146.28, 213.28, 243.66, 206.64, 204.18, 212.5, 201.74, 252.5, 200.88, 151.79999999999995, 72.5], \"y\": [119.52336120605469, 197.6065673828125, 149.62571716308594, 215.32601928710938, 19.527769088745117, 198.0958251953125, 115.71315002441406, 64.52696228027344, 137.98143005371094, 156.28176879882812, 190.22238159179688, 199.22647094726562, 28.116491317749023, 202.0713348388672, 272.8694152832031, 183.66766357421875, 213.35792541503906, 48.98625946044922, 196.26492309570312, 194.6956024169922, 27.518611907958984, 163.76318359375, 215.43377685546875, 245.0875244140625, 209.9097900390625, 205.01156616210938, 214.0557403564453, 203.35653686523438, 252.29754638671875, 202.06149291992188, 162.1094970703125, 76.00284576416016]}, {\"mode\": \"lines\", \"name\": \"Match\", \"type\": \"scatter\", \"x\": [0, 700], \"y\": [0, 700]}],\n",
       "                        {\"height\": 600, \"hovermode\": \"closest\", \"legend\": {\"font\": {\"size\": 24}}, \"showlegend\": true, \"template\": {\"data\": {\"bar\": [{\"error_x\": {\"color\": \"#2a3f5f\"}, \"error_y\": {\"color\": \"#2a3f5f\"}, \"marker\": {\"line\": {\"color\": \"#E5ECF6\", \"width\": 0.5}}, \"type\": \"bar\"}], \"barpolar\": [{\"marker\": {\"line\": {\"color\": \"#E5ECF6\", \"width\": 0.5}}, \"type\": \"barpolar\"}], \"carpet\": [{\"aaxis\": {\"endlinecolor\": \"#2a3f5f\", \"gridcolor\": \"white\", \"linecolor\": \"white\", \"minorgridcolor\": \"white\", \"startlinecolor\": \"#2a3f5f\"}, \"baxis\": {\"endlinecolor\": \"#2a3f5f\", \"gridcolor\": \"white\", \"linecolor\": \"white\", \"minorgridcolor\": \"white\", \"startlinecolor\": \"#2a3f5f\"}, \"type\": \"carpet\"}], \"choropleth\": [{\"colorbar\": {\"outlinewidth\": 0, \"ticks\": \"\"}, \"type\": \"choropleth\"}], \"contour\": [{\"colorbar\": {\"outlinewidth\": 0, \"ticks\": \"\"}, \"colorscale\": [[0.0, \"#0d0887\"], [0.1111111111111111, \"#46039f\"], [0.2222222222222222, \"#7201a8\"], [0.3333333333333333, \"#9c179e\"], [0.4444444444444444, \"#bd3786\"], [0.5555555555555556, \"#d8576b\"], [0.6666666666666666, \"#ed7953\"], [0.7777777777777778, \"#fb9f3a\"], [0.8888888888888888, \"#fdca26\"], [1.0, \"#f0f921\"]], \"type\": \"contour\"}], \"contourcarpet\": [{\"colorbar\": {\"outlinewidth\": 0, \"ticks\": \"\"}, \"type\": \"contourcarpet\"}], \"heatmap\": [{\"colorbar\": {\"outlinewidth\": 0, \"ticks\": \"\"}, \"colorscale\": [[0.0, \"#0d0887\"], [0.1111111111111111, \"#46039f\"], [0.2222222222222222, \"#7201a8\"], [0.3333333333333333, \"#9c179e\"], [0.4444444444444444, \"#bd3786\"], [0.5555555555555556, \"#d8576b\"], [0.6666666666666666, \"#ed7953\"], [0.7777777777777778, \"#fb9f3a\"], [0.8888888888888888, \"#fdca26\"], [1.0, \"#f0f921\"]], \"type\": \"heatmap\"}], \"heatmapgl\": [{\"colorbar\": {\"outlinewidth\": 0, \"ticks\": \"\"}, \"colorscale\": [[0.0, \"#0d0887\"], [0.1111111111111111, \"#46039f\"], [0.2222222222222222, \"#7201a8\"], [0.3333333333333333, \"#9c179e\"], [0.4444444444444444, \"#bd3786\"], [0.5555555555555556, \"#d8576b\"], [0.6666666666666666, \"#ed7953\"], [0.7777777777777778, \"#fb9f3a\"], [0.8888888888888888, \"#fdca26\"], [1.0, \"#f0f921\"]], \"type\": \"heatmapgl\"}], \"histogram\": [{\"marker\": {\"colorbar\": {\"outlinewidth\": 0, \"ticks\": \"\"}}, \"type\": \"histogram\"}], \"histogram2d\": [{\"colorbar\": {\"outlinewidth\": 0, \"ticks\": \"\"}, \"colorscale\": [[0.0, \"#0d0887\"], [0.1111111111111111, \"#46039f\"], [0.2222222222222222, \"#7201a8\"], [0.3333333333333333, \"#9c179e\"], [0.4444444444444444, \"#bd3786\"], [0.5555555555555556, \"#d8576b\"], [0.6666666666666666, \"#ed7953\"], [0.7777777777777778, \"#fb9f3a\"], [0.8888888888888888, \"#fdca26\"], [1.0, \"#f0f921\"]], \"type\": \"histogram2d\"}], \"histogram2dcontour\": [{\"colorbar\": {\"outlinewidth\": 0, \"ticks\": \"\"}, \"colorscale\": [[0.0, \"#0d0887\"], [0.1111111111111111, \"#46039f\"], [0.2222222222222222, \"#7201a8\"], [0.3333333333333333, \"#9c179e\"], [0.4444444444444444, \"#bd3786\"], [0.5555555555555556, \"#d8576b\"], [0.6666666666666666, \"#ed7953\"], [0.7777777777777778, \"#fb9f3a\"], [0.8888888888888888, \"#fdca26\"], [1.0, \"#f0f921\"]], \"type\": \"histogram2dcontour\"}], \"mesh3d\": [{\"colorbar\": {\"outlinewidth\": 0, \"ticks\": \"\"}, \"type\": \"mesh3d\"}], \"parcoords\": [{\"line\": {\"colorbar\": {\"outlinewidth\": 0, \"ticks\": \"\"}}, \"type\": \"parcoords\"}], \"pie\": [{\"automargin\": true, \"type\": \"pie\"}], \"scatter\": [{\"marker\": {\"colorbar\": {\"outlinewidth\": 0, \"ticks\": \"\"}}, \"type\": \"scatter\"}], \"scatter3d\": [{\"line\": {\"colorbar\": {\"outlinewidth\": 0, \"ticks\": \"\"}}, \"marker\": {\"colorbar\": {\"outlinewidth\": 0, \"ticks\": \"\"}}, \"type\": \"scatter3d\"}], \"scattercarpet\": [{\"marker\": {\"colorbar\": {\"outlinewidth\": 0, \"ticks\": \"\"}}, \"type\": \"scattercarpet\"}], \"scattergeo\": [{\"marker\": {\"colorbar\": {\"outlinewidth\": 0, \"ticks\": \"\"}}, \"type\": \"scattergeo\"}], \"scattergl\": [{\"marker\": {\"colorbar\": {\"outlinewidth\": 0, \"ticks\": \"\"}}, \"type\": \"scattergl\"}], \"scattermapbox\": [{\"marker\": {\"colorbar\": {\"outlinewidth\": 0, \"ticks\": \"\"}}, \"type\": \"scattermapbox\"}], \"scatterpolar\": [{\"marker\": {\"colorbar\": {\"outlinewidth\": 0, \"ticks\": \"\"}}, \"type\": \"scatterpolar\"}], \"scatterpolargl\": [{\"marker\": {\"colorbar\": {\"outlinewidth\": 0, \"ticks\": \"\"}}, \"type\": \"scatterpolargl\"}], \"scatterternary\": [{\"marker\": {\"colorbar\": {\"outlinewidth\": 0, \"ticks\": \"\"}}, \"type\": \"scatterternary\"}], \"surface\": [{\"colorbar\": {\"outlinewidth\": 0, \"ticks\": \"\"}, \"colorscale\": [[0.0, \"#0d0887\"], [0.1111111111111111, \"#46039f\"], [0.2222222222222222, \"#7201a8\"], [0.3333333333333333, \"#9c179e\"], [0.4444444444444444, \"#bd3786\"], [0.5555555555555556, \"#d8576b\"], [0.6666666666666666, \"#ed7953\"], [0.7777777777777778, \"#fb9f3a\"], [0.8888888888888888, \"#fdca26\"], [1.0, \"#f0f921\"]], \"type\": \"surface\"}], \"table\": [{\"cells\": {\"fill\": {\"color\": \"#EBF0F8\"}, \"line\": {\"color\": \"white\"}}, \"header\": {\"fill\": {\"color\": \"#C8D4E3\"}, \"line\": {\"color\": \"white\"}}, \"type\": \"table\"}]}, \"layout\": {\"annotationdefaults\": {\"arrowcolor\": \"#2a3f5f\", \"arrowhead\": 0, \"arrowwidth\": 1}, \"coloraxis\": {\"colorbar\": {\"outlinewidth\": 0, \"ticks\": \"\"}}, \"colorscale\": {\"diverging\": [[0, \"#8e0152\"], [0.1, \"#c51b7d\"], [0.2, \"#de77ae\"], [0.3, \"#f1b6da\"], [0.4, \"#fde0ef\"], [0.5, \"#f7f7f7\"], [0.6, \"#e6f5d0\"], [0.7, \"#b8e186\"], [0.8, \"#7fbc41\"], [0.9, \"#4d9221\"], [1, \"#276419\"]], \"sequential\": [[0.0, \"#0d0887\"], [0.1111111111111111, \"#46039f\"], [0.2222222222222222, \"#7201a8\"], [0.3333333333333333, \"#9c179e\"], [0.4444444444444444, \"#bd3786\"], [0.5555555555555556, \"#d8576b\"], [0.6666666666666666, \"#ed7953\"], [0.7777777777777778, \"#fb9f3a\"], [0.8888888888888888, \"#fdca26\"], [1.0, \"#f0f921\"]], \"sequentialminus\": [[0.0, \"#0d0887\"], [0.1111111111111111, \"#46039f\"], [0.2222222222222222, \"#7201a8\"], [0.3333333333333333, \"#9c179e\"], [0.4444444444444444, \"#bd3786\"], [0.5555555555555556, \"#d8576b\"], [0.6666666666666666, \"#ed7953\"], [0.7777777777777778, \"#fb9f3a\"], [0.8888888888888888, \"#fdca26\"], [1.0, \"#f0f921\"]]}, \"colorway\": [\"#636efa\", \"#EF553B\", \"#00cc96\", \"#ab63fa\", \"#FFA15A\", \"#19d3f3\", \"#FF6692\", \"#B6E880\", \"#FF97FF\", \"#FECB52\"], \"font\": {\"color\": \"#2a3f5f\"}, \"geo\": {\"bgcolor\": \"white\", \"lakecolor\": \"white\", \"landcolor\": \"#E5ECF6\", \"showlakes\": true, \"showland\": true, \"subunitcolor\": \"white\"}, \"hoverlabel\": {\"align\": \"left\"}, \"hovermode\": \"closest\", \"mapbox\": {\"style\": \"light\"}, \"paper_bgcolor\": \"white\", \"plot_bgcolor\": \"#E5ECF6\", \"polar\": {\"angularaxis\": {\"gridcolor\": \"white\", \"linecolor\": \"white\", \"ticks\": \"\"}, \"bgcolor\": \"#E5ECF6\", \"radialaxis\": {\"gridcolor\": \"white\", \"linecolor\": \"white\", \"ticks\": \"\"}}, \"scene\": {\"xaxis\": {\"backgroundcolor\": \"#E5ECF6\", \"gridcolor\": \"white\", \"gridwidth\": 2, \"linecolor\": \"white\", \"showbackground\": true, \"ticks\": \"\", \"zerolinecolor\": \"white\"}, \"yaxis\": {\"backgroundcolor\": \"#E5ECF6\", \"gridcolor\": \"white\", \"gridwidth\": 2, \"linecolor\": \"white\", \"showbackground\": true, \"ticks\": \"\", \"zerolinecolor\": \"white\"}, \"zaxis\": {\"backgroundcolor\": \"#E5ECF6\", \"gridcolor\": \"white\", \"gridwidth\": 2, \"linecolor\": \"white\", \"showbackground\": true, \"ticks\": \"\", \"zerolinecolor\": \"white\"}}, \"shapedefaults\": {\"line\": {\"color\": \"#2a3f5f\"}}, \"ternary\": {\"aaxis\": {\"gridcolor\": \"white\", \"linecolor\": \"white\", \"ticks\": \"\"}, \"baxis\": {\"gridcolor\": \"white\", \"linecolor\": \"white\", \"ticks\": \"\"}, \"bgcolor\": \"#E5ECF6\", \"caxis\": {\"gridcolor\": \"white\", \"linecolor\": \"white\", \"ticks\": \"\"}}, \"title\": {\"x\": 0.05}, \"xaxis\": {\"automargin\": true, \"gridcolor\": \"white\", \"linecolor\": \"white\", \"ticks\": \"\", \"title\": {\"standoff\": 15}, \"zerolinecolor\": \"white\", \"zerolinewidth\": 2}, \"yaxis\": {\"automargin\": true, \"gridcolor\": \"white\", \"linecolor\": \"white\", \"ticks\": \"\", \"title\": {\"standoff\": 15}, \"zerolinecolor\": \"white\", \"zerolinewidth\": 2}}}, \"title\": {\"font\": {\"size\": 28}, \"text\": \"Neural Network Model - C Compounds Young's Modulus\"}, \"width\": 1000, \"xaxis\": {\"gridwidth\": 1, \"tickfont\": {\"size\": 18}, \"title\": {\"font\": {\"size\": 24}, \"text\": \"Real Values (GPa)\"}, \"zeroline\": false}, \"yaxis\": {\"gridwidth\": 1, \"tickfont\": {\"size\": 18}, \"title\": {\"font\": {\"size\": 24}, \"text\": \"Prediction (GPa)\"}, \"zeroline\": false}},\n",
       "                        {\"responsive\": true}\n",
       "                    ).then(function(){\n",
       "                            \n",
       "var gd = document.getElementById('4abb294e-0643-46f8-8b4f-eeccaf2d8b58');\n",
       "var x = new MutationObserver(function (mutations, observer) {{\n",
       "        var display = window.getComputedStyle(gd).display;\n",
       "        if (!display || display === 'none') {{\n",
       "            console.log([gd, 'removed!']);\n",
       "            Plotly.purge(gd);\n",
       "            observer.disconnect();\n",
       "        }}\n",
       "}});\n",
       "\n",
       "// Listen for the removal of the full notebook cells\n",
       "var notebookContainer = gd.closest('#notebook-container');\n",
       "if (notebookContainer) {{\n",
       "    x.observe(notebookContainer, {childList: true});\n",
       "}}\n",
       "\n",
       "// Listen for the clearing of the current output cell\n",
       "var outputEl = gd.closest('.output');\n",
       "if (outputEl) {{\n",
       "    x.observe(outputEl, {childList: true});\n",
       "}}\n",
       "\n",
       "                        })\n",
       "                };\n",
       "                });\n",
       "            </script>\n",
       "        </div>"
      ]
     },
     "metadata": {},
     "output_type": "display_data"
    }
   ],
   "source": [
    "import plotly\n",
    "import plotly.graph_objs as go\n",
    "from plotly.offline import iplot\n",
    "\n",
    "plotly.offline.init_notebook_mode(connected=True)\n",
    "\n",
    "layout0= go.Layout(title=go.layout.Title(text=\"Neural Network Model - C Compounds Young's Modulus\", font=dict(size=28)), hovermode= 'closest', width = 1000, height=600, showlegend=True,  # Hovermode establishes the way the labels that appear when you hover are arranged # Establishing a square plot width=height\n",
    "    xaxis= dict(title=go.layout.xaxis.Title(text='Real Values (GPa)', font=dict(size=24)), zeroline= False, gridwidth= 1, tickfont=dict(size=18)), # Axis Titles. Removing the X-axis Mark. Adding a Grid\n",
    "    yaxis= dict(title=go.layout.yaxis.Title(text='Prediction (GPa)', font=dict(size=24)), zeroline= False, gridwidth= 1, tickfont=dict(size=18)), # Axis Titles. Removing the Y-axis Mark. Adding a Grid\n",
    "    legend=dict(font=dict(size=24))) # Adding a legend\n",
    "\n",
    "trace0 = go.Scatter(x = all_labels, y = predictions, mode = 'markers', marker= dict(size= 12, color= 'blue'), text= elements, name = 'Young\\'s Modulus (Training)')\n",
    "trace1 = go.Scatter(x = test_labels, y = test_predictions, mode = 'markers', marker= dict(size= 12, color= 'red'), text = labeled_elements, name = 'Young\\'s Modulus (Testing)')\n",
    "trace2 = go.Scatter(x = [0,700], y = [0,700], mode = 'lines', name = \"Match\") # This trace is the line X = Y which would indicate that the Prediction equals the real value\n",
    "\n",
    "data = [trace0, trace1, trace2]\n",
    "fig= go.Figure(data, layout=layout0)\n",
    "iplot(fig)"
   ]
  },
  {
   "cell_type": "code",
   "execution_count": 29,
   "metadata": {},
   "outputs": [
    {
     "name": "stdout",
     "output_type": "stream",
     "text": [
      "232/232 - 0s - loss: 1.2110e-05 - mean_absolute_error: 1.2110e-05\n",
      "Loss: 1.2110019552296606e-05, Accuracy: 1.211001927003963e-05\n"
     ]
    }
   ],
   "source": [
    "model_loss, model_accuracy = model.evaluate(values, predictions,verbose=2)\n",
    "print(f\"Loss: {model_loss}, Accuracy: {model_accuracy}\")"
   ]
  },
  {
   "cell_type": "code",
   "execution_count": null,
   "metadata": {},
   "outputs": [],
   "source": []
  },
  {
   "cell_type": "code",
   "execution_count": null,
   "metadata": {},
   "outputs": [],
   "source": []
  }
 ],
 "metadata": {
  "kernelspec": {
   "display_name": "PythonData",
   "language": "python",
   "name": "pythondata"
  },
  "language_info": {
   "codemirror_mode": {
    "name": "ipython",
    "version": 3
   },
   "file_extension": ".py",
   "mimetype": "text/x-python",
   "name": "python",
   "nbconvert_exporter": "python",
   "pygments_lexer": "ipython3",
   "version": "3.7.7"
  }
 },
 "nbformat": 4,
 "nbformat_minor": 2
}
