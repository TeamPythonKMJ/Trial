{
 "cells": [
  {
   "cell_type": "markdown",
   "metadata": {},
   "source": [
    "### 1. Getting a dataset\n",
    "\n",
    "We have 12 datasets to explore in this notebook to predict the Young's Modulus with a three-layer neuron networks model with 2000 epochs. "
   ]
  },
  {
   "cell_type": "code",
   "execution_count": 1,
   "metadata": {},
   "outputs": [
    {
     "name": "stderr",
     "output_type": "stream",
     "text": [
      "C:\\Users\\Kayla Yano\\anaconda3\\envs\\PythonData\\lib\\site-packages\\tensorflow\\python\\framework\\dtypes.py:516: FutureWarning: Passing (type, 1) or '1type' as a synonym of type is deprecated; in a future version of numpy, it will be understood as (type, (1,)) / '(1,)type'.\n",
      "  _np_qint8 = np.dtype([(\"qint8\", np.int8, 1)])\n",
      "C:\\Users\\Kayla Yano\\anaconda3\\envs\\PythonData\\lib\\site-packages\\tensorflow\\python\\framework\\dtypes.py:517: FutureWarning: Passing (type, 1) or '1type' as a synonym of type is deprecated; in a future version of numpy, it will be understood as (type, (1,)) / '(1,)type'.\n",
      "  _np_quint8 = np.dtype([(\"quint8\", np.uint8, 1)])\n",
      "C:\\Users\\Kayla Yano\\anaconda3\\envs\\PythonData\\lib\\site-packages\\tensorflow\\python\\framework\\dtypes.py:518: FutureWarning: Passing (type, 1) or '1type' as a synonym of type is deprecated; in a future version of numpy, it will be understood as (type, (1,)) / '(1,)type'.\n",
      "  _np_qint16 = np.dtype([(\"qint16\", np.int16, 1)])\n",
      "C:\\Users\\Kayla Yano\\anaconda3\\envs\\PythonData\\lib\\site-packages\\tensorflow\\python\\framework\\dtypes.py:519: FutureWarning: Passing (type, 1) or '1type' as a synonym of type is deprecated; in a future version of numpy, it will be understood as (type, (1,)) / '(1,)type'.\n",
      "  _np_quint16 = np.dtype([(\"quint16\", np.uint16, 1)])\n",
      "C:\\Users\\Kayla Yano\\anaconda3\\envs\\PythonData\\lib\\site-packages\\tensorflow\\python\\framework\\dtypes.py:520: FutureWarning: Passing (type, 1) or '1type' as a synonym of type is deprecated; in a future version of numpy, it will be understood as (type, (1,)) / '(1,)type'.\n",
      "  _np_qint32 = np.dtype([(\"qint32\", np.int32, 1)])\n",
      "C:\\Users\\Kayla Yano\\anaconda3\\envs\\PythonData\\lib\\site-packages\\tensorflow\\python\\framework\\dtypes.py:525: FutureWarning: Passing (type, 1) or '1type' as a synonym of type is deprecated; in a future version of numpy, it will be understood as (type, (1,)) / '(1,)type'.\n",
      "  np_resource = np.dtype([(\"resource\", np.ubyte, 1)])\n",
      "C:\\Users\\Kayla Yano\\anaconda3\\envs\\PythonData\\lib\\site-packages\\tensorboard\\compat\\tensorflow_stub\\dtypes.py:541: FutureWarning: Passing (type, 1) or '1type' as a synonym of type is deprecated; in a future version of numpy, it will be understood as (type, (1,)) / '(1,)type'.\n",
      "  _np_qint8 = np.dtype([(\"qint8\", np.int8, 1)])\n",
      "C:\\Users\\Kayla Yano\\anaconda3\\envs\\PythonData\\lib\\site-packages\\tensorboard\\compat\\tensorflow_stub\\dtypes.py:542: FutureWarning: Passing (type, 1) or '1type' as a synonym of type is deprecated; in a future version of numpy, it will be understood as (type, (1,)) / '(1,)type'.\n",
      "  _np_quint8 = np.dtype([(\"quint8\", np.uint8, 1)])\n",
      "C:\\Users\\Kayla Yano\\anaconda3\\envs\\PythonData\\lib\\site-packages\\tensorboard\\compat\\tensorflow_stub\\dtypes.py:543: FutureWarning: Passing (type, 1) or '1type' as a synonym of type is deprecated; in a future version of numpy, it will be understood as (type, (1,)) / '(1,)type'.\n",
      "  _np_qint16 = np.dtype([(\"qint16\", np.int16, 1)])\n",
      "C:\\Users\\Kayla Yano\\anaconda3\\envs\\PythonData\\lib\\site-packages\\tensorboard\\compat\\tensorflow_stub\\dtypes.py:544: FutureWarning: Passing (type, 1) or '1type' as a synonym of type is deprecated; in a future version of numpy, it will be understood as (type, (1,)) / '(1,)type'.\n",
      "  _np_quint16 = np.dtype([(\"quint16\", np.uint16, 1)])\n",
      "C:\\Users\\Kayla Yano\\anaconda3\\envs\\PythonData\\lib\\site-packages\\tensorboard\\compat\\tensorflow_stub\\dtypes.py:545: FutureWarning: Passing (type, 1) or '1type' as a synonym of type is deprecated; in a future version of numpy, it will be understood as (type, (1,)) / '(1,)type'.\n",
      "  _np_qint32 = np.dtype([(\"qint32\", np.int32, 1)])\n",
      "C:\\Users\\Kayla Yano\\anaconda3\\envs\\PythonData\\lib\\site-packages\\tensorboard\\compat\\tensorflow_stub\\dtypes.py:550: FutureWarning: Passing (type, 1) or '1type' as a synonym of type is deprecated; in a future version of numpy, it will be understood as (type, (1,)) / '(1,)type'.\n",
      "  np_resource = np.dtype([(\"resource\", np.ubyte, 1)])\n"
     ]
    }
   ],
   "source": [
    "import pymatgen as pymat\n",
    "import mendeleev as mendel\n",
    "import pandas as pd\n",
    "import numpy as np\n",
    "from pathlib import Path\n",
    "import tensorflow as tf\n",
    "import tensorflow.keras\n",
    "from tensorflow.keras import initializers\n",
    "from tensorflow.keras.layers import Dense\n",
    "from tensorflow.keras.models import Sequential\n",
    "from tensorflow.keras import optimizers\n",
    "\n",
    "import sys\n",
    "import os\n",
    "sys.path.insert(0, '../src/')\n",
    "\n",
    "%matplotlib inline\n",
    "import matplotlib.pyplot as plt"
   ]
  },
  {
   "cell_type": "code",
   "execution_count": 2,
   "metadata": {
    "scrolled": true
   },
   "outputs": [
    {
     "data": {
      "text/html": [
       "<div>\n",
       "<style scoped>\n",
       "    .dataframe tbody tr th:only-of-type {\n",
       "        vertical-align: middle;\n",
       "    }\n",
       "\n",
       "    .dataframe tbody tr th {\n",
       "        vertical-align: top;\n",
       "    }\n",
       "\n",
       "    .dataframe thead th {\n",
       "        text-align: right;\n",
       "    }\n",
       "</style>\n",
       "<table border=\"1\" class=\"dataframe\">\n",
       "  <thead>\n",
       "    <tr style=\"text-align: right;\">\n",
       "      <th></th>\n",
       "      <th>Unnamed: 0</th>\n",
       "      <th>mp_id</th>\n",
       "      <th>Formula</th>\n",
       "      <th>Composition</th>\n",
       "      <th>IPF</th>\n",
       "      <th>Density</th>\n",
       "      <th>Elastic_Tensor</th>\n",
       "      <th>E_above_Hull</th>\n",
       "      <th>G_VRH</th>\n",
       "      <th>K_VRH</th>\n",
       "      <th>Elastic_Anisotropy</th>\n",
       "      <th>poisson_ratio</th>\n",
       "      <th>Y_Modulus</th>\n",
       "    </tr>\n",
       "  </thead>\n",
       "  <tbody>\n",
       "    <tr>\n",
       "      <th>0</th>\n",
       "      <td>0</td>\n",
       "      <td>mp-1025799</td>\n",
       "      <td>MoSe2</td>\n",
       "      <td>{'Mo': 1.0, 'Se': 2.0}</td>\n",
       "      <td>0.100624</td>\n",
       "      <td>3.976518</td>\n",
       "      <td>{'G_Reuss': 7.0, 'G_VRH': 14.0, 'G_Voigt': 21....</td>\n",
       "      <td>0.096591</td>\n",
       "      <td>14.0</td>\n",
       "      <td>27.0</td>\n",
       "      <td>11.26</td>\n",
       "      <td>0.28</td>\n",
       "      <td>35.84</td>\n",
       "    </tr>\n",
       "    <tr>\n",
       "      <th>1</th>\n",
       "      <td>1</td>\n",
       "      <td>mp-1025874</td>\n",
       "      <td>MoS2</td>\n",
       "      <td>{'Mo': 1.0, 'S': 2.0}</td>\n",
       "      <td>0.080656</td>\n",
       "      <td>2.799182</td>\n",
       "      <td>{'G_Reuss': 0.0, 'G_VRH': 12.0, 'G_Voigt': 23....</td>\n",
       "      <td>0.793011</td>\n",
       "      <td>12.0</td>\n",
       "      <td>18.0</td>\n",
       "      <td>321.80</td>\n",
       "      <td>0.23</td>\n",
       "      <td>29.52</td>\n",
       "    </tr>\n",
       "    <tr>\n",
       "      <th>2</th>\n",
       "      <td>2</td>\n",
       "      <td>mp-1139</td>\n",
       "      <td>Co3Mo</td>\n",
       "      <td>{'Co': 3.0, 'Mo': 1.0}</td>\n",
       "      <td>0.165327</td>\n",
       "      <td>9.788205</td>\n",
       "      <td>{'G_Reuss': 131.0, 'G_VRH': 133.0, 'G_Voigt': ...</td>\n",
       "      <td>0.000000</td>\n",
       "      <td>133.0</td>\n",
       "      <td>260.0</td>\n",
       "      <td>0.13</td>\n",
       "      <td>0.28</td>\n",
       "      <td>340.48</td>\n",
       "    </tr>\n",
       "    <tr>\n",
       "      <th>3</th>\n",
       "      <td>3</td>\n",
       "      <td>mp-11481</td>\n",
       "      <td>MoIr</td>\n",
       "      <td>{'Mo': 1.0, 'Ir': 1.0}</td>\n",
       "      <td>0.127039</td>\n",
       "      <td>15.891654</td>\n",
       "      <td>{'G_Reuss': 172.0, 'G_VRH': 174.0, 'G_Voigt': ...</td>\n",
       "      <td>0.000000</td>\n",
       "      <td>174.0</td>\n",
       "      <td>310.0</td>\n",
       "      <td>0.11</td>\n",
       "      <td>0.26</td>\n",
       "      <td>438.48</td>\n",
       "    </tr>\n",
       "    <tr>\n",
       "      <th>4</th>\n",
       "      <td>4</td>\n",
       "      <td>mp-11482</td>\n",
       "      <td>MoIr3</td>\n",
       "      <td>{'Mo': 1.0, 'Ir': 3.0}</td>\n",
       "      <td>0.128568</td>\n",
       "      <td>18.954289</td>\n",
       "      <td>{'G_Reuss': 186.0, 'G_VRH': 188.0, 'G_Voigt': ...</td>\n",
       "      <td>0.000000</td>\n",
       "      <td>188.0</td>\n",
       "      <td>337.0</td>\n",
       "      <td>0.09</td>\n",
       "      <td>0.27</td>\n",
       "      <td>477.52</td>\n",
       "    </tr>\n",
       "    <tr>\n",
       "      <th>...</th>\n",
       "      <td>...</td>\n",
       "      <td>...</td>\n",
       "      <td>...</td>\n",
       "      <td>...</td>\n",
       "      <td>...</td>\n",
       "      <td>...</td>\n",
       "      <td>...</td>\n",
       "      <td>...</td>\n",
       "      <td>...</td>\n",
       "      <td>...</td>\n",
       "      <td>...</td>\n",
       "      <td>...</td>\n",
       "      <td>...</td>\n",
       "    </tr>\n",
       "    <tr>\n",
       "      <th>80</th>\n",
       "      <td>81</td>\n",
       "      <td>mp-560959</td>\n",
       "      <td>KTl2MoF6</td>\n",
       "      <td>{'K': 1.0, 'Tl': 2.0, 'Mo': 1.0, 'F': 6.0}</td>\n",
       "      <td>0.227641</td>\n",
       "      <td>5.490521</td>\n",
       "      <td>{'G_Reuss': 13.0, 'G_VRH': 14.0, 'G_Voigt': 15...</td>\n",
       "      <td>0.000000</td>\n",
       "      <td>14.0</td>\n",
       "      <td>14.0</td>\n",
       "      <td>1.03</td>\n",
       "      <td>0.13</td>\n",
       "      <td>31.64</td>\n",
       "    </tr>\n",
       "    <tr>\n",
       "      <th>81</th>\n",
       "      <td>82</td>\n",
       "      <td>mp-560963</td>\n",
       "      <td>Rb2NaMoF6</td>\n",
       "      <td>{'Rb': 2.0, 'Na': 1.0, 'Mo': 1.0, 'F': 6.0}</td>\n",
       "      <td>0.323585</td>\n",
       "      <td>3.901772</td>\n",
       "      <td>{'G_Reuss': 34.0, 'G_VRH': 34.0, 'G_Voigt': 35...</td>\n",
       "      <td>0.000000</td>\n",
       "      <td>34.0</td>\n",
       "      <td>37.0</td>\n",
       "      <td>0.11</td>\n",
       "      <td>0.14</td>\n",
       "      <td>77.52</td>\n",
       "    </tr>\n",
       "    <tr>\n",
       "      <th>82</th>\n",
       "      <td>83</td>\n",
       "      <td>mp-19127</td>\n",
       "      <td>Sr2FeMoO6</td>\n",
       "      <td>{'Sr': 2.0, 'Fe': 1.0, 'Mo': 1.0, 'O': 6.0}</td>\n",
       "      <td>0.576455</td>\n",
       "      <td>5.465476</td>\n",
       "      <td>{'G_Reuss': -14.0, 'G_VRH': -15.0, 'G_Voigt': ...</td>\n",
       "      <td>0.738133</td>\n",
       "      <td>-15.0</td>\n",
       "      <td>161.0</td>\n",
       "      <td>0.43</td>\n",
       "      <td>0.55</td>\n",
       "      <td>-46.50</td>\n",
       "    </tr>\n",
       "    <tr>\n",
       "      <th>83</th>\n",
       "      <td>84</td>\n",
       "      <td>mp-557133</td>\n",
       "      <td>Cs2KMoF6</td>\n",
       "      <td>{'Cs': 2.0, 'K': 1.0, 'Mo': 1.0, 'F': 6.0}</td>\n",
       "      <td>0.360187</td>\n",
       "      <td>4.097866</td>\n",
       "      <td>{'G_Reuss': 20.0, 'G_VRH': 21.0, 'G_Voigt': 21...</td>\n",
       "      <td>0.000000</td>\n",
       "      <td>21.0</td>\n",
       "      <td>74.0</td>\n",
       "      <td>0.06</td>\n",
       "      <td>0.37</td>\n",
       "      <td>57.54</td>\n",
       "    </tr>\n",
       "    <tr>\n",
       "      <th>84</th>\n",
       "      <td>85</td>\n",
       "      <td>mp-555970</td>\n",
       "      <td>NaTl2MoF6</td>\n",
       "      <td>{'Na': 1.0, 'Tl': 2.0, 'Mo': 1.0, 'F': 6.0}</td>\n",
       "      <td>0.216043</td>\n",
       "      <td>6.202362</td>\n",
       "      <td>{'G_Reuss': 39.0, 'G_VRH': 40.0, 'G_Voigt': 42...</td>\n",
       "      <td>0.000000</td>\n",
       "      <td>40.0</td>\n",
       "      <td>108.0</td>\n",
       "      <td>0.33</td>\n",
       "      <td>0.33</td>\n",
       "      <td>106.40</td>\n",
       "    </tr>\n",
       "  </tbody>\n",
       "</table>\n",
       "<p>85 rows × 13 columns</p>\n",
       "</div>"
      ],
      "text/plain": [
       "    Unnamed: 0       mp_id    Formula  \\\n",
       "0            0  mp-1025799      MoSe2   \n",
       "1            1  mp-1025874       MoS2   \n",
       "2            2     mp-1139      Co3Mo   \n",
       "3            3    mp-11481       MoIr   \n",
       "4            4    mp-11482      MoIr3   \n",
       "..         ...         ...        ...   \n",
       "80          81   mp-560959   KTl2MoF6   \n",
       "81          82   mp-560963  Rb2NaMoF6   \n",
       "82          83    mp-19127  Sr2FeMoO6   \n",
       "83          84   mp-557133   Cs2KMoF6   \n",
       "84          85   mp-555970  NaTl2MoF6   \n",
       "\n",
       "                                    Composition       IPF    Density  \\\n",
       "0                        {'Mo': 1.0, 'Se': 2.0}  0.100624   3.976518   \n",
       "1                         {'Mo': 1.0, 'S': 2.0}  0.080656   2.799182   \n",
       "2                        {'Co': 3.0, 'Mo': 1.0}  0.165327   9.788205   \n",
       "3                        {'Mo': 1.0, 'Ir': 1.0}  0.127039  15.891654   \n",
       "4                        {'Mo': 1.0, 'Ir': 3.0}  0.128568  18.954289   \n",
       "..                                          ...       ...        ...   \n",
       "80   {'K': 1.0, 'Tl': 2.0, 'Mo': 1.0, 'F': 6.0}  0.227641   5.490521   \n",
       "81  {'Rb': 2.0, 'Na': 1.0, 'Mo': 1.0, 'F': 6.0}  0.323585   3.901772   \n",
       "82  {'Sr': 2.0, 'Fe': 1.0, 'Mo': 1.0, 'O': 6.0}  0.576455   5.465476   \n",
       "83   {'Cs': 2.0, 'K': 1.0, 'Mo': 1.0, 'F': 6.0}  0.360187   4.097866   \n",
       "84  {'Na': 1.0, 'Tl': 2.0, 'Mo': 1.0, 'F': 6.0}  0.216043   6.202362   \n",
       "\n",
       "                                       Elastic_Tensor  E_above_Hull  G_VRH  \\\n",
       "0   {'G_Reuss': 7.0, 'G_VRH': 14.0, 'G_Voigt': 21....      0.096591   14.0   \n",
       "1   {'G_Reuss': 0.0, 'G_VRH': 12.0, 'G_Voigt': 23....      0.793011   12.0   \n",
       "2   {'G_Reuss': 131.0, 'G_VRH': 133.0, 'G_Voigt': ...      0.000000  133.0   \n",
       "3   {'G_Reuss': 172.0, 'G_VRH': 174.0, 'G_Voigt': ...      0.000000  174.0   \n",
       "4   {'G_Reuss': 186.0, 'G_VRH': 188.0, 'G_Voigt': ...      0.000000  188.0   \n",
       "..                                                ...           ...    ...   \n",
       "80  {'G_Reuss': 13.0, 'G_VRH': 14.0, 'G_Voigt': 15...      0.000000   14.0   \n",
       "81  {'G_Reuss': 34.0, 'G_VRH': 34.0, 'G_Voigt': 35...      0.000000   34.0   \n",
       "82  {'G_Reuss': -14.0, 'G_VRH': -15.0, 'G_Voigt': ...      0.738133  -15.0   \n",
       "83  {'G_Reuss': 20.0, 'G_VRH': 21.0, 'G_Voigt': 21...      0.000000   21.0   \n",
       "84  {'G_Reuss': 39.0, 'G_VRH': 40.0, 'G_Voigt': 42...      0.000000   40.0   \n",
       "\n",
       "    K_VRH  Elastic_Anisotropy  poisson_ratio  Y_Modulus  \n",
       "0    27.0               11.26           0.28      35.84  \n",
       "1    18.0              321.80           0.23      29.52  \n",
       "2   260.0                0.13           0.28     340.48  \n",
       "3   310.0                0.11           0.26     438.48  \n",
       "4   337.0                0.09           0.27     477.52  \n",
       "..    ...                 ...            ...        ...  \n",
       "80   14.0                1.03           0.13      31.64  \n",
       "81   37.0                0.11           0.14      77.52  \n",
       "82  161.0                0.43           0.55     -46.50  \n",
       "83   74.0                0.06           0.37      57.54  \n",
       "84  108.0                0.33           0.33     106.40  \n",
       "\n",
       "[85 rows x 13 columns]"
      ]
     },
     "execution_count": 2,
     "metadata": {},
     "output_type": "execute_result"
    }
   ],
   "source": [
    "# df = pd.read_csv(Path('../All Data Export/Ti_compounds_dataframe.csv'))\n",
    "# df = pd.read_csv(Path('../All Data Export/C_compounds_dataframe.csv'))\n",
    "# df = pd.read_csv(Path('../All Data Export/Cr_compounds_dataframe.csv'))\n",
    "# df = pd.read_csv(Path('../All Data Export/Fe_compounds_dataframe.csv'))\n",
    "# df = pd.read_csv(Path('../All Data Export/Hf_compounds_dataframe.csv'))\n",
    "df = pd.read_csv(Path('../All Data Export/Mo_compounds_dataframe.csv'))\n",
    "# df = pd.read_csv(Path('../All Data Export/Nb_compounds_dataframe.csv'))\n",
    "# df = pd.read_csv(Path('../All Data Export/Ni_compounds_dataframe.csv'))\n",
    "# df = pd.read_csv(Path('../All Data Export/V_compounds_dataframe.csv'))\n",
    "# df = pd.read_csv(Path('../All Data Export/W_compounds_dataframe.csv'))\n",
    "# df = pd.read_csv(Path('../All Data Export/Zr_compounds_dataframe.csv'))\n",
    "# df = pd.read_csv(Path('../All Data Export/Ta_compounds_dataframe.csv'))\n",
    "df"
   ]
  },
  {
   "cell_type": "code",
   "execution_count": 3,
   "metadata": {},
   "outputs": [
    {
     "data": {
      "text/plain": [
       "Index(['Unnamed: 0', 'mp_id', 'Formula', 'Composition', 'IPF', 'Density',\n",
       "       'Elastic_Tensor', 'E_above_Hull', 'G_VRH', 'K_VRH',\n",
       "       'Elastic_Anisotropy', 'poisson_ratio', 'Y_Modulus'],\n",
       "      dtype='object')"
      ]
     },
     "execution_count": 3,
     "metadata": {},
     "output_type": "execute_result"
    }
   ],
   "source": [
    "df.columns"
   ]
  },
  {
   "cell_type": "code",
   "execution_count": 4,
   "metadata": {},
   "outputs": [
    {
     "data": {
      "text/html": [
       "<div>\n",
       "<style scoped>\n",
       "    .dataframe tbody tr th:only-of-type {\n",
       "        vertical-align: middle;\n",
       "    }\n",
       "\n",
       "    .dataframe tbody tr th {\n",
       "        vertical-align: top;\n",
       "    }\n",
       "\n",
       "    .dataframe thead th {\n",
       "        text-align: right;\n",
       "    }\n",
       "</style>\n",
       "<table border=\"1\" class=\"dataframe\">\n",
       "  <thead>\n",
       "    <tr style=\"text-align: right;\">\n",
       "      <th></th>\n",
       "      <th>IPF</th>\n",
       "      <th>Density</th>\n",
       "      <th>E_above_Hull</th>\n",
       "      <th>G_VRH</th>\n",
       "      <th>K_VRH</th>\n",
       "      <th>Elastic_Anisotropy</th>\n",
       "      <th>poisson_ratio</th>\n",
       "      <th>Y_Modulus</th>\n",
       "    </tr>\n",
       "  </thead>\n",
       "  <tbody>\n",
       "    <tr>\n",
       "      <th>0</th>\n",
       "      <td>0.100624</td>\n",
       "      <td>3.976518</td>\n",
       "      <td>0.096591</td>\n",
       "      <td>14.0</td>\n",
       "      <td>27.0</td>\n",
       "      <td>11.26</td>\n",
       "      <td>0.28</td>\n",
       "      <td>35.84</td>\n",
       "    </tr>\n",
       "    <tr>\n",
       "      <th>1</th>\n",
       "      <td>0.080656</td>\n",
       "      <td>2.799182</td>\n",
       "      <td>0.793011</td>\n",
       "      <td>12.0</td>\n",
       "      <td>18.0</td>\n",
       "      <td>321.80</td>\n",
       "      <td>0.23</td>\n",
       "      <td>29.52</td>\n",
       "    </tr>\n",
       "    <tr>\n",
       "      <th>2</th>\n",
       "      <td>0.165327</td>\n",
       "      <td>9.788205</td>\n",
       "      <td>0.000000</td>\n",
       "      <td>133.0</td>\n",
       "      <td>260.0</td>\n",
       "      <td>0.13</td>\n",
       "      <td>0.28</td>\n",
       "      <td>340.48</td>\n",
       "    </tr>\n",
       "    <tr>\n",
       "      <th>3</th>\n",
       "      <td>0.127039</td>\n",
       "      <td>15.891654</td>\n",
       "      <td>0.000000</td>\n",
       "      <td>174.0</td>\n",
       "      <td>310.0</td>\n",
       "      <td>0.11</td>\n",
       "      <td>0.26</td>\n",
       "      <td>438.48</td>\n",
       "    </tr>\n",
       "    <tr>\n",
       "      <th>4</th>\n",
       "      <td>0.128568</td>\n",
       "      <td>18.954289</td>\n",
       "      <td>0.000000</td>\n",
       "      <td>188.0</td>\n",
       "      <td>337.0</td>\n",
       "      <td>0.09</td>\n",
       "      <td>0.27</td>\n",
       "      <td>477.52</td>\n",
       "    </tr>\n",
       "    <tr>\n",
       "      <th>...</th>\n",
       "      <td>...</td>\n",
       "      <td>...</td>\n",
       "      <td>...</td>\n",
       "      <td>...</td>\n",
       "      <td>...</td>\n",
       "      <td>...</td>\n",
       "      <td>...</td>\n",
       "      <td>...</td>\n",
       "    </tr>\n",
       "    <tr>\n",
       "      <th>79</th>\n",
       "      <td>0.283438</td>\n",
       "      <td>3.134531</td>\n",
       "      <td>0.000000</td>\n",
       "      <td>29.0</td>\n",
       "      <td>81.0</td>\n",
       "      <td>0.06</td>\n",
       "      <td>0.34</td>\n",
       "      <td>77.72</td>\n",
       "    </tr>\n",
       "    <tr>\n",
       "      <th>80</th>\n",
       "      <td>0.227641</td>\n",
       "      <td>5.490521</td>\n",
       "      <td>0.000000</td>\n",
       "      <td>14.0</td>\n",
       "      <td>14.0</td>\n",
       "      <td>1.03</td>\n",
       "      <td>0.13</td>\n",
       "      <td>31.64</td>\n",
       "    </tr>\n",
       "    <tr>\n",
       "      <th>81</th>\n",
       "      <td>0.323585</td>\n",
       "      <td>3.901772</td>\n",
       "      <td>0.000000</td>\n",
       "      <td>34.0</td>\n",
       "      <td>37.0</td>\n",
       "      <td>0.11</td>\n",
       "      <td>0.14</td>\n",
       "      <td>77.52</td>\n",
       "    </tr>\n",
       "    <tr>\n",
       "      <th>83</th>\n",
       "      <td>0.360187</td>\n",
       "      <td>4.097866</td>\n",
       "      <td>0.000000</td>\n",
       "      <td>21.0</td>\n",
       "      <td>74.0</td>\n",
       "      <td>0.06</td>\n",
       "      <td>0.37</td>\n",
       "      <td>57.54</td>\n",
       "    </tr>\n",
       "    <tr>\n",
       "      <th>84</th>\n",
       "      <td>0.216043</td>\n",
       "      <td>6.202362</td>\n",
       "      <td>0.000000</td>\n",
       "      <td>40.0</td>\n",
       "      <td>108.0</td>\n",
       "      <td>0.33</td>\n",
       "      <td>0.33</td>\n",
       "      <td>106.40</td>\n",
       "    </tr>\n",
       "  </tbody>\n",
       "</table>\n",
       "<p>84 rows × 8 columns</p>\n",
       "</div>"
      ],
      "text/plain": [
       "         IPF    Density  E_above_Hull  G_VRH  K_VRH  Elastic_Anisotropy  \\\n",
       "0   0.100624   3.976518      0.096591   14.0   27.0               11.26   \n",
       "1   0.080656   2.799182      0.793011   12.0   18.0              321.80   \n",
       "2   0.165327   9.788205      0.000000  133.0  260.0                0.13   \n",
       "3   0.127039  15.891654      0.000000  174.0  310.0                0.11   \n",
       "4   0.128568  18.954289      0.000000  188.0  337.0                0.09   \n",
       "..       ...        ...           ...    ...    ...                 ...   \n",
       "79  0.283438   3.134531      0.000000   29.0   81.0                0.06   \n",
       "80  0.227641   5.490521      0.000000   14.0   14.0                1.03   \n",
       "81  0.323585   3.901772      0.000000   34.0   37.0                0.11   \n",
       "83  0.360187   4.097866      0.000000   21.0   74.0                0.06   \n",
       "84  0.216043   6.202362      0.000000   40.0  108.0                0.33   \n",
       "\n",
       "    poisson_ratio  Y_Modulus  \n",
       "0            0.28      35.84  \n",
       "1            0.23      29.52  \n",
       "2            0.28     340.48  \n",
       "3            0.26     438.48  \n",
       "4            0.27     477.52  \n",
       "..            ...        ...  \n",
       "79           0.34      77.72  \n",
       "80           0.13      31.64  \n",
       "81           0.14      77.52  \n",
       "83           0.37      57.54  \n",
       "84           0.33     106.40  \n",
       "\n",
       "[84 rows x 8 columns]"
      ]
     },
     "execution_count": 4,
     "metadata": {},
     "output_type": "execute_result"
    }
   ],
   "source": [
    "df.drop( df[ df['Y_Modulus'] < 0 ].index , inplace=True)\n",
    "df_original = df.copy\n",
    "elements = df['Formula'].tolist()\n",
    "df = df.drop(df.columns[[0, 1, 2, 3, 6]], axis=1)\n",
    "df"
   ]
  },
  {
   "cell_type": "markdown",
   "metadata": {},
   "source": [
    "### 2. Processing and Organizing Data\n",
    "\n",
    "Most machine learning models are trained on a subset of all the available data, called the \"training set\", and the models are tested on the remainder of the available data, called the \"testing set\". Model performance has often been found to be enhanced when the inputs are normalized.\n",
    "\n",
    "##### SETS\n",
    "\n",
    "1. With the dataset we just created, we have splitted the dataset for each of the 12 datasets:\n",
    "- C: 331 entries for our model. We will train with 300 cases and test on the remaining 31 elements to estimate Young's Modulus.\n",
    "- Cr: 331 entries for our model. We will train with 300 cases and test on the remaining 31 elements to estimate Young's Modulus.\n",
    "- Fe: 208 entries for our model. We will train with 182 cases and test on the remaining 26 elements to estimate Young's Modulus.\n",
    "- Hf: 216 entries for our model. We will train with 180 cases and test on the remaining 36 elements to estimate Young's Modulus.\n",
    "- Mo: 60 entries for our model. We will train with 84 cases and test on the remaining 24 elements to estimate Young's Modulus.\n",
    "- Nb: 331 entries for our model. We will train with 300 cases and test on the remaining 31 elements to estimate Young's Modulus.\n",
    "- Ni: 331 entries for our model. We will train with 300 cases and test on the remaining 31 elements to estimate Young's Modulus.\n",
    "- Ta: 331 entries for our model. We will train with 300 cases and test on the remaining 31 elements to estimate Young's Modulus.\n",
    "- Ti: 331 entries for our model. We will train with 300 cases and test on the remaining 31 elements to estimate Young's Modulus.\n",
    "- V: 331 entries for our model. We will train with 300 cases and test on the remaining 31 elements to estimate Young's Modulus.\n",
    "- W: 331 entries for our model. We will train with 300 cases and test on the remaining 31 elements to estimate Young's Modulus.\n",
    "- Zr: 331 entries for our model. We will train with 300 cases and test on the remaining 31 elements to estimate Young's Modulus.\n",
    "\n",
    "\n",
    "\n",
    "##### NORMALIZATION\n",
    "\n",
    "Each one of these input data features has different units and is represented in scales with distinct orders of magnitude. Datasets that contain inputs like this need to be normalized, so that quantities with large values do not *overwhelm* the neural network, forcing it tune its weights to account for the different scales of our input data. In this work, we will use the Standard Score Normalization, which subtracts the mean of the feature and divide by its standard deviation.\n",
    "\n",
    "<span style=\"font-size:2em;\">$ \\frac{X - µ}{σ} $ </span>\n",
    "\n",
    "While our model might converge without feature normalization, the resultant model would be difficult to train and would be dependent on the choice of units used in the input."
   ]
  },
  {
   "cell_type": "code",
   "execution_count": 5,
   "metadata": {},
   "outputs": [
    {
     "name": "stdout",
     "output_type": "stream",
     "text": [
      "[[0.1006239688072766, 3.976518486775352, 0.09659055555566454, 14.0, 27.0, 11.26, 0.28, 35.84], [0.0806563593315154, 2.7991816899530124, 0.7930111111109639, 12.0, 18.0, 321.8, 0.23, 29.52], [0.16532743319379867, 9.788205406403751, 0.0, 133.0, 260.0, 0.13, 0.28, 340.48], [0.1270388461350749, 15.891653646138995, 0.0, 174.0, 310.0, 0.11, 0.26, 438.48], [0.12856793574520414, 18.954289106141914, 0.0, 188.0, 337.0, 0.09, 0.27, 477.52], [0.14830462828295535, 9.512797011663228, 0.0, 89.0, 230.0, 0.53, 0.33, 236.74], [0.15019754521254436, 9.438041481766186, 0.0, 91.0, 223.0, 1.03, 0.32, 240.24], [0.05769084003298094, 4.445367514871172, 0.0, 98.0, 129.0, 0.69, 0.2, 235.2], [0.12364762827767893, 11.088786799073864, 0.0, 134.0, 266.0, 0.17, 0.28, 343.04], [0.10934713258375303, 8.81246113129718, 0.0, 127.0, 252.0, 0.21, 0.28, 325.12], [0.10118744237408696, 8.079854591855021, 0.0, 120.0, 241.0, 0.08, 0.29, 309.6], [0.12225030968819127, 4.242701149747531, 0.19976333333282525, 18.0, 27.0, 140.72, 0.23, 44.28], [0.11216045089035592, 3.0970014877293535, 0.0, 150.0, 141.0, 0.09, 0.11, 333.00000000000006], [0.10020700039844023, 8.38892757564375, 0.0, 55.0, 110.0, 0.13, 0.29, 141.9], [0.10600460384547733, 8.943989553934255, 0.0, 150.0, 294.0, 0.14, 0.28, 384.0], [0.1440390739615636, 5.692222710109798, 0.15478166666671456, 14.0, 18.0, 78.16, 0.18, 33.04], [0.11721309076891202, 6.043401089229737, 0.0, 150.0, 199.0, 0.0, 0.2, 360.0], [0.09401194692015497, 8.35297088502495, 0.0, 81.0, 145.0, 0.75, 0.26, 204.12], [0.4667389871829854, 4.118450011487654, 0.0, 36.0, 33.0, 0.85, 0.1, 79.2], [0.1070395759032519, 8.476293679327059, 0.0, 200.0, 311.0, 0.06, 0.24, 496.0], [0.4637629367955456, 4.641315665782823, 0.0, 23.0, 56.0, 0.48, 0.32, 60.72000000000001], [0.11826466967629665, 8.470043758492197, 0.0, 59.0, 192.0, 0.1, 0.36, 160.48], [0.090703649872515, 7.222266813169173, 0.0, 134.0, 219.0, 0.23, 0.25, 335.0], [0.09108575415157387, 7.035996165989013, 0.0, 225.0, 295.0, 0.03, 0.2, 540.0], [0.11864999037820576, 11.274807982924163, 0.0, 68.0, 200.0, 0.08, 0.35, 183.6], [0.11565277551167055, 8.470007537449618, 0.0, 121.0, 225.0, 0.23, 0.27, 307.3400000000001], [0.08011387274882875, 6.190200009030293, 0.0, 177.0, 207.0, 0.11, 0.17, 414.18], [0.09665338281258838, 5.003746842096972, 0.0, 104.0, 141.0, 0.27, 0.2, 249.6], [0.1463452691058212, 8.914411665745458, 0.0, 196.0, 327.0, 0.25, 0.25, 490.0], [0.11679514000595452, 4.053379300650168, 0.0, 18.0, 26.0, 145.35, 0.22, 43.92], [0.12341748990159987, 11.605224093178336, 0.0, 127.0, 268.0, 0.05, 0.3, 330.2], [0.5109620440829472, 5.802427067143125, 0.0, 89.0, 219.0, 1.61, 0.32, 234.96], [0.09092264314288204, 2.9466583059893443, 0.0, 3.0, 5.0, 0.44, 0.26, 7.56], [0.1510654232670742, 5.969894205669847, 0.11984500000039587, 15.0, 22.0, 80.05, 0.21, 36.3], [0.2278315916517834, 7.173536852365072, 0.0, 14.0, 33.0, 9.66, 0.31, 36.68], [0.1492887967888116, 10.298147656965556, 0.0, 89.0, 193.0, 0.19, 0.3, 231.4], [0.1361575726545878, 17.390098559902462, 0.0, 137.0, 272.0, 0.45, 0.28, 350.72], [0.16414283129980425, 6.977976860149579, 0.0, 50.0, 69.0, 0.69, 0.21, 121.0], [0.1401887672412557, 7.371334929828633, 0.0, 40.0, 189.0, 1.72, 0.4, 112.0], [0.09687064413672224, 11.50847030579298, 0.0, 154.0, 286.0, 0.04, 0.27, 391.16], [0.13380807115208165, 15.63834777687729, 0.0, 135.0, 275.0, 0.18, 0.29, 348.3], [0.09914731450908676, 6.8077570361826805, 0.0, 111.0, 198.0, 0.13, 0.26, 279.72], [0.13812391815313735, 7.878984334713148, 0.0, 81.0, 137.0, 0.36, 0.25, 202.5], [0.11745892920400007, 6.293802755536176, 0.0, 98.0, 156.0, 0.08, 0.24, 243.04], [0.3635314100009215, 3.3719139476788533, 0.0, 14.0, 22.0, 5.32, 0.24, 34.72], [0.10007365480159228, 6.301295829336069, 0.0, 138.0, 211.0, 0.38, 0.23, 339.48], [0.11847154314725625, 14.134984125847225, 0.0, 111.0, 204.0, 0.53, 0.27, 281.94], [0.1472562006172479, 10.429707910141847, 0.0, 89.0, 210.0, 0.1, 0.32, 234.96], [0.22100921903100226, 2.9048014614980127, 0.0, 67.0, 83.0, 0.03, 0.18, 158.12], [0.15710747487104512, 4.1111380525856225, 0.0, 45.0, 105.0, 0.68, 0.31, 117.9], [0.09285816112221068, 6.624752975525022, 0.0, 104.0, 189.0, 0.31, 0.27, 264.16], [0.1905893225426337, 3.4464277799931584, 0.0, 23.0, 56.0, 2.77, 0.32, 60.72000000000001], [0.1096324657845128, 7.4772215371568596, 0.0, 114.0, 198.0, 0.08, 0.26, 287.2800000000001], [0.1343613632581681, 9.701992710272085, 0.0, 37.0, 63.0, 0.38, 0.26, 93.24], [0.4915280316461832, 3.4622907377447008, 0.0, 27.0, 50.0, 0.03, 0.27, 68.58], [0.5587630029204516, 5.458432399166019, 0.0, 57.0, 147.0, 1.5, 0.33, 151.62], [0.5096358206839471, 4.0618630677220615, 0.0, 33.0, 75.0, 0.3, 0.31, 86.46000000000002], [0.13411775592578173, 8.91619508284835, 0.0, 178.0, 305.0, 0.2, 0.26, 448.56], [0.12406403148032345, 8.42089571650141, 0.0, 122.0, 258.0, 0.14, 0.3, 317.2], [0.2817944191309452, 2.7897050274272712, 0.0, 13.0, 32.0, 4.52, 0.32, 34.32], [0.1169757316275636, 8.299220612816391, 0.0, 95.0, 241.0, 0.1, 0.33, 252.7], [0.13023332965565065, 8.808556961255476, 0.0, 75.0, 210.0, 0.32, 0.34, 201.0], [0.11895099097604522, 16.315492987162518, 0.0, 129.0, 215.0, 0.21, 0.25, 322.5], [0.16966634573481154, 6.226042988443881, 0.0, 183.0, 246.0, 0.08, 0.2, 439.2], [0.12697119347343794, 11.420396428302126, 0.0, 124.0, 241.0, 0.25, 0.28, 317.44], [0.12707529827865033, 9.645354703707927, 0.0, 90.0, 166.0, 0.24, 0.27, 228.6], [0.12121016084042695, 16.035174014808348, 0.0, 129.0, 290.0, 0.09, 0.31, 337.98], [0.1463283420235767, 13.620045837210329, 0.0, 98.0, 218.0, 0.6, 0.3, 254.8], [0.10366064181594682, 10.04908561554056, 0.0, 104.0, 189.0, 0.48, 0.27, 264.16], [0.13934656681499086, 9.425318334147274, 0.0, 141.0, 273.0, 0.11, 0.28, 360.96], [0.1102126498753483, 10.709118195422722, 0.0, 121.0, 208.0, 0.06, 0.26, 304.92], [0.13098448326482026, 5.652812263160932, 0.0, 42.0, 150.0, 1.1, 0.37, 115.08], [0.12671033907847126, 15.132835037478905, 0.0, 81.0, 191.0, 0.07, 0.32, 213.84], [0.1252437615694551, 13.096146446414696, 0.0, 78.0, 174.0, 0.38, 0.31, 204.36], [0.15092416784412746, 7.112101516720643, 0.0, 79.0, 171.0, 0.06, 0.3, 205.4], [0.13144325466944148, 9.323271653873627, 0.0, 116.0, 248.0, 0.22, 0.3, 301.6], [0.12491375826432127, 13.92800334400374, 0.0, 113.0, 195.0, 0.27, 0.26, 284.76], [0.09229007756238937, 10.532716613740297, 0.0, 91.0, 184.0, 0.63, 0.29, 234.78], [0.11868519397877975, 8.68820550010329, 0.0, 179.0, 296.0, 0.18, 0.25, 447.5], [0.2834376022801518, 3.134531105225672, 0.0, 29.0, 81.0, 0.06, 0.34, 77.72], [0.2276412222710868, 5.490521338692767, 0.0, 14.0, 14.0, 1.03, 0.13, 31.64], [0.3235845570574307, 3.90177237351396, 0.0, 34.0, 37.0, 0.11, 0.14, 77.52000000000002], [0.3601870556786358, 4.09786562672776, 0.0, 21.0, 74.0, 0.06, 0.37, 57.540000000000006], [0.2160425570240147, 6.202362321920086, 0.0, 40.0, 108.0, 0.33, 0.33, 106.4]]\n"
     ]
    },
    {
     "data": {
      "text/html": [
       "<div>\n",
       "<style scoped>\n",
       "    .dataframe tbody tr th:only-of-type {\n",
       "        vertical-align: middle;\n",
       "    }\n",
       "\n",
       "    .dataframe tbody tr th {\n",
       "        vertical-align: top;\n",
       "    }\n",
       "\n",
       "    .dataframe thead th {\n",
       "        text-align: right;\n",
       "    }\n",
       "</style>\n",
       "<table border=\"1\" class=\"dataframe\">\n",
       "  <thead>\n",
       "    <tr style=\"text-align: right;\">\n",
       "      <th></th>\n",
       "      <th>IPF</th>\n",
       "      <th>Density</th>\n",
       "      <th>E_above_Hull</th>\n",
       "      <th>G_VRH</th>\n",
       "      <th>K_VRH</th>\n",
       "      <th>Elastic_Anisotropy</th>\n",
       "      <th>poisson_ratio</th>\n",
       "    </tr>\n",
       "  </thead>\n",
       "  <tbody>\n",
       "    <tr>\n",
       "      <th>0</th>\n",
       "      <td>0.100624</td>\n",
       "      <td>3.976518</td>\n",
       "      <td>0.096591</td>\n",
       "      <td>14.0</td>\n",
       "      <td>27.0</td>\n",
       "      <td>11.26</td>\n",
       "      <td>0.28</td>\n",
       "    </tr>\n",
       "    <tr>\n",
       "      <th>1</th>\n",
       "      <td>0.080656</td>\n",
       "      <td>2.799182</td>\n",
       "      <td>0.793011</td>\n",
       "      <td>12.0</td>\n",
       "      <td>18.0</td>\n",
       "      <td>321.80</td>\n",
       "      <td>0.23</td>\n",
       "    </tr>\n",
       "    <tr>\n",
       "      <th>2</th>\n",
       "      <td>0.165327</td>\n",
       "      <td>9.788205</td>\n",
       "      <td>0.000000</td>\n",
       "      <td>133.0</td>\n",
       "      <td>260.0</td>\n",
       "      <td>0.13</td>\n",
       "      <td>0.28</td>\n",
       "    </tr>\n",
       "    <tr>\n",
       "      <th>3</th>\n",
       "      <td>0.127039</td>\n",
       "      <td>15.891654</td>\n",
       "      <td>0.000000</td>\n",
       "      <td>174.0</td>\n",
       "      <td>310.0</td>\n",
       "      <td>0.11</td>\n",
       "      <td>0.26</td>\n",
       "    </tr>\n",
       "    <tr>\n",
       "      <th>4</th>\n",
       "      <td>0.128568</td>\n",
       "      <td>18.954289</td>\n",
       "      <td>0.000000</td>\n",
       "      <td>188.0</td>\n",
       "      <td>337.0</td>\n",
       "      <td>0.09</td>\n",
       "      <td>0.27</td>\n",
       "    </tr>\n",
       "    <tr>\n",
       "      <th>5</th>\n",
       "      <td>0.148305</td>\n",
       "      <td>9.512797</td>\n",
       "      <td>0.000000</td>\n",
       "      <td>89.0</td>\n",
       "      <td>230.0</td>\n",
       "      <td>0.53</td>\n",
       "      <td>0.33</td>\n",
       "    </tr>\n",
       "    <tr>\n",
       "      <th>6</th>\n",
       "      <td>0.150198</td>\n",
       "      <td>9.438041</td>\n",
       "      <td>0.000000</td>\n",
       "      <td>91.0</td>\n",
       "      <td>223.0</td>\n",
       "      <td>1.03</td>\n",
       "      <td>0.32</td>\n",
       "    </tr>\n",
       "    <tr>\n",
       "      <th>7</th>\n",
       "      <td>0.057691</td>\n",
       "      <td>4.445368</td>\n",
       "      <td>0.000000</td>\n",
       "      <td>98.0</td>\n",
       "      <td>129.0</td>\n",
       "      <td>0.69</td>\n",
       "      <td>0.20</td>\n",
       "    </tr>\n",
       "    <tr>\n",
       "      <th>8</th>\n",
       "      <td>0.123648</td>\n",
       "      <td>11.088787</td>\n",
       "      <td>0.000000</td>\n",
       "      <td>134.0</td>\n",
       "      <td>266.0</td>\n",
       "      <td>0.17</td>\n",
       "      <td>0.28</td>\n",
       "    </tr>\n",
       "    <tr>\n",
       "      <th>9</th>\n",
       "      <td>0.109347</td>\n",
       "      <td>8.812461</td>\n",
       "      <td>0.000000</td>\n",
       "      <td>127.0</td>\n",
       "      <td>252.0</td>\n",
       "      <td>0.21</td>\n",
       "      <td>0.28</td>\n",
       "    </tr>\n",
       "  </tbody>\n",
       "</table>\n",
       "</div>"
      ],
      "text/plain": [
       "        IPF    Density  E_above_Hull  G_VRH  K_VRH  Elastic_Anisotropy  \\\n",
       "0  0.100624   3.976518      0.096591   14.0   27.0               11.26   \n",
       "1  0.080656   2.799182      0.793011   12.0   18.0              321.80   \n",
       "2  0.165327   9.788205      0.000000  133.0  260.0                0.13   \n",
       "3  0.127039  15.891654      0.000000  174.0  310.0                0.11   \n",
       "4  0.128568  18.954289      0.000000  188.0  337.0                0.09   \n",
       "5  0.148305   9.512797      0.000000   89.0  230.0                0.53   \n",
       "6  0.150198   9.438041      0.000000   91.0  223.0                1.03   \n",
       "7  0.057691   4.445368      0.000000   98.0  129.0                0.69   \n",
       "8  0.123648  11.088787      0.000000  134.0  266.0                0.17   \n",
       "9  0.109347   8.812461      0.000000  127.0  252.0                0.21   \n",
       "\n",
       "   poisson_ratio  \n",
       "0           0.28  \n",
       "1           0.23  \n",
       "2           0.28  \n",
       "3           0.26  \n",
       "4           0.27  \n",
       "5           0.33  \n",
       "6           0.32  \n",
       "7           0.20  \n",
       "8           0.28  \n",
       "9           0.28  "
      ]
     },
     "execution_count": 5,
     "metadata": {},
     "output_type": "execute_result"
    }
   ],
   "source": [
    "all_values = df.values.tolist() # Values for Attributes\n",
    "print(all_values)\n",
    "all_labels = [] # Values for Young's Modulus (Property to be estimated)\n",
    "all_labels = df['Y_Modulus'].tolist()\n",
    "df = df.drop(['Y_Modulus'], axis=1)\n",
    "df.head(n=10)"
   ]
  },
  {
   "cell_type": "code",
   "execution_count": 6,
   "metadata": {},
   "outputs": [
    {
     "name": "stdout",
     "output_type": "stream",
     "text": [
      "Shape of Values: (84, 7)\n",
      "Shape of Labels: (84,)\n",
      "[-0.56373349 -1.0038301   0.69102365 -1.33980313 -1.42530053 -0.0477645\n",
      "  0.28886858]\n",
      "[-0.42807518  0.18988923 -0.21269613  0.06534215  0.76144326 -0.27387344\n",
      "  1.20108514]\n",
      "[ 0  1  2  3  4  5  6  7  8  9 10 11 12 13 14 15 16 17 18 19 20 21 22 23\n",
      " 24 25 26 27 28 29 30 31 32 33 34 35 36 37 38 39 40 41 42 43 44 45 46 47\n",
      " 48 49 50 51 52 53 54 55 56 57 58 59 60 61 62 63 64 65 66 67 68 69 70 71\n",
      " 72 73 74 75 76 77 78 79 80 81 82 83]\n"
     ]
    }
   ],
   "source": [
    "#We will rewrite the arrays with the patches we made on the dataset \n",
    "# by turning the dataframe back into a list of lists\n",
    "\n",
    "all_values = [list(df.iloc[x]) for x in range(len(all_values))]\n",
    "\n",
    "# SETS\n",
    "\n",
    "# List of lists are turned into Numpy arrays to facilitate calculations in steps to follow (Normalization).\n",
    "all_values = np.array(all_values, dtype = float) \n",
    "print(\"Shape of Values:\", all_values.shape)\n",
    "all_labels = np.array(all_labels, dtype = float)\n",
    "print(\"Shape of Labels:\", all_labels.shape)\n",
    "\n",
    "# Uncomment the line below to shuffle the dataset \n",
    "#(we do not do this here to ensure consistent results for every run)\n",
    "#order = np.argsort(np.random.random(all_labels.shape)) \n",
    "# This numpy argsort returns the indexes that would be used to shuffle a list\n",
    "order = np.arange(84)\n",
    "all_values = all_values[order]\n",
    "all_labels = all_labels[order]\n",
    "\n",
    "# Training Set\n",
    "train_labels = all_labels[:60]\n",
    "train_values = all_values[:60]\n",
    "\n",
    "# Testing Set\n",
    "test_labels = all_labels[-24:]\n",
    "test_values = all_values[-24:]\n",
    "\n",
    "# This line is used for labels in the plots at the end of the tutorial - Testing Set\n",
    "\n",
    "labeled_elements = [elements[x] for x in order[-24:]] \n",
    "elements = [elements[x] for x in order]\n",
    "\n",
    "# NORMALIZATION\n",
    "\n",
    "mean = np.mean(train_values, axis = 0) # mean\n",
    "std = np.std(train_values, axis = 0) # standard deviation\n",
    "\n",
    "train_values = (train_values - mean) / std # input scaling\n",
    "test_values = (test_values - mean) / std # input scaling\n",
    "\n",
    "print(train_values[0]) # print a sample entry from the training set\n",
    "print(test_values[0]) # print a sample entry from the training set\n",
    "print(order)"
   ]
  },
  {
   "cell_type": "markdown",
   "metadata": {},
   "source": [
    "### 3. Creating the Model\n",
    "\n",
    "For this regression, we will use a simple sequential neural network with one densely connected hidden layer. The optimizer used will be [RMSPropOptimizer](https://www.tensorflow.org/api_docs/python/tf/train/RMSPropOptimizer) (Root Mean Square Propagation).\n",
    "\n",
    "To learn more about Root Mean Squared Propagation, click [here](https://climin.readthedocs.io/en/latest/rmsprop.html).\n",
    "\n",
    "A cool tool developed by Tensorflow to visualize how a neural network learns, and play around with its parameters, can be found here [NN Tools](https://playground.tensorflow.org/)."
   ]
  },
  {
   "cell_type": "code",
   "execution_count": 7,
   "metadata": {},
   "outputs": [
    {
     "name": "stdout",
     "output_type": "stream",
     "text": [
      "WARNING:tensorflow:From C:\\Users\\Kayla Yano\\anaconda3\\envs\\PythonData\\lib\\site-packages\\tensorflow\\python\\keras\\initializers.py:143: calling RandomNormal.__init__ (from tensorflow.python.ops.init_ops) with dtype is deprecated and will be removed in a future version.\n",
      "Instructions for updating:\n",
      "Call initializer instance with the dtype argument instead of passing it to the constructor\n",
      "Model: \"sequential\"\n",
      "_________________________________________________________________\n",
      "Layer (type)                 Output Shape              Param #   \n",
      "=================================================================\n",
      "dense (Dense)                (None, 32)                256       \n",
      "_________________________________________________________________\n",
      "dense_1 (Dense)              (None, 64)                2112      \n",
      "_________________________________________________________________\n",
      "dense_2 (Dense)              (None, 64)                4160      \n",
      "_________________________________________________________________\n",
      "dense_3 (Dense)              (None, 1)                 65        \n",
      "=================================================================\n",
      "Total params: 6,593\n",
      "Trainable params: 6,593\n",
      "Non-trainable params: 0\n",
      "_________________________________________________________________\n"
     ]
    }
   ],
   "source": [
    "# DEFINITION OF THE MODEL\n",
    "\n",
    "# The weights of our neural network will be initialized in a random manner, using a seed allows for reproducibility\n",
    "kernel_init = initializers.RandomNormal(seed=0)\n",
    "# In a sequential model, the first layer must specify the input shape the model will expect; \n",
    "# in this case the value is train_values.shape[1] which is the number\n",
    "# of attributes (properties) and equals 17.\n",
    "\n",
    "model = Sequential()\n",
    "model.add(Dense(32, activation='relu', input_shape=(train_values.shape[1], ), kernel_initializer=kernel_init))\n",
    "model.add(Dense(64, activation='relu', kernel_initializer=kernel_init))\n",
    "model.add(Dense(64, activation='relu', kernel_initializer=kernel_init))\n",
    "model.add(Dense(1, kernel_initializer=kernel_init))\n",
    "\n",
    "# DEFINITION OF THE OPTIMIZER\n",
    "\n",
    "optimizer = optimizers.RMSprop(0.002) # Root Mean Squared Propagation\n",
    "\n",
    "# This line matches the optimizer to the model and states which metrics will evaluate the model's accuracy\n",
    "model.compile(loss='mae', optimizer=optimizer, metrics=['mae'])\n",
    "model.summary()"
   ]
  },
  {
   "cell_type": "markdown",
   "metadata": {},
   "source": [
    "#### TRAINING \n",
    "\n",
    "This model is trained for 2000 epochs, and we record the training accuracy in the history object.\n",
    "\n",
    "One **Epoch** occurs when you pass the entire dataset through the model. One **Batch** contains a subset of the dataset that can be fed to the model at the same time. A more detailed explanation of these concepts can be found in this [blog](https://towardsdatascience.com/epoch-vs-iterations-vs-batch-size-4dfb9c7ce9c9). As we have a really small dataset compared to the ones that are usually considered to be modeled by these neural networks, we are feeding all entries at the same time, so our batch is the entire dataset, and an epoch occurs when the batch is processed.\n",
    "\n",
    "This way, by plotting \"history\" we can see the evolution of the \"learning\" of the model, that is the decrease of the Mean Absolute Error. Models in Keras are fitted to the training set using the [**fit**](https://keras.io/models/model/#fit) method.\n",
    "\n",
    "The blue curve that will come up from the History object represents how the model is learning on the training data, and the orange curve represents the validation loss, which can be thought of as the way our model evaluates data that it was not trained in. This validation loss would start going up again when we start to overfit our data."
   ]
  },
  {
   "cell_type": "code",
   "execution_count": 8,
   "metadata": {},
   "outputs": [
    {
     "name": "stdout",
     "output_type": "stream",
     "text": [
      "Current Epoch: 2000 Training Loss: 4.280902                                       \r"
     ]
    },
    {
     "data": {
      "image/png": "[encoded data removed]",
      "text/plain": [
       "<Figure size 432x288 with 1 Axes>"
      ]
     },
     "metadata": {
      "needs_background": "light"
     },
     "output_type": "display_data"
    }
   ],
   "source": [
    "# EPOCH REAL TIME COUNTER CLASS\n",
    "class PrintEpNum(tf.keras.callbacks.Callback): # This is a function for the Epoch Counter\n",
    "    def on_epoch_end(self, epoch, logs):\n",
    "        sys.stdout.flush()\n",
    "        sys.stdout.write(\"Current Epoch: \" + str(epoch+1) + \" Training Loss: \" + \"%4f\" %logs.get('loss') + '                                       \\r') # Updates current Epoch Number\n",
    "\n",
    "EPOCHS = 2000 # Number of EPOCHS\n",
    "\n",
    "# HISTORY Object which contains how the model learned\n",
    "\n",
    "# Training Values (Properties), Training Labels (Known Young's Moduli) \n",
    "history = model.fit(train_values, train_labels, batch_size=train_values.shape[0], \n",
    "                    epochs=EPOCHS, verbose = False, validation_split=0.1, callbacks=[PrintEpNum()])\n",
    "\n",
    "\n",
    "# PLOTTING HISTORY USING MATPLOTLIB\n",
    "\n",
    "plt.figure()\n",
    "plt.xlabel('Epoch')\n",
    "plt.ylabel('Mean Abs Error')\n",
    "plt.plot(history.epoch, np.array(history.history['mean_absolute_error']),label='Loss on training set') \n",
    "plt.plot(history.epoch, np.array(history.history['val_mean_absolute_error']),label = 'Validation loss')\n",
    "plt.legend()\n",
    "plt.show()"
   ]
  },
  {
   "cell_type": "markdown",
   "metadata": {},
   "source": [
    "#### SAVING A MODEL\n",
    "\n",
    "Compiled and trained models in Keras can be saved and distributed in .h5 files using the `model.save()` method. Running the cell below will save the current model we trained, both weights and architecture to your home directory."
   ]
  },
  {
   "cell_type": "code",
   "execution_count": 9,
   "metadata": {},
   "outputs": [],
   "source": [
    "model.save(os.path.expanduser('~/model.h5'))"
   ]
  },
  {
   "cell_type": "markdown",
   "metadata": {},
   "source": [
    "#### TESTING\n",
    "\n",
    "Models in Keras are tested using the method [**evaluate**](https://keras.io/models/model/#evaluate). This method returns the testing loss of the model and the metrics we specified when creating it,  which in our case it's the Mean Absolute Error. For the original model in this tutorial you should get a value of around **20 GPa** for the Mean Absolute Error. This value would decrease with more training data, more attributes/features, or a different optimizer. In the case of a model that overfits, you can expect values to start increasing to around **30 or 40 GPa**."
   ]
  },
  {
   "cell_type": "code",
   "execution_count": 10,
   "metadata": {},
   "outputs": [
    {
     "name": "stdout",
     "output_type": "stream",
     "text": [
      "Testing Set Mean Absolute Error: 9.422 GPa\n"
     ]
    }
   ],
   "source": [
    "[loss, mae] = model.evaluate(test_values, test_labels, verbose=0)\n",
    "\n",
    "print(\"Testing Set Mean Absolute Error: {:2.3f} GPa\".format(mae))"
   ]
  },
  {
   "cell_type": "markdown",
   "metadata": {},
   "source": [
    "#### MAKING PREDICTIONS\n",
    "\n",
    "The last step in a regression model is to make predictions for values not in the training set, which are determined by the method [**predict**](https://keras.io/models/model/#predict). In the following cell we print the elements in the testing set, the real values for their Young's moduli and the predictions generated by our machine learned model."
   ]
  },
  {
   "cell_type": "code",
   "execution_count": 11,
   "metadata": {},
   "outputs": [
    {
     "name": "stdout",
     "output_type": "stream",
     "text": [
      "Elements in Test Set:  ['NiMoP', 'ScTc2Mo', 'Ta2MoOs', 'MgMoN2', 'V2MoOs', 'Lu2Mo2C3', 'Ta2ReMo', 'Ta2FeMo', 'HfSiMo', 'Ni2Mo3N', 'HfMoP', 'Ti2AlMo', 'Hf2MoIr', 'Hf2MoRh', 'Ti2NiMo', 'TiTc2Mo', 'Ta2TcMo', 'Si3MoPt2', 'Ni(BMo)2', 'K2NaMoF6', 'KTl2MoF6', 'Rb2NaMoF6', 'Cs2KMoF6', 'NaTl2MoF6']\n",
      "Real Values [252.7, 201.0, 322.5, 439.2, 317.44, 228.6, 337.98, 254.8, 264.16, 360.96, 304.92, 115.08, 213.84, 204.36, 205.4, 301.6, 284.76, 234.78, 447.5, 77.72, 31.64, 77.52000000000002, 57.540000000000006, 106.4]\n",
      "Predictions [249.4799, 197.74438, 314.461, 427.9205, 310.0397, 222.91545, 334.36642, 249.15324, 257.08252, 352.47845, 296.713, 110.7774, 203.68295, 193.38573, 197.09772, 294.5084, 275.93597, 227.79893, 433.81543, 78.66078, 73.154976, 93.26807, 71.29043, 94.45156]\n"
     ]
    }
   ],
   "source": [
    "test_predictions = model.predict(test_values).flatten()\n",
    "\n",
    "print(\"Elements in Test Set: \", labeled_elements)\n",
    "print(\"Real Values\", list(test_labels))\n",
    "print(\"Predictions\", list(test_predictions))\n",
    "\n",
    "values = np.concatenate((train_values, test_values), axis=0) # This line joins the values together to evaluate all of them\n",
    "predictions = model.predict(values).flatten()"
   ]
  },
  {
   "cell_type": "markdown",
   "metadata": {},
   "source": [
    "### 4. Plotting\n",
    "\n",
    "The easiest way to see if the model did a good job estimating the Young's Modulus for the Elements is through a plot comparing Real Values with their Predictions. We will use [Plotly](https://plot.ly/python/) to create a plot like that. We covered how to plot in Plotly in the first tutorial of this tool. For values in this plot, the line (x = y) indicates a perfect match and would be the desirable result for the points. As you analyze the plot, you can hover on the points to see the data we obtained in the cell above."
   ]
  },
  {
   "cell_type": "code",
   "execution_count": 13,
   "metadata": {},
   "outputs": [
    {
     "data": {
      "text/html": [
       "        <script type=\"text/javascript\">\n",
       "        window.PlotlyConfig = {MathJaxConfig: 'local'};\n",
       "        if (window.MathJax) {MathJax.Hub.Config({SVG: {font: \"STIX-Web\"}});}\n",
       "        if (typeof require !== 'undefined') {\n",
       "        require.undef(\"plotly\");\n",
       "        requirejs.config({\n",
       "            paths: {\n",
       "                'plotly': ['https://cdn.plot.ly/plotly-latest.min']\n",
       "            }\n",
       "        });\n",
       "        require(['plotly'], function(Plotly) {\n",
       "            window._Plotly = Plotly;\n",
       "        });\n",
       "        }\n",
       "        </script>\n",
       "        "
      ]
     },
     "metadata": {},
     "output_type": "display_data"
    },
    {
     "data": {
      "application/vnd.plotly.v1+json": {
       "config": {
        "linkText": "Export to plot.ly",
        "plotlyServerURL": "https://plot.ly",
        "showLink": false
       },
       "data": [
        {
         "marker": {
          "color": "blue",
          "size": 12
         },
         "mode": "markers",
         "name": "Young's Modulus (Training)",
         "text": [
          "MoSe2",
          "MoS2",
          "Co3Mo",
          "MoIr",
          "MoIr3",
          "Ni3Mo",
          "Ni4Mo",
          "MoP4",
          "MoRh",
          "SiMo3",
          "Si3Mo5",
          "MoS2",
          "Be12Mo",
          "Sb7Mo3",
          "Mo2C",
          "MoSe2",
          "Be2Mo",
          "Mo5As4",
          "MoO3",
          "BMo",
          "BaMoO4",
          "ZrMo2",
          "MoP",
          "B2Mo",
          "HfMo2",
          "AlMo3",
          "Si2Mo",
          "Al8Mo3",
          "MoN",
          "MoS2",
          "MoRh3",
          "MoO2",
          "MoF6",
          "MoSe2",
          "Te4Mo3",
          "Ti2MoPt",
          "MoPt2",
          "Zn6Mo",
          "V3Mo",
          "MoRu3",
          "MoPt",
          "CoMoP2",
          "Ce2Mo2C3",
          "Y2Si4Mo3",
          "Zr(MoO4)2",
          "AlBMo",
          "Ta2MoRu",
          "Ti2MoIr",
          "Li6MoN4",
          "CaMoN3",
          "NiMoP2",
          "Ca3MoN3",
          "ZrMoP",
          "Lu6Sb2Mo",
          "Na2MoO4",
          "NiMoO4",
          "CaMoO4",
          "CoBMo",
          "CoMoP",
          "K3MoF6",
          "NiMoP",
          "ScTc2Mo",
          "Ta2MoOs",
          "MgMoN2",
          "V2MoOs",
          "Lu2Mo2C3",
          "Ta2ReMo",
          "Ta2FeMo",
          "HfSiMo",
          "Ni2Mo3N",
          "HfMoP",
          "Ti2AlMo",
          "Hf2MoIr",
          "Hf2MoRh",
          "Ti2NiMo",
          "TiTc2Mo",
          "Ta2TcMo",
          "Si3MoPt2",
          "Ni(BMo)2",
          "K2NaMoF6",
          "KTl2MoF6",
          "Rb2NaMoF6",
          "Cs2KMoF6",
          "NaTl2MoF6"
         ],
         "type": "scatter",
         "x": [
          35.84,
          29.52,
          340.48,
          438.48,
          477.52,
          236.74,
          240.24,
          235.2,
          343.04,
          325.12,
          309.6,
          44.28,
          333.00000000000006,
          141.9,
          384,
          33.04,
          360,
          204.12,
          79.2,
          496,
          60.72000000000001,
          160.48,
          335,
          540,
          183.6,
          307.3400000000001,
          414.18,
          249.6,
          490,
          43.92,
          330.2,
          234.96,
          7.56,
          36.3,
          36.68,
          231.4,
          350.72,
          121,
          112,
          391.16,
          348.3,
          279.72,
          202.5,
          243.04,
          34.72,
          339.48,
          281.94,
          234.96,
          158.12,
          117.9,
          264.16,
          60.72000000000001,
          287.2800000000001,
          93.24,
          68.58,
          151.62,
          86.46000000000002,
          448.56,
          317.2,
          34.32,
          252.7,
          201,
          322.5,
          439.2,
          317.44,
          228.6,
          337.98,
          254.8,
          264.16,
          360.96,
          304.92,
          115.08,
          213.84,
          204.36,
          205.4,
          301.6,
          284.76,
          234.78,
          447.5,
          77.72,
          31.64,
          77.52000000000002,
          57.540000000000006,
          106.4
         ],
         "y": [
          35.59345245361328,
          35.144710540771484,
          331.829345703125,
          429.28363037109375,
          464.8071594238281,
          231.57113647460938,
          233.42816162109375,
          230.59654235839844,
          338.9739990234375,
          322.15948486328125,
          302.7740173339844,
          39.10707092285156,
          330.92822265625,
          137.6097869873047,
          379.42840576171875,
          35.050384521484375,
          352.3934326171875,
          203.31851196289062,
          86.08863067626953,
          477.74505615234375,
          61.58589172363281,
          157.7488250732422,
          327.20062255859375,
          522.3521728515625,
          178.83209228515625,
          301.92535400390625,
          408.896484375,
          244.8715057373047,
          473.95367431640625,
          45.75728225708008,
          322.16680908203125,
          233.62896728515625,
          34.592098236083984,
          37.12648391723633,
          37.58213806152344,
          223.26600646972656,
          346.2104797363281,
          120.85588836669922,
          108.84324645996094,
          385.10504150390625,
          340.5666198730469,
          277.75244140625,
          197.50424194335938,
          236.99583435058594,
          36.86062240600586,
          335.71868896484375,
          273.9496765136719,
          225.14060974121094,
          158.8102264404297,
          116.86255645751953,
          258.6582336425781,
          61.49762725830078,
          281.455078125,
          93.45574188232422,
          59.48490905761719,
          153.7498779296875,
          81.83667755126953,
          432.3783264160156,
          309.600830078125,
          42.82218933105469,
          249.4799041748047,
          197.744384765625,
          314.46099853515625,
          427.9205017089844,
          310.0397033691406,
          222.9154510498047,
          334.3664245605469,
          249.1532440185547,
          257.08251953125,
          352.47845458984375,
          296.7130126953125,
          110.77739715576172,
          203.68295288085938,
          193.38572692871094,
          197.09771728515625,
          294.5083923339844,
          275.93597412109375,
          227.79893493652344,
          433.8154296875,
          78.66078186035156,
          73.15497589111328,
          93.26806640625,
          71.2904281616211,
          94.4515609741211
         ]
        },
        {
         "marker": {
          "color": "red",
          "size": 12
         },
         "mode": "markers",
         "name": "Young's Modulus (Testing)",
         "text": [
          "NiMoP",
          "ScTc2Mo",
          "Ta2MoOs",
          "MgMoN2",
          "V2MoOs",
          "Lu2Mo2C3",
          "Ta2ReMo",
          "Ta2FeMo",
          "HfSiMo",
          "Ni2Mo3N",
          "HfMoP",
          "Ti2AlMo",
          "Hf2MoIr",
          "Hf2MoRh",
          "Ti2NiMo",
          "TiTc2Mo",
          "Ta2TcMo",
          "Si3MoPt2",
          "Ni(BMo)2",
          "K2NaMoF6",
          "KTl2MoF6",
          "Rb2NaMoF6",
          "Cs2KMoF6",
          "NaTl2MoF6"
         ],
         "type": "scatter",
         "x": [
          252.7,
          201,
          322.5,
          439.2,
          317.44,
          228.6,
          337.98,
          254.8,
          264.16,
          360.96,
          304.92,
          115.08,
          213.84,
          204.36,
          205.4,
          301.6,
          284.76,
          234.78,
          447.5,
          77.72,
          31.64,
          77.52000000000002,
          57.540000000000006,
          106.4
         ],
         "y": [
          249.4799041748047,
          197.744384765625,
          314.46099853515625,
          427.9205017089844,
          310.0397033691406,
          222.9154510498047,
          334.3664245605469,
          249.1532440185547,
          257.08251953125,
          352.47845458984375,
          296.7130126953125,
          110.77739715576172,
          203.68295288085938,
          193.38572692871094,
          197.09771728515625,
          294.5083923339844,
          275.93597412109375,
          227.79893493652344,
          433.8154296875,
          78.66078186035156,
          73.15497589111328,
          93.26806640625,
          71.2904281616211,
          94.4515609741211
         ]
        },
        {
         "mode": "lines",
         "name": "Match",
         "type": "scatter",
         "x": [
          0,
          600
         ],
         "y": [
          0,
          600
         ]
        }
       ],
       "layout": {
        "height": 600,
        "hovermode": "closest",
        "legend": {
         "font": {
          "size": 24
         }
        },
        "showlegend": true,
        "template": {
         "data": {
          "bar": [
           {
            "error_x": {
             "color": "#2a3f5f"
            },
            "error_y": {
             "color": "#2a3f5f"
            },
            "marker": {
             "line": {
              "color": "#E5ECF6",
              "width": 0.5
             }
            },
            "type": "bar"
           }
          ],
          "barpolar": [
           {
            "marker": {
             "line": {
              "color": "#E5ECF6",
              "width": 0.5
             }
            },
            "type": "barpolar"
           }
          ],
          "carpet": [
           {
            "aaxis": {
             "endlinecolor": "#2a3f5f",
             "gridcolor": "white",
             "linecolor": "white",
             "minorgridcolor": "white",
             "startlinecolor": "#2a3f5f"
            },
            "baxis": {
             "endlinecolor": "#2a3f5f",
             "gridcolor": "white",
             "linecolor": "white",
             "minorgridcolor": "white",
             "startlinecolor": "#2a3f5f"
            },
            "type": "carpet"
           }
          ],
          "choropleth": [
           {
            "colorbar": {
             "outlinewidth": 0,
             "ticks": ""
            },
            "type": "choropleth"
           }
          ],
          "contour": [
           {
            "colorbar": {
             "outlinewidth": 0,
             "ticks": ""
            },
            "colorscale": [
             [
              0,
              "#0d0887"
             ],
             [
              0.1111111111111111,
              "#46039f"
             ],
             [
              0.2222222222222222,
              "#7201a8"
             ],
             [
              0.3333333333333333,
              "#9c179e"
             ],
             [
              0.4444444444444444,
              "#bd3786"
             ],
             [
              0.5555555555555556,
              "#d8576b"
             ],
             [
              0.6666666666666666,
              "#ed7953"
             ],
             [
              0.7777777777777778,
              "#fb9f3a"
             ],
             [
              0.8888888888888888,
              "#fdca26"
             ],
             [
              1,
              "#f0f921"
             ]
            ],
            "type": "contour"
           }
          ],
          "contourcarpet": [
           {
            "colorbar": {
             "outlinewidth": 0,
             "ticks": ""
            },
            "type": "contourcarpet"
           }
          ],
          "heatmap": [
           {
            "colorbar": {
             "outlinewidth": 0,
             "ticks": ""
            },
            "colorscale": [
             [
              0,
              "#0d0887"
             ],
             [
              0.1111111111111111,
              "#46039f"
             ],
             [
              0.2222222222222222,
              "#7201a8"
             ],
             [
              0.3333333333333333,
              "#9c179e"
             ],
             [
              0.4444444444444444,
              "#bd3786"
             ],
             [
              0.5555555555555556,
              "#d8576b"
             ],
             [
              0.6666666666666666,
              "#ed7953"
             ],
             [
              0.7777777777777778,
              "#fb9f3a"
             ],
             [
              0.8888888888888888,
              "#fdca26"
             ],
             [
              1,
              "#f0f921"
             ]
            ],
            "type": "heatmap"
           }
          ],
          "heatmapgl": [
           {
            "colorbar": {
             "outlinewidth": 0,
             "ticks": ""
            },
            "colorscale": [
             [
              0,
              "#0d0887"
             ],
             [
              0.1111111111111111,
              "#46039f"
             ],
             [
              0.2222222222222222,
              "#7201a8"
             ],
             [
              0.3333333333333333,
              "#9c179e"
             ],
             [
              0.4444444444444444,
              "#bd3786"
             ],
             [
              0.5555555555555556,
              "#d8576b"
             ],
             [
              0.6666666666666666,
              "#ed7953"
             ],
             [
              0.7777777777777778,
              "#fb9f3a"
             ],
             [
              0.8888888888888888,
              "#fdca26"
             ],
             [
              1,
              "#f0f921"
             ]
            ],
            "type": "heatmapgl"
           }
          ],
          "histogram": [
           {
            "marker": {
             "colorbar": {
              "outlinewidth": 0,
              "ticks": ""
             }
            },
            "type": "histogram"
           }
          ],
          "histogram2d": [
           {
            "colorbar": {
             "outlinewidth": 0,
             "ticks": ""
            },
            "colorscale": [
             [
              0,
              "#0d0887"
             ],
             [
              0.1111111111111111,
              "#46039f"
             ],
             [
              0.2222222222222222,
              "#7201a8"
             ],
             [
              0.3333333333333333,
              "#9c179e"
             ],
             [
              0.4444444444444444,
              "#bd3786"
             ],
             [
              0.5555555555555556,
              "#d8576b"
             ],
             [
              0.6666666666666666,
              "#ed7953"
             ],
             [
              0.7777777777777778,
              "#fb9f3a"
             ],
             [
              0.8888888888888888,
              "#fdca26"
             ],
             [
              1,
              "#f0f921"
             ]
            ],
            "type": "histogram2d"
           }
          ],
          "histogram2dcontour": [
           {
            "colorbar": {
             "outlinewidth": 0,
             "ticks": ""
            },
            "colorscale": [
             [
              0,
              "#0d0887"
             ],
             [
              0.1111111111111111,
              "#46039f"
             ],
             [
              0.2222222222222222,
              "#7201a8"
             ],
             [
              0.3333333333333333,
              "#9c179e"
             ],
             [
              0.4444444444444444,
              "#bd3786"
             ],
             [
              0.5555555555555556,
              "#d8576b"
             ],
             [
              0.6666666666666666,
              "#ed7953"
             ],
             [
              0.7777777777777778,
              "#fb9f3a"
             ],
             [
              0.8888888888888888,
              "#fdca26"
             ],
             [
              1,
              "#f0f921"
             ]
            ],
            "type": "histogram2dcontour"
           }
          ],
          "mesh3d": [
           {
            "colorbar": {
             "outlinewidth": 0,
             "ticks": ""
            },
            "type": "mesh3d"
           }
          ],
          "parcoords": [
           {
            "line": {
             "colorbar": {
              "outlinewidth": 0,
              "ticks": ""
             }
            },
            "type": "parcoords"
           }
          ],
          "pie": [
           {
            "automargin": true,
            "type": "pie"
           }
          ],
          "scatter": [
           {
            "marker": {
             "colorbar": {
              "outlinewidth": 0,
              "ticks": ""
             }
            },
            "type": "scatter"
           }
          ],
          "scatter3d": [
           {
            "line": {
             "colorbar": {
              "outlinewidth": 0,
              "ticks": ""
             }
            },
            "marker": {
             "colorbar": {
              "outlinewidth": 0,
              "ticks": ""
             }
            },
            "type": "scatter3d"
           }
          ],
          "scattercarpet": [
           {
            "marker": {
             "colorbar": {
              "outlinewidth": 0,
              "ticks": ""
             }
            },
            "type": "scattercarpet"
           }
          ],
          "scattergeo": [
           {
            "marker": {
             "colorbar": {
              "outlinewidth": 0,
              "ticks": ""
             }
            },
            "type": "scattergeo"
           }
          ],
          "scattergl": [
           {
            "marker": {
             "colorbar": {
              "outlinewidth": 0,
              "ticks": ""
             }
            },
            "type": "scattergl"
           }
          ],
          "scattermapbox": [
           {
            "marker": {
             "colorbar": {
              "outlinewidth": 0,
              "ticks": ""
             }
            },
            "type": "scattermapbox"
           }
          ],
          "scatterpolar": [
           {
            "marker": {
             "colorbar": {
              "outlinewidth": 0,
              "ticks": ""
             }
            },
            "type": "scatterpolar"
           }
          ],
          "scatterpolargl": [
           {
            "marker": {
             "colorbar": {
              "outlinewidth": 0,
              "ticks": ""
             }
            },
            "type": "scatterpolargl"
           }
          ],
          "scatterternary": [
           {
            "marker": {
             "colorbar": {
              "outlinewidth": 0,
              "ticks": ""
             }
            },
            "type": "scatterternary"
           }
          ],
          "surface": [
           {
            "colorbar": {
             "outlinewidth": 0,
             "ticks": ""
            },
            "colorscale": [
             [
              0,
              "#0d0887"
             ],
             [
              0.1111111111111111,
              "#46039f"
             ],
             [
              0.2222222222222222,
              "#7201a8"
             ],
             [
              0.3333333333333333,
              "#9c179e"
             ],
             [
              0.4444444444444444,
              "#bd3786"
             ],
             [
              0.5555555555555556,
              "#d8576b"
             ],
             [
              0.6666666666666666,
              "#ed7953"
             ],
             [
              0.7777777777777778,
              "#fb9f3a"
             ],
             [
              0.8888888888888888,
              "#fdca26"
             ],
             [
              1,
              "#f0f921"
             ]
            ],
            "type": "surface"
           }
          ],
          "table": [
           {
            "cells": {
             "fill": {
              "color": "#EBF0F8"
             },
             "line": {
              "color": "white"
             }
            },
            "header": {
             "fill": {
              "color": "#C8D4E3"
             },
             "line": {
              "color": "white"
             }
            },
            "type": "table"
           }
          ]
         },
         "layout": {
          "annotationdefaults": {
           "arrowcolor": "#2a3f5f",
           "arrowhead": 0,
           "arrowwidth": 1
          },
          "coloraxis": {
           "colorbar": {
            "outlinewidth": 0,
            "ticks": ""
           }
          },
          "colorscale": {
           "diverging": [
            [
             0,
             "#8e0152"
            ],
            [
             0.1,
             "#c51b7d"
            ],
            [
             0.2,
             "#de77ae"
            ],
            [
             0.3,
             "#f1b6da"
            ],
            [
             0.4,
             "#fde0ef"
            ],
            [
             0.5,
             "#f7f7f7"
            ],
            [
             0.6,
             "#e6f5d0"
            ],
            [
             0.7,
             "#b8e186"
            ],
            [
             0.8,
             "#7fbc41"
            ],
            [
             0.9,
             "#4d9221"
            ],
            [
             1,
             "#276419"
            ]
           ],
           "sequential": [
            [
             0,
             "#0d0887"
            ],
            [
             0.1111111111111111,
             "#46039f"
            ],
            [
             0.2222222222222222,
             "#7201a8"
            ],
            [
             0.3333333333333333,
             "#9c179e"
            ],
            [
             0.4444444444444444,
             "#bd3786"
            ],
            [
             0.5555555555555556,
             "#d8576b"
            ],
            [
             0.6666666666666666,
             "#ed7953"
            ],
            [
             0.7777777777777778,
             "#fb9f3a"
            ],
            [
             0.8888888888888888,
             "#fdca26"
            ],
            [
             1,
             "#f0f921"
            ]
           ],
           "sequentialminus": [
            [
             0,
             "#0d0887"
            ],
            [
             0.1111111111111111,
             "#46039f"
            ],
            [
             0.2222222222222222,
             "#7201a8"
            ],
            [
             0.3333333333333333,
             "#9c179e"
            ],
            [
             0.4444444444444444,
             "#bd3786"
            ],
            [
             0.5555555555555556,
             "#d8576b"
            ],
            [
             0.6666666666666666,
             "#ed7953"
            ],
            [
             0.7777777777777778,
             "#fb9f3a"
            ],
            [
             0.8888888888888888,
             "#fdca26"
            ],
            [
             1,
             "#f0f921"
            ]
           ]
          },
          "colorway": [
           "#636efa",
           "#EF553B",
           "#00cc96",
           "#ab63fa",
           "#FFA15A",
           "#19d3f3",
           "#FF6692",
           "#B6E880",
           "#FF97FF",
           "#FECB52"
          ],
          "font": {
           "color": "#2a3f5f"
          },
          "geo": {
           "bgcolor": "white",
           "lakecolor": "white",
           "landcolor": "#E5ECF6",
           "showlakes": true,
           "showland": true,
           "subunitcolor": "white"
          },
          "hoverlabel": {
           "align": "left"
          },
          "hovermode": "closest",
          "mapbox": {
           "style": "light"
          },
          "paper_bgcolor": "white",
          "plot_bgcolor": "#E5ECF6",
          "polar": {
           "angularaxis": {
            "gridcolor": "white",
            "linecolor": "white",
            "ticks": ""
           },
           "bgcolor": "#E5ECF6",
           "radialaxis": {
            "gridcolor": "white",
            "linecolor": "white",
            "ticks": ""
           }
          },
          "scene": {
           "xaxis": {
            "backgroundcolor": "#E5ECF6",
            "gridcolor": "white",
            "gridwidth": 2,
            "linecolor": "white",
            "showbackground": true,
            "ticks": "",
            "zerolinecolor": "white"
           },
           "yaxis": {
            "backgroundcolor": "#E5ECF6",
            "gridcolor": "white",
            "gridwidth": 2,
            "linecolor": "white",
            "showbackground": true,
            "ticks": "",
            "zerolinecolor": "white"
           },
           "zaxis": {
            "backgroundcolor": "#E5ECF6",
            "gridcolor": "white",
            "gridwidth": 2,
            "linecolor": "white",
            "showbackground": true,
            "ticks": "",
            "zerolinecolor": "white"
           }
          },
          "shapedefaults": {
           "line": {
            "color": "#2a3f5f"
           }
          },
          "ternary": {
           "aaxis": {
            "gridcolor": "white",
            "linecolor": "white",
            "ticks": ""
           },
           "baxis": {
            "gridcolor": "white",
            "linecolor": "white",
            "ticks": ""
           },
           "bgcolor": "#E5ECF6",
           "caxis": {
            "gridcolor": "white",
            "linecolor": "white",
            "ticks": ""
           }
          },
          "title": {
           "x": 0.05
          },
          "xaxis": {
           "automargin": true,
           "gridcolor": "white",
           "linecolor": "white",
           "ticks": "",
           "title": {
            "standoff": 15
           },
           "zerolinecolor": "white",
           "zerolinewidth": 2
          },
          "yaxis": {
           "automargin": true,
           "gridcolor": "white",
           "linecolor": "white",
           "ticks": "",
           "title": {
            "standoff": 15
           },
           "zerolinecolor": "white",
           "zerolinewidth": 2
          }
         }
        },
        "title": {
         "font": {
          "size": 28
         },
         "text": "Neural Network Model - Mo compounds Young's Modulus"
        },
        "width": 1000,
        "xaxis": {
         "gridwidth": 1,
         "tickfont": {
          "size": 18
         },
         "title": {
          "font": {
           "size": 24
          },
          "text": "Real Values (GPa)"
         },
         "zeroline": false
        },
        "yaxis": {
         "gridwidth": 1,
         "tickfont": {
          "size": 18
         },
         "title": {
          "font": {
           "size": 24
          },
          "text": "Prediction (GPa)"
         },
         "zeroline": false
        }
       }
      },
      "text/html": [
       "<div>\n",
       "        \n",
       "        \n",
       "            <div id=\"0051b93a-3d7a-4e70-9f12-c983acc5490a\" class=\"plotly-graph-div\" style=\"height:600px; width:1000px;\"></div>\n",
       "            <script type=\"text/javascript\">\n",
       "                require([\"plotly\"], function(Plotly) {\n",
       "                    window.PLOTLYENV=window.PLOTLYENV || {};\n",
       "                    \n",
       "                if (document.getElementById(\"0051b93a-3d7a-4e70-9f12-c983acc5490a\")) {\n",
       "                    Plotly.newPlot(\n",
       "                        '0051b93a-3d7a-4e70-9f12-c983acc5490a',\n",
       "                        [{\"marker\": {\"color\": \"blue\", \"size\": 12}, \"mode\": \"markers\", \"name\": \"Young's Modulus (Training)\", \"text\": [\"MoSe2\", \"MoS2\", \"Co3Mo\", \"MoIr\", \"MoIr3\", \"Ni3Mo\", \"Ni4Mo\", \"MoP4\", \"MoRh\", \"SiMo3\", \"Si3Mo5\", \"MoS2\", \"Be12Mo\", \"Sb7Mo3\", \"Mo2C\", \"MoSe2\", \"Be2Mo\", \"Mo5As4\", \"MoO3\", \"BMo\", \"BaMoO4\", \"ZrMo2\", \"MoP\", \"B2Mo\", \"HfMo2\", \"AlMo3\", \"Si2Mo\", \"Al8Mo3\", \"MoN\", \"MoS2\", \"MoRh3\", \"MoO2\", \"MoF6\", \"MoSe2\", \"Te4Mo3\", \"Ti2MoPt\", \"MoPt2\", \"Zn6Mo\", \"V3Mo\", \"MoRu3\", \"MoPt\", \"CoMoP2\", \"Ce2Mo2C3\", \"Y2Si4Mo3\", \"Zr(MoO4)2\", \"AlBMo\", \"Ta2MoRu\", \"Ti2MoIr\", \"Li6MoN4\", \"CaMoN3\", \"NiMoP2\", \"Ca3MoN3\", \"ZrMoP\", \"Lu6Sb2Mo\", \"Na2MoO4\", \"NiMoO4\", \"CaMoO4\", \"CoBMo\", \"CoMoP\", \"K3MoF6\", \"NiMoP\", \"ScTc2Mo\", \"Ta2MoOs\", \"MgMoN2\", \"V2MoOs\", \"Lu2Mo2C3\", \"Ta2ReMo\", \"Ta2FeMo\", \"HfSiMo\", \"Ni2Mo3N\", \"HfMoP\", \"Ti2AlMo\", \"Hf2MoIr\", \"Hf2MoRh\", \"Ti2NiMo\", \"TiTc2Mo\", \"Ta2TcMo\", \"Si3MoPt2\", \"Ni(BMo)2\", \"K2NaMoF6\", \"KTl2MoF6\", \"Rb2NaMoF6\", \"Cs2KMoF6\", \"NaTl2MoF6\"], \"type\": \"scatter\", \"x\": [35.84, 29.52, 340.48, 438.48, 477.52, 236.74, 240.24, 235.2, 343.04, 325.12, 309.6, 44.28, 333.00000000000006, 141.9, 384.0, 33.04, 360.0, 204.12, 79.2, 496.0, 60.72000000000001, 160.48, 335.0, 540.0, 183.6, 307.3400000000001, 414.18, 249.6, 490.0, 43.92, 330.2, 234.96, 7.56, 36.3, 36.68, 231.4, 350.72, 121.0, 112.0, 391.16, 348.3, 279.72, 202.5, 243.04, 34.72, 339.48, 281.94, 234.96, 158.12, 117.9, 264.16, 60.72000000000001, 287.2800000000001, 93.24, 68.58, 151.62, 86.46000000000002, 448.56, 317.2, 34.32, 252.7, 201.0, 322.5, 439.2, 317.44, 228.6, 337.98, 254.8, 264.16, 360.96, 304.92, 115.08, 213.84, 204.36, 205.4, 301.6, 284.76, 234.78, 447.5, 77.72, 31.64, 77.52000000000002, 57.540000000000006, 106.4], \"y\": [35.59345245361328, 35.144710540771484, 331.829345703125, 429.28363037109375, 464.8071594238281, 231.57113647460938, 233.42816162109375, 230.59654235839844, 338.9739990234375, 322.15948486328125, 302.7740173339844, 39.10707092285156, 330.92822265625, 137.6097869873047, 379.42840576171875, 35.050384521484375, 352.3934326171875, 203.31851196289062, 86.08863067626953, 477.74505615234375, 61.58589172363281, 157.7488250732422, 327.20062255859375, 522.3521728515625, 178.83209228515625, 301.92535400390625, 408.896484375, 244.8715057373047, 473.95367431640625, 45.75728225708008, 322.16680908203125, 233.62896728515625, 34.592098236083984, 37.12648391723633, 37.58213806152344, 223.26600646972656, 346.2104797363281, 120.85588836669922, 108.84324645996094, 385.10504150390625, 340.5666198730469, 277.75244140625, 197.50424194335938, 236.99583435058594, 36.86062240600586, 335.71868896484375, 273.9496765136719, 225.14060974121094, 158.8102264404297, 116.86255645751953, 258.6582336425781, 61.49762725830078, 281.455078125, 93.45574188232422, 59.48490905761719, 153.7498779296875, 81.83667755126953, 432.3783264160156, 309.600830078125, 42.82218933105469, 249.4799041748047, 197.744384765625, 314.46099853515625, 427.9205017089844, 310.0397033691406, 222.9154510498047, 334.3664245605469, 249.1532440185547, 257.08251953125, 352.47845458984375, 296.7130126953125, 110.77739715576172, 203.68295288085938, 193.38572692871094, 197.09771728515625, 294.5083923339844, 275.93597412109375, 227.79893493652344, 433.8154296875, 78.66078186035156, 73.15497589111328, 93.26806640625, 71.2904281616211, 94.4515609741211]}, {\"marker\": {\"color\": \"red\", \"size\": 12}, \"mode\": \"markers\", \"name\": \"Young's Modulus (Testing)\", \"text\": [\"NiMoP\", \"ScTc2Mo\", \"Ta2MoOs\", \"MgMoN2\", \"V2MoOs\", \"Lu2Mo2C3\", \"Ta2ReMo\", \"Ta2FeMo\", \"HfSiMo\", \"Ni2Mo3N\", \"HfMoP\", \"Ti2AlMo\", \"Hf2MoIr\", \"Hf2MoRh\", \"Ti2NiMo\", \"TiTc2Mo\", \"Ta2TcMo\", \"Si3MoPt2\", \"Ni(BMo)2\", \"K2NaMoF6\", \"KTl2MoF6\", \"Rb2NaMoF6\", \"Cs2KMoF6\", \"NaTl2MoF6\"], \"type\": \"scatter\", \"x\": [252.7, 201.0, 322.5, 439.2, 317.44, 228.6, 337.98, 254.8, 264.16, 360.96, 304.92, 115.08, 213.84, 204.36, 205.4, 301.6, 284.76, 234.78, 447.5, 77.72, 31.64, 77.52000000000002, 57.540000000000006, 106.4], \"y\": [249.4799041748047, 197.744384765625, 314.46099853515625, 427.9205017089844, 310.0397033691406, 222.9154510498047, 334.3664245605469, 249.1532440185547, 257.08251953125, 352.47845458984375, 296.7130126953125, 110.77739715576172, 203.68295288085938, 193.38572692871094, 197.09771728515625, 294.5083923339844, 275.93597412109375, 227.79893493652344, 433.8154296875, 78.66078186035156, 73.15497589111328, 93.26806640625, 71.2904281616211, 94.4515609741211]}, {\"mode\": \"lines\", \"name\": \"Match\", \"type\": \"scatter\", \"x\": [0, 600], \"y\": [0, 600]}],\n",
       "                        {\"height\": 600, \"hovermode\": \"closest\", \"legend\": {\"font\": {\"size\": 24}}, \"showlegend\": true, \"template\": {\"data\": {\"bar\": [{\"error_x\": {\"color\": \"#2a3f5f\"}, \"error_y\": {\"color\": \"#2a3f5f\"}, \"marker\": {\"line\": {\"color\": \"#E5ECF6\", \"width\": 0.5}}, \"type\": \"bar\"}], \"barpolar\": [{\"marker\": {\"line\": {\"color\": \"#E5ECF6\", \"width\": 0.5}}, \"type\": \"barpolar\"}], \"carpet\": [{\"aaxis\": {\"endlinecolor\": \"#2a3f5f\", \"gridcolor\": \"white\", \"linecolor\": \"white\", \"minorgridcolor\": \"white\", \"startlinecolor\": \"#2a3f5f\"}, \"baxis\": {\"endlinecolor\": \"#2a3f5f\", \"gridcolor\": \"white\", \"linecolor\": \"white\", \"minorgridcolor\": \"white\", \"startlinecolor\": \"#2a3f5f\"}, \"type\": \"carpet\"}], \"choropleth\": [{\"colorbar\": {\"outlinewidth\": 0, \"ticks\": \"\"}, \"type\": \"choropleth\"}], \"contour\": [{\"colorbar\": {\"outlinewidth\": 0, \"ticks\": \"\"}, \"colorscale\": [[0.0, \"#0d0887\"], [0.1111111111111111, \"#46039f\"], [0.2222222222222222, \"#7201a8\"], [0.3333333333333333, \"#9c179e\"], [0.4444444444444444, \"#bd3786\"], [0.5555555555555556, \"#d8576b\"], [0.6666666666666666, \"#ed7953\"], [0.7777777777777778, \"#fb9f3a\"], [0.8888888888888888, \"#fdca26\"], [1.0, \"#f0f921\"]], \"type\": \"contour\"}], \"contourcarpet\": [{\"colorbar\": {\"outlinewidth\": 0, \"ticks\": \"\"}, \"type\": \"contourcarpet\"}], \"heatmap\": [{\"colorbar\": {\"outlinewidth\": 0, \"ticks\": \"\"}, \"colorscale\": [[0.0, \"#0d0887\"], [0.1111111111111111, \"#46039f\"], [0.2222222222222222, \"#7201a8\"], [0.3333333333333333, \"#9c179e\"], [0.4444444444444444, \"#bd3786\"], [0.5555555555555556, \"#d8576b\"], [0.6666666666666666, \"#ed7953\"], [0.7777777777777778, \"#fb9f3a\"], [0.8888888888888888, \"#fdca26\"], [1.0, \"#f0f921\"]], \"type\": \"heatmap\"}], \"heatmapgl\": [{\"colorbar\": {\"outlinewidth\": 0, \"ticks\": \"\"}, \"colorscale\": [[0.0, \"#0d0887\"], [0.1111111111111111, \"#46039f\"], [0.2222222222222222, \"#7201a8\"], [0.3333333333333333, \"#9c179e\"], [0.4444444444444444, \"#bd3786\"], [0.5555555555555556, \"#d8576b\"], [0.6666666666666666, \"#ed7953\"], [0.7777777777777778, \"#fb9f3a\"], [0.8888888888888888, \"#fdca26\"], [1.0, \"#f0f921\"]], \"type\": \"heatmapgl\"}], \"histogram\": [{\"marker\": {\"colorbar\": {\"outlinewidth\": 0, \"ticks\": \"\"}}, \"type\": \"histogram\"}], \"histogram2d\": [{\"colorbar\": {\"outlinewidth\": 0, \"ticks\": \"\"}, \"colorscale\": [[0.0, \"#0d0887\"], [0.1111111111111111, \"#46039f\"], [0.2222222222222222, \"#7201a8\"], [0.3333333333333333, \"#9c179e\"], [0.4444444444444444, \"#bd3786\"], [0.5555555555555556, \"#d8576b\"], [0.6666666666666666, \"#ed7953\"], [0.7777777777777778, \"#fb9f3a\"], [0.8888888888888888, \"#fdca26\"], [1.0, \"#f0f921\"]], \"type\": \"histogram2d\"}], \"histogram2dcontour\": [{\"colorbar\": {\"outlinewidth\": 0, \"ticks\": \"\"}, \"colorscale\": [[0.0, \"#0d0887\"], [0.1111111111111111, \"#46039f\"], [0.2222222222222222, \"#7201a8\"], [0.3333333333333333, \"#9c179e\"], [0.4444444444444444, \"#bd3786\"], [0.5555555555555556, \"#d8576b\"], [0.6666666666666666, \"#ed7953\"], [0.7777777777777778, \"#fb9f3a\"], [0.8888888888888888, \"#fdca26\"], [1.0, \"#f0f921\"]], \"type\": \"histogram2dcontour\"}], \"mesh3d\": [{\"colorbar\": {\"outlinewidth\": 0, \"ticks\": \"\"}, \"type\": \"mesh3d\"}], \"parcoords\": [{\"line\": {\"colorbar\": {\"outlinewidth\": 0, \"ticks\": \"\"}}, \"type\": \"parcoords\"}], \"pie\": [{\"automargin\": true, \"type\": \"pie\"}], \"scatter\": [{\"marker\": {\"colorbar\": {\"outlinewidth\": 0, \"ticks\": \"\"}}, \"type\": \"scatter\"}], \"scatter3d\": [{\"line\": {\"colorbar\": {\"outlinewidth\": 0, \"ticks\": \"\"}}, \"marker\": {\"colorbar\": {\"outlinewidth\": 0, \"ticks\": \"\"}}, \"type\": \"scatter3d\"}], \"scattercarpet\": [{\"marker\": {\"colorbar\": {\"outlinewidth\": 0, \"ticks\": \"\"}}, \"type\": \"scattercarpet\"}], \"scattergeo\": [{\"marker\": {\"colorbar\": {\"outlinewidth\": 0, \"ticks\": \"\"}}, \"type\": \"scattergeo\"}], \"scattergl\": [{\"marker\": {\"colorbar\": {\"outlinewidth\": 0, \"ticks\": \"\"}}, \"type\": \"scattergl\"}], \"scattermapbox\": [{\"marker\": {\"colorbar\": {\"outlinewidth\": 0, \"ticks\": \"\"}}, \"type\": \"scattermapbox\"}], \"scatterpolar\": [{\"marker\": {\"colorbar\": {\"outlinewidth\": 0, \"ticks\": \"\"}}, \"type\": \"scatterpolar\"}], \"scatterpolargl\": [{\"marker\": {\"colorbar\": {\"outlinewidth\": 0, \"ticks\": \"\"}}, \"type\": \"scatterpolargl\"}], \"scatterternary\": [{\"marker\": {\"colorbar\": {\"outlinewidth\": 0, \"ticks\": \"\"}}, \"type\": \"scatterternary\"}], \"surface\": [{\"colorbar\": {\"outlinewidth\": 0, \"ticks\": \"\"}, \"colorscale\": [[0.0, \"#0d0887\"], [0.1111111111111111, \"#46039f\"], [0.2222222222222222, \"#7201a8\"], [0.3333333333333333, \"#9c179e\"], [0.4444444444444444, \"#bd3786\"], [0.5555555555555556, \"#d8576b\"], [0.6666666666666666, \"#ed7953\"], [0.7777777777777778, \"#fb9f3a\"], [0.8888888888888888, \"#fdca26\"], [1.0, \"#f0f921\"]], \"type\": \"surface\"}], \"table\": [{\"cells\": {\"fill\": {\"color\": \"#EBF0F8\"}, \"line\": {\"color\": \"white\"}}, \"header\": {\"fill\": {\"color\": \"#C8D4E3\"}, \"line\": {\"color\": \"white\"}}, \"type\": \"table\"}]}, \"layout\": {\"annotationdefaults\": {\"arrowcolor\": \"#2a3f5f\", \"arrowhead\": 0, \"arrowwidth\": 1}, \"coloraxis\": {\"colorbar\": {\"outlinewidth\": 0, \"ticks\": \"\"}}, \"colorscale\": {\"diverging\": [[0, \"#8e0152\"], [0.1, \"#c51b7d\"], [0.2, \"#de77ae\"], [0.3, \"#f1b6da\"], [0.4, \"#fde0ef\"], [0.5, \"#f7f7f7\"], [0.6, \"#e6f5d0\"], [0.7, \"#b8e186\"], [0.8, \"#7fbc41\"], [0.9, \"#4d9221\"], [1, \"#276419\"]], \"sequential\": [[0.0, \"#0d0887\"], [0.1111111111111111, \"#46039f\"], [0.2222222222222222, \"#7201a8\"], [0.3333333333333333, \"#9c179e\"], [0.4444444444444444, \"#bd3786\"], [0.5555555555555556, \"#d8576b\"], [0.6666666666666666, \"#ed7953\"], [0.7777777777777778, \"#fb9f3a\"], [0.8888888888888888, \"#fdca26\"], [1.0, \"#f0f921\"]], \"sequentialminus\": [[0.0, \"#0d0887\"], [0.1111111111111111, \"#46039f\"], [0.2222222222222222, \"#7201a8\"], [0.3333333333333333, \"#9c179e\"], [0.4444444444444444, \"#bd3786\"], [0.5555555555555556, \"#d8576b\"], [0.6666666666666666, \"#ed7953\"], [0.7777777777777778, \"#fb9f3a\"], [0.8888888888888888, \"#fdca26\"], [1.0, \"#f0f921\"]]}, \"colorway\": [\"#636efa\", \"#EF553B\", \"#00cc96\", \"#ab63fa\", \"#FFA15A\", \"#19d3f3\", \"#FF6692\", \"#B6E880\", \"#FF97FF\", \"#FECB52\"], \"font\": {\"color\": \"#2a3f5f\"}, \"geo\": {\"bgcolor\": \"white\", \"lakecolor\": \"white\", \"landcolor\": \"#E5ECF6\", \"showlakes\": true, \"showland\": true, \"subunitcolor\": \"white\"}, \"hoverlabel\": {\"align\": \"left\"}, \"hovermode\": \"closest\", \"mapbox\": {\"style\": \"light\"}, \"paper_bgcolor\": \"white\", \"plot_bgcolor\": \"#E5ECF6\", \"polar\": {\"angularaxis\": {\"gridcolor\": \"white\", \"linecolor\": \"white\", \"ticks\": \"\"}, \"bgcolor\": \"#E5ECF6\", \"radialaxis\": {\"gridcolor\": \"white\", \"linecolor\": \"white\", \"ticks\": \"\"}}, \"scene\": {\"xaxis\": {\"backgroundcolor\": \"#E5ECF6\", \"gridcolor\": \"white\", \"gridwidth\": 2, \"linecolor\": \"white\", \"showbackground\": true, \"ticks\": \"\", \"zerolinecolor\": \"white\"}, \"yaxis\": {\"backgroundcolor\": \"#E5ECF6\", \"gridcolor\": \"white\", \"gridwidth\": 2, \"linecolor\": \"white\", \"showbackground\": true, \"ticks\": \"\", \"zerolinecolor\": \"white\"}, \"zaxis\": {\"backgroundcolor\": \"#E5ECF6\", \"gridcolor\": \"white\", \"gridwidth\": 2, \"linecolor\": \"white\", \"showbackground\": true, \"ticks\": \"\", \"zerolinecolor\": \"white\"}}, \"shapedefaults\": {\"line\": {\"color\": \"#2a3f5f\"}}, \"ternary\": {\"aaxis\": {\"gridcolor\": \"white\", \"linecolor\": \"white\", \"ticks\": \"\"}, \"baxis\": {\"gridcolor\": \"white\", \"linecolor\": \"white\", \"ticks\": \"\"}, \"bgcolor\": \"#E5ECF6\", \"caxis\": {\"gridcolor\": \"white\", \"linecolor\": \"white\", \"ticks\": \"\"}}, \"title\": {\"x\": 0.05}, \"xaxis\": {\"automargin\": true, \"gridcolor\": \"white\", \"linecolor\": \"white\", \"ticks\": \"\", \"title\": {\"standoff\": 15}, \"zerolinecolor\": \"white\", \"zerolinewidth\": 2}, \"yaxis\": {\"automargin\": true, \"gridcolor\": \"white\", \"linecolor\": \"white\", \"ticks\": \"\", \"title\": {\"standoff\": 15}, \"zerolinecolor\": \"white\", \"zerolinewidth\": 2}}}, \"title\": {\"font\": {\"size\": 28}, \"text\": \"Neural Network Model - Mo compounds Young's Modulus\"}, \"width\": 1000, \"xaxis\": {\"gridwidth\": 1, \"tickfont\": {\"size\": 18}, \"title\": {\"font\": {\"size\": 24}, \"text\": \"Real Values (GPa)\"}, \"zeroline\": false}, \"yaxis\": {\"gridwidth\": 1, \"tickfont\": {\"size\": 18}, \"title\": {\"font\": {\"size\": 24}, \"text\": \"Prediction (GPa)\"}, \"zeroline\": false}},\n",
       "                        {\"responsive\": true}\n",
       "                    ).then(function(){\n",
       "                            \n",
       "var gd = document.getElementById('0051b93a-3d7a-4e70-9f12-c983acc5490a');\n",
       "var x = new MutationObserver(function (mutations, observer) {{\n",
       "        var display = window.getComputedStyle(gd).display;\n",
       "        if (!display || display === 'none') {{\n",
       "            console.log([gd, 'removed!']);\n",
       "            Plotly.purge(gd);\n",
       "            observer.disconnect();\n",
       "        }}\n",
       "}});\n",
       "\n",
       "// Listen for the removal of the full notebook cells\n",
       "var notebookContainer = gd.closest('#notebook-container');\n",
       "if (notebookContainer) {{\n",
       "    x.observe(notebookContainer, {childList: true});\n",
       "}}\n",
       "\n",
       "// Listen for the clearing of the current output cell\n",
       "var outputEl = gd.closest('.output');\n",
       "if (outputEl) {{\n",
       "    x.observe(outputEl, {childList: true});\n",
       "}}\n",
       "\n",
       "                        })\n",
       "                };\n",
       "                });\n",
       "            </script>\n",
       "        </div>"
      ]
     },
     "metadata": {},
     "output_type": "display_data"
    }
   ],
   "source": [
    "import plotly\n",
    "import plotly.graph_objs as go\n",
    "from plotly.offline import iplot\n",
    "\n",
    "plotly.offline.init_notebook_mode(connected=True)\n",
    "\n",
    "layout0= go.Layout(title=go.layout.Title(text=\"Neural Network Model - Mo compounds Young's Modulus\", font=dict(size=28)), hovermode= 'closest', width = 1000, height=600, showlegend=True,  # Hovermode establishes the way the labels that appear when you hover are arranged # Establishing a square plot width=height\n",
    "    xaxis= dict(title=go.layout.xaxis.Title(text='Real Values (GPa)', font=dict(size=24)), zeroline= False, gridwidth= 1, tickfont=dict(size=18)), # Axis Titles. Removing the X-axis Mark. Adding a Grid\n",
    "    yaxis= dict(title=go.layout.yaxis.Title(text='Prediction (GPa)', font=dict(size=24)), zeroline= False, gridwidth= 1, tickfont=dict(size=18)), # Axis Titles. Removing the Y-axis Mark. Adding a Grid\n",
    "    legend=dict(font=dict(size=24))) # Adding a legend\n",
    "\n",
    "trace0 = go.Scatter(x = all_labels, y = predictions, mode = 'markers', marker= dict(size= 12, color= 'blue'), text= elements, name = 'Young\\'s Modulus (Training)')\n",
    "trace1 = go.Scatter(x = test_labels, y = test_predictions, mode = 'markers', marker= dict(size= 12, color= 'red'), text = labeled_elements, name = 'Young\\'s Modulus (Testing)')\n",
    "trace2 = go.Scatter(x = [0,600], y = [0,600], mode = 'lines', name = \"Match\") # This trace is the line X = Y which would indicate that the Prediction equals the real value\n",
    "\n",
    "data = [trace0, trace1, trace2]\n",
    "fig= go.Figure(data, layout=layout0)\n",
    "iplot(fig)"
   ]
  },
  {
   "cell_type": "code",
   "execution_count": 14,
   "metadata": {},
   "outputs": [
    {
     "name": "stdout",
     "output_type": "stream",
     "text": [
      "84/84 - 0s - loss: 9.4913e-06 - mean_absolute_error: 9.4913e-06\n",
      "Loss: 9.491330187995031e-06, Accuracy: 9.491330274613574e-06\n"
     ]
    }
   ],
   "source": [
    "model_loss, model_accuracy = model.evaluate(values, predictions,verbose=2)\n",
    "print(f\"Loss: {model_loss}, Accuracy: {model_accuracy}\")"
   ]
  },
  {
   "cell_type": "code",
   "execution_count": null,
   "metadata": {},
   "outputs": [],
   "source": []
  }
 ],
 "metadata": {
  "kernelspec": {
   "display_name": "PythonData",
   "language": "python",
   "name": "pythondata"
  },
  "language_info": {
   "codemirror_mode": {
    "name": "ipython",
    "version": 3
   },
   "file_extension": ".py",
   "mimetype": "text/x-python",
   "name": "python",
   "nbconvert_exporter": "python",
   "pygments_lexer": "ipython3",
   "version": "3.7.7"
  }
 },
 "nbformat": 4,
 "nbformat_minor": 2
}
