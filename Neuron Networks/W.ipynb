{
 "cells": [
  {
   "cell_type": "markdown",
   "metadata": {},
   "source": [
    "### 1. Getting a dataset\n",
    "\n",
    "We have 12 datasets to explore in this notebook to predict the Young's Modulus with a three-layer neuron networks model with 2000 epochs. "
   ]
  },
  {
   "cell_type": "code",
   "execution_count": 1,
   "metadata": {},
   "outputs": [
    {
     "name": "stderr",
     "output_type": "stream",
     "text": [
      "C:\\Users\\Kayla Yano\\anaconda3\\envs\\PythonData\\lib\\site-packages\\tensorflow\\python\\framework\\dtypes.py:516: FutureWarning: Passing (type, 1) or '1type' as a synonym of type is deprecated; in a future version of numpy, it will be understood as (type, (1,)) / '(1,)type'.\n",
      "  _np_qint8 = np.dtype([(\"qint8\", np.int8, 1)])\n",
      "C:\\Users\\Kayla Yano\\anaconda3\\envs\\PythonData\\lib\\site-packages\\tensorflow\\python\\framework\\dtypes.py:517: FutureWarning: Passing (type, 1) or '1type' as a synonym of type is deprecated; in a future version of numpy, it will be understood as (type, (1,)) / '(1,)type'.\n",
      "  _np_quint8 = np.dtype([(\"quint8\", np.uint8, 1)])\n",
      "C:\\Users\\Kayla Yano\\anaconda3\\envs\\PythonData\\lib\\site-packages\\tensorflow\\python\\framework\\dtypes.py:518: FutureWarning: Passing (type, 1) or '1type' as a synonym of type is deprecated; in a future version of numpy, it will be understood as (type, (1,)) / '(1,)type'.\n",
      "  _np_qint16 = np.dtype([(\"qint16\", np.int16, 1)])\n",
      "C:\\Users\\Kayla Yano\\anaconda3\\envs\\PythonData\\lib\\site-packages\\tensorflow\\python\\framework\\dtypes.py:519: FutureWarning: Passing (type, 1) or '1type' as a synonym of type is deprecated; in a future version of numpy, it will be understood as (type, (1,)) / '(1,)type'.\n",
      "  _np_quint16 = np.dtype([(\"quint16\", np.uint16, 1)])\n",
      "C:\\Users\\Kayla Yano\\anaconda3\\envs\\PythonData\\lib\\site-packages\\tensorflow\\python\\framework\\dtypes.py:520: FutureWarning: Passing (type, 1) or '1type' as a synonym of type is deprecated; in a future version of numpy, it will be understood as (type, (1,)) / '(1,)type'.\n",
      "  _np_qint32 = np.dtype([(\"qint32\", np.int32, 1)])\n",
      "C:\\Users\\Kayla Yano\\anaconda3\\envs\\PythonData\\lib\\site-packages\\tensorflow\\python\\framework\\dtypes.py:525: FutureWarning: Passing (type, 1) or '1type' as a synonym of type is deprecated; in a future version of numpy, it will be understood as (type, (1,)) / '(1,)type'.\n",
      "  np_resource = np.dtype([(\"resource\", np.ubyte, 1)])\n",
      "C:\\Users\\Kayla Yano\\anaconda3\\envs\\PythonData\\lib\\site-packages\\tensorboard\\compat\\tensorflow_stub\\dtypes.py:541: FutureWarning: Passing (type, 1) or '1type' as a synonym of type is deprecated; in a future version of numpy, it will be understood as (type, (1,)) / '(1,)type'.\n",
      "  _np_qint8 = np.dtype([(\"qint8\", np.int8, 1)])\n",
      "C:\\Users\\Kayla Yano\\anaconda3\\envs\\PythonData\\lib\\site-packages\\tensorboard\\compat\\tensorflow_stub\\dtypes.py:542: FutureWarning: Passing (type, 1) or '1type' as a synonym of type is deprecated; in a future version of numpy, it will be understood as (type, (1,)) / '(1,)type'.\n",
      "  _np_quint8 = np.dtype([(\"quint8\", np.uint8, 1)])\n",
      "C:\\Users\\Kayla Yano\\anaconda3\\envs\\PythonData\\lib\\site-packages\\tensorboard\\compat\\tensorflow_stub\\dtypes.py:543: FutureWarning: Passing (type, 1) or '1type' as a synonym of type is deprecated; in a future version of numpy, it will be understood as (type, (1,)) / '(1,)type'.\n",
      "  _np_qint16 = np.dtype([(\"qint16\", np.int16, 1)])\n",
      "C:\\Users\\Kayla Yano\\anaconda3\\envs\\PythonData\\lib\\site-packages\\tensorboard\\compat\\tensorflow_stub\\dtypes.py:544: FutureWarning: Passing (type, 1) or '1type' as a synonym of type is deprecated; in a future version of numpy, it will be understood as (type, (1,)) / '(1,)type'.\n",
      "  _np_quint16 = np.dtype([(\"quint16\", np.uint16, 1)])\n",
      "C:\\Users\\Kayla Yano\\anaconda3\\envs\\PythonData\\lib\\site-packages\\tensorboard\\compat\\tensorflow_stub\\dtypes.py:545: FutureWarning: Passing (type, 1) or '1type' as a synonym of type is deprecated; in a future version of numpy, it will be understood as (type, (1,)) / '(1,)type'.\n",
      "  _np_qint32 = np.dtype([(\"qint32\", np.int32, 1)])\n",
      "C:\\Users\\Kayla Yano\\anaconda3\\envs\\PythonData\\lib\\site-packages\\tensorboard\\compat\\tensorflow_stub\\dtypes.py:550: FutureWarning: Passing (type, 1) or '1type' as a synonym of type is deprecated; in a future version of numpy, it will be understood as (type, (1,)) / '(1,)type'.\n",
      "  np_resource = np.dtype([(\"resource\", np.ubyte, 1)])\n"
     ]
    }
   ],
   "source": [
    "import pymatgen as pymat\n",
    "import mendeleev as mendel\n",
    "import pandas as pd\n",
    "import numpy as np\n",
    "from pathlib import Path\n",
    "import tensorflow as tf\n",
    "import tensorflow.keras\n",
    "from tensorflow.keras import initializers\n",
    "from tensorflow.keras.layers import Dense\n",
    "from tensorflow.keras.models import Sequential\n",
    "from tensorflow.keras import optimizers\n",
    "\n",
    "import sys\n",
    "import os\n",
    "sys.path.insert(0, '../src/')\n",
    "\n",
    "%matplotlib inline\n",
    "import matplotlib.pyplot as plt"
   ]
  },
  {
   "cell_type": "code",
   "execution_count": 2,
   "metadata": {
    "scrolled": true
   },
   "outputs": [
    {
     "data": {
      "text/html": [
       "<div>\n",
       "<style scoped>\n",
       "    .dataframe tbody tr th:only-of-type {\n",
       "        vertical-align: middle;\n",
       "    }\n",
       "\n",
       "    .dataframe tbody tr th {\n",
       "        vertical-align: top;\n",
       "    }\n",
       "\n",
       "    .dataframe thead th {\n",
       "        text-align: right;\n",
       "    }\n",
       "</style>\n",
       "<table border=\"1\" class=\"dataframe\">\n",
       "  <thead>\n",
       "    <tr style=\"text-align: right;\">\n",
       "      <th></th>\n",
       "      <th>Unnamed: 0</th>\n",
       "      <th>mp_id</th>\n",
       "      <th>Formula</th>\n",
       "      <th>Composition</th>\n",
       "      <th>IPF</th>\n",
       "      <th>Density</th>\n",
       "      <th>Elastic_Tensor</th>\n",
       "      <th>E_above_Hull</th>\n",
       "      <th>G_VRH</th>\n",
       "      <th>K_VRH</th>\n",
       "      <th>Elastic_Anisotropy</th>\n",
       "      <th>poisson_ratio</th>\n",
       "      <th>Y_Modulus</th>\n",
       "    </tr>\n",
       "  </thead>\n",
       "  <tbody>\n",
       "    <tr>\n",
       "      <th>0</th>\n",
       "      <td>1</td>\n",
       "      <td>mp-1025571</td>\n",
       "      <td>WS2</td>\n",
       "      <td>{'W': 1.0, 'S': 2.0}</td>\n",
       "      <td>0.082573</td>\n",
       "      <td>4.475734</td>\n",
       "      <td>{'G_Reuss': -22.0, 'G_VRH': 2.0, 'G_Voigt': 25...</td>\n",
       "      <td>0.951299</td>\n",
       "      <td>2.0</td>\n",
       "      <td>19.0</td>\n",
       "      <td>-4.53</td>\n",
       "      <td>0.46</td>\n",
       "      <td>5.84</td>\n",
       "    </tr>\n",
       "    <tr>\n",
       "      <th>1</th>\n",
       "      <td>2</td>\n",
       "      <td>mp-1028698</td>\n",
       "      <td>WSe2</td>\n",
       "      <td>{'W': 1.0, 'Se': 2.0}</td>\n",
       "      <td>0.110243</td>\n",
       "      <td>5.899583</td>\n",
       "      <td>{'G_Reuss': 1.0, 'G_VRH': 13.0, 'G_Voigt': 24....</td>\n",
       "      <td>0.174937</td>\n",
       "      <td>13.0</td>\n",
       "      <td>18.0</td>\n",
       "      <td>91.25</td>\n",
       "      <td>0.21</td>\n",
       "      <td>31.46</td>\n",
       "    </tr>\n",
       "    <tr>\n",
       "      <th>2</th>\n",
       "      <td>3</td>\n",
       "      <td>mp-1029655</td>\n",
       "      <td>Sr3WN3</td>\n",
       "      <td>{'Sr': 3.0, 'W': 1.0, 'N': 3.0}</td>\n",
       "      <td>0.228417</td>\n",
       "      <td>5.462967</td>\n",
       "      <td>{'G_Reuss': 30.0, 'G_VRH': 30.0, 'G_Voigt': 30...</td>\n",
       "      <td>0.000000</td>\n",
       "      <td>30.0</td>\n",
       "      <td>57.0</td>\n",
       "      <td>0.10</td>\n",
       "      <td>0.27</td>\n",
       "      <td>76.20</td>\n",
       "    </tr>\n",
       "    <tr>\n",
       "      <th>3</th>\n",
       "      <td>4</td>\n",
       "      <td>mp-1113</td>\n",
       "      <td>BW2</td>\n",
       "      <td>{'B': 1.0, 'W': 2.0}</td>\n",
       "      <td>0.108369</td>\n",
       "      <td>16.759719</td>\n",
       "      <td>{'G_Reuss': 152.0, 'G_VRH': 152.0, 'G_Voigt': ...</td>\n",
       "      <td>0.000000</td>\n",
       "      <td>152.0</td>\n",
       "      <td>330.0</td>\n",
       "      <td>0.04</td>\n",
       "      <td>0.30</td>\n",
       "      <td>395.20</td>\n",
       "    </tr>\n",
       "    <tr>\n",
       "      <th>4</th>\n",
       "      <td>5</td>\n",
       "      <td>mp-11227</td>\n",
       "      <td>Al12W</td>\n",
       "      <td>{'Al': 12.0, 'W': 1.0}</td>\n",
       "      <td>0.079391</td>\n",
       "      <td>3.857813</td>\n",
       "      <td>{'G_Reuss': 57.0, 'G_VRH': 57.0, 'G_Voigt': 57...</td>\n",
       "      <td>0.000000</td>\n",
       "      <td>57.0</td>\n",
       "      <td>92.0</td>\n",
       "      <td>0.00</td>\n",
       "      <td>0.24</td>\n",
       "      <td>141.36</td>\n",
       "    </tr>\n",
       "    <tr>\n",
       "      <th>...</th>\n",
       "      <td>...</td>\n",
       "      <td>...</td>\n",
       "      <td>...</td>\n",
       "      <td>...</td>\n",
       "      <td>...</td>\n",
       "      <td>...</td>\n",
       "      <td>...</td>\n",
       "      <td>...</td>\n",
       "      <td>...</td>\n",
       "      <td>...</td>\n",
       "      <td>...</td>\n",
       "      <td>...</td>\n",
       "      <td>...</td>\n",
       "    </tr>\n",
       "    <tr>\n",
       "      <th>71</th>\n",
       "      <td>72</td>\n",
       "      <td>mp-989524</td>\n",
       "      <td>LaWN3</td>\n",
       "      <td>{'La': 1.0, 'W': 1.0, 'N': 3.0}</td>\n",
       "      <td>0.179052</td>\n",
       "      <td>9.211969</td>\n",
       "      <td>{'G_Reuss': 41.0, 'G_VRH': 57.0, 'G_Voigt': 73...</td>\n",
       "      <td>0.000000</td>\n",
       "      <td>57.0</td>\n",
       "      <td>170.0</td>\n",
       "      <td>3.82</td>\n",
       "      <td>0.35</td>\n",
       "      <td>153.90</td>\n",
       "    </tr>\n",
       "    <tr>\n",
       "      <th>72</th>\n",
       "      <td>73</td>\n",
       "      <td>mp-19420</td>\n",
       "      <td>Sr2MgWO6</td>\n",
       "      <td>{'Sr': 2.0, 'Mg': 1.0, 'W': 1.0, 'O': 6.0}</td>\n",
       "      <td>0.574046</td>\n",
       "      <td>6.167197</td>\n",
       "      <td>{'G_Reuss': 72.0, 'G_VRH': 72.0, 'G_Voigt': 72...</td>\n",
       "      <td>0.680335</td>\n",
       "      <td>72.0</td>\n",
       "      <td>127.0</td>\n",
       "      <td>0.05</td>\n",
       "      <td>0.26</td>\n",
       "      <td>181.44</td>\n",
       "    </tr>\n",
       "    <tr>\n",
       "      <th>73</th>\n",
       "      <td>74</td>\n",
       "      <td>mp-977545</td>\n",
       "      <td>ZrTc2W</td>\n",
       "      <td>{'Zr': 1.0, 'Tc': 2.0, 'W': 1.0}</td>\n",
       "      <td>0.120815</td>\n",
       "      <td>11.857923</td>\n",
       "      <td>{'G_Reuss': 104.0, 'G_VRH': 109.0, 'G_Voigt': ...</td>\n",
       "      <td>0.000000</td>\n",
       "      <td>109.0</td>\n",
       "      <td>198.0</td>\n",
       "      <td>0.44</td>\n",
       "      <td>0.27</td>\n",
       "      <td>276.86</td>\n",
       "    </tr>\n",
       "    <tr>\n",
       "      <th>74</th>\n",
       "      <td>75</td>\n",
       "      <td>mp-18848</td>\n",
       "      <td>Sr2MgWO6</td>\n",
       "      <td>{'Sr': 2.0, 'Mg': 1.0, 'W': 1.0, 'O': 6.0}</td>\n",
       "      <td>0.572559</td>\n",
       "      <td>6.151227</td>\n",
       "      <td>{'G_Reuss': 76.0, 'G_VRH': 76.0, 'G_Voigt': 77...</td>\n",
       "      <td>0.000000</td>\n",
       "      <td>76.0</td>\n",
       "      <td>179.0</td>\n",
       "      <td>0.07</td>\n",
       "      <td>0.31</td>\n",
       "      <td>199.12</td>\n",
       "    </tr>\n",
       "    <tr>\n",
       "      <th>75</th>\n",
       "      <td>76</td>\n",
       "      <td>mp-504723</td>\n",
       "      <td>Ba2NiWO6</td>\n",
       "      <td>{'Ba': 2.0, 'Ni': 1.0, 'W': 1.0, 'O': 6.0}</td>\n",
       "      <td>0.590346</td>\n",
       "      <td>7.368893</td>\n",
       "      <td>{'G_Reuss': 62.0, 'G_VRH': 65.0, 'G_Voigt': 68...</td>\n",
       "      <td>0.000000</td>\n",
       "      <td>65.0</td>\n",
       "      <td>122.0</td>\n",
       "      <td>0.48</td>\n",
       "      <td>0.27</td>\n",
       "      <td>165.10</td>\n",
       "    </tr>\n",
       "  </tbody>\n",
       "</table>\n",
       "<p>76 rows × 13 columns</p>\n",
       "</div>"
      ],
      "text/plain": [
       "    Unnamed: 0       mp_id   Formula  \\\n",
       "0            1  mp-1025571       WS2   \n",
       "1            2  mp-1028698      WSe2   \n",
       "2            3  mp-1029655    Sr3WN3   \n",
       "3            4     mp-1113       BW2   \n",
       "4            5    mp-11227     Al12W   \n",
       "..         ...         ...       ...   \n",
       "71          72   mp-989524     LaWN3   \n",
       "72          73    mp-19420  Sr2MgWO6   \n",
       "73          74   mp-977545    ZrTc2W   \n",
       "74          75    mp-18848  Sr2MgWO6   \n",
       "75          76   mp-504723  Ba2NiWO6   \n",
       "\n",
       "                                   Composition       IPF    Density  \\\n",
       "0                         {'W': 1.0, 'S': 2.0}  0.082573   4.475734   \n",
       "1                        {'W': 1.0, 'Se': 2.0}  0.110243   5.899583   \n",
       "2              {'Sr': 3.0, 'W': 1.0, 'N': 3.0}  0.228417   5.462967   \n",
       "3                         {'B': 1.0, 'W': 2.0}  0.108369  16.759719   \n",
       "4                       {'Al': 12.0, 'W': 1.0}  0.079391   3.857813   \n",
       "..                                         ...       ...        ...   \n",
       "71             {'La': 1.0, 'W': 1.0, 'N': 3.0}  0.179052   9.211969   \n",
       "72  {'Sr': 2.0, 'Mg': 1.0, 'W': 1.0, 'O': 6.0}  0.574046   6.167197   \n",
       "73            {'Zr': 1.0, 'Tc': 2.0, 'W': 1.0}  0.120815  11.857923   \n",
       "74  {'Sr': 2.0, 'Mg': 1.0, 'W': 1.0, 'O': 6.0}  0.572559   6.151227   \n",
       "75  {'Ba': 2.0, 'Ni': 1.0, 'W': 1.0, 'O': 6.0}  0.590346   7.368893   \n",
       "\n",
       "                                       Elastic_Tensor  E_above_Hull  G_VRH  \\\n",
       "0   {'G_Reuss': -22.0, 'G_VRH': 2.0, 'G_Voigt': 25...      0.951299    2.0   \n",
       "1   {'G_Reuss': 1.0, 'G_VRH': 13.0, 'G_Voigt': 24....      0.174937   13.0   \n",
       "2   {'G_Reuss': 30.0, 'G_VRH': 30.0, 'G_Voigt': 30...      0.000000   30.0   \n",
       "3   {'G_Reuss': 152.0, 'G_VRH': 152.0, 'G_Voigt': ...      0.000000  152.0   \n",
       "4   {'G_Reuss': 57.0, 'G_VRH': 57.0, 'G_Voigt': 57...      0.000000   57.0   \n",
       "..                                                ...           ...    ...   \n",
       "71  {'G_Reuss': 41.0, 'G_VRH': 57.0, 'G_Voigt': 73...      0.000000   57.0   \n",
       "72  {'G_Reuss': 72.0, 'G_VRH': 72.0, 'G_Voigt': 72...      0.680335   72.0   \n",
       "73  {'G_Reuss': 104.0, 'G_VRH': 109.0, 'G_Voigt': ...      0.000000  109.0   \n",
       "74  {'G_Reuss': 76.0, 'G_VRH': 76.0, 'G_Voigt': 77...      0.000000   76.0   \n",
       "75  {'G_Reuss': 62.0, 'G_VRH': 65.0, 'G_Voigt': 68...      0.000000   65.0   \n",
       "\n",
       "    K_VRH  Elastic_Anisotropy  poisson_ratio  Y_Modulus  \n",
       "0    19.0               -4.53           0.46       5.84  \n",
       "1    18.0               91.25           0.21      31.46  \n",
       "2    57.0                0.10           0.27      76.20  \n",
       "3   330.0                0.04           0.30     395.20  \n",
       "4    92.0                0.00           0.24     141.36  \n",
       "..    ...                 ...            ...        ...  \n",
       "71  170.0                3.82           0.35     153.90  \n",
       "72  127.0                0.05           0.26     181.44  \n",
       "73  198.0                0.44           0.27     276.86  \n",
       "74  179.0                0.07           0.31     199.12  \n",
       "75  122.0                0.48           0.27     165.10  \n",
       "\n",
       "[76 rows x 13 columns]"
      ]
     },
     "execution_count": 2,
     "metadata": {},
     "output_type": "execute_result"
    }
   ],
   "source": [
    "# df = pd.read_csv(Path('../All Data Export/Ti_compounds_dataframe.csv'))\n",
    "# df = pd.read_csv(Path('../All Data Export/C_compounds_dataframe.csv'))\n",
    "# df = pd.read_csv(Path('../All Data Export/Cr_compounds_dataframe.csv'))\n",
    "# df = pd.read_csv(Path('../All Data Export/Fe_compounds_dataframe.csv'))\n",
    "# df = pd.read_csv(Path('../All Data Export/Hf_compounds_dataframe.csv'))\n",
    "# df = pd.read_csv(Path('../All Data Export/Mo_compounds_dataframe.csv'))\n",
    "# df = pd.read_csv(Path('../All Data Export/Nb_compounds_dataframe.csv'))\n",
    "# df = pd.read_csv(Path('../All Data Export/Ni_compounds_dataframe.csv'))\n",
    "# df = pd.read_csv(Path('../All Data Export/V_compounds_dataframe.csv'))\n",
    "df = pd.read_csv(Path('../All Data Export/W_compounds_dataframe.csv'))\n",
    "# df = pd.read_csv(Path('../All Data Export/Zr_compounds_dataframe.csv'))\n",
    "# df = pd.read_csv(Path('../All Data Export/Ta_compounds_dataframe.csv'))\n",
    "df"
   ]
  },
  {
   "cell_type": "code",
   "execution_count": 3,
   "metadata": {},
   "outputs": [
    {
     "data": {
      "text/plain": [
       "Index(['Unnamed: 0', 'mp_id', 'Formula', 'Composition', 'IPF', 'Density',\n",
       "       'Elastic_Tensor', 'E_above_Hull', 'G_VRH', 'K_VRH',\n",
       "       'Elastic_Anisotropy', 'poisson_ratio', 'Y_Modulus'],\n",
       "      dtype='object')"
      ]
     },
     "execution_count": 3,
     "metadata": {},
     "output_type": "execute_result"
    }
   ],
   "source": [
    "df.columns"
   ]
  },
  {
   "cell_type": "code",
   "execution_count": 4,
   "metadata": {},
   "outputs": [
    {
     "data": {
      "text/html": [
       "<div>\n",
       "<style scoped>\n",
       "    .dataframe tbody tr th:only-of-type {\n",
       "        vertical-align: middle;\n",
       "    }\n",
       "\n",
       "    .dataframe tbody tr th {\n",
       "        vertical-align: top;\n",
       "    }\n",
       "\n",
       "    .dataframe thead th {\n",
       "        text-align: right;\n",
       "    }\n",
       "</style>\n",
       "<table border=\"1\" class=\"dataframe\">\n",
       "  <thead>\n",
       "    <tr style=\"text-align: right;\">\n",
       "      <th></th>\n",
       "      <th>IPF</th>\n",
       "      <th>Density</th>\n",
       "      <th>E_above_Hull</th>\n",
       "      <th>G_VRH</th>\n",
       "      <th>K_VRH</th>\n",
       "      <th>Elastic_Anisotropy</th>\n",
       "      <th>poisson_ratio</th>\n",
       "      <th>Y_Modulus</th>\n",
       "    </tr>\n",
       "  </thead>\n",
       "  <tbody>\n",
       "    <tr>\n",
       "      <th>0</th>\n",
       "      <td>0.082573</td>\n",
       "      <td>4.475734</td>\n",
       "      <td>0.951299</td>\n",
       "      <td>2.0</td>\n",
       "      <td>19.0</td>\n",
       "      <td>-4.53</td>\n",
       "      <td>0.46</td>\n",
       "      <td>5.84</td>\n",
       "    </tr>\n",
       "    <tr>\n",
       "      <th>1</th>\n",
       "      <td>0.110243</td>\n",
       "      <td>5.899583</td>\n",
       "      <td>0.174937</td>\n",
       "      <td>13.0</td>\n",
       "      <td>18.0</td>\n",
       "      <td>91.25</td>\n",
       "      <td>0.21</td>\n",
       "      <td>31.46</td>\n",
       "    </tr>\n",
       "    <tr>\n",
       "      <th>2</th>\n",
       "      <td>0.228417</td>\n",
       "      <td>5.462967</td>\n",
       "      <td>0.000000</td>\n",
       "      <td>30.0</td>\n",
       "      <td>57.0</td>\n",
       "      <td>0.10</td>\n",
       "      <td>0.27</td>\n",
       "      <td>76.20</td>\n",
       "    </tr>\n",
       "    <tr>\n",
       "      <th>3</th>\n",
       "      <td>0.108369</td>\n",
       "      <td>16.759719</td>\n",
       "      <td>0.000000</td>\n",
       "      <td>152.0</td>\n",
       "      <td>330.0</td>\n",
       "      <td>0.04</td>\n",
       "      <td>0.30</td>\n",
       "      <td>395.20</td>\n",
       "    </tr>\n",
       "    <tr>\n",
       "      <th>4</th>\n",
       "      <td>0.079391</td>\n",
       "      <td>3.857813</td>\n",
       "      <td>0.000000</td>\n",
       "      <td>57.0</td>\n",
       "      <td>92.0</td>\n",
       "      <td>0.00</td>\n",
       "      <td>0.24</td>\n",
       "      <td>141.36</td>\n",
       "    </tr>\n",
       "    <tr>\n",
       "      <th>...</th>\n",
       "      <td>...</td>\n",
       "      <td>...</td>\n",
       "      <td>...</td>\n",
       "      <td>...</td>\n",
       "      <td>...</td>\n",
       "      <td>...</td>\n",
       "      <td>...</td>\n",
       "      <td>...</td>\n",
       "    </tr>\n",
       "    <tr>\n",
       "      <th>71</th>\n",
       "      <td>0.179052</td>\n",
       "      <td>9.211969</td>\n",
       "      <td>0.000000</td>\n",
       "      <td>57.0</td>\n",
       "      <td>170.0</td>\n",
       "      <td>3.82</td>\n",
       "      <td>0.35</td>\n",
       "      <td>153.90</td>\n",
       "    </tr>\n",
       "    <tr>\n",
       "      <th>72</th>\n",
       "      <td>0.574046</td>\n",
       "      <td>6.167197</td>\n",
       "      <td>0.680335</td>\n",
       "      <td>72.0</td>\n",
       "      <td>127.0</td>\n",
       "      <td>0.05</td>\n",
       "      <td>0.26</td>\n",
       "      <td>181.44</td>\n",
       "    </tr>\n",
       "    <tr>\n",
       "      <th>73</th>\n",
       "      <td>0.120815</td>\n",
       "      <td>11.857923</td>\n",
       "      <td>0.000000</td>\n",
       "      <td>109.0</td>\n",
       "      <td>198.0</td>\n",
       "      <td>0.44</td>\n",
       "      <td>0.27</td>\n",
       "      <td>276.86</td>\n",
       "    </tr>\n",
       "    <tr>\n",
       "      <th>74</th>\n",
       "      <td>0.572559</td>\n",
       "      <td>6.151227</td>\n",
       "      <td>0.000000</td>\n",
       "      <td>76.0</td>\n",
       "      <td>179.0</td>\n",
       "      <td>0.07</td>\n",
       "      <td>0.31</td>\n",
       "      <td>199.12</td>\n",
       "    </tr>\n",
       "    <tr>\n",
       "      <th>75</th>\n",
       "      <td>0.590346</td>\n",
       "      <td>7.368893</td>\n",
       "      <td>0.000000</td>\n",
       "      <td>65.0</td>\n",
       "      <td>122.0</td>\n",
       "      <td>0.48</td>\n",
       "      <td>0.27</td>\n",
       "      <td>165.10</td>\n",
       "    </tr>\n",
       "  </tbody>\n",
       "</table>\n",
       "<p>76 rows × 8 columns</p>\n",
       "</div>"
      ],
      "text/plain": [
       "         IPF    Density  E_above_Hull  G_VRH  K_VRH  Elastic_Anisotropy  \\\n",
       "0   0.082573   4.475734      0.951299    2.0   19.0               -4.53   \n",
       "1   0.110243   5.899583      0.174937   13.0   18.0               91.25   \n",
       "2   0.228417   5.462967      0.000000   30.0   57.0                0.10   \n",
       "3   0.108369  16.759719      0.000000  152.0  330.0                0.04   \n",
       "4   0.079391   3.857813      0.000000   57.0   92.0                0.00   \n",
       "..       ...        ...           ...    ...    ...                 ...   \n",
       "71  0.179052   9.211969      0.000000   57.0  170.0                3.82   \n",
       "72  0.574046   6.167197      0.680335   72.0  127.0                0.05   \n",
       "73  0.120815  11.857923      0.000000  109.0  198.0                0.44   \n",
       "74  0.572559   6.151227      0.000000   76.0  179.0                0.07   \n",
       "75  0.590346   7.368893      0.000000   65.0  122.0                0.48   \n",
       "\n",
       "    poisson_ratio  Y_Modulus  \n",
       "0            0.46       5.84  \n",
       "1            0.21      31.46  \n",
       "2            0.27      76.20  \n",
       "3            0.30     395.20  \n",
       "4            0.24     141.36  \n",
       "..            ...        ...  \n",
       "71           0.35     153.90  \n",
       "72           0.26     181.44  \n",
       "73           0.27     276.86  \n",
       "74           0.31     199.12  \n",
       "75           0.27     165.10  \n",
       "\n",
       "[76 rows x 8 columns]"
      ]
     },
     "execution_count": 4,
     "metadata": {},
     "output_type": "execute_result"
    }
   ],
   "source": [
    "df.drop( df[ df['Y_Modulus'] < 0 ].index , inplace=True)\n",
    "df_original = df.copy\n",
    "elements = df['Formula'].tolist()\n",
    "df = df.drop(df.columns[[0, 1, 2, 3, 6]], axis=1)\n",
    "df"
   ]
  },
  {
   "cell_type": "markdown",
   "metadata": {},
   "source": [
    "### 2. Processing and Organizing Data\n",
    "\n",
    "Most machine learning models are trained on a subset of all the available data, called the \"training set\", and the models are tested on the remainder of the available data, called the \"testing set\". Model performance has often been found to be enhanced when the inputs are normalized.\n",
    "\n",
    "##### SETS\n",
    "\n",
    "1. With the dataset we just created, we have splitted the dataset for each of the 12 datasets:\n",
    "- C: 331 entries for our model. We will train with 300 cases and test on the remaining 31 elements to estimate Young's Modulus.\n",
    "- Cr: 331 entries for our model. We will train with 300 cases and test on the remaining 31 elements to estimate Young's Modulus.\n",
    "- Fe: 208 entries for our model. We will train with 182 cases and test on the remaining 26 elements to estimate Young's Modulus.\n",
    "- Hf: 216 entries for our model. We will train with 180 cases and test on the remaining 36 elements to estimate Young's Modulus.\n",
    "- Mo: 60 entries for our model. We will train with 84 cases and test on the remaining 24 elements to estimate Young's Modulus.\n",
    "- Nb: 172 entries for our model. We will train with 150 cases and test on the remaining 22 elements to estimate Young's Modulus.\n",
    "- Ni: 378 entries for our model. We will train with 300 cases and test on the remaining 78 elements to estimate Young's Modulus.\n",
    "- Ta: 331 entries for our model. We will train with 300 cases and test on the remaining 31 elements to estimate Young's Modulus.\n",
    "- Ti: 331 entries for our model. We will train with 300 cases and test on the remaining 31 elements to estimate Young's Modulus.\n",
    "- V: 173 entries for our model. We will train with 150 cases and test on the remaining 23 elements to estimate Young's Modulus.\n",
    "- W: 76 entries for our model. We will train with 60 cases and test on the remaining 16 elements to estimate Young's Modulus.\n",
    "- Zr: 331 entries for our model. We will train with 300 cases and test on the remaining 31 elements to estimate Young's Modulus.\n",
    "\n",
    "\n",
    "\n",
    "##### NORMALIZATION\n",
    "\n",
    "Each one of these input data features has different units and is represented in scales with distinct orders of magnitude. Datasets that contain inputs like this need to be normalized, so that quantities with large values do not *overwhelm* the neural network, forcing it tune its weights to account for the different scales of our input data. In this work, we will use the Standard Score Normalization, which subtracts the mean of the feature and divide by its standard deviation.\n",
    "\n",
    "<span style=\"font-size:2em;\">$ \\frac{X - µ}{σ} $ </span>\n",
    "\n",
    "While our model might converge without feature normalization, the resultant model would be difficult to train and would be dependent on the choice of units used in the input."
   ]
  },
  {
   "cell_type": "code",
   "execution_count": 5,
   "metadata": {},
   "outputs": [
    {
     "name": "stdout",
     "output_type": "stream",
     "text": [
      "[[0.08257334275053553, 4.475734301828639, 0.9512988888928929, 2.0, 19.0, -4.53, 0.46, 5.84], [0.11024325465688314, 5.899583046510898, 0.17493749999974995, 13.0, 18.0, 91.25, 0.21, 31.46], [0.2284173675684609, 5.462967484451807, 0.0, 30.0, 57.0, 0.1, 0.27, 76.2], [0.10836851741914386, 16.759719143418597, 0.0, 152.0, 330.0, 0.04, 0.3, 395.2], [0.07939051425546975, 3.8578125920980217, 0.0, 57.0, 92.0, 0.0, 0.24, 141.36], [0.11422019519156848, 10.611197708943381, 0.0, 170.0, 218.0, 0.01, 0.19, 404.6], [0.07332292275653557, 9.119852404115473, 0.0, 132.0, 188.0, 0.12, 0.21, 319.44], [0.08306150992567858, 11.060425705379505, 0.0, 74.0, 134.0, 1.26, 0.27, 187.96], [0.11445983399408725, 16.353799263817578, 0.0, 94.0, 223.0, 0.08, 0.32, 248.16000000000003], [0.07796508983093957, 9.689780119861199, 0.0, 189.0, 218.0, 0.06, 0.16, 438.48], [0.14682285586222174, 7.857112292094282, 0.0, 20.0, 20.0, -4.74, 0.13, 45.2], [0.4728995058550828, 6.736530704630063, 0.08762124999961429, 86.0, 59.0, 2.58, 0.01, 173.72], [0.09443314901107484, 15.350369049615527, 0.0, 279.0, 385.0, 0.13, 0.21, 675.18], [0.4872011957550757, 6.025777640367976, 0.0, 29.0, 63.0, 0.46, 0.3, 75.4], [0.4996037972608592, 6.873201232546637, 0.0, 55.0, 127.0, 0.39, 0.31, 144.1], [0.467283686880555, 6.656532446046254, 0.0, 101.0, 197.0, 1.93, 0.28, 258.56], [0.1637459227833799, 12.924119014628046, 0.0, 142.0, 279.0, 0.14, 0.28, 363.52], [0.12133361384201972, 6.576662629224075, 0.22711500000482945, 20.0, 27.0, 401.13, 0.2, 48.0], [0.2339572383524664, 8.52337626142813, 0.0, 13.0, 20.0, 45.09, 0.23, 31.98], [0.06056816519822476, 2.8871453581302764, 0.12628142857185054, 0.0, 1.0, 0.78, 0.29, 0.0], [0.08768324439395657, 12.101822263901672, 0.0, 117.0, 222.0, 0.42, 0.28, 299.52], [0.1827016394345996, 4.4027478802820434, 0.0, 4.0, 15.0, 3.8, 0.38, 11.04], [0.08969871960536402, 5.700302231165966, 0.0, 98.0, 124.0, 0.03, 0.19, 233.24], [0.12363732896873912, 20.51773602835673, 0.0, 183.0, 334.0, 0.11, 0.27, 464.82], [0.12691068242970038, 21.330343318581765, 0.0, 193.0, 351.0, 0.08, 0.27, 490.22], [0.14842291991785134, 11.890071744875302, 0.0, 98.0, 234.0, 1.0, 0.32, 258.72], [0.12203762300241633, 14.090885586994961, 0.0, 132.0, 283.0, 0.05, 0.3, 343.2], [0.4669828049043932, 6.652246333149563, 0.3215087499999214, 82.0, 194.0, 1.07, 0.32, 216.48], [0.11194500887224383, 4.444905129301559, 0.0, 158.0, 144.0, 0.09, 0.1, 347.6], [0.08867297631741011, 12.27319821155732, 0.0, 224.0, 321.0, 0.02, 0.22, 546.56], [0.11425525703674215, 13.520587967518766, 0.0, 87.0, 215.0, 0.06, 0.32, 229.68], [0.1032275147402567, 15.331502442326359, 0.0, 196.0, 342.0, 0.19, 0.26, 493.92], [0.16552365154728016, 10.595547042879602, 0.0, 64.0, 232.0, 3.85, 0.37, 175.36], [0.09547327770763564, 13.996375532327347, 0.0, 162.0, 309.0, 0.03, 0.28, 414.72], [0.12995482663470073, 11.693560622969295, 0.0, 128.0, 263.0, 0.23, 0.29, 330.24], [0.11594151452300065, 11.64361163073422, 0.5852650862063768, 114.0, 220.0, 0.48, 0.28, 291.8400000000001], [0.11988976789467926, 18.29084523624195, 0.0, 139.0, 255.0, 0.03, 0.27, 353.06], [0.12097095634043857, 6.557005454576976, 0.0, 20.0, 27.0, 294.55, 0.21, 48.4], [0.4851450410002235, 4.882345568913016, 0.0, 28.0, 52.0, 0.02, 0.27, 71.12], [0.5534843713583136, 6.570296868323322, 0.0, 70.0, 136.0, 0.25, 0.28, 179.20000000000005], [0.5474954263268575, 7.443635300744207, 0.0, 54.0, 142.0, 0.56, 0.33, 143.64], [0.4639224883437914, 6.023402681770163, 0.0, 24.0, 56.0, 0.46, 0.31, 62.88], [0.10246923819237937, 13.758273458431209, 0.0, 187.0, 306.0, 0.19, 0.25, 467.5], [0.11545228943877127, 14.622451906693492, 0.0, 203.0, 339.0, 0.12, 0.25, 507.5], [0.13170087425363902, 5.236190379929374, 0.0, 5.0, 15.0, 0.82, 0.36, 13.599999999999998], [0.21350855354098544, 3.6987102110931063, 0.0, 4.0, 8.0, 0.95, 0.31, 10.48], [0.21908630117720407, 4.197507863121574, 0.0, 68.0, 85.0, 0.04, 0.18, 160.48], [0.1992386282966952, 4.465235393671986, 0.0, 3.0, 12.0, 3.41, 0.39, 8.34], [0.2784983979460109, 3.501656520937873, 0.0, 3.0, 34.0, -15.76, 0.45, 8.7], [0.17188558147103808, 3.1341795205605334, 0.0, 4.0, 12.0, 2.4, 0.35, 10.8], [0.120325047305186, 14.323754745444653, 0.0, 208.0, 335.0, 0.16, 0.24, 515.84], [0.1326519514907177, 11.758406891033076, 0.0, 85.0, 227.0, 0.0, 0.33, 226.1], [0.1288330231068964, 11.070671426475803, 0.0, 84.0, 223.0, 0.26, 0.33, 223.44], [0.11715638382166725, 18.394782943153746, 0.0, 133.0, 272.0, 0.09, 0.29, 343.14], [0.10631552893764658, 10.37140883212368, 0.0, 127.0, 236.0, 0.13, 0.27, 322.58], [0.12742539392074806, 10.694686868620504, 0.0, 120.0, 243.0, 0.53, 0.29, 309.6], [0.12114553533474155, 14.257435600687034, 0.0, 119.0, 244.0, 0.38, 0.29, 307.02], [0.10409423158298987, 11.820854429189383, 0.0, 97.0, 278.0, 0.04, 0.34, 259.96000000000004], [0.1159841298014464, 11.748825266136697, 0.0, 113.0, 200.0, 0.16, 0.26, 284.76], [0.4927485249409463, 5.691973535616988, 0.0, 65.0, 142.0, 0.21, 0.3, 169.0], [0.5373804615091922, 5.625991743008727, 0.0, 26.0, 69.0, 6.52, 0.33, 69.16], [0.5139723207489376, 7.530508481518048, 0.0, 41.0, 118.0, 0.78, 0.34, 109.88], [0.5342803459794407, 7.090244770279603, 0.0, 54.0, 141.0, 0.62, 0.33, 143.64], [0.1312194795487426, 13.555392664326869, 0.0, 193.0, 335.0, 0.22, 0.26, 486.36], [0.059908047333803026, 2.8034848881114973, 0.9627615624987484, 1.0, 1.0, 3.49, 0.27, 2.54], [0.19318351702411826, 3.491749670129747, 0.0, 4.0, 10.0, 0.97, 0.31, 10.48], [0.06599075121463953, 3.5177319970060004, 0.0, 1.0, 4.0, -29.31, 0.36, 2.72], [0.09605626044542716, 12.192531634462224, 0.0, 119.0, 270.0, 0.0, 0.31, 311.7800000000001], [0.12165122589678565, 16.2597984805017, 0.0, 146.0, 285.0, 0.05, 0.28, 373.76], [0.12325422175976485, 16.036825639827367, 0.0, 119.0, 250.0, 0.14, 0.3, 309.4000000000001], [0.14534137903239386, 12.73920881877668, 0.0, 90.0, 191.0, 0.01, 0.3, 234.0], [0.1790518834885911, 9.211968838178699, 0.0, 57.0, 170.0, 3.82, 0.35, 153.9], [0.5740456988841371, 6.1671974111669625, 0.6803350000001984, 72.0, 127.0, 0.05, 0.26, 181.44], [0.1208149676405688, 11.857923133807885, 0.0, 109.0, 198.0, 0.44, 0.27, 276.86], [0.5725591600889507, 6.1512269436116895, 0.0, 76.0, 179.0, 0.07, 0.31, 199.12], [0.5903457057218283, 7.368892591749929, 0.0, 65.0, 122.0, 0.48, 0.27, 165.1]]\n"
     ]
    },
    {
     "data": {
      "text/html": [
       "<div>\n",
       "<style scoped>\n",
       "    .dataframe tbody tr th:only-of-type {\n",
       "        vertical-align: middle;\n",
       "    }\n",
       "\n",
       "    .dataframe tbody tr th {\n",
       "        vertical-align: top;\n",
       "    }\n",
       "\n",
       "    .dataframe thead th {\n",
       "        text-align: right;\n",
       "    }\n",
       "</style>\n",
       "<table border=\"1\" class=\"dataframe\">\n",
       "  <thead>\n",
       "    <tr style=\"text-align: right;\">\n",
       "      <th></th>\n",
       "      <th>IPF</th>\n",
       "      <th>Density</th>\n",
       "      <th>E_above_Hull</th>\n",
       "      <th>G_VRH</th>\n",
       "      <th>K_VRH</th>\n",
       "      <th>Elastic_Anisotropy</th>\n",
       "      <th>poisson_ratio</th>\n",
       "    </tr>\n",
       "  </thead>\n",
       "  <tbody>\n",
       "    <tr>\n",
       "      <th>0</th>\n",
       "      <td>0.082573</td>\n",
       "      <td>4.475734</td>\n",
       "      <td>0.951299</td>\n",
       "      <td>2.0</td>\n",
       "      <td>19.0</td>\n",
       "      <td>-4.53</td>\n",
       "      <td>0.46</td>\n",
       "    </tr>\n",
       "    <tr>\n",
       "      <th>1</th>\n",
       "      <td>0.110243</td>\n",
       "      <td>5.899583</td>\n",
       "      <td>0.174937</td>\n",
       "      <td>13.0</td>\n",
       "      <td>18.0</td>\n",
       "      <td>91.25</td>\n",
       "      <td>0.21</td>\n",
       "    </tr>\n",
       "    <tr>\n",
       "      <th>2</th>\n",
       "      <td>0.228417</td>\n",
       "      <td>5.462967</td>\n",
       "      <td>0.000000</td>\n",
       "      <td>30.0</td>\n",
       "      <td>57.0</td>\n",
       "      <td>0.10</td>\n",
       "      <td>0.27</td>\n",
       "    </tr>\n",
       "    <tr>\n",
       "      <th>3</th>\n",
       "      <td>0.108369</td>\n",
       "      <td>16.759719</td>\n",
       "      <td>0.000000</td>\n",
       "      <td>152.0</td>\n",
       "      <td>330.0</td>\n",
       "      <td>0.04</td>\n",
       "      <td>0.30</td>\n",
       "    </tr>\n",
       "    <tr>\n",
       "      <th>4</th>\n",
       "      <td>0.079391</td>\n",
       "      <td>3.857813</td>\n",
       "      <td>0.000000</td>\n",
       "      <td>57.0</td>\n",
       "      <td>92.0</td>\n",
       "      <td>0.00</td>\n",
       "      <td>0.24</td>\n",
       "    </tr>\n",
       "    <tr>\n",
       "      <th>5</th>\n",
       "      <td>0.114220</td>\n",
       "      <td>10.611198</td>\n",
       "      <td>0.000000</td>\n",
       "      <td>170.0</td>\n",
       "      <td>218.0</td>\n",
       "      <td>0.01</td>\n",
       "      <td>0.19</td>\n",
       "    </tr>\n",
       "    <tr>\n",
       "      <th>6</th>\n",
       "      <td>0.073323</td>\n",
       "      <td>9.119852</td>\n",
       "      <td>0.000000</td>\n",
       "      <td>132.0</td>\n",
       "      <td>188.0</td>\n",
       "      <td>0.12</td>\n",
       "      <td>0.21</td>\n",
       "    </tr>\n",
       "    <tr>\n",
       "      <th>7</th>\n",
       "      <td>0.083062</td>\n",
       "      <td>11.060426</td>\n",
       "      <td>0.000000</td>\n",
       "      <td>74.0</td>\n",
       "      <td>134.0</td>\n",
       "      <td>1.26</td>\n",
       "      <td>0.27</td>\n",
       "    </tr>\n",
       "    <tr>\n",
       "      <th>8</th>\n",
       "      <td>0.114460</td>\n",
       "      <td>16.353799</td>\n",
       "      <td>0.000000</td>\n",
       "      <td>94.0</td>\n",
       "      <td>223.0</td>\n",
       "      <td>0.08</td>\n",
       "      <td>0.32</td>\n",
       "    </tr>\n",
       "    <tr>\n",
       "      <th>9</th>\n",
       "      <td>0.077965</td>\n",
       "      <td>9.689780</td>\n",
       "      <td>0.000000</td>\n",
       "      <td>189.0</td>\n",
       "      <td>218.0</td>\n",
       "      <td>0.06</td>\n",
       "      <td>0.16</td>\n",
       "    </tr>\n",
       "  </tbody>\n",
       "</table>\n",
       "</div>"
      ],
      "text/plain": [
       "        IPF    Density  E_above_Hull  G_VRH  K_VRH  Elastic_Anisotropy  \\\n",
       "0  0.082573   4.475734      0.951299    2.0   19.0               -4.53   \n",
       "1  0.110243   5.899583      0.174937   13.0   18.0               91.25   \n",
       "2  0.228417   5.462967      0.000000   30.0   57.0                0.10   \n",
       "3  0.108369  16.759719      0.000000  152.0  330.0                0.04   \n",
       "4  0.079391   3.857813      0.000000   57.0   92.0                0.00   \n",
       "5  0.114220  10.611198      0.000000  170.0  218.0                0.01   \n",
       "6  0.073323   9.119852      0.000000  132.0  188.0                0.12   \n",
       "7  0.083062  11.060426      0.000000   74.0  134.0                1.26   \n",
       "8  0.114460  16.353799      0.000000   94.0  223.0                0.08   \n",
       "9  0.077965   9.689780      0.000000  189.0  218.0                0.06   \n",
       "\n",
       "   poisson_ratio  \n",
       "0           0.46  \n",
       "1           0.21  \n",
       "2           0.27  \n",
       "3           0.30  \n",
       "4           0.24  \n",
       "5           0.19  \n",
       "6           0.21  \n",
       "7           0.27  \n",
       "8           0.32  \n",
       "9           0.16  "
      ]
     },
     "execution_count": 5,
     "metadata": {},
     "output_type": "execute_result"
    }
   ],
   "source": [
    "all_values = df.values.tolist() # Values for Attributes\n",
    "print(all_values)\n",
    "all_labels = [] # Values for Young's Modulus (Property to be estimated)\n",
    "all_labels = df['Y_Modulus'].tolist()\n",
    "df = df.drop(['Y_Modulus'], axis=1)\n",
    "df.head(n=10)"
   ]
  },
  {
   "cell_type": "code",
   "execution_count": 6,
   "metadata": {},
   "outputs": [
    {
     "name": "stdout",
     "output_type": "stream",
     "text": [
      "Shape of Values: (76, 7)\n",
      "Shape of Labels: (76,)\n",
      "[-0.7515643  -1.13912691  6.05663852 -1.36447295 -1.35208602 -0.28841465\n",
      "  2.50020209]\n",
      "[ 2.43902536 -0.89179179 -0.27441797 -1.00987251 -0.9120016  -0.1160817\n",
      "  0.7480389 ]\n",
      "[ 0  1  2  3  4  5  6  7  8  9 10 11 12 13 14 15 16 17 18 19 20 21 22 23\n",
      " 24 25 26 27 28 29 30 31 32 33 34 35 36 37 38 39 40 41 42 43 44 45 46 47\n",
      " 48 49 50 51 52 53 54 55 56 57 58 59 60 61 62 63 64 65 66 67 68 69 70 71\n",
      " 72 73 74 75]\n"
     ]
    }
   ],
   "source": [
    "#We will rewrite the arrays with the patches we made on the dataset \n",
    "# by turning the dataframe back into a list of lists\n",
    "\n",
    "all_values = [list(df.iloc[x]) for x in range(len(all_values))]\n",
    "\n",
    "# SETS\n",
    "\n",
    "# List of lists are turned into Numpy arrays to facilitate calculations in steps to follow (Normalization).\n",
    "all_values = np.array(all_values, dtype = float) \n",
    "print(\"Shape of Values:\", all_values.shape)\n",
    "all_labels = np.array(all_labels, dtype = float)\n",
    "print(\"Shape of Labels:\", all_labels.shape)\n",
    "\n",
    "# Uncomment the line below to shuffle the dataset \n",
    "#(we do not do this here to ensure consistent results for every run)\n",
    "#order = np.argsort(np.random.random(all_labels.shape)) \n",
    "# This numpy argsort returns the indexes that would be used to shuffle a list\n",
    "order = np.arange(76)\n",
    "all_values = all_values[order]\n",
    "all_labels = all_labels[order]\n",
    "\n",
    "# Training Set\n",
    "train_labels = all_labels[:60]\n",
    "train_values = all_values[:60]\n",
    "\n",
    "# Testing Set\n",
    "test_labels = all_labels[-16:]\n",
    "test_values = all_values[-16:]\n",
    "\n",
    "# This line is used for labels in the plots at the end of the tutorial - Testing Set\n",
    "\n",
    "labeled_elements = [elements[x] for x in order[-16:]] \n",
    "elements = [elements[x] for x in order]\n",
    "\n",
    "# NORMALIZATION\n",
    "\n",
    "mean = np.mean(train_values, axis = 0) # mean\n",
    "std = np.std(train_values, axis = 0) # standard deviation\n",
    "\n",
    "train_values = (train_values - mean) / std # input scaling\n",
    "test_values = (test_values - mean) / std # input scaling\n",
    "\n",
    "print(train_values[0]) # print a sample entry from the training set\n",
    "print(test_values[0]) # print a sample entry from the training set\n",
    "print(order)"
   ]
  },
  {
   "cell_type": "markdown",
   "metadata": {},
   "source": [
    "### 3. Creating the Model\n",
    "\n",
    "For this regression, we will use a simple sequential neural network with one densely connected hidden layer. The optimizer used will be [RMSPropOptimizer](https://www.tensorflow.org/api_docs/python/tf/train/RMSPropOptimizer) (Root Mean Square Propagation).\n",
    "\n",
    "To learn more about Root Mean Squared Propagation, click [here](https://climin.readthedocs.io/en/latest/rmsprop.html).\n",
    "\n",
    "A cool tool developed by Tensorflow to visualize how a neural network learns, and play around with its parameters, can be found here [NN Tools](https://playground.tensorflow.org/)."
   ]
  },
  {
   "cell_type": "code",
   "execution_count": 7,
   "metadata": {},
   "outputs": [
    {
     "name": "stdout",
     "output_type": "stream",
     "text": [
      "WARNING:tensorflow:From C:\\Users\\Kayla Yano\\anaconda3\\envs\\PythonData\\lib\\site-packages\\tensorflow\\python\\keras\\initializers.py:143: calling RandomNormal.__init__ (from tensorflow.python.ops.init_ops) with dtype is deprecated and will be removed in a future version.\n",
      "Instructions for updating:\n",
      "Call initializer instance with the dtype argument instead of passing it to the constructor\n",
      "Model: \"sequential\"\n",
      "_________________________________________________________________\n",
      "Layer (type)                 Output Shape              Param #   \n",
      "=================================================================\n",
      "dense (Dense)                (None, 32)                256       \n",
      "_________________________________________________________________\n",
      "dense_1 (Dense)              (None, 64)                2112      \n",
      "_________________________________________________________________\n",
      "dense_2 (Dense)              (None, 64)                4160      \n",
      "_________________________________________________________________\n",
      "dense_3 (Dense)              (None, 1)                 65        \n",
      "=================================================================\n",
      "Total params: 6,593\n",
      "Trainable params: 6,593\n",
      "Non-trainable params: 0\n",
      "_________________________________________________________________\n"
     ]
    }
   ],
   "source": [
    "# DEFINITION OF THE MODEL\n",
    "\n",
    "# The weights of our neural network will be initialized in a random manner, using a seed allows for reproducibility\n",
    "kernel_init = initializers.RandomNormal(seed=0)\n",
    "# In a sequential model, the first layer must specify the input shape the model will expect; \n",
    "# in this case the value is train_values.shape[1] which is the number\n",
    "# of attributes (properties) and equals 17.\n",
    "\n",
    "model = Sequential()\n",
    "model.add(Dense(32, activation='relu', input_shape=(train_values.shape[1], ), kernel_initializer=kernel_init))\n",
    "model.add(Dense(64, activation='relu', kernel_initializer=kernel_init))\n",
    "model.add(Dense(64, activation='relu', kernel_initializer=kernel_init))\n",
    "model.add(Dense(1, kernel_initializer=kernel_init))\n",
    "\n",
    "# DEFINITION OF THE OPTIMIZER\n",
    "\n",
    "optimizer = optimizers.RMSprop(0.002) # Root Mean Squared Propagation\n",
    "\n",
    "# This line matches the optimizer to the model and states which metrics will evaluate the model's accuracy\n",
    "model.compile(loss='mae', optimizer=optimizer, metrics=['mae'])\n",
    "model.summary()"
   ]
  },
  {
   "cell_type": "markdown",
   "metadata": {},
   "source": [
    "#### TRAINING \n",
    "\n",
    "This model is trained for 2000 epochs, and we record the training accuracy in the history object.\n",
    "\n",
    "One **Epoch** occurs when you pass the entire dataset through the model. One **Batch** contains a subset of the dataset that can be fed to the model at the same time. A more detailed explanation of these concepts can be found in this [blog](https://towardsdatascience.com/epoch-vs-iterations-vs-batch-size-4dfb9c7ce9c9). As we have a really small dataset compared to the ones that are usually considered to be modeled by these neural networks, we are feeding all entries at the same time, so our batch is the entire dataset, and an epoch occurs when the batch is processed.\n",
    "\n",
    "This way, by plotting \"history\" we can see the evolution of the \"learning\" of the model, that is the decrease of the Mean Absolute Error. Models in Keras are fitted to the training set using the [**fit**](https://keras.io/models/model/#fit) method.\n",
    "\n",
    "The blue curve that will come up from the History object represents how the model is learning on the training data, and the orange curve represents the validation loss, which can be thought of as the way our model evaluates data that it was not trained in. This validation loss would start going up again when we start to overfit our data."
   ]
  },
  {
   "cell_type": "code",
   "execution_count": 8,
   "metadata": {},
   "outputs": [
    {
     "name": "stdout",
     "output_type": "stream",
     "text": [
      "Current Epoch: 2000 Training Loss: 4.775558                                       \r"
     ]
    },
    {
     "data": {
      "image/png": "[encoded data removed]",
      "text/plain": [
       "<Figure size 432x288 with 1 Axes>"
      ]
     },
     "metadata": {
      "needs_background": "light"
     },
     "output_type": "display_data"
    }
   ],
   "source": [
    "# EPOCH REAL TIME COUNTER CLASS\n",
    "class PrintEpNum(tf.keras.callbacks.Callback): # This is a function for the Epoch Counter\n",
    "    def on_epoch_end(self, epoch, logs):\n",
    "        sys.stdout.flush()\n",
    "        sys.stdout.write(\"Current Epoch: \" + str(epoch+1) + \" Training Loss: \" + \"%4f\" %logs.get('loss') + '                                       \\r') # Updates current Epoch Number\n",
    "\n",
    "EPOCHS = 2000 # Number of EPOCHS\n",
    "\n",
    "# HISTORY Object which contains how the model learned\n",
    "\n",
    "# Training Values (Properties), Training Labels (Known Young's Moduli) \n",
    "history = model.fit(train_values, train_labels, batch_size=train_values.shape[0], \n",
    "                    epochs=EPOCHS, verbose = False, validation_split=0.1, callbacks=[PrintEpNum()])\n",
    "\n",
    "\n",
    "# PLOTTING HISTORY USING MATPLOTLIB\n",
    "\n",
    "plt.figure()\n",
    "plt.xlabel('Epoch')\n",
    "plt.ylabel('Mean Abs Error')\n",
    "plt.plot(history.epoch, np.array(history.history['mean_absolute_error']),label='Loss on training set') \n",
    "plt.plot(history.epoch, np.array(history.history['val_mean_absolute_error']),label = 'Validation loss')\n",
    "plt.legend()\n",
    "plt.show()"
   ]
  },
  {
   "cell_type": "markdown",
   "metadata": {},
   "source": [
    "#### SAVING A MODEL\n",
    "\n",
    "Compiled and trained models in Keras can be saved and distributed in .h5 files using the `model.save()` method. Running the cell below will save the current model we trained, both weights and architecture to your home directory."
   ]
  },
  {
   "cell_type": "code",
   "execution_count": 9,
   "metadata": {},
   "outputs": [],
   "source": [
    "model.save(os.path.expanduser('~/model.h5'))"
   ]
  },
  {
   "cell_type": "markdown",
   "metadata": {},
   "source": [
    "#### TESTING\n",
    "\n",
    "Models in Keras are tested using the method [**evaluate**](https://keras.io/models/model/#evaluate). This method returns the testing loss of the model and the metrics we specified when creating it,  which in our case it's the Mean Absolute Error. For the original model in this tutorial you should get a value of around **20 GPa** for the Mean Absolute Error. This value would decrease with more training data, more attributes/features, or a different optimizer. In the case of a model that overfits, you can expect values to start increasing to around **30 or 40 GPa**."
   ]
  },
  {
   "cell_type": "code",
   "execution_count": 10,
   "metadata": {},
   "outputs": [
    {
     "name": "stdout",
     "output_type": "stream",
     "text": [
      "Testing Set Mean Absolute Error: 23.291 GPa\n"
     ]
    }
   ],
   "source": [
    "[loss, mae] = model.evaluate(test_values, test_labels, verbose=0)\n",
    "\n",
    "print(\"Testing Set Mean Absolute Error: {:2.3f} GPa\".format(mae))"
   ]
  },
  {
   "cell_type": "markdown",
   "metadata": {},
   "source": [
    "#### MAKING PREDICTIONS\n",
    "\n",
    "The last step in a regression model is to make predictions for values not in the training set, which are determined by the method [**predict**](https://keras.io/models/model/#predict). In the following cell we print the elements in the testing set, the real values for their Young's moduli and the predictions generated by our machine learned model."
   ]
  },
  {
   "cell_type": "code",
   "execution_count": 11,
   "metadata": {},
   "outputs": [
    {
     "name": "stdout",
     "output_type": "stream",
     "text": [
      "Elements in Test Set:  ['Li2WO4', 'CdWO4', 'FeWO4', 'CoBW', 'WSCl4', 'Rb2WCl6', 'W2NCl8', 'BeRu2W', 'TiRe2W', 'Ta2TcW', 'Ti2IrW', 'LaWN3', 'Sr2MgWO6', 'ZrTc2W', 'Sr2MgWO6', 'Ba2NiWO6']\n",
      "Real Values [69.16, 109.88, 143.64, 486.36, 2.54, 10.48, 2.72, 311.7800000000001, 373.76, 309.4000000000001, 234.0, 153.9, 181.44, 276.86, 199.12, 165.1]\n",
      "Predictions [80.46248, 111.4591, 148.44005, 474.1587, 102.59827, 15.434263, 47.03703, 309.8989, 365.5969, 296.23843, 218.9402, 132.80473, 270.71085, 266.1181, 228.42052, 160.33199]\n"
     ]
    }
   ],
   "source": [
    "test_predictions = model.predict(test_values).flatten()\n",
    "\n",
    "print(\"Elements in Test Set: \", labeled_elements)\n",
    "print(\"Real Values\", list(test_labels))\n",
    "print(\"Predictions\", list(test_predictions))\n",
    "\n",
    "values = np.concatenate((train_values, test_values), axis=0) # This line joins the values together to evaluate all of them\n",
    "predictions = model.predict(values).flatten()"
   ]
  },
  {
   "cell_type": "markdown",
   "metadata": {},
   "source": [
    "### 4. Plotting\n",
    "\n",
    "The easiest way to see if the model did a good job estimating the Young's Modulus for the Elements is through a plot comparing Real Values with their Predictions. We will use [Plotly](https://plot.ly/python/) to create a plot like that. We covered how to plot in Plotly in the first tutorial of this tool. For values in this plot, the line (x = y) indicates a perfect match and would be the desirable result for the points. As you analyze the plot, you can hover on the points to see the data we obtained in the cell above."
   ]
  },
  {
   "cell_type": "code",
   "execution_count": 12,
   "metadata": {},
   "outputs": [
    {
     "data": {
      "text/html": [
       "        <script type=\"text/javascript\">\n",
       "        window.PlotlyConfig = {MathJaxConfig: 'local'};\n",
       "        if (window.MathJax) {MathJax.Hub.Config({SVG: {font: \"STIX-Web\"}});}\n",
       "        if (typeof require !== 'undefined') {\n",
       "        require.undef(\"plotly\");\n",
       "        requirejs.config({\n",
       "            paths: {\n",
       "                'plotly': ['https://cdn.plot.ly/plotly-latest.min']\n",
       "            }\n",
       "        });\n",
       "        require(['plotly'], function(Plotly) {\n",
       "            window._Plotly = Plotly;\n",
       "        });\n",
       "        }\n",
       "        </script>\n",
       "        "
      ]
     },
     "metadata": {},
     "output_type": "display_data"
    },
    {
     "data": {
      "application/vnd.plotly.v1+json": {
       "config": {
        "linkText": "Export to plot.ly",
        "plotlyServerURL": "https://plot.ly",
        "showLink": false
       },
       "data": [
        {
         "marker": {
          "color": "blue",
          "size": 12
         },
         "mode": "markers",
         "name": "Young's Modulus (Training)",
         "text": [
          "WS2",
          "WSe2",
          "Sr3WN3",
          "BW2",
          "Al12W",
          "Be2W",
          "P2W",
          "As3W2",
          "HfW2",
          "Si2W",
          "WSe2",
          "WO3",
          "WC",
          "SrWO4",
          "MnWO4",
          "WO3",
          "Co3W",
          "WS2",
          "Te2W",
          "WCl6",
          "PW",
          "Rb2WBr6",
          "Al5W",
          "IrW",
          "Ir3W",
          "Ni4W",
          "Rh3W",
          "WO3",
          "Be12W",
          "B2W",
          "ZrW2",
          "BW",
          "AlFe2W",
          "Ru3W",
          "TiTc2W",
          "Mn2GaW",
          "TaW3",
          "WS2",
          "Na2WO4",
          "MgWO4",
          "ZnWO4",
          "BaWO4",
          "Mn(BW)2",
          "Co(BW)3",
          "Tl2WCl6",
          "Cs2WCl6",
          "Li6WN4",
          "Cs2WBr6",
          "K3WF6",
          "K2WCl6",
          "Co(BW)2",
          "LiRu2W",
          "ScTc2W",
          "Ta2OsW",
          "Mn2AlW",
          "TiMn2W",
          "HfTc2W",
          "SiTc2W",
          "Nb2RuW",
          "Y6WO12",
          "Li2WO4",
          "CdWO4",
          "FeWO4",
          "CoBW",
          "WSCl4",
          "Rb2WCl6",
          "W2NCl8",
          "BeRu2W",
          "TiRe2W",
          "Ta2TcW",
          "Ti2IrW",
          "LaWN3",
          "Sr2MgWO6",
          "ZrTc2W",
          "Sr2MgWO6",
          "Ba2NiWO6"
         ],
         "type": "scatter",
         "x": [
          5.84,
          31.46,
          76.2,
          395.2,
          141.36,
          404.6,
          319.44,
          187.96,
          248.16000000000003,
          438.48,
          45.2,
          173.72,
          675.18,
          75.4,
          144.1,
          258.56,
          363.52,
          48,
          31.98,
          0,
          299.52,
          11.04,
          233.24,
          464.82,
          490.22,
          258.72,
          343.2,
          216.48,
          347.6,
          546.56,
          229.68,
          493.92,
          175.36,
          414.72,
          330.24,
          291.8400000000001,
          353.06,
          48.4,
          71.12,
          179.20000000000005,
          143.64,
          62.88,
          467.5,
          507.5,
          13.599999999999998,
          10.48,
          160.48,
          8.34,
          8.7,
          10.8,
          515.84,
          226.1,
          223.44,
          343.14,
          322.58,
          309.6,
          307.02,
          259.96000000000004,
          284.76,
          169,
          69.16,
          109.88,
          143.64,
          486.36,
          2.54,
          10.48,
          2.72,
          311.7800000000001,
          373.76,
          309.4000000000001,
          234,
          153.9,
          181.44,
          276.86,
          199.12,
          165.1
         ],
         "y": [
          11.8651704788208,
          31.030269622802734,
          74.7789535522461,
          394.9521789550781,
          141.56199645996094,
          394.3667297363281,
          318.8534851074219,
          183.31834411621094,
          241.01771545410156,
          436.2082214355469,
          47.15658950805664,
          172.32131958007812,
          651.5667114257812,
          76.0936279296875,
          139.407958984375,
          255.86520385742188,
          357.6612854003906,
          46.790157318115234,
          31.920988082885742,
          0.7166421413421631,
          290.1315612792969,
          11.48235034942627,
          226.17578125,
          453.1473693847656,
          478.11444091796875,
          248.96627807617188,
          337.82733154296875,
          214.35313415527344,
          347.0224914550781,
          531.64306640625,
          224.438232421875,
          484.2940368652344,
          175.5313262939453,
          407.139892578125,
          325.8617248535156,
          285.70672607421875,
          340.2774353027344,
          47.404541015625,
          73.76033782958984,
          180.98818969726562,
          147.7050323486328,
          64.2530517578125,
          453.5799865722656,
          496.08062744140625,
          16.105426788330078,
          13.135353088378906,
          161.6040496826172,
          9.43989372253418,
          11.770703315734863,
          14.44943618774414,
          505.1153564453125,
          223.7814178466797,
          220.33770751953125,
          334.970947265625,
          318.7315673828125,
          302.30157470703125,
          298.4002685546875,
          272.0970764160156,
          278.65179443359375,
          178.99290466308594,
          80.46247863769531,
          111.45909881591797,
          148.44004821777344,
          474.15869140625,
          102.5982666015625,
          15.434263229370117,
          47.03702926635742,
          309.8988952636719,
          365.5968933105469,
          296.2384338378906,
          218.94020080566406,
          132.8047332763672,
          270.7108459472656,
          266.11810302734375,
          228.42051696777344,
          160.3319854736328
         ]
        },
        {
         "marker": {
          "color": "red",
          "size": 12
         },
         "mode": "markers",
         "name": "Young's Modulus (Testing)",
         "text": [
          "Li2WO4",
          "CdWO4",
          "FeWO4",
          "CoBW",
          "WSCl4",
          "Rb2WCl6",
          "W2NCl8",
          "BeRu2W",
          "TiRe2W",
          "Ta2TcW",
          "Ti2IrW",
          "LaWN3",
          "Sr2MgWO6",
          "ZrTc2W",
          "Sr2MgWO6",
          "Ba2NiWO6"
         ],
         "type": "scatter",
         "x": [
          69.16,
          109.88,
          143.64,
          486.36,
          2.54,
          10.48,
          2.72,
          311.7800000000001,
          373.76,
          309.4000000000001,
          234,
          153.9,
          181.44,
          276.86,
          199.12,
          165.1
         ],
         "y": [
          80.46247863769531,
          111.45909881591797,
          148.44004821777344,
          474.15869140625,
          102.5982666015625,
          15.434263229370117,
          47.03702926635742,
          309.8988952636719,
          365.5968933105469,
          296.2384338378906,
          218.94020080566406,
          132.8047332763672,
          270.7108459472656,
          266.11810302734375,
          228.42051696777344,
          160.3319854736328
         ]
        },
        {
         "mode": "lines",
         "name": "Match",
         "type": "scatter",
         "x": [
          0,
          700
         ],
         "y": [
          0,
          700
         ]
        }
       ],
       "layout": {
        "height": 600,
        "hovermode": "closest",
        "legend": {
         "font": {
          "size": 24
         }
        },
        "showlegend": true,
        "template": {
         "data": {
          "bar": [
           {
            "error_x": {
             "color": "#2a3f5f"
            },
            "error_y": {
             "color": "#2a3f5f"
            },
            "marker": {
             "line": {
              "color": "#E5ECF6",
              "width": 0.5
             }
            },
            "type": "bar"
           }
          ],
          "barpolar": [
           {
            "marker": {
             "line": {
              "color": "#E5ECF6",
              "width": 0.5
             }
            },
            "type": "barpolar"
           }
          ],
          "carpet": [
           {
            "aaxis": {
             "endlinecolor": "#2a3f5f",
             "gridcolor": "white",
             "linecolor": "white",
             "minorgridcolor": "white",
             "startlinecolor": "#2a3f5f"
            },
            "baxis": {
             "endlinecolor": "#2a3f5f",
             "gridcolor": "white",
             "linecolor": "white",
             "minorgridcolor": "white",
             "startlinecolor": "#2a3f5f"
            },
            "type": "carpet"
           }
          ],
          "choropleth": [
           {
            "colorbar": {
             "outlinewidth": 0,
             "ticks": ""
            },
            "type": "choropleth"
           }
          ],
          "contour": [
           {
            "colorbar": {
             "outlinewidth": 0,
             "ticks": ""
            },
            "colorscale": [
             [
              0,
              "#0d0887"
             ],
             [
              0.1111111111111111,
              "#46039f"
             ],
             [
              0.2222222222222222,
              "#7201a8"
             ],
             [
              0.3333333333333333,
              "#9c179e"
             ],
             [
              0.4444444444444444,
              "#bd3786"
             ],
             [
              0.5555555555555556,
              "#d8576b"
             ],
             [
              0.6666666666666666,
              "#ed7953"
             ],
             [
              0.7777777777777778,
              "#fb9f3a"
             ],
             [
              0.8888888888888888,
              "#fdca26"
             ],
             [
              1,
              "#f0f921"
             ]
            ],
            "type": "contour"
           }
          ],
          "contourcarpet": [
           {
            "colorbar": {
             "outlinewidth": 0,
             "ticks": ""
            },
            "type": "contourcarpet"
           }
          ],
          "heatmap": [
           {
            "colorbar": {
             "outlinewidth": 0,
             "ticks": ""
            },
            "colorscale": [
             [
              0,
              "#0d0887"
             ],
             [
              0.1111111111111111,
              "#46039f"
             ],
             [
              0.2222222222222222,
              "#7201a8"
             ],
             [
              0.3333333333333333,
              "#9c179e"
             ],
             [
              0.4444444444444444,
              "#bd3786"
             ],
             [
              0.5555555555555556,
              "#d8576b"
             ],
             [
              0.6666666666666666,
              "#ed7953"
             ],
             [
              0.7777777777777778,
              "#fb9f3a"
             ],
             [
              0.8888888888888888,
              "#fdca26"
             ],
             [
              1,
              "#f0f921"
             ]
            ],
            "type": "heatmap"
           }
          ],
          "heatmapgl": [
           {
            "colorbar": {
             "outlinewidth": 0,
             "ticks": ""
            },
            "colorscale": [
             [
              0,
              "#0d0887"
             ],
             [
              0.1111111111111111,
              "#46039f"
             ],
             [
              0.2222222222222222,
              "#7201a8"
             ],
             [
              0.3333333333333333,
              "#9c179e"
             ],
             [
              0.4444444444444444,
              "#bd3786"
             ],
             [
              0.5555555555555556,
              "#d8576b"
             ],
             [
              0.6666666666666666,
              "#ed7953"
             ],
             [
              0.7777777777777778,
              "#fb9f3a"
             ],
             [
              0.8888888888888888,
              "#fdca26"
             ],
             [
              1,
              "#f0f921"
             ]
            ],
            "type": "heatmapgl"
           }
          ],
          "histogram": [
           {
            "marker": {
             "colorbar": {
              "outlinewidth": 0,
              "ticks": ""
             }
            },
            "type": "histogram"
           }
          ],
          "histogram2d": [
           {
            "colorbar": {
             "outlinewidth": 0,
             "ticks": ""
            },
            "colorscale": [
             [
              0,
              "#0d0887"
             ],
             [
              0.1111111111111111,
              "#46039f"
             ],
             [
              0.2222222222222222,
              "#7201a8"
             ],
             [
              0.3333333333333333,
              "#9c179e"
             ],
             [
              0.4444444444444444,
              "#bd3786"
             ],
             [
              0.5555555555555556,
              "#d8576b"
             ],
             [
              0.6666666666666666,
              "#ed7953"
             ],
             [
              0.7777777777777778,
              "#fb9f3a"
             ],
             [
              0.8888888888888888,
              "#fdca26"
             ],
             [
              1,
              "#f0f921"
             ]
            ],
            "type": "histogram2d"
           }
          ],
          "histogram2dcontour": [
           {
            "colorbar": {
             "outlinewidth": 0,
             "ticks": ""
            },
            "colorscale": [
             [
              0,
              "#0d0887"
             ],
             [
              0.1111111111111111,
              "#46039f"
             ],
             [
              0.2222222222222222,
              "#7201a8"
             ],
             [
              0.3333333333333333,
              "#9c179e"
             ],
             [
              0.4444444444444444,
              "#bd3786"
             ],
             [
              0.5555555555555556,
              "#d8576b"
             ],
             [
              0.6666666666666666,
              "#ed7953"
             ],
             [
              0.7777777777777778,
              "#fb9f3a"
             ],
             [
              0.8888888888888888,
              "#fdca26"
             ],
             [
              1,
              "#f0f921"
             ]
            ],
            "type": "histogram2dcontour"
           }
          ],
          "mesh3d": [
           {
            "colorbar": {
             "outlinewidth": 0,
             "ticks": ""
            },
            "type": "mesh3d"
           }
          ],
          "parcoords": [
           {
            "line": {
             "colorbar": {
              "outlinewidth": 0,
              "ticks": ""
             }
            },
            "type": "parcoords"
           }
          ],
          "pie": [
           {
            "automargin": true,
            "type": "pie"
           }
          ],
          "scatter": [
           {
            "marker": {
             "colorbar": {
              "outlinewidth": 0,
              "ticks": ""
             }
            },
            "type": "scatter"
           }
          ],
          "scatter3d": [
           {
            "line": {
             "colorbar": {
              "outlinewidth": 0,
              "ticks": ""
             }
            },
            "marker": {
             "colorbar": {
              "outlinewidth": 0,
              "ticks": ""
             }
            },
            "type": "scatter3d"
           }
          ],
          "scattercarpet": [
           {
            "marker": {
             "colorbar": {
              "outlinewidth": 0,
              "ticks": ""
             }
            },
            "type": "scattercarpet"
           }
          ],
          "scattergeo": [
           {
            "marker": {
             "colorbar": {
              "outlinewidth": 0,
              "ticks": ""
             }
            },
            "type": "scattergeo"
           }
          ],
          "scattergl": [
           {
            "marker": {
             "colorbar": {
              "outlinewidth": 0,
              "ticks": ""
             }
            },
            "type": "scattergl"
           }
          ],
          "scattermapbox": [
           {
            "marker": {
             "colorbar": {
              "outlinewidth": 0,
              "ticks": ""
             }
            },
            "type": "scattermapbox"
           }
          ],
          "scatterpolar": [
           {
            "marker": {
             "colorbar": {
              "outlinewidth": 0,
              "ticks": ""
             }
            },
            "type": "scatterpolar"
           }
          ],
          "scatterpolargl": [
           {
            "marker": {
             "colorbar": {
              "outlinewidth": 0,
              "ticks": ""
             }
            },
            "type": "scatterpolargl"
           }
          ],
          "scatterternary": [
           {
            "marker": {
             "colorbar": {
              "outlinewidth": 0,
              "ticks": ""
             }
            },
            "type": "scatterternary"
           }
          ],
          "surface": [
           {
            "colorbar": {
             "outlinewidth": 0,
             "ticks": ""
            },
            "colorscale": [
             [
              0,
              "#0d0887"
             ],
             [
              0.1111111111111111,
              "#46039f"
             ],
             [
              0.2222222222222222,
              "#7201a8"
             ],
             [
              0.3333333333333333,
              "#9c179e"
             ],
             [
              0.4444444444444444,
              "#bd3786"
             ],
             [
              0.5555555555555556,
              "#d8576b"
             ],
             [
              0.6666666666666666,
              "#ed7953"
             ],
             [
              0.7777777777777778,
              "#fb9f3a"
             ],
             [
              0.8888888888888888,
              "#fdca26"
             ],
             [
              1,
              "#f0f921"
             ]
            ],
            "type": "surface"
           }
          ],
          "table": [
           {
            "cells": {
             "fill": {
              "color": "#EBF0F8"
             },
             "line": {
              "color": "white"
             }
            },
            "header": {
             "fill": {
              "color": "#C8D4E3"
             },
             "line": {
              "color": "white"
             }
            },
            "type": "table"
           }
          ]
         },
         "layout": {
          "annotationdefaults": {
           "arrowcolor": "#2a3f5f",
           "arrowhead": 0,
           "arrowwidth": 1
          },
          "coloraxis": {
           "colorbar": {
            "outlinewidth": 0,
            "ticks": ""
           }
          },
          "colorscale": {
           "diverging": [
            [
             0,
             "#8e0152"
            ],
            [
             0.1,
             "#c51b7d"
            ],
            [
             0.2,
             "#de77ae"
            ],
            [
             0.3,
             "#f1b6da"
            ],
            [
             0.4,
             "#fde0ef"
            ],
            [
             0.5,
             "#f7f7f7"
            ],
            [
             0.6,
             "#e6f5d0"
            ],
            [
             0.7,
             "#b8e186"
            ],
            [
             0.8,
             "#7fbc41"
            ],
            [
             0.9,
             "#4d9221"
            ],
            [
             1,
             "#276419"
            ]
           ],
           "sequential": [
            [
             0,
             "#0d0887"
            ],
            [
             0.1111111111111111,
             "#46039f"
            ],
            [
             0.2222222222222222,
             "#7201a8"
            ],
            [
             0.3333333333333333,
             "#9c179e"
            ],
            [
             0.4444444444444444,
             "#bd3786"
            ],
            [
             0.5555555555555556,
             "#d8576b"
            ],
            [
             0.6666666666666666,
             "#ed7953"
            ],
            [
             0.7777777777777778,
             "#fb9f3a"
            ],
            [
             0.8888888888888888,
             "#fdca26"
            ],
            [
             1,
             "#f0f921"
            ]
           ],
           "sequentialminus": [
            [
             0,
             "#0d0887"
            ],
            [
             0.1111111111111111,
             "#46039f"
            ],
            [
             0.2222222222222222,
             "#7201a8"
            ],
            [
             0.3333333333333333,
             "#9c179e"
            ],
            [
             0.4444444444444444,
             "#bd3786"
            ],
            [
             0.5555555555555556,
             "#d8576b"
            ],
            [
             0.6666666666666666,
             "#ed7953"
            ],
            [
             0.7777777777777778,
             "#fb9f3a"
            ],
            [
             0.8888888888888888,
             "#fdca26"
            ],
            [
             1,
             "#f0f921"
            ]
           ]
          },
          "colorway": [
           "#636efa",
           "#EF553B",
           "#00cc96",
           "#ab63fa",
           "#FFA15A",
           "#19d3f3",
           "#FF6692",
           "#B6E880",
           "#FF97FF",
           "#FECB52"
          ],
          "font": {
           "color": "#2a3f5f"
          },
          "geo": {
           "bgcolor": "white",
           "lakecolor": "white",
           "landcolor": "#E5ECF6",
           "showlakes": true,
           "showland": true,
           "subunitcolor": "white"
          },
          "hoverlabel": {
           "align": "left"
          },
          "hovermode": "closest",
          "mapbox": {
           "style": "light"
          },
          "paper_bgcolor": "white",
          "plot_bgcolor": "#E5ECF6",
          "polar": {
           "angularaxis": {
            "gridcolor": "white",
            "linecolor": "white",
            "ticks": ""
           },
           "bgcolor": "#E5ECF6",
           "radialaxis": {
            "gridcolor": "white",
            "linecolor": "white",
            "ticks": ""
           }
          },
          "scene": {
           "xaxis": {
            "backgroundcolor": "#E5ECF6",
            "gridcolor": "white",
            "gridwidth": 2,
            "linecolor": "white",
            "showbackground": true,
            "ticks": "",
            "zerolinecolor": "white"
           },
           "yaxis": {
            "backgroundcolor": "#E5ECF6",
            "gridcolor": "white",
            "gridwidth": 2,
            "linecolor": "white",
            "showbackground": true,
            "ticks": "",
            "zerolinecolor": "white"
           },
           "zaxis": {
            "backgroundcolor": "#E5ECF6",
            "gridcolor": "white",
            "gridwidth": 2,
            "linecolor": "white",
            "showbackground": true,
            "ticks": "",
            "zerolinecolor": "white"
           }
          },
          "shapedefaults": {
           "line": {
            "color": "#2a3f5f"
           }
          },
          "ternary": {
           "aaxis": {
            "gridcolor": "white",
            "linecolor": "white",
            "ticks": ""
           },
           "baxis": {
            "gridcolor": "white",
            "linecolor": "white",
            "ticks": ""
           },
           "bgcolor": "#E5ECF6",
           "caxis": {
            "gridcolor": "white",
            "linecolor": "white",
            "ticks": ""
           }
          },
          "title": {
           "x": 0.05
          },
          "xaxis": {
           "automargin": true,
           "gridcolor": "white",
           "linecolor": "white",
           "ticks": "",
           "title": {
            "standoff": 15
           },
           "zerolinecolor": "white",
           "zerolinewidth": 2
          },
          "yaxis": {
           "automargin": true,
           "gridcolor": "white",
           "linecolor": "white",
           "ticks": "",
           "title": {
            "standoff": 15
           },
           "zerolinecolor": "white",
           "zerolinewidth": 2
          }
         }
        },
        "title": {
         "font": {
          "size": 28
         },
         "text": "Neural Network Model - W compounds Young's Modulus"
        },
        "width": 1000,
        "xaxis": {
         "gridwidth": 1,
         "tickfont": {
          "size": 18
         },
         "title": {
          "font": {
           "size": 24
          },
          "text": "Real Values (GPa)"
         },
         "zeroline": false
        },
        "yaxis": {
         "gridwidth": 1,
         "tickfont": {
          "size": 18
         },
         "title": {
          "font": {
           "size": 24
          },
          "text": "Prediction (GPa)"
         },
         "zeroline": false
        }
       }
      },
      "text/html": [
       "<div>\n",
       "        \n",
       "        \n",
       "            <div id=\"d4680cbc-0ab1-4add-abc5-6f3be5c8e91e\" class=\"plotly-graph-div\" style=\"height:600px; width:1000px;\"></div>\n",
       "            <script type=\"text/javascript\">\n",
       "                require([\"plotly\"], function(Plotly) {\n",
       "                    window.PLOTLYENV=window.PLOTLYENV || {};\n",
       "                    \n",
       "                if (document.getElementById(\"d4680cbc-0ab1-4add-abc5-6f3be5c8e91e\")) {\n",
       "                    Plotly.newPlot(\n",
       "                        'd4680cbc-0ab1-4add-abc5-6f3be5c8e91e',\n",
       "                        [{\"marker\": {\"color\": \"blue\", \"size\": 12}, \"mode\": \"markers\", \"name\": \"Young's Modulus (Training)\", \"text\": [\"WS2\", \"WSe2\", \"Sr3WN3\", \"BW2\", \"Al12W\", \"Be2W\", \"P2W\", \"As3W2\", \"HfW2\", \"Si2W\", \"WSe2\", \"WO3\", \"WC\", \"SrWO4\", \"MnWO4\", \"WO3\", \"Co3W\", \"WS2\", \"Te2W\", \"WCl6\", \"PW\", \"Rb2WBr6\", \"Al5W\", \"IrW\", \"Ir3W\", \"Ni4W\", \"Rh3W\", \"WO3\", \"Be12W\", \"B2W\", \"ZrW2\", \"BW\", \"AlFe2W\", \"Ru3W\", \"TiTc2W\", \"Mn2GaW\", \"TaW3\", \"WS2\", \"Na2WO4\", \"MgWO4\", \"ZnWO4\", \"BaWO4\", \"Mn(BW)2\", \"Co(BW)3\", \"Tl2WCl6\", \"Cs2WCl6\", \"Li6WN4\", \"Cs2WBr6\", \"K3WF6\", \"K2WCl6\", \"Co(BW)2\", \"LiRu2W\", \"ScTc2W\", \"Ta2OsW\", \"Mn2AlW\", \"TiMn2W\", \"HfTc2W\", \"SiTc2W\", \"Nb2RuW\", \"Y6WO12\", \"Li2WO4\", \"CdWO4\", \"FeWO4\", \"CoBW\", \"WSCl4\", \"Rb2WCl6\", \"W2NCl8\", \"BeRu2W\", \"TiRe2W\", \"Ta2TcW\", \"Ti2IrW\", \"LaWN3\", \"Sr2MgWO6\", \"ZrTc2W\", \"Sr2MgWO6\", \"Ba2NiWO6\"], \"type\": \"scatter\", \"x\": [5.84, 31.46, 76.2, 395.2, 141.36, 404.6, 319.44, 187.96, 248.16000000000003, 438.48, 45.2, 173.72, 675.18, 75.4, 144.1, 258.56, 363.52, 48.0, 31.98, 0.0, 299.52, 11.04, 233.24, 464.82, 490.22, 258.72, 343.2, 216.48, 347.6, 546.56, 229.68, 493.92, 175.36, 414.72, 330.24, 291.8400000000001, 353.06, 48.4, 71.12, 179.20000000000005, 143.64, 62.88, 467.5, 507.5, 13.599999999999998, 10.48, 160.48, 8.34, 8.7, 10.8, 515.84, 226.1, 223.44, 343.14, 322.58, 309.6, 307.02, 259.96000000000004, 284.76, 169.0, 69.16, 109.88, 143.64, 486.36, 2.54, 10.48, 2.72, 311.7800000000001, 373.76, 309.4000000000001, 234.0, 153.9, 181.44, 276.86, 199.12, 165.1], \"y\": [11.8651704788208, 31.030269622802734, 74.7789535522461, 394.9521789550781, 141.56199645996094, 394.3667297363281, 318.8534851074219, 183.31834411621094, 241.01771545410156, 436.2082214355469, 47.15658950805664, 172.32131958007812, 651.5667114257812, 76.0936279296875, 139.407958984375, 255.86520385742188, 357.6612854003906, 46.790157318115234, 31.920988082885742, 0.7166421413421631, 290.1315612792969, 11.48235034942627, 226.17578125, 453.1473693847656, 478.11444091796875, 248.96627807617188, 337.82733154296875, 214.35313415527344, 347.0224914550781, 531.64306640625, 224.438232421875, 484.2940368652344, 175.5313262939453, 407.139892578125, 325.8617248535156, 285.70672607421875, 340.2774353027344, 47.404541015625, 73.76033782958984, 180.98818969726562, 147.7050323486328, 64.2530517578125, 453.5799865722656, 496.08062744140625, 16.105426788330078, 13.135353088378906, 161.6040496826172, 9.43989372253418, 11.770703315734863, 14.44943618774414, 505.1153564453125, 223.7814178466797, 220.33770751953125, 334.970947265625, 318.7315673828125, 302.30157470703125, 298.4002685546875, 272.0970764160156, 278.65179443359375, 178.99290466308594, 80.46247863769531, 111.45909881591797, 148.44004821777344, 474.15869140625, 102.5982666015625, 15.434263229370117, 47.03702926635742, 309.8988952636719, 365.5968933105469, 296.2384338378906, 218.94020080566406, 132.8047332763672, 270.7108459472656, 266.11810302734375, 228.42051696777344, 160.3319854736328]}, {\"marker\": {\"color\": \"red\", \"size\": 12}, \"mode\": \"markers\", \"name\": \"Young's Modulus (Testing)\", \"text\": [\"Li2WO4\", \"CdWO4\", \"FeWO4\", \"CoBW\", \"WSCl4\", \"Rb2WCl6\", \"W2NCl8\", \"BeRu2W\", \"TiRe2W\", \"Ta2TcW\", \"Ti2IrW\", \"LaWN3\", \"Sr2MgWO6\", \"ZrTc2W\", \"Sr2MgWO6\", \"Ba2NiWO6\"], \"type\": \"scatter\", \"x\": [69.16, 109.88, 143.64, 486.36, 2.54, 10.48, 2.72, 311.7800000000001, 373.76, 309.4000000000001, 234.0, 153.9, 181.44, 276.86, 199.12, 165.1], \"y\": [80.46247863769531, 111.45909881591797, 148.44004821777344, 474.15869140625, 102.5982666015625, 15.434263229370117, 47.03702926635742, 309.8988952636719, 365.5968933105469, 296.2384338378906, 218.94020080566406, 132.8047332763672, 270.7108459472656, 266.11810302734375, 228.42051696777344, 160.3319854736328]}, {\"mode\": \"lines\", \"name\": \"Match\", \"type\": \"scatter\", \"x\": [0, 700], \"y\": [0, 700]}],\n",
       "                        {\"height\": 600, \"hovermode\": \"closest\", \"legend\": {\"font\": {\"size\": 24}}, \"showlegend\": true, \"template\": {\"data\": {\"bar\": [{\"error_x\": {\"color\": \"#2a3f5f\"}, \"error_y\": {\"color\": \"#2a3f5f\"}, \"marker\": {\"line\": {\"color\": \"#E5ECF6\", \"width\": 0.5}}, \"type\": \"bar\"}], \"barpolar\": [{\"marker\": {\"line\": {\"color\": \"#E5ECF6\", \"width\": 0.5}}, \"type\": \"barpolar\"}], \"carpet\": [{\"aaxis\": {\"endlinecolor\": \"#2a3f5f\", \"gridcolor\": \"white\", \"linecolor\": \"white\", \"minorgridcolor\": \"white\", \"startlinecolor\": \"#2a3f5f\"}, \"baxis\": {\"endlinecolor\": \"#2a3f5f\", \"gridcolor\": \"white\", \"linecolor\": \"white\", \"minorgridcolor\": \"white\", \"startlinecolor\": \"#2a3f5f\"}, \"type\": \"carpet\"}], \"choropleth\": [{\"colorbar\": {\"outlinewidth\": 0, \"ticks\": \"\"}, \"type\": \"choropleth\"}], \"contour\": [{\"colorbar\": {\"outlinewidth\": 0, \"ticks\": \"\"}, \"colorscale\": [[0.0, \"#0d0887\"], [0.1111111111111111, \"#46039f\"], [0.2222222222222222, \"#7201a8\"], [0.3333333333333333, \"#9c179e\"], [0.4444444444444444, \"#bd3786\"], [0.5555555555555556, \"#d8576b\"], [0.6666666666666666, \"#ed7953\"], [0.7777777777777778, \"#fb9f3a\"], [0.8888888888888888, \"#fdca26\"], [1.0, \"#f0f921\"]], \"type\": \"contour\"}], \"contourcarpet\": [{\"colorbar\": {\"outlinewidth\": 0, \"ticks\": \"\"}, \"type\": \"contourcarpet\"}], \"heatmap\": [{\"colorbar\": {\"outlinewidth\": 0, \"ticks\": \"\"}, \"colorscale\": [[0.0, \"#0d0887\"], [0.1111111111111111, \"#46039f\"], [0.2222222222222222, \"#7201a8\"], [0.3333333333333333, \"#9c179e\"], [0.4444444444444444, \"#bd3786\"], [0.5555555555555556, \"#d8576b\"], [0.6666666666666666, \"#ed7953\"], [0.7777777777777778, \"#fb9f3a\"], [0.8888888888888888, \"#fdca26\"], [1.0, \"#f0f921\"]], \"type\": \"heatmap\"}], \"heatmapgl\": [{\"colorbar\": {\"outlinewidth\": 0, \"ticks\": \"\"}, \"colorscale\": [[0.0, \"#0d0887\"], [0.1111111111111111, \"#46039f\"], [0.2222222222222222, \"#7201a8\"], [0.3333333333333333, \"#9c179e\"], [0.4444444444444444, \"#bd3786\"], [0.5555555555555556, \"#d8576b\"], [0.6666666666666666, \"#ed7953\"], [0.7777777777777778, \"#fb9f3a\"], [0.8888888888888888, \"#fdca26\"], [1.0, \"#f0f921\"]], \"type\": \"heatmapgl\"}], \"histogram\": [{\"marker\": {\"colorbar\": {\"outlinewidth\": 0, \"ticks\": \"\"}}, \"type\": \"histogram\"}], \"histogram2d\": [{\"colorbar\": {\"outlinewidth\": 0, \"ticks\": \"\"}, \"colorscale\": [[0.0, \"#0d0887\"], [0.1111111111111111, \"#46039f\"], [0.2222222222222222, \"#7201a8\"], [0.3333333333333333, \"#9c179e\"], [0.4444444444444444, \"#bd3786\"], [0.5555555555555556, \"#d8576b\"], [0.6666666666666666, \"#ed7953\"], [0.7777777777777778, \"#fb9f3a\"], [0.8888888888888888, \"#fdca26\"], [1.0, \"#f0f921\"]], \"type\": \"histogram2d\"}], \"histogram2dcontour\": [{\"colorbar\": {\"outlinewidth\": 0, \"ticks\": \"\"}, \"colorscale\": [[0.0, \"#0d0887\"], [0.1111111111111111, \"#46039f\"], [0.2222222222222222, \"#7201a8\"], [0.3333333333333333, \"#9c179e\"], [0.4444444444444444, \"#bd3786\"], [0.5555555555555556, \"#d8576b\"], [0.6666666666666666, \"#ed7953\"], [0.7777777777777778, \"#fb9f3a\"], [0.8888888888888888, \"#fdca26\"], [1.0, \"#f0f921\"]], \"type\": \"histogram2dcontour\"}], \"mesh3d\": [{\"colorbar\": {\"outlinewidth\": 0, \"ticks\": \"\"}, \"type\": \"mesh3d\"}], \"parcoords\": [{\"line\": {\"colorbar\": {\"outlinewidth\": 0, \"ticks\": \"\"}}, \"type\": \"parcoords\"}], \"pie\": [{\"automargin\": true, \"type\": \"pie\"}], \"scatter\": [{\"marker\": {\"colorbar\": {\"outlinewidth\": 0, \"ticks\": \"\"}}, \"type\": \"scatter\"}], \"scatter3d\": [{\"line\": {\"colorbar\": {\"outlinewidth\": 0, \"ticks\": \"\"}}, \"marker\": {\"colorbar\": {\"outlinewidth\": 0, \"ticks\": \"\"}}, \"type\": \"scatter3d\"}], \"scattercarpet\": [{\"marker\": {\"colorbar\": {\"outlinewidth\": 0, \"ticks\": \"\"}}, \"type\": \"scattercarpet\"}], \"scattergeo\": [{\"marker\": {\"colorbar\": {\"outlinewidth\": 0, \"ticks\": \"\"}}, \"type\": \"scattergeo\"}], \"scattergl\": [{\"marker\": {\"colorbar\": {\"outlinewidth\": 0, \"ticks\": \"\"}}, \"type\": \"scattergl\"}], \"scattermapbox\": [{\"marker\": {\"colorbar\": {\"outlinewidth\": 0, \"ticks\": \"\"}}, \"type\": \"scattermapbox\"}], \"scatterpolar\": [{\"marker\": {\"colorbar\": {\"outlinewidth\": 0, \"ticks\": \"\"}}, \"type\": \"scatterpolar\"}], \"scatterpolargl\": [{\"marker\": {\"colorbar\": {\"outlinewidth\": 0, \"ticks\": \"\"}}, \"type\": \"scatterpolargl\"}], \"scatterternary\": [{\"marker\": {\"colorbar\": {\"outlinewidth\": 0, \"ticks\": \"\"}}, \"type\": \"scatterternary\"}], \"surface\": [{\"colorbar\": {\"outlinewidth\": 0, \"ticks\": \"\"}, \"colorscale\": [[0.0, \"#0d0887\"], [0.1111111111111111, \"#46039f\"], [0.2222222222222222, \"#7201a8\"], [0.3333333333333333, \"#9c179e\"], [0.4444444444444444, \"#bd3786\"], [0.5555555555555556, \"#d8576b\"], [0.6666666666666666, \"#ed7953\"], [0.7777777777777778, \"#fb9f3a\"], [0.8888888888888888, \"#fdca26\"], [1.0, \"#f0f921\"]], \"type\": \"surface\"}], \"table\": [{\"cells\": {\"fill\": {\"color\": \"#EBF0F8\"}, \"line\": {\"color\": \"white\"}}, \"header\": {\"fill\": {\"color\": \"#C8D4E3\"}, \"line\": {\"color\": \"white\"}}, \"type\": \"table\"}]}, \"layout\": {\"annotationdefaults\": {\"arrowcolor\": \"#2a3f5f\", \"arrowhead\": 0, \"arrowwidth\": 1}, \"coloraxis\": {\"colorbar\": {\"outlinewidth\": 0, \"ticks\": \"\"}}, \"colorscale\": {\"diverging\": [[0, \"#8e0152\"], [0.1, \"#c51b7d\"], [0.2, \"#de77ae\"], [0.3, \"#f1b6da\"], [0.4, \"#fde0ef\"], [0.5, \"#f7f7f7\"], [0.6, \"#e6f5d0\"], [0.7, \"#b8e186\"], [0.8, \"#7fbc41\"], [0.9, \"#4d9221\"], [1, \"#276419\"]], \"sequential\": [[0.0, \"#0d0887\"], [0.1111111111111111, \"#46039f\"], [0.2222222222222222, \"#7201a8\"], [0.3333333333333333, \"#9c179e\"], [0.4444444444444444, \"#bd3786\"], [0.5555555555555556, \"#d8576b\"], [0.6666666666666666, \"#ed7953\"], [0.7777777777777778, \"#fb9f3a\"], [0.8888888888888888, \"#fdca26\"], [1.0, \"#f0f921\"]], \"sequentialminus\": [[0.0, \"#0d0887\"], [0.1111111111111111, \"#46039f\"], [0.2222222222222222, \"#7201a8\"], [0.3333333333333333, \"#9c179e\"], [0.4444444444444444, \"#bd3786\"], [0.5555555555555556, \"#d8576b\"], [0.6666666666666666, \"#ed7953\"], [0.7777777777777778, \"#fb9f3a\"], [0.8888888888888888, \"#fdca26\"], [1.0, \"#f0f921\"]]}, \"colorway\": [\"#636efa\", \"#EF553B\", \"#00cc96\", \"#ab63fa\", \"#FFA15A\", \"#19d3f3\", \"#FF6692\", \"#B6E880\", \"#FF97FF\", \"#FECB52\"], \"font\": {\"color\": \"#2a3f5f\"}, \"geo\": {\"bgcolor\": \"white\", \"lakecolor\": \"white\", \"landcolor\": \"#E5ECF6\", \"showlakes\": true, \"showland\": true, \"subunitcolor\": \"white\"}, \"hoverlabel\": {\"align\": \"left\"}, \"hovermode\": \"closest\", \"mapbox\": {\"style\": \"light\"}, \"paper_bgcolor\": \"white\", \"plot_bgcolor\": \"#E5ECF6\", \"polar\": {\"angularaxis\": {\"gridcolor\": \"white\", \"linecolor\": \"white\", \"ticks\": \"\"}, \"bgcolor\": \"#E5ECF6\", \"radialaxis\": {\"gridcolor\": \"white\", \"linecolor\": \"white\", \"ticks\": \"\"}}, \"scene\": {\"xaxis\": {\"backgroundcolor\": \"#E5ECF6\", \"gridcolor\": \"white\", \"gridwidth\": 2, \"linecolor\": \"white\", \"showbackground\": true, \"ticks\": \"\", \"zerolinecolor\": \"white\"}, \"yaxis\": {\"backgroundcolor\": \"#E5ECF6\", \"gridcolor\": \"white\", \"gridwidth\": 2, \"linecolor\": \"white\", \"showbackground\": true, \"ticks\": \"\", \"zerolinecolor\": \"white\"}, \"zaxis\": {\"backgroundcolor\": \"#E5ECF6\", \"gridcolor\": \"white\", \"gridwidth\": 2, \"linecolor\": \"white\", \"showbackground\": true, \"ticks\": \"\", \"zerolinecolor\": \"white\"}}, \"shapedefaults\": {\"line\": {\"color\": \"#2a3f5f\"}}, \"ternary\": {\"aaxis\": {\"gridcolor\": \"white\", \"linecolor\": \"white\", \"ticks\": \"\"}, \"baxis\": {\"gridcolor\": \"white\", \"linecolor\": \"white\", \"ticks\": \"\"}, \"bgcolor\": \"#E5ECF6\", \"caxis\": {\"gridcolor\": \"white\", \"linecolor\": \"white\", \"ticks\": \"\"}}, \"title\": {\"x\": 0.05}, \"xaxis\": {\"automargin\": true, \"gridcolor\": \"white\", \"linecolor\": \"white\", \"ticks\": \"\", \"title\": {\"standoff\": 15}, \"zerolinecolor\": \"white\", \"zerolinewidth\": 2}, \"yaxis\": {\"automargin\": true, \"gridcolor\": \"white\", \"linecolor\": \"white\", \"ticks\": \"\", \"title\": {\"standoff\": 15}, \"zerolinecolor\": \"white\", \"zerolinewidth\": 2}}}, \"title\": {\"font\": {\"size\": 28}, \"text\": \"Neural Network Model - W compounds Young's Modulus\"}, \"width\": 1000, \"xaxis\": {\"gridwidth\": 1, \"tickfont\": {\"size\": 18}, \"title\": {\"font\": {\"size\": 24}, \"text\": \"Real Values (GPa)\"}, \"zeroline\": false}, \"yaxis\": {\"gridwidth\": 1, \"tickfont\": {\"size\": 18}, \"title\": {\"font\": {\"size\": 24}, \"text\": \"Prediction (GPa)\"}, \"zeroline\": false}},\n",
       "                        {\"responsive\": true}\n",
       "                    ).then(function(){\n",
       "                            \n",
       "var gd = document.getElementById('d4680cbc-0ab1-4add-abc5-6f3be5c8e91e');\n",
       "var x = new MutationObserver(function (mutations, observer) {{\n",
       "        var display = window.getComputedStyle(gd).display;\n",
       "        if (!display || display === 'none') {{\n",
       "            console.log([gd, 'removed!']);\n",
       "            Plotly.purge(gd);\n",
       "            observer.disconnect();\n",
       "        }}\n",
       "}});\n",
       "\n",
       "// Listen for the removal of the full notebook cells\n",
       "var notebookContainer = gd.closest('#notebook-container');\n",
       "if (notebookContainer) {{\n",
       "    x.observe(notebookContainer, {childList: true});\n",
       "}}\n",
       "\n",
       "// Listen for the clearing of the current output cell\n",
       "var outputEl = gd.closest('.output');\n",
       "if (outputEl) {{\n",
       "    x.observe(outputEl, {childList: true});\n",
       "}}\n",
       "\n",
       "                        })\n",
       "                };\n",
       "                });\n",
       "            </script>\n",
       "        </div>"
      ]
     },
     "metadata": {},
     "output_type": "display_data"
    }
   ],
   "source": [
    "import plotly\n",
    "import plotly.graph_objs as go\n",
    "from plotly.offline import iplot\n",
    "\n",
    "plotly.offline.init_notebook_mode(connected=True)\n",
    "\n",
    "layout0= go.Layout(title=go.layout.Title(text=\"Neural Network Model - W compounds Young's Modulus\", font=dict(size=28)), hovermode= 'closest', width = 1000, height=600, showlegend=True,  # Hovermode establishes the way the labels that appear when you hover are arranged # Establishing a square plot width=height\n",
    "    xaxis= dict(title=go.layout.xaxis.Title(text='Real Values (GPa)', font=dict(size=24)), zeroline= False, gridwidth= 1, tickfont=dict(size=18)), # Axis Titles. Removing the X-axis Mark. Adding a Grid\n",
    "    yaxis= dict(title=go.layout.yaxis.Title(text='Prediction (GPa)', font=dict(size=24)), zeroline= False, gridwidth= 1, tickfont=dict(size=18)), # Axis Titles. Removing the Y-axis Mark. Adding a Grid\n",
    "    legend=dict(font=dict(size=24))) # Adding a legend\n",
    "\n",
    "trace0 = go.Scatter(x = all_labels, y = predictions, mode = 'markers', marker= dict(size= 12, color= 'blue'), text= elements, name = 'Young\\'s Modulus (Training)')\n",
    "trace1 = go.Scatter(x = test_labels, y = test_predictions, mode = 'markers', marker= dict(size= 12, color= 'red'), text = labeled_elements, name = 'Young\\'s Modulus (Testing)')\n",
    "trace2 = go.Scatter(x = [0,700], y = [0,700], mode = 'lines', name = \"Match\") # This trace is the line X = Y which would indicate that the Prediction equals the real value\n",
    "\n",
    "data = [trace0, trace1, trace2]\n",
    "fig= go.Figure(data, layout=layout0)\n",
    "iplot(fig)"
   ]
  },
  {
   "cell_type": "code",
   "execution_count": 13,
   "metadata": {},
   "outputs": [
    {
     "name": "stdout",
     "output_type": "stream",
     "text": [
      "76/76 - 0s - loss: 1.0465e-05 - mean_absolute_error: 1.0465e-05\n",
      "Loss: 1.0465320787931743e-05, Accuracy: 1.0465320883668028e-05\n"
     ]
    }
   ],
   "source": [
    "model_loss, model_accuracy = model.evaluate(values, predictions,verbose=2)\n",
    "print(f\"Loss: {model_loss}, Accuracy: {model_accuracy}\")"
   ]
  },
  {
   "cell_type": "code",
   "execution_count": null,
   "metadata": {},
   "outputs": [],
   "source": []
  }
 ],
 "metadata": {
  "kernelspec": {
   "display_name": "PythonData",
   "language": "python",
   "name": "pythondata"
  },
  "language_info": {
   "codemirror_mode": {
    "name": "ipython",
    "version": 3
   },
   "file_extension": ".py",
   "mimetype": "text/x-python",
   "name": "python",
   "nbconvert_exporter": "python",
   "pygments_lexer": "ipython3",
   "version": "3.7.7"
  }
 },
 "nbformat": 4,
 "nbformat_minor": 2
}
