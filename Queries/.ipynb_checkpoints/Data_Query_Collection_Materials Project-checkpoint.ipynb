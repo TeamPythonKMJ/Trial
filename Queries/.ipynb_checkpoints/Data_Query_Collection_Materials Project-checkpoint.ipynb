{
 "cells": [
  {
   "cell_type": "markdown",
   "metadata": {},
   "source": [
    "### Load Materials Project API Key"
   ]
  },
  {
   "cell_type": "code",
   "execution_count": 1,
   "metadata": {},
   "outputs": [
    {
     "name": "stdout",
     "output_type": "stream",
     "text": [
      "Success\n"
     ]
    }
   ],
   "source": [
    "import os, stat\n",
    "from IPython.display import clear_output\n",
    "\n",
    "try:\n",
    "    user = str(input())\n",
    "    clear_output()\n",
    "    if not user.isalnum():\n",
    "        raise TypeError('Wrong Key')\n",
    "    if user == None:\n",
    "        raise TypeError('Empty')\n",
    "    with open(os.path.expanduser('~/.mpkey.txt'), 'w') as keyfile:\n",
    "        keyfile.write(user)\n",
    "    os.chmod(os.path.expanduser('~/.mpkey.txt'), stat.S_IREAD | stat.S_IWRITE)\n",
    "    del user\n",
    "    print(\"Success\")\n",
    "except:\n",
    "    print(\"Something seems wrong with your key\")"
   ]
  },
  {
   "cell_type": "markdown",
   "metadata": {},
   "source": [
    "## Libraries\n",
    "\n",
    "This notebook requires several libraries to be imported. They are separated in blocks depending on their usage."
   ]
  },
  {
   "cell_type": "code",
   "execution_count": 94,
   "metadata": {},
   "outputs": [],
   "source": [
    "# These lines import both libraries and then define an array with elements to be used below\n",
    "\n",
    "#Pymatgen and sub-libraries\n",
    "import pymatgen\n",
    "from pymatgen import MPRester, Element, Structure\n",
    "from pymatgen.core import composition\n",
    "from pymatgen.io.vasp import Vasprun\n",
    "from pymatgen.entries.computed_entries import ComputedEntry\n",
    "from pymatgen.entries.compatibility import MaterialsProjectCompatibility\n",
    "from pymatgen.util.plotting import *\n",
    "from pymatgen.analysis.phase_diagram import *\n",
    "#import pymatgen.core.composition\n",
    "from pymatgen.apps.borg.hive import VaspToComputedEntryDrone\n",
    "from pymatgen.entries.compatibility import MaterialsProjectCompatibility\n",
    "import json\n",
    "\n",
    "#Misc. Tools\n",
    "import matplotlib.pyplot as plt\n",
    "import random\n",
    "import os\n",
    "from itertools import combinations\n",
    "import pandas as pd\n",
    "\n",
    "#Import API Key\n",
    "file = open(os.path.expanduser('~/.mpkey.txt'),\"r+\")\n",
    "apikey = file.readline()\n",
    "file.close()\n",
    "rester = MPRester(apikey)"
   ]
  },
  {
   "cell_type": "markdown",
   "metadata": {},
   "source": [
    "## 1. Query all selected materials  in MP database"
   ]
  },
  {
   "cell_type": "code",
   "execution_count": 81,
   "metadata": {},
   "outputs": [
    {
     "data": {
      "application/vnd.jupyter.widget-view+json": {
       "model_id": "f159a10bc01a4bccaf74bd6f2fa40419",
       "version_major": 2,
       "version_minor": 0
      },
      "text/plain": [
       "HBox(children=(FloatProgress(value=0.0, max=8932.0), HTML(value='')))"
      ]
     },
     "metadata": {},
     "output_type": "display_data"
    }
   ],
   "source": [
    "#Query every structure in the MP database that has oxygen atom within compound. \n",
    "#Grab set of properties from database. Ti, Fe, Ni, W, Si, C, Mo based.\n",
    "# We will have this setup as a data pipeline extraction procedure as iterations.\n",
    "data = rester.query({\"elements\": \"Si\", \"nelements\": {\"$gte\": 2}},\n",
    "                    [\"task_id\",\"pretty_formula\",\"formula\",\"volume\",\"density\",\"elements\",\n",
    "                     \"e_above_hull\",\"elasticity\",\"unit_cell_formula\"])"
   ]
  },
  {
   "cell_type": "code",
   "execution_count": 95,
   "metadata": {},
   "outputs": [
    {
     "name": "stdout",
     "output_type": "stream",
     "text": [
      "Number of oxide structures available on the MP database: 8932\n",
      "Example output: {'task_id': 'mp-1073070', 'pretty_formula': 'Mg2Si3', 'formula': {'Mg': 2.0, 'Si': 3.0}, 'volume': 178.21841081172957, 'density': 2.4759508218399966, 'elements': ['Mg', 'Si'], 'e_above_hull': 0.15121475899999837, 'elasticity': None, 'unit_cell_formula': {'Mg': 4.0, 'Si': 6.0}}\n"
     ]
    }
   ],
   "source": [
    "print('Number of oxide structures available on the MP database: %s' % len(data))\n",
    "print('Example output: %s' % data[24])"
   ]
  },
  {
   "cell_type": "markdown",
   "metadata": {},
   "source": [
    "## 2. Filtering data for energy stability\n",
    "After data query has been completed we will begin filtering things just a bit. First we will strip any values that have an energy above the convex hull greater than 1 meV. 0 meV indicates most stable phase. This filter can be changed below.<br>\n"
   ]
  },
  {
   "cell_type": "code",
   "execution_count": 96,
   "metadata": {},
   "outputs": [],
   "source": [
    "energy_cutoff_value = 1 #energy above convex hull cutoff [meV]"
   ]
  },
  {
   "cell_type": "markdown",
   "metadata": {},
   "source": [
    "### 2.1 Filter data and calculate ionic packing fraction from compound query"
   ]
  },
  {
   "cell_type": "code",
   "execution_count": 98,
   "metadata": {},
   "outputs": [
    {
     "ename": "TypeError",
     "evalue": "unsupported operand type(s) for *: 'NoneType' and 'int'",
     "output_type": "error",
     "traceback": [
      "\u001b[1;31m---------------------------------------------------------------------------\u001b[0m",
      "\u001b[1;31mTypeError\u001b[0m                                 Traceback (most recent call last)",
      "\u001b[1;32m<ipython-input-98-ae1e72730406>\u001b[0m in \u001b[0;36m<module>\u001b[1;34m\u001b[0m\n\u001b[0;32m     11\u001b[0m \u001b[1;32mfor\u001b[0m \u001b[0mk\u001b[0m \u001b[1;32min\u001b[0m \u001b[0mrange\u001b[0m\u001b[1;33m(\u001b[0m\u001b[1;36m0\u001b[0m\u001b[1;33m,\u001b[0m\u001b[0mlen\u001b[0m\u001b[1;33m(\u001b[0m\u001b[0mdata\u001b[0m\u001b[1;33m)\u001b[0m\u001b[1;33m)\u001b[0m\u001b[1;33m:\u001b[0m\u001b[1;33m\u001b[0m\u001b[1;33m\u001b[0m\u001b[0m\n\u001b[0;32m     12\u001b[0m     \u001b[1;31m#If Energy above convex Hull is larger than 1 meV we will skip that value and move on\u001b[0m\u001b[1;33m\u001b[0m\u001b[1;33m\u001b[0m\u001b[1;33m\u001b[0m\u001b[0m\n\u001b[1;32m---> 13\u001b[1;33m     \u001b[0me_above_hull\u001b[0m \u001b[1;33m=\u001b[0m \u001b[0mdata\u001b[0m\u001b[1;33m[\u001b[0m\u001b[0mk\u001b[0m\u001b[1;33m]\u001b[0m\u001b[1;33m.\u001b[0m\u001b[0mget\u001b[0m\u001b[1;33m(\u001b[0m\u001b[1;34m'e_above_hull'\u001b[0m\u001b[1;33m)\u001b[0m\u001b[1;33m*\u001b[0m\u001b[1;36m1000\u001b[0m\u001b[1;33m\u001b[0m\u001b[1;33m\u001b[0m\u001b[0m\n\u001b[0m\u001b[0;32m     14\u001b[0m     \u001b[1;32mif\u001b[0m \u001b[0me_above_hull\u001b[0m \u001b[1;33m>\u001b[0m \u001b[1;36m0\u001b[0m\u001b[1;33m:\u001b[0m\u001b[1;33m\u001b[0m\u001b[1;33m\u001b[0m\u001b[0m\n\u001b[0;32m     15\u001b[0m         \u001b[1;32mcontinue\u001b[0m\u001b[1;33m\u001b[0m\u001b[1;33m\u001b[0m\u001b[0m\n",
      "\u001b[1;31mTypeError\u001b[0m: unsupported operand type(s) for *: 'NoneType' and 'int'"
     ]
    }
   ],
   "source": [
    "#Create temporary list arrays for data calculation and manipulation. We will clear the array after each loop\n",
    "atom_sample = []\n",
    "atom_count = []\n",
    "atom_radii = []\n",
    "atom_volume = []\n",
    "atom_volume_total = []\n",
    "\n",
    "#Create modified dictionary to store values that we want from queried database of all oxides\n",
    "property_dict_all = {}\n",
    "\n",
    "for k in range(0,len(data)):\n",
    "    #If Energy above convex Hull is larger than 1 meV we will skip that value and move on\n",
    "    e_above_hull = data[k].get('e_above_hull')*1000\n",
    "    if e_above_hull > energy_cutoff_value:\n",
    "        continue\n",
    "    #Grab values from data query. Data stored as dictionary so we call the 'keys' for 'values'\n",
    "    mp_id = data[k].get('task_id')\n",
    "    density = data[k].get('density')\n",
    "    pretty_formula = data[k].get('pretty_formula')\n",
    "    elastic_tensor = data[k].get('elasticity')\n",
    "    composition = data[k].get('formula')\n",
    "    oxide_volume = data[k].get('volume')\n",
    "    atom_type_count = len(data[k].get('elements'))\n",
    "    unit_cell_formula = data[k].get('unit_cell_formula')\n",
    "\n",
    "    #Pull atom count for each atom type. Will be used to find summed atomic volumes and summed masses\n",
    "    for type in np.arange(0,atom_type_count):\n",
    "        atom_sample.append(data[k].get('elements')[type])     \n",
    "        atom_count.append(data[k].get('unit_cell_formula').get(data[k].get('elements')[type]))\n",
    "        \n",
    "    #Do a quick query of each element type for ionic radius and atomic mass from Pymatgen\n",
    "    for item in atom_sample:\n",
    "        element_object = pymatgen.Element(item)\n",
    "        radii_values = element_object.average_ionic_radius\n",
    "        atom_radii.append(radii_values)\n",
    "\n",
    "    #For each atom radii queried calculate the atomic volume\n",
    "    for i in atom_radii:\n",
    "        v = (4/3)*np.pi*i**3\n",
    "        atom_volume.append(v)\n",
    "        \n",
    "    #Calculate the total atomic volume for each element type (E.g. 3*(Volume O atom))\n",
    "    for i in np.arange(0,len(atom_count)):\n",
    "        v_total = atom_count[i]*atom_volume[i]\n",
    "        atom_volume_total.append(v_total)\n",
    "        \n",
    "    #Sum the volumes of all atoms in the oxide\n",
    "    summed_volumes = sum(atom_volume_total)\n",
    "    \n",
    "    #Calculate packing fraction. Append values to dictionary with the Materials Project ID as key value\n",
    "    packing_frac = summed_volumes/oxide_volume\n",
    "    property_dict_all[str(mp_id)] = pretty_formula,composition,elastic_tensor,packing_frac,density,e_above_hull\n",
    "    \n",
    "    #Clear values for next loop\n",
    "    atom_sample.clear()\n",
    "    atom_count.clear()\n",
    "    atom_radii.clear()\n",
    "    atom_volume.clear()\n",
    "    atom_volume_total.clear()"
   ]
  },
  {
   "cell_type": "markdown",
   "metadata": {},
   "source": [
    "### 2.2 Convert our dictionary to a more pleasant looking dataframe. Pull the values from each key, separate them, and shove everything into a dataframe."
   ]
  },
  {
   "cell_type": "code",
   "execution_count": null,
   "metadata": {
    "scrolled": true
   },
   "outputs": [],
   "source": [
    "#Create blank lists for appending values\n",
    "mp_id = []\n",
    "pretty_formula = []\n",
    "composition = []\n",
    "ionic_packing_frac = []\n",
    "density = []\n",
    "elastic_tensor = []\n",
    "e_above_hull = []\n",
    "#Loop through all keys and extract their values. Append values into individual list arrays\n",
    "for key in property_dict_all.keys():\n",
    "    mp_id.append(key)\n",
    "    values = property_dict_all.get(key)\n",
    "    pretty_formula.append(values[0])\n",
    "    composition.append(values[1])\n",
    "    elastic_tensor.append(values[2])\n",
    "    ionic_packing_frac.append(values[3])\n",
    "    density.append(values[4])\n",
    "    e_above_hull.append(values[5])    \n",
    "#Stack arrays into a Numpy array. From here will append into a dataframe. Display dataframe below.\n",
    "df = np.column_stack((mp_id,pretty_formula,composition,ionic_packing_frac,density,elastic_tensor,e_above_hull))\n",
    "df_oxide = pd.DataFrame(df,columns=[\"mp_id\",\"Formula\",\"Composition\",\"IPF\",\"Density\",\"Elastic_Tensor\",\"E_above_Hull\"])\n",
    "display(df_oxide)"
   ]
  },
  {
   "cell_type": "code",
   "execution_count": 85,
   "metadata": {},
   "outputs": [
    {
     "data": {
      "text/plain": [
       "mp_id                  object\n",
       "Formula                object\n",
       "Composition            object\n",
       "IPF                    object\n",
       "Density                object\n",
       "Elastic_Tensor         object\n",
       "E_above_Hull           object\n",
       "G_VRH                 float64\n",
       "K_VRH                 float64\n",
       "Elastic_Anisotropy    float64\n",
       "poisson_ratio         float64\n",
       "Y_Modulus             float64\n",
       "dtype: object"
      ]
     },
     "execution_count": 85,
     "metadata": {},
     "output_type": "execute_result"
    }
   ],
   "source": [
    "df_oxide.dtypes"
   ]
  },
  {
   "cell_type": "code",
   "execution_count": 86,
   "metadata": {},
   "outputs": [
    {
     "data": {
      "text/plain": [
       "1     {'G_Reuss': -22.0, 'G_VRH': 2.0, 'G_Voigt': 25...\n",
       "2     {'G_Reuss': 1.0, 'G_VRH': 13.0, 'G_Voigt': 24....\n",
       "3     {'G_Reuss': 30.0, 'G_VRH': 30.0, 'G_Voigt': 30...\n",
       "4     {'G_Reuss': 152.0, 'G_VRH': 152.0, 'G_Voigt': ...\n",
       "5     {'G_Reuss': 57.0, 'G_VRH': 57.0, 'G_Voigt': 57...\n",
       "                            ...                        \n",
       "72    {'G_Reuss': 41.0, 'G_VRH': 57.0, 'G_Voigt': 73...\n",
       "73    {'G_Reuss': 72.0, 'G_VRH': 72.0, 'G_Voigt': 72...\n",
       "74    {'G_Reuss': 104.0, 'G_VRH': 109.0, 'G_Voigt': ...\n",
       "75    {'G_Reuss': 76.0, 'G_VRH': 76.0, 'G_Voigt': 77...\n",
       "76    {'G_Reuss': 62.0, 'G_VRH': 65.0, 'G_Voigt': 68...\n",
       "Name: Elastic_Tensor, Length: 76, dtype: object"
      ]
     },
     "execution_count": 86,
     "metadata": {},
     "output_type": "execute_result"
    }
   ],
   "source": [
    "df_oxide['Elastic_Tensor']"
   ]
  },
  {
   "cell_type": "code",
   "execution_count": 87,
   "metadata": {},
   "outputs": [],
   "source": [
    "df_oxide=df_oxide.dropna()"
   ]
  },
  {
   "cell_type": "code",
   "execution_count": 88,
   "metadata": {},
   "outputs": [
    {
     "data": {
      "text/html": [
       "<div>\n",
       "<style scoped>\n",
       "    .dataframe tbody tr th:only-of-type {\n",
       "        vertical-align: middle;\n",
       "    }\n",
       "\n",
       "    .dataframe tbody tr th {\n",
       "        vertical-align: top;\n",
       "    }\n",
       "\n",
       "    .dataframe thead th {\n",
       "        text-align: right;\n",
       "    }\n",
       "</style>\n",
       "<table border=\"1\" class=\"dataframe\">\n",
       "  <thead>\n",
       "    <tr style=\"text-align: right;\">\n",
       "      <th></th>\n",
       "      <th>mp_id</th>\n",
       "      <th>Formula</th>\n",
       "      <th>Composition</th>\n",
       "      <th>IPF</th>\n",
       "      <th>Density</th>\n",
       "      <th>Elastic_Tensor</th>\n",
       "      <th>E_above_Hull</th>\n",
       "      <th>G_VRH</th>\n",
       "      <th>K_VRH</th>\n",
       "      <th>Elastic_Anisotropy</th>\n",
       "      <th>poisson_ratio</th>\n",
       "      <th>Y_Modulus</th>\n",
       "    </tr>\n",
       "  </thead>\n",
       "  <tbody>\n",
       "    <tr>\n",
       "      <th>1</th>\n",
       "      <td>mp-1025571</td>\n",
       "      <td>WS2</td>\n",
       "      <td>{'W': 1.0, 'S': 2.0}</td>\n",
       "      <td>0.0825733</td>\n",
       "      <td>4.47573</td>\n",
       "      <td>{'G_Reuss': -22.0, 'G_VRH': 2.0, 'G_Voigt': 25...</td>\n",
       "      <td>0.951299</td>\n",
       "      <td>2.0</td>\n",
       "      <td>19.0</td>\n",
       "      <td>-4.53</td>\n",
       "      <td>0.46</td>\n",
       "      <td>5.84</td>\n",
       "    </tr>\n",
       "    <tr>\n",
       "      <th>2</th>\n",
       "      <td>mp-1028698</td>\n",
       "      <td>WSe2</td>\n",
       "      <td>{'W': 1.0, 'Se': 2.0}</td>\n",
       "      <td>0.110243</td>\n",
       "      <td>5.89958</td>\n",
       "      <td>{'G_Reuss': 1.0, 'G_VRH': 13.0, 'G_Voigt': 24....</td>\n",
       "      <td>0.174937</td>\n",
       "      <td>13.0</td>\n",
       "      <td>18.0</td>\n",
       "      <td>91.25</td>\n",
       "      <td>0.21</td>\n",
       "      <td>31.46</td>\n",
       "    </tr>\n",
       "    <tr>\n",
       "      <th>3</th>\n",
       "      <td>mp-1029655</td>\n",
       "      <td>Sr3WN3</td>\n",
       "      <td>{'Sr': 3.0, 'W': 1.0, 'N': 3.0}</td>\n",
       "      <td>0.228417</td>\n",
       "      <td>5.46297</td>\n",
       "      <td>{'G_Reuss': 30.0, 'G_VRH': 30.0, 'G_Voigt': 30...</td>\n",
       "      <td>0</td>\n",
       "      <td>30.0</td>\n",
       "      <td>57.0</td>\n",
       "      <td>0.10</td>\n",
       "      <td>0.27</td>\n",
       "      <td>76.20</td>\n",
       "    </tr>\n",
       "    <tr>\n",
       "      <th>4</th>\n",
       "      <td>mp-1113</td>\n",
       "      <td>BW2</td>\n",
       "      <td>{'B': 1.0, 'W': 2.0}</td>\n",
       "      <td>0.108369</td>\n",
       "      <td>16.7597</td>\n",
       "      <td>{'G_Reuss': 152.0, 'G_VRH': 152.0, 'G_Voigt': ...</td>\n",
       "      <td>0</td>\n",
       "      <td>152.0</td>\n",
       "      <td>330.0</td>\n",
       "      <td>0.04</td>\n",
       "      <td>0.30</td>\n",
       "      <td>395.20</td>\n",
       "    </tr>\n",
       "    <tr>\n",
       "      <th>5</th>\n",
       "      <td>mp-11227</td>\n",
       "      <td>Al12W</td>\n",
       "      <td>{'Al': 12.0, 'W': 1.0}</td>\n",
       "      <td>0.0793905</td>\n",
       "      <td>3.85781</td>\n",
       "      <td>{'G_Reuss': 57.0, 'G_VRH': 57.0, 'G_Voigt': 57...</td>\n",
       "      <td>0</td>\n",
       "      <td>57.0</td>\n",
       "      <td>92.0</td>\n",
       "      <td>0.00</td>\n",
       "      <td>0.24</td>\n",
       "      <td>141.36</td>\n",
       "    </tr>\n",
       "    <tr>\n",
       "      <th>...</th>\n",
       "      <td>...</td>\n",
       "      <td>...</td>\n",
       "      <td>...</td>\n",
       "      <td>...</td>\n",
       "      <td>...</td>\n",
       "      <td>...</td>\n",
       "      <td>...</td>\n",
       "      <td>...</td>\n",
       "      <td>...</td>\n",
       "      <td>...</td>\n",
       "      <td>...</td>\n",
       "      <td>...</td>\n",
       "    </tr>\n",
       "    <tr>\n",
       "      <th>72</th>\n",
       "      <td>mp-989524</td>\n",
       "      <td>LaWN3</td>\n",
       "      <td>{'La': 1.0, 'W': 1.0, 'N': 3.0}</td>\n",
       "      <td>0.179052</td>\n",
       "      <td>9.21197</td>\n",
       "      <td>{'G_Reuss': 41.0, 'G_VRH': 57.0, 'G_Voigt': 73...</td>\n",
       "      <td>0</td>\n",
       "      <td>57.0</td>\n",
       "      <td>170.0</td>\n",
       "      <td>3.82</td>\n",
       "      <td>0.35</td>\n",
       "      <td>153.90</td>\n",
       "    </tr>\n",
       "    <tr>\n",
       "      <th>73</th>\n",
       "      <td>mp-19420</td>\n",
       "      <td>Sr2MgWO6</td>\n",
       "      <td>{'Sr': 2.0, 'Mg': 1.0, 'W': 1.0, 'O': 6.0}</td>\n",
       "      <td>0.574046</td>\n",
       "      <td>6.1672</td>\n",
       "      <td>{'G_Reuss': 72.0, 'G_VRH': 72.0, 'G_Voigt': 72...</td>\n",
       "      <td>0.680335</td>\n",
       "      <td>72.0</td>\n",
       "      <td>127.0</td>\n",
       "      <td>0.05</td>\n",
       "      <td>0.26</td>\n",
       "      <td>181.44</td>\n",
       "    </tr>\n",
       "    <tr>\n",
       "      <th>74</th>\n",
       "      <td>mp-977545</td>\n",
       "      <td>ZrTc2W</td>\n",
       "      <td>{'Zr': 1.0, 'Tc': 2.0, 'W': 1.0}</td>\n",
       "      <td>0.120815</td>\n",
       "      <td>11.8579</td>\n",
       "      <td>{'G_Reuss': 104.0, 'G_VRH': 109.0, 'G_Voigt': ...</td>\n",
       "      <td>0</td>\n",
       "      <td>109.0</td>\n",
       "      <td>198.0</td>\n",
       "      <td>0.44</td>\n",
       "      <td>0.27</td>\n",
       "      <td>276.86</td>\n",
       "    </tr>\n",
       "    <tr>\n",
       "      <th>75</th>\n",
       "      <td>mp-18848</td>\n",
       "      <td>Sr2MgWO6</td>\n",
       "      <td>{'Sr': 2.0, 'Mg': 1.0, 'W': 1.0, 'O': 6.0}</td>\n",
       "      <td>0.572559</td>\n",
       "      <td>6.15123</td>\n",
       "      <td>{'G_Reuss': 76.0, 'G_VRH': 76.0, 'G_Voigt': 77...</td>\n",
       "      <td>0</td>\n",
       "      <td>76.0</td>\n",
       "      <td>179.0</td>\n",
       "      <td>0.07</td>\n",
       "      <td>0.31</td>\n",
       "      <td>199.12</td>\n",
       "    </tr>\n",
       "    <tr>\n",
       "      <th>76</th>\n",
       "      <td>mp-504723</td>\n",
       "      <td>Ba2NiWO6</td>\n",
       "      <td>{'Ba': 2.0, 'Ni': 1.0, 'W': 1.0, 'O': 6.0}</td>\n",
       "      <td>0.590346</td>\n",
       "      <td>7.36889</td>\n",
       "      <td>{'G_Reuss': 62.0, 'G_VRH': 65.0, 'G_Voigt': 68...</td>\n",
       "      <td>0</td>\n",
       "      <td>65.0</td>\n",
       "      <td>122.0</td>\n",
       "      <td>0.48</td>\n",
       "      <td>0.27</td>\n",
       "      <td>165.10</td>\n",
       "    </tr>\n",
       "  </tbody>\n",
       "</table>\n",
       "<p>76 rows × 12 columns</p>\n",
       "</div>"
      ],
      "text/plain": [
       "         mp_id   Formula                                 Composition  \\\n",
       "1   mp-1025571       WS2                        {'W': 1.0, 'S': 2.0}   \n",
       "2   mp-1028698      WSe2                       {'W': 1.0, 'Se': 2.0}   \n",
       "3   mp-1029655    Sr3WN3             {'Sr': 3.0, 'W': 1.0, 'N': 3.0}   \n",
       "4      mp-1113       BW2                        {'B': 1.0, 'W': 2.0}   \n",
       "5     mp-11227     Al12W                      {'Al': 12.0, 'W': 1.0}   \n",
       "..         ...       ...                                         ...   \n",
       "72   mp-989524     LaWN3             {'La': 1.0, 'W': 1.0, 'N': 3.0}   \n",
       "73    mp-19420  Sr2MgWO6  {'Sr': 2.0, 'Mg': 1.0, 'W': 1.0, 'O': 6.0}   \n",
       "74   mp-977545    ZrTc2W            {'Zr': 1.0, 'Tc': 2.0, 'W': 1.0}   \n",
       "75    mp-18848  Sr2MgWO6  {'Sr': 2.0, 'Mg': 1.0, 'W': 1.0, 'O': 6.0}   \n",
       "76   mp-504723  Ba2NiWO6  {'Ba': 2.0, 'Ni': 1.0, 'W': 1.0, 'O': 6.0}   \n",
       "\n",
       "          IPF  Density                                     Elastic_Tensor  \\\n",
       "1   0.0825733  4.47573  {'G_Reuss': -22.0, 'G_VRH': 2.0, 'G_Voigt': 25...   \n",
       "2    0.110243  5.89958  {'G_Reuss': 1.0, 'G_VRH': 13.0, 'G_Voigt': 24....   \n",
       "3    0.228417  5.46297  {'G_Reuss': 30.0, 'G_VRH': 30.0, 'G_Voigt': 30...   \n",
       "4    0.108369  16.7597  {'G_Reuss': 152.0, 'G_VRH': 152.0, 'G_Voigt': ...   \n",
       "5   0.0793905  3.85781  {'G_Reuss': 57.0, 'G_VRH': 57.0, 'G_Voigt': 57...   \n",
       "..        ...      ...                                                ...   \n",
       "72   0.179052  9.21197  {'G_Reuss': 41.0, 'G_VRH': 57.0, 'G_Voigt': 73...   \n",
       "73   0.574046   6.1672  {'G_Reuss': 72.0, 'G_VRH': 72.0, 'G_Voigt': 72...   \n",
       "74   0.120815  11.8579  {'G_Reuss': 104.0, 'G_VRH': 109.0, 'G_Voigt': ...   \n",
       "75   0.572559  6.15123  {'G_Reuss': 76.0, 'G_VRH': 76.0, 'G_Voigt': 77...   \n",
       "76   0.590346  7.36889  {'G_Reuss': 62.0, 'G_VRH': 65.0, 'G_Voigt': 68...   \n",
       "\n",
       "   E_above_Hull  G_VRH  K_VRH  Elastic_Anisotropy  poisson_ratio  Y_Modulus  \n",
       "1      0.951299    2.0   19.0               -4.53           0.46       5.84  \n",
       "2      0.174937   13.0   18.0               91.25           0.21      31.46  \n",
       "3             0   30.0   57.0                0.10           0.27      76.20  \n",
       "4             0  152.0  330.0                0.04           0.30     395.20  \n",
       "5             0   57.0   92.0                0.00           0.24     141.36  \n",
       "..          ...    ...    ...                 ...            ...        ...  \n",
       "72            0   57.0  170.0                3.82           0.35     153.90  \n",
       "73     0.680335   72.0  127.0                0.05           0.26     181.44  \n",
       "74            0  109.0  198.0                0.44           0.27     276.86  \n",
       "75            0   76.0  179.0                0.07           0.31     199.12  \n",
       "76            0   65.0  122.0                0.48           0.27     165.10  \n",
       "\n",
       "[76 rows x 12 columns]"
      ]
     },
     "execution_count": 88,
     "metadata": {},
     "output_type": "execute_result"
    }
   ],
   "source": [
    "df_oxide"
   ]
  },
  {
   "cell_type": "markdown",
   "metadata": {},
   "source": [
    "### 2.3 Observe the reduction from all oxide species to the limited set for stable structures. Plot the data below."
   ]
  },
  {
   "cell_type": "code",
   "execution_count": 89,
   "metadata": {},
   "outputs": [
    {
     "name": "stdout",
     "output_type": "stream",
     "text": [
      "Number of oxide structures available on the MP database: 8932\n",
      "Number of oxide structures below 1.0 meV: 76\n"
     ]
    }
   ],
   "source": [
    "print('Number of oxide structures available on the MP database: %s' % len(data))\n",
    "print('Number of oxide structures below %.1f meV: %s' %(energy_cutoff_value, len(df_oxide)))"
   ]
  },
  {
   "cell_type": "code",
   "execution_count": 90,
   "metadata": {},
   "outputs": [
    {
     "data": {
      "text/html": [
       "        <script type=\"text/javascript\">\n",
       "        window.PlotlyConfig = {MathJaxConfig: 'local'};\n",
       "        if (window.MathJax) {MathJax.Hub.Config({SVG: {font: \"STIX-Web\"}});}\n",
       "        if (typeof require !== 'undefined') {\n",
       "        require.undef(\"plotly\");\n",
       "        requirejs.config({\n",
       "            paths: {\n",
       "                'plotly': ['https://cdn.plot.ly/plotly-latest.min']\n",
       "            }\n",
       "        });\n",
       "        require(['plotly'], function(Plotly) {\n",
       "            window._Plotly = Plotly;\n",
       "        });\n",
       "        }\n",
       "        </script>\n",
       "        "
      ]
     },
     "metadata": {},
     "output_type": "display_data"
    },
    {
     "data": {
      "application/vnd.plotly.v1+json": {
       "config": {
        "linkText": "Export to plot.ly",
        "plotlyServerURL": "https://plot.ly",
        "showLink": false
       },
       "data": [
        {
         "marker": {
          "color": "black",
          "size": 12
         },
         "mode": "markers",
         "name": "All Queries",
         "text": [
          "WS2",
          "WSe2",
          "Sr3WN3",
          "BW2",
          "Al12W",
          "Be2W",
          "P2W",
          "As3W2",
          "HfW2",
          "Si2W",
          "WSe2",
          "WO3",
          "WC",
          "SrWO4",
          "MnWO4",
          "WO3",
          "Co3W",
          "WS2",
          "Te2W",
          "WCl6",
          "PW",
          "Rb2WBr6",
          "Al5W",
          "IrW",
          "Ir3W",
          "Ni4W",
          "Rh3W",
          "WO3",
          "Be12W",
          "B2W",
          "ZrW2",
          "BW",
          "AlFe2W",
          "Ru3W",
          "TiTc2W",
          "Mn2GaW",
          "TaW3",
          "WS2",
          "Na2WO4",
          "MgWO4",
          "ZnWO4",
          "BaWO4",
          "Mn(BW)2",
          "Co(BW)3",
          "Tl2WCl6",
          "Cs2WCl6",
          "Li6WN4",
          "Cs2WBr6",
          "K3WF6",
          "K2WCl6",
          "Co(BW)2",
          "LiRu2W",
          "ScTc2W",
          "Ta2OsW",
          "Mn2AlW",
          "TiMn2W",
          "HfTc2W",
          "SiTc2W",
          "Nb2RuW",
          "Y6WO12",
          "Li2WO4",
          "CdWO4",
          "FeWO4",
          "CoBW",
          "WSCl4",
          "Rb2WCl6",
          "W2NCl8",
          "BeRu2W",
          "TiRe2W",
          "Ta2TcW",
          "Ti2IrW",
          "LaWN3",
          "Sr2MgWO6",
          "ZrTc2W",
          "Sr2MgWO6",
          "Ba2NiWO6"
         ],
         "type": "scatter",
         "x": [
          4.475734301828639,
          5.899583046510899,
          5.462967484451806,
          16.759719143418597,
          3.8578125920980217,
          10.61119770894338,
          9.119852404115473,
          11.060425705379506,
          16.35379926381758,
          9.6897801198612,
          7.857112292094283,
          6.736530704630063,
          15.350369049615528,
          6.025777640367976,
          6.873201232546636,
          6.656532446046254,
          12.924119014628044,
          6.576662629224075,
          8.52337626142813,
          2.8871453581302764,
          12.101822263901672,
          4.402747880282043,
          5.700302231165966,
          20.51773602835673,
          21.330343318581765,
          11.890071744875302,
          14.09088558699496,
          6.652246333149564,
          4.44490512930156,
          12.273198211557318,
          13.520587967518765,
          15.33150244232636,
          10.595547042879602,
          13.996375532327349,
          11.693560622969297,
          11.64361163073422,
          18.29084523624195,
          6.557005454576976,
          4.882345568913017,
          6.570296868323321,
          7.443635300744208,
          6.023402681770163,
          13.758273458431207,
          14.622451906693493,
          5.236190379929374,
          3.698710211093106,
          4.197507863121574,
          4.465235393671986,
          3.501656520937873,
          3.1341795205605334,
          14.323754745444651,
          11.758406891033074,
          11.070671426475803,
          18.394782943153743,
          10.371408832123679,
          10.694686868620503,
          14.257435600687037,
          11.820854429189382,
          11.748825266136695,
          5.691973535616989,
          5.6259917430087265,
          7.530508481518047,
          7.090244770279603,
          13.555392664326869,
          2.8034848881114973,
          3.491749670129747,
          3.5177319970060004,
          12.192531634462222,
          16.2597984805017,
          16.036825639827363,
          12.73920881877668,
          9.211968838178699,
          6.1671974111669625,
          11.857923133807889,
          6.1512269436116895,
          7.36889259174993
         ],
         "y": [
          0.08257334275053553,
          0.11024325465688314,
          0.22841736756846093,
          0.10836851741914386,
          0.07939051425546975,
          0.11422019519156848,
          0.07332292275653558,
          0.08306150992567858,
          0.11445983399408725,
          0.07796508983093957,
          0.14682285586222174,
          0.4728995058550828,
          0.09443314901107484,
          0.4872011957550757,
          0.4996037972608592,
          0.467283686880555,
          0.1637459227833799,
          0.12133361384201971,
          0.2339572383524664,
          0.060568165198224756,
          0.08768324439395658,
          0.18270163943459958,
          0.08969871960536403,
          0.12363732896873912,
          0.12691068242970038,
          0.14842291991785136,
          0.12203762300241633,
          0.4669828049043932,
          0.11194500887224383,
          0.08867297631741011,
          0.11425525703674214,
          0.1032275147402567,
          0.16552365154728016,
          0.09547327770763563,
          0.12995482663470073,
          0.11594151452300065,
          0.11988976789467923,
          0.12097095634043858,
          0.4851450410002235,
          0.5534843713583136,
          0.5474954263268575,
          0.46392248834379135,
          0.10246923819237935,
          0.11545228943877127,
          0.13170087425363902,
          0.21350855354098544,
          0.21908630117720407,
          0.19923862829669522,
          0.2784983979460109,
          0.17188558147103808,
          0.12032504730518599,
          0.1326519514907177,
          0.1288330231068964,
          0.11715638382166726,
          0.10631552893764658,
          0.12742539392074806,
          0.12114553533474155,
          0.10409423158298989,
          0.1159841298014464,
          0.4927485249409463,
          0.5373804615091922,
          0.5139723207489376,
          0.5342803459794407,
          0.1312194795487426,
          0.05990804733380303,
          0.19318351702411826,
          0.06599075121463953,
          0.09605626044542716,
          0.12165122589678566,
          0.12325422175976486,
          0.14534137903239383,
          0.1790518834885911,
          0.5740456988841371,
          0.1208149676405688,
          0.5725591600889507,
          0.5903457057218283
         ]
        },
        {
         "marker": {
          "color": "green",
          "size": 18
         },
         "mode": "markers",
         "name": "Al2O3",
         "text": "Al2O3",
         "type": "scatter",
         "x": [],
         "y": []
        },
        {
         "marker": {
          "color": "blue",
          "size": 18
         },
         "mode": "markers",
         "name": "Cr2O3",
         "text": "Cr2O3",
         "type": "scatter",
         "x": [],
         "y": []
        },
        {
         "marker": {
          "color": "orange",
          "size": 18
         },
         "mode": "markers",
         "name": "Y2O3",
         "text": "Y2O3",
         "type": "scatter",
         "x": [],
         "y": []
        },
        {
         "marker": {
          "color": "magenta",
          "size": 18
         },
         "mode": "markers",
         "name": "SiO2",
         "text": "SiO2",
         "type": "scatter",
         "x": [],
         "y": []
        }
       ],
       "layout": {
        "font": {
         "family": "Times New Roman",
         "size": 18
        },
        "height": 600,
        "hovermode": "closest",
        "showlegend": true,
        "template": {
         "data": {
          "bar": [
           {
            "error_x": {
             "color": "#2a3f5f"
            },
            "error_y": {
             "color": "#2a3f5f"
            },
            "marker": {
             "line": {
              "color": "#E5ECF6",
              "width": 0.5
             }
            },
            "type": "bar"
           }
          ],
          "barpolar": [
           {
            "marker": {
             "line": {
              "color": "#E5ECF6",
              "width": 0.5
             }
            },
            "type": "barpolar"
           }
          ],
          "carpet": [
           {
            "aaxis": {
             "endlinecolor": "#2a3f5f",
             "gridcolor": "white",
             "linecolor": "white",
             "minorgridcolor": "white",
             "startlinecolor": "#2a3f5f"
            },
            "baxis": {
             "endlinecolor": "#2a3f5f",
             "gridcolor": "white",
             "linecolor": "white",
             "minorgridcolor": "white",
             "startlinecolor": "#2a3f5f"
            },
            "type": "carpet"
           }
          ],
          "choropleth": [
           {
            "colorbar": {
             "outlinewidth": 0,
             "ticks": ""
            },
            "type": "choropleth"
           }
          ],
          "contour": [
           {
            "colorbar": {
             "outlinewidth": 0,
             "ticks": ""
            },
            "colorscale": [
             [
              0,
              "#0d0887"
             ],
             [
              0.1111111111111111,
              "#46039f"
             ],
             [
              0.2222222222222222,
              "#7201a8"
             ],
             [
              0.3333333333333333,
              "#9c179e"
             ],
             [
              0.4444444444444444,
              "#bd3786"
             ],
             [
              0.5555555555555556,
              "#d8576b"
             ],
             [
              0.6666666666666666,
              "#ed7953"
             ],
             [
              0.7777777777777778,
              "#fb9f3a"
             ],
             [
              0.8888888888888888,
              "#fdca26"
             ],
             [
              1,
              "#f0f921"
             ]
            ],
            "type": "contour"
           }
          ],
          "contourcarpet": [
           {
            "colorbar": {
             "outlinewidth": 0,
             "ticks": ""
            },
            "type": "contourcarpet"
           }
          ],
          "heatmap": [
           {
            "colorbar": {
             "outlinewidth": 0,
             "ticks": ""
            },
            "colorscale": [
             [
              0,
              "#0d0887"
             ],
             [
              0.1111111111111111,
              "#46039f"
             ],
             [
              0.2222222222222222,
              "#7201a8"
             ],
             [
              0.3333333333333333,
              "#9c179e"
             ],
             [
              0.4444444444444444,
              "#bd3786"
             ],
             [
              0.5555555555555556,
              "#d8576b"
             ],
             [
              0.6666666666666666,
              "#ed7953"
             ],
             [
              0.7777777777777778,
              "#fb9f3a"
             ],
             [
              0.8888888888888888,
              "#fdca26"
             ],
             [
              1,
              "#f0f921"
             ]
            ],
            "type": "heatmap"
           }
          ],
          "heatmapgl": [
           {
            "colorbar": {
             "outlinewidth": 0,
             "ticks": ""
            },
            "colorscale": [
             [
              0,
              "#0d0887"
             ],
             [
              0.1111111111111111,
              "#46039f"
             ],
             [
              0.2222222222222222,
              "#7201a8"
             ],
             [
              0.3333333333333333,
              "#9c179e"
             ],
             [
              0.4444444444444444,
              "#bd3786"
             ],
             [
              0.5555555555555556,
              "#d8576b"
             ],
             [
              0.6666666666666666,
              "#ed7953"
             ],
             [
              0.7777777777777778,
              "#fb9f3a"
             ],
             [
              0.8888888888888888,
              "#fdca26"
             ],
             [
              1,
              "#f0f921"
             ]
            ],
            "type": "heatmapgl"
           }
          ],
          "histogram": [
           {
            "marker": {
             "colorbar": {
              "outlinewidth": 0,
              "ticks": ""
             }
            },
            "type": "histogram"
           }
          ],
          "histogram2d": [
           {
            "colorbar": {
             "outlinewidth": 0,
             "ticks": ""
            },
            "colorscale": [
             [
              0,
              "#0d0887"
             ],
             [
              0.1111111111111111,
              "#46039f"
             ],
             [
              0.2222222222222222,
              "#7201a8"
             ],
             [
              0.3333333333333333,
              "#9c179e"
             ],
             [
              0.4444444444444444,
              "#bd3786"
             ],
             [
              0.5555555555555556,
              "#d8576b"
             ],
             [
              0.6666666666666666,
              "#ed7953"
             ],
             [
              0.7777777777777778,
              "#fb9f3a"
             ],
             [
              0.8888888888888888,
              "#fdca26"
             ],
             [
              1,
              "#f0f921"
             ]
            ],
            "type": "histogram2d"
           }
          ],
          "histogram2dcontour": [
           {
            "colorbar": {
             "outlinewidth": 0,
             "ticks": ""
            },
            "colorscale": [
             [
              0,
              "#0d0887"
             ],
             [
              0.1111111111111111,
              "#46039f"
             ],
             [
              0.2222222222222222,
              "#7201a8"
             ],
             [
              0.3333333333333333,
              "#9c179e"
             ],
             [
              0.4444444444444444,
              "#bd3786"
             ],
             [
              0.5555555555555556,
              "#d8576b"
             ],
             [
              0.6666666666666666,
              "#ed7953"
             ],
             [
              0.7777777777777778,
              "#fb9f3a"
             ],
             [
              0.8888888888888888,
              "#fdca26"
             ],
             [
              1,
              "#f0f921"
             ]
            ],
            "type": "histogram2dcontour"
           }
          ],
          "mesh3d": [
           {
            "colorbar": {
             "outlinewidth": 0,
             "ticks": ""
            },
            "type": "mesh3d"
           }
          ],
          "parcoords": [
           {
            "line": {
             "colorbar": {
              "outlinewidth": 0,
              "ticks": ""
             }
            },
            "type": "parcoords"
           }
          ],
          "pie": [
           {
            "automargin": true,
            "type": "pie"
           }
          ],
          "scatter": [
           {
            "marker": {
             "colorbar": {
              "outlinewidth": 0,
              "ticks": ""
             }
            },
            "type": "scatter"
           }
          ],
          "scatter3d": [
           {
            "line": {
             "colorbar": {
              "outlinewidth": 0,
              "ticks": ""
             }
            },
            "marker": {
             "colorbar": {
              "outlinewidth": 0,
              "ticks": ""
             }
            },
            "type": "scatter3d"
           }
          ],
          "scattercarpet": [
           {
            "marker": {
             "colorbar": {
              "outlinewidth": 0,
              "ticks": ""
             }
            },
            "type": "scattercarpet"
           }
          ],
          "scattergeo": [
           {
            "marker": {
             "colorbar": {
              "outlinewidth": 0,
              "ticks": ""
             }
            },
            "type": "scattergeo"
           }
          ],
          "scattergl": [
           {
            "marker": {
             "colorbar": {
              "outlinewidth": 0,
              "ticks": ""
             }
            },
            "type": "scattergl"
           }
          ],
          "scattermapbox": [
           {
            "marker": {
             "colorbar": {
              "outlinewidth": 0,
              "ticks": ""
             }
            },
            "type": "scattermapbox"
           }
          ],
          "scatterpolar": [
           {
            "marker": {
             "colorbar": {
              "outlinewidth": 0,
              "ticks": ""
             }
            },
            "type": "scatterpolar"
           }
          ],
          "scatterpolargl": [
           {
            "marker": {
             "colorbar": {
              "outlinewidth": 0,
              "ticks": ""
             }
            },
            "type": "scatterpolargl"
           }
          ],
          "scatterternary": [
           {
            "marker": {
             "colorbar": {
              "outlinewidth": 0,
              "ticks": ""
             }
            },
            "type": "scatterternary"
           }
          ],
          "surface": [
           {
            "colorbar": {
             "outlinewidth": 0,
             "ticks": ""
            },
            "colorscale": [
             [
              0,
              "#0d0887"
             ],
             [
              0.1111111111111111,
              "#46039f"
             ],
             [
              0.2222222222222222,
              "#7201a8"
             ],
             [
              0.3333333333333333,
              "#9c179e"
             ],
             [
              0.4444444444444444,
              "#bd3786"
             ],
             [
              0.5555555555555556,
              "#d8576b"
             ],
             [
              0.6666666666666666,
              "#ed7953"
             ],
             [
              0.7777777777777778,
              "#fb9f3a"
             ],
             [
              0.8888888888888888,
              "#fdca26"
             ],
             [
              1,
              "#f0f921"
             ]
            ],
            "type": "surface"
           }
          ],
          "table": [
           {
            "cells": {
             "fill": {
              "color": "#EBF0F8"
             },
             "line": {
              "color": "white"
             }
            },
            "header": {
             "fill": {
              "color": "#C8D4E3"
             },
             "line": {
              "color": "white"
             }
            },
            "type": "table"
           }
          ]
         },
         "layout": {
          "annotationdefaults": {
           "arrowcolor": "#2a3f5f",
           "arrowhead": 0,
           "arrowwidth": 1
          },
          "coloraxis": {
           "colorbar": {
            "outlinewidth": 0,
            "ticks": ""
           }
          },
          "colorscale": {
           "diverging": [
            [
             0,
             "#8e0152"
            ],
            [
             0.1,
             "#c51b7d"
            ],
            [
             0.2,
             "#de77ae"
            ],
            [
             0.3,
             "#f1b6da"
            ],
            [
             0.4,
             "#fde0ef"
            ],
            [
             0.5,
             "#f7f7f7"
            ],
            [
             0.6,
             "#e6f5d0"
            ],
            [
             0.7,
             "#b8e186"
            ],
            [
             0.8,
             "#7fbc41"
            ],
            [
             0.9,
             "#4d9221"
            ],
            [
             1,
             "#276419"
            ]
           ],
           "sequential": [
            [
             0,
             "#0d0887"
            ],
            [
             0.1111111111111111,
             "#46039f"
            ],
            [
             0.2222222222222222,
             "#7201a8"
            ],
            [
             0.3333333333333333,
             "#9c179e"
            ],
            [
             0.4444444444444444,
             "#bd3786"
            ],
            [
             0.5555555555555556,
             "#d8576b"
            ],
            [
             0.6666666666666666,
             "#ed7953"
            ],
            [
             0.7777777777777778,
             "#fb9f3a"
            ],
            [
             0.8888888888888888,
             "#fdca26"
            ],
            [
             1,
             "#f0f921"
            ]
           ],
           "sequentialminus": [
            [
             0,
             "#0d0887"
            ],
            [
             0.1111111111111111,
             "#46039f"
            ],
            [
             0.2222222222222222,
             "#7201a8"
            ],
            [
             0.3333333333333333,
             "#9c179e"
            ],
            [
             0.4444444444444444,
             "#bd3786"
            ],
            [
             0.5555555555555556,
             "#d8576b"
            ],
            [
             0.6666666666666666,
             "#ed7953"
            ],
            [
             0.7777777777777778,
             "#fb9f3a"
            ],
            [
             0.8888888888888888,
             "#fdca26"
            ],
            [
             1,
             "#f0f921"
            ]
           ]
          },
          "colorway": [
           "#636efa",
           "#EF553B",
           "#00cc96",
           "#ab63fa",
           "#FFA15A",
           "#19d3f3",
           "#FF6692",
           "#B6E880",
           "#FF97FF",
           "#FECB52"
          ],
          "font": {
           "color": "#2a3f5f"
          },
          "geo": {
           "bgcolor": "white",
           "lakecolor": "white",
           "landcolor": "#E5ECF6",
           "showlakes": true,
           "showland": true,
           "subunitcolor": "white"
          },
          "hoverlabel": {
           "align": "left"
          },
          "hovermode": "closest",
          "mapbox": {
           "style": "light"
          },
          "paper_bgcolor": "white",
          "plot_bgcolor": "#E5ECF6",
          "polar": {
           "angularaxis": {
            "gridcolor": "white",
            "linecolor": "white",
            "ticks": ""
           },
           "bgcolor": "#E5ECF6",
           "radialaxis": {
            "gridcolor": "white",
            "linecolor": "white",
            "ticks": ""
           }
          },
          "scene": {
           "xaxis": {
            "backgroundcolor": "#E5ECF6",
            "gridcolor": "white",
            "gridwidth": 2,
            "linecolor": "white",
            "showbackground": true,
            "ticks": "",
            "zerolinecolor": "white"
           },
           "yaxis": {
            "backgroundcolor": "#E5ECF6",
            "gridcolor": "white",
            "gridwidth": 2,
            "linecolor": "white",
            "showbackground": true,
            "ticks": "",
            "zerolinecolor": "white"
           },
           "zaxis": {
            "backgroundcolor": "#E5ECF6",
            "gridcolor": "white",
            "gridwidth": 2,
            "linecolor": "white",
            "showbackground": true,
            "ticks": "",
            "zerolinecolor": "white"
           }
          },
          "shapedefaults": {
           "line": {
            "color": "#2a3f5f"
           }
          },
          "ternary": {
           "aaxis": {
            "gridcolor": "white",
            "linecolor": "white",
            "ticks": ""
           },
           "baxis": {
            "gridcolor": "white",
            "linecolor": "white",
            "ticks": ""
           },
           "bgcolor": "#E5ECF6",
           "caxis": {
            "gridcolor": "white",
            "linecolor": "white",
            "ticks": ""
           }
          },
          "title": {
           "x": 0.05
          },
          "xaxis": {
           "automargin": true,
           "gridcolor": "white",
           "linecolor": "white",
           "ticks": "",
           "title": {
            "standoff": 15
           },
           "zerolinecolor": "white",
           "zerolinewidth": 2
          },
          "yaxis": {
           "automargin": true,
           "gridcolor": "white",
           "linecolor": "white",
           "ticks": "",
           "title": {
            "standoff": 15
           },
           "zerolinecolor": "white",
           "zerolinewidth": 2
          }
         }
        },
        "title": {
         "text": "Oxide Query IPF vs. Density"
        },
        "width": 1200,
        "xaxis": {
         "gridwidth": 2,
         "title": {
          "text": "$Density \\: [g/cm^{3}]$"
         },
         "zeroline": false
        },
        "yaxis": {
         "gridwidth": 2,
         "title": {
          "text": "$Ionic \\: Packing \\: Fraction \\: [IPF]$"
         },
         "zeroline": false
        }
       }
      },
      "text/html": [
       "<div>\n",
       "        \n",
       "        \n",
       "            <div id=\"0fe7ce9a-2e9d-4919-b5ca-c13b84e1a9cf\" class=\"plotly-graph-div\" style=\"height:600px; width:1200px;\"></div>\n",
       "            <script type=\"text/javascript\">\n",
       "                require([\"plotly\"], function(Plotly) {\n",
       "                    window.PLOTLYENV=window.PLOTLYENV || {};\n",
       "                    \n",
       "                if (document.getElementById(\"0fe7ce9a-2e9d-4919-b5ca-c13b84e1a9cf\")) {\n",
       "                    Plotly.newPlot(\n",
       "                        '0fe7ce9a-2e9d-4919-b5ca-c13b84e1a9cf',\n",
       "                        [{\"marker\": {\"color\": \"black\", \"size\": 12}, \"mode\": \"markers\", \"name\": \"All Queries\", \"text\": [\"WS2\", \"WSe2\", \"Sr3WN3\", \"BW2\", \"Al12W\", \"Be2W\", \"P2W\", \"As3W2\", \"HfW2\", \"Si2W\", \"WSe2\", \"WO3\", \"WC\", \"SrWO4\", \"MnWO4\", \"WO3\", \"Co3W\", \"WS2\", \"Te2W\", \"WCl6\", \"PW\", \"Rb2WBr6\", \"Al5W\", \"IrW\", \"Ir3W\", \"Ni4W\", \"Rh3W\", \"WO3\", \"Be12W\", \"B2W\", \"ZrW2\", \"BW\", \"AlFe2W\", \"Ru3W\", \"TiTc2W\", \"Mn2GaW\", \"TaW3\", \"WS2\", \"Na2WO4\", \"MgWO4\", \"ZnWO4\", \"BaWO4\", \"Mn(BW)2\", \"Co(BW)3\", \"Tl2WCl6\", \"Cs2WCl6\", \"Li6WN4\", \"Cs2WBr6\", \"K3WF6\", \"K2WCl6\", \"Co(BW)2\", \"LiRu2W\", \"ScTc2W\", \"Ta2OsW\", \"Mn2AlW\", \"TiMn2W\", \"HfTc2W\", \"SiTc2W\", \"Nb2RuW\", \"Y6WO12\", \"Li2WO4\", \"CdWO4\", \"FeWO4\", \"CoBW\", \"WSCl4\", \"Rb2WCl6\", \"W2NCl8\", \"BeRu2W\", \"TiRe2W\", \"Ta2TcW\", \"Ti2IrW\", \"LaWN3\", \"Sr2MgWO6\", \"ZrTc2W\", \"Sr2MgWO6\", \"Ba2NiWO6\"], \"type\": \"scatter\", \"x\": [4.475734301828639, 5.899583046510899, 5.462967484451806, 16.759719143418597, 3.8578125920980217, 10.61119770894338, 9.119852404115473, 11.060425705379506, 16.35379926381758, 9.6897801198612, 7.857112292094283, 6.736530704630063, 15.350369049615528, 6.025777640367976, 6.873201232546636, 6.656532446046254, 12.924119014628044, 6.576662629224075, 8.52337626142813, 2.8871453581302764, 12.101822263901672, 4.402747880282043, 5.700302231165966, 20.51773602835673, 21.330343318581765, 11.890071744875302, 14.09088558699496, 6.652246333149564, 4.44490512930156, 12.273198211557318, 13.520587967518765, 15.33150244232636, 10.595547042879602, 13.996375532327349, 11.693560622969297, 11.64361163073422, 18.29084523624195, 6.557005454576976, 4.882345568913017, 6.570296868323321, 7.443635300744208, 6.023402681770163, 13.758273458431207, 14.622451906693493, 5.236190379929374, 3.698710211093106, 4.197507863121574, 4.465235393671986, 3.501656520937873, 3.1341795205605334, 14.323754745444651, 11.758406891033074, 11.070671426475803, 18.394782943153743, 10.371408832123679, 10.694686868620503, 14.257435600687037, 11.820854429189382, 11.748825266136695, 5.691973535616989, 5.6259917430087265, 7.530508481518047, 7.090244770279603, 13.555392664326869, 2.8034848881114973, 3.491749670129747, 3.5177319970060004, 12.192531634462222, 16.2597984805017, 16.036825639827363, 12.73920881877668, 9.211968838178699, 6.1671974111669625, 11.857923133807889, 6.1512269436116895, 7.36889259174993], \"y\": [0.08257334275053553, 0.11024325465688314, 0.22841736756846093, 0.10836851741914386, 0.07939051425546975, 0.11422019519156848, 0.07332292275653558, 0.08306150992567858, 0.11445983399408725, 0.07796508983093957, 0.14682285586222174, 0.4728995058550828, 0.09443314901107484, 0.4872011957550757, 0.4996037972608592, 0.467283686880555, 0.1637459227833799, 0.12133361384201971, 0.2339572383524664, 0.060568165198224756, 0.08768324439395658, 0.18270163943459958, 0.08969871960536403, 0.12363732896873912, 0.12691068242970038, 0.14842291991785136, 0.12203762300241633, 0.4669828049043932, 0.11194500887224383, 0.08867297631741011, 0.11425525703674214, 0.1032275147402567, 0.16552365154728016, 0.09547327770763563, 0.12995482663470073, 0.11594151452300065, 0.11988976789467923, 0.12097095634043858, 0.4851450410002235, 0.5534843713583136, 0.5474954263268575, 0.46392248834379135, 0.10246923819237935, 0.11545228943877127, 0.13170087425363902, 0.21350855354098544, 0.21908630117720407, 0.19923862829669522, 0.2784983979460109, 0.17188558147103808, 0.12032504730518599, 0.1326519514907177, 0.1288330231068964, 0.11715638382166726, 0.10631552893764658, 0.12742539392074806, 0.12114553533474155, 0.10409423158298989, 0.1159841298014464, 0.4927485249409463, 0.5373804615091922, 0.5139723207489376, 0.5342803459794407, 0.1312194795487426, 0.05990804733380303, 0.19318351702411826, 0.06599075121463953, 0.09605626044542716, 0.12165122589678566, 0.12325422175976486, 0.14534137903239383, 0.1790518834885911, 0.5740456988841371, 0.1208149676405688, 0.5725591600889507, 0.5903457057218283]}, {\"marker\": {\"color\": \"green\", \"size\": 18}, \"mode\": \"markers\", \"name\": \"Al2O3\", \"text\": \"Al2O3\", \"type\": \"scatter\", \"x\": [], \"y\": []}, {\"marker\": {\"color\": \"blue\", \"size\": 18}, \"mode\": \"markers\", \"name\": \"Cr2O3\", \"text\": \"Cr2O3\", \"type\": \"scatter\", \"x\": [], \"y\": []}, {\"marker\": {\"color\": \"orange\", \"size\": 18}, \"mode\": \"markers\", \"name\": \"Y2O3\", \"text\": \"Y2O3\", \"type\": \"scatter\", \"x\": [], \"y\": []}, {\"marker\": {\"color\": \"magenta\", \"size\": 18}, \"mode\": \"markers\", \"name\": \"SiO2\", \"text\": \"SiO2\", \"type\": \"scatter\", \"x\": [], \"y\": []}],\n",
       "                        {\"font\": {\"family\": \"Times New Roman\", \"size\": 18}, \"height\": 600, \"hovermode\": \"closest\", \"showlegend\": true, \"template\": {\"data\": {\"bar\": [{\"error_x\": {\"color\": \"#2a3f5f\"}, \"error_y\": {\"color\": \"#2a3f5f\"}, \"marker\": {\"line\": {\"color\": \"#E5ECF6\", \"width\": 0.5}}, \"type\": \"bar\"}], \"barpolar\": [{\"marker\": {\"line\": {\"color\": \"#E5ECF6\", \"width\": 0.5}}, \"type\": \"barpolar\"}], \"carpet\": [{\"aaxis\": {\"endlinecolor\": \"#2a3f5f\", \"gridcolor\": \"white\", \"linecolor\": \"white\", \"minorgridcolor\": \"white\", \"startlinecolor\": \"#2a3f5f\"}, \"baxis\": {\"endlinecolor\": \"#2a3f5f\", \"gridcolor\": \"white\", \"linecolor\": \"white\", \"minorgridcolor\": \"white\", \"startlinecolor\": \"#2a3f5f\"}, \"type\": \"carpet\"}], \"choropleth\": [{\"colorbar\": {\"outlinewidth\": 0, \"ticks\": \"\"}, \"type\": \"choropleth\"}], \"contour\": [{\"colorbar\": {\"outlinewidth\": 0, \"ticks\": \"\"}, \"colorscale\": [[0.0, \"#0d0887\"], [0.1111111111111111, \"#46039f\"], [0.2222222222222222, \"#7201a8\"], [0.3333333333333333, \"#9c179e\"], [0.4444444444444444, \"#bd3786\"], [0.5555555555555556, \"#d8576b\"], [0.6666666666666666, \"#ed7953\"], [0.7777777777777778, \"#fb9f3a\"], [0.8888888888888888, \"#fdca26\"], [1.0, \"#f0f921\"]], \"type\": \"contour\"}], \"contourcarpet\": [{\"colorbar\": {\"outlinewidth\": 0, \"ticks\": \"\"}, \"type\": \"contourcarpet\"}], \"heatmap\": [{\"colorbar\": {\"outlinewidth\": 0, \"ticks\": \"\"}, \"colorscale\": [[0.0, \"#0d0887\"], [0.1111111111111111, \"#46039f\"], [0.2222222222222222, \"#7201a8\"], [0.3333333333333333, \"#9c179e\"], [0.4444444444444444, \"#bd3786\"], [0.5555555555555556, \"#d8576b\"], [0.6666666666666666, \"#ed7953\"], [0.7777777777777778, \"#fb9f3a\"], [0.8888888888888888, \"#fdca26\"], [1.0, \"#f0f921\"]], \"type\": \"heatmap\"}], \"heatmapgl\": [{\"colorbar\": {\"outlinewidth\": 0, \"ticks\": \"\"}, \"colorscale\": [[0.0, \"#0d0887\"], [0.1111111111111111, \"#46039f\"], [0.2222222222222222, \"#7201a8\"], [0.3333333333333333, \"#9c179e\"], [0.4444444444444444, \"#bd3786\"], [0.5555555555555556, \"#d8576b\"], [0.6666666666666666, \"#ed7953\"], [0.7777777777777778, \"#fb9f3a\"], [0.8888888888888888, \"#fdca26\"], [1.0, \"#f0f921\"]], \"type\": \"heatmapgl\"}], \"histogram\": [{\"marker\": {\"colorbar\": {\"outlinewidth\": 0, \"ticks\": \"\"}}, \"type\": \"histogram\"}], \"histogram2d\": [{\"colorbar\": {\"outlinewidth\": 0, \"ticks\": \"\"}, \"colorscale\": [[0.0, \"#0d0887\"], [0.1111111111111111, \"#46039f\"], [0.2222222222222222, \"#7201a8\"], [0.3333333333333333, \"#9c179e\"], [0.4444444444444444, \"#bd3786\"], [0.5555555555555556, \"#d8576b\"], [0.6666666666666666, \"#ed7953\"], [0.7777777777777778, \"#fb9f3a\"], [0.8888888888888888, \"#fdca26\"], [1.0, \"#f0f921\"]], \"type\": \"histogram2d\"}], \"histogram2dcontour\": [{\"colorbar\": {\"outlinewidth\": 0, \"ticks\": \"\"}, \"colorscale\": [[0.0, \"#0d0887\"], [0.1111111111111111, \"#46039f\"], [0.2222222222222222, \"#7201a8\"], [0.3333333333333333, \"#9c179e\"], [0.4444444444444444, \"#bd3786\"], [0.5555555555555556, \"#d8576b\"], [0.6666666666666666, \"#ed7953\"], [0.7777777777777778, \"#fb9f3a\"], [0.8888888888888888, \"#fdca26\"], [1.0, \"#f0f921\"]], \"type\": \"histogram2dcontour\"}], \"mesh3d\": [{\"colorbar\": {\"outlinewidth\": 0, \"ticks\": \"\"}, \"type\": \"mesh3d\"}], \"parcoords\": [{\"line\": {\"colorbar\": {\"outlinewidth\": 0, \"ticks\": \"\"}}, \"type\": \"parcoords\"}], \"pie\": [{\"automargin\": true, \"type\": \"pie\"}], \"scatter\": [{\"marker\": {\"colorbar\": {\"outlinewidth\": 0, \"ticks\": \"\"}}, \"type\": \"scatter\"}], \"scatter3d\": [{\"line\": {\"colorbar\": {\"outlinewidth\": 0, \"ticks\": \"\"}}, \"marker\": {\"colorbar\": {\"outlinewidth\": 0, \"ticks\": \"\"}}, \"type\": \"scatter3d\"}], \"scattercarpet\": [{\"marker\": {\"colorbar\": {\"outlinewidth\": 0, \"ticks\": \"\"}}, \"type\": \"scattercarpet\"}], \"scattergeo\": [{\"marker\": {\"colorbar\": {\"outlinewidth\": 0, \"ticks\": \"\"}}, \"type\": \"scattergeo\"}], \"scattergl\": [{\"marker\": {\"colorbar\": {\"outlinewidth\": 0, \"ticks\": \"\"}}, \"type\": \"scattergl\"}], \"scattermapbox\": [{\"marker\": {\"colorbar\": {\"outlinewidth\": 0, \"ticks\": \"\"}}, \"type\": \"scattermapbox\"}], \"scatterpolar\": [{\"marker\": {\"colorbar\": {\"outlinewidth\": 0, \"ticks\": \"\"}}, \"type\": \"scatterpolar\"}], \"scatterpolargl\": [{\"marker\": {\"colorbar\": {\"outlinewidth\": 0, \"ticks\": \"\"}}, \"type\": \"scatterpolargl\"}], \"scatterternary\": [{\"marker\": {\"colorbar\": {\"outlinewidth\": 0, \"ticks\": \"\"}}, \"type\": \"scatterternary\"}], \"surface\": [{\"colorbar\": {\"outlinewidth\": 0, \"ticks\": \"\"}, \"colorscale\": [[0.0, \"#0d0887\"], [0.1111111111111111, \"#46039f\"], [0.2222222222222222, \"#7201a8\"], [0.3333333333333333, \"#9c179e\"], [0.4444444444444444, \"#bd3786\"], [0.5555555555555556, \"#d8576b\"], [0.6666666666666666, \"#ed7953\"], [0.7777777777777778, \"#fb9f3a\"], [0.8888888888888888, \"#fdca26\"], [1.0, \"#f0f921\"]], \"type\": \"surface\"}], \"table\": [{\"cells\": {\"fill\": {\"color\": \"#EBF0F8\"}, \"line\": {\"color\": \"white\"}}, \"header\": {\"fill\": {\"color\": \"#C8D4E3\"}, \"line\": {\"color\": \"white\"}}, \"type\": \"table\"}]}, \"layout\": {\"annotationdefaults\": {\"arrowcolor\": \"#2a3f5f\", \"arrowhead\": 0, \"arrowwidth\": 1}, \"coloraxis\": {\"colorbar\": {\"outlinewidth\": 0, \"ticks\": \"\"}}, \"colorscale\": {\"diverging\": [[0, \"#8e0152\"], [0.1, \"#c51b7d\"], [0.2, \"#de77ae\"], [0.3, \"#f1b6da\"], [0.4, \"#fde0ef\"], [0.5, \"#f7f7f7\"], [0.6, \"#e6f5d0\"], [0.7, \"#b8e186\"], [0.8, \"#7fbc41\"], [0.9, \"#4d9221\"], [1, \"#276419\"]], \"sequential\": [[0.0, \"#0d0887\"], [0.1111111111111111, \"#46039f\"], [0.2222222222222222, \"#7201a8\"], [0.3333333333333333, \"#9c179e\"], [0.4444444444444444, \"#bd3786\"], [0.5555555555555556, \"#d8576b\"], [0.6666666666666666, \"#ed7953\"], [0.7777777777777778, \"#fb9f3a\"], [0.8888888888888888, \"#fdca26\"], [1.0, \"#f0f921\"]], \"sequentialminus\": [[0.0, \"#0d0887\"], [0.1111111111111111, \"#46039f\"], [0.2222222222222222, \"#7201a8\"], [0.3333333333333333, \"#9c179e\"], [0.4444444444444444, \"#bd3786\"], [0.5555555555555556, \"#d8576b\"], [0.6666666666666666, \"#ed7953\"], [0.7777777777777778, \"#fb9f3a\"], [0.8888888888888888, \"#fdca26\"], [1.0, \"#f0f921\"]]}, \"colorway\": [\"#636efa\", \"#EF553B\", \"#00cc96\", \"#ab63fa\", \"#FFA15A\", \"#19d3f3\", \"#FF6692\", \"#B6E880\", \"#FF97FF\", \"#FECB52\"], \"font\": {\"color\": \"#2a3f5f\"}, \"geo\": {\"bgcolor\": \"white\", \"lakecolor\": \"white\", \"landcolor\": \"#E5ECF6\", \"showlakes\": true, \"showland\": true, \"subunitcolor\": \"white\"}, \"hoverlabel\": {\"align\": \"left\"}, \"hovermode\": \"closest\", \"mapbox\": {\"style\": \"light\"}, \"paper_bgcolor\": \"white\", \"plot_bgcolor\": \"#E5ECF6\", \"polar\": {\"angularaxis\": {\"gridcolor\": \"white\", \"linecolor\": \"white\", \"ticks\": \"\"}, \"bgcolor\": \"#E5ECF6\", \"radialaxis\": {\"gridcolor\": \"white\", \"linecolor\": \"white\", \"ticks\": \"\"}}, \"scene\": {\"xaxis\": {\"backgroundcolor\": \"#E5ECF6\", \"gridcolor\": \"white\", \"gridwidth\": 2, \"linecolor\": \"white\", \"showbackground\": true, \"ticks\": \"\", \"zerolinecolor\": \"white\"}, \"yaxis\": {\"backgroundcolor\": \"#E5ECF6\", \"gridcolor\": \"white\", \"gridwidth\": 2, \"linecolor\": \"white\", \"showbackground\": true, \"ticks\": \"\", \"zerolinecolor\": \"white\"}, \"zaxis\": {\"backgroundcolor\": \"#E5ECF6\", \"gridcolor\": \"white\", \"gridwidth\": 2, \"linecolor\": \"white\", \"showbackground\": true, \"ticks\": \"\", \"zerolinecolor\": \"white\"}}, \"shapedefaults\": {\"line\": {\"color\": \"#2a3f5f\"}}, \"ternary\": {\"aaxis\": {\"gridcolor\": \"white\", \"linecolor\": \"white\", \"ticks\": \"\"}, \"baxis\": {\"gridcolor\": \"white\", \"linecolor\": \"white\", \"ticks\": \"\"}, \"bgcolor\": \"#E5ECF6\", \"caxis\": {\"gridcolor\": \"white\", \"linecolor\": \"white\", \"ticks\": \"\"}}, \"title\": {\"x\": 0.05}, \"xaxis\": {\"automargin\": true, \"gridcolor\": \"white\", \"linecolor\": \"white\", \"ticks\": \"\", \"title\": {\"standoff\": 15}, \"zerolinecolor\": \"white\", \"zerolinewidth\": 2}, \"yaxis\": {\"automargin\": true, \"gridcolor\": \"white\", \"linecolor\": \"white\", \"ticks\": \"\", \"title\": {\"standoff\": 15}, \"zerolinecolor\": \"white\", \"zerolinewidth\": 2}}}, \"title\": {\"text\": \"Oxide Query IPF vs. Density\"}, \"width\": 1200, \"xaxis\": {\"gridwidth\": 2, \"title\": {\"text\": \"$Density \\\\: [g/cm^{3}]$\"}, \"zeroline\": false}, \"yaxis\": {\"gridwidth\": 2, \"title\": {\"text\": \"$Ionic \\\\: Packing \\\\: Fraction \\\\: [IPF]$\"}, \"zeroline\": false}},\n",
       "                        {\"responsive\": true}\n",
       "                    ).then(function(){\n",
       "                            \n",
       "var gd = document.getElementById('0fe7ce9a-2e9d-4919-b5ca-c13b84e1a9cf');\n",
       "var x = new MutationObserver(function (mutations, observer) {{\n",
       "        var display = window.getComputedStyle(gd).display;\n",
       "        if (!display || display === 'none') {{\n",
       "            console.log([gd, 'removed!']);\n",
       "            Plotly.purge(gd);\n",
       "            observer.disconnect();\n",
       "        }}\n",
       "}});\n",
       "\n",
       "// Listen for the removal of the full notebook cells\n",
       "var notebookContainer = gd.closest('#notebook-container');\n",
       "if (notebookContainer) {{\n",
       "    x.observe(notebookContainer, {childList: true});\n",
       "}}\n",
       "\n",
       "// Listen for the clearing of the current output cell\n",
       "var outputEl = gd.closest('.output');\n",
       "if (outputEl) {{\n",
       "    x.observe(outputEl, {childList: true});\n",
       "}}\n",
       "\n",
       "                        })\n",
       "                };\n",
       "                });\n",
       "            </script>\n",
       "        </div>"
      ]
     },
     "metadata": {},
     "output_type": "display_data"
    }
   ],
   "source": [
    "import plotly\n",
    "import plotly.graph_objs as go\n",
    "from plotly.offline import iplot\n",
    "\n",
    "plotly.offline.init_notebook_mode(connected=True)\n",
    "\n",
    "#Layout design. Can change title, font, x/y-axis etc. Commented out pieces are height and width. \n",
    "#For plot in browser I prefer long horizontal plots. For presentations square images may be preferred. \n",
    "#Image can be directly saved by hovering over image and clicking camera icon. \n",
    "layout_IPF = go.Layout(title= \"Oxide Query IPF vs. Density\", hovermode= 'closest',\n",
    "                   font = dict(family='Times New Roman',size=18),\n",
    "                   xaxis= dict(title= '$Density \\: [g/cm^{3}]$',zeroline= False, gridwidth= 2),\n",
    "                   yaxis= dict(title= '$Ionic \\: Packing \\: Fraction \\: [IPF]$',zeroline= False, gridwidth= 2),\n",
    "                   height = 600,\n",
    "                   width = 1200,\n",
    "     showlegend= True                \n",
    ")\n",
    "\n",
    "#Scatter plot of collected data. Use df_oxide_all dataframe. df_oxide_all.Density will pull density column.\n",
    "trace_all = go.Scatter(x = df_oxide.Density, y = df_oxide.IPF, mode = 'markers',\n",
    "                    marker=dict(size=12, color='black'), text = df_oxide.Formula, name = 'All Queries')\n",
    "\n",
    "trace_Al2O3 = go.Scatter(x = df_oxide[(df_oxide.Formula == 'Al2O3') & (df_oxide.E_above_Hull == 0)].loc[:,'Density'],\n",
    "                         y = df_oxide[(df_oxide.Formula == 'Al2O3') & (df_oxide.E_above_Hull == 0)].loc[:,'IPF'],\n",
    "                         mode = 'markers', marker=dict(size=18, color='green'), text = 'Al2O3', name = 'Al2O3')\n",
    "trace_Cr2O3 = go.Scatter(x = df_oxide[(df_oxide.Formula == 'Cr2O3') & (df_oxide.E_above_Hull == 0)].loc[:,'Density'],\n",
    "                         y = df_oxide[(df_oxide.Formula == 'Cr2O3') & (df_oxide.E_above_Hull == 0)].loc[:,'IPF'],\n",
    "                         mode = 'markers', marker=dict(size=18, color='blue'), text = 'Cr2O3', name = 'Cr2O3')\n",
    "trace_Y2O3 = go.Scatter(x = df_oxide[(df_oxide.Formula == 'Y2O3') & (df_oxide.E_above_Hull == 0)].loc[:,'Density'],\n",
    "                        y = df_oxide[(df_oxide.Formula == 'Y2O3') & (df_oxide.E_above_Hull == 0)].loc[:,'IPF'],\n",
    "                        mode = 'markers', marker=dict(size=18, color='orange'), text = 'Y2O3', name = 'Y2O3')\n",
    "trace_SiO2 = go.Scatter(x = df_oxide[(df_oxide.Formula == 'SiO2') & (df_oxide.E_above_Hull == 0)].loc[:,'Density'],\n",
    "                        y = df_oxide[(df_oxide.Formula == 'SiO2') & (df_oxide.E_above_Hull == 0)].loc[:,'IPF'],\n",
    "                        mode = 'markers', marker=dict(size=18, color='magenta'), text = 'SiO2', name = 'SiO2')\n",
    "\n",
    "data_IPF = [trace_all,trace_Al2O3,trace_Cr2O3,trace_Y2O3,trace_SiO2]#,trace0,trace2]\n",
    "fig_IPF = go.Figure(data_IPF, layout=layout_IPF)\n",
    "iplot(fig_IPF)"
   ]
  },
  {
   "cell_type": "markdown",
   "metadata": {},
   "source": [
    "## 3. Filtering data for elasticity"
   ]
  },
  {
   "cell_type": "markdown",
   "metadata": {},
   "source": [
    "### 3.1 Observe the reduction from all oxide species to the limited set for stable structures, and ones with mechanical property data\n"
   ]
  },
  {
   "cell_type": "code",
   "execution_count": 91,
   "metadata": {},
   "outputs": [
    {
     "name": "stdout",
     "output_type": "stream",
     "text": [
      "Number of oxide structures available on the MP database: 8932\n",
      "Number of oxide structures below 1.0 meV and with elasticity data: 76\n"
     ]
    }
   ],
   "source": [
    "print('Number of oxide structures available on the MP database: %s' % len(data))\n",
    "print('Number of oxide structures below %.1f meV and with elasticity data: %s' %(energy_cutoff_value, len(df_oxide)))"
   ]
  },
  {
   "cell_type": "markdown",
   "metadata": {},
   "source": [
    "### 3.2 Pull dataframe column with dictionary of elastic constants. Create separate columns for each value instead of inset in dictionary."
   ]
  },
  {
   "cell_type": "code",
   "execution_count": 92,
   "metadata": {},
   "outputs": [
    {
     "data": {
      "text/html": [
       "<div>\n",
       "<style scoped>\n",
       "    .dataframe tbody tr th:only-of-type {\n",
       "        vertical-align: middle;\n",
       "    }\n",
       "\n",
       "    .dataframe tbody tr th {\n",
       "        vertical-align: top;\n",
       "    }\n",
       "\n",
       "    .dataframe thead th {\n",
       "        text-align: right;\n",
       "    }\n",
       "</style>\n",
       "<table border=\"1\" class=\"dataframe\">\n",
       "  <thead>\n",
       "    <tr style=\"text-align: right;\">\n",
       "      <th></th>\n",
       "      <th>mp_id</th>\n",
       "      <th>Formula</th>\n",
       "      <th>Composition</th>\n",
       "      <th>IPF</th>\n",
       "      <th>Density</th>\n",
       "      <th>Elastic_Tensor</th>\n",
       "      <th>E_above_Hull</th>\n",
       "      <th>G_VRH</th>\n",
       "      <th>K_VRH</th>\n",
       "      <th>Elastic_Anisotropy</th>\n",
       "      <th>poisson_ratio</th>\n",
       "      <th>Y_Modulus</th>\n",
       "      <th>G_VRH</th>\n",
       "      <th>K_VRH</th>\n",
       "      <th>Elastic_Anisotropy</th>\n",
       "      <th>poisson_ratio</th>\n",
       "      <th>Y_Modulus</th>\n",
       "    </tr>\n",
       "  </thead>\n",
       "  <tbody>\n",
       "    <tr>\n",
       "      <th>0</th>\n",
       "      <td>mp-1025571</td>\n",
       "      <td>WS2</td>\n",
       "      <td>{'W': 1.0, 'S': 2.0}</td>\n",
       "      <td>0.0825733</td>\n",
       "      <td>4.47573</td>\n",
       "      <td>{'G_Reuss': -22.0, 'G_VRH': 2.0, 'G_Voigt': 25...</td>\n",
       "      <td>0.951299</td>\n",
       "      <td>2.0</td>\n",
       "      <td>19.0</td>\n",
       "      <td>-4.53</td>\n",
       "      <td>0.46</td>\n",
       "      <td>5.84</td>\n",
       "      <td>2.0</td>\n",
       "      <td>19.0</td>\n",
       "      <td>-4.53</td>\n",
       "      <td>0.46</td>\n",
       "      <td>5.84</td>\n",
       "    </tr>\n",
       "    <tr>\n",
       "      <th>1</th>\n",
       "      <td>mp-1028698</td>\n",
       "      <td>WSe2</td>\n",
       "      <td>{'W': 1.0, 'Se': 2.0}</td>\n",
       "      <td>0.110243</td>\n",
       "      <td>5.89958</td>\n",
       "      <td>{'G_Reuss': 1.0, 'G_VRH': 13.0, 'G_Voigt': 24....</td>\n",
       "      <td>0.174937</td>\n",
       "      <td>13.0</td>\n",
       "      <td>18.0</td>\n",
       "      <td>91.25</td>\n",
       "      <td>0.21</td>\n",
       "      <td>31.46</td>\n",
       "      <td>13.0</td>\n",
       "      <td>18.0</td>\n",
       "      <td>91.25</td>\n",
       "      <td>0.21</td>\n",
       "      <td>31.46</td>\n",
       "    </tr>\n",
       "    <tr>\n",
       "      <th>2</th>\n",
       "      <td>mp-1029655</td>\n",
       "      <td>Sr3WN3</td>\n",
       "      <td>{'Sr': 3.0, 'W': 1.0, 'N': 3.0}</td>\n",
       "      <td>0.228417</td>\n",
       "      <td>5.46297</td>\n",
       "      <td>{'G_Reuss': 30.0, 'G_VRH': 30.0, 'G_Voigt': 30...</td>\n",
       "      <td>0</td>\n",
       "      <td>30.0</td>\n",
       "      <td>57.0</td>\n",
       "      <td>0.10</td>\n",
       "      <td>0.27</td>\n",
       "      <td>76.20</td>\n",
       "      <td>30.0</td>\n",
       "      <td>57.0</td>\n",
       "      <td>0.10</td>\n",
       "      <td>0.27</td>\n",
       "      <td>76.20</td>\n",
       "    </tr>\n",
       "    <tr>\n",
       "      <th>3</th>\n",
       "      <td>mp-1113</td>\n",
       "      <td>BW2</td>\n",
       "      <td>{'B': 1.0, 'W': 2.0}</td>\n",
       "      <td>0.108369</td>\n",
       "      <td>16.7597</td>\n",
       "      <td>{'G_Reuss': 152.0, 'G_VRH': 152.0, 'G_Voigt': ...</td>\n",
       "      <td>0</td>\n",
       "      <td>152.0</td>\n",
       "      <td>330.0</td>\n",
       "      <td>0.04</td>\n",
       "      <td>0.30</td>\n",
       "      <td>395.20</td>\n",
       "      <td>152.0</td>\n",
       "      <td>330.0</td>\n",
       "      <td>0.04</td>\n",
       "      <td>0.30</td>\n",
       "      <td>395.20</td>\n",
       "    </tr>\n",
       "    <tr>\n",
       "      <th>4</th>\n",
       "      <td>mp-11227</td>\n",
       "      <td>Al12W</td>\n",
       "      <td>{'Al': 12.0, 'W': 1.0}</td>\n",
       "      <td>0.0793905</td>\n",
       "      <td>3.85781</td>\n",
       "      <td>{'G_Reuss': 57.0, 'G_VRH': 57.0, 'G_Voigt': 57...</td>\n",
       "      <td>0</td>\n",
       "      <td>57.0</td>\n",
       "      <td>92.0</td>\n",
       "      <td>0.00</td>\n",
       "      <td>0.24</td>\n",
       "      <td>141.36</td>\n",
       "      <td>57.0</td>\n",
       "      <td>92.0</td>\n",
       "      <td>0.00</td>\n",
       "      <td>0.24</td>\n",
       "      <td>141.36</td>\n",
       "    </tr>\n",
       "    <tr>\n",
       "      <th>...</th>\n",
       "      <td>...</td>\n",
       "      <td>...</td>\n",
       "      <td>...</td>\n",
       "      <td>...</td>\n",
       "      <td>...</td>\n",
       "      <td>...</td>\n",
       "      <td>...</td>\n",
       "      <td>...</td>\n",
       "      <td>...</td>\n",
       "      <td>...</td>\n",
       "      <td>...</td>\n",
       "      <td>...</td>\n",
       "      <td>...</td>\n",
       "      <td>...</td>\n",
       "      <td>...</td>\n",
       "      <td>...</td>\n",
       "      <td>...</td>\n",
       "    </tr>\n",
       "    <tr>\n",
       "      <th>71</th>\n",
       "      <td>mp-989524</td>\n",
       "      <td>LaWN3</td>\n",
       "      <td>{'La': 1.0, 'W': 1.0, 'N': 3.0}</td>\n",
       "      <td>0.179052</td>\n",
       "      <td>9.21197</td>\n",
       "      <td>{'G_Reuss': 41.0, 'G_VRH': 57.0, 'G_Voigt': 73...</td>\n",
       "      <td>0</td>\n",
       "      <td>57.0</td>\n",
       "      <td>170.0</td>\n",
       "      <td>3.82</td>\n",
       "      <td>0.35</td>\n",
       "      <td>153.90</td>\n",
       "      <td>57.0</td>\n",
       "      <td>170.0</td>\n",
       "      <td>3.82</td>\n",
       "      <td>0.35</td>\n",
       "      <td>153.90</td>\n",
       "    </tr>\n",
       "    <tr>\n",
       "      <th>72</th>\n",
       "      <td>mp-19420</td>\n",
       "      <td>Sr2MgWO6</td>\n",
       "      <td>{'Sr': 2.0, 'Mg': 1.0, 'W': 1.0, 'O': 6.0}</td>\n",
       "      <td>0.574046</td>\n",
       "      <td>6.1672</td>\n",
       "      <td>{'G_Reuss': 72.0, 'G_VRH': 72.0, 'G_Voigt': 72...</td>\n",
       "      <td>0.680335</td>\n",
       "      <td>72.0</td>\n",
       "      <td>127.0</td>\n",
       "      <td>0.05</td>\n",
       "      <td>0.26</td>\n",
       "      <td>181.44</td>\n",
       "      <td>72.0</td>\n",
       "      <td>127.0</td>\n",
       "      <td>0.05</td>\n",
       "      <td>0.26</td>\n",
       "      <td>181.44</td>\n",
       "    </tr>\n",
       "    <tr>\n",
       "      <th>73</th>\n",
       "      <td>mp-977545</td>\n",
       "      <td>ZrTc2W</td>\n",
       "      <td>{'Zr': 1.0, 'Tc': 2.0, 'W': 1.0}</td>\n",
       "      <td>0.120815</td>\n",
       "      <td>11.8579</td>\n",
       "      <td>{'G_Reuss': 104.0, 'G_VRH': 109.0, 'G_Voigt': ...</td>\n",
       "      <td>0</td>\n",
       "      <td>109.0</td>\n",
       "      <td>198.0</td>\n",
       "      <td>0.44</td>\n",
       "      <td>0.27</td>\n",
       "      <td>276.86</td>\n",
       "      <td>109.0</td>\n",
       "      <td>198.0</td>\n",
       "      <td>0.44</td>\n",
       "      <td>0.27</td>\n",
       "      <td>276.86</td>\n",
       "    </tr>\n",
       "    <tr>\n",
       "      <th>74</th>\n",
       "      <td>mp-18848</td>\n",
       "      <td>Sr2MgWO6</td>\n",
       "      <td>{'Sr': 2.0, 'Mg': 1.0, 'W': 1.0, 'O': 6.0}</td>\n",
       "      <td>0.572559</td>\n",
       "      <td>6.15123</td>\n",
       "      <td>{'G_Reuss': 76.0, 'G_VRH': 76.0, 'G_Voigt': 77...</td>\n",
       "      <td>0</td>\n",
       "      <td>76.0</td>\n",
       "      <td>179.0</td>\n",
       "      <td>0.07</td>\n",
       "      <td>0.31</td>\n",
       "      <td>199.12</td>\n",
       "      <td>76.0</td>\n",
       "      <td>179.0</td>\n",
       "      <td>0.07</td>\n",
       "      <td>0.31</td>\n",
       "      <td>199.12</td>\n",
       "    </tr>\n",
       "    <tr>\n",
       "      <th>75</th>\n",
       "      <td>mp-504723</td>\n",
       "      <td>Ba2NiWO6</td>\n",
       "      <td>{'Ba': 2.0, 'Ni': 1.0, 'W': 1.0, 'O': 6.0}</td>\n",
       "      <td>0.590346</td>\n",
       "      <td>7.36889</td>\n",
       "      <td>{'G_Reuss': 62.0, 'G_VRH': 65.0, 'G_Voigt': 68...</td>\n",
       "      <td>0</td>\n",
       "      <td>65.0</td>\n",
       "      <td>122.0</td>\n",
       "      <td>0.48</td>\n",
       "      <td>0.27</td>\n",
       "      <td>165.10</td>\n",
       "      <td>65.0</td>\n",
       "      <td>122.0</td>\n",
       "      <td>0.48</td>\n",
       "      <td>0.27</td>\n",
       "      <td>165.10</td>\n",
       "    </tr>\n",
       "  </tbody>\n",
       "</table>\n",
       "<p>76 rows × 17 columns</p>\n",
       "</div>"
      ],
      "text/plain": [
       "         mp_id   Formula                                 Composition  \\\n",
       "0   mp-1025571       WS2                        {'W': 1.0, 'S': 2.0}   \n",
       "1   mp-1028698      WSe2                       {'W': 1.0, 'Se': 2.0}   \n",
       "2   mp-1029655    Sr3WN3             {'Sr': 3.0, 'W': 1.0, 'N': 3.0}   \n",
       "3      mp-1113       BW2                        {'B': 1.0, 'W': 2.0}   \n",
       "4     mp-11227     Al12W                      {'Al': 12.0, 'W': 1.0}   \n",
       "..         ...       ...                                         ...   \n",
       "71   mp-989524     LaWN3             {'La': 1.0, 'W': 1.0, 'N': 3.0}   \n",
       "72    mp-19420  Sr2MgWO6  {'Sr': 2.0, 'Mg': 1.0, 'W': 1.0, 'O': 6.0}   \n",
       "73   mp-977545    ZrTc2W            {'Zr': 1.0, 'Tc': 2.0, 'W': 1.0}   \n",
       "74    mp-18848  Sr2MgWO6  {'Sr': 2.0, 'Mg': 1.0, 'W': 1.0, 'O': 6.0}   \n",
       "75   mp-504723  Ba2NiWO6  {'Ba': 2.0, 'Ni': 1.0, 'W': 1.0, 'O': 6.0}   \n",
       "\n",
       "          IPF  Density                                     Elastic_Tensor  \\\n",
       "0   0.0825733  4.47573  {'G_Reuss': -22.0, 'G_VRH': 2.0, 'G_Voigt': 25...   \n",
       "1    0.110243  5.89958  {'G_Reuss': 1.0, 'G_VRH': 13.0, 'G_Voigt': 24....   \n",
       "2    0.228417  5.46297  {'G_Reuss': 30.0, 'G_VRH': 30.0, 'G_Voigt': 30...   \n",
       "3    0.108369  16.7597  {'G_Reuss': 152.0, 'G_VRH': 152.0, 'G_Voigt': ...   \n",
       "4   0.0793905  3.85781  {'G_Reuss': 57.0, 'G_VRH': 57.0, 'G_Voigt': 57...   \n",
       "..        ...      ...                                                ...   \n",
       "71   0.179052  9.21197  {'G_Reuss': 41.0, 'G_VRH': 57.0, 'G_Voigt': 73...   \n",
       "72   0.574046   6.1672  {'G_Reuss': 72.0, 'G_VRH': 72.0, 'G_Voigt': 72...   \n",
       "73   0.120815  11.8579  {'G_Reuss': 104.0, 'G_VRH': 109.0, 'G_Voigt': ...   \n",
       "74   0.572559  6.15123  {'G_Reuss': 76.0, 'G_VRH': 76.0, 'G_Voigt': 77...   \n",
       "75   0.590346  7.36889  {'G_Reuss': 62.0, 'G_VRH': 65.0, 'G_Voigt': 68...   \n",
       "\n",
       "   E_above_Hull  G_VRH  K_VRH  Elastic_Anisotropy  poisson_ratio  Y_Modulus  \\\n",
       "0      0.951299    2.0   19.0               -4.53           0.46       5.84   \n",
       "1      0.174937   13.0   18.0               91.25           0.21      31.46   \n",
       "2             0   30.0   57.0                0.10           0.27      76.20   \n",
       "3             0  152.0  330.0                0.04           0.30     395.20   \n",
       "4             0   57.0   92.0                0.00           0.24     141.36   \n",
       "..          ...    ...    ...                 ...            ...        ...   \n",
       "71            0   57.0  170.0                3.82           0.35     153.90   \n",
       "72     0.680335   72.0  127.0                0.05           0.26     181.44   \n",
       "73            0  109.0  198.0                0.44           0.27     276.86   \n",
       "74            0   76.0  179.0                0.07           0.31     199.12   \n",
       "75            0   65.0  122.0                0.48           0.27     165.10   \n",
       "\n",
       "    G_VRH  K_VRH  Elastic_Anisotropy  poisson_ratio  Y_Modulus  \n",
       "0     2.0   19.0               -4.53           0.46       5.84  \n",
       "1    13.0   18.0               91.25           0.21      31.46  \n",
       "2    30.0   57.0                0.10           0.27      76.20  \n",
       "3   152.0  330.0                0.04           0.30     395.20  \n",
       "4    57.0   92.0                0.00           0.24     141.36  \n",
       "..    ...    ...                 ...            ...        ...  \n",
       "71   57.0  170.0                3.82           0.35     153.90  \n",
       "72   72.0  127.0                0.05           0.26     181.44  \n",
       "73  109.0  198.0                0.44           0.27     276.86  \n",
       "74   76.0  179.0                0.07           0.31     199.12  \n",
       "75   65.0  122.0                0.48           0.27     165.10  \n",
       "\n",
       "[76 rows x 17 columns]"
      ]
     },
     "metadata": {},
     "output_type": "display_data"
    },
    {
     "ename": "ValueError",
     "evalue": "The truth value of a Series is ambiguous. Use a.empty, a.bool(), a.item(), a.any() or a.all().",
     "output_type": "error",
     "traceback": [
      "\u001b[1;31m---------------------------------------------------------------------------\u001b[0m",
      "\u001b[1;31mValueError\u001b[0m                                Traceback (most recent call last)",
      "\u001b[1;32m<ipython-input-92-f2706fc4a819>\u001b[0m in \u001b[0;36m<module>\u001b[1;34m\u001b[0m\n\u001b[0;32m     34\u001b[0m \u001b[0mrow_delete\u001b[0m \u001b[1;33m=\u001b[0m \u001b[1;33m[\u001b[0m\u001b[1;33m]\u001b[0m\u001b[1;33m\u001b[0m\u001b[1;33m\u001b[0m\u001b[0m\n\u001b[0;32m     35\u001b[0m \u001b[1;32mfor\u001b[0m \u001b[0mk\u001b[0m \u001b[1;32min\u001b[0m \u001b[0mrange\u001b[0m\u001b[1;33m(\u001b[0m\u001b[1;36m0\u001b[0m\u001b[1;33m,\u001b[0m\u001b[0mlen\u001b[0m\u001b[1;33m(\u001b[0m\u001b[0mdf_elasticity\u001b[0m\u001b[1;33m)\u001b[0m\u001b[1;33m)\u001b[0m\u001b[1;33m:\u001b[0m\u001b[1;33m\u001b[0m\u001b[1;33m\u001b[0m\u001b[0m\n\u001b[1;32m---> 36\u001b[1;33m     \u001b[1;32mif\u001b[0m \u001b[0mdf_oxide\u001b[0m\u001b[1;33m[\u001b[0m\u001b[1;34m'poisson_ratio'\u001b[0m\u001b[1;33m]\u001b[0m\u001b[1;33m.\u001b[0m\u001b[0miloc\u001b[0m\u001b[1;33m[\u001b[0m\u001b[0mk\u001b[0m\u001b[1;33m]\u001b[0m \u001b[1;33m<\u001b[0m \u001b[1;36m0\u001b[0m\u001b[1;33m:\u001b[0m\u001b[1;33m\u001b[0m\u001b[1;33m\u001b[0m\u001b[0m\n\u001b[0m\u001b[0;32m     37\u001b[0m         \u001b[0mrow_delete\u001b[0m\u001b[1;33m.\u001b[0m\u001b[0mappend\u001b[0m\u001b[1;33m(\u001b[0m\u001b[0mk\u001b[0m\u001b[1;33m)\u001b[0m\u001b[1;33m\u001b[0m\u001b[1;33m\u001b[0m\u001b[0m\n\u001b[0;32m     38\u001b[0m \u001b[1;33m\u001b[0m\u001b[0m\n",
      "\u001b[1;32m~\\anaconda3\\envs\\PythonData\\lib\\site-packages\\pandas\\core\\generic.py\u001b[0m in \u001b[0;36m__nonzero__\u001b[1;34m(self)\u001b[0m\n\u001b[0;32m   1477\u001b[0m     \u001b[1;32mdef\u001b[0m \u001b[0m__nonzero__\u001b[0m\u001b[1;33m(\u001b[0m\u001b[0mself\u001b[0m\u001b[1;33m)\u001b[0m\u001b[1;33m:\u001b[0m\u001b[1;33m\u001b[0m\u001b[1;33m\u001b[0m\u001b[0m\n\u001b[0;32m   1478\u001b[0m         raise ValueError(\n\u001b[1;32m-> 1479\u001b[1;33m             \u001b[1;34mf\"The truth value of a {type(self).__name__} is ambiguous. \"\u001b[0m\u001b[1;33m\u001b[0m\u001b[1;33m\u001b[0m\u001b[0m\n\u001b[0m\u001b[0;32m   1480\u001b[0m             \u001b[1;34m\"Use a.empty, a.bool(), a.item(), a.any() or a.all().\"\u001b[0m\u001b[1;33m\u001b[0m\u001b[1;33m\u001b[0m\u001b[0m\n\u001b[0;32m   1481\u001b[0m         )\n",
      "\u001b[1;31mValueError\u001b[0m: The truth value of a Series is ambiguous. Use a.empty, a.bool(), a.item(), a.any() or a.all()."
     ]
    }
   ],
   "source": [
    "#Pull dataframe column with dictionary of elastic constants\n",
    "elastics = df_oxide.Elastic_Tensor\n",
    "G_VRH = []\n",
    "K_VRH = []\n",
    "Elastic_Anisotropy = []\n",
    "poisson_ratio = []\n",
    "Y_Modulus = []\n",
    "\n",
    "for k in elastics.index: #len(df_oxide))\n",
    "    G_VRH.append(elastics[k].get('G_VRH'))\n",
    "    K_VRH.append(elastics[k].get('K_VRH'))\n",
    "\n",
    "    Elastic_Anisotropy.append(elastics[k].get('elastic_anisotropy'))\n",
    "    poisson_ratio.append(elastics[k].get('poisson_ratio'))\n",
    "    Y_Modulus.append(2*elastics[k].get('G_VRH')*(1+elastics[k].get('poisson_ratio')))\n",
    "    \n",
    "elasticity_data = np.column_stack((G_VRH, K_VRH, Elastic_Anisotropy, poisson_ratio, Y_Modulus))\n",
    "\n",
    "df_elasticity = pd.DataFrame(elasticity_data,columns=[\"G_VRH\", \n",
    "                                                      \"K_VRH\", \n",
    "                                                      \"Elastic_Anisotropy\", \n",
    "                                                      \"poisson_ratio\",\n",
    "                                                     \"Y_Modulus\"])\n",
    "\n",
    "\n",
    "\n",
    "df_oxide = df_oxide.reset_index(drop=True)\n",
    "df_elasticity = df_elasticity.reset_index(drop=True)\n",
    "df_oxide = pd.concat([df_oxide,df_elasticity],axis=1)\n",
    "display(df_oxide)\n",
    "\n",
    "#Remove erroneous poisson ratios\n",
    "void_test = []\n",
    "row_delete = []\n",
    "for k in range(0,len(df_elasticity)):\n",
    "    if df_oxide['poisson_ratio'].iloc[k] < 0:\n",
    "        row_delete.append(k)\n",
    "        \n",
    "\n",
    "index = df_oxide.index[row_delete]\n",
    "df_oxide.drop(index,axis=0,inplace=True)"
   ]
  },
  {
   "cell_type": "code",
   "execution_count": 74,
   "metadata": {},
   "outputs": [],
   "source": [
    "# export all the dataframes for all seven datasets.\n",
    "df_oxide.to_csv (r'C:\\Users\\Kayla Yano\\Class\\Trial\\W_coumpounds_dataframe.csv', index = True, header=True)\n"
   ]
  },
  {
   "cell_type": "markdown",
   "metadata": {},
   "source": [
    "### 3.3.1 Plot material properties from dataframe"
   ]
  },
  {
   "cell_type": "code",
   "execution_count": 75,
   "metadata": {},
   "outputs": [
    {
     "data": {
      "application/vnd.plotly.v1+json": {
       "config": {
        "linkText": "Export to plot.ly",
        "plotlyServerURL": "https://plot.ly",
        "showLink": false
       },
       "data": [
        {
         "marker": {
          "color": "black",
          "size": 12
         },
         "mode": "markers",
         "name": "All Queries",
         "text": [
          "WS2",
          "WSe2",
          "Sr3WN3",
          "BW2",
          "Al12W",
          "Be2W",
          "P2W",
          "As3W2",
          "HfW2",
          "Si2W",
          "WSe2",
          "WO3",
          "WC",
          "SrWO4",
          "MnWO4",
          "WO3",
          "Co3W",
          "WS2",
          "Te2W",
          "WCl6",
          "PW",
          "Rb2WBr6",
          "Al5W",
          "IrW",
          "Ir3W",
          "Ni4W",
          "Rh3W",
          "WO3",
          "Be12W",
          "B2W",
          "ZrW2",
          "BW",
          "AlFe2W",
          "Ru3W",
          "TiTc2W",
          "Mn2GaW",
          "TaW3",
          "WS2",
          "Na2WO4",
          "MgWO4",
          "ZnWO4",
          "BaWO4",
          "Mn(BW)2",
          "Co(BW)3",
          "Tl2WCl6",
          "Cs2WCl6",
          "Li6WN4",
          "Cs2WBr6",
          "K3WF6",
          "K2WCl6",
          "Co(BW)2",
          "LiRu2W",
          "ScTc2W",
          "Ta2OsW",
          "Mn2AlW",
          "TiMn2W",
          "HfTc2W",
          "SiTc2W",
          "Nb2RuW",
          "Y6WO12",
          "Li2WO4",
          "CdWO4",
          "FeWO4",
          "CoBW",
          "WSCl4",
          "Rb2WCl6",
          "W2NCl8",
          "BeRu2W",
          "TiRe2W",
          "Ta2TcW",
          "Ti2IrW",
          "LaWN3",
          "Sr2MgWO6",
          "ZrTc2W",
          "Sr2MgWO6",
          "Ba2NiWO6"
         ],
         "type": "scatter",
         "x": [
          4.475734301828639,
          5.899583046510899,
          5.462967484451806,
          16.759719143418597,
          3.8578125920980217,
          10.61119770894338,
          9.119852404115473,
          11.060425705379506,
          16.35379926381758,
          9.6897801198612,
          7.857112292094283,
          6.736530704630063,
          15.350369049615528,
          6.025777640367976,
          6.873201232546636,
          6.656532446046254,
          12.924119014628044,
          6.576662629224075,
          8.52337626142813,
          2.8871453581302764,
          12.101822263901672,
          4.402747880282043,
          5.700302231165966,
          20.51773602835673,
          21.330343318581765,
          11.890071744875302,
          14.09088558699496,
          6.652246333149564,
          4.44490512930156,
          12.273198211557318,
          13.520587967518765,
          15.33150244232636,
          10.595547042879602,
          13.996375532327349,
          11.693560622969297,
          11.64361163073422,
          18.29084523624195,
          6.557005454576976,
          4.882345568913017,
          6.570296868323321,
          7.443635300744208,
          6.023402681770163,
          13.758273458431207,
          14.622451906693493,
          5.236190379929374,
          3.698710211093106,
          4.197507863121574,
          4.465235393671986,
          3.501656520937873,
          3.1341795205605334,
          14.323754745444651,
          11.758406891033074,
          11.070671426475803,
          18.394782943153743,
          10.371408832123679,
          10.694686868620503,
          14.257435600687037,
          11.820854429189382,
          11.748825266136695,
          5.691973535616989,
          5.6259917430087265,
          7.530508481518047,
          7.090244770279603,
          13.555392664326869,
          2.8034848881114973,
          3.491749670129747,
          3.5177319970060004,
          12.192531634462222,
          16.2597984805017,
          16.036825639827363,
          12.73920881877668,
          9.211968838178699,
          6.1671974111669625,
          11.857923133807889,
          6.1512269436116895,
          7.36889259174993
         ],
         "y": [
          0.08257334275053553,
          0.11024325465688314,
          0.22841736756846093,
          0.10836851741914386,
          0.07939051425546975,
          0.11422019519156848,
          0.07332292275653558,
          0.08306150992567858,
          0.11445983399408725,
          0.07796508983093957,
          0.14682285586222174,
          0.4728995058550828,
          0.09443314901107484,
          0.4872011957550757,
          0.4996037972608592,
          0.467283686880555,
          0.1637459227833799,
          0.12133361384201971,
          0.2339572383524664,
          0.060568165198224756,
          0.08768324439395658,
          0.18270163943459958,
          0.08969871960536403,
          0.12363732896873912,
          0.12691068242970038,
          0.14842291991785136,
          0.12203762300241633,
          0.4669828049043932,
          0.11194500887224383,
          0.08867297631741011,
          0.11425525703674214,
          0.1032275147402567,
          0.16552365154728016,
          0.09547327770763563,
          0.12995482663470073,
          0.11594151452300065,
          0.11988976789467923,
          0.12097095634043858,
          0.4851450410002235,
          0.5534843713583136,
          0.5474954263268575,
          0.46392248834379135,
          0.10246923819237935,
          0.11545228943877127,
          0.13170087425363902,
          0.21350855354098544,
          0.21908630117720407,
          0.19923862829669522,
          0.2784983979460109,
          0.17188558147103808,
          0.12032504730518599,
          0.1326519514907177,
          0.1288330231068964,
          0.11715638382166726,
          0.10631552893764658,
          0.12742539392074806,
          0.12114553533474155,
          0.10409423158298989,
          0.1159841298014464,
          0.4927485249409463,
          0.5373804615091922,
          0.5139723207489376,
          0.5342803459794407,
          0.1312194795487426,
          0.05990804733380303,
          0.19318351702411826,
          0.06599075121463953,
          0.09605626044542716,
          0.12165122589678566,
          0.12325422175976486,
          0.14534137903239383,
          0.1790518834885911,
          0.5740456988841371,
          0.1208149676405688,
          0.5725591600889507,
          0.5903457057218283
         ]
        },
        {
         "marker": {
          "color": "green",
          "size": 18
         },
         "mode": "markers",
         "name": "TiC",
         "text": "TiC",
         "type": "scatter",
         "x": [],
         "y": []
        },
        {
         "marker": {
          "color": "blue",
          "size": 18
         },
         "mode": "markers",
         "name": "TiN",
         "text": "TiN",
         "type": "scatter",
         "x": [],
         "y": []
        },
        {
         "marker": {
          "color": "orange",
          "size": 18
         },
         "mode": "markers",
         "name": "TiB",
         "text": "TiB",
         "type": "scatter",
         "x": [],
         "y": []
        },
        {
         "marker": {
          "color": "magenta",
          "size": 18
         },
         "mode": "markers",
         "name": "TiO2",
         "text": "TiO2",
         "type": "scatter",
         "x": [],
         "y": []
        }
       ],
       "layout": {
        "font": {
         "family": "Times New Roman",
         "size": 18
        },
        "height": 600,
        "hovermode": "closest",
        "showlegend": true,
        "template": {
         "data": {
          "bar": [
           {
            "error_x": {
             "color": "#2a3f5f"
            },
            "error_y": {
             "color": "#2a3f5f"
            },
            "marker": {
             "line": {
              "color": "#E5ECF6",
              "width": 0.5
             }
            },
            "type": "bar"
           }
          ],
          "barpolar": [
           {
            "marker": {
             "line": {
              "color": "#E5ECF6",
              "width": 0.5
             }
            },
            "type": "barpolar"
           }
          ],
          "carpet": [
           {
            "aaxis": {
             "endlinecolor": "#2a3f5f",
             "gridcolor": "white",
             "linecolor": "white",
             "minorgridcolor": "white",
             "startlinecolor": "#2a3f5f"
            },
            "baxis": {
             "endlinecolor": "#2a3f5f",
             "gridcolor": "white",
             "linecolor": "white",
             "minorgridcolor": "white",
             "startlinecolor": "#2a3f5f"
            },
            "type": "carpet"
           }
          ],
          "choropleth": [
           {
            "colorbar": {
             "outlinewidth": 0,
             "ticks": ""
            },
            "type": "choropleth"
           }
          ],
          "contour": [
           {
            "colorbar": {
             "outlinewidth": 0,
             "ticks": ""
            },
            "colorscale": [
             [
              0,
              "#0d0887"
             ],
             [
              0.1111111111111111,
              "#46039f"
             ],
             [
              0.2222222222222222,
              "#7201a8"
             ],
             [
              0.3333333333333333,
              "#9c179e"
             ],
             [
              0.4444444444444444,
              "#bd3786"
             ],
             [
              0.5555555555555556,
              "#d8576b"
             ],
             [
              0.6666666666666666,
              "#ed7953"
             ],
             [
              0.7777777777777778,
              "#fb9f3a"
             ],
             [
              0.8888888888888888,
              "#fdca26"
             ],
             [
              1,
              "#f0f921"
             ]
            ],
            "type": "contour"
           }
          ],
          "contourcarpet": [
           {
            "colorbar": {
             "outlinewidth": 0,
             "ticks": ""
            },
            "type": "contourcarpet"
           }
          ],
          "heatmap": [
           {
            "colorbar": {
             "outlinewidth": 0,
             "ticks": ""
            },
            "colorscale": [
             [
              0,
              "#0d0887"
             ],
             [
              0.1111111111111111,
              "#46039f"
             ],
             [
              0.2222222222222222,
              "#7201a8"
             ],
             [
              0.3333333333333333,
              "#9c179e"
             ],
             [
              0.4444444444444444,
              "#bd3786"
             ],
             [
              0.5555555555555556,
              "#d8576b"
             ],
             [
              0.6666666666666666,
              "#ed7953"
             ],
             [
              0.7777777777777778,
              "#fb9f3a"
             ],
             [
              0.8888888888888888,
              "#fdca26"
             ],
             [
              1,
              "#f0f921"
             ]
            ],
            "type": "heatmap"
           }
          ],
          "heatmapgl": [
           {
            "colorbar": {
             "outlinewidth": 0,
             "ticks": ""
            },
            "colorscale": [
             [
              0,
              "#0d0887"
             ],
             [
              0.1111111111111111,
              "#46039f"
             ],
             [
              0.2222222222222222,
              "#7201a8"
             ],
             [
              0.3333333333333333,
              "#9c179e"
             ],
             [
              0.4444444444444444,
              "#bd3786"
             ],
             [
              0.5555555555555556,
              "#d8576b"
             ],
             [
              0.6666666666666666,
              "#ed7953"
             ],
             [
              0.7777777777777778,
              "#fb9f3a"
             ],
             [
              0.8888888888888888,
              "#fdca26"
             ],
             [
              1,
              "#f0f921"
             ]
            ],
            "type": "heatmapgl"
           }
          ],
          "histogram": [
           {
            "marker": {
             "colorbar": {
              "outlinewidth": 0,
              "ticks": ""
             }
            },
            "type": "histogram"
           }
          ],
          "histogram2d": [
           {
            "colorbar": {
             "outlinewidth": 0,
             "ticks": ""
            },
            "colorscale": [
             [
              0,
              "#0d0887"
             ],
             [
              0.1111111111111111,
              "#46039f"
             ],
             [
              0.2222222222222222,
              "#7201a8"
             ],
             [
              0.3333333333333333,
              "#9c179e"
             ],
             [
              0.4444444444444444,
              "#bd3786"
             ],
             [
              0.5555555555555556,
              "#d8576b"
             ],
             [
              0.6666666666666666,
              "#ed7953"
             ],
             [
              0.7777777777777778,
              "#fb9f3a"
             ],
             [
              0.8888888888888888,
              "#fdca26"
             ],
             [
              1,
              "#f0f921"
             ]
            ],
            "type": "histogram2d"
           }
          ],
          "histogram2dcontour": [
           {
            "colorbar": {
             "outlinewidth": 0,
             "ticks": ""
            },
            "colorscale": [
             [
              0,
              "#0d0887"
             ],
             [
              0.1111111111111111,
              "#46039f"
             ],
             [
              0.2222222222222222,
              "#7201a8"
             ],
             [
              0.3333333333333333,
              "#9c179e"
             ],
             [
              0.4444444444444444,
              "#bd3786"
             ],
             [
              0.5555555555555556,
              "#d8576b"
             ],
             [
              0.6666666666666666,
              "#ed7953"
             ],
             [
              0.7777777777777778,
              "#fb9f3a"
             ],
             [
              0.8888888888888888,
              "#fdca26"
             ],
             [
              1,
              "#f0f921"
             ]
            ],
            "type": "histogram2dcontour"
           }
          ],
          "mesh3d": [
           {
            "colorbar": {
             "outlinewidth": 0,
             "ticks": ""
            },
            "type": "mesh3d"
           }
          ],
          "parcoords": [
           {
            "line": {
             "colorbar": {
              "outlinewidth": 0,
              "ticks": ""
             }
            },
            "type": "parcoords"
           }
          ],
          "pie": [
           {
            "automargin": true,
            "type": "pie"
           }
          ],
          "scatter": [
           {
            "marker": {
             "colorbar": {
              "outlinewidth": 0,
              "ticks": ""
             }
            },
            "type": "scatter"
           }
          ],
          "scatter3d": [
           {
            "line": {
             "colorbar": {
              "outlinewidth": 0,
              "ticks": ""
             }
            },
            "marker": {
             "colorbar": {
              "outlinewidth": 0,
              "ticks": ""
             }
            },
            "type": "scatter3d"
           }
          ],
          "scattercarpet": [
           {
            "marker": {
             "colorbar": {
              "outlinewidth": 0,
              "ticks": ""
             }
            },
            "type": "scattercarpet"
           }
          ],
          "scattergeo": [
           {
            "marker": {
             "colorbar": {
              "outlinewidth": 0,
              "ticks": ""
             }
            },
            "type": "scattergeo"
           }
          ],
          "scattergl": [
           {
            "marker": {
             "colorbar": {
              "outlinewidth": 0,
              "ticks": ""
             }
            },
            "type": "scattergl"
           }
          ],
          "scattermapbox": [
           {
            "marker": {
             "colorbar": {
              "outlinewidth": 0,
              "ticks": ""
             }
            },
            "type": "scattermapbox"
           }
          ],
          "scatterpolar": [
           {
            "marker": {
             "colorbar": {
              "outlinewidth": 0,
              "ticks": ""
             }
            },
            "type": "scatterpolar"
           }
          ],
          "scatterpolargl": [
           {
            "marker": {
             "colorbar": {
              "outlinewidth": 0,
              "ticks": ""
             }
            },
            "type": "scatterpolargl"
           }
          ],
          "scatterternary": [
           {
            "marker": {
             "colorbar": {
              "outlinewidth": 0,
              "ticks": ""
             }
            },
            "type": "scatterternary"
           }
          ],
          "surface": [
           {
            "colorbar": {
             "outlinewidth": 0,
             "ticks": ""
            },
            "colorscale": [
             [
              0,
              "#0d0887"
             ],
             [
              0.1111111111111111,
              "#46039f"
             ],
             [
              0.2222222222222222,
              "#7201a8"
             ],
             [
              0.3333333333333333,
              "#9c179e"
             ],
             [
              0.4444444444444444,
              "#bd3786"
             ],
             [
              0.5555555555555556,
              "#d8576b"
             ],
             [
              0.6666666666666666,
              "#ed7953"
             ],
             [
              0.7777777777777778,
              "#fb9f3a"
             ],
             [
              0.8888888888888888,
              "#fdca26"
             ],
             [
              1,
              "#f0f921"
             ]
            ],
            "type": "surface"
           }
          ],
          "table": [
           {
            "cells": {
             "fill": {
              "color": "#EBF0F8"
             },
             "line": {
              "color": "white"
             }
            },
            "header": {
             "fill": {
              "color": "#C8D4E3"
             },
             "line": {
              "color": "white"
             }
            },
            "type": "table"
           }
          ]
         },
         "layout": {
          "annotationdefaults": {
           "arrowcolor": "#2a3f5f",
           "arrowhead": 0,
           "arrowwidth": 1
          },
          "coloraxis": {
           "colorbar": {
            "outlinewidth": 0,
            "ticks": ""
           }
          },
          "colorscale": {
           "diverging": [
            [
             0,
             "#8e0152"
            ],
            [
             0.1,
             "#c51b7d"
            ],
            [
             0.2,
             "#de77ae"
            ],
            [
             0.3,
             "#f1b6da"
            ],
            [
             0.4,
             "#fde0ef"
            ],
            [
             0.5,
             "#f7f7f7"
            ],
            [
             0.6,
             "#e6f5d0"
            ],
            [
             0.7,
             "#b8e186"
            ],
            [
             0.8,
             "#7fbc41"
            ],
            [
             0.9,
             "#4d9221"
            ],
            [
             1,
             "#276419"
            ]
           ],
           "sequential": [
            [
             0,
             "#0d0887"
            ],
            [
             0.1111111111111111,
             "#46039f"
            ],
            [
             0.2222222222222222,
             "#7201a8"
            ],
            [
             0.3333333333333333,
             "#9c179e"
            ],
            [
             0.4444444444444444,
             "#bd3786"
            ],
            [
             0.5555555555555556,
             "#d8576b"
            ],
            [
             0.6666666666666666,
             "#ed7953"
            ],
            [
             0.7777777777777778,
             "#fb9f3a"
            ],
            [
             0.8888888888888888,
             "#fdca26"
            ],
            [
             1,
             "#f0f921"
            ]
           ],
           "sequentialminus": [
            [
             0,
             "#0d0887"
            ],
            [
             0.1111111111111111,
             "#46039f"
            ],
            [
             0.2222222222222222,
             "#7201a8"
            ],
            [
             0.3333333333333333,
             "#9c179e"
            ],
            [
             0.4444444444444444,
             "#bd3786"
            ],
            [
             0.5555555555555556,
             "#d8576b"
            ],
            [
             0.6666666666666666,
             "#ed7953"
            ],
            [
             0.7777777777777778,
             "#fb9f3a"
            ],
            [
             0.8888888888888888,
             "#fdca26"
            ],
            [
             1,
             "#f0f921"
            ]
           ]
          },
          "colorway": [
           "#636efa",
           "#EF553B",
           "#00cc96",
           "#ab63fa",
           "#FFA15A",
           "#19d3f3",
           "#FF6692",
           "#B6E880",
           "#FF97FF",
           "#FECB52"
          ],
          "font": {
           "color": "#2a3f5f"
          },
          "geo": {
           "bgcolor": "white",
           "lakecolor": "white",
           "landcolor": "#E5ECF6",
           "showlakes": true,
           "showland": true,
           "subunitcolor": "white"
          },
          "hoverlabel": {
           "align": "left"
          },
          "hovermode": "closest",
          "mapbox": {
           "style": "light"
          },
          "paper_bgcolor": "white",
          "plot_bgcolor": "#E5ECF6",
          "polar": {
           "angularaxis": {
            "gridcolor": "white",
            "linecolor": "white",
            "ticks": ""
           },
           "bgcolor": "#E5ECF6",
           "radialaxis": {
            "gridcolor": "white",
            "linecolor": "white",
            "ticks": ""
           }
          },
          "scene": {
           "xaxis": {
            "backgroundcolor": "#E5ECF6",
            "gridcolor": "white",
            "gridwidth": 2,
            "linecolor": "white",
            "showbackground": true,
            "ticks": "",
            "zerolinecolor": "white"
           },
           "yaxis": {
            "backgroundcolor": "#E5ECF6",
            "gridcolor": "white",
            "gridwidth": 2,
            "linecolor": "white",
            "showbackground": true,
            "ticks": "",
            "zerolinecolor": "white"
           },
           "zaxis": {
            "backgroundcolor": "#E5ECF6",
            "gridcolor": "white",
            "gridwidth": 2,
            "linecolor": "white",
            "showbackground": true,
            "ticks": "",
            "zerolinecolor": "white"
           }
          },
          "shapedefaults": {
           "line": {
            "color": "#2a3f5f"
           }
          },
          "ternary": {
           "aaxis": {
            "gridcolor": "white",
            "linecolor": "white",
            "ticks": ""
           },
           "baxis": {
            "gridcolor": "white",
            "linecolor": "white",
            "ticks": ""
           },
           "bgcolor": "#E5ECF6",
           "caxis": {
            "gridcolor": "white",
            "linecolor": "white",
            "ticks": ""
           }
          },
          "title": {
           "x": 0.05
          },
          "xaxis": {
           "automargin": true,
           "gridcolor": "white",
           "linecolor": "white",
           "ticks": "",
           "title": {
            "standoff": 15
           },
           "zerolinecolor": "white",
           "zerolinewidth": 2
          },
          "yaxis": {
           "automargin": true,
           "gridcolor": "white",
           "linecolor": "white",
           "ticks": "",
           "title": {
            "standoff": 15
           },
           "zerolinecolor": "white",
           "zerolinewidth": 2
          }
         }
        },
        "title": {
         "text": "Ti_based Query IPF vs. Density"
        },
        "width": 1200,
        "xaxis": {
         "gridwidth": 2,
         "title": {
          "text": "$Density \\: [g/cm^{3}]$"
         },
         "zeroline": false
        },
        "yaxis": {
         "gridwidth": 2,
         "title": {
          "text": "$Ionic Packing Fraction \\: [IPF]$"
         },
         "zeroline": false
        }
       }
      },
      "text/html": [
       "<div>\n",
       "        \n",
       "        \n",
       "            <div id=\"9a1d54e5-5c31-4710-af23-3b5498e802a1\" class=\"plotly-graph-div\" style=\"height:600px; width:1200px;\"></div>\n",
       "            <script type=\"text/javascript\">\n",
       "                require([\"plotly\"], function(Plotly) {\n",
       "                    window.PLOTLYENV=window.PLOTLYENV || {};\n",
       "                    \n",
       "                if (document.getElementById(\"9a1d54e5-5c31-4710-af23-3b5498e802a1\")) {\n",
       "                    Plotly.newPlot(\n",
       "                        '9a1d54e5-5c31-4710-af23-3b5498e802a1',\n",
       "                        [{\"marker\": {\"color\": \"black\", \"size\": 12}, \"mode\": \"markers\", \"name\": \"All Queries\", \"text\": [\"WS2\", \"WSe2\", \"Sr3WN3\", \"BW2\", \"Al12W\", \"Be2W\", \"P2W\", \"As3W2\", \"HfW2\", \"Si2W\", \"WSe2\", \"WO3\", \"WC\", \"SrWO4\", \"MnWO4\", \"WO3\", \"Co3W\", \"WS2\", \"Te2W\", \"WCl6\", \"PW\", \"Rb2WBr6\", \"Al5W\", \"IrW\", \"Ir3W\", \"Ni4W\", \"Rh3W\", \"WO3\", \"Be12W\", \"B2W\", \"ZrW2\", \"BW\", \"AlFe2W\", \"Ru3W\", \"TiTc2W\", \"Mn2GaW\", \"TaW3\", \"WS2\", \"Na2WO4\", \"MgWO4\", \"ZnWO4\", \"BaWO4\", \"Mn(BW)2\", \"Co(BW)3\", \"Tl2WCl6\", \"Cs2WCl6\", \"Li6WN4\", \"Cs2WBr6\", \"K3WF6\", \"K2WCl6\", \"Co(BW)2\", \"LiRu2W\", \"ScTc2W\", \"Ta2OsW\", \"Mn2AlW\", \"TiMn2W\", \"HfTc2W\", \"SiTc2W\", \"Nb2RuW\", \"Y6WO12\", \"Li2WO4\", \"CdWO4\", \"FeWO4\", \"CoBW\", \"WSCl4\", \"Rb2WCl6\", \"W2NCl8\", \"BeRu2W\", \"TiRe2W\", \"Ta2TcW\", \"Ti2IrW\", \"LaWN3\", \"Sr2MgWO6\", \"ZrTc2W\", \"Sr2MgWO6\", \"Ba2NiWO6\"], \"type\": \"scatter\", \"x\": [4.475734301828639, 5.899583046510899, 5.462967484451806, 16.759719143418597, 3.8578125920980217, 10.61119770894338, 9.119852404115473, 11.060425705379506, 16.35379926381758, 9.6897801198612, 7.857112292094283, 6.736530704630063, 15.350369049615528, 6.025777640367976, 6.873201232546636, 6.656532446046254, 12.924119014628044, 6.576662629224075, 8.52337626142813, 2.8871453581302764, 12.101822263901672, 4.402747880282043, 5.700302231165966, 20.51773602835673, 21.330343318581765, 11.890071744875302, 14.09088558699496, 6.652246333149564, 4.44490512930156, 12.273198211557318, 13.520587967518765, 15.33150244232636, 10.595547042879602, 13.996375532327349, 11.693560622969297, 11.64361163073422, 18.29084523624195, 6.557005454576976, 4.882345568913017, 6.570296868323321, 7.443635300744208, 6.023402681770163, 13.758273458431207, 14.622451906693493, 5.236190379929374, 3.698710211093106, 4.197507863121574, 4.465235393671986, 3.501656520937873, 3.1341795205605334, 14.323754745444651, 11.758406891033074, 11.070671426475803, 18.394782943153743, 10.371408832123679, 10.694686868620503, 14.257435600687037, 11.820854429189382, 11.748825266136695, 5.691973535616989, 5.6259917430087265, 7.530508481518047, 7.090244770279603, 13.555392664326869, 2.8034848881114973, 3.491749670129747, 3.5177319970060004, 12.192531634462222, 16.2597984805017, 16.036825639827363, 12.73920881877668, 9.211968838178699, 6.1671974111669625, 11.857923133807889, 6.1512269436116895, 7.36889259174993], \"y\": [0.08257334275053553, 0.11024325465688314, 0.22841736756846093, 0.10836851741914386, 0.07939051425546975, 0.11422019519156848, 0.07332292275653558, 0.08306150992567858, 0.11445983399408725, 0.07796508983093957, 0.14682285586222174, 0.4728995058550828, 0.09443314901107484, 0.4872011957550757, 0.4996037972608592, 0.467283686880555, 0.1637459227833799, 0.12133361384201971, 0.2339572383524664, 0.060568165198224756, 0.08768324439395658, 0.18270163943459958, 0.08969871960536403, 0.12363732896873912, 0.12691068242970038, 0.14842291991785136, 0.12203762300241633, 0.4669828049043932, 0.11194500887224383, 0.08867297631741011, 0.11425525703674214, 0.1032275147402567, 0.16552365154728016, 0.09547327770763563, 0.12995482663470073, 0.11594151452300065, 0.11988976789467923, 0.12097095634043858, 0.4851450410002235, 0.5534843713583136, 0.5474954263268575, 0.46392248834379135, 0.10246923819237935, 0.11545228943877127, 0.13170087425363902, 0.21350855354098544, 0.21908630117720407, 0.19923862829669522, 0.2784983979460109, 0.17188558147103808, 0.12032504730518599, 0.1326519514907177, 0.1288330231068964, 0.11715638382166726, 0.10631552893764658, 0.12742539392074806, 0.12114553533474155, 0.10409423158298989, 0.1159841298014464, 0.4927485249409463, 0.5373804615091922, 0.5139723207489376, 0.5342803459794407, 0.1312194795487426, 0.05990804733380303, 0.19318351702411826, 0.06599075121463953, 0.09605626044542716, 0.12165122589678566, 0.12325422175976486, 0.14534137903239383, 0.1790518834885911, 0.5740456988841371, 0.1208149676405688, 0.5725591600889507, 0.5903457057218283]}, {\"marker\": {\"color\": \"green\", \"size\": 18}, \"mode\": \"markers\", \"name\": \"TiC\", \"text\": \"TiC\", \"type\": \"scatter\", \"x\": [], \"y\": []}, {\"marker\": {\"color\": \"blue\", \"size\": 18}, \"mode\": \"markers\", \"name\": \"TiN\", \"text\": \"TiN\", \"type\": \"scatter\", \"x\": [], \"y\": []}, {\"marker\": {\"color\": \"orange\", \"size\": 18}, \"mode\": \"markers\", \"name\": \"TiB\", \"text\": \"TiB\", \"type\": \"scatter\", \"x\": [], \"y\": []}, {\"marker\": {\"color\": \"magenta\", \"size\": 18}, \"mode\": \"markers\", \"name\": \"TiO2\", \"text\": \"TiO2\", \"type\": \"scatter\", \"x\": [], \"y\": []}],\n",
       "                        {\"font\": {\"family\": \"Times New Roman\", \"size\": 18}, \"height\": 600, \"hovermode\": \"closest\", \"showlegend\": true, \"template\": {\"data\": {\"bar\": [{\"error_x\": {\"color\": \"#2a3f5f\"}, \"error_y\": {\"color\": \"#2a3f5f\"}, \"marker\": {\"line\": {\"color\": \"#E5ECF6\", \"width\": 0.5}}, \"type\": \"bar\"}], \"barpolar\": [{\"marker\": {\"line\": {\"color\": \"#E5ECF6\", \"width\": 0.5}}, \"type\": \"barpolar\"}], \"carpet\": [{\"aaxis\": {\"endlinecolor\": \"#2a3f5f\", \"gridcolor\": \"white\", \"linecolor\": \"white\", \"minorgridcolor\": \"white\", \"startlinecolor\": \"#2a3f5f\"}, \"baxis\": {\"endlinecolor\": \"#2a3f5f\", \"gridcolor\": \"white\", \"linecolor\": \"white\", \"minorgridcolor\": \"white\", \"startlinecolor\": \"#2a3f5f\"}, \"type\": \"carpet\"}], \"choropleth\": [{\"colorbar\": {\"outlinewidth\": 0, \"ticks\": \"\"}, \"type\": \"choropleth\"}], \"contour\": [{\"colorbar\": {\"outlinewidth\": 0, \"ticks\": \"\"}, \"colorscale\": [[0.0, \"#0d0887\"], [0.1111111111111111, \"#46039f\"], [0.2222222222222222, \"#7201a8\"], [0.3333333333333333, \"#9c179e\"], [0.4444444444444444, \"#bd3786\"], [0.5555555555555556, \"#d8576b\"], [0.6666666666666666, \"#ed7953\"], [0.7777777777777778, \"#fb9f3a\"], [0.8888888888888888, \"#fdca26\"], [1.0, \"#f0f921\"]], \"type\": \"contour\"}], \"contourcarpet\": [{\"colorbar\": {\"outlinewidth\": 0, \"ticks\": \"\"}, \"type\": \"contourcarpet\"}], \"heatmap\": [{\"colorbar\": {\"outlinewidth\": 0, \"ticks\": \"\"}, \"colorscale\": [[0.0, \"#0d0887\"], [0.1111111111111111, \"#46039f\"], [0.2222222222222222, \"#7201a8\"], [0.3333333333333333, \"#9c179e\"], [0.4444444444444444, \"#bd3786\"], [0.5555555555555556, \"#d8576b\"], [0.6666666666666666, \"#ed7953\"], [0.7777777777777778, \"#fb9f3a\"], [0.8888888888888888, \"#fdca26\"], [1.0, \"#f0f921\"]], \"type\": \"heatmap\"}], \"heatmapgl\": [{\"colorbar\": {\"outlinewidth\": 0, \"ticks\": \"\"}, \"colorscale\": [[0.0, \"#0d0887\"], [0.1111111111111111, \"#46039f\"], [0.2222222222222222, \"#7201a8\"], [0.3333333333333333, \"#9c179e\"], [0.4444444444444444, \"#bd3786\"], [0.5555555555555556, \"#d8576b\"], [0.6666666666666666, \"#ed7953\"], [0.7777777777777778, \"#fb9f3a\"], [0.8888888888888888, \"#fdca26\"], [1.0, \"#f0f921\"]], \"type\": \"heatmapgl\"}], \"histogram\": [{\"marker\": {\"colorbar\": {\"outlinewidth\": 0, \"ticks\": \"\"}}, \"type\": \"histogram\"}], \"histogram2d\": [{\"colorbar\": {\"outlinewidth\": 0, \"ticks\": \"\"}, \"colorscale\": [[0.0, \"#0d0887\"], [0.1111111111111111, \"#46039f\"], [0.2222222222222222, \"#7201a8\"], [0.3333333333333333, \"#9c179e\"], [0.4444444444444444, \"#bd3786\"], [0.5555555555555556, \"#d8576b\"], [0.6666666666666666, \"#ed7953\"], [0.7777777777777778, \"#fb9f3a\"], [0.8888888888888888, \"#fdca26\"], [1.0, \"#f0f921\"]], \"type\": \"histogram2d\"}], \"histogram2dcontour\": [{\"colorbar\": {\"outlinewidth\": 0, \"ticks\": \"\"}, \"colorscale\": [[0.0, \"#0d0887\"], [0.1111111111111111, \"#46039f\"], [0.2222222222222222, \"#7201a8\"], [0.3333333333333333, \"#9c179e\"], [0.4444444444444444, \"#bd3786\"], [0.5555555555555556, \"#d8576b\"], [0.6666666666666666, \"#ed7953\"], [0.7777777777777778, \"#fb9f3a\"], [0.8888888888888888, \"#fdca26\"], [1.0, \"#f0f921\"]], \"type\": \"histogram2dcontour\"}], \"mesh3d\": [{\"colorbar\": {\"outlinewidth\": 0, \"ticks\": \"\"}, \"type\": \"mesh3d\"}], \"parcoords\": [{\"line\": {\"colorbar\": {\"outlinewidth\": 0, \"ticks\": \"\"}}, \"type\": \"parcoords\"}], \"pie\": [{\"automargin\": true, \"type\": \"pie\"}], \"scatter\": [{\"marker\": {\"colorbar\": {\"outlinewidth\": 0, \"ticks\": \"\"}}, \"type\": \"scatter\"}], \"scatter3d\": [{\"line\": {\"colorbar\": {\"outlinewidth\": 0, \"ticks\": \"\"}}, \"marker\": {\"colorbar\": {\"outlinewidth\": 0, \"ticks\": \"\"}}, \"type\": \"scatter3d\"}], \"scattercarpet\": [{\"marker\": {\"colorbar\": {\"outlinewidth\": 0, \"ticks\": \"\"}}, \"type\": \"scattercarpet\"}], \"scattergeo\": [{\"marker\": {\"colorbar\": {\"outlinewidth\": 0, \"ticks\": \"\"}}, \"type\": \"scattergeo\"}], \"scattergl\": [{\"marker\": {\"colorbar\": {\"outlinewidth\": 0, \"ticks\": \"\"}}, \"type\": \"scattergl\"}], \"scattermapbox\": [{\"marker\": {\"colorbar\": {\"outlinewidth\": 0, \"ticks\": \"\"}}, \"type\": \"scattermapbox\"}], \"scatterpolar\": [{\"marker\": {\"colorbar\": {\"outlinewidth\": 0, \"ticks\": \"\"}}, \"type\": \"scatterpolar\"}], \"scatterpolargl\": [{\"marker\": {\"colorbar\": {\"outlinewidth\": 0, \"ticks\": \"\"}}, \"type\": \"scatterpolargl\"}], \"scatterternary\": [{\"marker\": {\"colorbar\": {\"outlinewidth\": 0, \"ticks\": \"\"}}, \"type\": \"scatterternary\"}], \"surface\": [{\"colorbar\": {\"outlinewidth\": 0, \"ticks\": \"\"}, \"colorscale\": [[0.0, \"#0d0887\"], [0.1111111111111111, \"#46039f\"], [0.2222222222222222, \"#7201a8\"], [0.3333333333333333, \"#9c179e\"], [0.4444444444444444, \"#bd3786\"], [0.5555555555555556, \"#d8576b\"], [0.6666666666666666, \"#ed7953\"], [0.7777777777777778, \"#fb9f3a\"], [0.8888888888888888, \"#fdca26\"], [1.0, \"#f0f921\"]], \"type\": \"surface\"}], \"table\": [{\"cells\": {\"fill\": {\"color\": \"#EBF0F8\"}, \"line\": {\"color\": \"white\"}}, \"header\": {\"fill\": {\"color\": \"#C8D4E3\"}, \"line\": {\"color\": \"white\"}}, \"type\": \"table\"}]}, \"layout\": {\"annotationdefaults\": {\"arrowcolor\": \"#2a3f5f\", \"arrowhead\": 0, \"arrowwidth\": 1}, \"coloraxis\": {\"colorbar\": {\"outlinewidth\": 0, \"ticks\": \"\"}}, \"colorscale\": {\"diverging\": [[0, \"#8e0152\"], [0.1, \"#c51b7d\"], [0.2, \"#de77ae\"], [0.3, \"#f1b6da\"], [0.4, \"#fde0ef\"], [0.5, \"#f7f7f7\"], [0.6, \"#e6f5d0\"], [0.7, \"#b8e186\"], [0.8, \"#7fbc41\"], [0.9, \"#4d9221\"], [1, \"#276419\"]], \"sequential\": [[0.0, \"#0d0887\"], [0.1111111111111111, \"#46039f\"], [0.2222222222222222, \"#7201a8\"], [0.3333333333333333, \"#9c179e\"], [0.4444444444444444, \"#bd3786\"], [0.5555555555555556, \"#d8576b\"], [0.6666666666666666, \"#ed7953\"], [0.7777777777777778, \"#fb9f3a\"], [0.8888888888888888, \"#fdca26\"], [1.0, \"#f0f921\"]], \"sequentialminus\": [[0.0, \"#0d0887\"], [0.1111111111111111, \"#46039f\"], [0.2222222222222222, \"#7201a8\"], [0.3333333333333333, \"#9c179e\"], [0.4444444444444444, \"#bd3786\"], [0.5555555555555556, \"#d8576b\"], [0.6666666666666666, \"#ed7953\"], [0.7777777777777778, \"#fb9f3a\"], [0.8888888888888888, \"#fdca26\"], [1.0, \"#f0f921\"]]}, \"colorway\": [\"#636efa\", \"#EF553B\", \"#00cc96\", \"#ab63fa\", \"#FFA15A\", \"#19d3f3\", \"#FF6692\", \"#B6E880\", \"#FF97FF\", \"#FECB52\"], \"font\": {\"color\": \"#2a3f5f\"}, \"geo\": {\"bgcolor\": \"white\", \"lakecolor\": \"white\", \"landcolor\": \"#E5ECF6\", \"showlakes\": true, \"showland\": true, \"subunitcolor\": \"white\"}, \"hoverlabel\": {\"align\": \"left\"}, \"hovermode\": \"closest\", \"mapbox\": {\"style\": \"light\"}, \"paper_bgcolor\": \"white\", \"plot_bgcolor\": \"#E5ECF6\", \"polar\": {\"angularaxis\": {\"gridcolor\": \"white\", \"linecolor\": \"white\", \"ticks\": \"\"}, \"bgcolor\": \"#E5ECF6\", \"radialaxis\": {\"gridcolor\": \"white\", \"linecolor\": \"white\", \"ticks\": \"\"}}, \"scene\": {\"xaxis\": {\"backgroundcolor\": \"#E5ECF6\", \"gridcolor\": \"white\", \"gridwidth\": 2, \"linecolor\": \"white\", \"showbackground\": true, \"ticks\": \"\", \"zerolinecolor\": \"white\"}, \"yaxis\": {\"backgroundcolor\": \"#E5ECF6\", \"gridcolor\": \"white\", \"gridwidth\": 2, \"linecolor\": \"white\", \"showbackground\": true, \"ticks\": \"\", \"zerolinecolor\": \"white\"}, \"zaxis\": {\"backgroundcolor\": \"#E5ECF6\", \"gridcolor\": \"white\", \"gridwidth\": 2, \"linecolor\": \"white\", \"showbackground\": true, \"ticks\": \"\", \"zerolinecolor\": \"white\"}}, \"shapedefaults\": {\"line\": {\"color\": \"#2a3f5f\"}}, \"ternary\": {\"aaxis\": {\"gridcolor\": \"white\", \"linecolor\": \"white\", \"ticks\": \"\"}, \"baxis\": {\"gridcolor\": \"white\", \"linecolor\": \"white\", \"ticks\": \"\"}, \"bgcolor\": \"#E5ECF6\", \"caxis\": {\"gridcolor\": \"white\", \"linecolor\": \"white\", \"ticks\": \"\"}}, \"title\": {\"x\": 0.05}, \"xaxis\": {\"automargin\": true, \"gridcolor\": \"white\", \"linecolor\": \"white\", \"ticks\": \"\", \"title\": {\"standoff\": 15}, \"zerolinecolor\": \"white\", \"zerolinewidth\": 2}, \"yaxis\": {\"automargin\": true, \"gridcolor\": \"white\", \"linecolor\": \"white\", \"ticks\": \"\", \"title\": {\"standoff\": 15}, \"zerolinecolor\": \"white\", \"zerolinewidth\": 2}}}, \"title\": {\"text\": \"Ti_based Query IPF vs. Density\"}, \"width\": 1200, \"xaxis\": {\"gridwidth\": 2, \"title\": {\"text\": \"$Density \\\\: [g/cm^{3}]$\"}, \"zeroline\": false}, \"yaxis\": {\"gridwidth\": 2, \"title\": {\"text\": \"$Ionic Packing Fraction \\\\: [IPF]$\"}, \"zeroline\": false}},\n",
       "                        {\"responsive\": true}\n",
       "                    ).then(function(){\n",
       "                            \n",
       "var gd = document.getElementById('9a1d54e5-5c31-4710-af23-3b5498e802a1');\n",
       "var x = new MutationObserver(function (mutations, observer) {{\n",
       "        var display = window.getComputedStyle(gd).display;\n",
       "        if (!display || display === 'none') {{\n",
       "            console.log([gd, 'removed!']);\n",
       "            Plotly.purge(gd);\n",
       "            observer.disconnect();\n",
       "        }}\n",
       "}});\n",
       "\n",
       "// Listen for the removal of the full notebook cells\n",
       "var notebookContainer = gd.closest('#notebook-container');\n",
       "if (notebookContainer) {{\n",
       "    x.observe(notebookContainer, {childList: true});\n",
       "}}\n",
       "\n",
       "// Listen for the clearing of the current output cell\n",
       "var outputEl = gd.closest('.output');\n",
       "if (outputEl) {{\n",
       "    x.observe(outputEl, {childList: true});\n",
       "}}\n",
       "\n",
       "                        })\n",
       "                };\n",
       "                });\n",
       "            </script>\n",
       "        </div>"
      ]
     },
     "metadata": {},
     "output_type": "display_data"
    }
   ],
   "source": [
    "#Layout design. Can change title, font, x/y-axis etc. Commented out pieces are height and width. For plot in browser I prefer long horizontal plots. For presentations square images may be preferred. \n",
    "#Image can be directly saved by hovering over image and clicking camera icon. \n",
    "import plotly\n",
    "import plotly.graph_objs as go\n",
    "from plotly.offline import iplot\n",
    "\n",
    "layout_IPF = go.Layout(title= \"Ti_based Query IPF vs. Density\", hovermode= 'closest',\n",
    "                   font = dict(family='Times New Roman',size=18),\n",
    "                   xaxis= dict(title= '$Density \\: [g/cm^{3}]$',zeroline= False, gridwidth= 2),\n",
    "                   yaxis= dict(title= '$Ionic Packing Fraction \\: [IPF]$',zeroline= False, gridwidth= 2),\n",
    "                   height = 600,\n",
    "                   width = 1200,\n",
    "     showlegend= True                \n",
    ")\n",
    "\n",
    "#Scatter plot of collected data. Use df_oxide_all dataframe. df_oxide_all.Density will pull density column. Could change Density or IPF to Molar Volume or simply volume if you wanted.\n",
    "trace_all = go.Scatter(x = df_oxide.Density, y = df_oxide.IPF, mode = 'markers',\n",
    "                    marker=dict(size=12, color='black'), text = df_oxide.Formula, name = 'All Queries')\n",
    "\n",
    "trace_TiC = go.Scatter(x = df_oxide[(df_oxide.Formula == 'TiC') & (df_oxide.E_above_Hull == 0)].loc[:,'Density'],\n",
    "                         y = df_oxide[(df_oxide.Formula == 'TiC') & (df_oxide.E_above_Hull == 0)].loc[:,'IPF'],\n",
    "                         mode = 'markers', marker=dict(size=18, color='green'), text = 'TiC', name = 'TiC')\n",
    "trace_TiN = go.Scatter(x = df_oxide[(df_oxide.Formula == 'TiN') & (df_oxide.E_above_Hull == 0)].loc[:,'Density'],\n",
    "                         y = df_oxide[(df_oxide.Formula == 'TiN') & (df_oxide.E_above_Hull == 0)].loc[:,'IPF'],\n",
    "                         mode = 'markers', marker=dict(size=18, color='blue'), text = 'TiN', name = 'TiN')\n",
    "trace_TiB = go.Scatter(x = df_oxide[(df_oxide.Formula == 'TiB') & (df_oxide.E_above_Hull == 0)].loc[:,'Density'],\n",
    "                        y = df_oxide[(df_oxide.Formula == 'TiB') & (df_oxide.E_above_Hull == 0)].loc[:,'IPF'],\n",
    "                        mode = 'markers', marker=dict(size=18, color='orange'), text = 'TiB', name = 'TiB')\n",
    "trace_TiO2 = go.Scatter(x = df_oxide[(df_oxide.Formula == 'TiO2') & (df_oxide.E_above_Hull == 0)].loc[:,'Density'],\n",
    "                        y = df_oxide[(df_oxide.Formula == 'TiO2') & (df_oxide.E_above_Hull == 0)].loc[:,'IPF'],\n",
    "                        mode = 'markers', marker=dict(size=18, color='magenta'), text = 'TiO2', name = 'TiO2')\n",
    "\n",
    "data_IPF = [trace_all,trace_TiC,trace_TiN,trace_TiB,trace_TiO2]\n",
    "fig_IPF = go.Figure(data_IPF, layout=layout_IPF)\n",
    "iplot(fig_IPF)"
   ]
  },
  {
   "cell_type": "markdown",
   "metadata": {},
   "source": [
    "### 3.3.2 Plot material properties from dataframe using 3rd property as color key"
   ]
  },
  {
   "cell_type": "code",
   "execution_count": 76,
   "metadata": {},
   "outputs": [
    {
     "data": {
      "application/vnd.plotly.v1+json": {
       "config": {
        "linkText": "Export to plot.ly",
        "plotlyServerURL": "https://plot.ly",
        "showLink": false
       },
       "data": [
        {
         "marker": {
          "color": [
           0.46,
           0.21,
           0.27,
           0.3,
           0.24,
           0.19,
           0.21,
           0.27,
           0.32,
           0.16,
           0.13,
           0.01,
           0.21,
           0.3,
           0.31,
           0.28,
           0.28,
           0.2,
           0.23,
           0.29,
           0.28,
           0.38,
           0.19,
           0.27,
           0.27,
           0.32,
           0.3,
           0.32,
           0.1,
           0.22,
           0.32,
           0.26,
           0.37,
           0.28,
           0.29,
           0.28,
           0.27,
           0.21,
           0.27,
           0.28,
           0.33,
           0.31,
           0.25,
           0.25,
           0.36,
           0.31,
           0.18,
           0.39,
           0.45,
           0.35,
           0.24,
           0.33,
           0.33,
           0.29,
           0.27,
           0.29,
           0.29,
           0.34,
           0.26,
           0.3,
           0.33,
           0.34,
           0.33,
           0.26,
           0.27,
           0.31,
           0.36,
           0.31,
           0.28,
           0.3,
           0.3,
           0.35,
           0.26,
           0.27,
           0.31,
           0.27
          ],
          "colorbar": {
           "tickfont": {
            "family": "Georgia",
            "size": 16
           },
           "title": {
            "font": {
             "family": "Georgia",
             "size": 18
            },
            "text": "Poisson Ratio"
           }
          },
          "size": 12
         },
         "mode": "markers",
         "text": [
          "WS2",
          "WSe2",
          "Sr3WN3",
          "BW2",
          "Al12W",
          "Be2W",
          "P2W",
          "As3W2",
          "HfW2",
          "Si2W",
          "WSe2",
          "WO3",
          "WC",
          "SrWO4",
          "MnWO4",
          "WO3",
          "Co3W",
          "WS2",
          "Te2W",
          "WCl6",
          "PW",
          "Rb2WBr6",
          "Al5W",
          "IrW",
          "Ir3W",
          "Ni4W",
          "Rh3W",
          "WO3",
          "Be12W",
          "B2W",
          "ZrW2",
          "BW",
          "AlFe2W",
          "Ru3W",
          "TiTc2W",
          "Mn2GaW",
          "TaW3",
          "WS2",
          "Na2WO4",
          "MgWO4",
          "ZnWO4",
          "BaWO4",
          "Mn(BW)2",
          "Co(BW)3",
          "Tl2WCl6",
          "Cs2WCl6",
          "Li6WN4",
          "Cs2WBr6",
          "K3WF6",
          "K2WCl6",
          "Co(BW)2",
          "LiRu2W",
          "ScTc2W",
          "Ta2OsW",
          "Mn2AlW",
          "TiMn2W",
          "HfTc2W",
          "SiTc2W",
          "Nb2RuW",
          "Y6WO12",
          "Li2WO4",
          "CdWO4",
          "FeWO4",
          "CoBW",
          "WSCl4",
          "Rb2WCl6",
          "W2NCl8",
          "BeRu2W",
          "TiRe2W",
          "Ta2TcW",
          "Ti2IrW",
          "LaWN3",
          "Sr2MgWO6",
          "ZrTc2W",
          "Sr2MgWO6",
          "Ba2NiWO6"
         ],
         "type": "scatter",
         "x": [
          2,
          13,
          30,
          152,
          57,
          170,
          132,
          74,
          94,
          189,
          20,
          86,
          279,
          29,
          55,
          101,
          142,
          20,
          13,
          0,
          117,
          4,
          98,
          183,
          193,
          98,
          132,
          82,
          158,
          224,
          87,
          196,
          64,
          162,
          128,
          114,
          139,
          20,
          28,
          70,
          54,
          24,
          187,
          203,
          5,
          4,
          68,
          3,
          3,
          4,
          208,
          85,
          84,
          133,
          127,
          120,
          119,
          97,
          113,
          65,
          26,
          41,
          54,
          193,
          1,
          4,
          1,
          119,
          146,
          119,
          90,
          57,
          72,
          109,
          76,
          65
         ],
         "y": [
          19,
          18,
          57,
          330,
          92,
          218,
          188,
          134,
          223,
          218,
          20,
          59,
          385,
          63,
          127,
          197,
          279,
          27,
          20,
          1,
          222,
          15,
          124,
          334,
          351,
          234,
          283,
          194,
          144,
          321,
          215,
          342,
          232,
          309,
          263,
          220,
          255,
          27,
          52,
          136,
          142,
          56,
          306,
          339,
          15,
          8,
          85,
          12,
          34,
          12,
          335,
          227,
          223,
          272,
          236,
          243,
          244,
          278,
          200,
          142,
          69,
          118,
          141,
          335,
          1,
          10,
          4,
          270,
          285,
          250,
          191,
          170,
          127,
          198,
          179,
          122
         ]
        }
       ],
       "layout": {
        "font": {
         "family": "Times New Roman",
         "size": 18
        },
        "height": 600,
        "hovermode": "closest",
        "showlegend": false,
        "template": {
         "data": {
          "bar": [
           {
            "error_x": {
             "color": "#2a3f5f"
            },
            "error_y": {
             "color": "#2a3f5f"
            },
            "marker": {
             "line": {
              "color": "#E5ECF6",
              "width": 0.5
             }
            },
            "type": "bar"
           }
          ],
          "barpolar": [
           {
            "marker": {
             "line": {
              "color": "#E5ECF6",
              "width": 0.5
             }
            },
            "type": "barpolar"
           }
          ],
          "carpet": [
           {
            "aaxis": {
             "endlinecolor": "#2a3f5f",
             "gridcolor": "white",
             "linecolor": "white",
             "minorgridcolor": "white",
             "startlinecolor": "#2a3f5f"
            },
            "baxis": {
             "endlinecolor": "#2a3f5f",
             "gridcolor": "white",
             "linecolor": "white",
             "minorgridcolor": "white",
             "startlinecolor": "#2a3f5f"
            },
            "type": "carpet"
           }
          ],
          "choropleth": [
           {
            "colorbar": {
             "outlinewidth": 0,
             "ticks": ""
            },
            "type": "choropleth"
           }
          ],
          "contour": [
           {
            "colorbar": {
             "outlinewidth": 0,
             "ticks": ""
            },
            "colorscale": [
             [
              0,
              "#0d0887"
             ],
             [
              0.1111111111111111,
              "#46039f"
             ],
             [
              0.2222222222222222,
              "#7201a8"
             ],
             [
              0.3333333333333333,
              "#9c179e"
             ],
             [
              0.4444444444444444,
              "#bd3786"
             ],
             [
              0.5555555555555556,
              "#d8576b"
             ],
             [
              0.6666666666666666,
              "#ed7953"
             ],
             [
              0.7777777777777778,
              "#fb9f3a"
             ],
             [
              0.8888888888888888,
              "#fdca26"
             ],
             [
              1,
              "#f0f921"
             ]
            ],
            "type": "contour"
           }
          ],
          "contourcarpet": [
           {
            "colorbar": {
             "outlinewidth": 0,
             "ticks": ""
            },
            "type": "contourcarpet"
           }
          ],
          "heatmap": [
           {
            "colorbar": {
             "outlinewidth": 0,
             "ticks": ""
            },
            "colorscale": [
             [
              0,
              "#0d0887"
             ],
             [
              0.1111111111111111,
              "#46039f"
             ],
             [
              0.2222222222222222,
              "#7201a8"
             ],
             [
              0.3333333333333333,
              "#9c179e"
             ],
             [
              0.4444444444444444,
              "#bd3786"
             ],
             [
              0.5555555555555556,
              "#d8576b"
             ],
             [
              0.6666666666666666,
              "#ed7953"
             ],
             [
              0.7777777777777778,
              "#fb9f3a"
             ],
             [
              0.8888888888888888,
              "#fdca26"
             ],
             [
              1,
              "#f0f921"
             ]
            ],
            "type": "heatmap"
           }
          ],
          "heatmapgl": [
           {
            "colorbar": {
             "outlinewidth": 0,
             "ticks": ""
            },
            "colorscale": [
             [
              0,
              "#0d0887"
             ],
             [
              0.1111111111111111,
              "#46039f"
             ],
             [
              0.2222222222222222,
              "#7201a8"
             ],
             [
              0.3333333333333333,
              "#9c179e"
             ],
             [
              0.4444444444444444,
              "#bd3786"
             ],
             [
              0.5555555555555556,
              "#d8576b"
             ],
             [
              0.6666666666666666,
              "#ed7953"
             ],
             [
              0.7777777777777778,
              "#fb9f3a"
             ],
             [
              0.8888888888888888,
              "#fdca26"
             ],
             [
              1,
              "#f0f921"
             ]
            ],
            "type": "heatmapgl"
           }
          ],
          "histogram": [
           {
            "marker": {
             "colorbar": {
              "outlinewidth": 0,
              "ticks": ""
             }
            },
            "type": "histogram"
           }
          ],
          "histogram2d": [
           {
            "colorbar": {
             "outlinewidth": 0,
             "ticks": ""
            },
            "colorscale": [
             [
              0,
              "#0d0887"
             ],
             [
              0.1111111111111111,
              "#46039f"
             ],
             [
              0.2222222222222222,
              "#7201a8"
             ],
             [
              0.3333333333333333,
              "#9c179e"
             ],
             [
              0.4444444444444444,
              "#bd3786"
             ],
             [
              0.5555555555555556,
              "#d8576b"
             ],
             [
              0.6666666666666666,
              "#ed7953"
             ],
             [
              0.7777777777777778,
              "#fb9f3a"
             ],
             [
              0.8888888888888888,
              "#fdca26"
             ],
             [
              1,
              "#f0f921"
             ]
            ],
            "type": "histogram2d"
           }
          ],
          "histogram2dcontour": [
           {
            "colorbar": {
             "outlinewidth": 0,
             "ticks": ""
            },
            "colorscale": [
             [
              0,
              "#0d0887"
             ],
             [
              0.1111111111111111,
              "#46039f"
             ],
             [
              0.2222222222222222,
              "#7201a8"
             ],
             [
              0.3333333333333333,
              "#9c179e"
             ],
             [
              0.4444444444444444,
              "#bd3786"
             ],
             [
              0.5555555555555556,
              "#d8576b"
             ],
             [
              0.6666666666666666,
              "#ed7953"
             ],
             [
              0.7777777777777778,
              "#fb9f3a"
             ],
             [
              0.8888888888888888,
              "#fdca26"
             ],
             [
              1,
              "#f0f921"
             ]
            ],
            "type": "histogram2dcontour"
           }
          ],
          "mesh3d": [
           {
            "colorbar": {
             "outlinewidth": 0,
             "ticks": ""
            },
            "type": "mesh3d"
           }
          ],
          "parcoords": [
           {
            "line": {
             "colorbar": {
              "outlinewidth": 0,
              "ticks": ""
             }
            },
            "type": "parcoords"
           }
          ],
          "pie": [
           {
            "automargin": true,
            "type": "pie"
           }
          ],
          "scatter": [
           {
            "marker": {
             "colorbar": {
              "outlinewidth": 0,
              "ticks": ""
             }
            },
            "type": "scatter"
           }
          ],
          "scatter3d": [
           {
            "line": {
             "colorbar": {
              "outlinewidth": 0,
              "ticks": ""
             }
            },
            "marker": {
             "colorbar": {
              "outlinewidth": 0,
              "ticks": ""
             }
            },
            "type": "scatter3d"
           }
          ],
          "scattercarpet": [
           {
            "marker": {
             "colorbar": {
              "outlinewidth": 0,
              "ticks": ""
             }
            },
            "type": "scattercarpet"
           }
          ],
          "scattergeo": [
           {
            "marker": {
             "colorbar": {
              "outlinewidth": 0,
              "ticks": ""
             }
            },
            "type": "scattergeo"
           }
          ],
          "scattergl": [
           {
            "marker": {
             "colorbar": {
              "outlinewidth": 0,
              "ticks": ""
             }
            },
            "type": "scattergl"
           }
          ],
          "scattermapbox": [
           {
            "marker": {
             "colorbar": {
              "outlinewidth": 0,
              "ticks": ""
             }
            },
            "type": "scattermapbox"
           }
          ],
          "scatterpolar": [
           {
            "marker": {
             "colorbar": {
              "outlinewidth": 0,
              "ticks": ""
             }
            },
            "type": "scatterpolar"
           }
          ],
          "scatterpolargl": [
           {
            "marker": {
             "colorbar": {
              "outlinewidth": 0,
              "ticks": ""
             }
            },
            "type": "scatterpolargl"
           }
          ],
          "scatterternary": [
           {
            "marker": {
             "colorbar": {
              "outlinewidth": 0,
              "ticks": ""
             }
            },
            "type": "scatterternary"
           }
          ],
          "surface": [
           {
            "colorbar": {
             "outlinewidth": 0,
             "ticks": ""
            },
            "colorscale": [
             [
              0,
              "#0d0887"
             ],
             [
              0.1111111111111111,
              "#46039f"
             ],
             [
              0.2222222222222222,
              "#7201a8"
             ],
             [
              0.3333333333333333,
              "#9c179e"
             ],
             [
              0.4444444444444444,
              "#bd3786"
             ],
             [
              0.5555555555555556,
              "#d8576b"
             ],
             [
              0.6666666666666666,
              "#ed7953"
             ],
             [
              0.7777777777777778,
              "#fb9f3a"
             ],
             [
              0.8888888888888888,
              "#fdca26"
             ],
             [
              1,
              "#f0f921"
             ]
            ],
            "type": "surface"
           }
          ],
          "table": [
           {
            "cells": {
             "fill": {
              "color": "#EBF0F8"
             },
             "line": {
              "color": "white"
             }
            },
            "header": {
             "fill": {
              "color": "#C8D4E3"
             },
             "line": {
              "color": "white"
             }
            },
            "type": "table"
           }
          ]
         },
         "layout": {
          "annotationdefaults": {
           "arrowcolor": "#2a3f5f",
           "arrowhead": 0,
           "arrowwidth": 1
          },
          "coloraxis": {
           "colorbar": {
            "outlinewidth": 0,
            "ticks": ""
           }
          },
          "colorscale": {
           "diverging": [
            [
             0,
             "#8e0152"
            ],
            [
             0.1,
             "#c51b7d"
            ],
            [
             0.2,
             "#de77ae"
            ],
            [
             0.3,
             "#f1b6da"
            ],
            [
             0.4,
             "#fde0ef"
            ],
            [
             0.5,
             "#f7f7f7"
            ],
            [
             0.6,
             "#e6f5d0"
            ],
            [
             0.7,
             "#b8e186"
            ],
            [
             0.8,
             "#7fbc41"
            ],
            [
             0.9,
             "#4d9221"
            ],
            [
             1,
             "#276419"
            ]
           ],
           "sequential": [
            [
             0,
             "#0d0887"
            ],
            [
             0.1111111111111111,
             "#46039f"
            ],
            [
             0.2222222222222222,
             "#7201a8"
            ],
            [
             0.3333333333333333,
             "#9c179e"
            ],
            [
             0.4444444444444444,
             "#bd3786"
            ],
            [
             0.5555555555555556,
             "#d8576b"
            ],
            [
             0.6666666666666666,
             "#ed7953"
            ],
            [
             0.7777777777777778,
             "#fb9f3a"
            ],
            [
             0.8888888888888888,
             "#fdca26"
            ],
            [
             1,
             "#f0f921"
            ]
           ],
           "sequentialminus": [
            [
             0,
             "#0d0887"
            ],
            [
             0.1111111111111111,
             "#46039f"
            ],
            [
             0.2222222222222222,
             "#7201a8"
            ],
            [
             0.3333333333333333,
             "#9c179e"
            ],
            [
             0.4444444444444444,
             "#bd3786"
            ],
            [
             0.5555555555555556,
             "#d8576b"
            ],
            [
             0.6666666666666666,
             "#ed7953"
            ],
            [
             0.7777777777777778,
             "#fb9f3a"
            ],
            [
             0.8888888888888888,
             "#fdca26"
            ],
            [
             1,
             "#f0f921"
            ]
           ]
          },
          "colorway": [
           "#636efa",
           "#EF553B",
           "#00cc96",
           "#ab63fa",
           "#FFA15A",
           "#19d3f3",
           "#FF6692",
           "#B6E880",
           "#FF97FF",
           "#FECB52"
          ],
          "font": {
           "color": "#2a3f5f"
          },
          "geo": {
           "bgcolor": "white",
           "lakecolor": "white",
           "landcolor": "#E5ECF6",
           "showlakes": true,
           "showland": true,
           "subunitcolor": "white"
          },
          "hoverlabel": {
           "align": "left"
          },
          "hovermode": "closest",
          "mapbox": {
           "style": "light"
          },
          "paper_bgcolor": "white",
          "plot_bgcolor": "#E5ECF6",
          "polar": {
           "angularaxis": {
            "gridcolor": "white",
            "linecolor": "white",
            "ticks": ""
           },
           "bgcolor": "#E5ECF6",
           "radialaxis": {
            "gridcolor": "white",
            "linecolor": "white",
            "ticks": ""
           }
          },
          "scene": {
           "xaxis": {
            "backgroundcolor": "#E5ECF6",
            "gridcolor": "white",
            "gridwidth": 2,
            "linecolor": "white",
            "showbackground": true,
            "ticks": "",
            "zerolinecolor": "white"
           },
           "yaxis": {
            "backgroundcolor": "#E5ECF6",
            "gridcolor": "white",
            "gridwidth": 2,
            "linecolor": "white",
            "showbackground": true,
            "ticks": "",
            "zerolinecolor": "white"
           },
           "zaxis": {
            "backgroundcolor": "#E5ECF6",
            "gridcolor": "white",
            "gridwidth": 2,
            "linecolor": "white",
            "showbackground": true,
            "ticks": "",
            "zerolinecolor": "white"
           }
          },
          "shapedefaults": {
           "line": {
            "color": "#2a3f5f"
           }
          },
          "ternary": {
           "aaxis": {
            "gridcolor": "white",
            "linecolor": "white",
            "ticks": ""
           },
           "baxis": {
            "gridcolor": "white",
            "linecolor": "white",
            "ticks": ""
           },
           "bgcolor": "#E5ECF6",
           "caxis": {
            "gridcolor": "white",
            "linecolor": "white",
            "ticks": ""
           }
          },
          "title": {
           "x": 0.05
          },
          "xaxis": {
           "automargin": true,
           "gridcolor": "white",
           "linecolor": "white",
           "ticks": "",
           "title": {
            "standoff": 15
           },
           "zerolinecolor": "white",
           "zerolinewidth": 2
          },
          "yaxis": {
           "automargin": true,
           "gridcolor": "white",
           "linecolor": "white",
           "ticks": "",
           "title": {
            "standoff": 15
           },
           "zerolinecolor": "white",
           "zerolinewidth": 2
          }
         }
        },
        "title": {
         "text": "Ti-based Compounds Bulk Modulus vs. Shear Modulus"
        },
        "width": 1200,
        "xaxis": {
         "gridwidth": 2,
         "title": {
          "text": "$Shear \\: Modulus \\: [GPa]$"
         },
         "zeroline": false
        },
        "yaxis": {
         "gridwidth": 2,
         "title": {
          "text": "$Bulk \\: Modulus [GPa]$"
         },
         "zeroline": false
        }
       }
      },
      "text/html": [
       "<div>\n",
       "        \n",
       "        \n",
       "            <div id=\"2621ab66-274f-4402-a597-5d2d9cd3d86c\" class=\"plotly-graph-div\" style=\"height:600px; width:1200px;\"></div>\n",
       "            <script type=\"text/javascript\">\n",
       "                require([\"plotly\"], function(Plotly) {\n",
       "                    window.PLOTLYENV=window.PLOTLYENV || {};\n",
       "                    \n",
       "                if (document.getElementById(\"2621ab66-274f-4402-a597-5d2d9cd3d86c\")) {\n",
       "                    Plotly.newPlot(\n",
       "                        '2621ab66-274f-4402-a597-5d2d9cd3d86c',\n",
       "                        [{\"marker\": {\"color\": [0.46, 0.21, 0.27, 0.3, 0.24, 0.19, 0.21, 0.27, 0.32, 0.16, 0.13, 0.01, 0.21, 0.3, 0.31, 0.28, 0.28, 0.2, 0.23, 0.29, 0.28, 0.38, 0.19, 0.27, 0.27, 0.32, 0.3, 0.32, 0.1, 0.22, 0.32, 0.26, 0.37, 0.28, 0.29, 0.28, 0.27, 0.21, 0.27, 0.28, 0.33, 0.31, 0.25, 0.25, 0.36, 0.31, 0.18, 0.39, 0.45, 0.35, 0.24, 0.33, 0.33, 0.29, 0.27, 0.29, 0.29, 0.34, 0.26, 0.3, 0.33, 0.34, 0.33, 0.26, 0.27, 0.31, 0.36, 0.31, 0.28, 0.3, 0.3, 0.35, 0.26, 0.27, 0.31, 0.27], \"colorbar\": {\"tickfont\": {\"family\": \"Georgia\", \"size\": 16}, \"title\": {\"font\": {\"family\": \"Georgia\", \"size\": 18}, \"text\": \"Poisson Ratio\"}}, \"size\": 12}, \"mode\": \"markers\", \"text\": [\"WS2\", \"WSe2\", \"Sr3WN3\", \"BW2\", \"Al12W\", \"Be2W\", \"P2W\", \"As3W2\", \"HfW2\", \"Si2W\", \"WSe2\", \"WO3\", \"WC\", \"SrWO4\", \"MnWO4\", \"WO3\", \"Co3W\", \"WS2\", \"Te2W\", \"WCl6\", \"PW\", \"Rb2WBr6\", \"Al5W\", \"IrW\", \"Ir3W\", \"Ni4W\", \"Rh3W\", \"WO3\", \"Be12W\", \"B2W\", \"ZrW2\", \"BW\", \"AlFe2W\", \"Ru3W\", \"TiTc2W\", \"Mn2GaW\", \"TaW3\", \"WS2\", \"Na2WO4\", \"MgWO4\", \"ZnWO4\", \"BaWO4\", \"Mn(BW)2\", \"Co(BW)3\", \"Tl2WCl6\", \"Cs2WCl6\", \"Li6WN4\", \"Cs2WBr6\", \"K3WF6\", \"K2WCl6\", \"Co(BW)2\", \"LiRu2W\", \"ScTc2W\", \"Ta2OsW\", \"Mn2AlW\", \"TiMn2W\", \"HfTc2W\", \"SiTc2W\", \"Nb2RuW\", \"Y6WO12\", \"Li2WO4\", \"CdWO4\", \"FeWO4\", \"CoBW\", \"WSCl4\", \"Rb2WCl6\", \"W2NCl8\", \"BeRu2W\", \"TiRe2W\", \"Ta2TcW\", \"Ti2IrW\", \"LaWN3\", \"Sr2MgWO6\", \"ZrTc2W\", \"Sr2MgWO6\", \"Ba2NiWO6\"], \"type\": \"scatter\", \"x\": [2.0, 13.0, 30.0, 152.0, 57.0, 170.0, 132.0, 74.0, 94.0, 189.0, 20.0, 86.0, 279.0, 29.0, 55.0, 101.0, 142.0, 20.0, 13.0, 0.0, 117.0, 4.0, 98.0, 183.0, 193.0, 98.0, 132.0, 82.0, 158.0, 224.0, 87.0, 196.0, 64.0, 162.0, 128.0, 114.0, 139.0, 20.0, 28.0, 70.0, 54.0, 24.0, 187.0, 203.0, 5.0, 4.0, 68.0, 3.0, 3.0, 4.0, 208.0, 85.0, 84.0, 133.0, 127.0, 120.0, 119.0, 97.0, 113.0, 65.0, 26.0, 41.0, 54.0, 193.0, 1.0, 4.0, 1.0, 119.0, 146.0, 119.0, 90.0, 57.0, 72.0, 109.0, 76.0, 65.0], \"y\": [19.0, 18.0, 57.0, 330.0, 92.0, 218.0, 188.0, 134.0, 223.0, 218.0, 20.0, 59.0, 385.0, 63.0, 127.0, 197.0, 279.0, 27.0, 20.0, 1.0, 222.0, 15.0, 124.0, 334.0, 351.0, 234.0, 283.0, 194.0, 144.0, 321.0, 215.0, 342.0, 232.0, 309.0, 263.0, 220.0, 255.0, 27.0, 52.0, 136.0, 142.0, 56.0, 306.0, 339.0, 15.0, 8.0, 85.0, 12.0, 34.0, 12.0, 335.0, 227.0, 223.0, 272.0, 236.0, 243.0, 244.0, 278.0, 200.0, 142.0, 69.0, 118.0, 141.0, 335.0, 1.0, 10.0, 4.0, 270.0, 285.0, 250.0, 191.0, 170.0, 127.0, 198.0, 179.0, 122.0]}],\n",
       "                        {\"font\": {\"family\": \"Times New Roman\", \"size\": 18}, \"height\": 600, \"hovermode\": \"closest\", \"showlegend\": false, \"template\": {\"data\": {\"bar\": [{\"error_x\": {\"color\": \"#2a3f5f\"}, \"error_y\": {\"color\": \"#2a3f5f\"}, \"marker\": {\"line\": {\"color\": \"#E5ECF6\", \"width\": 0.5}}, \"type\": \"bar\"}], \"barpolar\": [{\"marker\": {\"line\": {\"color\": \"#E5ECF6\", \"width\": 0.5}}, \"type\": \"barpolar\"}], \"carpet\": [{\"aaxis\": {\"endlinecolor\": \"#2a3f5f\", \"gridcolor\": \"white\", \"linecolor\": \"white\", \"minorgridcolor\": \"white\", \"startlinecolor\": \"#2a3f5f\"}, \"baxis\": {\"endlinecolor\": \"#2a3f5f\", \"gridcolor\": \"white\", \"linecolor\": \"white\", \"minorgridcolor\": \"white\", \"startlinecolor\": \"#2a3f5f\"}, \"type\": \"carpet\"}], \"choropleth\": [{\"colorbar\": {\"outlinewidth\": 0, \"ticks\": \"\"}, \"type\": \"choropleth\"}], \"contour\": [{\"colorbar\": {\"outlinewidth\": 0, \"ticks\": \"\"}, \"colorscale\": [[0.0, \"#0d0887\"], [0.1111111111111111, \"#46039f\"], [0.2222222222222222, \"#7201a8\"], [0.3333333333333333, \"#9c179e\"], [0.4444444444444444, \"#bd3786\"], [0.5555555555555556, \"#d8576b\"], [0.6666666666666666, \"#ed7953\"], [0.7777777777777778, \"#fb9f3a\"], [0.8888888888888888, \"#fdca26\"], [1.0, \"#f0f921\"]], \"type\": \"contour\"}], \"contourcarpet\": [{\"colorbar\": {\"outlinewidth\": 0, \"ticks\": \"\"}, \"type\": \"contourcarpet\"}], \"heatmap\": [{\"colorbar\": {\"outlinewidth\": 0, \"ticks\": \"\"}, \"colorscale\": [[0.0, \"#0d0887\"], [0.1111111111111111, \"#46039f\"], [0.2222222222222222, \"#7201a8\"], [0.3333333333333333, \"#9c179e\"], [0.4444444444444444, \"#bd3786\"], [0.5555555555555556, \"#d8576b\"], [0.6666666666666666, \"#ed7953\"], [0.7777777777777778, \"#fb9f3a\"], [0.8888888888888888, \"#fdca26\"], [1.0, \"#f0f921\"]], \"type\": \"heatmap\"}], \"heatmapgl\": [{\"colorbar\": {\"outlinewidth\": 0, \"ticks\": \"\"}, \"colorscale\": [[0.0, \"#0d0887\"], [0.1111111111111111, \"#46039f\"], [0.2222222222222222, \"#7201a8\"], [0.3333333333333333, \"#9c179e\"], [0.4444444444444444, \"#bd3786\"], [0.5555555555555556, \"#d8576b\"], [0.6666666666666666, \"#ed7953\"], [0.7777777777777778, \"#fb9f3a\"], [0.8888888888888888, \"#fdca26\"], [1.0, \"#f0f921\"]], \"type\": \"heatmapgl\"}], \"histogram\": [{\"marker\": {\"colorbar\": {\"outlinewidth\": 0, \"ticks\": \"\"}}, \"type\": \"histogram\"}], \"histogram2d\": [{\"colorbar\": {\"outlinewidth\": 0, \"ticks\": \"\"}, \"colorscale\": [[0.0, \"#0d0887\"], [0.1111111111111111, \"#46039f\"], [0.2222222222222222, \"#7201a8\"], [0.3333333333333333, \"#9c179e\"], [0.4444444444444444, \"#bd3786\"], [0.5555555555555556, \"#d8576b\"], [0.6666666666666666, \"#ed7953\"], [0.7777777777777778, \"#fb9f3a\"], [0.8888888888888888, \"#fdca26\"], [1.0, \"#f0f921\"]], \"type\": \"histogram2d\"}], \"histogram2dcontour\": [{\"colorbar\": {\"outlinewidth\": 0, \"ticks\": \"\"}, \"colorscale\": [[0.0, \"#0d0887\"], [0.1111111111111111, \"#46039f\"], [0.2222222222222222, \"#7201a8\"], [0.3333333333333333, \"#9c179e\"], [0.4444444444444444, \"#bd3786\"], [0.5555555555555556, \"#d8576b\"], [0.6666666666666666, \"#ed7953\"], [0.7777777777777778, \"#fb9f3a\"], [0.8888888888888888, \"#fdca26\"], [1.0, \"#f0f921\"]], \"type\": \"histogram2dcontour\"}], \"mesh3d\": [{\"colorbar\": {\"outlinewidth\": 0, \"ticks\": \"\"}, \"type\": \"mesh3d\"}], \"parcoords\": [{\"line\": {\"colorbar\": {\"outlinewidth\": 0, \"ticks\": \"\"}}, \"type\": \"parcoords\"}], \"pie\": [{\"automargin\": true, \"type\": \"pie\"}], \"scatter\": [{\"marker\": {\"colorbar\": {\"outlinewidth\": 0, \"ticks\": \"\"}}, \"type\": \"scatter\"}], \"scatter3d\": [{\"line\": {\"colorbar\": {\"outlinewidth\": 0, \"ticks\": \"\"}}, \"marker\": {\"colorbar\": {\"outlinewidth\": 0, \"ticks\": \"\"}}, \"type\": \"scatter3d\"}], \"scattercarpet\": [{\"marker\": {\"colorbar\": {\"outlinewidth\": 0, \"ticks\": \"\"}}, \"type\": \"scattercarpet\"}], \"scattergeo\": [{\"marker\": {\"colorbar\": {\"outlinewidth\": 0, \"ticks\": \"\"}}, \"type\": \"scattergeo\"}], \"scattergl\": [{\"marker\": {\"colorbar\": {\"outlinewidth\": 0, \"ticks\": \"\"}}, \"type\": \"scattergl\"}], \"scattermapbox\": [{\"marker\": {\"colorbar\": {\"outlinewidth\": 0, \"ticks\": \"\"}}, \"type\": \"scattermapbox\"}], \"scatterpolar\": [{\"marker\": {\"colorbar\": {\"outlinewidth\": 0, \"ticks\": \"\"}}, \"type\": \"scatterpolar\"}], \"scatterpolargl\": [{\"marker\": {\"colorbar\": {\"outlinewidth\": 0, \"ticks\": \"\"}}, \"type\": \"scatterpolargl\"}], \"scatterternary\": [{\"marker\": {\"colorbar\": {\"outlinewidth\": 0, \"ticks\": \"\"}}, \"type\": \"scatterternary\"}], \"surface\": [{\"colorbar\": {\"outlinewidth\": 0, \"ticks\": \"\"}, \"colorscale\": [[0.0, \"#0d0887\"], [0.1111111111111111, \"#46039f\"], [0.2222222222222222, \"#7201a8\"], [0.3333333333333333, \"#9c179e\"], [0.4444444444444444, \"#bd3786\"], [0.5555555555555556, \"#d8576b\"], [0.6666666666666666, \"#ed7953\"], [0.7777777777777778, \"#fb9f3a\"], [0.8888888888888888, \"#fdca26\"], [1.0, \"#f0f921\"]], \"type\": \"surface\"}], \"table\": [{\"cells\": {\"fill\": {\"color\": \"#EBF0F8\"}, \"line\": {\"color\": \"white\"}}, \"header\": {\"fill\": {\"color\": \"#C8D4E3\"}, \"line\": {\"color\": \"white\"}}, \"type\": \"table\"}]}, \"layout\": {\"annotationdefaults\": {\"arrowcolor\": \"#2a3f5f\", \"arrowhead\": 0, \"arrowwidth\": 1}, \"coloraxis\": {\"colorbar\": {\"outlinewidth\": 0, \"ticks\": \"\"}}, \"colorscale\": {\"diverging\": [[0, \"#8e0152\"], [0.1, \"#c51b7d\"], [0.2, \"#de77ae\"], [0.3, \"#f1b6da\"], [0.4, \"#fde0ef\"], [0.5, \"#f7f7f7\"], [0.6, \"#e6f5d0\"], [0.7, \"#b8e186\"], [0.8, \"#7fbc41\"], [0.9, \"#4d9221\"], [1, \"#276419\"]], \"sequential\": [[0.0, \"#0d0887\"], [0.1111111111111111, \"#46039f\"], [0.2222222222222222, \"#7201a8\"], [0.3333333333333333, \"#9c179e\"], [0.4444444444444444, \"#bd3786\"], [0.5555555555555556, \"#d8576b\"], [0.6666666666666666, \"#ed7953\"], [0.7777777777777778, \"#fb9f3a\"], [0.8888888888888888, \"#fdca26\"], [1.0, \"#f0f921\"]], \"sequentialminus\": [[0.0, \"#0d0887\"], [0.1111111111111111, \"#46039f\"], [0.2222222222222222, \"#7201a8\"], [0.3333333333333333, \"#9c179e\"], [0.4444444444444444, \"#bd3786\"], [0.5555555555555556, \"#d8576b\"], [0.6666666666666666, \"#ed7953\"], [0.7777777777777778, \"#fb9f3a\"], [0.8888888888888888, \"#fdca26\"], [1.0, \"#f0f921\"]]}, \"colorway\": [\"#636efa\", \"#EF553B\", \"#00cc96\", \"#ab63fa\", \"#FFA15A\", \"#19d3f3\", \"#FF6692\", \"#B6E880\", \"#FF97FF\", \"#FECB52\"], \"font\": {\"color\": \"#2a3f5f\"}, \"geo\": {\"bgcolor\": \"white\", \"lakecolor\": \"white\", \"landcolor\": \"#E5ECF6\", \"showlakes\": true, \"showland\": true, \"subunitcolor\": \"white\"}, \"hoverlabel\": {\"align\": \"left\"}, \"hovermode\": \"closest\", \"mapbox\": {\"style\": \"light\"}, \"paper_bgcolor\": \"white\", \"plot_bgcolor\": \"#E5ECF6\", \"polar\": {\"angularaxis\": {\"gridcolor\": \"white\", \"linecolor\": \"white\", \"ticks\": \"\"}, \"bgcolor\": \"#E5ECF6\", \"radialaxis\": {\"gridcolor\": \"white\", \"linecolor\": \"white\", \"ticks\": \"\"}}, \"scene\": {\"xaxis\": {\"backgroundcolor\": \"#E5ECF6\", \"gridcolor\": \"white\", \"gridwidth\": 2, \"linecolor\": \"white\", \"showbackground\": true, \"ticks\": \"\", \"zerolinecolor\": \"white\"}, \"yaxis\": {\"backgroundcolor\": \"#E5ECF6\", \"gridcolor\": \"white\", \"gridwidth\": 2, \"linecolor\": \"white\", \"showbackground\": true, \"ticks\": \"\", \"zerolinecolor\": \"white\"}, \"zaxis\": {\"backgroundcolor\": \"#E5ECF6\", \"gridcolor\": \"white\", \"gridwidth\": 2, \"linecolor\": \"white\", \"showbackground\": true, \"ticks\": \"\", \"zerolinecolor\": \"white\"}}, \"shapedefaults\": {\"line\": {\"color\": \"#2a3f5f\"}}, \"ternary\": {\"aaxis\": {\"gridcolor\": \"white\", \"linecolor\": \"white\", \"ticks\": \"\"}, \"baxis\": {\"gridcolor\": \"white\", \"linecolor\": \"white\", \"ticks\": \"\"}, \"bgcolor\": \"#E5ECF6\", \"caxis\": {\"gridcolor\": \"white\", \"linecolor\": \"white\", \"ticks\": \"\"}}, \"title\": {\"x\": 0.05}, \"xaxis\": {\"automargin\": true, \"gridcolor\": \"white\", \"linecolor\": \"white\", \"ticks\": \"\", \"title\": {\"standoff\": 15}, \"zerolinecolor\": \"white\", \"zerolinewidth\": 2}, \"yaxis\": {\"automargin\": true, \"gridcolor\": \"white\", \"linecolor\": \"white\", \"ticks\": \"\", \"title\": {\"standoff\": 15}, \"zerolinecolor\": \"white\", \"zerolinewidth\": 2}}}, \"title\": {\"text\": \"Ti-based Compounds Bulk Modulus vs. Shear Modulus\"}, \"width\": 1200, \"xaxis\": {\"gridwidth\": 2, \"title\": {\"text\": \"$Shear \\\\: Modulus \\\\: [GPa]$\"}, \"zeroline\": false}, \"yaxis\": {\"gridwidth\": 2, \"title\": {\"text\": \"$Bulk \\\\: Modulus [GPa]$\"}, \"zeroline\": false}},\n",
       "                        {\"responsive\": true}\n",
       "                    ).then(function(){\n",
       "                            \n",
       "var gd = document.getElementById('2621ab66-274f-4402-a597-5d2d9cd3d86c');\n",
       "var x = new MutationObserver(function (mutations, observer) {{\n",
       "        var display = window.getComputedStyle(gd).display;\n",
       "        if (!display || display === 'none') {{\n",
       "            console.log([gd, 'removed!']);\n",
       "            Plotly.purge(gd);\n",
       "            observer.disconnect();\n",
       "        }}\n",
       "}});\n",
       "\n",
       "// Listen for the removal of the full notebook cells\n",
       "var notebookContainer = gd.closest('#notebook-container');\n",
       "if (notebookContainer) {{\n",
       "    x.observe(notebookContainer, {childList: true});\n",
       "}}\n",
       "\n",
       "// Listen for the clearing of the current output cell\n",
       "var outputEl = gd.closest('.output');\n",
       "if (outputEl) {{\n",
       "    x.observe(outputEl, {childList: true});\n",
       "}}\n",
       "\n",
       "                        })\n",
       "                };\n",
       "                });\n",
       "            </script>\n",
       "        </div>"
      ]
     },
     "metadata": {},
     "output_type": "display_data"
    }
   ],
   "source": [
    "import plotly\n",
    "import plotly.graph_objs as go\n",
    "from plotly.offline import iplot\n",
    "layout_IPF_shear_modulus = go.Layout(title= \"Ti-based Compounds Bulk Modulus vs. Shear Modulus\", hovermode= 'closest',\n",
    "                   font = dict(family='Times New Roman',size=18),\n",
    "                   xaxis= dict(title= '$Shear \\: Modulus \\: [GPa]$',zeroline= False, gridwidth= 2),\n",
    "                   yaxis= dict(title= '$Bulk \\: Modulus [GPa]$',zeroline= False, gridwidth= 2),\n",
    "                   height = 600,\n",
    "                   width = 1200,\n",
    "     showlegend= False              \n",
    ")\n",
    "\n",
    "#Scatter plot of collected data. Use df_oxide_all dataframe. df_oxide_all.Density will pull density column. Could change Density or IPF to Molar Volume or simply volume if you wanted.\n",
    "trace_all_shear = go.Scatter(x = abs(df_oxide.G_VRH), y = df_oxide.K_VRH, mode = 'markers', text = df_oxide.Formula,\n",
    "                            marker=dict(size=12, color=(df_oxide['poisson_ratio']),\n",
    "                                colorbar = dict(title={ 'text': \"Poisson Ratio\", \n",
    "                                                     'font': {'family':'Georgia', 'size': 18}} , \n",
    "                                              tickfont={'family':'Georgia', 'size': 16 })))#, name = 'All Queries'))\n",
    "\n",
    "                             \n",
    "data_IPF_shear = [trace_all_shear]\n",
    "fig_IPF_shear = go.Figure(data_IPF_shear, layout=layout_IPF_shear_modulus)\n",
    "iplot(fig_IPF_shear)"
   ]
  },
  {
   "cell_type": "code",
   "execution_count": 80,
   "metadata": {},
   "outputs": [
    {
     "data": {
      "application/vnd.plotly.v1+json": {
       "config": {
        "linkText": "Export to plot.ly",
        "plotlyServerURL": "https://plot.ly",
        "showLink": false
       },
       "data": [
        {
         "marker": {
          "color": [
           0.46,
           0.21,
           0.27,
           0.3,
           0.24,
           0.19,
           0.21,
           0.27,
           0.32,
           0.16,
           0.13,
           0.01,
           0.21,
           0.3,
           0.31,
           0.28,
           0.28,
           0.2,
           0.23,
           0.29,
           0.28,
           0.38,
           0.19,
           0.27,
           0.27,
           0.32,
           0.3,
           0.32,
           0.1,
           0.22,
           0.32,
           0.26,
           0.37,
           0.28,
           0.29,
           0.28,
           0.27,
           0.21,
           0.27,
           0.28,
           0.33,
           0.31,
           0.25,
           0.25,
           0.36,
           0.31,
           0.18,
           0.39,
           0.45,
           0.35,
           0.24,
           0.33,
           0.33,
           0.29,
           0.27,
           0.29,
           0.29,
           0.34,
           0.26,
           0.3,
           0.33,
           0.34,
           0.33,
           0.26,
           0.27,
           0.31,
           0.36,
           0.31,
           0.28,
           0.3,
           0.3,
           0.35,
           0.26,
           0.27,
           0.31,
           0.27
          ],
          "colorbar": {
           "tickfont": {
            "family": "Georgia",
            "size": 16
           },
           "title": {
            "font": {
             "family": "Georgia",
             "size": 18
            },
            "text": "Poisson Ratio"
           }
          },
          "size": 12
         },
         "mode": "markers",
         "text": [
          "WS2",
          "WSe2",
          "Sr3WN3",
          "BW2",
          "Al12W",
          "Be2W",
          "P2W",
          "As3W2",
          "HfW2",
          "Si2W",
          "WSe2",
          "WO3",
          "WC",
          "SrWO4",
          "MnWO4",
          "WO3",
          "Co3W",
          "WS2",
          "Te2W",
          "WCl6",
          "PW",
          "Rb2WBr6",
          "Al5W",
          "IrW",
          "Ir3W",
          "Ni4W",
          "Rh3W",
          "WO3",
          "Be12W",
          "B2W",
          "ZrW2",
          "BW",
          "AlFe2W",
          "Ru3W",
          "TiTc2W",
          "Mn2GaW",
          "TaW3",
          "WS2",
          "Na2WO4",
          "MgWO4",
          "ZnWO4",
          "BaWO4",
          "Mn(BW)2",
          "Co(BW)3",
          "Tl2WCl6",
          "Cs2WCl6",
          "Li6WN4",
          "Cs2WBr6",
          "K3WF6",
          "K2WCl6",
          "Co(BW)2",
          "LiRu2W",
          "ScTc2W",
          "Ta2OsW",
          "Mn2AlW",
          "TiMn2W",
          "HfTc2W",
          "SiTc2W",
          "Nb2RuW",
          "Y6WO12",
          "Li2WO4",
          "CdWO4",
          "FeWO4",
          "CoBW",
          "WSCl4",
          "Rb2WCl6",
          "W2NCl8",
          "BeRu2W",
          "TiRe2W",
          "Ta2TcW",
          "Ti2IrW",
          "LaWN3",
          "Sr2MgWO6",
          "ZrTc2W",
          "Sr2MgWO6",
          "Ba2NiWO6"
         ],
         "type": "scatter",
         "x": [
          4.475734301828639,
          5.899583046510899,
          5.462967484451806,
          16.759719143418597,
          3.8578125920980217,
          10.61119770894338,
          9.119852404115473,
          11.060425705379506,
          16.35379926381758,
          9.6897801198612,
          7.857112292094283,
          6.736530704630063,
          15.350369049615528,
          6.025777640367976,
          6.873201232546636,
          6.656532446046254,
          12.924119014628044,
          6.576662629224075,
          8.52337626142813,
          2.8871453581302764,
          12.101822263901672,
          4.402747880282043,
          5.700302231165966,
          20.51773602835673,
          21.330343318581765,
          11.890071744875302,
          14.09088558699496,
          6.652246333149564,
          4.44490512930156,
          12.273198211557318,
          13.520587967518765,
          15.33150244232636,
          10.595547042879602,
          13.996375532327349,
          11.693560622969297,
          11.64361163073422,
          18.29084523624195,
          6.557005454576976,
          4.882345568913017,
          6.570296868323321,
          7.443635300744208,
          6.023402681770163,
          13.758273458431207,
          14.622451906693493,
          5.236190379929374,
          3.698710211093106,
          4.197507863121574,
          4.465235393671986,
          3.501656520937873,
          3.1341795205605334,
          14.323754745444651,
          11.758406891033074,
          11.070671426475803,
          18.394782943153743,
          10.371408832123679,
          10.694686868620503,
          14.257435600687037,
          11.820854429189382,
          11.748825266136695,
          5.691973535616989,
          5.6259917430087265,
          7.530508481518047,
          7.090244770279603,
          13.555392664326869,
          2.8034848881114973,
          3.491749670129747,
          3.5177319970060004,
          12.192531634462222,
          16.2597984805017,
          16.036825639827363,
          12.73920881877668,
          9.211968838178699,
          6.1671974111669625,
          11.857923133807889,
          6.1512269436116895,
          7.36889259174993
         ],
         "y": [
          5.84,
          31.46,
          76.2,
          395.2,
          141.35999999999999,
          404.59999999999997,
          319.44,
          187.96,
          248.16000000000003,
          438.47999999999996,
          45.199999999999996,
          173.72,
          675.18,
          75.4,
          144.1,
          258.56,
          363.52,
          48,
          31.98,
          0,
          299.52,
          11.04,
          233.23999999999998,
          464.82,
          490.22,
          258.72,
          343.2,
          216.48000000000002,
          347.6,
          546.56,
          229.68,
          493.92,
          175.36,
          414.72,
          330.24,
          291.84000000000003,
          353.06,
          48.4,
          71.12,
          179.20000000000002,
          143.64000000000001,
          62.88,
          467.5,
          507.5,
          13.599999999999998,
          10.48,
          160.48,
          8.34,
          8.7,
          10.8,
          515.84,
          226.10000000000002,
          223.44,
          343.14,
          322.58,
          309.6,
          307.02,
          259.96000000000004,
          284.76,
          169,
          69.16,
          109.88000000000001,
          143.64000000000001,
          486.36,
          2.54,
          10.48,
          2.7199999999999998,
          311.78000000000003,
          373.76,
          309.40000000000003,
          234,
          153.9,
          181.44,
          276.86,
          199.12,
          165.1
         ]
        }
       ],
       "layout": {
        "font": {
         "family": "Times New Roman",
         "size": 36
        },
        "height": 800,
        "hovermode": "closest",
        "showlegend": false,
        "template": {
         "data": {
          "bar": [
           {
            "error_x": {
             "color": "#2a3f5f"
            },
            "error_y": {
             "color": "#2a3f5f"
            },
            "marker": {
             "line": {
              "color": "#E5ECF6",
              "width": 0.5
             }
            },
            "type": "bar"
           }
          ],
          "barpolar": [
           {
            "marker": {
             "line": {
              "color": "#E5ECF6",
              "width": 0.5
             }
            },
            "type": "barpolar"
           }
          ],
          "carpet": [
           {
            "aaxis": {
             "endlinecolor": "#2a3f5f",
             "gridcolor": "white",
             "linecolor": "white",
             "minorgridcolor": "white",
             "startlinecolor": "#2a3f5f"
            },
            "baxis": {
             "endlinecolor": "#2a3f5f",
             "gridcolor": "white",
             "linecolor": "white",
             "minorgridcolor": "white",
             "startlinecolor": "#2a3f5f"
            },
            "type": "carpet"
           }
          ],
          "choropleth": [
           {
            "colorbar": {
             "outlinewidth": 0,
             "ticks": ""
            },
            "type": "choropleth"
           }
          ],
          "contour": [
           {
            "colorbar": {
             "outlinewidth": 0,
             "ticks": ""
            },
            "colorscale": [
             [
              0,
              "#0d0887"
             ],
             [
              0.1111111111111111,
              "#46039f"
             ],
             [
              0.2222222222222222,
              "#7201a8"
             ],
             [
              0.3333333333333333,
              "#9c179e"
             ],
             [
              0.4444444444444444,
              "#bd3786"
             ],
             [
              0.5555555555555556,
              "#d8576b"
             ],
             [
              0.6666666666666666,
              "#ed7953"
             ],
             [
              0.7777777777777778,
              "#fb9f3a"
             ],
             [
              0.8888888888888888,
              "#fdca26"
             ],
             [
              1,
              "#f0f921"
             ]
            ],
            "type": "contour"
           }
          ],
          "contourcarpet": [
           {
            "colorbar": {
             "outlinewidth": 0,
             "ticks": ""
            },
            "type": "contourcarpet"
           }
          ],
          "heatmap": [
           {
            "colorbar": {
             "outlinewidth": 0,
             "ticks": ""
            },
            "colorscale": [
             [
              0,
              "#0d0887"
             ],
             [
              0.1111111111111111,
              "#46039f"
             ],
             [
              0.2222222222222222,
              "#7201a8"
             ],
             [
              0.3333333333333333,
              "#9c179e"
             ],
             [
              0.4444444444444444,
              "#bd3786"
             ],
             [
              0.5555555555555556,
              "#d8576b"
             ],
             [
              0.6666666666666666,
              "#ed7953"
             ],
             [
              0.7777777777777778,
              "#fb9f3a"
             ],
             [
              0.8888888888888888,
              "#fdca26"
             ],
             [
              1,
              "#f0f921"
             ]
            ],
            "type": "heatmap"
           }
          ],
          "heatmapgl": [
           {
            "colorbar": {
             "outlinewidth": 0,
             "ticks": ""
            },
            "colorscale": [
             [
              0,
              "#0d0887"
             ],
             [
              0.1111111111111111,
              "#46039f"
             ],
             [
              0.2222222222222222,
              "#7201a8"
             ],
             [
              0.3333333333333333,
              "#9c179e"
             ],
             [
              0.4444444444444444,
              "#bd3786"
             ],
             [
              0.5555555555555556,
              "#d8576b"
             ],
             [
              0.6666666666666666,
              "#ed7953"
             ],
             [
              0.7777777777777778,
              "#fb9f3a"
             ],
             [
              0.8888888888888888,
              "#fdca26"
             ],
             [
              1,
              "#f0f921"
             ]
            ],
            "type": "heatmapgl"
           }
          ],
          "histogram": [
           {
            "marker": {
             "colorbar": {
              "outlinewidth": 0,
              "ticks": ""
             }
            },
            "type": "histogram"
           }
          ],
          "histogram2d": [
           {
            "colorbar": {
             "outlinewidth": 0,
             "ticks": ""
            },
            "colorscale": [
             [
              0,
              "#0d0887"
             ],
             [
              0.1111111111111111,
              "#46039f"
             ],
             [
              0.2222222222222222,
              "#7201a8"
             ],
             [
              0.3333333333333333,
              "#9c179e"
             ],
             [
              0.4444444444444444,
              "#bd3786"
             ],
             [
              0.5555555555555556,
              "#d8576b"
             ],
             [
              0.6666666666666666,
              "#ed7953"
             ],
             [
              0.7777777777777778,
              "#fb9f3a"
             ],
             [
              0.8888888888888888,
              "#fdca26"
             ],
             [
              1,
              "#f0f921"
             ]
            ],
            "type": "histogram2d"
           }
          ],
          "histogram2dcontour": [
           {
            "colorbar": {
             "outlinewidth": 0,
             "ticks": ""
            },
            "colorscale": [
             [
              0,
              "#0d0887"
             ],
             [
              0.1111111111111111,
              "#46039f"
             ],
             [
              0.2222222222222222,
              "#7201a8"
             ],
             [
              0.3333333333333333,
              "#9c179e"
             ],
             [
              0.4444444444444444,
              "#bd3786"
             ],
             [
              0.5555555555555556,
              "#d8576b"
             ],
             [
              0.6666666666666666,
              "#ed7953"
             ],
             [
              0.7777777777777778,
              "#fb9f3a"
             ],
             [
              0.8888888888888888,
              "#fdca26"
             ],
             [
              1,
              "#f0f921"
             ]
            ],
            "type": "histogram2dcontour"
           }
          ],
          "mesh3d": [
           {
            "colorbar": {
             "outlinewidth": 0,
             "ticks": ""
            },
            "type": "mesh3d"
           }
          ],
          "parcoords": [
           {
            "line": {
             "colorbar": {
              "outlinewidth": 0,
              "ticks": ""
             }
            },
            "type": "parcoords"
           }
          ],
          "pie": [
           {
            "automargin": true,
            "type": "pie"
           }
          ],
          "scatter": [
           {
            "marker": {
             "colorbar": {
              "outlinewidth": 0,
              "ticks": ""
             }
            },
            "type": "scatter"
           }
          ],
          "scatter3d": [
           {
            "line": {
             "colorbar": {
              "outlinewidth": 0,
              "ticks": ""
             }
            },
            "marker": {
             "colorbar": {
              "outlinewidth": 0,
              "ticks": ""
             }
            },
            "type": "scatter3d"
           }
          ],
          "scattercarpet": [
           {
            "marker": {
             "colorbar": {
              "outlinewidth": 0,
              "ticks": ""
             }
            },
            "type": "scattercarpet"
           }
          ],
          "scattergeo": [
           {
            "marker": {
             "colorbar": {
              "outlinewidth": 0,
              "ticks": ""
             }
            },
            "type": "scattergeo"
           }
          ],
          "scattergl": [
           {
            "marker": {
             "colorbar": {
              "outlinewidth": 0,
              "ticks": ""
             }
            },
            "type": "scattergl"
           }
          ],
          "scattermapbox": [
           {
            "marker": {
             "colorbar": {
              "outlinewidth": 0,
              "ticks": ""
             }
            },
            "type": "scattermapbox"
           }
          ],
          "scatterpolar": [
           {
            "marker": {
             "colorbar": {
              "outlinewidth": 0,
              "ticks": ""
             }
            },
            "type": "scatterpolar"
           }
          ],
          "scatterpolargl": [
           {
            "marker": {
             "colorbar": {
              "outlinewidth": 0,
              "ticks": ""
             }
            },
            "type": "scatterpolargl"
           }
          ],
          "scatterternary": [
           {
            "marker": {
             "colorbar": {
              "outlinewidth": 0,
              "ticks": ""
             }
            },
            "type": "scatterternary"
           }
          ],
          "surface": [
           {
            "colorbar": {
             "outlinewidth": 0,
             "ticks": ""
            },
            "colorscale": [
             [
              0,
              "#0d0887"
             ],
             [
              0.1111111111111111,
              "#46039f"
             ],
             [
              0.2222222222222222,
              "#7201a8"
             ],
             [
              0.3333333333333333,
              "#9c179e"
             ],
             [
              0.4444444444444444,
              "#bd3786"
             ],
             [
              0.5555555555555556,
              "#d8576b"
             ],
             [
              0.6666666666666666,
              "#ed7953"
             ],
             [
              0.7777777777777778,
              "#fb9f3a"
             ],
             [
              0.8888888888888888,
              "#fdca26"
             ],
             [
              1,
              "#f0f921"
             ]
            ],
            "type": "surface"
           }
          ],
          "table": [
           {
            "cells": {
             "fill": {
              "color": "#EBF0F8"
             },
             "line": {
              "color": "white"
             }
            },
            "header": {
             "fill": {
              "color": "#C8D4E3"
             },
             "line": {
              "color": "white"
             }
            },
            "type": "table"
           }
          ]
         },
         "layout": {
          "annotationdefaults": {
           "arrowcolor": "#2a3f5f",
           "arrowhead": 0,
           "arrowwidth": 1
          },
          "coloraxis": {
           "colorbar": {
            "outlinewidth": 0,
            "ticks": ""
           }
          },
          "colorscale": {
           "diverging": [
            [
             0,
             "#8e0152"
            ],
            [
             0.1,
             "#c51b7d"
            ],
            [
             0.2,
             "#de77ae"
            ],
            [
             0.3,
             "#f1b6da"
            ],
            [
             0.4,
             "#fde0ef"
            ],
            [
             0.5,
             "#f7f7f7"
            ],
            [
             0.6,
             "#e6f5d0"
            ],
            [
             0.7,
             "#b8e186"
            ],
            [
             0.8,
             "#7fbc41"
            ],
            [
             0.9,
             "#4d9221"
            ],
            [
             1,
             "#276419"
            ]
           ],
           "sequential": [
            [
             0,
             "#0d0887"
            ],
            [
             0.1111111111111111,
             "#46039f"
            ],
            [
             0.2222222222222222,
             "#7201a8"
            ],
            [
             0.3333333333333333,
             "#9c179e"
            ],
            [
             0.4444444444444444,
             "#bd3786"
            ],
            [
             0.5555555555555556,
             "#d8576b"
            ],
            [
             0.6666666666666666,
             "#ed7953"
            ],
            [
             0.7777777777777778,
             "#fb9f3a"
            ],
            [
             0.8888888888888888,
             "#fdca26"
            ],
            [
             1,
             "#f0f921"
            ]
           ],
           "sequentialminus": [
            [
             0,
             "#0d0887"
            ],
            [
             0.1111111111111111,
             "#46039f"
            ],
            [
             0.2222222222222222,
             "#7201a8"
            ],
            [
             0.3333333333333333,
             "#9c179e"
            ],
            [
             0.4444444444444444,
             "#bd3786"
            ],
            [
             0.5555555555555556,
             "#d8576b"
            ],
            [
             0.6666666666666666,
             "#ed7953"
            ],
            [
             0.7777777777777778,
             "#fb9f3a"
            ],
            [
             0.8888888888888888,
             "#fdca26"
            ],
            [
             1,
             "#f0f921"
            ]
           ]
          },
          "colorway": [
           "#636efa",
           "#EF553B",
           "#00cc96",
           "#ab63fa",
           "#FFA15A",
           "#19d3f3",
           "#FF6692",
           "#B6E880",
           "#FF97FF",
           "#FECB52"
          ],
          "font": {
           "color": "#2a3f5f"
          },
          "geo": {
           "bgcolor": "white",
           "lakecolor": "white",
           "landcolor": "#E5ECF6",
           "showlakes": true,
           "showland": true,
           "subunitcolor": "white"
          },
          "hoverlabel": {
           "align": "left"
          },
          "hovermode": "closest",
          "mapbox": {
           "style": "light"
          },
          "paper_bgcolor": "white",
          "plot_bgcolor": "#E5ECF6",
          "polar": {
           "angularaxis": {
            "gridcolor": "white",
            "linecolor": "white",
            "ticks": ""
           },
           "bgcolor": "#E5ECF6",
           "radialaxis": {
            "gridcolor": "white",
            "linecolor": "white",
            "ticks": ""
           }
          },
          "scene": {
           "xaxis": {
            "backgroundcolor": "#E5ECF6",
            "gridcolor": "white",
            "gridwidth": 2,
            "linecolor": "white",
            "showbackground": true,
            "ticks": "",
            "zerolinecolor": "white"
           },
           "yaxis": {
            "backgroundcolor": "#E5ECF6",
            "gridcolor": "white",
            "gridwidth": 2,
            "linecolor": "white",
            "showbackground": true,
            "ticks": "",
            "zerolinecolor": "white"
           },
           "zaxis": {
            "backgroundcolor": "#E5ECF6",
            "gridcolor": "white",
            "gridwidth": 2,
            "linecolor": "white",
            "showbackground": true,
            "ticks": "",
            "zerolinecolor": "white"
           }
          },
          "shapedefaults": {
           "line": {
            "color": "#2a3f5f"
           }
          },
          "ternary": {
           "aaxis": {
            "gridcolor": "white",
            "linecolor": "white",
            "ticks": ""
           },
           "baxis": {
            "gridcolor": "white",
            "linecolor": "white",
            "ticks": ""
           },
           "bgcolor": "#E5ECF6",
           "caxis": {
            "gridcolor": "white",
            "linecolor": "white",
            "ticks": ""
           }
          },
          "title": {
           "x": 0.05
          },
          "xaxis": {
           "automargin": true,
           "gridcolor": "white",
           "linecolor": "white",
           "ticks": "",
           "title": {
            "standoff": 15
           },
           "zerolinecolor": "white",
           "zerolinewidth": 2
          },
          "yaxis": {
           "automargin": true,
           "gridcolor": "white",
           "linecolor": "white",
           "ticks": "",
           "title": {
            "standoff": 15
           },
           "zerolinecolor": "white",
           "zerolinewidth": 2
          }
         }
        },
        "title": {
         "text": "W compounds"
        },
        "width": 800,
        "xaxis": {
         "gridwidth": 2,
         "title": {
          "text": "Density [g/cm<sup>-3</sup>]"
         },
         "zeroline": false
        },
        "yaxis": {
         "gridwidth": 2,
         "range": [
          0,
          700
         ],
         "title": {
          "text": "Young's Modulus [GPa]"
         },
         "zeroline": false
        }
       }
      },
      "text/html": [
       "<div>\n",
       "        \n",
       "        \n",
       "            <div id=\"443a9c86-83ba-4b7a-bad0-d197089abe7b\" class=\"plotly-graph-div\" style=\"height:800px; width:800px;\"></div>\n",
       "            <script type=\"text/javascript\">\n",
       "                require([\"plotly\"], function(Plotly) {\n",
       "                    window.PLOTLYENV=window.PLOTLYENV || {};\n",
       "                    \n",
       "                if (document.getElementById(\"443a9c86-83ba-4b7a-bad0-d197089abe7b\")) {\n",
       "                    Plotly.newPlot(\n",
       "                        '443a9c86-83ba-4b7a-bad0-d197089abe7b',\n",
       "                        [{\"marker\": {\"color\": [0.46, 0.21, 0.27, 0.3, 0.24, 0.19, 0.21, 0.27, 0.32, 0.16, 0.13, 0.01, 0.21, 0.3, 0.31, 0.28, 0.28, 0.2, 0.23, 0.29, 0.28, 0.38, 0.19, 0.27, 0.27, 0.32, 0.3, 0.32, 0.1, 0.22, 0.32, 0.26, 0.37, 0.28, 0.29, 0.28, 0.27, 0.21, 0.27, 0.28, 0.33, 0.31, 0.25, 0.25, 0.36, 0.31, 0.18, 0.39, 0.45, 0.35, 0.24, 0.33, 0.33, 0.29, 0.27, 0.29, 0.29, 0.34, 0.26, 0.3, 0.33, 0.34, 0.33, 0.26, 0.27, 0.31, 0.36, 0.31, 0.28, 0.3, 0.3, 0.35, 0.26, 0.27, 0.31, 0.27], \"colorbar\": {\"tickfont\": {\"family\": \"Georgia\", \"size\": 16}, \"title\": {\"font\": {\"family\": \"Georgia\", \"size\": 18}, \"text\": \"Poisson Ratio\"}}, \"size\": 12}, \"mode\": \"markers\", \"text\": [\"WS2\", \"WSe2\", \"Sr3WN3\", \"BW2\", \"Al12W\", \"Be2W\", \"P2W\", \"As3W2\", \"HfW2\", \"Si2W\", \"WSe2\", \"WO3\", \"WC\", \"SrWO4\", \"MnWO4\", \"WO3\", \"Co3W\", \"WS2\", \"Te2W\", \"WCl6\", \"PW\", \"Rb2WBr6\", \"Al5W\", \"IrW\", \"Ir3W\", \"Ni4W\", \"Rh3W\", \"WO3\", \"Be12W\", \"B2W\", \"ZrW2\", \"BW\", \"AlFe2W\", \"Ru3W\", \"TiTc2W\", \"Mn2GaW\", \"TaW3\", \"WS2\", \"Na2WO4\", \"MgWO4\", \"ZnWO4\", \"BaWO4\", \"Mn(BW)2\", \"Co(BW)3\", \"Tl2WCl6\", \"Cs2WCl6\", \"Li6WN4\", \"Cs2WBr6\", \"K3WF6\", \"K2WCl6\", \"Co(BW)2\", \"LiRu2W\", \"ScTc2W\", \"Ta2OsW\", \"Mn2AlW\", \"TiMn2W\", \"HfTc2W\", \"SiTc2W\", \"Nb2RuW\", \"Y6WO12\", \"Li2WO4\", \"CdWO4\", \"FeWO4\", \"CoBW\", \"WSCl4\", \"Rb2WCl6\", \"W2NCl8\", \"BeRu2W\", \"TiRe2W\", \"Ta2TcW\", \"Ti2IrW\", \"LaWN3\", \"Sr2MgWO6\", \"ZrTc2W\", \"Sr2MgWO6\", \"Ba2NiWO6\"], \"type\": \"scatter\", \"x\": [4.475734301828639, 5.899583046510899, 5.462967484451806, 16.759719143418597, 3.8578125920980217, 10.61119770894338, 9.119852404115473, 11.060425705379506, 16.35379926381758, 9.6897801198612, 7.857112292094283, 6.736530704630063, 15.350369049615528, 6.025777640367976, 6.873201232546636, 6.656532446046254, 12.924119014628044, 6.576662629224075, 8.52337626142813, 2.8871453581302764, 12.101822263901672, 4.402747880282043, 5.700302231165966, 20.51773602835673, 21.330343318581765, 11.890071744875302, 14.09088558699496, 6.652246333149564, 4.44490512930156, 12.273198211557318, 13.520587967518765, 15.33150244232636, 10.595547042879602, 13.996375532327349, 11.693560622969297, 11.64361163073422, 18.29084523624195, 6.557005454576976, 4.882345568913017, 6.570296868323321, 7.443635300744208, 6.023402681770163, 13.758273458431207, 14.622451906693493, 5.236190379929374, 3.698710211093106, 4.197507863121574, 4.465235393671986, 3.501656520937873, 3.1341795205605334, 14.323754745444651, 11.758406891033074, 11.070671426475803, 18.394782943153743, 10.371408832123679, 10.694686868620503, 14.257435600687037, 11.820854429189382, 11.748825266136695, 5.691973535616989, 5.6259917430087265, 7.530508481518047, 7.090244770279603, 13.555392664326869, 2.8034848881114973, 3.491749670129747, 3.5177319970060004, 12.192531634462222, 16.2597984805017, 16.036825639827363, 12.73920881877668, 9.211968838178699, 6.1671974111669625, 11.857923133807889, 6.1512269436116895, 7.36889259174993], \"y\": [5.84, 31.46, 76.2, 395.2, 141.35999999999999, 404.59999999999997, 319.44, 187.96, 248.16000000000003, 438.47999999999996, 45.199999999999996, 173.72, 675.18, 75.4, 144.1, 258.56, 363.52, 48.0, 31.98, 0.0, 299.52, 11.04, 233.23999999999998, 464.82, 490.22, 258.72, 343.2, 216.48000000000002, 347.6, 546.56, 229.68, 493.92, 175.36, 414.72, 330.24, 291.84000000000003, 353.06, 48.4, 71.12, 179.20000000000002, 143.64000000000001, 62.88, 467.5, 507.5, 13.599999999999998, 10.48, 160.48, 8.34, 8.7, 10.8, 515.84, 226.10000000000002, 223.44, 343.14, 322.58, 309.6, 307.02, 259.96000000000004, 284.76, 169.0, 69.16, 109.88000000000001, 143.64000000000001, 486.36, 2.54, 10.48, 2.7199999999999998, 311.78000000000003, 373.76, 309.40000000000003, 234.0, 153.9, 181.44, 276.86, 199.12, 165.1]}],\n",
       "                        {\"font\": {\"family\": \"Times New Roman\", \"size\": 36}, \"height\": 800, \"hovermode\": \"closest\", \"showlegend\": false, \"template\": {\"data\": {\"bar\": [{\"error_x\": {\"color\": \"#2a3f5f\"}, \"error_y\": {\"color\": \"#2a3f5f\"}, \"marker\": {\"line\": {\"color\": \"#E5ECF6\", \"width\": 0.5}}, \"type\": \"bar\"}], \"barpolar\": [{\"marker\": {\"line\": {\"color\": \"#E5ECF6\", \"width\": 0.5}}, \"type\": \"barpolar\"}], \"carpet\": [{\"aaxis\": {\"endlinecolor\": \"#2a3f5f\", \"gridcolor\": \"white\", \"linecolor\": \"white\", \"minorgridcolor\": \"white\", \"startlinecolor\": \"#2a3f5f\"}, \"baxis\": {\"endlinecolor\": \"#2a3f5f\", \"gridcolor\": \"white\", \"linecolor\": \"white\", \"minorgridcolor\": \"white\", \"startlinecolor\": \"#2a3f5f\"}, \"type\": \"carpet\"}], \"choropleth\": [{\"colorbar\": {\"outlinewidth\": 0, \"ticks\": \"\"}, \"type\": \"choropleth\"}], \"contour\": [{\"colorbar\": {\"outlinewidth\": 0, \"ticks\": \"\"}, \"colorscale\": [[0.0, \"#0d0887\"], [0.1111111111111111, \"#46039f\"], [0.2222222222222222, \"#7201a8\"], [0.3333333333333333, \"#9c179e\"], [0.4444444444444444, \"#bd3786\"], [0.5555555555555556, \"#d8576b\"], [0.6666666666666666, \"#ed7953\"], [0.7777777777777778, \"#fb9f3a\"], [0.8888888888888888, \"#fdca26\"], [1.0, \"#f0f921\"]], \"type\": \"contour\"}], \"contourcarpet\": [{\"colorbar\": {\"outlinewidth\": 0, \"ticks\": \"\"}, \"type\": \"contourcarpet\"}], \"heatmap\": [{\"colorbar\": {\"outlinewidth\": 0, \"ticks\": \"\"}, \"colorscale\": [[0.0, \"#0d0887\"], [0.1111111111111111, \"#46039f\"], [0.2222222222222222, \"#7201a8\"], [0.3333333333333333, \"#9c179e\"], [0.4444444444444444, \"#bd3786\"], [0.5555555555555556, \"#d8576b\"], [0.6666666666666666, \"#ed7953\"], [0.7777777777777778, \"#fb9f3a\"], [0.8888888888888888, \"#fdca26\"], [1.0, \"#f0f921\"]], \"type\": \"heatmap\"}], \"heatmapgl\": [{\"colorbar\": {\"outlinewidth\": 0, \"ticks\": \"\"}, \"colorscale\": [[0.0, \"#0d0887\"], [0.1111111111111111, \"#46039f\"], [0.2222222222222222, \"#7201a8\"], [0.3333333333333333, \"#9c179e\"], [0.4444444444444444, \"#bd3786\"], [0.5555555555555556, \"#d8576b\"], [0.6666666666666666, \"#ed7953\"], [0.7777777777777778, \"#fb9f3a\"], [0.8888888888888888, \"#fdca26\"], [1.0, \"#f0f921\"]], \"type\": \"heatmapgl\"}], \"histogram\": [{\"marker\": {\"colorbar\": {\"outlinewidth\": 0, \"ticks\": \"\"}}, \"type\": \"histogram\"}], \"histogram2d\": [{\"colorbar\": {\"outlinewidth\": 0, \"ticks\": \"\"}, \"colorscale\": [[0.0, \"#0d0887\"], [0.1111111111111111, \"#46039f\"], [0.2222222222222222, \"#7201a8\"], [0.3333333333333333, \"#9c179e\"], [0.4444444444444444, \"#bd3786\"], [0.5555555555555556, \"#d8576b\"], [0.6666666666666666, \"#ed7953\"], [0.7777777777777778, \"#fb9f3a\"], [0.8888888888888888, \"#fdca26\"], [1.0, \"#f0f921\"]], \"type\": \"histogram2d\"}], \"histogram2dcontour\": [{\"colorbar\": {\"outlinewidth\": 0, \"ticks\": \"\"}, \"colorscale\": [[0.0, \"#0d0887\"], [0.1111111111111111, \"#46039f\"], [0.2222222222222222, \"#7201a8\"], [0.3333333333333333, \"#9c179e\"], [0.4444444444444444, \"#bd3786\"], [0.5555555555555556, \"#d8576b\"], [0.6666666666666666, \"#ed7953\"], [0.7777777777777778, \"#fb9f3a\"], [0.8888888888888888, \"#fdca26\"], [1.0, \"#f0f921\"]], \"type\": \"histogram2dcontour\"}], \"mesh3d\": [{\"colorbar\": {\"outlinewidth\": 0, \"ticks\": \"\"}, \"type\": \"mesh3d\"}], \"parcoords\": [{\"line\": {\"colorbar\": {\"outlinewidth\": 0, \"ticks\": \"\"}}, \"type\": \"parcoords\"}], \"pie\": [{\"automargin\": true, \"type\": \"pie\"}], \"scatter\": [{\"marker\": {\"colorbar\": {\"outlinewidth\": 0, \"ticks\": \"\"}}, \"type\": \"scatter\"}], \"scatter3d\": [{\"line\": {\"colorbar\": {\"outlinewidth\": 0, \"ticks\": \"\"}}, \"marker\": {\"colorbar\": {\"outlinewidth\": 0, \"ticks\": \"\"}}, \"type\": \"scatter3d\"}], \"scattercarpet\": [{\"marker\": {\"colorbar\": {\"outlinewidth\": 0, \"ticks\": \"\"}}, \"type\": \"scattercarpet\"}], \"scattergeo\": [{\"marker\": {\"colorbar\": {\"outlinewidth\": 0, \"ticks\": \"\"}}, \"type\": \"scattergeo\"}], \"scattergl\": [{\"marker\": {\"colorbar\": {\"outlinewidth\": 0, \"ticks\": \"\"}}, \"type\": \"scattergl\"}], \"scattermapbox\": [{\"marker\": {\"colorbar\": {\"outlinewidth\": 0, \"ticks\": \"\"}}, \"type\": \"scattermapbox\"}], \"scatterpolar\": [{\"marker\": {\"colorbar\": {\"outlinewidth\": 0, \"ticks\": \"\"}}, \"type\": \"scatterpolar\"}], \"scatterpolargl\": [{\"marker\": {\"colorbar\": {\"outlinewidth\": 0, \"ticks\": \"\"}}, \"type\": \"scatterpolargl\"}], \"scatterternary\": [{\"marker\": {\"colorbar\": {\"outlinewidth\": 0, \"ticks\": \"\"}}, \"type\": \"scatterternary\"}], \"surface\": [{\"colorbar\": {\"outlinewidth\": 0, \"ticks\": \"\"}, \"colorscale\": [[0.0, \"#0d0887\"], [0.1111111111111111, \"#46039f\"], [0.2222222222222222, \"#7201a8\"], [0.3333333333333333, \"#9c179e\"], [0.4444444444444444, \"#bd3786\"], [0.5555555555555556, \"#d8576b\"], [0.6666666666666666, \"#ed7953\"], [0.7777777777777778, \"#fb9f3a\"], [0.8888888888888888, \"#fdca26\"], [1.0, \"#f0f921\"]], \"type\": \"surface\"}], \"table\": [{\"cells\": {\"fill\": {\"color\": \"#EBF0F8\"}, \"line\": {\"color\": \"white\"}}, \"header\": {\"fill\": {\"color\": \"#C8D4E3\"}, \"line\": {\"color\": \"white\"}}, \"type\": \"table\"}]}, \"layout\": {\"annotationdefaults\": {\"arrowcolor\": \"#2a3f5f\", \"arrowhead\": 0, \"arrowwidth\": 1}, \"coloraxis\": {\"colorbar\": {\"outlinewidth\": 0, \"ticks\": \"\"}}, \"colorscale\": {\"diverging\": [[0, \"#8e0152\"], [0.1, \"#c51b7d\"], [0.2, \"#de77ae\"], [0.3, \"#f1b6da\"], [0.4, \"#fde0ef\"], [0.5, \"#f7f7f7\"], [0.6, \"#e6f5d0\"], [0.7, \"#b8e186\"], [0.8, \"#7fbc41\"], [0.9, \"#4d9221\"], [1, \"#276419\"]], \"sequential\": [[0.0, \"#0d0887\"], [0.1111111111111111, \"#46039f\"], [0.2222222222222222, \"#7201a8\"], [0.3333333333333333, \"#9c179e\"], [0.4444444444444444, \"#bd3786\"], [0.5555555555555556, \"#d8576b\"], [0.6666666666666666, \"#ed7953\"], [0.7777777777777778, \"#fb9f3a\"], [0.8888888888888888, \"#fdca26\"], [1.0, \"#f0f921\"]], \"sequentialminus\": [[0.0, \"#0d0887\"], [0.1111111111111111, \"#46039f\"], [0.2222222222222222, \"#7201a8\"], [0.3333333333333333, \"#9c179e\"], [0.4444444444444444, \"#bd3786\"], [0.5555555555555556, \"#d8576b\"], [0.6666666666666666, \"#ed7953\"], [0.7777777777777778, \"#fb9f3a\"], [0.8888888888888888, \"#fdca26\"], [1.0, \"#f0f921\"]]}, \"colorway\": [\"#636efa\", \"#EF553B\", \"#00cc96\", \"#ab63fa\", \"#FFA15A\", \"#19d3f3\", \"#FF6692\", \"#B6E880\", \"#FF97FF\", \"#FECB52\"], \"font\": {\"color\": \"#2a3f5f\"}, \"geo\": {\"bgcolor\": \"white\", \"lakecolor\": \"white\", \"landcolor\": \"#E5ECF6\", \"showlakes\": true, \"showland\": true, \"subunitcolor\": \"white\"}, \"hoverlabel\": {\"align\": \"left\"}, \"hovermode\": \"closest\", \"mapbox\": {\"style\": \"light\"}, \"paper_bgcolor\": \"white\", \"plot_bgcolor\": \"#E5ECF6\", \"polar\": {\"angularaxis\": {\"gridcolor\": \"white\", \"linecolor\": \"white\", \"ticks\": \"\"}, \"bgcolor\": \"#E5ECF6\", \"radialaxis\": {\"gridcolor\": \"white\", \"linecolor\": \"white\", \"ticks\": \"\"}}, \"scene\": {\"xaxis\": {\"backgroundcolor\": \"#E5ECF6\", \"gridcolor\": \"white\", \"gridwidth\": 2, \"linecolor\": \"white\", \"showbackground\": true, \"ticks\": \"\", \"zerolinecolor\": \"white\"}, \"yaxis\": {\"backgroundcolor\": \"#E5ECF6\", \"gridcolor\": \"white\", \"gridwidth\": 2, \"linecolor\": \"white\", \"showbackground\": true, \"ticks\": \"\", \"zerolinecolor\": \"white\"}, \"zaxis\": {\"backgroundcolor\": \"#E5ECF6\", \"gridcolor\": \"white\", \"gridwidth\": 2, \"linecolor\": \"white\", \"showbackground\": true, \"ticks\": \"\", \"zerolinecolor\": \"white\"}}, \"shapedefaults\": {\"line\": {\"color\": \"#2a3f5f\"}}, \"ternary\": {\"aaxis\": {\"gridcolor\": \"white\", \"linecolor\": \"white\", \"ticks\": \"\"}, \"baxis\": {\"gridcolor\": \"white\", \"linecolor\": \"white\", \"ticks\": \"\"}, \"bgcolor\": \"#E5ECF6\", \"caxis\": {\"gridcolor\": \"white\", \"linecolor\": \"white\", \"ticks\": \"\"}}, \"title\": {\"x\": 0.05}, \"xaxis\": {\"automargin\": true, \"gridcolor\": \"white\", \"linecolor\": \"white\", \"ticks\": \"\", \"title\": {\"standoff\": 15}, \"zerolinecolor\": \"white\", \"zerolinewidth\": 2}, \"yaxis\": {\"automargin\": true, \"gridcolor\": \"white\", \"linecolor\": \"white\", \"ticks\": \"\", \"title\": {\"standoff\": 15}, \"zerolinecolor\": \"white\", \"zerolinewidth\": 2}}}, \"title\": {\"text\": \"W compounds\"}, \"width\": 800, \"xaxis\": {\"gridwidth\": 2, \"title\": {\"text\": \"Density [g/cm<sup>-3</sup>]\"}, \"zeroline\": false}, \"yaxis\": {\"gridwidth\": 2, \"range\": [0, 700], \"title\": {\"text\": \"Young's Modulus [GPa]\"}, \"zeroline\": false}},\n",
       "                        {\"responsive\": true}\n",
       "                    ).then(function(){\n",
       "                            \n",
       "var gd = document.getElementById('443a9c86-83ba-4b7a-bad0-d197089abe7b');\n",
       "var x = new MutationObserver(function (mutations, observer) {{\n",
       "        var display = window.getComputedStyle(gd).display;\n",
       "        if (!display || display === 'none') {{\n",
       "            console.log([gd, 'removed!']);\n",
       "            Plotly.purge(gd);\n",
       "            observer.disconnect();\n",
       "        }}\n",
       "}});\n",
       "\n",
       "// Listen for the removal of the full notebook cells\n",
       "var notebookContainer = gd.closest('#notebook-container');\n",
       "if (notebookContainer) {{\n",
       "    x.observe(notebookContainer, {childList: true});\n",
       "}}\n",
       "\n",
       "// Listen for the clearing of the current output cell\n",
       "var outputEl = gd.closest('.output');\n",
       "if (outputEl) {{\n",
       "    x.observe(outputEl, {childList: true});\n",
       "}}\n",
       "\n",
       "                        })\n",
       "                };\n",
       "                });\n",
       "            </script>\n",
       "        </div>"
      ]
     },
     "metadata": {},
     "output_type": "display_data"
    }
   ],
   "source": [
    "layout_test = go.Layout(title= \"W compounds\", hovermode= 'closest',\n",
    "                  font = dict(family='Times New Roman',size=36),\n",
    "                  xaxis= dict(title= 'Density [g/cm<sup>-3</sup>]',zeroline= False, gridwidth= 2), #To change range put command inside xaxis dictionary after gridwidth range=[-XX,XX]\n",
    "                  yaxis= dict(title= \"Young's Modulus [GPa]\",zeroline= False, gridwidth= 2,range=[0,700]), #To change range put command inside yaxis dictionary after gridwidth range=[-YY,YY]\n",
    "                  height = 800,\n",
    "                  width = 800,\n",
    "    showlegend= False              \n",
    ")\n",
    "\n",
    "#Scatter plot of collected data. Use df_oxide_all dataframe. df_oxide_all.Density will pull density column. Could change Density or IPF to Molar Volume or simply volume if you wanted.\n",
    "trace_test = go.Scatter(x = df_oxide.Density, y = df_oxide.Y_Modulus, mode = 'markers', text = df_oxide.Formula,\n",
    "                           marker=dict(size=12, color=(df_oxide['poisson_ratio']),\n",
    "                               colorbar = dict(title={ 'text': \"Poisson Ratio\", \n",
    "                                                    'font': {'family':'Georgia', 'size': 18}},  \n",
    "                                             tickfont={'family':'Georgia', 'size': 16 })), )#, name = 'All Queries'))\n",
    "\n",
    "\n",
    "import plotly.express as px\n",
    "data_test = [trace_test]\n",
    "fig_test = go.Figure(data_test, layout=layout_test)\n",
    "# fig_test.update_layout(color_continuous_scale=px.colors.sequential.Viridis)\n",
    "iplot(fig_test)"
   ]
  },
  {
   "cell_type": "code",
   "execution_count": null,
   "metadata": {},
   "outputs": [],
   "source": []
  }
 ],
 "metadata": {
  "kernelspec": {
   "display_name": "PythonData",
   "language": "python",
   "name": "pythondata"
  },
  "language_info": {
   "codemirror_mode": {
    "name": "ipython",
    "version": 3
   },
   "file_extension": ".py",
   "mimetype": "text/x-python",
   "name": "python",
   "nbconvert_exporter": "python",
   "pygments_lexer": "ipython3",
   "version": "3.7.7"
  }
 },
 "nbformat": 4,
 "nbformat_minor": 2
}
