{
 "cells": [
  {
   "cell_type": "markdown",
   "metadata": {},
   "source": [
    "<p float=\"left\">\n",
    "  <img src=nanoHUB_logo_color.png width=\"500px\" height='200px' align=\"center\" /> \n",
    "</p>"
   ]
  },
  {
   "cell_type": "markdown",
   "metadata": {},
   "source": [
    "\n",
    "# Querying and Managing Data from Materials Project\n",
    "\n",
    "\n",
    "<b> nanoHUB tools by: </b>  <i>Zachary D. McClure</i> and <i>Alejandro Strachan</i>, Materials Engineering, Purdue University <br>\n",
    "### Authorship and credits\n",
    "\n",
    "<b> Based on work published by: </b> [Shyue Ping Ong et al.](https://www.sciencedirect.com/science/article/abs/pii/S0927025612006295?via%3Dihub) <br> \n",
    "\n",
    "\n",
    "## Overview\n",
    "\n",
    "This notebook will serve as a workflow for querying a large set of data from the Materials Project database. As an example we will query a large set of oxide compounds from the database and attempt to filter out unnecessary results. Our primary tools will be the Materials Project API and the Pandas dataframe library.\n",
    "\n",
    "**Outline:**\n",
    "\n",
    "1. Querying an oxide dataset Materials Project <br>\n",
    "2. Filtering data for convex hull energy<br>\n",
    "3. Filtering data for elastic constants <br>\n",
    "\n",
    "Notes: \n",
    "* This notebook uses tools from [Materials Project](https://materialsproject.org/open) and requires an account with an API key.\n",
    "* Run cells in sequential order. In many cases we will drop columns or rows from dataframes, and re-running the cell will error out. To re-run notebook begin with cells below the initial query."
   ]
  },
  {
   "cell_type": "markdown",
   "metadata": {},
   "source": [
    "# Loading your API Key\n",
    "In order to load your API key, you can insert it in the Input textbox below and we will store it for your convenience. Remember to hit \"Enter\". "
   ]
  },
  {
   "cell_type": "markdown",
   "metadata": {},
   "source": [
    "### Load Materials Project API Key"
   ]
  },
  {
   "cell_type": "code",
   "execution_count": 1,
   "metadata": {},
   "outputs": [
    {
     "name": "stdout",
     "output_type": "stream",
     "text": [
      "Success\n"
     ]
    }
   ],
   "source": [
    "import os, stat\n",
    "from IPython.display import clear_output\n",
    "\n",
    "try:\n",
    "    user = str(input())\n",
    "    clear_output()\n",
    "    if not user.isalnum():\n",
    "        raise TypeError('Wrong Key')\n",
    "    if user == None:\n",
    "        raise TypeError('Empty')\n",
    "    with open(os.path.expanduser('~/.mpkey.txt'), 'w') as keyfile:\n",
    "        keyfile.write(user)\n",
    "    os.chmod(os.path.expanduser('~/.mpkey.txt'), stat.S_IREAD | stat.S_IWRITE)\n",
    "    del user\n",
    "    print(\"Success\")\n",
    "except:\n",
    "    print(\"Something seems wrong with your key\")"
   ]
  },
  {
   "cell_type": "markdown",
   "metadata": {},
   "source": [
    "## Libraries\n",
    "\n",
    "This notebook requires several libraries to be imported. They are separated in blocks depending on their usage."
   ]
  },
  {
   "cell_type": "code",
   "execution_count": null,
   "metadata": {},
   "outputs": [],
   "source": [
    "# These lines import both libraries and then define an array with elements to be used below\n",
    "\n",
    "#Pymatgen and sub-libraries\n",
    "import pymatgen\n",
    "from pymatgen import MPRester, Element, Structure\n",
    "from pymatgen.core import composition\n",
    "from pymatgen.io.vasp import Vasprun\n",
    "from pymatgen.entries.computed_entries import ComputedEntry\n",
    "from pymatgen.entries.compatibility import MaterialsProjectCompatibility\n",
    "from pymatgen.util.plotting import *\n",
    "from pymatgen.analysis.phase_diagram import *\n",
    "#import pymatgen.core.composition\n",
    "from pymatgen.apps.borg.hive import VaspToComputedEntryDrone\n",
    "from pymatgen.entries.compatibility import MaterialsProjectCompatibility\n",
    "import json\n",
    "\n",
    "#Misc. Tools\n",
    "import matplotlib.pyplot as plt\n",
    "import random\n",
    "import os\n",
    "from itertools import combinations\n",
    "import pandas as pd\n",
    "\n",
    "#Import API Key\n",
    "file = open(os.path.expanduser('~/.mpkey.txt'),\"r+\")\n",
    "apikey = file.readline()\n",
    "file.close()\n",
    "rester = MPRester(apikey)"
   ]
  },
  {
   "cell_type": "markdown",
   "metadata": {},
   "source": [
    "## 1. Query all oxides in MP database"
   ]
  },
  {
   "cell_type": "code",
   "execution_count": null,
   "metadata": {},
   "outputs": [],
   "source": [
    "#Query every structure in the MP database that has oxygen atom within compound. \n",
    "#Grab set of properties from database. Ti and Fe based.\n",
    "data = rester.query({\"elements\": \"Ti\", \"nelements\": {\"$gte\": 2}},\n",
    "                    [\"task_id\",\"pretty_formula\",\"formula\",\"volume\",\"density\",\"elements\",\n",
    "                     \"e_above_hull\",\"elasticity\",\"unit_cell_formula\"])"
   ]
  },
  {
   "cell_type": "markdown",
   "metadata": {},
   "source": [
    "First let's check how large our queried database is. Print out the length of the entire database the find the total number of oxide compounds that exist of the MP database"
   ]
  },
  {
   "cell_type": "code",
   "execution_count": null,
   "metadata": {},
   "outputs": [],
   "source": [
    "print('Number of oxide structures available on the MP database: %s' % len(data))\n",
    "print('Example output: %s' % data[24])"
   ]
  },
  {
   "cell_type": "markdown",
   "metadata": {},
   "source": [
    "## 2. Filtering data for energy stability\n",
    "After data query has been completed we will begin filtering things just a bit. First we will strip any values that have an energy above the convex hull greater than 1 meV. 0 meV indicates most stable phase. This filter can be changed below.<br>\n",
    "\n",
    "In the same loop we will calculate the ionic packing fraction of each oxide. We start by querying atomic radii for each element, and performing a quick calculation as shown above. For initial speed we keep everything as easily accessible dictionaries. In the following cells we will convert to a Pandas dataframe which is easier for filtering and plotting data."
   ]
  },
  {
   "cell_type": "code",
   "execution_count": null,
   "metadata": {},
   "outputs": [],
   "source": [
    "energy_cutoff_value = 1 #energy above convex hull cutoff [meV]"
   ]
  },
  {
   "cell_type": "markdown",
   "metadata": {},
   "source": [
    "### 2.1 Filter data and calculate ionic packing fraction from compound query"
   ]
  },
  {
   "cell_type": "code",
   "execution_count": null,
   "metadata": {},
   "outputs": [],
   "source": [
    "#Create temporary list arrays for data calculation and manipulation. We will clear the array after each loop\n",
    "atom_sample = []\n",
    "atom_count = []\n",
    "atom_radii = []\n",
    "atom_volume = []\n",
    "atom_volume_total = []\n",
    "\n",
    "#Create modified dictionary to store values that we want from queried database of all oxides\n",
    "property_dict_all = {}\n",
    "\n",
    "for k in range(0,len(data)):\n",
    "    #If Energy above convex Hull is larger than 1 meV we will skip that value and move on\n",
    "    e_above_hull = data[k].get('e_above_hull')*1000\n",
    "    if e_above_hull > energy_cutoff_value:\n",
    "        continue\n",
    "    #Grab values from data query. Data stored as dictionary so we call the 'keys' for 'values'\n",
    "    mp_id = data[k].get('task_id')\n",
    "    density = data[k].get('density')\n",
    "    pretty_formula = data[k].get('pretty_formula')\n",
    "    elastic_tensor = data[k].get('elasticity')\n",
    "    composition = data[k].get('formula')\n",
    "    oxide_volume = data[k].get('volume')\n",
    "    atom_type_count = len(data[k].get('elements'))\n",
    "    unit_cell_formula = data[k].get('unit_cell_formula')\n",
    "\n",
    "    #Pull atom count for each atom type. Will be used to find summed atomic volumes and summed masses\n",
    "    for type in np.arange(0,atom_type_count):\n",
    "        atom_sample.append(data[k].get('elements')[type])     \n",
    "        atom_count.append(data[k].get('unit_cell_formula').get(data[k].get('elements')[type]))\n",
    "        \n",
    "    #Do a quick query of each element type for ionic radius and atomic mass from Pymatgen\n",
    "    for item in atom_sample:\n",
    "        element_object = pymatgen.Element(item)\n",
    "        radii_values = element_object.average_ionic_radius\n",
    "        atom_radii.append(radii_values)\n",
    "\n",
    "    #For each atom radii queried calculate the atomic volume\n",
    "    for i in atom_radii:\n",
    "        v = (4/3)*np.pi*i**3\n",
    "        atom_volume.append(v)\n",
    "        \n",
    "    #Calculate the total atomic volume for each element type (E.g. 3*(Volume O atom))\n",
    "    for i in np.arange(0,len(atom_count)):\n",
    "        v_total = atom_count[i]*atom_volume[i]\n",
    "        atom_volume_total.append(v_total)\n",
    "        \n",
    "    #Sum the volumes of all atoms in the oxide\n",
    "    summed_volumes = sum(atom_volume_total)\n",
    "    \n",
    "    #Calculate packing fraction. Append values to dictionary with the Materials Project ID as key value\n",
    "    packing_frac = summed_volumes/oxide_volume\n",
    "    property_dict_all[str(mp_id)] = pretty_formula,composition,elastic_tensor,packing_frac,density,e_above_hull\n",
    "    \n",
    "    #Clear values for next loop\n",
    "    atom_sample.clear()\n",
    "    atom_count.clear()\n",
    "    atom_radii.clear()\n",
    "    atom_volume.clear()\n",
    "    atom_volume_total.clear()"
   ]
  },
  {
   "cell_type": "markdown",
   "metadata": {},
   "source": [
    "### 2.2 Convert our dictionary to a more pleasant looking dataframe. Pull the values from each key, separate them, and shove everything into a dataframe."
   ]
  },
  {
   "cell_type": "code",
   "execution_count": null,
   "metadata": {
    "scrolled": true
   },
   "outputs": [],
   "source": [
    "#Create blank lists for appending values\n",
    "mp_id = []\n",
    "pretty_formula = []\n",
    "composition = []\n",
    "ionic_packing_frac = []\n",
    "density = []\n",
    "elastic_tensor = []\n",
    "e_above_hull = []\n",
    "#Loop through all keys and extract their values. Append values into individual list arrays\n",
    "for key in property_dict_all.keys():\n",
    "    mp_id.append(key)\n",
    "    values = property_dict_all.get(key)\n",
    "    pretty_formula.append(values[0])\n",
    "    composition.append(values[1])\n",
    "    elastic_tensor.append(values[2])\n",
    "    ionic_packing_frac.append(values[3])\n",
    "    density.append(values[4])\n",
    "    e_above_hull.append(values[5])    \n",
    "#Stack arrays into a Numpy array. From here will append into a dataframe. Display dataframe below.\n",
    "df = np.column_stack((mp_id,pretty_formula,composition,ionic_packing_frac,density,elastic_tensor,e_above_hull))\n",
    "df_oxide = pd.DataFrame(df,columns=[\"mp_id\",\"Formula\",\"Composition\",\"IPF\",\"Density\",\"Elastic_Tensor\",\"E_above_Hull\"])\n",
    "display(df_oxide)"
   ]
  },
  {
   "cell_type": "code",
   "execution_count": null,
   "metadata": {},
   "outputs": [],
   "source": [
    "df_oxide.dtypes"
   ]
  },
  {
   "cell_type": "code",
   "execution_count": null,
   "metadata": {},
   "outputs": [],
   "source": [
    "df_oxide['Elastic_Tensor']"
   ]
  },
  {
   "cell_type": "code",
   "execution_count": null,
   "metadata": {},
   "outputs": [],
   "source": [
    "df_oxide=df_oxide.dropna()"
   ]
  },
  {
   "cell_type": "code",
   "execution_count": null,
   "metadata": {},
   "outputs": [],
   "source": [
    "df_oxide"
   ]
  },
  {
   "cell_type": "code",
   "execution_count": null,
   "metadata": {},
   "outputs": [],
   "source": [
    "df_oxide.to_csv (r'C:\\Users\\Kayla Yano\\Class\\Trial\\Ti_binary_dataframe.csv', index = True, header=True)"
   ]
  },
  {
   "cell_type": "markdown",
   "metadata": {},
   "source": [
    "### 2.3 Observe the reduction from all oxide species to the limited set for stable structures. Plot the data below."
   ]
  },
  {
   "cell_type": "code",
   "execution_count": null,
   "metadata": {},
   "outputs": [],
   "source": [
    "print('Number of oxide structures available on the MP database: %s' % len(data))\n",
    "print('Number of oxide structures below %.1f meV: %s' %(energy_cutoff_value, len(df_oxide)))"
   ]
  },
  {
   "cell_type": "code",
   "execution_count": null,
   "metadata": {},
   "outputs": [],
   "source": [
    "import plotly\n",
    "import plotly.graph_objs as go\n",
    "from plotly.offline import iplot\n",
    "\n",
    "plotly.offline.init_notebook_mode(connected=True)\n",
    "\n",
    "#Layout design. Can change title, font, x/y-axis etc. Commented out pieces are height and width. \n",
    "#For plot in browser I prefer long horizontal plots. For presentations square images may be preferred. \n",
    "#Image can be directly saved by hovering over image and clicking camera icon. \n",
    "layout_IPF = go.Layout(title= \"Oxide Query IPF vs. Density\", hovermode= 'closest',\n",
    "                   font = dict(family='Times New Roman',size=18),\n",
    "                   xaxis= dict(title= '$Density \\: [g/cm^{3}]$',zeroline= False, gridwidth= 2),\n",
    "                   yaxis= dict(title= '$Ionic \\: Packing \\: Fraction \\: [IPF]$',zeroline= False, gridwidth= 2),\n",
    "                   height = 600,\n",
    "                   width = 1200,\n",
    "     showlegend= True                \n",
    ")\n",
    "\n",
    "#Scatter plot of collected data. Use df_oxide_all dataframe. df_oxide_all.Density will pull density column.\n",
    "trace_all = go.Scatter(x = df_oxide.Density, y = df_oxide.IPF, mode = 'markers',\n",
    "                    marker=dict(size=12, color='black'), text = df_oxide.Formula, name = 'All Queries')\n",
    "\n",
    "trace_Al2O3 = go.Scatter(x = df_oxide[(df_oxide.Formula == 'Al2O3') & (df_oxide.E_above_Hull == 0)].loc[:,'Density'],\n",
    "                         y = df_oxide[(df_oxide.Formula == 'Al2O3') & (df_oxide.E_above_Hull == 0)].loc[:,'IPF'],\n",
    "                         mode = 'markers', marker=dict(size=18, color='green'), text = 'Al2O3', name = 'Al2O3')\n",
    "trace_Cr2O3 = go.Scatter(x = df_oxide[(df_oxide.Formula == 'Cr2O3') & (df_oxide.E_above_Hull == 0)].loc[:,'Density'],\n",
    "                         y = df_oxide[(df_oxide.Formula == 'Cr2O3') & (df_oxide.E_above_Hull == 0)].loc[:,'IPF'],\n",
    "                         mode = 'markers', marker=dict(size=18, color='blue'), text = 'Cr2O3', name = 'Cr2O3')\n",
    "trace_Y2O3 = go.Scatter(x = df_oxide[(df_oxide.Formula == 'Y2O3') & (df_oxide.E_above_Hull == 0)].loc[:,'Density'],\n",
    "                        y = df_oxide[(df_oxide.Formula == 'Y2O3') & (df_oxide.E_above_Hull == 0)].loc[:,'IPF'],\n",
    "                        mode = 'markers', marker=dict(size=18, color='orange'), text = 'Y2O3', name = 'Y2O3')\n",
    "trace_SiO2 = go.Scatter(x = df_oxide[(df_oxide.Formula == 'SiO2') & (df_oxide.E_above_Hull == 0)].loc[:,'Density'],\n",
    "                        y = df_oxide[(df_oxide.Formula == 'SiO2') & (df_oxide.E_above_Hull == 0)].loc[:,'IPF'],\n",
    "                        mode = 'markers', marker=dict(size=18, color='magenta'), text = 'SiO2', name = 'SiO2')\n",
    "\n",
    "data_IPF = [trace_all,trace_Al2O3,trace_Cr2O3,trace_Y2O3,trace_SiO2]#,trace0,trace2]\n",
    "fig_IPF = go.Figure(data_IPF, layout=layout_IPF)\n",
    "iplot(fig_IPF)"
   ]
  },
  {
   "cell_type": "markdown",
   "metadata": {},
   "source": [
    "## 3. Filtering data for elasticity"
   ]
  },
  {
   "cell_type": "code",
   "execution_count": null,
   "metadata": {},
   "outputs": [],
   "source": [
    "void_test = []\n",
    "row_delete = []\n",
    "for k in range(0,len(df_oxide)):\n",
    "    void_test.append(str(df_oxide.loc[k,'Elastic_Tensor']))\n",
    "    if void_test.count('None') == 1:\n",
    "        void_test.clear()\n",
    "        row_delete.append(k)\n",
    "    if void_test.count('nan') == 1:\n",
    "        void_test.clear()\n",
    "        row_delete.append(k)\n",
    "\n",
    "index = df_oxide.index[row_delete]\n",
    "df_oxide.drop(index,axis=0,inplace=True)\n",
    "df_elasticity_filtered = df_oxide\n",
    "display(df_elasticity_filtered)"
   ]
  },
  {
   "cell_type": "markdown",
   "metadata": {},
   "source": [
    "### 3.1 Observe the reduction from all oxide species to the limited set for stable structures, and ones with mechanical property data\n"
   ]
  },
  {
   "cell_type": "code",
   "execution_count": null,
   "metadata": {},
   "outputs": [],
   "source": [
    "print('Number of oxide structures available on the MP database: %s' % len(data))\n",
    "print('Number of oxide structures below %.1f meV and with elasticity data: %s' %(energy_cutoff_value, len(df_oxide)))"
   ]
  },
  {
   "cell_type": "markdown",
   "metadata": {},
   "source": [
    "### 3.2 Pull dataframe column with dictionary of elastic constants. Create separate columns for each value instead of inset in dictionary."
   ]
  },
  {
   "cell_type": "code",
   "execution_count": null,
   "metadata": {},
   "outputs": [],
   "source": [
    "#Pull dataframe column with dictionary of elastic constants\n",
    "elastics = df_oxide.Elastic_Tensor\n",
    "G_VRH = []\n",
    "K_VRH = []\n",
    "Elastic_Anisotropy = []\n",
    "poisson_ratio = []\n",
    "Y_Modulus = []\n",
    "\n",
    "for k in elastics.index: #len(df_oxide))\n",
    "    G_VRH.append(elastics[k].get('G_VRH'))\n",
    "    K_VRH.append(elastics[k].get('K_VRH'))\n",
    "\n",
    "    Elastic_Anisotropy.append(elastics[k].get('elastic_anisotropy'))\n",
    "    poisson_ratio.append(elastics[k].get('poisson_ratio'))\n",
    "    Y_Modulus.append(2*elastics[k].get('G_VRH')*(1+elastics[k].get('poisson_ratio')))\n",
    "    \n",
    "elasticity_data = np.column_stack((G_VRH, K_VRH, Elastic_Anisotropy, poisson_ratio, Y_Modulus))\n",
    "\n",
    "df_elasticity = pd.DataFrame(elasticity_data,columns=[\"G_VRH\", \n",
    "                                                      \"K_VRH\", \n",
    "                                                      \"Elastic_Anisotropy\", \n",
    "                                                      \"poisson_ratio\",\n",
    "                                                     \"Y_Modulus\"])\n",
    "\n",
    "\n",
    "\n",
    "df_oxide = df_oxide.reset_index(drop=True)\n",
    "df_elasticity = df_elasticity.reset_index(drop=True)\n",
    "df_oxide = pd.concat([df_oxide,df_elasticity],axis=1)\n",
    "display(df_oxide)\n",
    "\n",
    "#Remove erroneous poisson ratios\n",
    "void_test = []\n",
    "row_delete = []\n",
    "for k in range(0,len(df_elasticity)):\n",
    "    if df_oxide['poisson_ratio'].iloc[k] < 0:\n",
    "        row_delete.append(k)\n",
    "        \n",
    "\n",
    "index = df_oxide.index[row_delete]\n",
    "df_oxide.drop(index,axis=0,inplace=True)"
   ]
  },
  {
   "cell_type": "code",
   "execution_count": null,
   "metadata": {},
   "outputs": [],
   "source": []
  },
  {
   "cell_type": "markdown",
   "metadata": {},
   "source": [
    "### 3.3.1 Plot material properties from dataframe"
   ]
  },
  {
   "cell_type": "code",
   "execution_count": null,
   "metadata": {},
   "outputs": [],
   "source": [
    "#Layout design. Can change title, font, x/y-axis etc. Commented out pieces are height and width. For plot in browser I prefer long horizontal plots. For presentations square images may be preferred. \n",
    "#Image can be directly saved by hovering over image and clicking camera icon. \n",
    "import plotly\n",
    "import plotly.graph_objs as go\n",
    "from plotly.offline import iplot\n",
    "\n",
    "layout_IPF = go.Layout(title= \"Ti_based Query IPF vs. Density\", hovermode= 'closest',\n",
    "                   font = dict(family='Times New Roman',size=18),\n",
    "                   xaxis= dict(title= '$Density \\: [g/cm^{3}]$',zeroline= False, gridwidth= 2),\n",
    "                   yaxis= dict(title= '$Ionic Packing Fraction \\: [IPF]$',zeroline= False, gridwidth= 2),\n",
    "                   height = 600,\n",
    "                   width = 1200,\n",
    "     showlegend= True                \n",
    ")\n",
    "\n",
    "#Scatter plot of collected data. Use df_oxide_all dataframe. df_oxide_all.Density will pull density column. Could change Density or IPF to Molar Volume or simply volume if you wanted.\n",
    "trace_all = go.Scatter(x = df_oxide.Density, y = df_oxide.IPF, mode = 'markers',\n",
    "                    marker=dict(size=12, color='black'), text = df_oxide.Formula, name = 'All Queries')\n",
    "\n",
    "trace_TiC = go.Scatter(x = df_oxide[(df_oxide.Formula == 'TiC') & (df_oxide.E_above_Hull == 0)].loc[:,'Density'],\n",
    "                         y = df_oxide[(df_oxide.Formula == 'TiC') & (df_oxide.E_above_Hull == 0)].loc[:,'IPF'],\n",
    "                         mode = 'markers', marker=dict(size=18, color='green'), text = 'TiC', name = 'TiC')\n",
    "trace_TiN = go.Scatter(x = df_oxide[(df_oxide.Formula == 'TiN') & (df_oxide.E_above_Hull == 0)].loc[:,'Density'],\n",
    "                         y = df_oxide[(df_oxide.Formula == 'TiN') & (df_oxide.E_above_Hull == 0)].loc[:,'IPF'],\n",
    "                         mode = 'markers', marker=dict(size=18, color='blue'), text = 'TiN', name = 'TiN')\n",
    "trace_TiB = go.Scatter(x = df_oxide[(df_oxide.Formula == 'TiB') & (df_oxide.E_above_Hull == 0)].loc[:,'Density'],\n",
    "                        y = df_oxide[(df_oxide.Formula == 'TiB') & (df_oxide.E_above_Hull == 0)].loc[:,'IPF'],\n",
    "                        mode = 'markers', marker=dict(size=18, color='orange'), text = 'TiB', name = 'TiB')\n",
    "trace_TiO2 = go.Scatter(x = df_oxide[(df_oxide.Formula == 'TiO2') & (df_oxide.E_above_Hull == 0)].loc[:,'Density'],\n",
    "                        y = df_oxide[(df_oxide.Formula == 'TiO2') & (df_oxide.E_above_Hull == 0)].loc[:,'IPF'],\n",
    "                        mode = 'markers', marker=dict(size=18, color='magenta'), text = 'TiO2', name = 'TiO2')\n",
    "\n",
    "data_IPF = [trace_all,trace_TiC,trace_TiN,trace_TiAlC,trace_TiO2]\n",
    "fig_IPF = go.Figure(data_IPF, layout=layout_IPF)\n",
    "iplot(fig_IPF)"
   ]
  },
  {
   "cell_type": "markdown",
   "metadata": {},
   "source": [
    "### 3.3.2 Plot material properties from dataframe using 3rd property as color key"
   ]
  },
  {
   "cell_type": "code",
   "execution_count": null,
   "metadata": {},
   "outputs": [],
   "source": [
    "import plotly\n",
    "import plotly.graph_objs as go\n",
    "from plotly.offline import iplot\n",
    "layout_IPF_shear_modulus = go.Layout(title= \"Ti-based Compounds Bulk Modulus vs. Shear Modulus\", hovermode= 'closest',\n",
    "                   font = dict(family='Times New Roman',size=18),\n",
    "                   xaxis= dict(title= '$Shear \\: Modulus \\: [GPa]$',zeroline= False, gridwidth= 2),\n",
    "                   yaxis= dict(title= '$Bulk \\: Modulus [GPa]$',zeroline= False, gridwidth= 2),\n",
    "                   height = 600,\n",
    "                   width = 1200,\n",
    "     showlegend= False              \n",
    ")\n",
    "\n",
    "#Scatter plot of collected data. Use df_oxide_all dataframe. df_oxide_all.Density will pull density column. Could change Density or IPF to Molar Volume or simply volume if you wanted.\n",
    "trace_all_shear = go.Scatter(x = abs(df_oxide.G_VRH), y = df_oxide.K_VRH, mode = 'markers', text = df_oxide.Formula,\n",
    "                            marker=dict(size=12, color=(df_oxide['poisson_ratio']),\n",
    "                                colorbar = dict(title={ 'text': \"Poisson Ratio\", \n",
    "                                                     'font': {'family':'Georgia', 'size': 18}} , \n",
    "                                              tickfont={'family':'Georgia', 'size': 16 })))#, name = 'All Queries'))\n",
    "\n",
    "                             \n",
    "data_IPF_shear = [trace_all_shear]\n",
    "fig_IPF_shear = go.Figure(data_IPF_shear, layout=layout_IPF_shear_modulus)\n",
    "iplot(fig_IPF_shear)"
   ]
  },
  {
   "cell_type": "markdown",
   "metadata": {},
   "source": [
    "Uncomment the cell below to play around with the different parameters we have saved from the query. Below is an example of IPF vs. Elastic Anisotropy.\n",
    "Quickly uncomment block by highlighting and pressing together Ctrl+'/'"
   ]
  },
  {
   "cell_type": "code",
   "execution_count": null,
   "metadata": {},
   "outputs": [],
   "source": [
    "layout_test = go.Layout(title= \"Ti compounds\", hovermode= 'closest',\n",
    "                  font = dict(family='Times New Roman',size=36),\n",
    "                  xaxis= dict(title= 'Density [g/cm<sup>-3</sup>]',zeroline= False, gridwidth= 2), #To change range put command inside xaxis dictionary after gridwidth range=[-XX,XX]\n",
    "                  yaxis= dict(title= \"Young's Modulus [GPa]\",zeroline= False, gridwidth= 2,range=[0,600]), #To change range put command inside yaxis dictionary after gridwidth range=[-YY,YY]\n",
    "                  height = 800,\n",
    "                  width = 800,\n",
    "    showlegend= False              \n",
    ")\n",
    "\n",
    "#Scatter plot of collected data. Use df_oxide_all dataframe. df_oxide_all.Density will pull density column. Could change Density or IPF to Molar Volume or simply volume if you wanted.\n",
    "trace_test = go.Scatter(x = df_oxide.Density, y = df_oxide.Y_Modulus, mode = 'markers', text = df_oxide.Formula,\n",
    "                           marker=dict(size=12, color=(df_oxide['poisson_ratio']),\n",
    "                               colorbar = dict(title={ 'text': \"Poisson Ratio\", \n",
    "                                                    'font': {'family':'Georgia', 'size': 18}},  \n",
    "                                             tickfont={'family':'Georgia', 'size': 16 })), )#, name = 'All Queries'))\n",
    "\n",
    "\n",
    "import plotly.express as px\n",
    "data_test = [trace_test]\n",
    "fig_test = go.Figure(data_test, layout=layout_test)\n",
    "# fig_test.update_layout(color_continuous_scale=px.colors.sequential.Viridis)\n",
    "iplot(fig_test)"
   ]
  },
  {
   "cell_type": "code",
   "execution_count": null,
   "metadata": {},
   "outputs": [],
   "source": []
  },
  {
   "cell_type": "code",
   "execution_count": null,
   "metadata": {},
   "outputs": [],
   "source": []
  },
  {
   "cell_type": "code",
   "execution_count": null,
   "metadata": {},
   "outputs": [],
   "source": []
  },
  {
   "cell_type": "code",
   "execution_count": null,
   "metadata": {},
   "outputs": [],
   "source": []
  }
 ],
 "metadata": {
  "kernelspec": {
   "display_name": "PythonData",
   "language": "python",
   "name": "pythondata"
  },
  "language_info": {
   "codemirror_mode": {
    "name": "ipython",
    "version": 3
   },
   "file_extension": ".py",
   "mimetype": "text/x-python",
   "name": "python",
   "nbconvert_exporter": "python",
   "pygments_lexer": "ipython3",
   "version": "3.7.7"
  }
 },
 "nbformat": 4,
 "nbformat_minor": 2
}
