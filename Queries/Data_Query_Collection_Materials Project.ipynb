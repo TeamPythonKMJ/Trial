{
 "cells": [
  {
   "cell_type": "markdown",
   "metadata": {},
   "source": [
    "### Load Materials Project API Key"
   ]
  },
  {
   "cell_type": "code",
   "execution_count": 1,
   "metadata": {},
   "outputs": [
    {
     "name": "stdout",
     "output_type": "stream",
     "text": [
      "Success\n"
     ]
    }
   ],
   "source": [
    "import os, stat\n",
    "from IPython.display import clear_output\n",
    "\n",
    "try:\n",
    "    user = str(input())\n",
    "    clear_output()\n",
    "    if not user.isalnum():\n",
    "        raise TypeError('Wrong Key')\n",
    "    if user == None:\n",
    "        raise TypeError('Empty')\n",
    "    with open(os.path.expanduser('~/.mpkey.txt'), 'w') as keyfile:\n",
    "        keyfile.write(user)\n",
    "    os.chmod(os.path.expanduser('~/.mpkey.txt'), stat.S_IREAD | stat.S_IWRITE)\n",
    "    del user\n",
    "    print(\"Success\")\n",
    "except:\n",
    "    print(\"Something seems wrong with your key\")"
   ]
  },
  {
   "cell_type": "markdown",
   "metadata": {},
   "source": [
    "## Libraries\n",
    "\n",
    "This notebook requires several libraries to be imported. They are separated in blocks depending on their usage."
   ]
  },
  {
   "cell_type": "code",
   "execution_count": 94,
   "metadata": {},
   "outputs": [],
   "source": [
    "# These lines import both libraries and then define an array with elements to be used below\n",
    "\n",
    "#Pymatgen and sub-libraries\n",
    "import pymatgen\n",
    "from pymatgen import MPRester, Element, Structure\n",
    "from pymatgen.core import composition\n",
    "from pymatgen.io.vasp import Vasprun\n",
    "from pymatgen.entries.computed_entries import ComputedEntry\n",
    "from pymatgen.entries.compatibility import MaterialsProjectCompatibility\n",
    "from pymatgen.util.plotting import *\n",
    "from pymatgen.analysis.phase_diagram import *\n",
    "#import pymatgen.core.composition\n",
    "from pymatgen.apps.borg.hive import VaspToComputedEntryDrone\n",
    "from pymatgen.entries.compatibility import MaterialsProjectCompatibility\n",
    "import json\n",
    "\n",
    "#Misc. Tools\n",
    "import matplotlib.pyplot as plt\n",
    "import random\n",
    "import os\n",
    "from itertools import combinations\n",
    "import pandas as pd\n",
    "\n",
    "#Import API Key\n",
    "file = open(os.path.expanduser('~/.mpkey.txt'),\"r+\")\n",
    "apikey = file.readline()\n",
    "file.close()\n",
    "rester = MPRester(apikey)"
   ]
  },
  {
   "cell_type": "markdown",
   "metadata": {},
   "source": [
    "## 1. Query all selected materials  in MP database"
   ]
  },
  {
   "cell_type": "code",
   "execution_count": 241,
   "metadata": {},
   "outputs": [
    {
     "data": {
      "application/vnd.jupyter.widget-view+json": {
       "model_id": "1a6f2655230f42ca9e1471ca404a5b5a",
       "version_major": 2,
       "version_minor": 0
      },
      "text/plain": [
       "HBox(children=(FloatProgress(value=0.0, max=5484.0), HTML(value='')))"
      ]
     },
     "metadata": {},
     "output_type": "display_data"
    }
   ],
   "source": [
    "#Query every structure in the MP database that has oxygen atom within compound. \n",
    "#Grab set of properties from database. Ti, Fe, Ni, W, C, Mo based.\n",
    "# More elements \"Si\", \"Zr\", \"V\", \"N\", \"B\", \"Ta\", \"Nb\", \"Hf\", \"Cr\"\n",
    "# We will have this setup as a data pipeline extraction procedure as iterations.\n",
    "data = rester.query({\"elements\": \"Cr\",\n",
    "                     \"nelements\": {\"$gte\": 2}},\n",
    "                    [\"task_id\",\"pretty_formula\",\"formula\",\"volume\",\"density\",\"elements\",\n",
    "                     \"e_above_hull\",\"elasticity\",\"unit_cell_formula\"])"
   ]
  },
  {
   "cell_type": "code",
   "execution_count": 242,
   "metadata": {},
   "outputs": [
    {
     "name": "stdout",
     "output_type": "stream",
     "text": [
      "Number of oxide structures available on the MP database: 5484\n",
      "Example output: {'task_id': 'mp-1080200', 'pretty_formula': 'CrN2', 'formula': {'Cr': 1.0, 'N': 2.0}, 'volume': 52.24686162891472, 'density': 5.085813546639997, 'elements': ['Cr', 'N'], 'e_above_hull': 0.26577161920666015, 'elasticity': None, 'unit_cell_formula': {'Cr': 2.0, 'N': 4.0}}\n"
     ]
    }
   ],
   "source": [
    "print('Number of oxide structures available on the MP database: %s' % len(data))\n",
    "print('Example output: %s' % data[77])"
   ]
  },
  {
   "cell_type": "markdown",
   "metadata": {},
   "source": [
    "## 2. Filtering data for energy stability\n",
    "After data query has been completed we will begin filtering things just a bit. First we will strip any values that have an energy above the convex hull greater than 1 meV. 0 meV indicates most stable phase. This filter can be changed below.<br>\n"
   ]
  },
  {
   "cell_type": "code",
   "execution_count": 243,
   "metadata": {},
   "outputs": [],
   "source": [
    "energy_cutoff_value = 1 #energy above convex hull cutoff [meV]"
   ]
  },
  {
   "cell_type": "markdown",
   "metadata": {},
   "source": [
    "### 2.1 Filter data and calculate ionic packing fraction from compound query"
   ]
  },
  {
   "cell_type": "code",
   "execution_count": 244,
   "metadata": {},
   "outputs": [],
   "source": [
    "#Create temporary list arrays for data calculation and manipulation. We will clear the array after each loop\n",
    "atom_sample = []\n",
    "atom_count = []\n",
    "atom_radii = []\n",
    "atom_volume = []\n",
    "atom_volume_total = []\n",
    "\n",
    "#Create modified dictionary to store values that we want from queried database of all oxides\n",
    "property_dict_all = {}\n",
    "\n",
    "for k in range(0,len(data)):\n",
    "    #If Energy above convex Hull is larger than 1 meV we will skip that value and move on\n",
    "    e_above_hull = data[k].get('e_above_hull')*1000\n",
    "    if e_above_hull > energy_cutoff_value:\n",
    "        continue\n",
    "    #Grab values from data query. Data stored as dictionary so we call the 'keys' for 'values'\n",
    "    mp_id = data[k].get('task_id')\n",
    "    density = data[k].get('density')\n",
    "    pretty_formula = data[k].get('pretty_formula')\n",
    "    elastic_tensor = data[k].get('elasticity')\n",
    "    composition = data[k].get('formula')\n",
    "    oxide_volume = data[k].get('volume')\n",
    "    atom_type_count = len(data[k].get('elements'))\n",
    "    unit_cell_formula = data[k].get('unit_cell_formula')\n",
    "\n",
    "    #Pull atom count for each atom type. Will be used to find summed atomic volumes and summed masses\n",
    "    for type in np.arange(0,atom_type_count):\n",
    "        atom_sample.append(data[k].get('elements')[type])     \n",
    "        atom_count.append(data[k].get('unit_cell_formula').get(data[k].get('elements')[type]))\n",
    "        \n",
    "    #Do a quick query of each element type for ionic radius and atomic mass from Pymatgen\n",
    "    for item in atom_sample:\n",
    "        element_object = pymatgen.Element(item)\n",
    "        radii_values = element_object.average_ionic_radius\n",
    "        atom_radii.append(radii_values)\n",
    "\n",
    "    #For each atom radii queried calculate the atomic volume\n",
    "    for i in atom_radii:\n",
    "        v = (4/3)*np.pi*i**3\n",
    "        atom_volume.append(v)\n",
    "        \n",
    "    #Calculate the total atomic volume for each element type (E.g. 3*(Volume O atom))\n",
    "    for i in np.arange(0,len(atom_count)):\n",
    "        v_total = atom_count[i]*atom_volume[i]\n",
    "        atom_volume_total.append(v_total)\n",
    "        \n",
    "    #Sum the volumes of all atoms in the oxide\n",
    "    summed_volumes = sum(atom_volume_total)\n",
    "    \n",
    "    #Calculate packing fraction. Append values to dictionary with the Materials Project ID as key value\n",
    "    packing_frac = summed_volumes/oxide_volume\n",
    "    property_dict_all[str(mp_id)] = pretty_formula,composition,elastic_tensor,packing_frac,density,e_above_hull\n",
    "    \n",
    "    #Clear values for next loop\n",
    "    atom_sample.clear()\n",
    "    atom_count.clear()\n",
    "    atom_radii.clear()\n",
    "    atom_volume.clear()\n",
    "    atom_volume_total.clear()"
   ]
  },
  {
   "cell_type": "markdown",
   "metadata": {},
   "source": [
    "### 2.2 Convert our dictionary to a more pleasant looking dataframe. Pull the values from each key, separate them, and shove everything into a dataframe."
   ]
  },
  {
   "cell_type": "code",
   "execution_count": 245,
   "metadata": {
    "scrolled": true
   },
   "outputs": [
    {
     "data": {
      "text/html": [
       "<div>\n",
       "<style scoped>\n",
       "    .dataframe tbody tr th:only-of-type {\n",
       "        vertical-align: middle;\n",
       "    }\n",
       "\n",
       "    .dataframe tbody tr th {\n",
       "        vertical-align: top;\n",
       "    }\n",
       "\n",
       "    .dataframe thead th {\n",
       "        text-align: right;\n",
       "    }\n",
       "</style>\n",
       "<table border=\"1\" class=\"dataframe\">\n",
       "  <thead>\n",
       "    <tr style=\"text-align: right;\">\n",
       "      <th></th>\n",
       "      <th>mp_id</th>\n",
       "      <th>Formula</th>\n",
       "      <th>Composition</th>\n",
       "      <th>IPF</th>\n",
       "      <th>Density</th>\n",
       "      <th>Elastic_Tensor</th>\n",
       "      <th>E_above_Hull</th>\n",
       "    </tr>\n",
       "  </thead>\n",
       "  <tbody>\n",
       "    <tr>\n",
       "      <th>0</th>\n",
       "      <td>mp-1007923</td>\n",
       "      <td>CrNi3</td>\n",
       "      <td>{'Cr': 1.0, 'Ni': 3.0}</td>\n",
       "      <td>0.195062</td>\n",
       "      <td>8.61894</td>\n",
       "      <td>{'G_Reuss': 97.0, 'G_VRH': 105.0, 'G_Voigt': 1...</td>\n",
       "      <td>0.26945</td>\n",
       "    </tr>\n",
       "    <tr>\n",
       "      <th>1</th>\n",
       "      <td>mp-1070544</td>\n",
       "      <td>CrGa4</td>\n",
       "      <td>{'Cr': 1.0, 'Ga': 4.0}</td>\n",
       "      <td>0.118682</td>\n",
       "      <td>6.0189</td>\n",
       "      <td>None</td>\n",
       "      <td>0</td>\n",
       "    </tr>\n",
       "    <tr>\n",
       "      <th>2</th>\n",
       "      <td>mp-1078278</td>\n",
       "      <td>CrB4</td>\n",
       "      <td>{'Cr': 1.0, 'B': 4.0}</td>\n",
       "      <td>0.125382</td>\n",
       "      <td>4.27914</td>\n",
       "      <td>None</td>\n",
       "      <td>0</td>\n",
       "    </tr>\n",
       "    <tr>\n",
       "      <th>3</th>\n",
       "      <td>mp-1080664</td>\n",
       "      <td>CrB</td>\n",
       "      <td>{'Cr': 1.0, 'B': 1.0}</td>\n",
       "      <td>0.226432</td>\n",
       "      <td>6.26764</td>\n",
       "      <td>None</td>\n",
       "      <td>0</td>\n",
       "    </tr>\n",
       "    <tr>\n",
       "      <th>4</th>\n",
       "      <td>mp-1080757</td>\n",
       "      <td>Ta2CrB2</td>\n",
       "      <td>{'Ta': 2.0, 'Cr': 1.0, 'B': 2.0}</td>\n",
       "      <td>0.151834</td>\n",
       "      <td>12.6566</td>\n",
       "      <td>None</td>\n",
       "      <td>0</td>\n",
       "    </tr>\n",
       "    <tr>\n",
       "      <th>...</th>\n",
       "      <td>...</td>\n",
       "      <td>...</td>\n",
       "      <td>...</td>\n",
       "      <td>...</td>\n",
       "      <td>...</td>\n",
       "      <td>...</td>\n",
       "      <td>...</td>\n",
       "    </tr>\n",
       "    <tr>\n",
       "      <th>654</th>\n",
       "      <td>mp-744625</td>\n",
       "      <td>ZnCrH15N5Cl4F</td>\n",
       "      <td>{'Zn': 1.0, 'Cr': 1.0, 'H': 15.0, 'N': 5.0, 'C...</td>\n",
       "      <td>0.0650236</td>\n",
       "      <td>1.86923</td>\n",
       "      <td>None</td>\n",
       "      <td>0</td>\n",
       "    </tr>\n",
       "    <tr>\n",
       "      <th>655</th>\n",
       "      <td>mp-756910</td>\n",
       "      <td>K2CrPCO7</td>\n",
       "      <td>{'K': 2.0, 'Cr': 1.0, 'P': 1.0, 'C': 1.0, 'O':...</td>\n",
       "      <td>0.507673</td>\n",
       "      <td>2.6028</td>\n",
       "      <td>None</td>\n",
       "      <td>0</td>\n",
       "    </tr>\n",
       "    <tr>\n",
       "      <th>656</th>\n",
       "      <td>mp-769568</td>\n",
       "      <td>Mn2V3Cr(PO4)6</td>\n",
       "      <td>{'Mn': 2.0, 'V': 3.0, 'Cr': 1.0, 'P': 6.0, 'O'...</td>\n",
       "      <td>0.478665</td>\n",
       "      <td>3.24065</td>\n",
       "      <td>None</td>\n",
       "      <td>0</td>\n",
       "    </tr>\n",
       "    <tr>\n",
       "      <th>657</th>\n",
       "      <td>mp-776286</td>\n",
       "      <td>Ti3CrSn2(PO4)6</td>\n",
       "      <td>{'Ti': 3.0, 'Cr': 1.0, 'Sn': 2.0, 'P': 6.0, 'O...</td>\n",
       "      <td>0.456562</td>\n",
       "      <td>3.43538</td>\n",
       "      <td>None</td>\n",
       "      <td>0</td>\n",
       "    </tr>\n",
       "    <tr>\n",
       "      <th>658</th>\n",
       "      <td>mvc-15020</td>\n",
       "      <td>Ba4CaCr4Cu2F28</td>\n",
       "      <td>{'Ba': 4.0, 'Ca': 1.0, 'Cr': 4.0, 'Cu': 2.0, '...</td>\n",
       "      <td>0.210902</td>\n",
       "      <td>4.20613</td>\n",
       "      <td>None</td>\n",
       "      <td>0.437</td>\n",
       "    </tr>\n",
       "  </tbody>\n",
       "</table>\n",
       "<p>659 rows × 7 columns</p>\n",
       "</div>"
      ],
      "text/plain": [
       "          mp_id         Formula  \\\n",
       "0    mp-1007923           CrNi3   \n",
       "1    mp-1070544           CrGa4   \n",
       "2    mp-1078278            CrB4   \n",
       "3    mp-1080664             CrB   \n",
       "4    mp-1080757         Ta2CrB2   \n",
       "..          ...             ...   \n",
       "654   mp-744625   ZnCrH15N5Cl4F   \n",
       "655   mp-756910        K2CrPCO7   \n",
       "656   mp-769568   Mn2V3Cr(PO4)6   \n",
       "657   mp-776286  Ti3CrSn2(PO4)6   \n",
       "658   mvc-15020  Ba4CaCr4Cu2F28   \n",
       "\n",
       "                                           Composition        IPF  Density  \\\n",
       "0                               {'Cr': 1.0, 'Ni': 3.0}   0.195062  8.61894   \n",
       "1                               {'Cr': 1.0, 'Ga': 4.0}   0.118682   6.0189   \n",
       "2                                {'Cr': 1.0, 'B': 4.0}   0.125382  4.27914   \n",
       "3                                {'Cr': 1.0, 'B': 1.0}   0.226432  6.26764   \n",
       "4                     {'Ta': 2.0, 'Cr': 1.0, 'B': 2.0}   0.151834  12.6566   \n",
       "..                                                 ...        ...      ...   \n",
       "654  {'Zn': 1.0, 'Cr': 1.0, 'H': 15.0, 'N': 5.0, 'C...  0.0650236  1.86923   \n",
       "655  {'K': 2.0, 'Cr': 1.0, 'P': 1.0, 'C': 1.0, 'O':...   0.507673   2.6028   \n",
       "656  {'Mn': 2.0, 'V': 3.0, 'Cr': 1.0, 'P': 6.0, 'O'...   0.478665  3.24065   \n",
       "657  {'Ti': 3.0, 'Cr': 1.0, 'Sn': 2.0, 'P': 6.0, 'O...   0.456562  3.43538   \n",
       "658  {'Ba': 4.0, 'Ca': 1.0, 'Cr': 4.0, 'Cu': 2.0, '...   0.210902  4.20613   \n",
       "\n",
       "                                        Elastic_Tensor E_above_Hull  \n",
       "0    {'G_Reuss': 97.0, 'G_VRH': 105.0, 'G_Voigt': 1...      0.26945  \n",
       "1                                                 None            0  \n",
       "2                                                 None            0  \n",
       "3                                                 None            0  \n",
       "4                                                 None            0  \n",
       "..                                                 ...          ...  \n",
       "654                                               None            0  \n",
       "655                                               None            0  \n",
       "656                                               None            0  \n",
       "657                                               None            0  \n",
       "658                                               None        0.437  \n",
       "\n",
       "[659 rows x 7 columns]"
      ]
     },
     "metadata": {},
     "output_type": "display_data"
    }
   ],
   "source": [
    "#Create blank lists for appending values\n",
    "mp_id = []\n",
    "pretty_formula = []\n",
    "composition = []\n",
    "ionic_packing_frac = []\n",
    "density = []\n",
    "elastic_tensor = []\n",
    "e_above_hull = []\n",
    "#Loop through all keys and extract their values. Append values into individual list arrays\n",
    "for key in property_dict_all.keys():\n",
    "    mp_id.append(key)\n",
    "    values = property_dict_all.get(key)\n",
    "    pretty_formula.append(values[0])\n",
    "    composition.append(values[1])\n",
    "    elastic_tensor.append(values[2])\n",
    "    ionic_packing_frac.append(values[3])\n",
    "    density.append(values[4])\n",
    "    e_above_hull.append(values[5])    \n",
    "#Stack arrays into a Numpy array. From here will append into a dataframe. Display dataframe below.\n",
    "df = np.column_stack((mp_id,pretty_formula,composition,ionic_packing_frac,density,elastic_tensor,e_above_hull))\n",
    "df_oxide = pd.DataFrame(df,columns=[\"mp_id\",\"Formula\",\"Composition\",\"IPF\",\"Density\",\"Elastic_Tensor\",\"E_above_Hull\"])\n",
    "display(df_oxide)"
   ]
  },
  {
   "cell_type": "code",
   "execution_count": 246,
   "metadata": {},
   "outputs": [
    {
     "data": {
      "text/plain": [
       "mp_id             object\n",
       "Formula           object\n",
       "Composition       object\n",
       "IPF               object\n",
       "Density           object\n",
       "Elastic_Tensor    object\n",
       "E_above_Hull      object\n",
       "dtype: object"
      ]
     },
     "execution_count": 246,
     "metadata": {},
     "output_type": "execute_result"
    }
   ],
   "source": [
    "df_oxide.dtypes"
   ]
  },
  {
   "cell_type": "code",
   "execution_count": 247,
   "metadata": {},
   "outputs": [
    {
     "data": {
      "text/plain": [
       "0      {'G_Reuss': 97.0, 'G_VRH': 105.0, 'G_Voigt': 1...\n",
       "1                                                   None\n",
       "2                                                   None\n",
       "3                                                   None\n",
       "4                                                   None\n",
       "                             ...                        \n",
       "654                                                 None\n",
       "655                                                 None\n",
       "656                                                 None\n",
       "657                                                 None\n",
       "658                                                 None\n",
       "Name: Elastic_Tensor, Length: 659, dtype: object"
      ]
     },
     "execution_count": 247,
     "metadata": {},
     "output_type": "execute_result"
    }
   ],
   "source": [
    "df_oxide['Elastic_Tensor']"
   ]
  },
  {
   "cell_type": "code",
   "execution_count": 248,
   "metadata": {},
   "outputs": [],
   "source": [
    "df_oxide=df_oxide.dropna()"
   ]
  },
  {
   "cell_type": "code",
   "execution_count": 249,
   "metadata": {},
   "outputs": [
    {
     "data": {
      "text/html": [
       "<div>\n",
       "<style scoped>\n",
       "    .dataframe tbody tr th:only-of-type {\n",
       "        vertical-align: middle;\n",
       "    }\n",
       "\n",
       "    .dataframe tbody tr th {\n",
       "        vertical-align: top;\n",
       "    }\n",
       "\n",
       "    .dataframe thead th {\n",
       "        text-align: right;\n",
       "    }\n",
       "</style>\n",
       "<table border=\"1\" class=\"dataframe\">\n",
       "  <thead>\n",
       "    <tr style=\"text-align: right;\">\n",
       "      <th></th>\n",
       "      <th>mp_id</th>\n",
       "      <th>Formula</th>\n",
       "      <th>Composition</th>\n",
       "      <th>IPF</th>\n",
       "      <th>Density</th>\n",
       "      <th>Elastic_Tensor</th>\n",
       "      <th>E_above_Hull</th>\n",
       "    </tr>\n",
       "  </thead>\n",
       "  <tbody>\n",
       "    <tr>\n",
       "      <th>0</th>\n",
       "      <td>mp-1007923</td>\n",
       "      <td>CrNi3</td>\n",
       "      <td>{'Cr': 1.0, 'Ni': 3.0}</td>\n",
       "      <td>0.195062</td>\n",
       "      <td>8.61894</td>\n",
       "      <td>{'G_Reuss': 97.0, 'G_VRH': 105.0, 'G_Voigt': 1...</td>\n",
       "      <td>0.26945</td>\n",
       "    </tr>\n",
       "    <tr>\n",
       "      <th>12</th>\n",
       "      <td>mp-12083</td>\n",
       "      <td>CrIr3</td>\n",
       "      <td>{'Cr': 1.0, 'Ir': 3.0}</td>\n",
       "      <td>0.162656</td>\n",
       "      <td>18.6484</td>\n",
       "      <td>{'G_Reuss': 208.0, 'G_VRH': 214.0, 'G_Voigt': ...</td>\n",
       "      <td>0</td>\n",
       "    </tr>\n",
       "    <tr>\n",
       "      <th>19</th>\n",
       "      <td>mp-12585</td>\n",
       "      <td>CrRh3</td>\n",
       "      <td>{'Cr': 1.0, 'Rh': 3.0}</td>\n",
       "      <td>0.15708</td>\n",
       "      <td>10.8455</td>\n",
       "      <td>{'G_Reuss': 146.0, 'G_VRH': 151.0, 'G_Voigt': ...</td>\n",
       "      <td>0</td>\n",
       "    </tr>\n",
       "    <tr>\n",
       "      <th>21</th>\n",
       "      <td>mp-1425</td>\n",
       "      <td>TiCr2</td>\n",
       "      <td>{'Ti': 1.0, 'Cr': 2.0}</td>\n",
       "      <td>0.236119</td>\n",
       "      <td>6.23741</td>\n",
       "      <td>{'G_Reuss': 75.0, 'G_VRH': 75.0, 'G_Voigt': 75...</td>\n",
       "      <td>0.0768329</td>\n",
       "    </tr>\n",
       "    <tr>\n",
       "      <th>23</th>\n",
       "      <td>mp-15617</td>\n",
       "      <td>Cr5B3</td>\n",
       "      <td>{'Cr': 5.0, 'B': 3.0}</td>\n",
       "      <td>0.247747</td>\n",
       "      <td>6.58737</td>\n",
       "      <td>{'G_Reuss': 195.0, 'G_VRH': 196.0, 'G_Voigt': ...</td>\n",
       "      <td>0</td>\n",
       "    </tr>\n",
       "    <tr>\n",
       "      <th>...</th>\n",
       "      <td>...</td>\n",
       "      <td>...</td>\n",
       "      <td>...</td>\n",
       "      <td>...</td>\n",
       "      <td>...</td>\n",
       "      <td>...</td>\n",
       "      <td>...</td>\n",
       "    </tr>\n",
       "    <tr>\n",
       "      <th>538</th>\n",
       "      <td>mp-554252</td>\n",
       "      <td>K2NaCrF6</td>\n",
       "      <td>{'K': 2.0, 'Na': 1.0, 'Cr': 1.0, 'F': 6.0}</td>\n",
       "      <td>0.321992</td>\n",
       "      <td>2.961</td>\n",
       "      <td>{'G_Reuss': 35.0, 'G_VRH': 35.0, 'G_Voigt': 35...</td>\n",
       "      <td>0</td>\n",
       "    </tr>\n",
       "    <tr>\n",
       "      <th>557</th>\n",
       "      <td>mp-1024999</td>\n",
       "      <td>HoCr2Si2C</td>\n",
       "      <td>{'Ho': 1.0, 'Cr': 2.0, 'Si': 2.0, 'C': 1.0}</td>\n",
       "      <td>0.160212</td>\n",
       "      <td>6.83768</td>\n",
       "      <td>{'G_Reuss': 110.0, 'G_VRH': 111.0, 'G_Voigt': ...</td>\n",
       "      <td>0</td>\n",
       "    </tr>\n",
       "    <tr>\n",
       "      <th>585</th>\n",
       "      <td>mp-31624</td>\n",
       "      <td>Sr2TaCrO6</td>\n",
       "      <td>{'Sr': 2.0, 'Ta': 1.0, 'Cr': 1.0, 'O': 6.0}</td>\n",
       "      <td>0.589968</td>\n",
       "      <td>6.5567</td>\n",
       "      <td>{'G_Reuss': 107.0, 'G_VRH': 107.0, 'G_Voigt': ...</td>\n",
       "      <td>0</td>\n",
       "    </tr>\n",
       "    <tr>\n",
       "      <th>587</th>\n",
       "      <td>mp-556264</td>\n",
       "      <td>KRb2CrF6</td>\n",
       "      <td>{'K': 1.0, 'Rb': 2.0, 'Cr': 1.0, 'F': 6.0}</td>\n",
       "      <td>0.358013</td>\n",
       "      <td>3.42239</td>\n",
       "      <td>{'G_Reuss': 25.0, 'G_VRH': 27.0, 'G_Voigt': 28...</td>\n",
       "      <td>0.343295</td>\n",
       "    </tr>\n",
       "    <tr>\n",
       "      <th>626</th>\n",
       "      <td>mp-560936</td>\n",
       "      <td>Rb2NaCrF6</td>\n",
       "      <td>{'Rb': 2.0, 'Na': 1.0, 'Cr': 1.0, 'F': 6.0}</td>\n",
       "      <td>0.360392</td>\n",
       "      <td>3.76911</td>\n",
       "      <td>{'G_Reuss': 26.0, 'G_VRH': 27.0, 'G_Voigt': 27...</td>\n",
       "      <td>0</td>\n",
       "    </tr>\n",
       "  </tbody>\n",
       "</table>\n",
       "<p>94 rows × 7 columns</p>\n",
       "</div>"
      ],
      "text/plain": [
       "          mp_id    Formula                                  Composition  \\\n",
       "0    mp-1007923      CrNi3                       {'Cr': 1.0, 'Ni': 3.0}   \n",
       "12     mp-12083      CrIr3                       {'Cr': 1.0, 'Ir': 3.0}   \n",
       "19     mp-12585      CrRh3                       {'Cr': 1.0, 'Rh': 3.0}   \n",
       "21      mp-1425      TiCr2                       {'Ti': 1.0, 'Cr': 2.0}   \n",
       "23     mp-15617      Cr5B3                        {'Cr': 5.0, 'B': 3.0}   \n",
       "..          ...        ...                                          ...   \n",
       "538   mp-554252   K2NaCrF6   {'K': 2.0, 'Na': 1.0, 'Cr': 1.0, 'F': 6.0}   \n",
       "557  mp-1024999  HoCr2Si2C  {'Ho': 1.0, 'Cr': 2.0, 'Si': 2.0, 'C': 1.0}   \n",
       "585    mp-31624  Sr2TaCrO6  {'Sr': 2.0, 'Ta': 1.0, 'Cr': 1.0, 'O': 6.0}   \n",
       "587   mp-556264   KRb2CrF6   {'K': 1.0, 'Rb': 2.0, 'Cr': 1.0, 'F': 6.0}   \n",
       "626   mp-560936  Rb2NaCrF6  {'Rb': 2.0, 'Na': 1.0, 'Cr': 1.0, 'F': 6.0}   \n",
       "\n",
       "          IPF  Density                                     Elastic_Tensor  \\\n",
       "0    0.195062  8.61894  {'G_Reuss': 97.0, 'G_VRH': 105.0, 'G_Voigt': 1...   \n",
       "12   0.162656  18.6484  {'G_Reuss': 208.0, 'G_VRH': 214.0, 'G_Voigt': ...   \n",
       "19    0.15708  10.8455  {'G_Reuss': 146.0, 'G_VRH': 151.0, 'G_Voigt': ...   \n",
       "21   0.236119  6.23741  {'G_Reuss': 75.0, 'G_VRH': 75.0, 'G_Voigt': 75...   \n",
       "23   0.247747  6.58737  {'G_Reuss': 195.0, 'G_VRH': 196.0, 'G_Voigt': ...   \n",
       "..        ...      ...                                                ...   \n",
       "538  0.321992    2.961  {'G_Reuss': 35.0, 'G_VRH': 35.0, 'G_Voigt': 35...   \n",
       "557  0.160212  6.83768  {'G_Reuss': 110.0, 'G_VRH': 111.0, 'G_Voigt': ...   \n",
       "585  0.589968   6.5567  {'G_Reuss': 107.0, 'G_VRH': 107.0, 'G_Voigt': ...   \n",
       "587  0.358013  3.42239  {'G_Reuss': 25.0, 'G_VRH': 27.0, 'G_Voigt': 28...   \n",
       "626  0.360392  3.76911  {'G_Reuss': 26.0, 'G_VRH': 27.0, 'G_Voigt': 27...   \n",
       "\n",
       "    E_above_Hull  \n",
       "0        0.26945  \n",
       "12             0  \n",
       "19             0  \n",
       "21     0.0768329  \n",
       "23             0  \n",
       "..           ...  \n",
       "538            0  \n",
       "557            0  \n",
       "585            0  \n",
       "587     0.343295  \n",
       "626            0  \n",
       "\n",
       "[94 rows x 7 columns]"
      ]
     },
     "execution_count": 249,
     "metadata": {},
     "output_type": "execute_result"
    }
   ],
   "source": [
    "df_oxide"
   ]
  },
  {
   "cell_type": "markdown",
   "metadata": {},
   "source": [
    "### 2.3 Observe the reduction from all oxide species to the limited set for stable structures. Plot the data below."
   ]
  },
  {
   "cell_type": "code",
   "execution_count": 250,
   "metadata": {},
   "outputs": [
    {
     "name": "stdout",
     "output_type": "stream",
     "text": [
      "Number of structures available on the MP database: 5484\n",
      "Number of structures below 1.0 meV: 94\n"
     ]
    }
   ],
   "source": [
    "print('Number of structures available on the MP database: %s' % len(data))\n",
    "print('Number of structures below %.1f meV: %s' %(energy_cutoff_value, len(df_oxide)))"
   ]
  },
  {
   "cell_type": "code",
   "execution_count": 251,
   "metadata": {},
   "outputs": [
    {
     "data": {
      "text/html": [
       "        <script type=\"text/javascript\">\n",
       "        window.PlotlyConfig = {MathJaxConfig: 'local'};\n",
       "        if (window.MathJax) {MathJax.Hub.Config({SVG: {font: \"STIX-Web\"}});}\n",
       "        if (typeof require !== 'undefined') {\n",
       "        require.undef(\"plotly\");\n",
       "        requirejs.config({\n",
       "            paths: {\n",
       "                'plotly': ['https://cdn.plot.ly/plotly-latest.min']\n",
       "            }\n",
       "        });\n",
       "        require(['plotly'], function(Plotly) {\n",
       "            window._Plotly = Plotly;\n",
       "        });\n",
       "        }\n",
       "        </script>\n",
       "        "
      ]
     },
     "metadata": {},
     "output_type": "display_data"
    },
    {
     "data": {
      "application/vnd.plotly.v1+json": {
       "config": {
        "linkText": "Export to plot.ly",
        "plotlyServerURL": "https://plot.ly",
        "showLink": false
       },
       "data": [
        {
         "marker": {
          "color": "black",
          "size": 12
         },
         "mode": "markers",
         "name": "All Queries",
         "text": [
          "CrNi3",
          "CrIr3",
          "CrRh3",
          "TiCr2",
          "Cr5B3",
          "Cr2B",
          "Be12Cr",
          "AlCr2",
          "CrO2",
          "Cr2O3",
          "Cr3Ge",
          "Cr3C2",
          "CrP",
          "TaCr2",
          "CrH",
          "CrBr3",
          "Be2Cr",
          "NbCr2",
          "CrF3",
          "TiCr2",
          "CrF5",
          "Cr23C6",
          "Cr3Si",
          "CrP4",
          "CrNi2",
          "HfCr2",
          "Al3Cr",
          "Cr2N",
          "CrSi2",
          "ZrCr2",
          "CrS2",
          "U2CrN3",
          "Mn(CrSe2)2",
          "Dy2Cr2C3",
          "Y2Cr2C3",
          "Mg2CrN3",
          "MgCrO4",
          "Cr2GaC",
          "CrAgS2",
          "CrCuO2",
          "AlCrRu2",
          "Mn2CrCo",
          "Ta2CrRu",
          "Tm2Cr2C3",
          "Tb2Cr2C3",
          "Zn2CrN3",
          "Li6CrN4",
          "TiCrP",
          "CrTe4Au",
          "Sr3CrN3",
          "LiCrO2",
          "Cr2GeC",
          "NbCrP",
          "Zn(CrSe2)2",
          "CrNiAs",
          "ScCrC2",
          "Rb2CrF6",
          "NaCrS2",
          "AlCr3B4",
          "Ho2Cr2C3",
          "V2CrFe",
          "V2CrRu",
          "Ca3CrN3",
          "BeCrRu2",
          "CrAuO2",
          "Ca2CrN3",
          "Na2CrO4",
          "LaCrO3",
          "CrAgO2",
          "U(Cr3P2)2",
          "LiCrS2",
          "CrCuO2",
          "CrCuS2",
          "Al(CrB)2",
          "MnV2Cr",
          "Mn2AlCr",
          "V2CrRe",
          "V2CrTc",
          "AlCr2C",
          "NaCrN2",
          "Cr3PtN",
          "CrPbO4",
          "CrBO3",
          "CrFeP",
          "Cs2CrCl4",
          "CrAgSe2",
          "KCrS2",
          "Ti2CrIr",
          "V2CrOs",
          "K2NaCrF6",
          "HoCr2Si2C",
          "Sr2TaCrO6",
          "KRb2CrF6",
          "Rb2NaCrF6"
         ],
         "type": "scatter",
         "x": [
          8.618942228355627,
          18.648438637883746,
          10.84546252759207,
          6.237410464246428,
          6.587365888141499,
          6.74214767317177,
          2.4927677331272613,
          5.7487220093605655,
          4.629940044129016,
          4.904330346354213,
          7.860403725285878,
          6.795180037110503,
          5.669873692732649,
          11.337189772845669,
          6.523424750290262,
          3.9426479166303237,
          4.407724434965535,
          7.767773427042093,
          3.5669247234196084,
          6.234565438345089,
          2.8421885259820887,
          7.167799814901859,
          6.625100603199788,
          3.8964816589730242,
          8.62090716505294,
          10.507988985740106,
          3.815305621002482,
          6.7238252617052074,
          5.015722493546895,
          7.109106915706326,
          3.082703604081153,
          12.702454774680787,
          5.460394618462859,
          8.179075697402185,
          5.553900997962683,
          3.260071635851983,
          3.05233891041771,
          6.887637715111307,
          5.029493161129396,
          5.308605260477462,
          8.726919257450142,
          7.716185764584853,
          13.841976533809055,
          8.691772497279294,
          7.969868448138059,
          5.325875173010978,
          2.4147376439978294,
          5.652777279831061,
          7.343432517848616,
          4.252480902143335,
          4.101010951132802,
          6.955160667078985,
          7.08015918030501,
          5.405418835718923,
          7.617337309351947,
          4.839726525303591,
          3.362947299970635,
          3.184247031786236,
          5.37477494738821,
          8.354270274164262,
          7.348434423639102,
          8.13776016770855,
          3.241737275435285,
          9.069538941582902,
          9.220117847189515,
          3.45200033366467,
          2.6668803392777396,
          6.457324685036008,
          6.2807590535860705,
          7.845540020791599,
          3.206621000276271,
          5.295622147539851,
          4.535384722119756,
          5.327369116401093,
          7.151615099984709,
          6.653173672646668,
          10.618552634076526,
          7.954744598658002,
          5.338343678602588,
          3.1468044436563316,
          10.702691061931008,
          5.727997990762413,
          4.046621554470586,
          6.917186606244874,
          3.38253758452127,
          6.112507624833568,
          3.1156170519728943,
          9.760395641571574,
          10.87437113588139,
          2.961003060116674,
          6.837675236213143,
          6.5567001162891705,
          3.4223925170351,
          3.7691076621050534
         ],
         "y": [
          0.19506227964170328,
          0.16265587848954338,
          0.1570796725376378,
          0.2361187106085201,
          0.24774722484474077,
          0.2563021389899549,
          0.12938625172641777,
          0.2179763745645678,
          0.6717833109454248,
          0.6236802645650456,
          0.25569594891107095,
          0.24241566019650554,
          0.17185803174471548,
          0.22206583085140572,
          0.25786343498060305,
          0.09861623589011954,
          0.1971153381300115,
          0.22018302293731337,
          0.1553506880054651,
          0.23601101145174302,
          0.1259699161991152,
          0.2747221133703715,
          0.24052342953336306,
          0.08360344047509523,
          0.21068808361646363,
          0.2135036831793972,
          0.12692535894556395,
          0.27471825790231685,
          0.1339915699674806,
          0.21102895808553396,
          0.14688742941279534,
          0.19833920873131694,
          0.17685315510160693,
          0.20567280948404654,
          0.17595993157773185,
          0.1644918212290103,
          0.5196171533199488,
          0.19899136622143945,
          0.1969225846655681,
          0.48854887973143163,
          0.13435813520259343,
          0.16124730899562761,
          0.1506714630260463,
          0.20040259474366634,
          0.15952696464739338,
          0.17589646156473873,
          0.25252462338586373,
          0.17598031235210257,
          0.26124208099232776,
          0.25491322616438944,
          0.6325518268188539,
          0.19946788175199787,
          0.1572309543457913,
          0.18278645160459084,
          0.1576976945005799,
          0.1592228271622383,
          0.304196500158342,
          0.21677685689229792,
          0.18429915123889223,
          0.1793254241930702,
          0.21125710640798703,
          0.16581766177822757,
          0.22997407535577238,
          0.1402854694935468,
          0.5013514447656467,
          0.22717051366390925,
          0.49648790671733145,
          0.5755707750771784,
          0.5049200139207471,
          0.19450026007920224,
          0.1920896057243322,
          0.4873540488917158,
          0.17478288436461,
          0.18551673443147967,
          0.17650989739139825,
          0.14957876584977206,
          0.16794362141601393,
          0.17355735790482,
          0.18795581585805776,
          0.22284835930391675,
          0.2413369576025658,
          0.45809199547076046,
          0.6357121414301129,
          0.20319535636095956,
          0.2708245837459332,
          0.20353629527178949,
          0.2888715868700108,
          0.18206278900975875,
          0.16544434484656056,
          0.3219916823811531,
          0.16021224501401982,
          0.5899682901836628,
          0.3580129364525934,
          0.36039224893156524
         ]
        },
        {
         "marker": {
          "color": "green",
          "size": 18
         },
         "mode": "markers",
         "name": "Al2O3",
         "text": "Al2O3",
         "type": "scatter",
         "x": [],
         "y": []
        },
        {
         "marker": {
          "color": "blue",
          "size": 18
         },
         "mode": "markers",
         "name": "Cr2O3",
         "text": "Cr2O3",
         "type": "scatter",
         "x": [
          4.904330346354213
         ],
         "y": [
          0.6236802645650456
         ]
        },
        {
         "marker": {
          "color": "orange",
          "size": 18
         },
         "mode": "markers",
         "name": "Y2O3",
         "text": "Y2O3",
         "type": "scatter",
         "x": [],
         "y": []
        },
        {
         "marker": {
          "color": "magenta",
          "size": 18
         },
         "mode": "markers",
         "name": "SiO2",
         "text": "SiO2",
         "type": "scatter",
         "x": [],
         "y": []
        }
       ],
       "layout": {
        "font": {
         "family": "Times New Roman",
         "size": 18
        },
        "height": 600,
        "hovermode": "closest",
        "showlegend": true,
        "template": {
         "data": {
          "bar": [
           {
            "error_x": {
             "color": "#2a3f5f"
            },
            "error_y": {
             "color": "#2a3f5f"
            },
            "marker": {
             "line": {
              "color": "#E5ECF6",
              "width": 0.5
             }
            },
            "type": "bar"
           }
          ],
          "barpolar": [
           {
            "marker": {
             "line": {
              "color": "#E5ECF6",
              "width": 0.5
             }
            },
            "type": "barpolar"
           }
          ],
          "carpet": [
           {
            "aaxis": {
             "endlinecolor": "#2a3f5f",
             "gridcolor": "white",
             "linecolor": "white",
             "minorgridcolor": "white",
             "startlinecolor": "#2a3f5f"
            },
            "baxis": {
             "endlinecolor": "#2a3f5f",
             "gridcolor": "white",
             "linecolor": "white",
             "minorgridcolor": "white",
             "startlinecolor": "#2a3f5f"
            },
            "type": "carpet"
           }
          ],
          "choropleth": [
           {
            "colorbar": {
             "outlinewidth": 0,
             "ticks": ""
            },
            "type": "choropleth"
           }
          ],
          "contour": [
           {
            "colorbar": {
             "outlinewidth": 0,
             "ticks": ""
            },
            "colorscale": [
             [
              0,
              "#0d0887"
             ],
             [
              0.1111111111111111,
              "#46039f"
             ],
             [
              0.2222222222222222,
              "#7201a8"
             ],
             [
              0.3333333333333333,
              "#9c179e"
             ],
             [
              0.4444444444444444,
              "#bd3786"
             ],
             [
              0.5555555555555556,
              "#d8576b"
             ],
             [
              0.6666666666666666,
              "#ed7953"
             ],
             [
              0.7777777777777778,
              "#fb9f3a"
             ],
             [
              0.8888888888888888,
              "#fdca26"
             ],
             [
              1,
              "#f0f921"
             ]
            ],
            "type": "contour"
           }
          ],
          "contourcarpet": [
           {
            "colorbar": {
             "outlinewidth": 0,
             "ticks": ""
            },
            "type": "contourcarpet"
           }
          ],
          "heatmap": [
           {
            "colorbar": {
             "outlinewidth": 0,
             "ticks": ""
            },
            "colorscale": [
             [
              0,
              "#0d0887"
             ],
             [
              0.1111111111111111,
              "#46039f"
             ],
             [
              0.2222222222222222,
              "#7201a8"
             ],
             [
              0.3333333333333333,
              "#9c179e"
             ],
             [
              0.4444444444444444,
              "#bd3786"
             ],
             [
              0.5555555555555556,
              "#d8576b"
             ],
             [
              0.6666666666666666,
              "#ed7953"
             ],
             [
              0.7777777777777778,
              "#fb9f3a"
             ],
             [
              0.8888888888888888,
              "#fdca26"
             ],
             [
              1,
              "#f0f921"
             ]
            ],
            "type": "heatmap"
           }
          ],
          "heatmapgl": [
           {
            "colorbar": {
             "outlinewidth": 0,
             "ticks": ""
            },
            "colorscale": [
             [
              0,
              "#0d0887"
             ],
             [
              0.1111111111111111,
              "#46039f"
             ],
             [
              0.2222222222222222,
              "#7201a8"
             ],
             [
              0.3333333333333333,
              "#9c179e"
             ],
             [
              0.4444444444444444,
              "#bd3786"
             ],
             [
              0.5555555555555556,
              "#d8576b"
             ],
             [
              0.6666666666666666,
              "#ed7953"
             ],
             [
              0.7777777777777778,
              "#fb9f3a"
             ],
             [
              0.8888888888888888,
              "#fdca26"
             ],
             [
              1,
              "#f0f921"
             ]
            ],
            "type": "heatmapgl"
           }
          ],
          "histogram": [
           {
            "marker": {
             "colorbar": {
              "outlinewidth": 0,
              "ticks": ""
             }
            },
            "type": "histogram"
           }
          ],
          "histogram2d": [
           {
            "colorbar": {
             "outlinewidth": 0,
             "ticks": ""
            },
            "colorscale": [
             [
              0,
              "#0d0887"
             ],
             [
              0.1111111111111111,
              "#46039f"
             ],
             [
              0.2222222222222222,
              "#7201a8"
             ],
             [
              0.3333333333333333,
              "#9c179e"
             ],
             [
              0.4444444444444444,
              "#bd3786"
             ],
             [
              0.5555555555555556,
              "#d8576b"
             ],
             [
              0.6666666666666666,
              "#ed7953"
             ],
             [
              0.7777777777777778,
              "#fb9f3a"
             ],
             [
              0.8888888888888888,
              "#fdca26"
             ],
             [
              1,
              "#f0f921"
             ]
            ],
            "type": "histogram2d"
           }
          ],
          "histogram2dcontour": [
           {
            "colorbar": {
             "outlinewidth": 0,
             "ticks": ""
            },
            "colorscale": [
             [
              0,
              "#0d0887"
             ],
             [
              0.1111111111111111,
              "#46039f"
             ],
             [
              0.2222222222222222,
              "#7201a8"
             ],
             [
              0.3333333333333333,
              "#9c179e"
             ],
             [
              0.4444444444444444,
              "#bd3786"
             ],
             [
              0.5555555555555556,
              "#d8576b"
             ],
             [
              0.6666666666666666,
              "#ed7953"
             ],
             [
              0.7777777777777778,
              "#fb9f3a"
             ],
             [
              0.8888888888888888,
              "#fdca26"
             ],
             [
              1,
              "#f0f921"
             ]
            ],
            "type": "histogram2dcontour"
           }
          ],
          "mesh3d": [
           {
            "colorbar": {
             "outlinewidth": 0,
             "ticks": ""
            },
            "type": "mesh3d"
           }
          ],
          "parcoords": [
           {
            "line": {
             "colorbar": {
              "outlinewidth": 0,
              "ticks": ""
             }
            },
            "type": "parcoords"
           }
          ],
          "pie": [
           {
            "automargin": true,
            "type": "pie"
           }
          ],
          "scatter": [
           {
            "marker": {
             "colorbar": {
              "outlinewidth": 0,
              "ticks": ""
             }
            },
            "type": "scatter"
           }
          ],
          "scatter3d": [
           {
            "line": {
             "colorbar": {
              "outlinewidth": 0,
              "ticks": ""
             }
            },
            "marker": {
             "colorbar": {
              "outlinewidth": 0,
              "ticks": ""
             }
            },
            "type": "scatter3d"
           }
          ],
          "scattercarpet": [
           {
            "marker": {
             "colorbar": {
              "outlinewidth": 0,
              "ticks": ""
             }
            },
            "type": "scattercarpet"
           }
          ],
          "scattergeo": [
           {
            "marker": {
             "colorbar": {
              "outlinewidth": 0,
              "ticks": ""
             }
            },
            "type": "scattergeo"
           }
          ],
          "scattergl": [
           {
            "marker": {
             "colorbar": {
              "outlinewidth": 0,
              "ticks": ""
             }
            },
            "type": "scattergl"
           }
          ],
          "scattermapbox": [
           {
            "marker": {
             "colorbar": {
              "outlinewidth": 0,
              "ticks": ""
             }
            },
            "type": "scattermapbox"
           }
          ],
          "scatterpolar": [
           {
            "marker": {
             "colorbar": {
              "outlinewidth": 0,
              "ticks": ""
             }
            },
            "type": "scatterpolar"
           }
          ],
          "scatterpolargl": [
           {
            "marker": {
             "colorbar": {
              "outlinewidth": 0,
              "ticks": ""
             }
            },
            "type": "scatterpolargl"
           }
          ],
          "scatterternary": [
           {
            "marker": {
             "colorbar": {
              "outlinewidth": 0,
              "ticks": ""
             }
            },
            "type": "scatterternary"
           }
          ],
          "surface": [
           {
            "colorbar": {
             "outlinewidth": 0,
             "ticks": ""
            },
            "colorscale": [
             [
              0,
              "#0d0887"
             ],
             [
              0.1111111111111111,
              "#46039f"
             ],
             [
              0.2222222222222222,
              "#7201a8"
             ],
             [
              0.3333333333333333,
              "#9c179e"
             ],
             [
              0.4444444444444444,
              "#bd3786"
             ],
             [
              0.5555555555555556,
              "#d8576b"
             ],
             [
              0.6666666666666666,
              "#ed7953"
             ],
             [
              0.7777777777777778,
              "#fb9f3a"
             ],
             [
              0.8888888888888888,
              "#fdca26"
             ],
             [
              1,
              "#f0f921"
             ]
            ],
            "type": "surface"
           }
          ],
          "table": [
           {
            "cells": {
             "fill": {
              "color": "#EBF0F8"
             },
             "line": {
              "color": "white"
             }
            },
            "header": {
             "fill": {
              "color": "#C8D4E3"
             },
             "line": {
              "color": "white"
             }
            },
            "type": "table"
           }
          ]
         },
         "layout": {
          "annotationdefaults": {
           "arrowcolor": "#2a3f5f",
           "arrowhead": 0,
           "arrowwidth": 1
          },
          "coloraxis": {
           "colorbar": {
            "outlinewidth": 0,
            "ticks": ""
           }
          },
          "colorscale": {
           "diverging": [
            [
             0,
             "#8e0152"
            ],
            [
             0.1,
             "#c51b7d"
            ],
            [
             0.2,
             "#de77ae"
            ],
            [
             0.3,
             "#f1b6da"
            ],
            [
             0.4,
             "#fde0ef"
            ],
            [
             0.5,
             "#f7f7f7"
            ],
            [
             0.6,
             "#e6f5d0"
            ],
            [
             0.7,
             "#b8e186"
            ],
            [
             0.8,
             "#7fbc41"
            ],
            [
             0.9,
             "#4d9221"
            ],
            [
             1,
             "#276419"
            ]
           ],
           "sequential": [
            [
             0,
             "#0d0887"
            ],
            [
             0.1111111111111111,
             "#46039f"
            ],
            [
             0.2222222222222222,
             "#7201a8"
            ],
            [
             0.3333333333333333,
             "#9c179e"
            ],
            [
             0.4444444444444444,
             "#bd3786"
            ],
            [
             0.5555555555555556,
             "#d8576b"
            ],
            [
             0.6666666666666666,
             "#ed7953"
            ],
            [
             0.7777777777777778,
             "#fb9f3a"
            ],
            [
             0.8888888888888888,
             "#fdca26"
            ],
            [
             1,
             "#f0f921"
            ]
           ],
           "sequentialminus": [
            [
             0,
             "#0d0887"
            ],
            [
             0.1111111111111111,
             "#46039f"
            ],
            [
             0.2222222222222222,
             "#7201a8"
            ],
            [
             0.3333333333333333,
             "#9c179e"
            ],
            [
             0.4444444444444444,
             "#bd3786"
            ],
            [
             0.5555555555555556,
             "#d8576b"
            ],
            [
             0.6666666666666666,
             "#ed7953"
            ],
            [
             0.7777777777777778,
             "#fb9f3a"
            ],
            [
             0.8888888888888888,
             "#fdca26"
            ],
            [
             1,
             "#f0f921"
            ]
           ]
          },
          "colorway": [
           "#636efa",
           "#EF553B",
           "#00cc96",
           "#ab63fa",
           "#FFA15A",
           "#19d3f3",
           "#FF6692",
           "#B6E880",
           "#FF97FF",
           "#FECB52"
          ],
          "font": {
           "color": "#2a3f5f"
          },
          "geo": {
           "bgcolor": "white",
           "lakecolor": "white",
           "landcolor": "#E5ECF6",
           "showlakes": true,
           "showland": true,
           "subunitcolor": "white"
          },
          "hoverlabel": {
           "align": "left"
          },
          "hovermode": "closest",
          "mapbox": {
           "style": "light"
          },
          "paper_bgcolor": "white",
          "plot_bgcolor": "#E5ECF6",
          "polar": {
           "angularaxis": {
            "gridcolor": "white",
            "linecolor": "white",
            "ticks": ""
           },
           "bgcolor": "#E5ECF6",
           "radialaxis": {
            "gridcolor": "white",
            "linecolor": "white",
            "ticks": ""
           }
          },
          "scene": {
           "xaxis": {
            "backgroundcolor": "#E5ECF6",
            "gridcolor": "white",
            "gridwidth": 2,
            "linecolor": "white",
            "showbackground": true,
            "ticks": "",
            "zerolinecolor": "white"
           },
           "yaxis": {
            "backgroundcolor": "#E5ECF6",
            "gridcolor": "white",
            "gridwidth": 2,
            "linecolor": "white",
            "showbackground": true,
            "ticks": "",
            "zerolinecolor": "white"
           },
           "zaxis": {
            "backgroundcolor": "#E5ECF6",
            "gridcolor": "white",
            "gridwidth": 2,
            "linecolor": "white",
            "showbackground": true,
            "ticks": "",
            "zerolinecolor": "white"
           }
          },
          "shapedefaults": {
           "line": {
            "color": "#2a3f5f"
           }
          },
          "ternary": {
           "aaxis": {
            "gridcolor": "white",
            "linecolor": "white",
            "ticks": ""
           },
           "baxis": {
            "gridcolor": "white",
            "linecolor": "white",
            "ticks": ""
           },
           "bgcolor": "#E5ECF6",
           "caxis": {
            "gridcolor": "white",
            "linecolor": "white",
            "ticks": ""
           }
          },
          "title": {
           "x": 0.05
          },
          "xaxis": {
           "automargin": true,
           "gridcolor": "white",
           "linecolor": "white",
           "ticks": "",
           "title": {
            "standoff": 15
           },
           "zerolinecolor": "white",
           "zerolinewidth": 2
          },
          "yaxis": {
           "automargin": true,
           "gridcolor": "white",
           "linecolor": "white",
           "ticks": "",
           "title": {
            "standoff": 15
           },
           "zerolinecolor": "white",
           "zerolinewidth": 2
          }
         }
        },
        "title": {
         "text": "Oxide Query IPF vs. Density"
        },
        "width": 1200,
        "xaxis": {
         "gridwidth": 2,
         "title": {
          "text": "$Density \\: [g/cm^{3}]$"
         },
         "zeroline": false
        },
        "yaxis": {
         "gridwidth": 2,
         "title": {
          "text": "$Ionic \\: Packing \\: Fraction \\: [IPF]$"
         },
         "zeroline": false
        }
       }
      },
      "text/html": [
       "<div>\n",
       "        \n",
       "        \n",
       "            <div id=\"640e4707-a3fc-49be-8c39-d1f2738930d0\" class=\"plotly-graph-div\" style=\"height:600px; width:1200px;\"></div>\n",
       "            <script type=\"text/javascript\">\n",
       "                require([\"plotly\"], function(Plotly) {\n",
       "                    window.PLOTLYENV=window.PLOTLYENV || {};\n",
       "                    \n",
       "                if (document.getElementById(\"640e4707-a3fc-49be-8c39-d1f2738930d0\")) {\n",
       "                    Plotly.newPlot(\n",
       "                        '640e4707-a3fc-49be-8c39-d1f2738930d0',\n",
       "                        [{\"marker\": {\"color\": \"black\", \"size\": 12}, \"mode\": \"markers\", \"name\": \"All Queries\", \"text\": [\"CrNi3\", \"CrIr3\", \"CrRh3\", \"TiCr2\", \"Cr5B3\", \"Cr2B\", \"Be12Cr\", \"AlCr2\", \"CrO2\", \"Cr2O3\", \"Cr3Ge\", \"Cr3C2\", \"CrP\", \"TaCr2\", \"CrH\", \"CrBr3\", \"Be2Cr\", \"NbCr2\", \"CrF3\", \"TiCr2\", \"CrF5\", \"Cr23C6\", \"Cr3Si\", \"CrP4\", \"CrNi2\", \"HfCr2\", \"Al3Cr\", \"Cr2N\", \"CrSi2\", \"ZrCr2\", \"CrS2\", \"U2CrN3\", \"Mn(CrSe2)2\", \"Dy2Cr2C3\", \"Y2Cr2C3\", \"Mg2CrN3\", \"MgCrO4\", \"Cr2GaC\", \"CrAgS2\", \"CrCuO2\", \"AlCrRu2\", \"Mn2CrCo\", \"Ta2CrRu\", \"Tm2Cr2C3\", \"Tb2Cr2C3\", \"Zn2CrN3\", \"Li6CrN4\", \"TiCrP\", \"CrTe4Au\", \"Sr3CrN3\", \"LiCrO2\", \"Cr2GeC\", \"NbCrP\", \"Zn(CrSe2)2\", \"CrNiAs\", \"ScCrC2\", \"Rb2CrF6\", \"NaCrS2\", \"AlCr3B4\", \"Ho2Cr2C3\", \"V2CrFe\", \"V2CrRu\", \"Ca3CrN3\", \"BeCrRu2\", \"CrAuO2\", \"Ca2CrN3\", \"Na2CrO4\", \"LaCrO3\", \"CrAgO2\", \"U(Cr3P2)2\", \"LiCrS2\", \"CrCuO2\", \"CrCuS2\", \"Al(CrB)2\", \"MnV2Cr\", \"Mn2AlCr\", \"V2CrRe\", \"V2CrTc\", \"AlCr2C\", \"NaCrN2\", \"Cr3PtN\", \"CrPbO4\", \"CrBO3\", \"CrFeP\", \"Cs2CrCl4\", \"CrAgSe2\", \"KCrS2\", \"Ti2CrIr\", \"V2CrOs\", \"K2NaCrF6\", \"HoCr2Si2C\", \"Sr2TaCrO6\", \"KRb2CrF6\", \"Rb2NaCrF6\"], \"type\": \"scatter\", \"x\": [8.618942228355627, 18.648438637883746, 10.84546252759207, 6.237410464246428, 6.587365888141499, 6.74214767317177, 2.4927677331272613, 5.7487220093605655, 4.629940044129016, 4.904330346354213, 7.860403725285878, 6.795180037110503, 5.669873692732649, 11.337189772845669, 6.523424750290262, 3.9426479166303237, 4.407724434965535, 7.767773427042093, 3.5669247234196084, 6.234565438345089, 2.8421885259820887, 7.167799814901859, 6.625100603199788, 3.8964816589730242, 8.62090716505294, 10.507988985740106, 3.815305621002482, 6.7238252617052074, 5.015722493546895, 7.109106915706326, 3.082703604081153, 12.702454774680787, 5.460394618462859, 8.179075697402185, 5.553900997962683, 3.260071635851983, 3.05233891041771, 6.887637715111307, 5.029493161129396, 5.308605260477462, 8.726919257450142, 7.716185764584853, 13.841976533809055, 8.691772497279294, 7.969868448138059, 5.325875173010978, 2.4147376439978294, 5.652777279831061, 7.343432517848616, 4.252480902143335, 4.101010951132802, 6.955160667078985, 7.08015918030501, 5.405418835718923, 7.617337309351947, 4.839726525303591, 3.362947299970635, 3.184247031786236, 5.37477494738821, 8.354270274164262, 7.348434423639102, 8.13776016770855, 3.241737275435285, 9.069538941582902, 9.220117847189515, 3.45200033366467, 2.6668803392777396, 6.457324685036008, 6.2807590535860705, 7.845540020791599, 3.206621000276271, 5.295622147539851, 4.535384722119756, 5.327369116401093, 7.151615099984709, 6.653173672646668, 10.618552634076526, 7.954744598658002, 5.338343678602588, 3.1468044436563316, 10.702691061931008, 5.727997990762413, 4.046621554470586, 6.917186606244874, 3.38253758452127, 6.112507624833568, 3.1156170519728943, 9.760395641571574, 10.87437113588139, 2.961003060116674, 6.837675236213143, 6.5567001162891705, 3.4223925170351, 3.7691076621050534], \"y\": [0.19506227964170328, 0.16265587848954338, 0.1570796725376378, 0.2361187106085201, 0.24774722484474077, 0.2563021389899549, 0.12938625172641777, 0.2179763745645678, 0.6717833109454248, 0.6236802645650456, 0.25569594891107095, 0.24241566019650554, 0.17185803174471548, 0.22206583085140572, 0.25786343498060305, 0.09861623589011954, 0.1971153381300115, 0.22018302293731337, 0.1553506880054651, 0.23601101145174302, 0.1259699161991152, 0.2747221133703715, 0.24052342953336306, 0.08360344047509523, 0.21068808361646363, 0.2135036831793972, 0.12692535894556395, 0.27471825790231685, 0.1339915699674806, 0.21102895808553396, 0.14688742941279534, 0.19833920873131694, 0.17685315510160693, 0.20567280948404654, 0.17595993157773185, 0.1644918212290103, 0.5196171533199488, 0.19899136622143945, 0.1969225846655681, 0.48854887973143163, 0.13435813520259343, 0.16124730899562761, 0.1506714630260463, 0.20040259474366634, 0.15952696464739338, 0.17589646156473873, 0.25252462338586373, 0.17598031235210257, 0.26124208099232776, 0.25491322616438944, 0.6325518268188539, 0.19946788175199787, 0.1572309543457913, 0.18278645160459084, 0.1576976945005799, 0.1592228271622383, 0.304196500158342, 0.21677685689229792, 0.18429915123889223, 0.1793254241930702, 0.21125710640798703, 0.16581766177822757, 0.22997407535577238, 0.1402854694935468, 0.5013514447656467, 0.22717051366390925, 0.49648790671733145, 0.5755707750771784, 0.5049200139207471, 0.19450026007920224, 0.1920896057243322, 0.4873540488917158, 0.17478288436461, 0.18551673443147967, 0.17650989739139825, 0.14957876584977206, 0.16794362141601393, 0.17355735790482, 0.18795581585805776, 0.22284835930391675, 0.2413369576025658, 0.45809199547076046, 0.6357121414301129, 0.20319535636095956, 0.2708245837459332, 0.20353629527178949, 0.2888715868700108, 0.18206278900975875, 0.16544434484656056, 0.3219916823811531, 0.16021224501401982, 0.5899682901836628, 0.3580129364525934, 0.36039224893156524]}, {\"marker\": {\"color\": \"green\", \"size\": 18}, \"mode\": \"markers\", \"name\": \"Al2O3\", \"text\": \"Al2O3\", \"type\": \"scatter\", \"x\": [], \"y\": []}, {\"marker\": {\"color\": \"blue\", \"size\": 18}, \"mode\": \"markers\", \"name\": \"Cr2O3\", \"text\": \"Cr2O3\", \"type\": \"scatter\", \"x\": [4.904330346354213], \"y\": [0.6236802645650456]}, {\"marker\": {\"color\": \"orange\", \"size\": 18}, \"mode\": \"markers\", \"name\": \"Y2O3\", \"text\": \"Y2O3\", \"type\": \"scatter\", \"x\": [], \"y\": []}, {\"marker\": {\"color\": \"magenta\", \"size\": 18}, \"mode\": \"markers\", \"name\": \"SiO2\", \"text\": \"SiO2\", \"type\": \"scatter\", \"x\": [], \"y\": []}],\n",
       "                        {\"font\": {\"family\": \"Times New Roman\", \"size\": 18}, \"height\": 600, \"hovermode\": \"closest\", \"showlegend\": true, \"template\": {\"data\": {\"bar\": [{\"error_x\": {\"color\": \"#2a3f5f\"}, \"error_y\": {\"color\": \"#2a3f5f\"}, \"marker\": {\"line\": {\"color\": \"#E5ECF6\", \"width\": 0.5}}, \"type\": \"bar\"}], \"barpolar\": [{\"marker\": {\"line\": {\"color\": \"#E5ECF6\", \"width\": 0.5}}, \"type\": \"barpolar\"}], \"carpet\": [{\"aaxis\": {\"endlinecolor\": \"#2a3f5f\", \"gridcolor\": \"white\", \"linecolor\": \"white\", \"minorgridcolor\": \"white\", \"startlinecolor\": \"#2a3f5f\"}, \"baxis\": {\"endlinecolor\": \"#2a3f5f\", \"gridcolor\": \"white\", \"linecolor\": \"white\", \"minorgridcolor\": \"white\", \"startlinecolor\": \"#2a3f5f\"}, \"type\": \"carpet\"}], \"choropleth\": [{\"colorbar\": {\"outlinewidth\": 0, \"ticks\": \"\"}, \"type\": \"choropleth\"}], \"contour\": [{\"colorbar\": {\"outlinewidth\": 0, \"ticks\": \"\"}, \"colorscale\": [[0.0, \"#0d0887\"], [0.1111111111111111, \"#46039f\"], [0.2222222222222222, \"#7201a8\"], [0.3333333333333333, \"#9c179e\"], [0.4444444444444444, \"#bd3786\"], [0.5555555555555556, \"#d8576b\"], [0.6666666666666666, \"#ed7953\"], [0.7777777777777778, \"#fb9f3a\"], [0.8888888888888888, \"#fdca26\"], [1.0, \"#f0f921\"]], \"type\": \"contour\"}], \"contourcarpet\": [{\"colorbar\": {\"outlinewidth\": 0, \"ticks\": \"\"}, \"type\": \"contourcarpet\"}], \"heatmap\": [{\"colorbar\": {\"outlinewidth\": 0, \"ticks\": \"\"}, \"colorscale\": [[0.0, \"#0d0887\"], [0.1111111111111111, \"#46039f\"], [0.2222222222222222, \"#7201a8\"], [0.3333333333333333, \"#9c179e\"], [0.4444444444444444, \"#bd3786\"], [0.5555555555555556, \"#d8576b\"], [0.6666666666666666, \"#ed7953\"], [0.7777777777777778, \"#fb9f3a\"], [0.8888888888888888, \"#fdca26\"], [1.0, \"#f0f921\"]], \"type\": \"heatmap\"}], \"heatmapgl\": [{\"colorbar\": {\"outlinewidth\": 0, \"ticks\": \"\"}, \"colorscale\": [[0.0, \"#0d0887\"], [0.1111111111111111, \"#46039f\"], [0.2222222222222222, \"#7201a8\"], [0.3333333333333333, \"#9c179e\"], [0.4444444444444444, \"#bd3786\"], [0.5555555555555556, \"#d8576b\"], [0.6666666666666666, \"#ed7953\"], [0.7777777777777778, \"#fb9f3a\"], [0.8888888888888888, \"#fdca26\"], [1.0, \"#f0f921\"]], \"type\": \"heatmapgl\"}], \"histogram\": [{\"marker\": {\"colorbar\": {\"outlinewidth\": 0, \"ticks\": \"\"}}, \"type\": \"histogram\"}], \"histogram2d\": [{\"colorbar\": {\"outlinewidth\": 0, \"ticks\": \"\"}, \"colorscale\": [[0.0, \"#0d0887\"], [0.1111111111111111, \"#46039f\"], [0.2222222222222222, \"#7201a8\"], [0.3333333333333333, \"#9c179e\"], [0.4444444444444444, \"#bd3786\"], [0.5555555555555556, \"#d8576b\"], [0.6666666666666666, \"#ed7953\"], [0.7777777777777778, \"#fb9f3a\"], [0.8888888888888888, \"#fdca26\"], [1.0, \"#f0f921\"]], \"type\": \"histogram2d\"}], \"histogram2dcontour\": [{\"colorbar\": {\"outlinewidth\": 0, \"ticks\": \"\"}, \"colorscale\": [[0.0, \"#0d0887\"], [0.1111111111111111, \"#46039f\"], [0.2222222222222222, \"#7201a8\"], [0.3333333333333333, \"#9c179e\"], [0.4444444444444444, \"#bd3786\"], [0.5555555555555556, \"#d8576b\"], [0.6666666666666666, \"#ed7953\"], [0.7777777777777778, \"#fb9f3a\"], [0.8888888888888888, \"#fdca26\"], [1.0, \"#f0f921\"]], \"type\": \"histogram2dcontour\"}], \"mesh3d\": [{\"colorbar\": {\"outlinewidth\": 0, \"ticks\": \"\"}, \"type\": \"mesh3d\"}], \"parcoords\": [{\"line\": {\"colorbar\": {\"outlinewidth\": 0, \"ticks\": \"\"}}, \"type\": \"parcoords\"}], \"pie\": [{\"automargin\": true, \"type\": \"pie\"}], \"scatter\": [{\"marker\": {\"colorbar\": {\"outlinewidth\": 0, \"ticks\": \"\"}}, \"type\": \"scatter\"}], \"scatter3d\": [{\"line\": {\"colorbar\": {\"outlinewidth\": 0, \"ticks\": \"\"}}, \"marker\": {\"colorbar\": {\"outlinewidth\": 0, \"ticks\": \"\"}}, \"type\": \"scatter3d\"}], \"scattercarpet\": [{\"marker\": {\"colorbar\": {\"outlinewidth\": 0, \"ticks\": \"\"}}, \"type\": \"scattercarpet\"}], \"scattergeo\": [{\"marker\": {\"colorbar\": {\"outlinewidth\": 0, \"ticks\": \"\"}}, \"type\": \"scattergeo\"}], \"scattergl\": [{\"marker\": {\"colorbar\": {\"outlinewidth\": 0, \"ticks\": \"\"}}, \"type\": \"scattergl\"}], \"scattermapbox\": [{\"marker\": {\"colorbar\": {\"outlinewidth\": 0, \"ticks\": \"\"}}, \"type\": \"scattermapbox\"}], \"scatterpolar\": [{\"marker\": {\"colorbar\": {\"outlinewidth\": 0, \"ticks\": \"\"}}, \"type\": \"scatterpolar\"}], \"scatterpolargl\": [{\"marker\": {\"colorbar\": {\"outlinewidth\": 0, \"ticks\": \"\"}}, \"type\": \"scatterpolargl\"}], \"scatterternary\": [{\"marker\": {\"colorbar\": {\"outlinewidth\": 0, \"ticks\": \"\"}}, \"type\": \"scatterternary\"}], \"surface\": [{\"colorbar\": {\"outlinewidth\": 0, \"ticks\": \"\"}, \"colorscale\": [[0.0, \"#0d0887\"], [0.1111111111111111, \"#46039f\"], [0.2222222222222222, \"#7201a8\"], [0.3333333333333333, \"#9c179e\"], [0.4444444444444444, \"#bd3786\"], [0.5555555555555556, \"#d8576b\"], [0.6666666666666666, \"#ed7953\"], [0.7777777777777778, \"#fb9f3a\"], [0.8888888888888888, \"#fdca26\"], [1.0, \"#f0f921\"]], \"type\": \"surface\"}], \"table\": [{\"cells\": {\"fill\": {\"color\": \"#EBF0F8\"}, \"line\": {\"color\": \"white\"}}, \"header\": {\"fill\": {\"color\": \"#C8D4E3\"}, \"line\": {\"color\": \"white\"}}, \"type\": \"table\"}]}, \"layout\": {\"annotationdefaults\": {\"arrowcolor\": \"#2a3f5f\", \"arrowhead\": 0, \"arrowwidth\": 1}, \"coloraxis\": {\"colorbar\": {\"outlinewidth\": 0, \"ticks\": \"\"}}, \"colorscale\": {\"diverging\": [[0, \"#8e0152\"], [0.1, \"#c51b7d\"], [0.2, \"#de77ae\"], [0.3, \"#f1b6da\"], [0.4, \"#fde0ef\"], [0.5, \"#f7f7f7\"], [0.6, \"#e6f5d0\"], [0.7, \"#b8e186\"], [0.8, \"#7fbc41\"], [0.9, \"#4d9221\"], [1, \"#276419\"]], \"sequential\": [[0.0, \"#0d0887\"], [0.1111111111111111, \"#46039f\"], [0.2222222222222222, \"#7201a8\"], [0.3333333333333333, \"#9c179e\"], [0.4444444444444444, \"#bd3786\"], [0.5555555555555556, \"#d8576b\"], [0.6666666666666666, \"#ed7953\"], [0.7777777777777778, \"#fb9f3a\"], [0.8888888888888888, \"#fdca26\"], [1.0, \"#f0f921\"]], \"sequentialminus\": [[0.0, \"#0d0887\"], [0.1111111111111111, \"#46039f\"], [0.2222222222222222, \"#7201a8\"], [0.3333333333333333, \"#9c179e\"], [0.4444444444444444, \"#bd3786\"], [0.5555555555555556, \"#d8576b\"], [0.6666666666666666, \"#ed7953\"], [0.7777777777777778, \"#fb9f3a\"], [0.8888888888888888, \"#fdca26\"], [1.0, \"#f0f921\"]]}, \"colorway\": [\"#636efa\", \"#EF553B\", \"#00cc96\", \"#ab63fa\", \"#FFA15A\", \"#19d3f3\", \"#FF6692\", \"#B6E880\", \"#FF97FF\", \"#FECB52\"], \"font\": {\"color\": \"#2a3f5f\"}, \"geo\": {\"bgcolor\": \"white\", \"lakecolor\": \"white\", \"landcolor\": \"#E5ECF6\", \"showlakes\": true, \"showland\": true, \"subunitcolor\": \"white\"}, \"hoverlabel\": {\"align\": \"left\"}, \"hovermode\": \"closest\", \"mapbox\": {\"style\": \"light\"}, \"paper_bgcolor\": \"white\", \"plot_bgcolor\": \"#E5ECF6\", \"polar\": {\"angularaxis\": {\"gridcolor\": \"white\", \"linecolor\": \"white\", \"ticks\": \"\"}, \"bgcolor\": \"#E5ECF6\", \"radialaxis\": {\"gridcolor\": \"white\", \"linecolor\": \"white\", \"ticks\": \"\"}}, \"scene\": {\"xaxis\": {\"backgroundcolor\": \"#E5ECF6\", \"gridcolor\": \"white\", \"gridwidth\": 2, \"linecolor\": \"white\", \"showbackground\": true, \"ticks\": \"\", \"zerolinecolor\": \"white\"}, \"yaxis\": {\"backgroundcolor\": \"#E5ECF6\", \"gridcolor\": \"white\", \"gridwidth\": 2, \"linecolor\": \"white\", \"showbackground\": true, \"ticks\": \"\", \"zerolinecolor\": \"white\"}, \"zaxis\": {\"backgroundcolor\": \"#E5ECF6\", \"gridcolor\": \"white\", \"gridwidth\": 2, \"linecolor\": \"white\", \"showbackground\": true, \"ticks\": \"\", \"zerolinecolor\": \"white\"}}, \"shapedefaults\": {\"line\": {\"color\": \"#2a3f5f\"}}, \"ternary\": {\"aaxis\": {\"gridcolor\": \"white\", \"linecolor\": \"white\", \"ticks\": \"\"}, \"baxis\": {\"gridcolor\": \"white\", \"linecolor\": \"white\", \"ticks\": \"\"}, \"bgcolor\": \"#E5ECF6\", \"caxis\": {\"gridcolor\": \"white\", \"linecolor\": \"white\", \"ticks\": \"\"}}, \"title\": {\"x\": 0.05}, \"xaxis\": {\"automargin\": true, \"gridcolor\": \"white\", \"linecolor\": \"white\", \"ticks\": \"\", \"title\": {\"standoff\": 15}, \"zerolinecolor\": \"white\", \"zerolinewidth\": 2}, \"yaxis\": {\"automargin\": true, \"gridcolor\": \"white\", \"linecolor\": \"white\", \"ticks\": \"\", \"title\": {\"standoff\": 15}, \"zerolinecolor\": \"white\", \"zerolinewidth\": 2}}}, \"title\": {\"text\": \"Oxide Query IPF vs. Density\"}, \"width\": 1200, \"xaxis\": {\"gridwidth\": 2, \"title\": {\"text\": \"$Density \\\\: [g/cm^{3}]$\"}, \"zeroline\": false}, \"yaxis\": {\"gridwidth\": 2, \"title\": {\"text\": \"$Ionic \\\\: Packing \\\\: Fraction \\\\: [IPF]$\"}, \"zeroline\": false}},\n",
       "                        {\"responsive\": true}\n",
       "                    ).then(function(){\n",
       "                            \n",
       "var gd = document.getElementById('640e4707-a3fc-49be-8c39-d1f2738930d0');\n",
       "var x = new MutationObserver(function (mutations, observer) {{\n",
       "        var display = window.getComputedStyle(gd).display;\n",
       "        if (!display || display === 'none') {{\n",
       "            console.log([gd, 'removed!']);\n",
       "            Plotly.purge(gd);\n",
       "            observer.disconnect();\n",
       "        }}\n",
       "}});\n",
       "\n",
       "// Listen for the removal of the full notebook cells\n",
       "var notebookContainer = gd.closest('#notebook-container');\n",
       "if (notebookContainer) {{\n",
       "    x.observe(notebookContainer, {childList: true});\n",
       "}}\n",
       "\n",
       "// Listen for the clearing of the current output cell\n",
       "var outputEl = gd.closest('.output');\n",
       "if (outputEl) {{\n",
       "    x.observe(outputEl, {childList: true});\n",
       "}}\n",
       "\n",
       "                        })\n",
       "                };\n",
       "                });\n",
       "            </script>\n",
       "        </div>"
      ]
     },
     "metadata": {},
     "output_type": "display_data"
    }
   ],
   "source": [
    "import plotly\n",
    "import plotly.graph_objs as go\n",
    "from plotly.offline import iplot\n",
    "\n",
    "plotly.offline.init_notebook_mode(connected=True)\n",
    "\n",
    "#Layout design. Can change title, font, x/y-axis etc. Commented out pieces are height and width. \n",
    "#For plot in browser I prefer long horizontal plots. For presentations square images may be preferred. \n",
    "#Image can be directly saved by hovering over image and clicking camera icon. \n",
    "layout_IPF = go.Layout(title= \"Oxide Query IPF vs. Density\", hovermode= 'closest',\n",
    "                   font = dict(family='Times New Roman',size=18),\n",
    "                   xaxis= dict(title= '$Density \\: [g/cm^{3}]$',zeroline= False, gridwidth= 2),\n",
    "                   yaxis= dict(title= '$Ionic \\: Packing \\: Fraction \\: [IPF]$',zeroline= False, gridwidth= 2),\n",
    "                   height = 600,\n",
    "                   width = 1200,\n",
    "     showlegend= True                \n",
    ")\n",
    "\n",
    "#Scatter plot of collected data. Use df_oxide_all dataframe. df_oxide_all.Density will pull density column.\n",
    "trace_all = go.Scatter(x = df_oxide.Density, y = df_oxide.IPF, mode = 'markers',\n",
    "                    marker=dict(size=12, color='black'), text = df_oxide.Formula, name = 'All Queries')\n",
    "\n",
    "trace_Al2O3 = go.Scatter(x = df_oxide[(df_oxide.Formula == 'Al2O3') & (df_oxide.E_above_Hull == 0)].loc[:,'Density'],\n",
    "                         y = df_oxide[(df_oxide.Formula == 'Al2O3') & (df_oxide.E_above_Hull == 0)].loc[:,'IPF'],\n",
    "                         mode = 'markers', marker=dict(size=18, color='green'), text = 'Al2O3', name = 'Al2O3')\n",
    "trace_Cr2O3 = go.Scatter(x = df_oxide[(df_oxide.Formula == 'Cr2O3') & (df_oxide.E_above_Hull == 0)].loc[:,'Density'],\n",
    "                         y = df_oxide[(df_oxide.Formula == 'Cr2O3') & (df_oxide.E_above_Hull == 0)].loc[:,'IPF'],\n",
    "                         mode = 'markers', marker=dict(size=18, color='blue'), text = 'Cr2O3', name = 'Cr2O3')\n",
    "trace_Y2O3 = go.Scatter(x = df_oxide[(df_oxide.Formula == 'Y2O3') & (df_oxide.E_above_Hull == 0)].loc[:,'Density'],\n",
    "                        y = df_oxide[(df_oxide.Formula == 'Y2O3') & (df_oxide.E_above_Hull == 0)].loc[:,'IPF'],\n",
    "                        mode = 'markers', marker=dict(size=18, color='orange'), text = 'Y2O3', name = 'Y2O3')\n",
    "trace_SiO2 = go.Scatter(x = df_oxide[(df_oxide.Formula == 'SiO2') & (df_oxide.E_above_Hull == 0)].loc[:,'Density'],\n",
    "                        y = df_oxide[(df_oxide.Formula == 'SiO2') & (df_oxide.E_above_Hull == 0)].loc[:,'IPF'],\n",
    "                        mode = 'markers', marker=dict(size=18, color='magenta'), text = 'SiO2', name = 'SiO2')\n",
    "\n",
    "data_IPF = [trace_all,trace_Al2O3,trace_Cr2O3,trace_Y2O3,trace_SiO2]#,trace0,trace2]\n",
    "fig_IPF = go.Figure(data_IPF, layout=layout_IPF)\n",
    "iplot(fig_IPF)"
   ]
  },
  {
   "cell_type": "markdown",
   "metadata": {},
   "source": [
    "## 3. Filtering data for elasticity"
   ]
  },
  {
   "cell_type": "markdown",
   "metadata": {},
   "source": [
    "### 3.1 Observe the reduction from all oxide species to the limited set for stable structures, and ones with mechanical property data\n"
   ]
  },
  {
   "cell_type": "code",
   "execution_count": 252,
   "metadata": {},
   "outputs": [
    {
     "name": "stdout",
     "output_type": "stream",
     "text": [
      "Number of structures available on the MP database: 5484\n",
      "Number of structures below 1.0 meV and with elasticity data: 94\n"
     ]
    }
   ],
   "source": [
    "print('Number of structures available on the MP database: %s' % len(data))\n",
    "print('Number of structures below %.1f meV and with elasticity data: %s' %(energy_cutoff_value, len(df_oxide)))"
   ]
  },
  {
   "cell_type": "markdown",
   "metadata": {},
   "source": [
    "### 3.2 Pull dataframe column with dictionary of elastic constants. Create separate columns for each value instead of inset in dictionary."
   ]
  },
  {
   "cell_type": "code",
   "execution_count": 253,
   "metadata": {},
   "outputs": [
    {
     "data": {
      "text/html": [
       "<div>\n",
       "<style scoped>\n",
       "    .dataframe tbody tr th:only-of-type {\n",
       "        vertical-align: middle;\n",
       "    }\n",
       "\n",
       "    .dataframe tbody tr th {\n",
       "        vertical-align: top;\n",
       "    }\n",
       "\n",
       "    .dataframe thead th {\n",
       "        text-align: right;\n",
       "    }\n",
       "</style>\n",
       "<table border=\"1\" class=\"dataframe\">\n",
       "  <thead>\n",
       "    <tr style=\"text-align: right;\">\n",
       "      <th></th>\n",
       "      <th>mp_id</th>\n",
       "      <th>Formula</th>\n",
       "      <th>Composition</th>\n",
       "      <th>IPF</th>\n",
       "      <th>Density</th>\n",
       "      <th>Elastic_Tensor</th>\n",
       "      <th>E_above_Hull</th>\n",
       "      <th>G_VRH</th>\n",
       "      <th>K_VRH</th>\n",
       "      <th>Elastic_Anisotropy</th>\n",
       "      <th>poisson_ratio</th>\n",
       "      <th>Y_Modulus</th>\n",
       "    </tr>\n",
       "  </thead>\n",
       "  <tbody>\n",
       "    <tr>\n",
       "      <th>0</th>\n",
       "      <td>mp-1007923</td>\n",
       "      <td>CrNi3</td>\n",
       "      <td>{'Cr': 1.0, 'Ni': 3.0}</td>\n",
       "      <td>0.195062</td>\n",
       "      <td>8.61894</td>\n",
       "      <td>{'G_Reuss': 97.0, 'G_VRH': 105.0, 'G_Voigt': 1...</td>\n",
       "      <td>0.26945</td>\n",
       "      <td>105.0</td>\n",
       "      <td>222.0</td>\n",
       "      <td>0.82</td>\n",
       "      <td>0.29</td>\n",
       "      <td>270.90</td>\n",
       "    </tr>\n",
       "    <tr>\n",
       "      <th>1</th>\n",
       "      <td>mp-12083</td>\n",
       "      <td>CrIr3</td>\n",
       "      <td>{'Cr': 1.0, 'Ir': 3.0}</td>\n",
       "      <td>0.162656</td>\n",
       "      <td>18.6484</td>\n",
       "      <td>{'G_Reuss': 208.0, 'G_VRH': 214.0, 'G_Voigt': ...</td>\n",
       "      <td>0</td>\n",
       "      <td>214.0</td>\n",
       "      <td>307.0</td>\n",
       "      <td>0.28</td>\n",
       "      <td>0.22</td>\n",
       "      <td>522.16</td>\n",
       "    </tr>\n",
       "    <tr>\n",
       "      <th>2</th>\n",
       "      <td>mp-12585</td>\n",
       "      <td>CrRh3</td>\n",
       "      <td>{'Cr': 1.0, 'Rh': 3.0}</td>\n",
       "      <td>0.15708</td>\n",
       "      <td>10.8455</td>\n",
       "      <td>{'G_Reuss': 146.0, 'G_VRH': 151.0, 'G_Voigt': ...</td>\n",
       "      <td>0</td>\n",
       "      <td>151.0</td>\n",
       "      <td>230.0</td>\n",
       "      <td>0.38</td>\n",
       "      <td>0.23</td>\n",
       "      <td>371.46</td>\n",
       "    </tr>\n",
       "    <tr>\n",
       "      <th>3</th>\n",
       "      <td>mp-1425</td>\n",
       "      <td>TiCr2</td>\n",
       "      <td>{'Ti': 1.0, 'Cr': 2.0}</td>\n",
       "      <td>0.236119</td>\n",
       "      <td>6.23741</td>\n",
       "      <td>{'G_Reuss': 75.0, 'G_VRH': 75.0, 'G_Voigt': 75...</td>\n",
       "      <td>0.0768329</td>\n",
       "      <td>75.0</td>\n",
       "      <td>199.0</td>\n",
       "      <td>0.03</td>\n",
       "      <td>0.33</td>\n",
       "      <td>199.50</td>\n",
       "    </tr>\n",
       "    <tr>\n",
       "      <th>4</th>\n",
       "      <td>mp-15617</td>\n",
       "      <td>Cr5B3</td>\n",
       "      <td>{'Cr': 5.0, 'B': 3.0}</td>\n",
       "      <td>0.247747</td>\n",
       "      <td>6.58737</td>\n",
       "      <td>{'G_Reuss': 195.0, 'G_VRH': 196.0, 'G_Voigt': ...</td>\n",
       "      <td>0</td>\n",
       "      <td>196.0</td>\n",
       "      <td>291.0</td>\n",
       "      <td>0.03</td>\n",
       "      <td>0.23</td>\n",
       "      <td>482.16</td>\n",
       "    </tr>\n",
       "    <tr>\n",
       "      <th>...</th>\n",
       "      <td>...</td>\n",
       "      <td>...</td>\n",
       "      <td>...</td>\n",
       "      <td>...</td>\n",
       "      <td>...</td>\n",
       "      <td>...</td>\n",
       "      <td>...</td>\n",
       "      <td>...</td>\n",
       "      <td>...</td>\n",
       "      <td>...</td>\n",
       "      <td>...</td>\n",
       "      <td>...</td>\n",
       "    </tr>\n",
       "    <tr>\n",
       "      <th>89</th>\n",
       "      <td>mp-554252</td>\n",
       "      <td>K2NaCrF6</td>\n",
       "      <td>{'K': 2.0, 'Na': 1.0, 'Cr': 1.0, 'F': 6.0}</td>\n",
       "      <td>0.321992</td>\n",
       "      <td>2.961</td>\n",
       "      <td>{'G_Reuss': 35.0, 'G_VRH': 35.0, 'G_Voigt': 35...</td>\n",
       "      <td>0</td>\n",
       "      <td>35.0</td>\n",
       "      <td>79.0</td>\n",
       "      <td>0.00</td>\n",
       "      <td>0.31</td>\n",
       "      <td>91.70</td>\n",
       "    </tr>\n",
       "    <tr>\n",
       "      <th>90</th>\n",
       "      <td>mp-1024999</td>\n",
       "      <td>HoCr2Si2C</td>\n",
       "      <td>{'Ho': 1.0, 'Cr': 2.0, 'Si': 2.0, 'C': 1.0}</td>\n",
       "      <td>0.160212</td>\n",
       "      <td>6.83768</td>\n",
       "      <td>{'G_Reuss': 110.0, 'G_VRH': 111.0, 'G_Voigt': ...</td>\n",
       "      <td>0</td>\n",
       "      <td>111.0</td>\n",
       "      <td>160.0</td>\n",
       "      <td>0.16</td>\n",
       "      <td>0.22</td>\n",
       "      <td>270.84</td>\n",
       "    </tr>\n",
       "    <tr>\n",
       "      <th>91</th>\n",
       "      <td>mp-31624</td>\n",
       "      <td>Sr2TaCrO6</td>\n",
       "      <td>{'Sr': 2.0, 'Ta': 1.0, 'Cr': 1.0, 'O': 6.0}</td>\n",
       "      <td>0.589968</td>\n",
       "      <td>6.5567</td>\n",
       "      <td>{'G_Reuss': 107.0, 'G_VRH': 107.0, 'G_Voigt': ...</td>\n",
       "      <td>0</td>\n",
       "      <td>107.0</td>\n",
       "      <td>187.0</td>\n",
       "      <td>0.02</td>\n",
       "      <td>0.26</td>\n",
       "      <td>269.64</td>\n",
       "    </tr>\n",
       "    <tr>\n",
       "      <th>92</th>\n",
       "      <td>mp-556264</td>\n",
       "      <td>KRb2CrF6</td>\n",
       "      <td>{'K': 1.0, 'Rb': 2.0, 'Cr': 1.0, 'F': 6.0}</td>\n",
       "      <td>0.358013</td>\n",
       "      <td>3.42239</td>\n",
       "      <td>{'G_Reuss': 25.0, 'G_VRH': 27.0, 'G_Voigt': 28...</td>\n",
       "      <td>0.343295</td>\n",
       "      <td>27.0</td>\n",
       "      <td>36.0</td>\n",
       "      <td>0.48</td>\n",
       "      <td>0.21</td>\n",
       "      <td>65.34</td>\n",
       "    </tr>\n",
       "    <tr>\n",
       "      <th>93</th>\n",
       "      <td>mp-560936</td>\n",
       "      <td>Rb2NaCrF6</td>\n",
       "      <td>{'Rb': 2.0, 'Na': 1.0, 'Cr': 1.0, 'F': 6.0}</td>\n",
       "      <td>0.360392</td>\n",
       "      <td>3.76911</td>\n",
       "      <td>{'G_Reuss': 26.0, 'G_VRH': 27.0, 'G_Voigt': 27...</td>\n",
       "      <td>0</td>\n",
       "      <td>27.0</td>\n",
       "      <td>36.0</td>\n",
       "      <td>0.17</td>\n",
       "      <td>0.20</td>\n",
       "      <td>64.80</td>\n",
       "    </tr>\n",
       "  </tbody>\n",
       "</table>\n",
       "<p>94 rows × 12 columns</p>\n",
       "</div>"
      ],
      "text/plain": [
       "         mp_id    Formula                                  Composition  \\\n",
       "0   mp-1007923      CrNi3                       {'Cr': 1.0, 'Ni': 3.0}   \n",
       "1     mp-12083      CrIr3                       {'Cr': 1.0, 'Ir': 3.0}   \n",
       "2     mp-12585      CrRh3                       {'Cr': 1.0, 'Rh': 3.0}   \n",
       "3      mp-1425      TiCr2                       {'Ti': 1.0, 'Cr': 2.0}   \n",
       "4     mp-15617      Cr5B3                        {'Cr': 5.0, 'B': 3.0}   \n",
       "..         ...        ...                                          ...   \n",
       "89   mp-554252   K2NaCrF6   {'K': 2.0, 'Na': 1.0, 'Cr': 1.0, 'F': 6.0}   \n",
       "90  mp-1024999  HoCr2Si2C  {'Ho': 1.0, 'Cr': 2.0, 'Si': 2.0, 'C': 1.0}   \n",
       "91    mp-31624  Sr2TaCrO6  {'Sr': 2.0, 'Ta': 1.0, 'Cr': 1.0, 'O': 6.0}   \n",
       "92   mp-556264   KRb2CrF6   {'K': 1.0, 'Rb': 2.0, 'Cr': 1.0, 'F': 6.0}   \n",
       "93   mp-560936  Rb2NaCrF6  {'Rb': 2.0, 'Na': 1.0, 'Cr': 1.0, 'F': 6.0}   \n",
       "\n",
       "         IPF  Density                                     Elastic_Tensor  \\\n",
       "0   0.195062  8.61894  {'G_Reuss': 97.0, 'G_VRH': 105.0, 'G_Voigt': 1...   \n",
       "1   0.162656  18.6484  {'G_Reuss': 208.0, 'G_VRH': 214.0, 'G_Voigt': ...   \n",
       "2    0.15708  10.8455  {'G_Reuss': 146.0, 'G_VRH': 151.0, 'G_Voigt': ...   \n",
       "3   0.236119  6.23741  {'G_Reuss': 75.0, 'G_VRH': 75.0, 'G_Voigt': 75...   \n",
       "4   0.247747  6.58737  {'G_Reuss': 195.0, 'G_VRH': 196.0, 'G_Voigt': ...   \n",
       "..       ...      ...                                                ...   \n",
       "89  0.321992    2.961  {'G_Reuss': 35.0, 'G_VRH': 35.0, 'G_Voigt': 35...   \n",
       "90  0.160212  6.83768  {'G_Reuss': 110.0, 'G_VRH': 111.0, 'G_Voigt': ...   \n",
       "91  0.589968   6.5567  {'G_Reuss': 107.0, 'G_VRH': 107.0, 'G_Voigt': ...   \n",
       "92  0.358013  3.42239  {'G_Reuss': 25.0, 'G_VRH': 27.0, 'G_Voigt': 28...   \n",
       "93  0.360392  3.76911  {'G_Reuss': 26.0, 'G_VRH': 27.0, 'G_Voigt': 27...   \n",
       "\n",
       "   E_above_Hull  G_VRH  K_VRH  Elastic_Anisotropy  poisson_ratio  Y_Modulus  \n",
       "0       0.26945  105.0  222.0                0.82           0.29     270.90  \n",
       "1             0  214.0  307.0                0.28           0.22     522.16  \n",
       "2             0  151.0  230.0                0.38           0.23     371.46  \n",
       "3     0.0768329   75.0  199.0                0.03           0.33     199.50  \n",
       "4             0  196.0  291.0                0.03           0.23     482.16  \n",
       "..          ...    ...    ...                 ...            ...        ...  \n",
       "89            0   35.0   79.0                0.00           0.31      91.70  \n",
       "90            0  111.0  160.0                0.16           0.22     270.84  \n",
       "91            0  107.0  187.0                0.02           0.26     269.64  \n",
       "92     0.343295   27.0   36.0                0.48           0.21      65.34  \n",
       "93            0   27.0   36.0                0.17           0.20      64.80  \n",
       "\n",
       "[94 rows x 12 columns]"
      ]
     },
     "metadata": {},
     "output_type": "display_data"
    }
   ],
   "source": [
    "#Pull dataframe column with dictionary of elastic constants\n",
    "elastics = df_oxide.Elastic_Tensor\n",
    "G_VRH = []\n",
    "K_VRH = []\n",
    "Elastic_Anisotropy = []\n",
    "poisson_ratio = []\n",
    "Y_Modulus = []\n",
    "\n",
    "for k in elastics.index: #len(df_oxide))\n",
    "    G_VRH.append(elastics[k].get('G_VRH'))\n",
    "    K_VRH.append(elastics[k].get('K_VRH'))\n",
    "\n",
    "    Elastic_Anisotropy.append(elastics[k].get('elastic_anisotropy'))\n",
    "    poisson_ratio.append(elastics[k].get('poisson_ratio'))\n",
    "    Y_Modulus.append(2*elastics[k].get('G_VRH')*(1+elastics[k].get('poisson_ratio')))\n",
    "    \n",
    "elasticity_data = np.column_stack((G_VRH, K_VRH, Elastic_Anisotropy, poisson_ratio, Y_Modulus))\n",
    "\n",
    "df_elasticity = pd.DataFrame(elasticity_data,columns=[\"G_VRH\", \n",
    "                                                      \"K_VRH\", \n",
    "                                                      \"Elastic_Anisotropy\", \n",
    "                                                      \"poisson_ratio\",\n",
    "                                                     \"Y_Modulus\"])\n",
    "\n",
    "\n",
    "\n",
    "df_oxide = df_oxide.reset_index(drop=True)\n",
    "df_elasticity = df_elasticity.reset_index(drop=True)\n",
    "df_oxide = pd.concat([df_oxide,df_elasticity],axis=1)\n",
    "display(df_oxide)\n",
    "\n",
    "#Remove erroneous poisson ratios\n",
    "void_test = []\n",
    "row_delete = []\n",
    "for k in range(0,len(df_elasticity)):\n",
    "    if df_oxide['poisson_ratio'].iloc[k] < 0:\n",
    "        row_delete.append(k)\n",
    "        \n",
    "\n",
    "index = df_oxide.index[row_delete]\n",
    "df_oxide.drop(index,axis=0,inplace=True)"
   ]
  },
  {
   "cell_type": "code",
   "execution_count": 254,
   "metadata": {},
   "outputs": [],
   "source": [
    "# export all the dataframes for all seven datasets.\n",
    "df_oxide.to_csv (r'C:\\Users\\Kayla Yano\\Class\\Trial\\Cr_coumpounds_dataframe.csv', index = True, header=True)\n"
   ]
  },
  {
   "cell_type": "markdown",
   "metadata": {},
   "source": [
    "### 3.3.1 Plot material properties from dataframe"
   ]
  },
  {
   "cell_type": "code",
   "execution_count": 255,
   "metadata": {},
   "outputs": [
    {
     "data": {
      "application/vnd.plotly.v1+json": {
       "config": {
        "linkText": "Export to plot.ly",
        "plotlyServerURL": "https://plot.ly",
        "showLink": false
       },
       "data": [
        {
         "marker": {
          "color": "black",
          "size": 12
         },
         "mode": "markers",
         "name": "All Queries",
         "text": [
          "CrNi3",
          "CrIr3",
          "CrRh3",
          "TiCr2",
          "Cr5B3",
          "Cr2B",
          "Be12Cr",
          "AlCr2",
          "CrO2",
          "Cr2O3",
          "Cr3Ge",
          "Cr3C2",
          "CrP",
          "TaCr2",
          "CrH",
          "CrBr3",
          "Be2Cr",
          "NbCr2",
          "CrF3",
          "TiCr2",
          "CrF5",
          "Cr23C6",
          "Cr3Si",
          "CrP4",
          "CrNi2",
          "HfCr2",
          "Al3Cr",
          "Cr2N",
          "CrSi2",
          "ZrCr2",
          "CrS2",
          "U2CrN3",
          "Mn(CrSe2)2",
          "Dy2Cr2C3",
          "Y2Cr2C3",
          "Mg2CrN3",
          "MgCrO4",
          "Cr2GaC",
          "CrAgS2",
          "CrCuO2",
          "AlCrRu2",
          "Mn2CrCo",
          "Ta2CrRu",
          "Tm2Cr2C3",
          "Tb2Cr2C3",
          "Zn2CrN3",
          "Li6CrN4",
          "TiCrP",
          "CrTe4Au",
          "Sr3CrN3",
          "LiCrO2",
          "Cr2GeC",
          "NbCrP",
          "Zn(CrSe2)2",
          "CrNiAs",
          "ScCrC2",
          "Rb2CrF6",
          "NaCrS2",
          "AlCr3B4",
          "Ho2Cr2C3",
          "V2CrFe",
          "V2CrRu",
          "Ca3CrN3",
          "BeCrRu2",
          "CrAuO2",
          "Ca2CrN3",
          "Na2CrO4",
          "LaCrO3",
          "CrAgO2",
          "U(Cr3P2)2",
          "LiCrS2",
          "CrCuO2",
          "CrCuS2",
          "Al(CrB)2",
          "MnV2Cr",
          "Mn2AlCr",
          "V2CrRe",
          "V2CrTc",
          "AlCr2C",
          "NaCrN2",
          "Cr3PtN",
          "CrPbO4",
          "CrBO3",
          "CrFeP",
          "Cs2CrCl4",
          "CrAgSe2",
          "KCrS2",
          "Ti2CrIr",
          "V2CrOs",
          "K2NaCrF6",
          "HoCr2Si2C",
          "Sr2TaCrO6",
          "KRb2CrF6",
          "Rb2NaCrF6"
         ],
         "type": "scatter",
         "x": [
          8.618942228355627,
          18.648438637883746,
          10.84546252759207,
          6.237410464246428,
          6.587365888141499,
          6.74214767317177,
          2.4927677331272613,
          5.7487220093605655,
          4.629940044129016,
          4.904330346354213,
          7.860403725285878,
          6.795180037110503,
          5.669873692732649,
          11.337189772845669,
          6.523424750290262,
          3.9426479166303237,
          4.407724434965535,
          7.767773427042093,
          3.5669247234196084,
          6.234565438345089,
          2.8421885259820887,
          7.167799814901859,
          6.625100603199788,
          3.8964816589730242,
          8.62090716505294,
          10.507988985740106,
          3.815305621002482,
          6.7238252617052074,
          5.015722493546895,
          7.109106915706326,
          3.082703604081153,
          12.702454774680787,
          5.460394618462859,
          8.179075697402185,
          5.553900997962683,
          3.260071635851983,
          3.05233891041771,
          6.887637715111307,
          5.029493161129396,
          5.308605260477462,
          8.726919257450142,
          7.716185764584853,
          13.841976533809055,
          8.691772497279294,
          7.969868448138059,
          5.325875173010978,
          2.4147376439978294,
          5.652777279831061,
          7.343432517848616,
          4.252480902143335,
          4.101010951132802,
          6.955160667078985,
          7.08015918030501,
          5.405418835718923,
          7.617337309351947,
          4.839726525303591,
          3.362947299970635,
          3.184247031786236,
          5.37477494738821,
          8.354270274164262,
          7.348434423639102,
          8.13776016770855,
          3.241737275435285,
          9.069538941582902,
          9.220117847189515,
          3.45200033366467,
          2.6668803392777396,
          6.457324685036008,
          6.2807590535860705,
          7.845540020791599,
          3.206621000276271,
          5.295622147539851,
          4.535384722119756,
          5.327369116401093,
          7.151615099984709,
          6.653173672646668,
          10.618552634076526,
          7.954744598658002,
          5.338343678602588,
          3.1468044436563316,
          10.702691061931008,
          5.727997990762413,
          4.046621554470586,
          6.917186606244874,
          3.38253758452127,
          6.112507624833568,
          3.1156170519728943,
          9.760395641571574,
          10.87437113588139,
          2.961003060116674,
          6.837675236213143,
          6.5567001162891705,
          3.4223925170351,
          3.7691076621050534
         ],
         "y": [
          0.19506227964170328,
          0.16265587848954338,
          0.1570796725376378,
          0.2361187106085201,
          0.24774722484474077,
          0.2563021389899549,
          0.12938625172641777,
          0.2179763745645678,
          0.6717833109454248,
          0.6236802645650456,
          0.25569594891107095,
          0.24241566019650554,
          0.17185803174471548,
          0.22206583085140572,
          0.25786343498060305,
          0.09861623589011954,
          0.1971153381300115,
          0.22018302293731337,
          0.1553506880054651,
          0.23601101145174302,
          0.1259699161991152,
          0.2747221133703715,
          0.24052342953336306,
          0.08360344047509523,
          0.21068808361646363,
          0.2135036831793972,
          0.12692535894556395,
          0.27471825790231685,
          0.1339915699674806,
          0.21102895808553396,
          0.14688742941279534,
          0.19833920873131694,
          0.17685315510160693,
          0.20567280948404654,
          0.17595993157773185,
          0.1644918212290103,
          0.5196171533199488,
          0.19899136622143945,
          0.1969225846655681,
          0.48854887973143163,
          0.13435813520259343,
          0.16124730899562761,
          0.1506714630260463,
          0.20040259474366634,
          0.15952696464739338,
          0.17589646156473873,
          0.25252462338586373,
          0.17598031235210257,
          0.26124208099232776,
          0.25491322616438944,
          0.6325518268188539,
          0.19946788175199787,
          0.1572309543457913,
          0.18278645160459084,
          0.1576976945005799,
          0.1592228271622383,
          0.304196500158342,
          0.21677685689229792,
          0.18429915123889223,
          0.1793254241930702,
          0.21125710640798703,
          0.16581766177822757,
          0.22997407535577238,
          0.1402854694935468,
          0.5013514447656467,
          0.22717051366390925,
          0.49648790671733145,
          0.5755707750771784,
          0.5049200139207471,
          0.19450026007920224,
          0.1920896057243322,
          0.4873540488917158,
          0.17478288436461,
          0.18551673443147967,
          0.17650989739139825,
          0.14957876584977206,
          0.16794362141601393,
          0.17355735790482,
          0.18795581585805776,
          0.22284835930391675,
          0.2413369576025658,
          0.45809199547076046,
          0.6357121414301129,
          0.20319535636095956,
          0.2708245837459332,
          0.20353629527178949,
          0.2888715868700108,
          0.18206278900975875,
          0.16544434484656056,
          0.3219916823811531,
          0.16021224501401982,
          0.5899682901836628,
          0.3580129364525934,
          0.36039224893156524
         ]
        },
        {
         "marker": {
          "color": "green",
          "size": 18
         },
         "mode": "markers",
         "name": "TiC",
         "text": "TiC",
         "type": "scatter",
         "x": [],
         "y": []
        },
        {
         "marker": {
          "color": "blue",
          "size": 18
         },
         "mode": "markers",
         "name": "TiN",
         "text": "TiN",
         "type": "scatter",
         "x": [],
         "y": []
        },
        {
         "marker": {
          "color": "orange",
          "size": 18
         },
         "mode": "markers",
         "name": "TiB",
         "text": "TiB",
         "type": "scatter",
         "x": [],
         "y": []
        },
        {
         "marker": {
          "color": "magenta",
          "size": 18
         },
         "mode": "markers",
         "name": "TiO2",
         "text": "TiO2",
         "type": "scatter",
         "x": [],
         "y": []
        }
       ],
       "layout": {
        "font": {
         "family": "Times New Roman",
         "size": 18
        },
        "height": 600,
        "hovermode": "closest",
        "showlegend": true,
        "template": {
         "data": {
          "bar": [
           {
            "error_x": {
             "color": "#2a3f5f"
            },
            "error_y": {
             "color": "#2a3f5f"
            },
            "marker": {
             "line": {
              "color": "#E5ECF6",
              "width": 0.5
             }
            },
            "type": "bar"
           }
          ],
          "barpolar": [
           {
            "marker": {
             "line": {
              "color": "#E5ECF6",
              "width": 0.5
             }
            },
            "type": "barpolar"
           }
          ],
          "carpet": [
           {
            "aaxis": {
             "endlinecolor": "#2a3f5f",
             "gridcolor": "white",
             "linecolor": "white",
             "minorgridcolor": "white",
             "startlinecolor": "#2a3f5f"
            },
            "baxis": {
             "endlinecolor": "#2a3f5f",
             "gridcolor": "white",
             "linecolor": "white",
             "minorgridcolor": "white",
             "startlinecolor": "#2a3f5f"
            },
            "type": "carpet"
           }
          ],
          "choropleth": [
           {
            "colorbar": {
             "outlinewidth": 0,
             "ticks": ""
            },
            "type": "choropleth"
           }
          ],
          "contour": [
           {
            "colorbar": {
             "outlinewidth": 0,
             "ticks": ""
            },
            "colorscale": [
             [
              0,
              "#0d0887"
             ],
             [
              0.1111111111111111,
              "#46039f"
             ],
             [
              0.2222222222222222,
              "#7201a8"
             ],
             [
              0.3333333333333333,
              "#9c179e"
             ],
             [
              0.4444444444444444,
              "#bd3786"
             ],
             [
              0.5555555555555556,
              "#d8576b"
             ],
             [
              0.6666666666666666,
              "#ed7953"
             ],
             [
              0.7777777777777778,
              "#fb9f3a"
             ],
             [
              0.8888888888888888,
              "#fdca26"
             ],
             [
              1,
              "#f0f921"
             ]
            ],
            "type": "contour"
           }
          ],
          "contourcarpet": [
           {
            "colorbar": {
             "outlinewidth": 0,
             "ticks": ""
            },
            "type": "contourcarpet"
           }
          ],
          "heatmap": [
           {
            "colorbar": {
             "outlinewidth": 0,
             "ticks": ""
            },
            "colorscale": [
             [
              0,
              "#0d0887"
             ],
             [
              0.1111111111111111,
              "#46039f"
             ],
             [
              0.2222222222222222,
              "#7201a8"
             ],
             [
              0.3333333333333333,
              "#9c179e"
             ],
             [
              0.4444444444444444,
              "#bd3786"
             ],
             [
              0.5555555555555556,
              "#d8576b"
             ],
             [
              0.6666666666666666,
              "#ed7953"
             ],
             [
              0.7777777777777778,
              "#fb9f3a"
             ],
             [
              0.8888888888888888,
              "#fdca26"
             ],
             [
              1,
              "#f0f921"
             ]
            ],
            "type": "heatmap"
           }
          ],
          "heatmapgl": [
           {
            "colorbar": {
             "outlinewidth": 0,
             "ticks": ""
            },
            "colorscale": [
             [
              0,
              "#0d0887"
             ],
             [
              0.1111111111111111,
              "#46039f"
             ],
             [
              0.2222222222222222,
              "#7201a8"
             ],
             [
              0.3333333333333333,
              "#9c179e"
             ],
             [
              0.4444444444444444,
              "#bd3786"
             ],
             [
              0.5555555555555556,
              "#d8576b"
             ],
             [
              0.6666666666666666,
              "#ed7953"
             ],
             [
              0.7777777777777778,
              "#fb9f3a"
             ],
             [
              0.8888888888888888,
              "#fdca26"
             ],
             [
              1,
              "#f0f921"
             ]
            ],
            "type": "heatmapgl"
           }
          ],
          "histogram": [
           {
            "marker": {
             "colorbar": {
              "outlinewidth": 0,
              "ticks": ""
             }
            },
            "type": "histogram"
           }
          ],
          "histogram2d": [
           {
            "colorbar": {
             "outlinewidth": 0,
             "ticks": ""
            },
            "colorscale": [
             [
              0,
              "#0d0887"
             ],
             [
              0.1111111111111111,
              "#46039f"
             ],
             [
              0.2222222222222222,
              "#7201a8"
             ],
             [
              0.3333333333333333,
              "#9c179e"
             ],
             [
              0.4444444444444444,
              "#bd3786"
             ],
             [
              0.5555555555555556,
              "#d8576b"
             ],
             [
              0.6666666666666666,
              "#ed7953"
             ],
             [
              0.7777777777777778,
              "#fb9f3a"
             ],
             [
              0.8888888888888888,
              "#fdca26"
             ],
             [
              1,
              "#f0f921"
             ]
            ],
            "type": "histogram2d"
           }
          ],
          "histogram2dcontour": [
           {
            "colorbar": {
             "outlinewidth": 0,
             "ticks": ""
            },
            "colorscale": [
             [
              0,
              "#0d0887"
             ],
             [
              0.1111111111111111,
              "#46039f"
             ],
             [
              0.2222222222222222,
              "#7201a8"
             ],
             [
              0.3333333333333333,
              "#9c179e"
             ],
             [
              0.4444444444444444,
              "#bd3786"
             ],
             [
              0.5555555555555556,
              "#d8576b"
             ],
             [
              0.6666666666666666,
              "#ed7953"
             ],
             [
              0.7777777777777778,
              "#fb9f3a"
             ],
             [
              0.8888888888888888,
              "#fdca26"
             ],
             [
              1,
              "#f0f921"
             ]
            ],
            "type": "histogram2dcontour"
           }
          ],
          "mesh3d": [
           {
            "colorbar": {
             "outlinewidth": 0,
             "ticks": ""
            },
            "type": "mesh3d"
           }
          ],
          "parcoords": [
           {
            "line": {
             "colorbar": {
              "outlinewidth": 0,
              "ticks": ""
             }
            },
            "type": "parcoords"
           }
          ],
          "pie": [
           {
            "automargin": true,
            "type": "pie"
           }
          ],
          "scatter": [
           {
            "marker": {
             "colorbar": {
              "outlinewidth": 0,
              "ticks": ""
             }
            },
            "type": "scatter"
           }
          ],
          "scatter3d": [
           {
            "line": {
             "colorbar": {
              "outlinewidth": 0,
              "ticks": ""
             }
            },
            "marker": {
             "colorbar": {
              "outlinewidth": 0,
              "ticks": ""
             }
            },
            "type": "scatter3d"
           }
          ],
          "scattercarpet": [
           {
            "marker": {
             "colorbar": {
              "outlinewidth": 0,
              "ticks": ""
             }
            },
            "type": "scattercarpet"
           }
          ],
          "scattergeo": [
           {
            "marker": {
             "colorbar": {
              "outlinewidth": 0,
              "ticks": ""
             }
            },
            "type": "scattergeo"
           }
          ],
          "scattergl": [
           {
            "marker": {
             "colorbar": {
              "outlinewidth": 0,
              "ticks": ""
             }
            },
            "type": "scattergl"
           }
          ],
          "scattermapbox": [
           {
            "marker": {
             "colorbar": {
              "outlinewidth": 0,
              "ticks": ""
             }
            },
            "type": "scattermapbox"
           }
          ],
          "scatterpolar": [
           {
            "marker": {
             "colorbar": {
              "outlinewidth": 0,
              "ticks": ""
             }
            },
            "type": "scatterpolar"
           }
          ],
          "scatterpolargl": [
           {
            "marker": {
             "colorbar": {
              "outlinewidth": 0,
              "ticks": ""
             }
            },
            "type": "scatterpolargl"
           }
          ],
          "scatterternary": [
           {
            "marker": {
             "colorbar": {
              "outlinewidth": 0,
              "ticks": ""
             }
            },
            "type": "scatterternary"
           }
          ],
          "surface": [
           {
            "colorbar": {
             "outlinewidth": 0,
             "ticks": ""
            },
            "colorscale": [
             [
              0,
              "#0d0887"
             ],
             [
              0.1111111111111111,
              "#46039f"
             ],
             [
              0.2222222222222222,
              "#7201a8"
             ],
             [
              0.3333333333333333,
              "#9c179e"
             ],
             [
              0.4444444444444444,
              "#bd3786"
             ],
             [
              0.5555555555555556,
              "#d8576b"
             ],
             [
              0.6666666666666666,
              "#ed7953"
             ],
             [
              0.7777777777777778,
              "#fb9f3a"
             ],
             [
              0.8888888888888888,
              "#fdca26"
             ],
             [
              1,
              "#f0f921"
             ]
            ],
            "type": "surface"
           }
          ],
          "table": [
           {
            "cells": {
             "fill": {
              "color": "#EBF0F8"
             },
             "line": {
              "color": "white"
             }
            },
            "header": {
             "fill": {
              "color": "#C8D4E3"
             },
             "line": {
              "color": "white"
             }
            },
            "type": "table"
           }
          ]
         },
         "layout": {
          "annotationdefaults": {
           "arrowcolor": "#2a3f5f",
           "arrowhead": 0,
           "arrowwidth": 1
          },
          "coloraxis": {
           "colorbar": {
            "outlinewidth": 0,
            "ticks": ""
           }
          },
          "colorscale": {
           "diverging": [
            [
             0,
             "#8e0152"
            ],
            [
             0.1,
             "#c51b7d"
            ],
            [
             0.2,
             "#de77ae"
            ],
            [
             0.3,
             "#f1b6da"
            ],
            [
             0.4,
             "#fde0ef"
            ],
            [
             0.5,
             "#f7f7f7"
            ],
            [
             0.6,
             "#e6f5d0"
            ],
            [
             0.7,
             "#b8e186"
            ],
            [
             0.8,
             "#7fbc41"
            ],
            [
             0.9,
             "#4d9221"
            ],
            [
             1,
             "#276419"
            ]
           ],
           "sequential": [
            [
             0,
             "#0d0887"
            ],
            [
             0.1111111111111111,
             "#46039f"
            ],
            [
             0.2222222222222222,
             "#7201a8"
            ],
            [
             0.3333333333333333,
             "#9c179e"
            ],
            [
             0.4444444444444444,
             "#bd3786"
            ],
            [
             0.5555555555555556,
             "#d8576b"
            ],
            [
             0.6666666666666666,
             "#ed7953"
            ],
            [
             0.7777777777777778,
             "#fb9f3a"
            ],
            [
             0.8888888888888888,
             "#fdca26"
            ],
            [
             1,
             "#f0f921"
            ]
           ],
           "sequentialminus": [
            [
             0,
             "#0d0887"
            ],
            [
             0.1111111111111111,
             "#46039f"
            ],
            [
             0.2222222222222222,
             "#7201a8"
            ],
            [
             0.3333333333333333,
             "#9c179e"
            ],
            [
             0.4444444444444444,
             "#bd3786"
            ],
            [
             0.5555555555555556,
             "#d8576b"
            ],
            [
             0.6666666666666666,
             "#ed7953"
            ],
            [
             0.7777777777777778,
             "#fb9f3a"
            ],
            [
             0.8888888888888888,
             "#fdca26"
            ],
            [
             1,
             "#f0f921"
            ]
           ]
          },
          "colorway": [
           "#636efa",
           "#EF553B",
           "#00cc96",
           "#ab63fa",
           "#FFA15A",
           "#19d3f3",
           "#FF6692",
           "#B6E880",
           "#FF97FF",
           "#FECB52"
          ],
          "font": {
           "color": "#2a3f5f"
          },
          "geo": {
           "bgcolor": "white",
           "lakecolor": "white",
           "landcolor": "#E5ECF6",
           "showlakes": true,
           "showland": true,
           "subunitcolor": "white"
          },
          "hoverlabel": {
           "align": "left"
          },
          "hovermode": "closest",
          "mapbox": {
           "style": "light"
          },
          "paper_bgcolor": "white",
          "plot_bgcolor": "#E5ECF6",
          "polar": {
           "angularaxis": {
            "gridcolor": "white",
            "linecolor": "white",
            "ticks": ""
           },
           "bgcolor": "#E5ECF6",
           "radialaxis": {
            "gridcolor": "white",
            "linecolor": "white",
            "ticks": ""
           }
          },
          "scene": {
           "xaxis": {
            "backgroundcolor": "#E5ECF6",
            "gridcolor": "white",
            "gridwidth": 2,
            "linecolor": "white",
            "showbackground": true,
            "ticks": "",
            "zerolinecolor": "white"
           },
           "yaxis": {
            "backgroundcolor": "#E5ECF6",
            "gridcolor": "white",
            "gridwidth": 2,
            "linecolor": "white",
            "showbackground": true,
            "ticks": "",
            "zerolinecolor": "white"
           },
           "zaxis": {
            "backgroundcolor": "#E5ECF6",
            "gridcolor": "white",
            "gridwidth": 2,
            "linecolor": "white",
            "showbackground": true,
            "ticks": "",
            "zerolinecolor": "white"
           }
          },
          "shapedefaults": {
           "line": {
            "color": "#2a3f5f"
           }
          },
          "ternary": {
           "aaxis": {
            "gridcolor": "white",
            "linecolor": "white",
            "ticks": ""
           },
           "baxis": {
            "gridcolor": "white",
            "linecolor": "white",
            "ticks": ""
           },
           "bgcolor": "#E5ECF6",
           "caxis": {
            "gridcolor": "white",
            "linecolor": "white",
            "ticks": ""
           }
          },
          "title": {
           "x": 0.05
          },
          "xaxis": {
           "automargin": true,
           "gridcolor": "white",
           "linecolor": "white",
           "ticks": "",
           "title": {
            "standoff": 15
           },
           "zerolinecolor": "white",
           "zerolinewidth": 2
          },
          "yaxis": {
           "automargin": true,
           "gridcolor": "white",
           "linecolor": "white",
           "ticks": "",
           "title": {
            "standoff": 15
           },
           "zerolinecolor": "white",
           "zerolinewidth": 2
          }
         }
        },
        "title": {
         "text": "Ti_based Query IPF vs. Density"
        },
        "width": 1200,
        "xaxis": {
         "gridwidth": 2,
         "title": {
          "text": "$Density \\: [g/cm^{3}]$"
         },
         "zeroline": false
        },
        "yaxis": {
         "gridwidth": 2,
         "title": {
          "text": "$Ionic Packing Fraction \\: [IPF]$"
         },
         "zeroline": false
        }
       }
      },
      "text/html": [
       "<div>\n",
       "        \n",
       "        \n",
       "            <div id=\"7f238a76-5017-497c-b322-7d1e537fd827\" class=\"plotly-graph-div\" style=\"height:600px; width:1200px;\"></div>\n",
       "            <script type=\"text/javascript\">\n",
       "                require([\"plotly\"], function(Plotly) {\n",
       "                    window.PLOTLYENV=window.PLOTLYENV || {};\n",
       "                    \n",
       "                if (document.getElementById(\"7f238a76-5017-497c-b322-7d1e537fd827\")) {\n",
       "                    Plotly.newPlot(\n",
       "                        '7f238a76-5017-497c-b322-7d1e537fd827',\n",
       "                        [{\"marker\": {\"color\": \"black\", \"size\": 12}, \"mode\": \"markers\", \"name\": \"All Queries\", \"text\": [\"CrNi3\", \"CrIr3\", \"CrRh3\", \"TiCr2\", \"Cr5B3\", \"Cr2B\", \"Be12Cr\", \"AlCr2\", \"CrO2\", \"Cr2O3\", \"Cr3Ge\", \"Cr3C2\", \"CrP\", \"TaCr2\", \"CrH\", \"CrBr3\", \"Be2Cr\", \"NbCr2\", \"CrF3\", \"TiCr2\", \"CrF5\", \"Cr23C6\", \"Cr3Si\", \"CrP4\", \"CrNi2\", \"HfCr2\", \"Al3Cr\", \"Cr2N\", \"CrSi2\", \"ZrCr2\", \"CrS2\", \"U2CrN3\", \"Mn(CrSe2)2\", \"Dy2Cr2C3\", \"Y2Cr2C3\", \"Mg2CrN3\", \"MgCrO4\", \"Cr2GaC\", \"CrAgS2\", \"CrCuO2\", \"AlCrRu2\", \"Mn2CrCo\", \"Ta2CrRu\", \"Tm2Cr2C3\", \"Tb2Cr2C3\", \"Zn2CrN3\", \"Li6CrN4\", \"TiCrP\", \"CrTe4Au\", \"Sr3CrN3\", \"LiCrO2\", \"Cr2GeC\", \"NbCrP\", \"Zn(CrSe2)2\", \"CrNiAs\", \"ScCrC2\", \"Rb2CrF6\", \"NaCrS2\", \"AlCr3B4\", \"Ho2Cr2C3\", \"V2CrFe\", \"V2CrRu\", \"Ca3CrN3\", \"BeCrRu2\", \"CrAuO2\", \"Ca2CrN3\", \"Na2CrO4\", \"LaCrO3\", \"CrAgO2\", \"U(Cr3P2)2\", \"LiCrS2\", \"CrCuO2\", \"CrCuS2\", \"Al(CrB)2\", \"MnV2Cr\", \"Mn2AlCr\", \"V2CrRe\", \"V2CrTc\", \"AlCr2C\", \"NaCrN2\", \"Cr3PtN\", \"CrPbO4\", \"CrBO3\", \"CrFeP\", \"Cs2CrCl4\", \"CrAgSe2\", \"KCrS2\", \"Ti2CrIr\", \"V2CrOs\", \"K2NaCrF6\", \"HoCr2Si2C\", \"Sr2TaCrO6\", \"KRb2CrF6\", \"Rb2NaCrF6\"], \"type\": \"scatter\", \"x\": [8.618942228355627, 18.648438637883746, 10.84546252759207, 6.237410464246428, 6.587365888141499, 6.74214767317177, 2.4927677331272613, 5.7487220093605655, 4.629940044129016, 4.904330346354213, 7.860403725285878, 6.795180037110503, 5.669873692732649, 11.337189772845669, 6.523424750290262, 3.9426479166303237, 4.407724434965535, 7.767773427042093, 3.5669247234196084, 6.234565438345089, 2.8421885259820887, 7.167799814901859, 6.625100603199788, 3.8964816589730242, 8.62090716505294, 10.507988985740106, 3.815305621002482, 6.7238252617052074, 5.015722493546895, 7.109106915706326, 3.082703604081153, 12.702454774680787, 5.460394618462859, 8.179075697402185, 5.553900997962683, 3.260071635851983, 3.05233891041771, 6.887637715111307, 5.029493161129396, 5.308605260477462, 8.726919257450142, 7.716185764584853, 13.841976533809055, 8.691772497279294, 7.969868448138059, 5.325875173010978, 2.4147376439978294, 5.652777279831061, 7.343432517848616, 4.252480902143335, 4.101010951132802, 6.955160667078985, 7.08015918030501, 5.405418835718923, 7.617337309351947, 4.839726525303591, 3.362947299970635, 3.184247031786236, 5.37477494738821, 8.354270274164262, 7.348434423639102, 8.13776016770855, 3.241737275435285, 9.069538941582902, 9.220117847189515, 3.45200033366467, 2.6668803392777396, 6.457324685036008, 6.2807590535860705, 7.845540020791599, 3.206621000276271, 5.295622147539851, 4.535384722119756, 5.327369116401093, 7.151615099984709, 6.653173672646668, 10.618552634076526, 7.954744598658002, 5.338343678602588, 3.1468044436563316, 10.702691061931008, 5.727997990762413, 4.046621554470586, 6.917186606244874, 3.38253758452127, 6.112507624833568, 3.1156170519728943, 9.760395641571574, 10.87437113588139, 2.961003060116674, 6.837675236213143, 6.5567001162891705, 3.4223925170351, 3.7691076621050534], \"y\": [0.19506227964170328, 0.16265587848954338, 0.1570796725376378, 0.2361187106085201, 0.24774722484474077, 0.2563021389899549, 0.12938625172641777, 0.2179763745645678, 0.6717833109454248, 0.6236802645650456, 0.25569594891107095, 0.24241566019650554, 0.17185803174471548, 0.22206583085140572, 0.25786343498060305, 0.09861623589011954, 0.1971153381300115, 0.22018302293731337, 0.1553506880054651, 0.23601101145174302, 0.1259699161991152, 0.2747221133703715, 0.24052342953336306, 0.08360344047509523, 0.21068808361646363, 0.2135036831793972, 0.12692535894556395, 0.27471825790231685, 0.1339915699674806, 0.21102895808553396, 0.14688742941279534, 0.19833920873131694, 0.17685315510160693, 0.20567280948404654, 0.17595993157773185, 0.1644918212290103, 0.5196171533199488, 0.19899136622143945, 0.1969225846655681, 0.48854887973143163, 0.13435813520259343, 0.16124730899562761, 0.1506714630260463, 0.20040259474366634, 0.15952696464739338, 0.17589646156473873, 0.25252462338586373, 0.17598031235210257, 0.26124208099232776, 0.25491322616438944, 0.6325518268188539, 0.19946788175199787, 0.1572309543457913, 0.18278645160459084, 0.1576976945005799, 0.1592228271622383, 0.304196500158342, 0.21677685689229792, 0.18429915123889223, 0.1793254241930702, 0.21125710640798703, 0.16581766177822757, 0.22997407535577238, 0.1402854694935468, 0.5013514447656467, 0.22717051366390925, 0.49648790671733145, 0.5755707750771784, 0.5049200139207471, 0.19450026007920224, 0.1920896057243322, 0.4873540488917158, 0.17478288436461, 0.18551673443147967, 0.17650989739139825, 0.14957876584977206, 0.16794362141601393, 0.17355735790482, 0.18795581585805776, 0.22284835930391675, 0.2413369576025658, 0.45809199547076046, 0.6357121414301129, 0.20319535636095956, 0.2708245837459332, 0.20353629527178949, 0.2888715868700108, 0.18206278900975875, 0.16544434484656056, 0.3219916823811531, 0.16021224501401982, 0.5899682901836628, 0.3580129364525934, 0.36039224893156524]}, {\"marker\": {\"color\": \"green\", \"size\": 18}, \"mode\": \"markers\", \"name\": \"TiC\", \"text\": \"TiC\", \"type\": \"scatter\", \"x\": [], \"y\": []}, {\"marker\": {\"color\": \"blue\", \"size\": 18}, \"mode\": \"markers\", \"name\": \"TiN\", \"text\": \"TiN\", \"type\": \"scatter\", \"x\": [], \"y\": []}, {\"marker\": {\"color\": \"orange\", \"size\": 18}, \"mode\": \"markers\", \"name\": \"TiB\", \"text\": \"TiB\", \"type\": \"scatter\", \"x\": [], \"y\": []}, {\"marker\": {\"color\": \"magenta\", \"size\": 18}, \"mode\": \"markers\", \"name\": \"TiO2\", \"text\": \"TiO2\", \"type\": \"scatter\", \"x\": [], \"y\": []}],\n",
       "                        {\"font\": {\"family\": \"Times New Roman\", \"size\": 18}, \"height\": 600, \"hovermode\": \"closest\", \"showlegend\": true, \"template\": {\"data\": {\"bar\": [{\"error_x\": {\"color\": \"#2a3f5f\"}, \"error_y\": {\"color\": \"#2a3f5f\"}, \"marker\": {\"line\": {\"color\": \"#E5ECF6\", \"width\": 0.5}}, \"type\": \"bar\"}], \"barpolar\": [{\"marker\": {\"line\": {\"color\": \"#E5ECF6\", \"width\": 0.5}}, \"type\": \"barpolar\"}], \"carpet\": [{\"aaxis\": {\"endlinecolor\": \"#2a3f5f\", \"gridcolor\": \"white\", \"linecolor\": \"white\", \"minorgridcolor\": \"white\", \"startlinecolor\": \"#2a3f5f\"}, \"baxis\": {\"endlinecolor\": \"#2a3f5f\", \"gridcolor\": \"white\", \"linecolor\": \"white\", \"minorgridcolor\": \"white\", \"startlinecolor\": \"#2a3f5f\"}, \"type\": \"carpet\"}], \"choropleth\": [{\"colorbar\": {\"outlinewidth\": 0, \"ticks\": \"\"}, \"type\": \"choropleth\"}], \"contour\": [{\"colorbar\": {\"outlinewidth\": 0, \"ticks\": \"\"}, \"colorscale\": [[0.0, \"#0d0887\"], [0.1111111111111111, \"#46039f\"], [0.2222222222222222, \"#7201a8\"], [0.3333333333333333, \"#9c179e\"], [0.4444444444444444, \"#bd3786\"], [0.5555555555555556, \"#d8576b\"], [0.6666666666666666, \"#ed7953\"], [0.7777777777777778, \"#fb9f3a\"], [0.8888888888888888, \"#fdca26\"], [1.0, \"#f0f921\"]], \"type\": \"contour\"}], \"contourcarpet\": [{\"colorbar\": {\"outlinewidth\": 0, \"ticks\": \"\"}, \"type\": \"contourcarpet\"}], \"heatmap\": [{\"colorbar\": {\"outlinewidth\": 0, \"ticks\": \"\"}, \"colorscale\": [[0.0, \"#0d0887\"], [0.1111111111111111, \"#46039f\"], [0.2222222222222222, \"#7201a8\"], [0.3333333333333333, \"#9c179e\"], [0.4444444444444444, \"#bd3786\"], [0.5555555555555556, \"#d8576b\"], [0.6666666666666666, \"#ed7953\"], [0.7777777777777778, \"#fb9f3a\"], [0.8888888888888888, \"#fdca26\"], [1.0, \"#f0f921\"]], \"type\": \"heatmap\"}], \"heatmapgl\": [{\"colorbar\": {\"outlinewidth\": 0, \"ticks\": \"\"}, \"colorscale\": [[0.0, \"#0d0887\"], [0.1111111111111111, \"#46039f\"], [0.2222222222222222, \"#7201a8\"], [0.3333333333333333, \"#9c179e\"], [0.4444444444444444, \"#bd3786\"], [0.5555555555555556, \"#d8576b\"], [0.6666666666666666, \"#ed7953\"], [0.7777777777777778, \"#fb9f3a\"], [0.8888888888888888, \"#fdca26\"], [1.0, \"#f0f921\"]], \"type\": \"heatmapgl\"}], \"histogram\": [{\"marker\": {\"colorbar\": {\"outlinewidth\": 0, \"ticks\": \"\"}}, \"type\": \"histogram\"}], \"histogram2d\": [{\"colorbar\": {\"outlinewidth\": 0, \"ticks\": \"\"}, \"colorscale\": [[0.0, \"#0d0887\"], [0.1111111111111111, \"#46039f\"], [0.2222222222222222, \"#7201a8\"], [0.3333333333333333, \"#9c179e\"], [0.4444444444444444, \"#bd3786\"], [0.5555555555555556, \"#d8576b\"], [0.6666666666666666, \"#ed7953\"], [0.7777777777777778, \"#fb9f3a\"], [0.8888888888888888, \"#fdca26\"], [1.0, \"#f0f921\"]], \"type\": \"histogram2d\"}], \"histogram2dcontour\": [{\"colorbar\": {\"outlinewidth\": 0, \"ticks\": \"\"}, \"colorscale\": [[0.0, \"#0d0887\"], [0.1111111111111111, \"#46039f\"], [0.2222222222222222, \"#7201a8\"], [0.3333333333333333, \"#9c179e\"], [0.4444444444444444, \"#bd3786\"], [0.5555555555555556, \"#d8576b\"], [0.6666666666666666, \"#ed7953\"], [0.7777777777777778, \"#fb9f3a\"], [0.8888888888888888, \"#fdca26\"], [1.0, \"#f0f921\"]], \"type\": \"histogram2dcontour\"}], \"mesh3d\": [{\"colorbar\": {\"outlinewidth\": 0, \"ticks\": \"\"}, \"type\": \"mesh3d\"}], \"parcoords\": [{\"line\": {\"colorbar\": {\"outlinewidth\": 0, \"ticks\": \"\"}}, \"type\": \"parcoords\"}], \"pie\": [{\"automargin\": true, \"type\": \"pie\"}], \"scatter\": [{\"marker\": {\"colorbar\": {\"outlinewidth\": 0, \"ticks\": \"\"}}, \"type\": \"scatter\"}], \"scatter3d\": [{\"line\": {\"colorbar\": {\"outlinewidth\": 0, \"ticks\": \"\"}}, \"marker\": {\"colorbar\": {\"outlinewidth\": 0, \"ticks\": \"\"}}, \"type\": \"scatter3d\"}], \"scattercarpet\": [{\"marker\": {\"colorbar\": {\"outlinewidth\": 0, \"ticks\": \"\"}}, \"type\": \"scattercarpet\"}], \"scattergeo\": [{\"marker\": {\"colorbar\": {\"outlinewidth\": 0, \"ticks\": \"\"}}, \"type\": \"scattergeo\"}], \"scattergl\": [{\"marker\": {\"colorbar\": {\"outlinewidth\": 0, \"ticks\": \"\"}}, \"type\": \"scattergl\"}], \"scattermapbox\": [{\"marker\": {\"colorbar\": {\"outlinewidth\": 0, \"ticks\": \"\"}}, \"type\": \"scattermapbox\"}], \"scatterpolar\": [{\"marker\": {\"colorbar\": {\"outlinewidth\": 0, \"ticks\": \"\"}}, \"type\": \"scatterpolar\"}], \"scatterpolargl\": [{\"marker\": {\"colorbar\": {\"outlinewidth\": 0, \"ticks\": \"\"}}, \"type\": \"scatterpolargl\"}], \"scatterternary\": [{\"marker\": {\"colorbar\": {\"outlinewidth\": 0, \"ticks\": \"\"}}, \"type\": \"scatterternary\"}], \"surface\": [{\"colorbar\": {\"outlinewidth\": 0, \"ticks\": \"\"}, \"colorscale\": [[0.0, \"#0d0887\"], [0.1111111111111111, \"#46039f\"], [0.2222222222222222, \"#7201a8\"], [0.3333333333333333, \"#9c179e\"], [0.4444444444444444, \"#bd3786\"], [0.5555555555555556, \"#d8576b\"], [0.6666666666666666, \"#ed7953\"], [0.7777777777777778, \"#fb9f3a\"], [0.8888888888888888, \"#fdca26\"], [1.0, \"#f0f921\"]], \"type\": \"surface\"}], \"table\": [{\"cells\": {\"fill\": {\"color\": \"#EBF0F8\"}, \"line\": {\"color\": \"white\"}}, \"header\": {\"fill\": {\"color\": \"#C8D4E3\"}, \"line\": {\"color\": \"white\"}}, \"type\": \"table\"}]}, \"layout\": {\"annotationdefaults\": {\"arrowcolor\": \"#2a3f5f\", \"arrowhead\": 0, \"arrowwidth\": 1}, \"coloraxis\": {\"colorbar\": {\"outlinewidth\": 0, \"ticks\": \"\"}}, \"colorscale\": {\"diverging\": [[0, \"#8e0152\"], [0.1, \"#c51b7d\"], [0.2, \"#de77ae\"], [0.3, \"#f1b6da\"], [0.4, \"#fde0ef\"], [0.5, \"#f7f7f7\"], [0.6, \"#e6f5d0\"], [0.7, \"#b8e186\"], [0.8, \"#7fbc41\"], [0.9, \"#4d9221\"], [1, \"#276419\"]], \"sequential\": [[0.0, \"#0d0887\"], [0.1111111111111111, \"#46039f\"], [0.2222222222222222, \"#7201a8\"], [0.3333333333333333, \"#9c179e\"], [0.4444444444444444, \"#bd3786\"], [0.5555555555555556, \"#d8576b\"], [0.6666666666666666, \"#ed7953\"], [0.7777777777777778, \"#fb9f3a\"], [0.8888888888888888, \"#fdca26\"], [1.0, \"#f0f921\"]], \"sequentialminus\": [[0.0, \"#0d0887\"], [0.1111111111111111, \"#46039f\"], [0.2222222222222222, \"#7201a8\"], [0.3333333333333333, \"#9c179e\"], [0.4444444444444444, \"#bd3786\"], [0.5555555555555556, \"#d8576b\"], [0.6666666666666666, \"#ed7953\"], [0.7777777777777778, \"#fb9f3a\"], [0.8888888888888888, \"#fdca26\"], [1.0, \"#f0f921\"]]}, \"colorway\": [\"#636efa\", \"#EF553B\", \"#00cc96\", \"#ab63fa\", \"#FFA15A\", \"#19d3f3\", \"#FF6692\", \"#B6E880\", \"#FF97FF\", \"#FECB52\"], \"font\": {\"color\": \"#2a3f5f\"}, \"geo\": {\"bgcolor\": \"white\", \"lakecolor\": \"white\", \"landcolor\": \"#E5ECF6\", \"showlakes\": true, \"showland\": true, \"subunitcolor\": \"white\"}, \"hoverlabel\": {\"align\": \"left\"}, \"hovermode\": \"closest\", \"mapbox\": {\"style\": \"light\"}, \"paper_bgcolor\": \"white\", \"plot_bgcolor\": \"#E5ECF6\", \"polar\": {\"angularaxis\": {\"gridcolor\": \"white\", \"linecolor\": \"white\", \"ticks\": \"\"}, \"bgcolor\": \"#E5ECF6\", \"radialaxis\": {\"gridcolor\": \"white\", \"linecolor\": \"white\", \"ticks\": \"\"}}, \"scene\": {\"xaxis\": {\"backgroundcolor\": \"#E5ECF6\", \"gridcolor\": \"white\", \"gridwidth\": 2, \"linecolor\": \"white\", \"showbackground\": true, \"ticks\": \"\", \"zerolinecolor\": \"white\"}, \"yaxis\": {\"backgroundcolor\": \"#E5ECF6\", \"gridcolor\": \"white\", \"gridwidth\": 2, \"linecolor\": \"white\", \"showbackground\": true, \"ticks\": \"\", \"zerolinecolor\": \"white\"}, \"zaxis\": {\"backgroundcolor\": \"#E5ECF6\", \"gridcolor\": \"white\", \"gridwidth\": 2, \"linecolor\": \"white\", \"showbackground\": true, \"ticks\": \"\", \"zerolinecolor\": \"white\"}}, \"shapedefaults\": {\"line\": {\"color\": \"#2a3f5f\"}}, \"ternary\": {\"aaxis\": {\"gridcolor\": \"white\", \"linecolor\": \"white\", \"ticks\": \"\"}, \"baxis\": {\"gridcolor\": \"white\", \"linecolor\": \"white\", \"ticks\": \"\"}, \"bgcolor\": \"#E5ECF6\", \"caxis\": {\"gridcolor\": \"white\", \"linecolor\": \"white\", \"ticks\": \"\"}}, \"title\": {\"x\": 0.05}, \"xaxis\": {\"automargin\": true, \"gridcolor\": \"white\", \"linecolor\": \"white\", \"ticks\": \"\", \"title\": {\"standoff\": 15}, \"zerolinecolor\": \"white\", \"zerolinewidth\": 2}, \"yaxis\": {\"automargin\": true, \"gridcolor\": \"white\", \"linecolor\": \"white\", \"ticks\": \"\", \"title\": {\"standoff\": 15}, \"zerolinecolor\": \"white\", \"zerolinewidth\": 2}}}, \"title\": {\"text\": \"Ti_based Query IPF vs. Density\"}, \"width\": 1200, \"xaxis\": {\"gridwidth\": 2, \"title\": {\"text\": \"$Density \\\\: [g/cm^{3}]$\"}, \"zeroline\": false}, \"yaxis\": {\"gridwidth\": 2, \"title\": {\"text\": \"$Ionic Packing Fraction \\\\: [IPF]$\"}, \"zeroline\": false}},\n",
       "                        {\"responsive\": true}\n",
       "                    ).then(function(){\n",
       "                            \n",
       "var gd = document.getElementById('7f238a76-5017-497c-b322-7d1e537fd827');\n",
       "var x = new MutationObserver(function (mutations, observer) {{\n",
       "        var display = window.getComputedStyle(gd).display;\n",
       "        if (!display || display === 'none') {{\n",
       "            console.log([gd, 'removed!']);\n",
       "            Plotly.purge(gd);\n",
       "            observer.disconnect();\n",
       "        }}\n",
       "}});\n",
       "\n",
       "// Listen for the removal of the full notebook cells\n",
       "var notebookContainer = gd.closest('#notebook-container');\n",
       "if (notebookContainer) {{\n",
       "    x.observe(notebookContainer, {childList: true});\n",
       "}}\n",
       "\n",
       "// Listen for the clearing of the current output cell\n",
       "var outputEl = gd.closest('.output');\n",
       "if (outputEl) {{\n",
       "    x.observe(outputEl, {childList: true});\n",
       "}}\n",
       "\n",
       "                        })\n",
       "                };\n",
       "                });\n",
       "            </script>\n",
       "        </div>"
      ]
     },
     "metadata": {},
     "output_type": "display_data"
    }
   ],
   "source": [
    "#Layout design. Can change title, font, x/y-axis etc. Commented out pieces are height and width. For plot in browser I prefer long horizontal plots. For presentations square images may be preferred. \n",
    "#Image can be directly saved by hovering over image and clicking camera icon. \n",
    "import plotly\n",
    "import plotly.graph_objs as go\n",
    "from plotly.offline import iplot\n",
    "\n",
    "layout_IPF = go.Layout(title= \"Ti_based Query IPF vs. Density\", hovermode= 'closest',\n",
    "                   font = dict(family='Times New Roman',size=18),\n",
    "                   xaxis= dict(title= '$Density \\: [g/cm^{3}]$',zeroline= False, gridwidth= 2),\n",
    "                   yaxis= dict(title= '$Ionic Packing Fraction \\: [IPF]$',zeroline= False, gridwidth= 2),\n",
    "                   height = 600,\n",
    "                   width = 1200,\n",
    "     showlegend= True                \n",
    ")\n",
    "\n",
    "#Scatter plot of collected data. Use df_oxide_all dataframe. df_oxide_all.Density will pull density column. Could change Density or IPF to Molar Volume or simply volume if you wanted.\n",
    "trace_all = go.Scatter(x = df_oxide.Density, y = df_oxide.IPF, mode = 'markers',\n",
    "                    marker=dict(size=12, color='black'), text = df_oxide.Formula, name = 'All Queries')\n",
    "\n",
    "trace_TiC = go.Scatter(x = df_oxide[(df_oxide.Formula == 'TiC') & (df_oxide.E_above_Hull == 0)].loc[:,'Density'],\n",
    "                         y = df_oxide[(df_oxide.Formula == 'TiC') & (df_oxide.E_above_Hull == 0)].loc[:,'IPF'],\n",
    "                         mode = 'markers', marker=dict(size=18, color='green'), text = 'TiC', name = 'TiC')\n",
    "trace_TiN = go.Scatter(x = df_oxide[(df_oxide.Formula == 'TiN') & (df_oxide.E_above_Hull == 0)].loc[:,'Density'],\n",
    "                         y = df_oxide[(df_oxide.Formula == 'TiN') & (df_oxide.E_above_Hull == 0)].loc[:,'IPF'],\n",
    "                         mode = 'markers', marker=dict(size=18, color='blue'), text = 'TiN', name = 'TiN')\n",
    "trace_TiB = go.Scatter(x = df_oxide[(df_oxide.Formula == 'TiB') & (df_oxide.E_above_Hull == 0)].loc[:,'Density'],\n",
    "                        y = df_oxide[(df_oxide.Formula == 'TiB') & (df_oxide.E_above_Hull == 0)].loc[:,'IPF'],\n",
    "                        mode = 'markers', marker=dict(size=18, color='orange'), text = 'TiB', name = 'TiB')\n",
    "trace_TiO2 = go.Scatter(x = df_oxide[(df_oxide.Formula == 'TiO2') & (df_oxide.E_above_Hull == 0)].loc[:,'Density'],\n",
    "                        y = df_oxide[(df_oxide.Formula == 'TiO2') & (df_oxide.E_above_Hull == 0)].loc[:,'IPF'],\n",
    "                        mode = 'markers', marker=dict(size=18, color='magenta'), text = 'TiO2', name = 'TiO2')\n",
    "\n",
    "data_IPF = [trace_all,trace_TiC,trace_TiN,trace_TiB,trace_TiO2]\n",
    "fig_IPF = go.Figure(data_IPF, layout=layout_IPF)\n",
    "iplot(fig_IPF)"
   ]
  },
  {
   "cell_type": "markdown",
   "metadata": {},
   "source": [
    "### 3.3.2 Plot material properties from dataframe using 3rd property as color key"
   ]
  },
  {
   "cell_type": "code",
   "execution_count": 256,
   "metadata": {},
   "outputs": [
    {
     "data": {
      "application/vnd.plotly.v1+json": {
       "config": {
        "linkText": "Export to plot.ly",
        "plotlyServerURL": "https://plot.ly",
        "showLink": false
       },
       "data": [
        {
         "marker": {
          "color": [
           0.29,
           0.22,
           0.23,
           0.33,
           0.23,
           0.24,
           0.09,
           0.27,
           0.25,
           0.27,
           0.25,
           0.28,
           0.18,
           0.35,
           0.26,
           0.26,
           0.16,
           0.37,
           0.11,
           0.33,
           0.26,
           0.3,
           0.24,
           0.18,
           0.29,
           0.34,
           0.19,
           0.29,
           0.16,
           0.36,
           0.17,
           0.3,
           0.23,
           0.3,
           0.3,
           0.33,
           0.23,
           0.24,
           0.35,
           0.33,
           0.29,
           0.24,
           0.34,
           0.3,
           0.3,
           0.33,
           0.17,
           0.25,
           0.17,
           0.24,
           0.26,
           0.32,
           0.27,
           0.3,
           0.3,
           0.24,
           0.27,
           0.25,
           0.21,
           0.31,
           0.3,
           0.31,
           0.25,
           0.33,
           0.33,
           0.35,
           0.29,
           0.28,
           0.35,
           0.24,
           0.28,
           0.33,
           0.31,
           0.19,
           0.31,
           0.28,
           0.31,
           0.31,
           0.21,
           0.29,
           0.25,
           0.28,
           0.25,
           0.25,
           0.27,
           0.34,
           0.21,
           0.32,
           0.3,
           0.31,
           0.22,
           0.26,
           0.21,
           0.2
          ],
          "colorbar": {
           "tickfont": {
            "family": "Georgia",
            "size": 16
           },
           "title": {
            "font": {
             "family": "Georgia",
             "size": 18
            },
            "text": "Poisson Ratio"
           }
          },
          "size": 12
         },
         "mode": "markers",
         "text": [
          "CrNi3",
          "CrIr3",
          "CrRh3",
          "TiCr2",
          "Cr5B3",
          "Cr2B",
          "Be12Cr",
          "AlCr2",
          "CrO2",
          "Cr2O3",
          "Cr3Ge",
          "Cr3C2",
          "CrP",
          "TaCr2",
          "CrH",
          "CrBr3",
          "Be2Cr",
          "NbCr2",
          "CrF3",
          "TiCr2",
          "CrF5",
          "Cr23C6",
          "Cr3Si",
          "CrP4",
          "CrNi2",
          "HfCr2",
          "Al3Cr",
          "Cr2N",
          "CrSi2",
          "ZrCr2",
          "CrS2",
          "U2CrN3",
          "Mn(CrSe2)2",
          "Dy2Cr2C3",
          "Y2Cr2C3",
          "Mg2CrN3",
          "MgCrO4",
          "Cr2GaC",
          "CrAgS2",
          "CrCuO2",
          "AlCrRu2",
          "Mn2CrCo",
          "Ta2CrRu",
          "Tm2Cr2C3",
          "Tb2Cr2C3",
          "Zn2CrN3",
          "Li6CrN4",
          "TiCrP",
          "CrTe4Au",
          "Sr3CrN3",
          "LiCrO2",
          "Cr2GeC",
          "NbCrP",
          "Zn(CrSe2)2",
          "CrNiAs",
          "ScCrC2",
          "Rb2CrF6",
          "NaCrS2",
          "AlCr3B4",
          "Ho2Cr2C3",
          "V2CrFe",
          "V2CrRu",
          "Ca3CrN3",
          "BeCrRu2",
          "CrAuO2",
          "Ca2CrN3",
          "Na2CrO4",
          "LaCrO3",
          "CrAgO2",
          "U(Cr3P2)2",
          "LiCrS2",
          "CrCuO2",
          "CrCuS2",
          "Al(CrB)2",
          "MnV2Cr",
          "Mn2AlCr",
          "V2CrRe",
          "V2CrTc",
          "AlCr2C",
          "NaCrN2",
          "Cr3PtN",
          "CrPbO4",
          "CrBO3",
          "CrFeP",
          "Cs2CrCl4",
          "CrAgSe2",
          "KCrS2",
          "Ti2CrIr",
          "V2CrOs",
          "K2NaCrF6",
          "HoCr2Si2C",
          "Sr2TaCrO6",
          "KRb2CrF6",
          "Rb2NaCrF6"
         ],
         "type": "scatter",
         "x": [
          105,
          214,
          151,
          75,
          196,
          185,
          144,
          103,
          107,
          113,
          128,
          169,
          138,
          83,
          137,
          5,
          158,
          64,
          39,
          75,
          4,
          138,
          154,
          100,
          112,
          68,
          83,
          140,
          172,
          56,
          13,
          101,
          30,
          69,
          74,
          48,
          41,
          116,
          26,
          58,
          113,
          97,
          94,
          77,
          68,
          60,
          72,
          123,
          23,
          31,
          83,
          82,
          114,
          31,
          61,
          133,
          13,
          37,
          182,
          72,
          107,
          106,
          51,
          101,
          62,
          30,
          19,
          86,
          45,
          92,
          43,
          58,
          41,
          175,
          99,
          102,
          112,
          101,
          134,
          36,
          158,
          18,
          109,
          143,
          11,
          23,
          36,
          79,
          125,
          35,
          111,
          107,
          27,
          27
         ],
         "y": [
          222,
          307,
          230,
          199,
          291,
          289,
          126,
          186,
          179,
          203,
          211,
          320,
          173,
          242,
          238,
          8,
          183,
          228,
          37,
          198,
          8,
          291,
          249,
          124,
          228,
          191,
          107,
          285,
          195,
          181,
          15,
          226,
          47,
          149,
          161,
          123,
          64,
          180,
          77,
          154,
          231,
          154,
          258,
          167,
          149,
          152,
          85,
          204,
          27,
          50,
          148,
          202,
          212,
          69,
          129,
          209,
          24,
          60,
          250,
          167,
          232,
          243,
          86,
          269,
          157,
          94,
          39,
          165,
          140,
          145,
          83,
          155,
          94,
          227,
          231,
          194,
          251,
          237,
          189,
          76,
          267,
          33,
          181,
          238,
          21,
          64,
          49,
          190,
          265,
          79,
          160,
          187,
          36,
          36
         ]
        }
       ],
       "layout": {
        "font": {
         "family": "Times New Roman",
         "size": 18
        },
        "height": 600,
        "hovermode": "closest",
        "showlegend": false,
        "template": {
         "data": {
          "bar": [
           {
            "error_x": {
             "color": "#2a3f5f"
            },
            "error_y": {
             "color": "#2a3f5f"
            },
            "marker": {
             "line": {
              "color": "#E5ECF6",
              "width": 0.5
             }
            },
            "type": "bar"
           }
          ],
          "barpolar": [
           {
            "marker": {
             "line": {
              "color": "#E5ECF6",
              "width": 0.5
             }
            },
            "type": "barpolar"
           }
          ],
          "carpet": [
           {
            "aaxis": {
             "endlinecolor": "#2a3f5f",
             "gridcolor": "white",
             "linecolor": "white",
             "minorgridcolor": "white",
             "startlinecolor": "#2a3f5f"
            },
            "baxis": {
             "endlinecolor": "#2a3f5f",
             "gridcolor": "white",
             "linecolor": "white",
             "minorgridcolor": "white",
             "startlinecolor": "#2a3f5f"
            },
            "type": "carpet"
           }
          ],
          "choropleth": [
           {
            "colorbar": {
             "outlinewidth": 0,
             "ticks": ""
            },
            "type": "choropleth"
           }
          ],
          "contour": [
           {
            "colorbar": {
             "outlinewidth": 0,
             "ticks": ""
            },
            "colorscale": [
             [
              0,
              "#0d0887"
             ],
             [
              0.1111111111111111,
              "#46039f"
             ],
             [
              0.2222222222222222,
              "#7201a8"
             ],
             [
              0.3333333333333333,
              "#9c179e"
             ],
             [
              0.4444444444444444,
              "#bd3786"
             ],
             [
              0.5555555555555556,
              "#d8576b"
             ],
             [
              0.6666666666666666,
              "#ed7953"
             ],
             [
              0.7777777777777778,
              "#fb9f3a"
             ],
             [
              0.8888888888888888,
              "#fdca26"
             ],
             [
              1,
              "#f0f921"
             ]
            ],
            "type": "contour"
           }
          ],
          "contourcarpet": [
           {
            "colorbar": {
             "outlinewidth": 0,
             "ticks": ""
            },
            "type": "contourcarpet"
           }
          ],
          "heatmap": [
           {
            "colorbar": {
             "outlinewidth": 0,
             "ticks": ""
            },
            "colorscale": [
             [
              0,
              "#0d0887"
             ],
             [
              0.1111111111111111,
              "#46039f"
             ],
             [
              0.2222222222222222,
              "#7201a8"
             ],
             [
              0.3333333333333333,
              "#9c179e"
             ],
             [
              0.4444444444444444,
              "#bd3786"
             ],
             [
              0.5555555555555556,
              "#d8576b"
             ],
             [
              0.6666666666666666,
              "#ed7953"
             ],
             [
              0.7777777777777778,
              "#fb9f3a"
             ],
             [
              0.8888888888888888,
              "#fdca26"
             ],
             [
              1,
              "#f0f921"
             ]
            ],
            "type": "heatmap"
           }
          ],
          "heatmapgl": [
           {
            "colorbar": {
             "outlinewidth": 0,
             "ticks": ""
            },
            "colorscale": [
             [
              0,
              "#0d0887"
             ],
             [
              0.1111111111111111,
              "#46039f"
             ],
             [
              0.2222222222222222,
              "#7201a8"
             ],
             [
              0.3333333333333333,
              "#9c179e"
             ],
             [
              0.4444444444444444,
              "#bd3786"
             ],
             [
              0.5555555555555556,
              "#d8576b"
             ],
             [
              0.6666666666666666,
              "#ed7953"
             ],
             [
              0.7777777777777778,
              "#fb9f3a"
             ],
             [
              0.8888888888888888,
              "#fdca26"
             ],
             [
              1,
              "#f0f921"
             ]
            ],
            "type": "heatmapgl"
           }
          ],
          "histogram": [
           {
            "marker": {
             "colorbar": {
              "outlinewidth": 0,
              "ticks": ""
             }
            },
            "type": "histogram"
           }
          ],
          "histogram2d": [
           {
            "colorbar": {
             "outlinewidth": 0,
             "ticks": ""
            },
            "colorscale": [
             [
              0,
              "#0d0887"
             ],
             [
              0.1111111111111111,
              "#46039f"
             ],
             [
              0.2222222222222222,
              "#7201a8"
             ],
             [
              0.3333333333333333,
              "#9c179e"
             ],
             [
              0.4444444444444444,
              "#bd3786"
             ],
             [
              0.5555555555555556,
              "#d8576b"
             ],
             [
              0.6666666666666666,
              "#ed7953"
             ],
             [
              0.7777777777777778,
              "#fb9f3a"
             ],
             [
              0.8888888888888888,
              "#fdca26"
             ],
             [
              1,
              "#f0f921"
             ]
            ],
            "type": "histogram2d"
           }
          ],
          "histogram2dcontour": [
           {
            "colorbar": {
             "outlinewidth": 0,
             "ticks": ""
            },
            "colorscale": [
             [
              0,
              "#0d0887"
             ],
             [
              0.1111111111111111,
              "#46039f"
             ],
             [
              0.2222222222222222,
              "#7201a8"
             ],
             [
              0.3333333333333333,
              "#9c179e"
             ],
             [
              0.4444444444444444,
              "#bd3786"
             ],
             [
              0.5555555555555556,
              "#d8576b"
             ],
             [
              0.6666666666666666,
              "#ed7953"
             ],
             [
              0.7777777777777778,
              "#fb9f3a"
             ],
             [
              0.8888888888888888,
              "#fdca26"
             ],
             [
              1,
              "#f0f921"
             ]
            ],
            "type": "histogram2dcontour"
           }
          ],
          "mesh3d": [
           {
            "colorbar": {
             "outlinewidth": 0,
             "ticks": ""
            },
            "type": "mesh3d"
           }
          ],
          "parcoords": [
           {
            "line": {
             "colorbar": {
              "outlinewidth": 0,
              "ticks": ""
             }
            },
            "type": "parcoords"
           }
          ],
          "pie": [
           {
            "automargin": true,
            "type": "pie"
           }
          ],
          "scatter": [
           {
            "marker": {
             "colorbar": {
              "outlinewidth": 0,
              "ticks": ""
             }
            },
            "type": "scatter"
           }
          ],
          "scatter3d": [
           {
            "line": {
             "colorbar": {
              "outlinewidth": 0,
              "ticks": ""
             }
            },
            "marker": {
             "colorbar": {
              "outlinewidth": 0,
              "ticks": ""
             }
            },
            "type": "scatter3d"
           }
          ],
          "scattercarpet": [
           {
            "marker": {
             "colorbar": {
              "outlinewidth": 0,
              "ticks": ""
             }
            },
            "type": "scattercarpet"
           }
          ],
          "scattergeo": [
           {
            "marker": {
             "colorbar": {
              "outlinewidth": 0,
              "ticks": ""
             }
            },
            "type": "scattergeo"
           }
          ],
          "scattergl": [
           {
            "marker": {
             "colorbar": {
              "outlinewidth": 0,
              "ticks": ""
             }
            },
            "type": "scattergl"
           }
          ],
          "scattermapbox": [
           {
            "marker": {
             "colorbar": {
              "outlinewidth": 0,
              "ticks": ""
             }
            },
            "type": "scattermapbox"
           }
          ],
          "scatterpolar": [
           {
            "marker": {
             "colorbar": {
              "outlinewidth": 0,
              "ticks": ""
             }
            },
            "type": "scatterpolar"
           }
          ],
          "scatterpolargl": [
           {
            "marker": {
             "colorbar": {
              "outlinewidth": 0,
              "ticks": ""
             }
            },
            "type": "scatterpolargl"
           }
          ],
          "scatterternary": [
           {
            "marker": {
             "colorbar": {
              "outlinewidth": 0,
              "ticks": ""
             }
            },
            "type": "scatterternary"
           }
          ],
          "surface": [
           {
            "colorbar": {
             "outlinewidth": 0,
             "ticks": ""
            },
            "colorscale": [
             [
              0,
              "#0d0887"
             ],
             [
              0.1111111111111111,
              "#46039f"
             ],
             [
              0.2222222222222222,
              "#7201a8"
             ],
             [
              0.3333333333333333,
              "#9c179e"
             ],
             [
              0.4444444444444444,
              "#bd3786"
             ],
             [
              0.5555555555555556,
              "#d8576b"
             ],
             [
              0.6666666666666666,
              "#ed7953"
             ],
             [
              0.7777777777777778,
              "#fb9f3a"
             ],
             [
              0.8888888888888888,
              "#fdca26"
             ],
             [
              1,
              "#f0f921"
             ]
            ],
            "type": "surface"
           }
          ],
          "table": [
           {
            "cells": {
             "fill": {
              "color": "#EBF0F8"
             },
             "line": {
              "color": "white"
             }
            },
            "header": {
             "fill": {
              "color": "#C8D4E3"
             },
             "line": {
              "color": "white"
             }
            },
            "type": "table"
           }
          ]
         },
         "layout": {
          "annotationdefaults": {
           "arrowcolor": "#2a3f5f",
           "arrowhead": 0,
           "arrowwidth": 1
          },
          "coloraxis": {
           "colorbar": {
            "outlinewidth": 0,
            "ticks": ""
           }
          },
          "colorscale": {
           "diverging": [
            [
             0,
             "#8e0152"
            ],
            [
             0.1,
             "#c51b7d"
            ],
            [
             0.2,
             "#de77ae"
            ],
            [
             0.3,
             "#f1b6da"
            ],
            [
             0.4,
             "#fde0ef"
            ],
            [
             0.5,
             "#f7f7f7"
            ],
            [
             0.6,
             "#e6f5d0"
            ],
            [
             0.7,
             "#b8e186"
            ],
            [
             0.8,
             "#7fbc41"
            ],
            [
             0.9,
             "#4d9221"
            ],
            [
             1,
             "#276419"
            ]
           ],
           "sequential": [
            [
             0,
             "#0d0887"
            ],
            [
             0.1111111111111111,
             "#46039f"
            ],
            [
             0.2222222222222222,
             "#7201a8"
            ],
            [
             0.3333333333333333,
             "#9c179e"
            ],
            [
             0.4444444444444444,
             "#bd3786"
            ],
            [
             0.5555555555555556,
             "#d8576b"
            ],
            [
             0.6666666666666666,
             "#ed7953"
            ],
            [
             0.7777777777777778,
             "#fb9f3a"
            ],
            [
             0.8888888888888888,
             "#fdca26"
            ],
            [
             1,
             "#f0f921"
            ]
           ],
           "sequentialminus": [
            [
             0,
             "#0d0887"
            ],
            [
             0.1111111111111111,
             "#46039f"
            ],
            [
             0.2222222222222222,
             "#7201a8"
            ],
            [
             0.3333333333333333,
             "#9c179e"
            ],
            [
             0.4444444444444444,
             "#bd3786"
            ],
            [
             0.5555555555555556,
             "#d8576b"
            ],
            [
             0.6666666666666666,
             "#ed7953"
            ],
            [
             0.7777777777777778,
             "#fb9f3a"
            ],
            [
             0.8888888888888888,
             "#fdca26"
            ],
            [
             1,
             "#f0f921"
            ]
           ]
          },
          "colorway": [
           "#636efa",
           "#EF553B",
           "#00cc96",
           "#ab63fa",
           "#FFA15A",
           "#19d3f3",
           "#FF6692",
           "#B6E880",
           "#FF97FF",
           "#FECB52"
          ],
          "font": {
           "color": "#2a3f5f"
          },
          "geo": {
           "bgcolor": "white",
           "lakecolor": "white",
           "landcolor": "#E5ECF6",
           "showlakes": true,
           "showland": true,
           "subunitcolor": "white"
          },
          "hoverlabel": {
           "align": "left"
          },
          "hovermode": "closest",
          "mapbox": {
           "style": "light"
          },
          "paper_bgcolor": "white",
          "plot_bgcolor": "#E5ECF6",
          "polar": {
           "angularaxis": {
            "gridcolor": "white",
            "linecolor": "white",
            "ticks": ""
           },
           "bgcolor": "#E5ECF6",
           "radialaxis": {
            "gridcolor": "white",
            "linecolor": "white",
            "ticks": ""
           }
          },
          "scene": {
           "xaxis": {
            "backgroundcolor": "#E5ECF6",
            "gridcolor": "white",
            "gridwidth": 2,
            "linecolor": "white",
            "showbackground": true,
            "ticks": "",
            "zerolinecolor": "white"
           },
           "yaxis": {
            "backgroundcolor": "#E5ECF6",
            "gridcolor": "white",
            "gridwidth": 2,
            "linecolor": "white",
            "showbackground": true,
            "ticks": "",
            "zerolinecolor": "white"
           },
           "zaxis": {
            "backgroundcolor": "#E5ECF6",
            "gridcolor": "white",
            "gridwidth": 2,
            "linecolor": "white",
            "showbackground": true,
            "ticks": "",
            "zerolinecolor": "white"
           }
          },
          "shapedefaults": {
           "line": {
            "color": "#2a3f5f"
           }
          },
          "ternary": {
           "aaxis": {
            "gridcolor": "white",
            "linecolor": "white",
            "ticks": ""
           },
           "baxis": {
            "gridcolor": "white",
            "linecolor": "white",
            "ticks": ""
           },
           "bgcolor": "#E5ECF6",
           "caxis": {
            "gridcolor": "white",
            "linecolor": "white",
            "ticks": ""
           }
          },
          "title": {
           "x": 0.05
          },
          "xaxis": {
           "automargin": true,
           "gridcolor": "white",
           "linecolor": "white",
           "ticks": "",
           "title": {
            "standoff": 15
           },
           "zerolinecolor": "white",
           "zerolinewidth": 2
          },
          "yaxis": {
           "automargin": true,
           "gridcolor": "white",
           "linecolor": "white",
           "ticks": "",
           "title": {
            "standoff": 15
           },
           "zerolinecolor": "white",
           "zerolinewidth": 2
          }
         }
        },
        "title": {
         "text": "C-based Compounds Bulk Modulus vs. Shear Modulus"
        },
        "width": 1200,
        "xaxis": {
         "gridwidth": 2,
         "title": {
          "text": "$Shear \\: Modulus \\: [GPa]$"
         },
         "zeroline": false
        },
        "yaxis": {
         "gridwidth": 2,
         "title": {
          "text": "$Bulk \\: Modulus [GPa]$"
         },
         "zeroline": false
        }
       }
      },
      "text/html": [
       "<div>\n",
       "        \n",
       "        \n",
       "            <div id=\"0837412f-bfed-480b-bd53-cb4baddfd628\" class=\"plotly-graph-div\" style=\"height:600px; width:1200px;\"></div>\n",
       "            <script type=\"text/javascript\">\n",
       "                require([\"plotly\"], function(Plotly) {\n",
       "                    window.PLOTLYENV=window.PLOTLYENV || {};\n",
       "                    \n",
       "                if (document.getElementById(\"0837412f-bfed-480b-bd53-cb4baddfd628\")) {\n",
       "                    Plotly.newPlot(\n",
       "                        '0837412f-bfed-480b-bd53-cb4baddfd628',\n",
       "                        [{\"marker\": {\"color\": [0.29, 0.22, 0.23, 0.33, 0.23, 0.24, 0.09, 0.27, 0.25, 0.27, 0.25, 0.28, 0.18, 0.35, 0.26, 0.26, 0.16, 0.37, 0.11, 0.33, 0.26, 0.3, 0.24, 0.18, 0.29, 0.34, 0.19, 0.29, 0.16, 0.36, 0.17, 0.3, 0.23, 0.3, 0.3, 0.33, 0.23, 0.24, 0.35, 0.33, 0.29, 0.24, 0.34, 0.3, 0.3, 0.33, 0.17, 0.25, 0.17, 0.24, 0.26, 0.32, 0.27, 0.3, 0.3, 0.24, 0.27, 0.25, 0.21, 0.31, 0.3, 0.31, 0.25, 0.33, 0.33, 0.35, 0.29, 0.28, 0.35, 0.24, 0.28, 0.33, 0.31, 0.19, 0.31, 0.28, 0.31, 0.31, 0.21, 0.29, 0.25, 0.28, 0.25, 0.25, 0.27, 0.34, 0.21, 0.32, 0.3, 0.31, 0.22, 0.26, 0.21, 0.2], \"colorbar\": {\"tickfont\": {\"family\": \"Georgia\", \"size\": 16}, \"title\": {\"font\": {\"family\": \"Georgia\", \"size\": 18}, \"text\": \"Poisson Ratio\"}}, \"size\": 12}, \"mode\": \"markers\", \"text\": [\"CrNi3\", \"CrIr3\", \"CrRh3\", \"TiCr2\", \"Cr5B3\", \"Cr2B\", \"Be12Cr\", \"AlCr2\", \"CrO2\", \"Cr2O3\", \"Cr3Ge\", \"Cr3C2\", \"CrP\", \"TaCr2\", \"CrH\", \"CrBr3\", \"Be2Cr\", \"NbCr2\", \"CrF3\", \"TiCr2\", \"CrF5\", \"Cr23C6\", \"Cr3Si\", \"CrP4\", \"CrNi2\", \"HfCr2\", \"Al3Cr\", \"Cr2N\", \"CrSi2\", \"ZrCr2\", \"CrS2\", \"U2CrN3\", \"Mn(CrSe2)2\", \"Dy2Cr2C3\", \"Y2Cr2C3\", \"Mg2CrN3\", \"MgCrO4\", \"Cr2GaC\", \"CrAgS2\", \"CrCuO2\", \"AlCrRu2\", \"Mn2CrCo\", \"Ta2CrRu\", \"Tm2Cr2C3\", \"Tb2Cr2C3\", \"Zn2CrN3\", \"Li6CrN4\", \"TiCrP\", \"CrTe4Au\", \"Sr3CrN3\", \"LiCrO2\", \"Cr2GeC\", \"NbCrP\", \"Zn(CrSe2)2\", \"CrNiAs\", \"ScCrC2\", \"Rb2CrF6\", \"NaCrS2\", \"AlCr3B4\", \"Ho2Cr2C3\", \"V2CrFe\", \"V2CrRu\", \"Ca3CrN3\", \"BeCrRu2\", \"CrAuO2\", \"Ca2CrN3\", \"Na2CrO4\", \"LaCrO3\", \"CrAgO2\", \"U(Cr3P2)2\", \"LiCrS2\", \"CrCuO2\", \"CrCuS2\", \"Al(CrB)2\", \"MnV2Cr\", \"Mn2AlCr\", \"V2CrRe\", \"V2CrTc\", \"AlCr2C\", \"NaCrN2\", \"Cr3PtN\", \"CrPbO4\", \"CrBO3\", \"CrFeP\", \"Cs2CrCl4\", \"CrAgSe2\", \"KCrS2\", \"Ti2CrIr\", \"V2CrOs\", \"K2NaCrF6\", \"HoCr2Si2C\", \"Sr2TaCrO6\", \"KRb2CrF6\", \"Rb2NaCrF6\"], \"type\": \"scatter\", \"x\": [105.0, 214.0, 151.0, 75.0, 196.0, 185.0, 144.0, 103.0, 107.0, 113.0, 128.0, 169.0, 138.0, 83.0, 137.0, 5.0, 158.0, 64.0, 39.0, 75.0, 4.0, 138.0, 154.0, 100.0, 112.0, 68.0, 83.0, 140.0, 172.0, 56.0, 13.0, 101.0, 30.0, 69.0, 74.0, 48.0, 41.0, 116.0, 26.0, 58.0, 113.0, 97.0, 94.0, 77.0, 68.0, 60.0, 72.0, 123.0, 23.0, 31.0, 83.0, 82.0, 114.0, 31.0, 61.0, 133.0, 13.0, 37.0, 182.0, 72.0, 107.0, 106.0, 51.0, 101.0, 62.0, 30.0, 19.0, 86.0, 45.0, 92.0, 43.0, 58.0, 41.0, 175.0, 99.0, 102.0, 112.0, 101.0, 134.0, 36.0, 158.0, 18.0, 109.0, 143.0, 11.0, 23.0, 36.0, 79.0, 125.0, 35.0, 111.0, 107.0, 27.0, 27.0], \"y\": [222.0, 307.0, 230.0, 199.0, 291.0, 289.0, 126.0, 186.0, 179.0, 203.0, 211.0, 320.0, 173.0, 242.0, 238.0, 8.0, 183.0, 228.0, 37.0, 198.0, 8.0, 291.0, 249.0, 124.0, 228.0, 191.0, 107.0, 285.0, 195.0, 181.0, 15.0, 226.0, 47.0, 149.0, 161.0, 123.0, 64.0, 180.0, 77.0, 154.0, 231.0, 154.0, 258.0, 167.0, 149.0, 152.0, 85.0, 204.0, 27.0, 50.0, 148.0, 202.0, 212.0, 69.0, 129.0, 209.0, 24.0, 60.0, 250.0, 167.0, 232.0, 243.0, 86.0, 269.0, 157.0, 94.0, 39.0, 165.0, 140.0, 145.0, 83.0, 155.0, 94.0, 227.0, 231.0, 194.0, 251.0, 237.0, 189.0, 76.0, 267.0, 33.0, 181.0, 238.0, 21.0, 64.0, 49.0, 190.0, 265.0, 79.0, 160.0, 187.0, 36.0, 36.0]}],\n",
       "                        {\"font\": {\"family\": \"Times New Roman\", \"size\": 18}, \"height\": 600, \"hovermode\": \"closest\", \"showlegend\": false, \"template\": {\"data\": {\"bar\": [{\"error_x\": {\"color\": \"#2a3f5f\"}, \"error_y\": {\"color\": \"#2a3f5f\"}, \"marker\": {\"line\": {\"color\": \"#E5ECF6\", \"width\": 0.5}}, \"type\": \"bar\"}], \"barpolar\": [{\"marker\": {\"line\": {\"color\": \"#E5ECF6\", \"width\": 0.5}}, \"type\": \"barpolar\"}], \"carpet\": [{\"aaxis\": {\"endlinecolor\": \"#2a3f5f\", \"gridcolor\": \"white\", \"linecolor\": \"white\", \"minorgridcolor\": \"white\", \"startlinecolor\": \"#2a3f5f\"}, \"baxis\": {\"endlinecolor\": \"#2a3f5f\", \"gridcolor\": \"white\", \"linecolor\": \"white\", \"minorgridcolor\": \"white\", \"startlinecolor\": \"#2a3f5f\"}, \"type\": \"carpet\"}], \"choropleth\": [{\"colorbar\": {\"outlinewidth\": 0, \"ticks\": \"\"}, \"type\": \"choropleth\"}], \"contour\": [{\"colorbar\": {\"outlinewidth\": 0, \"ticks\": \"\"}, \"colorscale\": [[0.0, \"#0d0887\"], [0.1111111111111111, \"#46039f\"], [0.2222222222222222, \"#7201a8\"], [0.3333333333333333, \"#9c179e\"], [0.4444444444444444, \"#bd3786\"], [0.5555555555555556, \"#d8576b\"], [0.6666666666666666, \"#ed7953\"], [0.7777777777777778, \"#fb9f3a\"], [0.8888888888888888, \"#fdca26\"], [1.0, \"#f0f921\"]], \"type\": \"contour\"}], \"contourcarpet\": [{\"colorbar\": {\"outlinewidth\": 0, \"ticks\": \"\"}, \"type\": \"contourcarpet\"}], \"heatmap\": [{\"colorbar\": {\"outlinewidth\": 0, \"ticks\": \"\"}, \"colorscale\": [[0.0, \"#0d0887\"], [0.1111111111111111, \"#46039f\"], [0.2222222222222222, \"#7201a8\"], [0.3333333333333333, \"#9c179e\"], [0.4444444444444444, \"#bd3786\"], [0.5555555555555556, \"#d8576b\"], [0.6666666666666666, \"#ed7953\"], [0.7777777777777778, \"#fb9f3a\"], [0.8888888888888888, \"#fdca26\"], [1.0, \"#f0f921\"]], \"type\": \"heatmap\"}], \"heatmapgl\": [{\"colorbar\": {\"outlinewidth\": 0, \"ticks\": \"\"}, \"colorscale\": [[0.0, \"#0d0887\"], [0.1111111111111111, \"#46039f\"], [0.2222222222222222, \"#7201a8\"], [0.3333333333333333, \"#9c179e\"], [0.4444444444444444, \"#bd3786\"], [0.5555555555555556, \"#d8576b\"], [0.6666666666666666, \"#ed7953\"], [0.7777777777777778, \"#fb9f3a\"], [0.8888888888888888, \"#fdca26\"], [1.0, \"#f0f921\"]], \"type\": \"heatmapgl\"}], \"histogram\": [{\"marker\": {\"colorbar\": {\"outlinewidth\": 0, \"ticks\": \"\"}}, \"type\": \"histogram\"}], \"histogram2d\": [{\"colorbar\": {\"outlinewidth\": 0, \"ticks\": \"\"}, \"colorscale\": [[0.0, \"#0d0887\"], [0.1111111111111111, \"#46039f\"], [0.2222222222222222, \"#7201a8\"], [0.3333333333333333, \"#9c179e\"], [0.4444444444444444, \"#bd3786\"], [0.5555555555555556, \"#d8576b\"], [0.6666666666666666, \"#ed7953\"], [0.7777777777777778, \"#fb9f3a\"], [0.8888888888888888, \"#fdca26\"], [1.0, \"#f0f921\"]], \"type\": \"histogram2d\"}], \"histogram2dcontour\": [{\"colorbar\": {\"outlinewidth\": 0, \"ticks\": \"\"}, \"colorscale\": [[0.0, \"#0d0887\"], [0.1111111111111111, \"#46039f\"], [0.2222222222222222, \"#7201a8\"], [0.3333333333333333, \"#9c179e\"], [0.4444444444444444, \"#bd3786\"], [0.5555555555555556, \"#d8576b\"], [0.6666666666666666, \"#ed7953\"], [0.7777777777777778, \"#fb9f3a\"], [0.8888888888888888, \"#fdca26\"], [1.0, \"#f0f921\"]], \"type\": \"histogram2dcontour\"}], \"mesh3d\": [{\"colorbar\": {\"outlinewidth\": 0, \"ticks\": \"\"}, \"type\": \"mesh3d\"}], \"parcoords\": [{\"line\": {\"colorbar\": {\"outlinewidth\": 0, \"ticks\": \"\"}}, \"type\": \"parcoords\"}], \"pie\": [{\"automargin\": true, \"type\": \"pie\"}], \"scatter\": [{\"marker\": {\"colorbar\": {\"outlinewidth\": 0, \"ticks\": \"\"}}, \"type\": \"scatter\"}], \"scatter3d\": [{\"line\": {\"colorbar\": {\"outlinewidth\": 0, \"ticks\": \"\"}}, \"marker\": {\"colorbar\": {\"outlinewidth\": 0, \"ticks\": \"\"}}, \"type\": \"scatter3d\"}], \"scattercarpet\": [{\"marker\": {\"colorbar\": {\"outlinewidth\": 0, \"ticks\": \"\"}}, \"type\": \"scattercarpet\"}], \"scattergeo\": [{\"marker\": {\"colorbar\": {\"outlinewidth\": 0, \"ticks\": \"\"}}, \"type\": \"scattergeo\"}], \"scattergl\": [{\"marker\": {\"colorbar\": {\"outlinewidth\": 0, \"ticks\": \"\"}}, \"type\": \"scattergl\"}], \"scattermapbox\": [{\"marker\": {\"colorbar\": {\"outlinewidth\": 0, \"ticks\": \"\"}}, \"type\": \"scattermapbox\"}], \"scatterpolar\": [{\"marker\": {\"colorbar\": {\"outlinewidth\": 0, \"ticks\": \"\"}}, \"type\": \"scatterpolar\"}], \"scatterpolargl\": [{\"marker\": {\"colorbar\": {\"outlinewidth\": 0, \"ticks\": \"\"}}, \"type\": \"scatterpolargl\"}], \"scatterternary\": [{\"marker\": {\"colorbar\": {\"outlinewidth\": 0, \"ticks\": \"\"}}, \"type\": \"scatterternary\"}], \"surface\": [{\"colorbar\": {\"outlinewidth\": 0, \"ticks\": \"\"}, \"colorscale\": [[0.0, \"#0d0887\"], [0.1111111111111111, \"#46039f\"], [0.2222222222222222, \"#7201a8\"], [0.3333333333333333, \"#9c179e\"], [0.4444444444444444, \"#bd3786\"], [0.5555555555555556, \"#d8576b\"], [0.6666666666666666, \"#ed7953\"], [0.7777777777777778, \"#fb9f3a\"], [0.8888888888888888, \"#fdca26\"], [1.0, \"#f0f921\"]], \"type\": \"surface\"}], \"table\": [{\"cells\": {\"fill\": {\"color\": \"#EBF0F8\"}, \"line\": {\"color\": \"white\"}}, \"header\": {\"fill\": {\"color\": \"#C8D4E3\"}, \"line\": {\"color\": \"white\"}}, \"type\": \"table\"}]}, \"layout\": {\"annotationdefaults\": {\"arrowcolor\": \"#2a3f5f\", \"arrowhead\": 0, \"arrowwidth\": 1}, \"coloraxis\": {\"colorbar\": {\"outlinewidth\": 0, \"ticks\": \"\"}}, \"colorscale\": {\"diverging\": [[0, \"#8e0152\"], [0.1, \"#c51b7d\"], [0.2, \"#de77ae\"], [0.3, \"#f1b6da\"], [0.4, \"#fde0ef\"], [0.5, \"#f7f7f7\"], [0.6, \"#e6f5d0\"], [0.7, \"#b8e186\"], [0.8, \"#7fbc41\"], [0.9, \"#4d9221\"], [1, \"#276419\"]], \"sequential\": [[0.0, \"#0d0887\"], [0.1111111111111111, \"#46039f\"], [0.2222222222222222, \"#7201a8\"], [0.3333333333333333, \"#9c179e\"], [0.4444444444444444, \"#bd3786\"], [0.5555555555555556, \"#d8576b\"], [0.6666666666666666, \"#ed7953\"], [0.7777777777777778, \"#fb9f3a\"], [0.8888888888888888, \"#fdca26\"], [1.0, \"#f0f921\"]], \"sequentialminus\": [[0.0, \"#0d0887\"], [0.1111111111111111, \"#46039f\"], [0.2222222222222222, \"#7201a8\"], [0.3333333333333333, \"#9c179e\"], [0.4444444444444444, \"#bd3786\"], [0.5555555555555556, \"#d8576b\"], [0.6666666666666666, \"#ed7953\"], [0.7777777777777778, \"#fb9f3a\"], [0.8888888888888888, \"#fdca26\"], [1.0, \"#f0f921\"]]}, \"colorway\": [\"#636efa\", \"#EF553B\", \"#00cc96\", \"#ab63fa\", \"#FFA15A\", \"#19d3f3\", \"#FF6692\", \"#B6E880\", \"#FF97FF\", \"#FECB52\"], \"font\": {\"color\": \"#2a3f5f\"}, \"geo\": {\"bgcolor\": \"white\", \"lakecolor\": \"white\", \"landcolor\": \"#E5ECF6\", \"showlakes\": true, \"showland\": true, \"subunitcolor\": \"white\"}, \"hoverlabel\": {\"align\": \"left\"}, \"hovermode\": \"closest\", \"mapbox\": {\"style\": \"light\"}, \"paper_bgcolor\": \"white\", \"plot_bgcolor\": \"#E5ECF6\", \"polar\": {\"angularaxis\": {\"gridcolor\": \"white\", \"linecolor\": \"white\", \"ticks\": \"\"}, \"bgcolor\": \"#E5ECF6\", \"radialaxis\": {\"gridcolor\": \"white\", \"linecolor\": \"white\", \"ticks\": \"\"}}, \"scene\": {\"xaxis\": {\"backgroundcolor\": \"#E5ECF6\", \"gridcolor\": \"white\", \"gridwidth\": 2, \"linecolor\": \"white\", \"showbackground\": true, \"ticks\": \"\", \"zerolinecolor\": \"white\"}, \"yaxis\": {\"backgroundcolor\": \"#E5ECF6\", \"gridcolor\": \"white\", \"gridwidth\": 2, \"linecolor\": \"white\", \"showbackground\": true, \"ticks\": \"\", \"zerolinecolor\": \"white\"}, \"zaxis\": {\"backgroundcolor\": \"#E5ECF6\", \"gridcolor\": \"white\", \"gridwidth\": 2, \"linecolor\": \"white\", \"showbackground\": true, \"ticks\": \"\", \"zerolinecolor\": \"white\"}}, \"shapedefaults\": {\"line\": {\"color\": \"#2a3f5f\"}}, \"ternary\": {\"aaxis\": {\"gridcolor\": \"white\", \"linecolor\": \"white\", \"ticks\": \"\"}, \"baxis\": {\"gridcolor\": \"white\", \"linecolor\": \"white\", \"ticks\": \"\"}, \"bgcolor\": \"#E5ECF6\", \"caxis\": {\"gridcolor\": \"white\", \"linecolor\": \"white\", \"ticks\": \"\"}}, \"title\": {\"x\": 0.05}, \"xaxis\": {\"automargin\": true, \"gridcolor\": \"white\", \"linecolor\": \"white\", \"ticks\": \"\", \"title\": {\"standoff\": 15}, \"zerolinecolor\": \"white\", \"zerolinewidth\": 2}, \"yaxis\": {\"automargin\": true, \"gridcolor\": \"white\", \"linecolor\": \"white\", \"ticks\": \"\", \"title\": {\"standoff\": 15}, \"zerolinecolor\": \"white\", \"zerolinewidth\": 2}}}, \"title\": {\"text\": \"C-based Compounds Bulk Modulus vs. Shear Modulus\"}, \"width\": 1200, \"xaxis\": {\"gridwidth\": 2, \"title\": {\"text\": \"$Shear \\\\: Modulus \\\\: [GPa]$\"}, \"zeroline\": false}, \"yaxis\": {\"gridwidth\": 2, \"title\": {\"text\": \"$Bulk \\\\: Modulus [GPa]$\"}, \"zeroline\": false}},\n",
       "                        {\"responsive\": true}\n",
       "                    ).then(function(){\n",
       "                            \n",
       "var gd = document.getElementById('0837412f-bfed-480b-bd53-cb4baddfd628');\n",
       "var x = new MutationObserver(function (mutations, observer) {{\n",
       "        var display = window.getComputedStyle(gd).display;\n",
       "        if (!display || display === 'none') {{\n",
       "            console.log([gd, 'removed!']);\n",
       "            Plotly.purge(gd);\n",
       "            observer.disconnect();\n",
       "        }}\n",
       "}});\n",
       "\n",
       "// Listen for the removal of the full notebook cells\n",
       "var notebookContainer = gd.closest('#notebook-container');\n",
       "if (notebookContainer) {{\n",
       "    x.observe(notebookContainer, {childList: true});\n",
       "}}\n",
       "\n",
       "// Listen for the clearing of the current output cell\n",
       "var outputEl = gd.closest('.output');\n",
       "if (outputEl) {{\n",
       "    x.observe(outputEl, {childList: true});\n",
       "}}\n",
       "\n",
       "                        })\n",
       "                };\n",
       "                });\n",
       "            </script>\n",
       "        </div>"
      ]
     },
     "metadata": {},
     "output_type": "display_data"
    }
   ],
   "source": [
    "import plotly\n",
    "import plotly.graph_objs as go\n",
    "from plotly.offline import iplot\n",
    "layout_IPF_shear_modulus = go.Layout(title= \"C-based Compounds Bulk Modulus vs. Shear Modulus\", hovermode= 'closest',\n",
    "                   font = dict(family='Times New Roman',size=18),\n",
    "                   xaxis= dict(title= '$Shear \\: Modulus \\: [GPa]$',zeroline= False, gridwidth= 2),\n",
    "                   yaxis= dict(title= '$Bulk \\: Modulus [GPa]$',zeroline= False, gridwidth= 2),\n",
    "                   height = 600,\n",
    "                   width = 1200,\n",
    "     showlegend= False              \n",
    ")\n",
    "\n",
    "#Scatter plot of collected data. Use df_oxide_all dataframe. df_oxide_all.Density will pull density column. Could change Density or IPF to Molar Volume or simply volume if you wanted.\n",
    "trace_all_shear = go.Scatter(x = abs(df_oxide.G_VRH), y = df_oxide.K_VRH, mode = 'markers', text = df_oxide.Formula,\n",
    "                            marker=dict(size=12, color=(df_oxide['poisson_ratio']),\n",
    "                                colorbar = dict(title={ 'text': \"Poisson Ratio\", \n",
    "                                                     'font': {'family':'Georgia', 'size': 18}} , \n",
    "                                              tickfont={'family':'Georgia', 'size': 16 })))#, name = 'All Queries'))\n",
    "\n",
    "                             \n",
    "data_IPF_shear = [trace_all_shear]\n",
    "fig_IPF_shear = go.Figure(data_IPF_shear, layout=layout_IPF_shear_modulus)\n",
    "iplot(fig_IPF_shear)"
   ]
  },
  {
   "cell_type": "code",
   "execution_count": 259,
   "metadata": {},
   "outputs": [
    {
     "data": {
      "application/vnd.plotly.v1+json": {
       "config": {
        "linkText": "Export to plot.ly",
        "plotlyServerURL": "https://plot.ly",
        "showLink": false
       },
       "data": [
        {
         "marker": {
          "color": [
           0.29,
           0.22,
           0.23,
           0.33,
           0.23,
           0.24,
           0.09,
           0.27,
           0.25,
           0.27,
           0.25,
           0.28,
           0.18,
           0.35,
           0.26,
           0.26,
           0.16,
           0.37,
           0.11,
           0.33,
           0.26,
           0.3,
           0.24,
           0.18,
           0.29,
           0.34,
           0.19,
           0.29,
           0.16,
           0.36,
           0.17,
           0.3,
           0.23,
           0.3,
           0.3,
           0.33,
           0.23,
           0.24,
           0.35,
           0.33,
           0.29,
           0.24,
           0.34,
           0.3,
           0.3,
           0.33,
           0.17,
           0.25,
           0.17,
           0.24,
           0.26,
           0.32,
           0.27,
           0.3,
           0.3,
           0.24,
           0.27,
           0.25,
           0.21,
           0.31,
           0.3,
           0.31,
           0.25,
           0.33,
           0.33,
           0.35,
           0.29,
           0.28,
           0.35,
           0.24,
           0.28,
           0.33,
           0.31,
           0.19,
           0.31,
           0.28,
           0.31,
           0.31,
           0.21,
           0.29,
           0.25,
           0.28,
           0.25,
           0.25,
           0.27,
           0.34,
           0.21,
           0.32,
           0.3,
           0.31,
           0.22,
           0.26,
           0.21,
           0.2
          ],
          "colorbar": {
           "tickfont": {
            "family": "Georgia",
            "size": 16
           },
           "title": {
            "font": {
             "family": "Georgia",
             "size": 18
            },
            "text": "Poisson Ratio"
           }
          },
          "size": 12
         },
         "mode": "markers",
         "text": [
          "CrNi3",
          "CrIr3",
          "CrRh3",
          "TiCr2",
          "Cr5B3",
          "Cr2B",
          "Be12Cr",
          "AlCr2",
          "CrO2",
          "Cr2O3",
          "Cr3Ge",
          "Cr3C2",
          "CrP",
          "TaCr2",
          "CrH",
          "CrBr3",
          "Be2Cr",
          "NbCr2",
          "CrF3",
          "TiCr2",
          "CrF5",
          "Cr23C6",
          "Cr3Si",
          "CrP4",
          "CrNi2",
          "HfCr2",
          "Al3Cr",
          "Cr2N",
          "CrSi2",
          "ZrCr2",
          "CrS2",
          "U2CrN3",
          "Mn(CrSe2)2",
          "Dy2Cr2C3",
          "Y2Cr2C3",
          "Mg2CrN3",
          "MgCrO4",
          "Cr2GaC",
          "CrAgS2",
          "CrCuO2",
          "AlCrRu2",
          "Mn2CrCo",
          "Ta2CrRu",
          "Tm2Cr2C3",
          "Tb2Cr2C3",
          "Zn2CrN3",
          "Li6CrN4",
          "TiCrP",
          "CrTe4Au",
          "Sr3CrN3",
          "LiCrO2",
          "Cr2GeC",
          "NbCrP",
          "Zn(CrSe2)2",
          "CrNiAs",
          "ScCrC2",
          "Rb2CrF6",
          "NaCrS2",
          "AlCr3B4",
          "Ho2Cr2C3",
          "V2CrFe",
          "V2CrRu",
          "Ca3CrN3",
          "BeCrRu2",
          "CrAuO2",
          "Ca2CrN3",
          "Na2CrO4",
          "LaCrO3",
          "CrAgO2",
          "U(Cr3P2)2",
          "LiCrS2",
          "CrCuO2",
          "CrCuS2",
          "Al(CrB)2",
          "MnV2Cr",
          "Mn2AlCr",
          "V2CrRe",
          "V2CrTc",
          "AlCr2C",
          "NaCrN2",
          "Cr3PtN",
          "CrPbO4",
          "CrBO3",
          "CrFeP",
          "Cs2CrCl4",
          "CrAgSe2",
          "KCrS2",
          "Ti2CrIr",
          "V2CrOs",
          "K2NaCrF6",
          "HoCr2Si2C",
          "Sr2TaCrO6",
          "KRb2CrF6",
          "Rb2NaCrF6"
         ],
         "type": "scatter",
         "x": [
          8.618942228355627,
          18.648438637883746,
          10.84546252759207,
          6.237410464246428,
          6.587365888141499,
          6.74214767317177,
          2.4927677331272613,
          5.7487220093605655,
          4.629940044129016,
          4.904330346354213,
          7.860403725285878,
          6.795180037110503,
          5.669873692732649,
          11.337189772845669,
          6.523424750290262,
          3.9426479166303237,
          4.407724434965535,
          7.767773427042093,
          3.5669247234196084,
          6.234565438345089,
          2.8421885259820887,
          7.167799814901859,
          6.625100603199788,
          3.8964816589730242,
          8.62090716505294,
          10.507988985740106,
          3.815305621002482,
          6.7238252617052074,
          5.015722493546895,
          7.109106915706326,
          3.082703604081153,
          12.702454774680787,
          5.460394618462859,
          8.179075697402185,
          5.553900997962683,
          3.260071635851983,
          3.05233891041771,
          6.887637715111307,
          5.029493161129396,
          5.308605260477462,
          8.726919257450142,
          7.716185764584853,
          13.841976533809055,
          8.691772497279294,
          7.969868448138059,
          5.325875173010978,
          2.4147376439978294,
          5.652777279831061,
          7.343432517848616,
          4.252480902143335,
          4.101010951132802,
          6.955160667078985,
          7.08015918030501,
          5.405418835718923,
          7.617337309351947,
          4.839726525303591,
          3.362947299970635,
          3.184247031786236,
          5.37477494738821,
          8.354270274164262,
          7.348434423639102,
          8.13776016770855,
          3.241737275435285,
          9.069538941582902,
          9.220117847189515,
          3.45200033366467,
          2.6668803392777396,
          6.457324685036008,
          6.2807590535860705,
          7.845540020791599,
          3.206621000276271,
          5.295622147539851,
          4.535384722119756,
          5.327369116401093,
          7.151615099984709,
          6.653173672646668,
          10.618552634076526,
          7.954744598658002,
          5.338343678602588,
          3.1468044436563316,
          10.702691061931008,
          5.727997990762413,
          4.046621554470586,
          6.917186606244874,
          3.38253758452127,
          6.112507624833568,
          3.1156170519728943,
          9.760395641571574,
          10.87437113588139,
          2.961003060116674,
          6.837675236213143,
          6.5567001162891705,
          3.4223925170351,
          3.7691076621050534
         ],
         "y": [
          270.90000000000003,
          522.16,
          371.46,
          199.5,
          482.15999999999997,
          458.8,
          313.92,
          261.62,
          267.5,
          287.02,
          320,
          432.64,
          325.68,
          224.10000000000002,
          345.24,
          12.6,
          366.56,
          175.36,
          86.58000000000001,
          199.5,
          10.08,
          358.8,
          381.92,
          236,
          288.96000000000004,
          182.24,
          197.54,
          361.2,
          399.03999999999996,
          152.32,
          30.419999999999998,
          262.6,
          73.8,
          179.4,
          192.4,
          127.68,
          100.86,
          287.68,
          70.2,
          154.28,
          291.54,
          240.56,
          251.92000000000002,
          200.20000000000002,
          176.8,
          159.60000000000002,
          168.48,
          307.5,
          53.81999999999999,
          76.88,
          209.16,
          216.48000000000002,
          289.56,
          80.60000000000001,
          158.6,
          329.84,
          33.02,
          92.5,
          440.44,
          188.64000000000001,
          278.2,
          277.72,
          127.5,
          268.66,
          164.92000000000002,
          81,
          49.02,
          220.16,
          121.50000000000001,
          228.16,
          110.08,
          154.28,
          107.42,
          416.5,
          259.38,
          261.12,
          293.44,
          264.62,
          324.28,
          92.88,
          395,
          46.08,
          272.5,
          357.5,
          27.94,
          61.64,
          87.12,
          208.56,
          325,
          91.7,
          270.84,
          269.64,
          65.34,
          64.8
         ]
        }
       ],
       "layout": {
        "font": {
         "family": "Times New Roman",
         "size": 36
        },
        "height": 800,
        "hovermode": "closest",
        "showlegend": false,
        "template": {
         "data": {
          "bar": [
           {
            "error_x": {
             "color": "#2a3f5f"
            },
            "error_y": {
             "color": "#2a3f5f"
            },
            "marker": {
             "line": {
              "color": "#E5ECF6",
              "width": 0.5
             }
            },
            "type": "bar"
           }
          ],
          "barpolar": [
           {
            "marker": {
             "line": {
              "color": "#E5ECF6",
              "width": 0.5
             }
            },
            "type": "barpolar"
           }
          ],
          "carpet": [
           {
            "aaxis": {
             "endlinecolor": "#2a3f5f",
             "gridcolor": "white",
             "linecolor": "white",
             "minorgridcolor": "white",
             "startlinecolor": "#2a3f5f"
            },
            "baxis": {
             "endlinecolor": "#2a3f5f",
             "gridcolor": "white",
             "linecolor": "white",
             "minorgridcolor": "white",
             "startlinecolor": "#2a3f5f"
            },
            "type": "carpet"
           }
          ],
          "choropleth": [
           {
            "colorbar": {
             "outlinewidth": 0,
             "ticks": ""
            },
            "type": "choropleth"
           }
          ],
          "contour": [
           {
            "colorbar": {
             "outlinewidth": 0,
             "ticks": ""
            },
            "colorscale": [
             [
              0,
              "#0d0887"
             ],
             [
              0.1111111111111111,
              "#46039f"
             ],
             [
              0.2222222222222222,
              "#7201a8"
             ],
             [
              0.3333333333333333,
              "#9c179e"
             ],
             [
              0.4444444444444444,
              "#bd3786"
             ],
             [
              0.5555555555555556,
              "#d8576b"
             ],
             [
              0.6666666666666666,
              "#ed7953"
             ],
             [
              0.7777777777777778,
              "#fb9f3a"
             ],
             [
              0.8888888888888888,
              "#fdca26"
             ],
             [
              1,
              "#f0f921"
             ]
            ],
            "type": "contour"
           }
          ],
          "contourcarpet": [
           {
            "colorbar": {
             "outlinewidth": 0,
             "ticks": ""
            },
            "type": "contourcarpet"
           }
          ],
          "heatmap": [
           {
            "colorbar": {
             "outlinewidth": 0,
             "ticks": ""
            },
            "colorscale": [
             [
              0,
              "#0d0887"
             ],
             [
              0.1111111111111111,
              "#46039f"
             ],
             [
              0.2222222222222222,
              "#7201a8"
             ],
             [
              0.3333333333333333,
              "#9c179e"
             ],
             [
              0.4444444444444444,
              "#bd3786"
             ],
             [
              0.5555555555555556,
              "#d8576b"
             ],
             [
              0.6666666666666666,
              "#ed7953"
             ],
             [
              0.7777777777777778,
              "#fb9f3a"
             ],
             [
              0.8888888888888888,
              "#fdca26"
             ],
             [
              1,
              "#f0f921"
             ]
            ],
            "type": "heatmap"
           }
          ],
          "heatmapgl": [
           {
            "colorbar": {
             "outlinewidth": 0,
             "ticks": ""
            },
            "colorscale": [
             [
              0,
              "#0d0887"
             ],
             [
              0.1111111111111111,
              "#46039f"
             ],
             [
              0.2222222222222222,
              "#7201a8"
             ],
             [
              0.3333333333333333,
              "#9c179e"
             ],
             [
              0.4444444444444444,
              "#bd3786"
             ],
             [
              0.5555555555555556,
              "#d8576b"
             ],
             [
              0.6666666666666666,
              "#ed7953"
             ],
             [
              0.7777777777777778,
              "#fb9f3a"
             ],
             [
              0.8888888888888888,
              "#fdca26"
             ],
             [
              1,
              "#f0f921"
             ]
            ],
            "type": "heatmapgl"
           }
          ],
          "histogram": [
           {
            "marker": {
             "colorbar": {
              "outlinewidth": 0,
              "ticks": ""
             }
            },
            "type": "histogram"
           }
          ],
          "histogram2d": [
           {
            "colorbar": {
             "outlinewidth": 0,
             "ticks": ""
            },
            "colorscale": [
             [
              0,
              "#0d0887"
             ],
             [
              0.1111111111111111,
              "#46039f"
             ],
             [
              0.2222222222222222,
              "#7201a8"
             ],
             [
              0.3333333333333333,
              "#9c179e"
             ],
             [
              0.4444444444444444,
              "#bd3786"
             ],
             [
              0.5555555555555556,
              "#d8576b"
             ],
             [
              0.6666666666666666,
              "#ed7953"
             ],
             [
              0.7777777777777778,
              "#fb9f3a"
             ],
             [
              0.8888888888888888,
              "#fdca26"
             ],
             [
              1,
              "#f0f921"
             ]
            ],
            "type": "histogram2d"
           }
          ],
          "histogram2dcontour": [
           {
            "colorbar": {
             "outlinewidth": 0,
             "ticks": ""
            },
            "colorscale": [
             [
              0,
              "#0d0887"
             ],
             [
              0.1111111111111111,
              "#46039f"
             ],
             [
              0.2222222222222222,
              "#7201a8"
             ],
             [
              0.3333333333333333,
              "#9c179e"
             ],
             [
              0.4444444444444444,
              "#bd3786"
             ],
             [
              0.5555555555555556,
              "#d8576b"
             ],
             [
              0.6666666666666666,
              "#ed7953"
             ],
             [
              0.7777777777777778,
              "#fb9f3a"
             ],
             [
              0.8888888888888888,
              "#fdca26"
             ],
             [
              1,
              "#f0f921"
             ]
            ],
            "type": "histogram2dcontour"
           }
          ],
          "mesh3d": [
           {
            "colorbar": {
             "outlinewidth": 0,
             "ticks": ""
            },
            "type": "mesh3d"
           }
          ],
          "parcoords": [
           {
            "line": {
             "colorbar": {
              "outlinewidth": 0,
              "ticks": ""
             }
            },
            "type": "parcoords"
           }
          ],
          "pie": [
           {
            "automargin": true,
            "type": "pie"
           }
          ],
          "scatter": [
           {
            "marker": {
             "colorbar": {
              "outlinewidth": 0,
              "ticks": ""
             }
            },
            "type": "scatter"
           }
          ],
          "scatter3d": [
           {
            "line": {
             "colorbar": {
              "outlinewidth": 0,
              "ticks": ""
             }
            },
            "marker": {
             "colorbar": {
              "outlinewidth": 0,
              "ticks": ""
             }
            },
            "type": "scatter3d"
           }
          ],
          "scattercarpet": [
           {
            "marker": {
             "colorbar": {
              "outlinewidth": 0,
              "ticks": ""
             }
            },
            "type": "scattercarpet"
           }
          ],
          "scattergeo": [
           {
            "marker": {
             "colorbar": {
              "outlinewidth": 0,
              "ticks": ""
             }
            },
            "type": "scattergeo"
           }
          ],
          "scattergl": [
           {
            "marker": {
             "colorbar": {
              "outlinewidth": 0,
              "ticks": ""
             }
            },
            "type": "scattergl"
           }
          ],
          "scattermapbox": [
           {
            "marker": {
             "colorbar": {
              "outlinewidth": 0,
              "ticks": ""
             }
            },
            "type": "scattermapbox"
           }
          ],
          "scatterpolar": [
           {
            "marker": {
             "colorbar": {
              "outlinewidth": 0,
              "ticks": ""
             }
            },
            "type": "scatterpolar"
           }
          ],
          "scatterpolargl": [
           {
            "marker": {
             "colorbar": {
              "outlinewidth": 0,
              "ticks": ""
             }
            },
            "type": "scatterpolargl"
           }
          ],
          "scatterternary": [
           {
            "marker": {
             "colorbar": {
              "outlinewidth": 0,
              "ticks": ""
             }
            },
            "type": "scatterternary"
           }
          ],
          "surface": [
           {
            "colorbar": {
             "outlinewidth": 0,
             "ticks": ""
            },
            "colorscale": [
             [
              0,
              "#0d0887"
             ],
             [
              0.1111111111111111,
              "#46039f"
             ],
             [
              0.2222222222222222,
              "#7201a8"
             ],
             [
              0.3333333333333333,
              "#9c179e"
             ],
             [
              0.4444444444444444,
              "#bd3786"
             ],
             [
              0.5555555555555556,
              "#d8576b"
             ],
             [
              0.6666666666666666,
              "#ed7953"
             ],
             [
              0.7777777777777778,
              "#fb9f3a"
             ],
             [
              0.8888888888888888,
              "#fdca26"
             ],
             [
              1,
              "#f0f921"
             ]
            ],
            "type": "surface"
           }
          ],
          "table": [
           {
            "cells": {
             "fill": {
              "color": "#EBF0F8"
             },
             "line": {
              "color": "white"
             }
            },
            "header": {
             "fill": {
              "color": "#C8D4E3"
             },
             "line": {
              "color": "white"
             }
            },
            "type": "table"
           }
          ]
         },
         "layout": {
          "annotationdefaults": {
           "arrowcolor": "#2a3f5f",
           "arrowhead": 0,
           "arrowwidth": 1
          },
          "coloraxis": {
           "colorbar": {
            "outlinewidth": 0,
            "ticks": ""
           }
          },
          "colorscale": {
           "diverging": [
            [
             0,
             "#8e0152"
            ],
            [
             0.1,
             "#c51b7d"
            ],
            [
             0.2,
             "#de77ae"
            ],
            [
             0.3,
             "#f1b6da"
            ],
            [
             0.4,
             "#fde0ef"
            ],
            [
             0.5,
             "#f7f7f7"
            ],
            [
             0.6,
             "#e6f5d0"
            ],
            [
             0.7,
             "#b8e186"
            ],
            [
             0.8,
             "#7fbc41"
            ],
            [
             0.9,
             "#4d9221"
            ],
            [
             1,
             "#276419"
            ]
           ],
           "sequential": [
            [
             0,
             "#0d0887"
            ],
            [
             0.1111111111111111,
             "#46039f"
            ],
            [
             0.2222222222222222,
             "#7201a8"
            ],
            [
             0.3333333333333333,
             "#9c179e"
            ],
            [
             0.4444444444444444,
             "#bd3786"
            ],
            [
             0.5555555555555556,
             "#d8576b"
            ],
            [
             0.6666666666666666,
             "#ed7953"
            ],
            [
             0.7777777777777778,
             "#fb9f3a"
            ],
            [
             0.8888888888888888,
             "#fdca26"
            ],
            [
             1,
             "#f0f921"
            ]
           ],
           "sequentialminus": [
            [
             0,
             "#0d0887"
            ],
            [
             0.1111111111111111,
             "#46039f"
            ],
            [
             0.2222222222222222,
             "#7201a8"
            ],
            [
             0.3333333333333333,
             "#9c179e"
            ],
            [
             0.4444444444444444,
             "#bd3786"
            ],
            [
             0.5555555555555556,
             "#d8576b"
            ],
            [
             0.6666666666666666,
             "#ed7953"
            ],
            [
             0.7777777777777778,
             "#fb9f3a"
            ],
            [
             0.8888888888888888,
             "#fdca26"
            ],
            [
             1,
             "#f0f921"
            ]
           ]
          },
          "colorway": [
           "#636efa",
           "#EF553B",
           "#00cc96",
           "#ab63fa",
           "#FFA15A",
           "#19d3f3",
           "#FF6692",
           "#B6E880",
           "#FF97FF",
           "#FECB52"
          ],
          "font": {
           "color": "#2a3f5f"
          },
          "geo": {
           "bgcolor": "white",
           "lakecolor": "white",
           "landcolor": "#E5ECF6",
           "showlakes": true,
           "showland": true,
           "subunitcolor": "white"
          },
          "hoverlabel": {
           "align": "left"
          },
          "hovermode": "closest",
          "mapbox": {
           "style": "light"
          },
          "paper_bgcolor": "white",
          "plot_bgcolor": "#E5ECF6",
          "polar": {
           "angularaxis": {
            "gridcolor": "white",
            "linecolor": "white",
            "ticks": ""
           },
           "bgcolor": "#E5ECF6",
           "radialaxis": {
            "gridcolor": "white",
            "linecolor": "white",
            "ticks": ""
           }
          },
          "scene": {
           "xaxis": {
            "backgroundcolor": "#E5ECF6",
            "gridcolor": "white",
            "gridwidth": 2,
            "linecolor": "white",
            "showbackground": true,
            "ticks": "",
            "zerolinecolor": "white"
           },
           "yaxis": {
            "backgroundcolor": "#E5ECF6",
            "gridcolor": "white",
            "gridwidth": 2,
            "linecolor": "white",
            "showbackground": true,
            "ticks": "",
            "zerolinecolor": "white"
           },
           "zaxis": {
            "backgroundcolor": "#E5ECF6",
            "gridcolor": "white",
            "gridwidth": 2,
            "linecolor": "white",
            "showbackground": true,
            "ticks": "",
            "zerolinecolor": "white"
           }
          },
          "shapedefaults": {
           "line": {
            "color": "#2a3f5f"
           }
          },
          "ternary": {
           "aaxis": {
            "gridcolor": "white",
            "linecolor": "white",
            "ticks": ""
           },
           "baxis": {
            "gridcolor": "white",
            "linecolor": "white",
            "ticks": ""
           },
           "bgcolor": "#E5ECF6",
           "caxis": {
            "gridcolor": "white",
            "linecolor": "white",
            "ticks": ""
           }
          },
          "title": {
           "x": 0.05
          },
          "xaxis": {
           "automargin": true,
           "gridcolor": "white",
           "linecolor": "white",
           "ticks": "",
           "title": {
            "standoff": 15
           },
           "zerolinecolor": "white",
           "zerolinewidth": 2
          },
          "yaxis": {
           "automargin": true,
           "gridcolor": "white",
           "linecolor": "white",
           "ticks": "",
           "title": {
            "standoff": 15
           },
           "zerolinecolor": "white",
           "zerolinewidth": 2
          }
         }
        },
        "title": {
         "text": "Cr compounds"
        },
        "width": 800,
        "xaxis": {
         "gridwidth": 2,
         "title": {
          "text": "Density [g/cm<sup>-3</sup>]"
         },
         "zeroline": false
        },
        "yaxis": {
         "gridwidth": 2,
         "range": [
          0,
          600
         ],
         "title": {
          "text": "Young's Modulus [GPa]"
         },
         "zeroline": false
        }
       }
      },
      "text/html": [
       "<div>\n",
       "        \n",
       "        \n",
       "            <div id=\"7ea8a6e0-e34c-484f-bef4-a75f8bc274b4\" class=\"plotly-graph-div\" style=\"height:800px; width:800px;\"></div>\n",
       "            <script type=\"text/javascript\">\n",
       "                require([\"plotly\"], function(Plotly) {\n",
       "                    window.PLOTLYENV=window.PLOTLYENV || {};\n",
       "                    \n",
       "                if (document.getElementById(\"7ea8a6e0-e34c-484f-bef4-a75f8bc274b4\")) {\n",
       "                    Plotly.newPlot(\n",
       "                        '7ea8a6e0-e34c-484f-bef4-a75f8bc274b4',\n",
       "                        [{\"marker\": {\"color\": [0.29, 0.22, 0.23, 0.33, 0.23, 0.24, 0.09, 0.27, 0.25, 0.27, 0.25, 0.28, 0.18, 0.35, 0.26, 0.26, 0.16, 0.37, 0.11, 0.33, 0.26, 0.3, 0.24, 0.18, 0.29, 0.34, 0.19, 0.29, 0.16, 0.36, 0.17, 0.3, 0.23, 0.3, 0.3, 0.33, 0.23, 0.24, 0.35, 0.33, 0.29, 0.24, 0.34, 0.3, 0.3, 0.33, 0.17, 0.25, 0.17, 0.24, 0.26, 0.32, 0.27, 0.3, 0.3, 0.24, 0.27, 0.25, 0.21, 0.31, 0.3, 0.31, 0.25, 0.33, 0.33, 0.35, 0.29, 0.28, 0.35, 0.24, 0.28, 0.33, 0.31, 0.19, 0.31, 0.28, 0.31, 0.31, 0.21, 0.29, 0.25, 0.28, 0.25, 0.25, 0.27, 0.34, 0.21, 0.32, 0.3, 0.31, 0.22, 0.26, 0.21, 0.2], \"colorbar\": {\"tickfont\": {\"family\": \"Georgia\", \"size\": 16}, \"title\": {\"font\": {\"family\": \"Georgia\", \"size\": 18}, \"text\": \"Poisson Ratio\"}}, \"size\": 12}, \"mode\": \"markers\", \"text\": [\"CrNi3\", \"CrIr3\", \"CrRh3\", \"TiCr2\", \"Cr5B3\", \"Cr2B\", \"Be12Cr\", \"AlCr2\", \"CrO2\", \"Cr2O3\", \"Cr3Ge\", \"Cr3C2\", \"CrP\", \"TaCr2\", \"CrH\", \"CrBr3\", \"Be2Cr\", \"NbCr2\", \"CrF3\", \"TiCr2\", \"CrF5\", \"Cr23C6\", \"Cr3Si\", \"CrP4\", \"CrNi2\", \"HfCr2\", \"Al3Cr\", \"Cr2N\", \"CrSi2\", \"ZrCr2\", \"CrS2\", \"U2CrN3\", \"Mn(CrSe2)2\", \"Dy2Cr2C3\", \"Y2Cr2C3\", \"Mg2CrN3\", \"MgCrO4\", \"Cr2GaC\", \"CrAgS2\", \"CrCuO2\", \"AlCrRu2\", \"Mn2CrCo\", \"Ta2CrRu\", \"Tm2Cr2C3\", \"Tb2Cr2C3\", \"Zn2CrN3\", \"Li6CrN4\", \"TiCrP\", \"CrTe4Au\", \"Sr3CrN3\", \"LiCrO2\", \"Cr2GeC\", \"NbCrP\", \"Zn(CrSe2)2\", \"CrNiAs\", \"ScCrC2\", \"Rb2CrF6\", \"NaCrS2\", \"AlCr3B4\", \"Ho2Cr2C3\", \"V2CrFe\", \"V2CrRu\", \"Ca3CrN3\", \"BeCrRu2\", \"CrAuO2\", \"Ca2CrN3\", \"Na2CrO4\", \"LaCrO3\", \"CrAgO2\", \"U(Cr3P2)2\", \"LiCrS2\", \"CrCuO2\", \"CrCuS2\", \"Al(CrB)2\", \"MnV2Cr\", \"Mn2AlCr\", \"V2CrRe\", \"V2CrTc\", \"AlCr2C\", \"NaCrN2\", \"Cr3PtN\", \"CrPbO4\", \"CrBO3\", \"CrFeP\", \"Cs2CrCl4\", \"CrAgSe2\", \"KCrS2\", \"Ti2CrIr\", \"V2CrOs\", \"K2NaCrF6\", \"HoCr2Si2C\", \"Sr2TaCrO6\", \"KRb2CrF6\", \"Rb2NaCrF6\"], \"type\": \"scatter\", \"x\": [8.618942228355627, 18.648438637883746, 10.84546252759207, 6.237410464246428, 6.587365888141499, 6.74214767317177, 2.4927677331272613, 5.7487220093605655, 4.629940044129016, 4.904330346354213, 7.860403725285878, 6.795180037110503, 5.669873692732649, 11.337189772845669, 6.523424750290262, 3.9426479166303237, 4.407724434965535, 7.767773427042093, 3.5669247234196084, 6.234565438345089, 2.8421885259820887, 7.167799814901859, 6.625100603199788, 3.8964816589730242, 8.62090716505294, 10.507988985740106, 3.815305621002482, 6.7238252617052074, 5.015722493546895, 7.109106915706326, 3.082703604081153, 12.702454774680787, 5.460394618462859, 8.179075697402185, 5.553900997962683, 3.260071635851983, 3.05233891041771, 6.887637715111307, 5.029493161129396, 5.308605260477462, 8.726919257450142, 7.716185764584853, 13.841976533809055, 8.691772497279294, 7.969868448138059, 5.325875173010978, 2.4147376439978294, 5.652777279831061, 7.343432517848616, 4.252480902143335, 4.101010951132802, 6.955160667078985, 7.08015918030501, 5.405418835718923, 7.617337309351947, 4.839726525303591, 3.362947299970635, 3.184247031786236, 5.37477494738821, 8.354270274164262, 7.348434423639102, 8.13776016770855, 3.241737275435285, 9.069538941582902, 9.220117847189515, 3.45200033366467, 2.6668803392777396, 6.457324685036008, 6.2807590535860705, 7.845540020791599, 3.206621000276271, 5.295622147539851, 4.535384722119756, 5.327369116401093, 7.151615099984709, 6.653173672646668, 10.618552634076526, 7.954744598658002, 5.338343678602588, 3.1468044436563316, 10.702691061931008, 5.727997990762413, 4.046621554470586, 6.917186606244874, 3.38253758452127, 6.112507624833568, 3.1156170519728943, 9.760395641571574, 10.87437113588139, 2.961003060116674, 6.837675236213143, 6.5567001162891705, 3.4223925170351, 3.7691076621050534], \"y\": [270.90000000000003, 522.16, 371.46, 199.5, 482.15999999999997, 458.8, 313.92, 261.62, 267.5, 287.02, 320.0, 432.64, 325.68, 224.10000000000002, 345.24, 12.6, 366.56, 175.36, 86.58000000000001, 199.5, 10.08, 358.8, 381.92, 236.0, 288.96000000000004, 182.24, 197.54, 361.2, 399.03999999999996, 152.32, 30.419999999999998, 262.6, 73.8, 179.4, 192.4, 127.68, 100.86, 287.68, 70.2, 154.28, 291.54, 240.56, 251.92000000000002, 200.20000000000002, 176.8, 159.60000000000002, 168.48, 307.5, 53.81999999999999, 76.88, 209.16, 216.48000000000002, 289.56, 80.60000000000001, 158.6, 329.84, 33.02, 92.5, 440.44, 188.64000000000001, 278.2, 277.72, 127.5, 268.66, 164.92000000000002, 81.0, 49.02, 220.16, 121.50000000000001, 228.16, 110.08, 154.28, 107.42, 416.5, 259.38, 261.12, 293.44, 264.62, 324.28, 92.88, 395.0, 46.08, 272.5, 357.5, 27.94, 61.64, 87.12, 208.56, 325.0, 91.7, 270.84, 269.64, 65.34, 64.8]}],\n",
       "                        {\"font\": {\"family\": \"Times New Roman\", \"size\": 36}, \"height\": 800, \"hovermode\": \"closest\", \"showlegend\": false, \"template\": {\"data\": {\"bar\": [{\"error_x\": {\"color\": \"#2a3f5f\"}, \"error_y\": {\"color\": \"#2a3f5f\"}, \"marker\": {\"line\": {\"color\": \"#E5ECF6\", \"width\": 0.5}}, \"type\": \"bar\"}], \"barpolar\": [{\"marker\": {\"line\": {\"color\": \"#E5ECF6\", \"width\": 0.5}}, \"type\": \"barpolar\"}], \"carpet\": [{\"aaxis\": {\"endlinecolor\": \"#2a3f5f\", \"gridcolor\": \"white\", \"linecolor\": \"white\", \"minorgridcolor\": \"white\", \"startlinecolor\": \"#2a3f5f\"}, \"baxis\": {\"endlinecolor\": \"#2a3f5f\", \"gridcolor\": \"white\", \"linecolor\": \"white\", \"minorgridcolor\": \"white\", \"startlinecolor\": \"#2a3f5f\"}, \"type\": \"carpet\"}], \"choropleth\": [{\"colorbar\": {\"outlinewidth\": 0, \"ticks\": \"\"}, \"type\": \"choropleth\"}], \"contour\": [{\"colorbar\": {\"outlinewidth\": 0, \"ticks\": \"\"}, \"colorscale\": [[0.0, \"#0d0887\"], [0.1111111111111111, \"#46039f\"], [0.2222222222222222, \"#7201a8\"], [0.3333333333333333, \"#9c179e\"], [0.4444444444444444, \"#bd3786\"], [0.5555555555555556, \"#d8576b\"], [0.6666666666666666, \"#ed7953\"], [0.7777777777777778, \"#fb9f3a\"], [0.8888888888888888, \"#fdca26\"], [1.0, \"#f0f921\"]], \"type\": \"contour\"}], \"contourcarpet\": [{\"colorbar\": {\"outlinewidth\": 0, \"ticks\": \"\"}, \"type\": \"contourcarpet\"}], \"heatmap\": [{\"colorbar\": {\"outlinewidth\": 0, \"ticks\": \"\"}, \"colorscale\": [[0.0, \"#0d0887\"], [0.1111111111111111, \"#46039f\"], [0.2222222222222222, \"#7201a8\"], [0.3333333333333333, \"#9c179e\"], [0.4444444444444444, \"#bd3786\"], [0.5555555555555556, \"#d8576b\"], [0.6666666666666666, \"#ed7953\"], [0.7777777777777778, \"#fb9f3a\"], [0.8888888888888888, \"#fdca26\"], [1.0, \"#f0f921\"]], \"type\": \"heatmap\"}], \"heatmapgl\": [{\"colorbar\": {\"outlinewidth\": 0, \"ticks\": \"\"}, \"colorscale\": [[0.0, \"#0d0887\"], [0.1111111111111111, \"#46039f\"], [0.2222222222222222, \"#7201a8\"], [0.3333333333333333, \"#9c179e\"], [0.4444444444444444, \"#bd3786\"], [0.5555555555555556, \"#d8576b\"], [0.6666666666666666, \"#ed7953\"], [0.7777777777777778, \"#fb9f3a\"], [0.8888888888888888, \"#fdca26\"], [1.0, \"#f0f921\"]], \"type\": \"heatmapgl\"}], \"histogram\": [{\"marker\": {\"colorbar\": {\"outlinewidth\": 0, \"ticks\": \"\"}}, \"type\": \"histogram\"}], \"histogram2d\": [{\"colorbar\": {\"outlinewidth\": 0, \"ticks\": \"\"}, \"colorscale\": [[0.0, \"#0d0887\"], [0.1111111111111111, \"#46039f\"], [0.2222222222222222, \"#7201a8\"], [0.3333333333333333, \"#9c179e\"], [0.4444444444444444, \"#bd3786\"], [0.5555555555555556, \"#d8576b\"], [0.6666666666666666, \"#ed7953\"], [0.7777777777777778, \"#fb9f3a\"], [0.8888888888888888, \"#fdca26\"], [1.0, \"#f0f921\"]], \"type\": \"histogram2d\"}], \"histogram2dcontour\": [{\"colorbar\": {\"outlinewidth\": 0, \"ticks\": \"\"}, \"colorscale\": [[0.0, \"#0d0887\"], [0.1111111111111111, \"#46039f\"], [0.2222222222222222, \"#7201a8\"], [0.3333333333333333, \"#9c179e\"], [0.4444444444444444, \"#bd3786\"], [0.5555555555555556, \"#d8576b\"], [0.6666666666666666, \"#ed7953\"], [0.7777777777777778, \"#fb9f3a\"], [0.8888888888888888, \"#fdca26\"], [1.0, \"#f0f921\"]], \"type\": \"histogram2dcontour\"}], \"mesh3d\": [{\"colorbar\": {\"outlinewidth\": 0, \"ticks\": \"\"}, \"type\": \"mesh3d\"}], \"parcoords\": [{\"line\": {\"colorbar\": {\"outlinewidth\": 0, \"ticks\": \"\"}}, \"type\": \"parcoords\"}], \"pie\": [{\"automargin\": true, \"type\": \"pie\"}], \"scatter\": [{\"marker\": {\"colorbar\": {\"outlinewidth\": 0, \"ticks\": \"\"}}, \"type\": \"scatter\"}], \"scatter3d\": [{\"line\": {\"colorbar\": {\"outlinewidth\": 0, \"ticks\": \"\"}}, \"marker\": {\"colorbar\": {\"outlinewidth\": 0, \"ticks\": \"\"}}, \"type\": \"scatter3d\"}], \"scattercarpet\": [{\"marker\": {\"colorbar\": {\"outlinewidth\": 0, \"ticks\": \"\"}}, \"type\": \"scattercarpet\"}], \"scattergeo\": [{\"marker\": {\"colorbar\": {\"outlinewidth\": 0, \"ticks\": \"\"}}, \"type\": \"scattergeo\"}], \"scattergl\": [{\"marker\": {\"colorbar\": {\"outlinewidth\": 0, \"ticks\": \"\"}}, \"type\": \"scattergl\"}], \"scattermapbox\": [{\"marker\": {\"colorbar\": {\"outlinewidth\": 0, \"ticks\": \"\"}}, \"type\": \"scattermapbox\"}], \"scatterpolar\": [{\"marker\": {\"colorbar\": {\"outlinewidth\": 0, \"ticks\": \"\"}}, \"type\": \"scatterpolar\"}], \"scatterpolargl\": [{\"marker\": {\"colorbar\": {\"outlinewidth\": 0, \"ticks\": \"\"}}, \"type\": \"scatterpolargl\"}], \"scatterternary\": [{\"marker\": {\"colorbar\": {\"outlinewidth\": 0, \"ticks\": \"\"}}, \"type\": \"scatterternary\"}], \"surface\": [{\"colorbar\": {\"outlinewidth\": 0, \"ticks\": \"\"}, \"colorscale\": [[0.0, \"#0d0887\"], [0.1111111111111111, \"#46039f\"], [0.2222222222222222, \"#7201a8\"], [0.3333333333333333, \"#9c179e\"], [0.4444444444444444, \"#bd3786\"], [0.5555555555555556, \"#d8576b\"], [0.6666666666666666, \"#ed7953\"], [0.7777777777777778, \"#fb9f3a\"], [0.8888888888888888, \"#fdca26\"], [1.0, \"#f0f921\"]], \"type\": \"surface\"}], \"table\": [{\"cells\": {\"fill\": {\"color\": \"#EBF0F8\"}, \"line\": {\"color\": \"white\"}}, \"header\": {\"fill\": {\"color\": \"#C8D4E3\"}, \"line\": {\"color\": \"white\"}}, \"type\": \"table\"}]}, \"layout\": {\"annotationdefaults\": {\"arrowcolor\": \"#2a3f5f\", \"arrowhead\": 0, \"arrowwidth\": 1}, \"coloraxis\": {\"colorbar\": {\"outlinewidth\": 0, \"ticks\": \"\"}}, \"colorscale\": {\"diverging\": [[0, \"#8e0152\"], [0.1, \"#c51b7d\"], [0.2, \"#de77ae\"], [0.3, \"#f1b6da\"], [0.4, \"#fde0ef\"], [0.5, \"#f7f7f7\"], [0.6, \"#e6f5d0\"], [0.7, \"#b8e186\"], [0.8, \"#7fbc41\"], [0.9, \"#4d9221\"], [1, \"#276419\"]], \"sequential\": [[0.0, \"#0d0887\"], [0.1111111111111111, \"#46039f\"], [0.2222222222222222, \"#7201a8\"], [0.3333333333333333, \"#9c179e\"], [0.4444444444444444, \"#bd3786\"], [0.5555555555555556, \"#d8576b\"], [0.6666666666666666, \"#ed7953\"], [0.7777777777777778, \"#fb9f3a\"], [0.8888888888888888, \"#fdca26\"], [1.0, \"#f0f921\"]], \"sequentialminus\": [[0.0, \"#0d0887\"], [0.1111111111111111, \"#46039f\"], [0.2222222222222222, \"#7201a8\"], [0.3333333333333333, \"#9c179e\"], [0.4444444444444444, \"#bd3786\"], [0.5555555555555556, \"#d8576b\"], [0.6666666666666666, \"#ed7953\"], [0.7777777777777778, \"#fb9f3a\"], [0.8888888888888888, \"#fdca26\"], [1.0, \"#f0f921\"]]}, \"colorway\": [\"#636efa\", \"#EF553B\", \"#00cc96\", \"#ab63fa\", \"#FFA15A\", \"#19d3f3\", \"#FF6692\", \"#B6E880\", \"#FF97FF\", \"#FECB52\"], \"font\": {\"color\": \"#2a3f5f\"}, \"geo\": {\"bgcolor\": \"white\", \"lakecolor\": \"white\", \"landcolor\": \"#E5ECF6\", \"showlakes\": true, \"showland\": true, \"subunitcolor\": \"white\"}, \"hoverlabel\": {\"align\": \"left\"}, \"hovermode\": \"closest\", \"mapbox\": {\"style\": \"light\"}, \"paper_bgcolor\": \"white\", \"plot_bgcolor\": \"#E5ECF6\", \"polar\": {\"angularaxis\": {\"gridcolor\": \"white\", \"linecolor\": \"white\", \"ticks\": \"\"}, \"bgcolor\": \"#E5ECF6\", \"radialaxis\": {\"gridcolor\": \"white\", \"linecolor\": \"white\", \"ticks\": \"\"}}, \"scene\": {\"xaxis\": {\"backgroundcolor\": \"#E5ECF6\", \"gridcolor\": \"white\", \"gridwidth\": 2, \"linecolor\": \"white\", \"showbackground\": true, \"ticks\": \"\", \"zerolinecolor\": \"white\"}, \"yaxis\": {\"backgroundcolor\": \"#E5ECF6\", \"gridcolor\": \"white\", \"gridwidth\": 2, \"linecolor\": \"white\", \"showbackground\": true, \"ticks\": \"\", \"zerolinecolor\": \"white\"}, \"zaxis\": {\"backgroundcolor\": \"#E5ECF6\", \"gridcolor\": \"white\", \"gridwidth\": 2, \"linecolor\": \"white\", \"showbackground\": true, \"ticks\": \"\", \"zerolinecolor\": \"white\"}}, \"shapedefaults\": {\"line\": {\"color\": \"#2a3f5f\"}}, \"ternary\": {\"aaxis\": {\"gridcolor\": \"white\", \"linecolor\": \"white\", \"ticks\": \"\"}, \"baxis\": {\"gridcolor\": \"white\", \"linecolor\": \"white\", \"ticks\": \"\"}, \"bgcolor\": \"#E5ECF6\", \"caxis\": {\"gridcolor\": \"white\", \"linecolor\": \"white\", \"ticks\": \"\"}}, \"title\": {\"x\": 0.05}, \"xaxis\": {\"automargin\": true, \"gridcolor\": \"white\", \"linecolor\": \"white\", \"ticks\": \"\", \"title\": {\"standoff\": 15}, \"zerolinecolor\": \"white\", \"zerolinewidth\": 2}, \"yaxis\": {\"automargin\": true, \"gridcolor\": \"white\", \"linecolor\": \"white\", \"ticks\": \"\", \"title\": {\"standoff\": 15}, \"zerolinecolor\": \"white\", \"zerolinewidth\": 2}}}, \"title\": {\"text\": \"Cr compounds\"}, \"width\": 800, \"xaxis\": {\"gridwidth\": 2, \"title\": {\"text\": \"Density [g/cm<sup>-3</sup>]\"}, \"zeroline\": false}, \"yaxis\": {\"gridwidth\": 2, \"range\": [0, 600], \"title\": {\"text\": \"Young's Modulus [GPa]\"}, \"zeroline\": false}},\n",
       "                        {\"responsive\": true}\n",
       "                    ).then(function(){\n",
       "                            \n",
       "var gd = document.getElementById('7ea8a6e0-e34c-484f-bef4-a75f8bc274b4');\n",
       "var x = new MutationObserver(function (mutations, observer) {{\n",
       "        var display = window.getComputedStyle(gd).display;\n",
       "        if (!display || display === 'none') {{\n",
       "            console.log([gd, 'removed!']);\n",
       "            Plotly.purge(gd);\n",
       "            observer.disconnect();\n",
       "        }}\n",
       "}});\n",
       "\n",
       "// Listen for the removal of the full notebook cells\n",
       "var notebookContainer = gd.closest('#notebook-container');\n",
       "if (notebookContainer) {{\n",
       "    x.observe(notebookContainer, {childList: true});\n",
       "}}\n",
       "\n",
       "// Listen for the clearing of the current output cell\n",
       "var outputEl = gd.closest('.output');\n",
       "if (outputEl) {{\n",
       "    x.observe(outputEl, {childList: true});\n",
       "}}\n",
       "\n",
       "                        })\n",
       "                };\n",
       "                });\n",
       "            </script>\n",
       "        </div>"
      ]
     },
     "metadata": {},
     "output_type": "display_data"
    }
   ],
   "source": [
    "layout_test = go.Layout(title= \"Cr compounds\", hovermode= 'closest',\n",
    "                  font = dict(family='Times New Roman',size=36),\n",
    "                  xaxis= dict(title= 'Density [g/cm<sup>-3</sup>]',zeroline= False, gridwidth= 2), #To change range put command inside xaxis dictionary after gridwidth range=[-XX,XX]\n",
    "                  yaxis= dict(title= \"Young's Modulus [GPa]\",zeroline= False, gridwidth= 2,range=[0,600]), #To change range put command inside yaxis dictionary after gridwidth range=[-YY,YY]\n",
    "                  height = 800,\n",
    "                  width = 800,\n",
    "    showlegend= False              \n",
    ")\n",
    "\n",
    "#Scatter plot of collected data. Use df_oxide_all dataframe. df_oxide_all.Density will pull density column. Could change Density or IPF to Molar Volume or simply volume if you wanted.\n",
    "trace_test = go.Scatter(x = df_oxide.Density, y = df_oxide.Y_Modulus, mode = 'markers', text = df_oxide.Formula,\n",
    "                           marker=dict(size=12, color=(df_oxide['poisson_ratio']),\n",
    "                               colorbar = dict(title={ 'text': \"Poisson Ratio\", \n",
    "                                                    'font': {'family':'Georgia', 'size': 18}},  \n",
    "                                             tickfont={'family':'Georgia', 'size': 16 })), )#, name = 'All Queries'))\n",
    "\n",
    "\n",
    "import plotly.express as px\n",
    "data_test = [trace_test]\n",
    "fig_test = go.Figure(data_test, layout=layout_test)\n",
    "# fig_test.update_layout(color_continuous_scale=px.colors.sequential.Viridis)\n",
    "iplot(fig_test)"
   ]
  },
  {
   "cell_type": "code",
   "execution_count": null,
   "metadata": {},
   "outputs": [],
   "source": []
  }
 ],
 "metadata": {
  "kernelspec": {
   "display_name": "PythonData",
   "language": "python",
   "name": "pythondata"
  },
  "language_info": {
   "codemirror_mode": {
    "name": "ipython",
    "version": 3
   },
   "file_extension": ".py",
   "mimetype": "text/x-python",
   "name": "python",
   "nbconvert_exporter": "python",
   "pygments_lexer": "ipython3",
   "version": "3.7.7"
  }
 },
 "nbformat": 4,
 "nbformat_minor": 2
}
