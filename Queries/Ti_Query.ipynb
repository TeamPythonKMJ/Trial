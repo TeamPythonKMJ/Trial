{
 "cells": [
  {
   "cell_type": "markdown",
   "metadata": {},
   "source": [
    "<p float=\"left\">\n",
    "  <img src=nanoHUB_logo_color.png width=\"500px\" height='200px' align=\"center\" /> \n",
    "</p>"
   ]
  },
  {
   "cell_type": "markdown",
   "metadata": {},
   "source": [
    "\n",
    "# Querying and Managing Data from Materials Project\n",
    "\n",
    "\n",
    "<b> nanoHUB tools by: </b>  <i>Zachary D. McClure</i> and <i>Alejandro Strachan</i>, Materials Engineering, Purdue University <br>\n",
    "### Authorship and credits\n",
    "\n",
    "<b> Based on work published by: </b> [Shyue Ping Ong et al.](https://www.sciencedirect.com/science/article/abs/pii/S0927025612006295?via%3Dihub) <br> \n",
    "\n",
    "\n",
    "## Overview\n",
    "\n",
    "This notebook will serve as a workflow for querying a large set of data from the Materials Project database. As an example we will query a large set of oxide compounds from the database and attempt to filter out unnecessary results. Our primary tools will be the Materials Project API and the Pandas dataframe library.\n",
    "\n",
    "**Outline:**\n",
    "\n",
    "1. Querying an oxide dataset Materials Project <br>\n",
    "2. Filtering data for convex hull energy<br>\n",
    "3. Filtering data for elastic constants <br>\n",
    "\n",
    "Notes: \n",
    "* This notebook uses tools from [Materials Project](https://materialsproject.org/open) and requires an account with an API key.\n",
    "* Run cells in sequential order. In many cases we will drop columns or rows from dataframes, and re-running the cell will error out. To re-run notebook begin with cells below the initial query."
   ]
  },
  {
   "cell_type": "markdown",
   "metadata": {},
   "source": [
    "# Loading your API Key\n",
    "In order to load your API key, you can insert it in the Input textbox below and we will store it for your convenience. Remember to hit \"Enter\". "
   ]
  },
  {
   "cell_type": "markdown",
   "metadata": {},
   "source": [
    "### Load Materials Project API Key"
   ]
  },
  {
   "cell_type": "code",
   "execution_count": 1,
   "metadata": {},
   "outputs": [
    {
     "name": "stdout",
     "output_type": "stream",
     "text": [
      "Success\n"
     ]
    }
   ],
   "source": [
    "import os, stat\n",
    "from IPython.display import clear_output\n",
    "\n",
    "try:\n",
    "    user = str(input())\n",
    "    clear_output()\n",
    "    if not user.isalnum():\n",
    "        raise TypeError('Wrong Key')\n",
    "    if user == None:\n",
    "        raise TypeError('Empty')\n",
    "    with open(os.path.expanduser('~/.mpkey.txt'), 'w') as keyfile:\n",
    "        keyfile.write(user)\n",
    "    os.chmod(os.path.expanduser('~/.mpkey.txt'), stat.S_IREAD | stat.S_IWRITE)\n",
    "    del user\n",
    "    print(\"Success\")\n",
    "except:\n",
    "    print(\"Something seems wrong with your key\")"
   ]
  },
  {
   "cell_type": "markdown",
   "metadata": {},
   "source": [
    "## Libraries\n",
    "\n",
    "This notebook requires several libraries to be imported. They are separated in blocks depending on their usage."
   ]
  },
  {
   "cell_type": "code",
   "execution_count": 2,
   "metadata": {},
   "outputs": [],
   "source": [
    "# These lines import both libraries and then define an array with elements to be used below\n",
    "\n",
    "#Pymatgen and sub-libraries\n",
    "import pymatgen\n",
    "from pymatgen import MPRester, Element, Structure\n",
    "from pymatgen.core import composition\n",
    "from pymatgen.io.vasp import Vasprun\n",
    "from pymatgen.entries.computed_entries import ComputedEntry\n",
    "from pymatgen.entries.compatibility import MaterialsProjectCompatibility\n",
    "from pymatgen.util.plotting import *\n",
    "from pymatgen.analysis.phase_diagram import *\n",
    "#import pymatgen.core.composition\n",
    "from pymatgen.apps.borg.hive import VaspToComputedEntryDrone\n",
    "from pymatgen.entries.compatibility import MaterialsProjectCompatibility\n",
    "import json\n",
    "\n",
    "#Misc. Tools\n",
    "import matplotlib.pyplot as plt\n",
    "import random\n",
    "import os\n",
    "from itertools import combinations\n",
    "import pandas as pd\n",
    "\n",
    "#Import API Key\n",
    "file = open(os.path.expanduser('~/.mpkey.txt'),\"r+\")\n",
    "apikey = file.readline()\n",
    "file.close()\n",
    "rester = MPRester(apikey)"
   ]
  },
  {
   "cell_type": "markdown",
   "metadata": {},
   "source": [
    "## 1. Query all oxides in MP database"
   ]
  },
  {
   "cell_type": "code",
   "execution_count": 3,
   "metadata": {},
   "outputs": [
    {
     "data": {
      "application/vnd.jupyter.widget-view+json": {
       "model_id": "7ff29bbc6c174b399f50e13774a9882a",
       "version_major": 2,
       "version_minor": 0
      },
      "text/plain": [
       "HBox(children=(FloatProgress(value=0.0, max=5846.0), HTML(value='')))"
      ]
     },
     "metadata": {},
     "output_type": "display_data"
    }
   ],
   "source": [
    "#Query every structure in the MP database that has oxygen atom within compound. \n",
    "#Grab set of properties from database. Ti and Fe based.\n",
    "data = rester.query({\"elements\": \"Ti\", \"nelements\": {\"$gte\": 2}},\n",
    "                    [\"task_id\",\"pretty_formula\",\"formula\",\"volume\",\"density\",\"elements\",\n",
    "                     \"e_above_hull\",\"elasticity\",\"unit_cell_formula\"])"
   ]
  },
  {
   "cell_type": "markdown",
   "metadata": {},
   "source": [
    "First let's check how large our queried database is. Print out the length of the entire database the find the total number of oxide compounds that exist of the MP database"
   ]
  },
  {
   "cell_type": "code",
   "execution_count": 4,
   "metadata": {},
   "outputs": [
    {
     "name": "stdout",
     "output_type": "stream",
     "text": [
      "Number of oxide structures available on the MP database: 5846\n",
      "Example output: {'task_id': 'mp-1062030', 'pretty_formula': 'TiS2', 'formula': {'Ti': 1.0, 'S': 2.0}, 'volume': 114.22459036770374, 'density': 1.6281554634094206, 'elements': ['S', 'Ti'], 'e_above_hull': 0.0035409266666670547, 'elasticity': None, 'unit_cell_formula': {'Ti': 1.0, 'S': 2.0}}\n"
     ]
    }
   ],
   "source": [
    "print('Number of oxide structures available on the MP database: %s' % len(data))\n",
    "print('Example output: %s' % data[24])"
   ]
  },
  {
   "cell_type": "markdown",
   "metadata": {},
   "source": [
    "## 2. Filtering data for energy stability\n",
    "After data query has been completed we will begin filtering things just a bit. First we will strip any values that have an energy above the convex hull greater than 1 meV. 0 meV indicates most stable phase. This filter can be changed below.<br>\n",
    "\n",
    "In the same loop we will calculate the ionic packing fraction of each oxide. We start by querying atomic radii for each element, and performing a quick calculation as shown above. For initial speed we keep everything as easily accessible dictionaries. In the following cells we will convert to a Pandas dataframe which is easier for filtering and plotting data."
   ]
  },
  {
   "cell_type": "code",
   "execution_count": 5,
   "metadata": {},
   "outputs": [],
   "source": [
    "energy_cutoff_value = 1 #energy above convex hull cutoff [meV]"
   ]
  },
  {
   "cell_type": "markdown",
   "metadata": {},
   "source": [
    "### 2.1 Filter data and calculate ionic packing fraction from compound query"
   ]
  },
  {
   "cell_type": "code",
   "execution_count": 6,
   "metadata": {},
   "outputs": [],
   "source": [
    "#Create temporary list arrays for data calculation and manipulation. We will clear the array after each loop\n",
    "atom_sample = []\n",
    "atom_count = []\n",
    "atom_radii = []\n",
    "atom_volume = []\n",
    "atom_volume_total = []\n",
    "\n",
    "#Create modified dictionary to store values that we want from queried database of all oxides\n",
    "property_dict_all = {}\n",
    "\n",
    "for k in range(0,len(data)):\n",
    "    #If Energy above convex Hull is larger than 1 meV we will skip that value and move on\n",
    "    e_above_hull = data[k].get('e_above_hull')*1000\n",
    "    if e_above_hull > energy_cutoff_value:\n",
    "        continue\n",
    "    #Grab values from data query. Data stored as dictionary so we call the 'keys' for 'values'\n",
    "    mp_id = data[k].get('task_id')\n",
    "    density = data[k].get('density')\n",
    "    pretty_formula = data[k].get('pretty_formula')\n",
    "    elastic_tensor = data[k].get('elasticity')\n",
    "    composition = data[k].get('formula')\n",
    "    oxide_volume = data[k].get('volume')\n",
    "    atom_type_count = len(data[k].get('elements'))\n",
    "    unit_cell_formula = data[k].get('unit_cell_formula')\n",
    "\n",
    "    #Pull atom count for each atom type. Will be used to find summed atomic volumes and summed masses\n",
    "    for type in np.arange(0,atom_type_count):\n",
    "        atom_sample.append(data[k].get('elements')[type])     \n",
    "        atom_count.append(data[k].get('unit_cell_formula').get(data[k].get('elements')[type]))\n",
    "        \n",
    "    #Do a quick query of each element type for ionic radius and atomic mass from Pymatgen\n",
    "    for item in atom_sample:\n",
    "        element_object = pymatgen.Element(item)\n",
    "        radii_values = element_object.average_ionic_radius\n",
    "        atom_radii.append(radii_values)\n",
    "\n",
    "    #For each atom radii queried calculate the atomic volume\n",
    "    for i in atom_radii:\n",
    "        v = (4/3)*np.pi*i**3\n",
    "        atom_volume.append(v)\n",
    "        \n",
    "    #Calculate the total atomic volume for each element type (E.g. 3*(Volume O atom))\n",
    "    for i in np.arange(0,len(atom_count)):\n",
    "        v_total = atom_count[i]*atom_volume[i]\n",
    "        atom_volume_total.append(v_total)\n",
    "        \n",
    "    #Sum the volumes of all atoms in the oxide\n",
    "    summed_volumes = sum(atom_volume_total)\n",
    "    \n",
    "    #Calculate packing fraction. Append values to dictionary with the Materials Project ID as key value\n",
    "    packing_frac = summed_volumes/oxide_volume\n",
    "    property_dict_all[str(mp_id)] = pretty_formula,composition,elastic_tensor,packing_frac,density,e_above_hull\n",
    "    \n",
    "    #Clear values for next loop\n",
    "    atom_sample.clear()\n",
    "    atom_count.clear()\n",
    "    atom_radii.clear()\n",
    "    atom_volume.clear()\n",
    "    atom_volume_total.clear()"
   ]
  },
  {
   "cell_type": "markdown",
   "metadata": {},
   "source": [
    "### 2.2 Convert our dictionary to a more pleasant looking dataframe. Pull the values from each key, separate them, and shove everything into a dataframe."
   ]
  },
  {
   "cell_type": "code",
   "execution_count": 7,
   "metadata": {
    "scrolled": true
   },
   "outputs": [
    {
     "data": {
      "text/html": [
       "<div>\n",
       "<style scoped>\n",
       "    .dataframe tbody tr th:only-of-type {\n",
       "        vertical-align: middle;\n",
       "    }\n",
       "\n",
       "    .dataframe tbody tr th {\n",
       "        vertical-align: top;\n",
       "    }\n",
       "\n",
       "    .dataframe thead th {\n",
       "        text-align: right;\n",
       "    }\n",
       "</style>\n",
       "<table border=\"1\" class=\"dataframe\">\n",
       "  <thead>\n",
       "    <tr style=\"text-align: right;\">\n",
       "      <th></th>\n",
       "      <th>mp_id</th>\n",
       "      <th>Formula</th>\n",
       "      <th>Composition</th>\n",
       "      <th>IPF</th>\n",
       "      <th>Density</th>\n",
       "      <th>Elastic_Tensor</th>\n",
       "      <th>E_above_Hull</th>\n",
       "    </tr>\n",
       "  </thead>\n",
       "  <tbody>\n",
       "    <tr>\n",
       "      <th>0</th>\n",
       "      <td>mp-1014229</td>\n",
       "      <td>Ti2Zn</td>\n",
       "      <td>{'Ti': 2.0, 'Zn': 1.0}</td>\n",
       "      <td>0.163919</td>\n",
       "      <td>5.46244</td>\n",
       "      <td>{'G_Reuss': 29.0, 'G_VRH': 47.0, 'G_Voigt': 65...</td>\n",
       "      <td>0</td>\n",
       "    </tr>\n",
       "    <tr>\n",
       "      <th>1</th>\n",
       "      <td>mp-1014230</td>\n",
       "      <td>TiZn</td>\n",
       "      <td>{'Ti': 1.0, 'Zn': 1.0}</td>\n",
       "      <td>0.174651</td>\n",
       "      <td>6.03654</td>\n",
       "      <td>{'G_Reuss': 44.0, 'G_VRH': 56.0, 'G_Voigt': 69...</td>\n",
       "      <td>0</td>\n",
       "    </tr>\n",
       "    <tr>\n",
       "      <th>2</th>\n",
       "      <td>mp-1017983</td>\n",
       "      <td>TiMo3</td>\n",
       "      <td>{'Ti': 1.0, 'Mo': 3.0}</td>\n",
       "      <td>0.133018</td>\n",
       "      <td>8.78825</td>\n",
       "      <td>None</td>\n",
       "      <td>0</td>\n",
       "    </tr>\n",
       "    <tr>\n",
       "      <th>3</th>\n",
       "      <td>mp-1017985</td>\n",
       "      <td>TiAg</td>\n",
       "      <td>{'Ti': 1.0, 'Ag': 1.0}</td>\n",
       "      <td>0.226014</td>\n",
       "      <td>7.34036</td>\n",
       "      <td>{'G_Reuss': 32.0, 'G_VRH': 35.0, 'G_Voigt': 37...</td>\n",
       "      <td>0</td>\n",
       "    </tr>\n",
       "    <tr>\n",
       "      <th>4</th>\n",
       "      <td>mp-1018028</td>\n",
       "      <td>TiS</td>\n",
       "      <td>{'Ti': 1.0, 'S': 1.0}</td>\n",
       "      <td>0.18213</td>\n",
       "      <td>4.44203</td>\n",
       "      <td>{'G_Reuss': 97.0, 'G_VRH': 101.0, 'G_Voigt': 1...</td>\n",
       "      <td>0</td>\n",
       "    </tr>\n",
       "    <tr>\n",
       "      <th>...</th>\n",
       "      <td>...</td>\n",
       "      <td>...</td>\n",
       "      <td>...</td>\n",
       "      <td>...</td>\n",
       "      <td>...</td>\n",
       "      <td>...</td>\n",
       "      <td>...</td>\n",
       "    </tr>\n",
       "    <tr>\n",
       "      <th>1038</th>\n",
       "      <td>mp-696940</td>\n",
       "      <td>TiH12C2(NF)6</td>\n",
       "      <td>{'Ti': 1.0, 'H': 12.0, 'C': 2.0, 'N': 6.0, 'F'...</td>\n",
       "      <td>0.0644307</td>\n",
       "      <td>1.68517</td>\n",
       "      <td>None</td>\n",
       "      <td>0</td>\n",
       "    </tr>\n",
       "    <tr>\n",
       "      <th>1039</th>\n",
       "      <td>mp-720394</td>\n",
       "      <td>Ca5TaTi3Al(SiO5)5</td>\n",
       "      <td>{'Ca': 5.0, 'Ta': 1.0, 'Ti': 3.0, 'Al': 1.0, '...</td>\n",
       "      <td>0.536486</td>\n",
       "      <td>3.81363</td>\n",
       "      <td>None</td>\n",
       "      <td>0</td>\n",
       "    </tr>\n",
       "    <tr>\n",
       "      <th>1040</th>\n",
       "      <td>mp-720410</td>\n",
       "      <td>K2NaCa2TiSi7HO20</td>\n",
       "      <td>{'K': 2.0, 'Na': 1.0, 'Ca': 2.0, 'Ti': 1.0, 'S...</td>\n",
       "      <td>0.48721</td>\n",
       "      <td>2.70744</td>\n",
       "      <td>None</td>\n",
       "      <td>0</td>\n",
       "    </tr>\n",
       "    <tr>\n",
       "      <th>1041</th>\n",
       "      <td>mp-744094</td>\n",
       "      <td>Ba2La6Mg4Ti3WO24</td>\n",
       "      <td>{'Ba': 2.0, 'La': 6.0, 'Mg': 4.0, 'Ti': 3.0, '...</td>\n",
       "      <td>0.517511</td>\n",
       "      <td>5.68804</td>\n",
       "      <td>None</td>\n",
       "      <td>0</td>\n",
       "    </tr>\n",
       "    <tr>\n",
       "      <th>1042</th>\n",
       "      <td>mp-776286</td>\n",
       "      <td>Ti3CrSn2(PO4)6</td>\n",
       "      <td>{'Ti': 3.0, 'Cr': 1.0, 'Sn': 2.0, 'P': 6.0, 'O...</td>\n",
       "      <td>0.456562</td>\n",
       "      <td>3.43538</td>\n",
       "      <td>None</td>\n",
       "      <td>0</td>\n",
       "    </tr>\n",
       "  </tbody>\n",
       "</table>\n",
       "<p>1043 rows × 7 columns</p>\n",
       "</div>"
      ],
      "text/plain": [
       "           mp_id            Formula  \\\n",
       "0     mp-1014229              Ti2Zn   \n",
       "1     mp-1014230               TiZn   \n",
       "2     mp-1017983              TiMo3   \n",
       "3     mp-1017985               TiAg   \n",
       "4     mp-1018028                TiS   \n",
       "...          ...                ...   \n",
       "1038   mp-696940       TiH12C2(NF)6   \n",
       "1039   mp-720394  Ca5TaTi3Al(SiO5)5   \n",
       "1040   mp-720410   K2NaCa2TiSi7HO20   \n",
       "1041   mp-744094   Ba2La6Mg4Ti3WO24   \n",
       "1042   mp-776286     Ti3CrSn2(PO4)6   \n",
       "\n",
       "                                            Composition        IPF  Density  \\\n",
       "0                                {'Ti': 2.0, 'Zn': 1.0}   0.163919  5.46244   \n",
       "1                                {'Ti': 1.0, 'Zn': 1.0}   0.174651  6.03654   \n",
       "2                                {'Ti': 1.0, 'Mo': 3.0}   0.133018  8.78825   \n",
       "3                                {'Ti': 1.0, 'Ag': 1.0}   0.226014  7.34036   \n",
       "4                                 {'Ti': 1.0, 'S': 1.0}    0.18213  4.44203   \n",
       "...                                                 ...        ...      ...   \n",
       "1038  {'Ti': 1.0, 'H': 12.0, 'C': 2.0, 'N': 6.0, 'F'...  0.0644307  1.68517   \n",
       "1039  {'Ca': 5.0, 'Ta': 1.0, 'Ti': 3.0, 'Al': 1.0, '...   0.536486  3.81363   \n",
       "1040  {'K': 2.0, 'Na': 1.0, 'Ca': 2.0, 'Ti': 1.0, 'S...    0.48721  2.70744   \n",
       "1041  {'Ba': 2.0, 'La': 6.0, 'Mg': 4.0, 'Ti': 3.0, '...   0.517511  5.68804   \n",
       "1042  {'Ti': 3.0, 'Cr': 1.0, 'Sn': 2.0, 'P': 6.0, 'O...   0.456562  3.43538   \n",
       "\n",
       "                                         Elastic_Tensor E_above_Hull  \n",
       "0     {'G_Reuss': 29.0, 'G_VRH': 47.0, 'G_Voigt': 65...            0  \n",
       "1     {'G_Reuss': 44.0, 'G_VRH': 56.0, 'G_Voigt': 69...            0  \n",
       "2                                                  None            0  \n",
       "3     {'G_Reuss': 32.0, 'G_VRH': 35.0, 'G_Voigt': 37...            0  \n",
       "4     {'G_Reuss': 97.0, 'G_VRH': 101.0, 'G_Voigt': 1...            0  \n",
       "...                                                 ...          ...  \n",
       "1038                                               None            0  \n",
       "1039                                               None            0  \n",
       "1040                                               None            0  \n",
       "1041                                               None            0  \n",
       "1042                                               None            0  \n",
       "\n",
       "[1043 rows x 7 columns]"
      ]
     },
     "metadata": {},
     "output_type": "display_data"
    }
   ],
   "source": [
    "#Create blank lists for appending values\n",
    "mp_id = []\n",
    "pretty_formula = []\n",
    "composition = []\n",
    "ionic_packing_frac = []\n",
    "density = []\n",
    "elastic_tensor = []\n",
    "e_above_hull = []\n",
    "#Loop through all keys and extract their values. Append values into individual list arrays\n",
    "for key in property_dict_all.keys():\n",
    "    mp_id.append(key)\n",
    "    values = property_dict_all.get(key)\n",
    "    pretty_formula.append(values[0])\n",
    "    composition.append(values[1])\n",
    "    elastic_tensor.append(values[2])\n",
    "    ionic_packing_frac.append(values[3])\n",
    "    density.append(values[4])\n",
    "    e_above_hull.append(values[5])    \n",
    "#Stack arrays into a Numpy array. From here will append into a dataframe. Display dataframe below.\n",
    "df = np.column_stack((mp_id,pretty_formula,composition,ionic_packing_frac,density,elastic_tensor,e_above_hull))\n",
    "df_oxide = pd.DataFrame(df,columns=[\"mp_id\",\"Formula\",\"Composition\",\"IPF\",\"Density\",\"Elastic_Tensor\",\"E_above_Hull\"])\n",
    "display(df_oxide)"
   ]
  },
  {
   "cell_type": "code",
   "execution_count": 8,
   "metadata": {},
   "outputs": [
    {
     "data": {
      "text/plain": [
       "mp_id             object\n",
       "Formula           object\n",
       "Composition       object\n",
       "IPF               object\n",
       "Density           object\n",
       "Elastic_Tensor    object\n",
       "E_above_Hull      object\n",
       "dtype: object"
      ]
     },
     "execution_count": 8,
     "metadata": {},
     "output_type": "execute_result"
    }
   ],
   "source": [
    "df_oxide.dtypes"
   ]
  },
  {
   "cell_type": "code",
   "execution_count": 9,
   "metadata": {},
   "outputs": [
    {
     "data": {
      "text/plain": [
       "0       {'G_Reuss': 29.0, 'G_VRH': 47.0, 'G_Voigt': 65...\n",
       "1       {'G_Reuss': 44.0, 'G_VRH': 56.0, 'G_Voigt': 69...\n",
       "2                                                    None\n",
       "3       {'G_Reuss': 32.0, 'G_VRH': 35.0, 'G_Voigt': 37...\n",
       "4       {'G_Reuss': 97.0, 'G_VRH': 101.0, 'G_Voigt': 1...\n",
       "                              ...                        \n",
       "1038                                                 None\n",
       "1039                                                 None\n",
       "1040                                                 None\n",
       "1041                                                 None\n",
       "1042                                                 None\n",
       "Name: Elastic_Tensor, Length: 1043, dtype: object"
      ]
     },
     "execution_count": 9,
     "metadata": {},
     "output_type": "execute_result"
    }
   ],
   "source": [
    "df_oxide['Elastic_Tensor']"
   ]
  },
  {
   "cell_type": "code",
   "execution_count": 10,
   "metadata": {},
   "outputs": [],
   "source": [
    "df_oxide=df_oxide.dropna()"
   ]
  },
  {
   "cell_type": "code",
   "execution_count": 11,
   "metadata": {},
   "outputs": [
    {
     "data": {
      "text/html": [
       "<div>\n",
       "<style scoped>\n",
       "    .dataframe tbody tr th:only-of-type {\n",
       "        vertical-align: middle;\n",
       "    }\n",
       "\n",
       "    .dataframe tbody tr th {\n",
       "        vertical-align: top;\n",
       "    }\n",
       "\n",
       "    .dataframe thead th {\n",
       "        text-align: right;\n",
       "    }\n",
       "</style>\n",
       "<table border=\"1\" class=\"dataframe\">\n",
       "  <thead>\n",
       "    <tr style=\"text-align: right;\">\n",
       "      <th></th>\n",
       "      <th>mp_id</th>\n",
       "      <th>Formula</th>\n",
       "      <th>Composition</th>\n",
       "      <th>IPF</th>\n",
       "      <th>Density</th>\n",
       "      <th>Elastic_Tensor</th>\n",
       "      <th>E_above_Hull</th>\n",
       "    </tr>\n",
       "  </thead>\n",
       "  <tbody>\n",
       "    <tr>\n",
       "      <th>0</th>\n",
       "      <td>mp-1014229</td>\n",
       "      <td>Ti2Zn</td>\n",
       "      <td>{'Ti': 2.0, 'Zn': 1.0}</td>\n",
       "      <td>0.163919</td>\n",
       "      <td>5.46244</td>\n",
       "      <td>{'G_Reuss': 29.0, 'G_VRH': 47.0, 'G_Voigt': 65...</td>\n",
       "      <td>0</td>\n",
       "    </tr>\n",
       "    <tr>\n",
       "      <th>1</th>\n",
       "      <td>mp-1014230</td>\n",
       "      <td>TiZn</td>\n",
       "      <td>{'Ti': 1.0, 'Zn': 1.0}</td>\n",
       "      <td>0.174651</td>\n",
       "      <td>6.03654</td>\n",
       "      <td>{'G_Reuss': 44.0, 'G_VRH': 56.0, 'G_Voigt': 69...</td>\n",
       "      <td>0</td>\n",
       "    </tr>\n",
       "    <tr>\n",
       "      <th>3</th>\n",
       "      <td>mp-1017985</td>\n",
       "      <td>TiAg</td>\n",
       "      <td>{'Ti': 1.0, 'Ag': 1.0}</td>\n",
       "      <td>0.226014</td>\n",
       "      <td>7.34036</td>\n",
       "      <td>{'G_Reuss': 32.0, 'G_VRH': 35.0, 'G_Voigt': 37...</td>\n",
       "      <td>0</td>\n",
       "    </tr>\n",
       "    <tr>\n",
       "      <th>4</th>\n",
       "      <td>mp-1018028</td>\n",
       "      <td>TiS</td>\n",
       "      <td>{'Ti': 1.0, 'S': 1.0}</td>\n",
       "      <td>0.18213</td>\n",
       "      <td>4.44203</td>\n",
       "      <td>{'G_Reuss': 97.0, 'G_VRH': 101.0, 'G_Voigt': 1...</td>\n",
       "      <td>0</td>\n",
       "    </tr>\n",
       "    <tr>\n",
       "      <th>5</th>\n",
       "      <td>mp-1018123</td>\n",
       "      <td>TiAu2</td>\n",
       "      <td>{'Ti': 1.0, 'Au': 2.0}</td>\n",
       "      <td>0.248079</td>\n",
       "      <td>14.1627</td>\n",
       "      <td>{'G_Reuss': -92.0, 'G_VRH': -17.0, 'G_Voigt': ...</td>\n",
       "      <td>0</td>\n",
       "    </tr>\n",
       "    <tr>\n",
       "      <th>...</th>\n",
       "      <td>...</td>\n",
       "      <td>...</td>\n",
       "      <td>...</td>\n",
       "      <td>...</td>\n",
       "      <td>...</td>\n",
       "      <td>...</td>\n",
       "      <td>...</td>\n",
       "    </tr>\n",
       "    <tr>\n",
       "      <th>907</th>\n",
       "      <td>mp-5999</td>\n",
       "      <td>Sm2Ti2S2O5</td>\n",
       "      <td>{'Sm': 2.0, 'Ti': 2.0, 'S': 2.0, 'O': 5.0}</td>\n",
       "      <td>0.398389</td>\n",
       "      <td>5.23354</td>\n",
       "      <td>{'G_Reuss': 54.0, 'G_VRH': 58.0, 'G_Voigt': 62...</td>\n",
       "      <td>0</td>\n",
       "    </tr>\n",
       "    <tr>\n",
       "      <th>909</th>\n",
       "      <td>mp-6328</td>\n",
       "      <td>Na2Ti2Sb2O</td>\n",
       "      <td>{'Na': 2.0, 'Ti': 2.0, 'Sb': 2.0, 'O': 1.0}</td>\n",
       "      <td>0.217025</td>\n",
       "      <td>4.60188</td>\n",
       "      <td>{'G_Reuss': 27.0, 'G_VRH': 18.0, 'G_Voigt': 10...</td>\n",
       "      <td>0</td>\n",
       "    </tr>\n",
       "    <tr>\n",
       "      <th>920</th>\n",
       "      <td>mp-998980</td>\n",
       "      <td>TiAlFeCo</td>\n",
       "      <td>{'Ti': 1.0, 'Al': 1.0, 'Fe': 1.0, 'Co': 1.0}</td>\n",
       "      <td>0.170756</td>\n",
       "      <td>6.42314</td>\n",
       "      <td>{'G_Reuss': 127.0, 'G_VRH': 127.0, 'G_Voigt': ...</td>\n",
       "      <td>0</td>\n",
       "    </tr>\n",
       "    <tr>\n",
       "      <th>966</th>\n",
       "      <td>mp-560767</td>\n",
       "      <td>KNaTiO3</td>\n",
       "      <td>{'K': 1.0, 'Na': 1.0, 'Ti': 1.0, 'O': 3.0}</td>\n",
       "      <td>0.551255</td>\n",
       "      <td>2.95236</td>\n",
       "      <td>{'G_Reuss': 18.0, 'G_VRH': 26.0, 'G_Voigt': 33...</td>\n",
       "      <td>0</td>\n",
       "    </tr>\n",
       "    <tr>\n",
       "      <th>969</th>\n",
       "      <td>mp-6178</td>\n",
       "      <td>Cs2KTiF6</td>\n",
       "      <td>{'Cs': 2.0, 'K': 1.0, 'Ti': 1.0, 'F': 6.0}</td>\n",
       "      <td>0.382792</td>\n",
       "      <td>3.91516</td>\n",
       "      <td>{'G_Reuss': -13.0, 'G_VRH': -13.0, 'G_Voigt': ...</td>\n",
       "      <td>0</td>\n",
       "    </tr>\n",
       "  </tbody>\n",
       "</table>\n",
       "<p>338 rows × 7 columns</p>\n",
       "</div>"
      ],
      "text/plain": [
       "          mp_id     Formula                                   Composition  \\\n",
       "0    mp-1014229       Ti2Zn                        {'Ti': 2.0, 'Zn': 1.0}   \n",
       "1    mp-1014230        TiZn                        {'Ti': 1.0, 'Zn': 1.0}   \n",
       "3    mp-1017985        TiAg                        {'Ti': 1.0, 'Ag': 1.0}   \n",
       "4    mp-1018028         TiS                         {'Ti': 1.0, 'S': 1.0}   \n",
       "5    mp-1018123       TiAu2                        {'Ti': 1.0, 'Au': 2.0}   \n",
       "..          ...         ...                                           ...   \n",
       "907     mp-5999  Sm2Ti2S2O5    {'Sm': 2.0, 'Ti': 2.0, 'S': 2.0, 'O': 5.0}   \n",
       "909     mp-6328  Na2Ti2Sb2O   {'Na': 2.0, 'Ti': 2.0, 'Sb': 2.0, 'O': 1.0}   \n",
       "920   mp-998980    TiAlFeCo  {'Ti': 1.0, 'Al': 1.0, 'Fe': 1.0, 'Co': 1.0}   \n",
       "966   mp-560767     KNaTiO3    {'K': 1.0, 'Na': 1.0, 'Ti': 1.0, 'O': 3.0}   \n",
       "969     mp-6178    Cs2KTiF6    {'Cs': 2.0, 'K': 1.0, 'Ti': 1.0, 'F': 6.0}   \n",
       "\n",
       "          IPF  Density                                     Elastic_Tensor  \\\n",
       "0    0.163919  5.46244  {'G_Reuss': 29.0, 'G_VRH': 47.0, 'G_Voigt': 65...   \n",
       "1    0.174651  6.03654  {'G_Reuss': 44.0, 'G_VRH': 56.0, 'G_Voigt': 69...   \n",
       "3    0.226014  7.34036  {'G_Reuss': 32.0, 'G_VRH': 35.0, 'G_Voigt': 37...   \n",
       "4     0.18213  4.44203  {'G_Reuss': 97.0, 'G_VRH': 101.0, 'G_Voigt': 1...   \n",
       "5    0.248079  14.1627  {'G_Reuss': -92.0, 'G_VRH': -17.0, 'G_Voigt': ...   \n",
       "..        ...      ...                                                ...   \n",
       "907  0.398389  5.23354  {'G_Reuss': 54.0, 'G_VRH': 58.0, 'G_Voigt': 62...   \n",
       "909  0.217025  4.60188  {'G_Reuss': 27.0, 'G_VRH': 18.0, 'G_Voigt': 10...   \n",
       "920  0.170756  6.42314  {'G_Reuss': 127.0, 'G_VRH': 127.0, 'G_Voigt': ...   \n",
       "966  0.551255  2.95236  {'G_Reuss': 18.0, 'G_VRH': 26.0, 'G_Voigt': 33...   \n",
       "969  0.382792  3.91516  {'G_Reuss': -13.0, 'G_VRH': -13.0, 'G_Voigt': ...   \n",
       "\n",
       "    E_above_Hull  \n",
       "0              0  \n",
       "1              0  \n",
       "3              0  \n",
       "4              0  \n",
       "5              0  \n",
       "..           ...  \n",
       "907            0  \n",
       "909            0  \n",
       "920            0  \n",
       "966            0  \n",
       "969            0  \n",
       "\n",
       "[338 rows x 7 columns]"
      ]
     },
     "execution_count": 11,
     "metadata": {},
     "output_type": "execute_result"
    }
   ],
   "source": [
    "df_oxide"
   ]
  },
  {
   "cell_type": "code",
   "execution_count": 17,
   "metadata": {},
   "outputs": [],
   "source": [
    "df_oxide.to_csv (r'C:\\Users\\Kayla Yano\\Class\\Trial\\Ti_binary_dataframe.csv', index = True, header=True)"
   ]
  },
  {
   "cell_type": "markdown",
   "metadata": {},
   "source": [
    "### 2.3 Observe the reduction from all oxide species to the limited set for stable structures. Plot the data below."
   ]
  },
  {
   "cell_type": "code",
   "execution_count": 12,
   "metadata": {},
   "outputs": [
    {
     "name": "stdout",
     "output_type": "stream",
     "text": [
      "Number of oxide structures available on the MP database: 5846\n",
      "Number of oxide structures below 1.0 meV: 338\n"
     ]
    }
   ],
   "source": [
    "print('Number of oxide structures available on the MP database: %s' % len(data))\n",
    "print('Number of oxide structures below %.1f meV: %s' %(energy_cutoff_value, len(df_oxide)))"
   ]
  },
  {
   "cell_type": "code",
   "execution_count": 13,
   "metadata": {},
   "outputs": [
    {
     "data": {
      "text/html": [
       "        <script type=\"text/javascript\">\n",
       "        window.PlotlyConfig = {MathJaxConfig: 'local'};\n",
       "        if (window.MathJax) {MathJax.Hub.Config({SVG: {font: \"STIX-Web\"}});}\n",
       "        if (typeof require !== 'undefined') {\n",
       "        require.undef(\"plotly\");\n",
       "        requirejs.config({\n",
       "            paths: {\n",
       "                'plotly': ['https://cdn.plot.ly/plotly-latest.min']\n",
       "            }\n",
       "        });\n",
       "        require(['plotly'], function(Plotly) {\n",
       "            window._Plotly = Plotly;\n",
       "        });\n",
       "        }\n",
       "        </script>\n",
       "        "
      ]
     },
     "metadata": {},
     "output_type": "display_data"
    },
    {
     "data": {
      "application/vnd.plotly.v1+json": {
       "config": {
        "linkText": "Export to plot.ly",
        "plotlyServerURL": "https://plot.ly",
        "showLink": false
       },
       "data": [
        {
         "marker": {
          "color": "black",
          "size": 12
         },
         "mode": "markers",
         "name": "All Queries",
         "text": [
          "Ti2Zn",
          "TiZn",
          "TiAg",
          "TiS",
          "TiAu2",
          "Ti2Rh",
          "Ti3B4",
          "TiNi",
          "Ti2C",
          "TiIr3",
          "TiB2",
          "Ti3O5",
          "Ti5Se4",
          "Ti2O",
          "TiIr",
          "TiCu3",
          "TiAu4",
          "Ti2Be17",
          "Ti2Pd",
          "Ti3Sb",
          "TiCr2",
          "Ti3Te4",
          "U2Ti",
          "Ti3Rh5",
          "Ti3Au",
          "Ti2Ni",
          "TiAs",
          "Ti3Al",
          "TiTe2",
          "TiMn2",
          "TiAl",
          "TiP2",
          "Ti6Sn5",
          "TiCu",
          "Ti5Sn3",
          "Ti5Si3",
          "TiZn3",
          "TiRe",
          "TiSb",
          "TiSe2",
          "Ti5Sb3",
          "TiI3",
          "TiZn16",
          "Ti3Pt",
          "Ti3Hg",
          "TiF3",
          "TiH2",
          "TiRh",
          "Ti3Cu4",
          "TiBe2",
          "TiOs",
          "TiFe",
          "TiCd",
          "Ti2Cd",
          "Ti2Ga",
          "Ti3Ga",
          "Ti2Ga3",
          "Ti3Pt5",
          "TiPt8",
          "Ti2Sn",
          "TiN",
          "Ti5Si4",
          "TiI4",
          "Ti3Ir",
          "TiO2",
          "TiAl2",
          "TiSb2",
          "TiCr2",
          "TiPt3",
          "Ti3Pd5",
          "TiCl3",
          "TiGa2",
          "TiRu",
          "TiCo3",
          "Ti2Sn3",
          "TiSi",
          "TiP",
          "Ti5Te4",
          "TiB",
          "TiCo",
          "Ti2N",
          "Ti3In",
          "Ti3Pb",
          "Ti2Ag",
          "Ti2ZnN",
          "TiZnN2",
          "TiTl2F6",
          "TiTeAs",
          "TiRh3",
          "TiTc",
          "TiNi3",
          "TiFe2Sn",
          "TiPbO3",
          "TiNiSb",
          "TiS2",
          "TiGaPt",
          "TiGa3",
          "TiGa",
          "Cs2TiCl6",
          "TiBrN",
          "Ti8C5",
          "MgTi2O5",
          "NaTi2O4",
          "Ti2Pd3",
          "Ti3AlC2",
          "CaTiO3",
          "Ti2O3",
          "SrTiO3",
          "TiAl3",
          "Ti3SiC2",
          "TiGe2",
          "Ti2Bi",
          "Cs3Ti2Cl9",
          "RbTiBr3",
          "Ti2S",
          "TiC",
          "TiSiRh",
          "Ti2Cu",
          "Sc2Ti2O7",
          "Li2TiF6",
          "Ti2CoRe",
          "TiFeSi",
          "TiZnIr2",
          "TiZnNi2",
          "Ti2NiIr",
          "Ti2RePd",
          "Ti2MoPt",
          "TiTc2Sb",
          "TiTc2W",
          "Ti2OsRu",
          "TiZnCo2",
          "TiVRe2",
          "TiGaPd2",
          "TiInPd2",
          "Ti2MnRh",
          "TaTiOs2",
          "SrTiN2",
          "LiTiS2",
          "TiS3",
          "TiPt",
          "Eu2TiO4",
          "TiCrP",
          "Ti6Si2B",
          "TiNiGe",
          "Ti2PbC",
          "TiCo2Sn",
          "TiNCl",
          "Na8Ti5O14",
          "Li2TiO3",
          "ZrTiAs",
          "TiAlFe2",
          "TiCo2Si",
          "Ti2CS",
          "MgTiO3",
          "K2TiF6",
          "TiCo2Ge",
          "SrTiO3",
          "BaTiO3",
          "YTiGe",
          "TiAsRh",
          "Ti2SbP",
          "ThTi2O6",
          "TiAlCo2",
          "SrTiO3",
          "Sr2TiO4",
          "Na4Ti5O12",
          "LiTi2O4",
          "Mg3(TiAl9)2",
          "TiAlNi2",
          "TiSnO3",
          "Mg2TiO4",
          "BaTiF6",
          "Ti2AlTc",
          "LiTiRh2",
          "TiMn2Al",
          "Ti2TcRh",
          "Ti2ReNi",
          "TiZnAu2",
          "Ti2MnOs",
          "Ti2MoIr",
          "Ti2TcIr",
          "Ti2TcNi",
          "TiVTc2",
          "Ti2ReRh",
          "TiBe2Ir",
          "TiFe2Si",
          "TiBeRh2",
          "TiBeCo2",
          "TiAlRh2",
          "CsTi6O12",
          "Ti6Al16Pt7",
          "TiGaPd",
          "Zr(TiGa2)2",
          "Lu(TiGa2)2",
          "Ti2InN",
          "TiSiRu",
          "Ti2AlC",
          "Ti3NiS6",
          "TiAlAu",
          "TiMnO3",
          "TiGaCo2",
          "TiCuSi",
          "TiFeSi2",
          "YTiSi",
          "Rb2TiCl6",
          "Ti(CuS)4",
          "TiGaNi2",
          "Ti2SnC",
          "TiAlCu2",
          "Ti2BRh6",
          "TiCoSb",
          "TiCdF6",
          "TiGaFe2",
          "Li4Ti5O12",
          "Ti2CoIr",
          "Ti2AlRe",
          "TaTiRu2",
          "TaTiTc2",
          "TiZnRh2",
          "Ti2MnFe",
          "MgTiIr2",
          "TiZnPd2",
          "TiNbRe2",
          "TiMn2W",
          "TiMn2V",
          "Ti2TcPt",
          "TiZnCu2",
          "TiGaIr2",
          "TiBeIr2",
          "TiAlRu2",
          "TiInRh2",
          "Ti2ZnTc",
          "TaTiMn2",
          "Li4TiO4",
          "TiNiSn",
          "TiFeTe",
          "TiSnPd",
          "LiTiPt2",
          "TiGePt",
          "Ti2ReB2",
          "Tm(TiGa2)2",
          "Ti2NiS4",
          "Ti2GaN",
          "Sr4TiN4",
          "TiPRu",
          "TiFeSb",
          "Ti3In3Rh2",
          "Ti2Te2P",
          "Ti2GaC",
          "TiGePd",
          "Ti2InC",
          "Ti3InC",
          "Ti3SnC2",
          "TiCoSi",
          "TiInCu2",
          "CaTiF6",
          "TiIN",
          "TiSnPt",
          "Ti3AlC",
          "Ba2TiO4",
          "Ca4TiN4",
          "NaTiS2",
          "Ti2AlMo",
          "Ti2CoTc",
          "MgTiRh2",
          "Ti6Al16Ni7",
          "TiAlPd2",
          "Ti2MnRu",
          "TiMnCo2",
          "TiInCo2",
          "Ti2NiMo",
          "TiMn2Si",
          "TiNbTc2",
          "TiRe2W",
          "TiReTc2",
          "TiSnPd2",
          "TiSiOs2",
          "TiSiRu2",
          "Ti2ReIr",
          "TiSnRu2",
          "TiGaRh2",
          "TiFe2Ge",
          "TaTiRe2",
          "Ti2IrW",
          "ScTiRu2",
          "Ti3ZnN",
          "TiCdO3",
          "RbTiS2",
          "TiNiO3",
          "TiCoGe",
          "CsTiBr3",
          "K2TiCl6",
          "TiGaNi",
          "Sr3Ti2O7",
          "Na2Ti3O7",
          "LiTiO2",
          "Ti2AlN",
          "TiSiNi",
          "TiCu2Te3",
          "TiAlPt",
          "BaTiO3",
          "KRb2TiF6",
          "Ti3SnH",
          "Ti3PdO",
          "Li(TiSe2)3",
          "Ti2CrIr",
          "Ti2FeIr",
          "Ti2MnBe",
          "PaTiTc2",
          "Ti2MnCo",
          "LiTiIr2",
          "TiAlOs2",
          "TiGaRu2",
          "TiMnRh2",
          "Ti2MnIr",
          "TiGeRu2",
          "Ti2TcRu",
          "TiSiTc2",
          "TiSnRh2",
          "Ti2MnNi",
          "Ti2TcOs",
          "AcTiO3",
          "Ti2TcPd",
          "Ti2ZnRe",
          "TiTc2Mo",
          "Ti2GeC",
          "Ti2CdC",
          "Na2Ti2As2O",
          "RbTiAsO5",
          "LiTiPO5",
          "Tb2Ti2S2O5",
          "TiGaFeCo",
          "Nd2Ti2S2O5",
          "Sm2Ti2S2O5",
          "Na2Ti2Sb2O",
          "TiAlFeCo",
          "KNaTiO3",
          "Cs2KTiF6"
         ],
         "type": "scatter",
         "x": [
          5.4624418431294846,
          6.036542541370883,
          7.340358574162901,
          4.442034010283959,
          14.162674008729564,
          7.08866045352241,
          4.557547483685545,
          6.4129856237257545,
          4.4397691684648475,
          17.774770707590932,
          4.48742509138872,
          4.187247707142454,
          5.571714611425473,
          5.012926886778068,
          13.171719999335542,
          7.64811775237397,
          15.866690660766688,
          2.4788616197207776,
          6.905202130563418,
          6.204950157087049,
          6.237410464246428,
          6.386267555747635,
          15.633596985294249,
          9.261614828158567,
          8.460278692613556,
          5.725013960684072,
          5.836287445057678,
          4.24886855694461,
          5.967718130581316,
          6.901373874786948,
          3.8339015516249924,
          4.262085969423355,
          6.8133915501839475,
          6.4409362603173195,
          6.425214777223388,
          4.347039336035789,
          6.697660334904412,
          12.813423301491598,
          6.344016707746623,
          4.692579364547135,
          6.533810701664811,
          4.359640173734073,
          7.014325083136486,
          8.76669891569527,
          8.13860497378146,
          2.8243455697091604,
          3.832731997844202,
          8.321025415894498,
          6.748300335520562,
          3.293295530284812,
          13.333766927112507,
          6.642034495803114,
          6.897648170834788,
          6.215938143385086,
          5.649651697567152,
          5.416551057420764,
          6.382990495806396,
          14.802111278232545,
          19.082725589745888,
          6.451610572115688,
          5.340297397189084,
          4.25473535677054,
          4.3668690052068415,
          8.833383915301757,
          3.6159400033700795,
          3.536390535036478,
          7.376419290265216,
          6.234565438345089,
          17.027464482463998,
          8.90461162906226,
          2.2774261271317386,
          6.57508815436937,
          8.419437219779311,
          7.9485403294031345,
          7.060315921097217,
          4.224308672822326,
          4.219611373656351,
          6.385807170916716,
          4.575880541341557,
          6.714495214283375,
          4.881545213711141,
          5.888116238832343,
          7.797411885162248,
          6.468902592045046,
          5.650048112061304,
          4.766285536725132,
          6.057885867720305,
          6.769605729748634,
          10.282251751785296,
          8.076824961632303,
          7.958129733816652,
          8.367357755094483,
          7.295112048795698,
          7.23884154747617,
          2.865289943255333,
          11.147470113345912,
          6.684291685114108,
          6.1976826619748895,
          2.963362008986589,
          3.9395889679935796,
          4.541437896810737,
          3.5514942036147072,
          4.03211265932668,
          8.738526615651537,
          4.20786317502239,
          3.9404642801305276,
          4.523578267557585,
          4.962107562390343,
          3.3657054463344656,
          4.4749080984814436,
          6.553899769932891,
          7.998026445353696,
          3.0401275593382264,
          3.9356028008418735,
          4.80268802739094,
          4.87990698075401,
          6.784636672305928,
          5.72218027117513,
          3.3381635201419226,
          2.886520546058677,
          9.912983598641455,
          5.624878004168807,
          14.313777243307232,
          7.587307353396716,
          10.01044668827803,
          10.429398163398332,
          10.298147656965556,
          9.516408279480293,
          11.693560622969297,
          10.875791727030174,
          7.7961961744060755,
          13.403563577525125,
          8.94388309728109,
          9.226915698480555,
          7.479172389493153,
          16.24397965392071,
          4.596150108497811,
          3.0916934550698034,
          2.940905884129678,
          12.760333985989046,
          7.235616986713232,
          5.652777279831061,
          4.44587873057504,
          7.085254895184842,
          8.250785346746342,
          8.37544948678618,
          2.9608482669353977,
          3.284706044018789,
          3.3362540106131995,
          6.617444392928694,
          6.253070135591179,
          6.762597801805614,
          4.634878108828932,
          3.780006541137528,
          2.847791097004868,
          7.92660377274569,
          4.972062045682436,
          5.696967616676617,
          5.469106490462338,
          8.163513939030423,
          5.683966259319116,
          5.935302051965234,
          6.450357762610031,
          4.966121060316674,
          4.8732527350303,
          3.6017285684115445,
          3.649565279447548,
          2.7005341149603868,
          6.253223227274053,
          4.572232792498782,
          3.429076180124355,
          4.121344465635651,
          5.893565944131917,
          7.881916365009485,
          5.794348410543372,
          8.248625335895005,
          9.791110986112407,
          12.572718828222012,
          10.009062644775774,
          10.429707910141847,
          10.735713796405204,
          7.393032893959293,
          8.4990653539188,
          10.604352786731432,
          9.34964352483046,
          6.7581276538375015,
          8.36609769340187,
          6.639927873367532,
          8.099626827042165,
          4.196789423760888,
          7.540646708451553,
          8.02198898925839,
          6.540822885695841,
          7.4412713931789645,
          6.37134824652084,
          6.828651218841114,
          3.993100999294839,
          3.8664611998401566,
          9.082770024482732,
          4.465567989536367,
          7.8648054325560715,
          5.577715167561554,
          5.1432356119067775,
          4.422838633476582,
          2.663452049836092,
          4.546919933889982,
          7.652008774211659,
          6.244640756678336,
          6.1437518525598,
          9.69818028407914,
          7.4161166432836785,
          3.7878369425499465,
          7.798866002382084,
          3.383782954271181,
          10.030921198382599,
          8.24757087189734,
          11.63238220857548,
          11.265013084980856,
          9.271396328551523,
          6.549536522803793,
          12.713547624267859,
          8.93070996457023,
          13.374318316308761,
          10.694686868620503,
          6.930633199021836,
          10.533932931783644,
          7.415148555046202,
          14.131652491087628,
          13.864523376237495,
          8.111431846362592,
          9.569856062042563,
          7.030689430193968,
          10.17393399198337,
          2.49757315975166,
          7.230096922996658,
          7.544316549414458,
          7.554322965866566,
          12.60327472096375,
          9.749869469337343,
          8.962409925311519,
          7.302528729539403,
          4.152401887128523,
          5.682010841432831,
          4.468439931681672,
          7.173677446230221,
          7.055233350704827,
          7.9926334816569184,
          5.513174125224249,
          5.332772544545805,
          7.962521710594004,
          6.063190462834159,
          5.857246750937356,
          5.906377007878856,
          5.7176592376547415,
          7.837531383584235,
          2.307503291141096,
          4.6374993284668715,
          9.92580275031248,
          4.14816071313334,
          4.964862891634228,
          3.0618782746735493,
          3.025204167334896,
          5.652812263160933,
          7.508747467879704,
          7.747610900390847,
          4.564324365433942,
          7.796983785633488,
          7.4584229699071365,
          7.350147535407575,
          8.59380542640719,
          7.112101516720644,
          6.352313230944243,
          8.908701471523768,
          16.2597984805017,
          11.967737648863498,
          9.287622660242107,
          13.727474303048396,
          8.522604054233913,
          13.065347486039514,
          9.777327921746597,
          9.27802116476737,
          7.947002590025136,
          15.710756052787996,
          12.73920881877668,
          7.862720991735482,
          5.37890951833673,
          5.633653361711024,
          3.6465683952596106,
          4.948071791584746,
          7.1908569707582775,
          4.114540726103568,
          2.232695114770109,
          6.991897317964257,
          4.905953288475624,
          3.345429369560711,
          4.06672056516467,
          4.264332410125586,
          5.670689314807067,
          6.5101162772345695,
          9.656845071143279,
          5.713375485281336,
          3.2708715815482146,
          5.997228901136887,
          6.369330991445486,
          4.1374015196762235,
          9.760395641571574,
          9.950049065017923,
          5.074745986110234,
          11.151404478968328,
          6.6495117830951775,
          13.243443555111606,
          13.175580632904648,
          9.306973852038315,
          8.764975268637999,
          10.07359046810324,
          9.276389202020713,
          8.257824485201251,
          8.054004836705937,
          9.592849021588956,
          6.57826859307671,
          10.690396169558037,
          8.284647565044244,
          8.11100510528375,
          9.382320137636565,
          9.323271653873626,
          5.5647919328460915,
          6.020726394251087,
          3.984433553321344,
          3.8322311394294086,
          3.1065032453964494,
          5.549563127057932,
          7.852732359070375,
          5.0129830860151126,
          5.233540368196205,
          4.601877729197639,
          6.423142027062664,
          2.95235584882722,
          3.9151633204491088
         ],
         "y": [
          0.1639185929850974,
          0.17465114469285195,
          0.22601427981911038,
          0.18213033035592233,
          0.24807917200765672,
          0.14844111420265715,
          0.13099301136756655,
          0.1552981353489944,
          0.13122955521003882,
          0.14077963316526612,
          0.1230849374375109,
          0.5600231544369283,
          0.18356435194439233,
          0.3662168250314958,
          0.14745125945292215,
          0.1837705775343425,
          0.26426114359978575,
          0.11873385793604922,
          0.15867571120480414,
          0.14303956557615985,
          0.2361187106085201,
          0.25880676185737994,
          0.19312379026173263,
          0.13918080951660589,
          0.19289837232119625,
          0.15343497788015972,
          0.10853808691682632,
          0.13576534304262572,
          0.24560134002423767,
          0.12832829894847086,
          0.11955719175912623,
          0.09305754462454778,
          0.1281181285961661,
          0.17049395614150234,
          0.13076198828624291,
          0.12067629696043301,
          0.18426369812102286,
          0.13524886781535064,
          0.11222376500406839,
          0.15524101899102893,
          0.1309597195217656,
          0.17478120316718795,
          0.18627145869938552,
          0.15506859696804765,
          0.22564620238272717,
          0.11339197355557593,
          0.11973066672060946,
          0.1435665383511244,
          0.17368930902922072,
          0.1296722702846171,
          0.13032742309620188,
          0.1998886594219398,
          0.20764917456044876,
          0.1906293122472227,
          0.1442288588506151,
          0.14681722111185752,
          0.13478875984974334,
          0.14887068669919765,
          0.14337611859712665,
          0.13715709806737453,
          0.1889358234178382,
          0.1134867373079618,
          0.1760162964046736,
          0.15267440227901116,
          0.527473341861237,
          0.10800150231519788,
          0.11247418630863018,
          0.23601101145174302,
          0.1480823064801181,
          0.16233867133346433,
          0.07604216235683961,
          0.13243924066780063,
          0.12927407530300686,
          0.17657033375407374,
          0.11630625457325387,
          0.10876061772381987,
          0.10586282105644254,
          0.2522885639723213,
          0.13507786185601123,
          0.16990253225767665,
          0.16669107259881275,
          0.15425685591817223,
          0.1832132310174751,
          0.20186430554106263,
          0.17633674378026387,
          0.15311443277526152,
          0.19956502809367532,
          0.20928136125875543,
          0.135165207417897,
          0.14326790054127483,
          0.16434861670166484,
          0.18421765964796719,
          0.4877818034136472,
          0.1275434044249476,
          0.1278256188500087,
          0.1419501420045817,
          0.12691367969074038,
          0.14049427665918923,
          0.2176201641543586,
          0.10900276229467461,
          0.13129340929417405,
          0.5317634545223553,
          0.6010653622581049,
          0.16219827975864465,
          0.12080369580176986,
          0.5922932448248942,
          0.5745173562529665,
          0.6084334115282282,
          0.10152895992103267,
          0.11908903331575288,
          0.13103062258540607,
          0.15521201753073569,
          0.21960112433143134,
          0.19304600975828043,
          0.18172294113911178,
          0.13254814609406856,
          0.1137446072215396,
          0.1619308695657307,
          0.4703273225058381,
          0.17311316128871185,
          0.15044112075312538,
          0.1501576695810445,
          0.1592116803445447,
          0.17505037660259753,
          0.15213341492326607,
          0.14925276600970097,
          0.1492887967888116,
          0.13167097379665996,
          0.12995482663470073,
          0.12965591522173264,
          0.18772422300201794,
          0.12995416459871584,
          0.15491008303989237,
          0.1648933603103771,
          0.14296272555980058,
          0.11962854540467419,
          0.24236080481823008,
          0.1776784251954564,
          0.13708989852209225,
          0.1509596502551732,
          0.5295032503663019,
          0.17598031235210257,
          0.12951650301583187,
          0.14756095541362443,
          0.17689840656814365,
          0.15573428796784594,
          0.10301189228761772,
          0.5579126702515457,
          0.6193674969856675,
          0.12021999156166346,
          0.18302227726688025,
          0.14807287193487065,
          0.16256540088694024,
          0.5756631477737015,
          0.2915855322037965,
          0.16620613965967324,
          0.6096539897106348,
          0.6117577309956982,
          0.14487910776752078,
          0.1203244055936583,
          0.11389151223978251,
          0.5122070462696539,
          0.1547169985725137,
          0.6089255302912285,
          0.566008522017582,
          0.578808382381363,
          0.5504742776928325,
          0.09036410242626657,
          0.14242779857361934,
          0.3865067263318712,
          0.5331708346280016,
          0.20946939662790875,
          0.1314144029664836,
          0.16583310538204674,
          0.1163411465266228,
          0.1442832965705615,
          0.14519036049025477,
          0.23444023302567493,
          0.13426412727622636,
          0.1472562006172479,
          0.14673184839946257,
          0.15135615151453718,
          0.13844130021812637,
          0.139759328373166,
          0.1348893338887807,
          0.18300581412782066,
          0.13256586983593813,
          0.1658484569804471,
          0.12756393487056028,
          0.5818344453210997,
          0.11204813142569545,
          0.15020416826269373,
          0.12847751992320747,
          0.13642583095242092,
          0.1657685224984901,
          0.10353640110722764,
          0.11738355380417329,
          0.15685253391938575,
          0.1812551106667073,
          0.5147690148787912,
          0.16547403144549316,
          0.13380077907775537,
          0.12595933635788817,
          0.12858782690686527,
          0.19639191093695943,
          0.14790991515052387,
          0.1533816924200279,
          0.12759403292901528,
          0.15564081865263307,
          0.12791249189738124,
          0.1344872726984684,
          0.13988173817438185,
          0.19699101657735282,
          0.5579527275656979,
          0.15586615298256923,
          0.12827792892124104,
          0.11893240659376417,
          0.1327830730047903,
          0.1558405427770336,
          0.17020698849289723,
          0.1509525479011244,
          0.17347978398633668,
          0.12441602270764168,
          0.12742539392074806,
          0.136788880312811,
          0.14796710281816186,
          0.186916291406347,
          0.13861599630948956,
          0.13619200311659224,
          0.11102112505093871,
          0.14905750117623906,
          0.15911374962345054,
          0.1298892584111125,
          0.5204875095699774,
          0.12911409052544734,
          0.2797864537394527,
          0.12533666855107262,
          0.1707638810476957,
          0.1243740132451421,
          0.1292183051590566,
          0.1458714319945559,
          0.1617990526589595,
          0.15370416027068876,
          0.2683621693145904,
          0.1079178614485961,
          0.14279689597396342,
          0.15028307048900788,
          0.20860850877538947,
          0.12897226386082103,
          0.14872824669514756,
          0.14383771008215315,
          0.14810815620508558,
          0.12899425080522056,
          0.13139149812245873,
          0.17405093231499572,
          0.1211141363709712,
          0.1817133411713443,
          0.1184682979164383,
          0.12537593240280195,
          0.49365440630728835,
          0.2205428709154235,
          0.2002168501017248,
          0.13098448326482023,
          0.15720388320671286,
          0.1462907557617573,
          0.11683089848820409,
          0.14612368717152077,
          0.1342868168509619,
          0.15102094074586983,
          0.18200852864378247,
          0.15092416784412746,
          0.11384480827894115,
          0.1324608036324706,
          0.12165122589678566,
          0.12602776290683979,
          0.14829531096330847,
          0.10506926250424861,
          0.10458321203868266,
          0.14213716375062913,
          0.11820552562449746,
          0.1363223499877667,
          0.19972684237916302,
          0.12474923118547479,
          0.14534137903239383,
          0.12698834517175672,
          0.16942715413144652,
          0.5399836872999884,
          0.30535558495164666,
          0.5672477875205336,
          0.15444784960808247,
          0.2125115672354883,
          0.17436915177993062,
          0.14626959340348458,
          0.5821826987272434,
          0.5310516106704863,
          0.6319469468382815,
          0.14107557034653057,
          0.1254074766895259,
          0.24174447464810028,
          0.13057906194024474,
          0.6135196578914586,
          0.3412393680919779,
          0.13932322134949449,
          0.26935090255826144,
          0.14753981070427305,
          0.18206278900975875,
          0.16811635255747065,
          0.13735581290259294,
          0.15155048554712566,
          0.15697612740344413,
          0.17052932964485687,
          0.11204517624410053,
          0.1200064026761003,
          0.12302834285967139,
          0.14493503214062178,
          0.11980397392675307,
          0.13653306408720495,
          0.11886885757210923,
          0.13103693732673757,
          0.1516399195123115,
          0.13683394985179628,
          0.5579068914411596,
          0.1533395310145402,
          0.15526128772960102,
          0.13144325466944148,
          0.13377354324291799,
          0.17643193819269415,
          0.22655879771044682,
          0.5191913794230536,
          0.544310065076201,
          0.3637454129460663,
          0.18156565862394278,
          0.40114378488442015,
          0.39838919199647377,
          0.2170254001297836,
          0.1707558408601182,
          0.5512551762515505,
          0.3827921235243972
         ]
        },
        {
         "marker": {
          "color": "green",
          "size": 18
         },
         "mode": "markers",
         "name": "Al2O3",
         "text": "Al2O3",
         "type": "scatter",
         "x": [],
         "y": []
        },
        {
         "marker": {
          "color": "blue",
          "size": 18
         },
         "mode": "markers",
         "name": "Cr2O3",
         "text": "Cr2O3",
         "type": "scatter",
         "x": [],
         "y": []
        },
        {
         "marker": {
          "color": "orange",
          "size": 18
         },
         "mode": "markers",
         "name": "Y2O3",
         "text": "Y2O3",
         "type": "scatter",
         "x": [],
         "y": []
        },
        {
         "marker": {
          "color": "magenta",
          "size": 18
         },
         "mode": "markers",
         "name": "SiO2",
         "text": "SiO2",
         "type": "scatter",
         "x": [],
         "y": []
        }
       ],
       "layout": {
        "font": {
         "family": "Times New Roman",
         "size": 18
        },
        "height": 600,
        "hovermode": "closest",
        "showlegend": true,
        "template": {
         "data": {
          "bar": [
           {
            "error_x": {
             "color": "#2a3f5f"
            },
            "error_y": {
             "color": "#2a3f5f"
            },
            "marker": {
             "line": {
              "color": "#E5ECF6",
              "width": 0.5
             }
            },
            "type": "bar"
           }
          ],
          "barpolar": [
           {
            "marker": {
             "line": {
              "color": "#E5ECF6",
              "width": 0.5
             }
            },
            "type": "barpolar"
           }
          ],
          "carpet": [
           {
            "aaxis": {
             "endlinecolor": "#2a3f5f",
             "gridcolor": "white",
             "linecolor": "white",
             "minorgridcolor": "white",
             "startlinecolor": "#2a3f5f"
            },
            "baxis": {
             "endlinecolor": "#2a3f5f",
             "gridcolor": "white",
             "linecolor": "white",
             "minorgridcolor": "white",
             "startlinecolor": "#2a3f5f"
            },
            "type": "carpet"
           }
          ],
          "choropleth": [
           {
            "colorbar": {
             "outlinewidth": 0,
             "ticks": ""
            },
            "type": "choropleth"
           }
          ],
          "contour": [
           {
            "colorbar": {
             "outlinewidth": 0,
             "ticks": ""
            },
            "colorscale": [
             [
              0,
              "#0d0887"
             ],
             [
              0.1111111111111111,
              "#46039f"
             ],
             [
              0.2222222222222222,
              "#7201a8"
             ],
             [
              0.3333333333333333,
              "#9c179e"
             ],
             [
              0.4444444444444444,
              "#bd3786"
             ],
             [
              0.5555555555555556,
              "#d8576b"
             ],
             [
              0.6666666666666666,
              "#ed7953"
             ],
             [
              0.7777777777777778,
              "#fb9f3a"
             ],
             [
              0.8888888888888888,
              "#fdca26"
             ],
             [
              1,
              "#f0f921"
             ]
            ],
            "type": "contour"
           }
          ],
          "contourcarpet": [
           {
            "colorbar": {
             "outlinewidth": 0,
             "ticks": ""
            },
            "type": "contourcarpet"
           }
          ],
          "heatmap": [
           {
            "colorbar": {
             "outlinewidth": 0,
             "ticks": ""
            },
            "colorscale": [
             [
              0,
              "#0d0887"
             ],
             [
              0.1111111111111111,
              "#46039f"
             ],
             [
              0.2222222222222222,
              "#7201a8"
             ],
             [
              0.3333333333333333,
              "#9c179e"
             ],
             [
              0.4444444444444444,
              "#bd3786"
             ],
             [
              0.5555555555555556,
              "#d8576b"
             ],
             [
              0.6666666666666666,
              "#ed7953"
             ],
             [
              0.7777777777777778,
              "#fb9f3a"
             ],
             [
              0.8888888888888888,
              "#fdca26"
             ],
             [
              1,
              "#f0f921"
             ]
            ],
            "type": "heatmap"
           }
          ],
          "heatmapgl": [
           {
            "colorbar": {
             "outlinewidth": 0,
             "ticks": ""
            },
            "colorscale": [
             [
              0,
              "#0d0887"
             ],
             [
              0.1111111111111111,
              "#46039f"
             ],
             [
              0.2222222222222222,
              "#7201a8"
             ],
             [
              0.3333333333333333,
              "#9c179e"
             ],
             [
              0.4444444444444444,
              "#bd3786"
             ],
             [
              0.5555555555555556,
              "#d8576b"
             ],
             [
              0.6666666666666666,
              "#ed7953"
             ],
             [
              0.7777777777777778,
              "#fb9f3a"
             ],
             [
              0.8888888888888888,
              "#fdca26"
             ],
             [
              1,
              "#f0f921"
             ]
            ],
            "type": "heatmapgl"
           }
          ],
          "histogram": [
           {
            "marker": {
             "colorbar": {
              "outlinewidth": 0,
              "ticks": ""
             }
            },
            "type": "histogram"
           }
          ],
          "histogram2d": [
           {
            "colorbar": {
             "outlinewidth": 0,
             "ticks": ""
            },
            "colorscale": [
             [
              0,
              "#0d0887"
             ],
             [
              0.1111111111111111,
              "#46039f"
             ],
             [
              0.2222222222222222,
              "#7201a8"
             ],
             [
              0.3333333333333333,
              "#9c179e"
             ],
             [
              0.4444444444444444,
              "#bd3786"
             ],
             [
              0.5555555555555556,
              "#d8576b"
             ],
             [
              0.6666666666666666,
              "#ed7953"
             ],
             [
              0.7777777777777778,
              "#fb9f3a"
             ],
             [
              0.8888888888888888,
              "#fdca26"
             ],
             [
              1,
              "#f0f921"
             ]
            ],
            "type": "histogram2d"
           }
          ],
          "histogram2dcontour": [
           {
            "colorbar": {
             "outlinewidth": 0,
             "ticks": ""
            },
            "colorscale": [
             [
              0,
              "#0d0887"
             ],
             [
              0.1111111111111111,
              "#46039f"
             ],
             [
              0.2222222222222222,
              "#7201a8"
             ],
             [
              0.3333333333333333,
              "#9c179e"
             ],
             [
              0.4444444444444444,
              "#bd3786"
             ],
             [
              0.5555555555555556,
              "#d8576b"
             ],
             [
              0.6666666666666666,
              "#ed7953"
             ],
             [
              0.7777777777777778,
              "#fb9f3a"
             ],
             [
              0.8888888888888888,
              "#fdca26"
             ],
             [
              1,
              "#f0f921"
             ]
            ],
            "type": "histogram2dcontour"
           }
          ],
          "mesh3d": [
           {
            "colorbar": {
             "outlinewidth": 0,
             "ticks": ""
            },
            "type": "mesh3d"
           }
          ],
          "parcoords": [
           {
            "line": {
             "colorbar": {
              "outlinewidth": 0,
              "ticks": ""
             }
            },
            "type": "parcoords"
           }
          ],
          "pie": [
           {
            "automargin": true,
            "type": "pie"
           }
          ],
          "scatter": [
           {
            "marker": {
             "colorbar": {
              "outlinewidth": 0,
              "ticks": ""
             }
            },
            "type": "scatter"
           }
          ],
          "scatter3d": [
           {
            "line": {
             "colorbar": {
              "outlinewidth": 0,
              "ticks": ""
             }
            },
            "marker": {
             "colorbar": {
              "outlinewidth": 0,
              "ticks": ""
             }
            },
            "type": "scatter3d"
           }
          ],
          "scattercarpet": [
           {
            "marker": {
             "colorbar": {
              "outlinewidth": 0,
              "ticks": ""
             }
            },
            "type": "scattercarpet"
           }
          ],
          "scattergeo": [
           {
            "marker": {
             "colorbar": {
              "outlinewidth": 0,
              "ticks": ""
             }
            },
            "type": "scattergeo"
           }
          ],
          "scattergl": [
           {
            "marker": {
             "colorbar": {
              "outlinewidth": 0,
              "ticks": ""
             }
            },
            "type": "scattergl"
           }
          ],
          "scattermapbox": [
           {
            "marker": {
             "colorbar": {
              "outlinewidth": 0,
              "ticks": ""
             }
            },
            "type": "scattermapbox"
           }
          ],
          "scatterpolar": [
           {
            "marker": {
             "colorbar": {
              "outlinewidth": 0,
              "ticks": ""
             }
            },
            "type": "scatterpolar"
           }
          ],
          "scatterpolargl": [
           {
            "marker": {
             "colorbar": {
              "outlinewidth": 0,
              "ticks": ""
             }
            },
            "type": "scatterpolargl"
           }
          ],
          "scatterternary": [
           {
            "marker": {
             "colorbar": {
              "outlinewidth": 0,
              "ticks": ""
             }
            },
            "type": "scatterternary"
           }
          ],
          "surface": [
           {
            "colorbar": {
             "outlinewidth": 0,
             "ticks": ""
            },
            "colorscale": [
             [
              0,
              "#0d0887"
             ],
             [
              0.1111111111111111,
              "#46039f"
             ],
             [
              0.2222222222222222,
              "#7201a8"
             ],
             [
              0.3333333333333333,
              "#9c179e"
             ],
             [
              0.4444444444444444,
              "#bd3786"
             ],
             [
              0.5555555555555556,
              "#d8576b"
             ],
             [
              0.6666666666666666,
              "#ed7953"
             ],
             [
              0.7777777777777778,
              "#fb9f3a"
             ],
             [
              0.8888888888888888,
              "#fdca26"
             ],
             [
              1,
              "#f0f921"
             ]
            ],
            "type": "surface"
           }
          ],
          "table": [
           {
            "cells": {
             "fill": {
              "color": "#EBF0F8"
             },
             "line": {
              "color": "white"
             }
            },
            "header": {
             "fill": {
              "color": "#C8D4E3"
             },
             "line": {
              "color": "white"
             }
            },
            "type": "table"
           }
          ]
         },
         "layout": {
          "annotationdefaults": {
           "arrowcolor": "#2a3f5f",
           "arrowhead": 0,
           "arrowwidth": 1
          },
          "coloraxis": {
           "colorbar": {
            "outlinewidth": 0,
            "ticks": ""
           }
          },
          "colorscale": {
           "diverging": [
            [
             0,
             "#8e0152"
            ],
            [
             0.1,
             "#c51b7d"
            ],
            [
             0.2,
             "#de77ae"
            ],
            [
             0.3,
             "#f1b6da"
            ],
            [
             0.4,
             "#fde0ef"
            ],
            [
             0.5,
             "#f7f7f7"
            ],
            [
             0.6,
             "#e6f5d0"
            ],
            [
             0.7,
             "#b8e186"
            ],
            [
             0.8,
             "#7fbc41"
            ],
            [
             0.9,
             "#4d9221"
            ],
            [
             1,
             "#276419"
            ]
           ],
           "sequential": [
            [
             0,
             "#0d0887"
            ],
            [
             0.1111111111111111,
             "#46039f"
            ],
            [
             0.2222222222222222,
             "#7201a8"
            ],
            [
             0.3333333333333333,
             "#9c179e"
            ],
            [
             0.4444444444444444,
             "#bd3786"
            ],
            [
             0.5555555555555556,
             "#d8576b"
            ],
            [
             0.6666666666666666,
             "#ed7953"
            ],
            [
             0.7777777777777778,
             "#fb9f3a"
            ],
            [
             0.8888888888888888,
             "#fdca26"
            ],
            [
             1,
             "#f0f921"
            ]
           ],
           "sequentialminus": [
            [
             0,
             "#0d0887"
            ],
            [
             0.1111111111111111,
             "#46039f"
            ],
            [
             0.2222222222222222,
             "#7201a8"
            ],
            [
             0.3333333333333333,
             "#9c179e"
            ],
            [
             0.4444444444444444,
             "#bd3786"
            ],
            [
             0.5555555555555556,
             "#d8576b"
            ],
            [
             0.6666666666666666,
             "#ed7953"
            ],
            [
             0.7777777777777778,
             "#fb9f3a"
            ],
            [
             0.8888888888888888,
             "#fdca26"
            ],
            [
             1,
             "#f0f921"
            ]
           ]
          },
          "colorway": [
           "#636efa",
           "#EF553B",
           "#00cc96",
           "#ab63fa",
           "#FFA15A",
           "#19d3f3",
           "#FF6692",
           "#B6E880",
           "#FF97FF",
           "#FECB52"
          ],
          "font": {
           "color": "#2a3f5f"
          },
          "geo": {
           "bgcolor": "white",
           "lakecolor": "white",
           "landcolor": "#E5ECF6",
           "showlakes": true,
           "showland": true,
           "subunitcolor": "white"
          },
          "hoverlabel": {
           "align": "left"
          },
          "hovermode": "closest",
          "mapbox": {
           "style": "light"
          },
          "paper_bgcolor": "white",
          "plot_bgcolor": "#E5ECF6",
          "polar": {
           "angularaxis": {
            "gridcolor": "white",
            "linecolor": "white",
            "ticks": ""
           },
           "bgcolor": "#E5ECF6",
           "radialaxis": {
            "gridcolor": "white",
            "linecolor": "white",
            "ticks": ""
           }
          },
          "scene": {
           "xaxis": {
            "backgroundcolor": "#E5ECF6",
            "gridcolor": "white",
            "gridwidth": 2,
            "linecolor": "white",
            "showbackground": true,
            "ticks": "",
            "zerolinecolor": "white"
           },
           "yaxis": {
            "backgroundcolor": "#E5ECF6",
            "gridcolor": "white",
            "gridwidth": 2,
            "linecolor": "white",
            "showbackground": true,
            "ticks": "",
            "zerolinecolor": "white"
           },
           "zaxis": {
            "backgroundcolor": "#E5ECF6",
            "gridcolor": "white",
            "gridwidth": 2,
            "linecolor": "white",
            "showbackground": true,
            "ticks": "",
            "zerolinecolor": "white"
           }
          },
          "shapedefaults": {
           "line": {
            "color": "#2a3f5f"
           }
          },
          "ternary": {
           "aaxis": {
            "gridcolor": "white",
            "linecolor": "white",
            "ticks": ""
           },
           "baxis": {
            "gridcolor": "white",
            "linecolor": "white",
            "ticks": ""
           },
           "bgcolor": "#E5ECF6",
           "caxis": {
            "gridcolor": "white",
            "linecolor": "white",
            "ticks": ""
           }
          },
          "title": {
           "x": 0.05
          },
          "xaxis": {
           "automargin": true,
           "gridcolor": "white",
           "linecolor": "white",
           "ticks": "",
           "title": {
            "standoff": 15
           },
           "zerolinecolor": "white",
           "zerolinewidth": 2
          },
          "yaxis": {
           "automargin": true,
           "gridcolor": "white",
           "linecolor": "white",
           "ticks": "",
           "title": {
            "standoff": 15
           },
           "zerolinecolor": "white",
           "zerolinewidth": 2
          }
         }
        },
        "title": {
         "text": "Oxide Query IPF vs. Density"
        },
        "width": 1200,
        "xaxis": {
         "gridwidth": 2,
         "title": {
          "text": "$Density \\: [g/cm^{3}]$"
         },
         "zeroline": false
        },
        "yaxis": {
         "gridwidth": 2,
         "title": {
          "text": "$Ionic \\: Packing \\: Fraction \\: [IPF]$"
         },
         "zeroline": false
        }
       }
      },
      "text/html": [
       "<div>\n",
       "        \n",
       "        \n",
       "            <div id=\"8664c993-8131-4007-9af9-900b17391b2a\" class=\"plotly-graph-div\" style=\"height:600px; width:1200px;\"></div>\n",
       "            <script type=\"text/javascript\">\n",
       "                require([\"plotly\"], function(Plotly) {\n",
       "                    window.PLOTLYENV=window.PLOTLYENV || {};\n",
       "                    \n",
       "                if (document.getElementById(\"8664c993-8131-4007-9af9-900b17391b2a\")) {\n",
       "                    Plotly.newPlot(\n",
       "                        '8664c993-8131-4007-9af9-900b17391b2a',\n",
       "                        [{\"marker\": {\"color\": \"black\", \"size\": 12}, \"mode\": \"markers\", \"name\": \"All Queries\", \"text\": [\"Ti2Zn\", \"TiZn\", \"TiAg\", \"TiS\", \"TiAu2\", \"Ti2Rh\", \"Ti3B4\", \"TiNi\", \"Ti2C\", \"TiIr3\", \"TiB2\", \"Ti3O5\", \"Ti5Se4\", \"Ti2O\", \"TiIr\", \"TiCu3\", \"TiAu4\", \"Ti2Be17\", \"Ti2Pd\", \"Ti3Sb\", \"TiCr2\", \"Ti3Te4\", \"U2Ti\", \"Ti3Rh5\", \"Ti3Au\", \"Ti2Ni\", \"TiAs\", \"Ti3Al\", \"TiTe2\", \"TiMn2\", \"TiAl\", \"TiP2\", \"Ti6Sn5\", \"TiCu\", \"Ti5Sn3\", \"Ti5Si3\", \"TiZn3\", \"TiRe\", \"TiSb\", \"TiSe2\", \"Ti5Sb3\", \"TiI3\", \"TiZn16\", \"Ti3Pt\", \"Ti3Hg\", \"TiF3\", \"TiH2\", \"TiRh\", \"Ti3Cu4\", \"TiBe2\", \"TiOs\", \"TiFe\", \"TiCd\", \"Ti2Cd\", \"Ti2Ga\", \"Ti3Ga\", \"Ti2Ga3\", \"Ti3Pt5\", \"TiPt8\", \"Ti2Sn\", \"TiN\", \"Ti5Si4\", \"TiI4\", \"Ti3Ir\", \"TiO2\", \"TiAl2\", \"TiSb2\", \"TiCr2\", \"TiPt3\", \"Ti3Pd5\", \"TiCl3\", \"TiGa2\", \"TiRu\", \"TiCo3\", \"Ti2Sn3\", \"TiSi\", \"TiP\", \"Ti5Te4\", \"TiB\", \"TiCo\", \"Ti2N\", \"Ti3In\", \"Ti3Pb\", \"Ti2Ag\", \"Ti2ZnN\", \"TiZnN2\", \"TiTl2F6\", \"TiTeAs\", \"TiRh3\", \"TiTc\", \"TiNi3\", \"TiFe2Sn\", \"TiPbO3\", \"TiNiSb\", \"TiS2\", \"TiGaPt\", \"TiGa3\", \"TiGa\", \"Cs2TiCl6\", \"TiBrN\", \"Ti8C5\", \"MgTi2O5\", \"NaTi2O4\", \"Ti2Pd3\", \"Ti3AlC2\", \"CaTiO3\", \"Ti2O3\", \"SrTiO3\", \"TiAl3\", \"Ti3SiC2\", \"TiGe2\", \"Ti2Bi\", \"Cs3Ti2Cl9\", \"RbTiBr3\", \"Ti2S\", \"TiC\", \"TiSiRh\", \"Ti2Cu\", \"Sc2Ti2O7\", \"Li2TiF6\", \"Ti2CoRe\", \"TiFeSi\", \"TiZnIr2\", \"TiZnNi2\", \"Ti2NiIr\", \"Ti2RePd\", \"Ti2MoPt\", \"TiTc2Sb\", \"TiTc2W\", \"Ti2OsRu\", \"TiZnCo2\", \"TiVRe2\", \"TiGaPd2\", \"TiInPd2\", \"Ti2MnRh\", \"TaTiOs2\", \"SrTiN2\", \"LiTiS2\", \"TiS3\", \"TiPt\", \"Eu2TiO4\", \"TiCrP\", \"Ti6Si2B\", \"TiNiGe\", \"Ti2PbC\", \"TiCo2Sn\", \"TiNCl\", \"Na8Ti5O14\", \"Li2TiO3\", \"ZrTiAs\", \"TiAlFe2\", \"TiCo2Si\", \"Ti2CS\", \"MgTiO3\", \"K2TiF6\", \"TiCo2Ge\", \"SrTiO3\", \"BaTiO3\", \"YTiGe\", \"TiAsRh\", \"Ti2SbP\", \"ThTi2O6\", \"TiAlCo2\", \"SrTiO3\", \"Sr2TiO4\", \"Na4Ti5O12\", \"LiTi2O4\", \"Mg3(TiAl9)2\", \"TiAlNi2\", \"TiSnO3\", \"Mg2TiO4\", \"BaTiF6\", \"Ti2AlTc\", \"LiTiRh2\", \"TiMn2Al\", \"Ti2TcRh\", \"Ti2ReNi\", \"TiZnAu2\", \"Ti2MnOs\", \"Ti2MoIr\", \"Ti2TcIr\", \"Ti2TcNi\", \"TiVTc2\", \"Ti2ReRh\", \"TiBe2Ir\", \"TiFe2Si\", \"TiBeRh2\", \"TiBeCo2\", \"TiAlRh2\", \"CsTi6O12\", \"Ti6Al16Pt7\", \"TiGaPd\", \"Zr(TiGa2)2\", \"Lu(TiGa2)2\", \"Ti2InN\", \"TiSiRu\", \"Ti2AlC\", \"Ti3NiS6\", \"TiAlAu\", \"TiMnO3\", \"TiGaCo2\", \"TiCuSi\", \"TiFeSi2\", \"YTiSi\", \"Rb2TiCl6\", \"Ti(CuS)4\", \"TiGaNi2\", \"Ti2SnC\", \"TiAlCu2\", \"Ti2BRh6\", \"TiCoSb\", \"TiCdF6\", \"TiGaFe2\", \"Li4Ti5O12\", \"Ti2CoIr\", \"Ti2AlRe\", \"TaTiRu2\", \"TaTiTc2\", \"TiZnRh2\", \"Ti2MnFe\", \"MgTiIr2\", \"TiZnPd2\", \"TiNbRe2\", \"TiMn2W\", \"TiMn2V\", \"Ti2TcPt\", \"TiZnCu2\", \"TiGaIr2\", \"TiBeIr2\", \"TiAlRu2\", \"TiInRh2\", \"Ti2ZnTc\", \"TaTiMn2\", \"Li4TiO4\", \"TiNiSn\", \"TiFeTe\", \"TiSnPd\", \"LiTiPt2\", \"TiGePt\", \"Ti2ReB2\", \"Tm(TiGa2)2\", \"Ti2NiS4\", \"Ti2GaN\", \"Sr4TiN4\", \"TiPRu\", \"TiFeSb\", \"Ti3In3Rh2\", \"Ti2Te2P\", \"Ti2GaC\", \"TiGePd\", \"Ti2InC\", \"Ti3InC\", \"Ti3SnC2\", \"TiCoSi\", \"TiInCu2\", \"CaTiF6\", \"TiIN\", \"TiSnPt\", \"Ti3AlC\", \"Ba2TiO4\", \"Ca4TiN4\", \"NaTiS2\", \"Ti2AlMo\", \"Ti2CoTc\", \"MgTiRh2\", \"Ti6Al16Ni7\", \"TiAlPd2\", \"Ti2MnRu\", \"TiMnCo2\", \"TiInCo2\", \"Ti2NiMo\", \"TiMn2Si\", \"TiNbTc2\", \"TiRe2W\", \"TiReTc2\", \"TiSnPd2\", \"TiSiOs2\", \"TiSiRu2\", \"Ti2ReIr\", \"TiSnRu2\", \"TiGaRh2\", \"TiFe2Ge\", \"TaTiRe2\", \"Ti2IrW\", \"ScTiRu2\", \"Ti3ZnN\", \"TiCdO3\", \"RbTiS2\", \"TiNiO3\", \"TiCoGe\", \"CsTiBr3\", \"K2TiCl6\", \"TiGaNi\", \"Sr3Ti2O7\", \"Na2Ti3O7\", \"LiTiO2\", \"Ti2AlN\", \"TiSiNi\", \"TiCu2Te3\", \"TiAlPt\", \"BaTiO3\", \"KRb2TiF6\", \"Ti3SnH\", \"Ti3PdO\", \"Li(TiSe2)3\", \"Ti2CrIr\", \"Ti2FeIr\", \"Ti2MnBe\", \"PaTiTc2\", \"Ti2MnCo\", \"LiTiIr2\", \"TiAlOs2\", \"TiGaRu2\", \"TiMnRh2\", \"Ti2MnIr\", \"TiGeRu2\", \"Ti2TcRu\", \"TiSiTc2\", \"TiSnRh2\", \"Ti2MnNi\", \"Ti2TcOs\", \"AcTiO3\", \"Ti2TcPd\", \"Ti2ZnRe\", \"TiTc2Mo\", \"Ti2GeC\", \"Ti2CdC\", \"Na2Ti2As2O\", \"RbTiAsO5\", \"LiTiPO5\", \"Tb2Ti2S2O5\", \"TiGaFeCo\", \"Nd2Ti2S2O5\", \"Sm2Ti2S2O5\", \"Na2Ti2Sb2O\", \"TiAlFeCo\", \"KNaTiO3\", \"Cs2KTiF6\"], \"type\": \"scatter\", \"x\": [5.4624418431294846, 6.036542541370883, 7.340358574162901, 4.442034010283959, 14.162674008729564, 7.08866045352241, 4.557547483685545, 6.4129856237257545, 4.4397691684648475, 17.774770707590932, 4.48742509138872, 4.187247707142454, 5.571714611425473, 5.012926886778068, 13.171719999335542, 7.64811775237397, 15.866690660766688, 2.4788616197207776, 6.905202130563418, 6.204950157087049, 6.237410464246428, 6.386267555747635, 15.633596985294249, 9.261614828158567, 8.460278692613556, 5.725013960684072, 5.836287445057678, 4.24886855694461, 5.967718130581316, 6.901373874786948, 3.8339015516249924, 4.262085969423355, 6.8133915501839475, 6.4409362603173195, 6.425214777223388, 4.347039336035789, 6.697660334904412, 12.813423301491598, 6.344016707746623, 4.692579364547135, 6.533810701664811, 4.359640173734073, 7.014325083136486, 8.76669891569527, 8.13860497378146, 2.8243455697091604, 3.832731997844202, 8.321025415894498, 6.748300335520562, 3.293295530284812, 13.333766927112507, 6.642034495803114, 6.897648170834788, 6.215938143385086, 5.649651697567152, 5.416551057420764, 6.382990495806396, 14.802111278232545, 19.082725589745888, 6.451610572115688, 5.340297397189084, 4.25473535677054, 4.3668690052068415, 8.833383915301757, 3.6159400033700795, 3.536390535036478, 7.376419290265216, 6.234565438345089, 17.027464482463998, 8.90461162906226, 2.2774261271317386, 6.57508815436937, 8.419437219779311, 7.9485403294031345, 7.060315921097217, 4.224308672822326, 4.219611373656351, 6.385807170916716, 4.575880541341557, 6.714495214283375, 4.881545213711141, 5.888116238832343, 7.797411885162248, 6.468902592045046, 5.650048112061304, 4.766285536725132, 6.057885867720305, 6.769605729748634, 10.282251751785296, 8.076824961632303, 7.958129733816652, 8.367357755094483, 7.295112048795698, 7.23884154747617, 2.865289943255333, 11.147470113345912, 6.684291685114108, 6.1976826619748895, 2.963362008986589, 3.9395889679935796, 4.541437896810737, 3.5514942036147072, 4.03211265932668, 8.738526615651537, 4.20786317502239, 3.9404642801305276, 4.523578267557585, 4.962107562390343, 3.3657054463344656, 4.4749080984814436, 6.553899769932891, 7.998026445353696, 3.0401275593382264, 3.9356028008418735, 4.80268802739094, 4.87990698075401, 6.784636672305928, 5.72218027117513, 3.3381635201419226, 2.886520546058677, 9.912983598641455, 5.624878004168807, 14.313777243307232, 7.587307353396716, 10.01044668827803, 10.429398163398332, 10.298147656965556, 9.516408279480293, 11.693560622969297, 10.875791727030174, 7.7961961744060755, 13.403563577525125, 8.94388309728109, 9.226915698480555, 7.479172389493153, 16.24397965392071, 4.596150108497811, 3.0916934550698034, 2.940905884129678, 12.760333985989046, 7.235616986713232, 5.652777279831061, 4.44587873057504, 7.085254895184842, 8.250785346746342, 8.37544948678618, 2.9608482669353977, 3.284706044018789, 3.3362540106131995, 6.617444392928694, 6.253070135591179, 6.762597801805614, 4.634878108828932, 3.780006541137528, 2.847791097004868, 7.92660377274569, 4.972062045682436, 5.696967616676617, 5.469106490462338, 8.163513939030423, 5.683966259319116, 5.935302051965234, 6.450357762610031, 4.966121060316674, 4.8732527350303, 3.6017285684115445, 3.649565279447548, 2.7005341149603868, 6.253223227274053, 4.572232792498782, 3.429076180124355, 4.121344465635651, 5.893565944131917, 7.881916365009485, 5.794348410543372, 8.248625335895005, 9.791110986112407, 12.572718828222012, 10.009062644775774, 10.429707910141847, 10.735713796405204, 7.393032893959293, 8.4990653539188, 10.604352786731432, 9.34964352483046, 6.7581276538375015, 8.36609769340187, 6.639927873367532, 8.099626827042165, 4.196789423760888, 7.540646708451553, 8.02198898925839, 6.540822885695841, 7.4412713931789645, 6.37134824652084, 6.828651218841114, 3.993100999294839, 3.8664611998401566, 9.082770024482732, 4.465567989536367, 7.8648054325560715, 5.577715167561554, 5.1432356119067775, 4.422838633476582, 2.663452049836092, 4.546919933889982, 7.652008774211659, 6.244640756678336, 6.1437518525598, 9.69818028407914, 7.4161166432836785, 3.7878369425499465, 7.798866002382084, 3.383782954271181, 10.030921198382599, 8.24757087189734, 11.63238220857548, 11.265013084980856, 9.271396328551523, 6.549536522803793, 12.713547624267859, 8.93070996457023, 13.374318316308761, 10.694686868620503, 6.930633199021836, 10.533932931783644, 7.415148555046202, 14.131652491087628, 13.864523376237495, 8.111431846362592, 9.569856062042563, 7.030689430193968, 10.17393399198337, 2.49757315975166, 7.230096922996658, 7.544316549414458, 7.554322965866566, 12.60327472096375, 9.749869469337343, 8.962409925311519, 7.302528729539403, 4.152401887128523, 5.682010841432831, 4.468439931681672, 7.173677446230221, 7.055233350704827, 7.9926334816569184, 5.513174125224249, 5.332772544545805, 7.962521710594004, 6.063190462834159, 5.857246750937356, 5.906377007878856, 5.7176592376547415, 7.837531383584235, 2.307503291141096, 4.6374993284668715, 9.92580275031248, 4.14816071313334, 4.964862891634228, 3.0618782746735493, 3.025204167334896, 5.652812263160933, 7.508747467879704, 7.747610900390847, 4.564324365433942, 7.796983785633488, 7.4584229699071365, 7.350147535407575, 8.59380542640719, 7.112101516720644, 6.352313230944243, 8.908701471523768, 16.2597984805017, 11.967737648863498, 9.287622660242107, 13.727474303048396, 8.522604054233913, 13.065347486039514, 9.777327921746597, 9.27802116476737, 7.947002590025136, 15.710756052787996, 12.73920881877668, 7.862720991735482, 5.37890951833673, 5.633653361711024, 3.6465683952596106, 4.948071791584746, 7.1908569707582775, 4.114540726103568, 2.232695114770109, 6.991897317964257, 4.905953288475624, 3.345429369560711, 4.06672056516467, 4.264332410125586, 5.670689314807067, 6.5101162772345695, 9.656845071143279, 5.713375485281336, 3.2708715815482146, 5.997228901136887, 6.369330991445486, 4.1374015196762235, 9.760395641571574, 9.950049065017923, 5.074745986110234, 11.151404478968328, 6.6495117830951775, 13.243443555111606, 13.175580632904648, 9.306973852038315, 8.764975268637999, 10.07359046810324, 9.276389202020713, 8.257824485201251, 8.054004836705937, 9.592849021588956, 6.57826859307671, 10.690396169558037, 8.284647565044244, 8.11100510528375, 9.382320137636565, 9.323271653873626, 5.5647919328460915, 6.020726394251087, 3.984433553321344, 3.8322311394294086, 3.1065032453964494, 5.549563127057932, 7.852732359070375, 5.0129830860151126, 5.233540368196205, 4.601877729197639, 6.423142027062664, 2.95235584882722, 3.9151633204491088], \"y\": [0.1639185929850974, 0.17465114469285195, 0.22601427981911038, 0.18213033035592233, 0.24807917200765672, 0.14844111420265715, 0.13099301136756655, 0.1552981353489944, 0.13122955521003882, 0.14077963316526612, 0.1230849374375109, 0.5600231544369283, 0.18356435194439233, 0.3662168250314958, 0.14745125945292215, 0.1837705775343425, 0.26426114359978575, 0.11873385793604922, 0.15867571120480414, 0.14303956557615985, 0.2361187106085201, 0.25880676185737994, 0.19312379026173263, 0.13918080951660589, 0.19289837232119625, 0.15343497788015972, 0.10853808691682632, 0.13576534304262572, 0.24560134002423767, 0.12832829894847086, 0.11955719175912623, 0.09305754462454778, 0.1281181285961661, 0.17049395614150234, 0.13076198828624291, 0.12067629696043301, 0.18426369812102286, 0.13524886781535064, 0.11222376500406839, 0.15524101899102893, 0.1309597195217656, 0.17478120316718795, 0.18627145869938552, 0.15506859696804765, 0.22564620238272717, 0.11339197355557593, 0.11973066672060946, 0.1435665383511244, 0.17368930902922072, 0.1296722702846171, 0.13032742309620188, 0.1998886594219398, 0.20764917456044876, 0.1906293122472227, 0.1442288588506151, 0.14681722111185752, 0.13478875984974334, 0.14887068669919765, 0.14337611859712665, 0.13715709806737453, 0.1889358234178382, 0.1134867373079618, 0.1760162964046736, 0.15267440227901116, 0.527473341861237, 0.10800150231519788, 0.11247418630863018, 0.23601101145174302, 0.1480823064801181, 0.16233867133346433, 0.07604216235683961, 0.13243924066780063, 0.12927407530300686, 0.17657033375407374, 0.11630625457325387, 0.10876061772381987, 0.10586282105644254, 0.2522885639723213, 0.13507786185601123, 0.16990253225767665, 0.16669107259881275, 0.15425685591817223, 0.1832132310174751, 0.20186430554106263, 0.17633674378026387, 0.15311443277526152, 0.19956502809367532, 0.20928136125875543, 0.135165207417897, 0.14326790054127483, 0.16434861670166484, 0.18421765964796719, 0.4877818034136472, 0.1275434044249476, 0.1278256188500087, 0.1419501420045817, 0.12691367969074038, 0.14049427665918923, 0.2176201641543586, 0.10900276229467461, 0.13129340929417405, 0.5317634545223553, 0.6010653622581049, 0.16219827975864465, 0.12080369580176986, 0.5922932448248942, 0.5745173562529665, 0.6084334115282282, 0.10152895992103267, 0.11908903331575288, 0.13103062258540607, 0.15521201753073569, 0.21960112433143134, 0.19304600975828043, 0.18172294113911178, 0.13254814609406856, 0.1137446072215396, 0.1619308695657307, 0.4703273225058381, 0.17311316128871185, 0.15044112075312538, 0.1501576695810445, 0.1592116803445447, 0.17505037660259753, 0.15213341492326607, 0.14925276600970097, 0.1492887967888116, 0.13167097379665996, 0.12995482663470073, 0.12965591522173264, 0.18772422300201794, 0.12995416459871584, 0.15491008303989237, 0.1648933603103771, 0.14296272555980058, 0.11962854540467419, 0.24236080481823008, 0.1776784251954564, 0.13708989852209225, 0.1509596502551732, 0.5295032503663019, 0.17598031235210257, 0.12951650301583187, 0.14756095541362443, 0.17689840656814365, 0.15573428796784594, 0.10301189228761772, 0.5579126702515457, 0.6193674969856675, 0.12021999156166346, 0.18302227726688025, 0.14807287193487065, 0.16256540088694024, 0.5756631477737015, 0.2915855322037965, 0.16620613965967324, 0.6096539897106348, 0.6117577309956982, 0.14487910776752078, 0.1203244055936583, 0.11389151223978251, 0.5122070462696539, 0.1547169985725137, 0.6089255302912285, 0.566008522017582, 0.578808382381363, 0.5504742776928325, 0.09036410242626657, 0.14242779857361934, 0.3865067263318712, 0.5331708346280016, 0.20946939662790875, 0.1314144029664836, 0.16583310538204674, 0.1163411465266228, 0.1442832965705615, 0.14519036049025477, 0.23444023302567493, 0.13426412727622636, 0.1472562006172479, 0.14673184839946257, 0.15135615151453718, 0.13844130021812637, 0.139759328373166, 0.1348893338887807, 0.18300581412782066, 0.13256586983593813, 0.1658484569804471, 0.12756393487056028, 0.5818344453210997, 0.11204813142569545, 0.15020416826269373, 0.12847751992320747, 0.13642583095242092, 0.1657685224984901, 0.10353640110722764, 0.11738355380417329, 0.15685253391938575, 0.1812551106667073, 0.5147690148787912, 0.16547403144549316, 0.13380077907775537, 0.12595933635788817, 0.12858782690686527, 0.19639191093695943, 0.14790991515052387, 0.1533816924200279, 0.12759403292901528, 0.15564081865263307, 0.12791249189738124, 0.1344872726984684, 0.13988173817438185, 0.19699101657735282, 0.5579527275656979, 0.15586615298256923, 0.12827792892124104, 0.11893240659376417, 0.1327830730047903, 0.1558405427770336, 0.17020698849289723, 0.1509525479011244, 0.17347978398633668, 0.12441602270764168, 0.12742539392074806, 0.136788880312811, 0.14796710281816186, 0.186916291406347, 0.13861599630948956, 0.13619200311659224, 0.11102112505093871, 0.14905750117623906, 0.15911374962345054, 0.1298892584111125, 0.5204875095699774, 0.12911409052544734, 0.2797864537394527, 0.12533666855107262, 0.1707638810476957, 0.1243740132451421, 0.1292183051590566, 0.1458714319945559, 0.1617990526589595, 0.15370416027068876, 0.2683621693145904, 0.1079178614485961, 0.14279689597396342, 0.15028307048900788, 0.20860850877538947, 0.12897226386082103, 0.14872824669514756, 0.14383771008215315, 0.14810815620508558, 0.12899425080522056, 0.13139149812245873, 0.17405093231499572, 0.1211141363709712, 0.1817133411713443, 0.1184682979164383, 0.12537593240280195, 0.49365440630728835, 0.2205428709154235, 0.2002168501017248, 0.13098448326482023, 0.15720388320671286, 0.1462907557617573, 0.11683089848820409, 0.14612368717152077, 0.1342868168509619, 0.15102094074586983, 0.18200852864378247, 0.15092416784412746, 0.11384480827894115, 0.1324608036324706, 0.12165122589678566, 0.12602776290683979, 0.14829531096330847, 0.10506926250424861, 0.10458321203868266, 0.14213716375062913, 0.11820552562449746, 0.1363223499877667, 0.19972684237916302, 0.12474923118547479, 0.14534137903239383, 0.12698834517175672, 0.16942715413144652, 0.5399836872999884, 0.30535558495164666, 0.5672477875205336, 0.15444784960808247, 0.2125115672354883, 0.17436915177993062, 0.14626959340348458, 0.5821826987272434, 0.5310516106704863, 0.6319469468382815, 0.14107557034653057, 0.1254074766895259, 0.24174447464810028, 0.13057906194024474, 0.6135196578914586, 0.3412393680919779, 0.13932322134949449, 0.26935090255826144, 0.14753981070427305, 0.18206278900975875, 0.16811635255747065, 0.13735581290259294, 0.15155048554712566, 0.15697612740344413, 0.17052932964485687, 0.11204517624410053, 0.1200064026761003, 0.12302834285967139, 0.14493503214062178, 0.11980397392675307, 0.13653306408720495, 0.11886885757210923, 0.13103693732673757, 0.1516399195123115, 0.13683394985179628, 0.5579068914411596, 0.1533395310145402, 0.15526128772960102, 0.13144325466944148, 0.13377354324291799, 0.17643193819269415, 0.22655879771044682, 0.5191913794230536, 0.544310065076201, 0.3637454129460663, 0.18156565862394278, 0.40114378488442015, 0.39838919199647377, 0.2170254001297836, 0.1707558408601182, 0.5512551762515505, 0.3827921235243972]}, {\"marker\": {\"color\": \"green\", \"size\": 18}, \"mode\": \"markers\", \"name\": \"Al2O3\", \"text\": \"Al2O3\", \"type\": \"scatter\", \"x\": [], \"y\": []}, {\"marker\": {\"color\": \"blue\", \"size\": 18}, \"mode\": \"markers\", \"name\": \"Cr2O3\", \"text\": \"Cr2O3\", \"type\": \"scatter\", \"x\": [], \"y\": []}, {\"marker\": {\"color\": \"orange\", \"size\": 18}, \"mode\": \"markers\", \"name\": \"Y2O3\", \"text\": \"Y2O3\", \"type\": \"scatter\", \"x\": [], \"y\": []}, {\"marker\": {\"color\": \"magenta\", \"size\": 18}, \"mode\": \"markers\", \"name\": \"SiO2\", \"text\": \"SiO2\", \"type\": \"scatter\", \"x\": [], \"y\": []}],\n",
       "                        {\"font\": {\"family\": \"Times New Roman\", \"size\": 18}, \"height\": 600, \"hovermode\": \"closest\", \"showlegend\": true, \"template\": {\"data\": {\"bar\": [{\"error_x\": {\"color\": \"#2a3f5f\"}, \"error_y\": {\"color\": \"#2a3f5f\"}, \"marker\": {\"line\": {\"color\": \"#E5ECF6\", \"width\": 0.5}}, \"type\": \"bar\"}], \"barpolar\": [{\"marker\": {\"line\": {\"color\": \"#E5ECF6\", \"width\": 0.5}}, \"type\": \"barpolar\"}], \"carpet\": [{\"aaxis\": {\"endlinecolor\": \"#2a3f5f\", \"gridcolor\": \"white\", \"linecolor\": \"white\", \"minorgridcolor\": \"white\", \"startlinecolor\": \"#2a3f5f\"}, \"baxis\": {\"endlinecolor\": \"#2a3f5f\", \"gridcolor\": \"white\", \"linecolor\": \"white\", \"minorgridcolor\": \"white\", \"startlinecolor\": \"#2a3f5f\"}, \"type\": \"carpet\"}], \"choropleth\": [{\"colorbar\": {\"outlinewidth\": 0, \"ticks\": \"\"}, \"type\": \"choropleth\"}], \"contour\": [{\"colorbar\": {\"outlinewidth\": 0, \"ticks\": \"\"}, \"colorscale\": [[0.0, \"#0d0887\"], [0.1111111111111111, \"#46039f\"], [0.2222222222222222, \"#7201a8\"], [0.3333333333333333, \"#9c179e\"], [0.4444444444444444, \"#bd3786\"], [0.5555555555555556, \"#d8576b\"], [0.6666666666666666, \"#ed7953\"], [0.7777777777777778, \"#fb9f3a\"], [0.8888888888888888, \"#fdca26\"], [1.0, \"#f0f921\"]], \"type\": \"contour\"}], \"contourcarpet\": [{\"colorbar\": {\"outlinewidth\": 0, \"ticks\": \"\"}, \"type\": \"contourcarpet\"}], \"heatmap\": [{\"colorbar\": {\"outlinewidth\": 0, \"ticks\": \"\"}, \"colorscale\": [[0.0, \"#0d0887\"], [0.1111111111111111, \"#46039f\"], [0.2222222222222222, \"#7201a8\"], [0.3333333333333333, \"#9c179e\"], [0.4444444444444444, \"#bd3786\"], [0.5555555555555556, \"#d8576b\"], [0.6666666666666666, \"#ed7953\"], [0.7777777777777778, \"#fb9f3a\"], [0.8888888888888888, \"#fdca26\"], [1.0, \"#f0f921\"]], \"type\": \"heatmap\"}], \"heatmapgl\": [{\"colorbar\": {\"outlinewidth\": 0, \"ticks\": \"\"}, \"colorscale\": [[0.0, \"#0d0887\"], [0.1111111111111111, \"#46039f\"], [0.2222222222222222, \"#7201a8\"], [0.3333333333333333, \"#9c179e\"], [0.4444444444444444, \"#bd3786\"], [0.5555555555555556, \"#d8576b\"], [0.6666666666666666, \"#ed7953\"], [0.7777777777777778, \"#fb9f3a\"], [0.8888888888888888, \"#fdca26\"], [1.0, \"#f0f921\"]], \"type\": \"heatmapgl\"}], \"histogram\": [{\"marker\": {\"colorbar\": {\"outlinewidth\": 0, \"ticks\": \"\"}}, \"type\": \"histogram\"}], \"histogram2d\": [{\"colorbar\": {\"outlinewidth\": 0, \"ticks\": \"\"}, \"colorscale\": [[0.0, \"#0d0887\"], [0.1111111111111111, \"#46039f\"], [0.2222222222222222, \"#7201a8\"], [0.3333333333333333, \"#9c179e\"], [0.4444444444444444, \"#bd3786\"], [0.5555555555555556, \"#d8576b\"], [0.6666666666666666, \"#ed7953\"], [0.7777777777777778, \"#fb9f3a\"], [0.8888888888888888, \"#fdca26\"], [1.0, \"#f0f921\"]], \"type\": \"histogram2d\"}], \"histogram2dcontour\": [{\"colorbar\": {\"outlinewidth\": 0, \"ticks\": \"\"}, \"colorscale\": [[0.0, \"#0d0887\"], [0.1111111111111111, \"#46039f\"], [0.2222222222222222, \"#7201a8\"], [0.3333333333333333, \"#9c179e\"], [0.4444444444444444, \"#bd3786\"], [0.5555555555555556, \"#d8576b\"], [0.6666666666666666, \"#ed7953\"], [0.7777777777777778, \"#fb9f3a\"], [0.8888888888888888, \"#fdca26\"], [1.0, \"#f0f921\"]], \"type\": \"histogram2dcontour\"}], \"mesh3d\": [{\"colorbar\": {\"outlinewidth\": 0, \"ticks\": \"\"}, \"type\": \"mesh3d\"}], \"parcoords\": [{\"line\": {\"colorbar\": {\"outlinewidth\": 0, \"ticks\": \"\"}}, \"type\": \"parcoords\"}], \"pie\": [{\"automargin\": true, \"type\": \"pie\"}], \"scatter\": [{\"marker\": {\"colorbar\": {\"outlinewidth\": 0, \"ticks\": \"\"}}, \"type\": \"scatter\"}], \"scatter3d\": [{\"line\": {\"colorbar\": {\"outlinewidth\": 0, \"ticks\": \"\"}}, \"marker\": {\"colorbar\": {\"outlinewidth\": 0, \"ticks\": \"\"}}, \"type\": \"scatter3d\"}], \"scattercarpet\": [{\"marker\": {\"colorbar\": {\"outlinewidth\": 0, \"ticks\": \"\"}}, \"type\": \"scattercarpet\"}], \"scattergeo\": [{\"marker\": {\"colorbar\": {\"outlinewidth\": 0, \"ticks\": \"\"}}, \"type\": \"scattergeo\"}], \"scattergl\": [{\"marker\": {\"colorbar\": {\"outlinewidth\": 0, \"ticks\": \"\"}}, \"type\": \"scattergl\"}], \"scattermapbox\": [{\"marker\": {\"colorbar\": {\"outlinewidth\": 0, \"ticks\": \"\"}}, \"type\": \"scattermapbox\"}], \"scatterpolar\": [{\"marker\": {\"colorbar\": {\"outlinewidth\": 0, \"ticks\": \"\"}}, \"type\": \"scatterpolar\"}], \"scatterpolargl\": [{\"marker\": {\"colorbar\": {\"outlinewidth\": 0, \"ticks\": \"\"}}, \"type\": \"scatterpolargl\"}], \"scatterternary\": [{\"marker\": {\"colorbar\": {\"outlinewidth\": 0, \"ticks\": \"\"}}, \"type\": \"scatterternary\"}], \"surface\": [{\"colorbar\": {\"outlinewidth\": 0, \"ticks\": \"\"}, \"colorscale\": [[0.0, \"#0d0887\"], [0.1111111111111111, \"#46039f\"], [0.2222222222222222, \"#7201a8\"], [0.3333333333333333, \"#9c179e\"], [0.4444444444444444, \"#bd3786\"], [0.5555555555555556, \"#d8576b\"], [0.6666666666666666, \"#ed7953\"], [0.7777777777777778, \"#fb9f3a\"], [0.8888888888888888, \"#fdca26\"], [1.0, \"#f0f921\"]], \"type\": \"surface\"}], \"table\": [{\"cells\": {\"fill\": {\"color\": \"#EBF0F8\"}, \"line\": {\"color\": \"white\"}}, \"header\": {\"fill\": {\"color\": \"#C8D4E3\"}, \"line\": {\"color\": \"white\"}}, \"type\": \"table\"}]}, \"layout\": {\"annotationdefaults\": {\"arrowcolor\": \"#2a3f5f\", \"arrowhead\": 0, \"arrowwidth\": 1}, \"coloraxis\": {\"colorbar\": {\"outlinewidth\": 0, \"ticks\": \"\"}}, \"colorscale\": {\"diverging\": [[0, \"#8e0152\"], [0.1, \"#c51b7d\"], [0.2, \"#de77ae\"], [0.3, \"#f1b6da\"], [0.4, \"#fde0ef\"], [0.5, \"#f7f7f7\"], [0.6, \"#e6f5d0\"], [0.7, \"#b8e186\"], [0.8, \"#7fbc41\"], [0.9, \"#4d9221\"], [1, \"#276419\"]], \"sequential\": [[0.0, \"#0d0887\"], [0.1111111111111111, \"#46039f\"], [0.2222222222222222, \"#7201a8\"], [0.3333333333333333, \"#9c179e\"], [0.4444444444444444, \"#bd3786\"], [0.5555555555555556, \"#d8576b\"], [0.6666666666666666, \"#ed7953\"], [0.7777777777777778, \"#fb9f3a\"], [0.8888888888888888, \"#fdca26\"], [1.0, \"#f0f921\"]], \"sequentialminus\": [[0.0, \"#0d0887\"], [0.1111111111111111, \"#46039f\"], [0.2222222222222222, \"#7201a8\"], [0.3333333333333333, \"#9c179e\"], [0.4444444444444444, \"#bd3786\"], [0.5555555555555556, \"#d8576b\"], [0.6666666666666666, \"#ed7953\"], [0.7777777777777778, \"#fb9f3a\"], [0.8888888888888888, \"#fdca26\"], [1.0, \"#f0f921\"]]}, \"colorway\": [\"#636efa\", \"#EF553B\", \"#00cc96\", \"#ab63fa\", \"#FFA15A\", \"#19d3f3\", \"#FF6692\", \"#B6E880\", \"#FF97FF\", \"#FECB52\"], \"font\": {\"color\": \"#2a3f5f\"}, \"geo\": {\"bgcolor\": \"white\", \"lakecolor\": \"white\", \"landcolor\": \"#E5ECF6\", \"showlakes\": true, \"showland\": true, \"subunitcolor\": \"white\"}, \"hoverlabel\": {\"align\": \"left\"}, \"hovermode\": \"closest\", \"mapbox\": {\"style\": \"light\"}, \"paper_bgcolor\": \"white\", \"plot_bgcolor\": \"#E5ECF6\", \"polar\": {\"angularaxis\": {\"gridcolor\": \"white\", \"linecolor\": \"white\", \"ticks\": \"\"}, \"bgcolor\": \"#E5ECF6\", \"radialaxis\": {\"gridcolor\": \"white\", \"linecolor\": \"white\", \"ticks\": \"\"}}, \"scene\": {\"xaxis\": {\"backgroundcolor\": \"#E5ECF6\", \"gridcolor\": \"white\", \"gridwidth\": 2, \"linecolor\": \"white\", \"showbackground\": true, \"ticks\": \"\", \"zerolinecolor\": \"white\"}, \"yaxis\": {\"backgroundcolor\": \"#E5ECF6\", \"gridcolor\": \"white\", \"gridwidth\": 2, \"linecolor\": \"white\", \"showbackground\": true, \"ticks\": \"\", \"zerolinecolor\": \"white\"}, \"zaxis\": {\"backgroundcolor\": \"#E5ECF6\", \"gridcolor\": \"white\", \"gridwidth\": 2, \"linecolor\": \"white\", \"showbackground\": true, \"ticks\": \"\", \"zerolinecolor\": \"white\"}}, \"shapedefaults\": {\"line\": {\"color\": \"#2a3f5f\"}}, \"ternary\": {\"aaxis\": {\"gridcolor\": \"white\", \"linecolor\": \"white\", \"ticks\": \"\"}, \"baxis\": {\"gridcolor\": \"white\", \"linecolor\": \"white\", \"ticks\": \"\"}, \"bgcolor\": \"#E5ECF6\", \"caxis\": {\"gridcolor\": \"white\", \"linecolor\": \"white\", \"ticks\": \"\"}}, \"title\": {\"x\": 0.05}, \"xaxis\": {\"automargin\": true, \"gridcolor\": \"white\", \"linecolor\": \"white\", \"ticks\": \"\", \"title\": {\"standoff\": 15}, \"zerolinecolor\": \"white\", \"zerolinewidth\": 2}, \"yaxis\": {\"automargin\": true, \"gridcolor\": \"white\", \"linecolor\": \"white\", \"ticks\": \"\", \"title\": {\"standoff\": 15}, \"zerolinecolor\": \"white\", \"zerolinewidth\": 2}}}, \"title\": {\"text\": \"Oxide Query IPF vs. Density\"}, \"width\": 1200, \"xaxis\": {\"gridwidth\": 2, \"title\": {\"text\": \"$Density \\\\: [g/cm^{3}]$\"}, \"zeroline\": false}, \"yaxis\": {\"gridwidth\": 2, \"title\": {\"text\": \"$Ionic \\\\: Packing \\\\: Fraction \\\\: [IPF]$\"}, \"zeroline\": false}},\n",
       "                        {\"responsive\": true}\n",
       "                    ).then(function(){\n",
       "                            \n",
       "var gd = document.getElementById('8664c993-8131-4007-9af9-900b17391b2a');\n",
       "var x = new MutationObserver(function (mutations, observer) {{\n",
       "        var display = window.getComputedStyle(gd).display;\n",
       "        if (!display || display === 'none') {{\n",
       "            console.log([gd, 'removed!']);\n",
       "            Plotly.purge(gd);\n",
       "            observer.disconnect();\n",
       "        }}\n",
       "}});\n",
       "\n",
       "// Listen for the removal of the full notebook cells\n",
       "var notebookContainer = gd.closest('#notebook-container');\n",
       "if (notebookContainer) {{\n",
       "    x.observe(notebookContainer, {childList: true});\n",
       "}}\n",
       "\n",
       "// Listen for the clearing of the current output cell\n",
       "var outputEl = gd.closest('.output');\n",
       "if (outputEl) {{\n",
       "    x.observe(outputEl, {childList: true});\n",
       "}}\n",
       "\n",
       "                        })\n",
       "                };\n",
       "                });\n",
       "            </script>\n",
       "        </div>"
      ]
     },
     "metadata": {},
     "output_type": "display_data"
    }
   ],
   "source": [
    "import plotly\n",
    "import plotly.graph_objs as go\n",
    "from plotly.offline import iplot\n",
    "\n",
    "plotly.offline.init_notebook_mode(connected=True)\n",
    "\n",
    "#Layout design. Can change title, font, x/y-axis etc. Commented out pieces are height and width. \n",
    "#For plot in browser I prefer long horizontal plots. For presentations square images may be preferred. \n",
    "#Image can be directly saved by hovering over image and clicking camera icon. \n",
    "layout_IPF = go.Layout(title= \"Oxide Query IPF vs. Density\", hovermode= 'closest',\n",
    "                   font = dict(family='Times New Roman',size=18),\n",
    "                   xaxis= dict(title= '$Density \\: [g/cm^{3}]$',zeroline= False, gridwidth= 2),\n",
    "                   yaxis= dict(title= '$Ionic \\: Packing \\: Fraction \\: [IPF]$',zeroline= False, gridwidth= 2),\n",
    "                   height = 600,\n",
    "                   width = 1200,\n",
    "     showlegend= True                \n",
    ")\n",
    "\n",
    "#Scatter plot of collected data. Use df_oxide_all dataframe. df_oxide_all.Density will pull density column.\n",
    "trace_all = go.Scatter(x = df_oxide.Density, y = df_oxide.IPF, mode = 'markers',\n",
    "                    marker=dict(size=12, color='black'), text = df_oxide.Formula, name = 'All Queries')\n",
    "\n",
    "trace_Al2O3 = go.Scatter(x = df_oxide[(df_oxide.Formula == 'Al2O3') & (df_oxide.E_above_Hull == 0)].loc[:,'Density'],\n",
    "                         y = df_oxide[(df_oxide.Formula == 'Al2O3') & (df_oxide.E_above_Hull == 0)].loc[:,'IPF'],\n",
    "                         mode = 'markers', marker=dict(size=18, color='green'), text = 'Al2O3', name = 'Al2O3')\n",
    "trace_Cr2O3 = go.Scatter(x = df_oxide[(df_oxide.Formula == 'Cr2O3') & (df_oxide.E_above_Hull == 0)].loc[:,'Density'],\n",
    "                         y = df_oxide[(df_oxide.Formula == 'Cr2O3') & (df_oxide.E_above_Hull == 0)].loc[:,'IPF'],\n",
    "                         mode = 'markers', marker=dict(size=18, color='blue'), text = 'Cr2O3', name = 'Cr2O3')\n",
    "trace_Y2O3 = go.Scatter(x = df_oxide[(df_oxide.Formula == 'Y2O3') & (df_oxide.E_above_Hull == 0)].loc[:,'Density'],\n",
    "                        y = df_oxide[(df_oxide.Formula == 'Y2O3') & (df_oxide.E_above_Hull == 0)].loc[:,'IPF'],\n",
    "                        mode = 'markers', marker=dict(size=18, color='orange'), text = 'Y2O3', name = 'Y2O3')\n",
    "trace_SiO2 = go.Scatter(x = df_oxide[(df_oxide.Formula == 'SiO2') & (df_oxide.E_above_Hull == 0)].loc[:,'Density'],\n",
    "                        y = df_oxide[(df_oxide.Formula == 'SiO2') & (df_oxide.E_above_Hull == 0)].loc[:,'IPF'],\n",
    "                        mode = 'markers', marker=dict(size=18, color='magenta'), text = 'SiO2', name = 'SiO2')\n",
    "\n",
    "data_IPF = [trace_all,trace_Al2O3,trace_Cr2O3,trace_Y2O3,trace_SiO2]#,trace0,trace2]\n",
    "fig_IPF = go.Figure(data_IPF, layout=layout_IPF)\n",
    "iplot(fig_IPF)"
   ]
  },
  {
   "cell_type": "markdown",
   "metadata": {},
   "source": [
    "## 3. Filtering data for elasticity"
   ]
  },
  {
   "cell_type": "code",
   "execution_count": 14,
   "metadata": {},
   "outputs": [
    {
     "ename": "KeyError",
     "evalue": "2",
     "output_type": "error",
     "traceback": [
      "\u001b[1;31m---------------------------------------------------------------------------\u001b[0m",
      "\u001b[1;31mKeyError\u001b[0m                                  Traceback (most recent call last)",
      "\u001b[1;32m~\\anaconda3\\envs\\PythonData\\lib\\site-packages\\pandas\\core\\indexes\\base.py\u001b[0m in \u001b[0;36mget_loc\u001b[1;34m(self, key, method, tolerance)\u001b[0m\n\u001b[0;32m   2645\u001b[0m             \u001b[1;32mtry\u001b[0m\u001b[1;33m:\u001b[0m\u001b[1;33m\u001b[0m\u001b[1;33m\u001b[0m\u001b[0m\n\u001b[1;32m-> 2646\u001b[1;33m                 \u001b[1;32mreturn\u001b[0m \u001b[0mself\u001b[0m\u001b[1;33m.\u001b[0m\u001b[0m_engine\u001b[0m\u001b[1;33m.\u001b[0m\u001b[0mget_loc\u001b[0m\u001b[1;33m(\u001b[0m\u001b[0mkey\u001b[0m\u001b[1;33m)\u001b[0m\u001b[1;33m\u001b[0m\u001b[1;33m\u001b[0m\u001b[0m\n\u001b[0m\u001b[0;32m   2647\u001b[0m             \u001b[1;32mexcept\u001b[0m \u001b[0mKeyError\u001b[0m\u001b[1;33m:\u001b[0m\u001b[1;33m\u001b[0m\u001b[1;33m\u001b[0m\u001b[0m\n",
      "\u001b[1;32mpandas\\_libs\\index.pyx\u001b[0m in \u001b[0;36mpandas._libs.index.IndexEngine.get_loc\u001b[1;34m()\u001b[0m\n",
      "\u001b[1;32mpandas\\_libs\\index.pyx\u001b[0m in \u001b[0;36mpandas._libs.index.IndexEngine.get_loc\u001b[1;34m()\u001b[0m\n",
      "\u001b[1;32mpandas\\_libs\\hashtable_class_helper.pxi\u001b[0m in \u001b[0;36mpandas._libs.hashtable.Int64HashTable.get_item\u001b[1;34m()\u001b[0m\n",
      "\u001b[1;32mpandas\\_libs\\hashtable_class_helper.pxi\u001b[0m in \u001b[0;36mpandas._libs.hashtable.Int64HashTable.get_item\u001b[1;34m()\u001b[0m\n",
      "\u001b[1;31mKeyError\u001b[0m: 2",
      "\nDuring handling of the above exception, another exception occurred:\n",
      "\u001b[1;31mKeyError\u001b[0m                                  Traceback (most recent call last)",
      "\u001b[1;32m<ipython-input-14-fac2d00e3c48>\u001b[0m in \u001b[0;36m<module>\u001b[1;34m\u001b[0m\n\u001b[0;32m      2\u001b[0m \u001b[0mrow_delete\u001b[0m \u001b[1;33m=\u001b[0m \u001b[1;33m[\u001b[0m\u001b[1;33m]\u001b[0m\u001b[1;33m\u001b[0m\u001b[1;33m\u001b[0m\u001b[0m\n\u001b[0;32m      3\u001b[0m \u001b[1;32mfor\u001b[0m \u001b[0mk\u001b[0m \u001b[1;32min\u001b[0m \u001b[0mrange\u001b[0m\u001b[1;33m(\u001b[0m\u001b[1;36m0\u001b[0m\u001b[1;33m,\u001b[0m\u001b[0mlen\u001b[0m\u001b[1;33m(\u001b[0m\u001b[0mdf_oxide\u001b[0m\u001b[1;33m)\u001b[0m\u001b[1;33m)\u001b[0m\u001b[1;33m:\u001b[0m\u001b[1;33m\u001b[0m\u001b[1;33m\u001b[0m\u001b[0m\n\u001b[1;32m----> 4\u001b[1;33m     \u001b[0mvoid_test\u001b[0m\u001b[1;33m.\u001b[0m\u001b[0mappend\u001b[0m\u001b[1;33m(\u001b[0m\u001b[0mstr\u001b[0m\u001b[1;33m(\u001b[0m\u001b[0mdf_oxide\u001b[0m\u001b[1;33m.\u001b[0m\u001b[0mloc\u001b[0m\u001b[1;33m[\u001b[0m\u001b[0mk\u001b[0m\u001b[1;33m,\u001b[0m\u001b[1;34m'Elastic_Tensor'\u001b[0m\u001b[1;33m]\u001b[0m\u001b[1;33m)\u001b[0m\u001b[1;33m)\u001b[0m\u001b[1;33m\u001b[0m\u001b[1;33m\u001b[0m\u001b[0m\n\u001b[0m\u001b[0;32m      5\u001b[0m     \u001b[1;32mif\u001b[0m \u001b[0mvoid_test\u001b[0m\u001b[1;33m.\u001b[0m\u001b[0mcount\u001b[0m\u001b[1;33m(\u001b[0m\u001b[1;34m'None'\u001b[0m\u001b[1;33m)\u001b[0m \u001b[1;33m==\u001b[0m \u001b[1;36m1\u001b[0m\u001b[1;33m:\u001b[0m\u001b[1;33m\u001b[0m\u001b[1;33m\u001b[0m\u001b[0m\n\u001b[0;32m      6\u001b[0m         \u001b[0mvoid_test\u001b[0m\u001b[1;33m.\u001b[0m\u001b[0mclear\u001b[0m\u001b[1;33m(\u001b[0m\u001b[1;33m)\u001b[0m\u001b[1;33m\u001b[0m\u001b[1;33m\u001b[0m\u001b[0m\n",
      "\u001b[1;32m~\\anaconda3\\envs\\PythonData\\lib\\site-packages\\pandas\\core\\indexing.py\u001b[0m in \u001b[0;36m__getitem__\u001b[1;34m(self, key)\u001b[0m\n\u001b[0;32m   1760\u001b[0m                 \u001b[1;32mexcept\u001b[0m \u001b[1;33m(\u001b[0m\u001b[0mKeyError\u001b[0m\u001b[1;33m,\u001b[0m \u001b[0mIndexError\u001b[0m\u001b[1;33m,\u001b[0m \u001b[0mAttributeError\u001b[0m\u001b[1;33m)\u001b[0m\u001b[1;33m:\u001b[0m\u001b[1;33m\u001b[0m\u001b[1;33m\u001b[0m\u001b[0m\n\u001b[0;32m   1761\u001b[0m                     \u001b[1;32mpass\u001b[0m\u001b[1;33m\u001b[0m\u001b[1;33m\u001b[0m\u001b[0m\n\u001b[1;32m-> 1762\u001b[1;33m             \u001b[1;32mreturn\u001b[0m \u001b[0mself\u001b[0m\u001b[1;33m.\u001b[0m\u001b[0m_getitem_tuple\u001b[0m\u001b[1;33m(\u001b[0m\u001b[0mkey\u001b[0m\u001b[1;33m)\u001b[0m\u001b[1;33m\u001b[0m\u001b[1;33m\u001b[0m\u001b[0m\n\u001b[0m\u001b[0;32m   1763\u001b[0m         \u001b[1;32melse\u001b[0m\u001b[1;33m:\u001b[0m\u001b[1;33m\u001b[0m\u001b[1;33m\u001b[0m\u001b[0m\n\u001b[0;32m   1764\u001b[0m             \u001b[1;31m# we by definition only have the 0th axis\u001b[0m\u001b[1;33m\u001b[0m\u001b[1;33m\u001b[0m\u001b[1;33m\u001b[0m\u001b[0m\n",
      "\u001b[1;32m~\\anaconda3\\envs\\PythonData\\lib\\site-packages\\pandas\\core\\indexing.py\u001b[0m in \u001b[0;36m_getitem_tuple\u001b[1;34m(self, tup)\u001b[0m\n\u001b[0;32m   1270\u001b[0m     \u001b[1;32mdef\u001b[0m \u001b[0m_getitem_tuple\u001b[0m\u001b[1;33m(\u001b[0m\u001b[0mself\u001b[0m\u001b[1;33m,\u001b[0m \u001b[0mtup\u001b[0m\u001b[1;33m:\u001b[0m \u001b[0mTuple\u001b[0m\u001b[1;33m)\u001b[0m\u001b[1;33m:\u001b[0m\u001b[1;33m\u001b[0m\u001b[1;33m\u001b[0m\u001b[0m\n\u001b[0;32m   1271\u001b[0m         \u001b[1;32mtry\u001b[0m\u001b[1;33m:\u001b[0m\u001b[1;33m\u001b[0m\u001b[1;33m\u001b[0m\u001b[0m\n\u001b[1;32m-> 1272\u001b[1;33m             \u001b[1;32mreturn\u001b[0m \u001b[0mself\u001b[0m\u001b[1;33m.\u001b[0m\u001b[0m_getitem_lowerdim\u001b[0m\u001b[1;33m(\u001b[0m\u001b[0mtup\u001b[0m\u001b[1;33m)\u001b[0m\u001b[1;33m\u001b[0m\u001b[1;33m\u001b[0m\u001b[0m\n\u001b[0m\u001b[0;32m   1273\u001b[0m         \u001b[1;32mexcept\u001b[0m \u001b[0mIndexingError\u001b[0m\u001b[1;33m:\u001b[0m\u001b[1;33m\u001b[0m\u001b[1;33m\u001b[0m\u001b[0m\n\u001b[0;32m   1274\u001b[0m             \u001b[1;32mpass\u001b[0m\u001b[1;33m\u001b[0m\u001b[1;33m\u001b[0m\u001b[0m\n",
      "\u001b[1;32m~\\anaconda3\\envs\\PythonData\\lib\\site-packages\\pandas\\core\\indexing.py\u001b[0m in \u001b[0;36m_getitem_lowerdim\u001b[1;34m(self, tup)\u001b[0m\n\u001b[0;32m   1387\u001b[0m         \u001b[1;32mfor\u001b[0m \u001b[0mi\u001b[0m\u001b[1;33m,\u001b[0m \u001b[0mkey\u001b[0m \u001b[1;32min\u001b[0m \u001b[0menumerate\u001b[0m\u001b[1;33m(\u001b[0m\u001b[0mtup\u001b[0m\u001b[1;33m)\u001b[0m\u001b[1;33m:\u001b[0m\u001b[1;33m\u001b[0m\u001b[1;33m\u001b[0m\u001b[0m\n\u001b[0;32m   1388\u001b[0m             \u001b[1;32mif\u001b[0m \u001b[0mis_label_like\u001b[0m\u001b[1;33m(\u001b[0m\u001b[0mkey\u001b[0m\u001b[1;33m)\u001b[0m \u001b[1;32mor\u001b[0m \u001b[0misinstance\u001b[0m\u001b[1;33m(\u001b[0m\u001b[0mkey\u001b[0m\u001b[1;33m,\u001b[0m \u001b[0mtuple\u001b[0m\u001b[1;33m)\u001b[0m\u001b[1;33m:\u001b[0m\u001b[1;33m\u001b[0m\u001b[1;33m\u001b[0m\u001b[0m\n\u001b[1;32m-> 1389\u001b[1;33m                 \u001b[0msection\u001b[0m \u001b[1;33m=\u001b[0m \u001b[0mself\u001b[0m\u001b[1;33m.\u001b[0m\u001b[0m_getitem_axis\u001b[0m\u001b[1;33m(\u001b[0m\u001b[0mkey\u001b[0m\u001b[1;33m,\u001b[0m \u001b[0maxis\u001b[0m\u001b[1;33m=\u001b[0m\u001b[0mi\u001b[0m\u001b[1;33m)\u001b[0m\u001b[1;33m\u001b[0m\u001b[1;33m\u001b[0m\u001b[0m\n\u001b[0m\u001b[0;32m   1390\u001b[0m \u001b[1;33m\u001b[0m\u001b[0m\n\u001b[0;32m   1391\u001b[0m                 \u001b[1;31m# we have yielded a scalar ?\u001b[0m\u001b[1;33m\u001b[0m\u001b[1;33m\u001b[0m\u001b[1;33m\u001b[0m\u001b[0m\n",
      "\u001b[1;32m~\\anaconda3\\envs\\PythonData\\lib\\site-packages\\pandas\\core\\indexing.py\u001b[0m in \u001b[0;36m_getitem_axis\u001b[1;34m(self, key, axis)\u001b[0m\n\u001b[0;32m   1963\u001b[0m         \u001b[1;31m# fall thru to straight lookup\u001b[0m\u001b[1;33m\u001b[0m\u001b[1;33m\u001b[0m\u001b[1;33m\u001b[0m\u001b[0m\n\u001b[0;32m   1964\u001b[0m         \u001b[0mself\u001b[0m\u001b[1;33m.\u001b[0m\u001b[0m_validate_key\u001b[0m\u001b[1;33m(\u001b[0m\u001b[0mkey\u001b[0m\u001b[1;33m,\u001b[0m \u001b[0maxis\u001b[0m\u001b[1;33m)\u001b[0m\u001b[1;33m\u001b[0m\u001b[1;33m\u001b[0m\u001b[0m\n\u001b[1;32m-> 1965\u001b[1;33m         \u001b[1;32mreturn\u001b[0m \u001b[0mself\u001b[0m\u001b[1;33m.\u001b[0m\u001b[0m_get_label\u001b[0m\u001b[1;33m(\u001b[0m\u001b[0mkey\u001b[0m\u001b[1;33m,\u001b[0m \u001b[0maxis\u001b[0m\u001b[1;33m=\u001b[0m\u001b[0maxis\u001b[0m\u001b[1;33m)\u001b[0m\u001b[1;33m\u001b[0m\u001b[1;33m\u001b[0m\u001b[0m\n\u001b[0m\u001b[0;32m   1966\u001b[0m \u001b[1;33m\u001b[0m\u001b[0m\n\u001b[0;32m   1967\u001b[0m \u001b[1;33m\u001b[0m\u001b[0m\n",
      "\u001b[1;32m~\\anaconda3\\envs\\PythonData\\lib\\site-packages\\pandas\\core\\indexing.py\u001b[0m in \u001b[0;36m_get_label\u001b[1;34m(self, label, axis)\u001b[0m\n\u001b[0;32m    623\u001b[0m             \u001b[1;32mraise\u001b[0m \u001b[0mIndexingError\u001b[0m\u001b[1;33m(\u001b[0m\u001b[1;34m\"no slices here, handle elsewhere\"\u001b[0m\u001b[1;33m)\u001b[0m\u001b[1;33m\u001b[0m\u001b[1;33m\u001b[0m\u001b[0m\n\u001b[0;32m    624\u001b[0m \u001b[1;33m\u001b[0m\u001b[0m\n\u001b[1;32m--> 625\u001b[1;33m         \u001b[1;32mreturn\u001b[0m \u001b[0mself\u001b[0m\u001b[1;33m.\u001b[0m\u001b[0mobj\u001b[0m\u001b[1;33m.\u001b[0m\u001b[0m_xs\u001b[0m\u001b[1;33m(\u001b[0m\u001b[0mlabel\u001b[0m\u001b[1;33m,\u001b[0m \u001b[0maxis\u001b[0m\u001b[1;33m=\u001b[0m\u001b[0maxis\u001b[0m\u001b[1;33m)\u001b[0m\u001b[1;33m\u001b[0m\u001b[1;33m\u001b[0m\u001b[0m\n\u001b[0m\u001b[0;32m    626\u001b[0m \u001b[1;33m\u001b[0m\u001b[0m\n\u001b[0;32m    627\u001b[0m     \u001b[1;32mdef\u001b[0m \u001b[0m_get_loc\u001b[0m\u001b[1;33m(\u001b[0m\u001b[0mself\u001b[0m\u001b[1;33m,\u001b[0m \u001b[0mkey\u001b[0m\u001b[1;33m:\u001b[0m \u001b[0mint\u001b[0m\u001b[1;33m,\u001b[0m \u001b[0maxis\u001b[0m\u001b[1;33m:\u001b[0m \u001b[0mint\u001b[0m\u001b[1;33m)\u001b[0m\u001b[1;33m:\u001b[0m\u001b[1;33m\u001b[0m\u001b[1;33m\u001b[0m\u001b[0m\n",
      "\u001b[1;32m~\\anaconda3\\envs\\PythonData\\lib\\site-packages\\pandas\\core\\generic.py\u001b[0m in \u001b[0;36mxs\u001b[1;34m(self, key, axis, level, drop_level)\u001b[0m\n\u001b[0;32m   3535\u001b[0m             \u001b[0mloc\u001b[0m\u001b[1;33m,\u001b[0m \u001b[0mnew_index\u001b[0m \u001b[1;33m=\u001b[0m \u001b[0mself\u001b[0m\u001b[1;33m.\u001b[0m\u001b[0mindex\u001b[0m\u001b[1;33m.\u001b[0m\u001b[0mget_loc_level\u001b[0m\u001b[1;33m(\u001b[0m\u001b[0mkey\u001b[0m\u001b[1;33m,\u001b[0m \u001b[0mdrop_level\u001b[0m\u001b[1;33m=\u001b[0m\u001b[0mdrop_level\u001b[0m\u001b[1;33m)\u001b[0m\u001b[1;33m\u001b[0m\u001b[1;33m\u001b[0m\u001b[0m\n\u001b[0;32m   3536\u001b[0m         \u001b[1;32melse\u001b[0m\u001b[1;33m:\u001b[0m\u001b[1;33m\u001b[0m\u001b[1;33m\u001b[0m\u001b[0m\n\u001b[1;32m-> 3537\u001b[1;33m             \u001b[0mloc\u001b[0m \u001b[1;33m=\u001b[0m \u001b[0mself\u001b[0m\u001b[1;33m.\u001b[0m\u001b[0mindex\u001b[0m\u001b[1;33m.\u001b[0m\u001b[0mget_loc\u001b[0m\u001b[1;33m(\u001b[0m\u001b[0mkey\u001b[0m\u001b[1;33m)\u001b[0m\u001b[1;33m\u001b[0m\u001b[1;33m\u001b[0m\u001b[0m\n\u001b[0m\u001b[0;32m   3538\u001b[0m \u001b[1;33m\u001b[0m\u001b[0m\n\u001b[0;32m   3539\u001b[0m             \u001b[1;32mif\u001b[0m \u001b[0misinstance\u001b[0m\u001b[1;33m(\u001b[0m\u001b[0mloc\u001b[0m\u001b[1;33m,\u001b[0m \u001b[0mnp\u001b[0m\u001b[1;33m.\u001b[0m\u001b[0mndarray\u001b[0m\u001b[1;33m)\u001b[0m\u001b[1;33m:\u001b[0m\u001b[1;33m\u001b[0m\u001b[1;33m\u001b[0m\u001b[0m\n",
      "\u001b[1;32m~\\anaconda3\\envs\\PythonData\\lib\\site-packages\\pandas\\core\\indexes\\base.py\u001b[0m in \u001b[0;36mget_loc\u001b[1;34m(self, key, method, tolerance)\u001b[0m\n\u001b[0;32m   2646\u001b[0m                 \u001b[1;32mreturn\u001b[0m \u001b[0mself\u001b[0m\u001b[1;33m.\u001b[0m\u001b[0m_engine\u001b[0m\u001b[1;33m.\u001b[0m\u001b[0mget_loc\u001b[0m\u001b[1;33m(\u001b[0m\u001b[0mkey\u001b[0m\u001b[1;33m)\u001b[0m\u001b[1;33m\u001b[0m\u001b[1;33m\u001b[0m\u001b[0m\n\u001b[0;32m   2647\u001b[0m             \u001b[1;32mexcept\u001b[0m \u001b[0mKeyError\u001b[0m\u001b[1;33m:\u001b[0m\u001b[1;33m\u001b[0m\u001b[1;33m\u001b[0m\u001b[0m\n\u001b[1;32m-> 2648\u001b[1;33m                 \u001b[1;32mreturn\u001b[0m \u001b[0mself\u001b[0m\u001b[1;33m.\u001b[0m\u001b[0m_engine\u001b[0m\u001b[1;33m.\u001b[0m\u001b[0mget_loc\u001b[0m\u001b[1;33m(\u001b[0m\u001b[0mself\u001b[0m\u001b[1;33m.\u001b[0m\u001b[0m_maybe_cast_indexer\u001b[0m\u001b[1;33m(\u001b[0m\u001b[0mkey\u001b[0m\u001b[1;33m)\u001b[0m\u001b[1;33m)\u001b[0m\u001b[1;33m\u001b[0m\u001b[1;33m\u001b[0m\u001b[0m\n\u001b[0m\u001b[0;32m   2649\u001b[0m         \u001b[0mindexer\u001b[0m \u001b[1;33m=\u001b[0m \u001b[0mself\u001b[0m\u001b[1;33m.\u001b[0m\u001b[0mget_indexer\u001b[0m\u001b[1;33m(\u001b[0m\u001b[1;33m[\u001b[0m\u001b[0mkey\u001b[0m\u001b[1;33m]\u001b[0m\u001b[1;33m,\u001b[0m \u001b[0mmethod\u001b[0m\u001b[1;33m=\u001b[0m\u001b[0mmethod\u001b[0m\u001b[1;33m,\u001b[0m \u001b[0mtolerance\u001b[0m\u001b[1;33m=\u001b[0m\u001b[0mtolerance\u001b[0m\u001b[1;33m)\u001b[0m\u001b[1;33m\u001b[0m\u001b[1;33m\u001b[0m\u001b[0m\n\u001b[0;32m   2650\u001b[0m         \u001b[1;32mif\u001b[0m \u001b[0mindexer\u001b[0m\u001b[1;33m.\u001b[0m\u001b[0mndim\u001b[0m \u001b[1;33m>\u001b[0m \u001b[1;36m1\u001b[0m \u001b[1;32mor\u001b[0m \u001b[0mindexer\u001b[0m\u001b[1;33m.\u001b[0m\u001b[0msize\u001b[0m \u001b[1;33m>\u001b[0m \u001b[1;36m1\u001b[0m\u001b[1;33m:\u001b[0m\u001b[1;33m\u001b[0m\u001b[1;33m\u001b[0m\u001b[0m\n",
      "\u001b[1;32mpandas\\_libs\\index.pyx\u001b[0m in \u001b[0;36mpandas._libs.index.IndexEngine.get_loc\u001b[1;34m()\u001b[0m\n",
      "\u001b[1;32mpandas\\_libs\\index.pyx\u001b[0m in \u001b[0;36mpandas._libs.index.IndexEngine.get_loc\u001b[1;34m()\u001b[0m\n",
      "\u001b[1;32mpandas\\_libs\\hashtable_class_helper.pxi\u001b[0m in \u001b[0;36mpandas._libs.hashtable.Int64HashTable.get_item\u001b[1;34m()\u001b[0m\n",
      "\u001b[1;32mpandas\\_libs\\hashtable_class_helper.pxi\u001b[0m in \u001b[0;36mpandas._libs.hashtable.Int64HashTable.get_item\u001b[1;34m()\u001b[0m\n",
      "\u001b[1;31mKeyError\u001b[0m: 2"
     ]
    }
   ],
   "source": [
    "void_test = []\n",
    "row_delete = []\n",
    "for k in range(0,len(df_oxide)):\n",
    "    void_test.append(str(df_oxide.loc[k,'Elastic_Tensor']))\n",
    "    if void_test.count('None') == 1:\n",
    "        void_test.clear()\n",
    "        row_delete.append(k)\n",
    "    if void_test.count('nan') == 1:\n",
    "        void_test.clear()\n",
    "        row_delete.append(k)\n",
    "\n",
    "index = df_oxide.index[row_delete]\n",
    "df_oxide.drop(index,axis=0,inplace=True)\n",
    "df_elasticity_filtered = df_oxide\n",
    "display(df_elasticity_filtered)"
   ]
  },
  {
   "cell_type": "markdown",
   "metadata": {},
   "source": [
    "### 3.1 Observe the reduction from all oxide species to the limited set for stable structures, and ones with mechanical property data\n"
   ]
  },
  {
   "cell_type": "code",
   "execution_count": 15,
   "metadata": {},
   "outputs": [
    {
     "name": "stdout",
     "output_type": "stream",
     "text": [
      "Number of oxide structures available on the MP database: 5846\n",
      "Number of oxide structures below 1.0 meV and with elasticity data: 338\n"
     ]
    }
   ],
   "source": [
    "print('Number of oxide structures available on the MP database: %s' % len(data))\n",
    "print('Number of oxide structures below %.1f meV and with elasticity data: %s' %(energy_cutoff_value, len(df_oxide)))"
   ]
  },
  {
   "cell_type": "markdown",
   "metadata": {},
   "source": [
    "### 3.2 Pull dataframe column with dictionary of elastic constants. Create separate columns for each value instead of inset in dictionary."
   ]
  },
  {
   "cell_type": "code",
   "execution_count": 16,
   "metadata": {},
   "outputs": [
    {
     "data": {
      "text/html": [
       "<div>\n",
       "<style scoped>\n",
       "    .dataframe tbody tr th:only-of-type {\n",
       "        vertical-align: middle;\n",
       "    }\n",
       "\n",
       "    .dataframe tbody tr th {\n",
       "        vertical-align: top;\n",
       "    }\n",
       "\n",
       "    .dataframe thead th {\n",
       "        text-align: right;\n",
       "    }\n",
       "</style>\n",
       "<table border=\"1\" class=\"dataframe\">\n",
       "  <thead>\n",
       "    <tr style=\"text-align: right;\">\n",
       "      <th></th>\n",
       "      <th>mp_id</th>\n",
       "      <th>Formula</th>\n",
       "      <th>Composition</th>\n",
       "      <th>IPF</th>\n",
       "      <th>Density</th>\n",
       "      <th>Elastic_Tensor</th>\n",
       "      <th>E_above_Hull</th>\n",
       "      <th>G_VRH</th>\n",
       "      <th>K_VRH</th>\n",
       "      <th>Elastic_Anisotropy</th>\n",
       "      <th>poisson_ratio</th>\n",
       "      <th>Y_Modulus</th>\n",
       "    </tr>\n",
       "  </thead>\n",
       "  <tbody>\n",
       "    <tr>\n",
       "      <th>0</th>\n",
       "      <td>mp-1014229</td>\n",
       "      <td>Ti2Zn</td>\n",
       "      <td>{'Ti': 2.0, 'Zn': 1.0}</td>\n",
       "      <td>0.163919</td>\n",
       "      <td>5.46244</td>\n",
       "      <td>{'G_Reuss': 29.0, 'G_VRH': 47.0, 'G_Voigt': 65...</td>\n",
       "      <td>0</td>\n",
       "      <td>47.0</td>\n",
       "      <td>96.0</td>\n",
       "      <td>6.32</td>\n",
       "      <td>0.29</td>\n",
       "      <td>121.26</td>\n",
       "    </tr>\n",
       "    <tr>\n",
       "      <th>1</th>\n",
       "      <td>mp-1014230</td>\n",
       "      <td>TiZn</td>\n",
       "      <td>{'Ti': 1.0, 'Zn': 1.0}</td>\n",
       "      <td>0.174651</td>\n",
       "      <td>6.03654</td>\n",
       "      <td>{'G_Reuss': 44.0, 'G_VRH': 56.0, 'G_Voigt': 69...</td>\n",
       "      <td>0</td>\n",
       "      <td>56.0</td>\n",
       "      <td>115.0</td>\n",
       "      <td>2.85</td>\n",
       "      <td>0.29</td>\n",
       "      <td>144.48</td>\n",
       "    </tr>\n",
       "    <tr>\n",
       "      <th>2</th>\n",
       "      <td>mp-1017985</td>\n",
       "      <td>TiAg</td>\n",
       "      <td>{'Ti': 1.0, 'Ag': 1.0}</td>\n",
       "      <td>0.226014</td>\n",
       "      <td>7.34036</td>\n",
       "      <td>{'G_Reuss': 32.0, 'G_VRH': 35.0, 'G_Voigt': 37...</td>\n",
       "      <td>0</td>\n",
       "      <td>35.0</td>\n",
       "      <td>111.0</td>\n",
       "      <td>0.80</td>\n",
       "      <td>0.36</td>\n",
       "      <td>95.20</td>\n",
       "    </tr>\n",
       "    <tr>\n",
       "      <th>3</th>\n",
       "      <td>mp-1018028</td>\n",
       "      <td>TiS</td>\n",
       "      <td>{'Ti': 1.0, 'S': 1.0}</td>\n",
       "      <td>0.18213</td>\n",
       "      <td>4.44203</td>\n",
       "      <td>{'G_Reuss': 97.0, 'G_VRH': 101.0, 'G_Voigt': 1...</td>\n",
       "      <td>0</td>\n",
       "      <td>101.0</td>\n",
       "      <td>141.0</td>\n",
       "      <td>0.44</td>\n",
       "      <td>0.21</td>\n",
       "      <td>244.42</td>\n",
       "    </tr>\n",
       "    <tr>\n",
       "      <th>4</th>\n",
       "      <td>mp-1018123</td>\n",
       "      <td>TiAu2</td>\n",
       "      <td>{'Ti': 1.0, 'Au': 2.0}</td>\n",
       "      <td>0.248079</td>\n",
       "      <td>14.1627</td>\n",
       "      <td>{'G_Reuss': -92.0, 'G_VRH': -17.0, 'G_Voigt': ...</td>\n",
       "      <td>0</td>\n",
       "      <td>-17.0</td>\n",
       "      <td>130.0</td>\n",
       "      <td>-8.12</td>\n",
       "      <td>0.57</td>\n",
       "      <td>-53.38</td>\n",
       "    </tr>\n",
       "    <tr>\n",
       "      <th>...</th>\n",
       "      <td>...</td>\n",
       "      <td>...</td>\n",
       "      <td>...</td>\n",
       "      <td>...</td>\n",
       "      <td>...</td>\n",
       "      <td>...</td>\n",
       "      <td>...</td>\n",
       "      <td>...</td>\n",
       "      <td>...</td>\n",
       "      <td>...</td>\n",
       "      <td>...</td>\n",
       "      <td>...</td>\n",
       "    </tr>\n",
       "    <tr>\n",
       "      <th>333</th>\n",
       "      <td>mp-5999</td>\n",
       "      <td>Sm2Ti2S2O5</td>\n",
       "      <td>{'Sm': 2.0, 'Ti': 2.0, 'S': 2.0, 'O': 5.0}</td>\n",
       "      <td>0.398389</td>\n",
       "      <td>5.23354</td>\n",
       "      <td>{'G_Reuss': 54.0, 'G_VRH': 58.0, 'G_Voigt': 62...</td>\n",
       "      <td>0</td>\n",
       "      <td>58.0</td>\n",
       "      <td>134.0</td>\n",
       "      <td>0.77</td>\n",
       "      <td>0.31</td>\n",
       "      <td>151.96</td>\n",
       "    </tr>\n",
       "    <tr>\n",
       "      <th>334</th>\n",
       "      <td>mp-6328</td>\n",
       "      <td>Na2Ti2Sb2O</td>\n",
       "      <td>{'Na': 2.0, 'Ti': 2.0, 'Sb': 2.0, 'O': 1.0}</td>\n",
       "      <td>0.217025</td>\n",
       "      <td>4.60188</td>\n",
       "      <td>{'G_Reuss': 27.0, 'G_VRH': 18.0, 'G_Voigt': 10...</td>\n",
       "      <td>0</td>\n",
       "      <td>18.0</td>\n",
       "      <td>52.0</td>\n",
       "      <td>-2.81</td>\n",
       "      <td>0.34</td>\n",
       "      <td>48.24</td>\n",
       "    </tr>\n",
       "    <tr>\n",
       "      <th>335</th>\n",
       "      <td>mp-998980</td>\n",
       "      <td>TiAlFeCo</td>\n",
       "      <td>{'Ti': 1.0, 'Al': 1.0, 'Fe': 1.0, 'Co': 1.0}</td>\n",
       "      <td>0.170756</td>\n",
       "      <td>6.42314</td>\n",
       "      <td>{'G_Reuss': 127.0, 'G_VRH': 127.0, 'G_Voigt': ...</td>\n",
       "      <td>0</td>\n",
       "      <td>127.0</td>\n",
       "      <td>175.0</td>\n",
       "      <td>0.01</td>\n",
       "      <td>0.21</td>\n",
       "      <td>307.34</td>\n",
       "    </tr>\n",
       "    <tr>\n",
       "      <th>336</th>\n",
       "      <td>mp-560767</td>\n",
       "      <td>KNaTiO3</td>\n",
       "      <td>{'K': 1.0, 'Na': 1.0, 'Ti': 1.0, 'O': 3.0}</td>\n",
       "      <td>0.551255</td>\n",
       "      <td>2.95236</td>\n",
       "      <td>{'G_Reuss': 18.0, 'G_VRH': 26.0, 'G_Voigt': 33...</td>\n",
       "      <td>0</td>\n",
       "      <td>26.0</td>\n",
       "      <td>56.0</td>\n",
       "      <td>4.12</td>\n",
       "      <td>0.30</td>\n",
       "      <td>67.60</td>\n",
       "    </tr>\n",
       "    <tr>\n",
       "      <th>337</th>\n",
       "      <td>mp-6178</td>\n",
       "      <td>Cs2KTiF6</td>\n",
       "      <td>{'Cs': 2.0, 'K': 1.0, 'Ti': 1.0, 'F': 6.0}</td>\n",
       "      <td>0.382792</td>\n",
       "      <td>3.91516</td>\n",
       "      <td>{'G_Reuss': -13.0, 'G_VRH': -13.0, 'G_Voigt': ...</td>\n",
       "      <td>0</td>\n",
       "      <td>-13.0</td>\n",
       "      <td>17.0</td>\n",
       "      <td>0.00</td>\n",
       "      <td>1.01</td>\n",
       "      <td>-52.26</td>\n",
       "    </tr>\n",
       "  </tbody>\n",
       "</table>\n",
       "<p>338 rows × 12 columns</p>\n",
       "</div>"
      ],
      "text/plain": [
       "          mp_id     Formula                                   Composition  \\\n",
       "0    mp-1014229       Ti2Zn                        {'Ti': 2.0, 'Zn': 1.0}   \n",
       "1    mp-1014230        TiZn                        {'Ti': 1.0, 'Zn': 1.0}   \n",
       "2    mp-1017985        TiAg                        {'Ti': 1.0, 'Ag': 1.0}   \n",
       "3    mp-1018028         TiS                         {'Ti': 1.0, 'S': 1.0}   \n",
       "4    mp-1018123       TiAu2                        {'Ti': 1.0, 'Au': 2.0}   \n",
       "..          ...         ...                                           ...   \n",
       "333     mp-5999  Sm2Ti2S2O5    {'Sm': 2.0, 'Ti': 2.0, 'S': 2.0, 'O': 5.0}   \n",
       "334     mp-6328  Na2Ti2Sb2O   {'Na': 2.0, 'Ti': 2.0, 'Sb': 2.0, 'O': 1.0}   \n",
       "335   mp-998980    TiAlFeCo  {'Ti': 1.0, 'Al': 1.0, 'Fe': 1.0, 'Co': 1.0}   \n",
       "336   mp-560767     KNaTiO3    {'K': 1.0, 'Na': 1.0, 'Ti': 1.0, 'O': 3.0}   \n",
       "337     mp-6178    Cs2KTiF6    {'Cs': 2.0, 'K': 1.0, 'Ti': 1.0, 'F': 6.0}   \n",
       "\n",
       "          IPF  Density                                     Elastic_Tensor  \\\n",
       "0    0.163919  5.46244  {'G_Reuss': 29.0, 'G_VRH': 47.0, 'G_Voigt': 65...   \n",
       "1    0.174651  6.03654  {'G_Reuss': 44.0, 'G_VRH': 56.0, 'G_Voigt': 69...   \n",
       "2    0.226014  7.34036  {'G_Reuss': 32.0, 'G_VRH': 35.0, 'G_Voigt': 37...   \n",
       "3     0.18213  4.44203  {'G_Reuss': 97.0, 'G_VRH': 101.0, 'G_Voigt': 1...   \n",
       "4    0.248079  14.1627  {'G_Reuss': -92.0, 'G_VRH': -17.0, 'G_Voigt': ...   \n",
       "..        ...      ...                                                ...   \n",
       "333  0.398389  5.23354  {'G_Reuss': 54.0, 'G_VRH': 58.0, 'G_Voigt': 62...   \n",
       "334  0.217025  4.60188  {'G_Reuss': 27.0, 'G_VRH': 18.0, 'G_Voigt': 10...   \n",
       "335  0.170756  6.42314  {'G_Reuss': 127.0, 'G_VRH': 127.0, 'G_Voigt': ...   \n",
       "336  0.551255  2.95236  {'G_Reuss': 18.0, 'G_VRH': 26.0, 'G_Voigt': 33...   \n",
       "337  0.382792  3.91516  {'G_Reuss': -13.0, 'G_VRH': -13.0, 'G_Voigt': ...   \n",
       "\n",
       "    E_above_Hull  G_VRH  K_VRH  Elastic_Anisotropy  poisson_ratio  Y_Modulus  \n",
       "0              0   47.0   96.0                6.32           0.29     121.26  \n",
       "1              0   56.0  115.0                2.85           0.29     144.48  \n",
       "2              0   35.0  111.0                0.80           0.36      95.20  \n",
       "3              0  101.0  141.0                0.44           0.21     244.42  \n",
       "4              0  -17.0  130.0               -8.12           0.57     -53.38  \n",
       "..           ...    ...    ...                 ...            ...        ...  \n",
       "333            0   58.0  134.0                0.77           0.31     151.96  \n",
       "334            0   18.0   52.0               -2.81           0.34      48.24  \n",
       "335            0  127.0  175.0                0.01           0.21     307.34  \n",
       "336            0   26.0   56.0                4.12           0.30      67.60  \n",
       "337            0  -13.0   17.0                0.00           1.01     -52.26  \n",
       "\n",
       "[338 rows x 12 columns]"
      ]
     },
     "metadata": {},
     "output_type": "display_data"
    }
   ],
   "source": [
    "#Pull dataframe column with dictionary of elastic constants\n",
    "elastics = df_oxide.Elastic_Tensor\n",
    "G_VRH = []\n",
    "K_VRH = []\n",
    "Elastic_Anisotropy = []\n",
    "poisson_ratio = []\n",
    "Y_Modulus = []\n",
    "\n",
    "for k in elastics.index: #len(df_oxide))\n",
    "    G_VRH.append(elastics[k].get('G_VRH'))\n",
    "    K_VRH.append(elastics[k].get('K_VRH'))\n",
    "\n",
    "    Elastic_Anisotropy.append(elastics[k].get('elastic_anisotropy'))\n",
    "    poisson_ratio.append(elastics[k].get('poisson_ratio'))\n",
    "    Y_Modulus.append(2*elastics[k].get('G_VRH')*(1+elastics[k].get('poisson_ratio')))\n",
    "    \n",
    "elasticity_data = np.column_stack((G_VRH, K_VRH, Elastic_Anisotropy, poisson_ratio, Y_Modulus))\n",
    "\n",
    "df_elasticity = pd.DataFrame(elasticity_data,columns=[\"G_VRH\", \n",
    "                                                      \"K_VRH\", \n",
    "                                                      \"Elastic_Anisotropy\", \n",
    "                                                      \"poisson_ratio\",\n",
    "                                                     \"Y_Modulus\"])\n",
    "\n",
    "\n",
    "\n",
    "df_oxide = df_oxide.reset_index(drop=True)\n",
    "df_elasticity = df_elasticity.reset_index(drop=True)\n",
    "df_oxide = pd.concat([df_oxide,df_elasticity],axis=1)\n",
    "display(df_oxide)\n",
    "\n",
    "#Remove erroneous poisson ratios\n",
    "void_test = []\n",
    "row_delete = []\n",
    "for k in range(0,len(df_elasticity)):\n",
    "    if df_oxide['poisson_ratio'].iloc[k] < 0:\n",
    "        row_delete.append(k)\n",
    "        \n",
    "\n",
    "index = df_oxide.index[row_delete]\n",
    "df_oxide.drop(index,axis=0,inplace=True)"
   ]
  },
  {
   "cell_type": "code",
   "execution_count": null,
   "metadata": {},
   "outputs": [],
   "source": []
  },
  {
   "cell_type": "markdown",
   "metadata": {},
   "source": [
    "### 3.3.1 Plot material properties from dataframe"
   ]
  },
  {
   "cell_type": "code",
   "execution_count": 21,
   "metadata": {},
   "outputs": [
    {
     "data": {
      "application/vnd.plotly.v1+json": {
       "config": {
        "linkText": "Export to plot.ly",
        "plotlyServerURL": "https://plot.ly",
        "showLink": false
       },
       "data": [
        {
         "marker": {
          "color": "black",
          "size": 12
         },
         "mode": "markers",
         "name": "All Queries",
         "text": [
          "Ti2Zn",
          "TiZn",
          "TiAg",
          "TiS",
          "TiAu2",
          "Ti2Rh",
          "Ti3B4",
          "TiNi",
          "Ti2C",
          "TiIr3",
          "TiB2",
          "Ti3O5",
          "Ti5Se4",
          "Ti2O",
          "TiIr",
          "TiCu3",
          "TiAu4",
          "Ti2Be17",
          "Ti2Pd",
          "Ti3Sb",
          "TiCr2",
          "Ti3Te4",
          "U2Ti",
          "Ti3Rh5",
          "Ti3Au",
          "Ti2Ni",
          "TiAs",
          "Ti3Al",
          "TiTe2",
          "TiMn2",
          "TiAl",
          "TiP2",
          "Ti6Sn5",
          "TiCu",
          "Ti5Sn3",
          "Ti5Si3",
          "TiZn3",
          "TiRe",
          "TiSb",
          "TiSe2",
          "Ti5Sb3",
          "TiI3",
          "TiZn16",
          "Ti3Pt",
          "Ti3Hg",
          "TiF3",
          "TiH2",
          "TiRh",
          "Ti3Cu4",
          "TiBe2",
          "TiOs",
          "TiFe",
          "TiCd",
          "Ti2Cd",
          "Ti2Ga",
          "Ti3Ga",
          "Ti2Ga3",
          "Ti3Pt5",
          "TiPt8",
          "Ti2Sn",
          "TiN",
          "Ti5Si4",
          "TiI4",
          "Ti3Ir",
          "TiO2",
          "TiAl2",
          "TiSb2",
          "TiCr2",
          "TiPt3",
          "Ti3Pd5",
          "TiCl3",
          "TiGa2",
          "TiRu",
          "TiCo3",
          "Ti2Sn3",
          "TiSi",
          "TiP",
          "Ti5Te4",
          "TiB",
          "TiCo",
          "Ti2N",
          "Ti3In",
          "Ti3Pb",
          "Ti2Ag",
          "Ti2ZnN",
          "TiZnN2",
          "TiTl2F6",
          "TiTeAs",
          "TiRh3",
          "TiTc",
          "TiNi3",
          "TiFe2Sn",
          "TiPbO3",
          "TiNiSb",
          "TiS2",
          "TiGaPt",
          "TiGa3",
          "TiGa",
          "Cs2TiCl6",
          "TiBrN",
          "Ti8C5",
          "MgTi2O5",
          "NaTi2O4",
          "Ti2Pd3",
          "Ti3AlC2",
          "CaTiO3",
          "Ti2O3",
          "SrTiO3",
          "TiAl3",
          "Ti3SiC2",
          "TiGe2",
          "Ti2Bi",
          "Cs3Ti2Cl9",
          "RbTiBr3",
          "Ti2S",
          "TiC",
          "TiSiRh",
          "Ti2Cu",
          "Sc2Ti2O7",
          "Li2TiF6",
          "Ti2CoRe",
          "TiFeSi",
          "TiZnIr2",
          "TiZnNi2",
          "Ti2NiIr",
          "Ti2RePd",
          "Ti2MoPt",
          "TiTc2Sb",
          "TiTc2W",
          "Ti2OsRu",
          "TiZnCo2",
          "TiVRe2",
          "TiGaPd2",
          "TiInPd2",
          "Ti2MnRh",
          "TaTiOs2",
          "SrTiN2",
          "LiTiS2",
          "TiS3",
          "TiPt",
          "Eu2TiO4",
          "TiCrP",
          "Ti6Si2B",
          "TiNiGe",
          "Ti2PbC",
          "TiCo2Sn",
          "TiNCl",
          "Na8Ti5O14",
          "Li2TiO3",
          "ZrTiAs",
          "TiAlFe2",
          "TiCo2Si",
          "Ti2CS",
          "MgTiO3",
          "K2TiF6",
          "TiCo2Ge",
          "SrTiO3",
          "BaTiO3",
          "YTiGe",
          "TiAsRh",
          "Ti2SbP",
          "ThTi2O6",
          "TiAlCo2",
          "SrTiO3",
          "Sr2TiO4",
          "Na4Ti5O12",
          "LiTi2O4",
          "Mg3(TiAl9)2",
          "TiAlNi2",
          "TiSnO3",
          "Mg2TiO4",
          "BaTiF6",
          "Ti2AlTc",
          "LiTiRh2",
          "TiMn2Al",
          "Ti2TcRh",
          "Ti2ReNi",
          "TiZnAu2",
          "Ti2MnOs",
          "Ti2MoIr",
          "Ti2TcIr",
          "Ti2TcNi",
          "TiVTc2",
          "Ti2ReRh",
          "TiBe2Ir",
          "TiFe2Si",
          "TiBeRh2",
          "TiBeCo2",
          "TiAlRh2",
          "CsTi6O12",
          "Ti6Al16Pt7",
          "TiGaPd",
          "Zr(TiGa2)2",
          "Lu(TiGa2)2",
          "Ti2InN",
          "TiSiRu",
          "Ti2AlC",
          "Ti3NiS6",
          "TiAlAu",
          "TiMnO3",
          "TiGaCo2",
          "TiCuSi",
          "TiFeSi2",
          "YTiSi",
          "Rb2TiCl6",
          "Ti(CuS)4",
          "TiGaNi2",
          "Ti2SnC",
          "TiAlCu2",
          "Ti2BRh6",
          "TiCoSb",
          "TiCdF6",
          "TiGaFe2",
          "Li4Ti5O12",
          "Ti2CoIr",
          "Ti2AlRe",
          "TaTiRu2",
          "TaTiTc2",
          "TiZnRh2",
          "Ti2MnFe",
          "MgTiIr2",
          "TiZnPd2",
          "TiNbRe2",
          "TiMn2W",
          "TiMn2V",
          "Ti2TcPt",
          "TiZnCu2",
          "TiGaIr2",
          "TiBeIr2",
          "TiAlRu2",
          "TiInRh2",
          "Ti2ZnTc",
          "TaTiMn2",
          "Li4TiO4",
          "TiNiSn",
          "TiFeTe",
          "TiSnPd",
          "LiTiPt2",
          "TiGePt",
          "Ti2ReB2",
          "Tm(TiGa2)2",
          "Ti2NiS4",
          "Ti2GaN",
          "Sr4TiN4",
          "TiPRu",
          "TiFeSb",
          "Ti3In3Rh2",
          "Ti2Te2P",
          "Ti2GaC",
          "TiGePd",
          "Ti2InC",
          "Ti3InC",
          "Ti3SnC2",
          "TiCoSi",
          "TiInCu2",
          "CaTiF6",
          "TiIN",
          "TiSnPt",
          "Ti3AlC",
          "Ba2TiO4",
          "Ca4TiN4",
          "NaTiS2",
          "Ti2AlMo",
          "Ti2CoTc",
          "MgTiRh2",
          "Ti6Al16Ni7",
          "TiAlPd2",
          "Ti2MnRu",
          "TiMnCo2",
          "TiInCo2",
          "Ti2NiMo",
          "TiMn2Si",
          "TiNbTc2",
          "TiRe2W",
          "TiReTc2",
          "TiSnPd2",
          "TiSiOs2",
          "TiSiRu2",
          "Ti2ReIr",
          "TiSnRu2",
          "TiGaRh2",
          "TiFe2Ge",
          "TaTiRe2",
          "Ti2IrW",
          "ScTiRu2",
          "Ti3ZnN",
          "TiCdO3",
          "RbTiS2",
          "TiNiO3",
          "TiCoGe",
          "CsTiBr3",
          "K2TiCl6",
          "TiGaNi",
          "Sr3Ti2O7",
          "Na2Ti3O7",
          "LiTiO2",
          "Ti2AlN",
          "TiSiNi",
          "TiCu2Te3",
          "TiAlPt",
          "BaTiO3",
          "Ti3SnH",
          "Ti3PdO",
          "Li(TiSe2)3",
          "Ti2CrIr",
          "Ti2FeIr",
          "Ti2MnBe",
          "PaTiTc2",
          "Ti2MnCo",
          "LiTiIr2",
          "TiAlOs2",
          "TiGaRu2",
          "TiMnRh2",
          "Ti2MnIr",
          "TiGeRu2",
          "Ti2TcRu",
          "TiSiTc2",
          "TiSnRh2",
          "Ti2MnNi",
          "Ti2TcOs",
          "AcTiO3",
          "Ti2TcPd",
          "Ti2ZnRe",
          "TiTc2Mo",
          "Ti2GeC",
          "Ti2CdC",
          "Na2Ti2As2O",
          "RbTiAsO5",
          "LiTiPO5",
          "Tb2Ti2S2O5",
          "TiGaFeCo",
          "Nd2Ti2S2O5",
          "Sm2Ti2S2O5",
          "Na2Ti2Sb2O",
          "TiAlFeCo",
          "KNaTiO3",
          "Cs2KTiF6"
         ],
         "type": "scatter",
         "x": [
          5.4624418431294846,
          6.036542541370883,
          7.340358574162901,
          4.442034010283959,
          14.162674008729564,
          7.08866045352241,
          4.557547483685545,
          6.4129856237257545,
          4.4397691684648475,
          17.774770707590932,
          4.48742509138872,
          4.187247707142454,
          5.571714611425473,
          5.012926886778068,
          13.171719999335542,
          7.64811775237397,
          15.866690660766688,
          2.4788616197207776,
          6.905202130563418,
          6.204950157087049,
          6.237410464246428,
          6.386267555747635,
          15.633596985294249,
          9.261614828158567,
          8.460278692613556,
          5.725013960684072,
          5.836287445057678,
          4.24886855694461,
          5.967718130581316,
          6.901373874786948,
          3.8339015516249924,
          4.262085969423355,
          6.8133915501839475,
          6.4409362603173195,
          6.425214777223388,
          4.347039336035789,
          6.697660334904412,
          12.813423301491598,
          6.344016707746623,
          4.692579364547135,
          6.533810701664811,
          4.359640173734073,
          7.014325083136486,
          8.76669891569527,
          8.13860497378146,
          2.8243455697091604,
          3.832731997844202,
          8.321025415894498,
          6.748300335520562,
          3.293295530284812,
          13.333766927112507,
          6.642034495803114,
          6.897648170834788,
          6.215938143385086,
          5.649651697567152,
          5.416551057420764,
          6.382990495806396,
          14.802111278232545,
          19.082725589745888,
          6.451610572115688,
          5.340297397189084,
          4.25473535677054,
          4.3668690052068415,
          8.833383915301757,
          3.6159400033700795,
          3.536390535036478,
          7.376419290265216,
          6.234565438345089,
          17.027464482463998,
          8.90461162906226,
          2.2774261271317386,
          6.57508815436937,
          8.419437219779311,
          7.9485403294031345,
          7.060315921097217,
          4.224308672822326,
          4.219611373656351,
          6.385807170916716,
          4.575880541341557,
          6.714495214283375,
          4.881545213711141,
          5.888116238832343,
          7.797411885162248,
          6.468902592045046,
          5.650048112061304,
          4.766285536725132,
          6.057885867720305,
          6.769605729748634,
          10.282251751785296,
          8.076824961632303,
          7.958129733816652,
          8.367357755094483,
          7.295112048795698,
          7.23884154747617,
          2.865289943255333,
          11.147470113345912,
          6.684291685114108,
          6.1976826619748895,
          2.963362008986589,
          3.9395889679935796,
          4.541437896810737,
          3.5514942036147072,
          4.03211265932668,
          8.738526615651537,
          4.20786317502239,
          3.9404642801305276,
          4.523578267557585,
          4.962107562390343,
          3.3657054463344656,
          4.4749080984814436,
          6.553899769932891,
          7.998026445353696,
          3.0401275593382264,
          3.9356028008418735,
          4.80268802739094,
          4.87990698075401,
          6.784636672305928,
          5.72218027117513,
          3.3381635201419226,
          2.886520546058677,
          9.912983598641455,
          5.624878004168807,
          14.313777243307232,
          7.587307353396716,
          10.01044668827803,
          10.429398163398332,
          10.298147656965556,
          9.516408279480293,
          11.693560622969297,
          10.875791727030174,
          7.7961961744060755,
          13.403563577525125,
          8.94388309728109,
          9.226915698480555,
          7.479172389493153,
          16.24397965392071,
          4.596150108497811,
          3.0916934550698034,
          2.940905884129678,
          12.760333985989046,
          7.235616986713232,
          5.652777279831061,
          4.44587873057504,
          7.085254895184842,
          8.250785346746342,
          8.37544948678618,
          2.9608482669353977,
          3.284706044018789,
          3.3362540106131995,
          6.617444392928694,
          6.253070135591179,
          6.762597801805614,
          4.634878108828932,
          3.780006541137528,
          2.847791097004868,
          7.92660377274569,
          4.972062045682436,
          5.696967616676617,
          5.469106490462338,
          8.163513939030423,
          5.683966259319116,
          5.935302051965234,
          6.450357762610031,
          4.966121060316674,
          4.8732527350303,
          3.6017285684115445,
          3.649565279447548,
          2.7005341149603868,
          6.253223227274053,
          4.572232792498782,
          3.429076180124355,
          4.121344465635651,
          5.893565944131917,
          7.881916365009485,
          5.794348410543372,
          8.248625335895005,
          9.791110986112407,
          12.572718828222012,
          10.009062644775774,
          10.429707910141847,
          10.735713796405204,
          7.393032893959293,
          8.4990653539188,
          10.604352786731432,
          9.34964352483046,
          6.7581276538375015,
          8.36609769340187,
          6.639927873367532,
          8.099626827042165,
          4.196789423760888,
          7.540646708451553,
          8.02198898925839,
          6.540822885695841,
          7.4412713931789645,
          6.37134824652084,
          6.828651218841114,
          3.993100999294839,
          3.8664611998401566,
          9.082770024482732,
          4.465567989536367,
          7.8648054325560715,
          5.577715167561554,
          5.1432356119067775,
          4.422838633476582,
          2.663452049836092,
          4.546919933889982,
          7.652008774211659,
          6.244640756678336,
          6.1437518525598,
          9.69818028407914,
          7.4161166432836785,
          3.7878369425499465,
          7.798866002382084,
          3.383782954271181,
          10.030921198382599,
          8.24757087189734,
          11.63238220857548,
          11.265013084980856,
          9.271396328551523,
          6.549536522803793,
          12.713547624267859,
          8.93070996457023,
          13.374318316308761,
          10.694686868620503,
          6.930633199021836,
          10.533932931783644,
          7.415148555046202,
          14.131652491087628,
          13.864523376237495,
          8.111431846362592,
          9.569856062042563,
          7.030689430193968,
          10.17393399198337,
          2.49757315975166,
          7.230096922996658,
          7.544316549414458,
          7.554322965866566,
          12.60327472096375,
          9.749869469337343,
          8.962409925311519,
          7.302528729539403,
          4.152401887128523,
          5.682010841432831,
          4.468439931681672,
          7.173677446230221,
          7.055233350704827,
          7.9926334816569184,
          5.513174125224249,
          5.332772544545805,
          7.962521710594004,
          6.063190462834159,
          5.857246750937356,
          5.906377007878856,
          5.7176592376547415,
          7.837531383584235,
          2.307503291141096,
          4.6374993284668715,
          9.92580275031248,
          4.14816071313334,
          4.964862891634228,
          3.0618782746735493,
          3.025204167334896,
          5.652812263160933,
          7.508747467879704,
          7.747610900390847,
          4.564324365433942,
          7.796983785633488,
          7.4584229699071365,
          7.350147535407575,
          8.59380542640719,
          7.112101516720644,
          6.352313230944243,
          8.908701471523768,
          16.2597984805017,
          11.967737648863498,
          9.287622660242107,
          13.727474303048396,
          8.522604054233913,
          13.065347486039514,
          9.777327921746597,
          9.27802116476737,
          7.947002590025136,
          15.710756052787996,
          12.73920881877668,
          7.862720991735482,
          5.37890951833673,
          5.633653361711024,
          3.6465683952596106,
          4.948071791584746,
          7.1908569707582775,
          4.114540726103568,
          2.232695114770109,
          6.991897317964257,
          4.905953288475624,
          3.345429369560711,
          4.06672056516467,
          4.264332410125586,
          5.670689314807067,
          6.5101162772345695,
          9.656845071143279,
          5.713375485281336,
          5.997228901136887,
          6.369330991445486,
          4.1374015196762235,
          9.760395641571574,
          9.950049065017923,
          5.074745986110234,
          11.151404478968328,
          6.6495117830951775,
          13.243443555111606,
          13.175580632904648,
          9.306973852038315,
          8.764975268637999,
          10.07359046810324,
          9.276389202020713,
          8.257824485201251,
          8.054004836705937,
          9.592849021588956,
          6.57826859307671,
          10.690396169558037,
          8.284647565044244,
          8.11100510528375,
          9.382320137636565,
          9.323271653873626,
          5.5647919328460915,
          6.020726394251087,
          3.984433553321344,
          3.8322311394294086,
          3.1065032453964494,
          5.549563127057932,
          7.852732359070375,
          5.0129830860151126,
          5.233540368196205,
          4.601877729197639,
          6.423142027062664,
          2.95235584882722,
          3.9151633204491088
         ],
         "y": [
          0.1639185929850974,
          0.17465114469285195,
          0.22601427981911038,
          0.18213033035592233,
          0.24807917200765672,
          0.14844111420265715,
          0.13099301136756655,
          0.1552981353489944,
          0.13122955521003882,
          0.14077963316526612,
          0.1230849374375109,
          0.5600231544369283,
          0.18356435194439233,
          0.3662168250314958,
          0.14745125945292215,
          0.1837705775343425,
          0.26426114359978575,
          0.11873385793604922,
          0.15867571120480414,
          0.14303956557615985,
          0.2361187106085201,
          0.25880676185737994,
          0.19312379026173263,
          0.13918080951660589,
          0.19289837232119625,
          0.15343497788015972,
          0.10853808691682632,
          0.13576534304262572,
          0.24560134002423767,
          0.12832829894847086,
          0.11955719175912623,
          0.09305754462454778,
          0.1281181285961661,
          0.17049395614150234,
          0.13076198828624291,
          0.12067629696043301,
          0.18426369812102286,
          0.13524886781535064,
          0.11222376500406839,
          0.15524101899102893,
          0.1309597195217656,
          0.17478120316718795,
          0.18627145869938552,
          0.15506859696804765,
          0.22564620238272717,
          0.11339197355557593,
          0.11973066672060946,
          0.1435665383511244,
          0.17368930902922072,
          0.1296722702846171,
          0.13032742309620188,
          0.1998886594219398,
          0.20764917456044876,
          0.1906293122472227,
          0.1442288588506151,
          0.14681722111185752,
          0.13478875984974334,
          0.14887068669919765,
          0.14337611859712665,
          0.13715709806737453,
          0.1889358234178382,
          0.1134867373079618,
          0.1760162964046736,
          0.15267440227901116,
          0.527473341861237,
          0.10800150231519788,
          0.11247418630863018,
          0.23601101145174302,
          0.1480823064801181,
          0.16233867133346433,
          0.07604216235683961,
          0.13243924066780063,
          0.12927407530300686,
          0.17657033375407374,
          0.11630625457325387,
          0.10876061772381987,
          0.10586282105644254,
          0.2522885639723213,
          0.13507786185601123,
          0.16990253225767665,
          0.16669107259881275,
          0.15425685591817223,
          0.1832132310174751,
          0.20186430554106263,
          0.17633674378026387,
          0.15311443277526152,
          0.19956502809367532,
          0.20928136125875543,
          0.135165207417897,
          0.14326790054127483,
          0.16434861670166484,
          0.18421765964796719,
          0.4877818034136472,
          0.1275434044249476,
          0.1278256188500087,
          0.1419501420045817,
          0.12691367969074038,
          0.14049427665918923,
          0.2176201641543586,
          0.10900276229467461,
          0.13129340929417405,
          0.5317634545223553,
          0.6010653622581049,
          0.16219827975864465,
          0.12080369580176986,
          0.5922932448248942,
          0.5745173562529665,
          0.6084334115282282,
          0.10152895992103267,
          0.11908903331575288,
          0.13103062258540607,
          0.15521201753073569,
          0.21960112433143134,
          0.19304600975828043,
          0.18172294113911178,
          0.13254814609406856,
          0.1137446072215396,
          0.1619308695657307,
          0.4703273225058381,
          0.17311316128871185,
          0.15044112075312538,
          0.1501576695810445,
          0.1592116803445447,
          0.17505037660259753,
          0.15213341492326607,
          0.14925276600970097,
          0.1492887967888116,
          0.13167097379665996,
          0.12995482663470073,
          0.12965591522173264,
          0.18772422300201794,
          0.12995416459871584,
          0.15491008303989237,
          0.1648933603103771,
          0.14296272555980058,
          0.11962854540467419,
          0.24236080481823008,
          0.1776784251954564,
          0.13708989852209225,
          0.1509596502551732,
          0.5295032503663019,
          0.17598031235210257,
          0.12951650301583187,
          0.14756095541362443,
          0.17689840656814365,
          0.15573428796784594,
          0.10301189228761772,
          0.5579126702515457,
          0.6193674969856675,
          0.12021999156166346,
          0.18302227726688025,
          0.14807287193487065,
          0.16256540088694024,
          0.5756631477737015,
          0.2915855322037965,
          0.16620613965967324,
          0.6096539897106348,
          0.6117577309956982,
          0.14487910776752078,
          0.1203244055936583,
          0.11389151223978251,
          0.5122070462696539,
          0.1547169985725137,
          0.6089255302912285,
          0.566008522017582,
          0.578808382381363,
          0.5504742776928325,
          0.09036410242626657,
          0.14242779857361934,
          0.3865067263318712,
          0.5331708346280016,
          0.20946939662790875,
          0.1314144029664836,
          0.16583310538204674,
          0.1163411465266228,
          0.1442832965705615,
          0.14519036049025477,
          0.23444023302567493,
          0.13426412727622636,
          0.1472562006172479,
          0.14673184839946257,
          0.15135615151453718,
          0.13844130021812637,
          0.139759328373166,
          0.1348893338887807,
          0.18300581412782066,
          0.13256586983593813,
          0.1658484569804471,
          0.12756393487056028,
          0.5818344453210997,
          0.11204813142569545,
          0.15020416826269373,
          0.12847751992320747,
          0.13642583095242092,
          0.1657685224984901,
          0.10353640110722764,
          0.11738355380417329,
          0.15685253391938575,
          0.1812551106667073,
          0.5147690148787912,
          0.16547403144549316,
          0.13380077907775537,
          0.12595933635788817,
          0.12858782690686527,
          0.19639191093695943,
          0.14790991515052387,
          0.1533816924200279,
          0.12759403292901528,
          0.15564081865263307,
          0.12791249189738124,
          0.1344872726984684,
          0.13988173817438185,
          0.19699101657735282,
          0.5579527275656979,
          0.15586615298256923,
          0.12827792892124104,
          0.11893240659376417,
          0.1327830730047903,
          0.1558405427770336,
          0.17020698849289723,
          0.1509525479011244,
          0.17347978398633668,
          0.12441602270764168,
          0.12742539392074806,
          0.136788880312811,
          0.14796710281816186,
          0.186916291406347,
          0.13861599630948956,
          0.13619200311659224,
          0.11102112505093871,
          0.14905750117623906,
          0.15911374962345054,
          0.1298892584111125,
          0.5204875095699774,
          0.12911409052544734,
          0.2797864537394527,
          0.12533666855107262,
          0.1707638810476957,
          0.1243740132451421,
          0.1292183051590566,
          0.1458714319945559,
          0.1617990526589595,
          0.15370416027068876,
          0.2683621693145904,
          0.1079178614485961,
          0.14279689597396342,
          0.15028307048900788,
          0.20860850877538947,
          0.12897226386082103,
          0.14872824669514756,
          0.14383771008215315,
          0.14810815620508558,
          0.12899425080522056,
          0.13139149812245873,
          0.17405093231499572,
          0.1211141363709712,
          0.1817133411713443,
          0.1184682979164383,
          0.12537593240280195,
          0.49365440630728835,
          0.2205428709154235,
          0.2002168501017248,
          0.13098448326482023,
          0.15720388320671286,
          0.1462907557617573,
          0.11683089848820409,
          0.14612368717152077,
          0.1342868168509619,
          0.15102094074586983,
          0.18200852864378247,
          0.15092416784412746,
          0.11384480827894115,
          0.1324608036324706,
          0.12165122589678566,
          0.12602776290683979,
          0.14829531096330847,
          0.10506926250424861,
          0.10458321203868266,
          0.14213716375062913,
          0.11820552562449746,
          0.1363223499877667,
          0.19972684237916302,
          0.12474923118547479,
          0.14534137903239383,
          0.12698834517175672,
          0.16942715413144652,
          0.5399836872999884,
          0.30535558495164666,
          0.5672477875205336,
          0.15444784960808247,
          0.2125115672354883,
          0.17436915177993062,
          0.14626959340348458,
          0.5821826987272434,
          0.5310516106704863,
          0.6319469468382815,
          0.14107557034653057,
          0.1254074766895259,
          0.24174447464810028,
          0.13057906194024474,
          0.6135196578914586,
          0.13932322134949449,
          0.26935090255826144,
          0.14753981070427305,
          0.18206278900975875,
          0.16811635255747065,
          0.13735581290259294,
          0.15155048554712566,
          0.15697612740344413,
          0.17052932964485687,
          0.11204517624410053,
          0.1200064026761003,
          0.12302834285967139,
          0.14493503214062178,
          0.11980397392675307,
          0.13653306408720495,
          0.11886885757210923,
          0.13103693732673757,
          0.1516399195123115,
          0.13683394985179628,
          0.5579068914411596,
          0.1533395310145402,
          0.15526128772960102,
          0.13144325466944148,
          0.13377354324291799,
          0.17643193819269415,
          0.22655879771044682,
          0.5191913794230536,
          0.544310065076201,
          0.3637454129460663,
          0.18156565862394278,
          0.40114378488442015,
          0.39838919199647377,
          0.2170254001297836,
          0.1707558408601182,
          0.5512551762515505,
          0.3827921235243972
         ]
        },
        {
         "marker": {
          "color": "green",
          "size": 18
         },
         "mode": "markers",
         "name": "TiC",
         "text": "TiC",
         "type": "scatter",
         "x": [
          4.87990698075401
         ],
         "y": [
          0.13254814609406856
         ]
        },
        {
         "marker": {
          "color": "blue",
          "size": 18
         },
         "mode": "markers",
         "name": "TiN",
         "text": "TiN",
         "type": "scatter",
         "x": [
          5.340297397189084
         ],
         "y": [
          0.1889358234178382
         ]
        },
        {
         "marker": {
          "color": "orange",
          "size": 18
         },
         "mode": "markers",
         "name": "TiB",
         "text": "TiB",
         "type": "scatter",
         "x": [
          4.575880541341557
         ],
         "y": [
          0.13507786185601123
         ]
        },
        {
         "marker": {
          "color": "magenta",
          "size": 18
         },
         "mode": "markers",
         "name": "TiO2",
         "text": "TiO2",
         "type": "scatter",
         "x": [
          3.6159400033700795
         ],
         "y": [
          0.527473341861237
         ]
        }
       ],
       "layout": {
        "font": {
         "family": "Times New Roman",
         "size": 18
        },
        "height": 600,
        "hovermode": "closest",
        "showlegend": true,
        "template": {
         "data": {
          "bar": [
           {
            "error_x": {
             "color": "#2a3f5f"
            },
            "error_y": {
             "color": "#2a3f5f"
            },
            "marker": {
             "line": {
              "color": "#E5ECF6",
              "width": 0.5
             }
            },
            "type": "bar"
           }
          ],
          "barpolar": [
           {
            "marker": {
             "line": {
              "color": "#E5ECF6",
              "width": 0.5
             }
            },
            "type": "barpolar"
           }
          ],
          "carpet": [
           {
            "aaxis": {
             "endlinecolor": "#2a3f5f",
             "gridcolor": "white",
             "linecolor": "white",
             "minorgridcolor": "white",
             "startlinecolor": "#2a3f5f"
            },
            "baxis": {
             "endlinecolor": "#2a3f5f",
             "gridcolor": "white",
             "linecolor": "white",
             "minorgridcolor": "white",
             "startlinecolor": "#2a3f5f"
            },
            "type": "carpet"
           }
          ],
          "choropleth": [
           {
            "colorbar": {
             "outlinewidth": 0,
             "ticks": ""
            },
            "type": "choropleth"
           }
          ],
          "contour": [
           {
            "colorbar": {
             "outlinewidth": 0,
             "ticks": ""
            },
            "colorscale": [
             [
              0,
              "#0d0887"
             ],
             [
              0.1111111111111111,
              "#46039f"
             ],
             [
              0.2222222222222222,
              "#7201a8"
             ],
             [
              0.3333333333333333,
              "#9c179e"
             ],
             [
              0.4444444444444444,
              "#bd3786"
             ],
             [
              0.5555555555555556,
              "#d8576b"
             ],
             [
              0.6666666666666666,
              "#ed7953"
             ],
             [
              0.7777777777777778,
              "#fb9f3a"
             ],
             [
              0.8888888888888888,
              "#fdca26"
             ],
             [
              1,
              "#f0f921"
             ]
            ],
            "type": "contour"
           }
          ],
          "contourcarpet": [
           {
            "colorbar": {
             "outlinewidth": 0,
             "ticks": ""
            },
            "type": "contourcarpet"
           }
          ],
          "heatmap": [
           {
            "colorbar": {
             "outlinewidth": 0,
             "ticks": ""
            },
            "colorscale": [
             [
              0,
              "#0d0887"
             ],
             [
              0.1111111111111111,
              "#46039f"
             ],
             [
              0.2222222222222222,
              "#7201a8"
             ],
             [
              0.3333333333333333,
              "#9c179e"
             ],
             [
              0.4444444444444444,
              "#bd3786"
             ],
             [
              0.5555555555555556,
              "#d8576b"
             ],
             [
              0.6666666666666666,
              "#ed7953"
             ],
             [
              0.7777777777777778,
              "#fb9f3a"
             ],
             [
              0.8888888888888888,
              "#fdca26"
             ],
             [
              1,
              "#f0f921"
             ]
            ],
            "type": "heatmap"
           }
          ],
          "heatmapgl": [
           {
            "colorbar": {
             "outlinewidth": 0,
             "ticks": ""
            },
            "colorscale": [
             [
              0,
              "#0d0887"
             ],
             [
              0.1111111111111111,
              "#46039f"
             ],
             [
              0.2222222222222222,
              "#7201a8"
             ],
             [
              0.3333333333333333,
              "#9c179e"
             ],
             [
              0.4444444444444444,
              "#bd3786"
             ],
             [
              0.5555555555555556,
              "#d8576b"
             ],
             [
              0.6666666666666666,
              "#ed7953"
             ],
             [
              0.7777777777777778,
              "#fb9f3a"
             ],
             [
              0.8888888888888888,
              "#fdca26"
             ],
             [
              1,
              "#f0f921"
             ]
            ],
            "type": "heatmapgl"
           }
          ],
          "histogram": [
           {
            "marker": {
             "colorbar": {
              "outlinewidth": 0,
              "ticks": ""
             }
            },
            "type": "histogram"
           }
          ],
          "histogram2d": [
           {
            "colorbar": {
             "outlinewidth": 0,
             "ticks": ""
            },
            "colorscale": [
             [
              0,
              "#0d0887"
             ],
             [
              0.1111111111111111,
              "#46039f"
             ],
             [
              0.2222222222222222,
              "#7201a8"
             ],
             [
              0.3333333333333333,
              "#9c179e"
             ],
             [
              0.4444444444444444,
              "#bd3786"
             ],
             [
              0.5555555555555556,
              "#d8576b"
             ],
             [
              0.6666666666666666,
              "#ed7953"
             ],
             [
              0.7777777777777778,
              "#fb9f3a"
             ],
             [
              0.8888888888888888,
              "#fdca26"
             ],
             [
              1,
              "#f0f921"
             ]
            ],
            "type": "histogram2d"
           }
          ],
          "histogram2dcontour": [
           {
            "colorbar": {
             "outlinewidth": 0,
             "ticks": ""
            },
            "colorscale": [
             [
              0,
              "#0d0887"
             ],
             [
              0.1111111111111111,
              "#46039f"
             ],
             [
              0.2222222222222222,
              "#7201a8"
             ],
             [
              0.3333333333333333,
              "#9c179e"
             ],
             [
              0.4444444444444444,
              "#bd3786"
             ],
             [
              0.5555555555555556,
              "#d8576b"
             ],
             [
              0.6666666666666666,
              "#ed7953"
             ],
             [
              0.7777777777777778,
              "#fb9f3a"
             ],
             [
              0.8888888888888888,
              "#fdca26"
             ],
             [
              1,
              "#f0f921"
             ]
            ],
            "type": "histogram2dcontour"
           }
          ],
          "mesh3d": [
           {
            "colorbar": {
             "outlinewidth": 0,
             "ticks": ""
            },
            "type": "mesh3d"
           }
          ],
          "parcoords": [
           {
            "line": {
             "colorbar": {
              "outlinewidth": 0,
              "ticks": ""
             }
            },
            "type": "parcoords"
           }
          ],
          "pie": [
           {
            "automargin": true,
            "type": "pie"
           }
          ],
          "scatter": [
           {
            "marker": {
             "colorbar": {
              "outlinewidth": 0,
              "ticks": ""
             }
            },
            "type": "scatter"
           }
          ],
          "scatter3d": [
           {
            "line": {
             "colorbar": {
              "outlinewidth": 0,
              "ticks": ""
             }
            },
            "marker": {
             "colorbar": {
              "outlinewidth": 0,
              "ticks": ""
             }
            },
            "type": "scatter3d"
           }
          ],
          "scattercarpet": [
           {
            "marker": {
             "colorbar": {
              "outlinewidth": 0,
              "ticks": ""
             }
            },
            "type": "scattercarpet"
           }
          ],
          "scattergeo": [
           {
            "marker": {
             "colorbar": {
              "outlinewidth": 0,
              "ticks": ""
             }
            },
            "type": "scattergeo"
           }
          ],
          "scattergl": [
           {
            "marker": {
             "colorbar": {
              "outlinewidth": 0,
              "ticks": ""
             }
            },
            "type": "scattergl"
           }
          ],
          "scattermapbox": [
           {
            "marker": {
             "colorbar": {
              "outlinewidth": 0,
              "ticks": ""
             }
            },
            "type": "scattermapbox"
           }
          ],
          "scatterpolar": [
           {
            "marker": {
             "colorbar": {
              "outlinewidth": 0,
              "ticks": ""
             }
            },
            "type": "scatterpolar"
           }
          ],
          "scatterpolargl": [
           {
            "marker": {
             "colorbar": {
              "outlinewidth": 0,
              "ticks": ""
             }
            },
            "type": "scatterpolargl"
           }
          ],
          "scatterternary": [
           {
            "marker": {
             "colorbar": {
              "outlinewidth": 0,
              "ticks": ""
             }
            },
            "type": "scatterternary"
           }
          ],
          "surface": [
           {
            "colorbar": {
             "outlinewidth": 0,
             "ticks": ""
            },
            "colorscale": [
             [
              0,
              "#0d0887"
             ],
             [
              0.1111111111111111,
              "#46039f"
             ],
             [
              0.2222222222222222,
              "#7201a8"
             ],
             [
              0.3333333333333333,
              "#9c179e"
             ],
             [
              0.4444444444444444,
              "#bd3786"
             ],
             [
              0.5555555555555556,
              "#d8576b"
             ],
             [
              0.6666666666666666,
              "#ed7953"
             ],
             [
              0.7777777777777778,
              "#fb9f3a"
             ],
             [
              0.8888888888888888,
              "#fdca26"
             ],
             [
              1,
              "#f0f921"
             ]
            ],
            "type": "surface"
           }
          ],
          "table": [
           {
            "cells": {
             "fill": {
              "color": "#EBF0F8"
             },
             "line": {
              "color": "white"
             }
            },
            "header": {
             "fill": {
              "color": "#C8D4E3"
             },
             "line": {
              "color": "white"
             }
            },
            "type": "table"
           }
          ]
         },
         "layout": {
          "annotationdefaults": {
           "arrowcolor": "#2a3f5f",
           "arrowhead": 0,
           "arrowwidth": 1
          },
          "coloraxis": {
           "colorbar": {
            "outlinewidth": 0,
            "ticks": ""
           }
          },
          "colorscale": {
           "diverging": [
            [
             0,
             "#8e0152"
            ],
            [
             0.1,
             "#c51b7d"
            ],
            [
             0.2,
             "#de77ae"
            ],
            [
             0.3,
             "#f1b6da"
            ],
            [
             0.4,
             "#fde0ef"
            ],
            [
             0.5,
             "#f7f7f7"
            ],
            [
             0.6,
             "#e6f5d0"
            ],
            [
             0.7,
             "#b8e186"
            ],
            [
             0.8,
             "#7fbc41"
            ],
            [
             0.9,
             "#4d9221"
            ],
            [
             1,
             "#276419"
            ]
           ],
           "sequential": [
            [
             0,
             "#0d0887"
            ],
            [
             0.1111111111111111,
             "#46039f"
            ],
            [
             0.2222222222222222,
             "#7201a8"
            ],
            [
             0.3333333333333333,
             "#9c179e"
            ],
            [
             0.4444444444444444,
             "#bd3786"
            ],
            [
             0.5555555555555556,
             "#d8576b"
            ],
            [
             0.6666666666666666,
             "#ed7953"
            ],
            [
             0.7777777777777778,
             "#fb9f3a"
            ],
            [
             0.8888888888888888,
             "#fdca26"
            ],
            [
             1,
             "#f0f921"
            ]
           ],
           "sequentialminus": [
            [
             0,
             "#0d0887"
            ],
            [
             0.1111111111111111,
             "#46039f"
            ],
            [
             0.2222222222222222,
             "#7201a8"
            ],
            [
             0.3333333333333333,
             "#9c179e"
            ],
            [
             0.4444444444444444,
             "#bd3786"
            ],
            [
             0.5555555555555556,
             "#d8576b"
            ],
            [
             0.6666666666666666,
             "#ed7953"
            ],
            [
             0.7777777777777778,
             "#fb9f3a"
            ],
            [
             0.8888888888888888,
             "#fdca26"
            ],
            [
             1,
             "#f0f921"
            ]
           ]
          },
          "colorway": [
           "#636efa",
           "#EF553B",
           "#00cc96",
           "#ab63fa",
           "#FFA15A",
           "#19d3f3",
           "#FF6692",
           "#B6E880",
           "#FF97FF",
           "#FECB52"
          ],
          "font": {
           "color": "#2a3f5f"
          },
          "geo": {
           "bgcolor": "white",
           "lakecolor": "white",
           "landcolor": "#E5ECF6",
           "showlakes": true,
           "showland": true,
           "subunitcolor": "white"
          },
          "hoverlabel": {
           "align": "left"
          },
          "hovermode": "closest",
          "mapbox": {
           "style": "light"
          },
          "paper_bgcolor": "white",
          "plot_bgcolor": "#E5ECF6",
          "polar": {
           "angularaxis": {
            "gridcolor": "white",
            "linecolor": "white",
            "ticks": ""
           },
           "bgcolor": "#E5ECF6",
           "radialaxis": {
            "gridcolor": "white",
            "linecolor": "white",
            "ticks": ""
           }
          },
          "scene": {
           "xaxis": {
            "backgroundcolor": "#E5ECF6",
            "gridcolor": "white",
            "gridwidth": 2,
            "linecolor": "white",
            "showbackground": true,
            "ticks": "",
            "zerolinecolor": "white"
           },
           "yaxis": {
            "backgroundcolor": "#E5ECF6",
            "gridcolor": "white",
            "gridwidth": 2,
            "linecolor": "white",
            "showbackground": true,
            "ticks": "",
            "zerolinecolor": "white"
           },
           "zaxis": {
            "backgroundcolor": "#E5ECF6",
            "gridcolor": "white",
            "gridwidth": 2,
            "linecolor": "white",
            "showbackground": true,
            "ticks": "",
            "zerolinecolor": "white"
           }
          },
          "shapedefaults": {
           "line": {
            "color": "#2a3f5f"
           }
          },
          "ternary": {
           "aaxis": {
            "gridcolor": "white",
            "linecolor": "white",
            "ticks": ""
           },
           "baxis": {
            "gridcolor": "white",
            "linecolor": "white",
            "ticks": ""
           },
           "bgcolor": "#E5ECF6",
           "caxis": {
            "gridcolor": "white",
            "linecolor": "white",
            "ticks": ""
           }
          },
          "title": {
           "x": 0.05
          },
          "xaxis": {
           "automargin": true,
           "gridcolor": "white",
           "linecolor": "white",
           "ticks": "",
           "title": {
            "standoff": 15
           },
           "zerolinecolor": "white",
           "zerolinewidth": 2
          },
          "yaxis": {
           "automargin": true,
           "gridcolor": "white",
           "linecolor": "white",
           "ticks": "",
           "title": {
            "standoff": 15
           },
           "zerolinecolor": "white",
           "zerolinewidth": 2
          }
         }
        },
        "title": {
         "text": "Ti_based Query IPF vs. Density"
        },
        "width": 1200,
        "xaxis": {
         "gridwidth": 2,
         "title": {
          "text": "$Density \\: [g/cm^{3}]$"
         },
         "zeroline": false
        },
        "yaxis": {
         "gridwidth": 2,
         "title": {
          "text": "$Ionic Packing Fraction \\: [IPF]$"
         },
         "zeroline": false
        }
       }
      },
      "text/html": [
       "<div>\n",
       "        \n",
       "        \n",
       "            <div id=\"44012be3-7cb7-4d0b-bf90-a927a66971d1\" class=\"plotly-graph-div\" style=\"height:600px; width:1200px;\"></div>\n",
       "            <script type=\"text/javascript\">\n",
       "                require([\"plotly\"], function(Plotly) {\n",
       "                    window.PLOTLYENV=window.PLOTLYENV || {};\n",
       "                    \n",
       "                if (document.getElementById(\"44012be3-7cb7-4d0b-bf90-a927a66971d1\")) {\n",
       "                    Plotly.newPlot(\n",
       "                        '44012be3-7cb7-4d0b-bf90-a927a66971d1',\n",
       "                        [{\"marker\": {\"color\": \"black\", \"size\": 12}, \"mode\": \"markers\", \"name\": \"All Queries\", \"text\": [\"Ti2Zn\", \"TiZn\", \"TiAg\", \"TiS\", \"TiAu2\", \"Ti2Rh\", \"Ti3B4\", \"TiNi\", \"Ti2C\", \"TiIr3\", \"TiB2\", \"Ti3O5\", \"Ti5Se4\", \"Ti2O\", \"TiIr\", \"TiCu3\", \"TiAu4\", \"Ti2Be17\", \"Ti2Pd\", \"Ti3Sb\", \"TiCr2\", \"Ti3Te4\", \"U2Ti\", \"Ti3Rh5\", \"Ti3Au\", \"Ti2Ni\", \"TiAs\", \"Ti3Al\", \"TiTe2\", \"TiMn2\", \"TiAl\", \"TiP2\", \"Ti6Sn5\", \"TiCu\", \"Ti5Sn3\", \"Ti5Si3\", \"TiZn3\", \"TiRe\", \"TiSb\", \"TiSe2\", \"Ti5Sb3\", \"TiI3\", \"TiZn16\", \"Ti3Pt\", \"Ti3Hg\", \"TiF3\", \"TiH2\", \"TiRh\", \"Ti3Cu4\", \"TiBe2\", \"TiOs\", \"TiFe\", \"TiCd\", \"Ti2Cd\", \"Ti2Ga\", \"Ti3Ga\", \"Ti2Ga3\", \"Ti3Pt5\", \"TiPt8\", \"Ti2Sn\", \"TiN\", \"Ti5Si4\", \"TiI4\", \"Ti3Ir\", \"TiO2\", \"TiAl2\", \"TiSb2\", \"TiCr2\", \"TiPt3\", \"Ti3Pd5\", \"TiCl3\", \"TiGa2\", \"TiRu\", \"TiCo3\", \"Ti2Sn3\", \"TiSi\", \"TiP\", \"Ti5Te4\", \"TiB\", \"TiCo\", \"Ti2N\", \"Ti3In\", \"Ti3Pb\", \"Ti2Ag\", \"Ti2ZnN\", \"TiZnN2\", \"TiTl2F6\", \"TiTeAs\", \"TiRh3\", \"TiTc\", \"TiNi3\", \"TiFe2Sn\", \"TiPbO3\", \"TiNiSb\", \"TiS2\", \"TiGaPt\", \"TiGa3\", \"TiGa\", \"Cs2TiCl6\", \"TiBrN\", \"Ti8C5\", \"MgTi2O5\", \"NaTi2O4\", \"Ti2Pd3\", \"Ti3AlC2\", \"CaTiO3\", \"Ti2O3\", \"SrTiO3\", \"TiAl3\", \"Ti3SiC2\", \"TiGe2\", \"Ti2Bi\", \"Cs3Ti2Cl9\", \"RbTiBr3\", \"Ti2S\", \"TiC\", \"TiSiRh\", \"Ti2Cu\", \"Sc2Ti2O7\", \"Li2TiF6\", \"Ti2CoRe\", \"TiFeSi\", \"TiZnIr2\", \"TiZnNi2\", \"Ti2NiIr\", \"Ti2RePd\", \"Ti2MoPt\", \"TiTc2Sb\", \"TiTc2W\", \"Ti2OsRu\", \"TiZnCo2\", \"TiVRe2\", \"TiGaPd2\", \"TiInPd2\", \"Ti2MnRh\", \"TaTiOs2\", \"SrTiN2\", \"LiTiS2\", \"TiS3\", \"TiPt\", \"Eu2TiO4\", \"TiCrP\", \"Ti6Si2B\", \"TiNiGe\", \"Ti2PbC\", \"TiCo2Sn\", \"TiNCl\", \"Na8Ti5O14\", \"Li2TiO3\", \"ZrTiAs\", \"TiAlFe2\", \"TiCo2Si\", \"Ti2CS\", \"MgTiO3\", \"K2TiF6\", \"TiCo2Ge\", \"SrTiO3\", \"BaTiO3\", \"YTiGe\", \"TiAsRh\", \"Ti2SbP\", \"ThTi2O6\", \"TiAlCo2\", \"SrTiO3\", \"Sr2TiO4\", \"Na4Ti5O12\", \"LiTi2O4\", \"Mg3(TiAl9)2\", \"TiAlNi2\", \"TiSnO3\", \"Mg2TiO4\", \"BaTiF6\", \"Ti2AlTc\", \"LiTiRh2\", \"TiMn2Al\", \"Ti2TcRh\", \"Ti2ReNi\", \"TiZnAu2\", \"Ti2MnOs\", \"Ti2MoIr\", \"Ti2TcIr\", \"Ti2TcNi\", \"TiVTc2\", \"Ti2ReRh\", \"TiBe2Ir\", \"TiFe2Si\", \"TiBeRh2\", \"TiBeCo2\", \"TiAlRh2\", \"CsTi6O12\", \"Ti6Al16Pt7\", \"TiGaPd\", \"Zr(TiGa2)2\", \"Lu(TiGa2)2\", \"Ti2InN\", \"TiSiRu\", \"Ti2AlC\", \"Ti3NiS6\", \"TiAlAu\", \"TiMnO3\", \"TiGaCo2\", \"TiCuSi\", \"TiFeSi2\", \"YTiSi\", \"Rb2TiCl6\", \"Ti(CuS)4\", \"TiGaNi2\", \"Ti2SnC\", \"TiAlCu2\", \"Ti2BRh6\", \"TiCoSb\", \"TiCdF6\", \"TiGaFe2\", \"Li4Ti5O12\", \"Ti2CoIr\", \"Ti2AlRe\", \"TaTiRu2\", \"TaTiTc2\", \"TiZnRh2\", \"Ti2MnFe\", \"MgTiIr2\", \"TiZnPd2\", \"TiNbRe2\", \"TiMn2W\", \"TiMn2V\", \"Ti2TcPt\", \"TiZnCu2\", \"TiGaIr2\", \"TiBeIr2\", \"TiAlRu2\", \"TiInRh2\", \"Ti2ZnTc\", \"TaTiMn2\", \"Li4TiO4\", \"TiNiSn\", \"TiFeTe\", \"TiSnPd\", \"LiTiPt2\", \"TiGePt\", \"Ti2ReB2\", \"Tm(TiGa2)2\", \"Ti2NiS4\", \"Ti2GaN\", \"Sr4TiN4\", \"TiPRu\", \"TiFeSb\", \"Ti3In3Rh2\", \"Ti2Te2P\", \"Ti2GaC\", \"TiGePd\", \"Ti2InC\", \"Ti3InC\", \"Ti3SnC2\", \"TiCoSi\", \"TiInCu2\", \"CaTiF6\", \"TiIN\", \"TiSnPt\", \"Ti3AlC\", \"Ba2TiO4\", \"Ca4TiN4\", \"NaTiS2\", \"Ti2AlMo\", \"Ti2CoTc\", \"MgTiRh2\", \"Ti6Al16Ni7\", \"TiAlPd2\", \"Ti2MnRu\", \"TiMnCo2\", \"TiInCo2\", \"Ti2NiMo\", \"TiMn2Si\", \"TiNbTc2\", \"TiRe2W\", \"TiReTc2\", \"TiSnPd2\", \"TiSiOs2\", \"TiSiRu2\", \"Ti2ReIr\", \"TiSnRu2\", \"TiGaRh2\", \"TiFe2Ge\", \"TaTiRe2\", \"Ti2IrW\", \"ScTiRu2\", \"Ti3ZnN\", \"TiCdO3\", \"RbTiS2\", \"TiNiO3\", \"TiCoGe\", \"CsTiBr3\", \"K2TiCl6\", \"TiGaNi\", \"Sr3Ti2O7\", \"Na2Ti3O7\", \"LiTiO2\", \"Ti2AlN\", \"TiSiNi\", \"TiCu2Te3\", \"TiAlPt\", \"BaTiO3\", \"Ti3SnH\", \"Ti3PdO\", \"Li(TiSe2)3\", \"Ti2CrIr\", \"Ti2FeIr\", \"Ti2MnBe\", \"PaTiTc2\", \"Ti2MnCo\", \"LiTiIr2\", \"TiAlOs2\", \"TiGaRu2\", \"TiMnRh2\", \"Ti2MnIr\", \"TiGeRu2\", \"Ti2TcRu\", \"TiSiTc2\", \"TiSnRh2\", \"Ti2MnNi\", \"Ti2TcOs\", \"AcTiO3\", \"Ti2TcPd\", \"Ti2ZnRe\", \"TiTc2Mo\", \"Ti2GeC\", \"Ti2CdC\", \"Na2Ti2As2O\", \"RbTiAsO5\", \"LiTiPO5\", \"Tb2Ti2S2O5\", \"TiGaFeCo\", \"Nd2Ti2S2O5\", \"Sm2Ti2S2O5\", \"Na2Ti2Sb2O\", \"TiAlFeCo\", \"KNaTiO3\", \"Cs2KTiF6\"], \"type\": \"scatter\", \"x\": [5.4624418431294846, 6.036542541370883, 7.340358574162901, 4.442034010283959, 14.162674008729564, 7.08866045352241, 4.557547483685545, 6.4129856237257545, 4.4397691684648475, 17.774770707590932, 4.48742509138872, 4.187247707142454, 5.571714611425473, 5.012926886778068, 13.171719999335542, 7.64811775237397, 15.866690660766688, 2.4788616197207776, 6.905202130563418, 6.204950157087049, 6.237410464246428, 6.386267555747635, 15.633596985294249, 9.261614828158567, 8.460278692613556, 5.725013960684072, 5.836287445057678, 4.24886855694461, 5.967718130581316, 6.901373874786948, 3.8339015516249924, 4.262085969423355, 6.8133915501839475, 6.4409362603173195, 6.425214777223388, 4.347039336035789, 6.697660334904412, 12.813423301491598, 6.344016707746623, 4.692579364547135, 6.533810701664811, 4.359640173734073, 7.014325083136486, 8.76669891569527, 8.13860497378146, 2.8243455697091604, 3.832731997844202, 8.321025415894498, 6.748300335520562, 3.293295530284812, 13.333766927112507, 6.642034495803114, 6.897648170834788, 6.215938143385086, 5.649651697567152, 5.416551057420764, 6.382990495806396, 14.802111278232545, 19.082725589745888, 6.451610572115688, 5.340297397189084, 4.25473535677054, 4.3668690052068415, 8.833383915301757, 3.6159400033700795, 3.536390535036478, 7.376419290265216, 6.234565438345089, 17.027464482463998, 8.90461162906226, 2.2774261271317386, 6.57508815436937, 8.419437219779311, 7.9485403294031345, 7.060315921097217, 4.224308672822326, 4.219611373656351, 6.385807170916716, 4.575880541341557, 6.714495214283375, 4.881545213711141, 5.888116238832343, 7.797411885162248, 6.468902592045046, 5.650048112061304, 4.766285536725132, 6.057885867720305, 6.769605729748634, 10.282251751785296, 8.076824961632303, 7.958129733816652, 8.367357755094483, 7.295112048795698, 7.23884154747617, 2.865289943255333, 11.147470113345912, 6.684291685114108, 6.1976826619748895, 2.963362008986589, 3.9395889679935796, 4.541437896810737, 3.5514942036147072, 4.03211265932668, 8.738526615651537, 4.20786317502239, 3.9404642801305276, 4.523578267557585, 4.962107562390343, 3.3657054463344656, 4.4749080984814436, 6.553899769932891, 7.998026445353696, 3.0401275593382264, 3.9356028008418735, 4.80268802739094, 4.87990698075401, 6.784636672305928, 5.72218027117513, 3.3381635201419226, 2.886520546058677, 9.912983598641455, 5.624878004168807, 14.313777243307232, 7.587307353396716, 10.01044668827803, 10.429398163398332, 10.298147656965556, 9.516408279480293, 11.693560622969297, 10.875791727030174, 7.7961961744060755, 13.403563577525125, 8.94388309728109, 9.226915698480555, 7.479172389493153, 16.24397965392071, 4.596150108497811, 3.0916934550698034, 2.940905884129678, 12.760333985989046, 7.235616986713232, 5.652777279831061, 4.44587873057504, 7.085254895184842, 8.250785346746342, 8.37544948678618, 2.9608482669353977, 3.284706044018789, 3.3362540106131995, 6.617444392928694, 6.253070135591179, 6.762597801805614, 4.634878108828932, 3.780006541137528, 2.847791097004868, 7.92660377274569, 4.972062045682436, 5.696967616676617, 5.469106490462338, 8.163513939030423, 5.683966259319116, 5.935302051965234, 6.450357762610031, 4.966121060316674, 4.8732527350303, 3.6017285684115445, 3.649565279447548, 2.7005341149603868, 6.253223227274053, 4.572232792498782, 3.429076180124355, 4.121344465635651, 5.893565944131917, 7.881916365009485, 5.794348410543372, 8.248625335895005, 9.791110986112407, 12.572718828222012, 10.009062644775774, 10.429707910141847, 10.735713796405204, 7.393032893959293, 8.4990653539188, 10.604352786731432, 9.34964352483046, 6.7581276538375015, 8.36609769340187, 6.639927873367532, 8.099626827042165, 4.196789423760888, 7.540646708451553, 8.02198898925839, 6.540822885695841, 7.4412713931789645, 6.37134824652084, 6.828651218841114, 3.993100999294839, 3.8664611998401566, 9.082770024482732, 4.465567989536367, 7.8648054325560715, 5.577715167561554, 5.1432356119067775, 4.422838633476582, 2.663452049836092, 4.546919933889982, 7.652008774211659, 6.244640756678336, 6.1437518525598, 9.69818028407914, 7.4161166432836785, 3.7878369425499465, 7.798866002382084, 3.383782954271181, 10.030921198382599, 8.24757087189734, 11.63238220857548, 11.265013084980856, 9.271396328551523, 6.549536522803793, 12.713547624267859, 8.93070996457023, 13.374318316308761, 10.694686868620503, 6.930633199021836, 10.533932931783644, 7.415148555046202, 14.131652491087628, 13.864523376237495, 8.111431846362592, 9.569856062042563, 7.030689430193968, 10.17393399198337, 2.49757315975166, 7.230096922996658, 7.544316549414458, 7.554322965866566, 12.60327472096375, 9.749869469337343, 8.962409925311519, 7.302528729539403, 4.152401887128523, 5.682010841432831, 4.468439931681672, 7.173677446230221, 7.055233350704827, 7.9926334816569184, 5.513174125224249, 5.332772544545805, 7.962521710594004, 6.063190462834159, 5.857246750937356, 5.906377007878856, 5.7176592376547415, 7.837531383584235, 2.307503291141096, 4.6374993284668715, 9.92580275031248, 4.14816071313334, 4.964862891634228, 3.0618782746735493, 3.025204167334896, 5.652812263160933, 7.508747467879704, 7.747610900390847, 4.564324365433942, 7.796983785633488, 7.4584229699071365, 7.350147535407575, 8.59380542640719, 7.112101516720644, 6.352313230944243, 8.908701471523768, 16.2597984805017, 11.967737648863498, 9.287622660242107, 13.727474303048396, 8.522604054233913, 13.065347486039514, 9.777327921746597, 9.27802116476737, 7.947002590025136, 15.710756052787996, 12.73920881877668, 7.862720991735482, 5.37890951833673, 5.633653361711024, 3.6465683952596106, 4.948071791584746, 7.1908569707582775, 4.114540726103568, 2.232695114770109, 6.991897317964257, 4.905953288475624, 3.345429369560711, 4.06672056516467, 4.264332410125586, 5.670689314807067, 6.5101162772345695, 9.656845071143279, 5.713375485281336, 5.997228901136887, 6.369330991445486, 4.1374015196762235, 9.760395641571574, 9.950049065017923, 5.074745986110234, 11.151404478968328, 6.6495117830951775, 13.243443555111606, 13.175580632904648, 9.306973852038315, 8.764975268637999, 10.07359046810324, 9.276389202020713, 8.257824485201251, 8.054004836705937, 9.592849021588956, 6.57826859307671, 10.690396169558037, 8.284647565044244, 8.11100510528375, 9.382320137636565, 9.323271653873626, 5.5647919328460915, 6.020726394251087, 3.984433553321344, 3.8322311394294086, 3.1065032453964494, 5.549563127057932, 7.852732359070375, 5.0129830860151126, 5.233540368196205, 4.601877729197639, 6.423142027062664, 2.95235584882722, 3.9151633204491088], \"y\": [0.1639185929850974, 0.17465114469285195, 0.22601427981911038, 0.18213033035592233, 0.24807917200765672, 0.14844111420265715, 0.13099301136756655, 0.1552981353489944, 0.13122955521003882, 0.14077963316526612, 0.1230849374375109, 0.5600231544369283, 0.18356435194439233, 0.3662168250314958, 0.14745125945292215, 0.1837705775343425, 0.26426114359978575, 0.11873385793604922, 0.15867571120480414, 0.14303956557615985, 0.2361187106085201, 0.25880676185737994, 0.19312379026173263, 0.13918080951660589, 0.19289837232119625, 0.15343497788015972, 0.10853808691682632, 0.13576534304262572, 0.24560134002423767, 0.12832829894847086, 0.11955719175912623, 0.09305754462454778, 0.1281181285961661, 0.17049395614150234, 0.13076198828624291, 0.12067629696043301, 0.18426369812102286, 0.13524886781535064, 0.11222376500406839, 0.15524101899102893, 0.1309597195217656, 0.17478120316718795, 0.18627145869938552, 0.15506859696804765, 0.22564620238272717, 0.11339197355557593, 0.11973066672060946, 0.1435665383511244, 0.17368930902922072, 0.1296722702846171, 0.13032742309620188, 0.1998886594219398, 0.20764917456044876, 0.1906293122472227, 0.1442288588506151, 0.14681722111185752, 0.13478875984974334, 0.14887068669919765, 0.14337611859712665, 0.13715709806737453, 0.1889358234178382, 0.1134867373079618, 0.1760162964046736, 0.15267440227901116, 0.527473341861237, 0.10800150231519788, 0.11247418630863018, 0.23601101145174302, 0.1480823064801181, 0.16233867133346433, 0.07604216235683961, 0.13243924066780063, 0.12927407530300686, 0.17657033375407374, 0.11630625457325387, 0.10876061772381987, 0.10586282105644254, 0.2522885639723213, 0.13507786185601123, 0.16990253225767665, 0.16669107259881275, 0.15425685591817223, 0.1832132310174751, 0.20186430554106263, 0.17633674378026387, 0.15311443277526152, 0.19956502809367532, 0.20928136125875543, 0.135165207417897, 0.14326790054127483, 0.16434861670166484, 0.18421765964796719, 0.4877818034136472, 0.1275434044249476, 0.1278256188500087, 0.1419501420045817, 0.12691367969074038, 0.14049427665918923, 0.2176201641543586, 0.10900276229467461, 0.13129340929417405, 0.5317634545223553, 0.6010653622581049, 0.16219827975864465, 0.12080369580176986, 0.5922932448248942, 0.5745173562529665, 0.6084334115282282, 0.10152895992103267, 0.11908903331575288, 0.13103062258540607, 0.15521201753073569, 0.21960112433143134, 0.19304600975828043, 0.18172294113911178, 0.13254814609406856, 0.1137446072215396, 0.1619308695657307, 0.4703273225058381, 0.17311316128871185, 0.15044112075312538, 0.1501576695810445, 0.1592116803445447, 0.17505037660259753, 0.15213341492326607, 0.14925276600970097, 0.1492887967888116, 0.13167097379665996, 0.12995482663470073, 0.12965591522173264, 0.18772422300201794, 0.12995416459871584, 0.15491008303989237, 0.1648933603103771, 0.14296272555980058, 0.11962854540467419, 0.24236080481823008, 0.1776784251954564, 0.13708989852209225, 0.1509596502551732, 0.5295032503663019, 0.17598031235210257, 0.12951650301583187, 0.14756095541362443, 0.17689840656814365, 0.15573428796784594, 0.10301189228761772, 0.5579126702515457, 0.6193674969856675, 0.12021999156166346, 0.18302227726688025, 0.14807287193487065, 0.16256540088694024, 0.5756631477737015, 0.2915855322037965, 0.16620613965967324, 0.6096539897106348, 0.6117577309956982, 0.14487910776752078, 0.1203244055936583, 0.11389151223978251, 0.5122070462696539, 0.1547169985725137, 0.6089255302912285, 0.566008522017582, 0.578808382381363, 0.5504742776928325, 0.09036410242626657, 0.14242779857361934, 0.3865067263318712, 0.5331708346280016, 0.20946939662790875, 0.1314144029664836, 0.16583310538204674, 0.1163411465266228, 0.1442832965705615, 0.14519036049025477, 0.23444023302567493, 0.13426412727622636, 0.1472562006172479, 0.14673184839946257, 0.15135615151453718, 0.13844130021812637, 0.139759328373166, 0.1348893338887807, 0.18300581412782066, 0.13256586983593813, 0.1658484569804471, 0.12756393487056028, 0.5818344453210997, 0.11204813142569545, 0.15020416826269373, 0.12847751992320747, 0.13642583095242092, 0.1657685224984901, 0.10353640110722764, 0.11738355380417329, 0.15685253391938575, 0.1812551106667073, 0.5147690148787912, 0.16547403144549316, 0.13380077907775537, 0.12595933635788817, 0.12858782690686527, 0.19639191093695943, 0.14790991515052387, 0.1533816924200279, 0.12759403292901528, 0.15564081865263307, 0.12791249189738124, 0.1344872726984684, 0.13988173817438185, 0.19699101657735282, 0.5579527275656979, 0.15586615298256923, 0.12827792892124104, 0.11893240659376417, 0.1327830730047903, 0.1558405427770336, 0.17020698849289723, 0.1509525479011244, 0.17347978398633668, 0.12441602270764168, 0.12742539392074806, 0.136788880312811, 0.14796710281816186, 0.186916291406347, 0.13861599630948956, 0.13619200311659224, 0.11102112505093871, 0.14905750117623906, 0.15911374962345054, 0.1298892584111125, 0.5204875095699774, 0.12911409052544734, 0.2797864537394527, 0.12533666855107262, 0.1707638810476957, 0.1243740132451421, 0.1292183051590566, 0.1458714319945559, 0.1617990526589595, 0.15370416027068876, 0.2683621693145904, 0.1079178614485961, 0.14279689597396342, 0.15028307048900788, 0.20860850877538947, 0.12897226386082103, 0.14872824669514756, 0.14383771008215315, 0.14810815620508558, 0.12899425080522056, 0.13139149812245873, 0.17405093231499572, 0.1211141363709712, 0.1817133411713443, 0.1184682979164383, 0.12537593240280195, 0.49365440630728835, 0.2205428709154235, 0.2002168501017248, 0.13098448326482023, 0.15720388320671286, 0.1462907557617573, 0.11683089848820409, 0.14612368717152077, 0.1342868168509619, 0.15102094074586983, 0.18200852864378247, 0.15092416784412746, 0.11384480827894115, 0.1324608036324706, 0.12165122589678566, 0.12602776290683979, 0.14829531096330847, 0.10506926250424861, 0.10458321203868266, 0.14213716375062913, 0.11820552562449746, 0.1363223499877667, 0.19972684237916302, 0.12474923118547479, 0.14534137903239383, 0.12698834517175672, 0.16942715413144652, 0.5399836872999884, 0.30535558495164666, 0.5672477875205336, 0.15444784960808247, 0.2125115672354883, 0.17436915177993062, 0.14626959340348458, 0.5821826987272434, 0.5310516106704863, 0.6319469468382815, 0.14107557034653057, 0.1254074766895259, 0.24174447464810028, 0.13057906194024474, 0.6135196578914586, 0.13932322134949449, 0.26935090255826144, 0.14753981070427305, 0.18206278900975875, 0.16811635255747065, 0.13735581290259294, 0.15155048554712566, 0.15697612740344413, 0.17052932964485687, 0.11204517624410053, 0.1200064026761003, 0.12302834285967139, 0.14493503214062178, 0.11980397392675307, 0.13653306408720495, 0.11886885757210923, 0.13103693732673757, 0.1516399195123115, 0.13683394985179628, 0.5579068914411596, 0.1533395310145402, 0.15526128772960102, 0.13144325466944148, 0.13377354324291799, 0.17643193819269415, 0.22655879771044682, 0.5191913794230536, 0.544310065076201, 0.3637454129460663, 0.18156565862394278, 0.40114378488442015, 0.39838919199647377, 0.2170254001297836, 0.1707558408601182, 0.5512551762515505, 0.3827921235243972]}, {\"marker\": {\"color\": \"green\", \"size\": 18}, \"mode\": \"markers\", \"name\": \"TiC\", \"text\": \"TiC\", \"type\": \"scatter\", \"x\": [4.87990698075401], \"y\": [0.13254814609406856]}, {\"marker\": {\"color\": \"blue\", \"size\": 18}, \"mode\": \"markers\", \"name\": \"TiN\", \"text\": \"TiN\", \"type\": \"scatter\", \"x\": [5.340297397189084], \"y\": [0.1889358234178382]}, {\"marker\": {\"color\": \"orange\", \"size\": 18}, \"mode\": \"markers\", \"name\": \"TiB\", \"text\": \"TiB\", \"type\": \"scatter\", \"x\": [4.575880541341557], \"y\": [0.13507786185601123]}, {\"marker\": {\"color\": \"magenta\", \"size\": 18}, \"mode\": \"markers\", \"name\": \"TiO2\", \"text\": \"TiO2\", \"type\": \"scatter\", \"x\": [3.6159400033700795], \"y\": [0.527473341861237]}],\n",
       "                        {\"font\": {\"family\": \"Times New Roman\", \"size\": 18}, \"height\": 600, \"hovermode\": \"closest\", \"showlegend\": true, \"template\": {\"data\": {\"bar\": [{\"error_x\": {\"color\": \"#2a3f5f\"}, \"error_y\": {\"color\": \"#2a3f5f\"}, \"marker\": {\"line\": {\"color\": \"#E5ECF6\", \"width\": 0.5}}, \"type\": \"bar\"}], \"barpolar\": [{\"marker\": {\"line\": {\"color\": \"#E5ECF6\", \"width\": 0.5}}, \"type\": \"barpolar\"}], \"carpet\": [{\"aaxis\": {\"endlinecolor\": \"#2a3f5f\", \"gridcolor\": \"white\", \"linecolor\": \"white\", \"minorgridcolor\": \"white\", \"startlinecolor\": \"#2a3f5f\"}, \"baxis\": {\"endlinecolor\": \"#2a3f5f\", \"gridcolor\": \"white\", \"linecolor\": \"white\", \"minorgridcolor\": \"white\", \"startlinecolor\": \"#2a3f5f\"}, \"type\": \"carpet\"}], \"choropleth\": [{\"colorbar\": {\"outlinewidth\": 0, \"ticks\": \"\"}, \"type\": \"choropleth\"}], \"contour\": [{\"colorbar\": {\"outlinewidth\": 0, \"ticks\": \"\"}, \"colorscale\": [[0.0, \"#0d0887\"], [0.1111111111111111, \"#46039f\"], [0.2222222222222222, \"#7201a8\"], [0.3333333333333333, \"#9c179e\"], [0.4444444444444444, \"#bd3786\"], [0.5555555555555556, \"#d8576b\"], [0.6666666666666666, \"#ed7953\"], [0.7777777777777778, \"#fb9f3a\"], [0.8888888888888888, \"#fdca26\"], [1.0, \"#f0f921\"]], \"type\": \"contour\"}], \"contourcarpet\": [{\"colorbar\": {\"outlinewidth\": 0, \"ticks\": \"\"}, \"type\": \"contourcarpet\"}], \"heatmap\": [{\"colorbar\": {\"outlinewidth\": 0, \"ticks\": \"\"}, \"colorscale\": [[0.0, \"#0d0887\"], [0.1111111111111111, \"#46039f\"], [0.2222222222222222, \"#7201a8\"], [0.3333333333333333, \"#9c179e\"], [0.4444444444444444, \"#bd3786\"], [0.5555555555555556, \"#d8576b\"], [0.6666666666666666, \"#ed7953\"], [0.7777777777777778, \"#fb9f3a\"], [0.8888888888888888, \"#fdca26\"], [1.0, \"#f0f921\"]], \"type\": \"heatmap\"}], \"heatmapgl\": [{\"colorbar\": {\"outlinewidth\": 0, \"ticks\": \"\"}, \"colorscale\": [[0.0, \"#0d0887\"], [0.1111111111111111, \"#46039f\"], [0.2222222222222222, \"#7201a8\"], [0.3333333333333333, \"#9c179e\"], [0.4444444444444444, \"#bd3786\"], [0.5555555555555556, \"#d8576b\"], [0.6666666666666666, \"#ed7953\"], [0.7777777777777778, \"#fb9f3a\"], [0.8888888888888888, \"#fdca26\"], [1.0, \"#f0f921\"]], \"type\": \"heatmapgl\"}], \"histogram\": [{\"marker\": {\"colorbar\": {\"outlinewidth\": 0, \"ticks\": \"\"}}, \"type\": \"histogram\"}], \"histogram2d\": [{\"colorbar\": {\"outlinewidth\": 0, \"ticks\": \"\"}, \"colorscale\": [[0.0, \"#0d0887\"], [0.1111111111111111, \"#46039f\"], [0.2222222222222222, \"#7201a8\"], [0.3333333333333333, \"#9c179e\"], [0.4444444444444444, \"#bd3786\"], [0.5555555555555556, \"#d8576b\"], [0.6666666666666666, \"#ed7953\"], [0.7777777777777778, \"#fb9f3a\"], [0.8888888888888888, \"#fdca26\"], [1.0, \"#f0f921\"]], \"type\": \"histogram2d\"}], \"histogram2dcontour\": [{\"colorbar\": {\"outlinewidth\": 0, \"ticks\": \"\"}, \"colorscale\": [[0.0, \"#0d0887\"], [0.1111111111111111, \"#46039f\"], [0.2222222222222222, \"#7201a8\"], [0.3333333333333333, \"#9c179e\"], [0.4444444444444444, \"#bd3786\"], [0.5555555555555556, \"#d8576b\"], [0.6666666666666666, \"#ed7953\"], [0.7777777777777778, \"#fb9f3a\"], [0.8888888888888888, \"#fdca26\"], [1.0, \"#f0f921\"]], \"type\": \"histogram2dcontour\"}], \"mesh3d\": [{\"colorbar\": {\"outlinewidth\": 0, \"ticks\": \"\"}, \"type\": \"mesh3d\"}], \"parcoords\": [{\"line\": {\"colorbar\": {\"outlinewidth\": 0, \"ticks\": \"\"}}, \"type\": \"parcoords\"}], \"pie\": [{\"automargin\": true, \"type\": \"pie\"}], \"scatter\": [{\"marker\": {\"colorbar\": {\"outlinewidth\": 0, \"ticks\": \"\"}}, \"type\": \"scatter\"}], \"scatter3d\": [{\"line\": {\"colorbar\": {\"outlinewidth\": 0, \"ticks\": \"\"}}, \"marker\": {\"colorbar\": {\"outlinewidth\": 0, \"ticks\": \"\"}}, \"type\": \"scatter3d\"}], \"scattercarpet\": [{\"marker\": {\"colorbar\": {\"outlinewidth\": 0, \"ticks\": \"\"}}, \"type\": \"scattercarpet\"}], \"scattergeo\": [{\"marker\": {\"colorbar\": {\"outlinewidth\": 0, \"ticks\": \"\"}}, \"type\": \"scattergeo\"}], \"scattergl\": [{\"marker\": {\"colorbar\": {\"outlinewidth\": 0, \"ticks\": \"\"}}, \"type\": \"scattergl\"}], \"scattermapbox\": [{\"marker\": {\"colorbar\": {\"outlinewidth\": 0, \"ticks\": \"\"}}, \"type\": \"scattermapbox\"}], \"scatterpolar\": [{\"marker\": {\"colorbar\": {\"outlinewidth\": 0, \"ticks\": \"\"}}, \"type\": \"scatterpolar\"}], \"scatterpolargl\": [{\"marker\": {\"colorbar\": {\"outlinewidth\": 0, \"ticks\": \"\"}}, \"type\": \"scatterpolargl\"}], \"scatterternary\": [{\"marker\": {\"colorbar\": {\"outlinewidth\": 0, \"ticks\": \"\"}}, \"type\": \"scatterternary\"}], \"surface\": [{\"colorbar\": {\"outlinewidth\": 0, \"ticks\": \"\"}, \"colorscale\": [[0.0, \"#0d0887\"], [0.1111111111111111, \"#46039f\"], [0.2222222222222222, \"#7201a8\"], [0.3333333333333333, \"#9c179e\"], [0.4444444444444444, \"#bd3786\"], [0.5555555555555556, \"#d8576b\"], [0.6666666666666666, \"#ed7953\"], [0.7777777777777778, \"#fb9f3a\"], [0.8888888888888888, \"#fdca26\"], [1.0, \"#f0f921\"]], \"type\": \"surface\"}], \"table\": [{\"cells\": {\"fill\": {\"color\": \"#EBF0F8\"}, \"line\": {\"color\": \"white\"}}, \"header\": {\"fill\": {\"color\": \"#C8D4E3\"}, \"line\": {\"color\": \"white\"}}, \"type\": \"table\"}]}, \"layout\": {\"annotationdefaults\": {\"arrowcolor\": \"#2a3f5f\", \"arrowhead\": 0, \"arrowwidth\": 1}, \"coloraxis\": {\"colorbar\": {\"outlinewidth\": 0, \"ticks\": \"\"}}, \"colorscale\": {\"diverging\": [[0, \"#8e0152\"], [0.1, \"#c51b7d\"], [0.2, \"#de77ae\"], [0.3, \"#f1b6da\"], [0.4, \"#fde0ef\"], [0.5, \"#f7f7f7\"], [0.6, \"#e6f5d0\"], [0.7, \"#b8e186\"], [0.8, \"#7fbc41\"], [0.9, \"#4d9221\"], [1, \"#276419\"]], \"sequential\": [[0.0, \"#0d0887\"], [0.1111111111111111, \"#46039f\"], [0.2222222222222222, \"#7201a8\"], [0.3333333333333333, \"#9c179e\"], [0.4444444444444444, \"#bd3786\"], [0.5555555555555556, \"#d8576b\"], [0.6666666666666666, \"#ed7953\"], [0.7777777777777778, \"#fb9f3a\"], [0.8888888888888888, \"#fdca26\"], [1.0, \"#f0f921\"]], \"sequentialminus\": [[0.0, \"#0d0887\"], [0.1111111111111111, \"#46039f\"], [0.2222222222222222, \"#7201a8\"], [0.3333333333333333, \"#9c179e\"], [0.4444444444444444, \"#bd3786\"], [0.5555555555555556, \"#d8576b\"], [0.6666666666666666, \"#ed7953\"], [0.7777777777777778, \"#fb9f3a\"], [0.8888888888888888, \"#fdca26\"], [1.0, \"#f0f921\"]]}, \"colorway\": [\"#636efa\", \"#EF553B\", \"#00cc96\", \"#ab63fa\", \"#FFA15A\", \"#19d3f3\", \"#FF6692\", \"#B6E880\", \"#FF97FF\", \"#FECB52\"], \"font\": {\"color\": \"#2a3f5f\"}, \"geo\": {\"bgcolor\": \"white\", \"lakecolor\": \"white\", \"landcolor\": \"#E5ECF6\", \"showlakes\": true, \"showland\": true, \"subunitcolor\": \"white\"}, \"hoverlabel\": {\"align\": \"left\"}, \"hovermode\": \"closest\", \"mapbox\": {\"style\": \"light\"}, \"paper_bgcolor\": \"white\", \"plot_bgcolor\": \"#E5ECF6\", \"polar\": {\"angularaxis\": {\"gridcolor\": \"white\", \"linecolor\": \"white\", \"ticks\": \"\"}, \"bgcolor\": \"#E5ECF6\", \"radialaxis\": {\"gridcolor\": \"white\", \"linecolor\": \"white\", \"ticks\": \"\"}}, \"scene\": {\"xaxis\": {\"backgroundcolor\": \"#E5ECF6\", \"gridcolor\": \"white\", \"gridwidth\": 2, \"linecolor\": \"white\", \"showbackground\": true, \"ticks\": \"\", \"zerolinecolor\": \"white\"}, \"yaxis\": {\"backgroundcolor\": \"#E5ECF6\", \"gridcolor\": \"white\", \"gridwidth\": 2, \"linecolor\": \"white\", \"showbackground\": true, \"ticks\": \"\", \"zerolinecolor\": \"white\"}, \"zaxis\": {\"backgroundcolor\": \"#E5ECF6\", \"gridcolor\": \"white\", \"gridwidth\": 2, \"linecolor\": \"white\", \"showbackground\": true, \"ticks\": \"\", \"zerolinecolor\": \"white\"}}, \"shapedefaults\": {\"line\": {\"color\": \"#2a3f5f\"}}, \"ternary\": {\"aaxis\": {\"gridcolor\": \"white\", \"linecolor\": \"white\", \"ticks\": \"\"}, \"baxis\": {\"gridcolor\": \"white\", \"linecolor\": \"white\", \"ticks\": \"\"}, \"bgcolor\": \"#E5ECF6\", \"caxis\": {\"gridcolor\": \"white\", \"linecolor\": \"white\", \"ticks\": \"\"}}, \"title\": {\"x\": 0.05}, \"xaxis\": {\"automargin\": true, \"gridcolor\": \"white\", \"linecolor\": \"white\", \"ticks\": \"\", \"title\": {\"standoff\": 15}, \"zerolinecolor\": \"white\", \"zerolinewidth\": 2}, \"yaxis\": {\"automargin\": true, \"gridcolor\": \"white\", \"linecolor\": \"white\", \"ticks\": \"\", \"title\": {\"standoff\": 15}, \"zerolinecolor\": \"white\", \"zerolinewidth\": 2}}}, \"title\": {\"text\": \"Ti_based Query IPF vs. Density\"}, \"width\": 1200, \"xaxis\": {\"gridwidth\": 2, \"title\": {\"text\": \"$Density \\\\: [g/cm^{3}]$\"}, \"zeroline\": false}, \"yaxis\": {\"gridwidth\": 2, \"title\": {\"text\": \"$Ionic Packing Fraction \\\\: [IPF]$\"}, \"zeroline\": false}},\n",
       "                        {\"responsive\": true}\n",
       "                    ).then(function(){\n",
       "                            \n",
       "var gd = document.getElementById('44012be3-7cb7-4d0b-bf90-a927a66971d1');\n",
       "var x = new MutationObserver(function (mutations, observer) {{\n",
       "        var display = window.getComputedStyle(gd).display;\n",
       "        if (!display || display === 'none') {{\n",
       "            console.log([gd, 'removed!']);\n",
       "            Plotly.purge(gd);\n",
       "            observer.disconnect();\n",
       "        }}\n",
       "}});\n",
       "\n",
       "// Listen for the removal of the full notebook cells\n",
       "var notebookContainer = gd.closest('#notebook-container');\n",
       "if (notebookContainer) {{\n",
       "    x.observe(notebookContainer, {childList: true});\n",
       "}}\n",
       "\n",
       "// Listen for the clearing of the current output cell\n",
       "var outputEl = gd.closest('.output');\n",
       "if (outputEl) {{\n",
       "    x.observe(outputEl, {childList: true});\n",
       "}}\n",
       "\n",
       "                        })\n",
       "                };\n",
       "                });\n",
       "            </script>\n",
       "        </div>"
      ]
     },
     "metadata": {},
     "output_type": "display_data"
    }
   ],
   "source": [
    "#Layout design. Can change title, font, x/y-axis etc. Commented out pieces are height and width. For plot in browser I prefer long horizontal plots. For presentations square images may be preferred. \n",
    "#Image can be directly saved by hovering over image and clicking camera icon. \n",
    "import plotly\n",
    "import plotly.graph_objs as go\n",
    "from plotly.offline import iplot\n",
    "\n",
    "layout_IPF = go.Layout(title= \"Ti_based Query IPF vs. Density\", hovermode= 'closest',\n",
    "                   font = dict(family='Times New Roman',size=18),\n",
    "                   xaxis= dict(title= '$Density \\: [g/cm^{3}]$',zeroline= False, gridwidth= 2),\n",
    "                   yaxis= dict(title= '$Ionic Packing Fraction \\: [IPF]$',zeroline= False, gridwidth= 2),\n",
    "                   height = 600,\n",
    "                   width = 1200,\n",
    "     showlegend= True                \n",
    ")\n",
    "\n",
    "#Scatter plot of collected data. Use df_oxide_all dataframe. df_oxide_all.Density will pull density column. Could change Density or IPF to Molar Volume or simply volume if you wanted.\n",
    "trace_all = go.Scatter(x = df_oxide.Density, y = df_oxide.IPF, mode = 'markers',\n",
    "                    marker=dict(size=12, color='black'), text = df_oxide.Formula, name = 'All Queries')\n",
    "\n",
    "trace_TiC = go.Scatter(x = df_oxide[(df_oxide.Formula == 'TiC') & (df_oxide.E_above_Hull == 0)].loc[:,'Density'],\n",
    "                         y = df_oxide[(df_oxide.Formula == 'TiC') & (df_oxide.E_above_Hull == 0)].loc[:,'IPF'],\n",
    "                         mode = 'markers', marker=dict(size=18, color='green'), text = 'TiC', name = 'TiC')\n",
    "trace_TiN = go.Scatter(x = df_oxide[(df_oxide.Formula == 'TiN') & (df_oxide.E_above_Hull == 0)].loc[:,'Density'],\n",
    "                         y = df_oxide[(df_oxide.Formula == 'TiN') & (df_oxide.E_above_Hull == 0)].loc[:,'IPF'],\n",
    "                         mode = 'markers', marker=dict(size=18, color='blue'), text = 'TiN', name = 'TiN')\n",
    "trace_TiB = go.Scatter(x = df_oxide[(df_oxide.Formula == 'TiB') & (df_oxide.E_above_Hull == 0)].loc[:,'Density'],\n",
    "                        y = df_oxide[(df_oxide.Formula == 'TiB') & (df_oxide.E_above_Hull == 0)].loc[:,'IPF'],\n",
    "                        mode = 'markers', marker=dict(size=18, color='orange'), text = 'TiB', name = 'TiB')\n",
    "trace_TiO2 = go.Scatter(x = df_oxide[(df_oxide.Formula == 'TiO2') & (df_oxide.E_above_Hull == 0)].loc[:,'Density'],\n",
    "                        y = df_oxide[(df_oxide.Formula == 'TiO2') & (df_oxide.E_above_Hull == 0)].loc[:,'IPF'],\n",
    "                        mode = 'markers', marker=dict(size=18, color='magenta'), text = 'TiO2', name = 'TiO2')\n",
    "\n",
    "data_IPF = [trace_all,trace_TiC,trace_TiN,trace_TiB,trace_TiO2]\n",
    "fig_IPF = go.Figure(data_IPF, layout=layout_IPF)\n",
    "iplot(fig_IPF)"
   ]
  },
  {
   "cell_type": "markdown",
   "metadata": {},
   "source": [
    "### 3.3.2 Plot material properties from dataframe using 3rd property as color key"
   ]
  },
  {
   "cell_type": "code",
   "execution_count": 19,
   "metadata": {},
   "outputs": [
    {
     "data": {
      "application/vnd.plotly.v1+json": {
       "config": {
        "linkText": "Export to plot.ly",
        "plotlyServerURL": "https://plot.ly",
        "showLink": false
       },
       "data": [
        {
         "marker": {
          "color": [
           0.29,
           0.29,
           0.36,
           0.21,
           0.57,
           0.28,
           0.14,
           0.38,
           0.26,
           0.27,
           0.13,
           0.31,
           0.27,
           0.26,
           0.34,
           0.34,
           0.38,
           0.09,
           0.31,
           0.4,
           0.33,
           0.24,
           0.15,
           0.34,
           0.28,
           0.38,
           0.25,
           0.27,
           0.21,
           0.37,
           0.25,
           0.22,
           0.28,
           0.3,
           0.3,
           0.22,
           0.38,
           0.36,
           0.28,
           0.2,
           0.32,
           0.28,
           0.34,
           0.34,
           0.26,
           0.31,
           0.43,
           0.38,
           0.3,
           0.17,
           0.27,
           0.29,
           0.39,
           0.34,
           0.28,
           0.3,
           0.2,
           0.34,
           0.34,
           0.28,
           0.22,
           0.23,
           0.24,
           0.46,
           0.35,
           0.2,
           0.25,
           0.33,
           0.3,
           0.38,
           0.28,
           0.23,
           0.28,
           0.31,
           0.27,
           0.22,
           0.23,
           0.27,
           0.15,
           0.33,
           0.26,
           0.32,
           0.42,
           0.33,
           0.23,
           0.34,
           0.37,
           0.18,
           0.26,
           0.34,
           0.28,
           0.26,
           0.24,
           0.31,
           0.19,
           0.34,
           0.2,
           0.24,
           0.27,
           0.27,
           0.22,
           0.31,
           0.27,
           0.37,
           0.19,
           0.25,
           0.32,
           0.24,
           0.18,
           0.2,
           0.2,
           0.36,
           0.26,
           0.32,
           0.26,
           0.22,
           0.3,
           0.31,
           0.34,
           0.25,
           0.29,
           0.25,
           0.3,
           0.37,
           0.47,
           0.33,
           0.3,
           0.31,
           0.29,
           0.28,
           0.3,
           0.3,
           0.48,
           0.46,
           0.31,
           0.33,
           0.32,
           0.21,
           0.25,
           0.46,
           0.26,
           0.25,
           0.22,
           0.27,
           0.25,
           0.31,
           0.22,
           0.26,
           0.23,
           0.28,
           0.26,
           0.31,
           0.2,
           0.28,
           0.32,
           0.31,
           0.25,
           0.31,
           0.26,
           0.31,
           0.24,
           0.32,
           0.28,
           0.25,
           0.25,
           0.3,
           0.29,
           0.23,
           0.34,
           0.21,
           0.29,
           0.31,
           0.33,
           0.32,
           0.27,
           0.3,
           0.32,
           0.41,
           0.31,
           0.32,
           0.28,
           0.32,
           0.32,
           0.3,
           0.34,
           0.24,
           0.3,
           0.28,
           0.51,
           0.3,
           0.32,
           0.33,
           0.24,
           0.25,
           0.24,
           0.28,
           0.18,
           0.23,
           0.3,
           0.32,
           0.32,
           0.28,
           0.24,
           0.27,
           0.29,
           0.29,
           0.39,
           0.22,
           0.3,
           0.29,
           0.27,
           0,
           0.28,
           0.27,
           0.35,
           0.32,
           0.35,
           0.31,
           0.31,
           0.31,
           0.27,
           0.5,
           0.3,
           0.29,
           0.31,
           0.33,
           0.35,
           0.32,
           0.28,
           0.32,
           0.87,
           0.36,
           0.32,
           0.27,
           0.27,
           0.28,
           0.23,
           0.4,
           0.34,
           0.2,
           0.26,
           0.23,
           0.22,
           0.3,
           0.3,
           0.3,
           0.3,
           0.22,
           0.19,
           0.3,
           0.2,
           0.24,
           0.21,
           0.27,
           0.33,
           0.29,
           0.2,
           0.32,
           0.23,
           0.3,
           0.29,
           0.21,
           0.37,
           0.29,
           0.3,
           0.22,
           0.41,
           0.31,
           0.3,
           0.31,
           0.3,
           0.28,
           0.31,
           0.28,
           0.3,
           0.56,
           0.29,
           0.27,
           0.29,
           0.27,
           0.63,
           0.25,
           0.31,
           0.3,
           0.35,
           0.24,
           0.35,
           0.25,
           0.3,
           0.3,
           0.3,
           0.31,
           0.3,
           0.25,
           0.31,
           0.21,
           0.2,
           0.25,
           0.24,
           0.36,
           0.26,
           0.4,
           0.38,
           0.23,
           0.32,
           0.33,
           0.34,
           0.36,
           0.3,
           0.32,
           0.31,
           0.32,
           0.33,
           0.3,
           0.28,
           0.3,
           0.33,
           0.33,
           0.33,
           0.31,
           0.31,
           0.34,
           0.33,
           0.3,
           0.22,
           0.29,
           0.39,
           0.26,
           0.25,
           0.31,
           0.26,
           0.31,
           0.31,
           0.34,
           0.21,
           0.3,
           1.01
          ],
          "colorbar": {
           "tickfont": {
            "family": "Georgia",
            "size": 16
           },
           "title": {
            "font": {
             "family": "Georgia",
             "size": 18
            },
            "text": "Poisson Ratio"
           }
          },
          "size": 12
         },
         "mode": "markers",
         "text": [
          "Ti2Zn",
          "TiZn",
          "TiAg",
          "TiS",
          "TiAu2",
          "Ti2Rh",
          "Ti3B4",
          "TiNi",
          "Ti2C",
          "TiIr3",
          "TiB2",
          "Ti3O5",
          "Ti5Se4",
          "Ti2O",
          "TiIr",
          "TiCu3",
          "TiAu4",
          "Ti2Be17",
          "Ti2Pd",
          "Ti3Sb",
          "TiCr2",
          "Ti3Te4",
          "U2Ti",
          "Ti3Rh5",
          "Ti3Au",
          "Ti2Ni",
          "TiAs",
          "Ti3Al",
          "TiTe2",
          "TiMn2",
          "TiAl",
          "TiP2",
          "Ti6Sn5",
          "TiCu",
          "Ti5Sn3",
          "Ti5Si3",
          "TiZn3",
          "TiRe",
          "TiSb",
          "TiSe2",
          "Ti5Sb3",
          "TiI3",
          "TiZn16",
          "Ti3Pt",
          "Ti3Hg",
          "TiF3",
          "TiH2",
          "TiRh",
          "Ti3Cu4",
          "TiBe2",
          "TiOs",
          "TiFe",
          "TiCd",
          "Ti2Cd",
          "Ti2Ga",
          "Ti3Ga",
          "Ti2Ga3",
          "Ti3Pt5",
          "TiPt8",
          "Ti2Sn",
          "TiN",
          "Ti5Si4",
          "TiI4",
          "Ti3Ir",
          "TiO2",
          "TiAl2",
          "TiSb2",
          "TiCr2",
          "TiPt3",
          "Ti3Pd5",
          "TiCl3",
          "TiGa2",
          "TiRu",
          "TiCo3",
          "Ti2Sn3",
          "TiSi",
          "TiP",
          "Ti5Te4",
          "TiB",
          "TiCo",
          "Ti2N",
          "Ti3In",
          "Ti3Pb",
          "Ti2Ag",
          "Ti2ZnN",
          "TiZnN2",
          "TiTl2F6",
          "TiTeAs",
          "TiRh3",
          "TiTc",
          "TiNi3",
          "TiFe2Sn",
          "TiPbO3",
          "TiNiSb",
          "TiS2",
          "TiGaPt",
          "TiGa3",
          "TiGa",
          "Cs2TiCl6",
          "TiBrN",
          "Ti8C5",
          "MgTi2O5",
          "NaTi2O4",
          "Ti2Pd3",
          "Ti3AlC2",
          "CaTiO3",
          "Ti2O3",
          "SrTiO3",
          "TiAl3",
          "Ti3SiC2",
          "TiGe2",
          "Ti2Bi",
          "Cs3Ti2Cl9",
          "RbTiBr3",
          "Ti2S",
          "TiC",
          "TiSiRh",
          "Ti2Cu",
          "Sc2Ti2O7",
          "Li2TiF6",
          "Ti2CoRe",
          "TiFeSi",
          "TiZnIr2",
          "TiZnNi2",
          "Ti2NiIr",
          "Ti2RePd",
          "Ti2MoPt",
          "TiTc2Sb",
          "TiTc2W",
          "Ti2OsRu",
          "TiZnCo2",
          "TiVRe2",
          "TiGaPd2",
          "TiInPd2",
          "Ti2MnRh",
          "TaTiOs2",
          "SrTiN2",
          "LiTiS2",
          "TiS3",
          "TiPt",
          "Eu2TiO4",
          "TiCrP",
          "Ti6Si2B",
          "TiNiGe",
          "Ti2PbC",
          "TiCo2Sn",
          "TiNCl",
          "Na8Ti5O14",
          "Li2TiO3",
          "ZrTiAs",
          "TiAlFe2",
          "TiCo2Si",
          "Ti2CS",
          "MgTiO3",
          "K2TiF6",
          "TiCo2Ge",
          "SrTiO3",
          "BaTiO3",
          "YTiGe",
          "TiAsRh",
          "Ti2SbP",
          "ThTi2O6",
          "TiAlCo2",
          "SrTiO3",
          "Sr2TiO4",
          "Na4Ti5O12",
          "LiTi2O4",
          "Mg3(TiAl9)2",
          "TiAlNi2",
          "TiSnO3",
          "Mg2TiO4",
          "BaTiF6",
          "Ti2AlTc",
          "LiTiRh2",
          "TiMn2Al",
          "Ti2TcRh",
          "Ti2ReNi",
          "TiZnAu2",
          "Ti2MnOs",
          "Ti2MoIr",
          "Ti2TcIr",
          "Ti2TcNi",
          "TiVTc2",
          "Ti2ReRh",
          "TiBe2Ir",
          "TiFe2Si",
          "TiBeRh2",
          "TiBeCo2",
          "TiAlRh2",
          "CsTi6O12",
          "Ti6Al16Pt7",
          "TiGaPd",
          "Zr(TiGa2)2",
          "Lu(TiGa2)2",
          "Ti2InN",
          "TiSiRu",
          "Ti2AlC",
          "Ti3NiS6",
          "TiAlAu",
          "TiMnO3",
          "TiGaCo2",
          "TiCuSi",
          "TiFeSi2",
          "YTiSi",
          "Rb2TiCl6",
          "Ti(CuS)4",
          "TiGaNi2",
          "Ti2SnC",
          "TiAlCu2",
          "Ti2BRh6",
          "TiCoSb",
          "TiCdF6",
          "TiGaFe2",
          "Li4Ti5O12",
          "Ti2CoIr",
          "Ti2AlRe",
          "TaTiRu2",
          "TaTiTc2",
          "TiZnRh2",
          "Ti2MnFe",
          "MgTiIr2",
          "TiZnPd2",
          "TiNbRe2",
          "TiMn2W",
          "TiMn2V",
          "Ti2TcPt",
          "TiZnCu2",
          "TiGaIr2",
          "TiBeIr2",
          "TiAlRu2",
          "TiInRh2",
          "Ti2ZnTc",
          "TaTiMn2",
          "Li4TiO4",
          "TiNiSn",
          "TiFeTe",
          "TiSnPd",
          "LiTiPt2",
          "TiGePt",
          "Ti2ReB2",
          "Tm(TiGa2)2",
          "Ti2NiS4",
          "Ti2GaN",
          "Sr4TiN4",
          "TiPRu",
          "TiFeSb",
          "Ti3In3Rh2",
          "Ti2Te2P",
          "Ti2GaC",
          "TiGePd",
          "Ti2InC",
          "Ti3InC",
          "Ti3SnC2",
          "TiCoSi",
          "TiInCu2",
          "CaTiF6",
          "TiIN",
          "TiSnPt",
          "Ti3AlC",
          "Ba2TiO4",
          "Ca4TiN4",
          "NaTiS2",
          "Ti2AlMo",
          "Ti2CoTc",
          "MgTiRh2",
          "Ti6Al16Ni7",
          "TiAlPd2",
          "Ti2MnRu",
          "TiMnCo2",
          "TiInCo2",
          "Ti2NiMo",
          "TiMn2Si",
          "TiNbTc2",
          "TiRe2W",
          "TiReTc2",
          "TiSnPd2",
          "TiSiOs2",
          "TiSiRu2",
          "Ti2ReIr",
          "TiSnRu2",
          "TiGaRh2",
          "TiFe2Ge",
          "TaTiRe2",
          "Ti2IrW",
          "ScTiRu2",
          "Ti3ZnN",
          "TiCdO3",
          "RbTiS2",
          "TiNiO3",
          "TiCoGe",
          "CsTiBr3",
          "K2TiCl6",
          "TiGaNi",
          "Sr3Ti2O7",
          "Na2Ti3O7",
          "LiTiO2",
          "Ti2AlN",
          "TiSiNi",
          "TiCu2Te3",
          "TiAlPt",
          "BaTiO3",
          "Ti3SnH",
          "Ti3PdO",
          "Li(TiSe2)3",
          "Ti2CrIr",
          "Ti2FeIr",
          "Ti2MnBe",
          "PaTiTc2",
          "Ti2MnCo",
          "LiTiIr2",
          "TiAlOs2",
          "TiGaRu2",
          "TiMnRh2",
          "Ti2MnIr",
          "TiGeRu2",
          "Ti2TcRu",
          "TiSiTc2",
          "TiSnRh2",
          "Ti2MnNi",
          "Ti2TcOs",
          "AcTiO3",
          "Ti2TcPd",
          "Ti2ZnRe",
          "TiTc2Mo",
          "Ti2GeC",
          "Ti2CdC",
          "Na2Ti2As2O",
          "RbTiAsO5",
          "LiTiPO5",
          "Tb2Ti2S2O5",
          "TiGaFeCo",
          "Nd2Ti2S2O5",
          "Sm2Ti2S2O5",
          "Na2Ti2Sb2O",
          "TiAlFeCo",
          "KNaTiO3",
          "Cs2KTiF6"
         ],
         "type": "scatter",
         "x": [
          47,
          56,
          35,
          101,
          17,
          82,
          213,
          38,
          78,
          162,
          253,
          76,
          46,
          106,
          81,
          51,
          39,
          143,
          62,
          25,
          75,
          38,
          119,
          71,
          71,
          36,
          72,
          61,
          12,
          61,
          70,
          91,
          55,
          62,
          49,
          94,
          24,
          71,
          45,
          12,
          46,
          2,
          28,
          58,
          68,
          45,
          20,
          49,
          61,
          106,
          134,
          97,
          19,
          33,
          63,
          56,
          67,
          73,
          86,
          60,
          180,
          95,
          1,
          13,
          61,
          82,
          54,
          75,
          107,
          44,
          3,
          69,
          107,
          83,
          48,
          99,
          91,
          36,
          190,
          61,
          117,
          45,
          18,
          41,
          100,
          55,
          7,
          67,
          129,
          72,
          97,
          106,
          39,
          57,
          14,
          57,
          74,
          72,
          5,
          18,
          115,
          71,
          77,
          44,
          126,
          101,
          87,
          110,
          89,
          139,
          83,
          22,
          5,
          7,
          85,
          176,
          88,
          55,
          48,
          30,
          97,
          109,
          103,
          50,
          12,
          73,
          89,
          93,
          128,
          122,
          89,
          115,
          5,
          13,
          81,
          101,
          50,
          48,
          11,
          15,
          70,
          123,
          104,
          83,
          72,
          74,
          20,
          42,
          73,
          71,
          105,
          86,
          134,
          84,
          11,
          78,
          102,
          42,
          49,
          76,
          71,
          63,
          90,
          102,
          75,
          60,
          65,
          51,
          59,
          19,
          72,
          22,
          60,
          62,
          85,
          94,
          79,
          26,
          89,
          89,
          116,
          72,
          94,
          101,
          70,
          146,
          94,
          102,
          2,
          53,
          57,
          45,
          69,
          61,
          84,
          103,
          112,
          46,
          58,
          64,
          74,
          77,
          116,
          49,
          5,
          37,
          40,
          92,
          62,
          113,
          75,
          15,
          100,
          60,
          64,
          72,
          79,
          101,
          83,
          78,
          109,
          0,
          115,
          120,
          82,
          76,
          43,
          93,
          121,
          86,
          103,
          49,
          89,
          43,
          68,
          80,
          77,
          40,
          50,
          189,
          58,
          55,
          109,
          33,
          103,
          53,
          56,
          14,
          108,
          69,
          96,
          92,
          112,
          100,
          46,
          25,
          18,
          56,
          101,
          29,
          43,
          37,
          42,
          94,
          77,
          91,
          30,
          80,
          78,
          68,
          79,
          105,
          96,
          146,
          123,
          18,
          136,
          130,
          117,
          108,
          47,
          127,
          117,
          90,
          79,
          92,
          48,
          31,
          82,
          78,
          7,
          5,
          69,
          83,
          42,
          123,
          115,
          104,
          25,
          49,
          55,
          25,
          42,
          14,
          79,
          72,
          53,
          49,
          84,
          79,
          104,
          85,
          72,
          97,
          116,
          94,
          86,
          70,
          66,
          100,
          71,
          64,
          62,
          116,
          104,
          53,
          14,
          38,
          58,
          60,
          116,
          54,
          58,
          18,
          127,
          26,
          13
         ],
         "y": [
          96,
          115,
          111,
          141,
          130,
          157,
          225,
          152,
          139,
          294,
          253,
          171,
          84,
          184,
          228,
          140,
          144,
          127,
          142,
          120,
          199,
          60,
          130,
          205,
          139,
          141,
          119,
          115,
          18,
          210,
          115,
          131,
          105,
          130,
          107,
          139,
          96,
          232,
          89,
          16,
          111,
          4,
          79,
          166,
          119,
          104,
          138,
          190,
          132,
          124,
          248,
          194,
          81,
          91,
          121,
          118,
          91,
          202,
          242,
          115,
          259,
          142,
          2,
          169,
          181,
          109,
          89,
          198,
          234,
          162,
          5,
          107,
          212,
          194,
          87,
          146,
          139,
          66,
          207,
          163,
          204,
          108,
          107,
          105,
          149,
          154,
          25,
          83,
          230,
          207,
          192,
          181,
          63,
          128,
          18,
          163,
          100,
          115,
          9,
          33,
          170,
          162,
          144,
          157,
          159,
          172,
          216,
          173,
          107,
          184,
          112,
          72,
          8,
          16,
          147,
          253,
          187,
          126,
          137,
          49,
          196,
          183,
          225,
          169,
          195,
          192,
          193,
          212,
          263,
          231,
          190,
          255,
          164,
          141,
          190,
          268,
          121,
          68,
          19,
          192,
          122,
          204,
          149,
          157,
          118,
          168,
          29,
          74,
          110,
          138,
          185,
          201,
          180,
          163,
          27,
          179,
          168,
          97,
          87,
          178,
          114,
          157,
          178,
          168,
          127,
          131,
          132,
          79,
          162,
          26,
          147,
          49,
          158,
          154,
          157,
          204,
          192,
          135,
          206,
          210,
          226,
          177,
          233,
          215,
          191,
          229,
          204,
          193,
          193,
          119,
          137,
          121,
          110,
          99,
          137,
          202,
          137,
          72,
          128,
          159,
          185,
          148,
          180,
          89,
          11,
          76,
          166,
          135,
          134,
          228,
          142,
          10,
          190,
          108,
          193,
          172,
          231,
          229,
          193,
          180,
          199,
          147,
          254,
          243,
          192,
          202,
          129,
          223,
          241,
          209,
          174,
          157,
          217,
          80,
          122,
          153,
          118,
          181,
          142,
          253,
          102,
          83,
          159,
          73,
          221,
          114,
          122,
          21,
          139,
          150,
          127,
          145,
          158,
          181,
          120,
          50,
          24,
          137,
          153,
          64,
          90,
          52,
          150,
          194,
          163,
          130,
          166,
          188,
          173,
          159,
          171,
          207,
          222,
          285,
          273,
          146,
          279,
          243,
          236,
          202,
          194,
          215,
          263,
          191,
          238,
          146,
          150,
          52,
          177,
          171,
          15,
          12,
          147,
          140,
          96,
          171,
          155,
          177,
          39,
          162,
          97,
          125,
          167,
          22,
          190,
          191,
          153,
          161,
          181,
          193,
          244,
          211,
          183,
          212,
          226,
          206,
          229,
          180,
          177,
          227,
          165,
          179,
          166,
          248,
          153,
          112,
          62,
          66,
          96,
          138,
          204,
          127,
          134,
          52,
          175,
          56,
          17
         ]
        }
       ],
       "layout": {
        "font": {
         "family": "Times New Roman",
         "size": 18
        },
        "height": 600,
        "hovermode": "closest",
        "showlegend": false,
        "template": {
         "data": {
          "bar": [
           {
            "error_x": {
             "color": "#2a3f5f"
            },
            "error_y": {
             "color": "#2a3f5f"
            },
            "marker": {
             "line": {
              "color": "#E5ECF6",
              "width": 0.5
             }
            },
            "type": "bar"
           }
          ],
          "barpolar": [
           {
            "marker": {
             "line": {
              "color": "#E5ECF6",
              "width": 0.5
             }
            },
            "type": "barpolar"
           }
          ],
          "carpet": [
           {
            "aaxis": {
             "endlinecolor": "#2a3f5f",
             "gridcolor": "white",
             "linecolor": "white",
             "minorgridcolor": "white",
             "startlinecolor": "#2a3f5f"
            },
            "baxis": {
             "endlinecolor": "#2a3f5f",
             "gridcolor": "white",
             "linecolor": "white",
             "minorgridcolor": "white",
             "startlinecolor": "#2a3f5f"
            },
            "type": "carpet"
           }
          ],
          "choropleth": [
           {
            "colorbar": {
             "outlinewidth": 0,
             "ticks": ""
            },
            "type": "choropleth"
           }
          ],
          "contour": [
           {
            "colorbar": {
             "outlinewidth": 0,
             "ticks": ""
            },
            "colorscale": [
             [
              0,
              "#0d0887"
             ],
             [
              0.1111111111111111,
              "#46039f"
             ],
             [
              0.2222222222222222,
              "#7201a8"
             ],
             [
              0.3333333333333333,
              "#9c179e"
             ],
             [
              0.4444444444444444,
              "#bd3786"
             ],
             [
              0.5555555555555556,
              "#d8576b"
             ],
             [
              0.6666666666666666,
              "#ed7953"
             ],
             [
              0.7777777777777778,
              "#fb9f3a"
             ],
             [
              0.8888888888888888,
              "#fdca26"
             ],
             [
              1,
              "#f0f921"
             ]
            ],
            "type": "contour"
           }
          ],
          "contourcarpet": [
           {
            "colorbar": {
             "outlinewidth": 0,
             "ticks": ""
            },
            "type": "contourcarpet"
           }
          ],
          "heatmap": [
           {
            "colorbar": {
             "outlinewidth": 0,
             "ticks": ""
            },
            "colorscale": [
             [
              0,
              "#0d0887"
             ],
             [
              0.1111111111111111,
              "#46039f"
             ],
             [
              0.2222222222222222,
              "#7201a8"
             ],
             [
              0.3333333333333333,
              "#9c179e"
             ],
             [
              0.4444444444444444,
              "#bd3786"
             ],
             [
              0.5555555555555556,
              "#d8576b"
             ],
             [
              0.6666666666666666,
              "#ed7953"
             ],
             [
              0.7777777777777778,
              "#fb9f3a"
             ],
             [
              0.8888888888888888,
              "#fdca26"
             ],
             [
              1,
              "#f0f921"
             ]
            ],
            "type": "heatmap"
           }
          ],
          "heatmapgl": [
           {
            "colorbar": {
             "outlinewidth": 0,
             "ticks": ""
            },
            "colorscale": [
             [
              0,
              "#0d0887"
             ],
             [
              0.1111111111111111,
              "#46039f"
             ],
             [
              0.2222222222222222,
              "#7201a8"
             ],
             [
              0.3333333333333333,
              "#9c179e"
             ],
             [
              0.4444444444444444,
              "#bd3786"
             ],
             [
              0.5555555555555556,
              "#d8576b"
             ],
             [
              0.6666666666666666,
              "#ed7953"
             ],
             [
              0.7777777777777778,
              "#fb9f3a"
             ],
             [
              0.8888888888888888,
              "#fdca26"
             ],
             [
              1,
              "#f0f921"
             ]
            ],
            "type": "heatmapgl"
           }
          ],
          "histogram": [
           {
            "marker": {
             "colorbar": {
              "outlinewidth": 0,
              "ticks": ""
             }
            },
            "type": "histogram"
           }
          ],
          "histogram2d": [
           {
            "colorbar": {
             "outlinewidth": 0,
             "ticks": ""
            },
            "colorscale": [
             [
              0,
              "#0d0887"
             ],
             [
              0.1111111111111111,
              "#46039f"
             ],
             [
              0.2222222222222222,
              "#7201a8"
             ],
             [
              0.3333333333333333,
              "#9c179e"
             ],
             [
              0.4444444444444444,
              "#bd3786"
             ],
             [
              0.5555555555555556,
              "#d8576b"
             ],
             [
              0.6666666666666666,
              "#ed7953"
             ],
             [
              0.7777777777777778,
              "#fb9f3a"
             ],
             [
              0.8888888888888888,
              "#fdca26"
             ],
             [
              1,
              "#f0f921"
             ]
            ],
            "type": "histogram2d"
           }
          ],
          "histogram2dcontour": [
           {
            "colorbar": {
             "outlinewidth": 0,
             "ticks": ""
            },
            "colorscale": [
             [
              0,
              "#0d0887"
             ],
             [
              0.1111111111111111,
              "#46039f"
             ],
             [
              0.2222222222222222,
              "#7201a8"
             ],
             [
              0.3333333333333333,
              "#9c179e"
             ],
             [
              0.4444444444444444,
              "#bd3786"
             ],
             [
              0.5555555555555556,
              "#d8576b"
             ],
             [
              0.6666666666666666,
              "#ed7953"
             ],
             [
              0.7777777777777778,
              "#fb9f3a"
             ],
             [
              0.8888888888888888,
              "#fdca26"
             ],
             [
              1,
              "#f0f921"
             ]
            ],
            "type": "histogram2dcontour"
           }
          ],
          "mesh3d": [
           {
            "colorbar": {
             "outlinewidth": 0,
             "ticks": ""
            },
            "type": "mesh3d"
           }
          ],
          "parcoords": [
           {
            "line": {
             "colorbar": {
              "outlinewidth": 0,
              "ticks": ""
             }
            },
            "type": "parcoords"
           }
          ],
          "pie": [
           {
            "automargin": true,
            "type": "pie"
           }
          ],
          "scatter": [
           {
            "marker": {
             "colorbar": {
              "outlinewidth": 0,
              "ticks": ""
             }
            },
            "type": "scatter"
           }
          ],
          "scatter3d": [
           {
            "line": {
             "colorbar": {
              "outlinewidth": 0,
              "ticks": ""
             }
            },
            "marker": {
             "colorbar": {
              "outlinewidth": 0,
              "ticks": ""
             }
            },
            "type": "scatter3d"
           }
          ],
          "scattercarpet": [
           {
            "marker": {
             "colorbar": {
              "outlinewidth": 0,
              "ticks": ""
             }
            },
            "type": "scattercarpet"
           }
          ],
          "scattergeo": [
           {
            "marker": {
             "colorbar": {
              "outlinewidth": 0,
              "ticks": ""
             }
            },
            "type": "scattergeo"
           }
          ],
          "scattergl": [
           {
            "marker": {
             "colorbar": {
              "outlinewidth": 0,
              "ticks": ""
             }
            },
            "type": "scattergl"
           }
          ],
          "scattermapbox": [
           {
            "marker": {
             "colorbar": {
              "outlinewidth": 0,
              "ticks": ""
             }
            },
            "type": "scattermapbox"
           }
          ],
          "scatterpolar": [
           {
            "marker": {
             "colorbar": {
              "outlinewidth": 0,
              "ticks": ""
             }
            },
            "type": "scatterpolar"
           }
          ],
          "scatterpolargl": [
           {
            "marker": {
             "colorbar": {
              "outlinewidth": 0,
              "ticks": ""
             }
            },
            "type": "scatterpolargl"
           }
          ],
          "scatterternary": [
           {
            "marker": {
             "colorbar": {
              "outlinewidth": 0,
              "ticks": ""
             }
            },
            "type": "scatterternary"
           }
          ],
          "surface": [
           {
            "colorbar": {
             "outlinewidth": 0,
             "ticks": ""
            },
            "colorscale": [
             [
              0,
              "#0d0887"
             ],
             [
              0.1111111111111111,
              "#46039f"
             ],
             [
              0.2222222222222222,
              "#7201a8"
             ],
             [
              0.3333333333333333,
              "#9c179e"
             ],
             [
              0.4444444444444444,
              "#bd3786"
             ],
             [
              0.5555555555555556,
              "#d8576b"
             ],
             [
              0.6666666666666666,
              "#ed7953"
             ],
             [
              0.7777777777777778,
              "#fb9f3a"
             ],
             [
              0.8888888888888888,
              "#fdca26"
             ],
             [
              1,
              "#f0f921"
             ]
            ],
            "type": "surface"
           }
          ],
          "table": [
           {
            "cells": {
             "fill": {
              "color": "#EBF0F8"
             },
             "line": {
              "color": "white"
             }
            },
            "header": {
             "fill": {
              "color": "#C8D4E3"
             },
             "line": {
              "color": "white"
             }
            },
            "type": "table"
           }
          ]
         },
         "layout": {
          "annotationdefaults": {
           "arrowcolor": "#2a3f5f",
           "arrowhead": 0,
           "arrowwidth": 1
          },
          "coloraxis": {
           "colorbar": {
            "outlinewidth": 0,
            "ticks": ""
           }
          },
          "colorscale": {
           "diverging": [
            [
             0,
             "#8e0152"
            ],
            [
             0.1,
             "#c51b7d"
            ],
            [
             0.2,
             "#de77ae"
            ],
            [
             0.3,
             "#f1b6da"
            ],
            [
             0.4,
             "#fde0ef"
            ],
            [
             0.5,
             "#f7f7f7"
            ],
            [
             0.6,
             "#e6f5d0"
            ],
            [
             0.7,
             "#b8e186"
            ],
            [
             0.8,
             "#7fbc41"
            ],
            [
             0.9,
             "#4d9221"
            ],
            [
             1,
             "#276419"
            ]
           ],
           "sequential": [
            [
             0,
             "#0d0887"
            ],
            [
             0.1111111111111111,
             "#46039f"
            ],
            [
             0.2222222222222222,
             "#7201a8"
            ],
            [
             0.3333333333333333,
             "#9c179e"
            ],
            [
             0.4444444444444444,
             "#bd3786"
            ],
            [
             0.5555555555555556,
             "#d8576b"
            ],
            [
             0.6666666666666666,
             "#ed7953"
            ],
            [
             0.7777777777777778,
             "#fb9f3a"
            ],
            [
             0.8888888888888888,
             "#fdca26"
            ],
            [
             1,
             "#f0f921"
            ]
           ],
           "sequentialminus": [
            [
             0,
             "#0d0887"
            ],
            [
             0.1111111111111111,
             "#46039f"
            ],
            [
             0.2222222222222222,
             "#7201a8"
            ],
            [
             0.3333333333333333,
             "#9c179e"
            ],
            [
             0.4444444444444444,
             "#bd3786"
            ],
            [
             0.5555555555555556,
             "#d8576b"
            ],
            [
             0.6666666666666666,
             "#ed7953"
            ],
            [
             0.7777777777777778,
             "#fb9f3a"
            ],
            [
             0.8888888888888888,
             "#fdca26"
            ],
            [
             1,
             "#f0f921"
            ]
           ]
          },
          "colorway": [
           "#636efa",
           "#EF553B",
           "#00cc96",
           "#ab63fa",
           "#FFA15A",
           "#19d3f3",
           "#FF6692",
           "#B6E880",
           "#FF97FF",
           "#FECB52"
          ],
          "font": {
           "color": "#2a3f5f"
          },
          "geo": {
           "bgcolor": "white",
           "lakecolor": "white",
           "landcolor": "#E5ECF6",
           "showlakes": true,
           "showland": true,
           "subunitcolor": "white"
          },
          "hoverlabel": {
           "align": "left"
          },
          "hovermode": "closest",
          "mapbox": {
           "style": "light"
          },
          "paper_bgcolor": "white",
          "plot_bgcolor": "#E5ECF6",
          "polar": {
           "angularaxis": {
            "gridcolor": "white",
            "linecolor": "white",
            "ticks": ""
           },
           "bgcolor": "#E5ECF6",
           "radialaxis": {
            "gridcolor": "white",
            "linecolor": "white",
            "ticks": ""
           }
          },
          "scene": {
           "xaxis": {
            "backgroundcolor": "#E5ECF6",
            "gridcolor": "white",
            "gridwidth": 2,
            "linecolor": "white",
            "showbackground": true,
            "ticks": "",
            "zerolinecolor": "white"
           },
           "yaxis": {
            "backgroundcolor": "#E5ECF6",
            "gridcolor": "white",
            "gridwidth": 2,
            "linecolor": "white",
            "showbackground": true,
            "ticks": "",
            "zerolinecolor": "white"
           },
           "zaxis": {
            "backgroundcolor": "#E5ECF6",
            "gridcolor": "white",
            "gridwidth": 2,
            "linecolor": "white",
            "showbackground": true,
            "ticks": "",
            "zerolinecolor": "white"
           }
          },
          "shapedefaults": {
           "line": {
            "color": "#2a3f5f"
           }
          },
          "ternary": {
           "aaxis": {
            "gridcolor": "white",
            "linecolor": "white",
            "ticks": ""
           },
           "baxis": {
            "gridcolor": "white",
            "linecolor": "white",
            "ticks": ""
           },
           "bgcolor": "#E5ECF6",
           "caxis": {
            "gridcolor": "white",
            "linecolor": "white",
            "ticks": ""
           }
          },
          "title": {
           "x": 0.05
          },
          "xaxis": {
           "automargin": true,
           "gridcolor": "white",
           "linecolor": "white",
           "ticks": "",
           "title": {
            "standoff": 15
           },
           "zerolinecolor": "white",
           "zerolinewidth": 2
          },
          "yaxis": {
           "automargin": true,
           "gridcolor": "white",
           "linecolor": "white",
           "ticks": "",
           "title": {
            "standoff": 15
           },
           "zerolinecolor": "white",
           "zerolinewidth": 2
          }
         }
        },
        "title": {
         "text": "Ti-based Compounds Bulk Modulus vs. Shear Modulus"
        },
        "width": 1200,
        "xaxis": {
         "gridwidth": 2,
         "title": {
          "text": "$Shear \\: Modulus \\: [GPa]$"
         },
         "zeroline": false
        },
        "yaxis": {
         "gridwidth": 2,
         "title": {
          "text": "$Bulk \\: Modulus [GPa]$"
         },
         "zeroline": false
        }
       }
      },
      "text/html": [
       "<div>\n",
       "        \n",
       "        \n",
       "            <div id=\"ac9e15ad-a053-41c9-9bf6-0d90a306498d\" class=\"plotly-graph-div\" style=\"height:600px; width:1200px;\"></div>\n",
       "            <script type=\"text/javascript\">\n",
       "                require([\"plotly\"], function(Plotly) {\n",
       "                    window.PLOTLYENV=window.PLOTLYENV || {};\n",
       "                    \n",
       "                if (document.getElementById(\"ac9e15ad-a053-41c9-9bf6-0d90a306498d\")) {\n",
       "                    Plotly.newPlot(\n",
       "                        'ac9e15ad-a053-41c9-9bf6-0d90a306498d',\n",
       "                        [{\"marker\": {\"color\": [0.29, 0.29, 0.36, 0.21, 0.57, 0.28, 0.14, 0.38, 0.26, 0.27, 0.13, 0.31, 0.27, 0.26, 0.34, 0.34, 0.38, 0.09, 0.31, 0.4, 0.33, 0.24, 0.15, 0.34, 0.28, 0.38, 0.25, 0.27, 0.21, 0.37, 0.25, 0.22, 0.28, 0.3, 0.3, 0.22, 0.38, 0.36, 0.28, 0.2, 0.32, 0.28, 0.34, 0.34, 0.26, 0.31, 0.43, 0.38, 0.3, 0.17, 0.27, 0.29, 0.39, 0.34, 0.28, 0.3, 0.2, 0.34, 0.34, 0.28, 0.22, 0.23, 0.24, 0.46, 0.35, 0.2, 0.25, 0.33, 0.3, 0.38, 0.28, 0.23, 0.28, 0.31, 0.27, 0.22, 0.23, 0.27, 0.15, 0.33, 0.26, 0.32, 0.42, 0.33, 0.23, 0.34, 0.37, 0.18, 0.26, 0.34, 0.28, 0.26, 0.24, 0.31, 0.19, 0.34, 0.2, 0.24, 0.27, 0.27, 0.22, 0.31, 0.27, 0.37, 0.19, 0.25, 0.32, 0.24, 0.18, 0.2, 0.2, 0.36, 0.26, 0.32, 0.26, 0.22, 0.3, 0.31, 0.34, 0.25, 0.29, 0.25, 0.3, 0.37, 0.47, 0.33, 0.3, 0.31, 0.29, 0.28, 0.3, 0.3, 0.48, 0.46, 0.31, 0.33, 0.32, 0.21, 0.25, 0.46, 0.26, 0.25, 0.22, 0.27, 0.25, 0.31, 0.22, 0.26, 0.23, 0.28, 0.26, 0.31, 0.2, 0.28, 0.32, 0.31, 0.25, 0.31, 0.26, 0.31, 0.24, 0.32, 0.28, 0.25, 0.25, 0.3, 0.29, 0.23, 0.34, 0.21, 0.29, 0.31, 0.33, 0.32, 0.27, 0.3, 0.32, 0.41, 0.31, 0.32, 0.28, 0.32, 0.32, 0.3, 0.34, 0.24, 0.3, 0.28, 0.51, 0.3, 0.32, 0.33, 0.24, 0.25, 0.24, 0.28, 0.18, 0.23, 0.3, 0.32, 0.32, 0.28, 0.24, 0.27, 0.29, 0.29, 0.39, 0.22, 0.3, 0.29, 0.27, 0.0, 0.28, 0.27, 0.35, 0.32, 0.35, 0.31, 0.31, 0.31, 0.27, 0.5, 0.3, 0.29, 0.31, 0.33, 0.35, 0.32, 0.28, 0.32, 0.87, 0.36, 0.32, 0.27, 0.27, 0.28, 0.23, 0.4, 0.34, 0.2, 0.26, 0.23, 0.22, 0.3, 0.3, 0.3, 0.3, 0.22, 0.19, 0.3, 0.2, 0.24, 0.21, 0.27, 0.33, 0.29, 0.2, 0.32, 0.23, 0.3, 0.29, 0.21, 0.37, 0.29, 0.3, 0.22, 0.41, 0.31, 0.3, 0.31, 0.3, 0.28, 0.31, 0.28, 0.3, 0.56, 0.29, 0.27, 0.29, 0.27, 0.63, 0.25, 0.31, 0.3, 0.35, 0.24, 0.35, 0.25, 0.3, 0.3, 0.3, 0.31, 0.3, 0.25, 0.31, 0.21, 0.2, 0.25, 0.24, 0.36, 0.26, 0.4, 0.38, 0.23, 0.32, 0.33, 0.34, 0.36, 0.3, 0.32, 0.31, 0.32, 0.33, 0.3, 0.28, 0.3, 0.33, 0.33, 0.33, 0.31, 0.31, 0.34, 0.33, 0.3, 0.22, 0.29, 0.39, 0.26, 0.25, 0.31, 0.26, 0.31, 0.31, 0.34, 0.21, 0.3, 1.01], \"colorbar\": {\"tickfont\": {\"family\": \"Georgia\", \"size\": 16}, \"title\": {\"font\": {\"family\": \"Georgia\", \"size\": 18}, \"text\": \"Poisson Ratio\"}}, \"size\": 12}, \"mode\": \"markers\", \"text\": [\"Ti2Zn\", \"TiZn\", \"TiAg\", \"TiS\", \"TiAu2\", \"Ti2Rh\", \"Ti3B4\", \"TiNi\", \"Ti2C\", \"TiIr3\", \"TiB2\", \"Ti3O5\", \"Ti5Se4\", \"Ti2O\", \"TiIr\", \"TiCu3\", \"TiAu4\", \"Ti2Be17\", \"Ti2Pd\", \"Ti3Sb\", \"TiCr2\", \"Ti3Te4\", \"U2Ti\", \"Ti3Rh5\", \"Ti3Au\", \"Ti2Ni\", \"TiAs\", \"Ti3Al\", \"TiTe2\", \"TiMn2\", \"TiAl\", \"TiP2\", \"Ti6Sn5\", \"TiCu\", \"Ti5Sn3\", \"Ti5Si3\", \"TiZn3\", \"TiRe\", \"TiSb\", \"TiSe2\", \"Ti5Sb3\", \"TiI3\", \"TiZn16\", \"Ti3Pt\", \"Ti3Hg\", \"TiF3\", \"TiH2\", \"TiRh\", \"Ti3Cu4\", \"TiBe2\", \"TiOs\", \"TiFe\", \"TiCd\", \"Ti2Cd\", \"Ti2Ga\", \"Ti3Ga\", \"Ti2Ga3\", \"Ti3Pt5\", \"TiPt8\", \"Ti2Sn\", \"TiN\", \"Ti5Si4\", \"TiI4\", \"Ti3Ir\", \"TiO2\", \"TiAl2\", \"TiSb2\", \"TiCr2\", \"TiPt3\", \"Ti3Pd5\", \"TiCl3\", \"TiGa2\", \"TiRu\", \"TiCo3\", \"Ti2Sn3\", \"TiSi\", \"TiP\", \"Ti5Te4\", \"TiB\", \"TiCo\", \"Ti2N\", \"Ti3In\", \"Ti3Pb\", \"Ti2Ag\", \"Ti2ZnN\", \"TiZnN2\", \"TiTl2F6\", \"TiTeAs\", \"TiRh3\", \"TiTc\", \"TiNi3\", \"TiFe2Sn\", \"TiPbO3\", \"TiNiSb\", \"TiS2\", \"TiGaPt\", \"TiGa3\", \"TiGa\", \"Cs2TiCl6\", \"TiBrN\", \"Ti8C5\", \"MgTi2O5\", \"NaTi2O4\", \"Ti2Pd3\", \"Ti3AlC2\", \"CaTiO3\", \"Ti2O3\", \"SrTiO3\", \"TiAl3\", \"Ti3SiC2\", \"TiGe2\", \"Ti2Bi\", \"Cs3Ti2Cl9\", \"RbTiBr3\", \"Ti2S\", \"TiC\", \"TiSiRh\", \"Ti2Cu\", \"Sc2Ti2O7\", \"Li2TiF6\", \"Ti2CoRe\", \"TiFeSi\", \"TiZnIr2\", \"TiZnNi2\", \"Ti2NiIr\", \"Ti2RePd\", \"Ti2MoPt\", \"TiTc2Sb\", \"TiTc2W\", \"Ti2OsRu\", \"TiZnCo2\", \"TiVRe2\", \"TiGaPd2\", \"TiInPd2\", \"Ti2MnRh\", \"TaTiOs2\", \"SrTiN2\", \"LiTiS2\", \"TiS3\", \"TiPt\", \"Eu2TiO4\", \"TiCrP\", \"Ti6Si2B\", \"TiNiGe\", \"Ti2PbC\", \"TiCo2Sn\", \"TiNCl\", \"Na8Ti5O14\", \"Li2TiO3\", \"ZrTiAs\", \"TiAlFe2\", \"TiCo2Si\", \"Ti2CS\", \"MgTiO3\", \"K2TiF6\", \"TiCo2Ge\", \"SrTiO3\", \"BaTiO3\", \"YTiGe\", \"TiAsRh\", \"Ti2SbP\", \"ThTi2O6\", \"TiAlCo2\", \"SrTiO3\", \"Sr2TiO4\", \"Na4Ti5O12\", \"LiTi2O4\", \"Mg3(TiAl9)2\", \"TiAlNi2\", \"TiSnO3\", \"Mg2TiO4\", \"BaTiF6\", \"Ti2AlTc\", \"LiTiRh2\", \"TiMn2Al\", \"Ti2TcRh\", \"Ti2ReNi\", \"TiZnAu2\", \"Ti2MnOs\", \"Ti2MoIr\", \"Ti2TcIr\", \"Ti2TcNi\", \"TiVTc2\", \"Ti2ReRh\", \"TiBe2Ir\", \"TiFe2Si\", \"TiBeRh2\", \"TiBeCo2\", \"TiAlRh2\", \"CsTi6O12\", \"Ti6Al16Pt7\", \"TiGaPd\", \"Zr(TiGa2)2\", \"Lu(TiGa2)2\", \"Ti2InN\", \"TiSiRu\", \"Ti2AlC\", \"Ti3NiS6\", \"TiAlAu\", \"TiMnO3\", \"TiGaCo2\", \"TiCuSi\", \"TiFeSi2\", \"YTiSi\", \"Rb2TiCl6\", \"Ti(CuS)4\", \"TiGaNi2\", \"Ti2SnC\", \"TiAlCu2\", \"Ti2BRh6\", \"TiCoSb\", \"TiCdF6\", \"TiGaFe2\", \"Li4Ti5O12\", \"Ti2CoIr\", \"Ti2AlRe\", \"TaTiRu2\", \"TaTiTc2\", \"TiZnRh2\", \"Ti2MnFe\", \"MgTiIr2\", \"TiZnPd2\", \"TiNbRe2\", \"TiMn2W\", \"TiMn2V\", \"Ti2TcPt\", \"TiZnCu2\", \"TiGaIr2\", \"TiBeIr2\", \"TiAlRu2\", \"TiInRh2\", \"Ti2ZnTc\", \"TaTiMn2\", \"Li4TiO4\", \"TiNiSn\", \"TiFeTe\", \"TiSnPd\", \"LiTiPt2\", \"TiGePt\", \"Ti2ReB2\", \"Tm(TiGa2)2\", \"Ti2NiS4\", \"Ti2GaN\", \"Sr4TiN4\", \"TiPRu\", \"TiFeSb\", \"Ti3In3Rh2\", \"Ti2Te2P\", \"Ti2GaC\", \"TiGePd\", \"Ti2InC\", \"Ti3InC\", \"Ti3SnC2\", \"TiCoSi\", \"TiInCu2\", \"CaTiF6\", \"TiIN\", \"TiSnPt\", \"Ti3AlC\", \"Ba2TiO4\", \"Ca4TiN4\", \"NaTiS2\", \"Ti2AlMo\", \"Ti2CoTc\", \"MgTiRh2\", \"Ti6Al16Ni7\", \"TiAlPd2\", \"Ti2MnRu\", \"TiMnCo2\", \"TiInCo2\", \"Ti2NiMo\", \"TiMn2Si\", \"TiNbTc2\", \"TiRe2W\", \"TiReTc2\", \"TiSnPd2\", \"TiSiOs2\", \"TiSiRu2\", \"Ti2ReIr\", \"TiSnRu2\", \"TiGaRh2\", \"TiFe2Ge\", \"TaTiRe2\", \"Ti2IrW\", \"ScTiRu2\", \"Ti3ZnN\", \"TiCdO3\", \"RbTiS2\", \"TiNiO3\", \"TiCoGe\", \"CsTiBr3\", \"K2TiCl6\", \"TiGaNi\", \"Sr3Ti2O7\", \"Na2Ti3O7\", \"LiTiO2\", \"Ti2AlN\", \"TiSiNi\", \"TiCu2Te3\", \"TiAlPt\", \"BaTiO3\", \"Ti3SnH\", \"Ti3PdO\", \"Li(TiSe2)3\", \"Ti2CrIr\", \"Ti2FeIr\", \"Ti2MnBe\", \"PaTiTc2\", \"Ti2MnCo\", \"LiTiIr2\", \"TiAlOs2\", \"TiGaRu2\", \"TiMnRh2\", \"Ti2MnIr\", \"TiGeRu2\", \"Ti2TcRu\", \"TiSiTc2\", \"TiSnRh2\", \"Ti2MnNi\", \"Ti2TcOs\", \"AcTiO3\", \"Ti2TcPd\", \"Ti2ZnRe\", \"TiTc2Mo\", \"Ti2GeC\", \"Ti2CdC\", \"Na2Ti2As2O\", \"RbTiAsO5\", \"LiTiPO5\", \"Tb2Ti2S2O5\", \"TiGaFeCo\", \"Nd2Ti2S2O5\", \"Sm2Ti2S2O5\", \"Na2Ti2Sb2O\", \"TiAlFeCo\", \"KNaTiO3\", \"Cs2KTiF6\"], \"type\": \"scatter\", \"x\": [47.0, 56.0, 35.0, 101.0, 17.0, 82.0, 213.0, 38.0, 78.0, 162.0, 253.0, 76.0, 46.0, 106.0, 81.0, 51.0, 39.0, 143.0, 62.0, 25.0, 75.0, 38.0, 119.0, 71.0, 71.0, 36.0, 72.0, 61.0, 12.0, 61.0, 70.0, 91.0, 55.0, 62.0, 49.0, 94.0, 24.0, 71.0, 45.0, 12.0, 46.0, 2.0, 28.0, 58.0, 68.0, 45.0, 20.0, 49.0, 61.0, 106.0, 134.0, 97.0, 19.0, 33.0, 63.0, 56.0, 67.0, 73.0, 86.0, 60.0, 180.0, 95.0, 1.0, 13.0, 61.0, 82.0, 54.0, 75.0, 107.0, 44.0, 3.0, 69.0, 107.0, 83.0, 48.0, 99.0, 91.0, 36.0, 190.0, 61.0, 117.0, 45.0, 18.0, 41.0, 100.0, 55.0, 7.0, 67.0, 129.0, 72.0, 97.0, 106.0, 39.0, 57.0, 14.0, 57.0, 74.0, 72.0, 5.0, 18.0, 115.0, 71.0, 77.0, 44.0, 126.0, 101.0, 87.0, 110.0, 89.0, 139.0, 83.0, 22.0, 5.0, 7.0, 85.0, 176.0, 88.0, 55.0, 48.0, 30.0, 97.0, 109.0, 103.0, 50.0, 12.0, 73.0, 89.0, 93.0, 128.0, 122.0, 89.0, 115.0, 5.0, 13.0, 81.0, 101.0, 50.0, 48.0, 11.0, 15.0, 70.0, 123.0, 104.0, 83.0, 72.0, 74.0, 20.0, 42.0, 73.0, 71.0, 105.0, 86.0, 134.0, 84.0, 11.0, 78.0, 102.0, 42.0, 49.0, 76.0, 71.0, 63.0, 90.0, 102.0, 75.0, 60.0, 65.0, 51.0, 59.0, 19.0, 72.0, 22.0, 60.0, 62.0, 85.0, 94.0, 79.0, 26.0, 89.0, 89.0, 116.0, 72.0, 94.0, 101.0, 70.0, 146.0, 94.0, 102.0, 2.0, 53.0, 57.0, 45.0, 69.0, 61.0, 84.0, 103.0, 112.0, 46.0, 58.0, 64.0, 74.0, 77.0, 116.0, 49.0, 5.0, 37.0, 40.0, 92.0, 62.0, 113.0, 75.0, 15.0, 100.0, 60.0, 64.0, 72.0, 79.0, 101.0, 83.0, 78.0, 109.0, 0.0, 115.0, 120.0, 82.0, 76.0, 43.0, 93.0, 121.0, 86.0, 103.0, 49.0, 89.0, 43.0, 68.0, 80.0, 77.0, 40.0, 50.0, 189.0, 58.0, 55.0, 109.0, 33.0, 103.0, 53.0, 56.0, 14.0, 108.0, 69.0, 96.0, 92.0, 112.0, 100.0, 46.0, 25.0, 18.0, 56.0, 101.0, 29.0, 43.0, 37.0, 42.0, 94.0, 77.0, 91.0, 30.0, 80.0, 78.0, 68.0, 79.0, 105.0, 96.0, 146.0, 123.0, 18.0, 136.0, 130.0, 117.0, 108.0, 47.0, 127.0, 117.0, 90.0, 79.0, 92.0, 48.0, 31.0, 82.0, 78.0, 7.0, 5.0, 69.0, 83.0, 42.0, 123.0, 115.0, 104.0, 25.0, 49.0, 55.0, 25.0, 42.0, 14.0, 79.0, 72.0, 53.0, 49.0, 84.0, 79.0, 104.0, 85.0, 72.0, 97.0, 116.0, 94.0, 86.0, 70.0, 66.0, 100.0, 71.0, 64.0, 62.0, 116.0, 104.0, 53.0, 14.0, 38.0, 58.0, 60.0, 116.0, 54.0, 58.0, 18.0, 127.0, 26.0, 13.0], \"y\": [96.0, 115.0, 111.0, 141.0, 130.0, 157.0, 225.0, 152.0, 139.0, 294.0, 253.0, 171.0, 84.0, 184.0, 228.0, 140.0, 144.0, 127.0, 142.0, 120.0, 199.0, 60.0, 130.0, 205.0, 139.0, 141.0, 119.0, 115.0, 18.0, 210.0, 115.0, 131.0, 105.0, 130.0, 107.0, 139.0, 96.0, 232.0, 89.0, 16.0, 111.0, 4.0, 79.0, 166.0, 119.0, 104.0, 138.0, 190.0, 132.0, 124.0, 248.0, 194.0, 81.0, 91.0, 121.0, 118.0, 91.0, 202.0, 242.0, 115.0, 259.0, 142.0, 2.0, 169.0, 181.0, 109.0, 89.0, 198.0, 234.0, 162.0, 5.0, 107.0, 212.0, 194.0, 87.0, 146.0, 139.0, 66.0, 207.0, 163.0, 204.0, 108.0, 107.0, 105.0, 149.0, 154.0, 25.0, 83.0, 230.0, 207.0, 192.0, 181.0, 63.0, 128.0, 18.0, 163.0, 100.0, 115.0, 9.0, 33.0, 170.0, 162.0, 144.0, 157.0, 159.0, 172.0, 216.0, 173.0, 107.0, 184.0, 112.0, 72.0, 8.0, 16.0, 147.0, 253.0, 187.0, 126.0, 137.0, 49.0, 196.0, 183.0, 225.0, 169.0, 195.0, 192.0, 193.0, 212.0, 263.0, 231.0, 190.0, 255.0, 164.0, 141.0, 190.0, 268.0, 121.0, 68.0, 19.0, 192.0, 122.0, 204.0, 149.0, 157.0, 118.0, 168.0, 29.0, 74.0, 110.0, 138.0, 185.0, 201.0, 180.0, 163.0, 27.0, 179.0, 168.0, 97.0, 87.0, 178.0, 114.0, 157.0, 178.0, 168.0, 127.0, 131.0, 132.0, 79.0, 162.0, 26.0, 147.0, 49.0, 158.0, 154.0, 157.0, 204.0, 192.0, 135.0, 206.0, 210.0, 226.0, 177.0, 233.0, 215.0, 191.0, 229.0, 204.0, 193.0, 193.0, 119.0, 137.0, 121.0, 110.0, 99.0, 137.0, 202.0, 137.0, 72.0, 128.0, 159.0, 185.0, 148.0, 180.0, 89.0, 11.0, 76.0, 166.0, 135.0, 134.0, 228.0, 142.0, 10.0, 190.0, 108.0, 193.0, 172.0, 231.0, 229.0, 193.0, 180.0, 199.0, 147.0, 254.0, 243.0, 192.0, 202.0, 129.0, 223.0, 241.0, 209.0, 174.0, 157.0, 217.0, 80.0, 122.0, 153.0, 118.0, 181.0, 142.0, 253.0, 102.0, 83.0, 159.0, 73.0, 221.0, 114.0, 122.0, 21.0, 139.0, 150.0, 127.0, 145.0, 158.0, 181.0, 120.0, 50.0, 24.0, 137.0, 153.0, 64.0, 90.0, 52.0, 150.0, 194.0, 163.0, 130.0, 166.0, 188.0, 173.0, 159.0, 171.0, 207.0, 222.0, 285.0, 273.0, 146.0, 279.0, 243.0, 236.0, 202.0, 194.0, 215.0, 263.0, 191.0, 238.0, 146.0, 150.0, 52.0, 177.0, 171.0, 15.0, 12.0, 147.0, 140.0, 96.0, 171.0, 155.0, 177.0, 39.0, 162.0, 97.0, 125.0, 167.0, 22.0, 190.0, 191.0, 153.0, 161.0, 181.0, 193.0, 244.0, 211.0, 183.0, 212.0, 226.0, 206.0, 229.0, 180.0, 177.0, 227.0, 165.0, 179.0, 166.0, 248.0, 153.0, 112.0, 62.0, 66.0, 96.0, 138.0, 204.0, 127.0, 134.0, 52.0, 175.0, 56.0, 17.0]}],\n",
       "                        {\"font\": {\"family\": \"Times New Roman\", \"size\": 18}, \"height\": 600, \"hovermode\": \"closest\", \"showlegend\": false, \"template\": {\"data\": {\"bar\": [{\"error_x\": {\"color\": \"#2a3f5f\"}, \"error_y\": {\"color\": \"#2a3f5f\"}, \"marker\": {\"line\": {\"color\": \"#E5ECF6\", \"width\": 0.5}}, \"type\": \"bar\"}], \"barpolar\": [{\"marker\": {\"line\": {\"color\": \"#E5ECF6\", \"width\": 0.5}}, \"type\": \"barpolar\"}], \"carpet\": [{\"aaxis\": {\"endlinecolor\": \"#2a3f5f\", \"gridcolor\": \"white\", \"linecolor\": \"white\", \"minorgridcolor\": \"white\", \"startlinecolor\": \"#2a3f5f\"}, \"baxis\": {\"endlinecolor\": \"#2a3f5f\", \"gridcolor\": \"white\", \"linecolor\": \"white\", \"minorgridcolor\": \"white\", \"startlinecolor\": \"#2a3f5f\"}, \"type\": \"carpet\"}], \"choropleth\": [{\"colorbar\": {\"outlinewidth\": 0, \"ticks\": \"\"}, \"type\": \"choropleth\"}], \"contour\": [{\"colorbar\": {\"outlinewidth\": 0, \"ticks\": \"\"}, \"colorscale\": [[0.0, \"#0d0887\"], [0.1111111111111111, \"#46039f\"], [0.2222222222222222, \"#7201a8\"], [0.3333333333333333, \"#9c179e\"], [0.4444444444444444, \"#bd3786\"], [0.5555555555555556, \"#d8576b\"], [0.6666666666666666, \"#ed7953\"], [0.7777777777777778, \"#fb9f3a\"], [0.8888888888888888, \"#fdca26\"], [1.0, \"#f0f921\"]], \"type\": \"contour\"}], \"contourcarpet\": [{\"colorbar\": {\"outlinewidth\": 0, \"ticks\": \"\"}, \"type\": \"contourcarpet\"}], \"heatmap\": [{\"colorbar\": {\"outlinewidth\": 0, \"ticks\": \"\"}, \"colorscale\": [[0.0, \"#0d0887\"], [0.1111111111111111, \"#46039f\"], [0.2222222222222222, \"#7201a8\"], [0.3333333333333333, \"#9c179e\"], [0.4444444444444444, \"#bd3786\"], [0.5555555555555556, \"#d8576b\"], [0.6666666666666666, \"#ed7953\"], [0.7777777777777778, \"#fb9f3a\"], [0.8888888888888888, \"#fdca26\"], [1.0, \"#f0f921\"]], \"type\": \"heatmap\"}], \"heatmapgl\": [{\"colorbar\": {\"outlinewidth\": 0, \"ticks\": \"\"}, \"colorscale\": [[0.0, \"#0d0887\"], [0.1111111111111111, \"#46039f\"], [0.2222222222222222, \"#7201a8\"], [0.3333333333333333, \"#9c179e\"], [0.4444444444444444, \"#bd3786\"], [0.5555555555555556, \"#d8576b\"], [0.6666666666666666, \"#ed7953\"], [0.7777777777777778, \"#fb9f3a\"], [0.8888888888888888, \"#fdca26\"], [1.0, \"#f0f921\"]], \"type\": \"heatmapgl\"}], \"histogram\": [{\"marker\": {\"colorbar\": {\"outlinewidth\": 0, \"ticks\": \"\"}}, \"type\": \"histogram\"}], \"histogram2d\": [{\"colorbar\": {\"outlinewidth\": 0, \"ticks\": \"\"}, \"colorscale\": [[0.0, \"#0d0887\"], [0.1111111111111111, \"#46039f\"], [0.2222222222222222, \"#7201a8\"], [0.3333333333333333, \"#9c179e\"], [0.4444444444444444, \"#bd3786\"], [0.5555555555555556, \"#d8576b\"], [0.6666666666666666, \"#ed7953\"], [0.7777777777777778, \"#fb9f3a\"], [0.8888888888888888, \"#fdca26\"], [1.0, \"#f0f921\"]], \"type\": \"histogram2d\"}], \"histogram2dcontour\": [{\"colorbar\": {\"outlinewidth\": 0, \"ticks\": \"\"}, \"colorscale\": [[0.0, \"#0d0887\"], [0.1111111111111111, \"#46039f\"], [0.2222222222222222, \"#7201a8\"], [0.3333333333333333, \"#9c179e\"], [0.4444444444444444, \"#bd3786\"], [0.5555555555555556, \"#d8576b\"], [0.6666666666666666, \"#ed7953\"], [0.7777777777777778, \"#fb9f3a\"], [0.8888888888888888, \"#fdca26\"], [1.0, \"#f0f921\"]], \"type\": \"histogram2dcontour\"}], \"mesh3d\": [{\"colorbar\": {\"outlinewidth\": 0, \"ticks\": \"\"}, \"type\": \"mesh3d\"}], \"parcoords\": [{\"line\": {\"colorbar\": {\"outlinewidth\": 0, \"ticks\": \"\"}}, \"type\": \"parcoords\"}], \"pie\": [{\"automargin\": true, \"type\": \"pie\"}], \"scatter\": [{\"marker\": {\"colorbar\": {\"outlinewidth\": 0, \"ticks\": \"\"}}, \"type\": \"scatter\"}], \"scatter3d\": [{\"line\": {\"colorbar\": {\"outlinewidth\": 0, \"ticks\": \"\"}}, \"marker\": {\"colorbar\": {\"outlinewidth\": 0, \"ticks\": \"\"}}, \"type\": \"scatter3d\"}], \"scattercarpet\": [{\"marker\": {\"colorbar\": {\"outlinewidth\": 0, \"ticks\": \"\"}}, \"type\": \"scattercarpet\"}], \"scattergeo\": [{\"marker\": {\"colorbar\": {\"outlinewidth\": 0, \"ticks\": \"\"}}, \"type\": \"scattergeo\"}], \"scattergl\": [{\"marker\": {\"colorbar\": {\"outlinewidth\": 0, \"ticks\": \"\"}}, \"type\": \"scattergl\"}], \"scattermapbox\": [{\"marker\": {\"colorbar\": {\"outlinewidth\": 0, \"ticks\": \"\"}}, \"type\": \"scattermapbox\"}], \"scatterpolar\": [{\"marker\": {\"colorbar\": {\"outlinewidth\": 0, \"ticks\": \"\"}}, \"type\": \"scatterpolar\"}], \"scatterpolargl\": [{\"marker\": {\"colorbar\": {\"outlinewidth\": 0, \"ticks\": \"\"}}, \"type\": \"scatterpolargl\"}], \"scatterternary\": [{\"marker\": {\"colorbar\": {\"outlinewidth\": 0, \"ticks\": \"\"}}, \"type\": \"scatterternary\"}], \"surface\": [{\"colorbar\": {\"outlinewidth\": 0, \"ticks\": \"\"}, \"colorscale\": [[0.0, \"#0d0887\"], [0.1111111111111111, \"#46039f\"], [0.2222222222222222, \"#7201a8\"], [0.3333333333333333, \"#9c179e\"], [0.4444444444444444, \"#bd3786\"], [0.5555555555555556, \"#d8576b\"], [0.6666666666666666, \"#ed7953\"], [0.7777777777777778, \"#fb9f3a\"], [0.8888888888888888, \"#fdca26\"], [1.0, \"#f0f921\"]], \"type\": \"surface\"}], \"table\": [{\"cells\": {\"fill\": {\"color\": \"#EBF0F8\"}, \"line\": {\"color\": \"white\"}}, \"header\": {\"fill\": {\"color\": \"#C8D4E3\"}, \"line\": {\"color\": \"white\"}}, \"type\": \"table\"}]}, \"layout\": {\"annotationdefaults\": {\"arrowcolor\": \"#2a3f5f\", \"arrowhead\": 0, \"arrowwidth\": 1}, \"coloraxis\": {\"colorbar\": {\"outlinewidth\": 0, \"ticks\": \"\"}}, \"colorscale\": {\"diverging\": [[0, \"#8e0152\"], [0.1, \"#c51b7d\"], [0.2, \"#de77ae\"], [0.3, \"#f1b6da\"], [0.4, \"#fde0ef\"], [0.5, \"#f7f7f7\"], [0.6, \"#e6f5d0\"], [0.7, \"#b8e186\"], [0.8, \"#7fbc41\"], [0.9, \"#4d9221\"], [1, \"#276419\"]], \"sequential\": [[0.0, \"#0d0887\"], [0.1111111111111111, \"#46039f\"], [0.2222222222222222, \"#7201a8\"], [0.3333333333333333, \"#9c179e\"], [0.4444444444444444, \"#bd3786\"], [0.5555555555555556, \"#d8576b\"], [0.6666666666666666, \"#ed7953\"], [0.7777777777777778, \"#fb9f3a\"], [0.8888888888888888, \"#fdca26\"], [1.0, \"#f0f921\"]], \"sequentialminus\": [[0.0, \"#0d0887\"], [0.1111111111111111, \"#46039f\"], [0.2222222222222222, \"#7201a8\"], [0.3333333333333333, \"#9c179e\"], [0.4444444444444444, \"#bd3786\"], [0.5555555555555556, \"#d8576b\"], [0.6666666666666666, \"#ed7953\"], [0.7777777777777778, \"#fb9f3a\"], [0.8888888888888888, \"#fdca26\"], [1.0, \"#f0f921\"]]}, \"colorway\": [\"#636efa\", \"#EF553B\", \"#00cc96\", \"#ab63fa\", \"#FFA15A\", \"#19d3f3\", \"#FF6692\", \"#B6E880\", \"#FF97FF\", \"#FECB52\"], \"font\": {\"color\": \"#2a3f5f\"}, \"geo\": {\"bgcolor\": \"white\", \"lakecolor\": \"white\", \"landcolor\": \"#E5ECF6\", \"showlakes\": true, \"showland\": true, \"subunitcolor\": \"white\"}, \"hoverlabel\": {\"align\": \"left\"}, \"hovermode\": \"closest\", \"mapbox\": {\"style\": \"light\"}, \"paper_bgcolor\": \"white\", \"plot_bgcolor\": \"#E5ECF6\", \"polar\": {\"angularaxis\": {\"gridcolor\": \"white\", \"linecolor\": \"white\", \"ticks\": \"\"}, \"bgcolor\": \"#E5ECF6\", \"radialaxis\": {\"gridcolor\": \"white\", \"linecolor\": \"white\", \"ticks\": \"\"}}, \"scene\": {\"xaxis\": {\"backgroundcolor\": \"#E5ECF6\", \"gridcolor\": \"white\", \"gridwidth\": 2, \"linecolor\": \"white\", \"showbackground\": true, \"ticks\": \"\", \"zerolinecolor\": \"white\"}, \"yaxis\": {\"backgroundcolor\": \"#E5ECF6\", \"gridcolor\": \"white\", \"gridwidth\": 2, \"linecolor\": \"white\", \"showbackground\": true, \"ticks\": \"\", \"zerolinecolor\": \"white\"}, \"zaxis\": {\"backgroundcolor\": \"#E5ECF6\", \"gridcolor\": \"white\", \"gridwidth\": 2, \"linecolor\": \"white\", \"showbackground\": true, \"ticks\": \"\", \"zerolinecolor\": \"white\"}}, \"shapedefaults\": {\"line\": {\"color\": \"#2a3f5f\"}}, \"ternary\": {\"aaxis\": {\"gridcolor\": \"white\", \"linecolor\": \"white\", \"ticks\": \"\"}, \"baxis\": {\"gridcolor\": \"white\", \"linecolor\": \"white\", \"ticks\": \"\"}, \"bgcolor\": \"#E5ECF6\", \"caxis\": {\"gridcolor\": \"white\", \"linecolor\": \"white\", \"ticks\": \"\"}}, \"title\": {\"x\": 0.05}, \"xaxis\": {\"automargin\": true, \"gridcolor\": \"white\", \"linecolor\": \"white\", \"ticks\": \"\", \"title\": {\"standoff\": 15}, \"zerolinecolor\": \"white\", \"zerolinewidth\": 2}, \"yaxis\": {\"automargin\": true, \"gridcolor\": \"white\", \"linecolor\": \"white\", \"ticks\": \"\", \"title\": {\"standoff\": 15}, \"zerolinecolor\": \"white\", \"zerolinewidth\": 2}}}, \"title\": {\"text\": \"Ti-based Compounds Bulk Modulus vs. Shear Modulus\"}, \"width\": 1200, \"xaxis\": {\"gridwidth\": 2, \"title\": {\"text\": \"$Shear \\\\: Modulus \\\\: [GPa]$\"}, \"zeroline\": false}, \"yaxis\": {\"gridwidth\": 2, \"title\": {\"text\": \"$Bulk \\\\: Modulus [GPa]$\"}, \"zeroline\": false}},\n",
       "                        {\"responsive\": true}\n",
       "                    ).then(function(){\n",
       "                            \n",
       "var gd = document.getElementById('ac9e15ad-a053-41c9-9bf6-0d90a306498d');\n",
       "var x = new MutationObserver(function (mutations, observer) {{\n",
       "        var display = window.getComputedStyle(gd).display;\n",
       "        if (!display || display === 'none') {{\n",
       "            console.log([gd, 'removed!']);\n",
       "            Plotly.purge(gd);\n",
       "            observer.disconnect();\n",
       "        }}\n",
       "}});\n",
       "\n",
       "// Listen for the removal of the full notebook cells\n",
       "var notebookContainer = gd.closest('#notebook-container');\n",
       "if (notebookContainer) {{\n",
       "    x.observe(notebookContainer, {childList: true});\n",
       "}}\n",
       "\n",
       "// Listen for the clearing of the current output cell\n",
       "var outputEl = gd.closest('.output');\n",
       "if (outputEl) {{\n",
       "    x.observe(outputEl, {childList: true});\n",
       "}}\n",
       "\n",
       "                        })\n",
       "                };\n",
       "                });\n",
       "            </script>\n",
       "        </div>"
      ]
     },
     "metadata": {},
     "output_type": "display_data"
    }
   ],
   "source": [
    "import plotly\n",
    "import plotly.graph_objs as go\n",
    "from plotly.offline import iplot\n",
    "layout_IPF_shear_modulus = go.Layout(title= \"Ti-based Compounds Bulk Modulus vs. Shear Modulus\", hovermode= 'closest',\n",
    "                   font = dict(family='Times New Roman',size=18),\n",
    "                   xaxis= dict(title= '$Shear \\: Modulus \\: [GPa]$',zeroline= False, gridwidth= 2),\n",
    "                   yaxis= dict(title= '$Bulk \\: Modulus [GPa]$',zeroline= False, gridwidth= 2),\n",
    "                   height = 600,\n",
    "                   width = 1200,\n",
    "     showlegend= False              \n",
    ")\n",
    "\n",
    "#Scatter plot of collected data. Use df_oxide_all dataframe. df_oxide_all.Density will pull density column. Could change Density or IPF to Molar Volume or simply volume if you wanted.\n",
    "trace_all_shear = go.Scatter(x = abs(df_oxide.G_VRH), y = df_oxide.K_VRH, mode = 'markers', text = df_oxide.Formula,\n",
    "                            marker=dict(size=12, color=(df_oxide['poisson_ratio']),\n",
    "                                colorbar = dict(title={ 'text': \"Poisson Ratio\", \n",
    "                                                     'font': {'family':'Georgia', 'size': 18}} , \n",
    "                                              tickfont={'family':'Georgia', 'size': 16 })))#, name = 'All Queries'))\n",
    "\n",
    "                             \n",
    "data_IPF_shear = [trace_all_shear]\n",
    "fig_IPF_shear = go.Figure(data_IPF_shear, layout=layout_IPF_shear_modulus)\n",
    "iplot(fig_IPF_shear)"
   ]
  },
  {
   "cell_type": "markdown",
   "metadata": {},
   "source": [
    "Uncomment the cell below to play around with the different parameters we have saved from the query. Below is an example of IPF vs. Elastic Anisotropy.\n",
    "Quickly uncomment block by highlighting and pressing together Ctrl+'/'"
   ]
  },
  {
   "cell_type": "code",
   "execution_count": 20,
   "metadata": {},
   "outputs": [
    {
     "data": {
      "application/vnd.plotly.v1+json": {
       "config": {
        "linkText": "Export to plot.ly",
        "plotlyServerURL": "https://plot.ly",
        "showLink": false
       },
       "data": [
        {
         "marker": {
          "color": [
           0.29,
           0.29,
           0.36,
           0.21,
           0.57,
           0.28,
           0.14,
           0.38,
           0.26,
           0.27,
           0.13,
           0.31,
           0.27,
           0.26,
           0.34,
           0.34,
           0.38,
           0.09,
           0.31,
           0.4,
           0.33,
           0.24,
           0.15,
           0.34,
           0.28,
           0.38,
           0.25,
           0.27,
           0.21,
           0.37,
           0.25,
           0.22,
           0.28,
           0.3,
           0.3,
           0.22,
           0.38,
           0.36,
           0.28,
           0.2,
           0.32,
           0.28,
           0.34,
           0.34,
           0.26,
           0.31,
           0.43,
           0.38,
           0.3,
           0.17,
           0.27,
           0.29,
           0.39,
           0.34,
           0.28,
           0.3,
           0.2,
           0.34,
           0.34,
           0.28,
           0.22,
           0.23,
           0.24,
           0.46,
           0.35,
           0.2,
           0.25,
           0.33,
           0.3,
           0.38,
           0.28,
           0.23,
           0.28,
           0.31,
           0.27,
           0.22,
           0.23,
           0.27,
           0.15,
           0.33,
           0.26,
           0.32,
           0.42,
           0.33,
           0.23,
           0.34,
           0.37,
           0.18,
           0.26,
           0.34,
           0.28,
           0.26,
           0.24,
           0.31,
           0.19,
           0.34,
           0.2,
           0.24,
           0.27,
           0.27,
           0.22,
           0.31,
           0.27,
           0.37,
           0.19,
           0.25,
           0.32,
           0.24,
           0.18,
           0.2,
           0.2,
           0.36,
           0.26,
           0.32,
           0.26,
           0.22,
           0.3,
           0.31,
           0.34,
           0.25,
           0.29,
           0.25,
           0.3,
           0.37,
           0.47,
           0.33,
           0.3,
           0.31,
           0.29,
           0.28,
           0.3,
           0.3,
           0.48,
           0.46,
           0.31,
           0.33,
           0.32,
           0.21,
           0.25,
           0.46,
           0.26,
           0.25,
           0.22,
           0.27,
           0.25,
           0.31,
           0.22,
           0.26,
           0.23,
           0.28,
           0.26,
           0.31,
           0.2,
           0.28,
           0.32,
           0.31,
           0.25,
           0.31,
           0.26,
           0.31,
           0.24,
           0.32,
           0.28,
           0.25,
           0.25,
           0.3,
           0.29,
           0.23,
           0.34,
           0.21,
           0.29,
           0.31,
           0.33,
           0.32,
           0.27,
           0.3,
           0.32,
           0.41,
           0.31,
           0.32,
           0.28,
           0.32,
           0.32,
           0.3,
           0.34,
           0.24,
           0.3,
           0.28,
           0.51,
           0.3,
           0.32,
           0.33,
           0.24,
           0.25,
           0.24,
           0.28,
           0.18,
           0.23,
           0.3,
           0.32,
           0.32,
           0.28,
           0.24,
           0.27,
           0.29,
           0.29,
           0.39,
           0.22,
           0.3,
           0.29,
           0.27,
           0,
           0.28,
           0.27,
           0.35,
           0.32,
           0.35,
           0.31,
           0.31,
           0.31,
           0.27,
           0.5,
           0.3,
           0.29,
           0.31,
           0.33,
           0.35,
           0.32,
           0.28,
           0.32,
           0.87,
           0.36,
           0.32,
           0.27,
           0.27,
           0.28,
           0.23,
           0.4,
           0.34,
           0.2,
           0.26,
           0.23,
           0.22,
           0.3,
           0.3,
           0.3,
           0.3,
           0.22,
           0.19,
           0.3,
           0.2,
           0.24,
           0.21,
           0.27,
           0.33,
           0.29,
           0.2,
           0.32,
           0.23,
           0.3,
           0.29,
           0.21,
           0.37,
           0.29,
           0.3,
           0.22,
           0.41,
           0.31,
           0.3,
           0.31,
           0.3,
           0.28,
           0.31,
           0.28,
           0.3,
           0.56,
           0.29,
           0.27,
           0.29,
           0.27,
           0.63,
           0.25,
           0.31,
           0.3,
           0.35,
           0.24,
           0.35,
           0.25,
           0.3,
           0.3,
           0.3,
           0.31,
           0.3,
           0.25,
           0.31,
           0.21,
           0.2,
           0.25,
           0.24,
           0.36,
           0.26,
           0.4,
           0.38,
           0.23,
           0.32,
           0.33,
           0.34,
           0.36,
           0.3,
           0.32,
           0.31,
           0.32,
           0.33,
           0.3,
           0.28,
           0.3,
           0.33,
           0.33,
           0.33,
           0.31,
           0.31,
           0.34,
           0.33,
           0.3,
           0.22,
           0.29,
           0.39,
           0.26,
           0.25,
           0.31,
           0.26,
           0.31,
           0.31,
           0.34,
           0.21,
           0.3,
           1.01
          ],
          "colorbar": {
           "tickfont": {
            "family": "Georgia",
            "size": 16
           },
           "title": {
            "font": {
             "family": "Georgia",
             "size": 18
            },
            "text": "Poisson Ratio"
           }
          },
          "size": 12
         },
         "mode": "markers",
         "text": [
          "Ti2Zn",
          "TiZn",
          "TiAg",
          "TiS",
          "TiAu2",
          "Ti2Rh",
          "Ti3B4",
          "TiNi",
          "Ti2C",
          "TiIr3",
          "TiB2",
          "Ti3O5",
          "Ti5Se4",
          "Ti2O",
          "TiIr",
          "TiCu3",
          "TiAu4",
          "Ti2Be17",
          "Ti2Pd",
          "Ti3Sb",
          "TiCr2",
          "Ti3Te4",
          "U2Ti",
          "Ti3Rh5",
          "Ti3Au",
          "Ti2Ni",
          "TiAs",
          "Ti3Al",
          "TiTe2",
          "TiMn2",
          "TiAl",
          "TiP2",
          "Ti6Sn5",
          "TiCu",
          "Ti5Sn3",
          "Ti5Si3",
          "TiZn3",
          "TiRe",
          "TiSb",
          "TiSe2",
          "Ti5Sb3",
          "TiI3",
          "TiZn16",
          "Ti3Pt",
          "Ti3Hg",
          "TiF3",
          "TiH2",
          "TiRh",
          "Ti3Cu4",
          "TiBe2",
          "TiOs",
          "TiFe",
          "TiCd",
          "Ti2Cd",
          "Ti2Ga",
          "Ti3Ga",
          "Ti2Ga3",
          "Ti3Pt5",
          "TiPt8",
          "Ti2Sn",
          "TiN",
          "Ti5Si4",
          "TiI4",
          "Ti3Ir",
          "TiO2",
          "TiAl2",
          "TiSb2",
          "TiCr2",
          "TiPt3",
          "Ti3Pd5",
          "TiCl3",
          "TiGa2",
          "TiRu",
          "TiCo3",
          "Ti2Sn3",
          "TiSi",
          "TiP",
          "Ti5Te4",
          "TiB",
          "TiCo",
          "Ti2N",
          "Ti3In",
          "Ti3Pb",
          "Ti2Ag",
          "Ti2ZnN",
          "TiZnN2",
          "TiTl2F6",
          "TiTeAs",
          "TiRh3",
          "TiTc",
          "TiNi3",
          "TiFe2Sn",
          "TiPbO3",
          "TiNiSb",
          "TiS2",
          "TiGaPt",
          "TiGa3",
          "TiGa",
          "Cs2TiCl6",
          "TiBrN",
          "Ti8C5",
          "MgTi2O5",
          "NaTi2O4",
          "Ti2Pd3",
          "Ti3AlC2",
          "CaTiO3",
          "Ti2O3",
          "SrTiO3",
          "TiAl3",
          "Ti3SiC2",
          "TiGe2",
          "Ti2Bi",
          "Cs3Ti2Cl9",
          "RbTiBr3",
          "Ti2S",
          "TiC",
          "TiSiRh",
          "Ti2Cu",
          "Sc2Ti2O7",
          "Li2TiF6",
          "Ti2CoRe",
          "TiFeSi",
          "TiZnIr2",
          "TiZnNi2",
          "Ti2NiIr",
          "Ti2RePd",
          "Ti2MoPt",
          "TiTc2Sb",
          "TiTc2W",
          "Ti2OsRu",
          "TiZnCo2",
          "TiVRe2",
          "TiGaPd2",
          "TiInPd2",
          "Ti2MnRh",
          "TaTiOs2",
          "SrTiN2",
          "LiTiS2",
          "TiS3",
          "TiPt",
          "Eu2TiO4",
          "TiCrP",
          "Ti6Si2B",
          "TiNiGe",
          "Ti2PbC",
          "TiCo2Sn",
          "TiNCl",
          "Na8Ti5O14",
          "Li2TiO3",
          "ZrTiAs",
          "TiAlFe2",
          "TiCo2Si",
          "Ti2CS",
          "MgTiO3",
          "K2TiF6",
          "TiCo2Ge",
          "SrTiO3",
          "BaTiO3",
          "YTiGe",
          "TiAsRh",
          "Ti2SbP",
          "ThTi2O6",
          "TiAlCo2",
          "SrTiO3",
          "Sr2TiO4",
          "Na4Ti5O12",
          "LiTi2O4",
          "Mg3(TiAl9)2",
          "TiAlNi2",
          "TiSnO3",
          "Mg2TiO4",
          "BaTiF6",
          "Ti2AlTc",
          "LiTiRh2",
          "TiMn2Al",
          "Ti2TcRh",
          "Ti2ReNi",
          "TiZnAu2",
          "Ti2MnOs",
          "Ti2MoIr",
          "Ti2TcIr",
          "Ti2TcNi",
          "TiVTc2",
          "Ti2ReRh",
          "TiBe2Ir",
          "TiFe2Si",
          "TiBeRh2",
          "TiBeCo2",
          "TiAlRh2",
          "CsTi6O12",
          "Ti6Al16Pt7",
          "TiGaPd",
          "Zr(TiGa2)2",
          "Lu(TiGa2)2",
          "Ti2InN",
          "TiSiRu",
          "Ti2AlC",
          "Ti3NiS6",
          "TiAlAu",
          "TiMnO3",
          "TiGaCo2",
          "TiCuSi",
          "TiFeSi2",
          "YTiSi",
          "Rb2TiCl6",
          "Ti(CuS)4",
          "TiGaNi2",
          "Ti2SnC",
          "TiAlCu2",
          "Ti2BRh6",
          "TiCoSb",
          "TiCdF6",
          "TiGaFe2",
          "Li4Ti5O12",
          "Ti2CoIr",
          "Ti2AlRe",
          "TaTiRu2",
          "TaTiTc2",
          "TiZnRh2",
          "Ti2MnFe",
          "MgTiIr2",
          "TiZnPd2",
          "TiNbRe2",
          "TiMn2W",
          "TiMn2V",
          "Ti2TcPt",
          "TiZnCu2",
          "TiGaIr2",
          "TiBeIr2",
          "TiAlRu2",
          "TiInRh2",
          "Ti2ZnTc",
          "TaTiMn2",
          "Li4TiO4",
          "TiNiSn",
          "TiFeTe",
          "TiSnPd",
          "LiTiPt2",
          "TiGePt",
          "Ti2ReB2",
          "Tm(TiGa2)2",
          "Ti2NiS4",
          "Ti2GaN",
          "Sr4TiN4",
          "TiPRu",
          "TiFeSb",
          "Ti3In3Rh2",
          "Ti2Te2P",
          "Ti2GaC",
          "TiGePd",
          "Ti2InC",
          "Ti3InC",
          "Ti3SnC2",
          "TiCoSi",
          "TiInCu2",
          "CaTiF6",
          "TiIN",
          "TiSnPt",
          "Ti3AlC",
          "Ba2TiO4",
          "Ca4TiN4",
          "NaTiS2",
          "Ti2AlMo",
          "Ti2CoTc",
          "MgTiRh2",
          "Ti6Al16Ni7",
          "TiAlPd2",
          "Ti2MnRu",
          "TiMnCo2",
          "TiInCo2",
          "Ti2NiMo",
          "TiMn2Si",
          "TiNbTc2",
          "TiRe2W",
          "TiReTc2",
          "TiSnPd2",
          "TiSiOs2",
          "TiSiRu2",
          "Ti2ReIr",
          "TiSnRu2",
          "TiGaRh2",
          "TiFe2Ge",
          "TaTiRe2",
          "Ti2IrW",
          "ScTiRu2",
          "Ti3ZnN",
          "TiCdO3",
          "RbTiS2",
          "TiNiO3",
          "TiCoGe",
          "CsTiBr3",
          "K2TiCl6",
          "TiGaNi",
          "Sr3Ti2O7",
          "Na2Ti3O7",
          "LiTiO2",
          "Ti2AlN",
          "TiSiNi",
          "TiCu2Te3",
          "TiAlPt",
          "BaTiO3",
          "Ti3SnH",
          "Ti3PdO",
          "Li(TiSe2)3",
          "Ti2CrIr",
          "Ti2FeIr",
          "Ti2MnBe",
          "PaTiTc2",
          "Ti2MnCo",
          "LiTiIr2",
          "TiAlOs2",
          "TiGaRu2",
          "TiMnRh2",
          "Ti2MnIr",
          "TiGeRu2",
          "Ti2TcRu",
          "TiSiTc2",
          "TiSnRh2",
          "Ti2MnNi",
          "Ti2TcOs",
          "AcTiO3",
          "Ti2TcPd",
          "Ti2ZnRe",
          "TiTc2Mo",
          "Ti2GeC",
          "Ti2CdC",
          "Na2Ti2As2O",
          "RbTiAsO5",
          "LiTiPO5",
          "Tb2Ti2S2O5",
          "TiGaFeCo",
          "Nd2Ti2S2O5",
          "Sm2Ti2S2O5",
          "Na2Ti2Sb2O",
          "TiAlFeCo",
          "KNaTiO3",
          "Cs2KTiF6"
         ],
         "type": "scatter",
         "x": [
          5.4624418431294846,
          6.036542541370883,
          7.340358574162901,
          4.442034010283959,
          14.162674008729564,
          7.08866045352241,
          4.557547483685545,
          6.4129856237257545,
          4.4397691684648475,
          17.774770707590932,
          4.48742509138872,
          4.187247707142454,
          5.571714611425473,
          5.012926886778068,
          13.171719999335542,
          7.64811775237397,
          15.866690660766688,
          2.4788616197207776,
          6.905202130563418,
          6.204950157087049,
          6.237410464246428,
          6.386267555747635,
          15.633596985294249,
          9.261614828158567,
          8.460278692613556,
          5.725013960684072,
          5.836287445057678,
          4.24886855694461,
          5.967718130581316,
          6.901373874786948,
          3.8339015516249924,
          4.262085969423355,
          6.8133915501839475,
          6.4409362603173195,
          6.425214777223388,
          4.347039336035789,
          6.697660334904412,
          12.813423301491598,
          6.344016707746623,
          4.692579364547135,
          6.533810701664811,
          4.359640173734073,
          7.014325083136486,
          8.76669891569527,
          8.13860497378146,
          2.8243455697091604,
          3.832731997844202,
          8.321025415894498,
          6.748300335520562,
          3.293295530284812,
          13.333766927112507,
          6.642034495803114,
          6.897648170834788,
          6.215938143385086,
          5.649651697567152,
          5.416551057420764,
          6.382990495806396,
          14.802111278232545,
          19.082725589745888,
          6.451610572115688,
          5.340297397189084,
          4.25473535677054,
          4.3668690052068415,
          8.833383915301757,
          3.6159400033700795,
          3.536390535036478,
          7.376419290265216,
          6.234565438345089,
          17.027464482463998,
          8.90461162906226,
          2.2774261271317386,
          6.57508815436937,
          8.419437219779311,
          7.9485403294031345,
          7.060315921097217,
          4.224308672822326,
          4.219611373656351,
          6.385807170916716,
          4.575880541341557,
          6.714495214283375,
          4.881545213711141,
          5.888116238832343,
          7.797411885162248,
          6.468902592045046,
          5.650048112061304,
          4.766285536725132,
          6.057885867720305,
          6.769605729748634,
          10.282251751785296,
          8.076824961632303,
          7.958129733816652,
          8.367357755094483,
          7.295112048795698,
          7.23884154747617,
          2.865289943255333,
          11.147470113345912,
          6.684291685114108,
          6.1976826619748895,
          2.963362008986589,
          3.9395889679935796,
          4.541437896810737,
          3.5514942036147072,
          4.03211265932668,
          8.738526615651537,
          4.20786317502239,
          3.9404642801305276,
          4.523578267557585,
          4.962107562390343,
          3.3657054463344656,
          4.4749080984814436,
          6.553899769932891,
          7.998026445353696,
          3.0401275593382264,
          3.9356028008418735,
          4.80268802739094,
          4.87990698075401,
          6.784636672305928,
          5.72218027117513,
          3.3381635201419226,
          2.886520546058677,
          9.912983598641455,
          5.624878004168807,
          14.313777243307232,
          7.587307353396716,
          10.01044668827803,
          10.429398163398332,
          10.298147656965556,
          9.516408279480293,
          11.693560622969297,
          10.875791727030174,
          7.7961961744060755,
          13.403563577525125,
          8.94388309728109,
          9.226915698480555,
          7.479172389493153,
          16.24397965392071,
          4.596150108497811,
          3.0916934550698034,
          2.940905884129678,
          12.760333985989046,
          7.235616986713232,
          5.652777279831061,
          4.44587873057504,
          7.085254895184842,
          8.250785346746342,
          8.37544948678618,
          2.9608482669353977,
          3.284706044018789,
          3.3362540106131995,
          6.617444392928694,
          6.253070135591179,
          6.762597801805614,
          4.634878108828932,
          3.780006541137528,
          2.847791097004868,
          7.92660377274569,
          4.972062045682436,
          5.696967616676617,
          5.469106490462338,
          8.163513939030423,
          5.683966259319116,
          5.935302051965234,
          6.450357762610031,
          4.966121060316674,
          4.8732527350303,
          3.6017285684115445,
          3.649565279447548,
          2.7005341149603868,
          6.253223227274053,
          4.572232792498782,
          3.429076180124355,
          4.121344465635651,
          5.893565944131917,
          7.881916365009485,
          5.794348410543372,
          8.248625335895005,
          9.791110986112407,
          12.572718828222012,
          10.009062644775774,
          10.429707910141847,
          10.735713796405204,
          7.393032893959293,
          8.4990653539188,
          10.604352786731432,
          9.34964352483046,
          6.7581276538375015,
          8.36609769340187,
          6.639927873367532,
          8.099626827042165,
          4.196789423760888,
          7.540646708451553,
          8.02198898925839,
          6.540822885695841,
          7.4412713931789645,
          6.37134824652084,
          6.828651218841114,
          3.993100999294839,
          3.8664611998401566,
          9.082770024482732,
          4.465567989536367,
          7.8648054325560715,
          5.577715167561554,
          5.1432356119067775,
          4.422838633476582,
          2.663452049836092,
          4.546919933889982,
          7.652008774211659,
          6.244640756678336,
          6.1437518525598,
          9.69818028407914,
          7.4161166432836785,
          3.7878369425499465,
          7.798866002382084,
          3.383782954271181,
          10.030921198382599,
          8.24757087189734,
          11.63238220857548,
          11.265013084980856,
          9.271396328551523,
          6.549536522803793,
          12.713547624267859,
          8.93070996457023,
          13.374318316308761,
          10.694686868620503,
          6.930633199021836,
          10.533932931783644,
          7.415148555046202,
          14.131652491087628,
          13.864523376237495,
          8.111431846362592,
          9.569856062042563,
          7.030689430193968,
          10.17393399198337,
          2.49757315975166,
          7.230096922996658,
          7.544316549414458,
          7.554322965866566,
          12.60327472096375,
          9.749869469337343,
          8.962409925311519,
          7.302528729539403,
          4.152401887128523,
          5.682010841432831,
          4.468439931681672,
          7.173677446230221,
          7.055233350704827,
          7.9926334816569184,
          5.513174125224249,
          5.332772544545805,
          7.962521710594004,
          6.063190462834159,
          5.857246750937356,
          5.906377007878856,
          5.7176592376547415,
          7.837531383584235,
          2.307503291141096,
          4.6374993284668715,
          9.92580275031248,
          4.14816071313334,
          4.964862891634228,
          3.0618782746735493,
          3.025204167334896,
          5.652812263160933,
          7.508747467879704,
          7.747610900390847,
          4.564324365433942,
          7.796983785633488,
          7.4584229699071365,
          7.350147535407575,
          8.59380542640719,
          7.112101516720644,
          6.352313230944243,
          8.908701471523768,
          16.2597984805017,
          11.967737648863498,
          9.287622660242107,
          13.727474303048396,
          8.522604054233913,
          13.065347486039514,
          9.777327921746597,
          9.27802116476737,
          7.947002590025136,
          15.710756052787996,
          12.73920881877668,
          7.862720991735482,
          5.37890951833673,
          5.633653361711024,
          3.6465683952596106,
          4.948071791584746,
          7.1908569707582775,
          4.114540726103568,
          2.232695114770109,
          6.991897317964257,
          4.905953288475624,
          3.345429369560711,
          4.06672056516467,
          4.264332410125586,
          5.670689314807067,
          6.5101162772345695,
          9.656845071143279,
          5.713375485281336,
          5.997228901136887,
          6.369330991445486,
          4.1374015196762235,
          9.760395641571574,
          9.950049065017923,
          5.074745986110234,
          11.151404478968328,
          6.6495117830951775,
          13.243443555111606,
          13.175580632904648,
          9.306973852038315,
          8.764975268637999,
          10.07359046810324,
          9.276389202020713,
          8.257824485201251,
          8.054004836705937,
          9.592849021588956,
          6.57826859307671,
          10.690396169558037,
          8.284647565044244,
          8.11100510528375,
          9.382320137636565,
          9.323271653873626,
          5.5647919328460915,
          6.020726394251087,
          3.984433553321344,
          3.8322311394294086,
          3.1065032453964494,
          5.549563127057932,
          7.852732359070375,
          5.0129830860151126,
          5.233540368196205,
          4.601877729197639,
          6.423142027062664,
          2.95235584882722,
          3.9151633204491088
         ],
         "y": [
          121.26,
          144.48000000000002,
          95.19999999999999,
          244.42,
          -53.379999999999995,
          209.92000000000002,
          485.64000000000004,
          104.88,
          196.56,
          411.48,
          571.78,
          199.12,
          116.84,
          267.12,
          217.08,
          136.68,
          107.63999999999999,
          311.74,
          162.44,
          70,
          199.5,
          94.24,
          273.7,
          190.28,
          181.76,
          99.35999999999999,
          180,
          154.94,
          29.04,
          167.14000000000001,
          175,
          222.04,
          140.8,
          161.20000000000002,
          127.4,
          229.35999999999999,
          66.24,
          193.11999999999998,
          115.2,
          28.799999999999997,
          121.44000000000001,
          5.12,
          75.04,
          155.44,
          171.36,
          117.9,
          57.199999999999996,
          135.23999999999998,
          158.6,
          248.04,
          340.36,
          250.26000000000002,
          52.82000000000001,
          88.44000000000001,
          161.28,
          145.6,
          160.79999999999998,
          195.64000000000001,
          230.48000000000002,
          153.6,
          439.2,
          233.7,
          2.48,
          37.96,
          164.70000000000002,
          196.79999999999998,
          135,
          199.5,
          278.2,
          121.44,
          7.68,
          169.74,
          273.92,
          217.46,
          121.92,
          241.56,
          223.85999999999999,
          91.44,
          436.99999999999994,
          162.26000000000002,
          294.84,
          118.80000000000001,
          51.12,
          109.06,
          246,
          147.4,
          19.18,
          158.12,
          325.08,
          192.96,
          248.32,
          267.12,
          96.72,
          149.34,
          33.32,
          152.76000000000002,
          177.6,
          178.56,
          12.7,
          45.72,
          280.59999999999997,
          186.02,
          195.58,
          120.56,
          299.88,
          252.5,
          229.68,
          272.8,
          210.04,
          333.59999999999997,
          199.2,
          59.839999999999996,
          12.6,
          18.48,
          214.2,
          429.44,
          228.8,
          144.1,
          128.64000000000001,
          75,
          250.26000000000002,
          272.5,
          267.8,
          137,
          35.28,
          194.18,
          231.4,
          243.66,
          330.24,
          312.32,
          231.4,
          299,
          14.8,
          37.96,
          212.22,
          268.66,
          132,
          116.16,
          27.5,
          43.8,
          176.4,
          307.5,
          253.76,
          210.82,
          180,
          193.88,
          48.8,
          105.84,
          179.57999999999998,
          181.76,
          264.6,
          225.32000000000002,
          321.59999999999997,
          215.04,
          29.040000000000003,
          204.36,
          255,
          110.04,
          123.48,
          199.12,
          176.08,
          166.32000000000002,
          230.4,
          255,
          187.5,
          156,
          167.70000000000002,
          125.46,
          158.12,
          45.98,
          185.76,
          57.64,
          159.60000000000002,
          163.68,
          215.9,
          244.4,
          208.56,
          73.32,
          233.18,
          234.96,
          296.96,
          190.08,
          248.16000000000003,
          262.6,
          187.60000000000002,
          362.08,
          244.4,
          261.12,
          -6.04,
          137.8,
          150.48000000000002,
          119.7,
          171.12,
          152.5,
          208.32,
          263.68,
          264.32,
          113.16,
          150.8,
          168.96,
          195.36,
          197.12,
          287.68,
          124.46000000000001,
          12.9,
          95.46000000000001,
          111.20000000000002,
          224.48,
          161.20000000000002,
          291.54,
          190.5,
          30,
          256,
          152.4,
          172.8,
          190.08,
          213.3,
          264.62,
          217.46,
          204.36,
          276.86,
          0,
          299,
          309.6,
          214.84,
          202.16000000000003,
          116.10000000000001,
          245.52,
          309.76,
          227.04000000000002,
          -385.22,
          133.28,
          234.96,
          109.22,
          172.72,
          204.8,
          189.42,
          112,
          134,
          453.59999999999997,
          146.16,
          135.3,
          265.96,
          85.8,
          267.8,
          137.8,
          145.6,
          34.16,
          257.03999999999996,
          179.4,
          230.39999999999998,
          228.16,
          271.03999999999996,
          254,
          122.36000000000001,
          64.5,
          43.199999999999996,
          147.84,
          248.46,
          75.4,
          110.94,
          89.53999999999999,
          115.08000000000001,
          242.52,
          200.20000000000002,
          222.04,
          84.6,
          209.60000000000002,
          202.8,
          178.16,
          205.4,
          268.8,
          251.52,
          373.76,
          319.8,
          -56.160000000000004,
          350.88,
          330.2,
          301.86,
          274.32,
          -153.22,
          317.5,
          306.54,
          234,
          213.3,
          228.16,
          129.60000000000002,
          77.5,
          213.20000000000002,
          202.8,
          18.2,
          13.100000000000001,
          179.4,
          207.5,
          110.04,
          297.65999999999997,
          276,
          260,
          62,
          133.28,
          138.6,
          70,
          115.91999999999999,
          34.44,
          208.56,
          191.52,
          142.04000000000002,
          133.28,
          218.4,
          208.56,
          272.48,
          224.4,
          191.52,
          252.20000000000002,
          296.96,
          244.4,
          228.76000000000002,
          186.20000000000002,
          175.56,
          262,
          186.02,
          171.52,
          164.92000000000002,
          301.6,
          253.76,
          136.74,
          38.92,
          95.76,
          145,
          157.20000000000002,
          292.32,
          141.48000000000002,
          151.96,
          48.24,
          307.34,
          67.60000000000001,
          -52.25999999999999
         ]
        }
       ],
       "layout": {
        "font": {
         "family": "Times New Roman",
         "size": 36
        },
        "height": 800,
        "hovermode": "closest",
        "showlegend": false,
        "template": {
         "data": {
          "bar": [
           {
            "error_x": {
             "color": "#2a3f5f"
            },
            "error_y": {
             "color": "#2a3f5f"
            },
            "marker": {
             "line": {
              "color": "#E5ECF6",
              "width": 0.5
             }
            },
            "type": "bar"
           }
          ],
          "barpolar": [
           {
            "marker": {
             "line": {
              "color": "#E5ECF6",
              "width": 0.5
             }
            },
            "type": "barpolar"
           }
          ],
          "carpet": [
           {
            "aaxis": {
             "endlinecolor": "#2a3f5f",
             "gridcolor": "white",
             "linecolor": "white",
             "minorgridcolor": "white",
             "startlinecolor": "#2a3f5f"
            },
            "baxis": {
             "endlinecolor": "#2a3f5f",
             "gridcolor": "white",
             "linecolor": "white",
             "minorgridcolor": "white",
             "startlinecolor": "#2a3f5f"
            },
            "type": "carpet"
           }
          ],
          "choropleth": [
           {
            "colorbar": {
             "outlinewidth": 0,
             "ticks": ""
            },
            "type": "choropleth"
           }
          ],
          "contour": [
           {
            "colorbar": {
             "outlinewidth": 0,
             "ticks": ""
            },
            "colorscale": [
             [
              0,
              "#0d0887"
             ],
             [
              0.1111111111111111,
              "#46039f"
             ],
             [
              0.2222222222222222,
              "#7201a8"
             ],
             [
              0.3333333333333333,
              "#9c179e"
             ],
             [
              0.4444444444444444,
              "#bd3786"
             ],
             [
              0.5555555555555556,
              "#d8576b"
             ],
             [
              0.6666666666666666,
              "#ed7953"
             ],
             [
              0.7777777777777778,
              "#fb9f3a"
             ],
             [
              0.8888888888888888,
              "#fdca26"
             ],
             [
              1,
              "#f0f921"
             ]
            ],
            "type": "contour"
           }
          ],
          "contourcarpet": [
           {
            "colorbar": {
             "outlinewidth": 0,
             "ticks": ""
            },
            "type": "contourcarpet"
           }
          ],
          "heatmap": [
           {
            "colorbar": {
             "outlinewidth": 0,
             "ticks": ""
            },
            "colorscale": [
             [
              0,
              "#0d0887"
             ],
             [
              0.1111111111111111,
              "#46039f"
             ],
             [
              0.2222222222222222,
              "#7201a8"
             ],
             [
              0.3333333333333333,
              "#9c179e"
             ],
             [
              0.4444444444444444,
              "#bd3786"
             ],
             [
              0.5555555555555556,
              "#d8576b"
             ],
             [
              0.6666666666666666,
              "#ed7953"
             ],
             [
              0.7777777777777778,
              "#fb9f3a"
             ],
             [
              0.8888888888888888,
              "#fdca26"
             ],
             [
              1,
              "#f0f921"
             ]
            ],
            "type": "heatmap"
           }
          ],
          "heatmapgl": [
           {
            "colorbar": {
             "outlinewidth": 0,
             "ticks": ""
            },
            "colorscale": [
             [
              0,
              "#0d0887"
             ],
             [
              0.1111111111111111,
              "#46039f"
             ],
             [
              0.2222222222222222,
              "#7201a8"
             ],
             [
              0.3333333333333333,
              "#9c179e"
             ],
             [
              0.4444444444444444,
              "#bd3786"
             ],
             [
              0.5555555555555556,
              "#d8576b"
             ],
             [
              0.6666666666666666,
              "#ed7953"
             ],
             [
              0.7777777777777778,
              "#fb9f3a"
             ],
             [
              0.8888888888888888,
              "#fdca26"
             ],
             [
              1,
              "#f0f921"
             ]
            ],
            "type": "heatmapgl"
           }
          ],
          "histogram": [
           {
            "marker": {
             "colorbar": {
              "outlinewidth": 0,
              "ticks": ""
             }
            },
            "type": "histogram"
           }
          ],
          "histogram2d": [
           {
            "colorbar": {
             "outlinewidth": 0,
             "ticks": ""
            },
            "colorscale": [
             [
              0,
              "#0d0887"
             ],
             [
              0.1111111111111111,
              "#46039f"
             ],
             [
              0.2222222222222222,
              "#7201a8"
             ],
             [
              0.3333333333333333,
              "#9c179e"
             ],
             [
              0.4444444444444444,
              "#bd3786"
             ],
             [
              0.5555555555555556,
              "#d8576b"
             ],
             [
              0.6666666666666666,
              "#ed7953"
             ],
             [
              0.7777777777777778,
              "#fb9f3a"
             ],
             [
              0.8888888888888888,
              "#fdca26"
             ],
             [
              1,
              "#f0f921"
             ]
            ],
            "type": "histogram2d"
           }
          ],
          "histogram2dcontour": [
           {
            "colorbar": {
             "outlinewidth": 0,
             "ticks": ""
            },
            "colorscale": [
             [
              0,
              "#0d0887"
             ],
             [
              0.1111111111111111,
              "#46039f"
             ],
             [
              0.2222222222222222,
              "#7201a8"
             ],
             [
              0.3333333333333333,
              "#9c179e"
             ],
             [
              0.4444444444444444,
              "#bd3786"
             ],
             [
              0.5555555555555556,
              "#d8576b"
             ],
             [
              0.6666666666666666,
              "#ed7953"
             ],
             [
              0.7777777777777778,
              "#fb9f3a"
             ],
             [
              0.8888888888888888,
              "#fdca26"
             ],
             [
              1,
              "#f0f921"
             ]
            ],
            "type": "histogram2dcontour"
           }
          ],
          "mesh3d": [
           {
            "colorbar": {
             "outlinewidth": 0,
             "ticks": ""
            },
            "type": "mesh3d"
           }
          ],
          "parcoords": [
           {
            "line": {
             "colorbar": {
              "outlinewidth": 0,
              "ticks": ""
             }
            },
            "type": "parcoords"
           }
          ],
          "pie": [
           {
            "automargin": true,
            "type": "pie"
           }
          ],
          "scatter": [
           {
            "marker": {
             "colorbar": {
              "outlinewidth": 0,
              "ticks": ""
             }
            },
            "type": "scatter"
           }
          ],
          "scatter3d": [
           {
            "line": {
             "colorbar": {
              "outlinewidth": 0,
              "ticks": ""
             }
            },
            "marker": {
             "colorbar": {
              "outlinewidth": 0,
              "ticks": ""
             }
            },
            "type": "scatter3d"
           }
          ],
          "scattercarpet": [
           {
            "marker": {
             "colorbar": {
              "outlinewidth": 0,
              "ticks": ""
             }
            },
            "type": "scattercarpet"
           }
          ],
          "scattergeo": [
           {
            "marker": {
             "colorbar": {
              "outlinewidth": 0,
              "ticks": ""
             }
            },
            "type": "scattergeo"
           }
          ],
          "scattergl": [
           {
            "marker": {
             "colorbar": {
              "outlinewidth": 0,
              "ticks": ""
             }
            },
            "type": "scattergl"
           }
          ],
          "scattermapbox": [
           {
            "marker": {
             "colorbar": {
              "outlinewidth": 0,
              "ticks": ""
             }
            },
            "type": "scattermapbox"
           }
          ],
          "scatterpolar": [
           {
            "marker": {
             "colorbar": {
              "outlinewidth": 0,
              "ticks": ""
             }
            },
            "type": "scatterpolar"
           }
          ],
          "scatterpolargl": [
           {
            "marker": {
             "colorbar": {
              "outlinewidth": 0,
              "ticks": ""
             }
            },
            "type": "scatterpolargl"
           }
          ],
          "scatterternary": [
           {
            "marker": {
             "colorbar": {
              "outlinewidth": 0,
              "ticks": ""
             }
            },
            "type": "scatterternary"
           }
          ],
          "surface": [
           {
            "colorbar": {
             "outlinewidth": 0,
             "ticks": ""
            },
            "colorscale": [
             [
              0,
              "#0d0887"
             ],
             [
              0.1111111111111111,
              "#46039f"
             ],
             [
              0.2222222222222222,
              "#7201a8"
             ],
             [
              0.3333333333333333,
              "#9c179e"
             ],
             [
              0.4444444444444444,
              "#bd3786"
             ],
             [
              0.5555555555555556,
              "#d8576b"
             ],
             [
              0.6666666666666666,
              "#ed7953"
             ],
             [
              0.7777777777777778,
              "#fb9f3a"
             ],
             [
              0.8888888888888888,
              "#fdca26"
             ],
             [
              1,
              "#f0f921"
             ]
            ],
            "type": "surface"
           }
          ],
          "table": [
           {
            "cells": {
             "fill": {
              "color": "#EBF0F8"
             },
             "line": {
              "color": "white"
             }
            },
            "header": {
             "fill": {
              "color": "#C8D4E3"
             },
             "line": {
              "color": "white"
             }
            },
            "type": "table"
           }
          ]
         },
         "layout": {
          "annotationdefaults": {
           "arrowcolor": "#2a3f5f",
           "arrowhead": 0,
           "arrowwidth": 1
          },
          "coloraxis": {
           "colorbar": {
            "outlinewidth": 0,
            "ticks": ""
           }
          },
          "colorscale": {
           "diverging": [
            [
             0,
             "#8e0152"
            ],
            [
             0.1,
             "#c51b7d"
            ],
            [
             0.2,
             "#de77ae"
            ],
            [
             0.3,
             "#f1b6da"
            ],
            [
             0.4,
             "#fde0ef"
            ],
            [
             0.5,
             "#f7f7f7"
            ],
            [
             0.6,
             "#e6f5d0"
            ],
            [
             0.7,
             "#b8e186"
            ],
            [
             0.8,
             "#7fbc41"
            ],
            [
             0.9,
             "#4d9221"
            ],
            [
             1,
             "#276419"
            ]
           ],
           "sequential": [
            [
             0,
             "#0d0887"
            ],
            [
             0.1111111111111111,
             "#46039f"
            ],
            [
             0.2222222222222222,
             "#7201a8"
            ],
            [
             0.3333333333333333,
             "#9c179e"
            ],
            [
             0.4444444444444444,
             "#bd3786"
            ],
            [
             0.5555555555555556,
             "#d8576b"
            ],
            [
             0.6666666666666666,
             "#ed7953"
            ],
            [
             0.7777777777777778,
             "#fb9f3a"
            ],
            [
             0.8888888888888888,
             "#fdca26"
            ],
            [
             1,
             "#f0f921"
            ]
           ],
           "sequentialminus": [
            [
             0,
             "#0d0887"
            ],
            [
             0.1111111111111111,
             "#46039f"
            ],
            [
             0.2222222222222222,
             "#7201a8"
            ],
            [
             0.3333333333333333,
             "#9c179e"
            ],
            [
             0.4444444444444444,
             "#bd3786"
            ],
            [
             0.5555555555555556,
             "#d8576b"
            ],
            [
             0.6666666666666666,
             "#ed7953"
            ],
            [
             0.7777777777777778,
             "#fb9f3a"
            ],
            [
             0.8888888888888888,
             "#fdca26"
            ],
            [
             1,
             "#f0f921"
            ]
           ]
          },
          "colorway": [
           "#636efa",
           "#EF553B",
           "#00cc96",
           "#ab63fa",
           "#FFA15A",
           "#19d3f3",
           "#FF6692",
           "#B6E880",
           "#FF97FF",
           "#FECB52"
          ],
          "font": {
           "color": "#2a3f5f"
          },
          "geo": {
           "bgcolor": "white",
           "lakecolor": "white",
           "landcolor": "#E5ECF6",
           "showlakes": true,
           "showland": true,
           "subunitcolor": "white"
          },
          "hoverlabel": {
           "align": "left"
          },
          "hovermode": "closest",
          "mapbox": {
           "style": "light"
          },
          "paper_bgcolor": "white",
          "plot_bgcolor": "#E5ECF6",
          "polar": {
           "angularaxis": {
            "gridcolor": "white",
            "linecolor": "white",
            "ticks": ""
           },
           "bgcolor": "#E5ECF6",
           "radialaxis": {
            "gridcolor": "white",
            "linecolor": "white",
            "ticks": ""
           }
          },
          "scene": {
           "xaxis": {
            "backgroundcolor": "#E5ECF6",
            "gridcolor": "white",
            "gridwidth": 2,
            "linecolor": "white",
            "showbackground": true,
            "ticks": "",
            "zerolinecolor": "white"
           },
           "yaxis": {
            "backgroundcolor": "#E5ECF6",
            "gridcolor": "white",
            "gridwidth": 2,
            "linecolor": "white",
            "showbackground": true,
            "ticks": "",
            "zerolinecolor": "white"
           },
           "zaxis": {
            "backgroundcolor": "#E5ECF6",
            "gridcolor": "white",
            "gridwidth": 2,
            "linecolor": "white",
            "showbackground": true,
            "ticks": "",
            "zerolinecolor": "white"
           }
          },
          "shapedefaults": {
           "line": {
            "color": "#2a3f5f"
           }
          },
          "ternary": {
           "aaxis": {
            "gridcolor": "white",
            "linecolor": "white",
            "ticks": ""
           },
           "baxis": {
            "gridcolor": "white",
            "linecolor": "white",
            "ticks": ""
           },
           "bgcolor": "#E5ECF6",
           "caxis": {
            "gridcolor": "white",
            "linecolor": "white",
            "ticks": ""
           }
          },
          "title": {
           "x": 0.05
          },
          "xaxis": {
           "automargin": true,
           "gridcolor": "white",
           "linecolor": "white",
           "ticks": "",
           "title": {
            "standoff": 15
           },
           "zerolinecolor": "white",
           "zerolinewidth": 2
          },
          "yaxis": {
           "automargin": true,
           "gridcolor": "white",
           "linecolor": "white",
           "ticks": "",
           "title": {
            "standoff": 15
           },
           "zerolinecolor": "white",
           "zerolinewidth": 2
          }
         }
        },
        "title": {
         "text": "Ti compounds"
        },
        "width": 800,
        "xaxis": {
         "gridwidth": 2,
         "title": {
          "text": "Density [g/cm<sup>-3</sup>]"
         },
         "zeroline": false
        },
        "yaxis": {
         "gridwidth": 2,
         "range": [
          0,
          600
         ],
         "title": {
          "text": "Young's Modulus [GPa]"
         },
         "zeroline": false
        }
       }
      },
      "text/html": [
       "<div>\n",
       "        \n",
       "        \n",
       "            <div id=\"c511ec19-25aa-455d-8444-11d5b6f5b3a2\" class=\"plotly-graph-div\" style=\"height:800px; width:800px;\"></div>\n",
       "            <script type=\"text/javascript\">\n",
       "                require([\"plotly\"], function(Plotly) {\n",
       "                    window.PLOTLYENV=window.PLOTLYENV || {};\n",
       "                    \n",
       "                if (document.getElementById(\"c511ec19-25aa-455d-8444-11d5b6f5b3a2\")) {\n",
       "                    Plotly.newPlot(\n",
       "                        'c511ec19-25aa-455d-8444-11d5b6f5b3a2',\n",
       "                        [{\"marker\": {\"color\": [0.29, 0.29, 0.36, 0.21, 0.57, 0.28, 0.14, 0.38, 0.26, 0.27, 0.13, 0.31, 0.27, 0.26, 0.34, 0.34, 0.38, 0.09, 0.31, 0.4, 0.33, 0.24, 0.15, 0.34, 0.28, 0.38, 0.25, 0.27, 0.21, 0.37, 0.25, 0.22, 0.28, 0.3, 0.3, 0.22, 0.38, 0.36, 0.28, 0.2, 0.32, 0.28, 0.34, 0.34, 0.26, 0.31, 0.43, 0.38, 0.3, 0.17, 0.27, 0.29, 0.39, 0.34, 0.28, 0.3, 0.2, 0.34, 0.34, 0.28, 0.22, 0.23, 0.24, 0.46, 0.35, 0.2, 0.25, 0.33, 0.3, 0.38, 0.28, 0.23, 0.28, 0.31, 0.27, 0.22, 0.23, 0.27, 0.15, 0.33, 0.26, 0.32, 0.42, 0.33, 0.23, 0.34, 0.37, 0.18, 0.26, 0.34, 0.28, 0.26, 0.24, 0.31, 0.19, 0.34, 0.2, 0.24, 0.27, 0.27, 0.22, 0.31, 0.27, 0.37, 0.19, 0.25, 0.32, 0.24, 0.18, 0.2, 0.2, 0.36, 0.26, 0.32, 0.26, 0.22, 0.3, 0.31, 0.34, 0.25, 0.29, 0.25, 0.3, 0.37, 0.47, 0.33, 0.3, 0.31, 0.29, 0.28, 0.3, 0.3, 0.48, 0.46, 0.31, 0.33, 0.32, 0.21, 0.25, 0.46, 0.26, 0.25, 0.22, 0.27, 0.25, 0.31, 0.22, 0.26, 0.23, 0.28, 0.26, 0.31, 0.2, 0.28, 0.32, 0.31, 0.25, 0.31, 0.26, 0.31, 0.24, 0.32, 0.28, 0.25, 0.25, 0.3, 0.29, 0.23, 0.34, 0.21, 0.29, 0.31, 0.33, 0.32, 0.27, 0.3, 0.32, 0.41, 0.31, 0.32, 0.28, 0.32, 0.32, 0.3, 0.34, 0.24, 0.3, 0.28, 0.51, 0.3, 0.32, 0.33, 0.24, 0.25, 0.24, 0.28, 0.18, 0.23, 0.3, 0.32, 0.32, 0.28, 0.24, 0.27, 0.29, 0.29, 0.39, 0.22, 0.3, 0.29, 0.27, 0.0, 0.28, 0.27, 0.35, 0.32, 0.35, 0.31, 0.31, 0.31, 0.27, 0.5, 0.3, 0.29, 0.31, 0.33, 0.35, 0.32, 0.28, 0.32, 0.87, 0.36, 0.32, 0.27, 0.27, 0.28, 0.23, 0.4, 0.34, 0.2, 0.26, 0.23, 0.22, 0.3, 0.3, 0.3, 0.3, 0.22, 0.19, 0.3, 0.2, 0.24, 0.21, 0.27, 0.33, 0.29, 0.2, 0.32, 0.23, 0.3, 0.29, 0.21, 0.37, 0.29, 0.3, 0.22, 0.41, 0.31, 0.3, 0.31, 0.3, 0.28, 0.31, 0.28, 0.3, 0.56, 0.29, 0.27, 0.29, 0.27, 0.63, 0.25, 0.31, 0.3, 0.35, 0.24, 0.35, 0.25, 0.3, 0.3, 0.3, 0.31, 0.3, 0.25, 0.31, 0.21, 0.2, 0.25, 0.24, 0.36, 0.26, 0.4, 0.38, 0.23, 0.32, 0.33, 0.34, 0.36, 0.3, 0.32, 0.31, 0.32, 0.33, 0.3, 0.28, 0.3, 0.33, 0.33, 0.33, 0.31, 0.31, 0.34, 0.33, 0.3, 0.22, 0.29, 0.39, 0.26, 0.25, 0.31, 0.26, 0.31, 0.31, 0.34, 0.21, 0.3, 1.01], \"colorbar\": {\"tickfont\": {\"family\": \"Georgia\", \"size\": 16}, \"title\": {\"font\": {\"family\": \"Georgia\", \"size\": 18}, \"text\": \"Poisson Ratio\"}}, \"size\": 12}, \"mode\": \"markers\", \"text\": [\"Ti2Zn\", \"TiZn\", \"TiAg\", \"TiS\", \"TiAu2\", \"Ti2Rh\", \"Ti3B4\", \"TiNi\", \"Ti2C\", \"TiIr3\", \"TiB2\", \"Ti3O5\", \"Ti5Se4\", \"Ti2O\", \"TiIr\", \"TiCu3\", \"TiAu4\", \"Ti2Be17\", \"Ti2Pd\", \"Ti3Sb\", \"TiCr2\", \"Ti3Te4\", \"U2Ti\", \"Ti3Rh5\", \"Ti3Au\", \"Ti2Ni\", \"TiAs\", \"Ti3Al\", \"TiTe2\", \"TiMn2\", \"TiAl\", \"TiP2\", \"Ti6Sn5\", \"TiCu\", \"Ti5Sn3\", \"Ti5Si3\", \"TiZn3\", \"TiRe\", \"TiSb\", \"TiSe2\", \"Ti5Sb3\", \"TiI3\", \"TiZn16\", \"Ti3Pt\", \"Ti3Hg\", \"TiF3\", \"TiH2\", \"TiRh\", \"Ti3Cu4\", \"TiBe2\", \"TiOs\", \"TiFe\", \"TiCd\", \"Ti2Cd\", \"Ti2Ga\", \"Ti3Ga\", \"Ti2Ga3\", \"Ti3Pt5\", \"TiPt8\", \"Ti2Sn\", \"TiN\", \"Ti5Si4\", \"TiI4\", \"Ti3Ir\", \"TiO2\", \"TiAl2\", \"TiSb2\", \"TiCr2\", \"TiPt3\", \"Ti3Pd5\", \"TiCl3\", \"TiGa2\", \"TiRu\", \"TiCo3\", \"Ti2Sn3\", \"TiSi\", \"TiP\", \"Ti5Te4\", \"TiB\", \"TiCo\", \"Ti2N\", \"Ti3In\", \"Ti3Pb\", \"Ti2Ag\", \"Ti2ZnN\", \"TiZnN2\", \"TiTl2F6\", \"TiTeAs\", \"TiRh3\", \"TiTc\", \"TiNi3\", \"TiFe2Sn\", \"TiPbO3\", \"TiNiSb\", \"TiS2\", \"TiGaPt\", \"TiGa3\", \"TiGa\", \"Cs2TiCl6\", \"TiBrN\", \"Ti8C5\", \"MgTi2O5\", \"NaTi2O4\", \"Ti2Pd3\", \"Ti3AlC2\", \"CaTiO3\", \"Ti2O3\", \"SrTiO3\", \"TiAl3\", \"Ti3SiC2\", \"TiGe2\", \"Ti2Bi\", \"Cs3Ti2Cl9\", \"RbTiBr3\", \"Ti2S\", \"TiC\", \"TiSiRh\", \"Ti2Cu\", \"Sc2Ti2O7\", \"Li2TiF6\", \"Ti2CoRe\", \"TiFeSi\", \"TiZnIr2\", \"TiZnNi2\", \"Ti2NiIr\", \"Ti2RePd\", \"Ti2MoPt\", \"TiTc2Sb\", \"TiTc2W\", \"Ti2OsRu\", \"TiZnCo2\", \"TiVRe2\", \"TiGaPd2\", \"TiInPd2\", \"Ti2MnRh\", \"TaTiOs2\", \"SrTiN2\", \"LiTiS2\", \"TiS3\", \"TiPt\", \"Eu2TiO4\", \"TiCrP\", \"Ti6Si2B\", \"TiNiGe\", \"Ti2PbC\", \"TiCo2Sn\", \"TiNCl\", \"Na8Ti5O14\", \"Li2TiO3\", \"ZrTiAs\", \"TiAlFe2\", \"TiCo2Si\", \"Ti2CS\", \"MgTiO3\", \"K2TiF6\", \"TiCo2Ge\", \"SrTiO3\", \"BaTiO3\", \"YTiGe\", \"TiAsRh\", \"Ti2SbP\", \"ThTi2O6\", \"TiAlCo2\", \"SrTiO3\", \"Sr2TiO4\", \"Na4Ti5O12\", \"LiTi2O4\", \"Mg3(TiAl9)2\", \"TiAlNi2\", \"TiSnO3\", \"Mg2TiO4\", \"BaTiF6\", \"Ti2AlTc\", \"LiTiRh2\", \"TiMn2Al\", \"Ti2TcRh\", \"Ti2ReNi\", \"TiZnAu2\", \"Ti2MnOs\", \"Ti2MoIr\", \"Ti2TcIr\", \"Ti2TcNi\", \"TiVTc2\", \"Ti2ReRh\", \"TiBe2Ir\", \"TiFe2Si\", \"TiBeRh2\", \"TiBeCo2\", \"TiAlRh2\", \"CsTi6O12\", \"Ti6Al16Pt7\", \"TiGaPd\", \"Zr(TiGa2)2\", \"Lu(TiGa2)2\", \"Ti2InN\", \"TiSiRu\", \"Ti2AlC\", \"Ti3NiS6\", \"TiAlAu\", \"TiMnO3\", \"TiGaCo2\", \"TiCuSi\", \"TiFeSi2\", \"YTiSi\", \"Rb2TiCl6\", \"Ti(CuS)4\", \"TiGaNi2\", \"Ti2SnC\", \"TiAlCu2\", \"Ti2BRh6\", \"TiCoSb\", \"TiCdF6\", \"TiGaFe2\", \"Li4Ti5O12\", \"Ti2CoIr\", \"Ti2AlRe\", \"TaTiRu2\", \"TaTiTc2\", \"TiZnRh2\", \"Ti2MnFe\", \"MgTiIr2\", \"TiZnPd2\", \"TiNbRe2\", \"TiMn2W\", \"TiMn2V\", \"Ti2TcPt\", \"TiZnCu2\", \"TiGaIr2\", \"TiBeIr2\", \"TiAlRu2\", \"TiInRh2\", \"Ti2ZnTc\", \"TaTiMn2\", \"Li4TiO4\", \"TiNiSn\", \"TiFeTe\", \"TiSnPd\", \"LiTiPt2\", \"TiGePt\", \"Ti2ReB2\", \"Tm(TiGa2)2\", \"Ti2NiS4\", \"Ti2GaN\", \"Sr4TiN4\", \"TiPRu\", \"TiFeSb\", \"Ti3In3Rh2\", \"Ti2Te2P\", \"Ti2GaC\", \"TiGePd\", \"Ti2InC\", \"Ti3InC\", \"Ti3SnC2\", \"TiCoSi\", \"TiInCu2\", \"CaTiF6\", \"TiIN\", \"TiSnPt\", \"Ti3AlC\", \"Ba2TiO4\", \"Ca4TiN4\", \"NaTiS2\", \"Ti2AlMo\", \"Ti2CoTc\", \"MgTiRh2\", \"Ti6Al16Ni7\", \"TiAlPd2\", \"Ti2MnRu\", \"TiMnCo2\", \"TiInCo2\", \"Ti2NiMo\", \"TiMn2Si\", \"TiNbTc2\", \"TiRe2W\", \"TiReTc2\", \"TiSnPd2\", \"TiSiOs2\", \"TiSiRu2\", \"Ti2ReIr\", \"TiSnRu2\", \"TiGaRh2\", \"TiFe2Ge\", \"TaTiRe2\", \"Ti2IrW\", \"ScTiRu2\", \"Ti3ZnN\", \"TiCdO3\", \"RbTiS2\", \"TiNiO3\", \"TiCoGe\", \"CsTiBr3\", \"K2TiCl6\", \"TiGaNi\", \"Sr3Ti2O7\", \"Na2Ti3O7\", \"LiTiO2\", \"Ti2AlN\", \"TiSiNi\", \"TiCu2Te3\", \"TiAlPt\", \"BaTiO3\", \"Ti3SnH\", \"Ti3PdO\", \"Li(TiSe2)3\", \"Ti2CrIr\", \"Ti2FeIr\", \"Ti2MnBe\", \"PaTiTc2\", \"Ti2MnCo\", \"LiTiIr2\", \"TiAlOs2\", \"TiGaRu2\", \"TiMnRh2\", \"Ti2MnIr\", \"TiGeRu2\", \"Ti2TcRu\", \"TiSiTc2\", \"TiSnRh2\", \"Ti2MnNi\", \"Ti2TcOs\", \"AcTiO3\", \"Ti2TcPd\", \"Ti2ZnRe\", \"TiTc2Mo\", \"Ti2GeC\", \"Ti2CdC\", \"Na2Ti2As2O\", \"RbTiAsO5\", \"LiTiPO5\", \"Tb2Ti2S2O5\", \"TiGaFeCo\", \"Nd2Ti2S2O5\", \"Sm2Ti2S2O5\", \"Na2Ti2Sb2O\", \"TiAlFeCo\", \"KNaTiO3\", \"Cs2KTiF6\"], \"type\": \"scatter\", \"x\": [5.4624418431294846, 6.036542541370883, 7.340358574162901, 4.442034010283959, 14.162674008729564, 7.08866045352241, 4.557547483685545, 6.4129856237257545, 4.4397691684648475, 17.774770707590932, 4.48742509138872, 4.187247707142454, 5.571714611425473, 5.012926886778068, 13.171719999335542, 7.64811775237397, 15.866690660766688, 2.4788616197207776, 6.905202130563418, 6.204950157087049, 6.237410464246428, 6.386267555747635, 15.633596985294249, 9.261614828158567, 8.460278692613556, 5.725013960684072, 5.836287445057678, 4.24886855694461, 5.967718130581316, 6.901373874786948, 3.8339015516249924, 4.262085969423355, 6.8133915501839475, 6.4409362603173195, 6.425214777223388, 4.347039336035789, 6.697660334904412, 12.813423301491598, 6.344016707746623, 4.692579364547135, 6.533810701664811, 4.359640173734073, 7.014325083136486, 8.76669891569527, 8.13860497378146, 2.8243455697091604, 3.832731997844202, 8.321025415894498, 6.748300335520562, 3.293295530284812, 13.333766927112507, 6.642034495803114, 6.897648170834788, 6.215938143385086, 5.649651697567152, 5.416551057420764, 6.382990495806396, 14.802111278232545, 19.082725589745888, 6.451610572115688, 5.340297397189084, 4.25473535677054, 4.3668690052068415, 8.833383915301757, 3.6159400033700795, 3.536390535036478, 7.376419290265216, 6.234565438345089, 17.027464482463998, 8.90461162906226, 2.2774261271317386, 6.57508815436937, 8.419437219779311, 7.9485403294031345, 7.060315921097217, 4.224308672822326, 4.219611373656351, 6.385807170916716, 4.575880541341557, 6.714495214283375, 4.881545213711141, 5.888116238832343, 7.797411885162248, 6.468902592045046, 5.650048112061304, 4.766285536725132, 6.057885867720305, 6.769605729748634, 10.282251751785296, 8.076824961632303, 7.958129733816652, 8.367357755094483, 7.295112048795698, 7.23884154747617, 2.865289943255333, 11.147470113345912, 6.684291685114108, 6.1976826619748895, 2.963362008986589, 3.9395889679935796, 4.541437896810737, 3.5514942036147072, 4.03211265932668, 8.738526615651537, 4.20786317502239, 3.9404642801305276, 4.523578267557585, 4.962107562390343, 3.3657054463344656, 4.4749080984814436, 6.553899769932891, 7.998026445353696, 3.0401275593382264, 3.9356028008418735, 4.80268802739094, 4.87990698075401, 6.784636672305928, 5.72218027117513, 3.3381635201419226, 2.886520546058677, 9.912983598641455, 5.624878004168807, 14.313777243307232, 7.587307353396716, 10.01044668827803, 10.429398163398332, 10.298147656965556, 9.516408279480293, 11.693560622969297, 10.875791727030174, 7.7961961744060755, 13.403563577525125, 8.94388309728109, 9.226915698480555, 7.479172389493153, 16.24397965392071, 4.596150108497811, 3.0916934550698034, 2.940905884129678, 12.760333985989046, 7.235616986713232, 5.652777279831061, 4.44587873057504, 7.085254895184842, 8.250785346746342, 8.37544948678618, 2.9608482669353977, 3.284706044018789, 3.3362540106131995, 6.617444392928694, 6.253070135591179, 6.762597801805614, 4.634878108828932, 3.780006541137528, 2.847791097004868, 7.92660377274569, 4.972062045682436, 5.696967616676617, 5.469106490462338, 8.163513939030423, 5.683966259319116, 5.935302051965234, 6.450357762610031, 4.966121060316674, 4.8732527350303, 3.6017285684115445, 3.649565279447548, 2.7005341149603868, 6.253223227274053, 4.572232792498782, 3.429076180124355, 4.121344465635651, 5.893565944131917, 7.881916365009485, 5.794348410543372, 8.248625335895005, 9.791110986112407, 12.572718828222012, 10.009062644775774, 10.429707910141847, 10.735713796405204, 7.393032893959293, 8.4990653539188, 10.604352786731432, 9.34964352483046, 6.7581276538375015, 8.36609769340187, 6.639927873367532, 8.099626827042165, 4.196789423760888, 7.540646708451553, 8.02198898925839, 6.540822885695841, 7.4412713931789645, 6.37134824652084, 6.828651218841114, 3.993100999294839, 3.8664611998401566, 9.082770024482732, 4.465567989536367, 7.8648054325560715, 5.577715167561554, 5.1432356119067775, 4.422838633476582, 2.663452049836092, 4.546919933889982, 7.652008774211659, 6.244640756678336, 6.1437518525598, 9.69818028407914, 7.4161166432836785, 3.7878369425499465, 7.798866002382084, 3.383782954271181, 10.030921198382599, 8.24757087189734, 11.63238220857548, 11.265013084980856, 9.271396328551523, 6.549536522803793, 12.713547624267859, 8.93070996457023, 13.374318316308761, 10.694686868620503, 6.930633199021836, 10.533932931783644, 7.415148555046202, 14.131652491087628, 13.864523376237495, 8.111431846362592, 9.569856062042563, 7.030689430193968, 10.17393399198337, 2.49757315975166, 7.230096922996658, 7.544316549414458, 7.554322965866566, 12.60327472096375, 9.749869469337343, 8.962409925311519, 7.302528729539403, 4.152401887128523, 5.682010841432831, 4.468439931681672, 7.173677446230221, 7.055233350704827, 7.9926334816569184, 5.513174125224249, 5.332772544545805, 7.962521710594004, 6.063190462834159, 5.857246750937356, 5.906377007878856, 5.7176592376547415, 7.837531383584235, 2.307503291141096, 4.6374993284668715, 9.92580275031248, 4.14816071313334, 4.964862891634228, 3.0618782746735493, 3.025204167334896, 5.652812263160933, 7.508747467879704, 7.747610900390847, 4.564324365433942, 7.796983785633488, 7.4584229699071365, 7.350147535407575, 8.59380542640719, 7.112101516720644, 6.352313230944243, 8.908701471523768, 16.2597984805017, 11.967737648863498, 9.287622660242107, 13.727474303048396, 8.522604054233913, 13.065347486039514, 9.777327921746597, 9.27802116476737, 7.947002590025136, 15.710756052787996, 12.73920881877668, 7.862720991735482, 5.37890951833673, 5.633653361711024, 3.6465683952596106, 4.948071791584746, 7.1908569707582775, 4.114540726103568, 2.232695114770109, 6.991897317964257, 4.905953288475624, 3.345429369560711, 4.06672056516467, 4.264332410125586, 5.670689314807067, 6.5101162772345695, 9.656845071143279, 5.713375485281336, 5.997228901136887, 6.369330991445486, 4.1374015196762235, 9.760395641571574, 9.950049065017923, 5.074745986110234, 11.151404478968328, 6.6495117830951775, 13.243443555111606, 13.175580632904648, 9.306973852038315, 8.764975268637999, 10.07359046810324, 9.276389202020713, 8.257824485201251, 8.054004836705937, 9.592849021588956, 6.57826859307671, 10.690396169558037, 8.284647565044244, 8.11100510528375, 9.382320137636565, 9.323271653873626, 5.5647919328460915, 6.020726394251087, 3.984433553321344, 3.8322311394294086, 3.1065032453964494, 5.549563127057932, 7.852732359070375, 5.0129830860151126, 5.233540368196205, 4.601877729197639, 6.423142027062664, 2.95235584882722, 3.9151633204491088], \"y\": [121.26, 144.48000000000002, 95.19999999999999, 244.42, -53.379999999999995, 209.92000000000002, 485.64000000000004, 104.88, 196.56, 411.48, 571.78, 199.12, 116.84, 267.12, 217.08, 136.68, 107.63999999999999, 311.74, 162.44, 70.0, 199.5, 94.24, 273.7, 190.28, 181.76, 99.35999999999999, 180.0, 154.94, 29.04, 167.14000000000001, 175.0, 222.04, 140.8, 161.20000000000002, 127.4, 229.35999999999999, 66.24, 193.11999999999998, 115.2, 28.799999999999997, 121.44000000000001, 5.12, 75.04, 155.44, 171.36, 117.9, 57.199999999999996, 135.23999999999998, 158.6, 248.04, 340.36, 250.26000000000002, 52.82000000000001, 88.44000000000001, 161.28, 145.6, 160.79999999999998, 195.64000000000001, 230.48000000000002, 153.6, 439.2, 233.7, 2.48, 37.96, 164.70000000000002, 196.79999999999998, 135.0, 199.5, 278.2, 121.44, 7.68, 169.74, 273.92, 217.46, 121.92, 241.56, 223.85999999999999, 91.44, 436.99999999999994, 162.26000000000002, 294.84, 118.80000000000001, 51.12, 109.06, 246.0, 147.4, 19.18, 158.12, 325.08, 192.96, 248.32, 267.12, 96.72, 149.34, 33.32, 152.76000000000002, 177.6, 178.56, 12.7, 45.72, 280.59999999999997, 186.02, 195.58, 120.56, 299.88, 252.5, 229.68, 272.8, 210.04, 333.59999999999997, 199.2, 59.839999999999996, 12.6, 18.48, 214.2, 429.44, 228.8, 144.1, 128.64000000000001, 75.0, 250.26000000000002, 272.5, 267.8, 137.0, 35.28, 194.18, 231.4, 243.66, 330.24, 312.32, 231.4, 299.0, 14.8, 37.96, 212.22, 268.66, 132.0, 116.16, 27.5, 43.8, 176.4, 307.5, 253.76, 210.82, 180.0, 193.88, 48.8, 105.84, 179.57999999999998, 181.76, 264.6, 225.32000000000002, 321.59999999999997, 215.04, 29.040000000000003, 204.36, 255.0, 110.04, 123.48, 199.12, 176.08, 166.32000000000002, 230.4, 255.0, 187.5, 156.0, 167.70000000000002, 125.46, 158.12, 45.98, 185.76, 57.64, 159.60000000000002, 163.68, 215.9, 244.4, 208.56, 73.32, 233.18, 234.96, 296.96, 190.08, 248.16000000000003, 262.6, 187.60000000000002, 362.08, 244.4, 261.12, -6.04, 137.8, 150.48000000000002, 119.7, 171.12, 152.5, 208.32, 263.68, 264.32, 113.16, 150.8, 168.96, 195.36, 197.12, 287.68, 124.46000000000001, 12.9, 95.46000000000001, 111.20000000000002, 224.48, 161.20000000000002, 291.54, 190.5, 30.0, 256.0, 152.4, 172.8, 190.08, 213.3, 264.62, 217.46, 204.36, 276.86, 0.0, 299.0, 309.6, 214.84, 202.16000000000003, 116.10000000000001, 245.52, 309.76, 227.04000000000002, -385.22, 133.28, 234.96, 109.22, 172.72, 204.8, 189.42, 112.0, 134.0, 453.59999999999997, 146.16, 135.3, 265.96, 85.8, 267.8, 137.8, 145.6, 34.16, 257.03999999999996, 179.4, 230.39999999999998, 228.16, 271.03999999999996, 254.0, 122.36000000000001, 64.5, 43.199999999999996, 147.84, 248.46, 75.4, 110.94, 89.53999999999999, 115.08000000000001, 242.52, 200.20000000000002, 222.04, 84.6, 209.60000000000002, 202.8, 178.16, 205.4, 268.8, 251.52, 373.76, 319.8, -56.160000000000004, 350.88, 330.2, 301.86, 274.32, -153.22, 317.5, 306.54, 234.0, 213.3, 228.16, 129.60000000000002, 77.5, 213.20000000000002, 202.8, 18.2, 13.100000000000001, 179.4, 207.5, 110.04, 297.65999999999997, 276.0, 260.0, 62.0, 133.28, 138.6, 70.0, 115.91999999999999, 34.44, 208.56, 191.52, 142.04000000000002, 133.28, 218.4, 208.56, 272.48, 224.4, 191.52, 252.20000000000002, 296.96, 244.4, 228.76000000000002, 186.20000000000002, 175.56, 262.0, 186.02, 171.52, 164.92000000000002, 301.6, 253.76, 136.74, 38.92, 95.76, 145.0, 157.20000000000002, 292.32, 141.48000000000002, 151.96, 48.24, 307.34, 67.60000000000001, -52.25999999999999]}],\n",
       "                        {\"font\": {\"family\": \"Times New Roman\", \"size\": 36}, \"height\": 800, \"hovermode\": \"closest\", \"showlegend\": false, \"template\": {\"data\": {\"bar\": [{\"error_x\": {\"color\": \"#2a3f5f\"}, \"error_y\": {\"color\": \"#2a3f5f\"}, \"marker\": {\"line\": {\"color\": \"#E5ECF6\", \"width\": 0.5}}, \"type\": \"bar\"}], \"barpolar\": [{\"marker\": {\"line\": {\"color\": \"#E5ECF6\", \"width\": 0.5}}, \"type\": \"barpolar\"}], \"carpet\": [{\"aaxis\": {\"endlinecolor\": \"#2a3f5f\", \"gridcolor\": \"white\", \"linecolor\": \"white\", \"minorgridcolor\": \"white\", \"startlinecolor\": \"#2a3f5f\"}, \"baxis\": {\"endlinecolor\": \"#2a3f5f\", \"gridcolor\": \"white\", \"linecolor\": \"white\", \"minorgridcolor\": \"white\", \"startlinecolor\": \"#2a3f5f\"}, \"type\": \"carpet\"}], \"choropleth\": [{\"colorbar\": {\"outlinewidth\": 0, \"ticks\": \"\"}, \"type\": \"choropleth\"}], \"contour\": [{\"colorbar\": {\"outlinewidth\": 0, \"ticks\": \"\"}, \"colorscale\": [[0.0, \"#0d0887\"], [0.1111111111111111, \"#46039f\"], [0.2222222222222222, \"#7201a8\"], [0.3333333333333333, \"#9c179e\"], [0.4444444444444444, \"#bd3786\"], [0.5555555555555556, \"#d8576b\"], [0.6666666666666666, \"#ed7953\"], [0.7777777777777778, \"#fb9f3a\"], [0.8888888888888888, \"#fdca26\"], [1.0, \"#f0f921\"]], \"type\": \"contour\"}], \"contourcarpet\": [{\"colorbar\": {\"outlinewidth\": 0, \"ticks\": \"\"}, \"type\": \"contourcarpet\"}], \"heatmap\": [{\"colorbar\": {\"outlinewidth\": 0, \"ticks\": \"\"}, \"colorscale\": [[0.0, \"#0d0887\"], [0.1111111111111111, \"#46039f\"], [0.2222222222222222, \"#7201a8\"], [0.3333333333333333, \"#9c179e\"], [0.4444444444444444, \"#bd3786\"], [0.5555555555555556, \"#d8576b\"], [0.6666666666666666, \"#ed7953\"], [0.7777777777777778, \"#fb9f3a\"], [0.8888888888888888, \"#fdca26\"], [1.0, \"#f0f921\"]], \"type\": \"heatmap\"}], \"heatmapgl\": [{\"colorbar\": {\"outlinewidth\": 0, \"ticks\": \"\"}, \"colorscale\": [[0.0, \"#0d0887\"], [0.1111111111111111, \"#46039f\"], [0.2222222222222222, \"#7201a8\"], [0.3333333333333333, \"#9c179e\"], [0.4444444444444444, \"#bd3786\"], [0.5555555555555556, \"#d8576b\"], [0.6666666666666666, \"#ed7953\"], [0.7777777777777778, \"#fb9f3a\"], [0.8888888888888888, \"#fdca26\"], [1.0, \"#f0f921\"]], \"type\": \"heatmapgl\"}], \"histogram\": [{\"marker\": {\"colorbar\": {\"outlinewidth\": 0, \"ticks\": \"\"}}, \"type\": \"histogram\"}], \"histogram2d\": [{\"colorbar\": {\"outlinewidth\": 0, \"ticks\": \"\"}, \"colorscale\": [[0.0, \"#0d0887\"], [0.1111111111111111, \"#46039f\"], [0.2222222222222222, \"#7201a8\"], [0.3333333333333333, \"#9c179e\"], [0.4444444444444444, \"#bd3786\"], [0.5555555555555556, \"#d8576b\"], [0.6666666666666666, \"#ed7953\"], [0.7777777777777778, \"#fb9f3a\"], [0.8888888888888888, \"#fdca26\"], [1.0, \"#f0f921\"]], \"type\": \"histogram2d\"}], \"histogram2dcontour\": [{\"colorbar\": {\"outlinewidth\": 0, \"ticks\": \"\"}, \"colorscale\": [[0.0, \"#0d0887\"], [0.1111111111111111, \"#46039f\"], [0.2222222222222222, \"#7201a8\"], [0.3333333333333333, \"#9c179e\"], [0.4444444444444444, \"#bd3786\"], [0.5555555555555556, \"#d8576b\"], [0.6666666666666666, \"#ed7953\"], [0.7777777777777778, \"#fb9f3a\"], [0.8888888888888888, \"#fdca26\"], [1.0, \"#f0f921\"]], \"type\": \"histogram2dcontour\"}], \"mesh3d\": [{\"colorbar\": {\"outlinewidth\": 0, \"ticks\": \"\"}, \"type\": \"mesh3d\"}], \"parcoords\": [{\"line\": {\"colorbar\": {\"outlinewidth\": 0, \"ticks\": \"\"}}, \"type\": \"parcoords\"}], \"pie\": [{\"automargin\": true, \"type\": \"pie\"}], \"scatter\": [{\"marker\": {\"colorbar\": {\"outlinewidth\": 0, \"ticks\": \"\"}}, \"type\": \"scatter\"}], \"scatter3d\": [{\"line\": {\"colorbar\": {\"outlinewidth\": 0, \"ticks\": \"\"}}, \"marker\": {\"colorbar\": {\"outlinewidth\": 0, \"ticks\": \"\"}}, \"type\": \"scatter3d\"}], \"scattercarpet\": [{\"marker\": {\"colorbar\": {\"outlinewidth\": 0, \"ticks\": \"\"}}, \"type\": \"scattercarpet\"}], \"scattergeo\": [{\"marker\": {\"colorbar\": {\"outlinewidth\": 0, \"ticks\": \"\"}}, \"type\": \"scattergeo\"}], \"scattergl\": [{\"marker\": {\"colorbar\": {\"outlinewidth\": 0, \"ticks\": \"\"}}, \"type\": \"scattergl\"}], \"scattermapbox\": [{\"marker\": {\"colorbar\": {\"outlinewidth\": 0, \"ticks\": \"\"}}, \"type\": \"scattermapbox\"}], \"scatterpolar\": [{\"marker\": {\"colorbar\": {\"outlinewidth\": 0, \"ticks\": \"\"}}, \"type\": \"scatterpolar\"}], \"scatterpolargl\": [{\"marker\": {\"colorbar\": {\"outlinewidth\": 0, \"ticks\": \"\"}}, \"type\": \"scatterpolargl\"}], \"scatterternary\": [{\"marker\": {\"colorbar\": {\"outlinewidth\": 0, \"ticks\": \"\"}}, \"type\": \"scatterternary\"}], \"surface\": [{\"colorbar\": {\"outlinewidth\": 0, \"ticks\": \"\"}, \"colorscale\": [[0.0, \"#0d0887\"], [0.1111111111111111, \"#46039f\"], [0.2222222222222222, \"#7201a8\"], [0.3333333333333333, \"#9c179e\"], [0.4444444444444444, \"#bd3786\"], [0.5555555555555556, \"#d8576b\"], [0.6666666666666666, \"#ed7953\"], [0.7777777777777778, \"#fb9f3a\"], [0.8888888888888888, \"#fdca26\"], [1.0, \"#f0f921\"]], \"type\": \"surface\"}], \"table\": [{\"cells\": {\"fill\": {\"color\": \"#EBF0F8\"}, \"line\": {\"color\": \"white\"}}, \"header\": {\"fill\": {\"color\": \"#C8D4E3\"}, \"line\": {\"color\": \"white\"}}, \"type\": \"table\"}]}, \"layout\": {\"annotationdefaults\": {\"arrowcolor\": \"#2a3f5f\", \"arrowhead\": 0, \"arrowwidth\": 1}, \"coloraxis\": {\"colorbar\": {\"outlinewidth\": 0, \"ticks\": \"\"}}, \"colorscale\": {\"diverging\": [[0, \"#8e0152\"], [0.1, \"#c51b7d\"], [0.2, \"#de77ae\"], [0.3, \"#f1b6da\"], [0.4, \"#fde0ef\"], [0.5, \"#f7f7f7\"], [0.6, \"#e6f5d0\"], [0.7, \"#b8e186\"], [0.8, \"#7fbc41\"], [0.9, \"#4d9221\"], [1, \"#276419\"]], \"sequential\": [[0.0, \"#0d0887\"], [0.1111111111111111, \"#46039f\"], [0.2222222222222222, \"#7201a8\"], [0.3333333333333333, \"#9c179e\"], [0.4444444444444444, \"#bd3786\"], [0.5555555555555556, \"#d8576b\"], [0.6666666666666666, \"#ed7953\"], [0.7777777777777778, \"#fb9f3a\"], [0.8888888888888888, \"#fdca26\"], [1.0, \"#f0f921\"]], \"sequentialminus\": [[0.0, \"#0d0887\"], [0.1111111111111111, \"#46039f\"], [0.2222222222222222, \"#7201a8\"], [0.3333333333333333, \"#9c179e\"], [0.4444444444444444, \"#bd3786\"], [0.5555555555555556, \"#d8576b\"], [0.6666666666666666, \"#ed7953\"], [0.7777777777777778, \"#fb9f3a\"], [0.8888888888888888, \"#fdca26\"], [1.0, \"#f0f921\"]]}, \"colorway\": [\"#636efa\", \"#EF553B\", \"#00cc96\", \"#ab63fa\", \"#FFA15A\", \"#19d3f3\", \"#FF6692\", \"#B6E880\", \"#FF97FF\", \"#FECB52\"], \"font\": {\"color\": \"#2a3f5f\"}, \"geo\": {\"bgcolor\": \"white\", \"lakecolor\": \"white\", \"landcolor\": \"#E5ECF6\", \"showlakes\": true, \"showland\": true, \"subunitcolor\": \"white\"}, \"hoverlabel\": {\"align\": \"left\"}, \"hovermode\": \"closest\", \"mapbox\": {\"style\": \"light\"}, \"paper_bgcolor\": \"white\", \"plot_bgcolor\": \"#E5ECF6\", \"polar\": {\"angularaxis\": {\"gridcolor\": \"white\", \"linecolor\": \"white\", \"ticks\": \"\"}, \"bgcolor\": \"#E5ECF6\", \"radialaxis\": {\"gridcolor\": \"white\", \"linecolor\": \"white\", \"ticks\": \"\"}}, \"scene\": {\"xaxis\": {\"backgroundcolor\": \"#E5ECF6\", \"gridcolor\": \"white\", \"gridwidth\": 2, \"linecolor\": \"white\", \"showbackground\": true, \"ticks\": \"\", \"zerolinecolor\": \"white\"}, \"yaxis\": {\"backgroundcolor\": \"#E5ECF6\", \"gridcolor\": \"white\", \"gridwidth\": 2, \"linecolor\": \"white\", \"showbackground\": true, \"ticks\": \"\", \"zerolinecolor\": \"white\"}, \"zaxis\": {\"backgroundcolor\": \"#E5ECF6\", \"gridcolor\": \"white\", \"gridwidth\": 2, \"linecolor\": \"white\", \"showbackground\": true, \"ticks\": \"\", \"zerolinecolor\": \"white\"}}, \"shapedefaults\": {\"line\": {\"color\": \"#2a3f5f\"}}, \"ternary\": {\"aaxis\": {\"gridcolor\": \"white\", \"linecolor\": \"white\", \"ticks\": \"\"}, \"baxis\": {\"gridcolor\": \"white\", \"linecolor\": \"white\", \"ticks\": \"\"}, \"bgcolor\": \"#E5ECF6\", \"caxis\": {\"gridcolor\": \"white\", \"linecolor\": \"white\", \"ticks\": \"\"}}, \"title\": {\"x\": 0.05}, \"xaxis\": {\"automargin\": true, \"gridcolor\": \"white\", \"linecolor\": \"white\", \"ticks\": \"\", \"title\": {\"standoff\": 15}, \"zerolinecolor\": \"white\", \"zerolinewidth\": 2}, \"yaxis\": {\"automargin\": true, \"gridcolor\": \"white\", \"linecolor\": \"white\", \"ticks\": \"\", \"title\": {\"standoff\": 15}, \"zerolinecolor\": \"white\", \"zerolinewidth\": 2}}}, \"title\": {\"text\": \"Ti compounds\"}, \"width\": 800, \"xaxis\": {\"gridwidth\": 2, \"title\": {\"text\": \"Density [g/cm<sup>-3</sup>]\"}, \"zeroline\": false}, \"yaxis\": {\"gridwidth\": 2, \"range\": [0, 600], \"title\": {\"text\": \"Young's Modulus [GPa]\"}, \"zeroline\": false}},\n",
       "                        {\"responsive\": true}\n",
       "                    ).then(function(){\n",
       "                            \n",
       "var gd = document.getElementById('c511ec19-25aa-455d-8444-11d5b6f5b3a2');\n",
       "var x = new MutationObserver(function (mutations, observer) {{\n",
       "        var display = window.getComputedStyle(gd).display;\n",
       "        if (!display || display === 'none') {{\n",
       "            console.log([gd, 'removed!']);\n",
       "            Plotly.purge(gd);\n",
       "            observer.disconnect();\n",
       "        }}\n",
       "}});\n",
       "\n",
       "// Listen for the removal of the full notebook cells\n",
       "var notebookContainer = gd.closest('#notebook-container');\n",
       "if (notebookContainer) {{\n",
       "    x.observe(notebookContainer, {childList: true});\n",
       "}}\n",
       "\n",
       "// Listen for the clearing of the current output cell\n",
       "var outputEl = gd.closest('.output');\n",
       "if (outputEl) {{\n",
       "    x.observe(outputEl, {childList: true});\n",
       "}}\n",
       "\n",
       "                        })\n",
       "                };\n",
       "                });\n",
       "            </script>\n",
       "        </div>"
      ]
     },
     "metadata": {},
     "output_type": "display_data"
    }
   ],
   "source": [
    "layout_test = go.Layout(title= \"Ti compounds\", hovermode= 'closest',\n",
    "                  font = dict(family='Times New Roman',size=36),\n",
    "                  xaxis= dict(title= 'Density [g/cm<sup>-3</sup>]',zeroline= False, gridwidth= 2), #To change range put command inside xaxis dictionary after gridwidth range=[-XX,XX]\n",
    "                  yaxis= dict(title= \"Young's Modulus [GPa]\",zeroline= False, gridwidth= 2,range=[0,600]), #To change range put command inside yaxis dictionary after gridwidth range=[-YY,YY]\n",
    "                  height = 800,\n",
    "                  width = 800,\n",
    "    showlegend= False              \n",
    ")\n",
    "\n",
    "#Scatter plot of collected data. Use df_oxide_all dataframe. df_oxide_all.Density will pull density column. Could change Density or IPF to Molar Volume or simply volume if you wanted.\n",
    "trace_test = go.Scatter(x = df_oxide.Density, y = df_oxide.Y_Modulus, mode = 'markers', text = df_oxide.Formula,\n",
    "                           marker=dict(size=12, color=(df_oxide['poisson_ratio']),\n",
    "                               colorbar = dict(title={ 'text': \"Poisson Ratio\", \n",
    "                                                    'font': {'family':'Georgia', 'size': 18}},  \n",
    "                                             tickfont={'family':'Georgia', 'size': 16 })), )#, name = 'All Queries'))\n",
    "\n",
    "\n",
    "import plotly.express as px\n",
    "data_test = [trace_test]\n",
    "fig_test = go.Figure(data_test, layout=layout_test)\n",
    "# fig_test.update_layout(color_continuous_scale=px.colors.sequential.Viridis)\n",
    "iplot(fig_test)"
   ]
  },
  {
   "cell_type": "code",
   "execution_count": null,
   "metadata": {},
   "outputs": [],
   "source": []
  },
  {
   "cell_type": "code",
   "execution_count": null,
   "metadata": {},
   "outputs": [],
   "source": []
  },
  {
   "cell_type": "code",
   "execution_count": null,
   "metadata": {},
   "outputs": [],
   "source": []
  },
  {
   "cell_type": "code",
   "execution_count": null,
   "metadata": {},
   "outputs": [],
   "source": []
  }
 ],
 "metadata": {
  "kernelspec": {
   "display_name": "PythonData",
   "language": "python",
   "name": "pythondata"
  },
  "language_info": {
   "codemirror_mode": {
    "name": "ipython",
    "version": 3
   },
   "file_extension": ".py",
   "mimetype": "text/x-python",
   "name": "python",
   "nbconvert_exporter": "python",
   "pygments_lexer": "ipython3",
   "version": "3.7.7"
  }
 },
 "nbformat": 4,
 "nbformat_minor": 2
}
