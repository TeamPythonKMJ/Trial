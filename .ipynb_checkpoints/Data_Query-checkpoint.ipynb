{
 "cells": [
  {
   "cell_type": "code",
   "execution_count": 1,
   "metadata": {},
   "outputs": [],
   "source": [
    "import pymatgen as pymat\n",
    "import mendeleev as mendel\n",
    "import pandas as pd\n",
    "\n",
    "elements = ['H', 'He', 'Li', 'Be', 'B', 'C', 'N', 'O', 'F', 'Ne', 'Na', 'Mg',\n",
    "            'Al', 'Si', 'P', 'S', 'Cl', 'Ar', 'K', 'Ca', 'Sc', 'Ti', 'V', 'Cr',\n",
    "            'Mn', 'Fe', 'Co', 'Ni', 'Cu', 'Zn', 'Ga', 'Ge', 'As', 'Se', 'Br',\n",
    "            'Kr', 'Rb', 'Sr', 'Y', 'Zr', 'Nb', 'Mo', 'Tc', 'Ru', 'Rh', 'Pd', 'Ag',\n",
    "            'Cd', 'In', 'Sn', 'Sb', 'Te', 'I', 'Xe', 'Cs', 'Ba', 'Hf', 'Ta', 'W',\n",
    "            'Re', 'Os', 'Ir', 'Pt', 'Au', 'Hg', 'Tl', 'Pb', 'Bi', 'Po', 'At', 'Rn',\n",
    "            'Fr', 'Ra', 'Lr',\n",
    "            'La', 'Ce', 'Pr', 'Nd', 'Pm', 'Sm', 'Eu', 'Gd', 'Tb', 'Dy', 'Ho', 'Er', \n",
    "            'Tm', 'Yb', 'Lu', 'Ac', 'Th', 'Pa', 'U', 'Np', 'Pu', 'Am', 'Cm', 'Bk', \n",
    "            'Cf', 'Es', 'Fm', 'Md', 'No']"
   ]
  },
  {
   "cell_type": "code",
   "execution_count": 2,
   "metadata": {},
   "outputs": [],
   "source": [
    "list_pymatgen = [\"atomic_mass\", \"poissons_ratio\",\"atomic_radius\", \"electrical_resistivity\",\"molar_volume\",\n",
    "                     \"thermal_conductivity\", \"bulk_modulus\", \"youngs_modulus\", \"group\",\n",
    "                     \"is_noble_gas\", \"is_transition_metal\", \"is_post_transition_metal\", \"is_rare_earth_metal\",\n",
    "                     \"is_metalloid\", \"is_alkali\", \"is_alkaline\", \"is_halogen\", \"is_lanthanoid\", \"is_actinoid\",\n",
    "                     \"van_der_waals_radius\", \"velocity_of_sound\", \"critical_temperature\", \"superconduction_temperature\",\n",
    "                     \"average_cationic_radius\", \"average_anionic_radius\", \"ionic_radii\", \"boiling_point\", \"symbol\",\n",
    "                    \"vickers_hardness\", \"average_ionic_radius\", \"melting_point\", \"rigidity_modulus\", \"Z\", \"number\", \n",
    "                     \"density_of_solid\",\"coefficient_of_linear_thermal_expansion\"]"
   ]
  },
  {
   "cell_type": "code",
   "execution_count": 3,
   "metadata": {},
   "outputs": [],
   "source": [
    "sample = elements.copy()\n",
    "\n",
    "CTE = [] # In this list we will store the Coefficients of Thermal Expansion\n",
    "youngs_modulus = [] # In this list we will store the Young's Moduli\n",
    "melting_temperature = [] # In this list we will store the Melting Temperatures\n",
    "atomic = [] # In this list we will store the Melting Temperatures\n",
    "atomic_radius = []\n",
    "specific_heat = []\n",
    "\n",
    "for item in sample:\n",
    "    CTE.append(pymat.Element(item).coefficient_of_linear_thermal_expansion)\n",
    "    youngs_modulus.append(pymat.Element(item).youngs_modulus)\n",
    "    melting_temperature.append(pymat.Element(item).melting_point)\n",
    "    atomic_radius.append(pymat.Element(item).atomic_radius)\n",
    "    specific_heat.append(mendel.element(item).specific_heat)    \n",
    "\n",
    "# group elements by their crystal structure at room temperature, \n",
    "# all elements that are gases and liquids at room temperature have been removed\n",
    "\n",
    "fcc_elements = [\"Ag\", \"Al\", \"Au\", \"Cu\", \"Ir\", \"Ni\", \"Pb\", \"Pd\", \"Pt\", \"Rh\", \"Sr\", \"Th\", \"Yb\"]\n",
    "bcc_elements = [\"Ba\", \"Cr\", \"Cs\", \"Eu\", \"Fe\", \"K\", \"Li\", \"Mn\", \"Mo\", \"Na\", \"Nb\", \"P\", \"Rb\", \"Ta\", \"V\", \"W\" ]\n",
    "hcp_elements = [\"Be\", \"Ca\", \"Cd\", \"Co\", \"Dy\", \"Er\", \"Gd\", \"Hf\", \"Ho\", \"Lu\", \"Mg\", \"Os\", \"Re\", \"Ru\", \"Sc\", \"Tb\", \"Tc\",\"Ti\", \"Tl\", \"Tm\", \"Y\", \"Zn\", \"Zr\"]\n",
    "\n",
    "# Others (Solids): \"B\", \"Sb\", \"Sm\", \"Bi\" and \"As\" are Rhombohedral; \n",
    "# \"C\" , \"Ce\" and \"Sn\" are Allotropic; \n",
    "# \"Si\" and \"Ge\" are Face-centered diamond-cubic; \"Pu\" is Monoclinic;\n",
    "#  \"S\", \"I\", \"U\", \"Np\" and \"Ga\" are Orthorhombic; \n",
    "# \"Se\" and \"Te\" Hexagonal; \"In\" and \"Pa\" are Tetragonal; \n",
    "# \"la\", \"Pr\", \"Nd\", \"Pm\" are Double hexagonal close-packed;"
   ]
  },
  {
   "cell_type": "code",
   "execution_count": 5,
   "metadata": {},
   "outputs": [
    {
     "name": "stdout",
     "output_type": "stream",
     "text": [
      "H atomic_mass\n",
      "H poissons_ratio\n",
      "H atomic_radius\n",
      "H electrical_resistivity\n",
      "H molar_volume\n",
      "H thermal_conductivity\n",
      "H bulk_modulus\n",
      "H youngs_modulus\n",
      "H group\n",
      "H is_noble_gas\n",
      "H is_transition_metal\n",
      "H is_post_transition_metal\n",
      "H is_rare_earth_metal\n",
      "H is_metalloid\n",
      "H is_alkali\n",
      "H is_alkaline\n",
      "H is_halogen\n",
      "H is_lanthanoid\n",
      "H is_actinoid\n",
      "H van_der_waals_radius\n",
      "H velocity_of_sound\n",
      "H critical_temperature\n",
      "H superconduction_temperature\n",
      "H average_cationic_radius\n",
      "H average_anionic_radius\n",
      "H ionic_radii\n",
      "H boiling_point\n",
      "H symbol\n",
      "H vickers_hardness\n",
      "H average_ionic_radius\n",
      "H melting_point\n",
      "H rigidity_modulus\n",
      "H Z\n",
      "H number\n",
      "H density_of_solid\n",
      "H coefficient_of_linear_thermal_expansion\n",
      "He atomic_mass\n",
      "He poissons_ratio\n",
      "He atomic_radius\n",
      "He electrical_resistivity\n",
      "He molar_volume\n",
      "He thermal_conductivity\n",
      "He bulk_modulus\n",
      "He youngs_modulus\n",
      "He group\n",
      "He is_noble_gas\n",
      "He is_transition_metal\n",
      "He is_post_transition_metal\n",
      "He is_rare_earth_metal\n",
      "He is_metalloid\n",
      "He is_alkali\n",
      "He is_alkaline\n",
      "He is_halogen\n",
      "He is_lanthanoid\n",
      "He is_actinoid\n",
      "He van_der_waals_radius\n",
      "He velocity_of_sound\n",
      "He critical_temperature\n",
      "He superconduction_temperature\n",
      "He average_cationic_radius\n",
      "He average_anionic_radius\n",
      "He ionic_radii\n",
      "He boiling_point\n",
      "He symbol\n",
      "He vickers_hardness\n",
      "He average_ionic_radius\n",
      "He melting_point\n",
      "He rigidity_modulus\n",
      "He Z\n",
      "He number\n",
      "He density_of_solid\n",
      "He coefficient_of_linear_thermal_expansion\n",
      "Li atomic_mass\n",
      "Li poissons_ratio\n",
      "Li atomic_radius\n",
      "Li electrical_resistivity\n",
      "Li molar_volume\n",
      "Li thermal_conductivity\n",
      "Li bulk_modulus\n",
      "Li youngs_modulus\n",
      "Li group\n",
      "Li is_noble_gas\n",
      "Li is_transition_metal\n",
      "Li is_post_transition_metal\n",
      "Li is_rare_earth_metal\n",
      "Li is_metalloid\n",
      "Li is_alkali\n",
      "Li is_alkaline\n",
      "Li is_halogen\n",
      "Li is_lanthanoid\n",
      "Li is_actinoid\n",
      "Li van_der_waals_radius\n",
      "Li velocity_of_sound\n",
      "Li critical_temperature\n",
      "Li superconduction_temperature\n",
      "Li average_cationic_radius\n",
      "Li average_anionic_radius\n",
      "Li ionic_radii\n",
      "Li boiling_point\n",
      "Li symbol\n",
      "Li vickers_hardness\n",
      "Li average_ionic_radius\n",
      "Li melting_point\n",
      "Li rigidity_modulus\n",
      "Li Z\n",
      "Li number\n",
      "Li density_of_solid\n",
      "Li coefficient_of_linear_thermal_expansion\n",
      "Be atomic_mass\n",
      "Be poissons_ratio\n",
      "Be atomic_radius\n",
      "Be electrical_resistivity\n",
      "Be molar_volume\n",
      "Be thermal_conductivity\n",
      "Be bulk_modulus\n",
      "Be youngs_modulus\n",
      "Be group\n",
      "Be is_noble_gas\n",
      "Be is_transition_metal\n",
      "Be is_post_transition_metal\n",
      "Be is_rare_earth_metal\n",
      "Be is_metalloid\n",
      "Be is_alkali\n",
      "Be is_alkaline\n",
      "Be is_halogen\n",
      "Be is_lanthanoid\n",
      "Be is_actinoid\n",
      "Be van_der_waals_radius\n",
      "Be velocity_of_sound\n",
      "Be critical_temperature\n",
      "Be superconduction_temperature\n",
      "Be average_cationic_radius\n",
      "Be average_anionic_radius\n",
      "Be ionic_radii\n",
      "Be boiling_point\n",
      "Be symbol\n",
      "Be vickers_hardness\n",
      "Be average_ionic_radius\n",
      "Be melting_point\n",
      "Be rigidity_modulus\n",
      "Be Z\n",
      "Be number\n",
      "Be density_of_solid\n",
      "Be coefficient_of_linear_thermal_expansion\n",
      "B atomic_mass\n",
      "B poissons_ratio\n",
      "B atomic_radius\n",
      "B electrical_resistivity\n",
      "B molar_volume\n",
      "B thermal_conductivity\n",
      "B bulk_modulus\n",
      "B youngs_modulus\n",
      "B group\n",
      "B is_noble_gas\n",
      "B is_transition_metal\n",
      "B is_post_transition_metal\n",
      "B is_rare_earth_metal\n",
      "B is_metalloid\n",
      "B is_alkali\n",
      "B is_alkaline\n",
      "B is_halogen\n",
      "B is_lanthanoid\n",
      "B is_actinoid\n",
      "B van_der_waals_radius\n",
      "B velocity_of_sound\n",
      "B critical_temperature\n",
      "B superconduction_temperature\n",
      "B average_cationic_radius\n",
      "B average_anionic_radius\n",
      "B ionic_radii\n",
      "B boiling_point\n",
      "B symbol\n",
      "B vickers_hardness\n",
      "B average_ionic_radius\n",
      "B melting_point\n",
      "B rigidity_modulus\n",
      "B Z\n",
      "B number\n",
      "B density_of_solid\n",
      "B coefficient_of_linear_thermal_expansion\n",
      "C atomic_mass\n",
      "C poissons_ratio\n",
      "C atomic_radius\n",
      "C electrical_resistivity\n",
      "C molar_volume\n",
      "C thermal_conductivity\n",
      "C bulk_modulus\n",
      "C youngs_modulus\n",
      "C group\n",
      "C is_noble_gas\n",
      "C is_transition_metal\n",
      "C is_post_transition_metal\n",
      "C is_rare_earth_metal\n",
      "C is_metalloid\n",
      "C is_alkali\n",
      "C is_alkaline\n",
      "C is_halogen\n",
      "C is_lanthanoid\n",
      "C is_actinoid\n",
      "C van_der_waals_radius\n",
      "C velocity_of_sound\n",
      "C critical_temperature\n",
      "C superconduction_temperature\n",
      "C average_cationic_radius\n",
      "C average_anionic_radius\n",
      "C ionic_radii\n",
      "C boiling_point\n",
      "C symbol\n",
      "C vickers_hardness\n",
      "C average_ionic_radius\n",
      "C melting_point\n",
      "C rigidity_modulus\n",
      "C Z\n",
      "C number\n",
      "C density_of_solid\n",
      "C coefficient_of_linear_thermal_expansion\n",
      "N atomic_mass\n",
      "N poissons_ratio\n",
      "N atomic_radius\n",
      "N electrical_resistivity\n",
      "N molar_volume\n",
      "N thermal_conductivity\n",
      "N bulk_modulus\n",
      "N youngs_modulus\n",
      "N group\n",
      "N is_noble_gas\n",
      "N is_transition_metal\n",
      "N is_post_transition_metal\n",
      "N is_rare_earth_metal\n",
      "N is_metalloid\n",
      "N is_alkali\n",
      "N is_alkaline\n",
      "N is_halogen\n",
      "N is_lanthanoid\n",
      "N is_actinoid\n",
      "N van_der_waals_radius\n",
      "N velocity_of_sound\n",
      "N critical_temperature\n",
      "N superconduction_temperature\n",
      "N average_cationic_radius\n",
      "N average_anionic_radius\n",
      "N ionic_radii\n",
      "N boiling_point\n",
      "N symbol\n",
      "N vickers_hardness\n",
      "N average_ionic_radius\n",
      "N melting_point\n",
      "N rigidity_modulus\n",
      "N Z\n",
      "N number\n",
      "N density_of_solid\n",
      "N coefficient_of_linear_thermal_expansion\n",
      "O atomic_mass\n",
      "O poissons_ratio\n",
      "O atomic_radius\n",
      "O electrical_resistivity\n",
      "O molar_volume\n",
      "O thermal_conductivity\n",
      "O bulk_modulus\n",
      "O youngs_modulus\n",
      "O group\n",
      "O is_noble_gas\n",
      "O is_transition_metal\n",
      "O is_post_transition_metal\n",
      "O is_rare_earth_metal\n",
      "O is_metalloid\n",
      "O is_alkali\n",
      "O is_alkaline\n",
      "O is_halogen\n",
      "O is_lanthanoid\n",
      "O is_actinoid\n",
      "O van_der_waals_radius\n",
      "O velocity_of_sound\n",
      "O critical_temperature\n",
      "O superconduction_temperature\n",
      "O average_cationic_radius\n",
      "O average_anionic_radius\n",
      "O ionic_radii\n",
      "O boiling_point\n",
      "O symbol\n",
      "O vickers_hardness\n",
      "O average_ionic_radius\n",
      "O melting_point\n",
      "O rigidity_modulus\n",
      "O Z\n",
      "O number\n",
      "O density_of_solid\n",
      "O coefficient_of_linear_thermal_expansion\n",
      "F atomic_mass\n",
      "F poissons_ratio\n",
      "F atomic_radius\n",
      "F electrical_resistivity\n",
      "F molar_volume\n",
      "F thermal_conductivity\n",
      "F bulk_modulus\n",
      "F youngs_modulus\n",
      "F group\n",
      "F is_noble_gas\n",
      "F is_transition_metal\n",
      "F is_post_transition_metal\n",
      "F is_rare_earth_metal\n",
      "F is_metalloid\n",
      "F is_alkali\n",
      "F is_alkaline\n",
      "F is_halogen\n",
      "F is_lanthanoid\n",
      "F is_actinoid\n",
      "F van_der_waals_radius\n",
      "F velocity_of_sound\n",
      "F critical_temperature\n",
      "F superconduction_temperature\n",
      "F average_cationic_radius\n",
      "F average_anionic_radius\n",
      "F ionic_radii\n",
      "F boiling_point\n",
      "F symbol\n",
      "F vickers_hardness\n",
      "F average_ionic_radius\n",
      "F melting_point\n",
      "F rigidity_modulus\n",
      "F Z\n",
      "F number\n",
      "F density_of_solid\n",
      "F coefficient_of_linear_thermal_expansion\n",
      "Ne atomic_mass\n",
      "Ne poissons_ratio\n",
      "Ne atomic_radius\n",
      "Ne electrical_resistivity\n",
      "Ne molar_volume\n",
      "Ne thermal_conductivity\n",
      "Ne bulk_modulus\n",
      "Ne youngs_modulus\n",
      "Ne group\n",
      "Ne is_noble_gas\n",
      "Ne is_transition_metal\n",
      "Ne is_post_transition_metal\n",
      "Ne is_rare_earth_metal\n",
      "Ne is_metalloid\n",
      "Ne is_alkali\n",
      "Ne is_alkaline\n",
      "Ne is_halogen\n",
      "Ne is_lanthanoid\n",
      "Ne is_actinoid\n",
      "Ne van_der_waals_radius\n",
      "Ne velocity_of_sound\n",
      "Ne critical_temperature\n",
      "Ne superconduction_temperature\n",
      "Ne average_cationic_radius\n",
      "Ne average_anionic_radius\n",
      "Ne ionic_radii\n",
      "Ne boiling_point\n",
      "Ne symbol\n",
      "Ne vickers_hardness\n",
      "Ne average_ionic_radius\n",
      "Ne melting_point\n",
      "Ne rigidity_modulus\n",
      "Ne Z\n",
      "Ne number\n",
      "Ne density_of_solid\n",
      "Ne coefficient_of_linear_thermal_expansion\n",
      "Na atomic_mass\n",
      "Na poissons_ratio\n",
      "Na atomic_radius\n",
      "Na electrical_resistivity\n",
      "Na molar_volume\n",
      "Na thermal_conductivity\n",
      "Na bulk_modulus\n",
      "Na youngs_modulus\n",
      "Na group\n",
      "Na is_noble_gas\n",
      "Na is_transition_metal\n",
      "Na is_post_transition_metal\n",
      "Na is_rare_earth_metal\n",
      "Na is_metalloid\n",
      "Na is_alkali\n",
      "Na is_alkaline\n",
      "Na is_halogen\n",
      "Na is_lanthanoid\n",
      "Na is_actinoid\n",
      "Na van_der_waals_radius\n",
      "Na velocity_of_sound\n",
      "Na critical_temperature\n",
      "Na superconduction_temperature\n",
      "Na average_cationic_radius\n",
      "Na average_anionic_radius\n",
      "Na ionic_radii\n",
      "Na boiling_point\n",
      "Na symbol\n",
      "Na vickers_hardness\n",
      "Na average_ionic_radius\n",
      "Na melting_point\n",
      "Na rigidity_modulus\n",
      "Na Z\n",
      "Na number\n",
      "Na density_of_solid\n",
      "Na coefficient_of_linear_thermal_expansion\n",
      "Mg atomic_mass\n",
      "Mg poissons_ratio\n",
      "Mg atomic_radius\n",
      "Mg electrical_resistivity\n",
      "Mg molar_volume\n",
      "Mg thermal_conductivity\n",
      "Mg bulk_modulus\n",
      "Mg youngs_modulus\n",
      "Mg group\n",
      "Mg is_noble_gas\n",
      "Mg is_transition_metal\n",
      "Mg is_post_transition_metal\n",
      "Mg is_rare_earth_metal\n",
      "Mg is_metalloid\n",
      "Mg is_alkali\n",
      "Mg is_alkaline\n",
      "Mg is_halogen\n",
      "Mg is_lanthanoid\n",
      "Mg is_actinoid\n",
      "Mg van_der_waals_radius\n",
      "Mg velocity_of_sound\n",
      "Mg critical_temperature\n",
      "Mg superconduction_temperature\n",
      "Mg average_cationic_radius\n",
      "Mg average_anionic_radius\n",
      "Mg ionic_radii\n",
      "Mg boiling_point\n",
      "Mg symbol\n",
      "Mg vickers_hardness\n",
      "Mg average_ionic_radius\n",
      "Mg melting_point\n",
      "Mg rigidity_modulus\n",
      "Mg Z\n",
      "Mg number\n",
      "Mg density_of_solid\n",
      "Mg coefficient_of_linear_thermal_expansion\n",
      "Al atomic_mass\n",
      "Al poissons_ratio\n",
      "Al atomic_radius\n",
      "Al electrical_resistivity\n",
      "Al molar_volume\n",
      "Al thermal_conductivity\n",
      "Al bulk_modulus\n",
      "Al youngs_modulus\n",
      "Al group\n",
      "Al is_noble_gas\n",
      "Al is_transition_metal\n",
      "Al is_post_transition_metal\n",
      "Al is_rare_earth_metal\n",
      "Al is_metalloid\n",
      "Al is_alkali\n",
      "Al is_alkaline\n",
      "Al is_halogen\n",
      "Al is_lanthanoid\n",
      "Al is_actinoid\n",
      "Al van_der_waals_radius\n",
      "Al velocity_of_sound\n",
      "Al critical_temperature\n",
      "Al superconduction_temperature\n",
      "Al average_cationic_radius\n",
      "Al average_anionic_radius\n",
      "Al ionic_radii\n",
      "Al boiling_point\n",
      "Al symbol\n",
      "Al vickers_hardness\n",
      "Al average_ionic_radius\n",
      "Al melting_point\n",
      "Al rigidity_modulus\n",
      "Al Z\n",
      "Al number\n",
      "Al density_of_solid\n",
      "Al coefficient_of_linear_thermal_expansion\n",
      "Si atomic_mass\n",
      "Si poissons_ratio\n",
      "Si atomic_radius\n",
      "Si electrical_resistivity\n",
      "Si molar_volume\n",
      "Si thermal_conductivity\n",
      "Si bulk_modulus\n",
      "Si youngs_modulus\n",
      "Si group\n",
      "Si is_noble_gas\n",
      "Si is_transition_metal\n",
      "Si is_post_transition_metal\n",
      "Si is_rare_earth_metal\n",
      "Si is_metalloid\n",
      "Si is_alkali\n",
      "Si is_alkaline\n",
      "Si is_halogen\n",
      "Si is_lanthanoid\n",
      "Si is_actinoid\n",
      "Si van_der_waals_radius\n",
      "Si velocity_of_sound\n",
      "Si critical_temperature\n",
      "Si superconduction_temperature\n",
      "Si average_cationic_radius\n",
      "Si average_anionic_radius\n",
      "Si ionic_radii\n",
      "Si boiling_point\n",
      "Si symbol\n",
      "Si vickers_hardness\n",
      "Si average_ionic_radius\n",
      "Si melting_point\n",
      "Si rigidity_modulus\n",
      "Si Z\n",
      "Si number\n",
      "Si density_of_solid\n",
      "Si coefficient_of_linear_thermal_expansion\n",
      "P atomic_mass\n",
      "P poissons_ratio\n",
      "P atomic_radius\n",
      "P electrical_resistivity\n",
      "P molar_volume\n",
      "P thermal_conductivity\n",
      "P bulk_modulus\n",
      "P youngs_modulus\n",
      "P group\n",
      "P is_noble_gas\n",
      "P is_transition_metal\n",
      "P is_post_transition_metal\n",
      "P is_rare_earth_metal\n",
      "P is_metalloid\n",
      "P is_alkali\n",
      "P is_alkaline\n",
      "P is_halogen\n",
      "P is_lanthanoid\n",
      "P is_actinoid\n",
      "P van_der_waals_radius\n",
      "P velocity_of_sound\n",
      "P critical_temperature\n",
      "P superconduction_temperature\n",
      "P average_cationic_radius\n",
      "P average_anionic_radius\n",
      "P ionic_radii\n",
      "P boiling_point\n",
      "P symbol\n",
      "P vickers_hardness\n",
      "P average_ionic_radius\n",
      "P melting_point\n",
      "P rigidity_modulus\n",
      "P Z\n",
      "P number\n",
      "P density_of_solid\n",
      "P coefficient_of_linear_thermal_expansion\n",
      "S atomic_mass\n",
      "S poissons_ratio\n",
      "S atomic_radius\n",
      "S electrical_resistivity\n",
      "S molar_volume\n",
      "S thermal_conductivity\n",
      "S bulk_modulus\n",
      "S youngs_modulus\n",
      "S group\n",
      "S is_noble_gas\n",
      "S is_transition_metal\n",
      "S is_post_transition_metal\n",
      "S is_rare_earth_metal\n",
      "S is_metalloid\n",
      "S is_alkali\n",
      "S is_alkaline\n",
      "S is_halogen\n",
      "S is_lanthanoid\n",
      "S is_actinoid\n",
      "S van_der_waals_radius\n",
      "S velocity_of_sound\n",
      "S critical_temperature\n",
      "S superconduction_temperature\n",
      "S average_cationic_radius\n",
      "S average_anionic_radius\n",
      "S ionic_radii\n",
      "S boiling_point\n",
      "S symbol\n",
      "S vickers_hardness\n",
      "S average_ionic_radius\n",
      "S melting_point\n",
      "S rigidity_modulus\n",
      "S Z\n",
      "S number\n",
      "S density_of_solid\n",
      "S coefficient_of_linear_thermal_expansion\n",
      "Cl atomic_mass\n",
      "Cl poissons_ratio\n",
      "Cl atomic_radius\n",
      "Cl electrical_resistivity\n",
      "Cl molar_volume\n",
      "Cl thermal_conductivity\n",
      "Cl bulk_modulus\n",
      "Cl youngs_modulus\n",
      "Cl group\n",
      "Cl is_noble_gas\n",
      "Cl is_transition_metal\n",
      "Cl is_post_transition_metal\n",
      "Cl is_rare_earth_metal\n",
      "Cl is_metalloid\n",
      "Cl is_alkali\n",
      "Cl is_alkaline\n",
      "Cl is_halogen\n",
      "Cl is_lanthanoid\n",
      "Cl is_actinoid\n",
      "Cl van_der_waals_radius\n",
      "Cl velocity_of_sound\n",
      "Cl critical_temperature\n",
      "Cl superconduction_temperature\n",
      "Cl average_cationic_radius\n",
      "Cl average_anionic_radius\n",
      "Cl ionic_radii\n",
      "Cl boiling_point\n",
      "Cl symbol\n",
      "Cl vickers_hardness\n",
      "Cl average_ionic_radius\n",
      "Cl melting_point\n",
      "Cl rigidity_modulus\n",
      "Cl Z\n",
      "Cl number\n",
      "Cl density_of_solid\n",
      "Cl coefficient_of_linear_thermal_expansion\n",
      "Ar atomic_mass\n",
      "Ar poissons_ratio\n",
      "Ar atomic_radius\n",
      "Ar electrical_resistivity\n",
      "Ar molar_volume\n",
      "Ar thermal_conductivity\n",
      "Ar bulk_modulus\n",
      "Ar youngs_modulus\n",
      "Ar group\n",
      "Ar is_noble_gas\n",
      "Ar is_transition_metal\n",
      "Ar is_post_transition_metal\n",
      "Ar is_rare_earth_metal\n",
      "Ar is_metalloid\n",
      "Ar is_alkali\n",
      "Ar is_alkaline\n",
      "Ar is_halogen\n",
      "Ar is_lanthanoid\n",
      "Ar is_actinoid\n",
      "Ar van_der_waals_radius\n",
      "Ar velocity_of_sound\n",
      "Ar critical_temperature\n",
      "Ar superconduction_temperature\n",
      "Ar average_cationic_radius\n",
      "Ar average_anionic_radius\n",
      "Ar ionic_radii\n",
      "Ar boiling_point\n",
      "Ar symbol\n",
      "Ar vickers_hardness\n",
      "Ar average_ionic_radius\n",
      "Ar melting_point\n",
      "Ar rigidity_modulus\n",
      "Ar Z\n",
      "Ar number\n",
      "Ar density_of_solid\n",
      "Ar coefficient_of_linear_thermal_expansion\n",
      "K atomic_mass\n",
      "K poissons_ratio\n",
      "K atomic_radius\n",
      "K electrical_resistivity\n",
      "K molar_volume\n",
      "K thermal_conductivity\n",
      "K bulk_modulus\n",
      "K youngs_modulus\n",
      "K group\n",
      "K is_noble_gas\n",
      "K is_transition_metal\n",
      "K is_post_transition_metal\n",
      "K is_rare_earth_metal\n",
      "K is_metalloid\n",
      "K is_alkali\n",
      "K is_alkaline\n",
      "K is_halogen\n",
      "K is_lanthanoid\n",
      "K is_actinoid\n",
      "K van_der_waals_radius\n",
      "K velocity_of_sound\n",
      "K critical_temperature\n",
      "K superconduction_temperature\n",
      "K average_cationic_radius\n",
      "K average_anionic_radius\n",
      "K ionic_radii\n",
      "K boiling_point\n",
      "K symbol\n",
      "K vickers_hardness\n",
      "K average_ionic_radius\n",
      "K melting_point\n",
      "K rigidity_modulus\n",
      "K Z\n",
      "K number\n",
      "K density_of_solid\n",
      "K coefficient_of_linear_thermal_expansion\n",
      "Ca atomic_mass\n",
      "Ca poissons_ratio\n",
      "Ca atomic_radius\n",
      "Ca electrical_resistivity\n",
      "Ca molar_volume\n",
      "Ca thermal_conductivity\n",
      "Ca bulk_modulus\n",
      "Ca youngs_modulus\n",
      "Ca group\n",
      "Ca is_noble_gas\n",
      "Ca is_transition_metal\n",
      "Ca is_post_transition_metal\n",
      "Ca is_rare_earth_metal\n",
      "Ca is_metalloid\n",
      "Ca is_alkali\n",
      "Ca is_alkaline\n",
      "Ca is_halogen\n",
      "Ca is_lanthanoid\n",
      "Ca is_actinoid\n",
      "Ca van_der_waals_radius\n",
      "Ca velocity_of_sound\n",
      "Ca critical_temperature\n",
      "Ca superconduction_temperature\n",
      "Ca average_cationic_radius\n",
      "Ca average_anionic_radius\n",
      "Ca ionic_radii\n",
      "Ca boiling_point\n",
      "Ca symbol\n",
      "Ca vickers_hardness\n",
      "Ca average_ionic_radius\n",
      "Ca melting_point\n",
      "Ca rigidity_modulus\n",
      "Ca Z\n",
      "Ca number\n",
      "Ca density_of_solid\n",
      "Ca coefficient_of_linear_thermal_expansion\n",
      "Sc atomic_mass\n",
      "Sc poissons_ratio\n",
      "Sc atomic_radius\n",
      "Sc electrical_resistivity\n",
      "Sc molar_volume\n",
      "Sc thermal_conductivity\n",
      "Sc bulk_modulus\n",
      "Sc youngs_modulus\n",
      "Sc group\n",
      "Sc is_noble_gas\n",
      "Sc is_transition_metal\n",
      "Sc is_post_transition_metal\n",
      "Sc is_rare_earth_metal\n",
      "Sc is_metalloid\n",
      "Sc is_alkali\n",
      "Sc is_alkaline\n",
      "Sc is_halogen\n",
      "Sc is_lanthanoid\n",
      "Sc is_actinoid\n",
      "Sc van_der_waals_radius\n",
      "Sc velocity_of_sound\n",
      "Sc critical_temperature\n",
      "Sc superconduction_temperature\n",
      "Sc average_cationic_radius\n",
      "Sc average_anionic_radius\n",
      "Sc ionic_radii\n",
      "Sc boiling_point\n",
      "Sc symbol\n",
      "Sc vickers_hardness\n",
      "Sc average_ionic_radius\n",
      "Sc melting_point\n",
      "Sc rigidity_modulus\n",
      "Sc Z\n",
      "Sc number\n",
      "Sc density_of_solid\n",
      "Sc coefficient_of_linear_thermal_expansion\n",
      "Ti atomic_mass\n",
      "Ti poissons_ratio\n",
      "Ti atomic_radius\n",
      "Ti electrical_resistivity\n",
      "Ti molar_volume\n",
      "Ti thermal_conductivity\n",
      "Ti bulk_modulus\n",
      "Ti youngs_modulus\n",
      "Ti group\n",
      "Ti is_noble_gas\n",
      "Ti is_transition_metal\n",
      "Ti is_post_transition_metal\n",
      "Ti is_rare_earth_metal\n",
      "Ti is_metalloid\n",
      "Ti is_alkali\n",
      "Ti is_alkaline\n",
      "Ti is_halogen\n",
      "Ti is_lanthanoid\n",
      "Ti is_actinoid\n",
      "Ti van_der_waals_radius\n",
      "Ti velocity_of_sound\n",
      "Ti critical_temperature\n",
      "Ti superconduction_temperature\n",
      "Ti average_cationic_radius\n",
      "Ti average_anionic_radius\n",
      "Ti ionic_radii\n",
      "Ti boiling_point\n",
      "Ti symbol\n",
      "Ti vickers_hardness\n",
      "Ti average_ionic_radius\n",
      "Ti melting_point\n",
      "Ti rigidity_modulus\n",
      "Ti Z\n",
      "Ti number\n",
      "Ti density_of_solid\n",
      "Ti coefficient_of_linear_thermal_expansion\n",
      "V atomic_mass\n",
      "V poissons_ratio\n",
      "V atomic_radius\n",
      "V electrical_resistivity\n",
      "V molar_volume\n",
      "V thermal_conductivity\n",
      "V bulk_modulus\n",
      "V youngs_modulus\n",
      "V group\n",
      "V is_noble_gas\n",
      "V is_transition_metal\n",
      "V is_post_transition_metal\n",
      "V is_rare_earth_metal\n",
      "V is_metalloid\n",
      "V is_alkali\n",
      "V is_alkaline\n",
      "V is_halogen\n",
      "V is_lanthanoid\n",
      "V is_actinoid\n",
      "V van_der_waals_radius\n",
      "V velocity_of_sound\n",
      "V critical_temperature\n",
      "V superconduction_temperature\n",
      "V average_cationic_radius\n",
      "V average_anionic_radius\n",
      "V ionic_radii\n",
      "V boiling_point\n",
      "V symbol\n",
      "V vickers_hardness\n",
      "V average_ionic_radius\n",
      "V melting_point\n",
      "V rigidity_modulus\n",
      "V Z\n",
      "V number\n",
      "V density_of_solid\n",
      "V coefficient_of_linear_thermal_expansion\n",
      "Cr atomic_mass\n",
      "Cr poissons_ratio\n",
      "Cr atomic_radius\n",
      "Cr electrical_resistivity\n",
      "Cr molar_volume\n",
      "Cr thermal_conductivity\n",
      "Cr bulk_modulus\n",
      "Cr youngs_modulus\n",
      "Cr group\n",
      "Cr is_noble_gas\n",
      "Cr is_transition_metal\n",
      "Cr is_post_transition_metal\n",
      "Cr is_rare_earth_metal\n",
      "Cr is_metalloid\n",
      "Cr is_alkali\n",
      "Cr is_alkaline\n",
      "Cr is_halogen\n",
      "Cr is_lanthanoid\n",
      "Cr is_actinoid\n",
      "Cr van_der_waals_radius\n",
      "Cr velocity_of_sound\n",
      "Cr critical_temperature\n",
      "Cr superconduction_temperature\n",
      "Cr average_cationic_radius\n",
      "Cr average_anionic_radius\n",
      "Cr ionic_radii\n",
      "Cr boiling_point\n",
      "Cr symbol\n",
      "Cr vickers_hardness\n",
      "Cr average_ionic_radius\n",
      "Cr melting_point\n",
      "Cr rigidity_modulus\n",
      "Cr Z\n",
      "Cr number\n",
      "Cr density_of_solid\n",
      "Cr coefficient_of_linear_thermal_expansion\n",
      "Mn atomic_mass\n",
      "Mn poissons_ratio\n",
      "Mn atomic_radius\n",
      "Mn electrical_resistivity\n",
      "Mn molar_volume\n",
      "Mn thermal_conductivity\n",
      "Mn bulk_modulus\n",
      "Mn youngs_modulus\n",
      "Mn group\n",
      "Mn is_noble_gas\n",
      "Mn is_transition_metal\n",
      "Mn is_post_transition_metal\n",
      "Mn is_rare_earth_metal\n",
      "Mn is_metalloid\n",
      "Mn is_alkali\n",
      "Mn is_alkaline\n",
      "Mn is_halogen\n",
      "Mn is_lanthanoid\n",
      "Mn is_actinoid\n",
      "Mn van_der_waals_radius\n",
      "Mn velocity_of_sound\n",
      "Mn critical_temperature\n",
      "Mn superconduction_temperature\n",
      "Mn average_cationic_radius\n",
      "Mn average_anionic_radius\n",
      "Mn ionic_radii\n",
      "Mn boiling_point\n",
      "Mn symbol\n",
      "Mn vickers_hardness\n",
      "Mn average_ionic_radius\n",
      "Mn melting_point\n",
      "Mn rigidity_modulus\n",
      "Mn Z\n",
      "Mn number\n",
      "Mn density_of_solid\n",
      "Mn coefficient_of_linear_thermal_expansion\n",
      "Fe atomic_mass\n",
      "Fe poissons_ratio\n",
      "Fe atomic_radius\n",
      "Fe electrical_resistivity\n",
      "Fe molar_volume\n",
      "Fe thermal_conductivity\n",
      "Fe bulk_modulus\n",
      "Fe youngs_modulus\n",
      "Fe group\n",
      "Fe is_noble_gas\n",
      "Fe is_transition_metal\n",
      "Fe is_post_transition_metal\n",
      "Fe is_rare_earth_metal\n",
      "Fe is_metalloid\n",
      "Fe is_alkali\n",
      "Fe is_alkaline\n",
      "Fe is_halogen\n",
      "Fe is_lanthanoid\n",
      "Fe is_actinoid\n",
      "Fe van_der_waals_radius\n",
      "Fe velocity_of_sound\n",
      "Fe critical_temperature\n",
      "Fe superconduction_temperature\n",
      "Fe average_cationic_radius\n",
      "Fe average_anionic_radius\n",
      "Fe ionic_radii\n",
      "Fe boiling_point\n",
      "Fe symbol\n",
      "Fe vickers_hardness\n",
      "Fe average_ionic_radius\n",
      "Fe melting_point\n",
      "Fe rigidity_modulus\n",
      "Fe Z\n",
      "Fe number\n",
      "Fe density_of_solid\n",
      "Fe coefficient_of_linear_thermal_expansion\n",
      "Co atomic_mass\n",
      "Co poissons_ratio\n",
      "Co atomic_radius\n",
      "Co electrical_resistivity\n",
      "Co molar_volume\n",
      "Co thermal_conductivity\n",
      "Co bulk_modulus\n",
      "Co youngs_modulus\n",
      "Co group\n",
      "Co is_noble_gas\n",
      "Co is_transition_metal\n",
      "Co is_post_transition_metal\n",
      "Co is_rare_earth_metal\n",
      "Co is_metalloid\n",
      "Co is_alkali\n",
      "Co is_alkaline\n",
      "Co is_halogen\n",
      "Co is_lanthanoid\n",
      "Co is_actinoid\n",
      "Co van_der_waals_radius\n",
      "Co velocity_of_sound\n",
      "Co critical_temperature\n",
      "Co superconduction_temperature\n",
      "Co average_cationic_radius\n",
      "Co average_anionic_radius\n",
      "Co ionic_radii\n",
      "Co boiling_point\n",
      "Co symbol\n",
      "Co vickers_hardness\n",
      "Co average_ionic_radius\n",
      "Co melting_point\n",
      "Co rigidity_modulus\n",
      "Co Z\n",
      "Co number\n",
      "Co density_of_solid\n",
      "Co coefficient_of_linear_thermal_expansion\n",
      "Ni atomic_mass\n",
      "Ni poissons_ratio\n",
      "Ni atomic_radius\n",
      "Ni electrical_resistivity\n",
      "Ni molar_volume\n",
      "Ni thermal_conductivity\n",
      "Ni bulk_modulus\n",
      "Ni youngs_modulus\n",
      "Ni group\n",
      "Ni is_noble_gas\n",
      "Ni is_transition_metal\n",
      "Ni is_post_transition_metal\n",
      "Ni is_rare_earth_metal\n",
      "Ni is_metalloid\n",
      "Ni is_alkali\n",
      "Ni is_alkaline\n",
      "Ni is_halogen\n",
      "Ni is_lanthanoid\n",
      "Ni is_actinoid\n",
      "Ni van_der_waals_radius\n",
      "Ni velocity_of_sound\n",
      "Ni critical_temperature\n",
      "Ni superconduction_temperature\n",
      "Ni average_cationic_radius\n",
      "Ni average_anionic_radius\n",
      "Ni ionic_radii\n",
      "Ni boiling_point\n",
      "Ni symbol\n",
      "Ni vickers_hardness\n",
      "Ni average_ionic_radius\n",
      "Ni melting_point\n",
      "Ni rigidity_modulus\n",
      "Ni Z\n",
      "Ni number\n",
      "Ni density_of_solid\n",
      "Ni coefficient_of_linear_thermal_expansion\n",
      "Cu atomic_mass\n",
      "Cu poissons_ratio\n",
      "Cu atomic_radius\n",
      "Cu electrical_resistivity\n",
      "Cu molar_volume\n",
      "Cu thermal_conductivity\n"
     ]
    },
    {
     "name": "stdout",
     "output_type": "stream",
     "text": [
      "Cu bulk_modulus\n",
      "Cu youngs_modulus\n",
      "Cu group\n",
      "Cu is_noble_gas\n",
      "Cu is_transition_metal\n",
      "Cu is_post_transition_metal\n",
      "Cu is_rare_earth_metal\n",
      "Cu is_metalloid\n",
      "Cu is_alkali\n",
      "Cu is_alkaline\n",
      "Cu is_halogen\n",
      "Cu is_lanthanoid\n",
      "Cu is_actinoid\n",
      "Cu van_der_waals_radius\n",
      "Cu velocity_of_sound\n",
      "Cu critical_temperature\n",
      "Cu superconduction_temperature\n",
      "Cu average_cationic_radius\n",
      "Cu average_anionic_radius\n",
      "Cu ionic_radii\n",
      "Cu boiling_point\n",
      "Cu symbol\n",
      "Cu vickers_hardness\n",
      "Cu average_ionic_radius\n",
      "Cu melting_point\n",
      "Cu rigidity_modulus\n",
      "Cu Z\n",
      "Cu number\n",
      "Cu density_of_solid\n",
      "Cu coefficient_of_linear_thermal_expansion\n",
      "Zn atomic_mass\n",
      "Zn poissons_ratio\n",
      "Zn atomic_radius\n",
      "Zn electrical_resistivity\n",
      "Zn molar_volume\n",
      "Zn thermal_conductivity\n",
      "Zn bulk_modulus\n",
      "Zn youngs_modulus\n",
      "Zn group\n",
      "Zn is_noble_gas\n",
      "Zn is_transition_metal\n",
      "Zn is_post_transition_metal\n",
      "Zn is_rare_earth_metal\n",
      "Zn is_metalloid\n",
      "Zn is_alkali\n",
      "Zn is_alkaline\n",
      "Zn is_halogen\n",
      "Zn is_lanthanoid\n",
      "Zn is_actinoid\n",
      "Zn van_der_waals_radius\n",
      "Zn velocity_of_sound\n",
      "Zn critical_temperature\n",
      "Zn superconduction_temperature\n",
      "Zn average_cationic_radius\n",
      "Zn average_anionic_radius\n",
      "Zn ionic_radii\n",
      "Zn boiling_point\n",
      "Zn symbol\n",
      "Zn vickers_hardness\n",
      "Zn average_ionic_radius\n",
      "Zn melting_point\n",
      "Zn rigidity_modulus\n",
      "Zn Z\n",
      "Zn number\n",
      "Zn density_of_solid\n",
      "Zn coefficient_of_linear_thermal_expansion\n",
      "Ga atomic_mass\n",
      "Ga poissons_ratio\n",
      "Ga atomic_radius\n",
      "Ga electrical_resistivity\n",
      "Ga molar_volume\n",
      "Ga thermal_conductivity\n",
      "Ga bulk_modulus\n",
      "Ga youngs_modulus\n",
      "Ga group\n",
      "Ga is_noble_gas\n",
      "Ga is_transition_metal\n",
      "Ga is_post_transition_metal\n",
      "Ga is_rare_earth_metal\n",
      "Ga is_metalloid\n",
      "Ga is_alkali\n",
      "Ga is_alkaline\n",
      "Ga is_halogen\n",
      "Ga is_lanthanoid\n",
      "Ga is_actinoid\n",
      "Ga van_der_waals_radius\n",
      "Ga velocity_of_sound\n",
      "Ga critical_temperature\n",
      "Ga superconduction_temperature\n",
      "Ga average_cationic_radius\n",
      "Ga average_anionic_radius\n",
      "Ga ionic_radii\n",
      "Ga boiling_point\n",
      "Ga symbol\n",
      "Ga vickers_hardness\n",
      "Ga average_ionic_radius\n",
      "Ga melting_point\n",
      "Ga rigidity_modulus\n",
      "Ga Z\n",
      "Ga number\n",
      "Ga density_of_solid\n",
      "Ga coefficient_of_linear_thermal_expansion\n",
      "Ge atomic_mass\n",
      "Ge poissons_ratio\n",
      "Ge atomic_radius\n",
      "Ge electrical_resistivity\n",
      "Ge molar_volume\n",
      "Ge thermal_conductivity\n",
      "Ge bulk_modulus\n",
      "Ge youngs_modulus\n",
      "Ge group\n",
      "Ge is_noble_gas\n",
      "Ge is_transition_metal\n",
      "Ge is_post_transition_metal\n",
      "Ge is_rare_earth_metal\n",
      "Ge is_metalloid\n",
      "Ge is_alkali\n",
      "Ge is_alkaline\n",
      "Ge is_halogen\n",
      "Ge is_lanthanoid\n",
      "Ge is_actinoid\n",
      "Ge van_der_waals_radius\n",
      "Ge velocity_of_sound\n",
      "Ge critical_temperature\n",
      "Ge superconduction_temperature\n",
      "Ge average_cationic_radius\n",
      "Ge average_anionic_radius\n",
      "Ge ionic_radii\n",
      "Ge boiling_point\n",
      "Ge symbol\n",
      "Ge vickers_hardness\n",
      "Ge average_ionic_radius\n",
      "Ge melting_point\n",
      "Ge rigidity_modulus\n",
      "Ge Z\n",
      "Ge number\n",
      "Ge density_of_solid\n",
      "Ge coefficient_of_linear_thermal_expansion\n",
      "As atomic_mass\n",
      "As poissons_ratio\n",
      "As atomic_radius\n",
      "As electrical_resistivity\n",
      "As molar_volume\n",
      "As thermal_conductivity\n",
      "As bulk_modulus\n",
      "As youngs_modulus\n",
      "As group\n",
      "As is_noble_gas\n",
      "As is_transition_metal\n",
      "As is_post_transition_metal\n",
      "As is_rare_earth_metal\n",
      "As is_metalloid\n",
      "As is_alkali\n",
      "As is_alkaline\n",
      "As is_halogen\n",
      "As is_lanthanoid\n",
      "As is_actinoid\n",
      "As van_der_waals_radius\n",
      "As velocity_of_sound\n",
      "As critical_temperature\n",
      "As superconduction_temperature\n",
      "As average_cationic_radius\n",
      "As average_anionic_radius\n",
      "As ionic_radii\n",
      "As boiling_point\n",
      "As symbol\n",
      "As vickers_hardness\n",
      "As average_ionic_radius\n",
      "As melting_point\n",
      "As rigidity_modulus\n",
      "As Z\n",
      "As number\n",
      "As density_of_solid\n",
      "As coefficient_of_linear_thermal_expansion\n",
      "Se atomic_mass\n",
      "Se poissons_ratio\n",
      "Se atomic_radius\n",
      "Se electrical_resistivity\n",
      "Se molar_volume\n",
      "Se thermal_conductivity\n",
      "Se bulk_modulus\n",
      "Se youngs_modulus\n",
      "Se group\n",
      "Se is_noble_gas\n",
      "Se is_transition_metal\n",
      "Se is_post_transition_metal\n",
      "Se is_rare_earth_metal\n",
      "Se is_metalloid\n",
      "Se is_alkali\n",
      "Se is_alkaline\n",
      "Se is_halogen\n",
      "Se is_lanthanoid\n",
      "Se is_actinoid\n",
      "Se van_der_waals_radius\n",
      "Se velocity_of_sound\n",
      "Se critical_temperature\n",
      "Se superconduction_temperature\n",
      "Se average_cationic_radius\n",
      "Se average_anionic_radius\n",
      "Se ionic_radii\n",
      "Se boiling_point\n",
      "Se symbol\n",
      "Se vickers_hardness\n",
      "Se average_ionic_radius\n",
      "Se melting_point\n",
      "Se rigidity_modulus\n",
      "Se Z\n",
      "Se number\n",
      "Se density_of_solid\n",
      "Se coefficient_of_linear_thermal_expansion\n",
      "Br atomic_mass\n",
      "Br poissons_ratio\n",
      "Br atomic_radius\n",
      "Br electrical_resistivity\n",
      "Br molar_volume\n",
      "Br thermal_conductivity\n",
      "Br bulk_modulus\n",
      "Br youngs_modulus\n",
      "Br group\n",
      "Br is_noble_gas\n",
      "Br is_transition_metal\n",
      "Br is_post_transition_metal\n",
      "Br is_rare_earth_metal\n",
      "Br is_metalloid\n",
      "Br is_alkali\n",
      "Br is_alkaline\n",
      "Br is_halogen\n",
      "Br is_lanthanoid\n",
      "Br is_actinoid\n",
      "Br van_der_waals_radius\n",
      "Br velocity_of_sound\n",
      "Br critical_temperature\n",
      "Br superconduction_temperature\n",
      "Br average_cationic_radius\n",
      "Br average_anionic_radius\n",
      "Br ionic_radii\n",
      "Br boiling_point\n",
      "Br symbol\n",
      "Br vickers_hardness\n",
      "Br average_ionic_radius\n",
      "Br melting_point\n",
      "Br rigidity_modulus\n",
      "Br Z\n",
      "Br number\n",
      "Br density_of_solid\n",
      "Br coefficient_of_linear_thermal_expansion\n",
      "Kr atomic_mass\n",
      "Kr poissons_ratio\n",
      "Kr atomic_radius\n",
      "Kr electrical_resistivity\n",
      "Kr molar_volume\n",
      "Kr thermal_conductivity\n",
      "Kr bulk_modulus\n",
      "Kr youngs_modulus\n",
      "Kr group\n",
      "Kr is_noble_gas\n",
      "Kr is_transition_metal\n",
      "Kr is_post_transition_metal\n",
      "Kr is_rare_earth_metal\n",
      "Kr is_metalloid\n",
      "Kr is_alkali\n",
      "Kr is_alkaline\n",
      "Kr is_halogen\n",
      "Kr is_lanthanoid\n",
      "Kr is_actinoid\n",
      "Kr van_der_waals_radius\n",
      "Kr velocity_of_sound\n",
      "Kr critical_temperature\n",
      "Kr superconduction_temperature\n",
      "Kr average_cationic_radius\n",
      "Kr average_anionic_radius\n",
      "Kr ionic_radii\n",
      "Kr boiling_point\n",
      "Kr symbol\n",
      "Kr vickers_hardness\n",
      "Kr average_ionic_radius\n",
      "Kr melting_point\n",
      "Kr rigidity_modulus\n",
      "Kr Z\n",
      "Kr number\n",
      "Kr density_of_solid\n",
      "Kr coefficient_of_linear_thermal_expansion\n",
      "Rb atomic_mass\n",
      "Rb poissons_ratio\n",
      "Rb atomic_radius\n",
      "Rb electrical_resistivity\n",
      "Rb molar_volume\n",
      "Rb thermal_conductivity\n",
      "Rb bulk_modulus\n",
      "Rb youngs_modulus\n",
      "Rb group\n",
      "Rb is_noble_gas\n",
      "Rb is_transition_metal\n",
      "Rb is_post_transition_metal\n",
      "Rb is_rare_earth_metal\n",
      "Rb is_metalloid\n",
      "Rb is_alkali\n",
      "Rb is_alkaline\n",
      "Rb is_halogen\n",
      "Rb is_lanthanoid\n",
      "Rb is_actinoid\n",
      "Rb van_der_waals_radius\n",
      "Rb velocity_of_sound\n",
      "Rb critical_temperature\n",
      "Rb superconduction_temperature\n",
      "Rb average_cationic_radius\n",
      "Rb average_anionic_radius\n",
      "Rb ionic_radii\n",
      "Rb boiling_point\n",
      "Rb symbol\n",
      "Rb vickers_hardness\n",
      "Rb average_ionic_radius\n",
      "Rb melting_point\n",
      "Rb rigidity_modulus\n",
      "Rb Z\n",
      "Rb number\n",
      "Rb density_of_solid\n",
      "Rb coefficient_of_linear_thermal_expansion\n",
      "Sr atomic_mass\n",
      "Sr poissons_ratio\n",
      "Sr atomic_radius\n",
      "Sr electrical_resistivity\n",
      "Sr molar_volume\n",
      "Sr thermal_conductivity\n",
      "Sr bulk_modulus\n",
      "Sr youngs_modulus\n",
      "Sr group\n",
      "Sr is_noble_gas\n",
      "Sr is_transition_metal\n",
      "Sr is_post_transition_metal\n",
      "Sr is_rare_earth_metal\n",
      "Sr is_metalloid\n",
      "Sr is_alkali\n",
      "Sr is_alkaline\n",
      "Sr is_halogen\n",
      "Sr is_lanthanoid\n",
      "Sr is_actinoid\n",
      "Sr van_der_waals_radius\n",
      "Sr velocity_of_sound\n",
      "Sr critical_temperature\n",
      "Sr superconduction_temperature\n",
      "Sr average_cationic_radius\n",
      "Sr average_anionic_radius\n",
      "Sr ionic_radii\n",
      "Sr boiling_point\n",
      "Sr symbol\n",
      "Sr vickers_hardness\n",
      "Sr average_ionic_radius\n",
      "Sr melting_point\n",
      "Sr rigidity_modulus\n",
      "Sr Z\n",
      "Sr number\n",
      "Sr density_of_solid\n",
      "Sr coefficient_of_linear_thermal_expansion\n",
      "Y atomic_mass\n",
      "Y poissons_ratio\n",
      "Y atomic_radius\n",
      "Y electrical_resistivity\n",
      "Y molar_volume\n",
      "Y thermal_conductivity\n",
      "Y bulk_modulus\n",
      "Y youngs_modulus\n",
      "Y group\n",
      "Y is_noble_gas\n",
      "Y is_transition_metal\n",
      "Y is_post_transition_metal\n",
      "Y is_rare_earth_metal\n",
      "Y is_metalloid\n",
      "Y is_alkali\n",
      "Y is_alkaline\n",
      "Y is_halogen\n",
      "Y is_lanthanoid\n",
      "Y is_actinoid\n",
      "Y van_der_waals_radius\n",
      "Y velocity_of_sound\n",
      "Y critical_temperature\n",
      "Y superconduction_temperature\n",
      "Y average_cationic_radius\n",
      "Y average_anionic_radius\n",
      "Y ionic_radii\n",
      "Y boiling_point\n",
      "Y symbol\n",
      "Y vickers_hardness\n",
      "Y average_ionic_radius\n",
      "Y melting_point\n",
      "Y rigidity_modulus\n",
      "Y Z\n",
      "Y number\n",
      "Y density_of_solid\n",
      "Y coefficient_of_linear_thermal_expansion\n",
      "Zr atomic_mass\n",
      "Zr poissons_ratio\n",
      "Zr atomic_radius\n",
      "Zr electrical_resistivity\n",
      "Zr molar_volume\n",
      "Zr thermal_conductivity\n",
      "Zr bulk_modulus\n",
      "Zr youngs_modulus\n",
      "Zr group\n",
      "Zr is_noble_gas\n",
      "Zr is_transition_metal\n",
      "Zr is_post_transition_metal\n",
      "Zr is_rare_earth_metal\n",
      "Zr is_metalloid\n",
      "Zr is_alkali\n",
      "Zr is_alkaline\n",
      "Zr is_halogen\n",
      "Zr is_lanthanoid\n",
      "Zr is_actinoid\n",
      "Zr van_der_waals_radius\n",
      "Zr velocity_of_sound\n",
      "Zr critical_temperature\n",
      "Zr superconduction_temperature\n",
      "Zr average_cationic_radius\n",
      "Zr average_anionic_radius\n",
      "Zr ionic_radii\n",
      "Zr boiling_point\n",
      "Zr symbol\n",
      "Zr vickers_hardness\n",
      "Zr average_ionic_radius\n",
      "Zr melting_point\n",
      "Zr rigidity_modulus\n",
      "Zr Z\n",
      "Zr number\n",
      "Zr density_of_solid\n",
      "Zr coefficient_of_linear_thermal_expansion\n",
      "Nb atomic_mass\n",
      "Nb poissons_ratio\n",
      "Nb atomic_radius\n",
      "Nb electrical_resistivity\n",
      "Nb molar_volume\n",
      "Nb thermal_conductivity\n",
      "Nb bulk_modulus\n",
      "Nb youngs_modulus\n",
      "Nb group\n",
      "Nb is_noble_gas\n",
      "Nb is_transition_metal\n",
      "Nb is_post_transition_metal\n",
      "Nb is_rare_earth_metal\n",
      "Nb is_metalloid\n",
      "Nb is_alkali\n",
      "Nb is_alkaline\n",
      "Nb is_halogen\n",
      "Nb is_lanthanoid\n",
      "Nb is_actinoid\n",
      "Nb van_der_waals_radius\n",
      "Nb velocity_of_sound\n",
      "Nb critical_temperature\n",
      "Nb superconduction_temperature\n",
      "Nb average_cationic_radius\n",
      "Nb average_anionic_radius\n",
      "Nb ionic_radii\n",
      "Nb boiling_point\n",
      "Nb symbol\n",
      "Nb vickers_hardness\n",
      "Nb average_ionic_radius\n",
      "Nb melting_point\n",
      "Nb rigidity_modulus\n",
      "Nb Z\n",
      "Nb number\n",
      "Nb density_of_solid\n",
      "Nb coefficient_of_linear_thermal_expansion\n",
      "Mo atomic_mass\n",
      "Mo poissons_ratio\n",
      "Mo atomic_radius\n",
      "Mo electrical_resistivity\n",
      "Mo molar_volume\n",
      "Mo thermal_conductivity\n",
      "Mo bulk_modulus\n",
      "Mo youngs_modulus\n",
      "Mo group\n",
      "Mo is_noble_gas\n",
      "Mo is_transition_metal\n",
      "Mo is_post_transition_metal\n",
      "Mo is_rare_earth_metal\n",
      "Mo is_metalloid\n",
      "Mo is_alkali\n",
      "Mo is_alkaline\n",
      "Mo is_halogen\n",
      "Mo is_lanthanoid\n",
      "Mo is_actinoid\n",
      "Mo van_der_waals_radius\n",
      "Mo velocity_of_sound\n",
      "Mo critical_temperature\n",
      "Mo superconduction_temperature\n",
      "Mo average_cationic_radius\n",
      "Mo average_anionic_radius\n",
      "Mo ionic_radii\n",
      "Mo boiling_point\n",
      "Mo symbol\n",
      "Mo vickers_hardness\n",
      "Mo average_ionic_radius\n",
      "Mo melting_point\n",
      "Mo rigidity_modulus\n",
      "Mo Z\n",
      "Mo number\n",
      "Mo density_of_solid\n",
      "Mo coefficient_of_linear_thermal_expansion\n",
      "Tc atomic_mass\n",
      "Tc poissons_ratio\n",
      "Tc atomic_radius\n",
      "Tc electrical_resistivity\n",
      "Tc molar_volume\n",
      "Tc thermal_conductivity\n",
      "Tc bulk_modulus\n",
      "Tc youngs_modulus\n",
      "Tc group\n",
      "Tc is_noble_gas\n",
      "Tc is_transition_metal\n",
      "Tc is_post_transition_metal\n",
      "Tc is_rare_earth_metal\n",
      "Tc is_metalloid\n",
      "Tc is_alkali\n",
      "Tc is_alkaline\n",
      "Tc is_halogen\n",
      "Tc is_lanthanoid\n",
      "Tc is_actinoid\n",
      "Tc van_der_waals_radius\n",
      "Tc velocity_of_sound\n",
      "Tc critical_temperature\n",
      "Tc superconduction_temperature\n",
      "Tc average_cationic_radius\n",
      "Tc average_anionic_radius\n",
      "Tc ionic_radii\n",
      "Tc boiling_point\n",
      "Tc symbol\n",
      "Tc vickers_hardness\n",
      "Tc average_ionic_radius\n",
      "Tc melting_point\n",
      "Tc rigidity_modulus\n",
      "Tc Z\n",
      "Tc number\n",
      "Tc density_of_solid\n",
      "Tc coefficient_of_linear_thermal_expansion\n",
      "Ru atomic_mass\n",
      "Ru poissons_ratio\n",
      "Ru atomic_radius\n",
      "Ru electrical_resistivity\n",
      "Ru molar_volume\n",
      "Ru thermal_conductivity\n",
      "Ru bulk_modulus\n",
      "Ru youngs_modulus\n",
      "Ru group\n",
      "Ru is_noble_gas\n",
      "Ru is_transition_metal\n",
      "Ru is_post_transition_metal\n",
      "Ru is_rare_earth_metal\n",
      "Ru is_metalloid\n",
      "Ru is_alkali\n",
      "Ru is_alkaline\n",
      "Ru is_halogen\n",
      "Ru is_lanthanoid\n",
      "Ru is_actinoid\n",
      "Ru van_der_waals_radius\n",
      "Ru velocity_of_sound\n",
      "Ru critical_temperature\n",
      "Ru superconduction_temperature\n",
      "Ru average_cationic_radius\n",
      "Ru average_anionic_radius\n",
      "Ru ionic_radii\n",
      "Ru boiling_point\n",
      "Ru symbol\n",
      "Ru vickers_hardness\n",
      "Ru average_ionic_radius\n",
      "Ru melting_point\n",
      "Ru rigidity_modulus\n",
      "Ru Z\n",
      "Ru number\n",
      "Ru density_of_solid\n",
      "Ru coefficient_of_linear_thermal_expansion\n",
      "Rh atomic_mass\n",
      "Rh poissons_ratio\n",
      "Rh atomic_radius\n",
      "Rh electrical_resistivity\n",
      "Rh molar_volume\n",
      "Rh thermal_conductivity\n",
      "Rh bulk_modulus\n",
      "Rh youngs_modulus\n",
      "Rh group\n",
      "Rh is_noble_gas\n",
      "Rh is_transition_metal\n",
      "Rh is_post_transition_metal\n",
      "Rh is_rare_earth_metal\n",
      "Rh is_metalloid\n",
      "Rh is_alkali\n",
      "Rh is_alkaline\n",
      "Rh is_halogen\n",
      "Rh is_lanthanoid\n",
      "Rh is_actinoid\n",
      "Rh van_der_waals_radius\n",
      "Rh velocity_of_sound\n",
      "Rh critical_temperature\n",
      "Rh superconduction_temperature\n",
      "Rh average_cationic_radius\n",
      "Rh average_anionic_radius\n",
      "Rh ionic_radii\n",
      "Rh boiling_point\n",
      "Rh symbol\n",
      "Rh vickers_hardness\n",
      "Rh average_ionic_radius\n",
      "Rh melting_point\n",
      "Rh rigidity_modulus\n",
      "Rh Z\n",
      "Rh number\n",
      "Rh density_of_solid\n",
      "Rh coefficient_of_linear_thermal_expansion\n",
      "Pd atomic_mass\n",
      "Pd poissons_ratio\n",
      "Pd atomic_radius\n",
      "Pd electrical_resistivity\n",
      "Pd molar_volume\n",
      "Pd thermal_conductivity\n",
      "Pd bulk_modulus\n",
      "Pd youngs_modulus\n",
      "Pd group\n",
      "Pd is_noble_gas\n",
      "Pd is_transition_metal\n",
      "Pd is_post_transition_metal\n",
      "Pd is_rare_earth_metal\n",
      "Pd is_metalloid\n",
      "Pd is_alkali\n",
      "Pd is_alkaline\n",
      "Pd is_halogen\n",
      "Pd is_lanthanoid\n",
      "Pd is_actinoid\n",
      "Pd van_der_waals_radius\n",
      "Pd velocity_of_sound\n",
      "Pd critical_temperature\n",
      "Pd superconduction_temperature\n",
      "Pd average_cationic_radius\n",
      "Pd average_anionic_radius\n",
      "Pd ionic_radii\n",
      "Pd boiling_point\n",
      "Pd symbol\n",
      "Pd vickers_hardness\n",
      "Pd average_ionic_radius\n",
      "Pd melting_point\n",
      "Pd rigidity_modulus\n",
      "Pd Z\n",
      "Pd number\n",
      "Pd density_of_solid\n",
      "Pd coefficient_of_linear_thermal_expansion\n",
      "Ag atomic_mass\n",
      "Ag poissons_ratio\n",
      "Ag atomic_radius\n",
      "Ag electrical_resistivity\n",
      "Ag molar_volume\n",
      "Ag thermal_conductivity\n",
      "Ag bulk_modulus\n",
      "Ag youngs_modulus\n",
      "Ag group\n",
      "Ag is_noble_gas\n",
      "Ag is_transition_metal\n",
      "Ag is_post_transition_metal\n",
      "Ag is_rare_earth_metal\n",
      "Ag is_metalloid\n",
      "Ag is_alkali\n",
      "Ag is_alkaline\n",
      "Ag is_halogen\n",
      "Ag is_lanthanoid\n",
      "Ag is_actinoid\n",
      "Ag van_der_waals_radius\n",
      "Ag velocity_of_sound\n",
      "Ag critical_temperature\n",
      "Ag superconduction_temperature\n",
      "Ag average_cationic_radius\n",
      "Ag average_anionic_radius\n",
      "Ag ionic_radii\n",
      "Ag boiling_point\n",
      "Ag symbol\n",
      "Ag vickers_hardness\n",
      "Ag average_ionic_radius\n",
      "Ag melting_point\n",
      "Ag rigidity_modulus\n",
      "Ag Z\n",
      "Ag number\n",
      "Ag density_of_solid\n",
      "Ag coefficient_of_linear_thermal_expansion\n",
      "Cd atomic_mass\n",
      "Cd poissons_ratio\n",
      "Cd atomic_radius\n",
      "Cd electrical_resistivity\n",
      "Cd molar_volume\n",
      "Cd thermal_conductivity\n",
      "Cd bulk_modulus\n",
      "Cd youngs_modulus\n",
      "Cd group\n",
      "Cd is_noble_gas\n",
      "Cd is_transition_metal\n",
      "Cd is_post_transition_metal\n",
      "Cd is_rare_earth_metal\n",
      "Cd is_metalloid\n",
      "Cd is_alkali\n",
      "Cd is_alkaline\n",
      "Cd is_halogen\n",
      "Cd is_lanthanoid\n",
      "Cd is_actinoid\n",
      "Cd van_der_waals_radius\n",
      "Cd velocity_of_sound\n",
      "Cd critical_temperature\n",
      "Cd superconduction_temperature\n",
      "Cd average_cationic_radius\n",
      "Cd average_anionic_radius\n",
      "Cd ionic_radii\n",
      "Cd boiling_point\n",
      "Cd symbol\n",
      "Cd vickers_hardness\n",
      "Cd average_ionic_radius\n",
      "Cd melting_point\n",
      "Cd rigidity_modulus\n",
      "Cd Z\n",
      "Cd number\n",
      "Cd density_of_solid\n",
      "Cd coefficient_of_linear_thermal_expansion\n",
      "In atomic_mass\n",
      "In poissons_ratio\n",
      "In atomic_radius\n",
      "In electrical_resistivity\n",
      "In molar_volume\n",
      "In thermal_conductivity\n",
      "In bulk_modulus\n",
      "In youngs_modulus\n",
      "In group\n",
      "In is_noble_gas\n",
      "In is_transition_metal\n",
      "In is_post_transition_metal\n",
      "In is_rare_earth_metal\n",
      "In is_metalloid\n",
      "In is_alkali\n",
      "In is_alkaline\n",
      "In is_halogen\n",
      "In is_lanthanoid\n",
      "In is_actinoid\n",
      "In van_der_waals_radius\n",
      "In velocity_of_sound\n",
      "In critical_temperature\n",
      "In superconduction_temperature\n",
      "In average_cationic_radius\n",
      "In average_anionic_radius\n",
      "In ionic_radii\n",
      "In boiling_point\n",
      "In symbol\n",
      "In vickers_hardness\n",
      "In average_ionic_radius\n",
      "In melting_point\n",
      "In rigidity_modulus\n",
      "In Z\n",
      "In number\n",
      "In density_of_solid\n",
      "In coefficient_of_linear_thermal_expansion\n",
      "Sn atomic_mass\n",
      "Sn poissons_ratio\n"
     ]
    },
    {
     "name": "stdout",
     "output_type": "stream",
     "text": [
      "Sn atomic_radius\n",
      "Sn electrical_resistivity\n",
      "Sn molar_volume\n",
      "Sn thermal_conductivity\n",
      "Sn bulk_modulus\n",
      "Sn youngs_modulus\n",
      "Sn group\n",
      "Sn is_noble_gas\n",
      "Sn is_transition_metal\n",
      "Sn is_post_transition_metal\n",
      "Sn is_rare_earth_metal\n",
      "Sn is_metalloid\n",
      "Sn is_alkali\n",
      "Sn is_alkaline\n",
      "Sn is_halogen\n",
      "Sn is_lanthanoid\n",
      "Sn is_actinoid\n",
      "Sn van_der_waals_radius\n",
      "Sn velocity_of_sound\n",
      "Sn critical_temperature\n",
      "Sn superconduction_temperature\n",
      "Sn average_cationic_radius\n",
      "Sn average_anionic_radius\n",
      "Sn ionic_radii\n",
      "Sn boiling_point\n",
      "Sn symbol\n",
      "Sn vickers_hardness\n",
      "Sn average_ionic_radius\n",
      "Sn melting_point\n",
      "Sn rigidity_modulus\n",
      "Sn Z\n",
      "Sn number\n",
      "Sn density_of_solid\n",
      "Sn coefficient_of_linear_thermal_expansion\n",
      "Sb atomic_mass\n",
      "Sb poissons_ratio\n",
      "Sb atomic_radius\n",
      "Sb electrical_resistivity\n",
      "Sb molar_volume\n",
      "Sb thermal_conductivity\n",
      "Sb bulk_modulus\n",
      "Sb youngs_modulus\n",
      "Sb group\n",
      "Sb is_noble_gas\n",
      "Sb is_transition_metal\n",
      "Sb is_post_transition_metal\n",
      "Sb is_rare_earth_metal\n",
      "Sb is_metalloid\n",
      "Sb is_alkali\n",
      "Sb is_alkaline\n",
      "Sb is_halogen\n",
      "Sb is_lanthanoid\n",
      "Sb is_actinoid\n",
      "Sb van_der_waals_radius\n",
      "Sb velocity_of_sound\n",
      "Sb critical_temperature\n",
      "Sb superconduction_temperature\n",
      "Sb average_cationic_radius\n",
      "Sb average_anionic_radius\n",
      "Sb ionic_radii\n",
      "Sb boiling_point\n",
      "Sb symbol\n",
      "Sb vickers_hardness\n",
      "Sb average_ionic_radius\n",
      "Sb melting_point\n",
      "Sb rigidity_modulus\n",
      "Sb Z\n",
      "Sb number\n",
      "Sb density_of_solid\n",
      "Sb coefficient_of_linear_thermal_expansion\n",
      "Te atomic_mass\n",
      "Te poissons_ratio\n",
      "Te atomic_radius\n",
      "Te electrical_resistivity\n",
      "Te molar_volume\n",
      "Te thermal_conductivity\n",
      "Te bulk_modulus\n",
      "Te youngs_modulus\n",
      "Te group\n",
      "Te is_noble_gas\n",
      "Te is_transition_metal\n",
      "Te is_post_transition_metal\n",
      "Te is_rare_earth_metal\n",
      "Te is_metalloid\n",
      "Te is_alkali\n",
      "Te is_alkaline\n",
      "Te is_halogen\n",
      "Te is_lanthanoid\n",
      "Te is_actinoid\n",
      "Te van_der_waals_radius\n",
      "Te velocity_of_sound\n",
      "Te critical_temperature\n",
      "Te superconduction_temperature\n",
      "Te average_cationic_radius\n",
      "Te average_anionic_radius\n",
      "Te ionic_radii\n",
      "Te boiling_point\n",
      "Te symbol\n",
      "Te vickers_hardness\n",
      "Te average_ionic_radius\n",
      "Te melting_point\n",
      "Te rigidity_modulus\n",
      "Te Z\n",
      "Te number\n",
      "Te density_of_solid\n",
      "Te coefficient_of_linear_thermal_expansion\n",
      "I atomic_mass\n",
      "I poissons_ratio\n",
      "I atomic_radius\n",
      "I electrical_resistivity\n",
      "I molar_volume\n",
      "I thermal_conductivity\n",
      "I bulk_modulus\n",
      "I youngs_modulus\n",
      "I group\n",
      "I is_noble_gas\n",
      "I is_transition_metal\n",
      "I is_post_transition_metal\n",
      "I is_rare_earth_metal\n",
      "I is_metalloid\n",
      "I is_alkali\n",
      "I is_alkaline\n",
      "I is_halogen\n",
      "I is_lanthanoid\n",
      "I is_actinoid\n",
      "I van_der_waals_radius\n",
      "I velocity_of_sound\n",
      "I critical_temperature\n",
      "I superconduction_temperature\n",
      "I average_cationic_radius\n",
      "I average_anionic_radius\n",
      "I ionic_radii\n",
      "I boiling_point\n",
      "I symbol\n",
      "I vickers_hardness\n",
      "I average_ionic_radius\n",
      "I melting_point\n",
      "I rigidity_modulus\n",
      "I Z\n",
      "I number\n",
      "I density_of_solid\n",
      "I coefficient_of_linear_thermal_expansion\n",
      "Xe atomic_mass\n",
      "Xe poissons_ratio\n",
      "Xe atomic_radius\n",
      "Xe electrical_resistivity\n",
      "Xe molar_volume\n",
      "Xe thermal_conductivity\n",
      "Xe bulk_modulus\n",
      "Xe youngs_modulus\n",
      "Xe group\n",
      "Xe is_noble_gas\n",
      "Xe is_transition_metal\n",
      "Xe is_post_transition_metal\n",
      "Xe is_rare_earth_metal\n",
      "Xe is_metalloid\n",
      "Xe is_alkali\n",
      "Xe is_alkaline\n",
      "Xe is_halogen\n",
      "Xe is_lanthanoid\n",
      "Xe is_actinoid\n",
      "Xe van_der_waals_radius\n",
      "Xe velocity_of_sound\n",
      "Xe critical_temperature\n",
      "Xe superconduction_temperature\n",
      "Xe average_cationic_radius\n",
      "Xe average_anionic_radius\n",
      "Xe ionic_radii\n",
      "Xe boiling_point\n",
      "Xe symbol\n",
      "Xe vickers_hardness\n",
      "Xe average_ionic_radius\n",
      "Xe melting_point\n",
      "Xe rigidity_modulus\n",
      "Xe Z\n",
      "Xe number\n",
      "Xe density_of_solid\n",
      "Xe coefficient_of_linear_thermal_expansion\n",
      "Cs atomic_mass\n",
      "Cs poissons_ratio\n",
      "Cs atomic_radius\n",
      "Cs electrical_resistivity\n",
      "Cs molar_volume\n",
      "Cs thermal_conductivity\n",
      "Cs bulk_modulus\n",
      "Cs youngs_modulus\n",
      "Cs group\n",
      "Cs is_noble_gas\n",
      "Cs is_transition_metal\n",
      "Cs is_post_transition_metal\n",
      "Cs is_rare_earth_metal\n",
      "Cs is_metalloid\n",
      "Cs is_alkali\n",
      "Cs is_alkaline\n",
      "Cs is_halogen\n",
      "Cs is_lanthanoid\n",
      "Cs is_actinoid\n",
      "Cs van_der_waals_radius\n",
      "Cs velocity_of_sound\n",
      "Cs critical_temperature\n",
      "Cs superconduction_temperature\n",
      "Cs average_cationic_radius\n",
      "Cs average_anionic_radius\n",
      "Cs ionic_radii\n",
      "Cs boiling_point\n",
      "Cs symbol\n",
      "Cs vickers_hardness\n",
      "Cs average_ionic_radius\n",
      "Cs melting_point\n",
      "Cs rigidity_modulus\n",
      "Cs Z\n",
      "Cs number\n",
      "Cs density_of_solid\n",
      "Cs coefficient_of_linear_thermal_expansion\n",
      "Ba atomic_mass\n",
      "Ba poissons_ratio\n",
      "Ba atomic_radius\n",
      "Ba electrical_resistivity\n",
      "Ba molar_volume\n",
      "Ba thermal_conductivity\n",
      "Ba bulk_modulus\n",
      "Ba youngs_modulus\n",
      "Ba group\n",
      "Ba is_noble_gas\n",
      "Ba is_transition_metal\n",
      "Ba is_post_transition_metal\n",
      "Ba is_rare_earth_metal\n",
      "Ba is_metalloid\n",
      "Ba is_alkali\n",
      "Ba is_alkaline\n",
      "Ba is_halogen\n",
      "Ba is_lanthanoid\n",
      "Ba is_actinoid\n",
      "Ba van_der_waals_radius\n",
      "Ba velocity_of_sound\n",
      "Ba critical_temperature\n",
      "Ba superconduction_temperature\n",
      "Ba average_cationic_radius\n",
      "Ba average_anionic_radius\n",
      "Ba ionic_radii\n",
      "Ba boiling_point\n",
      "Ba symbol\n",
      "Ba vickers_hardness\n",
      "Ba average_ionic_radius\n",
      "Ba melting_point\n",
      "Ba rigidity_modulus\n",
      "Ba Z\n",
      "Ba number\n",
      "Ba density_of_solid\n",
      "Ba coefficient_of_linear_thermal_expansion\n",
      "Hf atomic_mass\n",
      "Hf poissons_ratio\n",
      "Hf atomic_radius\n",
      "Hf electrical_resistivity\n",
      "Hf molar_volume\n",
      "Hf thermal_conductivity\n",
      "Hf bulk_modulus\n",
      "Hf youngs_modulus\n",
      "Hf group\n",
      "Hf is_noble_gas\n",
      "Hf is_transition_metal\n",
      "Hf is_post_transition_metal\n",
      "Hf is_rare_earth_metal\n",
      "Hf is_metalloid\n",
      "Hf is_alkali\n",
      "Hf is_alkaline\n",
      "Hf is_halogen\n",
      "Hf is_lanthanoid\n",
      "Hf is_actinoid\n",
      "Hf van_der_waals_radius\n",
      "Hf velocity_of_sound\n",
      "Hf critical_temperature\n",
      "Hf superconduction_temperature\n",
      "Hf average_cationic_radius\n",
      "Hf average_anionic_radius\n",
      "Hf ionic_radii\n",
      "Hf boiling_point\n",
      "Hf symbol\n",
      "Hf vickers_hardness\n",
      "Hf average_ionic_radius\n",
      "Hf melting_point\n",
      "Hf rigidity_modulus\n",
      "Hf Z\n",
      "Hf number\n",
      "Hf density_of_solid\n",
      "Hf coefficient_of_linear_thermal_expansion\n",
      "Ta atomic_mass\n",
      "Ta poissons_ratio\n",
      "Ta atomic_radius\n",
      "Ta electrical_resistivity\n",
      "Ta molar_volume\n",
      "Ta thermal_conductivity\n",
      "Ta bulk_modulus\n",
      "Ta youngs_modulus\n",
      "Ta group\n",
      "Ta is_noble_gas\n",
      "Ta is_transition_metal\n",
      "Ta is_post_transition_metal\n",
      "Ta is_rare_earth_metal\n",
      "Ta is_metalloid\n",
      "Ta is_alkali\n",
      "Ta is_alkaline\n",
      "Ta is_halogen\n",
      "Ta is_lanthanoid\n",
      "Ta is_actinoid\n",
      "Ta van_der_waals_radius\n",
      "Ta velocity_of_sound\n",
      "Ta critical_temperature\n",
      "Ta superconduction_temperature\n",
      "Ta average_cationic_radius\n",
      "Ta average_anionic_radius\n",
      "Ta ionic_radii\n",
      "Ta boiling_point\n",
      "Ta symbol\n",
      "Ta vickers_hardness\n",
      "Ta average_ionic_radius\n",
      "Ta melting_point\n",
      "Ta rigidity_modulus\n",
      "Ta Z\n",
      "Ta number\n",
      "Ta density_of_solid\n",
      "Ta coefficient_of_linear_thermal_expansion\n",
      "W atomic_mass\n",
      "W poissons_ratio\n",
      "W atomic_radius\n",
      "W electrical_resistivity\n",
      "W molar_volume\n",
      "W thermal_conductivity\n",
      "W bulk_modulus\n",
      "W youngs_modulus\n",
      "W group\n",
      "W is_noble_gas\n",
      "W is_transition_metal\n",
      "W is_post_transition_metal\n",
      "W is_rare_earth_metal\n",
      "W is_metalloid\n",
      "W is_alkali\n",
      "W is_alkaline\n",
      "W is_halogen\n",
      "W is_lanthanoid\n",
      "W is_actinoid\n",
      "W van_der_waals_radius\n",
      "W velocity_of_sound\n",
      "W critical_temperature\n",
      "W superconduction_temperature\n",
      "W average_cationic_radius\n",
      "W average_anionic_radius\n",
      "W ionic_radii\n",
      "W boiling_point\n",
      "W symbol\n",
      "W vickers_hardness\n",
      "W average_ionic_radius\n",
      "W melting_point\n",
      "W rigidity_modulus\n",
      "W Z\n",
      "W number\n",
      "W density_of_solid\n",
      "W coefficient_of_linear_thermal_expansion\n",
      "Re atomic_mass\n",
      "Re poissons_ratio\n",
      "Re atomic_radius\n",
      "Re electrical_resistivity\n",
      "Re molar_volume\n",
      "Re thermal_conductivity\n",
      "Re bulk_modulus\n",
      "Re youngs_modulus\n",
      "Re group\n",
      "Re is_noble_gas\n",
      "Re is_transition_metal\n",
      "Re is_post_transition_metal\n",
      "Re is_rare_earth_metal\n",
      "Re is_metalloid\n",
      "Re is_alkali\n",
      "Re is_alkaline\n",
      "Re is_halogen\n",
      "Re is_lanthanoid\n",
      "Re is_actinoid\n",
      "Re van_der_waals_radius\n",
      "Re velocity_of_sound\n",
      "Re critical_temperature\n",
      "Re superconduction_temperature\n",
      "Re average_cationic_radius\n",
      "Re average_anionic_radius\n",
      "Re ionic_radii\n",
      "Re boiling_point\n",
      "Re symbol\n",
      "Re vickers_hardness\n",
      "Re average_ionic_radius\n",
      "Re melting_point\n",
      "Re rigidity_modulus\n",
      "Re Z\n",
      "Re number\n",
      "Re density_of_solid\n",
      "Re coefficient_of_linear_thermal_expansion\n",
      "Os atomic_mass\n",
      "Os poissons_ratio\n",
      "Os atomic_radius\n",
      "Os electrical_resistivity\n",
      "Os molar_volume\n",
      "Os thermal_conductivity\n",
      "Os bulk_modulus\n",
      "Os youngs_modulus\n",
      "Os group\n",
      "Os is_noble_gas\n",
      "Os is_transition_metal\n",
      "Os is_post_transition_metal\n",
      "Os is_rare_earth_metal\n",
      "Os is_metalloid\n",
      "Os is_alkali\n",
      "Os is_alkaline\n",
      "Os is_halogen\n",
      "Os is_lanthanoid\n",
      "Os is_actinoid\n",
      "Os van_der_waals_radius\n",
      "Os velocity_of_sound\n",
      "Os critical_temperature\n",
      "Os superconduction_temperature\n",
      "Os average_cationic_radius\n",
      "Os average_anionic_radius\n",
      "Os ionic_radii\n",
      "Os boiling_point\n",
      "Os symbol\n",
      "Os vickers_hardness\n",
      "Os average_ionic_radius\n",
      "Os melting_point\n",
      "Os rigidity_modulus\n",
      "Os Z\n",
      "Os number\n",
      "Os density_of_solid\n",
      "Os coefficient_of_linear_thermal_expansion\n",
      "Ir atomic_mass\n",
      "Ir poissons_ratio\n",
      "Ir atomic_radius\n",
      "Ir electrical_resistivity\n",
      "Ir molar_volume\n",
      "Ir thermal_conductivity\n",
      "Ir bulk_modulus\n",
      "Ir youngs_modulus\n",
      "Ir group\n",
      "Ir is_noble_gas\n",
      "Ir is_transition_metal\n",
      "Ir is_post_transition_metal\n",
      "Ir is_rare_earth_metal\n",
      "Ir is_metalloid\n",
      "Ir is_alkali\n",
      "Ir is_alkaline\n",
      "Ir is_halogen\n",
      "Ir is_lanthanoid\n",
      "Ir is_actinoid\n",
      "Ir van_der_waals_radius\n",
      "Ir velocity_of_sound\n",
      "Ir critical_temperature\n",
      "Ir superconduction_temperature\n",
      "Ir average_cationic_radius\n",
      "Ir average_anionic_radius\n",
      "Ir ionic_radii\n",
      "Ir boiling_point\n",
      "Ir symbol\n",
      "Ir vickers_hardness\n",
      "Ir average_ionic_radius\n",
      "Ir melting_point\n",
      "Ir rigidity_modulus\n",
      "Ir Z\n",
      "Ir number\n",
      "Ir density_of_solid\n",
      "Ir coefficient_of_linear_thermal_expansion\n",
      "Pt atomic_mass\n",
      "Pt poissons_ratio\n",
      "Pt atomic_radius\n",
      "Pt electrical_resistivity\n",
      "Pt molar_volume\n",
      "Pt thermal_conductivity\n",
      "Pt bulk_modulus\n",
      "Pt youngs_modulus\n",
      "Pt group\n",
      "Pt is_noble_gas\n",
      "Pt is_transition_metal\n",
      "Pt is_post_transition_metal\n",
      "Pt is_rare_earth_metal\n",
      "Pt is_metalloid\n",
      "Pt is_alkali\n",
      "Pt is_alkaline\n",
      "Pt is_halogen\n",
      "Pt is_lanthanoid\n",
      "Pt is_actinoid\n",
      "Pt van_der_waals_radius\n",
      "Pt velocity_of_sound\n",
      "Pt critical_temperature\n",
      "Pt superconduction_temperature\n",
      "Pt average_cationic_radius\n",
      "Pt average_anionic_radius\n",
      "Pt ionic_radii\n",
      "Pt boiling_point\n",
      "Pt symbol\n",
      "Pt vickers_hardness\n",
      "Pt average_ionic_radius\n",
      "Pt melting_point\n",
      "Pt rigidity_modulus\n",
      "Pt Z\n",
      "Pt number\n",
      "Pt density_of_solid\n",
      "Pt coefficient_of_linear_thermal_expansion\n",
      "Au atomic_mass\n",
      "Au poissons_ratio\n",
      "Au atomic_radius\n",
      "Au electrical_resistivity\n",
      "Au molar_volume\n",
      "Au thermal_conductivity\n",
      "Au bulk_modulus\n",
      "Au youngs_modulus\n",
      "Au group\n",
      "Au is_noble_gas\n",
      "Au is_transition_metal\n",
      "Au is_post_transition_metal\n",
      "Au is_rare_earth_metal\n",
      "Au is_metalloid\n",
      "Au is_alkali\n",
      "Au is_alkaline\n",
      "Au is_halogen\n",
      "Au is_lanthanoid\n",
      "Au is_actinoid\n",
      "Au van_der_waals_radius\n",
      "Au velocity_of_sound\n",
      "Au critical_temperature\n",
      "Au superconduction_temperature\n",
      "Au average_cationic_radius\n",
      "Au average_anionic_radius\n",
      "Au ionic_radii\n",
      "Au boiling_point\n",
      "Au symbol\n",
      "Au vickers_hardness\n",
      "Au average_ionic_radius\n",
      "Au melting_point\n",
      "Au rigidity_modulus\n",
      "Au Z\n",
      "Au number\n",
      "Au density_of_solid\n",
      "Au coefficient_of_linear_thermal_expansion\n",
      "Hg atomic_mass\n",
      "Hg poissons_ratio\n",
      "Hg atomic_radius\n",
      "Hg electrical_resistivity\n",
      "Hg molar_volume\n",
      "Hg thermal_conductivity\n",
      "Hg bulk_modulus\n",
      "Hg youngs_modulus\n",
      "Hg group\n",
      "Hg is_noble_gas\n",
      "Hg is_transition_metal\n",
      "Hg is_post_transition_metal\n",
      "Hg is_rare_earth_metal\n",
      "Hg is_metalloid\n",
      "Hg is_alkali\n",
      "Hg is_alkaline\n",
      "Hg is_halogen\n",
      "Hg is_lanthanoid\n",
      "Hg is_actinoid\n",
      "Hg van_der_waals_radius\n",
      "Hg velocity_of_sound\n",
      "Hg critical_temperature\n",
      "Hg superconduction_temperature\n",
      "Hg average_cationic_radius\n",
      "Hg average_anionic_radius\n",
      "Hg ionic_radii\n",
      "Hg boiling_point\n",
      "Hg symbol\n",
      "Hg vickers_hardness\n",
      "Hg average_ionic_radius\n",
      "Hg melting_point\n",
      "Hg rigidity_modulus\n",
      "Hg Z\n",
      "Hg number\n",
      "Hg density_of_solid\n",
      "Hg coefficient_of_linear_thermal_expansion\n",
      "Tl atomic_mass\n",
      "Tl poissons_ratio\n",
      "Tl atomic_radius\n",
      "Tl electrical_resistivity\n",
      "Tl molar_volume\n",
      "Tl thermal_conductivity\n",
      "Tl bulk_modulus\n",
      "Tl youngs_modulus\n",
      "Tl group\n",
      "Tl is_noble_gas\n",
      "Tl is_transition_metal\n",
      "Tl is_post_transition_metal\n",
      "Tl is_rare_earth_metal\n",
      "Tl is_metalloid\n",
      "Tl is_alkali\n",
      "Tl is_alkaline\n",
      "Tl is_halogen\n",
      "Tl is_lanthanoid\n",
      "Tl is_actinoid\n",
      "Tl van_der_waals_radius\n",
      "Tl velocity_of_sound\n",
      "Tl critical_temperature\n",
      "Tl superconduction_temperature\n",
      "Tl average_cationic_radius\n",
      "Tl average_anionic_radius\n",
      "Tl ionic_radii\n",
      "Tl boiling_point\n",
      "Tl symbol\n",
      "Tl vickers_hardness\n",
      "Tl average_ionic_radius\n",
      "Tl melting_point\n",
      "Tl rigidity_modulus\n",
      "Tl Z\n",
      "Tl number\n",
      "Tl density_of_solid\n",
      "Tl coefficient_of_linear_thermal_expansion\n",
      "Pb atomic_mass\n",
      "Pb poissons_ratio\n",
      "Pb atomic_radius\n",
      "Pb electrical_resistivity\n",
      "Pb molar_volume\n",
      "Pb thermal_conductivity\n",
      "Pb bulk_modulus\n",
      "Pb youngs_modulus\n",
      "Pb group\n",
      "Pb is_noble_gas\n",
      "Pb is_transition_metal\n",
      "Pb is_post_transition_metal\n",
      "Pb is_rare_earth_metal\n",
      "Pb is_metalloid\n",
      "Pb is_alkali\n",
      "Pb is_alkaline\n",
      "Pb is_halogen\n",
      "Pb is_lanthanoid\n",
      "Pb is_actinoid\n",
      "Pb van_der_waals_radius\n",
      "Pb velocity_of_sound\n",
      "Pb critical_temperature\n",
      "Pb superconduction_temperature\n",
      "Pb average_cationic_radius\n",
      "Pb average_anionic_radius\n",
      "Pb ionic_radii\n",
      "Pb boiling_point\n",
      "Pb symbol\n",
      "Pb vickers_hardness\n",
      "Pb average_ionic_radius\n",
      "Pb melting_point\n",
      "Pb rigidity_modulus\n",
      "Pb Z\n",
      "Pb number\n",
      "Pb density_of_solid\n",
      "Pb coefficient_of_linear_thermal_expansion\n",
      "Bi atomic_mass\n",
      "Bi poissons_ratio\n",
      "Bi atomic_radius\n",
      "Bi electrical_resistivity\n",
      "Bi molar_volume\n",
      "Bi thermal_conductivity\n",
      "Bi bulk_modulus\n",
      "Bi youngs_modulus\n",
      "Bi group\n",
      "Bi is_noble_gas\n",
      "Bi is_transition_metal\n",
      "Bi is_post_transition_metal\n",
      "Bi is_rare_earth_metal\n",
      "Bi is_metalloid\n",
      "Bi is_alkali\n",
      "Bi is_alkaline\n",
      "Bi is_halogen\n",
      "Bi is_lanthanoid\n",
      "Bi is_actinoid\n",
      "Bi van_der_waals_radius\n",
      "Bi velocity_of_sound\n",
      "Bi critical_temperature\n",
      "Bi superconduction_temperature\n",
      "Bi average_cationic_radius\n",
      "Bi average_anionic_radius\n",
      "Bi ionic_radii\n",
      "Bi boiling_point\n",
      "Bi symbol\n",
      "Bi vickers_hardness\n",
      "Bi average_ionic_radius\n",
      "Bi melting_point\n",
      "Bi rigidity_modulus\n",
      "Bi Z\n",
      "Bi number\n",
      "Bi density_of_solid\n",
      "Bi coefficient_of_linear_thermal_expansion\n",
      "Po atomic_mass\n",
      "Po poissons_ratio\n",
      "Po atomic_radius\n",
      "Po electrical_resistivity\n",
      "Po molar_volume\n",
      "Po thermal_conductivity\n",
      "Po bulk_modulus\n",
      "Po youngs_modulus\n",
      "Po group\n",
      "Po is_noble_gas\n",
      "Po is_transition_metal\n",
      "Po is_post_transition_metal\n",
      "Po is_rare_earth_metal\n",
      "Po is_metalloid\n",
      "Po is_alkali\n",
      "Po is_alkaline\n",
      "Po is_halogen\n",
      "Po is_lanthanoid\n",
      "Po is_actinoid\n",
      "Po van_der_waals_radius\n",
      "Po velocity_of_sound\n",
      "Po critical_temperature\n",
      "Po superconduction_temperature\n",
      "Po average_cationic_radius\n",
      "Po average_anionic_radius\n",
      "Po ionic_radii\n",
      "Po boiling_point\n",
      "Po symbol\n",
      "Po vickers_hardness\n",
      "Po average_ionic_radius\n",
      "Po melting_point\n",
      "Po rigidity_modulus\n",
      "Po Z\n",
      "Po number\n",
      "Po density_of_solid\n",
      "Po coefficient_of_linear_thermal_expansion\n",
      "At atomic_mass\n",
      "At poissons_ratio\n",
      "At atomic_radius\n",
      "At electrical_resistivity\n",
      "At molar_volume\n",
      "At thermal_conductivity\n",
      "At bulk_modulus\n",
      "At youngs_modulus\n",
      "At group\n",
      "At is_noble_gas\n",
      "At is_transition_metal\n",
      "At is_post_transition_metal\n",
      "At is_rare_earth_metal\n",
      "At is_metalloid\n",
      "At is_alkali\n",
      "At is_alkaline\n",
      "At is_halogen\n",
      "At is_lanthanoid\n",
      "At is_actinoid\n",
      "At van_der_waals_radius\n",
      "At velocity_of_sound\n",
      "At critical_temperature\n",
      "At superconduction_temperature\n",
      "At average_cationic_radius\n",
      "At average_anionic_radius\n",
      "At ionic_radii\n",
      "At boiling_point\n",
      "At symbol\n",
      "At vickers_hardness\n",
      "At average_ionic_radius\n",
      "At melting_point\n",
      "At rigidity_modulus\n",
      "At Z\n",
      "At number\n",
      "At density_of_solid\n",
      "At coefficient_of_linear_thermal_expansion\n",
      "Rn atomic_mass\n",
      "Rn poissons_ratio\n",
      "Rn atomic_radius\n",
      "Rn electrical_resistivity\n",
      "Rn molar_volume\n",
      "Rn thermal_conductivity\n",
      "Rn bulk_modulus\n",
      "Rn youngs_modulus\n",
      "Rn group\n",
      "Rn is_noble_gas\n",
      "Rn is_transition_metal\n",
      "Rn is_post_transition_metal\n",
      "Rn is_rare_earth_metal\n",
      "Rn is_metalloid\n",
      "Rn is_alkali\n",
      "Rn is_alkaline\n",
      "Rn is_halogen\n",
      "Rn is_lanthanoid\n",
      "Rn is_actinoid\n",
      "Rn van_der_waals_radius\n",
      "Rn velocity_of_sound\n",
      "Rn critical_temperature\n",
      "Rn superconduction_temperature\n",
      "Rn average_cationic_radius\n",
      "Rn average_anionic_radius\n",
      "Rn ionic_radii\n",
      "Rn boiling_point\n",
      "Rn symbol\n",
      "Rn vickers_hardness\n",
      "Rn average_ionic_radius\n",
      "Rn melting_point\n",
      "Rn rigidity_modulus\n",
      "Rn Z\n",
      "Rn number\n",
      "Rn density_of_solid\n",
      "Rn coefficient_of_linear_thermal_expansion\n",
      "Fr atomic_mass\n",
      "Fr poissons_ratio\n",
      "Fr atomic_radius\n",
      "Fr electrical_resistivity\n",
      "Fr molar_volume\n",
      "Fr thermal_conductivity\n",
      "Fr bulk_modulus\n",
      "Fr youngs_modulus\n",
      "Fr group\n",
      "Fr is_noble_gas\n",
      "Fr is_transition_metal\n",
      "Fr is_post_transition_metal\n",
      "Fr is_rare_earth_metal\n",
      "Fr is_metalloid\n",
      "Fr is_alkali\n",
      "Fr is_alkaline\n",
      "Fr is_halogen\n",
      "Fr is_lanthanoid\n",
      "Fr is_actinoid\n",
      "Fr van_der_waals_radius\n",
      "Fr velocity_of_sound\n",
      "Fr critical_temperature\n",
      "Fr superconduction_temperature\n",
      "Fr average_cationic_radius\n",
      "Fr average_anionic_radius\n",
      "Fr ionic_radii\n",
      "Fr boiling_point\n",
      "Fr symbol\n",
      "Fr vickers_hardness\n",
      "Fr average_ionic_radius\n",
      "Fr melting_point\n",
      "Fr rigidity_modulus\n",
      "Fr Z\n",
      "Fr number\n",
      "Fr density_of_solid\n",
      "Fr coefficient_of_linear_thermal_expansion\n",
      "Ra atomic_mass\n",
      "Ra poissons_ratio\n",
      "Ra atomic_radius\n",
      "Ra electrical_resistivity\n",
      "Ra molar_volume\n",
      "Ra thermal_conductivity\n",
      "Ra bulk_modulus\n",
      "Ra youngs_modulus\n",
      "Ra group\n",
      "Ra is_noble_gas\n",
      "Ra is_transition_metal\n",
      "Ra is_post_transition_metal\n",
      "Ra is_rare_earth_metal\n",
      "Ra is_metalloid\n",
      "Ra is_alkali\n",
      "Ra is_alkaline\n",
      "Ra is_halogen\n",
      "Ra is_lanthanoid\n",
      "Ra is_actinoid\n",
      "Ra van_der_waals_radius\n",
      "Ra velocity_of_sound\n",
      "Ra critical_temperature\n",
      "Ra superconduction_temperature\n",
      "Ra average_cationic_radius\n",
      "Ra average_anionic_radius\n",
      "Ra ionic_radii\n",
      "Ra boiling_point\n",
      "Ra symbol\n",
      "Ra vickers_hardness\n",
      "Ra average_ionic_radius\n",
      "Ra melting_point\n",
      "Ra rigidity_modulus\n",
      "Ra Z\n",
      "Ra number\n",
      "Ra density_of_solid\n",
      "Ra coefficient_of_linear_thermal_expansion\n",
      "Lr atomic_mass\n",
      "Lr poissons_ratio\n",
      "Lr atomic_radius\n",
      "Lr electrical_resistivity\n",
      "Lr molar_volume\n",
      "Lr thermal_conductivity\n",
      "Lr bulk_modulus\n",
      "Lr youngs_modulus\n",
      "Lr group\n",
      "Lr is_noble_gas\n",
      "Lr is_transition_metal\n",
      "Lr is_post_transition_metal\n",
      "Lr is_rare_earth_metal\n",
      "Lr is_metalloid\n",
      "Lr is_alkali\n",
      "Lr is_alkaline\n",
      "Lr is_halogen\n",
      "Lr is_lanthanoid\n",
      "Lr is_actinoid\n",
      "Lr van_der_waals_radius\n",
      "Lr velocity_of_sound\n",
      "Lr critical_temperature\n",
      "Lr superconduction_temperature\n",
      "Lr average_cationic_radius\n",
      "Lr average_anionic_radius\n",
      "Lr ionic_radii\n",
      "Lr boiling_point\n",
      "Lr symbol\n",
      "Lr vickers_hardness\n",
      "Lr average_ionic_radius\n",
      "Lr melting_point\n",
      "Lr rigidity_modulus\n",
      "Lr Z\n",
      "Lr number\n",
      "Lr density_of_solid\n",
      "Lr coefficient_of_linear_thermal_expansion\n",
      "La atomic_mass\n",
      "La poissons_ratio\n",
      "La atomic_radius\n",
      "La electrical_resistivity\n",
      "La molar_volume\n",
      "La thermal_conductivity\n",
      "La bulk_modulus\n",
      "La youngs_modulus\n",
      "La group\n",
      "La is_noble_gas\n",
      "La is_transition_metal\n",
      "La is_post_transition_metal\n",
      "La is_rare_earth_metal\n",
      "La is_metalloid\n",
      "La is_alkali\n",
      "La is_alkaline\n",
      "La is_halogen\n",
      "La is_lanthanoid\n",
      "La is_actinoid\n",
      "La van_der_waals_radius\n",
      "La velocity_of_sound\n",
      "La critical_temperature\n",
      "La superconduction_temperature\n",
      "La average_cationic_radius\n",
      "La average_anionic_radius\n",
      "La ionic_radii\n",
      "La boiling_point\n",
      "La symbol\n",
      "La vickers_hardness\n",
      "La average_ionic_radius\n",
      "La melting_point\n",
      "La rigidity_modulus\n",
      "La Z\n",
      "La number\n",
      "La density_of_solid\n",
      "La coefficient_of_linear_thermal_expansion\n",
      "Ce atomic_mass\n",
      "Ce poissons_ratio\n",
      "Ce atomic_radius\n",
      "Ce electrical_resistivity\n",
      "Ce molar_volume\n",
      "Ce thermal_conductivity\n",
      "Ce bulk_modulus\n",
      "Ce youngs_modulus\n",
      "Ce group\n",
      "Ce is_noble_gas\n",
      "Ce is_transition_metal\n",
      "Ce is_post_transition_metal\n",
      "Ce is_rare_earth_metal\n",
      "Ce is_metalloid\n",
      "Ce is_alkali\n",
      "Ce is_alkaline\n",
      "Ce is_halogen\n",
      "Ce is_lanthanoid\n",
      "Ce is_actinoid\n",
      "Ce van_der_waals_radius\n",
      "Ce velocity_of_sound\n",
      "Ce critical_temperature\n",
      "Ce superconduction_temperature\n",
      "Ce average_cationic_radius\n",
      "Ce average_anionic_radius\n",
      "Ce ionic_radii\n",
      "Ce boiling_point\n",
      "Ce symbol\n",
      "Ce vickers_hardness\n",
      "Ce average_ionic_radius\n",
      "Ce melting_point\n",
      "Ce rigidity_modulus\n",
      "Ce Z\n",
      "Ce number\n",
      "Ce density_of_solid\n",
      "Ce coefficient_of_linear_thermal_expansion\n",
      "Pr atomic_mass\n",
      "Pr poissons_ratio\n",
      "Pr atomic_radius\n",
      "Pr electrical_resistivity\n",
      "Pr molar_volume\n",
      "Pr thermal_conductivity\n",
      "Pr bulk_modulus\n",
      "Pr youngs_modulus\n",
      "Pr group\n",
      "Pr is_noble_gas\n",
      "Pr is_transition_metal\n",
      "Pr is_post_transition_metal\n",
      "Pr is_rare_earth_metal\n",
      "Pr is_metalloid\n",
      "Pr is_alkali\n",
      "Pr is_alkaline\n",
      "Pr is_halogen\n",
      "Pr is_lanthanoid\n",
      "Pr is_actinoid\n",
      "Pr van_der_waals_radius\n",
      "Pr velocity_of_sound\n",
      "Pr critical_temperature\n",
      "Pr superconduction_temperature\n",
      "Pr average_cationic_radius\n",
      "Pr average_anionic_radius\n",
      "Pr ionic_radii\n",
      "Pr boiling_point\n",
      "Pr symbol\n",
      "Pr vickers_hardness\n",
      "Pr average_ionic_radius\n"
     ]
    },
    {
     "name": "stdout",
     "output_type": "stream",
     "text": [
      "Pr melting_point\n",
      "Pr rigidity_modulus\n",
      "Pr Z\n",
      "Pr number\n",
      "Pr density_of_solid\n",
      "Pr coefficient_of_linear_thermal_expansion\n",
      "Nd atomic_mass\n",
      "Nd poissons_ratio\n",
      "Nd atomic_radius\n",
      "Nd electrical_resistivity\n",
      "Nd molar_volume\n",
      "Nd thermal_conductivity\n",
      "Nd bulk_modulus\n",
      "Nd youngs_modulus\n",
      "Nd group\n",
      "Nd is_noble_gas\n",
      "Nd is_transition_metal\n",
      "Nd is_post_transition_metal\n",
      "Nd is_rare_earth_metal\n",
      "Nd is_metalloid\n",
      "Nd is_alkali\n",
      "Nd is_alkaline\n",
      "Nd is_halogen\n",
      "Nd is_lanthanoid\n",
      "Nd is_actinoid\n",
      "Nd van_der_waals_radius\n",
      "Nd velocity_of_sound\n",
      "Nd critical_temperature\n",
      "Nd superconduction_temperature\n",
      "Nd average_cationic_radius\n",
      "Nd average_anionic_radius\n",
      "Nd ionic_radii\n",
      "Nd boiling_point\n",
      "Nd symbol\n",
      "Nd vickers_hardness\n",
      "Nd average_ionic_radius\n",
      "Nd melting_point\n",
      "Nd rigidity_modulus\n",
      "Nd Z\n",
      "Nd number\n",
      "Nd density_of_solid\n",
      "Nd coefficient_of_linear_thermal_expansion\n",
      "Pm atomic_mass\n",
      "Pm poissons_ratio\n",
      "Pm atomic_radius\n",
      "Pm electrical_resistivity\n",
      "Pm molar_volume\n",
      "Pm thermal_conductivity\n",
      "Pm bulk_modulus\n",
      "Pm youngs_modulus\n",
      "Pm group\n",
      "Pm is_noble_gas\n",
      "Pm is_transition_metal\n",
      "Pm is_post_transition_metal\n",
      "Pm is_rare_earth_metal\n",
      "Pm is_metalloid\n",
      "Pm is_alkali\n",
      "Pm is_alkaline\n",
      "Pm is_halogen\n",
      "Pm is_lanthanoid\n",
      "Pm is_actinoid\n",
      "Pm van_der_waals_radius\n",
      "Pm velocity_of_sound\n",
      "Pm critical_temperature\n",
      "Pm superconduction_temperature\n",
      "Pm average_cationic_radius\n",
      "Pm average_anionic_radius\n",
      "Pm ionic_radii\n",
      "Pm boiling_point\n",
      "Pm symbol\n",
      "Pm vickers_hardness\n",
      "Pm average_ionic_radius\n",
      "Pm melting_point\n",
      "Pm rigidity_modulus\n",
      "Pm Z\n",
      "Pm number\n",
      "Pm density_of_solid\n",
      "Pm coefficient_of_linear_thermal_expansion\n",
      "Sm atomic_mass\n",
      "Sm poissons_ratio\n",
      "Sm atomic_radius\n",
      "Sm electrical_resistivity\n",
      "Sm molar_volume\n",
      "Sm thermal_conductivity\n",
      "Sm bulk_modulus\n",
      "Sm youngs_modulus\n",
      "Sm group\n",
      "Sm is_noble_gas\n",
      "Sm is_transition_metal\n",
      "Sm is_post_transition_metal\n",
      "Sm is_rare_earth_metal\n",
      "Sm is_metalloid\n",
      "Sm is_alkali\n",
      "Sm is_alkaline\n",
      "Sm is_halogen\n",
      "Sm is_lanthanoid\n",
      "Sm is_actinoid\n",
      "Sm van_der_waals_radius\n",
      "Sm velocity_of_sound\n",
      "Sm critical_temperature\n",
      "Sm superconduction_temperature\n",
      "Sm average_cationic_radius\n",
      "Sm average_anionic_radius\n",
      "Sm ionic_radii\n",
      "Sm boiling_point\n",
      "Sm symbol\n",
      "Sm vickers_hardness\n",
      "Sm average_ionic_radius\n",
      "Sm melting_point\n",
      "Sm rigidity_modulus\n",
      "Sm Z\n",
      "Sm number\n",
      "Sm density_of_solid\n",
      "Sm coefficient_of_linear_thermal_expansion\n",
      "Eu atomic_mass\n",
      "Eu poissons_ratio\n",
      "Eu atomic_radius\n",
      "Eu electrical_resistivity\n",
      "Eu molar_volume\n",
      "Eu thermal_conductivity\n",
      "Eu bulk_modulus\n",
      "Eu youngs_modulus\n",
      "Eu group\n",
      "Eu is_noble_gas\n",
      "Eu is_transition_metal\n",
      "Eu is_post_transition_metal\n",
      "Eu is_rare_earth_metal\n",
      "Eu is_metalloid\n",
      "Eu is_alkali\n",
      "Eu is_alkaline\n",
      "Eu is_halogen\n",
      "Eu is_lanthanoid\n",
      "Eu is_actinoid\n",
      "Eu van_der_waals_radius\n",
      "Eu velocity_of_sound\n",
      "Eu critical_temperature\n",
      "Eu superconduction_temperature\n",
      "Eu average_cationic_radius\n",
      "Eu average_anionic_radius\n",
      "Eu ionic_radii\n",
      "Eu boiling_point\n",
      "Eu symbol\n",
      "Eu vickers_hardness\n",
      "Eu average_ionic_radius\n",
      "Eu melting_point\n",
      "Eu rigidity_modulus\n",
      "Eu Z\n",
      "Eu number\n",
      "Eu density_of_solid\n",
      "Eu coefficient_of_linear_thermal_expansion\n",
      "Gd atomic_mass\n",
      "Gd poissons_ratio\n",
      "Gd atomic_radius\n",
      "Gd electrical_resistivity\n",
      "Gd molar_volume\n",
      "Gd thermal_conductivity\n",
      "Gd bulk_modulus\n",
      "Gd youngs_modulus\n",
      "Gd group\n",
      "Gd is_noble_gas\n",
      "Gd is_transition_metal\n",
      "Gd is_post_transition_metal\n",
      "Gd is_rare_earth_metal\n",
      "Gd is_metalloid\n",
      "Gd is_alkali\n",
      "Gd is_alkaline\n",
      "Gd is_halogen\n",
      "Gd is_lanthanoid\n",
      "Gd is_actinoid\n",
      "Gd van_der_waals_radius\n",
      "Gd velocity_of_sound\n",
      "Gd critical_temperature\n",
      "Gd superconduction_temperature\n",
      "Gd average_cationic_radius\n",
      "Gd average_anionic_radius\n",
      "Gd ionic_radii\n",
      "Gd boiling_point\n",
      "Gd symbol\n",
      "Gd vickers_hardness\n",
      "Gd average_ionic_radius\n",
      "Gd melting_point\n",
      "Gd rigidity_modulus\n",
      "Gd Z\n",
      "Gd number\n",
      "Gd density_of_solid\n",
      "Gd coefficient_of_linear_thermal_expansion\n",
      "Tb atomic_mass\n",
      "Tb poissons_ratio\n",
      "Tb atomic_radius\n",
      "Tb electrical_resistivity\n",
      "Tb molar_volume\n",
      "Tb thermal_conductivity\n",
      "Tb bulk_modulus\n",
      "Tb youngs_modulus\n",
      "Tb group\n",
      "Tb is_noble_gas\n",
      "Tb is_transition_metal\n",
      "Tb is_post_transition_metal\n",
      "Tb is_rare_earth_metal\n",
      "Tb is_metalloid\n",
      "Tb is_alkali\n",
      "Tb is_alkaline\n",
      "Tb is_halogen\n",
      "Tb is_lanthanoid\n",
      "Tb is_actinoid\n",
      "Tb van_der_waals_radius\n",
      "Tb velocity_of_sound\n",
      "Tb critical_temperature\n",
      "Tb superconduction_temperature\n",
      "Tb average_cationic_radius\n",
      "Tb average_anionic_radius\n",
      "Tb ionic_radii\n",
      "Tb boiling_point\n",
      "Tb symbol\n",
      "Tb vickers_hardness\n",
      "Tb average_ionic_radius\n",
      "Tb melting_point\n",
      "Tb rigidity_modulus\n",
      "Tb Z\n",
      "Tb number\n",
      "Tb density_of_solid\n",
      "Tb coefficient_of_linear_thermal_expansion\n",
      "Dy atomic_mass\n",
      "Dy poissons_ratio\n",
      "Dy atomic_radius\n",
      "Dy electrical_resistivity\n",
      "Dy molar_volume\n",
      "Dy thermal_conductivity\n",
      "Dy bulk_modulus\n",
      "Dy youngs_modulus\n",
      "Dy group\n",
      "Dy is_noble_gas\n",
      "Dy is_transition_metal\n",
      "Dy is_post_transition_metal\n",
      "Dy is_rare_earth_metal\n",
      "Dy is_metalloid\n",
      "Dy is_alkali\n",
      "Dy is_alkaline\n",
      "Dy is_halogen\n",
      "Dy is_lanthanoid\n",
      "Dy is_actinoid\n",
      "Dy van_der_waals_radius\n",
      "Dy velocity_of_sound\n",
      "Dy critical_temperature\n",
      "Dy superconduction_temperature\n",
      "Dy average_cationic_radius\n",
      "Dy average_anionic_radius\n",
      "Dy ionic_radii\n",
      "Dy boiling_point\n",
      "Dy symbol\n",
      "Dy vickers_hardness\n",
      "Dy average_ionic_radius\n",
      "Dy melting_point\n",
      "Dy rigidity_modulus\n",
      "Dy Z\n",
      "Dy number\n",
      "Dy density_of_solid\n",
      "Dy coefficient_of_linear_thermal_expansion\n",
      "Ho atomic_mass\n",
      "Ho poissons_ratio\n",
      "Ho atomic_radius\n",
      "Ho electrical_resistivity\n",
      "Ho molar_volume\n",
      "Ho thermal_conductivity\n",
      "Ho bulk_modulus\n",
      "Ho youngs_modulus\n",
      "Ho group\n",
      "Ho is_noble_gas\n",
      "Ho is_transition_metal\n",
      "Ho is_post_transition_metal\n",
      "Ho is_rare_earth_metal\n",
      "Ho is_metalloid\n",
      "Ho is_alkali\n",
      "Ho is_alkaline\n",
      "Ho is_halogen\n",
      "Ho is_lanthanoid\n",
      "Ho is_actinoid\n",
      "Ho van_der_waals_radius\n",
      "Ho velocity_of_sound\n",
      "Ho critical_temperature\n",
      "Ho superconduction_temperature\n",
      "Ho average_cationic_radius\n",
      "Ho average_anionic_radius\n",
      "Ho ionic_radii\n",
      "Ho boiling_point\n",
      "Ho symbol\n",
      "Ho vickers_hardness\n",
      "Ho average_ionic_radius\n",
      "Ho melting_point\n",
      "Ho rigidity_modulus\n",
      "Ho Z\n",
      "Ho number\n",
      "Ho density_of_solid\n",
      "Ho coefficient_of_linear_thermal_expansion\n",
      "Er atomic_mass\n",
      "Er poissons_ratio\n",
      "Er atomic_radius\n",
      "Er electrical_resistivity\n",
      "Er molar_volume\n",
      "Er thermal_conductivity\n",
      "Er bulk_modulus\n",
      "Er youngs_modulus\n",
      "Er group\n",
      "Er is_noble_gas\n",
      "Er is_transition_metal\n",
      "Er is_post_transition_metal\n",
      "Er is_rare_earth_metal\n",
      "Er is_metalloid\n",
      "Er is_alkali\n",
      "Er is_alkaline\n",
      "Er is_halogen\n",
      "Er is_lanthanoid\n",
      "Er is_actinoid\n",
      "Er van_der_waals_radius\n",
      "Er velocity_of_sound\n",
      "Er critical_temperature\n",
      "Er superconduction_temperature\n",
      "Er average_cationic_radius\n",
      "Er average_anionic_radius\n",
      "Er ionic_radii\n",
      "Er boiling_point\n",
      "Er symbol\n",
      "Er vickers_hardness\n",
      "Er average_ionic_radius\n",
      "Er melting_point\n",
      "Er rigidity_modulus\n",
      "Er Z\n",
      "Er number\n",
      "Er density_of_solid\n",
      "Er coefficient_of_linear_thermal_expansion\n",
      "Tm atomic_mass\n",
      "Tm poissons_ratio\n",
      "Tm atomic_radius\n",
      "Tm electrical_resistivity\n",
      "Tm molar_volume\n",
      "Tm thermal_conductivity\n",
      "Tm bulk_modulus\n",
      "Tm youngs_modulus\n",
      "Tm group\n",
      "Tm is_noble_gas\n",
      "Tm is_transition_metal\n",
      "Tm is_post_transition_metal\n",
      "Tm is_rare_earth_metal\n",
      "Tm is_metalloid\n",
      "Tm is_alkali\n",
      "Tm is_alkaline\n",
      "Tm is_halogen\n",
      "Tm is_lanthanoid\n",
      "Tm is_actinoid\n",
      "Tm van_der_waals_radius\n",
      "Tm velocity_of_sound\n",
      "Tm critical_temperature\n",
      "Tm superconduction_temperature\n",
      "Tm average_cationic_radius\n",
      "Tm average_anionic_radius\n",
      "Tm ionic_radii\n",
      "Tm boiling_point\n",
      "Tm symbol\n",
      "Tm vickers_hardness\n",
      "Tm average_ionic_radius\n",
      "Tm melting_point\n",
      "Tm rigidity_modulus\n",
      "Tm Z\n",
      "Tm number\n",
      "Tm density_of_solid\n",
      "Tm coefficient_of_linear_thermal_expansion\n",
      "Yb atomic_mass\n",
      "Yb poissons_ratio\n",
      "Yb atomic_radius\n",
      "Yb electrical_resistivity\n",
      "Yb molar_volume\n",
      "Yb thermal_conductivity\n",
      "Yb bulk_modulus\n",
      "Yb youngs_modulus\n",
      "Yb group\n",
      "Yb is_noble_gas\n",
      "Yb is_transition_metal\n",
      "Yb is_post_transition_metal\n",
      "Yb is_rare_earth_metal\n",
      "Yb is_metalloid\n",
      "Yb is_alkali\n",
      "Yb is_alkaline\n",
      "Yb is_halogen\n",
      "Yb is_lanthanoid\n",
      "Yb is_actinoid\n",
      "Yb van_der_waals_radius\n",
      "Yb velocity_of_sound\n",
      "Yb critical_temperature\n",
      "Yb superconduction_temperature\n",
      "Yb average_cationic_radius\n",
      "Yb average_anionic_radius\n",
      "Yb ionic_radii\n",
      "Yb boiling_point\n",
      "Yb symbol\n",
      "Yb vickers_hardness\n",
      "Yb average_ionic_radius\n",
      "Yb melting_point\n",
      "Yb rigidity_modulus\n",
      "Yb Z\n",
      "Yb number\n",
      "Yb density_of_solid\n",
      "Yb coefficient_of_linear_thermal_expansion\n",
      "Lu atomic_mass\n",
      "Lu poissons_ratio\n",
      "Lu atomic_radius\n",
      "Lu electrical_resistivity\n",
      "Lu molar_volume\n",
      "Lu thermal_conductivity\n",
      "Lu bulk_modulus\n",
      "Lu youngs_modulus\n",
      "Lu group\n",
      "Lu is_noble_gas\n",
      "Lu is_transition_metal\n",
      "Lu is_post_transition_metal\n",
      "Lu is_rare_earth_metal\n",
      "Lu is_metalloid\n",
      "Lu is_alkali\n",
      "Lu is_alkaline\n",
      "Lu is_halogen\n",
      "Lu is_lanthanoid\n",
      "Lu is_actinoid\n",
      "Lu van_der_waals_radius\n",
      "Lu velocity_of_sound\n",
      "Lu critical_temperature\n",
      "Lu superconduction_temperature\n",
      "Lu average_cationic_radius\n",
      "Lu average_anionic_radius\n",
      "Lu ionic_radii\n",
      "Lu boiling_point\n",
      "Lu symbol\n",
      "Lu vickers_hardness\n",
      "Lu average_ionic_radius\n",
      "Lu melting_point\n",
      "Lu rigidity_modulus\n",
      "Lu Z\n",
      "Lu number\n",
      "Lu density_of_solid\n",
      "Lu coefficient_of_linear_thermal_expansion\n",
      "Ac atomic_mass\n",
      "Ac poissons_ratio\n",
      "Ac atomic_radius\n",
      "Ac electrical_resistivity\n",
      "Ac molar_volume\n",
      "Ac thermal_conductivity\n",
      "Ac bulk_modulus\n",
      "Ac youngs_modulus\n",
      "Ac group\n",
      "Ac is_noble_gas\n",
      "Ac is_transition_metal\n",
      "Ac is_post_transition_metal\n",
      "Ac is_rare_earth_metal\n",
      "Ac is_metalloid\n",
      "Ac is_alkali\n",
      "Ac is_alkaline\n",
      "Ac is_halogen\n",
      "Ac is_lanthanoid\n",
      "Ac is_actinoid\n",
      "Ac van_der_waals_radius\n",
      "Ac velocity_of_sound\n",
      "Ac critical_temperature\n",
      "Ac superconduction_temperature\n",
      "Ac average_cationic_radius\n",
      "Ac average_anionic_radius\n",
      "Ac ionic_radii\n",
      "Ac boiling_point\n",
      "Ac symbol\n",
      "Ac vickers_hardness\n",
      "Ac average_ionic_radius\n",
      "Ac melting_point\n",
      "Ac rigidity_modulus\n",
      "Ac Z\n",
      "Ac number\n",
      "Ac density_of_solid\n",
      "Ac coefficient_of_linear_thermal_expansion\n",
      "Th atomic_mass\n",
      "Th poissons_ratio\n",
      "Th atomic_radius\n",
      "Th electrical_resistivity\n",
      "Th molar_volume\n",
      "Th thermal_conductivity\n",
      "Th bulk_modulus\n",
      "Th youngs_modulus\n",
      "Th group\n",
      "Th is_noble_gas\n",
      "Th is_transition_metal\n",
      "Th is_post_transition_metal\n",
      "Th is_rare_earth_metal\n",
      "Th is_metalloid\n",
      "Th is_alkali\n",
      "Th is_alkaline\n",
      "Th is_halogen\n",
      "Th is_lanthanoid\n",
      "Th is_actinoid\n",
      "Th van_der_waals_radius\n",
      "Th velocity_of_sound\n",
      "Th critical_temperature\n",
      "Th superconduction_temperature\n",
      "Th average_cationic_radius\n",
      "Th average_anionic_radius\n",
      "Th ionic_radii\n",
      "Th boiling_point\n",
      "Th symbol\n",
      "Th vickers_hardness\n",
      "Th average_ionic_radius\n",
      "Th melting_point\n",
      "Th rigidity_modulus\n",
      "Th Z\n",
      "Th number\n",
      "Th density_of_solid\n",
      "Th coefficient_of_linear_thermal_expansion\n",
      "Pa atomic_mass\n",
      "Pa poissons_ratio\n",
      "Pa atomic_radius\n",
      "Pa electrical_resistivity\n",
      "Pa molar_volume\n",
      "Pa thermal_conductivity\n",
      "Pa bulk_modulus\n",
      "Pa youngs_modulus\n",
      "Pa group\n",
      "Pa is_noble_gas\n",
      "Pa is_transition_metal\n",
      "Pa is_post_transition_metal\n",
      "Pa is_rare_earth_metal\n",
      "Pa is_metalloid\n",
      "Pa is_alkali\n",
      "Pa is_alkaline\n",
      "Pa is_halogen\n",
      "Pa is_lanthanoid\n",
      "Pa is_actinoid\n",
      "Pa van_der_waals_radius\n",
      "Pa velocity_of_sound\n",
      "Pa critical_temperature\n",
      "Pa superconduction_temperature\n",
      "Pa average_cationic_radius\n",
      "Pa average_anionic_radius\n",
      "Pa ionic_radii\n",
      "Pa boiling_point\n",
      "Pa symbol\n",
      "Pa vickers_hardness\n",
      "Pa average_ionic_radius\n",
      "Pa melting_point\n",
      "Pa rigidity_modulus\n",
      "Pa Z\n",
      "Pa number\n",
      "Pa density_of_solid\n",
      "Pa coefficient_of_linear_thermal_expansion\n",
      "U atomic_mass\n",
      "U poissons_ratio\n",
      "U atomic_radius\n",
      "U electrical_resistivity\n",
      "U molar_volume\n",
      "U thermal_conductivity\n",
      "U bulk_modulus\n",
      "U youngs_modulus\n",
      "U group\n",
      "U is_noble_gas\n",
      "U is_transition_metal\n",
      "U is_post_transition_metal\n",
      "U is_rare_earth_metal\n",
      "U is_metalloid\n",
      "U is_alkali\n",
      "U is_alkaline\n",
      "U is_halogen\n",
      "U is_lanthanoid\n",
      "U is_actinoid\n",
      "U van_der_waals_radius\n",
      "U velocity_of_sound\n",
      "U critical_temperature\n",
      "U superconduction_temperature\n",
      "U average_cationic_radius\n",
      "U average_anionic_radius\n",
      "U ionic_radii\n",
      "U boiling_point\n",
      "U symbol\n",
      "U vickers_hardness\n",
      "U average_ionic_radius\n",
      "U melting_point\n",
      "U rigidity_modulus\n",
      "U Z\n",
      "U number\n",
      "U density_of_solid\n",
      "U coefficient_of_linear_thermal_expansion\n",
      "Np atomic_mass\n",
      "Np poissons_ratio\n",
      "Np atomic_radius\n",
      "Np electrical_resistivity\n",
      "Np molar_volume\n",
      "Np thermal_conductivity\n",
      "Np bulk_modulus\n",
      "Np youngs_modulus\n",
      "Np group\n",
      "Np is_noble_gas\n",
      "Np is_transition_metal\n",
      "Np is_post_transition_metal\n",
      "Np is_rare_earth_metal\n",
      "Np is_metalloid\n",
      "Np is_alkali\n",
      "Np is_alkaline\n",
      "Np is_halogen\n",
      "Np is_lanthanoid\n",
      "Np is_actinoid\n",
      "Np van_der_waals_radius\n",
      "Np velocity_of_sound\n",
      "Np critical_temperature\n",
      "Np superconduction_temperature\n",
      "Np average_cationic_radius\n",
      "Np average_anionic_radius\n",
      "Np ionic_radii\n",
      "Np boiling_point\n",
      "Np symbol\n",
      "Np vickers_hardness\n",
      "Np average_ionic_radius\n",
      "Np melting_point\n",
      "Np rigidity_modulus\n",
      "Np Z\n",
      "Np number\n",
      "Np density_of_solid\n",
      "Np coefficient_of_linear_thermal_expansion\n",
      "Pu atomic_mass\n",
      "Pu poissons_ratio\n",
      "Pu atomic_radius\n",
      "Pu electrical_resistivity\n",
      "Pu molar_volume\n",
      "Pu thermal_conductivity\n",
      "Pu bulk_modulus\n",
      "Pu youngs_modulus\n",
      "Pu group\n",
      "Pu is_noble_gas\n",
      "Pu is_transition_metal\n",
      "Pu is_post_transition_metal\n",
      "Pu is_rare_earth_metal\n",
      "Pu is_metalloid\n",
      "Pu is_alkali\n",
      "Pu is_alkaline\n",
      "Pu is_halogen\n",
      "Pu is_lanthanoid\n",
      "Pu is_actinoid\n",
      "Pu van_der_waals_radius\n",
      "Pu velocity_of_sound\n",
      "Pu critical_temperature\n",
      "Pu superconduction_temperature\n",
      "Pu average_cationic_radius\n",
      "Pu average_anionic_radius\n",
      "Pu ionic_radii\n",
      "Pu boiling_point\n",
      "Pu symbol\n",
      "Pu vickers_hardness\n",
      "Pu average_ionic_radius\n",
      "Pu melting_point\n",
      "Pu rigidity_modulus\n",
      "Pu Z\n",
      "Pu number\n",
      "Pu density_of_solid\n",
      "Pu coefficient_of_linear_thermal_expansion\n",
      "Am atomic_mass\n",
      "Am poissons_ratio\n",
      "Am atomic_radius\n",
      "Am electrical_resistivity\n",
      "Am molar_volume\n",
      "Am thermal_conductivity\n",
      "Am bulk_modulus\n",
      "Am youngs_modulus\n",
      "Am group\n",
      "Am is_noble_gas\n",
      "Am is_transition_metal\n",
      "Am is_post_transition_metal\n",
      "Am is_rare_earth_metal\n",
      "Am is_metalloid\n",
      "Am is_alkali\n",
      "Am is_alkaline\n",
      "Am is_halogen\n",
      "Am is_lanthanoid\n",
      "Am is_actinoid\n",
      "Am van_der_waals_radius\n",
      "Am velocity_of_sound\n",
      "Am critical_temperature\n",
      "Am superconduction_temperature\n",
      "Am average_cationic_radius\n",
      "Am average_anionic_radius\n",
      "Am ionic_radii\n",
      "Am boiling_point\n",
      "Am symbol\n",
      "Am vickers_hardness\n",
      "Am average_ionic_radius\n",
      "Am melting_point\n",
      "Am rigidity_modulus\n",
      "Am Z\n",
      "Am number\n",
      "Am density_of_solid\n",
      "Am coefficient_of_linear_thermal_expansion\n",
      "Cm atomic_mass\n",
      "Cm poissons_ratio\n",
      "Cm atomic_radius\n",
      "Cm electrical_resistivity\n",
      "Cm molar_volume\n",
      "Cm thermal_conductivity\n",
      "Cm bulk_modulus\n",
      "Cm youngs_modulus\n",
      "Cm group\n",
      "Cm is_noble_gas\n",
      "Cm is_transition_metal\n",
      "Cm is_post_transition_metal\n",
      "Cm is_rare_earth_metal\n",
      "Cm is_metalloid\n",
      "Cm is_alkali\n",
      "Cm is_alkaline\n",
      "Cm is_halogen\n",
      "Cm is_lanthanoid\n",
      "Cm is_actinoid\n",
      "Cm van_der_waals_radius\n",
      "Cm velocity_of_sound\n",
      "Cm critical_temperature\n",
      "Cm superconduction_temperature\n",
      "Cm average_cationic_radius\n",
      "Cm average_anionic_radius\n",
      "Cm ionic_radii\n",
      "Cm boiling_point\n",
      "Cm symbol\n",
      "Cm vickers_hardness\n",
      "Cm average_ionic_radius\n",
      "Cm melting_point\n",
      "Cm rigidity_modulus\n",
      "Cm Z\n",
      "Cm number\n",
      "Cm density_of_solid\n",
      "Cm coefficient_of_linear_thermal_expansion\n",
      "Bk atomic_mass\n",
      "Bk poissons_ratio\n",
      "Bk atomic_radius\n",
      "Bk electrical_resistivity\n",
      "Bk molar_volume\n",
      "Bk thermal_conductivity\n",
      "Bk bulk_modulus\n",
      "Bk youngs_modulus\n",
      "Bk group\n",
      "Bk is_noble_gas\n",
      "Bk is_transition_metal\n",
      "Bk is_post_transition_metal\n",
      "Bk is_rare_earth_metal\n",
      "Bk is_metalloid\n",
      "Bk is_alkali\n",
      "Bk is_alkaline\n",
      "Bk is_halogen\n",
      "Bk is_lanthanoid\n",
      "Bk is_actinoid\n",
      "Bk van_der_waals_radius\n",
      "Bk velocity_of_sound\n",
      "Bk critical_temperature\n",
      "Bk superconduction_temperature\n",
      "Bk average_cationic_radius\n",
      "Bk average_anionic_radius\n",
      "Bk ionic_radii\n",
      "Bk boiling_point\n",
      "Bk symbol\n",
      "Bk vickers_hardness\n",
      "Bk average_ionic_radius\n",
      "Bk melting_point\n",
      "Bk rigidity_modulus\n",
      "Bk Z\n",
      "Bk number\n",
      "Bk density_of_solid\n",
      "Bk coefficient_of_linear_thermal_expansion\n",
      "Cf atomic_mass\n",
      "Cf poissons_ratio\n",
      "Cf atomic_radius\n",
      "Cf electrical_resistivity\n",
      "Cf molar_volume\n",
      "Cf thermal_conductivity\n",
      "Cf bulk_modulus\n",
      "Cf youngs_modulus\n",
      "Cf group\n",
      "Cf is_noble_gas\n",
      "Cf is_transition_metal\n",
      "Cf is_post_transition_metal\n",
      "Cf is_rare_earth_metal\n",
      "Cf is_metalloid\n",
      "Cf is_alkali\n",
      "Cf is_alkaline\n",
      "Cf is_halogen\n",
      "Cf is_lanthanoid\n",
      "Cf is_actinoid\n",
      "Cf van_der_waals_radius\n",
      "Cf velocity_of_sound\n",
      "Cf critical_temperature\n",
      "Cf superconduction_temperature\n",
      "Cf average_cationic_radius\n",
      "Cf average_anionic_radius\n",
      "Cf ionic_radii\n",
      "Cf boiling_point\n",
      "Cf symbol\n",
      "Cf vickers_hardness\n",
      "Cf average_ionic_radius\n",
      "Cf melting_point\n",
      "Cf rigidity_modulus\n",
      "Cf Z\n",
      "Cf number\n",
      "Cf density_of_solid\n",
      "Cf coefficient_of_linear_thermal_expansion\n",
      "Es atomic_mass\n",
      "Es poissons_ratio\n",
      "Es atomic_radius\n",
      "Es electrical_resistivity\n",
      "Es molar_volume\n",
      "Es thermal_conductivity\n",
      "Es bulk_modulus\n",
      "Es youngs_modulus\n",
      "Es group\n",
      "Es is_noble_gas\n",
      "Es is_transition_metal\n",
      "Es is_post_transition_metal\n",
      "Es is_rare_earth_metal\n",
      "Es is_metalloid\n",
      "Es is_alkali\n",
      "Es is_alkaline\n",
      "Es is_halogen\n",
      "Es is_lanthanoid\n",
      "Es is_actinoid\n",
      "Es van_der_waals_radius\n",
      "Es velocity_of_sound\n",
      "Es critical_temperature\n",
      "Es superconduction_temperature\n",
      "Es average_cationic_radius\n",
      "Es average_anionic_radius\n",
      "Es ionic_radii\n",
      "Es boiling_point\n",
      "Es symbol\n",
      "Es vickers_hardness\n",
      "Es average_ionic_radius\n",
      "Es melting_point\n",
      "Es rigidity_modulus\n",
      "Es Z\n",
      "Es number\n",
      "Es density_of_solid\n",
      "Es coefficient_of_linear_thermal_expansion\n",
      "Fm atomic_mass\n",
      "Fm poissons_ratio\n",
      "Fm atomic_radius\n",
      "Fm electrical_resistivity\n",
      "Fm molar_volume\n",
      "Fm thermal_conductivity\n",
      "Fm bulk_modulus\n",
      "Fm youngs_modulus\n",
      "Fm group\n",
      "Fm is_noble_gas\n",
      "Fm is_transition_metal\n",
      "Fm is_post_transition_metal\n",
      "Fm is_rare_earth_metal\n",
      "Fm is_metalloid\n",
      "Fm is_alkali\n",
      "Fm is_alkaline\n",
      "Fm is_halogen\n",
      "Fm is_lanthanoid\n",
      "Fm is_actinoid\n",
      "Fm van_der_waals_radius\n",
      "Fm velocity_of_sound\n",
      "Fm critical_temperature\n",
      "Fm superconduction_temperature\n",
      "Fm average_cationic_radius\n",
      "Fm average_anionic_radius\n",
      "Fm ionic_radii\n",
      "Fm boiling_point\n",
      "Fm symbol\n",
      "Fm vickers_hardness\n",
      "Fm average_ionic_radius\n",
      "Fm melting_point\n",
      "Fm rigidity_modulus\n",
      "Fm Z\n",
      "Fm number\n",
      "Fm density_of_solid\n",
      "Fm coefficient_of_linear_thermal_expansion\n",
      "Md atomic_mass\n",
      "Md poissons_ratio\n",
      "Md atomic_radius\n",
      "Md electrical_resistivity\n",
      "Md molar_volume\n",
      "Md thermal_conductivity\n",
      "Md bulk_modulus\n",
      "Md youngs_modulus\n",
      "Md group\n",
      "Md is_noble_gas\n",
      "Md is_transition_metal\n",
      "Md is_post_transition_metal\n",
      "Md is_rare_earth_metal\n",
      "Md is_metalloid\n",
      "Md is_alkali\n",
      "Md is_alkaline\n",
      "Md is_halogen\n",
      "Md is_lanthanoid\n",
      "Md is_actinoid\n",
      "Md van_der_waals_radius\n",
      "Md velocity_of_sound\n",
      "Md critical_temperature\n",
      "Md superconduction_temperature\n",
      "Md average_cationic_radius\n",
      "Md average_anionic_radius\n",
      "Md ionic_radii\n",
      "Md boiling_point\n",
      "Md symbol\n",
      "Md vickers_hardness\n",
      "Md average_ionic_radius\n",
      "Md melting_point\n",
      "Md rigidity_modulus\n",
      "Md Z\n",
      "Md number\n",
      "Md density_of_solid\n",
      "Md coefficient_of_linear_thermal_expansion\n",
      "No atomic_mass\n",
      "No poissons_ratio\n",
      "No atomic_radius\n",
      "No electrical_resistivity\n",
      "No molar_volume\n",
      "No thermal_conductivity\n",
      "No bulk_modulus\n",
      "No youngs_modulus\n",
      "No group\n",
      "No is_noble_gas\n",
      "No is_transition_metal\n",
      "No is_post_transition_metal\n",
      "No is_rare_earth_metal\n",
      "No is_metalloid\n",
      "No is_alkali\n",
      "No is_alkaline\n",
      "No is_halogen\n",
      "No is_lanthanoid\n",
      "No is_actinoid\n",
      "No van_der_waals_radius\n",
      "No velocity_of_sound\n",
      "No critical_temperature\n",
      "No superconduction_temperature\n",
      "No average_cationic_radius\n",
      "No average_anionic_radius\n",
      "No ionic_radii\n",
      "No boiling_point\n",
      "No symbol\n",
      "No vickers_hardness\n",
      "No average_ionic_radius\n",
      "No melting_point\n",
      "No rigidity_modulus\n",
      "No Z\n",
      "No number\n",
      "No density_of_solid\n",
      "No coefficient_of_linear_thermal_expansion\n"
     ]
    },
    {
     "data": {
      "text/html": [
       "<div>\n",
       "<style scoped>\n",
       "    .dataframe tbody tr th:only-of-type {\n",
       "        vertical-align: middle;\n",
       "    }\n",
       "\n",
       "    .dataframe tbody tr th {\n",
       "        vertical-align: top;\n",
       "    }\n",
       "\n",
       "    .dataframe thead th {\n",
       "        text-align: right;\n",
       "    }\n",
       "</style>\n",
       "<table border=\"1\" class=\"dataframe\">\n",
       "  <thead>\n",
       "    <tr style=\"text-align: right;\">\n",
       "      <th></th>\n",
       "      <th>atomic_mass</th>\n",
       "      <th>poissons_ratio</th>\n",
       "      <th>atomic_radius</th>\n",
       "      <th>electrical_resistivity</th>\n",
       "      <th>molar_volume</th>\n",
       "      <th>thermal_conductivity</th>\n",
       "      <th>bulk_modulus</th>\n",
       "      <th>youngs_modulus</th>\n",
       "      <th>group</th>\n",
       "      <th>is_noble_gas</th>\n",
       "      <th>...</th>\n",
       "      <th>boiling_point</th>\n",
       "      <th>symbol</th>\n",
       "      <th>vickers_hardness</th>\n",
       "      <th>average_ionic_radius</th>\n",
       "      <th>melting_point</th>\n",
       "      <th>rigidity_modulus</th>\n",
       "      <th>Z</th>\n",
       "      <th>number</th>\n",
       "      <th>density_of_solid</th>\n",
       "      <th>coefficient_of_linear_thermal_expansion</th>\n",
       "    </tr>\n",
       "  </thead>\n",
       "  <tbody>\n",
       "    <tr>\n",
       "      <th>0</th>\n",
       "      <td>1.007940</td>\n",
       "      <td>NaN</td>\n",
       "      <td>0.25</td>\n",
       "      <td>NaN</td>\n",
       "      <td>11.42</td>\n",
       "      <td>0.1805</td>\n",
       "      <td>NaN</td>\n",
       "      <td>NaN</td>\n",
       "      <td>1</td>\n",
       "      <td>False</td>\n",
       "      <td>...</td>\n",
       "      <td>20.28</td>\n",
       "      <td>H</td>\n",
       "      <td>NaN</td>\n",
       "      <td>0.0000</td>\n",
       "      <td>14.01</td>\n",
       "      <td>NaN</td>\n",
       "      <td>1</td>\n",
       "      <td>1</td>\n",
       "      <td>NaN</td>\n",
       "      <td>NaN</td>\n",
       "    </tr>\n",
       "    <tr>\n",
       "      <th>1</th>\n",
       "      <td>4.002602</td>\n",
       "      <td>NaN</td>\n",
       "      <td>NaN</td>\n",
       "      <td>NaN</td>\n",
       "      <td>21.00</td>\n",
       "      <td>0.1513</td>\n",
       "      <td>NaN</td>\n",
       "      <td>NaN</td>\n",
       "      <td>18</td>\n",
       "      <td>True</td>\n",
       "      <td>...</td>\n",
       "      <td>4.22</td>\n",
       "      <td>He</td>\n",
       "      <td>NaN</td>\n",
       "      <td>0.0000</td>\n",
       "      <td>0.95</td>\n",
       "      <td>NaN</td>\n",
       "      <td>2</td>\n",
       "      <td>2</td>\n",
       "      <td>NaN</td>\n",
       "      <td>NaN</td>\n",
       "    </tr>\n",
       "    <tr>\n",
       "      <th>2</th>\n",
       "      <td>6.941000</td>\n",
       "      <td>NaN</td>\n",
       "      <td>1.45</td>\n",
       "      <td>9.500000e-08</td>\n",
       "      <td>13.02</td>\n",
       "      <td>85.0000</td>\n",
       "      <td>11.0</td>\n",
       "      <td>4.9</td>\n",
       "      <td>1</td>\n",
       "      <td>False</td>\n",
       "      <td>...</td>\n",
       "      <td>1615.00</td>\n",
       "      <td>Li</td>\n",
       "      <td>NaN</td>\n",
       "      <td>0.9000</td>\n",
       "      <td>453.69</td>\n",
       "      <td>4.2</td>\n",
       "      <td>3</td>\n",
       "      <td>3</td>\n",
       "      <td>535.0</td>\n",
       "      <td>0.000046</td>\n",
       "    </tr>\n",
       "    <tr>\n",
       "      <th>3</th>\n",
       "      <td>9.012182</td>\n",
       "      <td>0.032</td>\n",
       "      <td>1.05</td>\n",
       "      <td>3.800000e-08</td>\n",
       "      <td>4.85</td>\n",
       "      <td>190.0000</td>\n",
       "      <td>130.0</td>\n",
       "      <td>287.0</td>\n",
       "      <td>2</td>\n",
       "      <td>False</td>\n",
       "      <td>...</td>\n",
       "      <td>2742.00</td>\n",
       "      <td>Be</td>\n",
       "      <td>1670.0</td>\n",
       "      <td>0.5900</td>\n",
       "      <td>1560</td>\n",
       "      <td>132.0</td>\n",
       "      <td>4</td>\n",
       "      <td>4</td>\n",
       "      <td>1848.0</td>\n",
       "      <td>0.000011</td>\n",
       "    </tr>\n",
       "    <tr>\n",
       "      <th>4</th>\n",
       "      <td>10.811000</td>\n",
       "      <td>NaN</td>\n",
       "      <td>0.85</td>\n",
       "      <td>1.000000e+12</td>\n",
       "      <td>4.39</td>\n",
       "      <td>27.0000</td>\n",
       "      <td>320.0</td>\n",
       "      <td>NaN</td>\n",
       "      <td>13</td>\n",
       "      <td>False</td>\n",
       "      <td>...</td>\n",
       "      <td>4200.00</td>\n",
       "      <td>B</td>\n",
       "      <td>49000.0</td>\n",
       "      <td>0.4100</td>\n",
       "      <td>2349</td>\n",
       "      <td>NaN</td>\n",
       "      <td>5</td>\n",
       "      <td>5</td>\n",
       "      <td>2460.0</td>\n",
       "      <td>0.000006</td>\n",
       "    </tr>\n",
       "    <tr>\n",
       "      <th>...</th>\n",
       "      <td>...</td>\n",
       "      <td>...</td>\n",
       "      <td>...</td>\n",
       "      <td>...</td>\n",
       "      <td>...</td>\n",
       "      <td>...</td>\n",
       "      <td>...</td>\n",
       "      <td>...</td>\n",
       "      <td>...</td>\n",
       "      <td>...</td>\n",
       "      <td>...</td>\n",
       "      <td>...</td>\n",
       "      <td>...</td>\n",
       "      <td>...</td>\n",
       "      <td>...</td>\n",
       "      <td>...</td>\n",
       "      <td>...</td>\n",
       "      <td>...</td>\n",
       "      <td>...</td>\n",
       "      <td>...</td>\n",
       "      <td>...</td>\n",
       "    </tr>\n",
       "    <tr>\n",
       "      <th>98</th>\n",
       "      <td>251.000000</td>\n",
       "      <td>NaN</td>\n",
       "      <td>NaN</td>\n",
       "      <td>NaN</td>\n",
       "      <td>16.50</td>\n",
       "      <td>NaN</td>\n",
       "      <td>NaN</td>\n",
       "      <td>NaN</td>\n",
       "      <td>12</td>\n",
       "      <td>False</td>\n",
       "      <td>...</td>\n",
       "      <td>NaN</td>\n",
       "      <td>Cf</td>\n",
       "      <td>NaN</td>\n",
       "      <td>1.0255</td>\n",
       "      <td>1173</td>\n",
       "      <td>NaN</td>\n",
       "      <td>98</td>\n",
       "      <td>98</td>\n",
       "      <td>15100.0</td>\n",
       "      <td>NaN</td>\n",
       "    </tr>\n",
       "    <tr>\n",
       "      <th>99</th>\n",
       "      <td>252.000000</td>\n",
       "      <td>NaN</td>\n",
       "      <td>NaN</td>\n",
       "      <td>NaN</td>\n",
       "      <td>28.52</td>\n",
       "      <td>NaN</td>\n",
       "      <td>NaN</td>\n",
       "      <td>NaN</td>\n",
       "      <td>13</td>\n",
       "      <td>False</td>\n",
       "      <td>...</td>\n",
       "      <td>NaN</td>\n",
       "      <td>Es</td>\n",
       "      <td>NaN</td>\n",
       "      <td>0.0000</td>\n",
       "      <td>1133</td>\n",
       "      <td>NaN</td>\n",
       "      <td>99</td>\n",
       "      <td>99</td>\n",
       "      <td>NaN</td>\n",
       "      <td>NaN</td>\n",
       "    </tr>\n",
       "    <tr>\n",
       "      <th>100</th>\n",
       "      <td>257.000000</td>\n",
       "      <td>NaN</td>\n",
       "      <td>NaN</td>\n",
       "      <td>NaN</td>\n",
       "      <td>NaN</td>\n",
       "      <td>NaN</td>\n",
       "      <td>NaN</td>\n",
       "      <td>NaN</td>\n",
       "      <td>14</td>\n",
       "      <td>False</td>\n",
       "      <td>...</td>\n",
       "      <td>NaN</td>\n",
       "      <td>Fm</td>\n",
       "      <td>NaN</td>\n",
       "      <td>0.0000</td>\n",
       "      <td>1800</td>\n",
       "      <td>NaN</td>\n",
       "      <td>100</td>\n",
       "      <td>100</td>\n",
       "      <td>NaN</td>\n",
       "      <td>NaN</td>\n",
       "    </tr>\n",
       "    <tr>\n",
       "      <th>101</th>\n",
       "      <td>258.000000</td>\n",
       "      <td>NaN</td>\n",
       "      <td>NaN</td>\n",
       "      <td>NaN</td>\n",
       "      <td>NaN</td>\n",
       "      <td>NaN</td>\n",
       "      <td>NaN</td>\n",
       "      <td>NaN</td>\n",
       "      <td>15</td>\n",
       "      <td>False</td>\n",
       "      <td>...</td>\n",
       "      <td>NaN</td>\n",
       "      <td>Md</td>\n",
       "      <td>NaN</td>\n",
       "      <td>0.0000</td>\n",
       "      <td>1100</td>\n",
       "      <td>NaN</td>\n",
       "      <td>101</td>\n",
       "      <td>101</td>\n",
       "      <td>NaN</td>\n",
       "      <td>NaN</td>\n",
       "    </tr>\n",
       "    <tr>\n",
       "      <th>102</th>\n",
       "      <td>259.000000</td>\n",
       "      <td>NaN</td>\n",
       "      <td>NaN</td>\n",
       "      <td>NaN</td>\n",
       "      <td>NaN</td>\n",
       "      <td>NaN</td>\n",
       "      <td>NaN</td>\n",
       "      <td>NaN</td>\n",
       "      <td>16</td>\n",
       "      <td>False</td>\n",
       "      <td>...</td>\n",
       "      <td>NaN</td>\n",
       "      <td>No</td>\n",
       "      <td>NaN</td>\n",
       "      <td>0.0000</td>\n",
       "      <td>1100</td>\n",
       "      <td>NaN</td>\n",
       "      <td>102</td>\n",
       "      <td>102</td>\n",
       "      <td>NaN</td>\n",
       "      <td>NaN</td>\n",
       "    </tr>\n",
       "  </tbody>\n",
       "</table>\n",
       "<p>103 rows × 36 columns</p>\n",
       "</div>"
      ],
      "text/plain": [
       "     atomic_mass  poissons_ratio  atomic_radius  electrical_resistivity  \\\n",
       "0       1.007940             NaN           0.25                     NaN   \n",
       "1       4.002602             NaN            NaN                     NaN   \n",
       "2       6.941000             NaN           1.45            9.500000e-08   \n",
       "3       9.012182           0.032           1.05            3.800000e-08   \n",
       "4      10.811000             NaN           0.85            1.000000e+12   \n",
       "..           ...             ...            ...                     ...   \n",
       "98    251.000000             NaN            NaN                     NaN   \n",
       "99    252.000000             NaN            NaN                     NaN   \n",
       "100   257.000000             NaN            NaN                     NaN   \n",
       "101   258.000000             NaN            NaN                     NaN   \n",
       "102   259.000000             NaN            NaN                     NaN   \n",
       "\n",
       "     molar_volume  thermal_conductivity  bulk_modulus  youngs_modulus  group  \\\n",
       "0           11.42                0.1805           NaN             NaN      1   \n",
       "1           21.00                0.1513           NaN             NaN     18   \n",
       "2           13.02               85.0000          11.0             4.9      1   \n",
       "3            4.85              190.0000         130.0           287.0      2   \n",
       "4            4.39               27.0000         320.0             NaN     13   \n",
       "..            ...                   ...           ...             ...    ...   \n",
       "98          16.50                   NaN           NaN             NaN     12   \n",
       "99          28.52                   NaN           NaN             NaN     13   \n",
       "100           NaN                   NaN           NaN             NaN     14   \n",
       "101           NaN                   NaN           NaN             NaN     15   \n",
       "102           NaN                   NaN           NaN             NaN     16   \n",
       "\n",
       "     is_noble_gas  ...  boiling_point  symbol  vickers_hardness  \\\n",
       "0           False  ...          20.28       H               NaN   \n",
       "1            True  ...           4.22      He               NaN   \n",
       "2           False  ...        1615.00      Li               NaN   \n",
       "3           False  ...        2742.00      Be            1670.0   \n",
       "4           False  ...        4200.00       B           49000.0   \n",
       "..            ...  ...            ...     ...               ...   \n",
       "98          False  ...            NaN      Cf               NaN   \n",
       "99          False  ...            NaN      Es               NaN   \n",
       "100         False  ...            NaN      Fm               NaN   \n",
       "101         False  ...            NaN      Md               NaN   \n",
       "102         False  ...            NaN      No               NaN   \n",
       "\n",
       "     average_ionic_radius  melting_point  rigidity_modulus    Z  number  \\\n",
       "0                  0.0000          14.01               NaN    1       1   \n",
       "1                  0.0000           0.95               NaN    2       2   \n",
       "2                  0.9000         453.69               4.2    3       3   \n",
       "3                  0.5900           1560             132.0    4       4   \n",
       "4                  0.4100           2349               NaN    5       5   \n",
       "..                    ...            ...               ...  ...     ...   \n",
       "98                 1.0255           1173               NaN   98      98   \n",
       "99                 0.0000           1133               NaN   99      99   \n",
       "100                0.0000           1800               NaN  100     100   \n",
       "101                0.0000           1100               NaN  101     101   \n",
       "102                0.0000           1100               NaN  102     102   \n",
       "\n",
       "     density_of_solid  coefficient_of_linear_thermal_expansion  \n",
       "0                 NaN                                      NaN  \n",
       "1                 NaN                                      NaN  \n",
       "2               535.0                                 0.000046  \n",
       "3              1848.0                                 0.000011  \n",
       "4              2460.0                                 0.000006  \n",
       "..                ...                                      ...  \n",
       "98            15100.0                                      NaN  \n",
       "99                NaN                                      NaN  \n",
       "100               NaN                                      NaN  \n",
       "101               NaN                                      NaN  \n",
       "102               NaN                                      NaN  \n",
       "\n",
       "[103 rows x 36 columns]"
      ]
     },
     "metadata": {},
     "output_type": "display_data"
    }
   ],
   "source": [
    "all_values = [] # Values for Attributes\n",
    "\n",
    "for item in elements: \n",
    "    #We use different list to generate different tables here.\n",
    "    element_values = []\n",
    "\n",
    "    element_object = pymat.Element(item)    \n",
    "    for i in list_pymatgen:\n",
    "        result = getattr(element_object,i)\n",
    "#         if result is None:\n",
    "#             result = \"None\"\n",
    "        element_values.append(result)\n",
    "        try:\n",
    "            print(element_object, i)\n",
    "        except:\n",
    "            pass\n",
    "    all_values.append(element_values) \n",
    "    # All lists are appended to another list, creating a list of lists\n",
    "    \n",
    "# Pandas Dataframe\n",
    "df = pd.DataFrame(all_values, columns=list_pymatgen)\n",
    "display(df)"
   ]
  },
  {
   "cell_type": "code",
   "execution_count": 6,
   "metadata": {},
   "outputs": [
    {
     "data": {
      "text/html": [
       "<div>\n",
       "<style scoped>\n",
       "    .dataframe tbody tr th:only-of-type {\n",
       "        vertical-align: middle;\n",
       "    }\n",
       "\n",
       "    .dataframe tbody tr th {\n",
       "        vertical-align: top;\n",
       "    }\n",
       "\n",
       "    .dataframe thead th {\n",
       "        text-align: right;\n",
       "    }\n",
       "</style>\n",
       "<table border=\"1\" class=\"dataframe\">\n",
       "  <thead>\n",
       "    <tr style=\"text-align: right;\">\n",
       "      <th></th>\n",
       "      <th>atomic_mass</th>\n",
       "      <th>poissons_ratio</th>\n",
       "      <th>atomic_radius</th>\n",
       "      <th>electrical_resistivity</th>\n",
       "      <th>molar_volume</th>\n",
       "      <th>thermal_conductivity</th>\n",
       "      <th>bulk_modulus</th>\n",
       "      <th>youngs_modulus</th>\n",
       "      <th>group</th>\n",
       "      <th>is_noble_gas</th>\n",
       "      <th>...</th>\n",
       "      <th>ionic_radii</th>\n",
       "      <th>boiling_point</th>\n",
       "      <th>vickers_hardness</th>\n",
       "      <th>average_ionic_radius</th>\n",
       "      <th>melting_point</th>\n",
       "      <th>rigidity_modulus</th>\n",
       "      <th>Z</th>\n",
       "      <th>number</th>\n",
       "      <th>density_of_solid</th>\n",
       "      <th>coefficient_of_linear_thermal_expansion</th>\n",
       "    </tr>\n",
       "    <tr>\n",
       "      <th></th>\n",
       "      <th></th>\n",
       "      <th></th>\n",
       "      <th></th>\n",
       "      <th></th>\n",
       "      <th></th>\n",
       "      <th></th>\n",
       "      <th></th>\n",
       "      <th></th>\n",
       "      <th></th>\n",
       "      <th></th>\n",
       "      <th></th>\n",
       "      <th></th>\n",
       "      <th></th>\n",
       "      <th></th>\n",
       "      <th></th>\n",
       "      <th></th>\n",
       "      <th></th>\n",
       "      <th></th>\n",
       "      <th></th>\n",
       "      <th></th>\n",
       "      <th></th>\n",
       "    </tr>\n",
       "  </thead>\n",
       "  <tbody>\n",
       "    <tr>\n",
       "      <th>H</th>\n",
       "      <td>1.007940</td>\n",
       "      <td>NaN</td>\n",
       "      <td>0.25</td>\n",
       "      <td>NaN</td>\n",
       "      <td>11.42</td>\n",
       "      <td>0.1805</td>\n",
       "      <td>NaN</td>\n",
       "      <td>NaN</td>\n",
       "      <td>1</td>\n",
       "      <td>False</td>\n",
       "      <td>...</td>\n",
       "      <td>{}</td>\n",
       "      <td>20.28</td>\n",
       "      <td>NaN</td>\n",
       "      <td>0.00</td>\n",
       "      <td>14.01</td>\n",
       "      <td>NaN</td>\n",
       "      <td>1</td>\n",
       "      <td>1</td>\n",
       "      <td>NaN</td>\n",
       "      <td>NaN</td>\n",
       "    </tr>\n",
       "    <tr>\n",
       "      <th>He</th>\n",
       "      <td>4.002602</td>\n",
       "      <td>NaN</td>\n",
       "      <td>NaN</td>\n",
       "      <td>NaN</td>\n",
       "      <td>21.00</td>\n",
       "      <td>0.1513</td>\n",
       "      <td>NaN</td>\n",
       "      <td>NaN</td>\n",
       "      <td>18</td>\n",
       "      <td>True</td>\n",
       "      <td>...</td>\n",
       "      <td>{}</td>\n",
       "      <td>4.22</td>\n",
       "      <td>NaN</td>\n",
       "      <td>0.00</td>\n",
       "      <td>0.95</td>\n",
       "      <td>NaN</td>\n",
       "      <td>2</td>\n",
       "      <td>2</td>\n",
       "      <td>NaN</td>\n",
       "      <td>NaN</td>\n",
       "    </tr>\n",
       "    <tr>\n",
       "      <th>Li</th>\n",
       "      <td>6.941000</td>\n",
       "      <td>NaN</td>\n",
       "      <td>1.45</td>\n",
       "      <td>9.500000e-08</td>\n",
       "      <td>13.02</td>\n",
       "      <td>85.0000</td>\n",
       "      <td>11.0</td>\n",
       "      <td>4.9</td>\n",
       "      <td>1</td>\n",
       "      <td>False</td>\n",
       "      <td>...</td>\n",
       "      <td>{1: 0.9 ang}</td>\n",
       "      <td>1615.00</td>\n",
       "      <td>NaN</td>\n",
       "      <td>0.90</td>\n",
       "      <td>453.69</td>\n",
       "      <td>4.2</td>\n",
       "      <td>3</td>\n",
       "      <td>3</td>\n",
       "      <td>535.0</td>\n",
       "      <td>0.000046</td>\n",
       "    </tr>\n",
       "    <tr>\n",
       "      <th>Be</th>\n",
       "      <td>9.012182</td>\n",
       "      <td>0.032</td>\n",
       "      <td>1.05</td>\n",
       "      <td>3.800000e-08</td>\n",
       "      <td>4.85</td>\n",
       "      <td>190.0000</td>\n",
       "      <td>130.0</td>\n",
       "      <td>287.0</td>\n",
       "      <td>2</td>\n",
       "      <td>False</td>\n",
       "      <td>...</td>\n",
       "      <td>{2: 0.59 ang}</td>\n",
       "      <td>2742.00</td>\n",
       "      <td>1670.0</td>\n",
       "      <td>0.59</td>\n",
       "      <td>1560</td>\n",
       "      <td>132.0</td>\n",
       "      <td>4</td>\n",
       "      <td>4</td>\n",
       "      <td>1848.0</td>\n",
       "      <td>0.000011</td>\n",
       "    </tr>\n",
       "    <tr>\n",
       "      <th>B</th>\n",
       "      <td>10.811000</td>\n",
       "      <td>NaN</td>\n",
       "      <td>0.85</td>\n",
       "      <td>1.000000e+12</td>\n",
       "      <td>4.39</td>\n",
       "      <td>27.0000</td>\n",
       "      <td>320.0</td>\n",
       "      <td>NaN</td>\n",
       "      <td>13</td>\n",
       "      <td>False</td>\n",
       "      <td>...</td>\n",
       "      <td>{3: 0.41 ang}</td>\n",
       "      <td>4200.00</td>\n",
       "      <td>49000.0</td>\n",
       "      <td>0.41</td>\n",
       "      <td>2349</td>\n",
       "      <td>NaN</td>\n",
       "      <td>5</td>\n",
       "      <td>5</td>\n",
       "      <td>2460.0</td>\n",
       "      <td>0.000006</td>\n",
       "    </tr>\n",
       "  </tbody>\n",
       "</table>\n",
       "<p>5 rows × 35 columns</p>\n",
       "</div>"
      ],
      "text/plain": [
       "    atomic_mass  poissons_ratio  atomic_radius  electrical_resistivity  \\\n",
       "                                                                         \n",
       "H      1.007940             NaN           0.25                     NaN   \n",
       "He     4.002602             NaN            NaN                     NaN   \n",
       "Li     6.941000             NaN           1.45            9.500000e-08   \n",
       "Be     9.012182           0.032           1.05            3.800000e-08   \n",
       "B     10.811000             NaN           0.85            1.000000e+12   \n",
       "\n",
       "    molar_volume  thermal_conductivity  bulk_modulus  youngs_modulus  group  \\\n",
       "                                                                              \n",
       "H          11.42                0.1805           NaN             NaN      1   \n",
       "He         21.00                0.1513           NaN             NaN     18   \n",
       "Li         13.02               85.0000          11.0             4.9      1   \n",
       "Be          4.85              190.0000         130.0           287.0      2   \n",
       "B           4.39               27.0000         320.0             NaN     13   \n",
       "\n",
       "    is_noble_gas  ...    ionic_radii  boiling_point  vickers_hardness  \\\n",
       "                  ...                                                   \n",
       "H          False  ...             {}          20.28               NaN   \n",
       "He          True  ...             {}           4.22               NaN   \n",
       "Li         False  ...   {1: 0.9 ang}        1615.00               NaN   \n",
       "Be         False  ...  {2: 0.59 ang}        2742.00            1670.0   \n",
       "B          False  ...  {3: 0.41 ang}        4200.00           49000.0   \n",
       "\n",
       "    average_ionic_radius  melting_point  rigidity_modulus  Z  number  \\\n",
       "                                                                       \n",
       "H                   0.00          14.01               NaN  1       1   \n",
       "He                  0.00           0.95               NaN  2       2   \n",
       "Li                  0.90         453.69               4.2  3       3   \n",
       "Be                  0.59           1560             132.0  4       4   \n",
       "B                   0.41           2349               NaN  5       5   \n",
       "\n",
       "    density_of_solid  coefficient_of_linear_thermal_expansion  \n",
       "                                                               \n",
       "H                NaN                                      NaN  \n",
       "He               NaN                                      NaN  \n",
       "Li             535.0                                 0.000046  \n",
       "Be            1848.0                                 0.000011  \n",
       "B             2460.0                                 0.000006  \n",
       "\n",
       "[5 rows x 35 columns]"
      ]
     },
     "execution_count": 6,
     "metadata": {},
     "output_type": "execute_result"
    }
   ],
   "source": [
    "df.set_index('symbol', inplace = True)\n",
    "df.index.name = \"\"\n",
    "df.head()"
   ]
  },
  {
   "cell_type": "code",
   "execution_count": 7,
   "metadata": {},
   "outputs": [
    {
     "data": {
      "text/html": [
       "<div>\n",
       "<style scoped>\n",
       "    .dataframe tbody tr th:only-of-type {\n",
       "        vertical-align: middle;\n",
       "    }\n",
       "\n",
       "    .dataframe tbody tr th {\n",
       "        vertical-align: top;\n",
       "    }\n",
       "\n",
       "    .dataframe thead th {\n",
       "        text-align: right;\n",
       "    }\n",
       "</style>\n",
       "<table border=\"1\" class=\"dataframe\">\n",
       "  <thead>\n",
       "    <tr style=\"text-align: right;\">\n",
       "      <th></th>\n",
       "      <th>atomic_mass</th>\n",
       "      <th>poissons_ratio</th>\n",
       "      <th>atomic_radius</th>\n",
       "      <th>electrical_resistivity</th>\n",
       "      <th>molar_volume</th>\n",
       "      <th>thermal_conductivity</th>\n",
       "      <th>bulk_modulus</th>\n",
       "      <th>youngs_modulus</th>\n",
       "      <th>group</th>\n",
       "      <th>is_noble_gas</th>\n",
       "      <th>...</th>\n",
       "      <th>ionic_radii</th>\n",
       "      <th>boiling_point</th>\n",
       "      <th>vickers_hardness</th>\n",
       "      <th>average_ionic_radius</th>\n",
       "      <th>melting_point</th>\n",
       "      <th>rigidity_modulus</th>\n",
       "      <th>Z</th>\n",
       "      <th>number</th>\n",
       "      <th>density_of_solid</th>\n",
       "      <th>coefficient_of_linear_thermal_expansion</th>\n",
       "    </tr>\n",
       "    <tr>\n",
       "      <th></th>\n",
       "      <th></th>\n",
       "      <th></th>\n",
       "      <th></th>\n",
       "      <th></th>\n",
       "      <th></th>\n",
       "      <th></th>\n",
       "      <th></th>\n",
       "      <th></th>\n",
       "      <th></th>\n",
       "      <th></th>\n",
       "      <th></th>\n",
       "      <th></th>\n",
       "      <th></th>\n",
       "      <th></th>\n",
       "      <th></th>\n",
       "      <th></th>\n",
       "      <th></th>\n",
       "      <th></th>\n",
       "      <th></th>\n",
       "      <th></th>\n",
       "      <th></th>\n",
       "    </tr>\n",
       "  </thead>\n",
       "  <tbody>\n",
       "    <tr>\n",
       "      <th>H</th>\n",
       "      <td>False</td>\n",
       "      <td>True</td>\n",
       "      <td>False</td>\n",
       "      <td>True</td>\n",
       "      <td>False</td>\n",
       "      <td>False</td>\n",
       "      <td>True</td>\n",
       "      <td>True</td>\n",
       "      <td>False</td>\n",
       "      <td>False</td>\n",
       "      <td>...</td>\n",
       "      <td>False</td>\n",
       "      <td>False</td>\n",
       "      <td>True</td>\n",
       "      <td>False</td>\n",
       "      <td>False</td>\n",
       "      <td>True</td>\n",
       "      <td>False</td>\n",
       "      <td>False</td>\n",
       "      <td>True</td>\n",
       "      <td>True</td>\n",
       "    </tr>\n",
       "    <tr>\n",
       "      <th>He</th>\n",
       "      <td>False</td>\n",
       "      <td>True</td>\n",
       "      <td>True</td>\n",
       "      <td>True</td>\n",
       "      <td>False</td>\n",
       "      <td>False</td>\n",
       "      <td>True</td>\n",
       "      <td>True</td>\n",
       "      <td>False</td>\n",
       "      <td>False</td>\n",
       "      <td>...</td>\n",
       "      <td>False</td>\n",
       "      <td>False</td>\n",
       "      <td>True</td>\n",
       "      <td>False</td>\n",
       "      <td>False</td>\n",
       "      <td>True</td>\n",
       "      <td>False</td>\n",
       "      <td>False</td>\n",
       "      <td>True</td>\n",
       "      <td>True</td>\n",
       "    </tr>\n",
       "    <tr>\n",
       "      <th>Li</th>\n",
       "      <td>False</td>\n",
       "      <td>True</td>\n",
       "      <td>False</td>\n",
       "      <td>False</td>\n",
       "      <td>False</td>\n",
       "      <td>False</td>\n",
       "      <td>False</td>\n",
       "      <td>False</td>\n",
       "      <td>False</td>\n",
       "      <td>False</td>\n",
       "      <td>...</td>\n",
       "      <td>False</td>\n",
       "      <td>False</td>\n",
       "      <td>True</td>\n",
       "      <td>False</td>\n",
       "      <td>False</td>\n",
       "      <td>False</td>\n",
       "      <td>False</td>\n",
       "      <td>False</td>\n",
       "      <td>False</td>\n",
       "      <td>False</td>\n",
       "    </tr>\n",
       "    <tr>\n",
       "      <th>Be</th>\n",
       "      <td>False</td>\n",
       "      <td>False</td>\n",
       "      <td>False</td>\n",
       "      <td>False</td>\n",
       "      <td>False</td>\n",
       "      <td>False</td>\n",
       "      <td>False</td>\n",
       "      <td>False</td>\n",
       "      <td>False</td>\n",
       "      <td>False</td>\n",
       "      <td>...</td>\n",
       "      <td>False</td>\n",
       "      <td>False</td>\n",
       "      <td>False</td>\n",
       "      <td>False</td>\n",
       "      <td>False</td>\n",
       "      <td>False</td>\n",
       "      <td>False</td>\n",
       "      <td>False</td>\n",
       "      <td>False</td>\n",
       "      <td>False</td>\n",
       "    </tr>\n",
       "    <tr>\n",
       "      <th>B</th>\n",
       "      <td>False</td>\n",
       "      <td>True</td>\n",
       "      <td>False</td>\n",
       "      <td>False</td>\n",
       "      <td>False</td>\n",
       "      <td>False</td>\n",
       "      <td>False</td>\n",
       "      <td>True</td>\n",
       "      <td>False</td>\n",
       "      <td>False</td>\n",
       "      <td>...</td>\n",
       "      <td>False</td>\n",
       "      <td>False</td>\n",
       "      <td>False</td>\n",
       "      <td>False</td>\n",
       "      <td>False</td>\n",
       "      <td>True</td>\n",
       "      <td>False</td>\n",
       "      <td>False</td>\n",
       "      <td>False</td>\n",
       "      <td>False</td>\n",
       "    </tr>\n",
       "    <tr>\n",
       "      <th>...</th>\n",
       "      <td>...</td>\n",
       "      <td>...</td>\n",
       "      <td>...</td>\n",
       "      <td>...</td>\n",
       "      <td>...</td>\n",
       "      <td>...</td>\n",
       "      <td>...</td>\n",
       "      <td>...</td>\n",
       "      <td>...</td>\n",
       "      <td>...</td>\n",
       "      <td>...</td>\n",
       "      <td>...</td>\n",
       "      <td>...</td>\n",
       "      <td>...</td>\n",
       "      <td>...</td>\n",
       "      <td>...</td>\n",
       "      <td>...</td>\n",
       "      <td>...</td>\n",
       "      <td>...</td>\n",
       "      <td>...</td>\n",
       "      <td>...</td>\n",
       "    </tr>\n",
       "    <tr>\n",
       "      <th>Cf</th>\n",
       "      <td>False</td>\n",
       "      <td>True</td>\n",
       "      <td>True</td>\n",
       "      <td>True</td>\n",
       "      <td>False</td>\n",
       "      <td>True</td>\n",
       "      <td>True</td>\n",
       "      <td>True</td>\n",
       "      <td>False</td>\n",
       "      <td>False</td>\n",
       "      <td>...</td>\n",
       "      <td>False</td>\n",
       "      <td>True</td>\n",
       "      <td>True</td>\n",
       "      <td>False</td>\n",
       "      <td>False</td>\n",
       "      <td>True</td>\n",
       "      <td>False</td>\n",
       "      <td>False</td>\n",
       "      <td>False</td>\n",
       "      <td>True</td>\n",
       "    </tr>\n",
       "    <tr>\n",
       "      <th>Es</th>\n",
       "      <td>False</td>\n",
       "      <td>True</td>\n",
       "      <td>True</td>\n",
       "      <td>True</td>\n",
       "      <td>False</td>\n",
       "      <td>True</td>\n",
       "      <td>True</td>\n",
       "      <td>True</td>\n",
       "      <td>False</td>\n",
       "      <td>False</td>\n",
       "      <td>...</td>\n",
       "      <td>False</td>\n",
       "      <td>True</td>\n",
       "      <td>True</td>\n",
       "      <td>False</td>\n",
       "      <td>False</td>\n",
       "      <td>True</td>\n",
       "      <td>False</td>\n",
       "      <td>False</td>\n",
       "      <td>True</td>\n",
       "      <td>True</td>\n",
       "    </tr>\n",
       "    <tr>\n",
       "      <th>Fm</th>\n",
       "      <td>False</td>\n",
       "      <td>True</td>\n",
       "      <td>True</td>\n",
       "      <td>True</td>\n",
       "      <td>True</td>\n",
       "      <td>True</td>\n",
       "      <td>True</td>\n",
       "      <td>True</td>\n",
       "      <td>False</td>\n",
       "      <td>False</td>\n",
       "      <td>...</td>\n",
       "      <td>False</td>\n",
       "      <td>True</td>\n",
       "      <td>True</td>\n",
       "      <td>False</td>\n",
       "      <td>False</td>\n",
       "      <td>True</td>\n",
       "      <td>False</td>\n",
       "      <td>False</td>\n",
       "      <td>True</td>\n",
       "      <td>True</td>\n",
       "    </tr>\n",
       "    <tr>\n",
       "      <th>Md</th>\n",
       "      <td>False</td>\n",
       "      <td>True</td>\n",
       "      <td>True</td>\n",
       "      <td>True</td>\n",
       "      <td>True</td>\n",
       "      <td>True</td>\n",
       "      <td>True</td>\n",
       "      <td>True</td>\n",
       "      <td>False</td>\n",
       "      <td>False</td>\n",
       "      <td>...</td>\n",
       "      <td>False</td>\n",
       "      <td>True</td>\n",
       "      <td>True</td>\n",
       "      <td>False</td>\n",
       "      <td>False</td>\n",
       "      <td>True</td>\n",
       "      <td>False</td>\n",
       "      <td>False</td>\n",
       "      <td>True</td>\n",
       "      <td>True</td>\n",
       "    </tr>\n",
       "    <tr>\n",
       "      <th>No</th>\n",
       "      <td>False</td>\n",
       "      <td>True</td>\n",
       "      <td>True</td>\n",
       "      <td>True</td>\n",
       "      <td>True</td>\n",
       "      <td>True</td>\n",
       "      <td>True</td>\n",
       "      <td>True</td>\n",
       "      <td>False</td>\n",
       "      <td>False</td>\n",
       "      <td>...</td>\n",
       "      <td>False</td>\n",
       "      <td>True</td>\n",
       "      <td>True</td>\n",
       "      <td>False</td>\n",
       "      <td>False</td>\n",
       "      <td>True</td>\n",
       "      <td>False</td>\n",
       "      <td>False</td>\n",
       "      <td>True</td>\n",
       "      <td>True</td>\n",
       "    </tr>\n",
       "  </tbody>\n",
       "</table>\n",
       "<p>103 rows × 35 columns</p>\n",
       "</div>"
      ],
      "text/plain": [
       "    atomic_mass  poissons_ratio  atomic_radius  electrical_resistivity  \\\n",
       "                                                                         \n",
       "H         False            True          False                    True   \n",
       "He        False            True           True                    True   \n",
       "Li        False            True          False                   False   \n",
       "Be        False           False          False                   False   \n",
       "B         False            True          False                   False   \n",
       "..          ...             ...            ...                     ...   \n",
       "Cf        False            True           True                    True   \n",
       "Es        False            True           True                    True   \n",
       "Fm        False            True           True                    True   \n",
       "Md        False            True           True                    True   \n",
       "No        False            True           True                    True   \n",
       "\n",
       "    molar_volume  thermal_conductivity  bulk_modulus  youngs_modulus  group  \\\n",
       "                                                                              \n",
       "H          False                 False          True            True  False   \n",
       "He         False                 False          True            True  False   \n",
       "Li         False                 False         False           False  False   \n",
       "Be         False                 False         False           False  False   \n",
       "B          False                 False         False            True  False   \n",
       "..           ...                   ...           ...             ...    ...   \n",
       "Cf         False                  True          True            True  False   \n",
       "Es         False                  True          True            True  False   \n",
       "Fm          True                  True          True            True  False   \n",
       "Md          True                  True          True            True  False   \n",
       "No          True                  True          True            True  False   \n",
       "\n",
       "    is_noble_gas  ...  ionic_radii  boiling_point  vickers_hardness  \\\n",
       "                  ...                                                 \n",
       "H          False  ...        False          False              True   \n",
       "He         False  ...        False          False              True   \n",
       "Li         False  ...        False          False              True   \n",
       "Be         False  ...        False          False             False   \n",
       "B          False  ...        False          False             False   \n",
       "..           ...  ...          ...            ...               ...   \n",
       "Cf         False  ...        False           True              True   \n",
       "Es         False  ...        False           True              True   \n",
       "Fm         False  ...        False           True              True   \n",
       "Md         False  ...        False           True              True   \n",
       "No         False  ...        False           True              True   \n",
       "\n",
       "    average_ionic_radius  melting_point  rigidity_modulus      Z  number  \\\n",
       "                                                                           \n",
       "H                  False          False              True  False   False   \n",
       "He                 False          False              True  False   False   \n",
       "Li                 False          False             False  False   False   \n",
       "Be                 False          False             False  False   False   \n",
       "B                  False          False              True  False   False   \n",
       "..                   ...            ...               ...    ...     ...   \n",
       "Cf                 False          False              True  False   False   \n",
       "Es                 False          False              True  False   False   \n",
       "Fm                 False          False              True  False   False   \n",
       "Md                 False          False              True  False   False   \n",
       "No                 False          False              True  False   False   \n",
       "\n",
       "    density_of_solid  coefficient_of_linear_thermal_expansion  \n",
       "                                                               \n",
       "H               True                                     True  \n",
       "He              True                                     True  \n",
       "Li             False                                    False  \n",
       "Be             False                                    False  \n",
       "B              False                                    False  \n",
       "..               ...                                      ...  \n",
       "Cf             False                                     True  \n",
       "Es              True                                     True  \n",
       "Fm              True                                     True  \n",
       "Md              True                                     True  \n",
       "No              True                                     True  \n",
       "\n",
       "[103 rows x 35 columns]"
      ]
     },
     "execution_count": 7,
     "metadata": {},
     "output_type": "execute_result"
    }
   ],
   "source": [
    "df.isnull() "
   ]
  },
  {
   "cell_type": "code",
   "execution_count": 8,
   "metadata": {},
   "outputs": [
    {
     "data": {
      "text/plain": [
       "atomic_mass                                float64\n",
       "poissons_ratio                             float64\n",
       "atomic_radius                              float64\n",
       "electrical_resistivity                     float64\n",
       "molar_volume                               float64\n",
       "thermal_conductivity                       float64\n",
       "bulk_modulus                               float64\n",
       "youngs_modulus                             float64\n",
       "group                                        int64\n",
       "is_noble_gas                                  bool\n",
       "is_transition_metal                           bool\n",
       "is_post_transition_metal                      bool\n",
       "is_rare_earth_metal                           bool\n",
       "is_metalloid                                  bool\n",
       "is_alkali                                     bool\n",
       "is_alkaline                                   bool\n",
       "is_halogen                                    bool\n",
       "is_lanthanoid                                 bool\n",
       "is_actinoid                                   bool\n",
       "van_der_waals_radius                       float64\n",
       "velocity_of_sound                          float64\n",
       "critical_temperature                       float64\n",
       "superconduction_temperature                float64\n",
       "average_cationic_radius                    float64\n",
       "average_anionic_radius                     float64\n",
       "ionic_radii                                 object\n",
       "boiling_point                              float64\n",
       "vickers_hardness                           float64\n",
       "average_ionic_radius                       float64\n",
       "melting_point                               object\n",
       "rigidity_modulus                           float64\n",
       "Z                                            int64\n",
       "number                                       int64\n",
       "density_of_solid                           float64\n",
       "coefficient_of_linear_thermal_expansion    float64\n",
       "dtype: object"
      ]
     },
     "execution_count": 8,
     "metadata": {},
     "output_type": "execute_result"
    }
   ],
   "source": [
    "df.dtypes"
   ]
  },
  {
   "cell_type": "code",
   "execution_count": 9,
   "metadata": {},
   "outputs": [],
   "source": [
    "df.to_csv (r'C:\\Users\\Kayla Yano\\Class\\Trial\\sample_dataframe.csv', index = True, header=True)"
   ]
  },
  {
   "cell_type": "code",
   "execution_count": 10,
   "metadata": {},
   "outputs": [
    {
     "data": {
      "text/html": [
       "        <script type=\"text/javascript\">\n",
       "        window.PlotlyConfig = {MathJaxConfig: 'local'};\n",
       "        if (window.MathJax) {MathJax.Hub.Config({SVG: {font: \"STIX-Web\"}});}\n",
       "        if (typeof require !== 'undefined') {\n",
       "        require.undef(\"plotly\");\n",
       "        requirejs.config({\n",
       "            paths: {\n",
       "                'plotly': ['https://cdn.plot.ly/plotly-latest.min']\n",
       "            }\n",
       "        });\n",
       "        require(['plotly'], function(Plotly) {\n",
       "            window._Plotly = Plotly;\n",
       "        });\n",
       "        }\n",
       "        </script>\n",
       "        "
      ]
     },
     "metadata": {},
     "output_type": "display_data"
    },
    {
     "data": {
      "application/vnd.plotly.v1+json": {
       "config": {
        "linkText": "Export to plot.ly",
        "plotlyServerURL": "https://plot.ly",
        "showLink": false
       },
       "data": [
        {
         "marker": {
          "color": "blue",
          "line": {
           "width": 1
          },
          "size": 12
         },
         "mode": "markers",
         "type": "scatter",
         "x": [
          14.01,
          0.95,
          453.69,
          1560,
          2349,
          3800,
          63.05,
          54.8,
          53.53,
          24.56,
          370.87,
          923,
          933.47,
          1687,
          317.3,
          388.36,
          171.6,
          83.8,
          336.53,
          1115,
          1814,
          1941,
          2183,
          2180,
          1519,
          1811,
          1768,
          1728,
          1357.77,
          692.68,
          302.91,
          1211.4,
          1090,
          494,
          265.8,
          115.79,
          312.46,
          1050,
          1799,
          2128,
          2750,
          2896,
          2430,
          2607,
          2237,
          1828.05,
          1234.93,
          594.22,
          429.75,
          505.08,
          903.78,
          722.66,
          386.85,
          161.4,
          301.59,
          1000,
          2506,
          3290,
          3695,
          3459,
          3306,
          2739,
          2041.4,
          1337.33,
          234.32,
          577,
          600.61,
          544.4,
          527,
          575,
          202,
          "maybe about 300 K",
          973,
          1900,
          1193,
          1068,
          1208,
          1297,
          1373,
          1345,
          1099,
          1585,
          1629,
          1680,
          1734,
          1802,
          1818,
          1097,
          1925,
          1323,
          2115,
          1841,
          1405.3,
          910,
          912.5,
          1449,
          1613,
          1259,
          1173,
          1133,
          1800,
          1100,
          1100
         ],
         "y": [
          null,
          null,
          4.9,
          287,
          null,
          null,
          null,
          null,
          null,
          null,
          10,
          45,
          70,
          47,
          null,
          null,
          null,
          null,
          null,
          20,
          74,
          116,
          128,
          279,
          198,
          211,
          209,
          200,
          130,
          108,
          null,
          null,
          8,
          10,
          null,
          null,
          2.4,
          null,
          64,
          68,
          105,
          329,
          null,
          447,
          275,
          121,
          83,
          50,
          11,
          50,
          55,
          43,
          null,
          null,
          1.7,
          13,
          78,
          186,
          411,
          463,
          null,
          528,
          168,
          78,
          null,
          8,
          16,
          32,
          null,
          null,
          null,
          null,
          null,
          null,
          37,
          34,
          37,
          41,
          46,
          50,
          18,
          55,
          56,
          61,
          65,
          70,
          74,
          24,
          69,
          null,
          79,
          null,
          208,
          null,
          96,
          null,
          null,
          null,
          null,
          null,
          null,
          null,
          null
         ]
        }
       ],
       "layout": {
        "template": {
         "data": {
          "bar": [
           {
            "error_x": {
             "color": "#2a3f5f"
            },
            "error_y": {
             "color": "#2a3f5f"
            },
            "marker": {
             "line": {
              "color": "#E5ECF6",
              "width": 0.5
             }
            },
            "type": "bar"
           }
          ],
          "barpolar": [
           {
            "marker": {
             "line": {
              "color": "#E5ECF6",
              "width": 0.5
             }
            },
            "type": "barpolar"
           }
          ],
          "carpet": [
           {
            "aaxis": {
             "endlinecolor": "#2a3f5f",
             "gridcolor": "white",
             "linecolor": "white",
             "minorgridcolor": "white",
             "startlinecolor": "#2a3f5f"
            },
            "baxis": {
             "endlinecolor": "#2a3f5f",
             "gridcolor": "white",
             "linecolor": "white",
             "minorgridcolor": "white",
             "startlinecolor": "#2a3f5f"
            },
            "type": "carpet"
           }
          ],
          "choropleth": [
           {
            "colorbar": {
             "outlinewidth": 0,
             "ticks": ""
            },
            "type": "choropleth"
           }
          ],
          "contour": [
           {
            "colorbar": {
             "outlinewidth": 0,
             "ticks": ""
            },
            "colorscale": [
             [
              0,
              "#0d0887"
             ],
             [
              0.1111111111111111,
              "#46039f"
             ],
             [
              0.2222222222222222,
              "#7201a8"
             ],
             [
              0.3333333333333333,
              "#9c179e"
             ],
             [
              0.4444444444444444,
              "#bd3786"
             ],
             [
              0.5555555555555556,
              "#d8576b"
             ],
             [
              0.6666666666666666,
              "#ed7953"
             ],
             [
              0.7777777777777778,
              "#fb9f3a"
             ],
             [
              0.8888888888888888,
              "#fdca26"
             ],
             [
              1,
              "#f0f921"
             ]
            ],
            "type": "contour"
           }
          ],
          "contourcarpet": [
           {
            "colorbar": {
             "outlinewidth": 0,
             "ticks": ""
            },
            "type": "contourcarpet"
           }
          ],
          "heatmap": [
           {
            "colorbar": {
             "outlinewidth": 0,
             "ticks": ""
            },
            "colorscale": [
             [
              0,
              "#0d0887"
             ],
             [
              0.1111111111111111,
              "#46039f"
             ],
             [
              0.2222222222222222,
              "#7201a8"
             ],
             [
              0.3333333333333333,
              "#9c179e"
             ],
             [
              0.4444444444444444,
              "#bd3786"
             ],
             [
              0.5555555555555556,
              "#d8576b"
             ],
             [
              0.6666666666666666,
              "#ed7953"
             ],
             [
              0.7777777777777778,
              "#fb9f3a"
             ],
             [
              0.8888888888888888,
              "#fdca26"
             ],
             [
              1,
              "#f0f921"
             ]
            ],
            "type": "heatmap"
           }
          ],
          "heatmapgl": [
           {
            "colorbar": {
             "outlinewidth": 0,
             "ticks": ""
            },
            "colorscale": [
             [
              0,
              "#0d0887"
             ],
             [
              0.1111111111111111,
              "#46039f"
             ],
             [
              0.2222222222222222,
              "#7201a8"
             ],
             [
              0.3333333333333333,
              "#9c179e"
             ],
             [
              0.4444444444444444,
              "#bd3786"
             ],
             [
              0.5555555555555556,
              "#d8576b"
             ],
             [
              0.6666666666666666,
              "#ed7953"
             ],
             [
              0.7777777777777778,
              "#fb9f3a"
             ],
             [
              0.8888888888888888,
              "#fdca26"
             ],
             [
              1,
              "#f0f921"
             ]
            ],
            "type": "heatmapgl"
           }
          ],
          "histogram": [
           {
            "marker": {
             "colorbar": {
              "outlinewidth": 0,
              "ticks": ""
             }
            },
            "type": "histogram"
           }
          ],
          "histogram2d": [
           {
            "colorbar": {
             "outlinewidth": 0,
             "ticks": ""
            },
            "colorscale": [
             [
              0,
              "#0d0887"
             ],
             [
              0.1111111111111111,
              "#46039f"
             ],
             [
              0.2222222222222222,
              "#7201a8"
             ],
             [
              0.3333333333333333,
              "#9c179e"
             ],
             [
              0.4444444444444444,
              "#bd3786"
             ],
             [
              0.5555555555555556,
              "#d8576b"
             ],
             [
              0.6666666666666666,
              "#ed7953"
             ],
             [
              0.7777777777777778,
              "#fb9f3a"
             ],
             [
              0.8888888888888888,
              "#fdca26"
             ],
             [
              1,
              "#f0f921"
             ]
            ],
            "type": "histogram2d"
           }
          ],
          "histogram2dcontour": [
           {
            "colorbar": {
             "outlinewidth": 0,
             "ticks": ""
            },
            "colorscale": [
             [
              0,
              "#0d0887"
             ],
             [
              0.1111111111111111,
              "#46039f"
             ],
             [
              0.2222222222222222,
              "#7201a8"
             ],
             [
              0.3333333333333333,
              "#9c179e"
             ],
             [
              0.4444444444444444,
              "#bd3786"
             ],
             [
              0.5555555555555556,
              "#d8576b"
             ],
             [
              0.6666666666666666,
              "#ed7953"
             ],
             [
              0.7777777777777778,
              "#fb9f3a"
             ],
             [
              0.8888888888888888,
              "#fdca26"
             ],
             [
              1,
              "#f0f921"
             ]
            ],
            "type": "histogram2dcontour"
           }
          ],
          "mesh3d": [
           {
            "colorbar": {
             "outlinewidth": 0,
             "ticks": ""
            },
            "type": "mesh3d"
           }
          ],
          "parcoords": [
           {
            "line": {
             "colorbar": {
              "outlinewidth": 0,
              "ticks": ""
             }
            },
            "type": "parcoords"
           }
          ],
          "pie": [
           {
            "automargin": true,
            "type": "pie"
           }
          ],
          "scatter": [
           {
            "marker": {
             "colorbar": {
              "outlinewidth": 0,
              "ticks": ""
             }
            },
            "type": "scatter"
           }
          ],
          "scatter3d": [
           {
            "line": {
             "colorbar": {
              "outlinewidth": 0,
              "ticks": ""
             }
            },
            "marker": {
             "colorbar": {
              "outlinewidth": 0,
              "ticks": ""
             }
            },
            "type": "scatter3d"
           }
          ],
          "scattercarpet": [
           {
            "marker": {
             "colorbar": {
              "outlinewidth": 0,
              "ticks": ""
             }
            },
            "type": "scattercarpet"
           }
          ],
          "scattergeo": [
           {
            "marker": {
             "colorbar": {
              "outlinewidth": 0,
              "ticks": ""
             }
            },
            "type": "scattergeo"
           }
          ],
          "scattergl": [
           {
            "marker": {
             "colorbar": {
              "outlinewidth": 0,
              "ticks": ""
             }
            },
            "type": "scattergl"
           }
          ],
          "scattermapbox": [
           {
            "marker": {
             "colorbar": {
              "outlinewidth": 0,
              "ticks": ""
             }
            },
            "type": "scattermapbox"
           }
          ],
          "scatterpolar": [
           {
            "marker": {
             "colorbar": {
              "outlinewidth": 0,
              "ticks": ""
             }
            },
            "type": "scatterpolar"
           }
          ],
          "scatterpolargl": [
           {
            "marker": {
             "colorbar": {
              "outlinewidth": 0,
              "ticks": ""
             }
            },
            "type": "scatterpolargl"
           }
          ],
          "scatterternary": [
           {
            "marker": {
             "colorbar": {
              "outlinewidth": 0,
              "ticks": ""
             }
            },
            "type": "scatterternary"
           }
          ],
          "surface": [
           {
            "colorbar": {
             "outlinewidth": 0,
             "ticks": ""
            },
            "colorscale": [
             [
              0,
              "#0d0887"
             ],
             [
              0.1111111111111111,
              "#46039f"
             ],
             [
              0.2222222222222222,
              "#7201a8"
             ],
             [
              0.3333333333333333,
              "#9c179e"
             ],
             [
              0.4444444444444444,
              "#bd3786"
             ],
             [
              0.5555555555555556,
              "#d8576b"
             ],
             [
              0.6666666666666666,
              "#ed7953"
             ],
             [
              0.7777777777777778,
              "#fb9f3a"
             ],
             [
              0.8888888888888888,
              "#fdca26"
             ],
             [
              1,
              "#f0f921"
             ]
            ],
            "type": "surface"
           }
          ],
          "table": [
           {
            "cells": {
             "fill": {
              "color": "#EBF0F8"
             },
             "line": {
              "color": "white"
             }
            },
            "header": {
             "fill": {
              "color": "#C8D4E3"
             },
             "line": {
              "color": "white"
             }
            },
            "type": "table"
           }
          ]
         },
         "layout": {
          "annotationdefaults": {
           "arrowcolor": "#2a3f5f",
           "arrowhead": 0,
           "arrowwidth": 1
          },
          "coloraxis": {
           "colorbar": {
            "outlinewidth": 0,
            "ticks": ""
           }
          },
          "colorscale": {
           "diverging": [
            [
             0,
             "#8e0152"
            ],
            [
             0.1,
             "#c51b7d"
            ],
            [
             0.2,
             "#de77ae"
            ],
            [
             0.3,
             "#f1b6da"
            ],
            [
             0.4,
             "#fde0ef"
            ],
            [
             0.5,
             "#f7f7f7"
            ],
            [
             0.6,
             "#e6f5d0"
            ],
            [
             0.7,
             "#b8e186"
            ],
            [
             0.8,
             "#7fbc41"
            ],
            [
             0.9,
             "#4d9221"
            ],
            [
             1,
             "#276419"
            ]
           ],
           "sequential": [
            [
             0,
             "#0d0887"
            ],
            [
             0.1111111111111111,
             "#46039f"
            ],
            [
             0.2222222222222222,
             "#7201a8"
            ],
            [
             0.3333333333333333,
             "#9c179e"
            ],
            [
             0.4444444444444444,
             "#bd3786"
            ],
            [
             0.5555555555555556,
             "#d8576b"
            ],
            [
             0.6666666666666666,
             "#ed7953"
            ],
            [
             0.7777777777777778,
             "#fb9f3a"
            ],
            [
             0.8888888888888888,
             "#fdca26"
            ],
            [
             1,
             "#f0f921"
            ]
           ],
           "sequentialminus": [
            [
             0,
             "#0d0887"
            ],
            [
             0.1111111111111111,
             "#46039f"
            ],
            [
             0.2222222222222222,
             "#7201a8"
            ],
            [
             0.3333333333333333,
             "#9c179e"
            ],
            [
             0.4444444444444444,
             "#bd3786"
            ],
            [
             0.5555555555555556,
             "#d8576b"
            ],
            [
             0.6666666666666666,
             "#ed7953"
            ],
            [
             0.7777777777777778,
             "#fb9f3a"
            ],
            [
             0.8888888888888888,
             "#fdca26"
            ],
            [
             1,
             "#f0f921"
            ]
           ]
          },
          "colorway": [
           "#636efa",
           "#EF553B",
           "#00cc96",
           "#ab63fa",
           "#FFA15A",
           "#19d3f3",
           "#FF6692",
           "#B6E880",
           "#FF97FF",
           "#FECB52"
          ],
          "font": {
           "color": "#2a3f5f"
          },
          "geo": {
           "bgcolor": "white",
           "lakecolor": "white",
           "landcolor": "#E5ECF6",
           "showlakes": true,
           "showland": true,
           "subunitcolor": "white"
          },
          "hoverlabel": {
           "align": "left"
          },
          "hovermode": "closest",
          "mapbox": {
           "style": "light"
          },
          "paper_bgcolor": "white",
          "plot_bgcolor": "#E5ECF6",
          "polar": {
           "angularaxis": {
            "gridcolor": "white",
            "linecolor": "white",
            "ticks": ""
           },
           "bgcolor": "#E5ECF6",
           "radialaxis": {
            "gridcolor": "white",
            "linecolor": "white",
            "ticks": ""
           }
          },
          "scene": {
           "xaxis": {
            "backgroundcolor": "#E5ECF6",
            "gridcolor": "white",
            "gridwidth": 2,
            "linecolor": "white",
            "showbackground": true,
            "ticks": "",
            "zerolinecolor": "white"
           },
           "yaxis": {
            "backgroundcolor": "#E5ECF6",
            "gridcolor": "white",
            "gridwidth": 2,
            "linecolor": "white",
            "showbackground": true,
            "ticks": "",
            "zerolinecolor": "white"
           },
           "zaxis": {
            "backgroundcolor": "#E5ECF6",
            "gridcolor": "white",
            "gridwidth": 2,
            "linecolor": "white",
            "showbackground": true,
            "ticks": "",
            "zerolinecolor": "white"
           }
          },
          "shapedefaults": {
           "line": {
            "color": "#2a3f5f"
           }
          },
          "ternary": {
           "aaxis": {
            "gridcolor": "white",
            "linecolor": "white",
            "ticks": ""
           },
           "baxis": {
            "gridcolor": "white",
            "linecolor": "white",
            "ticks": ""
           },
           "bgcolor": "#E5ECF6",
           "caxis": {
            "gridcolor": "white",
            "linecolor": "white",
            "ticks": ""
           }
          },
          "title": {
           "x": 0.05
          },
          "xaxis": {
           "automargin": true,
           "gridcolor": "white",
           "linecolor": "white",
           "ticks": "",
           "title": {
            "standoff": 15
           },
           "zerolinecolor": "white",
           "zerolinewidth": 2
          },
          "yaxis": {
           "automargin": true,
           "gridcolor": "white",
           "linecolor": "white",
           "ticks": "",
           "title": {
            "standoff": 15
           },
           "zerolinecolor": "white",
           "zerolinewidth": 2
          }
         }
        },
        "title": {
         "text": "Young's Moduli's on Melting Temperature"
        },
        "xaxis": {
         "gridcolor": "LightPink",
         "gridwidth": 1,
         "showgrid": true,
         "title": {
          "text": "Melting Temperature [K]"
         }
        },
        "yaxis": {
         "gridcolor": "LightPink",
         "gridwidth": 1,
         "showgrid": true,
         "title": {
          "text": "Youngs Modulus [GPa]"
         }
        }
       }
      },
      "text/html": [
       "<div>\n",
       "        \n",
       "        \n",
       "            <div id=\"820bcd5a-95e9-433a-baa6-d72936b75ee1\" class=\"plotly-graph-div\" style=\"height:525px; width:100%;\"></div>\n",
       "            <script type=\"text/javascript\">\n",
       "                require([\"plotly\"], function(Plotly) {\n",
       "                    window.PLOTLYENV=window.PLOTLYENV || {};\n",
       "                    \n",
       "                if (document.getElementById(\"820bcd5a-95e9-433a-baa6-d72936b75ee1\")) {\n",
       "                    Plotly.newPlot(\n",
       "                        '820bcd5a-95e9-433a-baa6-d72936b75ee1',\n",
       "                        [{\"marker\": {\"color\": \"blue\", \"line\": {\"width\": 1}, \"size\": 12}, \"mode\": \"markers\", \"type\": \"scatter\", \"x\": [14.01, 0.95, 453.69, 1560.0, 2349.0, 3800.0, 63.05, 54.8, 53.53, 24.56, 370.87, 923.0, 933.47, 1687.0, 317.3, 388.36, 171.6, 83.8, 336.53, 1115.0, 1814.0, 1941.0, 2183.0, 2180.0, 1519.0, 1811.0, 1768.0, 1728.0, 1357.77, 692.68, 302.91, 1211.4, 1090.0, 494.0, 265.8, 115.79, 312.46, 1050.0, 1799.0, 2128.0, 2750.0, 2896.0, 2430.0, 2607.0, 2237.0, 1828.05, 1234.93, 594.22, 429.75, 505.08, 903.78, 722.66, 386.85, 161.4, 301.59, 1000.0, 2506.0, 3290.0, 3695.0, 3459.0, 3306.0, 2739.0, 2041.4, 1337.33, 234.32, 577.0, 600.61, 544.4, 527.0, 575.0, 202.0, \"maybe about 300 K\", 973.0, 1900.0, 1193.0, 1068.0, 1208.0, 1297.0, 1373.0, 1345.0, 1099.0, 1585.0, 1629.0, 1680.0, 1734.0, 1802.0, 1818.0, 1097.0, 1925.0, 1323.0, 2115.0, 1841.0, 1405.3, 910.0, 912.5, 1449.0, 1613.0, 1259.0, 1173.0, 1133.0, 1800.0, 1100.0, 1100.0], \"y\": [null, null, 4.9, 287.0, null, null, null, null, null, null, 10.0, 45.0, 70.0, 47.0, null, null, null, null, null, 20.0, 74.0, 116.0, 128.0, 279.0, 198.0, 211.0, 209.0, 200.0, 130.0, 108.0, null, null, 8.0, 10.0, null, null, 2.4, null, 64.0, 68.0, 105.0, 329.0, null, 447.0, 275.0, 121.0, 83.0, 50.0, 11.0, 50.0, 55.0, 43.0, null, null, 1.7, 13.0, 78.0, 186.0, 411.0, 463.0, null, 528.0, 168.0, 78.0, null, 8.0, 16.0, 32.0, null, null, null, null, null, null, 37.0, 34.0, 37.0, 41.0, 46.0, 50.0, 18.0, 55.0, 56.0, 61.0, 65.0, 70.0, 74.0, 24.0, 69.0, null, 79.0, null, 208.0, null, 96.0, null, null, null, null, null, null, null, null]}],\n",
       "                        {\"template\": {\"data\": {\"bar\": [{\"error_x\": {\"color\": \"#2a3f5f\"}, \"error_y\": {\"color\": \"#2a3f5f\"}, \"marker\": {\"line\": {\"color\": \"#E5ECF6\", \"width\": 0.5}}, \"type\": \"bar\"}], \"barpolar\": [{\"marker\": {\"line\": {\"color\": \"#E5ECF6\", \"width\": 0.5}}, \"type\": \"barpolar\"}], \"carpet\": [{\"aaxis\": {\"endlinecolor\": \"#2a3f5f\", \"gridcolor\": \"white\", \"linecolor\": \"white\", \"minorgridcolor\": \"white\", \"startlinecolor\": \"#2a3f5f\"}, \"baxis\": {\"endlinecolor\": \"#2a3f5f\", \"gridcolor\": \"white\", \"linecolor\": \"white\", \"minorgridcolor\": \"white\", \"startlinecolor\": \"#2a3f5f\"}, \"type\": \"carpet\"}], \"choropleth\": [{\"colorbar\": {\"outlinewidth\": 0, \"ticks\": \"\"}, \"type\": \"choropleth\"}], \"contour\": [{\"colorbar\": {\"outlinewidth\": 0, \"ticks\": \"\"}, \"colorscale\": [[0.0, \"#0d0887\"], [0.1111111111111111, \"#46039f\"], [0.2222222222222222, \"#7201a8\"], [0.3333333333333333, \"#9c179e\"], [0.4444444444444444, \"#bd3786\"], [0.5555555555555556, \"#d8576b\"], [0.6666666666666666, \"#ed7953\"], [0.7777777777777778, \"#fb9f3a\"], [0.8888888888888888, \"#fdca26\"], [1.0, \"#f0f921\"]], \"type\": \"contour\"}], \"contourcarpet\": [{\"colorbar\": {\"outlinewidth\": 0, \"ticks\": \"\"}, \"type\": \"contourcarpet\"}], \"heatmap\": [{\"colorbar\": {\"outlinewidth\": 0, \"ticks\": \"\"}, \"colorscale\": [[0.0, \"#0d0887\"], [0.1111111111111111, \"#46039f\"], [0.2222222222222222, \"#7201a8\"], [0.3333333333333333, \"#9c179e\"], [0.4444444444444444, \"#bd3786\"], [0.5555555555555556, \"#d8576b\"], [0.6666666666666666, \"#ed7953\"], [0.7777777777777778, \"#fb9f3a\"], [0.8888888888888888, \"#fdca26\"], [1.0, \"#f0f921\"]], \"type\": \"heatmap\"}], \"heatmapgl\": [{\"colorbar\": {\"outlinewidth\": 0, \"ticks\": \"\"}, \"colorscale\": [[0.0, \"#0d0887\"], [0.1111111111111111, \"#46039f\"], [0.2222222222222222, \"#7201a8\"], [0.3333333333333333, \"#9c179e\"], [0.4444444444444444, \"#bd3786\"], [0.5555555555555556, \"#d8576b\"], [0.6666666666666666, \"#ed7953\"], [0.7777777777777778, \"#fb9f3a\"], [0.8888888888888888, \"#fdca26\"], [1.0, \"#f0f921\"]], \"type\": \"heatmapgl\"}], \"histogram\": [{\"marker\": {\"colorbar\": {\"outlinewidth\": 0, \"ticks\": \"\"}}, \"type\": \"histogram\"}], \"histogram2d\": [{\"colorbar\": {\"outlinewidth\": 0, \"ticks\": \"\"}, \"colorscale\": [[0.0, \"#0d0887\"], [0.1111111111111111, \"#46039f\"], [0.2222222222222222, \"#7201a8\"], [0.3333333333333333, \"#9c179e\"], [0.4444444444444444, \"#bd3786\"], [0.5555555555555556, \"#d8576b\"], [0.6666666666666666, \"#ed7953\"], [0.7777777777777778, \"#fb9f3a\"], [0.8888888888888888, \"#fdca26\"], [1.0, \"#f0f921\"]], \"type\": \"histogram2d\"}], \"histogram2dcontour\": [{\"colorbar\": {\"outlinewidth\": 0, \"ticks\": \"\"}, \"colorscale\": [[0.0, \"#0d0887\"], [0.1111111111111111, \"#46039f\"], [0.2222222222222222, \"#7201a8\"], [0.3333333333333333, \"#9c179e\"], [0.4444444444444444, \"#bd3786\"], [0.5555555555555556, \"#d8576b\"], [0.6666666666666666, \"#ed7953\"], [0.7777777777777778, \"#fb9f3a\"], [0.8888888888888888, \"#fdca26\"], [1.0, \"#f0f921\"]], \"type\": \"histogram2dcontour\"}], \"mesh3d\": [{\"colorbar\": {\"outlinewidth\": 0, \"ticks\": \"\"}, \"type\": \"mesh3d\"}], \"parcoords\": [{\"line\": {\"colorbar\": {\"outlinewidth\": 0, \"ticks\": \"\"}}, \"type\": \"parcoords\"}], \"pie\": [{\"automargin\": true, \"type\": \"pie\"}], \"scatter\": [{\"marker\": {\"colorbar\": {\"outlinewidth\": 0, \"ticks\": \"\"}}, \"type\": \"scatter\"}], \"scatter3d\": [{\"line\": {\"colorbar\": {\"outlinewidth\": 0, \"ticks\": \"\"}}, \"marker\": {\"colorbar\": {\"outlinewidth\": 0, \"ticks\": \"\"}}, \"type\": \"scatter3d\"}], \"scattercarpet\": [{\"marker\": {\"colorbar\": {\"outlinewidth\": 0, \"ticks\": \"\"}}, \"type\": \"scattercarpet\"}], \"scattergeo\": [{\"marker\": {\"colorbar\": {\"outlinewidth\": 0, \"ticks\": \"\"}}, \"type\": \"scattergeo\"}], \"scattergl\": [{\"marker\": {\"colorbar\": {\"outlinewidth\": 0, \"ticks\": \"\"}}, \"type\": \"scattergl\"}], \"scattermapbox\": [{\"marker\": {\"colorbar\": {\"outlinewidth\": 0, \"ticks\": \"\"}}, \"type\": \"scattermapbox\"}], \"scatterpolar\": [{\"marker\": {\"colorbar\": {\"outlinewidth\": 0, \"ticks\": \"\"}}, \"type\": \"scatterpolar\"}], \"scatterpolargl\": [{\"marker\": {\"colorbar\": {\"outlinewidth\": 0, \"ticks\": \"\"}}, \"type\": \"scatterpolargl\"}], \"scatterternary\": [{\"marker\": {\"colorbar\": {\"outlinewidth\": 0, \"ticks\": \"\"}}, \"type\": \"scatterternary\"}], \"surface\": [{\"colorbar\": {\"outlinewidth\": 0, \"ticks\": \"\"}, \"colorscale\": [[0.0, \"#0d0887\"], [0.1111111111111111, \"#46039f\"], [0.2222222222222222, \"#7201a8\"], [0.3333333333333333, \"#9c179e\"], [0.4444444444444444, \"#bd3786\"], [0.5555555555555556, \"#d8576b\"], [0.6666666666666666, \"#ed7953\"], [0.7777777777777778, \"#fb9f3a\"], [0.8888888888888888, \"#fdca26\"], [1.0, \"#f0f921\"]], \"type\": \"surface\"}], \"table\": [{\"cells\": {\"fill\": {\"color\": \"#EBF0F8\"}, \"line\": {\"color\": \"white\"}}, \"header\": {\"fill\": {\"color\": \"#C8D4E3\"}, \"line\": {\"color\": \"white\"}}, \"type\": \"table\"}]}, \"layout\": {\"annotationdefaults\": {\"arrowcolor\": \"#2a3f5f\", \"arrowhead\": 0, \"arrowwidth\": 1}, \"coloraxis\": {\"colorbar\": {\"outlinewidth\": 0, \"ticks\": \"\"}}, \"colorscale\": {\"diverging\": [[0, \"#8e0152\"], [0.1, \"#c51b7d\"], [0.2, \"#de77ae\"], [0.3, \"#f1b6da\"], [0.4, \"#fde0ef\"], [0.5, \"#f7f7f7\"], [0.6, \"#e6f5d0\"], [0.7, \"#b8e186\"], [0.8, \"#7fbc41\"], [0.9, \"#4d9221\"], [1, \"#276419\"]], \"sequential\": [[0.0, \"#0d0887\"], [0.1111111111111111, \"#46039f\"], [0.2222222222222222, \"#7201a8\"], [0.3333333333333333, \"#9c179e\"], [0.4444444444444444, \"#bd3786\"], [0.5555555555555556, \"#d8576b\"], [0.6666666666666666, \"#ed7953\"], [0.7777777777777778, \"#fb9f3a\"], [0.8888888888888888, \"#fdca26\"], [1.0, \"#f0f921\"]], \"sequentialminus\": [[0.0, \"#0d0887\"], [0.1111111111111111, \"#46039f\"], [0.2222222222222222, \"#7201a8\"], [0.3333333333333333, \"#9c179e\"], [0.4444444444444444, \"#bd3786\"], [0.5555555555555556, \"#d8576b\"], [0.6666666666666666, \"#ed7953\"], [0.7777777777777778, \"#fb9f3a\"], [0.8888888888888888, \"#fdca26\"], [1.0, \"#f0f921\"]]}, \"colorway\": [\"#636efa\", \"#EF553B\", \"#00cc96\", \"#ab63fa\", \"#FFA15A\", \"#19d3f3\", \"#FF6692\", \"#B6E880\", \"#FF97FF\", \"#FECB52\"], \"font\": {\"color\": \"#2a3f5f\"}, \"geo\": {\"bgcolor\": \"white\", \"lakecolor\": \"white\", \"landcolor\": \"#E5ECF6\", \"showlakes\": true, \"showland\": true, \"subunitcolor\": \"white\"}, \"hoverlabel\": {\"align\": \"left\"}, \"hovermode\": \"closest\", \"mapbox\": {\"style\": \"light\"}, \"paper_bgcolor\": \"white\", \"plot_bgcolor\": \"#E5ECF6\", \"polar\": {\"angularaxis\": {\"gridcolor\": \"white\", \"linecolor\": \"white\", \"ticks\": \"\"}, \"bgcolor\": \"#E5ECF6\", \"radialaxis\": {\"gridcolor\": \"white\", \"linecolor\": \"white\", \"ticks\": \"\"}}, \"scene\": {\"xaxis\": {\"backgroundcolor\": \"#E5ECF6\", \"gridcolor\": \"white\", \"gridwidth\": 2, \"linecolor\": \"white\", \"showbackground\": true, \"ticks\": \"\", \"zerolinecolor\": \"white\"}, \"yaxis\": {\"backgroundcolor\": \"#E5ECF6\", \"gridcolor\": \"white\", \"gridwidth\": 2, \"linecolor\": \"white\", \"showbackground\": true, \"ticks\": \"\", \"zerolinecolor\": \"white\"}, \"zaxis\": {\"backgroundcolor\": \"#E5ECF6\", \"gridcolor\": \"white\", \"gridwidth\": 2, \"linecolor\": \"white\", \"showbackground\": true, \"ticks\": \"\", \"zerolinecolor\": \"white\"}}, \"shapedefaults\": {\"line\": {\"color\": \"#2a3f5f\"}}, \"ternary\": {\"aaxis\": {\"gridcolor\": \"white\", \"linecolor\": \"white\", \"ticks\": \"\"}, \"baxis\": {\"gridcolor\": \"white\", \"linecolor\": \"white\", \"ticks\": \"\"}, \"bgcolor\": \"#E5ECF6\", \"caxis\": {\"gridcolor\": \"white\", \"linecolor\": \"white\", \"ticks\": \"\"}}, \"title\": {\"x\": 0.05}, \"xaxis\": {\"automargin\": true, \"gridcolor\": \"white\", \"linecolor\": \"white\", \"ticks\": \"\", \"title\": {\"standoff\": 15}, \"zerolinecolor\": \"white\", \"zerolinewidth\": 2}, \"yaxis\": {\"automargin\": true, \"gridcolor\": \"white\", \"linecolor\": \"white\", \"ticks\": \"\", \"title\": {\"standoff\": 15}, \"zerolinecolor\": \"white\", \"zerolinewidth\": 2}}}, \"title\": {\"text\": \"Young's Moduli's on Melting Temperature\"}, \"xaxis\": {\"gridcolor\": \"LightPink\", \"gridwidth\": 1, \"showgrid\": true, \"title\": {\"text\": \"Melting Temperature [K]\"}}, \"yaxis\": {\"gridcolor\": \"LightPink\", \"gridwidth\": 1, \"showgrid\": true, \"title\": {\"text\": \"Youngs Modulus [GPa]\"}}},\n",
       "                        {\"responsive\": true}\n",
       "                    ).then(function(){\n",
       "                            \n",
       "var gd = document.getElementById('820bcd5a-95e9-433a-baa6-d72936b75ee1');\n",
       "var x = new MutationObserver(function (mutations, observer) {{\n",
       "        var display = window.getComputedStyle(gd).display;\n",
       "        if (!display || display === 'none') {{\n",
       "            console.log([gd, 'removed!']);\n",
       "            Plotly.purge(gd);\n",
       "            observer.disconnect();\n",
       "        }}\n",
       "}});\n",
       "\n",
       "// Listen for the removal of the full notebook cells\n",
       "var notebookContainer = gd.closest('#notebook-container');\n",
       "if (notebookContainer) {{\n",
       "    x.observe(notebookContainer, {childList: true});\n",
       "}}\n",
       "\n",
       "// Listen for the clearing of the current output cell\n",
       "var outputEl = gd.closest('.output');\n",
       "if (outputEl) {{\n",
       "    x.observe(outputEl, {childList: true});\n",
       "}}\n",
       "\n",
       "                        })\n",
       "                };\n",
       "                });\n",
       "            </script>\n",
       "        </div>"
      ]
     },
     "metadata": {},
     "output_type": "display_data"
    }
   ],
   "source": [
    "import plotly #This is the library import\n",
    "import plotly.graph_objs as go # This is the graphical object (Think \"plt\" in Matplotlib if you have used that before)\n",
    "\n",
    "from plotly.offline import iplot # These lines are necessary to run Plotly in Jupyter Notebooks, but not in a dedicated environment\n",
    "plotly.offline.init_notebook_mode(connected=True)\n",
    "\n",
    "# To create a plot, you need a layout and a trace\n",
    "\n",
    "# The layout gives Plotly the instructions on the background grids, tiles in the plot, \n",
    "# axes names, axes ticks, legends, labels, colors on the figure and general formatting.\n",
    "\n",
    "layout = go.Layout(title = \"Young's Moduli's on Melting Temperature\",xaxis= dict(title= 'Melting Temperature [K]'), \n",
    "                   yaxis= dict(title= 'Youngs Modulus [GPa]'))\n",
    "\n",
    "# The trace contains a type of plot (In this case, Scatter, but it can be \"Bars, Lines, Pie Charts\", etc.), \n",
    "# the data we want to visualize and the way (\"Mode\") we want to represent it.\n",
    "\n",
    "trace = go.Scatter(x = melting_temperature, y = youngs_modulus, mode = 'markers', marker=dict(size=12,  line= dict(width=1),color='blue'))\n",
    "\n",
    "# To plot, we create a figure and implement our components in the following way:\n",
    "\n",
    "data = [trace] # We could include more than just one trace here\n",
    "\n",
    "fig= go.Figure(data, layout=layout)\n",
    "fig.update_xaxes(showgrid=True, gridwidth=1, gridcolor='LightPink')\n",
    "fig.update_yaxes(showgrid=True, gridwidth=1, gridcolor='LightPink')\n",
    "iplot(fig)"
   ]
  },
  {
   "cell_type": "code",
   "execution_count": 11,
   "metadata": {},
   "outputs": [
    {
     "name": "stdout",
     "output_type": "stream",
     "text": [
      "['green', 'green', 'red', 'orange', 'green', 'green', 'green', 'green', 'green', 'green', 'red', 'orange', 'blue', 'green', 'red', 'green', 'green', 'green', 'red', 'orange', 'orange', 'orange', 'red', 'red', 'red', 'red', 'orange', 'blue', 'blue', 'orange', 'green', 'green', 'green', 'green', 'green', 'green', 'red', 'blue', 'orange', 'orange', 'red', 'red', 'orange', 'orange', 'blue', 'blue', 'blue', 'orange', 'green', 'green', 'green', 'green', 'green', 'green', 'red', 'red', 'orange', 'red', 'red', 'orange', 'orange', 'blue', 'blue', 'blue', 'green', 'orange', 'blue', 'green', 'green', 'green', 'green', 'green', 'green', 'green', 'green', 'green', 'green', 'green', 'green', 'green', 'red', 'orange', 'orange', 'orange', 'orange', 'orange', 'orange', 'blue', 'orange', 'green', 'blue', 'green', 'green', 'green', 'green', 'green', 'green', 'green', 'green', 'green', 'green', 'green', 'green']\n"
     ]
    }
   ],
   "source": [
    "# Here we are creating a function that takes a value X (Which will be the Symbol of the Element) \n",
    "# and returns a color depending on what its crystal structure is in our arrays from the beginning.\n",
    "# That is because we want to color data according to the crystal structure; therefore, we will have to pass this info to the plot\n",
    "\n",
    "def SetColor_CrystalStr(x):\n",
    "    if x in fcc_elements:\n",
    "        return \"blue\" #This are standard CSS colors, but you can also use Hexadecimal Colors (#009900) or RGB \"rgb(0, 128, 0)\"\n",
    "    elif x in bcc_elements:\n",
    "        return \"red\"\n",
    "    elif x in hcp_elements:\n",
    "        return \"orange\"\n",
    "    else:\n",
    "        return \"green\"\n",
    "    \n",
    "# We will then create a list that passes all element symbols through this function. For that we will use the python function \"map\"    \n",
    "# Map takes each element on a list and evaluates it in a function.\n",
    "\n",
    "colors = list(map(SetColor_CrystalStr, sample))\n",
    "\n",
    "# You can see this list of generated colors looks like by uncommenting this line\n",
    "\n",
    "print(colors)"
   ]
  },
  {
   "cell_type": "code",
   "execution_count": 12,
   "metadata": {},
   "outputs": [
    {
     "data": {
      "application/vnd.plotly.v1+json": {
       "config": {
        "linkText": "Export to plot.ly",
        "plotlyServerURL": "https://plot.ly",
        "showLink": false
       },
       "data": [
        {
         "marker": {
          "color": [
           "green",
           "green",
           "red",
           "orange",
           "green",
           "green",
           "green",
           "green",
           "green",
           "green",
           "red",
           "orange",
           "blue",
           "green",
           "red",
           "green",
           "green",
           "green",
           "red",
           "orange",
           "orange",
           "orange",
           "red",
           "red",
           "red",
           "red",
           "orange",
           "blue",
           "blue",
           "orange",
           "green",
           "green",
           "green",
           "green",
           "green",
           "green",
           "red",
           "blue",
           "orange",
           "orange",
           "red",
           "red",
           "orange",
           "orange",
           "blue",
           "blue",
           "blue",
           "orange",
           "green",
           "green",
           "green",
           "green",
           "green",
           "green",
           "red",
           "red",
           "orange",
           "red",
           "red",
           "orange",
           "orange",
           "blue",
           "blue",
           "blue",
           "green",
           "orange",
           "blue",
           "green",
           "green",
           "green",
           "green",
           "green",
           "green",
           "green",
           "green",
           "green",
           "green",
           "green",
           "green",
           "green",
           "red",
           "orange",
           "orange",
           "orange",
           "orange",
           "orange",
           "orange",
           "blue",
           "orange",
           "green",
           "blue",
           "green",
           "green",
           "green",
           "green",
           "green",
           "green",
           "green",
           "green",
           "green",
           "green",
           "green",
           "green"
          ],
          "line": {
           "width": 1
          },
          "size": 18
         },
         "mode": "markers",
         "showlegend": false,
         "text": [
          "H",
          "He",
          "Li",
          "Be",
          "B",
          "C",
          "N",
          "O",
          "F",
          "Ne",
          "Na",
          "Mg",
          "Al",
          "Si",
          "P",
          "S",
          "Cl",
          "Ar",
          "K",
          "Ca",
          "Sc",
          "Ti",
          "V",
          "Cr",
          "Mn",
          "Fe",
          "Co",
          "Ni",
          "Cu",
          "Zn",
          "Ga",
          "Ge",
          "As",
          "Se",
          "Br",
          "Kr",
          "Rb",
          "Sr",
          "Y",
          "Zr",
          "Nb",
          "Mo",
          "Tc",
          "Ru",
          "Rh",
          "Pd",
          "Ag",
          "Cd",
          "In",
          "Sn",
          "Sb",
          "Te",
          "I",
          "Xe",
          "Cs",
          "Ba",
          "Hf",
          "Ta",
          "W",
          "Re",
          "Os",
          "Ir",
          "Pt",
          "Au",
          "Hg",
          "Tl",
          "Pb",
          "Bi",
          "Po",
          "At",
          "Rn",
          "Fr",
          "Ra",
          "Lr",
          "La",
          "Ce",
          "Pr",
          "Nd",
          "Pm",
          "Sm",
          "Eu",
          "Gd",
          "Tb",
          "Dy",
          "Ho",
          "Er",
          "Tm",
          "Yb",
          "Lu",
          "Ac",
          "Th",
          "Pa",
          "U",
          "Np",
          "Pu",
          "Am",
          "Cm",
          "Bk",
          "Cf",
          "Es",
          "Fm",
          "Md",
          "No"
         ],
         "type": "scatter",
         "x": [
          14.01,
          0.95,
          453.69,
          1560,
          2349,
          3800,
          63.05,
          54.8,
          53.53,
          24.56,
          370.87,
          923,
          933.47,
          1687,
          317.3,
          388.36,
          171.6,
          83.8,
          336.53,
          1115,
          1814,
          1941,
          2183,
          2180,
          1519,
          1811,
          1768,
          1728,
          1357.77,
          692.68,
          302.91,
          1211.4,
          1090,
          494,
          265.8,
          115.79,
          312.46,
          1050,
          1799,
          2128,
          2750,
          2896,
          2430,
          2607,
          2237,
          1828.05,
          1234.93,
          594.22,
          429.75,
          505.08,
          903.78,
          722.66,
          386.85,
          161.4,
          301.59,
          1000,
          2506,
          3290,
          3695,
          3459,
          3306,
          2739,
          2041.4,
          1337.33,
          234.32,
          577,
          600.61,
          544.4,
          527,
          575,
          202,
          "maybe about 300 K",
          973,
          1900,
          1193,
          1068,
          1208,
          1297,
          1373,
          1345,
          1099,
          1585,
          1629,
          1680,
          1734,
          1802,
          1818,
          1097,
          1925,
          1323,
          2115,
          1841,
          1405.3,
          910,
          912.5,
          1449,
          1613,
          1259,
          1173,
          1133,
          1800,
          1100,
          1100
         ],
         "y": [
          null,
          null,
          4.9,
          287,
          null,
          null,
          null,
          null,
          null,
          null,
          10,
          45,
          70,
          47,
          null,
          null,
          null,
          null,
          null,
          20,
          74,
          116,
          128,
          279,
          198,
          211,
          209,
          200,
          130,
          108,
          null,
          null,
          8,
          10,
          null,
          null,
          2.4,
          null,
          64,
          68,
          105,
          329,
          null,
          447,
          275,
          121,
          83,
          50,
          11,
          50,
          55,
          43,
          null,
          null,
          1.7,
          13,
          78,
          186,
          411,
          463,
          null,
          528,
          168,
          78,
          null,
          8,
          16,
          32,
          null,
          null,
          null,
          null,
          null,
          null,
          37,
          34,
          37,
          41,
          46,
          50,
          18,
          55,
          56,
          61,
          65,
          70,
          74,
          24,
          69,
          null,
          79,
          null,
          208,
          null,
          96,
          null,
          null,
          null,
          null,
          null,
          null,
          null,
          null
         ]
        },
        {
         "marker": {
          "color": "blue",
          "line": {
           "width": 1
          },
          "size": 18
         },
         "mode": "markers",
         "name": "FCC",
         "type": "scatter",
         "x": [
          null
         ],
         "y": [
          null
         ]
        },
        {
         "marker": {
          "color": "red",
          "line": {
           "width": 1
          },
          "size": 18
         },
         "mode": "markers",
         "name": "BCC",
         "type": "scatter",
         "x": [
          null
         ],
         "y": [
          null
         ]
        },
        {
         "marker": {
          "color": "orange",
          "line": {
           "width": 1
          },
          "size": 18
         },
         "mode": "markers",
         "name": "HCP",
         "type": "scatter",
         "x": [
          null
         ],
         "y": [
          null
         ]
        },
        {
         "marker": {
          "color": "green",
          "line": {
           "width": 1
          },
          "size": 18
         },
         "mode": "markers",
         "name": "Other",
         "type": "scatter",
         "x": [
          null
         ],
         "y": [
          null
         ]
        }
       ],
       "layout": {
        "font": {
         "family": "Arial"
        },
        "height": 800,
        "hovermode": "closest",
        "legend": {
         "font": {
          "size": 24
         }
        },
        "showlegend": true,
        "template": {
         "data": {
          "bar": [
           {
            "error_x": {
             "color": "#2a3f5f"
            },
            "error_y": {
             "color": "#2a3f5f"
            },
            "marker": {
             "line": {
              "color": "#E5ECF6",
              "width": 0.5
             }
            },
            "type": "bar"
           }
          ],
          "barpolar": [
           {
            "marker": {
             "line": {
              "color": "#E5ECF6",
              "width": 0.5
             }
            },
            "type": "barpolar"
           }
          ],
          "carpet": [
           {
            "aaxis": {
             "endlinecolor": "#2a3f5f",
             "gridcolor": "white",
             "linecolor": "white",
             "minorgridcolor": "white",
             "startlinecolor": "#2a3f5f"
            },
            "baxis": {
             "endlinecolor": "#2a3f5f",
             "gridcolor": "white",
             "linecolor": "white",
             "minorgridcolor": "white",
             "startlinecolor": "#2a3f5f"
            },
            "type": "carpet"
           }
          ],
          "choropleth": [
           {
            "colorbar": {
             "outlinewidth": 0,
             "ticks": ""
            },
            "type": "choropleth"
           }
          ],
          "contour": [
           {
            "colorbar": {
             "outlinewidth": 0,
             "ticks": ""
            },
            "colorscale": [
             [
              0,
              "#0d0887"
             ],
             [
              0.1111111111111111,
              "#46039f"
             ],
             [
              0.2222222222222222,
              "#7201a8"
             ],
             [
              0.3333333333333333,
              "#9c179e"
             ],
             [
              0.4444444444444444,
              "#bd3786"
             ],
             [
              0.5555555555555556,
              "#d8576b"
             ],
             [
              0.6666666666666666,
              "#ed7953"
             ],
             [
              0.7777777777777778,
              "#fb9f3a"
             ],
             [
              0.8888888888888888,
              "#fdca26"
             ],
             [
              1,
              "#f0f921"
             ]
            ],
            "type": "contour"
           }
          ],
          "contourcarpet": [
           {
            "colorbar": {
             "outlinewidth": 0,
             "ticks": ""
            },
            "type": "contourcarpet"
           }
          ],
          "heatmap": [
           {
            "colorbar": {
             "outlinewidth": 0,
             "ticks": ""
            },
            "colorscale": [
             [
              0,
              "#0d0887"
             ],
             [
              0.1111111111111111,
              "#46039f"
             ],
             [
              0.2222222222222222,
              "#7201a8"
             ],
             [
              0.3333333333333333,
              "#9c179e"
             ],
             [
              0.4444444444444444,
              "#bd3786"
             ],
             [
              0.5555555555555556,
              "#d8576b"
             ],
             [
              0.6666666666666666,
              "#ed7953"
             ],
             [
              0.7777777777777778,
              "#fb9f3a"
             ],
             [
              0.8888888888888888,
              "#fdca26"
             ],
             [
              1,
              "#f0f921"
             ]
            ],
            "type": "heatmap"
           }
          ],
          "heatmapgl": [
           {
            "colorbar": {
             "outlinewidth": 0,
             "ticks": ""
            },
            "colorscale": [
             [
              0,
              "#0d0887"
             ],
             [
              0.1111111111111111,
              "#46039f"
             ],
             [
              0.2222222222222222,
              "#7201a8"
             ],
             [
              0.3333333333333333,
              "#9c179e"
             ],
             [
              0.4444444444444444,
              "#bd3786"
             ],
             [
              0.5555555555555556,
              "#d8576b"
             ],
             [
              0.6666666666666666,
              "#ed7953"
             ],
             [
              0.7777777777777778,
              "#fb9f3a"
             ],
             [
              0.8888888888888888,
              "#fdca26"
             ],
             [
              1,
              "#f0f921"
             ]
            ],
            "type": "heatmapgl"
           }
          ],
          "histogram": [
           {
            "marker": {
             "colorbar": {
              "outlinewidth": 0,
              "ticks": ""
             }
            },
            "type": "histogram"
           }
          ],
          "histogram2d": [
           {
            "colorbar": {
             "outlinewidth": 0,
             "ticks": ""
            },
            "colorscale": [
             [
              0,
              "#0d0887"
             ],
             [
              0.1111111111111111,
              "#46039f"
             ],
             [
              0.2222222222222222,
              "#7201a8"
             ],
             [
              0.3333333333333333,
              "#9c179e"
             ],
             [
              0.4444444444444444,
              "#bd3786"
             ],
             [
              0.5555555555555556,
              "#d8576b"
             ],
             [
              0.6666666666666666,
              "#ed7953"
             ],
             [
              0.7777777777777778,
              "#fb9f3a"
             ],
             [
              0.8888888888888888,
              "#fdca26"
             ],
             [
              1,
              "#f0f921"
             ]
            ],
            "type": "histogram2d"
           }
          ],
          "histogram2dcontour": [
           {
            "colorbar": {
             "outlinewidth": 0,
             "ticks": ""
            },
            "colorscale": [
             [
              0,
              "#0d0887"
             ],
             [
              0.1111111111111111,
              "#46039f"
             ],
             [
              0.2222222222222222,
              "#7201a8"
             ],
             [
              0.3333333333333333,
              "#9c179e"
             ],
             [
              0.4444444444444444,
              "#bd3786"
             ],
             [
              0.5555555555555556,
              "#d8576b"
             ],
             [
              0.6666666666666666,
              "#ed7953"
             ],
             [
              0.7777777777777778,
              "#fb9f3a"
             ],
             [
              0.8888888888888888,
              "#fdca26"
             ],
             [
              1,
              "#f0f921"
             ]
            ],
            "type": "histogram2dcontour"
           }
          ],
          "mesh3d": [
           {
            "colorbar": {
             "outlinewidth": 0,
             "ticks": ""
            },
            "type": "mesh3d"
           }
          ],
          "parcoords": [
           {
            "line": {
             "colorbar": {
              "outlinewidth": 0,
              "ticks": ""
             }
            },
            "type": "parcoords"
           }
          ],
          "pie": [
           {
            "automargin": true,
            "type": "pie"
           }
          ],
          "scatter": [
           {
            "marker": {
             "colorbar": {
              "outlinewidth": 0,
              "ticks": ""
             }
            },
            "type": "scatter"
           }
          ],
          "scatter3d": [
           {
            "line": {
             "colorbar": {
              "outlinewidth": 0,
              "ticks": ""
             }
            },
            "marker": {
             "colorbar": {
              "outlinewidth": 0,
              "ticks": ""
             }
            },
            "type": "scatter3d"
           }
          ],
          "scattercarpet": [
           {
            "marker": {
             "colorbar": {
              "outlinewidth": 0,
              "ticks": ""
             }
            },
            "type": "scattercarpet"
           }
          ],
          "scattergeo": [
           {
            "marker": {
             "colorbar": {
              "outlinewidth": 0,
              "ticks": ""
             }
            },
            "type": "scattergeo"
           }
          ],
          "scattergl": [
           {
            "marker": {
             "colorbar": {
              "outlinewidth": 0,
              "ticks": ""
             }
            },
            "type": "scattergl"
           }
          ],
          "scattermapbox": [
           {
            "marker": {
             "colorbar": {
              "outlinewidth": 0,
              "ticks": ""
             }
            },
            "type": "scattermapbox"
           }
          ],
          "scatterpolar": [
           {
            "marker": {
             "colorbar": {
              "outlinewidth": 0,
              "ticks": ""
             }
            },
            "type": "scatterpolar"
           }
          ],
          "scatterpolargl": [
           {
            "marker": {
             "colorbar": {
              "outlinewidth": 0,
              "ticks": ""
             }
            },
            "type": "scatterpolargl"
           }
          ],
          "scatterternary": [
           {
            "marker": {
             "colorbar": {
              "outlinewidth": 0,
              "ticks": ""
             }
            },
            "type": "scatterternary"
           }
          ],
          "surface": [
           {
            "colorbar": {
             "outlinewidth": 0,
             "ticks": ""
            },
            "colorscale": [
             [
              0,
              "#0d0887"
             ],
             [
              0.1111111111111111,
              "#46039f"
             ],
             [
              0.2222222222222222,
              "#7201a8"
             ],
             [
              0.3333333333333333,
              "#9c179e"
             ],
             [
              0.4444444444444444,
              "#bd3786"
             ],
             [
              0.5555555555555556,
              "#d8576b"
             ],
             [
              0.6666666666666666,
              "#ed7953"
             ],
             [
              0.7777777777777778,
              "#fb9f3a"
             ],
             [
              0.8888888888888888,
              "#fdca26"
             ],
             [
              1,
              "#f0f921"
             ]
            ],
            "type": "surface"
           }
          ],
          "table": [
           {
            "cells": {
             "fill": {
              "color": "#EBF0F8"
             },
             "line": {
              "color": "white"
             }
            },
            "header": {
             "fill": {
              "color": "#C8D4E3"
             },
             "line": {
              "color": "white"
             }
            },
            "type": "table"
           }
          ]
         },
         "layout": {
          "annotationdefaults": {
           "arrowcolor": "#2a3f5f",
           "arrowhead": 0,
           "arrowwidth": 1
          },
          "coloraxis": {
           "colorbar": {
            "outlinewidth": 0,
            "ticks": ""
           }
          },
          "colorscale": {
           "diverging": [
            [
             0,
             "#8e0152"
            ],
            [
             0.1,
             "#c51b7d"
            ],
            [
             0.2,
             "#de77ae"
            ],
            [
             0.3,
             "#f1b6da"
            ],
            [
             0.4,
             "#fde0ef"
            ],
            [
             0.5,
             "#f7f7f7"
            ],
            [
             0.6,
             "#e6f5d0"
            ],
            [
             0.7,
             "#b8e186"
            ],
            [
             0.8,
             "#7fbc41"
            ],
            [
             0.9,
             "#4d9221"
            ],
            [
             1,
             "#276419"
            ]
           ],
           "sequential": [
            [
             0,
             "#0d0887"
            ],
            [
             0.1111111111111111,
             "#46039f"
            ],
            [
             0.2222222222222222,
             "#7201a8"
            ],
            [
             0.3333333333333333,
             "#9c179e"
            ],
            [
             0.4444444444444444,
             "#bd3786"
            ],
            [
             0.5555555555555556,
             "#d8576b"
            ],
            [
             0.6666666666666666,
             "#ed7953"
            ],
            [
             0.7777777777777778,
             "#fb9f3a"
            ],
            [
             0.8888888888888888,
             "#fdca26"
            ],
            [
             1,
             "#f0f921"
            ]
           ],
           "sequentialminus": [
            [
             0,
             "#0d0887"
            ],
            [
             0.1111111111111111,
             "#46039f"
            ],
            [
             0.2222222222222222,
             "#7201a8"
            ],
            [
             0.3333333333333333,
             "#9c179e"
            ],
            [
             0.4444444444444444,
             "#bd3786"
            ],
            [
             0.5555555555555556,
             "#d8576b"
            ],
            [
             0.6666666666666666,
             "#ed7953"
            ],
            [
             0.7777777777777778,
             "#fb9f3a"
            ],
            [
             0.8888888888888888,
             "#fdca26"
            ],
            [
             1,
             "#f0f921"
            ]
           ]
          },
          "colorway": [
           "#636efa",
           "#EF553B",
           "#00cc96",
           "#ab63fa",
           "#FFA15A",
           "#19d3f3",
           "#FF6692",
           "#B6E880",
           "#FF97FF",
           "#FECB52"
          ],
          "font": {
           "color": "#2a3f5f"
          },
          "geo": {
           "bgcolor": "white",
           "lakecolor": "white",
           "landcolor": "#E5ECF6",
           "showlakes": true,
           "showland": true,
           "subunitcolor": "white"
          },
          "hoverlabel": {
           "align": "left"
          },
          "hovermode": "closest",
          "mapbox": {
           "style": "light"
          },
          "paper_bgcolor": "white",
          "plot_bgcolor": "#E5ECF6",
          "polar": {
           "angularaxis": {
            "gridcolor": "white",
            "linecolor": "white",
            "ticks": ""
           },
           "bgcolor": "#E5ECF6",
           "radialaxis": {
            "gridcolor": "white",
            "linecolor": "white",
            "ticks": ""
           }
          },
          "scene": {
           "xaxis": {
            "backgroundcolor": "#E5ECF6",
            "gridcolor": "white",
            "gridwidth": 2,
            "linecolor": "white",
            "showbackground": true,
            "ticks": "",
            "zerolinecolor": "white"
           },
           "yaxis": {
            "backgroundcolor": "#E5ECF6",
            "gridcolor": "white",
            "gridwidth": 2,
            "linecolor": "white",
            "showbackground": true,
            "ticks": "",
            "zerolinecolor": "white"
           },
           "zaxis": {
            "backgroundcolor": "#E5ECF6",
            "gridcolor": "white",
            "gridwidth": 2,
            "linecolor": "white",
            "showbackground": true,
            "ticks": "",
            "zerolinecolor": "white"
           }
          },
          "shapedefaults": {
           "line": {
            "color": "#2a3f5f"
           }
          },
          "ternary": {
           "aaxis": {
            "gridcolor": "white",
            "linecolor": "white",
            "ticks": ""
           },
           "baxis": {
            "gridcolor": "white",
            "linecolor": "white",
            "ticks": ""
           },
           "bgcolor": "#E5ECF6",
           "caxis": {
            "gridcolor": "white",
            "linecolor": "white",
            "ticks": ""
           }
          },
          "title": {
           "x": 0.05
          },
          "xaxis": {
           "automargin": true,
           "gridcolor": "white",
           "linecolor": "white",
           "ticks": "",
           "title": {
            "standoff": 15
           },
           "zerolinecolor": "white",
           "zerolinewidth": 2
          },
          "yaxis": {
           "automargin": true,
           "gridcolor": "white",
           "linecolor": "white",
           "ticks": "",
           "title": {
            "standoff": 15
           },
           "zerolinecolor": "white",
           "zerolinewidth": 2
          }
         }
        },
        "title": {
         "font": {
          "color": "Black",
          "size": 38
         },
         "text": "Young's Moduli's on Melting Temperature"
        },
        "width": 800,
        "xaxis": {
         "gridwidth": 1.5,
         "tickfont": {
          "size": 24
         },
         "title": {
          "font": {
           "size": 36
          },
          "text": "Melting Temperature [K]"
         },
         "zeroline": true
        },
        "yaxis": {
         "gridwidth": 1.5,
         "tickfont": {
          "size": 24
         },
         "title": {
          "font": {
           "size": 36
          },
          "text": "Young's Modulus [GPa]"
         },
         "zeroline": true
        }
       }
      },
      "text/html": [
       "<div>\n",
       "        \n",
       "        \n",
       "            <div id=\"d838bfd3-93a3-4b45-8c67-f7d5c039328a\" class=\"plotly-graph-div\" style=\"height:800px; width:800px;\"></div>\n",
       "            <script type=\"text/javascript\">\n",
       "                require([\"plotly\"], function(Plotly) {\n",
       "                    window.PLOTLYENV=window.PLOTLYENV || {};\n",
       "                    \n",
       "                if (document.getElementById(\"d838bfd3-93a3-4b45-8c67-f7d5c039328a\")) {\n",
       "                    Plotly.newPlot(\n",
       "                        'd838bfd3-93a3-4b45-8c67-f7d5c039328a',\n",
       "                        [{\"marker\": {\"color\": [\"green\", \"green\", \"red\", \"orange\", \"green\", \"green\", \"green\", \"green\", \"green\", \"green\", \"red\", \"orange\", \"blue\", \"green\", \"red\", \"green\", \"green\", \"green\", \"red\", \"orange\", \"orange\", \"orange\", \"red\", \"red\", \"red\", \"red\", \"orange\", \"blue\", \"blue\", \"orange\", \"green\", \"green\", \"green\", \"green\", \"green\", \"green\", \"red\", \"blue\", \"orange\", \"orange\", \"red\", \"red\", \"orange\", \"orange\", \"blue\", \"blue\", \"blue\", \"orange\", \"green\", \"green\", \"green\", \"green\", \"green\", \"green\", \"red\", \"red\", \"orange\", \"red\", \"red\", \"orange\", \"orange\", \"blue\", \"blue\", \"blue\", \"green\", \"orange\", \"blue\", \"green\", \"green\", \"green\", \"green\", \"green\", \"green\", \"green\", \"green\", \"green\", \"green\", \"green\", \"green\", \"green\", \"red\", \"orange\", \"orange\", \"orange\", \"orange\", \"orange\", \"orange\", \"blue\", \"orange\", \"green\", \"blue\", \"green\", \"green\", \"green\", \"green\", \"green\", \"green\", \"green\", \"green\", \"green\", \"green\", \"green\", \"green\"], \"line\": {\"width\": 1}, \"size\": 18}, \"mode\": \"markers\", \"showlegend\": false, \"text\": [\"H\", \"He\", \"Li\", \"Be\", \"B\", \"C\", \"N\", \"O\", \"F\", \"Ne\", \"Na\", \"Mg\", \"Al\", \"Si\", \"P\", \"S\", \"Cl\", \"Ar\", \"K\", \"Ca\", \"Sc\", \"Ti\", \"V\", \"Cr\", \"Mn\", \"Fe\", \"Co\", \"Ni\", \"Cu\", \"Zn\", \"Ga\", \"Ge\", \"As\", \"Se\", \"Br\", \"Kr\", \"Rb\", \"Sr\", \"Y\", \"Zr\", \"Nb\", \"Mo\", \"Tc\", \"Ru\", \"Rh\", \"Pd\", \"Ag\", \"Cd\", \"In\", \"Sn\", \"Sb\", \"Te\", \"I\", \"Xe\", \"Cs\", \"Ba\", \"Hf\", \"Ta\", \"W\", \"Re\", \"Os\", \"Ir\", \"Pt\", \"Au\", \"Hg\", \"Tl\", \"Pb\", \"Bi\", \"Po\", \"At\", \"Rn\", \"Fr\", \"Ra\", \"Lr\", \"La\", \"Ce\", \"Pr\", \"Nd\", \"Pm\", \"Sm\", \"Eu\", \"Gd\", \"Tb\", \"Dy\", \"Ho\", \"Er\", \"Tm\", \"Yb\", \"Lu\", \"Ac\", \"Th\", \"Pa\", \"U\", \"Np\", \"Pu\", \"Am\", \"Cm\", \"Bk\", \"Cf\", \"Es\", \"Fm\", \"Md\", \"No\"], \"type\": \"scatter\", \"x\": [14.01, 0.95, 453.69, 1560.0, 2349.0, 3800.0, 63.05, 54.8, 53.53, 24.56, 370.87, 923.0, 933.47, 1687.0, 317.3, 388.36, 171.6, 83.8, 336.53, 1115.0, 1814.0, 1941.0, 2183.0, 2180.0, 1519.0, 1811.0, 1768.0, 1728.0, 1357.77, 692.68, 302.91, 1211.4, 1090.0, 494.0, 265.8, 115.79, 312.46, 1050.0, 1799.0, 2128.0, 2750.0, 2896.0, 2430.0, 2607.0, 2237.0, 1828.05, 1234.93, 594.22, 429.75, 505.08, 903.78, 722.66, 386.85, 161.4, 301.59, 1000.0, 2506.0, 3290.0, 3695.0, 3459.0, 3306.0, 2739.0, 2041.4, 1337.33, 234.32, 577.0, 600.61, 544.4, 527.0, 575.0, 202.0, \"maybe about 300 K\", 973.0, 1900.0, 1193.0, 1068.0, 1208.0, 1297.0, 1373.0, 1345.0, 1099.0, 1585.0, 1629.0, 1680.0, 1734.0, 1802.0, 1818.0, 1097.0, 1925.0, 1323.0, 2115.0, 1841.0, 1405.3, 910.0, 912.5, 1449.0, 1613.0, 1259.0, 1173.0, 1133.0, 1800.0, 1100.0, 1100.0], \"y\": [null, null, 4.9, 287.0, null, null, null, null, null, null, 10.0, 45.0, 70.0, 47.0, null, null, null, null, null, 20.0, 74.0, 116.0, 128.0, 279.0, 198.0, 211.0, 209.0, 200.0, 130.0, 108.0, null, null, 8.0, 10.0, null, null, 2.4, null, 64.0, 68.0, 105.0, 329.0, null, 447.0, 275.0, 121.0, 83.0, 50.0, 11.0, 50.0, 55.0, 43.0, null, null, 1.7, 13.0, 78.0, 186.0, 411.0, 463.0, null, 528.0, 168.0, 78.0, null, 8.0, 16.0, 32.0, null, null, null, null, null, null, 37.0, 34.0, 37.0, 41.0, 46.0, 50.0, 18.0, 55.0, 56.0, 61.0, 65.0, 70.0, 74.0, 24.0, 69.0, null, 79.0, null, 208.0, null, 96.0, null, null, null, null, null, null, null, null]}, {\"marker\": {\"color\": \"blue\", \"line\": {\"width\": 1}, \"size\": 18}, \"mode\": \"markers\", \"name\": \"FCC\", \"type\": \"scatter\", \"x\": [null], \"y\": [null]}, {\"marker\": {\"color\": \"red\", \"line\": {\"width\": 1}, \"size\": 18}, \"mode\": \"markers\", \"name\": \"BCC\", \"type\": \"scatter\", \"x\": [null], \"y\": [null]}, {\"marker\": {\"color\": \"orange\", \"line\": {\"width\": 1}, \"size\": 18}, \"mode\": \"markers\", \"name\": \"HCP\", \"type\": \"scatter\", \"x\": [null], \"y\": [null]}, {\"marker\": {\"color\": \"green\", \"line\": {\"width\": 1}, \"size\": 18}, \"mode\": \"markers\", \"name\": \"Other\", \"type\": \"scatter\", \"x\": [null], \"y\": [null]}],\n",
       "                        {\"font\": {\"family\": \"Arial\"}, \"height\": 800, \"hovermode\": \"closest\", \"legend\": {\"font\": {\"size\": 24}}, \"showlegend\": true, \"template\": {\"data\": {\"bar\": [{\"error_x\": {\"color\": \"#2a3f5f\"}, \"error_y\": {\"color\": \"#2a3f5f\"}, \"marker\": {\"line\": {\"color\": \"#E5ECF6\", \"width\": 0.5}}, \"type\": \"bar\"}], \"barpolar\": [{\"marker\": {\"line\": {\"color\": \"#E5ECF6\", \"width\": 0.5}}, \"type\": \"barpolar\"}], \"carpet\": [{\"aaxis\": {\"endlinecolor\": \"#2a3f5f\", \"gridcolor\": \"white\", \"linecolor\": \"white\", \"minorgridcolor\": \"white\", \"startlinecolor\": \"#2a3f5f\"}, \"baxis\": {\"endlinecolor\": \"#2a3f5f\", \"gridcolor\": \"white\", \"linecolor\": \"white\", \"minorgridcolor\": \"white\", \"startlinecolor\": \"#2a3f5f\"}, \"type\": \"carpet\"}], \"choropleth\": [{\"colorbar\": {\"outlinewidth\": 0, \"ticks\": \"\"}, \"type\": \"choropleth\"}], \"contour\": [{\"colorbar\": {\"outlinewidth\": 0, \"ticks\": \"\"}, \"colorscale\": [[0.0, \"#0d0887\"], [0.1111111111111111, \"#46039f\"], [0.2222222222222222, \"#7201a8\"], [0.3333333333333333, \"#9c179e\"], [0.4444444444444444, \"#bd3786\"], [0.5555555555555556, \"#d8576b\"], [0.6666666666666666, \"#ed7953\"], [0.7777777777777778, \"#fb9f3a\"], [0.8888888888888888, \"#fdca26\"], [1.0, \"#f0f921\"]], \"type\": \"contour\"}], \"contourcarpet\": [{\"colorbar\": {\"outlinewidth\": 0, \"ticks\": \"\"}, \"type\": \"contourcarpet\"}], \"heatmap\": [{\"colorbar\": {\"outlinewidth\": 0, \"ticks\": \"\"}, \"colorscale\": [[0.0, \"#0d0887\"], [0.1111111111111111, \"#46039f\"], [0.2222222222222222, \"#7201a8\"], [0.3333333333333333, \"#9c179e\"], [0.4444444444444444, \"#bd3786\"], [0.5555555555555556, \"#d8576b\"], [0.6666666666666666, \"#ed7953\"], [0.7777777777777778, \"#fb9f3a\"], [0.8888888888888888, \"#fdca26\"], [1.0, \"#f0f921\"]], \"type\": \"heatmap\"}], \"heatmapgl\": [{\"colorbar\": {\"outlinewidth\": 0, \"ticks\": \"\"}, \"colorscale\": [[0.0, \"#0d0887\"], [0.1111111111111111, \"#46039f\"], [0.2222222222222222, \"#7201a8\"], [0.3333333333333333, \"#9c179e\"], [0.4444444444444444, \"#bd3786\"], [0.5555555555555556, \"#d8576b\"], [0.6666666666666666, \"#ed7953\"], [0.7777777777777778, \"#fb9f3a\"], [0.8888888888888888, \"#fdca26\"], [1.0, \"#f0f921\"]], \"type\": \"heatmapgl\"}], \"histogram\": [{\"marker\": {\"colorbar\": {\"outlinewidth\": 0, \"ticks\": \"\"}}, \"type\": \"histogram\"}], \"histogram2d\": [{\"colorbar\": {\"outlinewidth\": 0, \"ticks\": \"\"}, \"colorscale\": [[0.0, \"#0d0887\"], [0.1111111111111111, \"#46039f\"], [0.2222222222222222, \"#7201a8\"], [0.3333333333333333, \"#9c179e\"], [0.4444444444444444, \"#bd3786\"], [0.5555555555555556, \"#d8576b\"], [0.6666666666666666, \"#ed7953\"], [0.7777777777777778, \"#fb9f3a\"], [0.8888888888888888, \"#fdca26\"], [1.0, \"#f0f921\"]], \"type\": \"histogram2d\"}], \"histogram2dcontour\": [{\"colorbar\": {\"outlinewidth\": 0, \"ticks\": \"\"}, \"colorscale\": [[0.0, \"#0d0887\"], [0.1111111111111111, \"#46039f\"], [0.2222222222222222, \"#7201a8\"], [0.3333333333333333, \"#9c179e\"], [0.4444444444444444, \"#bd3786\"], [0.5555555555555556, \"#d8576b\"], [0.6666666666666666, \"#ed7953\"], [0.7777777777777778, \"#fb9f3a\"], [0.8888888888888888, \"#fdca26\"], [1.0, \"#f0f921\"]], \"type\": \"histogram2dcontour\"}], \"mesh3d\": [{\"colorbar\": {\"outlinewidth\": 0, \"ticks\": \"\"}, \"type\": \"mesh3d\"}], \"parcoords\": [{\"line\": {\"colorbar\": {\"outlinewidth\": 0, \"ticks\": \"\"}}, \"type\": \"parcoords\"}], \"pie\": [{\"automargin\": true, \"type\": \"pie\"}], \"scatter\": [{\"marker\": {\"colorbar\": {\"outlinewidth\": 0, \"ticks\": \"\"}}, \"type\": \"scatter\"}], \"scatter3d\": [{\"line\": {\"colorbar\": {\"outlinewidth\": 0, \"ticks\": \"\"}}, \"marker\": {\"colorbar\": {\"outlinewidth\": 0, \"ticks\": \"\"}}, \"type\": \"scatter3d\"}], \"scattercarpet\": [{\"marker\": {\"colorbar\": {\"outlinewidth\": 0, \"ticks\": \"\"}}, \"type\": \"scattercarpet\"}], \"scattergeo\": [{\"marker\": {\"colorbar\": {\"outlinewidth\": 0, \"ticks\": \"\"}}, \"type\": \"scattergeo\"}], \"scattergl\": [{\"marker\": {\"colorbar\": {\"outlinewidth\": 0, \"ticks\": \"\"}}, \"type\": \"scattergl\"}], \"scattermapbox\": [{\"marker\": {\"colorbar\": {\"outlinewidth\": 0, \"ticks\": \"\"}}, \"type\": \"scattermapbox\"}], \"scatterpolar\": [{\"marker\": {\"colorbar\": {\"outlinewidth\": 0, \"ticks\": \"\"}}, \"type\": \"scatterpolar\"}], \"scatterpolargl\": [{\"marker\": {\"colorbar\": {\"outlinewidth\": 0, \"ticks\": \"\"}}, \"type\": \"scatterpolargl\"}], \"scatterternary\": [{\"marker\": {\"colorbar\": {\"outlinewidth\": 0, \"ticks\": \"\"}}, \"type\": \"scatterternary\"}], \"surface\": [{\"colorbar\": {\"outlinewidth\": 0, \"ticks\": \"\"}, \"colorscale\": [[0.0, \"#0d0887\"], [0.1111111111111111, \"#46039f\"], [0.2222222222222222, \"#7201a8\"], [0.3333333333333333, \"#9c179e\"], [0.4444444444444444, \"#bd3786\"], [0.5555555555555556, \"#d8576b\"], [0.6666666666666666, \"#ed7953\"], [0.7777777777777778, \"#fb9f3a\"], [0.8888888888888888, \"#fdca26\"], [1.0, \"#f0f921\"]], \"type\": \"surface\"}], \"table\": [{\"cells\": {\"fill\": {\"color\": \"#EBF0F8\"}, \"line\": {\"color\": \"white\"}}, \"header\": {\"fill\": {\"color\": \"#C8D4E3\"}, \"line\": {\"color\": \"white\"}}, \"type\": \"table\"}]}, \"layout\": {\"annotationdefaults\": {\"arrowcolor\": \"#2a3f5f\", \"arrowhead\": 0, \"arrowwidth\": 1}, \"coloraxis\": {\"colorbar\": {\"outlinewidth\": 0, \"ticks\": \"\"}}, \"colorscale\": {\"diverging\": [[0, \"#8e0152\"], [0.1, \"#c51b7d\"], [0.2, \"#de77ae\"], [0.3, \"#f1b6da\"], [0.4, \"#fde0ef\"], [0.5, \"#f7f7f7\"], [0.6, \"#e6f5d0\"], [0.7, \"#b8e186\"], [0.8, \"#7fbc41\"], [0.9, \"#4d9221\"], [1, \"#276419\"]], \"sequential\": [[0.0, \"#0d0887\"], [0.1111111111111111, \"#46039f\"], [0.2222222222222222, \"#7201a8\"], [0.3333333333333333, \"#9c179e\"], [0.4444444444444444, \"#bd3786\"], [0.5555555555555556, \"#d8576b\"], [0.6666666666666666, \"#ed7953\"], [0.7777777777777778, \"#fb9f3a\"], [0.8888888888888888, \"#fdca26\"], [1.0, \"#f0f921\"]], \"sequentialminus\": [[0.0, \"#0d0887\"], [0.1111111111111111, \"#46039f\"], [0.2222222222222222, \"#7201a8\"], [0.3333333333333333, \"#9c179e\"], [0.4444444444444444, \"#bd3786\"], [0.5555555555555556, \"#d8576b\"], [0.6666666666666666, \"#ed7953\"], [0.7777777777777778, \"#fb9f3a\"], [0.8888888888888888, \"#fdca26\"], [1.0, \"#f0f921\"]]}, \"colorway\": [\"#636efa\", \"#EF553B\", \"#00cc96\", \"#ab63fa\", \"#FFA15A\", \"#19d3f3\", \"#FF6692\", \"#B6E880\", \"#FF97FF\", \"#FECB52\"], \"font\": {\"color\": \"#2a3f5f\"}, \"geo\": {\"bgcolor\": \"white\", \"lakecolor\": \"white\", \"landcolor\": \"#E5ECF6\", \"showlakes\": true, \"showland\": true, \"subunitcolor\": \"white\"}, \"hoverlabel\": {\"align\": \"left\"}, \"hovermode\": \"closest\", \"mapbox\": {\"style\": \"light\"}, \"paper_bgcolor\": \"white\", \"plot_bgcolor\": \"#E5ECF6\", \"polar\": {\"angularaxis\": {\"gridcolor\": \"white\", \"linecolor\": \"white\", \"ticks\": \"\"}, \"bgcolor\": \"#E5ECF6\", \"radialaxis\": {\"gridcolor\": \"white\", \"linecolor\": \"white\", \"ticks\": \"\"}}, \"scene\": {\"xaxis\": {\"backgroundcolor\": \"#E5ECF6\", \"gridcolor\": \"white\", \"gridwidth\": 2, \"linecolor\": \"white\", \"showbackground\": true, \"ticks\": \"\", \"zerolinecolor\": \"white\"}, \"yaxis\": {\"backgroundcolor\": \"#E5ECF6\", \"gridcolor\": \"white\", \"gridwidth\": 2, \"linecolor\": \"white\", \"showbackground\": true, \"ticks\": \"\", \"zerolinecolor\": \"white\"}, \"zaxis\": {\"backgroundcolor\": \"#E5ECF6\", \"gridcolor\": \"white\", \"gridwidth\": 2, \"linecolor\": \"white\", \"showbackground\": true, \"ticks\": \"\", \"zerolinecolor\": \"white\"}}, \"shapedefaults\": {\"line\": {\"color\": \"#2a3f5f\"}}, \"ternary\": {\"aaxis\": {\"gridcolor\": \"white\", \"linecolor\": \"white\", \"ticks\": \"\"}, \"baxis\": {\"gridcolor\": \"white\", \"linecolor\": \"white\", \"ticks\": \"\"}, \"bgcolor\": \"#E5ECF6\", \"caxis\": {\"gridcolor\": \"white\", \"linecolor\": \"white\", \"ticks\": \"\"}}, \"title\": {\"x\": 0.05}, \"xaxis\": {\"automargin\": true, \"gridcolor\": \"white\", \"linecolor\": \"white\", \"ticks\": \"\", \"title\": {\"standoff\": 15}, \"zerolinecolor\": \"white\", \"zerolinewidth\": 2}, \"yaxis\": {\"automargin\": true, \"gridcolor\": \"white\", \"linecolor\": \"white\", \"ticks\": \"\", \"title\": {\"standoff\": 15}, \"zerolinecolor\": \"white\", \"zerolinewidth\": 2}}}, \"title\": {\"font\": {\"color\": \"Black\", \"size\": 38}, \"text\": \"Young's Moduli's on Melting Temperature\"}, \"width\": 800, \"xaxis\": {\"gridwidth\": 1.5, \"tickfont\": {\"size\": 24}, \"title\": {\"font\": {\"size\": 36}, \"text\": \"Melting Temperature [K]\"}, \"zeroline\": true}, \"yaxis\": {\"gridwidth\": 1.5, \"tickfont\": {\"size\": 24}, \"title\": {\"font\": {\"size\": 36}, \"text\": \"Young's Modulus [GPa]\"}, \"zeroline\": true}},\n",
       "                        {\"responsive\": true}\n",
       "                    ).then(function(){\n",
       "                            \n",
       "var gd = document.getElementById('d838bfd3-93a3-4b45-8c67-f7d5c039328a');\n",
       "var x = new MutationObserver(function (mutations, observer) {{\n",
       "        var display = window.getComputedStyle(gd).display;\n",
       "        if (!display || display === 'none') {{\n",
       "            console.log([gd, 'removed!']);\n",
       "            Plotly.purge(gd);\n",
       "            observer.disconnect();\n",
       "        }}\n",
       "}});\n",
       "\n",
       "// Listen for the removal of the full notebook cells\n",
       "var notebookContainer = gd.closest('#notebook-container');\n",
       "if (notebookContainer) {{\n",
       "    x.observe(notebookContainer, {childList: true});\n",
       "}}\n",
       "\n",
       "// Listen for the clearing of the current output cell\n",
       "var outputEl = gd.closest('.output');\n",
       "if (outputEl) {{\n",
       "    x.observe(outputEl, {childList: true});\n",
       "}}\n",
       "\n",
       "                        })\n",
       "                };\n",
       "                });\n",
       "            </script>\n",
       "        </div>"
      ]
     },
     "metadata": {},
     "output_type": "display_data"
    }
   ],
   "source": [
    "layout0= go.Layout(title = \"Young's Moduli's on Melting Temperature\", hovermode= 'closest', width = 800, height=800, showlegend=True,  # Hovermode establishes the way the labels that appear when you hover are arranged # Establishing a square plot width=height\n",
    "    xaxis= dict(title=go.layout.xaxis.Title(text='Melting Temperature [K]', font=dict(size=36)), zeroline= True, gridwidth= 1.5, tickfont=dict(size=24)), # Axis Titles. Removing the X-axis Mark. Adding a Grid\n",
    "    yaxis= dict(title=go.layout.yaxis.Title(text=\"Young's Modulus [GPa]\", font=dict(size=36)), zeroline= True, gridwidth= 1.5, tickfont=dict(size=24)), # Axis Titles. Removing the Y-axis Mark. Adding a Grid\n",
    "    legend=dict(font=dict(size=24))) # Adding a legend\n",
    "\n",
    "# Trace\n",
    "\n",
    "trace0 = go.Scatter(x = melting_temperature,y = youngs_modulus, mode = 'markers',\n",
    "    marker= dict(size= 18, line= dict(width=1), color=colors), # We add a size, a border and our custom colors to the markers\n",
    "    text= sample, # This attribute (Text) labels each point to this list, which contains our elements in the same indexes as our properties\n",
    "showlegend = False)\n",
    "\n",
    "\n",
    "# Empty Traces for Legend\n",
    "legend_plot_FCC = go.Scatter(x=[None], y=[None], mode='markers', marker=dict(size=18,  line= dict(width=1),color='blue'), name = 'FCC')\n",
    "legend_plot_BCC = go.Scatter(x=[None], y=[None], mode='markers', marker=dict(size=18,  line= dict(width=1),color='red'), name = 'BCC')\n",
    "legend_plot_HCP = go.Scatter(x=[None], y=[None], mode='markers', marker=dict(size=18,  line= dict(width=1),color='orange'), name = 'HCP')\n",
    "legend_plot_Other = go.Scatter(x=[None], y=[None], mode='markers', marker=dict(size=18,  line= dict(width=1),color='green'), name = 'Other')\n",
    "\n",
    "\n",
    "data = [trace0, legend_plot_FCC, legend_plot_BCC, legend_plot_HCP, legend_plot_Other]\n",
    "\n",
    "fig= go.Figure(data, layout=layout0)\n",
    "fig.update_layout(\n",
    "    font_family=\"Arial\",\n",
    "    title_font_color=\"Black\",\n",
    "    title_font_size= 38\n",
    ")\n",
    "# fig.update_xaxes(showgrid=True, gridwidth=1, gridcolor='black')\n",
    "# fig.update_yaxes(showgrid=True, gridwidth=1, gridcolor='black')\n",
    "iplot(fig)"
   ]
  },
  {
   "cell_type": "code",
   "execution_count": 13,
   "metadata": {},
   "outputs": [
    {
     "data": {
      "application/vnd.plotly.v1+json": {
       "config": {
        "linkText": "Export to plot.ly",
        "plotlyServerURL": "https://plot.ly",
        "showLink": false
       },
       "data": [
        {
         "marker": {
          "color": [
           "green",
           "green",
           "red",
           "orange",
           "green",
           "green",
           "green",
           "green",
           "green",
           "green",
           "red",
           "orange",
           "blue",
           "green",
           "red",
           "green",
           "green",
           "green",
           "red",
           "orange",
           "orange",
           "orange",
           "red",
           "red",
           "red",
           "red",
           "orange",
           "blue",
           "blue",
           "orange",
           "green",
           "green",
           "green",
           "green",
           "green",
           "green",
           "red",
           "blue",
           "orange",
           "orange",
           "red",
           "red",
           "orange",
           "orange",
           "blue",
           "blue",
           "blue",
           "orange",
           "green",
           "green",
           "green",
           "green",
           "green",
           "green",
           "red",
           "red",
           "orange",
           "red",
           "red",
           "orange",
           "orange",
           "blue",
           "blue",
           "blue",
           "green",
           "orange",
           "blue",
           "green",
           "green",
           "green",
           "green",
           "green",
           "green",
           "green",
           "green",
           "green",
           "green",
           "green",
           "green",
           "green",
           "red",
           "orange",
           "orange",
           "orange",
           "orange",
           "orange",
           "orange",
           "blue",
           "orange",
           "green",
           "blue",
           "green",
           "green",
           "green",
           "green",
           "green",
           "green",
           "green",
           "green",
           "green",
           "green",
           "green",
           "green"
          ],
          "line": {
           "width": 1
          },
          "size": 18
         },
         "mode": "markers",
         "showlegend": false,
         "text": [
          "H",
          "He",
          "Li",
          "Be",
          "B",
          "C",
          "N",
          "O",
          "F",
          "Ne",
          "Na",
          "Mg",
          "Al",
          "Si",
          "P",
          "S",
          "Cl",
          "Ar",
          "K",
          "Ca",
          "Sc",
          "Ti",
          "V",
          "Cr",
          "Mn",
          "Fe",
          "Co",
          "Ni",
          "Cu",
          "Zn",
          "Ga",
          "Ge",
          "As",
          "Se",
          "Br",
          "Kr",
          "Rb",
          "Sr",
          "Y",
          "Zr",
          "Nb",
          "Mo",
          "Tc",
          "Ru",
          "Rh",
          "Pd",
          "Ag",
          "Cd",
          "In",
          "Sn",
          "Sb",
          "Te",
          "I",
          "Xe",
          "Cs",
          "Ba",
          "Hf",
          "Ta",
          "W",
          "Re",
          "Os",
          "Ir",
          "Pt",
          "Au",
          "Hg",
          "Tl",
          "Pb",
          "Bi",
          "Po",
          "At",
          "Rn",
          "Fr",
          "Ra",
          "Lr",
          "La",
          "Ce",
          "Pr",
          "Nd",
          "Pm",
          "Sm",
          "Eu",
          "Gd",
          "Tb",
          "Dy",
          "Ho",
          "Er",
          "Tm",
          "Yb",
          "Lu",
          "Ac",
          "Th",
          "Pa",
          "U",
          "Np",
          "Pu",
          "Am",
          "Cm",
          "Bk",
          "Cf",
          "Es",
          "Fm",
          "Md",
          "No"
         ],
         "type": "scatter",
         "x": [
          14.01,
          0.95,
          453.69,
          1560,
          2349,
          3800,
          63.05,
          54.8,
          53.53,
          24.56,
          370.87,
          923,
          933.47,
          1687,
          317.3,
          388.36,
          171.6,
          83.8,
          336.53,
          1115,
          1814,
          1941,
          2183,
          2180,
          1519,
          1811,
          1768,
          1728,
          1357.77,
          692.68,
          302.91,
          1211.4,
          1090,
          494,
          265.8,
          115.79,
          312.46,
          1050,
          1799,
          2128,
          2750,
          2896,
          2430,
          2607,
          2237,
          1828.05,
          1234.93,
          594.22,
          429.75,
          505.08,
          903.78,
          722.66,
          386.85,
          161.4,
          301.59,
          1000,
          2506,
          3290,
          3695,
          3459,
          3306,
          2739,
          2041.4,
          1337.33,
          234.32,
          577,
          600.61,
          544.4,
          527,
          575,
          202,
          "maybe about 300 K",
          973,
          1900,
          1193,
          1068,
          1208,
          1297,
          1373,
          1345,
          1099,
          1585,
          1629,
          1680,
          1734,
          1802,
          1818,
          1097,
          1925,
          1323,
          2115,
          1841,
          1405.3,
          910,
          912.5,
          1449,
          1613,
          1259,
          1173,
          1133,
          1800,
          1100,
          1100
         ],
         "y": [
          null,
          null,
          4.6e-05,
          1.13e-05,
          6e-06,
          7.1e-06,
          null,
          null,
          null,
          null,
          7.1e-05,
          8.2e-06,
          2.31e-05,
          2.6e-06,
          null,
          null,
          null,
          null,
          null,
          2.23e-05,
          1.02e-05,
          8.6e-06,
          8.4e-06,
          4.9e-06,
          2.17e-05,
          1.18e-05,
          1.3e-05,
          1.34e-05,
          1.65e-05,
          3.02e-05,
          0.00012,
          6e-06,
          null,
          null,
          null,
          null,
          null,
          2.25e-05,
          1.06e-05,
          5.7e-06,
          7.3e-06,
          4.8e-06,
          null,
          6.4e-06,
          8.2e-06,
          1.18e-05,
          1.89e-05,
          3.08e-05,
          3.21e-05,
          2.2e-05,
          1.1e-05,
          null,
          null,
          null,
          null,
          2.06e-05,
          5.9e-06,
          6.3e-06,
          4.5e-06,
          6.2e-06,
          5.1e-06,
          6.4e-06,
          8.8e-06,
          1.42e-05,
          null,
          2.99e-05,
          2.89e-05,
          1.34e-05,
          null,
          null,
          null,
          null,
          null,
          null,
          1.21e-05,
          6.3e-06,
          6.7e-06,
          9.6e-06,
          1.1e-05,
          1.27e-05,
          3.5e-05,
          9.4e-06,
          1.03e-05,
          9.9e-06,
          1.12e-05,
          1.22e-05,
          1.33e-05,
          2.63e-05,
          9.9e-06,
          null,
          1.1e-05,
          null,
          1.39e-05,
          null,
          null,
          null,
          null,
          null,
          null,
          null,
          null,
          null,
          null
         ]
        },
        {
         "marker": {
          "color": "blue",
          "line": {
           "width": 1
          },
          "size": 18
         },
         "mode": "markers",
         "name": "FCC",
         "type": "scatter",
         "x": [
          null
         ],
         "y": [
          null
         ]
        },
        {
         "marker": {
          "color": "red",
          "line": {
           "width": 1
          },
          "size": 18
         },
         "mode": "markers",
         "name": "BCC",
         "type": "scatter",
         "x": [
          null
         ],
         "y": [
          null
         ]
        },
        {
         "marker": {
          "color": "orange",
          "line": {
           "width": 1
          },
          "size": 18
         },
         "mode": "markers",
         "name": "HCP",
         "type": "scatter",
         "x": [
          null
         ],
         "y": [
          null
         ]
        },
        {
         "marker": {
          "color": "green",
          "line": {
           "width": 1
          },
          "size": 18
         },
         "mode": "markers",
         "name": "Other",
         "type": "scatter",
         "x": [
          null
         ],
         "y": [
          null
         ]
        }
       ],
       "layout": {
        "font": {
         "family": "Arial"
        },
        "height": 800,
        "hovermode": "closest",
        "legend": {
         "font": {
          "size": 24
         }
        },
        "showlegend": true,
        "template": {
         "data": {
          "bar": [
           {
            "error_x": {
             "color": "#2a3f5f"
            },
            "error_y": {
             "color": "#2a3f5f"
            },
            "marker": {
             "line": {
              "color": "#E5ECF6",
              "width": 0.5
             }
            },
            "type": "bar"
           }
          ],
          "barpolar": [
           {
            "marker": {
             "line": {
              "color": "#E5ECF6",
              "width": 0.5
             }
            },
            "type": "barpolar"
           }
          ],
          "carpet": [
           {
            "aaxis": {
             "endlinecolor": "#2a3f5f",
             "gridcolor": "white",
             "linecolor": "white",
             "minorgridcolor": "white",
             "startlinecolor": "#2a3f5f"
            },
            "baxis": {
             "endlinecolor": "#2a3f5f",
             "gridcolor": "white",
             "linecolor": "white",
             "minorgridcolor": "white",
             "startlinecolor": "#2a3f5f"
            },
            "type": "carpet"
           }
          ],
          "choropleth": [
           {
            "colorbar": {
             "outlinewidth": 0,
             "ticks": ""
            },
            "type": "choropleth"
           }
          ],
          "contour": [
           {
            "colorbar": {
             "outlinewidth": 0,
             "ticks": ""
            },
            "colorscale": [
             [
              0,
              "#0d0887"
             ],
             [
              0.1111111111111111,
              "#46039f"
             ],
             [
              0.2222222222222222,
              "#7201a8"
             ],
             [
              0.3333333333333333,
              "#9c179e"
             ],
             [
              0.4444444444444444,
              "#bd3786"
             ],
             [
              0.5555555555555556,
              "#d8576b"
             ],
             [
              0.6666666666666666,
              "#ed7953"
             ],
             [
              0.7777777777777778,
              "#fb9f3a"
             ],
             [
              0.8888888888888888,
              "#fdca26"
             ],
             [
              1,
              "#f0f921"
             ]
            ],
            "type": "contour"
           }
          ],
          "contourcarpet": [
           {
            "colorbar": {
             "outlinewidth": 0,
             "ticks": ""
            },
            "type": "contourcarpet"
           }
          ],
          "heatmap": [
           {
            "colorbar": {
             "outlinewidth": 0,
             "ticks": ""
            },
            "colorscale": [
             [
              0,
              "#0d0887"
             ],
             [
              0.1111111111111111,
              "#46039f"
             ],
             [
              0.2222222222222222,
              "#7201a8"
             ],
             [
              0.3333333333333333,
              "#9c179e"
             ],
             [
              0.4444444444444444,
              "#bd3786"
             ],
             [
              0.5555555555555556,
              "#d8576b"
             ],
             [
              0.6666666666666666,
              "#ed7953"
             ],
             [
              0.7777777777777778,
              "#fb9f3a"
             ],
             [
              0.8888888888888888,
              "#fdca26"
             ],
             [
              1,
              "#f0f921"
             ]
            ],
            "type": "heatmap"
           }
          ],
          "heatmapgl": [
           {
            "colorbar": {
             "outlinewidth": 0,
             "ticks": ""
            },
            "colorscale": [
             [
              0,
              "#0d0887"
             ],
             [
              0.1111111111111111,
              "#46039f"
             ],
             [
              0.2222222222222222,
              "#7201a8"
             ],
             [
              0.3333333333333333,
              "#9c179e"
             ],
             [
              0.4444444444444444,
              "#bd3786"
             ],
             [
              0.5555555555555556,
              "#d8576b"
             ],
             [
              0.6666666666666666,
              "#ed7953"
             ],
             [
              0.7777777777777778,
              "#fb9f3a"
             ],
             [
              0.8888888888888888,
              "#fdca26"
             ],
             [
              1,
              "#f0f921"
             ]
            ],
            "type": "heatmapgl"
           }
          ],
          "histogram": [
           {
            "marker": {
             "colorbar": {
              "outlinewidth": 0,
              "ticks": ""
             }
            },
            "type": "histogram"
           }
          ],
          "histogram2d": [
           {
            "colorbar": {
             "outlinewidth": 0,
             "ticks": ""
            },
            "colorscale": [
             [
              0,
              "#0d0887"
             ],
             [
              0.1111111111111111,
              "#46039f"
             ],
             [
              0.2222222222222222,
              "#7201a8"
             ],
             [
              0.3333333333333333,
              "#9c179e"
             ],
             [
              0.4444444444444444,
              "#bd3786"
             ],
             [
              0.5555555555555556,
              "#d8576b"
             ],
             [
              0.6666666666666666,
              "#ed7953"
             ],
             [
              0.7777777777777778,
              "#fb9f3a"
             ],
             [
              0.8888888888888888,
              "#fdca26"
             ],
             [
              1,
              "#f0f921"
             ]
            ],
            "type": "histogram2d"
           }
          ],
          "histogram2dcontour": [
           {
            "colorbar": {
             "outlinewidth": 0,
             "ticks": ""
            },
            "colorscale": [
             [
              0,
              "#0d0887"
             ],
             [
              0.1111111111111111,
              "#46039f"
             ],
             [
              0.2222222222222222,
              "#7201a8"
             ],
             [
              0.3333333333333333,
              "#9c179e"
             ],
             [
              0.4444444444444444,
              "#bd3786"
             ],
             [
              0.5555555555555556,
              "#d8576b"
             ],
             [
              0.6666666666666666,
              "#ed7953"
             ],
             [
              0.7777777777777778,
              "#fb9f3a"
             ],
             [
              0.8888888888888888,
              "#fdca26"
             ],
             [
              1,
              "#f0f921"
             ]
            ],
            "type": "histogram2dcontour"
           }
          ],
          "mesh3d": [
           {
            "colorbar": {
             "outlinewidth": 0,
             "ticks": ""
            },
            "type": "mesh3d"
           }
          ],
          "parcoords": [
           {
            "line": {
             "colorbar": {
              "outlinewidth": 0,
              "ticks": ""
             }
            },
            "type": "parcoords"
           }
          ],
          "pie": [
           {
            "automargin": true,
            "type": "pie"
           }
          ],
          "scatter": [
           {
            "marker": {
             "colorbar": {
              "outlinewidth": 0,
              "ticks": ""
             }
            },
            "type": "scatter"
           }
          ],
          "scatter3d": [
           {
            "line": {
             "colorbar": {
              "outlinewidth": 0,
              "ticks": ""
             }
            },
            "marker": {
             "colorbar": {
              "outlinewidth": 0,
              "ticks": ""
             }
            },
            "type": "scatter3d"
           }
          ],
          "scattercarpet": [
           {
            "marker": {
             "colorbar": {
              "outlinewidth": 0,
              "ticks": ""
             }
            },
            "type": "scattercarpet"
           }
          ],
          "scattergeo": [
           {
            "marker": {
             "colorbar": {
              "outlinewidth": 0,
              "ticks": ""
             }
            },
            "type": "scattergeo"
           }
          ],
          "scattergl": [
           {
            "marker": {
             "colorbar": {
              "outlinewidth": 0,
              "ticks": ""
             }
            },
            "type": "scattergl"
           }
          ],
          "scattermapbox": [
           {
            "marker": {
             "colorbar": {
              "outlinewidth": 0,
              "ticks": ""
             }
            },
            "type": "scattermapbox"
           }
          ],
          "scatterpolar": [
           {
            "marker": {
             "colorbar": {
              "outlinewidth": 0,
              "ticks": ""
             }
            },
            "type": "scatterpolar"
           }
          ],
          "scatterpolargl": [
           {
            "marker": {
             "colorbar": {
              "outlinewidth": 0,
              "ticks": ""
             }
            },
            "type": "scatterpolargl"
           }
          ],
          "scatterternary": [
           {
            "marker": {
             "colorbar": {
              "outlinewidth": 0,
              "ticks": ""
             }
            },
            "type": "scatterternary"
           }
          ],
          "surface": [
           {
            "colorbar": {
             "outlinewidth": 0,
             "ticks": ""
            },
            "colorscale": [
             [
              0,
              "#0d0887"
             ],
             [
              0.1111111111111111,
              "#46039f"
             ],
             [
              0.2222222222222222,
              "#7201a8"
             ],
             [
              0.3333333333333333,
              "#9c179e"
             ],
             [
              0.4444444444444444,
              "#bd3786"
             ],
             [
              0.5555555555555556,
              "#d8576b"
             ],
             [
              0.6666666666666666,
              "#ed7953"
             ],
             [
              0.7777777777777778,
              "#fb9f3a"
             ],
             [
              0.8888888888888888,
              "#fdca26"
             ],
             [
              1,
              "#f0f921"
             ]
            ],
            "type": "surface"
           }
          ],
          "table": [
           {
            "cells": {
             "fill": {
              "color": "#EBF0F8"
             },
             "line": {
              "color": "white"
             }
            },
            "header": {
             "fill": {
              "color": "#C8D4E3"
             },
             "line": {
              "color": "white"
             }
            },
            "type": "table"
           }
          ]
         },
         "layout": {
          "annotationdefaults": {
           "arrowcolor": "#2a3f5f",
           "arrowhead": 0,
           "arrowwidth": 1
          },
          "coloraxis": {
           "colorbar": {
            "outlinewidth": 0,
            "ticks": ""
           }
          },
          "colorscale": {
           "diverging": [
            [
             0,
             "#8e0152"
            ],
            [
             0.1,
             "#c51b7d"
            ],
            [
             0.2,
             "#de77ae"
            ],
            [
             0.3,
             "#f1b6da"
            ],
            [
             0.4,
             "#fde0ef"
            ],
            [
             0.5,
             "#f7f7f7"
            ],
            [
             0.6,
             "#e6f5d0"
            ],
            [
             0.7,
             "#b8e186"
            ],
            [
             0.8,
             "#7fbc41"
            ],
            [
             0.9,
             "#4d9221"
            ],
            [
             1,
             "#276419"
            ]
           ],
           "sequential": [
            [
             0,
             "#0d0887"
            ],
            [
             0.1111111111111111,
             "#46039f"
            ],
            [
             0.2222222222222222,
             "#7201a8"
            ],
            [
             0.3333333333333333,
             "#9c179e"
            ],
            [
             0.4444444444444444,
             "#bd3786"
            ],
            [
             0.5555555555555556,
             "#d8576b"
            ],
            [
             0.6666666666666666,
             "#ed7953"
            ],
            [
             0.7777777777777778,
             "#fb9f3a"
            ],
            [
             0.8888888888888888,
             "#fdca26"
            ],
            [
             1,
             "#f0f921"
            ]
           ],
           "sequentialminus": [
            [
             0,
             "#0d0887"
            ],
            [
             0.1111111111111111,
             "#46039f"
            ],
            [
             0.2222222222222222,
             "#7201a8"
            ],
            [
             0.3333333333333333,
             "#9c179e"
            ],
            [
             0.4444444444444444,
             "#bd3786"
            ],
            [
             0.5555555555555556,
             "#d8576b"
            ],
            [
             0.6666666666666666,
             "#ed7953"
            ],
            [
             0.7777777777777778,
             "#fb9f3a"
            ],
            [
             0.8888888888888888,
             "#fdca26"
            ],
            [
             1,
             "#f0f921"
            ]
           ]
          },
          "colorway": [
           "#636efa",
           "#EF553B",
           "#00cc96",
           "#ab63fa",
           "#FFA15A",
           "#19d3f3",
           "#FF6692",
           "#B6E880",
           "#FF97FF",
           "#FECB52"
          ],
          "font": {
           "color": "#2a3f5f"
          },
          "geo": {
           "bgcolor": "white",
           "lakecolor": "white",
           "landcolor": "#E5ECF6",
           "showlakes": true,
           "showland": true,
           "subunitcolor": "white"
          },
          "hoverlabel": {
           "align": "left"
          },
          "hovermode": "closest",
          "mapbox": {
           "style": "light"
          },
          "paper_bgcolor": "white",
          "plot_bgcolor": "#E5ECF6",
          "polar": {
           "angularaxis": {
            "gridcolor": "white",
            "linecolor": "white",
            "ticks": ""
           },
           "bgcolor": "#E5ECF6",
           "radialaxis": {
            "gridcolor": "white",
            "linecolor": "white",
            "ticks": ""
           }
          },
          "scene": {
           "xaxis": {
            "backgroundcolor": "#E5ECF6",
            "gridcolor": "white",
            "gridwidth": 2,
            "linecolor": "white",
            "showbackground": true,
            "ticks": "",
            "zerolinecolor": "white"
           },
           "yaxis": {
            "backgroundcolor": "#E5ECF6",
            "gridcolor": "white",
            "gridwidth": 2,
            "linecolor": "white",
            "showbackground": true,
            "ticks": "",
            "zerolinecolor": "white"
           },
           "zaxis": {
            "backgroundcolor": "#E5ECF6",
            "gridcolor": "white",
            "gridwidth": 2,
            "linecolor": "white",
            "showbackground": true,
            "ticks": "",
            "zerolinecolor": "white"
           }
          },
          "shapedefaults": {
           "line": {
            "color": "#2a3f5f"
           }
          },
          "ternary": {
           "aaxis": {
            "gridcolor": "white",
            "linecolor": "white",
            "ticks": ""
           },
           "baxis": {
            "gridcolor": "white",
            "linecolor": "white",
            "ticks": ""
           },
           "bgcolor": "#E5ECF6",
           "caxis": {
            "gridcolor": "white",
            "linecolor": "white",
            "ticks": ""
           }
          },
          "title": {
           "x": 0.05
          },
          "xaxis": {
           "automargin": true,
           "gridcolor": "white",
           "linecolor": "white",
           "ticks": "",
           "title": {
            "standoff": 15
           },
           "zerolinecolor": "white",
           "zerolinewidth": 2
          },
          "yaxis": {
           "automargin": true,
           "gridcolor": "white",
           "linecolor": "white",
           "ticks": "",
           "title": {
            "standoff": 15
           },
           "zerolinecolor": "white",
           "zerolinewidth": 2
          }
         }
        },
        "title": {
         "font": {
          "color": "Black",
          "size": 38
         },
         "text": "Thermal Expansion on Melting Temperature"
        },
        "width": 800,
        "xaxis": {
         "gridwidth": 1.5,
         "tickfont": {
          "size": 24
         },
         "title": {
          "font": {
           "size": 36
          },
          "text": "Melting Temperature [K]"
         },
         "zeroline": true
        },
        "yaxis": {
         "gridwidth": 1.5,
         "tickfont": {
          "size": 24
         },
         "title": {
          "font": {
           "size": 36
          },
          "text": "Coefficient of Linear Thermal Expansion [K<sup>-1</sup>]"
         },
         "zeroline": true
        }
       }
      },
      "text/html": [
       "<div>\n",
       "        \n",
       "        \n",
       "            <div id=\"5bd33bab-8fa1-46ed-a951-dd8b551287b9\" class=\"plotly-graph-div\" style=\"height:800px; width:800px;\"></div>\n",
       "            <script type=\"text/javascript\">\n",
       "                require([\"plotly\"], function(Plotly) {\n",
       "                    window.PLOTLYENV=window.PLOTLYENV || {};\n",
       "                    \n",
       "                if (document.getElementById(\"5bd33bab-8fa1-46ed-a951-dd8b551287b9\")) {\n",
       "                    Plotly.newPlot(\n",
       "                        '5bd33bab-8fa1-46ed-a951-dd8b551287b9',\n",
       "                        [{\"marker\": {\"color\": [\"green\", \"green\", \"red\", \"orange\", \"green\", \"green\", \"green\", \"green\", \"green\", \"green\", \"red\", \"orange\", \"blue\", \"green\", \"red\", \"green\", \"green\", \"green\", \"red\", \"orange\", \"orange\", \"orange\", \"red\", \"red\", \"red\", \"red\", \"orange\", \"blue\", \"blue\", \"orange\", \"green\", \"green\", \"green\", \"green\", \"green\", \"green\", \"red\", \"blue\", \"orange\", \"orange\", \"red\", \"red\", \"orange\", \"orange\", \"blue\", \"blue\", \"blue\", \"orange\", \"green\", \"green\", \"green\", \"green\", \"green\", \"green\", \"red\", \"red\", \"orange\", \"red\", \"red\", \"orange\", \"orange\", \"blue\", \"blue\", \"blue\", \"green\", \"orange\", \"blue\", \"green\", \"green\", \"green\", \"green\", \"green\", \"green\", \"green\", \"green\", \"green\", \"green\", \"green\", \"green\", \"green\", \"red\", \"orange\", \"orange\", \"orange\", \"orange\", \"orange\", \"orange\", \"blue\", \"orange\", \"green\", \"blue\", \"green\", \"green\", \"green\", \"green\", \"green\", \"green\", \"green\", \"green\", \"green\", \"green\", \"green\", \"green\"], \"line\": {\"width\": 1}, \"size\": 18}, \"mode\": \"markers\", \"showlegend\": false, \"text\": [\"H\", \"He\", \"Li\", \"Be\", \"B\", \"C\", \"N\", \"O\", \"F\", \"Ne\", \"Na\", \"Mg\", \"Al\", \"Si\", \"P\", \"S\", \"Cl\", \"Ar\", \"K\", \"Ca\", \"Sc\", \"Ti\", \"V\", \"Cr\", \"Mn\", \"Fe\", \"Co\", \"Ni\", \"Cu\", \"Zn\", \"Ga\", \"Ge\", \"As\", \"Se\", \"Br\", \"Kr\", \"Rb\", \"Sr\", \"Y\", \"Zr\", \"Nb\", \"Mo\", \"Tc\", \"Ru\", \"Rh\", \"Pd\", \"Ag\", \"Cd\", \"In\", \"Sn\", \"Sb\", \"Te\", \"I\", \"Xe\", \"Cs\", \"Ba\", \"Hf\", \"Ta\", \"W\", \"Re\", \"Os\", \"Ir\", \"Pt\", \"Au\", \"Hg\", \"Tl\", \"Pb\", \"Bi\", \"Po\", \"At\", \"Rn\", \"Fr\", \"Ra\", \"Lr\", \"La\", \"Ce\", \"Pr\", \"Nd\", \"Pm\", \"Sm\", \"Eu\", \"Gd\", \"Tb\", \"Dy\", \"Ho\", \"Er\", \"Tm\", \"Yb\", \"Lu\", \"Ac\", \"Th\", \"Pa\", \"U\", \"Np\", \"Pu\", \"Am\", \"Cm\", \"Bk\", \"Cf\", \"Es\", \"Fm\", \"Md\", \"No\"], \"type\": \"scatter\", \"x\": [14.01, 0.95, 453.69, 1560.0, 2349.0, 3800.0, 63.05, 54.8, 53.53, 24.56, 370.87, 923.0, 933.47, 1687.0, 317.3, 388.36, 171.6, 83.8, 336.53, 1115.0, 1814.0, 1941.0, 2183.0, 2180.0, 1519.0, 1811.0, 1768.0, 1728.0, 1357.77, 692.68, 302.91, 1211.4, 1090.0, 494.0, 265.8, 115.79, 312.46, 1050.0, 1799.0, 2128.0, 2750.0, 2896.0, 2430.0, 2607.0, 2237.0, 1828.05, 1234.93, 594.22, 429.75, 505.08, 903.78, 722.66, 386.85, 161.4, 301.59, 1000.0, 2506.0, 3290.0, 3695.0, 3459.0, 3306.0, 2739.0, 2041.4, 1337.33, 234.32, 577.0, 600.61, 544.4, 527.0, 575.0, 202.0, \"maybe about 300 K\", 973.0, 1900.0, 1193.0, 1068.0, 1208.0, 1297.0, 1373.0, 1345.0, 1099.0, 1585.0, 1629.0, 1680.0, 1734.0, 1802.0, 1818.0, 1097.0, 1925.0, 1323.0, 2115.0, 1841.0, 1405.3, 910.0, 912.5, 1449.0, 1613.0, 1259.0, 1173.0, 1133.0, 1800.0, 1100.0, 1100.0], \"y\": [null, null, 4.6e-05, 1.13e-05, 6e-06, 7.1e-06, null, null, null, null, 7.1e-05, 8.2e-06, 2.31e-05, 2.6e-06, null, null, null, null, null, 2.23e-05, 1.02e-05, 8.6e-06, 8.4e-06, 4.9e-06, 2.17e-05, 1.18e-05, 1.3e-05, 1.34e-05, 1.65e-05, 3.02e-05, 0.00012, 6e-06, null, null, null, null, null, 2.25e-05, 1.06e-05, 5.7e-06, 7.3e-06, 4.8e-06, null, 6.4e-06, 8.2e-06, 1.18e-05, 1.89e-05, 3.08e-05, 3.21e-05, 2.2e-05, 1.1e-05, null, null, null, null, 2.06e-05, 5.9e-06, 6.3e-06, 4.5e-06, 6.2e-06, 5.1e-06, 6.4e-06, 8.8e-06, 1.42e-05, null, 2.99e-05, 2.89e-05, 1.34e-05, null, null, null, null, null, null, 1.21e-05, 6.3e-06, 6.7e-06, 9.6e-06, 1.1e-05, 1.27e-05, 3.5e-05, 9.4e-06, 1.03e-05, 9.9e-06, 1.12e-05, 1.22e-05, 1.33e-05, 2.63e-05, 9.9e-06, null, 1.1e-05, null, 1.39e-05, null, null, null, null, null, null, null, null, null, null]}, {\"marker\": {\"color\": \"blue\", \"line\": {\"width\": 1}, \"size\": 18}, \"mode\": \"markers\", \"name\": \"FCC\", \"type\": \"scatter\", \"x\": [null], \"y\": [null]}, {\"marker\": {\"color\": \"red\", \"line\": {\"width\": 1}, \"size\": 18}, \"mode\": \"markers\", \"name\": \"BCC\", \"type\": \"scatter\", \"x\": [null], \"y\": [null]}, {\"marker\": {\"color\": \"orange\", \"line\": {\"width\": 1}, \"size\": 18}, \"mode\": \"markers\", \"name\": \"HCP\", \"type\": \"scatter\", \"x\": [null], \"y\": [null]}, {\"marker\": {\"color\": \"green\", \"line\": {\"width\": 1}, \"size\": 18}, \"mode\": \"markers\", \"name\": \"Other\", \"type\": \"scatter\", \"x\": [null], \"y\": [null]}],\n",
       "                        {\"font\": {\"family\": \"Arial\"}, \"height\": 800, \"hovermode\": \"closest\", \"legend\": {\"font\": {\"size\": 24}}, \"showlegend\": true, \"template\": {\"data\": {\"bar\": [{\"error_x\": {\"color\": \"#2a3f5f\"}, \"error_y\": {\"color\": \"#2a3f5f\"}, \"marker\": {\"line\": {\"color\": \"#E5ECF6\", \"width\": 0.5}}, \"type\": \"bar\"}], \"barpolar\": [{\"marker\": {\"line\": {\"color\": \"#E5ECF6\", \"width\": 0.5}}, \"type\": \"barpolar\"}], \"carpet\": [{\"aaxis\": {\"endlinecolor\": \"#2a3f5f\", \"gridcolor\": \"white\", \"linecolor\": \"white\", \"minorgridcolor\": \"white\", \"startlinecolor\": \"#2a3f5f\"}, \"baxis\": {\"endlinecolor\": \"#2a3f5f\", \"gridcolor\": \"white\", \"linecolor\": \"white\", \"minorgridcolor\": \"white\", \"startlinecolor\": \"#2a3f5f\"}, \"type\": \"carpet\"}], \"choropleth\": [{\"colorbar\": {\"outlinewidth\": 0, \"ticks\": \"\"}, \"type\": \"choropleth\"}], \"contour\": [{\"colorbar\": {\"outlinewidth\": 0, \"ticks\": \"\"}, \"colorscale\": [[0.0, \"#0d0887\"], [0.1111111111111111, \"#46039f\"], [0.2222222222222222, \"#7201a8\"], [0.3333333333333333, \"#9c179e\"], [0.4444444444444444, \"#bd3786\"], [0.5555555555555556, \"#d8576b\"], [0.6666666666666666, \"#ed7953\"], [0.7777777777777778, \"#fb9f3a\"], [0.8888888888888888, \"#fdca26\"], [1.0, \"#f0f921\"]], \"type\": \"contour\"}], \"contourcarpet\": [{\"colorbar\": {\"outlinewidth\": 0, \"ticks\": \"\"}, \"type\": \"contourcarpet\"}], \"heatmap\": [{\"colorbar\": {\"outlinewidth\": 0, \"ticks\": \"\"}, \"colorscale\": [[0.0, \"#0d0887\"], [0.1111111111111111, \"#46039f\"], [0.2222222222222222, \"#7201a8\"], [0.3333333333333333, \"#9c179e\"], [0.4444444444444444, \"#bd3786\"], [0.5555555555555556, \"#d8576b\"], [0.6666666666666666, \"#ed7953\"], [0.7777777777777778, \"#fb9f3a\"], [0.8888888888888888, \"#fdca26\"], [1.0, \"#f0f921\"]], \"type\": \"heatmap\"}], \"heatmapgl\": [{\"colorbar\": {\"outlinewidth\": 0, \"ticks\": \"\"}, \"colorscale\": [[0.0, \"#0d0887\"], [0.1111111111111111, \"#46039f\"], [0.2222222222222222, \"#7201a8\"], [0.3333333333333333, \"#9c179e\"], [0.4444444444444444, \"#bd3786\"], [0.5555555555555556, \"#d8576b\"], [0.6666666666666666, \"#ed7953\"], [0.7777777777777778, \"#fb9f3a\"], [0.8888888888888888, \"#fdca26\"], [1.0, \"#f0f921\"]], \"type\": \"heatmapgl\"}], \"histogram\": [{\"marker\": {\"colorbar\": {\"outlinewidth\": 0, \"ticks\": \"\"}}, \"type\": \"histogram\"}], \"histogram2d\": [{\"colorbar\": {\"outlinewidth\": 0, \"ticks\": \"\"}, \"colorscale\": [[0.0, \"#0d0887\"], [0.1111111111111111, \"#46039f\"], [0.2222222222222222, \"#7201a8\"], [0.3333333333333333, \"#9c179e\"], [0.4444444444444444, \"#bd3786\"], [0.5555555555555556, \"#d8576b\"], [0.6666666666666666, \"#ed7953\"], [0.7777777777777778, \"#fb9f3a\"], [0.8888888888888888, \"#fdca26\"], [1.0, \"#f0f921\"]], \"type\": \"histogram2d\"}], \"histogram2dcontour\": [{\"colorbar\": {\"outlinewidth\": 0, \"ticks\": \"\"}, \"colorscale\": [[0.0, \"#0d0887\"], [0.1111111111111111, \"#46039f\"], [0.2222222222222222, \"#7201a8\"], [0.3333333333333333, \"#9c179e\"], [0.4444444444444444, \"#bd3786\"], [0.5555555555555556, \"#d8576b\"], [0.6666666666666666, \"#ed7953\"], [0.7777777777777778, \"#fb9f3a\"], [0.8888888888888888, \"#fdca26\"], [1.0, \"#f0f921\"]], \"type\": \"histogram2dcontour\"}], \"mesh3d\": [{\"colorbar\": {\"outlinewidth\": 0, \"ticks\": \"\"}, \"type\": \"mesh3d\"}], \"parcoords\": [{\"line\": {\"colorbar\": {\"outlinewidth\": 0, \"ticks\": \"\"}}, \"type\": \"parcoords\"}], \"pie\": [{\"automargin\": true, \"type\": \"pie\"}], \"scatter\": [{\"marker\": {\"colorbar\": {\"outlinewidth\": 0, \"ticks\": \"\"}}, \"type\": \"scatter\"}], \"scatter3d\": [{\"line\": {\"colorbar\": {\"outlinewidth\": 0, \"ticks\": \"\"}}, \"marker\": {\"colorbar\": {\"outlinewidth\": 0, \"ticks\": \"\"}}, \"type\": \"scatter3d\"}], \"scattercarpet\": [{\"marker\": {\"colorbar\": {\"outlinewidth\": 0, \"ticks\": \"\"}}, \"type\": \"scattercarpet\"}], \"scattergeo\": [{\"marker\": {\"colorbar\": {\"outlinewidth\": 0, \"ticks\": \"\"}}, \"type\": \"scattergeo\"}], \"scattergl\": [{\"marker\": {\"colorbar\": {\"outlinewidth\": 0, \"ticks\": \"\"}}, \"type\": \"scattergl\"}], \"scattermapbox\": [{\"marker\": {\"colorbar\": {\"outlinewidth\": 0, \"ticks\": \"\"}}, \"type\": \"scattermapbox\"}], \"scatterpolar\": [{\"marker\": {\"colorbar\": {\"outlinewidth\": 0, \"ticks\": \"\"}}, \"type\": \"scatterpolar\"}], \"scatterpolargl\": [{\"marker\": {\"colorbar\": {\"outlinewidth\": 0, \"ticks\": \"\"}}, \"type\": \"scatterpolargl\"}], \"scatterternary\": [{\"marker\": {\"colorbar\": {\"outlinewidth\": 0, \"ticks\": \"\"}}, \"type\": \"scatterternary\"}], \"surface\": [{\"colorbar\": {\"outlinewidth\": 0, \"ticks\": \"\"}, \"colorscale\": [[0.0, \"#0d0887\"], [0.1111111111111111, \"#46039f\"], [0.2222222222222222, \"#7201a8\"], [0.3333333333333333, \"#9c179e\"], [0.4444444444444444, \"#bd3786\"], [0.5555555555555556, \"#d8576b\"], [0.6666666666666666, \"#ed7953\"], [0.7777777777777778, \"#fb9f3a\"], [0.8888888888888888, \"#fdca26\"], [1.0, \"#f0f921\"]], \"type\": \"surface\"}], \"table\": [{\"cells\": {\"fill\": {\"color\": \"#EBF0F8\"}, \"line\": {\"color\": \"white\"}}, \"header\": {\"fill\": {\"color\": \"#C8D4E3\"}, \"line\": {\"color\": \"white\"}}, \"type\": \"table\"}]}, \"layout\": {\"annotationdefaults\": {\"arrowcolor\": \"#2a3f5f\", \"arrowhead\": 0, \"arrowwidth\": 1}, \"coloraxis\": {\"colorbar\": {\"outlinewidth\": 0, \"ticks\": \"\"}}, \"colorscale\": {\"diverging\": [[0, \"#8e0152\"], [0.1, \"#c51b7d\"], [0.2, \"#de77ae\"], [0.3, \"#f1b6da\"], [0.4, \"#fde0ef\"], [0.5, \"#f7f7f7\"], [0.6, \"#e6f5d0\"], [0.7, \"#b8e186\"], [0.8, \"#7fbc41\"], [0.9, \"#4d9221\"], [1, \"#276419\"]], \"sequential\": [[0.0, \"#0d0887\"], [0.1111111111111111, \"#46039f\"], [0.2222222222222222, \"#7201a8\"], [0.3333333333333333, \"#9c179e\"], [0.4444444444444444, \"#bd3786\"], [0.5555555555555556, \"#d8576b\"], [0.6666666666666666, \"#ed7953\"], [0.7777777777777778, \"#fb9f3a\"], [0.8888888888888888, \"#fdca26\"], [1.0, \"#f0f921\"]], \"sequentialminus\": [[0.0, \"#0d0887\"], [0.1111111111111111, \"#46039f\"], [0.2222222222222222, \"#7201a8\"], [0.3333333333333333, \"#9c179e\"], [0.4444444444444444, \"#bd3786\"], [0.5555555555555556, \"#d8576b\"], [0.6666666666666666, \"#ed7953\"], [0.7777777777777778, \"#fb9f3a\"], [0.8888888888888888, \"#fdca26\"], [1.0, \"#f0f921\"]]}, \"colorway\": [\"#636efa\", \"#EF553B\", \"#00cc96\", \"#ab63fa\", \"#FFA15A\", \"#19d3f3\", \"#FF6692\", \"#B6E880\", \"#FF97FF\", \"#FECB52\"], \"font\": {\"color\": \"#2a3f5f\"}, \"geo\": {\"bgcolor\": \"white\", \"lakecolor\": \"white\", \"landcolor\": \"#E5ECF6\", \"showlakes\": true, \"showland\": true, \"subunitcolor\": \"white\"}, \"hoverlabel\": {\"align\": \"left\"}, \"hovermode\": \"closest\", \"mapbox\": {\"style\": \"light\"}, \"paper_bgcolor\": \"white\", \"plot_bgcolor\": \"#E5ECF6\", \"polar\": {\"angularaxis\": {\"gridcolor\": \"white\", \"linecolor\": \"white\", \"ticks\": \"\"}, \"bgcolor\": \"#E5ECF6\", \"radialaxis\": {\"gridcolor\": \"white\", \"linecolor\": \"white\", \"ticks\": \"\"}}, \"scene\": {\"xaxis\": {\"backgroundcolor\": \"#E5ECF6\", \"gridcolor\": \"white\", \"gridwidth\": 2, \"linecolor\": \"white\", \"showbackground\": true, \"ticks\": \"\", \"zerolinecolor\": \"white\"}, \"yaxis\": {\"backgroundcolor\": \"#E5ECF6\", \"gridcolor\": \"white\", \"gridwidth\": 2, \"linecolor\": \"white\", \"showbackground\": true, \"ticks\": \"\", \"zerolinecolor\": \"white\"}, \"zaxis\": {\"backgroundcolor\": \"#E5ECF6\", \"gridcolor\": \"white\", \"gridwidth\": 2, \"linecolor\": \"white\", \"showbackground\": true, \"ticks\": \"\", \"zerolinecolor\": \"white\"}}, \"shapedefaults\": {\"line\": {\"color\": \"#2a3f5f\"}}, \"ternary\": {\"aaxis\": {\"gridcolor\": \"white\", \"linecolor\": \"white\", \"ticks\": \"\"}, \"baxis\": {\"gridcolor\": \"white\", \"linecolor\": \"white\", \"ticks\": \"\"}, \"bgcolor\": \"#E5ECF6\", \"caxis\": {\"gridcolor\": \"white\", \"linecolor\": \"white\", \"ticks\": \"\"}}, \"title\": {\"x\": 0.05}, \"xaxis\": {\"automargin\": true, \"gridcolor\": \"white\", \"linecolor\": \"white\", \"ticks\": \"\", \"title\": {\"standoff\": 15}, \"zerolinecolor\": \"white\", \"zerolinewidth\": 2}, \"yaxis\": {\"automargin\": true, \"gridcolor\": \"white\", \"linecolor\": \"white\", \"ticks\": \"\", \"title\": {\"standoff\": 15}, \"zerolinecolor\": \"white\", \"zerolinewidth\": 2}}}, \"title\": {\"font\": {\"color\": \"Black\", \"size\": 38}, \"text\": \"Thermal Expansion on Melting Temperature\"}, \"width\": 800, \"xaxis\": {\"gridwidth\": 1.5, \"tickfont\": {\"size\": 24}, \"title\": {\"font\": {\"size\": 36}, \"text\": \"Melting Temperature [K]\"}, \"zeroline\": true}, \"yaxis\": {\"gridwidth\": 1.5, \"tickfont\": {\"size\": 24}, \"title\": {\"font\": {\"size\": 36}, \"text\": \"Coefficient of Linear Thermal Expansion [K<sup>-1</sup>]\"}, \"zeroline\": true}},\n",
       "                        {\"responsive\": true}\n",
       "                    ).then(function(){\n",
       "                            \n",
       "var gd = document.getElementById('5bd33bab-8fa1-46ed-a951-dd8b551287b9');\n",
       "var x = new MutationObserver(function (mutations, observer) {{\n",
       "        var display = window.getComputedStyle(gd).display;\n",
       "        if (!display || display === 'none') {{\n",
       "            console.log([gd, 'removed!']);\n",
       "            Plotly.purge(gd);\n",
       "            observer.disconnect();\n",
       "        }}\n",
       "}});\n",
       "\n",
       "// Listen for the removal of the full notebook cells\n",
       "var notebookContainer = gd.closest('#notebook-container');\n",
       "if (notebookContainer) {{\n",
       "    x.observe(notebookContainer, {childList: true});\n",
       "}}\n",
       "\n",
       "// Listen for the clearing of the current output cell\n",
       "var outputEl = gd.closest('.output');\n",
       "if (outputEl) {{\n",
       "    x.observe(outputEl, {childList: true});\n",
       "}}\n",
       "\n",
       "                        })\n",
       "                };\n",
       "                });\n",
       "            </script>\n",
       "        </div>"
      ]
     },
     "metadata": {},
     "output_type": "display_data"
    }
   ],
   "source": [
    "layout0= go.Layout(title = \"Thermal Expansion on Melting Temperature\", hovermode= 'closest', width = 800, height=800, showlegend=True,  # Hovermode establishes the way the labels that appear when you hover are arranged # Establishing a square plot width=height\n",
    "    xaxis= dict(title=go.layout.xaxis.Title(text='Melting Temperature [K]', font=dict(size=36)), zeroline= True, gridwidth= 1.5, tickfont=dict(size=24)), # Axis Titles. Removing the X-axis Mark. Adding a Grid\n",
    "    yaxis= dict(title=go.layout.yaxis.Title(text='Coefficient of Linear Thermal Expansion [K<sup>-1</sup>]', font=dict(size=36)), zeroline= True, gridwidth= 1.5, tickfont=dict(size=24)), # Axis Titles. Removing the Y-axis Mark. Adding a Grid\n",
    "    legend=dict(font=dict(size=24))) # Adding a legend\n",
    "\n",
    "# Trace\n",
    "\n",
    "trace0 = go.Scatter(x = melting_temperature,y = CTE, mode = 'markers',\n",
    "    marker= dict(size= 18, line= dict(width=1), color=colors), # We add a size, a border and our custom colors to the markers\n",
    "    text= sample, # This attribute (Text) labels each point to this list, which contains our elements in the same indexes as our properties\n",
    "showlegend = False)\n",
    "\n",
    "\n",
    "# Empty Traces for Legend\n",
    "legend_plot_FCC = go.Scatter(x=[None], y=[None], mode='markers', marker=dict(size=18,  line= dict(width=1),color='blue'), name = 'FCC')\n",
    "legend_plot_BCC = go.Scatter(x=[None], y=[None], mode='markers', marker=dict(size=18,  line= dict(width=1),color='red'), name = 'BCC')\n",
    "legend_plot_HCP = go.Scatter(x=[None], y=[None], mode='markers', marker=dict(size=18,  line= dict(width=1),color='orange'), name = 'HCP')\n",
    "legend_plot_Other = go.Scatter(x=[None], y=[None], mode='markers', marker=dict(size=18,  line= dict(width=1),color='green'), name = 'Other')\n",
    "\n",
    "\n",
    "data = [trace0, legend_plot_FCC, legend_plot_BCC, legend_plot_HCP, legend_plot_Other]\n",
    "\n",
    "fig= go.Figure(data, layout=layout0)\n",
    "fig.update_layout(\n",
    "    font_family=\"Arial\",\n",
    "    title_font_color=\"Black\",\n",
    "    title_font_size= 38\n",
    ")\n",
    "iplot(fig)"
   ]
  },
  {
   "cell_type": "code",
   "execution_count": 14,
   "metadata": {},
   "outputs": [
    {
     "data": {
      "application/vnd.plotly.v1+json": {
       "config": {
        "linkText": "Export to plot.ly",
        "plotlyServerURL": "https://plot.ly",
        "showLink": false
       },
       "data": [
        {
         "marker": {
          "color": [
           "green",
           "green",
           "red",
           "orange",
           "green",
           "green",
           "green",
           "green",
           "green",
           "green",
           "red",
           "orange",
           "blue",
           "green",
           "red",
           "green",
           "green",
           "green",
           "red",
           "orange",
           "orange",
           "orange",
           "red",
           "red",
           "red",
           "red",
           "orange",
           "blue",
           "blue",
           "orange",
           "green",
           "green",
           "green",
           "green",
           "green",
           "green",
           "red",
           "blue",
           "orange",
           "orange",
           "red",
           "red",
           "orange",
           "orange",
           "blue",
           "blue",
           "blue",
           "orange",
           "green",
           "green",
           "green",
           "green",
           "green",
           "green",
           "red",
           "red",
           "orange",
           "red",
           "red",
           "orange",
           "orange",
           "blue",
           "blue",
           "blue",
           "green",
           "orange",
           "blue",
           "green",
           "green",
           "green",
           "green",
           "green",
           "green",
           "green",
           "green",
           "green",
           "green",
           "green",
           "green",
           "green",
           "red",
           "orange",
           "orange",
           "orange",
           "orange",
           "orange",
           "orange",
           "blue",
           "orange",
           "green",
           "blue",
           "green",
           "green",
           "green",
           "green",
           "green",
           "green",
           "green",
           "green",
           "green",
           "green",
           "green",
           "green"
          ],
          "line": {
           "width": 1
          },
          "size": 18
         },
         "mode": "markers",
         "showlegend": false,
         "text": [
          "H",
          "He",
          "Li",
          "Be",
          "B",
          "C",
          "N",
          "O",
          "F",
          "Ne",
          "Na",
          "Mg",
          "Al",
          "Si",
          "P",
          "S",
          "Cl",
          "Ar",
          "K",
          "Ca",
          "Sc",
          "Ti",
          "V",
          "Cr",
          "Mn",
          "Fe",
          "Co",
          "Ni",
          "Cu",
          "Zn",
          "Ga",
          "Ge",
          "As",
          "Se",
          "Br",
          "Kr",
          "Rb",
          "Sr",
          "Y",
          "Zr",
          "Nb",
          "Mo",
          "Tc",
          "Ru",
          "Rh",
          "Pd",
          "Ag",
          "Cd",
          "In",
          "Sn",
          "Sb",
          "Te",
          "I",
          "Xe",
          "Cs",
          "Ba",
          "Hf",
          "Ta",
          "W",
          "Re",
          "Os",
          "Ir",
          "Pt",
          "Au",
          "Hg",
          "Tl",
          "Pb",
          "Bi",
          "Po",
          "At",
          "Rn",
          "Fr",
          "Ra",
          "Lr",
          "La",
          "Ce",
          "Pr",
          "Nd",
          "Pm",
          "Sm",
          "Eu",
          "Gd",
          "Tb",
          "Dy",
          "Ho",
          "Er",
          "Tm",
          "Yb",
          "Lu",
          "Ac",
          "Th",
          "Pa",
          "U",
          "Np",
          "Pu",
          "Am",
          "Cm",
          "Bk",
          "Cf",
          "Es",
          "Fm",
          "Md",
          "No"
         ],
         "type": "scatter",
         "x": [
          14.01,
          0.95,
          453.69,
          1560,
          2349,
          3800,
          63.05,
          54.8,
          53.53,
          24.56,
          370.87,
          923,
          933.47,
          1687,
          317.3,
          388.36,
          171.6,
          83.8,
          336.53,
          1115,
          1814,
          1941,
          2183,
          2180,
          1519,
          1811,
          1768,
          1728,
          1357.77,
          692.68,
          302.91,
          1211.4,
          1090,
          494,
          265.8,
          115.79,
          312.46,
          1050,
          1799,
          2128,
          2750,
          2896,
          2430,
          2607,
          2237,
          1828.05,
          1234.93,
          594.22,
          429.75,
          505.08,
          903.78,
          722.66,
          386.85,
          161.4,
          301.59,
          1000,
          2506,
          3290,
          3695,
          3459,
          3306,
          2739,
          2041.4,
          1337.33,
          234.32,
          577,
          600.61,
          544.4,
          527,
          575,
          202,
          "maybe about 300 K",
          973,
          1900,
          1193,
          1068,
          1208,
          1297,
          1373,
          1345,
          1099,
          1585,
          1629,
          1680,
          1734,
          1802,
          1818,
          1097,
          1925,
          1323,
          2115,
          1841,
          1405.3,
          910,
          912.5,
          1449,
          1613,
          1259,
          1173,
          1133,
          1800,
          1100,
          1100
         ],
         "y": [
          null,
          5.188,
          3.489,
          1.824,
          1.025,
          0.711,
          null,
          null,
          null,
          1.029,
          1.222,
          1.025,
          0.9,
          0.703,
          0.757,
          0.732,
          null,
          0.138,
          0.753,
          0.653,
          0.556,
          0.523,
          0.485,
          0.488,
          0.477,
          0.443,
          0.456,
          0.443,
          0.385,
          0.388,
          0.372,
          0.322,
          0.328,
          null,
          null,
          0.247,
          0.36,
          0.301,
          0.284,
          0.281,
          0.268,
          0.251,
          0.243,
          0.238,
          0.244,
          0.244,
          0.237,
          0.232,
          0.234,
          0.222,
          0.205,
          0.201,
          null,
          0.158,
          0.241,
          0.192,
          0.146,
          0.14,
          0.133,
          0.138,
          0.131,
          0.133,
          0.133,
          0.129,
          0.138,
          0.128,
          0.159,
          0.124,
          0.125,
          null,
          0.094,
          null,
          0.12,
          null,
          0.197,
          0.205,
          0.192,
          0.205,
          0.185,
          0.18,
          0.176,
          0.23,
          0.183,
          0.173,
          0.164,
          0.168,
          0.16,
          0.145,
          0.155,
          null,
          0.113,
          0.121,
          0.115,
          null,
          null,
          null,
          null,
          null,
          null,
          null,
          null,
          null,
          null
         ]
        },
        {
         "marker": {
          "color": "blue",
          "line": {
           "width": 1
          },
          "size": 14
         },
         "mode": "markers",
         "name": "FCC",
         "type": "scatter",
         "x": [
          null
         ],
         "y": [
          null
         ]
        },
        {
         "marker": {
          "color": "red",
          "line": {
           "width": 1
          },
          "size": 14
         },
         "mode": "markers",
         "name": "BCC",
         "type": "scatter",
         "x": [
          null
         ],
         "y": [
          null
         ]
        },
        {
         "marker": {
          "color": "orange",
          "line": {
           "width": 1
          },
          "size": 14
         },
         "mode": "markers",
         "name": "HCP",
         "type": "scatter",
         "x": [
          null
         ],
         "y": [
          null
         ]
        },
        {
         "marker": {
          "color": "green",
          "line": {
           "width": 1
          },
          "size": 14
         },
         "mode": "markers",
         "name": "Other",
         "type": "scatter",
         "x": [
          null
         ],
         "y": [
          null
         ]
        }
       ],
       "layout": {
        "font": {
         "family": "Arial"
        },
        "height": 800,
        "hovermode": "closest",
        "legend": {
         "font": {
          "size": 24
         }
        },
        "showlegend": true,
        "template": {
         "data": {
          "bar": [
           {
            "error_x": {
             "color": "#2a3f5f"
            },
            "error_y": {
             "color": "#2a3f5f"
            },
            "marker": {
             "line": {
              "color": "#E5ECF6",
              "width": 0.5
             }
            },
            "type": "bar"
           }
          ],
          "barpolar": [
           {
            "marker": {
             "line": {
              "color": "#E5ECF6",
              "width": 0.5
             }
            },
            "type": "barpolar"
           }
          ],
          "carpet": [
           {
            "aaxis": {
             "endlinecolor": "#2a3f5f",
             "gridcolor": "white",
             "linecolor": "white",
             "minorgridcolor": "white",
             "startlinecolor": "#2a3f5f"
            },
            "baxis": {
             "endlinecolor": "#2a3f5f",
             "gridcolor": "white",
             "linecolor": "white",
             "minorgridcolor": "white",
             "startlinecolor": "#2a3f5f"
            },
            "type": "carpet"
           }
          ],
          "choropleth": [
           {
            "colorbar": {
             "outlinewidth": 0,
             "ticks": ""
            },
            "type": "choropleth"
           }
          ],
          "contour": [
           {
            "colorbar": {
             "outlinewidth": 0,
             "ticks": ""
            },
            "colorscale": [
             [
              0,
              "#0d0887"
             ],
             [
              0.1111111111111111,
              "#46039f"
             ],
             [
              0.2222222222222222,
              "#7201a8"
             ],
             [
              0.3333333333333333,
              "#9c179e"
             ],
             [
              0.4444444444444444,
              "#bd3786"
             ],
             [
              0.5555555555555556,
              "#d8576b"
             ],
             [
              0.6666666666666666,
              "#ed7953"
             ],
             [
              0.7777777777777778,
              "#fb9f3a"
             ],
             [
              0.8888888888888888,
              "#fdca26"
             ],
             [
              1,
              "#f0f921"
             ]
            ],
            "type": "contour"
           }
          ],
          "contourcarpet": [
           {
            "colorbar": {
             "outlinewidth": 0,
             "ticks": ""
            },
            "type": "contourcarpet"
           }
          ],
          "heatmap": [
           {
            "colorbar": {
             "outlinewidth": 0,
             "ticks": ""
            },
            "colorscale": [
             [
              0,
              "#0d0887"
             ],
             [
              0.1111111111111111,
              "#46039f"
             ],
             [
              0.2222222222222222,
              "#7201a8"
             ],
             [
              0.3333333333333333,
              "#9c179e"
             ],
             [
              0.4444444444444444,
              "#bd3786"
             ],
             [
              0.5555555555555556,
              "#d8576b"
             ],
             [
              0.6666666666666666,
              "#ed7953"
             ],
             [
              0.7777777777777778,
              "#fb9f3a"
             ],
             [
              0.8888888888888888,
              "#fdca26"
             ],
             [
              1,
              "#f0f921"
             ]
            ],
            "type": "heatmap"
           }
          ],
          "heatmapgl": [
           {
            "colorbar": {
             "outlinewidth": 0,
             "ticks": ""
            },
            "colorscale": [
             [
              0,
              "#0d0887"
             ],
             [
              0.1111111111111111,
              "#46039f"
             ],
             [
              0.2222222222222222,
              "#7201a8"
             ],
             [
              0.3333333333333333,
              "#9c179e"
             ],
             [
              0.4444444444444444,
              "#bd3786"
             ],
             [
              0.5555555555555556,
              "#d8576b"
             ],
             [
              0.6666666666666666,
              "#ed7953"
             ],
             [
              0.7777777777777778,
              "#fb9f3a"
             ],
             [
              0.8888888888888888,
              "#fdca26"
             ],
             [
              1,
              "#f0f921"
             ]
            ],
            "type": "heatmapgl"
           }
          ],
          "histogram": [
           {
            "marker": {
             "colorbar": {
              "outlinewidth": 0,
              "ticks": ""
             }
            },
            "type": "histogram"
           }
          ],
          "histogram2d": [
           {
            "colorbar": {
             "outlinewidth": 0,
             "ticks": ""
            },
            "colorscale": [
             [
              0,
              "#0d0887"
             ],
             [
              0.1111111111111111,
              "#46039f"
             ],
             [
              0.2222222222222222,
              "#7201a8"
             ],
             [
              0.3333333333333333,
              "#9c179e"
             ],
             [
              0.4444444444444444,
              "#bd3786"
             ],
             [
              0.5555555555555556,
              "#d8576b"
             ],
             [
              0.6666666666666666,
              "#ed7953"
             ],
             [
              0.7777777777777778,
              "#fb9f3a"
             ],
             [
              0.8888888888888888,
              "#fdca26"
             ],
             [
              1,
              "#f0f921"
             ]
            ],
            "type": "histogram2d"
           }
          ],
          "histogram2dcontour": [
           {
            "colorbar": {
             "outlinewidth": 0,
             "ticks": ""
            },
            "colorscale": [
             [
              0,
              "#0d0887"
             ],
             [
              0.1111111111111111,
              "#46039f"
             ],
             [
              0.2222222222222222,
              "#7201a8"
             ],
             [
              0.3333333333333333,
              "#9c179e"
             ],
             [
              0.4444444444444444,
              "#bd3786"
             ],
             [
              0.5555555555555556,
              "#d8576b"
             ],
             [
              0.6666666666666666,
              "#ed7953"
             ],
             [
              0.7777777777777778,
              "#fb9f3a"
             ],
             [
              0.8888888888888888,
              "#fdca26"
             ],
             [
              1,
              "#f0f921"
             ]
            ],
            "type": "histogram2dcontour"
           }
          ],
          "mesh3d": [
           {
            "colorbar": {
             "outlinewidth": 0,
             "ticks": ""
            },
            "type": "mesh3d"
           }
          ],
          "parcoords": [
           {
            "line": {
             "colorbar": {
              "outlinewidth": 0,
              "ticks": ""
             }
            },
            "type": "parcoords"
           }
          ],
          "pie": [
           {
            "automargin": true,
            "type": "pie"
           }
          ],
          "scatter": [
           {
            "marker": {
             "colorbar": {
              "outlinewidth": 0,
              "ticks": ""
             }
            },
            "type": "scatter"
           }
          ],
          "scatter3d": [
           {
            "line": {
             "colorbar": {
              "outlinewidth": 0,
              "ticks": ""
             }
            },
            "marker": {
             "colorbar": {
              "outlinewidth": 0,
              "ticks": ""
             }
            },
            "type": "scatter3d"
           }
          ],
          "scattercarpet": [
           {
            "marker": {
             "colorbar": {
              "outlinewidth": 0,
              "ticks": ""
             }
            },
            "type": "scattercarpet"
           }
          ],
          "scattergeo": [
           {
            "marker": {
             "colorbar": {
              "outlinewidth": 0,
              "ticks": ""
             }
            },
            "type": "scattergeo"
           }
          ],
          "scattergl": [
           {
            "marker": {
             "colorbar": {
              "outlinewidth": 0,
              "ticks": ""
             }
            },
            "type": "scattergl"
           }
          ],
          "scattermapbox": [
           {
            "marker": {
             "colorbar": {
              "outlinewidth": 0,
              "ticks": ""
             }
            },
            "type": "scattermapbox"
           }
          ],
          "scatterpolar": [
           {
            "marker": {
             "colorbar": {
              "outlinewidth": 0,
              "ticks": ""
             }
            },
            "type": "scatterpolar"
           }
          ],
          "scatterpolargl": [
           {
            "marker": {
             "colorbar": {
              "outlinewidth": 0,
              "ticks": ""
             }
            },
            "type": "scatterpolargl"
           }
          ],
          "scatterternary": [
           {
            "marker": {
             "colorbar": {
              "outlinewidth": 0,
              "ticks": ""
             }
            },
            "type": "scatterternary"
           }
          ],
          "surface": [
           {
            "colorbar": {
             "outlinewidth": 0,
             "ticks": ""
            },
            "colorscale": [
             [
              0,
              "#0d0887"
             ],
             [
              0.1111111111111111,
              "#46039f"
             ],
             [
              0.2222222222222222,
              "#7201a8"
             ],
             [
              0.3333333333333333,
              "#9c179e"
             ],
             [
              0.4444444444444444,
              "#bd3786"
             ],
             [
              0.5555555555555556,
              "#d8576b"
             ],
             [
              0.6666666666666666,
              "#ed7953"
             ],
             [
              0.7777777777777778,
              "#fb9f3a"
             ],
             [
              0.8888888888888888,
              "#fdca26"
             ],
             [
              1,
              "#f0f921"
             ]
            ],
            "type": "surface"
           }
          ],
          "table": [
           {
            "cells": {
             "fill": {
              "color": "#EBF0F8"
             },
             "line": {
              "color": "white"
             }
            },
            "header": {
             "fill": {
              "color": "#C8D4E3"
             },
             "line": {
              "color": "white"
             }
            },
            "type": "table"
           }
          ]
         },
         "layout": {
          "annotationdefaults": {
           "arrowcolor": "#2a3f5f",
           "arrowhead": 0,
           "arrowwidth": 1
          },
          "coloraxis": {
           "colorbar": {
            "outlinewidth": 0,
            "ticks": ""
           }
          },
          "colorscale": {
           "diverging": [
            [
             0,
             "#8e0152"
            ],
            [
             0.1,
             "#c51b7d"
            ],
            [
             0.2,
             "#de77ae"
            ],
            [
             0.3,
             "#f1b6da"
            ],
            [
             0.4,
             "#fde0ef"
            ],
            [
             0.5,
             "#f7f7f7"
            ],
            [
             0.6,
             "#e6f5d0"
            ],
            [
             0.7,
             "#b8e186"
            ],
            [
             0.8,
             "#7fbc41"
            ],
            [
             0.9,
             "#4d9221"
            ],
            [
             1,
             "#276419"
            ]
           ],
           "sequential": [
            [
             0,
             "#0d0887"
            ],
            [
             0.1111111111111111,
             "#46039f"
            ],
            [
             0.2222222222222222,
             "#7201a8"
            ],
            [
             0.3333333333333333,
             "#9c179e"
            ],
            [
             0.4444444444444444,
             "#bd3786"
            ],
            [
             0.5555555555555556,
             "#d8576b"
            ],
            [
             0.6666666666666666,
             "#ed7953"
            ],
            [
             0.7777777777777778,
             "#fb9f3a"
            ],
            [
             0.8888888888888888,
             "#fdca26"
            ],
            [
             1,
             "#f0f921"
            ]
           ],
           "sequentialminus": [
            [
             0,
             "#0d0887"
            ],
            [
             0.1111111111111111,
             "#46039f"
            ],
            [
             0.2222222222222222,
             "#7201a8"
            ],
            [
             0.3333333333333333,
             "#9c179e"
            ],
            [
             0.4444444444444444,
             "#bd3786"
            ],
            [
             0.5555555555555556,
             "#d8576b"
            ],
            [
             0.6666666666666666,
             "#ed7953"
            ],
            [
             0.7777777777777778,
             "#fb9f3a"
            ],
            [
             0.8888888888888888,
             "#fdca26"
            ],
            [
             1,
             "#f0f921"
            ]
           ]
          },
          "colorway": [
           "#636efa",
           "#EF553B",
           "#00cc96",
           "#ab63fa",
           "#FFA15A",
           "#19d3f3",
           "#FF6692",
           "#B6E880",
           "#FF97FF",
           "#FECB52"
          ],
          "font": {
           "color": "#2a3f5f"
          },
          "geo": {
           "bgcolor": "white",
           "lakecolor": "white",
           "landcolor": "#E5ECF6",
           "showlakes": true,
           "showland": true,
           "subunitcolor": "white"
          },
          "hoverlabel": {
           "align": "left"
          },
          "hovermode": "closest",
          "mapbox": {
           "style": "light"
          },
          "paper_bgcolor": "white",
          "plot_bgcolor": "#E5ECF6",
          "polar": {
           "angularaxis": {
            "gridcolor": "white",
            "linecolor": "white",
            "ticks": ""
           },
           "bgcolor": "#E5ECF6",
           "radialaxis": {
            "gridcolor": "white",
            "linecolor": "white",
            "ticks": ""
           }
          },
          "scene": {
           "xaxis": {
            "backgroundcolor": "#E5ECF6",
            "gridcolor": "white",
            "gridwidth": 2,
            "linecolor": "white",
            "showbackground": true,
            "ticks": "",
            "zerolinecolor": "white"
           },
           "yaxis": {
            "backgroundcolor": "#E5ECF6",
            "gridcolor": "white",
            "gridwidth": 2,
            "linecolor": "white",
            "showbackground": true,
            "ticks": "",
            "zerolinecolor": "white"
           },
           "zaxis": {
            "backgroundcolor": "#E5ECF6",
            "gridcolor": "white",
            "gridwidth": 2,
            "linecolor": "white",
            "showbackground": true,
            "ticks": "",
            "zerolinecolor": "white"
           }
          },
          "shapedefaults": {
           "line": {
            "color": "#2a3f5f"
           }
          },
          "ternary": {
           "aaxis": {
            "gridcolor": "white",
            "linecolor": "white",
            "ticks": ""
           },
           "baxis": {
            "gridcolor": "white",
            "linecolor": "white",
            "ticks": ""
           },
           "bgcolor": "#E5ECF6",
           "caxis": {
            "gridcolor": "white",
            "linecolor": "white",
            "ticks": ""
           }
          },
          "title": {
           "x": 0.05
          },
          "xaxis": {
           "automargin": true,
           "gridcolor": "white",
           "linecolor": "white",
           "ticks": "",
           "title": {
            "standoff": 15
           },
           "zerolinecolor": "white",
           "zerolinewidth": 2
          },
          "yaxis": {
           "automargin": true,
           "gridcolor": "white",
           "linecolor": "white",
           "ticks": "",
           "title": {
            "standoff": 15
           },
           "zerolinecolor": "white",
           "zerolinewidth": 2
          }
         }
        },
        "title": {
         "font": {
          "color": "Black",
          "size": 38
         },
         "text": "Specific Heat on Melting Temperature"
        },
        "width": 800,
        "xaxis": {
         "gridwidth": 1.5,
         "tickfont": {
          "size": 24
         },
         "title": {
          "font": {
           "size": 36
          },
          "text": "Melting Temperature [K]"
         },
         "zeroline": false
        },
        "yaxis": {
         "gridwidth": 1.5,
         "tickfont": {
          "size": 24
         },
         "title": {
          "font": {
           "size": 36
          },
          "text": "Specific Heat [J/g°C]"
         },
         "zeroline": false
        }
       }
      },
      "text/html": [
       "<div>\n",
       "        \n",
       "        \n",
       "            <div id=\"bc8c7674-275b-4c8b-86bd-a2ba428bd955\" class=\"plotly-graph-div\" style=\"height:800px; width:800px;\"></div>\n",
       "            <script type=\"text/javascript\">\n",
       "                require([\"plotly\"], function(Plotly) {\n",
       "                    window.PLOTLYENV=window.PLOTLYENV || {};\n",
       "                    \n",
       "                if (document.getElementById(\"bc8c7674-275b-4c8b-86bd-a2ba428bd955\")) {\n",
       "                    Plotly.newPlot(\n",
       "                        'bc8c7674-275b-4c8b-86bd-a2ba428bd955',\n",
       "                        [{\"marker\": {\"color\": [\"green\", \"green\", \"red\", \"orange\", \"green\", \"green\", \"green\", \"green\", \"green\", \"green\", \"red\", \"orange\", \"blue\", \"green\", \"red\", \"green\", \"green\", \"green\", \"red\", \"orange\", \"orange\", \"orange\", \"red\", \"red\", \"red\", \"red\", \"orange\", \"blue\", \"blue\", \"orange\", \"green\", \"green\", \"green\", \"green\", \"green\", \"green\", \"red\", \"blue\", \"orange\", \"orange\", \"red\", \"red\", \"orange\", \"orange\", \"blue\", \"blue\", \"blue\", \"orange\", \"green\", \"green\", \"green\", \"green\", \"green\", \"green\", \"red\", \"red\", \"orange\", \"red\", \"red\", \"orange\", \"orange\", \"blue\", \"blue\", \"blue\", \"green\", \"orange\", \"blue\", \"green\", \"green\", \"green\", \"green\", \"green\", \"green\", \"green\", \"green\", \"green\", \"green\", \"green\", \"green\", \"green\", \"red\", \"orange\", \"orange\", \"orange\", \"orange\", \"orange\", \"orange\", \"blue\", \"orange\", \"green\", \"blue\", \"green\", \"green\", \"green\", \"green\", \"green\", \"green\", \"green\", \"green\", \"green\", \"green\", \"green\", \"green\"], \"line\": {\"width\": 1}, \"size\": 18}, \"mode\": \"markers\", \"showlegend\": false, \"text\": [\"H\", \"He\", \"Li\", \"Be\", \"B\", \"C\", \"N\", \"O\", \"F\", \"Ne\", \"Na\", \"Mg\", \"Al\", \"Si\", \"P\", \"S\", \"Cl\", \"Ar\", \"K\", \"Ca\", \"Sc\", \"Ti\", \"V\", \"Cr\", \"Mn\", \"Fe\", \"Co\", \"Ni\", \"Cu\", \"Zn\", \"Ga\", \"Ge\", \"As\", \"Se\", \"Br\", \"Kr\", \"Rb\", \"Sr\", \"Y\", \"Zr\", \"Nb\", \"Mo\", \"Tc\", \"Ru\", \"Rh\", \"Pd\", \"Ag\", \"Cd\", \"In\", \"Sn\", \"Sb\", \"Te\", \"I\", \"Xe\", \"Cs\", \"Ba\", \"Hf\", \"Ta\", \"W\", \"Re\", \"Os\", \"Ir\", \"Pt\", \"Au\", \"Hg\", \"Tl\", \"Pb\", \"Bi\", \"Po\", \"At\", \"Rn\", \"Fr\", \"Ra\", \"Lr\", \"La\", \"Ce\", \"Pr\", \"Nd\", \"Pm\", \"Sm\", \"Eu\", \"Gd\", \"Tb\", \"Dy\", \"Ho\", \"Er\", \"Tm\", \"Yb\", \"Lu\", \"Ac\", \"Th\", \"Pa\", \"U\", \"Np\", \"Pu\", \"Am\", \"Cm\", \"Bk\", \"Cf\", \"Es\", \"Fm\", \"Md\", \"No\"], \"type\": \"scatter\", \"x\": [14.01, 0.95, 453.69, 1560.0, 2349.0, 3800.0, 63.05, 54.8, 53.53, 24.56, 370.87, 923.0, 933.47, 1687.0, 317.3, 388.36, 171.6, 83.8, 336.53, 1115.0, 1814.0, 1941.0, 2183.0, 2180.0, 1519.0, 1811.0, 1768.0, 1728.0, 1357.77, 692.68, 302.91, 1211.4, 1090.0, 494.0, 265.8, 115.79, 312.46, 1050.0, 1799.0, 2128.0, 2750.0, 2896.0, 2430.0, 2607.0, 2237.0, 1828.05, 1234.93, 594.22, 429.75, 505.08, 903.78, 722.66, 386.85, 161.4, 301.59, 1000.0, 2506.0, 3290.0, 3695.0, 3459.0, 3306.0, 2739.0, 2041.4, 1337.33, 234.32, 577.0, 600.61, 544.4, 527.0, 575.0, 202.0, \"maybe about 300 K\", 973.0, 1900.0, 1193.0, 1068.0, 1208.0, 1297.0, 1373.0, 1345.0, 1099.0, 1585.0, 1629.0, 1680.0, 1734.0, 1802.0, 1818.0, 1097.0, 1925.0, 1323.0, 2115.0, 1841.0, 1405.3, 910.0, 912.5, 1449.0, 1613.0, 1259.0, 1173.0, 1133.0, 1800.0, 1100.0, 1100.0], \"y\": [null, 5.188, 3.489, 1.824, 1.025, 0.711, null, null, null, 1.029, 1.222, 1.025, 0.9, 0.703, 0.757, 0.732, null, 0.138, 0.753, 0.653, 0.556, 0.523, 0.485, 0.488, 0.477, 0.443, 0.456, 0.443, 0.385, 0.388, 0.372, 0.322, 0.328, null, null, 0.247, 0.36, 0.301, 0.284, 0.281, 0.268, 0.251, 0.243, 0.238, 0.244, 0.244, 0.237, 0.232, 0.234, 0.222, 0.205, 0.201, null, 0.158, 0.241, 0.192, 0.146, 0.14, 0.133, 0.138, 0.131, 0.133, 0.133, 0.129, 0.138, 0.128, 0.159, 0.124, 0.125, null, 0.094, null, 0.12, null, 0.197, 0.205, 0.192, 0.205, 0.185, 0.18, 0.176, 0.23, 0.183, 0.173, 0.164, 0.168, 0.16, 0.145, 0.155, null, 0.113, 0.121, 0.115, null, null, null, null, null, null, null, null, null, null]}, {\"marker\": {\"color\": \"blue\", \"line\": {\"width\": 1}, \"size\": 14}, \"mode\": \"markers\", \"name\": \"FCC\", \"type\": \"scatter\", \"x\": [null], \"y\": [null]}, {\"marker\": {\"color\": \"red\", \"line\": {\"width\": 1}, \"size\": 14}, \"mode\": \"markers\", \"name\": \"BCC\", \"type\": \"scatter\", \"x\": [null], \"y\": [null]}, {\"marker\": {\"color\": \"orange\", \"line\": {\"width\": 1}, \"size\": 14}, \"mode\": \"markers\", \"name\": \"HCP\", \"type\": \"scatter\", \"x\": [null], \"y\": [null]}, {\"marker\": {\"color\": \"green\", \"line\": {\"width\": 1}, \"size\": 14}, \"mode\": \"markers\", \"name\": \"Other\", \"type\": \"scatter\", \"x\": [null], \"y\": [null]}],\n",
       "                        {\"font\": {\"family\": \"Arial\"}, \"height\": 800, \"hovermode\": \"closest\", \"legend\": {\"font\": {\"size\": 24}}, \"showlegend\": true, \"template\": {\"data\": {\"bar\": [{\"error_x\": {\"color\": \"#2a3f5f\"}, \"error_y\": {\"color\": \"#2a3f5f\"}, \"marker\": {\"line\": {\"color\": \"#E5ECF6\", \"width\": 0.5}}, \"type\": \"bar\"}], \"barpolar\": [{\"marker\": {\"line\": {\"color\": \"#E5ECF6\", \"width\": 0.5}}, \"type\": \"barpolar\"}], \"carpet\": [{\"aaxis\": {\"endlinecolor\": \"#2a3f5f\", \"gridcolor\": \"white\", \"linecolor\": \"white\", \"minorgridcolor\": \"white\", \"startlinecolor\": \"#2a3f5f\"}, \"baxis\": {\"endlinecolor\": \"#2a3f5f\", \"gridcolor\": \"white\", \"linecolor\": \"white\", \"minorgridcolor\": \"white\", \"startlinecolor\": \"#2a3f5f\"}, \"type\": \"carpet\"}], \"choropleth\": [{\"colorbar\": {\"outlinewidth\": 0, \"ticks\": \"\"}, \"type\": \"choropleth\"}], \"contour\": [{\"colorbar\": {\"outlinewidth\": 0, \"ticks\": \"\"}, \"colorscale\": [[0.0, \"#0d0887\"], [0.1111111111111111, \"#46039f\"], [0.2222222222222222, \"#7201a8\"], [0.3333333333333333, \"#9c179e\"], [0.4444444444444444, \"#bd3786\"], [0.5555555555555556, \"#d8576b\"], [0.6666666666666666, \"#ed7953\"], [0.7777777777777778, \"#fb9f3a\"], [0.8888888888888888, \"#fdca26\"], [1.0, \"#f0f921\"]], \"type\": \"contour\"}], \"contourcarpet\": [{\"colorbar\": {\"outlinewidth\": 0, \"ticks\": \"\"}, \"type\": \"contourcarpet\"}], \"heatmap\": [{\"colorbar\": {\"outlinewidth\": 0, \"ticks\": \"\"}, \"colorscale\": [[0.0, \"#0d0887\"], [0.1111111111111111, \"#46039f\"], [0.2222222222222222, \"#7201a8\"], [0.3333333333333333, \"#9c179e\"], [0.4444444444444444, \"#bd3786\"], [0.5555555555555556, \"#d8576b\"], [0.6666666666666666, \"#ed7953\"], [0.7777777777777778, \"#fb9f3a\"], [0.8888888888888888, \"#fdca26\"], [1.0, \"#f0f921\"]], \"type\": \"heatmap\"}], \"heatmapgl\": [{\"colorbar\": {\"outlinewidth\": 0, \"ticks\": \"\"}, \"colorscale\": [[0.0, \"#0d0887\"], [0.1111111111111111, \"#46039f\"], [0.2222222222222222, \"#7201a8\"], [0.3333333333333333, \"#9c179e\"], [0.4444444444444444, \"#bd3786\"], [0.5555555555555556, \"#d8576b\"], [0.6666666666666666, \"#ed7953\"], [0.7777777777777778, \"#fb9f3a\"], [0.8888888888888888, \"#fdca26\"], [1.0, \"#f0f921\"]], \"type\": \"heatmapgl\"}], \"histogram\": [{\"marker\": {\"colorbar\": {\"outlinewidth\": 0, \"ticks\": \"\"}}, \"type\": \"histogram\"}], \"histogram2d\": [{\"colorbar\": {\"outlinewidth\": 0, \"ticks\": \"\"}, \"colorscale\": [[0.0, \"#0d0887\"], [0.1111111111111111, \"#46039f\"], [0.2222222222222222, \"#7201a8\"], [0.3333333333333333, \"#9c179e\"], [0.4444444444444444, \"#bd3786\"], [0.5555555555555556, \"#d8576b\"], [0.6666666666666666, \"#ed7953\"], [0.7777777777777778, \"#fb9f3a\"], [0.8888888888888888, \"#fdca26\"], [1.0, \"#f0f921\"]], \"type\": \"histogram2d\"}], \"histogram2dcontour\": [{\"colorbar\": {\"outlinewidth\": 0, \"ticks\": \"\"}, \"colorscale\": [[0.0, \"#0d0887\"], [0.1111111111111111, \"#46039f\"], [0.2222222222222222, \"#7201a8\"], [0.3333333333333333, \"#9c179e\"], [0.4444444444444444, \"#bd3786\"], [0.5555555555555556, \"#d8576b\"], [0.6666666666666666, \"#ed7953\"], [0.7777777777777778, \"#fb9f3a\"], [0.8888888888888888, \"#fdca26\"], [1.0, \"#f0f921\"]], \"type\": \"histogram2dcontour\"}], \"mesh3d\": [{\"colorbar\": {\"outlinewidth\": 0, \"ticks\": \"\"}, \"type\": \"mesh3d\"}], \"parcoords\": [{\"line\": {\"colorbar\": {\"outlinewidth\": 0, \"ticks\": \"\"}}, \"type\": \"parcoords\"}], \"pie\": [{\"automargin\": true, \"type\": \"pie\"}], \"scatter\": [{\"marker\": {\"colorbar\": {\"outlinewidth\": 0, \"ticks\": \"\"}}, \"type\": \"scatter\"}], \"scatter3d\": [{\"line\": {\"colorbar\": {\"outlinewidth\": 0, \"ticks\": \"\"}}, \"marker\": {\"colorbar\": {\"outlinewidth\": 0, \"ticks\": \"\"}}, \"type\": \"scatter3d\"}], \"scattercarpet\": [{\"marker\": {\"colorbar\": {\"outlinewidth\": 0, \"ticks\": \"\"}}, \"type\": \"scattercarpet\"}], \"scattergeo\": [{\"marker\": {\"colorbar\": {\"outlinewidth\": 0, \"ticks\": \"\"}}, \"type\": \"scattergeo\"}], \"scattergl\": [{\"marker\": {\"colorbar\": {\"outlinewidth\": 0, \"ticks\": \"\"}}, \"type\": \"scattergl\"}], \"scattermapbox\": [{\"marker\": {\"colorbar\": {\"outlinewidth\": 0, \"ticks\": \"\"}}, \"type\": \"scattermapbox\"}], \"scatterpolar\": [{\"marker\": {\"colorbar\": {\"outlinewidth\": 0, \"ticks\": \"\"}}, \"type\": \"scatterpolar\"}], \"scatterpolargl\": [{\"marker\": {\"colorbar\": {\"outlinewidth\": 0, \"ticks\": \"\"}}, \"type\": \"scatterpolargl\"}], \"scatterternary\": [{\"marker\": {\"colorbar\": {\"outlinewidth\": 0, \"ticks\": \"\"}}, \"type\": \"scatterternary\"}], \"surface\": [{\"colorbar\": {\"outlinewidth\": 0, \"ticks\": \"\"}, \"colorscale\": [[0.0, \"#0d0887\"], [0.1111111111111111, \"#46039f\"], [0.2222222222222222, \"#7201a8\"], [0.3333333333333333, \"#9c179e\"], [0.4444444444444444, \"#bd3786\"], [0.5555555555555556, \"#d8576b\"], [0.6666666666666666, \"#ed7953\"], [0.7777777777777778, \"#fb9f3a\"], [0.8888888888888888, \"#fdca26\"], [1.0, \"#f0f921\"]], \"type\": \"surface\"}], \"table\": [{\"cells\": {\"fill\": {\"color\": \"#EBF0F8\"}, \"line\": {\"color\": \"white\"}}, \"header\": {\"fill\": {\"color\": \"#C8D4E3\"}, \"line\": {\"color\": \"white\"}}, \"type\": \"table\"}]}, \"layout\": {\"annotationdefaults\": {\"arrowcolor\": \"#2a3f5f\", \"arrowhead\": 0, \"arrowwidth\": 1}, \"coloraxis\": {\"colorbar\": {\"outlinewidth\": 0, \"ticks\": \"\"}}, \"colorscale\": {\"diverging\": [[0, \"#8e0152\"], [0.1, \"#c51b7d\"], [0.2, \"#de77ae\"], [0.3, \"#f1b6da\"], [0.4, \"#fde0ef\"], [0.5, \"#f7f7f7\"], [0.6, \"#e6f5d0\"], [0.7, \"#b8e186\"], [0.8, \"#7fbc41\"], [0.9, \"#4d9221\"], [1, \"#276419\"]], \"sequential\": [[0.0, \"#0d0887\"], [0.1111111111111111, \"#46039f\"], [0.2222222222222222, \"#7201a8\"], [0.3333333333333333, \"#9c179e\"], [0.4444444444444444, \"#bd3786\"], [0.5555555555555556, \"#d8576b\"], [0.6666666666666666, \"#ed7953\"], [0.7777777777777778, \"#fb9f3a\"], [0.8888888888888888, \"#fdca26\"], [1.0, \"#f0f921\"]], \"sequentialminus\": [[0.0, \"#0d0887\"], [0.1111111111111111, \"#46039f\"], [0.2222222222222222, \"#7201a8\"], [0.3333333333333333, \"#9c179e\"], [0.4444444444444444, \"#bd3786\"], [0.5555555555555556, \"#d8576b\"], [0.6666666666666666, \"#ed7953\"], [0.7777777777777778, \"#fb9f3a\"], [0.8888888888888888, \"#fdca26\"], [1.0, \"#f0f921\"]]}, \"colorway\": [\"#636efa\", \"#EF553B\", \"#00cc96\", \"#ab63fa\", \"#FFA15A\", \"#19d3f3\", \"#FF6692\", \"#B6E880\", \"#FF97FF\", \"#FECB52\"], \"font\": {\"color\": \"#2a3f5f\"}, \"geo\": {\"bgcolor\": \"white\", \"lakecolor\": \"white\", \"landcolor\": \"#E5ECF6\", \"showlakes\": true, \"showland\": true, \"subunitcolor\": \"white\"}, \"hoverlabel\": {\"align\": \"left\"}, \"hovermode\": \"closest\", \"mapbox\": {\"style\": \"light\"}, \"paper_bgcolor\": \"white\", \"plot_bgcolor\": \"#E5ECF6\", \"polar\": {\"angularaxis\": {\"gridcolor\": \"white\", \"linecolor\": \"white\", \"ticks\": \"\"}, \"bgcolor\": \"#E5ECF6\", \"radialaxis\": {\"gridcolor\": \"white\", \"linecolor\": \"white\", \"ticks\": \"\"}}, \"scene\": {\"xaxis\": {\"backgroundcolor\": \"#E5ECF6\", \"gridcolor\": \"white\", \"gridwidth\": 2, \"linecolor\": \"white\", \"showbackground\": true, \"ticks\": \"\", \"zerolinecolor\": \"white\"}, \"yaxis\": {\"backgroundcolor\": \"#E5ECF6\", \"gridcolor\": \"white\", \"gridwidth\": 2, \"linecolor\": \"white\", \"showbackground\": true, \"ticks\": \"\", \"zerolinecolor\": \"white\"}, \"zaxis\": {\"backgroundcolor\": \"#E5ECF6\", \"gridcolor\": \"white\", \"gridwidth\": 2, \"linecolor\": \"white\", \"showbackground\": true, \"ticks\": \"\", \"zerolinecolor\": \"white\"}}, \"shapedefaults\": {\"line\": {\"color\": \"#2a3f5f\"}}, \"ternary\": {\"aaxis\": {\"gridcolor\": \"white\", \"linecolor\": \"white\", \"ticks\": \"\"}, \"baxis\": {\"gridcolor\": \"white\", \"linecolor\": \"white\", \"ticks\": \"\"}, \"bgcolor\": \"#E5ECF6\", \"caxis\": {\"gridcolor\": \"white\", \"linecolor\": \"white\", \"ticks\": \"\"}}, \"title\": {\"x\": 0.05}, \"xaxis\": {\"automargin\": true, \"gridcolor\": \"white\", \"linecolor\": \"white\", \"ticks\": \"\", \"title\": {\"standoff\": 15}, \"zerolinecolor\": \"white\", \"zerolinewidth\": 2}, \"yaxis\": {\"automargin\": true, \"gridcolor\": \"white\", \"linecolor\": \"white\", \"ticks\": \"\", \"title\": {\"standoff\": 15}, \"zerolinecolor\": \"white\", \"zerolinewidth\": 2}}}, \"title\": {\"font\": {\"color\": \"Black\", \"size\": 38}, \"text\": \"Specific Heat on Melting Temperature\"}, \"width\": 800, \"xaxis\": {\"gridwidth\": 1.5, \"tickfont\": {\"size\": 24}, \"title\": {\"font\": {\"size\": 36}, \"text\": \"Melting Temperature [K]\"}, \"zeroline\": false}, \"yaxis\": {\"gridwidth\": 1.5, \"tickfont\": {\"size\": 24}, \"title\": {\"font\": {\"size\": 36}, \"text\": \"Specific Heat [J/g\\u00b0C]\"}, \"zeroline\": false}},\n",
       "                        {\"responsive\": true}\n",
       "                    ).then(function(){\n",
       "                            \n",
       "var gd = document.getElementById('bc8c7674-275b-4c8b-86bd-a2ba428bd955');\n",
       "var x = new MutationObserver(function (mutations, observer) {{\n",
       "        var display = window.getComputedStyle(gd).display;\n",
       "        if (!display || display === 'none') {{\n",
       "            console.log([gd, 'removed!']);\n",
       "            Plotly.purge(gd);\n",
       "            observer.disconnect();\n",
       "        }}\n",
       "}});\n",
       "\n",
       "// Listen for the removal of the full notebook cells\n",
       "var notebookContainer = gd.closest('#notebook-container');\n",
       "if (notebookContainer) {{\n",
       "    x.observe(notebookContainer, {childList: true});\n",
       "}}\n",
       "\n",
       "// Listen for the clearing of the current output cell\n",
       "var outputEl = gd.closest('.output');\n",
       "if (outputEl) {{\n",
       "    x.observe(outputEl, {childList: true});\n",
       "}}\n",
       "\n",
       "                        })\n",
       "                };\n",
       "                });\n",
       "            </script>\n",
       "        </div>"
      ]
     },
     "metadata": {},
     "output_type": "display_data"
    }
   ],
   "source": [
    "layout0= go.Layout(title = \"Specific Heat on Melting Temperature\", hovermode= 'closest', width = 800, height=800, showlegend=True,  # Hovermode establishes the way the labels that appear when you hover are arranged # Establishing a square plot width=height\n",
    "    xaxis= dict(title=go.layout.xaxis.Title(text='Melting Temperature [K]', font=dict(size=36)), zeroline= False, gridwidth= 1.5, tickfont=dict(size=24)), # Axis Titles. Removing the X-axis Mark. Adding a Grid\n",
    "    yaxis= dict(title=go.layout.yaxis.Title(text='Specific Heat [J/g°C]', font=dict(size=36)), zeroline= False, gridwidth= 1.5, tickfont=dict(size=24)), # Axis Titles. Removing the Y-axis Mark. Adding a Grid\n",
    "    legend=dict(font=dict(size=24))) # Adding a legend\n",
    "\n",
    "# Trace\n",
    "\n",
    "trace0 = go.Scatter(x = melting_temperature,y = specific_heat, mode = 'markers',\n",
    "    marker= dict(size= 18, line= dict(width=1), color=colors), # We add a size, a border and our custom colors to the markers\n",
    "    text= sample, # This attribute (Text) labels each point to this list, which contains our elements in the same indexes as our properties\n",
    "showlegend = False)\n",
    "\n",
    "\n",
    "# Empty Traces for Legend\n",
    "legend_plot_FCC = go.Scatter(x=[None], y=[None], mode='markers', marker=dict(size=14,  line= dict(width=1),color='blue'), name = 'FCC')\n",
    "legend_plot_BCC = go.Scatter(x=[None], y=[None], mode='markers', marker=dict(size=14,  line= dict(width=1),color='red'), name = 'BCC')\n",
    "legend_plot_HCP = go.Scatter(x=[None], y=[None], mode='markers', marker=dict(size=14,  line= dict(width=1),color='orange'), name = 'HCP')\n",
    "legend_plot_Other = go.Scatter(x=[None], y=[None], mode='markers', marker=dict(size=14, line= dict(width=1),color='green'), name = 'Other')\n",
    "\n",
    "\n",
    "data = [trace0, legend_plot_FCC, legend_plot_BCC, legend_plot_HCP, legend_plot_Other]\n",
    "\n",
    "fig= go.Figure(data, layout=layout0)\n",
    "fig.update_layout(\n",
    "    font_family=\"Arial\",\n",
    "    title_font_color=\"Black\",\n",
    "    title_font_size= 38\n",
    ")\n",
    "iplot(fig)"
   ]
  },
  {
   "cell_type": "code",
   "execution_count": 15,
   "metadata": {},
   "outputs": [
    {
     "data": {
      "application/vnd.plotly.v1+json": {
       "config": {
        "linkText": "Export to plot.ly",
        "plotlyServerURL": "https://plot.ly",
        "showLink": false
       },
       "data": [
        {
         "marker": {
          "color": [
           "green",
           "green",
           "red",
           "orange",
           "green",
           "green",
           "green",
           "green",
           "green",
           "green",
           "red",
           "orange",
           "blue",
           "green",
           "red",
           "green",
           "green",
           "green",
           "red",
           "orange",
           "orange",
           "orange",
           "red",
           "red",
           "red",
           "red",
           "orange",
           "blue",
           "blue",
           "orange",
           "green",
           "green",
           "green",
           "green",
           "green",
           "green",
           "red",
           "blue",
           "orange",
           "orange",
           "red",
           "red",
           "orange",
           "orange",
           "blue",
           "blue",
           "blue",
           "orange",
           "green",
           "green",
           "green",
           "green",
           "green",
           "green",
           "red",
           "red",
           "orange",
           "red",
           "red",
           "orange",
           "orange",
           "blue",
           "blue",
           "blue",
           "green",
           "orange",
           "blue",
           "green",
           "green",
           "green",
           "green",
           "green",
           "green",
           "green",
           "green",
           "green",
           "green",
           "green",
           "green",
           "green",
           "red",
           "orange",
           "orange",
           "orange",
           "orange",
           "orange",
           "orange",
           "blue",
           "orange",
           "green",
           "blue",
           "green",
           "green",
           "green",
           "green",
           "green",
           "green",
           "green",
           "green",
           "green",
           "green",
           "green",
           "green"
          ],
          "line": {
           "width": 1
          },
          "size": 18
         },
         "mode": "markers",
         "showlegend": false,
         "text": [
          "H",
          "He",
          "Li",
          "Be",
          "B",
          "C",
          "N",
          "O",
          "F",
          "Ne",
          "Na",
          "Mg",
          "Al",
          "Si",
          "P",
          "S",
          "Cl",
          "Ar",
          "K",
          "Ca",
          "Sc",
          "Ti",
          "V",
          "Cr",
          "Mn",
          "Fe",
          "Co",
          "Ni",
          "Cu",
          "Zn",
          "Ga",
          "Ge",
          "As",
          "Se",
          "Br",
          "Kr",
          "Rb",
          "Sr",
          "Y",
          "Zr",
          "Nb",
          "Mo",
          "Tc",
          "Ru",
          "Rh",
          "Pd",
          "Ag",
          "Cd",
          "In",
          "Sn",
          "Sb",
          "Te",
          "I",
          "Xe",
          "Cs",
          "Ba",
          "Hf",
          "Ta",
          "W",
          "Re",
          "Os",
          "Ir",
          "Pt",
          "Au",
          "Hg",
          "Tl",
          "Pb",
          "Bi",
          "Po",
          "At",
          "Rn",
          "Fr",
          "Ra",
          "Lr",
          "La",
          "Ce",
          "Pr",
          "Nd",
          "Pm",
          "Sm",
          "Eu",
          "Gd",
          "Tb",
          "Dy",
          "Ho",
          "Er",
          "Tm",
          "Yb",
          "Lu",
          "Ac",
          "Th",
          "Pa",
          "U",
          "Np",
          "Pu",
          "Am",
          "Cm",
          "Bk",
          "Cf",
          "Es",
          "Fm",
          "Md",
          "No"
         ],
         "type": "scatter",
         "x": [
          14.01,
          0.95,
          453.69,
          1560,
          2349,
          3800,
          63.05,
          54.8,
          53.53,
          24.56,
          370.87,
          923,
          933.47,
          1687,
          317.3,
          388.36,
          171.6,
          83.8,
          336.53,
          1115,
          1814,
          1941,
          2183,
          2180,
          1519,
          1811,
          1768,
          1728,
          1357.77,
          692.68,
          302.91,
          1211.4,
          1090,
          494,
          265.8,
          115.79,
          312.46,
          1050,
          1799,
          2128,
          2750,
          2896,
          2430,
          2607,
          2237,
          1828.05,
          1234.93,
          594.22,
          429.75,
          505.08,
          903.78,
          722.66,
          386.85,
          161.4,
          301.59,
          1000,
          2506,
          3290,
          3695,
          3459,
          3306,
          2739,
          2041.4,
          1337.33,
          234.32,
          577,
          600.61,
          544.4,
          527,
          575,
          202,
          "maybe about 300 K",
          973,
          1900,
          1193,
          1068,
          1208,
          1297,
          1373,
          1345,
          1099,
          1585,
          1629,
          1680,
          1734,
          1802,
          1818,
          1097,
          1925,
          1323,
          2115,
          1841,
          1405.3,
          910,
          912.5,
          1449,
          1613,
          1259,
          1173,
          1133,
          1800,
          1100,
          1100
         ],
         "y": [
          0.25,
          null,
          1.45,
          1.05,
          0.85,
          0.7,
          0.65,
          0.6,
          0.5,
          null,
          1.8,
          1.5,
          1.25,
          1.1,
          1,
          1,
          1,
          0.71,
          2.2,
          1.8,
          1.6,
          1.4,
          1.35,
          1.4,
          1.4,
          1.4,
          1.35,
          1.35,
          1.35,
          1.35,
          1.3,
          1.25,
          1.15,
          1.15,
          1.15,
          null,
          2.35,
          2,
          1.8,
          1.55,
          1.45,
          1.45,
          1.35,
          1.3,
          1.35,
          1.4,
          1.6,
          1.55,
          1.55,
          1.45,
          1.45,
          1.4,
          1.4,
          null,
          2.6,
          2.15,
          1.55,
          1.45,
          1.35,
          1.35,
          1.3,
          1.35,
          1.35,
          1.35,
          1.5,
          1.9,
          1.8,
          1.6,
          1.9,
          null,
          null,
          null,
          2.15,
          null,
          1.95,
          1.85,
          1.85,
          1.85,
          1.85,
          1.85,
          1.85,
          1.8,
          1.75,
          1.75,
          1.75,
          1.75,
          1.75,
          1.75,
          1.75,
          1.95,
          1.8,
          1.8,
          1.75,
          1.75,
          1.75,
          1.75,
          null,
          null,
          null,
          null,
          null,
          null,
          null
         ]
        },
        {
         "marker": {
          "color": "blue",
          "line": {
           "width": 1
          },
          "size": 18
         },
         "mode": "markers",
         "name": "FCC",
         "type": "scatter",
         "x": [
          null
         ],
         "y": [
          null
         ]
        },
        {
         "marker": {
          "color": "red",
          "line": {
           "width": 1
          },
          "size": 18
         },
         "mode": "markers",
         "name": "BCC",
         "type": "scatter",
         "x": [
          null
         ],
         "y": [
          null
         ]
        },
        {
         "marker": {
          "color": "orange",
          "line": {
           "width": 1
          },
          "size": 18
         },
         "mode": "markers",
         "name": "HCP",
         "type": "scatter",
         "x": [
          null
         ],
         "y": [
          null
         ]
        },
        {
         "marker": {
          "color": "green",
          "line": {
           "width": 1
          },
          "size": 18
         },
         "mode": "markers",
         "name": "Other",
         "type": "scatter",
         "x": [
          null
         ],
         "y": [
          null
         ]
        }
       ],
       "layout": {
        "font": {
         "family": "Arial"
        },
        "height": 800,
        "hovermode": "closest",
        "legend": {
         "font": {
          "size": 24
         }
        },
        "showlegend": true,
        "template": {
         "data": {
          "bar": [
           {
            "error_x": {
             "color": "#2a3f5f"
            },
            "error_y": {
             "color": "#2a3f5f"
            },
            "marker": {
             "line": {
              "color": "#E5ECF6",
              "width": 0.5
             }
            },
            "type": "bar"
           }
          ],
          "barpolar": [
           {
            "marker": {
             "line": {
              "color": "#E5ECF6",
              "width": 0.5
             }
            },
            "type": "barpolar"
           }
          ],
          "carpet": [
           {
            "aaxis": {
             "endlinecolor": "#2a3f5f",
             "gridcolor": "white",
             "linecolor": "white",
             "minorgridcolor": "white",
             "startlinecolor": "#2a3f5f"
            },
            "baxis": {
             "endlinecolor": "#2a3f5f",
             "gridcolor": "white",
             "linecolor": "white",
             "minorgridcolor": "white",
             "startlinecolor": "#2a3f5f"
            },
            "type": "carpet"
           }
          ],
          "choropleth": [
           {
            "colorbar": {
             "outlinewidth": 0,
             "ticks": ""
            },
            "type": "choropleth"
           }
          ],
          "contour": [
           {
            "colorbar": {
             "outlinewidth": 0,
             "ticks": ""
            },
            "colorscale": [
             [
              0,
              "#0d0887"
             ],
             [
              0.1111111111111111,
              "#46039f"
             ],
             [
              0.2222222222222222,
              "#7201a8"
             ],
             [
              0.3333333333333333,
              "#9c179e"
             ],
             [
              0.4444444444444444,
              "#bd3786"
             ],
             [
              0.5555555555555556,
              "#d8576b"
             ],
             [
              0.6666666666666666,
              "#ed7953"
             ],
             [
              0.7777777777777778,
              "#fb9f3a"
             ],
             [
              0.8888888888888888,
              "#fdca26"
             ],
             [
              1,
              "#f0f921"
             ]
            ],
            "type": "contour"
           }
          ],
          "contourcarpet": [
           {
            "colorbar": {
             "outlinewidth": 0,
             "ticks": ""
            },
            "type": "contourcarpet"
           }
          ],
          "heatmap": [
           {
            "colorbar": {
             "outlinewidth": 0,
             "ticks": ""
            },
            "colorscale": [
             [
              0,
              "#0d0887"
             ],
             [
              0.1111111111111111,
              "#46039f"
             ],
             [
              0.2222222222222222,
              "#7201a8"
             ],
             [
              0.3333333333333333,
              "#9c179e"
             ],
             [
              0.4444444444444444,
              "#bd3786"
             ],
             [
              0.5555555555555556,
              "#d8576b"
             ],
             [
              0.6666666666666666,
              "#ed7953"
             ],
             [
              0.7777777777777778,
              "#fb9f3a"
             ],
             [
              0.8888888888888888,
              "#fdca26"
             ],
             [
              1,
              "#f0f921"
             ]
            ],
            "type": "heatmap"
           }
          ],
          "heatmapgl": [
           {
            "colorbar": {
             "outlinewidth": 0,
             "ticks": ""
            },
            "colorscale": [
             [
              0,
              "#0d0887"
             ],
             [
              0.1111111111111111,
              "#46039f"
             ],
             [
              0.2222222222222222,
              "#7201a8"
             ],
             [
              0.3333333333333333,
              "#9c179e"
             ],
             [
              0.4444444444444444,
              "#bd3786"
             ],
             [
              0.5555555555555556,
              "#d8576b"
             ],
             [
              0.6666666666666666,
              "#ed7953"
             ],
             [
              0.7777777777777778,
              "#fb9f3a"
             ],
             [
              0.8888888888888888,
              "#fdca26"
             ],
             [
              1,
              "#f0f921"
             ]
            ],
            "type": "heatmapgl"
           }
          ],
          "histogram": [
           {
            "marker": {
             "colorbar": {
              "outlinewidth": 0,
              "ticks": ""
             }
            },
            "type": "histogram"
           }
          ],
          "histogram2d": [
           {
            "colorbar": {
             "outlinewidth": 0,
             "ticks": ""
            },
            "colorscale": [
             [
              0,
              "#0d0887"
             ],
             [
              0.1111111111111111,
              "#46039f"
             ],
             [
              0.2222222222222222,
              "#7201a8"
             ],
             [
              0.3333333333333333,
              "#9c179e"
             ],
             [
              0.4444444444444444,
              "#bd3786"
             ],
             [
              0.5555555555555556,
              "#d8576b"
             ],
             [
              0.6666666666666666,
              "#ed7953"
             ],
             [
              0.7777777777777778,
              "#fb9f3a"
             ],
             [
              0.8888888888888888,
              "#fdca26"
             ],
             [
              1,
              "#f0f921"
             ]
            ],
            "type": "histogram2d"
           }
          ],
          "histogram2dcontour": [
           {
            "colorbar": {
             "outlinewidth": 0,
             "ticks": ""
            },
            "colorscale": [
             [
              0,
              "#0d0887"
             ],
             [
              0.1111111111111111,
              "#46039f"
             ],
             [
              0.2222222222222222,
              "#7201a8"
             ],
             [
              0.3333333333333333,
              "#9c179e"
             ],
             [
              0.4444444444444444,
              "#bd3786"
             ],
             [
              0.5555555555555556,
              "#d8576b"
             ],
             [
              0.6666666666666666,
              "#ed7953"
             ],
             [
              0.7777777777777778,
              "#fb9f3a"
             ],
             [
              0.8888888888888888,
              "#fdca26"
             ],
             [
              1,
              "#f0f921"
             ]
            ],
            "type": "histogram2dcontour"
           }
          ],
          "mesh3d": [
           {
            "colorbar": {
             "outlinewidth": 0,
             "ticks": ""
            },
            "type": "mesh3d"
           }
          ],
          "parcoords": [
           {
            "line": {
             "colorbar": {
              "outlinewidth": 0,
              "ticks": ""
             }
            },
            "type": "parcoords"
           }
          ],
          "pie": [
           {
            "automargin": true,
            "type": "pie"
           }
          ],
          "scatter": [
           {
            "marker": {
             "colorbar": {
              "outlinewidth": 0,
              "ticks": ""
             }
            },
            "type": "scatter"
           }
          ],
          "scatter3d": [
           {
            "line": {
             "colorbar": {
              "outlinewidth": 0,
              "ticks": ""
             }
            },
            "marker": {
             "colorbar": {
              "outlinewidth": 0,
              "ticks": ""
             }
            },
            "type": "scatter3d"
           }
          ],
          "scattercarpet": [
           {
            "marker": {
             "colorbar": {
              "outlinewidth": 0,
              "ticks": ""
             }
            },
            "type": "scattercarpet"
           }
          ],
          "scattergeo": [
           {
            "marker": {
             "colorbar": {
              "outlinewidth": 0,
              "ticks": ""
             }
            },
            "type": "scattergeo"
           }
          ],
          "scattergl": [
           {
            "marker": {
             "colorbar": {
              "outlinewidth": 0,
              "ticks": ""
             }
            },
            "type": "scattergl"
           }
          ],
          "scattermapbox": [
           {
            "marker": {
             "colorbar": {
              "outlinewidth": 0,
              "ticks": ""
             }
            },
            "type": "scattermapbox"
           }
          ],
          "scatterpolar": [
           {
            "marker": {
             "colorbar": {
              "outlinewidth": 0,
              "ticks": ""
             }
            },
            "type": "scatterpolar"
           }
          ],
          "scatterpolargl": [
           {
            "marker": {
             "colorbar": {
              "outlinewidth": 0,
              "ticks": ""
             }
            },
            "type": "scatterpolargl"
           }
          ],
          "scatterternary": [
           {
            "marker": {
             "colorbar": {
              "outlinewidth": 0,
              "ticks": ""
             }
            },
            "type": "scatterternary"
           }
          ],
          "surface": [
           {
            "colorbar": {
             "outlinewidth": 0,
             "ticks": ""
            },
            "colorscale": [
             [
              0,
              "#0d0887"
             ],
             [
              0.1111111111111111,
              "#46039f"
             ],
             [
              0.2222222222222222,
              "#7201a8"
             ],
             [
              0.3333333333333333,
              "#9c179e"
             ],
             [
              0.4444444444444444,
              "#bd3786"
             ],
             [
              0.5555555555555556,
              "#d8576b"
             ],
             [
              0.6666666666666666,
              "#ed7953"
             ],
             [
              0.7777777777777778,
              "#fb9f3a"
             ],
             [
              0.8888888888888888,
              "#fdca26"
             ],
             [
              1,
              "#f0f921"
             ]
            ],
            "type": "surface"
           }
          ],
          "table": [
           {
            "cells": {
             "fill": {
              "color": "#EBF0F8"
             },
             "line": {
              "color": "white"
             }
            },
            "header": {
             "fill": {
              "color": "#C8D4E3"
             },
             "line": {
              "color": "white"
             }
            },
            "type": "table"
           }
          ]
         },
         "layout": {
          "annotationdefaults": {
           "arrowcolor": "#2a3f5f",
           "arrowhead": 0,
           "arrowwidth": 1
          },
          "coloraxis": {
           "colorbar": {
            "outlinewidth": 0,
            "ticks": ""
           }
          },
          "colorscale": {
           "diverging": [
            [
             0,
             "#8e0152"
            ],
            [
             0.1,
             "#c51b7d"
            ],
            [
             0.2,
             "#de77ae"
            ],
            [
             0.3,
             "#f1b6da"
            ],
            [
             0.4,
             "#fde0ef"
            ],
            [
             0.5,
             "#f7f7f7"
            ],
            [
             0.6,
             "#e6f5d0"
            ],
            [
             0.7,
             "#b8e186"
            ],
            [
             0.8,
             "#7fbc41"
            ],
            [
             0.9,
             "#4d9221"
            ],
            [
             1,
             "#276419"
            ]
           ],
           "sequential": [
            [
             0,
             "#0d0887"
            ],
            [
             0.1111111111111111,
             "#46039f"
            ],
            [
             0.2222222222222222,
             "#7201a8"
            ],
            [
             0.3333333333333333,
             "#9c179e"
            ],
            [
             0.4444444444444444,
             "#bd3786"
            ],
            [
             0.5555555555555556,
             "#d8576b"
            ],
            [
             0.6666666666666666,
             "#ed7953"
            ],
            [
             0.7777777777777778,
             "#fb9f3a"
            ],
            [
             0.8888888888888888,
             "#fdca26"
            ],
            [
             1,
             "#f0f921"
            ]
           ],
           "sequentialminus": [
            [
             0,
             "#0d0887"
            ],
            [
             0.1111111111111111,
             "#46039f"
            ],
            [
             0.2222222222222222,
             "#7201a8"
            ],
            [
             0.3333333333333333,
             "#9c179e"
            ],
            [
             0.4444444444444444,
             "#bd3786"
            ],
            [
             0.5555555555555556,
             "#d8576b"
            ],
            [
             0.6666666666666666,
             "#ed7953"
            ],
            [
             0.7777777777777778,
             "#fb9f3a"
            ],
            [
             0.8888888888888888,
             "#fdca26"
            ],
            [
             1,
             "#f0f921"
            ]
           ]
          },
          "colorway": [
           "#636efa",
           "#EF553B",
           "#00cc96",
           "#ab63fa",
           "#FFA15A",
           "#19d3f3",
           "#FF6692",
           "#B6E880",
           "#FF97FF",
           "#FECB52"
          ],
          "font": {
           "color": "#2a3f5f"
          },
          "geo": {
           "bgcolor": "white",
           "lakecolor": "white",
           "landcolor": "#E5ECF6",
           "showlakes": true,
           "showland": true,
           "subunitcolor": "white"
          },
          "hoverlabel": {
           "align": "left"
          },
          "hovermode": "closest",
          "mapbox": {
           "style": "light"
          },
          "paper_bgcolor": "white",
          "plot_bgcolor": "#E5ECF6",
          "polar": {
           "angularaxis": {
            "gridcolor": "white",
            "linecolor": "white",
            "ticks": ""
           },
           "bgcolor": "#E5ECF6",
           "radialaxis": {
            "gridcolor": "white",
            "linecolor": "white",
            "ticks": ""
           }
          },
          "scene": {
           "xaxis": {
            "backgroundcolor": "#E5ECF6",
            "gridcolor": "white",
            "gridwidth": 2,
            "linecolor": "white",
            "showbackground": true,
            "ticks": "",
            "zerolinecolor": "white"
           },
           "yaxis": {
            "backgroundcolor": "#E5ECF6",
            "gridcolor": "white",
            "gridwidth": 2,
            "linecolor": "white",
            "showbackground": true,
            "ticks": "",
            "zerolinecolor": "white"
           },
           "zaxis": {
            "backgroundcolor": "#E5ECF6",
            "gridcolor": "white",
            "gridwidth": 2,
            "linecolor": "white",
            "showbackground": true,
            "ticks": "",
            "zerolinecolor": "white"
           }
          },
          "shapedefaults": {
           "line": {
            "color": "#2a3f5f"
           }
          },
          "ternary": {
           "aaxis": {
            "gridcolor": "white",
            "linecolor": "white",
            "ticks": ""
           },
           "baxis": {
            "gridcolor": "white",
            "linecolor": "white",
            "ticks": ""
           },
           "bgcolor": "#E5ECF6",
           "caxis": {
            "gridcolor": "white",
            "linecolor": "white",
            "ticks": ""
           }
          },
          "title": {
           "x": 0.05
          },
          "xaxis": {
           "automargin": true,
           "gridcolor": "white",
           "linecolor": "white",
           "ticks": "",
           "title": {
            "standoff": 15
           },
           "zerolinecolor": "white",
           "zerolinewidth": 2
          },
          "yaxis": {
           "automargin": true,
           "gridcolor": "white",
           "linecolor": "white",
           "ticks": "",
           "title": {
            "standoff": 15
           },
           "zerolinecolor": "white",
           "zerolinewidth": 2
          }
         }
        },
        "title": {
         "font": {
          "color": "Black",
          "size": 38
         },
         "text": "Atomic Radius on Melting Temperature"
        },
        "width": 800,
        "xaxis": {
         "gridwidth": 1.5,
         "tickfont": {
          "size": 24
         },
         "title": {
          "font": {
           "size": 36
          },
          "text": "Melting Temperature [K]"
         },
         "zeroline": true
        },
        "yaxis": {
         "gridwidth": 1.5,
         "tickfont": {
          "size": 24
         },
         "title": {
          "font": {
           "size": 36
          },
          "text": "Atomic Radius [10<sup>2</sup>pm]"
         },
         "zeroline": true
        }
       }
      },
      "text/html": [
       "<div>\n",
       "        \n",
       "        \n",
       "            <div id=\"b253af04-098b-4753-aba6-d96ae8f151a1\" class=\"plotly-graph-div\" style=\"height:800px; width:800px;\"></div>\n",
       "            <script type=\"text/javascript\">\n",
       "                require([\"plotly\"], function(Plotly) {\n",
       "                    window.PLOTLYENV=window.PLOTLYENV || {};\n",
       "                    \n",
       "                if (document.getElementById(\"b253af04-098b-4753-aba6-d96ae8f151a1\")) {\n",
       "                    Plotly.newPlot(\n",
       "                        'b253af04-098b-4753-aba6-d96ae8f151a1',\n",
       "                        [{\"marker\": {\"color\": [\"green\", \"green\", \"red\", \"orange\", \"green\", \"green\", \"green\", \"green\", \"green\", \"green\", \"red\", \"orange\", \"blue\", \"green\", \"red\", \"green\", \"green\", \"green\", \"red\", \"orange\", \"orange\", \"orange\", \"red\", \"red\", \"red\", \"red\", \"orange\", \"blue\", \"blue\", \"orange\", \"green\", \"green\", \"green\", \"green\", \"green\", \"green\", \"red\", \"blue\", \"orange\", \"orange\", \"red\", \"red\", \"orange\", \"orange\", \"blue\", \"blue\", \"blue\", \"orange\", \"green\", \"green\", \"green\", \"green\", \"green\", \"green\", \"red\", \"red\", \"orange\", \"red\", \"red\", \"orange\", \"orange\", \"blue\", \"blue\", \"blue\", \"green\", \"orange\", \"blue\", \"green\", \"green\", \"green\", \"green\", \"green\", \"green\", \"green\", \"green\", \"green\", \"green\", \"green\", \"green\", \"green\", \"red\", \"orange\", \"orange\", \"orange\", \"orange\", \"orange\", \"orange\", \"blue\", \"orange\", \"green\", \"blue\", \"green\", \"green\", \"green\", \"green\", \"green\", \"green\", \"green\", \"green\", \"green\", \"green\", \"green\", \"green\"], \"line\": {\"width\": 1}, \"size\": 18}, \"mode\": \"markers\", \"showlegend\": false, \"text\": [\"H\", \"He\", \"Li\", \"Be\", \"B\", \"C\", \"N\", \"O\", \"F\", \"Ne\", \"Na\", \"Mg\", \"Al\", \"Si\", \"P\", \"S\", \"Cl\", \"Ar\", \"K\", \"Ca\", \"Sc\", \"Ti\", \"V\", \"Cr\", \"Mn\", \"Fe\", \"Co\", \"Ni\", \"Cu\", \"Zn\", \"Ga\", \"Ge\", \"As\", \"Se\", \"Br\", \"Kr\", \"Rb\", \"Sr\", \"Y\", \"Zr\", \"Nb\", \"Mo\", \"Tc\", \"Ru\", \"Rh\", \"Pd\", \"Ag\", \"Cd\", \"In\", \"Sn\", \"Sb\", \"Te\", \"I\", \"Xe\", \"Cs\", \"Ba\", \"Hf\", \"Ta\", \"W\", \"Re\", \"Os\", \"Ir\", \"Pt\", \"Au\", \"Hg\", \"Tl\", \"Pb\", \"Bi\", \"Po\", \"At\", \"Rn\", \"Fr\", \"Ra\", \"Lr\", \"La\", \"Ce\", \"Pr\", \"Nd\", \"Pm\", \"Sm\", \"Eu\", \"Gd\", \"Tb\", \"Dy\", \"Ho\", \"Er\", \"Tm\", \"Yb\", \"Lu\", \"Ac\", \"Th\", \"Pa\", \"U\", \"Np\", \"Pu\", \"Am\", \"Cm\", \"Bk\", \"Cf\", \"Es\", \"Fm\", \"Md\", \"No\"], \"type\": \"scatter\", \"x\": [14.01, 0.95, 453.69, 1560.0, 2349.0, 3800.0, 63.05, 54.8, 53.53, 24.56, 370.87, 923.0, 933.47, 1687.0, 317.3, 388.36, 171.6, 83.8, 336.53, 1115.0, 1814.0, 1941.0, 2183.0, 2180.0, 1519.0, 1811.0, 1768.0, 1728.0, 1357.77, 692.68, 302.91, 1211.4, 1090.0, 494.0, 265.8, 115.79, 312.46, 1050.0, 1799.0, 2128.0, 2750.0, 2896.0, 2430.0, 2607.0, 2237.0, 1828.05, 1234.93, 594.22, 429.75, 505.08, 903.78, 722.66, 386.85, 161.4, 301.59, 1000.0, 2506.0, 3290.0, 3695.0, 3459.0, 3306.0, 2739.0, 2041.4, 1337.33, 234.32, 577.0, 600.61, 544.4, 527.0, 575.0, 202.0, \"maybe about 300 K\", 973.0, 1900.0, 1193.0, 1068.0, 1208.0, 1297.0, 1373.0, 1345.0, 1099.0, 1585.0, 1629.0, 1680.0, 1734.0, 1802.0, 1818.0, 1097.0, 1925.0, 1323.0, 2115.0, 1841.0, 1405.3, 910.0, 912.5, 1449.0, 1613.0, 1259.0, 1173.0, 1133.0, 1800.0, 1100.0, 1100.0], \"y\": [0.25, null, 1.45, 1.05, 0.85, 0.7, 0.65, 0.6, 0.5, null, 1.8, 1.5, 1.25, 1.1, 1.0, 1.0, 1.0, 0.71, 2.2, 1.8, 1.6, 1.4, 1.35, 1.4, 1.4, 1.4, 1.35, 1.35, 1.35, 1.35, 1.3, 1.25, 1.15, 1.15, 1.15, null, 2.35, 2.0, 1.8, 1.55, 1.45, 1.45, 1.35, 1.3, 1.35, 1.4, 1.6, 1.55, 1.55, 1.45, 1.45, 1.4, 1.4, null, 2.6, 2.15, 1.55, 1.45, 1.35, 1.35, 1.3, 1.35, 1.35, 1.35, 1.5, 1.9, 1.8, 1.6, 1.9, null, null, null, 2.15, null, 1.95, 1.85, 1.85, 1.85, 1.85, 1.85, 1.85, 1.8, 1.75, 1.75, 1.75, 1.75, 1.75, 1.75, 1.75, 1.95, 1.8, 1.8, 1.75, 1.75, 1.75, 1.75, null, null, null, null, null, null, null]}, {\"marker\": {\"color\": \"blue\", \"line\": {\"width\": 1}, \"size\": 18}, \"mode\": \"markers\", \"name\": \"FCC\", \"type\": \"scatter\", \"x\": [null], \"y\": [null]}, {\"marker\": {\"color\": \"red\", \"line\": {\"width\": 1}, \"size\": 18}, \"mode\": \"markers\", \"name\": \"BCC\", \"type\": \"scatter\", \"x\": [null], \"y\": [null]}, {\"marker\": {\"color\": \"orange\", \"line\": {\"width\": 1}, \"size\": 18}, \"mode\": \"markers\", \"name\": \"HCP\", \"type\": \"scatter\", \"x\": [null], \"y\": [null]}, {\"marker\": {\"color\": \"green\", \"line\": {\"width\": 1}, \"size\": 18}, \"mode\": \"markers\", \"name\": \"Other\", \"type\": \"scatter\", \"x\": [null], \"y\": [null]}],\n",
       "                        {\"font\": {\"family\": \"Arial\"}, \"height\": 800, \"hovermode\": \"closest\", \"legend\": {\"font\": {\"size\": 24}}, \"showlegend\": true, \"template\": {\"data\": {\"bar\": [{\"error_x\": {\"color\": \"#2a3f5f\"}, \"error_y\": {\"color\": \"#2a3f5f\"}, \"marker\": {\"line\": {\"color\": \"#E5ECF6\", \"width\": 0.5}}, \"type\": \"bar\"}], \"barpolar\": [{\"marker\": {\"line\": {\"color\": \"#E5ECF6\", \"width\": 0.5}}, \"type\": \"barpolar\"}], \"carpet\": [{\"aaxis\": {\"endlinecolor\": \"#2a3f5f\", \"gridcolor\": \"white\", \"linecolor\": \"white\", \"minorgridcolor\": \"white\", \"startlinecolor\": \"#2a3f5f\"}, \"baxis\": {\"endlinecolor\": \"#2a3f5f\", \"gridcolor\": \"white\", \"linecolor\": \"white\", \"minorgridcolor\": \"white\", \"startlinecolor\": \"#2a3f5f\"}, \"type\": \"carpet\"}], \"choropleth\": [{\"colorbar\": {\"outlinewidth\": 0, \"ticks\": \"\"}, \"type\": \"choropleth\"}], \"contour\": [{\"colorbar\": {\"outlinewidth\": 0, \"ticks\": \"\"}, \"colorscale\": [[0.0, \"#0d0887\"], [0.1111111111111111, \"#46039f\"], [0.2222222222222222, \"#7201a8\"], [0.3333333333333333, \"#9c179e\"], [0.4444444444444444, \"#bd3786\"], [0.5555555555555556, \"#d8576b\"], [0.6666666666666666, \"#ed7953\"], [0.7777777777777778, \"#fb9f3a\"], [0.8888888888888888, \"#fdca26\"], [1.0, \"#f0f921\"]], \"type\": \"contour\"}], \"contourcarpet\": [{\"colorbar\": {\"outlinewidth\": 0, \"ticks\": \"\"}, \"type\": \"contourcarpet\"}], \"heatmap\": [{\"colorbar\": {\"outlinewidth\": 0, \"ticks\": \"\"}, \"colorscale\": [[0.0, \"#0d0887\"], [0.1111111111111111, \"#46039f\"], [0.2222222222222222, \"#7201a8\"], [0.3333333333333333, \"#9c179e\"], [0.4444444444444444, \"#bd3786\"], [0.5555555555555556, \"#d8576b\"], [0.6666666666666666, \"#ed7953\"], [0.7777777777777778, \"#fb9f3a\"], [0.8888888888888888, \"#fdca26\"], [1.0, \"#f0f921\"]], \"type\": \"heatmap\"}], \"heatmapgl\": [{\"colorbar\": {\"outlinewidth\": 0, \"ticks\": \"\"}, \"colorscale\": [[0.0, \"#0d0887\"], [0.1111111111111111, \"#46039f\"], [0.2222222222222222, \"#7201a8\"], [0.3333333333333333, \"#9c179e\"], [0.4444444444444444, \"#bd3786\"], [0.5555555555555556, \"#d8576b\"], [0.6666666666666666, \"#ed7953\"], [0.7777777777777778, \"#fb9f3a\"], [0.8888888888888888, \"#fdca26\"], [1.0, \"#f0f921\"]], \"type\": \"heatmapgl\"}], \"histogram\": [{\"marker\": {\"colorbar\": {\"outlinewidth\": 0, \"ticks\": \"\"}}, \"type\": \"histogram\"}], \"histogram2d\": [{\"colorbar\": {\"outlinewidth\": 0, \"ticks\": \"\"}, \"colorscale\": [[0.0, \"#0d0887\"], [0.1111111111111111, \"#46039f\"], [0.2222222222222222, \"#7201a8\"], [0.3333333333333333, \"#9c179e\"], [0.4444444444444444, \"#bd3786\"], [0.5555555555555556, \"#d8576b\"], [0.6666666666666666, \"#ed7953\"], [0.7777777777777778, \"#fb9f3a\"], [0.8888888888888888, \"#fdca26\"], [1.0, \"#f0f921\"]], \"type\": \"histogram2d\"}], \"histogram2dcontour\": [{\"colorbar\": {\"outlinewidth\": 0, \"ticks\": \"\"}, \"colorscale\": [[0.0, \"#0d0887\"], [0.1111111111111111, \"#46039f\"], [0.2222222222222222, \"#7201a8\"], [0.3333333333333333, \"#9c179e\"], [0.4444444444444444, \"#bd3786\"], [0.5555555555555556, \"#d8576b\"], [0.6666666666666666, \"#ed7953\"], [0.7777777777777778, \"#fb9f3a\"], [0.8888888888888888, \"#fdca26\"], [1.0, \"#f0f921\"]], \"type\": \"histogram2dcontour\"}], \"mesh3d\": [{\"colorbar\": {\"outlinewidth\": 0, \"ticks\": \"\"}, \"type\": \"mesh3d\"}], \"parcoords\": [{\"line\": {\"colorbar\": {\"outlinewidth\": 0, \"ticks\": \"\"}}, \"type\": \"parcoords\"}], \"pie\": [{\"automargin\": true, \"type\": \"pie\"}], \"scatter\": [{\"marker\": {\"colorbar\": {\"outlinewidth\": 0, \"ticks\": \"\"}}, \"type\": \"scatter\"}], \"scatter3d\": [{\"line\": {\"colorbar\": {\"outlinewidth\": 0, \"ticks\": \"\"}}, \"marker\": {\"colorbar\": {\"outlinewidth\": 0, \"ticks\": \"\"}}, \"type\": \"scatter3d\"}], \"scattercarpet\": [{\"marker\": {\"colorbar\": {\"outlinewidth\": 0, \"ticks\": \"\"}}, \"type\": \"scattercarpet\"}], \"scattergeo\": [{\"marker\": {\"colorbar\": {\"outlinewidth\": 0, \"ticks\": \"\"}}, \"type\": \"scattergeo\"}], \"scattergl\": [{\"marker\": {\"colorbar\": {\"outlinewidth\": 0, \"ticks\": \"\"}}, \"type\": \"scattergl\"}], \"scattermapbox\": [{\"marker\": {\"colorbar\": {\"outlinewidth\": 0, \"ticks\": \"\"}}, \"type\": \"scattermapbox\"}], \"scatterpolar\": [{\"marker\": {\"colorbar\": {\"outlinewidth\": 0, \"ticks\": \"\"}}, \"type\": \"scatterpolar\"}], \"scatterpolargl\": [{\"marker\": {\"colorbar\": {\"outlinewidth\": 0, \"ticks\": \"\"}}, \"type\": \"scatterpolargl\"}], \"scatterternary\": [{\"marker\": {\"colorbar\": {\"outlinewidth\": 0, \"ticks\": \"\"}}, \"type\": \"scatterternary\"}], \"surface\": [{\"colorbar\": {\"outlinewidth\": 0, \"ticks\": \"\"}, \"colorscale\": [[0.0, \"#0d0887\"], [0.1111111111111111, \"#46039f\"], [0.2222222222222222, \"#7201a8\"], [0.3333333333333333, \"#9c179e\"], [0.4444444444444444, \"#bd3786\"], [0.5555555555555556, \"#d8576b\"], [0.6666666666666666, \"#ed7953\"], [0.7777777777777778, \"#fb9f3a\"], [0.8888888888888888, \"#fdca26\"], [1.0, \"#f0f921\"]], \"type\": \"surface\"}], \"table\": [{\"cells\": {\"fill\": {\"color\": \"#EBF0F8\"}, \"line\": {\"color\": \"white\"}}, \"header\": {\"fill\": {\"color\": \"#C8D4E3\"}, \"line\": {\"color\": \"white\"}}, \"type\": \"table\"}]}, \"layout\": {\"annotationdefaults\": {\"arrowcolor\": \"#2a3f5f\", \"arrowhead\": 0, \"arrowwidth\": 1}, \"coloraxis\": {\"colorbar\": {\"outlinewidth\": 0, \"ticks\": \"\"}}, \"colorscale\": {\"diverging\": [[0, \"#8e0152\"], [0.1, \"#c51b7d\"], [0.2, \"#de77ae\"], [0.3, \"#f1b6da\"], [0.4, \"#fde0ef\"], [0.5, \"#f7f7f7\"], [0.6, \"#e6f5d0\"], [0.7, \"#b8e186\"], [0.8, \"#7fbc41\"], [0.9, \"#4d9221\"], [1, \"#276419\"]], \"sequential\": [[0.0, \"#0d0887\"], [0.1111111111111111, \"#46039f\"], [0.2222222222222222, \"#7201a8\"], [0.3333333333333333, \"#9c179e\"], [0.4444444444444444, \"#bd3786\"], [0.5555555555555556, \"#d8576b\"], [0.6666666666666666, \"#ed7953\"], [0.7777777777777778, \"#fb9f3a\"], [0.8888888888888888, \"#fdca26\"], [1.0, \"#f0f921\"]], \"sequentialminus\": [[0.0, \"#0d0887\"], [0.1111111111111111, \"#46039f\"], [0.2222222222222222, \"#7201a8\"], [0.3333333333333333, \"#9c179e\"], [0.4444444444444444, \"#bd3786\"], [0.5555555555555556, \"#d8576b\"], [0.6666666666666666, \"#ed7953\"], [0.7777777777777778, \"#fb9f3a\"], [0.8888888888888888, \"#fdca26\"], [1.0, \"#f0f921\"]]}, \"colorway\": [\"#636efa\", \"#EF553B\", \"#00cc96\", \"#ab63fa\", \"#FFA15A\", \"#19d3f3\", \"#FF6692\", \"#B6E880\", \"#FF97FF\", \"#FECB52\"], \"font\": {\"color\": \"#2a3f5f\"}, \"geo\": {\"bgcolor\": \"white\", \"lakecolor\": \"white\", \"landcolor\": \"#E5ECF6\", \"showlakes\": true, \"showland\": true, \"subunitcolor\": \"white\"}, \"hoverlabel\": {\"align\": \"left\"}, \"hovermode\": \"closest\", \"mapbox\": {\"style\": \"light\"}, \"paper_bgcolor\": \"white\", \"plot_bgcolor\": \"#E5ECF6\", \"polar\": {\"angularaxis\": {\"gridcolor\": \"white\", \"linecolor\": \"white\", \"ticks\": \"\"}, \"bgcolor\": \"#E5ECF6\", \"radialaxis\": {\"gridcolor\": \"white\", \"linecolor\": \"white\", \"ticks\": \"\"}}, \"scene\": {\"xaxis\": {\"backgroundcolor\": \"#E5ECF6\", \"gridcolor\": \"white\", \"gridwidth\": 2, \"linecolor\": \"white\", \"showbackground\": true, \"ticks\": \"\", \"zerolinecolor\": \"white\"}, \"yaxis\": {\"backgroundcolor\": \"#E5ECF6\", \"gridcolor\": \"white\", \"gridwidth\": 2, \"linecolor\": \"white\", \"showbackground\": true, \"ticks\": \"\", \"zerolinecolor\": \"white\"}, \"zaxis\": {\"backgroundcolor\": \"#E5ECF6\", \"gridcolor\": \"white\", \"gridwidth\": 2, \"linecolor\": \"white\", \"showbackground\": true, \"ticks\": \"\", \"zerolinecolor\": \"white\"}}, \"shapedefaults\": {\"line\": {\"color\": \"#2a3f5f\"}}, \"ternary\": {\"aaxis\": {\"gridcolor\": \"white\", \"linecolor\": \"white\", \"ticks\": \"\"}, \"baxis\": {\"gridcolor\": \"white\", \"linecolor\": \"white\", \"ticks\": \"\"}, \"bgcolor\": \"#E5ECF6\", \"caxis\": {\"gridcolor\": \"white\", \"linecolor\": \"white\", \"ticks\": \"\"}}, \"title\": {\"x\": 0.05}, \"xaxis\": {\"automargin\": true, \"gridcolor\": \"white\", \"linecolor\": \"white\", \"ticks\": \"\", \"title\": {\"standoff\": 15}, \"zerolinecolor\": \"white\", \"zerolinewidth\": 2}, \"yaxis\": {\"automargin\": true, \"gridcolor\": \"white\", \"linecolor\": \"white\", \"ticks\": \"\", \"title\": {\"standoff\": 15}, \"zerolinecolor\": \"white\", \"zerolinewidth\": 2}}}, \"title\": {\"font\": {\"color\": \"Black\", \"size\": 38}, \"text\": \"Atomic Radius on Melting Temperature\"}, \"width\": 800, \"xaxis\": {\"gridwidth\": 1.5, \"tickfont\": {\"size\": 24}, \"title\": {\"font\": {\"size\": 36}, \"text\": \"Melting Temperature [K]\"}, \"zeroline\": true}, \"yaxis\": {\"gridwidth\": 1.5, \"tickfont\": {\"size\": 24}, \"title\": {\"font\": {\"size\": 36}, \"text\": \"Atomic Radius [10<sup>2</sup>pm]\"}, \"zeroline\": true}},\n",
       "                        {\"responsive\": true}\n",
       "                    ).then(function(){\n",
       "                            \n",
       "var gd = document.getElementById('b253af04-098b-4753-aba6-d96ae8f151a1');\n",
       "var x = new MutationObserver(function (mutations, observer) {{\n",
       "        var display = window.getComputedStyle(gd).display;\n",
       "        if (!display || display === 'none') {{\n",
       "            console.log([gd, 'removed!']);\n",
       "            Plotly.purge(gd);\n",
       "            observer.disconnect();\n",
       "        }}\n",
       "}});\n",
       "\n",
       "// Listen for the removal of the full notebook cells\n",
       "var notebookContainer = gd.closest('#notebook-container');\n",
       "if (notebookContainer) {{\n",
       "    x.observe(notebookContainer, {childList: true});\n",
       "}}\n",
       "\n",
       "// Listen for the clearing of the current output cell\n",
       "var outputEl = gd.closest('.output');\n",
       "if (outputEl) {{\n",
       "    x.observe(outputEl, {childList: true});\n",
       "}}\n",
       "\n",
       "                        })\n",
       "                };\n",
       "                });\n",
       "            </script>\n",
       "        </div>"
      ]
     },
     "metadata": {},
     "output_type": "display_data"
    }
   ],
   "source": [
    "layout0= go.Layout(title = \"Atomic Radius on Melting Temperature\", hovermode= 'closest', width = 800, height=800, showlegend=True,  # Hovermode establishes the way the labels that appear when you hover are arranged # Establishing a square plot width=height\n",
    "    xaxis= dict(title=go.layout.xaxis.Title(text='Melting Temperature [K]', font=dict(size=36)), zeroline= True, gridwidth= 1.5, tickfont=dict(size=24)), # Axis Titles. Removing the X-axis Mark. Adding a Grid\n",
    "    yaxis= dict(title=go.layout.yaxis.Title(text='Atomic Radius [10<sup>2</sup>pm]', font=dict(size=36)), zeroline= True, gridwidth= 1.5, tickfont=dict(size=24)), # Axis Titles. Removing the Y-axis Mark. Adding a Grid\n",
    "    legend=dict(font=dict(size=24))) # Adding a legend\n",
    "\n",
    "# Trace\n",
    "\n",
    "trace0 = go.Scatter(x = melting_temperature,y = atomic_radius, mode = 'markers',\n",
    "    marker= dict(size= 18, line= dict(width=1), color=colors), # We add a size, a border and our custom colors to the markers\n",
    "    text= sample, # This attribute (Text) labels each point to this list, which contains our elements in the same indexes as our properties\n",
    "showlegend = False)\n",
    "\n",
    "\n",
    "# Empty Traces for Legend\n",
    "legend_plot_FCC = go.Scatter(x=[None], y=[None], mode='markers', marker=dict(size=18,  line= dict(width=1),color='blue'), name = 'FCC')\n",
    "legend_plot_BCC = go.Scatter(x=[None], y=[None], mode='markers', marker=dict(size=18,  line= dict(width=1),color='red'), name = 'BCC')\n",
    "legend_plot_HCP = go.Scatter(x=[None], y=[None], mode='markers', marker=dict(size=18,  line= dict(width=1),color='orange'), name = 'HCP')\n",
    "legend_plot_Other = go.Scatter(x=[None], y=[None], mode='markers', marker=dict(size=18, line= dict(width=1),color='green'), name = 'Other')\n",
    "\n",
    "\n",
    "data = [trace0, legend_plot_FCC, legend_plot_BCC, legend_plot_HCP, legend_plot_Other]\n",
    "\n",
    "fig= go.Figure(data, layout=layout0)\n",
    "fig.update_layout(\n",
    "    font_family=\"Arial\",\n",
    "    title_font_color=\"Black\",\n",
    "    title_font_size= 38\n",
    ")\n",
    "iplot(fig)"
   ]
  },
  {
   "cell_type": "code",
   "execution_count": 16,
   "metadata": {},
   "outputs": [
    {
     "data": {
      "application/vnd.plotly.v1+json": {
       "config": {
        "linkText": "Export to plot.ly",
        "plotlyServerURL": "https://plot.ly",
        "showLink": false
       },
       "data": [
        {
         "marker": {
          "color": [
           "green",
           "green",
           "red",
           "orange",
           "green",
           "green",
           "green",
           "green",
           "green",
           "green",
           "red",
           "orange",
           "blue",
           "green",
           "red",
           "green",
           "green",
           "green",
           "red",
           "orange",
           "orange",
           "orange",
           "red",
           "red",
           "red",
           "red",
           "orange",
           "blue",
           "blue",
           "orange",
           "green",
           "green",
           "green",
           "green",
           "green",
           "green",
           "red",
           "blue",
           "orange",
           "orange",
           "red",
           "red",
           "orange",
           "orange",
           "blue",
           "blue",
           "blue",
           "orange",
           "green",
           "green",
           "green",
           "green",
           "green",
           "green",
           "red",
           "red",
           "orange",
           "red",
           "red",
           "orange",
           "orange",
           "blue",
           "blue",
           "blue",
           "green",
           "orange",
           "blue",
           "green",
           "green",
           "green",
           "green",
           "green",
           "green",
           "green",
           "green",
           "green",
           "green",
           "green",
           "green",
           "green",
           "red",
           "orange",
           "orange",
           "orange",
           "orange",
           "orange",
           "orange",
           "blue",
           "orange",
           "green",
           "blue",
           "green",
           "green",
           "green",
           "green",
           "green",
           "green",
           "green",
           "green",
           "green",
           "green",
           "green",
           "green"
          ],
          "line": {
           "width": 1
          },
          "size": 18
         },
         "mode": "markers",
         "showlegend": false,
         "text": [
          "H",
          "He",
          "Li",
          "Be",
          "B",
          "C",
          "N",
          "O",
          "F",
          "Ne",
          "Na",
          "Mg",
          "Al",
          "Si",
          "P",
          "S",
          "Cl",
          "Ar",
          "K",
          "Ca",
          "Sc",
          "Ti",
          "V",
          "Cr",
          "Mn",
          "Fe",
          "Co",
          "Ni",
          "Cu",
          "Zn",
          "Ga",
          "Ge",
          "As",
          "Se",
          "Br",
          "Kr",
          "Rb",
          "Sr",
          "Y",
          "Zr",
          "Nb",
          "Mo",
          "Tc",
          "Ru",
          "Rh",
          "Pd",
          "Ag",
          "Cd",
          "In",
          "Sn",
          "Sb",
          "Te",
          "I",
          "Xe",
          "Cs",
          "Ba",
          "Hf",
          "Ta",
          "W",
          "Re",
          "Os",
          "Ir",
          "Pt",
          "Au",
          "Hg",
          "Tl",
          "Pb",
          "Bi",
          "Po",
          "At",
          "Rn",
          "Fr",
          "Ra",
          "Lr",
          "La",
          "Ce",
          "Pr",
          "Nd",
          "Pm",
          "Sm",
          "Eu",
          "Gd",
          "Tb",
          "Dy",
          "Ho",
          "Er",
          "Tm",
          "Yb",
          "Lu",
          "Ac",
          "Th",
          "Pa",
          "U",
          "Np",
          "Pu",
          "Am",
          "Cm",
          "Bk",
          "Cf",
          "Es",
          "Fm",
          "Md",
          "No"
         ],
         "type": "scatter",
         "x": [
          0.25,
          null,
          1.45,
          1.05,
          0.85,
          0.7,
          0.65,
          0.6,
          0.5,
          null,
          1.8,
          1.5,
          1.25,
          1.1,
          1,
          1,
          1,
          0.71,
          2.2,
          1.8,
          1.6,
          1.4,
          1.35,
          1.4,
          1.4,
          1.4,
          1.35,
          1.35,
          1.35,
          1.35,
          1.3,
          1.25,
          1.15,
          1.15,
          1.15,
          null,
          2.35,
          2,
          1.8,
          1.55,
          1.45,
          1.45,
          1.35,
          1.3,
          1.35,
          1.4,
          1.6,
          1.55,
          1.55,
          1.45,
          1.45,
          1.4,
          1.4,
          null,
          2.6,
          2.15,
          1.55,
          1.45,
          1.35,
          1.35,
          1.3,
          1.35,
          1.35,
          1.35,
          1.5,
          1.9,
          1.8,
          1.6,
          1.9,
          null,
          null,
          null,
          2.15,
          null,
          1.95,
          1.85,
          1.85,
          1.85,
          1.85,
          1.85,
          1.85,
          1.8,
          1.75,
          1.75,
          1.75,
          1.75,
          1.75,
          1.75,
          1.75,
          1.95,
          1.8,
          1.8,
          1.75,
          1.75,
          1.75,
          1.75,
          null,
          null,
          null,
          null,
          null,
          null,
          null
         ],
         "y": [
          null,
          null,
          4.9,
          287,
          null,
          null,
          null,
          null,
          null,
          null,
          10,
          45,
          70,
          47,
          null,
          null,
          null,
          null,
          null,
          20,
          74,
          116,
          128,
          279,
          198,
          211,
          209,
          200,
          130,
          108,
          null,
          null,
          8,
          10,
          null,
          null,
          2.4,
          null,
          64,
          68,
          105,
          329,
          null,
          447,
          275,
          121,
          83,
          50,
          11,
          50,
          55,
          43,
          null,
          null,
          1.7,
          13,
          78,
          186,
          411,
          463,
          null,
          528,
          168,
          78,
          null,
          8,
          16,
          32,
          null,
          null,
          null,
          null,
          null,
          null,
          37,
          34,
          37,
          41,
          46,
          50,
          18,
          55,
          56,
          61,
          65,
          70,
          74,
          24,
          69,
          null,
          79,
          null,
          208,
          null,
          96,
          null,
          null,
          null,
          null,
          null,
          null,
          null,
          null
         ]
        },
        {
         "marker": {
          "color": "blue",
          "line": {
           "width": 1
          },
          "size": 18
         },
         "mode": "markers",
         "name": "FCC",
         "type": "scatter",
         "x": [
          null
         ],
         "y": [
          null
         ]
        },
        {
         "marker": {
          "color": "red",
          "line": {
           "width": 1
          },
          "size": 18
         },
         "mode": "markers",
         "name": "BCC",
         "type": "scatter",
         "x": [
          null
         ],
         "y": [
          null
         ]
        },
        {
         "marker": {
          "color": "orange",
          "line": {
           "width": 1
          },
          "size": 18
         },
         "mode": "markers",
         "name": "HCP",
         "type": "scatter",
         "x": [
          null
         ],
         "y": [
          null
         ]
        },
        {
         "marker": {
          "color": "green",
          "line": {
           "width": 1
          },
          "size": 18
         },
         "mode": "markers",
         "name": "Other",
         "type": "scatter",
         "x": [
          null
         ],
         "y": [
          null
         ]
        }
       ],
       "layout": {
        "font": {
         "family": "Arial"
        },
        "height": 800,
        "hovermode": "closest",
        "legend": {
         "font": {
          "size": 24
         }
        },
        "showlegend": true,
        "template": {
         "data": {
          "bar": [
           {
            "error_x": {
             "color": "#2a3f5f"
            },
            "error_y": {
             "color": "#2a3f5f"
            },
            "marker": {
             "line": {
              "color": "#E5ECF6",
              "width": 0.5
             }
            },
            "type": "bar"
           }
          ],
          "barpolar": [
           {
            "marker": {
             "line": {
              "color": "#E5ECF6",
              "width": 0.5
             }
            },
            "type": "barpolar"
           }
          ],
          "carpet": [
           {
            "aaxis": {
             "endlinecolor": "#2a3f5f",
             "gridcolor": "white",
             "linecolor": "white",
             "minorgridcolor": "white",
             "startlinecolor": "#2a3f5f"
            },
            "baxis": {
             "endlinecolor": "#2a3f5f",
             "gridcolor": "white",
             "linecolor": "white",
             "minorgridcolor": "white",
             "startlinecolor": "#2a3f5f"
            },
            "type": "carpet"
           }
          ],
          "choropleth": [
           {
            "colorbar": {
             "outlinewidth": 0,
             "ticks": ""
            },
            "type": "choropleth"
           }
          ],
          "contour": [
           {
            "colorbar": {
             "outlinewidth": 0,
             "ticks": ""
            },
            "colorscale": [
             [
              0,
              "#0d0887"
             ],
             [
              0.1111111111111111,
              "#46039f"
             ],
             [
              0.2222222222222222,
              "#7201a8"
             ],
             [
              0.3333333333333333,
              "#9c179e"
             ],
             [
              0.4444444444444444,
              "#bd3786"
             ],
             [
              0.5555555555555556,
              "#d8576b"
             ],
             [
              0.6666666666666666,
              "#ed7953"
             ],
             [
              0.7777777777777778,
              "#fb9f3a"
             ],
             [
              0.8888888888888888,
              "#fdca26"
             ],
             [
              1,
              "#f0f921"
             ]
            ],
            "type": "contour"
           }
          ],
          "contourcarpet": [
           {
            "colorbar": {
             "outlinewidth": 0,
             "ticks": ""
            },
            "type": "contourcarpet"
           }
          ],
          "heatmap": [
           {
            "colorbar": {
             "outlinewidth": 0,
             "ticks": ""
            },
            "colorscale": [
             [
              0,
              "#0d0887"
             ],
             [
              0.1111111111111111,
              "#46039f"
             ],
             [
              0.2222222222222222,
              "#7201a8"
             ],
             [
              0.3333333333333333,
              "#9c179e"
             ],
             [
              0.4444444444444444,
              "#bd3786"
             ],
             [
              0.5555555555555556,
              "#d8576b"
             ],
             [
              0.6666666666666666,
              "#ed7953"
             ],
             [
              0.7777777777777778,
              "#fb9f3a"
             ],
             [
              0.8888888888888888,
              "#fdca26"
             ],
             [
              1,
              "#f0f921"
             ]
            ],
            "type": "heatmap"
           }
          ],
          "heatmapgl": [
           {
            "colorbar": {
             "outlinewidth": 0,
             "ticks": ""
            },
            "colorscale": [
             [
              0,
              "#0d0887"
             ],
             [
              0.1111111111111111,
              "#46039f"
             ],
             [
              0.2222222222222222,
              "#7201a8"
             ],
             [
              0.3333333333333333,
              "#9c179e"
             ],
             [
              0.4444444444444444,
              "#bd3786"
             ],
             [
              0.5555555555555556,
              "#d8576b"
             ],
             [
              0.6666666666666666,
              "#ed7953"
             ],
             [
              0.7777777777777778,
              "#fb9f3a"
             ],
             [
              0.8888888888888888,
              "#fdca26"
             ],
             [
              1,
              "#f0f921"
             ]
            ],
            "type": "heatmapgl"
           }
          ],
          "histogram": [
           {
            "marker": {
             "colorbar": {
              "outlinewidth": 0,
              "ticks": ""
             }
            },
            "type": "histogram"
           }
          ],
          "histogram2d": [
           {
            "colorbar": {
             "outlinewidth": 0,
             "ticks": ""
            },
            "colorscale": [
             [
              0,
              "#0d0887"
             ],
             [
              0.1111111111111111,
              "#46039f"
             ],
             [
              0.2222222222222222,
              "#7201a8"
             ],
             [
              0.3333333333333333,
              "#9c179e"
             ],
             [
              0.4444444444444444,
              "#bd3786"
             ],
             [
              0.5555555555555556,
              "#d8576b"
             ],
             [
              0.6666666666666666,
              "#ed7953"
             ],
             [
              0.7777777777777778,
              "#fb9f3a"
             ],
             [
              0.8888888888888888,
              "#fdca26"
             ],
             [
              1,
              "#f0f921"
             ]
            ],
            "type": "histogram2d"
           }
          ],
          "histogram2dcontour": [
           {
            "colorbar": {
             "outlinewidth": 0,
             "ticks": ""
            },
            "colorscale": [
             [
              0,
              "#0d0887"
             ],
             [
              0.1111111111111111,
              "#46039f"
             ],
             [
              0.2222222222222222,
              "#7201a8"
             ],
             [
              0.3333333333333333,
              "#9c179e"
             ],
             [
              0.4444444444444444,
              "#bd3786"
             ],
             [
              0.5555555555555556,
              "#d8576b"
             ],
             [
              0.6666666666666666,
              "#ed7953"
             ],
             [
              0.7777777777777778,
              "#fb9f3a"
             ],
             [
              0.8888888888888888,
              "#fdca26"
             ],
             [
              1,
              "#f0f921"
             ]
            ],
            "type": "histogram2dcontour"
           }
          ],
          "mesh3d": [
           {
            "colorbar": {
             "outlinewidth": 0,
             "ticks": ""
            },
            "type": "mesh3d"
           }
          ],
          "parcoords": [
           {
            "line": {
             "colorbar": {
              "outlinewidth": 0,
              "ticks": ""
             }
            },
            "type": "parcoords"
           }
          ],
          "pie": [
           {
            "automargin": true,
            "type": "pie"
           }
          ],
          "scatter": [
           {
            "marker": {
             "colorbar": {
              "outlinewidth": 0,
              "ticks": ""
             }
            },
            "type": "scatter"
           }
          ],
          "scatter3d": [
           {
            "line": {
             "colorbar": {
              "outlinewidth": 0,
              "ticks": ""
             }
            },
            "marker": {
             "colorbar": {
              "outlinewidth": 0,
              "ticks": ""
             }
            },
            "type": "scatter3d"
           }
          ],
          "scattercarpet": [
           {
            "marker": {
             "colorbar": {
              "outlinewidth": 0,
              "ticks": ""
             }
            },
            "type": "scattercarpet"
           }
          ],
          "scattergeo": [
           {
            "marker": {
             "colorbar": {
              "outlinewidth": 0,
              "ticks": ""
             }
            },
            "type": "scattergeo"
           }
          ],
          "scattergl": [
           {
            "marker": {
             "colorbar": {
              "outlinewidth": 0,
              "ticks": ""
             }
            },
            "type": "scattergl"
           }
          ],
          "scattermapbox": [
           {
            "marker": {
             "colorbar": {
              "outlinewidth": 0,
              "ticks": ""
             }
            },
            "type": "scattermapbox"
           }
          ],
          "scatterpolar": [
           {
            "marker": {
             "colorbar": {
              "outlinewidth": 0,
              "ticks": ""
             }
            },
            "type": "scatterpolar"
           }
          ],
          "scatterpolargl": [
           {
            "marker": {
             "colorbar": {
              "outlinewidth": 0,
              "ticks": ""
             }
            },
            "type": "scatterpolargl"
           }
          ],
          "scatterternary": [
           {
            "marker": {
             "colorbar": {
              "outlinewidth": 0,
              "ticks": ""
             }
            },
            "type": "scatterternary"
           }
          ],
          "surface": [
           {
            "colorbar": {
             "outlinewidth": 0,
             "ticks": ""
            },
            "colorscale": [
             [
              0,
              "#0d0887"
             ],
             [
              0.1111111111111111,
              "#46039f"
             ],
             [
              0.2222222222222222,
              "#7201a8"
             ],
             [
              0.3333333333333333,
              "#9c179e"
             ],
             [
              0.4444444444444444,
              "#bd3786"
             ],
             [
              0.5555555555555556,
              "#d8576b"
             ],
             [
              0.6666666666666666,
              "#ed7953"
             ],
             [
              0.7777777777777778,
              "#fb9f3a"
             ],
             [
              0.8888888888888888,
              "#fdca26"
             ],
             [
              1,
              "#f0f921"
             ]
            ],
            "type": "surface"
           }
          ],
          "table": [
           {
            "cells": {
             "fill": {
              "color": "#EBF0F8"
             },
             "line": {
              "color": "white"
             }
            },
            "header": {
             "fill": {
              "color": "#C8D4E3"
             },
             "line": {
              "color": "white"
             }
            },
            "type": "table"
           }
          ]
         },
         "layout": {
          "annotationdefaults": {
           "arrowcolor": "#2a3f5f",
           "arrowhead": 0,
           "arrowwidth": 1
          },
          "coloraxis": {
           "colorbar": {
            "outlinewidth": 0,
            "ticks": ""
           }
          },
          "colorscale": {
           "diverging": [
            [
             0,
             "#8e0152"
            ],
            [
             0.1,
             "#c51b7d"
            ],
            [
             0.2,
             "#de77ae"
            ],
            [
             0.3,
             "#f1b6da"
            ],
            [
             0.4,
             "#fde0ef"
            ],
            [
             0.5,
             "#f7f7f7"
            ],
            [
             0.6,
             "#e6f5d0"
            ],
            [
             0.7,
             "#b8e186"
            ],
            [
             0.8,
             "#7fbc41"
            ],
            [
             0.9,
             "#4d9221"
            ],
            [
             1,
             "#276419"
            ]
           ],
           "sequential": [
            [
             0,
             "#0d0887"
            ],
            [
             0.1111111111111111,
             "#46039f"
            ],
            [
             0.2222222222222222,
             "#7201a8"
            ],
            [
             0.3333333333333333,
             "#9c179e"
            ],
            [
             0.4444444444444444,
             "#bd3786"
            ],
            [
             0.5555555555555556,
             "#d8576b"
            ],
            [
             0.6666666666666666,
             "#ed7953"
            ],
            [
             0.7777777777777778,
             "#fb9f3a"
            ],
            [
             0.8888888888888888,
             "#fdca26"
            ],
            [
             1,
             "#f0f921"
            ]
           ],
           "sequentialminus": [
            [
             0,
             "#0d0887"
            ],
            [
             0.1111111111111111,
             "#46039f"
            ],
            [
             0.2222222222222222,
             "#7201a8"
            ],
            [
             0.3333333333333333,
             "#9c179e"
            ],
            [
             0.4444444444444444,
             "#bd3786"
            ],
            [
             0.5555555555555556,
             "#d8576b"
            ],
            [
             0.6666666666666666,
             "#ed7953"
            ],
            [
             0.7777777777777778,
             "#fb9f3a"
            ],
            [
             0.8888888888888888,
             "#fdca26"
            ],
            [
             1,
             "#f0f921"
            ]
           ]
          },
          "colorway": [
           "#636efa",
           "#EF553B",
           "#00cc96",
           "#ab63fa",
           "#FFA15A",
           "#19d3f3",
           "#FF6692",
           "#B6E880",
           "#FF97FF",
           "#FECB52"
          ],
          "font": {
           "color": "#2a3f5f"
          },
          "geo": {
           "bgcolor": "white",
           "lakecolor": "white",
           "landcolor": "#E5ECF6",
           "showlakes": true,
           "showland": true,
           "subunitcolor": "white"
          },
          "hoverlabel": {
           "align": "left"
          },
          "hovermode": "closest",
          "mapbox": {
           "style": "light"
          },
          "paper_bgcolor": "white",
          "plot_bgcolor": "#E5ECF6",
          "polar": {
           "angularaxis": {
            "gridcolor": "white",
            "linecolor": "white",
            "ticks": ""
           },
           "bgcolor": "#E5ECF6",
           "radialaxis": {
            "gridcolor": "white",
            "linecolor": "white",
            "ticks": ""
           }
          },
          "scene": {
           "xaxis": {
            "backgroundcolor": "#E5ECF6",
            "gridcolor": "white",
            "gridwidth": 2,
            "linecolor": "white",
            "showbackground": true,
            "ticks": "",
            "zerolinecolor": "white"
           },
           "yaxis": {
            "backgroundcolor": "#E5ECF6",
            "gridcolor": "white",
            "gridwidth": 2,
            "linecolor": "white",
            "showbackground": true,
            "ticks": "",
            "zerolinecolor": "white"
           },
           "zaxis": {
            "backgroundcolor": "#E5ECF6",
            "gridcolor": "white",
            "gridwidth": 2,
            "linecolor": "white",
            "showbackground": true,
            "ticks": "",
            "zerolinecolor": "white"
           }
          },
          "shapedefaults": {
           "line": {
            "color": "#2a3f5f"
           }
          },
          "ternary": {
           "aaxis": {
            "gridcolor": "white",
            "linecolor": "white",
            "ticks": ""
           },
           "baxis": {
            "gridcolor": "white",
            "linecolor": "white",
            "ticks": ""
           },
           "bgcolor": "#E5ECF6",
           "caxis": {
            "gridcolor": "white",
            "linecolor": "white",
            "ticks": ""
           }
          },
          "title": {
           "x": 0.05
          },
          "xaxis": {
           "automargin": true,
           "gridcolor": "white",
           "linecolor": "white",
           "ticks": "",
           "title": {
            "standoff": 15
           },
           "zerolinecolor": "white",
           "zerolinewidth": 2
          },
          "yaxis": {
           "automargin": true,
           "gridcolor": "white",
           "linecolor": "white",
           "ticks": "",
           "title": {
            "standoff": 15
           },
           "zerolinecolor": "white",
           "zerolinewidth": 2
          }
         }
        },
        "title": {
         "font": {
          "color": "Black",
          "size": 38
         },
         "text": "Young's Modulus on Atomic Radius"
        },
        "width": 800,
        "xaxis": {
         "gridwidth": 1.5,
         "tickfont": {
          "size": 24
         },
         "title": {
          "font": {
           "size": 36
          },
          "text": "Atomic Radius [10<sup>2</sup>pm]"
         },
         "zeroline": true
        },
        "yaxis": {
         "gridwidth": 1.5,
         "tickfont": {
          "size": 24
         },
         "title": {
          "font": {
           "size": 36
          },
          "text": "Young's Modulus [GPa]"
         },
         "zeroline": true
        }
       }
      },
      "text/html": [
       "<div>\n",
       "        \n",
       "        \n",
       "            <div id=\"04f81a07-decb-4eaf-8c3f-b69a25c00b00\" class=\"plotly-graph-div\" style=\"height:800px; width:800px;\"></div>\n",
       "            <script type=\"text/javascript\">\n",
       "                require([\"plotly\"], function(Plotly) {\n",
       "                    window.PLOTLYENV=window.PLOTLYENV || {};\n",
       "                    \n",
       "                if (document.getElementById(\"04f81a07-decb-4eaf-8c3f-b69a25c00b00\")) {\n",
       "                    Plotly.newPlot(\n",
       "                        '04f81a07-decb-4eaf-8c3f-b69a25c00b00',\n",
       "                        [{\"marker\": {\"color\": [\"green\", \"green\", \"red\", \"orange\", \"green\", \"green\", \"green\", \"green\", \"green\", \"green\", \"red\", \"orange\", \"blue\", \"green\", \"red\", \"green\", \"green\", \"green\", \"red\", \"orange\", \"orange\", \"orange\", \"red\", \"red\", \"red\", \"red\", \"orange\", \"blue\", \"blue\", \"orange\", \"green\", \"green\", \"green\", \"green\", \"green\", \"green\", \"red\", \"blue\", \"orange\", \"orange\", \"red\", \"red\", \"orange\", \"orange\", \"blue\", \"blue\", \"blue\", \"orange\", \"green\", \"green\", \"green\", \"green\", \"green\", \"green\", \"red\", \"red\", \"orange\", \"red\", \"red\", \"orange\", \"orange\", \"blue\", \"blue\", \"blue\", \"green\", \"orange\", \"blue\", \"green\", \"green\", \"green\", \"green\", \"green\", \"green\", \"green\", \"green\", \"green\", \"green\", \"green\", \"green\", \"green\", \"red\", \"orange\", \"orange\", \"orange\", \"orange\", \"orange\", \"orange\", \"blue\", \"orange\", \"green\", \"blue\", \"green\", \"green\", \"green\", \"green\", \"green\", \"green\", \"green\", \"green\", \"green\", \"green\", \"green\", \"green\"], \"line\": {\"width\": 1}, \"size\": 18}, \"mode\": \"markers\", \"showlegend\": false, \"text\": [\"H\", \"He\", \"Li\", \"Be\", \"B\", \"C\", \"N\", \"O\", \"F\", \"Ne\", \"Na\", \"Mg\", \"Al\", \"Si\", \"P\", \"S\", \"Cl\", \"Ar\", \"K\", \"Ca\", \"Sc\", \"Ti\", \"V\", \"Cr\", \"Mn\", \"Fe\", \"Co\", \"Ni\", \"Cu\", \"Zn\", \"Ga\", \"Ge\", \"As\", \"Se\", \"Br\", \"Kr\", \"Rb\", \"Sr\", \"Y\", \"Zr\", \"Nb\", \"Mo\", \"Tc\", \"Ru\", \"Rh\", \"Pd\", \"Ag\", \"Cd\", \"In\", \"Sn\", \"Sb\", \"Te\", \"I\", \"Xe\", \"Cs\", \"Ba\", \"Hf\", \"Ta\", \"W\", \"Re\", \"Os\", \"Ir\", \"Pt\", \"Au\", \"Hg\", \"Tl\", \"Pb\", \"Bi\", \"Po\", \"At\", \"Rn\", \"Fr\", \"Ra\", \"Lr\", \"La\", \"Ce\", \"Pr\", \"Nd\", \"Pm\", \"Sm\", \"Eu\", \"Gd\", \"Tb\", \"Dy\", \"Ho\", \"Er\", \"Tm\", \"Yb\", \"Lu\", \"Ac\", \"Th\", \"Pa\", \"U\", \"Np\", \"Pu\", \"Am\", \"Cm\", \"Bk\", \"Cf\", \"Es\", \"Fm\", \"Md\", \"No\"], \"type\": \"scatter\", \"x\": [0.25, null, 1.45, 1.05, 0.85, 0.7, 0.65, 0.6, 0.5, null, 1.8, 1.5, 1.25, 1.1, 1.0, 1.0, 1.0, 0.71, 2.2, 1.8, 1.6, 1.4, 1.35, 1.4, 1.4, 1.4, 1.35, 1.35, 1.35, 1.35, 1.3, 1.25, 1.15, 1.15, 1.15, null, 2.35, 2.0, 1.8, 1.55, 1.45, 1.45, 1.35, 1.3, 1.35, 1.4, 1.6, 1.55, 1.55, 1.45, 1.45, 1.4, 1.4, null, 2.6, 2.15, 1.55, 1.45, 1.35, 1.35, 1.3, 1.35, 1.35, 1.35, 1.5, 1.9, 1.8, 1.6, 1.9, null, null, null, 2.15, null, 1.95, 1.85, 1.85, 1.85, 1.85, 1.85, 1.85, 1.8, 1.75, 1.75, 1.75, 1.75, 1.75, 1.75, 1.75, 1.95, 1.8, 1.8, 1.75, 1.75, 1.75, 1.75, null, null, null, null, null, null, null], \"y\": [null, null, 4.9, 287.0, null, null, null, null, null, null, 10.0, 45.0, 70.0, 47.0, null, null, null, null, null, 20.0, 74.0, 116.0, 128.0, 279.0, 198.0, 211.0, 209.0, 200.0, 130.0, 108.0, null, null, 8.0, 10.0, null, null, 2.4, null, 64.0, 68.0, 105.0, 329.0, null, 447.0, 275.0, 121.0, 83.0, 50.0, 11.0, 50.0, 55.0, 43.0, null, null, 1.7, 13.0, 78.0, 186.0, 411.0, 463.0, null, 528.0, 168.0, 78.0, null, 8.0, 16.0, 32.0, null, null, null, null, null, null, 37.0, 34.0, 37.0, 41.0, 46.0, 50.0, 18.0, 55.0, 56.0, 61.0, 65.0, 70.0, 74.0, 24.0, 69.0, null, 79.0, null, 208.0, null, 96.0, null, null, null, null, null, null, null, null]}, {\"marker\": {\"color\": \"blue\", \"line\": {\"width\": 1}, \"size\": 18}, \"mode\": \"markers\", \"name\": \"FCC\", \"type\": \"scatter\", \"x\": [null], \"y\": [null]}, {\"marker\": {\"color\": \"red\", \"line\": {\"width\": 1}, \"size\": 18}, \"mode\": \"markers\", \"name\": \"BCC\", \"type\": \"scatter\", \"x\": [null], \"y\": [null]}, {\"marker\": {\"color\": \"orange\", \"line\": {\"width\": 1}, \"size\": 18}, \"mode\": \"markers\", \"name\": \"HCP\", \"type\": \"scatter\", \"x\": [null], \"y\": [null]}, {\"marker\": {\"color\": \"green\", \"line\": {\"width\": 1}, \"size\": 18}, \"mode\": \"markers\", \"name\": \"Other\", \"type\": \"scatter\", \"x\": [null], \"y\": [null]}],\n",
       "                        {\"font\": {\"family\": \"Arial\"}, \"height\": 800, \"hovermode\": \"closest\", \"legend\": {\"font\": {\"size\": 24}}, \"showlegend\": true, \"template\": {\"data\": {\"bar\": [{\"error_x\": {\"color\": \"#2a3f5f\"}, \"error_y\": {\"color\": \"#2a3f5f\"}, \"marker\": {\"line\": {\"color\": \"#E5ECF6\", \"width\": 0.5}}, \"type\": \"bar\"}], \"barpolar\": [{\"marker\": {\"line\": {\"color\": \"#E5ECF6\", \"width\": 0.5}}, \"type\": \"barpolar\"}], \"carpet\": [{\"aaxis\": {\"endlinecolor\": \"#2a3f5f\", \"gridcolor\": \"white\", \"linecolor\": \"white\", \"minorgridcolor\": \"white\", \"startlinecolor\": \"#2a3f5f\"}, \"baxis\": {\"endlinecolor\": \"#2a3f5f\", \"gridcolor\": \"white\", \"linecolor\": \"white\", \"minorgridcolor\": \"white\", \"startlinecolor\": \"#2a3f5f\"}, \"type\": \"carpet\"}], \"choropleth\": [{\"colorbar\": {\"outlinewidth\": 0, \"ticks\": \"\"}, \"type\": \"choropleth\"}], \"contour\": [{\"colorbar\": {\"outlinewidth\": 0, \"ticks\": \"\"}, \"colorscale\": [[0.0, \"#0d0887\"], [0.1111111111111111, \"#46039f\"], [0.2222222222222222, \"#7201a8\"], [0.3333333333333333, \"#9c179e\"], [0.4444444444444444, \"#bd3786\"], [0.5555555555555556, \"#d8576b\"], [0.6666666666666666, \"#ed7953\"], [0.7777777777777778, \"#fb9f3a\"], [0.8888888888888888, \"#fdca26\"], [1.0, \"#f0f921\"]], \"type\": \"contour\"}], \"contourcarpet\": [{\"colorbar\": {\"outlinewidth\": 0, \"ticks\": \"\"}, \"type\": \"contourcarpet\"}], \"heatmap\": [{\"colorbar\": {\"outlinewidth\": 0, \"ticks\": \"\"}, \"colorscale\": [[0.0, \"#0d0887\"], [0.1111111111111111, \"#46039f\"], [0.2222222222222222, \"#7201a8\"], [0.3333333333333333, \"#9c179e\"], [0.4444444444444444, \"#bd3786\"], [0.5555555555555556, \"#d8576b\"], [0.6666666666666666, \"#ed7953\"], [0.7777777777777778, \"#fb9f3a\"], [0.8888888888888888, \"#fdca26\"], [1.0, \"#f0f921\"]], \"type\": \"heatmap\"}], \"heatmapgl\": [{\"colorbar\": {\"outlinewidth\": 0, \"ticks\": \"\"}, \"colorscale\": [[0.0, \"#0d0887\"], [0.1111111111111111, \"#46039f\"], [0.2222222222222222, \"#7201a8\"], [0.3333333333333333, \"#9c179e\"], [0.4444444444444444, \"#bd3786\"], [0.5555555555555556, \"#d8576b\"], [0.6666666666666666, \"#ed7953\"], [0.7777777777777778, \"#fb9f3a\"], [0.8888888888888888, \"#fdca26\"], [1.0, \"#f0f921\"]], \"type\": \"heatmapgl\"}], \"histogram\": [{\"marker\": {\"colorbar\": {\"outlinewidth\": 0, \"ticks\": \"\"}}, \"type\": \"histogram\"}], \"histogram2d\": [{\"colorbar\": {\"outlinewidth\": 0, \"ticks\": \"\"}, \"colorscale\": [[0.0, \"#0d0887\"], [0.1111111111111111, \"#46039f\"], [0.2222222222222222, \"#7201a8\"], [0.3333333333333333, \"#9c179e\"], [0.4444444444444444, \"#bd3786\"], [0.5555555555555556, \"#d8576b\"], [0.6666666666666666, \"#ed7953\"], [0.7777777777777778, \"#fb9f3a\"], [0.8888888888888888, \"#fdca26\"], [1.0, \"#f0f921\"]], \"type\": \"histogram2d\"}], \"histogram2dcontour\": [{\"colorbar\": {\"outlinewidth\": 0, \"ticks\": \"\"}, \"colorscale\": [[0.0, \"#0d0887\"], [0.1111111111111111, \"#46039f\"], [0.2222222222222222, \"#7201a8\"], [0.3333333333333333, \"#9c179e\"], [0.4444444444444444, \"#bd3786\"], [0.5555555555555556, \"#d8576b\"], [0.6666666666666666, \"#ed7953\"], [0.7777777777777778, \"#fb9f3a\"], [0.8888888888888888, \"#fdca26\"], [1.0, \"#f0f921\"]], \"type\": \"histogram2dcontour\"}], \"mesh3d\": [{\"colorbar\": {\"outlinewidth\": 0, \"ticks\": \"\"}, \"type\": \"mesh3d\"}], \"parcoords\": [{\"line\": {\"colorbar\": {\"outlinewidth\": 0, \"ticks\": \"\"}}, \"type\": \"parcoords\"}], \"pie\": [{\"automargin\": true, \"type\": \"pie\"}], \"scatter\": [{\"marker\": {\"colorbar\": {\"outlinewidth\": 0, \"ticks\": \"\"}}, \"type\": \"scatter\"}], \"scatter3d\": [{\"line\": {\"colorbar\": {\"outlinewidth\": 0, \"ticks\": \"\"}}, \"marker\": {\"colorbar\": {\"outlinewidth\": 0, \"ticks\": \"\"}}, \"type\": \"scatter3d\"}], \"scattercarpet\": [{\"marker\": {\"colorbar\": {\"outlinewidth\": 0, \"ticks\": \"\"}}, \"type\": \"scattercarpet\"}], \"scattergeo\": [{\"marker\": {\"colorbar\": {\"outlinewidth\": 0, \"ticks\": \"\"}}, \"type\": \"scattergeo\"}], \"scattergl\": [{\"marker\": {\"colorbar\": {\"outlinewidth\": 0, \"ticks\": \"\"}}, \"type\": \"scattergl\"}], \"scattermapbox\": [{\"marker\": {\"colorbar\": {\"outlinewidth\": 0, \"ticks\": \"\"}}, \"type\": \"scattermapbox\"}], \"scatterpolar\": [{\"marker\": {\"colorbar\": {\"outlinewidth\": 0, \"ticks\": \"\"}}, \"type\": \"scatterpolar\"}], \"scatterpolargl\": [{\"marker\": {\"colorbar\": {\"outlinewidth\": 0, \"ticks\": \"\"}}, \"type\": \"scatterpolargl\"}], \"scatterternary\": [{\"marker\": {\"colorbar\": {\"outlinewidth\": 0, \"ticks\": \"\"}}, \"type\": \"scatterternary\"}], \"surface\": [{\"colorbar\": {\"outlinewidth\": 0, \"ticks\": \"\"}, \"colorscale\": [[0.0, \"#0d0887\"], [0.1111111111111111, \"#46039f\"], [0.2222222222222222, \"#7201a8\"], [0.3333333333333333, \"#9c179e\"], [0.4444444444444444, \"#bd3786\"], [0.5555555555555556, \"#d8576b\"], [0.6666666666666666, \"#ed7953\"], [0.7777777777777778, \"#fb9f3a\"], [0.8888888888888888, \"#fdca26\"], [1.0, \"#f0f921\"]], \"type\": \"surface\"}], \"table\": [{\"cells\": {\"fill\": {\"color\": \"#EBF0F8\"}, \"line\": {\"color\": \"white\"}}, \"header\": {\"fill\": {\"color\": \"#C8D4E3\"}, \"line\": {\"color\": \"white\"}}, \"type\": \"table\"}]}, \"layout\": {\"annotationdefaults\": {\"arrowcolor\": \"#2a3f5f\", \"arrowhead\": 0, \"arrowwidth\": 1}, \"coloraxis\": {\"colorbar\": {\"outlinewidth\": 0, \"ticks\": \"\"}}, \"colorscale\": {\"diverging\": [[0, \"#8e0152\"], [0.1, \"#c51b7d\"], [0.2, \"#de77ae\"], [0.3, \"#f1b6da\"], [0.4, \"#fde0ef\"], [0.5, \"#f7f7f7\"], [0.6, \"#e6f5d0\"], [0.7, \"#b8e186\"], [0.8, \"#7fbc41\"], [0.9, \"#4d9221\"], [1, \"#276419\"]], \"sequential\": [[0.0, \"#0d0887\"], [0.1111111111111111, \"#46039f\"], [0.2222222222222222, \"#7201a8\"], [0.3333333333333333, \"#9c179e\"], [0.4444444444444444, \"#bd3786\"], [0.5555555555555556, \"#d8576b\"], [0.6666666666666666, \"#ed7953\"], [0.7777777777777778, \"#fb9f3a\"], [0.8888888888888888, \"#fdca26\"], [1.0, \"#f0f921\"]], \"sequentialminus\": [[0.0, \"#0d0887\"], [0.1111111111111111, \"#46039f\"], [0.2222222222222222, \"#7201a8\"], [0.3333333333333333, \"#9c179e\"], [0.4444444444444444, \"#bd3786\"], [0.5555555555555556, \"#d8576b\"], [0.6666666666666666, \"#ed7953\"], [0.7777777777777778, \"#fb9f3a\"], [0.8888888888888888, \"#fdca26\"], [1.0, \"#f0f921\"]]}, \"colorway\": [\"#636efa\", \"#EF553B\", \"#00cc96\", \"#ab63fa\", \"#FFA15A\", \"#19d3f3\", \"#FF6692\", \"#B6E880\", \"#FF97FF\", \"#FECB52\"], \"font\": {\"color\": \"#2a3f5f\"}, \"geo\": {\"bgcolor\": \"white\", \"lakecolor\": \"white\", \"landcolor\": \"#E5ECF6\", \"showlakes\": true, \"showland\": true, \"subunitcolor\": \"white\"}, \"hoverlabel\": {\"align\": \"left\"}, \"hovermode\": \"closest\", \"mapbox\": {\"style\": \"light\"}, \"paper_bgcolor\": \"white\", \"plot_bgcolor\": \"#E5ECF6\", \"polar\": {\"angularaxis\": {\"gridcolor\": \"white\", \"linecolor\": \"white\", \"ticks\": \"\"}, \"bgcolor\": \"#E5ECF6\", \"radialaxis\": {\"gridcolor\": \"white\", \"linecolor\": \"white\", \"ticks\": \"\"}}, \"scene\": {\"xaxis\": {\"backgroundcolor\": \"#E5ECF6\", \"gridcolor\": \"white\", \"gridwidth\": 2, \"linecolor\": \"white\", \"showbackground\": true, \"ticks\": \"\", \"zerolinecolor\": \"white\"}, \"yaxis\": {\"backgroundcolor\": \"#E5ECF6\", \"gridcolor\": \"white\", \"gridwidth\": 2, \"linecolor\": \"white\", \"showbackground\": true, \"ticks\": \"\", \"zerolinecolor\": \"white\"}, \"zaxis\": {\"backgroundcolor\": \"#E5ECF6\", \"gridcolor\": \"white\", \"gridwidth\": 2, \"linecolor\": \"white\", \"showbackground\": true, \"ticks\": \"\", \"zerolinecolor\": \"white\"}}, \"shapedefaults\": {\"line\": {\"color\": \"#2a3f5f\"}}, \"ternary\": {\"aaxis\": {\"gridcolor\": \"white\", \"linecolor\": \"white\", \"ticks\": \"\"}, \"baxis\": {\"gridcolor\": \"white\", \"linecolor\": \"white\", \"ticks\": \"\"}, \"bgcolor\": \"#E5ECF6\", \"caxis\": {\"gridcolor\": \"white\", \"linecolor\": \"white\", \"ticks\": \"\"}}, \"title\": {\"x\": 0.05}, \"xaxis\": {\"automargin\": true, \"gridcolor\": \"white\", \"linecolor\": \"white\", \"ticks\": \"\", \"title\": {\"standoff\": 15}, \"zerolinecolor\": \"white\", \"zerolinewidth\": 2}, \"yaxis\": {\"automargin\": true, \"gridcolor\": \"white\", \"linecolor\": \"white\", \"ticks\": \"\", \"title\": {\"standoff\": 15}, \"zerolinecolor\": \"white\", \"zerolinewidth\": 2}}}, \"title\": {\"font\": {\"color\": \"Black\", \"size\": 38}, \"text\": \"Young's Modulus on Atomic Radius\"}, \"width\": 800, \"xaxis\": {\"gridwidth\": 1.5, \"tickfont\": {\"size\": 24}, \"title\": {\"font\": {\"size\": 36}, \"text\": \"Atomic Radius [10<sup>2</sup>pm]\"}, \"zeroline\": true}, \"yaxis\": {\"gridwidth\": 1.5, \"tickfont\": {\"size\": 24}, \"title\": {\"font\": {\"size\": 36}, \"text\": \"Young's Modulus [GPa]\"}, \"zeroline\": true}},\n",
       "                        {\"responsive\": true}\n",
       "                    ).then(function(){\n",
       "                            \n",
       "var gd = document.getElementById('04f81a07-decb-4eaf-8c3f-b69a25c00b00');\n",
       "var x = new MutationObserver(function (mutations, observer) {{\n",
       "        var display = window.getComputedStyle(gd).display;\n",
       "        if (!display || display === 'none') {{\n",
       "            console.log([gd, 'removed!']);\n",
       "            Plotly.purge(gd);\n",
       "            observer.disconnect();\n",
       "        }}\n",
       "}});\n",
       "\n",
       "// Listen for the removal of the full notebook cells\n",
       "var notebookContainer = gd.closest('#notebook-container');\n",
       "if (notebookContainer) {{\n",
       "    x.observe(notebookContainer, {childList: true});\n",
       "}}\n",
       "\n",
       "// Listen for the clearing of the current output cell\n",
       "var outputEl = gd.closest('.output');\n",
       "if (outputEl) {{\n",
       "    x.observe(outputEl, {childList: true});\n",
       "}}\n",
       "\n",
       "                        })\n",
       "                };\n",
       "                });\n",
       "            </script>\n",
       "        </div>"
      ]
     },
     "metadata": {},
     "output_type": "display_data"
    }
   ],
   "source": [
    "layout0= go.Layout(title = \"Young's Modulus on Atomic Radius\", hovermode= 'closest', width = 800, height=800, showlegend=True,  # Hovermode establishes the way the labels that appear when you hover are arranged # Establishing a square plot width=height\n",
    "    xaxis= dict(title=go.layout.xaxis.Title(text='Atomic Radius [10<sup>2</sup>pm]', font=dict(size=36)), zeroline= True, gridwidth= 1.5, tickfont=dict(size=24)), # Axis Titles. Removing the X-axis Mark. Adding a Grid\n",
    "    yaxis= dict(title=go.layout.yaxis.Title(text=\"Young's Modulus [GPa]\", font=dict(size=36)), zeroline= True, gridwidth= 1.5, tickfont=dict(size=24)), # Axis Titles. Removing the Y-axis Mark. Adding a Grid\n",
    "    legend=dict(font=dict(size=24))) # Adding a legend\n",
    "\n",
    "# Trace\n",
    "\n",
    "trace0 = go.Scatter(x = atomic_radius,y = youngs_modulus, mode = 'markers',\n",
    "    marker= dict(size= 18, line= dict(width=1), color=colors), # We add a size, a border and our custom colors to the markers\n",
    "    text= sample, # This attribute (Text) labels each point to this list, which contains our elements in the same indexes as our properties\n",
    "showlegend = False)\n",
    "\n",
    "\n",
    "# Empty Traces for Legend\n",
    "legend_plot_FCC = go.Scatter(x=[None], y=[None], mode='markers', marker=dict(size=18,  line= dict(width=1),color='blue'), name = 'FCC')\n",
    "legend_plot_BCC = go.Scatter(x=[None], y=[None], mode='markers', marker=dict(size=18,  line= dict(width=1),color='red'), name = 'BCC')\n",
    "legend_plot_HCP = go.Scatter(x=[None], y=[None], mode='markers', marker=dict(size=18,  line= dict(width=1),color='orange'), name = 'HCP')\n",
    "legend_plot_Other = go.Scatter(x=[None], y=[None], mode='markers', marker=dict(size=18, line= dict(width=1),color='green'), name = 'Other')\n",
    "\n",
    "\n",
    "data = [trace0, legend_plot_FCC, legend_plot_BCC, legend_plot_HCP, legend_plot_Other]\n",
    "\n",
    "fig= go.Figure(data, layout=layout0)\n",
    "fig.update_layout(\n",
    "    font_family=\"Arial\",\n",
    "    title_font_color=\"Black\",\n",
    "    title_font_size= 38\n",
    ")\n",
    "iplot(fig)"
   ]
  },
  {
   "cell_type": "code",
   "execution_count": null,
   "metadata": {},
   "outputs": [],
   "source": []
  }
 ],
 "metadata": {
  "kernelspec": {
   "display_name": "PythonData",
   "language": "python",
   "name": "pythondata"
  },
  "language_info": {
   "codemirror_mode": {
    "name": "ipython",
    "version": 3
   },
   "file_extension": ".py",
   "mimetype": "text/x-python",
   "name": "python",
   "nbconvert_exporter": "python",
   "pygments_lexer": "ipython3",
   "version": "3.7.7"
  }
 },
 "nbformat": 4,
 "nbformat_minor": 4
}
