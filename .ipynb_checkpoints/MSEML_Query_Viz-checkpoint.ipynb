{
 "cells": [
  {
   "cell_type": "markdown",
   "metadata": {},
   "source": [
    "## *Querying, Organizing and Visualizing Materials Data*\n",
    "\n",
    "\n",
    "**Why?** Access to data associated with materials in electronic form enables engineers, scientists and\n",
    "students to explore this data, display it graphically, find trends and develop models.\n",
    "\n",
    "**What?** In this tutorial, we will learn how to query, organize and plot data from the databases associated with the Python libraries [Pymatgen](http://pymatgen.org/) and [Mendeleev](https://mendeleev.readthedocs.io/en/stable/). \n",
    "\n",
    "**How to use this?** This tutorial uses Python, some familiarity with programming would be beneficial but is not required. Run each code cell in order by clicking \"Shift + Enter\". Feel free to modify the code, or change queries to familiarize yourself with the workings on the code.\n",
    "\n",
    "\n",
    "Suggested modifications and exercises are included in <font color=blue> blue</font>.\n",
    "\n",
    "**Outline:**\n",
    "\n",
    "1. Query from Pymatgen\n",
    "2. Processing and Organizing Data\n",
    "3. Plotting\n",
    "4. Query from Mendeleev\n",
    "\n",
    "**Get started:** Click \"Shift-Enter\" on the code cells to run! "
   ]
  },
  {
   "cell_type": "code",
   "execution_count": 19,
   "metadata": {},
   "outputs": [],
   "source": [
    "# These lines import both libraries and then define an array with elements to be used below\n",
    "\n",
    "import pymatgen as pymat\n",
    "import mendeleev as mendel\n",
    "import pandas as pd\n",
    "\n",
    "elements = ['H', 'He', 'Li', 'Be', 'B', 'C', 'N', 'O', 'F', 'Ne', 'Na', 'Mg',\n",
    "            'Al', 'Si', 'P', 'S', 'Cl', 'Ar', 'K', 'Ca', 'Sc', 'Ti', 'V', 'Cr',\n",
    "            'Mn', 'Fe', 'Co', 'Ni', 'Cu', 'Zn', 'Ga', 'Ge', 'As', 'Se', 'Br',\n",
    "            'Kr', 'Rb', 'Sr', 'Y', 'Zr', 'Nb', 'Mo', 'Tc', 'Ru', 'Rh', 'Pd', 'Ag',\n",
    "            'Cd', 'In', 'Sn', 'Sb', 'Te', 'I', 'Xe', 'Cs', 'Ba', 'Hf', 'Ta', 'W',\n",
    "            'Re', 'Os', 'Ir', 'Pt', 'Au', 'Hg', 'Tl', 'Pb', 'Bi', 'Po', 'At', 'Rn',\n",
    "            'Fr', 'Ra', 'Lr',\n",
    "            'La', 'Ce', 'Pr', 'Nd', 'Pm', 'Sm', 'Eu', 'Gd', 'Tb', 'Dy', 'Ho', 'Er', \n",
    "            'Tm', 'Yb', 'Lu', 'Ac', 'Th', 'Pa', 'U', 'Np', 'Pu', 'Am', 'Cm', 'Bk', \n",
    "            'Cf', 'Es', 'Fm', 'Md', 'No']"
   ]
  },
  {
   "cell_type": "code",
   "execution_count": 20,
   "metadata": {},
   "outputs": [
    {
     "data": {
      "text/plain": [
       "103"
      ]
     },
     "execution_count": 20,
     "metadata": {},
     "output_type": "execute_result"
    }
   ],
   "source": [
    "len(elements)"
   ]
  },
  {
   "cell_type": "markdown",
   "metadata": {},
   "source": [
    "### 1. Query from Pymatgen\n",
    "\n",
    "Pymatgen is an open-source library in python used for material analysis. Pymatgen is a powerful and popular resource that can be used to access data in the two repositories: the [Materials Project](https://materialsproject.org/) and the [Crystallography Open Database](http://www.crystallography.net/cod/). Pymatgen makes querying these resources and obtain data from its internal database easy. We will start by querying the database within the library by using the **Element** class.\n",
    "\n",
    "Making a query in Pymatgen requires the chemical symbol of the element, which are all listed in the cell above. From there, the property is accessible as an attribute of that Element object. For a list of all the properties available click [here](http://pymatgen.org/pymatgen.core.periodic_table.html?pymatgen.core.periodic_table.Specie.element) to learn more about the Element class.\n",
    "\n",
    "In this example we will query the Young's modulus for the elements in the list \"sample\". You will be able to see the values with the corresponding units for this quantity. You can use the commented code to query all the properties listed for the \"sample\" elements."
   ]
  },
  {
   "cell_type": "code",
   "execution_count": 21,
   "metadata": {},
   "outputs": [
    {
     "name": "stdout",
     "output_type": "stream",
     "text": [
      "Fe 211.0 GPa\n",
      "Co 209.0 GPa\n",
      "Ni 200.0 GPa\n",
      "Ti 116.0 GPa\n",
      "Cr 279.0 GPa\n"
     ]
    }
   ],
   "source": [
    "querable_pymatgen = [\"atomic_mass\", \"poissons_ratio\",\"atomic_radius\", \"electrical_resistivity\",\"molar_volume\",\n",
    "                     \"thermal_conductivity\", \"bulk_modulus\", \"youngs_modulus\", \"group\",\n",
    "                     \"is_noble_gas\", \"is_transition_metal\", \"is_post_transition_metal\", \"is_rare_earth_metal\",\n",
    "                     \"is_metalloid\", \"is_alkali\", \"is_alkaline\", \"is_halogen\", \"is_lanthanoid\", \"is_actinoid\",\n",
    "                     \"van_der_waals_radius\", \"velocity_of_sound\", \"critical_temperature\", \"superconduction_temperature\",\n",
    "                     \"average_cationic_radius\", \"average_anionic_radius\", \"ionic_radii\", \"boiling_point\", \"symbol\",\n",
    "                    \"vickers_hardness\", \"average_ionic_radius\", \"melting_point\", \"rigidity_modulus\", \"Z\", \"number\", \n",
    "                     \"density_of_solid\",\"coefficient_of_linear_thermal_expansion\"]\n",
    "\n",
    "# sample = ['Fe', 'Co', 'Ni', 'Cu', 'Zn']\n",
    "# sample = ['La']\n",
    "sample = ['Fe', 'Co', 'Ni', 'Ti', 'Cr']\n",
    "for item in sample:\n",
    "    element_object = pymat.Element(item)\n",
    "    print(item, element_object.youngs_modulus) # You can change \"youngs_modulus\" to any of the properties in the querable_pymatgen list\n",
    "    \n",
    "# for item in sample:\n",
    "#    for i in querable_pymatgen:\n",
    "#        element_object = pymat.Element(item)\n",
    "#        print(item, i, getattr(element_object,i))"
   ]
  },
  {
   "cell_type": "code",
   "execution_count": 22,
   "metadata": {},
   "outputs": [
    {
     "name": "stdout",
     "output_type": "stream",
     "text": [
      "Fe atomic_mass 55.845 amu\n",
      "Fe poissons_ratio 0.29\n",
      "Fe atomic_radius 1.4 ang\n",
      "Fe electrical_resistivity 1e-07 m ohm\n",
      "Fe molar_volume 7.09 cm^3\n",
      "Fe thermal_conductivity 80.0 W K^-1 m^-1\n",
      "Fe bulk_modulus 170.0 GPa\n",
      "Fe youngs_modulus 211.0 GPa\n",
      "Fe group 8\n",
      "Fe is_noble_gas False\n",
      "Fe is_transition_metal True\n",
      "Fe is_post_transition_metal False\n",
      "Fe is_rare_earth_metal False\n",
      "Fe is_metalloid False\n",
      "Fe is_alkali False\n",
      "Fe is_alkaline False\n",
      "Fe is_halogen False\n",
      "Fe is_lanthanoid False\n",
      "Fe is_actinoid False\n",
      "Fe van_der_waals_radius None\n",
      "Fe velocity_of_sound 4910.0 m s^-1\n",
      "Fe critical_temperature None\n",
      "Fe superconduction_temperature None\n",
      "Fe average_cationic_radius 0.8525 ang\n",
      "Fe average_anionic_radius 0.0 ang\n",
      "Fe ionic_radii {2: 0.92, 3: 0.785}\n",
      "Fe boiling_point 3134.0 K\n",
      "Fe symbol Fe\n",
      "Fe vickers_hardness 608.0 MN m^-2\n",
      "Fe average_ionic_radius 0.8525 ang\n",
      "Fe melting_point 1811.0 K\n",
      "Fe rigidity_modulus 82.0 GPa\n",
      "Fe Z 26\n",
      "Fe number 26\n",
      "Fe density_of_solid 7874.0 kg m^-3\n",
      "Fe coefficient_of_linear_thermal_expansion 1.18e-05 K^-1\n",
      "Co atomic_mass 58.933195 amu\n",
      "Co poissons_ratio 0.31\n",
      "Co atomic_radius 1.35 ang\n",
      "Co electrical_resistivity 6e-08 m ohm\n",
      "Co molar_volume 6.67 cm^3\n",
      "Co thermal_conductivity 100.0 W K^-1 m^-1\n",
      "Co bulk_modulus 180.0 GPa\n",
      "Co youngs_modulus 209.0 GPa\n",
      "Co group 9\n",
      "Co is_noble_gas False\n",
      "Co is_transition_metal True\n",
      "Co is_post_transition_metal False\n",
      "Co is_rare_earth_metal False\n",
      "Co is_metalloid False\n",
      "Co is_alkali False\n",
      "Co is_alkaline False\n",
      "Co is_halogen False\n",
      "Co is_lanthanoid False\n",
      "Co is_actinoid False\n",
      "Co van_der_waals_radius None\n",
      "Co velocity_of_sound 4720.0 m s^-1\n",
      "Co critical_temperature None\n",
      "Co superconduction_temperature None\n",
      "Co average_cationic_radius 0.7683333333333334 ang\n",
      "Co average_anionic_radius 0.0 ang\n",
      "Co ionic_radii {2: 0.885, 3: 0.75, 4: 0.67}\n",
      "Co boiling_point 3200.0 K\n",
      "Co symbol Co\n",
      "Co vickers_hardness 1043.0 MN m^-2\n",
      "Co average_ionic_radius 0.7683333333333334 ang\n",
      "Co melting_point 1768.0 K\n",
      "Co rigidity_modulus 75.0 GPa\n",
      "Co Z 27\n",
      "Co number 27\n",
      "Co density_of_solid 8900.0 kg m^-3\n",
      "Co coefficient_of_linear_thermal_expansion 1.3e-05 K^-1\n",
      "Ni atomic_mass 58.6934 amu\n",
      "Ni poissons_ratio 0.31\n",
      "Ni atomic_radius 1.35 ang\n",
      "Ni electrical_resistivity 7.2e-08 m ohm\n",
      "Ni molar_volume 6.59 cm^3\n",
      "Ni thermal_conductivity 91.0 W K^-1 m^-1\n",
      "Ni bulk_modulus 180.0 GPa\n",
      "Ni youngs_modulus 200.0 GPa\n",
      "Ni group 10\n",
      "Ni is_noble_gas False\n",
      "Ni is_transition_metal True\n",
      "Ni is_post_transition_metal False\n",
      "Ni is_rare_earth_metal False\n",
      "Ni is_metalloid False\n",
      "Ni is_alkali False\n",
      "Ni is_alkaline False\n",
      "Ni is_halogen False\n",
      "Ni is_lanthanoid False\n",
      "Ni is_actinoid False\n",
      "Ni van_der_waals_radius 1.63\n",
      "Ni velocity_of_sound 4970.0 m s^-1\n",
      "Ni critical_temperature None\n",
      "Ni superconduction_temperature None\n",
      "Ni average_cationic_radius 0.74 ang\n",
      "Ni average_anionic_radius 0.0 ang\n",
      "Ni ionic_radii {3: 0.74}\n",
      "Ni boiling_point 3186.0 K\n",
      "Ni symbol Ni\n",
      "Ni vickers_hardness 638.0 MN m^-2\n",
      "Ni average_ionic_radius 0.74 ang\n",
      "Ni melting_point 1728.0 K\n",
      "Ni rigidity_modulus 76.0 GPa\n",
      "Ni Z 28\n",
      "Ni number 28\n",
      "Ni density_of_solid 8908.0 kg m^-3\n",
      "Ni coefficient_of_linear_thermal_expansion 1.34e-05 K^-1\n",
      "Ti atomic_mass 47.867 amu\n",
      "Ti poissons_ratio 0.32\n",
      "Ti atomic_radius 1.4 ang\n",
      "Ti electrical_resistivity 4e-07 m ohm\n",
      "Ti molar_volume 10.64 cm^3\n",
      "Ti thermal_conductivity 22.0 W K^-1 m^-1\n",
      "Ti bulk_modulus 110.0 GPa\n",
      "Ti youngs_modulus 116.0 GPa\n",
      "Ti group 4\n",
      "Ti is_noble_gas False\n",
      "Ti is_transition_metal True\n",
      "Ti is_post_transition_metal False\n",
      "Ti is_rare_earth_metal False\n",
      "Ti is_metalloid False\n",
      "Ti is_alkali False\n",
      "Ti is_alkaline False\n",
      "Ti is_halogen False\n",
      "Ti is_lanthanoid False\n",
      "Ti is_actinoid False\n",
      "Ti van_der_waals_radius None\n",
      "Ti velocity_of_sound 4140.0 m s^-1\n",
      "Ti critical_temperature None\n",
      "Ti superconduction_temperature 0.4 K\n",
      "Ti average_cationic_radius 0.8516666666666667 ang\n",
      "Ti average_anionic_radius 0.0 ang\n",
      "Ti ionic_radii {2: 1.0, 3: 0.81, 4: 0.745}\n",
      "Ti boiling_point 3560.0 K\n",
      "Ti symbol Ti\n",
      "Ti vickers_hardness 970.0 MN m^-2\n",
      "Ti average_ionic_radius 0.8516666666666667 ang\n",
      "Ti melting_point 1941.0 K\n",
      "Ti rigidity_modulus 44.0 GPa\n",
      "Ti Z 22\n",
      "Ti number 22\n",
      "Ti density_of_solid 4507.0 kg m^-3\n",
      "Ti coefficient_of_linear_thermal_expansion 8.6e-06 K^-1\n",
      "Cr atomic_mass 51.9961 amu\n",
      "Cr poissons_ratio 0.21\n",
      "Cr atomic_radius 1.4 ang\n",
      "Cr electrical_resistivity 1.27e-07 m ohm\n",
      "Cr molar_volume 7.23 cm^3\n",
      "Cr thermal_conductivity 94.0 W K^-1 m^-1\n",
      "Cr bulk_modulus 160.0 GPa\n",
      "Cr youngs_modulus 279.0 GPa\n",
      "Cr group 6\n",
      "Cr is_noble_gas False\n",
      "Cr is_transition_metal True\n",
      "Cr is_post_transition_metal False\n",
      "Cr is_rare_earth_metal False\n",
      "Cr is_metalloid False\n",
      "Cr is_alkali False\n",
      "Cr is_alkaline False\n",
      "Cr is_halogen False\n",
      "Cr is_lanthanoid False\n",
      "Cr is_actinoid False\n",
      "Cr van_der_waals_radius None\n",
      "Cr velocity_of_sound 5940.0 m s^-1\n",
      "Cr critical_temperature None\n",
      "Cr superconduction_temperature None\n",
      "Cr average_cationic_radius 0.94 ang\n",
      "Cr average_anionic_radius 0.0 ang\n",
      "Cr ionic_radii {2: 0.94}\n",
      "Cr boiling_point 2944.0 K\n",
      "Cr symbol Cr\n",
      "Cr vickers_hardness 1060.0 MN m^-2\n",
      "Cr average_ionic_radius 0.94 ang\n",
      "Cr melting_point 2180.0 K\n",
      "Cr rigidity_modulus 115.0 GPa\n",
      "Cr Z 24\n",
      "Cr number 24\n",
      "Cr density_of_solid 7140.0 kg m^-3\n",
      "Cr coefficient_of_linear_thermal_expansion 4.9e-06 K^-1\n"
     ]
    }
   ],
   "source": [
    "for item in sample:\n",
    "   for i in querable_pymatgen:\n",
    "       element_object = pymat.Element(item)\n",
    "       print(item, i, getattr(element_object,i))"
   ]
  },
  {
   "cell_type": "code",
   "execution_count": 23,
   "metadata": {},
   "outputs": [
    {
     "name": "stdout",
     "output_type": "stream",
     "text": [
      "Fe 490.0 MN m^-2\n",
      "Co 700.0 MN m^-2\n",
      "Ni 700.0 MN m^-2\n",
      "Ti 716.0 MN m^-2\n",
      "Cr 1120.0 MN m^-2\n"
     ]
    }
   ],
   "source": [
    "for item in sample:\n",
    "    element_object = pymat.Element(item)\n",
    "    print(item, element_object.brinell_hardness)"
   ]
  },
  {
   "cell_type": "markdown",
   "metadata": {},
   "source": [
    " * <font color=blue> **Exercise 1.** Modify the query above to extract Brinell hardness. </font>\n",
    " * <font color=blue> **Exercise 2.** Uncomment the lines above to see all the properties of the selected elements. </font>\n",
    " \n",
    " Remember: \"Shift-Enter\" to re-run the cell.\n",
    " "
   ]
  },
  {
   "cell_type": "markdown",
   "metadata": {},
   "source": [
    "### 2. Processing and Organizing Data\n",
    "\n",
    "After going through the basics of a query, we will now learn how to organize data in Python lists and dictionaries.\n",
    "\n",
    "Entries in a dictionary have a name (in our case, the element) and attributes associated with it. Dictonaries can be useful to store a collection of data values from a particular element. In this example, we will create one to store some of the properties for Iron, using queries from both of the libraries we discussed. Note that the specific heat is obtained from Mendeleev, which is another database to access properties of elements."
   ]
  },
  {
   "cell_type": "code",
   "execution_count": 24,
   "metadata": {},
   "outputs": [
    {
     "name": "stdout",
     "output_type": "stream",
     "text": [
      "{'atomic_number': 26, 'coefficient_of_linear_thermal_expansion': 1.18e-05, 'youngs_modulus': 211.0, 'specific_heat': 0.443}\n",
      "0.443\n"
     ]
    }
   ],
   "source": [
    "Fe_data = {} # Initializing a dictionary\n",
    "\n",
    "# Each of the following lines is making a single entry\n",
    "\n",
    "Fe_data[\"atomic_number\"] = mendel.element(\"Fe\").atomic_number #Mendeleev library.\n",
    "Fe_data[\"coefficient_of_linear_thermal_expansion\"] = pymat.Element(\"Fe\").coefficient_of_linear_thermal_expansion\n",
    "Fe_data[\"youngs_modulus\"] = pymat.Element(\"Fe\").youngs_modulus\n",
    "Fe_data[\"specific_heat\"] = mendel.element(\"Fe\").specific_heat #Mendeleev library.\n",
    "\n",
    "#Print the entire entry for Fe\n",
    "print(Fe_data)\n",
    "\n",
    "#Print a specific attribute:\n",
    "print(Fe_data[\"specific_heat\"])\n",
    "\n",
    "# This line is to delete an entry\n",
    "    # del Fe_data[\"atomic_number\"]"
   ]
  },
  {
   "cell_type": "markdown",
   "metadata": {},
   "source": [
    "Another way we can organize data is in lists, which can be very helpful if we want to create plots with our data. Following the examples above, we will now query two specific properties for all elements to get a list of values which will be indexed corresponding to the positions of the elements in the \"elements\" list in the first cell of the tutorial."
   ]
  },
  {
   "cell_type": "code",
   "execution_count": 25,
   "metadata": {},
   "outputs": [
    {
     "name": "stdout",
     "output_type": "stream",
     "text": [
      "[None, None, 4.6e-05, 1.13e-05, 6e-06, 7.1e-06, None, None, None, None, 7.1e-05, 8.2e-06, 2.31e-05, 2.6e-06, None, None, None, None, None, 2.23e-05, 1.02e-05, 8.6e-06, 8.4e-06, 4.9e-06, 2.17e-05, 1.18e-05, 1.3e-05, 1.34e-05, 1.65e-05, 3.02e-05, 0.00012, 6e-06, None, None, None, None, None, 2.25e-05, 1.06e-05, 5.7e-06, 7.3e-06, 4.8e-06, None, 6.4e-06, 8.2e-06, 1.18e-05, 1.89e-05, 3.08e-05, 3.21e-05, 2.2e-05, 1.1e-05, None, None, None, None, 2.06e-05, 5.9e-06, 6.3e-06, 4.5e-06, 6.2e-06, 5.1e-06, 6.4e-06, 8.8e-06, 1.42e-05, None, 2.99e-05, 2.89e-05, 1.34e-05, None, None, None, None, None, None, 1.21e-05, 6.3e-06, 6.7e-06, 9.6e-06, 1.1e-05, 1.27e-05, 3.5e-05, 9.4e-06, 1.03e-05, 9.9e-06, 1.12e-05, 1.22e-05, 1.33e-05, 2.63e-05, 9.9e-06, None, 1.1e-05, None, 1.39e-05, None, None, None, None, None, None, None, None, None, None]\n",
      "[None, None, 4.9, 287.0, None, None, None, None, None, None, 10.0, 45.0, 70.0, 47.0, None, None, None, None, None, 20.0, 74.0, 116.0, 128.0, 279.0, 198.0, 211.0, 209.0, 200.0, 130.0, 108.0, None, None, 8.0, 10.0, None, None, 2.4, None, 64.0, 68.0, 105.0, 329.0, None, 447.0, 275.0, 121.0, 83.0, 50.0, 11.0, 50.0, 55.0, 43.0, None, None, 1.7, 13.0, 78.0, 186.0, 411.0, 463.0, None, 528.0, 168.0, 78.0, None, 8.0, 16.0, 32.0, None, None, None, None, None, None, 37.0, 34.0, 37.0, 41.0, 46.0, 50.0, 18.0, 55.0, 56.0, 61.0, 65.0, 70.0, 74.0, 24.0, 69.0, None, 79.0, None, 208.0, None, 96.0, None, None, None, None, None, None, None, None]\n",
      "[14.01, 0.95, 453.69, 1560.0, 2349.0, 3800.0, 63.05, 54.8, 53.53, 24.56, 370.87, 923.0, 933.47, 1687.0, 317.3, 388.36, 171.6, 83.8, 336.53, 1115.0, 1814.0, 1941.0, 2183.0, 2180.0, 1519.0, 1811.0, 1768.0, 1728.0, 1357.77, 692.68, 302.91, 1211.4, 1090.0, 494.0, 265.8, 115.79, 312.46, 1050.0, 1799.0, 2128.0, 2750.0, 2896.0, 2430.0, 2607.0, 2237.0, 1828.05, 1234.93, 594.22, 429.75, 505.08, 903.78, 722.66, 386.85, 161.4, 301.59, 1000.0, 2506.0, 3290.0, 3695.0, 3459.0, 3306.0, 2739.0, 2041.4, 1337.33, 234.32, 577.0, 600.61, 544.4, 527.0, 575.0, 202.0, 'maybe about 300 K', 973.0, 1900.0, 1193.0, 1068.0, 1208.0, 1297.0, 1373.0, 1345.0, 1099.0, 1585.0, 1629.0, 1680.0, 1734.0, 1802.0, 1818.0, 1097.0, 1925.0, 1323.0, 2115.0, 1841.0, 1405.3, 910.0, 912.5, 1449.0, 1613.0, 1259.0, 1173.0, 1133.0, 1800.0, 1100.0, 1100.0]\n"
     ]
    }
   ],
   "source": [
    "sample = elements.copy()\n",
    "\n",
    "CTE = [] # In this list we will store the Coefficients of Thermal Expansion\n",
    "youngs_modulus = [] # In this list we will store the Young's Moduli\n",
    "melting_temperature = [] # In this list we will store the Melting Temperatures\n",
    "atomic = [] # In this list we will store the Melting Temperatures\n",
    "atomic_radius = []\n",
    "\n",
    "for item in sample:\n",
    "    CTE.append(pymat.Element(item).coefficient_of_linear_thermal_expansion)\n",
    "    youngs_modulus.append(pymat.Element(item).youngs_modulus)\n",
    "    melting_temperature.append(pymat.Element(item).melting_point)\n",
    "    atomic_radius.append(pymat.Element(item).atomic_radius)\n",
    "\n",
    "# You can visualize the lists by uncommenting these print statements\n",
    "print(CTE)\n",
    "print(youngs_modulus)\n",
    "print(melting_temperature)\n",
    "print(atomic_radius)\n",
    "\n",
    "# We will use the following arrays to group elements by their crystal structure at RT, all elements that are gases and liquids at RT have been removed\n",
    "\n",
    "fcc_elements = [\"Ag\", \"Al\", \"Au\", \"Cu\", \"Ir\", \"Ni\", \"Pb\", \"Pd\", \"Pt\", \"Rh\", \"Sr\", \"Th\", \"Yb\"]\n",
    "bcc_elements = [\"Ba\", \"Cr\", \"Cs\", \"Eu\", \"Fe\", \"K\", \"Li\", \"Mn\", \"Mo\", \"Na\", \"Nb\", \"P\", \"Rb\", \"Ta\", \"V\", \"W\" ]\n",
    "hcp_elements = [\"Be\", \"Ca\", \"Cd\", \"Co\", \"Dy\", \"Er\", \"Gd\", \"Hf\", \"Ho\", \"Lu\", \"Mg\", \"Os\", \"Re\", \"Ru\", \"Sc\", \"Tb\", \"Tc\",\"Ti\", \"Tl\", \"Tm\", \"Y\", \"Zn\", \"Zr\"]\n",
    "\n",
    "# Others (Solids): \"B\", \"Sb\", \"Sm\", \"Bi\" and \"As\" are Rhombohedral; \"C\" , \"Ce\" and \"Sn\" are Allotropic; \"Si\" and \"Ge\" are Face-centered diamond-cubic; \"Pu\" is Monoclinic;\n",
    "#                  \"S\", \"I\", \"U\", \"Np\" and \"Ga\" are Orthorhombic; \"Se\" and \"Te\" Hexagonal; \"In\" and \"Pa\" are Tetragonal; \"la\", \"Pr\", \"Nd\", \"Pm\" are Double hexagonal close-packed;"
   ]
  },
  {
   "cell_type": "markdown",
   "metadata": {},
   "source": [
    "Finally, the most efficient way we to visualize how the dataset we just created looks is to use the [Pandas](https://pandas.pydata.org/) library to display it. This library will take the list of lists and show it in a nice, user-friendly table with the properties as the column headers.\n",
    "\n",
    "For this exercise, we will work with the data extracted for elements with the <b>FCC crystal structure</b>. \n",
    "\n",
    "First, we will create a list of lists using a for-loop and the values we can query from the Pymatgen library. We can specify the names for each column from our array of properties we queried. "
   ]
  },
  {
   "cell_type": "code",
   "execution_count": 26,
   "metadata": {},
   "outputs": [
    {
     "data": {
      "text/plain": [
       "36"
      ]
     },
     "execution_count": 26,
     "metadata": {},
     "output_type": "execute_result"
    }
   ],
   "source": [
    "len(querable_pymatgen)"
   ]
  },
  {
   "cell_type": "code",
   "execution_count": 34,
   "metadata": {},
   "outputs": [
    {
     "data": {
      "text/plain": [
       "1811.0"
      ]
     },
     "execution_count": 34,
     "metadata": {},
     "output_type": "execute_result"
    }
   ],
   "source": [
    "getattr(pymat.Element(\"Fe\"), \"melting_point\")"
   ]
  },
  {
   "cell_type": "code",
   "execution_count": 35,
   "metadata": {},
   "outputs": [
    {
     "name": "stdout",
     "output_type": "stream",
     "text": [
      "Ag atomic_mass\n",
      "Ag poissons_ratio\n",
      "Ag atomic_radius\n",
      "Ag electrical_resistivity\n",
      "Ag molar_volume\n",
      "Ag thermal_conductivity\n",
      "Ag bulk_modulus\n",
      "Ag youngs_modulus\n",
      "Ag group\n",
      "Ag is_noble_gas\n",
      "Ag is_transition_metal\n",
      "Ag is_post_transition_metal\n",
      "Ag is_rare_earth_metal\n",
      "Ag is_metalloid\n",
      "Ag is_alkali\n",
      "Ag is_alkaline\n",
      "Ag is_halogen\n",
      "Ag is_lanthanoid\n",
      "Ag is_actinoid\n",
      "Ag van_der_waals_radius\n",
      "Ag velocity_of_sound\n",
      "Ag critical_temperature\n",
      "Ag superconduction_temperature\n",
      "Ag average_cationic_radius\n",
      "Ag average_anionic_radius\n",
      "Ag ionic_radii\n",
      "Ag boiling_point\n",
      "Ag symbol\n",
      "Ag vickers_hardness\n",
      "Ag average_ionic_radius\n",
      "Ag melting_point\n",
      "Ag rigidity_modulus\n",
      "Ag Z\n",
      "Ag number\n",
      "Ag density_of_solid\n",
      "Ag coefficient_of_linear_thermal_expansion\n",
      "Al atomic_mass\n",
      "Al poissons_ratio\n",
      "Al atomic_radius\n",
      "Al electrical_resistivity\n",
      "Al molar_volume\n",
      "Al thermal_conductivity\n",
      "Al bulk_modulus\n",
      "Al youngs_modulus\n",
      "Al group\n",
      "Al is_noble_gas\n",
      "Al is_transition_metal\n",
      "Al is_post_transition_metal\n",
      "Al is_rare_earth_metal\n",
      "Al is_metalloid\n",
      "Al is_alkali\n",
      "Al is_alkaline\n",
      "Al is_halogen\n",
      "Al is_lanthanoid\n",
      "Al is_actinoid\n",
      "Al van_der_waals_radius\n",
      "Al velocity_of_sound\n",
      "Al critical_temperature\n",
      "Al superconduction_temperature\n",
      "Al average_cationic_radius\n",
      "Al average_anionic_radius\n",
      "Al ionic_radii\n",
      "Al boiling_point\n",
      "Al symbol\n",
      "Al vickers_hardness\n",
      "Al average_ionic_radius\n",
      "Al melting_point\n",
      "Al rigidity_modulus\n",
      "Al Z\n",
      "Al number\n",
      "Al density_of_solid\n",
      "Al coefficient_of_linear_thermal_expansion\n",
      "Au atomic_mass\n",
      "Au poissons_ratio\n",
      "Au atomic_radius\n",
      "Au electrical_resistivity\n",
      "Au molar_volume\n",
      "Au thermal_conductivity\n",
      "Au bulk_modulus\n",
      "Au youngs_modulus\n",
      "Au group\n",
      "Au is_noble_gas\n",
      "Au is_transition_metal\n",
      "Au is_post_transition_metal\n",
      "Au is_rare_earth_metal\n",
      "Au is_metalloid\n",
      "Au is_alkali\n",
      "Au is_alkaline\n",
      "Au is_halogen\n",
      "Au is_lanthanoid\n",
      "Au is_actinoid\n",
      "Au van_der_waals_radius\n",
      "Au velocity_of_sound\n",
      "Au critical_temperature\n",
      "Au superconduction_temperature\n",
      "Au average_cationic_radius\n",
      "Au average_anionic_radius\n",
      "Au ionic_radii\n",
      "Au boiling_point\n",
      "Au symbol\n",
      "Au vickers_hardness\n",
      "Au average_ionic_radius\n",
      "Au melting_point\n",
      "Au rigidity_modulus\n",
      "Au Z\n",
      "Au number\n",
      "Au density_of_solid\n",
      "Au coefficient_of_linear_thermal_expansion\n",
      "Cu atomic_mass\n",
      "Cu poissons_ratio\n",
      "Cu atomic_radius\n",
      "Cu electrical_resistivity\n",
      "Cu molar_volume\n",
      "Cu thermal_conductivity\n",
      "Cu bulk_modulus\n",
      "Cu youngs_modulus\n",
      "Cu group\n",
      "Cu is_noble_gas\n",
      "Cu is_transition_metal\n",
      "Cu is_post_transition_metal\n",
      "Cu is_rare_earth_metal\n",
      "Cu is_metalloid\n",
      "Cu is_alkali\n",
      "Cu is_alkaline\n",
      "Cu is_halogen\n",
      "Cu is_lanthanoid\n",
      "Cu is_actinoid\n",
      "Cu van_der_waals_radius\n",
      "Cu velocity_of_sound\n",
      "Cu critical_temperature\n",
      "Cu superconduction_temperature\n",
      "Cu average_cationic_radius\n",
      "Cu average_anionic_radius\n",
      "Cu ionic_radii\n",
      "Cu boiling_point\n",
      "Cu symbol\n",
      "Cu vickers_hardness\n",
      "Cu average_ionic_radius\n",
      "Cu melting_point\n",
      "Cu rigidity_modulus\n",
      "Cu Z\n",
      "Cu number\n",
      "Cu density_of_solid\n",
      "Cu coefficient_of_linear_thermal_expansion\n",
      "Ir atomic_mass\n",
      "Ir poissons_ratio\n",
      "Ir atomic_radius\n",
      "Ir electrical_resistivity\n",
      "Ir molar_volume\n",
      "Ir thermal_conductivity\n",
      "Ir bulk_modulus\n",
      "Ir youngs_modulus\n",
      "Ir group\n",
      "Ir is_noble_gas\n",
      "Ir is_transition_metal\n",
      "Ir is_post_transition_metal\n",
      "Ir is_rare_earth_metal\n",
      "Ir is_metalloid\n",
      "Ir is_alkali\n",
      "Ir is_alkaline\n",
      "Ir is_halogen\n",
      "Ir is_lanthanoid\n",
      "Ir is_actinoid\n",
      "Ir van_der_waals_radius\n",
      "Ir velocity_of_sound\n",
      "Ir critical_temperature\n",
      "Ir superconduction_temperature\n",
      "Ir average_cationic_radius\n",
      "Ir average_anionic_radius\n",
      "Ir ionic_radii\n",
      "Ir boiling_point\n",
      "Ir symbol\n",
      "Ir vickers_hardness\n",
      "Ir average_ionic_radius\n",
      "Ir melting_point\n",
      "Ir rigidity_modulus\n",
      "Ir Z\n",
      "Ir number\n",
      "Ir density_of_solid\n",
      "Ir coefficient_of_linear_thermal_expansion\n",
      "Ni atomic_mass\n",
      "Ni poissons_ratio\n",
      "Ni atomic_radius\n",
      "Ni electrical_resistivity\n",
      "Ni molar_volume\n",
      "Ni thermal_conductivity\n",
      "Ni bulk_modulus\n",
      "Ni youngs_modulus\n",
      "Ni group\n",
      "Ni is_noble_gas\n",
      "Ni is_transition_metal\n",
      "Ni is_post_transition_metal\n",
      "Ni is_rare_earth_metal\n",
      "Ni is_metalloid\n",
      "Ni is_alkali\n",
      "Ni is_alkaline\n",
      "Ni is_halogen\n",
      "Ni is_lanthanoid\n",
      "Ni is_actinoid\n",
      "Ni van_der_waals_radius\n",
      "Ni velocity_of_sound\n",
      "Ni critical_temperature\n",
      "Ni superconduction_temperature\n",
      "Ni average_cationic_radius\n",
      "Ni average_anionic_radius\n",
      "Ni ionic_radii\n",
      "Ni boiling_point\n",
      "Ni symbol\n",
      "Ni vickers_hardness\n",
      "Ni average_ionic_radius\n",
      "Ni melting_point\n",
      "Ni rigidity_modulus\n",
      "Ni Z\n",
      "Ni number\n",
      "Ni density_of_solid\n",
      "Ni coefficient_of_linear_thermal_expansion\n",
      "Pb atomic_mass\n",
      "Pb poissons_ratio\n",
      "Pb atomic_radius\n",
      "Pb electrical_resistivity\n",
      "Pb molar_volume\n",
      "Pb thermal_conductivity\n",
      "Pb bulk_modulus\n",
      "Pb youngs_modulus\n",
      "Pb group\n",
      "Pb is_noble_gas\n",
      "Pb is_transition_metal\n",
      "Pb is_post_transition_metal\n",
      "Pb is_rare_earth_metal\n",
      "Pb is_metalloid\n",
      "Pb is_alkali\n",
      "Pb is_alkaline\n",
      "Pb is_halogen\n",
      "Pb is_lanthanoid\n",
      "Pb is_actinoid\n",
      "Pb van_der_waals_radius\n",
      "Pb velocity_of_sound\n",
      "Pb critical_temperature\n",
      "Pb superconduction_temperature\n",
      "Pb average_cationic_radius\n",
      "Pb average_anionic_radius\n",
      "Pb ionic_radii\n",
      "Pb boiling_point\n",
      "Pb symbol\n",
      "Pb vickers_hardness\n",
      "Pb average_ionic_radius\n",
      "Pb melting_point\n",
      "Pb rigidity_modulus\n",
      "Pb Z\n",
      "Pb number\n",
      "Pb density_of_solid\n",
      "Pb coefficient_of_linear_thermal_expansion\n",
      "Pd atomic_mass\n",
      "Pd poissons_ratio\n",
      "Pd atomic_radius\n",
      "Pd electrical_resistivity\n",
      "Pd molar_volume\n",
      "Pd thermal_conductivity\n",
      "Pd bulk_modulus\n",
      "Pd youngs_modulus\n",
      "Pd group\n",
      "Pd is_noble_gas\n",
      "Pd is_transition_metal\n",
      "Pd is_post_transition_metal\n",
      "Pd is_rare_earth_metal\n",
      "Pd is_metalloid\n",
      "Pd is_alkali\n",
      "Pd is_alkaline\n",
      "Pd is_halogen\n",
      "Pd is_lanthanoid\n",
      "Pd is_actinoid\n",
      "Pd van_der_waals_radius\n",
      "Pd velocity_of_sound\n",
      "Pd critical_temperature\n",
      "Pd superconduction_temperature\n",
      "Pd average_cationic_radius\n",
      "Pd average_anionic_radius\n",
      "Pd ionic_radii\n",
      "Pd boiling_point\n",
      "Pd symbol\n",
      "Pd vickers_hardness\n",
      "Pd average_ionic_radius\n",
      "Pd melting_point\n",
      "Pd rigidity_modulus\n",
      "Pd Z\n",
      "Pd number\n",
      "Pd density_of_solid\n",
      "Pd coefficient_of_linear_thermal_expansion\n",
      "Pt atomic_mass\n",
      "Pt poissons_ratio\n",
      "Pt atomic_radius\n",
      "Pt electrical_resistivity\n",
      "Pt molar_volume\n",
      "Pt thermal_conductivity\n",
      "Pt bulk_modulus\n",
      "Pt youngs_modulus\n",
      "Pt group\n",
      "Pt is_noble_gas\n",
      "Pt is_transition_metal\n",
      "Pt is_post_transition_metal\n",
      "Pt is_rare_earth_metal\n",
      "Pt is_metalloid\n",
      "Pt is_alkali\n",
      "Pt is_alkaline\n",
      "Pt is_halogen\n",
      "Pt is_lanthanoid\n",
      "Pt is_actinoid\n",
      "Pt van_der_waals_radius\n",
      "Pt velocity_of_sound\n",
      "Pt critical_temperature\n",
      "Pt superconduction_temperature\n",
      "Pt average_cationic_radius\n",
      "Pt average_anionic_radius\n",
      "Pt ionic_radii\n",
      "Pt boiling_point\n",
      "Pt symbol\n",
      "Pt vickers_hardness\n",
      "Pt average_ionic_radius\n",
      "Pt melting_point\n",
      "Pt rigidity_modulus\n",
      "Pt Z\n",
      "Pt number\n",
      "Pt density_of_solid\n",
      "Pt coefficient_of_linear_thermal_expansion\n",
      "Rh atomic_mass\n",
      "Rh poissons_ratio\n",
      "Rh atomic_radius\n",
      "Rh electrical_resistivity\n",
      "Rh molar_volume\n",
      "Rh thermal_conductivity\n",
      "Rh bulk_modulus\n",
      "Rh youngs_modulus\n",
      "Rh group\n",
      "Rh is_noble_gas\n",
      "Rh is_transition_metal\n",
      "Rh is_post_transition_metal\n",
      "Rh is_rare_earth_metal\n",
      "Rh is_metalloid\n",
      "Rh is_alkali\n",
      "Rh is_alkaline\n",
      "Rh is_halogen\n",
      "Rh is_lanthanoid\n",
      "Rh is_actinoid\n",
      "Rh van_der_waals_radius\n",
      "Rh velocity_of_sound\n",
      "Rh critical_temperature\n",
      "Rh superconduction_temperature\n",
      "Rh average_cationic_radius\n",
      "Rh average_anionic_radius\n",
      "Rh ionic_radii\n",
      "Rh boiling_point\n",
      "Rh symbol\n",
      "Rh vickers_hardness\n",
      "Rh average_ionic_radius\n",
      "Rh melting_point\n",
      "Rh rigidity_modulus\n",
      "Rh Z\n",
      "Rh number\n",
      "Rh density_of_solid\n",
      "Rh coefficient_of_linear_thermal_expansion\n",
      "Sr atomic_mass\n",
      "Sr poissons_ratio\n",
      "Sr atomic_radius\n",
      "Sr electrical_resistivity\n",
      "Sr molar_volume\n",
      "Sr thermal_conductivity\n",
      "Sr bulk_modulus\n",
      "Sr youngs_modulus\n",
      "Sr group\n",
      "Sr is_noble_gas\n",
      "Sr is_transition_metal\n",
      "Sr is_post_transition_metal\n",
      "Sr is_rare_earth_metal\n",
      "Sr is_metalloid\n",
      "Sr is_alkali\n",
      "Sr is_alkaline\n",
      "Sr is_halogen\n",
      "Sr is_lanthanoid\n",
      "Sr is_actinoid\n",
      "Sr van_der_waals_radius\n",
      "Sr velocity_of_sound\n",
      "Sr critical_temperature\n",
      "Sr superconduction_temperature\n",
      "Sr average_cationic_radius\n",
      "Sr average_anionic_radius\n",
      "Sr ionic_radii\n",
      "Sr boiling_point\n",
      "Sr symbol\n",
      "Sr vickers_hardness\n",
      "Sr average_ionic_radius\n",
      "Sr melting_point\n",
      "Sr rigidity_modulus\n",
      "Sr Z\n",
      "Sr number\n",
      "Sr density_of_solid\n",
      "Sr coefficient_of_linear_thermal_expansion\n",
      "Th atomic_mass\n",
      "Th poissons_ratio\n",
      "Th atomic_radius\n",
      "Th electrical_resistivity\n",
      "Th molar_volume\n",
      "Th thermal_conductivity\n",
      "Th bulk_modulus\n",
      "Th youngs_modulus\n",
      "Th group\n",
      "Th is_noble_gas\n",
      "Th is_transition_metal\n",
      "Th is_post_transition_metal\n",
      "Th is_rare_earth_metal\n",
      "Th is_metalloid\n",
      "Th is_alkali\n",
      "Th is_alkaline\n",
      "Th is_halogen\n",
      "Th is_lanthanoid\n",
      "Th is_actinoid\n",
      "Th van_der_waals_radius\n",
      "Th velocity_of_sound\n",
      "Th critical_temperature\n",
      "Th superconduction_temperature\n",
      "Th average_cationic_radius\n",
      "Th average_anionic_radius\n",
      "Th ionic_radii\n",
      "Th boiling_point\n",
      "Th symbol\n",
      "Th vickers_hardness\n",
      "Th average_ionic_radius\n",
      "Th melting_point\n",
      "Th rigidity_modulus\n",
      "Th Z\n",
      "Th number\n",
      "Th density_of_solid\n",
      "Th coefficient_of_linear_thermal_expansion\n",
      "Yb atomic_mass\n",
      "Yb poissons_ratio\n",
      "Yb atomic_radius\n",
      "Yb electrical_resistivity\n",
      "Yb molar_volume\n",
      "Yb thermal_conductivity\n",
      "Yb bulk_modulus\n",
      "Yb youngs_modulus\n",
      "Yb group\n",
      "Yb is_noble_gas\n",
      "Yb is_transition_metal\n",
      "Yb is_post_transition_metal\n",
      "Yb is_rare_earth_metal\n",
      "Yb is_metalloid\n",
      "Yb is_alkali\n",
      "Yb is_alkaline\n",
      "Yb is_halogen\n",
      "Yb is_lanthanoid\n",
      "Yb is_actinoid\n",
      "Yb van_der_waals_radius\n",
      "Yb velocity_of_sound\n",
      "Yb critical_temperature\n",
      "Yb superconduction_temperature\n",
      "Yb average_cationic_radius\n",
      "Yb average_anionic_radius\n",
      "Yb ionic_radii\n",
      "Yb boiling_point\n",
      "Yb symbol\n",
      "Yb vickers_hardness\n",
      "Yb average_ionic_radius\n",
      "Yb melting_point\n",
      "Yb rigidity_modulus\n",
      "Yb Z\n",
      "Yb number\n",
      "Yb density_of_solid\n",
      "Yb coefficient_of_linear_thermal_expansion\n"
     ]
    },
    {
     "data": {
      "text/html": [
       "<div>\n",
       "<style scoped>\n",
       "    .dataframe tbody tr th:only-of-type {\n",
       "        vertical-align: middle;\n",
       "    }\n",
       "\n",
       "    .dataframe tbody tr th {\n",
       "        vertical-align: top;\n",
       "    }\n",
       "\n",
       "    .dataframe thead th {\n",
       "        text-align: right;\n",
       "    }\n",
       "</style>\n",
       "<table border=\"1\" class=\"dataframe\">\n",
       "  <thead>\n",
       "    <tr style=\"text-align: right;\">\n",
       "      <th></th>\n",
       "      <th>atomic_mass</th>\n",
       "      <th>poissons_ratio</th>\n",
       "      <th>atomic_radius</th>\n",
       "      <th>electrical_resistivity</th>\n",
       "      <th>molar_volume</th>\n",
       "      <th>thermal_conductivity</th>\n",
       "      <th>bulk_modulus</th>\n",
       "      <th>youngs_modulus</th>\n",
       "      <th>group</th>\n",
       "      <th>is_noble_gas</th>\n",
       "      <th>...</th>\n",
       "      <th>boiling_point</th>\n",
       "      <th>symbol</th>\n",
       "      <th>vickers_hardness</th>\n",
       "      <th>average_ionic_radius</th>\n",
       "      <th>melting_point</th>\n",
       "      <th>rigidity_modulus</th>\n",
       "      <th>Z</th>\n",
       "      <th>number</th>\n",
       "      <th>density_of_solid</th>\n",
       "      <th>coefficient_of_linear_thermal_expansion</th>\n",
       "    </tr>\n",
       "  </thead>\n",
       "  <tbody>\n",
       "    <tr>\n",
       "      <th>0</th>\n",
       "      <td>107.868200</td>\n",
       "      <td>0.37</td>\n",
       "      <td>1.60</td>\n",
       "      <td>1.630000e-08</td>\n",
       "      <td>10.27</td>\n",
       "      <td>430.0</td>\n",
       "      <td>100.0</td>\n",
       "      <td>83.0</td>\n",
       "      <td>11</td>\n",
       "      <td>False</td>\n",
       "      <td>...</td>\n",
       "      <td>2435.0</td>\n",
       "      <td>Ag</td>\n",
       "      <td>251.0</td>\n",
       "      <td>1.086667</td>\n",
       "      <td>1234.93</td>\n",
       "      <td>30.0</td>\n",
       "      <td>47</td>\n",
       "      <td>47</td>\n",
       "      <td>10490.0</td>\n",
       "      <td>0.000019</td>\n",
       "    </tr>\n",
       "    <tr>\n",
       "      <th>1</th>\n",
       "      <td>26.981539</td>\n",
       "      <td>0.35</td>\n",
       "      <td>1.25</td>\n",
       "      <td>2.700000e-08</td>\n",
       "      <td>10.00</td>\n",
       "      <td>235.0</td>\n",
       "      <td>76.0</td>\n",
       "      <td>70.0</td>\n",
       "      <td>13</td>\n",
       "      <td>False</td>\n",
       "      <td>...</td>\n",
       "      <td>2792.0</td>\n",
       "      <td>Al</td>\n",
       "      <td>167.0</td>\n",
       "      <td>0.675000</td>\n",
       "      <td>933.47</td>\n",
       "      <td>26.0</td>\n",
       "      <td>13</td>\n",
       "      <td>13</td>\n",
       "      <td>2700.0</td>\n",
       "      <td>0.000023</td>\n",
       "    </tr>\n",
       "    <tr>\n",
       "      <th>2</th>\n",
       "      <td>196.966569</td>\n",
       "      <td>0.44</td>\n",
       "      <td>1.35</td>\n",
       "      <td>2.200000e-08</td>\n",
       "      <td>10.21</td>\n",
       "      <td>320.0</td>\n",
       "      <td>220.0</td>\n",
       "      <td>78.0</td>\n",
       "      <td>11</td>\n",
       "      <td>False</td>\n",
       "      <td>...</td>\n",
       "      <td>3129.0</td>\n",
       "      <td>Au</td>\n",
       "      <td>216.0</td>\n",
       "      <td>1.070000</td>\n",
       "      <td>1337.33</td>\n",
       "      <td>27.0</td>\n",
       "      <td>79</td>\n",
       "      <td>79</td>\n",
       "      <td>19300.0</td>\n",
       "      <td>0.000014</td>\n",
       "    </tr>\n",
       "    <tr>\n",
       "      <th>3</th>\n",
       "      <td>63.546000</td>\n",
       "      <td>0.34</td>\n",
       "      <td>1.35</td>\n",
       "      <td>1.720000e-08</td>\n",
       "      <td>7.11</td>\n",
       "      <td>400.0</td>\n",
       "      <td>140.0</td>\n",
       "      <td>130.0</td>\n",
       "      <td>11</td>\n",
       "      <td>False</td>\n",
       "      <td>...</td>\n",
       "      <td>3200.0</td>\n",
       "      <td>Cu</td>\n",
       "      <td>369.0</td>\n",
       "      <td>0.820000</td>\n",
       "      <td>1357.77</td>\n",
       "      <td>48.0</td>\n",
       "      <td>29</td>\n",
       "      <td>29</td>\n",
       "      <td>8920.0</td>\n",
       "      <td>0.000017</td>\n",
       "    </tr>\n",
       "    <tr>\n",
       "      <th>4</th>\n",
       "      <td>192.217000</td>\n",
       "      <td>0.26</td>\n",
       "      <td>1.35</td>\n",
       "      <td>4.700000e-08</td>\n",
       "      <td>8.52</td>\n",
       "      <td>150.0</td>\n",
       "      <td>320.0</td>\n",
       "      <td>528.0</td>\n",
       "      <td>9</td>\n",
       "      <td>False</td>\n",
       "      <td>...</td>\n",
       "      <td>4701.0</td>\n",
       "      <td>Ir</td>\n",
       "      <td>1760.0</td>\n",
       "      <td>0.765000</td>\n",
       "      <td>2739.00</td>\n",
       "      <td>210.0</td>\n",
       "      <td>77</td>\n",
       "      <td>77</td>\n",
       "      <td>22650.0</td>\n",
       "      <td>0.000006</td>\n",
       "    </tr>\n",
       "    <tr>\n",
       "      <th>5</th>\n",
       "      <td>58.693400</td>\n",
       "      <td>0.31</td>\n",
       "      <td>1.35</td>\n",
       "      <td>7.200000e-08</td>\n",
       "      <td>6.59</td>\n",
       "      <td>91.0</td>\n",
       "      <td>180.0</td>\n",
       "      <td>200.0</td>\n",
       "      <td>10</td>\n",
       "      <td>False</td>\n",
       "      <td>...</td>\n",
       "      <td>3186.0</td>\n",
       "      <td>Ni</td>\n",
       "      <td>638.0</td>\n",
       "      <td>0.740000</td>\n",
       "      <td>1728.00</td>\n",
       "      <td>76.0</td>\n",
       "      <td>28</td>\n",
       "      <td>28</td>\n",
       "      <td>8908.0</td>\n",
       "      <td>0.000013</td>\n",
       "    </tr>\n",
       "    <tr>\n",
       "      <th>6</th>\n",
       "      <td>207.200000</td>\n",
       "      <td>0.44</td>\n",
       "      <td>1.80</td>\n",
       "      <td>2.100000e-07</td>\n",
       "      <td>18.26</td>\n",
       "      <td>35.0</td>\n",
       "      <td>46.0</td>\n",
       "      <td>16.0</td>\n",
       "      <td>14</td>\n",
       "      <td>False</td>\n",
       "      <td>...</td>\n",
       "      <td>2022.0</td>\n",
       "      <td>Pb</td>\n",
       "      <td>NaN</td>\n",
       "      <td>1.122500</td>\n",
       "      <td>600.61</td>\n",
       "      <td>5.6</td>\n",
       "      <td>82</td>\n",
       "      <td>82</td>\n",
       "      <td>11340.0</td>\n",
       "      <td>0.000029</td>\n",
       "    </tr>\n",
       "    <tr>\n",
       "      <th>7</th>\n",
       "      <td>106.420000</td>\n",
       "      <td>0.39</td>\n",
       "      <td>1.40</td>\n",
       "      <td>1.080000e-07</td>\n",
       "      <td>8.56</td>\n",
       "      <td>72.0</td>\n",
       "      <td>180.0</td>\n",
       "      <td>121.0</td>\n",
       "      <td>10</td>\n",
       "      <td>False</td>\n",
       "      <td>...</td>\n",
       "      <td>3236.0</td>\n",
       "      <td>Pd</td>\n",
       "      <td>461.0</td>\n",
       "      <td>0.846250</td>\n",
       "      <td>1828.05</td>\n",
       "      <td>44.0</td>\n",
       "      <td>46</td>\n",
       "      <td>46</td>\n",
       "      <td>12023.0</td>\n",
       "      <td>0.000012</td>\n",
       "    </tr>\n",
       "    <tr>\n",
       "      <th>8</th>\n",
       "      <td>195.084000</td>\n",
       "      <td>0.38</td>\n",
       "      <td>1.35</td>\n",
       "      <td>1.060000e-07</td>\n",
       "      <td>9.09</td>\n",
       "      <td>72.0</td>\n",
       "      <td>230.0</td>\n",
       "      <td>168.0</td>\n",
       "      <td>10</td>\n",
       "      <td>False</td>\n",
       "      <td>...</td>\n",
       "      <td>4098.0</td>\n",
       "      <td>Pt</td>\n",
       "      <td>549.0</td>\n",
       "      <td>0.805000</td>\n",
       "      <td>2041.40</td>\n",
       "      <td>61.0</td>\n",
       "      <td>78</td>\n",
       "      <td>78</td>\n",
       "      <td>21090.0</td>\n",
       "      <td>0.000009</td>\n",
       "    </tr>\n",
       "    <tr>\n",
       "      <th>9</th>\n",
       "      <td>102.905500</td>\n",
       "      <td>0.26</td>\n",
       "      <td>1.35</td>\n",
       "      <td>4.300000e-08</td>\n",
       "      <td>8.28</td>\n",
       "      <td>150.0</td>\n",
       "      <td>380.0</td>\n",
       "      <td>275.0</td>\n",
       "      <td>9</td>\n",
       "      <td>False</td>\n",
       "      <td>...</td>\n",
       "      <td>3968.0</td>\n",
       "      <td>Rh</td>\n",
       "      <td>1246.0</td>\n",
       "      <td>0.745000</td>\n",
       "      <td>2237.00</td>\n",
       "      <td>150.0</td>\n",
       "      <td>45</td>\n",
       "      <td>45</td>\n",
       "      <td>12450.0</td>\n",
       "      <td>0.000008</td>\n",
       "    </tr>\n",
       "    <tr>\n",
       "      <th>10</th>\n",
       "      <td>87.620000</td>\n",
       "      <td>0.28</td>\n",
       "      <td>2.00</td>\n",
       "      <td>1.350000e-07</td>\n",
       "      <td>33.94</td>\n",
       "      <td>35.0</td>\n",
       "      <td>NaN</td>\n",
       "      <td>NaN</td>\n",
       "      <td>2</td>\n",
       "      <td>False</td>\n",
       "      <td>...</td>\n",
       "      <td>1655.0</td>\n",
       "      <td>Sr</td>\n",
       "      <td>NaN</td>\n",
       "      <td>1.320000</td>\n",
       "      <td>1050.00</td>\n",
       "      <td>6.1</td>\n",
       "      <td>38</td>\n",
       "      <td>38</td>\n",
       "      <td>2630.0</td>\n",
       "      <td>0.000023</td>\n",
       "    </tr>\n",
       "    <tr>\n",
       "      <th>11</th>\n",
       "      <td>232.038060</td>\n",
       "      <td>0.27</td>\n",
       "      <td>1.80</td>\n",
       "      <td>1.500000e-07</td>\n",
       "      <td>19.80</td>\n",
       "      <td>54.0</td>\n",
       "      <td>54.0</td>\n",
       "      <td>79.0</td>\n",
       "      <td>4</td>\n",
       "      <td>False</td>\n",
       "      <td>...</td>\n",
       "      <td>5093.0</td>\n",
       "      <td>Th</td>\n",
       "      <td>350.0</td>\n",
       "      <td>1.080000</td>\n",
       "      <td>2115.00</td>\n",
       "      <td>31.0</td>\n",
       "      <td>90</td>\n",
       "      <td>90</td>\n",
       "      <td>11724.0</td>\n",
       "      <td>0.000011</td>\n",
       "    </tr>\n",
       "    <tr>\n",
       "      <th>12</th>\n",
       "      <td>173.040000</td>\n",
       "      <td>0.21</td>\n",
       "      <td>1.75</td>\n",
       "      <td>2.500000e-07</td>\n",
       "      <td>24.84</td>\n",
       "      <td>39.0</td>\n",
       "      <td>31.0</td>\n",
       "      <td>24.0</td>\n",
       "      <td>16</td>\n",
       "      <td>False</td>\n",
       "      <td>...</td>\n",
       "      <td>1469.0</td>\n",
       "      <td>Yb</td>\n",
       "      <td>206.0</td>\n",
       "      <td>1.084000</td>\n",
       "      <td>1097.00</td>\n",
       "      <td>9.9</td>\n",
       "      <td>70</td>\n",
       "      <td>70</td>\n",
       "      <td>6570.0</td>\n",
       "      <td>0.000026</td>\n",
       "    </tr>\n",
       "  </tbody>\n",
       "</table>\n",
       "<p>13 rows × 36 columns</p>\n",
       "</div>"
      ],
      "text/plain": [
       "    atomic_mass  poissons_ratio  atomic_radius  electrical_resistivity  \\\n",
       "0    107.868200            0.37           1.60            1.630000e-08   \n",
       "1     26.981539            0.35           1.25            2.700000e-08   \n",
       "2    196.966569            0.44           1.35            2.200000e-08   \n",
       "3     63.546000            0.34           1.35            1.720000e-08   \n",
       "4    192.217000            0.26           1.35            4.700000e-08   \n",
       "5     58.693400            0.31           1.35            7.200000e-08   \n",
       "6    207.200000            0.44           1.80            2.100000e-07   \n",
       "7    106.420000            0.39           1.40            1.080000e-07   \n",
       "8    195.084000            0.38           1.35            1.060000e-07   \n",
       "9    102.905500            0.26           1.35            4.300000e-08   \n",
       "10    87.620000            0.28           2.00            1.350000e-07   \n",
       "11   232.038060            0.27           1.80            1.500000e-07   \n",
       "12   173.040000            0.21           1.75            2.500000e-07   \n",
       "\n",
       "    molar_volume  thermal_conductivity  bulk_modulus  youngs_modulus  group  \\\n",
       "0          10.27                 430.0         100.0            83.0     11   \n",
       "1          10.00                 235.0          76.0            70.0     13   \n",
       "2          10.21                 320.0         220.0            78.0     11   \n",
       "3           7.11                 400.0         140.0           130.0     11   \n",
       "4           8.52                 150.0         320.0           528.0      9   \n",
       "5           6.59                  91.0         180.0           200.0     10   \n",
       "6          18.26                  35.0          46.0            16.0     14   \n",
       "7           8.56                  72.0         180.0           121.0     10   \n",
       "8           9.09                  72.0         230.0           168.0     10   \n",
       "9           8.28                 150.0         380.0           275.0      9   \n",
       "10         33.94                  35.0           NaN             NaN      2   \n",
       "11         19.80                  54.0          54.0            79.0      4   \n",
       "12         24.84                  39.0          31.0            24.0     16   \n",
       "\n",
       "    is_noble_gas  ...  boiling_point  symbol  vickers_hardness  \\\n",
       "0          False  ...         2435.0      Ag             251.0   \n",
       "1          False  ...         2792.0      Al             167.0   \n",
       "2          False  ...         3129.0      Au             216.0   \n",
       "3          False  ...         3200.0      Cu             369.0   \n",
       "4          False  ...         4701.0      Ir            1760.0   \n",
       "5          False  ...         3186.0      Ni             638.0   \n",
       "6          False  ...         2022.0      Pb               NaN   \n",
       "7          False  ...         3236.0      Pd             461.0   \n",
       "8          False  ...         4098.0      Pt             549.0   \n",
       "9          False  ...         3968.0      Rh            1246.0   \n",
       "10         False  ...         1655.0      Sr               NaN   \n",
       "11         False  ...         5093.0      Th             350.0   \n",
       "12         False  ...         1469.0      Yb             206.0   \n",
       "\n",
       "    average_ionic_radius  melting_point  rigidity_modulus   Z  number  \\\n",
       "0               1.086667        1234.93              30.0  47      47   \n",
       "1               0.675000         933.47              26.0  13      13   \n",
       "2               1.070000        1337.33              27.0  79      79   \n",
       "3               0.820000        1357.77              48.0  29      29   \n",
       "4               0.765000        2739.00             210.0  77      77   \n",
       "5               0.740000        1728.00              76.0  28      28   \n",
       "6               1.122500         600.61               5.6  82      82   \n",
       "7               0.846250        1828.05              44.0  46      46   \n",
       "8               0.805000        2041.40              61.0  78      78   \n",
       "9               0.745000        2237.00             150.0  45      45   \n",
       "10              1.320000        1050.00               6.1  38      38   \n",
       "11              1.080000        2115.00              31.0  90      90   \n",
       "12              1.084000        1097.00               9.9  70      70   \n",
       "\n",
       "    density_of_solid  coefficient_of_linear_thermal_expansion  \n",
       "0            10490.0                                 0.000019  \n",
       "1             2700.0                                 0.000023  \n",
       "2            19300.0                                 0.000014  \n",
       "3             8920.0                                 0.000017  \n",
       "4            22650.0                                 0.000006  \n",
       "5             8908.0                                 0.000013  \n",
       "6            11340.0                                 0.000029  \n",
       "7            12023.0                                 0.000012  \n",
       "8            21090.0                                 0.000009  \n",
       "9            12450.0                                 0.000008  \n",
       "10            2630.0                                 0.000023  \n",
       "11           11724.0                                 0.000011  \n",
       "12            6570.0                                 0.000026  \n",
       "\n",
       "[13 rows x 36 columns]"
      ]
     },
     "metadata": {},
     "output_type": "display_data"
    }
   ],
   "source": [
    "all_values = [] # Values for Attributes\n",
    "\n",
    "for item in fcc_elements:\n",
    "    element_values = []\n",
    "\n",
    "    element_object = pymat.Element(item)    \n",
    "    for i in querable_pymatgen:\n",
    "        result = getattr(element_object,i)\n",
    "#         if result is None:\n",
    "#             result = \"None\"\n",
    "        element_values.append(result)\n",
    "        try:\n",
    "            print(element_object, i)\n",
    "        except:\n",
    "            pass\n",
    "    all_values.append(element_values) # All lists are appended to another list, creating a list of lists\n",
    "    \n",
    "# Pandas Dataframe\n",
    "df = pd.DataFrame(all_values, columns=querable_pymatgen)\n",
    "display(df)"
   ]
  },
  {
   "cell_type": "code",
   "execution_count": 36,
   "metadata": {},
   "outputs": [
    {
     "data": {
      "text/plain": [
       "(13, 36)"
      ]
     },
     "execution_count": 36,
     "metadata": {},
     "output_type": "execute_result"
    }
   ],
   "source": [
    "df.shape"
   ]
  },
  {
   "cell_type": "code",
   "execution_count": 37,
   "metadata": {},
   "outputs": [],
   "source": [
    "df.set_index('symbol', inplace = True)"
   ]
  },
  {
   "cell_type": "code",
   "execution_count": 38,
   "metadata": {},
   "outputs": [],
   "source": [
    "df.index.name = \"\""
   ]
  },
  {
   "cell_type": "code",
   "execution_count": 39,
   "metadata": {},
   "outputs": [
    {
     "data": {
      "text/html": [
       "<div>\n",
       "<style scoped>\n",
       "    .dataframe tbody tr th:only-of-type {\n",
       "        vertical-align: middle;\n",
       "    }\n",
       "\n",
       "    .dataframe tbody tr th {\n",
       "        vertical-align: top;\n",
       "    }\n",
       "\n",
       "    .dataframe thead th {\n",
       "        text-align: right;\n",
       "    }\n",
       "</style>\n",
       "<table border=\"1\" class=\"dataframe\">\n",
       "  <thead>\n",
       "    <tr style=\"text-align: right;\">\n",
       "      <th></th>\n",
       "      <th>atomic_mass</th>\n",
       "      <th>poissons_ratio</th>\n",
       "      <th>atomic_radius</th>\n",
       "      <th>electrical_resistivity</th>\n",
       "      <th>molar_volume</th>\n",
       "      <th>thermal_conductivity</th>\n",
       "      <th>bulk_modulus</th>\n",
       "      <th>youngs_modulus</th>\n",
       "      <th>group</th>\n",
       "      <th>is_noble_gas</th>\n",
       "      <th>...</th>\n",
       "      <th>ionic_radii</th>\n",
       "      <th>boiling_point</th>\n",
       "      <th>vickers_hardness</th>\n",
       "      <th>average_ionic_radius</th>\n",
       "      <th>melting_point</th>\n",
       "      <th>rigidity_modulus</th>\n",
       "      <th>Z</th>\n",
       "      <th>number</th>\n",
       "      <th>density_of_solid</th>\n",
       "      <th>coefficient_of_linear_thermal_expansion</th>\n",
       "    </tr>\n",
       "    <tr>\n",
       "      <th></th>\n",
       "      <th></th>\n",
       "      <th></th>\n",
       "      <th></th>\n",
       "      <th></th>\n",
       "      <th></th>\n",
       "      <th></th>\n",
       "      <th></th>\n",
       "      <th></th>\n",
       "      <th></th>\n",
       "      <th></th>\n",
       "      <th></th>\n",
       "      <th></th>\n",
       "      <th></th>\n",
       "      <th></th>\n",
       "      <th></th>\n",
       "      <th></th>\n",
       "      <th></th>\n",
       "      <th></th>\n",
       "      <th></th>\n",
       "      <th></th>\n",
       "      <th></th>\n",
       "    </tr>\n",
       "  </thead>\n",
       "  <tbody>\n",
       "    <tr>\n",
       "      <th>Ag</th>\n",
       "      <td>107.868200</td>\n",
       "      <td>0.37</td>\n",
       "      <td>1.60</td>\n",
       "      <td>1.630000e-08</td>\n",
       "      <td>10.27</td>\n",
       "      <td>430.0</td>\n",
       "      <td>100.0</td>\n",
       "      <td>83.0</td>\n",
       "      <td>11</td>\n",
       "      <td>False</td>\n",
       "      <td>...</td>\n",
       "      <td>{1: 1.29 ang, 2: 1.08 ang, 3: 0.89 ang}</td>\n",
       "      <td>2435.0</td>\n",
       "      <td>251.0</td>\n",
       "      <td>1.086667</td>\n",
       "      <td>1234.93</td>\n",
       "      <td>30.0</td>\n",
       "      <td>47</td>\n",
       "      <td>47</td>\n",
       "      <td>10490.0</td>\n",
       "      <td>0.000019</td>\n",
       "    </tr>\n",
       "    <tr>\n",
       "      <th>Al</th>\n",
       "      <td>26.981539</td>\n",
       "      <td>0.35</td>\n",
       "      <td>1.25</td>\n",
       "      <td>2.700000e-08</td>\n",
       "      <td>10.00</td>\n",
       "      <td>235.0</td>\n",
       "      <td>76.0</td>\n",
       "      <td>70.0</td>\n",
       "      <td>13</td>\n",
       "      <td>False</td>\n",
       "      <td>...</td>\n",
       "      <td>{3: 0.675 ang}</td>\n",
       "      <td>2792.0</td>\n",
       "      <td>167.0</td>\n",
       "      <td>0.675000</td>\n",
       "      <td>933.47</td>\n",
       "      <td>26.0</td>\n",
       "      <td>13</td>\n",
       "      <td>13</td>\n",
       "      <td>2700.0</td>\n",
       "      <td>0.000023</td>\n",
       "    </tr>\n",
       "    <tr>\n",
       "      <th>Au</th>\n",
       "      <td>196.966569</td>\n",
       "      <td>0.44</td>\n",
       "      <td>1.35</td>\n",
       "      <td>2.200000e-08</td>\n",
       "      <td>10.21</td>\n",
       "      <td>320.0</td>\n",
       "      <td>220.0</td>\n",
       "      <td>78.0</td>\n",
       "      <td>11</td>\n",
       "      <td>False</td>\n",
       "      <td>...</td>\n",
       "      <td>{1: 1.51 ang, 3: 0.99 ang, 5: 0.71 ang}</td>\n",
       "      <td>3129.0</td>\n",
       "      <td>216.0</td>\n",
       "      <td>1.070000</td>\n",
       "      <td>1337.33</td>\n",
       "      <td>27.0</td>\n",
       "      <td>79</td>\n",
       "      <td>79</td>\n",
       "      <td>19300.0</td>\n",
       "      <td>0.000014</td>\n",
       "    </tr>\n",
       "    <tr>\n",
       "      <th>Cu</th>\n",
       "      <td>63.546000</td>\n",
       "      <td>0.34</td>\n",
       "      <td>1.35</td>\n",
       "      <td>1.720000e-08</td>\n",
       "      <td>7.11</td>\n",
       "      <td>400.0</td>\n",
       "      <td>140.0</td>\n",
       "      <td>130.0</td>\n",
       "      <td>11</td>\n",
       "      <td>False</td>\n",
       "      <td>...</td>\n",
       "      <td>{1: 0.91 ang, 2: 0.87 ang, 3: 0.68 ang}</td>\n",
       "      <td>3200.0</td>\n",
       "      <td>369.0</td>\n",
       "      <td>0.820000</td>\n",
       "      <td>1357.77</td>\n",
       "      <td>48.0</td>\n",
       "      <td>29</td>\n",
       "      <td>29</td>\n",
       "      <td>8920.0</td>\n",
       "      <td>0.000017</td>\n",
       "    </tr>\n",
       "    <tr>\n",
       "      <th>Ir</th>\n",
       "      <td>192.217000</td>\n",
       "      <td>0.26</td>\n",
       "      <td>1.35</td>\n",
       "      <td>4.700000e-08</td>\n",
       "      <td>8.52</td>\n",
       "      <td>150.0</td>\n",
       "      <td>320.0</td>\n",
       "      <td>528.0</td>\n",
       "      <td>9</td>\n",
       "      <td>False</td>\n",
       "      <td>...</td>\n",
       "      <td>{3: 0.82 ang, 4: 0.765 ang, 5: 0.71 ang}</td>\n",
       "      <td>4701.0</td>\n",
       "      <td>1760.0</td>\n",
       "      <td>0.765000</td>\n",
       "      <td>2739.00</td>\n",
       "      <td>210.0</td>\n",
       "      <td>77</td>\n",
       "      <td>77</td>\n",
       "      <td>22650.0</td>\n",
       "      <td>0.000006</td>\n",
       "    </tr>\n",
       "  </tbody>\n",
       "</table>\n",
       "<p>5 rows × 35 columns</p>\n",
       "</div>"
      ],
      "text/plain": [
       "    atomic_mass  poissons_ratio  atomic_radius  electrical_resistivity  \\\n",
       "                                                                         \n",
       "Ag   107.868200            0.37           1.60            1.630000e-08   \n",
       "Al    26.981539            0.35           1.25            2.700000e-08   \n",
       "Au   196.966569            0.44           1.35            2.200000e-08   \n",
       "Cu    63.546000            0.34           1.35            1.720000e-08   \n",
       "Ir   192.217000            0.26           1.35            4.700000e-08   \n",
       "\n",
       "    molar_volume  thermal_conductivity  bulk_modulus  youngs_modulus  group  \\\n",
       "                                                                              \n",
       "Ag         10.27                 430.0         100.0            83.0     11   \n",
       "Al         10.00                 235.0          76.0            70.0     13   \n",
       "Au         10.21                 320.0         220.0            78.0     11   \n",
       "Cu          7.11                 400.0         140.0           130.0     11   \n",
       "Ir          8.52                 150.0         320.0           528.0      9   \n",
       "\n",
       "    is_noble_gas  ...                               ionic_radii  \\\n",
       "                  ...                                             \n",
       "Ag         False  ...   {1: 1.29 ang, 2: 1.08 ang, 3: 0.89 ang}   \n",
       "Al         False  ...                            {3: 0.675 ang}   \n",
       "Au         False  ...   {1: 1.51 ang, 3: 0.99 ang, 5: 0.71 ang}   \n",
       "Cu         False  ...   {1: 0.91 ang, 2: 0.87 ang, 3: 0.68 ang}   \n",
       "Ir         False  ...  {3: 0.82 ang, 4: 0.765 ang, 5: 0.71 ang}   \n",
       "\n",
       "    boiling_point  vickers_hardness  average_ionic_radius  melting_point  \\\n",
       "                                                                           \n",
       "Ag         2435.0             251.0              1.086667        1234.93   \n",
       "Al         2792.0             167.0              0.675000         933.47   \n",
       "Au         3129.0             216.0              1.070000        1337.33   \n",
       "Cu         3200.0             369.0              0.820000        1357.77   \n",
       "Ir         4701.0            1760.0              0.765000        2739.00   \n",
       "\n",
       "    rigidity_modulus   Z  number  density_of_solid  \\\n",
       "                                                     \n",
       "Ag              30.0  47      47           10490.0   \n",
       "Al              26.0  13      13            2700.0   \n",
       "Au              27.0  79      79           19300.0   \n",
       "Cu              48.0  29      29            8920.0   \n",
       "Ir             210.0  77      77           22650.0   \n",
       "\n",
       "    coefficient_of_linear_thermal_expansion  \n",
       "                                             \n",
       "Ag                                 0.000019  \n",
       "Al                                 0.000023  \n",
       "Au                                 0.000014  \n",
       "Cu                                 0.000017  \n",
       "Ir                                 0.000006  \n",
       "\n",
       "[5 rows x 35 columns]"
      ]
     },
     "execution_count": 39,
     "metadata": {},
     "output_type": "execute_result"
    }
   ],
   "source": [
    "df.head()"
   ]
  },
  {
   "cell_type": "code",
   "execution_count": 16,
   "metadata": {},
   "outputs": [
    {
     "data": {
      "text/plain": [
       "atomic_mass                                float64\n",
       "poissons_ratio                             float64\n",
       "atomic_radius                              float64\n",
       "electrical_resistivity                     float64\n",
       "molar_volume                               float64\n",
       "thermal_conductivity                       float64\n",
       "bulk_modulus                               float64\n",
       "youngs_modulus                             float64\n",
       "group                                        int64\n",
       "is_noble_gas                                  bool\n",
       "is_transition_metal                           bool\n",
       "is_post_transition_metal                      bool\n",
       "is_rare_earth_metal                           bool\n",
       "is_metalloid                                  bool\n",
       "is_alkali                                     bool\n",
       "is_alkaline                                   bool\n",
       "is_halogen                                    bool\n",
       "is_lanthanoid                                 bool\n",
       "is_actinoid                                   bool\n",
       "van_der_waals_radius                       float64\n",
       "velocity_of_sound                          float64\n",
       "critical_temperature                       float64\n",
       "superconduction_temperature                float64\n",
       "average_cationic_radius                    float64\n",
       "average_anionic_radius                     float64\n",
       "ionic_radii                                 object\n",
       "boiling_point                              float64\n",
       "vickers_hardness                           float64\n",
       "average_ionic_radius                       float64\n",
       "melting_point                               object\n",
       "rigidity_modulus                           float64\n",
       "Z                                            int64\n",
       "number                                       int64\n",
       "density_of_solid                           float64\n",
       "coefficient_of_linear_thermal_expansion    float64\n",
       "dtype: object"
      ]
     },
     "execution_count": 16,
     "metadata": {},
     "output_type": "execute_result"
    }
   ],
   "source": [
    "df.dtypes"
   ]
  },
  {
   "cell_type": "code",
   "execution_count": 40,
   "metadata": {},
   "outputs": [],
   "source": [
    "df.to_csv (r'C:\\Users\\Kayla Yano\\Class\\Trial\\fcc_dataframe.csv', index = True, header=True)"
   ]
  },
  {
   "cell_type": "markdown",
   "metadata": {},
   "source": [
    "Pandas allows for easier manipulation of the data than the structures we discussed before, both dictionaries and lists of lists.\n",
    "We can make modifications to this dataframe in each of the following cells, to showcase the flexibility the Pandas library offers.\n",
    "\n",
    "To make this dataframe look better for example, we can start by using the list of elements instead of numbered rows."
   ]
  },
  {
   "cell_type": "code",
   "execution_count": 41,
   "metadata": {},
   "outputs": [
    {
     "data": {
      "text/html": [
       "<div>\n",
       "<style scoped>\n",
       "    .dataframe tbody tr th:only-of-type {\n",
       "        vertical-align: middle;\n",
       "    }\n",
       "\n",
       "    .dataframe tbody tr th {\n",
       "        vertical-align: top;\n",
       "    }\n",
       "\n",
       "    .dataframe thead th {\n",
       "        text-align: right;\n",
       "    }\n",
       "</style>\n",
       "<table border=\"1\" class=\"dataframe\">\n",
       "  <thead>\n",
       "    <tr style=\"text-align: right;\">\n",
       "      <th></th>\n",
       "      <th>atomic_mass</th>\n",
       "      <th>poissons_ratio</th>\n",
       "      <th>atomic_radius</th>\n",
       "      <th>electrical_resistivity</th>\n",
       "      <th>molar_volume</th>\n",
       "      <th>thermal_conductivity</th>\n",
       "      <th>bulk_modulus</th>\n",
       "      <th>youngs_modulus</th>\n",
       "      <th>group</th>\n",
       "      <th>is_noble_gas</th>\n",
       "      <th>...</th>\n",
       "      <th>ionic_radii</th>\n",
       "      <th>boiling_point</th>\n",
       "      <th>vickers_hardness</th>\n",
       "      <th>average_ionic_radius</th>\n",
       "      <th>melting_point</th>\n",
       "      <th>rigidity_modulus</th>\n",
       "      <th>Z</th>\n",
       "      <th>number</th>\n",
       "      <th>density_of_solid</th>\n",
       "      <th>coefficient_of_linear_thermal_expansion</th>\n",
       "    </tr>\n",
       "  </thead>\n",
       "  <tbody>\n",
       "    <tr>\n",
       "      <th>Ag</th>\n",
       "      <td>107.868200</td>\n",
       "      <td>0.37</td>\n",
       "      <td>1.60</td>\n",
       "      <td>1.630000e-08</td>\n",
       "      <td>10.27</td>\n",
       "      <td>430.0</td>\n",
       "      <td>100.0</td>\n",
       "      <td>83.0</td>\n",
       "      <td>11</td>\n",
       "      <td>False</td>\n",
       "      <td>...</td>\n",
       "      <td>{1: 1.29 ang, 2: 1.08 ang, 3: 0.89 ang}</td>\n",
       "      <td>2435.0</td>\n",
       "      <td>251.0</td>\n",
       "      <td>1.086667</td>\n",
       "      <td>1234.93</td>\n",
       "      <td>30.0</td>\n",
       "      <td>47</td>\n",
       "      <td>47</td>\n",
       "      <td>10490.0</td>\n",
       "      <td>0.000019</td>\n",
       "    </tr>\n",
       "    <tr>\n",
       "      <th>Al</th>\n",
       "      <td>26.981539</td>\n",
       "      <td>0.35</td>\n",
       "      <td>1.25</td>\n",
       "      <td>2.700000e-08</td>\n",
       "      <td>10.00</td>\n",
       "      <td>235.0</td>\n",
       "      <td>76.0</td>\n",
       "      <td>70.0</td>\n",
       "      <td>13</td>\n",
       "      <td>False</td>\n",
       "      <td>...</td>\n",
       "      <td>{3: 0.675 ang}</td>\n",
       "      <td>2792.0</td>\n",
       "      <td>167.0</td>\n",
       "      <td>0.675000</td>\n",
       "      <td>933.47</td>\n",
       "      <td>26.0</td>\n",
       "      <td>13</td>\n",
       "      <td>13</td>\n",
       "      <td>2700.0</td>\n",
       "      <td>0.000023</td>\n",
       "    </tr>\n",
       "    <tr>\n",
       "      <th>Au</th>\n",
       "      <td>196.966569</td>\n",
       "      <td>0.44</td>\n",
       "      <td>1.35</td>\n",
       "      <td>2.200000e-08</td>\n",
       "      <td>10.21</td>\n",
       "      <td>320.0</td>\n",
       "      <td>220.0</td>\n",
       "      <td>78.0</td>\n",
       "      <td>11</td>\n",
       "      <td>False</td>\n",
       "      <td>...</td>\n",
       "      <td>{1: 1.51 ang, 3: 0.99 ang, 5: 0.71 ang}</td>\n",
       "      <td>3129.0</td>\n",
       "      <td>216.0</td>\n",
       "      <td>1.070000</td>\n",
       "      <td>1337.33</td>\n",
       "      <td>27.0</td>\n",
       "      <td>79</td>\n",
       "      <td>79</td>\n",
       "      <td>19300.0</td>\n",
       "      <td>0.000014</td>\n",
       "    </tr>\n",
       "    <tr>\n",
       "      <th>Cu</th>\n",
       "      <td>63.546000</td>\n",
       "      <td>0.34</td>\n",
       "      <td>1.35</td>\n",
       "      <td>1.720000e-08</td>\n",
       "      <td>7.11</td>\n",
       "      <td>400.0</td>\n",
       "      <td>140.0</td>\n",
       "      <td>130.0</td>\n",
       "      <td>11</td>\n",
       "      <td>False</td>\n",
       "      <td>...</td>\n",
       "      <td>{1: 0.91 ang, 2: 0.87 ang, 3: 0.68 ang}</td>\n",
       "      <td>3200.0</td>\n",
       "      <td>369.0</td>\n",
       "      <td>0.820000</td>\n",
       "      <td>1357.77</td>\n",
       "      <td>48.0</td>\n",
       "      <td>29</td>\n",
       "      <td>29</td>\n",
       "      <td>8920.0</td>\n",
       "      <td>0.000017</td>\n",
       "    </tr>\n",
       "    <tr>\n",
       "      <th>Ir</th>\n",
       "      <td>192.217000</td>\n",
       "      <td>0.26</td>\n",
       "      <td>1.35</td>\n",
       "      <td>4.700000e-08</td>\n",
       "      <td>8.52</td>\n",
       "      <td>150.0</td>\n",
       "      <td>320.0</td>\n",
       "      <td>528.0</td>\n",
       "      <td>9</td>\n",
       "      <td>False</td>\n",
       "      <td>...</td>\n",
       "      <td>{3: 0.82 ang, 4: 0.765 ang, 5: 0.71 ang}</td>\n",
       "      <td>4701.0</td>\n",
       "      <td>1760.0</td>\n",
       "      <td>0.765000</td>\n",
       "      <td>2739.00</td>\n",
       "      <td>210.0</td>\n",
       "      <td>77</td>\n",
       "      <td>77</td>\n",
       "      <td>22650.0</td>\n",
       "      <td>0.000006</td>\n",
       "    </tr>\n",
       "    <tr>\n",
       "      <th>Ni</th>\n",
       "      <td>58.693400</td>\n",
       "      <td>0.31</td>\n",
       "      <td>1.35</td>\n",
       "      <td>7.200000e-08</td>\n",
       "      <td>6.59</td>\n",
       "      <td>91.0</td>\n",
       "      <td>180.0</td>\n",
       "      <td>200.0</td>\n",
       "      <td>10</td>\n",
       "      <td>False</td>\n",
       "      <td>...</td>\n",
       "      <td>{3: 0.74 ang}</td>\n",
       "      <td>3186.0</td>\n",
       "      <td>638.0</td>\n",
       "      <td>0.740000</td>\n",
       "      <td>1728.00</td>\n",
       "      <td>76.0</td>\n",
       "      <td>28</td>\n",
       "      <td>28</td>\n",
       "      <td>8908.0</td>\n",
       "      <td>0.000013</td>\n",
       "    </tr>\n",
       "    <tr>\n",
       "      <th>Pb</th>\n",
       "      <td>207.200000</td>\n",
       "      <td>0.44</td>\n",
       "      <td>1.80</td>\n",
       "      <td>2.100000e-07</td>\n",
       "      <td>18.26</td>\n",
       "      <td>35.0</td>\n",
       "      <td>46.0</td>\n",
       "      <td>16.0</td>\n",
       "      <td>14</td>\n",
       "      <td>False</td>\n",
       "      <td>...</td>\n",
       "      <td>{2: 1.33 ang, 4: 0.915 ang}</td>\n",
       "      <td>2022.0</td>\n",
       "      <td>NaN</td>\n",
       "      <td>1.122500</td>\n",
       "      <td>600.61</td>\n",
       "      <td>5.6</td>\n",
       "      <td>82</td>\n",
       "      <td>82</td>\n",
       "      <td>11340.0</td>\n",
       "      <td>0.000029</td>\n",
       "    </tr>\n",
       "    <tr>\n",
       "      <th>Pd</th>\n",
       "      <td>106.420000</td>\n",
       "      <td>0.39</td>\n",
       "      <td>1.40</td>\n",
       "      <td>1.080000e-07</td>\n",
       "      <td>8.56</td>\n",
       "      <td>72.0</td>\n",
       "      <td>180.0</td>\n",
       "      <td>121.0</td>\n",
       "      <td>10</td>\n",
       "      <td>False</td>\n",
       "      <td>...</td>\n",
       "      <td>{1: 0.73 ang, 2: 1.0 ang, 3: 0.9 ang, 4: 0.755...</td>\n",
       "      <td>3236.0</td>\n",
       "      <td>461.0</td>\n",
       "      <td>0.846250</td>\n",
       "      <td>1828.05</td>\n",
       "      <td>44.0</td>\n",
       "      <td>46</td>\n",
       "      <td>46</td>\n",
       "      <td>12023.0</td>\n",
       "      <td>0.000012</td>\n",
       "    </tr>\n",
       "    <tr>\n",
       "      <th>Pt</th>\n",
       "      <td>195.084000</td>\n",
       "      <td>0.38</td>\n",
       "      <td>1.35</td>\n",
       "      <td>1.060000e-07</td>\n",
       "      <td>9.09</td>\n",
       "      <td>72.0</td>\n",
       "      <td>230.0</td>\n",
       "      <td>168.0</td>\n",
       "      <td>10</td>\n",
       "      <td>False</td>\n",
       "      <td>...</td>\n",
       "      <td>{2: 0.94 ang, 4: 0.765 ang, 5: 0.71 ang}</td>\n",
       "      <td>4098.0</td>\n",
       "      <td>549.0</td>\n",
       "      <td>0.805000</td>\n",
       "      <td>2041.40</td>\n",
       "      <td>61.0</td>\n",
       "      <td>78</td>\n",
       "      <td>78</td>\n",
       "      <td>21090.0</td>\n",
       "      <td>0.000009</td>\n",
       "    </tr>\n",
       "    <tr>\n",
       "      <th>Rh</th>\n",
       "      <td>102.905500</td>\n",
       "      <td>0.26</td>\n",
       "      <td>1.35</td>\n",
       "      <td>4.300000e-08</td>\n",
       "      <td>8.28</td>\n",
       "      <td>150.0</td>\n",
       "      <td>380.0</td>\n",
       "      <td>275.0</td>\n",
       "      <td>9</td>\n",
       "      <td>False</td>\n",
       "      <td>...</td>\n",
       "      <td>{3: 0.805 ang, 4: 0.74 ang, 5: 0.69 ang}</td>\n",
       "      <td>3968.0</td>\n",
       "      <td>1246.0</td>\n",
       "      <td>0.745000</td>\n",
       "      <td>2237.00</td>\n",
       "      <td>150.0</td>\n",
       "      <td>45</td>\n",
       "      <td>45</td>\n",
       "      <td>12450.0</td>\n",
       "      <td>0.000008</td>\n",
       "    </tr>\n",
       "    <tr>\n",
       "      <th>Sr</th>\n",
       "      <td>87.620000</td>\n",
       "      <td>0.28</td>\n",
       "      <td>2.00</td>\n",
       "      <td>1.350000e-07</td>\n",
       "      <td>33.94</td>\n",
       "      <td>35.0</td>\n",
       "      <td>NaN</td>\n",
       "      <td>NaN</td>\n",
       "      <td>2</td>\n",
       "      <td>False</td>\n",
       "      <td>...</td>\n",
       "      <td>{2: 1.32 ang}</td>\n",
       "      <td>1655.0</td>\n",
       "      <td>NaN</td>\n",
       "      <td>1.320000</td>\n",
       "      <td>1050.00</td>\n",
       "      <td>6.1</td>\n",
       "      <td>38</td>\n",
       "      <td>38</td>\n",
       "      <td>2630.0</td>\n",
       "      <td>0.000023</td>\n",
       "    </tr>\n",
       "    <tr>\n",
       "      <th>Th</th>\n",
       "      <td>232.038060</td>\n",
       "      <td>0.27</td>\n",
       "      <td>1.80</td>\n",
       "      <td>1.500000e-07</td>\n",
       "      <td>19.80</td>\n",
       "      <td>54.0</td>\n",
       "      <td>54.0</td>\n",
       "      <td>79.0</td>\n",
       "      <td>4</td>\n",
       "      <td>False</td>\n",
       "      <td>...</td>\n",
       "      <td>{4: 1.08 ang}</td>\n",
       "      <td>5093.0</td>\n",
       "      <td>350.0</td>\n",
       "      <td>1.080000</td>\n",
       "      <td>2115.00</td>\n",
       "      <td>31.0</td>\n",
       "      <td>90</td>\n",
       "      <td>90</td>\n",
       "      <td>11724.0</td>\n",
       "      <td>0.000011</td>\n",
       "    </tr>\n",
       "    <tr>\n",
       "      <th>Yb</th>\n",
       "      <td>173.040000</td>\n",
       "      <td>0.21</td>\n",
       "      <td>1.75</td>\n",
       "      <td>2.500000e-07</td>\n",
       "      <td>24.84</td>\n",
       "      <td>39.0</td>\n",
       "      <td>31.0</td>\n",
       "      <td>24.0</td>\n",
       "      <td>16</td>\n",
       "      <td>False</td>\n",
       "      <td>...</td>\n",
       "      <td>{2: 1.16 ang, 3: 1.008 ang}</td>\n",
       "      <td>1469.0</td>\n",
       "      <td>206.0</td>\n",
       "      <td>1.084000</td>\n",
       "      <td>1097.00</td>\n",
       "      <td>9.9</td>\n",
       "      <td>70</td>\n",
       "      <td>70</td>\n",
       "      <td>6570.0</td>\n",
       "      <td>0.000026</td>\n",
       "    </tr>\n",
       "  </tbody>\n",
       "</table>\n",
       "<p>13 rows × 35 columns</p>\n",
       "</div>"
      ],
      "text/plain": [
       "    atomic_mass  poissons_ratio  atomic_radius  electrical_resistivity  \\\n",
       "Ag   107.868200            0.37           1.60            1.630000e-08   \n",
       "Al    26.981539            0.35           1.25            2.700000e-08   \n",
       "Au   196.966569            0.44           1.35            2.200000e-08   \n",
       "Cu    63.546000            0.34           1.35            1.720000e-08   \n",
       "Ir   192.217000            0.26           1.35            4.700000e-08   \n",
       "Ni    58.693400            0.31           1.35            7.200000e-08   \n",
       "Pb   207.200000            0.44           1.80            2.100000e-07   \n",
       "Pd   106.420000            0.39           1.40            1.080000e-07   \n",
       "Pt   195.084000            0.38           1.35            1.060000e-07   \n",
       "Rh   102.905500            0.26           1.35            4.300000e-08   \n",
       "Sr    87.620000            0.28           2.00            1.350000e-07   \n",
       "Th   232.038060            0.27           1.80            1.500000e-07   \n",
       "Yb   173.040000            0.21           1.75            2.500000e-07   \n",
       "\n",
       "    molar_volume  thermal_conductivity  bulk_modulus  youngs_modulus  group  \\\n",
       "Ag         10.27                 430.0         100.0            83.0     11   \n",
       "Al         10.00                 235.0          76.0            70.0     13   \n",
       "Au         10.21                 320.0         220.0            78.0     11   \n",
       "Cu          7.11                 400.0         140.0           130.0     11   \n",
       "Ir          8.52                 150.0         320.0           528.0      9   \n",
       "Ni          6.59                  91.0         180.0           200.0     10   \n",
       "Pb         18.26                  35.0          46.0            16.0     14   \n",
       "Pd          8.56                  72.0         180.0           121.0     10   \n",
       "Pt          9.09                  72.0         230.0           168.0     10   \n",
       "Rh          8.28                 150.0         380.0           275.0      9   \n",
       "Sr         33.94                  35.0           NaN             NaN      2   \n",
       "Th         19.80                  54.0          54.0            79.0      4   \n",
       "Yb         24.84                  39.0          31.0            24.0     16   \n",
       "\n",
       "    is_noble_gas  ...                                        ionic_radii  \\\n",
       "Ag         False  ...            {1: 1.29 ang, 2: 1.08 ang, 3: 0.89 ang}   \n",
       "Al         False  ...                                     {3: 0.675 ang}   \n",
       "Au         False  ...            {1: 1.51 ang, 3: 0.99 ang, 5: 0.71 ang}   \n",
       "Cu         False  ...            {1: 0.91 ang, 2: 0.87 ang, 3: 0.68 ang}   \n",
       "Ir         False  ...           {3: 0.82 ang, 4: 0.765 ang, 5: 0.71 ang}   \n",
       "Ni         False  ...                                      {3: 0.74 ang}   \n",
       "Pb         False  ...                        {2: 1.33 ang, 4: 0.915 ang}   \n",
       "Pd         False  ...  {1: 0.73 ang, 2: 1.0 ang, 3: 0.9 ang, 4: 0.755...   \n",
       "Pt         False  ...           {2: 0.94 ang, 4: 0.765 ang, 5: 0.71 ang}   \n",
       "Rh         False  ...           {3: 0.805 ang, 4: 0.74 ang, 5: 0.69 ang}   \n",
       "Sr         False  ...                                      {2: 1.32 ang}   \n",
       "Th         False  ...                                      {4: 1.08 ang}   \n",
       "Yb         False  ...                        {2: 1.16 ang, 3: 1.008 ang}   \n",
       "\n",
       "    boiling_point  vickers_hardness  average_ionic_radius  melting_point  \\\n",
       "Ag         2435.0             251.0              1.086667        1234.93   \n",
       "Al         2792.0             167.0              0.675000         933.47   \n",
       "Au         3129.0             216.0              1.070000        1337.33   \n",
       "Cu         3200.0             369.0              0.820000        1357.77   \n",
       "Ir         4701.0            1760.0              0.765000        2739.00   \n",
       "Ni         3186.0             638.0              0.740000        1728.00   \n",
       "Pb         2022.0               NaN              1.122500         600.61   \n",
       "Pd         3236.0             461.0              0.846250        1828.05   \n",
       "Pt         4098.0             549.0              0.805000        2041.40   \n",
       "Rh         3968.0            1246.0              0.745000        2237.00   \n",
       "Sr         1655.0               NaN              1.320000        1050.00   \n",
       "Th         5093.0             350.0              1.080000        2115.00   \n",
       "Yb         1469.0             206.0              1.084000        1097.00   \n",
       "\n",
       "    rigidity_modulus   Z  number  density_of_solid  \\\n",
       "Ag              30.0  47      47           10490.0   \n",
       "Al              26.0  13      13            2700.0   \n",
       "Au              27.0  79      79           19300.0   \n",
       "Cu              48.0  29      29            8920.0   \n",
       "Ir             210.0  77      77           22650.0   \n",
       "Ni              76.0  28      28            8908.0   \n",
       "Pb               5.6  82      82           11340.0   \n",
       "Pd              44.0  46      46           12023.0   \n",
       "Pt              61.0  78      78           21090.0   \n",
       "Rh             150.0  45      45           12450.0   \n",
       "Sr               6.1  38      38            2630.0   \n",
       "Th              31.0  90      90           11724.0   \n",
       "Yb               9.9  70      70            6570.0   \n",
       "\n",
       "    coefficient_of_linear_thermal_expansion  \n",
       "Ag                                 0.000019  \n",
       "Al                                 0.000023  \n",
       "Au                                 0.000014  \n",
       "Cu                                 0.000017  \n",
       "Ir                                 0.000006  \n",
       "Ni                                 0.000013  \n",
       "Pb                                 0.000029  \n",
       "Pd                                 0.000012  \n",
       "Pt                                 0.000009  \n",
       "Rh                                 0.000008  \n",
       "Sr                                 0.000023  \n",
       "Th                                 0.000011  \n",
       "Yb                                 0.000026  \n",
       "\n",
       "[13 rows x 35 columns]"
      ]
     },
     "metadata": {},
     "output_type": "display_data"
    }
   ],
   "source": [
    "df.index = fcc_elements\n",
    "display(df)"
   ]
  },
  {
   "cell_type": "markdown",
   "metadata": {},
   "source": [
    "We can then use simple Pandas binary operations to only show elements that satisfy a certain condition.\n",
    "\n",
    "The first cell will display a version of the dataframe filtered to elements that have an atomic mass <i>greater or equal</i> than 150u. (Pandas operator .ge) <br>\n",
    "The second cell will display a version of the dataframe filtered to elements with exactly 0.26 Poissons' ratio. (Pandas operator .eq) <br>\n",
    "\n",
    "There are standard operators for greater or equal (.ge), less or equal (.le), equal (.eq) and not equal (.ne). A list of such operations can be found [here](https://pandas.pydata.org/pandas-docs/version/0.24.2/reference/frame.html#binary-operator-functions). However, we can also create our custom binary conditions.\n",
    "\n",
    "The third cell will display a version with a custom binary condition. The elements shown have Young's modulus less than 120 GPa, and Poissons' ratio greater than 0.25. <br>"
   ]
  },
  {
   "cell_type": "code",
   "execution_count": 42,
   "metadata": {},
   "outputs": [
    {
     "data": {
      "text/html": [
       "<div>\n",
       "<style scoped>\n",
       "    .dataframe tbody tr th:only-of-type {\n",
       "        vertical-align: middle;\n",
       "    }\n",
       "\n",
       "    .dataframe tbody tr th {\n",
       "        vertical-align: top;\n",
       "    }\n",
       "\n",
       "    .dataframe thead th {\n",
       "        text-align: right;\n",
       "    }\n",
       "</style>\n",
       "<table border=\"1\" class=\"dataframe\">\n",
       "  <thead>\n",
       "    <tr style=\"text-align: right;\">\n",
       "      <th></th>\n",
       "      <th>atomic_mass</th>\n",
       "      <th>poissons_ratio</th>\n",
       "      <th>atomic_radius</th>\n",
       "      <th>electrical_resistivity</th>\n",
       "      <th>molar_volume</th>\n",
       "      <th>thermal_conductivity</th>\n",
       "      <th>bulk_modulus</th>\n",
       "      <th>youngs_modulus</th>\n",
       "      <th>group</th>\n",
       "      <th>is_noble_gas</th>\n",
       "      <th>...</th>\n",
       "      <th>ionic_radii</th>\n",
       "      <th>boiling_point</th>\n",
       "      <th>vickers_hardness</th>\n",
       "      <th>average_ionic_radius</th>\n",
       "      <th>melting_point</th>\n",
       "      <th>rigidity_modulus</th>\n",
       "      <th>Z</th>\n",
       "      <th>number</th>\n",
       "      <th>density_of_solid</th>\n",
       "      <th>coefficient_of_linear_thermal_expansion</th>\n",
       "    </tr>\n",
       "  </thead>\n",
       "  <tbody>\n",
       "    <tr>\n",
       "      <th>Au</th>\n",
       "      <td>196.966569</td>\n",
       "      <td>0.44</td>\n",
       "      <td>1.35</td>\n",
       "      <td>2.200000e-08</td>\n",
       "      <td>10.21</td>\n",
       "      <td>320.0</td>\n",
       "      <td>220.0</td>\n",
       "      <td>78.0</td>\n",
       "      <td>11</td>\n",
       "      <td>False</td>\n",
       "      <td>...</td>\n",
       "      <td>{1: 1.51 ang, 3: 0.99 ang, 5: 0.71 ang}</td>\n",
       "      <td>3129.0</td>\n",
       "      <td>216.0</td>\n",
       "      <td>1.0700</td>\n",
       "      <td>1337.33</td>\n",
       "      <td>27.0</td>\n",
       "      <td>79</td>\n",
       "      <td>79</td>\n",
       "      <td>19300.0</td>\n",
       "      <td>0.000014</td>\n",
       "    </tr>\n",
       "    <tr>\n",
       "      <th>Ir</th>\n",
       "      <td>192.217000</td>\n",
       "      <td>0.26</td>\n",
       "      <td>1.35</td>\n",
       "      <td>4.700000e-08</td>\n",
       "      <td>8.52</td>\n",
       "      <td>150.0</td>\n",
       "      <td>320.0</td>\n",
       "      <td>528.0</td>\n",
       "      <td>9</td>\n",
       "      <td>False</td>\n",
       "      <td>...</td>\n",
       "      <td>{3: 0.82 ang, 4: 0.765 ang, 5: 0.71 ang}</td>\n",
       "      <td>4701.0</td>\n",
       "      <td>1760.0</td>\n",
       "      <td>0.7650</td>\n",
       "      <td>2739.00</td>\n",
       "      <td>210.0</td>\n",
       "      <td>77</td>\n",
       "      <td>77</td>\n",
       "      <td>22650.0</td>\n",
       "      <td>0.000006</td>\n",
       "    </tr>\n",
       "    <tr>\n",
       "      <th>Pb</th>\n",
       "      <td>207.200000</td>\n",
       "      <td>0.44</td>\n",
       "      <td>1.80</td>\n",
       "      <td>2.100000e-07</td>\n",
       "      <td>18.26</td>\n",
       "      <td>35.0</td>\n",
       "      <td>46.0</td>\n",
       "      <td>16.0</td>\n",
       "      <td>14</td>\n",
       "      <td>False</td>\n",
       "      <td>...</td>\n",
       "      <td>{2: 1.33 ang, 4: 0.915 ang}</td>\n",
       "      <td>2022.0</td>\n",
       "      <td>NaN</td>\n",
       "      <td>1.1225</td>\n",
       "      <td>600.61</td>\n",
       "      <td>5.6</td>\n",
       "      <td>82</td>\n",
       "      <td>82</td>\n",
       "      <td>11340.0</td>\n",
       "      <td>0.000029</td>\n",
       "    </tr>\n",
       "    <tr>\n",
       "      <th>Pt</th>\n",
       "      <td>195.084000</td>\n",
       "      <td>0.38</td>\n",
       "      <td>1.35</td>\n",
       "      <td>1.060000e-07</td>\n",
       "      <td>9.09</td>\n",
       "      <td>72.0</td>\n",
       "      <td>230.0</td>\n",
       "      <td>168.0</td>\n",
       "      <td>10</td>\n",
       "      <td>False</td>\n",
       "      <td>...</td>\n",
       "      <td>{2: 0.94 ang, 4: 0.765 ang, 5: 0.71 ang}</td>\n",
       "      <td>4098.0</td>\n",
       "      <td>549.0</td>\n",
       "      <td>0.8050</td>\n",
       "      <td>2041.40</td>\n",
       "      <td>61.0</td>\n",
       "      <td>78</td>\n",
       "      <td>78</td>\n",
       "      <td>21090.0</td>\n",
       "      <td>0.000009</td>\n",
       "    </tr>\n",
       "    <tr>\n",
       "      <th>Th</th>\n",
       "      <td>232.038060</td>\n",
       "      <td>0.27</td>\n",
       "      <td>1.80</td>\n",
       "      <td>1.500000e-07</td>\n",
       "      <td>19.80</td>\n",
       "      <td>54.0</td>\n",
       "      <td>54.0</td>\n",
       "      <td>79.0</td>\n",
       "      <td>4</td>\n",
       "      <td>False</td>\n",
       "      <td>...</td>\n",
       "      <td>{4: 1.08 ang}</td>\n",
       "      <td>5093.0</td>\n",
       "      <td>350.0</td>\n",
       "      <td>1.0800</td>\n",
       "      <td>2115.00</td>\n",
       "      <td>31.0</td>\n",
       "      <td>90</td>\n",
       "      <td>90</td>\n",
       "      <td>11724.0</td>\n",
       "      <td>0.000011</td>\n",
       "    </tr>\n",
       "    <tr>\n",
       "      <th>Yb</th>\n",
       "      <td>173.040000</td>\n",
       "      <td>0.21</td>\n",
       "      <td>1.75</td>\n",
       "      <td>2.500000e-07</td>\n",
       "      <td>24.84</td>\n",
       "      <td>39.0</td>\n",
       "      <td>31.0</td>\n",
       "      <td>24.0</td>\n",
       "      <td>16</td>\n",
       "      <td>False</td>\n",
       "      <td>...</td>\n",
       "      <td>{2: 1.16 ang, 3: 1.008 ang}</td>\n",
       "      <td>1469.0</td>\n",
       "      <td>206.0</td>\n",
       "      <td>1.0840</td>\n",
       "      <td>1097.00</td>\n",
       "      <td>9.9</td>\n",
       "      <td>70</td>\n",
       "      <td>70</td>\n",
       "      <td>6570.0</td>\n",
       "      <td>0.000026</td>\n",
       "    </tr>\n",
       "  </tbody>\n",
       "</table>\n",
       "<p>6 rows × 35 columns</p>\n",
       "</div>"
      ],
      "text/plain": [
       "    atomic_mass  poissons_ratio  atomic_radius  electrical_resistivity  \\\n",
       "Au   196.966569            0.44           1.35            2.200000e-08   \n",
       "Ir   192.217000            0.26           1.35            4.700000e-08   \n",
       "Pb   207.200000            0.44           1.80            2.100000e-07   \n",
       "Pt   195.084000            0.38           1.35            1.060000e-07   \n",
       "Th   232.038060            0.27           1.80            1.500000e-07   \n",
       "Yb   173.040000            0.21           1.75            2.500000e-07   \n",
       "\n",
       "    molar_volume  thermal_conductivity  bulk_modulus  youngs_modulus  group  \\\n",
       "Au         10.21                 320.0         220.0            78.0     11   \n",
       "Ir          8.52                 150.0         320.0           528.0      9   \n",
       "Pb         18.26                  35.0          46.0            16.0     14   \n",
       "Pt          9.09                  72.0         230.0           168.0     10   \n",
       "Th         19.80                  54.0          54.0            79.0      4   \n",
       "Yb         24.84                  39.0          31.0            24.0     16   \n",
       "\n",
       "    is_noble_gas  ...                               ionic_radii  \\\n",
       "Au         False  ...   {1: 1.51 ang, 3: 0.99 ang, 5: 0.71 ang}   \n",
       "Ir         False  ...  {3: 0.82 ang, 4: 0.765 ang, 5: 0.71 ang}   \n",
       "Pb         False  ...               {2: 1.33 ang, 4: 0.915 ang}   \n",
       "Pt         False  ...  {2: 0.94 ang, 4: 0.765 ang, 5: 0.71 ang}   \n",
       "Th         False  ...                             {4: 1.08 ang}   \n",
       "Yb         False  ...               {2: 1.16 ang, 3: 1.008 ang}   \n",
       "\n",
       "    boiling_point  vickers_hardness  average_ionic_radius  melting_point  \\\n",
       "Au         3129.0             216.0                1.0700        1337.33   \n",
       "Ir         4701.0            1760.0                0.7650        2739.00   \n",
       "Pb         2022.0               NaN                1.1225         600.61   \n",
       "Pt         4098.0             549.0                0.8050        2041.40   \n",
       "Th         5093.0             350.0                1.0800        2115.00   \n",
       "Yb         1469.0             206.0                1.0840        1097.00   \n",
       "\n",
       "    rigidity_modulus   Z  number  density_of_solid  \\\n",
       "Au              27.0  79      79           19300.0   \n",
       "Ir             210.0  77      77           22650.0   \n",
       "Pb               5.6  82      82           11340.0   \n",
       "Pt              61.0  78      78           21090.0   \n",
       "Th              31.0  90      90           11724.0   \n",
       "Yb               9.9  70      70            6570.0   \n",
       "\n",
       "    coefficient_of_linear_thermal_expansion  \n",
       "Au                                 0.000014  \n",
       "Ir                                 0.000006  \n",
       "Pb                                 0.000029  \n",
       "Pt                                 0.000009  \n",
       "Th                                 0.000011  \n",
       "Yb                                 0.000026  \n",
       "\n",
       "[6 rows x 35 columns]"
      ]
     },
     "metadata": {},
     "output_type": "display_data"
    }
   ],
   "source": [
    "df_big_atoms = df[df.atomic_mass.ge(150)]\n",
    "display(df_big_atoms)"
   ]
  },
  {
   "cell_type": "code",
   "execution_count": 48,
   "metadata": {},
   "outputs": [
    {
     "data": {
      "text/html": [
       "<div>\n",
       "<style scoped>\n",
       "    .dataframe tbody tr th:only-of-type {\n",
       "        vertical-align: middle;\n",
       "    }\n",
       "\n",
       "    .dataframe tbody tr th {\n",
       "        vertical-align: top;\n",
       "    }\n",
       "\n",
       "    .dataframe thead th {\n",
       "        text-align: right;\n",
       "    }\n",
       "</style>\n",
       "<table border=\"1\" class=\"dataframe\">\n",
       "  <thead>\n",
       "    <tr style=\"text-align: right;\">\n",
       "      <th></th>\n",
       "      <th>atomic_mass</th>\n",
       "      <th>poissons_ratio</th>\n",
       "      <th>atomic_radius</th>\n",
       "      <th>electrical_resistivity</th>\n",
       "      <th>molar_volume</th>\n",
       "      <th>thermal_conductivity</th>\n",
       "      <th>bulk_modulus</th>\n",
       "      <th>youngs_modulus</th>\n",
       "      <th>group</th>\n",
       "      <th>is_noble_gas</th>\n",
       "      <th>...</th>\n",
       "      <th>ionic_radii</th>\n",
       "      <th>boiling_point</th>\n",
       "      <th>vickers_hardness</th>\n",
       "      <th>average_ionic_radius</th>\n",
       "      <th>melting_point</th>\n",
       "      <th>rigidity_modulus</th>\n",
       "      <th>Z</th>\n",
       "      <th>number</th>\n",
       "      <th>density_of_solid</th>\n",
       "      <th>coefficient_of_linear_thermal_expansion</th>\n",
       "    </tr>\n",
       "  </thead>\n",
       "  <tbody>\n",
       "    <tr>\n",
       "      <th>Ag</th>\n",
       "      <td>107.868200</td>\n",
       "      <td>0.37</td>\n",
       "      <td>1.60</td>\n",
       "      <td>1.630000e-08</td>\n",
       "      <td>10.27</td>\n",
       "      <td>430.0</td>\n",
       "      <td>100.0</td>\n",
       "      <td>83.0</td>\n",
       "      <td>11</td>\n",
       "      <td>False</td>\n",
       "      <td>...</td>\n",
       "      <td>{1: 1.29 ang, 2: 1.08 ang, 3: 0.89 ang}</td>\n",
       "      <td>2435.0</td>\n",
       "      <td>251.0</td>\n",
       "      <td>1.086667</td>\n",
       "      <td>1234.93</td>\n",
       "      <td>30.0</td>\n",
       "      <td>47</td>\n",
       "      <td>47</td>\n",
       "      <td>10490.0</td>\n",
       "      <td>0.000019</td>\n",
       "    </tr>\n",
       "    <tr>\n",
       "      <th>Al</th>\n",
       "      <td>26.981539</td>\n",
       "      <td>0.35</td>\n",
       "      <td>1.25</td>\n",
       "      <td>2.700000e-08</td>\n",
       "      <td>10.00</td>\n",
       "      <td>235.0</td>\n",
       "      <td>76.0</td>\n",
       "      <td>70.0</td>\n",
       "      <td>13</td>\n",
       "      <td>False</td>\n",
       "      <td>...</td>\n",
       "      <td>{3: 0.675 ang}</td>\n",
       "      <td>2792.0</td>\n",
       "      <td>167.0</td>\n",
       "      <td>0.675000</td>\n",
       "      <td>933.47</td>\n",
       "      <td>26.0</td>\n",
       "      <td>13</td>\n",
       "      <td>13</td>\n",
       "      <td>2700.0</td>\n",
       "      <td>0.000023</td>\n",
       "    </tr>\n",
       "    <tr>\n",
       "      <th>Au</th>\n",
       "      <td>196.966569</td>\n",
       "      <td>0.44</td>\n",
       "      <td>1.35</td>\n",
       "      <td>2.200000e-08</td>\n",
       "      <td>10.21</td>\n",
       "      <td>320.0</td>\n",
       "      <td>220.0</td>\n",
       "      <td>78.0</td>\n",
       "      <td>11</td>\n",
       "      <td>False</td>\n",
       "      <td>...</td>\n",
       "      <td>{1: 1.51 ang, 3: 0.99 ang, 5: 0.71 ang}</td>\n",
       "      <td>3129.0</td>\n",
       "      <td>216.0</td>\n",
       "      <td>1.070000</td>\n",
       "      <td>1337.33</td>\n",
       "      <td>27.0</td>\n",
       "      <td>79</td>\n",
       "      <td>79</td>\n",
       "      <td>19300.0</td>\n",
       "      <td>0.000014</td>\n",
       "    </tr>\n",
       "    <tr>\n",
       "      <th>Cu</th>\n",
       "      <td>63.546000</td>\n",
       "      <td>0.34</td>\n",
       "      <td>1.35</td>\n",
       "      <td>1.720000e-08</td>\n",
       "      <td>7.11</td>\n",
       "      <td>400.0</td>\n",
       "      <td>140.0</td>\n",
       "      <td>130.0</td>\n",
       "      <td>11</td>\n",
       "      <td>False</td>\n",
       "      <td>...</td>\n",
       "      <td>{1: 0.91 ang, 2: 0.87 ang, 3: 0.68 ang}</td>\n",
       "      <td>3200.0</td>\n",
       "      <td>369.0</td>\n",
       "      <td>0.820000</td>\n",
       "      <td>1357.77</td>\n",
       "      <td>48.0</td>\n",
       "      <td>29</td>\n",
       "      <td>29</td>\n",
       "      <td>8920.0</td>\n",
       "      <td>0.000017</td>\n",
       "    </tr>\n",
       "    <tr>\n",
       "      <th>Ir</th>\n",
       "      <td>192.217000</td>\n",
       "      <td>0.26</td>\n",
       "      <td>1.35</td>\n",
       "      <td>4.700000e-08</td>\n",
       "      <td>8.52</td>\n",
       "      <td>150.0</td>\n",
       "      <td>320.0</td>\n",
       "      <td>528.0</td>\n",
       "      <td>9</td>\n",
       "      <td>False</td>\n",
       "      <td>...</td>\n",
       "      <td>{3: 0.82 ang, 4: 0.765 ang, 5: 0.71 ang}</td>\n",
       "      <td>4701.0</td>\n",
       "      <td>1760.0</td>\n",
       "      <td>0.765000</td>\n",
       "      <td>2739.00</td>\n",
       "      <td>210.0</td>\n",
       "      <td>77</td>\n",
       "      <td>77</td>\n",
       "      <td>22650.0</td>\n",
       "      <td>0.000006</td>\n",
       "    </tr>\n",
       "    <tr>\n",
       "      <th>Ni</th>\n",
       "      <td>58.693400</td>\n",
       "      <td>0.31</td>\n",
       "      <td>1.35</td>\n",
       "      <td>7.200000e-08</td>\n",
       "      <td>6.59</td>\n",
       "      <td>91.0</td>\n",
       "      <td>180.0</td>\n",
       "      <td>200.0</td>\n",
       "      <td>10</td>\n",
       "      <td>False</td>\n",
       "      <td>...</td>\n",
       "      <td>{3: 0.74 ang}</td>\n",
       "      <td>3186.0</td>\n",
       "      <td>638.0</td>\n",
       "      <td>0.740000</td>\n",
       "      <td>1728.00</td>\n",
       "      <td>76.0</td>\n",
       "      <td>28</td>\n",
       "      <td>28</td>\n",
       "      <td>8908.0</td>\n",
       "      <td>0.000013</td>\n",
       "    </tr>\n",
       "    <tr>\n",
       "      <th>Pb</th>\n",
       "      <td>207.200000</td>\n",
       "      <td>0.44</td>\n",
       "      <td>1.80</td>\n",
       "      <td>2.100000e-07</td>\n",
       "      <td>18.26</td>\n",
       "      <td>35.0</td>\n",
       "      <td>46.0</td>\n",
       "      <td>16.0</td>\n",
       "      <td>14</td>\n",
       "      <td>False</td>\n",
       "      <td>...</td>\n",
       "      <td>{2: 1.33 ang, 4: 0.915 ang}</td>\n",
       "      <td>2022.0</td>\n",
       "      <td>NaN</td>\n",
       "      <td>1.122500</td>\n",
       "      <td>600.61</td>\n",
       "      <td>5.6</td>\n",
       "      <td>82</td>\n",
       "      <td>82</td>\n",
       "      <td>11340.0</td>\n",
       "      <td>0.000029</td>\n",
       "    </tr>\n",
       "    <tr>\n",
       "      <th>Pd</th>\n",
       "      <td>106.420000</td>\n",
       "      <td>0.39</td>\n",
       "      <td>1.40</td>\n",
       "      <td>1.080000e-07</td>\n",
       "      <td>8.56</td>\n",
       "      <td>72.0</td>\n",
       "      <td>180.0</td>\n",
       "      <td>121.0</td>\n",
       "      <td>10</td>\n",
       "      <td>False</td>\n",
       "      <td>...</td>\n",
       "      <td>{1: 0.73 ang, 2: 1.0 ang, 3: 0.9 ang, 4: 0.755...</td>\n",
       "      <td>3236.0</td>\n",
       "      <td>461.0</td>\n",
       "      <td>0.846250</td>\n",
       "      <td>1828.05</td>\n",
       "      <td>44.0</td>\n",
       "      <td>46</td>\n",
       "      <td>46</td>\n",
       "      <td>12023.0</td>\n",
       "      <td>0.000012</td>\n",
       "    </tr>\n",
       "    <tr>\n",
       "      <th>Pt</th>\n",
       "      <td>195.084000</td>\n",
       "      <td>0.38</td>\n",
       "      <td>1.35</td>\n",
       "      <td>1.060000e-07</td>\n",
       "      <td>9.09</td>\n",
       "      <td>72.0</td>\n",
       "      <td>230.0</td>\n",
       "      <td>168.0</td>\n",
       "      <td>10</td>\n",
       "      <td>False</td>\n",
       "      <td>...</td>\n",
       "      <td>{2: 0.94 ang, 4: 0.765 ang, 5: 0.71 ang}</td>\n",
       "      <td>4098.0</td>\n",
       "      <td>549.0</td>\n",
       "      <td>0.805000</td>\n",
       "      <td>2041.40</td>\n",
       "      <td>61.0</td>\n",
       "      <td>78</td>\n",
       "      <td>78</td>\n",
       "      <td>21090.0</td>\n",
       "      <td>0.000009</td>\n",
       "    </tr>\n",
       "    <tr>\n",
       "      <th>Rh</th>\n",
       "      <td>102.905500</td>\n",
       "      <td>0.26</td>\n",
       "      <td>1.35</td>\n",
       "      <td>4.300000e-08</td>\n",
       "      <td>8.28</td>\n",
       "      <td>150.0</td>\n",
       "      <td>380.0</td>\n",
       "      <td>275.0</td>\n",
       "      <td>9</td>\n",
       "      <td>False</td>\n",
       "      <td>...</td>\n",
       "      <td>{3: 0.805 ang, 4: 0.74 ang, 5: 0.69 ang}</td>\n",
       "      <td>3968.0</td>\n",
       "      <td>1246.0</td>\n",
       "      <td>0.745000</td>\n",
       "      <td>2237.00</td>\n",
       "      <td>150.0</td>\n",
       "      <td>45</td>\n",
       "      <td>45</td>\n",
       "      <td>12450.0</td>\n",
       "      <td>0.000008</td>\n",
       "    </tr>\n",
       "    <tr>\n",
       "      <th>Sr</th>\n",
       "      <td>87.620000</td>\n",
       "      <td>0.28</td>\n",
       "      <td>2.00</td>\n",
       "      <td>1.350000e-07</td>\n",
       "      <td>33.94</td>\n",
       "      <td>35.0</td>\n",
       "      <td>NaN</td>\n",
       "      <td>NaN</td>\n",
       "      <td>2</td>\n",
       "      <td>False</td>\n",
       "      <td>...</td>\n",
       "      <td>{2: 1.32 ang}</td>\n",
       "      <td>1655.0</td>\n",
       "      <td>NaN</td>\n",
       "      <td>1.320000</td>\n",
       "      <td>1050.00</td>\n",
       "      <td>6.1</td>\n",
       "      <td>38</td>\n",
       "      <td>38</td>\n",
       "      <td>2630.0</td>\n",
       "      <td>0.000023</td>\n",
       "    </tr>\n",
       "    <tr>\n",
       "      <th>Th</th>\n",
       "      <td>232.038060</td>\n",
       "      <td>0.27</td>\n",
       "      <td>1.80</td>\n",
       "      <td>1.500000e-07</td>\n",
       "      <td>19.80</td>\n",
       "      <td>54.0</td>\n",
       "      <td>54.0</td>\n",
       "      <td>79.0</td>\n",
       "      <td>4</td>\n",
       "      <td>False</td>\n",
       "      <td>...</td>\n",
       "      <td>{4: 1.08 ang}</td>\n",
       "      <td>5093.0</td>\n",
       "      <td>350.0</td>\n",
       "      <td>1.080000</td>\n",
       "      <td>2115.00</td>\n",
       "      <td>31.0</td>\n",
       "      <td>90</td>\n",
       "      <td>90</td>\n",
       "      <td>11724.0</td>\n",
       "      <td>0.000011</td>\n",
       "    </tr>\n",
       "    <tr>\n",
       "      <th>Yb</th>\n",
       "      <td>173.040000</td>\n",
       "      <td>0.21</td>\n",
       "      <td>1.75</td>\n",
       "      <td>2.500000e-07</td>\n",
       "      <td>24.84</td>\n",
       "      <td>39.0</td>\n",
       "      <td>31.0</td>\n",
       "      <td>24.0</td>\n",
       "      <td>16</td>\n",
       "      <td>False</td>\n",
       "      <td>...</td>\n",
       "      <td>{2: 1.16 ang, 3: 1.008 ang}</td>\n",
       "      <td>1469.0</td>\n",
       "      <td>206.0</td>\n",
       "      <td>1.084000</td>\n",
       "      <td>1097.00</td>\n",
       "      <td>9.9</td>\n",
       "      <td>70</td>\n",
       "      <td>70</td>\n",
       "      <td>6570.0</td>\n",
       "      <td>0.000026</td>\n",
       "    </tr>\n",
       "  </tbody>\n",
       "</table>\n",
       "<p>13 rows × 35 columns</p>\n",
       "</div>"
      ],
      "text/plain": [
       "    atomic_mass  poissons_ratio  atomic_radius  electrical_resistivity  \\\n",
       "Ag   107.868200            0.37           1.60            1.630000e-08   \n",
       "Al    26.981539            0.35           1.25            2.700000e-08   \n",
       "Au   196.966569            0.44           1.35            2.200000e-08   \n",
       "Cu    63.546000            0.34           1.35            1.720000e-08   \n",
       "Ir   192.217000            0.26           1.35            4.700000e-08   \n",
       "Ni    58.693400            0.31           1.35            7.200000e-08   \n",
       "Pb   207.200000            0.44           1.80            2.100000e-07   \n",
       "Pd   106.420000            0.39           1.40            1.080000e-07   \n",
       "Pt   195.084000            0.38           1.35            1.060000e-07   \n",
       "Rh   102.905500            0.26           1.35            4.300000e-08   \n",
       "Sr    87.620000            0.28           2.00            1.350000e-07   \n",
       "Th   232.038060            0.27           1.80            1.500000e-07   \n",
       "Yb   173.040000            0.21           1.75            2.500000e-07   \n",
       "\n",
       "    molar_volume  thermal_conductivity  bulk_modulus  youngs_modulus  group  \\\n",
       "Ag         10.27                 430.0         100.0            83.0     11   \n",
       "Al         10.00                 235.0          76.0            70.0     13   \n",
       "Au         10.21                 320.0         220.0            78.0     11   \n",
       "Cu          7.11                 400.0         140.0           130.0     11   \n",
       "Ir          8.52                 150.0         320.0           528.0      9   \n",
       "Ni          6.59                  91.0         180.0           200.0     10   \n",
       "Pb         18.26                  35.0          46.0            16.0     14   \n",
       "Pd          8.56                  72.0         180.0           121.0     10   \n",
       "Pt          9.09                  72.0         230.0           168.0     10   \n",
       "Rh          8.28                 150.0         380.0           275.0      9   \n",
       "Sr         33.94                  35.0           NaN             NaN      2   \n",
       "Th         19.80                  54.0          54.0            79.0      4   \n",
       "Yb         24.84                  39.0          31.0            24.0     16   \n",
       "\n",
       "    is_noble_gas  ...                                        ionic_radii  \\\n",
       "Ag         False  ...            {1: 1.29 ang, 2: 1.08 ang, 3: 0.89 ang}   \n",
       "Al         False  ...                                     {3: 0.675 ang}   \n",
       "Au         False  ...            {1: 1.51 ang, 3: 0.99 ang, 5: 0.71 ang}   \n",
       "Cu         False  ...            {1: 0.91 ang, 2: 0.87 ang, 3: 0.68 ang}   \n",
       "Ir         False  ...           {3: 0.82 ang, 4: 0.765 ang, 5: 0.71 ang}   \n",
       "Ni         False  ...                                      {3: 0.74 ang}   \n",
       "Pb         False  ...                        {2: 1.33 ang, 4: 0.915 ang}   \n",
       "Pd         False  ...  {1: 0.73 ang, 2: 1.0 ang, 3: 0.9 ang, 4: 0.755...   \n",
       "Pt         False  ...           {2: 0.94 ang, 4: 0.765 ang, 5: 0.71 ang}   \n",
       "Rh         False  ...           {3: 0.805 ang, 4: 0.74 ang, 5: 0.69 ang}   \n",
       "Sr         False  ...                                      {2: 1.32 ang}   \n",
       "Th         False  ...                                      {4: 1.08 ang}   \n",
       "Yb         False  ...                        {2: 1.16 ang, 3: 1.008 ang}   \n",
       "\n",
       "    boiling_point  vickers_hardness  average_ionic_radius  melting_point  \\\n",
       "Ag         2435.0             251.0              1.086667        1234.93   \n",
       "Al         2792.0             167.0              0.675000         933.47   \n",
       "Au         3129.0             216.0              1.070000        1337.33   \n",
       "Cu         3200.0             369.0              0.820000        1357.77   \n",
       "Ir         4701.0            1760.0              0.765000        2739.00   \n",
       "Ni         3186.0             638.0              0.740000        1728.00   \n",
       "Pb         2022.0               NaN              1.122500         600.61   \n",
       "Pd         3236.0             461.0              0.846250        1828.05   \n",
       "Pt         4098.0             549.0              0.805000        2041.40   \n",
       "Rh         3968.0            1246.0              0.745000        2237.00   \n",
       "Sr         1655.0               NaN              1.320000        1050.00   \n",
       "Th         5093.0             350.0              1.080000        2115.00   \n",
       "Yb         1469.0             206.0              1.084000        1097.00   \n",
       "\n",
       "    rigidity_modulus   Z  number  density_of_solid  \\\n",
       "Ag              30.0  47      47           10490.0   \n",
       "Al              26.0  13      13            2700.0   \n",
       "Au              27.0  79      79           19300.0   \n",
       "Cu              48.0  29      29            8920.0   \n",
       "Ir             210.0  77      77           22650.0   \n",
       "Ni              76.0  28      28            8908.0   \n",
       "Pb               5.6  82      82           11340.0   \n",
       "Pd              44.0  46      46           12023.0   \n",
       "Pt              61.0  78      78           21090.0   \n",
       "Rh             150.0  45      45           12450.0   \n",
       "Sr               6.1  38      38            2630.0   \n",
       "Th              31.0  90      90           11724.0   \n",
       "Yb               9.9  70      70            6570.0   \n",
       "\n",
       "    coefficient_of_linear_thermal_expansion  \n",
       "Ag                                 0.000019  \n",
       "Al                                 0.000023  \n",
       "Au                                 0.000014  \n",
       "Cu                                 0.000017  \n",
       "Ir                                 0.000006  \n",
       "Ni                                 0.000013  \n",
       "Pb                                 0.000029  \n",
       "Pd                                 0.000012  \n",
       "Pt                                 0.000009  \n",
       "Rh                                 0.000008  \n",
       "Sr                                 0.000023  \n",
       "Th                                 0.000011  \n",
       "Yb                                 0.000026  \n",
       "\n",
       "[13 rows x 35 columns]"
      ]
     },
     "metadata": {},
     "output_type": "display_data"
    }
   ],
   "source": [
    "df_poisson = df[df.poissons_ratio.ne(1.35)]\n",
    "display(df_poisson)"
   ]
  },
  {
   "cell_type": "code",
   "execution_count": 49,
   "metadata": {},
   "outputs": [
    {
     "data": {
      "text/html": [
       "<div>\n",
       "<style scoped>\n",
       "    .dataframe tbody tr th:only-of-type {\n",
       "        vertical-align: middle;\n",
       "    }\n",
       "\n",
       "    .dataframe tbody tr th {\n",
       "        vertical-align: top;\n",
       "    }\n",
       "\n",
       "    .dataframe thead th {\n",
       "        text-align: right;\n",
       "    }\n",
       "</style>\n",
       "<table border=\"1\" class=\"dataframe\">\n",
       "  <thead>\n",
       "    <tr style=\"text-align: right;\">\n",
       "      <th></th>\n",
       "      <th>atomic_mass</th>\n",
       "      <th>poissons_ratio</th>\n",
       "      <th>atomic_radius</th>\n",
       "      <th>electrical_resistivity</th>\n",
       "      <th>molar_volume</th>\n",
       "      <th>thermal_conductivity</th>\n",
       "      <th>bulk_modulus</th>\n",
       "      <th>youngs_modulus</th>\n",
       "      <th>group</th>\n",
       "      <th>is_noble_gas</th>\n",
       "      <th>...</th>\n",
       "      <th>ionic_radii</th>\n",
       "      <th>boiling_point</th>\n",
       "      <th>vickers_hardness</th>\n",
       "      <th>average_ionic_radius</th>\n",
       "      <th>melting_point</th>\n",
       "      <th>rigidity_modulus</th>\n",
       "      <th>Z</th>\n",
       "      <th>number</th>\n",
       "      <th>density_of_solid</th>\n",
       "      <th>coefficient_of_linear_thermal_expansion</th>\n",
       "    </tr>\n",
       "  </thead>\n",
       "  <tbody>\n",
       "    <tr>\n",
       "      <th>Ag</th>\n",
       "      <td>107.868200</td>\n",
       "      <td>0.37</td>\n",
       "      <td>1.60</td>\n",
       "      <td>1.630000e-08</td>\n",
       "      <td>10.27</td>\n",
       "      <td>430.0</td>\n",
       "      <td>100.0</td>\n",
       "      <td>83.0</td>\n",
       "      <td>11</td>\n",
       "      <td>False</td>\n",
       "      <td>...</td>\n",
       "      <td>{1: 1.29 ang, 2: 1.08 ang, 3: 0.89 ang}</td>\n",
       "      <td>2435.0</td>\n",
       "      <td>251.0</td>\n",
       "      <td>1.086667</td>\n",
       "      <td>1234.93</td>\n",
       "      <td>30.0</td>\n",
       "      <td>47</td>\n",
       "      <td>47</td>\n",
       "      <td>10490.0</td>\n",
       "      <td>0.000019</td>\n",
       "    </tr>\n",
       "    <tr>\n",
       "      <th>Al</th>\n",
       "      <td>26.981539</td>\n",
       "      <td>0.35</td>\n",
       "      <td>1.25</td>\n",
       "      <td>2.700000e-08</td>\n",
       "      <td>10.00</td>\n",
       "      <td>235.0</td>\n",
       "      <td>76.0</td>\n",
       "      <td>70.0</td>\n",
       "      <td>13</td>\n",
       "      <td>False</td>\n",
       "      <td>...</td>\n",
       "      <td>{3: 0.675 ang}</td>\n",
       "      <td>2792.0</td>\n",
       "      <td>167.0</td>\n",
       "      <td>0.675000</td>\n",
       "      <td>933.47</td>\n",
       "      <td>26.0</td>\n",
       "      <td>13</td>\n",
       "      <td>13</td>\n",
       "      <td>2700.0</td>\n",
       "      <td>0.000023</td>\n",
       "    </tr>\n",
       "    <tr>\n",
       "      <th>Au</th>\n",
       "      <td>196.966569</td>\n",
       "      <td>0.44</td>\n",
       "      <td>1.35</td>\n",
       "      <td>2.200000e-08</td>\n",
       "      <td>10.21</td>\n",
       "      <td>320.0</td>\n",
       "      <td>220.0</td>\n",
       "      <td>78.0</td>\n",
       "      <td>11</td>\n",
       "      <td>False</td>\n",
       "      <td>...</td>\n",
       "      <td>{1: 1.51 ang, 3: 0.99 ang, 5: 0.71 ang}</td>\n",
       "      <td>3129.0</td>\n",
       "      <td>216.0</td>\n",
       "      <td>1.070000</td>\n",
       "      <td>1337.33</td>\n",
       "      <td>27.0</td>\n",
       "      <td>79</td>\n",
       "      <td>79</td>\n",
       "      <td>19300.0</td>\n",
       "      <td>0.000014</td>\n",
       "    </tr>\n",
       "    <tr>\n",
       "      <th>Pb</th>\n",
       "      <td>207.200000</td>\n",
       "      <td>0.44</td>\n",
       "      <td>1.80</td>\n",
       "      <td>2.100000e-07</td>\n",
       "      <td>18.26</td>\n",
       "      <td>35.0</td>\n",
       "      <td>46.0</td>\n",
       "      <td>16.0</td>\n",
       "      <td>14</td>\n",
       "      <td>False</td>\n",
       "      <td>...</td>\n",
       "      <td>{2: 1.33 ang, 4: 0.915 ang}</td>\n",
       "      <td>2022.0</td>\n",
       "      <td>NaN</td>\n",
       "      <td>1.122500</td>\n",
       "      <td>600.61</td>\n",
       "      <td>5.6</td>\n",
       "      <td>82</td>\n",
       "      <td>82</td>\n",
       "      <td>11340.0</td>\n",
       "      <td>0.000029</td>\n",
       "    </tr>\n",
       "    <tr>\n",
       "      <th>Th</th>\n",
       "      <td>232.038060</td>\n",
       "      <td>0.27</td>\n",
       "      <td>1.80</td>\n",
       "      <td>1.500000e-07</td>\n",
       "      <td>19.80</td>\n",
       "      <td>54.0</td>\n",
       "      <td>54.0</td>\n",
       "      <td>79.0</td>\n",
       "      <td>4</td>\n",
       "      <td>False</td>\n",
       "      <td>...</td>\n",
       "      <td>{4: 1.08 ang}</td>\n",
       "      <td>5093.0</td>\n",
       "      <td>350.0</td>\n",
       "      <td>1.080000</td>\n",
       "      <td>2115.00</td>\n",
       "      <td>31.0</td>\n",
       "      <td>90</td>\n",
       "      <td>90</td>\n",
       "      <td>11724.0</td>\n",
       "      <td>0.000011</td>\n",
       "    </tr>\n",
       "  </tbody>\n",
       "</table>\n",
       "<p>5 rows × 35 columns</p>\n",
       "</div>"
      ],
      "text/plain": [
       "    atomic_mass  poissons_ratio  atomic_radius  electrical_resistivity  \\\n",
       "Ag   107.868200            0.37           1.60            1.630000e-08   \n",
       "Al    26.981539            0.35           1.25            2.700000e-08   \n",
       "Au   196.966569            0.44           1.35            2.200000e-08   \n",
       "Pb   207.200000            0.44           1.80            2.100000e-07   \n",
       "Th   232.038060            0.27           1.80            1.500000e-07   \n",
       "\n",
       "    molar_volume  thermal_conductivity  bulk_modulus  youngs_modulus  group  \\\n",
       "Ag         10.27                 430.0         100.0            83.0     11   \n",
       "Al         10.00                 235.0          76.0            70.0     13   \n",
       "Au         10.21                 320.0         220.0            78.0     11   \n",
       "Pb         18.26                  35.0          46.0            16.0     14   \n",
       "Th         19.80                  54.0          54.0            79.0      4   \n",
       "\n",
       "    is_noble_gas  ...                              ionic_radii  boiling_point  \\\n",
       "Ag         False  ...  {1: 1.29 ang, 2: 1.08 ang, 3: 0.89 ang}         2435.0   \n",
       "Al         False  ...                           {3: 0.675 ang}         2792.0   \n",
       "Au         False  ...  {1: 1.51 ang, 3: 0.99 ang, 5: 0.71 ang}         3129.0   \n",
       "Pb         False  ...              {2: 1.33 ang, 4: 0.915 ang}         2022.0   \n",
       "Th         False  ...                            {4: 1.08 ang}         5093.0   \n",
       "\n",
       "    vickers_hardness  average_ionic_radius  melting_point  rigidity_modulus  \\\n",
       "Ag             251.0              1.086667        1234.93              30.0   \n",
       "Al             167.0              0.675000         933.47              26.0   \n",
       "Au             216.0              1.070000        1337.33              27.0   \n",
       "Pb               NaN              1.122500         600.61               5.6   \n",
       "Th             350.0              1.080000        2115.00              31.0   \n",
       "\n",
       "     Z  number  density_of_solid  coefficient_of_linear_thermal_expansion  \n",
       "Ag  47      47           10490.0                                 0.000019  \n",
       "Al  13      13            2700.0                                 0.000023  \n",
       "Au  79      79           19300.0                                 0.000014  \n",
       "Pb  82      82           11340.0                                 0.000029  \n",
       "Th  90      90           11724.0                                 0.000011  \n",
       "\n",
       "[5 rows x 35 columns]"
      ]
     },
     "metadata": {},
     "output_type": "display_data"
    }
   ],
   "source": [
    "df_condition = df[(df['youngs_modulus'] < 120) & (df[\"poissons_ratio\"] > 0.25)]\n",
    "display(df_condition)"
   ]
  },
  {
   "cell_type": "markdown",
   "metadata": {},
   "source": [
    "### 3. Plotting\n",
    "\n",
    "Finally, we are going to plot the values for the properties in the lists we just created. For this tutorial we will make two scatter plots:\n",
    "\n",
    "-  Young's Modulus vs Melting Temperature\n",
    "-  Coefficient of Linear Thermal Expansion vs Melting Temperature\n",
    "\n",
    "We will be using a Python library called [Plotly](https://plot.ly/python/) to create these plots. This library allows you to create plots that are really interactive and highly customizable. <br>\n",
    "\n",
    "#### Simple Plot\n",
    "\n",
    "In this first cell we will import the library components we will use and create a simple plot."
   ]
  },
  {
   "cell_type": "code",
   "execution_count": 59,
   "metadata": {},
   "outputs": [
    {
     "data": {
      "text/html": [
       "        <script type=\"text/javascript\">\n",
       "        window.PlotlyConfig = {MathJaxConfig: 'local'};\n",
       "        if (window.MathJax) {MathJax.Hub.Config({SVG: {font: \"STIX-Web\"}});}\n",
       "        if (typeof require !== 'undefined') {\n",
       "        require.undef(\"plotly\");\n",
       "        requirejs.config({\n",
       "            paths: {\n",
       "                'plotly': ['https://cdn.plot.ly/plotly-latest.min']\n",
       "            }\n",
       "        });\n",
       "        require(['plotly'], function(Plotly) {\n",
       "            window._Plotly = Plotly;\n",
       "        });\n",
       "        }\n",
       "        </script>\n",
       "        "
      ]
     },
     "metadata": {},
     "output_type": "display_data"
    },
    {
     "data": {
      "application/vnd.plotly.v1+json": {
       "config": {
        "linkText": "Export to plot.ly",
        "plotlyServerURL": "https://plot.ly",
        "showLink": false
       },
       "data": [
        {
         "marker": {
          "color": "blue",
          "line": {
           "width": 1
          },
          "size": 12
         },
         "mode": "markers",
         "type": "scatter",
         "x": [
          14.01,
          0.95,
          453.69,
          1560,
          2349,
          3800,
          63.05,
          54.8,
          53.53,
          24.56,
          370.87,
          923,
          933.47,
          1687,
          317.3,
          388.36,
          171.6,
          83.8,
          336.53,
          1115,
          1814,
          1941,
          2183,
          2180,
          1519,
          1811,
          1768,
          1728,
          1357.77,
          692.68,
          302.91,
          1211.4,
          1090,
          494,
          265.8,
          115.79,
          312.46,
          1050,
          1799,
          2128,
          2750,
          2896,
          2430,
          2607,
          2237,
          1828.05,
          1234.93,
          594.22,
          429.75,
          505.08,
          903.78,
          722.66,
          386.85,
          161.4,
          301.59,
          1000,
          2506,
          3290,
          3695,
          3459,
          3306,
          2739,
          2041.4,
          1337.33,
          234.32,
          577,
          600.61,
          544.4,
          527,
          575,
          202,
          "maybe about 300 K",
          973,
          1900,
          1193,
          1068,
          1208,
          1297,
          1373,
          1345,
          1099,
          1585,
          1629,
          1680,
          1734,
          1802,
          1818,
          1097,
          1925,
          1323,
          2115,
          1841,
          1405.3,
          910,
          912.5,
          1449,
          1613,
          1259,
          1173,
          1133,
          1800,
          1100,
          1100
         ],
         "y": [
          null,
          null,
          4.9,
          287,
          null,
          null,
          null,
          null,
          null,
          null,
          10,
          45,
          70,
          47,
          null,
          null,
          null,
          null,
          null,
          20,
          74,
          116,
          128,
          279,
          198,
          211,
          209,
          200,
          130,
          108,
          null,
          null,
          8,
          10,
          null,
          null,
          2.4,
          null,
          64,
          68,
          105,
          329,
          null,
          447,
          275,
          121,
          83,
          50,
          11,
          50,
          55,
          43,
          null,
          null,
          1.7,
          13,
          78,
          186,
          411,
          463,
          null,
          528,
          168,
          78,
          null,
          8,
          16,
          32,
          null,
          null,
          null,
          null,
          null,
          null,
          37,
          34,
          37,
          41,
          46,
          50,
          18,
          55,
          56,
          61,
          65,
          70,
          74,
          24,
          69,
          null,
          79,
          null,
          208,
          null,
          96,
          null,
          null,
          null,
          null,
          null,
          null,
          null,
          null
         ]
        }
       ],
       "layout": {
        "template": {
         "data": {
          "bar": [
           {
            "error_x": {
             "color": "#2a3f5f"
            },
            "error_y": {
             "color": "#2a3f5f"
            },
            "marker": {
             "line": {
              "color": "#E5ECF6",
              "width": 0.5
             }
            },
            "type": "bar"
           }
          ],
          "barpolar": [
           {
            "marker": {
             "line": {
              "color": "#E5ECF6",
              "width": 0.5
             }
            },
            "type": "barpolar"
           }
          ],
          "carpet": [
           {
            "aaxis": {
             "endlinecolor": "#2a3f5f",
             "gridcolor": "white",
             "linecolor": "white",
             "minorgridcolor": "white",
             "startlinecolor": "#2a3f5f"
            },
            "baxis": {
             "endlinecolor": "#2a3f5f",
             "gridcolor": "white",
             "linecolor": "white",
             "minorgridcolor": "white",
             "startlinecolor": "#2a3f5f"
            },
            "type": "carpet"
           }
          ],
          "choropleth": [
           {
            "colorbar": {
             "outlinewidth": 0,
             "ticks": ""
            },
            "type": "choropleth"
           }
          ],
          "contour": [
           {
            "colorbar": {
             "outlinewidth": 0,
             "ticks": ""
            },
            "colorscale": [
             [
              0,
              "#0d0887"
             ],
             [
              0.1111111111111111,
              "#46039f"
             ],
             [
              0.2222222222222222,
              "#7201a8"
             ],
             [
              0.3333333333333333,
              "#9c179e"
             ],
             [
              0.4444444444444444,
              "#bd3786"
             ],
             [
              0.5555555555555556,
              "#d8576b"
             ],
             [
              0.6666666666666666,
              "#ed7953"
             ],
             [
              0.7777777777777778,
              "#fb9f3a"
             ],
             [
              0.8888888888888888,
              "#fdca26"
             ],
             [
              1,
              "#f0f921"
             ]
            ],
            "type": "contour"
           }
          ],
          "contourcarpet": [
           {
            "colorbar": {
             "outlinewidth": 0,
             "ticks": ""
            },
            "type": "contourcarpet"
           }
          ],
          "heatmap": [
           {
            "colorbar": {
             "outlinewidth": 0,
             "ticks": ""
            },
            "colorscale": [
             [
              0,
              "#0d0887"
             ],
             [
              0.1111111111111111,
              "#46039f"
             ],
             [
              0.2222222222222222,
              "#7201a8"
             ],
             [
              0.3333333333333333,
              "#9c179e"
             ],
             [
              0.4444444444444444,
              "#bd3786"
             ],
             [
              0.5555555555555556,
              "#d8576b"
             ],
             [
              0.6666666666666666,
              "#ed7953"
             ],
             [
              0.7777777777777778,
              "#fb9f3a"
             ],
             [
              0.8888888888888888,
              "#fdca26"
             ],
             [
              1,
              "#f0f921"
             ]
            ],
            "type": "heatmap"
           }
          ],
          "heatmapgl": [
           {
            "colorbar": {
             "outlinewidth": 0,
             "ticks": ""
            },
            "colorscale": [
             [
              0,
              "#0d0887"
             ],
             [
              0.1111111111111111,
              "#46039f"
             ],
             [
              0.2222222222222222,
              "#7201a8"
             ],
             [
              0.3333333333333333,
              "#9c179e"
             ],
             [
              0.4444444444444444,
              "#bd3786"
             ],
             [
              0.5555555555555556,
              "#d8576b"
             ],
             [
              0.6666666666666666,
              "#ed7953"
             ],
             [
              0.7777777777777778,
              "#fb9f3a"
             ],
             [
              0.8888888888888888,
              "#fdca26"
             ],
             [
              1,
              "#f0f921"
             ]
            ],
            "type": "heatmapgl"
           }
          ],
          "histogram": [
           {
            "marker": {
             "colorbar": {
              "outlinewidth": 0,
              "ticks": ""
             }
            },
            "type": "histogram"
           }
          ],
          "histogram2d": [
           {
            "colorbar": {
             "outlinewidth": 0,
             "ticks": ""
            },
            "colorscale": [
             [
              0,
              "#0d0887"
             ],
             [
              0.1111111111111111,
              "#46039f"
             ],
             [
              0.2222222222222222,
              "#7201a8"
             ],
             [
              0.3333333333333333,
              "#9c179e"
             ],
             [
              0.4444444444444444,
              "#bd3786"
             ],
             [
              0.5555555555555556,
              "#d8576b"
             ],
             [
              0.6666666666666666,
              "#ed7953"
             ],
             [
              0.7777777777777778,
              "#fb9f3a"
             ],
             [
              0.8888888888888888,
              "#fdca26"
             ],
             [
              1,
              "#f0f921"
             ]
            ],
            "type": "histogram2d"
           }
          ],
          "histogram2dcontour": [
           {
            "colorbar": {
             "outlinewidth": 0,
             "ticks": ""
            },
            "colorscale": [
             [
              0,
              "#0d0887"
             ],
             [
              0.1111111111111111,
              "#46039f"
             ],
             [
              0.2222222222222222,
              "#7201a8"
             ],
             [
              0.3333333333333333,
              "#9c179e"
             ],
             [
              0.4444444444444444,
              "#bd3786"
             ],
             [
              0.5555555555555556,
              "#d8576b"
             ],
             [
              0.6666666666666666,
              "#ed7953"
             ],
             [
              0.7777777777777778,
              "#fb9f3a"
             ],
             [
              0.8888888888888888,
              "#fdca26"
             ],
             [
              1,
              "#f0f921"
             ]
            ],
            "type": "histogram2dcontour"
           }
          ],
          "mesh3d": [
           {
            "colorbar": {
             "outlinewidth": 0,
             "ticks": ""
            },
            "type": "mesh3d"
           }
          ],
          "parcoords": [
           {
            "line": {
             "colorbar": {
              "outlinewidth": 0,
              "ticks": ""
             }
            },
            "type": "parcoords"
           }
          ],
          "pie": [
           {
            "automargin": true,
            "type": "pie"
           }
          ],
          "scatter": [
           {
            "marker": {
             "colorbar": {
              "outlinewidth": 0,
              "ticks": ""
             }
            },
            "type": "scatter"
           }
          ],
          "scatter3d": [
           {
            "line": {
             "colorbar": {
              "outlinewidth": 0,
              "ticks": ""
             }
            },
            "marker": {
             "colorbar": {
              "outlinewidth": 0,
              "ticks": ""
             }
            },
            "type": "scatter3d"
           }
          ],
          "scattercarpet": [
           {
            "marker": {
             "colorbar": {
              "outlinewidth": 0,
              "ticks": ""
             }
            },
            "type": "scattercarpet"
           }
          ],
          "scattergeo": [
           {
            "marker": {
             "colorbar": {
              "outlinewidth": 0,
              "ticks": ""
             }
            },
            "type": "scattergeo"
           }
          ],
          "scattergl": [
           {
            "marker": {
             "colorbar": {
              "outlinewidth": 0,
              "ticks": ""
             }
            },
            "type": "scattergl"
           }
          ],
          "scattermapbox": [
           {
            "marker": {
             "colorbar": {
              "outlinewidth": 0,
              "ticks": ""
             }
            },
            "type": "scattermapbox"
           }
          ],
          "scatterpolar": [
           {
            "marker": {
             "colorbar": {
              "outlinewidth": 0,
              "ticks": ""
             }
            },
            "type": "scatterpolar"
           }
          ],
          "scatterpolargl": [
           {
            "marker": {
             "colorbar": {
              "outlinewidth": 0,
              "ticks": ""
             }
            },
            "type": "scatterpolargl"
           }
          ],
          "scatterternary": [
           {
            "marker": {
             "colorbar": {
              "outlinewidth": 0,
              "ticks": ""
             }
            },
            "type": "scatterternary"
           }
          ],
          "surface": [
           {
            "colorbar": {
             "outlinewidth": 0,
             "ticks": ""
            },
            "colorscale": [
             [
              0,
              "#0d0887"
             ],
             [
              0.1111111111111111,
              "#46039f"
             ],
             [
              0.2222222222222222,
              "#7201a8"
             ],
             [
              0.3333333333333333,
              "#9c179e"
             ],
             [
              0.4444444444444444,
              "#bd3786"
             ],
             [
              0.5555555555555556,
              "#d8576b"
             ],
             [
              0.6666666666666666,
              "#ed7953"
             ],
             [
              0.7777777777777778,
              "#fb9f3a"
             ],
             [
              0.8888888888888888,
              "#fdca26"
             ],
             [
              1,
              "#f0f921"
             ]
            ],
            "type": "surface"
           }
          ],
          "table": [
           {
            "cells": {
             "fill": {
              "color": "#EBF0F8"
             },
             "line": {
              "color": "white"
             }
            },
            "header": {
             "fill": {
              "color": "#C8D4E3"
             },
             "line": {
              "color": "white"
             }
            },
            "type": "table"
           }
          ]
         },
         "layout": {
          "annotationdefaults": {
           "arrowcolor": "#2a3f5f",
           "arrowhead": 0,
           "arrowwidth": 1
          },
          "coloraxis": {
           "colorbar": {
            "outlinewidth": 0,
            "ticks": ""
           }
          },
          "colorscale": {
           "diverging": [
            [
             0,
             "#8e0152"
            ],
            [
             0.1,
             "#c51b7d"
            ],
            [
             0.2,
             "#de77ae"
            ],
            [
             0.3,
             "#f1b6da"
            ],
            [
             0.4,
             "#fde0ef"
            ],
            [
             0.5,
             "#f7f7f7"
            ],
            [
             0.6,
             "#e6f5d0"
            ],
            [
             0.7,
             "#b8e186"
            ],
            [
             0.8,
             "#7fbc41"
            ],
            [
             0.9,
             "#4d9221"
            ],
            [
             1,
             "#276419"
            ]
           ],
           "sequential": [
            [
             0,
             "#0d0887"
            ],
            [
             0.1111111111111111,
             "#46039f"
            ],
            [
             0.2222222222222222,
             "#7201a8"
            ],
            [
             0.3333333333333333,
             "#9c179e"
            ],
            [
             0.4444444444444444,
             "#bd3786"
            ],
            [
             0.5555555555555556,
             "#d8576b"
            ],
            [
             0.6666666666666666,
             "#ed7953"
            ],
            [
             0.7777777777777778,
             "#fb9f3a"
            ],
            [
             0.8888888888888888,
             "#fdca26"
            ],
            [
             1,
             "#f0f921"
            ]
           ],
           "sequentialminus": [
            [
             0,
             "#0d0887"
            ],
            [
             0.1111111111111111,
             "#46039f"
            ],
            [
             0.2222222222222222,
             "#7201a8"
            ],
            [
             0.3333333333333333,
             "#9c179e"
            ],
            [
             0.4444444444444444,
             "#bd3786"
            ],
            [
             0.5555555555555556,
             "#d8576b"
            ],
            [
             0.6666666666666666,
             "#ed7953"
            ],
            [
             0.7777777777777778,
             "#fb9f3a"
            ],
            [
             0.8888888888888888,
             "#fdca26"
            ],
            [
             1,
             "#f0f921"
            ]
           ]
          },
          "colorway": [
           "#636efa",
           "#EF553B",
           "#00cc96",
           "#ab63fa",
           "#FFA15A",
           "#19d3f3",
           "#FF6692",
           "#B6E880",
           "#FF97FF",
           "#FECB52"
          ],
          "font": {
           "color": "#2a3f5f"
          },
          "geo": {
           "bgcolor": "white",
           "lakecolor": "white",
           "landcolor": "#E5ECF6",
           "showlakes": true,
           "showland": true,
           "subunitcolor": "white"
          },
          "hoverlabel": {
           "align": "left"
          },
          "hovermode": "closest",
          "mapbox": {
           "style": "light"
          },
          "paper_bgcolor": "white",
          "plot_bgcolor": "#E5ECF6",
          "polar": {
           "angularaxis": {
            "gridcolor": "white",
            "linecolor": "white",
            "ticks": ""
           },
           "bgcolor": "#E5ECF6",
           "radialaxis": {
            "gridcolor": "white",
            "linecolor": "white",
            "ticks": ""
           }
          },
          "scene": {
           "xaxis": {
            "backgroundcolor": "#E5ECF6",
            "gridcolor": "white",
            "gridwidth": 2,
            "linecolor": "white",
            "showbackground": true,
            "ticks": "",
            "zerolinecolor": "white"
           },
           "yaxis": {
            "backgroundcolor": "#E5ECF6",
            "gridcolor": "white",
            "gridwidth": 2,
            "linecolor": "white",
            "showbackground": true,
            "ticks": "",
            "zerolinecolor": "white"
           },
           "zaxis": {
            "backgroundcolor": "#E5ECF6",
            "gridcolor": "white",
            "gridwidth": 2,
            "linecolor": "white",
            "showbackground": true,
            "ticks": "",
            "zerolinecolor": "white"
           }
          },
          "shapedefaults": {
           "line": {
            "color": "#2a3f5f"
           }
          },
          "ternary": {
           "aaxis": {
            "gridcolor": "white",
            "linecolor": "white",
            "ticks": ""
           },
           "baxis": {
            "gridcolor": "white",
            "linecolor": "white",
            "ticks": ""
           },
           "bgcolor": "#E5ECF6",
           "caxis": {
            "gridcolor": "white",
            "linecolor": "white",
            "ticks": ""
           }
          },
          "title": {
           "x": 0.05
          },
          "xaxis": {
           "automargin": true,
           "gridcolor": "white",
           "linecolor": "white",
           "ticks": "",
           "title": {
            "standoff": 15
           },
           "zerolinecolor": "white",
           "zerolinewidth": 2
          },
          "yaxis": {
           "automargin": true,
           "gridcolor": "white",
           "linecolor": "white",
           "ticks": "",
           "title": {
            "standoff": 15
           },
           "zerolinecolor": "white",
           "zerolinewidth": 2
          }
         }
        },
        "title": {
         "text": "Young's Moduli's on Melting Temperature"
        },
        "xaxis": {
         "gridcolor": "LightPink",
         "gridwidth": 1,
         "showgrid": true,
         "title": {
          "text": "Melting Temperature [K]"
         }
        },
        "yaxis": {
         "gridcolor": "LightPink",
         "gridwidth": 1,
         "showgrid": true,
         "title": {
          "text": "Youngs Modulus [GPa]"
         }
        }
       }
      },
      "text/html": [
       "<div>\n",
       "        \n",
       "        \n",
       "            <div id=\"ad289ae4-9b56-447f-90bb-c3ee3788d325\" class=\"plotly-graph-div\" style=\"height:525px; width:100%;\"></div>\n",
       "            <script type=\"text/javascript\">\n",
       "                require([\"plotly\"], function(Plotly) {\n",
       "                    window.PLOTLYENV=window.PLOTLYENV || {};\n",
       "                    \n",
       "                if (document.getElementById(\"ad289ae4-9b56-447f-90bb-c3ee3788d325\")) {\n",
       "                    Plotly.newPlot(\n",
       "                        'ad289ae4-9b56-447f-90bb-c3ee3788d325',\n",
       "                        [{\"marker\": {\"color\": \"blue\", \"line\": {\"width\": 1}, \"size\": 12}, \"mode\": \"markers\", \"type\": \"scatter\", \"x\": [14.01, 0.95, 453.69, 1560.0, 2349.0, 3800.0, 63.05, 54.8, 53.53, 24.56, 370.87, 923.0, 933.47, 1687.0, 317.3, 388.36, 171.6, 83.8, 336.53, 1115.0, 1814.0, 1941.0, 2183.0, 2180.0, 1519.0, 1811.0, 1768.0, 1728.0, 1357.77, 692.68, 302.91, 1211.4, 1090.0, 494.0, 265.8, 115.79, 312.46, 1050.0, 1799.0, 2128.0, 2750.0, 2896.0, 2430.0, 2607.0, 2237.0, 1828.05, 1234.93, 594.22, 429.75, 505.08, 903.78, 722.66, 386.85, 161.4, 301.59, 1000.0, 2506.0, 3290.0, 3695.0, 3459.0, 3306.0, 2739.0, 2041.4, 1337.33, 234.32, 577.0, 600.61, 544.4, 527.0, 575.0, 202.0, \"maybe about 300 K\", 973.0, 1900.0, 1193.0, 1068.0, 1208.0, 1297.0, 1373.0, 1345.0, 1099.0, 1585.0, 1629.0, 1680.0, 1734.0, 1802.0, 1818.0, 1097.0, 1925.0, 1323.0, 2115.0, 1841.0, 1405.3, 910.0, 912.5, 1449.0, 1613.0, 1259.0, 1173.0, 1133.0, 1800.0, 1100.0, 1100.0], \"y\": [null, null, 4.9, 287.0, null, null, null, null, null, null, 10.0, 45.0, 70.0, 47.0, null, null, null, null, null, 20.0, 74.0, 116.0, 128.0, 279.0, 198.0, 211.0, 209.0, 200.0, 130.0, 108.0, null, null, 8.0, 10.0, null, null, 2.4, null, 64.0, 68.0, 105.0, 329.0, null, 447.0, 275.0, 121.0, 83.0, 50.0, 11.0, 50.0, 55.0, 43.0, null, null, 1.7, 13.0, 78.0, 186.0, 411.0, 463.0, null, 528.0, 168.0, 78.0, null, 8.0, 16.0, 32.0, null, null, null, null, null, null, 37.0, 34.0, 37.0, 41.0, 46.0, 50.0, 18.0, 55.0, 56.0, 61.0, 65.0, 70.0, 74.0, 24.0, 69.0, null, 79.0, null, 208.0, null, 96.0, null, null, null, null, null, null, null, null]}],\n",
       "                        {\"template\": {\"data\": {\"bar\": [{\"error_x\": {\"color\": \"#2a3f5f\"}, \"error_y\": {\"color\": \"#2a3f5f\"}, \"marker\": {\"line\": {\"color\": \"#E5ECF6\", \"width\": 0.5}}, \"type\": \"bar\"}], \"barpolar\": [{\"marker\": {\"line\": {\"color\": \"#E5ECF6\", \"width\": 0.5}}, \"type\": \"barpolar\"}], \"carpet\": [{\"aaxis\": {\"endlinecolor\": \"#2a3f5f\", \"gridcolor\": \"white\", \"linecolor\": \"white\", \"minorgridcolor\": \"white\", \"startlinecolor\": \"#2a3f5f\"}, \"baxis\": {\"endlinecolor\": \"#2a3f5f\", \"gridcolor\": \"white\", \"linecolor\": \"white\", \"minorgridcolor\": \"white\", \"startlinecolor\": \"#2a3f5f\"}, \"type\": \"carpet\"}], \"choropleth\": [{\"colorbar\": {\"outlinewidth\": 0, \"ticks\": \"\"}, \"type\": \"choropleth\"}], \"contour\": [{\"colorbar\": {\"outlinewidth\": 0, \"ticks\": \"\"}, \"colorscale\": [[0.0, \"#0d0887\"], [0.1111111111111111, \"#46039f\"], [0.2222222222222222, \"#7201a8\"], [0.3333333333333333, \"#9c179e\"], [0.4444444444444444, \"#bd3786\"], [0.5555555555555556, \"#d8576b\"], [0.6666666666666666, \"#ed7953\"], [0.7777777777777778, \"#fb9f3a\"], [0.8888888888888888, \"#fdca26\"], [1.0, \"#f0f921\"]], \"type\": \"contour\"}], \"contourcarpet\": [{\"colorbar\": {\"outlinewidth\": 0, \"ticks\": \"\"}, \"type\": \"contourcarpet\"}], \"heatmap\": [{\"colorbar\": {\"outlinewidth\": 0, \"ticks\": \"\"}, \"colorscale\": [[0.0, \"#0d0887\"], [0.1111111111111111, \"#46039f\"], [0.2222222222222222, \"#7201a8\"], [0.3333333333333333, \"#9c179e\"], [0.4444444444444444, \"#bd3786\"], [0.5555555555555556, \"#d8576b\"], [0.6666666666666666, \"#ed7953\"], [0.7777777777777778, \"#fb9f3a\"], [0.8888888888888888, \"#fdca26\"], [1.0, \"#f0f921\"]], \"type\": \"heatmap\"}], \"heatmapgl\": [{\"colorbar\": {\"outlinewidth\": 0, \"ticks\": \"\"}, \"colorscale\": [[0.0, \"#0d0887\"], [0.1111111111111111, \"#46039f\"], [0.2222222222222222, \"#7201a8\"], [0.3333333333333333, \"#9c179e\"], [0.4444444444444444, \"#bd3786\"], [0.5555555555555556, \"#d8576b\"], [0.6666666666666666, \"#ed7953\"], [0.7777777777777778, \"#fb9f3a\"], [0.8888888888888888, \"#fdca26\"], [1.0, \"#f0f921\"]], \"type\": \"heatmapgl\"}], \"histogram\": [{\"marker\": {\"colorbar\": {\"outlinewidth\": 0, \"ticks\": \"\"}}, \"type\": \"histogram\"}], \"histogram2d\": [{\"colorbar\": {\"outlinewidth\": 0, \"ticks\": \"\"}, \"colorscale\": [[0.0, \"#0d0887\"], [0.1111111111111111, \"#46039f\"], [0.2222222222222222, \"#7201a8\"], [0.3333333333333333, \"#9c179e\"], [0.4444444444444444, \"#bd3786\"], [0.5555555555555556, \"#d8576b\"], [0.6666666666666666, \"#ed7953\"], [0.7777777777777778, \"#fb9f3a\"], [0.8888888888888888, \"#fdca26\"], [1.0, \"#f0f921\"]], \"type\": \"histogram2d\"}], \"histogram2dcontour\": [{\"colorbar\": {\"outlinewidth\": 0, \"ticks\": \"\"}, \"colorscale\": [[0.0, \"#0d0887\"], [0.1111111111111111, \"#46039f\"], [0.2222222222222222, \"#7201a8\"], [0.3333333333333333, \"#9c179e\"], [0.4444444444444444, \"#bd3786\"], [0.5555555555555556, \"#d8576b\"], [0.6666666666666666, \"#ed7953\"], [0.7777777777777778, \"#fb9f3a\"], [0.8888888888888888, \"#fdca26\"], [1.0, \"#f0f921\"]], \"type\": \"histogram2dcontour\"}], \"mesh3d\": [{\"colorbar\": {\"outlinewidth\": 0, \"ticks\": \"\"}, \"type\": \"mesh3d\"}], \"parcoords\": [{\"line\": {\"colorbar\": {\"outlinewidth\": 0, \"ticks\": \"\"}}, \"type\": \"parcoords\"}], \"pie\": [{\"automargin\": true, \"type\": \"pie\"}], \"scatter\": [{\"marker\": {\"colorbar\": {\"outlinewidth\": 0, \"ticks\": \"\"}}, \"type\": \"scatter\"}], \"scatter3d\": [{\"line\": {\"colorbar\": {\"outlinewidth\": 0, \"ticks\": \"\"}}, \"marker\": {\"colorbar\": {\"outlinewidth\": 0, \"ticks\": \"\"}}, \"type\": \"scatter3d\"}], \"scattercarpet\": [{\"marker\": {\"colorbar\": {\"outlinewidth\": 0, \"ticks\": \"\"}}, \"type\": \"scattercarpet\"}], \"scattergeo\": [{\"marker\": {\"colorbar\": {\"outlinewidth\": 0, \"ticks\": \"\"}}, \"type\": \"scattergeo\"}], \"scattergl\": [{\"marker\": {\"colorbar\": {\"outlinewidth\": 0, \"ticks\": \"\"}}, \"type\": \"scattergl\"}], \"scattermapbox\": [{\"marker\": {\"colorbar\": {\"outlinewidth\": 0, \"ticks\": \"\"}}, \"type\": \"scattermapbox\"}], \"scatterpolar\": [{\"marker\": {\"colorbar\": {\"outlinewidth\": 0, \"ticks\": \"\"}}, \"type\": \"scatterpolar\"}], \"scatterpolargl\": [{\"marker\": {\"colorbar\": {\"outlinewidth\": 0, \"ticks\": \"\"}}, \"type\": \"scatterpolargl\"}], \"scatterternary\": [{\"marker\": {\"colorbar\": {\"outlinewidth\": 0, \"ticks\": \"\"}}, \"type\": \"scatterternary\"}], \"surface\": [{\"colorbar\": {\"outlinewidth\": 0, \"ticks\": \"\"}, \"colorscale\": [[0.0, \"#0d0887\"], [0.1111111111111111, \"#46039f\"], [0.2222222222222222, \"#7201a8\"], [0.3333333333333333, \"#9c179e\"], [0.4444444444444444, \"#bd3786\"], [0.5555555555555556, \"#d8576b\"], [0.6666666666666666, \"#ed7953\"], [0.7777777777777778, \"#fb9f3a\"], [0.8888888888888888, \"#fdca26\"], [1.0, \"#f0f921\"]], \"type\": \"surface\"}], \"table\": [{\"cells\": {\"fill\": {\"color\": \"#EBF0F8\"}, \"line\": {\"color\": \"white\"}}, \"header\": {\"fill\": {\"color\": \"#C8D4E3\"}, \"line\": {\"color\": \"white\"}}, \"type\": \"table\"}]}, \"layout\": {\"annotationdefaults\": {\"arrowcolor\": \"#2a3f5f\", \"arrowhead\": 0, \"arrowwidth\": 1}, \"coloraxis\": {\"colorbar\": {\"outlinewidth\": 0, \"ticks\": \"\"}}, \"colorscale\": {\"diverging\": [[0, \"#8e0152\"], [0.1, \"#c51b7d\"], [0.2, \"#de77ae\"], [0.3, \"#f1b6da\"], [0.4, \"#fde0ef\"], [0.5, \"#f7f7f7\"], [0.6, \"#e6f5d0\"], [0.7, \"#b8e186\"], [0.8, \"#7fbc41\"], [0.9, \"#4d9221\"], [1, \"#276419\"]], \"sequential\": [[0.0, \"#0d0887\"], [0.1111111111111111, \"#46039f\"], [0.2222222222222222, \"#7201a8\"], [0.3333333333333333, \"#9c179e\"], [0.4444444444444444, \"#bd3786\"], [0.5555555555555556, \"#d8576b\"], [0.6666666666666666, \"#ed7953\"], [0.7777777777777778, \"#fb9f3a\"], [0.8888888888888888, \"#fdca26\"], [1.0, \"#f0f921\"]], \"sequentialminus\": [[0.0, \"#0d0887\"], [0.1111111111111111, \"#46039f\"], [0.2222222222222222, \"#7201a8\"], [0.3333333333333333, \"#9c179e\"], [0.4444444444444444, \"#bd3786\"], [0.5555555555555556, \"#d8576b\"], [0.6666666666666666, \"#ed7953\"], [0.7777777777777778, \"#fb9f3a\"], [0.8888888888888888, \"#fdca26\"], [1.0, \"#f0f921\"]]}, \"colorway\": [\"#636efa\", \"#EF553B\", \"#00cc96\", \"#ab63fa\", \"#FFA15A\", \"#19d3f3\", \"#FF6692\", \"#B6E880\", \"#FF97FF\", \"#FECB52\"], \"font\": {\"color\": \"#2a3f5f\"}, \"geo\": {\"bgcolor\": \"white\", \"lakecolor\": \"white\", \"landcolor\": \"#E5ECF6\", \"showlakes\": true, \"showland\": true, \"subunitcolor\": \"white\"}, \"hoverlabel\": {\"align\": \"left\"}, \"hovermode\": \"closest\", \"mapbox\": {\"style\": \"light\"}, \"paper_bgcolor\": \"white\", \"plot_bgcolor\": \"#E5ECF6\", \"polar\": {\"angularaxis\": {\"gridcolor\": \"white\", \"linecolor\": \"white\", \"ticks\": \"\"}, \"bgcolor\": \"#E5ECF6\", \"radialaxis\": {\"gridcolor\": \"white\", \"linecolor\": \"white\", \"ticks\": \"\"}}, \"scene\": {\"xaxis\": {\"backgroundcolor\": \"#E5ECF6\", \"gridcolor\": \"white\", \"gridwidth\": 2, \"linecolor\": \"white\", \"showbackground\": true, \"ticks\": \"\", \"zerolinecolor\": \"white\"}, \"yaxis\": {\"backgroundcolor\": \"#E5ECF6\", \"gridcolor\": \"white\", \"gridwidth\": 2, \"linecolor\": \"white\", \"showbackground\": true, \"ticks\": \"\", \"zerolinecolor\": \"white\"}, \"zaxis\": {\"backgroundcolor\": \"#E5ECF6\", \"gridcolor\": \"white\", \"gridwidth\": 2, \"linecolor\": \"white\", \"showbackground\": true, \"ticks\": \"\", \"zerolinecolor\": \"white\"}}, \"shapedefaults\": {\"line\": {\"color\": \"#2a3f5f\"}}, \"ternary\": {\"aaxis\": {\"gridcolor\": \"white\", \"linecolor\": \"white\", \"ticks\": \"\"}, \"baxis\": {\"gridcolor\": \"white\", \"linecolor\": \"white\", \"ticks\": \"\"}, \"bgcolor\": \"#E5ECF6\", \"caxis\": {\"gridcolor\": \"white\", \"linecolor\": \"white\", \"ticks\": \"\"}}, \"title\": {\"x\": 0.05}, \"xaxis\": {\"automargin\": true, \"gridcolor\": \"white\", \"linecolor\": \"white\", \"ticks\": \"\", \"title\": {\"standoff\": 15}, \"zerolinecolor\": \"white\", \"zerolinewidth\": 2}, \"yaxis\": {\"automargin\": true, \"gridcolor\": \"white\", \"linecolor\": \"white\", \"ticks\": \"\", \"title\": {\"standoff\": 15}, \"zerolinecolor\": \"white\", \"zerolinewidth\": 2}}}, \"title\": {\"text\": \"Young's Moduli's on Melting Temperature\"}, \"xaxis\": {\"gridcolor\": \"LightPink\", \"gridwidth\": 1, \"showgrid\": true, \"title\": {\"text\": \"Melting Temperature [K]\"}}, \"yaxis\": {\"gridcolor\": \"LightPink\", \"gridwidth\": 1, \"showgrid\": true, \"title\": {\"text\": \"Youngs Modulus [GPa]\"}}},\n",
       "                        {\"responsive\": true}\n",
       "                    ).then(function(){\n",
       "                            \n",
       "var gd = document.getElementById('ad289ae4-9b56-447f-90bb-c3ee3788d325');\n",
       "var x = new MutationObserver(function (mutations, observer) {{\n",
       "        var display = window.getComputedStyle(gd).display;\n",
       "        if (!display || display === 'none') {{\n",
       "            console.log([gd, 'removed!']);\n",
       "            Plotly.purge(gd);\n",
       "            observer.disconnect();\n",
       "        }}\n",
       "}});\n",
       "\n",
       "// Listen for the removal of the full notebook cells\n",
       "var notebookContainer = gd.closest('#notebook-container');\n",
       "if (notebookContainer) {{\n",
       "    x.observe(notebookContainer, {childList: true});\n",
       "}}\n",
       "\n",
       "// Listen for the clearing of the current output cell\n",
       "var outputEl = gd.closest('.output');\n",
       "if (outputEl) {{\n",
       "    x.observe(outputEl, {childList: true});\n",
       "}}\n",
       "\n",
       "                        })\n",
       "                };\n",
       "                });\n",
       "            </script>\n",
       "        </div>"
      ]
     },
     "metadata": {},
     "output_type": "display_data"
    }
   ],
   "source": [
    "import plotly #This is the library import\n",
    "import plotly.graph_objs as go # This is the graphical object (Think \"plt\" in Matplotlib if you have used that before)\n",
    "\n",
    "from plotly.offline import iplot # These lines are necessary to run Plotly in Jupyter Notebooks, but not in a dedicated environment\n",
    "plotly.offline.init_notebook_mode(connected=True)\n",
    "\n",
    "# To create a plot, you need a layout and a trace\n",
    "\n",
    "# The layout gives Plotly the instructions on the background grids, tiles in the plot, \n",
    "# axes names, axes ticks, legends, labels, colors on the figure and general formatting.\n",
    "\n",
    "layout = go.Layout(title = \"Young's Moduli's on Melting Temperature\",xaxis= dict(title= 'Melting Temperature [K]'), \n",
    "                   yaxis= dict(title= 'Youngs Modulus [GPa]'))\n",
    "\n",
    "# The trace contains a type of plot (In this case, Scatter, but it can be \"Bars, Lines, Pie Charts\", etc.), \n",
    "# the data we want to visualize and the way (\"Mode\") we want to represent it.\n",
    "\n",
    "trace = go.Scatter(x = melting_temperature, y = youngs_modulus, mode = 'markers', marker=dict(size=12,  line= dict(width=1),color='blue'))\n",
    "\n",
    "# To plot, we create a figure and implement our components in the following way:\n",
    "\n",
    "data = [trace] # We could include more than just one trace here\n",
    "\n",
    "fig= go.Figure(data, layout=layout)\n",
    "fig.update_xaxes(showgrid=True, gridwidth=1, gridcolor='LightPink')\n",
    "fig.update_yaxes(showgrid=True, gridwidth=1, gridcolor='LightPink')\n",
    "iplot(fig)"
   ]
  },
  {
   "cell_type": "markdown",
   "metadata": {},
   "source": [
    "#### CUSTOM PLOTS\n",
    "\n",
    "Now that we know how to make a basic plot, we can start adding more details to end up with something that looks a little bit better. All modifications are explained in the comments, but you can also find that information [here](https://plot.ly/python/axes/).\n",
    "\n",
    "Before we start our new plot, wouldn't it look better if we could visualize the points with the elements' names and color them according to their crystal structures?"
   ]
  },
  {
   "cell_type": "code",
   "execution_count": 61,
   "metadata": {},
   "outputs": [
    {
     "name": "stdout",
     "output_type": "stream",
     "text": [
      "['green', 'green', 'red', 'orange', 'green', 'green', 'green', 'green', 'green', 'green', 'red', 'orange', 'blue', 'green', 'red', 'green', 'green', 'green', 'red', 'orange', 'orange', 'orange', 'red', 'red', 'red', 'red', 'orange', 'blue', 'blue', 'orange', 'green', 'green', 'green', 'green', 'green', 'green', 'red', 'blue', 'orange', 'orange', 'red', 'red', 'orange', 'orange', 'blue', 'blue', 'blue', 'orange', 'green', 'green', 'green', 'green', 'green', 'green', 'red', 'red', 'orange', 'red', 'red', 'orange', 'orange', 'blue', 'blue', 'blue', 'green', 'orange', 'blue', 'green', 'green', 'green', 'green', 'green', 'green', 'green', 'green', 'green', 'green', 'green', 'green', 'green', 'red', 'orange', 'orange', 'orange', 'orange', 'orange', 'orange', 'blue', 'orange', 'green', 'blue', 'green', 'green', 'green', 'green', 'green', 'green', 'green', 'green', 'green', 'green', 'green', 'green']\n"
     ]
    }
   ],
   "source": [
    "# Here we are creating a function that takes a value X (Which will be the Symbol of the Element) \n",
    "# and returns a color depending on what its crystal structure is in our arrays from the beginning.\n",
    "# That is because we want to color data according to the crystal structure; therefore, we will have to pass this info to the plot\n",
    "\n",
    "def SetColor_CrystalStr(x):\n",
    "    if x in fcc_elements:\n",
    "        return \"blue\" #This are standard CSS colors, but you can also use Hexadecimal Colors (#009900) or RGB \"rgb(0, 128, 0)\"\n",
    "    elif x in bcc_elements:\n",
    "        return \"red\"\n",
    "    elif x in hcp_elements:\n",
    "        return \"orange\"\n",
    "    else:\n",
    "        return \"green\"\n",
    "    \n",
    "# We will then create a list that passes all element symbols through this function. For that we will use the python function \"map\"    \n",
    "# Map takes each element on a list and evaluates it in a function.\n",
    "\n",
    "colors = list(map(SetColor_CrystalStr, sample))\n",
    "\n",
    "# You can see this list of generated colors looks like by uncommenting this line\n",
    "\n",
    "print(colors)"
   ]
  },
  {
   "cell_type": "code",
   "execution_count": 75,
   "metadata": {},
   "outputs": [
    {
     "data": {
      "application/vnd.plotly.v1+json": {
       "config": {
        "linkText": "Export to plot.ly",
        "plotlyServerURL": "https://plot.ly",
        "showLink": false
       },
       "data": [
        {
         "marker": {
          "color": [
           "green",
           "green",
           "red",
           "orange",
           "green",
           "green",
           "green",
           "green",
           "green",
           "green",
           "red",
           "orange",
           "blue",
           "green",
           "red",
           "green",
           "green",
           "green",
           "red",
           "orange",
           "orange",
           "orange",
           "red",
           "red",
           "red",
           "red",
           "orange",
           "blue",
           "blue",
           "orange",
           "green",
           "green",
           "green",
           "green",
           "green",
           "green",
           "red",
           "blue",
           "orange",
           "orange",
           "red",
           "red",
           "orange",
           "orange",
           "blue",
           "blue",
           "blue",
           "orange",
           "green",
           "green",
           "green",
           "green",
           "green",
           "green",
           "red",
           "red",
           "orange",
           "red",
           "red",
           "orange",
           "orange",
           "blue",
           "blue",
           "blue",
           "green",
           "orange",
           "blue",
           "green",
           "green",
           "green",
           "green",
           "green",
           "green",
           "green",
           "green",
           "green",
           "green",
           "green",
           "green",
           "green",
           "red",
           "orange",
           "orange",
           "orange",
           "orange",
           "orange",
           "orange",
           "blue",
           "orange",
           "green",
           "blue",
           "green",
           "green",
           "green",
           "green",
           "green",
           "green",
           "green",
           "green",
           "green",
           "green",
           "green",
           "green"
          ],
          "line": {
           "width": 1
          },
          "size": 18
         },
         "mode": "markers",
         "showlegend": false,
         "text": [
          "H",
          "He",
          "Li",
          "Be",
          "B",
          "C",
          "N",
          "O",
          "F",
          "Ne",
          "Na",
          "Mg",
          "Al",
          "Si",
          "P",
          "S",
          "Cl",
          "Ar",
          "K",
          "Ca",
          "Sc",
          "Ti",
          "V",
          "Cr",
          "Mn",
          "Fe",
          "Co",
          "Ni",
          "Cu",
          "Zn",
          "Ga",
          "Ge",
          "As",
          "Se",
          "Br",
          "Kr",
          "Rb",
          "Sr",
          "Y",
          "Zr",
          "Nb",
          "Mo",
          "Tc",
          "Ru",
          "Rh",
          "Pd",
          "Ag",
          "Cd",
          "In",
          "Sn",
          "Sb",
          "Te",
          "I",
          "Xe",
          "Cs",
          "Ba",
          "Hf",
          "Ta",
          "W",
          "Re",
          "Os",
          "Ir",
          "Pt",
          "Au",
          "Hg",
          "Tl",
          "Pb",
          "Bi",
          "Po",
          "At",
          "Rn",
          "Fr",
          "Ra",
          "Lr",
          "La",
          "Ce",
          "Pr",
          "Nd",
          "Pm",
          "Sm",
          "Eu",
          "Gd",
          "Tb",
          "Dy",
          "Ho",
          "Er",
          "Tm",
          "Yb",
          "Lu",
          "Ac",
          "Th",
          "Pa",
          "U",
          "Np",
          "Pu",
          "Am",
          "Cm",
          "Bk",
          "Cf",
          "Es",
          "Fm",
          "Md",
          "No"
         ],
         "type": "scatter",
         "x": [
          14.01,
          0.95,
          453.69,
          1560,
          2349,
          3800,
          63.05,
          54.8,
          53.53,
          24.56,
          370.87,
          923,
          933.47,
          1687,
          317.3,
          388.36,
          171.6,
          83.8,
          336.53,
          1115,
          1814,
          1941,
          2183,
          2180,
          1519,
          1811,
          1768,
          1728,
          1357.77,
          692.68,
          302.91,
          1211.4,
          1090,
          494,
          265.8,
          115.79,
          312.46,
          1050,
          1799,
          2128,
          2750,
          2896,
          2430,
          2607,
          2237,
          1828.05,
          1234.93,
          594.22,
          429.75,
          505.08,
          903.78,
          722.66,
          386.85,
          161.4,
          301.59,
          1000,
          2506,
          3290,
          3695,
          3459,
          3306,
          2739,
          2041.4,
          1337.33,
          234.32,
          577,
          600.61,
          544.4,
          527,
          575,
          202,
          "maybe about 300 K",
          973,
          1900,
          1193,
          1068,
          1208,
          1297,
          1373,
          1345,
          1099,
          1585,
          1629,
          1680,
          1734,
          1802,
          1818,
          1097,
          1925,
          1323,
          2115,
          1841,
          1405.3,
          910,
          912.5,
          1449,
          1613,
          1259,
          1173,
          1133,
          1800,
          1100,
          1100
         ],
         "y": [
          null,
          null,
          4.9,
          287,
          null,
          null,
          null,
          null,
          null,
          null,
          10,
          45,
          70,
          47,
          null,
          null,
          null,
          null,
          null,
          20,
          74,
          116,
          128,
          279,
          198,
          211,
          209,
          200,
          130,
          108,
          null,
          null,
          8,
          10,
          null,
          null,
          2.4,
          null,
          64,
          68,
          105,
          329,
          null,
          447,
          275,
          121,
          83,
          50,
          11,
          50,
          55,
          43,
          null,
          null,
          1.7,
          13,
          78,
          186,
          411,
          463,
          null,
          528,
          168,
          78,
          null,
          8,
          16,
          32,
          null,
          null,
          null,
          null,
          null,
          null,
          37,
          34,
          37,
          41,
          46,
          50,
          18,
          55,
          56,
          61,
          65,
          70,
          74,
          24,
          69,
          null,
          79,
          null,
          208,
          null,
          96,
          null,
          null,
          null,
          null,
          null,
          null,
          null,
          null
         ]
        },
        {
         "marker": {
          "color": "blue",
          "line": {
           "width": 1
          },
          "size": 14
         },
         "mode": "markers",
         "name": "FCC",
         "type": "scatter",
         "x": [
          null
         ],
         "y": [
          null
         ]
        },
        {
         "marker": {
          "color": "red",
          "line": {
           "width": 1
          },
          "size": 14
         },
         "mode": "markers",
         "name": "BCC",
         "type": "scatter",
         "x": [
          null
         ],
         "y": [
          null
         ]
        },
        {
         "marker": {
          "color": "orange",
          "line": {
           "width": 1
          },
          "size": 14
         },
         "mode": "markers",
         "name": "HCP",
         "type": "scatter",
         "x": [
          null
         ],
         "y": [
          null
         ]
        },
        {
         "marker": {
          "color": "green",
          "line": {
           "width": 1
          },
          "size": 14
         },
         "mode": "markers",
         "name": "Other",
         "type": "scatter",
         "x": [
          null
         ],
         "y": [
          null
         ]
        }
       ],
       "layout": {
        "font": {
         "family": "Arial"
        },
        "height": 800,
        "hovermode": "closest",
        "legend": {
         "font": {
          "size": 24
         }
        },
        "showlegend": true,
        "template": {
         "data": {
          "bar": [
           {
            "error_x": {
             "color": "#2a3f5f"
            },
            "error_y": {
             "color": "#2a3f5f"
            },
            "marker": {
             "line": {
              "color": "#E5ECF6",
              "width": 0.5
             }
            },
            "type": "bar"
           }
          ],
          "barpolar": [
           {
            "marker": {
             "line": {
              "color": "#E5ECF6",
              "width": 0.5
             }
            },
            "type": "barpolar"
           }
          ],
          "carpet": [
           {
            "aaxis": {
             "endlinecolor": "#2a3f5f",
             "gridcolor": "white",
             "linecolor": "white",
             "minorgridcolor": "white",
             "startlinecolor": "#2a3f5f"
            },
            "baxis": {
             "endlinecolor": "#2a3f5f",
             "gridcolor": "white",
             "linecolor": "white",
             "minorgridcolor": "white",
             "startlinecolor": "#2a3f5f"
            },
            "type": "carpet"
           }
          ],
          "choropleth": [
           {
            "colorbar": {
             "outlinewidth": 0,
             "ticks": ""
            },
            "type": "choropleth"
           }
          ],
          "contour": [
           {
            "colorbar": {
             "outlinewidth": 0,
             "ticks": ""
            },
            "colorscale": [
             [
              0,
              "#0d0887"
             ],
             [
              0.1111111111111111,
              "#46039f"
             ],
             [
              0.2222222222222222,
              "#7201a8"
             ],
             [
              0.3333333333333333,
              "#9c179e"
             ],
             [
              0.4444444444444444,
              "#bd3786"
             ],
             [
              0.5555555555555556,
              "#d8576b"
             ],
             [
              0.6666666666666666,
              "#ed7953"
             ],
             [
              0.7777777777777778,
              "#fb9f3a"
             ],
             [
              0.8888888888888888,
              "#fdca26"
             ],
             [
              1,
              "#f0f921"
             ]
            ],
            "type": "contour"
           }
          ],
          "contourcarpet": [
           {
            "colorbar": {
             "outlinewidth": 0,
             "ticks": ""
            },
            "type": "contourcarpet"
           }
          ],
          "heatmap": [
           {
            "colorbar": {
             "outlinewidth": 0,
             "ticks": ""
            },
            "colorscale": [
             [
              0,
              "#0d0887"
             ],
             [
              0.1111111111111111,
              "#46039f"
             ],
             [
              0.2222222222222222,
              "#7201a8"
             ],
             [
              0.3333333333333333,
              "#9c179e"
             ],
             [
              0.4444444444444444,
              "#bd3786"
             ],
             [
              0.5555555555555556,
              "#d8576b"
             ],
             [
              0.6666666666666666,
              "#ed7953"
             ],
             [
              0.7777777777777778,
              "#fb9f3a"
             ],
             [
              0.8888888888888888,
              "#fdca26"
             ],
             [
              1,
              "#f0f921"
             ]
            ],
            "type": "heatmap"
           }
          ],
          "heatmapgl": [
           {
            "colorbar": {
             "outlinewidth": 0,
             "ticks": ""
            },
            "colorscale": [
             [
              0,
              "#0d0887"
             ],
             [
              0.1111111111111111,
              "#46039f"
             ],
             [
              0.2222222222222222,
              "#7201a8"
             ],
             [
              0.3333333333333333,
              "#9c179e"
             ],
             [
              0.4444444444444444,
              "#bd3786"
             ],
             [
              0.5555555555555556,
              "#d8576b"
             ],
             [
              0.6666666666666666,
              "#ed7953"
             ],
             [
              0.7777777777777778,
              "#fb9f3a"
             ],
             [
              0.8888888888888888,
              "#fdca26"
             ],
             [
              1,
              "#f0f921"
             ]
            ],
            "type": "heatmapgl"
           }
          ],
          "histogram": [
           {
            "marker": {
             "colorbar": {
              "outlinewidth": 0,
              "ticks": ""
             }
            },
            "type": "histogram"
           }
          ],
          "histogram2d": [
           {
            "colorbar": {
             "outlinewidth": 0,
             "ticks": ""
            },
            "colorscale": [
             [
              0,
              "#0d0887"
             ],
             [
              0.1111111111111111,
              "#46039f"
             ],
             [
              0.2222222222222222,
              "#7201a8"
             ],
             [
              0.3333333333333333,
              "#9c179e"
             ],
             [
              0.4444444444444444,
              "#bd3786"
             ],
             [
              0.5555555555555556,
              "#d8576b"
             ],
             [
              0.6666666666666666,
              "#ed7953"
             ],
             [
              0.7777777777777778,
              "#fb9f3a"
             ],
             [
              0.8888888888888888,
              "#fdca26"
             ],
             [
              1,
              "#f0f921"
             ]
            ],
            "type": "histogram2d"
           }
          ],
          "histogram2dcontour": [
           {
            "colorbar": {
             "outlinewidth": 0,
             "ticks": ""
            },
            "colorscale": [
             [
              0,
              "#0d0887"
             ],
             [
              0.1111111111111111,
              "#46039f"
             ],
             [
              0.2222222222222222,
              "#7201a8"
             ],
             [
              0.3333333333333333,
              "#9c179e"
             ],
             [
              0.4444444444444444,
              "#bd3786"
             ],
             [
              0.5555555555555556,
              "#d8576b"
             ],
             [
              0.6666666666666666,
              "#ed7953"
             ],
             [
              0.7777777777777778,
              "#fb9f3a"
             ],
             [
              0.8888888888888888,
              "#fdca26"
             ],
             [
              1,
              "#f0f921"
             ]
            ],
            "type": "histogram2dcontour"
           }
          ],
          "mesh3d": [
           {
            "colorbar": {
             "outlinewidth": 0,
             "ticks": ""
            },
            "type": "mesh3d"
           }
          ],
          "parcoords": [
           {
            "line": {
             "colorbar": {
              "outlinewidth": 0,
              "ticks": ""
             }
            },
            "type": "parcoords"
           }
          ],
          "pie": [
           {
            "automargin": true,
            "type": "pie"
           }
          ],
          "scatter": [
           {
            "marker": {
             "colorbar": {
              "outlinewidth": 0,
              "ticks": ""
             }
            },
            "type": "scatter"
           }
          ],
          "scatter3d": [
           {
            "line": {
             "colorbar": {
              "outlinewidth": 0,
              "ticks": ""
             }
            },
            "marker": {
             "colorbar": {
              "outlinewidth": 0,
              "ticks": ""
             }
            },
            "type": "scatter3d"
           }
          ],
          "scattercarpet": [
           {
            "marker": {
             "colorbar": {
              "outlinewidth": 0,
              "ticks": ""
             }
            },
            "type": "scattercarpet"
           }
          ],
          "scattergeo": [
           {
            "marker": {
             "colorbar": {
              "outlinewidth": 0,
              "ticks": ""
             }
            },
            "type": "scattergeo"
           }
          ],
          "scattergl": [
           {
            "marker": {
             "colorbar": {
              "outlinewidth": 0,
              "ticks": ""
             }
            },
            "type": "scattergl"
           }
          ],
          "scattermapbox": [
           {
            "marker": {
             "colorbar": {
              "outlinewidth": 0,
              "ticks": ""
             }
            },
            "type": "scattermapbox"
           }
          ],
          "scatterpolar": [
           {
            "marker": {
             "colorbar": {
              "outlinewidth": 0,
              "ticks": ""
             }
            },
            "type": "scatterpolar"
           }
          ],
          "scatterpolargl": [
           {
            "marker": {
             "colorbar": {
              "outlinewidth": 0,
              "ticks": ""
             }
            },
            "type": "scatterpolargl"
           }
          ],
          "scatterternary": [
           {
            "marker": {
             "colorbar": {
              "outlinewidth": 0,
              "ticks": ""
             }
            },
            "type": "scatterternary"
           }
          ],
          "surface": [
           {
            "colorbar": {
             "outlinewidth": 0,
             "ticks": ""
            },
            "colorscale": [
             [
              0,
              "#0d0887"
             ],
             [
              0.1111111111111111,
              "#46039f"
             ],
             [
              0.2222222222222222,
              "#7201a8"
             ],
             [
              0.3333333333333333,
              "#9c179e"
             ],
             [
              0.4444444444444444,
              "#bd3786"
             ],
             [
              0.5555555555555556,
              "#d8576b"
             ],
             [
              0.6666666666666666,
              "#ed7953"
             ],
             [
              0.7777777777777778,
              "#fb9f3a"
             ],
             [
              0.8888888888888888,
              "#fdca26"
             ],
             [
              1,
              "#f0f921"
             ]
            ],
            "type": "surface"
           }
          ],
          "table": [
           {
            "cells": {
             "fill": {
              "color": "#EBF0F8"
             },
             "line": {
              "color": "white"
             }
            },
            "header": {
             "fill": {
              "color": "#C8D4E3"
             },
             "line": {
              "color": "white"
             }
            },
            "type": "table"
           }
          ]
         },
         "layout": {
          "annotationdefaults": {
           "arrowcolor": "#2a3f5f",
           "arrowhead": 0,
           "arrowwidth": 1
          },
          "coloraxis": {
           "colorbar": {
            "outlinewidth": 0,
            "ticks": ""
           }
          },
          "colorscale": {
           "diverging": [
            [
             0,
             "#8e0152"
            ],
            [
             0.1,
             "#c51b7d"
            ],
            [
             0.2,
             "#de77ae"
            ],
            [
             0.3,
             "#f1b6da"
            ],
            [
             0.4,
             "#fde0ef"
            ],
            [
             0.5,
             "#f7f7f7"
            ],
            [
             0.6,
             "#e6f5d0"
            ],
            [
             0.7,
             "#b8e186"
            ],
            [
             0.8,
             "#7fbc41"
            ],
            [
             0.9,
             "#4d9221"
            ],
            [
             1,
             "#276419"
            ]
           ],
           "sequential": [
            [
             0,
             "#0d0887"
            ],
            [
             0.1111111111111111,
             "#46039f"
            ],
            [
             0.2222222222222222,
             "#7201a8"
            ],
            [
             0.3333333333333333,
             "#9c179e"
            ],
            [
             0.4444444444444444,
             "#bd3786"
            ],
            [
             0.5555555555555556,
             "#d8576b"
            ],
            [
             0.6666666666666666,
             "#ed7953"
            ],
            [
             0.7777777777777778,
             "#fb9f3a"
            ],
            [
             0.8888888888888888,
             "#fdca26"
            ],
            [
             1,
             "#f0f921"
            ]
           ],
           "sequentialminus": [
            [
             0,
             "#0d0887"
            ],
            [
             0.1111111111111111,
             "#46039f"
            ],
            [
             0.2222222222222222,
             "#7201a8"
            ],
            [
             0.3333333333333333,
             "#9c179e"
            ],
            [
             0.4444444444444444,
             "#bd3786"
            ],
            [
             0.5555555555555556,
             "#d8576b"
            ],
            [
             0.6666666666666666,
             "#ed7953"
            ],
            [
             0.7777777777777778,
             "#fb9f3a"
            ],
            [
             0.8888888888888888,
             "#fdca26"
            ],
            [
             1,
             "#f0f921"
            ]
           ]
          },
          "colorway": [
           "#636efa",
           "#EF553B",
           "#00cc96",
           "#ab63fa",
           "#FFA15A",
           "#19d3f3",
           "#FF6692",
           "#B6E880",
           "#FF97FF",
           "#FECB52"
          ],
          "font": {
           "color": "#2a3f5f"
          },
          "geo": {
           "bgcolor": "white",
           "lakecolor": "white",
           "landcolor": "#E5ECF6",
           "showlakes": true,
           "showland": true,
           "subunitcolor": "white"
          },
          "hoverlabel": {
           "align": "left"
          },
          "hovermode": "closest",
          "mapbox": {
           "style": "light"
          },
          "paper_bgcolor": "white",
          "plot_bgcolor": "#E5ECF6",
          "polar": {
           "angularaxis": {
            "gridcolor": "white",
            "linecolor": "white",
            "ticks": ""
           },
           "bgcolor": "#E5ECF6",
           "radialaxis": {
            "gridcolor": "white",
            "linecolor": "white",
            "ticks": ""
           }
          },
          "scene": {
           "xaxis": {
            "backgroundcolor": "#E5ECF6",
            "gridcolor": "white",
            "gridwidth": 2,
            "linecolor": "white",
            "showbackground": true,
            "ticks": "",
            "zerolinecolor": "white"
           },
           "yaxis": {
            "backgroundcolor": "#E5ECF6",
            "gridcolor": "white",
            "gridwidth": 2,
            "linecolor": "white",
            "showbackground": true,
            "ticks": "",
            "zerolinecolor": "white"
           },
           "zaxis": {
            "backgroundcolor": "#E5ECF6",
            "gridcolor": "white",
            "gridwidth": 2,
            "linecolor": "white",
            "showbackground": true,
            "ticks": "",
            "zerolinecolor": "white"
           }
          },
          "shapedefaults": {
           "line": {
            "color": "#2a3f5f"
           }
          },
          "ternary": {
           "aaxis": {
            "gridcolor": "white",
            "linecolor": "white",
            "ticks": ""
           },
           "baxis": {
            "gridcolor": "white",
            "linecolor": "white",
            "ticks": ""
           },
           "bgcolor": "#E5ECF6",
           "caxis": {
            "gridcolor": "white",
            "linecolor": "white",
            "ticks": ""
           }
          },
          "title": {
           "x": 0.05
          },
          "xaxis": {
           "automargin": true,
           "gridcolor": "white",
           "linecolor": "white",
           "ticks": "",
           "title": {
            "standoff": 15
           },
           "zerolinecolor": "white",
           "zerolinewidth": 2
          },
          "yaxis": {
           "automargin": true,
           "gridcolor": "white",
           "linecolor": "white",
           "ticks": "",
           "title": {
            "standoff": 15
           },
           "zerolinecolor": "white",
           "zerolinewidth": 2
          }
         }
        },
        "title": {
         "font": {
          "color": "Black",
          "size": 38
         },
         "text": "Young's Moduli's on Melting Temperature"
        },
        "width": 800,
        "xaxis": {
         "gridwidth": 1.5,
         "tickfont": {
          "size": 24
         },
         "title": {
          "font": {
           "size": 36
          },
          "text": "Melting Temperature [K]"
         },
         "zeroline": true
        },
        "yaxis": {
         "gridwidth": 1.5,
         "tickfont": {
          "size": 24
         },
         "title": {
          "font": {
           "size": 36
          },
          "text": "Young's Modulus [GPa]"
         },
         "zeroline": true
        }
       }
      },
      "text/html": [
       "<div>\n",
       "        \n",
       "        \n",
       "            <div id=\"cd507bb8-a5bf-4cdc-a8a5-b3ac3f61f43f\" class=\"plotly-graph-div\" style=\"height:800px; width:800px;\"></div>\n",
       "            <script type=\"text/javascript\">\n",
       "                require([\"plotly\"], function(Plotly) {\n",
       "                    window.PLOTLYENV=window.PLOTLYENV || {};\n",
       "                    \n",
       "                if (document.getElementById(\"cd507bb8-a5bf-4cdc-a8a5-b3ac3f61f43f\")) {\n",
       "                    Plotly.newPlot(\n",
       "                        'cd507bb8-a5bf-4cdc-a8a5-b3ac3f61f43f',\n",
       "                        [{\"marker\": {\"color\": [\"green\", \"green\", \"red\", \"orange\", \"green\", \"green\", \"green\", \"green\", \"green\", \"green\", \"red\", \"orange\", \"blue\", \"green\", \"red\", \"green\", \"green\", \"green\", \"red\", \"orange\", \"orange\", \"orange\", \"red\", \"red\", \"red\", \"red\", \"orange\", \"blue\", \"blue\", \"orange\", \"green\", \"green\", \"green\", \"green\", \"green\", \"green\", \"red\", \"blue\", \"orange\", \"orange\", \"red\", \"red\", \"orange\", \"orange\", \"blue\", \"blue\", \"blue\", \"orange\", \"green\", \"green\", \"green\", \"green\", \"green\", \"green\", \"red\", \"red\", \"orange\", \"red\", \"red\", \"orange\", \"orange\", \"blue\", \"blue\", \"blue\", \"green\", \"orange\", \"blue\", \"green\", \"green\", \"green\", \"green\", \"green\", \"green\", \"green\", \"green\", \"green\", \"green\", \"green\", \"green\", \"green\", \"red\", \"orange\", \"orange\", \"orange\", \"orange\", \"orange\", \"orange\", \"blue\", \"orange\", \"green\", \"blue\", \"green\", \"green\", \"green\", \"green\", \"green\", \"green\", \"green\", \"green\", \"green\", \"green\", \"green\", \"green\"], \"line\": {\"width\": 1}, \"size\": 18}, \"mode\": \"markers\", \"showlegend\": false, \"text\": [\"H\", \"He\", \"Li\", \"Be\", \"B\", \"C\", \"N\", \"O\", \"F\", \"Ne\", \"Na\", \"Mg\", \"Al\", \"Si\", \"P\", \"S\", \"Cl\", \"Ar\", \"K\", \"Ca\", \"Sc\", \"Ti\", \"V\", \"Cr\", \"Mn\", \"Fe\", \"Co\", \"Ni\", \"Cu\", \"Zn\", \"Ga\", \"Ge\", \"As\", \"Se\", \"Br\", \"Kr\", \"Rb\", \"Sr\", \"Y\", \"Zr\", \"Nb\", \"Mo\", \"Tc\", \"Ru\", \"Rh\", \"Pd\", \"Ag\", \"Cd\", \"In\", \"Sn\", \"Sb\", \"Te\", \"I\", \"Xe\", \"Cs\", \"Ba\", \"Hf\", \"Ta\", \"W\", \"Re\", \"Os\", \"Ir\", \"Pt\", \"Au\", \"Hg\", \"Tl\", \"Pb\", \"Bi\", \"Po\", \"At\", \"Rn\", \"Fr\", \"Ra\", \"Lr\", \"La\", \"Ce\", \"Pr\", \"Nd\", \"Pm\", \"Sm\", \"Eu\", \"Gd\", \"Tb\", \"Dy\", \"Ho\", \"Er\", \"Tm\", \"Yb\", \"Lu\", \"Ac\", \"Th\", \"Pa\", \"U\", \"Np\", \"Pu\", \"Am\", \"Cm\", \"Bk\", \"Cf\", \"Es\", \"Fm\", \"Md\", \"No\"], \"type\": \"scatter\", \"x\": [14.01, 0.95, 453.69, 1560.0, 2349.0, 3800.0, 63.05, 54.8, 53.53, 24.56, 370.87, 923.0, 933.47, 1687.0, 317.3, 388.36, 171.6, 83.8, 336.53, 1115.0, 1814.0, 1941.0, 2183.0, 2180.0, 1519.0, 1811.0, 1768.0, 1728.0, 1357.77, 692.68, 302.91, 1211.4, 1090.0, 494.0, 265.8, 115.79, 312.46, 1050.0, 1799.0, 2128.0, 2750.0, 2896.0, 2430.0, 2607.0, 2237.0, 1828.05, 1234.93, 594.22, 429.75, 505.08, 903.78, 722.66, 386.85, 161.4, 301.59, 1000.0, 2506.0, 3290.0, 3695.0, 3459.0, 3306.0, 2739.0, 2041.4, 1337.33, 234.32, 577.0, 600.61, 544.4, 527.0, 575.0, 202.0, \"maybe about 300 K\", 973.0, 1900.0, 1193.0, 1068.0, 1208.0, 1297.0, 1373.0, 1345.0, 1099.0, 1585.0, 1629.0, 1680.0, 1734.0, 1802.0, 1818.0, 1097.0, 1925.0, 1323.0, 2115.0, 1841.0, 1405.3, 910.0, 912.5, 1449.0, 1613.0, 1259.0, 1173.0, 1133.0, 1800.0, 1100.0, 1100.0], \"y\": [null, null, 4.9, 287.0, null, null, null, null, null, null, 10.0, 45.0, 70.0, 47.0, null, null, null, null, null, 20.0, 74.0, 116.0, 128.0, 279.0, 198.0, 211.0, 209.0, 200.0, 130.0, 108.0, null, null, 8.0, 10.0, null, null, 2.4, null, 64.0, 68.0, 105.0, 329.0, null, 447.0, 275.0, 121.0, 83.0, 50.0, 11.0, 50.0, 55.0, 43.0, null, null, 1.7, 13.0, 78.0, 186.0, 411.0, 463.0, null, 528.0, 168.0, 78.0, null, 8.0, 16.0, 32.0, null, null, null, null, null, null, 37.0, 34.0, 37.0, 41.0, 46.0, 50.0, 18.0, 55.0, 56.0, 61.0, 65.0, 70.0, 74.0, 24.0, 69.0, null, 79.0, null, 208.0, null, 96.0, null, null, null, null, null, null, null, null]}, {\"marker\": {\"color\": \"blue\", \"line\": {\"width\": 1}, \"size\": 14}, \"mode\": \"markers\", \"name\": \"FCC\", \"type\": \"scatter\", \"x\": [null], \"y\": [null]}, {\"marker\": {\"color\": \"red\", \"line\": {\"width\": 1}, \"size\": 14}, \"mode\": \"markers\", \"name\": \"BCC\", \"type\": \"scatter\", \"x\": [null], \"y\": [null]}, {\"marker\": {\"color\": \"orange\", \"line\": {\"width\": 1}, \"size\": 14}, \"mode\": \"markers\", \"name\": \"HCP\", \"type\": \"scatter\", \"x\": [null], \"y\": [null]}, {\"marker\": {\"color\": \"green\", \"line\": {\"width\": 1}, \"size\": 14}, \"mode\": \"markers\", \"name\": \"Other\", \"type\": \"scatter\", \"x\": [null], \"y\": [null]}],\n",
       "                        {\"font\": {\"family\": \"Arial\"}, \"height\": 800, \"hovermode\": \"closest\", \"legend\": {\"font\": {\"size\": 24}}, \"showlegend\": true, \"template\": {\"data\": {\"bar\": [{\"error_x\": {\"color\": \"#2a3f5f\"}, \"error_y\": {\"color\": \"#2a3f5f\"}, \"marker\": {\"line\": {\"color\": \"#E5ECF6\", \"width\": 0.5}}, \"type\": \"bar\"}], \"barpolar\": [{\"marker\": {\"line\": {\"color\": \"#E5ECF6\", \"width\": 0.5}}, \"type\": \"barpolar\"}], \"carpet\": [{\"aaxis\": {\"endlinecolor\": \"#2a3f5f\", \"gridcolor\": \"white\", \"linecolor\": \"white\", \"minorgridcolor\": \"white\", \"startlinecolor\": \"#2a3f5f\"}, \"baxis\": {\"endlinecolor\": \"#2a3f5f\", \"gridcolor\": \"white\", \"linecolor\": \"white\", \"minorgridcolor\": \"white\", \"startlinecolor\": \"#2a3f5f\"}, \"type\": \"carpet\"}], \"choropleth\": [{\"colorbar\": {\"outlinewidth\": 0, \"ticks\": \"\"}, \"type\": \"choropleth\"}], \"contour\": [{\"colorbar\": {\"outlinewidth\": 0, \"ticks\": \"\"}, \"colorscale\": [[0.0, \"#0d0887\"], [0.1111111111111111, \"#46039f\"], [0.2222222222222222, \"#7201a8\"], [0.3333333333333333, \"#9c179e\"], [0.4444444444444444, \"#bd3786\"], [0.5555555555555556, \"#d8576b\"], [0.6666666666666666, \"#ed7953\"], [0.7777777777777778, \"#fb9f3a\"], [0.8888888888888888, \"#fdca26\"], [1.0, \"#f0f921\"]], \"type\": \"contour\"}], \"contourcarpet\": [{\"colorbar\": {\"outlinewidth\": 0, \"ticks\": \"\"}, \"type\": \"contourcarpet\"}], \"heatmap\": [{\"colorbar\": {\"outlinewidth\": 0, \"ticks\": \"\"}, \"colorscale\": [[0.0, \"#0d0887\"], [0.1111111111111111, \"#46039f\"], [0.2222222222222222, \"#7201a8\"], [0.3333333333333333, \"#9c179e\"], [0.4444444444444444, \"#bd3786\"], [0.5555555555555556, \"#d8576b\"], [0.6666666666666666, \"#ed7953\"], [0.7777777777777778, \"#fb9f3a\"], [0.8888888888888888, \"#fdca26\"], [1.0, \"#f0f921\"]], \"type\": \"heatmap\"}], \"heatmapgl\": [{\"colorbar\": {\"outlinewidth\": 0, \"ticks\": \"\"}, \"colorscale\": [[0.0, \"#0d0887\"], [0.1111111111111111, \"#46039f\"], [0.2222222222222222, \"#7201a8\"], [0.3333333333333333, \"#9c179e\"], [0.4444444444444444, \"#bd3786\"], [0.5555555555555556, \"#d8576b\"], [0.6666666666666666, \"#ed7953\"], [0.7777777777777778, \"#fb9f3a\"], [0.8888888888888888, \"#fdca26\"], [1.0, \"#f0f921\"]], \"type\": \"heatmapgl\"}], \"histogram\": [{\"marker\": {\"colorbar\": {\"outlinewidth\": 0, \"ticks\": \"\"}}, \"type\": \"histogram\"}], \"histogram2d\": [{\"colorbar\": {\"outlinewidth\": 0, \"ticks\": \"\"}, \"colorscale\": [[0.0, \"#0d0887\"], [0.1111111111111111, \"#46039f\"], [0.2222222222222222, \"#7201a8\"], [0.3333333333333333, \"#9c179e\"], [0.4444444444444444, \"#bd3786\"], [0.5555555555555556, \"#d8576b\"], [0.6666666666666666, \"#ed7953\"], [0.7777777777777778, \"#fb9f3a\"], [0.8888888888888888, \"#fdca26\"], [1.0, \"#f0f921\"]], \"type\": \"histogram2d\"}], \"histogram2dcontour\": [{\"colorbar\": {\"outlinewidth\": 0, \"ticks\": \"\"}, \"colorscale\": [[0.0, \"#0d0887\"], [0.1111111111111111, \"#46039f\"], [0.2222222222222222, \"#7201a8\"], [0.3333333333333333, \"#9c179e\"], [0.4444444444444444, \"#bd3786\"], [0.5555555555555556, \"#d8576b\"], [0.6666666666666666, \"#ed7953\"], [0.7777777777777778, \"#fb9f3a\"], [0.8888888888888888, \"#fdca26\"], [1.0, \"#f0f921\"]], \"type\": \"histogram2dcontour\"}], \"mesh3d\": [{\"colorbar\": {\"outlinewidth\": 0, \"ticks\": \"\"}, \"type\": \"mesh3d\"}], \"parcoords\": [{\"line\": {\"colorbar\": {\"outlinewidth\": 0, \"ticks\": \"\"}}, \"type\": \"parcoords\"}], \"pie\": [{\"automargin\": true, \"type\": \"pie\"}], \"scatter\": [{\"marker\": {\"colorbar\": {\"outlinewidth\": 0, \"ticks\": \"\"}}, \"type\": \"scatter\"}], \"scatter3d\": [{\"line\": {\"colorbar\": {\"outlinewidth\": 0, \"ticks\": \"\"}}, \"marker\": {\"colorbar\": {\"outlinewidth\": 0, \"ticks\": \"\"}}, \"type\": \"scatter3d\"}], \"scattercarpet\": [{\"marker\": {\"colorbar\": {\"outlinewidth\": 0, \"ticks\": \"\"}}, \"type\": \"scattercarpet\"}], \"scattergeo\": [{\"marker\": {\"colorbar\": {\"outlinewidth\": 0, \"ticks\": \"\"}}, \"type\": \"scattergeo\"}], \"scattergl\": [{\"marker\": {\"colorbar\": {\"outlinewidth\": 0, \"ticks\": \"\"}}, \"type\": \"scattergl\"}], \"scattermapbox\": [{\"marker\": {\"colorbar\": {\"outlinewidth\": 0, \"ticks\": \"\"}}, \"type\": \"scattermapbox\"}], \"scatterpolar\": [{\"marker\": {\"colorbar\": {\"outlinewidth\": 0, \"ticks\": \"\"}}, \"type\": \"scatterpolar\"}], \"scatterpolargl\": [{\"marker\": {\"colorbar\": {\"outlinewidth\": 0, \"ticks\": \"\"}}, \"type\": \"scatterpolargl\"}], \"scatterternary\": [{\"marker\": {\"colorbar\": {\"outlinewidth\": 0, \"ticks\": \"\"}}, \"type\": \"scatterternary\"}], \"surface\": [{\"colorbar\": {\"outlinewidth\": 0, \"ticks\": \"\"}, \"colorscale\": [[0.0, \"#0d0887\"], [0.1111111111111111, \"#46039f\"], [0.2222222222222222, \"#7201a8\"], [0.3333333333333333, \"#9c179e\"], [0.4444444444444444, \"#bd3786\"], [0.5555555555555556, \"#d8576b\"], [0.6666666666666666, \"#ed7953\"], [0.7777777777777778, \"#fb9f3a\"], [0.8888888888888888, \"#fdca26\"], [1.0, \"#f0f921\"]], \"type\": \"surface\"}], \"table\": [{\"cells\": {\"fill\": {\"color\": \"#EBF0F8\"}, \"line\": {\"color\": \"white\"}}, \"header\": {\"fill\": {\"color\": \"#C8D4E3\"}, \"line\": {\"color\": \"white\"}}, \"type\": \"table\"}]}, \"layout\": {\"annotationdefaults\": {\"arrowcolor\": \"#2a3f5f\", \"arrowhead\": 0, \"arrowwidth\": 1}, \"coloraxis\": {\"colorbar\": {\"outlinewidth\": 0, \"ticks\": \"\"}}, \"colorscale\": {\"diverging\": [[0, \"#8e0152\"], [0.1, \"#c51b7d\"], [0.2, \"#de77ae\"], [0.3, \"#f1b6da\"], [0.4, \"#fde0ef\"], [0.5, \"#f7f7f7\"], [0.6, \"#e6f5d0\"], [0.7, \"#b8e186\"], [0.8, \"#7fbc41\"], [0.9, \"#4d9221\"], [1, \"#276419\"]], \"sequential\": [[0.0, \"#0d0887\"], [0.1111111111111111, \"#46039f\"], [0.2222222222222222, \"#7201a8\"], [0.3333333333333333, \"#9c179e\"], [0.4444444444444444, \"#bd3786\"], [0.5555555555555556, \"#d8576b\"], [0.6666666666666666, \"#ed7953\"], [0.7777777777777778, \"#fb9f3a\"], [0.8888888888888888, \"#fdca26\"], [1.0, \"#f0f921\"]], \"sequentialminus\": [[0.0, \"#0d0887\"], [0.1111111111111111, \"#46039f\"], [0.2222222222222222, \"#7201a8\"], [0.3333333333333333, \"#9c179e\"], [0.4444444444444444, \"#bd3786\"], [0.5555555555555556, \"#d8576b\"], [0.6666666666666666, \"#ed7953\"], [0.7777777777777778, \"#fb9f3a\"], [0.8888888888888888, \"#fdca26\"], [1.0, \"#f0f921\"]]}, \"colorway\": [\"#636efa\", \"#EF553B\", \"#00cc96\", \"#ab63fa\", \"#FFA15A\", \"#19d3f3\", \"#FF6692\", \"#B6E880\", \"#FF97FF\", \"#FECB52\"], \"font\": {\"color\": \"#2a3f5f\"}, \"geo\": {\"bgcolor\": \"white\", \"lakecolor\": \"white\", \"landcolor\": \"#E5ECF6\", \"showlakes\": true, \"showland\": true, \"subunitcolor\": \"white\"}, \"hoverlabel\": {\"align\": \"left\"}, \"hovermode\": \"closest\", \"mapbox\": {\"style\": \"light\"}, \"paper_bgcolor\": \"white\", \"plot_bgcolor\": \"#E5ECF6\", \"polar\": {\"angularaxis\": {\"gridcolor\": \"white\", \"linecolor\": \"white\", \"ticks\": \"\"}, \"bgcolor\": \"#E5ECF6\", \"radialaxis\": {\"gridcolor\": \"white\", \"linecolor\": \"white\", \"ticks\": \"\"}}, \"scene\": {\"xaxis\": {\"backgroundcolor\": \"#E5ECF6\", \"gridcolor\": \"white\", \"gridwidth\": 2, \"linecolor\": \"white\", \"showbackground\": true, \"ticks\": \"\", \"zerolinecolor\": \"white\"}, \"yaxis\": {\"backgroundcolor\": \"#E5ECF6\", \"gridcolor\": \"white\", \"gridwidth\": 2, \"linecolor\": \"white\", \"showbackground\": true, \"ticks\": \"\", \"zerolinecolor\": \"white\"}, \"zaxis\": {\"backgroundcolor\": \"#E5ECF6\", \"gridcolor\": \"white\", \"gridwidth\": 2, \"linecolor\": \"white\", \"showbackground\": true, \"ticks\": \"\", \"zerolinecolor\": \"white\"}}, \"shapedefaults\": {\"line\": {\"color\": \"#2a3f5f\"}}, \"ternary\": {\"aaxis\": {\"gridcolor\": \"white\", \"linecolor\": \"white\", \"ticks\": \"\"}, \"baxis\": {\"gridcolor\": \"white\", \"linecolor\": \"white\", \"ticks\": \"\"}, \"bgcolor\": \"#E5ECF6\", \"caxis\": {\"gridcolor\": \"white\", \"linecolor\": \"white\", \"ticks\": \"\"}}, \"title\": {\"x\": 0.05}, \"xaxis\": {\"automargin\": true, \"gridcolor\": \"white\", \"linecolor\": \"white\", \"ticks\": \"\", \"title\": {\"standoff\": 15}, \"zerolinecolor\": \"white\", \"zerolinewidth\": 2}, \"yaxis\": {\"automargin\": true, \"gridcolor\": \"white\", \"linecolor\": \"white\", \"ticks\": \"\", \"title\": {\"standoff\": 15}, \"zerolinecolor\": \"white\", \"zerolinewidth\": 2}}}, \"title\": {\"font\": {\"color\": \"Black\", \"size\": 38}, \"text\": \"Young's Moduli's on Melting Temperature\"}, \"width\": 800, \"xaxis\": {\"gridwidth\": 1.5, \"tickfont\": {\"size\": 24}, \"title\": {\"font\": {\"size\": 36}, \"text\": \"Melting Temperature [K]\"}, \"zeroline\": true}, \"yaxis\": {\"gridwidth\": 1.5, \"tickfont\": {\"size\": 24}, \"title\": {\"font\": {\"size\": 36}, \"text\": \"Young's Modulus [GPa]\"}, \"zeroline\": true}},\n",
       "                        {\"responsive\": true}\n",
       "                    ).then(function(){\n",
       "                            \n",
       "var gd = document.getElementById('cd507bb8-a5bf-4cdc-a8a5-b3ac3f61f43f');\n",
       "var x = new MutationObserver(function (mutations, observer) {{\n",
       "        var display = window.getComputedStyle(gd).display;\n",
       "        if (!display || display === 'none') {{\n",
       "            console.log([gd, 'removed!']);\n",
       "            Plotly.purge(gd);\n",
       "            observer.disconnect();\n",
       "        }}\n",
       "}});\n",
       "\n",
       "// Listen for the removal of the full notebook cells\n",
       "var notebookContainer = gd.closest('#notebook-container');\n",
       "if (notebookContainer) {{\n",
       "    x.observe(notebookContainer, {childList: true});\n",
       "}}\n",
       "\n",
       "// Listen for the clearing of the current output cell\n",
       "var outputEl = gd.closest('.output');\n",
       "if (outputEl) {{\n",
       "    x.observe(outputEl, {childList: true});\n",
       "}}\n",
       "\n",
       "                        })\n",
       "                };\n",
       "                });\n",
       "            </script>\n",
       "        </div>"
      ]
     },
     "metadata": {},
     "output_type": "display_data"
    }
   ],
   "source": [
    "layout0= go.Layout(title = \"Young's Moduli's on Melting Temperature\", hovermode= 'closest', width = 800, height=800, showlegend=True,  # Hovermode establishes the way the labels that appear when you hover are arranged # Establishing a square plot width=height\n",
    "    xaxis= dict(title=go.layout.xaxis.Title(text='Melting Temperature [K]', font=dict(size=36)), zeroline= True, gridwidth= 1.5, tickfont=dict(size=24)), # Axis Titles. Removing the X-axis Mark. Adding a Grid\n",
    "    yaxis= dict(title=go.layout.yaxis.Title(text=\"Young's Modulus [GPa]\", font=dict(size=36)), zeroline= True, gridwidth= 1.5, tickfont=dict(size=24)), # Axis Titles. Removing the Y-axis Mark. Adding a Grid\n",
    "    legend=dict(font=dict(size=24))) # Adding a legend\n",
    "\n",
    "# Trace\n",
    "\n",
    "trace0 = go.Scatter(x = melting_temperature,y = youngs_modulus, mode = 'markers',\n",
    "    marker= dict(size= 18, line= dict(width=1), color=colors), # We add a size, a border and our custom colors to the markers\n",
    "    text= sample, # This attribute (Text) labels each point to this list, which contains our elements in the same indexes as our properties\n",
    "showlegend = False)\n",
    "\n",
    "\n",
    "# Empty Traces for Legend\n",
    "legend_plot_FCC = go.Scatter(x=[None], y=[None], mode='markers', marker=dict(size=14,  line= dict(width=1),color='blue'), name = 'FCC')\n",
    "legend_plot_BCC = go.Scatter(x=[None], y=[None], mode='markers', marker=dict(size=14,  line= dict(width=1),color='red'), name = 'BCC')\n",
    "legend_plot_HCP = go.Scatter(x=[None], y=[None], mode='markers', marker=dict(size=14,  line= dict(width=1),color='orange'), name = 'HCP')\n",
    "legend_plot_Other = go.Scatter(x=[None], y=[None], mode='markers', marker=dict(size=14,  line= dict(width=1),color='green'), name = 'Other')\n",
    "\n",
    "\n",
    "data = [trace0, legend_plot_FCC, legend_plot_BCC, legend_plot_HCP, legend_plot_Other]\n",
    "\n",
    "fig= go.Figure(data, layout=layout0)\n",
    "fig.update_layout(\n",
    "    font_family=\"Arial\",\n",
    "    title_font_color=\"Black\",\n",
    "    title_font_size= 38\n",
    ")\n",
    "# fig.update_xaxes(showgrid=True, gridwidth=1, gridcolor='black')\n",
    "# fig.update_yaxes(showgrid=True, gridwidth=1, gridcolor='black')\n",
    "iplot(fig)"
   ]
  },
  {
   "cell_type": "markdown",
   "metadata": {},
   "source": [
    "<font color=blue> **Exercise 3.**  a) Find the three metals with highest Young's moduli. b) What are the Young's moduli of Al, Fe and Pb? </font>"
   ]
  },
  {
   "cell_type": "code",
   "execution_count": 47,
   "metadata": {},
   "outputs": [
    {
     "data": {
      "application/vnd.plotly.v1+json": {
       "config": {
        "linkText": "Export to plot.ly",
        "plotlyServerURL": "https://plot.ly",
        "showLink": false
       },
       "data": [
        {
         "marker": {
          "color": [
           "lightgray",
           "lightgray",
           "blue",
           "yellow",
           "lightgray",
           "lightgray",
           "lightgray",
           "lightgray",
           "lightgray",
           "lightgray",
           "blue",
           "yellow",
           "red",
           "lightgray",
           "blue",
           "lightgray",
           "lightgray",
           "lightgray",
           "blue",
           "yellow",
           "yellow",
           "yellow",
           "blue",
           "blue",
           "blue",
           "blue",
           "yellow",
           "red",
           "red",
           "yellow",
           "lightgray",
           "lightgray",
           "lightgray",
           "lightgray",
           "lightgray",
           "lightgray",
           "blue",
           "red",
           "yellow",
           "yellow",
           "blue",
           "blue",
           "yellow",
           "yellow",
           "red",
           "red",
           "red",
           "yellow",
           "lightgray",
           "lightgray",
           "lightgray",
           "lightgray",
           "lightgray",
           "lightgray",
           "blue",
           "blue",
           "yellow",
           "blue",
           "blue",
           "yellow",
           "yellow",
           "red",
           "red",
           "red",
           "lightgray",
           "yellow",
           "red",
           "lightgray",
           "lightgray",
           "lightgray",
           "lightgray",
           "lightgray",
           "lightgray",
           "lightgray",
           "lightgray",
           "lightgray",
           "lightgray",
           "lightgray",
           "lightgray",
           "lightgray",
           "lightgray",
           "lightgray",
           "lightgray",
           "lightgray",
           "lightgray",
           "lightgray",
           "lightgray",
           "lightgray",
           "lightgray",
           "blue",
           "yellow",
           "yellow",
           "yellow",
           "yellow",
           "yellow",
           "yellow",
           "red",
           "yellow",
           "lightgray",
           "red",
           "lightgray",
           "lightgray",
           "lightgray",
           "lightgray",
           "lightgray",
           "lightgray",
           "lightgray",
           "lightgray",
           "lightgray",
           "lightgray",
           "lightgray",
           "lightgray"
          ],
          "line": {
           "width": 1
          },
          "size": 14
         },
         "mode": "markers",
         "showlegend": false,
         "text": [
          "H",
          "He",
          "Li",
          "Be",
          "B",
          "C",
          "N",
          "O",
          "F",
          "Ne",
          "Na",
          "Mg",
          "Al",
          "Si",
          "P",
          "S",
          "Cl",
          "Ar",
          "K",
          "Ca",
          "Sc",
          "Ti",
          "V",
          "Cr",
          "Mn",
          "Fe",
          "Co",
          "Ni",
          "Cu",
          "Zn",
          "Ga",
          "Ge",
          "As",
          "Se",
          "Br",
          "Kr",
          "Rb",
          "Sr",
          "Y",
          "Zr",
          "Nb",
          "Mo",
          "Tc",
          "Ru",
          "Rh",
          "Pd",
          "Ag",
          "Cd",
          "In",
          "Sn",
          "Sb",
          "Te",
          "I",
          "Xe",
          "Cs",
          "Ba",
          "Hf",
          "Ta",
          "W",
          "Re",
          "Os",
          "Ir",
          "Pt",
          "Au",
          "Hg",
          "Tl",
          "Pb",
          "Bi",
          "Po",
          "At",
          "Rn",
          "Fr",
          "Ra",
          "Lr",
          "Rf",
          "Db",
          "Sg",
          "Bh",
          "Hs",
          "Mt",
          "Ds",
          "Rg",
          "Cn",
          "La",
          "Ce",
          "Pr",
          "Nd",
          "Pm",
          "Sm",
          "Eu",
          "Gd",
          "Tb",
          "Dy",
          "Ho",
          "Er",
          "Tm",
          "Yb",
          "Lu",
          "Ac",
          "Th",
          "Pa",
          "U",
          "Np",
          "Pu",
          "Am",
          "Cm",
          "Bk",
          "Cf",
          "Es",
          "Fm",
          "Md",
          "No"
         ],
         "type": "scatter",
         "x": [
          14.01,
          0.95,
          453.69,
          1560,
          2349,
          3800,
          63.05,
          54.8,
          53.53,
          24.56,
          370.87,
          923,
          933.47,
          1687,
          317.3,
          388.36,
          171.6,
          83.8,
          336.53,
          1115,
          1814,
          1941,
          2183,
          2180,
          1519,
          1811,
          1768,
          1728,
          1357.77,
          692.68,
          302.91,
          1211.4,
          1090,
          494,
          265.8,
          115.79,
          312.46,
          1050,
          1799,
          2128,
          2750,
          2896,
          2430,
          2607,
          2237,
          1828.05,
          1234.93,
          594.22,
          429.75,
          505.08,
          903.78,
          722.66,
          386.85,
          161.4,
          301.59,
          1000,
          2506,
          3290,
          3695,
          3459,
          3306,
          2739,
          2041.4,
          1337.33,
          234.32,
          577,
          600.61,
          544.4,
          527,
          575,
          202,
          "maybe about 300 K",
          973,
          1900
         ],
         "y": [
          null,
          null,
          4.6e-05,
          1.13e-05,
          6e-06,
          7.1e-06,
          null,
          null,
          null,
          null,
          7.1e-05,
          8.2e-06,
          2.31e-05,
          2.6e-06,
          null,
          null,
          null,
          null,
          null,
          2.23e-05,
          1.02e-05,
          8.6e-06,
          8.4e-06,
          4.9e-06,
          2.17e-05,
          1.18e-05,
          1.3e-05,
          1.34e-05,
          1.65e-05,
          3.02e-05,
          0.00012,
          6e-06,
          null,
          null,
          null,
          null,
          null,
          2.25e-05,
          1.06e-05,
          5.7e-06,
          7.3e-06,
          4.8e-06,
          null,
          6.4e-06,
          8.2e-06,
          1.18e-05,
          1.89e-05,
          3.08e-05,
          3.21e-05,
          2.2e-05,
          1.1e-05,
          null,
          null,
          null,
          null,
          2.06e-05,
          5.9e-06,
          6.3e-06,
          4.5e-06,
          6.2e-06,
          5.1e-06,
          6.4e-06,
          8.8e-06,
          1.42e-05,
          null,
          2.99e-05,
          2.89e-05,
          1.34e-05,
          null,
          null,
          null,
          null,
          null,
          null
         ]
        },
        {
         "marker": {
          "color": "red",
          "line": {
           "width": 1
          },
          "size": 14
         },
         "mode": "markers",
         "name": "FCC",
         "type": "scatter",
         "x": [
          null
         ],
         "y": [
          null
         ]
        },
        {
         "marker": {
          "color": "blue",
          "line": {
           "width": 1
          },
          "size": 14
         },
         "mode": "markers",
         "name": "BCC",
         "type": "scatter",
         "x": [
          null
         ],
         "y": [
          null
         ]
        },
        {
         "marker": {
          "color": "yellow",
          "line": {
           "width": 1
          },
          "size": 14
         },
         "mode": "markers",
         "name": "HCP",
         "type": "scatter",
         "x": [
          null
         ],
         "y": [
          null
         ]
        }
       ],
       "layout": {
        "height": 600,
        "hovermode": "closest",
        "legend": {
         "font": {
          "size": 24
         }
        },
        "showlegend": true,
        "template": {
         "data": {
          "bar": [
           {
            "error_x": {
             "color": "#2a3f5f"
            },
            "error_y": {
             "color": "#2a3f5f"
            },
            "marker": {
             "line": {
              "color": "#E5ECF6",
              "width": 0.5
             }
            },
            "type": "bar"
           }
          ],
          "barpolar": [
           {
            "marker": {
             "line": {
              "color": "#E5ECF6",
              "width": 0.5
             }
            },
            "type": "barpolar"
           }
          ],
          "carpet": [
           {
            "aaxis": {
             "endlinecolor": "#2a3f5f",
             "gridcolor": "white",
             "linecolor": "white",
             "minorgridcolor": "white",
             "startlinecolor": "#2a3f5f"
            },
            "baxis": {
             "endlinecolor": "#2a3f5f",
             "gridcolor": "white",
             "linecolor": "white",
             "minorgridcolor": "white",
             "startlinecolor": "#2a3f5f"
            },
            "type": "carpet"
           }
          ],
          "choropleth": [
           {
            "colorbar": {
             "outlinewidth": 0,
             "ticks": ""
            },
            "type": "choropleth"
           }
          ],
          "contour": [
           {
            "colorbar": {
             "outlinewidth": 0,
             "ticks": ""
            },
            "colorscale": [
             [
              0,
              "#0d0887"
             ],
             [
              0.1111111111111111,
              "#46039f"
             ],
             [
              0.2222222222222222,
              "#7201a8"
             ],
             [
              0.3333333333333333,
              "#9c179e"
             ],
             [
              0.4444444444444444,
              "#bd3786"
             ],
             [
              0.5555555555555556,
              "#d8576b"
             ],
             [
              0.6666666666666666,
              "#ed7953"
             ],
             [
              0.7777777777777778,
              "#fb9f3a"
             ],
             [
              0.8888888888888888,
              "#fdca26"
             ],
             [
              1,
              "#f0f921"
             ]
            ],
            "type": "contour"
           }
          ],
          "contourcarpet": [
           {
            "colorbar": {
             "outlinewidth": 0,
             "ticks": ""
            },
            "type": "contourcarpet"
           }
          ],
          "heatmap": [
           {
            "colorbar": {
             "outlinewidth": 0,
             "ticks": ""
            },
            "colorscale": [
             [
              0,
              "#0d0887"
             ],
             [
              0.1111111111111111,
              "#46039f"
             ],
             [
              0.2222222222222222,
              "#7201a8"
             ],
             [
              0.3333333333333333,
              "#9c179e"
             ],
             [
              0.4444444444444444,
              "#bd3786"
             ],
             [
              0.5555555555555556,
              "#d8576b"
             ],
             [
              0.6666666666666666,
              "#ed7953"
             ],
             [
              0.7777777777777778,
              "#fb9f3a"
             ],
             [
              0.8888888888888888,
              "#fdca26"
             ],
             [
              1,
              "#f0f921"
             ]
            ],
            "type": "heatmap"
           }
          ],
          "heatmapgl": [
           {
            "colorbar": {
             "outlinewidth": 0,
             "ticks": ""
            },
            "colorscale": [
             [
              0,
              "#0d0887"
             ],
             [
              0.1111111111111111,
              "#46039f"
             ],
             [
              0.2222222222222222,
              "#7201a8"
             ],
             [
              0.3333333333333333,
              "#9c179e"
             ],
             [
              0.4444444444444444,
              "#bd3786"
             ],
             [
              0.5555555555555556,
              "#d8576b"
             ],
             [
              0.6666666666666666,
              "#ed7953"
             ],
             [
              0.7777777777777778,
              "#fb9f3a"
             ],
             [
              0.8888888888888888,
              "#fdca26"
             ],
             [
              1,
              "#f0f921"
             ]
            ],
            "type": "heatmapgl"
           }
          ],
          "histogram": [
           {
            "marker": {
             "colorbar": {
              "outlinewidth": 0,
              "ticks": ""
             }
            },
            "type": "histogram"
           }
          ],
          "histogram2d": [
           {
            "colorbar": {
             "outlinewidth": 0,
             "ticks": ""
            },
            "colorscale": [
             [
              0,
              "#0d0887"
             ],
             [
              0.1111111111111111,
              "#46039f"
             ],
             [
              0.2222222222222222,
              "#7201a8"
             ],
             [
              0.3333333333333333,
              "#9c179e"
             ],
             [
              0.4444444444444444,
              "#bd3786"
             ],
             [
              0.5555555555555556,
              "#d8576b"
             ],
             [
              0.6666666666666666,
              "#ed7953"
             ],
             [
              0.7777777777777778,
              "#fb9f3a"
             ],
             [
              0.8888888888888888,
              "#fdca26"
             ],
             [
              1,
              "#f0f921"
             ]
            ],
            "type": "histogram2d"
           }
          ],
          "histogram2dcontour": [
           {
            "colorbar": {
             "outlinewidth": 0,
             "ticks": ""
            },
            "colorscale": [
             [
              0,
              "#0d0887"
             ],
             [
              0.1111111111111111,
              "#46039f"
             ],
             [
              0.2222222222222222,
              "#7201a8"
             ],
             [
              0.3333333333333333,
              "#9c179e"
             ],
             [
              0.4444444444444444,
              "#bd3786"
             ],
             [
              0.5555555555555556,
              "#d8576b"
             ],
             [
              0.6666666666666666,
              "#ed7953"
             ],
             [
              0.7777777777777778,
              "#fb9f3a"
             ],
             [
              0.8888888888888888,
              "#fdca26"
             ],
             [
              1,
              "#f0f921"
             ]
            ],
            "type": "histogram2dcontour"
           }
          ],
          "mesh3d": [
           {
            "colorbar": {
             "outlinewidth": 0,
             "ticks": ""
            },
            "type": "mesh3d"
           }
          ],
          "parcoords": [
           {
            "line": {
             "colorbar": {
              "outlinewidth": 0,
              "ticks": ""
             }
            },
            "type": "parcoords"
           }
          ],
          "pie": [
           {
            "automargin": true,
            "type": "pie"
           }
          ],
          "scatter": [
           {
            "marker": {
             "colorbar": {
              "outlinewidth": 0,
              "ticks": ""
             }
            },
            "type": "scatter"
           }
          ],
          "scatter3d": [
           {
            "line": {
             "colorbar": {
              "outlinewidth": 0,
              "ticks": ""
             }
            },
            "marker": {
             "colorbar": {
              "outlinewidth": 0,
              "ticks": ""
             }
            },
            "type": "scatter3d"
           }
          ],
          "scattercarpet": [
           {
            "marker": {
             "colorbar": {
              "outlinewidth": 0,
              "ticks": ""
             }
            },
            "type": "scattercarpet"
           }
          ],
          "scattergeo": [
           {
            "marker": {
             "colorbar": {
              "outlinewidth": 0,
              "ticks": ""
             }
            },
            "type": "scattergeo"
           }
          ],
          "scattergl": [
           {
            "marker": {
             "colorbar": {
              "outlinewidth": 0,
              "ticks": ""
             }
            },
            "type": "scattergl"
           }
          ],
          "scattermapbox": [
           {
            "marker": {
             "colorbar": {
              "outlinewidth": 0,
              "ticks": ""
             }
            },
            "type": "scattermapbox"
           }
          ],
          "scatterpolar": [
           {
            "marker": {
             "colorbar": {
              "outlinewidth": 0,
              "ticks": ""
             }
            },
            "type": "scatterpolar"
           }
          ],
          "scatterpolargl": [
           {
            "marker": {
             "colorbar": {
              "outlinewidth": 0,
              "ticks": ""
             }
            },
            "type": "scatterpolargl"
           }
          ],
          "scatterternary": [
           {
            "marker": {
             "colorbar": {
              "outlinewidth": 0,
              "ticks": ""
             }
            },
            "type": "scatterternary"
           }
          ],
          "surface": [
           {
            "colorbar": {
             "outlinewidth": 0,
             "ticks": ""
            },
            "colorscale": [
             [
              0,
              "#0d0887"
             ],
             [
              0.1111111111111111,
              "#46039f"
             ],
             [
              0.2222222222222222,
              "#7201a8"
             ],
             [
              0.3333333333333333,
              "#9c179e"
             ],
             [
              0.4444444444444444,
              "#bd3786"
             ],
             [
              0.5555555555555556,
              "#d8576b"
             ],
             [
              0.6666666666666666,
              "#ed7953"
             ],
             [
              0.7777777777777778,
              "#fb9f3a"
             ],
             [
              0.8888888888888888,
              "#fdca26"
             ],
             [
              1,
              "#f0f921"
             ]
            ],
            "type": "surface"
           }
          ],
          "table": [
           {
            "cells": {
             "fill": {
              "color": "#EBF0F8"
             },
             "line": {
              "color": "white"
             }
            },
            "header": {
             "fill": {
              "color": "#C8D4E3"
             },
             "line": {
              "color": "white"
             }
            },
            "type": "table"
           }
          ]
         },
         "layout": {
          "annotationdefaults": {
           "arrowcolor": "#2a3f5f",
           "arrowhead": 0,
           "arrowwidth": 1
          },
          "coloraxis": {
           "colorbar": {
            "outlinewidth": 0,
            "ticks": ""
           }
          },
          "colorscale": {
           "diverging": [
            [
             0,
             "#8e0152"
            ],
            [
             0.1,
             "#c51b7d"
            ],
            [
             0.2,
             "#de77ae"
            ],
            [
             0.3,
             "#f1b6da"
            ],
            [
             0.4,
             "#fde0ef"
            ],
            [
             0.5,
             "#f7f7f7"
            ],
            [
             0.6,
             "#e6f5d0"
            ],
            [
             0.7,
             "#b8e186"
            ],
            [
             0.8,
             "#7fbc41"
            ],
            [
             0.9,
             "#4d9221"
            ],
            [
             1,
             "#276419"
            ]
           ],
           "sequential": [
            [
             0,
             "#0d0887"
            ],
            [
             0.1111111111111111,
             "#46039f"
            ],
            [
             0.2222222222222222,
             "#7201a8"
            ],
            [
             0.3333333333333333,
             "#9c179e"
            ],
            [
             0.4444444444444444,
             "#bd3786"
            ],
            [
             0.5555555555555556,
             "#d8576b"
            ],
            [
             0.6666666666666666,
             "#ed7953"
            ],
            [
             0.7777777777777778,
             "#fb9f3a"
            ],
            [
             0.8888888888888888,
             "#fdca26"
            ],
            [
             1,
             "#f0f921"
            ]
           ],
           "sequentialminus": [
            [
             0,
             "#0d0887"
            ],
            [
             0.1111111111111111,
             "#46039f"
            ],
            [
             0.2222222222222222,
             "#7201a8"
            ],
            [
             0.3333333333333333,
             "#9c179e"
            ],
            [
             0.4444444444444444,
             "#bd3786"
            ],
            [
             0.5555555555555556,
             "#d8576b"
            ],
            [
             0.6666666666666666,
             "#ed7953"
            ],
            [
             0.7777777777777778,
             "#fb9f3a"
            ],
            [
             0.8888888888888888,
             "#fdca26"
            ],
            [
             1,
             "#f0f921"
            ]
           ]
          },
          "colorway": [
           "#636efa",
           "#EF553B",
           "#00cc96",
           "#ab63fa",
           "#FFA15A",
           "#19d3f3",
           "#FF6692",
           "#B6E880",
           "#FF97FF",
           "#FECB52"
          ],
          "font": {
           "color": "#2a3f5f"
          },
          "geo": {
           "bgcolor": "white",
           "lakecolor": "white",
           "landcolor": "#E5ECF6",
           "showlakes": true,
           "showland": true,
           "subunitcolor": "white"
          },
          "hoverlabel": {
           "align": "left"
          },
          "hovermode": "closest",
          "mapbox": {
           "style": "light"
          },
          "paper_bgcolor": "white",
          "plot_bgcolor": "#E5ECF6",
          "polar": {
           "angularaxis": {
            "gridcolor": "white",
            "linecolor": "white",
            "ticks": ""
           },
           "bgcolor": "#E5ECF6",
           "radialaxis": {
            "gridcolor": "white",
            "linecolor": "white",
            "ticks": ""
           }
          },
          "scene": {
           "xaxis": {
            "backgroundcolor": "#E5ECF6",
            "gridcolor": "white",
            "gridwidth": 2,
            "linecolor": "white",
            "showbackground": true,
            "ticks": "",
            "zerolinecolor": "white"
           },
           "yaxis": {
            "backgroundcolor": "#E5ECF6",
            "gridcolor": "white",
            "gridwidth": 2,
            "linecolor": "white",
            "showbackground": true,
            "ticks": "",
            "zerolinecolor": "white"
           },
           "zaxis": {
            "backgroundcolor": "#E5ECF6",
            "gridcolor": "white",
            "gridwidth": 2,
            "linecolor": "white",
            "showbackground": true,
            "ticks": "",
            "zerolinecolor": "white"
           }
          },
          "shapedefaults": {
           "line": {
            "color": "#2a3f5f"
           }
          },
          "ternary": {
           "aaxis": {
            "gridcolor": "white",
            "linecolor": "white",
            "ticks": ""
           },
           "baxis": {
            "gridcolor": "white",
            "linecolor": "white",
            "ticks": ""
           },
           "bgcolor": "#E5ECF6",
           "caxis": {
            "gridcolor": "white",
            "linecolor": "white",
            "ticks": ""
           }
          },
          "title": {
           "x": 0.05
          },
          "xaxis": {
           "automargin": true,
           "gridcolor": "white",
           "linecolor": "white",
           "ticks": "",
           "title": {
            "standoff": 15
           },
           "zerolinecolor": "white",
           "zerolinewidth": 2
          },
          "yaxis": {
           "automargin": true,
           "gridcolor": "white",
           "linecolor": "white",
           "ticks": "",
           "title": {
            "standoff": 15
           },
           "zerolinecolor": "white",
           "zerolinewidth": 2
          }
         }
        },
        "width": 600,
        "xaxis": {
         "gridwidth": 1,
         "tickfont": {
          "size": 18
         },
         "title": {
          "font": {
           "size": 24
          },
          "text": "Melting Temperature (K)"
         },
         "zeroline": false
        },
        "yaxis": {
         "gridwidth": 1,
         "tickfont": {
          "size": 18
         },
         "title": {
          "font": {
           "size": 24
          },
          "text": "Coefficient of Linear Thermal Expansion (K<sup>-1</sup>)"
         },
         "zeroline": false
        }
       }
      },
      "text/html": [
       "<div>\n",
       "        \n",
       "        \n",
       "            <div id=\"dc605ab5-c5d4-4795-9bc0-e162c154030f\" class=\"plotly-graph-div\" style=\"height:600px; width:600px;\"></div>\n",
       "            <script type=\"text/javascript\">\n",
       "                require([\"plotly\"], function(Plotly) {\n",
       "                    window.PLOTLYENV=window.PLOTLYENV || {};\n",
       "                    \n",
       "                if (document.getElementById(\"dc605ab5-c5d4-4795-9bc0-e162c154030f\")) {\n",
       "                    Plotly.newPlot(\n",
       "                        'dc605ab5-c5d4-4795-9bc0-e162c154030f',\n",
       "                        [{\"marker\": {\"color\": [\"lightgray\", \"lightgray\", \"blue\", \"yellow\", \"lightgray\", \"lightgray\", \"lightgray\", \"lightgray\", \"lightgray\", \"lightgray\", \"blue\", \"yellow\", \"red\", \"lightgray\", \"blue\", \"lightgray\", \"lightgray\", \"lightgray\", \"blue\", \"yellow\", \"yellow\", \"yellow\", \"blue\", \"blue\", \"blue\", \"blue\", \"yellow\", \"red\", \"red\", \"yellow\", \"lightgray\", \"lightgray\", \"lightgray\", \"lightgray\", \"lightgray\", \"lightgray\", \"blue\", \"red\", \"yellow\", \"yellow\", \"blue\", \"blue\", \"yellow\", \"yellow\", \"red\", \"red\", \"red\", \"yellow\", \"lightgray\", \"lightgray\", \"lightgray\", \"lightgray\", \"lightgray\", \"lightgray\", \"blue\", \"blue\", \"yellow\", \"blue\", \"blue\", \"yellow\", \"yellow\", \"red\", \"red\", \"red\", \"lightgray\", \"yellow\", \"red\", \"lightgray\", \"lightgray\", \"lightgray\", \"lightgray\", \"lightgray\", \"lightgray\", \"lightgray\", \"lightgray\", \"lightgray\", \"lightgray\", \"lightgray\", \"lightgray\", \"lightgray\", \"lightgray\", \"lightgray\", \"lightgray\", \"lightgray\", \"lightgray\", \"lightgray\", \"lightgray\", \"lightgray\", \"lightgray\", \"blue\", \"yellow\", \"yellow\", \"yellow\", \"yellow\", \"yellow\", \"yellow\", \"red\", \"yellow\", \"lightgray\", \"red\", \"lightgray\", \"lightgray\", \"lightgray\", \"lightgray\", \"lightgray\", \"lightgray\", \"lightgray\", \"lightgray\", \"lightgray\", \"lightgray\", \"lightgray\", \"lightgray\"], \"line\": {\"width\": 1}, \"size\": 14}, \"mode\": \"markers\", \"showlegend\": false, \"text\": [\"H\", \"He\", \"Li\", \"Be\", \"B\", \"C\", \"N\", \"O\", \"F\", \"Ne\", \"Na\", \"Mg\", \"Al\", \"Si\", \"P\", \"S\", \"Cl\", \"Ar\", \"K\", \"Ca\", \"Sc\", \"Ti\", \"V\", \"Cr\", \"Mn\", \"Fe\", \"Co\", \"Ni\", \"Cu\", \"Zn\", \"Ga\", \"Ge\", \"As\", \"Se\", \"Br\", \"Kr\", \"Rb\", \"Sr\", \"Y\", \"Zr\", \"Nb\", \"Mo\", \"Tc\", \"Ru\", \"Rh\", \"Pd\", \"Ag\", \"Cd\", \"In\", \"Sn\", \"Sb\", \"Te\", \"I\", \"Xe\", \"Cs\", \"Ba\", \"Hf\", \"Ta\", \"W\", \"Re\", \"Os\", \"Ir\", \"Pt\", \"Au\", \"Hg\", \"Tl\", \"Pb\", \"Bi\", \"Po\", \"At\", \"Rn\", \"Fr\", \"Ra\", \"Lr\", \"Rf\", \"Db\", \"Sg\", \"Bh\", \"Hs\", \"Mt\", \"Ds\", \"Rg\", \"Cn\", \"La\", \"Ce\", \"Pr\", \"Nd\", \"Pm\", \"Sm\", \"Eu\", \"Gd\", \"Tb\", \"Dy\", \"Ho\", \"Er\", \"Tm\", \"Yb\", \"Lu\", \"Ac\", \"Th\", \"Pa\", \"U\", \"Np\", \"Pu\", \"Am\", \"Cm\", \"Bk\", \"Cf\", \"Es\", \"Fm\", \"Md\", \"No\"], \"type\": \"scatter\", \"x\": [14.01, 0.95, 453.69, 1560.0, 2349.0, 3800.0, 63.05, 54.8, 53.53, 24.56, 370.87, 923.0, 933.47, 1687.0, 317.3, 388.36, 171.6, 83.8, 336.53, 1115.0, 1814.0, 1941.0, 2183.0, 2180.0, 1519.0, 1811.0, 1768.0, 1728.0, 1357.77, 692.68, 302.91, 1211.4, 1090.0, 494.0, 265.8, 115.79, 312.46, 1050.0, 1799.0, 2128.0, 2750.0, 2896.0, 2430.0, 2607.0, 2237.0, 1828.05, 1234.93, 594.22, 429.75, 505.08, 903.78, 722.66, 386.85, 161.4, 301.59, 1000.0, 2506.0, 3290.0, 3695.0, 3459.0, 3306.0, 2739.0, 2041.4, 1337.33, 234.32, 577.0, 600.61, 544.4, 527.0, 575.0, 202.0, \"maybe about 300 K\", 973.0, 1900.0], \"y\": [null, null, 4.6e-05, 1.13e-05, 6e-06, 7.1e-06, null, null, null, null, 7.1e-05, 8.2e-06, 2.31e-05, 2.6e-06, null, null, null, null, null, 2.23e-05, 1.02e-05, 8.6e-06, 8.4e-06, 4.9e-06, 2.17e-05, 1.18e-05, 1.3e-05, 1.34e-05, 1.65e-05, 3.02e-05, 0.00012, 6e-06, null, null, null, null, null, 2.25e-05, 1.06e-05, 5.7e-06, 7.3e-06, 4.8e-06, null, 6.4e-06, 8.2e-06, 1.18e-05, 1.89e-05, 3.08e-05, 3.21e-05, 2.2e-05, 1.1e-05, null, null, null, null, 2.06e-05, 5.9e-06, 6.3e-06, 4.5e-06, 6.2e-06, 5.1e-06, 6.4e-06, 8.8e-06, 1.42e-05, null, 2.99e-05, 2.89e-05, 1.34e-05, null, null, null, null, null, null]}, {\"marker\": {\"color\": \"red\", \"line\": {\"width\": 1}, \"size\": 14}, \"mode\": \"markers\", \"name\": \"FCC\", \"type\": \"scatter\", \"x\": [null], \"y\": [null]}, {\"marker\": {\"color\": \"blue\", \"line\": {\"width\": 1}, \"size\": 14}, \"mode\": \"markers\", \"name\": \"BCC\", \"type\": \"scatter\", \"x\": [null], \"y\": [null]}, {\"marker\": {\"color\": \"yellow\", \"line\": {\"width\": 1}, \"size\": 14}, \"mode\": \"markers\", \"name\": \"HCP\", \"type\": \"scatter\", \"x\": [null], \"y\": [null]}],\n",
       "                        {\"height\": 600, \"hovermode\": \"closest\", \"legend\": {\"font\": {\"size\": 24}}, \"showlegend\": true, \"template\": {\"data\": {\"bar\": [{\"error_x\": {\"color\": \"#2a3f5f\"}, \"error_y\": {\"color\": \"#2a3f5f\"}, \"marker\": {\"line\": {\"color\": \"#E5ECF6\", \"width\": 0.5}}, \"type\": \"bar\"}], \"barpolar\": [{\"marker\": {\"line\": {\"color\": \"#E5ECF6\", \"width\": 0.5}}, \"type\": \"barpolar\"}], \"carpet\": [{\"aaxis\": {\"endlinecolor\": \"#2a3f5f\", \"gridcolor\": \"white\", \"linecolor\": \"white\", \"minorgridcolor\": \"white\", \"startlinecolor\": \"#2a3f5f\"}, \"baxis\": {\"endlinecolor\": \"#2a3f5f\", \"gridcolor\": \"white\", \"linecolor\": \"white\", \"minorgridcolor\": \"white\", \"startlinecolor\": \"#2a3f5f\"}, \"type\": \"carpet\"}], \"choropleth\": [{\"colorbar\": {\"outlinewidth\": 0, \"ticks\": \"\"}, \"type\": \"choropleth\"}], \"contour\": [{\"colorbar\": {\"outlinewidth\": 0, \"ticks\": \"\"}, \"colorscale\": [[0.0, \"#0d0887\"], [0.1111111111111111, \"#46039f\"], [0.2222222222222222, \"#7201a8\"], [0.3333333333333333, \"#9c179e\"], [0.4444444444444444, \"#bd3786\"], [0.5555555555555556, \"#d8576b\"], [0.6666666666666666, \"#ed7953\"], [0.7777777777777778, \"#fb9f3a\"], [0.8888888888888888, \"#fdca26\"], [1.0, \"#f0f921\"]], \"type\": \"contour\"}], \"contourcarpet\": [{\"colorbar\": {\"outlinewidth\": 0, \"ticks\": \"\"}, \"type\": \"contourcarpet\"}], \"heatmap\": [{\"colorbar\": {\"outlinewidth\": 0, \"ticks\": \"\"}, \"colorscale\": [[0.0, \"#0d0887\"], [0.1111111111111111, \"#46039f\"], [0.2222222222222222, \"#7201a8\"], [0.3333333333333333, \"#9c179e\"], [0.4444444444444444, \"#bd3786\"], [0.5555555555555556, \"#d8576b\"], [0.6666666666666666, \"#ed7953\"], [0.7777777777777778, \"#fb9f3a\"], [0.8888888888888888, \"#fdca26\"], [1.0, \"#f0f921\"]], \"type\": \"heatmap\"}], \"heatmapgl\": [{\"colorbar\": {\"outlinewidth\": 0, \"ticks\": \"\"}, \"colorscale\": [[0.0, \"#0d0887\"], [0.1111111111111111, \"#46039f\"], [0.2222222222222222, \"#7201a8\"], [0.3333333333333333, \"#9c179e\"], [0.4444444444444444, \"#bd3786\"], [0.5555555555555556, \"#d8576b\"], [0.6666666666666666, \"#ed7953\"], [0.7777777777777778, \"#fb9f3a\"], [0.8888888888888888, \"#fdca26\"], [1.0, \"#f0f921\"]], \"type\": \"heatmapgl\"}], \"histogram\": [{\"marker\": {\"colorbar\": {\"outlinewidth\": 0, \"ticks\": \"\"}}, \"type\": \"histogram\"}], \"histogram2d\": [{\"colorbar\": {\"outlinewidth\": 0, \"ticks\": \"\"}, \"colorscale\": [[0.0, \"#0d0887\"], [0.1111111111111111, \"#46039f\"], [0.2222222222222222, \"#7201a8\"], [0.3333333333333333, \"#9c179e\"], [0.4444444444444444, \"#bd3786\"], [0.5555555555555556, \"#d8576b\"], [0.6666666666666666, \"#ed7953\"], [0.7777777777777778, \"#fb9f3a\"], [0.8888888888888888, \"#fdca26\"], [1.0, \"#f0f921\"]], \"type\": \"histogram2d\"}], \"histogram2dcontour\": [{\"colorbar\": {\"outlinewidth\": 0, \"ticks\": \"\"}, \"colorscale\": [[0.0, \"#0d0887\"], [0.1111111111111111, \"#46039f\"], [0.2222222222222222, \"#7201a8\"], [0.3333333333333333, \"#9c179e\"], [0.4444444444444444, \"#bd3786\"], [0.5555555555555556, \"#d8576b\"], [0.6666666666666666, \"#ed7953\"], [0.7777777777777778, \"#fb9f3a\"], [0.8888888888888888, \"#fdca26\"], [1.0, \"#f0f921\"]], \"type\": \"histogram2dcontour\"}], \"mesh3d\": [{\"colorbar\": {\"outlinewidth\": 0, \"ticks\": \"\"}, \"type\": \"mesh3d\"}], \"parcoords\": [{\"line\": {\"colorbar\": {\"outlinewidth\": 0, \"ticks\": \"\"}}, \"type\": \"parcoords\"}], \"pie\": [{\"automargin\": true, \"type\": \"pie\"}], \"scatter\": [{\"marker\": {\"colorbar\": {\"outlinewidth\": 0, \"ticks\": \"\"}}, \"type\": \"scatter\"}], \"scatter3d\": [{\"line\": {\"colorbar\": {\"outlinewidth\": 0, \"ticks\": \"\"}}, \"marker\": {\"colorbar\": {\"outlinewidth\": 0, \"ticks\": \"\"}}, \"type\": \"scatter3d\"}], \"scattercarpet\": [{\"marker\": {\"colorbar\": {\"outlinewidth\": 0, \"ticks\": \"\"}}, \"type\": \"scattercarpet\"}], \"scattergeo\": [{\"marker\": {\"colorbar\": {\"outlinewidth\": 0, \"ticks\": \"\"}}, \"type\": \"scattergeo\"}], \"scattergl\": [{\"marker\": {\"colorbar\": {\"outlinewidth\": 0, \"ticks\": \"\"}}, \"type\": \"scattergl\"}], \"scattermapbox\": [{\"marker\": {\"colorbar\": {\"outlinewidth\": 0, \"ticks\": \"\"}}, \"type\": \"scattermapbox\"}], \"scatterpolar\": [{\"marker\": {\"colorbar\": {\"outlinewidth\": 0, \"ticks\": \"\"}}, \"type\": \"scatterpolar\"}], \"scatterpolargl\": [{\"marker\": {\"colorbar\": {\"outlinewidth\": 0, \"ticks\": \"\"}}, \"type\": \"scatterpolargl\"}], \"scatterternary\": [{\"marker\": {\"colorbar\": {\"outlinewidth\": 0, \"ticks\": \"\"}}, \"type\": \"scatterternary\"}], \"surface\": [{\"colorbar\": {\"outlinewidth\": 0, \"ticks\": \"\"}, \"colorscale\": [[0.0, \"#0d0887\"], [0.1111111111111111, \"#46039f\"], [0.2222222222222222, \"#7201a8\"], [0.3333333333333333, \"#9c179e\"], [0.4444444444444444, \"#bd3786\"], [0.5555555555555556, \"#d8576b\"], [0.6666666666666666, \"#ed7953\"], [0.7777777777777778, \"#fb9f3a\"], [0.8888888888888888, \"#fdca26\"], [1.0, \"#f0f921\"]], \"type\": \"surface\"}], \"table\": [{\"cells\": {\"fill\": {\"color\": \"#EBF0F8\"}, \"line\": {\"color\": \"white\"}}, \"header\": {\"fill\": {\"color\": \"#C8D4E3\"}, \"line\": {\"color\": \"white\"}}, \"type\": \"table\"}]}, \"layout\": {\"annotationdefaults\": {\"arrowcolor\": \"#2a3f5f\", \"arrowhead\": 0, \"arrowwidth\": 1}, \"coloraxis\": {\"colorbar\": {\"outlinewidth\": 0, \"ticks\": \"\"}}, \"colorscale\": {\"diverging\": [[0, \"#8e0152\"], [0.1, \"#c51b7d\"], [0.2, \"#de77ae\"], [0.3, \"#f1b6da\"], [0.4, \"#fde0ef\"], [0.5, \"#f7f7f7\"], [0.6, \"#e6f5d0\"], [0.7, \"#b8e186\"], [0.8, \"#7fbc41\"], [0.9, \"#4d9221\"], [1, \"#276419\"]], \"sequential\": [[0.0, \"#0d0887\"], [0.1111111111111111, \"#46039f\"], [0.2222222222222222, \"#7201a8\"], [0.3333333333333333, \"#9c179e\"], [0.4444444444444444, \"#bd3786\"], [0.5555555555555556, \"#d8576b\"], [0.6666666666666666, \"#ed7953\"], [0.7777777777777778, \"#fb9f3a\"], [0.8888888888888888, \"#fdca26\"], [1.0, \"#f0f921\"]], \"sequentialminus\": [[0.0, \"#0d0887\"], [0.1111111111111111, \"#46039f\"], [0.2222222222222222, \"#7201a8\"], [0.3333333333333333, \"#9c179e\"], [0.4444444444444444, \"#bd3786\"], [0.5555555555555556, \"#d8576b\"], [0.6666666666666666, \"#ed7953\"], [0.7777777777777778, \"#fb9f3a\"], [0.8888888888888888, \"#fdca26\"], [1.0, \"#f0f921\"]]}, \"colorway\": [\"#636efa\", \"#EF553B\", \"#00cc96\", \"#ab63fa\", \"#FFA15A\", \"#19d3f3\", \"#FF6692\", \"#B6E880\", \"#FF97FF\", \"#FECB52\"], \"font\": {\"color\": \"#2a3f5f\"}, \"geo\": {\"bgcolor\": \"white\", \"lakecolor\": \"white\", \"landcolor\": \"#E5ECF6\", \"showlakes\": true, \"showland\": true, \"subunitcolor\": \"white\"}, \"hoverlabel\": {\"align\": \"left\"}, \"hovermode\": \"closest\", \"mapbox\": {\"style\": \"light\"}, \"paper_bgcolor\": \"white\", \"plot_bgcolor\": \"#E5ECF6\", \"polar\": {\"angularaxis\": {\"gridcolor\": \"white\", \"linecolor\": \"white\", \"ticks\": \"\"}, \"bgcolor\": \"#E5ECF6\", \"radialaxis\": {\"gridcolor\": \"white\", \"linecolor\": \"white\", \"ticks\": \"\"}}, \"scene\": {\"xaxis\": {\"backgroundcolor\": \"#E5ECF6\", \"gridcolor\": \"white\", \"gridwidth\": 2, \"linecolor\": \"white\", \"showbackground\": true, \"ticks\": \"\", \"zerolinecolor\": \"white\"}, \"yaxis\": {\"backgroundcolor\": \"#E5ECF6\", \"gridcolor\": \"white\", \"gridwidth\": 2, \"linecolor\": \"white\", \"showbackground\": true, \"ticks\": \"\", \"zerolinecolor\": \"white\"}, \"zaxis\": {\"backgroundcolor\": \"#E5ECF6\", \"gridcolor\": \"white\", \"gridwidth\": 2, \"linecolor\": \"white\", \"showbackground\": true, \"ticks\": \"\", \"zerolinecolor\": \"white\"}}, \"shapedefaults\": {\"line\": {\"color\": \"#2a3f5f\"}}, \"ternary\": {\"aaxis\": {\"gridcolor\": \"white\", \"linecolor\": \"white\", \"ticks\": \"\"}, \"baxis\": {\"gridcolor\": \"white\", \"linecolor\": \"white\", \"ticks\": \"\"}, \"bgcolor\": \"#E5ECF6\", \"caxis\": {\"gridcolor\": \"white\", \"linecolor\": \"white\", \"ticks\": \"\"}}, \"title\": {\"x\": 0.05}, \"xaxis\": {\"automargin\": true, \"gridcolor\": \"white\", \"linecolor\": \"white\", \"ticks\": \"\", \"title\": {\"standoff\": 15}, \"zerolinecolor\": \"white\", \"zerolinewidth\": 2}, \"yaxis\": {\"automargin\": true, \"gridcolor\": \"white\", \"linecolor\": \"white\", \"ticks\": \"\", \"title\": {\"standoff\": 15}, \"zerolinecolor\": \"white\", \"zerolinewidth\": 2}}}, \"width\": 600, \"xaxis\": {\"gridwidth\": 1, \"tickfont\": {\"size\": 18}, \"title\": {\"font\": {\"size\": 24}, \"text\": \"Melting Temperature (K)\"}, \"zeroline\": false}, \"yaxis\": {\"gridwidth\": 1, \"tickfont\": {\"size\": 18}, \"title\": {\"font\": {\"size\": 24}, \"text\": \"Coefficient of Linear Thermal Expansion (K<sup>-1</sup>)\"}, \"zeroline\": false}},\n",
       "                        {\"responsive\": true}\n",
       "                    ).then(function(){\n",
       "                            \n",
       "var gd = document.getElementById('dc605ab5-c5d4-4795-9bc0-e162c154030f');\n",
       "var x = new MutationObserver(function (mutations, observer) {{\n",
       "        var display = window.getComputedStyle(gd).display;\n",
       "        if (!display || display === 'none') {{\n",
       "            console.log([gd, 'removed!']);\n",
       "            Plotly.purge(gd);\n",
       "            observer.disconnect();\n",
       "        }}\n",
       "}});\n",
       "\n",
       "// Listen for the removal of the full notebook cells\n",
       "var notebookContainer = gd.closest('#notebook-container');\n",
       "if (notebookContainer) {{\n",
       "    x.observe(notebookContainer, {childList: true});\n",
       "}}\n",
       "\n",
       "// Listen for the clearing of the current output cell\n",
       "var outputEl = gd.closest('.output');\n",
       "if (outputEl) {{\n",
       "    x.observe(outputEl, {childList: true});\n",
       "}}\n",
       "\n",
       "                        })\n",
       "                };\n",
       "                });\n",
       "            </script>\n",
       "        </div>"
      ]
     },
     "metadata": {},
     "output_type": "display_data"
    }
   ],
   "source": [
    "layout0= go.Layout(hovermode= 'closest', width = 600, height=600, showlegend=True,  # Hovermode establishes the way the labels that appear when you hover are arranged # Establishing a square plot width=height\n",
    "    xaxis= dict(title=go.layout.xaxis.Title(text='Melting Temperature (K)', font=dict(size=24)), zeroline= False, gridwidth= 1, tickfont=dict(size=18)), # Axis Titles. Removing the X-axis Mark. Adding a Grid\n",
    "    yaxis= dict(title=go.layout.yaxis.Title(text='Coefficient of Linear Thermal Expansion (K<sup>-1</sup>)', font=dict(size=24)), zeroline= False, gridwidth= 1, tickfont=dict(size=18)), # Axis Titles. Removing the Y-axis Mark. Adding a Grid\n",
    "    legend=dict(font=dict(size=24))) # Adding a legend\n",
    "\n",
    "# Trace\n",
    "\n",
    "trace0 = go.Scatter(x = melting_temperature,y = CTE, mode = 'markers',\n",
    "    marker= dict(size= 14, line= dict(width=1), color=colors), # We add a size, a border and our custom colors to the markers\n",
    "    text= sample, # This attribute (Text) labels each point to this list, which contains our elements in the same indexes as our properties\n",
    "showlegend = False)\n",
    "\n",
    "\n",
    "# Empty Traces for Legend\n",
    "legend_plot_FCC = go.Scatter(x=[None], y=[None], mode='markers', marker=dict(size=14,  line= dict(width=1),color='red'), name = 'FCC')\n",
    "legend_plot_BCC = go.Scatter(x=[None], y=[None], mode='markers', marker=dict(size=14,  line= dict(width=1),color='blue'), name = 'BCC')\n",
    "legend_plot_HCP = go.Scatter(x=[None], y=[None], mode='markers', marker=dict(size=14,  line= dict(width=1),color='yellow'), name = 'HCP')\n",
    "\n",
    "\n",
    "data = [trace0, legend_plot_FCC, legend_plot_BCC, legend_plot_HCP]\n",
    "\n",
    "fig= go.Figure(data, layout=layout0)\n",
    "iplot(fig)"
   ]
  },
  {
   "cell_type": "markdown",
   "metadata": {},
   "source": [
    " * <font color=blue> **Exercise 4.** Do you find correlations between the properties plotted? If so, what are the underlying reasons for them? </font>\n",
    " * <font color=blue> **Exercise 5.** Select a different pair or properties and create a similar plot. You can insert new cells below from the top menu (Insert -> Cell below) and copy and paste the code to create new plots.  </font>"
   ]
  },
  {
   "cell_type": "markdown",
   "metadata": {},
   "source": [
    "### 4. Query from Mendeleev\n",
    "\n",
    "Another database we can query in a similar way is Mendeleev. Mendeleev is an API (Application programming interface) dedicated library to provide access to element properties in the periodic table. Just as Pymatgen, Mendeleev also uses an object and attributes to handle a query. Mendeleev uses the **element** class (Note that is all lowercase). \n",
    "\n",
    "Making a query in Mendeleev can be done either by using the chemical symbol the same way Pymatgen does, or by providing the atomic number of the elements. Similarly, you can get a property by using it as an attribute for the object. Again, not all properties that you can query are listed here, but you can find them [here](https://mendeleev.readthedocs.io/en/stable/data.html). Note that there Mendeleev does not provide units when returning values, but you can find them in the previous link too. \n",
    "\n",
    "In this example we will query the thermal conductivity for the elements in the list \"sample\".\n",
    "\n",
    "With a little bit of programming experience in Python you can again use the commented code to query all the properties listed for the \"sample\" elements."
   ]
  },
  {
   "cell_type": "code",
   "execution_count": 48,
   "metadata": {},
   "outputs": [
    {
     "name": "stdout",
     "output_type": "stream",
     "text": [
      "Fe 80.4\n",
      "Co 100.0\n",
      "Ni 90.9\n",
      "Cu 401.0\n",
      "Zn 116.0\n"
     ]
    }
   ],
   "source": [
    "querable_mendeleev = [\"atomic_number\", \"atomic_volume\", \"boiling_point\", \"electron_affinity\", \"en_allen\", \"en_pauling\", \"econf\", \"evaporation_heat\", \"fusion_heat\", \"heat_of_formation\",\n",
    "                     \"lattice_constant\", \"melting_point\", \"specific_heat\", \"thermal_conductivity\"]\n",
    "    \n",
    "# You can get the same results using either of these two lists (Numbers correspond to the element's atomic number)\n",
    "sample = ['Fe', 'Co', 'Ni', 'Cu', 'Zn']\n",
    "#sample = [26,27,28,29,30]\n",
    "    \n",
    "for item in sample:    \n",
    "    element_object = mendel.element(item)\n",
    "    print(item, element_object.thermal_conductivity) # You can put any of the properties in the querable_mendeleev list\n",
    "    \n",
    "#for item in sample:\n",
    "#    for i in querable_mendeleev:\n",
    "#        element_object = mendel.element(item)\n",
    "#        print(item, i, getattr(element_object,i))"
   ]
  },
  {
   "cell_type": "code",
   "execution_count": 49,
   "metadata": {},
   "outputs": [
    {
     "data": {
      "text/html": [
       "<div>\n",
       "<style scoped>\n",
       "    .dataframe tbody tr th:only-of-type {\n",
       "        vertical-align: middle;\n",
       "    }\n",
       "\n",
       "    .dataframe tbody tr th {\n",
       "        vertical-align: top;\n",
       "    }\n",
       "\n",
       "    .dataframe thead th {\n",
       "        text-align: right;\n",
       "    }\n",
       "</style>\n",
       "<table border=\"1\" class=\"dataframe\">\n",
       "  <thead>\n",
       "    <tr style=\"text-align: right;\">\n",
       "      <th></th>\n",
       "      <th>atomic_mass</th>\n",
       "      <th>poissons_ratio</th>\n",
       "      <th>atomic_radius</th>\n",
       "      <th>electrical_resistivity</th>\n",
       "      <th>molar_volume</th>\n",
       "      <th>thermal_conductivity</th>\n",
       "      <th>bulk_modulus</th>\n",
       "      <th>youngs_modulus</th>\n",
       "      <th>group</th>\n",
       "      <th>is_noble_gas</th>\n",
       "      <th>...</th>\n",
       "      <th>symbol</th>\n",
       "      <th>vickers_hardness</th>\n",
       "      <th>average_ionic_radius</th>\n",
       "      <th>melting_point</th>\n",
       "      <th>rigidity_modulus</th>\n",
       "      <th>Z</th>\n",
       "      <th>number</th>\n",
       "      <th>atomic_orbitals</th>\n",
       "      <th>density_of_solid</th>\n",
       "      <th>coefficient_of_linear_thermal_expansion</th>\n",
       "    </tr>\n",
       "  </thead>\n",
       "  <tbody>\n",
       "    <tr>\n",
       "      <th>Ag</th>\n",
       "      <td>107.868200</td>\n",
       "      <td>0.37</td>\n",
       "      <td>1.60</td>\n",
       "      <td>1.630000e-08</td>\n",
       "      <td>10.27</td>\n",
       "      <td>430.0</td>\n",
       "      <td>100.0</td>\n",
       "      <td>83.0</td>\n",
       "      <td>11</td>\n",
       "      <td>False</td>\n",
       "      <td>...</td>\n",
       "      <td>Ag</td>\n",
       "      <td>251.0</td>\n",
       "      <td>1.086667</td>\n",
       "      <td>1234.93</td>\n",
       "      <td>30.0</td>\n",
       "      <td>47</td>\n",
       "      <td>47</td>\n",
       "      <td>{'1s': -900.324578, '2p': -120.913351, '2s': -...</td>\n",
       "      <td>10490.0</td>\n",
       "      <td>0.000019</td>\n",
       "    </tr>\n",
       "    <tr>\n",
       "      <th>Al</th>\n",
       "      <td>26.981539</td>\n",
       "      <td>0.35</td>\n",
       "      <td>1.25</td>\n",
       "      <td>2.700000e-08</td>\n",
       "      <td>10.00</td>\n",
       "      <td>235.0</td>\n",
       "      <td>76.0</td>\n",
       "      <td>70.0</td>\n",
       "      <td>13</td>\n",
       "      <td>False</td>\n",
       "      <td>...</td>\n",
       "      <td>Al</td>\n",
       "      <td>167.0</td>\n",
       "      <td>0.675000</td>\n",
       "      <td>933.47</td>\n",
       "      <td>26.0</td>\n",
       "      <td>13</td>\n",
       "      <td>13</td>\n",
       "      <td>{'1s': -55.156044, '2p': -2.564018, '2s': -3.9...</td>\n",
       "      <td>2700.0</td>\n",
       "      <td>0.000023</td>\n",
       "    </tr>\n",
       "    <tr>\n",
       "      <th>Au</th>\n",
       "      <td>196.966569</td>\n",
       "      <td>0.44</td>\n",
       "      <td>1.35</td>\n",
       "      <td>2.200000e-08</td>\n",
       "      <td>10.21</td>\n",
       "      <td>320.0</td>\n",
       "      <td>220.0</td>\n",
       "      <td>78.0</td>\n",
       "      <td>11</td>\n",
       "      <td>False</td>\n",
       "      <td>...</td>\n",
       "      <td>Au</td>\n",
       "      <td>216.0</td>\n",
       "      <td>1.070000</td>\n",
       "      <td>1337.33</td>\n",
       "      <td>27.0</td>\n",
       "      <td>79</td>\n",
       "      <td>79</td>\n",
       "      <td>{'1s': -2683.508245, '2p': -430.725701, '2s': ...</td>\n",
       "      <td>19300.0</td>\n",
       "      <td>0.000014</td>\n",
       "    </tr>\n",
       "    <tr>\n",
       "      <th>Cu</th>\n",
       "      <td>63.546000</td>\n",
       "      <td>0.34</td>\n",
       "      <td>1.35</td>\n",
       "      <td>1.720000e-08</td>\n",
       "      <td>7.11</td>\n",
       "      <td>400.0</td>\n",
       "      <td>140.0</td>\n",
       "      <td>130.0</td>\n",
       "      <td>11</td>\n",
       "      <td>False</td>\n",
       "      <td>...</td>\n",
       "      <td>Cu</td>\n",
       "      <td>369.0</td>\n",
       "      <td>0.820000</td>\n",
       "      <td>1357.77</td>\n",
       "      <td>48.0</td>\n",
       "      <td>29</td>\n",
       "      <td>29</td>\n",
       "      <td>{'1s': -320.78852, '2p': -33.481247, '2s': -38...</td>\n",
       "      <td>8920.0</td>\n",
       "      <td>0.000017</td>\n",
       "    </tr>\n",
       "    <tr>\n",
       "      <th>Ir</th>\n",
       "      <td>192.217000</td>\n",
       "      <td>0.26</td>\n",
       "      <td>1.35</td>\n",
       "      <td>4.700000e-08</td>\n",
       "      <td>8.52</td>\n",
       "      <td>150.0</td>\n",
       "      <td>320.0</td>\n",
       "      <td>528.0</td>\n",
       "      <td>9</td>\n",
       "      <td>False</td>\n",
       "      <td>...</td>\n",
       "      <td>Ir</td>\n",
       "      <td>1760.0</td>\n",
       "      <td>0.765000</td>\n",
       "      <td>2739.00</td>\n",
       "      <td>210.0</td>\n",
       "      <td>77</td>\n",
       "      <td>77</td>\n",
       "      <td>{'1s': -2543.761342, '2p': -405.526834, '2s': ...</td>\n",
       "      <td>22650.0</td>\n",
       "      <td>0.000006</td>\n",
       "    </tr>\n",
       "    <tr>\n",
       "      <th>Ni</th>\n",
       "      <td>58.693400</td>\n",
       "      <td>0.31</td>\n",
       "      <td>1.35</td>\n",
       "      <td>7.200000e-08</td>\n",
       "      <td>6.59</td>\n",
       "      <td>91.0</td>\n",
       "      <td>180.0</td>\n",
       "      <td>200.0</td>\n",
       "      <td>10</td>\n",
       "      <td>False</td>\n",
       "      <td>...</td>\n",
       "      <td>Ni</td>\n",
       "      <td>638.0</td>\n",
       "      <td>0.740000</td>\n",
       "      <td>1728.00</td>\n",
       "      <td>76.0</td>\n",
       "      <td>28</td>\n",
       "      <td>28</td>\n",
       "      <td>{'1s': -297.870824, '2p': -30.868027, '2s': -3...</td>\n",
       "      <td>8908.0</td>\n",
       "      <td>0.000013</td>\n",
       "    </tr>\n",
       "    <tr>\n",
       "      <th>Pb</th>\n",
       "      <td>207.200000</td>\n",
       "      <td>0.44</td>\n",
       "      <td>1.80</td>\n",
       "      <td>2.100000e-07</td>\n",
       "      <td>18.26</td>\n",
       "      <td>35.0</td>\n",
       "      <td>46.0</td>\n",
       "      <td>16.0</td>\n",
       "      <td>14</td>\n",
       "      <td>False</td>\n",
       "      <td>...</td>\n",
       "      <td>Pb</td>\n",
       "      <td>NaN</td>\n",
       "      <td>1.122500</td>\n",
       "      <td>600.61</td>\n",
       "      <td>5.6</td>\n",
       "      <td>82</td>\n",
       "      <td>82</td>\n",
       "      <td>{'1s': -2901.078061, '2p': -470.877785, '2s': ...</td>\n",
       "      <td>11340.0</td>\n",
       "      <td>0.000029</td>\n",
       "    </tr>\n",
       "    <tr>\n",
       "      <th>Pd</th>\n",
       "      <td>106.420000</td>\n",
       "      <td>0.39</td>\n",
       "      <td>1.40</td>\n",
       "      <td>1.080000e-07</td>\n",
       "      <td>8.56</td>\n",
       "      <td>72.0</td>\n",
       "      <td>180.0</td>\n",
       "      <td>121.0</td>\n",
       "      <td>10</td>\n",
       "      <td>False</td>\n",
       "      <td>...</td>\n",
       "      <td>Pd</td>\n",
       "      <td>461.0</td>\n",
       "      <td>0.846250</td>\n",
       "      <td>1828.05</td>\n",
       "      <td>44.0</td>\n",
       "      <td>46</td>\n",
       "      <td>46</td>\n",
       "      <td>{'1s': -860.134909, '2p': -114.408286, '2s': -...</td>\n",
       "      <td>12023.0</td>\n",
       "      <td>0.000012</td>\n",
       "    </tr>\n",
       "    <tr>\n",
       "      <th>Pt</th>\n",
       "      <td>195.084000</td>\n",
       "      <td>0.38</td>\n",
       "      <td>1.35</td>\n",
       "      <td>1.060000e-07</td>\n",
       "      <td>9.09</td>\n",
       "      <td>72.0</td>\n",
       "      <td>230.0</td>\n",
       "      <td>168.0</td>\n",
       "      <td>10</td>\n",
       "      <td>False</td>\n",
       "      <td>...</td>\n",
       "      <td>Pt</td>\n",
       "      <td>549.0</td>\n",
       "      <td>0.805000</td>\n",
       "      <td>2041.40</td>\n",
       "      <td>61.0</td>\n",
       "      <td>78</td>\n",
       "      <td>78</td>\n",
       "      <td>{'1s': -2613.096532, '2p': -417.96053, '2s': -...</td>\n",
       "      <td>21090.0</td>\n",
       "      <td>0.000009</td>\n",
       "    </tr>\n",
       "    <tr>\n",
       "      <th>Rh</th>\n",
       "      <td>102.905500</td>\n",
       "      <td>0.26</td>\n",
       "      <td>1.35</td>\n",
       "      <td>4.300000e-08</td>\n",
       "      <td>8.28</td>\n",
       "      <td>150.0</td>\n",
       "      <td>380.0</td>\n",
       "      <td>275.0</td>\n",
       "      <td>9</td>\n",
       "      <td>False</td>\n",
       "      <td>...</td>\n",
       "      <td>Rh</td>\n",
       "      <td>1246.0</td>\n",
       "      <td>0.745000</td>\n",
       "      <td>2237.00</td>\n",
       "      <td>150.0</td>\n",
       "      <td>45</td>\n",
       "      <td>45</td>\n",
       "      <td>{'1s': -821.136773, '2p': -108.357665, '2s': -...</td>\n",
       "      <td>12450.0</td>\n",
       "      <td>0.000008</td>\n",
       "    </tr>\n",
       "    <tr>\n",
       "      <th>Sr</th>\n",
       "      <td>87.620000</td>\n",
       "      <td>0.28</td>\n",
       "      <td>2.00</td>\n",
       "      <td>1.350000e-07</td>\n",
       "      <td>33.94</td>\n",
       "      <td>35.0</td>\n",
       "      <td>NaN</td>\n",
       "      <td>NaN</td>\n",
       "      <td>2</td>\n",
       "      <td>False</td>\n",
       "      <td>...</td>\n",
       "      <td>Sr</td>\n",
       "      <td>NaN</td>\n",
       "      <td>1.320000</td>\n",
       "      <td>1050.00</td>\n",
       "      <td>6.1</td>\n",
       "      <td>38</td>\n",
       "      <td>38</td>\n",
       "      <td>{'1s': -572.870169, '2p': -69.745941, '2s': -7...</td>\n",
       "      <td>2630.0</td>\n",
       "      <td>0.000023</td>\n",
       "    </tr>\n",
       "    <tr>\n",
       "      <th>Th</th>\n",
       "      <td>232.038060</td>\n",
       "      <td>0.27</td>\n",
       "      <td>1.80</td>\n",
       "      <td>1.500000e-07</td>\n",
       "      <td>19.80</td>\n",
       "      <td>54.0</td>\n",
       "      <td>54.0</td>\n",
       "      <td>79.0</td>\n",
       "      <td>4</td>\n",
       "      <td>False</td>\n",
       "      <td>...</td>\n",
       "      <td>Th</td>\n",
       "      <td>350.0</td>\n",
       "      <td>1.080000</td>\n",
       "      <td>2115.00</td>\n",
       "      <td>31.0</td>\n",
       "      <td>90</td>\n",
       "      <td>90</td>\n",
       "      <td>{'1s': -3524.439052, '2p': -588.218112, '2s': ...</td>\n",
       "      <td>11724.0</td>\n",
       "      <td>0.000011</td>\n",
       "    </tr>\n",
       "    <tr>\n",
       "      <th>Yb</th>\n",
       "      <td>173.040000</td>\n",
       "      <td>0.21</td>\n",
       "      <td>1.75</td>\n",
       "      <td>2.500000e-07</td>\n",
       "      <td>24.84</td>\n",
       "      <td>39.0</td>\n",
       "      <td>31.0</td>\n",
       "      <td>24.0</td>\n",
       "      <td>16</td>\n",
       "      <td>False</td>\n",
       "      <td>...</td>\n",
       "      <td>Yb</td>\n",
       "      <td>206.0</td>\n",
       "      <td>1.084000</td>\n",
       "      <td>1097.00</td>\n",
       "      <td>9.9</td>\n",
       "      <td>70</td>\n",
       "      <td>70</td>\n",
       "      <td>{'1s': -2084.069389, '2p': -323.178219, '2s': ...</td>\n",
       "      <td>6570.0</td>\n",
       "      <td>0.000026</td>\n",
       "    </tr>\n",
       "  </tbody>\n",
       "</table>\n",
       "<p>13 rows × 37 columns</p>\n",
       "</div>"
      ],
      "text/plain": [
       "    atomic_mass  poissons_ratio  atomic_radius  electrical_resistivity  \\\n",
       "Ag   107.868200            0.37           1.60            1.630000e-08   \n",
       "Al    26.981539            0.35           1.25            2.700000e-08   \n",
       "Au   196.966569            0.44           1.35            2.200000e-08   \n",
       "Cu    63.546000            0.34           1.35            1.720000e-08   \n",
       "Ir   192.217000            0.26           1.35            4.700000e-08   \n",
       "Ni    58.693400            0.31           1.35            7.200000e-08   \n",
       "Pb   207.200000            0.44           1.80            2.100000e-07   \n",
       "Pd   106.420000            0.39           1.40            1.080000e-07   \n",
       "Pt   195.084000            0.38           1.35            1.060000e-07   \n",
       "Rh   102.905500            0.26           1.35            4.300000e-08   \n",
       "Sr    87.620000            0.28           2.00            1.350000e-07   \n",
       "Th   232.038060            0.27           1.80            1.500000e-07   \n",
       "Yb   173.040000            0.21           1.75            2.500000e-07   \n",
       "\n",
       "    molar_volume  thermal_conductivity  bulk_modulus  youngs_modulus  group  \\\n",
       "Ag         10.27                 430.0         100.0            83.0     11   \n",
       "Al         10.00                 235.0          76.0            70.0     13   \n",
       "Au         10.21                 320.0         220.0            78.0     11   \n",
       "Cu          7.11                 400.0         140.0           130.0     11   \n",
       "Ir          8.52                 150.0         320.0           528.0      9   \n",
       "Ni          6.59                  91.0         180.0           200.0     10   \n",
       "Pb         18.26                  35.0          46.0            16.0     14   \n",
       "Pd          8.56                  72.0         180.0           121.0     10   \n",
       "Pt          9.09                  72.0         230.0           168.0     10   \n",
       "Rh          8.28                 150.0         380.0           275.0      9   \n",
       "Sr         33.94                  35.0           NaN             NaN      2   \n",
       "Th         19.80                  54.0          54.0            79.0      4   \n",
       "Yb         24.84                  39.0          31.0            24.0     16   \n",
       "\n",
       "    is_noble_gas  ...  symbol  vickers_hardness  average_ionic_radius  \\\n",
       "Ag         False  ...      Ag             251.0              1.086667   \n",
       "Al         False  ...      Al             167.0              0.675000   \n",
       "Au         False  ...      Au             216.0              1.070000   \n",
       "Cu         False  ...      Cu             369.0              0.820000   \n",
       "Ir         False  ...      Ir            1760.0              0.765000   \n",
       "Ni         False  ...      Ni             638.0              0.740000   \n",
       "Pb         False  ...      Pb               NaN              1.122500   \n",
       "Pd         False  ...      Pd             461.0              0.846250   \n",
       "Pt         False  ...      Pt             549.0              0.805000   \n",
       "Rh         False  ...      Rh            1246.0              0.745000   \n",
       "Sr         False  ...      Sr               NaN              1.320000   \n",
       "Th         False  ...      Th             350.0              1.080000   \n",
       "Yb         False  ...      Yb             206.0              1.084000   \n",
       "\n",
       "    melting_point  rigidity_modulus   Z  number  \\\n",
       "Ag        1234.93              30.0  47      47   \n",
       "Al         933.47              26.0  13      13   \n",
       "Au        1337.33              27.0  79      79   \n",
       "Cu        1357.77              48.0  29      29   \n",
       "Ir        2739.00             210.0  77      77   \n",
       "Ni        1728.00              76.0  28      28   \n",
       "Pb         600.61               5.6  82      82   \n",
       "Pd        1828.05              44.0  46      46   \n",
       "Pt        2041.40              61.0  78      78   \n",
       "Rh        2237.00             150.0  45      45   \n",
       "Sr        1050.00               6.1  38      38   \n",
       "Th        2115.00              31.0  90      90   \n",
       "Yb        1097.00               9.9  70      70   \n",
       "\n",
       "                                      atomic_orbitals  density_of_solid  \\\n",
       "Ag  {'1s': -900.324578, '2p': -120.913351, '2s': -...           10490.0   \n",
       "Al  {'1s': -55.156044, '2p': -2.564018, '2s': -3.9...            2700.0   \n",
       "Au  {'1s': -2683.508245, '2p': -430.725701, '2s': ...           19300.0   \n",
       "Cu  {'1s': -320.78852, '2p': -33.481247, '2s': -38...            8920.0   \n",
       "Ir  {'1s': -2543.761342, '2p': -405.526834, '2s': ...           22650.0   \n",
       "Ni  {'1s': -297.870824, '2p': -30.868027, '2s': -3...            8908.0   \n",
       "Pb  {'1s': -2901.078061, '2p': -470.877785, '2s': ...           11340.0   \n",
       "Pd  {'1s': -860.134909, '2p': -114.408286, '2s': -...           12023.0   \n",
       "Pt  {'1s': -2613.096532, '2p': -417.96053, '2s': -...           21090.0   \n",
       "Rh  {'1s': -821.136773, '2p': -108.357665, '2s': -...           12450.0   \n",
       "Sr  {'1s': -572.870169, '2p': -69.745941, '2s': -7...            2630.0   \n",
       "Th  {'1s': -3524.439052, '2p': -588.218112, '2s': ...           11724.0   \n",
       "Yb  {'1s': -2084.069389, '2p': -323.178219, '2s': ...            6570.0   \n",
       "\n",
       "    coefficient_of_linear_thermal_expansion  \n",
       "Ag                                 0.000019  \n",
       "Al                                 0.000023  \n",
       "Au                                 0.000014  \n",
       "Cu                                 0.000017  \n",
       "Ir                                 0.000006  \n",
       "Ni                                 0.000013  \n",
       "Pb                                 0.000029  \n",
       "Pd                                 0.000012  \n",
       "Pt                                 0.000009  \n",
       "Rh                                 0.000008  \n",
       "Sr                                 0.000023  \n",
       "Th                                 0.000011  \n",
       "Yb                                 0.000026  \n",
       "\n",
       "[13 rows x 37 columns]"
      ]
     },
     "execution_count": 49,
     "metadata": {},
     "output_type": "execute_result"
    }
   ],
   "source": [
    "df"
   ]
  },
  {
   "cell_type": "code",
   "execution_count": null,
   "metadata": {},
   "outputs": [],
   "source": []
  }
 ],
 "metadata": {
  "kernelspec": {
   "display_name": "PythonData",
   "language": "python",
   "name": "pythondata"
  },
  "language_info": {
   "codemirror_mode": {
    "name": "ipython",
    "version": 3
   },
   "file_extension": ".py",
   "mimetype": "text/x-python",
   "name": "python",
   "nbconvert_exporter": "python",
   "pygments_lexer": "ipython3",
   "version": "3.7.7"
  }
 },
 "nbformat": 4,
 "nbformat_minor": 2
}
