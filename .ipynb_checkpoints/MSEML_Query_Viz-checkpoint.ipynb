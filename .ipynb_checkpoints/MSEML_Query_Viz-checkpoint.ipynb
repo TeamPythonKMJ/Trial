{
 "cells": [
  {
   "cell_type": "markdown",
   "metadata": {},
   "source": [
    "## *Querying, Organizing and Visualizing Materials Data*\n",
    "\n",
    "\n",
    "**Why?** Access to data associated with materials in electronic form enables engineers, scientists and\n",
    "students to explore this data, display it graphically, find trends and develop models.\n",
    "\n",
    "**What?** In this tutorial, we will learn how to query, organize and plot data from the databases associated with the Python libraries [Pymatgen](http://pymatgen.org/) and [Mendeleev](https://mendeleev.readthedocs.io/en/stable/). \n",
    "\n",
    "**How to use this?** This tutorial uses Python, some familiarity with programming would be beneficial but is not required. Run each code cell in order by clicking \"Shift + Enter\". Feel free to modify the code, or change queries to familiarize yourself with the workings on the code.\n",
    "\n",
    "\n",
    "Suggested modifications and exercises are included in <font color=blue> blue</font>.\n",
    "\n",
    "**Outline:**\n",
    "\n",
    "1. Query from Pymatgen\n",
    "2. Processing and Organizing Data\n",
    "3. Plotting\n",
    "4. Query from Mendeleev\n",
    "\n",
    "**Get started:** Click \"Shift-Enter\" on the code cells to run! "
   ]
  },
  {
   "cell_type": "code",
   "execution_count": 19,
   "metadata": {},
   "outputs": [],
   "source": [
    "# These lines import both libraries and then define an array with elements to be used below\n",
    "\n",
    "import pymatgen as pymat\n",
    "import mendeleev as mendel\n",
    "import pandas as pd\n",
    "\n",
    "elements = ['H', 'He', 'Li', 'Be', 'B', 'C', 'N', 'O', 'F', 'Ne', 'Na', 'Mg',\n",
    "            'Al', 'Si', 'P', 'S', 'Cl', 'Ar', 'K', 'Ca', 'Sc', 'Ti', 'V', 'Cr',\n",
    "            'Mn', 'Fe', 'Co', 'Ni', 'Cu', 'Zn', 'Ga', 'Ge', 'As', 'Se', 'Br',\n",
    "            'Kr', 'Rb', 'Sr', 'Y', 'Zr', 'Nb', 'Mo', 'Tc', 'Ru', 'Rh', 'Pd', 'Ag',\n",
    "            'Cd', 'In', 'Sn', 'Sb', 'Te', 'I', 'Xe', 'Cs', 'Ba', 'Hf', 'Ta', 'W',\n",
    "            'Re', 'Os', 'Ir', 'Pt', 'Au', 'Hg', 'Tl', 'Pb', 'Bi', 'Po', 'At', 'Rn',\n",
    "            'Fr', 'Ra', 'Lr',\n",
    "            'La', 'Ce', 'Pr', 'Nd', 'Pm', 'Sm', 'Eu', 'Gd', 'Tb', 'Dy', 'Ho', 'Er', \n",
    "            'Tm', 'Yb', 'Lu', 'Ac', 'Th', 'Pa', 'U', 'Np', 'Pu', 'Am', 'Cm', 'Bk', \n",
    "            'Cf', 'Es', 'Fm', 'Md', 'No']"
   ]
  },
  {
   "cell_type": "code",
   "execution_count": 20,
   "metadata": {},
   "outputs": [
    {
     "data": {
      "text/plain": [
       "103"
      ]
     },
     "execution_count": 20,
     "metadata": {},
     "output_type": "execute_result"
    }
   ],
   "source": [
    "len(elements)"
   ]
  },
  {
   "cell_type": "markdown",
   "metadata": {},
   "source": [
    "### 1. Query from Pymatgen\n",
    "\n",
    "Pymatgen is an open-source library in python used for material analysis. Pymatgen is a powerful and popular resource that can be used to access data in the two repositories: the [Materials Project](https://materialsproject.org/) and the [Crystallography Open Database](http://www.crystallography.net/cod/). Pymatgen makes querying these resources and obtain data from its internal database easy. We will start by querying the database within the library by using the **Element** class.\n",
    "\n",
    "Making a query in Pymatgen requires the chemical symbol of the element, which are all listed in the cell above. From there, the property is accessible as an attribute of that Element object. For a list of all the properties available click [here](http://pymatgen.org/pymatgen.core.periodic_table.html?pymatgen.core.periodic_table.Specie.element) to learn more about the Element class.\n",
    "\n",
    "In this example we will query the Young's modulus for the elements in the list \"sample\". You will be able to see the values with the corresponding units for this quantity. You can use the commented code to query all the properties listed for the \"sample\" elements."
   ]
  },
  {
   "cell_type": "code",
   "execution_count": 21,
   "metadata": {},
   "outputs": [
    {
     "name": "stdout",
     "output_type": "stream",
     "text": [
      "Fe 211.0 GPa\n",
      "Co 209.0 GPa\n",
      "Ni 200.0 GPa\n",
      "Ti 116.0 GPa\n",
      "Cr 279.0 GPa\n"
     ]
    }
   ],
   "source": [
    "querable_pymatgen = [\"atomic_mass\", \"poissons_ratio\",\"atomic_radius\", \"electrical_resistivity\",\"molar_volume\",\n",
    "                     \"thermal_conductivity\", \"bulk_modulus\", \"youngs_modulus\", \"group\",\n",
    "                     \"is_noble_gas\", \"is_transition_metal\", \"is_post_transition_metal\", \"is_rare_earth_metal\",\n",
    "                     \"is_metalloid\", \"is_alkali\", \"is_alkaline\", \"is_halogen\", \"is_lanthanoid\", \"is_actinoid\",\n",
    "                     \"van_der_waals_radius\", \"velocity_of_sound\", \"critical_temperature\", \"superconduction_temperature\",\n",
    "                     \"average_cationic_radius\", \"average_anionic_radius\", \"ionic_radii\", \"boiling_point\", \"symbol\",\n",
    "                    \"vickers_hardness\", \"average_ionic_radius\", \"melting_point\", \"rigidity_modulus\", \"Z\", \"number\", \n",
    "                     \"density_of_solid\",\"coefficient_of_linear_thermal_expansion\"]\n",
    "\n",
    "# sample = ['Fe', 'Co', 'Ni', 'Cu', 'Zn']\n",
    "# sample = ['La']\n",
    "sample = ['Fe', 'Co', 'Ni', 'Ti', 'Cr']\n",
    "for item in sample:\n",
    "    element_object = pymat.Element(item)\n",
    "    print(item, element_object.youngs_modulus) # You can change \"youngs_modulus\" to any of the properties in the querable_pymatgen list\n",
    "    \n",
    "# for item in sample:\n",
    "#    for i in querable_pymatgen:\n",
    "#        element_object = pymat.Element(item)\n",
    "#        print(item, i, getattr(element_object,i))"
   ]
  },
  {
   "cell_type": "code",
   "execution_count": 22,
   "metadata": {},
   "outputs": [
    {
     "name": "stdout",
     "output_type": "stream",
     "text": [
      "Fe atomic_mass 55.845 amu\n",
      "Fe poissons_ratio 0.29\n",
      "Fe atomic_radius 1.4 ang\n",
      "Fe electrical_resistivity 1e-07 m ohm\n",
      "Fe molar_volume 7.09 cm^3\n",
      "Fe thermal_conductivity 80.0 W K^-1 m^-1\n",
      "Fe bulk_modulus 170.0 GPa\n",
      "Fe youngs_modulus 211.0 GPa\n",
      "Fe group 8\n",
      "Fe is_noble_gas False\n",
      "Fe is_transition_metal True\n",
      "Fe is_post_transition_metal False\n",
      "Fe is_rare_earth_metal False\n",
      "Fe is_metalloid False\n",
      "Fe is_alkali False\n",
      "Fe is_alkaline False\n",
      "Fe is_halogen False\n",
      "Fe is_lanthanoid False\n",
      "Fe is_actinoid False\n",
      "Fe van_der_waals_radius None\n",
      "Fe velocity_of_sound 4910.0 m s^-1\n",
      "Fe critical_temperature None\n",
      "Fe superconduction_temperature None\n",
      "Fe average_cationic_radius 0.8525 ang\n",
      "Fe average_anionic_radius 0.0 ang\n",
      "Fe ionic_radii {2: 0.92, 3: 0.785}\n",
      "Fe boiling_point 3134.0 K\n",
      "Fe symbol Fe\n",
      "Fe vickers_hardness 608.0 MN m^-2\n",
      "Fe average_ionic_radius 0.8525 ang\n",
      "Fe melting_point 1811.0 K\n",
      "Fe rigidity_modulus 82.0 GPa\n",
      "Fe Z 26\n",
      "Fe number 26\n",
      "Fe density_of_solid 7874.0 kg m^-3\n",
      "Fe coefficient_of_linear_thermal_expansion 1.18e-05 K^-1\n",
      "Co atomic_mass 58.933195 amu\n",
      "Co poissons_ratio 0.31\n",
      "Co atomic_radius 1.35 ang\n",
      "Co electrical_resistivity 6e-08 m ohm\n",
      "Co molar_volume 6.67 cm^3\n",
      "Co thermal_conductivity 100.0 W K^-1 m^-1\n",
      "Co bulk_modulus 180.0 GPa\n",
      "Co youngs_modulus 209.0 GPa\n",
      "Co group 9\n",
      "Co is_noble_gas False\n",
      "Co is_transition_metal True\n",
      "Co is_post_transition_metal False\n",
      "Co is_rare_earth_metal False\n",
      "Co is_metalloid False\n",
      "Co is_alkali False\n",
      "Co is_alkaline False\n",
      "Co is_halogen False\n",
      "Co is_lanthanoid False\n",
      "Co is_actinoid False\n",
      "Co van_der_waals_radius None\n",
      "Co velocity_of_sound 4720.0 m s^-1\n",
      "Co critical_temperature None\n",
      "Co superconduction_temperature None\n",
      "Co average_cationic_radius 0.7683333333333334 ang\n",
      "Co average_anionic_radius 0.0 ang\n",
      "Co ionic_radii {2: 0.885, 3: 0.75, 4: 0.67}\n",
      "Co boiling_point 3200.0 K\n",
      "Co symbol Co\n",
      "Co vickers_hardness 1043.0 MN m^-2\n",
      "Co average_ionic_radius 0.7683333333333334 ang\n",
      "Co melting_point 1768.0 K\n",
      "Co rigidity_modulus 75.0 GPa\n",
      "Co Z 27\n",
      "Co number 27\n",
      "Co density_of_solid 8900.0 kg m^-3\n",
      "Co coefficient_of_linear_thermal_expansion 1.3e-05 K^-1\n",
      "Ni atomic_mass 58.6934 amu\n",
      "Ni poissons_ratio 0.31\n",
      "Ni atomic_radius 1.35 ang\n",
      "Ni electrical_resistivity 7.2e-08 m ohm\n",
      "Ni molar_volume 6.59 cm^3\n",
      "Ni thermal_conductivity 91.0 W K^-1 m^-1\n",
      "Ni bulk_modulus 180.0 GPa\n",
      "Ni youngs_modulus 200.0 GPa\n",
      "Ni group 10\n",
      "Ni is_noble_gas False\n",
      "Ni is_transition_metal True\n",
      "Ni is_post_transition_metal False\n",
      "Ni is_rare_earth_metal False\n",
      "Ni is_metalloid False\n",
      "Ni is_alkali False\n",
      "Ni is_alkaline False\n",
      "Ni is_halogen False\n",
      "Ni is_lanthanoid False\n",
      "Ni is_actinoid False\n",
      "Ni van_der_waals_radius 1.63\n",
      "Ni velocity_of_sound 4970.0 m s^-1\n",
      "Ni critical_temperature None\n",
      "Ni superconduction_temperature None\n",
      "Ni average_cationic_radius 0.74 ang\n",
      "Ni average_anionic_radius 0.0 ang\n",
      "Ni ionic_radii {3: 0.74}\n",
      "Ni boiling_point 3186.0 K\n",
      "Ni symbol Ni\n",
      "Ni vickers_hardness 638.0 MN m^-2\n",
      "Ni average_ionic_radius 0.74 ang\n",
      "Ni melting_point 1728.0 K\n",
      "Ni rigidity_modulus 76.0 GPa\n",
      "Ni Z 28\n",
      "Ni number 28\n",
      "Ni density_of_solid 8908.0 kg m^-3\n",
      "Ni coefficient_of_linear_thermal_expansion 1.34e-05 K^-1\n",
      "Ti atomic_mass 47.867 amu\n",
      "Ti poissons_ratio 0.32\n",
      "Ti atomic_radius 1.4 ang\n",
      "Ti electrical_resistivity 4e-07 m ohm\n",
      "Ti molar_volume 10.64 cm^3\n",
      "Ti thermal_conductivity 22.0 W K^-1 m^-1\n",
      "Ti bulk_modulus 110.0 GPa\n",
      "Ti youngs_modulus 116.0 GPa\n",
      "Ti group 4\n",
      "Ti is_noble_gas False\n",
      "Ti is_transition_metal True\n",
      "Ti is_post_transition_metal False\n",
      "Ti is_rare_earth_metal False\n",
      "Ti is_metalloid False\n",
      "Ti is_alkali False\n",
      "Ti is_alkaline False\n",
      "Ti is_halogen False\n",
      "Ti is_lanthanoid False\n",
      "Ti is_actinoid False\n",
      "Ti van_der_waals_radius None\n",
      "Ti velocity_of_sound 4140.0 m s^-1\n",
      "Ti critical_temperature None\n",
      "Ti superconduction_temperature 0.4 K\n",
      "Ti average_cationic_radius 0.8516666666666667 ang\n",
      "Ti average_anionic_radius 0.0 ang\n",
      "Ti ionic_radii {2: 1.0, 3: 0.81, 4: 0.745}\n",
      "Ti boiling_point 3560.0 K\n",
      "Ti symbol Ti\n",
      "Ti vickers_hardness 970.0 MN m^-2\n",
      "Ti average_ionic_radius 0.8516666666666667 ang\n",
      "Ti melting_point 1941.0 K\n",
      "Ti rigidity_modulus 44.0 GPa\n",
      "Ti Z 22\n",
      "Ti number 22\n",
      "Ti density_of_solid 4507.0 kg m^-3\n",
      "Ti coefficient_of_linear_thermal_expansion 8.6e-06 K^-1\n",
      "Cr atomic_mass 51.9961 amu\n",
      "Cr poissons_ratio 0.21\n",
      "Cr atomic_radius 1.4 ang\n",
      "Cr electrical_resistivity 1.27e-07 m ohm\n",
      "Cr molar_volume 7.23 cm^3\n",
      "Cr thermal_conductivity 94.0 W K^-1 m^-1\n",
      "Cr bulk_modulus 160.0 GPa\n",
      "Cr youngs_modulus 279.0 GPa\n",
      "Cr group 6\n",
      "Cr is_noble_gas False\n",
      "Cr is_transition_metal True\n",
      "Cr is_post_transition_metal False\n",
      "Cr is_rare_earth_metal False\n",
      "Cr is_metalloid False\n",
      "Cr is_alkali False\n",
      "Cr is_alkaline False\n",
      "Cr is_halogen False\n",
      "Cr is_lanthanoid False\n",
      "Cr is_actinoid False\n",
      "Cr van_der_waals_radius None\n",
      "Cr velocity_of_sound 5940.0 m s^-1\n",
      "Cr critical_temperature None\n",
      "Cr superconduction_temperature None\n",
      "Cr average_cationic_radius 0.94 ang\n",
      "Cr average_anionic_radius 0.0 ang\n",
      "Cr ionic_radii {2: 0.94}\n",
      "Cr boiling_point 2944.0 K\n",
      "Cr symbol Cr\n",
      "Cr vickers_hardness 1060.0 MN m^-2\n",
      "Cr average_ionic_radius 0.94 ang\n",
      "Cr melting_point 2180.0 K\n",
      "Cr rigidity_modulus 115.0 GPa\n",
      "Cr Z 24\n",
      "Cr number 24\n",
      "Cr density_of_solid 7140.0 kg m^-3\n",
      "Cr coefficient_of_linear_thermal_expansion 4.9e-06 K^-1\n"
     ]
    }
   ],
   "source": [
    "for item in sample:\n",
    "   for i in querable_pymatgen:\n",
    "       element_object = pymat.Element(item)\n",
    "       print(item, i, getattr(element_object,i))"
   ]
  },
  {
   "cell_type": "code",
   "execution_count": 23,
   "metadata": {},
   "outputs": [
    {
     "name": "stdout",
     "output_type": "stream",
     "text": [
      "Fe 490.0 MN m^-2\n",
      "Co 700.0 MN m^-2\n",
      "Ni 700.0 MN m^-2\n",
      "Ti 716.0 MN m^-2\n",
      "Cr 1120.0 MN m^-2\n"
     ]
    }
   ],
   "source": [
    "for item in sample:\n",
    "    element_object = pymat.Element(item)\n",
    "    print(item, element_object.brinell_hardness)"
   ]
  },
  {
   "cell_type": "markdown",
   "metadata": {},
   "source": [
    " * <font color=blue> **Exercise 1.** Modify the query above to extract Brinell hardness. </font>\n",
    " * <font color=blue> **Exercise 2.** Uncomment the lines above to see all the properties of the selected elements. </font>\n",
    " \n",
    " Remember: \"Shift-Enter\" to re-run the cell.\n",
    " "
   ]
  },
  {
   "cell_type": "markdown",
   "metadata": {},
   "source": [
    "### 2. Processing and Organizing Data\n",
    "\n",
    "After going through the basics of a query, we will now learn how to organize data in Python lists and dictionaries.\n",
    "\n",
    "Entries in a dictionary have a name (in our case, the element) and attributes associated with it. Dictonaries can be useful to store a collection of data values from a particular element. In this example, we will create one to store some of the properties for Iron, using queries from both of the libraries we discussed. Note that the specific heat is obtained from Mendeleev, which is another database to access properties of elements."
   ]
  },
  {
   "cell_type": "code",
   "execution_count": 24,
   "metadata": {},
   "outputs": [
    {
     "name": "stdout",
     "output_type": "stream",
     "text": [
      "{'atomic_number': 26, 'coefficient_of_linear_thermal_expansion': 1.18e-05, 'youngs_modulus': 211.0, 'specific_heat': 0.443}\n",
      "0.443\n"
     ]
    }
   ],
   "source": [
    "Fe_data = {} # Initializing a dictionary\n",
    "\n",
    "# Each of the following lines is making a single entry\n",
    "\n",
    "Fe_data[\"atomic_number\"] = mendel.element(\"Fe\").atomic_number #Mendeleev library.\n",
    "Fe_data[\"coefficient_of_linear_thermal_expansion\"] = pymat.Element(\"Fe\").coefficient_of_linear_thermal_expansion\n",
    "Fe_data[\"youngs_modulus\"] = pymat.Element(\"Fe\").youngs_modulus\n",
    "Fe_data[\"specific_heat\"] = mendel.element(\"Fe\").specific_heat #Mendeleev library.\n",
    "\n",
    "#Print the entire entry for Fe\n",
    "print(Fe_data)\n",
    "\n",
    "#Print a specific attribute:\n",
    "print(Fe_data[\"specific_heat\"])\n",
    "\n",
    "# This line is to delete an entry\n",
    "    # del Fe_data[\"atomic_number\"]"
   ]
  },
  {
   "cell_type": "markdown",
   "metadata": {},
   "source": [
    "Another way we can organize data is in lists, which can be very helpful if we want to create plots with our data. Following the examples above, we will now query two specific properties for all elements to get a list of values which will be indexed corresponding to the positions of the elements in the \"elements\" list in the first cell of the tutorial."
   ]
  },
  {
   "cell_type": "code",
   "execution_count": 93,
   "metadata": {},
   "outputs": [
    {
     "name": "stdout",
     "output_type": "stream",
     "text": [
      "[None, None, 4.6e-05, 1.13e-05, 6e-06, 7.1e-06, None, None, None, None, 7.1e-05, 8.2e-06, 2.31e-05, 2.6e-06, None, None, None, None, None, 2.23e-05, 1.02e-05, 8.6e-06, 8.4e-06, 4.9e-06, 2.17e-05, 1.18e-05, 1.3e-05, 1.34e-05, 1.65e-05, 3.02e-05, 0.00012, 6e-06, None, None, None, None, None, 2.25e-05, 1.06e-05, 5.7e-06, 7.3e-06, 4.8e-06, None, 6.4e-06, 8.2e-06, 1.18e-05, 1.89e-05, 3.08e-05, 3.21e-05, 2.2e-05, 1.1e-05, None, None, None, None, 2.06e-05, 5.9e-06, 6.3e-06, 4.5e-06, 6.2e-06, 5.1e-06, 6.4e-06, 8.8e-06, 1.42e-05, None, 2.99e-05, 2.89e-05, 1.34e-05, None, None, None, None, None, None, 1.21e-05, 6.3e-06, 6.7e-06, 9.6e-06, 1.1e-05, 1.27e-05, 3.5e-05, 9.4e-06, 1.03e-05, 9.9e-06, 1.12e-05, 1.22e-05, 1.33e-05, 2.63e-05, 9.9e-06, None, 1.1e-05, None, 1.39e-05, None, None, None, None, None, None, None, None, None, None]\n",
      "[None, None, 4.9, 287.0, None, None, None, None, None, None, 10.0, 45.0, 70.0, 47.0, None, None, None, None, None, 20.0, 74.0, 116.0, 128.0, 279.0, 198.0, 211.0, 209.0, 200.0, 130.0, 108.0, None, None, 8.0, 10.0, None, None, 2.4, None, 64.0, 68.0, 105.0, 329.0, None, 447.0, 275.0, 121.0, 83.0, 50.0, 11.0, 50.0, 55.0, 43.0, None, None, 1.7, 13.0, 78.0, 186.0, 411.0, 463.0, None, 528.0, 168.0, 78.0, None, 8.0, 16.0, 32.0, None, None, None, None, None, None, 37.0, 34.0, 37.0, 41.0, 46.0, 50.0, 18.0, 55.0, 56.0, 61.0, 65.0, 70.0, 74.0, 24.0, 69.0, None, 79.0, None, 208.0, None, 96.0, None, None, None, None, None, None, None, None]\n",
      "[14.01, 0.95, 453.69, 1560.0, 2349.0, 3800.0, 63.05, 54.8, 53.53, 24.56, 370.87, 923.0, 933.47, 1687.0, 317.3, 388.36, 171.6, 83.8, 336.53, 1115.0, 1814.0, 1941.0, 2183.0, 2180.0, 1519.0, 1811.0, 1768.0, 1728.0, 1357.77, 692.68, 302.91, 1211.4, 1090.0, 494.0, 265.8, 115.79, 312.46, 1050.0, 1799.0, 2128.0, 2750.0, 2896.0, 2430.0, 2607.0, 2237.0, 1828.05, 1234.93, 594.22, 429.75, 505.08, 903.78, 722.66, 386.85, 161.4, 301.59, 1000.0, 2506.0, 3290.0, 3695.0, 3459.0, 3306.0, 2739.0, 2041.4, 1337.33, 234.32, 577.0, 600.61, 544.4, 527.0, 575.0, 202.0, 'maybe about 300 K', 973.0, 1900.0, 1193.0, 1068.0, 1208.0, 1297.0, 1373.0, 1345.0, 1099.0, 1585.0, 1629.0, 1680.0, 1734.0, 1802.0, 1818.0, 1097.0, 1925.0, 1323.0, 2115.0, 1841.0, 1405.3, 910.0, 912.5, 1449.0, 1613.0, 1259.0, 1173.0, 1133.0, 1800.0, 1100.0, 1100.0]\n",
      "[0.25, None, 1.45, 1.05, 0.85, 0.7, 0.65, 0.6, 0.5, None, 1.8, 1.5, 1.25, 1.1, 1.0, 1.0, 1.0, 0.71, 2.2, 1.8, 1.6, 1.4, 1.35, 1.4, 1.4, 1.4, 1.35, 1.35, 1.35, 1.35, 1.3, 1.25, 1.15, 1.15, 1.15, None, 2.35, 2.0, 1.8, 1.55, 1.45, 1.45, 1.35, 1.3, 1.35, 1.4, 1.6, 1.55, 1.55, 1.45, 1.45, 1.4, 1.4, None, 2.6, 2.15, 1.55, 1.45, 1.35, 1.35, 1.3, 1.35, 1.35, 1.35, 1.5, 1.9, 1.8, 1.6, 1.9, None, None, None, 2.15, None, 1.95, 1.85, 1.85, 1.85, 1.85, 1.85, 1.85, 1.8, 1.75, 1.75, 1.75, 1.75, 1.75, 1.75, 1.75, 1.95, 1.8, 1.8, 1.75, 1.75, 1.75, 1.75, None, None, None, None, None, None, None]\n",
      "[None, 5.188, 3.489, 1.824, 1.025, 0.711, None, None, None, 1.029, 1.222, 1.025, 0.9, 0.703, 0.757, 0.732, None, 0.138, 0.753, 0.653, 0.556, 0.523, 0.485, 0.488, 0.477, 0.443, 0.456, 0.443, 0.385, 0.388, 0.372, 0.322, 0.328, None, None, 0.247, 0.36, 0.301, 0.284, 0.281, 0.268, 0.251, 0.243, 0.238, 0.244, 0.244, 0.237, 0.232, 0.234, 0.222, 0.205, 0.201, None, 0.158, 0.241, 0.192, 0.146, 0.14, 0.133, 0.138, 0.131, 0.133, 0.133, 0.129, 0.138, 0.128, 0.159, 0.124, 0.125, None, 0.094, None, 0.12, None, 0.197, 0.205, 0.192, 0.205, 0.185, 0.18, 0.176, 0.23, 0.183, 0.173, 0.164, 0.168, 0.16, 0.145, 0.155, None, 0.113, 0.121, 0.115, None, None, None, None, None, None, None, None, None, None]\n"
     ]
    }
   ],
   "source": [
    "sample = elements.copy()\n",
    "\n",
    "CTE = [] # In this list we will store the Coefficients of Thermal Expansion\n",
    "youngs_modulus = [] # In this list we will store the Young's Moduli\n",
    "melting_temperature = [] # In this list we will store the Melting Temperatures\n",
    "atomic = [] # In this list we will store the Melting Temperatures\n",
    "atomic_radius = []\n",
    "specific_heat = []\n",
    "\n",
    "for item in sample:\n",
    "    CTE.append(pymat.Element(item).coefficient_of_linear_thermal_expansion)\n",
    "    youngs_modulus.append(pymat.Element(item).youngs_modulus)\n",
    "    melting_temperature.append(pymat.Element(item).melting_point)\n",
    "    atomic_radius.append(pymat.Element(item).atomic_radius)\n",
    "    specific_heat.append(mendel.element(item).specific_heat)\n",
    "    \n",
    "# You can visualize the lists by uncommenting these print statements\n",
    "print(CTE)\n",
    "print(youngs_modulus)\n",
    "print(melting_temperature)\n",
    "print(atomic_radius)\n",
    "print(specific_heat)\n",
    "\n",
    "# We will use the following arrays to group elements by their crystal structure at RT, all elements that are gases and liquids at RT have been removed\n",
    "\n",
    "fcc_elements = [\"Ag\", \"Al\", \"Au\", \"Cu\", \"Ir\", \"Ni\", \"Pb\", \"Pd\", \"Pt\", \"Rh\", \"Sr\", \"Th\", \"Yb\"]\n",
    "bcc_elements = [\"Ba\", \"Cr\", \"Cs\", \"Eu\", \"Fe\", \"K\", \"Li\", \"Mn\", \"Mo\", \"Na\", \"Nb\", \"P\", \"Rb\", \"Ta\", \"V\", \"W\" ]\n",
    "hcp_elements = [\"Be\", \"Ca\", \"Cd\", \"Co\", \"Dy\", \"Er\", \"Gd\", \"Hf\", \"Ho\", \"Lu\", \"Mg\", \"Os\", \"Re\", \"Ru\", \"Sc\", \"Tb\", \"Tc\",\"Ti\", \"Tl\", \"Tm\", \"Y\", \"Zn\", \"Zr\"]\n",
    "\n",
    "# Others (Solids): \"B\", \"Sb\", \"Sm\", \"Bi\" and \"As\" are Rhombohedral; \"C\" , \"Ce\" and \"Sn\" are Allotropic; \"Si\" and \"Ge\" are Face-centered diamond-cubic; \"Pu\" is Monoclinic;\n",
    "#                  \"S\", \"I\", \"U\", \"Np\" and \"Ga\" are Orthorhombic; \"Se\" and \"Te\" Hexagonal; \"In\" and \"Pa\" are Tetragonal; \"la\", \"Pr\", \"Nd\", \"Pm\" are Double hexagonal close-packed;"
   ]
  },
  {
   "cell_type": "markdown",
   "metadata": {},
   "source": [
    "Finally, the most efficient way we to visualize how the dataset we just created looks is to use the [Pandas](https://pandas.pydata.org/) library to display it. This library will take the list of lists and show it in a nice, user-friendly table with the properties as the column headers.\n",
    "\n",
    "For this exercise, we will work with the data extracted for elements with the <b>FCC crystal structure</b>. \n",
    "\n",
    "First, we will create a list of lists using a for-loop and the values we can query from the Pymatgen library. We can specify the names for each column from our array of properties we queried. "
   ]
  },
  {
   "cell_type": "code",
   "execution_count": 26,
   "metadata": {},
   "outputs": [
    {
     "data": {
      "text/plain": [
       "36"
      ]
     },
     "execution_count": 26,
     "metadata": {},
     "output_type": "execute_result"
    }
   ],
   "source": [
    "len(querable_pymatgen)"
   ]
  },
  {
   "cell_type": "code",
   "execution_count": 97,
   "metadata": {},
   "outputs": [
    {
     "data": {
      "text/plain": [
       "1.4"
      ]
     },
     "execution_count": 97,
     "metadata": {},
     "output_type": "execute_result"
    }
   ],
   "source": [
    "getattr(pymat.Element(\"Fe\"), \"atomic_radius\")"
   ]
  },
  {
   "cell_type": "code",
   "execution_count": 84,
   "metadata": {},
   "outputs": [
    {
     "name": "stdout",
     "output_type": "stream",
     "text": [
      "Be atomic_mass\n",
      "Be poissons_ratio\n",
      "Be atomic_radius\n",
      "Be electrical_resistivity\n",
      "Be molar_volume\n",
      "Be thermal_conductivity\n",
      "Be bulk_modulus\n",
      "Be youngs_modulus\n",
      "Be group\n",
      "Be is_noble_gas\n",
      "Be is_transition_metal\n",
      "Be is_post_transition_metal\n",
      "Be is_rare_earth_metal\n",
      "Be is_metalloid\n",
      "Be is_alkali\n",
      "Be is_alkaline\n",
      "Be is_halogen\n",
      "Be is_lanthanoid\n",
      "Be is_actinoid\n",
      "Be van_der_waals_radius\n",
      "Be velocity_of_sound\n",
      "Be critical_temperature\n",
      "Be superconduction_temperature\n",
      "Be average_cationic_radius\n",
      "Be average_anionic_radius\n",
      "Be ionic_radii\n",
      "Be boiling_point\n",
      "Be symbol\n",
      "Be vickers_hardness\n",
      "Be average_ionic_radius\n",
      "Be melting_point\n",
      "Be rigidity_modulus\n",
      "Be Z\n",
      "Be number\n",
      "Be density_of_solid\n",
      "Be coefficient_of_linear_thermal_expansion\n",
      "Ca atomic_mass\n",
      "Ca poissons_ratio\n",
      "Ca atomic_radius\n",
      "Ca electrical_resistivity\n",
      "Ca molar_volume\n",
      "Ca thermal_conductivity\n",
      "Ca bulk_modulus\n",
      "Ca youngs_modulus\n",
      "Ca group\n",
      "Ca is_noble_gas\n",
      "Ca is_transition_metal\n",
      "Ca is_post_transition_metal\n",
      "Ca is_rare_earth_metal\n",
      "Ca is_metalloid\n",
      "Ca is_alkali\n",
      "Ca is_alkaline\n",
      "Ca is_halogen\n",
      "Ca is_lanthanoid\n",
      "Ca is_actinoid\n",
      "Ca van_der_waals_radius\n",
      "Ca velocity_of_sound\n",
      "Ca critical_temperature\n",
      "Ca superconduction_temperature\n",
      "Ca average_cationic_radius\n",
      "Ca average_anionic_radius\n",
      "Ca ionic_radii\n",
      "Ca boiling_point\n",
      "Ca symbol\n",
      "Ca vickers_hardness\n",
      "Ca average_ionic_radius\n",
      "Ca melting_point\n",
      "Ca rigidity_modulus\n",
      "Ca Z\n",
      "Ca number\n",
      "Ca density_of_solid\n",
      "Ca coefficient_of_linear_thermal_expansion\n",
      "Cd atomic_mass\n",
      "Cd poissons_ratio\n",
      "Cd atomic_radius\n",
      "Cd electrical_resistivity\n",
      "Cd molar_volume\n",
      "Cd thermal_conductivity\n",
      "Cd bulk_modulus\n",
      "Cd youngs_modulus\n",
      "Cd group\n",
      "Cd is_noble_gas\n",
      "Cd is_transition_metal\n",
      "Cd is_post_transition_metal\n",
      "Cd is_rare_earth_metal\n",
      "Cd is_metalloid\n",
      "Cd is_alkali\n",
      "Cd is_alkaline\n",
      "Cd is_halogen\n",
      "Cd is_lanthanoid\n",
      "Cd is_actinoid\n",
      "Cd van_der_waals_radius\n",
      "Cd velocity_of_sound\n",
      "Cd critical_temperature\n",
      "Cd superconduction_temperature\n",
      "Cd average_cationic_radius\n",
      "Cd average_anionic_radius\n",
      "Cd ionic_radii\n",
      "Cd boiling_point\n",
      "Cd symbol\n",
      "Cd vickers_hardness\n",
      "Cd average_ionic_radius\n",
      "Cd melting_point\n",
      "Cd rigidity_modulus\n",
      "Cd Z\n",
      "Cd number\n",
      "Cd density_of_solid\n",
      "Cd coefficient_of_linear_thermal_expansion\n",
      "Co atomic_mass\n",
      "Co poissons_ratio\n",
      "Co atomic_radius\n",
      "Co electrical_resistivity\n",
      "Co molar_volume\n",
      "Co thermal_conductivity\n",
      "Co bulk_modulus\n",
      "Co youngs_modulus\n",
      "Co group\n",
      "Co is_noble_gas\n",
      "Co is_transition_metal\n",
      "Co is_post_transition_metal\n",
      "Co is_rare_earth_metal\n",
      "Co is_metalloid\n",
      "Co is_alkali\n",
      "Co is_alkaline\n",
      "Co is_halogen\n",
      "Co is_lanthanoid\n",
      "Co is_actinoid\n",
      "Co van_der_waals_radius\n",
      "Co velocity_of_sound\n",
      "Co critical_temperature\n",
      "Co superconduction_temperature\n",
      "Co average_cationic_radius\n",
      "Co average_anionic_radius\n",
      "Co ionic_radii\n",
      "Co boiling_point\n",
      "Co symbol\n",
      "Co vickers_hardness\n",
      "Co average_ionic_radius\n",
      "Co melting_point\n",
      "Co rigidity_modulus\n",
      "Co Z\n",
      "Co number\n",
      "Co density_of_solid\n",
      "Co coefficient_of_linear_thermal_expansion\n",
      "Dy atomic_mass\n",
      "Dy poissons_ratio\n",
      "Dy atomic_radius\n",
      "Dy electrical_resistivity\n",
      "Dy molar_volume\n",
      "Dy thermal_conductivity\n",
      "Dy bulk_modulus\n",
      "Dy youngs_modulus\n",
      "Dy group\n",
      "Dy is_noble_gas\n",
      "Dy is_transition_metal\n",
      "Dy is_post_transition_metal\n",
      "Dy is_rare_earth_metal\n",
      "Dy is_metalloid\n",
      "Dy is_alkali\n",
      "Dy is_alkaline\n",
      "Dy is_halogen\n",
      "Dy is_lanthanoid\n",
      "Dy is_actinoid\n",
      "Dy van_der_waals_radius\n",
      "Dy velocity_of_sound\n",
      "Dy critical_temperature\n",
      "Dy superconduction_temperature\n",
      "Dy average_cationic_radius\n",
      "Dy average_anionic_radius\n",
      "Dy ionic_radii\n",
      "Dy boiling_point\n",
      "Dy symbol\n",
      "Dy vickers_hardness\n",
      "Dy average_ionic_radius\n",
      "Dy melting_point\n",
      "Dy rigidity_modulus\n",
      "Dy Z\n",
      "Dy number\n",
      "Dy density_of_solid\n",
      "Dy coefficient_of_linear_thermal_expansion\n",
      "Er atomic_mass\n",
      "Er poissons_ratio\n",
      "Er atomic_radius\n",
      "Er electrical_resistivity\n",
      "Er molar_volume\n",
      "Er thermal_conductivity\n",
      "Er bulk_modulus\n",
      "Er youngs_modulus\n",
      "Er group\n",
      "Er is_noble_gas\n",
      "Er is_transition_metal\n",
      "Er is_post_transition_metal\n",
      "Er is_rare_earth_metal\n",
      "Er is_metalloid\n",
      "Er is_alkali\n",
      "Er is_alkaline\n",
      "Er is_halogen\n",
      "Er is_lanthanoid\n",
      "Er is_actinoid\n",
      "Er van_der_waals_radius\n",
      "Er velocity_of_sound\n",
      "Er critical_temperature\n",
      "Er superconduction_temperature\n",
      "Er average_cationic_radius\n",
      "Er average_anionic_radius\n",
      "Er ionic_radii\n",
      "Er boiling_point\n",
      "Er symbol\n",
      "Er vickers_hardness\n",
      "Er average_ionic_radius\n",
      "Er melting_point\n",
      "Er rigidity_modulus\n",
      "Er Z\n",
      "Er number\n",
      "Er density_of_solid\n",
      "Er coefficient_of_linear_thermal_expansion\n",
      "Gd atomic_mass\n",
      "Gd poissons_ratio\n",
      "Gd atomic_radius\n",
      "Gd electrical_resistivity\n",
      "Gd molar_volume\n",
      "Gd thermal_conductivity\n",
      "Gd bulk_modulus\n",
      "Gd youngs_modulus\n",
      "Gd group\n",
      "Gd is_noble_gas\n",
      "Gd is_transition_metal\n",
      "Gd is_post_transition_metal\n",
      "Gd is_rare_earth_metal\n",
      "Gd is_metalloid\n",
      "Gd is_alkali\n",
      "Gd is_alkaline\n",
      "Gd is_halogen\n",
      "Gd is_lanthanoid\n",
      "Gd is_actinoid\n",
      "Gd van_der_waals_radius\n",
      "Gd velocity_of_sound\n",
      "Gd critical_temperature\n",
      "Gd superconduction_temperature\n",
      "Gd average_cationic_radius\n",
      "Gd average_anionic_radius\n",
      "Gd ionic_radii\n",
      "Gd boiling_point\n",
      "Gd symbol\n",
      "Gd vickers_hardness\n",
      "Gd average_ionic_radius\n",
      "Gd melting_point\n",
      "Gd rigidity_modulus\n",
      "Gd Z\n",
      "Gd number\n",
      "Gd density_of_solid\n",
      "Gd coefficient_of_linear_thermal_expansion\n",
      "Hf atomic_mass\n",
      "Hf poissons_ratio\n",
      "Hf atomic_radius\n",
      "Hf electrical_resistivity\n",
      "Hf molar_volume\n",
      "Hf thermal_conductivity\n",
      "Hf bulk_modulus\n",
      "Hf youngs_modulus\n",
      "Hf group\n",
      "Hf is_noble_gas\n",
      "Hf is_transition_metal\n",
      "Hf is_post_transition_metal\n",
      "Hf is_rare_earth_metal\n",
      "Hf is_metalloid\n",
      "Hf is_alkali\n",
      "Hf is_alkaline\n",
      "Hf is_halogen\n",
      "Hf is_lanthanoid\n",
      "Hf is_actinoid\n",
      "Hf van_der_waals_radius\n",
      "Hf velocity_of_sound\n",
      "Hf critical_temperature\n",
      "Hf superconduction_temperature\n",
      "Hf average_cationic_radius\n",
      "Hf average_anionic_radius\n",
      "Hf ionic_radii\n",
      "Hf boiling_point\n",
      "Hf symbol\n",
      "Hf vickers_hardness\n",
      "Hf average_ionic_radius\n",
      "Hf melting_point\n",
      "Hf rigidity_modulus\n",
      "Hf Z\n",
      "Hf number\n",
      "Hf density_of_solid\n",
      "Hf coefficient_of_linear_thermal_expansion\n",
      "Ho atomic_mass\n",
      "Ho poissons_ratio\n",
      "Ho atomic_radius\n",
      "Ho electrical_resistivity\n",
      "Ho molar_volume\n",
      "Ho thermal_conductivity\n",
      "Ho bulk_modulus\n",
      "Ho youngs_modulus\n",
      "Ho group\n",
      "Ho is_noble_gas\n",
      "Ho is_transition_metal\n",
      "Ho is_post_transition_metal\n",
      "Ho is_rare_earth_metal\n",
      "Ho is_metalloid\n",
      "Ho is_alkali\n",
      "Ho is_alkaline\n",
      "Ho is_halogen\n",
      "Ho is_lanthanoid\n",
      "Ho is_actinoid\n",
      "Ho van_der_waals_radius\n",
      "Ho velocity_of_sound\n",
      "Ho critical_temperature\n",
      "Ho superconduction_temperature\n",
      "Ho average_cationic_radius\n",
      "Ho average_anionic_radius\n",
      "Ho ionic_radii\n",
      "Ho boiling_point\n",
      "Ho symbol\n",
      "Ho vickers_hardness\n",
      "Ho average_ionic_radius\n",
      "Ho melting_point\n",
      "Ho rigidity_modulus\n",
      "Ho Z\n",
      "Ho number\n",
      "Ho density_of_solid\n",
      "Ho coefficient_of_linear_thermal_expansion\n",
      "Lu atomic_mass\n",
      "Lu poissons_ratio\n",
      "Lu atomic_radius\n",
      "Lu electrical_resistivity\n",
      "Lu molar_volume\n",
      "Lu thermal_conductivity\n",
      "Lu bulk_modulus\n",
      "Lu youngs_modulus\n",
      "Lu group\n",
      "Lu is_noble_gas\n",
      "Lu is_transition_metal\n",
      "Lu is_post_transition_metal\n",
      "Lu is_rare_earth_metal\n",
      "Lu is_metalloid\n",
      "Lu is_alkali\n",
      "Lu is_alkaline\n",
      "Lu is_halogen\n",
      "Lu is_lanthanoid\n",
      "Lu is_actinoid\n",
      "Lu van_der_waals_radius\n",
      "Lu velocity_of_sound\n",
      "Lu critical_temperature\n",
      "Lu superconduction_temperature\n",
      "Lu average_cationic_radius\n",
      "Lu average_anionic_radius\n",
      "Lu ionic_radii\n",
      "Lu boiling_point\n",
      "Lu symbol\n",
      "Lu vickers_hardness\n",
      "Lu average_ionic_radius\n",
      "Lu melting_point\n",
      "Lu rigidity_modulus\n",
      "Lu Z\n",
      "Lu number\n",
      "Lu density_of_solid\n",
      "Lu coefficient_of_linear_thermal_expansion\n",
      "Mg atomic_mass\n",
      "Mg poissons_ratio\n",
      "Mg atomic_radius\n",
      "Mg electrical_resistivity\n",
      "Mg molar_volume\n",
      "Mg thermal_conductivity\n",
      "Mg bulk_modulus\n",
      "Mg youngs_modulus\n",
      "Mg group\n",
      "Mg is_noble_gas\n",
      "Mg is_transition_metal\n",
      "Mg is_post_transition_metal\n",
      "Mg is_rare_earth_metal\n",
      "Mg is_metalloid\n",
      "Mg is_alkali\n",
      "Mg is_alkaline\n",
      "Mg is_halogen\n",
      "Mg is_lanthanoid\n",
      "Mg is_actinoid\n",
      "Mg van_der_waals_radius\n",
      "Mg velocity_of_sound\n",
      "Mg critical_temperature\n",
      "Mg superconduction_temperature\n",
      "Mg average_cationic_radius\n",
      "Mg average_anionic_radius\n",
      "Mg ionic_radii\n",
      "Mg boiling_point\n",
      "Mg symbol\n",
      "Mg vickers_hardness\n",
      "Mg average_ionic_radius\n",
      "Mg melting_point\n",
      "Mg rigidity_modulus\n",
      "Mg Z\n",
      "Mg number\n",
      "Mg density_of_solid\n",
      "Mg coefficient_of_linear_thermal_expansion\n",
      "Os atomic_mass\n",
      "Os poissons_ratio\n",
      "Os atomic_radius\n",
      "Os electrical_resistivity\n",
      "Os molar_volume\n",
      "Os thermal_conductivity\n",
      "Os bulk_modulus\n",
      "Os youngs_modulus\n",
      "Os group\n",
      "Os is_noble_gas\n",
      "Os is_transition_metal\n",
      "Os is_post_transition_metal\n",
      "Os is_rare_earth_metal\n",
      "Os is_metalloid\n",
      "Os is_alkali\n",
      "Os is_alkaline\n",
      "Os is_halogen\n",
      "Os is_lanthanoid\n",
      "Os is_actinoid\n",
      "Os van_der_waals_radius\n",
      "Os velocity_of_sound\n",
      "Os critical_temperature\n",
      "Os superconduction_temperature\n",
      "Os average_cationic_radius\n",
      "Os average_anionic_radius\n",
      "Os ionic_radii\n",
      "Os boiling_point\n",
      "Os symbol\n",
      "Os vickers_hardness\n",
      "Os average_ionic_radius\n",
      "Os melting_point\n",
      "Os rigidity_modulus\n",
      "Os Z\n",
      "Os number\n",
      "Os density_of_solid\n",
      "Os coefficient_of_linear_thermal_expansion\n",
      "Re atomic_mass\n",
      "Re poissons_ratio\n",
      "Re atomic_radius\n",
      "Re electrical_resistivity\n",
      "Re molar_volume\n",
      "Re thermal_conductivity\n",
      "Re bulk_modulus\n",
      "Re youngs_modulus\n",
      "Re group\n",
      "Re is_noble_gas\n",
      "Re is_transition_metal\n",
      "Re is_post_transition_metal\n",
      "Re is_rare_earth_metal\n",
      "Re is_metalloid\n",
      "Re is_alkali\n",
      "Re is_alkaline\n",
      "Re is_halogen\n",
      "Re is_lanthanoid\n",
      "Re is_actinoid\n",
      "Re van_der_waals_radius\n",
      "Re velocity_of_sound\n",
      "Re critical_temperature\n",
      "Re superconduction_temperature\n",
      "Re average_cationic_radius\n",
      "Re average_anionic_radius\n",
      "Re ionic_radii\n",
      "Re boiling_point\n",
      "Re symbol\n",
      "Re vickers_hardness\n",
      "Re average_ionic_radius\n",
      "Re melting_point\n",
      "Re rigidity_modulus\n",
      "Re Z\n",
      "Re number\n",
      "Re density_of_solid\n",
      "Re coefficient_of_linear_thermal_expansion\n",
      "Ru atomic_mass\n",
      "Ru poissons_ratio\n",
      "Ru atomic_radius\n",
      "Ru electrical_resistivity\n",
      "Ru molar_volume\n",
      "Ru thermal_conductivity\n",
      "Ru bulk_modulus\n",
      "Ru youngs_modulus\n",
      "Ru group\n",
      "Ru is_noble_gas\n",
      "Ru is_transition_metal\n",
      "Ru is_post_transition_metal\n",
      "Ru is_rare_earth_metal\n",
      "Ru is_metalloid\n",
      "Ru is_alkali\n",
      "Ru is_alkaline\n",
      "Ru is_halogen\n",
      "Ru is_lanthanoid\n",
      "Ru is_actinoid\n",
      "Ru van_der_waals_radius\n",
      "Ru velocity_of_sound\n",
      "Ru critical_temperature\n",
      "Ru superconduction_temperature\n",
      "Ru average_cationic_radius\n",
      "Ru average_anionic_radius\n",
      "Ru ionic_radii\n",
      "Ru boiling_point\n",
      "Ru symbol\n",
      "Ru vickers_hardness\n",
      "Ru average_ionic_radius\n",
      "Ru melting_point\n",
      "Ru rigidity_modulus\n",
      "Ru Z\n",
      "Ru number\n",
      "Ru density_of_solid\n",
      "Ru coefficient_of_linear_thermal_expansion\n",
      "Sc atomic_mass\n",
      "Sc poissons_ratio\n",
      "Sc atomic_radius\n",
      "Sc electrical_resistivity\n",
      "Sc molar_volume\n",
      "Sc thermal_conductivity\n",
      "Sc bulk_modulus\n",
      "Sc youngs_modulus\n",
      "Sc group\n",
      "Sc is_noble_gas\n",
      "Sc is_transition_metal\n",
      "Sc is_post_transition_metal\n",
      "Sc is_rare_earth_metal\n",
      "Sc is_metalloid\n",
      "Sc is_alkali\n",
      "Sc is_alkaline\n",
      "Sc is_halogen\n",
      "Sc is_lanthanoid\n",
      "Sc is_actinoid\n",
      "Sc van_der_waals_radius\n",
      "Sc velocity_of_sound\n",
      "Sc critical_temperature\n",
      "Sc superconduction_temperature\n",
      "Sc average_cationic_radius\n",
      "Sc average_anionic_radius\n",
      "Sc ionic_radii\n",
      "Sc boiling_point\n",
      "Sc symbol\n",
      "Sc vickers_hardness\n",
      "Sc average_ionic_radius\n",
      "Sc melting_point\n",
      "Sc rigidity_modulus\n",
      "Sc Z\n",
      "Sc number\n",
      "Sc density_of_solid\n",
      "Sc coefficient_of_linear_thermal_expansion\n",
      "Tb atomic_mass\n",
      "Tb poissons_ratio\n",
      "Tb atomic_radius\n",
      "Tb electrical_resistivity\n",
      "Tb molar_volume\n",
      "Tb thermal_conductivity\n",
      "Tb bulk_modulus\n",
      "Tb youngs_modulus\n",
      "Tb group\n",
      "Tb is_noble_gas\n",
      "Tb is_transition_metal\n",
      "Tb is_post_transition_metal\n",
      "Tb is_rare_earth_metal\n",
      "Tb is_metalloid\n",
      "Tb is_alkali\n",
      "Tb is_alkaline\n",
      "Tb is_halogen\n",
      "Tb is_lanthanoid\n",
      "Tb is_actinoid\n",
      "Tb van_der_waals_radius\n",
      "Tb velocity_of_sound\n",
      "Tb critical_temperature\n",
      "Tb superconduction_temperature\n",
      "Tb average_cationic_radius\n",
      "Tb average_anionic_radius\n",
      "Tb ionic_radii\n",
      "Tb boiling_point\n",
      "Tb symbol\n",
      "Tb vickers_hardness\n",
      "Tb average_ionic_radius\n",
      "Tb melting_point\n",
      "Tb rigidity_modulus\n",
      "Tb Z\n",
      "Tb number\n",
      "Tb density_of_solid\n",
      "Tb coefficient_of_linear_thermal_expansion\n",
      "Tc atomic_mass\n",
      "Tc poissons_ratio\n",
      "Tc atomic_radius\n",
      "Tc electrical_resistivity\n",
      "Tc molar_volume\n",
      "Tc thermal_conductivity\n",
      "Tc bulk_modulus\n",
      "Tc youngs_modulus\n",
      "Tc group\n",
      "Tc is_noble_gas\n",
      "Tc is_transition_metal\n",
      "Tc is_post_transition_metal\n",
      "Tc is_rare_earth_metal\n",
      "Tc is_metalloid\n",
      "Tc is_alkali\n",
      "Tc is_alkaline\n",
      "Tc is_halogen\n",
      "Tc is_lanthanoid\n",
      "Tc is_actinoid\n",
      "Tc van_der_waals_radius\n",
      "Tc velocity_of_sound\n",
      "Tc critical_temperature\n",
      "Tc superconduction_temperature\n",
      "Tc average_cationic_radius\n",
      "Tc average_anionic_radius\n",
      "Tc ionic_radii\n",
      "Tc boiling_point\n",
      "Tc symbol\n",
      "Tc vickers_hardness\n",
      "Tc average_ionic_radius\n",
      "Tc melting_point\n",
      "Tc rigidity_modulus\n",
      "Tc Z\n",
      "Tc number\n",
      "Tc density_of_solid\n",
      "Tc coefficient_of_linear_thermal_expansion\n",
      "Ti atomic_mass\n",
      "Ti poissons_ratio\n",
      "Ti atomic_radius\n",
      "Ti electrical_resistivity\n",
      "Ti molar_volume\n",
      "Ti thermal_conductivity\n",
      "Ti bulk_modulus\n",
      "Ti youngs_modulus\n",
      "Ti group\n",
      "Ti is_noble_gas\n",
      "Ti is_transition_metal\n",
      "Ti is_post_transition_metal\n",
      "Ti is_rare_earth_metal\n",
      "Ti is_metalloid\n",
      "Ti is_alkali\n",
      "Ti is_alkaline\n",
      "Ti is_halogen\n",
      "Ti is_lanthanoid\n",
      "Ti is_actinoid\n",
      "Ti van_der_waals_radius\n",
      "Ti velocity_of_sound\n",
      "Ti critical_temperature\n",
      "Ti superconduction_temperature\n",
      "Ti average_cationic_radius\n",
      "Ti average_anionic_radius\n",
      "Ti ionic_radii\n",
      "Ti boiling_point\n",
      "Ti symbol\n",
      "Ti vickers_hardness\n",
      "Ti average_ionic_radius\n",
      "Ti melting_point\n",
      "Ti rigidity_modulus\n",
      "Ti Z\n",
      "Ti number\n",
      "Ti density_of_solid\n",
      "Ti coefficient_of_linear_thermal_expansion\n",
      "Tl atomic_mass\n",
      "Tl poissons_ratio\n",
      "Tl atomic_radius\n",
      "Tl electrical_resistivity\n",
      "Tl molar_volume\n",
      "Tl thermal_conductivity\n",
      "Tl bulk_modulus\n",
      "Tl youngs_modulus\n",
      "Tl group\n",
      "Tl is_noble_gas\n",
      "Tl is_transition_metal\n",
      "Tl is_post_transition_metal\n",
      "Tl is_rare_earth_metal\n",
      "Tl is_metalloid\n",
      "Tl is_alkali\n",
      "Tl is_alkaline\n",
      "Tl is_halogen\n",
      "Tl is_lanthanoid\n",
      "Tl is_actinoid\n",
      "Tl van_der_waals_radius\n",
      "Tl velocity_of_sound\n",
      "Tl critical_temperature\n",
      "Tl superconduction_temperature\n",
      "Tl average_cationic_radius\n",
      "Tl average_anionic_radius\n",
      "Tl ionic_radii\n",
      "Tl boiling_point\n",
      "Tl symbol\n",
      "Tl vickers_hardness\n",
      "Tl average_ionic_radius\n",
      "Tl melting_point\n",
      "Tl rigidity_modulus\n",
      "Tl Z\n",
      "Tl number\n",
      "Tl density_of_solid\n",
      "Tl coefficient_of_linear_thermal_expansion\n",
      "Tm atomic_mass\n",
      "Tm poissons_ratio\n",
      "Tm atomic_radius\n",
      "Tm electrical_resistivity\n",
      "Tm molar_volume\n",
      "Tm thermal_conductivity\n",
      "Tm bulk_modulus\n",
      "Tm youngs_modulus\n",
      "Tm group\n",
      "Tm is_noble_gas\n",
      "Tm is_transition_metal\n",
      "Tm is_post_transition_metal\n",
      "Tm is_rare_earth_metal\n",
      "Tm is_metalloid\n",
      "Tm is_alkali\n",
      "Tm is_alkaline\n",
      "Tm is_halogen\n",
      "Tm is_lanthanoid\n",
      "Tm is_actinoid\n",
      "Tm van_der_waals_radius\n",
      "Tm velocity_of_sound\n",
      "Tm critical_temperature\n",
      "Tm superconduction_temperature\n",
      "Tm average_cationic_radius\n",
      "Tm average_anionic_radius\n",
      "Tm ionic_radii\n",
      "Tm boiling_point\n",
      "Tm symbol\n",
      "Tm vickers_hardness\n",
      "Tm average_ionic_radius\n",
      "Tm melting_point\n",
      "Tm rigidity_modulus\n",
      "Tm Z\n",
      "Tm number\n",
      "Tm density_of_solid\n",
      "Tm coefficient_of_linear_thermal_expansion\n",
      "Y atomic_mass\n",
      "Y poissons_ratio\n",
      "Y atomic_radius\n",
      "Y electrical_resistivity\n",
      "Y molar_volume\n",
      "Y thermal_conductivity\n",
      "Y bulk_modulus\n",
      "Y youngs_modulus\n",
      "Y group\n",
      "Y is_noble_gas\n",
      "Y is_transition_metal\n",
      "Y is_post_transition_metal\n",
      "Y is_rare_earth_metal\n",
      "Y is_metalloid\n",
      "Y is_alkali\n",
      "Y is_alkaline\n",
      "Y is_halogen\n",
      "Y is_lanthanoid\n",
      "Y is_actinoid\n",
      "Y van_der_waals_radius\n",
      "Y velocity_of_sound\n",
      "Y critical_temperature\n",
      "Y superconduction_temperature\n",
      "Y average_cationic_radius\n",
      "Y average_anionic_radius\n",
      "Y ionic_radii\n",
      "Y boiling_point\n",
      "Y symbol\n",
      "Y vickers_hardness\n",
      "Y average_ionic_radius\n",
      "Y melting_point\n",
      "Y rigidity_modulus\n",
      "Y Z\n",
      "Y number\n",
      "Y density_of_solid\n",
      "Y coefficient_of_linear_thermal_expansion\n",
      "Zn atomic_mass\n",
      "Zn poissons_ratio\n",
      "Zn atomic_radius\n",
      "Zn electrical_resistivity\n",
      "Zn molar_volume\n",
      "Zn thermal_conductivity\n",
      "Zn bulk_modulus\n",
      "Zn youngs_modulus\n",
      "Zn group\n",
      "Zn is_noble_gas\n",
      "Zn is_transition_metal\n",
      "Zn is_post_transition_metal\n",
      "Zn is_rare_earth_metal\n",
      "Zn is_metalloid\n",
      "Zn is_alkali\n",
      "Zn is_alkaline\n",
      "Zn is_halogen\n",
      "Zn is_lanthanoid\n",
      "Zn is_actinoid\n",
      "Zn van_der_waals_radius\n",
      "Zn velocity_of_sound\n",
      "Zn critical_temperature\n",
      "Zn superconduction_temperature\n",
      "Zn average_cationic_radius\n",
      "Zn average_anionic_radius\n",
      "Zn ionic_radii\n",
      "Zn boiling_point\n",
      "Zn symbol\n",
      "Zn vickers_hardness\n",
      "Zn average_ionic_radius\n",
      "Zn melting_point\n",
      "Zn rigidity_modulus\n",
      "Zn Z\n",
      "Zn number\n",
      "Zn density_of_solid\n",
      "Zn coefficient_of_linear_thermal_expansion\n",
      "Zr atomic_mass\n",
      "Zr poissons_ratio\n",
      "Zr atomic_radius\n",
      "Zr electrical_resistivity\n",
      "Zr molar_volume\n",
      "Zr thermal_conductivity\n",
      "Zr bulk_modulus\n",
      "Zr youngs_modulus\n",
      "Zr group\n",
      "Zr is_noble_gas\n",
      "Zr is_transition_metal\n",
      "Zr is_post_transition_metal\n",
      "Zr is_rare_earth_metal\n",
      "Zr is_metalloid\n",
      "Zr is_alkali\n",
      "Zr is_alkaline\n",
      "Zr is_halogen\n",
      "Zr is_lanthanoid\n",
      "Zr is_actinoid\n",
      "Zr van_der_waals_radius\n",
      "Zr velocity_of_sound\n",
      "Zr critical_temperature\n",
      "Zr superconduction_temperature\n",
      "Zr average_cationic_radius\n",
      "Zr average_anionic_radius\n",
      "Zr ionic_radii\n",
      "Zr boiling_point\n",
      "Zr symbol\n",
      "Zr vickers_hardness\n",
      "Zr average_ionic_radius\n",
      "Zr melting_point\n",
      "Zr rigidity_modulus\n",
      "Zr Z\n",
      "Zr number\n",
      "Zr density_of_solid\n",
      "Zr coefficient_of_linear_thermal_expansion\n"
     ]
    },
    {
     "data": {
      "text/html": [
       "<div>\n",
       "<style scoped>\n",
       "    .dataframe tbody tr th:only-of-type {\n",
       "        vertical-align: middle;\n",
       "    }\n",
       "\n",
       "    .dataframe tbody tr th {\n",
       "        vertical-align: top;\n",
       "    }\n",
       "\n",
       "    .dataframe thead th {\n",
       "        text-align: right;\n",
       "    }\n",
       "</style>\n",
       "<table border=\"1\" class=\"dataframe\">\n",
       "  <thead>\n",
       "    <tr style=\"text-align: right;\">\n",
       "      <th></th>\n",
       "      <th>atomic_mass</th>\n",
       "      <th>poissons_ratio</th>\n",
       "      <th>atomic_radius</th>\n",
       "      <th>electrical_resistivity</th>\n",
       "      <th>molar_volume</th>\n",
       "      <th>thermal_conductivity</th>\n",
       "      <th>bulk_modulus</th>\n",
       "      <th>youngs_modulus</th>\n",
       "      <th>group</th>\n",
       "      <th>is_noble_gas</th>\n",
       "      <th>...</th>\n",
       "      <th>boiling_point</th>\n",
       "      <th>symbol</th>\n",
       "      <th>vickers_hardness</th>\n",
       "      <th>average_ionic_radius</th>\n",
       "      <th>melting_point</th>\n",
       "      <th>rigidity_modulus</th>\n",
       "      <th>Z</th>\n",
       "      <th>number</th>\n",
       "      <th>density_of_solid</th>\n",
       "      <th>coefficient_of_linear_thermal_expansion</th>\n",
       "    </tr>\n",
       "  </thead>\n",
       "  <tbody>\n",
       "    <tr>\n",
       "      <th>0</th>\n",
       "      <td>9.012182</td>\n",
       "      <td>0.032</td>\n",
       "      <td>1.05</td>\n",
       "      <td>3.800000e-08</td>\n",
       "      <td>4.85</td>\n",
       "      <td>190.0</td>\n",
       "      <td>130.0</td>\n",
       "      <td>287.0</td>\n",
       "      <td>2</td>\n",
       "      <td>False</td>\n",
       "      <td>...</td>\n",
       "      <td>2742.0</td>\n",
       "      <td>Be</td>\n",
       "      <td>1670.0</td>\n",
       "      <td>0.590000</td>\n",
       "      <td>1560.00</td>\n",
       "      <td>132.0</td>\n",
       "      <td>4</td>\n",
       "      <td>4</td>\n",
       "      <td>1848.0</td>\n",
       "      <td>0.000011</td>\n",
       "    </tr>\n",
       "    <tr>\n",
       "      <th>1</th>\n",
       "      <td>40.078000</td>\n",
       "      <td>0.310</td>\n",
       "      <td>1.80</td>\n",
       "      <td>3.400000e-08</td>\n",
       "      <td>26.20</td>\n",
       "      <td>200.0</td>\n",
       "      <td>17.0</td>\n",
       "      <td>20.0</td>\n",
       "      <td>2</td>\n",
       "      <td>False</td>\n",
       "      <td>...</td>\n",
       "      <td>1757.0</td>\n",
       "      <td>Ca</td>\n",
       "      <td>NaN</td>\n",
       "      <td>1.140000</td>\n",
       "      <td>1115.00</td>\n",
       "      <td>7.4</td>\n",
       "      <td>20</td>\n",
       "      <td>20</td>\n",
       "      <td>1550.0</td>\n",
       "      <td>0.000022</td>\n",
       "    </tr>\n",
       "    <tr>\n",
       "      <th>2</th>\n",
       "      <td>112.411000</td>\n",
       "      <td>0.300</td>\n",
       "      <td>1.55</td>\n",
       "      <td>7.000000e-08</td>\n",
       "      <td>13.00</td>\n",
       "      <td>97.0</td>\n",
       "      <td>42.0</td>\n",
       "      <td>50.0</td>\n",
       "      <td>12</td>\n",
       "      <td>False</td>\n",
       "      <td>...</td>\n",
       "      <td>1040.0</td>\n",
       "      <td>Cd</td>\n",
       "      <td>NaN</td>\n",
       "      <td>1.090000</td>\n",
       "      <td>594.22</td>\n",
       "      <td>19.0</td>\n",
       "      <td>48</td>\n",
       "      <td>48</td>\n",
       "      <td>8650.0</td>\n",
       "      <td>0.000031</td>\n",
       "    </tr>\n",
       "    <tr>\n",
       "      <th>3</th>\n",
       "      <td>58.933195</td>\n",
       "      <td>0.310</td>\n",
       "      <td>1.35</td>\n",
       "      <td>6.000000e-08</td>\n",
       "      <td>6.67</td>\n",
       "      <td>100.0</td>\n",
       "      <td>180.0</td>\n",
       "      <td>209.0</td>\n",
       "      <td>9</td>\n",
       "      <td>False</td>\n",
       "      <td>...</td>\n",
       "      <td>3200.0</td>\n",
       "      <td>Co</td>\n",
       "      <td>1043.0</td>\n",
       "      <td>0.768333</td>\n",
       "      <td>1768.00</td>\n",
       "      <td>75.0</td>\n",
       "      <td>27</td>\n",
       "      <td>27</td>\n",
       "      <td>8900.0</td>\n",
       "      <td>0.000013</td>\n",
       "    </tr>\n",
       "    <tr>\n",
       "      <th>4</th>\n",
       "      <td>162.500000</td>\n",
       "      <td>0.250</td>\n",
       "      <td>1.75</td>\n",
       "      <td>9.260000e-07</td>\n",
       "      <td>19.01</td>\n",
       "      <td>11.0</td>\n",
       "      <td>41.0</td>\n",
       "      <td>61.0</td>\n",
       "      <td>12</td>\n",
       "      <td>False</td>\n",
       "      <td>...</td>\n",
       "      <td>2840.0</td>\n",
       "      <td>Dy</td>\n",
       "      <td>540.0</td>\n",
       "      <td>1.131000</td>\n",
       "      <td>1680.00</td>\n",
       "      <td>25.0</td>\n",
       "      <td>66</td>\n",
       "      <td>66</td>\n",
       "      <td>8551.0</td>\n",
       "      <td>0.000010</td>\n",
       "    </tr>\n",
       "    <tr>\n",
       "      <th>5</th>\n",
       "      <td>167.259000</td>\n",
       "      <td>0.240</td>\n",
       "      <td>1.75</td>\n",
       "      <td>8.600000e-07</td>\n",
       "      <td>18.46</td>\n",
       "      <td>15.0</td>\n",
       "      <td>44.0</td>\n",
       "      <td>70.0</td>\n",
       "      <td>14</td>\n",
       "      <td>False</td>\n",
       "      <td>...</td>\n",
       "      <td>3141.0</td>\n",
       "      <td>Er</td>\n",
       "      <td>589.0</td>\n",
       "      <td>1.030000</td>\n",
       "      <td>1802.00</td>\n",
       "      <td>28.0</td>\n",
       "      <td>68</td>\n",
       "      <td>68</td>\n",
       "      <td>9066.0</td>\n",
       "      <td>0.000012</td>\n",
       "    </tr>\n",
       "    <tr>\n",
       "      <th>6</th>\n",
       "      <td>157.250000</td>\n",
       "      <td>0.260</td>\n",
       "      <td>1.80</td>\n",
       "      <td>1.310000e-06</td>\n",
       "      <td>19.90</td>\n",
       "      <td>11.0</td>\n",
       "      <td>38.0</td>\n",
       "      <td>55.0</td>\n",
       "      <td>10</td>\n",
       "      <td>False</td>\n",
       "      <td>...</td>\n",
       "      <td>3523.0</td>\n",
       "      <td>Gd</td>\n",
       "      <td>570.0</td>\n",
       "      <td>1.075000</td>\n",
       "      <td>1585.00</td>\n",
       "      <td>22.0</td>\n",
       "      <td>64</td>\n",
       "      <td>64</td>\n",
       "      <td>7901.0</td>\n",
       "      <td>0.000009</td>\n",
       "    </tr>\n",
       "    <tr>\n",
       "      <th>7</th>\n",
       "      <td>178.490000</td>\n",
       "      <td>0.370</td>\n",
       "      <td>1.55</td>\n",
       "      <td>3.400000e-07</td>\n",
       "      <td>13.44</td>\n",
       "      <td>23.0</td>\n",
       "      <td>110.0</td>\n",
       "      <td>78.0</td>\n",
       "      <td>4</td>\n",
       "      <td>False</td>\n",
       "      <td>...</td>\n",
       "      <td>4876.0</td>\n",
       "      <td>Hf</td>\n",
       "      <td>1760.0</td>\n",
       "      <td>0.850000</td>\n",
       "      <td>2506.00</td>\n",
       "      <td>30.0</td>\n",
       "      <td>72</td>\n",
       "      <td>72</td>\n",
       "      <td>13310.0</td>\n",
       "      <td>0.000006</td>\n",
       "    </tr>\n",
       "    <tr>\n",
       "      <th>8</th>\n",
       "      <td>164.930320</td>\n",
       "      <td>0.230</td>\n",
       "      <td>1.75</td>\n",
       "      <td>8.140000e-07</td>\n",
       "      <td>18.74</td>\n",
       "      <td>16.0</td>\n",
       "      <td>40.0</td>\n",
       "      <td>65.0</td>\n",
       "      <td>13</td>\n",
       "      <td>False</td>\n",
       "      <td>...</td>\n",
       "      <td>2993.0</td>\n",
       "      <td>Ho</td>\n",
       "      <td>481.0</td>\n",
       "      <td>1.041000</td>\n",
       "      <td>1734.00</td>\n",
       "      <td>26.0</td>\n",
       "      <td>67</td>\n",
       "      <td>67</td>\n",
       "      <td>8795.0</td>\n",
       "      <td>0.000011</td>\n",
       "    </tr>\n",
       "    <tr>\n",
       "      <th>9</th>\n",
       "      <td>174.967000</td>\n",
       "      <td>0.260</td>\n",
       "      <td>1.75</td>\n",
       "      <td>5.800000e-07</td>\n",
       "      <td>17.78</td>\n",
       "      <td>16.0</td>\n",
       "      <td>48.0</td>\n",
       "      <td>69.0</td>\n",
       "      <td>17</td>\n",
       "      <td>False</td>\n",
       "      <td>...</td>\n",
       "      <td>3675.0</td>\n",
       "      <td>Lu</td>\n",
       "      <td>1160.0</td>\n",
       "      <td>1.001000</td>\n",
       "      <td>1925.00</td>\n",
       "      <td>27.0</td>\n",
       "      <td>71</td>\n",
       "      <td>71</td>\n",
       "      <td>9841.0</td>\n",
       "      <td>0.000010</td>\n",
       "    </tr>\n",
       "    <tr>\n",
       "      <th>10</th>\n",
       "      <td>24.305000</td>\n",
       "      <td>0.290</td>\n",
       "      <td>1.50</td>\n",
       "      <td>4.400000e-08</td>\n",
       "      <td>14.00</td>\n",
       "      <td>160.0</td>\n",
       "      <td>45.0</td>\n",
       "      <td>45.0</td>\n",
       "      <td>2</td>\n",
       "      <td>False</td>\n",
       "      <td>...</td>\n",
       "      <td>1363.0</td>\n",
       "      <td>Mg</td>\n",
       "      <td>NaN</td>\n",
       "      <td>0.860000</td>\n",
       "      <td>923.00</td>\n",
       "      <td>17.0</td>\n",
       "      <td>12</td>\n",
       "      <td>12</td>\n",
       "      <td>1738.0</td>\n",
       "      <td>0.000008</td>\n",
       "    </tr>\n",
       "    <tr>\n",
       "      <th>11</th>\n",
       "      <td>190.230000</td>\n",
       "      <td>0.250</td>\n",
       "      <td>1.30</td>\n",
       "      <td>8.100000e-08</td>\n",
       "      <td>8.42</td>\n",
       "      <td>88.0</td>\n",
       "      <td>NaN</td>\n",
       "      <td>NaN</td>\n",
       "      <td>8</td>\n",
       "      <td>False</td>\n",
       "      <td>...</td>\n",
       "      <td>5285.0</td>\n",
       "      <td>Os</td>\n",
       "      <td>NaN</td>\n",
       "      <td>0.673000</td>\n",
       "      <td>3306.00</td>\n",
       "      <td>222.0</td>\n",
       "      <td>76</td>\n",
       "      <td>76</td>\n",
       "      <td>22610.0</td>\n",
       "      <td>0.000005</td>\n",
       "    </tr>\n",
       "    <tr>\n",
       "      <th>12</th>\n",
       "      <td>186.207000</td>\n",
       "      <td>0.300</td>\n",
       "      <td>1.35</td>\n",
       "      <td>1.800000e-07</td>\n",
       "      <td>8.86</td>\n",
       "      <td>48.0</td>\n",
       "      <td>370.0</td>\n",
       "      <td>463.0</td>\n",
       "      <td>7</td>\n",
       "      <td>False</td>\n",
       "      <td>...</td>\n",
       "      <td>5869.0</td>\n",
       "      <td>Re</td>\n",
       "      <td>2450.0</td>\n",
       "      <td>0.712500</td>\n",
       "      <td>3459.00</td>\n",
       "      <td>178.0</td>\n",
       "      <td>75</td>\n",
       "      <td>75</td>\n",
       "      <td>21020.0</td>\n",
       "      <td>0.000006</td>\n",
       "    </tr>\n",
       "    <tr>\n",
       "      <th>13</th>\n",
       "      <td>101.070000</td>\n",
       "      <td>0.300</td>\n",
       "      <td>1.30</td>\n",
       "      <td>7.100000e-08</td>\n",
       "      <td>8.17</td>\n",
       "      <td>120.0</td>\n",
       "      <td>220.0</td>\n",
       "      <td>447.0</td>\n",
       "      <td>8</td>\n",
       "      <td>False</td>\n",
       "      <td>...</td>\n",
       "      <td>4423.0</td>\n",
       "      <td>Ru</td>\n",
       "      <td>NaN</td>\n",
       "      <td>0.661000</td>\n",
       "      <td>2607.00</td>\n",
       "      <td>173.0</td>\n",
       "      <td>44</td>\n",
       "      <td>44</td>\n",
       "      <td>12370.0</td>\n",
       "      <td>0.000006</td>\n",
       "    </tr>\n",
       "    <tr>\n",
       "      <th>14</th>\n",
       "      <td>44.955912</td>\n",
       "      <td>0.280</td>\n",
       "      <td>1.60</td>\n",
       "      <td>5.500000e-07</td>\n",
       "      <td>15.00</td>\n",
       "      <td>16.0</td>\n",
       "      <td>57.0</td>\n",
       "      <td>74.0</td>\n",
       "      <td>3</td>\n",
       "      <td>False</td>\n",
       "      <td>...</td>\n",
       "      <td>3103.0</td>\n",
       "      <td>Sc</td>\n",
       "      <td>NaN</td>\n",
       "      <td>0.885000</td>\n",
       "      <td>1814.00</td>\n",
       "      <td>29.0</td>\n",
       "      <td>21</td>\n",
       "      <td>21</td>\n",
       "      <td>2985.0</td>\n",
       "      <td>0.000010</td>\n",
       "    </tr>\n",
       "    <tr>\n",
       "      <th>15</th>\n",
       "      <td>158.925350</td>\n",
       "      <td>0.260</td>\n",
       "      <td>1.75</td>\n",
       "      <td>1.150000e-06</td>\n",
       "      <td>19.30</td>\n",
       "      <td>11.0</td>\n",
       "      <td>38.7</td>\n",
       "      <td>56.0</td>\n",
       "      <td>11</td>\n",
       "      <td>False</td>\n",
       "      <td>...</td>\n",
       "      <td>3503.0</td>\n",
       "      <td>Tb</td>\n",
       "      <td>863.0</td>\n",
       "      <td>0.981500</td>\n",
       "      <td>1629.00</td>\n",
       "      <td>22.0</td>\n",
       "      <td>65</td>\n",
       "      <td>65</td>\n",
       "      <td>8219.0</td>\n",
       "      <td>0.000010</td>\n",
       "    </tr>\n",
       "    <tr>\n",
       "      <th>16</th>\n",
       "      <td>98.000000</td>\n",
       "      <td>NaN</td>\n",
       "      <td>1.35</td>\n",
       "      <td>2.200000e-07</td>\n",
       "      <td>8.63</td>\n",
       "      <td>51.0</td>\n",
       "      <td>NaN</td>\n",
       "      <td>NaN</td>\n",
       "      <td>7</td>\n",
       "      <td>False</td>\n",
       "      <td>...</td>\n",
       "      <td>4538.0</td>\n",
       "      <td>Tc</td>\n",
       "      <td>NaN</td>\n",
       "      <td>0.741667</td>\n",
       "      <td>2430.00</td>\n",
       "      <td>NaN</td>\n",
       "      <td>43</td>\n",
       "      <td>43</td>\n",
       "      <td>11500.0</td>\n",
       "      <td>NaN</td>\n",
       "    </tr>\n",
       "    <tr>\n",
       "      <th>17</th>\n",
       "      <td>47.867000</td>\n",
       "      <td>0.320</td>\n",
       "      <td>1.40</td>\n",
       "      <td>4.000000e-07</td>\n",
       "      <td>10.64</td>\n",
       "      <td>22.0</td>\n",
       "      <td>110.0</td>\n",
       "      <td>116.0</td>\n",
       "      <td>4</td>\n",
       "      <td>False</td>\n",
       "      <td>...</td>\n",
       "      <td>3560.0</td>\n",
       "      <td>Ti</td>\n",
       "      <td>970.0</td>\n",
       "      <td>0.851667</td>\n",
       "      <td>1941.00</td>\n",
       "      <td>44.0</td>\n",
       "      <td>22</td>\n",
       "      <td>22</td>\n",
       "      <td>4507.0</td>\n",
       "      <td>0.000009</td>\n",
       "    </tr>\n",
       "    <tr>\n",
       "      <th>18</th>\n",
       "      <td>204.383300</td>\n",
       "      <td>0.450</td>\n",
       "      <td>1.90</td>\n",
       "      <td>1.500000e-07</td>\n",
       "      <td>17.22</td>\n",
       "      <td>46.0</td>\n",
       "      <td>43.0</td>\n",
       "      <td>8.0</td>\n",
       "      <td>13</td>\n",
       "      <td>False</td>\n",
       "      <td>...</td>\n",
       "      <td>1746.0</td>\n",
       "      <td>Tl</td>\n",
       "      <td>NaN</td>\n",
       "      <td>1.332500</td>\n",
       "      <td>577.00</td>\n",
       "      <td>2.8</td>\n",
       "      <td>81</td>\n",
       "      <td>81</td>\n",
       "      <td>11850.0</td>\n",
       "      <td>0.000030</td>\n",
       "    </tr>\n",
       "    <tr>\n",
       "      <th>19</th>\n",
       "      <td>168.934210</td>\n",
       "      <td>0.210</td>\n",
       "      <td>1.75</td>\n",
       "      <td>6.760000e-07</td>\n",
       "      <td>19.10</td>\n",
       "      <td>17.0</td>\n",
       "      <td>45.0</td>\n",
       "      <td>74.0</td>\n",
       "      <td>15</td>\n",
       "      <td>False</td>\n",
       "      <td>...</td>\n",
       "      <td>2223.0</td>\n",
       "      <td>Tm</td>\n",
       "      <td>520.0</td>\n",
       "      <td>1.095000</td>\n",
       "      <td>1818.00</td>\n",
       "      <td>31.0</td>\n",
       "      <td>69</td>\n",
       "      <td>69</td>\n",
       "      <td>9321.0</td>\n",
       "      <td>0.000013</td>\n",
       "    </tr>\n",
       "    <tr>\n",
       "      <th>20</th>\n",
       "      <td>88.905850</td>\n",
       "      <td>0.240</td>\n",
       "      <td>1.80</td>\n",
       "      <td>6.000000e-07</td>\n",
       "      <td>19.88</td>\n",
       "      <td>17.0</td>\n",
       "      <td>41.0</td>\n",
       "      <td>64.0</td>\n",
       "      <td>3</td>\n",
       "      <td>False</td>\n",
       "      <td>...</td>\n",
       "      <td>3609.0</td>\n",
       "      <td>Y</td>\n",
       "      <td>NaN</td>\n",
       "      <td>1.040000</td>\n",
       "      <td>1799.00</td>\n",
       "      <td>26.0</td>\n",
       "      <td>39</td>\n",
       "      <td>39</td>\n",
       "      <td>4472.0</td>\n",
       "      <td>0.000011</td>\n",
       "    </tr>\n",
       "    <tr>\n",
       "      <th>21</th>\n",
       "      <td>65.409000</td>\n",
       "      <td>0.250</td>\n",
       "      <td>1.35</td>\n",
       "      <td>6.000000e-08</td>\n",
       "      <td>9.16</td>\n",
       "      <td>120.0</td>\n",
       "      <td>70.0</td>\n",
       "      <td>108.0</td>\n",
       "      <td>12</td>\n",
       "      <td>False</td>\n",
       "      <td>...</td>\n",
       "      <td>1180.0</td>\n",
       "      <td>Zn</td>\n",
       "      <td>NaN</td>\n",
       "      <td>0.880000</td>\n",
       "      <td>692.68</td>\n",
       "      <td>43.0</td>\n",
       "      <td>30</td>\n",
       "      <td>30</td>\n",
       "      <td>7140.0</td>\n",
       "      <td>0.000030</td>\n",
       "    </tr>\n",
       "    <tr>\n",
       "      <th>22</th>\n",
       "      <td>91.224000</td>\n",
       "      <td>0.340</td>\n",
       "      <td>1.55</td>\n",
       "      <td>4.330000e-07</td>\n",
       "      <td>14.02</td>\n",
       "      <td>23.0</td>\n",
       "      <td>NaN</td>\n",
       "      <td>68.0</td>\n",
       "      <td>4</td>\n",
       "      <td>False</td>\n",
       "      <td>...</td>\n",
       "      <td>4682.0</td>\n",
       "      <td>Zr</td>\n",
       "      <td>903.0</td>\n",
       "      <td>0.860000</td>\n",
       "      <td>2128.00</td>\n",
       "      <td>33.0</td>\n",
       "      <td>40</td>\n",
       "      <td>40</td>\n",
       "      <td>6511.0</td>\n",
       "      <td>0.000006</td>\n",
       "    </tr>\n",
       "  </tbody>\n",
       "</table>\n",
       "<p>23 rows × 36 columns</p>\n",
       "</div>"
      ],
      "text/plain": [
       "    atomic_mass  poissons_ratio  atomic_radius  electrical_resistivity  \\\n",
       "0      9.012182           0.032           1.05            3.800000e-08   \n",
       "1     40.078000           0.310           1.80            3.400000e-08   \n",
       "2    112.411000           0.300           1.55            7.000000e-08   \n",
       "3     58.933195           0.310           1.35            6.000000e-08   \n",
       "4    162.500000           0.250           1.75            9.260000e-07   \n",
       "5    167.259000           0.240           1.75            8.600000e-07   \n",
       "6    157.250000           0.260           1.80            1.310000e-06   \n",
       "7    178.490000           0.370           1.55            3.400000e-07   \n",
       "8    164.930320           0.230           1.75            8.140000e-07   \n",
       "9    174.967000           0.260           1.75            5.800000e-07   \n",
       "10    24.305000           0.290           1.50            4.400000e-08   \n",
       "11   190.230000           0.250           1.30            8.100000e-08   \n",
       "12   186.207000           0.300           1.35            1.800000e-07   \n",
       "13   101.070000           0.300           1.30            7.100000e-08   \n",
       "14    44.955912           0.280           1.60            5.500000e-07   \n",
       "15   158.925350           0.260           1.75            1.150000e-06   \n",
       "16    98.000000             NaN           1.35            2.200000e-07   \n",
       "17    47.867000           0.320           1.40            4.000000e-07   \n",
       "18   204.383300           0.450           1.90            1.500000e-07   \n",
       "19   168.934210           0.210           1.75            6.760000e-07   \n",
       "20    88.905850           0.240           1.80            6.000000e-07   \n",
       "21    65.409000           0.250           1.35            6.000000e-08   \n",
       "22    91.224000           0.340           1.55            4.330000e-07   \n",
       "\n",
       "    molar_volume  thermal_conductivity  bulk_modulus  youngs_modulus  group  \\\n",
       "0           4.85                 190.0         130.0           287.0      2   \n",
       "1          26.20                 200.0          17.0            20.0      2   \n",
       "2          13.00                  97.0          42.0            50.0     12   \n",
       "3           6.67                 100.0         180.0           209.0      9   \n",
       "4          19.01                  11.0          41.0            61.0     12   \n",
       "5          18.46                  15.0          44.0            70.0     14   \n",
       "6          19.90                  11.0          38.0            55.0     10   \n",
       "7          13.44                  23.0         110.0            78.0      4   \n",
       "8          18.74                  16.0          40.0            65.0     13   \n",
       "9          17.78                  16.0          48.0            69.0     17   \n",
       "10         14.00                 160.0          45.0            45.0      2   \n",
       "11          8.42                  88.0           NaN             NaN      8   \n",
       "12          8.86                  48.0         370.0           463.0      7   \n",
       "13          8.17                 120.0         220.0           447.0      8   \n",
       "14         15.00                  16.0          57.0            74.0      3   \n",
       "15         19.30                  11.0          38.7            56.0     11   \n",
       "16          8.63                  51.0           NaN             NaN      7   \n",
       "17         10.64                  22.0         110.0           116.0      4   \n",
       "18         17.22                  46.0          43.0             8.0     13   \n",
       "19         19.10                  17.0          45.0            74.0     15   \n",
       "20         19.88                  17.0          41.0            64.0      3   \n",
       "21          9.16                 120.0          70.0           108.0     12   \n",
       "22         14.02                  23.0           NaN            68.0      4   \n",
       "\n",
       "    is_noble_gas  ...  boiling_point  symbol  vickers_hardness  \\\n",
       "0          False  ...         2742.0      Be            1670.0   \n",
       "1          False  ...         1757.0      Ca               NaN   \n",
       "2          False  ...         1040.0      Cd               NaN   \n",
       "3          False  ...         3200.0      Co            1043.0   \n",
       "4          False  ...         2840.0      Dy             540.0   \n",
       "5          False  ...         3141.0      Er             589.0   \n",
       "6          False  ...         3523.0      Gd             570.0   \n",
       "7          False  ...         4876.0      Hf            1760.0   \n",
       "8          False  ...         2993.0      Ho             481.0   \n",
       "9          False  ...         3675.0      Lu            1160.0   \n",
       "10         False  ...         1363.0      Mg               NaN   \n",
       "11         False  ...         5285.0      Os               NaN   \n",
       "12         False  ...         5869.0      Re            2450.0   \n",
       "13         False  ...         4423.0      Ru               NaN   \n",
       "14         False  ...         3103.0      Sc               NaN   \n",
       "15         False  ...         3503.0      Tb             863.0   \n",
       "16         False  ...         4538.0      Tc               NaN   \n",
       "17         False  ...         3560.0      Ti             970.0   \n",
       "18         False  ...         1746.0      Tl               NaN   \n",
       "19         False  ...         2223.0      Tm             520.0   \n",
       "20         False  ...         3609.0       Y               NaN   \n",
       "21         False  ...         1180.0      Zn               NaN   \n",
       "22         False  ...         4682.0      Zr             903.0   \n",
       "\n",
       "    average_ionic_radius  melting_point  rigidity_modulus   Z  number  \\\n",
       "0               0.590000        1560.00             132.0   4       4   \n",
       "1               1.140000        1115.00               7.4  20      20   \n",
       "2               1.090000         594.22              19.0  48      48   \n",
       "3               0.768333        1768.00              75.0  27      27   \n",
       "4               1.131000        1680.00              25.0  66      66   \n",
       "5               1.030000        1802.00              28.0  68      68   \n",
       "6               1.075000        1585.00              22.0  64      64   \n",
       "7               0.850000        2506.00              30.0  72      72   \n",
       "8               1.041000        1734.00              26.0  67      67   \n",
       "9               1.001000        1925.00              27.0  71      71   \n",
       "10              0.860000         923.00              17.0  12      12   \n",
       "11              0.673000        3306.00             222.0  76      76   \n",
       "12              0.712500        3459.00             178.0  75      75   \n",
       "13              0.661000        2607.00             173.0  44      44   \n",
       "14              0.885000        1814.00              29.0  21      21   \n",
       "15              0.981500        1629.00              22.0  65      65   \n",
       "16              0.741667        2430.00               NaN  43      43   \n",
       "17              0.851667        1941.00              44.0  22      22   \n",
       "18              1.332500         577.00               2.8  81      81   \n",
       "19              1.095000        1818.00              31.0  69      69   \n",
       "20              1.040000        1799.00              26.0  39      39   \n",
       "21              0.880000         692.68              43.0  30      30   \n",
       "22              0.860000        2128.00              33.0  40      40   \n",
       "\n",
       "    density_of_solid  coefficient_of_linear_thermal_expansion  \n",
       "0             1848.0                                 0.000011  \n",
       "1             1550.0                                 0.000022  \n",
       "2             8650.0                                 0.000031  \n",
       "3             8900.0                                 0.000013  \n",
       "4             8551.0                                 0.000010  \n",
       "5             9066.0                                 0.000012  \n",
       "6             7901.0                                 0.000009  \n",
       "7            13310.0                                 0.000006  \n",
       "8             8795.0                                 0.000011  \n",
       "9             9841.0                                 0.000010  \n",
       "10            1738.0                                 0.000008  \n",
       "11           22610.0                                 0.000005  \n",
       "12           21020.0                                 0.000006  \n",
       "13           12370.0                                 0.000006  \n",
       "14            2985.0                                 0.000010  \n",
       "15            8219.0                                 0.000010  \n",
       "16           11500.0                                      NaN  \n",
       "17            4507.0                                 0.000009  \n",
       "18           11850.0                                 0.000030  \n",
       "19            9321.0                                 0.000013  \n",
       "20            4472.0                                 0.000011  \n",
       "21            7140.0                                 0.000030  \n",
       "22            6511.0                                 0.000006  \n",
       "\n",
       "[23 rows x 36 columns]"
      ]
     },
     "metadata": {},
     "output_type": "display_data"
    }
   ],
   "source": [
    "all_values = [] # Values for Attributes\n",
    "\n",
    "for item in hcp_elements:\n",
    "    element_values = []\n",
    "\n",
    "    element_object = pymat.Element(item)    \n",
    "    for i in querable_pymatgen:\n",
    "        result = getattr(element_object,i)\n",
    "#         if result is None:\n",
    "#             result = \"None\"\n",
    "        element_values.append(result)\n",
    "        try:\n",
    "            print(element_object, i)\n",
    "        except:\n",
    "            pass\n",
    "    all_values.append(element_values) # All lists are appended to another list, creating a list of lists\n",
    "    \n",
    "# Pandas Dataframe\n",
    "df = pd.DataFrame(all_values, columns=querable_pymatgen)\n",
    "display(df)"
   ]
  },
  {
   "cell_type": "code",
   "execution_count": 85,
   "metadata": {},
   "outputs": [
    {
     "data": {
      "text/plain": [
       "(23, 36)"
      ]
     },
     "execution_count": 85,
     "metadata": {},
     "output_type": "execute_result"
    }
   ],
   "source": [
    "df.shape"
   ]
  },
  {
   "cell_type": "code",
   "execution_count": 86,
   "metadata": {},
   "outputs": [],
   "source": [
    "df.set_index('symbol', inplace = True)"
   ]
  },
  {
   "cell_type": "code",
   "execution_count": 87,
   "metadata": {},
   "outputs": [],
   "source": [
    "df.index.name = \"\""
   ]
  },
  {
   "cell_type": "code",
   "execution_count": 88,
   "metadata": {},
   "outputs": [
    {
     "data": {
      "text/html": [
       "<div>\n",
       "<style scoped>\n",
       "    .dataframe tbody tr th:only-of-type {\n",
       "        vertical-align: middle;\n",
       "    }\n",
       "\n",
       "    .dataframe tbody tr th {\n",
       "        vertical-align: top;\n",
       "    }\n",
       "\n",
       "    .dataframe thead th {\n",
       "        text-align: right;\n",
       "    }\n",
       "</style>\n",
       "<table border=\"1\" class=\"dataframe\">\n",
       "  <thead>\n",
       "    <tr style=\"text-align: right;\">\n",
       "      <th></th>\n",
       "      <th>atomic_mass</th>\n",
       "      <th>poissons_ratio</th>\n",
       "      <th>atomic_radius</th>\n",
       "      <th>electrical_resistivity</th>\n",
       "      <th>molar_volume</th>\n",
       "      <th>thermal_conductivity</th>\n",
       "      <th>bulk_modulus</th>\n",
       "      <th>youngs_modulus</th>\n",
       "      <th>group</th>\n",
       "      <th>is_noble_gas</th>\n",
       "      <th>...</th>\n",
       "      <th>ionic_radii</th>\n",
       "      <th>boiling_point</th>\n",
       "      <th>vickers_hardness</th>\n",
       "      <th>average_ionic_radius</th>\n",
       "      <th>melting_point</th>\n",
       "      <th>rigidity_modulus</th>\n",
       "      <th>Z</th>\n",
       "      <th>number</th>\n",
       "      <th>density_of_solid</th>\n",
       "      <th>coefficient_of_linear_thermal_expansion</th>\n",
       "    </tr>\n",
       "    <tr>\n",
       "      <th></th>\n",
       "      <th></th>\n",
       "      <th></th>\n",
       "      <th></th>\n",
       "      <th></th>\n",
       "      <th></th>\n",
       "      <th></th>\n",
       "      <th></th>\n",
       "      <th></th>\n",
       "      <th></th>\n",
       "      <th></th>\n",
       "      <th></th>\n",
       "      <th></th>\n",
       "      <th></th>\n",
       "      <th></th>\n",
       "      <th></th>\n",
       "      <th></th>\n",
       "      <th></th>\n",
       "      <th></th>\n",
       "      <th></th>\n",
       "      <th></th>\n",
       "      <th></th>\n",
       "    </tr>\n",
       "  </thead>\n",
       "  <tbody>\n",
       "    <tr>\n",
       "      <th>Be</th>\n",
       "      <td>9.012182</td>\n",
       "      <td>0.032</td>\n",
       "      <td>1.05</td>\n",
       "      <td>3.800000e-08</td>\n",
       "      <td>4.85</td>\n",
       "      <td>190.0</td>\n",
       "      <td>130.0</td>\n",
       "      <td>287.0</td>\n",
       "      <td>2</td>\n",
       "      <td>False</td>\n",
       "      <td>...</td>\n",
       "      <td>{2: 0.59 ang}</td>\n",
       "      <td>2742.0</td>\n",
       "      <td>1670.0</td>\n",
       "      <td>0.590000</td>\n",
       "      <td>1560.00</td>\n",
       "      <td>132.0</td>\n",
       "      <td>4</td>\n",
       "      <td>4</td>\n",
       "      <td>1848.0</td>\n",
       "      <td>0.000011</td>\n",
       "    </tr>\n",
       "    <tr>\n",
       "      <th>Ca</th>\n",
       "      <td>40.078000</td>\n",
       "      <td>0.310</td>\n",
       "      <td>1.80</td>\n",
       "      <td>3.400000e-08</td>\n",
       "      <td>26.20</td>\n",
       "      <td>200.0</td>\n",
       "      <td>17.0</td>\n",
       "      <td>20.0</td>\n",
       "      <td>2</td>\n",
       "      <td>False</td>\n",
       "      <td>...</td>\n",
       "      <td>{2: 1.14 ang}</td>\n",
       "      <td>1757.0</td>\n",
       "      <td>NaN</td>\n",
       "      <td>1.140000</td>\n",
       "      <td>1115.00</td>\n",
       "      <td>7.4</td>\n",
       "      <td>20</td>\n",
       "      <td>20</td>\n",
       "      <td>1550.0</td>\n",
       "      <td>0.000022</td>\n",
       "    </tr>\n",
       "    <tr>\n",
       "      <th>Cd</th>\n",
       "      <td>112.411000</td>\n",
       "      <td>0.300</td>\n",
       "      <td>1.55</td>\n",
       "      <td>7.000000e-08</td>\n",
       "      <td>13.00</td>\n",
       "      <td>97.0</td>\n",
       "      <td>42.0</td>\n",
       "      <td>50.0</td>\n",
       "      <td>12</td>\n",
       "      <td>False</td>\n",
       "      <td>...</td>\n",
       "      <td>{2: 1.09 ang}</td>\n",
       "      <td>1040.0</td>\n",
       "      <td>NaN</td>\n",
       "      <td>1.090000</td>\n",
       "      <td>594.22</td>\n",
       "      <td>19.0</td>\n",
       "      <td>48</td>\n",
       "      <td>48</td>\n",
       "      <td>8650.0</td>\n",
       "      <td>0.000031</td>\n",
       "    </tr>\n",
       "    <tr>\n",
       "      <th>Co</th>\n",
       "      <td>58.933195</td>\n",
       "      <td>0.310</td>\n",
       "      <td>1.35</td>\n",
       "      <td>6.000000e-08</td>\n",
       "      <td>6.67</td>\n",
       "      <td>100.0</td>\n",
       "      <td>180.0</td>\n",
       "      <td>209.0</td>\n",
       "      <td>9</td>\n",
       "      <td>False</td>\n",
       "      <td>...</td>\n",
       "      <td>{2: 0.885 ang, 3: 0.75 ang, 4: 0.67 ang}</td>\n",
       "      <td>3200.0</td>\n",
       "      <td>1043.0</td>\n",
       "      <td>0.768333</td>\n",
       "      <td>1768.00</td>\n",
       "      <td>75.0</td>\n",
       "      <td>27</td>\n",
       "      <td>27</td>\n",
       "      <td>8900.0</td>\n",
       "      <td>0.000013</td>\n",
       "    </tr>\n",
       "    <tr>\n",
       "      <th>Dy</th>\n",
       "      <td>162.500000</td>\n",
       "      <td>0.250</td>\n",
       "      <td>1.75</td>\n",
       "      <td>9.260000e-07</td>\n",
       "      <td>19.01</td>\n",
       "      <td>11.0</td>\n",
       "      <td>41.0</td>\n",
       "      <td>61.0</td>\n",
       "      <td>12</td>\n",
       "      <td>False</td>\n",
       "      <td>...</td>\n",
       "      <td>{2: 1.21 ang, 3: 1.052 ang}</td>\n",
       "      <td>2840.0</td>\n",
       "      <td>540.0</td>\n",
       "      <td>1.131000</td>\n",
       "      <td>1680.00</td>\n",
       "      <td>25.0</td>\n",
       "      <td>66</td>\n",
       "      <td>66</td>\n",
       "      <td>8551.0</td>\n",
       "      <td>0.000010</td>\n",
       "    </tr>\n",
       "  </tbody>\n",
       "</table>\n",
       "<p>5 rows × 35 columns</p>\n",
       "</div>"
      ],
      "text/plain": [
       "    atomic_mass  poissons_ratio  atomic_radius  electrical_resistivity  \\\n",
       "                                                                         \n",
       "Be     9.012182           0.032           1.05            3.800000e-08   \n",
       "Ca    40.078000           0.310           1.80            3.400000e-08   \n",
       "Cd   112.411000           0.300           1.55            7.000000e-08   \n",
       "Co    58.933195           0.310           1.35            6.000000e-08   \n",
       "Dy   162.500000           0.250           1.75            9.260000e-07   \n",
       "\n",
       "    molar_volume  thermal_conductivity  bulk_modulus  youngs_modulus  group  \\\n",
       "                                                                              \n",
       "Be          4.85                 190.0         130.0           287.0      2   \n",
       "Ca         26.20                 200.0          17.0            20.0      2   \n",
       "Cd         13.00                  97.0          42.0            50.0     12   \n",
       "Co          6.67                 100.0         180.0           209.0      9   \n",
       "Dy         19.01                  11.0          41.0            61.0     12   \n",
       "\n",
       "    is_noble_gas  ...                               ionic_radii  \\\n",
       "                  ...                                             \n",
       "Be         False  ...                             {2: 0.59 ang}   \n",
       "Ca         False  ...                             {2: 1.14 ang}   \n",
       "Cd         False  ...                             {2: 1.09 ang}   \n",
       "Co         False  ...  {2: 0.885 ang, 3: 0.75 ang, 4: 0.67 ang}   \n",
       "Dy         False  ...               {2: 1.21 ang, 3: 1.052 ang}   \n",
       "\n",
       "    boiling_point  vickers_hardness  average_ionic_radius  melting_point  \\\n",
       "                                                                           \n",
       "Be         2742.0            1670.0              0.590000        1560.00   \n",
       "Ca         1757.0               NaN              1.140000        1115.00   \n",
       "Cd         1040.0               NaN              1.090000         594.22   \n",
       "Co         3200.0            1043.0              0.768333        1768.00   \n",
       "Dy         2840.0             540.0              1.131000        1680.00   \n",
       "\n",
       "    rigidity_modulus   Z  number  density_of_solid  \\\n",
       "                                                     \n",
       "Be             132.0   4       4            1848.0   \n",
       "Ca               7.4  20      20            1550.0   \n",
       "Cd              19.0  48      48            8650.0   \n",
       "Co              75.0  27      27            8900.0   \n",
       "Dy              25.0  66      66            8551.0   \n",
       "\n",
       "    coefficient_of_linear_thermal_expansion  \n",
       "                                             \n",
       "Be                                 0.000011  \n",
       "Ca                                 0.000022  \n",
       "Cd                                 0.000031  \n",
       "Co                                 0.000013  \n",
       "Dy                                 0.000010  \n",
       "\n",
       "[5 rows x 35 columns]"
      ]
     },
     "execution_count": 88,
     "metadata": {},
     "output_type": "execute_result"
    }
   ],
   "source": [
    "df.head()"
   ]
  },
  {
   "cell_type": "code",
   "execution_count": 89,
   "metadata": {
    "scrolled": true
   },
   "outputs": [
    {
     "data": {
      "text/plain": [
       "atomic_mass                                float64\n",
       "poissons_ratio                             float64\n",
       "atomic_radius                              float64\n",
       "electrical_resistivity                     float64\n",
       "molar_volume                               float64\n",
       "thermal_conductivity                       float64\n",
       "bulk_modulus                               float64\n",
       "youngs_modulus                             float64\n",
       "group                                        int64\n",
       "is_noble_gas                                  bool\n",
       "is_transition_metal                           bool\n",
       "is_post_transition_metal                      bool\n",
       "is_rare_earth_metal                           bool\n",
       "is_metalloid                                  bool\n",
       "is_alkali                                     bool\n",
       "is_alkaline                                   bool\n",
       "is_halogen                                    bool\n",
       "is_lanthanoid                                 bool\n",
       "is_actinoid                                   bool\n",
       "van_der_waals_radius                       float64\n",
       "velocity_of_sound                          float64\n",
       "critical_temperature                        object\n",
       "superconduction_temperature                float64\n",
       "average_cationic_radius                    float64\n",
       "average_anionic_radius                     float64\n",
       "ionic_radii                                 object\n",
       "boiling_point                              float64\n",
       "vickers_hardness                           float64\n",
       "average_ionic_radius                       float64\n",
       "melting_point                              float64\n",
       "rigidity_modulus                           float64\n",
       "Z                                            int64\n",
       "number                                       int64\n",
       "density_of_solid                           float64\n",
       "coefficient_of_linear_thermal_expansion    float64\n",
       "dtype: object"
      ]
     },
     "execution_count": 89,
     "metadata": {},
     "output_type": "execute_result"
    }
   ],
   "source": [
    "df.dtypes"
   ]
  },
  {
   "cell_type": "code",
   "execution_count": 90,
   "metadata": {},
   "outputs": [],
   "source": [
    "df.to_csv (r'C:\\Users\\Kayla Yano\\Class\\Trial\\hcp_dataframe.csv', index = True, header=True)"
   ]
  },
  {
   "cell_type": "markdown",
   "metadata": {},
   "source": [
    "Pandas allows for easier manipulation of the data than the structures we discussed before, both dictionaries and lists of lists.\n",
    "We can make modifications to this dataframe in each of the following cells, to showcase the flexibility the Pandas library offers.\n",
    "\n",
    "To make this dataframe look better for example, we can start by using the list of elements instead of numbered rows."
   ]
  },
  {
   "cell_type": "code",
   "execution_count": 41,
   "metadata": {},
   "outputs": [
    {
     "data": {
      "text/html": [
       "<div>\n",
       "<style scoped>\n",
       "    .dataframe tbody tr th:only-of-type {\n",
       "        vertical-align: middle;\n",
       "    }\n",
       "\n",
       "    .dataframe tbody tr th {\n",
       "        vertical-align: top;\n",
       "    }\n",
       "\n",
       "    .dataframe thead th {\n",
       "        text-align: right;\n",
       "    }\n",
       "</style>\n",
       "<table border=\"1\" class=\"dataframe\">\n",
       "  <thead>\n",
       "    <tr style=\"text-align: right;\">\n",
       "      <th></th>\n",
       "      <th>atomic_mass</th>\n",
       "      <th>poissons_ratio</th>\n",
       "      <th>atomic_radius</th>\n",
       "      <th>electrical_resistivity</th>\n",
       "      <th>molar_volume</th>\n",
       "      <th>thermal_conductivity</th>\n",
       "      <th>bulk_modulus</th>\n",
       "      <th>youngs_modulus</th>\n",
       "      <th>group</th>\n",
       "      <th>is_noble_gas</th>\n",
       "      <th>...</th>\n",
       "      <th>ionic_radii</th>\n",
       "      <th>boiling_point</th>\n",
       "      <th>vickers_hardness</th>\n",
       "      <th>average_ionic_radius</th>\n",
       "      <th>melting_point</th>\n",
       "      <th>rigidity_modulus</th>\n",
       "      <th>Z</th>\n",
       "      <th>number</th>\n",
       "      <th>density_of_solid</th>\n",
       "      <th>coefficient_of_linear_thermal_expansion</th>\n",
       "    </tr>\n",
       "  </thead>\n",
       "  <tbody>\n",
       "    <tr>\n",
       "      <th>Ag</th>\n",
       "      <td>107.868200</td>\n",
       "      <td>0.37</td>\n",
       "      <td>1.60</td>\n",
       "      <td>1.630000e-08</td>\n",
       "      <td>10.27</td>\n",
       "      <td>430.0</td>\n",
       "      <td>100.0</td>\n",
       "      <td>83.0</td>\n",
       "      <td>11</td>\n",
       "      <td>False</td>\n",
       "      <td>...</td>\n",
       "      <td>{1: 1.29 ang, 2: 1.08 ang, 3: 0.89 ang}</td>\n",
       "      <td>2435.0</td>\n",
       "      <td>251.0</td>\n",
       "      <td>1.086667</td>\n",
       "      <td>1234.93</td>\n",
       "      <td>30.0</td>\n",
       "      <td>47</td>\n",
       "      <td>47</td>\n",
       "      <td>10490.0</td>\n",
       "      <td>0.000019</td>\n",
       "    </tr>\n",
       "    <tr>\n",
       "      <th>Al</th>\n",
       "      <td>26.981539</td>\n",
       "      <td>0.35</td>\n",
       "      <td>1.25</td>\n",
       "      <td>2.700000e-08</td>\n",
       "      <td>10.00</td>\n",
       "      <td>235.0</td>\n",
       "      <td>76.0</td>\n",
       "      <td>70.0</td>\n",
       "      <td>13</td>\n",
       "      <td>False</td>\n",
       "      <td>...</td>\n",
       "      <td>{3: 0.675 ang}</td>\n",
       "      <td>2792.0</td>\n",
       "      <td>167.0</td>\n",
       "      <td>0.675000</td>\n",
       "      <td>933.47</td>\n",
       "      <td>26.0</td>\n",
       "      <td>13</td>\n",
       "      <td>13</td>\n",
       "      <td>2700.0</td>\n",
       "      <td>0.000023</td>\n",
       "    </tr>\n",
       "    <tr>\n",
       "      <th>Au</th>\n",
       "      <td>196.966569</td>\n",
       "      <td>0.44</td>\n",
       "      <td>1.35</td>\n",
       "      <td>2.200000e-08</td>\n",
       "      <td>10.21</td>\n",
       "      <td>320.0</td>\n",
       "      <td>220.0</td>\n",
       "      <td>78.0</td>\n",
       "      <td>11</td>\n",
       "      <td>False</td>\n",
       "      <td>...</td>\n",
       "      <td>{1: 1.51 ang, 3: 0.99 ang, 5: 0.71 ang}</td>\n",
       "      <td>3129.0</td>\n",
       "      <td>216.0</td>\n",
       "      <td>1.070000</td>\n",
       "      <td>1337.33</td>\n",
       "      <td>27.0</td>\n",
       "      <td>79</td>\n",
       "      <td>79</td>\n",
       "      <td>19300.0</td>\n",
       "      <td>0.000014</td>\n",
       "    </tr>\n",
       "    <tr>\n",
       "      <th>Cu</th>\n",
       "      <td>63.546000</td>\n",
       "      <td>0.34</td>\n",
       "      <td>1.35</td>\n",
       "      <td>1.720000e-08</td>\n",
       "      <td>7.11</td>\n",
       "      <td>400.0</td>\n",
       "      <td>140.0</td>\n",
       "      <td>130.0</td>\n",
       "      <td>11</td>\n",
       "      <td>False</td>\n",
       "      <td>...</td>\n",
       "      <td>{1: 0.91 ang, 2: 0.87 ang, 3: 0.68 ang}</td>\n",
       "      <td>3200.0</td>\n",
       "      <td>369.0</td>\n",
       "      <td>0.820000</td>\n",
       "      <td>1357.77</td>\n",
       "      <td>48.0</td>\n",
       "      <td>29</td>\n",
       "      <td>29</td>\n",
       "      <td>8920.0</td>\n",
       "      <td>0.000017</td>\n",
       "    </tr>\n",
       "    <tr>\n",
       "      <th>Ir</th>\n",
       "      <td>192.217000</td>\n",
       "      <td>0.26</td>\n",
       "      <td>1.35</td>\n",
       "      <td>4.700000e-08</td>\n",
       "      <td>8.52</td>\n",
       "      <td>150.0</td>\n",
       "      <td>320.0</td>\n",
       "      <td>528.0</td>\n",
       "      <td>9</td>\n",
       "      <td>False</td>\n",
       "      <td>...</td>\n",
       "      <td>{3: 0.82 ang, 4: 0.765 ang, 5: 0.71 ang}</td>\n",
       "      <td>4701.0</td>\n",
       "      <td>1760.0</td>\n",
       "      <td>0.765000</td>\n",
       "      <td>2739.00</td>\n",
       "      <td>210.0</td>\n",
       "      <td>77</td>\n",
       "      <td>77</td>\n",
       "      <td>22650.0</td>\n",
       "      <td>0.000006</td>\n",
       "    </tr>\n",
       "    <tr>\n",
       "      <th>Ni</th>\n",
       "      <td>58.693400</td>\n",
       "      <td>0.31</td>\n",
       "      <td>1.35</td>\n",
       "      <td>7.200000e-08</td>\n",
       "      <td>6.59</td>\n",
       "      <td>91.0</td>\n",
       "      <td>180.0</td>\n",
       "      <td>200.0</td>\n",
       "      <td>10</td>\n",
       "      <td>False</td>\n",
       "      <td>...</td>\n",
       "      <td>{3: 0.74 ang}</td>\n",
       "      <td>3186.0</td>\n",
       "      <td>638.0</td>\n",
       "      <td>0.740000</td>\n",
       "      <td>1728.00</td>\n",
       "      <td>76.0</td>\n",
       "      <td>28</td>\n",
       "      <td>28</td>\n",
       "      <td>8908.0</td>\n",
       "      <td>0.000013</td>\n",
       "    </tr>\n",
       "    <tr>\n",
       "      <th>Pb</th>\n",
       "      <td>207.200000</td>\n",
       "      <td>0.44</td>\n",
       "      <td>1.80</td>\n",
       "      <td>2.100000e-07</td>\n",
       "      <td>18.26</td>\n",
       "      <td>35.0</td>\n",
       "      <td>46.0</td>\n",
       "      <td>16.0</td>\n",
       "      <td>14</td>\n",
       "      <td>False</td>\n",
       "      <td>...</td>\n",
       "      <td>{2: 1.33 ang, 4: 0.915 ang}</td>\n",
       "      <td>2022.0</td>\n",
       "      <td>NaN</td>\n",
       "      <td>1.122500</td>\n",
       "      <td>600.61</td>\n",
       "      <td>5.6</td>\n",
       "      <td>82</td>\n",
       "      <td>82</td>\n",
       "      <td>11340.0</td>\n",
       "      <td>0.000029</td>\n",
       "    </tr>\n",
       "    <tr>\n",
       "      <th>Pd</th>\n",
       "      <td>106.420000</td>\n",
       "      <td>0.39</td>\n",
       "      <td>1.40</td>\n",
       "      <td>1.080000e-07</td>\n",
       "      <td>8.56</td>\n",
       "      <td>72.0</td>\n",
       "      <td>180.0</td>\n",
       "      <td>121.0</td>\n",
       "      <td>10</td>\n",
       "      <td>False</td>\n",
       "      <td>...</td>\n",
       "      <td>{1: 0.73 ang, 2: 1.0 ang, 3: 0.9 ang, 4: 0.755...</td>\n",
       "      <td>3236.0</td>\n",
       "      <td>461.0</td>\n",
       "      <td>0.846250</td>\n",
       "      <td>1828.05</td>\n",
       "      <td>44.0</td>\n",
       "      <td>46</td>\n",
       "      <td>46</td>\n",
       "      <td>12023.0</td>\n",
       "      <td>0.000012</td>\n",
       "    </tr>\n",
       "    <tr>\n",
       "      <th>Pt</th>\n",
       "      <td>195.084000</td>\n",
       "      <td>0.38</td>\n",
       "      <td>1.35</td>\n",
       "      <td>1.060000e-07</td>\n",
       "      <td>9.09</td>\n",
       "      <td>72.0</td>\n",
       "      <td>230.0</td>\n",
       "      <td>168.0</td>\n",
       "      <td>10</td>\n",
       "      <td>False</td>\n",
       "      <td>...</td>\n",
       "      <td>{2: 0.94 ang, 4: 0.765 ang, 5: 0.71 ang}</td>\n",
       "      <td>4098.0</td>\n",
       "      <td>549.0</td>\n",
       "      <td>0.805000</td>\n",
       "      <td>2041.40</td>\n",
       "      <td>61.0</td>\n",
       "      <td>78</td>\n",
       "      <td>78</td>\n",
       "      <td>21090.0</td>\n",
       "      <td>0.000009</td>\n",
       "    </tr>\n",
       "    <tr>\n",
       "      <th>Rh</th>\n",
       "      <td>102.905500</td>\n",
       "      <td>0.26</td>\n",
       "      <td>1.35</td>\n",
       "      <td>4.300000e-08</td>\n",
       "      <td>8.28</td>\n",
       "      <td>150.0</td>\n",
       "      <td>380.0</td>\n",
       "      <td>275.0</td>\n",
       "      <td>9</td>\n",
       "      <td>False</td>\n",
       "      <td>...</td>\n",
       "      <td>{3: 0.805 ang, 4: 0.74 ang, 5: 0.69 ang}</td>\n",
       "      <td>3968.0</td>\n",
       "      <td>1246.0</td>\n",
       "      <td>0.745000</td>\n",
       "      <td>2237.00</td>\n",
       "      <td>150.0</td>\n",
       "      <td>45</td>\n",
       "      <td>45</td>\n",
       "      <td>12450.0</td>\n",
       "      <td>0.000008</td>\n",
       "    </tr>\n",
       "    <tr>\n",
       "      <th>Sr</th>\n",
       "      <td>87.620000</td>\n",
       "      <td>0.28</td>\n",
       "      <td>2.00</td>\n",
       "      <td>1.350000e-07</td>\n",
       "      <td>33.94</td>\n",
       "      <td>35.0</td>\n",
       "      <td>NaN</td>\n",
       "      <td>NaN</td>\n",
       "      <td>2</td>\n",
       "      <td>False</td>\n",
       "      <td>...</td>\n",
       "      <td>{2: 1.32 ang}</td>\n",
       "      <td>1655.0</td>\n",
       "      <td>NaN</td>\n",
       "      <td>1.320000</td>\n",
       "      <td>1050.00</td>\n",
       "      <td>6.1</td>\n",
       "      <td>38</td>\n",
       "      <td>38</td>\n",
       "      <td>2630.0</td>\n",
       "      <td>0.000023</td>\n",
       "    </tr>\n",
       "    <tr>\n",
       "      <th>Th</th>\n",
       "      <td>232.038060</td>\n",
       "      <td>0.27</td>\n",
       "      <td>1.80</td>\n",
       "      <td>1.500000e-07</td>\n",
       "      <td>19.80</td>\n",
       "      <td>54.0</td>\n",
       "      <td>54.0</td>\n",
       "      <td>79.0</td>\n",
       "      <td>4</td>\n",
       "      <td>False</td>\n",
       "      <td>...</td>\n",
       "      <td>{4: 1.08 ang}</td>\n",
       "      <td>5093.0</td>\n",
       "      <td>350.0</td>\n",
       "      <td>1.080000</td>\n",
       "      <td>2115.00</td>\n",
       "      <td>31.0</td>\n",
       "      <td>90</td>\n",
       "      <td>90</td>\n",
       "      <td>11724.0</td>\n",
       "      <td>0.000011</td>\n",
       "    </tr>\n",
       "    <tr>\n",
       "      <th>Yb</th>\n",
       "      <td>173.040000</td>\n",
       "      <td>0.21</td>\n",
       "      <td>1.75</td>\n",
       "      <td>2.500000e-07</td>\n",
       "      <td>24.84</td>\n",
       "      <td>39.0</td>\n",
       "      <td>31.0</td>\n",
       "      <td>24.0</td>\n",
       "      <td>16</td>\n",
       "      <td>False</td>\n",
       "      <td>...</td>\n",
       "      <td>{2: 1.16 ang, 3: 1.008 ang}</td>\n",
       "      <td>1469.0</td>\n",
       "      <td>206.0</td>\n",
       "      <td>1.084000</td>\n",
       "      <td>1097.00</td>\n",
       "      <td>9.9</td>\n",
       "      <td>70</td>\n",
       "      <td>70</td>\n",
       "      <td>6570.0</td>\n",
       "      <td>0.000026</td>\n",
       "    </tr>\n",
       "  </tbody>\n",
       "</table>\n",
       "<p>13 rows × 35 columns</p>\n",
       "</div>"
      ],
      "text/plain": [
       "    atomic_mass  poissons_ratio  atomic_radius  electrical_resistivity  \\\n",
       "Ag   107.868200            0.37           1.60            1.630000e-08   \n",
       "Al    26.981539            0.35           1.25            2.700000e-08   \n",
       "Au   196.966569            0.44           1.35            2.200000e-08   \n",
       "Cu    63.546000            0.34           1.35            1.720000e-08   \n",
       "Ir   192.217000            0.26           1.35            4.700000e-08   \n",
       "Ni    58.693400            0.31           1.35            7.200000e-08   \n",
       "Pb   207.200000            0.44           1.80            2.100000e-07   \n",
       "Pd   106.420000            0.39           1.40            1.080000e-07   \n",
       "Pt   195.084000            0.38           1.35            1.060000e-07   \n",
       "Rh   102.905500            0.26           1.35            4.300000e-08   \n",
       "Sr    87.620000            0.28           2.00            1.350000e-07   \n",
       "Th   232.038060            0.27           1.80            1.500000e-07   \n",
       "Yb   173.040000            0.21           1.75            2.500000e-07   \n",
       "\n",
       "    molar_volume  thermal_conductivity  bulk_modulus  youngs_modulus  group  \\\n",
       "Ag         10.27                 430.0         100.0            83.0     11   \n",
       "Al         10.00                 235.0          76.0            70.0     13   \n",
       "Au         10.21                 320.0         220.0            78.0     11   \n",
       "Cu          7.11                 400.0         140.0           130.0     11   \n",
       "Ir          8.52                 150.0         320.0           528.0      9   \n",
       "Ni          6.59                  91.0         180.0           200.0     10   \n",
       "Pb         18.26                  35.0          46.0            16.0     14   \n",
       "Pd          8.56                  72.0         180.0           121.0     10   \n",
       "Pt          9.09                  72.0         230.0           168.0     10   \n",
       "Rh          8.28                 150.0         380.0           275.0      9   \n",
       "Sr         33.94                  35.0           NaN             NaN      2   \n",
       "Th         19.80                  54.0          54.0            79.0      4   \n",
       "Yb         24.84                  39.0          31.0            24.0     16   \n",
       "\n",
       "    is_noble_gas  ...                                        ionic_radii  \\\n",
       "Ag         False  ...            {1: 1.29 ang, 2: 1.08 ang, 3: 0.89 ang}   \n",
       "Al         False  ...                                     {3: 0.675 ang}   \n",
       "Au         False  ...            {1: 1.51 ang, 3: 0.99 ang, 5: 0.71 ang}   \n",
       "Cu         False  ...            {1: 0.91 ang, 2: 0.87 ang, 3: 0.68 ang}   \n",
       "Ir         False  ...           {3: 0.82 ang, 4: 0.765 ang, 5: 0.71 ang}   \n",
       "Ni         False  ...                                      {3: 0.74 ang}   \n",
       "Pb         False  ...                        {2: 1.33 ang, 4: 0.915 ang}   \n",
       "Pd         False  ...  {1: 0.73 ang, 2: 1.0 ang, 3: 0.9 ang, 4: 0.755...   \n",
       "Pt         False  ...           {2: 0.94 ang, 4: 0.765 ang, 5: 0.71 ang}   \n",
       "Rh         False  ...           {3: 0.805 ang, 4: 0.74 ang, 5: 0.69 ang}   \n",
       "Sr         False  ...                                      {2: 1.32 ang}   \n",
       "Th         False  ...                                      {4: 1.08 ang}   \n",
       "Yb         False  ...                        {2: 1.16 ang, 3: 1.008 ang}   \n",
       "\n",
       "    boiling_point  vickers_hardness  average_ionic_radius  melting_point  \\\n",
       "Ag         2435.0             251.0              1.086667        1234.93   \n",
       "Al         2792.0             167.0              0.675000         933.47   \n",
       "Au         3129.0             216.0              1.070000        1337.33   \n",
       "Cu         3200.0             369.0              0.820000        1357.77   \n",
       "Ir         4701.0            1760.0              0.765000        2739.00   \n",
       "Ni         3186.0             638.0              0.740000        1728.00   \n",
       "Pb         2022.0               NaN              1.122500         600.61   \n",
       "Pd         3236.0             461.0              0.846250        1828.05   \n",
       "Pt         4098.0             549.0              0.805000        2041.40   \n",
       "Rh         3968.0            1246.0              0.745000        2237.00   \n",
       "Sr         1655.0               NaN              1.320000        1050.00   \n",
       "Th         5093.0             350.0              1.080000        2115.00   \n",
       "Yb         1469.0             206.0              1.084000        1097.00   \n",
       "\n",
       "    rigidity_modulus   Z  number  density_of_solid  \\\n",
       "Ag              30.0  47      47           10490.0   \n",
       "Al              26.0  13      13            2700.0   \n",
       "Au              27.0  79      79           19300.0   \n",
       "Cu              48.0  29      29            8920.0   \n",
       "Ir             210.0  77      77           22650.0   \n",
       "Ni              76.0  28      28            8908.0   \n",
       "Pb               5.6  82      82           11340.0   \n",
       "Pd              44.0  46      46           12023.0   \n",
       "Pt              61.0  78      78           21090.0   \n",
       "Rh             150.0  45      45           12450.0   \n",
       "Sr               6.1  38      38            2630.0   \n",
       "Th              31.0  90      90           11724.0   \n",
       "Yb               9.9  70      70            6570.0   \n",
       "\n",
       "    coefficient_of_linear_thermal_expansion  \n",
       "Ag                                 0.000019  \n",
       "Al                                 0.000023  \n",
       "Au                                 0.000014  \n",
       "Cu                                 0.000017  \n",
       "Ir                                 0.000006  \n",
       "Ni                                 0.000013  \n",
       "Pb                                 0.000029  \n",
       "Pd                                 0.000012  \n",
       "Pt                                 0.000009  \n",
       "Rh                                 0.000008  \n",
       "Sr                                 0.000023  \n",
       "Th                                 0.000011  \n",
       "Yb                                 0.000026  \n",
       "\n",
       "[13 rows x 35 columns]"
      ]
     },
     "metadata": {},
     "output_type": "display_data"
    }
   ],
   "source": [
    "df.index = fcc_elements\n",
    "display(df)"
   ]
  },
  {
   "cell_type": "markdown",
   "metadata": {},
   "source": [
    "We can then use simple Pandas binary operations to only show elements that satisfy a certain condition.\n",
    "\n",
    "The first cell will display a version of the dataframe filtered to elements that have an atomic mass <i>greater or equal</i> than 150u. (Pandas operator .ge) <br>\n",
    "The second cell will display a version of the dataframe filtered to elements with exactly 0.26 Poissons' ratio. (Pandas operator .eq) <br>\n",
    "\n",
    "There are standard operators for greater or equal (.ge), less or equal (.le), equal (.eq) and not equal (.ne). A list of such operations can be found [here](https://pandas.pydata.org/pandas-docs/version/0.24.2/reference/frame.html#binary-operator-functions). However, we can also create our custom binary conditions.\n",
    "\n",
    "The third cell will display a version with a custom binary condition. The elements shown have Young's modulus less than 120 GPa, and Poissons' ratio greater than 0.25. <br>"
   ]
  },
  {
   "cell_type": "code",
   "execution_count": 42,
   "metadata": {},
   "outputs": [
    {
     "data": {
      "text/html": [
       "<div>\n",
       "<style scoped>\n",
       "    .dataframe tbody tr th:only-of-type {\n",
       "        vertical-align: middle;\n",
       "    }\n",
       "\n",
       "    .dataframe tbody tr th {\n",
       "        vertical-align: top;\n",
       "    }\n",
       "\n",
       "    .dataframe thead th {\n",
       "        text-align: right;\n",
       "    }\n",
       "</style>\n",
       "<table border=\"1\" class=\"dataframe\">\n",
       "  <thead>\n",
       "    <tr style=\"text-align: right;\">\n",
       "      <th></th>\n",
       "      <th>atomic_mass</th>\n",
       "      <th>poissons_ratio</th>\n",
       "      <th>atomic_radius</th>\n",
       "      <th>electrical_resistivity</th>\n",
       "      <th>molar_volume</th>\n",
       "      <th>thermal_conductivity</th>\n",
       "      <th>bulk_modulus</th>\n",
       "      <th>youngs_modulus</th>\n",
       "      <th>group</th>\n",
       "      <th>is_noble_gas</th>\n",
       "      <th>...</th>\n",
       "      <th>ionic_radii</th>\n",
       "      <th>boiling_point</th>\n",
       "      <th>vickers_hardness</th>\n",
       "      <th>average_ionic_radius</th>\n",
       "      <th>melting_point</th>\n",
       "      <th>rigidity_modulus</th>\n",
       "      <th>Z</th>\n",
       "      <th>number</th>\n",
       "      <th>density_of_solid</th>\n",
       "      <th>coefficient_of_linear_thermal_expansion</th>\n",
       "    </tr>\n",
       "  </thead>\n",
       "  <tbody>\n",
       "    <tr>\n",
       "      <th>Au</th>\n",
       "      <td>196.966569</td>\n",
       "      <td>0.44</td>\n",
       "      <td>1.35</td>\n",
       "      <td>2.200000e-08</td>\n",
       "      <td>10.21</td>\n",
       "      <td>320.0</td>\n",
       "      <td>220.0</td>\n",
       "      <td>78.0</td>\n",
       "      <td>11</td>\n",
       "      <td>False</td>\n",
       "      <td>...</td>\n",
       "      <td>{1: 1.51 ang, 3: 0.99 ang, 5: 0.71 ang}</td>\n",
       "      <td>3129.0</td>\n",
       "      <td>216.0</td>\n",
       "      <td>1.0700</td>\n",
       "      <td>1337.33</td>\n",
       "      <td>27.0</td>\n",
       "      <td>79</td>\n",
       "      <td>79</td>\n",
       "      <td>19300.0</td>\n",
       "      <td>0.000014</td>\n",
       "    </tr>\n",
       "    <tr>\n",
       "      <th>Ir</th>\n",
       "      <td>192.217000</td>\n",
       "      <td>0.26</td>\n",
       "      <td>1.35</td>\n",
       "      <td>4.700000e-08</td>\n",
       "      <td>8.52</td>\n",
       "      <td>150.0</td>\n",
       "      <td>320.0</td>\n",
       "      <td>528.0</td>\n",
       "      <td>9</td>\n",
       "      <td>False</td>\n",
       "      <td>...</td>\n",
       "      <td>{3: 0.82 ang, 4: 0.765 ang, 5: 0.71 ang}</td>\n",
       "      <td>4701.0</td>\n",
       "      <td>1760.0</td>\n",
       "      <td>0.7650</td>\n",
       "      <td>2739.00</td>\n",
       "      <td>210.0</td>\n",
       "      <td>77</td>\n",
       "      <td>77</td>\n",
       "      <td>22650.0</td>\n",
       "      <td>0.000006</td>\n",
       "    </tr>\n",
       "    <tr>\n",
       "      <th>Pb</th>\n",
       "      <td>207.200000</td>\n",
       "      <td>0.44</td>\n",
       "      <td>1.80</td>\n",
       "      <td>2.100000e-07</td>\n",
       "      <td>18.26</td>\n",
       "      <td>35.0</td>\n",
       "      <td>46.0</td>\n",
       "      <td>16.0</td>\n",
       "      <td>14</td>\n",
       "      <td>False</td>\n",
       "      <td>...</td>\n",
       "      <td>{2: 1.33 ang, 4: 0.915 ang}</td>\n",
       "      <td>2022.0</td>\n",
       "      <td>NaN</td>\n",
       "      <td>1.1225</td>\n",
       "      <td>600.61</td>\n",
       "      <td>5.6</td>\n",
       "      <td>82</td>\n",
       "      <td>82</td>\n",
       "      <td>11340.0</td>\n",
       "      <td>0.000029</td>\n",
       "    </tr>\n",
       "    <tr>\n",
       "      <th>Pt</th>\n",
       "      <td>195.084000</td>\n",
       "      <td>0.38</td>\n",
       "      <td>1.35</td>\n",
       "      <td>1.060000e-07</td>\n",
       "      <td>9.09</td>\n",
       "      <td>72.0</td>\n",
       "      <td>230.0</td>\n",
       "      <td>168.0</td>\n",
       "      <td>10</td>\n",
       "      <td>False</td>\n",
       "      <td>...</td>\n",
       "      <td>{2: 0.94 ang, 4: 0.765 ang, 5: 0.71 ang}</td>\n",
       "      <td>4098.0</td>\n",
       "      <td>549.0</td>\n",
       "      <td>0.8050</td>\n",
       "      <td>2041.40</td>\n",
       "      <td>61.0</td>\n",
       "      <td>78</td>\n",
       "      <td>78</td>\n",
       "      <td>21090.0</td>\n",
       "      <td>0.000009</td>\n",
       "    </tr>\n",
       "    <tr>\n",
       "      <th>Th</th>\n",
       "      <td>232.038060</td>\n",
       "      <td>0.27</td>\n",
       "      <td>1.80</td>\n",
       "      <td>1.500000e-07</td>\n",
       "      <td>19.80</td>\n",
       "      <td>54.0</td>\n",
       "      <td>54.0</td>\n",
       "      <td>79.0</td>\n",
       "      <td>4</td>\n",
       "      <td>False</td>\n",
       "      <td>...</td>\n",
       "      <td>{4: 1.08 ang}</td>\n",
       "      <td>5093.0</td>\n",
       "      <td>350.0</td>\n",
       "      <td>1.0800</td>\n",
       "      <td>2115.00</td>\n",
       "      <td>31.0</td>\n",
       "      <td>90</td>\n",
       "      <td>90</td>\n",
       "      <td>11724.0</td>\n",
       "      <td>0.000011</td>\n",
       "    </tr>\n",
       "    <tr>\n",
       "      <th>Yb</th>\n",
       "      <td>173.040000</td>\n",
       "      <td>0.21</td>\n",
       "      <td>1.75</td>\n",
       "      <td>2.500000e-07</td>\n",
       "      <td>24.84</td>\n",
       "      <td>39.0</td>\n",
       "      <td>31.0</td>\n",
       "      <td>24.0</td>\n",
       "      <td>16</td>\n",
       "      <td>False</td>\n",
       "      <td>...</td>\n",
       "      <td>{2: 1.16 ang, 3: 1.008 ang}</td>\n",
       "      <td>1469.0</td>\n",
       "      <td>206.0</td>\n",
       "      <td>1.0840</td>\n",
       "      <td>1097.00</td>\n",
       "      <td>9.9</td>\n",
       "      <td>70</td>\n",
       "      <td>70</td>\n",
       "      <td>6570.0</td>\n",
       "      <td>0.000026</td>\n",
       "    </tr>\n",
       "  </tbody>\n",
       "</table>\n",
       "<p>6 rows × 35 columns</p>\n",
       "</div>"
      ],
      "text/plain": [
       "    atomic_mass  poissons_ratio  atomic_radius  electrical_resistivity  \\\n",
       "Au   196.966569            0.44           1.35            2.200000e-08   \n",
       "Ir   192.217000            0.26           1.35            4.700000e-08   \n",
       "Pb   207.200000            0.44           1.80            2.100000e-07   \n",
       "Pt   195.084000            0.38           1.35            1.060000e-07   \n",
       "Th   232.038060            0.27           1.80            1.500000e-07   \n",
       "Yb   173.040000            0.21           1.75            2.500000e-07   \n",
       "\n",
       "    molar_volume  thermal_conductivity  bulk_modulus  youngs_modulus  group  \\\n",
       "Au         10.21                 320.0         220.0            78.0     11   \n",
       "Ir          8.52                 150.0         320.0           528.0      9   \n",
       "Pb         18.26                  35.0          46.0            16.0     14   \n",
       "Pt          9.09                  72.0         230.0           168.0     10   \n",
       "Th         19.80                  54.0          54.0            79.0      4   \n",
       "Yb         24.84                  39.0          31.0            24.0     16   \n",
       "\n",
       "    is_noble_gas  ...                               ionic_radii  \\\n",
       "Au         False  ...   {1: 1.51 ang, 3: 0.99 ang, 5: 0.71 ang}   \n",
       "Ir         False  ...  {3: 0.82 ang, 4: 0.765 ang, 5: 0.71 ang}   \n",
       "Pb         False  ...               {2: 1.33 ang, 4: 0.915 ang}   \n",
       "Pt         False  ...  {2: 0.94 ang, 4: 0.765 ang, 5: 0.71 ang}   \n",
       "Th         False  ...                             {4: 1.08 ang}   \n",
       "Yb         False  ...               {2: 1.16 ang, 3: 1.008 ang}   \n",
       "\n",
       "    boiling_point  vickers_hardness  average_ionic_radius  melting_point  \\\n",
       "Au         3129.0             216.0                1.0700        1337.33   \n",
       "Ir         4701.0            1760.0                0.7650        2739.00   \n",
       "Pb         2022.0               NaN                1.1225         600.61   \n",
       "Pt         4098.0             549.0                0.8050        2041.40   \n",
       "Th         5093.0             350.0                1.0800        2115.00   \n",
       "Yb         1469.0             206.0                1.0840        1097.00   \n",
       "\n",
       "    rigidity_modulus   Z  number  density_of_solid  \\\n",
       "Au              27.0  79      79           19300.0   \n",
       "Ir             210.0  77      77           22650.0   \n",
       "Pb               5.6  82      82           11340.0   \n",
       "Pt              61.0  78      78           21090.0   \n",
       "Th              31.0  90      90           11724.0   \n",
       "Yb               9.9  70      70            6570.0   \n",
       "\n",
       "    coefficient_of_linear_thermal_expansion  \n",
       "Au                                 0.000014  \n",
       "Ir                                 0.000006  \n",
       "Pb                                 0.000029  \n",
       "Pt                                 0.000009  \n",
       "Th                                 0.000011  \n",
       "Yb                                 0.000026  \n",
       "\n",
       "[6 rows x 35 columns]"
      ]
     },
     "metadata": {},
     "output_type": "display_data"
    }
   ],
   "source": [
    "df_big_atoms = df[df.atomic_mass.ge(150)]\n",
    "display(df_big_atoms)"
   ]
  },
  {
   "cell_type": "code",
   "execution_count": 48,
   "metadata": {},
   "outputs": [
    {
     "data": {
      "text/html": [
       "<div>\n",
       "<style scoped>\n",
       "    .dataframe tbody tr th:only-of-type {\n",
       "        vertical-align: middle;\n",
       "    }\n",
       "\n",
       "    .dataframe tbody tr th {\n",
       "        vertical-align: top;\n",
       "    }\n",
       "\n",
       "    .dataframe thead th {\n",
       "        text-align: right;\n",
       "    }\n",
       "</style>\n",
       "<table border=\"1\" class=\"dataframe\">\n",
       "  <thead>\n",
       "    <tr style=\"text-align: right;\">\n",
       "      <th></th>\n",
       "      <th>atomic_mass</th>\n",
       "      <th>poissons_ratio</th>\n",
       "      <th>atomic_radius</th>\n",
       "      <th>electrical_resistivity</th>\n",
       "      <th>molar_volume</th>\n",
       "      <th>thermal_conductivity</th>\n",
       "      <th>bulk_modulus</th>\n",
       "      <th>youngs_modulus</th>\n",
       "      <th>group</th>\n",
       "      <th>is_noble_gas</th>\n",
       "      <th>...</th>\n",
       "      <th>ionic_radii</th>\n",
       "      <th>boiling_point</th>\n",
       "      <th>vickers_hardness</th>\n",
       "      <th>average_ionic_radius</th>\n",
       "      <th>melting_point</th>\n",
       "      <th>rigidity_modulus</th>\n",
       "      <th>Z</th>\n",
       "      <th>number</th>\n",
       "      <th>density_of_solid</th>\n",
       "      <th>coefficient_of_linear_thermal_expansion</th>\n",
       "    </tr>\n",
       "  </thead>\n",
       "  <tbody>\n",
       "    <tr>\n",
       "      <th>Ag</th>\n",
       "      <td>107.868200</td>\n",
       "      <td>0.37</td>\n",
       "      <td>1.60</td>\n",
       "      <td>1.630000e-08</td>\n",
       "      <td>10.27</td>\n",
       "      <td>430.0</td>\n",
       "      <td>100.0</td>\n",
       "      <td>83.0</td>\n",
       "      <td>11</td>\n",
       "      <td>False</td>\n",
       "      <td>...</td>\n",
       "      <td>{1: 1.29 ang, 2: 1.08 ang, 3: 0.89 ang}</td>\n",
       "      <td>2435.0</td>\n",
       "      <td>251.0</td>\n",
       "      <td>1.086667</td>\n",
       "      <td>1234.93</td>\n",
       "      <td>30.0</td>\n",
       "      <td>47</td>\n",
       "      <td>47</td>\n",
       "      <td>10490.0</td>\n",
       "      <td>0.000019</td>\n",
       "    </tr>\n",
       "    <tr>\n",
       "      <th>Al</th>\n",
       "      <td>26.981539</td>\n",
       "      <td>0.35</td>\n",
       "      <td>1.25</td>\n",
       "      <td>2.700000e-08</td>\n",
       "      <td>10.00</td>\n",
       "      <td>235.0</td>\n",
       "      <td>76.0</td>\n",
       "      <td>70.0</td>\n",
       "      <td>13</td>\n",
       "      <td>False</td>\n",
       "      <td>...</td>\n",
       "      <td>{3: 0.675 ang}</td>\n",
       "      <td>2792.0</td>\n",
       "      <td>167.0</td>\n",
       "      <td>0.675000</td>\n",
       "      <td>933.47</td>\n",
       "      <td>26.0</td>\n",
       "      <td>13</td>\n",
       "      <td>13</td>\n",
       "      <td>2700.0</td>\n",
       "      <td>0.000023</td>\n",
       "    </tr>\n",
       "    <tr>\n",
       "      <th>Au</th>\n",
       "      <td>196.966569</td>\n",
       "      <td>0.44</td>\n",
       "      <td>1.35</td>\n",
       "      <td>2.200000e-08</td>\n",
       "      <td>10.21</td>\n",
       "      <td>320.0</td>\n",
       "      <td>220.0</td>\n",
       "      <td>78.0</td>\n",
       "      <td>11</td>\n",
       "      <td>False</td>\n",
       "      <td>...</td>\n",
       "      <td>{1: 1.51 ang, 3: 0.99 ang, 5: 0.71 ang}</td>\n",
       "      <td>3129.0</td>\n",
       "      <td>216.0</td>\n",
       "      <td>1.070000</td>\n",
       "      <td>1337.33</td>\n",
       "      <td>27.0</td>\n",
       "      <td>79</td>\n",
       "      <td>79</td>\n",
       "      <td>19300.0</td>\n",
       "      <td>0.000014</td>\n",
       "    </tr>\n",
       "    <tr>\n",
       "      <th>Cu</th>\n",
       "      <td>63.546000</td>\n",
       "      <td>0.34</td>\n",
       "      <td>1.35</td>\n",
       "      <td>1.720000e-08</td>\n",
       "      <td>7.11</td>\n",
       "      <td>400.0</td>\n",
       "      <td>140.0</td>\n",
       "      <td>130.0</td>\n",
       "      <td>11</td>\n",
       "      <td>False</td>\n",
       "      <td>...</td>\n",
       "      <td>{1: 0.91 ang, 2: 0.87 ang, 3: 0.68 ang}</td>\n",
       "      <td>3200.0</td>\n",
       "      <td>369.0</td>\n",
       "      <td>0.820000</td>\n",
       "      <td>1357.77</td>\n",
       "      <td>48.0</td>\n",
       "      <td>29</td>\n",
       "      <td>29</td>\n",
       "      <td>8920.0</td>\n",
       "      <td>0.000017</td>\n",
       "    </tr>\n",
       "    <tr>\n",
       "      <th>Ir</th>\n",
       "      <td>192.217000</td>\n",
       "      <td>0.26</td>\n",
       "      <td>1.35</td>\n",
       "      <td>4.700000e-08</td>\n",
       "      <td>8.52</td>\n",
       "      <td>150.0</td>\n",
       "      <td>320.0</td>\n",
       "      <td>528.0</td>\n",
       "      <td>9</td>\n",
       "      <td>False</td>\n",
       "      <td>...</td>\n",
       "      <td>{3: 0.82 ang, 4: 0.765 ang, 5: 0.71 ang}</td>\n",
       "      <td>4701.0</td>\n",
       "      <td>1760.0</td>\n",
       "      <td>0.765000</td>\n",
       "      <td>2739.00</td>\n",
       "      <td>210.0</td>\n",
       "      <td>77</td>\n",
       "      <td>77</td>\n",
       "      <td>22650.0</td>\n",
       "      <td>0.000006</td>\n",
       "    </tr>\n",
       "    <tr>\n",
       "      <th>Ni</th>\n",
       "      <td>58.693400</td>\n",
       "      <td>0.31</td>\n",
       "      <td>1.35</td>\n",
       "      <td>7.200000e-08</td>\n",
       "      <td>6.59</td>\n",
       "      <td>91.0</td>\n",
       "      <td>180.0</td>\n",
       "      <td>200.0</td>\n",
       "      <td>10</td>\n",
       "      <td>False</td>\n",
       "      <td>...</td>\n",
       "      <td>{3: 0.74 ang}</td>\n",
       "      <td>3186.0</td>\n",
       "      <td>638.0</td>\n",
       "      <td>0.740000</td>\n",
       "      <td>1728.00</td>\n",
       "      <td>76.0</td>\n",
       "      <td>28</td>\n",
       "      <td>28</td>\n",
       "      <td>8908.0</td>\n",
       "      <td>0.000013</td>\n",
       "    </tr>\n",
       "    <tr>\n",
       "      <th>Pb</th>\n",
       "      <td>207.200000</td>\n",
       "      <td>0.44</td>\n",
       "      <td>1.80</td>\n",
       "      <td>2.100000e-07</td>\n",
       "      <td>18.26</td>\n",
       "      <td>35.0</td>\n",
       "      <td>46.0</td>\n",
       "      <td>16.0</td>\n",
       "      <td>14</td>\n",
       "      <td>False</td>\n",
       "      <td>...</td>\n",
       "      <td>{2: 1.33 ang, 4: 0.915 ang}</td>\n",
       "      <td>2022.0</td>\n",
       "      <td>NaN</td>\n",
       "      <td>1.122500</td>\n",
       "      <td>600.61</td>\n",
       "      <td>5.6</td>\n",
       "      <td>82</td>\n",
       "      <td>82</td>\n",
       "      <td>11340.0</td>\n",
       "      <td>0.000029</td>\n",
       "    </tr>\n",
       "    <tr>\n",
       "      <th>Pd</th>\n",
       "      <td>106.420000</td>\n",
       "      <td>0.39</td>\n",
       "      <td>1.40</td>\n",
       "      <td>1.080000e-07</td>\n",
       "      <td>8.56</td>\n",
       "      <td>72.0</td>\n",
       "      <td>180.0</td>\n",
       "      <td>121.0</td>\n",
       "      <td>10</td>\n",
       "      <td>False</td>\n",
       "      <td>...</td>\n",
       "      <td>{1: 0.73 ang, 2: 1.0 ang, 3: 0.9 ang, 4: 0.755...</td>\n",
       "      <td>3236.0</td>\n",
       "      <td>461.0</td>\n",
       "      <td>0.846250</td>\n",
       "      <td>1828.05</td>\n",
       "      <td>44.0</td>\n",
       "      <td>46</td>\n",
       "      <td>46</td>\n",
       "      <td>12023.0</td>\n",
       "      <td>0.000012</td>\n",
       "    </tr>\n",
       "    <tr>\n",
       "      <th>Pt</th>\n",
       "      <td>195.084000</td>\n",
       "      <td>0.38</td>\n",
       "      <td>1.35</td>\n",
       "      <td>1.060000e-07</td>\n",
       "      <td>9.09</td>\n",
       "      <td>72.0</td>\n",
       "      <td>230.0</td>\n",
       "      <td>168.0</td>\n",
       "      <td>10</td>\n",
       "      <td>False</td>\n",
       "      <td>...</td>\n",
       "      <td>{2: 0.94 ang, 4: 0.765 ang, 5: 0.71 ang}</td>\n",
       "      <td>4098.0</td>\n",
       "      <td>549.0</td>\n",
       "      <td>0.805000</td>\n",
       "      <td>2041.40</td>\n",
       "      <td>61.0</td>\n",
       "      <td>78</td>\n",
       "      <td>78</td>\n",
       "      <td>21090.0</td>\n",
       "      <td>0.000009</td>\n",
       "    </tr>\n",
       "    <tr>\n",
       "      <th>Rh</th>\n",
       "      <td>102.905500</td>\n",
       "      <td>0.26</td>\n",
       "      <td>1.35</td>\n",
       "      <td>4.300000e-08</td>\n",
       "      <td>8.28</td>\n",
       "      <td>150.0</td>\n",
       "      <td>380.0</td>\n",
       "      <td>275.0</td>\n",
       "      <td>9</td>\n",
       "      <td>False</td>\n",
       "      <td>...</td>\n",
       "      <td>{3: 0.805 ang, 4: 0.74 ang, 5: 0.69 ang}</td>\n",
       "      <td>3968.0</td>\n",
       "      <td>1246.0</td>\n",
       "      <td>0.745000</td>\n",
       "      <td>2237.00</td>\n",
       "      <td>150.0</td>\n",
       "      <td>45</td>\n",
       "      <td>45</td>\n",
       "      <td>12450.0</td>\n",
       "      <td>0.000008</td>\n",
       "    </tr>\n",
       "    <tr>\n",
       "      <th>Sr</th>\n",
       "      <td>87.620000</td>\n",
       "      <td>0.28</td>\n",
       "      <td>2.00</td>\n",
       "      <td>1.350000e-07</td>\n",
       "      <td>33.94</td>\n",
       "      <td>35.0</td>\n",
       "      <td>NaN</td>\n",
       "      <td>NaN</td>\n",
       "      <td>2</td>\n",
       "      <td>False</td>\n",
       "      <td>...</td>\n",
       "      <td>{2: 1.32 ang}</td>\n",
       "      <td>1655.0</td>\n",
       "      <td>NaN</td>\n",
       "      <td>1.320000</td>\n",
       "      <td>1050.00</td>\n",
       "      <td>6.1</td>\n",
       "      <td>38</td>\n",
       "      <td>38</td>\n",
       "      <td>2630.0</td>\n",
       "      <td>0.000023</td>\n",
       "    </tr>\n",
       "    <tr>\n",
       "      <th>Th</th>\n",
       "      <td>232.038060</td>\n",
       "      <td>0.27</td>\n",
       "      <td>1.80</td>\n",
       "      <td>1.500000e-07</td>\n",
       "      <td>19.80</td>\n",
       "      <td>54.0</td>\n",
       "      <td>54.0</td>\n",
       "      <td>79.0</td>\n",
       "      <td>4</td>\n",
       "      <td>False</td>\n",
       "      <td>...</td>\n",
       "      <td>{4: 1.08 ang}</td>\n",
       "      <td>5093.0</td>\n",
       "      <td>350.0</td>\n",
       "      <td>1.080000</td>\n",
       "      <td>2115.00</td>\n",
       "      <td>31.0</td>\n",
       "      <td>90</td>\n",
       "      <td>90</td>\n",
       "      <td>11724.0</td>\n",
       "      <td>0.000011</td>\n",
       "    </tr>\n",
       "    <tr>\n",
       "      <th>Yb</th>\n",
       "      <td>173.040000</td>\n",
       "      <td>0.21</td>\n",
       "      <td>1.75</td>\n",
       "      <td>2.500000e-07</td>\n",
       "      <td>24.84</td>\n",
       "      <td>39.0</td>\n",
       "      <td>31.0</td>\n",
       "      <td>24.0</td>\n",
       "      <td>16</td>\n",
       "      <td>False</td>\n",
       "      <td>...</td>\n",
       "      <td>{2: 1.16 ang, 3: 1.008 ang}</td>\n",
       "      <td>1469.0</td>\n",
       "      <td>206.0</td>\n",
       "      <td>1.084000</td>\n",
       "      <td>1097.00</td>\n",
       "      <td>9.9</td>\n",
       "      <td>70</td>\n",
       "      <td>70</td>\n",
       "      <td>6570.0</td>\n",
       "      <td>0.000026</td>\n",
       "    </tr>\n",
       "  </tbody>\n",
       "</table>\n",
       "<p>13 rows × 35 columns</p>\n",
       "</div>"
      ],
      "text/plain": [
       "    atomic_mass  poissons_ratio  atomic_radius  electrical_resistivity  \\\n",
       "Ag   107.868200            0.37           1.60            1.630000e-08   \n",
       "Al    26.981539            0.35           1.25            2.700000e-08   \n",
       "Au   196.966569            0.44           1.35            2.200000e-08   \n",
       "Cu    63.546000            0.34           1.35            1.720000e-08   \n",
       "Ir   192.217000            0.26           1.35            4.700000e-08   \n",
       "Ni    58.693400            0.31           1.35            7.200000e-08   \n",
       "Pb   207.200000            0.44           1.80            2.100000e-07   \n",
       "Pd   106.420000            0.39           1.40            1.080000e-07   \n",
       "Pt   195.084000            0.38           1.35            1.060000e-07   \n",
       "Rh   102.905500            0.26           1.35            4.300000e-08   \n",
       "Sr    87.620000            0.28           2.00            1.350000e-07   \n",
       "Th   232.038060            0.27           1.80            1.500000e-07   \n",
       "Yb   173.040000            0.21           1.75            2.500000e-07   \n",
       "\n",
       "    molar_volume  thermal_conductivity  bulk_modulus  youngs_modulus  group  \\\n",
       "Ag         10.27                 430.0         100.0            83.0     11   \n",
       "Al         10.00                 235.0          76.0            70.0     13   \n",
       "Au         10.21                 320.0         220.0            78.0     11   \n",
       "Cu          7.11                 400.0         140.0           130.0     11   \n",
       "Ir          8.52                 150.0         320.0           528.0      9   \n",
       "Ni          6.59                  91.0         180.0           200.0     10   \n",
       "Pb         18.26                  35.0          46.0            16.0     14   \n",
       "Pd          8.56                  72.0         180.0           121.0     10   \n",
       "Pt          9.09                  72.0         230.0           168.0     10   \n",
       "Rh          8.28                 150.0         380.0           275.0      9   \n",
       "Sr         33.94                  35.0           NaN             NaN      2   \n",
       "Th         19.80                  54.0          54.0            79.0      4   \n",
       "Yb         24.84                  39.0          31.0            24.0     16   \n",
       "\n",
       "    is_noble_gas  ...                                        ionic_radii  \\\n",
       "Ag         False  ...            {1: 1.29 ang, 2: 1.08 ang, 3: 0.89 ang}   \n",
       "Al         False  ...                                     {3: 0.675 ang}   \n",
       "Au         False  ...            {1: 1.51 ang, 3: 0.99 ang, 5: 0.71 ang}   \n",
       "Cu         False  ...            {1: 0.91 ang, 2: 0.87 ang, 3: 0.68 ang}   \n",
       "Ir         False  ...           {3: 0.82 ang, 4: 0.765 ang, 5: 0.71 ang}   \n",
       "Ni         False  ...                                      {3: 0.74 ang}   \n",
       "Pb         False  ...                        {2: 1.33 ang, 4: 0.915 ang}   \n",
       "Pd         False  ...  {1: 0.73 ang, 2: 1.0 ang, 3: 0.9 ang, 4: 0.755...   \n",
       "Pt         False  ...           {2: 0.94 ang, 4: 0.765 ang, 5: 0.71 ang}   \n",
       "Rh         False  ...           {3: 0.805 ang, 4: 0.74 ang, 5: 0.69 ang}   \n",
       "Sr         False  ...                                      {2: 1.32 ang}   \n",
       "Th         False  ...                                      {4: 1.08 ang}   \n",
       "Yb         False  ...                        {2: 1.16 ang, 3: 1.008 ang}   \n",
       "\n",
       "    boiling_point  vickers_hardness  average_ionic_radius  melting_point  \\\n",
       "Ag         2435.0             251.0              1.086667        1234.93   \n",
       "Al         2792.0             167.0              0.675000         933.47   \n",
       "Au         3129.0             216.0              1.070000        1337.33   \n",
       "Cu         3200.0             369.0              0.820000        1357.77   \n",
       "Ir         4701.0            1760.0              0.765000        2739.00   \n",
       "Ni         3186.0             638.0              0.740000        1728.00   \n",
       "Pb         2022.0               NaN              1.122500         600.61   \n",
       "Pd         3236.0             461.0              0.846250        1828.05   \n",
       "Pt         4098.0             549.0              0.805000        2041.40   \n",
       "Rh         3968.0            1246.0              0.745000        2237.00   \n",
       "Sr         1655.0               NaN              1.320000        1050.00   \n",
       "Th         5093.0             350.0              1.080000        2115.00   \n",
       "Yb         1469.0             206.0              1.084000        1097.00   \n",
       "\n",
       "    rigidity_modulus   Z  number  density_of_solid  \\\n",
       "Ag              30.0  47      47           10490.0   \n",
       "Al              26.0  13      13            2700.0   \n",
       "Au              27.0  79      79           19300.0   \n",
       "Cu              48.0  29      29            8920.0   \n",
       "Ir             210.0  77      77           22650.0   \n",
       "Ni              76.0  28      28            8908.0   \n",
       "Pb               5.6  82      82           11340.0   \n",
       "Pd              44.0  46      46           12023.0   \n",
       "Pt              61.0  78      78           21090.0   \n",
       "Rh             150.0  45      45           12450.0   \n",
       "Sr               6.1  38      38            2630.0   \n",
       "Th              31.0  90      90           11724.0   \n",
       "Yb               9.9  70      70            6570.0   \n",
       "\n",
       "    coefficient_of_linear_thermal_expansion  \n",
       "Ag                                 0.000019  \n",
       "Al                                 0.000023  \n",
       "Au                                 0.000014  \n",
       "Cu                                 0.000017  \n",
       "Ir                                 0.000006  \n",
       "Ni                                 0.000013  \n",
       "Pb                                 0.000029  \n",
       "Pd                                 0.000012  \n",
       "Pt                                 0.000009  \n",
       "Rh                                 0.000008  \n",
       "Sr                                 0.000023  \n",
       "Th                                 0.000011  \n",
       "Yb                                 0.000026  \n",
       "\n",
       "[13 rows x 35 columns]"
      ]
     },
     "metadata": {},
     "output_type": "display_data"
    }
   ],
   "source": [
    "df_poisson = df[df.poissons_ratio.ne(1.35)]\n",
    "display(df_poisson)"
   ]
  },
  {
   "cell_type": "code",
   "execution_count": 49,
   "metadata": {},
   "outputs": [
    {
     "data": {
      "text/html": [
       "<div>\n",
       "<style scoped>\n",
       "    .dataframe tbody tr th:only-of-type {\n",
       "        vertical-align: middle;\n",
       "    }\n",
       "\n",
       "    .dataframe tbody tr th {\n",
       "        vertical-align: top;\n",
       "    }\n",
       "\n",
       "    .dataframe thead th {\n",
       "        text-align: right;\n",
       "    }\n",
       "</style>\n",
       "<table border=\"1\" class=\"dataframe\">\n",
       "  <thead>\n",
       "    <tr style=\"text-align: right;\">\n",
       "      <th></th>\n",
       "      <th>atomic_mass</th>\n",
       "      <th>poissons_ratio</th>\n",
       "      <th>atomic_radius</th>\n",
       "      <th>electrical_resistivity</th>\n",
       "      <th>molar_volume</th>\n",
       "      <th>thermal_conductivity</th>\n",
       "      <th>bulk_modulus</th>\n",
       "      <th>youngs_modulus</th>\n",
       "      <th>group</th>\n",
       "      <th>is_noble_gas</th>\n",
       "      <th>...</th>\n",
       "      <th>ionic_radii</th>\n",
       "      <th>boiling_point</th>\n",
       "      <th>vickers_hardness</th>\n",
       "      <th>average_ionic_radius</th>\n",
       "      <th>melting_point</th>\n",
       "      <th>rigidity_modulus</th>\n",
       "      <th>Z</th>\n",
       "      <th>number</th>\n",
       "      <th>density_of_solid</th>\n",
       "      <th>coefficient_of_linear_thermal_expansion</th>\n",
       "    </tr>\n",
       "  </thead>\n",
       "  <tbody>\n",
       "    <tr>\n",
       "      <th>Ag</th>\n",
       "      <td>107.868200</td>\n",
       "      <td>0.37</td>\n",
       "      <td>1.60</td>\n",
       "      <td>1.630000e-08</td>\n",
       "      <td>10.27</td>\n",
       "      <td>430.0</td>\n",
       "      <td>100.0</td>\n",
       "      <td>83.0</td>\n",
       "      <td>11</td>\n",
       "      <td>False</td>\n",
       "      <td>...</td>\n",
       "      <td>{1: 1.29 ang, 2: 1.08 ang, 3: 0.89 ang}</td>\n",
       "      <td>2435.0</td>\n",
       "      <td>251.0</td>\n",
       "      <td>1.086667</td>\n",
       "      <td>1234.93</td>\n",
       "      <td>30.0</td>\n",
       "      <td>47</td>\n",
       "      <td>47</td>\n",
       "      <td>10490.0</td>\n",
       "      <td>0.000019</td>\n",
       "    </tr>\n",
       "    <tr>\n",
       "      <th>Al</th>\n",
       "      <td>26.981539</td>\n",
       "      <td>0.35</td>\n",
       "      <td>1.25</td>\n",
       "      <td>2.700000e-08</td>\n",
       "      <td>10.00</td>\n",
       "      <td>235.0</td>\n",
       "      <td>76.0</td>\n",
       "      <td>70.0</td>\n",
       "      <td>13</td>\n",
       "      <td>False</td>\n",
       "      <td>...</td>\n",
       "      <td>{3: 0.675 ang}</td>\n",
       "      <td>2792.0</td>\n",
       "      <td>167.0</td>\n",
       "      <td>0.675000</td>\n",
       "      <td>933.47</td>\n",
       "      <td>26.0</td>\n",
       "      <td>13</td>\n",
       "      <td>13</td>\n",
       "      <td>2700.0</td>\n",
       "      <td>0.000023</td>\n",
       "    </tr>\n",
       "    <tr>\n",
       "      <th>Au</th>\n",
       "      <td>196.966569</td>\n",
       "      <td>0.44</td>\n",
       "      <td>1.35</td>\n",
       "      <td>2.200000e-08</td>\n",
       "      <td>10.21</td>\n",
       "      <td>320.0</td>\n",
       "      <td>220.0</td>\n",
       "      <td>78.0</td>\n",
       "      <td>11</td>\n",
       "      <td>False</td>\n",
       "      <td>...</td>\n",
       "      <td>{1: 1.51 ang, 3: 0.99 ang, 5: 0.71 ang}</td>\n",
       "      <td>3129.0</td>\n",
       "      <td>216.0</td>\n",
       "      <td>1.070000</td>\n",
       "      <td>1337.33</td>\n",
       "      <td>27.0</td>\n",
       "      <td>79</td>\n",
       "      <td>79</td>\n",
       "      <td>19300.0</td>\n",
       "      <td>0.000014</td>\n",
       "    </tr>\n",
       "    <tr>\n",
       "      <th>Pb</th>\n",
       "      <td>207.200000</td>\n",
       "      <td>0.44</td>\n",
       "      <td>1.80</td>\n",
       "      <td>2.100000e-07</td>\n",
       "      <td>18.26</td>\n",
       "      <td>35.0</td>\n",
       "      <td>46.0</td>\n",
       "      <td>16.0</td>\n",
       "      <td>14</td>\n",
       "      <td>False</td>\n",
       "      <td>...</td>\n",
       "      <td>{2: 1.33 ang, 4: 0.915 ang}</td>\n",
       "      <td>2022.0</td>\n",
       "      <td>NaN</td>\n",
       "      <td>1.122500</td>\n",
       "      <td>600.61</td>\n",
       "      <td>5.6</td>\n",
       "      <td>82</td>\n",
       "      <td>82</td>\n",
       "      <td>11340.0</td>\n",
       "      <td>0.000029</td>\n",
       "    </tr>\n",
       "    <tr>\n",
       "      <th>Th</th>\n",
       "      <td>232.038060</td>\n",
       "      <td>0.27</td>\n",
       "      <td>1.80</td>\n",
       "      <td>1.500000e-07</td>\n",
       "      <td>19.80</td>\n",
       "      <td>54.0</td>\n",
       "      <td>54.0</td>\n",
       "      <td>79.0</td>\n",
       "      <td>4</td>\n",
       "      <td>False</td>\n",
       "      <td>...</td>\n",
       "      <td>{4: 1.08 ang}</td>\n",
       "      <td>5093.0</td>\n",
       "      <td>350.0</td>\n",
       "      <td>1.080000</td>\n",
       "      <td>2115.00</td>\n",
       "      <td>31.0</td>\n",
       "      <td>90</td>\n",
       "      <td>90</td>\n",
       "      <td>11724.0</td>\n",
       "      <td>0.000011</td>\n",
       "    </tr>\n",
       "  </tbody>\n",
       "</table>\n",
       "<p>5 rows × 35 columns</p>\n",
       "</div>"
      ],
      "text/plain": [
       "    atomic_mass  poissons_ratio  atomic_radius  electrical_resistivity  \\\n",
       "Ag   107.868200            0.37           1.60            1.630000e-08   \n",
       "Al    26.981539            0.35           1.25            2.700000e-08   \n",
       "Au   196.966569            0.44           1.35            2.200000e-08   \n",
       "Pb   207.200000            0.44           1.80            2.100000e-07   \n",
       "Th   232.038060            0.27           1.80            1.500000e-07   \n",
       "\n",
       "    molar_volume  thermal_conductivity  bulk_modulus  youngs_modulus  group  \\\n",
       "Ag         10.27                 430.0         100.0            83.0     11   \n",
       "Al         10.00                 235.0          76.0            70.0     13   \n",
       "Au         10.21                 320.0         220.0            78.0     11   \n",
       "Pb         18.26                  35.0          46.0            16.0     14   \n",
       "Th         19.80                  54.0          54.0            79.0      4   \n",
       "\n",
       "    is_noble_gas  ...                              ionic_radii  boiling_point  \\\n",
       "Ag         False  ...  {1: 1.29 ang, 2: 1.08 ang, 3: 0.89 ang}         2435.0   \n",
       "Al         False  ...                           {3: 0.675 ang}         2792.0   \n",
       "Au         False  ...  {1: 1.51 ang, 3: 0.99 ang, 5: 0.71 ang}         3129.0   \n",
       "Pb         False  ...              {2: 1.33 ang, 4: 0.915 ang}         2022.0   \n",
       "Th         False  ...                            {4: 1.08 ang}         5093.0   \n",
       "\n",
       "    vickers_hardness  average_ionic_radius  melting_point  rigidity_modulus  \\\n",
       "Ag             251.0              1.086667        1234.93              30.0   \n",
       "Al             167.0              0.675000         933.47              26.0   \n",
       "Au             216.0              1.070000        1337.33              27.0   \n",
       "Pb               NaN              1.122500         600.61               5.6   \n",
       "Th             350.0              1.080000        2115.00              31.0   \n",
       "\n",
       "     Z  number  density_of_solid  coefficient_of_linear_thermal_expansion  \n",
       "Ag  47      47           10490.0                                 0.000019  \n",
       "Al  13      13            2700.0                                 0.000023  \n",
       "Au  79      79           19300.0                                 0.000014  \n",
       "Pb  82      82           11340.0                                 0.000029  \n",
       "Th  90      90           11724.0                                 0.000011  \n",
       "\n",
       "[5 rows x 35 columns]"
      ]
     },
     "metadata": {},
     "output_type": "display_data"
    }
   ],
   "source": [
    "df_condition = df[(df['youngs_modulus'] < 120) & (df[\"poissons_ratio\"] > 0.25)]\n",
    "display(df_condition)"
   ]
  },
  {
   "cell_type": "markdown",
   "metadata": {},
   "source": [
    "### 3. Plotting\n",
    "\n",
    "Finally, we are going to plot the values for the properties in the lists we just created. For this tutorial we will make two scatter plots:\n",
    "\n",
    "-  Young's Modulus vs Melting Temperature\n",
    "-  Coefficient of Linear Thermal Expansion vs Melting Temperature\n",
    "\n",
    "We will be using a Python library called [Plotly](https://plot.ly/python/) to create these plots. This library allows you to create plots that are really interactive and highly customizable. <br>\n",
    "\n",
    "#### Simple Plot\n",
    "\n",
    "In this first cell we will import the library components we will use and create a simple plot."
   ]
  },
  {
   "cell_type": "code",
   "execution_count": 59,
   "metadata": {},
   "outputs": [
    {
     "data": {
      "text/html": [
       "        <script type=\"text/javascript\">\n",
       "        window.PlotlyConfig = {MathJaxConfig: 'local'};\n",
       "        if (window.MathJax) {MathJax.Hub.Config({SVG: {font: \"STIX-Web\"}});}\n",
       "        if (typeof require !== 'undefined') {\n",
       "        require.undef(\"plotly\");\n",
       "        requirejs.config({\n",
       "            paths: {\n",
       "                'plotly': ['https://cdn.plot.ly/plotly-latest.min']\n",
       "            }\n",
       "        });\n",
       "        require(['plotly'], function(Plotly) {\n",
       "            window._Plotly = Plotly;\n",
       "        });\n",
       "        }\n",
       "        </script>\n",
       "        "
      ]
     },
     "metadata": {},
     "output_type": "display_data"
    },
    {
     "data": {
      "application/vnd.plotly.v1+json": {
       "config": {
        "linkText": "Export to plot.ly",
        "plotlyServerURL": "https://plot.ly",
        "showLink": false
       },
       "data": [
        {
         "marker": {
          "color": "blue",
          "line": {
           "width": 1
          },
          "size": 12
         },
         "mode": "markers",
         "type": "scatter",
         "x": [
          14.01,
          0.95,
          453.69,
          1560,
          2349,
          3800,
          63.05,
          54.8,
          53.53,
          24.56,
          370.87,
          923,
          933.47,
          1687,
          317.3,
          388.36,
          171.6,
          83.8,
          336.53,
          1115,
          1814,
          1941,
          2183,
          2180,
          1519,
          1811,
          1768,
          1728,
          1357.77,
          692.68,
          302.91,
          1211.4,
          1090,
          494,
          265.8,
          115.79,
          312.46,
          1050,
          1799,
          2128,
          2750,
          2896,
          2430,
          2607,
          2237,
          1828.05,
          1234.93,
          594.22,
          429.75,
          505.08,
          903.78,
          722.66,
          386.85,
          161.4,
          301.59,
          1000,
          2506,
          3290,
          3695,
          3459,
          3306,
          2739,
          2041.4,
          1337.33,
          234.32,
          577,
          600.61,
          544.4,
          527,
          575,
          202,
          "maybe about 300 K",
          973,
          1900,
          1193,
          1068,
          1208,
          1297,
          1373,
          1345,
          1099,
          1585,
          1629,
          1680,
          1734,
          1802,
          1818,
          1097,
          1925,
          1323,
          2115,
          1841,
          1405.3,
          910,
          912.5,
          1449,
          1613,
          1259,
          1173,
          1133,
          1800,
          1100,
          1100
         ],
         "y": [
          null,
          null,
          4.9,
          287,
          null,
          null,
          null,
          null,
          null,
          null,
          10,
          45,
          70,
          47,
          null,
          null,
          null,
          null,
          null,
          20,
          74,
          116,
          128,
          279,
          198,
          211,
          209,
          200,
          130,
          108,
          null,
          null,
          8,
          10,
          null,
          null,
          2.4,
          null,
          64,
          68,
          105,
          329,
          null,
          447,
          275,
          121,
          83,
          50,
          11,
          50,
          55,
          43,
          null,
          null,
          1.7,
          13,
          78,
          186,
          411,
          463,
          null,
          528,
          168,
          78,
          null,
          8,
          16,
          32,
          null,
          null,
          null,
          null,
          null,
          null,
          37,
          34,
          37,
          41,
          46,
          50,
          18,
          55,
          56,
          61,
          65,
          70,
          74,
          24,
          69,
          null,
          79,
          null,
          208,
          null,
          96,
          null,
          null,
          null,
          null,
          null,
          null,
          null,
          null
         ]
        }
       ],
       "layout": {
        "template": {
         "data": {
          "bar": [
           {
            "error_x": {
             "color": "#2a3f5f"
            },
            "error_y": {
             "color": "#2a3f5f"
            },
            "marker": {
             "line": {
              "color": "#E5ECF6",
              "width": 0.5
             }
            },
            "type": "bar"
           }
          ],
          "barpolar": [
           {
            "marker": {
             "line": {
              "color": "#E5ECF6",
              "width": 0.5
             }
            },
            "type": "barpolar"
           }
          ],
          "carpet": [
           {
            "aaxis": {
             "endlinecolor": "#2a3f5f",
             "gridcolor": "white",
             "linecolor": "white",
             "minorgridcolor": "white",
             "startlinecolor": "#2a3f5f"
            },
            "baxis": {
             "endlinecolor": "#2a3f5f",
             "gridcolor": "white",
             "linecolor": "white",
             "minorgridcolor": "white",
             "startlinecolor": "#2a3f5f"
            },
            "type": "carpet"
           }
          ],
          "choropleth": [
           {
            "colorbar": {
             "outlinewidth": 0,
             "ticks": ""
            },
            "type": "choropleth"
           }
          ],
          "contour": [
           {
            "colorbar": {
             "outlinewidth": 0,
             "ticks": ""
            },
            "colorscale": [
             [
              0,
              "#0d0887"
             ],
             [
              0.1111111111111111,
              "#46039f"
             ],
             [
              0.2222222222222222,
              "#7201a8"
             ],
             [
              0.3333333333333333,
              "#9c179e"
             ],
             [
              0.4444444444444444,
              "#bd3786"
             ],
             [
              0.5555555555555556,
              "#d8576b"
             ],
             [
              0.6666666666666666,
              "#ed7953"
             ],
             [
              0.7777777777777778,
              "#fb9f3a"
             ],
             [
              0.8888888888888888,
              "#fdca26"
             ],
             [
              1,
              "#f0f921"
             ]
            ],
            "type": "contour"
           }
          ],
          "contourcarpet": [
           {
            "colorbar": {
             "outlinewidth": 0,
             "ticks": ""
            },
            "type": "contourcarpet"
           }
          ],
          "heatmap": [
           {
            "colorbar": {
             "outlinewidth": 0,
             "ticks": ""
            },
            "colorscale": [
             [
              0,
              "#0d0887"
             ],
             [
              0.1111111111111111,
              "#46039f"
             ],
             [
              0.2222222222222222,
              "#7201a8"
             ],
             [
              0.3333333333333333,
              "#9c179e"
             ],
             [
              0.4444444444444444,
              "#bd3786"
             ],
             [
              0.5555555555555556,
              "#d8576b"
             ],
             [
              0.6666666666666666,
              "#ed7953"
             ],
             [
              0.7777777777777778,
              "#fb9f3a"
             ],
             [
              0.8888888888888888,
              "#fdca26"
             ],
             [
              1,
              "#f0f921"
             ]
            ],
            "type": "heatmap"
           }
          ],
          "heatmapgl": [
           {
            "colorbar": {
             "outlinewidth": 0,
             "ticks": ""
            },
            "colorscale": [
             [
              0,
              "#0d0887"
             ],
             [
              0.1111111111111111,
              "#46039f"
             ],
             [
              0.2222222222222222,
              "#7201a8"
             ],
             [
              0.3333333333333333,
              "#9c179e"
             ],
             [
              0.4444444444444444,
              "#bd3786"
             ],
             [
              0.5555555555555556,
              "#d8576b"
             ],
             [
              0.6666666666666666,
              "#ed7953"
             ],
             [
              0.7777777777777778,
              "#fb9f3a"
             ],
             [
              0.8888888888888888,
              "#fdca26"
             ],
             [
              1,
              "#f0f921"
             ]
            ],
            "type": "heatmapgl"
           }
          ],
          "histogram": [
           {
            "marker": {
             "colorbar": {
              "outlinewidth": 0,
              "ticks": ""
             }
            },
            "type": "histogram"
           }
          ],
          "histogram2d": [
           {
            "colorbar": {
             "outlinewidth": 0,
             "ticks": ""
            },
            "colorscale": [
             [
              0,
              "#0d0887"
             ],
             [
              0.1111111111111111,
              "#46039f"
             ],
             [
              0.2222222222222222,
              "#7201a8"
             ],
             [
              0.3333333333333333,
              "#9c179e"
             ],
             [
              0.4444444444444444,
              "#bd3786"
             ],
             [
              0.5555555555555556,
              "#d8576b"
             ],
             [
              0.6666666666666666,
              "#ed7953"
             ],
             [
              0.7777777777777778,
              "#fb9f3a"
             ],
             [
              0.8888888888888888,
              "#fdca26"
             ],
             [
              1,
              "#f0f921"
             ]
            ],
            "type": "histogram2d"
           }
          ],
          "histogram2dcontour": [
           {
            "colorbar": {
             "outlinewidth": 0,
             "ticks": ""
            },
            "colorscale": [
             [
              0,
              "#0d0887"
             ],
             [
              0.1111111111111111,
              "#46039f"
             ],
             [
              0.2222222222222222,
              "#7201a8"
             ],
             [
              0.3333333333333333,
              "#9c179e"
             ],
             [
              0.4444444444444444,
              "#bd3786"
             ],
             [
              0.5555555555555556,
              "#d8576b"
             ],
             [
              0.6666666666666666,
              "#ed7953"
             ],
             [
              0.7777777777777778,
              "#fb9f3a"
             ],
             [
              0.8888888888888888,
              "#fdca26"
             ],
             [
              1,
              "#f0f921"
             ]
            ],
            "type": "histogram2dcontour"
           }
          ],
          "mesh3d": [
           {
            "colorbar": {
             "outlinewidth": 0,
             "ticks": ""
            },
            "type": "mesh3d"
           }
          ],
          "parcoords": [
           {
            "line": {
             "colorbar": {
              "outlinewidth": 0,
              "ticks": ""
             }
            },
            "type": "parcoords"
           }
          ],
          "pie": [
           {
            "automargin": true,
            "type": "pie"
           }
          ],
          "scatter": [
           {
            "marker": {
             "colorbar": {
              "outlinewidth": 0,
              "ticks": ""
             }
            },
            "type": "scatter"
           }
          ],
          "scatter3d": [
           {
            "line": {
             "colorbar": {
              "outlinewidth": 0,
              "ticks": ""
             }
            },
            "marker": {
             "colorbar": {
              "outlinewidth": 0,
              "ticks": ""
             }
            },
            "type": "scatter3d"
           }
          ],
          "scattercarpet": [
           {
            "marker": {
             "colorbar": {
              "outlinewidth": 0,
              "ticks": ""
             }
            },
            "type": "scattercarpet"
           }
          ],
          "scattergeo": [
           {
            "marker": {
             "colorbar": {
              "outlinewidth": 0,
              "ticks": ""
             }
            },
            "type": "scattergeo"
           }
          ],
          "scattergl": [
           {
            "marker": {
             "colorbar": {
              "outlinewidth": 0,
              "ticks": ""
             }
            },
            "type": "scattergl"
           }
          ],
          "scattermapbox": [
           {
            "marker": {
             "colorbar": {
              "outlinewidth": 0,
              "ticks": ""
             }
            },
            "type": "scattermapbox"
           }
          ],
          "scatterpolar": [
           {
            "marker": {
             "colorbar": {
              "outlinewidth": 0,
              "ticks": ""
             }
            },
            "type": "scatterpolar"
           }
          ],
          "scatterpolargl": [
           {
            "marker": {
             "colorbar": {
              "outlinewidth": 0,
              "ticks": ""
             }
            },
            "type": "scatterpolargl"
           }
          ],
          "scatterternary": [
           {
            "marker": {
             "colorbar": {
              "outlinewidth": 0,
              "ticks": ""
             }
            },
            "type": "scatterternary"
           }
          ],
          "surface": [
           {
            "colorbar": {
             "outlinewidth": 0,
             "ticks": ""
            },
            "colorscale": [
             [
              0,
              "#0d0887"
             ],
             [
              0.1111111111111111,
              "#46039f"
             ],
             [
              0.2222222222222222,
              "#7201a8"
             ],
             [
              0.3333333333333333,
              "#9c179e"
             ],
             [
              0.4444444444444444,
              "#bd3786"
             ],
             [
              0.5555555555555556,
              "#d8576b"
             ],
             [
              0.6666666666666666,
              "#ed7953"
             ],
             [
              0.7777777777777778,
              "#fb9f3a"
             ],
             [
              0.8888888888888888,
              "#fdca26"
             ],
             [
              1,
              "#f0f921"
             ]
            ],
            "type": "surface"
           }
          ],
          "table": [
           {
            "cells": {
             "fill": {
              "color": "#EBF0F8"
             },
             "line": {
              "color": "white"
             }
            },
            "header": {
             "fill": {
              "color": "#C8D4E3"
             },
             "line": {
              "color": "white"
             }
            },
            "type": "table"
           }
          ]
         },
         "layout": {
          "annotationdefaults": {
           "arrowcolor": "#2a3f5f",
           "arrowhead": 0,
           "arrowwidth": 1
          },
          "coloraxis": {
           "colorbar": {
            "outlinewidth": 0,
            "ticks": ""
           }
          },
          "colorscale": {
           "diverging": [
            [
             0,
             "#8e0152"
            ],
            [
             0.1,
             "#c51b7d"
            ],
            [
             0.2,
             "#de77ae"
            ],
            [
             0.3,
             "#f1b6da"
            ],
            [
             0.4,
             "#fde0ef"
            ],
            [
             0.5,
             "#f7f7f7"
            ],
            [
             0.6,
             "#e6f5d0"
            ],
            [
             0.7,
             "#b8e186"
            ],
            [
             0.8,
             "#7fbc41"
            ],
            [
             0.9,
             "#4d9221"
            ],
            [
             1,
             "#276419"
            ]
           ],
           "sequential": [
            [
             0,
             "#0d0887"
            ],
            [
             0.1111111111111111,
             "#46039f"
            ],
            [
             0.2222222222222222,
             "#7201a8"
            ],
            [
             0.3333333333333333,
             "#9c179e"
            ],
            [
             0.4444444444444444,
             "#bd3786"
            ],
            [
             0.5555555555555556,
             "#d8576b"
            ],
            [
             0.6666666666666666,
             "#ed7953"
            ],
            [
             0.7777777777777778,
             "#fb9f3a"
            ],
            [
             0.8888888888888888,
             "#fdca26"
            ],
            [
             1,
             "#f0f921"
            ]
           ],
           "sequentialminus": [
            [
             0,
             "#0d0887"
            ],
            [
             0.1111111111111111,
             "#46039f"
            ],
            [
             0.2222222222222222,
             "#7201a8"
            ],
            [
             0.3333333333333333,
             "#9c179e"
            ],
            [
             0.4444444444444444,
             "#bd3786"
            ],
            [
             0.5555555555555556,
             "#d8576b"
            ],
            [
             0.6666666666666666,
             "#ed7953"
            ],
            [
             0.7777777777777778,
             "#fb9f3a"
            ],
            [
             0.8888888888888888,
             "#fdca26"
            ],
            [
             1,
             "#f0f921"
            ]
           ]
          },
          "colorway": [
           "#636efa",
           "#EF553B",
           "#00cc96",
           "#ab63fa",
           "#FFA15A",
           "#19d3f3",
           "#FF6692",
           "#B6E880",
           "#FF97FF",
           "#FECB52"
          ],
          "font": {
           "color": "#2a3f5f"
          },
          "geo": {
           "bgcolor": "white",
           "lakecolor": "white",
           "landcolor": "#E5ECF6",
           "showlakes": true,
           "showland": true,
           "subunitcolor": "white"
          },
          "hoverlabel": {
           "align": "left"
          },
          "hovermode": "closest",
          "mapbox": {
           "style": "light"
          },
          "paper_bgcolor": "white",
          "plot_bgcolor": "#E5ECF6",
          "polar": {
           "angularaxis": {
            "gridcolor": "white",
            "linecolor": "white",
            "ticks": ""
           },
           "bgcolor": "#E5ECF6",
           "radialaxis": {
            "gridcolor": "white",
            "linecolor": "white",
            "ticks": ""
           }
          },
          "scene": {
           "xaxis": {
            "backgroundcolor": "#E5ECF6",
            "gridcolor": "white",
            "gridwidth": 2,
            "linecolor": "white",
            "showbackground": true,
            "ticks": "",
            "zerolinecolor": "white"
           },
           "yaxis": {
            "backgroundcolor": "#E5ECF6",
            "gridcolor": "white",
            "gridwidth": 2,
            "linecolor": "white",
            "showbackground": true,
            "ticks": "",
            "zerolinecolor": "white"
           },
           "zaxis": {
            "backgroundcolor": "#E5ECF6",
            "gridcolor": "white",
            "gridwidth": 2,
            "linecolor": "white",
            "showbackground": true,
            "ticks": "",
            "zerolinecolor": "white"
           }
          },
          "shapedefaults": {
           "line": {
            "color": "#2a3f5f"
           }
          },
          "ternary": {
           "aaxis": {
            "gridcolor": "white",
            "linecolor": "white",
            "ticks": ""
           },
           "baxis": {
            "gridcolor": "white",
            "linecolor": "white",
            "ticks": ""
           },
           "bgcolor": "#E5ECF6",
           "caxis": {
            "gridcolor": "white",
            "linecolor": "white",
            "ticks": ""
           }
          },
          "title": {
           "x": 0.05
          },
          "xaxis": {
           "automargin": true,
           "gridcolor": "white",
           "linecolor": "white",
           "ticks": "",
           "title": {
            "standoff": 15
           },
           "zerolinecolor": "white",
           "zerolinewidth": 2
          },
          "yaxis": {
           "automargin": true,
           "gridcolor": "white",
           "linecolor": "white",
           "ticks": "",
           "title": {
            "standoff": 15
           },
           "zerolinecolor": "white",
           "zerolinewidth": 2
          }
         }
        },
        "title": {
         "text": "Young's Moduli's on Melting Temperature"
        },
        "xaxis": {
         "gridcolor": "LightPink",
         "gridwidth": 1,
         "showgrid": true,
         "title": {
          "text": "Melting Temperature [K]"
         }
        },
        "yaxis": {
         "gridcolor": "LightPink",
         "gridwidth": 1,
         "showgrid": true,
         "title": {
          "text": "Youngs Modulus [GPa]"
         }
        }
       }
      },
      "text/html": [
       "<div>\n",
       "        \n",
       "        \n",
       "            <div id=\"ad289ae4-9b56-447f-90bb-c3ee3788d325\" class=\"plotly-graph-div\" style=\"height:525px; width:100%;\"></div>\n",
       "            <script type=\"text/javascript\">\n",
       "                require([\"plotly\"], function(Plotly) {\n",
       "                    window.PLOTLYENV=window.PLOTLYENV || {};\n",
       "                    \n",
       "                if (document.getElementById(\"ad289ae4-9b56-447f-90bb-c3ee3788d325\")) {\n",
       "                    Plotly.newPlot(\n",
       "                        'ad289ae4-9b56-447f-90bb-c3ee3788d325',\n",
       "                        [{\"marker\": {\"color\": \"blue\", \"line\": {\"width\": 1}, \"size\": 12}, \"mode\": \"markers\", \"type\": \"scatter\", \"x\": [14.01, 0.95, 453.69, 1560.0, 2349.0, 3800.0, 63.05, 54.8, 53.53, 24.56, 370.87, 923.0, 933.47, 1687.0, 317.3, 388.36, 171.6, 83.8, 336.53, 1115.0, 1814.0, 1941.0, 2183.0, 2180.0, 1519.0, 1811.0, 1768.0, 1728.0, 1357.77, 692.68, 302.91, 1211.4, 1090.0, 494.0, 265.8, 115.79, 312.46, 1050.0, 1799.0, 2128.0, 2750.0, 2896.0, 2430.0, 2607.0, 2237.0, 1828.05, 1234.93, 594.22, 429.75, 505.08, 903.78, 722.66, 386.85, 161.4, 301.59, 1000.0, 2506.0, 3290.0, 3695.0, 3459.0, 3306.0, 2739.0, 2041.4, 1337.33, 234.32, 577.0, 600.61, 544.4, 527.0, 575.0, 202.0, \"maybe about 300 K\", 973.0, 1900.0, 1193.0, 1068.0, 1208.0, 1297.0, 1373.0, 1345.0, 1099.0, 1585.0, 1629.0, 1680.0, 1734.0, 1802.0, 1818.0, 1097.0, 1925.0, 1323.0, 2115.0, 1841.0, 1405.3, 910.0, 912.5, 1449.0, 1613.0, 1259.0, 1173.0, 1133.0, 1800.0, 1100.0, 1100.0], \"y\": [null, null, 4.9, 287.0, null, null, null, null, null, null, 10.0, 45.0, 70.0, 47.0, null, null, null, null, null, 20.0, 74.0, 116.0, 128.0, 279.0, 198.0, 211.0, 209.0, 200.0, 130.0, 108.0, null, null, 8.0, 10.0, null, null, 2.4, null, 64.0, 68.0, 105.0, 329.0, null, 447.0, 275.0, 121.0, 83.0, 50.0, 11.0, 50.0, 55.0, 43.0, null, null, 1.7, 13.0, 78.0, 186.0, 411.0, 463.0, null, 528.0, 168.0, 78.0, null, 8.0, 16.0, 32.0, null, null, null, null, null, null, 37.0, 34.0, 37.0, 41.0, 46.0, 50.0, 18.0, 55.0, 56.0, 61.0, 65.0, 70.0, 74.0, 24.0, 69.0, null, 79.0, null, 208.0, null, 96.0, null, null, null, null, null, null, null, null]}],\n",
       "                        {\"template\": {\"data\": {\"bar\": [{\"error_x\": {\"color\": \"#2a3f5f\"}, \"error_y\": {\"color\": \"#2a3f5f\"}, \"marker\": {\"line\": {\"color\": \"#E5ECF6\", \"width\": 0.5}}, \"type\": \"bar\"}], \"barpolar\": [{\"marker\": {\"line\": {\"color\": \"#E5ECF6\", \"width\": 0.5}}, \"type\": \"barpolar\"}], \"carpet\": [{\"aaxis\": {\"endlinecolor\": \"#2a3f5f\", \"gridcolor\": \"white\", \"linecolor\": \"white\", \"minorgridcolor\": \"white\", \"startlinecolor\": \"#2a3f5f\"}, \"baxis\": {\"endlinecolor\": \"#2a3f5f\", \"gridcolor\": \"white\", \"linecolor\": \"white\", \"minorgridcolor\": \"white\", \"startlinecolor\": \"#2a3f5f\"}, \"type\": \"carpet\"}], \"choropleth\": [{\"colorbar\": {\"outlinewidth\": 0, \"ticks\": \"\"}, \"type\": \"choropleth\"}], \"contour\": [{\"colorbar\": {\"outlinewidth\": 0, \"ticks\": \"\"}, \"colorscale\": [[0.0, \"#0d0887\"], [0.1111111111111111, \"#46039f\"], [0.2222222222222222, \"#7201a8\"], [0.3333333333333333, \"#9c179e\"], [0.4444444444444444, \"#bd3786\"], [0.5555555555555556, \"#d8576b\"], [0.6666666666666666, \"#ed7953\"], [0.7777777777777778, \"#fb9f3a\"], [0.8888888888888888, \"#fdca26\"], [1.0, \"#f0f921\"]], \"type\": \"contour\"}], \"contourcarpet\": [{\"colorbar\": {\"outlinewidth\": 0, \"ticks\": \"\"}, \"type\": \"contourcarpet\"}], \"heatmap\": [{\"colorbar\": {\"outlinewidth\": 0, \"ticks\": \"\"}, \"colorscale\": [[0.0, \"#0d0887\"], [0.1111111111111111, \"#46039f\"], [0.2222222222222222, \"#7201a8\"], [0.3333333333333333, \"#9c179e\"], [0.4444444444444444, \"#bd3786\"], [0.5555555555555556, \"#d8576b\"], [0.6666666666666666, \"#ed7953\"], [0.7777777777777778, \"#fb9f3a\"], [0.8888888888888888, \"#fdca26\"], [1.0, \"#f0f921\"]], \"type\": \"heatmap\"}], \"heatmapgl\": [{\"colorbar\": {\"outlinewidth\": 0, \"ticks\": \"\"}, \"colorscale\": [[0.0, \"#0d0887\"], [0.1111111111111111, \"#46039f\"], [0.2222222222222222, \"#7201a8\"], [0.3333333333333333, \"#9c179e\"], [0.4444444444444444, \"#bd3786\"], [0.5555555555555556, \"#d8576b\"], [0.6666666666666666, \"#ed7953\"], [0.7777777777777778, \"#fb9f3a\"], [0.8888888888888888, \"#fdca26\"], [1.0, \"#f0f921\"]], \"type\": \"heatmapgl\"}], \"histogram\": [{\"marker\": {\"colorbar\": {\"outlinewidth\": 0, \"ticks\": \"\"}}, \"type\": \"histogram\"}], \"histogram2d\": [{\"colorbar\": {\"outlinewidth\": 0, \"ticks\": \"\"}, \"colorscale\": [[0.0, \"#0d0887\"], [0.1111111111111111, \"#46039f\"], [0.2222222222222222, \"#7201a8\"], [0.3333333333333333, \"#9c179e\"], [0.4444444444444444, \"#bd3786\"], [0.5555555555555556, \"#d8576b\"], [0.6666666666666666, \"#ed7953\"], [0.7777777777777778, \"#fb9f3a\"], [0.8888888888888888, \"#fdca26\"], [1.0, \"#f0f921\"]], \"type\": \"histogram2d\"}], \"histogram2dcontour\": [{\"colorbar\": {\"outlinewidth\": 0, \"ticks\": \"\"}, \"colorscale\": [[0.0, \"#0d0887\"], [0.1111111111111111, \"#46039f\"], [0.2222222222222222, \"#7201a8\"], [0.3333333333333333, \"#9c179e\"], [0.4444444444444444, \"#bd3786\"], [0.5555555555555556, \"#d8576b\"], [0.6666666666666666, \"#ed7953\"], [0.7777777777777778, \"#fb9f3a\"], [0.8888888888888888, \"#fdca26\"], [1.0, \"#f0f921\"]], \"type\": \"histogram2dcontour\"}], \"mesh3d\": [{\"colorbar\": {\"outlinewidth\": 0, \"ticks\": \"\"}, \"type\": \"mesh3d\"}], \"parcoords\": [{\"line\": {\"colorbar\": {\"outlinewidth\": 0, \"ticks\": \"\"}}, \"type\": \"parcoords\"}], \"pie\": [{\"automargin\": true, \"type\": \"pie\"}], \"scatter\": [{\"marker\": {\"colorbar\": {\"outlinewidth\": 0, \"ticks\": \"\"}}, \"type\": \"scatter\"}], \"scatter3d\": [{\"line\": {\"colorbar\": {\"outlinewidth\": 0, \"ticks\": \"\"}}, \"marker\": {\"colorbar\": {\"outlinewidth\": 0, \"ticks\": \"\"}}, \"type\": \"scatter3d\"}], \"scattercarpet\": [{\"marker\": {\"colorbar\": {\"outlinewidth\": 0, \"ticks\": \"\"}}, \"type\": \"scattercarpet\"}], \"scattergeo\": [{\"marker\": {\"colorbar\": {\"outlinewidth\": 0, \"ticks\": \"\"}}, \"type\": \"scattergeo\"}], \"scattergl\": [{\"marker\": {\"colorbar\": {\"outlinewidth\": 0, \"ticks\": \"\"}}, \"type\": \"scattergl\"}], \"scattermapbox\": [{\"marker\": {\"colorbar\": {\"outlinewidth\": 0, \"ticks\": \"\"}}, \"type\": \"scattermapbox\"}], \"scatterpolar\": [{\"marker\": {\"colorbar\": {\"outlinewidth\": 0, \"ticks\": \"\"}}, \"type\": \"scatterpolar\"}], \"scatterpolargl\": [{\"marker\": {\"colorbar\": {\"outlinewidth\": 0, \"ticks\": \"\"}}, \"type\": \"scatterpolargl\"}], \"scatterternary\": [{\"marker\": {\"colorbar\": {\"outlinewidth\": 0, \"ticks\": \"\"}}, \"type\": \"scatterternary\"}], \"surface\": [{\"colorbar\": {\"outlinewidth\": 0, \"ticks\": \"\"}, \"colorscale\": [[0.0, \"#0d0887\"], [0.1111111111111111, \"#46039f\"], [0.2222222222222222, \"#7201a8\"], [0.3333333333333333, \"#9c179e\"], [0.4444444444444444, \"#bd3786\"], [0.5555555555555556, \"#d8576b\"], [0.6666666666666666, \"#ed7953\"], [0.7777777777777778, \"#fb9f3a\"], [0.8888888888888888, \"#fdca26\"], [1.0, \"#f0f921\"]], \"type\": \"surface\"}], \"table\": [{\"cells\": {\"fill\": {\"color\": \"#EBF0F8\"}, \"line\": {\"color\": \"white\"}}, \"header\": {\"fill\": {\"color\": \"#C8D4E3\"}, \"line\": {\"color\": \"white\"}}, \"type\": \"table\"}]}, \"layout\": {\"annotationdefaults\": {\"arrowcolor\": \"#2a3f5f\", \"arrowhead\": 0, \"arrowwidth\": 1}, \"coloraxis\": {\"colorbar\": {\"outlinewidth\": 0, \"ticks\": \"\"}}, \"colorscale\": {\"diverging\": [[0, \"#8e0152\"], [0.1, \"#c51b7d\"], [0.2, \"#de77ae\"], [0.3, \"#f1b6da\"], [0.4, \"#fde0ef\"], [0.5, \"#f7f7f7\"], [0.6, \"#e6f5d0\"], [0.7, \"#b8e186\"], [0.8, \"#7fbc41\"], [0.9, \"#4d9221\"], [1, \"#276419\"]], \"sequential\": [[0.0, \"#0d0887\"], [0.1111111111111111, \"#46039f\"], [0.2222222222222222, \"#7201a8\"], [0.3333333333333333, \"#9c179e\"], [0.4444444444444444, \"#bd3786\"], [0.5555555555555556, \"#d8576b\"], [0.6666666666666666, \"#ed7953\"], [0.7777777777777778, \"#fb9f3a\"], [0.8888888888888888, \"#fdca26\"], [1.0, \"#f0f921\"]], \"sequentialminus\": [[0.0, \"#0d0887\"], [0.1111111111111111, \"#46039f\"], [0.2222222222222222, \"#7201a8\"], [0.3333333333333333, \"#9c179e\"], [0.4444444444444444, \"#bd3786\"], [0.5555555555555556, \"#d8576b\"], [0.6666666666666666, \"#ed7953\"], [0.7777777777777778, \"#fb9f3a\"], [0.8888888888888888, \"#fdca26\"], [1.0, \"#f0f921\"]]}, \"colorway\": [\"#636efa\", \"#EF553B\", \"#00cc96\", \"#ab63fa\", \"#FFA15A\", \"#19d3f3\", \"#FF6692\", \"#B6E880\", \"#FF97FF\", \"#FECB52\"], \"font\": {\"color\": \"#2a3f5f\"}, \"geo\": {\"bgcolor\": \"white\", \"lakecolor\": \"white\", \"landcolor\": \"#E5ECF6\", \"showlakes\": true, \"showland\": true, \"subunitcolor\": \"white\"}, \"hoverlabel\": {\"align\": \"left\"}, \"hovermode\": \"closest\", \"mapbox\": {\"style\": \"light\"}, \"paper_bgcolor\": \"white\", \"plot_bgcolor\": \"#E5ECF6\", \"polar\": {\"angularaxis\": {\"gridcolor\": \"white\", \"linecolor\": \"white\", \"ticks\": \"\"}, \"bgcolor\": \"#E5ECF6\", \"radialaxis\": {\"gridcolor\": \"white\", \"linecolor\": \"white\", \"ticks\": \"\"}}, \"scene\": {\"xaxis\": {\"backgroundcolor\": \"#E5ECF6\", \"gridcolor\": \"white\", \"gridwidth\": 2, \"linecolor\": \"white\", \"showbackground\": true, \"ticks\": \"\", \"zerolinecolor\": \"white\"}, \"yaxis\": {\"backgroundcolor\": \"#E5ECF6\", \"gridcolor\": \"white\", \"gridwidth\": 2, \"linecolor\": \"white\", \"showbackground\": true, \"ticks\": \"\", \"zerolinecolor\": \"white\"}, \"zaxis\": {\"backgroundcolor\": \"#E5ECF6\", \"gridcolor\": \"white\", \"gridwidth\": 2, \"linecolor\": \"white\", \"showbackground\": true, \"ticks\": \"\", \"zerolinecolor\": \"white\"}}, \"shapedefaults\": {\"line\": {\"color\": \"#2a3f5f\"}}, \"ternary\": {\"aaxis\": {\"gridcolor\": \"white\", \"linecolor\": \"white\", \"ticks\": \"\"}, \"baxis\": {\"gridcolor\": \"white\", \"linecolor\": \"white\", \"ticks\": \"\"}, \"bgcolor\": \"#E5ECF6\", \"caxis\": {\"gridcolor\": \"white\", \"linecolor\": \"white\", \"ticks\": \"\"}}, \"title\": {\"x\": 0.05}, \"xaxis\": {\"automargin\": true, \"gridcolor\": \"white\", \"linecolor\": \"white\", \"ticks\": \"\", \"title\": {\"standoff\": 15}, \"zerolinecolor\": \"white\", \"zerolinewidth\": 2}, \"yaxis\": {\"automargin\": true, \"gridcolor\": \"white\", \"linecolor\": \"white\", \"ticks\": \"\", \"title\": {\"standoff\": 15}, \"zerolinecolor\": \"white\", \"zerolinewidth\": 2}}}, \"title\": {\"text\": \"Young's Moduli's on Melting Temperature\"}, \"xaxis\": {\"gridcolor\": \"LightPink\", \"gridwidth\": 1, \"showgrid\": true, \"title\": {\"text\": \"Melting Temperature [K]\"}}, \"yaxis\": {\"gridcolor\": \"LightPink\", \"gridwidth\": 1, \"showgrid\": true, \"title\": {\"text\": \"Youngs Modulus [GPa]\"}}},\n",
       "                        {\"responsive\": true}\n",
       "                    ).then(function(){\n",
       "                            \n",
       "var gd = document.getElementById('ad289ae4-9b56-447f-90bb-c3ee3788d325');\n",
       "var x = new MutationObserver(function (mutations, observer) {{\n",
       "        var display = window.getComputedStyle(gd).display;\n",
       "        if (!display || display === 'none') {{\n",
       "            console.log([gd, 'removed!']);\n",
       "            Plotly.purge(gd);\n",
       "            observer.disconnect();\n",
       "        }}\n",
       "}});\n",
       "\n",
       "// Listen for the removal of the full notebook cells\n",
       "var notebookContainer = gd.closest('#notebook-container');\n",
       "if (notebookContainer) {{\n",
       "    x.observe(notebookContainer, {childList: true});\n",
       "}}\n",
       "\n",
       "// Listen for the clearing of the current output cell\n",
       "var outputEl = gd.closest('.output');\n",
       "if (outputEl) {{\n",
       "    x.observe(outputEl, {childList: true});\n",
       "}}\n",
       "\n",
       "                        })\n",
       "                };\n",
       "                });\n",
       "            </script>\n",
       "        </div>"
      ]
     },
     "metadata": {},
     "output_type": "display_data"
    }
   ],
   "source": [
    "import plotly #This is the library import\n",
    "import plotly.graph_objs as go # This is the graphical object (Think \"plt\" in Matplotlib if you have used that before)\n",
    "\n",
    "from plotly.offline import iplot # These lines are necessary to run Plotly in Jupyter Notebooks, but not in a dedicated environment\n",
    "plotly.offline.init_notebook_mode(connected=True)\n",
    "\n",
    "# To create a plot, you need a layout and a trace\n",
    "\n",
    "# The layout gives Plotly the instructions on the background grids, tiles in the plot, \n",
    "# axes names, axes ticks, legends, labels, colors on the figure and general formatting.\n",
    "\n",
    "layout = go.Layout(title = \"Young's Moduli's on Melting Temperature\",xaxis= dict(title= 'Melting Temperature [K]'), \n",
    "                   yaxis= dict(title= 'Youngs Modulus [GPa]'))\n",
    "\n",
    "# The trace contains a type of plot (In this case, Scatter, but it can be \"Bars, Lines, Pie Charts\", etc.), \n",
    "# the data we want to visualize and the way (\"Mode\") we want to represent it.\n",
    "\n",
    "trace = go.Scatter(x = melting_temperature, y = youngs_modulus, mode = 'markers', marker=dict(size=12,  line= dict(width=1),color='blue'))\n",
    "\n",
    "# To plot, we create a figure and implement our components in the following way:\n",
    "\n",
    "data = [trace] # We could include more than just one trace here\n",
    "\n",
    "fig= go.Figure(data, layout=layout)\n",
    "fig.update_xaxes(showgrid=True, gridwidth=1, gridcolor='LightPink')\n",
    "fig.update_yaxes(showgrid=True, gridwidth=1, gridcolor='LightPink')\n",
    "iplot(fig)"
   ]
  },
  {
   "cell_type": "markdown",
   "metadata": {},
   "source": [
    "#### CUSTOM PLOTS\n",
    "\n",
    "Now that we know how to make a basic plot, we can start adding more details to end up with something that looks a little bit better. All modifications are explained in the comments, but you can also find that information [here](https://plot.ly/python/axes/).\n",
    "\n",
    "Before we start our new plot, wouldn't it look better if we could visualize the points with the elements' names and color them according to their crystal structures?"
   ]
  },
  {
   "cell_type": "code",
   "execution_count": 61,
   "metadata": {},
   "outputs": [
    {
     "name": "stdout",
     "output_type": "stream",
     "text": [
      "['green', 'green', 'red', 'orange', 'green', 'green', 'green', 'green', 'green', 'green', 'red', 'orange', 'blue', 'green', 'red', 'green', 'green', 'green', 'red', 'orange', 'orange', 'orange', 'red', 'red', 'red', 'red', 'orange', 'blue', 'blue', 'orange', 'green', 'green', 'green', 'green', 'green', 'green', 'red', 'blue', 'orange', 'orange', 'red', 'red', 'orange', 'orange', 'blue', 'blue', 'blue', 'orange', 'green', 'green', 'green', 'green', 'green', 'green', 'red', 'red', 'orange', 'red', 'red', 'orange', 'orange', 'blue', 'blue', 'blue', 'green', 'orange', 'blue', 'green', 'green', 'green', 'green', 'green', 'green', 'green', 'green', 'green', 'green', 'green', 'green', 'green', 'red', 'orange', 'orange', 'orange', 'orange', 'orange', 'orange', 'blue', 'orange', 'green', 'blue', 'green', 'green', 'green', 'green', 'green', 'green', 'green', 'green', 'green', 'green', 'green', 'green']\n"
     ]
    }
   ],
   "source": [
    "# Here we are creating a function that takes a value X (Which will be the Symbol of the Element) \n",
    "# and returns a color depending on what its crystal structure is in our arrays from the beginning.\n",
    "# That is because we want to color data according to the crystal structure; therefore, we will have to pass this info to the plot\n",
    "\n",
    "def SetColor_CrystalStr(x):\n",
    "    if x in fcc_elements:\n",
    "        return \"blue\" #This are standard CSS colors, but you can also use Hexadecimal Colors (#009900) or RGB \"rgb(0, 128, 0)\"\n",
    "    elif x in bcc_elements:\n",
    "        return \"red\"\n",
    "    elif x in hcp_elements:\n",
    "        return \"orange\"\n",
    "    else:\n",
    "        return \"green\"\n",
    "    \n",
    "# We will then create a list that passes all element symbols through this function. For that we will use the python function \"map\"    \n",
    "# Map takes each element on a list and evaluates it in a function.\n",
    "\n",
    "colors = list(map(SetColor_CrystalStr, sample))\n",
    "\n",
    "# You can see this list of generated colors looks like by uncommenting this line\n",
    "\n",
    "print(colors)"
   ]
  },
  {
   "cell_type": "code",
   "execution_count": 104,
   "metadata": {},
   "outputs": [
    {
     "data": {
      "application/vnd.plotly.v1+json": {
       "config": {
        "linkText": "Export to plot.ly",
        "plotlyServerURL": "https://plot.ly",
        "showLink": false
       },
       "data": [
        {
         "marker": {
          "color": [
           "green",
           "green",
           "red",
           "orange",
           "green",
           "green",
           "green",
           "green",
           "green",
           "green",
           "red",
           "orange",
           "blue",
           "green",
           "red",
           "green",
           "green",
           "green",
           "red",
           "orange",
           "orange",
           "orange",
           "red",
           "red",
           "red",
           "red",
           "orange",
           "blue",
           "blue",
           "orange",
           "green",
           "green",
           "green",
           "green",
           "green",
           "green",
           "red",
           "blue",
           "orange",
           "orange",
           "red",
           "red",
           "orange",
           "orange",
           "blue",
           "blue",
           "blue",
           "orange",
           "green",
           "green",
           "green",
           "green",
           "green",
           "green",
           "red",
           "red",
           "orange",
           "red",
           "red",
           "orange",
           "orange",
           "blue",
           "blue",
           "blue",
           "green",
           "orange",
           "blue",
           "green",
           "green",
           "green",
           "green",
           "green",
           "green",
           "green",
           "green",
           "green",
           "green",
           "green",
           "green",
           "green",
           "red",
           "orange",
           "orange",
           "orange",
           "orange",
           "orange",
           "orange",
           "blue",
           "orange",
           "green",
           "blue",
           "green",
           "green",
           "green",
           "green",
           "green",
           "green",
           "green",
           "green",
           "green",
           "green",
           "green",
           "green"
          ],
          "line": {
           "width": 1
          },
          "size": 18
         },
         "mode": "markers",
         "showlegend": false,
         "text": [
          "H",
          "He",
          "Li",
          "Be",
          "B",
          "C",
          "N",
          "O",
          "F",
          "Ne",
          "Na",
          "Mg",
          "Al",
          "Si",
          "P",
          "S",
          "Cl",
          "Ar",
          "K",
          "Ca",
          "Sc",
          "Ti",
          "V",
          "Cr",
          "Mn",
          "Fe",
          "Co",
          "Ni",
          "Cu",
          "Zn",
          "Ga",
          "Ge",
          "As",
          "Se",
          "Br",
          "Kr",
          "Rb",
          "Sr",
          "Y",
          "Zr",
          "Nb",
          "Mo",
          "Tc",
          "Ru",
          "Rh",
          "Pd",
          "Ag",
          "Cd",
          "In",
          "Sn",
          "Sb",
          "Te",
          "I",
          "Xe",
          "Cs",
          "Ba",
          "Hf",
          "Ta",
          "W",
          "Re",
          "Os",
          "Ir",
          "Pt",
          "Au",
          "Hg",
          "Tl",
          "Pb",
          "Bi",
          "Po",
          "At",
          "Rn",
          "Fr",
          "Ra",
          "Lr",
          "La",
          "Ce",
          "Pr",
          "Nd",
          "Pm",
          "Sm",
          "Eu",
          "Gd",
          "Tb",
          "Dy",
          "Ho",
          "Er",
          "Tm",
          "Yb",
          "Lu",
          "Ac",
          "Th",
          "Pa",
          "U",
          "Np",
          "Pu",
          "Am",
          "Cm",
          "Bk",
          "Cf",
          "Es",
          "Fm",
          "Md",
          "No"
         ],
         "type": "scatter",
         "x": [
          14.01,
          0.95,
          453.69,
          1560,
          2349,
          3800,
          63.05,
          54.8,
          53.53,
          24.56,
          370.87,
          923,
          933.47,
          1687,
          317.3,
          388.36,
          171.6,
          83.8,
          336.53,
          1115,
          1814,
          1941,
          2183,
          2180,
          1519,
          1811,
          1768,
          1728,
          1357.77,
          692.68,
          302.91,
          1211.4,
          1090,
          494,
          265.8,
          115.79,
          312.46,
          1050,
          1799,
          2128,
          2750,
          2896,
          2430,
          2607,
          2237,
          1828.05,
          1234.93,
          594.22,
          429.75,
          505.08,
          903.78,
          722.66,
          386.85,
          161.4,
          301.59,
          1000,
          2506,
          3290,
          3695,
          3459,
          3306,
          2739,
          2041.4,
          1337.33,
          234.32,
          577,
          600.61,
          544.4,
          527,
          575,
          202,
          "maybe about 300 K",
          973,
          1900,
          1193,
          1068,
          1208,
          1297,
          1373,
          1345,
          1099,
          1585,
          1629,
          1680,
          1734,
          1802,
          1818,
          1097,
          1925,
          1323,
          2115,
          1841,
          1405.3,
          910,
          912.5,
          1449,
          1613,
          1259,
          1173,
          1133,
          1800,
          1100,
          1100
         ],
         "y": [
          null,
          null,
          4.9,
          287,
          null,
          null,
          null,
          null,
          null,
          null,
          10,
          45,
          70,
          47,
          null,
          null,
          null,
          null,
          null,
          20,
          74,
          116,
          128,
          279,
          198,
          211,
          209,
          200,
          130,
          108,
          null,
          null,
          8,
          10,
          null,
          null,
          2.4,
          null,
          64,
          68,
          105,
          329,
          null,
          447,
          275,
          121,
          83,
          50,
          11,
          50,
          55,
          43,
          null,
          null,
          1.7,
          13,
          78,
          186,
          411,
          463,
          null,
          528,
          168,
          78,
          null,
          8,
          16,
          32,
          null,
          null,
          null,
          null,
          null,
          null,
          37,
          34,
          37,
          41,
          46,
          50,
          18,
          55,
          56,
          61,
          65,
          70,
          74,
          24,
          69,
          null,
          79,
          null,
          208,
          null,
          96,
          null,
          null,
          null,
          null,
          null,
          null,
          null,
          null
         ]
        },
        {
         "marker": {
          "color": "blue",
          "line": {
           "width": 1
          },
          "size": 18
         },
         "mode": "markers",
         "name": "FCC",
         "type": "scatter",
         "x": [
          null
         ],
         "y": [
          null
         ]
        },
        {
         "marker": {
          "color": "red",
          "line": {
           "width": 1
          },
          "size": 18
         },
         "mode": "markers",
         "name": "BCC",
         "type": "scatter",
         "x": [
          null
         ],
         "y": [
          null
         ]
        },
        {
         "marker": {
          "color": "orange",
          "line": {
           "width": 1
          },
          "size": 18
         },
         "mode": "markers",
         "name": "HCP",
         "type": "scatter",
         "x": [
          null
         ],
         "y": [
          null
         ]
        },
        {
         "marker": {
          "color": "green",
          "line": {
           "width": 1
          },
          "size": 18
         },
         "mode": "markers",
         "name": "Other",
         "type": "scatter",
         "x": [
          null
         ],
         "y": [
          null
         ]
        }
       ],
       "layout": {
        "font": {
         "family": "Arial"
        },
        "height": 800,
        "hovermode": "closest",
        "legend": {
         "font": {
          "size": 24
         }
        },
        "showlegend": true,
        "template": {
         "data": {
          "bar": [
           {
            "error_x": {
             "color": "#2a3f5f"
            },
            "error_y": {
             "color": "#2a3f5f"
            },
            "marker": {
             "line": {
              "color": "#E5ECF6",
              "width": 0.5
             }
            },
            "type": "bar"
           }
          ],
          "barpolar": [
           {
            "marker": {
             "line": {
              "color": "#E5ECF6",
              "width": 0.5
             }
            },
            "type": "barpolar"
           }
          ],
          "carpet": [
           {
            "aaxis": {
             "endlinecolor": "#2a3f5f",
             "gridcolor": "white",
             "linecolor": "white",
             "minorgridcolor": "white",
             "startlinecolor": "#2a3f5f"
            },
            "baxis": {
             "endlinecolor": "#2a3f5f",
             "gridcolor": "white",
             "linecolor": "white",
             "minorgridcolor": "white",
             "startlinecolor": "#2a3f5f"
            },
            "type": "carpet"
           }
          ],
          "choropleth": [
           {
            "colorbar": {
             "outlinewidth": 0,
             "ticks": ""
            },
            "type": "choropleth"
           }
          ],
          "contour": [
           {
            "colorbar": {
             "outlinewidth": 0,
             "ticks": ""
            },
            "colorscale": [
             [
              0,
              "#0d0887"
             ],
             [
              0.1111111111111111,
              "#46039f"
             ],
             [
              0.2222222222222222,
              "#7201a8"
             ],
             [
              0.3333333333333333,
              "#9c179e"
             ],
             [
              0.4444444444444444,
              "#bd3786"
             ],
             [
              0.5555555555555556,
              "#d8576b"
             ],
             [
              0.6666666666666666,
              "#ed7953"
             ],
             [
              0.7777777777777778,
              "#fb9f3a"
             ],
             [
              0.8888888888888888,
              "#fdca26"
             ],
             [
              1,
              "#f0f921"
             ]
            ],
            "type": "contour"
           }
          ],
          "contourcarpet": [
           {
            "colorbar": {
             "outlinewidth": 0,
             "ticks": ""
            },
            "type": "contourcarpet"
           }
          ],
          "heatmap": [
           {
            "colorbar": {
             "outlinewidth": 0,
             "ticks": ""
            },
            "colorscale": [
             [
              0,
              "#0d0887"
             ],
             [
              0.1111111111111111,
              "#46039f"
             ],
             [
              0.2222222222222222,
              "#7201a8"
             ],
             [
              0.3333333333333333,
              "#9c179e"
             ],
             [
              0.4444444444444444,
              "#bd3786"
             ],
             [
              0.5555555555555556,
              "#d8576b"
             ],
             [
              0.6666666666666666,
              "#ed7953"
             ],
             [
              0.7777777777777778,
              "#fb9f3a"
             ],
             [
              0.8888888888888888,
              "#fdca26"
             ],
             [
              1,
              "#f0f921"
             ]
            ],
            "type": "heatmap"
           }
          ],
          "heatmapgl": [
           {
            "colorbar": {
             "outlinewidth": 0,
             "ticks": ""
            },
            "colorscale": [
             [
              0,
              "#0d0887"
             ],
             [
              0.1111111111111111,
              "#46039f"
             ],
             [
              0.2222222222222222,
              "#7201a8"
             ],
             [
              0.3333333333333333,
              "#9c179e"
             ],
             [
              0.4444444444444444,
              "#bd3786"
             ],
             [
              0.5555555555555556,
              "#d8576b"
             ],
             [
              0.6666666666666666,
              "#ed7953"
             ],
             [
              0.7777777777777778,
              "#fb9f3a"
             ],
             [
              0.8888888888888888,
              "#fdca26"
             ],
             [
              1,
              "#f0f921"
             ]
            ],
            "type": "heatmapgl"
           }
          ],
          "histogram": [
           {
            "marker": {
             "colorbar": {
              "outlinewidth": 0,
              "ticks": ""
             }
            },
            "type": "histogram"
           }
          ],
          "histogram2d": [
           {
            "colorbar": {
             "outlinewidth": 0,
             "ticks": ""
            },
            "colorscale": [
             [
              0,
              "#0d0887"
             ],
             [
              0.1111111111111111,
              "#46039f"
             ],
             [
              0.2222222222222222,
              "#7201a8"
             ],
             [
              0.3333333333333333,
              "#9c179e"
             ],
             [
              0.4444444444444444,
              "#bd3786"
             ],
             [
              0.5555555555555556,
              "#d8576b"
             ],
             [
              0.6666666666666666,
              "#ed7953"
             ],
             [
              0.7777777777777778,
              "#fb9f3a"
             ],
             [
              0.8888888888888888,
              "#fdca26"
             ],
             [
              1,
              "#f0f921"
             ]
            ],
            "type": "histogram2d"
           }
          ],
          "histogram2dcontour": [
           {
            "colorbar": {
             "outlinewidth": 0,
             "ticks": ""
            },
            "colorscale": [
             [
              0,
              "#0d0887"
             ],
             [
              0.1111111111111111,
              "#46039f"
             ],
             [
              0.2222222222222222,
              "#7201a8"
             ],
             [
              0.3333333333333333,
              "#9c179e"
             ],
             [
              0.4444444444444444,
              "#bd3786"
             ],
             [
              0.5555555555555556,
              "#d8576b"
             ],
             [
              0.6666666666666666,
              "#ed7953"
             ],
             [
              0.7777777777777778,
              "#fb9f3a"
             ],
             [
              0.8888888888888888,
              "#fdca26"
             ],
             [
              1,
              "#f0f921"
             ]
            ],
            "type": "histogram2dcontour"
           }
          ],
          "mesh3d": [
           {
            "colorbar": {
             "outlinewidth": 0,
             "ticks": ""
            },
            "type": "mesh3d"
           }
          ],
          "parcoords": [
           {
            "line": {
             "colorbar": {
              "outlinewidth": 0,
              "ticks": ""
             }
            },
            "type": "parcoords"
           }
          ],
          "pie": [
           {
            "automargin": true,
            "type": "pie"
           }
          ],
          "scatter": [
           {
            "marker": {
             "colorbar": {
              "outlinewidth": 0,
              "ticks": ""
             }
            },
            "type": "scatter"
           }
          ],
          "scatter3d": [
           {
            "line": {
             "colorbar": {
              "outlinewidth": 0,
              "ticks": ""
             }
            },
            "marker": {
             "colorbar": {
              "outlinewidth": 0,
              "ticks": ""
             }
            },
            "type": "scatter3d"
           }
          ],
          "scattercarpet": [
           {
            "marker": {
             "colorbar": {
              "outlinewidth": 0,
              "ticks": ""
             }
            },
            "type": "scattercarpet"
           }
          ],
          "scattergeo": [
           {
            "marker": {
             "colorbar": {
              "outlinewidth": 0,
              "ticks": ""
             }
            },
            "type": "scattergeo"
           }
          ],
          "scattergl": [
           {
            "marker": {
             "colorbar": {
              "outlinewidth": 0,
              "ticks": ""
             }
            },
            "type": "scattergl"
           }
          ],
          "scattermapbox": [
           {
            "marker": {
             "colorbar": {
              "outlinewidth": 0,
              "ticks": ""
             }
            },
            "type": "scattermapbox"
           }
          ],
          "scatterpolar": [
           {
            "marker": {
             "colorbar": {
              "outlinewidth": 0,
              "ticks": ""
             }
            },
            "type": "scatterpolar"
           }
          ],
          "scatterpolargl": [
           {
            "marker": {
             "colorbar": {
              "outlinewidth": 0,
              "ticks": ""
             }
            },
            "type": "scatterpolargl"
           }
          ],
          "scatterternary": [
           {
            "marker": {
             "colorbar": {
              "outlinewidth": 0,
              "ticks": ""
             }
            },
            "type": "scatterternary"
           }
          ],
          "surface": [
           {
            "colorbar": {
             "outlinewidth": 0,
             "ticks": ""
            },
            "colorscale": [
             [
              0,
              "#0d0887"
             ],
             [
              0.1111111111111111,
              "#46039f"
             ],
             [
              0.2222222222222222,
              "#7201a8"
             ],
             [
              0.3333333333333333,
              "#9c179e"
             ],
             [
              0.4444444444444444,
              "#bd3786"
             ],
             [
              0.5555555555555556,
              "#d8576b"
             ],
             [
              0.6666666666666666,
              "#ed7953"
             ],
             [
              0.7777777777777778,
              "#fb9f3a"
             ],
             [
              0.8888888888888888,
              "#fdca26"
             ],
             [
              1,
              "#f0f921"
             ]
            ],
            "type": "surface"
           }
          ],
          "table": [
           {
            "cells": {
             "fill": {
              "color": "#EBF0F8"
             },
             "line": {
              "color": "white"
             }
            },
            "header": {
             "fill": {
              "color": "#C8D4E3"
             },
             "line": {
              "color": "white"
             }
            },
            "type": "table"
           }
          ]
         },
         "layout": {
          "annotationdefaults": {
           "arrowcolor": "#2a3f5f",
           "arrowhead": 0,
           "arrowwidth": 1
          },
          "coloraxis": {
           "colorbar": {
            "outlinewidth": 0,
            "ticks": ""
           }
          },
          "colorscale": {
           "diverging": [
            [
             0,
             "#8e0152"
            ],
            [
             0.1,
             "#c51b7d"
            ],
            [
             0.2,
             "#de77ae"
            ],
            [
             0.3,
             "#f1b6da"
            ],
            [
             0.4,
             "#fde0ef"
            ],
            [
             0.5,
             "#f7f7f7"
            ],
            [
             0.6,
             "#e6f5d0"
            ],
            [
             0.7,
             "#b8e186"
            ],
            [
             0.8,
             "#7fbc41"
            ],
            [
             0.9,
             "#4d9221"
            ],
            [
             1,
             "#276419"
            ]
           ],
           "sequential": [
            [
             0,
             "#0d0887"
            ],
            [
             0.1111111111111111,
             "#46039f"
            ],
            [
             0.2222222222222222,
             "#7201a8"
            ],
            [
             0.3333333333333333,
             "#9c179e"
            ],
            [
             0.4444444444444444,
             "#bd3786"
            ],
            [
             0.5555555555555556,
             "#d8576b"
            ],
            [
             0.6666666666666666,
             "#ed7953"
            ],
            [
             0.7777777777777778,
             "#fb9f3a"
            ],
            [
             0.8888888888888888,
             "#fdca26"
            ],
            [
             1,
             "#f0f921"
            ]
           ],
           "sequentialminus": [
            [
             0,
             "#0d0887"
            ],
            [
             0.1111111111111111,
             "#46039f"
            ],
            [
             0.2222222222222222,
             "#7201a8"
            ],
            [
             0.3333333333333333,
             "#9c179e"
            ],
            [
             0.4444444444444444,
             "#bd3786"
            ],
            [
             0.5555555555555556,
             "#d8576b"
            ],
            [
             0.6666666666666666,
             "#ed7953"
            ],
            [
             0.7777777777777778,
             "#fb9f3a"
            ],
            [
             0.8888888888888888,
             "#fdca26"
            ],
            [
             1,
             "#f0f921"
            ]
           ]
          },
          "colorway": [
           "#636efa",
           "#EF553B",
           "#00cc96",
           "#ab63fa",
           "#FFA15A",
           "#19d3f3",
           "#FF6692",
           "#B6E880",
           "#FF97FF",
           "#FECB52"
          ],
          "font": {
           "color": "#2a3f5f"
          },
          "geo": {
           "bgcolor": "white",
           "lakecolor": "white",
           "landcolor": "#E5ECF6",
           "showlakes": true,
           "showland": true,
           "subunitcolor": "white"
          },
          "hoverlabel": {
           "align": "left"
          },
          "hovermode": "closest",
          "mapbox": {
           "style": "light"
          },
          "paper_bgcolor": "white",
          "plot_bgcolor": "#E5ECF6",
          "polar": {
           "angularaxis": {
            "gridcolor": "white",
            "linecolor": "white",
            "ticks": ""
           },
           "bgcolor": "#E5ECF6",
           "radialaxis": {
            "gridcolor": "white",
            "linecolor": "white",
            "ticks": ""
           }
          },
          "scene": {
           "xaxis": {
            "backgroundcolor": "#E5ECF6",
            "gridcolor": "white",
            "gridwidth": 2,
            "linecolor": "white",
            "showbackground": true,
            "ticks": "",
            "zerolinecolor": "white"
           },
           "yaxis": {
            "backgroundcolor": "#E5ECF6",
            "gridcolor": "white",
            "gridwidth": 2,
            "linecolor": "white",
            "showbackground": true,
            "ticks": "",
            "zerolinecolor": "white"
           },
           "zaxis": {
            "backgroundcolor": "#E5ECF6",
            "gridcolor": "white",
            "gridwidth": 2,
            "linecolor": "white",
            "showbackground": true,
            "ticks": "",
            "zerolinecolor": "white"
           }
          },
          "shapedefaults": {
           "line": {
            "color": "#2a3f5f"
           }
          },
          "ternary": {
           "aaxis": {
            "gridcolor": "white",
            "linecolor": "white",
            "ticks": ""
           },
           "baxis": {
            "gridcolor": "white",
            "linecolor": "white",
            "ticks": ""
           },
           "bgcolor": "#E5ECF6",
           "caxis": {
            "gridcolor": "white",
            "linecolor": "white",
            "ticks": ""
           }
          },
          "title": {
           "x": 0.05
          },
          "xaxis": {
           "automargin": true,
           "gridcolor": "white",
           "linecolor": "white",
           "ticks": "",
           "title": {
            "standoff": 15
           },
           "zerolinecolor": "white",
           "zerolinewidth": 2
          },
          "yaxis": {
           "automargin": true,
           "gridcolor": "white",
           "linecolor": "white",
           "ticks": "",
           "title": {
            "standoff": 15
           },
           "zerolinecolor": "white",
           "zerolinewidth": 2
          }
         }
        },
        "title": {
         "font": {
          "color": "Black",
          "size": 38
         },
         "text": "Young's Moduli's on Melting Temperature"
        },
        "width": 800,
        "xaxis": {
         "gridwidth": 1.5,
         "tickfont": {
          "size": 24
         },
         "title": {
          "font": {
           "size": 36
          },
          "text": "Melting Temperature [K]"
         },
         "zeroline": true
        },
        "yaxis": {
         "gridwidth": 1.5,
         "tickfont": {
          "size": 24
         },
         "title": {
          "font": {
           "size": 36
          },
          "text": "Young's Modulus [GPa]"
         },
         "zeroline": true
        }
       }
      },
      "text/html": [
       "<div>\n",
       "        \n",
       "        \n",
       "            <div id=\"047ddae2-7a9a-480e-8041-f387e5efd840\" class=\"plotly-graph-div\" style=\"height:800px; width:800px;\"></div>\n",
       "            <script type=\"text/javascript\">\n",
       "                require([\"plotly\"], function(Plotly) {\n",
       "                    window.PLOTLYENV=window.PLOTLYENV || {};\n",
       "                    \n",
       "                if (document.getElementById(\"047ddae2-7a9a-480e-8041-f387e5efd840\")) {\n",
       "                    Plotly.newPlot(\n",
       "                        '047ddae2-7a9a-480e-8041-f387e5efd840',\n",
       "                        [{\"marker\": {\"color\": [\"green\", \"green\", \"red\", \"orange\", \"green\", \"green\", \"green\", \"green\", \"green\", \"green\", \"red\", \"orange\", \"blue\", \"green\", \"red\", \"green\", \"green\", \"green\", \"red\", \"orange\", \"orange\", \"orange\", \"red\", \"red\", \"red\", \"red\", \"orange\", \"blue\", \"blue\", \"orange\", \"green\", \"green\", \"green\", \"green\", \"green\", \"green\", \"red\", \"blue\", \"orange\", \"orange\", \"red\", \"red\", \"orange\", \"orange\", \"blue\", \"blue\", \"blue\", \"orange\", \"green\", \"green\", \"green\", \"green\", \"green\", \"green\", \"red\", \"red\", \"orange\", \"red\", \"red\", \"orange\", \"orange\", \"blue\", \"blue\", \"blue\", \"green\", \"orange\", \"blue\", \"green\", \"green\", \"green\", \"green\", \"green\", \"green\", \"green\", \"green\", \"green\", \"green\", \"green\", \"green\", \"green\", \"red\", \"orange\", \"orange\", \"orange\", \"orange\", \"orange\", \"orange\", \"blue\", \"orange\", \"green\", \"blue\", \"green\", \"green\", \"green\", \"green\", \"green\", \"green\", \"green\", \"green\", \"green\", \"green\", \"green\", \"green\"], \"line\": {\"width\": 1}, \"size\": 18}, \"mode\": \"markers\", \"showlegend\": false, \"text\": [\"H\", \"He\", \"Li\", \"Be\", \"B\", \"C\", \"N\", \"O\", \"F\", \"Ne\", \"Na\", \"Mg\", \"Al\", \"Si\", \"P\", \"S\", \"Cl\", \"Ar\", \"K\", \"Ca\", \"Sc\", \"Ti\", \"V\", \"Cr\", \"Mn\", \"Fe\", \"Co\", \"Ni\", \"Cu\", \"Zn\", \"Ga\", \"Ge\", \"As\", \"Se\", \"Br\", \"Kr\", \"Rb\", \"Sr\", \"Y\", \"Zr\", \"Nb\", \"Mo\", \"Tc\", \"Ru\", \"Rh\", \"Pd\", \"Ag\", \"Cd\", \"In\", \"Sn\", \"Sb\", \"Te\", \"I\", \"Xe\", \"Cs\", \"Ba\", \"Hf\", \"Ta\", \"W\", \"Re\", \"Os\", \"Ir\", \"Pt\", \"Au\", \"Hg\", \"Tl\", \"Pb\", \"Bi\", \"Po\", \"At\", \"Rn\", \"Fr\", \"Ra\", \"Lr\", \"La\", \"Ce\", \"Pr\", \"Nd\", \"Pm\", \"Sm\", \"Eu\", \"Gd\", \"Tb\", \"Dy\", \"Ho\", \"Er\", \"Tm\", \"Yb\", \"Lu\", \"Ac\", \"Th\", \"Pa\", \"U\", \"Np\", \"Pu\", \"Am\", \"Cm\", \"Bk\", \"Cf\", \"Es\", \"Fm\", \"Md\", \"No\"], \"type\": \"scatter\", \"x\": [14.01, 0.95, 453.69, 1560.0, 2349.0, 3800.0, 63.05, 54.8, 53.53, 24.56, 370.87, 923.0, 933.47, 1687.0, 317.3, 388.36, 171.6, 83.8, 336.53, 1115.0, 1814.0, 1941.0, 2183.0, 2180.0, 1519.0, 1811.0, 1768.0, 1728.0, 1357.77, 692.68, 302.91, 1211.4, 1090.0, 494.0, 265.8, 115.79, 312.46, 1050.0, 1799.0, 2128.0, 2750.0, 2896.0, 2430.0, 2607.0, 2237.0, 1828.05, 1234.93, 594.22, 429.75, 505.08, 903.78, 722.66, 386.85, 161.4, 301.59, 1000.0, 2506.0, 3290.0, 3695.0, 3459.0, 3306.0, 2739.0, 2041.4, 1337.33, 234.32, 577.0, 600.61, 544.4, 527.0, 575.0, 202.0, \"maybe about 300 K\", 973.0, 1900.0, 1193.0, 1068.0, 1208.0, 1297.0, 1373.0, 1345.0, 1099.0, 1585.0, 1629.0, 1680.0, 1734.0, 1802.0, 1818.0, 1097.0, 1925.0, 1323.0, 2115.0, 1841.0, 1405.3, 910.0, 912.5, 1449.0, 1613.0, 1259.0, 1173.0, 1133.0, 1800.0, 1100.0, 1100.0], \"y\": [null, null, 4.9, 287.0, null, null, null, null, null, null, 10.0, 45.0, 70.0, 47.0, null, null, null, null, null, 20.0, 74.0, 116.0, 128.0, 279.0, 198.0, 211.0, 209.0, 200.0, 130.0, 108.0, null, null, 8.0, 10.0, null, null, 2.4, null, 64.0, 68.0, 105.0, 329.0, null, 447.0, 275.0, 121.0, 83.0, 50.0, 11.0, 50.0, 55.0, 43.0, null, null, 1.7, 13.0, 78.0, 186.0, 411.0, 463.0, null, 528.0, 168.0, 78.0, null, 8.0, 16.0, 32.0, null, null, null, null, null, null, 37.0, 34.0, 37.0, 41.0, 46.0, 50.0, 18.0, 55.0, 56.0, 61.0, 65.0, 70.0, 74.0, 24.0, 69.0, null, 79.0, null, 208.0, null, 96.0, null, null, null, null, null, null, null, null]}, {\"marker\": {\"color\": \"blue\", \"line\": {\"width\": 1}, \"size\": 18}, \"mode\": \"markers\", \"name\": \"FCC\", \"type\": \"scatter\", \"x\": [null], \"y\": [null]}, {\"marker\": {\"color\": \"red\", \"line\": {\"width\": 1}, \"size\": 18}, \"mode\": \"markers\", \"name\": \"BCC\", \"type\": \"scatter\", \"x\": [null], \"y\": [null]}, {\"marker\": {\"color\": \"orange\", \"line\": {\"width\": 1}, \"size\": 18}, \"mode\": \"markers\", \"name\": \"HCP\", \"type\": \"scatter\", \"x\": [null], \"y\": [null]}, {\"marker\": {\"color\": \"green\", \"line\": {\"width\": 1}, \"size\": 18}, \"mode\": \"markers\", \"name\": \"Other\", \"type\": \"scatter\", \"x\": [null], \"y\": [null]}],\n",
       "                        {\"font\": {\"family\": \"Arial\"}, \"height\": 800, \"hovermode\": \"closest\", \"legend\": {\"font\": {\"size\": 24}}, \"showlegend\": true, \"template\": {\"data\": {\"bar\": [{\"error_x\": {\"color\": \"#2a3f5f\"}, \"error_y\": {\"color\": \"#2a3f5f\"}, \"marker\": {\"line\": {\"color\": \"#E5ECF6\", \"width\": 0.5}}, \"type\": \"bar\"}], \"barpolar\": [{\"marker\": {\"line\": {\"color\": \"#E5ECF6\", \"width\": 0.5}}, \"type\": \"barpolar\"}], \"carpet\": [{\"aaxis\": {\"endlinecolor\": \"#2a3f5f\", \"gridcolor\": \"white\", \"linecolor\": \"white\", \"minorgridcolor\": \"white\", \"startlinecolor\": \"#2a3f5f\"}, \"baxis\": {\"endlinecolor\": \"#2a3f5f\", \"gridcolor\": \"white\", \"linecolor\": \"white\", \"minorgridcolor\": \"white\", \"startlinecolor\": \"#2a3f5f\"}, \"type\": \"carpet\"}], \"choropleth\": [{\"colorbar\": {\"outlinewidth\": 0, \"ticks\": \"\"}, \"type\": \"choropleth\"}], \"contour\": [{\"colorbar\": {\"outlinewidth\": 0, \"ticks\": \"\"}, \"colorscale\": [[0.0, \"#0d0887\"], [0.1111111111111111, \"#46039f\"], [0.2222222222222222, \"#7201a8\"], [0.3333333333333333, \"#9c179e\"], [0.4444444444444444, \"#bd3786\"], [0.5555555555555556, \"#d8576b\"], [0.6666666666666666, \"#ed7953\"], [0.7777777777777778, \"#fb9f3a\"], [0.8888888888888888, \"#fdca26\"], [1.0, \"#f0f921\"]], \"type\": \"contour\"}], \"contourcarpet\": [{\"colorbar\": {\"outlinewidth\": 0, \"ticks\": \"\"}, \"type\": \"contourcarpet\"}], \"heatmap\": [{\"colorbar\": {\"outlinewidth\": 0, \"ticks\": \"\"}, \"colorscale\": [[0.0, \"#0d0887\"], [0.1111111111111111, \"#46039f\"], [0.2222222222222222, \"#7201a8\"], [0.3333333333333333, \"#9c179e\"], [0.4444444444444444, \"#bd3786\"], [0.5555555555555556, \"#d8576b\"], [0.6666666666666666, \"#ed7953\"], [0.7777777777777778, \"#fb9f3a\"], [0.8888888888888888, \"#fdca26\"], [1.0, \"#f0f921\"]], \"type\": \"heatmap\"}], \"heatmapgl\": [{\"colorbar\": {\"outlinewidth\": 0, \"ticks\": \"\"}, \"colorscale\": [[0.0, \"#0d0887\"], [0.1111111111111111, \"#46039f\"], [0.2222222222222222, \"#7201a8\"], [0.3333333333333333, \"#9c179e\"], [0.4444444444444444, \"#bd3786\"], [0.5555555555555556, \"#d8576b\"], [0.6666666666666666, \"#ed7953\"], [0.7777777777777778, \"#fb9f3a\"], [0.8888888888888888, \"#fdca26\"], [1.0, \"#f0f921\"]], \"type\": \"heatmapgl\"}], \"histogram\": [{\"marker\": {\"colorbar\": {\"outlinewidth\": 0, \"ticks\": \"\"}}, \"type\": \"histogram\"}], \"histogram2d\": [{\"colorbar\": {\"outlinewidth\": 0, \"ticks\": \"\"}, \"colorscale\": [[0.0, \"#0d0887\"], [0.1111111111111111, \"#46039f\"], [0.2222222222222222, \"#7201a8\"], [0.3333333333333333, \"#9c179e\"], [0.4444444444444444, \"#bd3786\"], [0.5555555555555556, \"#d8576b\"], [0.6666666666666666, \"#ed7953\"], [0.7777777777777778, \"#fb9f3a\"], [0.8888888888888888, \"#fdca26\"], [1.0, \"#f0f921\"]], \"type\": \"histogram2d\"}], \"histogram2dcontour\": [{\"colorbar\": {\"outlinewidth\": 0, \"ticks\": \"\"}, \"colorscale\": [[0.0, \"#0d0887\"], [0.1111111111111111, \"#46039f\"], [0.2222222222222222, \"#7201a8\"], [0.3333333333333333, \"#9c179e\"], [0.4444444444444444, \"#bd3786\"], [0.5555555555555556, \"#d8576b\"], [0.6666666666666666, \"#ed7953\"], [0.7777777777777778, \"#fb9f3a\"], [0.8888888888888888, \"#fdca26\"], [1.0, \"#f0f921\"]], \"type\": \"histogram2dcontour\"}], \"mesh3d\": [{\"colorbar\": {\"outlinewidth\": 0, \"ticks\": \"\"}, \"type\": \"mesh3d\"}], \"parcoords\": [{\"line\": {\"colorbar\": {\"outlinewidth\": 0, \"ticks\": \"\"}}, \"type\": \"parcoords\"}], \"pie\": [{\"automargin\": true, \"type\": \"pie\"}], \"scatter\": [{\"marker\": {\"colorbar\": {\"outlinewidth\": 0, \"ticks\": \"\"}}, \"type\": \"scatter\"}], \"scatter3d\": [{\"line\": {\"colorbar\": {\"outlinewidth\": 0, \"ticks\": \"\"}}, \"marker\": {\"colorbar\": {\"outlinewidth\": 0, \"ticks\": \"\"}}, \"type\": \"scatter3d\"}], \"scattercarpet\": [{\"marker\": {\"colorbar\": {\"outlinewidth\": 0, \"ticks\": \"\"}}, \"type\": \"scattercarpet\"}], \"scattergeo\": [{\"marker\": {\"colorbar\": {\"outlinewidth\": 0, \"ticks\": \"\"}}, \"type\": \"scattergeo\"}], \"scattergl\": [{\"marker\": {\"colorbar\": {\"outlinewidth\": 0, \"ticks\": \"\"}}, \"type\": \"scattergl\"}], \"scattermapbox\": [{\"marker\": {\"colorbar\": {\"outlinewidth\": 0, \"ticks\": \"\"}}, \"type\": \"scattermapbox\"}], \"scatterpolar\": [{\"marker\": {\"colorbar\": {\"outlinewidth\": 0, \"ticks\": \"\"}}, \"type\": \"scatterpolar\"}], \"scatterpolargl\": [{\"marker\": {\"colorbar\": {\"outlinewidth\": 0, \"ticks\": \"\"}}, \"type\": \"scatterpolargl\"}], \"scatterternary\": [{\"marker\": {\"colorbar\": {\"outlinewidth\": 0, \"ticks\": \"\"}}, \"type\": \"scatterternary\"}], \"surface\": [{\"colorbar\": {\"outlinewidth\": 0, \"ticks\": \"\"}, \"colorscale\": [[0.0, \"#0d0887\"], [0.1111111111111111, \"#46039f\"], [0.2222222222222222, \"#7201a8\"], [0.3333333333333333, \"#9c179e\"], [0.4444444444444444, \"#bd3786\"], [0.5555555555555556, \"#d8576b\"], [0.6666666666666666, \"#ed7953\"], [0.7777777777777778, \"#fb9f3a\"], [0.8888888888888888, \"#fdca26\"], [1.0, \"#f0f921\"]], \"type\": \"surface\"}], \"table\": [{\"cells\": {\"fill\": {\"color\": \"#EBF0F8\"}, \"line\": {\"color\": \"white\"}}, \"header\": {\"fill\": {\"color\": \"#C8D4E3\"}, \"line\": {\"color\": \"white\"}}, \"type\": \"table\"}]}, \"layout\": {\"annotationdefaults\": {\"arrowcolor\": \"#2a3f5f\", \"arrowhead\": 0, \"arrowwidth\": 1}, \"coloraxis\": {\"colorbar\": {\"outlinewidth\": 0, \"ticks\": \"\"}}, \"colorscale\": {\"diverging\": [[0, \"#8e0152\"], [0.1, \"#c51b7d\"], [0.2, \"#de77ae\"], [0.3, \"#f1b6da\"], [0.4, \"#fde0ef\"], [0.5, \"#f7f7f7\"], [0.6, \"#e6f5d0\"], [0.7, \"#b8e186\"], [0.8, \"#7fbc41\"], [0.9, \"#4d9221\"], [1, \"#276419\"]], \"sequential\": [[0.0, \"#0d0887\"], [0.1111111111111111, \"#46039f\"], [0.2222222222222222, \"#7201a8\"], [0.3333333333333333, \"#9c179e\"], [0.4444444444444444, \"#bd3786\"], [0.5555555555555556, \"#d8576b\"], [0.6666666666666666, \"#ed7953\"], [0.7777777777777778, \"#fb9f3a\"], [0.8888888888888888, \"#fdca26\"], [1.0, \"#f0f921\"]], \"sequentialminus\": [[0.0, \"#0d0887\"], [0.1111111111111111, \"#46039f\"], [0.2222222222222222, \"#7201a8\"], [0.3333333333333333, \"#9c179e\"], [0.4444444444444444, \"#bd3786\"], [0.5555555555555556, \"#d8576b\"], [0.6666666666666666, \"#ed7953\"], [0.7777777777777778, \"#fb9f3a\"], [0.8888888888888888, \"#fdca26\"], [1.0, \"#f0f921\"]]}, \"colorway\": [\"#636efa\", \"#EF553B\", \"#00cc96\", \"#ab63fa\", \"#FFA15A\", \"#19d3f3\", \"#FF6692\", \"#B6E880\", \"#FF97FF\", \"#FECB52\"], \"font\": {\"color\": \"#2a3f5f\"}, \"geo\": {\"bgcolor\": \"white\", \"lakecolor\": \"white\", \"landcolor\": \"#E5ECF6\", \"showlakes\": true, \"showland\": true, \"subunitcolor\": \"white\"}, \"hoverlabel\": {\"align\": \"left\"}, \"hovermode\": \"closest\", \"mapbox\": {\"style\": \"light\"}, \"paper_bgcolor\": \"white\", \"plot_bgcolor\": \"#E5ECF6\", \"polar\": {\"angularaxis\": {\"gridcolor\": \"white\", \"linecolor\": \"white\", \"ticks\": \"\"}, \"bgcolor\": \"#E5ECF6\", \"radialaxis\": {\"gridcolor\": \"white\", \"linecolor\": \"white\", \"ticks\": \"\"}}, \"scene\": {\"xaxis\": {\"backgroundcolor\": \"#E5ECF6\", \"gridcolor\": \"white\", \"gridwidth\": 2, \"linecolor\": \"white\", \"showbackground\": true, \"ticks\": \"\", \"zerolinecolor\": \"white\"}, \"yaxis\": {\"backgroundcolor\": \"#E5ECF6\", \"gridcolor\": \"white\", \"gridwidth\": 2, \"linecolor\": \"white\", \"showbackground\": true, \"ticks\": \"\", \"zerolinecolor\": \"white\"}, \"zaxis\": {\"backgroundcolor\": \"#E5ECF6\", \"gridcolor\": \"white\", \"gridwidth\": 2, \"linecolor\": \"white\", \"showbackground\": true, \"ticks\": \"\", \"zerolinecolor\": \"white\"}}, \"shapedefaults\": {\"line\": {\"color\": \"#2a3f5f\"}}, \"ternary\": {\"aaxis\": {\"gridcolor\": \"white\", \"linecolor\": \"white\", \"ticks\": \"\"}, \"baxis\": {\"gridcolor\": \"white\", \"linecolor\": \"white\", \"ticks\": \"\"}, \"bgcolor\": \"#E5ECF6\", \"caxis\": {\"gridcolor\": \"white\", \"linecolor\": \"white\", \"ticks\": \"\"}}, \"title\": {\"x\": 0.05}, \"xaxis\": {\"automargin\": true, \"gridcolor\": \"white\", \"linecolor\": \"white\", \"ticks\": \"\", \"title\": {\"standoff\": 15}, \"zerolinecolor\": \"white\", \"zerolinewidth\": 2}, \"yaxis\": {\"automargin\": true, \"gridcolor\": \"white\", \"linecolor\": \"white\", \"ticks\": \"\", \"title\": {\"standoff\": 15}, \"zerolinecolor\": \"white\", \"zerolinewidth\": 2}}}, \"title\": {\"font\": {\"color\": \"Black\", \"size\": 38}, \"text\": \"Young's Moduli's on Melting Temperature\"}, \"width\": 800, \"xaxis\": {\"gridwidth\": 1.5, \"tickfont\": {\"size\": 24}, \"title\": {\"font\": {\"size\": 36}, \"text\": \"Melting Temperature [K]\"}, \"zeroline\": true}, \"yaxis\": {\"gridwidth\": 1.5, \"tickfont\": {\"size\": 24}, \"title\": {\"font\": {\"size\": 36}, \"text\": \"Young's Modulus [GPa]\"}, \"zeroline\": true}},\n",
       "                        {\"responsive\": true}\n",
       "                    ).then(function(){\n",
       "                            \n",
       "var gd = document.getElementById('047ddae2-7a9a-480e-8041-f387e5efd840');\n",
       "var x = new MutationObserver(function (mutations, observer) {{\n",
       "        var display = window.getComputedStyle(gd).display;\n",
       "        if (!display || display === 'none') {{\n",
       "            console.log([gd, 'removed!']);\n",
       "            Plotly.purge(gd);\n",
       "            observer.disconnect();\n",
       "        }}\n",
       "}});\n",
       "\n",
       "// Listen for the removal of the full notebook cells\n",
       "var notebookContainer = gd.closest('#notebook-container');\n",
       "if (notebookContainer) {{\n",
       "    x.observe(notebookContainer, {childList: true});\n",
       "}}\n",
       "\n",
       "// Listen for the clearing of the current output cell\n",
       "var outputEl = gd.closest('.output');\n",
       "if (outputEl) {{\n",
       "    x.observe(outputEl, {childList: true});\n",
       "}}\n",
       "\n",
       "                        })\n",
       "                };\n",
       "                });\n",
       "            </script>\n",
       "        </div>"
      ]
     },
     "metadata": {},
     "output_type": "display_data"
    }
   ],
   "source": [
    "layout0= go.Layout(title = \"Young's Moduli's on Melting Temperature\", hovermode= 'closest', width = 800, height=800, showlegend=True,  # Hovermode establishes the way the labels that appear when you hover are arranged # Establishing a square plot width=height\n",
    "    xaxis= dict(title=go.layout.xaxis.Title(text='Melting Temperature [K]', font=dict(size=36)), zeroline= True, gridwidth= 1.5, tickfont=dict(size=24)), # Axis Titles. Removing the X-axis Mark. Adding a Grid\n",
    "    yaxis= dict(title=go.layout.yaxis.Title(text=\"Young's Modulus [GPa]\", font=dict(size=36)), zeroline= True, gridwidth= 1.5, tickfont=dict(size=24)), # Axis Titles. Removing the Y-axis Mark. Adding a Grid\n",
    "    legend=dict(font=dict(size=24))) # Adding a legend\n",
    "\n",
    "# Trace\n",
    "\n",
    "trace0 = go.Scatter(x = melting_temperature,y = youngs_modulus, mode = 'markers',\n",
    "    marker= dict(size= 18, line= dict(width=1), color=colors), # We add a size, a border and our custom colors to the markers\n",
    "    text= sample, # This attribute (Text) labels each point to this list, which contains our elements in the same indexes as our properties\n",
    "showlegend = False)\n",
    "\n",
    "\n",
    "# Empty Traces for Legend\n",
    "legend_plot_FCC = go.Scatter(x=[None], y=[None], mode='markers', marker=dict(size=18,  line= dict(width=1),color='blue'), name = 'FCC')\n",
    "legend_plot_BCC = go.Scatter(x=[None], y=[None], mode='markers', marker=dict(size=18,  line= dict(width=1),color='red'), name = 'BCC')\n",
    "legend_plot_HCP = go.Scatter(x=[None], y=[None], mode='markers', marker=dict(size=18,  line= dict(width=1),color='orange'), name = 'HCP')\n",
    "legend_plot_Other = go.Scatter(x=[None], y=[None], mode='markers', marker=dict(size=18,  line= dict(width=1),color='green'), name = 'Other')\n",
    "\n",
    "\n",
    "data = [trace0, legend_plot_FCC, legend_plot_BCC, legend_plot_HCP, legend_plot_Other]\n",
    "\n",
    "fig= go.Figure(data, layout=layout0)\n",
    "fig.update_layout(\n",
    "    font_family=\"Arial\",\n",
    "    title_font_color=\"Black\",\n",
    "    title_font_size= 38\n",
    ")\n",
    "# fig.update_xaxes(showgrid=True, gridwidth=1, gridcolor='black')\n",
    "# fig.update_yaxes(showgrid=True, gridwidth=1, gridcolor='black')\n",
    "iplot(fig)"
   ]
  },
  {
   "cell_type": "markdown",
   "metadata": {},
   "source": [
    "<font color=blue> **Exercise 3.**  a) Find the three metals with highest Young's moduli. b) What are the Young's moduli of Al, Fe and Pb? </font>"
   ]
  },
  {
   "cell_type": "code",
   "execution_count": 108,
   "metadata": {},
   "outputs": [
    {
     "data": {
      "application/vnd.plotly.v1+json": {
       "config": {
        "linkText": "Export to plot.ly",
        "plotlyServerURL": "https://plot.ly",
        "showLink": false
       },
       "data": [
        {
         "marker": {
          "color": [
           "green",
           "green",
           "red",
           "orange",
           "green",
           "green",
           "green",
           "green",
           "green",
           "green",
           "red",
           "orange",
           "blue",
           "green",
           "red",
           "green",
           "green",
           "green",
           "red",
           "orange",
           "orange",
           "orange",
           "red",
           "red",
           "red",
           "red",
           "orange",
           "blue",
           "blue",
           "orange",
           "green",
           "green",
           "green",
           "green",
           "green",
           "green",
           "red",
           "blue",
           "orange",
           "orange",
           "red",
           "red",
           "orange",
           "orange",
           "blue",
           "blue",
           "blue",
           "orange",
           "green",
           "green",
           "green",
           "green",
           "green",
           "green",
           "red",
           "red",
           "orange",
           "red",
           "red",
           "orange",
           "orange",
           "blue",
           "blue",
           "blue",
           "green",
           "orange",
           "blue",
           "green",
           "green",
           "green",
           "green",
           "green",
           "green",
           "green",
           "green",
           "green",
           "green",
           "green",
           "green",
           "green",
           "red",
           "orange",
           "orange",
           "orange",
           "orange",
           "orange",
           "orange",
           "blue",
           "orange",
           "green",
           "blue",
           "green",
           "green",
           "green",
           "green",
           "green",
           "green",
           "green",
           "green",
           "green",
           "green",
           "green",
           "green"
          ],
          "line": {
           "width": 1
          },
          "size": 18
         },
         "mode": "markers",
         "showlegend": false,
         "text": [
          "H",
          "He",
          "Li",
          "Be",
          "B",
          "C",
          "N",
          "O",
          "F",
          "Ne",
          "Na",
          "Mg",
          "Al",
          "Si",
          "P",
          "S",
          "Cl",
          "Ar",
          "K",
          "Ca",
          "Sc",
          "Ti",
          "V",
          "Cr",
          "Mn",
          "Fe",
          "Co",
          "Ni",
          "Cu",
          "Zn",
          "Ga",
          "Ge",
          "As",
          "Se",
          "Br",
          "Kr",
          "Rb",
          "Sr",
          "Y",
          "Zr",
          "Nb",
          "Mo",
          "Tc",
          "Ru",
          "Rh",
          "Pd",
          "Ag",
          "Cd",
          "In",
          "Sn",
          "Sb",
          "Te",
          "I",
          "Xe",
          "Cs",
          "Ba",
          "Hf",
          "Ta",
          "W",
          "Re",
          "Os",
          "Ir",
          "Pt",
          "Au",
          "Hg",
          "Tl",
          "Pb",
          "Bi",
          "Po",
          "At",
          "Rn",
          "Fr",
          "Ra",
          "Lr",
          "La",
          "Ce",
          "Pr",
          "Nd",
          "Pm",
          "Sm",
          "Eu",
          "Gd",
          "Tb",
          "Dy",
          "Ho",
          "Er",
          "Tm",
          "Yb",
          "Lu",
          "Ac",
          "Th",
          "Pa",
          "U",
          "Np",
          "Pu",
          "Am",
          "Cm",
          "Bk",
          "Cf",
          "Es",
          "Fm",
          "Md",
          "No"
         ],
         "type": "scatter",
         "x": [
          14.01,
          0.95,
          453.69,
          1560,
          2349,
          3800,
          63.05,
          54.8,
          53.53,
          24.56,
          370.87,
          923,
          933.47,
          1687,
          317.3,
          388.36,
          171.6,
          83.8,
          336.53,
          1115,
          1814,
          1941,
          2183,
          2180,
          1519,
          1811,
          1768,
          1728,
          1357.77,
          692.68,
          302.91,
          1211.4,
          1090,
          494,
          265.8,
          115.79,
          312.46,
          1050,
          1799,
          2128,
          2750,
          2896,
          2430,
          2607,
          2237,
          1828.05,
          1234.93,
          594.22,
          429.75,
          505.08,
          903.78,
          722.66,
          386.85,
          161.4,
          301.59,
          1000,
          2506,
          3290,
          3695,
          3459,
          3306,
          2739,
          2041.4,
          1337.33,
          234.32,
          577,
          600.61,
          544.4,
          527,
          575,
          202,
          "maybe about 300 K",
          973,
          1900,
          1193,
          1068,
          1208,
          1297,
          1373,
          1345,
          1099,
          1585,
          1629,
          1680,
          1734,
          1802,
          1818,
          1097,
          1925,
          1323,
          2115,
          1841,
          1405.3,
          910,
          912.5,
          1449,
          1613,
          1259,
          1173,
          1133,
          1800,
          1100,
          1100
         ],
         "y": [
          null,
          null,
          4.6e-05,
          1.13e-05,
          6e-06,
          7.1e-06,
          null,
          null,
          null,
          null,
          7.1e-05,
          8.2e-06,
          2.31e-05,
          2.6e-06,
          null,
          null,
          null,
          null,
          null,
          2.23e-05,
          1.02e-05,
          8.6e-06,
          8.4e-06,
          4.9e-06,
          2.17e-05,
          1.18e-05,
          1.3e-05,
          1.34e-05,
          1.65e-05,
          3.02e-05,
          0.00012,
          6e-06,
          null,
          null,
          null,
          null,
          null,
          2.25e-05,
          1.06e-05,
          5.7e-06,
          7.3e-06,
          4.8e-06,
          null,
          6.4e-06,
          8.2e-06,
          1.18e-05,
          1.89e-05,
          3.08e-05,
          3.21e-05,
          2.2e-05,
          1.1e-05,
          null,
          null,
          null,
          null,
          2.06e-05,
          5.9e-06,
          6.3e-06,
          4.5e-06,
          6.2e-06,
          5.1e-06,
          6.4e-06,
          8.8e-06,
          1.42e-05,
          null,
          2.99e-05,
          2.89e-05,
          1.34e-05,
          null,
          null,
          null,
          null,
          null,
          null,
          1.21e-05,
          6.3e-06,
          6.7e-06,
          9.6e-06,
          1.1e-05,
          1.27e-05,
          3.5e-05,
          9.4e-06,
          1.03e-05,
          9.9e-06,
          1.12e-05,
          1.22e-05,
          1.33e-05,
          2.63e-05,
          9.9e-06,
          null,
          1.1e-05,
          null,
          1.39e-05,
          null,
          null,
          null,
          null,
          null,
          null,
          null,
          null,
          null,
          null
         ]
        },
        {
         "marker": {
          "color": "blue",
          "line": {
           "width": 1
          },
          "size": 18
         },
         "mode": "markers",
         "name": "FCC",
         "type": "scatter",
         "x": [
          null
         ],
         "y": [
          null
         ]
        },
        {
         "marker": {
          "color": "red",
          "line": {
           "width": 1
          },
          "size": 18
         },
         "mode": "markers",
         "name": "BCC",
         "type": "scatter",
         "x": [
          null
         ],
         "y": [
          null
         ]
        },
        {
         "marker": {
          "color": "orange",
          "line": {
           "width": 1
          },
          "size": 18
         },
         "mode": "markers",
         "name": "HCP",
         "type": "scatter",
         "x": [
          null
         ],
         "y": [
          null
         ]
        },
        {
         "marker": {
          "color": "green",
          "line": {
           "width": 1
          },
          "size": 18
         },
         "mode": "markers",
         "name": "Other",
         "type": "scatter",
         "x": [
          null
         ],
         "y": [
          null
         ]
        }
       ],
       "layout": {
        "font": {
         "family": "Arial"
        },
        "height": 800,
        "hovermode": "closest",
        "legend": {
         "font": {
          "size": 24
         }
        },
        "showlegend": true,
        "template": {
         "data": {
          "bar": [
           {
            "error_x": {
             "color": "#2a3f5f"
            },
            "error_y": {
             "color": "#2a3f5f"
            },
            "marker": {
             "line": {
              "color": "#E5ECF6",
              "width": 0.5
             }
            },
            "type": "bar"
           }
          ],
          "barpolar": [
           {
            "marker": {
             "line": {
              "color": "#E5ECF6",
              "width": 0.5
             }
            },
            "type": "barpolar"
           }
          ],
          "carpet": [
           {
            "aaxis": {
             "endlinecolor": "#2a3f5f",
             "gridcolor": "white",
             "linecolor": "white",
             "minorgridcolor": "white",
             "startlinecolor": "#2a3f5f"
            },
            "baxis": {
             "endlinecolor": "#2a3f5f",
             "gridcolor": "white",
             "linecolor": "white",
             "minorgridcolor": "white",
             "startlinecolor": "#2a3f5f"
            },
            "type": "carpet"
           }
          ],
          "choropleth": [
           {
            "colorbar": {
             "outlinewidth": 0,
             "ticks": ""
            },
            "type": "choropleth"
           }
          ],
          "contour": [
           {
            "colorbar": {
             "outlinewidth": 0,
             "ticks": ""
            },
            "colorscale": [
             [
              0,
              "#0d0887"
             ],
             [
              0.1111111111111111,
              "#46039f"
             ],
             [
              0.2222222222222222,
              "#7201a8"
             ],
             [
              0.3333333333333333,
              "#9c179e"
             ],
             [
              0.4444444444444444,
              "#bd3786"
             ],
             [
              0.5555555555555556,
              "#d8576b"
             ],
             [
              0.6666666666666666,
              "#ed7953"
             ],
             [
              0.7777777777777778,
              "#fb9f3a"
             ],
             [
              0.8888888888888888,
              "#fdca26"
             ],
             [
              1,
              "#f0f921"
             ]
            ],
            "type": "contour"
           }
          ],
          "contourcarpet": [
           {
            "colorbar": {
             "outlinewidth": 0,
             "ticks": ""
            },
            "type": "contourcarpet"
           }
          ],
          "heatmap": [
           {
            "colorbar": {
             "outlinewidth": 0,
             "ticks": ""
            },
            "colorscale": [
             [
              0,
              "#0d0887"
             ],
             [
              0.1111111111111111,
              "#46039f"
             ],
             [
              0.2222222222222222,
              "#7201a8"
             ],
             [
              0.3333333333333333,
              "#9c179e"
             ],
             [
              0.4444444444444444,
              "#bd3786"
             ],
             [
              0.5555555555555556,
              "#d8576b"
             ],
             [
              0.6666666666666666,
              "#ed7953"
             ],
             [
              0.7777777777777778,
              "#fb9f3a"
             ],
             [
              0.8888888888888888,
              "#fdca26"
             ],
             [
              1,
              "#f0f921"
             ]
            ],
            "type": "heatmap"
           }
          ],
          "heatmapgl": [
           {
            "colorbar": {
             "outlinewidth": 0,
             "ticks": ""
            },
            "colorscale": [
             [
              0,
              "#0d0887"
             ],
             [
              0.1111111111111111,
              "#46039f"
             ],
             [
              0.2222222222222222,
              "#7201a8"
             ],
             [
              0.3333333333333333,
              "#9c179e"
             ],
             [
              0.4444444444444444,
              "#bd3786"
             ],
             [
              0.5555555555555556,
              "#d8576b"
             ],
             [
              0.6666666666666666,
              "#ed7953"
             ],
             [
              0.7777777777777778,
              "#fb9f3a"
             ],
             [
              0.8888888888888888,
              "#fdca26"
             ],
             [
              1,
              "#f0f921"
             ]
            ],
            "type": "heatmapgl"
           }
          ],
          "histogram": [
           {
            "marker": {
             "colorbar": {
              "outlinewidth": 0,
              "ticks": ""
             }
            },
            "type": "histogram"
           }
          ],
          "histogram2d": [
           {
            "colorbar": {
             "outlinewidth": 0,
             "ticks": ""
            },
            "colorscale": [
             [
              0,
              "#0d0887"
             ],
             [
              0.1111111111111111,
              "#46039f"
             ],
             [
              0.2222222222222222,
              "#7201a8"
             ],
             [
              0.3333333333333333,
              "#9c179e"
             ],
             [
              0.4444444444444444,
              "#bd3786"
             ],
             [
              0.5555555555555556,
              "#d8576b"
             ],
             [
              0.6666666666666666,
              "#ed7953"
             ],
             [
              0.7777777777777778,
              "#fb9f3a"
             ],
             [
              0.8888888888888888,
              "#fdca26"
             ],
             [
              1,
              "#f0f921"
             ]
            ],
            "type": "histogram2d"
           }
          ],
          "histogram2dcontour": [
           {
            "colorbar": {
             "outlinewidth": 0,
             "ticks": ""
            },
            "colorscale": [
             [
              0,
              "#0d0887"
             ],
             [
              0.1111111111111111,
              "#46039f"
             ],
             [
              0.2222222222222222,
              "#7201a8"
             ],
             [
              0.3333333333333333,
              "#9c179e"
             ],
             [
              0.4444444444444444,
              "#bd3786"
             ],
             [
              0.5555555555555556,
              "#d8576b"
             ],
             [
              0.6666666666666666,
              "#ed7953"
             ],
             [
              0.7777777777777778,
              "#fb9f3a"
             ],
             [
              0.8888888888888888,
              "#fdca26"
             ],
             [
              1,
              "#f0f921"
             ]
            ],
            "type": "histogram2dcontour"
           }
          ],
          "mesh3d": [
           {
            "colorbar": {
             "outlinewidth": 0,
             "ticks": ""
            },
            "type": "mesh3d"
           }
          ],
          "parcoords": [
           {
            "line": {
             "colorbar": {
              "outlinewidth": 0,
              "ticks": ""
             }
            },
            "type": "parcoords"
           }
          ],
          "pie": [
           {
            "automargin": true,
            "type": "pie"
           }
          ],
          "scatter": [
           {
            "marker": {
             "colorbar": {
              "outlinewidth": 0,
              "ticks": ""
             }
            },
            "type": "scatter"
           }
          ],
          "scatter3d": [
           {
            "line": {
             "colorbar": {
              "outlinewidth": 0,
              "ticks": ""
             }
            },
            "marker": {
             "colorbar": {
              "outlinewidth": 0,
              "ticks": ""
             }
            },
            "type": "scatter3d"
           }
          ],
          "scattercarpet": [
           {
            "marker": {
             "colorbar": {
              "outlinewidth": 0,
              "ticks": ""
             }
            },
            "type": "scattercarpet"
           }
          ],
          "scattergeo": [
           {
            "marker": {
             "colorbar": {
              "outlinewidth": 0,
              "ticks": ""
             }
            },
            "type": "scattergeo"
           }
          ],
          "scattergl": [
           {
            "marker": {
             "colorbar": {
              "outlinewidth": 0,
              "ticks": ""
             }
            },
            "type": "scattergl"
           }
          ],
          "scattermapbox": [
           {
            "marker": {
             "colorbar": {
              "outlinewidth": 0,
              "ticks": ""
             }
            },
            "type": "scattermapbox"
           }
          ],
          "scatterpolar": [
           {
            "marker": {
             "colorbar": {
              "outlinewidth": 0,
              "ticks": ""
             }
            },
            "type": "scatterpolar"
           }
          ],
          "scatterpolargl": [
           {
            "marker": {
             "colorbar": {
              "outlinewidth": 0,
              "ticks": ""
             }
            },
            "type": "scatterpolargl"
           }
          ],
          "scatterternary": [
           {
            "marker": {
             "colorbar": {
              "outlinewidth": 0,
              "ticks": ""
             }
            },
            "type": "scatterternary"
           }
          ],
          "surface": [
           {
            "colorbar": {
             "outlinewidth": 0,
             "ticks": ""
            },
            "colorscale": [
             [
              0,
              "#0d0887"
             ],
             [
              0.1111111111111111,
              "#46039f"
             ],
             [
              0.2222222222222222,
              "#7201a8"
             ],
             [
              0.3333333333333333,
              "#9c179e"
             ],
             [
              0.4444444444444444,
              "#bd3786"
             ],
             [
              0.5555555555555556,
              "#d8576b"
             ],
             [
              0.6666666666666666,
              "#ed7953"
             ],
             [
              0.7777777777777778,
              "#fb9f3a"
             ],
             [
              0.8888888888888888,
              "#fdca26"
             ],
             [
              1,
              "#f0f921"
             ]
            ],
            "type": "surface"
           }
          ],
          "table": [
           {
            "cells": {
             "fill": {
              "color": "#EBF0F8"
             },
             "line": {
              "color": "white"
             }
            },
            "header": {
             "fill": {
              "color": "#C8D4E3"
             },
             "line": {
              "color": "white"
             }
            },
            "type": "table"
           }
          ]
         },
         "layout": {
          "annotationdefaults": {
           "arrowcolor": "#2a3f5f",
           "arrowhead": 0,
           "arrowwidth": 1
          },
          "coloraxis": {
           "colorbar": {
            "outlinewidth": 0,
            "ticks": ""
           }
          },
          "colorscale": {
           "diverging": [
            [
             0,
             "#8e0152"
            ],
            [
             0.1,
             "#c51b7d"
            ],
            [
             0.2,
             "#de77ae"
            ],
            [
             0.3,
             "#f1b6da"
            ],
            [
             0.4,
             "#fde0ef"
            ],
            [
             0.5,
             "#f7f7f7"
            ],
            [
             0.6,
             "#e6f5d0"
            ],
            [
             0.7,
             "#b8e186"
            ],
            [
             0.8,
             "#7fbc41"
            ],
            [
             0.9,
             "#4d9221"
            ],
            [
             1,
             "#276419"
            ]
           ],
           "sequential": [
            [
             0,
             "#0d0887"
            ],
            [
             0.1111111111111111,
             "#46039f"
            ],
            [
             0.2222222222222222,
             "#7201a8"
            ],
            [
             0.3333333333333333,
             "#9c179e"
            ],
            [
             0.4444444444444444,
             "#bd3786"
            ],
            [
             0.5555555555555556,
             "#d8576b"
            ],
            [
             0.6666666666666666,
             "#ed7953"
            ],
            [
             0.7777777777777778,
             "#fb9f3a"
            ],
            [
             0.8888888888888888,
             "#fdca26"
            ],
            [
             1,
             "#f0f921"
            ]
           ],
           "sequentialminus": [
            [
             0,
             "#0d0887"
            ],
            [
             0.1111111111111111,
             "#46039f"
            ],
            [
             0.2222222222222222,
             "#7201a8"
            ],
            [
             0.3333333333333333,
             "#9c179e"
            ],
            [
             0.4444444444444444,
             "#bd3786"
            ],
            [
             0.5555555555555556,
             "#d8576b"
            ],
            [
             0.6666666666666666,
             "#ed7953"
            ],
            [
             0.7777777777777778,
             "#fb9f3a"
            ],
            [
             0.8888888888888888,
             "#fdca26"
            ],
            [
             1,
             "#f0f921"
            ]
           ]
          },
          "colorway": [
           "#636efa",
           "#EF553B",
           "#00cc96",
           "#ab63fa",
           "#FFA15A",
           "#19d3f3",
           "#FF6692",
           "#B6E880",
           "#FF97FF",
           "#FECB52"
          ],
          "font": {
           "color": "#2a3f5f"
          },
          "geo": {
           "bgcolor": "white",
           "lakecolor": "white",
           "landcolor": "#E5ECF6",
           "showlakes": true,
           "showland": true,
           "subunitcolor": "white"
          },
          "hoverlabel": {
           "align": "left"
          },
          "hovermode": "closest",
          "mapbox": {
           "style": "light"
          },
          "paper_bgcolor": "white",
          "plot_bgcolor": "#E5ECF6",
          "polar": {
           "angularaxis": {
            "gridcolor": "white",
            "linecolor": "white",
            "ticks": ""
           },
           "bgcolor": "#E5ECF6",
           "radialaxis": {
            "gridcolor": "white",
            "linecolor": "white",
            "ticks": ""
           }
          },
          "scene": {
           "xaxis": {
            "backgroundcolor": "#E5ECF6",
            "gridcolor": "white",
            "gridwidth": 2,
            "linecolor": "white",
            "showbackground": true,
            "ticks": "",
            "zerolinecolor": "white"
           },
           "yaxis": {
            "backgroundcolor": "#E5ECF6",
            "gridcolor": "white",
            "gridwidth": 2,
            "linecolor": "white",
            "showbackground": true,
            "ticks": "",
            "zerolinecolor": "white"
           },
           "zaxis": {
            "backgroundcolor": "#E5ECF6",
            "gridcolor": "white",
            "gridwidth": 2,
            "linecolor": "white",
            "showbackground": true,
            "ticks": "",
            "zerolinecolor": "white"
           }
          },
          "shapedefaults": {
           "line": {
            "color": "#2a3f5f"
           }
          },
          "ternary": {
           "aaxis": {
            "gridcolor": "white",
            "linecolor": "white",
            "ticks": ""
           },
           "baxis": {
            "gridcolor": "white",
            "linecolor": "white",
            "ticks": ""
           },
           "bgcolor": "#E5ECF6",
           "caxis": {
            "gridcolor": "white",
            "linecolor": "white",
            "ticks": ""
           }
          },
          "title": {
           "x": 0.05
          },
          "xaxis": {
           "automargin": true,
           "gridcolor": "white",
           "linecolor": "white",
           "ticks": "",
           "title": {
            "standoff": 15
           },
           "zerolinecolor": "white",
           "zerolinewidth": 2
          },
          "yaxis": {
           "automargin": true,
           "gridcolor": "white",
           "linecolor": "white",
           "ticks": "",
           "title": {
            "standoff": 15
           },
           "zerolinecolor": "white",
           "zerolinewidth": 2
          }
         }
        },
        "title": {
         "font": {
          "color": "Black",
          "size": 38
         },
         "text": "Thermal Expansion on Melting Temperature"
        },
        "width": 800,
        "xaxis": {
         "gridwidth": 1.5,
         "tickfont": {
          "size": 24
         },
         "title": {
          "font": {
           "size": 36
          },
          "text": "Melting Temperature [K]"
         },
         "zeroline": true
        },
        "yaxis": {
         "gridwidth": 1.5,
         "tickfont": {
          "size": 24
         },
         "title": {
          "font": {
           "size": 36
          },
          "text": "Coefficient of Linear Thermal Expansion [K<sup>-1</sup>]"
         },
         "zeroline": true
        }
       }
      },
      "text/html": [
       "<div>\n",
       "        \n",
       "        \n",
       "            <div id=\"5ae4a3f8-ccbf-476d-bf63-58254fcd61d8\" class=\"plotly-graph-div\" style=\"height:800px; width:800px;\"></div>\n",
       "            <script type=\"text/javascript\">\n",
       "                require([\"plotly\"], function(Plotly) {\n",
       "                    window.PLOTLYENV=window.PLOTLYENV || {};\n",
       "                    \n",
       "                if (document.getElementById(\"5ae4a3f8-ccbf-476d-bf63-58254fcd61d8\")) {\n",
       "                    Plotly.newPlot(\n",
       "                        '5ae4a3f8-ccbf-476d-bf63-58254fcd61d8',\n",
       "                        [{\"marker\": {\"color\": [\"green\", \"green\", \"red\", \"orange\", \"green\", \"green\", \"green\", \"green\", \"green\", \"green\", \"red\", \"orange\", \"blue\", \"green\", \"red\", \"green\", \"green\", \"green\", \"red\", \"orange\", \"orange\", \"orange\", \"red\", \"red\", \"red\", \"red\", \"orange\", \"blue\", \"blue\", \"orange\", \"green\", \"green\", \"green\", \"green\", \"green\", \"green\", \"red\", \"blue\", \"orange\", \"orange\", \"red\", \"red\", \"orange\", \"orange\", \"blue\", \"blue\", \"blue\", \"orange\", \"green\", \"green\", \"green\", \"green\", \"green\", \"green\", \"red\", \"red\", \"orange\", \"red\", \"red\", \"orange\", \"orange\", \"blue\", \"blue\", \"blue\", \"green\", \"orange\", \"blue\", \"green\", \"green\", \"green\", \"green\", \"green\", \"green\", \"green\", \"green\", \"green\", \"green\", \"green\", \"green\", \"green\", \"red\", \"orange\", \"orange\", \"orange\", \"orange\", \"orange\", \"orange\", \"blue\", \"orange\", \"green\", \"blue\", \"green\", \"green\", \"green\", \"green\", \"green\", \"green\", \"green\", \"green\", \"green\", \"green\", \"green\", \"green\"], \"line\": {\"width\": 1}, \"size\": 18}, \"mode\": \"markers\", \"showlegend\": false, \"text\": [\"H\", \"He\", \"Li\", \"Be\", \"B\", \"C\", \"N\", \"O\", \"F\", \"Ne\", \"Na\", \"Mg\", \"Al\", \"Si\", \"P\", \"S\", \"Cl\", \"Ar\", \"K\", \"Ca\", \"Sc\", \"Ti\", \"V\", \"Cr\", \"Mn\", \"Fe\", \"Co\", \"Ni\", \"Cu\", \"Zn\", \"Ga\", \"Ge\", \"As\", \"Se\", \"Br\", \"Kr\", \"Rb\", \"Sr\", \"Y\", \"Zr\", \"Nb\", \"Mo\", \"Tc\", \"Ru\", \"Rh\", \"Pd\", \"Ag\", \"Cd\", \"In\", \"Sn\", \"Sb\", \"Te\", \"I\", \"Xe\", \"Cs\", \"Ba\", \"Hf\", \"Ta\", \"W\", \"Re\", \"Os\", \"Ir\", \"Pt\", \"Au\", \"Hg\", \"Tl\", \"Pb\", \"Bi\", \"Po\", \"At\", \"Rn\", \"Fr\", \"Ra\", \"Lr\", \"La\", \"Ce\", \"Pr\", \"Nd\", \"Pm\", \"Sm\", \"Eu\", \"Gd\", \"Tb\", \"Dy\", \"Ho\", \"Er\", \"Tm\", \"Yb\", \"Lu\", \"Ac\", \"Th\", \"Pa\", \"U\", \"Np\", \"Pu\", \"Am\", \"Cm\", \"Bk\", \"Cf\", \"Es\", \"Fm\", \"Md\", \"No\"], \"type\": \"scatter\", \"x\": [14.01, 0.95, 453.69, 1560.0, 2349.0, 3800.0, 63.05, 54.8, 53.53, 24.56, 370.87, 923.0, 933.47, 1687.0, 317.3, 388.36, 171.6, 83.8, 336.53, 1115.0, 1814.0, 1941.0, 2183.0, 2180.0, 1519.0, 1811.0, 1768.0, 1728.0, 1357.77, 692.68, 302.91, 1211.4, 1090.0, 494.0, 265.8, 115.79, 312.46, 1050.0, 1799.0, 2128.0, 2750.0, 2896.0, 2430.0, 2607.0, 2237.0, 1828.05, 1234.93, 594.22, 429.75, 505.08, 903.78, 722.66, 386.85, 161.4, 301.59, 1000.0, 2506.0, 3290.0, 3695.0, 3459.0, 3306.0, 2739.0, 2041.4, 1337.33, 234.32, 577.0, 600.61, 544.4, 527.0, 575.0, 202.0, \"maybe about 300 K\", 973.0, 1900.0, 1193.0, 1068.0, 1208.0, 1297.0, 1373.0, 1345.0, 1099.0, 1585.0, 1629.0, 1680.0, 1734.0, 1802.0, 1818.0, 1097.0, 1925.0, 1323.0, 2115.0, 1841.0, 1405.3, 910.0, 912.5, 1449.0, 1613.0, 1259.0, 1173.0, 1133.0, 1800.0, 1100.0, 1100.0], \"y\": [null, null, 4.6e-05, 1.13e-05, 6e-06, 7.1e-06, null, null, null, null, 7.1e-05, 8.2e-06, 2.31e-05, 2.6e-06, null, null, null, null, null, 2.23e-05, 1.02e-05, 8.6e-06, 8.4e-06, 4.9e-06, 2.17e-05, 1.18e-05, 1.3e-05, 1.34e-05, 1.65e-05, 3.02e-05, 0.00012, 6e-06, null, null, null, null, null, 2.25e-05, 1.06e-05, 5.7e-06, 7.3e-06, 4.8e-06, null, 6.4e-06, 8.2e-06, 1.18e-05, 1.89e-05, 3.08e-05, 3.21e-05, 2.2e-05, 1.1e-05, null, null, null, null, 2.06e-05, 5.9e-06, 6.3e-06, 4.5e-06, 6.2e-06, 5.1e-06, 6.4e-06, 8.8e-06, 1.42e-05, null, 2.99e-05, 2.89e-05, 1.34e-05, null, null, null, null, null, null, 1.21e-05, 6.3e-06, 6.7e-06, 9.6e-06, 1.1e-05, 1.27e-05, 3.5e-05, 9.4e-06, 1.03e-05, 9.9e-06, 1.12e-05, 1.22e-05, 1.33e-05, 2.63e-05, 9.9e-06, null, 1.1e-05, null, 1.39e-05, null, null, null, null, null, null, null, null, null, null]}, {\"marker\": {\"color\": \"blue\", \"line\": {\"width\": 1}, \"size\": 18}, \"mode\": \"markers\", \"name\": \"FCC\", \"type\": \"scatter\", \"x\": [null], \"y\": [null]}, {\"marker\": {\"color\": \"red\", \"line\": {\"width\": 1}, \"size\": 18}, \"mode\": \"markers\", \"name\": \"BCC\", \"type\": \"scatter\", \"x\": [null], \"y\": [null]}, {\"marker\": {\"color\": \"orange\", \"line\": {\"width\": 1}, \"size\": 18}, \"mode\": \"markers\", \"name\": \"HCP\", \"type\": \"scatter\", \"x\": [null], \"y\": [null]}, {\"marker\": {\"color\": \"green\", \"line\": {\"width\": 1}, \"size\": 18}, \"mode\": \"markers\", \"name\": \"Other\", \"type\": \"scatter\", \"x\": [null], \"y\": [null]}],\n",
       "                        {\"font\": {\"family\": \"Arial\"}, \"height\": 800, \"hovermode\": \"closest\", \"legend\": {\"font\": {\"size\": 24}}, \"showlegend\": true, \"template\": {\"data\": {\"bar\": [{\"error_x\": {\"color\": \"#2a3f5f\"}, \"error_y\": {\"color\": \"#2a3f5f\"}, \"marker\": {\"line\": {\"color\": \"#E5ECF6\", \"width\": 0.5}}, \"type\": \"bar\"}], \"barpolar\": [{\"marker\": {\"line\": {\"color\": \"#E5ECF6\", \"width\": 0.5}}, \"type\": \"barpolar\"}], \"carpet\": [{\"aaxis\": {\"endlinecolor\": \"#2a3f5f\", \"gridcolor\": \"white\", \"linecolor\": \"white\", \"minorgridcolor\": \"white\", \"startlinecolor\": \"#2a3f5f\"}, \"baxis\": {\"endlinecolor\": \"#2a3f5f\", \"gridcolor\": \"white\", \"linecolor\": \"white\", \"minorgridcolor\": \"white\", \"startlinecolor\": \"#2a3f5f\"}, \"type\": \"carpet\"}], \"choropleth\": [{\"colorbar\": {\"outlinewidth\": 0, \"ticks\": \"\"}, \"type\": \"choropleth\"}], \"contour\": [{\"colorbar\": {\"outlinewidth\": 0, \"ticks\": \"\"}, \"colorscale\": [[0.0, \"#0d0887\"], [0.1111111111111111, \"#46039f\"], [0.2222222222222222, \"#7201a8\"], [0.3333333333333333, \"#9c179e\"], [0.4444444444444444, \"#bd3786\"], [0.5555555555555556, \"#d8576b\"], [0.6666666666666666, \"#ed7953\"], [0.7777777777777778, \"#fb9f3a\"], [0.8888888888888888, \"#fdca26\"], [1.0, \"#f0f921\"]], \"type\": \"contour\"}], \"contourcarpet\": [{\"colorbar\": {\"outlinewidth\": 0, \"ticks\": \"\"}, \"type\": \"contourcarpet\"}], \"heatmap\": [{\"colorbar\": {\"outlinewidth\": 0, \"ticks\": \"\"}, \"colorscale\": [[0.0, \"#0d0887\"], [0.1111111111111111, \"#46039f\"], [0.2222222222222222, \"#7201a8\"], [0.3333333333333333, \"#9c179e\"], [0.4444444444444444, \"#bd3786\"], [0.5555555555555556, \"#d8576b\"], [0.6666666666666666, \"#ed7953\"], [0.7777777777777778, \"#fb9f3a\"], [0.8888888888888888, \"#fdca26\"], [1.0, \"#f0f921\"]], \"type\": \"heatmap\"}], \"heatmapgl\": [{\"colorbar\": {\"outlinewidth\": 0, \"ticks\": \"\"}, \"colorscale\": [[0.0, \"#0d0887\"], [0.1111111111111111, \"#46039f\"], [0.2222222222222222, \"#7201a8\"], [0.3333333333333333, \"#9c179e\"], [0.4444444444444444, \"#bd3786\"], [0.5555555555555556, \"#d8576b\"], [0.6666666666666666, \"#ed7953\"], [0.7777777777777778, \"#fb9f3a\"], [0.8888888888888888, \"#fdca26\"], [1.0, \"#f0f921\"]], \"type\": \"heatmapgl\"}], \"histogram\": [{\"marker\": {\"colorbar\": {\"outlinewidth\": 0, \"ticks\": \"\"}}, \"type\": \"histogram\"}], \"histogram2d\": [{\"colorbar\": {\"outlinewidth\": 0, \"ticks\": \"\"}, \"colorscale\": [[0.0, \"#0d0887\"], [0.1111111111111111, \"#46039f\"], [0.2222222222222222, \"#7201a8\"], [0.3333333333333333, \"#9c179e\"], [0.4444444444444444, \"#bd3786\"], [0.5555555555555556, \"#d8576b\"], [0.6666666666666666, \"#ed7953\"], [0.7777777777777778, \"#fb9f3a\"], [0.8888888888888888, \"#fdca26\"], [1.0, \"#f0f921\"]], \"type\": \"histogram2d\"}], \"histogram2dcontour\": [{\"colorbar\": {\"outlinewidth\": 0, \"ticks\": \"\"}, \"colorscale\": [[0.0, \"#0d0887\"], [0.1111111111111111, \"#46039f\"], [0.2222222222222222, \"#7201a8\"], [0.3333333333333333, \"#9c179e\"], [0.4444444444444444, \"#bd3786\"], [0.5555555555555556, \"#d8576b\"], [0.6666666666666666, \"#ed7953\"], [0.7777777777777778, \"#fb9f3a\"], [0.8888888888888888, \"#fdca26\"], [1.0, \"#f0f921\"]], \"type\": \"histogram2dcontour\"}], \"mesh3d\": [{\"colorbar\": {\"outlinewidth\": 0, \"ticks\": \"\"}, \"type\": \"mesh3d\"}], \"parcoords\": [{\"line\": {\"colorbar\": {\"outlinewidth\": 0, \"ticks\": \"\"}}, \"type\": \"parcoords\"}], \"pie\": [{\"automargin\": true, \"type\": \"pie\"}], \"scatter\": [{\"marker\": {\"colorbar\": {\"outlinewidth\": 0, \"ticks\": \"\"}}, \"type\": \"scatter\"}], \"scatter3d\": [{\"line\": {\"colorbar\": {\"outlinewidth\": 0, \"ticks\": \"\"}}, \"marker\": {\"colorbar\": {\"outlinewidth\": 0, \"ticks\": \"\"}}, \"type\": \"scatter3d\"}], \"scattercarpet\": [{\"marker\": {\"colorbar\": {\"outlinewidth\": 0, \"ticks\": \"\"}}, \"type\": \"scattercarpet\"}], \"scattergeo\": [{\"marker\": {\"colorbar\": {\"outlinewidth\": 0, \"ticks\": \"\"}}, \"type\": \"scattergeo\"}], \"scattergl\": [{\"marker\": {\"colorbar\": {\"outlinewidth\": 0, \"ticks\": \"\"}}, \"type\": \"scattergl\"}], \"scattermapbox\": [{\"marker\": {\"colorbar\": {\"outlinewidth\": 0, \"ticks\": \"\"}}, \"type\": \"scattermapbox\"}], \"scatterpolar\": [{\"marker\": {\"colorbar\": {\"outlinewidth\": 0, \"ticks\": \"\"}}, \"type\": \"scatterpolar\"}], \"scatterpolargl\": [{\"marker\": {\"colorbar\": {\"outlinewidth\": 0, \"ticks\": \"\"}}, \"type\": \"scatterpolargl\"}], \"scatterternary\": [{\"marker\": {\"colorbar\": {\"outlinewidth\": 0, \"ticks\": \"\"}}, \"type\": \"scatterternary\"}], \"surface\": [{\"colorbar\": {\"outlinewidth\": 0, \"ticks\": \"\"}, \"colorscale\": [[0.0, \"#0d0887\"], [0.1111111111111111, \"#46039f\"], [0.2222222222222222, \"#7201a8\"], [0.3333333333333333, \"#9c179e\"], [0.4444444444444444, \"#bd3786\"], [0.5555555555555556, \"#d8576b\"], [0.6666666666666666, \"#ed7953\"], [0.7777777777777778, \"#fb9f3a\"], [0.8888888888888888, \"#fdca26\"], [1.0, \"#f0f921\"]], \"type\": \"surface\"}], \"table\": [{\"cells\": {\"fill\": {\"color\": \"#EBF0F8\"}, \"line\": {\"color\": \"white\"}}, \"header\": {\"fill\": {\"color\": \"#C8D4E3\"}, \"line\": {\"color\": \"white\"}}, \"type\": \"table\"}]}, \"layout\": {\"annotationdefaults\": {\"arrowcolor\": \"#2a3f5f\", \"arrowhead\": 0, \"arrowwidth\": 1}, \"coloraxis\": {\"colorbar\": {\"outlinewidth\": 0, \"ticks\": \"\"}}, \"colorscale\": {\"diverging\": [[0, \"#8e0152\"], [0.1, \"#c51b7d\"], [0.2, \"#de77ae\"], [0.3, \"#f1b6da\"], [0.4, \"#fde0ef\"], [0.5, \"#f7f7f7\"], [0.6, \"#e6f5d0\"], [0.7, \"#b8e186\"], [0.8, \"#7fbc41\"], [0.9, \"#4d9221\"], [1, \"#276419\"]], \"sequential\": [[0.0, \"#0d0887\"], [0.1111111111111111, \"#46039f\"], [0.2222222222222222, \"#7201a8\"], [0.3333333333333333, \"#9c179e\"], [0.4444444444444444, \"#bd3786\"], [0.5555555555555556, \"#d8576b\"], [0.6666666666666666, \"#ed7953\"], [0.7777777777777778, \"#fb9f3a\"], [0.8888888888888888, \"#fdca26\"], [1.0, \"#f0f921\"]], \"sequentialminus\": [[0.0, \"#0d0887\"], [0.1111111111111111, \"#46039f\"], [0.2222222222222222, \"#7201a8\"], [0.3333333333333333, \"#9c179e\"], [0.4444444444444444, \"#bd3786\"], [0.5555555555555556, \"#d8576b\"], [0.6666666666666666, \"#ed7953\"], [0.7777777777777778, \"#fb9f3a\"], [0.8888888888888888, \"#fdca26\"], [1.0, \"#f0f921\"]]}, \"colorway\": [\"#636efa\", \"#EF553B\", \"#00cc96\", \"#ab63fa\", \"#FFA15A\", \"#19d3f3\", \"#FF6692\", \"#B6E880\", \"#FF97FF\", \"#FECB52\"], \"font\": {\"color\": \"#2a3f5f\"}, \"geo\": {\"bgcolor\": \"white\", \"lakecolor\": \"white\", \"landcolor\": \"#E5ECF6\", \"showlakes\": true, \"showland\": true, \"subunitcolor\": \"white\"}, \"hoverlabel\": {\"align\": \"left\"}, \"hovermode\": \"closest\", \"mapbox\": {\"style\": \"light\"}, \"paper_bgcolor\": \"white\", \"plot_bgcolor\": \"#E5ECF6\", \"polar\": {\"angularaxis\": {\"gridcolor\": \"white\", \"linecolor\": \"white\", \"ticks\": \"\"}, \"bgcolor\": \"#E5ECF6\", \"radialaxis\": {\"gridcolor\": \"white\", \"linecolor\": \"white\", \"ticks\": \"\"}}, \"scene\": {\"xaxis\": {\"backgroundcolor\": \"#E5ECF6\", \"gridcolor\": \"white\", \"gridwidth\": 2, \"linecolor\": \"white\", \"showbackground\": true, \"ticks\": \"\", \"zerolinecolor\": \"white\"}, \"yaxis\": {\"backgroundcolor\": \"#E5ECF6\", \"gridcolor\": \"white\", \"gridwidth\": 2, \"linecolor\": \"white\", \"showbackground\": true, \"ticks\": \"\", \"zerolinecolor\": \"white\"}, \"zaxis\": {\"backgroundcolor\": \"#E5ECF6\", \"gridcolor\": \"white\", \"gridwidth\": 2, \"linecolor\": \"white\", \"showbackground\": true, \"ticks\": \"\", \"zerolinecolor\": \"white\"}}, \"shapedefaults\": {\"line\": {\"color\": \"#2a3f5f\"}}, \"ternary\": {\"aaxis\": {\"gridcolor\": \"white\", \"linecolor\": \"white\", \"ticks\": \"\"}, \"baxis\": {\"gridcolor\": \"white\", \"linecolor\": \"white\", \"ticks\": \"\"}, \"bgcolor\": \"#E5ECF6\", \"caxis\": {\"gridcolor\": \"white\", \"linecolor\": \"white\", \"ticks\": \"\"}}, \"title\": {\"x\": 0.05}, \"xaxis\": {\"automargin\": true, \"gridcolor\": \"white\", \"linecolor\": \"white\", \"ticks\": \"\", \"title\": {\"standoff\": 15}, \"zerolinecolor\": \"white\", \"zerolinewidth\": 2}, \"yaxis\": {\"automargin\": true, \"gridcolor\": \"white\", \"linecolor\": \"white\", \"ticks\": \"\", \"title\": {\"standoff\": 15}, \"zerolinecolor\": \"white\", \"zerolinewidth\": 2}}}, \"title\": {\"font\": {\"color\": \"Black\", \"size\": 38}, \"text\": \"Thermal Expansion on Melting Temperature\"}, \"width\": 800, \"xaxis\": {\"gridwidth\": 1.5, \"tickfont\": {\"size\": 24}, \"title\": {\"font\": {\"size\": 36}, \"text\": \"Melting Temperature [K]\"}, \"zeroline\": true}, \"yaxis\": {\"gridwidth\": 1.5, \"tickfont\": {\"size\": 24}, \"title\": {\"font\": {\"size\": 36}, \"text\": \"Coefficient of Linear Thermal Expansion [K<sup>-1</sup>]\"}, \"zeroline\": true}},\n",
       "                        {\"responsive\": true}\n",
       "                    ).then(function(){\n",
       "                            \n",
       "var gd = document.getElementById('5ae4a3f8-ccbf-476d-bf63-58254fcd61d8');\n",
       "var x = new MutationObserver(function (mutations, observer) {{\n",
       "        var display = window.getComputedStyle(gd).display;\n",
       "        if (!display || display === 'none') {{\n",
       "            console.log([gd, 'removed!']);\n",
       "            Plotly.purge(gd);\n",
       "            observer.disconnect();\n",
       "        }}\n",
       "}});\n",
       "\n",
       "// Listen for the removal of the full notebook cells\n",
       "var notebookContainer = gd.closest('#notebook-container');\n",
       "if (notebookContainer) {{\n",
       "    x.observe(notebookContainer, {childList: true});\n",
       "}}\n",
       "\n",
       "// Listen for the clearing of the current output cell\n",
       "var outputEl = gd.closest('.output');\n",
       "if (outputEl) {{\n",
       "    x.observe(outputEl, {childList: true});\n",
       "}}\n",
       "\n",
       "                        })\n",
       "                };\n",
       "                });\n",
       "            </script>\n",
       "        </div>"
      ]
     },
     "metadata": {},
     "output_type": "display_data"
    }
   ],
   "source": [
    "layout0= go.Layout(title = \"Thermal Expansion on Melting Temperature\", hovermode= 'closest', width = 800, height=800, showlegend=True,  # Hovermode establishes the way the labels that appear when you hover are arranged # Establishing a square plot width=height\n",
    "    xaxis= dict(title=go.layout.xaxis.Title(text='Melting Temperature [K]', font=dict(size=36)), zeroline= True, gridwidth= 1.5, tickfont=dict(size=24)), # Axis Titles. Removing the X-axis Mark. Adding a Grid\n",
    "    yaxis= dict(title=go.layout.yaxis.Title(text='Coefficient of Linear Thermal Expansion [K<sup>-1</sup>]', font=dict(size=36)), zeroline= True, gridwidth= 1.5, tickfont=dict(size=24)), # Axis Titles. Removing the Y-axis Mark. Adding a Grid\n",
    "    legend=dict(font=dict(size=24))) # Adding a legend\n",
    "\n",
    "# Trace\n",
    "\n",
    "trace0 = go.Scatter(x = melting_temperature,y = CTE, mode = 'markers',\n",
    "    marker= dict(size= 18, line= dict(width=1), color=colors), # We add a size, a border and our custom colors to the markers\n",
    "    text= sample, # This attribute (Text) labels each point to this list, which contains our elements in the same indexes as our properties\n",
    "showlegend = False)\n",
    "\n",
    "\n",
    "# Empty Traces for Legend\n",
    "legend_plot_FCC = go.Scatter(x=[None], y=[None], mode='markers', marker=dict(size=18,  line= dict(width=1),color='blue'), name = 'FCC')\n",
    "legend_plot_BCC = go.Scatter(x=[None], y=[None], mode='markers', marker=dict(size=18,  line= dict(width=1),color='red'), name = 'BCC')\n",
    "legend_plot_HCP = go.Scatter(x=[None], y=[None], mode='markers', marker=dict(size=18,  line= dict(width=1),color='orange'), name = 'HCP')\n",
    "legend_plot_Other = go.Scatter(x=[None], y=[None], mode='markers', marker=dict(size=18,  line= dict(width=1),color='green'), name = 'Other')\n",
    "\n",
    "\n",
    "data = [trace0, legend_plot_FCC, legend_plot_BCC, legend_plot_HCP, legend_plot_Other]\n",
    "\n",
    "fig= go.Figure(data, layout=layout0)\n",
    "fig.update_layout(\n",
    "    font_family=\"Arial\",\n",
    "    title_font_color=\"Black\",\n",
    "    title_font_size= 38\n",
    ")\n",
    "iplot(fig)"
   ]
  },
  {
   "cell_type": "code",
   "execution_count": 111,
   "metadata": {
    "scrolled": true
   },
   "outputs": [
    {
     "data": {
      "application/vnd.plotly.v1+json": {
       "config": {
        "linkText": "Export to plot.ly",
        "plotlyServerURL": "https://plot.ly",
        "showLink": false
       },
       "data": [
        {
         "marker": {
          "color": [
           "green",
           "green",
           "red",
           "orange",
           "green",
           "green",
           "green",
           "green",
           "green",
           "green",
           "red",
           "orange",
           "blue",
           "green",
           "red",
           "green",
           "green",
           "green",
           "red",
           "orange",
           "orange",
           "orange",
           "red",
           "red",
           "red",
           "red",
           "orange",
           "blue",
           "blue",
           "orange",
           "green",
           "green",
           "green",
           "green",
           "green",
           "green",
           "red",
           "blue",
           "orange",
           "orange",
           "red",
           "red",
           "orange",
           "orange",
           "blue",
           "blue",
           "blue",
           "orange",
           "green",
           "green",
           "green",
           "green",
           "green",
           "green",
           "red",
           "red",
           "orange",
           "red",
           "red",
           "orange",
           "orange",
           "blue",
           "blue",
           "blue",
           "green",
           "orange",
           "blue",
           "green",
           "green",
           "green",
           "green",
           "green",
           "green",
           "green",
           "green",
           "green",
           "green",
           "green",
           "green",
           "green",
           "red",
           "orange",
           "orange",
           "orange",
           "orange",
           "orange",
           "orange",
           "blue",
           "orange",
           "green",
           "blue",
           "green",
           "green",
           "green",
           "green",
           "green",
           "green",
           "green",
           "green",
           "green",
           "green",
           "green",
           "green"
          ],
          "line": {
           "width": 1
          },
          "size": 14
         },
         "mode": "markers",
         "showlegend": false,
         "text": [
          "H",
          "He",
          "Li",
          "Be",
          "B",
          "C",
          "N",
          "O",
          "F",
          "Ne",
          "Na",
          "Mg",
          "Al",
          "Si",
          "P",
          "S",
          "Cl",
          "Ar",
          "K",
          "Ca",
          "Sc",
          "Ti",
          "V",
          "Cr",
          "Mn",
          "Fe",
          "Co",
          "Ni",
          "Cu",
          "Zn",
          "Ga",
          "Ge",
          "As",
          "Se",
          "Br",
          "Kr",
          "Rb",
          "Sr",
          "Y",
          "Zr",
          "Nb",
          "Mo",
          "Tc",
          "Ru",
          "Rh",
          "Pd",
          "Ag",
          "Cd",
          "In",
          "Sn",
          "Sb",
          "Te",
          "I",
          "Xe",
          "Cs",
          "Ba",
          "Hf",
          "Ta",
          "W",
          "Re",
          "Os",
          "Ir",
          "Pt",
          "Au",
          "Hg",
          "Tl",
          "Pb",
          "Bi",
          "Po",
          "At",
          "Rn",
          "Fr",
          "Ra",
          "Lr",
          "La",
          "Ce",
          "Pr",
          "Nd",
          "Pm",
          "Sm",
          "Eu",
          "Gd",
          "Tb",
          "Dy",
          "Ho",
          "Er",
          "Tm",
          "Yb",
          "Lu",
          "Ac",
          "Th",
          "Pa",
          "U",
          "Np",
          "Pu",
          "Am",
          "Cm",
          "Bk",
          "Cf",
          "Es",
          "Fm",
          "Md",
          "No"
         ],
         "type": "scatter",
         "x": [
          14.01,
          0.95,
          453.69,
          1560,
          2349,
          3800,
          63.05,
          54.8,
          53.53,
          24.56,
          370.87,
          923,
          933.47,
          1687,
          317.3,
          388.36,
          171.6,
          83.8,
          336.53,
          1115,
          1814,
          1941,
          2183,
          2180,
          1519,
          1811,
          1768,
          1728,
          1357.77,
          692.68,
          302.91,
          1211.4,
          1090,
          494,
          265.8,
          115.79,
          312.46,
          1050,
          1799,
          2128,
          2750,
          2896,
          2430,
          2607,
          2237,
          1828.05,
          1234.93,
          594.22,
          429.75,
          505.08,
          903.78,
          722.66,
          386.85,
          161.4,
          301.59,
          1000,
          2506,
          3290,
          3695,
          3459,
          3306,
          2739,
          2041.4,
          1337.33,
          234.32,
          577,
          600.61,
          544.4,
          527,
          575,
          202,
          "maybe about 300 K",
          973,
          1900,
          1193,
          1068,
          1208,
          1297,
          1373,
          1345,
          1099,
          1585,
          1629,
          1680,
          1734,
          1802,
          1818,
          1097,
          1925,
          1323,
          2115,
          1841,
          1405.3,
          910,
          912.5,
          1449,
          1613,
          1259,
          1173,
          1133,
          1800,
          1100,
          1100
         ],
         "y": [
          null,
          5.188,
          3.489,
          1.824,
          1.025,
          0.711,
          null,
          null,
          null,
          1.029,
          1.222,
          1.025,
          0.9,
          0.703,
          0.757,
          0.732,
          null,
          0.138,
          0.753,
          0.653,
          0.556,
          0.523,
          0.485,
          0.488,
          0.477,
          0.443,
          0.456,
          0.443,
          0.385,
          0.388,
          0.372,
          0.322,
          0.328,
          null,
          null,
          0.247,
          0.36,
          0.301,
          0.284,
          0.281,
          0.268,
          0.251,
          0.243,
          0.238,
          0.244,
          0.244,
          0.237,
          0.232,
          0.234,
          0.222,
          0.205,
          0.201,
          null,
          0.158,
          0.241,
          0.192,
          0.146,
          0.14,
          0.133,
          0.138,
          0.131,
          0.133,
          0.133,
          0.129,
          0.138,
          0.128,
          0.159,
          0.124,
          0.125,
          null,
          0.094,
          null,
          0.12,
          null,
          0.197,
          0.205,
          0.192,
          0.205,
          0.185,
          0.18,
          0.176,
          0.23,
          0.183,
          0.173,
          0.164,
          0.168,
          0.16,
          0.145,
          0.155,
          null,
          0.113,
          0.121,
          0.115,
          null,
          null,
          null,
          null,
          null,
          null,
          null,
          null,
          null,
          null
         ]
        },
        {
         "marker": {
          "color": "blue",
          "line": {
           "width": 1
          },
          "size": 14
         },
         "mode": "markers",
         "name": "FCC",
         "type": "scatter",
         "x": [
          null
         ],
         "y": [
          null
         ]
        },
        {
         "marker": {
          "color": "red",
          "line": {
           "width": 1
          },
          "size": 14
         },
         "mode": "markers",
         "name": "BCC",
         "type": "scatter",
         "x": [
          null
         ],
         "y": [
          null
         ]
        },
        {
         "marker": {
          "color": "orange",
          "line": {
           "width": 1
          },
          "size": 14
         },
         "mode": "markers",
         "name": "HCP",
         "type": "scatter",
         "x": [
          null
         ],
         "y": [
          null
         ]
        },
        {
         "marker": {
          "color": "green",
          "line": {
           "width": 1
          },
          "size": 14
         },
         "mode": "markers",
         "name": "Other",
         "type": "scatter",
         "x": [
          null
         ],
         "y": [
          null
         ]
        }
       ],
       "layout": {
        "font": {
         "family": "Arial"
        },
        "height": 800,
        "hovermode": "closest",
        "legend": {
         "font": {
          "size": 24
         }
        },
        "showlegend": true,
        "template": {
         "data": {
          "bar": [
           {
            "error_x": {
             "color": "#2a3f5f"
            },
            "error_y": {
             "color": "#2a3f5f"
            },
            "marker": {
             "line": {
              "color": "#E5ECF6",
              "width": 0.5
             }
            },
            "type": "bar"
           }
          ],
          "barpolar": [
           {
            "marker": {
             "line": {
              "color": "#E5ECF6",
              "width": 0.5
             }
            },
            "type": "barpolar"
           }
          ],
          "carpet": [
           {
            "aaxis": {
             "endlinecolor": "#2a3f5f",
             "gridcolor": "white",
             "linecolor": "white",
             "minorgridcolor": "white",
             "startlinecolor": "#2a3f5f"
            },
            "baxis": {
             "endlinecolor": "#2a3f5f",
             "gridcolor": "white",
             "linecolor": "white",
             "minorgridcolor": "white",
             "startlinecolor": "#2a3f5f"
            },
            "type": "carpet"
           }
          ],
          "choropleth": [
           {
            "colorbar": {
             "outlinewidth": 0,
             "ticks": ""
            },
            "type": "choropleth"
           }
          ],
          "contour": [
           {
            "colorbar": {
             "outlinewidth": 0,
             "ticks": ""
            },
            "colorscale": [
             [
              0,
              "#0d0887"
             ],
             [
              0.1111111111111111,
              "#46039f"
             ],
             [
              0.2222222222222222,
              "#7201a8"
             ],
             [
              0.3333333333333333,
              "#9c179e"
             ],
             [
              0.4444444444444444,
              "#bd3786"
             ],
             [
              0.5555555555555556,
              "#d8576b"
             ],
             [
              0.6666666666666666,
              "#ed7953"
             ],
             [
              0.7777777777777778,
              "#fb9f3a"
             ],
             [
              0.8888888888888888,
              "#fdca26"
             ],
             [
              1,
              "#f0f921"
             ]
            ],
            "type": "contour"
           }
          ],
          "contourcarpet": [
           {
            "colorbar": {
             "outlinewidth": 0,
             "ticks": ""
            },
            "type": "contourcarpet"
           }
          ],
          "heatmap": [
           {
            "colorbar": {
             "outlinewidth": 0,
             "ticks": ""
            },
            "colorscale": [
             [
              0,
              "#0d0887"
             ],
             [
              0.1111111111111111,
              "#46039f"
             ],
             [
              0.2222222222222222,
              "#7201a8"
             ],
             [
              0.3333333333333333,
              "#9c179e"
             ],
             [
              0.4444444444444444,
              "#bd3786"
             ],
             [
              0.5555555555555556,
              "#d8576b"
             ],
             [
              0.6666666666666666,
              "#ed7953"
             ],
             [
              0.7777777777777778,
              "#fb9f3a"
             ],
             [
              0.8888888888888888,
              "#fdca26"
             ],
             [
              1,
              "#f0f921"
             ]
            ],
            "type": "heatmap"
           }
          ],
          "heatmapgl": [
           {
            "colorbar": {
             "outlinewidth": 0,
             "ticks": ""
            },
            "colorscale": [
             [
              0,
              "#0d0887"
             ],
             [
              0.1111111111111111,
              "#46039f"
             ],
             [
              0.2222222222222222,
              "#7201a8"
             ],
             [
              0.3333333333333333,
              "#9c179e"
             ],
             [
              0.4444444444444444,
              "#bd3786"
             ],
             [
              0.5555555555555556,
              "#d8576b"
             ],
             [
              0.6666666666666666,
              "#ed7953"
             ],
             [
              0.7777777777777778,
              "#fb9f3a"
             ],
             [
              0.8888888888888888,
              "#fdca26"
             ],
             [
              1,
              "#f0f921"
             ]
            ],
            "type": "heatmapgl"
           }
          ],
          "histogram": [
           {
            "marker": {
             "colorbar": {
              "outlinewidth": 0,
              "ticks": ""
             }
            },
            "type": "histogram"
           }
          ],
          "histogram2d": [
           {
            "colorbar": {
             "outlinewidth": 0,
             "ticks": ""
            },
            "colorscale": [
             [
              0,
              "#0d0887"
             ],
             [
              0.1111111111111111,
              "#46039f"
             ],
             [
              0.2222222222222222,
              "#7201a8"
             ],
             [
              0.3333333333333333,
              "#9c179e"
             ],
             [
              0.4444444444444444,
              "#bd3786"
             ],
             [
              0.5555555555555556,
              "#d8576b"
             ],
             [
              0.6666666666666666,
              "#ed7953"
             ],
             [
              0.7777777777777778,
              "#fb9f3a"
             ],
             [
              0.8888888888888888,
              "#fdca26"
             ],
             [
              1,
              "#f0f921"
             ]
            ],
            "type": "histogram2d"
           }
          ],
          "histogram2dcontour": [
           {
            "colorbar": {
             "outlinewidth": 0,
             "ticks": ""
            },
            "colorscale": [
             [
              0,
              "#0d0887"
             ],
             [
              0.1111111111111111,
              "#46039f"
             ],
             [
              0.2222222222222222,
              "#7201a8"
             ],
             [
              0.3333333333333333,
              "#9c179e"
             ],
             [
              0.4444444444444444,
              "#bd3786"
             ],
             [
              0.5555555555555556,
              "#d8576b"
             ],
             [
              0.6666666666666666,
              "#ed7953"
             ],
             [
              0.7777777777777778,
              "#fb9f3a"
             ],
             [
              0.8888888888888888,
              "#fdca26"
             ],
             [
              1,
              "#f0f921"
             ]
            ],
            "type": "histogram2dcontour"
           }
          ],
          "mesh3d": [
           {
            "colorbar": {
             "outlinewidth": 0,
             "ticks": ""
            },
            "type": "mesh3d"
           }
          ],
          "parcoords": [
           {
            "line": {
             "colorbar": {
              "outlinewidth": 0,
              "ticks": ""
             }
            },
            "type": "parcoords"
           }
          ],
          "pie": [
           {
            "automargin": true,
            "type": "pie"
           }
          ],
          "scatter": [
           {
            "marker": {
             "colorbar": {
              "outlinewidth": 0,
              "ticks": ""
             }
            },
            "type": "scatter"
           }
          ],
          "scatter3d": [
           {
            "line": {
             "colorbar": {
              "outlinewidth": 0,
              "ticks": ""
             }
            },
            "marker": {
             "colorbar": {
              "outlinewidth": 0,
              "ticks": ""
             }
            },
            "type": "scatter3d"
           }
          ],
          "scattercarpet": [
           {
            "marker": {
             "colorbar": {
              "outlinewidth": 0,
              "ticks": ""
             }
            },
            "type": "scattercarpet"
           }
          ],
          "scattergeo": [
           {
            "marker": {
             "colorbar": {
              "outlinewidth": 0,
              "ticks": ""
             }
            },
            "type": "scattergeo"
           }
          ],
          "scattergl": [
           {
            "marker": {
             "colorbar": {
              "outlinewidth": 0,
              "ticks": ""
             }
            },
            "type": "scattergl"
           }
          ],
          "scattermapbox": [
           {
            "marker": {
             "colorbar": {
              "outlinewidth": 0,
              "ticks": ""
             }
            },
            "type": "scattermapbox"
           }
          ],
          "scatterpolar": [
           {
            "marker": {
             "colorbar": {
              "outlinewidth": 0,
              "ticks": ""
             }
            },
            "type": "scatterpolar"
           }
          ],
          "scatterpolargl": [
           {
            "marker": {
             "colorbar": {
              "outlinewidth": 0,
              "ticks": ""
             }
            },
            "type": "scatterpolargl"
           }
          ],
          "scatterternary": [
           {
            "marker": {
             "colorbar": {
              "outlinewidth": 0,
              "ticks": ""
             }
            },
            "type": "scatterternary"
           }
          ],
          "surface": [
           {
            "colorbar": {
             "outlinewidth": 0,
             "ticks": ""
            },
            "colorscale": [
             [
              0,
              "#0d0887"
             ],
             [
              0.1111111111111111,
              "#46039f"
             ],
             [
              0.2222222222222222,
              "#7201a8"
             ],
             [
              0.3333333333333333,
              "#9c179e"
             ],
             [
              0.4444444444444444,
              "#bd3786"
             ],
             [
              0.5555555555555556,
              "#d8576b"
             ],
             [
              0.6666666666666666,
              "#ed7953"
             ],
             [
              0.7777777777777778,
              "#fb9f3a"
             ],
             [
              0.8888888888888888,
              "#fdca26"
             ],
             [
              1,
              "#f0f921"
             ]
            ],
            "type": "surface"
           }
          ],
          "table": [
           {
            "cells": {
             "fill": {
              "color": "#EBF0F8"
             },
             "line": {
              "color": "white"
             }
            },
            "header": {
             "fill": {
              "color": "#C8D4E3"
             },
             "line": {
              "color": "white"
             }
            },
            "type": "table"
           }
          ]
         },
         "layout": {
          "annotationdefaults": {
           "arrowcolor": "#2a3f5f",
           "arrowhead": 0,
           "arrowwidth": 1
          },
          "coloraxis": {
           "colorbar": {
            "outlinewidth": 0,
            "ticks": ""
           }
          },
          "colorscale": {
           "diverging": [
            [
             0,
             "#8e0152"
            ],
            [
             0.1,
             "#c51b7d"
            ],
            [
             0.2,
             "#de77ae"
            ],
            [
             0.3,
             "#f1b6da"
            ],
            [
             0.4,
             "#fde0ef"
            ],
            [
             0.5,
             "#f7f7f7"
            ],
            [
             0.6,
             "#e6f5d0"
            ],
            [
             0.7,
             "#b8e186"
            ],
            [
             0.8,
             "#7fbc41"
            ],
            [
             0.9,
             "#4d9221"
            ],
            [
             1,
             "#276419"
            ]
           ],
           "sequential": [
            [
             0,
             "#0d0887"
            ],
            [
             0.1111111111111111,
             "#46039f"
            ],
            [
             0.2222222222222222,
             "#7201a8"
            ],
            [
             0.3333333333333333,
             "#9c179e"
            ],
            [
             0.4444444444444444,
             "#bd3786"
            ],
            [
             0.5555555555555556,
             "#d8576b"
            ],
            [
             0.6666666666666666,
             "#ed7953"
            ],
            [
             0.7777777777777778,
             "#fb9f3a"
            ],
            [
             0.8888888888888888,
             "#fdca26"
            ],
            [
             1,
             "#f0f921"
            ]
           ],
           "sequentialminus": [
            [
             0,
             "#0d0887"
            ],
            [
             0.1111111111111111,
             "#46039f"
            ],
            [
             0.2222222222222222,
             "#7201a8"
            ],
            [
             0.3333333333333333,
             "#9c179e"
            ],
            [
             0.4444444444444444,
             "#bd3786"
            ],
            [
             0.5555555555555556,
             "#d8576b"
            ],
            [
             0.6666666666666666,
             "#ed7953"
            ],
            [
             0.7777777777777778,
             "#fb9f3a"
            ],
            [
             0.8888888888888888,
             "#fdca26"
            ],
            [
             1,
             "#f0f921"
            ]
           ]
          },
          "colorway": [
           "#636efa",
           "#EF553B",
           "#00cc96",
           "#ab63fa",
           "#FFA15A",
           "#19d3f3",
           "#FF6692",
           "#B6E880",
           "#FF97FF",
           "#FECB52"
          ],
          "font": {
           "color": "#2a3f5f"
          },
          "geo": {
           "bgcolor": "white",
           "lakecolor": "white",
           "landcolor": "#E5ECF6",
           "showlakes": true,
           "showland": true,
           "subunitcolor": "white"
          },
          "hoverlabel": {
           "align": "left"
          },
          "hovermode": "closest",
          "mapbox": {
           "style": "light"
          },
          "paper_bgcolor": "white",
          "plot_bgcolor": "#E5ECF6",
          "polar": {
           "angularaxis": {
            "gridcolor": "white",
            "linecolor": "white",
            "ticks": ""
           },
           "bgcolor": "#E5ECF6",
           "radialaxis": {
            "gridcolor": "white",
            "linecolor": "white",
            "ticks": ""
           }
          },
          "scene": {
           "xaxis": {
            "backgroundcolor": "#E5ECF6",
            "gridcolor": "white",
            "gridwidth": 2,
            "linecolor": "white",
            "showbackground": true,
            "ticks": "",
            "zerolinecolor": "white"
           },
           "yaxis": {
            "backgroundcolor": "#E5ECF6",
            "gridcolor": "white",
            "gridwidth": 2,
            "linecolor": "white",
            "showbackground": true,
            "ticks": "",
            "zerolinecolor": "white"
           },
           "zaxis": {
            "backgroundcolor": "#E5ECF6",
            "gridcolor": "white",
            "gridwidth": 2,
            "linecolor": "white",
            "showbackground": true,
            "ticks": "",
            "zerolinecolor": "white"
           }
          },
          "shapedefaults": {
           "line": {
            "color": "#2a3f5f"
           }
          },
          "ternary": {
           "aaxis": {
            "gridcolor": "white",
            "linecolor": "white",
            "ticks": ""
           },
           "baxis": {
            "gridcolor": "white",
            "linecolor": "white",
            "ticks": ""
           },
           "bgcolor": "#E5ECF6",
           "caxis": {
            "gridcolor": "white",
            "linecolor": "white",
            "ticks": ""
           }
          },
          "title": {
           "x": 0.05
          },
          "xaxis": {
           "automargin": true,
           "gridcolor": "white",
           "linecolor": "white",
           "ticks": "",
           "title": {
            "standoff": 15
           },
           "zerolinecolor": "white",
           "zerolinewidth": 2
          },
          "yaxis": {
           "automargin": true,
           "gridcolor": "white",
           "linecolor": "white",
           "ticks": "",
           "title": {
            "standoff": 15
           },
           "zerolinecolor": "white",
           "zerolinewidth": 2
          }
         }
        },
        "title": {
         "font": {
          "color": "Black",
          "size": 38
         },
         "text": "Specific Heat on Melting Temperature"
        },
        "width": 800,
        "xaxis": {
         "gridwidth": 1.5,
         "tickfont": {
          "size": 24
         },
         "title": {
          "font": {
           "size": 36
          },
          "text": "Melting Temperature [K]"
         },
         "zeroline": false
        },
        "yaxis": {
         "gridwidth": 1.5,
         "tickfont": {
          "size": 24
         },
         "title": {
          "font": {
           "size": 36
          },
          "text": "Specific Heat [J/g°C]"
         },
         "zeroline": false
        }
       }
      },
      "text/html": [
       "<div>\n",
       "        \n",
       "        \n",
       "            <div id=\"6b35e272-5c9a-45b5-ba7d-0484035ed624\" class=\"plotly-graph-div\" style=\"height:800px; width:800px;\"></div>\n",
       "            <script type=\"text/javascript\">\n",
       "                require([\"plotly\"], function(Plotly) {\n",
       "                    window.PLOTLYENV=window.PLOTLYENV || {};\n",
       "                    \n",
       "                if (document.getElementById(\"6b35e272-5c9a-45b5-ba7d-0484035ed624\")) {\n",
       "                    Plotly.newPlot(\n",
       "                        '6b35e272-5c9a-45b5-ba7d-0484035ed624',\n",
       "                        [{\"marker\": {\"color\": [\"green\", \"green\", \"red\", \"orange\", \"green\", \"green\", \"green\", \"green\", \"green\", \"green\", \"red\", \"orange\", \"blue\", \"green\", \"red\", \"green\", \"green\", \"green\", \"red\", \"orange\", \"orange\", \"orange\", \"red\", \"red\", \"red\", \"red\", \"orange\", \"blue\", \"blue\", \"orange\", \"green\", \"green\", \"green\", \"green\", \"green\", \"green\", \"red\", \"blue\", \"orange\", \"orange\", \"red\", \"red\", \"orange\", \"orange\", \"blue\", \"blue\", \"blue\", \"orange\", \"green\", \"green\", \"green\", \"green\", \"green\", \"green\", \"red\", \"red\", \"orange\", \"red\", \"red\", \"orange\", \"orange\", \"blue\", \"blue\", \"blue\", \"green\", \"orange\", \"blue\", \"green\", \"green\", \"green\", \"green\", \"green\", \"green\", \"green\", \"green\", \"green\", \"green\", \"green\", \"green\", \"green\", \"red\", \"orange\", \"orange\", \"orange\", \"orange\", \"orange\", \"orange\", \"blue\", \"orange\", \"green\", \"blue\", \"green\", \"green\", \"green\", \"green\", \"green\", \"green\", \"green\", \"green\", \"green\", \"green\", \"green\", \"green\"], \"line\": {\"width\": 1}, \"size\": 14}, \"mode\": \"markers\", \"showlegend\": false, \"text\": [\"H\", \"He\", \"Li\", \"Be\", \"B\", \"C\", \"N\", \"O\", \"F\", \"Ne\", \"Na\", \"Mg\", \"Al\", \"Si\", \"P\", \"S\", \"Cl\", \"Ar\", \"K\", \"Ca\", \"Sc\", \"Ti\", \"V\", \"Cr\", \"Mn\", \"Fe\", \"Co\", \"Ni\", \"Cu\", \"Zn\", \"Ga\", \"Ge\", \"As\", \"Se\", \"Br\", \"Kr\", \"Rb\", \"Sr\", \"Y\", \"Zr\", \"Nb\", \"Mo\", \"Tc\", \"Ru\", \"Rh\", \"Pd\", \"Ag\", \"Cd\", \"In\", \"Sn\", \"Sb\", \"Te\", \"I\", \"Xe\", \"Cs\", \"Ba\", \"Hf\", \"Ta\", \"W\", \"Re\", \"Os\", \"Ir\", \"Pt\", \"Au\", \"Hg\", \"Tl\", \"Pb\", \"Bi\", \"Po\", \"At\", \"Rn\", \"Fr\", \"Ra\", \"Lr\", \"La\", \"Ce\", \"Pr\", \"Nd\", \"Pm\", \"Sm\", \"Eu\", \"Gd\", \"Tb\", \"Dy\", \"Ho\", \"Er\", \"Tm\", \"Yb\", \"Lu\", \"Ac\", \"Th\", \"Pa\", \"U\", \"Np\", \"Pu\", \"Am\", \"Cm\", \"Bk\", \"Cf\", \"Es\", \"Fm\", \"Md\", \"No\"], \"type\": \"scatter\", \"x\": [14.01, 0.95, 453.69, 1560.0, 2349.0, 3800.0, 63.05, 54.8, 53.53, 24.56, 370.87, 923.0, 933.47, 1687.0, 317.3, 388.36, 171.6, 83.8, 336.53, 1115.0, 1814.0, 1941.0, 2183.0, 2180.0, 1519.0, 1811.0, 1768.0, 1728.0, 1357.77, 692.68, 302.91, 1211.4, 1090.0, 494.0, 265.8, 115.79, 312.46, 1050.0, 1799.0, 2128.0, 2750.0, 2896.0, 2430.0, 2607.0, 2237.0, 1828.05, 1234.93, 594.22, 429.75, 505.08, 903.78, 722.66, 386.85, 161.4, 301.59, 1000.0, 2506.0, 3290.0, 3695.0, 3459.0, 3306.0, 2739.0, 2041.4, 1337.33, 234.32, 577.0, 600.61, 544.4, 527.0, 575.0, 202.0, \"maybe about 300 K\", 973.0, 1900.0, 1193.0, 1068.0, 1208.0, 1297.0, 1373.0, 1345.0, 1099.0, 1585.0, 1629.0, 1680.0, 1734.0, 1802.0, 1818.0, 1097.0, 1925.0, 1323.0, 2115.0, 1841.0, 1405.3, 910.0, 912.5, 1449.0, 1613.0, 1259.0, 1173.0, 1133.0, 1800.0, 1100.0, 1100.0], \"y\": [null, 5.188, 3.489, 1.824, 1.025, 0.711, null, null, null, 1.029, 1.222, 1.025, 0.9, 0.703, 0.757, 0.732, null, 0.138, 0.753, 0.653, 0.556, 0.523, 0.485, 0.488, 0.477, 0.443, 0.456, 0.443, 0.385, 0.388, 0.372, 0.322, 0.328, null, null, 0.247, 0.36, 0.301, 0.284, 0.281, 0.268, 0.251, 0.243, 0.238, 0.244, 0.244, 0.237, 0.232, 0.234, 0.222, 0.205, 0.201, null, 0.158, 0.241, 0.192, 0.146, 0.14, 0.133, 0.138, 0.131, 0.133, 0.133, 0.129, 0.138, 0.128, 0.159, 0.124, 0.125, null, 0.094, null, 0.12, null, 0.197, 0.205, 0.192, 0.205, 0.185, 0.18, 0.176, 0.23, 0.183, 0.173, 0.164, 0.168, 0.16, 0.145, 0.155, null, 0.113, 0.121, 0.115, null, null, null, null, null, null, null, null, null, null]}, {\"marker\": {\"color\": \"blue\", \"line\": {\"width\": 1}, \"size\": 14}, \"mode\": \"markers\", \"name\": \"FCC\", \"type\": \"scatter\", \"x\": [null], \"y\": [null]}, {\"marker\": {\"color\": \"red\", \"line\": {\"width\": 1}, \"size\": 14}, \"mode\": \"markers\", \"name\": \"BCC\", \"type\": \"scatter\", \"x\": [null], \"y\": [null]}, {\"marker\": {\"color\": \"orange\", \"line\": {\"width\": 1}, \"size\": 14}, \"mode\": \"markers\", \"name\": \"HCP\", \"type\": \"scatter\", \"x\": [null], \"y\": [null]}, {\"marker\": {\"color\": \"green\", \"line\": {\"width\": 1}, \"size\": 14}, \"mode\": \"markers\", \"name\": \"Other\", \"type\": \"scatter\", \"x\": [null], \"y\": [null]}],\n",
       "                        {\"font\": {\"family\": \"Arial\"}, \"height\": 800, \"hovermode\": \"closest\", \"legend\": {\"font\": {\"size\": 24}}, \"showlegend\": true, \"template\": {\"data\": {\"bar\": [{\"error_x\": {\"color\": \"#2a3f5f\"}, \"error_y\": {\"color\": \"#2a3f5f\"}, \"marker\": {\"line\": {\"color\": \"#E5ECF6\", \"width\": 0.5}}, \"type\": \"bar\"}], \"barpolar\": [{\"marker\": {\"line\": {\"color\": \"#E5ECF6\", \"width\": 0.5}}, \"type\": \"barpolar\"}], \"carpet\": [{\"aaxis\": {\"endlinecolor\": \"#2a3f5f\", \"gridcolor\": \"white\", \"linecolor\": \"white\", \"minorgridcolor\": \"white\", \"startlinecolor\": \"#2a3f5f\"}, \"baxis\": {\"endlinecolor\": \"#2a3f5f\", \"gridcolor\": \"white\", \"linecolor\": \"white\", \"minorgridcolor\": \"white\", \"startlinecolor\": \"#2a3f5f\"}, \"type\": \"carpet\"}], \"choropleth\": [{\"colorbar\": {\"outlinewidth\": 0, \"ticks\": \"\"}, \"type\": \"choropleth\"}], \"contour\": [{\"colorbar\": {\"outlinewidth\": 0, \"ticks\": \"\"}, \"colorscale\": [[0.0, \"#0d0887\"], [0.1111111111111111, \"#46039f\"], [0.2222222222222222, \"#7201a8\"], [0.3333333333333333, \"#9c179e\"], [0.4444444444444444, \"#bd3786\"], [0.5555555555555556, \"#d8576b\"], [0.6666666666666666, \"#ed7953\"], [0.7777777777777778, \"#fb9f3a\"], [0.8888888888888888, \"#fdca26\"], [1.0, \"#f0f921\"]], \"type\": \"contour\"}], \"contourcarpet\": [{\"colorbar\": {\"outlinewidth\": 0, \"ticks\": \"\"}, \"type\": \"contourcarpet\"}], \"heatmap\": [{\"colorbar\": {\"outlinewidth\": 0, \"ticks\": \"\"}, \"colorscale\": [[0.0, \"#0d0887\"], [0.1111111111111111, \"#46039f\"], [0.2222222222222222, \"#7201a8\"], [0.3333333333333333, \"#9c179e\"], [0.4444444444444444, \"#bd3786\"], [0.5555555555555556, \"#d8576b\"], [0.6666666666666666, \"#ed7953\"], [0.7777777777777778, \"#fb9f3a\"], [0.8888888888888888, \"#fdca26\"], [1.0, \"#f0f921\"]], \"type\": \"heatmap\"}], \"heatmapgl\": [{\"colorbar\": {\"outlinewidth\": 0, \"ticks\": \"\"}, \"colorscale\": [[0.0, \"#0d0887\"], [0.1111111111111111, \"#46039f\"], [0.2222222222222222, \"#7201a8\"], [0.3333333333333333, \"#9c179e\"], [0.4444444444444444, \"#bd3786\"], [0.5555555555555556, \"#d8576b\"], [0.6666666666666666, \"#ed7953\"], [0.7777777777777778, \"#fb9f3a\"], [0.8888888888888888, \"#fdca26\"], [1.0, \"#f0f921\"]], \"type\": \"heatmapgl\"}], \"histogram\": [{\"marker\": {\"colorbar\": {\"outlinewidth\": 0, \"ticks\": \"\"}}, \"type\": \"histogram\"}], \"histogram2d\": [{\"colorbar\": {\"outlinewidth\": 0, \"ticks\": \"\"}, \"colorscale\": [[0.0, \"#0d0887\"], [0.1111111111111111, \"#46039f\"], [0.2222222222222222, \"#7201a8\"], [0.3333333333333333, \"#9c179e\"], [0.4444444444444444, \"#bd3786\"], [0.5555555555555556, \"#d8576b\"], [0.6666666666666666, \"#ed7953\"], [0.7777777777777778, \"#fb9f3a\"], [0.8888888888888888, \"#fdca26\"], [1.0, \"#f0f921\"]], \"type\": \"histogram2d\"}], \"histogram2dcontour\": [{\"colorbar\": {\"outlinewidth\": 0, \"ticks\": \"\"}, \"colorscale\": [[0.0, \"#0d0887\"], [0.1111111111111111, \"#46039f\"], [0.2222222222222222, \"#7201a8\"], [0.3333333333333333, \"#9c179e\"], [0.4444444444444444, \"#bd3786\"], [0.5555555555555556, \"#d8576b\"], [0.6666666666666666, \"#ed7953\"], [0.7777777777777778, \"#fb9f3a\"], [0.8888888888888888, \"#fdca26\"], [1.0, \"#f0f921\"]], \"type\": \"histogram2dcontour\"}], \"mesh3d\": [{\"colorbar\": {\"outlinewidth\": 0, \"ticks\": \"\"}, \"type\": \"mesh3d\"}], \"parcoords\": [{\"line\": {\"colorbar\": {\"outlinewidth\": 0, \"ticks\": \"\"}}, \"type\": \"parcoords\"}], \"pie\": [{\"automargin\": true, \"type\": \"pie\"}], \"scatter\": [{\"marker\": {\"colorbar\": {\"outlinewidth\": 0, \"ticks\": \"\"}}, \"type\": \"scatter\"}], \"scatter3d\": [{\"line\": {\"colorbar\": {\"outlinewidth\": 0, \"ticks\": \"\"}}, \"marker\": {\"colorbar\": {\"outlinewidth\": 0, \"ticks\": \"\"}}, \"type\": \"scatter3d\"}], \"scattercarpet\": [{\"marker\": {\"colorbar\": {\"outlinewidth\": 0, \"ticks\": \"\"}}, \"type\": \"scattercarpet\"}], \"scattergeo\": [{\"marker\": {\"colorbar\": {\"outlinewidth\": 0, \"ticks\": \"\"}}, \"type\": \"scattergeo\"}], \"scattergl\": [{\"marker\": {\"colorbar\": {\"outlinewidth\": 0, \"ticks\": \"\"}}, \"type\": \"scattergl\"}], \"scattermapbox\": [{\"marker\": {\"colorbar\": {\"outlinewidth\": 0, \"ticks\": \"\"}}, \"type\": \"scattermapbox\"}], \"scatterpolar\": [{\"marker\": {\"colorbar\": {\"outlinewidth\": 0, \"ticks\": \"\"}}, \"type\": \"scatterpolar\"}], \"scatterpolargl\": [{\"marker\": {\"colorbar\": {\"outlinewidth\": 0, \"ticks\": \"\"}}, \"type\": \"scatterpolargl\"}], \"scatterternary\": [{\"marker\": {\"colorbar\": {\"outlinewidth\": 0, \"ticks\": \"\"}}, \"type\": \"scatterternary\"}], \"surface\": [{\"colorbar\": {\"outlinewidth\": 0, \"ticks\": \"\"}, \"colorscale\": [[0.0, \"#0d0887\"], [0.1111111111111111, \"#46039f\"], [0.2222222222222222, \"#7201a8\"], [0.3333333333333333, \"#9c179e\"], [0.4444444444444444, \"#bd3786\"], [0.5555555555555556, \"#d8576b\"], [0.6666666666666666, \"#ed7953\"], [0.7777777777777778, \"#fb9f3a\"], [0.8888888888888888, \"#fdca26\"], [1.0, \"#f0f921\"]], \"type\": \"surface\"}], \"table\": [{\"cells\": {\"fill\": {\"color\": \"#EBF0F8\"}, \"line\": {\"color\": \"white\"}}, \"header\": {\"fill\": {\"color\": \"#C8D4E3\"}, \"line\": {\"color\": \"white\"}}, \"type\": \"table\"}]}, \"layout\": {\"annotationdefaults\": {\"arrowcolor\": \"#2a3f5f\", \"arrowhead\": 0, \"arrowwidth\": 1}, \"coloraxis\": {\"colorbar\": {\"outlinewidth\": 0, \"ticks\": \"\"}}, \"colorscale\": {\"diverging\": [[0, \"#8e0152\"], [0.1, \"#c51b7d\"], [0.2, \"#de77ae\"], [0.3, \"#f1b6da\"], [0.4, \"#fde0ef\"], [0.5, \"#f7f7f7\"], [0.6, \"#e6f5d0\"], [0.7, \"#b8e186\"], [0.8, \"#7fbc41\"], [0.9, \"#4d9221\"], [1, \"#276419\"]], \"sequential\": [[0.0, \"#0d0887\"], [0.1111111111111111, \"#46039f\"], [0.2222222222222222, \"#7201a8\"], [0.3333333333333333, \"#9c179e\"], [0.4444444444444444, \"#bd3786\"], [0.5555555555555556, \"#d8576b\"], [0.6666666666666666, \"#ed7953\"], [0.7777777777777778, \"#fb9f3a\"], [0.8888888888888888, \"#fdca26\"], [1.0, \"#f0f921\"]], \"sequentialminus\": [[0.0, \"#0d0887\"], [0.1111111111111111, \"#46039f\"], [0.2222222222222222, \"#7201a8\"], [0.3333333333333333, \"#9c179e\"], [0.4444444444444444, \"#bd3786\"], [0.5555555555555556, \"#d8576b\"], [0.6666666666666666, \"#ed7953\"], [0.7777777777777778, \"#fb9f3a\"], [0.8888888888888888, \"#fdca26\"], [1.0, \"#f0f921\"]]}, \"colorway\": [\"#636efa\", \"#EF553B\", \"#00cc96\", \"#ab63fa\", \"#FFA15A\", \"#19d3f3\", \"#FF6692\", \"#B6E880\", \"#FF97FF\", \"#FECB52\"], \"font\": {\"color\": \"#2a3f5f\"}, \"geo\": {\"bgcolor\": \"white\", \"lakecolor\": \"white\", \"landcolor\": \"#E5ECF6\", \"showlakes\": true, \"showland\": true, \"subunitcolor\": \"white\"}, \"hoverlabel\": {\"align\": \"left\"}, \"hovermode\": \"closest\", \"mapbox\": {\"style\": \"light\"}, \"paper_bgcolor\": \"white\", \"plot_bgcolor\": \"#E5ECF6\", \"polar\": {\"angularaxis\": {\"gridcolor\": \"white\", \"linecolor\": \"white\", \"ticks\": \"\"}, \"bgcolor\": \"#E5ECF6\", \"radialaxis\": {\"gridcolor\": \"white\", \"linecolor\": \"white\", \"ticks\": \"\"}}, \"scene\": {\"xaxis\": {\"backgroundcolor\": \"#E5ECF6\", \"gridcolor\": \"white\", \"gridwidth\": 2, \"linecolor\": \"white\", \"showbackground\": true, \"ticks\": \"\", \"zerolinecolor\": \"white\"}, \"yaxis\": {\"backgroundcolor\": \"#E5ECF6\", \"gridcolor\": \"white\", \"gridwidth\": 2, \"linecolor\": \"white\", \"showbackground\": true, \"ticks\": \"\", \"zerolinecolor\": \"white\"}, \"zaxis\": {\"backgroundcolor\": \"#E5ECF6\", \"gridcolor\": \"white\", \"gridwidth\": 2, \"linecolor\": \"white\", \"showbackground\": true, \"ticks\": \"\", \"zerolinecolor\": \"white\"}}, \"shapedefaults\": {\"line\": {\"color\": \"#2a3f5f\"}}, \"ternary\": {\"aaxis\": {\"gridcolor\": \"white\", \"linecolor\": \"white\", \"ticks\": \"\"}, \"baxis\": {\"gridcolor\": \"white\", \"linecolor\": \"white\", \"ticks\": \"\"}, \"bgcolor\": \"#E5ECF6\", \"caxis\": {\"gridcolor\": \"white\", \"linecolor\": \"white\", \"ticks\": \"\"}}, \"title\": {\"x\": 0.05}, \"xaxis\": {\"automargin\": true, \"gridcolor\": \"white\", \"linecolor\": \"white\", \"ticks\": \"\", \"title\": {\"standoff\": 15}, \"zerolinecolor\": \"white\", \"zerolinewidth\": 2}, \"yaxis\": {\"automargin\": true, \"gridcolor\": \"white\", \"linecolor\": \"white\", \"ticks\": \"\", \"title\": {\"standoff\": 15}, \"zerolinecolor\": \"white\", \"zerolinewidth\": 2}}}, \"title\": {\"font\": {\"color\": \"Black\", \"size\": 38}, \"text\": \"Specific Heat on Melting Temperature\"}, \"width\": 800, \"xaxis\": {\"gridwidth\": 1.5, \"tickfont\": {\"size\": 24}, \"title\": {\"font\": {\"size\": 36}, \"text\": \"Melting Temperature [K]\"}, \"zeroline\": false}, \"yaxis\": {\"gridwidth\": 1.5, \"tickfont\": {\"size\": 24}, \"title\": {\"font\": {\"size\": 36}, \"text\": \"Specific Heat [J/g\\u00b0C]\"}, \"zeroline\": false}},\n",
       "                        {\"responsive\": true}\n",
       "                    ).then(function(){\n",
       "                            \n",
       "var gd = document.getElementById('6b35e272-5c9a-45b5-ba7d-0484035ed624');\n",
       "var x = new MutationObserver(function (mutations, observer) {{\n",
       "        var display = window.getComputedStyle(gd).display;\n",
       "        if (!display || display === 'none') {{\n",
       "            console.log([gd, 'removed!']);\n",
       "            Plotly.purge(gd);\n",
       "            observer.disconnect();\n",
       "        }}\n",
       "}});\n",
       "\n",
       "// Listen for the removal of the full notebook cells\n",
       "var notebookContainer = gd.closest('#notebook-container');\n",
       "if (notebookContainer) {{\n",
       "    x.observe(notebookContainer, {childList: true});\n",
       "}}\n",
       "\n",
       "// Listen for the clearing of the current output cell\n",
       "var outputEl = gd.closest('.output');\n",
       "if (outputEl) {{\n",
       "    x.observe(outputEl, {childList: true});\n",
       "}}\n",
       "\n",
       "                        })\n",
       "                };\n",
       "                });\n",
       "            </script>\n",
       "        </div>"
      ]
     },
     "metadata": {},
     "output_type": "display_data"
    }
   ],
   "source": [
    "layout0= go.Layout(title = \"Specific Heat on Melting Temperature\", hovermode= 'closest', width = 800, height=800, showlegend=True,  # Hovermode establishes the way the labels that appear when you hover are arranged # Establishing a square plot width=height\n",
    "    xaxis= dict(title=go.layout.xaxis.Title(text='Melting Temperature [K]', font=dict(size=36)), zeroline= False, gridwidth= 1.5, tickfont=dict(size=24)), # Axis Titles. Removing the X-axis Mark. Adding a Grid\n",
    "    yaxis= dict(title=go.layout.yaxis.Title(text='Specific Heat [J/g°C]', font=dict(size=36)), zeroline= False, gridwidth= 1.5, tickfont=dict(size=24)), # Axis Titles. Removing the Y-axis Mark. Adding a Grid\n",
    "    legend=dict(font=dict(size=24))) # Adding a legend\n",
    "\n",
    "# Trace\n",
    "\n",
    "trace0 = go.Scatter(x = melting_temperature,y = specific_heat, mode = 'markers',\n",
    "    marker= dict(size= 14, line= dict(width=1), color=colors), # We add a size, a border and our custom colors to the markers\n",
    "    text= sample, # This attribute (Text) labels each point to this list, which contains our elements in the same indexes as our properties\n",
    "showlegend = False)\n",
    "\n",
    "\n",
    "# Empty Traces for Legend\n",
    "legend_plot_FCC = go.Scatter(x=[None], y=[None], mode='markers', marker=dict(size=14,  line= dict(width=1),color='blue'), name = 'FCC')\n",
    "legend_plot_BCC = go.Scatter(x=[None], y=[None], mode='markers', marker=dict(size=14,  line= dict(width=1),color='red'), name = 'BCC')\n",
    "legend_plot_HCP = go.Scatter(x=[None], y=[None], mode='markers', marker=dict(size=14,  line= dict(width=1),color='orange'), name = 'HCP')\n",
    "legend_plot_Other = go.Scatter(x=[None], y=[None], mode='markers', marker=dict(size=14, line= dict(width=1),color='green'), name = 'Other')\n",
    "\n",
    "\n",
    "data = [trace0, legend_plot_FCC, legend_plot_BCC, legend_plot_HCP, legend_plot_Other]\n",
    "\n",
    "fig= go.Figure(data, layout=layout0)\n",
    "fig.update_layout(\n",
    "    font_family=\"Arial\",\n",
    "    title_font_color=\"Black\",\n",
    "    title_font_size= 38\n",
    ")\n",
    "iplot(fig)"
   ]
  },
  {
   "cell_type": "code",
   "execution_count": 100,
   "metadata": {},
   "outputs": [
    {
     "data": {
      "application/vnd.plotly.v1+json": {
       "config": {
        "linkText": "Export to plot.ly",
        "plotlyServerURL": "https://plot.ly",
        "showLink": false
       },
       "data": [
        {
         "marker": {
          "color": [
           "green",
           "green",
           "red",
           "orange",
           "green",
           "green",
           "green",
           "green",
           "green",
           "green",
           "red",
           "orange",
           "blue",
           "green",
           "red",
           "green",
           "green",
           "green",
           "red",
           "orange",
           "orange",
           "orange",
           "red",
           "red",
           "red",
           "red",
           "orange",
           "blue",
           "blue",
           "orange",
           "green",
           "green",
           "green",
           "green",
           "green",
           "green",
           "red",
           "blue",
           "orange",
           "orange",
           "red",
           "red",
           "orange",
           "orange",
           "blue",
           "blue",
           "blue",
           "orange",
           "green",
           "green",
           "green",
           "green",
           "green",
           "green",
           "red",
           "red",
           "orange",
           "red",
           "red",
           "orange",
           "orange",
           "blue",
           "blue",
           "blue",
           "green",
           "orange",
           "blue",
           "green",
           "green",
           "green",
           "green",
           "green",
           "green",
           "green",
           "green",
           "green",
           "green",
           "green",
           "green",
           "green",
           "red",
           "orange",
           "orange",
           "orange",
           "orange",
           "orange",
           "orange",
           "blue",
           "orange",
           "green",
           "blue",
           "green",
           "green",
           "green",
           "green",
           "green",
           "green",
           "green",
           "green",
           "green",
           "green",
           "green",
           "green"
          ],
          "line": {
           "width": 1
          },
          "size": 14
         },
         "mode": "markers",
         "showlegend": false,
         "text": [
          "H",
          "He",
          "Li",
          "Be",
          "B",
          "C",
          "N",
          "O",
          "F",
          "Ne",
          "Na",
          "Mg",
          "Al",
          "Si",
          "P",
          "S",
          "Cl",
          "Ar",
          "K",
          "Ca",
          "Sc",
          "Ti",
          "V",
          "Cr",
          "Mn",
          "Fe",
          "Co",
          "Ni",
          "Cu",
          "Zn",
          "Ga",
          "Ge",
          "As",
          "Se",
          "Br",
          "Kr",
          "Rb",
          "Sr",
          "Y",
          "Zr",
          "Nb",
          "Mo",
          "Tc",
          "Ru",
          "Rh",
          "Pd",
          "Ag",
          "Cd",
          "In",
          "Sn",
          "Sb",
          "Te",
          "I",
          "Xe",
          "Cs",
          "Ba",
          "Hf",
          "Ta",
          "W",
          "Re",
          "Os",
          "Ir",
          "Pt",
          "Au",
          "Hg",
          "Tl",
          "Pb",
          "Bi",
          "Po",
          "At",
          "Rn",
          "Fr",
          "Ra",
          "Lr",
          "La",
          "Ce",
          "Pr",
          "Nd",
          "Pm",
          "Sm",
          "Eu",
          "Gd",
          "Tb",
          "Dy",
          "Ho",
          "Er",
          "Tm",
          "Yb",
          "Lu",
          "Ac",
          "Th",
          "Pa",
          "U",
          "Np",
          "Pu",
          "Am",
          "Cm",
          "Bk",
          "Cf",
          "Es",
          "Fm",
          "Md",
          "No"
         ],
         "type": "scatter",
         "x": [
          14.01,
          0.95,
          453.69,
          1560,
          2349,
          3800,
          63.05,
          54.8,
          53.53,
          24.56,
          370.87,
          923,
          933.47,
          1687,
          317.3,
          388.36,
          171.6,
          83.8,
          336.53,
          1115,
          1814,
          1941,
          2183,
          2180,
          1519,
          1811,
          1768,
          1728,
          1357.77,
          692.68,
          302.91,
          1211.4,
          1090,
          494,
          265.8,
          115.79,
          312.46,
          1050,
          1799,
          2128,
          2750,
          2896,
          2430,
          2607,
          2237,
          1828.05,
          1234.93,
          594.22,
          429.75,
          505.08,
          903.78,
          722.66,
          386.85,
          161.4,
          301.59,
          1000,
          2506,
          3290,
          3695,
          3459,
          3306,
          2739,
          2041.4,
          1337.33,
          234.32,
          577,
          600.61,
          544.4,
          527,
          575,
          202,
          "maybe about 300 K",
          973,
          1900,
          1193,
          1068,
          1208,
          1297,
          1373,
          1345,
          1099,
          1585,
          1629,
          1680,
          1734,
          1802,
          1818,
          1097,
          1925,
          1323,
          2115,
          1841,
          1405.3,
          910,
          912.5,
          1449,
          1613,
          1259,
          1173,
          1133,
          1800,
          1100,
          1100
         ],
         "y": [
          0.25,
          null,
          1.45,
          1.05,
          0.85,
          0.7,
          0.65,
          0.6,
          0.5,
          null,
          1.8,
          1.5,
          1.25,
          1.1,
          1,
          1,
          1,
          0.71,
          2.2,
          1.8,
          1.6,
          1.4,
          1.35,
          1.4,
          1.4,
          1.4,
          1.35,
          1.35,
          1.35,
          1.35,
          1.3,
          1.25,
          1.15,
          1.15,
          1.15,
          null,
          2.35,
          2,
          1.8,
          1.55,
          1.45,
          1.45,
          1.35,
          1.3,
          1.35,
          1.4,
          1.6,
          1.55,
          1.55,
          1.45,
          1.45,
          1.4,
          1.4,
          null,
          2.6,
          2.15,
          1.55,
          1.45,
          1.35,
          1.35,
          1.3,
          1.35,
          1.35,
          1.35,
          1.5,
          1.9,
          1.8,
          1.6,
          1.9,
          null,
          null,
          null,
          2.15,
          null,
          1.95,
          1.85,
          1.85,
          1.85,
          1.85,
          1.85,
          1.85,
          1.8,
          1.75,
          1.75,
          1.75,
          1.75,
          1.75,
          1.75,
          1.75,
          1.95,
          1.8,
          1.8,
          1.75,
          1.75,
          1.75,
          1.75,
          null,
          null,
          null,
          null,
          null,
          null,
          null
         ]
        },
        {
         "marker": {
          "color": "blue",
          "line": {
           "width": 1
          },
          "size": 14
         },
         "mode": "markers",
         "name": "FCC",
         "type": "scatter",
         "x": [
          null
         ],
         "y": [
          null
         ]
        },
        {
         "marker": {
          "color": "red",
          "line": {
           "width": 1
          },
          "size": 14
         },
         "mode": "markers",
         "name": "BCC",
         "type": "scatter",
         "x": [
          null
         ],
         "y": [
          null
         ]
        },
        {
         "marker": {
          "color": "orange",
          "line": {
           "width": 1
          },
          "size": 14
         },
         "mode": "markers",
         "name": "HCP",
         "type": "scatter",
         "x": [
          null
         ],
         "y": [
          null
         ]
        },
        {
         "marker": {
          "color": "green",
          "line": {
           "width": 1
          },
          "size": 14
         },
         "mode": "markers",
         "name": "Other",
         "type": "scatter",
         "x": [
          null
         ],
         "y": [
          null
         ]
        }
       ],
       "layout": {
        "font": {
         "family": "Arial"
        },
        "height": 800,
        "hovermode": "closest",
        "legend": {
         "font": {
          "size": 24
         }
        },
        "showlegend": true,
        "template": {
         "data": {
          "bar": [
           {
            "error_x": {
             "color": "#2a3f5f"
            },
            "error_y": {
             "color": "#2a3f5f"
            },
            "marker": {
             "line": {
              "color": "#E5ECF6",
              "width": 0.5
             }
            },
            "type": "bar"
           }
          ],
          "barpolar": [
           {
            "marker": {
             "line": {
              "color": "#E5ECF6",
              "width": 0.5
             }
            },
            "type": "barpolar"
           }
          ],
          "carpet": [
           {
            "aaxis": {
             "endlinecolor": "#2a3f5f",
             "gridcolor": "white",
             "linecolor": "white",
             "minorgridcolor": "white",
             "startlinecolor": "#2a3f5f"
            },
            "baxis": {
             "endlinecolor": "#2a3f5f",
             "gridcolor": "white",
             "linecolor": "white",
             "minorgridcolor": "white",
             "startlinecolor": "#2a3f5f"
            },
            "type": "carpet"
           }
          ],
          "choropleth": [
           {
            "colorbar": {
             "outlinewidth": 0,
             "ticks": ""
            },
            "type": "choropleth"
           }
          ],
          "contour": [
           {
            "colorbar": {
             "outlinewidth": 0,
             "ticks": ""
            },
            "colorscale": [
             [
              0,
              "#0d0887"
             ],
             [
              0.1111111111111111,
              "#46039f"
             ],
             [
              0.2222222222222222,
              "#7201a8"
             ],
             [
              0.3333333333333333,
              "#9c179e"
             ],
             [
              0.4444444444444444,
              "#bd3786"
             ],
             [
              0.5555555555555556,
              "#d8576b"
             ],
             [
              0.6666666666666666,
              "#ed7953"
             ],
             [
              0.7777777777777778,
              "#fb9f3a"
             ],
             [
              0.8888888888888888,
              "#fdca26"
             ],
             [
              1,
              "#f0f921"
             ]
            ],
            "type": "contour"
           }
          ],
          "contourcarpet": [
           {
            "colorbar": {
             "outlinewidth": 0,
             "ticks": ""
            },
            "type": "contourcarpet"
           }
          ],
          "heatmap": [
           {
            "colorbar": {
             "outlinewidth": 0,
             "ticks": ""
            },
            "colorscale": [
             [
              0,
              "#0d0887"
             ],
             [
              0.1111111111111111,
              "#46039f"
             ],
             [
              0.2222222222222222,
              "#7201a8"
             ],
             [
              0.3333333333333333,
              "#9c179e"
             ],
             [
              0.4444444444444444,
              "#bd3786"
             ],
             [
              0.5555555555555556,
              "#d8576b"
             ],
             [
              0.6666666666666666,
              "#ed7953"
             ],
             [
              0.7777777777777778,
              "#fb9f3a"
             ],
             [
              0.8888888888888888,
              "#fdca26"
             ],
             [
              1,
              "#f0f921"
             ]
            ],
            "type": "heatmap"
           }
          ],
          "heatmapgl": [
           {
            "colorbar": {
             "outlinewidth": 0,
             "ticks": ""
            },
            "colorscale": [
             [
              0,
              "#0d0887"
             ],
             [
              0.1111111111111111,
              "#46039f"
             ],
             [
              0.2222222222222222,
              "#7201a8"
             ],
             [
              0.3333333333333333,
              "#9c179e"
             ],
             [
              0.4444444444444444,
              "#bd3786"
             ],
             [
              0.5555555555555556,
              "#d8576b"
             ],
             [
              0.6666666666666666,
              "#ed7953"
             ],
             [
              0.7777777777777778,
              "#fb9f3a"
             ],
             [
              0.8888888888888888,
              "#fdca26"
             ],
             [
              1,
              "#f0f921"
             ]
            ],
            "type": "heatmapgl"
           }
          ],
          "histogram": [
           {
            "marker": {
             "colorbar": {
              "outlinewidth": 0,
              "ticks": ""
             }
            },
            "type": "histogram"
           }
          ],
          "histogram2d": [
           {
            "colorbar": {
             "outlinewidth": 0,
             "ticks": ""
            },
            "colorscale": [
             [
              0,
              "#0d0887"
             ],
             [
              0.1111111111111111,
              "#46039f"
             ],
             [
              0.2222222222222222,
              "#7201a8"
             ],
             [
              0.3333333333333333,
              "#9c179e"
             ],
             [
              0.4444444444444444,
              "#bd3786"
             ],
             [
              0.5555555555555556,
              "#d8576b"
             ],
             [
              0.6666666666666666,
              "#ed7953"
             ],
             [
              0.7777777777777778,
              "#fb9f3a"
             ],
             [
              0.8888888888888888,
              "#fdca26"
             ],
             [
              1,
              "#f0f921"
             ]
            ],
            "type": "histogram2d"
           }
          ],
          "histogram2dcontour": [
           {
            "colorbar": {
             "outlinewidth": 0,
             "ticks": ""
            },
            "colorscale": [
             [
              0,
              "#0d0887"
             ],
             [
              0.1111111111111111,
              "#46039f"
             ],
             [
              0.2222222222222222,
              "#7201a8"
             ],
             [
              0.3333333333333333,
              "#9c179e"
             ],
             [
              0.4444444444444444,
              "#bd3786"
             ],
             [
              0.5555555555555556,
              "#d8576b"
             ],
             [
              0.6666666666666666,
              "#ed7953"
             ],
             [
              0.7777777777777778,
              "#fb9f3a"
             ],
             [
              0.8888888888888888,
              "#fdca26"
             ],
             [
              1,
              "#f0f921"
             ]
            ],
            "type": "histogram2dcontour"
           }
          ],
          "mesh3d": [
           {
            "colorbar": {
             "outlinewidth": 0,
             "ticks": ""
            },
            "type": "mesh3d"
           }
          ],
          "parcoords": [
           {
            "line": {
             "colorbar": {
              "outlinewidth": 0,
              "ticks": ""
             }
            },
            "type": "parcoords"
           }
          ],
          "pie": [
           {
            "automargin": true,
            "type": "pie"
           }
          ],
          "scatter": [
           {
            "marker": {
             "colorbar": {
              "outlinewidth": 0,
              "ticks": ""
             }
            },
            "type": "scatter"
           }
          ],
          "scatter3d": [
           {
            "line": {
             "colorbar": {
              "outlinewidth": 0,
              "ticks": ""
             }
            },
            "marker": {
             "colorbar": {
              "outlinewidth": 0,
              "ticks": ""
             }
            },
            "type": "scatter3d"
           }
          ],
          "scattercarpet": [
           {
            "marker": {
             "colorbar": {
              "outlinewidth": 0,
              "ticks": ""
             }
            },
            "type": "scattercarpet"
           }
          ],
          "scattergeo": [
           {
            "marker": {
             "colorbar": {
              "outlinewidth": 0,
              "ticks": ""
             }
            },
            "type": "scattergeo"
           }
          ],
          "scattergl": [
           {
            "marker": {
             "colorbar": {
              "outlinewidth": 0,
              "ticks": ""
             }
            },
            "type": "scattergl"
           }
          ],
          "scattermapbox": [
           {
            "marker": {
             "colorbar": {
              "outlinewidth": 0,
              "ticks": ""
             }
            },
            "type": "scattermapbox"
           }
          ],
          "scatterpolar": [
           {
            "marker": {
             "colorbar": {
              "outlinewidth": 0,
              "ticks": ""
             }
            },
            "type": "scatterpolar"
           }
          ],
          "scatterpolargl": [
           {
            "marker": {
             "colorbar": {
              "outlinewidth": 0,
              "ticks": ""
             }
            },
            "type": "scatterpolargl"
           }
          ],
          "scatterternary": [
           {
            "marker": {
             "colorbar": {
              "outlinewidth": 0,
              "ticks": ""
             }
            },
            "type": "scatterternary"
           }
          ],
          "surface": [
           {
            "colorbar": {
             "outlinewidth": 0,
             "ticks": ""
            },
            "colorscale": [
             [
              0,
              "#0d0887"
             ],
             [
              0.1111111111111111,
              "#46039f"
             ],
             [
              0.2222222222222222,
              "#7201a8"
             ],
             [
              0.3333333333333333,
              "#9c179e"
             ],
             [
              0.4444444444444444,
              "#bd3786"
             ],
             [
              0.5555555555555556,
              "#d8576b"
             ],
             [
              0.6666666666666666,
              "#ed7953"
             ],
             [
              0.7777777777777778,
              "#fb9f3a"
             ],
             [
              0.8888888888888888,
              "#fdca26"
             ],
             [
              1,
              "#f0f921"
             ]
            ],
            "type": "surface"
           }
          ],
          "table": [
           {
            "cells": {
             "fill": {
              "color": "#EBF0F8"
             },
             "line": {
              "color": "white"
             }
            },
            "header": {
             "fill": {
              "color": "#C8D4E3"
             },
             "line": {
              "color": "white"
             }
            },
            "type": "table"
           }
          ]
         },
         "layout": {
          "annotationdefaults": {
           "arrowcolor": "#2a3f5f",
           "arrowhead": 0,
           "arrowwidth": 1
          },
          "coloraxis": {
           "colorbar": {
            "outlinewidth": 0,
            "ticks": ""
           }
          },
          "colorscale": {
           "diverging": [
            [
             0,
             "#8e0152"
            ],
            [
             0.1,
             "#c51b7d"
            ],
            [
             0.2,
             "#de77ae"
            ],
            [
             0.3,
             "#f1b6da"
            ],
            [
             0.4,
             "#fde0ef"
            ],
            [
             0.5,
             "#f7f7f7"
            ],
            [
             0.6,
             "#e6f5d0"
            ],
            [
             0.7,
             "#b8e186"
            ],
            [
             0.8,
             "#7fbc41"
            ],
            [
             0.9,
             "#4d9221"
            ],
            [
             1,
             "#276419"
            ]
           ],
           "sequential": [
            [
             0,
             "#0d0887"
            ],
            [
             0.1111111111111111,
             "#46039f"
            ],
            [
             0.2222222222222222,
             "#7201a8"
            ],
            [
             0.3333333333333333,
             "#9c179e"
            ],
            [
             0.4444444444444444,
             "#bd3786"
            ],
            [
             0.5555555555555556,
             "#d8576b"
            ],
            [
             0.6666666666666666,
             "#ed7953"
            ],
            [
             0.7777777777777778,
             "#fb9f3a"
            ],
            [
             0.8888888888888888,
             "#fdca26"
            ],
            [
             1,
             "#f0f921"
            ]
           ],
           "sequentialminus": [
            [
             0,
             "#0d0887"
            ],
            [
             0.1111111111111111,
             "#46039f"
            ],
            [
             0.2222222222222222,
             "#7201a8"
            ],
            [
             0.3333333333333333,
             "#9c179e"
            ],
            [
             0.4444444444444444,
             "#bd3786"
            ],
            [
             0.5555555555555556,
             "#d8576b"
            ],
            [
             0.6666666666666666,
             "#ed7953"
            ],
            [
             0.7777777777777778,
             "#fb9f3a"
            ],
            [
             0.8888888888888888,
             "#fdca26"
            ],
            [
             1,
             "#f0f921"
            ]
           ]
          },
          "colorway": [
           "#636efa",
           "#EF553B",
           "#00cc96",
           "#ab63fa",
           "#FFA15A",
           "#19d3f3",
           "#FF6692",
           "#B6E880",
           "#FF97FF",
           "#FECB52"
          ],
          "font": {
           "color": "#2a3f5f"
          },
          "geo": {
           "bgcolor": "white",
           "lakecolor": "white",
           "landcolor": "#E5ECF6",
           "showlakes": true,
           "showland": true,
           "subunitcolor": "white"
          },
          "hoverlabel": {
           "align": "left"
          },
          "hovermode": "closest",
          "mapbox": {
           "style": "light"
          },
          "paper_bgcolor": "white",
          "plot_bgcolor": "#E5ECF6",
          "polar": {
           "angularaxis": {
            "gridcolor": "white",
            "linecolor": "white",
            "ticks": ""
           },
           "bgcolor": "#E5ECF6",
           "radialaxis": {
            "gridcolor": "white",
            "linecolor": "white",
            "ticks": ""
           }
          },
          "scene": {
           "xaxis": {
            "backgroundcolor": "#E5ECF6",
            "gridcolor": "white",
            "gridwidth": 2,
            "linecolor": "white",
            "showbackground": true,
            "ticks": "",
            "zerolinecolor": "white"
           },
           "yaxis": {
            "backgroundcolor": "#E5ECF6",
            "gridcolor": "white",
            "gridwidth": 2,
            "linecolor": "white",
            "showbackground": true,
            "ticks": "",
            "zerolinecolor": "white"
           },
           "zaxis": {
            "backgroundcolor": "#E5ECF6",
            "gridcolor": "white",
            "gridwidth": 2,
            "linecolor": "white",
            "showbackground": true,
            "ticks": "",
            "zerolinecolor": "white"
           }
          },
          "shapedefaults": {
           "line": {
            "color": "#2a3f5f"
           }
          },
          "ternary": {
           "aaxis": {
            "gridcolor": "white",
            "linecolor": "white",
            "ticks": ""
           },
           "baxis": {
            "gridcolor": "white",
            "linecolor": "white",
            "ticks": ""
           },
           "bgcolor": "#E5ECF6",
           "caxis": {
            "gridcolor": "white",
            "linecolor": "white",
            "ticks": ""
           }
          },
          "title": {
           "x": 0.05
          },
          "xaxis": {
           "automargin": true,
           "gridcolor": "white",
           "linecolor": "white",
           "ticks": "",
           "title": {
            "standoff": 15
           },
           "zerolinecolor": "white",
           "zerolinewidth": 2
          },
          "yaxis": {
           "automargin": true,
           "gridcolor": "white",
           "linecolor": "white",
           "ticks": "",
           "title": {
            "standoff": 15
           },
           "zerolinecolor": "white",
           "zerolinewidth": 2
          }
         }
        },
        "title": {
         "font": {
          "color": "Black",
          "size": 38
         },
         "text": "Atomic Radius on Melting Temperature"
        },
        "width": 800,
        "xaxis": {
         "gridwidth": 1,
         "tickfont": {
          "size": 18
         },
         "title": {
          "font": {
           "size": 24
          },
          "text": "Melting Temperature [K]"
         },
         "zeroline": false
        },
        "yaxis": {
         "gridwidth": 1,
         "tickfont": {
          "size": 18
         },
         "title": {
          "font": {
           "size": 24
          },
          "text": "Atomic Radius [10<sup>2</sup>pm]"
         },
         "zeroline": false
        }
       }
      },
      "text/html": [
       "<div>\n",
       "        \n",
       "        \n",
       "            <div id=\"99396679-daa8-4411-8d32-d60fe23ba058\" class=\"plotly-graph-div\" style=\"height:800px; width:800px;\"></div>\n",
       "            <script type=\"text/javascript\">\n",
       "                require([\"plotly\"], function(Plotly) {\n",
       "                    window.PLOTLYENV=window.PLOTLYENV || {};\n",
       "                    \n",
       "                if (document.getElementById(\"99396679-daa8-4411-8d32-d60fe23ba058\")) {\n",
       "                    Plotly.newPlot(\n",
       "                        '99396679-daa8-4411-8d32-d60fe23ba058',\n",
       "                        [{\"marker\": {\"color\": [\"green\", \"green\", \"red\", \"orange\", \"green\", \"green\", \"green\", \"green\", \"green\", \"green\", \"red\", \"orange\", \"blue\", \"green\", \"red\", \"green\", \"green\", \"green\", \"red\", \"orange\", \"orange\", \"orange\", \"red\", \"red\", \"red\", \"red\", \"orange\", \"blue\", \"blue\", \"orange\", \"green\", \"green\", \"green\", \"green\", \"green\", \"green\", \"red\", \"blue\", \"orange\", \"orange\", \"red\", \"red\", \"orange\", \"orange\", \"blue\", \"blue\", \"blue\", \"orange\", \"green\", \"green\", \"green\", \"green\", \"green\", \"green\", \"red\", \"red\", \"orange\", \"red\", \"red\", \"orange\", \"orange\", \"blue\", \"blue\", \"blue\", \"green\", \"orange\", \"blue\", \"green\", \"green\", \"green\", \"green\", \"green\", \"green\", \"green\", \"green\", \"green\", \"green\", \"green\", \"green\", \"green\", \"red\", \"orange\", \"orange\", \"orange\", \"orange\", \"orange\", \"orange\", \"blue\", \"orange\", \"green\", \"blue\", \"green\", \"green\", \"green\", \"green\", \"green\", \"green\", \"green\", \"green\", \"green\", \"green\", \"green\", \"green\"], \"line\": {\"width\": 1}, \"size\": 14}, \"mode\": \"markers\", \"showlegend\": false, \"text\": [\"H\", \"He\", \"Li\", \"Be\", \"B\", \"C\", \"N\", \"O\", \"F\", \"Ne\", \"Na\", \"Mg\", \"Al\", \"Si\", \"P\", \"S\", \"Cl\", \"Ar\", \"K\", \"Ca\", \"Sc\", \"Ti\", \"V\", \"Cr\", \"Mn\", \"Fe\", \"Co\", \"Ni\", \"Cu\", \"Zn\", \"Ga\", \"Ge\", \"As\", \"Se\", \"Br\", \"Kr\", \"Rb\", \"Sr\", \"Y\", \"Zr\", \"Nb\", \"Mo\", \"Tc\", \"Ru\", \"Rh\", \"Pd\", \"Ag\", \"Cd\", \"In\", \"Sn\", \"Sb\", \"Te\", \"I\", \"Xe\", \"Cs\", \"Ba\", \"Hf\", \"Ta\", \"W\", \"Re\", \"Os\", \"Ir\", \"Pt\", \"Au\", \"Hg\", \"Tl\", \"Pb\", \"Bi\", \"Po\", \"At\", \"Rn\", \"Fr\", \"Ra\", \"Lr\", \"La\", \"Ce\", \"Pr\", \"Nd\", \"Pm\", \"Sm\", \"Eu\", \"Gd\", \"Tb\", \"Dy\", \"Ho\", \"Er\", \"Tm\", \"Yb\", \"Lu\", \"Ac\", \"Th\", \"Pa\", \"U\", \"Np\", \"Pu\", \"Am\", \"Cm\", \"Bk\", \"Cf\", \"Es\", \"Fm\", \"Md\", \"No\"], \"type\": \"scatter\", \"x\": [14.01, 0.95, 453.69, 1560.0, 2349.0, 3800.0, 63.05, 54.8, 53.53, 24.56, 370.87, 923.0, 933.47, 1687.0, 317.3, 388.36, 171.6, 83.8, 336.53, 1115.0, 1814.0, 1941.0, 2183.0, 2180.0, 1519.0, 1811.0, 1768.0, 1728.0, 1357.77, 692.68, 302.91, 1211.4, 1090.0, 494.0, 265.8, 115.79, 312.46, 1050.0, 1799.0, 2128.0, 2750.0, 2896.0, 2430.0, 2607.0, 2237.0, 1828.05, 1234.93, 594.22, 429.75, 505.08, 903.78, 722.66, 386.85, 161.4, 301.59, 1000.0, 2506.0, 3290.0, 3695.0, 3459.0, 3306.0, 2739.0, 2041.4, 1337.33, 234.32, 577.0, 600.61, 544.4, 527.0, 575.0, 202.0, \"maybe about 300 K\", 973.0, 1900.0, 1193.0, 1068.0, 1208.0, 1297.0, 1373.0, 1345.0, 1099.0, 1585.0, 1629.0, 1680.0, 1734.0, 1802.0, 1818.0, 1097.0, 1925.0, 1323.0, 2115.0, 1841.0, 1405.3, 910.0, 912.5, 1449.0, 1613.0, 1259.0, 1173.0, 1133.0, 1800.0, 1100.0, 1100.0], \"y\": [0.25, null, 1.45, 1.05, 0.85, 0.7, 0.65, 0.6, 0.5, null, 1.8, 1.5, 1.25, 1.1, 1.0, 1.0, 1.0, 0.71, 2.2, 1.8, 1.6, 1.4, 1.35, 1.4, 1.4, 1.4, 1.35, 1.35, 1.35, 1.35, 1.3, 1.25, 1.15, 1.15, 1.15, null, 2.35, 2.0, 1.8, 1.55, 1.45, 1.45, 1.35, 1.3, 1.35, 1.4, 1.6, 1.55, 1.55, 1.45, 1.45, 1.4, 1.4, null, 2.6, 2.15, 1.55, 1.45, 1.35, 1.35, 1.3, 1.35, 1.35, 1.35, 1.5, 1.9, 1.8, 1.6, 1.9, null, null, null, 2.15, null, 1.95, 1.85, 1.85, 1.85, 1.85, 1.85, 1.85, 1.8, 1.75, 1.75, 1.75, 1.75, 1.75, 1.75, 1.75, 1.95, 1.8, 1.8, 1.75, 1.75, 1.75, 1.75, null, null, null, null, null, null, null]}, {\"marker\": {\"color\": \"blue\", \"line\": {\"width\": 1}, \"size\": 14}, \"mode\": \"markers\", \"name\": \"FCC\", \"type\": \"scatter\", \"x\": [null], \"y\": [null]}, {\"marker\": {\"color\": \"red\", \"line\": {\"width\": 1}, \"size\": 14}, \"mode\": \"markers\", \"name\": \"BCC\", \"type\": \"scatter\", \"x\": [null], \"y\": [null]}, {\"marker\": {\"color\": \"orange\", \"line\": {\"width\": 1}, \"size\": 14}, \"mode\": \"markers\", \"name\": \"HCP\", \"type\": \"scatter\", \"x\": [null], \"y\": [null]}, {\"marker\": {\"color\": \"green\", \"line\": {\"width\": 1}, \"size\": 14}, \"mode\": \"markers\", \"name\": \"Other\", \"type\": \"scatter\", \"x\": [null], \"y\": [null]}],\n",
       "                        {\"font\": {\"family\": \"Arial\"}, \"height\": 800, \"hovermode\": \"closest\", \"legend\": {\"font\": {\"size\": 24}}, \"showlegend\": true, \"template\": {\"data\": {\"bar\": [{\"error_x\": {\"color\": \"#2a3f5f\"}, \"error_y\": {\"color\": \"#2a3f5f\"}, \"marker\": {\"line\": {\"color\": \"#E5ECF6\", \"width\": 0.5}}, \"type\": \"bar\"}], \"barpolar\": [{\"marker\": {\"line\": {\"color\": \"#E5ECF6\", \"width\": 0.5}}, \"type\": \"barpolar\"}], \"carpet\": [{\"aaxis\": {\"endlinecolor\": \"#2a3f5f\", \"gridcolor\": \"white\", \"linecolor\": \"white\", \"minorgridcolor\": \"white\", \"startlinecolor\": \"#2a3f5f\"}, \"baxis\": {\"endlinecolor\": \"#2a3f5f\", \"gridcolor\": \"white\", \"linecolor\": \"white\", \"minorgridcolor\": \"white\", \"startlinecolor\": \"#2a3f5f\"}, \"type\": \"carpet\"}], \"choropleth\": [{\"colorbar\": {\"outlinewidth\": 0, \"ticks\": \"\"}, \"type\": \"choropleth\"}], \"contour\": [{\"colorbar\": {\"outlinewidth\": 0, \"ticks\": \"\"}, \"colorscale\": [[0.0, \"#0d0887\"], [0.1111111111111111, \"#46039f\"], [0.2222222222222222, \"#7201a8\"], [0.3333333333333333, \"#9c179e\"], [0.4444444444444444, \"#bd3786\"], [0.5555555555555556, \"#d8576b\"], [0.6666666666666666, \"#ed7953\"], [0.7777777777777778, \"#fb9f3a\"], [0.8888888888888888, \"#fdca26\"], [1.0, \"#f0f921\"]], \"type\": \"contour\"}], \"contourcarpet\": [{\"colorbar\": {\"outlinewidth\": 0, \"ticks\": \"\"}, \"type\": \"contourcarpet\"}], \"heatmap\": [{\"colorbar\": {\"outlinewidth\": 0, \"ticks\": \"\"}, \"colorscale\": [[0.0, \"#0d0887\"], [0.1111111111111111, \"#46039f\"], [0.2222222222222222, \"#7201a8\"], [0.3333333333333333, \"#9c179e\"], [0.4444444444444444, \"#bd3786\"], [0.5555555555555556, \"#d8576b\"], [0.6666666666666666, \"#ed7953\"], [0.7777777777777778, \"#fb9f3a\"], [0.8888888888888888, \"#fdca26\"], [1.0, \"#f0f921\"]], \"type\": \"heatmap\"}], \"heatmapgl\": [{\"colorbar\": {\"outlinewidth\": 0, \"ticks\": \"\"}, \"colorscale\": [[0.0, \"#0d0887\"], [0.1111111111111111, \"#46039f\"], [0.2222222222222222, \"#7201a8\"], [0.3333333333333333, \"#9c179e\"], [0.4444444444444444, \"#bd3786\"], [0.5555555555555556, \"#d8576b\"], [0.6666666666666666, \"#ed7953\"], [0.7777777777777778, \"#fb9f3a\"], [0.8888888888888888, \"#fdca26\"], [1.0, \"#f0f921\"]], \"type\": \"heatmapgl\"}], \"histogram\": [{\"marker\": {\"colorbar\": {\"outlinewidth\": 0, \"ticks\": \"\"}}, \"type\": \"histogram\"}], \"histogram2d\": [{\"colorbar\": {\"outlinewidth\": 0, \"ticks\": \"\"}, \"colorscale\": [[0.0, \"#0d0887\"], [0.1111111111111111, \"#46039f\"], [0.2222222222222222, \"#7201a8\"], [0.3333333333333333, \"#9c179e\"], [0.4444444444444444, \"#bd3786\"], [0.5555555555555556, \"#d8576b\"], [0.6666666666666666, \"#ed7953\"], [0.7777777777777778, \"#fb9f3a\"], [0.8888888888888888, \"#fdca26\"], [1.0, \"#f0f921\"]], \"type\": \"histogram2d\"}], \"histogram2dcontour\": [{\"colorbar\": {\"outlinewidth\": 0, \"ticks\": \"\"}, \"colorscale\": [[0.0, \"#0d0887\"], [0.1111111111111111, \"#46039f\"], [0.2222222222222222, \"#7201a8\"], [0.3333333333333333, \"#9c179e\"], [0.4444444444444444, \"#bd3786\"], [0.5555555555555556, \"#d8576b\"], [0.6666666666666666, \"#ed7953\"], [0.7777777777777778, \"#fb9f3a\"], [0.8888888888888888, \"#fdca26\"], [1.0, \"#f0f921\"]], \"type\": \"histogram2dcontour\"}], \"mesh3d\": [{\"colorbar\": {\"outlinewidth\": 0, \"ticks\": \"\"}, \"type\": \"mesh3d\"}], \"parcoords\": [{\"line\": {\"colorbar\": {\"outlinewidth\": 0, \"ticks\": \"\"}}, \"type\": \"parcoords\"}], \"pie\": [{\"automargin\": true, \"type\": \"pie\"}], \"scatter\": [{\"marker\": {\"colorbar\": {\"outlinewidth\": 0, \"ticks\": \"\"}}, \"type\": \"scatter\"}], \"scatter3d\": [{\"line\": {\"colorbar\": {\"outlinewidth\": 0, \"ticks\": \"\"}}, \"marker\": {\"colorbar\": {\"outlinewidth\": 0, \"ticks\": \"\"}}, \"type\": \"scatter3d\"}], \"scattercarpet\": [{\"marker\": {\"colorbar\": {\"outlinewidth\": 0, \"ticks\": \"\"}}, \"type\": \"scattercarpet\"}], \"scattergeo\": [{\"marker\": {\"colorbar\": {\"outlinewidth\": 0, \"ticks\": \"\"}}, \"type\": \"scattergeo\"}], \"scattergl\": [{\"marker\": {\"colorbar\": {\"outlinewidth\": 0, \"ticks\": \"\"}}, \"type\": \"scattergl\"}], \"scattermapbox\": [{\"marker\": {\"colorbar\": {\"outlinewidth\": 0, \"ticks\": \"\"}}, \"type\": \"scattermapbox\"}], \"scatterpolar\": [{\"marker\": {\"colorbar\": {\"outlinewidth\": 0, \"ticks\": \"\"}}, \"type\": \"scatterpolar\"}], \"scatterpolargl\": [{\"marker\": {\"colorbar\": {\"outlinewidth\": 0, \"ticks\": \"\"}}, \"type\": \"scatterpolargl\"}], \"scatterternary\": [{\"marker\": {\"colorbar\": {\"outlinewidth\": 0, \"ticks\": \"\"}}, \"type\": \"scatterternary\"}], \"surface\": [{\"colorbar\": {\"outlinewidth\": 0, \"ticks\": \"\"}, \"colorscale\": [[0.0, \"#0d0887\"], [0.1111111111111111, \"#46039f\"], [0.2222222222222222, \"#7201a8\"], [0.3333333333333333, \"#9c179e\"], [0.4444444444444444, \"#bd3786\"], [0.5555555555555556, \"#d8576b\"], [0.6666666666666666, \"#ed7953\"], [0.7777777777777778, \"#fb9f3a\"], [0.8888888888888888, \"#fdca26\"], [1.0, \"#f0f921\"]], \"type\": \"surface\"}], \"table\": [{\"cells\": {\"fill\": {\"color\": \"#EBF0F8\"}, \"line\": {\"color\": \"white\"}}, \"header\": {\"fill\": {\"color\": \"#C8D4E3\"}, \"line\": {\"color\": \"white\"}}, \"type\": \"table\"}]}, \"layout\": {\"annotationdefaults\": {\"arrowcolor\": \"#2a3f5f\", \"arrowhead\": 0, \"arrowwidth\": 1}, \"coloraxis\": {\"colorbar\": {\"outlinewidth\": 0, \"ticks\": \"\"}}, \"colorscale\": {\"diverging\": [[0, \"#8e0152\"], [0.1, \"#c51b7d\"], [0.2, \"#de77ae\"], [0.3, \"#f1b6da\"], [0.4, \"#fde0ef\"], [0.5, \"#f7f7f7\"], [0.6, \"#e6f5d0\"], [0.7, \"#b8e186\"], [0.8, \"#7fbc41\"], [0.9, \"#4d9221\"], [1, \"#276419\"]], \"sequential\": [[0.0, \"#0d0887\"], [0.1111111111111111, \"#46039f\"], [0.2222222222222222, \"#7201a8\"], [0.3333333333333333, \"#9c179e\"], [0.4444444444444444, \"#bd3786\"], [0.5555555555555556, \"#d8576b\"], [0.6666666666666666, \"#ed7953\"], [0.7777777777777778, \"#fb9f3a\"], [0.8888888888888888, \"#fdca26\"], [1.0, \"#f0f921\"]], \"sequentialminus\": [[0.0, \"#0d0887\"], [0.1111111111111111, \"#46039f\"], [0.2222222222222222, \"#7201a8\"], [0.3333333333333333, \"#9c179e\"], [0.4444444444444444, \"#bd3786\"], [0.5555555555555556, \"#d8576b\"], [0.6666666666666666, \"#ed7953\"], [0.7777777777777778, \"#fb9f3a\"], [0.8888888888888888, \"#fdca26\"], [1.0, \"#f0f921\"]]}, \"colorway\": [\"#636efa\", \"#EF553B\", \"#00cc96\", \"#ab63fa\", \"#FFA15A\", \"#19d3f3\", \"#FF6692\", \"#B6E880\", \"#FF97FF\", \"#FECB52\"], \"font\": {\"color\": \"#2a3f5f\"}, \"geo\": {\"bgcolor\": \"white\", \"lakecolor\": \"white\", \"landcolor\": \"#E5ECF6\", \"showlakes\": true, \"showland\": true, \"subunitcolor\": \"white\"}, \"hoverlabel\": {\"align\": \"left\"}, \"hovermode\": \"closest\", \"mapbox\": {\"style\": \"light\"}, \"paper_bgcolor\": \"white\", \"plot_bgcolor\": \"#E5ECF6\", \"polar\": {\"angularaxis\": {\"gridcolor\": \"white\", \"linecolor\": \"white\", \"ticks\": \"\"}, \"bgcolor\": \"#E5ECF6\", \"radialaxis\": {\"gridcolor\": \"white\", \"linecolor\": \"white\", \"ticks\": \"\"}}, \"scene\": {\"xaxis\": {\"backgroundcolor\": \"#E5ECF6\", \"gridcolor\": \"white\", \"gridwidth\": 2, \"linecolor\": \"white\", \"showbackground\": true, \"ticks\": \"\", \"zerolinecolor\": \"white\"}, \"yaxis\": {\"backgroundcolor\": \"#E5ECF6\", \"gridcolor\": \"white\", \"gridwidth\": 2, \"linecolor\": \"white\", \"showbackground\": true, \"ticks\": \"\", \"zerolinecolor\": \"white\"}, \"zaxis\": {\"backgroundcolor\": \"#E5ECF6\", \"gridcolor\": \"white\", \"gridwidth\": 2, \"linecolor\": \"white\", \"showbackground\": true, \"ticks\": \"\", \"zerolinecolor\": \"white\"}}, \"shapedefaults\": {\"line\": {\"color\": \"#2a3f5f\"}}, \"ternary\": {\"aaxis\": {\"gridcolor\": \"white\", \"linecolor\": \"white\", \"ticks\": \"\"}, \"baxis\": {\"gridcolor\": \"white\", \"linecolor\": \"white\", \"ticks\": \"\"}, \"bgcolor\": \"#E5ECF6\", \"caxis\": {\"gridcolor\": \"white\", \"linecolor\": \"white\", \"ticks\": \"\"}}, \"title\": {\"x\": 0.05}, \"xaxis\": {\"automargin\": true, \"gridcolor\": \"white\", \"linecolor\": \"white\", \"ticks\": \"\", \"title\": {\"standoff\": 15}, \"zerolinecolor\": \"white\", \"zerolinewidth\": 2}, \"yaxis\": {\"automargin\": true, \"gridcolor\": \"white\", \"linecolor\": \"white\", \"ticks\": \"\", \"title\": {\"standoff\": 15}, \"zerolinecolor\": \"white\", \"zerolinewidth\": 2}}}, \"title\": {\"font\": {\"color\": \"Black\", \"size\": 38}, \"text\": \"Atomic Radius on Melting Temperature\"}, \"width\": 800, \"xaxis\": {\"gridwidth\": 1, \"tickfont\": {\"size\": 18}, \"title\": {\"font\": {\"size\": 24}, \"text\": \"Melting Temperature [K]\"}, \"zeroline\": false}, \"yaxis\": {\"gridwidth\": 1, \"tickfont\": {\"size\": 18}, \"title\": {\"font\": {\"size\": 24}, \"text\": \"Atomic Radius [10<sup>2</sup>pm]\"}, \"zeroline\": false}},\n",
       "                        {\"responsive\": true}\n",
       "                    ).then(function(){\n",
       "                            \n",
       "var gd = document.getElementById('99396679-daa8-4411-8d32-d60fe23ba058');\n",
       "var x = new MutationObserver(function (mutations, observer) {{\n",
       "        var display = window.getComputedStyle(gd).display;\n",
       "        if (!display || display === 'none') {{\n",
       "            console.log([gd, 'removed!']);\n",
       "            Plotly.purge(gd);\n",
       "            observer.disconnect();\n",
       "        }}\n",
       "}});\n",
       "\n",
       "// Listen for the removal of the full notebook cells\n",
       "var notebookContainer = gd.closest('#notebook-container');\n",
       "if (notebookContainer) {{\n",
       "    x.observe(notebookContainer, {childList: true});\n",
       "}}\n",
       "\n",
       "// Listen for the clearing of the current output cell\n",
       "var outputEl = gd.closest('.output');\n",
       "if (outputEl) {{\n",
       "    x.observe(outputEl, {childList: true});\n",
       "}}\n",
       "\n",
       "                        })\n",
       "                };\n",
       "                });\n",
       "            </script>\n",
       "        </div>"
      ]
     },
     "metadata": {},
     "output_type": "display_data"
    }
   ],
   "source": [
    "layout0= go.Layout(title = \"Atomic Radius on Melting Temperature\", hovermode= 'closest', width = 800, height=800, showlegend=True,  # Hovermode establishes the way the labels that appear when you hover are arranged # Establishing a square plot width=height\n",
    "    xaxis= dict(title=go.layout.xaxis.Title(text='Melting Temperature [K]', font=dict(size=36)), zeroline= True, gridwidth= 1, tickfont=dict(size=24)), # Axis Titles. Removing the X-axis Mark. Adding a Grid\n",
    "    yaxis= dict(title=go.layout.yaxis.Title(text='Atomic Radius [10<sup>2</sup>pm]', font=dict(size=36)), zeroline= True, gridwidth= 1, tickfont=dict(size=24)), # Axis Titles. Removing the Y-axis Mark. Adding a Grid\n",
    "    legend=dict(font=dict(size=24))) # Adding a legend\n",
    "\n",
    "# Trace\n",
    "\n",
    "trace0 = go.Scatter(x = melting_temperature,y = atomic_radius, mode = 'markers',\n",
    "    marker= dict(size= 14, line= dict(width=1), color=colors), # We add a size, a border and our custom colors to the markers\n",
    "    text= sample, # This attribute (Text) labels each point to this list, which contains our elements in the same indexes as our properties\n",
    "showlegend = False)\n",
    "\n",
    "\n",
    "# Empty Traces for Legend\n",
    "legend_plot_FCC = go.Scatter(x=[None], y=[None], mode='markers', marker=dict(size=14,  line= dict(width=1),color='blue'), name = 'FCC')\n",
    "legend_plot_BCC = go.Scatter(x=[None], y=[None], mode='markers', marker=dict(size=14,  line= dict(width=1),color='red'), name = 'BCC')\n",
    "legend_plot_HCP = go.Scatter(x=[None], y=[None], mode='markers', marker=dict(size=14,  line= dict(width=1),color='orange'), name = 'HCP')\n",
    "legend_plot_Other = go.Scatter(x=[None], y=[None], mode='markers', marker=dict(size=14, line= dict(width=1),color='green'), name = 'Other')\n",
    "\n",
    "\n",
    "data = [trace0, legend_plot_FCC, legend_plot_BCC, legend_plot_HCP, legend_plot_Other]\n",
    "\n",
    "fig= go.Figure(data, layout=layout0)\n",
    "fig.update_layout(\n",
    "    font_family=\"Arial\",\n",
    "    title_font_color=\"Black\",\n",
    "    title_font_size= 38\n",
    ")\n",
    "iplot(fig)"
   ]
  },
  {
   "cell_type": "code",
   "execution_count": 103,
   "metadata": {},
   "outputs": [
    {
     "data": {
      "application/vnd.plotly.v1+json": {
       "config": {
        "linkText": "Export to plot.ly",
        "plotlyServerURL": "https://plot.ly",
        "showLink": false
       },
       "data": [
        {
         "marker": {
          "color": [
           "green",
           "green",
           "red",
           "orange",
           "green",
           "green",
           "green",
           "green",
           "green",
           "green",
           "red",
           "orange",
           "blue",
           "green",
           "red",
           "green",
           "green",
           "green",
           "red",
           "orange",
           "orange",
           "orange",
           "red",
           "red",
           "red",
           "red",
           "orange",
           "blue",
           "blue",
           "orange",
           "green",
           "green",
           "green",
           "green",
           "green",
           "green",
           "red",
           "blue",
           "orange",
           "orange",
           "red",
           "red",
           "orange",
           "orange",
           "blue",
           "blue",
           "blue",
           "orange",
           "green",
           "green",
           "green",
           "green",
           "green",
           "green",
           "red",
           "red",
           "orange",
           "red",
           "red",
           "orange",
           "orange",
           "blue",
           "blue",
           "blue",
           "green",
           "orange",
           "blue",
           "green",
           "green",
           "green",
           "green",
           "green",
           "green",
           "green",
           "green",
           "green",
           "green",
           "green",
           "green",
           "green",
           "red",
           "orange",
           "orange",
           "orange",
           "orange",
           "orange",
           "orange",
           "blue",
           "orange",
           "green",
           "blue",
           "green",
           "green",
           "green",
           "green",
           "green",
           "green",
           "green",
           "green",
           "green",
           "green",
           "green",
           "green"
          ],
          "line": {
           "width": 1
          },
          "size": 14
         },
         "mode": "markers",
         "showlegend": false,
         "text": [
          "H",
          "He",
          "Li",
          "Be",
          "B",
          "C",
          "N",
          "O",
          "F",
          "Ne",
          "Na",
          "Mg",
          "Al",
          "Si",
          "P",
          "S",
          "Cl",
          "Ar",
          "K",
          "Ca",
          "Sc",
          "Ti",
          "V",
          "Cr",
          "Mn",
          "Fe",
          "Co",
          "Ni",
          "Cu",
          "Zn",
          "Ga",
          "Ge",
          "As",
          "Se",
          "Br",
          "Kr",
          "Rb",
          "Sr",
          "Y",
          "Zr",
          "Nb",
          "Mo",
          "Tc",
          "Ru",
          "Rh",
          "Pd",
          "Ag",
          "Cd",
          "In",
          "Sn",
          "Sb",
          "Te",
          "I",
          "Xe",
          "Cs",
          "Ba",
          "Hf",
          "Ta",
          "W",
          "Re",
          "Os",
          "Ir",
          "Pt",
          "Au",
          "Hg",
          "Tl",
          "Pb",
          "Bi",
          "Po",
          "At",
          "Rn",
          "Fr",
          "Ra",
          "Lr",
          "La",
          "Ce",
          "Pr",
          "Nd",
          "Pm",
          "Sm",
          "Eu",
          "Gd",
          "Tb",
          "Dy",
          "Ho",
          "Er",
          "Tm",
          "Yb",
          "Lu",
          "Ac",
          "Th",
          "Pa",
          "U",
          "Np",
          "Pu",
          "Am",
          "Cm",
          "Bk",
          "Cf",
          "Es",
          "Fm",
          "Md",
          "No"
         ],
         "type": "scatter",
         "x": [
          0.25,
          null,
          1.45,
          1.05,
          0.85,
          0.7,
          0.65,
          0.6,
          0.5,
          null,
          1.8,
          1.5,
          1.25,
          1.1,
          1,
          1,
          1,
          0.71,
          2.2,
          1.8,
          1.6,
          1.4,
          1.35,
          1.4,
          1.4,
          1.4,
          1.35,
          1.35,
          1.35,
          1.35,
          1.3,
          1.25,
          1.15,
          1.15,
          1.15,
          null,
          2.35,
          2,
          1.8,
          1.55,
          1.45,
          1.45,
          1.35,
          1.3,
          1.35,
          1.4,
          1.6,
          1.55,
          1.55,
          1.45,
          1.45,
          1.4,
          1.4,
          null,
          2.6,
          2.15,
          1.55,
          1.45,
          1.35,
          1.35,
          1.3,
          1.35,
          1.35,
          1.35,
          1.5,
          1.9,
          1.8,
          1.6,
          1.9,
          null,
          null,
          null,
          2.15,
          null,
          1.95,
          1.85,
          1.85,
          1.85,
          1.85,
          1.85,
          1.85,
          1.8,
          1.75,
          1.75,
          1.75,
          1.75,
          1.75,
          1.75,
          1.75,
          1.95,
          1.8,
          1.8,
          1.75,
          1.75,
          1.75,
          1.75,
          null,
          null,
          null,
          null,
          null,
          null,
          null
         ],
         "y": [
          null,
          null,
          4.9,
          287,
          null,
          null,
          null,
          null,
          null,
          null,
          10,
          45,
          70,
          47,
          null,
          null,
          null,
          null,
          null,
          20,
          74,
          116,
          128,
          279,
          198,
          211,
          209,
          200,
          130,
          108,
          null,
          null,
          8,
          10,
          null,
          null,
          2.4,
          null,
          64,
          68,
          105,
          329,
          null,
          447,
          275,
          121,
          83,
          50,
          11,
          50,
          55,
          43,
          null,
          null,
          1.7,
          13,
          78,
          186,
          411,
          463,
          null,
          528,
          168,
          78,
          null,
          8,
          16,
          32,
          null,
          null,
          null,
          null,
          null,
          null,
          37,
          34,
          37,
          41,
          46,
          50,
          18,
          55,
          56,
          61,
          65,
          70,
          74,
          24,
          69,
          null,
          79,
          null,
          208,
          null,
          96,
          null,
          null,
          null,
          null,
          null,
          null,
          null,
          null
         ]
        },
        {
         "marker": {
          "color": "blue",
          "line": {
           "width": 1
          },
          "size": 14
         },
         "mode": "markers",
         "name": "FCC",
         "type": "scatter",
         "x": [
          null
         ],
         "y": [
          null
         ]
        },
        {
         "marker": {
          "color": "red",
          "line": {
           "width": 1
          },
          "size": 14
         },
         "mode": "markers",
         "name": "BCC",
         "type": "scatter",
         "x": [
          null
         ],
         "y": [
          null
         ]
        },
        {
         "marker": {
          "color": "orange",
          "line": {
           "width": 1
          },
          "size": 14
         },
         "mode": "markers",
         "name": "HCP",
         "type": "scatter",
         "x": [
          null
         ],
         "y": [
          null
         ]
        },
        {
         "marker": {
          "color": "green",
          "line": {
           "width": 1
          },
          "size": 14
         },
         "mode": "markers",
         "name": "Other",
         "type": "scatter",
         "x": [
          null
         ],
         "y": [
          null
         ]
        }
       ],
       "layout": {
        "font": {
         "family": "Arial"
        },
        "height": 800,
        "hovermode": "closest",
        "legend": {
         "font": {
          "size": 24
         }
        },
        "showlegend": true,
        "template": {
         "data": {
          "bar": [
           {
            "error_x": {
             "color": "#2a3f5f"
            },
            "error_y": {
             "color": "#2a3f5f"
            },
            "marker": {
             "line": {
              "color": "#E5ECF6",
              "width": 0.5
             }
            },
            "type": "bar"
           }
          ],
          "barpolar": [
           {
            "marker": {
             "line": {
              "color": "#E5ECF6",
              "width": 0.5
             }
            },
            "type": "barpolar"
           }
          ],
          "carpet": [
           {
            "aaxis": {
             "endlinecolor": "#2a3f5f",
             "gridcolor": "white",
             "linecolor": "white",
             "minorgridcolor": "white",
             "startlinecolor": "#2a3f5f"
            },
            "baxis": {
             "endlinecolor": "#2a3f5f",
             "gridcolor": "white",
             "linecolor": "white",
             "minorgridcolor": "white",
             "startlinecolor": "#2a3f5f"
            },
            "type": "carpet"
           }
          ],
          "choropleth": [
           {
            "colorbar": {
             "outlinewidth": 0,
             "ticks": ""
            },
            "type": "choropleth"
           }
          ],
          "contour": [
           {
            "colorbar": {
             "outlinewidth": 0,
             "ticks": ""
            },
            "colorscale": [
             [
              0,
              "#0d0887"
             ],
             [
              0.1111111111111111,
              "#46039f"
             ],
             [
              0.2222222222222222,
              "#7201a8"
             ],
             [
              0.3333333333333333,
              "#9c179e"
             ],
             [
              0.4444444444444444,
              "#bd3786"
             ],
             [
              0.5555555555555556,
              "#d8576b"
             ],
             [
              0.6666666666666666,
              "#ed7953"
             ],
             [
              0.7777777777777778,
              "#fb9f3a"
             ],
             [
              0.8888888888888888,
              "#fdca26"
             ],
             [
              1,
              "#f0f921"
             ]
            ],
            "type": "contour"
           }
          ],
          "contourcarpet": [
           {
            "colorbar": {
             "outlinewidth": 0,
             "ticks": ""
            },
            "type": "contourcarpet"
           }
          ],
          "heatmap": [
           {
            "colorbar": {
             "outlinewidth": 0,
             "ticks": ""
            },
            "colorscale": [
             [
              0,
              "#0d0887"
             ],
             [
              0.1111111111111111,
              "#46039f"
             ],
             [
              0.2222222222222222,
              "#7201a8"
             ],
             [
              0.3333333333333333,
              "#9c179e"
             ],
             [
              0.4444444444444444,
              "#bd3786"
             ],
             [
              0.5555555555555556,
              "#d8576b"
             ],
             [
              0.6666666666666666,
              "#ed7953"
             ],
             [
              0.7777777777777778,
              "#fb9f3a"
             ],
             [
              0.8888888888888888,
              "#fdca26"
             ],
             [
              1,
              "#f0f921"
             ]
            ],
            "type": "heatmap"
           }
          ],
          "heatmapgl": [
           {
            "colorbar": {
             "outlinewidth": 0,
             "ticks": ""
            },
            "colorscale": [
             [
              0,
              "#0d0887"
             ],
             [
              0.1111111111111111,
              "#46039f"
             ],
             [
              0.2222222222222222,
              "#7201a8"
             ],
             [
              0.3333333333333333,
              "#9c179e"
             ],
             [
              0.4444444444444444,
              "#bd3786"
             ],
             [
              0.5555555555555556,
              "#d8576b"
             ],
             [
              0.6666666666666666,
              "#ed7953"
             ],
             [
              0.7777777777777778,
              "#fb9f3a"
             ],
             [
              0.8888888888888888,
              "#fdca26"
             ],
             [
              1,
              "#f0f921"
             ]
            ],
            "type": "heatmapgl"
           }
          ],
          "histogram": [
           {
            "marker": {
             "colorbar": {
              "outlinewidth": 0,
              "ticks": ""
             }
            },
            "type": "histogram"
           }
          ],
          "histogram2d": [
           {
            "colorbar": {
             "outlinewidth": 0,
             "ticks": ""
            },
            "colorscale": [
             [
              0,
              "#0d0887"
             ],
             [
              0.1111111111111111,
              "#46039f"
             ],
             [
              0.2222222222222222,
              "#7201a8"
             ],
             [
              0.3333333333333333,
              "#9c179e"
             ],
             [
              0.4444444444444444,
              "#bd3786"
             ],
             [
              0.5555555555555556,
              "#d8576b"
             ],
             [
              0.6666666666666666,
              "#ed7953"
             ],
             [
              0.7777777777777778,
              "#fb9f3a"
             ],
             [
              0.8888888888888888,
              "#fdca26"
             ],
             [
              1,
              "#f0f921"
             ]
            ],
            "type": "histogram2d"
           }
          ],
          "histogram2dcontour": [
           {
            "colorbar": {
             "outlinewidth": 0,
             "ticks": ""
            },
            "colorscale": [
             [
              0,
              "#0d0887"
             ],
             [
              0.1111111111111111,
              "#46039f"
             ],
             [
              0.2222222222222222,
              "#7201a8"
             ],
             [
              0.3333333333333333,
              "#9c179e"
             ],
             [
              0.4444444444444444,
              "#bd3786"
             ],
             [
              0.5555555555555556,
              "#d8576b"
             ],
             [
              0.6666666666666666,
              "#ed7953"
             ],
             [
              0.7777777777777778,
              "#fb9f3a"
             ],
             [
              0.8888888888888888,
              "#fdca26"
             ],
             [
              1,
              "#f0f921"
             ]
            ],
            "type": "histogram2dcontour"
           }
          ],
          "mesh3d": [
           {
            "colorbar": {
             "outlinewidth": 0,
             "ticks": ""
            },
            "type": "mesh3d"
           }
          ],
          "parcoords": [
           {
            "line": {
             "colorbar": {
              "outlinewidth": 0,
              "ticks": ""
             }
            },
            "type": "parcoords"
           }
          ],
          "pie": [
           {
            "automargin": true,
            "type": "pie"
           }
          ],
          "scatter": [
           {
            "marker": {
             "colorbar": {
              "outlinewidth": 0,
              "ticks": ""
             }
            },
            "type": "scatter"
           }
          ],
          "scatter3d": [
           {
            "line": {
             "colorbar": {
              "outlinewidth": 0,
              "ticks": ""
             }
            },
            "marker": {
             "colorbar": {
              "outlinewidth": 0,
              "ticks": ""
             }
            },
            "type": "scatter3d"
           }
          ],
          "scattercarpet": [
           {
            "marker": {
             "colorbar": {
              "outlinewidth": 0,
              "ticks": ""
             }
            },
            "type": "scattercarpet"
           }
          ],
          "scattergeo": [
           {
            "marker": {
             "colorbar": {
              "outlinewidth": 0,
              "ticks": ""
             }
            },
            "type": "scattergeo"
           }
          ],
          "scattergl": [
           {
            "marker": {
             "colorbar": {
              "outlinewidth": 0,
              "ticks": ""
             }
            },
            "type": "scattergl"
           }
          ],
          "scattermapbox": [
           {
            "marker": {
             "colorbar": {
              "outlinewidth": 0,
              "ticks": ""
             }
            },
            "type": "scattermapbox"
           }
          ],
          "scatterpolar": [
           {
            "marker": {
             "colorbar": {
              "outlinewidth": 0,
              "ticks": ""
             }
            },
            "type": "scatterpolar"
           }
          ],
          "scatterpolargl": [
           {
            "marker": {
             "colorbar": {
              "outlinewidth": 0,
              "ticks": ""
             }
            },
            "type": "scatterpolargl"
           }
          ],
          "scatterternary": [
           {
            "marker": {
             "colorbar": {
              "outlinewidth": 0,
              "ticks": ""
             }
            },
            "type": "scatterternary"
           }
          ],
          "surface": [
           {
            "colorbar": {
             "outlinewidth": 0,
             "ticks": ""
            },
            "colorscale": [
             [
              0,
              "#0d0887"
             ],
             [
              0.1111111111111111,
              "#46039f"
             ],
             [
              0.2222222222222222,
              "#7201a8"
             ],
             [
              0.3333333333333333,
              "#9c179e"
             ],
             [
              0.4444444444444444,
              "#bd3786"
             ],
             [
              0.5555555555555556,
              "#d8576b"
             ],
             [
              0.6666666666666666,
              "#ed7953"
             ],
             [
              0.7777777777777778,
              "#fb9f3a"
             ],
             [
              0.8888888888888888,
              "#fdca26"
             ],
             [
              1,
              "#f0f921"
             ]
            ],
            "type": "surface"
           }
          ],
          "table": [
           {
            "cells": {
             "fill": {
              "color": "#EBF0F8"
             },
             "line": {
              "color": "white"
             }
            },
            "header": {
             "fill": {
              "color": "#C8D4E3"
             },
             "line": {
              "color": "white"
             }
            },
            "type": "table"
           }
          ]
         },
         "layout": {
          "annotationdefaults": {
           "arrowcolor": "#2a3f5f",
           "arrowhead": 0,
           "arrowwidth": 1
          },
          "coloraxis": {
           "colorbar": {
            "outlinewidth": 0,
            "ticks": ""
           }
          },
          "colorscale": {
           "diverging": [
            [
             0,
             "#8e0152"
            ],
            [
             0.1,
             "#c51b7d"
            ],
            [
             0.2,
             "#de77ae"
            ],
            [
             0.3,
             "#f1b6da"
            ],
            [
             0.4,
             "#fde0ef"
            ],
            [
             0.5,
             "#f7f7f7"
            ],
            [
             0.6,
             "#e6f5d0"
            ],
            [
             0.7,
             "#b8e186"
            ],
            [
             0.8,
             "#7fbc41"
            ],
            [
             0.9,
             "#4d9221"
            ],
            [
             1,
             "#276419"
            ]
           ],
           "sequential": [
            [
             0,
             "#0d0887"
            ],
            [
             0.1111111111111111,
             "#46039f"
            ],
            [
             0.2222222222222222,
             "#7201a8"
            ],
            [
             0.3333333333333333,
             "#9c179e"
            ],
            [
             0.4444444444444444,
             "#bd3786"
            ],
            [
             0.5555555555555556,
             "#d8576b"
            ],
            [
             0.6666666666666666,
             "#ed7953"
            ],
            [
             0.7777777777777778,
             "#fb9f3a"
            ],
            [
             0.8888888888888888,
             "#fdca26"
            ],
            [
             1,
             "#f0f921"
            ]
           ],
           "sequentialminus": [
            [
             0,
             "#0d0887"
            ],
            [
             0.1111111111111111,
             "#46039f"
            ],
            [
             0.2222222222222222,
             "#7201a8"
            ],
            [
             0.3333333333333333,
             "#9c179e"
            ],
            [
             0.4444444444444444,
             "#bd3786"
            ],
            [
             0.5555555555555556,
             "#d8576b"
            ],
            [
             0.6666666666666666,
             "#ed7953"
            ],
            [
             0.7777777777777778,
             "#fb9f3a"
            ],
            [
             0.8888888888888888,
             "#fdca26"
            ],
            [
             1,
             "#f0f921"
            ]
           ]
          },
          "colorway": [
           "#636efa",
           "#EF553B",
           "#00cc96",
           "#ab63fa",
           "#FFA15A",
           "#19d3f3",
           "#FF6692",
           "#B6E880",
           "#FF97FF",
           "#FECB52"
          ],
          "font": {
           "color": "#2a3f5f"
          },
          "geo": {
           "bgcolor": "white",
           "lakecolor": "white",
           "landcolor": "#E5ECF6",
           "showlakes": true,
           "showland": true,
           "subunitcolor": "white"
          },
          "hoverlabel": {
           "align": "left"
          },
          "hovermode": "closest",
          "mapbox": {
           "style": "light"
          },
          "paper_bgcolor": "white",
          "plot_bgcolor": "#E5ECF6",
          "polar": {
           "angularaxis": {
            "gridcolor": "white",
            "linecolor": "white",
            "ticks": ""
           },
           "bgcolor": "#E5ECF6",
           "radialaxis": {
            "gridcolor": "white",
            "linecolor": "white",
            "ticks": ""
           }
          },
          "scene": {
           "xaxis": {
            "backgroundcolor": "#E5ECF6",
            "gridcolor": "white",
            "gridwidth": 2,
            "linecolor": "white",
            "showbackground": true,
            "ticks": "",
            "zerolinecolor": "white"
           },
           "yaxis": {
            "backgroundcolor": "#E5ECF6",
            "gridcolor": "white",
            "gridwidth": 2,
            "linecolor": "white",
            "showbackground": true,
            "ticks": "",
            "zerolinecolor": "white"
           },
           "zaxis": {
            "backgroundcolor": "#E5ECF6",
            "gridcolor": "white",
            "gridwidth": 2,
            "linecolor": "white",
            "showbackground": true,
            "ticks": "",
            "zerolinecolor": "white"
           }
          },
          "shapedefaults": {
           "line": {
            "color": "#2a3f5f"
           }
          },
          "ternary": {
           "aaxis": {
            "gridcolor": "white",
            "linecolor": "white",
            "ticks": ""
           },
           "baxis": {
            "gridcolor": "white",
            "linecolor": "white",
            "ticks": ""
           },
           "bgcolor": "#E5ECF6",
           "caxis": {
            "gridcolor": "white",
            "linecolor": "white",
            "ticks": ""
           }
          },
          "title": {
           "x": 0.05
          },
          "xaxis": {
           "automargin": true,
           "gridcolor": "white",
           "linecolor": "white",
           "ticks": "",
           "title": {
            "standoff": 15
           },
           "zerolinecolor": "white",
           "zerolinewidth": 2
          },
          "yaxis": {
           "automargin": true,
           "gridcolor": "white",
           "linecolor": "white",
           "ticks": "",
           "title": {
            "standoff": 15
           },
           "zerolinecolor": "white",
           "zerolinewidth": 2
          }
         }
        },
        "title": {
         "font": {
          "color": "Black",
          "size": 38
         },
         "text": "Young's Modulus on Atomic Radius"
        },
        "width": 800,
        "xaxis": {
         "gridwidth": 1,
         "tickfont": {
          "size": 18
         },
         "title": {
          "font": {
           "size": 24
          },
          "text": "Atomic Radius [10<sup>2</sup>pm]"
         },
         "zeroline": false
        },
        "yaxis": {
         "gridwidth": 1,
         "tickfont": {
          "size": 18
         },
         "title": {
          "font": {
           "size": 24
          },
          "text": "Young's Modulus [GPa]"
         },
         "zeroline": false
        }
       }
      },
      "text/html": [
       "<div>\n",
       "        \n",
       "        \n",
       "            <div id=\"49c0f0d7-df82-444e-b68c-f65cfc9c8a0f\" class=\"plotly-graph-div\" style=\"height:800px; width:800px;\"></div>\n",
       "            <script type=\"text/javascript\">\n",
       "                require([\"plotly\"], function(Plotly) {\n",
       "                    window.PLOTLYENV=window.PLOTLYENV || {};\n",
       "                    \n",
       "                if (document.getElementById(\"49c0f0d7-df82-444e-b68c-f65cfc9c8a0f\")) {\n",
       "                    Plotly.newPlot(\n",
       "                        '49c0f0d7-df82-444e-b68c-f65cfc9c8a0f',\n",
       "                        [{\"marker\": {\"color\": [\"green\", \"green\", \"red\", \"orange\", \"green\", \"green\", \"green\", \"green\", \"green\", \"green\", \"red\", \"orange\", \"blue\", \"green\", \"red\", \"green\", \"green\", \"green\", \"red\", \"orange\", \"orange\", \"orange\", \"red\", \"red\", \"red\", \"red\", \"orange\", \"blue\", \"blue\", \"orange\", \"green\", \"green\", \"green\", \"green\", \"green\", \"green\", \"red\", \"blue\", \"orange\", \"orange\", \"red\", \"red\", \"orange\", \"orange\", \"blue\", \"blue\", \"blue\", \"orange\", \"green\", \"green\", \"green\", \"green\", \"green\", \"green\", \"red\", \"red\", \"orange\", \"red\", \"red\", \"orange\", \"orange\", \"blue\", \"blue\", \"blue\", \"green\", \"orange\", \"blue\", \"green\", \"green\", \"green\", \"green\", \"green\", \"green\", \"green\", \"green\", \"green\", \"green\", \"green\", \"green\", \"green\", \"red\", \"orange\", \"orange\", \"orange\", \"orange\", \"orange\", \"orange\", \"blue\", \"orange\", \"green\", \"blue\", \"green\", \"green\", \"green\", \"green\", \"green\", \"green\", \"green\", \"green\", \"green\", \"green\", \"green\", \"green\"], \"line\": {\"width\": 1}, \"size\": 14}, \"mode\": \"markers\", \"showlegend\": false, \"text\": [\"H\", \"He\", \"Li\", \"Be\", \"B\", \"C\", \"N\", \"O\", \"F\", \"Ne\", \"Na\", \"Mg\", \"Al\", \"Si\", \"P\", \"S\", \"Cl\", \"Ar\", \"K\", \"Ca\", \"Sc\", \"Ti\", \"V\", \"Cr\", \"Mn\", \"Fe\", \"Co\", \"Ni\", \"Cu\", \"Zn\", \"Ga\", \"Ge\", \"As\", \"Se\", \"Br\", \"Kr\", \"Rb\", \"Sr\", \"Y\", \"Zr\", \"Nb\", \"Mo\", \"Tc\", \"Ru\", \"Rh\", \"Pd\", \"Ag\", \"Cd\", \"In\", \"Sn\", \"Sb\", \"Te\", \"I\", \"Xe\", \"Cs\", \"Ba\", \"Hf\", \"Ta\", \"W\", \"Re\", \"Os\", \"Ir\", \"Pt\", \"Au\", \"Hg\", \"Tl\", \"Pb\", \"Bi\", \"Po\", \"At\", \"Rn\", \"Fr\", \"Ra\", \"Lr\", \"La\", \"Ce\", \"Pr\", \"Nd\", \"Pm\", \"Sm\", \"Eu\", \"Gd\", \"Tb\", \"Dy\", \"Ho\", \"Er\", \"Tm\", \"Yb\", \"Lu\", \"Ac\", \"Th\", \"Pa\", \"U\", \"Np\", \"Pu\", \"Am\", \"Cm\", \"Bk\", \"Cf\", \"Es\", \"Fm\", \"Md\", \"No\"], \"type\": \"scatter\", \"x\": [0.25, null, 1.45, 1.05, 0.85, 0.7, 0.65, 0.6, 0.5, null, 1.8, 1.5, 1.25, 1.1, 1.0, 1.0, 1.0, 0.71, 2.2, 1.8, 1.6, 1.4, 1.35, 1.4, 1.4, 1.4, 1.35, 1.35, 1.35, 1.35, 1.3, 1.25, 1.15, 1.15, 1.15, null, 2.35, 2.0, 1.8, 1.55, 1.45, 1.45, 1.35, 1.3, 1.35, 1.4, 1.6, 1.55, 1.55, 1.45, 1.45, 1.4, 1.4, null, 2.6, 2.15, 1.55, 1.45, 1.35, 1.35, 1.3, 1.35, 1.35, 1.35, 1.5, 1.9, 1.8, 1.6, 1.9, null, null, null, 2.15, null, 1.95, 1.85, 1.85, 1.85, 1.85, 1.85, 1.85, 1.8, 1.75, 1.75, 1.75, 1.75, 1.75, 1.75, 1.75, 1.95, 1.8, 1.8, 1.75, 1.75, 1.75, 1.75, null, null, null, null, null, null, null], \"y\": [null, null, 4.9, 287.0, null, null, null, null, null, null, 10.0, 45.0, 70.0, 47.0, null, null, null, null, null, 20.0, 74.0, 116.0, 128.0, 279.0, 198.0, 211.0, 209.0, 200.0, 130.0, 108.0, null, null, 8.0, 10.0, null, null, 2.4, null, 64.0, 68.0, 105.0, 329.0, null, 447.0, 275.0, 121.0, 83.0, 50.0, 11.0, 50.0, 55.0, 43.0, null, null, 1.7, 13.0, 78.0, 186.0, 411.0, 463.0, null, 528.0, 168.0, 78.0, null, 8.0, 16.0, 32.0, null, null, null, null, null, null, 37.0, 34.0, 37.0, 41.0, 46.0, 50.0, 18.0, 55.0, 56.0, 61.0, 65.0, 70.0, 74.0, 24.0, 69.0, null, 79.0, null, 208.0, null, 96.0, null, null, null, null, null, null, null, null]}, {\"marker\": {\"color\": \"blue\", \"line\": {\"width\": 1}, \"size\": 14}, \"mode\": \"markers\", \"name\": \"FCC\", \"type\": \"scatter\", \"x\": [null], \"y\": [null]}, {\"marker\": {\"color\": \"red\", \"line\": {\"width\": 1}, \"size\": 14}, \"mode\": \"markers\", \"name\": \"BCC\", \"type\": \"scatter\", \"x\": [null], \"y\": [null]}, {\"marker\": {\"color\": \"orange\", \"line\": {\"width\": 1}, \"size\": 14}, \"mode\": \"markers\", \"name\": \"HCP\", \"type\": \"scatter\", \"x\": [null], \"y\": [null]}, {\"marker\": {\"color\": \"green\", \"line\": {\"width\": 1}, \"size\": 14}, \"mode\": \"markers\", \"name\": \"Other\", \"type\": \"scatter\", \"x\": [null], \"y\": [null]}],\n",
       "                        {\"font\": {\"family\": \"Arial\"}, \"height\": 800, \"hovermode\": \"closest\", \"legend\": {\"font\": {\"size\": 24}}, \"showlegend\": true, \"template\": {\"data\": {\"bar\": [{\"error_x\": {\"color\": \"#2a3f5f\"}, \"error_y\": {\"color\": \"#2a3f5f\"}, \"marker\": {\"line\": {\"color\": \"#E5ECF6\", \"width\": 0.5}}, \"type\": \"bar\"}], \"barpolar\": [{\"marker\": {\"line\": {\"color\": \"#E5ECF6\", \"width\": 0.5}}, \"type\": \"barpolar\"}], \"carpet\": [{\"aaxis\": {\"endlinecolor\": \"#2a3f5f\", \"gridcolor\": \"white\", \"linecolor\": \"white\", \"minorgridcolor\": \"white\", \"startlinecolor\": \"#2a3f5f\"}, \"baxis\": {\"endlinecolor\": \"#2a3f5f\", \"gridcolor\": \"white\", \"linecolor\": \"white\", \"minorgridcolor\": \"white\", \"startlinecolor\": \"#2a3f5f\"}, \"type\": \"carpet\"}], \"choropleth\": [{\"colorbar\": {\"outlinewidth\": 0, \"ticks\": \"\"}, \"type\": \"choropleth\"}], \"contour\": [{\"colorbar\": {\"outlinewidth\": 0, \"ticks\": \"\"}, \"colorscale\": [[0.0, \"#0d0887\"], [0.1111111111111111, \"#46039f\"], [0.2222222222222222, \"#7201a8\"], [0.3333333333333333, \"#9c179e\"], [0.4444444444444444, \"#bd3786\"], [0.5555555555555556, \"#d8576b\"], [0.6666666666666666, \"#ed7953\"], [0.7777777777777778, \"#fb9f3a\"], [0.8888888888888888, \"#fdca26\"], [1.0, \"#f0f921\"]], \"type\": \"contour\"}], \"contourcarpet\": [{\"colorbar\": {\"outlinewidth\": 0, \"ticks\": \"\"}, \"type\": \"contourcarpet\"}], \"heatmap\": [{\"colorbar\": {\"outlinewidth\": 0, \"ticks\": \"\"}, \"colorscale\": [[0.0, \"#0d0887\"], [0.1111111111111111, \"#46039f\"], [0.2222222222222222, \"#7201a8\"], [0.3333333333333333, \"#9c179e\"], [0.4444444444444444, \"#bd3786\"], [0.5555555555555556, \"#d8576b\"], [0.6666666666666666, \"#ed7953\"], [0.7777777777777778, \"#fb9f3a\"], [0.8888888888888888, \"#fdca26\"], [1.0, \"#f0f921\"]], \"type\": \"heatmap\"}], \"heatmapgl\": [{\"colorbar\": {\"outlinewidth\": 0, \"ticks\": \"\"}, \"colorscale\": [[0.0, \"#0d0887\"], [0.1111111111111111, \"#46039f\"], [0.2222222222222222, \"#7201a8\"], [0.3333333333333333, \"#9c179e\"], [0.4444444444444444, \"#bd3786\"], [0.5555555555555556, \"#d8576b\"], [0.6666666666666666, \"#ed7953\"], [0.7777777777777778, \"#fb9f3a\"], [0.8888888888888888, \"#fdca26\"], [1.0, \"#f0f921\"]], \"type\": \"heatmapgl\"}], \"histogram\": [{\"marker\": {\"colorbar\": {\"outlinewidth\": 0, \"ticks\": \"\"}}, \"type\": \"histogram\"}], \"histogram2d\": [{\"colorbar\": {\"outlinewidth\": 0, \"ticks\": \"\"}, \"colorscale\": [[0.0, \"#0d0887\"], [0.1111111111111111, \"#46039f\"], [0.2222222222222222, \"#7201a8\"], [0.3333333333333333, \"#9c179e\"], [0.4444444444444444, \"#bd3786\"], [0.5555555555555556, \"#d8576b\"], [0.6666666666666666, \"#ed7953\"], [0.7777777777777778, \"#fb9f3a\"], [0.8888888888888888, \"#fdca26\"], [1.0, \"#f0f921\"]], \"type\": \"histogram2d\"}], \"histogram2dcontour\": [{\"colorbar\": {\"outlinewidth\": 0, \"ticks\": \"\"}, \"colorscale\": [[0.0, \"#0d0887\"], [0.1111111111111111, \"#46039f\"], [0.2222222222222222, \"#7201a8\"], [0.3333333333333333, \"#9c179e\"], [0.4444444444444444, \"#bd3786\"], [0.5555555555555556, \"#d8576b\"], [0.6666666666666666, \"#ed7953\"], [0.7777777777777778, \"#fb9f3a\"], [0.8888888888888888, \"#fdca26\"], [1.0, \"#f0f921\"]], \"type\": \"histogram2dcontour\"}], \"mesh3d\": [{\"colorbar\": {\"outlinewidth\": 0, \"ticks\": \"\"}, \"type\": \"mesh3d\"}], \"parcoords\": [{\"line\": {\"colorbar\": {\"outlinewidth\": 0, \"ticks\": \"\"}}, \"type\": \"parcoords\"}], \"pie\": [{\"automargin\": true, \"type\": \"pie\"}], \"scatter\": [{\"marker\": {\"colorbar\": {\"outlinewidth\": 0, \"ticks\": \"\"}}, \"type\": \"scatter\"}], \"scatter3d\": [{\"line\": {\"colorbar\": {\"outlinewidth\": 0, \"ticks\": \"\"}}, \"marker\": {\"colorbar\": {\"outlinewidth\": 0, \"ticks\": \"\"}}, \"type\": \"scatter3d\"}], \"scattercarpet\": [{\"marker\": {\"colorbar\": {\"outlinewidth\": 0, \"ticks\": \"\"}}, \"type\": \"scattercarpet\"}], \"scattergeo\": [{\"marker\": {\"colorbar\": {\"outlinewidth\": 0, \"ticks\": \"\"}}, \"type\": \"scattergeo\"}], \"scattergl\": [{\"marker\": {\"colorbar\": {\"outlinewidth\": 0, \"ticks\": \"\"}}, \"type\": \"scattergl\"}], \"scattermapbox\": [{\"marker\": {\"colorbar\": {\"outlinewidth\": 0, \"ticks\": \"\"}}, \"type\": \"scattermapbox\"}], \"scatterpolar\": [{\"marker\": {\"colorbar\": {\"outlinewidth\": 0, \"ticks\": \"\"}}, \"type\": \"scatterpolar\"}], \"scatterpolargl\": [{\"marker\": {\"colorbar\": {\"outlinewidth\": 0, \"ticks\": \"\"}}, \"type\": \"scatterpolargl\"}], \"scatterternary\": [{\"marker\": {\"colorbar\": {\"outlinewidth\": 0, \"ticks\": \"\"}}, \"type\": \"scatterternary\"}], \"surface\": [{\"colorbar\": {\"outlinewidth\": 0, \"ticks\": \"\"}, \"colorscale\": [[0.0, \"#0d0887\"], [0.1111111111111111, \"#46039f\"], [0.2222222222222222, \"#7201a8\"], [0.3333333333333333, \"#9c179e\"], [0.4444444444444444, \"#bd3786\"], [0.5555555555555556, \"#d8576b\"], [0.6666666666666666, \"#ed7953\"], [0.7777777777777778, \"#fb9f3a\"], [0.8888888888888888, \"#fdca26\"], [1.0, \"#f0f921\"]], \"type\": \"surface\"}], \"table\": [{\"cells\": {\"fill\": {\"color\": \"#EBF0F8\"}, \"line\": {\"color\": \"white\"}}, \"header\": {\"fill\": {\"color\": \"#C8D4E3\"}, \"line\": {\"color\": \"white\"}}, \"type\": \"table\"}]}, \"layout\": {\"annotationdefaults\": {\"arrowcolor\": \"#2a3f5f\", \"arrowhead\": 0, \"arrowwidth\": 1}, \"coloraxis\": {\"colorbar\": {\"outlinewidth\": 0, \"ticks\": \"\"}}, \"colorscale\": {\"diverging\": [[0, \"#8e0152\"], [0.1, \"#c51b7d\"], [0.2, \"#de77ae\"], [0.3, \"#f1b6da\"], [0.4, \"#fde0ef\"], [0.5, \"#f7f7f7\"], [0.6, \"#e6f5d0\"], [0.7, \"#b8e186\"], [0.8, \"#7fbc41\"], [0.9, \"#4d9221\"], [1, \"#276419\"]], \"sequential\": [[0.0, \"#0d0887\"], [0.1111111111111111, \"#46039f\"], [0.2222222222222222, \"#7201a8\"], [0.3333333333333333, \"#9c179e\"], [0.4444444444444444, \"#bd3786\"], [0.5555555555555556, \"#d8576b\"], [0.6666666666666666, \"#ed7953\"], [0.7777777777777778, \"#fb9f3a\"], [0.8888888888888888, \"#fdca26\"], [1.0, \"#f0f921\"]], \"sequentialminus\": [[0.0, \"#0d0887\"], [0.1111111111111111, \"#46039f\"], [0.2222222222222222, \"#7201a8\"], [0.3333333333333333, \"#9c179e\"], [0.4444444444444444, \"#bd3786\"], [0.5555555555555556, \"#d8576b\"], [0.6666666666666666, \"#ed7953\"], [0.7777777777777778, \"#fb9f3a\"], [0.8888888888888888, \"#fdca26\"], [1.0, \"#f0f921\"]]}, \"colorway\": [\"#636efa\", \"#EF553B\", \"#00cc96\", \"#ab63fa\", \"#FFA15A\", \"#19d3f3\", \"#FF6692\", \"#B6E880\", \"#FF97FF\", \"#FECB52\"], \"font\": {\"color\": \"#2a3f5f\"}, \"geo\": {\"bgcolor\": \"white\", \"lakecolor\": \"white\", \"landcolor\": \"#E5ECF6\", \"showlakes\": true, \"showland\": true, \"subunitcolor\": \"white\"}, \"hoverlabel\": {\"align\": \"left\"}, \"hovermode\": \"closest\", \"mapbox\": {\"style\": \"light\"}, \"paper_bgcolor\": \"white\", \"plot_bgcolor\": \"#E5ECF6\", \"polar\": {\"angularaxis\": {\"gridcolor\": \"white\", \"linecolor\": \"white\", \"ticks\": \"\"}, \"bgcolor\": \"#E5ECF6\", \"radialaxis\": {\"gridcolor\": \"white\", \"linecolor\": \"white\", \"ticks\": \"\"}}, \"scene\": {\"xaxis\": {\"backgroundcolor\": \"#E5ECF6\", \"gridcolor\": \"white\", \"gridwidth\": 2, \"linecolor\": \"white\", \"showbackground\": true, \"ticks\": \"\", \"zerolinecolor\": \"white\"}, \"yaxis\": {\"backgroundcolor\": \"#E5ECF6\", \"gridcolor\": \"white\", \"gridwidth\": 2, \"linecolor\": \"white\", \"showbackground\": true, \"ticks\": \"\", \"zerolinecolor\": \"white\"}, \"zaxis\": {\"backgroundcolor\": \"#E5ECF6\", \"gridcolor\": \"white\", \"gridwidth\": 2, \"linecolor\": \"white\", \"showbackground\": true, \"ticks\": \"\", \"zerolinecolor\": \"white\"}}, \"shapedefaults\": {\"line\": {\"color\": \"#2a3f5f\"}}, \"ternary\": {\"aaxis\": {\"gridcolor\": \"white\", \"linecolor\": \"white\", \"ticks\": \"\"}, \"baxis\": {\"gridcolor\": \"white\", \"linecolor\": \"white\", \"ticks\": \"\"}, \"bgcolor\": \"#E5ECF6\", \"caxis\": {\"gridcolor\": \"white\", \"linecolor\": \"white\", \"ticks\": \"\"}}, \"title\": {\"x\": 0.05}, \"xaxis\": {\"automargin\": true, \"gridcolor\": \"white\", \"linecolor\": \"white\", \"ticks\": \"\", \"title\": {\"standoff\": 15}, \"zerolinecolor\": \"white\", \"zerolinewidth\": 2}, \"yaxis\": {\"automargin\": true, \"gridcolor\": \"white\", \"linecolor\": \"white\", \"ticks\": \"\", \"title\": {\"standoff\": 15}, \"zerolinecolor\": \"white\", \"zerolinewidth\": 2}}}, \"title\": {\"font\": {\"color\": \"Black\", \"size\": 38}, \"text\": \"Young's Modulus on Atomic Radius\"}, \"width\": 800, \"xaxis\": {\"gridwidth\": 1, \"tickfont\": {\"size\": 18}, \"title\": {\"font\": {\"size\": 24}, \"text\": \"Atomic Radius [10<sup>2</sup>pm]\"}, \"zeroline\": false}, \"yaxis\": {\"gridwidth\": 1, \"tickfont\": {\"size\": 18}, \"title\": {\"font\": {\"size\": 24}, \"text\": \"Young's Modulus [GPa]\"}, \"zeroline\": false}},\n",
       "                        {\"responsive\": true}\n",
       "                    ).then(function(){\n",
       "                            \n",
       "var gd = document.getElementById('49c0f0d7-df82-444e-b68c-f65cfc9c8a0f');\n",
       "var x = new MutationObserver(function (mutations, observer) {{\n",
       "        var display = window.getComputedStyle(gd).display;\n",
       "        if (!display || display === 'none') {{\n",
       "            console.log([gd, 'removed!']);\n",
       "            Plotly.purge(gd);\n",
       "            observer.disconnect();\n",
       "        }}\n",
       "}});\n",
       "\n",
       "// Listen for the removal of the full notebook cells\n",
       "var notebookContainer = gd.closest('#notebook-container');\n",
       "if (notebookContainer) {{\n",
       "    x.observe(notebookContainer, {childList: true});\n",
       "}}\n",
       "\n",
       "// Listen for the clearing of the current output cell\n",
       "var outputEl = gd.closest('.output');\n",
       "if (outputEl) {{\n",
       "    x.observe(outputEl, {childList: true});\n",
       "}}\n",
       "\n",
       "                        })\n",
       "                };\n",
       "                });\n",
       "            </script>\n",
       "        </div>"
      ]
     },
     "metadata": {},
     "output_type": "display_data"
    }
   ],
   "source": [
    "layout0= go.Layout(title = \"Young's Modulus on Atomic Radius\", hovermode= 'closest', width = 800, height=800, showlegend=True,  # Hovermode establishes the way the labels that appear when you hover are arranged # Establishing a square plot width=height\n",
    "    xaxis= dict(title=go.layout.xaxis.Title(text='Atomic Radius [10<sup>2</sup>pm]', font=dict(size=24)), zeroline= False, gridwidth= 1, tickfont=dict(size=18)), # Axis Titles. Removing the X-axis Mark. Adding a Grid\n",
    "    yaxis= dict(title=go.layout.yaxis.Title(text=\"Young's Modulus [GPa]\", font=dict(size=24)), zeroline= False, gridwidth= 1, tickfont=dict(size=18)), # Axis Titles. Removing the Y-axis Mark. Adding a Grid\n",
    "    legend=dict(font=dict(size=24))) # Adding a legend\n",
    "\n",
    "# Trace\n",
    "\n",
    "trace0 = go.Scatter(x = atomic_radius,y = youngs_modulus, mode = 'markers',\n",
    "    marker= dict(size= 14, line= dict(width=1), color=colors), # We add a size, a border and our custom colors to the markers\n",
    "    text= sample, # This attribute (Text) labels each point to this list, which contains our elements in the same indexes as our properties\n",
    "showlegend = False)\n",
    "\n",
    "\n",
    "# Empty Traces for Legend\n",
    "legend_plot_FCC = go.Scatter(x=[None], y=[None], mode='markers', marker=dict(size=14,  line= dict(width=1),color='blue'), name = 'FCC')\n",
    "legend_plot_BCC = go.Scatter(x=[None], y=[None], mode='markers', marker=dict(size=14,  line= dict(width=1),color='red'), name = 'BCC')\n",
    "legend_plot_HCP = go.Scatter(x=[None], y=[None], mode='markers', marker=dict(size=14,  line= dict(width=1),color='orange'), name = 'HCP')\n",
    "legend_plot_Other = go.Scatter(x=[None], y=[None], mode='markers', marker=dict(size=14, line= dict(width=1),color='green'), name = 'Other')\n",
    "\n",
    "\n",
    "data = [trace0, legend_plot_FCC, legend_plot_BCC, legend_plot_HCP, legend_plot_Other]\n",
    "\n",
    "fig= go.Figure(data, layout=layout0)\n",
    "fig.update_layout(\n",
    "    font_family=\"Arial\",\n",
    "    title_font_color=\"Black\",\n",
    "    title_font_size= 38\n",
    ")\n",
    "iplot(fig)"
   ]
  },
  {
   "cell_type": "markdown",
   "metadata": {},
   "source": [
    " * <font color=blue> **Exercise 4.** Do you find correlations between the properties plotted? If so, what are the underlying reasons for them? </font>\n",
    " * <font color=blue> **Exercise 5.** Select a different pair or properties and create a similar plot. You can insert new cells below from the top menu (Insert -> Cell below) and copy and paste the code to create new plots.  </font>"
   ]
  },
  {
   "cell_type": "markdown",
   "metadata": {},
   "source": [
    "### 4. Query from Mendeleev\n",
    "\n",
    "Another database we can query in a similar way is Mendeleev. Mendeleev is an API (Application programming interface) dedicated library to provide access to element properties in the periodic table. Just as Pymatgen, Mendeleev also uses an object and attributes to handle a query. Mendeleev uses the **element** class (Note that is all lowercase). \n",
    "\n",
    "Making a query in Mendeleev can be done either by using the chemical symbol the same way Pymatgen does, or by providing the atomic number of the elements. Similarly, you can get a property by using it as an attribute for the object. Again, not all properties that you can query are listed here, but you can find them [here](https://mendeleev.readthedocs.io/en/stable/data.html). Note that there Mendeleev does not provide units when returning values, but you can find them in the previous link too. \n",
    "\n",
    "In this example we will query the thermal conductivity for the elements in the list \"sample\".\n",
    "\n",
    "With a little bit of programming experience in Python you can again use the commented code to query all the properties listed for the \"sample\" elements."
   ]
  },
  {
   "cell_type": "code",
   "execution_count": 48,
   "metadata": {},
   "outputs": [
    {
     "name": "stdout",
     "output_type": "stream",
     "text": [
      "Fe 80.4\n",
      "Co 100.0\n",
      "Ni 90.9\n",
      "Cu 401.0\n",
      "Zn 116.0\n"
     ]
    }
   ],
   "source": [
    "querable_mendeleev = [\"atomic_number\", \"atomic_volume\", \"boiling_point\", \"electron_affinity\", \"en_allen\", \"en_pauling\", \"econf\", \"evaporation_heat\", \"fusion_heat\", \"heat_of_formation\",\n",
    "                     \"lattice_constant\", \"melting_point\", \"specific_heat\", \"thermal_conductivity\"]\n",
    "    \n",
    "# You can get the same results using either of these two lists (Numbers correspond to the element's atomic number)\n",
    "sample = ['Fe', 'Co', 'Ni', 'Cu', 'Zn']\n",
    "#sample = [26,27,28,29,30]\n",
    "    \n",
    "for item in sample:    \n",
    "    element_object = mendel.element(item)\n",
    "    print(item, element_object.thermal_conductivity) # You can put any of the properties in the querable_mendeleev list\n",
    "    \n",
    "#for item in sample:\n",
    "#    for i in querable_mendeleev:\n",
    "#        element_object = mendel.element(item)\n",
    "#        print(item, i, getattr(element_object,i))"
   ]
  },
  {
   "cell_type": "code",
   "execution_count": 49,
   "metadata": {},
   "outputs": [
    {
     "data": {
      "text/html": [
       "<div>\n",
       "<style scoped>\n",
       "    .dataframe tbody tr th:only-of-type {\n",
       "        vertical-align: middle;\n",
       "    }\n",
       "\n",
       "    .dataframe tbody tr th {\n",
       "        vertical-align: top;\n",
       "    }\n",
       "\n",
       "    .dataframe thead th {\n",
       "        text-align: right;\n",
       "    }\n",
       "</style>\n",
       "<table border=\"1\" class=\"dataframe\">\n",
       "  <thead>\n",
       "    <tr style=\"text-align: right;\">\n",
       "      <th></th>\n",
       "      <th>atomic_mass</th>\n",
       "      <th>poissons_ratio</th>\n",
       "      <th>atomic_radius</th>\n",
       "      <th>electrical_resistivity</th>\n",
       "      <th>molar_volume</th>\n",
       "      <th>thermal_conductivity</th>\n",
       "      <th>bulk_modulus</th>\n",
       "      <th>youngs_modulus</th>\n",
       "      <th>group</th>\n",
       "      <th>is_noble_gas</th>\n",
       "      <th>...</th>\n",
       "      <th>symbol</th>\n",
       "      <th>vickers_hardness</th>\n",
       "      <th>average_ionic_radius</th>\n",
       "      <th>melting_point</th>\n",
       "      <th>rigidity_modulus</th>\n",
       "      <th>Z</th>\n",
       "      <th>number</th>\n",
       "      <th>atomic_orbitals</th>\n",
       "      <th>density_of_solid</th>\n",
       "      <th>coefficient_of_linear_thermal_expansion</th>\n",
       "    </tr>\n",
       "  </thead>\n",
       "  <tbody>\n",
       "    <tr>\n",
       "      <th>Ag</th>\n",
       "      <td>107.868200</td>\n",
       "      <td>0.37</td>\n",
       "      <td>1.60</td>\n",
       "      <td>1.630000e-08</td>\n",
       "      <td>10.27</td>\n",
       "      <td>430.0</td>\n",
       "      <td>100.0</td>\n",
       "      <td>83.0</td>\n",
       "      <td>11</td>\n",
       "      <td>False</td>\n",
       "      <td>...</td>\n",
       "      <td>Ag</td>\n",
       "      <td>251.0</td>\n",
       "      <td>1.086667</td>\n",
       "      <td>1234.93</td>\n",
       "      <td>30.0</td>\n",
       "      <td>47</td>\n",
       "      <td>47</td>\n",
       "      <td>{'1s': -900.324578, '2p': -120.913351, '2s': -...</td>\n",
       "      <td>10490.0</td>\n",
       "      <td>0.000019</td>\n",
       "    </tr>\n",
       "    <tr>\n",
       "      <th>Al</th>\n",
       "      <td>26.981539</td>\n",
       "      <td>0.35</td>\n",
       "      <td>1.25</td>\n",
       "      <td>2.700000e-08</td>\n",
       "      <td>10.00</td>\n",
       "      <td>235.0</td>\n",
       "      <td>76.0</td>\n",
       "      <td>70.0</td>\n",
       "      <td>13</td>\n",
       "      <td>False</td>\n",
       "      <td>...</td>\n",
       "      <td>Al</td>\n",
       "      <td>167.0</td>\n",
       "      <td>0.675000</td>\n",
       "      <td>933.47</td>\n",
       "      <td>26.0</td>\n",
       "      <td>13</td>\n",
       "      <td>13</td>\n",
       "      <td>{'1s': -55.156044, '2p': -2.564018, '2s': -3.9...</td>\n",
       "      <td>2700.0</td>\n",
       "      <td>0.000023</td>\n",
       "    </tr>\n",
       "    <tr>\n",
       "      <th>Au</th>\n",
       "      <td>196.966569</td>\n",
       "      <td>0.44</td>\n",
       "      <td>1.35</td>\n",
       "      <td>2.200000e-08</td>\n",
       "      <td>10.21</td>\n",
       "      <td>320.0</td>\n",
       "      <td>220.0</td>\n",
       "      <td>78.0</td>\n",
       "      <td>11</td>\n",
       "      <td>False</td>\n",
       "      <td>...</td>\n",
       "      <td>Au</td>\n",
       "      <td>216.0</td>\n",
       "      <td>1.070000</td>\n",
       "      <td>1337.33</td>\n",
       "      <td>27.0</td>\n",
       "      <td>79</td>\n",
       "      <td>79</td>\n",
       "      <td>{'1s': -2683.508245, '2p': -430.725701, '2s': ...</td>\n",
       "      <td>19300.0</td>\n",
       "      <td>0.000014</td>\n",
       "    </tr>\n",
       "    <tr>\n",
       "      <th>Cu</th>\n",
       "      <td>63.546000</td>\n",
       "      <td>0.34</td>\n",
       "      <td>1.35</td>\n",
       "      <td>1.720000e-08</td>\n",
       "      <td>7.11</td>\n",
       "      <td>400.0</td>\n",
       "      <td>140.0</td>\n",
       "      <td>130.0</td>\n",
       "      <td>11</td>\n",
       "      <td>False</td>\n",
       "      <td>...</td>\n",
       "      <td>Cu</td>\n",
       "      <td>369.0</td>\n",
       "      <td>0.820000</td>\n",
       "      <td>1357.77</td>\n",
       "      <td>48.0</td>\n",
       "      <td>29</td>\n",
       "      <td>29</td>\n",
       "      <td>{'1s': -320.78852, '2p': -33.481247, '2s': -38...</td>\n",
       "      <td>8920.0</td>\n",
       "      <td>0.000017</td>\n",
       "    </tr>\n",
       "    <tr>\n",
       "      <th>Ir</th>\n",
       "      <td>192.217000</td>\n",
       "      <td>0.26</td>\n",
       "      <td>1.35</td>\n",
       "      <td>4.700000e-08</td>\n",
       "      <td>8.52</td>\n",
       "      <td>150.0</td>\n",
       "      <td>320.0</td>\n",
       "      <td>528.0</td>\n",
       "      <td>9</td>\n",
       "      <td>False</td>\n",
       "      <td>...</td>\n",
       "      <td>Ir</td>\n",
       "      <td>1760.0</td>\n",
       "      <td>0.765000</td>\n",
       "      <td>2739.00</td>\n",
       "      <td>210.0</td>\n",
       "      <td>77</td>\n",
       "      <td>77</td>\n",
       "      <td>{'1s': -2543.761342, '2p': -405.526834, '2s': ...</td>\n",
       "      <td>22650.0</td>\n",
       "      <td>0.000006</td>\n",
       "    </tr>\n",
       "    <tr>\n",
       "      <th>Ni</th>\n",
       "      <td>58.693400</td>\n",
       "      <td>0.31</td>\n",
       "      <td>1.35</td>\n",
       "      <td>7.200000e-08</td>\n",
       "      <td>6.59</td>\n",
       "      <td>91.0</td>\n",
       "      <td>180.0</td>\n",
       "      <td>200.0</td>\n",
       "      <td>10</td>\n",
       "      <td>False</td>\n",
       "      <td>...</td>\n",
       "      <td>Ni</td>\n",
       "      <td>638.0</td>\n",
       "      <td>0.740000</td>\n",
       "      <td>1728.00</td>\n",
       "      <td>76.0</td>\n",
       "      <td>28</td>\n",
       "      <td>28</td>\n",
       "      <td>{'1s': -297.870824, '2p': -30.868027, '2s': -3...</td>\n",
       "      <td>8908.0</td>\n",
       "      <td>0.000013</td>\n",
       "    </tr>\n",
       "    <tr>\n",
       "      <th>Pb</th>\n",
       "      <td>207.200000</td>\n",
       "      <td>0.44</td>\n",
       "      <td>1.80</td>\n",
       "      <td>2.100000e-07</td>\n",
       "      <td>18.26</td>\n",
       "      <td>35.0</td>\n",
       "      <td>46.0</td>\n",
       "      <td>16.0</td>\n",
       "      <td>14</td>\n",
       "      <td>False</td>\n",
       "      <td>...</td>\n",
       "      <td>Pb</td>\n",
       "      <td>NaN</td>\n",
       "      <td>1.122500</td>\n",
       "      <td>600.61</td>\n",
       "      <td>5.6</td>\n",
       "      <td>82</td>\n",
       "      <td>82</td>\n",
       "      <td>{'1s': -2901.078061, '2p': -470.877785, '2s': ...</td>\n",
       "      <td>11340.0</td>\n",
       "      <td>0.000029</td>\n",
       "    </tr>\n",
       "    <tr>\n",
       "      <th>Pd</th>\n",
       "      <td>106.420000</td>\n",
       "      <td>0.39</td>\n",
       "      <td>1.40</td>\n",
       "      <td>1.080000e-07</td>\n",
       "      <td>8.56</td>\n",
       "      <td>72.0</td>\n",
       "      <td>180.0</td>\n",
       "      <td>121.0</td>\n",
       "      <td>10</td>\n",
       "      <td>False</td>\n",
       "      <td>...</td>\n",
       "      <td>Pd</td>\n",
       "      <td>461.0</td>\n",
       "      <td>0.846250</td>\n",
       "      <td>1828.05</td>\n",
       "      <td>44.0</td>\n",
       "      <td>46</td>\n",
       "      <td>46</td>\n",
       "      <td>{'1s': -860.134909, '2p': -114.408286, '2s': -...</td>\n",
       "      <td>12023.0</td>\n",
       "      <td>0.000012</td>\n",
       "    </tr>\n",
       "    <tr>\n",
       "      <th>Pt</th>\n",
       "      <td>195.084000</td>\n",
       "      <td>0.38</td>\n",
       "      <td>1.35</td>\n",
       "      <td>1.060000e-07</td>\n",
       "      <td>9.09</td>\n",
       "      <td>72.0</td>\n",
       "      <td>230.0</td>\n",
       "      <td>168.0</td>\n",
       "      <td>10</td>\n",
       "      <td>False</td>\n",
       "      <td>...</td>\n",
       "      <td>Pt</td>\n",
       "      <td>549.0</td>\n",
       "      <td>0.805000</td>\n",
       "      <td>2041.40</td>\n",
       "      <td>61.0</td>\n",
       "      <td>78</td>\n",
       "      <td>78</td>\n",
       "      <td>{'1s': -2613.096532, '2p': -417.96053, '2s': -...</td>\n",
       "      <td>21090.0</td>\n",
       "      <td>0.000009</td>\n",
       "    </tr>\n",
       "    <tr>\n",
       "      <th>Rh</th>\n",
       "      <td>102.905500</td>\n",
       "      <td>0.26</td>\n",
       "      <td>1.35</td>\n",
       "      <td>4.300000e-08</td>\n",
       "      <td>8.28</td>\n",
       "      <td>150.0</td>\n",
       "      <td>380.0</td>\n",
       "      <td>275.0</td>\n",
       "      <td>9</td>\n",
       "      <td>False</td>\n",
       "      <td>...</td>\n",
       "      <td>Rh</td>\n",
       "      <td>1246.0</td>\n",
       "      <td>0.745000</td>\n",
       "      <td>2237.00</td>\n",
       "      <td>150.0</td>\n",
       "      <td>45</td>\n",
       "      <td>45</td>\n",
       "      <td>{'1s': -821.136773, '2p': -108.357665, '2s': -...</td>\n",
       "      <td>12450.0</td>\n",
       "      <td>0.000008</td>\n",
       "    </tr>\n",
       "    <tr>\n",
       "      <th>Sr</th>\n",
       "      <td>87.620000</td>\n",
       "      <td>0.28</td>\n",
       "      <td>2.00</td>\n",
       "      <td>1.350000e-07</td>\n",
       "      <td>33.94</td>\n",
       "      <td>35.0</td>\n",
       "      <td>NaN</td>\n",
       "      <td>NaN</td>\n",
       "      <td>2</td>\n",
       "      <td>False</td>\n",
       "      <td>...</td>\n",
       "      <td>Sr</td>\n",
       "      <td>NaN</td>\n",
       "      <td>1.320000</td>\n",
       "      <td>1050.00</td>\n",
       "      <td>6.1</td>\n",
       "      <td>38</td>\n",
       "      <td>38</td>\n",
       "      <td>{'1s': -572.870169, '2p': -69.745941, '2s': -7...</td>\n",
       "      <td>2630.0</td>\n",
       "      <td>0.000023</td>\n",
       "    </tr>\n",
       "    <tr>\n",
       "      <th>Th</th>\n",
       "      <td>232.038060</td>\n",
       "      <td>0.27</td>\n",
       "      <td>1.80</td>\n",
       "      <td>1.500000e-07</td>\n",
       "      <td>19.80</td>\n",
       "      <td>54.0</td>\n",
       "      <td>54.0</td>\n",
       "      <td>79.0</td>\n",
       "      <td>4</td>\n",
       "      <td>False</td>\n",
       "      <td>...</td>\n",
       "      <td>Th</td>\n",
       "      <td>350.0</td>\n",
       "      <td>1.080000</td>\n",
       "      <td>2115.00</td>\n",
       "      <td>31.0</td>\n",
       "      <td>90</td>\n",
       "      <td>90</td>\n",
       "      <td>{'1s': -3524.439052, '2p': -588.218112, '2s': ...</td>\n",
       "      <td>11724.0</td>\n",
       "      <td>0.000011</td>\n",
       "    </tr>\n",
       "    <tr>\n",
       "      <th>Yb</th>\n",
       "      <td>173.040000</td>\n",
       "      <td>0.21</td>\n",
       "      <td>1.75</td>\n",
       "      <td>2.500000e-07</td>\n",
       "      <td>24.84</td>\n",
       "      <td>39.0</td>\n",
       "      <td>31.0</td>\n",
       "      <td>24.0</td>\n",
       "      <td>16</td>\n",
       "      <td>False</td>\n",
       "      <td>...</td>\n",
       "      <td>Yb</td>\n",
       "      <td>206.0</td>\n",
       "      <td>1.084000</td>\n",
       "      <td>1097.00</td>\n",
       "      <td>9.9</td>\n",
       "      <td>70</td>\n",
       "      <td>70</td>\n",
       "      <td>{'1s': -2084.069389, '2p': -323.178219, '2s': ...</td>\n",
       "      <td>6570.0</td>\n",
       "      <td>0.000026</td>\n",
       "    </tr>\n",
       "  </tbody>\n",
       "</table>\n",
       "<p>13 rows × 37 columns</p>\n",
       "</div>"
      ],
      "text/plain": [
       "    atomic_mass  poissons_ratio  atomic_radius  electrical_resistivity  \\\n",
       "Ag   107.868200            0.37           1.60            1.630000e-08   \n",
       "Al    26.981539            0.35           1.25            2.700000e-08   \n",
       "Au   196.966569            0.44           1.35            2.200000e-08   \n",
       "Cu    63.546000            0.34           1.35            1.720000e-08   \n",
       "Ir   192.217000            0.26           1.35            4.700000e-08   \n",
       "Ni    58.693400            0.31           1.35            7.200000e-08   \n",
       "Pb   207.200000            0.44           1.80            2.100000e-07   \n",
       "Pd   106.420000            0.39           1.40            1.080000e-07   \n",
       "Pt   195.084000            0.38           1.35            1.060000e-07   \n",
       "Rh   102.905500            0.26           1.35            4.300000e-08   \n",
       "Sr    87.620000            0.28           2.00            1.350000e-07   \n",
       "Th   232.038060            0.27           1.80            1.500000e-07   \n",
       "Yb   173.040000            0.21           1.75            2.500000e-07   \n",
       "\n",
       "    molar_volume  thermal_conductivity  bulk_modulus  youngs_modulus  group  \\\n",
       "Ag         10.27                 430.0         100.0            83.0     11   \n",
       "Al         10.00                 235.0          76.0            70.0     13   \n",
       "Au         10.21                 320.0         220.0            78.0     11   \n",
       "Cu          7.11                 400.0         140.0           130.0     11   \n",
       "Ir          8.52                 150.0         320.0           528.0      9   \n",
       "Ni          6.59                  91.0         180.0           200.0     10   \n",
       "Pb         18.26                  35.0          46.0            16.0     14   \n",
       "Pd          8.56                  72.0         180.0           121.0     10   \n",
       "Pt          9.09                  72.0         230.0           168.0     10   \n",
       "Rh          8.28                 150.0         380.0           275.0      9   \n",
       "Sr         33.94                  35.0           NaN             NaN      2   \n",
       "Th         19.80                  54.0          54.0            79.0      4   \n",
       "Yb         24.84                  39.0          31.0            24.0     16   \n",
       "\n",
       "    is_noble_gas  ...  symbol  vickers_hardness  average_ionic_radius  \\\n",
       "Ag         False  ...      Ag             251.0              1.086667   \n",
       "Al         False  ...      Al             167.0              0.675000   \n",
       "Au         False  ...      Au             216.0              1.070000   \n",
       "Cu         False  ...      Cu             369.0              0.820000   \n",
       "Ir         False  ...      Ir            1760.0              0.765000   \n",
       "Ni         False  ...      Ni             638.0              0.740000   \n",
       "Pb         False  ...      Pb               NaN              1.122500   \n",
       "Pd         False  ...      Pd             461.0              0.846250   \n",
       "Pt         False  ...      Pt             549.0              0.805000   \n",
       "Rh         False  ...      Rh            1246.0              0.745000   \n",
       "Sr         False  ...      Sr               NaN              1.320000   \n",
       "Th         False  ...      Th             350.0              1.080000   \n",
       "Yb         False  ...      Yb             206.0              1.084000   \n",
       "\n",
       "    melting_point  rigidity_modulus   Z  number  \\\n",
       "Ag        1234.93              30.0  47      47   \n",
       "Al         933.47              26.0  13      13   \n",
       "Au        1337.33              27.0  79      79   \n",
       "Cu        1357.77              48.0  29      29   \n",
       "Ir        2739.00             210.0  77      77   \n",
       "Ni        1728.00              76.0  28      28   \n",
       "Pb         600.61               5.6  82      82   \n",
       "Pd        1828.05              44.0  46      46   \n",
       "Pt        2041.40              61.0  78      78   \n",
       "Rh        2237.00             150.0  45      45   \n",
       "Sr        1050.00               6.1  38      38   \n",
       "Th        2115.00              31.0  90      90   \n",
       "Yb        1097.00               9.9  70      70   \n",
       "\n",
       "                                      atomic_orbitals  density_of_solid  \\\n",
       "Ag  {'1s': -900.324578, '2p': -120.913351, '2s': -...           10490.0   \n",
       "Al  {'1s': -55.156044, '2p': -2.564018, '2s': -3.9...            2700.0   \n",
       "Au  {'1s': -2683.508245, '2p': -430.725701, '2s': ...           19300.0   \n",
       "Cu  {'1s': -320.78852, '2p': -33.481247, '2s': -38...            8920.0   \n",
       "Ir  {'1s': -2543.761342, '2p': -405.526834, '2s': ...           22650.0   \n",
       "Ni  {'1s': -297.870824, '2p': -30.868027, '2s': -3...            8908.0   \n",
       "Pb  {'1s': -2901.078061, '2p': -470.877785, '2s': ...           11340.0   \n",
       "Pd  {'1s': -860.134909, '2p': -114.408286, '2s': -...           12023.0   \n",
       "Pt  {'1s': -2613.096532, '2p': -417.96053, '2s': -...           21090.0   \n",
       "Rh  {'1s': -821.136773, '2p': -108.357665, '2s': -...           12450.0   \n",
       "Sr  {'1s': -572.870169, '2p': -69.745941, '2s': -7...            2630.0   \n",
       "Th  {'1s': -3524.439052, '2p': -588.218112, '2s': ...           11724.0   \n",
       "Yb  {'1s': -2084.069389, '2p': -323.178219, '2s': ...            6570.0   \n",
       "\n",
       "    coefficient_of_linear_thermal_expansion  \n",
       "Ag                                 0.000019  \n",
       "Al                                 0.000023  \n",
       "Au                                 0.000014  \n",
       "Cu                                 0.000017  \n",
       "Ir                                 0.000006  \n",
       "Ni                                 0.000013  \n",
       "Pb                                 0.000029  \n",
       "Pd                                 0.000012  \n",
       "Pt                                 0.000009  \n",
       "Rh                                 0.000008  \n",
       "Sr                                 0.000023  \n",
       "Th                                 0.000011  \n",
       "Yb                                 0.000026  \n",
       "\n",
       "[13 rows x 37 columns]"
      ]
     },
     "execution_count": 49,
     "metadata": {},
     "output_type": "execute_result"
    }
   ],
   "source": [
    "df"
   ]
  },
  {
   "cell_type": "code",
   "execution_count": null,
   "metadata": {},
   "outputs": [],
   "source": []
  }
 ],
 "metadata": {
  "kernelspec": {
   "display_name": "PythonData",
   "language": "python",
   "name": "pythondata"
  },
  "language_info": {
   "codemirror_mode": {
    "name": "ipython",
    "version": 3
   },
   "file_extension": ".py",
   "mimetype": "text/x-python",
   "name": "python",
   "nbconvert_exporter": "python",
   "pygments_lexer": "ipython3",
   "version": "3.7.7"
  }
 },
 "nbformat": 4,
 "nbformat_minor": 2
}
