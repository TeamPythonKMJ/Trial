{
 "cells": [
  {
   "cell_type": "code",
   "execution_count": 1,
   "metadata": {},
   "outputs": [],
   "source": [
    "import pandas as pd\n",
    "from pathlib import Path\n",
    "import matplotlib.pyplot as plt\n",
    "from sklearn.linear_model import LinearRegression"
   ]
  },
  {
   "cell_type": "code",
   "execution_count": 184,
   "metadata": {},
   "outputs": [
    {
     "data": {
      "text/html": [
       "<div>\n",
       "<style scoped>\n",
       "    .dataframe tbody tr th:only-of-type {\n",
       "        vertical-align: middle;\n",
       "    }\n",
       "\n",
       "    .dataframe tbody tr th {\n",
       "        vertical-align: top;\n",
       "    }\n",
       "\n",
       "    .dataframe thead th {\n",
       "        text-align: right;\n",
       "    }\n",
       "</style>\n",
       "<table border=\"1\" class=\"dataframe\">\n",
       "  <thead>\n",
       "    <tr style=\"text-align: right;\">\n",
       "      <th></th>\n",
       "      <th>Unnamed: 0</th>\n",
       "      <th>mp_id</th>\n",
       "      <th>Formula</th>\n",
       "      <th>Composition</th>\n",
       "      <th>IPF</th>\n",
       "      <th>Density</th>\n",
       "      <th>Elastic_Tensor</th>\n",
       "      <th>E_above_Hull</th>\n",
       "      <th>G_VRH</th>\n",
       "      <th>K_VRH</th>\n",
       "      <th>Elastic_Anisotropy</th>\n",
       "      <th>poisson_ratio</th>\n",
       "      <th>Y_Modulus</th>\n",
       "    </tr>\n",
       "  </thead>\n",
       "  <tbody>\n",
       "    <tr>\n",
       "      <th>0</th>\n",
       "      <td>0</td>\n",
       "      <td>mp-10014</td>\n",
       "      <td>TaS2</td>\n",
       "      <td>{'Ta': 1.0, 'S': 2.0}</td>\n",
       "      <td>0.121404</td>\n",
       "      <td>6.161496</td>\n",
       "      <td>{'G_Reuss': 12.0, 'G_VRH': 23.0, 'G_Voigt': 33...</td>\n",
       "      <td>0.330107</td>\n",
       "      <td>23.0</td>\n",
       "      <td>18.0</td>\n",
       "      <td>1.87</td>\n",
       "      <td>0.06</td>\n",
       "      <td>48.76</td>\n",
       "    </tr>\n",
       "    <tr>\n",
       "      <th>1</th>\n",
       "      <td>1</td>\n",
       "      <td>mp-10142</td>\n",
       "      <td>Ta3B4</td>\n",
       "      <td>{'Ta': 3.0, 'B': 4.0}</td>\n",
       "      <td>0.110338</td>\n",
       "      <td>13.284352</td>\n",
       "      <td>{'G_Reuss': 205.0, 'G_VRH': 208.0, 'G_Voigt': ...</td>\n",
       "      <td>0.000000</td>\n",
       "      <td>208.0</td>\n",
       "      <td>296.0</td>\n",
       "      <td>0.15</td>\n",
       "      <td>0.22</td>\n",
       "      <td>507.52</td>\n",
       "    </tr>\n",
       "    <tr>\n",
       "      <th>2</th>\n",
       "      <td>2</td>\n",
       "      <td>mp-1020</td>\n",
       "      <td>TaRh3</td>\n",
       "      <td>{'Ta': 1.0, 'Rh': 3.0}</td>\n",
       "      <td>0.126101</td>\n",
       "      <td>13.660786</td>\n",
       "      <td>{'G_Reuss': 148.0, 'G_VRH': 153.0, 'G_Voigt': ...</td>\n",
       "      <td>0.000000</td>\n",
       "      <td>153.0</td>\n",
       "      <td>260.0</td>\n",
       "      <td>0.30</td>\n",
       "      <td>0.25</td>\n",
       "      <td>382.50</td>\n",
       "    </tr>\n",
       "    <tr>\n",
       "      <th>3</th>\n",
       "      <td>3</td>\n",
       "      <td>mp-1086</td>\n",
       "      <td>TaC</td>\n",
       "      <td>{'Ta': 1.0, 'C': 1.0}</td>\n",
       "      <td>0.107626</td>\n",
       "      <td>14.234281</td>\n",
       "      <td>{'G_Reuss': 208.0, 'G_VRH': 215.0, 'G_Voigt': ...</td>\n",
       "      <td>0.000000</td>\n",
       "      <td>215.0</td>\n",
       "      <td>324.0</td>\n",
       "      <td>0.30</td>\n",
       "      <td>0.23</td>\n",
       "      <td>528.90</td>\n",
       "    </tr>\n",
       "    <tr>\n",
       "      <th>4</th>\n",
       "      <td>4</td>\n",
       "      <td>mp-1097</td>\n",
       "      <td>TaB</td>\n",
       "      <td>{'Ta': 1.0, 'B': 1.0}</td>\n",
       "      <td>0.114081</td>\n",
       "      <td>13.980922</td>\n",
       "      <td>{'G_Reuss': 210.0, 'G_VRH': 213.0, 'G_Voigt': ...</td>\n",
       "      <td>0.000000</td>\n",
       "      <td>213.0</td>\n",
       "      <td>266.0</td>\n",
       "      <td>0.13</td>\n",
       "      <td>0.18</td>\n",
       "      <td>502.68</td>\n",
       "    </tr>\n",
       "  </tbody>\n",
       "</table>\n",
       "</div>"
      ],
      "text/plain": [
       "   Unnamed: 0     mp_id Formula             Composition       IPF    Density  \\\n",
       "0           0  mp-10014    TaS2   {'Ta': 1.0, 'S': 2.0}  0.121404   6.161496   \n",
       "1           1  mp-10142   Ta3B4   {'Ta': 3.0, 'B': 4.0}  0.110338  13.284352   \n",
       "2           2   mp-1020   TaRh3  {'Ta': 1.0, 'Rh': 3.0}  0.126101  13.660786   \n",
       "3           3   mp-1086     TaC   {'Ta': 1.0, 'C': 1.0}  0.107626  14.234281   \n",
       "4           4   mp-1097     TaB   {'Ta': 1.0, 'B': 1.0}  0.114081  13.980922   \n",
       "\n",
       "                                      Elastic_Tensor  E_above_Hull  G_VRH  \\\n",
       "0  {'G_Reuss': 12.0, 'G_VRH': 23.0, 'G_Voigt': 33...      0.330107   23.0   \n",
       "1  {'G_Reuss': 205.0, 'G_VRH': 208.0, 'G_Voigt': ...      0.000000  208.0   \n",
       "2  {'G_Reuss': 148.0, 'G_VRH': 153.0, 'G_Voigt': ...      0.000000  153.0   \n",
       "3  {'G_Reuss': 208.0, 'G_VRH': 215.0, 'G_Voigt': ...      0.000000  215.0   \n",
       "4  {'G_Reuss': 210.0, 'G_VRH': 213.0, 'G_Voigt': ...      0.000000  213.0   \n",
       "\n",
       "   K_VRH  Elastic_Anisotropy  poisson_ratio  Y_Modulus  \n",
       "0   18.0                1.87           0.06      48.76  \n",
       "1  296.0                0.15           0.22     507.52  \n",
       "2  260.0                0.30           0.25     382.50  \n",
       "3  324.0                0.30           0.23     528.90  \n",
       "4  266.0                0.13           0.18     502.68  "
      ]
     },
     "execution_count": 184,
     "metadata": {},
     "output_type": "execute_result"
    }
   ],
   "source": [
    "# df = pd.read_csv(Path('../All Data Export/Ti_compounds_dataframe.csv'))\n",
    "# df = pd.read_csv(Path('../All Data Export/C_compounds_dataframe.csv'))\n",
    "# df = pd.read_csv(Path('../All Data Export/Cr_compounds_dataframe.csv'))\n",
    "# df = pd.read_csv(Path('../All Data Export/Fe_compounds_dataframe.csv'))\n",
    "# df = pd.read_csv(Path('../All Data Export/Hf_compounds_dataframe.csv'))\n",
    "# df = pd.read_csv(Path('../All Data Export/Mo_compounds_dataframe.csv'))\n",
    "# df = pd.read_csv(Path('../All Data Export/Nb_compounds_dataframe.csv'))\n",
    "# df = pd.read_csv(Path('../All Data Export/Ni_compounds_dataframe.csv'))\n",
    "# df = pd.read_csv(Path('../All Data Export/V_compounds_dataframe.csv'))\n",
    "# df = pd.read_csv(Path('../All Data Export/W_compounds_dataframe.csv'))\n",
    "# df = pd.read_csv(Path('../All Data Export/Zr_compounds_dataframe.csv'))\n",
    "df = pd.read_csv(Path('../All Data Export/Ta_compounds_dataframe.csv'))\n",
    "\n",
    "df.head()"
   ]
  },
  {
   "cell_type": "code",
   "execution_count": 185,
   "metadata": {},
   "outputs": [
    {
     "data": {
      "text/html": [
       "<div>\n",
       "<style scoped>\n",
       "    .dataframe tbody tr th:only-of-type {\n",
       "        vertical-align: middle;\n",
       "    }\n",
       "\n",
       "    .dataframe tbody tr th {\n",
       "        vertical-align: top;\n",
       "    }\n",
       "\n",
       "    .dataframe thead th {\n",
       "        text-align: right;\n",
       "    }\n",
       "</style>\n",
       "<table border=\"1\" class=\"dataframe\">\n",
       "  <thead>\n",
       "    <tr style=\"text-align: right;\">\n",
       "      <th></th>\n",
       "      <th>Unnamed: 0</th>\n",
       "      <th>mp_id</th>\n",
       "      <th>Formula</th>\n",
       "      <th>Composition</th>\n",
       "      <th>IPF</th>\n",
       "      <th>Density</th>\n",
       "      <th>Elastic_Tensor</th>\n",
       "      <th>E_above_Hull</th>\n",
       "      <th>G_VRH</th>\n",
       "      <th>K_VRH</th>\n",
       "      <th>Elastic_Anisotropy</th>\n",
       "      <th>poisson_ratio</th>\n",
       "      <th>Y_Modulus</th>\n",
       "    </tr>\n",
       "  </thead>\n",
       "  <tbody>\n",
       "    <tr>\n",
       "      <th>0</th>\n",
       "      <td>0</td>\n",
       "      <td>mp-10014</td>\n",
       "      <td>TaS2</td>\n",
       "      <td>{'Ta': 1.0, 'S': 2.0}</td>\n",
       "      <td>0.121404</td>\n",
       "      <td>6.161496</td>\n",
       "      <td>{'G_Reuss': 12.0, 'G_VRH': 23.0, 'G_Voigt': 33...</td>\n",
       "      <td>0.330107</td>\n",
       "      <td>23.0</td>\n",
       "      <td>18.0</td>\n",
       "      <td>1.87</td>\n",
       "      <td>0.06</td>\n",
       "      <td>48.76</td>\n",
       "    </tr>\n",
       "    <tr>\n",
       "      <th>1</th>\n",
       "      <td>1</td>\n",
       "      <td>mp-10142</td>\n",
       "      <td>Ta3B4</td>\n",
       "      <td>{'Ta': 3.0, 'B': 4.0}</td>\n",
       "      <td>0.110338</td>\n",
       "      <td>13.284352</td>\n",
       "      <td>{'G_Reuss': 205.0, 'G_VRH': 208.0, 'G_Voigt': ...</td>\n",
       "      <td>0.000000</td>\n",
       "      <td>208.0</td>\n",
       "      <td>296.0</td>\n",
       "      <td>0.15</td>\n",
       "      <td>0.22</td>\n",
       "      <td>507.52</td>\n",
       "    </tr>\n",
       "    <tr>\n",
       "      <th>2</th>\n",
       "      <td>2</td>\n",
       "      <td>mp-1020</td>\n",
       "      <td>TaRh3</td>\n",
       "      <td>{'Ta': 1.0, 'Rh': 3.0}</td>\n",
       "      <td>0.126101</td>\n",
       "      <td>13.660786</td>\n",
       "      <td>{'G_Reuss': 148.0, 'G_VRH': 153.0, 'G_Voigt': ...</td>\n",
       "      <td>0.000000</td>\n",
       "      <td>153.0</td>\n",
       "      <td>260.0</td>\n",
       "      <td>0.30</td>\n",
       "      <td>0.25</td>\n",
       "      <td>382.50</td>\n",
       "    </tr>\n",
       "    <tr>\n",
       "      <th>3</th>\n",
       "      <td>3</td>\n",
       "      <td>mp-1086</td>\n",
       "      <td>TaC</td>\n",
       "      <td>{'Ta': 1.0, 'C': 1.0}</td>\n",
       "      <td>0.107626</td>\n",
       "      <td>14.234281</td>\n",
       "      <td>{'G_Reuss': 208.0, 'G_VRH': 215.0, 'G_Voigt': ...</td>\n",
       "      <td>0.000000</td>\n",
       "      <td>215.0</td>\n",
       "      <td>324.0</td>\n",
       "      <td>0.30</td>\n",
       "      <td>0.23</td>\n",
       "      <td>528.90</td>\n",
       "    </tr>\n",
       "    <tr>\n",
       "      <th>4</th>\n",
       "      <td>4</td>\n",
       "      <td>mp-1097</td>\n",
       "      <td>TaB</td>\n",
       "      <td>{'Ta': 1.0, 'B': 1.0}</td>\n",
       "      <td>0.114081</td>\n",
       "      <td>13.980922</td>\n",
       "      <td>{'G_Reuss': 210.0, 'G_VRH': 213.0, 'G_Voigt': ...</td>\n",
       "      <td>0.000000</td>\n",
       "      <td>213.0</td>\n",
       "      <td>266.0</td>\n",
       "      <td>0.13</td>\n",
       "      <td>0.18</td>\n",
       "      <td>502.68</td>\n",
       "    </tr>\n",
       "    <tr>\n",
       "      <th>...</th>\n",
       "      <td>...</td>\n",
       "      <td>...</td>\n",
       "      <td>...</td>\n",
       "      <td>...</td>\n",
       "      <td>...</td>\n",
       "      <td>...</td>\n",
       "      <td>...</td>\n",
       "      <td>...</td>\n",
       "      <td>...</td>\n",
       "      <td>...</td>\n",
       "      <td>...</td>\n",
       "      <td>...</td>\n",
       "      <td>...</td>\n",
       "    </tr>\n",
       "    <tr>\n",
       "      <th>152</th>\n",
       "      <td>153</td>\n",
       "      <td>mp-12427</td>\n",
       "      <td>Sr2TaGaO6</td>\n",
       "      <td>{'Sr': 2.0, 'Ta': 1.0, 'Ga': 1.0, 'O': 6.0}</td>\n",
       "      <td>0.581751</td>\n",
       "      <td>6.841673</td>\n",
       "      <td>{'G_Reuss': 91.0, 'G_VRH': 92.0, 'G_Voigt': 93...</td>\n",
       "      <td>0.000000</td>\n",
       "      <td>92.0</td>\n",
       "      <td>151.0</td>\n",
       "      <td>0.12</td>\n",
       "      <td>0.25</td>\n",
       "      <td>230.00</td>\n",
       "    </tr>\n",
       "    <tr>\n",
       "      <th>153</th>\n",
       "      <td>154</td>\n",
       "      <td>mp-23089</td>\n",
       "      <td>SrTa2Bi2O9</td>\n",
       "      <td>{'Sr': 1.0, 'Ta': 2.0, 'Bi': 2.0, 'O': 9.0}</td>\n",
       "      <td>0.493154</td>\n",
       "      <td>8.370517</td>\n",
       "      <td>{'G_Reuss': 59.0, 'G_VRH': 61.0, 'G_Voigt': 62...</td>\n",
       "      <td>0.000000</td>\n",
       "      <td>61.0</td>\n",
       "      <td>83.0</td>\n",
       "      <td>0.30</td>\n",
       "      <td>0.21</td>\n",
       "      <td>147.62</td>\n",
       "    </tr>\n",
       "    <tr>\n",
       "      <th>154</th>\n",
       "      <td>155</td>\n",
       "      <td>mp-31624</td>\n",
       "      <td>Sr2TaCrO6</td>\n",
       "      <td>{'Sr': 2.0, 'Ta': 1.0, 'Cr': 1.0, 'O': 6.0}</td>\n",
       "      <td>0.589968</td>\n",
       "      <td>6.556700</td>\n",
       "      <td>{'G_Reuss': 107.0, 'G_VRH': 107.0, 'G_Voigt': ...</td>\n",
       "      <td>0.000000</td>\n",
       "      <td>107.0</td>\n",
       "      <td>187.0</td>\n",
       "      <td>0.02</td>\n",
       "      <td>0.26</td>\n",
       "      <td>269.64</td>\n",
       "    </tr>\n",
       "    <tr>\n",
       "      <th>155</th>\n",
       "      <td>156</td>\n",
       "      <td>mp-557713</td>\n",
       "      <td>Ba2LaTaO6</td>\n",
       "      <td>{'Ba': 2.0, 'La': 1.0, 'Ta': 1.0, 'O': 6.0}</td>\n",
       "      <td>0.524899</td>\n",
       "      <td>6.914650</td>\n",
       "      <td>{'G_Reuss': 46.0, 'G_VRH': 48.0, 'G_Voigt': 49...</td>\n",
       "      <td>0.010418</td>\n",
       "      <td>48.0</td>\n",
       "      <td>121.0</td>\n",
       "      <td>0.34</td>\n",
       "      <td>0.33</td>\n",
       "      <td>127.68</td>\n",
       "    </tr>\n",
       "    <tr>\n",
       "      <th>156</th>\n",
       "      <td>157</td>\n",
       "      <td>mp-756088</td>\n",
       "      <td>SrTaNO2</td>\n",
       "      <td>{'Sr': 1.0, 'Ta': 1.0, 'N': 1.0, 'O': 2.0}</td>\n",
       "      <td>0.443915</td>\n",
       "      <td>7.794590</td>\n",
       "      <td>{'G_Reuss': 81.0, 'G_VRH': 83.0, 'G_Voigt': 85...</td>\n",
       "      <td>0.269822</td>\n",
       "      <td>83.0</td>\n",
       "      <td>150.0</td>\n",
       "      <td>0.27</td>\n",
       "      <td>0.27</td>\n",
       "      <td>210.82</td>\n",
       "    </tr>\n",
       "  </tbody>\n",
       "</table>\n",
       "<p>155 rows × 13 columns</p>\n",
       "</div>"
      ],
      "text/plain": [
       "     Unnamed: 0      mp_id     Formula  \\\n",
       "0             0   mp-10014        TaS2   \n",
       "1             1   mp-10142       Ta3B4   \n",
       "2             2    mp-1020       TaRh3   \n",
       "3             3    mp-1086         TaC   \n",
       "4             4    mp-1097         TaB   \n",
       "..          ...        ...         ...   \n",
       "152         153   mp-12427   Sr2TaGaO6   \n",
       "153         154   mp-23089  SrTa2Bi2O9   \n",
       "154         155   mp-31624   Sr2TaCrO6   \n",
       "155         156  mp-557713   Ba2LaTaO6   \n",
       "156         157  mp-756088     SrTaNO2   \n",
       "\n",
       "                                     Composition       IPF    Density  \\\n",
       "0                          {'Ta': 1.0, 'S': 2.0}  0.121404   6.161496   \n",
       "1                          {'Ta': 3.0, 'B': 4.0}  0.110338  13.284352   \n",
       "2                         {'Ta': 1.0, 'Rh': 3.0}  0.126101  13.660786   \n",
       "3                          {'Ta': 1.0, 'C': 1.0}  0.107626  14.234281   \n",
       "4                          {'Ta': 1.0, 'B': 1.0}  0.114081  13.980922   \n",
       "..                                           ...       ...        ...   \n",
       "152  {'Sr': 2.0, 'Ta': 1.0, 'Ga': 1.0, 'O': 6.0}  0.581751   6.841673   \n",
       "153  {'Sr': 1.0, 'Ta': 2.0, 'Bi': 2.0, 'O': 9.0}  0.493154   8.370517   \n",
       "154  {'Sr': 2.0, 'Ta': 1.0, 'Cr': 1.0, 'O': 6.0}  0.589968   6.556700   \n",
       "155  {'Ba': 2.0, 'La': 1.0, 'Ta': 1.0, 'O': 6.0}  0.524899   6.914650   \n",
       "156   {'Sr': 1.0, 'Ta': 1.0, 'N': 1.0, 'O': 2.0}  0.443915   7.794590   \n",
       "\n",
       "                                        Elastic_Tensor  E_above_Hull  G_VRH  \\\n",
       "0    {'G_Reuss': 12.0, 'G_VRH': 23.0, 'G_Voigt': 33...      0.330107   23.0   \n",
       "1    {'G_Reuss': 205.0, 'G_VRH': 208.0, 'G_Voigt': ...      0.000000  208.0   \n",
       "2    {'G_Reuss': 148.0, 'G_VRH': 153.0, 'G_Voigt': ...      0.000000  153.0   \n",
       "3    {'G_Reuss': 208.0, 'G_VRH': 215.0, 'G_Voigt': ...      0.000000  215.0   \n",
       "4    {'G_Reuss': 210.0, 'G_VRH': 213.0, 'G_Voigt': ...      0.000000  213.0   \n",
       "..                                                 ...           ...    ...   \n",
       "152  {'G_Reuss': 91.0, 'G_VRH': 92.0, 'G_Voigt': 93...      0.000000   92.0   \n",
       "153  {'G_Reuss': 59.0, 'G_VRH': 61.0, 'G_Voigt': 62...      0.000000   61.0   \n",
       "154  {'G_Reuss': 107.0, 'G_VRH': 107.0, 'G_Voigt': ...      0.000000  107.0   \n",
       "155  {'G_Reuss': 46.0, 'G_VRH': 48.0, 'G_Voigt': 49...      0.010418   48.0   \n",
       "156  {'G_Reuss': 81.0, 'G_VRH': 83.0, 'G_Voigt': 85...      0.269822   83.0   \n",
       "\n",
       "     K_VRH  Elastic_Anisotropy  poisson_ratio  Y_Modulus  \n",
       "0     18.0                1.87           0.06      48.76  \n",
       "1    296.0                0.15           0.22     507.52  \n",
       "2    260.0                0.30           0.25     382.50  \n",
       "3    324.0                0.30           0.23     528.90  \n",
       "4    266.0                0.13           0.18     502.68  \n",
       "..     ...                 ...            ...        ...  \n",
       "152  151.0                0.12           0.25     230.00  \n",
       "153   83.0                0.30           0.21     147.62  \n",
       "154  187.0                0.02           0.26     269.64  \n",
       "155  121.0                0.34           0.33     127.68  \n",
       "156  150.0                0.27           0.27     210.82  \n",
       "\n",
       "[155 rows x 13 columns]"
      ]
     },
     "execution_count": 185,
     "metadata": {},
     "output_type": "execute_result"
    }
   ],
   "source": [
    "df.drop( df[ df['Y_Modulus'] < 0 ].index , inplace=True)\n",
    "df"
   ]
  },
  {
   "cell_type": "code",
   "execution_count": 186,
   "metadata": {},
   "outputs": [
    {
     "data": {
      "image/png": "[encoded data removed]",
      "text/plain": [
       "<Figure size 432x288 with 1 Axes>"
      ]
     },
     "metadata": {
      "needs_background": "light"
     },
     "output_type": "display_data"
    }
   ],
   "source": [
    "plt.scatter(df.Density, df.Y_Modulus)\n",
    "plt.xlabel('Density')\n",
    "plt.ylabel('Y_Modulus')\n",
    "plt.show()"
   ]
  },
  {
   "cell_type": "code",
   "execution_count": 187,
   "metadata": {},
   "outputs": [],
   "source": [
    "X = df.Density.values.reshape(-1, 1)"
   ]
  },
  {
   "cell_type": "code",
   "execution_count": 188,
   "metadata": {},
   "outputs": [
    {
     "data": {
      "text/plain": [
       "array([[ 6.16149608],\n",
       "       [13.28435227],\n",
       "       [13.66078579],\n",
       "       [14.23428075],\n",
       "       [13.98092197]])"
      ]
     },
     "execution_count": 188,
     "metadata": {},
     "output_type": "execute_result"
    }
   ],
   "source": [
    "X[:5]"
   ]
  },
  {
   "cell_type": "code",
   "execution_count": 189,
   "metadata": {},
   "outputs": [
    {
     "data": {
      "text/plain": [
       "(155, 1)"
      ]
     },
     "execution_count": 189,
     "metadata": {},
     "output_type": "execute_result"
    }
   ],
   "source": [
    "X.shape"
   ]
  },
  {
   "cell_type": "code",
   "execution_count": 190,
   "metadata": {},
   "outputs": [],
   "source": [
    "y = df.Y_Modulus"
   ]
  },
  {
   "cell_type": "code",
   "execution_count": 191,
   "metadata": {},
   "outputs": [],
   "source": [
    "model = LinearRegression()"
   ]
  },
  {
   "cell_type": "code",
   "execution_count": 192,
   "metadata": {},
   "outputs": [
    {
     "data": {
      "text/plain": [
       "LinearRegression()"
      ]
     },
     "execution_count": 192,
     "metadata": {},
     "output_type": "execute_result"
    }
   ],
   "source": [
    "model.fit(X, y)"
   ]
  },
  {
   "cell_type": "code",
   "execution_count": 193,
   "metadata": {},
   "outputs": [
    {
     "name": "stdout",
     "output_type": "stream",
     "text": [
      "(155,)\n"
     ]
    }
   ],
   "source": [
    "y_pred = model.predict(X)\n",
    "print(y_pred.shape)"
   ]
  },
  {
   "cell_type": "code",
   "execution_count": 194,
   "metadata": {},
   "outputs": [
    {
     "data": {
      "image/png": "[encoded data removed]",
      "text/plain": [
       "<Figure size 432x288 with 1 Axes>"
      ]
     },
     "metadata": {
      "needs_background": "light"
     },
     "output_type": "display_data"
    }
   ],
   "source": [
    "plt.scatter(X, y)\n",
    "plt.plot(X, y_pred, color='red')\n",
    "plt.show()"
   ]
  },
  {
   "cell_type": "code",
   "execution_count": 195,
   "metadata": {},
   "outputs": [
    {
     "name": "stdout",
     "output_type": "stream",
     "text": [
      "[17.06812403]\n",
      "29.457625535055683\n"
     ]
    }
   ],
   "source": [
    "print(model.coef_)\n",
    "print(model.intercept_)"
   ]
  },
  {
   "cell_type": "code",
   "execution_count": 196,
   "metadata": {},
   "outputs": [
    {
     "data": {
      "text/plain": [
       "0.3348639307300051"
      ]
     },
     "execution_count": 196,
     "metadata": {},
     "output_type": "execute_result"
    }
   ],
   "source": [
    "reg = model.fit(X, y)\n",
    "reg.score(X, y)"
   ]
  },
  {
   "cell_type": "code",
   "execution_count": 197,
   "metadata": {},
   "outputs": [
    {
     "data": {
      "text/plain": [
       "0.3348639307300051"
      ]
     },
     "execution_count": 197,
     "metadata": {},
     "output_type": "execute_result"
    }
   ],
   "source": [
    "from sklearn.metrics import r2_score\n",
    "r2_score(y, y_pred)"
   ]
  },
  {
   "cell_type": "code",
   "execution_count": 198,
   "metadata": {},
   "outputs": [],
   "source": [
    "R2 = reg.score(X, y)"
   ]
  },
  {
   "cell_type": "code",
   "execution_count": 199,
   "metadata": {},
   "outputs": [
    {
     "data": {
      "text/html": [
       "        <script type=\"text/javascript\">\n",
       "        window.PlotlyConfig = {MathJaxConfig: 'local'};\n",
       "        if (window.MathJax) {MathJax.Hub.Config({SVG: {font: \"STIX-Web\"}});}\n",
       "        if (typeof require !== 'undefined') {\n",
       "        require.undef(\"plotly\");\n",
       "        requirejs.config({\n",
       "            paths: {\n",
       "                'plotly': ['https://cdn.plot.ly/plotly-latest.min']\n",
       "            }\n",
       "        });\n",
       "        require(['plotly'], function(Plotly) {\n",
       "            window._Plotly = Plotly;\n",
       "        });\n",
       "        }\n",
       "        </script>\n",
       "        "
      ]
     },
     "metadata": {},
     "output_type": "display_data"
    },
    {
     "data": {
      "application/vnd.plotly.v1+json": {
       "config": {
        "linkText": "Export to plot.ly",
        "plotlyServerURL": "https://plot.ly",
        "showLink": false
       },
       "data": [
        {
         "marker": {
          "color": [
           0.06,
           0.22,
           0.25,
           0.23,
           0.18,
           0.23,
           0.19,
           0.24,
           0.2,
           0.28,
           0.21,
           0.21,
           0.34,
           0.25,
           0.26,
           0.39,
           0.33,
           0.27,
           0.26,
           0.24,
           0.33,
           0.35,
           0.35,
           0.37,
           0.26,
           0.23,
           0.32,
           0.23,
           0.21,
           0.34,
           0.32,
           0.35,
           0.35,
           0.43,
           0.32,
           0.29,
           0.22,
           0.22,
           0.19,
           0.3,
           0.31,
           0.41,
           0.11,
           0.29,
           0.32,
           0.31,
           0.34,
           0.34,
           0.3,
           0.27,
           0.21,
           0.3,
           0.28,
           0.34,
           0.25,
           0.35,
           0.32,
           0.34,
           0.17,
           0.33,
           0.31,
           0.19,
           0.23,
           0.36,
           0.34,
           0.27,
           0.34,
           0.24,
           0.24,
           0.24,
           0.21,
           0.27,
           0.29,
           0.29,
           0.31,
           0.26,
           0.22,
           0.23,
           0.21,
           0.41,
           0.3,
           0.34,
           0.22,
           0.21,
           0.21,
           0.35,
           0.31,
           0.35,
           0.28,
           0.27,
           0.28,
           0.31,
           0.3,
           0.29,
           0.33,
           0.27,
           0.31,
           0.33,
           0.31,
           0.33,
           0.31,
           0.3,
           0.33,
           0.32,
           0.31,
           0.3,
           0.19,
           0.28,
           0.27,
           0.28,
           0.33,
           0.3,
           0.28,
           0.24,
           0.34,
           0.32,
           0.32,
           0.21,
           0.28,
           0.31,
           0.32,
           0.25,
           0.31,
           0.31,
           0.34,
           0.32,
           0.28,
           0.32,
           0.33,
           0.27,
           0.31,
           0.29,
           0.27,
           0.39,
           0.32,
           0.31,
           0.29,
           0.22,
           0.25,
           0.3,
           0.27,
           0.31,
           0.26,
           0.34,
           0.3,
           0.24,
           0.22,
           0.31,
           0.24,
           0.26,
           0.25,
           0.21,
           0.26,
           0.33,
           0.27
          ],
          "colorbar": {
           "tickfont": {
            "family": "Georgia",
            "size": 16
           },
           "title": {
            "font": {
             "family": "Georgia",
             "size": 18
            },
            "text": "Poisson Ratio"
           }
          },
          "size": 12
         },
         "mode": "markers",
         "name": "All Queries",
         "text": [
          "TaS2",
          "Ta3B4",
          "TaRh3",
          "TaC",
          "TaB",
          "TaB2",
          "TaSi2",
          "Ta2Be",
          "TaGa3",
          "TaTc",
          "TaSb2",
          "TaAs2",
          "TaMn2",
          "TaN",
          "TaTe5Pt",
          "TaRu",
          "Ta2Ni",
          "TaAs",
          "TaS2",
          "Ta5Si3",
          "TaNiGe",
          "TaCr2",
          "Ta2H",
          "TaH2",
          "Ta5Sb4",
          "TaIr3",
          "Ta3N5",
          "Ta(ICl)2",
          "TaSe3",
          "TaPd2",
          "TaPd3",
          "TaPt2",
          "TaPt3",
          "Ta3Sn",
          "TaSbRu",
          "TaAlCo2",
          "LiTaO3",
          "TaCu3Se4",
          "TaSi2",
          "Ta3Sb",
          "LuTaO4",
          "TaV2",
          "TaBe12",
          "TaSn2",
          "TaFe2",
          "TaNi3",
          "TaIr",
          "Ta2Co",
          "TaAgS3",
          "Ta2C",
          "TaGe2",
          "TaSe2",
          "TaCo3",
          "LiTaRu2",
          "TaZn2",
          "Ta2FeOs",
          "DyTaRu2",
          "YTaRu2",
          "MgTaIr2",
          "TaTiOs2",
          "TaRu3",
          "TaAl3",
          "Ta2Se",
          "Ta3Ru",
          "Ta2CrRu",
          "TaW3",
          "TaPd",
          "Ta2AlC",
          "Ba(TaN2)2",
          "TaCu3S4",
          "TaTe4Ir",
          "Sr2TaN3",
          "TaSiRh",
          "TaSiIr",
          "TaGaCo2",
          "TaCuS3",
          "CsTaN2",
          "KTaO3",
          "MgTa2N3",
          "BaTaS3",
          "GdTaO4",
          "Rb3TaO8",
          "NaTaN2",
          "Li5TaO5",
          "Ta2CS2",
          "TaTiRu2",
          "TaTiTc2",
          "LiTaRh2",
          "TaAlOs2",
          "TaAlRu2",
          "ScTaOs2",
          "ErTaRu2",
          "Ta2NbIr",
          "Ta2OsW",
          "Ta2VOs",
          "Ta2MoRu",
          "MgTaRu2",
          "YbTaRu2",
          "TmTaRu2",
          "TaZnCo2",
          "LuTaOs2",
          "TaGaOs2",
          "ScTaTc2",
          "LiTaIr2",
          "Mg2TaN3",
          "SmTaO4",
          "Li7TaN4",
          "Mg4Ta2O9",
          "TaFeP",
          "La3(TaN3)2",
          "RbTaO3",
          "NdTaO4",
          "ErTaO4",
          "Ta4AlC3",
          "YTaO4",
          "ScTaO4",
          "TaAgS3",
          "Ta3AlC2",
          "Ta2PdSe6",
          "Ta2NbOs",
          "Ta2NbRu",
          "Ta2MoOs",
          "HfTaRe2",
          "HfTaTc2",
          "TaZnRu2",
          "HoTaRu2",
          "LuTaRu2",
          "ErTaOs2",
          "TaBeRu2",
          "TaMn2Al",
          "TaFeRu2",
          "Ce3(TaN3)2",
          "TaGaFe2",
          "TaCuRh2",
          "TaTiMn2",
          "TaTiRe2",
          "ScTaRu2",
          "TaCu3Te4",
          "TaNi2Te3",
          "Ta2TcW",
          "TaNbTc2",
          "Ta2ReMo",
          "Ta2TcMo",
          "Ta2VRu",
          "Ta2FeMo",
          "YbTaO4",
          "Ta3SiTe6",
          "MgTaOs2",
          "TaAlFe2",
          "Ba2YTaO6",
          "Sr2TaGaO6",
          "SrTa2Bi2O9",
          "Sr2TaCrO6",
          "Ba2LaTaO6",
          "SrTaNO2"
         ],
         "type": "scatter",
         "x": [
          6.161496079124667,
          13.284352267039615,
          13.660785791537268,
          14.234280745831976,
          13.980921970165072,
          12.117551936282075,
          8.940924313041752,
          13.760917345439058,
          10.065940915115414,
          14.258204216280904,
          10.195171762784023,
          9.966510164621196,
          12.19993718006006,
          13.99558877075104,
          7.877542312167575,
          14.562693362966115,
          14.786231932402478,
          12.030570495981914,
          6.114813453901324,
          12.787425499139614,
          12.087661027237516,
          11.337189772845669,
          15.3250708609848,
          12.980927678266385,
          12.044593643409385,
          20.760334478466405,
          9.746088437782076,
          4.596406022531668,
          7.391898688457317,
          13.64678735371241,
          13.288574229538929,
          19.203666300271056,
          19.909510768362416,
          14.547674124574261,
          11.288527345811627,
          10.241165458171904,
          7.178371402696652,
          6.12470972152575,
          8.942224433847842,
          14.800719120005455,
          9.223565214467737,
          10.385660728483431,
          4.277046439762165,
          10.170191780619836,
          12.522527213669706,
          12.034614334829554,
          19.15566044990823,
          14.931410892573256,
          6.742764527577196,
          14.76867120079392,
          10.985472704348805,
          7.759003114415924,
          12.349032338039788,
          11.30085058564157,
          11.498523017978812,
          16.164722811212954,
          12.899983144691902,
          11.114342899545843,
          15.454880936700631,
          16.24397965392071,
          13.476563050762651,
          6.813775634350507,
          12.220232413877358,
          15.767729617435947,
          13.841976533809055,
          18.29084523624195,
          14.241042076957966,
          11.45046292579209,
          7.6393770387972975,
          4.8166796672721,
          8.61649455753059,
          6.056681055879299,
          11.654520741696546,
          14.82714464921429,
          11.562150039398734,
          5.611034233218629,
          6.449455409033488,
          6.796251483344093,
          11.372427899193108,
          5.7278261934414365,
          8.577403160190059,
          4.3900063878639255,
          7.914573174486601,
          4.429785676927648,
          8.080862405881463,
          11.63238220857548,
          11.265013084980856,
          11.268207863364609,
          16.169055087309392,
          11.461134785902198,
          15.411534995663793,
          13.175674064539304,
          15.789285102194825,
          18.394782943153746,
          15.710650848578537,
          14.134984125847225,
          10.980794684597257,
          13.9133881795463,
          13.30404690721213,
          11.632965284706447,
          17.779606270717817,
          17.180579295913017,
          10.604382395324846,
          16.209394642408007,
          5.567911527552611,
          8.298047363634355,
          3.967542660410444,
          6.00145439967494,
          11.640108246456196,
          8.489834419818086,
          6.063975920470381,
          7.951862761014036,
          9.223589274452436,
          12.601078527673154,
          7.2898256580272065,
          6.702910077377736,
          6.742514042082343,
          12.251033284200233,
          6.811193607711308,
          15.781759595357562,
          13.633753908163348,
          16.315492987162518,
          17.86085754979854,
          13.752785739703596,
          12.495894794589569,
          13.053476857603743,
          13.616237353815675,
          17.282387228072544,
          11.773136731791716,
          9.781667319985079,
          12.301920219995141,
          9.019804019400752,
          11.799447669082904,
          12.81865450192082,
          10.17393399198337,
          15.710756052787993,
          11.001082974051885,
          6.822485038741513,
          7.839498265329699,
          16.036825639827367,
          11.976583686556351,
          16.035174014808348,
          13.92800334400374,
          13.473476381687679,
          13.620045837210329,
          8.933639167688352,
          7.964755741045826,
          15.582927704950395,
          10.2376920474426,
          6.839389212825247,
          6.841673428629631,
          8.370517285830188,
          6.5567001162891705,
          6.914650475434778,
          7.794590136978303
         ],
         "y": [
          48.76000000000001,
          507.52,
          382.5,
          528.9,
          502.68,
          492,
          337.96,
          290.16,
          192,
          332.8,
          176.66,
          232.32,
          235.84,
          455,
          30.24,
          180.7,
          215.46,
          246.38,
          42.84,
          329.84,
          199.5,
          224.1,
          178.20000000000005,
          175.36,
          151.2,
          521.52,
          261.36,
          7.38,
          33.879999999999995,
          192.96,
          234.96,
          210.6,
          243.00000000000003,
          77.22,
          184.8,
          252.84,
          202.52,
          53.68,
          337.96,
          218.4,
          149.34,
          109.98,
          317.4600000000001,
          129,
          245.52,
          251.52,
          257.28000000000003,
          211.72,
          88.4,
          350.52,
          246.84,
          36.4,
          320,
          176.88000000000005,
          222.5,
          224.1,
          190.08,
          171.52,
          432.9,
          268.66,
          306.54,
          247.52,
          63.96,
          231.2,
          251.92,
          353.06,
          190.28,
          302.56,
          64.48,
          62,
          31.46,
          96.52,
          304.44,
          322.5,
          225.32,
          63,
          78.08,
          300.12,
          486.42,
          25.38,
          169,
          29.48,
          234.24,
          164.56,
          60.5,
          213.3,
          264.62,
          172.8,
          366.08,
          332.74,
          312.32,
          206.98,
          278.2,
          343.14,
          258.02000000000004,
          281.94,
          227.94,
          186.2,
          204.36,
          199.5,
          251.52,
          327.6,
          194.18,
          285.12,
          138.86,
          176.8,
          157.07999999999996,
          194.56,
          363.22,
          222.72,
          71.82000000000002,
          171.6,
          171.52,
          362.08,
          176.88000000000005,
          190.08,
          84.48,
          384.78,
          23.04,
          272.48,
          242.88,
          322.5,
          306.54,
          259.38,
          225.12,
          200.64,
          222.72,
          245.52,
          220.78,
          271.78000000000003,
          275.1,
          216.72,
          314.96,
          141.78,
          234.96,
          306.54,
          260.58,
          48.8,
          25,
          309.4000000000001,
          274.32,
          337.98,
          284.76,
          225.12,
          254.8,
          91.76,
          36.6,
          259.38,
          339.76,
          189,
          230,
          147.62,
          269.64,
          127.68,
          210.82
         ]
        },
        {
         "line": {
          "color": "blue",
          "width": 5
         },
         "mode": "lines+text",
         "name": "Model",
         "type": "scatter",
         "x": [
          6.161496079124667,
          13.284352267039615,
          13.660785791537268,
          14.234280745831976,
          13.980921970165072,
          12.117551936282075,
          8.940924313041752,
          13.760917345439058,
          10.065940915115414,
          14.258204216280904,
          10.195171762784023,
          9.966510164621196,
          12.19993718006006,
          13.99558877075104,
          7.877542312167575,
          14.562693362966115,
          14.786231932402478,
          12.030570495981914,
          6.114813453901324,
          12.787425499139614,
          12.087661027237516,
          11.337189772845669,
          15.3250708609848,
          12.980927678266385,
          12.044593643409385,
          20.760334478466405,
          9.746088437782076,
          4.596406022531668,
          7.391898688457317,
          13.64678735371241,
          13.288574229538929,
          19.203666300271056,
          19.909510768362416,
          14.547674124574261,
          11.288527345811627,
          10.241165458171904,
          7.178371402696652,
          6.12470972152575,
          8.942224433847842,
          14.800719120005455,
          9.223565214467737,
          10.385660728483431,
          4.277046439762165,
          10.170191780619836,
          12.522527213669706,
          12.034614334829554,
          19.15566044990823,
          14.931410892573256,
          6.742764527577196,
          14.76867120079392,
          10.985472704348805,
          7.759003114415924,
          12.349032338039788,
          11.30085058564157,
          11.498523017978812,
          16.164722811212954,
          12.899983144691902,
          11.114342899545843,
          15.454880936700631,
          16.24397965392071,
          13.476563050762651,
          6.813775634350507,
          12.220232413877358,
          15.767729617435947,
          13.841976533809055,
          18.29084523624195,
          14.241042076957966,
          11.45046292579209,
          7.6393770387972975,
          4.8166796672721,
          8.61649455753059,
          6.056681055879299,
          11.654520741696546,
          14.82714464921429,
          11.562150039398734,
          5.611034233218629,
          6.449455409033488,
          6.796251483344093,
          11.372427899193108,
          5.7278261934414365,
          8.577403160190059,
          4.3900063878639255,
          7.914573174486601,
          4.429785676927648,
          8.080862405881463,
          11.63238220857548,
          11.265013084980856,
          11.268207863364609,
          16.169055087309392,
          11.461134785902198,
          15.411534995663793,
          13.175674064539304,
          15.789285102194825,
          18.394782943153746,
          15.710650848578537,
          14.134984125847225,
          10.980794684597257,
          13.9133881795463,
          13.30404690721213,
          11.632965284706447,
          17.779606270717817,
          17.180579295913017,
          10.604382395324846,
          16.209394642408007,
          5.567911527552611,
          8.298047363634355,
          3.967542660410444,
          6.00145439967494,
          11.640108246456196,
          8.489834419818086,
          6.063975920470381,
          7.951862761014036,
          9.223589274452436,
          12.601078527673154,
          7.2898256580272065,
          6.702910077377736,
          6.742514042082343,
          12.251033284200233,
          6.811193607711308,
          15.781759595357562,
          13.633753908163348,
          16.315492987162518,
          17.86085754979854,
          13.752785739703596,
          12.495894794589569,
          13.053476857603743,
          13.616237353815675,
          17.282387228072544,
          11.773136731791716,
          9.781667319985079,
          12.301920219995141,
          9.019804019400752,
          11.799447669082904,
          12.81865450192082,
          10.17393399198337,
          15.710756052787993,
          11.001082974051885,
          6.822485038741513,
          7.839498265329699,
          16.036825639827367,
          11.976583686556351,
          16.035174014808348,
          13.92800334400374,
          13.473476381687679,
          13.620045837210329,
          8.933639167688352,
          7.964755741045826,
          15.582927704950395,
          10.2376920474426,
          6.839389212825247,
          6.841673428629631,
          8.370517285830188,
          6.5567001162891705,
          6.914650475434778,
          7.794590136978303
         ],
         "y": [
          134.62280483741932,
          256.19659771621696,
          262.621611802218,
          272.41009481395633,
          268.0857358062293,
          236.2815049500448,
          182.0624306724921,
          264.3306695837499,
          201.2643535749604,
          272.8184235748591,
          203.47008171175352,
          199.56725719291117,
          237.68766650926977,
          268.336070577786,
          163.91249478797133,
          278.0154820969385,
          281.8308661260571,
          234.79689493850296,
          133.826019999959,
          247.71499000678352,
          235.77132320703728,
          222.96218675448262,
          291.0278357924736,
          251.01770920061867,
          235.03624375811674,
          383.7975893633094,
          195.80507181983117,
          107.90965362993985,
          155.62346918304152,
          262.38268472916644,
          256.2686586958145,
          357.22818382090503,
          369.2756247497249,
          277.7591318731973,
          222.1316104141581,
          204.25510780933274,
          151.97895898542123,
          133.99493072322846,
          182.0846212956673,
          282.0781352409424,
          186.88658063460133,
          206.72137100507496,
          102.45878466036093,
          203.04372027785325,
          243.19367321446816,
          234.86591568152065,
          356.40881401264147,
          284.3087986251166,
          144.54396681160682,
          281.5311373808662,
          216.95903620513923,
          161.8892530580696,
          240.23244115826702,
          222.341945000054,
          225.71584259293112,
          305.35911942283946,
          249.63613786184146,
          219.15860868081506,
          293.2434502654196,
          306.7118850445754,
          259.4772752131265,
          145.75599318967693,
          238.03406807732577,
          298.58319035151754,
          265.7141978647978,
          341.6480406808589,
          272.5254980522374,
          224.8955469784896,
          159.84746036192652,
          111.66931151939252,
          176.52502336569393,
          132.83380902023032,
          228.378431090085,
          282.5291694510951,
          226.80183648632527,
          125.2274537765058,
          139.53773039652995,
          145.45688880674055,
          223.56363546564276,
          127.2208734395515,
          175.85780654729405,
          104.38679906523173,
          164.54454213905146,
          105.06575690488376,
          167.38278736571684,
          228.00056786088388,
          221.7302660937732,
          221.78479496748247,
          305.4330632485952,
          225.0776956105031,
          292.50361636751074,
          254.341664676346,
          298.9511020389561,
          343.4220623540511,
          297.60896284505446,
          270.7152877880792,
          216.87919118379477,
          266.93306069158405,
          256.5327482774509,
          228.01051987660742,
          332.92215060720355,
          322.6978839026066,
          210.45453954325197,
          306.1215837784218,
          124.4914300875945,
          171.08972716256955,
          97.17613576595362,
          131.89119360225112,
          228.13243683370933,
          174.36317242528241,
          132.95831867386897,
          165.1810054270109,
          186.8869912934044,
          244.53439678477068,
          153.8812740393187,
          143.86372611236763,
          144.5396914941124,
          238.55978115229607,
          145.71192283874464,
          298.8226557548526,
          262.1602282639682,
          307.93248348630203,
          334.30895751632755,
          264.19187832847615,
          242.73910778233108,
          252.2559875919824,
          261.86125354174555,
          324.43555431616636,
          230.40298352123062,
          196.41233659419876,
          239.42832568406175,
          183.4087592842504,
          230.85206186231983,
          248.2480104996548,
          203.10759280556073,
          297.61075848355017,
          217.22547422460735,
          145.9046463840691,
          163.26315427785593,
          303.17615463826377,
          233.87544137912514,
          303.1479644975845,
          267.1825141312945,
          259.42459156250857,
          261.9262572087,
          181.93808690800773,
          165.40106440933803,
          295.42896838782787,
          204.19582320419022,
          146.19316892399206,
          146.23215620265756,
          172.3266527832113,
          141.36819636176602,
          147.4777374890309,
          162.4966567731007
         ]
        }
       ],
       "layout": {
        "annotations": [
         {
          "font": {
           "color": "blue",
           "size": 36
          },
          "text": "Linear regression model:<br>Y=17.068X+29.458<br>R<sup>2</sup> = 0.335",
          "x": 15,
          "y": 500
         }
        ],
        "font": {
         "family": "Times New Roman",
         "size": 36
        },
        "height": 800,
        "hovermode": "closest",
        "showlegend": false,
        "template": {
         "data": {
          "bar": [
           {
            "error_x": {
             "color": "#2a3f5f"
            },
            "error_y": {
             "color": "#2a3f5f"
            },
            "marker": {
             "line": {
              "color": "#E5ECF6",
              "width": 0.5
             }
            },
            "type": "bar"
           }
          ],
          "barpolar": [
           {
            "marker": {
             "line": {
              "color": "#E5ECF6",
              "width": 0.5
             }
            },
            "type": "barpolar"
           }
          ],
          "carpet": [
           {
            "aaxis": {
             "endlinecolor": "#2a3f5f",
             "gridcolor": "white",
             "linecolor": "white",
             "minorgridcolor": "white",
             "startlinecolor": "#2a3f5f"
            },
            "baxis": {
             "endlinecolor": "#2a3f5f",
             "gridcolor": "white",
             "linecolor": "white",
             "minorgridcolor": "white",
             "startlinecolor": "#2a3f5f"
            },
            "type": "carpet"
           }
          ],
          "choropleth": [
           {
            "colorbar": {
             "outlinewidth": 0,
             "ticks": ""
            },
            "type": "choropleth"
           }
          ],
          "contour": [
           {
            "colorbar": {
             "outlinewidth": 0,
             "ticks": ""
            },
            "colorscale": [
             [
              0,
              "#0d0887"
             ],
             [
              0.1111111111111111,
              "#46039f"
             ],
             [
              0.2222222222222222,
              "#7201a8"
             ],
             [
              0.3333333333333333,
              "#9c179e"
             ],
             [
              0.4444444444444444,
              "#bd3786"
             ],
             [
              0.5555555555555556,
              "#d8576b"
             ],
             [
              0.6666666666666666,
              "#ed7953"
             ],
             [
              0.7777777777777778,
              "#fb9f3a"
             ],
             [
              0.8888888888888888,
              "#fdca26"
             ],
             [
              1,
              "#f0f921"
             ]
            ],
            "type": "contour"
           }
          ],
          "contourcarpet": [
           {
            "colorbar": {
             "outlinewidth": 0,
             "ticks": ""
            },
            "type": "contourcarpet"
           }
          ],
          "heatmap": [
           {
            "colorbar": {
             "outlinewidth": 0,
             "ticks": ""
            },
            "colorscale": [
             [
              0,
              "#0d0887"
             ],
             [
              0.1111111111111111,
              "#46039f"
             ],
             [
              0.2222222222222222,
              "#7201a8"
             ],
             [
              0.3333333333333333,
              "#9c179e"
             ],
             [
              0.4444444444444444,
              "#bd3786"
             ],
             [
              0.5555555555555556,
              "#d8576b"
             ],
             [
              0.6666666666666666,
              "#ed7953"
             ],
             [
              0.7777777777777778,
              "#fb9f3a"
             ],
             [
              0.8888888888888888,
              "#fdca26"
             ],
             [
              1,
              "#f0f921"
             ]
            ],
            "type": "heatmap"
           }
          ],
          "heatmapgl": [
           {
            "colorbar": {
             "outlinewidth": 0,
             "ticks": ""
            },
            "colorscale": [
             [
              0,
              "#0d0887"
             ],
             [
              0.1111111111111111,
              "#46039f"
             ],
             [
              0.2222222222222222,
              "#7201a8"
             ],
             [
              0.3333333333333333,
              "#9c179e"
             ],
             [
              0.4444444444444444,
              "#bd3786"
             ],
             [
              0.5555555555555556,
              "#d8576b"
             ],
             [
              0.6666666666666666,
              "#ed7953"
             ],
             [
              0.7777777777777778,
              "#fb9f3a"
             ],
             [
              0.8888888888888888,
              "#fdca26"
             ],
             [
              1,
              "#f0f921"
             ]
            ],
            "type": "heatmapgl"
           }
          ],
          "histogram": [
           {
            "marker": {
             "colorbar": {
              "outlinewidth": 0,
              "ticks": ""
             }
            },
            "type": "histogram"
           }
          ],
          "histogram2d": [
           {
            "colorbar": {
             "outlinewidth": 0,
             "ticks": ""
            },
            "colorscale": [
             [
              0,
              "#0d0887"
             ],
             [
              0.1111111111111111,
              "#46039f"
             ],
             [
              0.2222222222222222,
              "#7201a8"
             ],
             [
              0.3333333333333333,
              "#9c179e"
             ],
             [
              0.4444444444444444,
              "#bd3786"
             ],
             [
              0.5555555555555556,
              "#d8576b"
             ],
             [
              0.6666666666666666,
              "#ed7953"
             ],
             [
              0.7777777777777778,
              "#fb9f3a"
             ],
             [
              0.8888888888888888,
              "#fdca26"
             ],
             [
              1,
              "#f0f921"
             ]
            ],
            "type": "histogram2d"
           }
          ],
          "histogram2dcontour": [
           {
            "colorbar": {
             "outlinewidth": 0,
             "ticks": ""
            },
            "colorscale": [
             [
              0,
              "#0d0887"
             ],
             [
              0.1111111111111111,
              "#46039f"
             ],
             [
              0.2222222222222222,
              "#7201a8"
             ],
             [
              0.3333333333333333,
              "#9c179e"
             ],
             [
              0.4444444444444444,
              "#bd3786"
             ],
             [
              0.5555555555555556,
              "#d8576b"
             ],
             [
              0.6666666666666666,
              "#ed7953"
             ],
             [
              0.7777777777777778,
              "#fb9f3a"
             ],
             [
              0.8888888888888888,
              "#fdca26"
             ],
             [
              1,
              "#f0f921"
             ]
            ],
            "type": "histogram2dcontour"
           }
          ],
          "mesh3d": [
           {
            "colorbar": {
             "outlinewidth": 0,
             "ticks": ""
            },
            "type": "mesh3d"
           }
          ],
          "parcoords": [
           {
            "line": {
             "colorbar": {
              "outlinewidth": 0,
              "ticks": ""
             }
            },
            "type": "parcoords"
           }
          ],
          "pie": [
           {
            "automargin": true,
            "type": "pie"
           }
          ],
          "scatter": [
           {
            "marker": {
             "colorbar": {
              "outlinewidth": 0,
              "ticks": ""
             }
            },
            "type": "scatter"
           }
          ],
          "scatter3d": [
           {
            "line": {
             "colorbar": {
              "outlinewidth": 0,
              "ticks": ""
             }
            },
            "marker": {
             "colorbar": {
              "outlinewidth": 0,
              "ticks": ""
             }
            },
            "type": "scatter3d"
           }
          ],
          "scattercarpet": [
           {
            "marker": {
             "colorbar": {
              "outlinewidth": 0,
              "ticks": ""
             }
            },
            "type": "scattercarpet"
           }
          ],
          "scattergeo": [
           {
            "marker": {
             "colorbar": {
              "outlinewidth": 0,
              "ticks": ""
             }
            },
            "type": "scattergeo"
           }
          ],
          "scattergl": [
           {
            "marker": {
             "colorbar": {
              "outlinewidth": 0,
              "ticks": ""
             }
            },
            "type": "scattergl"
           }
          ],
          "scattermapbox": [
           {
            "marker": {
             "colorbar": {
              "outlinewidth": 0,
              "ticks": ""
             }
            },
            "type": "scattermapbox"
           }
          ],
          "scatterpolar": [
           {
            "marker": {
             "colorbar": {
              "outlinewidth": 0,
              "ticks": ""
             }
            },
            "type": "scatterpolar"
           }
          ],
          "scatterpolargl": [
           {
            "marker": {
             "colorbar": {
              "outlinewidth": 0,
              "ticks": ""
             }
            },
            "type": "scatterpolargl"
           }
          ],
          "scatterternary": [
           {
            "marker": {
             "colorbar": {
              "outlinewidth": 0,
              "ticks": ""
             }
            },
            "type": "scatterternary"
           }
          ],
          "surface": [
           {
            "colorbar": {
             "outlinewidth": 0,
             "ticks": ""
            },
            "colorscale": [
             [
              0,
              "#0d0887"
             ],
             [
              0.1111111111111111,
              "#46039f"
             ],
             [
              0.2222222222222222,
              "#7201a8"
             ],
             [
              0.3333333333333333,
              "#9c179e"
             ],
             [
              0.4444444444444444,
              "#bd3786"
             ],
             [
              0.5555555555555556,
              "#d8576b"
             ],
             [
              0.6666666666666666,
              "#ed7953"
             ],
             [
              0.7777777777777778,
              "#fb9f3a"
             ],
             [
              0.8888888888888888,
              "#fdca26"
             ],
             [
              1,
              "#f0f921"
             ]
            ],
            "type": "surface"
           }
          ],
          "table": [
           {
            "cells": {
             "fill": {
              "color": "#EBF0F8"
             },
             "line": {
              "color": "white"
             }
            },
            "header": {
             "fill": {
              "color": "#C8D4E3"
             },
             "line": {
              "color": "white"
             }
            },
            "type": "table"
           }
          ]
         },
         "layout": {
          "annotationdefaults": {
           "arrowcolor": "#2a3f5f",
           "arrowhead": 0,
           "arrowwidth": 1
          },
          "coloraxis": {
           "colorbar": {
            "outlinewidth": 0,
            "ticks": ""
           }
          },
          "colorscale": {
           "diverging": [
            [
             0,
             "#8e0152"
            ],
            [
             0.1,
             "#c51b7d"
            ],
            [
             0.2,
             "#de77ae"
            ],
            [
             0.3,
             "#f1b6da"
            ],
            [
             0.4,
             "#fde0ef"
            ],
            [
             0.5,
             "#f7f7f7"
            ],
            [
             0.6,
             "#e6f5d0"
            ],
            [
             0.7,
             "#b8e186"
            ],
            [
             0.8,
             "#7fbc41"
            ],
            [
             0.9,
             "#4d9221"
            ],
            [
             1,
             "#276419"
            ]
           ],
           "sequential": [
            [
             0,
             "#0d0887"
            ],
            [
             0.1111111111111111,
             "#46039f"
            ],
            [
             0.2222222222222222,
             "#7201a8"
            ],
            [
             0.3333333333333333,
             "#9c179e"
            ],
            [
             0.4444444444444444,
             "#bd3786"
            ],
            [
             0.5555555555555556,
             "#d8576b"
            ],
            [
             0.6666666666666666,
             "#ed7953"
            ],
            [
             0.7777777777777778,
             "#fb9f3a"
            ],
            [
             0.8888888888888888,
             "#fdca26"
            ],
            [
             1,
             "#f0f921"
            ]
           ],
           "sequentialminus": [
            [
             0,
             "#0d0887"
            ],
            [
             0.1111111111111111,
             "#46039f"
            ],
            [
             0.2222222222222222,
             "#7201a8"
            ],
            [
             0.3333333333333333,
             "#9c179e"
            ],
            [
             0.4444444444444444,
             "#bd3786"
            ],
            [
             0.5555555555555556,
             "#d8576b"
            ],
            [
             0.6666666666666666,
             "#ed7953"
            ],
            [
             0.7777777777777778,
             "#fb9f3a"
            ],
            [
             0.8888888888888888,
             "#fdca26"
            ],
            [
             1,
             "#f0f921"
            ]
           ]
          },
          "colorway": [
           "#636efa",
           "#EF553B",
           "#00cc96",
           "#ab63fa",
           "#FFA15A",
           "#19d3f3",
           "#FF6692",
           "#B6E880",
           "#FF97FF",
           "#FECB52"
          ],
          "font": {
           "color": "#2a3f5f"
          },
          "geo": {
           "bgcolor": "white",
           "lakecolor": "white",
           "landcolor": "#E5ECF6",
           "showlakes": true,
           "showland": true,
           "subunitcolor": "white"
          },
          "hoverlabel": {
           "align": "left"
          },
          "hovermode": "closest",
          "mapbox": {
           "style": "light"
          },
          "paper_bgcolor": "white",
          "plot_bgcolor": "#E5ECF6",
          "polar": {
           "angularaxis": {
            "gridcolor": "white",
            "linecolor": "white",
            "ticks": ""
           },
           "bgcolor": "#E5ECF6",
           "radialaxis": {
            "gridcolor": "white",
            "linecolor": "white",
            "ticks": ""
           }
          },
          "scene": {
           "xaxis": {
            "backgroundcolor": "#E5ECF6",
            "gridcolor": "white",
            "gridwidth": 2,
            "linecolor": "white",
            "showbackground": true,
            "ticks": "",
            "zerolinecolor": "white"
           },
           "yaxis": {
            "backgroundcolor": "#E5ECF6",
            "gridcolor": "white",
            "gridwidth": 2,
            "linecolor": "white",
            "showbackground": true,
            "ticks": "",
            "zerolinecolor": "white"
           },
           "zaxis": {
            "backgroundcolor": "#E5ECF6",
            "gridcolor": "white",
            "gridwidth": 2,
            "linecolor": "white",
            "showbackground": true,
            "ticks": "",
            "zerolinecolor": "white"
           }
          },
          "shapedefaults": {
           "line": {
            "color": "#2a3f5f"
           }
          },
          "ternary": {
           "aaxis": {
            "gridcolor": "white",
            "linecolor": "white",
            "ticks": ""
           },
           "baxis": {
            "gridcolor": "white",
            "linecolor": "white",
            "ticks": ""
           },
           "bgcolor": "#E5ECF6",
           "caxis": {
            "gridcolor": "white",
            "linecolor": "white",
            "ticks": ""
           }
          },
          "title": {
           "x": 0.05
          },
          "xaxis": {
           "automargin": true,
           "gridcolor": "white",
           "linecolor": "white",
           "ticks": "",
           "title": {
            "standoff": 15
           },
           "zerolinecolor": "white",
           "zerolinewidth": 2
          },
          "yaxis": {
           "automargin": true,
           "gridcolor": "white",
           "linecolor": "white",
           "ticks": "",
           "title": {
            "standoff": 15
           },
           "zerolinecolor": "white",
           "zerolinewidth": 2
          }
         }
        },
        "title": {
         "text": "Ta compounds"
        },
        "width": 800,
        "xaxis": {
         "gridwidth": 2,
         "title": {
          "text": "Density [g/cm<sup>-3</sup>]"
         },
         "zeroline": false
        },
        "yaxis": {
         "gridwidth": 2,
         "range": [
          0,
          600
         ],
         "title": {
          "text": "Young's Modulus [GPa]"
         },
         "zeroline": false
        }
       }
      },
      "text/html": [
       "<div>\n",
       "        \n",
       "        \n",
       "            <div id=\"047f28da-c87f-4f7b-8a50-57d6839d6382\" class=\"plotly-graph-div\" style=\"height:800px; width:800px;\"></div>\n",
       "            <script type=\"text/javascript\">\n",
       "                require([\"plotly\"], function(Plotly) {\n",
       "                    window.PLOTLYENV=window.PLOTLYENV || {};\n",
       "                    \n",
       "                if (document.getElementById(\"047f28da-c87f-4f7b-8a50-57d6839d6382\")) {\n",
       "                    Plotly.newPlot(\n",
       "                        '047f28da-c87f-4f7b-8a50-57d6839d6382',\n",
       "                        [{\"marker\": {\"color\": [0.06, 0.22, 0.25, 0.23, 0.18, 0.23, 0.19, 0.24, 0.2, 0.28, 0.21, 0.21, 0.34, 0.25, 0.26, 0.39, 0.33, 0.27, 0.26, 0.24, 0.33, 0.35, 0.35, 0.37, 0.26, 0.23, 0.32, 0.23, 0.21, 0.34, 0.32, 0.35, 0.35, 0.43, 0.32, 0.29, 0.22, 0.22, 0.19, 0.3, 0.31, 0.41, 0.11, 0.29, 0.32, 0.31, 0.34, 0.34, 0.3, 0.27, 0.21, 0.3, 0.28, 0.34, 0.25, 0.35, 0.32, 0.34, 0.17, 0.33, 0.31, 0.19, 0.23, 0.36, 0.34, 0.27, 0.34, 0.24, 0.24, 0.24, 0.21, 0.27, 0.29, 0.29, 0.31, 0.26, 0.22, 0.23, 0.21, 0.41, 0.3, 0.34, 0.22, 0.21, 0.21, 0.35, 0.31, 0.35, 0.28, 0.27, 0.28, 0.31, 0.3, 0.29, 0.33, 0.27, 0.31, 0.33, 0.31, 0.33, 0.31, 0.3, 0.33, 0.32, 0.31, 0.3, 0.19, 0.28, 0.27, 0.28, 0.33, 0.3, 0.28, 0.24, 0.34, 0.32, 0.32, 0.21, 0.28, 0.31, 0.32, 0.25, 0.31, 0.31, 0.34, 0.32, 0.28, 0.32, 0.33, 0.27, 0.31, 0.29, 0.27, 0.39, 0.32, 0.31, 0.29, 0.22, 0.25, 0.3, 0.27, 0.31, 0.26, 0.34, 0.3, 0.24, 0.22, 0.31, 0.24, 0.26, 0.25, 0.21, 0.26, 0.33, 0.27], \"colorbar\": {\"tickfont\": {\"family\": \"Georgia\", \"size\": 16}, \"title\": {\"font\": {\"family\": \"Georgia\", \"size\": 18}, \"text\": \"Poisson Ratio\"}}, \"size\": 12}, \"mode\": \"markers\", \"name\": \"All Queries\", \"text\": [\"TaS2\", \"Ta3B4\", \"TaRh3\", \"TaC\", \"TaB\", \"TaB2\", \"TaSi2\", \"Ta2Be\", \"TaGa3\", \"TaTc\", \"TaSb2\", \"TaAs2\", \"TaMn2\", \"TaN\", \"TaTe5Pt\", \"TaRu\", \"Ta2Ni\", \"TaAs\", \"TaS2\", \"Ta5Si3\", \"TaNiGe\", \"TaCr2\", \"Ta2H\", \"TaH2\", \"Ta5Sb4\", \"TaIr3\", \"Ta3N5\", \"Ta(ICl)2\", \"TaSe3\", \"TaPd2\", \"TaPd3\", \"TaPt2\", \"TaPt3\", \"Ta3Sn\", \"TaSbRu\", \"TaAlCo2\", \"LiTaO3\", \"TaCu3Se4\", \"TaSi2\", \"Ta3Sb\", \"LuTaO4\", \"TaV2\", \"TaBe12\", \"TaSn2\", \"TaFe2\", \"TaNi3\", \"TaIr\", \"Ta2Co\", \"TaAgS3\", \"Ta2C\", \"TaGe2\", \"TaSe2\", \"TaCo3\", \"LiTaRu2\", \"TaZn2\", \"Ta2FeOs\", \"DyTaRu2\", \"YTaRu2\", \"MgTaIr2\", \"TaTiOs2\", \"TaRu3\", \"TaAl3\", \"Ta2Se\", \"Ta3Ru\", \"Ta2CrRu\", \"TaW3\", \"TaPd\", \"Ta2AlC\", \"Ba(TaN2)2\", \"TaCu3S4\", \"TaTe4Ir\", \"Sr2TaN3\", \"TaSiRh\", \"TaSiIr\", \"TaGaCo2\", \"TaCuS3\", \"CsTaN2\", \"KTaO3\", \"MgTa2N3\", \"BaTaS3\", \"GdTaO4\", \"Rb3TaO8\", \"NaTaN2\", \"Li5TaO5\", \"Ta2CS2\", \"TaTiRu2\", \"TaTiTc2\", \"LiTaRh2\", \"TaAlOs2\", \"TaAlRu2\", \"ScTaOs2\", \"ErTaRu2\", \"Ta2NbIr\", \"Ta2OsW\", \"Ta2VOs\", \"Ta2MoRu\", \"MgTaRu2\", \"YbTaRu2\", \"TmTaRu2\", \"TaZnCo2\", \"LuTaOs2\", \"TaGaOs2\", \"ScTaTc2\", \"LiTaIr2\", \"Mg2TaN3\", \"SmTaO4\", \"Li7TaN4\", \"Mg4Ta2O9\", \"TaFeP\", \"La3(TaN3)2\", \"RbTaO3\", \"NdTaO4\", \"ErTaO4\", \"Ta4AlC3\", \"YTaO4\", \"ScTaO4\", \"TaAgS3\", \"Ta3AlC2\", \"Ta2PdSe6\", \"Ta2NbOs\", \"Ta2NbRu\", \"Ta2MoOs\", \"HfTaRe2\", \"HfTaTc2\", \"TaZnRu2\", \"HoTaRu2\", \"LuTaRu2\", \"ErTaOs2\", \"TaBeRu2\", \"TaMn2Al\", \"TaFeRu2\", \"Ce3(TaN3)2\", \"TaGaFe2\", \"TaCuRh2\", \"TaTiMn2\", \"TaTiRe2\", \"ScTaRu2\", \"TaCu3Te4\", \"TaNi2Te3\", \"Ta2TcW\", \"TaNbTc2\", \"Ta2ReMo\", \"Ta2TcMo\", \"Ta2VRu\", \"Ta2FeMo\", \"YbTaO4\", \"Ta3SiTe6\", \"MgTaOs2\", \"TaAlFe2\", \"Ba2YTaO6\", \"Sr2TaGaO6\", \"SrTa2Bi2O9\", \"Sr2TaCrO6\", \"Ba2LaTaO6\", \"SrTaNO2\"], \"type\": \"scatter\", \"x\": [6.161496079124667, 13.284352267039615, 13.660785791537268, 14.234280745831976, 13.980921970165072, 12.117551936282075, 8.940924313041752, 13.760917345439058, 10.065940915115414, 14.258204216280904, 10.195171762784023, 9.966510164621196, 12.19993718006006, 13.99558877075104, 7.877542312167575, 14.562693362966115, 14.786231932402478, 12.030570495981914, 6.114813453901324, 12.787425499139614, 12.087661027237516, 11.337189772845669, 15.3250708609848, 12.980927678266385, 12.044593643409385, 20.760334478466405, 9.746088437782076, 4.596406022531668, 7.391898688457317, 13.64678735371241, 13.288574229538929, 19.203666300271056, 19.909510768362416, 14.547674124574261, 11.288527345811627, 10.241165458171904, 7.178371402696652, 6.12470972152575, 8.942224433847842, 14.800719120005455, 9.223565214467737, 10.385660728483431, 4.277046439762165, 10.170191780619836, 12.522527213669706, 12.034614334829554, 19.15566044990823, 14.931410892573256, 6.742764527577196, 14.76867120079392, 10.985472704348805, 7.759003114415924, 12.349032338039788, 11.30085058564157, 11.498523017978812, 16.164722811212954, 12.899983144691902, 11.114342899545843, 15.454880936700631, 16.24397965392071, 13.476563050762651, 6.813775634350507, 12.220232413877358, 15.767729617435947, 13.841976533809055, 18.29084523624195, 14.241042076957966, 11.45046292579209, 7.6393770387972975, 4.8166796672721, 8.61649455753059, 6.056681055879299, 11.654520741696546, 14.82714464921429, 11.562150039398734, 5.611034233218629, 6.449455409033488, 6.796251483344093, 11.372427899193108, 5.7278261934414365, 8.577403160190059, 4.3900063878639255, 7.914573174486601, 4.429785676927648, 8.080862405881463, 11.63238220857548, 11.265013084980856, 11.268207863364609, 16.169055087309392, 11.461134785902198, 15.411534995663793, 13.175674064539304, 15.789285102194825, 18.394782943153746, 15.710650848578537, 14.134984125847225, 10.980794684597257, 13.9133881795463, 13.30404690721213, 11.632965284706447, 17.779606270717817, 17.180579295913017, 10.604382395324846, 16.209394642408007, 5.567911527552611, 8.298047363634355, 3.967542660410444, 6.00145439967494, 11.640108246456196, 8.489834419818086, 6.063975920470381, 7.951862761014036, 9.223589274452436, 12.601078527673154, 7.2898256580272065, 6.702910077377736, 6.742514042082343, 12.251033284200233, 6.811193607711308, 15.781759595357562, 13.633753908163348, 16.315492987162518, 17.86085754979854, 13.752785739703596, 12.495894794589569, 13.053476857603743, 13.616237353815675, 17.282387228072544, 11.773136731791716, 9.781667319985079, 12.301920219995141, 9.019804019400752, 11.799447669082904, 12.81865450192082, 10.17393399198337, 15.710756052787993, 11.001082974051885, 6.822485038741513, 7.839498265329699, 16.036825639827367, 11.976583686556351, 16.035174014808348, 13.92800334400374, 13.473476381687679, 13.620045837210329, 8.933639167688352, 7.964755741045826, 15.582927704950395, 10.2376920474426, 6.839389212825247, 6.841673428629631, 8.370517285830188, 6.5567001162891705, 6.914650475434778, 7.794590136978303], \"y\": [48.76000000000001, 507.52, 382.5, 528.9, 502.68, 492.0, 337.96, 290.16, 192.0, 332.8, 176.66, 232.32, 235.84, 455.0, 30.24, 180.7, 215.46, 246.38, 42.84, 329.84, 199.5, 224.1, 178.20000000000005, 175.36, 151.2, 521.52, 261.36, 7.38, 33.879999999999995, 192.96, 234.96, 210.6, 243.00000000000003, 77.22, 184.8, 252.84, 202.52, 53.68, 337.96, 218.4, 149.34, 109.98, 317.4600000000001, 129.0, 245.52, 251.52, 257.28000000000003, 211.72, 88.4, 350.52, 246.84, 36.4, 320.0, 176.88000000000005, 222.5, 224.1, 190.08, 171.52, 432.9, 268.66, 306.54, 247.52, 63.96, 231.2, 251.92, 353.06, 190.28, 302.56, 64.48, 62.0, 31.46, 96.52, 304.44, 322.5, 225.32, 63.0, 78.08, 300.12, 486.42, 25.38, 169.0, 29.48, 234.24, 164.56, 60.5, 213.3, 264.62, 172.8, 366.08, 332.74, 312.32, 206.98, 278.2, 343.14, 258.02000000000004, 281.94, 227.94, 186.2, 204.36, 199.5, 251.52, 327.6, 194.18, 285.12, 138.86, 176.8, 157.07999999999996, 194.56, 363.22, 222.72, 71.82000000000002, 171.6, 171.52, 362.08, 176.88000000000005, 190.08, 84.48, 384.78, 23.04, 272.48, 242.88, 322.5, 306.54, 259.38, 225.12, 200.64, 222.72, 245.52, 220.78, 271.78000000000003, 275.1, 216.72, 314.96, 141.78, 234.96, 306.54, 260.58, 48.8, 25.0, 309.4000000000001, 274.32, 337.98, 284.76, 225.12, 254.8, 91.76, 36.6, 259.38, 339.76, 189.0, 230.0, 147.62, 269.64, 127.68, 210.82]}, {\"line\": {\"color\": \"blue\", \"width\": 5}, \"mode\": \"lines+text\", \"name\": \"Model\", \"type\": \"scatter\", \"x\": [6.161496079124667, 13.284352267039615, 13.660785791537268, 14.234280745831976, 13.980921970165072, 12.117551936282075, 8.940924313041752, 13.760917345439058, 10.065940915115414, 14.258204216280904, 10.195171762784023, 9.966510164621196, 12.19993718006006, 13.99558877075104, 7.877542312167575, 14.562693362966115, 14.786231932402478, 12.030570495981914, 6.114813453901324, 12.787425499139614, 12.087661027237516, 11.337189772845669, 15.3250708609848, 12.980927678266385, 12.044593643409385, 20.760334478466405, 9.746088437782076, 4.596406022531668, 7.391898688457317, 13.64678735371241, 13.288574229538929, 19.203666300271056, 19.909510768362416, 14.547674124574261, 11.288527345811627, 10.241165458171904, 7.178371402696652, 6.12470972152575, 8.942224433847842, 14.800719120005455, 9.223565214467737, 10.385660728483431, 4.277046439762165, 10.170191780619836, 12.522527213669706, 12.034614334829554, 19.15566044990823, 14.931410892573256, 6.742764527577196, 14.76867120079392, 10.985472704348805, 7.759003114415924, 12.349032338039788, 11.30085058564157, 11.498523017978812, 16.164722811212954, 12.899983144691902, 11.114342899545843, 15.454880936700631, 16.24397965392071, 13.476563050762651, 6.813775634350507, 12.220232413877358, 15.767729617435947, 13.841976533809055, 18.29084523624195, 14.241042076957966, 11.45046292579209, 7.6393770387972975, 4.8166796672721, 8.61649455753059, 6.056681055879299, 11.654520741696546, 14.82714464921429, 11.562150039398734, 5.611034233218629, 6.449455409033488, 6.796251483344093, 11.372427899193108, 5.7278261934414365, 8.577403160190059, 4.3900063878639255, 7.914573174486601, 4.429785676927648, 8.080862405881463, 11.63238220857548, 11.265013084980856, 11.268207863364609, 16.169055087309392, 11.461134785902198, 15.411534995663793, 13.175674064539304, 15.789285102194825, 18.394782943153746, 15.710650848578537, 14.134984125847225, 10.980794684597257, 13.9133881795463, 13.30404690721213, 11.632965284706447, 17.779606270717817, 17.180579295913017, 10.604382395324846, 16.209394642408007, 5.567911527552611, 8.298047363634355, 3.967542660410444, 6.00145439967494, 11.640108246456196, 8.489834419818086, 6.063975920470381, 7.951862761014036, 9.223589274452436, 12.601078527673154, 7.2898256580272065, 6.702910077377736, 6.742514042082343, 12.251033284200233, 6.811193607711308, 15.781759595357562, 13.633753908163348, 16.315492987162518, 17.86085754979854, 13.752785739703596, 12.495894794589569, 13.053476857603743, 13.616237353815675, 17.282387228072544, 11.773136731791716, 9.781667319985079, 12.301920219995141, 9.019804019400752, 11.799447669082904, 12.81865450192082, 10.17393399198337, 15.710756052787993, 11.001082974051885, 6.822485038741513, 7.839498265329699, 16.036825639827367, 11.976583686556351, 16.035174014808348, 13.92800334400374, 13.473476381687679, 13.620045837210329, 8.933639167688352, 7.964755741045826, 15.582927704950395, 10.2376920474426, 6.839389212825247, 6.841673428629631, 8.370517285830188, 6.5567001162891705, 6.914650475434778, 7.794590136978303], \"y\": [134.62280483741932, 256.19659771621696, 262.621611802218, 272.41009481395633, 268.0857358062293, 236.2815049500448, 182.0624306724921, 264.3306695837499, 201.2643535749604, 272.8184235748591, 203.47008171175352, 199.56725719291117, 237.68766650926977, 268.336070577786, 163.91249478797133, 278.0154820969385, 281.8308661260571, 234.79689493850296, 133.826019999959, 247.71499000678352, 235.77132320703728, 222.96218675448262, 291.0278357924736, 251.01770920061867, 235.03624375811674, 383.7975893633094, 195.80507181983117, 107.90965362993985, 155.62346918304152, 262.38268472916644, 256.2686586958145, 357.22818382090503, 369.2756247497249, 277.7591318731973, 222.1316104141581, 204.25510780933274, 151.97895898542123, 133.99493072322846, 182.0846212956673, 282.0781352409424, 186.88658063460133, 206.72137100507496, 102.45878466036093, 203.04372027785325, 243.19367321446816, 234.86591568152065, 356.40881401264147, 284.3087986251166, 144.54396681160682, 281.5311373808662, 216.95903620513923, 161.8892530580696, 240.23244115826702, 222.341945000054, 225.71584259293112, 305.35911942283946, 249.63613786184146, 219.15860868081506, 293.2434502654196, 306.7118850445754, 259.4772752131265, 145.75599318967693, 238.03406807732577, 298.58319035151754, 265.7141978647978, 341.6480406808589, 272.5254980522374, 224.8955469784896, 159.84746036192652, 111.66931151939252, 176.52502336569393, 132.83380902023032, 228.378431090085, 282.5291694510951, 226.80183648632527, 125.2274537765058, 139.53773039652995, 145.45688880674055, 223.56363546564276, 127.2208734395515, 175.85780654729405, 104.38679906523173, 164.54454213905146, 105.06575690488376, 167.38278736571684, 228.00056786088388, 221.7302660937732, 221.78479496748247, 305.4330632485952, 225.0776956105031, 292.50361636751074, 254.341664676346, 298.9511020389561, 343.4220623540511, 297.60896284505446, 270.7152877880792, 216.87919118379477, 266.93306069158405, 256.5327482774509, 228.01051987660742, 332.92215060720355, 322.6978839026066, 210.45453954325197, 306.1215837784218, 124.4914300875945, 171.08972716256955, 97.17613576595362, 131.89119360225112, 228.13243683370933, 174.36317242528241, 132.95831867386897, 165.1810054270109, 186.8869912934044, 244.53439678477068, 153.8812740393187, 143.86372611236763, 144.5396914941124, 238.55978115229607, 145.71192283874464, 298.8226557548526, 262.1602282639682, 307.93248348630203, 334.30895751632755, 264.19187832847615, 242.73910778233108, 252.2559875919824, 261.86125354174555, 324.43555431616636, 230.40298352123062, 196.41233659419876, 239.42832568406175, 183.4087592842504, 230.85206186231983, 248.2480104996548, 203.10759280556073, 297.61075848355017, 217.22547422460735, 145.9046463840691, 163.26315427785593, 303.17615463826377, 233.87544137912514, 303.1479644975845, 267.1825141312945, 259.42459156250857, 261.9262572087, 181.93808690800773, 165.40106440933803, 295.42896838782787, 204.19582320419022, 146.19316892399206, 146.23215620265756, 172.3266527832113, 141.36819636176602, 147.4777374890309, 162.4966567731007]}],\n",
       "                        {\"annotations\": [{\"font\": {\"color\": \"blue\", \"size\": 36}, \"text\": \"Linear regression model:<br>Y=17.068X+29.458<br>R<sup>2</sup> = 0.335\", \"x\": 15, \"y\": 500}], \"font\": {\"family\": \"Times New Roman\", \"size\": 36}, \"height\": 800, \"hovermode\": \"closest\", \"showlegend\": false, \"template\": {\"data\": {\"bar\": [{\"error_x\": {\"color\": \"#2a3f5f\"}, \"error_y\": {\"color\": \"#2a3f5f\"}, \"marker\": {\"line\": {\"color\": \"#E5ECF6\", \"width\": 0.5}}, \"type\": \"bar\"}], \"barpolar\": [{\"marker\": {\"line\": {\"color\": \"#E5ECF6\", \"width\": 0.5}}, \"type\": \"barpolar\"}], \"carpet\": [{\"aaxis\": {\"endlinecolor\": \"#2a3f5f\", \"gridcolor\": \"white\", \"linecolor\": \"white\", \"minorgridcolor\": \"white\", \"startlinecolor\": \"#2a3f5f\"}, \"baxis\": {\"endlinecolor\": \"#2a3f5f\", \"gridcolor\": \"white\", \"linecolor\": \"white\", \"minorgridcolor\": \"white\", \"startlinecolor\": \"#2a3f5f\"}, \"type\": \"carpet\"}], \"choropleth\": [{\"colorbar\": {\"outlinewidth\": 0, \"ticks\": \"\"}, \"type\": \"choropleth\"}], \"contour\": [{\"colorbar\": {\"outlinewidth\": 0, \"ticks\": \"\"}, \"colorscale\": [[0.0, \"#0d0887\"], [0.1111111111111111, \"#46039f\"], [0.2222222222222222, \"#7201a8\"], [0.3333333333333333, \"#9c179e\"], [0.4444444444444444, \"#bd3786\"], [0.5555555555555556, \"#d8576b\"], [0.6666666666666666, \"#ed7953\"], [0.7777777777777778, \"#fb9f3a\"], [0.8888888888888888, \"#fdca26\"], [1.0, \"#f0f921\"]], \"type\": \"contour\"}], \"contourcarpet\": [{\"colorbar\": {\"outlinewidth\": 0, \"ticks\": \"\"}, \"type\": \"contourcarpet\"}], \"heatmap\": [{\"colorbar\": {\"outlinewidth\": 0, \"ticks\": \"\"}, \"colorscale\": [[0.0, \"#0d0887\"], [0.1111111111111111, \"#46039f\"], [0.2222222222222222, \"#7201a8\"], [0.3333333333333333, \"#9c179e\"], [0.4444444444444444, \"#bd3786\"], [0.5555555555555556, \"#d8576b\"], [0.6666666666666666, \"#ed7953\"], [0.7777777777777778, \"#fb9f3a\"], [0.8888888888888888, \"#fdca26\"], [1.0, \"#f0f921\"]], \"type\": \"heatmap\"}], \"heatmapgl\": [{\"colorbar\": {\"outlinewidth\": 0, \"ticks\": \"\"}, \"colorscale\": [[0.0, \"#0d0887\"], [0.1111111111111111, \"#46039f\"], [0.2222222222222222, \"#7201a8\"], [0.3333333333333333, \"#9c179e\"], [0.4444444444444444, \"#bd3786\"], [0.5555555555555556, \"#d8576b\"], [0.6666666666666666, \"#ed7953\"], [0.7777777777777778, \"#fb9f3a\"], [0.8888888888888888, \"#fdca26\"], [1.0, \"#f0f921\"]], \"type\": \"heatmapgl\"}], \"histogram\": [{\"marker\": {\"colorbar\": {\"outlinewidth\": 0, \"ticks\": \"\"}}, \"type\": \"histogram\"}], \"histogram2d\": [{\"colorbar\": {\"outlinewidth\": 0, \"ticks\": \"\"}, \"colorscale\": [[0.0, \"#0d0887\"], [0.1111111111111111, \"#46039f\"], [0.2222222222222222, \"#7201a8\"], [0.3333333333333333, \"#9c179e\"], [0.4444444444444444, \"#bd3786\"], [0.5555555555555556, \"#d8576b\"], [0.6666666666666666, \"#ed7953\"], [0.7777777777777778, \"#fb9f3a\"], [0.8888888888888888, \"#fdca26\"], [1.0, \"#f0f921\"]], \"type\": \"histogram2d\"}], \"histogram2dcontour\": [{\"colorbar\": {\"outlinewidth\": 0, \"ticks\": \"\"}, \"colorscale\": [[0.0, \"#0d0887\"], [0.1111111111111111, \"#46039f\"], [0.2222222222222222, \"#7201a8\"], [0.3333333333333333, \"#9c179e\"], [0.4444444444444444, \"#bd3786\"], [0.5555555555555556, \"#d8576b\"], [0.6666666666666666, \"#ed7953\"], [0.7777777777777778, \"#fb9f3a\"], [0.8888888888888888, \"#fdca26\"], [1.0, \"#f0f921\"]], \"type\": \"histogram2dcontour\"}], \"mesh3d\": [{\"colorbar\": {\"outlinewidth\": 0, \"ticks\": \"\"}, \"type\": \"mesh3d\"}], \"parcoords\": [{\"line\": {\"colorbar\": {\"outlinewidth\": 0, \"ticks\": \"\"}}, \"type\": \"parcoords\"}], \"pie\": [{\"automargin\": true, \"type\": \"pie\"}], \"scatter\": [{\"marker\": {\"colorbar\": {\"outlinewidth\": 0, \"ticks\": \"\"}}, \"type\": \"scatter\"}], \"scatter3d\": [{\"line\": {\"colorbar\": {\"outlinewidth\": 0, \"ticks\": \"\"}}, \"marker\": {\"colorbar\": {\"outlinewidth\": 0, \"ticks\": \"\"}}, \"type\": \"scatter3d\"}], \"scattercarpet\": [{\"marker\": {\"colorbar\": {\"outlinewidth\": 0, \"ticks\": \"\"}}, \"type\": \"scattercarpet\"}], \"scattergeo\": [{\"marker\": {\"colorbar\": {\"outlinewidth\": 0, \"ticks\": \"\"}}, \"type\": \"scattergeo\"}], \"scattergl\": [{\"marker\": {\"colorbar\": {\"outlinewidth\": 0, \"ticks\": \"\"}}, \"type\": \"scattergl\"}], \"scattermapbox\": [{\"marker\": {\"colorbar\": {\"outlinewidth\": 0, \"ticks\": \"\"}}, \"type\": \"scattermapbox\"}], \"scatterpolar\": [{\"marker\": {\"colorbar\": {\"outlinewidth\": 0, \"ticks\": \"\"}}, \"type\": \"scatterpolar\"}], \"scatterpolargl\": [{\"marker\": {\"colorbar\": {\"outlinewidth\": 0, \"ticks\": \"\"}}, \"type\": \"scatterpolargl\"}], \"scatterternary\": [{\"marker\": {\"colorbar\": {\"outlinewidth\": 0, \"ticks\": \"\"}}, \"type\": \"scatterternary\"}], \"surface\": [{\"colorbar\": {\"outlinewidth\": 0, \"ticks\": \"\"}, \"colorscale\": [[0.0, \"#0d0887\"], [0.1111111111111111, \"#46039f\"], [0.2222222222222222, \"#7201a8\"], [0.3333333333333333, \"#9c179e\"], [0.4444444444444444, \"#bd3786\"], [0.5555555555555556, \"#d8576b\"], [0.6666666666666666, \"#ed7953\"], [0.7777777777777778, \"#fb9f3a\"], [0.8888888888888888, \"#fdca26\"], [1.0, \"#f0f921\"]], \"type\": \"surface\"}], \"table\": [{\"cells\": {\"fill\": {\"color\": \"#EBF0F8\"}, \"line\": {\"color\": \"white\"}}, \"header\": {\"fill\": {\"color\": \"#C8D4E3\"}, \"line\": {\"color\": \"white\"}}, \"type\": \"table\"}]}, \"layout\": {\"annotationdefaults\": {\"arrowcolor\": \"#2a3f5f\", \"arrowhead\": 0, \"arrowwidth\": 1}, \"coloraxis\": {\"colorbar\": {\"outlinewidth\": 0, \"ticks\": \"\"}}, \"colorscale\": {\"diverging\": [[0, \"#8e0152\"], [0.1, \"#c51b7d\"], [0.2, \"#de77ae\"], [0.3, \"#f1b6da\"], [0.4, \"#fde0ef\"], [0.5, \"#f7f7f7\"], [0.6, \"#e6f5d0\"], [0.7, \"#b8e186\"], [0.8, \"#7fbc41\"], [0.9, \"#4d9221\"], [1, \"#276419\"]], \"sequential\": [[0.0, \"#0d0887\"], [0.1111111111111111, \"#46039f\"], [0.2222222222222222, \"#7201a8\"], [0.3333333333333333, \"#9c179e\"], [0.4444444444444444, \"#bd3786\"], [0.5555555555555556, \"#d8576b\"], [0.6666666666666666, \"#ed7953\"], [0.7777777777777778, \"#fb9f3a\"], [0.8888888888888888, \"#fdca26\"], [1.0, \"#f0f921\"]], \"sequentialminus\": [[0.0, \"#0d0887\"], [0.1111111111111111, \"#46039f\"], [0.2222222222222222, \"#7201a8\"], [0.3333333333333333, \"#9c179e\"], [0.4444444444444444, \"#bd3786\"], [0.5555555555555556, \"#d8576b\"], [0.6666666666666666, \"#ed7953\"], [0.7777777777777778, \"#fb9f3a\"], [0.8888888888888888, \"#fdca26\"], [1.0, \"#f0f921\"]]}, \"colorway\": [\"#636efa\", \"#EF553B\", \"#00cc96\", \"#ab63fa\", \"#FFA15A\", \"#19d3f3\", \"#FF6692\", \"#B6E880\", \"#FF97FF\", \"#FECB52\"], \"font\": {\"color\": \"#2a3f5f\"}, \"geo\": {\"bgcolor\": \"white\", \"lakecolor\": \"white\", \"landcolor\": \"#E5ECF6\", \"showlakes\": true, \"showland\": true, \"subunitcolor\": \"white\"}, \"hoverlabel\": {\"align\": \"left\"}, \"hovermode\": \"closest\", \"mapbox\": {\"style\": \"light\"}, \"paper_bgcolor\": \"white\", \"plot_bgcolor\": \"#E5ECF6\", \"polar\": {\"angularaxis\": {\"gridcolor\": \"white\", \"linecolor\": \"white\", \"ticks\": \"\"}, \"bgcolor\": \"#E5ECF6\", \"radialaxis\": {\"gridcolor\": \"white\", \"linecolor\": \"white\", \"ticks\": \"\"}}, \"scene\": {\"xaxis\": {\"backgroundcolor\": \"#E5ECF6\", \"gridcolor\": \"white\", \"gridwidth\": 2, \"linecolor\": \"white\", \"showbackground\": true, \"ticks\": \"\", \"zerolinecolor\": \"white\"}, \"yaxis\": {\"backgroundcolor\": \"#E5ECF6\", \"gridcolor\": \"white\", \"gridwidth\": 2, \"linecolor\": \"white\", \"showbackground\": true, \"ticks\": \"\", \"zerolinecolor\": \"white\"}, \"zaxis\": {\"backgroundcolor\": \"#E5ECF6\", \"gridcolor\": \"white\", \"gridwidth\": 2, \"linecolor\": \"white\", \"showbackground\": true, \"ticks\": \"\", \"zerolinecolor\": \"white\"}}, \"shapedefaults\": {\"line\": {\"color\": \"#2a3f5f\"}}, \"ternary\": {\"aaxis\": {\"gridcolor\": \"white\", \"linecolor\": \"white\", \"ticks\": \"\"}, \"baxis\": {\"gridcolor\": \"white\", \"linecolor\": \"white\", \"ticks\": \"\"}, \"bgcolor\": \"#E5ECF6\", \"caxis\": {\"gridcolor\": \"white\", \"linecolor\": \"white\", \"ticks\": \"\"}}, \"title\": {\"x\": 0.05}, \"xaxis\": {\"automargin\": true, \"gridcolor\": \"white\", \"linecolor\": \"white\", \"ticks\": \"\", \"title\": {\"standoff\": 15}, \"zerolinecolor\": \"white\", \"zerolinewidth\": 2}, \"yaxis\": {\"automargin\": true, \"gridcolor\": \"white\", \"linecolor\": \"white\", \"ticks\": \"\", \"title\": {\"standoff\": 15}, \"zerolinecolor\": \"white\", \"zerolinewidth\": 2}}}, \"title\": {\"text\": \"Ta compounds\"}, \"width\": 800, \"xaxis\": {\"gridwidth\": 2, \"title\": {\"text\": \"Density [g/cm<sup>-3</sup>]\"}, \"zeroline\": false}, \"yaxis\": {\"gridwidth\": 2, \"range\": [0, 600], \"title\": {\"text\": \"Young's Modulus [GPa]\"}, \"zeroline\": false}},\n",
       "                        {\"responsive\": true}\n",
       "                    ).then(function(){\n",
       "                            \n",
       "var gd = document.getElementById('047f28da-c87f-4f7b-8a50-57d6839d6382');\n",
       "var x = new MutationObserver(function (mutations, observer) {{\n",
       "        var display = window.getComputedStyle(gd).display;\n",
       "        if (!display || display === 'none') {{\n",
       "            console.log([gd, 'removed!']);\n",
       "            Plotly.purge(gd);\n",
       "            observer.disconnect();\n",
       "        }}\n",
       "}});\n",
       "\n",
       "// Listen for the removal of the full notebook cells\n",
       "var notebookContainer = gd.closest('#notebook-container');\n",
       "if (notebookContainer) {{\n",
       "    x.observe(notebookContainer, {childList: true});\n",
       "}}\n",
       "\n",
       "// Listen for the clearing of the current output cell\n",
       "var outputEl = gd.closest('.output');\n",
       "if (outputEl) {{\n",
       "    x.observe(outputEl, {childList: true});\n",
       "}}\n",
       "\n",
       "                        })\n",
       "                };\n",
       "                });\n",
       "            </script>\n",
       "        </div>"
      ]
     },
     "metadata": {},
     "output_type": "display_data"
    }
   ],
   "source": [
    "import plotly\n",
    "import plotly.graph_objs as go\n",
    "from plotly.offline import iplot\n",
    "\n",
    "plotly.offline.init_notebook_mode(connected=True)\n",
    "layout_test = go.Layout(title= \"Ta compounds\", hovermode= 'closest',\n",
    "                  font = dict(family='Times New Roman',size=36),\n",
    "                  xaxis= dict(title= 'Density [g/cm<sup>-3</sup>]',zeroline= False, gridwidth= 2), #To change range put command inside xaxis dictionary after gridwidth range=[-XX,XX]\n",
    "                  yaxis= dict(title= \"Young's Modulus [GPa]\",zeroline= False, gridwidth= 2,range=[0,600]), #To change range put command inside yaxis dictionary after gridwidth range=[-YY,YY]\n",
    "                  height = 800,\n",
    "                  width = 800,\n",
    "    showlegend= False           \n",
    ")\n",
    "\n",
    "#Scatter plot of collected data. Use df_oxide_all dataframe. df_oxide_all.Density will pull density column. Could change Density or IPF to Molar Volume or simply volume if you wanted.\n",
    "trace_test = go.Scatter(x = df.Density, y = df.Y_Modulus, mode = 'markers', text = df.Formula,\n",
    "                           marker=dict(size=12, color=(df['poisson_ratio']),\n",
    "                               colorbar = dict(title={ 'text': \"Poisson Ratio\", \n",
    "                                                    'font': {'family':'Georgia', 'size': 18}},  \n",
    "                                             tickfont={'family':'Georgia', 'size': 16 })), \n",
    "                        name = 'All Queries')\n",
    "\n",
    "predictions = y_pred.reshape(1,-1).tolist()[0]\n",
    "full_x_list =X.reshape(1,-1).tolist()[0]\n",
    "\n",
    "prediction = go.Scatter(x = full_x_list, y = predictions, mode = 'lines+text', \n",
    "                            line = dict(color = \"blue\", width = 5),name= \"Model\" )\n",
    "\n",
    "import plotly.express as px\n",
    "data_test = [trace_test, prediction]\n",
    "fig_test = go.Figure(data_test, layout=layout_test)\n",
    "fig_test.add_annotation(\n",
    "            x=15,\n",
    "            y=500,\n",
    "            text= f\"Linear regression model:<br>Y={model.coef_[0]:,.3f}X+{model.intercept_:,.3f}<br>R<sup>2</sup> = {R2:,.3f}\", \n",
    "            font=dict(\n",
    "                color=\"blue\",\n",
    "                size=36\n",
    "            )\n",
    "            )\n",
    "iplot(fig_test)"
   ]
  },
  {
   "cell_type": "code",
   "execution_count": null,
   "metadata": {},
   "outputs": [],
   "source": []
  }
 ],
 "metadata": {
  "kernelspec": {
   "display_name": "PythonData",
   "language": "python",
   "name": "pythondata"
  },
  "language_info": {
   "codemirror_mode": {
    "name": "ipython",
    "version": 3
   },
   "file_extension": ".py",
   "mimetype": "text/x-python",
   "name": "python",
   "nbconvert_exporter": "python",
   "pygments_lexer": "ipython3",
   "version": "3.7.7"
  }
 },
 "nbformat": 4,
 "nbformat_minor": 4
}
