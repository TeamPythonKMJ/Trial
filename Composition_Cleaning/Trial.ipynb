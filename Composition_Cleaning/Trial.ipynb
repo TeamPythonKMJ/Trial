{
 "cells": [
  {
   "cell_type": "code",
   "execution_count": 1,
   "metadata": {},
   "outputs": [],
   "source": [
    "import pandas as pd\n",
    "from pathlib import Path\n",
    "import matplotlib.pyplot as plt\n",
    "from sklearn.linear_model import LinearRegression"
   ]
  },
  {
   "cell_type": "code",
   "execution_count": 4,
   "metadata": {},
   "outputs": [
    {
     "data": {
      "text/html": [
       "<div>\n",
       "<style scoped>\n",
       "    .dataframe tbody tr th:only-of-type {\n",
       "        vertical-align: middle;\n",
       "    }\n",
       "\n",
       "    .dataframe tbody tr th {\n",
       "        vertical-align: top;\n",
       "    }\n",
       "\n",
       "    .dataframe thead th {\n",
       "        text-align: right;\n",
       "    }\n",
       "</style>\n",
       "<table border=\"1\" class=\"dataframe\">\n",
       "  <thead>\n",
       "    <tr style=\"text-align: right;\">\n",
       "      <th></th>\n",
       "      <th>Unnamed: 0</th>\n",
       "      <th>mp_id</th>\n",
       "      <th>Formula</th>\n",
       "      <th>Composition</th>\n",
       "      <th>IPF</th>\n",
       "      <th>Density</th>\n",
       "      <th>Elastic_Tensor</th>\n",
       "      <th>E_above_Hull</th>\n",
       "      <th>G_VRH</th>\n",
       "      <th>K_VRH</th>\n",
       "      <th>Elastic_Anisotropy</th>\n",
       "      <th>poisson_ratio</th>\n",
       "      <th>Y_Modulus</th>\n",
       "    </tr>\n",
       "  </thead>\n",
       "  <tbody>\n",
       "    <tr>\n",
       "      <th>0</th>\n",
       "      <td>0</td>\n",
       "      <td>mp-1014229</td>\n",
       "      <td>Ti2Zn</td>\n",
       "      <td>{'Ti': 2.0, 'Zn': 1.0}</td>\n",
       "      <td>0.163919</td>\n",
       "      <td>5.462442</td>\n",
       "      <td>{'G_Reuss': 29.0, 'G_VRH': 47.0, 'G_Voigt': 65...</td>\n",
       "      <td>0.0</td>\n",
       "      <td>47.0</td>\n",
       "      <td>96.0</td>\n",
       "      <td>6.32</td>\n",
       "      <td>0.29</td>\n",
       "      <td>121.26</td>\n",
       "    </tr>\n",
       "    <tr>\n",
       "      <th>1</th>\n",
       "      <td>1</td>\n",
       "      <td>mp-1014230</td>\n",
       "      <td>TiZn</td>\n",
       "      <td>{'Ti': 1.0, 'Zn': 1.0}</td>\n",
       "      <td>0.174651</td>\n",
       "      <td>6.036543</td>\n",
       "      <td>{'G_Reuss': 44.0, 'G_VRH': 56.0, 'G_Voigt': 69...</td>\n",
       "      <td>0.0</td>\n",
       "      <td>56.0</td>\n",
       "      <td>115.0</td>\n",
       "      <td>2.85</td>\n",
       "      <td>0.29</td>\n",
       "      <td>144.48</td>\n",
       "    </tr>\n",
       "    <tr>\n",
       "      <th>2</th>\n",
       "      <td>2</td>\n",
       "      <td>mp-1017985</td>\n",
       "      <td>TiAg</td>\n",
       "      <td>{'Ti': 1.0, 'Ag': 1.0}</td>\n",
       "      <td>0.226014</td>\n",
       "      <td>7.340359</td>\n",
       "      <td>{'G_Reuss': 32.0, 'G_VRH': 35.0, 'G_Voigt': 37...</td>\n",
       "      <td>0.0</td>\n",
       "      <td>35.0</td>\n",
       "      <td>111.0</td>\n",
       "      <td>0.80</td>\n",
       "      <td>0.36</td>\n",
       "      <td>95.20</td>\n",
       "    </tr>\n",
       "    <tr>\n",
       "      <th>3</th>\n",
       "      <td>3</td>\n",
       "      <td>mp-1018028</td>\n",
       "      <td>TiS</td>\n",
       "      <td>{'Ti': 1.0, 'S': 1.0}</td>\n",
       "      <td>0.182130</td>\n",
       "      <td>4.442034</td>\n",
       "      <td>{'G_Reuss': 97.0, 'G_VRH': 101.0, 'G_Voigt': 1...</td>\n",
       "      <td>0.0</td>\n",
       "      <td>101.0</td>\n",
       "      <td>141.0</td>\n",
       "      <td>0.44</td>\n",
       "      <td>0.21</td>\n",
       "      <td>244.42</td>\n",
       "    </tr>\n",
       "    <tr>\n",
       "      <th>4</th>\n",
       "      <td>4</td>\n",
       "      <td>mp-1018123</td>\n",
       "      <td>TiAu2</td>\n",
       "      <td>{'Ti': 1.0, 'Au': 2.0}</td>\n",
       "      <td>0.248079</td>\n",
       "      <td>14.162674</td>\n",
       "      <td>{'G_Reuss': -92.0, 'G_VRH': -17.0, 'G_Voigt': ...</td>\n",
       "      <td>0.0</td>\n",
       "      <td>-17.0</td>\n",
       "      <td>130.0</td>\n",
       "      <td>-8.12</td>\n",
       "      <td>0.57</td>\n",
       "      <td>-53.38</td>\n",
       "    </tr>\n",
       "  </tbody>\n",
       "</table>\n",
       "</div>"
      ],
      "text/plain": [
       "   Unnamed: 0       mp_id Formula             Composition       IPF  \\\n",
       "0           0  mp-1014229   Ti2Zn  {'Ti': 2.0, 'Zn': 1.0}  0.163919   \n",
       "1           1  mp-1014230    TiZn  {'Ti': 1.0, 'Zn': 1.0}  0.174651   \n",
       "2           2  mp-1017985    TiAg  {'Ti': 1.0, 'Ag': 1.0}  0.226014   \n",
       "3           3  mp-1018028     TiS   {'Ti': 1.0, 'S': 1.0}  0.182130   \n",
       "4           4  mp-1018123   TiAu2  {'Ti': 1.0, 'Au': 2.0}  0.248079   \n",
       "\n",
       "     Density                                     Elastic_Tensor  E_above_Hull  \\\n",
       "0   5.462442  {'G_Reuss': 29.0, 'G_VRH': 47.0, 'G_Voigt': 65...           0.0   \n",
       "1   6.036543  {'G_Reuss': 44.0, 'G_VRH': 56.0, 'G_Voigt': 69...           0.0   \n",
       "2   7.340359  {'G_Reuss': 32.0, 'G_VRH': 35.0, 'G_Voigt': 37...           0.0   \n",
       "3   4.442034  {'G_Reuss': 97.0, 'G_VRH': 101.0, 'G_Voigt': 1...           0.0   \n",
       "4  14.162674  {'G_Reuss': -92.0, 'G_VRH': -17.0, 'G_Voigt': ...           0.0   \n",
       "\n",
       "   G_VRH  K_VRH  Elastic_Anisotropy  poisson_ratio  Y_Modulus  \n",
       "0   47.0   96.0                6.32           0.29     121.26  \n",
       "1   56.0  115.0                2.85           0.29     144.48  \n",
       "2   35.0  111.0                0.80           0.36      95.20  \n",
       "3  101.0  141.0                0.44           0.21     244.42  \n",
       "4  -17.0  130.0               -8.12           0.57     -53.38  "
      ]
     },
     "execution_count": 4,
     "metadata": {},
     "output_type": "execute_result"
    }
   ],
   "source": [
    "df = pd.read_csv(Path('../Resources/Ti_binary_dataframe.csv'))\n",
    "df.head()"
   ]
  },
  {
   "cell_type": "code",
   "execution_count": 5,
   "metadata": {},
   "outputs": [
    {
     "data": {
      "image/png": "[encoded data removed]",
      "text/plain": [
       "<Figure size 432x288 with 1 Axes>"
      ]
     },
     "metadata": {
      "needs_background": "light"
     },
     "output_type": "display_data"
    }
   ],
   "source": [
    "plt.scatter(df.Density, df.Y_Modulus)\n",
    "plt.xlabel('Density')\n",
    "plt.ylabel('Y_Modulus')\n",
    "plt.show()"
   ]
  },
  {
   "cell_type": "code",
   "execution_count": 6,
   "metadata": {},
   "outputs": [],
   "source": [
    "X = df.Density.values.reshape(-1, 1)"
   ]
  },
  {
   "cell_type": "code",
   "execution_count": 7,
   "metadata": {},
   "outputs": [
    {
     "data": {
      "text/plain": [
       "array([[ 5.46244184],\n",
       "       [ 6.03654254],\n",
       "       [ 7.34035857],\n",
       "       [ 4.44203401],\n",
       "       [14.16267401]])"
      ]
     },
     "execution_count": 7,
     "metadata": {},
     "output_type": "execute_result"
    }
   ],
   "source": [
    "X[:5]"
   ]
  },
  {
   "cell_type": "code",
   "execution_count": 8,
   "metadata": {},
   "outputs": [
    {
     "data": {
      "text/plain": [
       "(337, 1)"
      ]
     },
     "execution_count": 8,
     "metadata": {},
     "output_type": "execute_result"
    }
   ],
   "source": [
    "X.shape"
   ]
  },
  {
   "cell_type": "code",
   "execution_count": 9,
   "metadata": {},
   "outputs": [],
   "source": [
    "y = df.Y_Modulus"
   ]
  },
  {
   "cell_type": "code",
   "execution_count": 10,
   "metadata": {},
   "outputs": [],
   "source": [
    "model = LinearRegression()"
   ]
  },
  {
   "cell_type": "code",
   "execution_count": 11,
   "metadata": {},
   "outputs": [
    {
     "data": {
      "text/plain": [
       "LinearRegression()"
      ]
     },
     "execution_count": 11,
     "metadata": {},
     "output_type": "execute_result"
    }
   ],
   "source": [
    "model.fit(X, y)"
   ]
  },
  {
   "cell_type": "code",
   "execution_count": 12,
   "metadata": {},
   "outputs": [
    {
     "name": "stdout",
     "output_type": "stream",
     "text": [
      "(337,)\n"
     ]
    }
   ],
   "source": [
    "y_pred = model.predict(X)\n",
    "print(y_pred.shape)"
   ]
  },
  {
   "cell_type": "code",
   "execution_count": 13,
   "metadata": {},
   "outputs": [
    {
     "data": {
      "image/png": "[encoded data removed]",
      "text/plain": [
       "<Figure size 432x288 with 1 Axes>"
      ]
     },
     "metadata": {
      "needs_background": "light"
     },
     "output_type": "display_data"
    }
   ],
   "source": [
    "plt.scatter(X, y)\n",
    "plt.plot(X, y_pred, color='red')\n",
    "plt.show()"
   ]
  },
  {
   "cell_type": "code",
   "execution_count": 14,
   "metadata": {},
   "outputs": [
    {
     "name": "stdout",
     "output_type": "stream",
     "text": [
      "[8.36122193]\n",
      "119.42065107480727\n"
     ]
    }
   ],
   "source": [
    "print(model.coef_)\n",
    "print(model.intercept_)"
   ]
  },
  {
   "cell_type": "code",
   "execution_count": null,
   "metadata": {},
   "outputs": [],
   "source": []
  }
 ],
 "metadata": {
  "kernelspec": {
   "display_name": "PythonData",
   "language": "python",
   "name": "pythondata"
  },
  "language_info": {
   "codemirror_mode": {
    "name": "ipython",
    "version": 3
   },
   "file_extension": ".py",
   "mimetype": "text/x-python",
   "name": "python",
   "nbconvert_exporter": "python",
   "pygments_lexer": "ipython3",
   "version": "3.7.6"
  }
 },
 "nbformat": 4,
 "nbformat_minor": 4
}
